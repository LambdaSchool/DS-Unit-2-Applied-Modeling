{
 "cells": [
  {
   "cell_type": "markdown",
   "metadata": {
    "colab_type": "text",
    "id": "view-in-github"
   },
   "source": [
    "<a href=\"https://colab.research.google.com/github/dunkelweizen/DS-Unit-2-Applied-Modeling/blob/master/Copy_of_assignment_applied_modeling_2.ipynb\" target=\"_parent\"><img src=\"https://colab.research.google.com/assets/colab-badge.svg\" alt=\"Open In Colab\"/></a>"
   ]
  },
  {
   "cell_type": "markdown",
   "metadata": {
    "colab_type": "text",
    "id": "nCc3XZEyG3XV"
   },
   "source": [
    "Lambda School Data Science\n",
    "\n",
    "*Unit 2, Sprint 3, Module 2*\n",
    "\n",
    "---\n",
    "\n",
    "\n",
    "# Permutation & Boosting\n",
    "\n",
    "You will use your portfolio project dataset for all assignments this sprint.\n",
    "\n",
    "## Assignment\n",
    "\n",
    "Complete these tasks for your project, and document your work.\n",
    "\n",
    "- [ ] If you haven't completed assignment #1, please do so first.\n",
    "- [ ] Continue to clean and explore your data. Make exploratory visualizations.\n",
    "- [ ] Fit a model. Does it beat your baseline? \n",
    "- [ ] Try xgboost.\n",
    "- [ ] Get your model's permutation importances.\n",
    "\n",
    "I had to run my model locally because it was taking too long in Colab. My initial models were giving me a validation accuracy of around 21-22% which isn't great but is better than baseline. With XGBoost, I got a validation accuracy of around 31%. \n",
    "Since I'm using leave-one-out-cross-validation instead of a train/test/validation split, I had to fit permutation importance to my training set, which shows how important different features are to that set but does not generalize to other sets of data. \n",
    "\n",
    "You should try to complete an initial model today, because the rest of the week, we're making model interpretation visualizations.\n",
    "\n",
    "But, if you aren't ready to try xgboost and permutation importances with your dataset today, that's okay. You can practice with another dataset instead. You may choose any dataset you've worked with previously.\n",
    "\n",
    "The data subdirectory includes the Titanic dataset for classification and the NYC apartments dataset for regression. You may want to choose one of these datasets, because example solutions will be available for each.\n",
    "\n",
    "\n",
    "## Reading\n",
    "\n",
    "Top recommendations in _**bold italic:**_\n",
    "\n",
    "#### Permutation Importances\n",
    "- _**[Kaggle / Dan Becker: Machine Learning Explainability](https://www.kaggle.com/dansbecker/permutation-importance)**_\n",
    "- [Christoph Molnar: Interpretable Machine Learning](https://christophm.github.io/interpretable-ml-book/feature-importance.html)\n",
    "\n",
    "#### (Default) Feature Importances\n",
    "  - [Ando Saabas: Selecting good features, Part 3, Random Forests](https://blog.datadive.net/selecting-good-features-part-iii-random-forests/)\n",
    "  - [Terence Parr, et al: Beware Default Random Forest Importances](https://explained.ai/rf-importance/index.html)\n",
    "\n",
    "#### Gradient Boosting\n",
    "  - [A Gentle Introduction to the Gradient Boosting Algorithm for Machine Learning](https://machinelearningmastery.com/gentle-introduction-gradient-boosting-algorithm-machine-learning/)\n",
    "  - _**[A Kaggle Master Explains Gradient Boosting](http://blog.kaggle.com/2017/01/23/a-kaggle-master-explains-gradient-boosting/)**_\n",
    "  - [_An Introduction to Statistical Learning_](http://www-bcf.usc.edu/~gareth/ISL/ISLR%20Seventh%20Printing.pdf) Chapter 8\n",
    "  - [Gradient Boosting Explained](http://arogozhnikov.github.io/2016/06/24/gradient_boosting_explained.html)\n",
    "  - _**[Boosting](https://www.youtube.com/watch?v=GM3CDQfQ4sw) (2.5 minute video)**_"
   ]
  },
  {
   "cell_type": "code",
   "execution_count": 2,
   "metadata": {
    "colab": {},
    "colab_type": "code",
    "id": "MXq86vrmZebW"
   },
   "outputs": [],
   "source": [
    "# -*- coding: utf-8 -*-\n",
    "\"\"\"\n",
    "Created on Wed Dec  4 21:11:16 2019\n",
    "\n",
    "@author: caino\n",
    "\"\"\"\n",
    "import pandas as pd\n",
    "import numpy as np\n",
    "import matplotlib.pyplot as plt\n",
    "from sklearn.preprocessing import OrdinalEncoder\n",
    "from sklearn.model_selection import LeaveOneOut\n",
    "from sklearn.model_selection import cross_val_score\n",
    "from sklearn.model_selection import train_test_split\n",
    "from sklearn.model_selection import RandomizedSearchCV\n",
    "from sklearn.linear_model import LogisticRegression\n",
    "from sklearn.ensemble import RandomForestClassifier\n",
    "from sklearn.model_selection import GridSearchCV\n",
    "from sklearn.feature_selection import RFE"
   ]
  },
  {
   "cell_type": "code",
   "execution_count": 3,
   "metadata": {
    "colab": {},
    "colab_type": "code",
    "id": "MXq86vrmZebW"
   },
   "outputs": [],
   "source": [
    "#%%explore and clean data\n",
    "\n",
    "\n",
    "df = pd.read_csv('https://raw.githubusercontent.com/fivethirtyeight/data/master/thanksgiving-2015/thanksgiving-2015-poll-data.csv')\n",
    "\n",
    "\n",
    "\n",
    "df.columns = ['ID', 'Celebrate', 'Main_Dish', 'Main_Dish_Other', 'Main_Dish_Cooked', 'Main_Dish_Cooked_Other', 'Stuffing',\n",
    "              'Stuffing_Other', 'Cranberry_Sauce', 'Cranberry_Sauce_Other', 'Gravy', 'Brussel_Sprouts', 'Carrots', 'Cauliflower',\n",
    "              'Corn', 'Cornbread', 'Fruit_Salad', 'Green_Beans', 'Mac_and_Cheese', 'Mashed_Potatoes', 'Rolls_Biscuits', 'Squash',\n",
    "              'Salad', 'Sweet_Potatoes', 'Side_Dish_Other1', 'Side_Dish_Other2', 'Apple_Pie', 'Buttermilk_Pie', 'Cherry_Pie', \n",
    "              'Chocolate_Pie', 'Coconut_Cream_Pie', 'Key_Lime_Pie', 'Peach_Pie', 'Pecan_Pie', 'Pumpkin_Pie', 'Sweet_Potato_Pie', \n",
    "              'No_Pie', 'Other_Pie1', 'Other_Pie2', 'Apple_Cobbler', 'Blondies', 'Brownies', 'Carrot_Cake', 'Cheesecake', 'Cookies',\n",
    "              'Fudge', 'Ice_Cream', 'Peach_Cobbler', 'No_Dessert', 'Other_Dessert1', 'Other_Dessert2', 'Prayer', 'Travel_Distance', 'Parade',\n",
    "              'Kids_Table_Age', 'Old_Friends', 'Friendsgiving', 'Black_Friday_Shopper', 'Retail_Worker', 'Black_Friday_Worker', 'Neighborhood_Type',\n",
    "              'Age', 'Gender', 'Household_Earnings', 'US_Region']"
   ]
  },
  {
   "cell_type": "code",
   "execution_count": 4,
   "metadata": {
    "colab": {},
    "colab_type": "code",
    "id": "MXq86vrmZebW"
   },
   "outputs": [],
   "source": [
    "#get rid of any rows where they don't celebrate\n",
    "df = df.drop(df[df.Celebrate == 'No'].index)\n",
    "df = df.drop('Celebrate', axis = 1)\n",
    "#remove any rows where no US_Region is given"
   ]
  },
  {
   "cell_type": "code",
   "execution_count": 5,
   "metadata": {},
   "outputs": [],
   "source": [
    "side_dishes = ['Stuffing',\n",
    "              'Stuffing_Other', 'Cranberry_Sauce', 'Cranberry_Sauce_Other', 'Gravy', 'Brussel_Sprouts', 'Carrots', 'Cauliflower',\n",
    "              'Corn', 'Cornbread', 'Fruit_Salad', 'Green_Beans', 'Mac_and_Cheese', 'Mashed_Potatoes', 'Rolls_Biscuits', 'Squash',\n",
    "              'Salad', 'Sweet_Potatoes', 'Side_Dish_Other1', 'Side_Dish_Other2', 'Apple_Pie', 'Buttermilk_Pie', 'Cherry_Pie', \n",
    "              'Chocolate_Pie', 'Coconut_Cream_Pie', 'Key_Lime_Pie', 'Peach_Pie', 'Pecan_Pie', 'Pumpkin_Pie', 'Sweet_Potato_Pie', \n",
    "              'No_Pie', 'Other_Pie1', 'Other_Pie2', 'Apple_Cobbler', 'Blondies', 'Brownies', 'Carrot_Cake', 'Cheesecake', 'Cookies',\n",
    "              'Fudge', 'Ice_Cream', 'Peach_Cobbler', 'No_Dessert', 'Other_Dessert1', 'Other_Dessert2']\n",
    "\n",
    "vegetables = ['Brussel_Sprouts', 'Carrots', 'Cauliflower', 'Corn', 'Green_Beans',\n",
    "              'Squash', 'Salad']\n",
    "starches = ['Stuffing', 'Cornbread', 'Mac_and_Cheese', 'Mashed_Potatoes', 'Rolls_Biscuits',\n",
    "            'Sweet_Potatoes']\n",
    "sweet_sides = ['Cranberry_Sauce', 'Fruit_Salad']\n",
    "desserts = ['Apple_Pie', 'Buttermilk_Pie', 'Cherry_Pie', \n",
    "              'Chocolate_Pie', 'Coconut_Cream_Pie', 'Key_Lime_Pie', 'Peach_Pie', \n",
    "               'Pecan_Pie', 'Pumpkin_Pie', 'Sweet_Potato_Pie',\n",
    "            'Apple_Cobbler', \n",
    "               'Blondies', 'Brownies', 'Carrot_Cake', 'Cheesecake', 'Cookies',\n",
    "              'Fudge', 'Ice_Cream', 'Peach_Cobbler']\n",
    "pies = ['Apple_Pie', 'Buttermilk_Pie', 'Cherry_Pie', \n",
    "              'Chocolate_Pie', 'Coconut_Cream_Pie', 'Key_Lime_Pie', 'Peach_Pie', \n",
    "               'Pecan_Pie', 'Pumpkin_Pie', 'Sweet_Potato_Pie']"
   ]
  },
  {
   "cell_type": "code",
   "execution_count": 6,
   "metadata": {
    "colab": {
     "base_uri": "https://localhost:8080/",
     "height": 35
    },
    "colab_type": "code",
    "id": "xywghSdcqm2k",
    "outputId": "235bd3b1-4d86-49cf-87bf-0c6e119e2dc7"
   },
   "outputs": [
    {
     "data": {
      "text/plain": [
       "49"
      ]
     },
     "execution_count": 6,
     "metadata": {},
     "output_type": "execute_result"
    }
   ],
   "source": [
    "df['US_Region'].isnull().sum()"
   ]
  },
  {
   "cell_type": "code",
   "execution_count": 7,
   "metadata": {
    "colab": {},
    "colab_type": "code",
    "id": "pBifw6ozqsvY"
   },
   "outputs": [],
   "source": [
    "df['US_Region'] = df['US_Region'].dropna()"
   ]
  },
  {
   "cell_type": "code",
   "execution_count": 8,
   "metadata": {
    "colab": {
     "base_uri": "https://localhost:8080/",
     "height": 35
    },
    "colab_type": "code",
    "id": "KHuIyjXcrgYc",
    "outputId": "8814fd70-1296-42a4-abd3-eea8dd7c320b"
   },
   "outputs": [
    {
     "data": {
      "text/plain": [
       "49"
      ]
     },
     "execution_count": 8,
     "metadata": {},
     "output_type": "execute_result"
    }
   ],
   "source": [
    "df['US_Region'].isnull().sum()"
   ]
  },
  {
   "cell_type": "code",
   "execution_count": null,
   "metadata": {
    "colab": {},
    "colab_type": "code",
    "id": "RVoaonC7saSU"
   },
   "outputs": [],
   "source": []
  },
  {
   "cell_type": "code",
   "execution_count": 9,
   "metadata": {
    "colab": {
     "base_uri": "https://localhost:8080/",
     "height": 35
    },
    "colab_type": "code",
    "id": "B_k2oJ1hseur",
    "outputId": "eb7c8731-4ccb-47dc-afa6-28f3f24c056f"
   },
   "outputs": [
    {
     "data": {
      "text/plain": [
       "49"
      ]
     },
     "execution_count": 9,
     "metadata": {},
     "output_type": "execute_result"
    }
   ],
   "source": [
    "df['US_Region'].isnull().sum()"
   ]
  },
  {
   "cell_type": "code",
   "execution_count": 10,
   "metadata": {
    "colab": {
     "base_uri": "https://localhost:8080/",
     "height": 181
    },
    "colab_type": "code",
    "id": "ion25j87z5ml",
    "outputId": "5886bafb-d14f-40a5-fc9a-89c2066052e7"
   },
   "outputs": [
    {
     "data": {
      "text/plain": [
       "Turkey                    0.881930\n",
       "Other (please specify)    0.035934\n",
       "Ham/Pork                  0.029774\n",
       "Tofurkey                  0.020534\n",
       "Chicken                   0.012320\n",
       "Roast beef                0.011294\n",
       "I don't know              0.005133\n",
       "Turducken                 0.003080\n",
       "Name: Main_Dish, dtype: float64"
      ]
     },
     "execution_count": 10,
     "metadata": {},
     "output_type": "execute_result"
    }
   ],
   "source": [
    "df['Main_Dish'].value_counts(normalize=True)"
   ]
  },
  {
   "cell_type": "code",
   "execution_count": 11,
   "metadata": {},
   "outputs": [
    {
     "data": {
      "text/plain": [
       "Baked                     0.493840\n",
       "Roasted                   0.388090\n",
       "Other (please specify)    0.052361\n",
       "Fried                     0.048255\n",
       "I don't know              0.017454\n",
       "Name: Main_Dish_Cooked, dtype: float64"
      ]
     },
     "execution_count": 11,
     "metadata": {},
     "output_type": "execute_result"
    }
   ],
   "source": [
    "df['Main_Dish_Cooked'].value_counts(normalize=True)"
   ]
  },
  {
   "cell_type": "code",
   "execution_count": 12,
   "metadata": {
    "colab": {},
    "colab_type": "code",
    "id": "bmw3v4-KdcqD"
   },
   "outputs": [],
   "source": [
    " \n",
    "\n",
    "#%% create data wrangling function\n",
    "\n",
    "def wrangle(df):\n",
    "    df = df.dropna(subset=['US_Region'])\n",
    "    #remove earnings, is creating a map of earning potential rather than anything to do with food\n",
    "    df = df.drop('Household_Earnings', axis=1)\n",
    "    #Simplifying the regions in order to increase model accuracy\n",
    "    df['US_Region'] = df['US_Region'].apply(lambda x : 'Pacific' if ((x == 'Pacific') | (x == 'Mountain')) else x)\n",
    "    df['US_Region'] = df['US_Region'].apply(lambda x : 'Northeast' if ((x == 'New England') | (x == 'Middle Atlantic')) else x)\n",
    "    df['US_Region'] = df['US_Region'].apply(lambda x : 'Midwest' if ((x == 'East South Central') | (x == 'East North Central')) else x)\n",
    "#removing the 'Other' side dish columns for simplicities' sake\n",
    "    df = df.replace('nan', np.NaN)\n",
    "    for column in df.columns:\n",
    "        if 'Other' in column:\n",
    "          df = df.drop(column, axis=1)\n",
    "    df['Number_Vegetables'] = df[vegetables].count(axis=1)\n",
    "    df['Number_Starches'] = df[starches].count(axis=1)\n",
    "    df['Number_Desserts'] = df[desserts].count(axis=1)\n",
    "    df['Number_Pies'] = df[pies].count(axis=1)\n",
    "    #data is formatted so that a column has the name of the dish if true and NaN if false\n",
    "#so replace all the NaN with No and all values with Yes\n",
    "#also for Parade column\n",
    "    for column in df.columns:\n",
    "        if column in side_dishes:\n",
    "            df[column] = df[column].apply(lambda x : 'No' if x == np.NaN else 'Yes')\n",
    "        elif column == 'Parade':\n",
    "            df[column] = df[column].apply(lambda x : 'No' if x == np.NaN else 'Yes')\n",
    "\n",
    "\n",
    "#simplify main dish options\n",
    "    main_dishes = ('Turkey', 'Ham/Pork', 'Tofurkey', 'Chicken')\n",
    "    df['Main_Dish'] = df['Main_Dish'].apply(lambda x : x if x in main_dishes else 'Other')\n",
    "    cook_options = ('Baked', 'Roasted', 'Fried')\n",
    "    df['Main_Dish_Cooked'] = df['Main_Dish_Cooked'].apply(lambda x : x if x in cook_options else 'Other')\n",
    "#remove the ID column, it's meaningless\n",
    "    df = df.drop('ID', axis=1)\n",
    "#remove 'Neighborhood_Type' as it is a potential data leak\n",
    "    df = df.drop('Neighborhood_Type', axis=1)\n",
    "#replace empty values in Black_Friday_Worker with 'No' if person isn't in retail      \n",
    "    for i in range(len(df)):\n",
    "        if df['Retail_Worker'].iloc[i] == 'No':\n",
    "            df['Black_Friday_Worker'].iloc[i] = 'No'\n",
    "#fix NaN values in other columns\n",
    "    df['Kids_Table_Age'] = df['Kids_Table_Age'].fillna('No Kids Table')\n",
    "    mode = df['Age'].mode()[0]\n",
    "    df['Age'] = df['Age'].fillna(mode)\n",
    "    mode = df['Travel_Distance'].mode()[0]\n",
    "    df['Travel_Distance'] = df['Travel_Distance'].fillna(mode)\n",
    "    return df"
   ]
  },
  {
   "cell_type": "code",
   "execution_count": null,
   "metadata": {
    "colab": {},
    "colab_type": "code",
    "id": "DJaEPsnSdhpY"
   },
   "outputs": [],
   "source": []
  },
  {
   "cell_type": "code",
   "execution_count": 13,
   "metadata": {
    "colab": {},
    "colab_type": "code",
    "id": "jZTd-DBJdmfz"
   },
   "outputs": [],
   "source": [
    "\n",
    "#%% creating X and y\n",
    "def X_y_dataframes(train, test, target):\n",
    "    X_train = train.drop(target, axis=1)\n",
    "    X_test = test.drop(target, axis=1)\n",
    "    y_train = train[target]\n",
    "    y_test = test[target]\n",
    "    #ordinal encoding\n",
    "    encoder = OrdinalEncoder()\n",
    "    X_train_encoded = encoder.fit_transform(X_train)\n",
    "    X_test_encoded = encoder.fit_transform(X_test)\n",
    "    #converting encoded arrays back to dataframes\n",
    "    X_train_encoded = pd.DataFrame(X_train_encoded)\n",
    "    X_train_encoded.columns = X_train.columns\n",
    "    X_test_encoded = pd.DataFrame(X_test_encoded)\n",
    "    X_test_encoded.columns = X_test.columns\n",
    "    return X_train_encoded, X_test_encoded, y_train, y_test"
   ]
  },
  {
   "cell_type": "code",
   "execution_count": 14,
   "metadata": {
    "colab": {},
    "colab_type": "code",
    "id": "wSSmuEZpdiNy"
   },
   "outputs": [],
   "source": [
    "\n",
    "#%% leave one out validation\n",
    "def loocv(X_train_encoded, y_train, model):\n",
    "    num_folds = 10\n",
    "    num_instances = len(X_train_encoded)\n",
    "    loocv = LeaveOneOut()\n",
    "    results = cross_val_score(model, X_train_encoded, y_train, cv=loocv)\n",
    "    print(\"Accuracy: %.3f%% (%.3f%%)\" % (results.mean()*100.0, results.std()*100.0))\n"
   ]
  },
  {
   "cell_type": "code",
   "execution_count": 15,
   "metadata": {},
   "outputs": [],
   "source": [
    "def select_features(X_train_encoded, y_train, num_features):\n",
    "    classifier = RandomForestClassifier(n_estimators=100)\n",
    "    rfe_selector = RFE(estimator=classifier, n_features_to_select=num_features, step=10, verbose=5)\n",
    "    rfe_selector.fit(X_train_encoded, y_train)\n",
    "    rfe_support = rfe_selector.get_support()\n",
    "    rfe_feature = X_train_encoded.loc[:,rfe_support].columns.tolist()\n",
    "    print(str(len(rfe_feature)), 'selected features')\n",
    "    print(rfe_feature)\n",
    "    return rfe_feature"
   ]
  },
  {
   "cell_type": "code",
   "execution_count": 16,
   "metadata": {},
   "outputs": [
    {
     "name": "stderr",
     "output_type": "stream",
     "text": [
      "C:\\Users\\caino\\Anaconda3\\lib\\site-packages\\pandas\\core\\indexing.py:205: SettingWithCopyWarning: \n",
      "A value is trying to be set on a copy of a slice from a DataFrame\n",
      "\n",
      "See the caveats in the documentation: http://pandas.pydata.org/pandas-docs/stable/user_guide/indexing.html#returning-a-view-versus-a-copy\n",
      "  self._setitem_with_indexer(indexer, value)\n"
     ]
    }
   ],
   "source": [
    "#%%splitting data\n",
    "\n",
    "train, test = train_test_split(df)\n",
    "train = wrangle(train)\n",
    "test = wrangle(test)\n"
   ]
  },
  {
   "cell_type": "code",
   "execution_count": 17,
   "metadata": {},
   "outputs": [
    {
     "data": {
      "text/html": [
       "<div>\n",
       "<style scoped>\n",
       "    .dataframe tbody tr th:only-of-type {\n",
       "        vertical-align: middle;\n",
       "    }\n",
       "\n",
       "    .dataframe tbody tr th {\n",
       "        vertical-align: top;\n",
       "    }\n",
       "\n",
       "    .dataframe thead th {\n",
       "        text-align: right;\n",
       "    }\n",
       "</style>\n",
       "<table border=\"1\" class=\"dataframe\">\n",
       "  <thead>\n",
       "    <tr style=\"text-align: right;\">\n",
       "      <th></th>\n",
       "      <th>Main_Dish</th>\n",
       "      <th>Main_Dish_Cooked</th>\n",
       "      <th>Stuffing</th>\n",
       "      <th>Cranberry_Sauce</th>\n",
       "      <th>Gravy</th>\n",
       "      <th>Brussel_Sprouts</th>\n",
       "      <th>Carrots</th>\n",
       "      <th>Cauliflower</th>\n",
       "      <th>Corn</th>\n",
       "      <th>Cornbread</th>\n",
       "      <th>...</th>\n",
       "      <th>Black_Friday_Shopper</th>\n",
       "      <th>Retail_Worker</th>\n",
       "      <th>Black_Friday_Worker</th>\n",
       "      <th>Age</th>\n",
       "      <th>Gender</th>\n",
       "      <th>US_Region</th>\n",
       "      <th>Number_Vegetables</th>\n",
       "      <th>Number_Starches</th>\n",
       "      <th>Number_Desserts</th>\n",
       "      <th>Number_Pies</th>\n",
       "    </tr>\n",
       "  </thead>\n",
       "  <tbody>\n",
       "    <tr>\n",
       "      <td>429</td>\n",
       "      <td>Turkey</td>\n",
       "      <td>Roasted</td>\n",
       "      <td>Yes</td>\n",
       "      <td>Yes</td>\n",
       "      <td>Yes</td>\n",
       "      <td>Yes</td>\n",
       "      <td>Yes</td>\n",
       "      <td>Yes</td>\n",
       "      <td>Yes</td>\n",
       "      <td>Yes</td>\n",
       "      <td>...</td>\n",
       "      <td>Yes</td>\n",
       "      <td>Yes</td>\n",
       "      <td>Yes</td>\n",
       "      <td>30 - 44</td>\n",
       "      <td>Female</td>\n",
       "      <td>Northeast</td>\n",
       "      <td>3</td>\n",
       "      <td>5</td>\n",
       "      <td>2</td>\n",
       "      <td>2</td>\n",
       "    </tr>\n",
       "    <tr>\n",
       "      <td>490</td>\n",
       "      <td>Turkey</td>\n",
       "      <td>Roasted</td>\n",
       "      <td>Yes</td>\n",
       "      <td>Yes</td>\n",
       "      <td>Yes</td>\n",
       "      <td>Yes</td>\n",
       "      <td>Yes</td>\n",
       "      <td>Yes</td>\n",
       "      <td>Yes</td>\n",
       "      <td>Yes</td>\n",
       "      <td>...</td>\n",
       "      <td>No</td>\n",
       "      <td>No</td>\n",
       "      <td>No</td>\n",
       "      <td>45 - 59</td>\n",
       "      <td>Male</td>\n",
       "      <td>West South Central</td>\n",
       "      <td>2</td>\n",
       "      <td>4</td>\n",
       "      <td>2</td>\n",
       "      <td>2</td>\n",
       "    </tr>\n",
       "    <tr>\n",
       "      <td>365</td>\n",
       "      <td>Other</td>\n",
       "      <td>Fried</td>\n",
       "      <td>Yes</td>\n",
       "      <td>Yes</td>\n",
       "      <td>Yes</td>\n",
       "      <td>Yes</td>\n",
       "      <td>Yes</td>\n",
       "      <td>Yes</td>\n",
       "      <td>Yes</td>\n",
       "      <td>Yes</td>\n",
       "      <td>...</td>\n",
       "      <td>Yes</td>\n",
       "      <td>No</td>\n",
       "      <td>No</td>\n",
       "      <td>45 - 59</td>\n",
       "      <td>Female</td>\n",
       "      <td>South Atlantic</td>\n",
       "      <td>2</td>\n",
       "      <td>4</td>\n",
       "      <td>4</td>\n",
       "      <td>2</td>\n",
       "    </tr>\n",
       "    <tr>\n",
       "      <td>66</td>\n",
       "      <td>Turkey</td>\n",
       "      <td>Baked</td>\n",
       "      <td>Yes</td>\n",
       "      <td>Yes</td>\n",
       "      <td>Yes</td>\n",
       "      <td>Yes</td>\n",
       "      <td>Yes</td>\n",
       "      <td>Yes</td>\n",
       "      <td>Yes</td>\n",
       "      <td>Yes</td>\n",
       "      <td>...</td>\n",
       "      <td>No</td>\n",
       "      <td>No</td>\n",
       "      <td>No</td>\n",
       "      <td>30 - 44</td>\n",
       "      <td>Male</td>\n",
       "      <td>Pacific</td>\n",
       "      <td>2</td>\n",
       "      <td>5</td>\n",
       "      <td>2</td>\n",
       "      <td>2</td>\n",
       "    </tr>\n",
       "    <tr>\n",
       "      <td>595</td>\n",
       "      <td>Ham/Pork</td>\n",
       "      <td>Other</td>\n",
       "      <td>Yes</td>\n",
       "      <td>Yes</td>\n",
       "      <td>Yes</td>\n",
       "      <td>Yes</td>\n",
       "      <td>Yes</td>\n",
       "      <td>Yes</td>\n",
       "      <td>Yes</td>\n",
       "      <td>Yes</td>\n",
       "      <td>...</td>\n",
       "      <td>No</td>\n",
       "      <td>No</td>\n",
       "      <td>No</td>\n",
       "      <td>45 - 59</td>\n",
       "      <td>Male</td>\n",
       "      <td>Pacific</td>\n",
       "      <td>2</td>\n",
       "      <td>4</td>\n",
       "      <td>2</td>\n",
       "      <td>2</td>\n",
       "    </tr>\n",
       "  </tbody>\n",
       "</table>\n",
       "<p>5 rows × 55 columns</p>\n",
       "</div>"
      ],
      "text/plain": [
       "    Main_Dish Main_Dish_Cooked Stuffing Cranberry_Sauce Gravy Brussel_Sprouts  \\\n",
       "429    Turkey          Roasted      Yes             Yes   Yes             Yes   \n",
       "490    Turkey          Roasted      Yes             Yes   Yes             Yes   \n",
       "365     Other            Fried      Yes             Yes   Yes             Yes   \n",
       "66     Turkey            Baked      Yes             Yes   Yes             Yes   \n",
       "595  Ham/Pork            Other      Yes             Yes   Yes             Yes   \n",
       "\n",
       "    Carrots Cauliflower Corn Cornbread  ... Black_Friday_Shopper  \\\n",
       "429     Yes         Yes  Yes       Yes  ...                  Yes   \n",
       "490     Yes         Yes  Yes       Yes  ...                   No   \n",
       "365     Yes         Yes  Yes       Yes  ...                  Yes   \n",
       "66      Yes         Yes  Yes       Yes  ...                   No   \n",
       "595     Yes         Yes  Yes       Yes  ...                   No   \n",
       "\n",
       "    Retail_Worker Black_Friday_Worker      Age  Gender           US_Region  \\\n",
       "429           Yes                 Yes  30 - 44  Female           Northeast   \n",
       "490            No                  No  45 - 59    Male  West South Central   \n",
       "365            No                  No  45 - 59  Female      South Atlantic   \n",
       "66             No                  No  30 - 44    Male             Pacific   \n",
       "595            No                  No  45 - 59    Male             Pacific   \n",
       "\n",
       "    Number_Vegetables Number_Starches Number_Desserts Number_Pies  \n",
       "429                 3               5               2           2  \n",
       "490                 2               4               2           2  \n",
       "365                 2               4               4           2  \n",
       "66                  2               5               2           2  \n",
       "595                 2               4               2           2  \n",
       "\n",
       "[5 rows x 55 columns]"
      ]
     },
     "execution_count": 17,
     "metadata": {},
     "output_type": "execute_result"
    }
   ],
   "source": [
    "train.head()"
   ]
  },
  {
   "cell_type": "code",
   "execution_count": 18,
   "metadata": {
    "colab": {
     "base_uri": "https://localhost:8080/",
     "height": 145
    },
    "colab_type": "code",
    "id": "KO6tqrkYdqDC",
    "outputId": "e4a759e8-fcfb-484f-8fc6-030eee8e0ea6"
   },
   "outputs": [],
   "source": [
    "#%%\n",
    "target = 'US_Region'\n",
    "X_train_encoded, X_test_encoded, y_train, y_test = X_y_dataframes(train, test, target)"
   ]
  },
  {
   "cell_type": "code",
   "execution_count": 19,
   "metadata": {
    "colab": {
     "base_uri": "https://localhost:8080/",
     "height": 145
    },
    "colab_type": "code",
    "id": "KO6tqrkYdqDC",
    "outputId": "e4a759e8-fcfb-484f-8fc6-030eee8e0ea6"
   },
   "outputs": [
    {
     "name": "stdout",
     "output_type": "stream",
     "text": [
      "South Atlantic        0.229018\n",
      "Midwest               0.219061\n",
      "Northeast             0.211949\n",
      "Pacific               0.176387\n",
      "West South Central    0.088193\n",
      "West North Central    0.075391\n",
      "Name: US_Region, dtype: float64\n"
     ]
    }
   ],
   "source": [
    "#%%Baseline model\n",
    "print(y_train.value_counts(normalize=True))\n",
    "baseline = 'South Atlantic'"
   ]
  },
  {
   "cell_type": "code",
   "execution_count": 20,
   "metadata": {
    "colab": {
     "base_uri": "https://localhost:8080/",
     "height": 265
    },
    "colab_type": "code",
    "id": "RvPz-ZwffLA2",
    "outputId": "b885e74d-c813-40dc-f520-9d15f40e501c"
   },
   "outputs": [
    {
     "data": {
      "image/png": "[encoded data removed]",
      "text/plain": [
       "<Figure size 432x288 with 1 Axes>"
      ]
     },
     "metadata": {
      "needs_background": "light"
     },
     "output_type": "display_data"
    }
   ],
   "source": [
    "import matplotlib.pyplot as plt\n",
    "plt.scatter(x=X_train_encoded['Main_Dish'], y=y_train)\n",
    "plt.show();"
   ]
  },
  {
   "cell_type": "code",
   "execution_count": 21,
   "metadata": {
    "colab": {
     "base_uri": "https://localhost:8080/",
     "height": 265
    },
    "colab_type": "code",
    "id": "QZo2hHq-fQ2j",
    "outputId": "b2fac8fe-2ed9-4bb4-fbe0-654990a1faa6"
   },
   "outputs": [
    {
     "data": {
      "image/png": "[encoded data removed]",
      "text/plain": [
       "<Figure size 432x288 with 1 Axes>"
      ]
     },
     "metadata": {
      "needs_background": "light"
     },
     "output_type": "display_data"
    }
   ],
   "source": [
    "plt.scatter(x=X_train_encoded['Travel_Distance'], y=y_train)\n",
    "plt.show();"
   ]
  },
  {
   "cell_type": "code",
   "execution_count": 22,
   "metadata": {
    "colab": {
     "base_uri": "https://localhost:8080/",
     "height": 265
    },
    "colab_type": "code",
    "id": "EwwsPvjMfg82",
    "outputId": "18f563dc-411b-4981-b710-131d0cab2c20"
   },
   "outputs": [
    {
     "data": {
      "image/png": "[encoded data removed]",
      "text/plain": [
       "<Figure size 432x288 with 1 Axes>"
      ]
     },
     "metadata": {
      "needs_background": "light"
     },
     "output_type": "display_data"
    }
   ],
   "source": [
    "plt.scatter(x=X_train_encoded['Travel_Distance'], y=X_train_encoded['Main_Dish'])\n",
    "plt.show();"
   ]
  },
  {
   "cell_type": "code",
   "execution_count": 23,
   "metadata": {
    "colab": {
     "base_uri": "https://localhost:8080/",
     "height": 34
    },
    "colab_type": "code",
    "id": "JW99-lLVdzFx",
    "outputId": "eb44f2f0-d83c-4123-cb5a-122bd03f21e1"
   },
   "outputs": [
    {
     "name": "stdout",
     "output_type": "stream",
     "text": [
      "Accuracy: 27.596% (44.700%)\n"
     ]
    }
   ],
   "source": [
    "#Logistic Regression Model\n",
    "\n",
    "model = LogisticRegression(solver='lbfgs', max_iter = 10000, multi_class='auto')\n",
    "model.fit(X_train_encoded, y_train)\n",
    "loocv(X_train_encoded, y_train, model)\n",
    "#26.6% accurate\n"
   ]
  },
  {
   "cell_type": "code",
   "execution_count": null,
   "metadata": {
    "colab": {},
    "colab_type": "code",
    "id": "EmSk6W1p3XRU"
   },
   "outputs": [],
   "source": []
  },
  {
   "cell_type": "code",
   "execution_count": null,
   "metadata": {
    "colab": {
     "base_uri": "https://localhost:8080/",
     "height": 224
    },
    "colab_type": "code",
    "id": "-cAuTjGLeDV3",
    "outputId": "6bab4a7b-764d-4ba7-ff79-799c1dd5e635"
   },
   "outputs": [
    {
     "name": "stdout",
     "output_type": "stream",
     "text": [
      "Fitting estimator with 54 features.\n",
      "Fitting estimator with 44 features.\n",
      "Fitting estimator with 34 features.\n",
      "Fitting estimator with 24 features.\n",
      "Fitting estimator with 14 features.\n",
      "10 selected features\n",
      "['Main_Dish_Cooked', 'Prayer', 'Travel_Distance', 'Kids_Table_Age', 'Age', 'Gender', 'Number_Vegetables', 'Number_Starches', 'Number_Desserts', 'Number_Pies']\n"
     ]
    }
   ],
   "source": [
    "#Random Forest Model\n",
    "\n",
    "classifier = RandomForestClassifier(n_estimators=100)\n",
    "features = select_features(X_train_encoded, y_train, 10)\n",
    "X_train_encoded_new = X_train_encoded[features]\n",
    "classifier.fit(X_train_encoded_new, y_train)\n",
    "loocv(X_train_encoded_new, y_train, classifier)\n",
    "#22.2% accurate\n"
   ]
  },
  {
   "cell_type": "code",
   "execution_count": null,
   "metadata": {
    "colab": {
     "base_uri": "https://localhost:8080/",
     "height": 221
    },
    "colab_type": "code",
    "id": "tzgt-k0SalNN",
    "outputId": "f1bda13c-8378-4a89-dd45-ce21ead13927"
   },
   "outputs": [],
   "source": [
    "#Randomized Search for hyperparameters\n",
    "\n",
    "\n",
    "clf = RandomForestClassifier()"
   ]
  },
  {
   "cell_type": "code",
   "execution_count": null,
   "metadata": {
    "colab": {
     "base_uri": "https://localhost:8080/",
     "height": 221
    },
    "colab_type": "code",
    "id": "tzgt-k0SalNN",
    "outputId": "f1bda13c-8378-4a89-dd45-ce21ead13927"
   },
   "outputs": [],
   "source": [
    "# Utility function to report best scores\n",
    "def report(results, n_top=3):\n",
    "    for i in range(1, n_top + 1):\n",
    "        candidates = np.flatnonzero(results['rank_test_score'] == i)\n",
    "        for candidate in candidates:\n",
    "            print(\"Model with rank: {0}\".format(i))\n",
    "            print(\"Mean validation score: {0:.3f} (std: {1:.3f})\".format(results['mean_test_score'][candidate], results['std_test_score'][candidate]))\n",
    "            print(\"Parameters: {0}\".format(results['params'][candidate]))\n",
    "            print(\"\")"
   ]
  },
  {
   "cell_type": "code",
   "execution_count": null,
   "metadata": {
    "colab": {
     "base_uri": "https://localhost:8080/",
     "height": 221
    },
    "colab_type": "code",
    "id": "tzgt-k0SalNN",
    "outputId": "f1bda13c-8378-4a89-dd45-ce21ead13927"
   },
   "outputs": [],
   "source": [
    "# specify parameters and distributions to sample from\n",
    "param_dist = {'max_depth': range(10, 50, 2),\n",
    "              'min_samples_leaf': [1,2,3,4,5],'min_samples_split': [2, 3, 4, 5],\n",
    "              'n_estimators': range(100, 500, 10),\n",
    "              \"criterion\": [\"gini\", \"entropy\"]}\n",
    "\n",
    "n_iter_search = 25\n",
    "random_search = RandomizedSearchCV(clf, param_distributions=param_dist,\n",
    "                                   n_iter=n_iter_search, cv=5, iid=False, n_jobs=-1)\n",
    "\n",
    "random_search.fit(X_train_encoded, y_train)\n",
    "\n",
    "report(random_search.cv_results_)"
   ]
  },
  {
   "cell_type": "code",
   "execution_count": null,
   "metadata": {
    "colab": {
     "base_uri": "https://localhost:8080/",
     "height": 221
    },
    "colab_type": "code",
    "id": "Hq2oQkU8aEsM",
    "outputId": "29344ec8-b427-4a60-d03e-a06df4e237a6"
   },
   "outputs": [],
   "source": [
    "#Grid Search for hyperparameters\n",
    "\n",
    "param_grid = {\"max_depth\": range(30, 50, 5),\n",
    "              \"n_estimators\": range(100, 500, 10),\n",
    "              \"min_samples_leaf\": range(2, 5)\n",
    "              }\n",
    "\n",
    "# run grid search\n",
    "grid_search = GridSearchCV(clf, param_grid=param_grid, cv=3, iid=False, n_jobs=-1)\n",
    "grid_search.fit(X_train_encoded, y_train)\n",
    "report(grid_search.cv_results_)"
   ]
  },
  {
   "cell_type": "code",
   "execution_count": null,
   "metadata": {},
   "outputs": [],
   "source": [
    "#updated forest model \n",
    "classifier = RandomForestClassifier(n_estimators=250, min_samples_split = 4, min_samples_leaf=5, max_depth=12,\n",
    "                                    criterion='gini')\n",
    "features = select_features(X_train_encoded, y_train, 10)\n",
    "X_train_encoded_new = X_train_encoded[features]\n",
    "classifier.fit(X_train_encoded_new, y_train)\n",
    "loocv(X_train_encoded_new, y_train, classifier)\n"
   ]
  },
  {
   "cell_type": "code",
   "execution_count": null,
   "metadata": {},
   "outputs": [],
   "source": [
    "import xgboost\n",
    "model = xgboost.XGBClassifier(n_jobs=-1)\n",
    "model.fit(X_train_encoded, y_train)\n",
    "\n",
    "\n",
    "loocv(X_train_encoded, y_train, model)"
   ]
  },
  {
   "cell_type": "code",
   "execution_count": null,
   "metadata": {},
   "outputs": [],
   "source": [
    "import eli5\n",
    "from eli5.sklearn import PermutationImportance\n",
    "from sklearn.svm import SVC\n",
    "\n",
    "svc = SVC().fit(X_train_encoded, y_train)\n",
    "perm = PermutationImportance(svc).fit(X_train_encoded, y_train)\n",
    "eli5.show_weights(perm)"
   ]
  },
  {
   "cell_type": "code",
   "execution_count": null,
   "metadata": {},
   "outputs": [],
   "source": [
    "X_train_encoded.iloc[:,7]"
   ]
  },
  {
   "cell_type": "code",
   "execution_count": null,
   "metadata": {},
   "outputs": [],
   "source": [
    "X_train_encoded.iloc[:,8]"
   ]
  },
  {
   "cell_type": "code",
   "execution_count": null,
   "metadata": {},
   "outputs": [],
   "source": [
    "import plotly_express as px\n",
    "\n",
    "%matplotlib inline\n",
    "px.scatter(train, x='Main_Dish', y='US_Region', color='Main_Dish_Cooked');"
   ]
  },
  {
   "cell_type": "code",
   "execution_count": null,
   "metadata": {},
   "outputs": [],
   "source": [
    "px.scatter(train, x='Kids_Table_Age', y='US_Region', color='Main_Dish')"
   ]
  },
  {
   "cell_type": "code",
   "execution_count": null,
   "metadata": {},
   "outputs": [],
   "source": [
    "px.scatter(train, 'Main_Dish', 'US_Region', facet_col='Main_Dish_Cooked', color='Gravy')"
   ]
  },
  {
   "cell_type": "code",
   "execution_count": null,
   "metadata": {},
   "outputs": [],
   "source": [
    "from pdpbox.pdp import pdp_isolate, pdp_plot"
   ]
  },
  {
   "cell_type": "code",
   "execution_count": null,
   "metadata": {},
   "outputs": [],
   "source": [
    "feature = 'Main_Dish'\n",
    "\n",
    "isolated = pdp_isolate(\n",
    "    model = model,\n",
    "    dataset = X_train_encoded,\n",
    "    model_features = X_train_encoded.columns,\n",
    "    feature = feature\n",
    ")"
   ]
  },
  {
   "cell_type": "code",
   "execution_count": null,
   "metadata": {},
   "outputs": [],
   "source": [
    "import seaborn as sns\n",
    "sns.set()\n",
    "\n",
    "pdp_plot(isolated, feature_name=feature)"
   ]
  },
  {
   "cell_type": "code",
   "execution_count": null,
   "metadata": {},
   "outputs": [],
   "source": [
    "pdp_plot(isolated, feature_name=feature, plot_lines=True, frac_to_plot=100)"
   ]
  },
  {
   "cell_type": "code",
   "execution_count": null,
   "metadata": {},
   "outputs": [],
   "source": []
  },
  {
   "cell_type": "code",
   "execution_count": null,
   "metadata": {},
   "outputs": [],
   "source": [
    "#creates pdp plot for each isolated item\n",
    "\n",
    "for item in isolated:\n",
    "    grid = item.feature_grids\n",
    "    pdp = item.pdp\n",
    "    lines = item.ice_lines.sample(100).T\n",
    "    plt.plot(grid, pdp)\n",
    "    plt.show()"
   ]
  },
  {
   "cell_type": "code",
   "execution_count": null,
   "metadata": {},
   "outputs": [],
   "source": [
    "from pdpbox.pdp import pdp_interact, pdp_interact_plot\n",
    "#creates plot that shows interaction between two features\n",
    "features=['Main_Dish','Main_Dish_Cooked']\n",
    "\n",
    "interaction = pdp_interact(\n",
    "    model=model,\n",
    "    dataset=X_train_encoded,\n",
    "    model_features=X_train_encoded.columns,\n",
    "    features=features\n",
    ")"
   ]
  },
  {
   "cell_type": "code",
   "execution_count": null,
   "metadata": {},
   "outputs": [],
   "source": [
    "pdp_interact_plot(interaction, plot_type='grid', feature_names=features)"
   ]
  },
  {
   "cell_type": "code",
   "execution_count": null,
   "metadata": {},
   "outputs": [],
   "source": [
    "for item in interaction: \n",
    "    pdp = item.pdp.pivot_table(\n",
    "        values='preds',\n",
    "        columns=features[0],\n",
    "        index=features[1]\n",
    ")\n",
    "plt.figure(figsize=(10,6))\n",
    "sns.heatmap(pdp, fmt=0)"
   ]
  },
  {
   "cell_type": "code",
   "execution_count": null,
   "metadata": {},
   "outputs": [],
   "source": [
    "gb = model = xgboost.XGBClassifier(n_jobs=-1)\n",
    "gb.fit(X_train_encoded, y_train)"
   ]
  },
  {
   "cell_type": "code",
   "execution_count": null,
   "metadata": {},
   "outputs": [],
   "source": [
    "import matplotlib.pyplot as plt\n",
    "from pdpbox import pdp\n",
    "\n",
    "pdp_dist = pdp.pdp_isolate(model=gb, dataset=X_train_encoded, \n",
    "                           model_features=X_train_encoded.columns, feature='Main_Dish')\n",
    "pdp.pdp_plot(pdp_dist, 'Main_Dish');"
   ]
  },
  {
   "cell_type": "code",
   "execution_count": null,
   "metadata": {},
   "outputs": [],
   "source": [
    "import category_encoders as ce\n",
    "\n",
    "X_train = train.drop('US_Region', axis=1)\n",
    "\n",
    "encoder = ce.OrdinalEncoder()\n",
    "X_train_encoded = encoder.fit_transform(X_train)"
   ]
  },
  {
   "cell_type": "code",
   "execution_count": null,
   "metadata": {},
   "outputs": [],
   "source": [
    "encoder.mapping"
   ]
  },
  {
   "cell_type": "code",
   "execution_count": 1,
   "metadata": {},
   "outputs": [
    {
     "ename": "NameError",
     "evalue": "name 'pdp' is not defined",
     "output_type": "error",
     "traceback": [
      "\u001b[1;31m---------------------------------------------------------------------------\u001b[0m",
      "\u001b[1;31mNameError\u001b[0m                                 Traceback (most recent call last)",
      "\u001b[1;32m<ipython-input-1-ac2d8e49a5af>\u001b[0m in \u001b[0;36m<module>\u001b[1;34m\u001b[0m\n\u001b[1;32m----> 1\u001b[1;33m \u001b[1;32mfor\u001b[0m \u001b[0mplot\u001b[0m \u001b[1;32min\u001b[0m \u001b[0mpdp\u001b[0m\u001b[1;33m.\u001b[0m\u001b[0mpdp_plot\u001b[0m\u001b[1;33m(\u001b[0m\u001b[0mpdp_dist\u001b[0m\u001b[1;33m,\u001b[0m \u001b[1;34m'Main_Dish'\u001b[0m\u001b[1;33m)\u001b[0m\u001b[1;33m:\u001b[0m\u001b[1;33m\u001b[0m\u001b[1;33m\u001b[0m\u001b[0m\n\u001b[0m\u001b[0;32m      2\u001b[0m     \u001b[0mplt\u001b[0m\u001b[1;33m.\u001b[0m\u001b[0mxticks\u001b[0m\u001b[1;33m(\u001b[0m\u001b[1;33m[\u001b[0m\u001b[1;36m1\u001b[0m\u001b[1;33m,\u001b[0m\u001b[1;36m2\u001b[0m\u001b[1;33m,\u001b[0m\u001b[1;36m3\u001b[0m\u001b[1;33m,\u001b[0m\u001b[1;36m4\u001b[0m\u001b[1;33m,\u001b[0m\u001b[1;36m5\u001b[0m\u001b[1;33m]\u001b[0m\u001b[1;33m,\u001b[0m \u001b[1;33m[\u001b[0m\u001b[1;34m'Turkey'\u001b[0m\u001b[1;33m,\u001b[0m \u001b[1;34m'Chicken'\u001b[0m\u001b[1;33m,\u001b[0m \u001b[1;34m'Tofurkey'\u001b[0m\u001b[1;33m,\u001b[0m \u001b[1;34m'Ham/Pork'\u001b[0m\u001b[1;33m,\u001b[0m\u001b[1;34m'Other'\u001b[0m\u001b[1;33m]\u001b[0m\u001b[1;33m)\u001b[0m\u001b[1;33m\u001b[0m\u001b[1;33m\u001b[0m\u001b[0m\n\u001b[0;32m      3\u001b[0m     \u001b[0mplt\u001b[0m\u001b[1;33m.\u001b[0m\u001b[0mshow\u001b[0m\u001b[1;33m(\u001b[0m\u001b[1;33m)\u001b[0m\u001b[1;33m\u001b[0m\u001b[1;33m\u001b[0m\u001b[0m\n",
      "\u001b[1;31mNameError\u001b[0m: name 'pdp' is not defined"
     ]
    }
   ],
   "source": [
    "for plot in pdp.pdp_plot(pdp_dist, 'Main_Dish'):\n",
    "    plt.xticks([1,2,3,4,5], ['Turkey', 'Chicken', 'Tofurkey', 'Ham/Pork','Other'])\n"
   ]
  },
  {
   "cell_type": "markdown",
   "metadata": {
    "colab": {},
    "colab_type": "code",
    "id": "DBZ0AyQ_aUAu"
   },
   "source": [
    "predict whether someone will have Turkey, Ham, or something else based on other items?"
   ]
  },
  {
   "cell_type": "code",
   "execution_count": null,
   "metadata": {
    "colab": {},
    "colab_type": "code",
    "id": "DBZ0AyQ_aUAu"
   },
   "outputs": [],
   "source": [
    "train['Main_Dish'].unique()\n",
    "train['Main_Dish'].value_counts(normalize=True)\n"
   ]
  },
  {
   "cell_type": "code",
   "execution_count": null,
   "metadata": {
    "colab": {},
    "colab_type": "code",
    "id": "DBZ0AyQ_aUAu"
   },
   "outputs": [],
   "source": [
    "target = 'Main_Dish'\n",
    "X_train_encoded, X_test_encoded, y_train, y_test = X_y_dataframes(train, test, target)"
   ]
  },
  {
   "cell_type": "code",
   "execution_count": null,
   "metadata": {
    "colab": {},
    "colab_type": "code",
    "id": "DBZ0AyQ_aUAu"
   },
   "outputs": [],
   "source": [
    "classifier = RandomForestClassifier(n_estimators=100)\n",
    "features = select_features(X_train_encoded, y_train, 10)\n",
    "X_train_encoded = X_train_encoded[features]\n",
    "classifier.fit(X_train_encoded, y_train)\n",
    "loocv(X_train_encoded, y_train, classifier)"
   ]
  },
  {
   "cell_type": "code",
   "execution_count": null,
   "metadata": {
    "colab": {},
    "colab_type": "code",
    "id": "DBZ0AyQ_aUAu"
   },
   "outputs": [],
   "source": [
    "food = ['Stuffing', 'Cranberry_Sauce', 'Gravy', 'Brussel_Sprouts', 'Carrots', 'Cauliflower',\n",
    "       'Corn', 'Cornbread', 'Fruit_Salad', 'Green_Beans', 'Mac_and_Cheese',\n",
    "       'Mashed_Potatoes', 'Rolls_Biscuits', 'Squash', 'Salad',\n",
    "       'Sweet_Potatoes', 'Apple_Pie', 'Buttermilk_Pie', 'Cherry_Pie',\n",
    "       'Chocolate_Pie', 'Coconut_Cream_Pie', 'Key_Lime_Pie', 'Peach_Pie',\n",
    "       'Pecan_Pie', 'Pumpkin_Pie', 'Sweet_Potato_Pie', 'No_Pie',\n",
    "       'Apple_Cobbler', 'Blondies', 'Brownies', 'Carrot_Cake', 'Cheesecake',\n",
    "       'Cookies', 'Fudge', 'Ice_Cream', 'Peach_Cobbler']"
   ]
  },
  {
   "cell_type": "code",
   "execution_count": null,
   "metadata": {
    "colab": {},
    "colab_type": "code",
    "id": "DBZ0AyQ_aUAu"
   },
   "outputs": [],
   "source": [
    "target = 'Main_Dish'\n",
    "X_train_encoded, X_test_encoded, y_train, y_test = X_y_dataframes(train, test, target)\n",
    "    "
   ]
  },
  {
   "cell_type": "code",
   "execution_count": null,
   "metadata": {
    "colab": {},
    "colab_type": "code",
    "id": "DBZ0AyQ_aUAu"
   },
   "outputs": [],
   "source": [
    "#use only food columns for model\n",
    "for column in X_train_encoded.columns:\n",
    "    if column not in food:\n",
    "        X_train_encoded = X_train_encoded.drop(column, axis=1)"
   ]
  },
  {
   "cell_type": "code",
   "execution_count": null,
   "metadata": {
    "colab": {},
    "colab_type": "code",
    "id": "DBZ0AyQ_aUAu"
   },
   "outputs": [],
   "source": [
    "#logistic model\n",
    "model = LogisticRegression(solver='lbfgs', multi_class='auto', max_iter = 10000)\n",
    "model.fit(X_train_encoded, y_train)\n",
    "loocv(X_train_encoded, y_train, model)"
   ]
  },
  {
   "cell_type": "code",
   "execution_count": null,
   "metadata": {
    "colab": {},
    "colab_type": "code",
    "id": "DBZ0AyQ_aUAu"
   },
   "outputs": [],
   "source": [
    "#Random Forest model\n",
    "classifier = RandomForestClassifier(n_estimators=480, max_depth=45, min_samples_leaf=3)\n",
    "features = select_features(X_train_encoded, y_train, 10)\n",
    "X_train_encoded = X_train_encoded[features]\n",
    "classifier.fit(X_train_encoded, y_train)\n",
    "loocv(X_train_encoded, y_train, classifier)"
   ]
  },
  {
   "cell_type": "code",
   "execution_count": null,
   "metadata": {
    "colab": {},
    "colab_type": "code",
    "id": "_1x_OzE9ar21"
   },
   "outputs": [],
   "source": []
  },
  {
   "cell_type": "code",
   "execution_count": null,
   "metadata": {
    "colab": {},
    "colab_type": "code",
    "id": "_1x_OzE9ar21"
   },
   "outputs": [],
   "source": [
    "select_features(X_train_encoded, y_train, 10)"
   ]
  },
  {
   "cell_type": "code",
   "execution_count": null,
   "metadata": {
    "colab": {},
    "colab_type": "code",
    "id": "_1x_OzE9ar21"
   },
   "outputs": [],
   "source": [
    "X_train_encoded = X_train_encoded[features]"
   ]
  },
  {
   "cell_type": "code",
   "execution_count": null,
   "metadata": {
    "colab": {},
    "colab_type": "code",
    "id": "_1x_OzE9ar21"
   },
   "outputs": [],
   "source": [
    "classifier = RandomForestClassifier(n_estimators = 460, min_samples_split = 3, \n",
    "                                    min_samples_leaf = 5, max_depth = 40, criterion = 'entropy')\n",
    "classifier.fit(X_train_encoded, y_train)\n",
    "loocv(X_train_encoded, y_train, classifier)"
   ]
  },
  {
   "cell_type": "code",
   "execution_count": null,
   "metadata": {
    "colab": {},
    "colab_type": "code",
    "id": "_1x_OzE9ar21"
   },
   "outputs": [],
   "source": [
    "from sklearn.metrics import precision_recall_fscore_support\n",
    "y_pred_train = classifier.predict(X_train_encoded)\n",
    "print(precision_recall_fscore_support(y_train, y_pred_train, average = 'weighted'))"
   ]
  },
  {
   "cell_type": "code",
   "execution_count": null,
   "metadata": {
    "colab": {
     "base_uri": "https://localhost:8080/",
     "height": 358
    },
    "colab_type": "code",
    "id": "2dcIcj4MsaXV",
    "outputId": "1997fb7e-e7ad-4295-9870-33734a17a8b5"
   },
   "outputs": [],
   "source": []
  },
  {
   "cell_type": "code",
   "execution_count": null,
   "metadata": {
    "colab": {},
    "colab_type": "code",
    "id": "rLxRBOCWvFgI"
   },
   "outputs": [],
   "source": []
  },
  {
   "cell_type": "code",
   "execution_count": null,
   "metadata": {
    "colab": {
     "base_uri": "https://localhost:8080/",
     "height": 490
    },
    "colab_type": "code",
    "id": "f2b5r5q8slNN",
    "outputId": "ba05c471-14f8-4d0c-d0dd-f6288623d94d"
   },
   "outputs": [],
   "source": []
  },
  {
   "cell_type": "code",
   "execution_count": null,
   "metadata": {
    "colab": {
     "base_uri": "https://localhost:8080/",
     "height": 235
    },
    "colab_type": "code",
    "id": "-jAKMuO8vSbC",
    "outputId": "5540ad8f-6ff1-4acf-c8e0-39ab01e1312d"
   },
   "outputs": [],
   "source": []
  },
  {
   "cell_type": "code",
   "execution_count": null,
   "metadata": {
    "colab": {
     "base_uri": "https://localhost:8080/",
     "height": 235
    },
    "colab_type": "code",
    "id": "QkjrktZ7vtai",
    "outputId": "97b06534-92bf-447e-df93-d51be5b560ec"
   },
   "outputs": [],
   "source": []
  },
  {
   "cell_type": "code",
   "execution_count": null,
   "metadata": {
    "colab": {
     "base_uri": "https://localhost:8080/",
     "height": 35
    },
    "colab_type": "code",
    "id": "otnSU1Be1GMK",
    "outputId": "7f23da70-cba4-45d6-e335-e10cc4bf52b9"
   },
   "outputs": [],
   "source": [
    "import xgboost\n",
    "model = xgboost.XGBClassifier(n_jobs=-1)\n",
    "model.fit(X_train_encoded, y_train)\n",
    "\n",
    "\n",
    "loocv(X_train_encoded, y_train, model)"
   ]
  },
  {
   "cell_type": "code",
   "execution_count": null,
   "metadata": {
    "colab": {
     "base_uri": "https://localhost:8080/",
     "height": 617
    },
    "colab_type": "code",
    "id": "fa9W9w3lka2f",
    "outputId": "7e77c300-33cd-4647-9c6e-4d5091f92fa1"
   },
   "outputs": [],
   "source": []
  },
  {
   "cell_type": "code",
   "execution_count": null,
   "metadata": {
    "colab": {
     "base_uri": "https://localhost:8080/",
     "height": 617
    },
    "colab_type": "code",
    "id": "p9d3yxsZlbPO",
    "outputId": "c2ceec1c-7fb1-4bed-be31-b964e042b951"
   },
   "outputs": [],
   "source": []
  },
  {
   "cell_type": "code",
   "execution_count": null,
   "metadata": {
    "colab": {
     "base_uri": "https://localhost:8080/",
     "height": 617
    },
    "colab_type": "code",
    "id": "LQOHOiJlmjcW",
    "outputId": "776e44c3-b8a8-4427-f207-836eabd6b9ce"
   },
   "outputs": [],
   "source": []
  },
  {
   "cell_type": "code",
   "execution_count": null,
   "metadata": {
    "colab": {},
    "colab_type": "code",
    "id": "0CIxJ6OIClJX"
   },
   "outputs": [],
   "source": []
  },
  {
   "cell_type": "code",
   "execution_count": null,
   "metadata": {
    "colab": {},
    "colab_type": "code",
    "id": "5xXRi8zRC_Mu"
   },
   "outputs": [],
   "source": [
    "gb = xgboost.XGBClassifier(n_estimators=200, objective='reg:squarederror', n_jobs=-1)"
   ]
  },
  {
   "cell_type": "code",
   "execution_count": null,
   "metadata": {
    "colab": {
     "base_uri": "https://localhost:8080/",
     "height": 145
    },
    "colab_type": "code",
    "id": "N-65gaWDDOQr",
    "outputId": "e70d066f-b43c-4977-f714-5f81c5175f7c"
   },
   "outputs": [],
   "source": [
    "gb.fit(X_train_encoded, y_train)"
   ]
  },
  {
   "cell_type": "code",
   "execution_count": null,
   "metadata": {
    "colab": {},
    "colab_type": "code",
    "id": "GVTKFE9jCurM"
   },
   "outputs": [],
   "source": []
  },
  {
   "cell_type": "code",
   "execution_count": null,
   "metadata": {
    "colab": {},
    "colab_type": "code",
    "id": "cFaS1VN0Dja-"
   },
   "outputs": [],
   "source": []
  },
  {
   "cell_type": "code",
   "execution_count": null,
   "metadata": {
    "colab": {
     "base_uri": "https://localhost:8080/",
     "height": 1000
    },
    "colab_type": "code",
    "id": "UHtrgrkmDaCY",
    "outputId": "da3d1796-3b18-432c-8389-1e6c7f3b705b"
   },
   "outputs": [],
   "source": []
  },
  {
   "cell_type": "code",
   "execution_count": null,
   "metadata": {
    "colab": {
     "base_uri": "https://localhost:8080/",
     "height": 1000
    },
    "colab_type": "code",
    "id": "dWrrq2MoEUef",
    "outputId": "5951c282-ebb2-450a-aa38-3ca47464b2da"
   },
   "outputs": [],
   "source": []
  },
  {
   "cell_type": "markdown",
   "metadata": {
    "colab_type": "text",
    "id": "47DxBBwznyVh"
   },
   "source": []
  },
  {
   "cell_type": "code",
   "execution_count": null,
   "metadata": {
    "colab": {
     "base_uri": "https://localhost:8080/",
     "height": 189
    },
    "colab_type": "code",
    "id": "i7msI2ZoEd7Z",
    "outputId": "238c8ffd-ecfd-4b86-f40a-2def66873fe9"
   },
   "outputs": [],
   "source": []
  },
  {
   "cell_type": "code",
   "execution_count": null,
   "metadata": {
    "colab": {},
    "colab_type": "code",
    "id": "FjPBmhXXGNpu"
   },
   "outputs": [],
   "source": []
  },
  {
   "cell_type": "code",
   "execution_count": null,
   "metadata": {
    "colab": {
     "base_uri": "https://localhost:8080/",
     "height": 1000
    },
    "colab_type": "code",
    "id": "sa2i13sxGXsQ",
    "outputId": "7cbd9d26-2a14-496a-d363-4894240f1965"
   },
   "outputs": [],
   "source": []
  },
  {
   "cell_type": "code",
   "execution_count": null,
   "metadata": {
    "colab": {
     "base_uri": "https://localhost:8080/",
     "height": 244
    },
    "colab_type": "code",
    "id": "0o0vo0wHGiCW",
    "outputId": "30f7f9ba-204d-4cd2-ac09-4502889e5dd4"
   },
   "outputs": [],
   "source": []
  },
  {
   "cell_type": "code",
   "execution_count": null,
   "metadata": {
    "colab": {
     "base_uri": "https://localhost:8080/",
     "height": 1000
    },
    "colab_type": "code",
    "id": "-dmfOa0Ko7Jt",
    "outputId": "475c9632-d45e-47b9-b7fe-93ce5a661288"
   },
   "outputs": [],
   "source": []
  },
  {
   "cell_type": "code",
   "execution_count": null,
   "metadata": {
    "colab": {
     "base_uri": "https://localhost:8080/",
     "height": 310
    },
    "colab_type": "code",
    "id": "TNhoukCarmXc",
    "outputId": "79a2afcd-9a92-4d79-be3a-60a824f5c35f"
   },
   "outputs": [],
   "source": []
  },
  {
   "cell_type": "code",
   "execution_count": null,
   "metadata": {
    "colab": {},
    "colab_type": "code",
    "id": "eNzFRnxzrSyI"
   },
   "outputs": [],
   "source": []
  },
  {
   "cell_type": "code",
   "execution_count": null,
   "metadata": {
    "colab": {
     "base_uri": "https://localhost:8080/",
     "height": 963
    },
    "colab_type": "code",
    "id": "qrA_z1KtsBRL",
    "outputId": "7688c58d-c93d-4433-93d5-61b20c1ad126"
   },
   "outputs": [],
   "source": []
  },
  {
   "cell_type": "code",
   "execution_count": null,
   "metadata": {
    "colab": {
     "base_uri": "https://localhost:8080/",
     "height": 1000
    },
    "colab_type": "code",
    "id": "0p93_blEruge",
    "outputId": "6d82f5a9-1a75-4334-815d-86058c6fb213"
   },
   "outputs": [],
   "source": []
  },
  {
   "cell_type": "code",
   "execution_count": null,
   "metadata": {
    "colab": {
     "base_uri": "https://localhost:8080/",
     "height": 1000
    },
    "colab_type": "code",
    "id": "JbMv91kpq1xc",
    "outputId": "8c37cf76-6758-43a8-efff-be61e94c820c"
   },
   "outputs": [],
   "source": []
  },
  {
   "cell_type": "code",
   "execution_count": null,
   "metadata": {},
   "outputs": [],
   "source": []
  }
 ],
 "metadata": {
  "colab": {
   "collapsed_sections": [],
   "include_colab_link": true,
   "name": "Copy of assignment_applied_modeling_2.ipynb",
   "provenance": [],
   "toc_visible": true
  },
  "kernelspec": {
   "display_name": "Python 3",
   "language": "python",
   "name": "python3"
  },
  "language_info": {
   "codemirror_mode": {
    "name": "ipython",
    "version": 3
   },
   "file_extension": ".py",
   "mimetype": "text/x-python",
   "name": "python",
   "nbconvert_exporter": "python",
   "pygments_lexer": "ipython3",
   "version": "3.7.4"
  }
 },
 "nbformat": 4,
 "nbformat_minor": 4
}
