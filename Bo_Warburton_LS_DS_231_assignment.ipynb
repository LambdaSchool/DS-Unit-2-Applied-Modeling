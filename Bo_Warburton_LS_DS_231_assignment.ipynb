{
  "nbformat": 4,
  "nbformat_minor": 0,
  "metadata": {
    "kernelspec": {
      "display_name": "Python 3",
      "language": "python",
      "name": "python3"
    },
    "language_info": {
      "codemirror_mode": {
        "name": "ipython",
        "version": 3
      },
      "file_extension": ".py",
      "mimetype": "text/x-python",
      "name": "python",
      "nbconvert_exporter": "python",
      "pygments_lexer": "ipython3",
      "version": "3.7.6"
    },
    "colab": {
      "name": "Bo_Warburton_LS_DS_231_assignment.ipynb",
      "provenance": [],
      "toc_visible": true,
      "include_colab_link": true
    }
  },
  "cells": [
    {
      "cell_type": "markdown",
      "metadata": {
        "id": "view-in-github",
        "colab_type": "text"
      },
      "source": [
        "<a href=\"https://colab.research.google.com/github/BoWarburton/DS-Unit-2-Applied-Modeling/blob/master/Bo_Warburton_LS_DS_231_assignment.ipynb\" target=\"_parent\"><img src=\"https://colab.research.google.com/assets/colab-badge.svg\" alt=\"Open In Colab\"/></a>"
      ]
    },
    {
      "cell_type": "markdown",
      "metadata": {
        "colab_type": "text",
        "id": "nCc3XZEyG3XV"
      },
      "source": [
        "Lambda School Data Science\n",
        "\n",
        "*Unit 2, Sprint 3, Module 1*\n",
        "\n",
        "---\n",
        "\n",
        "\n",
        "# Define ML Problem\n",
        "\n",
        "You will use your portfolio project dataset for all assignments this sprint.\n",
        "\n",
        "## Assignment\n",
        "\n",
        "Complete these tasks for your project, and document your decisions.\n",
        "\n",
        "- [X] Choose your target. Which column in your tabular dataset will you predict?\n",
        "- [X] Is your problem regression or classification?\n",
        "- [X] How is your target distributed?\n",
        "    - Classification: How many classes? Are the classes imbalanced?\n",
        "    - Regression: Is the target right-skewed? If so, you may want to log transform the target.\n",
        "- [X] Choose your evaluation metric(s).\n",
        "    - Classification: Is your majority class frequency >= 50% and < 70% ? If so, you can just use accuracy if you want. Outside that range, accuracy could be misleading. What evaluation metric will you choose, in addition to or instead of accuracy?\n",
        "    - Regression: Will you use mean absolute error, root mean squared error, R^2, or other regression metrics?\n",
        "- [X] Choose which observations you will use to train, validate, and test your model.\n",
        "    - Are some observations outliers? Will you exclude them?\n",
        "    - Will you do a random split or a time-based split?\n",
        "- [X] Begin to clean and explore your data.\n",
        "- [X] Begin to choose which features, if any, to exclude. Would some features \"leak\" future information?\n",
        "\n",
        "If you haven't found a dataset yet, do that today. [Review requirements for your portfolio project](https://lambdaschool.github.io/ds/unit2) and choose your dataset.\n",
        "\n",
        "Some students worry, ***what if my model isn't “good”?*** Then, [produce a detailed tribute to your wrongness. That is science!](https://twitter.com/nathanwpyle/status/1176860147223867393)"
      ]
    },
    {
      "cell_type": "markdown",
      "metadata": {
        "id": "YE1NsG_F58hH",
        "colab_type": "text"
      },
      "source": [
        "## The Data: COB Sales and HUNS at Five KFC Stores from 2018 and 2019"
      ]
    },
    {
      "cell_type": "code",
      "metadata": {
        "id": "0ohj4oDg1spo",
        "colab_type": "code",
        "colab": {}
      },
      "source": [
        "# Each row is Chicken on Bone (COB) and Heads Used but Not Sold (HUNS) for one date at one KFC\n",
        "import pandas as pd\n",
        "data_file = 'https://github.com/BoWarburton/heads-used-not-sold/raw/master/huns.csv'\n",
        "df = pd.read_csv(data_file)"
      ],
      "execution_count": 0,
      "outputs": []
    },
    {
      "cell_type": "code",
      "metadata": {
        "id": "dWWfwqxU2ja_",
        "colab_type": "code",
        "colab": {
          "base_uri": "https://localhost:8080/",
          "height": 221
        },
        "outputId": "32d02a09-21d2-4365-ee01-f1fa7d9f2c82"
      },
      "source": [
        "df.head()"
      ],
      "execution_count": 4,
      "outputs": [
        {
          "output_type": "execute_result",
          "data": {
            "text/html": [
              "<div>\n",
              "<style scoped>\n",
              "    .dataframe tbody tr th:only-of-type {\n",
              "        vertical-align: middle;\n",
              "    }\n",
              "\n",
              "    .dataframe tbody tr th {\n",
              "        vertical-align: top;\n",
              "    }\n",
              "\n",
              "    .dataframe thead th {\n",
              "        text-align: right;\n",
              "    }\n",
              "</style>\n",
              "<table border=\"1\" class=\"dataframe\">\n",
              "  <thead>\n",
              "    <tr style=\"text-align: right;\">\n",
              "      <th></th>\n",
              "      <th>StoreCode</th>\n",
              "      <th>Date</th>\n",
              "      <th>ChickenHuns</th>\n",
              "      <th>1pc</th>\n",
              "      <th>2 pc</th>\n",
              "      <th>3 pc</th>\n",
              "      <th>4 pc</th>\n",
              "      <th>8pc</th>\n",
              "      <th>8pc Meal</th>\n",
              "      <th>12 pc</th>\n",
              "      <th>12 pc Meal</th>\n",
              "      <th>16 pc</th>\n",
              "      <th>16 pc Meal</th>\n",
              "      <th>20 pc</th>\n",
              "      <th>20 pc Meal</th>\n",
              "    </tr>\n",
              "  </thead>\n",
              "  <tbody>\n",
              "    <tr>\n",
              "      <th>0</th>\n",
              "      <td>C750001</td>\n",
              "      <td>20180221</td>\n",
              "      <td>20.625</td>\n",
              "      <td>23</td>\n",
              "      <td>61</td>\n",
              "      <td>10</td>\n",
              "      <td>0</td>\n",
              "      <td>29</td>\n",
              "      <td>1</td>\n",
              "      <td>7</td>\n",
              "      <td>1</td>\n",
              "      <td>4</td>\n",
              "      <td>0</td>\n",
              "      <td>1</td>\n",
              "      <td>1</td>\n",
              "    </tr>\n",
              "    <tr>\n",
              "      <th>1</th>\n",
              "      <td>C750001</td>\n",
              "      <td>20180222</td>\n",
              "      <td>18.125</td>\n",
              "      <td>19</td>\n",
              "      <td>78</td>\n",
              "      <td>5</td>\n",
              "      <td>0</td>\n",
              "      <td>23</td>\n",
              "      <td>3</td>\n",
              "      <td>14</td>\n",
              "      <td>0</td>\n",
              "      <td>9</td>\n",
              "      <td>1</td>\n",
              "      <td>0</td>\n",
              "      <td>0</td>\n",
              "    </tr>\n",
              "    <tr>\n",
              "      <th>2</th>\n",
              "      <td>C750001</td>\n",
              "      <td>20180223</td>\n",
              "      <td>14.875</td>\n",
              "      <td>16</td>\n",
              "      <td>68</td>\n",
              "      <td>8</td>\n",
              "      <td>0</td>\n",
              "      <td>34</td>\n",
              "      <td>1</td>\n",
              "      <td>10</td>\n",
              "      <td>2</td>\n",
              "      <td>7</td>\n",
              "      <td>1</td>\n",
              "      <td>1</td>\n",
              "      <td>0</td>\n",
              "    </tr>\n",
              "    <tr>\n",
              "      <th>3</th>\n",
              "      <td>C750001</td>\n",
              "      <td>20180224</td>\n",
              "      <td>25.875</td>\n",
              "      <td>17</td>\n",
              "      <td>48</td>\n",
              "      <td>4</td>\n",
              "      <td>0</td>\n",
              "      <td>29</td>\n",
              "      <td>2</td>\n",
              "      <td>9</td>\n",
              "      <td>1</td>\n",
              "      <td>5</td>\n",
              "      <td>1</td>\n",
              "      <td>0</td>\n",
              "      <td>0</td>\n",
              "    </tr>\n",
              "    <tr>\n",
              "      <th>4</th>\n",
              "      <td>C750001</td>\n",
              "      <td>20180225</td>\n",
              "      <td>24.500</td>\n",
              "      <td>21</td>\n",
              "      <td>43</td>\n",
              "      <td>6</td>\n",
              "      <td>0</td>\n",
              "      <td>27</td>\n",
              "      <td>3</td>\n",
              "      <td>14</td>\n",
              "      <td>1</td>\n",
              "      <td>5</td>\n",
              "      <td>1</td>\n",
              "      <td>0</td>\n",
              "      <td>0</td>\n",
              "    </tr>\n",
              "  </tbody>\n",
              "</table>\n",
              "</div>"
            ],
            "text/plain": [
              "  StoreCode      Date  ChickenHuns  1pc  ...  16 pc  16 pc Meal  20 pc  20 pc Meal\n",
              "0   C750001  20180221       20.625   23  ...      4           0      1           1\n",
              "1   C750001  20180222       18.125   19  ...      9           1      0           0\n",
              "2   C750001  20180223       14.875   16  ...      7           1      1           0\n",
              "3   C750001  20180224       25.875   17  ...      5           1      0           0\n",
              "4   C750001  20180225       24.500   21  ...      5           1      0           0\n",
              "\n",
              "[5 rows x 15 columns]"
            ]
          },
          "metadata": {
            "tags": []
          },
          "execution_count": 4
        }
      ]
    },
    {
      "cell_type": "code",
      "metadata": {
        "id": "5KIL8x8t22x_",
        "colab_type": "code",
        "colab": {
          "base_uri": "https://localhost:8080/",
          "height": 34
        },
        "outputId": "5e22eeb9-5ceb-46c8-9def-2846fa891f5e"
      },
      "source": [
        "df.shape"
      ],
      "execution_count": 6,
      "outputs": [
        {
          "output_type": "execute_result",
          "data": {
            "text/plain": [
              "(3530, 15)"
            ]
          },
          "metadata": {
            "tags": []
          },
          "execution_count": 6
        }
      ]
    },
    {
      "cell_type": "code",
      "metadata": {
        "id": "KIIno2Ri243I",
        "colab_type": "code",
        "colab": {
          "base_uri": "https://localhost:8080/",
          "height": 334
        },
        "outputId": "add820a3-e598-46b9-b93e-f84db8b31f72"
      },
      "source": [
        "df.describe()"
      ],
      "execution_count": 7,
      "outputs": [
        {
          "output_type": "execute_result",
          "data": {
            "text/html": [
              "<div>\n",
              "<style scoped>\n",
              "    .dataframe tbody tr th:only-of-type {\n",
              "        vertical-align: middle;\n",
              "    }\n",
              "\n",
              "    .dataframe tbody tr th {\n",
              "        vertical-align: top;\n",
              "    }\n",
              "\n",
              "    .dataframe thead th {\n",
              "        text-align: right;\n",
              "    }\n",
              "</style>\n",
              "<table border=\"1\" class=\"dataframe\">\n",
              "  <thead>\n",
              "    <tr style=\"text-align: right;\">\n",
              "      <th></th>\n",
              "      <th>Date</th>\n",
              "      <th>ChickenHuns</th>\n",
              "      <th>1pc</th>\n",
              "      <th>2 pc</th>\n",
              "      <th>3 pc</th>\n",
              "      <th>4 pc</th>\n",
              "      <th>8pc</th>\n",
              "      <th>8pc Meal</th>\n",
              "      <th>12 pc</th>\n",
              "      <th>12 pc Meal</th>\n",
              "      <th>16 pc</th>\n",
              "      <th>16 pc Meal</th>\n",
              "      <th>20 pc</th>\n",
              "      <th>20 pc Meal</th>\n",
              "    </tr>\n",
              "  </thead>\n",
              "  <tbody>\n",
              "    <tr>\n",
              "      <th>count</th>\n",
              "      <td>3.530000e+03</td>\n",
              "      <td>3530.000000</td>\n",
              "      <td>3530.000000</td>\n",
              "      <td>3530.00000</td>\n",
              "      <td>3530.000000</td>\n",
              "      <td>3530.000000</td>\n",
              "      <td>3530.000000</td>\n",
              "      <td>3530.000000</td>\n",
              "      <td>3530.000000</td>\n",
              "      <td>3530.000000</td>\n",
              "      <td>3530.000000</td>\n",
              "      <td>3530.000000</td>\n",
              "      <td>3530.000000</td>\n",
              "      <td>3530.000000</td>\n",
              "    </tr>\n",
              "    <tr>\n",
              "      <th>mean</th>\n",
              "      <td>2.018706e+07</td>\n",
              "      <td>17.155524</td>\n",
              "      <td>13.025779</td>\n",
              "      <td>41.30085</td>\n",
              "      <td>6.333144</td>\n",
              "      <td>2.237960</td>\n",
              "      <td>6.272238</td>\n",
              "      <td>2.341643</td>\n",
              "      <td>5.910198</td>\n",
              "      <td>1.699433</td>\n",
              "      <td>3.461190</td>\n",
              "      <td>0.987252</td>\n",
              "      <td>0.273088</td>\n",
              "      <td>0.322380</td>\n",
              "    </tr>\n",
              "    <tr>\n",
              "      <th>std</th>\n",
              "      <td>5.988819e+03</td>\n",
              "      <td>36.131985</td>\n",
              "      <td>8.964851</td>\n",
              "      <td>15.46182</td>\n",
              "      <td>5.611545</td>\n",
              "      <td>2.649557</td>\n",
              "      <td>5.881116</td>\n",
              "      <td>1.757144</td>\n",
              "      <td>3.246575</td>\n",
              "      <td>1.475991</td>\n",
              "      <td>2.381875</td>\n",
              "      <td>1.212996</td>\n",
              "      <td>0.598653</td>\n",
              "      <td>0.778198</td>\n",
              "    </tr>\n",
              "    <tr>\n",
              "      <th>min</th>\n",
              "      <td>2.018022e+07</td>\n",
              "      <td>-548.500000</td>\n",
              "      <td>0.000000</td>\n",
              "      <td>3.00000</td>\n",
              "      <td>0.000000</td>\n",
              "      <td>0.000000</td>\n",
              "      <td>0.000000</td>\n",
              "      <td>-1.000000</td>\n",
              "      <td>0.000000</td>\n",
              "      <td>0.000000</td>\n",
              "      <td>0.000000</td>\n",
              "      <td>0.000000</td>\n",
              "      <td>-1.000000</td>\n",
              "      <td>-1.000000</td>\n",
              "    </tr>\n",
              "    <tr>\n",
              "      <th>25%</th>\n",
              "      <td>2.018082e+07</td>\n",
              "      <td>10.750000</td>\n",
              "      <td>7.000000</td>\n",
              "      <td>30.00000</td>\n",
              "      <td>2.000000</td>\n",
              "      <td>0.000000</td>\n",
              "      <td>2.000000</td>\n",
              "      <td>1.000000</td>\n",
              "      <td>4.000000</td>\n",
              "      <td>1.000000</td>\n",
              "      <td>2.000000</td>\n",
              "      <td>0.000000</td>\n",
              "      <td>0.000000</td>\n",
              "      <td>0.000000</td>\n",
              "    </tr>\n",
              "    <tr>\n",
              "      <th>50%</th>\n",
              "      <td>2.019022e+07</td>\n",
              "      <td>15.500000</td>\n",
              "      <td>13.000000</td>\n",
              "      <td>40.00000</td>\n",
              "      <td>5.000000</td>\n",
              "      <td>1.000000</td>\n",
              "      <td>4.000000</td>\n",
              "      <td>2.000000</td>\n",
              "      <td>5.000000</td>\n",
              "      <td>1.000000</td>\n",
              "      <td>3.000000</td>\n",
              "      <td>1.000000</td>\n",
              "      <td>0.000000</td>\n",
              "      <td>0.000000</td>\n",
              "    </tr>\n",
              "    <tr>\n",
              "      <th>75%</th>\n",
              "      <td>2.019082e+07</td>\n",
              "      <td>21.000000</td>\n",
              "      <td>19.000000</td>\n",
              "      <td>51.00000</td>\n",
              "      <td>9.000000</td>\n",
              "      <td>4.000000</td>\n",
              "      <td>9.000000</td>\n",
              "      <td>3.000000</td>\n",
              "      <td>8.000000</td>\n",
              "      <td>2.000000</td>\n",
              "      <td>5.000000</td>\n",
              "      <td>2.000000</td>\n",
              "      <td>0.000000</td>\n",
              "      <td>0.000000</td>\n",
              "    </tr>\n",
              "    <tr>\n",
              "      <th>max</th>\n",
              "      <td>2.020022e+07</td>\n",
              "      <td>1053.500000</td>\n",
              "      <td>54.000000</td>\n",
              "      <td>110.00000</td>\n",
              "      <td>38.000000</td>\n",
              "      <td>15.000000</td>\n",
              "      <td>34.000000</td>\n",
              "      <td>14.000000</td>\n",
              "      <td>22.000000</td>\n",
              "      <td>9.000000</td>\n",
              "      <td>22.000000</td>\n",
              "      <td>14.000000</td>\n",
              "      <td>6.000000</td>\n",
              "      <td>11.000000</td>\n",
              "    </tr>\n",
              "  </tbody>\n",
              "</table>\n",
              "</div>"
            ],
            "text/plain": [
              "               Date  ChickenHuns  ...        20 pc   20 pc Meal\n",
              "count  3.530000e+03  3530.000000  ...  3530.000000  3530.000000\n",
              "mean   2.018706e+07    17.155524  ...     0.273088     0.322380\n",
              "std    5.988819e+03    36.131985  ...     0.598653     0.778198\n",
              "min    2.018022e+07  -548.500000  ...    -1.000000    -1.000000\n",
              "25%    2.018082e+07    10.750000  ...     0.000000     0.000000\n",
              "50%    2.019022e+07    15.500000  ...     0.000000     0.000000\n",
              "75%    2.019082e+07    21.000000  ...     0.000000     0.000000\n",
              "max    2.020022e+07  1053.500000  ...     6.000000    11.000000\n",
              "\n",
              "[8 rows x 14 columns]"
            ]
          },
          "metadata": {
            "tags": []
          },
          "execution_count": 7
        }
      ]
    },
    {
      "cell_type": "code",
      "metadata": {
        "id": "bSlJ9vfq288A",
        "colab_type": "code",
        "colab": {
          "base_uri": "https://localhost:8080/",
          "height": 289
        },
        "outputId": "04678a89-3582-4ae0-9e41-5598dfbf7ea2"
      },
      "source": [
        "df.dtypes"
      ],
      "execution_count": 8,
      "outputs": [
        {
          "output_type": "execute_result",
          "data": {
            "text/plain": [
              "StoreCode       object\n",
              "Date             int64\n",
              "ChickenHuns    float64\n",
              "1pc              int64\n",
              "2 pc             int64\n",
              "3 pc             int64\n",
              "4 pc             int64\n",
              "8pc              int64\n",
              "8pc Meal         int64\n",
              "12 pc            int64\n",
              "12 pc Meal       int64\n",
              "16 pc            int64\n",
              "16 pc Meal       int64\n",
              "20 pc            int64\n",
              "20 pc Meal       int64\n",
              "dtype: object"
            ]
          },
          "metadata": {
            "tags": []
          },
          "execution_count": 8
        }
      ]
    },
    {
      "cell_type": "code",
      "metadata": {
        "id": "UKkk1eZTEOpj",
        "colab_type": "code",
        "colab": {
          "base_uri": "https://localhost:8080/",
          "height": 221
        },
        "outputId": "0d1606fa-c7cb-463e-fbb2-f72e2c084a12"
      },
      "source": [
        "df.ChickenHuns.value_counts()"
      ],
      "execution_count": 46,
      "outputs": [
        {
          "output_type": "execute_result",
          "data": {
            "text/plain": [
              " 12.875    37\n",
              " 14.625    35\n",
              " 14.375    33\n",
              " 10.000    30\n",
              " 15.875    29\n",
              "           ..\n",
              " 2.250      1\n",
              "-5.250      1\n",
              "-9.500      1\n",
              "-10.000     1\n",
              " 57.375     1\n",
              "Name: ChickenHuns, Length: 500, dtype: int64"
            ]
          },
          "metadata": {
            "tags": []
          },
          "execution_count": 46
        }
      ]
    },
    {
      "cell_type": "code",
      "metadata": {
        "id": "IXvkqF2iER_b",
        "colab_type": "code",
        "colab": {
          "base_uri": "https://localhost:8080/",
          "height": 34
        },
        "outputId": "c579cc80-06c9-417c-ede6-323e4cd465be"
      },
      "source": [
        "df.ChickenHuns.isnull().sum()"
      ],
      "execution_count": 48,
      "outputs": [
        {
          "output_type": "execute_result",
          "data": {
            "text/plain": [
              "0"
            ]
          },
          "metadata": {
            "tags": []
          },
          "execution_count": 48
        }
      ]
    },
    {
      "cell_type": "code",
      "metadata": {
        "id": "zDkg1aeBEUJz",
        "colab_type": "code",
        "colab": {
          "base_uri": "https://localhost:8080/",
          "height": 119
        },
        "outputId": "ba6ca611-f7a9-494d-b635-14a3792d6ee5"
      },
      "source": [
        "df.StoreCode.value_counts()"
      ],
      "execution_count": 49,
      "outputs": [
        {
          "output_type": "execute_result",
          "data": {
            "text/plain": [
              "C750036    725\n",
              "C750002    725\n",
              "C750004    725\n",
              "C750001    685\n",
              "C750081    670\n",
              "Name: StoreCode, dtype: int64"
            ]
          },
          "metadata": {
            "tags": []
          },
          "execution_count": 49
        }
      ]
    },
    {
      "cell_type": "code",
      "metadata": {
        "id": "lekSXbGgEhN0",
        "colab_type": "code",
        "colab": {
          "base_uri": "https://localhost:8080/",
          "height": 221
        },
        "outputId": "e975fe32-bfa8-46db-a7b8-c8c78c940545"
      },
      "source": [
        "df.Date.value_counts()"
      ],
      "execution_count": 50,
      "outputs": [
        {
          "output_type": "execute_result",
          "data": {
            "text/plain": [
              "20191231    5\n",
              "20180719    5\n",
              "20191024    5\n",
              "20191022    5\n",
              "20191020    5\n",
              "           ..\n",
              "20190810    4\n",
              "20190808    4\n",
              "20190806    4\n",
              "20190804    4\n",
              "20181002    4\n",
              "Name: Date, Length: 725, dtype: int64"
            ]
          },
          "metadata": {
            "tags": []
          },
          "execution_count": 50
        }
      ]
    },
    {
      "cell_type": "markdown",
      "metadata": {
        "id": "RAwlsuDbhQmd",
        "colab_type": "text"
      },
      "source": [
        "## The Target: ChickenHuns\n",
        "Heads Used but Not Sold (HUNS) is a measure of money lost and food wasted."
      ]
    },
    {
      "cell_type": "markdown",
      "metadata": {
        "id": "kzULimEZ6diQ",
        "colab_type": "text"
      },
      "source": [
        "## The Problem: Regression\n",
        "ChickenHuns is a continuous, numeric variable. Therefore, this is a regressions problem.\n",
        "\n",
        "But would it be worthwhile to great ChickenHuns as categorical? Examples would be yes/no or none/little/much."
      ]
    },
    {
      "cell_type": "markdown",
      "metadata": {
        "id": "kimlHHse31Vp",
        "colab_type": "text"
      },
      "source": [
        "## The Distribution: Right-Skewed\n",
        "The distribution is right-skewed."
      ]
    },
    {
      "cell_type": "code",
      "metadata": {
        "id": "J8YwN1gTgjrg",
        "colab_type": "code",
        "outputId": "9cc0b91f-f2b5-44e2-b45d-415858ecbfdd",
        "colab": {
          "base_uri": "https://localhost:8080/",
          "height": 265
        }
      },
      "source": [
        "from matplotlib import pyplot as plt\n",
        "plt.hist(df['ChickenHuns'], bins=[-10, -5, 0, 5, 10, 15, 20, 25, 30, 35])\n",
        "plt.show();"
      ],
      "execution_count": 10,
      "outputs": [
        {
          "output_type": "display_data",
          "data": {
            "image/png": "[encoded data removed]",
            "text/plain": [
              "<Figure size 432x288 with 1 Axes>"
            ]
          },
          "metadata": {
            "tags": [],
            "needs_background": "light"
          }
        }
      ]
    },
    {
      "cell_type": "code",
      "metadata": {
        "id": "tIK-bNBj3csZ",
        "colab_type": "code",
        "colab": {
          "base_uri": "https://localhost:8080/",
          "height": 279
        },
        "outputId": "3b6605cc-1b0d-4e70-b04d-6751849d108c"
      },
      "source": [
        "import seaborn as sns\n",
        "sns.distplot(df['ChickenHuns']);"
      ],
      "execution_count": 12,
      "outputs": [
        {
          "output_type": "display_data",
          "data": {
            "image/png": "[encoded data removed]",
            "text/plain": [
              "<Figure size 432x288 with 1 Axes>"
            ]
          },
          "metadata": {
            "tags": [],
            "needs_background": "light"
          }
        }
      ]
    },
    {
      "cell_type": "code",
      "metadata": {
        "id": "OX65iVer3oAa",
        "colab_type": "code",
        "colab": {
          "base_uri": "https://localhost:8080/",
          "height": 279
        },
        "outputId": "f39085a5-8cd7-4855-a335-4f1be30a445c"
      },
      "source": [
        "sns.violinplot(x='StoreCode', y='ChickenHuns', data=df);"
      ],
      "execution_count": 14,
      "outputs": [
        {
          "output_type": "display_data",
          "data": {
            "image/png": "[encoded data removed]",
            "text/plain": [
              "<Figure size 432x288 with 1 Axes>"
            ]
          },
          "metadata": {
            "tags": [],
            "needs_background": "light"
          }
        }
      ]
    },
    {
      "cell_type": "markdown",
      "metadata": {
        "id": "7LbWkA0h7J7i",
        "colab_type": "text"
      },
      "source": [
        "## The Evaluation Metric: R^2\n",
        "Evaluation metric(s) for this regression problem will be mean absolute error."
      ]
    },
    {
      "cell_type": "code",
      "metadata": {
        "id": "-NrZm1Pf3uYJ",
        "colab_type": "code",
        "colab": {
          "base_uri": "https://localhost:8080/",
          "height": 34
        },
        "outputId": "9ddcd485-ab22-4b08-fb69-cf1427aaee5f"
      },
      "source": [
        "# Baseline is average\n",
        "print(f'Baseline average HUNS is: {df[\"ChickenHuns\"].mean()*100:.2f}')"
      ],
      "execution_count": 24,
      "outputs": [
        {
          "output_type": "stream",
          "text": [
            "Baseline average HUNS is: 1715.55\n"
          ],
          "name": "stdout"
        }
      ]
    },
    {
      "cell_type": "markdown",
      "metadata": {
        "id": "vY9MKeLv9oPH",
        "colab_type": "text"
      },
      "source": [
        "## The Observations: Exclude Outliers; Time-Based Split\n",
        "I'd rather not use date, because this time period includes management and other changes. Possibly I should try random and time based splits.\n",
        "\n",
        "Then again, not using date might incur the problem of time travel.\n",
        "\n",
        "Try it both ways and see.\n",
        "\n",
        "At first glance, it appears that HUNS is roughly normal in a range from -548.5 to 1053.5. But this looks incorrect: neither negative nor very high numbers make sense. Get rid of negative numbers and very high numbers.\n",
        "\n",
        "The same goes for other features, if necessary."
      ]
    },
    {
      "cell_type": "markdown",
      "metadata": {
        "id": "C9BBsgJU9Fvd",
        "colab_type": "text"
      },
      "source": [
        "# Data Cleaning and Exploration\n",
        "- Get rid of outliers\n",
        "- Get rid of negative numbers\n",
        "\n",
        "## Note to self:\n",
        "Check with the business about negative numbers. Maybe that is a correct bookkeeping type detail."
      ]
    },
    {
      "cell_type": "code",
      "metadata": {
        "id": "C-w_BympAebd",
        "colab_type": "code",
        "colab": {}
      },
      "source": [
        "huns = df.copy()"
      ],
      "execution_count": 0,
      "outputs": []
    },
    {
      "cell_type": "code",
      "metadata": {
        "id": "CIxttK1yAuw8",
        "colab_type": "code",
        "colab": {
          "base_uri": "https://localhost:8080/",
          "height": 170
        },
        "outputId": "6ddf476d-846d-4fbf-8f01-2c96b3a3b4fc"
      },
      "source": [
        "huns['ChickenHuns'].describe().T"
      ],
      "execution_count": 29,
      "outputs": [
        {
          "output_type": "execute_result",
          "data": {
            "text/plain": [
              "count    3530.000000\n",
              "mean       17.155524\n",
              "std        36.131985\n",
              "min      -548.500000\n",
              "25%        10.750000\n",
              "50%        15.500000\n",
              "75%        21.000000\n",
              "max      1053.500000\n",
              "Name: ChickenHuns, dtype: float64"
            ]
          },
          "metadata": {
            "tags": []
          },
          "execution_count": 29
        }
      ]
    },
    {
      "cell_type": "code",
      "metadata": {
        "id": "5qgJMr0GA2wE",
        "colab_type": "code",
        "colab": {
          "base_uri": "https://localhost:8080/",
          "height": 221
        },
        "outputId": "0244a88f-5597-46f2-c681-6d3b33d8804c"
      },
      "source": [
        "huns['ChickenHuns'].value_counts()"
      ],
      "execution_count": 34,
      "outputs": [
        {
          "output_type": "execute_result",
          "data": {
            "text/plain": [
              " 12.875    37\n",
              " 14.625    35\n",
              " 14.375    33\n",
              " 10.000    30\n",
              " 15.875    29\n",
              "           ..\n",
              " 2.250      1\n",
              "-5.250      1\n",
              "-9.500      1\n",
              "-10.000     1\n",
              " 57.375     1\n",
              "Name: ChickenHuns, Length: 500, dtype: int64"
            ]
          },
          "metadata": {
            "tags": []
          },
          "execution_count": 34
        }
      ]
    },
    {
      "cell_type": "code",
      "metadata": {
        "id": "E9kbLR21_ANy",
        "colab_type": "code",
        "colab": {
          "base_uri": "https://localhost:8080/",
          "height": 298
        },
        "outputId": "7167e58d-f322-423d-a564-51a92f3945a4"
      },
      "source": [
        "(df['ChickenHuns']\n",
        " .value_counts(sort=False)\n",
        " .plot.barh()\n",
        " .set_title('HUNS')\n",
        ")"
      ],
      "execution_count": 27,
      "outputs": [
        {
          "output_type": "execute_result",
          "data": {
            "text/plain": [
              "Text(0.5, 1.0, 'HUNS')"
            ]
          },
          "metadata": {
            "tags": []
          },
          "execution_count": 27
        },
        {
          "output_type": "display_data",
          "data": {
            "image/png": "[encoded data removed]",
            "text/plain": [
              "<Figure size 432x288 with 1 Axes>"
            ]
          },
          "metadata": {
            "tags": [],
            "needs_background": "light"
          }
        }
      ]
    },
    {
      "cell_type": "markdown",
      "metadata": {
        "id": "Tiu0Ui89-5AL",
        "colab_type": "text"
      },
      "source": [
        "## Exclude Outliers"
      ]
    },
    {
      "cell_type": "code",
      "metadata": {
        "id": "nYdJJCnRAgp1",
        "colab_type": "code",
        "colab": {}
      },
      "source": [
        "# Drop observations where ChickenHuns <0 or >35"
      ],
      "execution_count": 0,
      "outputs": []
    },
    {
      "cell_type": "code",
      "metadata": {
        "id": "PFDwr2ZXBS3P",
        "colab_type": "code",
        "colab": {}
      },
      "source": [
        "# Drop observations where any value <0"
      ],
      "execution_count": 0,
      "outputs": []
    },
    {
      "cell_type": "code",
      "metadata": {
        "id": "xf-Zr3jnBdk_",
        "colab_type": "code",
        "colab": {}
      },
      "source": [
        "# Convert date column to datetime"
      ],
      "execution_count": 0,
      "outputs": []
    },
    {
      "cell_type": "code",
      "metadata": {
        "id": "czf0qaBbBrg-",
        "colab_type": "code",
        "colab": {
          "base_uri": "https://localhost:8080/",
          "height": 295
        },
        "outputId": "dad04cde-4b28-4a67-83da-62b946d0c1e8"
      },
      "source": [
        "(huns\n",
        " .plot\n",
        " .scatter(x='8pc', y='ChickenHuns')\n",
        " .set(title='HUNS vs 8 pc Sold (Not Meal)',\n",
        "      xlabel='8 pc Sold',\n",
        "      ylabel='Heads Used but Not Sold')\n",
        ");"
      ],
      "execution_count": 41,
      "outputs": [
        {
          "output_type": "display_data",
          "data": {
            "image/png": "[encoded data removed]",
            "text/plain": [
              "<Figure size 432x288 with 1 Axes>"
            ]
          },
          "metadata": {
            "tags": [],
            "needs_background": "light"
          }
        }
      ]
    },
    {
      "cell_type": "code",
      "metadata": {
        "id": "aFsKeWuACc7q",
        "colab_type": "code",
        "colab": {
          "base_uri": "https://localhost:8080/",
          "height": 295
        },
        "outputId": "ae9edfce-84f7-4fa8-92eb-8c3cc711fda6"
      },
      "source": [
        "(huns\n",
        " .plot\n",
        " .scatter(x='8pc Meal', y='ChickenHuns')\n",
        " .set(title='HUNS vs 8 pc Sold (Meal)',\n",
        "      xlabel='8 pc Sold',\n",
        "      ylabel='Heads Used but Not Sold')\n",
        ");"
      ],
      "execution_count": 42,
      "outputs": [
        {
          "output_type": "display_data",
          "data": {
            "image/png": "[encoded data removed]",
            "text/plain": [
              "<Figure size 432x288 with 1 Axes>"
            ]
          },
          "metadata": {
            "tags": [],
            "needs_background": "light"
          }
        }
      ]
    },
    {
      "cell_type": "code",
      "metadata": {
        "id": "Buq8ZlFTD-59",
        "colab_type": "code",
        "colab": {
          "base_uri": "https://localhost:8080/",
          "height": 295
        },
        "outputId": "b96059fe-3cd6-493b-f64e-4e91bdda91ab"
      },
      "source": [
        "(huns\n",
        " .plot\n",
        " .scatter(x='StoreCode', y='ChickenHuns')\n",
        " .set(title='HUNS by Store',\n",
        "      xlabel='Store Code',\n",
        "      ylabel='Heads Used but Not Sold')\n",
        ");"
      ],
      "execution_count": 45,
      "outputs": [
        {
          "output_type": "display_data",
          "data": {
            "image/png": "[encoded data removed]",
            "text/plain": [
              "<Figure size 432x288 with 1 Axes>"
            ]
          },
          "metadata": {
            "tags": [],
            "needs_background": "light"
          }
        }
      ]
    },
    {
      "cell_type": "code",
      "metadata": {
        "id": "Tl5AbrskDm1F",
        "colab_type": "code",
        "colab": {
          "base_uri": "https://localhost:8080/",
          "height": 296
        },
        "outputId": "70b516d4-c483-4380-b1d5-7fa0eeb6a929"
      },
      "source": [
        "huns.set_index('Date')['ChickenHuns'].plot()"
      ],
      "execution_count": 44,
      "outputs": [
        {
          "output_type": "execute_result",
          "data": {
            "text/plain": [
              "<matplotlib.axes._subplots.AxesSubplot at 0x7f0e1558ba90>"
            ]
          },
          "metadata": {
            "tags": []
          },
          "execution_count": 44
        },
        {
          "output_type": "display_data",
          "data": {
            "image/png": "[encoded data removed]",
            "text/plain": [
              "<Figure size 432x288 with 1 Axes>"
            ]
          },
          "metadata": {
            "tags": [],
            "needs_background": "light"
          }
        }
      ]
    },
    {
      "cell_type": "markdown",
      "metadata": {
        "id": "8Fq6I3suFd-v",
        "colab_type": "text"
      },
      "source": [
        "## Log Transform"
      ]
    },
    {
      "cell_type": "markdown",
      "metadata": {
        "id": "oLTltN8vC5f8",
        "colab_type": "text"
      },
      "source": [
        "# Feature Engineering\n",
        "- All meals\n",
        "- Yesterday's ChickenHuns\n",
        "- Yesterday's meals\n",
        "- Last week, month, etc. (crackdown by regional manager?)\n",
        "- Weekday/weekend (busier? different manager?)\n",
        "- Modulus of total pieces divided by eight (a head of chicken is eight pieces)\n",
        "- Store number (effect of management)\n",
        "- Ratio of 24pc to 8pc (staff anticipating 24pc but disappointed?)\n",
        "- Rolling averages of 24pc (inversely related to HUNS?)"
      ]
    },
    {
      "cell_type": "code",
      "metadata": {
        "id": "8fAWH9tM9GTt",
        "colab_type": "code",
        "colab": {}
      },
      "source": [
        ""
      ],
      "execution_count": 0,
      "outputs": []
    },
    {
      "cell_type": "markdown",
      "metadata": {
        "id": "wt9xRcvNGI0o",
        "colab_type": "text"
      },
      "source": [
        "# Train/Test Split"
      ]
    },
    {
      "cell_type": "markdown",
      "metadata": {
        "id": "0jlHYbrFF_PS",
        "colab_type": "text"
      },
      "source": [
        "# Data Wrangling and Feature Engineering Function"
      ]
    },
    {
      "cell_type": "code",
      "metadata": {
        "id": "J37-3CA0GIGA",
        "colab_type": "code",
        "colab": {}
      },
      "source": [
        ""
      ],
      "execution_count": 0,
      "outputs": []
    },
    {
      "cell_type": "markdown",
      "metadata": {
        "id": "zTZZPuR0GLYZ",
        "colab_type": "text"
      },
      "source": [
        "# Fit and Train Model"
      ]
    },
    {
      "cell_type": "code",
      "metadata": {
        "id": "V9n6cOd1GhcH",
        "colab_type": "code",
        "colab": {}
      },
      "source": [
        ""
      ],
      "execution_count": 0,
      "outputs": []
    }
  ]
}