{
 "cells": [
  {
   "cell_type": "markdown",
   "metadata": {
    "colab_type": "text",
    "id": "Kz9V5lVFMo86"
   },
   "source": [
    "_Lambda School Data Science, Unit 2_\n",
    "\n",
    "# Applied Modeling Sprint Challenge: Predict Chicago food inspections 🍕"
   ]
  },
  {
   "cell_type": "markdown",
   "metadata": {
    "colab_type": "text",
    "id": "yWOjtM9iMo87"
   },
   "source": [
    "For this Sprint Challenge, you'll use a dataset with information from inspections of restaurants and other food establishments in Chicago from January 2010 to March 2019. \n",
    "\n",
    "[See this PDF](https://data.cityofchicago.org/api/assets/BAD5301B-681A-4202-9D25-51B2CAE672FF) for descriptions of the data elements included in this dataset.\n",
    "\n",
    "According to [Chicago Department of Public Health — Food Protection Services](https://www.chicago.gov/city/en/depts/cdph/provdrs/healthy_restaurants/svcs/food-protection-services.html), \"Chicago is home to 16,000 food establishments like restaurants, grocery stores, bakeries, wholesalers, lunchrooms, mobile food vendors and more. Our business is food safety and sanitation with one goal, to prevent the spread of food-borne disease. We do this by inspecting food businesses, responding to complaints and food recalls.\" "
   ]
  },
  {
   "cell_type": "markdown",
   "metadata": {
    "colab_type": "text",
    "id": "VvBYdx2xMo88"
   },
   "source": [
    "#### Your challenge: Predict whether inspections failed\n",
    "\n",
    "The target is the `Fail` column.\n",
    "\n",
    "- When the food establishment failed the inspection, the target is `1`.\n",
    "- When the establishment passed, the target is `0`."
   ]
  },
  {
   "cell_type": "markdown",
   "metadata": {
    "colab_type": "text",
    "id": "3YMtu4LaF8Jq"
   },
   "source": [
    "#### Run this cell to install packages in Colab:"
   ]
  },
  {
   "cell_type": "code",
   "execution_count": 65,
   "metadata": {
    "colab": {},
    "colab_type": "code",
    "id": "vWyiJKQgF6ax"
   },
   "outputs": [],
   "source": [
    "%%capture\n",
    "import sys\n",
    "\n",
    "if 'google.colab' in sys.modules:\n",
    "    # Install packages in Colab\n",
    "    !pip install category_encoders==2.*\n",
    "    !pip install eli5\n",
    "    !pip install pandas-profiling==2.*\n",
    "    !pip install pdpbox\n",
    "    !pip install shap"
   ]
  },
  {
   "cell_type": "markdown",
   "metadata": {
    "colab_type": "text",
    "id": "Na5IvRq1Mo89"
   },
   "source": [
    "#### Run this cell to load the data:"
   ]
  },
  {
   "cell_type": "code",
   "execution_count": 158,
   "metadata": {
    "colab": {},
    "colab_type": "code",
    "id": "Yyc7zftTMo89"
   },
   "outputs": [],
   "source": [
    "import pandas as pd\n",
    "\n",
    "train_url = 'https://drive.google.com/uc?export=download&id=13_tP9JpLcZHSPVpWcua4t2rY44K_s4H5'\n",
    "test_url  = 'https://drive.google.com/uc?export=download&id=1GkDHjsiGrzOXoF_xcYjdzBTSjOIi3g5a'\n",
    "\n",
    "train = pd.read_csv(train_url)\n",
    "test  = pd.read_csv(test_url)\n",
    "\n",
    "assert train.shape == (51916, 17)\n",
    "assert test.shape  == (17306, 17)"
   ]
  },
  {
   "cell_type": "markdown",
   "metadata": {
    "colab_type": "text",
    "id": "8EhbzqgfMo9A"
   },
   "source": [
    "### Part 1: Preprocessing\n",
    "\n",
    "You may choose which features you want to use, and whether/how you will preprocess them. If you use categorical features, you may use any tools and techniques for encoding.\n",
    "\n",
    "_To earn a score of 3 for this part, find and explain leakage. The dataset has a feature that will give you an ROC AUC score > 0.90 if you process and use the feature. Find the leakage and explain why the feature shouldn't be used in a real-world model to predict the results of future inspections._\n",
    "\n",
    "### Part 2: Modeling\n",
    "\n",
    "**Fit a model** with the train set. (You may use scikit-learn, xgboost, or any other library.) Use cross-validation or do a three-way split (train/validate/test) and **estimate your ROC AUC** validation score.\n",
    "\n",
    "Use your model to **predict probabilities** for the test set. **Get an ROC AUC test score >= 0.60.**\n",
    "\n",
    "_To earn a score of 3 for this part, get an ROC AUC test score >= 0.70 (without using the feature with leakage)._\n",
    "\n",
    "\n",
    "### Part 3: Visualization\n",
    "\n",
    "Make visualizations for model interpretation. (You may use any libraries.) Choose two of these types:\n",
    "\n",
    "- Confusion Matrix\n",
    "- Permutation Importances\n",
    "- Partial Dependence Plot, 1 feature isolation\n",
    "- Partial Dependence Plot, 2 features interaction\n",
    "- Shapley Values\n",
    "\n",
    "_To earn a score of 3 for this part, make four of these visualization types._"
   ]
  },
  {
   "cell_type": "markdown",
   "metadata": {
    "colab_type": "text",
    "id": "muEIQ4EPGVH_"
   },
   "source": [
    "## Part 1: Preprocessing\n",
    "\n",
    "> You may choose which features you want to use, and whether/how you will preprocess them. If you use categorical features, you may use any tools and techniques for encoding."
   ]
  },
  {
   "cell_type": "code",
   "execution_count": 160,
   "metadata": {},
   "outputs": [],
   "source": [
    "import category_encoders as ce\n",
    "import pandas_profiling\n",
    "from sklearn.model_selection import train_test_split"
   ]
  },
  {
   "cell_type": "code",
   "execution_count": 161,
   "metadata": {},
   "outputs": [],
   "source": [
    "train, val = train_test_split(train, test_size=0.2)"
   ]
  },
  {
   "cell_type": "code",
   "execution_count": 162,
   "metadata": {},
   "outputs": [
    {
     "data": {
      "text/plain": [
       "(10384, 17)"
      ]
     },
     "execution_count": 162,
     "metadata": {},
     "output_type": "execute_result"
    }
   ],
   "source": [
    "val.shape"
   ]
  },
  {
   "cell_type": "code",
   "execution_count": 163,
   "metadata": {},
   "outputs": [],
   "source": [
    "# profile = train.profile_report()"
   ]
  },
  {
   "cell_type": "code",
   "execution_count": 164,
   "metadata": {},
   "outputs": [],
   "source": [
    "# profile"
   ]
  },
  {
   "cell_type": "code",
   "execution_count": 165,
   "metadata": {
    "colab": {},
    "colab_type": "code",
    "id": "Ao1PDJtpIWwp"
   },
   "outputs": [
    {
     "data": {
      "text/html": [
       "<div>\n",
       "<style scoped>\n",
       "    .dataframe tbody tr th:only-of-type {\n",
       "        vertical-align: middle;\n",
       "    }\n",
       "\n",
       "    .dataframe tbody tr th {\n",
       "        vertical-align: top;\n",
       "    }\n",
       "\n",
       "    .dataframe thead th {\n",
       "        text-align: right;\n",
       "    }\n",
       "</style>\n",
       "<table border=\"1\" class=\"dataframe\">\n",
       "  <thead>\n",
       "    <tr style=\"text-align: right;\">\n",
       "      <th></th>\n",
       "      <th>Inspection ID</th>\n",
       "      <th>DBA Name</th>\n",
       "      <th>AKA Name</th>\n",
       "      <th>License #</th>\n",
       "      <th>Facility Type</th>\n",
       "      <th>Risk</th>\n",
       "      <th>Address</th>\n",
       "      <th>City</th>\n",
       "      <th>State</th>\n",
       "      <th>Zip</th>\n",
       "      <th>Inspection Date</th>\n",
       "      <th>Inspection Type</th>\n",
       "      <th>Violations</th>\n",
       "      <th>Latitude</th>\n",
       "      <th>Longitude</th>\n",
       "      <th>Location</th>\n",
       "      <th>Fail</th>\n",
       "    </tr>\n",
       "  </thead>\n",
       "  <tbody>\n",
       "    <tr>\n",
       "      <th>38349</th>\n",
       "      <td>588219</td>\n",
       "      <td>JASON'S DELI</td>\n",
       "      <td>JASON'S DELI</td>\n",
       "      <td>2129572.0</td>\n",
       "      <td>Restaurant</td>\n",
       "      <td>Risk 1 (High)</td>\n",
       "      <td>195 N DEARBORN ST FL</td>\n",
       "      <td>CHICAGO</td>\n",
       "      <td>IL</td>\n",
       "      <td>60601.0</td>\n",
       "      <td>2012-01-27T00:00:00</td>\n",
       "      <td>License</td>\n",
       "      <td>NaN</td>\n",
       "      <td>41.885635</td>\n",
       "      <td>-87.629347</td>\n",
       "      <td>{'longitude': '-87.62934689882326', 'latitude'...</td>\n",
       "      <td>0</td>\n",
       "    </tr>\n",
       "    <tr>\n",
       "      <th>30513</th>\n",
       "      <td>634838</td>\n",
       "      <td>CHI'S JAC ROBINS</td>\n",
       "      <td>CHI'S JAC ROBINS</td>\n",
       "      <td>44755.0</td>\n",
       "      <td>Restaurant</td>\n",
       "      <td>Risk 2 (Medium)</td>\n",
       "      <td>5755 W 63RD ST</td>\n",
       "      <td>CHICAGO</td>\n",
       "      <td>IL</td>\n",
       "      <td>60638.0</td>\n",
       "      <td>2011-10-04T00:00:00</td>\n",
       "      <td>Canvass</td>\n",
       "      <td>33. FOOD AND NON-FOOD CONTACT EQUIPMENT UTENSI...</td>\n",
       "      <td>41.777845</td>\n",
       "      <td>-87.766381</td>\n",
       "      <td>{'longitude': '-87.76638143708638', 'latitude'...</td>\n",
       "      <td>0</td>\n",
       "    </tr>\n",
       "    <tr>\n",
       "      <th>49864</th>\n",
       "      <td>315238</td>\n",
       "      <td>1400 MARKET PLACE</td>\n",
       "      <td>1400 MARKET PLACE</td>\n",
       "      <td>1222361.0</td>\n",
       "      <td>Grocery Store</td>\n",
       "      <td>Risk 1 (High)</td>\n",
       "      <td>1400 N LAKE SHORE DR</td>\n",
       "      <td>CHICAGO</td>\n",
       "      <td>IL</td>\n",
       "      <td>60610.0</td>\n",
       "      <td>2010-07-29T00:00:00</td>\n",
       "      <td>Canvass</td>\n",
       "      <td>33. FOOD AND NON-FOOD CONTACT EQUIPMENT UTENSI...</td>\n",
       "      <td>41.907909</td>\n",
       "      <td>-87.625946</td>\n",
       "      <td>{'longitude': '-87.62594577820322', 'latitude'...</td>\n",
       "      <td>0</td>\n",
       "    </tr>\n",
       "    <tr>\n",
       "      <th>14096</th>\n",
       "      <td>2150968</td>\n",
       "      <td>THE MONTCLARE SUPPORTIVE LIVING COMMUNITY</td>\n",
       "      <td>THE MONTCLARE SUPPORTIVE LIVING COMMUNITY</td>\n",
       "      <td>2523720.0</td>\n",
       "      <td>Long Term Care</td>\n",
       "      <td>Risk 1 (High)</td>\n",
       "      <td>4339 W 18TH PL</td>\n",
       "      <td>CHICAGO</td>\n",
       "      <td>IL</td>\n",
       "      <td>60623.0</td>\n",
       "      <td>2018-03-26T00:00:00</td>\n",
       "      <td>Canvass</td>\n",
       "      <td>6. HANDS WASHED AND CLEANED, GOOD HYGIENIC PRA...</td>\n",
       "      <td>41.855772</td>\n",
       "      <td>-87.733888</td>\n",
       "      <td>{'longitude': '-87.7338878999525', 'latitude':...</td>\n",
       "      <td>1</td>\n",
       "    </tr>\n",
       "    <tr>\n",
       "      <th>3162</th>\n",
       "      <td>1300301</td>\n",
       "      <td>BIN 36</td>\n",
       "      <td>BIN 36</td>\n",
       "      <td>1597897.0</td>\n",
       "      <td>Restaurant</td>\n",
       "      <td>Risk 1 (High)</td>\n",
       "      <td>1559 N MILWAUKEE AVE</td>\n",
       "      <td>CHICAGO</td>\n",
       "      <td>IL</td>\n",
       "      <td>60622.0</td>\n",
       "      <td>2012-11-02T00:00:00</td>\n",
       "      <td>Canvass Re-Inspection</td>\n",
       "      <td>32. FOOD AND NON-FOOD CONTACT SURFACES PROPERL...</td>\n",
       "      <td>41.909926</td>\n",
       "      <td>-87.676534</td>\n",
       "      <td>{'longitude': '-87.67653435662255', 'latitude'...</td>\n",
       "      <td>0</td>\n",
       "    </tr>\n",
       "  </tbody>\n",
       "</table>\n",
       "</div>"
      ],
      "text/plain": [
       "       Inspection ID                                   DBA Name  \\\n",
       "38349         588219                               JASON'S DELI   \n",
       "30513         634838                           CHI'S JAC ROBINS   \n",
       "49864         315238                          1400 MARKET PLACE   \n",
       "14096        2150968  THE MONTCLARE SUPPORTIVE LIVING COMMUNITY   \n",
       "3162         1300301                                     BIN 36   \n",
       "\n",
       "                                        AKA Name  License #   Facility Type  \\\n",
       "38349                               JASON'S DELI  2129572.0      Restaurant   \n",
       "30513                           CHI'S JAC ROBINS    44755.0      Restaurant   \n",
       "49864                          1400 MARKET PLACE  1222361.0   Grocery Store   \n",
       "14096  THE MONTCLARE SUPPORTIVE LIVING COMMUNITY  2523720.0  Long Term Care   \n",
       "3162                                      BIN 36  1597897.0      Restaurant   \n",
       "\n",
       "                  Risk                Address     City State      Zip  \\\n",
       "38349    Risk 1 (High)  195 N DEARBORN ST FL   CHICAGO    IL  60601.0   \n",
       "30513  Risk 2 (Medium)        5755 W 63RD ST   CHICAGO    IL  60638.0   \n",
       "49864    Risk 1 (High)  1400 N LAKE SHORE DR   CHICAGO    IL  60610.0   \n",
       "14096    Risk 1 (High)        4339 W 18TH PL   CHICAGO    IL  60623.0   \n",
       "3162     Risk 1 (High)  1559 N MILWAUKEE AVE   CHICAGO    IL  60622.0   \n",
       "\n",
       "           Inspection Date        Inspection Type  \\\n",
       "38349  2012-01-27T00:00:00                License   \n",
       "30513  2011-10-04T00:00:00                Canvass   \n",
       "49864  2010-07-29T00:00:00                Canvass   \n",
       "14096  2018-03-26T00:00:00                Canvass   \n",
       "3162   2012-11-02T00:00:00  Canvass Re-Inspection   \n",
       "\n",
       "                                              Violations   Latitude  \\\n",
       "38349                                                NaN  41.885635   \n",
       "30513  33. FOOD AND NON-FOOD CONTACT EQUIPMENT UTENSI...  41.777845   \n",
       "49864  33. FOOD AND NON-FOOD CONTACT EQUIPMENT UTENSI...  41.907909   \n",
       "14096  6. HANDS WASHED AND CLEANED, GOOD HYGIENIC PRA...  41.855772   \n",
       "3162   32. FOOD AND NON-FOOD CONTACT SURFACES PROPERL...  41.909926   \n",
       "\n",
       "       Longitude                                           Location  Fail  \n",
       "38349 -87.629347  {'longitude': '-87.62934689882326', 'latitude'...     0  \n",
       "30513 -87.766381  {'longitude': '-87.76638143708638', 'latitude'...     0  \n",
       "49864 -87.625946  {'longitude': '-87.62594577820322', 'latitude'...     0  \n",
       "14096 -87.733888  {'longitude': '-87.7338878999525', 'latitude':...     1  \n",
       "3162  -87.676534  {'longitude': '-87.67653435662255', 'latitude'...     0  "
      ]
     },
     "execution_count": 165,
     "metadata": {},
     "output_type": "execute_result"
    }
   ],
   "source": [
    "train.head()"
   ]
  },
  {
   "cell_type": "code",
   "execution_count": 166,
   "metadata": {},
   "outputs": [
    {
     "data": {
      "text/plain": [
       "Inspection ID        int64\n",
       "DBA Name            object\n",
       "AKA Name            object\n",
       "License #          float64\n",
       "Facility Type       object\n",
       "Risk                object\n",
       "Address             object\n",
       "City                object\n",
       "State               object\n",
       "Zip                float64\n",
       "Inspection Date     object\n",
       "Inspection Type     object\n",
       "Violations          object\n",
       "Latitude           float64\n",
       "Longitude          float64\n",
       "Location            object\n",
       "Fail                 int64\n",
       "dtype: object"
      ]
     },
     "execution_count": 166,
     "metadata": {},
     "output_type": "execute_result"
    }
   ],
   "source": [
    "train.dtypes"
   ]
  },
  {
   "cell_type": "code",
   "execution_count": 167,
   "metadata": {
    "scrolled": true
   },
   "outputs": [
    {
     "data": {
      "text/plain": [
       "Restaurant                          0.662822\n",
       "Grocery Store                       0.134992\n",
       "School                              0.073529\n",
       "Daycare (2 - 6 Years)               0.015813\n",
       "Bakery                              0.015765\n",
       "Children's Services Facility        0.015741\n",
       "Daycare Above and Under 2 Years     0.013033\n",
       "Long Term Care                      0.007471\n",
       "Catering                            0.006069\n",
       "Mobile Food Dispenser               0.005319\n",
       "Liquor                              0.005199\n",
       "Daycare Combo 1586                  0.004497\n",
       "Wholesale                           0.004086\n",
       "Mobile Food Preparer                0.003071\n",
       "Golden Diner                        0.002974\n",
       "Hospital                            0.002877\n",
       "TAVERN                              0.001547\n",
       "Daycare (Under 2 Years)             0.001354\n",
       "Special Event                       0.001281\n",
       "Shared Kitchen User (Long Term)     0.001281\n",
       "GAS STATION                         0.000677\n",
       "KIOSK                               0.000653\n",
       "Shelter                             0.000629\n",
       "BANQUET HALL                        0.000532\n",
       "Shared Kitchen                      0.000532\n",
       "Mobile Prepared Food Vendor         0.000532\n",
       "LIVE POULTRY                        0.000435\n",
       "Daycare (2 Years)                   0.000363\n",
       "Navy Pier Kiosk                     0.000314\n",
       "RESTAURANT/BAR                      0.000290\n",
       "CHURCH KITCHEN                      0.000266\n",
       "CAFETERIA                           0.000266\n",
       "GROCERY/RESTAURANT                  0.000266\n",
       "STADIUM                             0.000242\n",
       "BANQUET                             0.000242\n",
       "RESTAURANT/GROCERY STORE            0.000218\n",
       "Shared Kitchen User (Short Term)    0.000218\n",
       "DAYCARE                             0.000218\n",
       "convenience store                   0.000218\n",
       "CONVENIENCE STORE                   0.000193\n",
       "Name: Facility Type, dtype: float64"
      ]
     },
     "execution_count": 167,
     "metadata": {},
     "output_type": "execute_result"
    }
   ],
   "source": [
    "train['Facility Type'].value_counts(normalize=True).head(40)"
   ]
  },
  {
   "cell_type": "code",
   "execution_count": 168,
   "metadata": {},
   "outputs": [
    {
     "data": {
      "text/plain": [
       "Risk 1 (High)      30176\n",
       "Risk 2 (Medium)     8101\n",
       "Risk 3 (Low)        3246\n",
       "Name: Risk, dtype: int64"
      ]
     },
     "execution_count": 168,
     "metadata": {},
     "output_type": "execute_result"
    }
   ],
   "source": [
    "train['Risk'].value_counts()"
   ]
  },
  {
   "cell_type": "code",
   "execution_count": 169,
   "metadata": {
    "scrolled": true
   },
   "outputs": [
    {
     "data": {
      "text/plain": [
       "Canvass                                   19293\n",
       "License                                    6228\n",
       "Canvass Re-Inspection                      5061\n",
       "Complaint                                  3961\n",
       "License Re-Inspection                      2426\n",
       "Complaint Re-Inspection                    1825\n",
       "Short Form Complaint                       1681\n",
       "License-Task Force                          182\n",
       "Suspected Food Poisoning                    170\n",
       "Consultation                                154\n",
       "Tag Removal                                 118\n",
       "Out of Business                              83\n",
       "Task Force Liquor 1475                       81\n",
       "Recent Inspection                            54\n",
       "Suspected Food Poisoning Re-inspection       47\n",
       "Complaint-Fire                               41\n",
       "Short Form Fire-Complaint                    30\n",
       "Special Events (Festivals)                   19\n",
       "No Entry                                     16\n",
       "Package Liquor 1474                          15\n",
       "Complaint-Fire Re-inspection                 13\n",
       "Pre-License Consultation                      6\n",
       "Not Ready                                     3\n",
       "TASK FORCE LIQUOR (1481)                      1\n",
       "REINSPECTION OF 48 HOUR NOTICE                1\n",
       "LICENSE WRONG ADDRESS                         1\n",
       "LICENSE RENEWAL FOR DAYCARE                   1\n",
       "SFP/COMPLAINT                                 1\n",
       "RECALL INSPECTION                             1\n",
       "TAVERN 1470                                   1\n",
       "ADDENDUM                                      1\n",
       "license                                       1\n",
       "TWO PEOPLE ATE AND GOT SICK.                  1\n",
       "OUT OF BUSINESS                               1\n",
       "POSSIBLE FBI                                  1\n",
       "SPECIAL TASK FORCE                            1\n",
       "LICENSE REQUEST                               1\n",
       "CANVASS/SPECIAL EVENT                         1\n",
       "NO ENTRY                                      1\n",
       "LICENSE DAYCARE 1586                          1\n",
       "no entry                                      1\n",
       "SMOKING COMPLAINT                             1\n",
       "CLOSE-UP/COMPLAINT REINSPECTION               1\n",
       "KIDS CAFE                                     1\n",
       "License consultation                          1\n",
       "TASK FORCE LIQUOR 1470                        1\n",
       "Non-Inspection                                1\n",
       "Name: Inspection Type, dtype: int64"
      ]
     },
     "execution_count": 169,
     "metadata": {},
     "output_type": "execute_result"
    }
   ],
   "source": [
    "train['Inspection Type'].value_counts()"
   ]
  },
  {
   "cell_type": "code",
   "execution_count": 170,
   "metadata": {},
   "outputs": [
    {
     "data": {
      "text/html": [
       "<div>\n",
       "<style scoped>\n",
       "    .dataframe tbody tr th:only-of-type {\n",
       "        vertical-align: middle;\n",
       "    }\n",
       "\n",
       "    .dataframe tbody tr th {\n",
       "        vertical-align: top;\n",
       "    }\n",
       "\n",
       "    .dataframe thead th {\n",
       "        text-align: right;\n",
       "    }\n",
       "</style>\n",
       "<table border=\"1\" class=\"dataframe\">\n",
       "  <thead>\n",
       "    <tr style=\"text-align: right;\">\n",
       "      <th></th>\n",
       "      <th>Inspection ID</th>\n",
       "      <th>DBA Name</th>\n",
       "      <th>AKA Name</th>\n",
       "      <th>License #</th>\n",
       "      <th>Facility Type</th>\n",
       "      <th>Risk</th>\n",
       "      <th>Address</th>\n",
       "      <th>City</th>\n",
       "      <th>State</th>\n",
       "      <th>Zip</th>\n",
       "      <th>Inspection Date</th>\n",
       "      <th>Inspection Type</th>\n",
       "      <th>Violations</th>\n",
       "      <th>Latitude</th>\n",
       "      <th>Longitude</th>\n",
       "      <th>Location</th>\n",
       "      <th>Fail</th>\n",
       "    </tr>\n",
       "  </thead>\n",
       "  <tbody>\n",
       "    <tr>\n",
       "      <th>37996</th>\n",
       "      <td>1946612</td>\n",
       "      <td>ARAMARL-FRESHII</td>\n",
       "      <td>FRESHII</td>\n",
       "      <td>2470318.0</td>\n",
       "      <td>Restaurant</td>\n",
       "      <td>Risk 1 (High)</td>\n",
       "      <td>2650 N CLARK ST</td>\n",
       "      <td>CHICAGO</td>\n",
       "      <td>IL</td>\n",
       "      <td>60614.0</td>\n",
       "      <td>2016-07-14T00:00:00</td>\n",
       "      <td>NaN</td>\n",
       "      <td>NaN</td>\n",
       "      <td>41.930833</td>\n",
       "      <td>-87.644135</td>\n",
       "      <td>{'longitude': '-87.64413543645641', 'latitude'...</td>\n",
       "      <td>0</td>\n",
       "    </tr>\n",
       "  </tbody>\n",
       "</table>\n",
       "</div>"
      ],
      "text/plain": [
       "       Inspection ID         DBA Name AKA Name  License # Facility Type  \\\n",
       "37996        1946612  ARAMARL-FRESHII  FRESHII  2470318.0    Restaurant   \n",
       "\n",
       "                Risk           Address     City State      Zip  \\\n",
       "37996  Risk 1 (High)  2650 N CLARK ST   CHICAGO    IL  60614.0   \n",
       "\n",
       "           Inspection Date Inspection Type Violations   Latitude  Longitude  \\\n",
       "37996  2016-07-14T00:00:00             NaN        NaN  41.930833 -87.644135   \n",
       "\n",
       "                                                Location  Fail  \n",
       "37996  {'longitude': '-87.64413543645641', 'latitude'...     0  "
      ]
     },
     "execution_count": 170,
     "metadata": {},
     "output_type": "execute_result"
    }
   ],
   "source": [
    "train[train['Inspection Type'].str.contains('Re-Inspection').isna()]"
   ]
  },
  {
   "cell_type": "code",
   "execution_count": 171,
   "metadata": {},
   "outputs": [
    {
     "data": {
      "text/plain": [
       "Inspection ID         0\n",
       "DBA Name              0\n",
       "AKA Name            497\n",
       "License #             4\n",
       "Facility Type       174\n",
       "Risk                  9\n",
       "Address               0\n",
       "City                 48\n",
       "State                10\n",
       "Zip                  24\n",
       "Inspection Date       0\n",
       "Inspection Type       1\n",
       "Violations         7778\n",
       "Latitude            157\n",
       "Longitude           157\n",
       "Location            157\n",
       "Fail                  0\n",
       "dtype: int64"
      ]
     },
     "execution_count": 171,
     "metadata": {},
     "output_type": "execute_result"
    }
   ],
   "source": [
    "train.isna().sum()"
   ]
  },
  {
   "cell_type": "code",
   "execution_count": 172,
   "metadata": {},
   "outputs": [
    {
     "data": {
      "text/plain": [
       "0    0.741838\n",
       "1    0.258162\n",
       "Name: Fail, dtype: float64"
      ]
     },
     "execution_count": 172,
     "metadata": {},
     "output_type": "execute_result"
    }
   ],
   "source": [
    "# Check distribution of Fail\n",
    "train['Fail'].value_counts(normalize=True)\n",
    "# Classes are somewhat imbalanced"
   ]
  },
  {
   "cell_type": "code",
   "execution_count": 173,
   "metadata": {},
   "outputs": [
    {
     "data": {
      "text/html": [
       "<div>\n",
       "<style scoped>\n",
       "    .dataframe tbody tr th:only-of-type {\n",
       "        vertical-align: middle;\n",
       "    }\n",
       "\n",
       "    .dataframe tbody tr th {\n",
       "        vertical-align: top;\n",
       "    }\n",
       "\n",
       "    .dataframe thead th {\n",
       "        text-align: right;\n",
       "    }\n",
       "</style>\n",
       "<table border=\"1\" class=\"dataframe\">\n",
       "  <thead>\n",
       "    <tr style=\"text-align: right;\">\n",
       "      <th></th>\n",
       "      <th>Inspection ID</th>\n",
       "      <th>DBA Name</th>\n",
       "      <th>AKA Name</th>\n",
       "      <th>License #</th>\n",
       "      <th>Facility Type</th>\n",
       "      <th>Risk</th>\n",
       "      <th>Address</th>\n",
       "      <th>City</th>\n",
       "      <th>State</th>\n",
       "      <th>Zip</th>\n",
       "      <th>Inspection Date</th>\n",
       "      <th>Inspection Type</th>\n",
       "      <th>Violations</th>\n",
       "      <th>Latitude</th>\n",
       "      <th>Longitude</th>\n",
       "      <th>Location</th>\n",
       "      <th>Fail</th>\n",
       "    </tr>\n",
       "  </thead>\n",
       "  <tbody>\n",
       "    <tr>\n",
       "      <th>38349</th>\n",
       "      <td>588219</td>\n",
       "      <td>JASON'S DELI</td>\n",
       "      <td>JASON'S DELI</td>\n",
       "      <td>2129572.0</td>\n",
       "      <td>Restaurant</td>\n",
       "      <td>Risk 1 (High)</td>\n",
       "      <td>195 N DEARBORN ST FL</td>\n",
       "      <td>CHICAGO</td>\n",
       "      <td>IL</td>\n",
       "      <td>60601.0</td>\n",
       "      <td>2012-01-27T00:00:00</td>\n",
       "      <td>License</td>\n",
       "      <td>NaN</td>\n",
       "      <td>41.885635</td>\n",
       "      <td>-87.629347</td>\n",
       "      <td>{'longitude': '-87.62934689882326', 'latitude'...</td>\n",
       "      <td>0</td>\n",
       "    </tr>\n",
       "    <tr>\n",
       "      <th>30513</th>\n",
       "      <td>634838</td>\n",
       "      <td>CHI'S JAC ROBINS</td>\n",
       "      <td>CHI'S JAC ROBINS</td>\n",
       "      <td>44755.0</td>\n",
       "      <td>Restaurant</td>\n",
       "      <td>Risk 2 (Medium)</td>\n",
       "      <td>5755 W 63RD ST</td>\n",
       "      <td>CHICAGO</td>\n",
       "      <td>IL</td>\n",
       "      <td>60638.0</td>\n",
       "      <td>2011-10-04T00:00:00</td>\n",
       "      <td>Canvass</td>\n",
       "      <td>33. FOOD AND NON-FOOD CONTACT EQUIPMENT UTENSI...</td>\n",
       "      <td>41.777845</td>\n",
       "      <td>-87.766381</td>\n",
       "      <td>{'longitude': '-87.76638143708638', 'latitude'...</td>\n",
       "      <td>0</td>\n",
       "    </tr>\n",
       "    <tr>\n",
       "      <th>49864</th>\n",
       "      <td>315238</td>\n",
       "      <td>1400 MARKET PLACE</td>\n",
       "      <td>1400 MARKET PLACE</td>\n",
       "      <td>1222361.0</td>\n",
       "      <td>Grocery Store</td>\n",
       "      <td>Risk 1 (High)</td>\n",
       "      <td>1400 N LAKE SHORE DR</td>\n",
       "      <td>CHICAGO</td>\n",
       "      <td>IL</td>\n",
       "      <td>60610.0</td>\n",
       "      <td>2010-07-29T00:00:00</td>\n",
       "      <td>Canvass</td>\n",
       "      <td>33. FOOD AND NON-FOOD CONTACT EQUIPMENT UTENSI...</td>\n",
       "      <td>41.907909</td>\n",
       "      <td>-87.625946</td>\n",
       "      <td>{'longitude': '-87.62594577820322', 'latitude'...</td>\n",
       "      <td>0</td>\n",
       "    </tr>\n",
       "    <tr>\n",
       "      <th>14096</th>\n",
       "      <td>2150968</td>\n",
       "      <td>THE MONTCLARE SUPPORTIVE LIVING COMMUNITY</td>\n",
       "      <td>THE MONTCLARE SUPPORTIVE LIVING COMMUNITY</td>\n",
       "      <td>2523720.0</td>\n",
       "      <td>Long Term Care</td>\n",
       "      <td>Risk 1 (High)</td>\n",
       "      <td>4339 W 18TH PL</td>\n",
       "      <td>CHICAGO</td>\n",
       "      <td>IL</td>\n",
       "      <td>60623.0</td>\n",
       "      <td>2018-03-26T00:00:00</td>\n",
       "      <td>Canvass</td>\n",
       "      <td>6. HANDS WASHED AND CLEANED, GOOD HYGIENIC PRA...</td>\n",
       "      <td>41.855772</td>\n",
       "      <td>-87.733888</td>\n",
       "      <td>{'longitude': '-87.7338878999525', 'latitude':...</td>\n",
       "      <td>1</td>\n",
       "    </tr>\n",
       "    <tr>\n",
       "      <th>3162</th>\n",
       "      <td>1300301</td>\n",
       "      <td>BIN 36</td>\n",
       "      <td>BIN 36</td>\n",
       "      <td>1597897.0</td>\n",
       "      <td>Restaurant</td>\n",
       "      <td>Risk 1 (High)</td>\n",
       "      <td>1559 N MILWAUKEE AVE</td>\n",
       "      <td>CHICAGO</td>\n",
       "      <td>IL</td>\n",
       "      <td>60622.0</td>\n",
       "      <td>2012-11-02T00:00:00</td>\n",
       "      <td>Canvass Re-Inspection</td>\n",
       "      <td>32. FOOD AND NON-FOOD CONTACT SURFACES PROPERL...</td>\n",
       "      <td>41.909926</td>\n",
       "      <td>-87.676534</td>\n",
       "      <td>{'longitude': '-87.67653435662255', 'latitude'...</td>\n",
       "      <td>0</td>\n",
       "    </tr>\n",
       "  </tbody>\n",
       "</table>\n",
       "</div>"
      ],
      "text/plain": [
       "       Inspection ID                                   DBA Name  \\\n",
       "38349         588219                               JASON'S DELI   \n",
       "30513         634838                           CHI'S JAC ROBINS   \n",
       "49864         315238                          1400 MARKET PLACE   \n",
       "14096        2150968  THE MONTCLARE SUPPORTIVE LIVING COMMUNITY   \n",
       "3162         1300301                                     BIN 36   \n",
       "\n",
       "                                        AKA Name  License #   Facility Type  \\\n",
       "38349                               JASON'S DELI  2129572.0      Restaurant   \n",
       "30513                           CHI'S JAC ROBINS    44755.0      Restaurant   \n",
       "49864                          1400 MARKET PLACE  1222361.0   Grocery Store   \n",
       "14096  THE MONTCLARE SUPPORTIVE LIVING COMMUNITY  2523720.0  Long Term Care   \n",
       "3162                                      BIN 36  1597897.0      Restaurant   \n",
       "\n",
       "                  Risk                Address     City State      Zip  \\\n",
       "38349    Risk 1 (High)  195 N DEARBORN ST FL   CHICAGO    IL  60601.0   \n",
       "30513  Risk 2 (Medium)        5755 W 63RD ST   CHICAGO    IL  60638.0   \n",
       "49864    Risk 1 (High)  1400 N LAKE SHORE DR   CHICAGO    IL  60610.0   \n",
       "14096    Risk 1 (High)        4339 W 18TH PL   CHICAGO    IL  60623.0   \n",
       "3162     Risk 1 (High)  1559 N MILWAUKEE AVE   CHICAGO    IL  60622.0   \n",
       "\n",
       "           Inspection Date        Inspection Type  \\\n",
       "38349  2012-01-27T00:00:00                License   \n",
       "30513  2011-10-04T00:00:00                Canvass   \n",
       "49864  2010-07-29T00:00:00                Canvass   \n",
       "14096  2018-03-26T00:00:00                Canvass   \n",
       "3162   2012-11-02T00:00:00  Canvass Re-Inspection   \n",
       "\n",
       "                                              Violations   Latitude  \\\n",
       "38349                                                NaN  41.885635   \n",
       "30513  33. FOOD AND NON-FOOD CONTACT EQUIPMENT UTENSI...  41.777845   \n",
       "49864  33. FOOD AND NON-FOOD CONTACT EQUIPMENT UTENSI...  41.907909   \n",
       "14096  6. HANDS WASHED AND CLEANED, GOOD HYGIENIC PRA...  41.855772   \n",
       "3162   32. FOOD AND NON-FOOD CONTACT SURFACES PROPERL...  41.909926   \n",
       "\n",
       "       Longitude                                           Location  Fail  \n",
       "38349 -87.629347  {'longitude': '-87.62934689882326', 'latitude'...     0  \n",
       "30513 -87.766381  {'longitude': '-87.76638143708638', 'latitude'...     0  \n",
       "49864 -87.625946  {'longitude': '-87.62594577820322', 'latitude'...     0  \n",
       "14096 -87.733888  {'longitude': '-87.7338878999525', 'latitude':...     1  \n",
       "3162  -87.676534  {'longitude': '-87.67653435662255', 'latitude'...     0  "
      ]
     },
     "execution_count": 173,
     "metadata": {},
     "output_type": "execute_result"
    }
   ],
   "source": [
    "train.head()"
   ]
  },
  {
   "cell_type": "code",
   "execution_count": 174,
   "metadata": {},
   "outputs": [],
   "source": [
    "def wrangle(X):    \n",
    "    \n",
    "    X = X.copy()\n",
    "    \n",
    "    # Categorical encode Facility Type\n",
    "    # Most common Facility Type values + Other column\n",
    "#     facility_types = ['Restaurant', 'Grocery Store', 'School', 'Bakery', 'Childcare', 'Long-Term Care', 'Catering']\n",
    "    # Drop unusable cols\n",
    "    drop_cols = ['Inspection ID', 'DBA Name', 'AKA Name', 'License #', 'Address', 'City', 'State', 'Violations', 'Location']\n",
    "    X = X.drop(drop_cols, axis=1)\n",
    "    \n",
    "    # Drop rows with NaN values\n",
    "    X = X.dropna(subset=['Facility Type', 'Inspection Type', 'Latitude', 'Zip'])\n",
    "    \n",
    "    # Fill NaN values in Risk\n",
    "    X = X.fillna(value={'Risk':'Risk 1 (High)'})\n",
    "    \n",
    "    # Convert Inspection Date to datetime\n",
    "    X['Inspection Date'] = pd.to_datetime(X['Inspection Date'])\n",
    "    \n",
    "    # Create Inspection Month feature\n",
    "    X['Inspection Month'] = X['Inspection Date'].dt.month\n",
    "    X = X.drop('Inspection Date', axis=1)\n",
    "    \n",
    "    return X"
   ]
  },
  {
   "cell_type": "code",
   "execution_count": 175,
   "metadata": {},
   "outputs": [],
   "source": [
    "train_wrangled = wrangle(train)\n",
    "val_wrangled = wrangle(val)\n",
    "test_wrangled = wrangle(test)"
   ]
  },
  {
   "cell_type": "code",
   "execution_count": 176,
   "metadata": {},
   "outputs": [
    {
     "data": {
      "text/html": [
       "<div>\n",
       "<style scoped>\n",
       "    .dataframe tbody tr th:only-of-type {\n",
       "        vertical-align: middle;\n",
       "    }\n",
       "\n",
       "    .dataframe tbody tr th {\n",
       "        vertical-align: top;\n",
       "    }\n",
       "\n",
       "    .dataframe thead th {\n",
       "        text-align: right;\n",
       "    }\n",
       "</style>\n",
       "<table border=\"1\" class=\"dataframe\">\n",
       "  <thead>\n",
       "    <tr style=\"text-align: right;\">\n",
       "      <th></th>\n",
       "      <th>Inspection ID</th>\n",
       "      <th>DBA Name</th>\n",
       "      <th>AKA Name</th>\n",
       "      <th>License #</th>\n",
       "      <th>Facility Type</th>\n",
       "      <th>Risk</th>\n",
       "      <th>Address</th>\n",
       "      <th>City</th>\n",
       "      <th>State</th>\n",
       "      <th>Zip</th>\n",
       "      <th>Inspection Date</th>\n",
       "      <th>Inspection Type</th>\n",
       "      <th>Violations</th>\n",
       "      <th>Latitude</th>\n",
       "      <th>Longitude</th>\n",
       "      <th>Location</th>\n",
       "      <th>Fail</th>\n",
       "    </tr>\n",
       "  </thead>\n",
       "  <tbody>\n",
       "    <tr>\n",
       "      <th>38349</th>\n",
       "      <td>588219</td>\n",
       "      <td>JASON'S DELI</td>\n",
       "      <td>JASON'S DELI</td>\n",
       "      <td>2129572.0</td>\n",
       "      <td>Restaurant</td>\n",
       "      <td>Risk 1 (High)</td>\n",
       "      <td>195 N DEARBORN ST FL</td>\n",
       "      <td>CHICAGO</td>\n",
       "      <td>IL</td>\n",
       "      <td>60601.0</td>\n",
       "      <td>2012-01-27T00:00:00</td>\n",
       "      <td>License</td>\n",
       "      <td>NaN</td>\n",
       "      <td>41.885635</td>\n",
       "      <td>-87.629347</td>\n",
       "      <td>{'longitude': '-87.62934689882326', 'latitude'...</td>\n",
       "      <td>0</td>\n",
       "    </tr>\n",
       "    <tr>\n",
       "      <th>30513</th>\n",
       "      <td>634838</td>\n",
       "      <td>CHI'S JAC ROBINS</td>\n",
       "      <td>CHI'S JAC ROBINS</td>\n",
       "      <td>44755.0</td>\n",
       "      <td>Restaurant</td>\n",
       "      <td>Risk 2 (Medium)</td>\n",
       "      <td>5755 W 63RD ST</td>\n",
       "      <td>CHICAGO</td>\n",
       "      <td>IL</td>\n",
       "      <td>60638.0</td>\n",
       "      <td>2011-10-04T00:00:00</td>\n",
       "      <td>Canvass</td>\n",
       "      <td>33. FOOD AND NON-FOOD CONTACT EQUIPMENT UTENSI...</td>\n",
       "      <td>41.777845</td>\n",
       "      <td>-87.766381</td>\n",
       "      <td>{'longitude': '-87.76638143708638', 'latitude'...</td>\n",
       "      <td>0</td>\n",
       "    </tr>\n",
       "    <tr>\n",
       "      <th>49864</th>\n",
       "      <td>315238</td>\n",
       "      <td>1400 MARKET PLACE</td>\n",
       "      <td>1400 MARKET PLACE</td>\n",
       "      <td>1222361.0</td>\n",
       "      <td>Grocery Store</td>\n",
       "      <td>Risk 1 (High)</td>\n",
       "      <td>1400 N LAKE SHORE DR</td>\n",
       "      <td>CHICAGO</td>\n",
       "      <td>IL</td>\n",
       "      <td>60610.0</td>\n",
       "      <td>2010-07-29T00:00:00</td>\n",
       "      <td>Canvass</td>\n",
       "      <td>33. FOOD AND NON-FOOD CONTACT EQUIPMENT UTENSI...</td>\n",
       "      <td>41.907909</td>\n",
       "      <td>-87.625946</td>\n",
       "      <td>{'longitude': '-87.62594577820322', 'latitude'...</td>\n",
       "      <td>0</td>\n",
       "    </tr>\n",
       "    <tr>\n",
       "      <th>14096</th>\n",
       "      <td>2150968</td>\n",
       "      <td>THE MONTCLARE SUPPORTIVE LIVING COMMUNITY</td>\n",
       "      <td>THE MONTCLARE SUPPORTIVE LIVING COMMUNITY</td>\n",
       "      <td>2523720.0</td>\n",
       "      <td>Long Term Care</td>\n",
       "      <td>Risk 1 (High)</td>\n",
       "      <td>4339 W 18TH PL</td>\n",
       "      <td>CHICAGO</td>\n",
       "      <td>IL</td>\n",
       "      <td>60623.0</td>\n",
       "      <td>2018-03-26T00:00:00</td>\n",
       "      <td>Canvass</td>\n",
       "      <td>6. HANDS WASHED AND CLEANED, GOOD HYGIENIC PRA...</td>\n",
       "      <td>41.855772</td>\n",
       "      <td>-87.733888</td>\n",
       "      <td>{'longitude': '-87.7338878999525', 'latitude':...</td>\n",
       "      <td>1</td>\n",
       "    </tr>\n",
       "    <tr>\n",
       "      <th>3162</th>\n",
       "      <td>1300301</td>\n",
       "      <td>BIN 36</td>\n",
       "      <td>BIN 36</td>\n",
       "      <td>1597897.0</td>\n",
       "      <td>Restaurant</td>\n",
       "      <td>Risk 1 (High)</td>\n",
       "      <td>1559 N MILWAUKEE AVE</td>\n",
       "      <td>CHICAGO</td>\n",
       "      <td>IL</td>\n",
       "      <td>60622.0</td>\n",
       "      <td>2012-11-02T00:00:00</td>\n",
       "      <td>Canvass Re-Inspection</td>\n",
       "      <td>32. FOOD AND NON-FOOD CONTACT SURFACES PROPERL...</td>\n",
       "      <td>41.909926</td>\n",
       "      <td>-87.676534</td>\n",
       "      <td>{'longitude': '-87.67653435662255', 'latitude'...</td>\n",
       "      <td>0</td>\n",
       "    </tr>\n",
       "  </tbody>\n",
       "</table>\n",
       "</div>"
      ],
      "text/plain": [
       "       Inspection ID                                   DBA Name  \\\n",
       "38349         588219                               JASON'S DELI   \n",
       "30513         634838                           CHI'S JAC ROBINS   \n",
       "49864         315238                          1400 MARKET PLACE   \n",
       "14096        2150968  THE MONTCLARE SUPPORTIVE LIVING COMMUNITY   \n",
       "3162         1300301                                     BIN 36   \n",
       "\n",
       "                                        AKA Name  License #   Facility Type  \\\n",
       "38349                               JASON'S DELI  2129572.0      Restaurant   \n",
       "30513                           CHI'S JAC ROBINS    44755.0      Restaurant   \n",
       "49864                          1400 MARKET PLACE  1222361.0   Grocery Store   \n",
       "14096  THE MONTCLARE SUPPORTIVE LIVING COMMUNITY  2523720.0  Long Term Care   \n",
       "3162                                      BIN 36  1597897.0      Restaurant   \n",
       "\n",
       "                  Risk                Address     City State      Zip  \\\n",
       "38349    Risk 1 (High)  195 N DEARBORN ST FL   CHICAGO    IL  60601.0   \n",
       "30513  Risk 2 (Medium)        5755 W 63RD ST   CHICAGO    IL  60638.0   \n",
       "49864    Risk 1 (High)  1400 N LAKE SHORE DR   CHICAGO    IL  60610.0   \n",
       "14096    Risk 1 (High)        4339 W 18TH PL   CHICAGO    IL  60623.0   \n",
       "3162     Risk 1 (High)  1559 N MILWAUKEE AVE   CHICAGO    IL  60622.0   \n",
       "\n",
       "           Inspection Date        Inspection Type  \\\n",
       "38349  2012-01-27T00:00:00                License   \n",
       "30513  2011-10-04T00:00:00                Canvass   \n",
       "49864  2010-07-29T00:00:00                Canvass   \n",
       "14096  2018-03-26T00:00:00                Canvass   \n",
       "3162   2012-11-02T00:00:00  Canvass Re-Inspection   \n",
       "\n",
       "                                              Violations   Latitude  \\\n",
       "38349                                                NaN  41.885635   \n",
       "30513  33. FOOD AND NON-FOOD CONTACT EQUIPMENT UTENSI...  41.777845   \n",
       "49864  33. FOOD AND NON-FOOD CONTACT EQUIPMENT UTENSI...  41.907909   \n",
       "14096  6. HANDS WASHED AND CLEANED, GOOD HYGIENIC PRA...  41.855772   \n",
       "3162   32. FOOD AND NON-FOOD CONTACT SURFACES PROPERL...  41.909926   \n",
       "\n",
       "       Longitude                                           Location  Fail  \n",
       "38349 -87.629347  {'longitude': '-87.62934689882326', 'latitude'...     0  \n",
       "30513 -87.766381  {'longitude': '-87.76638143708638', 'latitude'...     0  \n",
       "49864 -87.625946  {'longitude': '-87.62594577820322', 'latitude'...     0  \n",
       "14096 -87.733888  {'longitude': '-87.7338878999525', 'latitude':...     1  \n",
       "3162  -87.676534  {'longitude': '-87.67653435662255', 'latitude'...     0  "
      ]
     },
     "execution_count": 176,
     "metadata": {},
     "output_type": "execute_result"
    }
   ],
   "source": [
    "train.head()"
   ]
  },
  {
   "cell_type": "code",
   "execution_count": 177,
   "metadata": {},
   "outputs": [],
   "source": [
    "target = 'Fail'\n",
    "\n",
    "X_train = train_wrangled.drop(target, axis=1)\n",
    "y_train = train_wrangled[target]\n",
    "X_val = val_wrangled.drop(target, axis=1)\n",
    "y_val = val_wrangled[target]\n",
    "X_test = test_wrangled.drop(target, axis=1)\n",
    "y_test = test_wrangled[target]"
   ]
  },
  {
   "cell_type": "markdown",
   "metadata": {
    "colab_type": "text",
    "id": "nB8CQnExGqzr"
   },
   "source": [
    "## Part 2: Modeling\n",
    "\n",
    "> **Fit a model** with the train set. (You may use scikit-learn, xgboost, or any other library.) Use cross-validation or do a three-way split (train/validate/test) and **estimate your ROC AUC** validation score.\n",
    ">\n",
    "> Use your model to **predict probabilities** for the test set. **Get an ROC AUC test score >= 0.60.**"
   ]
  },
  {
   "cell_type": "code",
   "execution_count": 178,
   "metadata": {
    "colab": {},
    "colab_type": "code",
    "id": "YQ3hD2G1IbVH"
   },
   "outputs": [],
   "source": [
    "from xgboost import XGBClassifier\n",
    "from sklearn.pipeline import make_pipeline"
   ]
  },
  {
   "cell_type": "code",
   "execution_count": 179,
   "metadata": {},
   "outputs": [
    {
     "data": {
      "text/plain": [
       "Pipeline(memory=None,\n",
       "         steps=[('onehotencoder',\n",
       "                 OneHotEncoder(cols=['Risk', 'Facility Type',\n",
       "                                     'Inspection Type'],\n",
       "                               drop_invariant=False, handle_missing='value',\n",
       "                               handle_unknown='value', return_df=True,\n",
       "                               use_cat_names=False, verbose=0)),\n",
       "                ('xgbclassifier',\n",
       "                 XGBClassifier(base_score=0.5, booster='gbtree',\n",
       "                               colsample_bylevel=1, colsample_bynode=1,\n",
       "                               colsample_bytree=1, gamma=0, learning_rate=0.1,\n",
       "                               max_delta_step=0, max_depth=3,\n",
       "                               min_child_weight=1, missing=None,\n",
       "                               n_estimators=100, n_jobs=1, nthread=None,\n",
       "                               objective='binary:logistic', random_state=0,\n",
       "                               reg_alpha=0, reg_lambda=1, scale_pos_weight=1,\n",
       "                               seed=None, silent=None, subsample=1,\n",
       "                               verbosity=1))],\n",
       "         verbose=False)"
      ]
     },
     "execution_count": 179,
     "metadata": {},
     "output_type": "execute_result"
    }
   ],
   "source": [
    "pipeline = make_pipeline(\n",
    "    ce.OneHotEncoder(cols=['Risk', 'Facility Type', 'Inspection Type']),\n",
    "    XGBClassifier()\n",
    ")\n",
    "\n",
    "pipeline.fit(X_train, y_train)"
   ]
  },
  {
   "cell_type": "code",
   "execution_count": 180,
   "metadata": {},
   "outputs": [
    {
     "data": {
      "text/plain": [
       "0.7419104071518803"
      ]
     },
     "execution_count": 180,
     "metadata": {},
     "output_type": "execute_result"
    }
   ],
   "source": [
    "pipeline.score(X_val, y_val)"
   ]
  },
  {
   "cell_type": "code",
   "execution_count": 184,
   "metadata": {},
   "outputs": [],
   "source": [
    "from sklearn.metrics import roc_curve\n",
    "y_pred_proba = pipeline.predict_proba(X_val)[:, -1]\n",
    "fpr, tpr, thresholds = roc_curve(y_val, y_pred_proba)"
   ]
  },
  {
   "cell_type": "code",
   "execution_count": 185,
   "metadata": {},
   "outputs": [
    {
     "data": {
      "image/png": "[encoded data removed]",
      "text/plain": [
       "<Figure size 432x288 with 1 Axes>"
      ]
     },
     "metadata": {
      "needs_background": "light"
     },
     "output_type": "display_data"
    }
   ],
   "source": [
    "import matplotlib.pyplot as plt\n",
    "plt.plot(fpr, tpr)\n",
    "plt.title('ROC curve')\n",
    "plt.xlabel('False Positive Rate')\n",
    "plt.ylabel('True Positive Rate');"
   ]
  },
  {
   "cell_type": "code",
   "execution_count": 186,
   "metadata": {},
   "outputs": [
    {
     "data": {
      "text/plain": [
       "0.6870485853549417"
      ]
     },
     "execution_count": 186,
     "metadata": {},
     "output_type": "execute_result"
    }
   ],
   "source": [
    "from sklearn.metrics import roc_auc_score\n",
    "roc_auc_score(y_val, y_pred_proba)"
   ]
  },
  {
   "cell_type": "markdown",
   "metadata": {
    "colab_type": "text",
    "id": "u98nLGBTMo9s"
   },
   "source": [
    "## Part 3: Visualization\n",
    "\n",
    "> Make visualizations for model interpretation. (You may use any libraries.) Choose two of these types:\n",
    ">\n",
    "> - Permutation Importances\n",
    "> - Partial Dependence Plot, 1 feature isolation\n",
    "> - Partial Dependence Plot, 2 features interaction\n",
    "> - Shapley Values"
   ]
  },
  {
   "cell_type": "code",
   "execution_count": 187,
   "metadata": {
    "colab": {},
    "colab_type": "code",
    "id": "_Q379i5CIeKY"
   },
   "outputs": [],
   "source": [
    "from pdpbox.pdp import pdp_isolate, pdp_plot"
   ]
  },
  {
   "cell_type": "code",
   "execution_count": 188,
   "metadata": {},
   "outputs": [],
   "source": [
    "feature = 'Inspection Month'\n",
    "\n",
    "isolated = pdp_isolate(\n",
    "    model = pipeline,\n",
    "    dataset = X_val,\n",
    "    model_features = X_val.columns,\n",
    "    feature = feature)"
   ]
  },
  {
   "cell_type": "code",
   "execution_count": 189,
   "metadata": {},
   "outputs": [
    {
     "data": {
      "text/plain": [
       "(<Figure size 1080x684 with 2 Axes>,\n",
       " {'title_ax': <matplotlib.axes._subplots.AxesSubplot at 0x1f124869da0>,\n",
       "  'pdp_ax': <matplotlib.axes._subplots.AxesSubplot at 0x1f12dfabe48>})"
      ]
     },
     "execution_count": 189,
     "metadata": {},
     "output_type": "execute_result"
    },
    {
     "data": {
      "image/png": "[encoded data removed]",
      "text/plain": [
       "<Figure size 1080x684 with 2 Axes>"
      ]
     },
     "metadata": {
      "needs_background": "light"
     },
     "output_type": "display_data"
    }
   ],
   "source": [
    "pdp_plot(isolated, feature_name=feature)"
   ]
  },
  {
   "cell_type": "code",
   "execution_count": 196,
   "metadata": {},
   "outputs": [
    {
     "data": {
      "text/plain": [
       "(<Figure size 540x684 with 3 Axes>,\n",
       " {'title_ax': <matplotlib.axes._subplots.AxesSubplot at 0x1f1333e2198>,\n",
       "  'pdp_inter_ax': <matplotlib.axes._subplots.AxesSubplot at 0x1f1333f6c18>})"
      ]
     },
     "execution_count": 196,
     "metadata": {},
     "output_type": "execute_result"
    },
    {
     "data": {
      "image/png": "[encoded data removed]",
      "text/plain": [
       "<Figure size 540x684 with 3 Axes>"
      ]
     },
     "metadata": {
      "needs_background": "light"
     },
     "output_type": "display_data"
    }
   ],
   "source": [
    "from pdpbox.pdp import pdp_interact, pdp_interact_plot\n",
    "\n",
    "features = ['Inspection Month', 'Zip']\n",
    "\n",
    "interaction = pdp_interact(\n",
    "    model = pipeline,\n",
    "    dataset = X_val,\n",
    "    model_features = X_val.columns,\n",
    "    features = features\n",
    ")\n",
    "\n",
    "pdp_interact_plot(interaction, plot_type='grid', feature_names=features)"
   ]
  }
 ],
 "metadata": {
  "kernelspec": {
   "display_name": "Python 3",
   "language": "python",
   "name": "python3"
  },
  "language_info": {
   "codemirror_mode": {
    "name": "ipython",
    "version": 3
   },
   "file_extension": ".py",
   "mimetype": "text/x-python",
   "name": "python",
   "nbconvert_exporter": "python",
   "pygments_lexer": "ipython3",
   "version": "3.7.3"
  },
  "varInspector": {
   "cols": {
    "lenName": 16,
    "lenType": 16,
    "lenVar": 40
   },
   "kernels_config": {
    "python": {
     "delete_cmd_postfix": "",
     "delete_cmd_prefix": "del ",
     "library": "var_list.py",
     "varRefreshCmd": "print(var_dic_list())"
    },
    "r": {
     "delete_cmd_postfix": ") ",
     "delete_cmd_prefix": "rm(",
     "library": "var_list.r",
     "varRefreshCmd": "cat(var_dic_list()) "
    }
   },
   "types_to_exclude": [
    "module",
    "function",
    "builtin_function_or_method",
    "instance",
    "_Feature"
   ],
   "window_display": false
  }
 },
 "nbformat": 4,
 "nbformat_minor": 1
}
