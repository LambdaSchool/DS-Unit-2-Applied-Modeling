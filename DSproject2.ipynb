{
  "nbformat": 4,
  "nbformat_minor": 0,
  "metadata": {
    "colab": {
      "name": "DSproject2",
      "provenance": [],
      "collapsed_sections": [
        "2mCFB8nLQ8ln",
        "SAUKhZ9jxLZ3",
        "QgQzfCmFxagh",
        "6u2ooPHQxAwX",
        "dDtvyLL-Ru_G",
        "yeEX9gNuDJzT",
        "dKogSDTwizPV",
        "JLnJINrs4cQH",
        "EYiCtihmx0qL",
        "OQsYvTBJILrn",
        "AF3qnlNDitaG",
        "u_SGNNma_HsF",
        "7hdYKzlVl4OA",
        "v6nKf7cbc0di",
        "cru4s5sbc3h8"
      ],
      "include_colab_link": true
    },
    "kernelspec": {
      "display_name": "Python 3",
      "name": "python3"
    }
  },
  "cells": [
    {
      "cell_type": "markdown",
      "metadata": {
        "id": "view-in-github",
        "colab_type": "text"
      },
      "source": [
        "<a href=\"https://colab.research.google.com/github/lucguittard/DS-Unit-2-Applied-Modeling/blob/master/DSproject2.ipynb\" target=\"_parent\"><img src=\"https://colab.research.google.com/assets/colab-badge.svg\" alt=\"Open In Colab\"/></a>"
      ]
    },
    {
      "cell_type": "markdown",
      "metadata": {
        "id": "S_y6UCGvxD6a",
        "colab_type": "text"
      },
      "source": [
        "## Authorizing access to G-Drive"
      ]
    },
    {
      "cell_type": "code",
      "metadata": {
        "id": "anXxwsg9d7dL",
        "colab_type": "code",
        "outputId": "8d226306-d1fe-47a2-c1c3-dc59456e4a39",
        "colab": {
          "base_uri": "https://localhost:8080/",
          "height": 54
        }
      },
      "source": [
        "import pandas as pd\n",
        "from google.colab import drive\n",
        "drive.mount('/content/drive')\n"
      ],
      "execution_count": 1,
      "outputs": [
        {
          "output_type": "stream",
          "text": [
            "Drive already mounted at /content/drive; to attempt to forcibly remount, call drive.mount(\"/content/drive\", force_remount=True).\n"
          ],
          "name": "stdout"
        }
      ]
    },
    {
      "cell_type": "markdown",
      "metadata": {
        "id": "2mCFB8nLQ8ln",
        "colab_type": "text"
      },
      "source": [
        "## Making a new df"
      ]
    },
    {
      "cell_type": "markdown",
      "metadata": {
        "id": "SAUKhZ9jxLZ3",
        "colab_type": "text"
      },
      "source": [
        "### Reading-In and Initial Edits "
      ]
    },
    {
      "cell_type": "code",
      "metadata": {
        "id": "VP7J3CWW9e8f",
        "colab_type": "code",
        "colab": {}
      },
      "source": [
        "path = \"/content/drive/My Drive/dsProject2/household-debt/household-debt-by-county.csv\"\n",
        "df = pd.read_csv(path)                         #2013-2017\n",
        "path2 = \"/content/drive/My Drive/dsProject2/Rural_Atlas_Update20/Income.csv\" \n",
        "df2 = pd.read_csv(path2, encoding='latin-1')   #2018-2019\n",
        "path = '/content/drive/My Drive/dsProject2/Rural_Atlas_Update20/County Classifications.csv'\n",
        "df3 = pd.read_csv(path, encoding='latin-1')    #2013-2015\n",
        "path4 = '/content/drive/My Drive/dsProject2/Rural_Atlas_Update20/Veterans.csv'\n",
        "df4 = pd.read_csv('/content/drive/My Drive/dsProject2/Rural_Atlas_Update20/Veterans.csv', encoding='latin-1') #2018-2019\n",
        "path5 = '/content/drive/My Drive/dsProject2/Rural_Atlas_Update20/People.csv'      #2010-2019\n",
        "df5 = pd.read_csv(path5, encoding='latin-1')\n",
        "path6 = '/content/drive/My Drive/dsProject2/Rural_Atlas_Update20/Jobs.csv'        #2018-2019\n",
        "df6 = pd.read_csv(path6, encoding='latin-1') \n",
        "path9 = '/content/drive/My Drive/dsProject2/2015CountyTypologyCodes.csv'          #2013-2015\n",
        "df9 = pd.read_csv(path9, encoding='latin-1')\n",
        "path10 = '/content/drive/My Drive/dsProject2/creativeclass200711.csv'             #2007-2011\n",
        "df10 = pd.read_csv(path10, encoding='latin-1')"
      ],
      "execution_count": 0,
      "outputs": []
    },
    {
      "cell_type": "code",
      "metadata": {
        "id": "NCTDHYIXU3Fd",
        "colab_type": "code",
        "colab": {}
      },
      "source": [
        "df = df.rename(columns = {\"area_fips\": \"FIPS\"})\n",
        "mask = (df['year'] > 2012)\n",
        "df = df[mask]\n",
        "\n",
        "df2 = df2.drop(0)\n",
        "\n",
        "df3 = df3.rename(columns = {'FIPStxt': 'FIPS'})\n",
        "df3 = df3[['FIPS','RuralUrbanContinuumCode2013','Low_Education_2015_update','Low_Employment_2015_update',\n",
        "           'Population_loss_2015_update', 'Metro_Adjacent2013']]\n",
        "\n",
        "df4 = df4.drop(0)\n",
        "df4 = df4[['FIPS','Vets18OPct','MaleVetsPct','PctVetsPoor','PctNonVetsPoor','PctVetsDisabilty','PctNonVetsDisabilty']]\n",
        "\n",
        "df5 = df5.drop(0)\n",
        "df5 = df5[['FIPS','PopChangeRate1018','NetMigrationRate1018','PopDensity2010','Under18Pct2010','Age65AndOlderPct2010','ForeignBornPct']]\n",
        "\n",
        "df6 = df6.drop(0)\n",
        "df6 = df6[['FIPS','UnempRate2018','UnempRate2015','PctEmpChange1018','PctEmpAgriculture','PctEmpMining','PctEmpConstruction','PctEmpManufacturing',\n",
        "          'PctEmpTrade','PctEmpTrans','PctEmpInformation','PctEmpFIRE','PctEmpServices','PctEmpGovt']]\n",
        "\n",
        "df9 = df9.rename(columns = {'FIPStxt': 'FIPS'})\n",
        "df9 = df9[['FIPS','Metro-nonmetro status, 2013 0=Nonmetro 1=Metro','Persistent_Poverty_2013',\n",
        "           'Persistent_Related_Child_Poverty_2013','Economic_Type_Label','Economic Types Type_2015_Update non-overlapping']]\n",
        "\n",
        "df10 = df10[['FIPS','CCShare','CCShareSE','BohShare','BohShareSE','CCShareRME','BohShareRME','metro03']]"
      ],
      "execution_count": 0,
      "outputs": []
    },
    {
      "cell_type": "markdown",
      "metadata": {
        "id": "QgQzfCmFxagh",
        "colab_type": "text"
      },
      "source": [
        "### Merging County-lvl. Data"
      ]
    },
    {
      "cell_type": "code",
      "metadata": {
        "id": "_Nrv-nZSYxY5",
        "colab_type": "code",
        "outputId": "8e21ece0-fc9a-4509-fbb5-0a55846912d7",
        "colab": {
          "base_uri": "https://localhost:8080/",
          "height": 232
        }
      },
      "source": [
        "merge1 = pd.merge(df,df2, on='FIPS')\n",
        "merge2 = pd.merge(merge1,df3,on='FIPS')\n",
        "merge3 = pd.merge(merge2,df4, on = 'FIPS')\n",
        "merge4 = pd.merge(merge3,df5, on = 'FIPS')\n",
        "merge5 = pd.merge(merge4,df6, on = 'FIPS')\n",
        "merge6 = pd.merge(merge5,df9, on = 'FIPS')\n",
        "merge7 = pd.merge(merge6,df10, on = 'FIPS')\n",
        "\n",
        "merge7.to_csv('/content/drive/My Drive/dsProject2/merge7.csv', index = False)\n",
        "merge7.shape"
      ],
      "execution_count": 0,
      "outputs": [
        {
          "output_type": "error",
          "ename": "NameError",
          "evalue": "ignored",
          "traceback": [
            "\u001b[0;31m---------------------------------------------------------------------------\u001b[0m",
            "\u001b[0;31mNameError\u001b[0m                                 Traceback (most recent call last)",
            "\u001b[0;32m<ipython-input-5-86485b9907fc>\u001b[0m in \u001b[0;36m<module>\u001b[0;34m()\u001b[0m\n\u001b[0;32m----> 1\u001b[0;31m \u001b[0mmerge1\u001b[0m \u001b[0;34m=\u001b[0m \u001b[0mpd\u001b[0m\u001b[0;34m.\u001b[0m\u001b[0mmerge\u001b[0m\u001b[0;34m(\u001b[0m\u001b[0mdf\u001b[0m\u001b[0;34m,\u001b[0m\u001b[0mdf2\u001b[0m\u001b[0;34m,\u001b[0m \u001b[0mon\u001b[0m\u001b[0;34m=\u001b[0m\u001b[0;34m'FIPS'\u001b[0m\u001b[0;34m)\u001b[0m\u001b[0;34m\u001b[0m\u001b[0;34m\u001b[0m\u001b[0m\n\u001b[0m\u001b[1;32m      2\u001b[0m \u001b[0mmerge2\u001b[0m \u001b[0;34m=\u001b[0m \u001b[0mpd\u001b[0m\u001b[0;34m.\u001b[0m\u001b[0mmerge\u001b[0m\u001b[0;34m(\u001b[0m\u001b[0mmerge1\u001b[0m\u001b[0;34m,\u001b[0m\u001b[0mdf3\u001b[0m\u001b[0;34m,\u001b[0m\u001b[0mon\u001b[0m\u001b[0;34m=\u001b[0m\u001b[0;34m'FIPS'\u001b[0m\u001b[0;34m)\u001b[0m\u001b[0;34m\u001b[0m\u001b[0;34m\u001b[0m\u001b[0m\n\u001b[1;32m      3\u001b[0m \u001b[0mmerge3\u001b[0m \u001b[0;34m=\u001b[0m \u001b[0mpd\u001b[0m\u001b[0;34m.\u001b[0m\u001b[0mmerge\u001b[0m\u001b[0;34m(\u001b[0m\u001b[0mmerge2\u001b[0m\u001b[0;34m,\u001b[0m\u001b[0mdf4\u001b[0m\u001b[0;34m,\u001b[0m \u001b[0mon\u001b[0m \u001b[0;34m=\u001b[0m \u001b[0;34m'FIPS'\u001b[0m\u001b[0;34m)\u001b[0m\u001b[0;34m\u001b[0m\u001b[0;34m\u001b[0m\u001b[0m\n\u001b[1;32m      4\u001b[0m \u001b[0mmerge4\u001b[0m \u001b[0;34m=\u001b[0m \u001b[0mpd\u001b[0m\u001b[0;34m.\u001b[0m\u001b[0mmerge\u001b[0m\u001b[0;34m(\u001b[0m\u001b[0mmerge3\u001b[0m\u001b[0;34m,\u001b[0m\u001b[0mdf5\u001b[0m\u001b[0;34m,\u001b[0m \u001b[0mon\u001b[0m \u001b[0;34m=\u001b[0m \u001b[0;34m'FIPS'\u001b[0m\u001b[0;34m)\u001b[0m\u001b[0;34m\u001b[0m\u001b[0;34m\u001b[0m\u001b[0m\n\u001b[1;32m      5\u001b[0m \u001b[0mmerge5\u001b[0m \u001b[0;34m=\u001b[0m \u001b[0mpd\u001b[0m\u001b[0;34m.\u001b[0m\u001b[0mmerge\u001b[0m\u001b[0;34m(\u001b[0m\u001b[0mmerge4\u001b[0m\u001b[0;34m,\u001b[0m\u001b[0mdf6\u001b[0m\u001b[0;34m,\u001b[0m \u001b[0mon\u001b[0m \u001b[0;34m=\u001b[0m \u001b[0;34m'FIPS'\u001b[0m\u001b[0;34m)\u001b[0m\u001b[0;34m\u001b[0m\u001b[0;34m\u001b[0m\u001b[0m\n",
            "\u001b[0;31mNameError\u001b[0m: name 'df' is not defined"
          ]
        }
      ]
    },
    {
      "cell_type": "markdown",
      "metadata": {
        "id": "nfAnQJWJxh38",
        "colab_type": "text"
      },
      "source": [
        "## Work on full dataset"
      ]
    },
    {
      "cell_type": "code",
      "metadata": {
        "id": "IkxmY3AHeRx3",
        "colab_type": "code",
        "outputId": "e834db0d-420b-4cc9-ee6c-57a9964f85e7",
        "colab": {
          "base_uri": "https://localhost:8080/",
          "height": 72
        }
      },
      "source": [
        "import pandas as pd\n",
        "import numpy as np\n",
        "from sklearn.model_selection import train_test_split\n",
        "dfv = pd.read_csv('/content/drive/My Drive/dsProject2/merge7.csv')\n",
        "dfv = dfv.drop(columns = ['State', 'County'])"
      ],
      "execution_count": 2,
      "outputs": [
        {
          "output_type": "stream",
          "text": [
            "/usr/local/lib/python3.6/dist-packages/IPython/core/interactiveshell.py:2718: DtypeWarning: Columns (51,52,53,54,55,56) have mixed types. Specify dtype option on import or set low_memory=False.\n",
            "  interactivity=interactivity, compiler=compiler, result=result)\n"
          ],
          "name": "stderr"
        }
      ]
    },
    {
      "cell_type": "code",
      "metadata": {
        "id": "vPigMfOdrNbz",
        "colab_type": "code",
        "colab": {}
      },
      "source": [
        "dfv.head()"
      ],
      "execution_count": 0,
      "outputs": []
    },
    {
      "cell_type": "markdown",
      "metadata": {
        "id": "6u2ooPHQxAwX",
        "colab_type": "text"
      },
      "source": [
        "### extra: Open Baseline  (not for use)\n",
        "Want to predict debt rates (here, the low-end estimate) - much data missing for high-end"
      ]
    },
    {
      "cell_type": "code",
      "metadata": {
        "id": "H_Emq9rFxGSE",
        "colab_type": "code",
        "outputId": "900688ca-2f2e-4140-8c29-f8dac0fd789a",
        "colab": {
          "base_uri": "https://localhost:8080/",
          "height": 121
        }
      },
      "source": [
        "dfv['low'] = pd.cut(dfv['low'],5,labels = False) #specify 2 class. for binary set -> use w/ ROC-AUC\n",
        "dfv['low'].value_counts(normalize=True) \n",
        "#baseline (majority class) = 0.404 \n",
        "# classes are imbalanced -> tryout ROC, class_weight param (scikit learn), oversamp techniques"
      ],
      "execution_count": 3,
      "outputs": [
        {
          "output_type": "execute_result",
          "data": {
            "text/plain": [
              "1    0.404341\n",
              "2    0.210263\n",
              "3    0.201532\n",
              "0    0.094023\n",
              "4    0.089841\n",
              "Name: low, dtype: float64"
            ]
          },
          "metadata": {
            "tags": []
          },
          "execution_count": 3
        }
      ]
    },
    {
      "cell_type": "markdown",
      "metadata": {
        "id": "dDtvyLL-Ru_G",
        "colab_type": "text"
      },
      "source": [
        "### Split + Data Wrangling\n"
      ]
    },
    {
      "cell_type": "code",
      "metadata": {
        "id": "zHEUMwu5rv6A",
        "colab_type": "code",
        "outputId": "de96b686-df97-4fd6-f079-ac138427be16",
        "colab": {
          "base_uri": "https://localhost:8080/",
          "height": 121
        }
      },
      "source": [
        "dfv.year.value_counts()"
      ],
      "execution_count": 3,
      "outputs": [
        {
          "output_type": "execute_result",
          "data": {
            "text/plain": [
              "2014    12532\n",
              "2013    12532\n",
              "2015    12531\n",
              "2017    12530\n",
              "2016    12530\n",
              "Name: year, dtype: int64"
            ]
          },
          "metadata": {
            "tags": []
          },
          "execution_count": 3
        }
      ]
    },
    {
      "cell_type": "code",
      "metadata": {
        "id": "8KKr7g_lsa34",
        "colab_type": "code",
        "outputId": "a806af29-e0b9-45d2-e085-a8975b47ecc6",
        "colab": {
          "base_uri": "https://localhost:8080/",
          "height": 425
        }
      },
      "source": [
        "print(dfv.high.isna().sum())\n",
        "dfv.describe() #search for outliers)"
      ],
      "execution_count": 9,
      "outputs": [
        {
          "output_type": "stream",
          "text": [
            "5629\n"
          ],
          "name": "stdout"
        },
        {
          "output_type": "execute_result",
          "data": {
            "text/html": [
              "<div>\n",
              "<style scoped>\n",
              "    .dataframe tbody tr th:only-of-type {\n",
              "        vertical-align: middle;\n",
              "    }\n",
              "\n",
              "    .dataframe tbody tr th {\n",
              "        vertical-align: top;\n",
              "    }\n",
              "\n",
              "    .dataframe thead th {\n",
              "        text-align: right;\n",
              "    }\n",
              "</style>\n",
              "<table border=\"1\" class=\"dataframe\">\n",
              "  <thead>\n",
              "    <tr style=\"text-align: right;\">\n",
              "      <th></th>\n",
              "      <th>year</th>\n",
              "      <th>qtr</th>\n",
              "      <th>FIPS</th>\n",
              "      <th>low</th>\n",
              "      <th>high</th>\n",
              "      <th>MedHHInc</th>\n",
              "      <th>PerCapitaInc</th>\n",
              "      <th>PovertyUnder18Pct</th>\n",
              "      <th>PovertyAllAgesPct</th>\n",
              "      <th>Deep_Pov_All</th>\n",
              "      <th>Deep_Pov_Children</th>\n",
              "      <th>PovertyUnder18Num</th>\n",
              "      <th>PovertyAllAgesNum</th>\n",
              "      <th>RuralUrbanContinuumCode2013</th>\n",
              "      <th>Type_2015_Update</th>\n",
              "      <th>Low_Education_2015_update</th>\n",
              "      <th>Low_Employment_2015_update</th>\n",
              "      <th>Population_loss_2015_update</th>\n",
              "      <th>Metro_Adjacent2013</th>\n",
              "      <th>Vets18OPct</th>\n",
              "      <th>MaleVetsPct</th>\n",
              "      <th>PctVetsPoor</th>\n",
              "      <th>PctNonVetsPoor</th>\n",
              "      <th>PctVetsDisabilty</th>\n",
              "      <th>PctNonVetsDisabilty</th>\n",
              "      <th>PopChangeRate1018</th>\n",
              "      <th>NetMigrationRate1018</th>\n",
              "      <th>PopDensity2010</th>\n",
              "      <th>Under18Pct2010</th>\n",
              "      <th>Age65AndOlderPct2010</th>\n",
              "      <th>ForeignBornPct</th>\n",
              "      <th>UnempRate2018</th>\n",
              "      <th>UnempRate2015</th>\n",
              "      <th>PctEmpChange1018</th>\n",
              "      <th>PctEmpAgriculture</th>\n",
              "      <th>PctEmpMining</th>\n",
              "      <th>PctEmpConstruction</th>\n",
              "      <th>PctEmpManufacturing</th>\n",
              "      <th>PctEmpTrade</th>\n",
              "      <th>PctEmpTrans</th>\n",
              "      <th>PctEmpInformation</th>\n",
              "      <th>PctEmpFIRE</th>\n",
              "      <th>PctEmpServices</th>\n",
              "      <th>PctEmpGovt</th>\n",
              "      <th>Metro-nonmetro status, 2013 0=Nonmetro 1=Metro</th>\n",
              "      <th>Persistent_Poverty_2013</th>\n",
              "      <th>Persistent_Related_Child_Poverty_2013</th>\n",
              "      <th>Economic Types Type_2015_Update non-overlapping</th>\n",
              "      <th>metro03</th>\n",
              "    </tr>\n",
              "  </thead>\n",
              "  <tbody>\n",
              "    <tr>\n",
              "      <th>count</th>\n",
              "      <td>62655.000000</td>\n",
              "      <td>62655.000000</td>\n",
              "      <td>62655.000000</td>\n",
              "      <td>62655.000000</td>\n",
              "      <td>57026.000000</td>\n",
              "      <td>62655.000000</td>\n",
              "      <td>62655.000000</td>\n",
              "      <td>62655.000000</td>\n",
              "      <td>62655.000000</td>\n",
              "      <td>62655.000000</td>\n",
              "      <td>62655.000000</td>\n",
              "      <td>62655.000000</td>\n",
              "      <td>6.265500e+04</td>\n",
              "      <td>62655.000000</td>\n",
              "      <td>62655.000000</td>\n",
              "      <td>62655.000000</td>\n",
              "      <td>62655.000000</td>\n",
              "      <td>62655.000000</td>\n",
              "      <td>62655.000000</td>\n",
              "      <td>62655.000000</td>\n",
              "      <td>62635.000000</td>\n",
              "      <td>62633.000000</td>\n",
              "      <td>62655.000000</td>\n",
              "      <td>62633.000000</td>\n",
              "      <td>62655.000000</td>\n",
              "      <td>62655.000000</td>\n",
              "      <td>62655.000000</td>\n",
              "      <td>62655.000000</td>\n",
              "      <td>62655.000000</td>\n",
              "      <td>62655.000000</td>\n",
              "      <td>62655.000000</td>\n",
              "      <td>62655.000000</td>\n",
              "      <td>62655.000000</td>\n",
              "      <td>62655.000000</td>\n",
              "      <td>62655.000000</td>\n",
              "      <td>62655.000000</td>\n",
              "      <td>62655.000000</td>\n",
              "      <td>62655.000000</td>\n",
              "      <td>62655.000000</td>\n",
              "      <td>62655.000000</td>\n",
              "      <td>62655.000000</td>\n",
              "      <td>62655.000000</td>\n",
              "      <td>62655.000000</td>\n",
              "      <td>62655.000000</td>\n",
              "      <td>62655.000000</td>\n",
              "      <td>62655.000000</td>\n",
              "      <td>62655.000000</td>\n",
              "      <td>62655.000000</td>\n",
              "      <td>62655.000000</td>\n",
              "    </tr>\n",
              "    <tr>\n",
              "      <th>mean</th>\n",
              "      <td>2014.999904</td>\n",
              "      <td>2.499912</td>\n",
              "      <td>30434.477903</td>\n",
              "      <td>1.589594</td>\n",
              "      <td>1.784266</td>\n",
              "      <td>51090.927859</td>\n",
              "      <td>26028.989466</td>\n",
              "      <td>21.539181</td>\n",
              "      <td>15.369999</td>\n",
              "      <td>6.837130</td>\n",
              "      <td>9.862390</td>\n",
              "      <td>4260.963642</td>\n",
              "      <td>1.358945e+04</td>\n",
              "      <td>4.999745</td>\n",
              "      <td>1.803224</td>\n",
              "      <td>0.149070</td>\n",
              "      <td>0.288501</td>\n",
              "      <td>0.168191</td>\n",
              "      <td>0.325529</td>\n",
              "      <td>9.131256</td>\n",
              "      <td>93.251904</td>\n",
              "      <td>10.292955</td>\n",
              "      <td>15.725721</td>\n",
              "      <td>21.710711</td>\n",
              "      <td>13.069458</td>\n",
              "      <td>0.912304</td>\n",
              "      <td>-0.068713</td>\n",
              "      <td>259.875793</td>\n",
              "      <td>23.424248</td>\n",
              "      <td>15.889234</td>\n",
              "      <td>4.699224</td>\n",
              "      <td>4.117328</td>\n",
              "      <td>5.081973</td>\n",
              "      <td>4.143761</td>\n",
              "      <td>5.109760</td>\n",
              "      <td>1.657380</td>\n",
              "      <td>7.236874</td>\n",
              "      <td>12.314099</td>\n",
              "      <td>13.740817</td>\n",
              "      <td>5.499841</td>\n",
              "      <td>1.401149</td>\n",
              "      <td>4.567650</td>\n",
              "      <td>42.877837</td>\n",
              "      <td>5.594593</td>\n",
              "      <td>0.371878</td>\n",
              "      <td>0.112042</td>\n",
              "      <td>0.225345</td>\n",
              "      <td>1.803224</td>\n",
              "      <td>0.347618</td>\n",
              "    </tr>\n",
              "    <tr>\n",
              "      <th>std</th>\n",
              "      <td>1.414225</td>\n",
              "      <td>1.118036</td>\n",
              "      <td>15122.689325</td>\n",
              "      <td>0.904544</td>\n",
              "      <td>0.795370</td>\n",
              "      <td>13499.325639</td>\n",
              "      <td>6245.052428</td>\n",
              "      <td>9.104896</td>\n",
              "      <td>6.248520</td>\n",
              "      <td>3.365953</td>\n",
              "      <td>6.053082</td>\n",
              "      <td>15299.468105</td>\n",
              "      <td>4.717956e+04</td>\n",
              "      <td>2.704962</td>\n",
              "      <td>1.816347</td>\n",
              "      <td>0.356161</td>\n",
              "      <td>0.453069</td>\n",
              "      <td>0.374039</td>\n",
              "      <td>0.468576</td>\n",
              "      <td>2.653430</td>\n",
              "      <td>3.515534</td>\n",
              "      <td>7.026248</td>\n",
              "      <td>6.499362</td>\n",
              "      <td>9.748714</td>\n",
              "      <td>4.581544</td>\n",
              "      <td>7.488828</td>\n",
              "      <td>6.475147</td>\n",
              "      <td>1726.633879</td>\n",
              "      <td>3.315113</td>\n",
              "      <td>4.176274</td>\n",
              "      <td>5.700756</td>\n",
              "      <td>1.453532</td>\n",
              "      <td>2.008620</td>\n",
              "      <td>11.297478</td>\n",
              "      <td>6.355135</td>\n",
              "      <td>3.543960</td>\n",
              "      <td>2.313199</td>\n",
              "      <td>7.191012</td>\n",
              "      <td>2.678393</td>\n",
              "      <td>2.042336</td>\n",
              "      <td>0.844417</td>\n",
              "      <td>1.881224</td>\n",
              "      <td>6.959250</td>\n",
              "      <td>3.175156</td>\n",
              "      <td>0.483310</td>\n",
              "      <td>0.315421</td>\n",
              "      <td>0.417813</td>\n",
              "      <td>1.816347</td>\n",
              "      <td>0.476218</td>\n",
              "    </tr>\n",
              "    <tr>\n",
              "      <th>min</th>\n",
              "      <td>2013.000000</td>\n",
              "      <td>1.000000</td>\n",
              "      <td>1001.000000</td>\n",
              "      <td>0.000000</td>\n",
              "      <td>0.780000</td>\n",
              "      <td>22679.000000</td>\n",
              "      <td>10960.000000</td>\n",
              "      <td>2.700000</td>\n",
              "      <td>3.000000</td>\n",
              "      <td>0.000000</td>\n",
              "      <td>0.000000</td>\n",
              "      <td>11.000000</td>\n",
              "      <td>1.300000e+01</td>\n",
              "      <td>1.000000</td>\n",
              "      <td>0.000000</td>\n",
              "      <td>0.000000</td>\n",
              "      <td>0.000000</td>\n",
              "      <td>0.000000</td>\n",
              "      <td>0.000000</td>\n",
              "      <td>0.000000</td>\n",
              "      <td>71.826625</td>\n",
              "      <td>0.000000</td>\n",
              "      <td>0.000000</td>\n",
              "      <td>0.000000</td>\n",
              "      <td>0.967742</td>\n",
              "      <td>-26.150000</td>\n",
              "      <td>-25.880000</td>\n",
              "      <td>0.040000</td>\n",
              "      <td>9.110000</td>\n",
              "      <td>3.470000</td>\n",
              "      <td>0.000000</td>\n",
              "      <td>1.300000</td>\n",
              "      <td>1.000000</td>\n",
              "      <td>-32.680000</td>\n",
              "      <td>0.000000</td>\n",
              "      <td>0.000000</td>\n",
              "      <td>0.000000</td>\n",
              "      <td>0.000000</td>\n",
              "      <td>1.156069</td>\n",
              "      <td>0.000000</td>\n",
              "      <td>0.000000</td>\n",
              "      <td>0.000000</td>\n",
              "      <td>5.128205</td>\n",
              "      <td>0.000000</td>\n",
              "      <td>0.000000</td>\n",
              "      <td>0.000000</td>\n",
              "      <td>0.000000</td>\n",
              "      <td>0.000000</td>\n",
              "      <td>0.000000</td>\n",
              "    </tr>\n",
              "    <tr>\n",
              "      <th>25%</th>\n",
              "      <td>2014.000000</td>\n",
              "      <td>1.000000</td>\n",
              "      <td>19003.000000</td>\n",
              "      <td>1.010000</td>\n",
              "      <td>1.190000</td>\n",
              "      <td>42275.000000</td>\n",
              "      <td>21805.000000</td>\n",
              "      <td>14.800000</td>\n",
              "      <td>10.900000</td>\n",
              "      <td>4.552548</td>\n",
              "      <td>5.684925</td>\n",
              "      <td>509.000000</td>\n",
              "      <td>1.636000e+03</td>\n",
              "      <td>2.000000</td>\n",
              "      <td>0.000000</td>\n",
              "      <td>0.000000</td>\n",
              "      <td>0.000000</td>\n",
              "      <td>0.000000</td>\n",
              "      <td>0.000000</td>\n",
              "      <td>7.550806</td>\n",
              "      <td>91.666667</td>\n",
              "      <td>5.933251</td>\n",
              "      <td>11.007071</td>\n",
              "      <td>15.504587</td>\n",
              "      <td>9.812482</td>\n",
              "      <td>-3.730000</td>\n",
              "      <td>-3.710000</td>\n",
              "      <td>17.050000</td>\n",
              "      <td>21.430000</td>\n",
              "      <td>13.130000</td>\n",
              "      <td>1.354839</td>\n",
              "      <td>3.100000</td>\n",
              "      <td>4.000000</td>\n",
              "      <td>-2.690000</td>\n",
              "      <td>1.136425</td>\n",
              "      <td>0.080877</td>\n",
              "      <td>5.659038</td>\n",
              "      <td>6.718598</td>\n",
              "      <td>12.319050</td>\n",
              "      <td>4.172427</td>\n",
              "      <td>0.880626</td>\n",
              "      <td>3.393541</td>\n",
              "      <td>38.254865</td>\n",
              "      <td>3.570954</td>\n",
              "      <td>0.000000</td>\n",
              "      <td>0.000000</td>\n",
              "      <td>0.000000</td>\n",
              "      <td>0.000000</td>\n",
              "      <td>0.000000</td>\n",
              "    </tr>\n",
              "    <tr>\n",
              "      <th>50%</th>\n",
              "      <td>2015.000000</td>\n",
              "      <td>2.000000</td>\n",
              "      <td>29181.000000</td>\n",
              "      <td>1.580000</td>\n",
              "      <td>1.580000</td>\n",
              "      <td>48851.000000</td>\n",
              "      <td>25267.000000</td>\n",
              "      <td>20.500000</td>\n",
              "      <td>14.400000</td>\n",
              "      <td>6.293835</td>\n",
              "      <td>8.848700</td>\n",
              "      <td>1210.000000</td>\n",
              "      <td>3.893000e+03</td>\n",
              "      <td>6.000000</td>\n",
              "      <td>1.000000</td>\n",
              "      <td>0.000000</td>\n",
              "      <td>0.000000</td>\n",
              "      <td>0.000000</td>\n",
              "      <td>0.000000</td>\n",
              "      <td>8.898224</td>\n",
              "      <td>93.523833</td>\n",
              "      <td>9.268293</td>\n",
              "      <td>15.003651</td>\n",
              "      <td>20.443430</td>\n",
              "      <td>12.526395</td>\n",
              "      <td>-0.400000</td>\n",
              "      <td>-1.050000</td>\n",
              "      <td>45.300000</td>\n",
              "      <td>23.330000</td>\n",
              "      <td>15.570000</td>\n",
              "      <td>2.691027</td>\n",
              "      <td>3.900000</td>\n",
              "      <td>5.000000</td>\n",
              "      <td>3.460000</td>\n",
              "      <td>2.863436</td>\n",
              "      <td>0.311268</td>\n",
              "      <td>6.964006</td>\n",
              "      <td>11.441608</td>\n",
              "      <td>13.921248</td>\n",
              "      <td>5.156076</td>\n",
              "      <td>1.318681</td>\n",
              "      <td>4.275394</td>\n",
              "      <td>42.666369</td>\n",
              "      <td>4.731340</td>\n",
              "      <td>0.000000</td>\n",
              "      <td>0.000000</td>\n",
              "      <td>0.000000</td>\n",
              "      <td>1.000000</td>\n",
              "      <td>0.000000</td>\n",
              "    </tr>\n",
              "    <tr>\n",
              "      <th>75%</th>\n",
              "      <td>2016.000000</td>\n",
              "      <td>3.000000</td>\n",
              "      <td>45081.000000</td>\n",
              "      <td>2.160000</td>\n",
              "      <td>2.160000</td>\n",
              "      <td>56678.000000</td>\n",
              "      <td>29096.000000</td>\n",
              "      <td>26.700000</td>\n",
              "      <td>18.400000</td>\n",
              "      <td>8.303840</td>\n",
              "      <td>12.633262</td>\n",
              "      <td>2850.000000</td>\n",
              "      <td>9.474000e+03</td>\n",
              "      <td>7.000000</td>\n",
              "      <td>3.000000</td>\n",
              "      <td>0.000000</td>\n",
              "      <td>1.000000</td>\n",
              "      <td>0.000000</td>\n",
              "      <td>1.000000</td>\n",
              "      <td>10.386361</td>\n",
              "      <td>95.405532</td>\n",
              "      <td>13.159251</td>\n",
              "      <td>19.245367</td>\n",
              "      <td>26.470588</td>\n",
              "      <td>15.752461</td>\n",
              "      <td>4.170000</td>\n",
              "      <td>2.670000</td>\n",
              "      <td>114.200000</td>\n",
              "      <td>25.100000</td>\n",
              "      <td>18.210000</td>\n",
              "      <td>5.703265</td>\n",
              "      <td>4.800000</td>\n",
              "      <td>6.000000</td>\n",
              "      <td>9.610000</td>\n",
              "      <td>6.333122</td>\n",
              "      <td>1.372549</td>\n",
              "      <td>8.429036</td>\n",
              "      <td>16.897875</td>\n",
              "      <td>15.290231</td>\n",
              "      <td>6.445287</td>\n",
              "      <td>1.769841</td>\n",
              "      <td>5.475331</td>\n",
              "      <td>47.365535</td>\n",
              "      <td>6.674054</td>\n",
              "      <td>1.000000</td>\n",
              "      <td>0.000000</td>\n",
              "      <td>0.000000</td>\n",
              "      <td>3.000000</td>\n",
              "      <td>1.000000</td>\n",
              "    </tr>\n",
              "    <tr>\n",
              "      <th>max</th>\n",
              "      <td>2017.000000</td>\n",
              "      <td>4.000000</td>\n",
              "      <td>56045.000000</td>\n",
              "      <td>3.460000</td>\n",
              "      <td>3.460000</td>\n",
              "      <td>136191.000000</td>\n",
              "      <td>69529.000000</td>\n",
              "      <td>74.700000</td>\n",
              "      <td>56.700000</td>\n",
              "      <td>28.892751</td>\n",
              "      <td>51.381215</td>\n",
              "      <td>457665.000000</td>\n",
              "      <td>1.490853e+06</td>\n",
              "      <td>9.000000</td>\n",
              "      <td>5.000000</td>\n",
              "      <td>1.000000</td>\n",
              "      <td>1.000000</td>\n",
              "      <td>1.000000</td>\n",
              "      <td>1.000000</td>\n",
              "      <td>25.436423</td>\n",
              "      <td>100.000000</td>\n",
              "      <td>75.000000</td>\n",
              "      <td>49.458128</td>\n",
              "      <td>80.000000</td>\n",
              "      <td>36.018609</td>\n",
              "      <td>112.630000</td>\n",
              "      <td>96.860000</td>\n",
              "      <td>69468.420000</td>\n",
              "      <td>40.130000</td>\n",
              "      <td>43.380000</td>\n",
              "      <td>52.944533</td>\n",
              "      <td>18.100000</td>\n",
              "      <td>24.000000</td>\n",
              "      <td>151.200000</td>\n",
              "      <td>60.227273</td>\n",
              "      <td>42.394558</td>\n",
              "      <td>22.834844</td>\n",
              "      <td>55.093555</td>\n",
              "      <td>35.851083</td>\n",
              "      <td>24.591236</td>\n",
              "      <td>17.297297</td>\n",
              "      <td>21.069729</td>\n",
              "      <td>82.229774</td>\n",
              "      <td>32.909854</td>\n",
              "      <td>1.000000</td>\n",
              "      <td>1.000000</td>\n",
              "      <td>1.000000</td>\n",
              "      <td>5.000000</td>\n",
              "      <td>1.000000</td>\n",
              "    </tr>\n",
              "  </tbody>\n",
              "</table>\n",
              "</div>"
            ],
            "text/plain": [
              "               year  ...       metro03\n",
              "count  62655.000000  ...  62655.000000\n",
              "mean    2014.999904  ...      0.347618\n",
              "std        1.414225  ...      0.476218\n",
              "min     2013.000000  ...      0.000000\n",
              "25%     2014.000000  ...      0.000000\n",
              "50%     2015.000000  ...      0.000000\n",
              "75%     2016.000000  ...      1.000000\n",
              "max     2017.000000  ...      1.000000\n",
              "\n",
              "[8 rows x 49 columns]"
            ]
          },
          "metadata": {
            "tags": []
          },
          "execution_count": 9
        }
      ]
    },
    {
      "cell_type": "code",
      "metadata": {
        "id": "V3_G447Jxi73",
        "colab_type": "code",
        "outputId": "bb24a6f9-ddd7-4815-ced4-d7719aa8435b",
        "colab": {
          "base_uri": "https://localhost:8080/",
          "height": 52
        }
      },
      "source": [
        "#holdout test set\n",
        "test = dfv.query('year == 2017') \n",
        "\n",
        "# Split train into train & val\n",
        "#dfv['averageDebtRate'] = (dfv['low'] + dfv['high'])\n",
        "\n",
        "#split on time-series\n",
        "re_train = dfv.query('year < 2016')\n",
        "re_val = dfv.query('year == 2016') #val set approx. 25% of (post- test-split) dataset \n",
        "print(re_train.shape,re_val.shape)\n",
        "\n",
        "#split by random\n",
        "train, val = train_test_split(test, train_size=0.80, stratify=test['low'], random_state=12)\n",
        "train.shape, val.shape"
      ],
      "execution_count": 4,
      "outputs": [
        {
          "output_type": "stream",
          "text": [
            "(37595, 56) (12530, 56)\n"
          ],
          "name": "stdout"
        },
        {
          "output_type": "execute_result",
          "data": {
            "text/plain": [
              "((10024, 56), (2506, 56))"
            ]
          },
          "metadata": {
            "tags": []
          },
          "execution_count": 4
        }
      ]
    },
    {
      "cell_type": "code",
      "metadata": {
        "id": "ErvoUn0F3VcN",
        "colab_type": "code",
        "colab": {}
      },
      "source": [
        "# import pandas_profiling as pp\n",
        "# pp.ProfileReport(train)"
      ],
      "execution_count": 0,
      "outputs": []
    },
    {
      "cell_type": "code",
      "metadata": {
        "id": "Y8cmn_Gdyy3o",
        "colab_type": "code",
        "colab": {}
      },
      "source": [
        "def wrangle(X):    \n",
        "    X = X.copy()\n",
        "    target = X.low\n",
        "    \n",
        "    #managing outliers\n",
        "    X = X.query('MedHHInc < 70000')\n",
        "    X = X.query('PerCapitaInc < 45000')\n",
        "    X = X.query('PovertyUnder18Pct < 40')\n",
        "    X = X.query('PovertyAllAgesPct < 35')\n",
        "    X = X.query('Deep_Pov_All < 18')\n",
        "    \n",
        "    \n",
        "    #feat/engineering\n",
        "    X = X.drop(columns=['high']) #column of (many) nan\n",
        "    X = X.query('qtr == 4')\n",
        "    \n",
        "    # Drop duplicate columns --> none yet\n",
        "    duplicates = []\n",
        "    X = X.drop(columns=duplicates)\n",
        "    \n",
        "    # Drop unusable variances\n",
        "    unusable_variance = ['FIPS','year','qtr']\n",
        "    X = X.drop(columns=unusable_variance)\n",
        "    \n",
        "    #bin the y-continuous feat\n",
        "    X['debt_class'] = pd.cut(X['low'],5,labels = False) #labels = False -> bins are indicated by integer values\n",
        "    \n",
        "    # return the wrangled dataframe\n",
        "    return X\n",
        "  \n",
        "def wrangle2(X):\n",
        "    least_feats = list_feats[35:]\n",
        "    X = X.copy()\n",
        "    X = X.query('qtr == 4')\n",
        "    X = X.drop(columns = least_feats)\n",
        "    X = X.drop(columns = ['FIPS','high','year','qtr'])\n",
        "    return X\n",
        "  \n",
        "train = wrangle(train)\n",
        "val = wrangle(val)\n",
        "re_train = wrangle(re_train)\n",
        "re_val = wrangle(re_val)\n",
        "test = wrangle(test)"
      ],
      "execution_count": 0,
      "outputs": []
    },
    {
      "cell_type": "code",
      "metadata": {
        "id": "3qjnojjdzh1a",
        "colab_type": "code",
        "colab": {}
      },
      "source": [
        "# The status_group column is the target\n",
        "target = 'debt_class'\n",
        "\n",
        "train_features = train.drop(columns=[target])\n",
        "re_train_features = re_train.drop(columns = [target])\n",
        "\n",
        "# list of numeric features\n",
        "numeric_features = train_features.select_dtypes(include='number').columns.tolist()\n",
        "re_numeric_features = re_train_features.select_dtypes(include='number').columns.tolist()\n",
        "\n",
        "# # series with cardinality of the nonnumeric features\n",
        "cardinality = train_features.select_dtypes(exclude='number').nunique()\n",
        "re_cardinality = re_train_features.select_dtypes(exclude='number').nunique()\n",
        "\n",
        "# list of categorical features w/cardinality <= 25Pct\n",
        "categorical_features = cardinality[cardinality <= 50].index.tolist() #none w/wrangle2 function; all w/cards in 1000s\n",
        "re_categorical_features = re_cardinality[re_cardinality <= 10].index.tolist()\n",
        "\n",
        "# combine lists \n",
        "features = numeric_features + categorical_features\n",
        "re_features = re_numeric_features + categorical_features"
      ],
      "execution_count": 0,
      "outputs": []
    },
    {
      "cell_type": "code",
      "metadata": {
        "id": "wRjqjuvRzk9Q",
        "colab_type": "code",
        "colab": {}
      },
      "source": [
        "X_train = train[features]\n",
        "y_train = train[target]\n",
        "X_val = val[features]\n",
        "y_val = val[target]\n",
        "\n",
        "re_X_train = re_train[re_features]\n",
        "re_y_train = re_train[target]\n",
        "re_X_val = re_val[re_features]\n",
        "re_y_val = re_val[target]"
      ],
      "execution_count": 0,
      "outputs": []
    },
    {
      "cell_type": "markdown",
      "metadata": {
        "id": "yeEX9gNuDJzT",
        "colab_type": "text"
      },
      "source": [
        "### Exploratory visuals"
      ]
    },
    {
      "cell_type": "code",
      "metadata": {
        "id": "hiXpU1ju5e84",
        "colab_type": "code",
        "colab": {
          "base_uri": "https://localhost:8080/",
          "height": 313
        },
        "outputId": "0b33c137-aab7-4eee-ea80-c5736d7bb319"
      },
      "source": [
        "dfv.head()"
      ],
      "execution_count": 15,
      "outputs": [
        {
          "output_type": "execute_result",
          "data": {
            "text/html": [
              "<div>\n",
              "<style scoped>\n",
              "    .dataframe tbody tr th:only-of-type {\n",
              "        vertical-align: middle;\n",
              "    }\n",
              "\n",
              "    .dataframe tbody tr th {\n",
              "        vertical-align: top;\n",
              "    }\n",
              "\n",
              "    .dataframe thead th {\n",
              "        text-align: right;\n",
              "    }\n",
              "</style>\n",
              "<table border=\"1\" class=\"dataframe\">\n",
              "  <thead>\n",
              "    <tr style=\"text-align: right;\">\n",
              "      <th></th>\n",
              "      <th>year</th>\n",
              "      <th>qtr</th>\n",
              "      <th>FIPS</th>\n",
              "      <th>low</th>\n",
              "      <th>high</th>\n",
              "      <th>MedHHInc</th>\n",
              "      <th>PerCapitaInc</th>\n",
              "      <th>PovertyUnder18Pct</th>\n",
              "      <th>PovertyAllAgesPct</th>\n",
              "      <th>Deep_Pov_All</th>\n",
              "      <th>Deep_Pov_Children</th>\n",
              "      <th>PovertyUnder18Num</th>\n",
              "      <th>PovertyAllAgesNum</th>\n",
              "      <th>RuralUrbanContinuumCode2013</th>\n",
              "      <th>Type_2015_Update</th>\n",
              "      <th>Low_Education_2015_update</th>\n",
              "      <th>Low_Employment_2015_update</th>\n",
              "      <th>Population_loss_2015_update</th>\n",
              "      <th>Metro_Adjacent2013</th>\n",
              "      <th>Vets18OPct</th>\n",
              "      <th>MaleVetsPct</th>\n",
              "      <th>PctVetsPoor</th>\n",
              "      <th>PctNonVetsPoor</th>\n",
              "      <th>PctVetsDisabilty</th>\n",
              "      <th>PctNonVetsDisabilty</th>\n",
              "      <th>PopChangeRate1018</th>\n",
              "      <th>NetMigrationRate1018</th>\n",
              "      <th>PopDensity2010</th>\n",
              "      <th>Under18Pct2010</th>\n",
              "      <th>Age65AndOlderPct2010</th>\n",
              "      <th>ForeignBornPct</th>\n",
              "      <th>UnempRate2018</th>\n",
              "      <th>UnempRate2015</th>\n",
              "      <th>PctEmpChange1018</th>\n",
              "      <th>PctEmpAgriculture</th>\n",
              "      <th>PctEmpMining</th>\n",
              "      <th>PctEmpConstruction</th>\n",
              "      <th>PctEmpManufacturing</th>\n",
              "      <th>PctEmpTrade</th>\n",
              "      <th>PctEmpTrans</th>\n",
              "      <th>PctEmpInformation</th>\n",
              "      <th>PctEmpFIRE</th>\n",
              "      <th>PctEmpServices</th>\n",
              "      <th>PctEmpGovt</th>\n",
              "      <th>Metro-nonmetro status, 2013 0=Nonmetro 1=Metro</th>\n",
              "      <th>Persistent_Poverty_2013</th>\n",
              "      <th>Persistent_Related_Child_Poverty_2013</th>\n",
              "      <th>Economic_Type_Label</th>\n",
              "      <th>Economic Types Type_2015_Update non-overlapping</th>\n",
              "      <th>CCShare</th>\n",
              "      <th>CCShareSE</th>\n",
              "      <th>BohShare</th>\n",
              "      <th>BohShareSE</th>\n",
              "      <th>CCShareRME</th>\n",
              "      <th>BohShareRME</th>\n",
              "      <th>metro03</th>\n",
              "    </tr>\n",
              "  </thead>\n",
              "  <tbody>\n",
              "    <tr>\n",
              "      <th>0</th>\n",
              "      <td>2013</td>\n",
              "      <td>1</td>\n",
              "      <td>1001</td>\n",
              "      <td>3.46</td>\n",
              "      <td>NaN</td>\n",
              "      <td>58343.0</td>\n",
              "      <td>27824.0</td>\n",
              "      <td>19.3</td>\n",
              "      <td>13.4</td>\n",
              "      <td>5.85432</td>\n",
              "      <td>9.668756</td>\n",
              "      <td>2542.0</td>\n",
              "      <td>7390.0</td>\n",
              "      <td>2.0</td>\n",
              "      <td>0.0</td>\n",
              "      <td>0.0</td>\n",
              "      <td>0.0</td>\n",
              "      <td>0.0</td>\n",
              "      <td>0.0</td>\n",
              "      <td>12.562753</td>\n",
              "      <td>89.544132</td>\n",
              "      <td>3.43461</td>\n",
              "      <td>13.985967</td>\n",
              "      <td>18.626156</td>\n",
              "      <td>15.676579</td>\n",
              "      <td>1.55</td>\n",
              "      <td>0.28</td>\n",
              "      <td>91.8</td>\n",
              "      <td>26.78</td>\n",
              "      <td>12.0</td>\n",
              "      <td>2.113162</td>\n",
              "      <td>3.6</td>\n",
              "      <td>5.0</td>\n",
              "      <td>6.76</td>\n",
              "      <td>0.605508</td>\n",
              "      <td>0.315196</td>\n",
              "      <td>5.134373</td>\n",
              "      <td>13.321168</td>\n",
              "      <td>12.881553</td>\n",
              "      <td>7.436131</td>\n",
              "      <td>1.671367</td>\n",
              "      <td>5.573988</td>\n",
              "      <td>41.908593</td>\n",
              "      <td>11.152123</td>\n",
              "      <td>1</td>\n",
              "      <td>0</td>\n",
              "      <td>0</td>\n",
              "      <td>Nonspecialized</td>\n",
              "      <td>0</td>\n",
              "      <td>0.23529</td>\n",
              "      <td>0.01264</td>\n",
              "      <td>0.0058</td>\n",
              "      <td>0.00168</td>\n",
              "      <td>0.02079</td>\n",
              "      <td>0.00277</td>\n",
              "      <td>1</td>\n",
              "    </tr>\n",
              "    <tr>\n",
              "      <th>1</th>\n",
              "      <td>2013</td>\n",
              "      <td>2</td>\n",
              "      <td>1001</td>\n",
              "      <td>3.46</td>\n",
              "      <td>NaN</td>\n",
              "      <td>58343.0</td>\n",
              "      <td>27824.0</td>\n",
              "      <td>19.3</td>\n",
              "      <td>13.4</td>\n",
              "      <td>5.85432</td>\n",
              "      <td>9.668756</td>\n",
              "      <td>2542.0</td>\n",
              "      <td>7390.0</td>\n",
              "      <td>2.0</td>\n",
              "      <td>0.0</td>\n",
              "      <td>0.0</td>\n",
              "      <td>0.0</td>\n",
              "      <td>0.0</td>\n",
              "      <td>0.0</td>\n",
              "      <td>12.562753</td>\n",
              "      <td>89.544132</td>\n",
              "      <td>3.43461</td>\n",
              "      <td>13.985967</td>\n",
              "      <td>18.626156</td>\n",
              "      <td>15.676579</td>\n",
              "      <td>1.55</td>\n",
              "      <td>0.28</td>\n",
              "      <td>91.8</td>\n",
              "      <td>26.78</td>\n",
              "      <td>12.0</td>\n",
              "      <td>2.113162</td>\n",
              "      <td>3.6</td>\n",
              "      <td>5.0</td>\n",
              "      <td>6.76</td>\n",
              "      <td>0.605508</td>\n",
              "      <td>0.315196</td>\n",
              "      <td>5.134373</td>\n",
              "      <td>13.321168</td>\n",
              "      <td>12.881553</td>\n",
              "      <td>7.436131</td>\n",
              "      <td>1.671367</td>\n",
              "      <td>5.573988</td>\n",
              "      <td>41.908593</td>\n",
              "      <td>11.152123</td>\n",
              "      <td>1</td>\n",
              "      <td>0</td>\n",
              "      <td>0</td>\n",
              "      <td>Nonspecialized</td>\n",
              "      <td>0</td>\n",
              "      <td>0.23529</td>\n",
              "      <td>0.01264</td>\n",
              "      <td>0.0058</td>\n",
              "      <td>0.00168</td>\n",
              "      <td>0.02079</td>\n",
              "      <td>0.00277</td>\n",
              "      <td>1</td>\n",
              "    </tr>\n",
              "    <tr>\n",
              "      <th>2</th>\n",
              "      <td>2013</td>\n",
              "      <td>3</td>\n",
              "      <td>1001</td>\n",
              "      <td>3.46</td>\n",
              "      <td>NaN</td>\n",
              "      <td>58343.0</td>\n",
              "      <td>27824.0</td>\n",
              "      <td>19.3</td>\n",
              "      <td>13.4</td>\n",
              "      <td>5.85432</td>\n",
              "      <td>9.668756</td>\n",
              "      <td>2542.0</td>\n",
              "      <td>7390.0</td>\n",
              "      <td>2.0</td>\n",
              "      <td>0.0</td>\n",
              "      <td>0.0</td>\n",
              "      <td>0.0</td>\n",
              "      <td>0.0</td>\n",
              "      <td>0.0</td>\n",
              "      <td>12.562753</td>\n",
              "      <td>89.544132</td>\n",
              "      <td>3.43461</td>\n",
              "      <td>13.985967</td>\n",
              "      <td>18.626156</td>\n",
              "      <td>15.676579</td>\n",
              "      <td>1.55</td>\n",
              "      <td>0.28</td>\n",
              "      <td>91.8</td>\n",
              "      <td>26.78</td>\n",
              "      <td>12.0</td>\n",
              "      <td>2.113162</td>\n",
              "      <td>3.6</td>\n",
              "      <td>5.0</td>\n",
              "      <td>6.76</td>\n",
              "      <td>0.605508</td>\n",
              "      <td>0.315196</td>\n",
              "      <td>5.134373</td>\n",
              "      <td>13.321168</td>\n",
              "      <td>12.881553</td>\n",
              "      <td>7.436131</td>\n",
              "      <td>1.671367</td>\n",
              "      <td>5.573988</td>\n",
              "      <td>41.908593</td>\n",
              "      <td>11.152123</td>\n",
              "      <td>1</td>\n",
              "      <td>0</td>\n",
              "      <td>0</td>\n",
              "      <td>Nonspecialized</td>\n",
              "      <td>0</td>\n",
              "      <td>0.23529</td>\n",
              "      <td>0.01264</td>\n",
              "      <td>0.0058</td>\n",
              "      <td>0.00168</td>\n",
              "      <td>0.02079</td>\n",
              "      <td>0.00277</td>\n",
              "      <td>1</td>\n",
              "    </tr>\n",
              "    <tr>\n",
              "      <th>3</th>\n",
              "      <td>2013</td>\n",
              "      <td>4</td>\n",
              "      <td>1001</td>\n",
              "      <td>3.46</td>\n",
              "      <td>NaN</td>\n",
              "      <td>58343.0</td>\n",
              "      <td>27824.0</td>\n",
              "      <td>19.3</td>\n",
              "      <td>13.4</td>\n",
              "      <td>5.85432</td>\n",
              "      <td>9.668756</td>\n",
              "      <td>2542.0</td>\n",
              "      <td>7390.0</td>\n",
              "      <td>2.0</td>\n",
              "      <td>0.0</td>\n",
              "      <td>0.0</td>\n",
              "      <td>0.0</td>\n",
              "      <td>0.0</td>\n",
              "      <td>0.0</td>\n",
              "      <td>12.562753</td>\n",
              "      <td>89.544132</td>\n",
              "      <td>3.43461</td>\n",
              "      <td>13.985967</td>\n",
              "      <td>18.626156</td>\n",
              "      <td>15.676579</td>\n",
              "      <td>1.55</td>\n",
              "      <td>0.28</td>\n",
              "      <td>91.8</td>\n",
              "      <td>26.78</td>\n",
              "      <td>12.0</td>\n",
              "      <td>2.113162</td>\n",
              "      <td>3.6</td>\n",
              "      <td>5.0</td>\n",
              "      <td>6.76</td>\n",
              "      <td>0.605508</td>\n",
              "      <td>0.315196</td>\n",
              "      <td>5.134373</td>\n",
              "      <td>13.321168</td>\n",
              "      <td>12.881553</td>\n",
              "      <td>7.436131</td>\n",
              "      <td>1.671367</td>\n",
              "      <td>5.573988</td>\n",
              "      <td>41.908593</td>\n",
              "      <td>11.152123</td>\n",
              "      <td>1</td>\n",
              "      <td>0</td>\n",
              "      <td>0</td>\n",
              "      <td>Nonspecialized</td>\n",
              "      <td>0</td>\n",
              "      <td>0.23529</td>\n",
              "      <td>0.01264</td>\n",
              "      <td>0.0058</td>\n",
              "      <td>0.00168</td>\n",
              "      <td>0.02079</td>\n",
              "      <td>0.00277</td>\n",
              "      <td>1</td>\n",
              "    </tr>\n",
              "    <tr>\n",
              "      <th>4</th>\n",
              "      <td>2014</td>\n",
              "      <td>1</td>\n",
              "      <td>1001</td>\n",
              "      <td>3.46</td>\n",
              "      <td>NaN</td>\n",
              "      <td>58343.0</td>\n",
              "      <td>27824.0</td>\n",
              "      <td>19.3</td>\n",
              "      <td>13.4</td>\n",
              "      <td>5.85432</td>\n",
              "      <td>9.668756</td>\n",
              "      <td>2542.0</td>\n",
              "      <td>7390.0</td>\n",
              "      <td>2.0</td>\n",
              "      <td>0.0</td>\n",
              "      <td>0.0</td>\n",
              "      <td>0.0</td>\n",
              "      <td>0.0</td>\n",
              "      <td>0.0</td>\n",
              "      <td>12.562753</td>\n",
              "      <td>89.544132</td>\n",
              "      <td>3.43461</td>\n",
              "      <td>13.985967</td>\n",
              "      <td>18.626156</td>\n",
              "      <td>15.676579</td>\n",
              "      <td>1.55</td>\n",
              "      <td>0.28</td>\n",
              "      <td>91.8</td>\n",
              "      <td>26.78</td>\n",
              "      <td>12.0</td>\n",
              "      <td>2.113162</td>\n",
              "      <td>3.6</td>\n",
              "      <td>5.0</td>\n",
              "      <td>6.76</td>\n",
              "      <td>0.605508</td>\n",
              "      <td>0.315196</td>\n",
              "      <td>5.134373</td>\n",
              "      <td>13.321168</td>\n",
              "      <td>12.881553</td>\n",
              "      <td>7.436131</td>\n",
              "      <td>1.671367</td>\n",
              "      <td>5.573988</td>\n",
              "      <td>41.908593</td>\n",
              "      <td>11.152123</td>\n",
              "      <td>1</td>\n",
              "      <td>0</td>\n",
              "      <td>0</td>\n",
              "      <td>Nonspecialized</td>\n",
              "      <td>0</td>\n",
              "      <td>0.23529</td>\n",
              "      <td>0.01264</td>\n",
              "      <td>0.0058</td>\n",
              "      <td>0.00168</td>\n",
              "      <td>0.02079</td>\n",
              "      <td>0.00277</td>\n",
              "      <td>1</td>\n",
              "    </tr>\n",
              "  </tbody>\n",
              "</table>\n",
              "</div>"
            ],
            "text/plain": [
              "   year  qtr  FIPS   low  ...  BohShareSE  CCShareRME  BohShareRME  metro03\n",
              "0  2013    1  1001  3.46  ...     0.00168     0.02079      0.00277        1\n",
              "1  2013    2  1001  3.46  ...     0.00168     0.02079      0.00277        1\n",
              "2  2013    3  1001  3.46  ...     0.00168     0.02079      0.00277        1\n",
              "3  2013    4  1001  3.46  ...     0.00168     0.02079      0.00277        1\n",
              "4  2014    1  1001  3.46  ...     0.00168     0.02079      0.00277        1\n",
              "\n",
              "[5 rows x 56 columns]"
            ]
          },
          "metadata": {
            "tags": []
          },
          "execution_count": 15
        }
      ]
    },
    {
      "cell_type": "code",
      "metadata": {
        "id": "xYJ4s9Ydn_Wn",
        "colab_type": "code",
        "colab": {
          "base_uri": "https://localhost:8080/",
          "height": 617
        },
        "outputId": "4ca7b4ef-742d-4290-c189-d2a4aee90295"
      },
      "source": [
        "import plotly.express as px\n",
        "\n",
        "px.scatter(train, x='low',y='PctEmpConstruction', color = 'debt_class', opacity = .2)\n",
        "\n",
        "#consider q-cut method of binning"
      ],
      "execution_count": 8,
      "outputs": [
        {
          "output_type": "display_data",
          "data": {
            "text/html": [
              "<html>\n",
              "<head><meta charset=\"utf-8\" /></head>\n",
              "<body>\n",
              "    <div>\n",
              "            <script src=\"https://cdnjs.cloudflare.com/ajax/libs/mathjax/2.7.5/MathJax.js?config=TeX-AMS-MML_SVG\"></script><script type=\"text/javascript\">if (window.MathJax) {MathJax.Hub.Config({SVG: {font: \"STIX-Web\"}});}</script>\n",
              "                <script type=\"text/javascript\">window.PlotlyConfig = {MathJaxConfig: 'local'};</script>\n",
              "        <script src=\"https://cdn.plot.ly/plotly-latest.min.js\"></script>    \n",
              "            <div id=\"c785430e-f235-4bec-a6fd-52bce7c45133\" class=\"plotly-graph-div\" style=\"height:600px; width:100%;\"></div>\n",
              "            <script type=\"text/javascript\">\n",
              "                \n",
              "                    window.PLOTLYENV=window.PLOTLYENV || {};\n",
              "                    \n",
              "                if (document.getElementById(\"c785430e-f235-4bec-a6fd-52bce7c45133\")) {\n",
              "                    Plotly.newPlot(\n",
              "                        'c785430e-f235-4bec-a6fd-52bce7c45133',\n",
              "                        [{\"hoverlabel\": {\"namelength\": 0}, \"hovertemplate\": \"low=%{x}<br>PctEmpConstruction=%{y}<br>debt_class=%{marker.color}\", \"legendgroup\": \"\", \"marker\": {\"color\": [0, 1, 1, 3, 1, 4, 1, 1, 1, 2, 3, 2, 1, 2, 1, 2, 1, 1, 1, 1, 1, 1, 2, 2, 0, 2, 1, 3, 2, 1, 1, 3, 1, 3, 1, 2, 1, 3, 2, 1, 2, 2, 1, 1, 1, 1, 0, 2, 1, 1, 3, 2, 1, 2, 1, 3, 2, 0, 1, 1, 1, 2, 3, 1, 4, 1, 3, 2, 1, 1, 1, 3, 1, 1, 2, 1, 4, 3, 2, 1, 3, 1, 4, 0, 1, 1, 1, 3, 4, 1, 3, 0, 1, 0, 2, 1, 1, 4, 2, 2, 1, 1, 3, 1, 1, 1, 2, 0, 1, 1, 3, 2, 4, 1, 3, 2, 1, 1, 4, 1, 1, 0, 1, 1, 0, 1, 1, 4, 2, 1, 4, 2, 1, 0, 2, 0, 3, 1, 1, 1, 3, 1, 1, 1, 1, 1, 2, 1, 2, 1, 1, 1, 1, 2, 1, 2, 3, 1, 2, 3, 1, 2, 1, 1, 1, 1, 2, 4, 1, 2, 4, 1, 3, 1, 0, 2, 1, 2, 1, 1, 3, 3, 4, 3, 2, 1, 2, 1, 4, 1, 4, 1, 1, 3, 4, 3, 0, 1, 1, 1, 1, 2, 4, 1, 3, 0, 1, 0, 1, 2, 2, 1, 1, 4, 1, 3, 3, 1, 2, 0, 0, 1, 3, 2, 1, 1, 2, 2, 3, 2, 0, 1, 0, 3, 1, 4, 4, 1, 3, 2, 0, 2, 1, 2, 0, 2, 1, 3, 2, 2, 1, 1, 2, 1, 2, 3, 2, 2, 1, 1, 1, 2, 1, 2, 0, 1, 1, 1, 0, 1, 3, 1, 2, 1, 4, 1, 2, 2, 3, 4, 1, 1, 3, 1, 2, 1, 3, 2, 1, 3, 2, 1, 1, 1, 3, 4, 2, 1, 2, 2, 1, 1, 2, 1, 0, 3, 3, 3, 1, 0, 0, 4, 0, 0, 1, 1, 0, 2, 3, 4, 1, 1, 3, 0, 2, 4, 1, 1, 1, 1, 3, 0, 1, 4, 1, 1, 4, 1, 3, 1, 0, 0, 2, 3, 1, 2, 1, 4, 1, 0, 2, 1, 1, 1, 3, 2, 1, 1, 1, 3, 1, 1, 2, 2, 1, 2, 3, 3, 0, 1, 1, 1, 0, 1, 1, 3, 1, 1, 0, 2, 3, 1, 1, 2, 3, 2, 1, 3, 2, 4, 1, 4, 1, 2, 3, 1, 3, 0, 1, 1, 1, 2, 3, 1, 0, 1, 1, 2, 1, 3, 2, 2, 2, 1, 2, 2, 1, 1, 2, 3, 2, 3, 1, 1, 1, 0, 4, 3, 1, 1, 4, 3, 1, 0, 3, 0, 2, 0, 2, 0, 0, 3, 2, 1, 0, 1, 1, 2, 2, 2, 3, 0, 3, 1, 3, 1, 2, 0, 1, 3, 3, 1, 3, 1, 2, 1, 1, 0, 2, 3, 1, 0, 2, 3, 1, 2, 0, 1, 2, 1, 3, 4, 1, 2, 1, 1, 1, 1, 3, 1, 2, 1, 1, 1, 3, 1, 1, 1, 1, 1, 1, 3, 2, 1, 1, 1, 1, 1, 0, 3, 0, 2, 1, 2, 1, 1, 3, 2, 1, 2, 0, 4, 3, 1, 2, 1, 2, 3, 1, 3, 1, 3, 1, 2, 2, 2, 1, 3, 0, 1, 2, 1, 1, 1, 1, 2, 1, 3, 1, 1, 3, 1, 3, 1, 2, 4, 1, 1, 1, 0, 1, 2, 1, 3, 2, 1, 3, 1, 2, 3, 2, 2, 0, 1, 2, 3, 1, 0, 3, 1, 1, 1, 2, 1, 0, 1, 0, 0, 2, 0, 3, 0, 1, 1, 3, 1, 0, 1, 1, 1, 1, 1, 2, 2, 2, 4, 1, 2, 1, 4, 3, 1, 1, 1, 2, 1, 1, 1, 0, 1, 2, 1, 2, 1, 2, 1, 1, 3, 2, 0, 1, 1, 3, 0, 1, 2, 1, 1, 1, 2, 4, 0, 1, 1, 1, 2, 4, 3, 2, 1, 0, 2, 4, 2, 2, 4, 2, 3, 2, 1, 2, 3, 2, 1, 0, 1, 0, 1, 3, 0, 1, 1, 2, 1, 1, 1, 1, 1, 2, 1, 3, 1, 3, 1, 1, 3, 1, 1, 1, 3, 0, 3, 2, 0, 3, 0, 3, 1, 1, 3, 2, 1, 4, 1, 1, 0, 0, 1, 1, 3, 2, 1, 2, 1, 1, 1, 2, 3, 1, 2, 1, 2, 1, 3, 3, 1, 1, 4, 1, 3, 4, 1, 1, 0, 0, 4, 1, 1, 2, 1, 2, 4, 3, 1, 0, 3, 1, 3, 0, 1, 4, 2, 4, 1, 1, 3, 3, 2, 4, 0, 1, 1, 1, 1, 1, 2, 1, 1, 3, 0, 3, 3, 0, 1, 1, 0, 2, 1, 3, 4, 1, 1, 0, 0, 3, 2, 1, 2, 1, 2, 4, 2, 1, 0, 1, 3, 0, 1, 3, 1, 1, 2, 3, 1, 3, 1, 1, 2, 3, 1, 2, 2, 1, 1, 1, 1, 3, 1, 1, 3, 1, 1, 1, 3, 3, 1, 2, 1, 1, 1, 0, 1, 2, 4, 3, 1, 3, 1, 1, 1, 1, 1, 2, 2, 1, 3, 3, 4, 1, 3, 1, 1, 3, 2, 3, 3, 3, 1, 3, 1, 1, 1, 3, 3, 4, 2, 4, 4, 1, 1, 4, 0, 2, 2, 2, 4, 1, 1, 4, 1, 2, 1, 1, 1, 4, 3, 2, 1, 2, 1, 2, 1, 1, 2, 1, 2, 2, 1, 2, 1, 0, 3, 1, 3, 1, 2, 0, 0, 0, 1, 2, 2, 1, 2, 1, 2, 4, 1, 1, 0, 1, 1, 2, 1, 4, 1, 2, 2, 2, 1, 2, 1, 2, 4, 2, 0, 3, 1, 0, 2, 0, 1, 3, 2, 1, 0, 2, 2, 1, 1, 2, 4, 0, 3, 1, 1, 4, 1, 4, 3, 0, 0, 1, 1, 0, 3, 3, 1, 2, 2, 1, 2, 2, 1, 2, 2, 1, 1, 2, 1, 1, 0, 4, 2, 1, 2, 2, 1, 2, 3, 2, 0, 1, 3, 1, 0, 3, 0, 2, 1, 1, 1, 2, 1, 3, 1, 1, 1, 1, 1, 2, 0, 2, 3, 2, 2, 1, 3, 2, 1, 3, 1, 1, 2, 0, 1, 0, 3, 1, 2, 1, 4, 2, 2, 2, 0, 1, 1, 1, 3, 1, 1, 2, 2, 3, 1, 0, 4, 2, 3, 1, 4, 1, 2, 1, 0, 2, 2, 1, 1, 1, 1, 2, 1, 2, 4, 4, 1, 3, 0, 2, 0, 3, 1, 2, 4, 3, 0, 1, 1, 1, 2, 1, 3, 4, 4, 3, 1, 2, 1, 3, 4, 1, 1, 2, 3, 2, 1, 1, 4, 1, 1, 4, 2, 1, 0, 3, 2, 1, 1, 1, 1, 1, 1, 2, 1, 2, 1, 1, 0, 1, 2, 1, 2, 0, 0, 3, 1, 2, 1, 3, 1, 4, 1, 2, 1, 1, 1, 1, 3, 0, 3, 3, 1, 2, 1, 1, 1, 1, 1, 1, 1, 1, 0, 3, 1, 1, 4, 2, 3, 1, 3, 3, 1, 1, 2, 0, 2, 1, 3, 1, 1, 3, 0, 1, 2, 0, 2, 0, 2, 3, 3, 1, 2, 3, 1, 4, 1, 4, 3, 1, 3, 2, 0, 2, 3, 4, 1, 2, 3, 1, 0, 1, 2, 4, 1, 3, 1, 2, 1, 1, 3, 2, 3, 1, 1, 2, 3, 1, 4, 1, 1, 1, 1, 3, 4, 3, 1, 3, 1, 3, 0, 0, 2, 4, 1, 2, 2, 2, 2, 0, 1, 2, 1, 3, 3, 1, 3, 2, 1, 1, 0, 2, 2, 1, 1, 1, 4, 4, 0, 1, 0, 3, 4, 1, 3, 4, 2, 1, 0, 4, 1, 2, 1, 2, 3, 2, 1, 2, 0, 1, 4, 1, 3, 4, 3, 0, 1, 3, 2, 2, 3, 2, 3, 0, 1, 3, 0, 2, 2, 0, 4, 2, 0, 1, 4, 2, 1, 4, 4, 3, 1, 1, 2, 1, 3, 3, 4, 3, 0, 3, 3, 1, 1, 1, 1, 0, 2, 1, 1, 3, 3, 3, 1, 1, 1, 1, 1, 1, 0, 2, 4, 2, 2, 3, 2, 3, 0, 1, 1, 3, 1, 2, 1, 1, 1, 3, 3, 1, 3, 0, 1, 3, 2, 1, 0, 1, 1, 2, 2, 4, 0, 2, 3, 1, 1, 1, 1, 1, 1, 1, 3, 1, 2, 3, 0, 1, 1, 4, 2, 2, 4, 3, 2, 3, 2, 2, 3, 1, 1, 2, 1, 1, 1, 2, 3, 4, 2, 1, 1, 3, 1, 1, 2, 2, 1, 1, 1, 1, 1, 1, 3, 3, 2, 2, 3, 2, 2, 1, 2, 1, 3, 2, 3, 3, 1, 1, 1, 2, 1, 0, 0, 1, 4, 1, 1, 4, 2, 1, 2, 3, 2, 3, 1, 3, 2, 2, 2, 1, 1, 0, 1, 1, 0, 2, 3, 0, 0, 1, 1, 3, 1, 0, 2, 3, 1, 3, 1, 1, 1, 2, 2, 2, 1, 3, 1, 3, 1, 0, 1, 1, 0, 2, 1, 0, 2, 3, 2, 1, 1, 2, 3, 2, 2, 0, 2, 4, 1, 4, 3, 2, 2, 3, 0, 4, 3, 1, 1, 1, 1, 3, 1, 1, 3, 3, 3, 1, 1, 2, 3, 2, 4, 4, 0, 1, 1, 1, 1, 1, 2, 1, 1, 1, 2, 1, 1, 1, 1, 0, 1, 2, 3, 2, 1, 0, 1, 1, 2, 1, 1, 3, 1, 4, 3, 1, 0, 0, 1, 1, 0, 1, 3, 1, 1, 3, 2, 3, 3, 2, 1, 1, 0, 2, 3, 1, 3, 4, 2, 3, 1, 2, 1, 2, 3, 4, 1, 1, 2, 1, 1, 1, 0, 1, 3, 3, 1, 3, 2, 2, 4, 0, 3, 4, 2, 1, 1, 1, 4, 2, 1, 2, 1, 3, 4, 1, 1, 3, 0, 3, 1, 1, 1, 0, 1, 3, 1, 2, 1, 1, 1, 1, 1, 0, 1, 2, 1, 2, 3, 0, 1, 1, 1, 4, 3, 3, 4, 1, 0, 4, 0, 3, 3, 1, 2, 0, 4, 4, 3, 1, 4, 2, 1, 1, 1, 3, 1, 1, 0, 0, 1, 2, 0, 2, 3, 1, 2, 3, 0, 3, 3, 2, 1, 1, 1, 0, 4, 1, 2, 2, 1, 1, 4, 1, 2, 0, 1, 1, 2, 4, 1, 1, 1, 1, 1, 2, 1, 2, 3, 3, 1, 1, 1, 1, 1, 3, 3, 1, 0, 1, 1, 1, 3, 3, 1, 1, 2, 1, 1, 1, 0, 0, 1, 4, 3, 3, 2, 0, 2, 1, 1, 1, 0, 2, 2, 1, 1, 3, 3, 2, 3, 1, 1, 3, 3, 2, 0, 0, 3, 1, 3, 4, 2, 1, 1, 0, 1, 1, 3, 4, 2, 0, 2, 1, 1, 4, 4, 1, 0, 2, 3, 1, 3, 1, 3, 3, 3, 0, 1, 2, 3, 1, 3, 1, 1, 1, 3, 1, 1, 1, 2, 1, 3, 1, 2, 0, 1, 3, 1, 2, 1, 0, 3, 1, 3, 2, 2, 1, 1, 3, 3, 3, 3, 1, 2, 1, 4, 2, 4, 1, 1, 1, 2, 2, 3, 1, 1, 2, 4, 1, 0, 1, 2, 4, 3, 1, 2, 0, 2, 2, 2, 4, 0, 3, 1, 3, 2, 3, 2, 1, 1, 2, 1, 3, 3, 4, 1, 1, 0, 1, 1, 1, 0, 3, 2, 2, 0, 1, 2, 1, 3, 2, 2, 1, 1, 1, 1, 2, 2, 1, 1, 1, 1, 3, 2, 1, 2, 3, 2, 2, 1, 1, 4, 0, 2, 2, 2, 2, 2, 1, 1, 0, 3, 1, 3, 3, 2, 1, 0, 2, 1, 2, 1, 3, 3, 1, 4, 2, 2, 3, 2, 0, 0, 0, 4, 3, 1, 2, 1, 4, 1, 3, 1, 1, 1, 3, 1, 2, 1, 3, 0, 2, 3, 1, 1, 2, 3, 1, 3, 3, 1, 2, 2, 1, 3, 3, 3, 1, 4, 1, 1, 2, 3, 3, 2, 0, 3, 4, 1, 4, 0, 2, 4, 2, 1, 2, 2, 2, 1, 3, 3, 3, 1, 1, 1, 2, 1, 3, 1, 3, 0, 3, 1, 1, 0, 2, 3, 4, 3, 3, 0, 2, 1, 1, 1, 4, 1, 1, 2, 1, 3, 3, 1, 3, 3, 2, 0, 1, 3, 1, 1, 1, 4, 4, 1, 3, 2, 1, 2, 3, 4, 3, 3, 1, 1, 0, 3, 0, 2, 2, 3, 3, 0, 1, 2, 4, 1, 2, 3, 1, 1, 2, 3, 3, 1, 1, 3, 2, 1, 1, 4, 1, 3, 0, 2, 1, 1, 1, 0, 2, 1, 2, 3, 4, 4, 3, 3, 1, 2, 1, 1, 3, 3, 2, 1, 2, 3, 1, 1, 1, 1, 1, 3, 0, 1, 3, 3, 1, 1, 1, 1, 1, 2, 3, 1, 2, 1, 2, 0, 3, 1, 3, 4, 4, 1, 1, 2, 1, 1, 2, 1, 2, 3, 3, 1, 1, 2, 3, 2, 1, 2, 1, 1, 3, 0, 4, 1, 2, 2, 2, 1, 1, 2, 0, 4, 0, 3, 3, 3, 3, 1, 3, 2, 2, 2, 1, 1, 3, 1, 3, 3, 3, 3, 2, 3, 1, 2, 2, 0, 1, 1, 1, 3, 1, 3, 1, 2, 1, 2, 0, 3, 1, 2, 3, 1, 4, 3, 2, 1, 0, 1, 1, 1, 1, 1, 1, 3, 1, 1, 1, 0, 1, 1, 2, 1, 3, 2, 4, 1, 1, 1, 3, 4, 3, 1, 3, 2, 0, 1, 1, 4, 1, 1, 2, 1, 2, 3, 1, 0, 1, 0, 2, 3, 2, 0, 1, 4, 2, 1, 1, 2, 2, 3, 1, 1, 2, 3, 2, 1, 1, 1, 1, 1, 1, 2, 1, 2, 0, 3, 1, 3, 1, 1, 0, 2, 1, 2, 1, 3, 2, 3, 2, 4, 1, 2, 0, 1, 3, 1, 2, 1, 1, 3, 1, 3, 1, 1, 2, 1, 3, 1, 3, 4, 1, 1, 1, 2, 2, 1, 0, 0, 2, 1, 2, 1, 1, 3, 2, 0, 1, 1, 1, 3, 1, 1, 1, 1, 1, 2, 1, 0, 2, 4, 2, 1, 3, 1, 1, 0, 4, 2, 0, 1, 3, 2, 3, 3, 1, 1, 3, 2, 2, 0, 3, 0, 3, 2, 1, 1, 3, 0, 3, 0, 1, 4, 1, 1, 1, 1, 4, 4, 4, 1, 4, 3, 3, 1, 2, 1, 1, 1, 1, 3, 3, 3, 3, 0, 1, 2, 1, 2, 1, 1, 3, 4, 2, 2, 2, 1, 1, 0, 2, 2, 2, 1, 3, 2, 1, 1, 1, 3, 4, 2, 3, 1, 3, 1, 1, 2, 1, 2, 1, 2, 2, 1, 1, 3, 3, 2, 2, 1, 1, 1, 3, 2, 1, 2, 1, 1, 0, 3, 4, 2, 2, 2, 2, 0, 1, 4, 1, 3, 1, 4, 1, 1, 1, 1, 2, 1, 3, 0, 1, 3, 0, 1, 2, 1, 3, 1, 2, 0, 4, 0, 3, 2, 1, 1, 1, 2, 1, 4, 3, 2, 2, 4, 2, 2, 0, 3, 1, 3, 1, 2, 0, 1, 1, 3, 3, 4, 3, 1, 3, 1, 3, 2, 3, 3, 0, 3, 1, 3, 1], \"coloraxis\": \"coloraxis\", \"opacity\": 0.2, \"symbol\": \"circle\"}, \"mode\": \"markers\", \"name\": \"\", \"showlegend\": false, \"type\": \"scattergl\", \"x\": [0.0, 1.01, 0.78, 2.16, 1.19, 3.46, 1.01, 1.37, 1.37, 1.58, 2.63, 1.82, 1.01, 1.82, 1.19, 1.82, 1.37, 1.19, 1.01, 1.19, 1.37, 1.01, 1.58, 1.58, 0.0, 1.82, 1.37, 2.63, 1.82, 1.01, 1.37, 2.16, 0.78, 2.16, 1.01, 1.58, 1.37, 2.16, 1.58, 1.37, 1.58, 1.58, 1.37, 1.19, 0.78, 0.78, 0.0, 1.82, 0.78, 1.37, 2.16, 1.58, 0.78, 1.58, 1.19, 2.16, 1.82, 0.0, 1.01, 1.19, 0.78, 1.82, 2.63, 1.01, 3.46, 0.78, 2.16, 1.58, 1.01, 0.78, 1.37, 2.16, 1.19, 1.19, 1.82, 1.19, 3.46, 2.16, 1.58, 1.37, 2.63, 1.01, 3.46, 0.0, 1.19, 1.01, 1.01, 2.16, 3.46, 1.37, 2.63, 0.0, 1.01, 0.0, 1.82, 0.78, 1.01, 3.46, 1.82, 1.82, 1.01, 0.78, 2.16, 1.37, 1.01, 1.19, 1.58, 0.0, 0.78, 0.78, 2.63, 1.82, 3.46, 1.01, 2.63, 1.82, 0.78, 1.37, 3.46, 1.19, 0.78, 0.0, 1.37, 1.37, 0.0, 1.19, 1.37, 3.46, 1.58, 1.37, 3.46, 1.82, 0.78, 0.0, 1.82, 0.0, 2.16, 1.01, 1.01, 1.01, 2.63, 0.78, 1.01, 0.78, 0.78, 1.19, 1.82, 0.78, 1.82, 1.37, 1.19, 1.01, 1.01, 1.82, 1.19, 1.82, 2.16, 0.78, 1.58, 2.63, 1.01, 1.58, 0.78, 1.01, 0.78, 0.78, 1.58, 3.46, 0.78, 1.58, 3.46, 1.19, 2.16, 1.19, 0.0, 1.82, 0.78, 1.58, 1.37, 1.19, 2.63, 2.63, 3.46, 2.63, 1.82, 1.37, 1.58, 1.19, 3.46, 1.37, 3.46, 0.78, 1.37, 2.16, 3.46, 2.63, 0.0, 0.78, 0.78, 1.01, 0.78, 1.82, 3.46, 0.78, 2.16, 0.0, 0.78, 0.0, 1.19, 1.58, 1.82, 1.19, 1.19, 3.46, 1.19, 2.63, 2.63, 1.19, 1.82, 0.0, 0.0, 1.01, 2.16, 1.58, 1.37, 1.37, 1.82, 1.82, 2.16, 1.82, 0.0, 1.37, 0.0, 2.63, 1.37, 3.46, 3.46, 0.78, 2.16, 1.82, 0.0, 1.82, 1.37, 1.82, 0.0, 1.82, 1.01, 2.16, 1.58, 1.82, 1.19, 1.37, 1.82, 1.19, 1.58, 2.63, 1.58, 1.82, 1.01, 1.19, 0.78, 1.58, 0.78, 1.82, 0.0, 1.19, 1.37, 1.37, 0.0, 1.01, 2.63, 1.37, 1.82, 1.01, 3.46, 1.01, 1.58, 1.82, 2.63, 3.46, 1.19, 1.37, 2.16, 1.37, 1.58, 0.78, 2.16, 1.58, 1.19, 2.16, 1.58, 1.37, 0.78, 0.78, 2.16, 3.46, 1.82, 1.01, 1.82, 1.58, 1.19, 1.01, 1.58, 1.19, 0.0, 2.63, 2.63, 2.16, 1.37, 0.0, 0.0, 3.46, 0.0, 0.0, 1.19, 1.01, 0.0, 1.82, 2.16, 3.46, 1.01, 1.37, 2.16, 0.0, 1.58, 3.46, 1.01, 1.19, 1.01, 1.37, 2.16, 0.0, 0.78, 3.46, 1.19, 1.19, 3.46, 1.01, 2.16, 0.78, 0.0, 0.0, 1.58, 2.16, 0.78, 1.82, 0.78, 3.46, 1.01, 0.0, 1.82, 1.19, 0.78, 1.37, 2.63, 1.82, 1.37, 1.01, 1.37, 2.63, 1.01, 1.19, 1.82, 1.58, 1.01, 1.58, 2.63, 2.16, 0.0, 1.37, 0.78, 0.78, 0.0, 1.19, 1.01, 2.16, 1.01, 1.01, 0.0, 1.82, 2.16, 1.19, 1.19, 1.58, 2.16, 1.82, 1.19, 2.63, 1.58, 3.46, 1.37, 3.46, 1.19, 1.58, 2.63, 0.78, 2.16, 0.0, 0.78, 1.37, 0.78, 1.82, 2.16, 1.37, 0.0, 0.78, 1.19, 1.82, 1.37, 2.16, 1.82, 1.58, 1.82, 1.19, 1.58, 1.82, 1.01, 0.78, 1.58, 2.16, 1.58, 2.63, 1.37, 1.37, 0.78, 0.0, 3.46, 2.16, 0.78, 1.37, 3.46, 2.63, 0.78, 0.0, 2.16, 0.0, 1.82, 0.0, 1.58, 0.0, 0.0, 2.16, 1.82, 0.78, 0.0, 1.19, 1.01, 1.82, 1.82, 1.82, 2.16, 0.0, 2.16, 1.37, 2.63, 1.19, 1.82, 0.0, 1.01, 2.63, 2.16, 1.01, 2.16, 0.78, 1.58, 1.01, 0.78, 0.0, 1.82, 2.63, 1.01, 0.0, 1.58, 2.16, 1.19, 1.82, 0.0, 1.19, 1.82, 1.37, 2.63, 3.46, 1.37, 1.82, 0.78, 0.78, 1.37, 1.01, 2.16, 1.19, 1.58, 1.19, 1.19, 1.01, 2.16, 1.01, 0.78, 1.01, 1.37, 1.19, 1.19, 2.16, 1.58, 1.01, 0.78, 1.19, 0.78, 1.37, 0.0, 2.16, 0.0, 1.82, 1.01, 1.58, 1.37, 1.01, 2.16, 1.82, 1.01, 1.58, 0.0, 3.46, 2.16, 1.37, 1.82, 1.01, 1.82, 2.63, 1.01, 2.63, 1.19, 2.63, 1.01, 1.82, 1.58, 1.58, 0.78, 2.16, 0.0, 1.37, 1.82, 0.78, 1.01, 1.19, 1.01, 1.82, 0.78, 2.16, 1.19, 1.19, 2.16, 1.37, 2.16, 1.37, 1.58, 3.46, 1.01, 1.19, 1.19, 0.0, 1.01, 1.58, 0.78, 2.63, 1.82, 1.19, 2.16, 1.19, 1.82, 2.16, 1.58, 1.82, 0.0, 1.37, 1.82, 2.16, 0.78, 0.0, 2.63, 0.78, 1.37, 0.78, 1.82, 1.37, 0.0, 1.37, 0.0, 0.0, 1.58, 0.0, 2.16, 0.0, 1.37, 1.19, 2.63, 1.01, 0.0, 0.78, 1.19, 1.01, 1.37, 1.01, 1.82, 1.82, 1.82, 3.46, 1.19, 1.82, 1.37, 3.46, 2.16, 1.01, 1.19, 0.78, 1.82, 0.78, 0.78, 1.19, 0.0, 1.19, 1.82, 0.78, 1.58, 0.78, 1.82, 1.01, 1.01, 2.63, 1.82, 0.0, 1.37, 0.78, 2.16, 0.0, 0.78, 1.82, 1.37, 1.19, 1.37, 1.82, 3.46, 0.0, 0.78, 1.37, 1.01, 1.82, 3.46, 2.16, 1.82, 1.01, 0.0, 1.82, 3.46, 1.82, 1.58, 3.46, 1.58, 2.16, 1.58, 1.19, 1.58, 2.16, 1.82, 1.37, 0.0, 1.19, 0.0, 0.78, 2.16, 0.0, 1.19, 1.01, 1.82, 0.78, 1.19, 1.01, 1.19, 1.37, 1.58, 1.19, 2.16, 1.01, 2.16, 1.37, 1.19, 2.63, 1.01, 1.01, 1.37, 2.63, 0.0, 2.63, 1.82, 0.0, 2.63, 0.0, 2.63, 1.01, 1.01, 2.63, 1.58, 1.19, 3.46, 1.01, 1.01, 0.0, 0.0, 1.37, 1.01, 2.16, 1.58, 1.37, 1.58, 0.78, 1.01, 1.19, 1.82, 2.63, 1.19, 1.82, 0.78, 1.82, 1.19, 2.16, 2.16, 1.19, 1.37, 3.46, 1.37, 2.63, 3.46, 1.19, 1.01, 0.0, 0.0, 3.46, 1.19, 1.37, 1.82, 1.37, 1.58, 3.46, 2.63, 1.01, 0.0, 2.16, 0.78, 2.16, 0.0, 1.19, 3.46, 1.82, 3.46, 1.01, 1.19, 2.63, 2.63, 1.82, 3.46, 0.0, 1.19, 1.01, 1.01, 1.19, 0.78, 1.82, 0.78, 1.37, 2.16, 0.0, 2.16, 2.63, 0.0, 0.78, 1.01, 0.0, 1.58, 1.37, 2.63, 3.46, 1.37, 1.01, 0.0, 0.0, 2.16, 1.58, 0.78, 1.58, 1.37, 1.58, 3.46, 1.82, 1.01, 0.0, 0.78, 2.63, 0.0, 1.01, 2.16, 0.78, 1.37, 1.58, 2.63, 0.78, 2.63, 1.01, 1.19, 1.58, 2.63, 1.01, 1.82, 1.82, 1.37, 1.19, 1.01, 1.19, 2.63, 1.37, 1.01, 2.63, 1.37, 1.01, 1.19, 2.16, 2.63, 1.19, 1.82, 1.37, 1.01, 1.19, 0.0, 1.19, 1.82, 3.46, 2.63, 0.78, 2.16, 1.19, 1.01, 1.01, 1.01, 1.19, 1.58, 1.58, 1.37, 2.16, 2.63, 3.46, 1.37, 2.63, 1.37, 1.37, 2.63, 1.82, 2.16, 2.16, 2.16, 1.37, 2.63, 0.78, 1.37, 1.37, 2.63, 2.63, 3.46, 1.58, 3.46, 3.46, 1.01, 1.37, 3.46, 0.0, 1.82, 1.58, 1.82, 3.46, 1.01, 1.01, 3.46, 1.19, 1.82, 0.78, 0.78, 1.37, 3.46, 2.63, 1.82, 1.01, 1.82, 0.78, 1.82, 1.37, 1.19, 1.82, 0.78, 1.82, 1.58, 0.78, 1.58, 1.01, 0.0, 2.63, 1.19, 2.63, 0.78, 1.58, 0.0, 0.0, 0.0, 1.19, 1.82, 1.58, 1.37, 1.58, 1.19, 1.58, 3.46, 1.19, 1.37, 0.0, 1.19, 1.01, 1.58, 1.37, 3.46, 1.19, 1.82, 1.58, 1.82, 1.19, 1.58, 1.19, 1.82, 3.46, 1.58, 0.0, 2.16, 1.37, 0.0, 1.58, 0.0, 0.78, 2.16, 1.58, 1.01, 0.0, 1.82, 1.82, 1.01, 1.01, 1.58, 3.46, 0.0, 2.16, 1.19, 1.19, 3.46, 1.37, 3.46, 2.63, 0.0, 0.0, 1.37, 1.01, 0.0, 2.63, 2.16, 0.78, 1.82, 1.58, 1.37, 1.82, 1.58, 0.78, 1.82, 1.82, 1.19, 1.01, 1.82, 0.78, 0.78, 0.0, 3.46, 1.58, 1.01, 1.58, 1.58, 1.19, 1.82, 2.16, 1.82, 0.0, 1.37, 2.63, 1.01, 0.0, 2.16, 0.0, 1.58, 1.01, 0.78, 1.19, 1.82, 0.78, 2.63, 0.78, 1.37, 1.19, 1.37, 1.37, 1.82, 0.0, 1.82, 2.63, 1.58, 1.58, 1.19, 2.63, 1.58, 1.37, 2.16, 1.19, 0.78, 1.58, 0.0, 1.37, 0.0, 2.63, 1.37, 1.82, 1.01, 3.46, 1.82, 1.58, 1.82, 0.0, 1.19, 1.01, 1.19, 2.16, 1.37, 1.01, 1.58, 1.58, 2.63, 1.37, 0.0, 3.46, 1.58, 2.63, 1.19, 3.46, 1.37, 1.58, 1.37, 0.0, 1.58, 1.82, 1.01, 1.19, 1.19, 0.78, 1.58, 1.19, 1.82, 3.46, 3.46, 1.37, 2.63, 0.0, 1.82, 0.0, 2.16, 1.37, 1.58, 3.46, 2.63, 0.0, 1.01, 1.01, 1.01, 1.82, 1.37, 2.63, 3.46, 3.46, 2.16, 0.78, 1.82, 0.78, 2.16, 3.46, 1.19, 0.78, 1.82, 2.63, 1.58, 1.19, 1.37, 3.46, 1.19, 1.19, 3.46, 1.82, 0.78, 0.0, 2.63, 1.82, 1.19, 1.37, 0.78, 1.01, 0.78, 1.01, 1.82, 1.37, 1.82, 0.78, 1.37, 0.0, 0.78, 1.82, 1.01, 1.58, 0.0, 0.0, 2.63, 1.19, 1.58, 1.01, 2.16, 1.37, 3.46, 1.19, 1.58, 0.78, 1.01, 0.78, 1.19, 2.16, 0.0, 2.16, 2.63, 0.78, 1.82, 1.01, 1.19, 1.19, 0.78, 0.78, 1.37, 1.37, 1.37, 0.0, 2.16, 1.19, 1.19, 3.46, 1.82, 2.63, 1.01, 2.16, 2.63, 0.78, 1.19, 1.82, 0.0, 1.58, 0.78, 2.63, 1.01, 1.01, 2.63, 0.0, 1.19, 1.58, 0.0, 1.58, 0.0, 1.58, 2.16, 2.16, 0.78, 1.82, 2.16, 0.78, 3.46, 1.19, 3.46, 2.16, 0.78, 2.16, 1.58, 0.0, 1.58, 2.63, 3.46, 1.01, 1.82, 2.16, 0.78, 0.0, 1.37, 1.82, 3.46, 0.78, 2.16, 1.37, 1.58, 1.37, 0.78, 2.16, 1.58, 2.63, 1.37, 1.37, 1.82, 2.16, 1.01, 3.46, 1.37, 1.01, 1.37, 1.37, 2.63, 3.46, 2.63, 1.19, 2.16, 1.37, 2.16, 0.0, 0.0, 1.82, 3.46, 0.78, 1.82, 1.82, 1.82, 1.58, 0.0, 0.78, 1.58, 1.37, 2.63, 2.16, 1.19, 2.63, 1.58, 0.78, 1.01, 0.0, 1.82, 1.82, 1.01, 0.78, 1.37, 3.46, 3.46, 0.0, 0.78, 0.0, 2.63, 3.46, 1.19, 2.63, 3.46, 1.82, 1.37, 0.0, 3.46, 1.37, 1.58, 1.19, 1.82, 2.63, 1.58, 1.19, 1.58, 0.0, 0.78, 3.46, 0.78, 2.16, 3.46, 2.16, 0.0, 1.37, 2.16, 1.58, 1.82, 2.63, 1.58, 2.16, 0.0, 1.37, 2.16, 0.0, 1.82, 1.58, 0.0, 3.46, 1.58, 0.0, 1.19, 3.46, 1.82, 1.37, 3.46, 3.46, 2.16, 1.37, 1.01, 1.58, 1.01, 2.16, 2.63, 3.46, 2.16, 0.0, 2.16, 2.63, 0.78, 1.37, 1.37, 1.19, 0.0, 1.82, 0.78, 0.78, 2.63, 2.63, 2.63, 1.19, 0.78, 1.37, 1.01, 1.01, 1.19, 0.0, 1.82, 3.46, 1.82, 1.82, 2.63, 1.82, 2.63, 0.0, 1.19, 1.01, 2.63, 1.19, 1.58, 1.37, 0.78, 1.01, 2.63, 2.16, 1.37, 2.63, 0.0, 1.37, 2.16, 1.58, 1.19, 0.0, 1.37, 1.19, 1.82, 1.82, 3.46, 0.0, 1.58, 2.16, 1.19, 1.01, 1.19, 1.37, 1.01, 1.01, 1.37, 2.16, 0.78, 1.58, 2.16, 0.0, 1.19, 1.19, 3.46, 1.58, 1.82, 3.46, 2.63, 1.82, 2.16, 1.58, 1.58, 2.63, 0.78, 1.19, 1.82, 1.01, 1.37, 1.01, 1.58, 2.16, 3.46, 1.82, 1.01, 1.19, 2.16, 1.19, 0.78, 1.82, 1.58, 1.01, 1.19, 1.01, 1.37, 1.37, 1.37, 2.16, 2.16, 1.58, 1.82, 2.63, 1.58, 1.58, 0.78, 1.58, 1.37, 2.16, 1.58, 2.63, 2.16, 1.19, 1.19, 0.78, 1.82, 1.01, 0.0, 0.0, 0.78, 3.46, 1.37, 1.37, 3.46, 1.82, 1.01, 1.58, 2.16, 1.82, 2.16, 0.78, 2.16, 1.58, 1.58, 1.58, 1.01, 1.37, 0.0, 1.37, 1.37, 0.0, 1.58, 2.63, 0.0, 0.0, 0.78, 1.01, 2.63, 1.19, 0.0, 1.58, 2.16, 0.78, 2.63, 0.78, 1.19, 1.37, 1.82, 1.82, 1.82, 1.01, 2.16, 1.37, 2.16, 1.37, 0.0, 1.37, 0.78, 0.0, 1.82, 1.19, 0.0, 1.58, 2.63, 1.58, 1.19, 1.01, 1.82, 2.16, 1.58, 1.82, 0.0, 1.82, 3.46, 1.19, 3.46, 2.63, 1.82, 1.58, 2.16, 0.0, 3.46, 2.16, 1.19, 1.37, 1.19, 1.01, 2.16, 1.01, 0.78, 2.63, 2.16, 2.16, 0.78, 1.37, 1.58, 2.16, 1.82, 3.46, 3.46, 0.0, 1.19, 0.78, 1.19, 1.01, 1.37, 1.82, 0.78, 1.01, 0.78, 1.82, 1.37, 0.78, 0.78, 1.37, 0.0, 1.19, 1.58, 2.63, 1.82, 1.01, 0.0, 0.78, 1.19, 1.82, 1.01, 0.78, 2.16, 1.01, 3.46, 2.16, 1.19, 0.0, 0.0, 0.78, 0.78, 0.0, 0.78, 2.63, 0.78, 1.19, 2.16, 1.82, 2.63, 2.63, 1.82, 1.01, 1.01, 0.0, 1.82, 2.63, 0.78, 2.16, 3.46, 1.82, 2.16, 1.37, 1.82, 1.19, 1.58, 2.16, 3.46, 1.37, 0.78, 1.58, 1.01, 0.78, 1.01, 0.0, 1.19, 2.16, 2.63, 1.01, 2.63, 1.82, 1.82, 3.46, 0.0, 2.16, 3.46, 1.58, 0.78, 0.78, 0.78, 3.46, 1.58, 1.19, 1.58, 1.19, 2.16, 3.46, 1.19, 1.37, 2.16, 0.0, 2.16, 0.78, 0.78, 0.78, 0.0, 1.37, 2.63, 0.78, 1.58, 0.78, 1.37, 1.19, 1.19, 1.19, 0.0, 1.37, 1.82, 1.37, 1.82, 2.16, 0.0, 1.37, 1.37, 1.37, 3.46, 2.16, 2.16, 3.46, 1.37, 0.0, 3.46, 0.0, 2.63, 2.63, 1.19, 1.82, 0.0, 3.46, 3.46, 2.16, 0.78, 3.46, 1.58, 1.01, 0.78, 1.19, 2.63, 1.01, 0.78, 0.0, 0.0, 0.78, 1.82, 0.0, 1.58, 2.63, 1.01, 1.58, 2.63, 0.0, 2.16, 2.16, 1.58, 1.19, 1.19, 1.19, 0.0, 3.46, 1.01, 1.58, 1.82, 1.19, 1.37, 3.46, 1.01, 1.58, 0.0, 1.37, 1.37, 1.82, 3.46, 1.37, 1.37, 1.37, 1.37, 1.01, 1.82, 1.01, 1.58, 2.16, 2.16, 0.78, 0.78, 0.78, 1.01, 1.01, 2.63, 2.63, 1.01, 0.0, 1.01, 1.01, 1.19, 2.63, 2.16, 1.01, 0.78, 1.58, 0.78, 1.01, 1.19, 0.0, 0.0, 0.78, 3.46, 2.16, 2.63, 1.82, 0.0, 1.58, 1.19, 1.19, 0.78, 0.0, 1.58, 1.58, 1.37, 1.19, 2.63, 2.63, 1.82, 2.16, 1.01, 1.01, 2.16, 2.16, 1.82, 0.0, 0.0, 2.63, 0.78, 2.16, 3.46, 1.82, 0.78, 1.37, 0.0, 0.78, 1.01, 2.63, 3.46, 1.58, 0.0, 1.58, 1.19, 1.37, 3.46, 3.46, 1.37, 0.0, 1.82, 2.16, 0.78, 2.63, 1.19, 2.63, 2.16, 2.63, 0.0, 0.78, 1.58, 2.63, 1.37, 2.63, 1.37, 1.37, 1.37, 2.16, 1.37, 1.37, 1.01, 1.58, 0.78, 2.16, 1.01, 1.82, 0.0, 0.78, 2.16, 0.78, 1.82, 1.19, 0.0, 2.63, 0.78, 2.16, 1.58, 1.82, 1.01, 0.78, 2.16, 2.16, 2.63, 2.63, 1.19, 1.58, 1.19, 3.46, 1.82, 3.46, 1.19, 0.78, 0.78, 1.82, 1.58, 2.16, 1.01, 1.19, 1.82, 3.46, 1.01, 0.0, 1.19, 1.82, 3.46, 2.16, 1.01, 1.82, 0.0, 1.58, 1.58, 1.82, 3.46, 0.0, 2.63, 1.37, 2.16, 1.58, 2.16, 1.58, 0.78, 1.37, 1.58, 0.78, 2.63, 2.63, 3.46, 1.37, 1.37, 0.0, 1.37, 1.01, 1.19, 0.0, 2.16, 1.82, 1.82, 0.0, 1.19, 1.82, 1.01, 2.63, 1.82, 1.82, 1.19, 1.37, 1.19, 1.01, 1.82, 1.58, 1.37, 1.01, 0.78, 0.78, 2.63, 1.58, 0.78, 1.82, 2.63, 1.82, 1.58, 1.01, 1.01, 3.46, 0.0, 1.58, 1.58, 1.82, 1.82, 1.82, 1.19, 1.19, 0.0, 2.63, 1.37, 2.16, 2.63, 1.82, 0.78, 0.0, 1.82, 0.78, 1.82, 0.78, 2.16, 2.63, 1.01, 3.46, 1.82, 1.58, 2.63, 1.82, 0.0, 0.0, 0.0, 3.46, 2.16, 1.01, 1.58, 1.37, 3.46, 1.01, 2.16, 1.19, 0.78, 1.37, 2.63, 1.19, 1.58, 1.19, 2.63, 0.0, 1.82, 2.63, 0.78, 0.78, 1.58, 2.63, 1.01, 2.63, 2.16, 0.78, 1.58, 1.58, 1.01, 2.16, 2.16, 2.16, 1.37, 3.46, 1.37, 1.19, 1.58, 2.16, 2.16, 1.82, 0.0, 2.16, 3.46, 1.37, 3.46, 0.0, 1.58, 3.46, 1.82, 1.19, 1.82, 1.58, 1.58, 1.01, 2.63, 2.16, 2.16, 1.37, 1.19, 1.19, 1.58, 1.19, 2.16, 1.01, 2.63, 0.0, 2.63, 1.37, 0.78, 0.0, 1.58, 2.16, 3.46, 2.63, 2.63, 0.0, 1.58, 1.01, 1.19, 1.19, 3.46, 0.78, 1.01, 1.82, 1.19, 2.16, 2.63, 1.37, 2.16, 2.16, 1.58, 0.0, 1.01, 2.16, 1.19, 1.37, 0.78, 3.46, 3.46, 1.19, 2.63, 1.82, 0.78, 1.82, 2.63, 3.46, 2.16, 2.63, 1.37, 0.78, 0.0, 2.63, 0.0, 1.82, 1.82, 2.63, 2.63, 0.0, 1.01, 1.58, 3.46, 0.78, 1.82, 2.16, 0.78, 0.78, 1.58, 2.16, 2.63, 1.01, 1.37, 2.63, 1.82, 1.19, 0.78, 3.46, 1.19, 2.16, 0.0, 1.82, 1.01, 1.01, 1.19, 0.0, 1.58, 1.19, 1.82, 2.63, 3.46, 3.46, 2.63, 2.63, 1.37, 1.58, 1.01, 1.19, 2.16, 2.63, 1.82, 1.37, 1.82, 2.16, 1.01, 1.37, 1.01, 1.19, 0.78, 2.63, 0.0, 0.78, 2.16, 2.16, 0.78, 1.19, 1.01, 1.19, 1.19, 1.82, 2.63, 1.01, 1.58, 1.01, 1.82, 0.0, 2.63, 1.19, 2.63, 3.46, 3.46, 1.01, 1.19, 1.58, 1.19, 1.37, 1.58, 0.78, 1.82, 2.63, 2.63, 0.78, 1.37, 1.58, 2.63, 1.58, 0.78, 1.82, 1.19, 1.01, 2.16, 0.0, 3.46, 0.78, 1.82, 1.58, 1.82, 1.37, 1.01, 1.58, 0.0, 3.46, 0.0, 2.16, 2.63, 2.16, 2.63, 1.01, 2.63, 1.82, 1.58, 1.82, 0.78, 1.37, 2.63, 1.19, 2.63, 2.63, 2.16, 2.16, 1.82, 2.16, 0.78, 1.58, 1.58, 0.0, 1.01, 0.78, 1.19, 2.63, 1.37, 2.63, 1.37, 1.82, 0.78, 1.82, 0.0, 2.16, 1.37, 1.82, 2.63, 0.78, 3.46, 2.63, 1.58, 1.37, 0.0, 0.78, 0.78, 1.19, 1.19, 0.78, 0.78, 2.16, 0.78, 1.37, 0.78, 0.0, 1.01, 1.37, 1.58, 0.78, 2.16, 1.82, 3.46, 0.78, 1.01, 1.19, 2.16, 3.46, 2.63, 0.78, 2.63, 1.58, 0.0, 1.01, 0.78, 3.46, 1.01, 1.01, 1.82, 1.01, 1.58, 2.16, 1.37, 0.0, 1.01, 0.0, 1.58, 2.63, 1.58, 0.0, 1.01, 3.46, 1.82, 0.78, 0.78, 1.58, 1.82, 2.63, 1.01, 1.37, 1.58, 2.63, 1.58, 1.19, 1.19, 0.78, 1.01, 0.78, 0.78, 1.82, 1.01, 1.82, 0.0, 2.63, 0.78, 2.63, 1.19, 0.78, 0.0, 1.58, 1.01, 1.82, 1.19, 2.16, 1.82, 2.16, 1.58, 3.46, 1.37, 1.82, 0.0, 1.37, 2.63, 0.78, 1.58, 1.37, 0.78, 2.16, 1.19, 2.63, 1.19, 1.01, 1.58, 1.01, 2.16, 1.01, 2.63, 3.46, 1.37, 1.37, 1.01, 1.82, 1.58, 1.19, 0.0, 0.0, 1.58, 1.37, 1.82, 1.01, 1.37, 2.16, 1.58, 0.0, 0.78, 1.37, 0.78, 2.63, 1.37, 1.37, 1.01, 1.19, 0.78, 1.58, 1.37, 0.0, 1.58, 3.46, 1.58, 1.19, 2.16, 1.37, 0.78, 0.0, 3.46, 1.82, 0.0, 1.19, 2.63, 1.82, 2.63, 2.16, 0.78, 1.01, 2.63, 1.82, 1.58, 0.0, 2.63, 0.0, 2.63, 1.58, 1.37, 1.19, 2.16, 0.0, 2.63, 0.0, 1.01, 3.46, 1.01, 0.78, 1.01, 1.01, 3.46, 3.46, 3.46, 0.78, 3.46, 2.16, 2.16, 1.37, 1.58, 1.01, 1.01, 1.01, 1.19, 2.63, 2.63, 2.16, 2.16, 0.0, 1.19, 1.58, 1.01, 1.58, 1.19, 0.78, 2.63, 3.46, 1.58, 1.82, 1.58, 1.01, 1.37, 0.0, 1.58, 1.58, 1.58, 1.37, 2.63, 1.58, 1.01, 1.01, 0.78, 2.63, 3.46, 1.82, 2.16, 1.01, 2.63, 1.01, 1.37, 1.58, 1.01, 1.82, 1.19, 1.58, 1.58, 0.78, 1.01, 2.16, 2.16, 1.58, 1.82, 1.01, 0.78, 1.37, 2.63, 1.58, 0.78, 1.58, 0.78, 0.78, 0.0, 2.63, 3.46, 1.58, 1.82, 1.58, 1.58, 0.0, 1.01, 3.46, 0.78, 2.63, 1.19, 3.46, 1.01, 1.37, 0.78, 0.78, 1.58, 1.19, 2.16, 0.0, 1.19, 2.63, 0.0, 0.78, 1.58, 0.78, 2.16, 1.01, 1.58, 0.0, 3.46, 0.0, 2.63, 1.58, 1.19, 1.37, 1.37, 1.82, 0.78, 3.46, 2.16, 1.58, 1.82, 3.46, 1.82, 1.58, 0.0, 2.16, 1.37, 2.16, 1.37, 1.82, 0.0, 0.78, 1.01, 2.16, 2.63, 3.46, 2.63, 1.19, 2.63, 1.37, 2.16, 1.58, 2.16, 2.63, 0.0, 2.16, 1.19, 2.16, 0.78], \"xaxis\": \"x\", \"y\": [4.422314484, 3.83946911, 3.352569387, 7.142857143, 7.026291931, 7.150268842999999, 5.938831652, 8.417289568, 6.277008485, 5.450292397999999, 7.082915501, 7.56893641, 5.783229981, 6.78722729, 5.043802301, 7.880133185, 6.035328754, 10.00349773, 6.8916458, 6.299734748, 6.123606124, 8.436469378, 3.5888347360000004, 6.271926405, 9.082956699, 6.94131531, 6.270733012000001, 5.986277822000001, 10.35670502, 4.069610915, 8.514851485, 8.391018065, 6.2406390410000006, 6.053400811, 6.431129925, 6.6049232270000005, 5.184794087, 8.372138621, 7.075188872000001, 5.989962765, 7.764044112, 6.1258379970000005, 8.822269807, 5.49236146, 4.832585433, 2.06185567, 7.9744816589999985, 8.293436876, 6.33172746, 10.39536946, 10.13261627, 8.935035245, 7.407407407000001, 9.301207394, 6.497393319, 11.08045001, 5.300092685, 10.29821074, 4.803316817, 5.616098403, 6.21596181, 6.732266301, 10.52141527, 7.545494896, 8.580255582000001, 3.250313687, 7.229695705, 7.126895451, 7.216468084, 4.807196714, 6.53830726, 10.13733285, 7.182014008, 7.882211412999999, 4.688959462, 7.897862233, 7.824694817, 7.7051515, 4.585236876000001, 6.431465226, 9.611845407, 9.588256941000001, 14.95090276, 2.730375427, 6.032145932000001, 8.259911894, 5.21242236, 9.785775493, 6.813417191, 5.475285171, 8.961593172, 6.073113208, 6.83006335, 5.060644082, 12.48155798, 4.888081117, 6.057743402000001, 10.02118299, 5.9335601360000005, 6.120307208, 7.435897436, 4.792759436, 5.606051363, 7.630771621, 4.984870202, 9.295499022000001, 3.851640514, 1.726726727, 5.27018012, 10.39513678, 6.498143388, 5.074373941, 12.804069, 7.704092799, 13.15707621, 6.8500687760000005, 8.395949036000001, 5.6597922160000005, 9.199375558, 5.954002634, 2.855245684, 6.01025641, 8.722032613, 6.206896552000001, 3.825136612, 4.133295195, 6.6472026070000005, 5.866032501, 6.376360809, 7.506505637999999, 12.69927783, 6.0569105689999985, 5.11875465, 7.545334538, 5.844907407000001, 7.290252512, 8.04255985, 8.803931367999999, 5.405838092000001, 4.073061595, 6.549885757999999, 9.016838675, 5.953236794, 4.8548812660000005, 9.48945616, 2.48726401, 8.205144988999999, 10.61018267, 7.358490566, 11.48238153, 6.553963339, 7.3024276860000015, 4.8601864180000005, 8.23711418, 7.31057191, 5.703422053, 9.354243151, 5.129160457, 11.46694215, 9.108265054, 11.49295775, 6.9101052360000015, 6.041666667, 5.989286197999999, 5.445720675, 8.476696902999999, 3.695086903, 9.646146389, 4.373232799, 10.07410515, 8.989598811, 7.592896672999999, 7.618072597999999, 7.855420714, 6.65524136, 7.697368421, 10.05946178, 8.017277708, 7.317073171, 9.498021246, 8.093561034, 11.2780386, 10.13712047, 9.834254143999999, 7.925028627, 4.630669546, 8.032558638, 5.319148936, 7.524271845, 5.879083555, 8.875413451, 6.787184766, 6.112590574, 9.48910829, 8.679479231, 7.366020525, 3.444769659, 7.037246971, 10.05015432, 9.626556017, 0.217627856, 8.644836272000001, 6.979985224, 4.449840861, 7.406593407000001, 11.2522686, 6.577617329, 3.952070633, 1.09739369, 3.577680263, 6.876553437999999, 3.389830508, 4.541302362, 18.05107132, 7.1020082460000005, 5.035246727, 6.891871513, 10.77785102, 7.404057372, 9.644670051, 8.508977361, 4.069767442, 8.16060642, 6.57881376, 4.84701815, 6.812019883, 6.475862581, 9.090909091, 9.181141439, 5.319344832, 2.631578947, 8.808290155, 3.137570394, 9.083342004, 9.671445229, 10.91441899, 6.327596541, 6.023922755, 4.003009782, 7.094490612, 5.976095618, 9.070034442999999, 10.18808777, 7.644804089, 6.023472558, 4.590035855, 6.259706128, 3.491981376, 7.961007311, 14.21647819, 5.739795918, 6.471992477000001, 4.885460834, 10.52893149, 4.234972678, 8.448753463, 8.60712633, 6.356555604, 4.785353535, 5.311740408, 6.690398911, 7.804354492000001, 3.401468545, 9.296387365, 4.194319481, 9.54825462, 7.065827904, 8.20067535, 7.034764826, 6.047824334, 9.041693953, 8.111264465, 8.995317506000001, 6.022203788, 6.28182239, 4.648420722, 7.859323759, 7.268170426, 6.86352052, 7.165143572000001, 8.673350431, 6.394640682, 8.279777207, 3.5033533360000004, 11.17318436, 5.048676789, 8.820781834, 10.56036973, 3.807925224, 8.261965337000001, 6.175514626, 10.42358804, 7.838570501, 4.442977389, 8.734629261, 7.842626367999999, 7.403433476, 7.919400187000001, 9.523809523999999, 12.61872456, 5.793905372999999, 9.490940466, 8.018420696, 6.970862928, 6.155356141, 15.12919735, 7.729772192, 7.1374906089999985, 5.973634099999999, 9.609949124, 2.857142857, 12.62643879, 7.18809373, 5.048335123999999, 6.174064436, 6.374834714, 4.933311907, 3.789126853, 4.901140287, 10.50898962, 6.470169443, 6.531536365, 8.244884096, 4.137235116, 5.433938211, 7.8004035960000015, 4.638694639, 9.470752089, 4.874184801, 7.095518029, 7.6984025260000015, 7.298996856, 9.412054121, 8.172624647000001, 6.101897342999999, 8.81147541, 8.345428157, 7.170319107999999, 7.265384782999999, 5.55676618, 4.709871891000001, 5.678022712000001, 6.764890029, 9.418876755, 4.476854943999999, 6.666666667, 6.785838251, 9.653599739, 5.119521912, 9.535452323, 8.72468284, 6.932619801, 4.7596989, 3.431806121, 9.683350358, 8.377921068, 5.143447919, 4.957431961, 7.1715991689999985, 9.9984353, 12.37818785, 7.896973504, 9.621254162, 9.808230124, 6.776940353, 5.796390001000002, 4.977723153, 7.543190135, 4.0246587410000005, 6.285538651, 6.364846871, 9.2042186, 4.550099268, 5.581726556, 9.40871817, 10.94288712, 7.928388747, 8.646485734, 4.578754579, 4.319430973, 9.756097561, 9.345131067999999, 4.8649309380000005, 10.45811883, 9.289232935, 6.595445882000001, 5.162587998999999, 8.734330772, 8.145148731, 8.046137606, 5.692187262999999, 14.89711934, 6.151210525, 9.813298997999999, 13.90339426, 7.847557703, 7.398670384, 3.587352231, 7.722870622999999, 3.675834305, 6.14962108, 8.827506278, 6.899641577000001, 8.412197687, 6.627704551, 4.66555582, 4.825609173, 4.698216735, 6.898142807999999, 12.08732122, 7.666116747, 7.650951199, 5.159786951, 4.874177669, 4.80349345, 5.60036243, 7.34229576, 3.691076193, 7.753108348, 6.378708904, 6.347769877, 5.63682316, 5.024189312, 2.943100065, 5.244549204, 4.455809916000001, 6.750948167000001, 7.886982146, 9.46579194, 7.368421053, 11.25316747, 9.090909091, 6.78116268, 6.923076922999999, 8.250455246, 8.664425428, 8.109606252999999, 4.2597187760000015, 6.772483007000001, 4.106428791, 7.118055556, 5.230767256, 7.572433618, 6.058446187, 3.687130839, 7.855349462, 6.19108826, 5.8823529410000015, 11.7398202, 6.7055393589999985, 6.568141119, 9.927442487999999, 10.558355699999998, 5.412223369, 10.14771997, 6.593416753, 6.85530696, 5.664687072, 6.490353065, 10.30902945, 3.545511093, 7.943925234, 4.460497649, 8.864265928, 7.086883749, 7.317648168, 8.122180661, 3.941798942, 6.828023767, 7.224754206, 4.760907139, 5.512841875, 7.721639657000001, 6.99191234, 7.278524886, 4.785620638, 1.140100855, 7.865412838999998, 7.254636785, 7.379891035, 9.154028525, 6.130091782999999, 5.755947813, 6.624466362000001, 4.808897877, 7.027871842000001, 6.921029281, 7.49916304, 9.98654744, 5.128926395, 7.468005832, 4.993420597, 7.185146592000001, 4.633061527, 7.731064211, 5.995061728, 3.902580039, 6.333260537, 9.70883636, 6.92376267, 6.780677347999999, 7.5266413289999985, 6.129032258, 6.346058502999999, 5.088130721000001, 5.938808748, 6.507237256, 7.474825716000002, 6.639598757999999, 8.388067871, 5.953635406, 8.435536942999999, 3.912789566, 6.870859175, 5.333067411, 3.740474491, 4.995539697, 3.889722943, 7.323707889, 7.03891709, 3.5460992910000004, 11.11731844, 8.326377295, 10.49658648, 6.524244986, 5.435385469, 7.1552175999999985, 11.02173705, 5.637883538, 9.54901014, 10.41666667, 7.557864903, 7.021184609, 7.22560714, 5.339969517, 7.404505387, 5.954142012, 10.64195897, 5.144694534, 5.476914936, 5.835979415, 4.502533497, 14.10404624, 6.757868751, 7.223427332000001, 9.222919937, 7.000702412000001, 8.530324099, 5.274467669, 5.260727181, 8.380989943, 7.501915257, 9.529208509, 6.593920498999998, 6.872600349, 8.576508732999999, 5.95390525, 3.844106059, 5.296027701, 7.645914397, 4.178752579, 9.381345607, 10.93958452, 8.363568269, 5.492220549, 5.756020529, 7.148383104, 6.7331670820000005, 6.208128629, 7.99863853, 6.9094385539999985, 7.06011462, 7.352941176, 3.846153846, 7.165913493, 5.902721855, 4.333445832, 6.179992275, 9.072823728, 6.999041227, 7.396915329, 4.76836825, 6.381793204, 6.378759502, 2.990556139, 4.932925794, 6.124215538, 8.206278027, 3.788837627, 7.058823529, 6.97977509, 10.46270718, 7.822724569, 6.5838976670000005, 8.72741071, 7.002819317, 5.481171548, 4.728842184, 5.997818975, 6.578156312999999, 7.669902913, 2.419354839, 7.743212964, 13.06768239, 6.712734452, 13.2797218, 5.19993086, 8.508166246, 7.8642245, 8.358693447, 5.85520362, 5.598717474, 9.613844922, 4.1883934410000005, 5.61023622, 6.088531401, 5.930232557999999, 6.3314981160000015, 3.253388947, 5.743879473, 12.62809917, 4.882970137, 5.780153692000001, 5.2963368630000005, 6.764705882, 6.766938999, 6.380857428, 9.991632274, 7.473023031, 5.863468983, 6.11035628, 7.634376846, 7.086938607, 6.7305811, 5.483556299, 5.636141517, 5.384512692, 4.2913998960000015, 6.652485819, 5.901082158, 9.941192942999999, 4.604604605, 5.110526996, 5.508886412000001, 3.805787151, 6.518703822000001, 6.650333469, 8.37385639, 10.24374177, 7.260590077000001, 2.642709973, 5.7734774889999985, 6.603773585, 7.569196008, 6.620160769, 9.070554047, 6.385919416, 6.0348819260000015, 9.717281408, 6.374205897, 6.743897392999999, 8.532206643, 4.905124069, 5.6284336810000015, 9.094297427999999, 7.622834422, 6.396130072999999, 4.217742404, 8.483237939, 4.700683005, 9.138381201, 3.767644968, 13.52330355, 6.459392707, 7.522505267, 9.153734239, 10.11527378, 6.109090909, 5.950417692, 5.659037567, 10.57650629, 4.342156735, 6.955205593, 5.897840969, 7.154327927000001, 5.507539559, 4.3518488280000005, 8.412976174, 6.13068029, 10.28748227, 5.475833083, 6.103763988, 11.11561866, 9.619565217, 7.777777778, 10.42372881, 9.72985348, 6.205035971, 5.53708255, 7.813074942, 10.21318503, 7.242524917000001, 6.257956107999999, 4.016025486, 6.750530564, 8.194040698, 6.330027051, 3.288537549, 5.924271432, 10.35222052, 12.11919057, 5.455915599, 8.023766727, 5.949741316, 6.442479634, 6.3817253570000005, 6.7366283010000005, 8.321909984, 5.951629863, 4.084645669, 6.628881222, 6.397146254, 8.204691868, 9.324065197000001, 6.916624377000001, 8.665105386, 7.970409259, 7.368093737000001, 6.671299513999998, 7.429901812000001, 7.958085528, 7.604726101000002, 6.945551129, 9.629335014, 4.747991234, 7.103516452, 7.07473941, 7.3191369339999985, 9.082236214, 4.804498726, 5.385347402000001, 5.860770493, 6.891548785, 5.149229255, 6.77378702, 6.62183404, 6.297577855, 7.382897322000001, 8.045977011, 8.657651715, 10.51830557, 7.191398722000001, 9.799897383, 7.191970284, 7.772380291, 6.38204679, 4.8099046780000005, 6.60570008, 6.430960895, 7.661500957999999, 7.109004739, 6.149525335, 8.063063063, 4.827144211, 6.732379848, 7.310149042000001, 18.48317428, 7.635009311, 10.61341722, 8.577981651, 9.488666315, 6.830365822999999, 3.62968068, 6.923202083, 4.664311922, 12.65060241, 4.687027517, 7.316613237999999, 6.363259599, 10.74472696, 12.65536723, 6.452424904, 6.075719791, 1.865313899, 9.703375384, 6.021521789, 5.218834926, 7.956496852000001, 7.565095004, 4.825015531, 5.247398984, 7.451721243, 4.346846847, 5.997180863, 5.49552331, 5.55475608, 5.362537764, 6.179085828, 7.438421591, 4.568068747, 5.271676301, 5.628538449, 5.239361437, 6.778025689, 6.264138588, 9.124680752, 7.216890595, 5.560281494, 10.248730300000002, 4.209104938, 4.328297264, 4.93498818, 5.1857487760000005, 6.548224965, 8.9145742, 5.791825252000001, 6.845431732000001, 6.080144622000001, 6.409720407999999, 7.142462575, 5.630894197000001, 6.160864898, 7.728401877, 9.010575227999999, 9.960159362999999, 6.56376676, 8.77468974, 7.854777942999999, 6.395729172, 5.118815989, 9.583660644, 5.686401885, 7.524431395, 9.154031458, 5.8823529410000015, 7.661757405, 5.613577023, 6.510116889, 6.696428571, 9.707891295, 7.178435394, 4.976340694, 5.568095672, 4.968498694, 6.218004443, 6.248764089, 6.170426752999999, 7.970264421, 5.659482531, 10.30883615, 4.754957225, 5.917762139, 8.564152966, 11.44566686, 6.709864955, 10.21854696, 9.207827389, 9.867554033, 10.55509981, 5.424920687, 6.255283177999999, 4.85311326, 5.53335911, 7.646907877999999, 7.155353394, 7.231144371, 9.385860644, 11.03086579, 8.806544755, 6.444103225, 9.526358041, 3.699517008, 7.047084503, 10.61007958, 6.765599439, 8.764742229, 12.35350016, 7.426261416, 6.730023274, 6.525636429, 4.428697963, 7.517773407999999, 6.449579832, 6.411483254, 6.62771901, 11.15459883, 8.221254025, 5.862307651, 5.72043498, 5.631899076, 11.15283515, 4.378729379, 5.349895462, 6.825856247000001, 6.854256854, 6.44886847, 6.946826757999999, 4.671817544, 7.239067593, 7.116497689, 6.20420127, 12.29057264, 5.710102489, 8.806584362, 8.076706148, 9.762711864, 3.504672897, 6.422924901, 5.489346334, 7.720535329, 11.11361587, 7.402731551, 8.139142182, 8.581252803, 6.393605612000001, 4.366812227, 5.4281703320000005, 6.468786248, 9.342379957999999, 3.848861666, 4.271715097, 6.730995527999999, 5.6324004720000005, 5.620442945, 12.01657459, 4.483744194, 6.528897467999999, 12.80532939, 2.966314731, 8.495285239, 9.075941552, 7.728877717, 9.883649724, 6.2255335270000005, 5.290580824, 5.948717949, 6.4843197360000016, 6.493067298, 3.865979381, 5.758985977999999, 5.680868839, 6.0932866, 9.528418562, 8.195329087000001, 5.595994745, 5.037037037, 11.9704022, 6.128847616, 4.968339016, 3.066708821, 5.83681772, 10.44534413, 4.006968641, 7.39466896, 4.519668595, 7.161090958, 9.587513935, 5.375775352000001, 8.533077661, 7.125, 2.037037037, 3.915229885, 7.3115009, 8.187666652999999, 7.761385504, 5.21978022, 8.38968049, 7.041728762999999, 11.01694915, 3.591564001, 6.629866698, 9.855792653, 5.387302735, 5.140386578999999, 9.28, 6.896897262, 3.907669938, 6.661829395, 9.261318507, 4.936347103, 7.591272181, 9.047619048, 7.282022938, 8.043264503, 4.815765844, 8.994072342, 7.855822551, 7.646356032999999, 7.901338914, 5.5088477860000005, 5.323888443, 5.02041671, 12.1042324, 8.208648846, 6.634627387, 6.191757237000001, 6.170233183, 7.206208426, 5.806583521, 4.465098141, 6.811671088, 5.300839873, 8.970218873, 6.976744186, 9.479529329, 6.6329919089999985, 11.22467276, 3.583565029, 7.724318511, 6.945814483, 7.954847278, 5.842305051, 5.694195505, 7.989216372, 7.666340174, 3.1202435310000003, 7.532777116, 8.189469804, 4.439930354, 9.658735128, 6.665834478, 10.43781726, 4.514347461, 9.125327638, 8.983766956, 8.451615512, 6.6176470589999985, 8.399398301, 8.090452261, 5.996801706, 5.445215925, 8.864644661, 5.589398311, 9.94098956, 6.485695709, 9.003350084, 6.558585114, 7.82961069, 4.587478057, 6.3005534270000005, 6.11635007, 10.60863652, 4.3207473730000014, 8.147974713, 4.214492754, 5.579295561, 2.376868415, 5.305343511, 7.3905109489999985, 8.547336027, 5.3605228380000005, 3.039412158, 10.60398302, 5.617922924, 8.248533461000001, 5.537459283, 5.261510405, 7.181352735, 4.087224646, 8.097233864, 6.372370181, 3.909939594, 8.797257998, 5.663366337, 8.847567567999999, 7.864432169, 12.6755618, 8.320314469, 14.57910448, 5.049908063999999, 11.44674086, 6.5359477120000005, 6.249108289, 4.38964673, 6.389056749, 9.262261857, 9.718875502000001, 10.60025543, 5.160645913, 10.43782837, 5.538280528, 6.055766287000001, 5.747126437, 9.417941793999999, 8.851997749, 7.283464567, 10.83701697, 5.4262119160000015, 5.293295159, 4.809231028, 7.9034028539999985, 5.5692852560000015, 5.279456193, 3.814226643, 7.683357572999999, 6.96400626, 6.182430762, 6.926648097, 6.735566642999999, 9.66702077, 6.131205793, 4.2692255910000005, 8.438168592, 9.6321394, 7.527112637999999, 4.680365297, 7.917108225, 5.340747446, 4.615402855, 7.264922977999999, 5.660377358, 5.156685237, 6.280034231, 7.104876117000001, 7.272200493, 7.494509027, 7.79866992, 6.976043392999999, 7.3167606360000015, 7.071960298, 5.739036275, 5.674427841, 6.164176599, 8.179018855, 7.743310442999999, 6.182121972000001, 8.247837457000001, 8.683729433, 10.2003643, 5.101449275, 8.031529612, 8.810040131000001, 2.182214948, 5.276225947, 8.213634291, 4.247089162, 6.697992276, 4.3025411710000006, 11.17496408, 7.638888888999999, 11.12029764, 9.249858996, 8.986974042, 4.434460888, 5.532905112000001, 7.0309572, 7.494212963, 6.996197719, 5.264647608, 7.08001181, 4.675866177, 6.565157208, 7.531701185, 5.181655747, 8.062234795, 9.471060648, 10.24621212, 7.463211997, 7.784938942, 7.209038433, 6.622240733, 4.254903993, 3.044025157, 6.850480656, 7.410941476, 7.307196761, 3.96039604, 6.446425961, 2.451954937, 8.699719364, 6.177972152000001, 7.916181607, 7.023060797, 4.16978964, 8.668675767, 6.481265092999999, 4.6510321580000005, 5.08504844, 5.995975855, 6.266214327999999, 11.19636007, 5.647891659, 9.497206704, 5.736315917000001, 5.159235669, 5.9727906210000015, 4.404145078, 8.236509166, 7.074154514, 7.019481824, 8.802924155, 7.198042045, 5.291231065, 7.514450867000001, 5.423267376, 6.759098787, 5.868898187, 5.844584195, 8.337486387, 5.990231315, 5.987734022000001, 16.96480092, 6.391048739, 7.44191532, 10.6445793, 10.75268817, 7.979240087999999, 3.615384615, 5.798421372000001, 7.739104417999999, 5.20627389, 6.104098219, 7.661237785, 7.05250445, 8.494501327, 12.63902932, 5.197305101, 10.86837794, 5.704577969, 11.55199215, 5.157268348000001, 5.351600128, 5.819051415, 5.579904802000001, 9.35192781, 7.753978338, 8.081067213999999, 7.727936074, 11.17810761, 8.397302905, 7.360185453, 9.289676927999999, 9.033280507, 7.654007844, 9.495081967, 10.95835222, 7.955023119, 7.173797613, 3.140578265, 9.330719187, 4.362304362, 5.153334981, 10.44409912, 6.896109448, 6.680828262, 7.318295739, 8.910544436, 6.971904266, 4.975687566, 4.913547087, 4.518249723, 4.98631803, 9.932527852, 14.69866376, 7.2628726289999985, 5.964912281, 5.731414868, 9.401869159, 9.598415271, 3.537635045, 4.336225215, 12.2020202, 11.33803097, 8.061073715, 6.61132034, 8.686647074, 9.241706161, 6.031808578, 4.86278286, 6.531624637999999, 8.246062505, 4.387291982, 8.93810032, 7.0699605860000005, 8.551760657, 11.02215201, 5.743558492999999, 5.49513608, 5.476656872, 9.534368071, 5.263157895, 10.24244915, 4.657671265, 6.934842828, 11.65105386, 6.4333230420000005, 6.710775047, 4.379919406, 8.967616939, 6.280667321, 10.87630007, 3.409901555, 6.89957064, 7.347898501, 6.079271559, 5.868897911, 9.61342403, 6.7642956760000015, 7.466576025, 4.979027578999999, 9.428950862999999, 8.888462277, 5.004602462, 8.513108252, 4.775188034, 7.666180177999999, 11.99193963, 9.479461167, 10.71630006, 8.539325843, 6.049447659, 5.531829707999999, 3.513638465, 8.032668327, 8.706345302999999, 8.462127008, 5.359051199, 8.512912383, 7.849346978, 8.787346221, 7.1795656160000005, 7.421591967999999, 6.32016632, 6.069919324, 6.090665367000001, 6.62892708, 5.515383525, 9.698527692999999, 6.364858807999999, 4.778393352, 6.961683756, 6.548302872000001, 9.259796807, 5.446177447999999, 8.996088657, 4.679433805, 9.127880705, 4.693848208, 7.097844113, 6.221889055, 7.359333864, 10.65871143, 16.07631688, 6.431374574, 9.032258065, 5.348083427, 8.559695427000001, 7.645115621, 4.493087558, 6.245923027000001, 5.85354199, 9.425014819, 6.04268369, 5.227790021000001, 6.500373585, 5.943657385, 8.425956195, 6.648871633, 11.29685681, 6.10232612, 9.107468124, 5.333333333, 7.885843034, 7.190890854, 7.09335878, 3.753007217, 5.532033968, 4.826718518, 5.109677419, 7.438596491, 7.251381215, 7.857142857, 5.752571737999999, 12.99261084, 6.870363829, 6.0393783160000005, 8.342541436, 7.861156527999999, 6.7431562000000005, 7.056517478, 4.78765707, 8.243675623, 7.277604093, 7.397402597, 5.722871781, 4.823430442, 5.877034358, 7.903726708, 7.377979569, 8.115130921, 8.412524783, 10.73437963, 9.095154699, 7.12962963, 9.4053745, 7.0795045939999985, 8.197507191, 5.737396201, 6.472534745, 9.440292817000001, 8.295683937, 7.699058561, 4.937620805, 3.416599517, 5.385782401, 7.647487254, 7.317592002, 6.840925466, 4.980044346000001, 6.339696252, 8.088321837999999, 9.101230872, 5.566254223, 7.88740513, 5.999688328, 9.306007662, 5.541155957000001, 6.080985082000001, 9.136505354, 6.490227251, 8.370931357, 5.796743957, 5.140371688, 5.462713387000001, 9.136140756, 7.595847466, 6.578504794, 7.288545984, 7.417245607000001, 7.466081729, 10.64451223, 12.19258024, 7.133662857000001, 6.329995095, 5.685276129, 5.881346441, 6.996898205, 3.491789445, 5.074073708999999, 3.672373964, 6.2628336760000005, 15.54559043, 5.608327426000002, 5.319501525, 8.117968988, 6.026315789, 7.411612066, 5.643718924, 4.505551355, 7.286282575, 9.9609375, 10.86802772, 7.616572542, 4.678618277, 5.655883528, 12.43148432, 6.731165089, 5.312691167, 5.383351277999999, 6.117655227, 5.163511188, 8.672484002000001, 6.352833638, 8.193863319, 5.667081187000001, 6.799341999, 3.339578621, 5.5862322839999985, 5.223662411, 6.672788491, 13.58159912, 5.540834952999999, 6.027987082999999, 4.543718977, 6.674243207000001, 6.069944437, 7.796898237000001, 5.271362947, 4.19061124, 7.277102911, 5.893313689, 8.839528558, 7.551812246, 8.250825082999999, 9.10168989, 5.334598263, 7.317073171, 6.606338212000001, 4.548603094, 9.245483528, 9.74789916, 4.891756869, 7.215733656, 7.605633803, 7.719135085, 4.835896623, 7.921400061, 8.309455587, 15.37406972, 7.717002099, 5.936066575, 12.59405941, 6.525702438, 11.51885831, 8.205499276, 5.63795265, 7.38891273, 7.965107965, 9.532660648, 8.072904354, 6.754032258, 5.802683674, 6.067269574, 15.78947368, 7.566387777, 5.71708592, 7.285963166, 8.760637137, 2.632950991, 4.028940275, 9.504132231, 6.728343146, 7.409529707000001, 8.67533523, 6.823118008, 4.926290494, 5.201147978, 6.730625839, 7.384348973, 14.78417648, 6.710674909, 11.71929825, 8.474576271, 7.256461233, 8.262086118, 7.836265507999999, 6.761286641, 7.106227106, 9.949712644, 6.18678084, 6.514399206, 7.487027427999999, 8.314707197, 5.382840732999999, 6.095156315, 7.280525544, 6.68824164, 5.508355832, 5.088495575, 7.05874268, 8.823529412000001, 9.894155545, 5.989399196, 4.624929498, 9.899034241, 4.559088182, 6.289460902999999, 10.67961165, 5.273460977, 5.269148684, 12.09846154, 6.821292776, 6.122038765, 7.414730597999999, 8.619612742000001, 5.54518795, 6.945669986, 4.524170224, 6.586169045, 8.354159229, 5.045563191, 7.3290703389999985, 7.351638618, 8.305462653, 9.622222222000001, 7.543398211, 8.673597719, 10.4506476, 6.679841897, 6.984107927999999, 5.146295912, 7.517859167999999, 9.788359788, 7.010099296, 6.726721487000001, 4.902328661, 6.340819022000001, 5.981173063, 6.261884296, 7.49244713, 11.5451505, 5.864581482, 6.490771708, 6.31372549, 7.386233707000001, 8.347783297000001, 4.959708275, 9.091604806, 6.571104172999999, 7.123583377999999, 4.213877199, 4.820846906, 6.261485061, 6.8003974660000015, 8.307770961000001, 9.83813124, 8.553165584, 4.402413175, 5.733920326000002, 4.088785047, 6.209850107, 5.964247467000001, 8.081806828, 5.73055829, 9.661835749, 4.706269541, 8.255440848, 7.2683944, 5.567139283, 7.66583229, 5.93220339, 7.228331177, 8.780958508, 6.4992232, 6.419645134, 6.918913647999999, 5.6210964610000005, 4.790419162, 10.8452335, 5.071777557, 4.987735078, 3.965107058, 8.663269306, 7.991106461, 9.40664141, 6.211180124, 6.382978723, 4.722892927, 5.164506481, 4.261206419, 8.747433265, 7.691192986, 5.59229609, 6.448670892999999, 5.796410989, 5.581189557999999, 5.480580914, 5.54616165, 4.658835291, 9.541420118, 10.92171717, 7.972153604, 10.08133288, 12.24899598, 5.086245024, 7.810915435, 8.214610488, 9.086892489, 7.028531663, 5.114716694, 6.470093631, 3.998788246, 4.409221902, 7.202881152000001, 9.85915493, 10.19902866, 6.90891315, 11.30943982, 8.591549296, 6.537793223, 9.964847929, 5.691169352, 5.961323318, 8.016317237, 4.834703902, 7.716810842999999, 3.515625, 5.379746835, 7.814303944, 8.230383973, 5.651864464, 4.567541302, 10.40723982, 9.833532035, 7.497329825, 5.218832648999999, 7.262756917000001, 7.442606764, 14.29463171, 7.190615486, 6.178101957999999, 7.268346112000001, 10.82621083, 6.210902592, 6.585612969, 8.124218118, 3.937692447, 8.915289604, 11.5990991, 7.68983269, 7.711302022000001, 7.08176531, 5.281991028, 7.328447702, 9.119638826000001, 10.13607331, 7.943925234, 4.092343162, 4.962640348, 8.403141361, 7.444451902999999, 8.068915806, 9.742351047, 6.018392556, 5.888394385, 8.310215897, 8.696949355, 6.44239226, 8.169144981, 5.715611724, 6.056904557999999, 8.264802632, 5.401716534, 6.410214005, 10.04796768, 10.29023747, 5.329311212, 6.742081448, 6.851633795, 9.477825465, 4.34705353, 8.797399783, 7.529746049, 5.609202787, 7.746353611, 5.672188717, 4.92195573, 7.078436731, 5.42322416, 7.527049117000001, 9.112923059, 4.619278633, 11.91810345, 8.051044083999999, 8.015974897000001, 5.70165906, 7.105742094, 6.55137004, 10.79639725, 5.949172122, 5.135364315, 9.573361082, 3.397391901, 6.806282723, 7.69436567, 7.226342998, 6.699480447999999, 8.640291041000001, 15.11371974, 10.45232274, 5.586330655, 5.118580614, 10.96101891, 10.32778124, 7.043094186, 4.905005861999999, 1.234274864, 9.592939542, 6.238385984, 6.406533575, 5.653526971000002, 9.644012945, 7.122147989, 3.170586484, 5.518617021, 7.931404072999999, 5.854177754, 7.6088777689999985, 9.037638044, 5.859872611, 9.478838755, 10.00848176, 9.010220549, 5.788423154, 7.671846563, 12.17836895, 6.772972837999999, 5.511811024, 6.874784985, 8.564077432000001, 7.803785316, 6.578556579, 3.810775296, 8.281121611, 7.132018209, 7.9297082639999985, 6.012855069, 7.816377171, 5.692135395, 5.583250249, 7.731256086, 8.690327847999999, 6.0402684560000015, 6.111919566, 5.229318473999999, 7.05773139, 8.184668209, 7.907492705, 5.272908245, 8.059139006, 9.807692308, 7.222958407, 5.439464029, 7.876965544, 7.225034514, 8.395061728, 9.57960644, 4.575120311, 13.7702632, 5.957496226, 6.821646341, 9.440918707, 9.133459836, 6.135986732999999, 3.469581749, 6.581148912000001, 5.571030641, 6.462821404, 8.149612285, 6.341463415, 9.395596691, 10.66754318, 4.853022469, 6.565596955, 9.430878677, 5.044616687, 7.246728066, 7.344632767999999, 8.826125331, 6.828307947000001, 6.28696323, 7.108680793, 9.510406005, 11.30005889, 7.623485555, 4.630356103, 9.53712333, 9.653465347000001, 4.58911124, 5.17141197, 4.910386824, 8.407683426, 11.33133133, 6.4887493460000005, 6.151570521, 10.81635215, 8.088888889, 5.038188396000001, 10.31337985, 7.79532967, 9.401709402, 6.170752325, 7.068327162999999, 10.19320453, 5.23130134, 6.959964242000001, 12.6247798, 8.276450512, 4.529916517, 7.1402470220000005, 7.28962818, 7.01320132, 7.0889487870000005, 10.24318916, 12.42300035, 4.082976622, 5.449058844, 5.920385396, 6.23139881, 5.89117249, 9.464715688, 2.540500736, 8.859649122999999, 6.254558716, 10.29224905, 6.053412463, 4.836281825, 5.848656449, 5.407975655, 5.039002025, 7.332368548, 9.514094955, 7.105797428, 8.387603862999999, 7.992202729, 6.885856079, 5.573726421, 7.968007697000001, 5.109797297, 4.120621839, 5.316630074, 5.69048699, 7.151287554, 9.430342385, 7.477621022999999, 6.7523762110000005, 9.819924861, 8.885005482, 9.632777596, 6.634805537, 6.4531979360000005, 9.375, 8.32147017, 5.5611055610000015, 8.011444921, 6.876131563, 5.184259838, 7.294150885, 2.900605904, 7.484983127, 11.29748397, 8.128397618, 5.421216849, 6.923712955, 8.491582742, 7.375250811, 7.042485816, 5.847825492999999, 8.750767453, 8.185484536, 5.523047527999999, 6.83994528, 7.0183279710000015, 7.314230748, 4.178408318, 9.71716235, 7.348242812, 4.886236479, 9.023780452, 7.039085546, 4.774535809, 5.7458107620000005, 5.529820497999999, 13.16984559, 9.078244717999999, 3.934942288, 6.935062374, 5.548628429, 7.647993896, 6.305803571, 7.848660261, 6.990163214, 7.469836764, 5.118295787, 6.0290268860000005, 6.407209347999999, 6.734832993, 7.117503342000001, 12.84164859, 9.180327869, 6.460301062999999, 10.274898599999998, 3.985403571, 4.874001575, 7.715800392, 13.28482328, 6.101792944, 8.996744599, 8.773792991, 4.464728644, 7.830651075, 7.499391283, 4.507790083, 6.7968959060000005, 10.33164583, 6.728963801, 9.16656468, 9.668740541, 8.262427228, 6.1176470589999985, 4.741402508, 9.594649925, 6.116227159, 8.324754162, 3.520466354, 6.819965469, 7.053838485, 7.791142701, 9.398133247999999, 14.26024955, 7.495559503, 8.040201005, 19.40298507, 6.6863964760000005, 5.865302643, 7.363358111, 8.559244592999999, 6.486636971, 6.771915247000001, 9.594003747999999, 6.557754469, 7.745144481, 5.416626292, 7.854378672999999, 4.180473214, 4.052654933, 10.82861081, 6.863727455, 7.264387142, 3.1050228310000003, 7.059029602000001, 8.529228209, 4.587232883, 3.415086682, 6.069243386, 8.825063572000001, 11.49870801, 6.998037932999999, 12.04074015, 5.333333333, 7.207088817000001, 6.956140777999999, 7.41211159, 6.258128284, 3.750321089, 9.090909091, 10.08250425, 9.424409309, 4.597435066, 7.921988497, 8.318310585, 6.639798077999999, 9.227578032, 6.713492323, 6.977504024, 6.4368624689999985, 7.108081792, 10.18531229, 9.702479339, 4.412641622, 7.6601671310000015, 14.11674933, 10.72501633, 6.045920394, 5.687369156, 8.69925435, 8.006329114, 8.005755953, 11.11386489, 12.41230437, 4.706747564, 7.992251677, 10.85941149, 3.513909224, 5.687693899, 9.88009117, 3.4543844110000004, 7.913669065, 7.771197936, 10.40652734, 11.13027764, 3.684483653, 3.020073814, 8.609869973, 9.898239967, 10.16548463, 6.861499365, 7.564510427999999, 4.022074046, 7.558221916, 4.665117643, 7.674648471, 10.09872825, 7.334952227, 9.050362386, 7.373817035, 3.535353535, 6.197248481, 7.027518763, 7.96854918, 19.06005222, 9.016896748999999, 9.309791332, 9.85915493, 7.067402075, 7.50877193, 4.315812495, 12.43851787, 7.884800473999999, 7.8307392999999985, 12.24848947, 6.015363647999999, 22.83484391, 12.32686981, 2.9746281710000004, 9.926491537999999, 5.629156142, 6.283994231, 5.121379223, 6.138341732000001, 6.131211358, 4.674685621, 7.140556462999999, 9.742240926000001, 7.020099039, 6.920915215, 4.191919192, 5.956969209, 4.349963136, 7.442339373999999, 8.649568176, 9.699926258, 5.180591025, 5.4771695970000005, 7.557328016, 10.62651689, 6.138682345, 6.005381832, 6.493980299, 6.217044757999999, 5.462093073999998, 6.643046944, 9.745953237, 6.2557137260000015, 8.544490277000001, 2.9143898, 7.488784079, 5.560734851, 8.071554894, 8.006500542000001, 5.6475407839999985, 8.155405788, 6.204559366, 3.974367904, 5.810718597, 6.331384739, 5.329834042, 6.025600999, 5.292259084, 4.353650368, 5.862624679, 9.770378875, 8.243243243, 7.03336339, 7.374940948, 3.4020313580000003, 7.1135430920000005, 13.32369942, 7.601912635, 7.468095162999999, 5.114915293999999, 8.799675588, 4.297737237, 3.48173516, 9.923909334, 7.1225376539999985, 6.3841928810000015, 8.359073359, 8.352748296, 7.56245121, 5.399408284, 5.908746400000001, 7.0954907160000005, 10.37288431, 7.687793427000001, 10.32833918, 12.88778878, 7.685155239, 9.044585987, 5.063836809, 7.58245047, 5.939463164, 6.887937188, 7.890743551, 4.490422091, 5.814851338, 9.978070175, 8.230452675, 5.741983594, 5.874587459, 4.945125888, 6.8776628120000005, 6.7294973539999985, 5.212889405, 9.160502322000001, 6.418897437999999, 6.093432634, 2.560819462, 8.564013841, 7.982791587, 5.523917995, 11.46102801, 7.981927711, 10.11691348, 8.44317777, 5.657562542999999, 4.675931253, 6.925207756, 3.962288671, 10.67005501, 7.234364903999999, 5.214411411, 5.7475690770000005, 4.622781065, 5.136159945, 10.47489207, 7.738349722000001, 6.569363914, 3.050847458, 5.174250495, 5.950827374, 6.20266859, 13.07710709, 6.411698538, 7.334410339, 12.23661106, 5.117012247, 11.70823436, 6.4780342520000005, 6.4671101260000015, 6.522068861, 4.207673061, 8.318500059, 4.808106943, 10.92611863, 11.2086348, 8.857561746, 6.247775934, 6.386651323, 5.460368057999999, 6.260776797999999, 9.869646182, 13.98863965, 8.793509552, 6.627620222000001, 6.161661789, 2.702702703, 4.465161923, 8.178954001000001, 9.113319768, 4.684095861, 6.09802953, 4.416403785, 15.60118023, 6.916426512999999, 7.121160985, 5.8589743589999985, 6.842105263, 7.2739934160000015, 10.50800278, 5.241112662, 17.35181644, 6.392567375, 9.195402299, 6.764960971, 8.380729341, 7.8169414439999985, 7.68627451, 7.796124557000001, 5.703197274, 6.319958671, 12.64120495, 4.881383924, 5.123131047, 6.712020895, 14.44359756, 6.854487366, 5.586643637999999, 7.239223429, 7.923043826000002, 5.92025074, 4.983544899, 6.406130686, 6.881776845, 9.316770186, 8.065314201, 9.279141103999999, 9.826867586, 9.589416058, 8.250052051, 9.423862516, 7.529787495, 7.960199005, 5.706782809, 3.95280236, 14.03989478, 8.014991509, 4.077669903, 8.429035752999999, 7.893782852999999, 9.515283284, 7.445211648, 5.503487000000002, 3.193335647, 5.463182898, 5.45625588, 7.239447675, 6.297566279, 12.70519451, 4.586603944, 7.565789474, 12.68156425, 10.28858218, 9.154708285, 5.257685195, 6.2632354470000005, 8.247725271, 2.766921995, 9.149184149, 5.688364055, 6.87017768, 9.943074004, 7.334326136, 6.361701074, 4.310505691, 5.243857719, 6.353397417, 6.70139939, 10.38090129, 8.881578947000001, 6.260070899, 4.253859348, 5.973240967000001, 5.455080819, 7.058151164, 7.316638673, 5.957469124, 11.94353963, 5.281612974, 9.290183192999999, 5.519388622, 7.919027309, 8.246225319, 5.4337195860000005, 7.331378299, 10.2948654, 4.7565706180000005, 8.37761118, 8.627548483, 6.718146718, 7.671729766, 9.600150886, 6.410684474, 5.5679981860000005, 9.869791667000001, 8.228309897, 4.78789726, 10.19702731, 7.210842915, 3.734155533, 8.773322747, 3.961636437, 8.044853092, 8.734483803, 6.502607562000001, 7.730318258, 3.623984186, 10.00210571, 6.1286394170000005, 6.973870056, 6.223711794, 8.655705996, 6.863140896, 8.080808081, 7.813822285, 10.02017485, 5.274754497, 7.209931561, 6.9793769910000005, 5.0, 7.1323529410000015, 8.015640273999999, 4.896907216000001, 9.783071033999999, 9.468258275, 3.978779841, 10.80993869, 7.844104587999999, 11.43093238, 9.459459459, 8.797393365, 4.292748893, 12.27480183, 8.928571429, 12.03441969, 6.2863637589999986, 7.599441356, 8.925692511, 5.170233691, 8.522697996, 6.596238082999999, 5.278687345, 11.53749308, 7.774030354, 8.20473644, 6.933638444, 8.591536422999999, 10.43292813, 4.4688404660000005, 4.956910658, 4.884441268, 6.736353078, 9.829149968, 9.291747888, 9.22459893, 5.492805199, 4.746716698, 4.522328999, 8.821618812999999, 3.835604785, 5.645373045, 6.909656245, 7.805429864, 4.354648882, 7.934678194, 5.613378552, 7.056168134, 7.640791476, 6.3288782989999985, 6.8130883010000005, 10.22607226, 7.753852232000001, 8.008844785, 4.869708761, 7.703671252999999, 5.981268625, 6.412167384, 7.400476352999999, 7.056185703, 5.519113601, 5.583392985, 10.24244075, 10.72033898, 3.940349176, 5.279741625, 6.410811279, 7.846715327999999, 6.2277622, 10.83370486, 2.427184466, 3.894604241, 6.451316876, 9.352823244, 8.645753634, 7.269179167999999, 7.257385618, 4.081998809, 6.386936751, 4.302422723, 8.192113212999999, 4.9733570160000005, 6.444806752000001, 6.722738157999999, 12.0308379, 4.773779836, 2.986425339, 9.274032708, 11.53893267, 8.404464872, 9.078947368, 6.121305505, 7.402034057000001, 5.605605606, 7.257417802999999, 10.31025499, 6.362904995, 6.094258728, 9.607969152, 9.822137526, 8.217821782, 9.705159705, 11.87493529, 9.308275116, 5.473342793, 6.110363392000001, 5.069066025, 12.36470974, 7.609087631, 8.253234082999999, 6.172738436, 10.00583809, 5.507868383, 5.609289335, 5.927568367, 5.584337457999999, 5.298104855, 4.902442649, 7.265116279, 8.267716535, 4.845372993, 6.973355537000001, 8.540134804, 10.86853346, 10.94299251, 5.527086384, 5.84192848, 6.715358085, 9.391247626, 7.731427393, 9.715918642, 7.534429143, 6.132008517, 7.332443423, 5.449591281, 8.006042296, 4.621809745, 8.334950513999999, 8.178962628999999, 7.903515525, 5.810760289, 8.158946626, 2.559480894, 10.6597979, 6.190428008, 4.981261143, 8.164006903999999, 8.023391813, 6.527154958, 5.471013611, 6.378862595, 5.2513128280000005], \"yaxis\": \"y\"}],\n",
              "                        {\"coloraxis\": {\"colorbar\": {\"title\": {\"text\": \"debt_class\"}}, \"colorscale\": [[0.0, \"#0d0887\"], [0.1111111111111111, \"#46039f\"], [0.2222222222222222, \"#7201a8\"], [0.3333333333333333, \"#9c179e\"], [0.4444444444444444, \"#bd3786\"], [0.5555555555555556, \"#d8576b\"], [0.6666666666666666, \"#ed7953\"], [0.7777777777777778, \"#fb9f3a\"], [0.8888888888888888, \"#fdca26\"], [1.0, \"#f0f921\"]]}, \"height\": 600, \"legend\": {\"tracegroupgap\": 0}, \"margin\": {\"t\": 60}, \"template\": {\"data\": {\"bar\": [{\"error_x\": {\"color\": \"#2a3f5f\"}, \"error_y\": {\"color\": \"#2a3f5f\"}, \"marker\": {\"line\": {\"color\": \"#E5ECF6\", \"width\": 0.5}}, \"type\": \"bar\"}], \"barpolar\": [{\"marker\": {\"line\": {\"color\": \"#E5ECF6\", \"width\": 0.5}}, \"type\": \"barpolar\"}], \"carpet\": [{\"aaxis\": {\"endlinecolor\": \"#2a3f5f\", \"gridcolor\": \"white\", \"linecolor\": \"white\", \"minorgridcolor\": \"white\", \"startlinecolor\": \"#2a3f5f\"}, \"baxis\": {\"endlinecolor\": \"#2a3f5f\", \"gridcolor\": \"white\", \"linecolor\": \"white\", \"minorgridcolor\": \"white\", \"startlinecolor\": \"#2a3f5f\"}, \"type\": \"carpet\"}], \"choropleth\": [{\"colorbar\": {\"outlinewidth\": 0, \"ticks\": \"\"}, \"type\": \"choropleth\"}], \"contour\": [{\"colorbar\": {\"outlinewidth\": 0, \"ticks\": \"\"}, \"colorscale\": [[0.0, \"#0d0887\"], [0.1111111111111111, \"#46039f\"], [0.2222222222222222, \"#7201a8\"], [0.3333333333333333, \"#9c179e\"], [0.4444444444444444, \"#bd3786\"], [0.5555555555555556, \"#d8576b\"], [0.6666666666666666, \"#ed7953\"], [0.7777777777777778, \"#fb9f3a\"], [0.8888888888888888, \"#fdca26\"], [1.0, \"#f0f921\"]], \"type\": \"contour\"}], \"contourcarpet\": [{\"colorbar\": {\"outlinewidth\": 0, \"ticks\": \"\"}, \"type\": \"contourcarpet\"}], \"heatmap\": [{\"colorbar\": {\"outlinewidth\": 0, \"ticks\": \"\"}, \"colorscale\": [[0.0, \"#0d0887\"], [0.1111111111111111, \"#46039f\"], [0.2222222222222222, \"#7201a8\"], [0.3333333333333333, \"#9c179e\"], [0.4444444444444444, \"#bd3786\"], [0.5555555555555556, \"#d8576b\"], [0.6666666666666666, \"#ed7953\"], [0.7777777777777778, \"#fb9f3a\"], [0.8888888888888888, \"#fdca26\"], [1.0, \"#f0f921\"]], \"type\": \"heatmap\"}], \"heatmapgl\": [{\"colorbar\": {\"outlinewidth\": 0, \"ticks\": \"\"}, \"colorscale\": [[0.0, \"#0d0887\"], [0.1111111111111111, \"#46039f\"], [0.2222222222222222, \"#7201a8\"], [0.3333333333333333, \"#9c179e\"], [0.4444444444444444, \"#bd3786\"], [0.5555555555555556, \"#d8576b\"], [0.6666666666666666, \"#ed7953\"], [0.7777777777777778, \"#fb9f3a\"], [0.8888888888888888, \"#fdca26\"], [1.0, \"#f0f921\"]], \"type\": \"heatmapgl\"}], \"histogram\": [{\"marker\": {\"colorbar\": {\"outlinewidth\": 0, \"ticks\": \"\"}}, \"type\": \"histogram\"}], \"histogram2d\": [{\"colorbar\": {\"outlinewidth\": 0, \"ticks\": \"\"}, \"colorscale\": [[0.0, \"#0d0887\"], [0.1111111111111111, \"#46039f\"], [0.2222222222222222, \"#7201a8\"], [0.3333333333333333, \"#9c179e\"], [0.4444444444444444, \"#bd3786\"], [0.5555555555555556, \"#d8576b\"], [0.6666666666666666, \"#ed7953\"], [0.7777777777777778, \"#fb9f3a\"], [0.8888888888888888, \"#fdca26\"], [1.0, \"#f0f921\"]], \"type\": \"histogram2d\"}], \"histogram2dcontour\": [{\"colorbar\": {\"outlinewidth\": 0, \"ticks\": \"\"}, \"colorscale\": [[0.0, \"#0d0887\"], [0.1111111111111111, \"#46039f\"], [0.2222222222222222, \"#7201a8\"], [0.3333333333333333, \"#9c179e\"], [0.4444444444444444, \"#bd3786\"], [0.5555555555555556, \"#d8576b\"], [0.6666666666666666, \"#ed7953\"], [0.7777777777777778, \"#fb9f3a\"], [0.8888888888888888, \"#fdca26\"], [1.0, \"#f0f921\"]], \"type\": \"histogram2dcontour\"}], \"mesh3d\": [{\"colorbar\": {\"outlinewidth\": 0, \"ticks\": \"\"}, \"type\": \"mesh3d\"}], \"parcoords\": [{\"line\": {\"colorbar\": {\"outlinewidth\": 0, \"ticks\": \"\"}}, \"type\": \"parcoords\"}], \"scatter\": [{\"marker\": {\"colorbar\": {\"outlinewidth\": 0, \"ticks\": \"\"}}, \"type\": \"scatter\"}], \"scatter3d\": [{\"line\": {\"colorbar\": {\"outlinewidth\": 0, \"ticks\": \"\"}}, \"marker\": {\"colorbar\": {\"outlinewidth\": 0, \"ticks\": \"\"}}, \"type\": \"scatter3d\"}], \"scattercarpet\": [{\"marker\": {\"colorbar\": {\"outlinewidth\": 0, \"ticks\": \"\"}}, \"type\": \"scattercarpet\"}], \"scattergeo\": [{\"marker\": {\"colorbar\": {\"outlinewidth\": 0, \"ticks\": \"\"}}, \"type\": \"scattergeo\"}], \"scattergl\": [{\"marker\": {\"colorbar\": {\"outlinewidth\": 0, \"ticks\": \"\"}}, \"type\": \"scattergl\"}], \"scattermapbox\": [{\"marker\": {\"colorbar\": {\"outlinewidth\": 0, \"ticks\": \"\"}}, \"type\": \"scattermapbox\"}], \"scatterpolar\": [{\"marker\": {\"colorbar\": {\"outlinewidth\": 0, \"ticks\": \"\"}}, \"type\": \"scatterpolar\"}], \"scatterpolargl\": [{\"marker\": {\"colorbar\": {\"outlinewidth\": 0, \"ticks\": \"\"}}, \"type\": \"scatterpolargl\"}], \"scatterternary\": [{\"marker\": {\"colorbar\": {\"outlinewidth\": 0, \"ticks\": \"\"}}, \"type\": \"scatterternary\"}], \"surface\": [{\"colorbar\": {\"outlinewidth\": 0, \"ticks\": \"\"}, \"colorscale\": [[0.0, \"#0d0887\"], [0.1111111111111111, \"#46039f\"], [0.2222222222222222, \"#7201a8\"], [0.3333333333333333, \"#9c179e\"], [0.4444444444444444, \"#bd3786\"], [0.5555555555555556, \"#d8576b\"], [0.6666666666666666, \"#ed7953\"], [0.7777777777777778, \"#fb9f3a\"], [0.8888888888888888, \"#fdca26\"], [1.0, \"#f0f921\"]], \"type\": \"surface\"}], \"table\": [{\"cells\": {\"fill\": {\"color\": \"#EBF0F8\"}, \"line\": {\"color\": \"white\"}}, \"header\": {\"fill\": {\"color\": \"#C8D4E3\"}, \"line\": {\"color\": \"white\"}}, \"type\": \"table\"}]}, \"layout\": {\"annotationdefaults\": {\"arrowcolor\": \"#2a3f5f\", \"arrowhead\": 0, \"arrowwidth\": 1}, \"colorscale\": {\"diverging\": [[0, \"#8e0152\"], [0.1, \"#c51b7d\"], [0.2, \"#de77ae\"], [0.3, \"#f1b6da\"], [0.4, \"#fde0ef\"], [0.5, \"#f7f7f7\"], [0.6, \"#e6f5d0\"], [0.7, \"#b8e186\"], [0.8, \"#7fbc41\"], [0.9, \"#4d9221\"], [1, \"#276419\"]], \"sequential\": [[0.0, \"#0d0887\"], [0.1111111111111111, \"#46039f\"], [0.2222222222222222, \"#7201a8\"], [0.3333333333333333, \"#9c179e\"], [0.4444444444444444, \"#bd3786\"], [0.5555555555555556, \"#d8576b\"], [0.6666666666666666, \"#ed7953\"], [0.7777777777777778, \"#fb9f3a\"], [0.8888888888888888, \"#fdca26\"], [1.0, \"#f0f921\"]], \"sequentialminus\": [[0.0, \"#0d0887\"], [0.1111111111111111, \"#46039f\"], [0.2222222222222222, \"#7201a8\"], [0.3333333333333333, \"#9c179e\"], [0.4444444444444444, \"#bd3786\"], [0.5555555555555556, \"#d8576b\"], [0.6666666666666666, \"#ed7953\"], [0.7777777777777778, \"#fb9f3a\"], [0.8888888888888888, \"#fdca26\"], [1.0, \"#f0f921\"]]}, \"colorway\": [\"#636efa\", \"#EF553B\", \"#00cc96\", \"#ab63fa\", \"#FFA15A\", \"#19d3f3\", \"#FF6692\", \"#B6E880\", \"#FF97FF\", \"#FECB52\"], \"font\": {\"color\": \"#2a3f5f\"}, \"geo\": {\"bgcolor\": \"white\", \"lakecolor\": \"white\", \"landcolor\": \"#E5ECF6\", \"showlakes\": true, \"showland\": true, \"subunitcolor\": \"white\"}, \"hoverlabel\": {\"align\": \"left\"}, \"hovermode\": \"closest\", \"mapbox\": {\"style\": \"light\"}, \"paper_bgcolor\": \"white\", \"plot_bgcolor\": \"#E5ECF6\", \"polar\": {\"angularaxis\": {\"gridcolor\": \"white\", \"linecolor\": \"white\", \"ticks\": \"\"}, \"bgcolor\": \"#E5ECF6\", \"radialaxis\": {\"gridcolor\": \"white\", \"linecolor\": \"white\", \"ticks\": \"\"}}, \"scene\": {\"xaxis\": {\"backgroundcolor\": \"#E5ECF6\", \"gridcolor\": \"white\", \"gridwidth\": 2, \"linecolor\": \"white\", \"showbackground\": true, \"ticks\": \"\", \"zerolinecolor\": \"white\"}, \"yaxis\": {\"backgroundcolor\": \"#E5ECF6\", \"gridcolor\": \"white\", \"gridwidth\": 2, \"linecolor\": \"white\", \"showbackground\": true, \"ticks\": \"\", \"zerolinecolor\": \"white\"}, \"zaxis\": {\"backgroundcolor\": \"#E5ECF6\", \"gridcolor\": \"white\", \"gridwidth\": 2, \"linecolor\": \"white\", \"showbackground\": true, \"ticks\": \"\", \"zerolinecolor\": \"white\"}}, \"shapedefaults\": {\"line\": {\"color\": \"#2a3f5f\"}}, \"ternary\": {\"aaxis\": {\"gridcolor\": \"white\", \"linecolor\": \"white\", \"ticks\": \"\"}, \"baxis\": {\"gridcolor\": \"white\", \"linecolor\": \"white\", \"ticks\": \"\"}, \"bgcolor\": \"#E5ECF6\", \"caxis\": {\"gridcolor\": \"white\", \"linecolor\": \"white\", \"ticks\": \"\"}}, \"title\": {\"x\": 0.05}, \"xaxis\": {\"automargin\": true, \"gridcolor\": \"white\", \"linecolor\": \"white\", \"ticks\": \"\", \"zerolinecolor\": \"white\", \"zerolinewidth\": 2}, \"yaxis\": {\"automargin\": true, \"gridcolor\": \"white\", \"linecolor\": \"white\", \"ticks\": \"\", \"zerolinecolor\": \"white\", \"zerolinewidth\": 2}}}, \"xaxis\": {\"anchor\": \"y\", \"domain\": [0.0, 0.98], \"title\": {\"text\": \"low\"}}, \"yaxis\": {\"anchor\": \"x\", \"domain\": [0.0, 1.0], \"title\": {\"text\": \"PctEmpConstruction\"}}},\n",
              "                        {\"responsive\": true}\n",
              "                    ).then(function(){\n",
              "                            \n",
              "var gd = document.getElementById('c785430e-f235-4bec-a6fd-52bce7c45133');\n",
              "var x = new MutationObserver(function (mutations, observer) {{\n",
              "        var display = window.getComputedStyle(gd).display;\n",
              "        if (!display || display === 'none') {{\n",
              "            console.log([gd, 'removed!']);\n",
              "            Plotly.purge(gd);\n",
              "            observer.disconnect();\n",
              "        }}\n",
              "}});\n",
              "\n",
              "// Listen for the removal of the full notebook cells\n",
              "var notebookContainer = gd.closest('#notebook-container');\n",
              "if (notebookContainer) {{\n",
              "    x.observe(notebookContainer, {childList: true});\n",
              "}}\n",
              "\n",
              "// Listen for the clearing of the current output cell\n",
              "var outputEl = gd.closest('.output');\n",
              "if (outputEl) {{\n",
              "    x.observe(outputEl, {childList: true});\n",
              "}}\n",
              "\n",
              "                        })\n",
              "                };\n",
              "                \n",
              "            </script>\n",
              "        </div>\n",
              "</body>\n",
              "</html>"
            ]
          },
          "metadata": {
            "tags": []
          }
        }
      ]
    },
    {
      "cell_type": "markdown",
      "metadata": {
        "id": "dKogSDTwizPV",
        "colab_type": "text"
      },
      "source": [
        "### Split Baseline + Dist Plot + Confusion Matrix"
      ]
    },
    {
      "cell_type": "code",
      "metadata": {
        "id": "hDh6mWdbZELS",
        "colab_type": "code",
        "outputId": "dcd788f1-6a59-418c-971c-adf138bbc0df",
        "colab": {
          "base_uri": "https://localhost:8080/",
          "height": 121
        }
      },
      "source": [
        "#baseline\n",
        "import numpy as np\n",
        "from sklearn.metrics import accuracy_score\n",
        "\n",
        "y_train.value_counts(normalize=True)  #baseline = .415 (for class 1 of 5)"
      ],
      "execution_count": 19,
      "outputs": [
        {
          "output_type": "execute_result",
          "data": {
            "text/plain": [
              "1    0.419278\n",
              "2    0.216581\n",
              "3    0.188814\n",
              "0    0.102737\n",
              "4    0.072590\n",
              "Name: debt_class, dtype: float64"
            ]
          },
          "metadata": {
            "tags": []
          },
          "execution_count": 19
        }
      ]
    },
    {
      "cell_type": "code",
      "metadata": {
        "id": "2TVM8MvQuU97",
        "colab_type": "code",
        "colab": {
          "base_uri": "https://localhost:8080/",
          "height": 542
        },
        "outputId": "8990688c-6520-414a-a351-07f7e8423ddc"
      },
      "source": [
        "#dist plot\n",
        "import plotly.figure_factory as ff\n",
        "\n",
        "hist_data = [y_val]\n",
        "group_labels = ['low debt rates groupings'] # name of the dataset\n",
        "\n",
        "fig = ff.create_distplot(hist_data, group_labels)\n",
        "fig.show()"
      ],
      "execution_count": 20,
      "outputs": [
        {
          "output_type": "display_data",
          "data": {
            "text/html": [
              "<html>\n",
              "<head><meta charset=\"utf-8\" /></head>\n",
              "<body>\n",
              "    <div>\n",
              "            <script src=\"https://cdnjs.cloudflare.com/ajax/libs/mathjax/2.7.5/MathJax.js?config=TeX-AMS-MML_SVG\"></script><script type=\"text/javascript\">if (window.MathJax) {MathJax.Hub.Config({SVG: {font: \"STIX-Web\"}});}</script>\n",
              "                <script type=\"text/javascript\">window.PlotlyConfig = {MathJaxConfig: 'local'};</script>\n",
              "        <script src=\"https://cdn.plot.ly/plotly-latest.min.js\"></script>    \n",
              "            <div id=\"d3dad886-4519-47d0-9d92-8c1e9365b767\" class=\"plotly-graph-div\" style=\"height:525px; width:100%;\"></div>\n",
              "            <script type=\"text/javascript\">\n",
              "                \n",
              "                    window.PLOTLYENV=window.PLOTLYENV || {};\n",
              "                    \n",
              "                if (document.getElementById(\"d3dad886-4519-47d0-9d92-8c1e9365b767\")) {\n",
              "                    Plotly.newPlot(\n",
              "                        'd3dad886-4519-47d0-9d92-8c1e9365b767',\n",
              "                        [{\"autobinx\": false, \"histnorm\": \"probability density\", \"legendgroup\": \"low debt rates groupings\", \"marker\": {\"color\": \"rgb(31, 119, 180)\"}, \"name\": \"low debt rates groupings\", \"opacity\": 0.7, \"type\": \"histogram\", \"x\": [1, 3, 0, 3, 1, 2, 0, 1, 1, 3, 1, 1, 2, 2, 3, 1, 1, 2, 1, 0, 1, 3, 3, 1, 3, 1, 1, 1, 1, 1, 3, 4, 0, 0, 1, 0, 4, 3, 0, 0, 2, 1, 2, 2, 2, 1, 1, 1, 1, 1, 1, 2, 2, 1, 1, 2, 3, 1, 1, 4, 1, 2, 4, 3, 1, 1, 3, 1, 3, 3, 2, 4, 1, 2, 1, 2, 1, 1, 1, 1, 1, 0, 4, 4, 1, 4, 3, 3, 0, 3, 4, 1, 1, 4, 4, 2, 2, 1, 1, 2, 4, 2, 1, 1, 1, 0, 1, 1, 2, 0, 2, 2, 4, 2, 1, 3, 1, 3, 2, 2, 1, 1, 4, 1, 4, 0, 4, 1, 1, 3, 1, 2, 0, 1, 3, 0, 1, 1, 3, 2, 1, 3, 1, 1, 2, 3, 4, 1, 1, 1, 1, 2, 1, 4, 0, 1, 0, 1, 1, 1, 3, 1, 0, 1, 1, 2, 3, 3, 1, 1, 1, 3, 4, 1, 3, 2, 1, 1, 3, 2, 2, 3, 1, 1, 2, 1, 1, 3, 3, 3, 1, 1, 2, 3, 3, 3, 1, 0, 3, 2, 1, 1, 2, 3, 4, 1, 0, 1, 1, 1, 1, 4, 1, 0, 2, 1, 2, 1, 2, 3, 1, 1, 3, 3, 2, 3, 2, 2, 0, 2, 1, 1, 0, 2, 3, 1, 2, 2, 1, 2, 1, 1, 1, 1, 0, 2, 2, 3, 0, 1, 3, 0, 4, 2, 2, 4, 1, 3, 1, 3, 1, 2, 1, 0, 1, 1, 4, 2, 4, 1, 1, 1, 2, 2, 0, 1, 1, 2, 1, 1, 1, 4, 2, 4, 2, 2, 2, 1, 4, 2, 0, 1, 2, 3, 0, 4, 3, 1, 0, 2, 4, 3, 1, 4, 4, 4, 1, 2, 2, 1, 4, 1, 1, 0, 2, 2, 3, 3, 3, 4, 1, 1, 0, 0, 2, 1, 2, 1, 4, 1, 4, 2, 1, 1, 2, 2, 1, 3, 2, 3, 1, 3, 3, 2, 0, 2, 3, 1, 1, 1, 1, 1, 1, 0, 2, 1, 0, 1, 1, 2, 1, 2, 3, 2, 1, 1, 3, 0, 1, 4, 2, 3, 3, 1, 3, 2, 4, 0, 1, 2, 1, 3, 1, 3, 0, 1, 3, 1, 1, 1, 2, 1, 3, 1, 1, 3, 1, 2, 2, 4, 1, 1, 1, 4, 2, 1, 1, 1, 1, 1, 3, 1, 1, 1, 2, 1, 4, 0, 2, 1, 1, 1, 4, 1, 1, 1, 1, 0, 2, 3, 3, 2, 1, 3, 4, 1, 2, 1, 1, 2, 2, 2, 1, 0, 1, 2, 2, 3, 2, 2, 4, 3, 2, 1, 3, 3, 3, 2, 1, 1, 1, 1, 1, 0, 3, 1, 2, 2, 1, 2, 4, 2, 1, 3, 4, 2, 0, 3, 3, 1, 2, 2, 3, 3, 1, 3, 0, 3, 3, 3, 3, 1, 1, 1, 3, 4, 3, 3, 2, 0, 2, 4, 2, 3, 1, 3, 1, 1, 1, 2, 0, 1, 4, 3, 3, 1, 3, 1, 1, 1, 3, 2, 4, 1, 1, 1, 1, 1, 4, 2, 2, 1, 2, 1, 2, 3, 2, 1, 1, 1, 3, 3, 4, 3, 2, 3, 2, 1, 2, 1, 2, 2, 1, 1, 1, 0, 1, 2, 1, 3, 0, 1, 2, 1, 1, 2, 2, 2, 0, 1, 1, 1, 4, 1, 3, 4, 1, 2, 1, 3, 3, 1, 3, 3, 0, 1, 1, 2, 1, 4, 3, 1, 1, 1, 4, 1, 2, 1, 3, 1, 0, 3, 1, 2, 3, 2, 3, 1, 2, 2, 3, 1], \"xaxis\": \"x\", \"xbins\": {\"end\": 4.0, \"size\": 1.0, \"start\": 0.0}, \"yaxis\": \"y\"}, {\"legendgroup\": \"low debt rates groupings\", \"marker\": {\"color\": \"rgb(31, 119, 180)\"}, \"mode\": \"lines\", \"name\": \"low debt rates groupings\", \"showlegend\": false, \"type\": \"scatter\", \"x\": [0.0, 0.008, 0.016, 0.024, 0.032, 0.04, 0.048, 0.056, 0.064, 0.072, 0.08, 0.088, 0.096, 0.104, 0.112, 0.12, 0.128, 0.136, 0.144, 0.152, 0.16, 0.168, 0.176, 0.184, 0.192, 0.2, 0.208, 0.216, 0.224, 0.232, 0.24, 0.248, 0.256, 0.264, 0.272, 0.28, 0.288, 0.296, 0.304, 0.312, 0.32, 0.328, 0.336, 0.344, 0.352, 0.36, 0.368, 0.376, 0.384, 0.392, 0.4, 0.408, 0.416, 0.424, 0.432, 0.44, 0.448, 0.456, 0.464, 0.472, 0.48, 0.488, 0.496, 0.504, 0.512, 0.52, 0.528, 0.536, 0.544, 0.552, 0.56, 0.568, 0.576, 0.584, 0.592, 0.6, 0.608, 0.616, 0.624, 0.632, 0.64, 0.648, 0.656, 0.664, 0.672, 0.68, 0.688, 0.696, 0.704, 0.712, 0.72, 0.728, 0.736, 0.744, 0.752, 0.76, 0.768, 0.776, 0.784, 0.792, 0.8, 0.808, 0.816, 0.824, 0.832, 0.84, 0.848, 0.856, 0.864, 0.872, 0.88, 0.888, 0.896, 0.904, 0.912, 0.92, 0.928, 0.936, 0.944, 0.952, 0.96, 0.968, 0.976, 0.984, 0.992, 1.0, 1.008, 1.016, 1.024, 1.032, 1.04, 1.048, 1.056, 1.064, 1.072, 1.08, 1.088, 1.096, 1.104, 1.112, 1.12, 1.128, 1.136, 1.144, 1.152, 1.16, 1.168, 1.176, 1.184, 1.192, 1.2, 1.208, 1.216, 1.224, 1.232, 1.24, 1.248, 1.256, 1.264, 1.272, 1.28, 1.288, 1.296, 1.304, 1.312, 1.32, 1.328, 1.336, 1.344, 1.352, 1.36, 1.368, 1.376, 1.384, 1.392, 1.4, 1.408, 1.416, 1.424, 1.432, 1.44, 1.448, 1.456, 1.464, 1.472, 1.48, 1.488, 1.496, 1.504, 1.512, 1.52, 1.528, 1.536, 1.544, 1.552, 1.56, 1.568, 1.576, 1.584, 1.592, 1.6, 1.608, 1.616, 1.624, 1.632, 1.64, 1.648, 1.656, 1.664, 1.672, 1.68, 1.688, 1.696, 1.704, 1.712, 1.72, 1.728, 1.736, 1.744, 1.752, 1.76, 1.768, 1.776, 1.784, 1.792, 1.8, 1.808, 1.816, 1.824, 1.832, 1.84, 1.848, 1.856, 1.864, 1.872, 1.88, 1.888, 1.896, 1.904, 1.912, 1.92, 1.928, 1.936, 1.944, 1.952, 1.96, 1.968, 1.976, 1.984, 1.992, 2.0, 2.008, 2.016, 2.024, 2.032, 2.04, 2.048, 2.056, 2.064, 2.072, 2.08, 2.088, 2.096, 2.104, 2.112, 2.12, 2.128, 2.136, 2.144, 2.152, 2.16, 2.168, 2.176, 2.184, 2.192, 2.2, 2.208, 2.216, 2.224, 2.232, 2.24, 2.248, 2.256, 2.264, 2.272, 2.28, 2.288, 2.296, 2.304, 2.312, 2.32, 2.328, 2.336, 2.344, 2.352, 2.36, 2.368, 2.376, 2.384, 2.392, 2.4, 2.408, 2.416, 2.424, 2.432, 2.44, 2.448, 2.456, 2.464, 2.472, 2.48, 2.488, 2.496, 2.504, 2.512, 2.52, 2.528, 2.536, 2.544, 2.552, 2.56, 2.568, 2.576, 2.584, 2.592, 2.6, 2.608, 2.616, 2.624, 2.632, 2.64, 2.648, 2.656, 2.664, 2.672, 2.68, 2.688, 2.696, 2.704, 2.712, 2.72, 2.728, 2.736, 2.744, 2.752, 2.76, 2.768, 2.776, 2.784, 2.792, 2.8, 2.808, 2.816, 2.824, 2.832, 2.84, 2.848, 2.856, 2.864, 2.872, 2.88, 2.888, 2.896, 2.904, 2.912, 2.92, 2.928, 2.936, 2.944, 2.952, 2.96, 2.968, 2.976, 2.984, 2.992, 3.0, 3.008, 3.016, 3.024, 3.032, 3.04, 3.048, 3.056, 3.064, 3.072, 3.08, 3.088, 3.096, 3.104, 3.112, 3.12, 3.128, 3.136, 3.144, 3.152, 3.16, 3.168, 3.176, 3.184, 3.192, 3.2, 3.208, 3.216, 3.224, 3.232, 3.24, 3.248, 3.256, 3.264, 3.272, 3.28, 3.288, 3.296, 3.304, 3.312, 3.32, 3.328, 3.336, 3.344, 3.352, 3.36, 3.368, 3.376, 3.384, 3.392, 3.4, 3.408, 3.416, 3.424, 3.432, 3.44, 3.448, 3.456, 3.464, 3.472, 3.48, 3.488, 3.496, 3.504, 3.512, 3.52, 3.528, 3.536, 3.544, 3.552, 3.56, 3.568, 3.576, 3.584, 3.592, 3.6, 3.608, 3.616, 3.624, 3.632, 3.64, 3.648, 3.656, 3.664, 3.672, 3.68, 3.688, 3.696, 3.704, 3.712, 3.72, 3.728, 3.736, 3.744, 3.752, 3.76, 3.768, 3.776, 3.784, 3.792, 3.8, 3.808, 3.816, 3.824, 3.832, 3.84, 3.848, 3.856, 3.864, 3.872, 3.88, 3.888, 3.896, 3.904, 3.912, 3.92, 3.928, 3.936, 3.944, 3.952, 3.96, 3.968, 3.976, 3.984, 3.992], \"xaxis\": \"x\", \"y\": [0.11355329402591419, 0.11378774161806078, 0.11397065930998163, 0.11410358086611636, 0.11418824641016141, 0.11422660301447303, 0.11422080475165267, 0.1141732122017109, 0.11408639140954725, 0.11396311228879953, 0.11380634646939158, 0.11361926458735098, 0.11340523301666154, 0.11316781004406751, 0.11291074148884597, 0.11263795577061694, 0.11235355842926277, 0.1120618261019802, 0.11176719996339426, 0.11147427863552206, 0.11118781057519177, 0.11091268594730103, 0.11065392799304455, 0.11041668390295763, 0.11020621520531879, 0.11002788768113388, 0.10988716081759754, 0.10978957681259784, 0.10974074914351019, 0.10974635071421772, 0.10981210159501341, 0.10994375637078384, 0.1101470911136597, 0.11042788999714677, 0.11079193156963206, 0.11124497470609923, 0.11179274425788775, 0.11244091642140086, 0.11319510384780741, 0.11406084051699575, 0.11504356640032899, 0.11614861193811103, 0.11738118235911367, 0.118746341871021, 0.12024899775222214, 0.12189388437702214, 0.12368554720802559, 0.12562832679118976, 0.12772634279080894, 0.12998347810348854, 0.13240336309197281, 0.13498935998148923, 0.1377445474630553, 0.1406717055499376, 0.14377330073514313, 0.14705147149944028, 0.15050801422092833, 0.15414436953858712, 0.1579616092235084, 0.1619604236126348, 0.16614110966076961, 0.17050355966736452, 0.17504725073511854, 0.17977123501770043, 0.18467413081393566, 0.18975411456554078, 0.1950089138149423, 0.2004358011788506, 0.20603158939207802, 0.21179262747455574, 0.2177147980726361, 0.22379351602352537, 0.23002372818910033, 0.23639991460239212, 0.24291609096669112, 0.24956581254352514, 0.25634217946170446, 0.26323784347521134, 0.2702450161929604, 0.27735547879836636, 0.2845605932712664, 0.2918513151190533, 0.2992182076179229, 0.3066514575589429, 0.3141408924872389, 0.32167599941599817, 0.32924594499025356, 0.3368395970685526, 0.34444554768368735, 0.35205213733669705, 0.3596474805713967, 0.3672194927697752, 0.37475591810179154, 0.38224435855641264, 0.389672303974247, 0.3970271629958412, 0.4042962948337173, 0.4114670417705263, 0.4185267622803663, 0.4254628646653676, 0.43226284109514923, 0.43891430193271236, 0.44540501022681755, 0.45172291624789795, 0.4578561919421433, 0.4637932651765614, 0.46952285364660534, 0.4750339983173734, 0.4803160962694508, 0.48535893282117615, 0.49015271280050016, 0.4946880908416368, 0.4989562005844121, 0.5029486826575588, 0.5066577113311964, 0.5100760197283447, 0.5131969234905234, 0.5160143427982794, 0.5185228226538091, 0.5207175513396854, 0.5225943769750137, 0.524149822098094, 0.5253810962128104, 0.5262861062444466, 0.5268634648594239, 0.5271124966124713, 0.527033241893971, 0.5266264586595719, 0.5258936219336148, 0.5248369210873794, 0.5234592549026124, 0.521764224440151, 0.5197561237426955, 0.5174399284098016, 0.5148212820919761, 0.5119064809592478, 0.5087024562077583, 0.5052167546756898, 0.5014575176472083, 0.49743345792998206, 0.49315383529823287, 0.4886284303991294, 0.48386751722563826, 0.4788818342636654, 0.4736825544254399, 0.4682812538845972, 0.46268987993129856, 0.4569207179679716, 0.4509863577678762, 0.444899659119689, 0.438673716981665, 0.4323218262687007, 0.42585744639478, 0.41929416569188543, 0.4126456658244897, 0.40592568631626713, 0.39914798930267936, 0.39232632461965294, 0.3854743953346988, 0.37860582382256036, 0.371734118482867, 0.3648726411923494, 0.35803457557896884, 0.35123289619989606, 0.3444803386996608, 0.33778937101903067, 0.33117216571931996, 0.3246405734809091, 0.3182060978287934, 0.3118798711320635, 0.30567263191832594, 0.2995947035382832, 0.29365597421002076, 0.2878658784670121, 0.28223338002851683, 0.2767669561058866, 0.2714745831533819, 0.26636372406740677, 0.26144131683366006, 0.25671376461753337, 0.25218692728922293, 0.24786611437143177, 0.24375607939423877, 0.2398610156387073, 0.2361845532480836, 0.23272975768299747, 0.2294991294949124, 0.2264946053901749, 0.22371756055535985, 0.22116881221320087, 0.21884862437719932, 0.2167567137720216, 0.21489225688598734, 0.21325389812131326, 0.2118397590072811, 0.21064744844112623, 0.20967407392117024, 0.20891625373653325, 0.20837013007762883, 0.20803138303155552, 0.2078952454264287, 0.20795651848862942, 0.20820958827686747, 0.20864844285684336, 0.20926669018014074, 0.21005757663077462, 0.21101400620254213, 0.21212856026998, 0.21339351791530384, 0.21480087677319645, 0.21634237435471745, 0.21800950981093076, 0.21979356609608436, 0.22168563248934253, 0.22367662743316452, 0.22575732164545503, 0.22791836146159383, 0.230150292361395, 0.2324435826349618, 0.2347886471403128, 0.23717587110456298, 0.23959563391938288, 0.24203833288043183, 0.24449440681949455, 0.24695435957716358, 0.24940878326311586, 0.2518483812503503, 0.2542639908492108, 0.2566466056066172, 0.2589873971756991, 0.2612777367009766, 0.26350921566437935, 0.26567366613775123, 0.2677631803880681, 0.26977012978239767, 0.2716871829406817, 0.27350732308570846, 0.2752238645411774, 0.27683046833055214, 0.2783211568314268, 0.2796903274424163, 0.2809327652221054, 0.28204365446234664, 0.28301858916118133, 0.28385358236385394, 0.28454507434378523, 0.2850899395989507, 0.28548549264286, 0.2857294925732282, 0.2858201464054583, 0.28575611116218297, 0.28553649471433656, 0.28516085537349933, 0.2846292002395751, 0.28394198231218726, 0.2831000963784893, 0.28210487369436027, 0.2809580754801637, 0.27966188525636987, 0.27821890004834604, 0.2766321204934954, 0.27490493988763304, 0.2730411322110228, 0.2710448391778324, 0.2689205563558804, 0.26667311840642655, 0.26430768349639483, 0.26182971693778284, 0.25924497411111436, 0.25655948273160145, 0.25377952451821745, 0.2509116163271108, 0.24796249081173524, 0.24493907667271775, 0.24184847856083633, 0.2386979566965508, 0.23549490626931296, 0.23224683667939217, 0.22896135068420606, 0.22564612351014302, 0.22230888198962248, 0.21895738378168622, 0.21559939673274087, 0.21224267843222372, 0.2088949560159443, 0.20556390626767623, 0.2022571360672775, 0.19898216323120366, 0.19574639778878067, 0.19255712373503042, 0.189421481298226, 0.1863464497577102, 0.1833388308448449, 0.1804052327573203, 0.17755205481442518, 0.1747854727782992, 0.17211142486367093, 0.16953559845612895, 0.1670634175566109, 0.16470003096752278, 0.16245030123373175, 0.16031879434962037, 0.15830977024145407, 0.15642717403249307, 0.15467462809658963, 0.1530554249044452, 0.1515725206652548, 0.15022852976514767, 0.14902572000262468, 0.14796600862010376, 0.14705095912969335, 0.146281778930424, 0.1456593177133649, 0.14518406665032532, 0.14485615836118113, 0.14467536765426153, 0.1446411130336703, 0.1447524589668802, 0.1450081189054284, 0.14540645905102922, 0.1459455028589018, 0.14662293626957792, 0.1474361136598828, 0.14838206450317457, 0.14945750072826747, 0.15065882476573786, 0.15198213826952406, 0.15342325150086278, 0.1549776933606549, 0.15664072205532129, 0.15840733638008925, 0.1602722876024354, 0.16223009192711688, 0.16427504352283562, 0.16640122808911212, 0.1686025369404021, 0.17087268158287217, 0.17320520875757553, 0.17559351592203454, 0.17803086714046865, 0.1805104093511044, 0.1830251889771856, 0.1855681688464852, 0.1881322453823176, 0.19071026602727106, 0.19329504685915758, 0.19587939035700935, 0.19845610327336863, 0.20101801456763427, 0.2035579933538515, 0.20606896681510004, 0.20854393803553903, 0.21097600370024477, 0.2133583716122247, 0.2156843779754385, 0.21794750439230687, 0.22014139452405046, 0.2222598703622985, 0.22429694806073125, 0.2262468532760917, 0.22810403596871237, 0.22986318461377847, 0.23151923977585404, 0.2330674070007729, 0.23450316898080997, 0.2358222969511036, 0.2370208612775987, 0.2380952411993043, 0.23904213369039767, 0.2398585614106588, 0.24054187971585883, 0.2410897827030398, 0.2415003082691055, 0.24177184216475597, 0.24190312102954264, 0.2418932343976598, 0.24174162566801144, 0.24144809203606904, 0.24101278338905024, 0.24043620016997147, 0.23971919022013927, 0.23886294461362098, 0.23786899250115273, 0.23673919498477358, 0.23547573804820965, 0.23408112457163077, 0.2325581654628603, 0.23090996994040872, 0.2291399350068054, 0.22725173415360414, 0.22524930534212284, 0.22313683830643055, 0.22091876122729817, 0.2185997268277882, 0.21618459794284203, 0.21367843261664637, 0.2110864687826997, 0.20841410858237128, 0.20566690237832697, 0.20285053251950746, 0.1999707969143816, 0.1970335924689603, 0.19404489844555742, 0.19101075979753673, 0.1879372705342836, 0.18483055716940794, 0.18169676230374363, 0.17854202839304556, 0.175372481748442, 0.17219421681568642, 0.16901328077706762, 0.16583565851752394, 0.16266725799407683, 0.15951389604515448, 0.1563812846737549, 0.1532750178357184, 0.15020055876164343, 0.1471632278382206, 0.14416819107199996, 0.14122044915584048, 0.13832482715555947, 0.13548596483161005, 0.13270830760797445, 0.1299960981978915, 0.1273533688935588, 0.12478393452455025, 0.12229138608740452, 0.11987908504666671, 0.11755015830560622, 0.1153074938429035, 0.11315373700980275, 0.11109128748055677, 0.10912229684746286, 0.10724866685039024, 0.10547204822944414, 0.10379384018828103, 0.10221519045459099, 0.10073699592339633, 0.0993599038680569, 0.09808431370323671, 0.09691037928355452, 0.09583801172120564, 0.094866882705498, 0.0939964283069869, 0.09322585324869857, 0.09255413562680748, 0.09198003206305953, 0.0915020832712006, 0.09111862001967488, 0.0908277694728879, 0.09062746189337258, 0.0905154376872511, 0.09048925477543925, 0.0905462962730853, 0.0906837784597688, 0.09089875902299836, 0.09118814555753497, 0.09154870430303018, 0.09197706910239531, 0.09246975056321484, 0.09302314540437569, 0.09363354596991123, 0.09429714989184629, 0.09501006988358826, 0.09576834364513563, 0.09656794386107244, 0.0974047882719941, 0.09827474979966706, 0.09917366670586744, 0.10009735276448217, 0.1010416074260944, 0.10200222595391562, 0.10297500950959049, 0.10395577516707886, 0.10494036583253048, 0.10592466004781903, 0.10690458165519903, 0.10787610930039529, 0.10883528575135061, 0.10977822700983599, 0.11070113119318385, 0.11160028716354418, 0.11247208288229105, 0.1133130134675246, 0.11411968893303394, 0.11488884158760322, 0.11561733307416681, 0.11630216102904803, 0.11694046534235249, 0.11752953400152819, 0.11806680850115528, 0.11854988880317957, 0.11897653783306071, 0.11934468549865439, 0.11965243222009656, 0.11989805196048639, 0.12007999474877884, 0.12019688868798313, 0.12024754144351414, 0.12023094120835187], \"yaxis\": \"y\"}, {\"legendgroup\": \"low debt rates groupings\", \"marker\": {\"color\": \"rgb(31, 119, 180)\", \"symbol\": \"line-ns-open\"}, \"mode\": \"markers\", \"name\": \"low debt rates groupings\", \"showlegend\": false, \"type\": \"scatter\", \"x\": [1, 3, 0, 3, 1, 2, 0, 1, 1, 3, 1, 1, 2, 2, 3, 1, 1, 2, 1, 0, 1, 3, 3, 1, 3, 1, 1, 1, 1, 1, 3, 4, 0, 0, 1, 0, 4, 3, 0, 0, 2, 1, 2, 2, 2, 1, 1, 1, 1, 1, 1, 2, 2, 1, 1, 2, 3, 1, 1, 4, 1, 2, 4, 3, 1, 1, 3, 1, 3, 3, 2, 4, 1, 2, 1, 2, 1, 1, 1, 1, 1, 0, 4, 4, 1, 4, 3, 3, 0, 3, 4, 1, 1, 4, 4, 2, 2, 1, 1, 2, 4, 2, 1, 1, 1, 0, 1, 1, 2, 0, 2, 2, 4, 2, 1, 3, 1, 3, 2, 2, 1, 1, 4, 1, 4, 0, 4, 1, 1, 3, 1, 2, 0, 1, 3, 0, 1, 1, 3, 2, 1, 3, 1, 1, 2, 3, 4, 1, 1, 1, 1, 2, 1, 4, 0, 1, 0, 1, 1, 1, 3, 1, 0, 1, 1, 2, 3, 3, 1, 1, 1, 3, 4, 1, 3, 2, 1, 1, 3, 2, 2, 3, 1, 1, 2, 1, 1, 3, 3, 3, 1, 1, 2, 3, 3, 3, 1, 0, 3, 2, 1, 1, 2, 3, 4, 1, 0, 1, 1, 1, 1, 4, 1, 0, 2, 1, 2, 1, 2, 3, 1, 1, 3, 3, 2, 3, 2, 2, 0, 2, 1, 1, 0, 2, 3, 1, 2, 2, 1, 2, 1, 1, 1, 1, 0, 2, 2, 3, 0, 1, 3, 0, 4, 2, 2, 4, 1, 3, 1, 3, 1, 2, 1, 0, 1, 1, 4, 2, 4, 1, 1, 1, 2, 2, 0, 1, 1, 2, 1, 1, 1, 4, 2, 4, 2, 2, 2, 1, 4, 2, 0, 1, 2, 3, 0, 4, 3, 1, 0, 2, 4, 3, 1, 4, 4, 4, 1, 2, 2, 1, 4, 1, 1, 0, 2, 2, 3, 3, 3, 4, 1, 1, 0, 0, 2, 1, 2, 1, 4, 1, 4, 2, 1, 1, 2, 2, 1, 3, 2, 3, 1, 3, 3, 2, 0, 2, 3, 1, 1, 1, 1, 1, 1, 0, 2, 1, 0, 1, 1, 2, 1, 2, 3, 2, 1, 1, 3, 0, 1, 4, 2, 3, 3, 1, 3, 2, 4, 0, 1, 2, 1, 3, 1, 3, 0, 1, 3, 1, 1, 1, 2, 1, 3, 1, 1, 3, 1, 2, 2, 4, 1, 1, 1, 4, 2, 1, 1, 1, 1, 1, 3, 1, 1, 1, 2, 1, 4, 0, 2, 1, 1, 1, 4, 1, 1, 1, 1, 0, 2, 3, 3, 2, 1, 3, 4, 1, 2, 1, 1, 2, 2, 2, 1, 0, 1, 2, 2, 3, 2, 2, 4, 3, 2, 1, 3, 3, 3, 2, 1, 1, 1, 1, 1, 0, 3, 1, 2, 2, 1, 2, 4, 2, 1, 3, 4, 2, 0, 3, 3, 1, 2, 2, 3, 3, 1, 3, 0, 3, 3, 3, 3, 1, 1, 1, 3, 4, 3, 3, 2, 0, 2, 4, 2, 3, 1, 3, 1, 1, 1, 2, 0, 1, 4, 3, 3, 1, 3, 1, 1, 1, 3, 2, 4, 1, 1, 1, 1, 1, 4, 2, 2, 1, 2, 1, 2, 3, 2, 1, 1, 1, 3, 3, 4, 3, 2, 3, 2, 1, 2, 1, 2, 2, 1, 1, 1, 0, 1, 2, 1, 3, 0, 1, 2, 1, 1, 2, 2, 2, 0, 1, 1, 1, 4, 1, 3, 4, 1, 2, 1, 3, 3, 1, 3, 3, 0, 1, 1, 2, 1, 4, 3, 1, 1, 1, 4, 1, 2, 1, 3, 1, 0, 3, 1, 2, 3, 2, 3, 1, 2, 2, 3, 1], \"xaxis\": \"x\", \"y\": [\"low debt rates groupings\", \"low debt rates groupings\", \"low debt rates groupings\", \"low debt rates groupings\", \"low debt rates groupings\", \"low debt rates groupings\", \"low debt rates groupings\", \"low debt rates groupings\", \"low debt rates groupings\", \"low debt rates groupings\", \"low debt rates groupings\", \"low debt rates groupings\", \"low debt rates groupings\", \"low debt rates groupings\", \"low debt rates groupings\", \"low debt rates groupings\", \"low debt rates groupings\", \"low debt rates groupings\", \"low debt rates groupings\", \"low debt rates groupings\", \"low debt rates groupings\", \"low debt rates groupings\", \"low debt rates groupings\", \"low debt rates groupings\", \"low debt rates groupings\", \"low debt rates groupings\", \"low debt rates groupings\", \"low debt rates groupings\", \"low debt rates groupings\", \"low debt rates groupings\", \"low debt rates groupings\", \"low debt rates groupings\", \"low debt rates groupings\", \"low debt rates groupings\", \"low debt rates groupings\", \"low debt rates groupings\", \"low debt rates groupings\", \"low debt rates groupings\", \"low debt rates groupings\", \"low debt rates groupings\", \"low debt rates groupings\", \"low debt rates groupings\", \"low debt rates groupings\", \"low debt rates groupings\", \"low debt rates groupings\", \"low debt rates groupings\", \"low debt rates groupings\", \"low debt rates groupings\", \"low debt rates groupings\", \"low debt rates groupings\", \"low debt rates groupings\", \"low debt rates groupings\", \"low debt rates groupings\", \"low debt rates groupings\", \"low debt rates groupings\", \"low debt rates groupings\", \"low debt rates groupings\", \"low debt rates groupings\", \"low debt rates groupings\", \"low debt rates groupings\", \"low debt rates groupings\", \"low debt rates groupings\", \"low debt rates groupings\", \"low debt rates groupings\", \"low debt rates groupings\", \"low debt rates groupings\", \"low debt rates groupings\", \"low debt rates groupings\", \"low debt rates groupings\", \"low debt rates groupings\", \"low debt rates groupings\", \"low debt rates groupings\", \"low debt rates groupings\", \"low debt rates groupings\", \"low debt rates groupings\", \"low debt rates groupings\", \"low debt rates groupings\", \"low debt rates groupings\", \"low debt rates groupings\", \"low debt rates groupings\", \"low debt rates groupings\", \"low debt rates groupings\", \"low debt rates groupings\", \"low debt rates groupings\", \"low debt rates groupings\", \"low debt rates groupings\", \"low debt rates groupings\", \"low debt rates groupings\", \"low debt rates groupings\", \"low debt rates groupings\", \"low debt rates groupings\", \"low debt rates groupings\", \"low debt rates groupings\", \"low debt rates groupings\", \"low debt rates groupings\", \"low debt rates groupings\", \"low debt rates groupings\", \"low debt rates groupings\", \"low debt rates groupings\", \"low debt rates groupings\", \"low debt rates groupings\", \"low debt rates groupings\", \"low debt rates groupings\", \"low debt rates groupings\", \"low debt rates groupings\", \"low debt rates groupings\", \"low debt rates groupings\", \"low debt rates groupings\", \"low debt rates groupings\", \"low debt rates groupings\", \"low debt rates groupings\", \"low debt rates groupings\", \"low debt rates groupings\", \"low debt rates groupings\", \"low debt rates groupings\", \"low debt rates groupings\", \"low debt rates groupings\", \"low debt rates groupings\", \"low debt rates groupings\", \"low debt rates groupings\", \"low debt rates groupings\", \"low debt rates groupings\", \"low debt rates groupings\", \"low debt rates groupings\", \"low debt rates groupings\", \"low debt rates groupings\", \"low debt rates groupings\", \"low debt rates groupings\", \"low debt rates groupings\", \"low debt rates groupings\", \"low debt rates groupings\", \"low debt rates groupings\", \"low debt rates groupings\", \"low debt rates groupings\", \"low debt rates groupings\", \"low debt rates groupings\", \"low debt rates groupings\", \"low debt rates groupings\", \"low debt rates groupings\", \"low debt rates groupings\", \"low debt rates groupings\", \"low debt rates groupings\", \"low debt rates groupings\", \"low debt rates groupings\", \"low debt rates groupings\", \"low debt rates groupings\", \"low debt rates groupings\", \"low debt rates groupings\", \"low debt rates groupings\", \"low debt rates groupings\", \"low debt rates groupings\", \"low debt rates groupings\", \"low debt rates groupings\", \"low debt rates groupings\", \"low debt rates groupings\", \"low debt rates groupings\", \"low debt rates groupings\", \"low debt rates groupings\", \"low debt rates groupings\", \"low debt rates groupings\", \"low debt rates groupings\", \"low debt rates groupings\", \"low debt rates groupings\", \"low debt rates groupings\", \"low debt rates groupings\", \"low debt rates groupings\", \"low debt rates groupings\", \"low debt rates groupings\", \"low debt rates groupings\", \"low debt rates groupings\", \"low debt rates groupings\", \"low debt rates groupings\", \"low debt rates groupings\", \"low debt rates groupings\", \"low debt rates groupings\", \"low debt rates groupings\", \"low debt rates groupings\", \"low debt rates groupings\", \"low debt rates groupings\", \"low debt rates groupings\", \"low debt rates groupings\", \"low debt rates groupings\", \"low debt rates groupings\", \"low debt rates groupings\", \"low debt rates groupings\", \"low debt rates groupings\", \"low debt rates groupings\", \"low debt rates groupings\", \"low debt rates groupings\", \"low debt rates groupings\", \"low debt rates groupings\", \"low debt rates groupings\", \"low debt rates groupings\", \"low debt rates groupings\", \"low debt rates groupings\", \"low debt rates groupings\", \"low debt rates groupings\", \"low debt rates groupings\", \"low debt rates groupings\", \"low debt rates groupings\", \"low debt rates groupings\", \"low debt rates groupings\", \"low debt rates groupings\", \"low debt rates groupings\", \"low debt rates groupings\", \"low debt rates groupings\", \"low debt rates groupings\", \"low debt rates groupings\", \"low debt rates groupings\", \"low debt rates groupings\", \"low debt rates groupings\", \"low debt rates groupings\", \"low debt rates groupings\", \"low debt rates groupings\", \"low debt rates groupings\", \"low debt rates groupings\", \"low debt rates groupings\", \"low debt rates groupings\", \"low debt rates groupings\", \"low debt rates groupings\", \"low debt rates groupings\", \"low debt rates groupings\", \"low debt rates groupings\", \"low debt rates groupings\", \"low debt rates groupings\", \"low debt rates groupings\", \"low debt rates groupings\", \"low debt rates groupings\", \"low debt rates groupings\", \"low debt rates groupings\", \"low debt rates groupings\", \"low debt rates groupings\", \"low debt rates groupings\", \"low debt rates groupings\", \"low debt rates groupings\", \"low debt rates groupings\", \"low debt rates groupings\", \"low debt rates groupings\", \"low debt rates groupings\", \"low debt rates groupings\", \"low debt rates groupings\", \"low debt rates groupings\", \"low debt rates groupings\", \"low debt rates groupings\", \"low debt rates groupings\", \"low debt rates groupings\", \"low debt rates groupings\", \"low debt rates groupings\", \"low debt rates groupings\", \"low debt rates groupings\", \"low debt rates groupings\", \"low debt rates groupings\", \"low debt rates groupings\", \"low debt rates groupings\", \"low debt rates groupings\", \"low debt rates groupings\", \"low debt rates groupings\", \"low debt rates groupings\", \"low debt rates groupings\", \"low debt rates groupings\", \"low debt rates groupings\", \"low debt rates groupings\", \"low debt rates groupings\", \"low debt rates groupings\", \"low debt rates groupings\", \"low debt rates groupings\", \"low debt rates groupings\", \"low debt rates groupings\", \"low debt rates groupings\", \"low debt rates groupings\", \"low debt rates groupings\", \"low debt rates groupings\", \"low debt rates groupings\", \"low debt rates groupings\", \"low debt rates groupings\", \"low debt rates groupings\", \"low debt rates groupings\", \"low debt rates groupings\", \"low debt rates groupings\", \"low debt rates groupings\", \"low debt rates groupings\", \"low debt rates groupings\", \"low debt rates groupings\", \"low debt rates groupings\", \"low debt rates groupings\", \"low debt rates groupings\", \"low debt rates groupings\", \"low debt rates groupings\", \"low debt rates groupings\", \"low debt rates groupings\", \"low debt rates groupings\", \"low debt rates groupings\", \"low debt rates groupings\", \"low debt rates groupings\", \"low debt rates groupings\", \"low debt rates groupings\", \"low debt rates groupings\", \"low debt rates groupings\", \"low debt rates groupings\", \"low debt rates groupings\", \"low debt rates groupings\", \"low debt rates groupings\", \"low debt rates groupings\", \"low debt rates groupings\", \"low debt rates groupings\", \"low debt rates groupings\", \"low debt rates groupings\", \"low debt rates groupings\", \"low debt rates groupings\", \"low debt rates groupings\", \"low debt rates groupings\", \"low debt rates groupings\", \"low debt rates groupings\", \"low debt rates groupings\", \"low debt rates groupings\", \"low debt rates groupings\", \"low debt rates groupings\", \"low debt rates groupings\", \"low debt rates groupings\", \"low debt rates groupings\", \"low debt rates groupings\", \"low debt rates groupings\", \"low debt rates groupings\", \"low debt rates groupings\", \"low debt rates groupings\", \"low debt rates groupings\", \"low debt rates groupings\", \"low debt rates groupings\", \"low debt rates groupings\", \"low debt rates groupings\", \"low debt rates groupings\", \"low debt rates groupings\", \"low debt rates groupings\", \"low debt rates groupings\", \"low debt rates groupings\", \"low debt rates groupings\", \"low debt rates groupings\", \"low debt rates groupings\", \"low debt rates groupings\", \"low debt rates groupings\", \"low debt rates groupings\", \"low debt rates groupings\", \"low debt rates groupings\", \"low debt rates groupings\", \"low debt rates groupings\", \"low debt rates groupings\", \"low debt rates groupings\", \"low debt rates groupings\", \"low debt rates groupings\", \"low debt rates groupings\", \"low debt rates groupings\", \"low debt rates groupings\", \"low debt rates groupings\", \"low debt rates groupings\", \"low debt rates groupings\", \"low debt rates groupings\", \"low debt rates groupings\", \"low debt rates groupings\", \"low debt rates groupings\", \"low debt rates groupings\", \"low debt rates groupings\", \"low debt rates groupings\", \"low debt rates groupings\", \"low debt rates groupings\", \"low debt rates groupings\", \"low debt rates groupings\", \"low debt rates groupings\", \"low debt rates groupings\", \"low debt rates groupings\", \"low debt rates groupings\", \"low debt rates groupings\", \"low debt rates groupings\", \"low debt rates groupings\", \"low debt rates groupings\", \"low debt rates groupings\", \"low debt rates groupings\", \"low debt rates groupings\", \"low debt rates groupings\", \"low debt rates groupings\", \"low debt rates groupings\", \"low debt rates groupings\", \"low debt rates groupings\", \"low debt rates groupings\", \"low debt rates groupings\", \"low debt rates groupings\", \"low debt rates groupings\", \"low debt rates groupings\", \"low debt rates groupings\", \"low debt rates groupings\", \"low debt rates groupings\", \"low debt rates groupings\", \"low debt rates groupings\", \"low debt rates groupings\", \"low debt rates groupings\", \"low debt rates groupings\", \"low debt rates groupings\", \"low debt rates groupings\", \"low debt rates groupings\", \"low debt rates groupings\", \"low debt rates groupings\", \"low debt rates groupings\", \"low debt rates groupings\", \"low debt rates groupings\", \"low debt rates groupings\", \"low debt rates groupings\", \"low debt rates groupings\", \"low debt rates groupings\", \"low debt rates groupings\", \"low debt rates groupings\", \"low debt rates groupings\", \"low debt rates groupings\", \"low debt rates groupings\", \"low debt rates groupings\", \"low debt rates groupings\", \"low debt rates groupings\", \"low debt rates groupings\", \"low debt rates groupings\", \"low debt rates groupings\", \"low debt rates groupings\", \"low debt rates groupings\", \"low debt rates groupings\", \"low debt rates groupings\", \"low debt rates groupings\", \"low debt rates groupings\", \"low debt rates groupings\", \"low debt rates groupings\", \"low debt rates groupings\", \"low debt rates groupings\", \"low debt rates groupings\", \"low debt rates groupings\", \"low debt rates groupings\", \"low debt rates groupings\", \"low debt rates groupings\", \"low debt rates groupings\", \"low debt rates groupings\", \"low debt rates groupings\", \"low debt rates groupings\", \"low debt rates groupings\", \"low debt rates groupings\", \"low debt rates groupings\", \"low debt rates groupings\", \"low debt rates groupings\", \"low debt rates groupings\", \"low debt rates groupings\", \"low debt rates groupings\", \"low debt rates groupings\", \"low debt rates groupings\", \"low debt rates groupings\", \"low debt rates groupings\", \"low debt rates groupings\", \"low debt rates groupings\", \"low debt rates groupings\", \"low debt rates groupings\", \"low debt rates groupings\", \"low debt rates groupings\", \"low debt rates groupings\", \"low debt rates groupings\", \"low debt rates groupings\", \"low debt rates groupings\", \"low debt rates groupings\", \"low debt rates groupings\", \"low debt rates groupings\", \"low debt rates groupings\", \"low debt rates groupings\", \"low debt rates groupings\", \"low debt rates groupings\", \"low debt rates groupings\", \"low debt rates groupings\", \"low debt rates groupings\", \"low debt rates groupings\", \"low debt rates groupings\", \"low debt rates groupings\", \"low debt rates groupings\", \"low debt rates groupings\", \"low debt rates groupings\", \"low debt rates groupings\", \"low debt rates groupings\", \"low debt rates groupings\", \"low debt rates groupings\", \"low debt rates groupings\", \"low debt rates groupings\", \"low debt rates groupings\", \"low debt rates groupings\", \"low debt rates groupings\", \"low debt rates groupings\", \"low debt rates groupings\", \"low debt rates groupings\", \"low debt rates groupings\", \"low debt rates groupings\", \"low debt rates groupings\", \"low debt rates groupings\", \"low debt rates groupings\", \"low debt rates groupings\", \"low debt rates groupings\", \"low debt rates groupings\", \"low debt rates groupings\", \"low debt rates groupings\", \"low debt rates groupings\", \"low debt rates groupings\", \"low debt rates groupings\", \"low debt rates groupings\", \"low debt rates groupings\", \"low debt rates groupings\", \"low debt rates groupings\", \"low debt rates groupings\", \"low debt rates groupings\", \"low debt rates groupings\", \"low debt rates groupings\", \"low debt rates groupings\", \"low debt rates groupings\", \"low debt rates groupings\", \"low debt rates groupings\", \"low debt rates groupings\", \"low debt rates groupings\", \"low debt rates groupings\", \"low debt rates groupings\", \"low debt rates groupings\", \"low debt rates groupings\", \"low debt rates groupings\", \"low debt rates groupings\", \"low debt rates groupings\", \"low debt rates groupings\", \"low debt rates groupings\", \"low debt rates groupings\", \"low debt rates groupings\", \"low debt rates groupings\", \"low debt rates groupings\", \"low debt rates groupings\", \"low debt rates groupings\", \"low debt rates groupings\", \"low debt rates groupings\", \"low debt rates groupings\", \"low debt rates groupings\", \"low debt rates groupings\", \"low debt rates groupings\", \"low debt rates groupings\", \"low debt rates groupings\", \"low debt rates groupings\", \"low debt rates groupings\", \"low debt rates groupings\", \"low debt rates groupings\", \"low debt rates groupings\", \"low debt rates groupings\", \"low debt rates groupings\", \"low debt rates groupings\", \"low debt rates groupings\", \"low debt rates groupings\", \"low debt rates groupings\", \"low debt rates groupings\", \"low debt rates groupings\", \"low debt rates groupings\", \"low debt rates groupings\", \"low debt rates groupings\", \"low debt rates groupings\", \"low debt rates groupings\", \"low debt rates groupings\", \"low debt rates groupings\", \"low debt rates groupings\", \"low debt rates groupings\", \"low debt rates groupings\", \"low debt rates groupings\", \"low debt rates groupings\", \"low debt rates groupings\", \"low debt rates groupings\", \"low debt rates groupings\", \"low debt rates groupings\", \"low debt rates groupings\", \"low debt rates groupings\", \"low debt rates groupings\", \"low debt rates groupings\", \"low debt rates groupings\", \"low debt rates groupings\", \"low debt rates groupings\", \"low debt rates groupings\", \"low debt rates groupings\", \"low debt rates groupings\", \"low debt rates groupings\", \"low debt rates groupings\", \"low debt rates groupings\", \"low debt rates groupings\", \"low debt rates groupings\", \"low debt rates groupings\", \"low debt rates groupings\", \"low debt rates groupings\", \"low debt rates groupings\", \"low debt rates groupings\", \"low debt rates groupings\", \"low debt rates groupings\", \"low debt rates groupings\", \"low debt rates groupings\", \"low debt rates groupings\", \"low debt rates groupings\", \"low debt rates groupings\", \"low debt rates groupings\", \"low debt rates groupings\", \"low debt rates groupings\", \"low debt rates groupings\", \"low debt rates groupings\", \"low debt rates groupings\", \"low debt rates groupings\", \"low debt rates groupings\", \"low debt rates groupings\", \"low debt rates groupings\", \"low debt rates groupings\", \"low debt rates groupings\", \"low debt rates groupings\", \"low debt rates groupings\", \"low debt rates groupings\", \"low debt rates groupings\", \"low debt rates groupings\", \"low debt rates groupings\", \"low debt rates groupings\"], \"yaxis\": \"y2\"}],\n",
              "                        {\"barmode\": \"overlay\", \"hovermode\": \"closest\", \"legend\": {\"traceorder\": \"reversed\"}, \"template\": {\"data\": {\"bar\": [{\"error_x\": {\"color\": \"#2a3f5f\"}, \"error_y\": {\"color\": \"#2a3f5f\"}, \"marker\": {\"line\": {\"color\": \"#E5ECF6\", \"width\": 0.5}}, \"type\": \"bar\"}], \"barpolar\": [{\"marker\": {\"line\": {\"color\": \"#E5ECF6\", \"width\": 0.5}}, \"type\": \"barpolar\"}], \"carpet\": [{\"aaxis\": {\"endlinecolor\": \"#2a3f5f\", \"gridcolor\": \"white\", \"linecolor\": \"white\", \"minorgridcolor\": \"white\", \"startlinecolor\": \"#2a3f5f\"}, \"baxis\": {\"endlinecolor\": \"#2a3f5f\", \"gridcolor\": \"white\", \"linecolor\": \"white\", \"minorgridcolor\": \"white\", \"startlinecolor\": \"#2a3f5f\"}, \"type\": \"carpet\"}], \"choropleth\": [{\"colorbar\": {\"outlinewidth\": 0, \"ticks\": \"\"}, \"type\": \"choropleth\"}], \"contour\": [{\"colorbar\": {\"outlinewidth\": 0, \"ticks\": \"\"}, \"colorscale\": [[0.0, \"#0d0887\"], [0.1111111111111111, \"#46039f\"], [0.2222222222222222, \"#7201a8\"], [0.3333333333333333, \"#9c179e\"], [0.4444444444444444, \"#bd3786\"], [0.5555555555555556, \"#d8576b\"], [0.6666666666666666, \"#ed7953\"], [0.7777777777777778, \"#fb9f3a\"], [0.8888888888888888, \"#fdca26\"], [1.0, \"#f0f921\"]], \"type\": \"contour\"}], \"contourcarpet\": [{\"colorbar\": {\"outlinewidth\": 0, \"ticks\": \"\"}, \"type\": \"contourcarpet\"}], \"heatmap\": [{\"colorbar\": {\"outlinewidth\": 0, \"ticks\": \"\"}, \"colorscale\": [[0.0, \"#0d0887\"], [0.1111111111111111, \"#46039f\"], [0.2222222222222222, \"#7201a8\"], [0.3333333333333333, \"#9c179e\"], [0.4444444444444444, \"#bd3786\"], [0.5555555555555556, \"#d8576b\"], [0.6666666666666666, \"#ed7953\"], [0.7777777777777778, \"#fb9f3a\"], [0.8888888888888888, \"#fdca26\"], [1.0, \"#f0f921\"]], \"type\": \"heatmap\"}], \"heatmapgl\": [{\"colorbar\": {\"outlinewidth\": 0, \"ticks\": \"\"}, \"colorscale\": [[0.0, \"#0d0887\"], [0.1111111111111111, \"#46039f\"], [0.2222222222222222, \"#7201a8\"], [0.3333333333333333, \"#9c179e\"], [0.4444444444444444, \"#bd3786\"], [0.5555555555555556, \"#d8576b\"], [0.6666666666666666, \"#ed7953\"], [0.7777777777777778, \"#fb9f3a\"], [0.8888888888888888, \"#fdca26\"], [1.0, \"#f0f921\"]], \"type\": \"heatmapgl\"}], \"histogram\": [{\"marker\": {\"colorbar\": {\"outlinewidth\": 0, \"ticks\": \"\"}}, \"type\": \"histogram\"}], \"histogram2d\": [{\"colorbar\": {\"outlinewidth\": 0, \"ticks\": \"\"}, \"colorscale\": [[0.0, \"#0d0887\"], [0.1111111111111111, \"#46039f\"], [0.2222222222222222, \"#7201a8\"], [0.3333333333333333, \"#9c179e\"], [0.4444444444444444, \"#bd3786\"], [0.5555555555555556, \"#d8576b\"], [0.6666666666666666, \"#ed7953\"], [0.7777777777777778, \"#fb9f3a\"], [0.8888888888888888, \"#fdca26\"], [1.0, \"#f0f921\"]], \"type\": \"histogram2d\"}], \"histogram2dcontour\": [{\"colorbar\": {\"outlinewidth\": 0, \"ticks\": \"\"}, \"colorscale\": [[0.0, \"#0d0887\"], [0.1111111111111111, \"#46039f\"], [0.2222222222222222, \"#7201a8\"], [0.3333333333333333, \"#9c179e\"], [0.4444444444444444, \"#bd3786\"], [0.5555555555555556, \"#d8576b\"], [0.6666666666666666, \"#ed7953\"], [0.7777777777777778, \"#fb9f3a\"], [0.8888888888888888, \"#fdca26\"], [1.0, \"#f0f921\"]], \"type\": \"histogram2dcontour\"}], \"mesh3d\": [{\"colorbar\": {\"outlinewidth\": 0, \"ticks\": \"\"}, \"type\": \"mesh3d\"}], \"parcoords\": [{\"line\": {\"colorbar\": {\"outlinewidth\": 0, \"ticks\": \"\"}}, \"type\": \"parcoords\"}], \"scatter\": [{\"marker\": {\"colorbar\": {\"outlinewidth\": 0, \"ticks\": \"\"}}, \"type\": \"scatter\"}], \"scatter3d\": [{\"line\": {\"colorbar\": {\"outlinewidth\": 0, \"ticks\": \"\"}}, \"marker\": {\"colorbar\": {\"outlinewidth\": 0, \"ticks\": \"\"}}, \"type\": \"scatter3d\"}], \"scattercarpet\": [{\"marker\": {\"colorbar\": {\"outlinewidth\": 0, \"ticks\": \"\"}}, \"type\": \"scattercarpet\"}], \"scattergeo\": [{\"marker\": {\"colorbar\": {\"outlinewidth\": 0, \"ticks\": \"\"}}, \"type\": \"scattergeo\"}], \"scattergl\": [{\"marker\": {\"colorbar\": {\"outlinewidth\": 0, \"ticks\": \"\"}}, \"type\": \"scattergl\"}], \"scattermapbox\": [{\"marker\": {\"colorbar\": {\"outlinewidth\": 0, \"ticks\": \"\"}}, \"type\": \"scattermapbox\"}], \"scatterpolar\": [{\"marker\": {\"colorbar\": {\"outlinewidth\": 0, \"ticks\": \"\"}}, \"type\": \"scatterpolar\"}], \"scatterpolargl\": [{\"marker\": {\"colorbar\": {\"outlinewidth\": 0, \"ticks\": \"\"}}, \"type\": \"scatterpolargl\"}], \"scatterternary\": [{\"marker\": {\"colorbar\": {\"outlinewidth\": 0, \"ticks\": \"\"}}, \"type\": \"scatterternary\"}], \"surface\": [{\"colorbar\": {\"outlinewidth\": 0, \"ticks\": \"\"}, \"colorscale\": [[0.0, \"#0d0887\"], [0.1111111111111111, \"#46039f\"], [0.2222222222222222, \"#7201a8\"], [0.3333333333333333, \"#9c179e\"], [0.4444444444444444, \"#bd3786\"], [0.5555555555555556, \"#d8576b\"], [0.6666666666666666, \"#ed7953\"], [0.7777777777777778, \"#fb9f3a\"], [0.8888888888888888, \"#fdca26\"], [1.0, \"#f0f921\"]], \"type\": \"surface\"}], \"table\": [{\"cells\": {\"fill\": {\"color\": \"#EBF0F8\"}, \"line\": {\"color\": \"white\"}}, \"header\": {\"fill\": {\"color\": \"#C8D4E3\"}, \"line\": {\"color\": \"white\"}}, \"type\": \"table\"}]}, \"layout\": {\"annotationdefaults\": {\"arrowcolor\": \"#2a3f5f\", \"arrowhead\": 0, \"arrowwidth\": 1}, \"colorscale\": {\"diverging\": [[0, \"#8e0152\"], [0.1, \"#c51b7d\"], [0.2, \"#de77ae\"], [0.3, \"#f1b6da\"], [0.4, \"#fde0ef\"], [0.5, \"#f7f7f7\"], [0.6, \"#e6f5d0\"], [0.7, \"#b8e186\"], [0.8, \"#7fbc41\"], [0.9, \"#4d9221\"], [1, \"#276419\"]], \"sequential\": [[0.0, \"#0d0887\"], [0.1111111111111111, \"#46039f\"], [0.2222222222222222, \"#7201a8\"], [0.3333333333333333, \"#9c179e\"], [0.4444444444444444, \"#bd3786\"], [0.5555555555555556, \"#d8576b\"], [0.6666666666666666, \"#ed7953\"], [0.7777777777777778, \"#fb9f3a\"], [0.8888888888888888, \"#fdca26\"], [1.0, \"#f0f921\"]], \"sequentialminus\": [[0.0, \"#0d0887\"], [0.1111111111111111, \"#46039f\"], [0.2222222222222222, \"#7201a8\"], [0.3333333333333333, \"#9c179e\"], [0.4444444444444444, \"#bd3786\"], [0.5555555555555556, \"#d8576b\"], [0.6666666666666666, \"#ed7953\"], [0.7777777777777778, \"#fb9f3a\"], [0.8888888888888888, \"#fdca26\"], [1.0, \"#f0f921\"]]}, \"colorway\": [\"#636efa\", \"#EF553B\", \"#00cc96\", \"#ab63fa\", \"#FFA15A\", \"#19d3f3\", \"#FF6692\", \"#B6E880\", \"#FF97FF\", \"#FECB52\"], \"font\": {\"color\": \"#2a3f5f\"}, \"geo\": {\"bgcolor\": \"white\", \"lakecolor\": \"white\", \"landcolor\": \"#E5ECF6\", \"showlakes\": true, \"showland\": true, \"subunitcolor\": \"white\"}, \"hoverlabel\": {\"align\": \"left\"}, \"hovermode\": \"closest\", \"mapbox\": {\"style\": \"light\"}, \"paper_bgcolor\": \"white\", \"plot_bgcolor\": \"#E5ECF6\", \"polar\": {\"angularaxis\": {\"gridcolor\": \"white\", \"linecolor\": \"white\", \"ticks\": \"\"}, \"bgcolor\": \"#E5ECF6\", \"radialaxis\": {\"gridcolor\": \"white\", \"linecolor\": \"white\", \"ticks\": \"\"}}, \"scene\": {\"xaxis\": {\"backgroundcolor\": \"#E5ECF6\", \"gridcolor\": \"white\", \"gridwidth\": 2, \"linecolor\": \"white\", \"showbackground\": true, \"ticks\": \"\", \"zerolinecolor\": \"white\"}, \"yaxis\": {\"backgroundcolor\": \"#E5ECF6\", \"gridcolor\": \"white\", \"gridwidth\": 2, \"linecolor\": \"white\", \"showbackground\": true, \"ticks\": \"\", \"zerolinecolor\": \"white\"}, \"zaxis\": {\"backgroundcolor\": \"#E5ECF6\", \"gridcolor\": \"white\", \"gridwidth\": 2, \"linecolor\": \"white\", \"showbackground\": true, \"ticks\": \"\", \"zerolinecolor\": \"white\"}}, \"shapedefaults\": {\"line\": {\"color\": \"#2a3f5f\"}}, \"ternary\": {\"aaxis\": {\"gridcolor\": \"white\", \"linecolor\": \"white\", \"ticks\": \"\"}, \"baxis\": {\"gridcolor\": \"white\", \"linecolor\": \"white\", \"ticks\": \"\"}, \"bgcolor\": \"#E5ECF6\", \"caxis\": {\"gridcolor\": \"white\", \"linecolor\": \"white\", \"ticks\": \"\"}}, \"title\": {\"x\": 0.05}, \"xaxis\": {\"automargin\": true, \"gridcolor\": \"white\", \"linecolor\": \"white\", \"ticks\": \"\", \"zerolinecolor\": \"white\", \"zerolinewidth\": 2}, \"yaxis\": {\"automargin\": true, \"gridcolor\": \"white\", \"linecolor\": \"white\", \"ticks\": \"\", \"zerolinecolor\": \"white\", \"zerolinewidth\": 2}}}, \"xaxis\": {\"anchor\": \"y2\", \"domain\": [0.0, 1.0], \"zeroline\": false}, \"yaxis\": {\"anchor\": \"free\", \"domain\": [0.35, 1], \"position\": 0.0}, \"yaxis2\": {\"anchor\": \"x\", \"domain\": [0, 0.25], \"dtick\": 1, \"showticklabels\": false}},\n",
              "                        {\"responsive\": true}\n",
              "                    ).then(function(){\n",
              "                            \n",
              "var gd = document.getElementById('d3dad886-4519-47d0-9d92-8c1e9365b767');\n",
              "var x = new MutationObserver(function (mutations, observer) {{\n",
              "        var display = window.getComputedStyle(gd).display;\n",
              "        if (!display || display === 'none') {{\n",
              "            console.log([gd, 'removed!']);\n",
              "            Plotly.purge(gd);\n",
              "            observer.disconnect();\n",
              "        }}\n",
              "}});\n",
              "\n",
              "// Listen for the removal of the full notebook cells\n",
              "var notebookContainer = gd.closest('#notebook-container');\n",
              "if (notebookContainer) {{\n",
              "    x.observe(notebookContainer, {childList: true});\n",
              "}}\n",
              "\n",
              "// Listen for the clearing of the current output cell\n",
              "var outputEl = gd.closest('.output');\n",
              "if (outputEl) {{\n",
              "    x.observe(outputEl, {childList: true});\n",
              "}}\n",
              "\n",
              "                        })\n",
              "                };\n",
              "                \n",
              "            </script>\n",
              "        </div>\n",
              "</body>\n",
              "</html>"
            ]
          },
          "metadata": {
            "tags": []
          }
        }
      ]
    },
    {
      "cell_type": "code",
      "metadata": {
        "id": "zFrI0G_Q0sk7",
        "colab_type": "code",
        "colab": {
          "base_uri": "https://localhost:8080/",
          "height": 284
        },
        "outputId": "44d09b25-7529-4322-bdcc-3a3ed929d5aa"
      },
      "source": [
        "%matplotlib inline\n",
        "import seaborn as sns\n",
        "sns.distplot(y_train);"
      ],
      "execution_count": 11,
      "outputs": [
        {
          "output_type": "display_data",
          "data": {
            "image/png": "[encoded data removed]",
            "text/plain": [
              "<Figure size 432x288 with 1 Axes>"
            ]
          },
          "metadata": {
            "tags": []
          }
        }
      ]
    },
    {
      "cell_type": "code",
      "metadata": {
        "id": "S468Emb1ZX5V",
        "colab_type": "code",
        "outputId": "1099a72a-0156-4bcb-9c73-ed84c60db11a",
        "colab": {
          "base_uri": "https://localhost:8080/",
          "height": 34
        }
      },
      "source": [
        "#Accuracy score for baseline\n",
        "majority_class = y_train.mode()[0]\n",
        "y_pred = np.full_like(y_val, fill_value=majority_class)\n",
        "accuracy_score(y_val, y_pred) "
      ],
      "execution_count": 0,
      "outputs": [
        {
          "output_type": "execute_result",
          "data": {
            "text/plain": [
              "0.7201986754966887"
            ]
          },
          "metadata": {
            "tags": []
          },
          "execution_count": 61
        }
      ]
    },
    {
      "cell_type": "code",
      "metadata": {
        "id": "oaChXDY6awZW",
        "colab_type": "code",
        "outputId": "8cec851d-e2ab-4d6f-c193-c1ecb9d26327",
        "colab": {
          "base_uri": "https://localhost:8080/",
          "height": 102
        }
      },
      "source": [
        "#confusion matrix for majority class baseline\n",
        "#from sklearn.metrics import confusion_matrix\n",
        "y_pred = pipeline.predict(X_val)\n",
        "confusion_matrix(y_val, y_pred)"
      ],
      "execution_count": 0,
      "outputs": [
        {
          "output_type": "execute_result",
          "data": {
            "text/plain": [
              "array([[ 70, 261,  86,  17,   1],\n",
              "       [  0,   1,  24,  82,  62],\n",
              "       [  0,   0,   0,   0,   0],\n",
              "       [  0,   0,   0,   0,   0],\n",
              "       [  0,   0,   0,   0,   0]])"
            ]
          },
          "metadata": {
            "tags": []
          },
          "execution_count": 60
        }
      ]
    },
    {
      "cell_type": "code",
      "metadata": {
        "id": "uUDKD5pyZ9sC",
        "colab_type": "code",
        "outputId": "ce016078-a959-45d0-baac-913e76ff504f",
        "colab": {
          "base_uri": "https://localhost:8080/",
          "height": 285
        }
      },
      "source": [
        "#precision and recall for model/majority class baseline\n",
        "from sklearn.metrics import classification_report #confusion matrix used for multi-class. types\n",
        "print(classification_report(y_val, y_pred)) "
      ],
      "execution_count": 0,
      "outputs": [
        {
          "output_type": "stream",
          "text": [
            "              precision    recall  f1-score   support\n",
            "\n",
            "           0       1.00      0.16      0.28       435\n",
            "           1       0.00      0.01      0.00       169\n",
            "           2       0.00      0.00      0.00         0\n",
            "           3       0.00      0.00      0.00         0\n",
            "           4       0.00      0.00      0.00         0\n",
            "\n",
            "    accuracy                           0.12       604\n",
            "   macro avg       0.20      0.03      0.06       604\n",
            "weighted avg       0.72      0.12      0.20       604\n",
            "\n"
          ],
          "name": "stdout"
        },
        {
          "output_type": "stream",
          "text": [
            "/usr/local/lib/python3.6/dist-packages/sklearn/metrics/classification.py:1439: UndefinedMetricWarning: Recall and F-score are ill-defined and being set to 0.0 in labels with no true samples.\n",
            "  'recall', 'true', average, warn_for)\n"
          ],
          "name": "stderr"
        }
      ]
    },
    {
      "cell_type": "markdown",
      "metadata": {
        "id": "JLnJINrs4cQH",
        "colab_type": "text"
      },
      "source": [
        "### PDP Plots"
      ]
    },
    {
      "cell_type": "code",
      "metadata": {
        "id": "wl4WSaTa6IBd",
        "colab_type": "code",
        "colab": {
          "base_uri": "https://localhost:8080/",
          "height": 228
        },
        "outputId": "60f65205-1d92-4d74-c552-7a10af6b3b8b"
      },
      "source": [
        "!pip install category_encoders\n",
        "import category_encoders as ce\n",
        "from sklearn.metrics import r2_score\n",
        "from xgboost import XGBRegressor, XGBClassifier\n",
        "from sklearn.pipeline import make_pipeline"
      ],
      "execution_count": 8,
      "outputs": [
        {
          "output_type": "stream",
          "text": [
            "Requirement already satisfied: category_encoders in /usr/local/lib/python3.6/dist-packages (2.0.0)\n",
            "Requirement already satisfied: pandas>=0.21.1 in /usr/local/lib/python3.6/dist-packages (from category_encoders) (0.24.2)\n",
            "Requirement already satisfied: numpy>=1.11.3 in /usr/local/lib/python3.6/dist-packages (from category_encoders) (1.16.5)\n",
            "Requirement already satisfied: statsmodels>=0.6.1 in /usr/local/lib/python3.6/dist-packages (from category_encoders) (0.10.1)\n",
            "Requirement already satisfied: scipy>=0.19.0 in /usr/local/lib/python3.6/dist-packages (from category_encoders) (1.3.1)\n",
            "Requirement already satisfied: patsy>=0.4.1 in /usr/local/lib/python3.6/dist-packages (from category_encoders) (0.5.1)\n",
            "Requirement already satisfied: scikit-learn>=0.20.0 in /usr/local/lib/python3.6/dist-packages (from category_encoders) (0.21.3)\n",
            "Requirement already satisfied: python-dateutil>=2.5.0 in /usr/local/lib/python3.6/dist-packages (from pandas>=0.21.1->category_encoders) (2.5.3)\n",
            "Requirement already satisfied: pytz>=2011k in /usr/local/lib/python3.6/dist-packages (from pandas>=0.21.1->category_encoders) (2018.9)\n",
            "Requirement already satisfied: six in /usr/local/lib/python3.6/dist-packages (from patsy>=0.4.1->category_encoders) (1.12.0)\n",
            "Requirement already satisfied: joblib>=0.11 in /usr/local/lib/python3.6/dist-packages (from scikit-learn>=0.20.0->category_encoders) (0.13.2)\n"
          ],
          "name": "stdout"
        }
      ]
    },
    {
      "cell_type": "code",
      "metadata": {
        "id": "BLTjk8oc5cvz",
        "colab_type": "code",
        "colab": {
          "base_uri": "https://localhost:8080/",
          "height": 34
        },
        "outputId": "f27eb66e-aa0d-42dd-fac1-3c7b56a29d85"
      },
      "source": [
        "#begin with a fit model\n",
        "gb = make_pipeline(\n",
        "    ce.OrdinalEncoder(), \n",
        "    XGBRegressor(n_estimators=200, objective='reg:squarederror', n_jobs=-1)\n",
        ")\n",
        "\n",
        "gb.fit(X_train, y_train)\n",
        "y_pred = gb.predict(X_val)\n",
        "print('Gradient Boosting R^2', r2_score(y_val, y_pred))"
      ],
      "execution_count": 43,
      "outputs": [
        {
          "output_type": "stream",
          "text": [
            "Gradient Boosting R^2 0.999999999205096\n"
          ],
          "name": "stdout"
        }
      ]
    },
    {
      "cell_type": "code",
      "metadata": {
        "id": "7GQD6VP04hKU",
        "colab_type": "code",
        "colab": {
          "base_uri": "https://localhost:8080/",
          "height": 298
        },
        "outputId": "379893bf-497b-4b6c-91b2-c8b2cc65023c"
      },
      "source": [
        "!pip install pdpbox\n",
        "\n",
        "from pdpbox.pdp import pdp_isolate, pdp_plot"
      ],
      "execution_count": 44,
      "outputs": [
        {
          "output_type": "stream",
          "text": [
            "Requirement already satisfied: pdpbox in /usr/local/lib/python3.6/dist-packages (0.2.0)\n",
            "Requirement already satisfied: pandas in /usr/local/lib/python3.6/dist-packages (from pdpbox) (0.24.2)\n",
            "Requirement already satisfied: matplotlib>=2.1.2 in /usr/local/lib/python3.6/dist-packages (from pdpbox) (3.0.3)\n",
            "Requirement already satisfied: scipy in /usr/local/lib/python3.6/dist-packages (from pdpbox) (1.3.1)\n",
            "Requirement already satisfied: numpy in /usr/local/lib/python3.6/dist-packages (from pdpbox) (1.16.5)\n",
            "Requirement already satisfied: psutil in /usr/local/lib/python3.6/dist-packages (from pdpbox) (5.4.8)\n",
            "Requirement already satisfied: scikit-learn in /usr/local/lib/python3.6/dist-packages (from pdpbox) (0.21.3)\n",
            "Requirement already satisfied: joblib in /usr/local/lib/python3.6/dist-packages (from pdpbox) (0.13.2)\n",
            "Requirement already satisfied: python-dateutil>=2.5.0 in /usr/local/lib/python3.6/dist-packages (from pandas->pdpbox) (2.5.3)\n",
            "Requirement already satisfied: pytz>=2011k in /usr/local/lib/python3.6/dist-packages (from pandas->pdpbox) (2018.9)\n",
            "Requirement already satisfied: kiwisolver>=1.0.1 in /usr/local/lib/python3.6/dist-packages (from matplotlib>=2.1.2->pdpbox) (1.1.0)\n",
            "Requirement already satisfied: cycler>=0.10 in /usr/local/lib/python3.6/dist-packages (from matplotlib>=2.1.2->pdpbox) (0.10.0)\n",
            "Requirement already satisfied: pyparsing!=2.0.4,!=2.1.2,!=2.1.6,>=2.0.1 in /usr/local/lib/python3.6/dist-packages (from matplotlib>=2.1.2->pdpbox) (2.4.2)\n",
            "Requirement already satisfied: six>=1.5 in /usr/local/lib/python3.6/dist-packages (from python-dateutil>=2.5.0->pandas->pdpbox) (1.12.0)\n",
            "Requirement already satisfied: setuptools in /usr/local/lib/python3.6/dist-packages (from kiwisolver>=1.0.1->matplotlib>=2.1.2->pdpbox) (41.2.0)\n"
          ],
          "name": "stdout"
        }
      ]
    },
    {
      "cell_type": "code",
      "metadata": {
        "id": "M6g-BMPiBupX",
        "colab_type": "code",
        "colab": {
          "base_uri": "https://localhost:8080/",
          "height": 582
        },
        "outputId": "7503b6f5-dd19-481d-cc26-cba3720c8d98"
      },
      "source": [
        "import matplotlib.pyplot as plt\n",
        "from pdpbox.pdp import pdp_isolate, pdp_plot, pdp_interact_plot\n",
        "\n",
        "feature = 'PctEmpConstruction'\n",
        "isolated = pdp_isolate(model = gb, dataset = X_val, model_features = X_val.columns,\n",
        "                       feature =feature)\n",
        "\n",
        "plt.rcParams['figure.dpi'] = 72\n",
        "pdp_plot(isolated, feature_name=feature, plot_lines=True, frac_to_plot=100);\n",
        "\n",
        "#need to assume a class/cat approach"
      ],
      "execution_count": 56,
      "outputs": [
        {
          "output_type": "display_data",
          "data": {
            "image/png": "[encoded data removed]",
            "text/plain": [
              "<Figure size 1080x684 with 2 Axes>"
            ]
          },
          "metadata": {
            "tags": []
          }
        }
      ]
    },
    {
      "cell_type": "code",
      "metadata": {
        "id": "ADlA18ZoPA3I",
        "colab_type": "code",
        "colab": {
          "base_uri": "https://localhost:8080/",
          "height": 139
        },
        "outputId": "15a2e311-355f-4d08-94f1-419340b2736d"
      },
      "source": [
        "#PDP of Categorical feats\n",
        "from sklearn.ensemble import RandomForestClassifier\n",
        "\n",
        "\n",
        "#drop non-cats\n",
        "\n",
        "#define target and feats\n",
        "\n",
        "# Use Ordinal Encoder, outside of a pipeline\n",
        "encoder = ce.OrdinalEncoder()\n",
        "X_encoded = encoder.fit_transform(X_train)\n",
        "\n",
        "model = RandomForestClassifier(n_estimators=100, random_state=1, n_jobs=-1)\n",
        "model.fit(X_encoded, y_train)"
      ],
      "execution_count": 42,
      "outputs": [
        {
          "output_type": "execute_result",
          "data": {
            "text/plain": [
              "RandomForestClassifier(bootstrap=True, class_weight=None, criterion='gini',\n",
              "                       max_depth=None, max_features='auto', max_leaf_nodes=None,\n",
              "                       min_impurity_decrease=0.0, min_impurity_split=None,\n",
              "                       min_samples_leaf=1, min_samples_split=2,\n",
              "                       min_weight_fraction_leaf=0.0, n_estimators=100,\n",
              "                       n_jobs=-1, oob_score=False, random_state=1, verbose=0,\n",
              "                       warm_start=False)"
            ]
          },
          "metadata": {
            "tags": []
          },
          "execution_count": 42
        }
      ]
    },
    {
      "cell_type": "code",
      "metadata": {
        "id": "oHvf6LhmPwwC",
        "colab_type": "code",
        "colab": {
          "base_uri": "https://localhost:8080/",
          "height": 1000
        },
        "outputId": "6e58a149-a072-43d4-98b5-58852e38bbeb"
      },
      "source": [
        "#Then plot via Pdpbox\n",
        "%matplotlib inline\n",
        "import matplotlib.pyplot as plt\n",
        "from pdpbox import pdp\n",
        "feature = 'RuralUrbanContinuumCode2013'\n",
        "pdp_dist = pdp.pdp_isolate(model=model, dataset=X_encoded, model_features= X_train.columns, feature=feature)\n",
        "pdp.pdp_plot(pdp_dist, feature)\n",
        "plt.xlim(0,10);"
      ],
      "execution_count": 58,
      "outputs": [
        {
          "output_type": "display_data",
          "data": {
            "image/png": "[encoded data removed]",
            "text/plain": [
              "<Figure size 1080x1620 with 6 Axes>"
            ]
          },
          "metadata": {
            "tags": []
          }
        }
      ]
    },
    {
      "cell_type": "code",
      "metadata": {
        "id": "4fgkL04QSfBC",
        "colab_type": "code",
        "colab": {
          "base_uri": "https://localhost:8080/",
          "height": 365
        },
        "outputId": "2dcb47c8-fffd-482b-8fd3-4d6a0187400c"
      },
      "source": [
        "train.head()"
      ],
      "execution_count": 35,
      "outputs": [
        {
          "output_type": "execute_result",
          "data": {
            "text/html": [
              "<div>\n",
              "<style scoped>\n",
              "    .dataframe tbody tr th:only-of-type {\n",
              "        vertical-align: middle;\n",
              "    }\n",
              "\n",
              "    .dataframe tbody tr th {\n",
              "        vertical-align: top;\n",
              "    }\n",
              "\n",
              "    .dataframe thead th {\n",
              "        text-align: right;\n",
              "    }\n",
              "</style>\n",
              "<table border=\"1\" class=\"dataframe\">\n",
              "  <thead>\n",
              "    <tr style=\"text-align: right;\">\n",
              "      <th></th>\n",
              "      <th>low</th>\n",
              "      <th>MedHHInc</th>\n",
              "      <th>PerCapitaInc</th>\n",
              "      <th>PovertyUnder18Pct</th>\n",
              "      <th>PovertyAllAgesPct</th>\n",
              "      <th>Deep_Pov_All</th>\n",
              "      <th>Deep_Pov_Children</th>\n",
              "      <th>PovertyUnder18Num</th>\n",
              "      <th>PovertyAllAgesNum</th>\n",
              "      <th>RuralUrbanContinuumCode2013</th>\n",
              "      <th>Type_2015_Update</th>\n",
              "      <th>Low_Education_2015_update</th>\n",
              "      <th>Low_Employment_2015_update</th>\n",
              "      <th>Population_loss_2015_update</th>\n",
              "      <th>Metro_Adjacent2013</th>\n",
              "      <th>Vets18OPct</th>\n",
              "      <th>MaleVetsPct</th>\n",
              "      <th>PctVetsPoor</th>\n",
              "      <th>PctNonVetsPoor</th>\n",
              "      <th>PctVetsDisabilty</th>\n",
              "      <th>PctNonVetsDisabilty</th>\n",
              "      <th>PopChangeRate1018</th>\n",
              "      <th>NetMigrationRate1018</th>\n",
              "      <th>PopDensity2010</th>\n",
              "      <th>Under18Pct2010</th>\n",
              "      <th>Age65AndOlderPct2010</th>\n",
              "      <th>ForeignBornPct</th>\n",
              "      <th>UnempRate2018</th>\n",
              "      <th>UnempRate2015</th>\n",
              "      <th>PctEmpChange1018</th>\n",
              "      <th>PctEmpAgriculture</th>\n",
              "      <th>PctEmpMining</th>\n",
              "      <th>PctEmpConstruction</th>\n",
              "      <th>PctEmpManufacturing</th>\n",
              "      <th>PctEmpTrade</th>\n",
              "      <th>PctEmpTrans</th>\n",
              "      <th>PctEmpInformation</th>\n",
              "      <th>PctEmpFIRE</th>\n",
              "      <th>PctEmpServices</th>\n",
              "      <th>PctEmpGovt</th>\n",
              "      <th>Metro-nonmetro status, 2013 0=Nonmetro 1=Metro</th>\n",
              "      <th>Persistent_Poverty_2013</th>\n",
              "      <th>Persistent_Related_Child_Poverty_2013</th>\n",
              "      <th>Economic_Type_Label</th>\n",
              "      <th>Economic Types Type_2015_Update non-overlapping</th>\n",
              "      <th>CCShare</th>\n",
              "      <th>CCShareSE</th>\n",
              "      <th>BohShare</th>\n",
              "      <th>BohShareSE</th>\n",
              "      <th>CCShareRME</th>\n",
              "      <th>BohShareRME</th>\n",
              "      <th>metro03</th>\n",
              "      <th>debt_class</th>\n",
              "    </tr>\n",
              "  </thead>\n",
              "  <tbody>\n",
              "    <tr>\n",
              "      <th>24192</th>\n",
              "      <td>0.00</td>\n",
              "      <td>46762.0</td>\n",
              "      <td>28488.0</td>\n",
              "      <td>31.8</td>\n",
              "      <td>22.1</td>\n",
              "      <td>11.325533</td>\n",
              "      <td>18.014184</td>\n",
              "      <td>39518.0</td>\n",
              "      <td>130267.0</td>\n",
              "      <td>1.0</td>\n",
              "      <td>4.0</td>\n",
              "      <td>0.0</td>\n",
              "      <td>0.0</td>\n",
              "      <td>1.0</td>\n",
              "      <td>0.0</td>\n",
              "      <td>6.012918</td>\n",
              "      <td>89.931358</td>\n",
              "      <td>19.186740</td>\n",
              "      <td>20.117272</td>\n",
              "      <td>22.567374</td>\n",
              "      <td>13.449273</td>\n",
              "      <td>-2.98</td>\n",
              "      <td>-5.85</td>\n",
              "      <td>7671.52</td>\n",
              "      <td>21.51</td>\n",
              "      <td>11.73</td>\n",
              "      <td>7.996986</td>\n",
              "      <td>5.7</td>\n",
              "      <td>7.0</td>\n",
              "      <td>4.17</td>\n",
              "      <td>0.180965</td>\n",
              "      <td>0.029501</td>\n",
              "      <td>4.422314</td>\n",
              "      <td>4.494629</td>\n",
              "      <td>10.882016</td>\n",
              "      <td>5.693748</td>\n",
              "      <td>1.940249</td>\n",
              "      <td>5.631507</td>\n",
              "      <td>58.318283</td>\n",
              "      <td>8.406787</td>\n",
              "      <td>1</td>\n",
              "      <td>1</td>\n",
              "      <td>1</td>\n",
              "      <td>Federal/State Government</td>\n",
              "      <td>4</td>\n",
              "      <td>0.23453</td>\n",
              "      <td>0.00404</td>\n",
              "      <td>0.011842</td>\n",
              "      <td>0.00076</td>\n",
              "      <td>0.00664</td>\n",
              "      <td>0.00125</td>\n",
              "      <td>1</td>\n",
              "      <td>0</td>\n",
              "    </tr>\n",
              "    <tr>\n",
              "      <th>55154</th>\n",
              "      <td>1.01</td>\n",
              "      <td>40353.0</td>\n",
              "      <td>21938.0</td>\n",
              "      <td>22.9</td>\n",
              "      <td>16.4</td>\n",
              "      <td>6.301327</td>\n",
              "      <td>7.211210</td>\n",
              "      <td>645.0</td>\n",
              "      <td>2031.0</td>\n",
              "      <td>6.0</td>\n",
              "      <td>4.0</td>\n",
              "      <td>1.0</td>\n",
              "      <td>0.0</td>\n",
              "      <td>1.0</td>\n",
              "      <td>1.0</td>\n",
              "      <td>9.295097</td>\n",
              "      <td>91.693635</td>\n",
              "      <td>1.782820</td>\n",
              "      <td>16.666667</td>\n",
              "      <td>41.653160</td>\n",
              "      <td>16.396243</td>\n",
              "      <td>-5.11</td>\n",
              "      <td>-5.72</td>\n",
              "      <td>13.94</td>\n",
              "      <td>25.62</td>\n",
              "      <td>15.57</td>\n",
              "      <td>4.239901</td>\n",
              "      <td>4.1</td>\n",
              "      <td>4.0</td>\n",
              "      <td>-15.40</td>\n",
              "      <td>4.771686</td>\n",
              "      <td>2.559646</td>\n",
              "      <td>3.839469</td>\n",
              "      <td>13.414441</td>\n",
              "      <td>11.423606</td>\n",
              "      <td>3.744667</td>\n",
              "      <td>0.616211</td>\n",
              "      <td>6.051509</td>\n",
              "      <td>48.380471</td>\n",
              "      <td>5.198294</td>\n",
              "      <td>0</td>\n",
              "      <td>0</td>\n",
              "      <td>0</td>\n",
              "      <td>Federal/State Government</td>\n",
              "      <td>4</td>\n",
              "      <td>0.15893</td>\n",
              "      <td>0.01979</td>\n",
              "      <td>0.008036</td>\n",
              "      <td>0.00705</td>\n",
              "      <td>0.03255</td>\n",
              "      <td>0.0116</td>\n",
              "      <td>0</td>\n",
              "      <td>1</td>\n",
              "    </tr>\n",
              "    <tr>\n",
              "      <th>1659</th>\n",
              "      <td>0.78</td>\n",
              "      <td>53877.0</td>\n",
              "      <td>20952.0</td>\n",
              "      <td>28.8</td>\n",
              "      <td>23.2</td>\n",
              "      <td>10.161324</td>\n",
              "      <td>11.746805</td>\n",
              "      <td>970.0</td>\n",
              "      <td>2248.0</td>\n",
              "      <td>7.0</td>\n",
              "      <td>0.0</td>\n",
              "      <td>0.0</td>\n",
              "      <td>1.0</td>\n",
              "      <td>0.0</td>\n",
              "      <td>0.0</td>\n",
              "      <td>7.196262</td>\n",
              "      <td>88.311688</td>\n",
              "      <td>21.071429</td>\n",
              "      <td>23.974164</td>\n",
              "      <td>17.142857</td>\n",
              "      <td>9.384498</td>\n",
              "      <td>4.86</td>\n",
              "      <td>-7.19</td>\n",
              "      <td>0.41</td>\n",
              "      <td>34.33</td>\n",
              "      <td>6.35</td>\n",
              "      <td>2.148141</td>\n",
              "      <td>11.6</td>\n",
              "      <td>11.0</td>\n",
              "      <td>1.14</td>\n",
              "      <td>1.099203</td>\n",
              "      <td>3.132729</td>\n",
              "      <td>3.352569</td>\n",
              "      <td>3.544930</td>\n",
              "      <td>8.189063</td>\n",
              "      <td>9.123386</td>\n",
              "      <td>0.522121</td>\n",
              "      <td>2.170926</td>\n",
              "      <td>51.250343</td>\n",
              "      <td>17.614729</td>\n",
              "      <td>0</td>\n",
              "      <td>0</td>\n",
              "      <td>0</td>\n",
              "      <td>Nonspecialized</td>\n",
              "      <td>0</td>\n",
              "      <td>0.18421</td>\n",
              "      <td>0.02519</td>\n",
              "      <td>0.00554</td>\n",
              "      <td>0.00252</td>\n",
              "      <td>0.04144</td>\n",
              "      <td>0.00415</td>\n",
              "      <td>0</td>\n",
              "      <td>1</td>\n",
              "    </tr>\n",
              "    <tr>\n",
              "      <th>53232</th>\n",
              "      <td>1.19</td>\n",
              "      <td>41434.0</td>\n",
              "      <td>21093.0</td>\n",
              "      <td>28.7</td>\n",
              "      <td>19.1</td>\n",
              "      <td>10.387480</td>\n",
              "      <td>18.324508</td>\n",
              "      <td>1513.0</td>\n",
              "      <td>4192.0</td>\n",
              "      <td>6.0</td>\n",
              "      <td>4.0</td>\n",
              "      <td>0.0</td>\n",
              "      <td>1.0</td>\n",
              "      <td>0.0</td>\n",
              "      <td>1.0</td>\n",
              "      <td>7.495713</td>\n",
              "      <td>95.350554</td>\n",
              "      <td>4.093567</td>\n",
              "      <td>18.825360</td>\n",
              "      <td>27.095517</td>\n",
              "      <td>13.403345</td>\n",
              "      <td>0.12</td>\n",
              "      <td>-1.25</td>\n",
              "      <td>25.83</td>\n",
              "      <td>23.59</td>\n",
              "      <td>16.13</td>\n",
              "      <td>9.450596</td>\n",
              "      <td>4.7</td>\n",
              "      <td>5.0</td>\n",
              "      <td>-12.55</td>\n",
              "      <td>3.955122</td>\n",
              "      <td>5.768359</td>\n",
              "      <td>7.026292</td>\n",
              "      <td>10.675431</td>\n",
              "      <td>12.092022</td>\n",
              "      <td>6.085675</td>\n",
              "      <td>0.487307</td>\n",
              "      <td>2.765186</td>\n",
              "      <td>43.857661</td>\n",
              "      <td>7.286945</td>\n",
              "      <td>0</td>\n",
              "      <td>0</td>\n",
              "      <td>1</td>\n",
              "      <td>Federal/State Government</td>\n",
              "      <td>4</td>\n",
              "      <td>0.14044</td>\n",
              "      <td>0.01163</td>\n",
              "      <td>0.005464</td>\n",
              "      <td>0.00324</td>\n",
              "      <td>0.01913</td>\n",
              "      <td>0.00534</td>\n",
              "      <td>0</td>\n",
              "      <td>1</td>\n",
              "    </tr>\n",
              "    <tr>\n",
              "      <th>31292</th>\n",
              "      <td>3.46</td>\n",
              "      <td>61592.0</td>\n",
              "      <td>26781.0</td>\n",
              "      <td>15.1</td>\n",
              "      <td>10.3</td>\n",
              "      <td>5.194633</td>\n",
              "      <td>7.838299</td>\n",
              "      <td>764.0</td>\n",
              "      <td>2315.0</td>\n",
              "      <td>1.0</td>\n",
              "      <td>0.0</td>\n",
              "      <td>0.0</td>\n",
              "      <td>0.0</td>\n",
              "      <td>0.0</td>\n",
              "      <td>0.0</td>\n",
              "      <td>9.561503</td>\n",
              "      <td>93.746278</td>\n",
              "      <td>9.189843</td>\n",
              "      <td>12.958167</td>\n",
              "      <td>20.556227</td>\n",
              "      <td>13.468331</td>\n",
              "      <td>-2.60</td>\n",
              "      <td>-2.34</td>\n",
              "      <td>41.30</td>\n",
              "      <td>24.97</td>\n",
              "      <td>14.83</td>\n",
              "      <td>0.861805</td>\n",
              "      <td>3.6</td>\n",
              "      <td>5.0</td>\n",
              "      <td>2.58</td>\n",
              "      <td>2.584662</td>\n",
              "      <td>0.452787</td>\n",
              "      <td>7.150269</td>\n",
              "      <td>17.026696</td>\n",
              "      <td>13.508160</td>\n",
              "      <td>8.489765</td>\n",
              "      <td>2.424300</td>\n",
              "      <td>3.914725</td>\n",
              "      <td>39.901896</td>\n",
              "      <td>4.546741</td>\n",
              "      <td>1</td>\n",
              "      <td>0</td>\n",
              "      <td>0</td>\n",
              "      <td>Nonspecialized</td>\n",
              "      <td>0</td>\n",
              "      <td>0.1578</td>\n",
              "      <td>0.01514</td>\n",
              "      <td>0.002801</td>\n",
              "      <td>0.0021</td>\n",
              "      <td>0.02491</td>\n",
              "      <td>0.00345</td>\n",
              "      <td>1</td>\n",
              "      <td>4</td>\n",
              "    </tr>\n",
              "  </tbody>\n",
              "</table>\n",
              "</div>"
            ],
            "text/plain": [
              "        low  MedHHInc  PerCapitaInc  ...  BohShareRME  metro03  debt_class\n",
              "24192  0.00   46762.0       28488.0  ...      0.00125        1           0\n",
              "55154  1.01   40353.0       21938.0  ...       0.0116        0           1\n",
              "1659   0.78   53877.0       20952.0  ...      0.00415        0           1\n",
              "53232  1.19   41434.0       21093.0  ...      0.00534        0           1\n",
              "31292  3.46   61592.0       26781.0  ...      0.00345        1           4\n",
              "\n",
              "[5 rows x 53 columns]"
            ]
          },
          "metadata": {
            "tags": []
          },
          "execution_count": 35
        }
      ]
    },
    {
      "cell_type": "code",
      "metadata": {
        "id": "6JXxpTKLQ0am",
        "colab_type": "code",
        "colab": {
          "base_uri": "https://localhost:8080/",
          "height": 191
        },
        "outputId": "72e6f293-0ba6-4060-8775-a0c82f3fc67c"
      },
      "source": [
        "# can also examine encoder's mappings\n",
        "encoder.mapping\n",
        "\n",
        "#NaN always there "
      ],
      "execution_count": 59,
      "outputs": [
        {
          "output_type": "execute_result",
          "data": {
            "text/plain": [
              "[{'col': 'Economic_Type_Label',\n",
              "  'data_type': dtype('O'),\n",
              "  'mapping': Federal/State Government    1\n",
              "  Nonspecialized              2\n",
              "  Maufacturing                3\n",
              "  Farming                     4\n",
              "  Mining                      5\n",
              "  Recreation                  6\n",
              "  NaN                        -2\n",
              "  dtype: int64}]"
            ]
          },
          "metadata": {
            "tags": []
          },
          "execution_count": 59
        }
      ]
    },
    {
      "cell_type": "code",
      "metadata": {
        "id": "-2EygQt9SQYf",
        "colab_type": "code",
        "colab": {
          "base_uri": "https://localhost:8080/",
          "height": 1000
        },
        "outputId": "d3462535-c3a8-4189-b8e8-d476f3cb76a1"
      },
      "source": [
        "#Two Feat Interaction PDP table\n",
        "features = ['RuralUrbanContinuumCode2013', 'Economic Types Type_2015_Update non-overlapping']\n",
        "\n",
        "interaction = pdp_interact(\n",
        "    model=model, \n",
        "    dataset=X_encoded, \n",
        "    model_features=X_encoded.columns, \n",
        "    features=features\n",
        ")\n",
        "\n",
        "pdp_interact_plot(interaction, plot_type='grid', feature_names=features);"
      ],
      "execution_count": 60,
      "outputs": [
        {
          "output_type": "display_data",
          "data": {
            "image/png": "[encoded data removed]",
            "text/plain": [
              "<Figure size 1080x1764 with 11 Axes>"
            ]
          },
          "metadata": {
            "tags": []
          }
        }
      ]
    },
    {
      "cell_type": "markdown",
      "metadata": {
        "id": "EYiCtihmx0qL",
        "colab_type": "text"
      },
      "source": [
        "### Feat Importance: Permutation "
      ]
    },
    {
      "cell_type": "code",
      "metadata": {
        "id": "YPH4o6-LyBHo",
        "colab_type": "code",
        "colab": {
          "base_uri": "https://localhost:8080/",
          "height": 436
        },
        "outputId": "d3f7fc4c-b5ff-44ea-cbb4-ffe78eadca6f"
      },
      "source": [
        "#Permutation method via eli5 lib\n",
        "!pip install eli5\n",
        "import eli5\n",
        "from eli5.sklearn import PermutationImportance\n",
        "\n",
        "# \"Importance can be measured by looking at how much the score (eg. accuracy) \n",
        "#  decreases when a feature is not available.\""
      ],
      "execution_count": 21,
      "outputs": [
        {
          "output_type": "stream",
          "text": [
            "Collecting eli5\n",
            "\u001b[?25l  Downloading https://files.pythonhosted.org/packages/97/2f/c85c7d8f8548e460829971785347e14e45fa5c6617da374711dec8cb38cc/eli5-0.10.1-py2.py3-none-any.whl (105kB)\n",
            "\u001b[K     |████████████████████████████████| 112kB 5.0MB/s \n",
            "\u001b[?25hRequirement already satisfied: scikit-learn>=0.18 in /usr/local/lib/python3.6/dist-packages (from eli5) (0.21.3)\n",
            "Requirement already satisfied: six in /usr/local/lib/python3.6/dist-packages (from eli5) (1.12.0)\n",
            "Requirement already satisfied: numpy>=1.9.0 in /usr/local/lib/python3.6/dist-packages (from eli5) (1.16.5)\n",
            "Requirement already satisfied: jinja2 in /usr/local/lib/python3.6/dist-packages (from eli5) (2.10.1)\n",
            "Requirement already satisfied: graphviz in /usr/local/lib/python3.6/dist-packages (from eli5) (0.10.1)\n",
            "Requirement already satisfied: attrs>16.0.0 in /usr/local/lib/python3.6/dist-packages (from eli5) (19.1.0)\n",
            "Requirement already satisfied: tabulate>=0.7.7 in /usr/local/lib/python3.6/dist-packages (from eli5) (0.8.3)\n",
            "Requirement already satisfied: scipy in /usr/local/lib/python3.6/dist-packages (from eli5) (1.3.1)\n",
            "Requirement already satisfied: joblib>=0.11 in /usr/local/lib/python3.6/dist-packages (from scikit-learn>=0.18->eli5) (0.13.2)\n",
            "Requirement already satisfied: MarkupSafe>=0.23 in /usr/local/lib/python3.6/dist-packages (from jinja2->eli5) (1.1.1)\n",
            "Installing collected packages: eli5\n",
            "Successfully installed eli5-0.10.1\n"
          ],
          "name": "stdout"
        },
        {
          "output_type": "stream",
          "text": [
            "Using TensorFlow backend.\n"
          ],
          "name": "stderr"
        },
        {
          "output_type": "execute_result",
          "data": {
            "text/plain": [
              "RandomForestClassifier(bootstrap=True, class_weight=None, criterion='gini',\n",
              "                       max_depth=None, max_features='auto', max_leaf_nodes=None,\n",
              "                       min_impurity_decrease=0.0, min_impurity_split=None,\n",
              "                       min_samples_leaf=1, min_samples_split=2,\n",
              "                       min_weight_fraction_leaf=0.0, n_estimators=100,\n",
              "                       n_jobs=-1, oob_score=False, random_state=1, verbose=0,\n",
              "                       warm_start=False)"
            ]
          },
          "metadata": {
            "tags": []
          },
          "execution_count": 21
        }
      ]
    },
    {
      "cell_type": "code",
      "metadata": {
        "id": "b3ziYhpqy2q2",
        "colab_type": "code",
        "colab": {
          "base_uri": "https://localhost:8080/",
          "height": 816
        },
        "outputId": "3475d3d0-172b-47be-fe78-b02b7132f8c2"
      },
      "source": [
        "# defining a model\n",
        "transformers = make_pipeline(\n",
        "    ce.OrdinalEncoder(), \n",
        "    SimpleImputer(strategy='median')\n",
        "    )\n",
        "\n",
        "X_train_transformed = transformers.fit_transform(X_train)\n",
        "X_val_transformed = transformers.transform(X_val)\n",
        "\n",
        "model = RandomForestClassifier(n_estimators=100, random_state=1, n_jobs=-1)\n",
        "model.fit(X_train_transformed, y_train)\n",
        "\n",
        "\n",
        "# permutation and plot \n",
        "permuter = PermutationImportance(\n",
        "    model,\n",
        "    scoring='accuracy', \n",
        "    n_iter=2, \n",
        "    random_state=42\n",
        ")\n",
        "\n",
        "permuter.fit(X_val_transformed, y_val)\n",
        "feature_names = X_val.columns.tolist()\n",
        "\n",
        "eli5.show_weights(\n",
        "    permuter, \n",
        "    top=None, # show permutation importances for all features\n",
        "    feature_names=feature_names\n",
        ")\n",
        "\n",
        "#Interpreting: values at top are most important feats\n",
        "\n",
        "# \"The first number in each row shows how much model performance decreased with a random shuffling.\n",
        "# The number after the ± measures how performance varied from one-reshuffling to the next.\n",
        "# You'll occasionally see negative values for permutation importances. In those cases, \n",
        "# the predictions on the shuffled (or noisy) data happened to be more accurate than the real data. \n",
        "# This happens when the feature didn't matter (should have had an importance close to 0), \n",
        "# but random chance caused the predictions on shuffled data to be more accurate. \n",
        "# This is more common with small datasets, like the one in this example, \n",
        "# because there is more room for luck/chance.\" source:\n",
        "# https://www.kaggle.com/dansbecker/permutation-importance\n",
        "\n",
        "#For Blog: sxn. perhaps important to reflect on the ordering here... why some feats may appear to be reversed"
      ],
      "execution_count": 23,
      "outputs": [
        {
          "output_type": "execute_result",
          "data": {
            "text/html": [
              "\n",
              "    <style>\n",
              "    table.eli5-weights tr:hover {\n",
              "        filter: brightness(85%);\n",
              "    }\n",
              "</style>\n",
              "\n",
              "\n",
              "\n",
              "    \n",
              "\n",
              "    \n",
              "\n",
              "    \n",
              "\n",
              "    \n",
              "\n",
              "    \n",
              "\n",
              "    \n",
              "\n",
              "\n",
              "    \n",
              "\n",
              "    \n",
              "\n",
              "    \n",
              "\n",
              "    \n",
              "\n",
              "    \n",
              "\n",
              "    \n",
              "\n",
              "\n",
              "    \n",
              "\n",
              "    \n",
              "\n",
              "    \n",
              "\n",
              "    \n",
              "\n",
              "    \n",
              "        <table class=\"eli5-weights eli5-feature-importances\" style=\"border-collapse: collapse; border: none; margin-top: 0em; table-layout: auto;\">\n",
              "    <thead>\n",
              "    <tr style=\"border: none;\">\n",
              "        <th style=\"padding: 0 1em 0 0.5em; text-align: right; border: none;\">Weight</th>\n",
              "        <th style=\"padding: 0 0.5em 0 0.5em; text-align: left; border: none;\">Feature</th>\n",
              "    </tr>\n",
              "    </thead>\n",
              "    <tbody>\n",
              "    \n",
              "        <tr style=\"background-color: hsl(120, 100.00%, 80.00%); border: none;\">\n",
              "            <td style=\"padding: 0 1em 0 0.5em; text-align: right; border: none;\">\n",
              "                0.0165\n",
              "                \n",
              "                    &plusmn; 0.0331\n",
              "                \n",
              "            </td>\n",
              "            <td style=\"padding: 0 0.5em 0 0.5em; text-align: left; border: none;\">\n",
              "                PctEmpConstruction\n",
              "            </td>\n",
              "        </tr>\n",
              "    \n",
              "        <tr style=\"background-color: hsl(120, 100.00%, 87.28%); border: none;\">\n",
              "            <td style=\"padding: 0 1em 0 0.5em; text-align: right; border: none;\">\n",
              "                0.0087\n",
              "                \n",
              "                    &plusmn; 0.0016\n",
              "                \n",
              "            </td>\n",
              "            <td style=\"padding: 0 0.5em 0 0.5em; text-align: left; border: none;\">\n",
              "                UnempRate2015\n",
              "            </td>\n",
              "        </tr>\n",
              "    \n",
              "        <tr style=\"background-color: hsl(120, 100.00%, 89.82%); border: none;\">\n",
              "            <td style=\"padding: 0 1em 0 0.5em; text-align: right; border: none;\">\n",
              "                0.0063\n",
              "                \n",
              "                    &plusmn; 0.0000\n",
              "                \n",
              "            </td>\n",
              "            <td style=\"padding: 0 0.5em 0 0.5em; text-align: left; border: none;\">\n",
              "                Economic Types Type_2015_Update non-overlapping\n",
              "            </td>\n",
              "        </tr>\n",
              "    \n",
              "        <tr style=\"background-color: hsl(120, 100.00%, 90.73%); border: none;\">\n",
              "            <td style=\"padding: 0 1em 0 0.5em; text-align: right; border: none;\">\n",
              "                0.0055\n",
              "                \n",
              "                    &plusmn; 0.0079\n",
              "                \n",
              "            </td>\n",
              "            <td style=\"padding: 0 0.5em 0 0.5em; text-align: left; border: none;\">\n",
              "                PctEmpGovt\n",
              "            </td>\n",
              "        </tr>\n",
              "    \n",
              "        <tr style=\"background-color: hsl(120, 100.00%, 91.68%); border: none;\">\n",
              "            <td style=\"padding: 0 1em 0 0.5em; text-align: right; border: none;\">\n",
              "                0.0047\n",
              "                \n",
              "                    &plusmn; 0.0063\n",
              "                \n",
              "            </td>\n",
              "            <td style=\"padding: 0 0.5em 0 0.5em; text-align: left; border: none;\">\n",
              "                Low_Employment_2015_update\n",
              "            </td>\n",
              "        </tr>\n",
              "    \n",
              "        <tr style=\"background-color: hsl(120, 100.00%, 91.68%); border: none;\">\n",
              "            <td style=\"padding: 0 1em 0 0.5em; text-align: right; border: none;\">\n",
              "                0.0047\n",
              "                \n",
              "                    &plusmn; 0.0063\n",
              "                \n",
              "            </td>\n",
              "            <td style=\"padding: 0 0.5em 0 0.5em; text-align: left; border: none;\">\n",
              "                Economic_Type_Label\n",
              "            </td>\n",
              "        </tr>\n",
              "    \n",
              "        <tr style=\"background-color: hsl(120, 100.00%, 92.68%); border: none;\">\n",
              "            <td style=\"padding: 0 1em 0 0.5em; text-align: right; border: none;\">\n",
              "                0.0039\n",
              "                \n",
              "                    &plusmn; 0.0079\n",
              "                \n",
              "            </td>\n",
              "            <td style=\"padding: 0 0.5em 0 0.5em; text-align: left; border: none;\">\n",
              "                PctEmpTrans\n",
              "            </td>\n",
              "        </tr>\n",
              "    \n",
              "        <tr style=\"background-color: hsl(120, 100.00%, 92.68%); border: none;\">\n",
              "            <td style=\"padding: 0 1em 0 0.5em; text-align: right; border: none;\">\n",
              "                0.0039\n",
              "                \n",
              "                    &plusmn; 0.0016\n",
              "                \n",
              "            </td>\n",
              "            <td style=\"padding: 0 0.5em 0 0.5em; text-align: left; border: none;\">\n",
              "                PctNonVetsDisabilty\n",
              "            </td>\n",
              "        </tr>\n",
              "    \n",
              "        <tr style=\"background-color: hsl(120, 100.00%, 93.74%); border: none;\">\n",
              "            <td style=\"padding: 0 1em 0 0.5em; text-align: right; border: none;\">\n",
              "                0.0031\n",
              "                \n",
              "                    &plusmn; 0.0031\n",
              "                \n",
              "            </td>\n",
              "            <td style=\"padding: 0 0.5em 0 0.5em; text-align: left; border: none;\">\n",
              "                ForeignBornPct\n",
              "            </td>\n",
              "        </tr>\n",
              "    \n",
              "        <tr style=\"background-color: hsl(120, 100.00%, 93.74%); border: none;\">\n",
              "            <td style=\"padding: 0 1em 0 0.5em; text-align: right; border: none;\">\n",
              "                0.0031\n",
              "                \n",
              "                    &plusmn; 0.0126\n",
              "                \n",
              "            </td>\n",
              "            <td style=\"padding: 0 0.5em 0 0.5em; text-align: left; border: none;\">\n",
              "                Population_loss_2015_update\n",
              "            </td>\n",
              "        </tr>\n",
              "    \n",
              "        <tr style=\"background-color: hsl(120, 100.00%, 94.88%); border: none;\">\n",
              "            <td style=\"padding: 0 1em 0 0.5em; text-align: right; border: none;\">\n",
              "                0.0024\n",
              "                \n",
              "                    &plusmn; 0.0016\n",
              "                \n",
              "            </td>\n",
              "            <td style=\"padding: 0 0.5em 0 0.5em; text-align: left; border: none;\">\n",
              "                Type_2015_Update\n",
              "            </td>\n",
              "        </tr>\n",
              "    \n",
              "        <tr style=\"background-color: hsl(120, 100.00%, 94.88%); border: none;\">\n",
              "            <td style=\"padding: 0 1em 0 0.5em; text-align: right; border: none;\">\n",
              "                0.0024\n",
              "                \n",
              "                    &plusmn; 0.0016\n",
              "                \n",
              "            </td>\n",
              "            <td style=\"padding: 0 0.5em 0 0.5em; text-align: left; border: none;\">\n",
              "                PctEmpFIRE\n",
              "            </td>\n",
              "        </tr>\n",
              "    \n",
              "        <tr style=\"background-color: hsl(120, 100.00%, 96.14%); border: none;\">\n",
              "            <td style=\"padding: 0 1em 0 0.5em; text-align: right; border: none;\">\n",
              "                0.0016\n",
              "                \n",
              "                    &plusmn; 0.0063\n",
              "                \n",
              "            </td>\n",
              "            <td style=\"padding: 0 0.5em 0 0.5em; text-align: left; border: none;\">\n",
              "                PctEmpServices\n",
              "            </td>\n",
              "        </tr>\n",
              "    \n",
              "        <tr style=\"background-color: hsl(120, 100.00%, 96.14%); border: none;\">\n",
              "            <td style=\"padding: 0 1em 0 0.5em; text-align: right; border: none;\">\n",
              "                0.0016\n",
              "                \n",
              "                    &plusmn; 0.0031\n",
              "                \n",
              "            </td>\n",
              "            <td style=\"padding: 0 0.5em 0 0.5em; text-align: left; border: none;\">\n",
              "                metro03\n",
              "            </td>\n",
              "        </tr>\n",
              "    \n",
              "        <tr style=\"background-color: hsl(120, 100.00%, 96.14%); border: none;\">\n",
              "            <td style=\"padding: 0 1em 0 0.5em; text-align: right; border: none;\">\n",
              "                0.0016\n",
              "                \n",
              "                    &plusmn; 0.0000\n",
              "                \n",
              "            </td>\n",
              "            <td style=\"padding: 0 0.5em 0 0.5em; text-align: left; border: none;\">\n",
              "                Persistent_Related_Child_Poverty_2013\n",
              "            </td>\n",
              "        </tr>\n",
              "    \n",
              "        <tr style=\"background-color: hsl(120, 100.00%, 96.14%); border: none;\">\n",
              "            <td style=\"padding: 0 1em 0 0.5em; text-align: right; border: none;\">\n",
              "                0.0016\n",
              "                \n",
              "                    &plusmn; 0.0157\n",
              "                \n",
              "            </td>\n",
              "            <td style=\"padding: 0 0.5em 0 0.5em; text-align: left; border: none;\">\n",
              "                NetMigrationRate1018\n",
              "            </td>\n",
              "        </tr>\n",
              "    \n",
              "        <tr style=\"background-color: hsl(120, 100.00%, 96.14%); border: none;\">\n",
              "            <td style=\"padding: 0 1em 0 0.5em; text-align: right; border: none;\">\n",
              "                0.0016\n",
              "                \n",
              "                    &plusmn; 0.0031\n",
              "                \n",
              "            </td>\n",
              "            <td style=\"padding: 0 0.5em 0 0.5em; text-align: left; border: none;\">\n",
              "                PctEmpChange1018\n",
              "            </td>\n",
              "        </tr>\n",
              "    \n",
              "        <tr style=\"background-color: hsl(120, 100.00%, 97.63%); border: none;\">\n",
              "            <td style=\"padding: 0 1em 0 0.5em; text-align: right; border: none;\">\n",
              "                0.0008\n",
              "                \n",
              "                    &plusmn; 0.0016\n",
              "                \n",
              "            </td>\n",
              "            <td style=\"padding: 0 0.5em 0 0.5em; text-align: left; border: none;\">\n",
              "                Metro_Adjacent2013\n",
              "            </td>\n",
              "        </tr>\n",
              "    \n",
              "        <tr style=\"background-color: hsl(120, 100.00%, 97.63%); border: none;\">\n",
              "            <td style=\"padding: 0 1em 0 0.5em; text-align: right; border: none;\">\n",
              "                0.0008\n",
              "                \n",
              "                    &plusmn; 0.0016\n",
              "                \n",
              "            </td>\n",
              "            <td style=\"padding: 0 0.5em 0 0.5em; text-align: left; border: none;\">\n",
              "                Low_Education_2015_update\n",
              "            </td>\n",
              "        </tr>\n",
              "    \n",
              "        <tr style=\"background-color: hsl(120, 100.00%, 97.63%); border: none;\">\n",
              "            <td style=\"padding: 0 1em 0 0.5em; text-align: right; border: none;\">\n",
              "                0.0008\n",
              "                \n",
              "                    &plusmn; 0.0047\n",
              "                \n",
              "            </td>\n",
              "            <td style=\"padding: 0 0.5em 0 0.5em; text-align: left; border: none;\">\n",
              "                MedHHInc\n",
              "            </td>\n",
              "        </tr>\n",
              "    \n",
              "        <tr style=\"background-color: hsl(0, 100.00%, 100.00%); border: none;\">\n",
              "            <td style=\"padding: 0 1em 0 0.5em; text-align: right; border: none;\">\n",
              "                0\n",
              "                \n",
              "                    &plusmn; 0.0000\n",
              "                \n",
              "            </td>\n",
              "            <td style=\"padding: 0 0.5em 0 0.5em; text-align: left; border: none;\">\n",
              "                Deep_Pov_All\n",
              "            </td>\n",
              "        </tr>\n",
              "    \n",
              "        <tr style=\"background-color: hsl(0, 100.00%, 100.00%); border: none;\">\n",
              "            <td style=\"padding: 0 1em 0 0.5em; text-align: right; border: none;\">\n",
              "                0\n",
              "                \n",
              "                    &plusmn; 0.0000\n",
              "                \n",
              "            </td>\n",
              "            <td style=\"padding: 0 0.5em 0 0.5em; text-align: left; border: none;\">\n",
              "                PovertyAllAgesPct\n",
              "            </td>\n",
              "        </tr>\n",
              "    \n",
              "        <tr style=\"background-color: hsl(0, 100.00%, 100.00%); border: none;\">\n",
              "            <td style=\"padding: 0 1em 0 0.5em; text-align: right; border: none;\">\n",
              "                0\n",
              "                \n",
              "                    &plusmn; 0.0000\n",
              "                \n",
              "            </td>\n",
              "            <td style=\"padding: 0 0.5em 0 0.5em; text-align: left; border: none;\">\n",
              "                PovertyUnder18Pct\n",
              "            </td>\n",
              "        </tr>\n",
              "    \n",
              "        <tr style=\"background-color: hsl(0, 100.00%, 100.00%); border: none;\">\n",
              "            <td style=\"padding: 0 1em 0 0.5em; text-align: right; border: none;\">\n",
              "                0.0000\n",
              "                \n",
              "                    &plusmn; 0.0031\n",
              "                \n",
              "            </td>\n",
              "            <td style=\"padding: 0 0.5em 0 0.5em; text-align: left; border: none;\">\n",
              "                PctEmpAgriculture\n",
              "            </td>\n",
              "        </tr>\n",
              "    \n",
              "        <tr style=\"background-color: hsl(0, 100.00%, 100.00%); border: none;\">\n",
              "            <td style=\"padding: 0 1em 0 0.5em; text-align: right; border: none;\">\n",
              "                0\n",
              "                \n",
              "                    &plusmn; 0.0000\n",
              "                \n",
              "            </td>\n",
              "            <td style=\"padding: 0 0.5em 0 0.5em; text-align: left; border: none;\">\n",
              "                PctEmpManufacturing\n",
              "            </td>\n",
              "        </tr>\n",
              "    \n",
              "        <tr style=\"background-color: hsl(0, 100.00%, 100.00%); border: none;\">\n",
              "            <td style=\"padding: 0 1em 0 0.5em; text-align: right; border: none;\">\n",
              "                0.0000\n",
              "                \n",
              "                    &plusmn; 0.0094\n",
              "                \n",
              "            </td>\n",
              "            <td style=\"padding: 0 0.5em 0 0.5em; text-align: left; border: none;\">\n",
              "                PctEmpInformation\n",
              "            </td>\n",
              "        </tr>\n",
              "    \n",
              "        <tr style=\"background-color: hsl(0, 100.00%, 100.00%); border: none;\">\n",
              "            <td style=\"padding: 0 1em 0 0.5em; text-align: right; border: none;\">\n",
              "                0\n",
              "                \n",
              "                    &plusmn; 0.0000\n",
              "                \n",
              "            </td>\n",
              "            <td style=\"padding: 0 0.5em 0 0.5em; text-align: left; border: none;\">\n",
              "                PerCapitaInc\n",
              "            </td>\n",
              "        </tr>\n",
              "    \n",
              "        <tr style=\"background-color: hsl(0, 100.00%, 100.00%); border: none;\">\n",
              "            <td style=\"padding: 0 1em 0 0.5em; text-align: right; border: none;\">\n",
              "                0\n",
              "                \n",
              "                    &plusmn; 0.0000\n",
              "                \n",
              "            </td>\n",
              "            <td style=\"padding: 0 0.5em 0 0.5em; text-align: left; border: none;\">\n",
              "                Persistent_Poverty_2013\n",
              "            </td>\n",
              "        </tr>\n",
              "    \n",
              "        <tr style=\"background-color: hsl(0, 100.00%, 100.00%); border: none;\">\n",
              "            <td style=\"padding: 0 1em 0 0.5em; text-align: right; border: none;\">\n",
              "                0.0000\n",
              "                \n",
              "                    &plusmn; 0.0031\n",
              "                \n",
              "            </td>\n",
              "            <td style=\"padding: 0 0.5em 0 0.5em; text-align: left; border: none;\">\n",
              "                PctVetsPoor\n",
              "            </td>\n",
              "        </tr>\n",
              "    \n",
              "        <tr style=\"background-color: hsl(0, 100.00%, 100.00%); border: none;\">\n",
              "            <td style=\"padding: 0 1em 0 0.5em; text-align: right; border: none;\">\n",
              "                -0.0000\n",
              "                \n",
              "                    &plusmn; 0.0063\n",
              "                \n",
              "            </td>\n",
              "            <td style=\"padding: 0 0.5em 0 0.5em; text-align: left; border: none;\">\n",
              "                PctEmpMining\n",
              "            </td>\n",
              "        </tr>\n",
              "    \n",
              "        <tr style=\"background-color: hsl(0, 100.00%, 97.63%); border: none;\">\n",
              "            <td style=\"padding: 0 1em 0 0.5em; text-align: right; border: none;\">\n",
              "                -0.0008\n",
              "                \n",
              "                    &plusmn; 0.0047\n",
              "                \n",
              "            </td>\n",
              "            <td style=\"padding: 0 0.5em 0 0.5em; text-align: left; border: none;\">\n",
              "                Age65AndOlderPct2010\n",
              "            </td>\n",
              "        </tr>\n",
              "    \n",
              "        <tr style=\"background-color: hsl(0, 100.00%, 96.14%); border: none;\">\n",
              "            <td style=\"padding: 0 1em 0 0.5em; text-align: right; border: none;\">\n",
              "                -0.0016\n",
              "                \n",
              "                    &plusmn; 0.0000\n",
              "                \n",
              "            </td>\n",
              "            <td style=\"padding: 0 0.5em 0 0.5em; text-align: left; border: none;\">\n",
              "                PctVetsDisabilty\n",
              "            </td>\n",
              "        </tr>\n",
              "    \n",
              "        <tr style=\"background-color: hsl(0, 100.00%, 96.14%); border: none;\">\n",
              "            <td style=\"padding: 0 1em 0 0.5em; text-align: right; border: none;\">\n",
              "                -0.0016\n",
              "                \n",
              "                    &plusmn; 0.0126\n",
              "                \n",
              "            </td>\n",
              "            <td style=\"padding: 0 0.5em 0 0.5em; text-align: left; border: none;\">\n",
              "                MaleVetsPct\n",
              "            </td>\n",
              "        </tr>\n",
              "    \n",
              "        <tr style=\"background-color: hsl(0, 100.00%, 96.14%); border: none;\">\n",
              "            <td style=\"padding: 0 1em 0 0.5em; text-align: right; border: none;\">\n",
              "                -0.0016\n",
              "                \n",
              "                    &plusmn; 0.0031\n",
              "                \n",
              "            </td>\n",
              "            <td style=\"padding: 0 0.5em 0 0.5em; text-align: left; border: none;\">\n",
              "                PctEmpTrade\n",
              "            </td>\n",
              "        </tr>\n",
              "    \n",
              "        <tr style=\"background-color: hsl(0, 100.00%, 94.88%); border: none;\">\n",
              "            <td style=\"padding: 0 1em 0 0.5em; text-align: right; border: none;\">\n",
              "                -0.0024\n",
              "                \n",
              "                    &plusmn; 0.0110\n",
              "                \n",
              "            </td>\n",
              "            <td style=\"padding: 0 0.5em 0 0.5em; text-align: left; border: none;\">\n",
              "                Vets18OPct\n",
              "            </td>\n",
              "        </tr>\n",
              "    \n",
              "        <tr style=\"background-color: hsl(0, 100.00%, 94.88%); border: none;\">\n",
              "            <td style=\"padding: 0 1em 0 0.5em; text-align: right; border: none;\">\n",
              "                -0.0024\n",
              "                \n",
              "                    &plusmn; 0.0110\n",
              "                \n",
              "            </td>\n",
              "            <td style=\"padding: 0 0.5em 0 0.5em; text-align: left; border: none;\">\n",
              "                UnempRate2018\n",
              "            </td>\n",
              "        </tr>\n",
              "    \n",
              "        <tr style=\"background-color: hsl(0, 100.00%, 91.68%); border: none;\">\n",
              "            <td style=\"padding: 0 1em 0 0.5em; text-align: right; border: none;\">\n",
              "                -0.0047\n",
              "                \n",
              "                    &plusmn; 0.0063\n",
              "                \n",
              "            </td>\n",
              "            <td style=\"padding: 0 0.5em 0 0.5em; text-align: left; border: none;\">\n",
              "                PopDensity2010\n",
              "            </td>\n",
              "        </tr>\n",
              "    \n",
              "        <tr style=\"background-color: hsl(0, 100.00%, 90.73%); border: none;\">\n",
              "            <td style=\"padding: 0 1em 0 0.5em; text-align: right; border: none;\">\n",
              "                -0.0055\n",
              "                \n",
              "                    &plusmn; 0.0079\n",
              "                \n",
              "            </td>\n",
              "            <td style=\"padding: 0 0.5em 0 0.5em; text-align: left; border: none;\">\n",
              "                PopChangeRate1018\n",
              "            </td>\n",
              "        </tr>\n",
              "    \n",
              "        <tr style=\"background-color: hsl(0, 100.00%, 90.73%); border: none;\">\n",
              "            <td style=\"padding: 0 1em 0 0.5em; text-align: right; border: none;\">\n",
              "                -0.0055\n",
              "                \n",
              "                    &plusmn; 0.0047\n",
              "                \n",
              "            </td>\n",
              "            <td style=\"padding: 0 0.5em 0 0.5em; text-align: left; border: none;\">\n",
              "                RuralUrbanContinuumCode2013\n",
              "            </td>\n",
              "        </tr>\n",
              "    \n",
              "        <tr style=\"background-color: hsl(0, 100.00%, 89.82%); border: none;\">\n",
              "            <td style=\"padding: 0 1em 0 0.5em; text-align: right; border: none;\">\n",
              "                -0.0063\n",
              "                \n",
              "                    &plusmn; 0.0031\n",
              "                \n",
              "            </td>\n",
              "            <td style=\"padding: 0 0.5em 0 0.5em; text-align: left; border: none;\">\n",
              "                Metro-nonmetro status, 2013 0=Nonmetro 1=Metro\n",
              "            </td>\n",
              "        </tr>\n",
              "    \n",
              "        <tr style=\"background-color: hsl(0, 100.00%, 89.82%); border: none;\">\n",
              "            <td style=\"padding: 0 1em 0 0.5em; text-align: right; border: none;\">\n",
              "                -0.0063\n",
              "                \n",
              "                    &plusmn; 0.0063\n",
              "                \n",
              "            </td>\n",
              "            <td style=\"padding: 0 0.5em 0 0.5em; text-align: left; border: none;\">\n",
              "                PovertyUnder18Num\n",
              "            </td>\n",
              "        </tr>\n",
              "    \n",
              "        <tr style=\"background-color: hsl(0, 100.00%, 88.95%); border: none;\">\n",
              "            <td style=\"padding: 0 1em 0 0.5em; text-align: right; border: none;\">\n",
              "                -0.0071\n",
              "                \n",
              "                    &plusmn; 0.0047\n",
              "                \n",
              "            </td>\n",
              "            <td style=\"padding: 0 0.5em 0 0.5em; text-align: left; border: none;\">\n",
              "                Under18Pct2010\n",
              "            </td>\n",
              "        </tr>\n",
              "    \n",
              "        <tr style=\"background-color: hsl(0, 100.00%, 86.48%); border: none;\">\n",
              "            <td style=\"padding: 0 1em 0 0.5em; text-align: right; border: none;\">\n",
              "                -0.0094\n",
              "                \n",
              "                    &plusmn; 0.0094\n",
              "                \n",
              "            </td>\n",
              "            <td style=\"padding: 0 0.5em 0 0.5em; text-align: left; border: none;\">\n",
              "                PctNonVetsPoor\n",
              "            </td>\n",
              "        </tr>\n",
              "    \n",
              "        <tr style=\"background-color: hsl(0, 100.00%, 85.70%); border: none;\">\n",
              "            <td style=\"padding: 0 1em 0 0.5em; text-align: right; border: none;\">\n",
              "                -0.0102\n",
              "                \n",
              "                    &plusmn; 0.0047\n",
              "                \n",
              "            </td>\n",
              "            <td style=\"padding: 0 0.5em 0 0.5em; text-align: left; border: none;\">\n",
              "                Deep_Pov_Children\n",
              "            </td>\n",
              "        </tr>\n",
              "    \n",
              "        <tr style=\"background-color: hsl(0, 100.00%, 84.20%); border: none;\">\n",
              "            <td style=\"padding: 0 1em 0 0.5em; text-align: right; border: none;\">\n",
              "                -0.0118\n",
              "                \n",
              "                    &plusmn; 0.0047\n",
              "                \n",
              "            </td>\n",
              "            <td style=\"padding: 0 0.5em 0 0.5em; text-align: left; border: none;\">\n",
              "                PovertyAllAgesNum\n",
              "            </td>\n",
              "        </tr>\n",
              "    \n",
              "    \n",
              "    </tbody>\n",
              "</table>\n",
              "    \n",
              "\n",
              "    \n",
              "\n",
              "\n",
              "    \n",
              "\n",
              "    \n",
              "\n",
              "    \n",
              "\n",
              "    \n",
              "\n",
              "    \n",
              "\n",
              "    \n",
              "\n",
              "\n",
              "\n"
            ],
            "text/plain": [
              "<IPython.core.display.HTML object>"
            ]
          },
          "metadata": {
            "tags": []
          },
          "execution_count": 23
        }
      ]
    },
    {
      "cell_type": "markdown",
      "metadata": {
        "id": "OQsYvTBJILrn",
        "colab_type": "text"
      },
      "source": [
        "### XG-BOOST"
      ]
    },
    {
      "cell_type": "code",
      "metadata": {
        "id": "TnLHRHqxg8NQ",
        "colab_type": "code",
        "colab": {
          "base_uri": "https://localhost:8080/",
          "height": 365
        },
        "outputId": "43661f4b-3fc6-41d9-c3a3-6876d0d1e82e"
      },
      "source": [
        "X_train.head()"
      ],
      "execution_count": 63,
      "outputs": [
        {
          "output_type": "execute_result",
          "data": {
            "text/html": [
              "<div>\n",
              "<style scoped>\n",
              "    .dataframe tbody tr th:only-of-type {\n",
              "        vertical-align: middle;\n",
              "    }\n",
              "\n",
              "    .dataframe tbody tr th {\n",
              "        vertical-align: top;\n",
              "    }\n",
              "\n",
              "    .dataframe thead th {\n",
              "        text-align: right;\n",
              "    }\n",
              "</style>\n",
              "<table border=\"1\" class=\"dataframe\">\n",
              "  <thead>\n",
              "    <tr style=\"text-align: right;\">\n",
              "      <th></th>\n",
              "      <th>low</th>\n",
              "      <th>MedHHInc</th>\n",
              "      <th>PerCapitaInc</th>\n",
              "      <th>PovertyUnder18Pct</th>\n",
              "      <th>PovertyAllAgesPct</th>\n",
              "      <th>Deep_Pov_All</th>\n",
              "      <th>Deep_Pov_Children</th>\n",
              "      <th>PovertyUnder18Num</th>\n",
              "      <th>PovertyAllAgesNum</th>\n",
              "      <th>RuralUrbanContinuumCode2013</th>\n",
              "      <th>Type_2015_Update</th>\n",
              "      <th>Low_Education_2015_update</th>\n",
              "      <th>Low_Employment_2015_update</th>\n",
              "      <th>Population_loss_2015_update</th>\n",
              "      <th>Metro_Adjacent2013</th>\n",
              "      <th>Vets18OPct</th>\n",
              "      <th>MaleVetsPct</th>\n",
              "      <th>PctVetsPoor</th>\n",
              "      <th>PctNonVetsPoor</th>\n",
              "      <th>PctVetsDisabilty</th>\n",
              "      <th>PctNonVetsDisabilty</th>\n",
              "      <th>PopChangeRate1018</th>\n",
              "      <th>NetMigrationRate1018</th>\n",
              "      <th>PopDensity2010</th>\n",
              "      <th>Under18Pct2010</th>\n",
              "      <th>Age65AndOlderPct2010</th>\n",
              "      <th>ForeignBornPct</th>\n",
              "      <th>UnempRate2018</th>\n",
              "      <th>UnempRate2015</th>\n",
              "      <th>PctEmpChange1018</th>\n",
              "      <th>PctEmpAgriculture</th>\n",
              "      <th>PctEmpMining</th>\n",
              "      <th>PctEmpConstruction</th>\n",
              "      <th>PctEmpManufacturing</th>\n",
              "      <th>PctEmpTrade</th>\n",
              "      <th>PctEmpTrans</th>\n",
              "      <th>PctEmpInformation</th>\n",
              "      <th>PctEmpFIRE</th>\n",
              "      <th>PctEmpServices</th>\n",
              "      <th>PctEmpGovt</th>\n",
              "      <th>Metro-nonmetro status, 2013 0=Nonmetro 1=Metro</th>\n",
              "      <th>Persistent_Poverty_2013</th>\n",
              "      <th>Persistent_Related_Child_Poverty_2013</th>\n",
              "      <th>Economic Types Type_2015_Update non-overlapping</th>\n",
              "      <th>metro03</th>\n",
              "      <th>Economic_Type_Label</th>\n",
              "    </tr>\n",
              "  </thead>\n",
              "  <tbody>\n",
              "    <tr>\n",
              "      <th>24192</th>\n",
              "      <td>0.00</td>\n",
              "      <td>46762.0</td>\n",
              "      <td>28488.0</td>\n",
              "      <td>31.8</td>\n",
              "      <td>22.1</td>\n",
              "      <td>11.325533</td>\n",
              "      <td>18.014184</td>\n",
              "      <td>39518.0</td>\n",
              "      <td>130267.0</td>\n",
              "      <td>1.0</td>\n",
              "      <td>4.0</td>\n",
              "      <td>0.0</td>\n",
              "      <td>0.0</td>\n",
              "      <td>1.0</td>\n",
              "      <td>0.0</td>\n",
              "      <td>6.012918</td>\n",
              "      <td>89.931358</td>\n",
              "      <td>19.186740</td>\n",
              "      <td>20.117272</td>\n",
              "      <td>22.567374</td>\n",
              "      <td>13.449273</td>\n",
              "      <td>-2.98</td>\n",
              "      <td>-5.85</td>\n",
              "      <td>7671.52</td>\n",
              "      <td>21.51</td>\n",
              "      <td>11.73</td>\n",
              "      <td>7.996986</td>\n",
              "      <td>5.7</td>\n",
              "      <td>7.0</td>\n",
              "      <td>4.17</td>\n",
              "      <td>0.180965</td>\n",
              "      <td>0.029501</td>\n",
              "      <td>4.422314</td>\n",
              "      <td>4.494629</td>\n",
              "      <td>10.882016</td>\n",
              "      <td>5.693748</td>\n",
              "      <td>1.940249</td>\n",
              "      <td>5.631507</td>\n",
              "      <td>58.318283</td>\n",
              "      <td>8.406787</td>\n",
              "      <td>1</td>\n",
              "      <td>1</td>\n",
              "      <td>1</td>\n",
              "      <td>4</td>\n",
              "      <td>1</td>\n",
              "      <td>Federal/State Government</td>\n",
              "    </tr>\n",
              "    <tr>\n",
              "      <th>55154</th>\n",
              "      <td>1.01</td>\n",
              "      <td>40353.0</td>\n",
              "      <td>21938.0</td>\n",
              "      <td>22.9</td>\n",
              "      <td>16.4</td>\n",
              "      <td>6.301327</td>\n",
              "      <td>7.211210</td>\n",
              "      <td>645.0</td>\n",
              "      <td>2031.0</td>\n",
              "      <td>6.0</td>\n",
              "      <td>4.0</td>\n",
              "      <td>1.0</td>\n",
              "      <td>0.0</td>\n",
              "      <td>1.0</td>\n",
              "      <td>1.0</td>\n",
              "      <td>9.295097</td>\n",
              "      <td>91.693635</td>\n",
              "      <td>1.782820</td>\n",
              "      <td>16.666667</td>\n",
              "      <td>41.653160</td>\n",
              "      <td>16.396243</td>\n",
              "      <td>-5.11</td>\n",
              "      <td>-5.72</td>\n",
              "      <td>13.94</td>\n",
              "      <td>25.62</td>\n",
              "      <td>15.57</td>\n",
              "      <td>4.239901</td>\n",
              "      <td>4.1</td>\n",
              "      <td>4.0</td>\n",
              "      <td>-15.40</td>\n",
              "      <td>4.771686</td>\n",
              "      <td>2.559646</td>\n",
              "      <td>3.839469</td>\n",
              "      <td>13.414441</td>\n",
              "      <td>11.423606</td>\n",
              "      <td>3.744667</td>\n",
              "      <td>0.616211</td>\n",
              "      <td>6.051509</td>\n",
              "      <td>48.380471</td>\n",
              "      <td>5.198294</td>\n",
              "      <td>0</td>\n",
              "      <td>0</td>\n",
              "      <td>0</td>\n",
              "      <td>4</td>\n",
              "      <td>0</td>\n",
              "      <td>Federal/State Government</td>\n",
              "    </tr>\n",
              "    <tr>\n",
              "      <th>1659</th>\n",
              "      <td>0.78</td>\n",
              "      <td>53877.0</td>\n",
              "      <td>20952.0</td>\n",
              "      <td>28.8</td>\n",
              "      <td>23.2</td>\n",
              "      <td>10.161324</td>\n",
              "      <td>11.746805</td>\n",
              "      <td>970.0</td>\n",
              "      <td>2248.0</td>\n",
              "      <td>7.0</td>\n",
              "      <td>0.0</td>\n",
              "      <td>0.0</td>\n",
              "      <td>1.0</td>\n",
              "      <td>0.0</td>\n",
              "      <td>0.0</td>\n",
              "      <td>7.196262</td>\n",
              "      <td>88.311688</td>\n",
              "      <td>21.071429</td>\n",
              "      <td>23.974164</td>\n",
              "      <td>17.142857</td>\n",
              "      <td>9.384498</td>\n",
              "      <td>4.86</td>\n",
              "      <td>-7.19</td>\n",
              "      <td>0.41</td>\n",
              "      <td>34.33</td>\n",
              "      <td>6.35</td>\n",
              "      <td>2.148141</td>\n",
              "      <td>11.6</td>\n",
              "      <td>11.0</td>\n",
              "      <td>1.14</td>\n",
              "      <td>1.099203</td>\n",
              "      <td>3.132729</td>\n",
              "      <td>3.352569</td>\n",
              "      <td>3.544930</td>\n",
              "      <td>8.189063</td>\n",
              "      <td>9.123386</td>\n",
              "      <td>0.522121</td>\n",
              "      <td>2.170926</td>\n",
              "      <td>51.250343</td>\n",
              "      <td>17.614729</td>\n",
              "      <td>0</td>\n",
              "      <td>0</td>\n",
              "      <td>0</td>\n",
              "      <td>0</td>\n",
              "      <td>0</td>\n",
              "      <td>Nonspecialized</td>\n",
              "    </tr>\n",
              "    <tr>\n",
              "      <th>53232</th>\n",
              "      <td>1.19</td>\n",
              "      <td>41434.0</td>\n",
              "      <td>21093.0</td>\n",
              "      <td>28.7</td>\n",
              "      <td>19.1</td>\n",
              "      <td>10.387480</td>\n",
              "      <td>18.324508</td>\n",
              "      <td>1513.0</td>\n",
              "      <td>4192.0</td>\n",
              "      <td>6.0</td>\n",
              "      <td>4.0</td>\n",
              "      <td>0.0</td>\n",
              "      <td>1.0</td>\n",
              "      <td>0.0</td>\n",
              "      <td>1.0</td>\n",
              "      <td>7.495713</td>\n",
              "      <td>95.350554</td>\n",
              "      <td>4.093567</td>\n",
              "      <td>18.825360</td>\n",
              "      <td>27.095517</td>\n",
              "      <td>13.403345</td>\n",
              "      <td>0.12</td>\n",
              "      <td>-1.25</td>\n",
              "      <td>25.83</td>\n",
              "      <td>23.59</td>\n",
              "      <td>16.13</td>\n",
              "      <td>9.450596</td>\n",
              "      <td>4.7</td>\n",
              "      <td>5.0</td>\n",
              "      <td>-12.55</td>\n",
              "      <td>3.955122</td>\n",
              "      <td>5.768359</td>\n",
              "      <td>7.026292</td>\n",
              "      <td>10.675431</td>\n",
              "      <td>12.092022</td>\n",
              "      <td>6.085675</td>\n",
              "      <td>0.487307</td>\n",
              "      <td>2.765186</td>\n",
              "      <td>43.857661</td>\n",
              "      <td>7.286945</td>\n",
              "      <td>0</td>\n",
              "      <td>0</td>\n",
              "      <td>1</td>\n",
              "      <td>4</td>\n",
              "      <td>0</td>\n",
              "      <td>Federal/State Government</td>\n",
              "    </tr>\n",
              "    <tr>\n",
              "      <th>31292</th>\n",
              "      <td>3.46</td>\n",
              "      <td>61592.0</td>\n",
              "      <td>26781.0</td>\n",
              "      <td>15.1</td>\n",
              "      <td>10.3</td>\n",
              "      <td>5.194633</td>\n",
              "      <td>7.838299</td>\n",
              "      <td>764.0</td>\n",
              "      <td>2315.0</td>\n",
              "      <td>1.0</td>\n",
              "      <td>0.0</td>\n",
              "      <td>0.0</td>\n",
              "      <td>0.0</td>\n",
              "      <td>0.0</td>\n",
              "      <td>0.0</td>\n",
              "      <td>9.561503</td>\n",
              "      <td>93.746278</td>\n",
              "      <td>9.189843</td>\n",
              "      <td>12.958167</td>\n",
              "      <td>20.556227</td>\n",
              "      <td>13.468331</td>\n",
              "      <td>-2.60</td>\n",
              "      <td>-2.34</td>\n",
              "      <td>41.30</td>\n",
              "      <td>24.97</td>\n",
              "      <td>14.83</td>\n",
              "      <td>0.861805</td>\n",
              "      <td>3.6</td>\n",
              "      <td>5.0</td>\n",
              "      <td>2.58</td>\n",
              "      <td>2.584662</td>\n",
              "      <td>0.452787</td>\n",
              "      <td>7.150269</td>\n",
              "      <td>17.026696</td>\n",
              "      <td>13.508160</td>\n",
              "      <td>8.489765</td>\n",
              "      <td>2.424300</td>\n",
              "      <td>3.914725</td>\n",
              "      <td>39.901896</td>\n",
              "      <td>4.546741</td>\n",
              "      <td>1</td>\n",
              "      <td>0</td>\n",
              "      <td>0</td>\n",
              "      <td>0</td>\n",
              "      <td>1</td>\n",
              "      <td>Nonspecialized</td>\n",
              "    </tr>\n",
              "  </tbody>\n",
              "</table>\n",
              "</div>"
            ],
            "text/plain": [
              "        low  MedHHInc  ...  metro03       Economic_Type_Label\n",
              "24192  0.00   46762.0  ...        1  Federal/State Government\n",
              "55154  1.01   40353.0  ...        0  Federal/State Government\n",
              "1659   0.78   53877.0  ...        0            Nonspecialized\n",
              "53232  1.19   41434.0  ...        0  Federal/State Government\n",
              "31292  3.46   61592.0  ...        1            Nonspecialized\n",
              "\n",
              "[5 rows x 46 columns]"
            ]
          },
          "metadata": {
            "tags": []
          },
          "execution_count": 63
        }
      ]
    },
    {
      "cell_type": "code",
      "metadata": {
        "id": "PWnXuk4oIPBk",
        "colab_type": "code",
        "colab": {
          "base_uri": "https://localhost:8080/",
          "height": 312
        },
        "outputId": "ed3c1b2a-a25a-4f41-cc0d-509860c13046"
      },
      "source": [
        "from xgboost import XGBClassifier\n",
        "\n",
        "pipeline = make_pipeline(\n",
        "    ce.OrdinalEncoder(), \n",
        "    XGBClassifier(n_estimators=100, random_state=1, n_jobs=-1)\n",
        ")\n",
        "X_train2 = X_train[['PctEmpConstruction','RuralUrbanContinuumCode2013']]\n",
        "X_val2 = X_val[['PctEmpConstruction','RuralUrbanContinuumCode2013']]\n",
        "pipeline.fit(X_train2, y_train)"
      ],
      "execution_count": 68,
      "outputs": [
        {
          "output_type": "execute_result",
          "data": {
            "text/plain": [
              "Pipeline(memory=None,\n",
              "         steps=[('ordinalencoder',\n",
              "                 OrdinalEncoder(cols=[], drop_invariant=False,\n",
              "                                handle_missing='value', handle_unknown='value',\n",
              "                                mapping=[], return_df=True, verbose=0)),\n",
              "                ('xgbclassifier',\n",
              "                 XGBClassifier(base_score=0.5, booster='gbtree',\n",
              "                               colsample_bylevel=1, colsample_bynode=1,\n",
              "                               colsample_bytree=1, gamma=0, learning_rate=0.1,\n",
              "                               max_delta_step=0, max_depth=3,\n",
              "                               min_child_weight=1, missing=None,\n",
              "                               n_estimators=100, n_jobs=-1, nthread=None,\n",
              "                               objective='multi:softprob', random_state=1,\n",
              "                               reg_alpha=0, reg_lambda=1, scale_pos_weight=1,\n",
              "                               seed=None, silent=None, subsample=1,\n",
              "                               verbosity=1))],\n",
              "         verbose=False)"
            ]
          },
          "metadata": {
            "tags": []
          },
          "execution_count": 68
        }
      ]
    },
    {
      "cell_type": "code",
      "metadata": {
        "id": "zA4O7jJlIXZV",
        "colab_type": "code",
        "colab": {
          "base_uri": "https://localhost:8080/",
          "height": 34
        },
        "outputId": "350404c3-4294-44b0-ac47-c63b395fc3da"
      },
      "source": [
        "from sklearn.metrics import accuracy_score\n",
        "y_pred = pipeline.predict(X_val2)\n",
        "print('Validation Accuracy', accuracy_score(y_val, y_pred))"
      ],
      "execution_count": 70,
      "outputs": [
        {
          "output_type": "stream",
          "text": [
            "Validation Accuracy 0.4485981308411215\n"
          ],
          "name": "stdout"
        }
      ]
    },
    {
      "cell_type": "code",
      "metadata": {
        "id": "QRZJDMqjcvwZ",
        "colab_type": "code",
        "colab": {
          "base_uri": "https://localhost:8080/",
          "height": 34
        },
        "outputId": "3cfc82ba-3e5e-430f-fd8f-9365b5e080f7"
      },
      "source": [
        "#Avoiding Overfit via Early Stopping\n",
        "encoder = ce.OrdinalEncoder()\n",
        "X_train_encoded = encoder.fit_transform(X_train2)\n",
        "X_val_encoded = encoder.transform(X_val2)\n",
        "\n",
        "X_train.shape, X_val.shape, X_train_encoded.shape, X_val_encoded.shape"
      ],
      "execution_count": 71,
      "outputs": [
        {
          "output_type": "execute_result",
          "data": {
            "text/plain": [
              "((2203, 46), (535, 46), (2203, 2), (535, 2))"
            ]
          },
          "metadata": {
            "tags": []
          },
          "execution_count": 71
        }
      ]
    },
    {
      "cell_type": "code",
      "metadata": {
        "id": "dDV8uH07c7wg",
        "colab_type": "code",
        "colab": {
          "base_uri": "https://localhost:8080/",
          "height": 660
        },
        "outputId": "2765f566-7f5c-4592-9b2e-75feffe1cc93"
      },
      "source": [
        "eval_set = [(X_train_encoded, y_train),\n",
        "            (X_val_encoded, y_val)] \n",
        "\n",
        "model = XGBClassifier(\n",
        "    n_estimators=1000, # <= 1000 trees, depends on early stopping\n",
        "    max_depth=8,       # try deeper trees because of high cardinality categoricals\n",
        "    learning_rate=0.1, # try higher learning rate\n",
        "    n_jobs=-1\n",
        ")\n",
        "\n",
        "model.fit(X_train_encoded, y_train, eval_set=eval_set, \n",
        "          eval_metric='merror', early_stopping_rounds=17) #change after early-stop analysis -> see plot below -> b/w epochs 15&20\n",
        "\n",
        "# classification error is reported w/each training iteration (after each boosted tree is added to the model)\n",
        "# https://machinelearningmastery.com/avoid-overfitting-by-early-stopping-with-xgboost-in-python/"
      ],
      "execution_count": 83,
      "outputs": [
        {
          "output_type": "stream",
          "text": [
            "[0]\tvalidation_0-merror:0.423513\tvalidation_1-merror:0.568224\n",
            "Multiple eval metrics have been passed: 'validation_1-merror' will be used for early stopping.\n",
            "\n",
            "Will train until validation_1-merror hasn't improved in 17 rounds.\n",
            "[1]\tvalidation_0-merror:0.412619\tvalidation_1-merror:0.562617\n",
            "[2]\tvalidation_0-merror:0.40808\tvalidation_1-merror:0.566355\n",
            "[3]\tvalidation_0-merror:0.397186\tvalidation_1-merror:0.573832\n",
            "[4]\tvalidation_0-merror:0.391739\tvalidation_1-merror:0.573832\n",
            "[5]\tvalidation_0-merror:0.394462\tvalidation_1-merror:0.568224\n",
            "[6]\tvalidation_0-merror:0.389469\tvalidation_1-merror:0.560748\n",
            "[7]\tvalidation_0-merror:0.378575\tvalidation_1-merror:0.564486\n",
            "[8]\tvalidation_0-merror:0.379483\tvalidation_1-merror:0.573832\n",
            "[9]\tvalidation_0-merror:0.374489\tvalidation_1-merror:0.57757\n",
            "[10]\tvalidation_0-merror:0.365865\tvalidation_1-merror:0.579439\n",
            "[11]\tvalidation_0-merror:0.364957\tvalidation_1-merror:0.570093\n",
            "[12]\tvalidation_0-merror:0.364049\tvalidation_1-merror:0.570093\n",
            "[13]\tvalidation_0-merror:0.362233\tvalidation_1-merror:0.573832\n",
            "[14]\tvalidation_0-merror:0.364503\tvalidation_1-merror:0.573832\n",
            "[15]\tvalidation_0-merror:0.357694\tvalidation_1-merror:0.57757\n",
            "[16]\tvalidation_0-merror:0.353609\tvalidation_1-merror:0.575701\n",
            "[17]\tvalidation_0-merror:0.352701\tvalidation_1-merror:0.575701\n",
            "[18]\tvalidation_0-merror:0.351339\tvalidation_1-merror:0.573832\n",
            "[19]\tvalidation_0-merror:0.350431\tvalidation_1-merror:0.570093\n",
            "[20]\tvalidation_0-merror:0.347708\tvalidation_1-merror:0.571963\n",
            "[21]\tvalidation_0-merror:0.346346\tvalidation_1-merror:0.570093\n",
            "[22]\tvalidation_0-merror:0.346346\tvalidation_1-merror:0.566355\n",
            "[23]\tvalidation_0-merror:0.3468\tvalidation_1-merror:0.562617\n",
            "Stopping. Best iteration:\n",
            "[6]\tvalidation_0-merror:0.389469\tvalidation_1-merror:0.560748\n",
            "\n"
          ],
          "name": "stdout"
        },
        {
          "output_type": "execute_result",
          "data": {
            "text/plain": [
              "XGBClassifier(base_score=0.5, booster='gbtree', colsample_bylevel=1,\n",
              "              colsample_bynode=1, colsample_bytree=1, gamma=0,\n",
              "              learning_rate=0.1, max_delta_step=0, max_depth=8,\n",
              "              min_child_weight=1, missing=None, n_estimators=1000, n_jobs=-1,\n",
              "              nthread=None, objective='multi:softprob', random_state=0,\n",
              "              reg_alpha=0, reg_lambda=1, scale_pos_weight=1, seed=None,\n",
              "              silent=None, subsample=1, verbosity=1)"
            ]
          },
          "metadata": {
            "tags": []
          },
          "execution_count": 83
        }
      ]
    },
    {
      "cell_type": "code",
      "metadata": {
        "id": "jjgatwI79bNE",
        "colab_type": "code",
        "colab": {
          "base_uri": "https://localhost:8080/",
          "height": 34
        },
        "outputId": "189c8b57-9fae-4b51-cf7b-dddac31bf97b"
      },
      "source": [
        "from sklearn.metrics import accuracy_score\n",
        "y_pred = pipeline.predict(X_val2)\n",
        "print('Validation Accuracy', accuracy_score(y_val, y_pred))\n"
      ],
      "execution_count": 84,
      "outputs": [
        {
          "output_type": "stream",
          "text": [
            "Validation Accuracy 0.4485981308411215\n"
          ],
          "name": "stdout"
        }
      ]
    },
    {
      "cell_type": "code",
      "metadata": {
        "id": "oMevXZ2kdrJL",
        "colab_type": "code",
        "colab": {
          "base_uri": "https://localhost:8080/",
          "height": 284
        },
        "outputId": "fdaef6eb-bfff-4c90-db1a-c5dd3865d899"
      },
      "source": [
        "import matplotlib.pyplot as plt\n",
        "results = model.evals_result()\n",
        "train_error = results['validation_0']['merror']\n",
        "val_error = results['validation_1']['merror']\n",
        "epoch = range(1, len(train_error)+1)\n",
        "plt.plot(epoch, train_error, label='Train')\n",
        "plt.plot(epoch, val_error, label='Validation')\n",
        "plt.ylabel('Classification Error')\n",
        "plt.xlabel('Model Complexity (n_estimators)')\n",
        "plt.ylim((0.5, 0.61))  # Zoom in\n",
        "plt.xlim((.05,40))\n",
        "plt.legend();\n",
        "\n",
        "#consider stop learning b/w epoch 15 and 20  "
      ],
      "execution_count": 75,
      "outputs": [
        {
          "output_type": "display_data",
          "data": {
            "image/png": "[encoded data removed]",
            "text/plain": [
              "<Figure size 432x288 with 1 Axes>"
            ]
          },
          "metadata": {
            "tags": []
          }
        }
      ]
    },
    {
      "cell_type": "code",
      "metadata": {
        "id": "AUzlpcRXgXxU",
        "colab_type": "code",
        "colab": {
          "base_uri": "https://localhost:8080/",
          "height": 182
        },
        "outputId": "34a90539-7be8-4d18-d37b-1140616faa7f"
      },
      "source": [
        "val_accuracy = model(X_val2,y_val)\n",
        "val_accuracy"
      ],
      "execution_count": 76,
      "outputs": [
        {
          "output_type": "error",
          "ename": "TypeError",
          "evalue": "ignored",
          "traceback": [
            "\u001b[0;31m---------------------------------------------------------------------------\u001b[0m",
            "\u001b[0;31mTypeError\u001b[0m                                 Traceback (most recent call last)",
            "\u001b[0;32m<ipython-input-76-5266f0d48c2c>\u001b[0m in \u001b[0;36m<module>\u001b[0;34m()\u001b[0m\n\u001b[0;32m----> 1\u001b[0;31m \u001b[0mval_accuracy\u001b[0m \u001b[0;34m=\u001b[0m \u001b[0mmodel\u001b[0m\u001b[0;34m(\u001b[0m\u001b[0mX_val2\u001b[0m\u001b[0;34m,\u001b[0m\u001b[0my_val\u001b[0m\u001b[0;34m)\u001b[0m\u001b[0;34m\u001b[0m\u001b[0;34m\u001b[0m\u001b[0m\n\u001b[0m\u001b[1;32m      2\u001b[0m \u001b[0mval_accuracy\u001b[0m\u001b[0;34m\u001b[0m\u001b[0;34m\u001b[0m\u001b[0m\n",
            "\u001b[0;31mTypeError\u001b[0m: 'XGBClassifier' object is not callable"
          ]
        }
      ]
    },
    {
      "cell_type": "markdown",
      "metadata": {
        "id": "AF3qnlNDitaG",
        "colab_type": "text"
      },
      "source": [
        "### ROC-AUC\n",
        "Alter wrangling fxn for binary class."
      ]
    },
    {
      "cell_type": "code",
      "metadata": {
        "id": "buVfdpNjaoBx",
        "colab_type": "code",
        "outputId": "d69effba-6a75-41af-9ead-c0d67f18ed6d",
        "colab": {
          "base_uri": "https://localhost:8080/",
          "height": 34
        }
      },
      "source": [
        "#roc & auc for majority class baseline\n",
        "from sklearn.metrics import roc_auc_score  #works with binary class. types\n",
        "\n",
        "y_pred_proba = np.full_like(y_val, fill_value=1.00)\n",
        "roc_auc_score(y_val, y_pred_proba)"
      ],
      "execution_count": 0,
      "outputs": [
        {
          "output_type": "execute_result",
          "data": {
            "text/plain": [
              "0.5"
            ]
          },
          "metadata": {
            "tags": []
          },
          "execution_count": 56
        }
      ]
    },
    {
      "cell_type": "code",
      "metadata": {
        "id": "doZpk0qIfqAz",
        "colab_type": "code",
        "outputId": "d9efd0bb-a974-4c0c-9a68-32fbc5484d8a",
        "colab": {
          "base_uri": "https://localhost:8080/",
          "height": 34
        }
      },
      "source": [
        "#roc/auc for model\n",
        "y_pred_proba = pipeline.predict_proba(X_val)[:, 1]\n",
        "roc_auc_score(y_val, y_pred_proba) #very poor score (0.115)"
      ],
      "execution_count": 0,
      "outputs": [
        {
          "output_type": "execute_result",
          "data": {
            "text/plain": [
              "0.11493572740257091"
            ]
          },
          "metadata": {
            "tags": []
          },
          "execution_count": 58
        }
      ]
    },
    {
      "cell_type": "code",
      "metadata": {
        "id": "L9ZIu5UVhYdh",
        "colab_type": "code",
        "colab": {}
      },
      "source": [
        "from ipywidgets import interact, fixed\n",
        "from sklearn.metrics import roc_auc_score, roc_curve\n",
        "from sklearn.utils.multiclass import unique_labels\n",
        "\n",
        "def set_threshold(y_true, y_pred_proba, threshold=0.5):\n",
        "    \"\"\"\n",
        "    For binary classification problems. \n",
        "    y_pred_proba : predicted probability of class 1\n",
        "    \"\"\"\n",
        "    \n",
        "    # Apply threshold to predicted probabilities\n",
        "    # to get discrete predictions\n",
        "    class_0, class_1 = unique_labels(y_true)\n",
        "    y_pred = np.full_like(y_true, fill_value=class_0)\n",
        "    y_pred[y_pred_proba > threshold] = class_1\n",
        "    \n",
        "    # Plot distribution of predicted probabilities\n",
        "    ax = sns.distplot(y_pred_proba)\n",
        "    ax.axvline(threshold, color='red')\n",
        "    plt.title('Distribution of predicted probabilities')\n",
        "    plt.show()\n",
        "\n",
        "    # Calculate true positive rate and false positive rate\n",
        "    true_positives = (y_pred==y_true) & (y_pred==class_1)\n",
        "    false_positives = (y_pred!=y_true) & (y_pred==class_1)\n",
        "    actual_positives = (y_true==class_1)\n",
        "    actual_negatives = (y_true==class_0)\n",
        "    true_positive_rate = true_positives.sum() / actual_positives.sum()\n",
        "    false_positive_rate = false_positives.sum() / actual_negatives.sum()\n",
        "    print('False Positive Rate', false_positive_rate)\n",
        "    print('True Positive Rate', true_positive_rate)\n",
        "    \n",
        "    # Plot ROC curve\n",
        "    fpr, tpr, thresholds = roc_curve(y_true==class_1, y_pred_proba)\n",
        "    plt.plot(fpr, tpr)\n",
        "    plt.title('ROC curve')\n",
        "    plt.xlabel('False Positive Rate')\n",
        "    plt.ylabel('True Positive Rate')\n",
        "    \n",
        "    # Plot point on ROC curve for the current threshold\n",
        "    plt.scatter(false_positive_rate, true_positive_rate)\n",
        "    plt.show()\n",
        "    \n",
        "    # Show ROC AUC score\n",
        "    print('Area under the Receiver Operating Characteristic curve:', \n",
        "          roc_auc_score(y_true, y_pred_proba))"
      ],
      "execution_count": 0,
      "outputs": []
    },
    {
      "cell_type": "code",
      "metadata": {
        "id": "hhbgbatdhvv_",
        "colab_type": "code",
        "outputId": "df373432-6f84-4a84-9d52-e0835ec5b55f",
        "colab": {
          "base_uri": "https://localhost:8080/",
          "height": 610
        }
      },
      "source": [
        "set_threshold((y_val), (y_pred_proba))"
      ],
      "execution_count": 0,
      "outputs": [
        {
          "output_type": "display_data",
          "data": {
            "image/png": "[encoded data removed]",
            "text/plain": [
              "<Figure size 432x288 with 1 Axes>"
            ]
          },
          "metadata": {
            "tags": []
          }
        },
        {
          "output_type": "stream",
          "text": [
            "False Positive Rate 0.5908045977011495\n",
            "True Positive Rate 0.005917159763313609\n"
          ],
          "name": "stdout"
        },
        {
          "output_type": "display_data",
          "data": {
            "image/png": "[encoded data removed]",
            "text/plain": [
              "<Figure size 432x288 with 1 Axes>"
            ]
          },
          "metadata": {
            "tags": []
          }
        },
        {
          "output_type": "stream",
          "text": [
            "Area under the Receiver Operating Characteristic curve: 0.11493572740257091\n"
          ],
          "name": "stdout"
        }
      ]
    },
    {
      "cell_type": "markdown",
      "metadata": {
        "id": "u_SGNNma_HsF",
        "colab_type": "text"
      },
      "source": [
        "### Pipeline + Model Val. Score"
      ]
    },
    {
      "cell_type": "code",
      "metadata": {
        "id": "gw-4sR5PzoSf",
        "colab_type": "code",
        "outputId": "00c3f00f-c7d3-47bf-e8d6-1066010ab50f",
        "colab": {
          "base_uri": "https://localhost:8080/",
          "height": 332
        }
      },
      "source": [
        "#pipeline time\n",
        "\n",
        "!pip install category_encoders\n",
        "import category_encoders as ce\n",
        "\n",
        "from sklearn.ensemble import RandomForestClassifier\n",
        "from sklearn.impute import SimpleImputer\n",
        "from sklearn.pipeline import make_pipeline\n",
        "from sklearn.feature_selection import SelectKBest\n",
        "\n",
        "pipeline = make_pipeline(\n",
        "    ce.OrdinalEncoder(),\n",
        "    SimpleImputer(strategy='median'), \n",
        "    RandomForestClassifier(n_estimators=100, n_jobs=-1)\n",
        "    )\n",
        "\n",
        "# Fit on train, score on val\n",
        "\n",
        "pipeline.fit(X_train,y_train)\n",
        "print('Validation Accuracy (random-split, top-35 feats)', pipeline.score(X_val,y_val))\n",
        "\n",
        "pipeline.fit(re_X_train, re_y_train)\n",
        "print('Validation Accuracy (time-split, top-35 feats < Wrangle)', pipeline.score(re_X_val, re_y_val)) \n",
        "\n",
        "# Wrangle 1 Accuracies: r-split(.774), t-split(.829)\n",
        "# Wrangle 2 Accuracies: r-split(.772),t-split(.829) \n",
        "# no meaningful difference b/w cardinality < 11 and that < 51; time-based split consistently more accurate"
      ],
      "execution_count": 16,
      "outputs": [
        {
          "output_type": "stream",
          "text": [
            "Collecting category_encoders\n",
            "\u001b[?25l  Downloading https://files.pythonhosted.org/packages/6e/a1/f7a22f144f33be78afeb06bfa78478e8284a64263a3c09b1ef54e673841e/category_encoders-2.0.0-py2.py3-none-any.whl (87kB)\n",
            "\r\u001b[K     |███▊                            | 10kB 14.6MB/s eta 0:00:01\r\u001b[K     |███████▌                        | 20kB 3.2MB/s eta 0:00:01\r\u001b[K     |███████████▏                    | 30kB 4.6MB/s eta 0:00:01\r\u001b[K     |███████████████                 | 40kB 3.0MB/s eta 0:00:01\r\u001b[K     |██████████████████▋             | 51kB 3.7MB/s eta 0:00:01\r\u001b[K     |██████████████████████▍         | 61kB 4.4MB/s eta 0:00:01\r\u001b[K     |██████████████████████████▏     | 71kB 5.0MB/s eta 0:00:01\r\u001b[K     |█████████████████████████████▉  | 81kB 5.7MB/s eta 0:00:01\r\u001b[K     |████████████████████████████████| 92kB 5.7MB/s \n",
            "\u001b[?25hRequirement already satisfied: statsmodels>=0.6.1 in /usr/local/lib/python3.6/dist-packages (from category_encoders) (0.10.1)\n",
            "Requirement already satisfied: pandas>=0.21.1 in /usr/local/lib/python3.6/dist-packages (from category_encoders) (0.24.2)\n",
            "Requirement already satisfied: scikit-learn>=0.20.0 in /usr/local/lib/python3.6/dist-packages (from category_encoders) (0.21.3)\n",
            "Requirement already satisfied: numpy>=1.11.3 in /usr/local/lib/python3.6/dist-packages (from category_encoders) (1.16.5)\n",
            "Requirement already satisfied: patsy>=0.4.1 in /usr/local/lib/python3.6/dist-packages (from category_encoders) (0.5.1)\n",
            "Requirement already satisfied: scipy>=0.19.0 in /usr/local/lib/python3.6/dist-packages (from category_encoders) (1.3.1)\n",
            "Requirement already satisfied: pytz>=2011k in /usr/local/lib/python3.6/dist-packages (from pandas>=0.21.1->category_encoders) (2018.9)\n",
            "Requirement already satisfied: python-dateutil>=2.5.0 in /usr/local/lib/python3.6/dist-packages (from pandas>=0.21.1->category_encoders) (2.5.3)\n",
            "Requirement already satisfied: joblib>=0.11 in /usr/local/lib/python3.6/dist-packages (from scikit-learn>=0.20.0->category_encoders) (0.13.2)\n",
            "Requirement already satisfied: six in /usr/local/lib/python3.6/dist-packages (from patsy>=0.4.1->category_encoders) (1.12.0)\n",
            "Installing collected packages: category-encoders\n",
            "Successfully installed category-encoders-2.0.0\n",
            "Validation Accuracy (random-split, top-35 feats) 0.49133858267716535\n",
            "Validation Accuracy (time-split, top-35 feats < Wrangle) 0.7777777777777778\n"
          ],
          "name": "stdout"
        }
      ]
    },
    {
      "cell_type": "code",
      "metadata": {
        "id": "DUA-Hzd9rvuw",
        "colab_type": "code",
        "colab": {}
      },
      "source": [
        "# cross validation\n",
        "from sklearn.ensemble import RandomForestRegressor\n",
        "from sklearn import metrics\n",
        "from sklearn.model_selection import cross_val_score\n",
        "\n",
        "pipeline = make_pipeline(\n",
        "    ce.OrdinalEncoder(), \n",
        "    SimpleImputer(strategy='median'), \n",
        "    RandomForestClassifier(n_estimators=100, n_jobs=-1, random_state=42)\n",
        "    )\n",
        "\n",
        "k = 5\n",
        "scores = cross_val_score(pipeline, X_train, y_train, cv=k, \n",
        "                         scoring='accuracy') #scoring changes w/type of model applied (cluster, class, regression)\n",
        "print(f'Accuracy Score for {k} folds:', scores)\n",
        "\n",
        "#Accuracy Score for 5 folds: [0.74448456 0.76314733 0.77550201 0.76697469 0.77099237] "
      ],
      "execution_count": 0,
      "outputs": []
    },
    {
      "cell_type": "code",
      "metadata": {
        "id": "IAuWcjY3GZIv",
        "colab_type": "code",
        "outputId": "52fece66-c5f2-4de9-8b83-378441955db4",
        "colab": {
          "base_uri": "https://localhost:8080/",
          "height": 306
        }
      },
      "source": [
        "X_train.index\n",
        "X_train.columns"
      ],
      "execution_count": 0,
      "outputs": [
        {
          "output_type": "execute_result",
          "data": {
            "text/plain": [
              "Index(['Deep_Pov_Children', 'PovertyUnder18Num', 'PovertyAllAgesNum',\n",
              "       'RuralUrbanContinuumCode2013', 'Type_2015_Update',\n",
              "       'Low_Education_2015_update', 'Low_Employment_2015_update',\n",
              "       'Population_loss_2015_update', 'Metro_Adjacent2013', 'Vets18OPct',\n",
              "       'MaleVetsPct', 'PctVetsPoor', 'PctNonVetsPoor', 'PctVetsDisabilty',\n",
              "       'PctNonVetsDisabilty', 'PopChangeRate1018', 'NetMigrationRate1018',\n",
              "       'PopDensity2010', 'Under18Pct2010', 'Age65AndOlderPct2010',\n",
              "       'ForeignBornPct', 'UnempRate2018', 'UnempRate2015', 'PctEmpChange1018',\n",
              "       'PctEmpAgriculture', 'PctEmpMining', 'PctEmpConstruction',\n",
              "       'PctEmpManufacturing', 'PctEmpTrade', 'PctEmpTrans',\n",
              "       'PctEmpInformation', 'PctEmpFIRE', 'PctEmpServices', 'PctEmpGovt',\n",
              "       'Metro-nonmetro status, 2013 0=Nonmetro 1=Metro',\n",
              "       'Persistent_Poverty_2013', 'Persistent_Related_Child_Poverty_2013',\n",
              "       'Economic Types Type_2015_Update non-overlapping', 'metro03',\n",
              "       'MedHHInc', 'PerCapitaInc', 'PovertyUnder18Pct', 'PovertyAllAgesPct',\n",
              "       'Deep_Pov_All', 'Economic_Type_Label'],\n",
              "      dtype='object')"
            ]
          },
          "metadata": {
            "tags": []
          },
          "execution_count": 19
        }
      ]
    },
    {
      "cell_type": "markdown",
      "metadata": {
        "id": "7hdYKzlVl4OA",
        "colab_type": "text"
      },
      "source": [
        "### Overfit-Underfit Traversal"
      ]
    },
    {
      "cell_type": "code",
      "metadata": {
        "id": "ku3n-TyDl9e9",
        "colab_type": "code",
        "colab": {}
      },
      "source": [
        ""
      ],
      "execution_count": 0,
      "outputs": []
    },
    {
      "cell_type": "code",
      "metadata": {
        "id": "-44FcMaCl98t",
        "colab_type": "code",
        "colab": {}
      },
      "source": [
        ""
      ],
      "execution_count": 0,
      "outputs": []
    },
    {
      "cell_type": "markdown",
      "metadata": {
        "id": "v6nKf7cbc0di",
        "colab_type": "text"
      },
      "source": [
        "### Feat Importances "
      ]
    },
    {
      "cell_type": "code",
      "metadata": {
        "id": "05rBXGB1zyr2",
        "colab_type": "code",
        "outputId": "27b7dddf-fc43-44d1-93ba-46b9744bf375",
        "colab": {
          "base_uri": "https://localhost:8080/",
          "height": 503
        }
      },
      "source": [
        "# feat. importances  #broken after 2nd iteration; doesn't work after passage through Wrangle2\n",
        "%matplotlib inline\n",
        "import matplotlib.pyplot as plt\n",
        "plt.figure(figsize = (10,8))\n",
        "rf = pipeline.named_steps['randomforestclassifier']\n",
        "importances = pd.Series(rf.feature_importances_, X_train.columns)\n",
        "importances.nlargest(n=35).sort_values().plot.barh(color = 'grey')"
      ],
      "execution_count": 0,
      "outputs": [
        {
          "output_type": "execute_result",
          "data": {
            "text/plain": [
              "<matplotlib.axes._subplots.AxesSubplot at 0x7f244a9b8f98>"
            ]
          },
          "metadata": {
            "tags": []
          },
          "execution_count": 22
        },
        {
          "output_type": "display_data",
          "data": {
            "image/png": "[encoded data removed]",
            "text/plain": [
              "<Figure size 720x576 with 1 Axes>"
            ]
          },
          "metadata": {
            "tags": []
          }
        }
      ]
    },
    {
      "cell_type": "code",
      "metadata": {
        "id": "L4VvLLrq7INT",
        "colab_type": "code",
        "colab": {}
      },
      "source": [
        "df_importances = pd.DataFrame(importances)\n",
        "df_importances = df_importances.reset_index()\n",
        "df_importances = df_importances.rename(columns={0: \"value\", \"index\": \"feature\"})\n",
        "df_importances = df_importances.sort_values(by=['value'], ascending = False)\n",
        "#df_importances.head(35) \n",
        "# now fetch a list of the most important feat names\n",
        "list_feats = list(df_importances.feature)"
      ],
      "execution_count": 0,
      "outputs": []
    },
    {
      "cell_type": "markdown",
      "metadata": {
        "id": "cru4s5sbc3h8",
        "colab_type": "text"
      },
      "source": [
        "### ptPlot - PctEmpConstruction vs 'low'"
      ]
    },
    {
      "cell_type": "code",
      "metadata": {
        "id": "V6fgh0vLcy00",
        "colab_type": "code",
        "outputId": "d481b17f-a725-4c23-a009-2a6f42e22eb8",
        "colab": {
          "base_uri": "https://localhost:8080/",
          "height": 428
        }
      },
      "source": [
        "plt.figure(figsize = (10,5))\n",
        "import seaborn as sns\n",
        "sns.pointplot(x = pd.cut(train['PctEmpConstruction'],bins = 10), y = train['low'])\n",
        "plt.xticks(rotation = 90) "
      ],
      "execution_count": 0,
      "outputs": [
        {
          "output_type": "execute_result",
          "data": {
            "text/plain": [
              "(array([0, 1, 2, 3, 4, 5, 6, 7, 8, 9]), <a list of 10 Text xticklabel objects>)"
            ]
          },
          "metadata": {
            "tags": []
          },
          "execution_count": 24
        },
        {
          "output_type": "display_data",
          "data": {
            "image/png": "[encoded data removed]",
            "text/plain": [
              "<Figure size 720x360 with 1 Axes>"
            ]
          },
          "metadata": {
            "tags": []
          }
        }
      ]
    }
  ]
}