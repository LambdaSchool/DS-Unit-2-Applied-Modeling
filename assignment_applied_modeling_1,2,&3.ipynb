{
 "cells": [
  {
   "cell_type": "markdown",
   "metadata": {
    "colab_type": "text",
    "id": "nCc3XZEyG3XV"
   },
   "source": [
    "Lambda School Data Science, Unit 2: Predictive Modeling\n",
    "\n",
    "# Applied Modeling, Module 1\n",
    "\n",
    "You will use your portfolio project dataset for all assignments this sprint.\n",
    "\n",
    "## Assignment\n",
    "\n",
    "Complete these tasks for your project, and document your decisions.\n",
    "\n",
    "- [X] Choose your target. Which column in your tabular dataset will you predict?\n",
    "- [X] Choose which observations you will use to train, validate, and test your model. And which observations, if any, to exclude.\n",
    "- [X] Determine whether your problem is regression or classification.\n",
    "- [X] Choose your evaluation metric.\n",
    "- [X] Begin with baselines: majority class baseline for classification, or mean baseline for regression, with your metric of choice.\n",
    "- [X] Begin to clean and explore your data.\n",
    "- [X] Choose which features, if any, to exclude. Would some features \"leak\" information from the future?\n",
    "\n",
    "## Reading\n",
    "- [Attacking discrimination with smarter machine learning](https://research.google.com/bigpicture/attacking-discrimination-in-ml/), by Google Research, with  interactive visualizations. _\"A threshold classifier essentially makes a yes/no decision, putting things in one category or another. We look at how these classifiers work, ways they can potentially be unfair, and how you might turn an unfair classifier into a fairer one. As an illustrative example, we focus on loan granting scenarios where a bank may grant or deny a loan based on a single, automatically computed number such as a credit score.\"_\n",
    "- [How Shopify Capital Uses Quantile Regression To Help Merchants Succeed](https://engineering.shopify.com/blogs/engineering/how-shopify-uses-machine-learning-to-help-our-merchants-grow-their-business)\n",
    "- [Maximizing Scarce Maintenance Resources with Data: Applying predictive modeling, precision at k, and clustering to optimize impact](https://towardsdatascience.com/maximizing-scarce-maintenance-resources-with-data-8f3491133050), **by Lambda DS3 student** Michael Brady. His blog post extends the Tanzania Waterpumps scenario, far beyond what's in the lecture notebook.\n",
    "- [Notebook about how to calculate expected value from a confusion matrix by treating it as a cost-benefit matrix](https://github.com/podopie/DAT18NYC/blob/master/classes/13-expected_value_cost_benefit_analysis.ipynb)\n",
    "- [Simple guide to confusion matrix terminology](https://www.dataschool.io/simple-guide-to-confusion-matrix-terminology/) by Kevin Markham, with video\n",
    "- [Visualizing Machine Learning Thresholds to Make Better Business Decisions](https://blog.insightdatascience.com/visualizing-machine-learning-thresholds-to-make-better-business-decisions-4ab07f823415)"
   ]
  },
  {
   "cell_type": "code",
   "execution_count": 78,
   "metadata": {},
   "outputs": [
    {
     "data": {
      "text/html": [
       "<div>\n",
       "<style scoped>\n",
       "    .dataframe tbody tr th:only-of-type {\n",
       "        vertical-align: middle;\n",
       "    }\n",
       "\n",
       "    .dataframe tbody tr th {\n",
       "        vertical-align: top;\n",
       "    }\n",
       "\n",
       "    .dataframe thead th {\n",
       "        text-align: right;\n",
       "    }\n",
       "</style>\n",
       "<table border=\"1\" class=\"dataframe\">\n",
       "  <thead>\n",
       "    <tr style=\"text-align: right;\">\n",
       "      <th></th>\n",
       "      <th>Date</th>\n",
       "      <th>Open*</th>\n",
       "      <th>High</th>\n",
       "      <th>Low</th>\n",
       "      <th>Close**</th>\n",
       "      <th>Volume</th>\n",
       "      <th>Market Cap</th>\n",
       "    </tr>\n",
       "  </thead>\n",
       "  <tbody>\n",
       "    <tr>\n",
       "      <th>0</th>\n",
       "      <td>8/12/2019</td>\n",
       "      <td>11528.19</td>\n",
       "      <td>11528.19</td>\n",
       "      <td>11320.95</td>\n",
       "      <td>11382.62</td>\n",
       "      <td>1.364720e+10</td>\n",
       "      <td>2.034410e+11</td>\n",
       "    </tr>\n",
       "    <tr>\n",
       "      <th>1</th>\n",
       "      <td>8/11/2019</td>\n",
       "      <td>11349.74</td>\n",
       "      <td>11523.58</td>\n",
       "      <td>11248.29</td>\n",
       "      <td>11523.58</td>\n",
       "      <td>1.577437e+10</td>\n",
       "      <td>2.059420e+11</td>\n",
       "    </tr>\n",
       "    <tr>\n",
       "      <th>2</th>\n",
       "      <td>8/10/2019</td>\n",
       "      <td>11861.56</td>\n",
       "      <td>11915.66</td>\n",
       "      <td>11323.90</td>\n",
       "      <td>11354.02</td>\n",
       "      <td>1.812536e+10</td>\n",
       "      <td>2.028900e+11</td>\n",
       "    </tr>\n",
       "    <tr>\n",
       "      <th>3</th>\n",
       "      <td>8/9/2019</td>\n",
       "      <td>11953.47</td>\n",
       "      <td>11970.46</td>\n",
       "      <td>11709.75</td>\n",
       "      <td>11862.94</td>\n",
       "      <td>1.833999e+10</td>\n",
       "      <td>2.119610e+11</td>\n",
       "    </tr>\n",
       "    <tr>\n",
       "      <th>4</th>\n",
       "      <td>8/8/2019</td>\n",
       "      <td>11954.04</td>\n",
       "      <td>11979.42</td>\n",
       "      <td>11556.17</td>\n",
       "      <td>11966.41</td>\n",
       "      <td>1.948159e+10</td>\n",
       "      <td>2.137880e+11</td>\n",
       "    </tr>\n",
       "    <tr>\n",
       "      <th>5</th>\n",
       "      <td>8/7/2019</td>\n",
       "      <td>11476.19</td>\n",
       "      <td>12036.99</td>\n",
       "      <td>11433.70</td>\n",
       "      <td>11941.97</td>\n",
       "      <td>2.219499e+10</td>\n",
       "      <td>2.133300e+11</td>\n",
       "    </tr>\n",
       "    <tr>\n",
       "      <th>6</th>\n",
       "      <td>8/6/2019</td>\n",
       "      <td>11811.55</td>\n",
       "      <td>12273.82</td>\n",
       "      <td>11290.73</td>\n",
       "      <td>11478.17</td>\n",
       "      <td>2.363511e+10</td>\n",
       "      <td>2.050230e+11</td>\n",
       "    </tr>\n",
       "    <tr>\n",
       "      <th>7</th>\n",
       "      <td>8/5/2019</td>\n",
       "      <td>10960.74</td>\n",
       "      <td>11895.09</td>\n",
       "      <td>10960.74</td>\n",
       "      <td>11805.65</td>\n",
       "      <td>2.387599e+10</td>\n",
       "      <td>2.108490e+11</td>\n",
       "    </tr>\n",
       "    <tr>\n",
       "      <th>8</th>\n",
       "      <td>8/4/2019</td>\n",
       "      <td>10821.63</td>\n",
       "      <td>11009.21</td>\n",
       "      <td>10620.28</td>\n",
       "      <td>10970.18</td>\n",
       "      <td>1.653089e+10</td>\n",
       "      <td>1.959080e+11</td>\n",
       "    </tr>\n",
       "    <tr>\n",
       "      <th>9</th>\n",
       "      <td>8/3/2019</td>\n",
       "      <td>10519.28</td>\n",
       "      <td>10946.78</td>\n",
       "      <td>10503.50</td>\n",
       "      <td>10821.73</td>\n",
       "      <td>1.535269e+10</td>\n",
       "      <td>1.932340e+11</td>\n",
       "    </tr>\n",
       "  </tbody>\n",
       "</table>\n",
       "</div>"
      ],
      "text/plain": [
       "        Date     Open*      High       Low   Close**        Volume  \\\n",
       "0  8/12/2019  11528.19  11528.19  11320.95  11382.62  1.364720e+10   \n",
       "1  8/11/2019  11349.74  11523.58  11248.29  11523.58  1.577437e+10   \n",
       "2  8/10/2019  11861.56  11915.66  11323.90  11354.02  1.812536e+10   \n",
       "3   8/9/2019  11953.47  11970.46  11709.75  11862.94  1.833999e+10   \n",
       "4   8/8/2019  11954.04  11979.42  11556.17  11966.41  1.948159e+10   \n",
       "5   8/7/2019  11476.19  12036.99  11433.70  11941.97  2.219499e+10   \n",
       "6   8/6/2019  11811.55  12273.82  11290.73  11478.17  2.363511e+10   \n",
       "7   8/5/2019  10960.74  11895.09  10960.74  11805.65  2.387599e+10   \n",
       "8   8/4/2019  10821.63  11009.21  10620.28  10970.18  1.653089e+10   \n",
       "9   8/3/2019  10519.28  10946.78  10503.50  10821.73  1.535269e+10   \n",
       "\n",
       "     Market Cap  \n",
       "0  2.034410e+11  \n",
       "1  2.059420e+11  \n",
       "2  2.028900e+11  \n",
       "3  2.119610e+11  \n",
       "4  2.137880e+11  \n",
       "5  2.133300e+11  \n",
       "6  2.050230e+11  \n",
       "7  2.108490e+11  \n",
       "8  1.959080e+11  \n",
       "9  1.932340e+11  "
      ]
     },
     "execution_count": 78,
     "metadata": {},
     "output_type": "execute_result"
    }
   ],
   "source": [
    "# Load the data so we can use it\n",
    "import pandas as pd\n",
    "bitcoin = pd.read_csv('Historical data for Bitcoin.csv')\n",
    "bitcoin.head(10)"
   ]
  },
  {
   "cell_type": "code",
   "execution_count": 79,
   "metadata": {},
   "outputs": [
    {
     "data": {
      "text/plain": [
       "Date           object\n",
       "Open*         float64\n",
       "High          float64\n",
       "Low           float64\n",
       "Close**       float64\n",
       "Volume        float64\n",
       "Market Cap    float64\n",
       "dtype: object"
      ]
     },
     "execution_count": 79,
     "metadata": {},
     "output_type": "execute_result"
    }
   ],
   "source": [
    "bitcoin.dtypes"
   ]
  },
  {
   "cell_type": "code",
   "execution_count": 80,
   "metadata": {},
   "outputs": [
    {
     "data": {
      "application/vnd.jupyter.widget-view+json": {
       "model_id": "263932209a19487d9e7e718aac461376",
       "version_major": 2,
       "version_minor": 0
      },
      "text/plain": [
       "HBox(children=(IntProgress(value=0, max=2297), HTML(value='')))"
      ]
     },
     "metadata": {},
     "output_type": "display_data"
    },
    {
     "name": "stdout",
     "output_type": "stream",
     "text": [
      "\n"
     ]
    }
   ],
   "source": [
    "from tqdm import tnrange\n",
    "# A little bit of feature engineering\n",
    "\n",
    "bitcoin['Previous higher?'] = \"\"\n",
    "\n",
    "for i in tnrange(len(bitcoin)-1,0,-1):\n",
    "    if(i>0):\n",
    "        bitcoin['Previous higher?'][i-1] = bitcoin['Low'][i].copy() > bitcoin['Low'][i-1].copy()\n",
    "    bitcoin['Previous higher?'][2297] = False"
   ]
  },
  {
   "cell_type": "code",
   "execution_count": 118,
   "metadata": {},
   "outputs": [],
   "source": [
    "# A little more feature engineering\n",
    "bitcoin['numeric_date'] = bitcoin['Date'].copy()\n",
    "\n",
    "bitcoin['avg_daily_price'] = (bitcoin['Open*']+bitcoin['High']+bitcoin['Low']+bitcoin['Close**'])/4\n",
    "\n",
    "bitcoin['Date'] = pd.to_datetime(bitcoin['Date'])\n",
    "bitcoin['Year'] = bitcoin['Date'].dt.year\n",
    "\n",
    "bitcoin['Month'] = bitcoin['Date'].dt.month"
   ]
  },
  {
   "cell_type": "code",
   "execution_count": 81,
   "metadata": {},
   "outputs": [],
   "source": [
    "# Change True/False to 1/0\n",
    "new_columns = {True: 1, False:0}\n",
    "bitcoin['Previous higher?'] = [new_columns[item] for item in bitcoin['Previous higher?']]"
   ]
  },
  {
   "cell_type": "code",
   "execution_count": 82,
   "metadata": {},
   "outputs": [],
   "source": [
    "train = bitcoin[bitcoin.Year < 2016]\n",
    "val = bitcoin[(bitcoin.Year >2015) & (bitcoin.Year < 2018)]\n",
    "test = bitcoin[bitcoin.Year > 2017]"
   ]
  },
  {
   "cell_type": "code",
   "execution_count": 98,
   "metadata": {},
   "outputs": [],
   "source": [
    "# Get the X and y parts for train, val, and test\n",
    "drop_columns = ['Previous higher?','Date','numeric_date']\n",
    "target = 'Previous higher?'\n",
    "X_train = train.drop(columns=drop_columns)\n",
    "y_train = train[target]\n",
    "X_val = val.drop(columns=drop_columns)\n",
    "y_val = val[target]\n",
    "X_test = test.drop(columns=drop_columns)\n",
    "y_test = test[target]"
   ]
  },
  {
   "cell_type": "markdown",
   "metadata": {},
   "source": [
    "This is a regression problem."
   ]
  },
  {
   "cell_type": "code",
   "execution_count": 99,
   "metadata": {},
   "outputs": [
    {
     "name": "stdout",
     "output_type": "stream",
     "text": [
      "Accuracy is 0.5715746421267893\n"
     ]
    }
   ],
   "source": [
    "accuracy = y_train.value_counts(normalize=True)[0]\n",
    "print('Accuracy is', accuracy)"
   ]
  },
  {
   "cell_type": "code",
   "execution_count": 119,
   "metadata": {},
   "outputs": [
    {
     "data": {
      "text/html": [
       "<div>\n",
       "<style scoped>\n",
       "    .dataframe tbody tr th:only-of-type {\n",
       "        vertical-align: middle;\n",
       "    }\n",
       "\n",
       "    .dataframe tbody tr th {\n",
       "        vertical-align: top;\n",
       "    }\n",
       "\n",
       "    .dataframe thead th {\n",
       "        text-align: right;\n",
       "    }\n",
       "</style>\n",
       "<table border=\"1\" class=\"dataframe\">\n",
       "  <thead>\n",
       "    <tr style=\"text-align: right;\">\n",
       "      <th></th>\n",
       "      <th>Date</th>\n",
       "      <th>Open*</th>\n",
       "      <th>High</th>\n",
       "      <th>Low</th>\n",
       "      <th>Close**</th>\n",
       "      <th>Volume</th>\n",
       "      <th>Market Cap</th>\n",
       "      <th>numeric_date</th>\n",
       "      <th>avg_daily_price</th>\n",
       "      <th>Year</th>\n",
       "      <th>Previous higher?</th>\n",
       "      <th>log(Bitcoin Close)</th>\n",
       "      <th>Month</th>\n",
       "    </tr>\n",
       "  </thead>\n",
       "  <tbody>\n",
       "    <tr>\n",
       "      <th>0</th>\n",
       "      <td>2019-08-12</td>\n",
       "      <td>11528.19</td>\n",
       "      <td>11528.19</td>\n",
       "      <td>11320.95</td>\n",
       "      <td>11382.62</td>\n",
       "      <td>1.364720e+10</td>\n",
       "      <td>2.034410e+11</td>\n",
       "      <td>2019-08-12</td>\n",
       "      <td>11439.9875</td>\n",
       "      <td>2019</td>\n",
       "      <td>0</td>\n",
       "      <td>9.339931</td>\n",
       "      <td>8</td>\n",
       "    </tr>\n",
       "    <tr>\n",
       "      <th>1</th>\n",
       "      <td>2019-08-11</td>\n",
       "      <td>11349.74</td>\n",
       "      <td>11523.58</td>\n",
       "      <td>11248.29</td>\n",
       "      <td>11523.58</td>\n",
       "      <td>1.577437e+10</td>\n",
       "      <td>2.059420e+11</td>\n",
       "      <td>2019-08-11</td>\n",
       "      <td>11411.2975</td>\n",
       "      <td>2019</td>\n",
       "      <td>1</td>\n",
       "      <td>9.352237</td>\n",
       "      <td>8</td>\n",
       "    </tr>\n",
       "    <tr>\n",
       "      <th>2</th>\n",
       "      <td>2019-08-10</td>\n",
       "      <td>11861.56</td>\n",
       "      <td>11915.66</td>\n",
       "      <td>11323.90</td>\n",
       "      <td>11354.02</td>\n",
       "      <td>1.812536e+10</td>\n",
       "      <td>2.028900e+11</td>\n",
       "      <td>2019-08-10</td>\n",
       "      <td>11613.7850</td>\n",
       "      <td>2019</td>\n",
       "      <td>1</td>\n",
       "      <td>9.337415</td>\n",
       "      <td>8</td>\n",
       "    </tr>\n",
       "    <tr>\n",
       "      <th>3</th>\n",
       "      <td>2019-08-09</td>\n",
       "      <td>11953.47</td>\n",
       "      <td>11970.46</td>\n",
       "      <td>11709.75</td>\n",
       "      <td>11862.94</td>\n",
       "      <td>1.833999e+10</td>\n",
       "      <td>2.119610e+11</td>\n",
       "      <td>2019-08-09</td>\n",
       "      <td>11874.1550</td>\n",
       "      <td>2019</td>\n",
       "      <td>0</td>\n",
       "      <td>9.381259</td>\n",
       "      <td>8</td>\n",
       "    </tr>\n",
       "    <tr>\n",
       "      <th>4</th>\n",
       "      <td>2019-08-08</td>\n",
       "      <td>11954.04</td>\n",
       "      <td>11979.42</td>\n",
       "      <td>11556.17</td>\n",
       "      <td>11966.41</td>\n",
       "      <td>1.948159e+10</td>\n",
       "      <td>2.137880e+11</td>\n",
       "      <td>2019-08-08</td>\n",
       "      <td>11864.0100</td>\n",
       "      <td>2019</td>\n",
       "      <td>0</td>\n",
       "      <td>9.389942</td>\n",
       "      <td>8</td>\n",
       "    </tr>\n",
       "  </tbody>\n",
       "</table>\n",
       "</div>"
      ],
      "text/plain": [
       "        Date     Open*      High       Low   Close**        Volume  \\\n",
       "0 2019-08-12  11528.19  11528.19  11320.95  11382.62  1.364720e+10   \n",
       "1 2019-08-11  11349.74  11523.58  11248.29  11523.58  1.577437e+10   \n",
       "2 2019-08-10  11861.56  11915.66  11323.90  11354.02  1.812536e+10   \n",
       "3 2019-08-09  11953.47  11970.46  11709.75  11862.94  1.833999e+10   \n",
       "4 2019-08-08  11954.04  11979.42  11556.17  11966.41  1.948159e+10   \n",
       "\n",
       "     Market Cap numeric_date  avg_daily_price  Year  Previous higher?  \\\n",
       "0  2.034410e+11   2019-08-12       11439.9875  2019                 0   \n",
       "1  2.059420e+11   2019-08-11       11411.2975  2019                 1   \n",
       "2  2.028900e+11   2019-08-10       11613.7850  2019                 1   \n",
       "3  2.119610e+11   2019-08-09       11874.1550  2019                 0   \n",
       "4  2.137880e+11   2019-08-08       11864.0100  2019                 0   \n",
       "\n",
       "   log(Bitcoin Close)  Month  \n",
       "0            9.339931      8  \n",
       "1            9.352237      8  \n",
       "2            9.337415      8  \n",
       "3            9.381259      8  \n",
       "4            9.389942      8  "
      ]
     },
     "execution_count": 119,
     "metadata": {},
     "output_type": "execute_result"
    }
   ],
   "source": [
    "bitcoin.head()"
   ]
  },
  {
   "cell_type": "markdown",
   "metadata": {},
   "source": [
    "Lambda School Data Science, Unit 2: Predictive Modeling\n",
    "\n",
    "# Applied Modeling, Module 2\n",
    "\n",
    "You will use your portfolio project dataset for all assignments this sprint.\n",
    "\n",
    "## Assignment\n",
    "\n",
    "Complete these tasks for your project, and document your work.\n",
    "\n",
    "- [X] Plot the distribution of your target. \n",
    "    - Regression problem: Is your target skewed? Then, log-transform it.\n",
    "    - Classification: Are your classes imbalanced? Then, don't use just accuracy. And try `class_balance` parameter in scikit-learn.\n",
    "- [X] Continue to clean and explore your data. Make exploratory visualizations.\n",
    "- [X] Fit a model. Does it beat your baseline?\n",
    "- [ ] Share at least 1 visualization on Slack.\n",
    "\n",
    "You need to complete an initial model today, because the rest of the week, we're making model interpretation visualizations.\n",
    "\n",
    "\n",
    "## Reading\n",
    "\n",
    "### Today\n",
    "- [imbalance-learn](https://github.com/scikit-learn-contrib/imbalanced-learn)\n",
    "- [Learning from Imbalanced Classes](https://www.svds.com/tbt-learning-imbalanced-classes/)\n",
    "- [Machine Learning Meets Economics](http://blog.mldb.ai/blog/posts/2016/01/ml-meets-economics/)\n",
    "- [ROC curves and Area Under the Curve explained](https://www.dataschool.io/roc-curves-and-auc-explained/)\n",
    "- [The philosophical argument for using ROC curves](https://lukeoakdenrayner.wordpress.com/2018/01/07/the-philosophical-argument-for-using-roc-curves/)\n",
    "\n",
    "\n",
    "### Yesterday\n",
    "- [Attacking discrimination with smarter machine learning](https://research.google.com/bigpicture/attacking-discrimination-in-ml/), by Google Research, with  interactive visualizations. _\"A threshold classifier essentially makes a yes/no decision, putting things in one category or another. We look at how these classifiers work, ways they can potentially be unfair, and how you might turn an unfair classifier into a fairer one. As an illustrative example, we focus on loan granting scenarios where a bank may grant or deny a loan based on a single, automatically computed number such as a credit score.\"_\n",
    "- [How Shopify Capital Uses Quantile Regression To Help Merchants Succeed](https://engineering.shopify.com/blogs/engineering/how-shopify-uses-machine-learning-to-help-our-merchants-grow-their-business)\n",
    "- [Maximizing Scarce Maintenance Resources with Data: Applying predictive modeling, precision at k, and clustering to optimize impact](https://towardsdatascience.com/maximizing-scarce-maintenance-resources-with-data-8f3491133050), **by Lambda DS3 student** Michael Brady. His blog post extends the Tanzania Waterpumps scenario, far beyond what's in the lecture notebook.\n",
    "- [Notebook about how to calculate expected value from a confusion matrix by treating it as a cost-benefit matrix](https://github.com/podopie/DAT18NYC/blob/master/classes/13-expected_value_cost_benefit_analysis.ipynb)\n",
    "- [Simple guide to confusion matrix terminology](https://www.dataschool.io/simple-guide-to-confusion-matrix-terminology/) by Kevin Markham, with video\n",
    "- [Visualizing Machine Learning Thresholds to Make Better Business Decisions](https://blog.insightdatascience.com/visualizing-machine-learning-thresholds-to-make-better-business-decisions-4ab07f823415)"
   ]
  },
  {
   "cell_type": "code",
   "execution_count": 101,
   "metadata": {},
   "outputs": [
    {
     "data": {
      "image/png": "[encoded data removed]",
      "text/plain": [
       "<Figure size 432x288 with 1 Axes>"
      ]
     },
     "metadata": {
      "needs_background": "light"
     },
     "output_type": "display_data"
    }
   ],
   "source": [
    "import seaborn as sns\n",
    "y = bitcoin['Close**']\n",
    "sns.distplot(y);"
   ]
  },
  {
   "cell_type": "code",
   "execution_count": 102,
   "metadata": {},
   "outputs": [],
   "source": [
    "import numpy as np\n",
    "y_log = np.log1p(y)\n",
    "bitcoin['log(Bitcoin Close)'] = y_log"
   ]
  },
  {
   "cell_type": "code",
   "execution_count": 103,
   "metadata": {},
   "outputs": [
    {
     "data": {
      "image/png": "[encoded data removed]",
      "text/plain": [
       "<Figure size 432x288 with 1 Axes>"
      ]
     },
     "metadata": {
      "needs_background": "light"
     },
     "output_type": "display_data"
    }
   ],
   "source": [
    "sns.distplot(bitcoin['log(Bitcoin Close)']);"
   ]
  },
  {
   "cell_type": "code",
   "execution_count": 104,
   "metadata": {},
   "outputs": [
    {
     "data": {
      "image/png": "[encoded data removed]",
      "text/plain": [
       "<Figure size 432x288 with 1 Axes>"
      ]
     },
     "metadata": {
      "needs_background": "light"
     },
     "output_type": "display_data"
    }
   ],
   "source": [
    "import matplotlib.pyplot as plt\n",
    "import matplotlib\n",
    "\n",
    "dates = matplotlib.dates.date2num(bitcoin['Date'])\n",
    "plt.plot_date(dates, bitcoin['Close**']);"
   ]
  },
  {
   "cell_type": "code",
   "execution_count": 105,
   "metadata": {},
   "outputs": [],
   "source": [
    "from sklearn.pipeline import make_pipeline\n",
    "import category_encoders as ce\n",
    "from sklearn.impute import SimpleImputer\n",
    "from sklearn.ensemble import RandomForestClassifier\n",
    "from sklearn.linear_model import LogisticRegression\n",
    "\n",
    "pipeline = make_pipeline(\n",
    "    ce.OrdinalEncoder(),\n",
    "    SimpleImputer(),\n",
    "    RandomForestClassifier(n_estimators=100, random_state=42, n_jobs=-1)\n",
    ")"
   ]
  },
  {
   "cell_type": "code",
   "execution_count": 106,
   "metadata": {},
   "outputs": [
    {
     "name": "stdout",
     "output_type": "stream",
     "text": [
      "Validation Accuracy 0.6922024623803009\n"
     ]
    }
   ],
   "source": [
    "pipeline.fit(X_train, y_train)\n",
    "print('Validation Accuracy', pipeline.score(X_val, y_val))"
   ]
  },
  {
   "cell_type": "code",
   "execution_count": 107,
   "metadata": {},
   "outputs": [
    {
     "data": {
      "text/plain": [
       "Date                  datetime64[ns]\n",
       "Open*                        float64\n",
       "High                         float64\n",
       "Low                          float64\n",
       "Close**                      float64\n",
       "Volume                       float64\n",
       "Market Cap                   float64\n",
       "numeric_date                  object\n",
       "avg_daily_price              float64\n",
       "Year                           int64\n",
       "Previous higher?               int64\n",
       "log(Bitcoin Close)           float64\n",
       "dtype: object"
      ]
     },
     "execution_count": 107,
     "metadata": {},
     "output_type": "execute_result"
    }
   ],
   "source": [
    "bitcoin.dtypes"
   ]
  },
  {
   "cell_type": "code",
   "execution_count": 108,
   "metadata": {},
   "outputs": [
    {
     "data": {
      "text/html": [
       "<div>\n",
       "<style scoped>\n",
       "    .dataframe tbody tr th:only-of-type {\n",
       "        vertical-align: middle;\n",
       "    }\n",
       "\n",
       "    .dataframe tbody tr th {\n",
       "        vertical-align: top;\n",
       "    }\n",
       "\n",
       "    .dataframe thead th {\n",
       "        text-align: right;\n",
       "    }\n",
       "</style>\n",
       "<table border=\"1\" class=\"dataframe\">\n",
       "  <thead>\n",
       "    <tr style=\"text-align: right;\">\n",
       "      <th></th>\n",
       "      <th>Date</th>\n",
       "      <th>Open*</th>\n",
       "      <th>High</th>\n",
       "      <th>Low</th>\n",
       "      <th>Close**</th>\n",
       "      <th>Volume</th>\n",
       "      <th>Market Cap</th>\n",
       "      <th>numeric_date</th>\n",
       "      <th>avg_daily_price</th>\n",
       "      <th>Year</th>\n",
       "      <th>Previous higher?</th>\n",
       "      <th>log(Bitcoin Close)</th>\n",
       "    </tr>\n",
       "  </thead>\n",
       "  <tbody>\n",
       "    <tr>\n",
       "      <th>0</th>\n",
       "      <td>2019-08-12</td>\n",
       "      <td>11528.19</td>\n",
       "      <td>11528.19</td>\n",
       "      <td>11320.95</td>\n",
       "      <td>11382.62</td>\n",
       "      <td>1.364720e+10</td>\n",
       "      <td>2.034410e+11</td>\n",
       "      <td>8/12/2019</td>\n",
       "      <td>11439.9875</td>\n",
       "      <td>2019</td>\n",
       "      <td>0</td>\n",
       "      <td>9.339931</td>\n",
       "    </tr>\n",
       "    <tr>\n",
       "      <th>1</th>\n",
       "      <td>2019-08-11</td>\n",
       "      <td>11349.74</td>\n",
       "      <td>11523.58</td>\n",
       "      <td>11248.29</td>\n",
       "      <td>11523.58</td>\n",
       "      <td>1.577437e+10</td>\n",
       "      <td>2.059420e+11</td>\n",
       "      <td>8/11/2019</td>\n",
       "      <td>11411.2975</td>\n",
       "      <td>2019</td>\n",
       "      <td>1</td>\n",
       "      <td>9.352237</td>\n",
       "    </tr>\n",
       "    <tr>\n",
       "      <th>2</th>\n",
       "      <td>2019-08-10</td>\n",
       "      <td>11861.56</td>\n",
       "      <td>11915.66</td>\n",
       "      <td>11323.90</td>\n",
       "      <td>11354.02</td>\n",
       "      <td>1.812536e+10</td>\n",
       "      <td>2.028900e+11</td>\n",
       "      <td>8/10/2019</td>\n",
       "      <td>11613.7850</td>\n",
       "      <td>2019</td>\n",
       "      <td>1</td>\n",
       "      <td>9.337415</td>\n",
       "    </tr>\n",
       "    <tr>\n",
       "      <th>3</th>\n",
       "      <td>2019-08-09</td>\n",
       "      <td>11953.47</td>\n",
       "      <td>11970.46</td>\n",
       "      <td>11709.75</td>\n",
       "      <td>11862.94</td>\n",
       "      <td>1.833999e+10</td>\n",
       "      <td>2.119610e+11</td>\n",
       "      <td>8/9/2019</td>\n",
       "      <td>11874.1550</td>\n",
       "      <td>2019</td>\n",
       "      <td>0</td>\n",
       "      <td>9.381259</td>\n",
       "    </tr>\n",
       "    <tr>\n",
       "      <th>4</th>\n",
       "      <td>2019-08-08</td>\n",
       "      <td>11954.04</td>\n",
       "      <td>11979.42</td>\n",
       "      <td>11556.17</td>\n",
       "      <td>11966.41</td>\n",
       "      <td>1.948159e+10</td>\n",
       "      <td>2.137880e+11</td>\n",
       "      <td>8/8/2019</td>\n",
       "      <td>11864.0100</td>\n",
       "      <td>2019</td>\n",
       "      <td>0</td>\n",
       "      <td>9.389942</td>\n",
       "    </tr>\n",
       "    <tr>\n",
       "      <th>5</th>\n",
       "      <td>2019-08-07</td>\n",
       "      <td>11476.19</td>\n",
       "      <td>12036.99</td>\n",
       "      <td>11433.70</td>\n",
       "      <td>11941.97</td>\n",
       "      <td>2.219499e+10</td>\n",
       "      <td>2.133300e+11</td>\n",
       "      <td>8/7/2019</td>\n",
       "      <td>11722.2125</td>\n",
       "      <td>2019</td>\n",
       "      <td>0</td>\n",
       "      <td>9.387898</td>\n",
       "    </tr>\n",
       "    <tr>\n",
       "      <th>6</th>\n",
       "      <td>2019-08-06</td>\n",
       "      <td>11811.55</td>\n",
       "      <td>12273.82</td>\n",
       "      <td>11290.73</td>\n",
       "      <td>11478.17</td>\n",
       "      <td>2.363511e+10</td>\n",
       "      <td>2.050230e+11</td>\n",
       "      <td>8/6/2019</td>\n",
       "      <td>11713.5675</td>\n",
       "      <td>2019</td>\n",
       "      <td>0</td>\n",
       "      <td>9.348289</td>\n",
       "    </tr>\n",
       "    <tr>\n",
       "      <th>7</th>\n",
       "      <td>2019-08-05</td>\n",
       "      <td>10960.74</td>\n",
       "      <td>11895.09</td>\n",
       "      <td>10960.74</td>\n",
       "      <td>11805.65</td>\n",
       "      <td>2.387599e+10</td>\n",
       "      <td>2.108490e+11</td>\n",
       "      <td>8/5/2019</td>\n",
       "      <td>11405.5550</td>\n",
       "      <td>2019</td>\n",
       "      <td>0</td>\n",
       "      <td>9.376418</td>\n",
       "    </tr>\n",
       "    <tr>\n",
       "      <th>8</th>\n",
       "      <td>2019-08-04</td>\n",
       "      <td>10821.63</td>\n",
       "      <td>11009.21</td>\n",
       "      <td>10620.28</td>\n",
       "      <td>10970.18</td>\n",
       "      <td>1.653089e+10</td>\n",
       "      <td>1.959080e+11</td>\n",
       "      <td>8/4/2019</td>\n",
       "      <td>10855.3250</td>\n",
       "      <td>2019</td>\n",
       "      <td>0</td>\n",
       "      <td>9.303027</td>\n",
       "    </tr>\n",
       "    <tr>\n",
       "      <th>9</th>\n",
       "      <td>2019-08-03</td>\n",
       "      <td>10519.28</td>\n",
       "      <td>10946.78</td>\n",
       "      <td>10503.50</td>\n",
       "      <td>10821.73</td>\n",
       "      <td>1.535269e+10</td>\n",
       "      <td>1.932340e+11</td>\n",
       "      <td>8/3/2019</td>\n",
       "      <td>10697.8225</td>\n",
       "      <td>2019</td>\n",
       "      <td>0</td>\n",
       "      <td>9.289404</td>\n",
       "    </tr>\n",
       "  </tbody>\n",
       "</table>\n",
       "</div>"
      ],
      "text/plain": [
       "        Date     Open*      High       Low   Close**        Volume  \\\n",
       "0 2019-08-12  11528.19  11528.19  11320.95  11382.62  1.364720e+10   \n",
       "1 2019-08-11  11349.74  11523.58  11248.29  11523.58  1.577437e+10   \n",
       "2 2019-08-10  11861.56  11915.66  11323.90  11354.02  1.812536e+10   \n",
       "3 2019-08-09  11953.47  11970.46  11709.75  11862.94  1.833999e+10   \n",
       "4 2019-08-08  11954.04  11979.42  11556.17  11966.41  1.948159e+10   \n",
       "5 2019-08-07  11476.19  12036.99  11433.70  11941.97  2.219499e+10   \n",
       "6 2019-08-06  11811.55  12273.82  11290.73  11478.17  2.363511e+10   \n",
       "7 2019-08-05  10960.74  11895.09  10960.74  11805.65  2.387599e+10   \n",
       "8 2019-08-04  10821.63  11009.21  10620.28  10970.18  1.653089e+10   \n",
       "9 2019-08-03  10519.28  10946.78  10503.50  10821.73  1.535269e+10   \n",
       "\n",
       "     Market Cap numeric_date  avg_daily_price  Year  Previous higher?  \\\n",
       "0  2.034410e+11    8/12/2019       11439.9875  2019                 0   \n",
       "1  2.059420e+11    8/11/2019       11411.2975  2019                 1   \n",
       "2  2.028900e+11    8/10/2019       11613.7850  2019                 1   \n",
       "3  2.119610e+11     8/9/2019       11874.1550  2019                 0   \n",
       "4  2.137880e+11     8/8/2019       11864.0100  2019                 0   \n",
       "5  2.133300e+11     8/7/2019       11722.2125  2019                 0   \n",
       "6  2.050230e+11     8/6/2019       11713.5675  2019                 0   \n",
       "7  2.108490e+11     8/5/2019       11405.5550  2019                 0   \n",
       "8  1.959080e+11     8/4/2019       10855.3250  2019                 0   \n",
       "9  1.932340e+11     8/3/2019       10697.8225  2019                 0   \n",
       "\n",
       "   log(Bitcoin Close)  \n",
       "0            9.339931  \n",
       "1            9.352237  \n",
       "2            9.337415  \n",
       "3            9.381259  \n",
       "4            9.389942  \n",
       "5            9.387898  \n",
       "6            9.348289  \n",
       "7            9.376418  \n",
       "8            9.303027  \n",
       "9            9.289404  "
      ]
     },
     "execution_count": 108,
     "metadata": {},
     "output_type": "execute_result"
    }
   ],
   "source": [
    "bitcoin.head(10)"
   ]
  },
  {
   "cell_type": "markdown",
   "metadata": {},
   "source": [
    "Lambda School Data Science, Unit 2: Predictive Modeling\n",
    "\n",
    "# Applied Modeling, Module 3\n",
    "\n",
    "You will use your portfolio project dataset for all assignments this sprint.\n",
    "\n",
    "## Assignment\n",
    "\n",
    "Complete these tasks for your project, and document your work.\n",
    "\n",
    "- [X] Continue to iterate on your project: data cleaning, exploration, feature engineering, modeling.\n",
    "- [X] Make at least 1 partial dependence plot to explain your model.\n",
    "- [X] Share at least 1 visualization on Slack.\n",
    "\n",
    "(If you have not yet completed an initial model yet for your portfolio project, then do today's assignment using your Tanzania Waterpumps model.)\n",
    "\n",
    "## Stretch Goals\n",
    "- [ ] Make multiple PDPs with 1 feature in isolation.\n",
    "- [ ] Make multiple PDPs with 2 features in interaction.\n",
    "- [ ] If you log-transformed your regression target, then convert your PDP back to original units. \n",
    "- [ ] Use Plotly to make a 3D PDP.\n",
    "- [ ] Make PDPs with categorical feature(s). Use Ordinal Encoder, outside of a pipeline, to encode your data first. If there is a natural ordering, then take the time to encode it that way, instead of random integers. Then use the encoded data with pdpbox.I Get readable category names on your plot, instead of integer category codes.\n",
    "\n",
    "## Links\n",
    "- [Christoph Molnar: Interpretable Machine Learning — Partial Dependence Plots](https://christophm.github.io/interpretable-ml-book/pdp.html) + [animated explanation](https://twitter.com/ChristophMolnar/status/1066398522608635904)\n",
    "- [Kaggle / Dan Becker: Machine Learning Explainability — Partial Dependence Plots](https://www.kaggle.com/dansbecker/partial-plots)\n",
    "- [Plotly: 3D PDP example](https://plot.ly/scikit-learn/plot-partial-dependence/#partial-dependence-of-house-value-on-median-age-and-average-occupancy)"
   ]
  },
  {
   "cell_type": "code",
   "execution_count": 109,
   "metadata": {},
   "outputs": [],
   "source": [
    "import numpy as np\n",
    "\n",
    "\n",
    "\n",
    "y_train_log = np.log1p(y_train)\n",
    "y_val_log = np.log1p(y_val)\n",
    "y_test_log = np.log1p(y_test)"
   ]
  },
  {
   "cell_type": "code",
   "execution_count": 110,
   "metadata": {},
   "outputs": [
    {
     "name": "stdout",
     "output_type": "stream",
     "text": [
      "0.0028604154784264146\n"
     ]
    }
   ],
   "source": [
    "from xgboost import XGBRegressor \n",
    "from sklearn.metrics import r2_score\n",
    "\n",
    "new_pipe = make_pipeline(\n",
    "    ce.OrdinalEncoder(),\n",
    "    XGBRegressor(n_estimators=300, objective='reg:squarederror', n_jobs=-1)\n",
    ")\n",
    "\n",
    "new_pipe.fit(X_train, y_train_log)\n",
    "y_pred_log = new_pipe.predict(X_val)\n",
    "y_pred = np.expm1(y_pred_log)\n",
    "print(r2_score(y_val, y_pred))"
   ]
  },
  {
   "cell_type": "code",
   "execution_count": 116,
   "metadata": {},
   "outputs": [
    {
     "data": {
      "image/png": "[encoded data removed]",
      "text/plain": [
       "<Figure size 1080x684 with 2 Axes>"
      ]
     },
     "metadata": {
      "needs_background": "light"
     },
     "output_type": "display_data"
    }
   ],
   "source": [
    "from pdpbox.pdp import pdp_isolate, pdp_plot\n",
    "\n",
    "feature = 'Open*'\n",
    "\n",
    "isolated = pdp_isolate(\n",
    "    model=new_pipe,\n",
    "    dataset=X_val,\n",
    "    model_features=X_val.columns,\n",
    "    feature=feature,\n",
    "    num_grid_points=50\n",
    ")\n",
    "\n",
    "pdp_plot(isolated, feature_name=feature, plot_lines=True, frac_to_plot=100)\n",
    "plt.xlim(0,20000);"
   ]
  },
  {
   "cell_type": "code",
   "execution_count": 117,
   "metadata": {},
   "outputs": [
    {
     "data": {
      "image/png": "[encoded data removed]",
      "text/plain": [
       "<Figure size 864x432 with 1 Axes>"
      ]
     },
     "metadata": {
      "needs_background": "light"
     },
     "output_type": "display_data"
    }
   ],
   "source": [
    "import matplotlib.pyplot as plt\n",
    "grid = isolated.feature_grids\n",
    "\n",
    "ice_log = isolated.ice_lines.sample(n=100).T\n",
    "ice = ice_log.apply(np.expm1)\n",
    "\n",
    "ice.plot(color='gray', alpha=0.1, legend=False, figsize=(12,6));\n",
    "\n",
    "plt.plot(grid,pdp)\n",
    "plt.xlim(0,20000)\n",
    "plt.xlabel('Opening price')\n",
    "plt.ylabel('Percent increase')\n",
    "plt.title('Bitcoin');"
   ]
  },
  {
   "cell_type": "code",
   "execution_count": null,
   "metadata": {},
   "outputs": [],
   "source": []
  }
 ],
 "metadata": {
  "colab": {
   "collapsed_sections": [],
   "name": "assignment_applied_modeling_1.ipynb",
   "provenance": [],
   "version": "0.3.2"
  },
  "kernelspec": {
   "display_name": "Python 3",
   "language": "python",
   "name": "python3"
  },
  "language_info": {
   "codemirror_mode": {
    "name": "ipython",
    "version": 3
   },
   "file_extension": ".py",
   "mimetype": "text/x-python",
   "name": "python",
   "nbconvert_exporter": "python",
   "pygments_lexer": "ipython3",
   "version": "3.7.3"
  }
 },
 "nbformat": 4,
 "nbformat_minor": 1
}
