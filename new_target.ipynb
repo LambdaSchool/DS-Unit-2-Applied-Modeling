{
 "cells": [
  {
   "cell_type": "code",
   "execution_count": 29,
   "metadata": {},
   "outputs": [],
   "source": [
    "import pandas as pd\n",
    "import numpy as np"
   ]
  },
  {
   "cell_type": "code",
   "execution_count": 30,
   "metadata": {},
   "outputs": [],
   "source": [
    "\n",
    "\n",
    "df = pd.read_csv('https://raw.githubusercontent.com/fivethirtyeight/data/master/thanksgiving-2015/thanksgiving-2015-poll-data.csv')\n",
    "\n",
    "\n",
    "\n",
    "df.columns = ['ID', 'Celebrate', 'Main_Dish', 'Main_Dish_Other', 'Main_Dish_Cooked', 'Main_Dish_Cooked_Other', 'Stuffing',\n",
    "              'Stuffing_Other', 'Cranberry_Sauce', 'Cranberry_Sauce_Other', 'Gravy', 'Brussel_Sprouts', 'Carrots', 'Cauliflower',\n",
    "              'Corn', 'Cornbread', 'Fruit_Salad', 'Green_Beans', 'Mac_and_Cheese', 'Mashed_Potatoes', 'Rolls_Biscuits', 'Squash',\n",
    "              'Salad', 'Sweet_Potatoes', 'Side_Dish_Other1', 'Side_Dish_Other2', 'Apple_Pie', 'Buttermilk_Pie', 'Cherry_Pie', \n",
    "              'Chocolate_Pie', 'Coconut_Cream_Pie', 'Key_Lime_Pie', 'Peach_Pie', 'Pecan_Pie', 'Pumpkin_Pie', 'Sweet_Potato_Pie', \n",
    "              'No_Pie', 'Other_Pie1', 'Other_Pie2', 'Apple_Cobbler', 'Blondies', 'Brownies', 'Carrot_Cake', 'Cheesecake', 'Cookies',\n",
    "              'Fudge', 'Ice_Cream', 'Peach_Cobbler', 'No_Dessert', 'Other_Dessert1', 'Other_Dessert2', 'Prayer', 'Travel_Distance', 'Parade',\n",
    "              'Kids_Table_Age', 'Old_Friends', 'Friendsgiving', 'Black_Friday_Shopper', 'Retail_Worker', 'Black_Friday_Worker', 'Neighborhood_Type',\n",
    "              'Age', 'Gender', 'Household_Earnings', 'US_Region']"
   ]
  },
  {
   "cell_type": "code",
   "execution_count": 36,
   "metadata": {},
   "outputs": [],
   "source": [
    "side_dishes = ['Stuffing',\n",
    "              'Stuffing_Other', 'Cranberry_Sauce', 'Cranberry_Sauce_Other', 'Gravy', 'Brussel_Sprouts', 'Carrots', 'Cauliflower',\n",
    "              'Corn', 'Cornbread', 'Fruit_Salad', 'Green_Beans', 'Mac_and_Cheese', 'Mashed_Potatoes', 'Rolls_Biscuits', 'Squash',\n",
    "              'Salad', 'Sweet_Potatoes', 'Side_Dish_Other1', 'Side_Dish_Other2', 'Apple_Pie', 'Buttermilk_Pie', 'Cherry_Pie', \n",
    "              'Chocolate_Pie', 'Coconut_Cream_Pie', 'Key_Lime_Pie', 'Peach_Pie', 'Pecan_Pie', 'Pumpkin_Pie', 'Sweet_Potato_Pie', \n",
    "              'No_Pie', 'Other_Pie1', 'Other_Pie2', 'Apple_Cobbler', 'Blondies', 'Brownies', 'Carrot_Cake', 'Cheesecake', 'Cookies',\n",
    "              'Fudge', 'Ice_Cream', 'Peach_Cobbler', 'No_Dessert', 'Other_Dessert1', 'Other_Dessert2', 'Casserole', 'Meat_Pie', 'Chess_Pie']\n",
    "\n",
    "vegetables = ['Brussel_Sprouts', 'Carrots', 'Cauliflower', 'Corn', 'Green_Beans',\n",
    "              'Squash', 'Salad']\n",
    "starches = ['Stuffing', 'Cornbread', 'Mac_and_Cheese', 'Mashed_Potatoes', 'Rolls_Biscuits',\n",
    "            'Sweet_Potatoes']\n",
    "sweet_sides = ['Cranberry_Sauce', 'Fruit_Salad']\n",
    "desserts = ['Apple_Pie', 'Buttermilk_Pie', 'Cherry_Pie', \n",
    "              'Chocolate_Pie', 'Coconut_Cream_Pie', 'Key_Lime_Pie', 'Peach_Pie', \n",
    "               'Pecan_Pie', 'Pumpkin_Pie', 'Sweet_Potato_Pie',\n",
    "            'Apple_Cobbler', \n",
    "               'Blondies', 'Brownies', 'Carrot_Cake', 'Cheesecake', 'Cookies',\n",
    "              'Fudge', 'Ice_Cream', 'Peach_Cobbler', 'Chess_Pie']\n",
    "pies = ['Apple_Pie', 'Buttermilk_Pie', 'Cherry_Pie', \n",
    "              'Chocolate_Pie', 'Coconut_Cream_Pie', 'Key_Lime_Pie', 'Peach_Pie', \n",
    "               'Pecan_Pie', 'Pumpkin_Pie', 'Sweet_Potato_Pie', 'Chess_Pie', 'Meat_Pie']\n",
    "food = ['Stuffing', 'Cranberry_Sauce', 'Gravy', 'Brussel_Sprouts', 'Carrots', 'Cauliflower',\n",
    "       'Corn', 'Cornbread', 'Fruit_Salad', 'Green_Beans', 'Mac_and_Cheese',\n",
    "       'Mashed_Potatoes', 'Rolls_Biscuits', 'Squash', 'Salad',\n",
    "       'Sweet_Potatoes', 'Apple_Pie', 'Buttermilk_Pie', 'Cherry_Pie',\n",
    "       'Chocolate_Pie', 'Coconut_Cream_Pie', 'Key_Lime_Pie', 'Peach_Pie',\n",
    "       'Pecan_Pie', 'Pumpkin_Pie', 'Sweet_Potato_Pie',\n",
    "       'Apple_Cobbler', 'Blondies', 'Brownies', 'Carrot_Cake', 'Cheesecake',\n",
    "       'Cookies', 'Fudge', 'Ice_Cream', 'Peach_Cobbler']"
   ]
  },
  {
   "cell_type": "code",
   "execution_count": 32,
   "metadata": {},
   "outputs": [],
   "source": [
    "#create regional groups\n",
    "\n",
    "northeast = ['Squash', 'Apple_Pie', 'Homemade_Cranberry_Sauce', 'Cauliflower', 'Corn', 'Brussel_Sprouts', 'Roast_Turkey']\n",
    "southern = ['Mac_and_Cheese', 'Cornbread', 'Sweet_Potato_Pie', 'Pecan_Pie', 'Fried_Turkey', 'Sweet_Potatoes',\n",
    "           'Cornbread_Stuffing', 'Chess_Pie', 'Peach_Pie', 'Key_Lime_Pie', 'Canned_Cranberry_Sauce']\n",
    "midwest = ['Cherry_Pie', 'Pumpkin_Pie', 'Rolls_Biscuits', 'Pumpkin_Pie', 'Mashed_Potatoes', 'Rice', 'Rice_Stuffing']\n",
    "great_plains = ['Green_Beans', 'Cherry_Pie', 'Casserole']\n",
    "west = ['Fruit_Salad', 'Salad', 'Brussel_Sprouts', 'Apple_Pie', 'Cherry_Pie', 'Canned_Cranberry_Sauce']\n",
    "hawaii = ['Smoked_Turkey', 'Rolls_Biscuits', 'Salad', 'Rice_Stuffing']"
   ]
  },
  {
   "cell_type": "code",
   "execution_count": 54,
   "metadata": {},
   "outputs": [],
   "source": [
    "def wrangle(df):\n",
    "    #remove any rows where they do not celebrate\n",
    "    df = df.drop(df[df.Celebrate == 'No'].index)\n",
    "    df = df.drop('Celebrate', axis = 1)\n",
    "    #remove earnings, is creating a map of earning potential by region rather than anything to do with food\n",
    "    df = df.drop('Household_Earnings', axis=1)\n",
    "    \n",
    "    #many columns formatted so that a column has the name of the dish if true and NaN if false\n",
    "#so replace all the NaN with No and all values with Yes\n",
    "#also for Parade column\n",
    "    for column in df.columns:\n",
    "        if 'Other' in column:\n",
    "            df[column] = df[column].fillna('No')\n",
    "        elif (column in side_dishes) & (column != 'Cranberry_Sauce') & (column != 'Stuffing'):\n",
    "            df[column] = df[column].replace(r'.*', 'Yes', regex=True)\n",
    "            df[column] = df[column].fillna('No')\n",
    "        elif (column == 'Cranberry_Sauce') | (column == 'Stuffing'):\n",
    "            df[column] = df[column].fillna('None')\n",
    "        elif column == 'Parade':\n",
    "            df[column] = df[column].replace(r'.*', 'Yes', regex=True)\n",
    "            df[column] = df[column].fillna('No')\n",
    "    df = df.replace('YesYes', 'Yes')\n",
    "    df['Cranberry_Sauce'] = np.where((df['Cranberry_Sauce_Other'].str.contains('homemade', case=False) \n",
    "                                      & df['Cranberry_Sauce_Other'].str.contains('canned', case=False)),\n",
    "                                     'Both', df['Cranberry_Sauce'])\n",
    "    df['Salad'] = np.where(df['Side_Dish_Other2'].str.contains('salad', case=False), 'Yes', df['Salad'])\n",
    "    df['Casserole'] = 'No'\n",
    "    df['Casserole'] = np.where(df['Side_Dish_Other2'].str.contains('casserole', case=False), 'Yes', df['Casserole'])\n",
    "    df['Stuffing'] = np.where((df['Stuffing_Other'].str.contains('cornbread', case=False) \n",
    "                                      | df['Stuffing_Other'].str.contains('corn bread', case=False)), \n",
    "                                        'Cornbread', df['Stuffing'])\n",
    "    df['Meat_Pie'] = df['Other_Pie2'].apply(lambda x: 'Yes' if 'meat' in x.lower() else 'No')\n",
    "    df['Chess_Pie'] = df['Other_Pie2'].apply(lambda x: 'Yes' if ('chess' in x.lower()) | ('cornmeal' in x.lower()) else 'No')\n",
    "    df['Main_Dish_Cooked'] = np.where(df['Main_Dish_Cooked_Other'].str.contains('grilled', case=False), 'Grilled', df['Main_Dish_Cooked'])\n",
    "    df['Main_Dish'] = np.where(df['Main_Dish_Other'].str.contains('turkey', case=False), 'Turkey', df['Main_Dish'])\n",
    "    df['Main_Dish_Cooked'] = np.where(df['Main_Dish_Cooked_Other'].str.contains('smoked', case=False), 'Smoked', df['Main_Dish_Cooked'])\n",
    "    df['Broccoli'] = df['Side_Dish_Other2'].apply(lambda x: 'Yes' if 'broccoli' in x.lower() else 'No')\n",
    "    df['Pumpkin_Pie'] = np.where(df['Other_Dessert2'].str.contains('pumpkin', case=False), 'Yes', df['Pumpkin_Pie'])\n",
    "    df['Rice'] = df['Side_Dish_Other2'].apply(lambda x: 'Yes' if 'rice' in x.lower() else 'No')\n",
    "    for column in df.columns:\n",
    "        if 'Other' in column:\n",
    "            df = df.drop(column, axis=1)\n",
    "#simplify main dish options\n",
    "    main_dishes = ('Turkey', 'Ham/Pork', 'Tofurkey', 'Chicken')\n",
    "    df['Main_Dish'] = df['Main_Dish'].apply(lambda x : x if x in main_dishes else 'Other')\n",
    "\n",
    "#remove the ID column, it's meaningless\n",
    "    df = df.drop('ID', axis=1)\n",
    "#replace empty values in Black_Friday_Worker with 'No' if person isn't in retail\n",
    "    df['Black_Friday_Worker'] = df['Retail_Worker'].apply(lambda x : 'No' if x == 'No' else x)\n",
    "\n",
    "#fix NaN values in other columns\n",
    "    df['Kids_Table_Age'] = df['Kids_Table_Age'].fillna('No Kids Table')\n",
    "    mode = df['Age'].mode()[0]\n",
    "    df['Age'] = df['Age'].fillna(mode)\n",
    "    mode = df['Travel_Distance'].mode()[0]\n",
    "    df['Travel_Distance'] = df['Travel_Distance'].fillna(mode)\n",
    "    df = df.fillna('Other')\n",
    "    \n",
    "    df['Kids_Table'] = df['Kids_Table_Age'].apply(lambda x: 'No' if x == 'No Kids Table' else 'Yes')\n",
    "    \n",
    "    df['Fried_Turkey'] = df['Main_Dish_Cooked'].apply(lambda x: 'Yes' if x == 'Fried' else 'No')\n",
    "    df['Homemade_Cranberry_Sauce'] = df['Cranberry_Sauce'].apply(lambda x: 'Yes' if (x == 'Homemade') | (x == 'Both') else 'No') \n",
    "    df['Cornbread_Stuffing'] = df['Stuffing'].apply(lambda x: 'Yes' if x == 'Cornbread' else 'No')\n",
    "    df['Canned_Cranberry_Sauce'] = df['Cranberry_Sauce'].apply(lambda x: 'Yes' if x == 'Canned' else 'No')\n",
    "    df['Smoked_Turkey'] = df['Main_Dish_Cooked'].apply(lambda x: 'Yes' if x == 'Smoked' else 'No')\n",
    "    df['Rice_Stuffing'] = df['Stuffing'].apply(lambda x: 'Yes' if 'rice' in x.lower() else 'No')\n",
    "    df['Roast_Turkey'] = df['Main_Dish_Cooked'].apply(lambda x: 'Yes' if x == 'Roasted' else 'No')\n",
    "    return df"
   ]
  },
  {
   "cell_type": "code",
   "execution_count": 55,
   "metadata": {},
   "outputs": [],
   "source": [
    "wrangled = wrangle(df)"
   ]
  },
  {
   "cell_type": "code",
   "execution_count": 53,
   "metadata": {},
   "outputs": [
    {
     "data": {
      "text/plain": [
       "No     933\n",
       "Yes     47\n",
       "Name: Fried_Turkey, dtype: int64"
      ]
     },
     "execution_count": 53,
     "metadata": {},
     "output_type": "execute_result"
    }
   ],
   "source": [
    "wrangled['Fried_Turkey'].value_counts()"
   ]
  }
 ],
 "metadata": {
  "kernelspec": {
   "display_name": "Python 3",
   "language": "python",
   "name": "python3"
  },
  "language_info": {
   "codemirror_mode": {
    "name": "ipython",
    "version": 3
   },
   "file_extension": ".py",
   "mimetype": "text/x-python",
   "name": "python",
   "nbconvert_exporter": "python",
   "pygments_lexer": "ipython3",
   "version": "3.7.4"
  }
 },
 "nbformat": 4,
 "nbformat_minor": 4
}
