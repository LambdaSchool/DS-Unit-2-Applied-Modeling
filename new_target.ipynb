{
 "cells": [
  {
   "cell_type": "code",
   "execution_count": 1,
   "metadata": {},
   "outputs": [],
   "source": [
    "import pandas as pd\n",
    "import numpy as np"
   ]
  },
  {
   "cell_type": "code",
   "execution_count": 2,
   "metadata": {},
   "outputs": [],
   "source": [
    "\n",
    "\n",
    "df = pd.read_csv('https://raw.githubusercontent.com/fivethirtyeight/data/master/thanksgiving-2015/thanksgiving-2015-poll-data.csv')\n",
    "\n",
    "\n",
    "\n",
    "df.columns = ['ID', 'Celebrate', 'Main_Dish', 'Main_Dish_Other', 'Main_Dish_Cooked', 'Main_Dish_Cooked_Other', 'Stuffing',\n",
    "              'Stuffing_Other', 'Cranberry_Sauce', 'Cranberry_Sauce_Other', 'Gravy', 'Brussel_Sprouts', 'Carrots', 'Cauliflower',\n",
    "              'Corn', 'Cornbread', 'Fruit_Salad', 'Green_Beans', 'Mac_and_Cheese', 'Mashed_Potatoes', 'Rolls_Biscuits', 'Squash',\n",
    "              'Salad', 'Sweet_Potatoes', 'Side_Dish_Other1', 'Side_Dish_Other2', 'Apple_Pie', 'Buttermilk_Pie', 'Cherry_Pie', \n",
    "              'Chocolate_Pie', 'Coconut_Cream_Pie', 'Key_Lime_Pie', 'Peach_Pie', 'Pecan_Pie', 'Pumpkin_Pie', 'Sweet_Potato_Pie', \n",
    "              'No_Pie', 'Other_Pie1', 'Other_Pie2', 'Apple_Cobbler', 'Blondies', 'Brownies', 'Carrot_Cake', 'Cheesecake', 'Cookies',\n",
    "              'Fudge', 'Ice_Cream', 'Peach_Cobbler', 'No_Dessert', 'Other_Dessert1', 'Other_Dessert2', 'Prayer', 'Travel_Distance', 'Parade',\n",
    "              'Kids_Table_Age', 'Old_Friends', 'Friendsgiving', 'Black_Friday_Shopper', 'Retail_Worker', 'Black_Friday_Worker', 'Neighborhood_Type',\n",
    "              'Age', 'Gender', 'Household_Earnings', 'US_Region']"
   ]
  },
  {
   "cell_type": "code",
   "execution_count": 3,
   "metadata": {},
   "outputs": [],
   "source": [
    "side_dishes = ['Stuffing',\n",
    "              'Stuffing_Other', 'Cranberry_Sauce', 'Cranberry_Sauce_Other', 'Gravy', 'Brussel_Sprouts', 'Carrots', 'Cauliflower',\n",
    "              'Corn', 'Cornbread', 'Fruit_Salad', 'Green_Beans', 'Mac_and_Cheese', 'Mashed_Potatoes', 'Rolls_Biscuits', 'Squash',\n",
    "              'Salad', 'Sweet_Potatoes', 'Side_Dish_Other1', 'Side_Dish_Other2', 'Apple_Pie', 'Buttermilk_Pie', 'Cherry_Pie', \n",
    "              'Chocolate_Pie', 'Coconut_Cream_Pie', 'Key_Lime_Pie', 'Peach_Pie', 'Pecan_Pie', 'Pumpkin_Pie', 'Sweet_Potato_Pie', \n",
    "              'No_Pie', 'Other_Pie1', 'Other_Pie2', 'Apple_Cobbler', 'Blondies', 'Brownies', 'Carrot_Cake', 'Cheesecake', 'Cookies',\n",
    "              'Fudge', 'Ice_Cream', 'Peach_Cobbler', 'No_Dessert', 'Other_Dessert1', 'Other_Dessert2']\n",
    "\n",
    "vegetables = ['Brussel_Sprouts', 'Carrots', 'Cauliflower', 'Corn', 'Green_Beans',\n",
    "              'Squash', 'Salad']\n",
    "starches = ['Stuffing', 'Cornbread', 'Mac_and_Cheese', 'Mashed_Potatoes', 'Rolls_Biscuits',\n",
    "            'Sweet_Potatoes']\n",
    "sweet_sides = ['Cranberry_Sauce', 'Fruit_Salad']\n",
    "desserts = ['Apple_Pie', 'Buttermilk_Pie', 'Cherry_Pie', \n",
    "              'Chocolate_Pie', 'Coconut_Cream_Pie', 'Key_Lime_Pie', 'Peach_Pie', \n",
    "               'Pecan_Pie', 'Pumpkin_Pie', 'Sweet_Potato_Pie',\n",
    "            'Apple_Cobbler', \n",
    "               'Blondies', 'Brownies', 'Carrot_Cake', 'Cheesecake', 'Cookies',\n",
    "              'Fudge', 'Ice_Cream', 'Peach_Cobbler']\n",
    "pies = ['Apple_Pie', 'Buttermilk_Pie', 'Cherry_Pie', \n",
    "              'Chocolate_Pie', 'Coconut_Cream_Pie', 'Key_Lime_Pie', 'Peach_Pie', \n",
    "               'Pecan_Pie', 'Pumpkin_Pie', 'Sweet_Potato_Pie']\n",
    "food = ['Stuffing', 'Cranberry_Sauce', 'Gravy', 'Brussel_Sprouts', 'Carrots', 'Cauliflower',\n",
    "       'Corn', 'Cornbread', 'Fruit_Salad', 'Green_Beans', 'Mac_and_Cheese',\n",
    "       'Mashed_Potatoes', 'Rolls_Biscuits', 'Squash', 'Salad',\n",
    "       'Sweet_Potatoes', 'Apple_Pie', 'Buttermilk_Pie', 'Cherry_Pie',\n",
    "       'Chocolate_Pie', 'Coconut_Cream_Pie', 'Key_Lime_Pie', 'Peach_Pie',\n",
    "       'Pecan_Pie', 'Pumpkin_Pie', 'Sweet_Potato_Pie',\n",
    "       'Apple_Cobbler', 'Blondies', 'Brownies', 'Carrot_Cake', 'Cheesecake',\n",
    "       'Cookies', 'Fudge', 'Ice_Cream', 'Peach_Cobbler']\n",
    "number_of_sides = ['Number_Vegetables', 'Number_Desserts',\n",
    "       'Number_Starches', 'Number_Pies', 'Number_Sweet_Sides', 'Number_Dishes']\n",
    "food_and_number = food + number_of_sides"
   ]
  },
  {
   "cell_type": "code",
   "execution_count": null,
   "metadata": {},
   "outputs": [],
   "source": [
    "#create regional groups\n",
    "\n",
    "northeast = ['Squash', 'Apple_Pie', 'Pumpkin_Pie', 'Homemade_Cranberry_Sauce']\n",
    "southern = ['Mac_and_Cheese', 'Cornbread', 'Sweet_Potato_Pie', 'Pecan_Pie', 'Pumpkin_Pie', 'Fried_Turkey', 'Sweet_Potatoes']\n",
    "great_lakes = ['Rolls_Biscuits', 'Pumpkin_Pie']\n",
    "midwest = ['Cherry_Pie', 'Pumpkin_Pie']\n",
    "great_plains = ['Green_Beans', 'Cherry_Pie', 'Pumpkin_Pie', 'Casserole']\n",
    "west = ['Fruit_Salad', 'Salad']\n"
   ]
  },
  {
   "cell_type": "code",
   "execution_count": 4,
   "metadata": {},
   "outputs": [
    {
     "ename": "SyntaxError",
     "evalue": "invalid syntax (<ipython-input-4-cf67d017094a>, line 1)",
     "output_type": "error",
     "traceback": [
      "\u001b[1;36m  File \u001b[1;32m\"<ipython-input-4-cf67d017094a>\"\u001b[1;36m, line \u001b[1;32m1\u001b[0m\n\u001b[1;33m    def wrangle:\u001b[0m\n\u001b[1;37m               ^\u001b[0m\n\u001b[1;31mSyntaxError\u001b[0m\u001b[1;31m:\u001b[0m invalid syntax\n"
     ]
    }
   ],
   "source": [
    "def wrangle(df):\n",
    "    #remove any rows where they do not celebrate\n",
    "    df = df.drop(df[df.Celebrate == 'No'].index)\n",
    "    df = df.drop('Celebrate', axis = 1)\n",
    "    #remove earnings, is creating a map of earning potential by region rather than anything to do with food\n",
    "    df = df.drop('Household_Earnings', axis=1)\n",
    "    df['Number_Vegetables'] = df[vegetables].count(axis=1)\n",
    "    df['Number_Starches'] = df[starches].count(axis=1)\n",
    "    df['Number_Desserts'] = df[desserts].count(axis=1)\n",
    "    df['Number_Pies'] = df[pies].count(axis=1)\n",
    "    df['Number_Sweet_Sides'] = df[sweet_sides].count(axis=1)\n",
    "    df['Number_Dishes'] = df[food].count(axis=1)\n",
    "    #data is formatted so that a column has the name of the dish if true and NaN if false\n",
    "#so replace all the NaN with No and all values with Yes\n",
    "#also for Parade column\n",
    "    for column in df.columns:\n",
    "        if (column in side_dishes) & (column != 'Cranberry_Sauce') & (column != 'Stuffing'):\n",
    "            df[column] = df[column].replace(r'.*', 'Yes', regex=True)\n",
    "            df[column] = df[column].fillna('No')\n",
    "        elif column == 'Cranberry_Sauce' | column == 'Stuffing':\n",
    "            df[column] = df[column].fillna('None')\n",
    "        elif column == 'Parade':\n",
    "            df[column] = df[column].replace(r'.*', 'Yes', regex=True)\n",
    "            df[column] = df[column].fillna('No')\n",
    "    df = df.replace('YesYes', 'Yes')\n",
    "    df['Cranberry_Sauce'] = df['Cranberry_Sauce_Other'].apply(lambda x: 'Both' if \n",
    "                                                              ('homemade' in x.lower()) & ('canned' in x.lower()) else 'Other')\n",
    "    df['Salad'] = df['Side_Dish_Other2'].apply(lambda x: 'Yes' if 'salad' in x.lower() else x)\n",
    "    df['Casserole'] = df['Side_Dish_Other2'].apply(lambda x: 'Yes' if 'casserole' in x.lower() else x)\n",
    "    df['Stuffing'] = df['Stuffing_Other'].apply(lambda x: 'Cornbread' if ('cornbread' in x.lower()) | ('corn bread' in x.lower()) else x)\n",
    "    df['Stuffing'] = \n",
    "    for column in df.columns:\n",
    "        if 'Other' in column:\n",
    "            df = df.drop(column, axis=1)\n",
    "#simplify main dish options\n",
    "    main_dishes = ('Turkey', 'Ham/Pork', 'Tofurkey', 'Chicken')\n",
    "    df['Main_Dish'] = df['Main_Dish'].apply(lambda x : x if x in main_dishes else 'Other')\n",
    "    cook_options = ('Baked', 'Roasted', 'Fried')\n",
    "    df['Main_Dish_Cooked'] = df['Main_Dish_Cooked'].apply(lambda x : x if x in cook_options else 'Other')\n",
    "#remove the ID column, it's meaningless\n",
    "    df = df.drop('ID', axis=1)\n",
    "#replace empty values in Black_Friday_Worker with 'No' if person isn't in retail\n",
    "    df['Black_Friday_Worker'] = df['Retail_Worker'].apply(lambda x : 'No' if x == 'No' else x)\n",
    "\n",
    "#fix NaN values in other columns\n",
    "    df['Kids_Table_Age'] = df['Kids_Table_Age'].fillna('No Kids Table')\n",
    "    mode = df['Age'].mode()[0]\n",
    "    df['Age'] = df['Age'].fillna(mode)\n",
    "    mode = df['Travel_Distance'].mode()[0]\n",
    "    df['Travel_Distance'] = df['Travel_Distance'].fillna(mode)\n",
    "    df = df.fillna('Other')\n",
    "    \n",
    "    df['Kids_Table'] = df['Kids_Table_Age'].apply(lambda x: 'No' if x == 'No Kids Table' else 'Yes')\n",
    "    \n",
    "    df['Fried_Turkey'] = df['Main_Dish_Cooked'].apply(lambda x: 'Yes' if x == 'Fried' else 'No')\n",
    "    df['Homemade_Cranberry_Sauce'] = df['Cranberry_Sauce'].apply(lambda x: 'Yes' if (x == 'Homemade' | x == 'Both') else 'No') \n",
    "    return df"
   ]
  }
 ],
 "metadata": {
  "kernelspec": {
   "display_name": "Python 3",
   "language": "python",
   "name": "python3"
  },
  "language_info": {
   "codemirror_mode": {
    "name": "ipython",
    "version": 3
   },
   "file_extension": ".py",
   "mimetype": "text/x-python",
   "name": "python",
   "nbconvert_exporter": "python",
   "pygments_lexer": "ipython3",
   "version": "3.7.4"
  }
 },
 "nbformat": 4,
 "nbformat_minor": 4
}
