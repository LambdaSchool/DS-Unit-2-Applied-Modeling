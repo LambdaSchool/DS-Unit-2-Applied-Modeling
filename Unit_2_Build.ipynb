{
  "nbformat": 4,
  "nbformat_minor": 0,
  "metadata": {
    "colab": {
      "name": "Unit 2 Build.ipynb",
      "provenance": [],
      "machine_shape": "hm",
      "include_colab_link": true
    },
    "kernelspec": {
      "name": "python3",
      "display_name": "Python 3"
    }
  },
  "cells": [
    {
      "cell_type": "markdown",
      "metadata": {
        "id": "view-in-github",
        "colab_type": "text"
      },
      "source": [
        "<a href=\"https://colab.research.google.com/github/tallywiesenberg/DS-Unit-2-Applied-Modeling/blob/master/Unit_2_Build.ipynb\" target=\"_parent\"><img src=\"https://colab.research.google.com/assets/colab-badge.svg\" alt=\"Open In Colab\"/></a>"
      ]
    },
    {
      "cell_type": "code",
      "metadata": {
        "id": "MFZSG-hsvL8T",
        "colab_type": "code",
        "colab": {}
      },
      "source": [
        "import pandas as pd\n",
        "import numpy as np\n",
        "import scipy.stats as stats\n",
        "\n",
        "import matplotlib.pyplot as plt\n",
        "import seaborn as sns\n",
        "import plotly.express as px\n",
        "from sklearn.impute import SimpleImputer\n",
        "\n",
        "from sklearn.metrics import accuracy_score\n",
        "from sklearn.metrics import confusion_matrix\n"
      ],
      "execution_count": 0,
      "outputs": []
    },
    {
      "cell_type": "markdown",
      "metadata": {
        "id": "zo6EwhugvMiA",
        "colab_type": "text"
      },
      "source": [
        "#Import"
      ]
    },
    {
      "cell_type": "code",
      "metadata": {
        "id": "PZr5o4vpuQCh",
        "colab_type": "code",
        "outputId": "4217d90f-a84a-47b0-887d-d17de5c38e6f",
        "colab": {
          "base_uri": "https://localhost:8080/",
          "height": 121
        }
      },
      "source": [
        "#crash data\n",
        "crashes = pd.read_csv('https://opendata.arcgis.com/datasets/70392a096a8e431381f1f692aaa06afd_24.csv', dtype={'STREETSEGID': 'Int64'})  #crash data\n",
        "crashes1 = pd.read_csv('https://opendata.arcgis.com/datasets/70248b73c20f46b0a5ee895fc91d6222_25.csv', dtype={'STREETSEGID': 'Int64'}) #additional crash data\n",
        "crashes.shape, crashes1.shape"
      ],
      "execution_count": 56,
      "outputs": [
        {
          "output_type": "stream",
          "text": [
            "/usr/local/lib/python3.6/dist-packages/IPython/core/interactiveshell.py:2718: DtypeWarning: Columns (4,54,55) have mixed types. Specify dtype option on import or set low_memory=False.\n",
            "  interactivity=interactivity, compiler=compiler, result=result)\n",
            "/usr/local/lib/python3.6/dist-packages/IPython/core/interactiveshell.py:2718: DtypeWarning: Columns (2,9) have mixed types. Specify dtype option on import or set low_memory=False.\n",
            "  interactivity=interactivity, compiler=compiler, result=result)\n"
          ],
          "name": "stderr"
        },
        {
          "output_type": "execute_result",
          "data": {
            "text/plain": [
              "((217117, 56), (471128, 15))"
            ]
          },
          "metadata": {
            "tags": []
          },
          "execution_count": 56
        }
      ]
    },
    {
      "cell_type": "code",
      "metadata": {
        "id": "MEQnSO5kMmAs",
        "colab_type": "code",
        "colab": {}
      },
      "source": [
        "#datasets for engineering\n",
        "street_segs = pd.read_csv('https://opendata.arcgis.com/datasets/f21813094ed24fd5ba66a07b61a1acee_46.csv', dtype={'STREETSEGID': 'Int64'})\n",
        "bicycles = pd.read_csv('https://opendata.arcgis.com/datasets/294e062cdf2c48d5b9cbc374d9709bc0_2.csv', dtype={'STREETSEGID': 'Int64'})"
      ],
      "execution_count": 0,
      "outputs": []
    },
    {
      "cell_type": "code",
      "metadata": {
        "id": "vqSb9dekxyXw",
        "colab_type": "code",
        "outputId": "155ab6d0-ee02-4166-da37-96e67fdedd88",
        "colab": {
          "base_uri": "https://localhost:8080/",
          "height": 34
        }
      },
      "source": [
        "df = crashes.merge(crashes1, how='inner', on='CRIMEID')   #inner join on CRIMEID, the common unique ID between datasets\n",
        "df = df.merge(street_segs[['STREETSEGID', 'STREETTYPE', 'QUADRANT', 'DIRECTIONALITY']], how='left', on='STREETSEGID')\n",
        "df = df.merge(bicycles[['STREETSEGID', 'BIKELANELENGTH']], how='left', on='STREETSEGID').rename(columns={'YEAR_INSTALLED': 'Bike_lane_year_installed'})\n",
        "df.shape"
      ],
      "execution_count": 58,
      "outputs": [
        {
          "output_type": "execute_result",
          "data": {
            "text/plain": [
              "(473023, 74)"
            ]
          },
          "metadata": {
            "tags": []
          },
          "execution_count": 58
        }
      ]
    },
    {
      "cell_type": "code",
      "metadata": {
        "id": "ACrugULOO-QX",
        "colab_type": "code",
        "outputId": "8176b556-7cca-4dd5-9cda-164f9bfae6ae",
        "colab": {
          "base_uri": "https://localhost:8080/",
          "height": 383
        }
      },
      "source": [
        "df= df.sort_index(axis=1)\n",
        "df.head()"
      ],
      "execution_count": 114,
      "outputs": [
        {
          "output_type": "execute_result",
          "data": {
            "text/html": [
              "<div>\n",
              "<style scoped>\n",
              "    .dataframe tbody tr th:only-of-type {\n",
              "        vertical-align: middle;\n",
              "    }\n",
              "\n",
              "    .dataframe tbody tr th {\n",
              "        vertical-align: top;\n",
              "    }\n",
              "\n",
              "    .dataframe thead th {\n",
              "        text-align: right;\n",
              "    }\n",
              "</style>\n",
              "<table border=\"1\" class=\"dataframe\">\n",
              "  <thead>\n",
              "    <tr style=\"text-align: right;\">\n",
              "      <th></th>\n",
              "      <th>ADDRESS</th>\n",
              "      <th>AGE</th>\n",
              "      <th>BICYCLISTSIMPAIRED</th>\n",
              "      <th>BIKE_LANE</th>\n",
              "      <th>CRIMEID</th>\n",
              "      <th>DIRECTIONALITY</th>\n",
              "      <th>DRIVERSIMPAIRED</th>\n",
              "      <th>FATAL</th>\n",
              "      <th>FATAL_BICYCLIST</th>\n",
              "      <th>FATAL_DRIVER</th>\n",
              "      <th>FATAL_PEDESTRIAN</th>\n",
              "      <th>FROMDATE</th>\n",
              "      <th>IMPAIRED</th>\n",
              "      <th>INTAPPROACHDIRECTION</th>\n",
              "      <th>INVEHICLETYPE</th>\n",
              "      <th>LATITUDE</th>\n",
              "      <th>LICENSEPLATESTATE</th>\n",
              "      <th>LONGITUDE</th>\n",
              "      <th>MAJORINJURIES_BICYCLIST</th>\n",
              "      <th>MAJORINJURIES_DRIVER</th>\n",
              "      <th>MAJORINJURIES_PEDESTRIAN</th>\n",
              "      <th>MAJORINJURY</th>\n",
              "      <th>MAJOR_INJURY_OR_FATAL</th>\n",
              "      <th>MARID</th>\n",
              "      <th>MAR_ADDRESS</th>\n",
              "      <th>MAR_SCORE</th>\n",
              "      <th>MEASURE</th>\n",
              "      <th>MINORINJURIES_BICYCLIST</th>\n",
              "      <th>MINORINJURIES_DRIVER</th>\n",
              "      <th>MINORINJURIES_PEDESTRIAN</th>\n",
              "      <th>MINORINJURY</th>\n",
              "      <th>MPDLATITUDE</th>\n",
              "      <th>MPDLONGITUDE</th>\n",
              "      <th>NEARESTINTROUTEID</th>\n",
              "      <th>NEARESTINTSTREETNAME</th>\n",
              "      <th>OFFINTERSECTION</th>\n",
              "      <th>OFFSET</th>\n",
              "      <th>PEDESTRIANSIMPAIRED</th>\n",
              "      <th>PERSONID</th>\n",
              "      <th>PERSONTYPE</th>\n",
              "      <th>QUADRANT</th>\n",
              "      <th>REPORTDATE</th>\n",
              "      <th>ROADWAYSEGID</th>\n",
              "      <th>ROUTEID</th>\n",
              "      <th>SPEEDING</th>\n",
              "      <th>SPEEDING_INVOLVED</th>\n",
              "      <th>STREETSEGID</th>\n",
              "      <th>STREETTYPE</th>\n",
              "      <th>TICKETISSUED</th>\n",
              "      <th>TOTAL_BICYCLES</th>\n",
              "      <th>TOTAL_GOVERNMENT</th>\n",
              "      <th>TOTAL_PEDESTRIANS</th>\n",
              "      <th>TOTAL_TAXIS</th>\n",
              "      <th>TOTAL_VEHICLES</th>\n",
              "      <th>UNKNOWNINJURIES_BICYCLIST</th>\n",
              "      <th>UNKNOWNINJURIES_DRIVER</th>\n",
              "      <th>UNKNOWNINJURIES_PEDESTRIAN</th>\n",
              "      <th>VEHICLEID</th>\n",
              "      <th>WARD</th>\n",
              "      <th>X</th>\n",
              "      <th>XCOORD</th>\n",
              "      <th>Y</th>\n",
              "      <th>YCOORD</th>\n",
              "    </tr>\n",
              "  </thead>\n",
              "  <tbody>\n",
              "    <tr>\n",
              "      <th>0</th>\n",
              "      <td>PENNSYLVANIA AVENUE NW</td>\n",
              "      <td>57</td>\n",
              "      <td>0</td>\n",
              "      <td>0</td>\n",
              "      <td>26930525</td>\n",
              "      <td>0.0</td>\n",
              "      <td>0</td>\n",
              "      <td>0</td>\n",
              "      <td>0</td>\n",
              "      <td>0</td>\n",
              "      <td>0</td>\n",
              "      <td>2016-04-29</td>\n",
              "      <td>0</td>\n",
              "      <td>South</td>\n",
              "      <td>Passenger Car/automobile</td>\n",
              "      <td>38.901875</td>\n",
              "      <td>MD</td>\n",
              "      <td>-77.048904</td>\n",
              "      <td>0</td>\n",
              "      <td>0</td>\n",
              "      <td>0</td>\n",
              "      <td>0</td>\n",
              "      <td>0</td>\n",
              "      <td>306440</td>\n",
              "      <td>2200 PENNSYLVANIA AVENUE NW</td>\n",
              "      <td>200.0</td>\n",
              "      <td>757.428</td>\n",
              "      <td>0</td>\n",
              "      <td>1</td>\n",
              "      <td>0</td>\n",
              "      <td>0</td>\n",
              "      <td>38.901875</td>\n",
              "      <td>-77.048904</td>\n",
              "      <td>11069812</td>\n",
              "      <td>PENNSYLVANIA AVE NW</td>\n",
              "      <td>24.456134</td>\n",
              "      <td>0.000000</td>\n",
              "      <td>0</td>\n",
              "      <td>84726011</td>\n",
              "      <td>Driver</td>\n",
              "      <td>NW</td>\n",
              "      <td>2016-05-03T12:47:39.000Z</td>\n",
              "      <td>4869.0</td>\n",
              "      <td>11002202</td>\n",
              "      <td>0</td>\n",
              "      <td>0</td>\n",
              "      <td>4331</td>\n",
              "      <td>ST</td>\n",
              "      <td>Y</td>\n",
              "      <td>0</td>\n",
              "      <td>0</td>\n",
              "      <td>0</td>\n",
              "      <td>1</td>\n",
              "      <td>4</td>\n",
              "      <td>0</td>\n",
              "      <td>0</td>\n",
              "      <td>0</td>\n",
              "      <td>2391061</td>\n",
              "      <td>2</td>\n",
              "      <td>-77.048828</td>\n",
              "      <td>395764.791</td>\n",
              "      <td>38.901882</td>\n",
              "      <td>137114.476</td>\n",
              "    </tr>\n",
              "    <tr>\n",
              "      <th>1</th>\n",
              "      <td>PENNSYLVANIA AVENUE NW</td>\n",
              "      <td>40</td>\n",
              "      <td>0</td>\n",
              "      <td>0</td>\n",
              "      <td>26930525</td>\n",
              "      <td>0.0</td>\n",
              "      <td>0</td>\n",
              "      <td>0</td>\n",
              "      <td>0</td>\n",
              "      <td>0</td>\n",
              "      <td>0</td>\n",
              "      <td>2016-04-29</td>\n",
              "      <td>0</td>\n",
              "      <td>South</td>\n",
              "      <td>Passenger Car/automobile</td>\n",
              "      <td>38.901875</td>\n",
              "      <td>MD</td>\n",
              "      <td>-77.048904</td>\n",
              "      <td>0</td>\n",
              "      <td>0</td>\n",
              "      <td>0</td>\n",
              "      <td>0</td>\n",
              "      <td>0</td>\n",
              "      <td>306440</td>\n",
              "      <td>2200 PENNSYLVANIA AVENUE NW</td>\n",
              "      <td>200.0</td>\n",
              "      <td>757.428</td>\n",
              "      <td>0</td>\n",
              "      <td>1</td>\n",
              "      <td>0</td>\n",
              "      <td>0</td>\n",
              "      <td>38.901875</td>\n",
              "      <td>-77.048904</td>\n",
              "      <td>11069812</td>\n",
              "      <td>PENNSYLVANIA AVE NW</td>\n",
              "      <td>24.456134</td>\n",
              "      <td>0.000000</td>\n",
              "      <td>0</td>\n",
              "      <td>84732365</td>\n",
              "      <td>Driver</td>\n",
              "      <td>NW</td>\n",
              "      <td>2016-05-03T12:47:39.000Z</td>\n",
              "      <td>4869.0</td>\n",
              "      <td>11002202</td>\n",
              "      <td>0</td>\n",
              "      <td>0</td>\n",
              "      <td>4331</td>\n",
              "      <td>ST</td>\n",
              "      <td>Y</td>\n",
              "      <td>0</td>\n",
              "      <td>0</td>\n",
              "      <td>0</td>\n",
              "      <td>1</td>\n",
              "      <td>4</td>\n",
              "      <td>0</td>\n",
              "      <td>0</td>\n",
              "      <td>0</td>\n",
              "      <td>2391064</td>\n",
              "      <td>2</td>\n",
              "      <td>-77.048828</td>\n",
              "      <td>395764.791</td>\n",
              "      <td>38.901882</td>\n",
              "      <td>137114.476</td>\n",
              "    </tr>\n",
              "    <tr>\n",
              "      <th>2</th>\n",
              "      <td>PENNSYLVANIA AVENUE NW</td>\n",
              "      <td>45</td>\n",
              "      <td>0</td>\n",
              "      <td>0</td>\n",
              "      <td>26930525</td>\n",
              "      <td>0.0</td>\n",
              "      <td>0</td>\n",
              "      <td>0</td>\n",
              "      <td>0</td>\n",
              "      <td>0</td>\n",
              "      <td>0</td>\n",
              "      <td>2016-04-29</td>\n",
              "      <td>0</td>\n",
              "      <td>South</td>\n",
              "      <td>Passenger Car/automobile</td>\n",
              "      <td>38.901875</td>\n",
              "      <td>DC</td>\n",
              "      <td>-77.048904</td>\n",
              "      <td>0</td>\n",
              "      <td>0</td>\n",
              "      <td>0</td>\n",
              "      <td>0</td>\n",
              "      <td>0</td>\n",
              "      <td>306440</td>\n",
              "      <td>2200 PENNSYLVANIA AVENUE NW</td>\n",
              "      <td>200.0</td>\n",
              "      <td>757.428</td>\n",
              "      <td>0</td>\n",
              "      <td>1</td>\n",
              "      <td>0</td>\n",
              "      <td>1</td>\n",
              "      <td>38.901875</td>\n",
              "      <td>-77.048904</td>\n",
              "      <td>11069812</td>\n",
              "      <td>PENNSYLVANIA AVE NW</td>\n",
              "      <td>24.456134</td>\n",
              "      <td>0.000000</td>\n",
              "      <td>0</td>\n",
              "      <td>84788294</td>\n",
              "      <td>Driver</td>\n",
              "      <td>NW</td>\n",
              "      <td>2016-05-03T12:47:39.000Z</td>\n",
              "      <td>4869.0</td>\n",
              "      <td>11002202</td>\n",
              "      <td>0</td>\n",
              "      <td>0</td>\n",
              "      <td>4331</td>\n",
              "      <td>ST</td>\n",
              "      <td>Y</td>\n",
              "      <td>0</td>\n",
              "      <td>0</td>\n",
              "      <td>0</td>\n",
              "      <td>1</td>\n",
              "      <td>4</td>\n",
              "      <td>0</td>\n",
              "      <td>0</td>\n",
              "      <td>0</td>\n",
              "      <td>2391062</td>\n",
              "      <td>2</td>\n",
              "      <td>-77.048828</td>\n",
              "      <td>395764.791</td>\n",
              "      <td>38.901882</td>\n",
              "      <td>137114.476</td>\n",
              "    </tr>\n",
              "    <tr>\n",
              "      <th>3</th>\n",
              "      <td>PENNSYLVANIA AVENUE NW</td>\n",
              "      <td>51</td>\n",
              "      <td>0</td>\n",
              "      <td>0</td>\n",
              "      <td>26930525</td>\n",
              "      <td>0.0</td>\n",
              "      <td>0</td>\n",
              "      <td>0</td>\n",
              "      <td>0</td>\n",
              "      <td>0</td>\n",
              "      <td>0</td>\n",
              "      <td>2016-04-29</td>\n",
              "      <td>0</td>\n",
              "      <td>South</td>\n",
              "      <td>Passenger Car/automobile</td>\n",
              "      <td>38.901875</td>\n",
              "      <td>VA</td>\n",
              "      <td>-77.048904</td>\n",
              "      <td>0</td>\n",
              "      <td>0</td>\n",
              "      <td>0</td>\n",
              "      <td>0</td>\n",
              "      <td>0</td>\n",
              "      <td>306440</td>\n",
              "      <td>2200 PENNSYLVANIA AVENUE NW</td>\n",
              "      <td>200.0</td>\n",
              "      <td>757.428</td>\n",
              "      <td>0</td>\n",
              "      <td>1</td>\n",
              "      <td>0</td>\n",
              "      <td>0</td>\n",
              "      <td>38.901875</td>\n",
              "      <td>-77.048904</td>\n",
              "      <td>11069812</td>\n",
              "      <td>PENNSYLVANIA AVE NW</td>\n",
              "      <td>24.456134</td>\n",
              "      <td>0.000000</td>\n",
              "      <td>0</td>\n",
              "      <td>85036446</td>\n",
              "      <td>Driver</td>\n",
              "      <td>NW</td>\n",
              "      <td>2016-05-03T12:47:39.000Z</td>\n",
              "      <td>4869.0</td>\n",
              "      <td>11002202</td>\n",
              "      <td>0</td>\n",
              "      <td>0</td>\n",
              "      <td>4331</td>\n",
              "      <td>ST</td>\n",
              "      <td>Y</td>\n",
              "      <td>0</td>\n",
              "      <td>0</td>\n",
              "      <td>0</td>\n",
              "      <td>1</td>\n",
              "      <td>4</td>\n",
              "      <td>0</td>\n",
              "      <td>0</td>\n",
              "      <td>0</td>\n",
              "      <td>2391063</td>\n",
              "      <td>2</td>\n",
              "      <td>-77.048828</td>\n",
              "      <td>395764.791</td>\n",
              "      <td>38.901882</td>\n",
              "      <td>137114.476</td>\n",
              "    </tr>\n",
              "    <tr>\n",
              "      <th>4</th>\n",
              "      <td>901 NEW JERSEY AVENUE NW</td>\n",
              "      <td>42</td>\n",
              "      <td>0</td>\n",
              "      <td>0</td>\n",
              "      <td>27454814</td>\n",
              "      <td>2.0</td>\n",
              "      <td>0</td>\n",
              "      <td>0</td>\n",
              "      <td>0</td>\n",
              "      <td>0</td>\n",
              "      <td>0</td>\n",
              "      <td>2017-10-06</td>\n",
              "      <td>0</td>\n",
              "      <td>West</td>\n",
              "      <td>Passenger Car/automobile</td>\n",
              "      <td>38.902514</td>\n",
              "      <td>SC</td>\n",
              "      <td>-77.013832</td>\n",
              "      <td>0</td>\n",
              "      <td>0</td>\n",
              "      <td>0</td>\n",
              "      <td>0</td>\n",
              "      <td>0</td>\n",
              "      <td>238362</td>\n",
              "      <td>200 K STREET NW</td>\n",
              "      <td>200.0</td>\n",
              "      <td>413.574</td>\n",
              "      <td>0</td>\n",
              "      <td>0</td>\n",
              "      <td>0</td>\n",
              "      <td>0</td>\n",
              "      <td>38.902535</td>\n",
              "      <td>-77.013832</td>\n",
              "      <td>11064282</td>\n",
              "      <td>NEW JERSEY AVE NW</td>\n",
              "      <td>9.791562</td>\n",
              "      <td>2.282429</td>\n",
              "      <td>0</td>\n",
              "      <td>86259838</td>\n",
              "      <td>Driver</td>\n",
              "      <td>NW</td>\n",
              "      <td>2017-10-06T22:44:12.000Z</td>\n",
              "      <td>7828.0</td>\n",
              "      <td>11050892</td>\n",
              "      <td>0</td>\n",
              "      <td>0</td>\n",
              "      <td>9293</td>\n",
              "      <td>ST</td>\n",
              "      <td>N</td>\n",
              "      <td>0</td>\n",
              "      <td>0</td>\n",
              "      <td>0</td>\n",
              "      <td>0</td>\n",
              "      <td>2</td>\n",
              "      <td>0</td>\n",
              "      <td>0</td>\n",
              "      <td>0</td>\n",
              "      <td>3442003</td>\n",
              "      <td>6</td>\n",
              "      <td>-77.013834</td>\n",
              "      <td>398800.188</td>\n",
              "      <td>38.902522</td>\n",
              "      <td>137184.478</td>\n",
              "    </tr>\n",
              "  </tbody>\n",
              "</table>\n",
              "</div>"
            ],
            "text/plain": [
              "                    ADDRESS  AGE  ...          Y      YCOORD\n",
              "0    PENNSYLVANIA AVENUE NW   57  ...  38.901882  137114.476\n",
              "1    PENNSYLVANIA AVENUE NW   40  ...  38.901882  137114.476\n",
              "2    PENNSYLVANIA AVENUE NW   45  ...  38.901882  137114.476\n",
              "3    PENNSYLVANIA AVENUE NW   51  ...  38.901882  137114.476\n",
              "4  901 NEW JERSEY AVENUE NW   42  ...  38.902522  137184.478\n",
              "\n",
              "[5 rows x 63 columns]"
            ]
          },
          "metadata": {
            "tags": []
          },
          "execution_count": 114
        }
      ]
    },
    {
      "cell_type": "code",
      "metadata": {
        "id": "8Ina6HFIjsQr",
        "colab_type": "code",
        "colab": {
          "base_uri": "https://localhost:8080/",
          "height": 1000
        },
        "outputId": "2097dc62-8e31-473e-c7ec-b480d0c993eb"
      },
      "source": [
        "df['CRIMEID'].value_counts()"
      ],
      "execution_count": 129,
      "outputs": [
        {
          "output_type": "execute_result",
          "data": {
            "text/plain": [
              "26637595    40\n",
              "26623322    30\n",
              "26607593    30\n",
              "24374169    30\n",
              "25077251    20\n",
              "27712618    20\n",
              "27652572    20\n",
              "25177876    20\n",
              "28060839    20\n",
              "25007143    20\n",
              "27936139    20\n",
              "26766117    20\n",
              "27251911    20\n",
              "27577589    16\n",
              "28072026    15\n",
              "24722823    15\n",
              "28072673    15\n",
              "26552932    14\n",
              "26807544    14\n",
              "26645714    13\n",
              "26541366    13\n",
              "24324123    12\n",
              "25049695    12\n",
              "28073161    12\n",
              "28072766    12\n",
              "24957000    12\n",
              "28074749    12\n",
              "25053831    12\n",
              "26592346    12\n",
              "24279198    12\n",
              "            ..\n",
              "26893936     1\n",
              "26967601     1\n",
              "27987546     1\n",
              "28178690     1\n",
              "27493836     1\n",
              "26891510     1\n",
              "26975439     1\n",
              "26861641     1\n",
              "26965845     1\n",
              "26717257     1\n",
              "26717544     1\n",
              "27119490     1\n",
              "26597249     1\n",
              "25311101     1\n",
              "27706468     1\n",
              "27710566     1\n",
              "26651753     1\n",
              "27274925     1\n",
              "26627189     1\n",
              "27903747     1\n",
              "27669626     1\n",
              "27890830     1\n",
              "26827927     1\n",
              "25207976     1\n",
              "26778799     1\n",
              "24203026     1\n",
              "27641705     1\n",
              "27282613     1\n",
              "27281725     1\n",
              "27269117     1\n",
              "Name: CRIMEID, Length: 214804, dtype: int64"
            ]
          },
          "metadata": {
            "tags": []
          },
          "execution_count": 129
        }
      ]
    },
    {
      "cell_type": "markdown",
      "metadata": {
        "id": "thZx_QIvvP79",
        "colab_type": "text"
      },
      "source": [
        "#Cleaning"
      ]
    },
    {
      "cell_type": "code",
      "metadata": {
        "id": "n4DzsYljvTDl",
        "colab_type": "code",
        "outputId": "40bacd37-f6bd-4b22-cb85-99e89f1b03a6",
        "colab": {
          "base_uri": "https://localhost:8080/",
          "height": 383
        }
      },
      "source": [
        "df.head()"
      ],
      "execution_count": 115,
      "outputs": [
        {
          "output_type": "execute_result",
          "data": {
            "text/html": [
              "<div>\n",
              "<style scoped>\n",
              "    .dataframe tbody tr th:only-of-type {\n",
              "        vertical-align: middle;\n",
              "    }\n",
              "\n",
              "    .dataframe tbody tr th {\n",
              "        vertical-align: top;\n",
              "    }\n",
              "\n",
              "    .dataframe thead th {\n",
              "        text-align: right;\n",
              "    }\n",
              "</style>\n",
              "<table border=\"1\" class=\"dataframe\">\n",
              "  <thead>\n",
              "    <tr style=\"text-align: right;\">\n",
              "      <th></th>\n",
              "      <th>ADDRESS</th>\n",
              "      <th>AGE</th>\n",
              "      <th>BICYCLISTSIMPAIRED</th>\n",
              "      <th>BIKE_LANE</th>\n",
              "      <th>CRIMEID</th>\n",
              "      <th>DIRECTIONALITY</th>\n",
              "      <th>DRIVERSIMPAIRED</th>\n",
              "      <th>FATAL</th>\n",
              "      <th>FATAL_BICYCLIST</th>\n",
              "      <th>FATAL_DRIVER</th>\n",
              "      <th>FATAL_PEDESTRIAN</th>\n",
              "      <th>FROMDATE</th>\n",
              "      <th>IMPAIRED</th>\n",
              "      <th>INTAPPROACHDIRECTION</th>\n",
              "      <th>INVEHICLETYPE</th>\n",
              "      <th>LATITUDE</th>\n",
              "      <th>LICENSEPLATESTATE</th>\n",
              "      <th>LONGITUDE</th>\n",
              "      <th>MAJORINJURIES_BICYCLIST</th>\n",
              "      <th>MAJORINJURIES_DRIVER</th>\n",
              "      <th>MAJORINJURIES_PEDESTRIAN</th>\n",
              "      <th>MAJORINJURY</th>\n",
              "      <th>MAJOR_INJURY_OR_FATAL</th>\n",
              "      <th>MARID</th>\n",
              "      <th>MAR_ADDRESS</th>\n",
              "      <th>MAR_SCORE</th>\n",
              "      <th>MEASURE</th>\n",
              "      <th>MINORINJURIES_BICYCLIST</th>\n",
              "      <th>MINORINJURIES_DRIVER</th>\n",
              "      <th>MINORINJURIES_PEDESTRIAN</th>\n",
              "      <th>MINORINJURY</th>\n",
              "      <th>MPDLATITUDE</th>\n",
              "      <th>MPDLONGITUDE</th>\n",
              "      <th>NEARESTINTROUTEID</th>\n",
              "      <th>NEARESTINTSTREETNAME</th>\n",
              "      <th>OFFINTERSECTION</th>\n",
              "      <th>OFFSET</th>\n",
              "      <th>PEDESTRIANSIMPAIRED</th>\n",
              "      <th>PERSONID</th>\n",
              "      <th>PERSONTYPE</th>\n",
              "      <th>QUADRANT</th>\n",
              "      <th>REPORTDATE</th>\n",
              "      <th>ROADWAYSEGID</th>\n",
              "      <th>ROUTEID</th>\n",
              "      <th>SPEEDING</th>\n",
              "      <th>SPEEDING_INVOLVED</th>\n",
              "      <th>STREETSEGID</th>\n",
              "      <th>STREETTYPE</th>\n",
              "      <th>TICKETISSUED</th>\n",
              "      <th>TOTAL_BICYCLES</th>\n",
              "      <th>TOTAL_GOVERNMENT</th>\n",
              "      <th>TOTAL_PEDESTRIANS</th>\n",
              "      <th>TOTAL_TAXIS</th>\n",
              "      <th>TOTAL_VEHICLES</th>\n",
              "      <th>UNKNOWNINJURIES_BICYCLIST</th>\n",
              "      <th>UNKNOWNINJURIES_DRIVER</th>\n",
              "      <th>UNKNOWNINJURIES_PEDESTRIAN</th>\n",
              "      <th>VEHICLEID</th>\n",
              "      <th>WARD</th>\n",
              "      <th>X</th>\n",
              "      <th>XCOORD</th>\n",
              "      <th>Y</th>\n",
              "      <th>YCOORD</th>\n",
              "    </tr>\n",
              "  </thead>\n",
              "  <tbody>\n",
              "    <tr>\n",
              "      <th>0</th>\n",
              "      <td>PENNSYLVANIA AVENUE NW</td>\n",
              "      <td>57</td>\n",
              "      <td>0</td>\n",
              "      <td>0</td>\n",
              "      <td>26930525</td>\n",
              "      <td>0.0</td>\n",
              "      <td>0</td>\n",
              "      <td>0</td>\n",
              "      <td>0</td>\n",
              "      <td>0</td>\n",
              "      <td>0</td>\n",
              "      <td>2016-04-29</td>\n",
              "      <td>0</td>\n",
              "      <td>South</td>\n",
              "      <td>Passenger Car/automobile</td>\n",
              "      <td>38.901875</td>\n",
              "      <td>MD</td>\n",
              "      <td>-77.048904</td>\n",
              "      <td>0</td>\n",
              "      <td>0</td>\n",
              "      <td>0</td>\n",
              "      <td>0</td>\n",
              "      <td>0</td>\n",
              "      <td>306440</td>\n",
              "      <td>2200 PENNSYLVANIA AVENUE NW</td>\n",
              "      <td>200.0</td>\n",
              "      <td>757.428</td>\n",
              "      <td>0</td>\n",
              "      <td>1</td>\n",
              "      <td>0</td>\n",
              "      <td>0</td>\n",
              "      <td>38.901875</td>\n",
              "      <td>-77.048904</td>\n",
              "      <td>11069812</td>\n",
              "      <td>PENNSYLVANIA AVE NW</td>\n",
              "      <td>24.456134</td>\n",
              "      <td>0.000000</td>\n",
              "      <td>0</td>\n",
              "      <td>84726011</td>\n",
              "      <td>Driver</td>\n",
              "      <td>NW</td>\n",
              "      <td>2016-05-03T12:47:39.000Z</td>\n",
              "      <td>4869.0</td>\n",
              "      <td>11002202</td>\n",
              "      <td>0</td>\n",
              "      <td>0</td>\n",
              "      <td>4331</td>\n",
              "      <td>ST</td>\n",
              "      <td>Y</td>\n",
              "      <td>0</td>\n",
              "      <td>0</td>\n",
              "      <td>0</td>\n",
              "      <td>1</td>\n",
              "      <td>4</td>\n",
              "      <td>0</td>\n",
              "      <td>0</td>\n",
              "      <td>0</td>\n",
              "      <td>2391061</td>\n",
              "      <td>2</td>\n",
              "      <td>-77.048828</td>\n",
              "      <td>395764.791</td>\n",
              "      <td>38.901882</td>\n",
              "      <td>137114.476</td>\n",
              "    </tr>\n",
              "    <tr>\n",
              "      <th>1</th>\n",
              "      <td>PENNSYLVANIA AVENUE NW</td>\n",
              "      <td>40</td>\n",
              "      <td>0</td>\n",
              "      <td>0</td>\n",
              "      <td>26930525</td>\n",
              "      <td>0.0</td>\n",
              "      <td>0</td>\n",
              "      <td>0</td>\n",
              "      <td>0</td>\n",
              "      <td>0</td>\n",
              "      <td>0</td>\n",
              "      <td>2016-04-29</td>\n",
              "      <td>0</td>\n",
              "      <td>South</td>\n",
              "      <td>Passenger Car/automobile</td>\n",
              "      <td>38.901875</td>\n",
              "      <td>MD</td>\n",
              "      <td>-77.048904</td>\n",
              "      <td>0</td>\n",
              "      <td>0</td>\n",
              "      <td>0</td>\n",
              "      <td>0</td>\n",
              "      <td>0</td>\n",
              "      <td>306440</td>\n",
              "      <td>2200 PENNSYLVANIA AVENUE NW</td>\n",
              "      <td>200.0</td>\n",
              "      <td>757.428</td>\n",
              "      <td>0</td>\n",
              "      <td>1</td>\n",
              "      <td>0</td>\n",
              "      <td>0</td>\n",
              "      <td>38.901875</td>\n",
              "      <td>-77.048904</td>\n",
              "      <td>11069812</td>\n",
              "      <td>PENNSYLVANIA AVE NW</td>\n",
              "      <td>24.456134</td>\n",
              "      <td>0.000000</td>\n",
              "      <td>0</td>\n",
              "      <td>84732365</td>\n",
              "      <td>Driver</td>\n",
              "      <td>NW</td>\n",
              "      <td>2016-05-03T12:47:39.000Z</td>\n",
              "      <td>4869.0</td>\n",
              "      <td>11002202</td>\n",
              "      <td>0</td>\n",
              "      <td>0</td>\n",
              "      <td>4331</td>\n",
              "      <td>ST</td>\n",
              "      <td>Y</td>\n",
              "      <td>0</td>\n",
              "      <td>0</td>\n",
              "      <td>0</td>\n",
              "      <td>1</td>\n",
              "      <td>4</td>\n",
              "      <td>0</td>\n",
              "      <td>0</td>\n",
              "      <td>0</td>\n",
              "      <td>2391064</td>\n",
              "      <td>2</td>\n",
              "      <td>-77.048828</td>\n",
              "      <td>395764.791</td>\n",
              "      <td>38.901882</td>\n",
              "      <td>137114.476</td>\n",
              "    </tr>\n",
              "    <tr>\n",
              "      <th>2</th>\n",
              "      <td>PENNSYLVANIA AVENUE NW</td>\n",
              "      <td>45</td>\n",
              "      <td>0</td>\n",
              "      <td>0</td>\n",
              "      <td>26930525</td>\n",
              "      <td>0.0</td>\n",
              "      <td>0</td>\n",
              "      <td>0</td>\n",
              "      <td>0</td>\n",
              "      <td>0</td>\n",
              "      <td>0</td>\n",
              "      <td>2016-04-29</td>\n",
              "      <td>0</td>\n",
              "      <td>South</td>\n",
              "      <td>Passenger Car/automobile</td>\n",
              "      <td>38.901875</td>\n",
              "      <td>DC</td>\n",
              "      <td>-77.048904</td>\n",
              "      <td>0</td>\n",
              "      <td>0</td>\n",
              "      <td>0</td>\n",
              "      <td>0</td>\n",
              "      <td>0</td>\n",
              "      <td>306440</td>\n",
              "      <td>2200 PENNSYLVANIA AVENUE NW</td>\n",
              "      <td>200.0</td>\n",
              "      <td>757.428</td>\n",
              "      <td>0</td>\n",
              "      <td>1</td>\n",
              "      <td>0</td>\n",
              "      <td>1</td>\n",
              "      <td>38.901875</td>\n",
              "      <td>-77.048904</td>\n",
              "      <td>11069812</td>\n",
              "      <td>PENNSYLVANIA AVE NW</td>\n",
              "      <td>24.456134</td>\n",
              "      <td>0.000000</td>\n",
              "      <td>0</td>\n",
              "      <td>84788294</td>\n",
              "      <td>Driver</td>\n",
              "      <td>NW</td>\n",
              "      <td>2016-05-03T12:47:39.000Z</td>\n",
              "      <td>4869.0</td>\n",
              "      <td>11002202</td>\n",
              "      <td>0</td>\n",
              "      <td>0</td>\n",
              "      <td>4331</td>\n",
              "      <td>ST</td>\n",
              "      <td>Y</td>\n",
              "      <td>0</td>\n",
              "      <td>0</td>\n",
              "      <td>0</td>\n",
              "      <td>1</td>\n",
              "      <td>4</td>\n",
              "      <td>0</td>\n",
              "      <td>0</td>\n",
              "      <td>0</td>\n",
              "      <td>2391062</td>\n",
              "      <td>2</td>\n",
              "      <td>-77.048828</td>\n",
              "      <td>395764.791</td>\n",
              "      <td>38.901882</td>\n",
              "      <td>137114.476</td>\n",
              "    </tr>\n",
              "    <tr>\n",
              "      <th>3</th>\n",
              "      <td>PENNSYLVANIA AVENUE NW</td>\n",
              "      <td>51</td>\n",
              "      <td>0</td>\n",
              "      <td>0</td>\n",
              "      <td>26930525</td>\n",
              "      <td>0.0</td>\n",
              "      <td>0</td>\n",
              "      <td>0</td>\n",
              "      <td>0</td>\n",
              "      <td>0</td>\n",
              "      <td>0</td>\n",
              "      <td>2016-04-29</td>\n",
              "      <td>0</td>\n",
              "      <td>South</td>\n",
              "      <td>Passenger Car/automobile</td>\n",
              "      <td>38.901875</td>\n",
              "      <td>VA</td>\n",
              "      <td>-77.048904</td>\n",
              "      <td>0</td>\n",
              "      <td>0</td>\n",
              "      <td>0</td>\n",
              "      <td>0</td>\n",
              "      <td>0</td>\n",
              "      <td>306440</td>\n",
              "      <td>2200 PENNSYLVANIA AVENUE NW</td>\n",
              "      <td>200.0</td>\n",
              "      <td>757.428</td>\n",
              "      <td>0</td>\n",
              "      <td>1</td>\n",
              "      <td>0</td>\n",
              "      <td>0</td>\n",
              "      <td>38.901875</td>\n",
              "      <td>-77.048904</td>\n",
              "      <td>11069812</td>\n",
              "      <td>PENNSYLVANIA AVE NW</td>\n",
              "      <td>24.456134</td>\n",
              "      <td>0.000000</td>\n",
              "      <td>0</td>\n",
              "      <td>85036446</td>\n",
              "      <td>Driver</td>\n",
              "      <td>NW</td>\n",
              "      <td>2016-05-03T12:47:39.000Z</td>\n",
              "      <td>4869.0</td>\n",
              "      <td>11002202</td>\n",
              "      <td>0</td>\n",
              "      <td>0</td>\n",
              "      <td>4331</td>\n",
              "      <td>ST</td>\n",
              "      <td>Y</td>\n",
              "      <td>0</td>\n",
              "      <td>0</td>\n",
              "      <td>0</td>\n",
              "      <td>1</td>\n",
              "      <td>4</td>\n",
              "      <td>0</td>\n",
              "      <td>0</td>\n",
              "      <td>0</td>\n",
              "      <td>2391063</td>\n",
              "      <td>2</td>\n",
              "      <td>-77.048828</td>\n",
              "      <td>395764.791</td>\n",
              "      <td>38.901882</td>\n",
              "      <td>137114.476</td>\n",
              "    </tr>\n",
              "    <tr>\n",
              "      <th>4</th>\n",
              "      <td>901 NEW JERSEY AVENUE NW</td>\n",
              "      <td>42</td>\n",
              "      <td>0</td>\n",
              "      <td>0</td>\n",
              "      <td>27454814</td>\n",
              "      <td>2.0</td>\n",
              "      <td>0</td>\n",
              "      <td>0</td>\n",
              "      <td>0</td>\n",
              "      <td>0</td>\n",
              "      <td>0</td>\n",
              "      <td>2017-10-06</td>\n",
              "      <td>0</td>\n",
              "      <td>West</td>\n",
              "      <td>Passenger Car/automobile</td>\n",
              "      <td>38.902514</td>\n",
              "      <td>SC</td>\n",
              "      <td>-77.013832</td>\n",
              "      <td>0</td>\n",
              "      <td>0</td>\n",
              "      <td>0</td>\n",
              "      <td>0</td>\n",
              "      <td>0</td>\n",
              "      <td>238362</td>\n",
              "      <td>200 K STREET NW</td>\n",
              "      <td>200.0</td>\n",
              "      <td>413.574</td>\n",
              "      <td>0</td>\n",
              "      <td>0</td>\n",
              "      <td>0</td>\n",
              "      <td>0</td>\n",
              "      <td>38.902535</td>\n",
              "      <td>-77.013832</td>\n",
              "      <td>11064282</td>\n",
              "      <td>NEW JERSEY AVE NW</td>\n",
              "      <td>9.791562</td>\n",
              "      <td>2.282429</td>\n",
              "      <td>0</td>\n",
              "      <td>86259838</td>\n",
              "      <td>Driver</td>\n",
              "      <td>NW</td>\n",
              "      <td>2017-10-06T22:44:12.000Z</td>\n",
              "      <td>7828.0</td>\n",
              "      <td>11050892</td>\n",
              "      <td>0</td>\n",
              "      <td>0</td>\n",
              "      <td>9293</td>\n",
              "      <td>ST</td>\n",
              "      <td>N</td>\n",
              "      <td>0</td>\n",
              "      <td>0</td>\n",
              "      <td>0</td>\n",
              "      <td>0</td>\n",
              "      <td>2</td>\n",
              "      <td>0</td>\n",
              "      <td>0</td>\n",
              "      <td>0</td>\n",
              "      <td>3442003</td>\n",
              "      <td>6</td>\n",
              "      <td>-77.013834</td>\n",
              "      <td>398800.188</td>\n",
              "      <td>38.902522</td>\n",
              "      <td>137184.478</td>\n",
              "    </tr>\n",
              "  </tbody>\n",
              "</table>\n",
              "</div>"
            ],
            "text/plain": [
              "                    ADDRESS  AGE  ...          Y      YCOORD\n",
              "0    PENNSYLVANIA AVENUE NW   57  ...  38.901882  137114.476\n",
              "1    PENNSYLVANIA AVENUE NW   40  ...  38.901882  137114.476\n",
              "2    PENNSYLVANIA AVENUE NW   45  ...  38.901882  137114.476\n",
              "3    PENNSYLVANIA AVENUE NW   51  ...  38.901882  137114.476\n",
              "4  901 NEW JERSEY AVENUE NW   42  ...  38.902522  137184.478\n",
              "\n",
              "[5 rows x 63 columns]"
            ]
          },
          "metadata": {
            "tags": []
          },
          "execution_count": 115
        }
      ]
    },
    {
      "cell_type": "code",
      "metadata": {
        "id": "G_Q1MuCfxuga",
        "colab_type": "code",
        "outputId": "dbc31bf1-9002-4b00-9ef1-1e3b3ec6ffb7",
        "colab": {
          "base_uri": "https://localhost:8080/",
          "height": 118
        }
      },
      "source": [
        "#create time series from date of crash\n",
        "df['FROMDATE'] = pd.to_datetime(df['FROMDATE'].str.slice(stop=10), infer_datetime_format = True)\n",
        "df['FROMDATE'].head()"
      ],
      "execution_count": 61,
      "outputs": [
        {
          "output_type": "execute_result",
          "data": {
            "text/plain": [
              "0   2016-04-29\n",
              "1   2016-04-29\n",
              "2   2016-04-29\n",
              "3   2016-04-29\n",
              "4   2017-10-06\n",
              "Name: FROMDATE, dtype: datetime64[ns]"
            ]
          },
          "metadata": {
            "tags": []
          },
          "execution_count": 61
        }
      ]
    },
    {
      "cell_type": "code",
      "metadata": {
        "id": "dTkG8s-4mR7w",
        "colab_type": "code",
        "colab": {}
      },
      "source": [
        "#drop observations recorded before 2000 because they are date entry errors (judgement call)\n",
        "\n",
        "df.drop(df.query('FROMDATE < 2000').index, inplace=True)\n"
      ],
      "execution_count": 0,
      "outputs": []
    },
    {
      "cell_type": "code",
      "metadata": {
        "id": "fCUorPMgnFP1",
        "colab_type": "code",
        "outputId": "dbe0d1d6-efd6-41a6-e666-55f24ab9497b",
        "colab": {
          "base_uri": "https://localhost:8080/",
          "height": 134
        }
      },
      "source": [
        "df['FROMDATE'].describe()"
      ],
      "execution_count": 63,
      "outputs": [
        {
          "output_type": "execute_result",
          "data": {
            "text/plain": [
              "count                  472925\n",
              "unique                   4358\n",
              "top       2019-06-13 00:00:00\n",
              "freq                      478\n",
              "first     2000-01-01 00:00:00\n",
              "last      2019-09-30 00:00:00\n",
              "Name: FROMDATE, dtype: object"
            ]
          },
          "metadata": {
            "tags": []
          },
          "execution_count": 63
        }
      ]
    },
    {
      "cell_type": "code",
      "metadata": {
        "id": "0GPAXUtL1S_7",
        "colab_type": "code",
        "colab": {}
      },
      "source": [
        "#drop duplicate and ID columns\n",
        "df = df.drop(columns=['OBJECTID_x', 'OBJECTID_y', 'CCN_x', 'CCN_y', 'EVENTID'])"
      ],
      "execution_count": 0,
      "outputs": []
    },
    {
      "cell_type": "code",
      "metadata": {
        "id": "C9M3rcyiJwBZ",
        "colab_type": "code",
        "outputId": "2043d22b-e2fb-4b5e-8464-e29262db2dac",
        "colab": {
          "base_uri": "https://localhost:8080/",
          "height": 50
        }
      },
      "source": [
        "df.query('STREETSEGID == -9.0')['STREETSEGID'].value_counts()"
      ],
      "execution_count": 0,
      "outputs": [
        {
          "output_type": "execute_result",
          "data": {
            "text/plain": [
              "-9.0    98178\n",
              "Name: STREETSEGID, dtype: int64"
            ]
          },
          "metadata": {
            "tags": []
          },
          "execution_count": 83
        }
      ]
    },
    {
      "cell_type": "code",
      "metadata": {
        "id": "aU28JVOEVuQb",
        "colab_type": "code",
        "colab": {}
      },
      "source": [
        "#cleaning STREET SEGMENT ID\n",
        "df['STREETSEGID'] = (df['STREETSEGID'].replace(-9.0, np.nan)   #-9 is not a valid street segment id\n",
        "                                      .replace(0.0, np.nan)    #0 isnt a valid street segment id\n",
        "#                                       .astype(int)\n",
        "                    )\n",
        "#cleaning WARD attribute\n",
        "mode = df['WARD'].mode()[0]                                      #mode of WARD attribute\n",
        "\n",
        "df['WARD'] = df['WARD'].replace('Null', np.nan).fillna(value=df['WARD'].mode()[0])  #fill WARD attribute with mode of column (useful so column can be converted to int dtype)\n",
        "df['WARD'] = df['WARD'].str.replace('Ward ', '').astype(int)   #remove \"ward\" string from ward attribute\n"
      ],
      "execution_count": 0,
      "outputs": []
    },
    {
      "cell_type": "code",
      "metadata": {
        "id": "xHMqWCcrZq9v",
        "colab_type": "code",
        "outputId": "0a77f0cf-60b8-43f3-e2a0-83c8653d55bb",
        "colab": {
          "base_uri": "https://localhost:8080/",
          "height": 168
        }
      },
      "source": [
        "df['WARD'].value_counts()"
      ],
      "execution_count": 66,
      "outputs": [
        {
          "output_type": "execute_result",
          "data": {
            "text/plain": [
              "2    113346\n",
              "5     72110\n",
              "6     69356\n",
              "7     57296\n",
              "8     47297\n",
              "1     42293\n",
              "4     40616\n",
              "3     30625\n",
              "Name: WARD, dtype: int64"
            ]
          },
          "metadata": {
            "tags": []
          },
          "execution_count": 66
        }
      ]
    },
    {
      "cell_type": "code",
      "metadata": {
        "id": "aK9Zjj8M2UF0",
        "colab_type": "code",
        "colab": {}
      },
      "source": [
        "impute_mode = SimpleImputer(strategy='most_frequent')\n",
        "impute_mean = SimpleImputer(strategy='median')\n",
        "\n",
        "impute_mode.fit_transform(df.select_dtypes('object'))\n",
        "impute_mean.fit_transform(df.select_dtypes('number'))"
      ],
      "execution_count": 0,
      "outputs": []
    },
    {
      "cell_type": "code",
      "metadata": {
        "id": "LpZ1pQjk6WGc",
        "colab_type": "code",
        "outputId": "4711e045-e87e-4df4-d5e5-da85659db9f2",
        "colab": {
          "base_uri": "https://localhost:8080/",
          "height": 34
        }
      },
      "source": [
        "df['WARD'].mode()[0]"
      ],
      "execution_count": 0,
      "outputs": [
        {
          "output_type": "execute_result",
          "data": {
            "text/plain": [
              "'Ward 2'"
            ]
          },
          "metadata": {
            "tags": []
          },
          "execution_count": 73
        }
      ]
    },
    {
      "cell_type": "code",
      "metadata": {
        "id": "C7BuKocL_8-E",
        "colab_type": "code",
        "outputId": "e128d18b-4e92-4827-90a6-f23e2263eb61",
        "colab": {
          "base_uri": "https://localhost:8080/",
          "height": 168
        }
      },
      "source": [
        "df['WARD'].value_counts()"
      ],
      "execution_count": 0,
      "outputs": [
        {
          "output_type": "execute_result",
          "data": {
            "text/plain": [
              "2    113251\n",
              "5     72039\n",
              "6     69282\n",
              "7     57223\n",
              "8     47235\n",
              "1     42259\n",
              "4     40575\n",
              "3     30607\n",
              "Name: WARD, dtype: int64"
            ]
          },
          "metadata": {
            "tags": []
          },
          "execution_count": 98
        }
      ]
    },
    {
      "cell_type": "code",
      "metadata": {
        "id": "haQ259K32BDP",
        "colab_type": "code",
        "colab": {
          "base_uri": "https://localhost:8080/",
          "height": 229
        },
        "outputId": "1829c66b-9ed5-4130-a4ae-679f98b98a98"
      },
      "source": [
        "#change Y/N to 0/1\n",
        "diction = {'N': 0, 'Y': 1}\n",
        "for col in df.columns:\n",
        "  if (df[col].unique().tolist() == ['N', 'Y']) | (df[col].unique().tolist() == ['Y', 'N']):\n",
        "    df[col] = df[col].replace(diction)\n",
        "  else:\n",
        "    pass"
      ],
      "execution_count": 71,
      "outputs": [
        {
          "output_type": "error",
          "ename": "AttributeError",
          "evalue": "ignored",
          "traceback": [
            "\u001b[0;31m---------------------------------------------------------------------------\u001b[0m",
            "\u001b[0;31mAttributeError\u001b[0m                            Traceback (most recent call last)",
            "\u001b[0;32m<ipython-input-71-20b566186e8d>\u001b[0m in \u001b[0;36m<module>\u001b[0;34m()\u001b[0m\n\u001b[1;32m      1\u001b[0m \u001b[0mdiction\u001b[0m \u001b[0;34m=\u001b[0m \u001b[0;34m{\u001b[0m\u001b[0;34m'N'\u001b[0m\u001b[0;34m:\u001b[0m \u001b[0;36m0\u001b[0m\u001b[0;34m,\u001b[0m \u001b[0;34m'Y'\u001b[0m\u001b[0;34m:\u001b[0m \u001b[0;36m1\u001b[0m\u001b[0;34m}\u001b[0m\u001b[0;34m\u001b[0m\u001b[0;34m\u001b[0m\u001b[0m\n\u001b[1;32m      2\u001b[0m \u001b[0;32mfor\u001b[0m \u001b[0mcol\u001b[0m \u001b[0;32min\u001b[0m \u001b[0mdf\u001b[0m\u001b[0;34m.\u001b[0m\u001b[0mcolumns\u001b[0m\u001b[0;34m:\u001b[0m\u001b[0;34m\u001b[0m\u001b[0;34m\u001b[0m\u001b[0m\n\u001b[0;32m----> 3\u001b[0;31m   \u001b[0;32mif\u001b[0m \u001b[0;34m(\u001b[0m\u001b[0mdf\u001b[0m\u001b[0;34m[\u001b[0m\u001b[0mcol\u001b[0m\u001b[0;34m]\u001b[0m\u001b[0;34m.\u001b[0m\u001b[0munique\u001b[0m\u001b[0;34m(\u001b[0m\u001b[0;34m)\u001b[0m\u001b[0;34m.\u001b[0m\u001b[0mtolist\u001b[0m\u001b[0;34m(\u001b[0m\u001b[0;34m)\u001b[0m \u001b[0;34m==\u001b[0m \u001b[0;34m[\u001b[0m\u001b[0;34m'N'\u001b[0m\u001b[0;34m,\u001b[0m \u001b[0;34m'Y'\u001b[0m\u001b[0;34m]\u001b[0m\u001b[0;34m)\u001b[0m \u001b[0;34m|\u001b[0m \u001b[0;34m(\u001b[0m\u001b[0mdf\u001b[0m\u001b[0;34m[\u001b[0m\u001b[0mcol\u001b[0m\u001b[0;34m]\u001b[0m\u001b[0;34m.\u001b[0m\u001b[0munique\u001b[0m\u001b[0;34m(\u001b[0m\u001b[0;34m)\u001b[0m\u001b[0;34m.\u001b[0m\u001b[0mtolist\u001b[0m\u001b[0;34m(\u001b[0m\u001b[0;34m)\u001b[0m \u001b[0;34m==\u001b[0m \u001b[0;34m[\u001b[0m\u001b[0;34m'Y'\u001b[0m\u001b[0;34m,\u001b[0m \u001b[0;34m'N'\u001b[0m\u001b[0;34m]\u001b[0m\u001b[0;34m)\u001b[0m\u001b[0;34m:\u001b[0m\u001b[0;34m\u001b[0m\u001b[0;34m\u001b[0m\u001b[0m\n\u001b[0m\u001b[1;32m      4\u001b[0m     \u001b[0mdf\u001b[0m\u001b[0;34m[\u001b[0m\u001b[0mcol\u001b[0m\u001b[0;34m]\u001b[0m \u001b[0;34m=\u001b[0m \u001b[0mdf\u001b[0m\u001b[0;34m[\u001b[0m\u001b[0mcol\u001b[0m\u001b[0;34m]\u001b[0m\u001b[0;34m.\u001b[0m\u001b[0mreplace\u001b[0m\u001b[0;34m(\u001b[0m\u001b[0mdiction\u001b[0m\u001b[0;34m)\u001b[0m\u001b[0;34m\u001b[0m\u001b[0;34m\u001b[0m\u001b[0m\n\u001b[1;32m      5\u001b[0m   \u001b[0;32melse\u001b[0m\u001b[0;34m:\u001b[0m\u001b[0;34m\u001b[0m\u001b[0;34m\u001b[0m\u001b[0m\n",
            "\u001b[0;31mAttributeError\u001b[0m: 'IntegerArray' object has no attribute 'tolist'"
          ]
        }
      ]
    },
    {
      "cell_type": "code",
      "metadata": {
        "id": "3bTmmlgPDCRT",
        "colab_type": "code",
        "colab": {
          "base_uri": "https://localhost:8080/",
          "height": 1000
        },
        "outputId": "4c686f5a-5030-4cb9-ea33-9da7d310126e"
      },
      "source": [
        "#change missing values of BIKELANELENGTH attribute to 0s\n",
        "df['BIKELANELENGTH'] = df['BIKELANELENGTH'].replace(np.nan, 0)\n",
        "df['BIKELANELENGTH'].value_counts()"
      ],
      "execution_count": 72,
      "outputs": [
        {
          "output_type": "execute_result",
          "data": {
            "text/plain": [
              "0.000000    424169\n",
              "0.162866       720\n",
              "0.089889       568\n",
              "0.036911       568\n",
              "0.103340       528\n",
              "0.098529       481\n",
              "0.085871       364\n",
              "0.076882       339\n",
              "0.064363       315\n",
              "0.087776       313\n",
              "0.147236       307\n",
              "0.054902       301\n",
              "0.084282       296\n",
              "0.094279       296\n",
              "0.048883       270\n",
              "0.103490       253\n",
              "0.145805       248\n",
              "0.047725       244\n",
              "0.079684       241\n",
              "0.050930       238\n",
              "0.114994       234\n",
              "0.092249       224\n",
              "0.071330       221\n",
              "0.106195       221\n",
              "0.050184       220\n",
              "0.094995       213\n",
              "0.167557       204\n",
              "0.272934       203\n",
              "0.096119       198\n",
              "0.032649       195\n",
              "             ...  \n",
              "0.015283         2\n",
              "0.030329         2\n",
              "0.049059         2\n",
              "0.009455         2\n",
              "0.071278         2\n",
              "0.074351         2\n",
              "0.057210         2\n",
              "0.047293         1\n",
              "0.042550         1\n",
              "0.037943         1\n",
              "0.055578         1\n",
              "0.050313         1\n",
              "0.052228         1\n",
              "0.030287         1\n",
              "0.033462         1\n",
              "0.055104         1\n",
              "0.051158         1\n",
              "0.189439         1\n",
              "0.056373         1\n",
              "0.060478         1\n",
              "0.066219         1\n",
              "0.051078         1\n",
              "0.036585         1\n",
              "0.051226         1\n",
              "0.070518         1\n",
              "0.096183         1\n",
              "0.080375         1\n",
              "0.079256         1\n",
              "0.067124         1\n",
              "0.062247         1\n",
              "Name: BIKELANELENGTH, Length: 1257, dtype: int64"
            ]
          },
          "metadata": {
            "tags": []
          },
          "execution_count": 72
        }
      ]
    },
    {
      "cell_type": "code",
      "metadata": {
        "id": "MMFssYTLubzZ",
        "colab_type": "code",
        "colab": {
          "base_uri": "https://localhost:8080/",
          "height": 34
        },
        "outputId": "df129a7d-65b8-4faf-a957-49be3ef4f431"
      },
      "source": [
        "#drop columns where missing values are 35 percent or more of column\n",
        "\n",
        "for col in df.columns:\n",
        "  if df[col].isna().sum() >= .5 * df.shape[0]:\n",
        "    df = df.drop(columns=col)\n",
        "  else:\n",
        "    pass\n",
        "  \n",
        "df.shape"
      ],
      "execution_count": 77,
      "outputs": [
        {
          "output_type": "execute_result",
          "data": {
            "text/plain": [
              "(472939, 63)"
            ]
          },
          "metadata": {
            "tags": []
          },
          "execution_count": 77
        }
      ]
    },
    {
      "cell_type": "markdown",
      "metadata": {
        "id": "kSzceSGrUwWS",
        "colab_type": "text"
      },
      "source": [
        "#Engineering"
      ]
    },
    {
      "cell_type": "code",
      "metadata": {
        "id": "btOkhXeFWj4R",
        "colab_type": "code",
        "colab": {}
      },
      "source": [
        "df['BIKELANELENGTH'].value_counts(dropna=False)"
      ],
      "execution_count": 0,
      "outputs": []
    },
    {
      "cell_type": "code",
      "metadata": {
        "id": "XNuMyOnw0BIt",
        "colab_type": "code",
        "colab": {}
      },
      "source": [
        "#NEW TARGET: major injury or death\n",
        "df['MAJOR_INJURY_OR_FATAL'] = (df['FATAL'] == 1) | (df['MAJORINJURY'] == 1)\n",
        "\n",
        "#change True/False to 0/1\n",
        "diction = {False: 0, True: 1}\n",
        "df['MAJOR_INJURY_OR_FATAL'] = df['MAJOR_INJURY_OR_FATAL'].replace(diction)"
      ],
      "execution_count": 0,
      "outputs": []
    },
    {
      "cell_type": "code",
      "metadata": {
        "id": "InKHJ6RsBWT_",
        "colab_type": "code",
        "outputId": "5655e5bd-b296-46dc-fcbc-dafe1c4c7799",
        "colab": {
          "base_uri": "https://localhost:8080/",
          "height": 50
        }
      },
      "source": [
        "##Bike lanes\n",
        "diction = {False: 1, True: 0}\n",
        "\n",
        "df['BIKE_LANE'] = df['BIKELANELENGTH'] == 0        #is there a bikelane (this is after NaNs are replaced with 0s)\n",
        "df['BIKE_LANE'] = df['BIKE_LANE'].replace(diction) #0 means no bikelane, 1 means bikelane\n",
        "\n",
        "df['BIKE_LANE'].value_counts()\n",
        "\n",
        "#drop BIKELANELENGTH, YEARINSTALLED, no longer useful\n",
        "print(df.shape)\n",
        "df = df.drop('BIKELANELENGTH', axis = 1)\n",
        "print(df.shape)"
      ],
      "execution_count": 73,
      "outputs": [
        {
          "output_type": "stream",
          "text": [
            "(472939, 71)\n",
            "(472939, 70)\n"
          ],
          "name": "stdout"
        }
      ]
    },
    {
      "cell_type": "code",
      "metadata": {
        "id": "OUB0xeemdDut",
        "colab_type": "code",
        "colab": {
          "base_uri": "https://localhost:8080/",
          "height": 370
        },
        "outputId": "48f6b3ca-943d-47f2-9752-cf25cb12ab06"
      },
      "source": [
        "#YEAR of accident\n",
        "\n",
        "df['YEAR'] = df['FROMDATE'].dt.year\n",
        "df['YEAR'].value_counts()"
      ],
      "execution_count": 123,
      "outputs": [
        {
          "output_type": "execute_result",
          "data": {
            "text/plain": [
              "2015.0    50786\n",
              "2014.0    49422\n",
              "2017.0    48790\n",
              "2016.0    48688\n",
              "2018.0    48065\n",
              "2013.0    47527\n",
              "2012.0    45634\n",
              "2019.0    37264\n",
              "2009.0    32275\n",
              "2011.0    30952\n",
              "2010.0    27308\n",
              "2008.0     5713\n",
              "2000.0      310\n",
              "2006.0       51\n",
              "2007.0       43\n",
              "2001.0       33\n",
              "2005.0       32\n",
              "2002.0       13\n",
              "2003.0       10\n",
              "2004.0        9\n",
              "Name: YEAR, dtype: int64"
            ]
          },
          "metadata": {
            "tags": []
          },
          "execution_count": 123
        }
      ]
    },
    {
      "cell_type": "markdown",
      "metadata": {
        "id": "h8btrsAKivqN",
        "colab_type": "text"
      },
      "source": [
        "#Baseline Model"
      ]
    },
    {
      "cell_type": "code",
      "metadata": {
        "id": "ZY92ROicY35h",
        "colab_type": "code",
        "outputId": "8e9965db-cea9-4466-a890-43772c536346",
        "colab": {
          "base_uri": "https://localhost:8080/",
          "height": 67
        }
      },
      "source": [
        "df['MAJOR_INJURY_OR_FATAL'].value_counts()"
      ],
      "execution_count": 74,
      "outputs": [
        {
          "output_type": "execute_result",
          "data": {
            "text/plain": [
              "0    454534\n",
              "1     18405\n",
              "Name: MAJOR_INJURY_OR_FATAL, dtype: int64"
            ]
          },
          "metadata": {
            "tags": []
          },
          "execution_count": 74
        }
      ]
    },
    {
      "cell_type": "code",
      "metadata": {
        "id": "YITM4HMslujS",
        "colab_type": "code",
        "colab": {
          "base_uri": "https://localhost:8080/",
          "height": 67
        },
        "outputId": "f66a58a3-0a50-41b3-ece0-544ff45e8881"
      },
      "source": [
        "df['MAJOR_INJURY_OR_FATAL'].value_counts(normalize=True)"
      ],
      "execution_count": 75,
      "outputs": [
        {
          "output_type": "execute_result",
          "data": {
            "text/plain": [
              "0    0.961084\n",
              "1    0.038916\n",
              "Name: MAJOR_INJURY_OR_FATAL, dtype: float64"
            ]
          },
          "metadata": {
            "tags": []
          },
          "execution_count": 75
        }
      ]
    },
    {
      "cell_type": "code",
      "metadata": {
        "id": "lF2WPpKhjMfJ",
        "colab_type": "code",
        "outputId": "f4a5a10e-4290-442c-86f5-afa61dc94cd8",
        "colab": {
          "base_uri": "https://localhost:8080/",
          "height": 67
        }
      },
      "source": [
        "y_pred = [0] * df.shape[0]\n",
        "print('Baseline accuracy score:', accuracy_score(df['MAJOR_INJURY_OR_FATAL'], y_pred))\n",
        "#Despite high accuracy, baseline model is useless because false negatives are very costly to society\n",
        "print(confusion_matrix(df['MAJOR_INJURY_OR_FATAL'], y_pred))"
      ],
      "execution_count": 76,
      "outputs": [
        {
          "output_type": "stream",
          "text": [
            "Baseline accuracy score: 0.9610837761318056\n",
            "[[454534      0]\n",
            " [ 18405      0]]\n"
          ],
          "name": "stdout"
        }
      ]
    },
    {
      "cell_type": "markdown",
      "metadata": {
        "id": "jJU87_3gQMsv",
        "colab_type": "text"
      },
      "source": [
        "#Exploration"
      ]
    },
    {
      "cell_type": "code",
      "metadata": {
        "id": "Y0q6OcutBk-_",
        "colab_type": "code",
        "colab": {
          "base_uri": "https://localhost:8080/",
          "height": 309
        },
        "outputId": "7fbfc85f-e8d9-4e15-cd8e-94fe82454482"
      },
      "source": [
        "df.groupby('WARD')['MAJOR_INJURY_OR_FATAL'].mean().plot.bar()\n",
        "plt.title('Probability of Major Injury or Death from Car Accident by DC Ward')"
      ],
      "execution_count": 102,
      "outputs": [
        {
          "output_type": "execute_result",
          "data": {
            "text/plain": [
              "Text(0.5, 1.0, 'Probability of Major Injury or Death from Car Accident by DC Ward')"
            ]
          },
          "metadata": {
            "tags": []
          },
          "execution_count": 102
        },
        {
          "output_type": "display_data",
          "data": {
            "image/png": "[encoded data removed]",
            "text/plain": [
              "<Figure size 432x288 with 1 Axes>"
            ]
          },
          "metadata": {
            "tags": []
          }
        }
      ]
    },
    {
      "cell_type": "code",
      "metadata": {
        "id": "r0QrNH1ZP1vO",
        "colab_type": "code",
        "colab": {
          "base_uri": "https://localhost:8080/",
          "height": 297
        },
        "outputId": "54fee4b0-5781-453e-fa4d-ffe28716d3c6"
      },
      "source": [
        "df.groupby('BIKE_LANE')['MAJOR_INJURY_OR_FATAL'].mean().plot.bar()"
      ],
      "execution_count": 104,
      "outputs": [
        {
          "output_type": "execute_result",
          "data": {
            "text/plain": [
              "<matplotlib.axes._subplots.AxesSubplot at 0x7f900b21b908>"
            ]
          },
          "metadata": {
            "tags": []
          },
          "execution_count": 104
        },
        {
          "output_type": "display_data",
          "data": {
            "image/png": "[encoded data removed]",
            "text/plain": [
              "<Figure size 432x288 with 1 Axes>"
            ]
          },
          "metadata": {
            "tags": []
          }
        }
      ]
    },
    {
      "cell_type": "code",
      "metadata": {
        "id": "N7fW86FVXA-e",
        "colab_type": "code",
        "colab": {
          "base_uri": "https://localhost:8080/",
          "height": 296
        },
        "outputId": "4cee663f-4b6b-49f6-af02-0617f4ee3939"
      },
      "source": [
        "df.groupby('DRIVERSIMPAIRED')['MAJOR_INJURY_OR_FATAL'].mean().plot.bar()"
      ],
      "execution_count": 111,
      "outputs": [
        {
          "output_type": "execute_result",
          "data": {
            "text/plain": [
              "<matplotlib.axes._subplots.AxesSubplot at 0x7f900af97ba8>"
            ]
          },
          "metadata": {
            "tags": []
          },
          "execution_count": 111
        },
        {
          "output_type": "display_data",
          "data": {
            "image/png": "[encoded data removed]",
            "text/plain": [
              "<Figure size 432x288 with 1 Axes>"
            ]
          },
          "metadata": {
            "tags": []
          }
        }
      ]
    },
    {
      "cell_type": "code",
      "metadata": {
        "id": "KA4BYN2LXOyS",
        "colab_type": "code",
        "colab": {
          "base_uri": "https://localhost:8080/",
          "height": 296
        },
        "outputId": "53cc46db-30da-479b-f70f-12bc88382cfe"
      },
      "source": [
        "df.groupby('SPEEDING')['MAJOR_INJURY_OR_FATAL'].mean().plot.bar()"
      ],
      "execution_count": 113,
      "outputs": [
        {
          "output_type": "execute_result",
          "data": {
            "text/plain": [
              "<matplotlib.axes._subplots.AxesSubplot at 0x7f900af55b70>"
            ]
          },
          "metadata": {
            "tags": []
          },
          "execution_count": 113
        },
        {
          "output_type": "display_data",
          "data": {
            "image/png": "[encoded data removed]",
            "text/plain": [
              "<Figure size 432x288 with 1 Axes>"
            ]
          },
          "metadata": {
            "tags": []
          }
        }
      ]
    },
    {
      "cell_type": "code",
      "metadata": {
        "id": "pzN7fvQ3Ypjk",
        "colab_type": "code",
        "colab": {
          "base_uri": "https://localhost:8080/",
          "height": 342
        },
        "outputId": "33234f90-fe7c-44d0-c9d3-228e87033cb2"
      },
      "source": [
        "df.groupby('INTAPPROACHDIRECTION')['MAJOR_INJURY_OR_FATAL'].mean().plot.bar()"
      ],
      "execution_count": 116,
      "outputs": [
        {
          "output_type": "execute_result",
          "data": {
            "text/plain": [
              "<matplotlib.axes._subplots.AxesSubplot at 0x7f900aee5f60>"
            ]
          },
          "metadata": {
            "tags": []
          },
          "execution_count": 116
        },
        {
          "output_type": "display_data",
          "data": {
            "image/png": "[encoded data removed]",
            "text/plain": [
              "<Figure size 432x288 with 1 Axes>"
            ]
          },
          "metadata": {
            "tags": []
          }
        }
      ]
    },
    {
      "cell_type": "code",
      "metadata": {
        "id": "UDq6qELhY7ic",
        "colab_type": "code",
        "colab": {
          "base_uri": "https://localhost:8080/",
          "height": 195
        },
        "outputId": "a97e2700-d344-4e34-ae91-c3f7fda5febf"
      },
      "source": [
        "px.set_mapbox_access_token(open(\".mapbox_token\").read())\n",
        "\n",
        "px.scatter_mapbox(df, lat='X', lon= 'Y', color='MAJOR_INJURY_OR_FATAL')"
      ],
      "execution_count": 121,
      "outputs": [
        {
          "output_type": "error",
          "ename": "FileNotFoundError",
          "evalue": "ignored",
          "traceback": [
            "\u001b[0;31m---------------------------------------------------------------------------\u001b[0m",
            "\u001b[0;31mFileNotFoundError\u001b[0m                         Traceback (most recent call last)",
            "\u001b[0;32m<ipython-input-121-17c65d1b0e73>\u001b[0m in \u001b[0;36m<module>\u001b[0;34m()\u001b[0m\n\u001b[0;32m----> 1\u001b[0;31m \u001b[0mpx\u001b[0m\u001b[0;34m.\u001b[0m\u001b[0mset_mapbox_access_token\u001b[0m\u001b[0;34m(\u001b[0m\u001b[0mopen\u001b[0m\u001b[0;34m(\u001b[0m\u001b[0;34m\".mapbox_token\"\u001b[0m\u001b[0;34m)\u001b[0m\u001b[0;34m.\u001b[0m\u001b[0mread\u001b[0m\u001b[0;34m(\u001b[0m\u001b[0;34m)\u001b[0m\u001b[0;34m)\u001b[0m\u001b[0;34m\u001b[0m\u001b[0;34m\u001b[0m\u001b[0m\n\u001b[0m\u001b[1;32m      2\u001b[0m \u001b[0;34m\u001b[0m\u001b[0m\n\u001b[1;32m      3\u001b[0m \u001b[0mpx\u001b[0m\u001b[0;34m.\u001b[0m\u001b[0mscatter_mapbox\u001b[0m\u001b[0;34m(\u001b[0m\u001b[0mdf\u001b[0m\u001b[0;34m,\u001b[0m \u001b[0mlat\u001b[0m\u001b[0;34m=\u001b[0m\u001b[0;34m'X'\u001b[0m\u001b[0;34m,\u001b[0m \u001b[0mlon\u001b[0m\u001b[0;34m=\u001b[0m \u001b[0;34m'Y'\u001b[0m\u001b[0;34m,\u001b[0m \u001b[0mcolor\u001b[0m\u001b[0;34m=\u001b[0m\u001b[0;34m'MAJOR_INJURY_OR_FATAL'\u001b[0m\u001b[0;34m)\u001b[0m\u001b[0;34m\u001b[0m\u001b[0;34m\u001b[0m\u001b[0m\n",
            "\u001b[0;31mFileNotFoundError\u001b[0m: [Errno 2] No such file or directory: '.mapbox_token'"
          ]
        }
      ]
    },
    {
      "cell_type": "markdown",
      "metadata": {
        "id": "0u3CVw9Hd98y",
        "colab_type": "text"
      },
      "source": [
        "#Split"
      ]
    },
    {
      "cell_type": "code",
      "metadata": {
        "id": "p45wiS2haMwB",
        "colab_type": "code",
        "colab": {
          "base_uri": "https://localhost:8080/",
          "height": 34
        },
        "outputId": "4ce3632f-4334-4aec-a04a-2bfef887dd69"
      },
      "source": [
        "test_mask = df['YEAR'] >= 2019\n",
        "train = df[~test_mask]\n",
        "test = df[test_mask]\n",
        "\n",
        "val_mask = train['YEAR'] < 2017\n",
        "val = train[~val_mask]\n",
        "train = train[val_mask]\n",
        "\n",
        "\n",
        "train.shape, val.shape, test.shape"
      ],
      "execution_count": 130,
      "outputs": [
        {
          "output_type": "execute_result",
          "data": {
            "text/plain": [
              "((338806, 64), (96869, 64), (37264, 64))"
            ]
          },
          "metadata": {
            "tags": []
          },
          "execution_count": 130
        }
      ]
    },
    {
      "cell_type": "code",
      "metadata": {
        "id": "OofSCxvne23a",
        "colab_type": "code",
        "colab": {
          "base_uri": "https://localhost:8080/",
          "height": 67
        },
        "outputId": "7baef617-be64-40b6-fe6f-03bd095287b0"
      },
      "source": [
        "val.head()"
      ],
      "execution_count": 128,
      "outputs": [
        {
          "output_type": "execute_result",
          "data": {
            "text/html": [
              "<div>\n",
              "<style scoped>\n",
              "    .dataframe tbody tr th:only-of-type {\n",
              "        vertical-align: middle;\n",
              "    }\n",
              "\n",
              "    .dataframe tbody tr th {\n",
              "        vertical-align: top;\n",
              "    }\n",
              "\n",
              "    .dataframe thead th {\n",
              "        text-align: right;\n",
              "    }\n",
              "</style>\n",
              "<table border=\"1\" class=\"dataframe\">\n",
              "  <thead>\n",
              "    <tr style=\"text-align: right;\">\n",
              "      <th></th>\n",
              "      <th>ADDRESS</th>\n",
              "      <th>AGE</th>\n",
              "      <th>BICYCLISTSIMPAIRED</th>\n",
              "      <th>BIKE_LANE</th>\n",
              "      <th>CRIMEID</th>\n",
              "      <th>DIRECTIONALITY</th>\n",
              "      <th>DRIVERSIMPAIRED</th>\n",
              "      <th>FATAL</th>\n",
              "      <th>FATAL_BICYCLIST</th>\n",
              "      <th>FATAL_DRIVER</th>\n",
              "      <th>FATAL_PEDESTRIAN</th>\n",
              "      <th>FROMDATE</th>\n",
              "      <th>IMPAIRED</th>\n",
              "      <th>INTAPPROACHDIRECTION</th>\n",
              "      <th>INVEHICLETYPE</th>\n",
              "      <th>LATITUDE</th>\n",
              "      <th>LICENSEPLATESTATE</th>\n",
              "      <th>LONGITUDE</th>\n",
              "      <th>MAJORINJURIES_BICYCLIST</th>\n",
              "      <th>MAJORINJURIES_DRIVER</th>\n",
              "      <th>MAJORINJURIES_PEDESTRIAN</th>\n",
              "      <th>MAJORINJURY</th>\n",
              "      <th>MAJOR_INJURY_OR_FATAL</th>\n",
              "      <th>MARID</th>\n",
              "      <th>MAR_ADDRESS</th>\n",
              "      <th>MAR_SCORE</th>\n",
              "      <th>MEASURE</th>\n",
              "      <th>MINORINJURIES_BICYCLIST</th>\n",
              "      <th>MINORINJURIES_DRIVER</th>\n",
              "      <th>MINORINJURIES_PEDESTRIAN</th>\n",
              "      <th>MINORINJURY</th>\n",
              "      <th>MPDLATITUDE</th>\n",
              "      <th>MPDLONGITUDE</th>\n",
              "      <th>NEARESTINTROUTEID</th>\n",
              "      <th>NEARESTINTSTREETNAME</th>\n",
              "      <th>OFFINTERSECTION</th>\n",
              "      <th>OFFSET</th>\n",
              "      <th>PEDESTRIANSIMPAIRED</th>\n",
              "      <th>PERSONID</th>\n",
              "      <th>PERSONTYPE</th>\n",
              "      <th>QUADRANT</th>\n",
              "      <th>REPORTDATE</th>\n",
              "      <th>ROADWAYSEGID</th>\n",
              "      <th>ROUTEID</th>\n",
              "      <th>SPEEDING</th>\n",
              "      <th>SPEEDING_INVOLVED</th>\n",
              "      <th>STREETSEGID</th>\n",
              "      <th>STREETTYPE</th>\n",
              "      <th>TICKETISSUED</th>\n",
              "      <th>TOTAL_BICYCLES</th>\n",
              "      <th>TOTAL_GOVERNMENT</th>\n",
              "      <th>TOTAL_PEDESTRIANS</th>\n",
              "      <th>TOTAL_TAXIS</th>\n",
              "      <th>TOTAL_VEHICLES</th>\n",
              "      <th>UNKNOWNINJURIES_BICYCLIST</th>\n",
              "      <th>UNKNOWNINJURIES_DRIVER</th>\n",
              "      <th>UNKNOWNINJURIES_PEDESTRIAN</th>\n",
              "      <th>VEHICLEID</th>\n",
              "      <th>WARD</th>\n",
              "      <th>X</th>\n",
              "      <th>XCOORD</th>\n",
              "      <th>Y</th>\n",
              "      <th>YCOORD</th>\n",
              "      <th>YEAR</th>\n",
              "    </tr>\n",
              "  </thead>\n",
              "  <tbody>\n",
              "  </tbody>\n",
              "</table>\n",
              "</div>"
            ],
            "text/plain": [
              "Empty DataFrame\n",
              "Columns: [ADDRESS, AGE, BICYCLISTSIMPAIRED, BIKE_LANE, CRIMEID, DIRECTIONALITY, DRIVERSIMPAIRED, FATAL, FATAL_BICYCLIST, FATAL_DRIVER, FATAL_PEDESTRIAN, FROMDATE, IMPAIRED, INTAPPROACHDIRECTION, INVEHICLETYPE, LATITUDE, LICENSEPLATESTATE, LONGITUDE, MAJORINJURIES_BICYCLIST, MAJORINJURIES_DRIVER, MAJORINJURIES_PEDESTRIAN, MAJORINJURY, MAJOR_INJURY_OR_FATAL, MARID, MAR_ADDRESS, MAR_SCORE, MEASURE, MINORINJURIES_BICYCLIST, MINORINJURIES_DRIVER, MINORINJURIES_PEDESTRIAN, MINORINJURY, MPDLATITUDE, MPDLONGITUDE, NEARESTINTROUTEID, NEARESTINTSTREETNAME, OFFINTERSECTION, OFFSET, PEDESTRIANSIMPAIRED, PERSONID, PERSONTYPE, QUADRANT, REPORTDATE, ROADWAYSEGID, ROUTEID, SPEEDING, SPEEDING_INVOLVED, STREETSEGID, STREETTYPE, TICKETISSUED, TOTAL_BICYCLES, TOTAL_GOVERNMENT, TOTAL_PEDESTRIANS, TOTAL_TAXIS, TOTAL_VEHICLES, UNKNOWNINJURIES_BICYCLIST, UNKNOWNINJURIES_DRIVER, UNKNOWNINJURIES_PEDESTRIAN, VEHICLEID, WARD, X, XCOORD, Y, YCOORD, YEAR]\n",
              "Index: []"
            ]
          },
          "metadata": {
            "tags": []
          },
          "execution_count": 128
        }
      ]
    },
    {
      "cell_type": "code",
      "metadata": {
        "id": "AcgTvtY0hY8I",
        "colab_type": "code",
        "colab": {}
      },
      "source": [
        ""
      ],
      "execution_count": 0,
      "outputs": []
    }
  ]
}