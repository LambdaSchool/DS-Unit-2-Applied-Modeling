{
  "nbformat": 4,
  "nbformat_minor": 0,
  "metadata": {
    "colab": {
      "name": "Unit 2 Build.ipynb",
      "provenance": [],
      "collapsed_sections": [],
      "toc_visible": true,
      "machine_shape": "hm",
      "include_colab_link": true
    },
    "kernelspec": {
      "name": "python3",
      "display_name": "Python 3"
    },
    "accelerator": "GPU"
  },
  "cells": [
    {
      "cell_type": "markdown",
      "metadata": {
        "id": "view-in-github",
        "colab_type": "text"
      },
      "source": [
        "<a href=\"https://colab.research.google.com/github/tallywiesenberg/DS-Unit-2-Applied-Modeling/blob/master/Unit_2_Build.ipynb\" target=\"_parent\"><img src=\"https://colab.research.google.com/assets/colab-badge.svg\" alt=\"Open In Colab\"/></a>"
      ]
    },
    {
      "cell_type": "code",
      "metadata": {
        "id": "MFZSG-hsvL8T",
        "colab_type": "code",
        "outputId": "6eca60ca-8cd4-4aa0-f0b5-09eb2f01dd18",
        "colab": {
          "base_uri": "https://localhost:8080/",
          "height": 289
        }
      },
      "source": [
        "!pip install category_encoders\n",
        "\n",
        "import pandas as pd\n",
        "import numpy as np\n",
        "import scipy.stats as stats\n",
        "\n",
        "import matplotlib.pyplot as plt\n",
        "import seaborn as sns\n",
        "import plotly.express as px\n",
        "\n",
        "\n",
        "from sklearn.metrics import accuracy_score\n",
        "from sklearn.metrics import confusion_matrix\n",
        "from sklearn.metrics import classification_report\n",
        "#pipeline imports\n",
        "from sklearn.pipeline import make_pipeline\n",
        "from sklearn.impute import SimpleImputer\n",
        "from category_encoders import OneHotEncoder, OrdinalEncoder\n",
        "from sklearn.preprocessing import StandardScaler\n",
        "from sklearn.feature_selection import SelectKBest\n",
        "from sklearn.linear_model import LogisticRegressionCV"
      ],
      "execution_count": 1,
      "outputs": [
        {
          "output_type": "stream",
          "text": [
            "Collecting category_encoders\n",
            "\u001b[?25l  Downloading https://files.pythonhosted.org/packages/a0/52/c54191ad3782de633ea3d6ee3bb2837bda0cf3bc97644bb6375cf14150a0/category_encoders-2.1.0-py2.py3-none-any.whl (100kB)\n",
            "\u001b[K     |████████████████████████████████| 102kB 2.7MB/s \n",
            "\u001b[?25hRequirement already satisfied: numpy>=1.11.3 in /usr/local/lib/python3.6/dist-packages (from category_encoders) (1.16.5)\n",
            "Requirement already satisfied: patsy>=0.4.1 in /usr/local/lib/python3.6/dist-packages (from category_encoders) (0.5.1)\n",
            "Requirement already satisfied: scikit-learn>=0.20.0 in /usr/local/lib/python3.6/dist-packages (from category_encoders) (0.21.3)\n",
            "Requirement already satisfied: pandas>=0.21.1 in /usr/local/lib/python3.6/dist-packages (from category_encoders) (0.24.2)\n",
            "Requirement already satisfied: statsmodels>=0.6.1 in /usr/local/lib/python3.6/dist-packages (from category_encoders) (0.10.1)\n",
            "Requirement already satisfied: scipy>=0.19.0 in /usr/local/lib/python3.6/dist-packages (from category_encoders) (1.3.1)\n",
            "Requirement already satisfied: six in /usr/local/lib/python3.6/dist-packages (from patsy>=0.4.1->category_encoders) (1.12.0)\n",
            "Requirement already satisfied: joblib>=0.11 in /usr/local/lib/python3.6/dist-packages (from scikit-learn>=0.20.0->category_encoders) (0.14.0)\n",
            "Requirement already satisfied: pytz>=2011k in /usr/local/lib/python3.6/dist-packages (from pandas>=0.21.1->category_encoders) (2018.9)\n",
            "Requirement already satisfied: python-dateutil>=2.5.0 in /usr/local/lib/python3.6/dist-packages (from pandas>=0.21.1->category_encoders) (2.5.3)\n",
            "Installing collected packages: category-encoders\n",
            "Successfully installed category-encoders-2.1.0\n"
          ],
          "name": "stdout"
        }
      ]
    },
    {
      "cell_type": "markdown",
      "metadata": {
        "id": "zo6EwhugvMiA",
        "colab_type": "text"
      },
      "source": [
        "#Import"
      ]
    },
    {
      "cell_type": "code",
      "metadata": {
        "id": "wPqCjtRnPGd8",
        "colab_type": "code",
        "colab": {}
      },
      "source": [
        "pd.set_option('display.max_rows', 500)\n",
        "pd.set_option('display.max_columns', 500)\n",
        "pd.set_option('display.width', 1000)"
      ],
      "execution_count": 0,
      "outputs": []
    },
    {
      "cell_type": "code",
      "metadata": {
        "id": "NfzvTY9zJmJu",
        "colab_type": "code",
        "outputId": "ad5425ba-aa02-4d2a-9536-e9e49a4df1b3",
        "colab": {
          "base_uri": "https://localhost:8080/",
          "height": 121
        }
      },
      "source": [
        "from google.colab import drive\n",
        "drive.mount('/gdrive/')\n"
      ],
      "execution_count": 3,
      "outputs": [
        {
          "output_type": "stream",
          "text": [
            "Go to this URL in a browser: https://accounts.google.com/o/oauth2/auth?client_id=947318989803-6bn6qk8qdgf4n4g3pfee6491hc0brc4i.apps.googleusercontent.com&redirect_uri=urn%3Aietf%3Awg%3Aoauth%3A2.0%3Aoob&scope=email%20https%3A%2F%2Fwww.googleapis.com%2Fauth%2Fdocs.test%20https%3A%2F%2Fwww.googleapis.com%2Fauth%2Fdrive%20https%3A%2F%2Fwww.googleapis.com%2Fauth%2Fdrive.photos.readonly%20https%3A%2F%2Fwww.googleapis.com%2Fauth%2Fpeopleapi.readonly&response_type=code\n",
            "\n",
            "Enter your authorization code:\n",
            "··········\n",
            "Mounted at /gdrive/\n"
          ],
          "name": "stdout"
        }
      ]
    },
    {
      "cell_type": "code",
      "metadata": {
        "id": "PZr5o4vpuQCh",
        "colab_type": "code",
        "outputId": "e23c930a-f461-42ed-e9d5-a5d00ea165a8",
        "colab": {
          "base_uri": "https://localhost:8080/",
          "height": 168
        }
      },
      "source": [
        "#crash data\n",
        "crashes = pd.read_csv('/gdrive/My Drive/Colab Notebooks/Crashes_in_DC.csv', dtype={'STREETSEGID': 'Int64'})  #crash data\n",
        "crashes1 = pd.read_csv('/gdrive/My Drive/Colab Notebooks/Crash_Details_Table.csv', dtype={'STREETSEGID': 'Int64'}) #additional crash data\n",
        "crashes.shape, crashes1.shape"
      ],
      "execution_count": 4,
      "outputs": [
        {
          "output_type": "stream",
          "text": [
            "/usr/local/lib/python3.6/dist-packages/IPython/core/interactiveshell.py:2718: DtypeWarning:\n",
            "\n",
            "Columns (4,54,55) have mixed types. Specify dtype option on import or set low_memory=False.\n",
            "\n",
            "/usr/local/lib/python3.6/dist-packages/IPython/core/interactiveshell.py:2718: DtypeWarning:\n",
            "\n",
            "Columns (2) have mixed types. Specify dtype option on import or set low_memory=False.\n",
            "\n"
          ],
          "name": "stderr"
        },
        {
          "output_type": "execute_result",
          "data": {
            "text/plain": [
              "((217602, 56), (470660, 15))"
            ]
          },
          "metadata": {
            "tags": []
          },
          "execution_count": 4
        }
      ]
    },
    {
      "cell_type": "code",
      "metadata": {
        "id": "A1Rl_gxwqcJ8",
        "colab_type": "code",
        "outputId": "3c04f0e5-f18f-4d32-9b61-0d9ec9b5f65a",
        "colab": {
          "base_uri": "https://localhost:8080/",
          "height": 227
        }
      },
      "source": [
        "crashes.head(2)"
      ],
      "execution_count": 5,
      "outputs": [
        {
          "output_type": "execute_result",
          "data": {
            "text/html": [
              "<div>\n",
              "<style scoped>\n",
              "    .dataframe tbody tr th:only-of-type {\n",
              "        vertical-align: middle;\n",
              "    }\n",
              "\n",
              "    .dataframe tbody tr th {\n",
              "        vertical-align: top;\n",
              "    }\n",
              "\n",
              "    .dataframe thead th {\n",
              "        text-align: right;\n",
              "    }\n",
              "</style>\n",
              "<table border=\"1\" class=\"dataframe\">\n",
              "  <thead>\n",
              "    <tr style=\"text-align: right;\">\n",
              "      <th></th>\n",
              "      <th>X</th>\n",
              "      <th>Y</th>\n",
              "      <th>OBJECTID</th>\n",
              "      <th>CRIMEID</th>\n",
              "      <th>CCN</th>\n",
              "      <th>REPORTDATE</th>\n",
              "      <th>ROUTEID</th>\n",
              "      <th>MEASURE</th>\n",
              "      <th>OFFSET</th>\n",
              "      <th>STREETSEGID</th>\n",
              "      <th>ROADWAYSEGID</th>\n",
              "      <th>FROMDATE</th>\n",
              "      <th>TODATE</th>\n",
              "      <th>MARID</th>\n",
              "      <th>ADDRESS</th>\n",
              "      <th>LATITUDE</th>\n",
              "      <th>LONGITUDE</th>\n",
              "      <th>XCOORD</th>\n",
              "      <th>YCOORD</th>\n",
              "      <th>WARD</th>\n",
              "      <th>EVENTID</th>\n",
              "      <th>MAR_ADDRESS</th>\n",
              "      <th>MAR_SCORE</th>\n",
              "      <th>MAJORINJURIES_BICYCLIST</th>\n",
              "      <th>MINORINJURIES_BICYCLIST</th>\n",
              "      <th>UNKNOWNINJURIES_BICYCLIST</th>\n",
              "      <th>FATAL_BICYCLIST</th>\n",
              "      <th>MAJORINJURIES_DRIVER</th>\n",
              "      <th>MINORINJURIES_DRIVER</th>\n",
              "      <th>UNKNOWNINJURIES_DRIVER</th>\n",
              "      <th>FATAL_DRIVER</th>\n",
              "      <th>MAJORINJURIES_PEDESTRIAN</th>\n",
              "      <th>MINORINJURIES_PEDESTRIAN</th>\n",
              "      <th>UNKNOWNINJURIES_PEDESTRIAN</th>\n",
              "      <th>FATAL_PEDESTRIAN</th>\n",
              "      <th>TOTAL_VEHICLES</th>\n",
              "      <th>TOTAL_BICYCLES</th>\n",
              "      <th>TOTAL_PEDESTRIANS</th>\n",
              "      <th>PEDESTRIANSIMPAIRED</th>\n",
              "      <th>BICYCLISTSIMPAIRED</th>\n",
              "      <th>DRIVERSIMPAIRED</th>\n",
              "      <th>TOTAL_TAXIS</th>\n",
              "      <th>TOTAL_GOVERNMENT</th>\n",
              "      <th>SPEEDING_INVOLVED</th>\n",
              "      <th>NEARESTINTROUTEID</th>\n",
              "      <th>NEARESTINTSTREETNAME</th>\n",
              "      <th>OFFINTERSECTION</th>\n",
              "      <th>INTAPPROACHDIRECTION</th>\n",
              "      <th>LOCATIONERROR</th>\n",
              "      <th>LASTUPDATEDATE</th>\n",
              "      <th>MPDLATITUDE</th>\n",
              "      <th>MPDLONGITUDE</th>\n",
              "      <th>MPDGEOX</th>\n",
              "      <th>MPDGEOY</th>\n",
              "      <th>BLOCKKEY</th>\n",
              "      <th>SUBBLOCKKEY</th>\n",
              "    </tr>\n",
              "  </thead>\n",
              "  <tbody>\n",
              "    <tr>\n",
              "      <th>0</th>\n",
              "      <td>-76.980766</td>\n",
              "      <td>38.889685</td>\n",
              "      <td>109482909</td>\n",
              "      <td>27191710</td>\n",
              "      <td>17010515</td>\n",
              "      <td>2017-01-19T18:56:20.000Z</td>\n",
              "      <td>13001702</td>\n",
              "      <td>13.411</td>\n",
              "      <td>0.000000</td>\n",
              "      <td>5431</td>\n",
              "      <td>2398.0</td>\n",
              "      <td>2017-01-19T05:00:00.000Z</td>\n",
              "      <td>NaN</td>\n",
              "      <td>58951</td>\n",
              "      <td>21 17TH ST SE</td>\n",
              "      <td>38.889678</td>\n",
              "      <td>-76.98071</td>\n",
              "      <td>401668.840</td>\n",
              "      <td>135759.618</td>\n",
              "      <td>Ward 6</td>\n",
              "      <td>{9AC03520-FDDA-4D43-848E-95EAF2FC8E74}</td>\n",
              "      <td>1635 EAST CAPITOL STREET SE</td>\n",
              "      <td>200.0</td>\n",
              "      <td>0</td>\n",
              "      <td>0</td>\n",
              "      <td>0</td>\n",
              "      <td>0</td>\n",
              "      <td>0</td>\n",
              "      <td>0</td>\n",
              "      <td>0</td>\n",
              "      <td>0</td>\n",
              "      <td>0</td>\n",
              "      <td>0</td>\n",
              "      <td>0</td>\n",
              "      <td>0</td>\n",
              "      <td>2</td>\n",
              "      <td>0</td>\n",
              "      <td>0</td>\n",
              "      <td>0</td>\n",
              "      <td>0</td>\n",
              "      <td>0</td>\n",
              "      <td>0</td>\n",
              "      <td>1</td>\n",
              "      <td>0</td>\n",
              "      <td>12001702</td>\n",
              "      <td>17TH ST NE</td>\n",
              "      <td>14.334858</td>\n",
              "      <td>South</td>\n",
              "      <td>NaN</td>\n",
              "      <td>NaN</td>\n",
              "      <td>38.889678</td>\n",
              "      <td>-76.980710</td>\n",
              "      <td>NaN</td>\n",
              "      <td>NaN</td>\n",
              "      <td>NaN</td>\n",
              "      <td>NaN</td>\n",
              "    </tr>\n",
              "    <tr>\n",
              "      <th>1</th>\n",
              "      <td>-77.029993</td>\n",
              "      <td>38.952914</td>\n",
              "      <td>109482910</td>\n",
              "      <td>27688005</td>\n",
              "      <td>18085167</td>\n",
              "      <td>2018-05-27T05:47:21.000Z</td>\n",
              "      <td>11042902</td>\n",
              "      <td>25.472</td>\n",
              "      <td>19.612804</td>\n",
              "      <td>6921</td>\n",
              "      <td>9510.0</td>\n",
              "      <td>2018-05-26T04:00:00.000Z</td>\n",
              "      <td>NaN</td>\n",
              "      <td>254976</td>\n",
              "      <td>5200 13TH STREET NW</td>\n",
              "      <td>38.952907</td>\n",
              "      <td>-77.02999</td>\n",
              "      <td>397400.439</td>\n",
              "      <td>142778.768</td>\n",
              "      <td>Ward 4</td>\n",
              "      <td>{5B7C4496-EAFE-4681-BFE4-602357ADBA39}</td>\n",
              "      <td>5200 13TH STREET NW</td>\n",
              "      <td>200.0</td>\n",
              "      <td>0</td>\n",
              "      <td>0</td>\n",
              "      <td>0</td>\n",
              "      <td>0</td>\n",
              "      <td>0</td>\n",
              "      <td>2</td>\n",
              "      <td>0</td>\n",
              "      <td>0</td>\n",
              "      <td>0</td>\n",
              "      <td>0</td>\n",
              "      <td>0</td>\n",
              "      <td>0</td>\n",
              "      <td>2</td>\n",
              "      <td>0</td>\n",
              "      <td>0</td>\n",
              "      <td>0</td>\n",
              "      <td>0</td>\n",
              "      <td>0</td>\n",
              "      <td>0</td>\n",
              "      <td>0</td>\n",
              "      <td>0</td>\n",
              "      <td>11001302</td>\n",
              "      <td>13TH ST NW</td>\n",
              "      <td>2.464102</td>\n",
              "      <td>West</td>\n",
              "      <td>NaN</td>\n",
              "      <td>2018-05-30T14:33:06.000Z</td>\n",
              "      <td>38.952885</td>\n",
              "      <td>-77.029683</td>\n",
              "      <td>397400.55</td>\n",
              "      <td>142798.38</td>\n",
              "      <td>NaN</td>\n",
              "      <td>NaN</td>\n",
              "    </tr>\n",
              "  </tbody>\n",
              "</table>\n",
              "</div>"
            ],
            "text/plain": [
              "           X          Y   OBJECTID   CRIMEID       CCN                REPORTDATE   ROUTEID  MEASURE     OFFSET  STREETSEGID  ROADWAYSEGID                  FROMDATE  TODATE   MARID              ADDRESS   LATITUDE  LONGITUDE      XCOORD      YCOORD    WARD                                 EVENTID                  MAR_ADDRESS  MAR_SCORE  MAJORINJURIES_BICYCLIST  MINORINJURIES_BICYCLIST  UNKNOWNINJURIES_BICYCLIST  FATAL_BICYCLIST  MAJORINJURIES_DRIVER  MINORINJURIES_DRIVER  UNKNOWNINJURIES_DRIVER  FATAL_DRIVER  MAJORINJURIES_PEDESTRIAN  MINORINJURIES_PEDESTRIAN  UNKNOWNINJURIES_PEDESTRIAN  FATAL_PEDESTRIAN  TOTAL_VEHICLES  TOTAL_BICYCLES  TOTAL_PEDESTRIANS  PEDESTRIANSIMPAIRED  BICYCLISTSIMPAIRED  DRIVERSIMPAIRED  TOTAL_TAXIS  TOTAL_GOVERNMENT  SPEEDING_INVOLVED NEARESTINTROUTEID NEARESTINTSTREETNAME  OFFINTERSECTION INTAPPROACHDIRECTION LOCATIONERROR            LASTUPDATEDATE  MPDLATITUDE  MPDLONGITUDE    MPDGEOX    MPDGEOY BLOCKKEY SUBBLOCKKEY\n",
              "0 -76.980766  38.889685  109482909  27191710  17010515  2017-01-19T18:56:20.000Z  13001702   13.411   0.000000         5431        2398.0  2017-01-19T05:00:00.000Z     NaN   58951        21 17TH ST SE  38.889678  -76.98071  401668.840  135759.618  Ward 6  {9AC03520-FDDA-4D43-848E-95EAF2FC8E74}  1635 EAST CAPITOL STREET SE      200.0                        0                        0                          0                0                     0                     0                       0             0                         0                         0                           0                 0               2               0                  0                    0                   0                0            0                 1                  0          12001702           17TH ST NE        14.334858                South           NaN                       NaN    38.889678    -76.980710        NaN        NaN      NaN         NaN\n",
              "1 -77.029993  38.952914  109482910  27688005  18085167  2018-05-27T05:47:21.000Z  11042902   25.472  19.612804         6921        9510.0  2018-05-26T04:00:00.000Z     NaN  254976  5200 13TH STREET NW  38.952907  -77.02999  397400.439  142778.768  Ward 4  {5B7C4496-EAFE-4681-BFE4-602357ADBA39}          5200 13TH STREET NW      200.0                        0                        0                          0                0                     0                     2                       0             0                         0                         0                           0                 0               2               0                  0                    0                   0                0            0                 0                  0          11001302           13TH ST NW         2.464102                 West           NaN  2018-05-30T14:33:06.000Z    38.952885    -77.029683  397400.55  142798.38      NaN         NaN"
            ]
          },
          "metadata": {
            "tags": []
          },
          "execution_count": 5
        }
      ]
    },
    {
      "cell_type": "code",
      "metadata": {
        "id": "QSVc3hO5pw-0",
        "colab_type": "code",
        "outputId": "d5b09144-b689-4f5e-fc4b-1814eda89d82",
        "colab": {
          "base_uri": "https://localhost:8080/",
          "height": 299
        }
      },
      "source": [
        "crashes1.head()"
      ],
      "execution_count": 6,
      "outputs": [
        {
          "output_type": "execute_result",
          "data": {
            "text/html": [
              "<div>\n",
              "<style scoped>\n",
              "    .dataframe tbody tr th:only-of-type {\n",
              "        vertical-align: middle;\n",
              "    }\n",
              "\n",
              "    .dataframe tbody tr th {\n",
              "        vertical-align: top;\n",
              "    }\n",
              "\n",
              "    .dataframe thead th {\n",
              "        text-align: right;\n",
              "    }\n",
              "</style>\n",
              "<table border=\"1\" class=\"dataframe\">\n",
              "  <thead>\n",
              "    <tr style=\"text-align: right;\">\n",
              "      <th></th>\n",
              "      <th>OBJECTID</th>\n",
              "      <th>CRIMEID</th>\n",
              "      <th>CCN</th>\n",
              "      <th>PERSONID</th>\n",
              "      <th>PERSONTYPE</th>\n",
              "      <th>AGE</th>\n",
              "      <th>FATAL</th>\n",
              "      <th>MAJORINJURY</th>\n",
              "      <th>MINORINJURY</th>\n",
              "      <th>VEHICLEID</th>\n",
              "      <th>INVEHICLETYPE</th>\n",
              "      <th>TICKETISSUED</th>\n",
              "      <th>LICENSEPLATESTATE</th>\n",
              "      <th>IMPAIRED</th>\n",
              "      <th>SPEEDING</th>\n",
              "    </tr>\n",
              "  </thead>\n",
              "  <tbody>\n",
              "    <tr>\n",
              "      <th>0</th>\n",
              "      <td>226315330</td>\n",
              "      <td>24598083</td>\n",
              "      <td>13064967</td>\n",
              "      <td>84902881</td>\n",
              "      <td>Driver</td>\n",
              "      <td>0</td>\n",
              "      <td>N</td>\n",
              "      <td>N</td>\n",
              "      <td>N</td>\n",
              "      <td>948586</td>\n",
              "      <td>Passenger Car/automobile</td>\n",
              "      <td>N</td>\n",
              "      <td>MD</td>\n",
              "      <td>N</td>\n",
              "      <td>N</td>\n",
              "    </tr>\n",
              "    <tr>\n",
              "      <th>1</th>\n",
              "      <td>226315331</td>\n",
              "      <td>24598083</td>\n",
              "      <td>13064967</td>\n",
              "      <td>84876790</td>\n",
              "      <td>Driver</td>\n",
              "      <td>32</td>\n",
              "      <td>N</td>\n",
              "      <td>N</td>\n",
              "      <td>N</td>\n",
              "      <td>948587</td>\n",
              "      <td>Passenger Car/automobile</td>\n",
              "      <td>N</td>\n",
              "      <td>DC</td>\n",
              "      <td>N</td>\n",
              "      <td>N</td>\n",
              "    </tr>\n",
              "    <tr>\n",
              "      <th>2</th>\n",
              "      <td>226315332</td>\n",
              "      <td>24598083</td>\n",
              "      <td>13064967</td>\n",
              "      <td>84828817</td>\n",
              "      <td>Driver</td>\n",
              "      <td>0</td>\n",
              "      <td>N</td>\n",
              "      <td>Y</td>\n",
              "      <td>N</td>\n",
              "      <td>948588</td>\n",
              "      <td>Passenger Car/automobile</td>\n",
              "      <td>N</td>\n",
              "      <td>DC</td>\n",
              "      <td>N</td>\n",
              "      <td>N</td>\n",
              "    </tr>\n",
              "    <tr>\n",
              "      <th>3</th>\n",
              "      <td>226315333</td>\n",
              "      <td>24598083</td>\n",
              "      <td>13064967</td>\n",
              "      <td>84819235</td>\n",
              "      <td>Driver</td>\n",
              "      <td>53</td>\n",
              "      <td>N</td>\n",
              "      <td>N</td>\n",
              "      <td>N</td>\n",
              "      <td>948588</td>\n",
              "      <td>Passenger Car/automobile</td>\n",
              "      <td>N</td>\n",
              "      <td>DC</td>\n",
              "      <td>N</td>\n",
              "      <td>N</td>\n",
              "    </tr>\n",
              "    <tr>\n",
              "      <th>4</th>\n",
              "      <td>226315334</td>\n",
              "      <td>24598083</td>\n",
              "      <td>13064967</td>\n",
              "      <td>84698030</td>\n",
              "      <td>Driver</td>\n",
              "      <td>44</td>\n",
              "      <td>N</td>\n",
              "      <td>N</td>\n",
              "      <td>N</td>\n",
              "      <td>948586</td>\n",
              "      <td>Passenger Car/automobile</td>\n",
              "      <td>N</td>\n",
              "      <td>MD</td>\n",
              "      <td>N</td>\n",
              "      <td>N</td>\n",
              "    </tr>\n",
              "  </tbody>\n",
              "</table>\n",
              "</div>"
            ],
            "text/plain": [
              "    OBJECTID   CRIMEID       CCN  PERSONID PERSONTYPE  AGE FATAL MAJORINJURY MINORINJURY VEHICLEID             INVEHICLETYPE TICKETISSUED LICENSEPLATESTATE IMPAIRED SPEEDING\n",
              "0  226315330  24598083  13064967  84902881     Driver    0     N           N           N    948586  Passenger Car/automobile            N                MD        N        N\n",
              "1  226315331  24598083  13064967  84876790     Driver   32     N           N           N    948587  Passenger Car/automobile            N                DC        N        N\n",
              "2  226315332  24598083  13064967  84828817     Driver    0     N           Y           N    948588  Passenger Car/automobile            N                DC        N        N\n",
              "3  226315333  24598083  13064967  84819235     Driver   53     N           N           N    948588  Passenger Car/automobile            N                DC        N        N\n",
              "4  226315334  24598083  13064967  84698030     Driver   44     N           N           N    948586  Passenger Car/automobile            N                MD        N        N"
            ]
          },
          "metadata": {
            "tags": []
          },
          "execution_count": 6
        }
      ]
    },
    {
      "cell_type": "markdown",
      "metadata": {
        "id": "Q2yP5U2MCmUJ",
        "colab_type": "text"
      },
      "source": [
        "##Pre-merge cleaning"
      ]
    },
    {
      "cell_type": "code",
      "metadata": {
        "id": "xxtV20xAVehE",
        "colab_type": "code",
        "colab": {}
      },
      "source": [
        "car_types = crashes1.groupby('CRIMEID')['INVEHICLETYPE'].value_counts().unstack().replace(np.nan, 0).reset_index()"
      ],
      "execution_count": 0,
      "outputs": []
    },
    {
      "cell_type": "code",
      "metadata": {
        "id": "yPBN1maUtr3t",
        "colab_type": "code",
        "colab": {}
      },
      "source": [
        "crashes1['SENIORS'] = crashes1['AGE'] > 65\n",
        "crashes1['CHILDREN'] = crashes1['AGE'] < 18"
      ],
      "execution_count": 0,
      "outputs": []
    },
    {
      "cell_type": "code",
      "metadata": {
        "id": "OOGtUbS36cm2",
        "colab_type": "code",
        "colab": {}
      },
      "source": [
        "seniors = crashes1.groupby('CRIMEID')['SENIORS'].value_counts().unstack().reset_index().replace(np.nan, 0).drop(columns=False)\n",
        "children = crashes1.groupby('CRIMEID')['CHILDREN'].value_counts().unstack().reset_index().replace(np.nan, 0).drop(columns=False)"
      ],
      "execution_count": 0,
      "outputs": []
    },
    {
      "cell_type": "markdown",
      "metadata": {
        "id": "px0tuizXCqNP",
        "colab_type": "text"
      },
      "source": [
        "##Merge"
      ]
    },
    {
      "cell_type": "code",
      "metadata": {
        "id": "MEQnSO5kMmAs",
        "colab_type": "code",
        "colab": {}
      },
      "source": [
        "#datasets for engineering\n",
        "street_segs = pd.read_csv('https://opendata.arcgis.com/datasets/f21813094ed24fd5ba66a07b61a1acee_46.csv', dtype={'STREETSEGID': 'Int64'})\n",
        "bicycles = pd.read_csv('https://opendata.arcgis.com/datasets/294e062cdf2c48d5b9cbc374d9709bc0_2.csv', dtype={'STREETSEGID': 'Int64'})"
      ],
      "execution_count": 0,
      "outputs": []
    },
    {
      "cell_type": "markdown",
      "metadata": {
        "id": "miI7QZ9prfpd",
        "colab_type": "text"
      },
      "source": [
        "need to aggregate crashes1 (personal crash data)"
      ]
    },
    {
      "cell_type": "code",
      "metadata": {
        "id": "vqSb9dekxyXw",
        "colab_type": "code",
        "outputId": "14c619c9-9158-41a2-e356-18183c77e0fe",
        "colab": {
          "base_uri": "https://localhost:8080/",
          "height": 34
        }
      },
      "source": [
        "df = crashes.merge(car_types, how='inner', on='CRIMEID')   #inner join on CRIMEID, the common unique ID between datasets\n",
        "df = df.merge(seniors, how='inner', on='CRIMEID')\n",
        "df = df.merge(children, how='inner', on='CRIMEID')\n",
        "df = df.merge(street_segs[['STREETSEGID', 'STREETTYPE', 'QUADRANT', 'DIRECTIONALITY']], how='left', on='STREETSEGID')\n",
        "df = df.merge(bicycles[['STREETSEGID', 'BIKELANELENGTH']], how='left', on='STREETSEGID')\n",
        "df.shape"
      ],
      "execution_count": 11,
      "outputs": [
        {
          "output_type": "execute_result",
          "data": {
            "text/plain": [
              "(215577, 84)"
            ]
          },
          "metadata": {
            "tags": []
          },
          "execution_count": 11
        }
      ]
    },
    {
      "cell_type": "code",
      "metadata": {
        "id": "ACrugULOO-QX",
        "colab_type": "code",
        "outputId": "0cb65b01-670d-4dcb-b588-26742fac517b",
        "colab": {
          "base_uri": "https://localhost:8080/",
          "height": 518
        }
      },
      "source": [
        "df= df.sort_index(axis=1)\n",
        "df.head()"
      ],
      "execution_count": 12,
      "outputs": [
        {
          "output_type": "execute_result",
          "data": {
            "text/html": [
              "<div>\n",
              "<style scoped>\n",
              "    .dataframe tbody tr th:only-of-type {\n",
              "        vertical-align: middle;\n",
              "    }\n",
              "\n",
              "    .dataframe tbody tr th {\n",
              "        vertical-align: top;\n",
              "    }\n",
              "\n",
              "    .dataframe thead th {\n",
              "        text-align: right;\n",
              "    }\n",
              "</style>\n",
              "<table border=\"1\" class=\"dataframe\">\n",
              "  <thead>\n",
              "    <tr style=\"text-align: right;\">\n",
              "      <th></th>\n",
              "      <th>ADDRESS</th>\n",
              "      <th>Aircraft</th>\n",
              "      <th>Atv (all Terrain Vehicle)</th>\n",
              "      <th>BICYCLISTSIMPAIRED</th>\n",
              "      <th>BIKELANELENGTH</th>\n",
              "      <th>BLOCKKEY</th>\n",
              "      <th>Bus</th>\n",
              "      <th>CCN</th>\n",
              "      <th>CRIMEID</th>\n",
              "      <th>Cargo Van</th>\n",
              "      <th>Construction/industrial Equipment</th>\n",
              "      <th>DIRECTIONALITY</th>\n",
              "      <th>DRIVERSIMPAIRED</th>\n",
              "      <th>Drugs/ Narcotics</th>\n",
              "      <th>EVENTID</th>\n",
              "      <th>FATAL_BICYCLIST</th>\n",
              "      <th>FATAL_DRIVER</th>\n",
              "      <th>FATAL_PEDESTRIAN</th>\n",
              "      <th>FROMDATE</th>\n",
              "      <th>Farm Equipment</th>\n",
              "      <th>Firearms</th>\n",
              "      <th>INTAPPROACHDIRECTION</th>\n",
              "      <th>LASTUPDATEDATE</th>\n",
              "      <th>LATITUDE</th>\n",
              "      <th>LOCATIONERROR</th>\n",
              "      <th>LONGITUDE</th>\n",
              "      <th>Large/heavy Truck</th>\n",
              "      <th>MAJORINJURIES_BICYCLIST</th>\n",
              "      <th>MAJORINJURIES_DRIVER</th>\n",
              "      <th>MAJORINJURIES_PEDESTRIAN</th>\n",
              "      <th>MARID</th>\n",
              "      <th>MAR_ADDRESS</th>\n",
              "      <th>MAR_SCORE</th>\n",
              "      <th>MEASURE</th>\n",
              "      <th>MINORINJURIES_BICYCLIST</th>\n",
              "      <th>MINORINJURIES_DRIVER</th>\n",
              "      <th>MINORINJURIES_PEDESTRIAN</th>\n",
              "      <th>MPDGEOX</th>\n",
              "      <th>MPDGEOY</th>\n",
              "      <th>MPDLATITUDE</th>\n",
              "      <th>MPDLONGITUDE</th>\n",
              "      <th>Moped/scooter</th>\n",
              "      <th>Motor Cycle</th>\n",
              "      <th>Motorhome/camper/rv (recreational Vehicle)</th>\n",
              "      <th>NEARESTINTROUTEID</th>\n",
              "      <th>NEARESTINTSTREETNAME</th>\n",
              "      <th>None</th>\n",
              "      <th>OBJECTID</th>\n",
              "      <th>OFFINTERSECTION</th>\n",
              "      <th>OFFSET</th>\n",
              "      <th>Other Small/light Truck</th>\n",
              "      <th>Other Vehicle</th>\n",
              "      <th>PEDESTRIANSIMPAIRED</th>\n",
              "      <th>Passenger Car/automobile</th>\n",
              "      <th>Passenger Van</th>\n",
              "      <th>Pickup Truck</th>\n",
              "      <th>QUADRANT</th>\n",
              "      <th>REPORTDATE</th>\n",
              "      <th>ROADWAYSEGID</th>\n",
              "      <th>ROUTEID</th>\n",
              "      <th>SPEEDING_INVOLVED</th>\n",
              "      <th>STREETSEGID</th>\n",
              "      <th>STREETTYPE</th>\n",
              "      <th>SUBBLOCKKEY</th>\n",
              "      <th>Snow Mobile</th>\n",
              "      <th>Suv (sport Utility Vehicle)</th>\n",
              "      <th>TODATE</th>\n",
              "      <th>TOTAL_BICYCLES</th>\n",
              "      <th>TOTAL_GOVERNMENT</th>\n",
              "      <th>TOTAL_PEDESTRIANS</th>\n",
              "      <th>TOTAL_TAXIS</th>\n",
              "      <th>TOTAL_VEHICLES</th>\n",
              "      <th>Trailer</th>\n",
              "      <th>True_x</th>\n",
              "      <th>True_y</th>\n",
              "      <th>UNKNOWNINJURIES_BICYCLIST</th>\n",
              "      <th>UNKNOWNINJURIES_DRIVER</th>\n",
              "      <th>UNKNOWNINJURIES_PEDESTRIAN</th>\n",
              "      <th>WARD</th>\n",
              "      <th>Watercraft/boat</th>\n",
              "      <th>X</th>\n",
              "      <th>XCOORD</th>\n",
              "      <th>Y</th>\n",
              "      <th>YCOORD</th>\n",
              "    </tr>\n",
              "  </thead>\n",
              "  <tbody>\n",
              "    <tr>\n",
              "      <th>0</th>\n",
              "      <td>21 17TH ST SE</td>\n",
              "      <td>0.0</td>\n",
              "      <td>0.0</td>\n",
              "      <td>0</td>\n",
              "      <td>NaN</td>\n",
              "      <td>NaN</td>\n",
              "      <td>0.0</td>\n",
              "      <td>17010515</td>\n",
              "      <td>27191710</td>\n",
              "      <td>0.0</td>\n",
              "      <td>0.0</td>\n",
              "      <td>0.0</td>\n",
              "      <td>0</td>\n",
              "      <td>0.0</td>\n",
              "      <td>{9AC03520-FDDA-4D43-848E-95EAF2FC8E74}</td>\n",
              "      <td>0</td>\n",
              "      <td>0</td>\n",
              "      <td>0</td>\n",
              "      <td>2017-01-19T05:00:00.000Z</td>\n",
              "      <td>0.0</td>\n",
              "      <td>0.0</td>\n",
              "      <td>South</td>\n",
              "      <td>NaN</td>\n",
              "      <td>38.889678</td>\n",
              "      <td>NaN</td>\n",
              "      <td>-76.980710</td>\n",
              "      <td>0.0</td>\n",
              "      <td>0</td>\n",
              "      <td>0</td>\n",
              "      <td>0</td>\n",
              "      <td>58951</td>\n",
              "      <td>1635 EAST CAPITOL STREET SE</td>\n",
              "      <td>200.0</td>\n",
              "      <td>13.411</td>\n",
              "      <td>0</td>\n",
              "      <td>0</td>\n",
              "      <td>0</td>\n",
              "      <td>NaN</td>\n",
              "      <td>NaN</td>\n",
              "      <td>38.889678</td>\n",
              "      <td>-76.980710</td>\n",
              "      <td>0.0</td>\n",
              "      <td>0.0</td>\n",
              "      <td>0.0</td>\n",
              "      <td>12001702</td>\n",
              "      <td>17TH ST NE</td>\n",
              "      <td>0.0</td>\n",
              "      <td>109482909</td>\n",
              "      <td>14.334858</td>\n",
              "      <td>0.000000</td>\n",
              "      <td>0.0</td>\n",
              "      <td>0.0</td>\n",
              "      <td>0</td>\n",
              "      <td>1.0</td>\n",
              "      <td>0.0</td>\n",
              "      <td>0.0</td>\n",
              "      <td>SE</td>\n",
              "      <td>2017-01-19T18:56:20.000Z</td>\n",
              "      <td>2398.0</td>\n",
              "      <td>13001702</td>\n",
              "      <td>0</td>\n",
              "      <td>5431</td>\n",
              "      <td>ST</td>\n",
              "      <td>NaN</td>\n",
              "      <td>0.0</td>\n",
              "      <td>2.0</td>\n",
              "      <td>NaN</td>\n",
              "      <td>0</td>\n",
              "      <td>1</td>\n",
              "      <td>0</td>\n",
              "      <td>0</td>\n",
              "      <td>2</td>\n",
              "      <td>0.0</td>\n",
              "      <td>0.0</td>\n",
              "      <td>0.0</td>\n",
              "      <td>0</td>\n",
              "      <td>0</td>\n",
              "      <td>0</td>\n",
              "      <td>Ward 6</td>\n",
              "      <td>0.0</td>\n",
              "      <td>-76.980766</td>\n",
              "      <td>401668.840</td>\n",
              "      <td>38.889685</td>\n",
              "      <td>135759.618</td>\n",
              "    </tr>\n",
              "    <tr>\n",
              "      <th>1</th>\n",
              "      <td>5200 13TH STREET NW</td>\n",
              "      <td>0.0</td>\n",
              "      <td>0.0</td>\n",
              "      <td>0</td>\n",
              "      <td>NaN</td>\n",
              "      <td>NaN</td>\n",
              "      <td>0.0</td>\n",
              "      <td>18085167</td>\n",
              "      <td>27688005</td>\n",
              "      <td>0.0</td>\n",
              "      <td>0.0</td>\n",
              "      <td>2.0</td>\n",
              "      <td>0</td>\n",
              "      <td>0.0</td>\n",
              "      <td>{5B7C4496-EAFE-4681-BFE4-602357ADBA39}</td>\n",
              "      <td>0</td>\n",
              "      <td>0</td>\n",
              "      <td>0</td>\n",
              "      <td>2018-05-26T04:00:00.000Z</td>\n",
              "      <td>0.0</td>\n",
              "      <td>0.0</td>\n",
              "      <td>West</td>\n",
              "      <td>2018-05-30T14:33:06.000Z</td>\n",
              "      <td>38.952907</td>\n",
              "      <td>NaN</td>\n",
              "      <td>-77.029990</td>\n",
              "      <td>0.0</td>\n",
              "      <td>0</td>\n",
              "      <td>0</td>\n",
              "      <td>0</td>\n",
              "      <td>254976</td>\n",
              "      <td>5200 13TH STREET NW</td>\n",
              "      <td>200.0</td>\n",
              "      <td>25.472</td>\n",
              "      <td>0</td>\n",
              "      <td>2</td>\n",
              "      <td>0</td>\n",
              "      <td>397400.55</td>\n",
              "      <td>142798.38</td>\n",
              "      <td>38.952885</td>\n",
              "      <td>-77.029683</td>\n",
              "      <td>0.0</td>\n",
              "      <td>0.0</td>\n",
              "      <td>0.0</td>\n",
              "      <td>11001302</td>\n",
              "      <td>13TH ST NW</td>\n",
              "      <td>0.0</td>\n",
              "      <td>109482910</td>\n",
              "      <td>2.464102</td>\n",
              "      <td>19.612804</td>\n",
              "      <td>0.0</td>\n",
              "      <td>0.0</td>\n",
              "      <td>0</td>\n",
              "      <td>2.0</td>\n",
              "      <td>0.0</td>\n",
              "      <td>0.0</td>\n",
              "      <td>NW</td>\n",
              "      <td>2018-05-27T05:47:21.000Z</td>\n",
              "      <td>9510.0</td>\n",
              "      <td>11042902</td>\n",
              "      <td>0</td>\n",
              "      <td>6921</td>\n",
              "      <td>ST</td>\n",
              "      <td>NaN</td>\n",
              "      <td>0.0</td>\n",
              "      <td>0.0</td>\n",
              "      <td>NaN</td>\n",
              "      <td>0</td>\n",
              "      <td>0</td>\n",
              "      <td>0</td>\n",
              "      <td>0</td>\n",
              "      <td>2</td>\n",
              "      <td>0.0</td>\n",
              "      <td>0.0</td>\n",
              "      <td>0.0</td>\n",
              "      <td>0</td>\n",
              "      <td>0</td>\n",
              "      <td>0</td>\n",
              "      <td>Ward 4</td>\n",
              "      <td>0.0</td>\n",
              "      <td>-77.029993</td>\n",
              "      <td>397400.439</td>\n",
              "      <td>38.952914</td>\n",
              "      <td>142778.768</td>\n",
              "    </tr>\n",
              "    <tr>\n",
              "      <th>2</th>\n",
              "      <td>956 MOUNT OLIVET ROAD NE</td>\n",
              "      <td>0.0</td>\n",
              "      <td>0.0</td>\n",
              "      <td>0</td>\n",
              "      <td>NaN</td>\n",
              "      <td>NaN</td>\n",
              "      <td>0.0</td>\n",
              "      <td>17147314</td>\n",
              "      <td>27412026</td>\n",
              "      <td>0.0</td>\n",
              "      <td>0.0</td>\n",
              "      <td>NaN</td>\n",
              "      <td>0</td>\n",
              "      <td>0.0</td>\n",
              "      <td>{AA7672E8-9AD6-4DF5-99A2-485C44F778AC}</td>\n",
              "      <td>0</td>\n",
              "      <td>0</td>\n",
              "      <td>0</td>\n",
              "      <td>2017-08-25T04:00:00.000Z</td>\n",
              "      <td>0.0</td>\n",
              "      <td>0.0</td>\n",
              "      <td>East</td>\n",
              "      <td>NaN</td>\n",
              "      <td>38.912530</td>\n",
              "      <td>NaN</td>\n",
              "      <td>-76.989323</td>\n",
              "      <td>0.0</td>\n",
              "      <td>0</td>\n",
              "      <td>0</td>\n",
              "      <td>0</td>\n",
              "      <td>285877</td>\n",
              "      <td>1125 OKIE STREET NE</td>\n",
              "      <td>200.0</td>\n",
              "      <td>6.668</td>\n",
              "      <td>0</td>\n",
              "      <td>1</td>\n",
              "      <td>0</td>\n",
              "      <td>400869.06</td>\n",
              "      <td>138300.03</td>\n",
              "      <td>38.912540</td>\n",
              "      <td>-76.989318</td>\n",
              "      <td>0.0</td>\n",
              "      <td>0.0</td>\n",
              "      <td>0.0</td>\n",
              "      <td>12062462</td>\n",
              "      <td>MOUNT OLIVET RD NE</td>\n",
              "      <td>0.0</td>\n",
              "      <td>109482911</td>\n",
              "      <td>81.113797</td>\n",
              "      <td>1.181367</td>\n",
              "      <td>0.0</td>\n",
              "      <td>0.0</td>\n",
              "      <td>0</td>\n",
              "      <td>1.0</td>\n",
              "      <td>0.0</td>\n",
              "      <td>0.0</td>\n",
              "      <td>NaN</td>\n",
              "      <td>2017-08-26T04:18:45.000Z</td>\n",
              "      <td>28725.0</td>\n",
              "      <td>47061782</td>\n",
              "      <td>0</td>\n",
              "      <td>-9</td>\n",
              "      <td>NaN</td>\n",
              "      <td>NaN</td>\n",
              "      <td>0.0</td>\n",
              "      <td>0.0</td>\n",
              "      <td>NaN</td>\n",
              "      <td>0</td>\n",
              "      <td>0</td>\n",
              "      <td>0</td>\n",
              "      <td>0</td>\n",
              "      <td>1</td>\n",
              "      <td>0.0</td>\n",
              "      <td>0.0</td>\n",
              "      <td>0.0</td>\n",
              "      <td>0</td>\n",
              "      <td>0</td>\n",
              "      <td>0</td>\n",
              "      <td>Ward 5</td>\n",
              "      <td>0.0</td>\n",
              "      <td>-76.989326</td>\n",
              "      <td>400925.959</td>\n",
              "      <td>38.912538</td>\n",
              "      <td>138296.279</td>\n",
              "    </tr>\n",
              "    <tr>\n",
              "      <th>3</th>\n",
              "      <td>77 FORRESTER STREET SW</td>\n",
              "      <td>0.0</td>\n",
              "      <td>0.0</td>\n",
              "      <td>0</td>\n",
              "      <td>NaN</td>\n",
              "      <td>NaN</td>\n",
              "      <td>0.0</td>\n",
              "      <td>17010532</td>\n",
              "      <td>27191714</td>\n",
              "      <td>0.0</td>\n",
              "      <td>0.0</td>\n",
              "      <td>0.0</td>\n",
              "      <td>0</td>\n",
              "      <td>0.0</td>\n",
              "      <td>{A4BB396B-2DAA-4132-AE90-3DBB53E718F4}</td>\n",
              "      <td>0</td>\n",
              "      <td>0</td>\n",
              "      <td>0</td>\n",
              "      <td>2017-01-19T05:00:00.000Z</td>\n",
              "      <td>0.0</td>\n",
              "      <td>0.0</td>\n",
              "      <td>West</td>\n",
              "      <td>NaN</td>\n",
              "      <td>38.825274</td>\n",
              "      <td>NaN</td>\n",
              "      <td>-77.009778</td>\n",
              "      <td>0.0</td>\n",
              "      <td>0</td>\n",
              "      <td>0</td>\n",
              "      <td>0</td>\n",
              "      <td>82880</td>\n",
              "      <td>95 FORRESTER STREET SW</td>\n",
              "      <td>200.0</td>\n",
              "      <td>263.347</td>\n",
              "      <td>0</td>\n",
              "      <td>0</td>\n",
              "      <td>0</td>\n",
              "      <td>399157.70</td>\n",
              "      <td>128623.88</td>\n",
              "      <td>38.825274</td>\n",
              "      <td>-77.009778</td>\n",
              "      <td>0.0</td>\n",
              "      <td>0.0</td>\n",
              "      <td>0.0</td>\n",
              "      <td>14039322</td>\n",
              "      <td>GALVESTON PL SW</td>\n",
              "      <td>0.0</td>\n",
              "      <td>109482912</td>\n",
              "      <td>172.288758</td>\n",
              "      <td>0.000000</td>\n",
              "      <td>0.0</td>\n",
              "      <td>0.0</td>\n",
              "      <td>0</td>\n",
              "      <td>1.0</td>\n",
              "      <td>0.0</td>\n",
              "      <td>0.0</td>\n",
              "      <td>SW</td>\n",
              "      <td>2017-01-19T19:01:35.000Z</td>\n",
              "      <td>1052.0</td>\n",
              "      <td>14036982</td>\n",
              "      <td>0</td>\n",
              "      <td>2270</td>\n",
              "      <td>ST</td>\n",
              "      <td>NaN</td>\n",
              "      <td>0.0</td>\n",
              "      <td>0.0</td>\n",
              "      <td>NaN</td>\n",
              "      <td>0</td>\n",
              "      <td>0</td>\n",
              "      <td>0</td>\n",
              "      <td>0</td>\n",
              "      <td>4</td>\n",
              "      <td>0.0</td>\n",
              "      <td>0.0</td>\n",
              "      <td>0.0</td>\n",
              "      <td>0</td>\n",
              "      <td>0</td>\n",
              "      <td>0</td>\n",
              "      <td>Ward 8</td>\n",
              "      <td>0.0</td>\n",
              "      <td>-77.009782</td>\n",
              "      <td>399150.748</td>\n",
              "      <td>38.825201</td>\n",
              "      <td>128601.264</td>\n",
              "    </tr>\n",
              "    <tr>\n",
              "      <th>4</th>\n",
              "      <td>2200 SOUTH DAKOTA AVENUE NE</td>\n",
              "      <td>0.0</td>\n",
              "      <td>0.0</td>\n",
              "      <td>0</td>\n",
              "      <td>NaN</td>\n",
              "      <td>NaN</td>\n",
              "      <td>0.0</td>\n",
              "      <td>17010514</td>\n",
              "      <td>27191715</td>\n",
              "      <td>0.0</td>\n",
              "      <td>0.0</td>\n",
              "      <td>2.0</td>\n",
              "      <td>0</td>\n",
              "      <td>0.0</td>\n",
              "      <td>{EF8064CF-B419-468F-B0D2-D5F777142E35}</td>\n",
              "      <td>0</td>\n",
              "      <td>0</td>\n",
              "      <td>0</td>\n",
              "      <td>2017-01-19T05:00:00.000Z</td>\n",
              "      <td>0.0</td>\n",
              "      <td>0.0</td>\n",
              "      <td>Northwest</td>\n",
              "      <td>NaN</td>\n",
              "      <td>38.920464</td>\n",
              "      <td>NaN</td>\n",
              "      <td>-76.957954</td>\n",
              "      <td>1.0</td>\n",
              "      <td>0</td>\n",
              "      <td>0</td>\n",
              "      <td>0</td>\n",
              "      <td>304441</td>\n",
              "      <td>3320 THEODORE R HAGANS DRIVE NE</td>\n",
              "      <td>200.0</td>\n",
              "      <td>372.161</td>\n",
              "      <td>0</td>\n",
              "      <td>0</td>\n",
              "      <td>0</td>\n",
              "      <td>403599.77</td>\n",
              "      <td>139127.65</td>\n",
              "      <td>38.920464</td>\n",
              "      <td>-76.957954</td>\n",
              "      <td>0.0</td>\n",
              "      <td>0.0</td>\n",
              "      <td>0.0</td>\n",
              "      <td>12003332</td>\n",
              "      <td>33RD PL NE</td>\n",
              "      <td>0.0</td>\n",
              "      <td>109482913</td>\n",
              "      <td>56.061139</td>\n",
              "      <td>0.000000</td>\n",
              "      <td>0.0</td>\n",
              "      <td>0.0</td>\n",
              "      <td>0</td>\n",
              "      <td>1.0</td>\n",
              "      <td>0.0</td>\n",
              "      <td>0.0</td>\n",
              "      <td>NE</td>\n",
              "      <td>2017-01-19T19:01:37.000Z</td>\n",
              "      <td>36763.0</td>\n",
              "      <td>12081442</td>\n",
              "      <td>0</td>\n",
              "      <td>9851</td>\n",
              "      <td>AVE</td>\n",
              "      <td>NaN</td>\n",
              "      <td>0.0</td>\n",
              "      <td>0.0</td>\n",
              "      <td>NaN</td>\n",
              "      <td>0</td>\n",
              "      <td>0</td>\n",
              "      <td>0</td>\n",
              "      <td>0</td>\n",
              "      <td>2</td>\n",
              "      <td>0.0</td>\n",
              "      <td>2.0</td>\n",
              "      <td>0.0</td>\n",
              "      <td>0</td>\n",
              "      <td>0</td>\n",
              "      <td>0</td>\n",
              "      <td>Ward 5</td>\n",
              "      <td>0.0</td>\n",
              "      <td>-76.958041</td>\n",
              "      <td>403638.852</td>\n",
              "      <td>38.920396</td>\n",
              "      <td>139169.372</td>\n",
              "    </tr>\n",
              "  </tbody>\n",
              "</table>\n",
              "</div>"
            ],
            "text/plain": [
              "                       ADDRESS  Aircraft  Atv (all Terrain Vehicle)  BICYCLISTSIMPAIRED  BIKELANELENGTH BLOCKKEY  Bus       CCN   CRIMEID  Cargo Van  Construction/industrial Equipment  DIRECTIONALITY  DRIVERSIMPAIRED  Drugs/ Narcotics                                 EVENTID  FATAL_BICYCLIST  FATAL_DRIVER  FATAL_PEDESTRIAN                  FROMDATE  Farm Equipment  Firearms INTAPPROACHDIRECTION            LASTUPDATEDATE   LATITUDE LOCATIONERROR  LONGITUDE  Large/heavy Truck  MAJORINJURIES_BICYCLIST  MAJORINJURIES_DRIVER  MAJORINJURIES_PEDESTRIAN   MARID                      MAR_ADDRESS  MAR_SCORE  MEASURE  MINORINJURIES_BICYCLIST  MINORINJURIES_DRIVER  MINORINJURIES_PEDESTRIAN    MPDGEOX    MPDGEOY  MPDLATITUDE  MPDLONGITUDE  Moped/scooter  Motor Cycle  Motorhome/camper/rv (recreational Vehicle) NEARESTINTROUTEID NEARESTINTSTREETNAME  None   OBJECTID  OFFINTERSECTION     OFFSET  Other Small/light Truck  Other Vehicle  PEDESTRIANSIMPAIRED  Passenger Car/automobile  Passenger Van  \\\n",
              "0                21 17TH ST SE       0.0                        0.0                   0             NaN      NaN  0.0  17010515  27191710        0.0                                0.0             0.0                0               0.0  {9AC03520-FDDA-4D43-848E-95EAF2FC8E74}                0             0                 0  2017-01-19T05:00:00.000Z             0.0       0.0                South                       NaN  38.889678           NaN -76.980710                0.0                        0                     0                         0   58951      1635 EAST CAPITOL STREET SE      200.0   13.411                        0                     0                         0        NaN        NaN    38.889678    -76.980710            0.0          0.0                                         0.0          12001702           17TH ST NE   0.0  109482909        14.334858   0.000000                      0.0            0.0                    0                       1.0            0.0   \n",
              "1          5200 13TH STREET NW       0.0                        0.0                   0             NaN      NaN  0.0  18085167  27688005        0.0                                0.0             2.0                0               0.0  {5B7C4496-EAFE-4681-BFE4-602357ADBA39}                0             0                 0  2018-05-26T04:00:00.000Z             0.0       0.0                 West  2018-05-30T14:33:06.000Z  38.952907           NaN -77.029990                0.0                        0                     0                         0  254976              5200 13TH STREET NW      200.0   25.472                        0                     2                         0  397400.55  142798.38    38.952885    -77.029683            0.0          0.0                                         0.0          11001302           13TH ST NW   0.0  109482910         2.464102  19.612804                      0.0            0.0                    0                       2.0            0.0   \n",
              "2     956 MOUNT OLIVET ROAD NE       0.0                        0.0                   0             NaN      NaN  0.0  17147314  27412026        0.0                                0.0             NaN                0               0.0  {AA7672E8-9AD6-4DF5-99A2-485C44F778AC}                0             0                 0  2017-08-25T04:00:00.000Z             0.0       0.0                 East                       NaN  38.912530           NaN -76.989323                0.0                        0                     0                         0  285877              1125 OKIE STREET NE      200.0    6.668                        0                     1                         0  400869.06  138300.03    38.912540    -76.989318            0.0          0.0                                         0.0          12062462   MOUNT OLIVET RD NE   0.0  109482911        81.113797   1.181367                      0.0            0.0                    0                       1.0            0.0   \n",
              "3       77 FORRESTER STREET SW       0.0                        0.0                   0             NaN      NaN  0.0  17010532  27191714        0.0                                0.0             0.0                0               0.0  {A4BB396B-2DAA-4132-AE90-3DBB53E718F4}                0             0                 0  2017-01-19T05:00:00.000Z             0.0       0.0                 West                       NaN  38.825274           NaN -77.009778                0.0                        0                     0                         0   82880           95 FORRESTER STREET SW      200.0  263.347                        0                     0                         0  399157.70  128623.88    38.825274    -77.009778            0.0          0.0                                         0.0          14039322      GALVESTON PL SW   0.0  109482912       172.288758   0.000000                      0.0            0.0                    0                       1.0            0.0   \n",
              "4  2200 SOUTH DAKOTA AVENUE NE       0.0                        0.0                   0             NaN      NaN  0.0  17010514  27191715        0.0                                0.0             2.0                0               0.0  {EF8064CF-B419-468F-B0D2-D5F777142E35}                0             0                 0  2017-01-19T05:00:00.000Z             0.0       0.0            Northwest                       NaN  38.920464           NaN -76.957954                1.0                        0                     0                         0  304441  3320 THEODORE R HAGANS DRIVE NE      200.0  372.161                        0                     0                         0  403599.77  139127.65    38.920464    -76.957954            0.0          0.0                                         0.0          12003332           33RD PL NE   0.0  109482913        56.061139   0.000000                      0.0            0.0                    0                       1.0            0.0   \n",
              "\n",
              "   Pickup Truck QUADRANT                REPORTDATE  ROADWAYSEGID   ROUTEID  SPEEDING_INVOLVED  STREETSEGID STREETTYPE SUBBLOCKKEY  Snow Mobile  Suv (sport Utility Vehicle)  TODATE  TOTAL_BICYCLES  TOTAL_GOVERNMENT  TOTAL_PEDESTRIANS  TOTAL_TAXIS  TOTAL_VEHICLES  Trailer  True_x  True_y  UNKNOWNINJURIES_BICYCLIST  UNKNOWNINJURIES_DRIVER  UNKNOWNINJURIES_PEDESTRIAN    WARD  Watercraft/boat          X      XCOORD          Y      YCOORD  \n",
              "0           0.0       SE  2017-01-19T18:56:20.000Z        2398.0  13001702                  0         5431         ST         NaN          0.0                          2.0     NaN               0                 1                  0            0               2      0.0     0.0     0.0                          0                       0                           0  Ward 6              0.0 -76.980766  401668.840  38.889685  135759.618  \n",
              "1           0.0       NW  2018-05-27T05:47:21.000Z        9510.0  11042902                  0         6921         ST         NaN          0.0                          0.0     NaN               0                 0                  0            0               2      0.0     0.0     0.0                          0                       0                           0  Ward 4              0.0 -77.029993  397400.439  38.952914  142778.768  \n",
              "2           0.0      NaN  2017-08-26T04:18:45.000Z       28725.0  47061782                  0           -9        NaN         NaN          0.0                          0.0     NaN               0                 0                  0            0               1      0.0     0.0     0.0                          0                       0                           0  Ward 5              0.0 -76.989326  400925.959  38.912538  138296.279  \n",
              "3           0.0       SW  2017-01-19T19:01:35.000Z        1052.0  14036982                  0         2270         ST         NaN          0.0                          0.0     NaN               0                 0                  0            0               4      0.0     0.0     0.0                          0                       0                           0  Ward 8              0.0 -77.009782  399150.748  38.825201  128601.264  \n",
              "4           0.0       NE  2017-01-19T19:01:37.000Z       36763.0  12081442                  0         9851        AVE         NaN          0.0                          0.0     NaN               0                 0                  0            0               2      0.0     2.0     0.0                          0                       0                           0  Ward 5              0.0 -76.958041  403638.852  38.920396  139169.372  "
            ]
          },
          "metadata": {
            "tags": []
          },
          "execution_count": 12
        }
      ]
    },
    {
      "cell_type": "markdown",
      "metadata": {
        "id": "thZx_QIvvP79",
        "colab_type": "text"
      },
      "source": [
        "#Cleaning"
      ]
    },
    {
      "cell_type": "code",
      "metadata": {
        "id": "n4DzsYljvTDl",
        "colab_type": "code",
        "outputId": "216b7f29-a83f-4640-8d79-922b2a135070",
        "colab": {
          "base_uri": "https://localhost:8080/",
          "height": 518
        }
      },
      "source": [
        "df.head()"
      ],
      "execution_count": 13,
      "outputs": [
        {
          "output_type": "execute_result",
          "data": {
            "text/html": [
              "<div>\n",
              "<style scoped>\n",
              "    .dataframe tbody tr th:only-of-type {\n",
              "        vertical-align: middle;\n",
              "    }\n",
              "\n",
              "    .dataframe tbody tr th {\n",
              "        vertical-align: top;\n",
              "    }\n",
              "\n",
              "    .dataframe thead th {\n",
              "        text-align: right;\n",
              "    }\n",
              "</style>\n",
              "<table border=\"1\" class=\"dataframe\">\n",
              "  <thead>\n",
              "    <tr style=\"text-align: right;\">\n",
              "      <th></th>\n",
              "      <th>ADDRESS</th>\n",
              "      <th>Aircraft</th>\n",
              "      <th>Atv (all Terrain Vehicle)</th>\n",
              "      <th>BICYCLISTSIMPAIRED</th>\n",
              "      <th>BIKELANELENGTH</th>\n",
              "      <th>BLOCKKEY</th>\n",
              "      <th>Bus</th>\n",
              "      <th>CCN</th>\n",
              "      <th>CRIMEID</th>\n",
              "      <th>Cargo Van</th>\n",
              "      <th>Construction/industrial Equipment</th>\n",
              "      <th>DIRECTIONALITY</th>\n",
              "      <th>DRIVERSIMPAIRED</th>\n",
              "      <th>Drugs/ Narcotics</th>\n",
              "      <th>EVENTID</th>\n",
              "      <th>FATAL_BICYCLIST</th>\n",
              "      <th>FATAL_DRIVER</th>\n",
              "      <th>FATAL_PEDESTRIAN</th>\n",
              "      <th>FROMDATE</th>\n",
              "      <th>Farm Equipment</th>\n",
              "      <th>Firearms</th>\n",
              "      <th>INTAPPROACHDIRECTION</th>\n",
              "      <th>LASTUPDATEDATE</th>\n",
              "      <th>LATITUDE</th>\n",
              "      <th>LOCATIONERROR</th>\n",
              "      <th>LONGITUDE</th>\n",
              "      <th>Large/heavy Truck</th>\n",
              "      <th>MAJORINJURIES_BICYCLIST</th>\n",
              "      <th>MAJORINJURIES_DRIVER</th>\n",
              "      <th>MAJORINJURIES_PEDESTRIAN</th>\n",
              "      <th>MARID</th>\n",
              "      <th>MAR_ADDRESS</th>\n",
              "      <th>MAR_SCORE</th>\n",
              "      <th>MEASURE</th>\n",
              "      <th>MINORINJURIES_BICYCLIST</th>\n",
              "      <th>MINORINJURIES_DRIVER</th>\n",
              "      <th>MINORINJURIES_PEDESTRIAN</th>\n",
              "      <th>MPDGEOX</th>\n",
              "      <th>MPDGEOY</th>\n",
              "      <th>MPDLATITUDE</th>\n",
              "      <th>MPDLONGITUDE</th>\n",
              "      <th>Moped/scooter</th>\n",
              "      <th>Motor Cycle</th>\n",
              "      <th>Motorhome/camper/rv (recreational Vehicle)</th>\n",
              "      <th>NEARESTINTROUTEID</th>\n",
              "      <th>NEARESTINTSTREETNAME</th>\n",
              "      <th>None</th>\n",
              "      <th>OBJECTID</th>\n",
              "      <th>OFFINTERSECTION</th>\n",
              "      <th>OFFSET</th>\n",
              "      <th>Other Small/light Truck</th>\n",
              "      <th>Other Vehicle</th>\n",
              "      <th>PEDESTRIANSIMPAIRED</th>\n",
              "      <th>Passenger Car/automobile</th>\n",
              "      <th>Passenger Van</th>\n",
              "      <th>Pickup Truck</th>\n",
              "      <th>QUADRANT</th>\n",
              "      <th>REPORTDATE</th>\n",
              "      <th>ROADWAYSEGID</th>\n",
              "      <th>ROUTEID</th>\n",
              "      <th>SPEEDING_INVOLVED</th>\n",
              "      <th>STREETSEGID</th>\n",
              "      <th>STREETTYPE</th>\n",
              "      <th>SUBBLOCKKEY</th>\n",
              "      <th>Snow Mobile</th>\n",
              "      <th>Suv (sport Utility Vehicle)</th>\n",
              "      <th>TODATE</th>\n",
              "      <th>TOTAL_BICYCLES</th>\n",
              "      <th>TOTAL_GOVERNMENT</th>\n",
              "      <th>TOTAL_PEDESTRIANS</th>\n",
              "      <th>TOTAL_TAXIS</th>\n",
              "      <th>TOTAL_VEHICLES</th>\n",
              "      <th>Trailer</th>\n",
              "      <th>True_x</th>\n",
              "      <th>True_y</th>\n",
              "      <th>UNKNOWNINJURIES_BICYCLIST</th>\n",
              "      <th>UNKNOWNINJURIES_DRIVER</th>\n",
              "      <th>UNKNOWNINJURIES_PEDESTRIAN</th>\n",
              "      <th>WARD</th>\n",
              "      <th>Watercraft/boat</th>\n",
              "      <th>X</th>\n",
              "      <th>XCOORD</th>\n",
              "      <th>Y</th>\n",
              "      <th>YCOORD</th>\n",
              "    </tr>\n",
              "  </thead>\n",
              "  <tbody>\n",
              "    <tr>\n",
              "      <th>0</th>\n",
              "      <td>21 17TH ST SE</td>\n",
              "      <td>0.0</td>\n",
              "      <td>0.0</td>\n",
              "      <td>0</td>\n",
              "      <td>NaN</td>\n",
              "      <td>NaN</td>\n",
              "      <td>0.0</td>\n",
              "      <td>17010515</td>\n",
              "      <td>27191710</td>\n",
              "      <td>0.0</td>\n",
              "      <td>0.0</td>\n",
              "      <td>0.0</td>\n",
              "      <td>0</td>\n",
              "      <td>0.0</td>\n",
              "      <td>{9AC03520-FDDA-4D43-848E-95EAF2FC8E74}</td>\n",
              "      <td>0</td>\n",
              "      <td>0</td>\n",
              "      <td>0</td>\n",
              "      <td>2017-01-19T05:00:00.000Z</td>\n",
              "      <td>0.0</td>\n",
              "      <td>0.0</td>\n",
              "      <td>South</td>\n",
              "      <td>NaN</td>\n",
              "      <td>38.889678</td>\n",
              "      <td>NaN</td>\n",
              "      <td>-76.980710</td>\n",
              "      <td>0.0</td>\n",
              "      <td>0</td>\n",
              "      <td>0</td>\n",
              "      <td>0</td>\n",
              "      <td>58951</td>\n",
              "      <td>1635 EAST CAPITOL STREET SE</td>\n",
              "      <td>200.0</td>\n",
              "      <td>13.411</td>\n",
              "      <td>0</td>\n",
              "      <td>0</td>\n",
              "      <td>0</td>\n",
              "      <td>NaN</td>\n",
              "      <td>NaN</td>\n",
              "      <td>38.889678</td>\n",
              "      <td>-76.980710</td>\n",
              "      <td>0.0</td>\n",
              "      <td>0.0</td>\n",
              "      <td>0.0</td>\n",
              "      <td>12001702</td>\n",
              "      <td>17TH ST NE</td>\n",
              "      <td>0.0</td>\n",
              "      <td>109482909</td>\n",
              "      <td>14.334858</td>\n",
              "      <td>0.000000</td>\n",
              "      <td>0.0</td>\n",
              "      <td>0.0</td>\n",
              "      <td>0</td>\n",
              "      <td>1.0</td>\n",
              "      <td>0.0</td>\n",
              "      <td>0.0</td>\n",
              "      <td>SE</td>\n",
              "      <td>2017-01-19T18:56:20.000Z</td>\n",
              "      <td>2398.0</td>\n",
              "      <td>13001702</td>\n",
              "      <td>0</td>\n",
              "      <td>5431</td>\n",
              "      <td>ST</td>\n",
              "      <td>NaN</td>\n",
              "      <td>0.0</td>\n",
              "      <td>2.0</td>\n",
              "      <td>NaN</td>\n",
              "      <td>0</td>\n",
              "      <td>1</td>\n",
              "      <td>0</td>\n",
              "      <td>0</td>\n",
              "      <td>2</td>\n",
              "      <td>0.0</td>\n",
              "      <td>0.0</td>\n",
              "      <td>0.0</td>\n",
              "      <td>0</td>\n",
              "      <td>0</td>\n",
              "      <td>0</td>\n",
              "      <td>Ward 6</td>\n",
              "      <td>0.0</td>\n",
              "      <td>-76.980766</td>\n",
              "      <td>401668.840</td>\n",
              "      <td>38.889685</td>\n",
              "      <td>135759.618</td>\n",
              "    </tr>\n",
              "    <tr>\n",
              "      <th>1</th>\n",
              "      <td>5200 13TH STREET NW</td>\n",
              "      <td>0.0</td>\n",
              "      <td>0.0</td>\n",
              "      <td>0</td>\n",
              "      <td>NaN</td>\n",
              "      <td>NaN</td>\n",
              "      <td>0.0</td>\n",
              "      <td>18085167</td>\n",
              "      <td>27688005</td>\n",
              "      <td>0.0</td>\n",
              "      <td>0.0</td>\n",
              "      <td>2.0</td>\n",
              "      <td>0</td>\n",
              "      <td>0.0</td>\n",
              "      <td>{5B7C4496-EAFE-4681-BFE4-602357ADBA39}</td>\n",
              "      <td>0</td>\n",
              "      <td>0</td>\n",
              "      <td>0</td>\n",
              "      <td>2018-05-26T04:00:00.000Z</td>\n",
              "      <td>0.0</td>\n",
              "      <td>0.0</td>\n",
              "      <td>West</td>\n",
              "      <td>2018-05-30T14:33:06.000Z</td>\n",
              "      <td>38.952907</td>\n",
              "      <td>NaN</td>\n",
              "      <td>-77.029990</td>\n",
              "      <td>0.0</td>\n",
              "      <td>0</td>\n",
              "      <td>0</td>\n",
              "      <td>0</td>\n",
              "      <td>254976</td>\n",
              "      <td>5200 13TH STREET NW</td>\n",
              "      <td>200.0</td>\n",
              "      <td>25.472</td>\n",
              "      <td>0</td>\n",
              "      <td>2</td>\n",
              "      <td>0</td>\n",
              "      <td>397400.55</td>\n",
              "      <td>142798.38</td>\n",
              "      <td>38.952885</td>\n",
              "      <td>-77.029683</td>\n",
              "      <td>0.0</td>\n",
              "      <td>0.0</td>\n",
              "      <td>0.0</td>\n",
              "      <td>11001302</td>\n",
              "      <td>13TH ST NW</td>\n",
              "      <td>0.0</td>\n",
              "      <td>109482910</td>\n",
              "      <td>2.464102</td>\n",
              "      <td>19.612804</td>\n",
              "      <td>0.0</td>\n",
              "      <td>0.0</td>\n",
              "      <td>0</td>\n",
              "      <td>2.0</td>\n",
              "      <td>0.0</td>\n",
              "      <td>0.0</td>\n",
              "      <td>NW</td>\n",
              "      <td>2018-05-27T05:47:21.000Z</td>\n",
              "      <td>9510.0</td>\n",
              "      <td>11042902</td>\n",
              "      <td>0</td>\n",
              "      <td>6921</td>\n",
              "      <td>ST</td>\n",
              "      <td>NaN</td>\n",
              "      <td>0.0</td>\n",
              "      <td>0.0</td>\n",
              "      <td>NaN</td>\n",
              "      <td>0</td>\n",
              "      <td>0</td>\n",
              "      <td>0</td>\n",
              "      <td>0</td>\n",
              "      <td>2</td>\n",
              "      <td>0.0</td>\n",
              "      <td>0.0</td>\n",
              "      <td>0.0</td>\n",
              "      <td>0</td>\n",
              "      <td>0</td>\n",
              "      <td>0</td>\n",
              "      <td>Ward 4</td>\n",
              "      <td>0.0</td>\n",
              "      <td>-77.029993</td>\n",
              "      <td>397400.439</td>\n",
              "      <td>38.952914</td>\n",
              "      <td>142778.768</td>\n",
              "    </tr>\n",
              "    <tr>\n",
              "      <th>2</th>\n",
              "      <td>956 MOUNT OLIVET ROAD NE</td>\n",
              "      <td>0.0</td>\n",
              "      <td>0.0</td>\n",
              "      <td>0</td>\n",
              "      <td>NaN</td>\n",
              "      <td>NaN</td>\n",
              "      <td>0.0</td>\n",
              "      <td>17147314</td>\n",
              "      <td>27412026</td>\n",
              "      <td>0.0</td>\n",
              "      <td>0.0</td>\n",
              "      <td>NaN</td>\n",
              "      <td>0</td>\n",
              "      <td>0.0</td>\n",
              "      <td>{AA7672E8-9AD6-4DF5-99A2-485C44F778AC}</td>\n",
              "      <td>0</td>\n",
              "      <td>0</td>\n",
              "      <td>0</td>\n",
              "      <td>2017-08-25T04:00:00.000Z</td>\n",
              "      <td>0.0</td>\n",
              "      <td>0.0</td>\n",
              "      <td>East</td>\n",
              "      <td>NaN</td>\n",
              "      <td>38.912530</td>\n",
              "      <td>NaN</td>\n",
              "      <td>-76.989323</td>\n",
              "      <td>0.0</td>\n",
              "      <td>0</td>\n",
              "      <td>0</td>\n",
              "      <td>0</td>\n",
              "      <td>285877</td>\n",
              "      <td>1125 OKIE STREET NE</td>\n",
              "      <td>200.0</td>\n",
              "      <td>6.668</td>\n",
              "      <td>0</td>\n",
              "      <td>1</td>\n",
              "      <td>0</td>\n",
              "      <td>400869.06</td>\n",
              "      <td>138300.03</td>\n",
              "      <td>38.912540</td>\n",
              "      <td>-76.989318</td>\n",
              "      <td>0.0</td>\n",
              "      <td>0.0</td>\n",
              "      <td>0.0</td>\n",
              "      <td>12062462</td>\n",
              "      <td>MOUNT OLIVET RD NE</td>\n",
              "      <td>0.0</td>\n",
              "      <td>109482911</td>\n",
              "      <td>81.113797</td>\n",
              "      <td>1.181367</td>\n",
              "      <td>0.0</td>\n",
              "      <td>0.0</td>\n",
              "      <td>0</td>\n",
              "      <td>1.0</td>\n",
              "      <td>0.0</td>\n",
              "      <td>0.0</td>\n",
              "      <td>NaN</td>\n",
              "      <td>2017-08-26T04:18:45.000Z</td>\n",
              "      <td>28725.0</td>\n",
              "      <td>47061782</td>\n",
              "      <td>0</td>\n",
              "      <td>-9</td>\n",
              "      <td>NaN</td>\n",
              "      <td>NaN</td>\n",
              "      <td>0.0</td>\n",
              "      <td>0.0</td>\n",
              "      <td>NaN</td>\n",
              "      <td>0</td>\n",
              "      <td>0</td>\n",
              "      <td>0</td>\n",
              "      <td>0</td>\n",
              "      <td>1</td>\n",
              "      <td>0.0</td>\n",
              "      <td>0.0</td>\n",
              "      <td>0.0</td>\n",
              "      <td>0</td>\n",
              "      <td>0</td>\n",
              "      <td>0</td>\n",
              "      <td>Ward 5</td>\n",
              "      <td>0.0</td>\n",
              "      <td>-76.989326</td>\n",
              "      <td>400925.959</td>\n",
              "      <td>38.912538</td>\n",
              "      <td>138296.279</td>\n",
              "    </tr>\n",
              "    <tr>\n",
              "      <th>3</th>\n",
              "      <td>77 FORRESTER STREET SW</td>\n",
              "      <td>0.0</td>\n",
              "      <td>0.0</td>\n",
              "      <td>0</td>\n",
              "      <td>NaN</td>\n",
              "      <td>NaN</td>\n",
              "      <td>0.0</td>\n",
              "      <td>17010532</td>\n",
              "      <td>27191714</td>\n",
              "      <td>0.0</td>\n",
              "      <td>0.0</td>\n",
              "      <td>0.0</td>\n",
              "      <td>0</td>\n",
              "      <td>0.0</td>\n",
              "      <td>{A4BB396B-2DAA-4132-AE90-3DBB53E718F4}</td>\n",
              "      <td>0</td>\n",
              "      <td>0</td>\n",
              "      <td>0</td>\n",
              "      <td>2017-01-19T05:00:00.000Z</td>\n",
              "      <td>0.0</td>\n",
              "      <td>0.0</td>\n",
              "      <td>West</td>\n",
              "      <td>NaN</td>\n",
              "      <td>38.825274</td>\n",
              "      <td>NaN</td>\n",
              "      <td>-77.009778</td>\n",
              "      <td>0.0</td>\n",
              "      <td>0</td>\n",
              "      <td>0</td>\n",
              "      <td>0</td>\n",
              "      <td>82880</td>\n",
              "      <td>95 FORRESTER STREET SW</td>\n",
              "      <td>200.0</td>\n",
              "      <td>263.347</td>\n",
              "      <td>0</td>\n",
              "      <td>0</td>\n",
              "      <td>0</td>\n",
              "      <td>399157.70</td>\n",
              "      <td>128623.88</td>\n",
              "      <td>38.825274</td>\n",
              "      <td>-77.009778</td>\n",
              "      <td>0.0</td>\n",
              "      <td>0.0</td>\n",
              "      <td>0.0</td>\n",
              "      <td>14039322</td>\n",
              "      <td>GALVESTON PL SW</td>\n",
              "      <td>0.0</td>\n",
              "      <td>109482912</td>\n",
              "      <td>172.288758</td>\n",
              "      <td>0.000000</td>\n",
              "      <td>0.0</td>\n",
              "      <td>0.0</td>\n",
              "      <td>0</td>\n",
              "      <td>1.0</td>\n",
              "      <td>0.0</td>\n",
              "      <td>0.0</td>\n",
              "      <td>SW</td>\n",
              "      <td>2017-01-19T19:01:35.000Z</td>\n",
              "      <td>1052.0</td>\n",
              "      <td>14036982</td>\n",
              "      <td>0</td>\n",
              "      <td>2270</td>\n",
              "      <td>ST</td>\n",
              "      <td>NaN</td>\n",
              "      <td>0.0</td>\n",
              "      <td>0.0</td>\n",
              "      <td>NaN</td>\n",
              "      <td>0</td>\n",
              "      <td>0</td>\n",
              "      <td>0</td>\n",
              "      <td>0</td>\n",
              "      <td>4</td>\n",
              "      <td>0.0</td>\n",
              "      <td>0.0</td>\n",
              "      <td>0.0</td>\n",
              "      <td>0</td>\n",
              "      <td>0</td>\n",
              "      <td>0</td>\n",
              "      <td>Ward 8</td>\n",
              "      <td>0.0</td>\n",
              "      <td>-77.009782</td>\n",
              "      <td>399150.748</td>\n",
              "      <td>38.825201</td>\n",
              "      <td>128601.264</td>\n",
              "    </tr>\n",
              "    <tr>\n",
              "      <th>4</th>\n",
              "      <td>2200 SOUTH DAKOTA AVENUE NE</td>\n",
              "      <td>0.0</td>\n",
              "      <td>0.0</td>\n",
              "      <td>0</td>\n",
              "      <td>NaN</td>\n",
              "      <td>NaN</td>\n",
              "      <td>0.0</td>\n",
              "      <td>17010514</td>\n",
              "      <td>27191715</td>\n",
              "      <td>0.0</td>\n",
              "      <td>0.0</td>\n",
              "      <td>2.0</td>\n",
              "      <td>0</td>\n",
              "      <td>0.0</td>\n",
              "      <td>{EF8064CF-B419-468F-B0D2-D5F777142E35}</td>\n",
              "      <td>0</td>\n",
              "      <td>0</td>\n",
              "      <td>0</td>\n",
              "      <td>2017-01-19T05:00:00.000Z</td>\n",
              "      <td>0.0</td>\n",
              "      <td>0.0</td>\n",
              "      <td>Northwest</td>\n",
              "      <td>NaN</td>\n",
              "      <td>38.920464</td>\n",
              "      <td>NaN</td>\n",
              "      <td>-76.957954</td>\n",
              "      <td>1.0</td>\n",
              "      <td>0</td>\n",
              "      <td>0</td>\n",
              "      <td>0</td>\n",
              "      <td>304441</td>\n",
              "      <td>3320 THEODORE R HAGANS DRIVE NE</td>\n",
              "      <td>200.0</td>\n",
              "      <td>372.161</td>\n",
              "      <td>0</td>\n",
              "      <td>0</td>\n",
              "      <td>0</td>\n",
              "      <td>403599.77</td>\n",
              "      <td>139127.65</td>\n",
              "      <td>38.920464</td>\n",
              "      <td>-76.957954</td>\n",
              "      <td>0.0</td>\n",
              "      <td>0.0</td>\n",
              "      <td>0.0</td>\n",
              "      <td>12003332</td>\n",
              "      <td>33RD PL NE</td>\n",
              "      <td>0.0</td>\n",
              "      <td>109482913</td>\n",
              "      <td>56.061139</td>\n",
              "      <td>0.000000</td>\n",
              "      <td>0.0</td>\n",
              "      <td>0.0</td>\n",
              "      <td>0</td>\n",
              "      <td>1.0</td>\n",
              "      <td>0.0</td>\n",
              "      <td>0.0</td>\n",
              "      <td>NE</td>\n",
              "      <td>2017-01-19T19:01:37.000Z</td>\n",
              "      <td>36763.0</td>\n",
              "      <td>12081442</td>\n",
              "      <td>0</td>\n",
              "      <td>9851</td>\n",
              "      <td>AVE</td>\n",
              "      <td>NaN</td>\n",
              "      <td>0.0</td>\n",
              "      <td>0.0</td>\n",
              "      <td>NaN</td>\n",
              "      <td>0</td>\n",
              "      <td>0</td>\n",
              "      <td>0</td>\n",
              "      <td>0</td>\n",
              "      <td>2</td>\n",
              "      <td>0.0</td>\n",
              "      <td>2.0</td>\n",
              "      <td>0.0</td>\n",
              "      <td>0</td>\n",
              "      <td>0</td>\n",
              "      <td>0</td>\n",
              "      <td>Ward 5</td>\n",
              "      <td>0.0</td>\n",
              "      <td>-76.958041</td>\n",
              "      <td>403638.852</td>\n",
              "      <td>38.920396</td>\n",
              "      <td>139169.372</td>\n",
              "    </tr>\n",
              "  </tbody>\n",
              "</table>\n",
              "</div>"
            ],
            "text/plain": [
              "                       ADDRESS  Aircraft  Atv (all Terrain Vehicle)  BICYCLISTSIMPAIRED  BIKELANELENGTH BLOCKKEY  Bus       CCN   CRIMEID  Cargo Van  Construction/industrial Equipment  DIRECTIONALITY  DRIVERSIMPAIRED  Drugs/ Narcotics                                 EVENTID  FATAL_BICYCLIST  FATAL_DRIVER  FATAL_PEDESTRIAN                  FROMDATE  Farm Equipment  Firearms INTAPPROACHDIRECTION            LASTUPDATEDATE   LATITUDE LOCATIONERROR  LONGITUDE  Large/heavy Truck  MAJORINJURIES_BICYCLIST  MAJORINJURIES_DRIVER  MAJORINJURIES_PEDESTRIAN   MARID                      MAR_ADDRESS  MAR_SCORE  MEASURE  MINORINJURIES_BICYCLIST  MINORINJURIES_DRIVER  MINORINJURIES_PEDESTRIAN    MPDGEOX    MPDGEOY  MPDLATITUDE  MPDLONGITUDE  Moped/scooter  Motor Cycle  Motorhome/camper/rv (recreational Vehicle) NEARESTINTROUTEID NEARESTINTSTREETNAME  None   OBJECTID  OFFINTERSECTION     OFFSET  Other Small/light Truck  Other Vehicle  PEDESTRIANSIMPAIRED  Passenger Car/automobile  Passenger Van  \\\n",
              "0                21 17TH ST SE       0.0                        0.0                   0             NaN      NaN  0.0  17010515  27191710        0.0                                0.0             0.0                0               0.0  {9AC03520-FDDA-4D43-848E-95EAF2FC8E74}                0             0                 0  2017-01-19T05:00:00.000Z             0.0       0.0                South                       NaN  38.889678           NaN -76.980710                0.0                        0                     0                         0   58951      1635 EAST CAPITOL STREET SE      200.0   13.411                        0                     0                         0        NaN        NaN    38.889678    -76.980710            0.0          0.0                                         0.0          12001702           17TH ST NE   0.0  109482909        14.334858   0.000000                      0.0            0.0                    0                       1.0            0.0   \n",
              "1          5200 13TH STREET NW       0.0                        0.0                   0             NaN      NaN  0.0  18085167  27688005        0.0                                0.0             2.0                0               0.0  {5B7C4496-EAFE-4681-BFE4-602357ADBA39}                0             0                 0  2018-05-26T04:00:00.000Z             0.0       0.0                 West  2018-05-30T14:33:06.000Z  38.952907           NaN -77.029990                0.0                        0                     0                         0  254976              5200 13TH STREET NW      200.0   25.472                        0                     2                         0  397400.55  142798.38    38.952885    -77.029683            0.0          0.0                                         0.0          11001302           13TH ST NW   0.0  109482910         2.464102  19.612804                      0.0            0.0                    0                       2.0            0.0   \n",
              "2     956 MOUNT OLIVET ROAD NE       0.0                        0.0                   0             NaN      NaN  0.0  17147314  27412026        0.0                                0.0             NaN                0               0.0  {AA7672E8-9AD6-4DF5-99A2-485C44F778AC}                0             0                 0  2017-08-25T04:00:00.000Z             0.0       0.0                 East                       NaN  38.912530           NaN -76.989323                0.0                        0                     0                         0  285877              1125 OKIE STREET NE      200.0    6.668                        0                     1                         0  400869.06  138300.03    38.912540    -76.989318            0.0          0.0                                         0.0          12062462   MOUNT OLIVET RD NE   0.0  109482911        81.113797   1.181367                      0.0            0.0                    0                       1.0            0.0   \n",
              "3       77 FORRESTER STREET SW       0.0                        0.0                   0             NaN      NaN  0.0  17010532  27191714        0.0                                0.0             0.0                0               0.0  {A4BB396B-2DAA-4132-AE90-3DBB53E718F4}                0             0                 0  2017-01-19T05:00:00.000Z             0.0       0.0                 West                       NaN  38.825274           NaN -77.009778                0.0                        0                     0                         0   82880           95 FORRESTER STREET SW      200.0  263.347                        0                     0                         0  399157.70  128623.88    38.825274    -77.009778            0.0          0.0                                         0.0          14039322      GALVESTON PL SW   0.0  109482912       172.288758   0.000000                      0.0            0.0                    0                       1.0            0.0   \n",
              "4  2200 SOUTH DAKOTA AVENUE NE       0.0                        0.0                   0             NaN      NaN  0.0  17010514  27191715        0.0                                0.0             2.0                0               0.0  {EF8064CF-B419-468F-B0D2-D5F777142E35}                0             0                 0  2017-01-19T05:00:00.000Z             0.0       0.0            Northwest                       NaN  38.920464           NaN -76.957954                1.0                        0                     0                         0  304441  3320 THEODORE R HAGANS DRIVE NE      200.0  372.161                        0                     0                         0  403599.77  139127.65    38.920464    -76.957954            0.0          0.0                                         0.0          12003332           33RD PL NE   0.0  109482913        56.061139   0.000000                      0.0            0.0                    0                       1.0            0.0   \n",
              "\n",
              "   Pickup Truck QUADRANT                REPORTDATE  ROADWAYSEGID   ROUTEID  SPEEDING_INVOLVED  STREETSEGID STREETTYPE SUBBLOCKKEY  Snow Mobile  Suv (sport Utility Vehicle)  TODATE  TOTAL_BICYCLES  TOTAL_GOVERNMENT  TOTAL_PEDESTRIANS  TOTAL_TAXIS  TOTAL_VEHICLES  Trailer  True_x  True_y  UNKNOWNINJURIES_BICYCLIST  UNKNOWNINJURIES_DRIVER  UNKNOWNINJURIES_PEDESTRIAN    WARD  Watercraft/boat          X      XCOORD          Y      YCOORD  \n",
              "0           0.0       SE  2017-01-19T18:56:20.000Z        2398.0  13001702                  0         5431         ST         NaN          0.0                          2.0     NaN               0                 1                  0            0               2      0.0     0.0     0.0                          0                       0                           0  Ward 6              0.0 -76.980766  401668.840  38.889685  135759.618  \n",
              "1           0.0       NW  2018-05-27T05:47:21.000Z        9510.0  11042902                  0         6921         ST         NaN          0.0                          0.0     NaN               0                 0                  0            0               2      0.0     0.0     0.0                          0                       0                           0  Ward 4              0.0 -77.029993  397400.439  38.952914  142778.768  \n",
              "2           0.0      NaN  2017-08-26T04:18:45.000Z       28725.0  47061782                  0           -9        NaN         NaN          0.0                          0.0     NaN               0                 0                  0            0               1      0.0     0.0     0.0                          0                       0                           0  Ward 5              0.0 -76.989326  400925.959  38.912538  138296.279  \n",
              "3           0.0       SW  2017-01-19T19:01:35.000Z        1052.0  14036982                  0         2270         ST         NaN          0.0                          0.0     NaN               0                 0                  0            0               4      0.0     0.0     0.0                          0                       0                           0  Ward 8              0.0 -77.009782  399150.748  38.825201  128601.264  \n",
              "4           0.0       NE  2017-01-19T19:01:37.000Z       36763.0  12081442                  0         9851        AVE         NaN          0.0                          0.0     NaN               0                 0                  0            0               2      0.0     2.0     0.0                          0                       0                           0  Ward 5              0.0 -76.958041  403638.852  38.920396  139169.372  "
            ]
          },
          "metadata": {
            "tags": []
          },
          "execution_count": 13
        }
      ]
    },
    {
      "cell_type": "code",
      "metadata": {
        "id": "G_Q1MuCfxuga",
        "colab_type": "code",
        "outputId": "c1792272-2b5f-4126-c21f-06d940ed388d",
        "colab": {
          "base_uri": "https://localhost:8080/",
          "height": 118
        }
      },
      "source": [
        "#create time series from date of crash\n",
        "df['FROMDATE'] = pd.to_datetime(df['FROMDATE'].str.slice(stop=10), infer_datetime_format = True)\n",
        "df['FROMDATE'].head()"
      ],
      "execution_count": 14,
      "outputs": [
        {
          "output_type": "execute_result",
          "data": {
            "text/plain": [
              "0   2017-01-19\n",
              "1   2018-05-26\n",
              "2   2017-08-25\n",
              "3   2017-01-19\n",
              "4   2017-01-19\n",
              "Name: FROMDATE, dtype: datetime64[ns]"
            ]
          },
          "metadata": {
            "tags": []
          },
          "execution_count": 14
        }
      ]
    },
    {
      "cell_type": "code",
      "metadata": {
        "id": "dTkG8s-4mR7w",
        "colab_type": "code",
        "colab": {}
      },
      "source": [
        "#drop observations recorded before 2000 because they are date entry errors (judgement call)\n",
        "\n",
        "df.drop(df.query('FROMDATE < 2000').index, inplace=True)\n"
      ],
      "execution_count": 0,
      "outputs": []
    },
    {
      "cell_type": "code",
      "metadata": {
        "id": "fCUorPMgnFP1",
        "colab_type": "code",
        "outputId": "e6620fd4-a81a-47f1-b9e9-6f9f82fa4432",
        "colab": {
          "base_uri": "https://localhost:8080/",
          "height": 134
        }
      },
      "source": [
        "df['FROMDATE'].describe()"
      ],
      "execution_count": 16,
      "outputs": [
        {
          "output_type": "execute_result",
          "data": {
            "text/plain": [
              "count                  215529\n",
              "unique                   4354\n",
              "top       2019-06-13 00:00:00\n",
              "freq                      251\n",
              "first     2000-01-01 00:00:00\n",
              "last      2019-09-26 00:00:00\n",
              "Name: FROMDATE, dtype: object"
            ]
          },
          "metadata": {
            "tags": []
          },
          "execution_count": 16
        }
      ]
    },
    {
      "cell_type": "code",
      "metadata": {
        "id": "0GPAXUtL1S_7",
        "colab_type": "code",
        "colab": {}
      },
      "source": [
        "#drop duplicate and ID columns\n",
        "df = df.drop(columns=['OBJECTID', 'CCN', 'EVENTID', 'BLOCKKEY', 'EVENTID', 'None'])  #\"none\" column is leftover from car_types merge, it means no cars were involved (illogical)"
      ],
      "execution_count": 0,
      "outputs": []
    },
    {
      "cell_type": "code",
      "metadata": {
        "id": "aU28JVOEVuQb",
        "colab_type": "code",
        "colab": {}
      },
      "source": [
        "#cleaning STREET SEGMENT ID\n",
        "df['STREETSEGID'] = (df['STREETSEGID'].replace(-9.0, np.nan)   #-9 is not a valid street segment id\n",
        "                                      .replace(0.0, np.nan)    #0 isnt a valid street segment id\n",
        "#                                       .astype(int)\n",
        "                    )\n",
        "#cleaning WARD attribute\n",
        "mode = df['WARD'].mode()[0]                                      #mode of WARD attribute\n",
        "\n",
        "df['WARD'] = df['WARD'].replace('Null', np.nan).fillna(value=df['WARD'].mode()[0])  #fill WARD attribute with mode of column (useful so column can be converted to int dtype)\n",
        "df['WARD'] = df['WARD'].str.replace('Ward ', '').astype(int)   #remove \"ward\" string from ward attribute\n"
      ],
      "execution_count": 0,
      "outputs": []
    },
    {
      "cell_type": "code",
      "metadata": {
        "id": "aK9Zjj8M2UF0",
        "colab_type": "code",
        "colab": {}
      },
      "source": [
        "# impute_mode = SimpleImputer(strategy='most_frequent')\n",
        "# impute_mean = SimpleImputer(strategy='median')\n",
        "\n",
        "# impute_mode.fit_transform(df.select_dtypes('object'))\n",
        "# impute_mean.fit_transform(df.select_dtypes('number'))"
      ],
      "execution_count": 0,
      "outputs": []
    },
    {
      "cell_type": "code",
      "metadata": {
        "id": "haQ259K32BDP",
        "colab_type": "code",
        "outputId": "7fec80d7-24f1-4316-c6bb-5ef3a654230c",
        "colab": {
          "base_uri": "https://localhost:8080/",
          "height": 229
        }
      },
      "source": [
        "#change Y/N to 0/1\n",
        "#will return an error, but still works?\n",
        "diction = {'N': 0, 'Y': 1}\n",
        "for col in df.columns:\n",
        "  if (df[col].unique().tolist() == ['N', 'Y']) | (df[col].unique().tolist() == ['Y', 'N']):\n",
        "    df[col] = df[col].replace(diction)\n",
        "  else:\n",
        "    pass"
      ],
      "execution_count": 20,
      "outputs": [
        {
          "output_type": "error",
          "ename": "AttributeError",
          "evalue": "ignored",
          "traceback": [
            "\u001b[0;31m---------------------------------------------------------------------------\u001b[0m",
            "\u001b[0;31mAttributeError\u001b[0m                            Traceback (most recent call last)",
            "\u001b[0;32m<ipython-input-20-20b566186e8d>\u001b[0m in \u001b[0;36m<module>\u001b[0;34m()\u001b[0m\n\u001b[1;32m      1\u001b[0m \u001b[0mdiction\u001b[0m \u001b[0;34m=\u001b[0m \u001b[0;34m{\u001b[0m\u001b[0;34m'N'\u001b[0m\u001b[0;34m:\u001b[0m \u001b[0;36m0\u001b[0m\u001b[0;34m,\u001b[0m \u001b[0;34m'Y'\u001b[0m\u001b[0;34m:\u001b[0m \u001b[0;36m1\u001b[0m\u001b[0;34m}\u001b[0m\u001b[0;34m\u001b[0m\u001b[0;34m\u001b[0m\u001b[0m\n\u001b[1;32m      2\u001b[0m \u001b[0;32mfor\u001b[0m \u001b[0mcol\u001b[0m \u001b[0;32min\u001b[0m \u001b[0mdf\u001b[0m\u001b[0;34m.\u001b[0m\u001b[0mcolumns\u001b[0m\u001b[0;34m:\u001b[0m\u001b[0;34m\u001b[0m\u001b[0;34m\u001b[0m\u001b[0m\n\u001b[0;32m----> 3\u001b[0;31m   \u001b[0;32mif\u001b[0m \u001b[0;34m(\u001b[0m\u001b[0mdf\u001b[0m\u001b[0;34m[\u001b[0m\u001b[0mcol\u001b[0m\u001b[0;34m]\u001b[0m\u001b[0;34m.\u001b[0m\u001b[0munique\u001b[0m\u001b[0;34m(\u001b[0m\u001b[0;34m)\u001b[0m\u001b[0;34m.\u001b[0m\u001b[0mtolist\u001b[0m\u001b[0;34m(\u001b[0m\u001b[0;34m)\u001b[0m \u001b[0;34m==\u001b[0m \u001b[0;34m[\u001b[0m\u001b[0;34m'N'\u001b[0m\u001b[0;34m,\u001b[0m \u001b[0;34m'Y'\u001b[0m\u001b[0;34m]\u001b[0m\u001b[0;34m)\u001b[0m \u001b[0;34m|\u001b[0m \u001b[0;34m(\u001b[0m\u001b[0mdf\u001b[0m\u001b[0;34m[\u001b[0m\u001b[0mcol\u001b[0m\u001b[0;34m]\u001b[0m\u001b[0;34m.\u001b[0m\u001b[0munique\u001b[0m\u001b[0;34m(\u001b[0m\u001b[0;34m)\u001b[0m\u001b[0;34m.\u001b[0m\u001b[0mtolist\u001b[0m\u001b[0;34m(\u001b[0m\u001b[0;34m)\u001b[0m \u001b[0;34m==\u001b[0m \u001b[0;34m[\u001b[0m\u001b[0;34m'Y'\u001b[0m\u001b[0;34m,\u001b[0m \u001b[0;34m'N'\u001b[0m\u001b[0;34m]\u001b[0m\u001b[0;34m)\u001b[0m\u001b[0;34m:\u001b[0m\u001b[0;34m\u001b[0m\u001b[0;34m\u001b[0m\u001b[0m\n\u001b[0m\u001b[1;32m      4\u001b[0m     \u001b[0mdf\u001b[0m\u001b[0;34m[\u001b[0m\u001b[0mcol\u001b[0m\u001b[0;34m]\u001b[0m \u001b[0;34m=\u001b[0m \u001b[0mdf\u001b[0m\u001b[0;34m[\u001b[0m\u001b[0mcol\u001b[0m\u001b[0;34m]\u001b[0m\u001b[0;34m.\u001b[0m\u001b[0mreplace\u001b[0m\u001b[0;34m(\u001b[0m\u001b[0mdiction\u001b[0m\u001b[0;34m)\u001b[0m\u001b[0;34m\u001b[0m\u001b[0;34m\u001b[0m\u001b[0m\n\u001b[1;32m      5\u001b[0m   \u001b[0;32melse\u001b[0m\u001b[0;34m:\u001b[0m\u001b[0;34m\u001b[0m\u001b[0;34m\u001b[0m\u001b[0m\n",
            "\u001b[0;31mAttributeError\u001b[0m: 'IntegerArray' object has no attribute 'tolist'"
          ]
        }
      ]
    },
    {
      "cell_type": "code",
      "metadata": {
        "id": "3bTmmlgPDCRT",
        "colab_type": "code",
        "colab": {}
      },
      "source": [
        "#change missing values of BIKELANELENGTH attribute to 0s\n",
        "#soon to be dropped, just need to know if there is a bikelane or not\n",
        "df['BIKELANELENGTH'] = df['BIKELANELENGTH'].replace(np.nan, 0)"
      ],
      "execution_count": 0,
      "outputs": []
    },
    {
      "cell_type": "code",
      "metadata": {
        "id": "MMFssYTLubzZ",
        "colab_type": "code",
        "outputId": "47b430f0-80f5-4ab1-91ae-c74970b2b59a",
        "colab": {
          "base_uri": "https://localhost:8080/",
          "height": 34
        }
      },
      "source": [
        "#drop columns where missing values are 35 percent or more of column\n",
        "\n",
        "for col in df.columns:\n",
        "  if df[col].isna().sum() >= .5 * df.shape[0]:\n",
        "    df = df.drop(columns=col)\n",
        "  else:\n",
        "    pass\n",
        "  \n",
        "df.shape"
      ],
      "execution_count": 22,
      "outputs": [
        {
          "output_type": "execute_result",
          "data": {
            "text/plain": [
              "(215536, 73)"
            ]
          },
          "metadata": {
            "tags": []
          },
          "execution_count": 22
        }
      ]
    },
    {
      "cell_type": "markdown",
      "metadata": {
        "id": "kSzceSGrUwWS",
        "colab_type": "text"
      },
      "source": [
        "#Engineering"
      ]
    },
    {
      "cell_type": "code",
      "metadata": {
        "id": "DDqaow4YFvoR",
        "colab_type": "code",
        "colab": {}
      },
      "source": [
        "#all the features that will be summed to become the target variable\n",
        "\n",
        "target_cols = df.columns[df.columns.str.contains('FATAL') | df.columns.str.contains('MAJOR')].tolist()\n",
        "\n",
        "target_numeric = df[target_cols].agg('sum', axis='columns')  #target column formatted numerically\n",
        "\n",
        "target_mask = target_numeric > 0                             #target mask returns with either True (major injury or fatality) or False (no major injury or fatality)\n",
        "\n",
        "df['MAJOR_INJURY_OR_FATAL'] = target_mask\n",
        "\n",
        "diction = {False: 0, True: 1}                                #change True/False to 0/1\n",
        "df['MAJOR_INJURY_OR_FATAL'] = df['MAJOR_INJURY_OR_FATAL'].replace(diction)"
      ],
      "execution_count": 0,
      "outputs": []
    },
    {
      "cell_type": "code",
      "metadata": {
        "id": "XNuMyOnw0BIt",
        "colab_type": "code",
        "outputId": "6e4be243-74eb-4fe5-d6a7-753143727504",
        "colab": {
          "base_uri": "https://localhost:8080/",
          "height": 67
        }
      },
      "source": [
        "df['MAJOR_INJURY_OR_FATAL'].value_counts()\n"
      ],
      "execution_count": 24,
      "outputs": [
        {
          "output_type": "execute_result",
          "data": {
            "text/plain": [
              "0    199482\n",
              "1     16054\n",
              "Name: MAJOR_INJURY_OR_FATAL, dtype: int64"
            ]
          },
          "metadata": {
            "tags": []
          },
          "execution_count": 24
        }
      ]
    },
    {
      "cell_type": "code",
      "metadata": {
        "id": "InKHJ6RsBWT_",
        "colab_type": "code",
        "outputId": "142815f7-cf1f-4d68-ad78-ed302170f054",
        "colab": {
          "base_uri": "https://localhost:8080/",
          "height": 50
        }
      },
      "source": [
        "##Bike lanes\n",
        "diction = {False: 1, True: 0}\n",
        "\n",
        "df['BIKE_LANE'] = df['BIKELANELENGTH'] == 0        #is there a bikelane (this is after NaNs are replaced with 0s)\n",
        "df['BIKE_LANE'] = df['BIKE_LANE'].replace(diction) #0 means no bikelane, 1 means bikelane\n",
        "\n",
        "df['BIKE_LANE'].value_counts()\n",
        "\n",
        "#drop BIKELANELENGTH, YEARINSTALLED, no longer useful\n",
        "print(df.shape)\n",
        "df = df.drop('BIKELANELENGTH', axis = 1)\n",
        "print(df.shape)"
      ],
      "execution_count": 25,
      "outputs": [
        {
          "output_type": "stream",
          "text": [
            "(215536, 75)\n",
            "(215536, 74)\n"
          ],
          "name": "stdout"
        }
      ]
    },
    {
      "cell_type": "code",
      "metadata": {
        "id": "OUB0xeemdDut",
        "colab_type": "code",
        "outputId": "984bd2bf-ea6d-462b-c8b0-43849031ea92",
        "colab": {
          "base_uri": "https://localhost:8080/",
          "height": 370
        }
      },
      "source": [
        "#YEAR of accident\n",
        "\n",
        "df['YEAR'] = df['FROMDATE'].dt.year\n",
        "df['YEAR'].value_counts()"
      ],
      "execution_count": 26,
      "outputs": [
        {
          "output_type": "execute_result",
          "data": {
            "text/plain": [
              "2016.0    26397\n",
              "2017.0    26275\n",
              "2018.0    26031\n",
              "2015.0    22155\n",
              "2019.0    19969\n",
              "2014.0    19287\n",
              "2013.0    17434\n",
              "2012.0    16433\n",
              "2011.0    13283\n",
              "2009.0    12786\n",
              "2010.0    12542\n",
              "2008.0     2727\n",
              "2000.0      126\n",
              "2006.0       22\n",
              "2007.0       17\n",
              "2005.0       16\n",
              "2001.0       13\n",
              "2004.0        6\n",
              "2003.0        5\n",
              "2002.0        5\n",
              "Name: YEAR, dtype: int64"
            ]
          },
          "metadata": {
            "tags": []
          },
          "execution_count": 26
        }
      ]
    },
    {
      "cell_type": "markdown",
      "metadata": {
        "id": "h8btrsAKivqN",
        "colab_type": "text"
      },
      "source": [
        "#Baseline Model"
      ]
    },
    {
      "cell_type": "code",
      "metadata": {
        "id": "ZY92ROicY35h",
        "colab_type": "code",
        "outputId": "c3d40ebb-4be0-4946-9c7f-0adf331f63f3",
        "colab": {
          "base_uri": "https://localhost:8080/",
          "height": 67
        }
      },
      "source": [
        "df['MAJOR_INJURY_OR_FATAL'].value_counts()"
      ],
      "execution_count": 27,
      "outputs": [
        {
          "output_type": "execute_result",
          "data": {
            "text/plain": [
              "0    199482\n",
              "1     16054\n",
              "Name: MAJOR_INJURY_OR_FATAL, dtype: int64"
            ]
          },
          "metadata": {
            "tags": []
          },
          "execution_count": 27
        }
      ]
    },
    {
      "cell_type": "code",
      "metadata": {
        "id": "YITM4HMslujS",
        "colab_type": "code",
        "outputId": "5e1ee8d8-0759-48a7-ab9c-83522bbcdea4",
        "colab": {
          "base_uri": "https://localhost:8080/",
          "height": 67
        }
      },
      "source": [
        "df['MAJOR_INJURY_OR_FATAL'].value_counts(normalize=True)"
      ],
      "execution_count": 28,
      "outputs": [
        {
          "output_type": "execute_result",
          "data": {
            "text/plain": [
              "0    0.925516\n",
              "1    0.074484\n",
              "Name: MAJOR_INJURY_OR_FATAL, dtype: float64"
            ]
          },
          "metadata": {
            "tags": []
          },
          "execution_count": 28
        }
      ]
    },
    {
      "cell_type": "code",
      "metadata": {
        "id": "lF2WPpKhjMfJ",
        "colab_type": "code",
        "outputId": "e0f7ba20-dfb9-40c7-db36-d267798a57f3",
        "colab": {
          "base_uri": "https://localhost:8080/",
          "height": 84
        }
      },
      "source": [
        "y_pred = [0] * df.shape[0]\n",
        "print('Baseline accuracy score:', accuracy_score(df['MAJOR_INJURY_OR_FATAL'], y_pred))\n",
        "#Despite high accuracy, baseline model is useless because false negatives are very costly to society\n",
        "print(confusion_matrix(df['MAJOR_INJURY_OR_FATAL'], y_pred))\n",
        "\n",
        "print(16054/199482)"
      ],
      "execution_count": 29,
      "outputs": [
        {
          "output_type": "stream",
          "text": [
            "Baseline accuracy score: 0.9255159230940538\n",
            "[[199482      0]\n",
            " [ 16054      0]]\n",
            "0.08047843915741772\n"
          ],
          "name": "stdout"
        }
      ]
    },
    {
      "cell_type": "markdown",
      "metadata": {
        "id": "jJU87_3gQMsv",
        "colab_type": "text"
      },
      "source": [
        "#Exploration"
      ]
    },
    {
      "cell_type": "code",
      "metadata": {
        "id": "oNQRXCDGL7oe",
        "colab_type": "code",
        "colab": {}
      },
      "source": [
        "df.head(2)"
      ],
      "execution_count": 0,
      "outputs": []
    },
    {
      "cell_type": "code",
      "metadata": {
        "id": "Y0q6OcutBk-_",
        "colab_type": "code",
        "colab": {}
      },
      "source": [
        "df.groupby('WARD')['MAJOR_INJURY_OR_FATAL'].mean().plot.bar()\n",
        "plt.title('Probability of Major Injury or Death from Car Accident by DC Ward')"
      ],
      "execution_count": 0,
      "outputs": []
    },
    {
      "cell_type": "code",
      "metadata": {
        "id": "r0QrNH1ZP1vO",
        "colab_type": "code",
        "colab": {}
      },
      "source": [
        "df.groupby('BIKE_LANE')['MAJOR_INJURY_OR_FATAL'].mean().plot.bar()"
      ],
      "execution_count": 0,
      "outputs": []
    },
    {
      "cell_type": "code",
      "metadata": {
        "id": "N7fW86FVXA-e",
        "colab_type": "code",
        "colab": {}
      },
      "source": [
        "df.groupby('DRIVERSIMPAIRED')['MAJOR_INJURY_OR_FATAL'].mean().plot.bar()"
      ],
      "execution_count": 0,
      "outputs": []
    },
    {
      "cell_type": "code",
      "metadata": {
        "id": "KA4BYN2LXOyS",
        "colab_type": "code",
        "colab": {}
      },
      "source": [
        "df.groupby('SPEEDING')['MAJOR_INJURY_OR_FATAL'].mean().plot.bar()"
      ],
      "execution_count": 0,
      "outputs": []
    },
    {
      "cell_type": "code",
      "metadata": {
        "id": "pzN7fvQ3Ypjk",
        "colab_type": "code",
        "colab": {}
      },
      "source": [
        "df.groupby('INTAPPROACHDIRECTION')['MAJOR_INJURY_OR_FATAL'].mean().plot.bar()"
      ],
      "execution_count": 0,
      "outputs": []
    },
    {
      "cell_type": "code",
      "metadata": {
        "id": "s52ieBN_MVPi",
        "colab_type": "code",
        "colab": {}
      },
      "source": [
        "df.groupby('SPEEDING_INVOLVED')['MAJOR_INJURY_OR_FATAL'].mean().plot.bar()"
      ],
      "execution_count": 0,
      "outputs": []
    },
    {
      "cell_type": "code",
      "metadata": {
        "id": "JPvaUH1tNC9a",
        "colab_type": "code",
        "colab": {}
      },
      "source": [
        "df.groupby('STREETTYPE')['MAJOR_INJURY_OR_FATAL'].mean().plot.bar()"
      ],
      "execution_count": 0,
      "outputs": []
    },
    {
      "cell_type": "code",
      "metadata": {
        "id": "G3Ytf7k0Nppf",
        "colab_type": "code",
        "colab": {}
      },
      "source": [
        "df['OFFINTERSECTION'].hist(range=(0, 250), bins=25)"
      ],
      "execution_count": 0,
      "outputs": []
    },
    {
      "cell_type": "code",
      "metadata": {
        "id": "UDq6qELhY7ic",
        "colab_type": "code",
        "colab": {}
      },
      "source": [
        "px.set_mapbox_access_token(open(\".mapbox_token\").read())\n",
        "\n",
        "px.scatter_mapbox(df, lat='X', lon= 'Y', color='MAJOR_INJURY_OR_FATAL')"
      ],
      "execution_count": 0,
      "outputs": []
    },
    {
      "cell_type": "markdown",
      "metadata": {
        "id": "0u3CVw9Hd98y",
        "colab_type": "text"
      },
      "source": [
        "#Split"
      ]
    },
    {
      "cell_type": "code",
      "metadata": {
        "colab_type": "code",
        "outputId": "0b0028d1-9992-43be-ef2c-15a66d03c181",
        "id": "S4XXpACYLVNx",
        "colab": {
          "base_uri": "https://localhost:8080/",
          "height": 34
        }
      },
      "source": [
        "test_mask = df['YEAR'] >= 2019\n",
        "train = df[~test_mask]\n",
        "test = df[test_mask]\n",
        "\n",
        "val_mask = train['YEAR'] < 2017\n",
        "val = train[~val_mask]\n",
        "train = train[val_mask]\n",
        "\n",
        "\n",
        "train.shape, val.shape, test.shape"
      ],
      "execution_count": 68,
      "outputs": [
        {
          "output_type": "execute_result",
          "data": {
            "text/plain": [
              "((143254, 75), (52313, 75), (19969, 75))"
            ]
          },
          "metadata": {
            "tags": []
          },
          "execution_count": 68
        }
      ]
    },
    {
      "cell_type": "code",
      "metadata": {
        "id": "5o-z6H6DO3-0",
        "colab_type": "code",
        "outputId": "e2d4c098-30bb-4c7e-a1b8-41666491c32f",
        "colab": {
          "base_uri": "https://localhost:8080/",
          "height": 110
        }
      },
      "source": [
        "df.select_dtypes('object').head(1)"
      ],
      "execution_count": 31,
      "outputs": [
        {
          "output_type": "execute_result",
          "data": {
            "text/html": [
              "<div>\n",
              "<style scoped>\n",
              "    .dataframe tbody tr th:only-of-type {\n",
              "        vertical-align: middle;\n",
              "    }\n",
              "\n",
              "    .dataframe tbody tr th {\n",
              "        vertical-align: top;\n",
              "    }\n",
              "\n",
              "    .dataframe thead th {\n",
              "        text-align: right;\n",
              "    }\n",
              "</style>\n",
              "<table border=\"1\" class=\"dataframe\">\n",
              "  <thead>\n",
              "    <tr style=\"text-align: right;\">\n",
              "      <th></th>\n",
              "      <th>ADDRESS</th>\n",
              "      <th>INTAPPROACHDIRECTION</th>\n",
              "      <th>MAR_ADDRESS</th>\n",
              "      <th>NEARESTINTROUTEID</th>\n",
              "      <th>NEARESTINTSTREETNAME</th>\n",
              "      <th>QUADRANT</th>\n",
              "      <th>REPORTDATE</th>\n",
              "      <th>ROUTEID</th>\n",
              "      <th>STREETTYPE</th>\n",
              "    </tr>\n",
              "  </thead>\n",
              "  <tbody>\n",
              "    <tr>\n",
              "      <th>0</th>\n",
              "      <td>21 17TH ST SE</td>\n",
              "      <td>South</td>\n",
              "      <td>1635 EAST CAPITOL STREET SE</td>\n",
              "      <td>12001702</td>\n",
              "      <td>17TH ST NE</td>\n",
              "      <td>SE</td>\n",
              "      <td>2017-01-19T18:56:20.000Z</td>\n",
              "      <td>13001702</td>\n",
              "      <td>ST</td>\n",
              "    </tr>\n",
              "  </tbody>\n",
              "</table>\n",
              "</div>"
            ],
            "text/plain": [
              "         ADDRESS INTAPPROACHDIRECTION                  MAR_ADDRESS NEARESTINTROUTEID NEARESTINTSTREETNAME QUADRANT                REPORTDATE   ROUTEID STREETTYPE\n",
              "0  21 17TH ST SE                South  1635 EAST CAPITOL STREET SE          12001702           17TH ST NE       SE  2017-01-19T18:56:20.000Z  13001702         ST"
            ]
          },
          "metadata": {
            "tags": []
          },
          "execution_count": 31
        }
      ]
    },
    {
      "cell_type": "code",
      "metadata": {
        "id": "7faC-s0rLZ8q",
        "colab_type": "code",
        "outputId": "4c3ba624-d807-4703-d7b6-ab1636894ae4",
        "colab": {
          "base_uri": "https://localhost:8080/",
          "height": 50
        }
      },
      "source": [
        "df.select_dtypes('datetime').nunique()"
      ],
      "execution_count": 51,
      "outputs": [
        {
          "output_type": "execute_result",
          "data": {
            "text/plain": [
              "FROMDATE    4354\n",
              "dtype: int64"
            ]
          },
          "metadata": {
            "tags": []
          },
          "execution_count": 51
        }
      ]
    },
    {
      "cell_type": "code",
      "metadata": {
        "id": "OofSCxvne23a",
        "colab_type": "code",
        "outputId": "028e449d-d1e4-40e7-87dd-31fb3054a233",
        "colab": {
          "base_uri": "https://localhost:8080/",
          "height": 34
        }
      },
      "source": [
        "target = 'MAJOR_INJURY_OR_FATAL'\n",
        "columns_avoid = [target,\n",
        " 'CRIMEID',\n",
        " 'FROMDATE',\n",
        " 'ADDRESS',\n",
        " 'MAR_ADDRESS',\n",
        " 'NEARESTINTROUTEID',\n",
        " 'NEARESTINTSTREETNAME',\n",
        " 'REPORTDATE',\n",
        " 'ROUTEID',\n",
        "#  'STREETTYPE',\n",
        " 'MAJORINJURIES_BICYCLIST',\n",
        " 'MAJORINJURIES_DRIVER',\n",
        " 'MAJORINJURIES_PEDESTRIAN',\n",
        " 'MINORINJURIES_BICYCLIST',\n",
        " 'MINORINJURIES_DRIVER',\n",
        " 'MINORINJURIES_PEDESTRIAN'\n",
        " 'FATAL_BICYCLIST',\n",
        " 'FATAL_DRIVER',\n",
        " 'FATAL_PEDESTRIAN']\n",
        "features = df.columns[~df.columns.isin(columns_avoid)]\n",
        "\n",
        "X_train = train[features]\n",
        "y_train = train[target]\n",
        "\n",
        "X_val = val[features]\n",
        "y_val = val[target]\n",
        "\n",
        "X_test = test[features]\n",
        "y_test = test[target]\n",
        "\n",
        "X_train.shape, y_train.shape, X_val.shape, y_val.shape, X_test.shape, y_test.shape"
      ],
      "execution_count": 69,
      "outputs": [
        {
          "output_type": "execute_result",
          "data": {
            "text/plain": [
              "((143254, 59), (143254,), (52313, 59), (52313,), (19969, 59), (19969,))"
            ]
          },
          "metadata": {
            "tags": []
          },
          "execution_count": 69
        }
      ]
    },
    {
      "cell_type": "markdown",
      "metadata": {
        "id": "e1oEpjNFQh-7",
        "colab_type": "text"
      },
      "source": [
        "#Logistic Regression"
      ]
    },
    {
      "cell_type": "code",
      "metadata": {
        "id": "AcgTvtY0hY8I",
        "colab_type": "code",
        "colab": {}
      },
      "source": [
        "pipeline = make_pipeline(\n",
        "    OneHotEncoder(),\n",
        "    SimpleImputer(strategy='median'),\n",
        "    StandardScaler(),\n",
        "    SelectKBest(k=15),\n",
        "    LogisticRegressionCV(n_jobs=-1))"
      ],
      "execution_count": 0,
      "outputs": []
    },
    {
      "cell_type": "code",
      "metadata": {
        "id": "rPBDs20oR8NN",
        "colab_type": "code",
        "outputId": "1e62b59b-0355-426b-ad1c-589aa90d0cdc",
        "colab": {
          "base_uri": "https://localhost:8080/",
          "height": 605
        }
      },
      "source": [
        "pipeline.fit(X_train, y_train)\n"
      ],
      "execution_count": 72,
      "outputs": [
        {
          "output_type": "stream",
          "text": [
            "/usr/local/lib/python3.6/dist-packages/sklearn/feature_selection/univariate_selection.py:114: UserWarning:\n",
            "\n",
            "Features [82 83 84 86] are constant.\n",
            "\n",
            "/usr/local/lib/python3.6/dist-packages/sklearn/feature_selection/univariate_selection.py:115: RuntimeWarning:\n",
            "\n",
            "invalid value encountered in true_divide\n",
            "\n",
            "/usr/local/lib/python3.6/dist-packages/sklearn/model_selection/_split.py:1978: FutureWarning:\n",
            "\n",
            "The default value of cv will change from 3 to 5 in version 0.22. Specify it explicitly to silence this warning.\n",
            "\n"
          ],
          "name": "stderr"
        },
        {
          "output_type": "execute_result",
          "data": {
            "text/plain": [
              "Pipeline(memory=None,\n",
              "         steps=[('onehotencoder',\n",
              "                 OneHotEncoder(cols=['INTAPPROACHDIRECTION', 'QUADRANT',\n",
              "                                     'STREETTYPE'],\n",
              "                               drop_invariant=False, handle_missing='value',\n",
              "                               handle_unknown='value', return_df=True,\n",
              "                               use_cat_names=False, verbose=0)),\n",
              "                ('simpleimputer',\n",
              "                 SimpleImputer(add_indicator=False, copy=True, fill_value=None,\n",
              "                               missing_values=nan, strategy='median',\n",
              "                               verbose=0...\n",
              "                 SelectKBest(k=15,\n",
              "                             score_func=<function f_classif at 0x7fa7949e2ae8>)),\n",
              "                ('logisticregressioncv',\n",
              "                 LogisticRegressionCV(Cs=10, class_weight=None, cv='warn',\n",
              "                                      dual=False, fit_intercept=True,\n",
              "                                      intercept_scaling=1.0, l1_ratios=None,\n",
              "                                      max_iter=100, multi_class='warn',\n",
              "                                      n_jobs=-1, penalty='l2',\n",
              "                                      random_state=None, refit=True,\n",
              "                                      scoring=None, solver='lbfgs', tol=0.0001,\n",
              "                                      verbose=0))],\n",
              "         verbose=False)"
            ]
          },
          "metadata": {
            "tags": []
          },
          "execution_count": 72
        }
      ]
    },
    {
      "cell_type": "code",
      "metadata": {
        "id": "3OK_hoIQTfxs",
        "colab_type": "code",
        "outputId": "08e2b23c-62d6-4996-f6f4-1c03b12601fd",
        "colab": {
          "base_uri": "https://localhost:8080/",
          "height": 50
        }
      },
      "source": [
        "#confusion matrix of Lin Reg\n",
        "\n",
        "y_pred = pipeline.predict(X_val)\n",
        "\n",
        "conf = confusion_matrix(val['MAJOR_INJURY_OR_FATAL'], y_pred)\n",
        "print(conf)"
      ],
      "execution_count": 73,
      "outputs": [
        {
          "output_type": "stream",
          "text": [
            "[[51543     2]\n",
            " [  766     2]]\n"
          ],
          "name": "stdout"
        }
      ]
    },
    {
      "cell_type": "code",
      "metadata": {
        "id": "9d7_QiBMO81Y",
        "colab_type": "code",
        "colab": {
          "base_uri": "https://localhost:8080/",
          "height": 34
        },
        "outputId": "f308b201-d7d1-42a5-a259-6d032f63f70c"
      },
      "source": [
        "print(conf[1, 0] / conf[0, 0])"
      ],
      "execution_count": 74,
      "outputs": [
        {
          "output_type": "stream",
          "text": [
            "0.014861377878664416\n"
          ],
          "name": "stdout"
        }
      ]
    },
    {
      "cell_type": "code",
      "metadata": {
        "id": "7jf7q-IZR7vg",
        "colab_type": "code",
        "colab": {}
      },
      "source": [
        "#feature importances\n",
        "lr = pipeline.named_steps['logisticregressioncv']\n",
        "\n",
        "from itertools import compress\n",
        "\n",
        "\n",
        "#isolate seleckbest selected features\n",
        "mask = pipeline.named_steps['selectkbest'].get_support().tolist()\n",
        "selected_features = list(compress(pipeline.named_steps['onehotencoder'].get_feature_names(), mask))\n",
        "coeffs = pd.Series(selected_features, lr.coef_.tolist())"
      ],
      "execution_count": 0,
      "outputs": []
    },
    {
      "cell_type": "code",
      "metadata": {
        "id": "5j5wDyVNWFb1",
        "colab_type": "code",
        "colab": {}
      },
      "source": [
        "coeffs"
      ],
      "execution_count": 0,
      "outputs": []
    },
    {
      "cell_type": "code",
      "metadata": {
        "id": "T3xxlWBHm2wH",
        "colab_type": "code",
        "outputId": "82d3a60a-2e79-4e0f-a03f-ac3c16c92bad",
        "colab": {
          "base_uri": "https://localhost:8080/",
          "height": 286
        }
      },
      "source": [
        "plt.barh(coeffs.values, coeffs.index)"
      ],
      "execution_count": 67,
      "outputs": [
        {
          "output_type": "execute_result",
          "data": {
            "text/plain": [
              "<BarContainer object of 15 artists>"
            ]
          },
          "metadata": {
            "tags": []
          },
          "execution_count": 67
        },
        {
          "output_type": "display_data",
          "data": {
            "image/png": "[encoded data removed]",
            "text/plain": [
              "<Figure size 432x288 with 1 Axes>"
            ]
          },
          "metadata": {
            "tags": []
          }
        }
      ]
    },
    {
      "cell_type": "code",
      "metadata": {
        "id": "Bqfn3tTUoiuD",
        "colab_type": "code",
        "colab": {}
      },
      "source": [
        ""
      ],
      "execution_count": 0,
      "outputs": []
    }
  ]
}