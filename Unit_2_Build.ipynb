{
  "nbformat": 4,
  "nbformat_minor": 0,
  "metadata": {
    "colab": {
      "name": "Unit 2 Build.ipynb",
      "provenance": [],
      "collapsed_sections": [],
      "machine_shape": "hm",
      "include_colab_link": true
    },
    "kernelspec": {
      "name": "python3",
      "display_name": "Python 3"
    }
  },
  "cells": [
    {
      "cell_type": "markdown",
      "metadata": {
        "id": "view-in-github",
        "colab_type": "text"
      },
      "source": [
        "<a href=\"https://colab.research.google.com/github/tallywiesenberg/DS-Unit-2-Applied-Modeling/blob/master/Unit_2_Build.ipynb\" target=\"_parent\"><img src=\"https://colab.research.google.com/assets/colab-badge.svg\" alt=\"Open In Colab\"/></a>"
      ]
    },
    {
      "cell_type": "code",
      "metadata": {
        "id": "MFZSG-hsvL8T",
        "colab_type": "code",
        "outputId": "82297c5e-6415-4100-f8b6-b272a7ffe6cd",
        "colab": {
          "base_uri": "https://localhost:8080/",
          "height": 202
        }
      },
      "source": [
        "!pip install category_encoders\n",
        "\n",
        "import pandas as pd\n",
        "import numpy as np\n",
        "import scipy.stats as stats\n",
        "\n",
        "import matplotlib.pyplot as plt\n",
        "import seaborn as sns\n",
        "import plotly.express as px\n",
        "\n",
        "\n",
        "from sklearn.metrics import accuracy_score\n",
        "from sklearn.metrics import confusion_matrix\n",
        "\n",
        "#pipeline imports\n",
        "from sklearn.pipeline import make_pipeline\n",
        "from sklearn.impute import SimpleImputer\n",
        "from category_encoders import OneHotEncoder, OrdinalEncoder\n",
        "from sklearn.linear_model import LogisticRegressionCV"
      ],
      "execution_count": 9,
      "outputs": [
        {
          "output_type": "stream",
          "text": [
            "Requirement already satisfied: category_encoders in /usr/local/lib/python3.6/dist-packages (2.1.0)\n",
            "Requirement already satisfied: scikit-learn>=0.20.0 in /usr/local/lib/python3.6/dist-packages (from category_encoders) (0.21.3)\n",
            "Requirement already satisfied: scipy>=0.19.0 in /usr/local/lib/python3.6/dist-packages (from category_encoders) (1.3.1)\n",
            "Requirement already satisfied: patsy>=0.4.1 in /usr/local/lib/python3.6/dist-packages (from category_encoders) (0.5.1)\n",
            "Requirement already satisfied: pandas>=0.21.1 in /usr/local/lib/python3.6/dist-packages (from category_encoders) (0.24.2)\n",
            "Requirement already satisfied: numpy>=1.11.3 in /usr/local/lib/python3.6/dist-packages (from category_encoders) (1.16.5)\n",
            "Requirement already satisfied: statsmodels>=0.6.1 in /usr/local/lib/python3.6/dist-packages (from category_encoders) (0.10.1)\n",
            "Requirement already satisfied: joblib>=0.11 in /usr/local/lib/python3.6/dist-packages (from scikit-learn>=0.20.0->category_encoders) (0.13.2)\n",
            "Requirement already satisfied: six in /usr/local/lib/python3.6/dist-packages (from patsy>=0.4.1->category_encoders) (1.12.0)\n",
            "Requirement already satisfied: pytz>=2011k in /usr/local/lib/python3.6/dist-packages (from pandas>=0.21.1->category_encoders) (2018.9)\n",
            "Requirement already satisfied: python-dateutil>=2.5.0 in /usr/local/lib/python3.6/dist-packages (from pandas>=0.21.1->category_encoders) (2.5.3)\n"
          ],
          "name": "stdout"
        }
      ]
    },
    {
      "cell_type": "markdown",
      "metadata": {
        "id": "zo6EwhugvMiA",
        "colab_type": "text"
      },
      "source": [
        "#Import"
      ]
    },
    {
      "cell_type": "code",
      "metadata": {
        "id": "PZr5o4vpuQCh",
        "colab_type": "code",
        "outputId": "3a2b0269-f1ec-4d47-d106-1c69d8086172",
        "colab": {
          "base_uri": "https://localhost:8080/",
          "height": 421
        }
      },
      "source": [
        "#crash data\n",
        "crashes = pd.read_csv('https://opendata.arcgis.com/datasets/70392a096a8e431381f1f692aaa06afd_24.csv', dtype={'STREETSEGID': 'Int64'})  #crash data\n",
        "crashes1 = pd.read_csv('https://opendata.arcgis.com/datasets/70248b73c20f46b0a5ee895fc91d6222_25.csv', dtype={'STREETSEGID': 'Int64'}) #additional crash data\n",
        "crashes.shape, crashes1.shape"
      ],
      "execution_count": 11,
      "outputs": [
        {
          "output_type": "error",
          "ename": "IncompleteRead",
          "evalue": "ignored",
          "traceback": [
            "\u001b[0;31m---------------------------------------------------------------------------\u001b[0m",
            "\u001b[0;31mIncompleteRead\u001b[0m                            Traceback (most recent call last)",
            "\u001b[0;32m/usr/lib/python3.6/http/client.py\u001b[0m in \u001b[0;36m_readall_chunked\u001b[0;34m(self)\u001b[0m\n\u001b[1;32m    565\u001b[0m                     \u001b[0;32mbreak\u001b[0m\u001b[0;34m\u001b[0m\u001b[0;34m\u001b[0m\u001b[0m\n\u001b[0;32m--> 566\u001b[0;31m                 \u001b[0mvalue\u001b[0m\u001b[0;34m.\u001b[0m\u001b[0mappend\u001b[0m\u001b[0;34m(\u001b[0m\u001b[0mself\u001b[0m\u001b[0;34m.\u001b[0m\u001b[0m_safe_read\u001b[0m\u001b[0;34m(\u001b[0m\u001b[0mchunk_left\u001b[0m\u001b[0;34m)\u001b[0m\u001b[0;34m)\u001b[0m\u001b[0;34m\u001b[0m\u001b[0;34m\u001b[0m\u001b[0m\n\u001b[0m\u001b[1;32m    567\u001b[0m                 \u001b[0mself\u001b[0m\u001b[0;34m.\u001b[0m\u001b[0mchunk_left\u001b[0m \u001b[0;34m=\u001b[0m \u001b[0;36m0\u001b[0m\u001b[0;34m\u001b[0m\u001b[0;34m\u001b[0m\u001b[0m\n",
            "\u001b[0;32m/usr/lib/python3.6/http/client.py\u001b[0m in \u001b[0;36m_safe_read\u001b[0;34m(self, amt)\u001b[0m\n\u001b[1;32m    613\u001b[0m             \u001b[0;32mif\u001b[0m \u001b[0;32mnot\u001b[0m \u001b[0mchunk\u001b[0m\u001b[0;34m:\u001b[0m\u001b[0;34m\u001b[0m\u001b[0;34m\u001b[0m\u001b[0m\n\u001b[0;32m--> 614\u001b[0;31m                 \u001b[0;32mraise\u001b[0m \u001b[0mIncompleteRead\u001b[0m\u001b[0;34m(\u001b[0m\u001b[0;34mb''\u001b[0m\u001b[0;34m.\u001b[0m\u001b[0mjoin\u001b[0m\u001b[0;34m(\u001b[0m\u001b[0ms\u001b[0m\u001b[0;34m)\u001b[0m\u001b[0;34m,\u001b[0m \u001b[0mamt\u001b[0m\u001b[0;34m)\u001b[0m\u001b[0;34m\u001b[0m\u001b[0;34m\u001b[0m\u001b[0m\n\u001b[0m\u001b[1;32m    615\u001b[0m             \u001b[0ms\u001b[0m\u001b[0;34m.\u001b[0m\u001b[0mappend\u001b[0m\u001b[0;34m(\u001b[0m\u001b[0mchunk\u001b[0m\u001b[0;34m)\u001b[0m\u001b[0;34m\u001b[0m\u001b[0;34m\u001b[0m\u001b[0m\n",
            "\u001b[0;31mIncompleteRead\u001b[0m: IncompleteRead(6473 bytes read, 17064 more expected)",
            "\nDuring handling of the above exception, another exception occurred:\n",
            "\u001b[0;31mIncompleteRead\u001b[0m                            Traceback (most recent call last)",
            "\u001b[0;32m<ipython-input-11-aa505be9896f>\u001b[0m in \u001b[0;36m<module>\u001b[0;34m()\u001b[0m\n\u001b[0;32m----> 1\u001b[0;31m \u001b[0mcrashes\u001b[0m \u001b[0;34m=\u001b[0m \u001b[0mpd\u001b[0m\u001b[0;34m.\u001b[0m\u001b[0mread_csv\u001b[0m\u001b[0;34m(\u001b[0m\u001b[0;34m'https://opendata.arcgis.com/datasets/70392a096a8e431381f1f692aaa06afd_24.csv'\u001b[0m\u001b[0;34m,\u001b[0m \u001b[0mdtype\u001b[0m\u001b[0;34m=\u001b[0m\u001b[0;34m{\u001b[0m\u001b[0;34m'STREETSEGID'\u001b[0m\u001b[0;34m:\u001b[0m \u001b[0;34m'Int64'\u001b[0m\u001b[0;34m}\u001b[0m\u001b[0;34m)\u001b[0m  \u001b[0;31m#crash data\u001b[0m\u001b[0;34m\u001b[0m\u001b[0;34m\u001b[0m\u001b[0m\n\u001b[0m\u001b[1;32m      2\u001b[0m \u001b[0mcrashes1\u001b[0m \u001b[0;34m=\u001b[0m \u001b[0mpd\u001b[0m\u001b[0;34m.\u001b[0m\u001b[0mread_csv\u001b[0m\u001b[0;34m(\u001b[0m\u001b[0;34m'https://opendata.arcgis.com/datasets/70248b73c20f46b0a5ee895fc91d6222_25.csv'\u001b[0m\u001b[0;34m,\u001b[0m \u001b[0mdtype\u001b[0m\u001b[0;34m=\u001b[0m\u001b[0;34m{\u001b[0m\u001b[0;34m'STREETSEGID'\u001b[0m\u001b[0;34m:\u001b[0m \u001b[0;34m'Int64'\u001b[0m\u001b[0;34m}\u001b[0m\u001b[0;34m)\u001b[0m \u001b[0;31m#additional crash data\u001b[0m\u001b[0;34m\u001b[0m\u001b[0;34m\u001b[0m\u001b[0m\n\u001b[1;32m      3\u001b[0m \u001b[0mcrashes\u001b[0m\u001b[0;34m.\u001b[0m\u001b[0mshape\u001b[0m\u001b[0;34m,\u001b[0m \u001b[0mcrashes1\u001b[0m\u001b[0;34m.\u001b[0m\u001b[0mshape\u001b[0m\u001b[0;34m\u001b[0m\u001b[0;34m\u001b[0m\u001b[0m\n",
            "\u001b[0;32m/usr/local/lib/python3.6/dist-packages/pandas/io/parsers.py\u001b[0m in \u001b[0;36mparser_f\u001b[0;34m(filepath_or_buffer, sep, delimiter, header, names, index_col, usecols, squeeze, prefix, mangle_dupe_cols, dtype, engine, converters, true_values, false_values, skipinitialspace, skiprows, skipfooter, nrows, na_values, keep_default_na, na_filter, verbose, skip_blank_lines, parse_dates, infer_datetime_format, keep_date_col, date_parser, dayfirst, iterator, chunksize, compression, thousands, decimal, lineterminator, quotechar, quoting, doublequote, escapechar, comment, encoding, dialect, tupleize_cols, error_bad_lines, warn_bad_lines, delim_whitespace, low_memory, memory_map, float_precision)\u001b[0m\n\u001b[1;32m    700\u001b[0m                     skip_blank_lines=skip_blank_lines)\n\u001b[1;32m    701\u001b[0m \u001b[0;34m\u001b[0m\u001b[0m\n\u001b[0;32m--> 702\u001b[0;31m         \u001b[0;32mreturn\u001b[0m \u001b[0m_read\u001b[0m\u001b[0;34m(\u001b[0m\u001b[0mfilepath_or_buffer\u001b[0m\u001b[0;34m,\u001b[0m \u001b[0mkwds\u001b[0m\u001b[0;34m)\u001b[0m\u001b[0;34m\u001b[0m\u001b[0;34m\u001b[0m\u001b[0m\n\u001b[0m\u001b[1;32m    703\u001b[0m \u001b[0;34m\u001b[0m\u001b[0m\n\u001b[1;32m    704\u001b[0m     \u001b[0mparser_f\u001b[0m\u001b[0;34m.\u001b[0m\u001b[0m__name__\u001b[0m \u001b[0;34m=\u001b[0m \u001b[0mname\u001b[0m\u001b[0;34m\u001b[0m\u001b[0;34m\u001b[0m\u001b[0m\n",
            "\u001b[0;32m/usr/local/lib/python3.6/dist-packages/pandas/io/parsers.py\u001b[0m in \u001b[0;36m_read\u001b[0;34m(filepath_or_buffer, kwds)\u001b[0m\n\u001b[1;32m    411\u001b[0m     \u001b[0mcompression\u001b[0m \u001b[0;34m=\u001b[0m \u001b[0m_infer_compression\u001b[0m\u001b[0;34m(\u001b[0m\u001b[0mfilepath_or_buffer\u001b[0m\u001b[0;34m,\u001b[0m \u001b[0mcompression\u001b[0m\u001b[0;34m)\u001b[0m\u001b[0;34m\u001b[0m\u001b[0;34m\u001b[0m\u001b[0m\n\u001b[1;32m    412\u001b[0m     filepath_or_buffer, _, compression, should_close = get_filepath_or_buffer(\n\u001b[0;32m--> 413\u001b[0;31m         filepath_or_buffer, encoding, compression)\n\u001b[0m\u001b[1;32m    414\u001b[0m     \u001b[0mkwds\u001b[0m\u001b[0;34m[\u001b[0m\u001b[0;34m'compression'\u001b[0m\u001b[0;34m]\u001b[0m \u001b[0;34m=\u001b[0m \u001b[0mcompression\u001b[0m\u001b[0;34m\u001b[0m\u001b[0;34m\u001b[0m\u001b[0m\n\u001b[1;32m    415\u001b[0m \u001b[0;34m\u001b[0m\u001b[0m\n",
            "\u001b[0;32m/usr/local/lib/python3.6/dist-packages/pandas/io/common.py\u001b[0m in \u001b[0;36mget_filepath_or_buffer\u001b[0;34m(filepath_or_buffer, encoding, compression, mode)\u001b[0m\n\u001b[1;32m    205\u001b[0m             \u001b[0;31m# Override compression based on Content-Encoding header\u001b[0m\u001b[0;34m\u001b[0m\u001b[0;34m\u001b[0m\u001b[0;34m\u001b[0m\u001b[0m\n\u001b[1;32m    206\u001b[0m             \u001b[0mcompression\u001b[0m \u001b[0;34m=\u001b[0m \u001b[0;34m'gzip'\u001b[0m\u001b[0;34m\u001b[0m\u001b[0;34m\u001b[0m\u001b[0m\n\u001b[0;32m--> 207\u001b[0;31m         \u001b[0mreader\u001b[0m \u001b[0;34m=\u001b[0m \u001b[0mBytesIO\u001b[0m\u001b[0;34m(\u001b[0m\u001b[0mreq\u001b[0m\u001b[0;34m.\u001b[0m\u001b[0mread\u001b[0m\u001b[0;34m(\u001b[0m\u001b[0;34m)\u001b[0m\u001b[0;34m)\u001b[0m\u001b[0;34m\u001b[0m\u001b[0;34m\u001b[0m\u001b[0m\n\u001b[0m\u001b[1;32m    208\u001b[0m         \u001b[0mreq\u001b[0m\u001b[0;34m.\u001b[0m\u001b[0mclose\u001b[0m\u001b[0;34m(\u001b[0m\u001b[0;34m)\u001b[0m\u001b[0;34m\u001b[0m\u001b[0;34m\u001b[0m\u001b[0m\n\u001b[1;32m    209\u001b[0m         \u001b[0;32mreturn\u001b[0m \u001b[0mreader\u001b[0m\u001b[0;34m,\u001b[0m \u001b[0mencoding\u001b[0m\u001b[0;34m,\u001b[0m \u001b[0mcompression\u001b[0m\u001b[0;34m,\u001b[0m \u001b[0;32mTrue\u001b[0m\u001b[0;34m\u001b[0m\u001b[0;34m\u001b[0m\u001b[0m\n",
            "\u001b[0;32m/usr/lib/python3.6/http/client.py\u001b[0m in \u001b[0;36mread\u001b[0;34m(self, amt)\u001b[0m\n\u001b[1;32m    454\u001b[0m \u001b[0;34m\u001b[0m\u001b[0m\n\u001b[1;32m    455\u001b[0m             \u001b[0;32mif\u001b[0m \u001b[0mself\u001b[0m\u001b[0;34m.\u001b[0m\u001b[0mchunked\u001b[0m\u001b[0;34m:\u001b[0m\u001b[0;34m\u001b[0m\u001b[0;34m\u001b[0m\u001b[0m\n\u001b[0;32m--> 456\u001b[0;31m                 \u001b[0;32mreturn\u001b[0m \u001b[0mself\u001b[0m\u001b[0;34m.\u001b[0m\u001b[0m_readall_chunked\u001b[0m\u001b[0;34m(\u001b[0m\u001b[0;34m)\u001b[0m\u001b[0;34m\u001b[0m\u001b[0;34m\u001b[0m\u001b[0m\n\u001b[0m\u001b[1;32m    457\u001b[0m \u001b[0;34m\u001b[0m\u001b[0m\n\u001b[1;32m    458\u001b[0m             \u001b[0;32mif\u001b[0m \u001b[0mself\u001b[0m\u001b[0;34m.\u001b[0m\u001b[0mlength\u001b[0m \u001b[0;32mis\u001b[0m \u001b[0;32mNone\u001b[0m\u001b[0;34m:\u001b[0m\u001b[0;34m\u001b[0m\u001b[0;34m\u001b[0m\u001b[0m\n",
            "\u001b[0;32m/usr/lib/python3.6/http/client.py\u001b[0m in \u001b[0;36m_readall_chunked\u001b[0;34m(self)\u001b[0m\n\u001b[1;32m    568\u001b[0m             \u001b[0;32mreturn\u001b[0m \u001b[0;34mb''\u001b[0m\u001b[0;34m.\u001b[0m\u001b[0mjoin\u001b[0m\u001b[0;34m(\u001b[0m\u001b[0mvalue\u001b[0m\u001b[0;34m)\u001b[0m\u001b[0;34m\u001b[0m\u001b[0;34m\u001b[0m\u001b[0m\n\u001b[1;32m    569\u001b[0m         \u001b[0;32mexcept\u001b[0m \u001b[0mIncompleteRead\u001b[0m\u001b[0;34m:\u001b[0m\u001b[0;34m\u001b[0m\u001b[0;34m\u001b[0m\u001b[0m\n\u001b[0;32m--> 570\u001b[0;31m             \u001b[0;32mraise\u001b[0m \u001b[0mIncompleteRead\u001b[0m\u001b[0;34m(\u001b[0m\u001b[0;34mb''\u001b[0m\u001b[0;34m.\u001b[0m\u001b[0mjoin\u001b[0m\u001b[0;34m(\u001b[0m\u001b[0mvalue\u001b[0m\u001b[0;34m)\u001b[0m\u001b[0;34m)\u001b[0m\u001b[0;34m\u001b[0m\u001b[0;34m\u001b[0m\u001b[0m\n\u001b[0m\u001b[1;32m    571\u001b[0m \u001b[0;34m\u001b[0m\u001b[0m\n\u001b[1;32m    572\u001b[0m     \u001b[0;32mdef\u001b[0m \u001b[0m_readinto_chunked\u001b[0m\u001b[0;34m(\u001b[0m\u001b[0mself\u001b[0m\u001b[0;34m,\u001b[0m \u001b[0mb\u001b[0m\u001b[0;34m)\u001b[0m\u001b[0;34m:\u001b[0m\u001b[0;34m\u001b[0m\u001b[0;34m\u001b[0m\u001b[0m\n",
            "\u001b[0;31mIncompleteRead\u001b[0m: IncompleteRead(24252981 bytes read)"
          ]
        }
      ]
    },
    {
      "cell_type": "code",
      "metadata": {
        "id": "A1Rl_gxwqcJ8",
        "colab_type": "code",
        "colab": {}
      },
      "source": [
        "crashes.head(2)"
      ],
      "execution_count": 0,
      "outputs": []
    },
    {
      "cell_type": "code",
      "metadata": {
        "id": "QSVc3hO5pw-0",
        "colab_type": "code",
        "colab": {}
      },
      "source": [
        "crashes1.head()"
      ],
      "execution_count": 0,
      "outputs": []
    },
    {
      "cell_type": "markdown",
      "metadata": {
        "id": "Q2yP5U2MCmUJ",
        "colab_type": "text"
      },
      "source": [
        "##Pre-merge cleaning"
      ]
    },
    {
      "cell_type": "code",
      "metadata": {
        "id": "xxtV20xAVehE",
        "colab_type": "code",
        "colab": {}
      },
      "source": [
        "car_types = crashes1.groupby('CRIMEID')['INVEHICLETYPE'].value_counts().unstack().replace(np.nan, 0).reset_index()"
      ],
      "execution_count": 0,
      "outputs": []
    },
    {
      "cell_type": "code",
      "metadata": {
        "id": "yPBN1maUtr3t",
        "colab_type": "code",
        "colab": {}
      },
      "source": [
        "crashes1['SENIORS'] = crashes1['AGE'] > 65\n",
        "crashes1['CHILDREN'] = crashes1['AGE'] < 18"
      ],
      "execution_count": 0,
      "outputs": []
    },
    {
      "cell_type": "code",
      "metadata": {
        "id": "OOGtUbS36cm2",
        "colab_type": "code",
        "colab": {}
      },
      "source": [
        "crashes1.groupby('CRIMEID')['SENIORS'].value_counts()"
      ],
      "execution_count": 0,
      "outputs": []
    },
    {
      "cell_type": "markdown",
      "metadata": {
        "id": "px0tuizXCqNP",
        "colab_type": "text"
      },
      "source": [
        "##Merge"
      ]
    },
    {
      "cell_type": "code",
      "metadata": {
        "id": "MEQnSO5kMmAs",
        "colab_type": "code",
        "colab": {}
      },
      "source": [
        "#datasets for engineering\n",
        "street_segs = pd.read_csv('https://opendata.arcgis.com/datasets/f21813094ed24fd5ba66a07b61a1acee_46.csv', dtype={'STREETSEGID': 'Int64'})\n",
        "bicycles = pd.read_csv('https://opendata.arcgis.com/datasets/294e062cdf2c48d5b9cbc374d9709bc0_2.csv', dtype={'STREETSEGID': 'Int64'})"
      ],
      "execution_count": 0,
      "outputs": []
    },
    {
      "cell_type": "markdown",
      "metadata": {
        "id": "miI7QZ9prfpd",
        "colab_type": "text"
      },
      "source": [
        "need to aggregate crashes1 (personal crash data)"
      ]
    },
    {
      "cell_type": "code",
      "metadata": {
        "id": "vqSb9dekxyXw",
        "colab_type": "code",
        "outputId": "152adab0-fde3-463a-d390-27d5d431ce51",
        "colab": {
          "base_uri": "https://localhost:8080/",
          "height": 34
        }
      },
      "source": [
        "df = crashes.merge(car_types, how='inner', on='CRIMEID')   #inner join on CRIMEID, the common unique ID between datasets\n",
        "df = df.merge(street_segs[['STREETSEGID', 'STREETTYPE', 'QUADRANT', 'DIRECTIONALITY']], how='left', on='STREETSEGID')\n",
        "df = df.merge(bicycles[['STREETSEGID', 'BIKELANELENGTH']], how='left', on='STREETSEGID')\n",
        "df.shape"
      ],
      "execution_count": 0,
      "outputs": [
        {
          "output_type": "execute_result",
          "data": {
            "text/plain": [
              "(216075, 82)"
            ]
          },
          "metadata": {
            "tags": []
          },
          "execution_count": 9
        }
      ]
    },
    {
      "cell_type": "code",
      "metadata": {
        "id": "ACrugULOO-QX",
        "colab_type": "code",
        "outputId": "923f4b8a-cd1b-4d5e-dc41-da14e7ef7902",
        "colab": {
          "base_uri": "https://localhost:8080/",
          "height": 546
        }
      },
      "source": [
        "df= df.sort_index(axis=1)\n",
        "df.head()"
      ],
      "execution_count": 0,
      "outputs": [
        {
          "output_type": "execute_result",
          "data": {
            "text/html": [
              "<div>\n",
              "<style scoped>\n",
              "    .dataframe tbody tr th:only-of-type {\n",
              "        vertical-align: middle;\n",
              "    }\n",
              "\n",
              "    .dataframe tbody tr th {\n",
              "        vertical-align: top;\n",
              "    }\n",
              "\n",
              "    .dataframe thead th {\n",
              "        text-align: right;\n",
              "    }\n",
              "</style>\n",
              "<table border=\"1\" class=\"dataframe\">\n",
              "  <thead>\n",
              "    <tr style=\"text-align: right;\">\n",
              "      <th></th>\n",
              "      <th>ADDRESS</th>\n",
              "      <th>Aircraft</th>\n",
              "      <th>Atv (all Terrain Vehicle)</th>\n",
              "      <th>BICYCLISTSIMPAIRED</th>\n",
              "      <th>BIKELANELENGTH</th>\n",
              "      <th>BLOCKKEY</th>\n",
              "      <th>Bus</th>\n",
              "      <th>CCN</th>\n",
              "      <th>CRIMEID</th>\n",
              "      <th>Cargo Van</th>\n",
              "      <th>Construction/industrial Equipment</th>\n",
              "      <th>DIRECTIONALITY</th>\n",
              "      <th>DRIVERSIMPAIRED</th>\n",
              "      <th>Drugs/ Narcotics</th>\n",
              "      <th>EVENTID</th>\n",
              "      <th>FATAL_BICYCLIST</th>\n",
              "      <th>FATAL_DRIVER</th>\n",
              "      <th>FATAL_PEDESTRIAN</th>\n",
              "      <th>FROMDATE</th>\n",
              "      <th>Farm Equipment</th>\n",
              "      <th>Firearms</th>\n",
              "      <th>INTAPPROACHDIRECTION</th>\n",
              "      <th>LASTUPDATEDATE</th>\n",
              "      <th>LATITUDE</th>\n",
              "      <th>LOCATIONERROR</th>\n",
              "      <th>LONGITUDE</th>\n",
              "      <th>Large/heavy Truck</th>\n",
              "      <th>MAJORINJURIES_BICYCLIST</th>\n",
              "      <th>MAJORINJURIES_DRIVER</th>\n",
              "      <th>MAJORINJURIES_PEDESTRIAN</th>\n",
              "      <th>MARID</th>\n",
              "      <th>MAR_ADDRESS</th>\n",
              "      <th>MAR_SCORE</th>\n",
              "      <th>MEASURE</th>\n",
              "      <th>MINORINJURIES_BICYCLIST</th>\n",
              "      <th>MINORINJURIES_DRIVER</th>\n",
              "      <th>MINORINJURIES_PEDESTRIAN</th>\n",
              "      <th>MPDGEOX</th>\n",
              "      <th>MPDGEOY</th>\n",
              "      <th>MPDLATITUDE</th>\n",
              "      <th>...</th>\n",
              "      <th>Motor Cycle</th>\n",
              "      <th>Motorhome/camper/rv (recreational Vehicle)</th>\n",
              "      <th>NEARESTINTROUTEID</th>\n",
              "      <th>NEARESTINTSTREETNAME</th>\n",
              "      <th>None</th>\n",
              "      <th>OBJECTID</th>\n",
              "      <th>OFFINTERSECTION</th>\n",
              "      <th>OFFSET</th>\n",
              "      <th>Other Small/light Truck</th>\n",
              "      <th>Other Vehicle</th>\n",
              "      <th>PEDESTRIANSIMPAIRED</th>\n",
              "      <th>Passenger Car/automobile</th>\n",
              "      <th>Passenger Van</th>\n",
              "      <th>Pickup Truck</th>\n",
              "      <th>QUADRANT</th>\n",
              "      <th>REPORTDATE</th>\n",
              "      <th>ROADWAYSEGID</th>\n",
              "      <th>ROUTEID</th>\n",
              "      <th>SPEEDING_INVOLVED</th>\n",
              "      <th>STREETSEGID</th>\n",
              "      <th>STREETTYPE</th>\n",
              "      <th>SUBBLOCKKEY</th>\n",
              "      <th>Snow Mobile</th>\n",
              "      <th>Suv (sport Utility Vehicle)</th>\n",
              "      <th>TODATE</th>\n",
              "      <th>TOTAL_BICYCLES</th>\n",
              "      <th>TOTAL_GOVERNMENT</th>\n",
              "      <th>TOTAL_PEDESTRIANS</th>\n",
              "      <th>TOTAL_TAXIS</th>\n",
              "      <th>TOTAL_VEHICLES</th>\n",
              "      <th>Trailer</th>\n",
              "      <th>UNKNOWNINJURIES_BICYCLIST</th>\n",
              "      <th>UNKNOWNINJURIES_DRIVER</th>\n",
              "      <th>UNKNOWNINJURIES_PEDESTRIAN</th>\n",
              "      <th>WARD</th>\n",
              "      <th>Watercraft/boat</th>\n",
              "      <th>X</th>\n",
              "      <th>XCOORD</th>\n",
              "      <th>Y</th>\n",
              "      <th>YCOORD</th>\n",
              "    </tr>\n",
              "  </thead>\n",
              "  <tbody>\n",
              "    <tr>\n",
              "      <th>0</th>\n",
              "      <td>1633 NORTH CAPITOL STREET NE</td>\n",
              "      <td>0.0</td>\n",
              "      <td>0.0</td>\n",
              "      <td>0</td>\n",
              "      <td>NaN</td>\n",
              "      <td>NaN</td>\n",
              "      <td>0.0</td>\n",
              "      <td>18138880</td>\n",
              "      <td>27773808</td>\n",
              "      <td>0.0</td>\n",
              "      <td>0.0</td>\n",
              "      <td>2.0</td>\n",
              "      <td>0</td>\n",
              "      <td>0.0</td>\n",
              "      <td>{2717C7D8-1BD7-4550-A9A4-3D0B8CA06A95}</td>\n",
              "      <td>0</td>\n",
              "      <td>0</td>\n",
              "      <td>0</td>\n",
              "      <td>2018-08-20T04:00:00.000Z</td>\n",
              "      <td>0.0</td>\n",
              "      <td>0.0</td>\n",
              "      <td>West</td>\n",
              "      <td>NaN</td>\n",
              "      <td>38.912419</td>\n",
              "      <td>NaN</td>\n",
              "      <td>-77.008584</td>\n",
              "      <td>0.0</td>\n",
              "      <td>0</td>\n",
              "      <td>0</td>\n",
              "      <td>0</td>\n",
              "      <td>58903</td>\n",
              "      <td>1633 NORTH CAPITOL STREET NE</td>\n",
              "      <td>200.0</td>\n",
              "      <td>151.349</td>\n",
              "      <td>0</td>\n",
              "      <td>1</td>\n",
              "      <td>0</td>\n",
              "      <td>399240.51</td>\n",
              "      <td>138287.26</td>\n",
              "      <td>38.912573</td>\n",
              "      <td>...</td>\n",
              "      <td>0.0</td>\n",
              "      <td>0.0</td>\n",
              "      <td>12074162</td>\n",
              "      <td>R ST NE</td>\n",
              "      <td>0.0</td>\n",
              "      <td>109265316</td>\n",
              "      <td>37.525917</td>\n",
              "      <td>15.342407</td>\n",
              "      <td>0.0</td>\n",
              "      <td>0.0</td>\n",
              "      <td>0</td>\n",
              "      <td>3.0</td>\n",
              "      <td>0.0</td>\n",
              "      <td>0.0</td>\n",
              "      <td>NE</td>\n",
              "      <td>2018-08-20T22:38:20.000Z</td>\n",
              "      <td>15095.0</td>\n",
              "      <td>12055642</td>\n",
              "      <td>0</td>\n",
              "      <td>10166</td>\n",
              "      <td>RD</td>\n",
              "      <td>NaN</td>\n",
              "      <td>0.0</td>\n",
              "      <td>0.0</td>\n",
              "      <td>NaN</td>\n",
              "      <td>0</td>\n",
              "      <td>0</td>\n",
              "      <td>0</td>\n",
              "      <td>0</td>\n",
              "      <td>3</td>\n",
              "      <td>0.0</td>\n",
              "      <td>0</td>\n",
              "      <td>0</td>\n",
              "      <td>0</td>\n",
              "      <td>Ward 5</td>\n",
              "      <td>0.0</td>\n",
              "      <td>-77.008587</td>\n",
              "      <td>399255.487</td>\n",
              "      <td>38.912427</td>\n",
              "      <td>138283.932</td>\n",
              "    </tr>\n",
              "    <tr>\n",
              "      <th>1</th>\n",
              "      <td>2455 ALABAMA AVENUE SE</td>\n",
              "      <td>0.0</td>\n",
              "      <td>0.0</td>\n",
              "      <td>0</td>\n",
              "      <td>NaN</td>\n",
              "      <td>NaN</td>\n",
              "      <td>0.0</td>\n",
              "      <td>18138896</td>\n",
              "      <td>27773815</td>\n",
              "      <td>0.0</td>\n",
              "      <td>0.0</td>\n",
              "      <td>2.0</td>\n",
              "      <td>0</td>\n",
              "      <td>0.0</td>\n",
              "      <td>{298310E1-A374-4515-BEEB-66467A0FBC85}</td>\n",
              "      <td>0</td>\n",
              "      <td>0</td>\n",
              "      <td>0</td>\n",
              "      <td>2018-08-20T04:00:00.000Z</td>\n",
              "      <td>0.0</td>\n",
              "      <td>0.0</td>\n",
              "      <td>West</td>\n",
              "      <td>NaN</td>\n",
              "      <td>38.853037</td>\n",
              "      <td>NaN</td>\n",
              "      <td>-76.969521</td>\n",
              "      <td>0.0</td>\n",
              "      <td>0</td>\n",
              "      <td>0</td>\n",
              "      <td>0</td>\n",
              "      <td>278162</td>\n",
              "      <td>2455 ALABAMA AVENUE SE</td>\n",
              "      <td>200.0</td>\n",
              "      <td>39.500</td>\n",
              "      <td>0</td>\n",
              "      <td>1</td>\n",
              "      <td>0</td>\n",
              "      <td>402645.56</td>\n",
              "      <td>131727.88</td>\n",
              "      <td>38.853033</td>\n",
              "      <td>...</td>\n",
              "      <td>0.0</td>\n",
              "      <td>0.0</td>\n",
              "      <td>13009362</td>\n",
              "      <td>ALABAMA AVE SE</td>\n",
              "      <td>0.0</td>\n",
              "      <td>109265317</td>\n",
              "      <td>4.177299</td>\n",
              "      <td>35.458947</td>\n",
              "      <td>0.0</td>\n",
              "      <td>0.0</td>\n",
              "      <td>0</td>\n",
              "      <td>1.0</td>\n",
              "      <td>0.0</td>\n",
              "      <td>0.0</td>\n",
              "      <td>SE</td>\n",
              "      <td>2018-08-20T22:46:30.000Z</td>\n",
              "      <td>8260.0</td>\n",
              "      <td>13049502</td>\n",
              "      <td>0</td>\n",
              "      <td>7473</td>\n",
              "      <td>ST</td>\n",
              "      <td>NaN</td>\n",
              "      <td>0.0</td>\n",
              "      <td>0.0</td>\n",
              "      <td>NaN</td>\n",
              "      <td>0</td>\n",
              "      <td>0</td>\n",
              "      <td>0</td>\n",
              "      <td>0</td>\n",
              "      <td>2</td>\n",
              "      <td>0.0</td>\n",
              "      <td>0</td>\n",
              "      <td>0</td>\n",
              "      <td>0</td>\n",
              "      <td>Ward 8</td>\n",
              "      <td>0.0</td>\n",
              "      <td>-76.969523</td>\n",
              "      <td>402645.610</td>\n",
              "      <td>38.853044</td>\n",
              "      <td>131692.421</td>\n",
              "    </tr>\n",
              "    <tr>\n",
              "      <th>2</th>\n",
              "      <td>3905 DIX STREET NE</td>\n",
              "      <td>0.0</td>\n",
              "      <td>0.0</td>\n",
              "      <td>0</td>\n",
              "      <td>NaN</td>\n",
              "      <td>NaN</td>\n",
              "      <td>0.0</td>\n",
              "      <td>18138856</td>\n",
              "      <td>27773821</td>\n",
              "      <td>0.0</td>\n",
              "      <td>0.0</td>\n",
              "      <td>NaN</td>\n",
              "      <td>0</td>\n",
              "      <td>0.0</td>\n",
              "      <td>{31C4BA97-057F-46D8-B15E-CBA9A08108B1}</td>\n",
              "      <td>0</td>\n",
              "      <td>0</td>\n",
              "      <td>0</td>\n",
              "      <td>2018-08-20T04:00:00.000Z</td>\n",
              "      <td>0.0</td>\n",
              "      <td>0.0</td>\n",
              "      <td>West</td>\n",
              "      <td>NaN</td>\n",
              "      <td>38.893255</td>\n",
              "      <td>NaN</td>\n",
              "      <td>-76.949491</td>\n",
              "      <td>0.0</td>\n",
              "      <td>0</td>\n",
              "      <td>1</td>\n",
              "      <td>0</td>\n",
              "      <td>29514</td>\n",
              "      <td>3905 DIX STREET NE</td>\n",
              "      <td>200.0</td>\n",
              "      <td>19.297</td>\n",
              "      <td>0</td>\n",
              "      <td>0</td>\n",
              "      <td>0</td>\n",
              "      <td>404387.75</td>\n",
              "      <td>136169.49</td>\n",
              "      <td>38.893530</td>\n",
              "      <td>...</td>\n",
              "      <td>1.0</td>\n",
              "      <td>0.0</td>\n",
              "      <td>12023662</td>\n",
              "      <td>CLAY PL NE</td>\n",
              "      <td>0.0</td>\n",
              "      <td>109265318</td>\n",
              "      <td>69.620746</td>\n",
              "      <td>13.202794</td>\n",
              "      <td>0.0</td>\n",
              "      <td>0.0</td>\n",
              "      <td>0</td>\n",
              "      <td>1.0</td>\n",
              "      <td>0.0</td>\n",
              "      <td>0.0</td>\n",
              "      <td>NaN</td>\n",
              "      <td>2018-08-20T23:26:35.000Z</td>\n",
              "      <td>24002.0</td>\n",
              "      <td>47015862</td>\n",
              "      <td>1</td>\n",
              "      <td>-9</td>\n",
              "      <td>NaN</td>\n",
              "      <td>NaN</td>\n",
              "      <td>0.0</td>\n",
              "      <td>0.0</td>\n",
              "      <td>NaN</td>\n",
              "      <td>0</td>\n",
              "      <td>0</td>\n",
              "      <td>0</td>\n",
              "      <td>0</td>\n",
              "      <td>2</td>\n",
              "      <td>0.0</td>\n",
              "      <td>0</td>\n",
              "      <td>0</td>\n",
              "      <td>0</td>\n",
              "      <td>Ward 7</td>\n",
              "      <td>0.0</td>\n",
              "      <td>-76.949494</td>\n",
              "      <td>404381.720</td>\n",
              "      <td>38.893263</td>\n",
              "      <td>136157.745</td>\n",
              "    </tr>\n",
              "    <tr>\n",
              "      <th>3</th>\n",
              "      <td>CONSTITUTION AVENUE NW &amp; 10TH STREET NW</td>\n",
              "      <td>0.0</td>\n",
              "      <td>0.0</td>\n",
              "      <td>0</td>\n",
              "      <td>NaN</td>\n",
              "      <td>NaN</td>\n",
              "      <td>0.0</td>\n",
              "      <td>18138883</td>\n",
              "      <td>27773824</td>\n",
              "      <td>0.0</td>\n",
              "      <td>0.0</td>\n",
              "      <td>2.0</td>\n",
              "      <td>0</td>\n",
              "      <td>0.0</td>\n",
              "      <td>{F7CCD625-CAA6-4706-B97B-64B83E36EED3}</td>\n",
              "      <td>0</td>\n",
              "      <td>0</td>\n",
              "      <td>0</td>\n",
              "      <td>2018-08-20T04:00:00.000Z</td>\n",
              "      <td>0.0</td>\n",
              "      <td>0.0</td>\n",
              "      <td>West</td>\n",
              "      <td>NaN</td>\n",
              "      <td>38.892082</td>\n",
              "      <td>NaN</td>\n",
              "      <td>-77.025990</td>\n",
              "      <td>0.0</td>\n",
              "      <td>0</td>\n",
              "      <td>0</td>\n",
              "      <td>0</td>\n",
              "      <td>293188</td>\n",
              "      <td>NaN</td>\n",
              "      <td>200.0</td>\n",
              "      <td>0.000</td>\n",
              "      <td>0</td>\n",
              "      <td>0</td>\n",
              "      <td>0</td>\n",
              "      <td>397745.24</td>\n",
              "      <td>136026.65</td>\n",
              "      <td>38.891962</td>\n",
              "      <td>...</td>\n",
              "      <td>0.0</td>\n",
              "      <td>0.0</td>\n",
              "      <td>11025352</td>\n",
              "      <td>CONSTITUTION AVE NW</td>\n",
              "      <td>0.0</td>\n",
              "      <td>109265319</td>\n",
              "      <td>88.932111</td>\n",
              "      <td>0.004743</td>\n",
              "      <td>0.0</td>\n",
              "      <td>0.0</td>\n",
              "      <td>0</td>\n",
              "      <td>2.0</td>\n",
              "      <td>0.0</td>\n",
              "      <td>0.0</td>\n",
              "      <td>NW</td>\n",
              "      <td>2018-08-20T23:01:56.000Z</td>\n",
              "      <td>6547.0</td>\n",
              "      <td>11001002</td>\n",
              "      <td>0</td>\n",
              "      <td>7822</td>\n",
              "      <td>AVE</td>\n",
              "      <td>NaN</td>\n",
              "      <td>0.0</td>\n",
              "      <td>0.0</td>\n",
              "      <td>NaN</td>\n",
              "      <td>0</td>\n",
              "      <td>0</td>\n",
              "      <td>0</td>\n",
              "      <td>1</td>\n",
              "      <td>2</td>\n",
              "      <td>0.0</td>\n",
              "      <td>0</td>\n",
              "      <td>0</td>\n",
              "      <td>0</td>\n",
              "      <td>Ward 2</td>\n",
              "      <td>0.0</td>\n",
              "      <td>-77.025993</td>\n",
              "      <td>397745.238</td>\n",
              "      <td>38.892090</td>\n",
              "      <td>136026.655</td>\n",
              "    </tr>\n",
              "    <tr>\n",
              "      <th>4</th>\n",
              "      <td>1700 1ST STREET NW</td>\n",
              "      <td>0.0</td>\n",
              "      <td>0.0</td>\n",
              "      <td>0</td>\n",
              "      <td>NaN</td>\n",
              "      <td>NaN</td>\n",
              "      <td>0.0</td>\n",
              "      <td>18138749</td>\n",
              "      <td>27773833</td>\n",
              "      <td>1.0</td>\n",
              "      <td>0.0</td>\n",
              "      <td>NaN</td>\n",
              "      <td>0</td>\n",
              "      <td>0.0</td>\n",
              "      <td>{77D12E4A-7CE6-468F-9FB8-554878921C0A}</td>\n",
              "      <td>0</td>\n",
              "      <td>0</td>\n",
              "      <td>0</td>\n",
              "      <td>2018-08-20T04:00:00.000Z</td>\n",
              "      <td>0.0</td>\n",
              "      <td>0.0</td>\n",
              "      <td>West</td>\n",
              "      <td>NaN</td>\n",
              "      <td>38.912739</td>\n",
              "      <td>NaN</td>\n",
              "      <td>-77.012552</td>\n",
              "      <td>0.0</td>\n",
              "      <td>0</td>\n",
              "      <td>0</td>\n",
              "      <td>0</td>\n",
              "      <td>218404</td>\n",
              "      <td>1700 1ST STREET NW</td>\n",
              "      <td>200.0</td>\n",
              "      <td>28.773</td>\n",
              "      <td>0</td>\n",
              "      <td>0</td>\n",
              "      <td>0</td>\n",
              "      <td>398927.62</td>\n",
              "      <td>138321.30</td>\n",
              "      <td>38.913455</td>\n",
              "      <td>...</td>\n",
              "      <td>0.0</td>\n",
              "      <td>0.0</td>\n",
              "      <td>11074162</td>\n",
              "      <td>R ST NW</td>\n",
              "      <td>0.0</td>\n",
              "      <td>109265320</td>\n",
              "      <td>98.512188</td>\n",
              "      <td>16.323611</td>\n",
              "      <td>0.0</td>\n",
              "      <td>0.0</td>\n",
              "      <td>0</td>\n",
              "      <td>0.0</td>\n",
              "      <td>1.0</td>\n",
              "      <td>0.0</td>\n",
              "      <td>NaN</td>\n",
              "      <td>2018-08-20T23:20:38.000Z</td>\n",
              "      <td>29617.0</td>\n",
              "      <td>47070502</td>\n",
              "      <td>0</td>\n",
              "      <td>-9</td>\n",
              "      <td>NaN</td>\n",
              "      <td>NaN</td>\n",
              "      <td>0.0</td>\n",
              "      <td>0.0</td>\n",
              "      <td>NaN</td>\n",
              "      <td>0</td>\n",
              "      <td>1</td>\n",
              "      <td>0</td>\n",
              "      <td>0</td>\n",
              "      <td>2</td>\n",
              "      <td>0.0</td>\n",
              "      <td>0</td>\n",
              "      <td>0</td>\n",
              "      <td>0</td>\n",
              "      <td>Ward 5</td>\n",
              "      <td>0.0</td>\n",
              "      <td>-77.012554</td>\n",
              "      <td>398911.404</td>\n",
              "      <td>38.912746</td>\n",
              "      <td>138319.430</td>\n",
              "    </tr>\n",
              "  </tbody>\n",
              "</table>\n",
              "<p>5 rows × 82 columns</p>\n",
              "</div>"
            ],
            "text/plain": [
              "                                   ADDRESS  Aircraft  ...          Y      YCOORD\n",
              "0             1633 NORTH CAPITOL STREET NE       0.0  ...  38.912427  138283.932\n",
              "1                   2455 ALABAMA AVENUE SE       0.0  ...  38.853044  131692.421\n",
              "2                       3905 DIX STREET NE       0.0  ...  38.893263  136157.745\n",
              "3  CONSTITUTION AVENUE NW & 10TH STREET NW       0.0  ...  38.892090  136026.655\n",
              "4                       1700 1ST STREET NW       0.0  ...  38.912746  138319.430\n",
              "\n",
              "[5 rows x 82 columns]"
            ]
          },
          "metadata": {
            "tags": []
          },
          "execution_count": 10
        }
      ]
    },
    {
      "cell_type": "markdown",
      "metadata": {
        "id": "thZx_QIvvP79",
        "colab_type": "text"
      },
      "source": [
        "#Cleaning"
      ]
    },
    {
      "cell_type": "code",
      "metadata": {
        "id": "n4DzsYljvTDl",
        "colab_type": "code",
        "outputId": "12cb6a1b-1943-4bbb-943a-e77017bf7975",
        "colab": {
          "base_uri": "https://localhost:8080/",
          "height": 546
        }
      },
      "source": [
        "df.head()"
      ],
      "execution_count": 0,
      "outputs": [
        {
          "output_type": "execute_result",
          "data": {
            "text/html": [
              "<div>\n",
              "<style scoped>\n",
              "    .dataframe tbody tr th:only-of-type {\n",
              "        vertical-align: middle;\n",
              "    }\n",
              "\n",
              "    .dataframe tbody tr th {\n",
              "        vertical-align: top;\n",
              "    }\n",
              "\n",
              "    .dataframe thead th {\n",
              "        text-align: right;\n",
              "    }\n",
              "</style>\n",
              "<table border=\"1\" class=\"dataframe\">\n",
              "  <thead>\n",
              "    <tr style=\"text-align: right;\">\n",
              "      <th></th>\n",
              "      <th>ADDRESS</th>\n",
              "      <th>Aircraft</th>\n",
              "      <th>Atv (all Terrain Vehicle)</th>\n",
              "      <th>BICYCLISTSIMPAIRED</th>\n",
              "      <th>BIKELANELENGTH</th>\n",
              "      <th>BLOCKKEY</th>\n",
              "      <th>Bus</th>\n",
              "      <th>CCN</th>\n",
              "      <th>CRIMEID</th>\n",
              "      <th>Cargo Van</th>\n",
              "      <th>Construction/industrial Equipment</th>\n",
              "      <th>DIRECTIONALITY</th>\n",
              "      <th>DRIVERSIMPAIRED</th>\n",
              "      <th>Drugs/ Narcotics</th>\n",
              "      <th>EVENTID</th>\n",
              "      <th>FATAL_BICYCLIST</th>\n",
              "      <th>FATAL_DRIVER</th>\n",
              "      <th>FATAL_PEDESTRIAN</th>\n",
              "      <th>FROMDATE</th>\n",
              "      <th>Farm Equipment</th>\n",
              "      <th>Firearms</th>\n",
              "      <th>INTAPPROACHDIRECTION</th>\n",
              "      <th>LASTUPDATEDATE</th>\n",
              "      <th>LATITUDE</th>\n",
              "      <th>LOCATIONERROR</th>\n",
              "      <th>LONGITUDE</th>\n",
              "      <th>Large/heavy Truck</th>\n",
              "      <th>MAJORINJURIES_BICYCLIST</th>\n",
              "      <th>MAJORINJURIES_DRIVER</th>\n",
              "      <th>MAJORINJURIES_PEDESTRIAN</th>\n",
              "      <th>MARID</th>\n",
              "      <th>MAR_ADDRESS</th>\n",
              "      <th>MAR_SCORE</th>\n",
              "      <th>MEASURE</th>\n",
              "      <th>MINORINJURIES_BICYCLIST</th>\n",
              "      <th>MINORINJURIES_DRIVER</th>\n",
              "      <th>MINORINJURIES_PEDESTRIAN</th>\n",
              "      <th>MPDGEOX</th>\n",
              "      <th>MPDGEOY</th>\n",
              "      <th>MPDLATITUDE</th>\n",
              "      <th>...</th>\n",
              "      <th>Motor Cycle</th>\n",
              "      <th>Motorhome/camper/rv (recreational Vehicle)</th>\n",
              "      <th>NEARESTINTROUTEID</th>\n",
              "      <th>NEARESTINTSTREETNAME</th>\n",
              "      <th>None</th>\n",
              "      <th>OBJECTID</th>\n",
              "      <th>OFFINTERSECTION</th>\n",
              "      <th>OFFSET</th>\n",
              "      <th>Other Small/light Truck</th>\n",
              "      <th>Other Vehicle</th>\n",
              "      <th>PEDESTRIANSIMPAIRED</th>\n",
              "      <th>Passenger Car/automobile</th>\n",
              "      <th>Passenger Van</th>\n",
              "      <th>Pickup Truck</th>\n",
              "      <th>QUADRANT</th>\n",
              "      <th>REPORTDATE</th>\n",
              "      <th>ROADWAYSEGID</th>\n",
              "      <th>ROUTEID</th>\n",
              "      <th>SPEEDING_INVOLVED</th>\n",
              "      <th>STREETSEGID</th>\n",
              "      <th>STREETTYPE</th>\n",
              "      <th>SUBBLOCKKEY</th>\n",
              "      <th>Snow Mobile</th>\n",
              "      <th>Suv (sport Utility Vehicle)</th>\n",
              "      <th>TODATE</th>\n",
              "      <th>TOTAL_BICYCLES</th>\n",
              "      <th>TOTAL_GOVERNMENT</th>\n",
              "      <th>TOTAL_PEDESTRIANS</th>\n",
              "      <th>TOTAL_TAXIS</th>\n",
              "      <th>TOTAL_VEHICLES</th>\n",
              "      <th>Trailer</th>\n",
              "      <th>UNKNOWNINJURIES_BICYCLIST</th>\n",
              "      <th>UNKNOWNINJURIES_DRIVER</th>\n",
              "      <th>UNKNOWNINJURIES_PEDESTRIAN</th>\n",
              "      <th>WARD</th>\n",
              "      <th>Watercraft/boat</th>\n",
              "      <th>X</th>\n",
              "      <th>XCOORD</th>\n",
              "      <th>Y</th>\n",
              "      <th>YCOORD</th>\n",
              "    </tr>\n",
              "  </thead>\n",
              "  <tbody>\n",
              "    <tr>\n",
              "      <th>0</th>\n",
              "      <td>1633 NORTH CAPITOL STREET NE</td>\n",
              "      <td>0.0</td>\n",
              "      <td>0.0</td>\n",
              "      <td>0</td>\n",
              "      <td>NaN</td>\n",
              "      <td>NaN</td>\n",
              "      <td>0.0</td>\n",
              "      <td>18138880</td>\n",
              "      <td>27773808</td>\n",
              "      <td>0.0</td>\n",
              "      <td>0.0</td>\n",
              "      <td>2.0</td>\n",
              "      <td>0</td>\n",
              "      <td>0.0</td>\n",
              "      <td>{2717C7D8-1BD7-4550-A9A4-3D0B8CA06A95}</td>\n",
              "      <td>0</td>\n",
              "      <td>0</td>\n",
              "      <td>0</td>\n",
              "      <td>2018-08-20T04:00:00.000Z</td>\n",
              "      <td>0.0</td>\n",
              "      <td>0.0</td>\n",
              "      <td>West</td>\n",
              "      <td>NaN</td>\n",
              "      <td>38.912419</td>\n",
              "      <td>NaN</td>\n",
              "      <td>-77.008584</td>\n",
              "      <td>0.0</td>\n",
              "      <td>0</td>\n",
              "      <td>0</td>\n",
              "      <td>0</td>\n",
              "      <td>58903</td>\n",
              "      <td>1633 NORTH CAPITOL STREET NE</td>\n",
              "      <td>200.0</td>\n",
              "      <td>151.349</td>\n",
              "      <td>0</td>\n",
              "      <td>1</td>\n",
              "      <td>0</td>\n",
              "      <td>399240.51</td>\n",
              "      <td>138287.26</td>\n",
              "      <td>38.912573</td>\n",
              "      <td>...</td>\n",
              "      <td>0.0</td>\n",
              "      <td>0.0</td>\n",
              "      <td>12074162</td>\n",
              "      <td>R ST NE</td>\n",
              "      <td>0.0</td>\n",
              "      <td>109265316</td>\n",
              "      <td>37.525917</td>\n",
              "      <td>15.342407</td>\n",
              "      <td>0.0</td>\n",
              "      <td>0.0</td>\n",
              "      <td>0</td>\n",
              "      <td>3.0</td>\n",
              "      <td>0.0</td>\n",
              "      <td>0.0</td>\n",
              "      <td>NE</td>\n",
              "      <td>2018-08-20T22:38:20.000Z</td>\n",
              "      <td>15095.0</td>\n",
              "      <td>12055642</td>\n",
              "      <td>0</td>\n",
              "      <td>10166</td>\n",
              "      <td>RD</td>\n",
              "      <td>NaN</td>\n",
              "      <td>0.0</td>\n",
              "      <td>0.0</td>\n",
              "      <td>NaN</td>\n",
              "      <td>0</td>\n",
              "      <td>0</td>\n",
              "      <td>0</td>\n",
              "      <td>0</td>\n",
              "      <td>3</td>\n",
              "      <td>0.0</td>\n",
              "      <td>0</td>\n",
              "      <td>0</td>\n",
              "      <td>0</td>\n",
              "      <td>Ward 5</td>\n",
              "      <td>0.0</td>\n",
              "      <td>-77.008587</td>\n",
              "      <td>399255.487</td>\n",
              "      <td>38.912427</td>\n",
              "      <td>138283.932</td>\n",
              "    </tr>\n",
              "    <tr>\n",
              "      <th>1</th>\n",
              "      <td>2455 ALABAMA AVENUE SE</td>\n",
              "      <td>0.0</td>\n",
              "      <td>0.0</td>\n",
              "      <td>0</td>\n",
              "      <td>NaN</td>\n",
              "      <td>NaN</td>\n",
              "      <td>0.0</td>\n",
              "      <td>18138896</td>\n",
              "      <td>27773815</td>\n",
              "      <td>0.0</td>\n",
              "      <td>0.0</td>\n",
              "      <td>2.0</td>\n",
              "      <td>0</td>\n",
              "      <td>0.0</td>\n",
              "      <td>{298310E1-A374-4515-BEEB-66467A0FBC85}</td>\n",
              "      <td>0</td>\n",
              "      <td>0</td>\n",
              "      <td>0</td>\n",
              "      <td>2018-08-20T04:00:00.000Z</td>\n",
              "      <td>0.0</td>\n",
              "      <td>0.0</td>\n",
              "      <td>West</td>\n",
              "      <td>NaN</td>\n",
              "      <td>38.853037</td>\n",
              "      <td>NaN</td>\n",
              "      <td>-76.969521</td>\n",
              "      <td>0.0</td>\n",
              "      <td>0</td>\n",
              "      <td>0</td>\n",
              "      <td>0</td>\n",
              "      <td>278162</td>\n",
              "      <td>2455 ALABAMA AVENUE SE</td>\n",
              "      <td>200.0</td>\n",
              "      <td>39.500</td>\n",
              "      <td>0</td>\n",
              "      <td>1</td>\n",
              "      <td>0</td>\n",
              "      <td>402645.56</td>\n",
              "      <td>131727.88</td>\n",
              "      <td>38.853033</td>\n",
              "      <td>...</td>\n",
              "      <td>0.0</td>\n",
              "      <td>0.0</td>\n",
              "      <td>13009362</td>\n",
              "      <td>ALABAMA AVE SE</td>\n",
              "      <td>0.0</td>\n",
              "      <td>109265317</td>\n",
              "      <td>4.177299</td>\n",
              "      <td>35.458947</td>\n",
              "      <td>0.0</td>\n",
              "      <td>0.0</td>\n",
              "      <td>0</td>\n",
              "      <td>1.0</td>\n",
              "      <td>0.0</td>\n",
              "      <td>0.0</td>\n",
              "      <td>SE</td>\n",
              "      <td>2018-08-20T22:46:30.000Z</td>\n",
              "      <td>8260.0</td>\n",
              "      <td>13049502</td>\n",
              "      <td>0</td>\n",
              "      <td>7473</td>\n",
              "      <td>ST</td>\n",
              "      <td>NaN</td>\n",
              "      <td>0.0</td>\n",
              "      <td>0.0</td>\n",
              "      <td>NaN</td>\n",
              "      <td>0</td>\n",
              "      <td>0</td>\n",
              "      <td>0</td>\n",
              "      <td>0</td>\n",
              "      <td>2</td>\n",
              "      <td>0.0</td>\n",
              "      <td>0</td>\n",
              "      <td>0</td>\n",
              "      <td>0</td>\n",
              "      <td>Ward 8</td>\n",
              "      <td>0.0</td>\n",
              "      <td>-76.969523</td>\n",
              "      <td>402645.610</td>\n",
              "      <td>38.853044</td>\n",
              "      <td>131692.421</td>\n",
              "    </tr>\n",
              "    <tr>\n",
              "      <th>2</th>\n",
              "      <td>3905 DIX STREET NE</td>\n",
              "      <td>0.0</td>\n",
              "      <td>0.0</td>\n",
              "      <td>0</td>\n",
              "      <td>NaN</td>\n",
              "      <td>NaN</td>\n",
              "      <td>0.0</td>\n",
              "      <td>18138856</td>\n",
              "      <td>27773821</td>\n",
              "      <td>0.0</td>\n",
              "      <td>0.0</td>\n",
              "      <td>NaN</td>\n",
              "      <td>0</td>\n",
              "      <td>0.0</td>\n",
              "      <td>{31C4BA97-057F-46D8-B15E-CBA9A08108B1}</td>\n",
              "      <td>0</td>\n",
              "      <td>0</td>\n",
              "      <td>0</td>\n",
              "      <td>2018-08-20T04:00:00.000Z</td>\n",
              "      <td>0.0</td>\n",
              "      <td>0.0</td>\n",
              "      <td>West</td>\n",
              "      <td>NaN</td>\n",
              "      <td>38.893255</td>\n",
              "      <td>NaN</td>\n",
              "      <td>-76.949491</td>\n",
              "      <td>0.0</td>\n",
              "      <td>0</td>\n",
              "      <td>1</td>\n",
              "      <td>0</td>\n",
              "      <td>29514</td>\n",
              "      <td>3905 DIX STREET NE</td>\n",
              "      <td>200.0</td>\n",
              "      <td>19.297</td>\n",
              "      <td>0</td>\n",
              "      <td>0</td>\n",
              "      <td>0</td>\n",
              "      <td>404387.75</td>\n",
              "      <td>136169.49</td>\n",
              "      <td>38.893530</td>\n",
              "      <td>...</td>\n",
              "      <td>1.0</td>\n",
              "      <td>0.0</td>\n",
              "      <td>12023662</td>\n",
              "      <td>CLAY PL NE</td>\n",
              "      <td>0.0</td>\n",
              "      <td>109265318</td>\n",
              "      <td>69.620746</td>\n",
              "      <td>13.202794</td>\n",
              "      <td>0.0</td>\n",
              "      <td>0.0</td>\n",
              "      <td>0</td>\n",
              "      <td>1.0</td>\n",
              "      <td>0.0</td>\n",
              "      <td>0.0</td>\n",
              "      <td>NaN</td>\n",
              "      <td>2018-08-20T23:26:35.000Z</td>\n",
              "      <td>24002.0</td>\n",
              "      <td>47015862</td>\n",
              "      <td>1</td>\n",
              "      <td>-9</td>\n",
              "      <td>NaN</td>\n",
              "      <td>NaN</td>\n",
              "      <td>0.0</td>\n",
              "      <td>0.0</td>\n",
              "      <td>NaN</td>\n",
              "      <td>0</td>\n",
              "      <td>0</td>\n",
              "      <td>0</td>\n",
              "      <td>0</td>\n",
              "      <td>2</td>\n",
              "      <td>0.0</td>\n",
              "      <td>0</td>\n",
              "      <td>0</td>\n",
              "      <td>0</td>\n",
              "      <td>Ward 7</td>\n",
              "      <td>0.0</td>\n",
              "      <td>-76.949494</td>\n",
              "      <td>404381.720</td>\n",
              "      <td>38.893263</td>\n",
              "      <td>136157.745</td>\n",
              "    </tr>\n",
              "    <tr>\n",
              "      <th>3</th>\n",
              "      <td>CONSTITUTION AVENUE NW &amp; 10TH STREET NW</td>\n",
              "      <td>0.0</td>\n",
              "      <td>0.0</td>\n",
              "      <td>0</td>\n",
              "      <td>NaN</td>\n",
              "      <td>NaN</td>\n",
              "      <td>0.0</td>\n",
              "      <td>18138883</td>\n",
              "      <td>27773824</td>\n",
              "      <td>0.0</td>\n",
              "      <td>0.0</td>\n",
              "      <td>2.0</td>\n",
              "      <td>0</td>\n",
              "      <td>0.0</td>\n",
              "      <td>{F7CCD625-CAA6-4706-B97B-64B83E36EED3}</td>\n",
              "      <td>0</td>\n",
              "      <td>0</td>\n",
              "      <td>0</td>\n",
              "      <td>2018-08-20T04:00:00.000Z</td>\n",
              "      <td>0.0</td>\n",
              "      <td>0.0</td>\n",
              "      <td>West</td>\n",
              "      <td>NaN</td>\n",
              "      <td>38.892082</td>\n",
              "      <td>NaN</td>\n",
              "      <td>-77.025990</td>\n",
              "      <td>0.0</td>\n",
              "      <td>0</td>\n",
              "      <td>0</td>\n",
              "      <td>0</td>\n",
              "      <td>293188</td>\n",
              "      <td>NaN</td>\n",
              "      <td>200.0</td>\n",
              "      <td>0.000</td>\n",
              "      <td>0</td>\n",
              "      <td>0</td>\n",
              "      <td>0</td>\n",
              "      <td>397745.24</td>\n",
              "      <td>136026.65</td>\n",
              "      <td>38.891962</td>\n",
              "      <td>...</td>\n",
              "      <td>0.0</td>\n",
              "      <td>0.0</td>\n",
              "      <td>11025352</td>\n",
              "      <td>CONSTITUTION AVE NW</td>\n",
              "      <td>0.0</td>\n",
              "      <td>109265319</td>\n",
              "      <td>88.932111</td>\n",
              "      <td>0.004743</td>\n",
              "      <td>0.0</td>\n",
              "      <td>0.0</td>\n",
              "      <td>0</td>\n",
              "      <td>2.0</td>\n",
              "      <td>0.0</td>\n",
              "      <td>0.0</td>\n",
              "      <td>NW</td>\n",
              "      <td>2018-08-20T23:01:56.000Z</td>\n",
              "      <td>6547.0</td>\n",
              "      <td>11001002</td>\n",
              "      <td>0</td>\n",
              "      <td>7822</td>\n",
              "      <td>AVE</td>\n",
              "      <td>NaN</td>\n",
              "      <td>0.0</td>\n",
              "      <td>0.0</td>\n",
              "      <td>NaN</td>\n",
              "      <td>0</td>\n",
              "      <td>0</td>\n",
              "      <td>0</td>\n",
              "      <td>1</td>\n",
              "      <td>2</td>\n",
              "      <td>0.0</td>\n",
              "      <td>0</td>\n",
              "      <td>0</td>\n",
              "      <td>0</td>\n",
              "      <td>Ward 2</td>\n",
              "      <td>0.0</td>\n",
              "      <td>-77.025993</td>\n",
              "      <td>397745.238</td>\n",
              "      <td>38.892090</td>\n",
              "      <td>136026.655</td>\n",
              "    </tr>\n",
              "    <tr>\n",
              "      <th>4</th>\n",
              "      <td>1700 1ST STREET NW</td>\n",
              "      <td>0.0</td>\n",
              "      <td>0.0</td>\n",
              "      <td>0</td>\n",
              "      <td>NaN</td>\n",
              "      <td>NaN</td>\n",
              "      <td>0.0</td>\n",
              "      <td>18138749</td>\n",
              "      <td>27773833</td>\n",
              "      <td>1.0</td>\n",
              "      <td>0.0</td>\n",
              "      <td>NaN</td>\n",
              "      <td>0</td>\n",
              "      <td>0.0</td>\n",
              "      <td>{77D12E4A-7CE6-468F-9FB8-554878921C0A}</td>\n",
              "      <td>0</td>\n",
              "      <td>0</td>\n",
              "      <td>0</td>\n",
              "      <td>2018-08-20T04:00:00.000Z</td>\n",
              "      <td>0.0</td>\n",
              "      <td>0.0</td>\n",
              "      <td>West</td>\n",
              "      <td>NaN</td>\n",
              "      <td>38.912739</td>\n",
              "      <td>NaN</td>\n",
              "      <td>-77.012552</td>\n",
              "      <td>0.0</td>\n",
              "      <td>0</td>\n",
              "      <td>0</td>\n",
              "      <td>0</td>\n",
              "      <td>218404</td>\n",
              "      <td>1700 1ST STREET NW</td>\n",
              "      <td>200.0</td>\n",
              "      <td>28.773</td>\n",
              "      <td>0</td>\n",
              "      <td>0</td>\n",
              "      <td>0</td>\n",
              "      <td>398927.62</td>\n",
              "      <td>138321.30</td>\n",
              "      <td>38.913455</td>\n",
              "      <td>...</td>\n",
              "      <td>0.0</td>\n",
              "      <td>0.0</td>\n",
              "      <td>11074162</td>\n",
              "      <td>R ST NW</td>\n",
              "      <td>0.0</td>\n",
              "      <td>109265320</td>\n",
              "      <td>98.512188</td>\n",
              "      <td>16.323611</td>\n",
              "      <td>0.0</td>\n",
              "      <td>0.0</td>\n",
              "      <td>0</td>\n",
              "      <td>0.0</td>\n",
              "      <td>1.0</td>\n",
              "      <td>0.0</td>\n",
              "      <td>NaN</td>\n",
              "      <td>2018-08-20T23:20:38.000Z</td>\n",
              "      <td>29617.0</td>\n",
              "      <td>47070502</td>\n",
              "      <td>0</td>\n",
              "      <td>-9</td>\n",
              "      <td>NaN</td>\n",
              "      <td>NaN</td>\n",
              "      <td>0.0</td>\n",
              "      <td>0.0</td>\n",
              "      <td>NaN</td>\n",
              "      <td>0</td>\n",
              "      <td>1</td>\n",
              "      <td>0</td>\n",
              "      <td>0</td>\n",
              "      <td>2</td>\n",
              "      <td>0.0</td>\n",
              "      <td>0</td>\n",
              "      <td>0</td>\n",
              "      <td>0</td>\n",
              "      <td>Ward 5</td>\n",
              "      <td>0.0</td>\n",
              "      <td>-77.012554</td>\n",
              "      <td>398911.404</td>\n",
              "      <td>38.912746</td>\n",
              "      <td>138319.430</td>\n",
              "    </tr>\n",
              "  </tbody>\n",
              "</table>\n",
              "<p>5 rows × 82 columns</p>\n",
              "</div>"
            ],
            "text/plain": [
              "                                   ADDRESS  Aircraft  ...          Y      YCOORD\n",
              "0             1633 NORTH CAPITOL STREET NE       0.0  ...  38.912427  138283.932\n",
              "1                   2455 ALABAMA AVENUE SE       0.0  ...  38.853044  131692.421\n",
              "2                       3905 DIX STREET NE       0.0  ...  38.893263  136157.745\n",
              "3  CONSTITUTION AVENUE NW & 10TH STREET NW       0.0  ...  38.892090  136026.655\n",
              "4                       1700 1ST STREET NW       0.0  ...  38.912746  138319.430\n",
              "\n",
              "[5 rows x 82 columns]"
            ]
          },
          "metadata": {
            "tags": []
          },
          "execution_count": 11
        }
      ]
    },
    {
      "cell_type": "code",
      "metadata": {
        "id": "G_Q1MuCfxuga",
        "colab_type": "code",
        "outputId": "cce670e4-f66e-4161-bce7-ffaca1bac219",
        "colab": {
          "base_uri": "https://localhost:8080/",
          "height": 118
        }
      },
      "source": [
        "#create time series from date of crash\n",
        "df['FROMDATE'] = pd.to_datetime(df['FROMDATE'].str.slice(stop=10), infer_datetime_format = True)\n",
        "df['FROMDATE'].head()"
      ],
      "execution_count": 0,
      "outputs": [
        {
          "output_type": "execute_result",
          "data": {
            "text/plain": [
              "0   2018-08-20\n",
              "1   2018-08-20\n",
              "2   2018-08-20\n",
              "3   2018-08-20\n",
              "4   2018-08-20\n",
              "Name: FROMDATE, dtype: datetime64[ns]"
            ]
          },
          "metadata": {
            "tags": []
          },
          "execution_count": 12
        }
      ]
    },
    {
      "cell_type": "code",
      "metadata": {
        "id": "dTkG8s-4mR7w",
        "colab_type": "code",
        "colab": {}
      },
      "source": [
        "#drop observations recorded before 2000 because they are date entry errors (judgement call)\n",
        "\n",
        "df.drop(df.query('FROMDATE < 2000').index, inplace=True)\n"
      ],
      "execution_count": 0,
      "outputs": []
    },
    {
      "cell_type": "code",
      "metadata": {
        "id": "fCUorPMgnFP1",
        "colab_type": "code",
        "outputId": "799acad1-cafc-483c-ba87-b220561e4d1c",
        "colab": {
          "base_uri": "https://localhost:8080/",
          "height": 134
        }
      },
      "source": [
        "df['FROMDATE'].describe()"
      ],
      "execution_count": 0,
      "outputs": [
        {
          "output_type": "execute_result",
          "data": {
            "text/plain": [
              "count                  216027\n",
              "unique                   4361\n",
              "top       2019-06-13 00:00:00\n",
              "freq                      251\n",
              "first     2000-01-01 00:00:00\n",
              "last      2019-10-03 00:00:00\n",
              "Name: FROMDATE, dtype: object"
            ]
          },
          "metadata": {
            "tags": []
          },
          "execution_count": 14
        }
      ]
    },
    {
      "cell_type": "code",
      "metadata": {
        "id": "0GPAXUtL1S_7",
        "colab_type": "code",
        "colab": {}
      },
      "source": [
        "#drop duplicate and ID columns\n",
        "df = df.drop(columns=['OBJECTID', 'CCN', 'EVENTID', 'BLOCKKEY', 'EVENTID', 'None'])  #\"none\" column is leftover from car_types merge, it means no cars were involved (illogical)"
      ],
      "execution_count": 0,
      "outputs": []
    },
    {
      "cell_type": "code",
      "metadata": {
        "id": "aU28JVOEVuQb",
        "colab_type": "code",
        "colab": {}
      },
      "source": [
        "#cleaning STREET SEGMENT ID\n",
        "df['STREETSEGID'] = (df['STREETSEGID'].replace(-9.0, np.nan)   #-9 is not a valid street segment id\n",
        "                                      .replace(0.0, np.nan)    #0 isnt a valid street segment id\n",
        "#                                       .astype(int)\n",
        "                    )\n",
        "#cleaning WARD attribute\n",
        "mode = df['WARD'].mode()[0]                                      #mode of WARD attribute\n",
        "\n",
        "df['WARD'] = df['WARD'].replace('Null', np.nan).fillna(value=df['WARD'].mode()[0])  #fill WARD attribute with mode of column (useful so column can be converted to int dtype)\n",
        "df['WARD'] = df['WARD'].str.replace('Ward ', '').astype(int)   #remove \"ward\" string from ward attribute\n"
      ],
      "execution_count": 0,
      "outputs": []
    },
    {
      "cell_type": "code",
      "metadata": {
        "id": "aK9Zjj8M2UF0",
        "colab_type": "code",
        "colab": {}
      },
      "source": [
        "# impute_mode = SimpleImputer(strategy='most_frequent')\n",
        "# impute_mean = SimpleImputer(strategy='median')\n",
        "\n",
        "# impute_mode.fit_transform(df.select_dtypes('object'))\n",
        "# impute_mean.fit_transform(df.select_dtypes('number'))"
      ],
      "execution_count": 0,
      "outputs": []
    },
    {
      "cell_type": "code",
      "metadata": {
        "id": "haQ259K32BDP",
        "colab_type": "code",
        "colab": {}
      },
      "source": [
        "#change Y/N to 0/1\n",
        "#will return an error, but still works?\n",
        "diction = {'N': 0, 'Y': 1}\n",
        "for col in df.columns:\n",
        "  if (df[col].unique().tolist() == ['N', 'Y']) | (df[col].unique().tolist() == ['Y', 'N']):\n",
        "    df[col] = df[col].replace(diction)\n",
        "  else:\n",
        "    pass"
      ],
      "execution_count": 0,
      "outputs": []
    },
    {
      "cell_type": "code",
      "metadata": {
        "id": "3bTmmlgPDCRT",
        "colab_type": "code",
        "colab": {}
      },
      "source": [
        "#change missing values of BIKELANELENGTH attribute to 0s\n",
        "#soon to be dropped, just need to know if there is a bikelane or not\n",
        "df['BIKELANELENGTH'] = df['BIKELANELENGTH'].replace(np.nan, 0)"
      ],
      "execution_count": 0,
      "outputs": []
    },
    {
      "cell_type": "code",
      "metadata": {
        "id": "MMFssYTLubzZ",
        "colab_type": "code",
        "colab": {}
      },
      "source": [
        "#drop columns where missing values are 35 percent or more of column\n",
        "\n",
        "for col in df.columns:\n",
        "  if df[col].isna().sum() >= .5 * df.shape[0]:\n",
        "    df = df.drop(columns=col)\n",
        "  else:\n",
        "    pass\n",
        "  \n",
        "df.shape"
      ],
      "execution_count": 0,
      "outputs": []
    },
    {
      "cell_type": "markdown",
      "metadata": {
        "id": "kSzceSGrUwWS",
        "colab_type": "text"
      },
      "source": [
        "#Engineering"
      ]
    },
    {
      "cell_type": "code",
      "metadata": {
        "id": "DDqaow4YFvoR",
        "colab_type": "code",
        "colab": {}
      },
      "source": [
        "#all the features that will be summed to become the target variable\n",
        "\n",
        "target_cols = df.columns[df.columns.str.contains('FATAL') | df.columns.str.contains('MAJOR')].tolist()\n",
        "\n",
        "target_numeric = df[target_cols].agg('sum', axis='columns')  #target column formatted numerically\n",
        "\n",
        "target_mask = target_numeric > 0                             #target mask returns with either True (major injury or fatality) or False (no major injury or fatality)\n",
        "\n",
        "df['MAJOR_INJURY_OR_FATAL'] = target_mask\n",
        "\n",
        "diction = {False: 0, True: 1}                                #change True/False to 0/1\n",
        "df['MAJOR_INJURY_OR_FATAL'] = df['MAJOR_INJURY_OR_FATAL'].replace(diction)"
      ],
      "execution_count": 0,
      "outputs": []
    },
    {
      "cell_type": "code",
      "metadata": {
        "id": "XNuMyOnw0BIt",
        "colab_type": "code",
        "colab": {}
      },
      "source": [
        "df['MAJOR_INJURY_OR_FATAL'].value_counts()\n"
      ],
      "execution_count": 0,
      "outputs": []
    },
    {
      "cell_type": "code",
      "metadata": {
        "id": "InKHJ6RsBWT_",
        "colab_type": "code",
        "colab": {}
      },
      "source": [
        "##Bike lanes\n",
        "diction = {False: 1, True: 0}\n",
        "\n",
        "df['BIKE_LANE'] = df['BIKELANELENGTH'] == 0        #is there a bikelane (this is after NaNs are replaced with 0s)\n",
        "df['BIKE_LANE'] = df['BIKE_LANE'].replace(diction) #0 means no bikelane, 1 means bikelane\n",
        "\n",
        "df['BIKE_LANE'].value_counts()\n",
        "\n",
        "#drop BIKELANELENGTH, YEARINSTALLED, no longer useful\n",
        "print(df.shape)\n",
        "df = df.drop('BIKELANELENGTH', axis = 1)\n",
        "print(df.shape)"
      ],
      "execution_count": 0,
      "outputs": []
    },
    {
      "cell_type": "code",
      "metadata": {
        "id": "OUB0xeemdDut",
        "colab_type": "code",
        "colab": {}
      },
      "source": [
        "#YEAR of accident\n",
        "\n",
        "df['YEAR'] = df['FROMDATE'].dt.year\n",
        "df['YEAR'].value_counts()"
      ],
      "execution_count": 0,
      "outputs": []
    },
    {
      "cell_type": "markdown",
      "metadata": {
        "id": "h8btrsAKivqN",
        "colab_type": "text"
      },
      "source": [
        "#Baseline Model"
      ]
    },
    {
      "cell_type": "code",
      "metadata": {
        "id": "ZY92ROicY35h",
        "colab_type": "code",
        "colab": {}
      },
      "source": [
        "df['MAJOR_INJURY_OR_FATAL'].value_counts()"
      ],
      "execution_count": 0,
      "outputs": []
    },
    {
      "cell_type": "code",
      "metadata": {
        "id": "YITM4HMslujS",
        "colab_type": "code",
        "colab": {}
      },
      "source": [
        "df['MAJOR_INJURY_OR_FATAL'].value_counts(normalize=True)"
      ],
      "execution_count": 0,
      "outputs": []
    },
    {
      "cell_type": "code",
      "metadata": {
        "id": "lF2WPpKhjMfJ",
        "colab_type": "code",
        "colab": {}
      },
      "source": [
        "y_pred = [0] * df.shape[0]\n",
        "print('Baseline accuracy score:', accuracy_score(df['MAJOR_INJURY_OR_FATAL'], y_pred))\n",
        "#Despite high accuracy, baseline model is useless because false negatives are very costly to society\n",
        "print(confusion_matrix(df['MAJOR_INJURY_OR_FATAL'], y_pred))"
      ],
      "execution_count": 0,
      "outputs": []
    },
    {
      "cell_type": "markdown",
      "metadata": {
        "id": "jJU87_3gQMsv",
        "colab_type": "text"
      },
      "source": [
        "#Exploration"
      ]
    },
    {
      "cell_type": "code",
      "metadata": {
        "id": "oNQRXCDGL7oe",
        "colab_type": "code",
        "colab": {}
      },
      "source": [
        "df.head(2)"
      ],
      "execution_count": 0,
      "outputs": []
    },
    {
      "cell_type": "code",
      "metadata": {
        "id": "Y0q6OcutBk-_",
        "colab_type": "code",
        "colab": {}
      },
      "source": [
        "df.groupby('WARD')['MAJOR_INJURY_OR_FATAL'].mean().plot.bar()\n",
        "plt.title('Probability of Major Injury or Death from Car Accident by DC Ward')"
      ],
      "execution_count": 0,
      "outputs": []
    },
    {
      "cell_type": "code",
      "metadata": {
        "id": "r0QrNH1ZP1vO",
        "colab_type": "code",
        "colab": {}
      },
      "source": [
        "df.groupby('BIKE_LANE')['MAJOR_INJURY_OR_FATAL'].mean().plot.bar()"
      ],
      "execution_count": 0,
      "outputs": []
    },
    {
      "cell_type": "code",
      "metadata": {
        "id": "N7fW86FVXA-e",
        "colab_type": "code",
        "colab": {}
      },
      "source": [
        "df.groupby('DRIVERSIMPAIRED')['MAJOR_INJURY_OR_FATAL'].mean().plot.bar()"
      ],
      "execution_count": 0,
      "outputs": []
    },
    {
      "cell_type": "code",
      "metadata": {
        "id": "KA4BYN2LXOyS",
        "colab_type": "code",
        "colab": {}
      },
      "source": [
        "df.groupby('SPEEDING')['MAJOR_INJURY_OR_FATAL'].mean().plot.bar()"
      ],
      "execution_count": 0,
      "outputs": []
    },
    {
      "cell_type": "code",
      "metadata": {
        "id": "pzN7fvQ3Ypjk",
        "colab_type": "code",
        "colab": {}
      },
      "source": [
        "df.groupby('INTAPPROACHDIRECTION')['MAJOR_INJURY_OR_FATAL'].mean().plot.bar()"
      ],
      "execution_count": 0,
      "outputs": []
    },
    {
      "cell_type": "code",
      "metadata": {
        "id": "s52ieBN_MVPi",
        "colab_type": "code",
        "colab": {}
      },
      "source": [
        "df.groupby('SPEEDING_INVOLVED')['MAJOR_INJURY_OR_FATAL'].mean().plot.bar()"
      ],
      "execution_count": 0,
      "outputs": []
    },
    {
      "cell_type": "code",
      "metadata": {
        "id": "JPvaUH1tNC9a",
        "colab_type": "code",
        "colab": {}
      },
      "source": [
        "df.groupby('STREETTYPE')['MAJOR_INJURY_OR_FATAL'].mean().plot.bar()"
      ],
      "execution_count": 0,
      "outputs": []
    },
    {
      "cell_type": "code",
      "metadata": {
        "id": "G3Ytf7k0Nppf",
        "colab_type": "code",
        "colab": {}
      },
      "source": [
        "df['OFFINTERSECTION'].hist(range=(0, 250), bins=25)"
      ],
      "execution_count": 0,
      "outputs": []
    },
    {
      "cell_type": "code",
      "metadata": {
        "id": "UDq6qELhY7ic",
        "colab_type": "code",
        "colab": {}
      },
      "source": [
        "px.set_mapbox_access_token(open(\".mapbox_token\").read())\n",
        "\n",
        "px.scatter_mapbox(df, lat='X', lon= 'Y', color='MAJOR_INJURY_OR_FATAL')"
      ],
      "execution_count": 0,
      "outputs": []
    },
    {
      "cell_type": "markdown",
      "metadata": {
        "id": "0u3CVw9Hd98y",
        "colab_type": "text"
      },
      "source": [
        "#Split"
      ]
    },
    {
      "cell_type": "code",
      "metadata": {
        "id": "p45wiS2haMwB",
        "colab_type": "code",
        "colab": {}
      },
      "source": [
        "test_mask = df['YEAR'] >= 2019\n",
        "train = df[~test_mask]\n",
        "test = df[test_mask]\n",
        "\n",
        "val_mask = train['YEAR'] < 2017\n",
        "val = train[~val_mask]\n",
        "train = train[val_mask]\n",
        "\n",
        "\n",
        "train.shape, val.shape, test.shape"
      ],
      "execution_count": 0,
      "outputs": []
    },
    {
      "cell_type": "code",
      "metadata": {
        "id": "OofSCxvne23a",
        "colab_type": "code",
        "colab": {}
      },
      "source": [
        "target = 'MAJOR_INJURY_OR_FATAL'\n",
        "features = df.columns[df.columns != target]\n",
        "\n",
        "X_train = train[features]\n",
        "y_train = train[target]\n",
        "\n",
        "X_val = val[features]\n",
        "y_val = val[target]\n",
        "\n",
        "X_test = test[features]\n",
        "y_test = test[target]\n",
        "\n",
        "X_train.shape, y_train.shape, X_val.shape, y_val.shape, X_test.shape, y_test.shape"
      ],
      "execution_count": 0,
      "outputs": []
    },
    {
      "cell_type": "markdown",
      "metadata": {
        "id": "e1oEpjNFQh-7",
        "colab_type": "text"
      },
      "source": [
        "#Logistic Regression"
      ]
    },
    {
      "cell_type": "code",
      "metadata": {
        "id": "AcgTvtY0hY8I",
        "colab_type": "code",
        "colab": {}
      },
      "source": [
        "pipeline = make_pipeline(\n",
        "    OneHotEncoder(),\n",
        "    SimpleImputer(strategy='median'),\n",
        "    LogisticRegressionCV())"
      ],
      "execution_count": 0,
      "outputs": []
    },
    {
      "cell_type": "code",
      "metadata": {
        "id": "rPBDs20oR8NN",
        "colab_type": "code",
        "colab": {}
      },
      "source": [
        "pipeline.fit(X_train, y_train)\n",
        "\n",
        "pipeline.score(X_val, y_val)"
      ],
      "execution_count": 0,
      "outputs": []
    },
    {
      "cell_type": "code",
      "metadata": {
        "id": "3OK_hoIQTfxs",
        "colab_type": "code",
        "colab": {}
      },
      "source": [
        ""
      ],
      "execution_count": 0,
      "outputs": []
    }
  ]
}