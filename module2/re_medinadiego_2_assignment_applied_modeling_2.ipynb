{
  "nbformat": 4,
  "nbformat_minor": 0,
  "metadata": {
    "colab": {
      "name": "re_medinadiego_2_assignment_applied_modeling_2.ipynb",
      "provenance": [],
      "include_colab_link": true
    },
    "kernelspec": {
      "name": "python3",
      "display_name": "Python 3"
    }
  },
  "cells": [
    {
      "cell_type": "markdown",
      "metadata": {
        "id": "view-in-github",
        "colab_type": "text"
      },
      "source": [
        "<a href=\"https://colab.research.google.com/github/medinadiegoeverardo/DS-Unit-2-Applied-Modeling/blob/master/module2/re_medinadiego_2_assignment_applied_modeling_2.ipynb\" target=\"_parent\"><img src=\"https://colab.research.google.com/assets/colab-badge.svg\" alt=\"Open In Colab\"/></a>"
      ]
    },
    {
      "cell_type": "code",
      "metadata": {
        "id": "T8WMJebFpKKT",
        "colab_type": "code",
        "outputId": "f2d390c9-cd3c-426d-b9a6-e480219791a5",
        "colab": {
          "base_uri": "https://localhost:8080/",
          "height": 163
        }
      },
      "source": [
        "from google.colab import drive\n",
        "import pandas as pd\n",
        "drive.mount('/content/gdrive')"
      ],
      "execution_count": 0,
      "outputs": [
        {
          "output_type": "stream",
          "text": [
            "Go to this URL in a browser: https://accounts.google.com/o/oauth2/auth?client_id=947318989803-6bn6qk8qdgf4n4g3pfee6491hc0brc4i.apps.googleusercontent.com&redirect_uri=urn%3Aietf%3Awg%3Aoauth%3A2.0%3Aoob&scope=email%20https%3A%2F%2Fwww.googleapis.com%2Fauth%2Fdocs.test%20https%3A%2F%2Fwww.googleapis.com%2Fauth%2Fdrive%20https%3A%2F%2Fwww.googleapis.com%2Fauth%2Fdrive.photos.readonly%20https%3A%2F%2Fwww.googleapis.com%2Fauth%2Fpeopleapi.readonly&response_type=code\n",
            "\n",
            "Enter your authorization code:\n",
            "··········\n",
            "Mounted at /content/gdrive\n"
          ],
          "name": "stdout"
        }
      ]
    },
    {
      "cell_type": "code",
      "metadata": {
        "id": "IGC0Lr6dpUaR",
        "colab_type": "code",
        "colab": {}
      },
      "source": [
        "df = pd.read_csv('/content/gdrive/My Drive/AB_NYC_2019.csv')"
      ],
      "execution_count": 0,
      "outputs": []
    },
    {
      "cell_type": "code",
      "metadata": {
        "id": "uYEcDyWFp5Oh",
        "colab_type": "code",
        "outputId": "286f77a5-bc3d-4d36-e5ca-30b79f25de05",
        "colab": {
          "base_uri": "https://localhost:8080/",
          "height": 32
        }
      },
      "source": [
        "df.shape"
      ],
      "execution_count": 0,
      "outputs": [
        {
          "output_type": "execute_result",
          "data": {
            "text/plain": [
              "(48895, 16)"
            ]
          },
          "metadata": {
            "tags": []
          },
          "execution_count": 5
        }
      ]
    },
    {
      "cell_type": "code",
      "metadata": {
        "id": "fbq9s8MzpWi4",
        "colab_type": "code",
        "colab": {}
      },
      "source": [
        "cutoff = '2018-09-07'\n",
        "new_df = df[df['last_review'] > cutoff]\n",
        "# splitting for test, train and val"
      ],
      "execution_count": 0,
      "outputs": []
    },
    {
      "cell_type": "code",
      "metadata": {
        "id": "raHatjqzp7dF",
        "colab_type": "code",
        "outputId": "c126ea06-4340-40a0-cf45-327a42dfb77d",
        "colab": {
          "base_uri": "https://localhost:8080/",
          "height": 32
        }
      },
      "source": [
        "new_df.shape"
      ],
      "execution_count": 0,
      "outputs": [
        {
          "output_type": "execute_result",
          "data": {
            "text/plain": [
              "(27908, 16)"
            ]
          },
          "metadata": {
            "tags": []
          },
          "execution_count": 6
        }
      ]
    },
    {
      "cell_type": "code",
      "metadata": {
        "id": "u-l9FeO3pzMN",
        "colab_type": "code",
        "colab": {}
      },
      "source": [
        "sorted_df = new_df.sort_values(by='last_review').reset_index() # sort by earliest to most recent"
      ],
      "execution_count": 0,
      "outputs": []
    },
    {
      "cell_type": "code",
      "metadata": {
        "id": "7lX4XtUIp0VZ",
        "colab_type": "code",
        "colab": {}
      },
      "source": [
        "train = sorted_df[sorted_df.index < (0.85 * len(sorted_df))] # give me the indices that less than 23721\n",
        "test = sorted_df[sorted_df.index > (.85 * len(sorted_df))] # give me those \"above\" 23721"
      ],
      "execution_count": 0,
      "outputs": []
    },
    {
      "cell_type": "code",
      "metadata": {
        "id": "k8K0gevWp-lj",
        "colab_type": "code",
        "outputId": "f65b8886-8a04-471d-8886-d5e13afc058e",
        "colab": {
          "base_uri": "https://localhost:8080/",
          "height": 32
        }
      },
      "source": [
        "test.shape, train.shape"
      ],
      "execution_count": 0,
      "outputs": [
        {
          "output_type": "execute_result",
          "data": {
            "text/plain": [
              "((4186, 17), (23722, 17))"
            ]
          },
          "metadata": {
            "tags": []
          },
          "execution_count": 15
        }
      ]
    },
    {
      "cell_type": "code",
      "metadata": {
        "id": "H2d9q8IspxHe",
        "colab_type": "code",
        "colab": {}
      },
      "source": [
        "from sklearn.model_selection import train_test_split\n",
        "train, val = train_test_split(train, random_state=10)\n",
        "\n",
        "# even though I randomly split train to have a train and val set, the train/test\n",
        "# split is not random. the test set has more recent data"
      ],
      "execution_count": 0,
      "outputs": []
    },
    {
      "cell_type": "code",
      "metadata": {
        "id": "eNJ73ZoKqn03",
        "colab_type": "code",
        "outputId": "9f879bdf-d5cd-4e84-b093-ee1cd2770e40",
        "colab": {
          "base_uri": "https://localhost:8080/",
          "height": 32
        }
      },
      "source": [
        "train.shape, val.shape"
      ],
      "execution_count": 0,
      "outputs": [
        {
          "output_type": "execute_result",
          "data": {
            "text/plain": [
              "((17791, 17), (5931, 17))"
            ]
          },
          "metadata": {
            "tags": []
          },
          "execution_count": 17
        }
      ]
    },
    {
      "cell_type": "code",
      "metadata": {
        "id": "teP49f3HqpkK",
        "colab_type": "code",
        "colab": {}
      },
      "source": [
        "train = train.copy()\n",
        "val = val.copy()\n",
        "test = test.copy()\n",
        "\n",
        "def separating_date(df):\n",
        "  df['month'] = df['last_review'].dt.month\n",
        "  df['year'] = df['last_review'].dt.year\n",
        "  df['day'] = df['last_review'].dt.day\n",
        "\n",
        "separating_date(train)\n",
        "separating_date(val)\n",
        "separating_date(test)"
      ],
      "execution_count": 0,
      "outputs": []
    },
    {
      "cell_type": "code",
      "metadata": {
        "id": "-d_lOUnErXxJ",
        "colab_type": "code",
        "colab": {}
      },
      "source": [
        "import numpy as np\n",
        "train = train.copy()\n",
        "test = test.copy()\n",
        "val = val.copy()\n",
        "train['log_price'] = np.log1p(train['price'])\n",
        "val['log_price'] = np.log1p(val['price'])\n",
        "test['log_price'] = np.log1p(test['price'])"
      ],
      "execution_count": 0,
      "outputs": []
    },
    {
      "cell_type": "code",
      "metadata": {
        "id": "Z9wwMhnyrjAl",
        "colab_type": "code",
        "outputId": "5454cc6a-552a-43d3-d411-9464b3545d34",
        "colab": {
          "base_uri": "https://localhost:8080/",
          "height": 554
        }
      },
      "source": [
        "print(train.shape)\n",
        "train.head()"
      ],
      "execution_count": 0,
      "outputs": [
        {
          "output_type": "stream",
          "text": [
            "(17791, 18)\n"
          ],
          "name": "stdout"
        },
        {
          "output_type": "execute_result",
          "data": {
            "text/html": [
              "<div>\n",
              "<style scoped>\n",
              "    .dataframe tbody tr th:only-of-type {\n",
              "        vertical-align: middle;\n",
              "    }\n",
              "\n",
              "    .dataframe tbody tr th {\n",
              "        vertical-align: top;\n",
              "    }\n",
              "\n",
              "    .dataframe thead th {\n",
              "        text-align: right;\n",
              "    }\n",
              "</style>\n",
              "<table border=\"1\" class=\"dataframe\">\n",
              "  <thead>\n",
              "    <tr style=\"text-align: right;\">\n",
              "      <th></th>\n",
              "      <th>index</th>\n",
              "      <th>id</th>\n",
              "      <th>name</th>\n",
              "      <th>host_id</th>\n",
              "      <th>host_name</th>\n",
              "      <th>neighbourhood_group</th>\n",
              "      <th>neighbourhood</th>\n",
              "      <th>latitude</th>\n",
              "      <th>longitude</th>\n",
              "      <th>room_type</th>\n",
              "      <th>price</th>\n",
              "      <th>minimum_nights</th>\n",
              "      <th>number_of_reviews</th>\n",
              "      <th>last_review</th>\n",
              "      <th>reviews_per_month</th>\n",
              "      <th>calculated_host_listings_count</th>\n",
              "      <th>availability_365</th>\n",
              "      <th>log_price</th>\n",
              "    </tr>\n",
              "  </thead>\n",
              "  <tbody>\n",
              "    <tr>\n",
              "      <th>22246</th>\n",
              "      <td>45511</td>\n",
              "      <td>34804749</td>\n",
              "      <td>Cozy East Village Studio - Backyard Space</td>\n",
              "      <td>81351940</td>\n",
              "      <td>Rick</td>\n",
              "      <td>Manhattan</td>\n",
              "      <td>East Village</td>\n",
              "      <td>40.72387</td>\n",
              "      <td>-73.97845</td>\n",
              "      <td>Entire home/apt</td>\n",
              "      <td>166</td>\n",
              "      <td>2</td>\n",
              "      <td>4</td>\n",
              "      <td>2019-06-30</td>\n",
              "      <td>2.79</td>\n",
              "      <td>1</td>\n",
              "      <td>75</td>\n",
              "      <td>5.117994</td>\n",
              "    </tr>\n",
              "    <tr>\n",
              "      <th>12234</th>\n",
              "      <td>35996</td>\n",
              "      <td>28606376</td>\n",
              "      <td>Bedroom Apartment in the Heart of Manhattan</td>\n",
              "      <td>215897007</td>\n",
              "      <td>Joana</td>\n",
              "      <td>Manhattan</td>\n",
              "      <td>Murray Hill</td>\n",
              "      <td>40.74536</td>\n",
              "      <td>-73.97506</td>\n",
              "      <td>Private room</td>\n",
              "      <td>355</td>\n",
              "      <td>2</td>\n",
              "      <td>13</td>\n",
              "      <td>2019-06-09</td>\n",
              "      <td>1.49</td>\n",
              "      <td>1</td>\n",
              "      <td>308</td>\n",
              "      <td>5.874931</td>\n",
              "    </tr>\n",
              "    <tr>\n",
              "      <th>16976</th>\n",
              "      <td>14288</td>\n",
              "      <td>11100490</td>\n",
              "      <td>Massive 3 bedroom with Patio</td>\n",
              "      <td>57648603</td>\n",
              "      <td>Shpresa</td>\n",
              "      <td>Manhattan</td>\n",
              "      <td>Gramercy</td>\n",
              "      <td>40.73562</td>\n",
              "      <td>-73.98756</td>\n",
              "      <td>Entire home/apt</td>\n",
              "      <td>500</td>\n",
              "      <td>4</td>\n",
              "      <td>49</td>\n",
              "      <td>2019-06-22</td>\n",
              "      <td>1.23</td>\n",
              "      <td>1</td>\n",
              "      <td>249</td>\n",
              "      <td>6.216606</td>\n",
              "    </tr>\n",
              "    <tr>\n",
              "      <th>14470</th>\n",
              "      <td>44835</td>\n",
              "      <td>34419723</td>\n",
              "      <td>420 + Sunny! Private room w/balcony</td>\n",
              "      <td>34356520</td>\n",
              "      <td>Jacquelyn</td>\n",
              "      <td>Queens</td>\n",
              "      <td>Ridgewood</td>\n",
              "      <td>40.71104</td>\n",
              "      <td>-73.90303</td>\n",
              "      <td>Private room</td>\n",
              "      <td>65</td>\n",
              "      <td>2</td>\n",
              "      <td>7</td>\n",
              "      <td>2019-06-16</td>\n",
              "      <td>4.04</td>\n",
              "      <td>1</td>\n",
              "      <td>104</td>\n",
              "      <td>4.189655</td>\n",
              "    </tr>\n",
              "    <tr>\n",
              "      <th>17094</th>\n",
              "      <td>38907</td>\n",
              "      <td>30437968</td>\n",
              "      <td>Beautiful one bed in the best part of Brooklyn</td>\n",
              "      <td>52575295</td>\n",
              "      <td>Jonny</td>\n",
              "      <td>Brooklyn</td>\n",
              "      <td>Williamsburg</td>\n",
              "      <td>40.71972</td>\n",
              "      <td>-73.95705</td>\n",
              "      <td>Entire home/apt</td>\n",
              "      <td>295</td>\n",
              "      <td>5</td>\n",
              "      <td>3</td>\n",
              "      <td>2019-06-22</td>\n",
              "      <td>0.49</td>\n",
              "      <td>1</td>\n",
              "      <td>46</td>\n",
              "      <td>5.690359</td>\n",
              "    </tr>\n",
              "  </tbody>\n",
              "</table>\n",
              "</div>"
            ],
            "text/plain": [
              "       index        id  ... availability_365  log_price\n",
              "22246  45511  34804749  ...               75   5.117994\n",
              "12234  35996  28606376  ...              308   5.874931\n",
              "16976  14288  11100490  ...              249   6.216606\n",
              "14470  44835  34419723  ...              104   4.189655\n",
              "17094  38907  30437968  ...               46   5.690359\n",
              "\n",
              "[5 rows x 18 columns]"
            ]
          },
          "metadata": {
            "tags": []
          },
          "execution_count": 23
        }
      ]
    },
    {
      "cell_type": "code",
      "metadata": {
        "id": "lObgAf2krmp5",
        "colab_type": "code",
        "outputId": "656a788f-e793-4c0b-c32a-c3f5668c1d14",
        "colab": {
          "base_uri": "https://localhost:8080/",
          "height": 554
        }
      },
      "source": [
        "print(test.shape)\n",
        "test.head()"
      ],
      "execution_count": 0,
      "outputs": [
        {
          "output_type": "stream",
          "text": [
            "(4186, 18)\n"
          ],
          "name": "stdout"
        },
        {
          "output_type": "execute_result",
          "data": {
            "text/html": [
              "<div>\n",
              "<style scoped>\n",
              "    .dataframe tbody tr th:only-of-type {\n",
              "        vertical-align: middle;\n",
              "    }\n",
              "\n",
              "    .dataframe tbody tr th {\n",
              "        vertical-align: top;\n",
              "    }\n",
              "\n",
              "    .dataframe thead th {\n",
              "        text-align: right;\n",
              "    }\n",
              "</style>\n",
              "<table border=\"1\" class=\"dataframe\">\n",
              "  <thead>\n",
              "    <tr style=\"text-align: right;\">\n",
              "      <th></th>\n",
              "      <th>index</th>\n",
              "      <th>id</th>\n",
              "      <th>name</th>\n",
              "      <th>host_id</th>\n",
              "      <th>host_name</th>\n",
              "      <th>neighbourhood_group</th>\n",
              "      <th>neighbourhood</th>\n",
              "      <th>latitude</th>\n",
              "      <th>longitude</th>\n",
              "      <th>room_type</th>\n",
              "      <th>price</th>\n",
              "      <th>minimum_nights</th>\n",
              "      <th>number_of_reviews</th>\n",
              "      <th>last_review</th>\n",
              "      <th>reviews_per_month</th>\n",
              "      <th>calculated_host_listings_count</th>\n",
              "      <th>availability_365</th>\n",
              "      <th>log_price</th>\n",
              "    </tr>\n",
              "  </thead>\n",
              "  <tbody>\n",
              "    <tr>\n",
              "      <th>23722</th>\n",
              "      <td>17457</td>\n",
              "      <td>13749474</td>\n",
              "      <td>The Brooklyn RedStone</td>\n",
              "      <td>40507839</td>\n",
              "      <td>Terrie</td>\n",
              "      <td>Brooklyn</td>\n",
              "      <td>Bedford-Stuyvesant</td>\n",
              "      <td>40.68574</td>\n",
              "      <td>-73.92975</td>\n",
              "      <td>Entire home/apt</td>\n",
              "      <td>118</td>\n",
              "      <td>3</td>\n",
              "      <td>20</td>\n",
              "      <td>2019-07-01</td>\n",
              "      <td>3.21</td>\n",
              "      <td>1</td>\n",
              "      <td>33</td>\n",
              "      <td>4.779123</td>\n",
              "    </tr>\n",
              "    <tr>\n",
              "      <th>23723</th>\n",
              "      <td>37981</td>\n",
              "      <td>30020090</td>\n",
              "      <td>Large Chic Uptown NYC Apartment</td>\n",
              "      <td>225646557</td>\n",
              "      <td>Mike</td>\n",
              "      <td>Manhattan</td>\n",
              "      <td>Washington Heights</td>\n",
              "      <td>40.83901</td>\n",
              "      <td>-73.93802</td>\n",
              "      <td>Entire home/apt</td>\n",
              "      <td>199</td>\n",
              "      <td>2</td>\n",
              "      <td>18</td>\n",
              "      <td>2019-07-01</td>\n",
              "      <td>2.56</td>\n",
              "      <td>1</td>\n",
              "      <td>171</td>\n",
              "      <td>5.298317</td>\n",
              "    </tr>\n",
              "    <tr>\n",
              "      <th>23724</th>\n",
              "      <td>45155</td>\n",
              "      <td>34569042</td>\n",
              "      <td>4 Rooms 3 Bedroom Pre War Central Park West Co...</td>\n",
              "      <td>26935678</td>\n",
              "      <td>Zach</td>\n",
              "      <td>Manhattan</td>\n",
              "      <td>Upper West Side</td>\n",
              "      <td>40.80032</td>\n",
              "      <td>-73.95998</td>\n",
              "      <td>Entire home/apt</td>\n",
              "      <td>285</td>\n",
              "      <td>1</td>\n",
              "      <td>9</td>\n",
              "      <td>2019-07-01</td>\n",
              "      <td>5.09</td>\n",
              "      <td>1</td>\n",
              "      <td>229</td>\n",
              "      <td>5.655992</td>\n",
              "    </tr>\n",
              "    <tr>\n",
              "      <th>23725</th>\n",
              "      <td>45156</td>\n",
              "      <td>34569454</td>\n",
              "      <td>Surf-N-Sleep By the Sea Studio</td>\n",
              "      <td>260842282</td>\n",
              "      <td>Andy</td>\n",
              "      <td>Queens</td>\n",
              "      <td>Arverne</td>\n",
              "      <td>40.59269</td>\n",
              "      <td>-73.79635</td>\n",
              "      <td>Entire home/apt</td>\n",
              "      <td>95</td>\n",
              "      <td>2</td>\n",
              "      <td>6</td>\n",
              "      <td>2019-07-01</td>\n",
              "      <td>3.46</td>\n",
              "      <td>1</td>\n",
              "      <td>348</td>\n",
              "      <td>4.564348</td>\n",
              "    </tr>\n",
              "    <tr>\n",
              "      <th>23726</th>\n",
              "      <td>36602</td>\n",
              "      <td>29101869</td>\n",
              "      <td>Sunny apartment with piano + yard!</td>\n",
              "      <td>161873557</td>\n",
              "      <td>Natalia</td>\n",
              "      <td>Brooklyn</td>\n",
              "      <td>Bedford-Stuyvesant</td>\n",
              "      <td>40.69898</td>\n",
              "      <td>-73.94705</td>\n",
              "      <td>Entire home/apt</td>\n",
              "      <td>85</td>\n",
              "      <td>3</td>\n",
              "      <td>34</td>\n",
              "      <td>2019-07-01</td>\n",
              "      <td>4.36</td>\n",
              "      <td>1</td>\n",
              "      <td>42</td>\n",
              "      <td>4.454347</td>\n",
              "    </tr>\n",
              "  </tbody>\n",
              "</table>\n",
              "</div>"
            ],
            "text/plain": [
              "       index        id  ... availability_365  log_price\n",
              "23722  17457  13749474  ...               33   4.779123\n",
              "23723  37981  30020090  ...              171   5.298317\n",
              "23724  45155  34569042  ...              229   5.655992\n",
              "23725  45156  34569454  ...              348   4.564348\n",
              "23726  36602  29101869  ...               42   4.454347\n",
              "\n",
              "[5 rows x 18 columns]"
            ]
          },
          "metadata": {
            "tags": []
          },
          "execution_count": 24
        }
      ]
    },
    {
      "cell_type": "code",
      "metadata": {
        "id": "czix_4wprncX",
        "colab_type": "code",
        "outputId": "36dc0c2b-df48-4c34-bd1e-df3e40fb17a3",
        "colab": {
          "base_uri": "https://localhost:8080/",
          "height": 503
        }
      },
      "source": [
        "print(val.shape)\n",
        "val.head()"
      ],
      "execution_count": 0,
      "outputs": [
        {
          "output_type": "stream",
          "text": [
            "(5931, 18)\n"
          ],
          "name": "stdout"
        },
        {
          "output_type": "execute_result",
          "data": {
            "text/html": [
              "<div>\n",
              "<style scoped>\n",
              "    .dataframe tbody tr th:only-of-type {\n",
              "        vertical-align: middle;\n",
              "    }\n",
              "\n",
              "    .dataframe tbody tr th {\n",
              "        vertical-align: top;\n",
              "    }\n",
              "\n",
              "    .dataframe thead th {\n",
              "        text-align: right;\n",
              "    }\n",
              "</style>\n",
              "<table border=\"1\" class=\"dataframe\">\n",
              "  <thead>\n",
              "    <tr style=\"text-align: right;\">\n",
              "      <th></th>\n",
              "      <th>index</th>\n",
              "      <th>id</th>\n",
              "      <th>name</th>\n",
              "      <th>host_id</th>\n",
              "      <th>host_name</th>\n",
              "      <th>neighbourhood_group</th>\n",
              "      <th>neighbourhood</th>\n",
              "      <th>latitude</th>\n",
              "      <th>longitude</th>\n",
              "      <th>room_type</th>\n",
              "      <th>price</th>\n",
              "      <th>minimum_nights</th>\n",
              "      <th>number_of_reviews</th>\n",
              "      <th>last_review</th>\n",
              "      <th>reviews_per_month</th>\n",
              "      <th>calculated_host_listings_count</th>\n",
              "      <th>availability_365</th>\n",
              "      <th>log_price</th>\n",
              "    </tr>\n",
              "  </thead>\n",
              "  <tbody>\n",
              "    <tr>\n",
              "      <th>17522</th>\n",
              "      <td>20214</td>\n",
              "      <td>16172073</td>\n",
              "      <td>Sunny renovated 1 BR in Brooklyn by Prospect Park</td>\n",
              "      <td>105572605</td>\n",
              "      <td>Peter</td>\n",
              "      <td>Brooklyn</td>\n",
              "      <td>Flatbush</td>\n",
              "      <td>40.64745</td>\n",
              "      <td>-73.96207</td>\n",
              "      <td>Entire home/apt</td>\n",
              "      <td>72</td>\n",
              "      <td>1</td>\n",
              "      <td>15</td>\n",
              "      <td>2019-06-23</td>\n",
              "      <td>3.13</td>\n",
              "      <td>1</td>\n",
              "      <td>1</td>\n",
              "      <td>4.290459</td>\n",
              "    </tr>\n",
              "    <tr>\n",
              "      <th>5248</th>\n",
              "      <td>3896</td>\n",
              "      <td>2404708</td>\n",
              "      <td>Williamsburg 1 bedroom appartement</td>\n",
              "      <td>12290324</td>\n",
              "      <td>Lara</td>\n",
              "      <td>Brooklyn</td>\n",
              "      <td>Williamsburg</td>\n",
              "      <td>40.71952</td>\n",
              "      <td>-73.96281</td>\n",
              "      <td>Entire home/apt</td>\n",
              "      <td>250</td>\n",
              "      <td>5</td>\n",
              "      <td>21</td>\n",
              "      <td>2019-03-28</td>\n",
              "      <td>0.35</td>\n",
              "      <td>1</td>\n",
              "      <td>284</td>\n",
              "      <td>5.525453</td>\n",
              "    </tr>\n",
              "    <tr>\n",
              "      <th>19274</th>\n",
              "      <td>21042</td>\n",
              "      <td>16677866</td>\n",
              "      <td>Nice Private Studio Apartment</td>\n",
              "      <td>107296819</td>\n",
              "      <td>Alexandra</td>\n",
              "      <td>Manhattan</td>\n",
              "      <td>East Harlem</td>\n",
              "      <td>40.79747</td>\n",
              "      <td>-73.93559</td>\n",
              "      <td>Entire home/apt</td>\n",
              "      <td>105</td>\n",
              "      <td>1</td>\n",
              "      <td>124</td>\n",
              "      <td>2019-06-24</td>\n",
              "      <td>4.18</td>\n",
              "      <td>3</td>\n",
              "      <td>0</td>\n",
              "      <td>4.663439</td>\n",
              "    </tr>\n",
              "    <tr>\n",
              "      <th>10400</th>\n",
              "      <td>20829</td>\n",
              "      <td>16497297</td>\n",
              "      <td>Glass factory loft</td>\n",
              "      <td>5379884</td>\n",
              "      <td>Jacob</td>\n",
              "      <td>Brooklyn</td>\n",
              "      <td>Greenpoint</td>\n",
              "      <td>40.73792</td>\n",
              "      <td>-73.95541</td>\n",
              "      <td>Private room</td>\n",
              "      <td>60</td>\n",
              "      <td>7</td>\n",
              "      <td>5</td>\n",
              "      <td>2019-05-31</td>\n",
              "      <td>0.16</td>\n",
              "      <td>1</td>\n",
              "      <td>0</td>\n",
              "      <td>4.110874</td>\n",
              "    </tr>\n",
              "    <tr>\n",
              "      <th>9754</th>\n",
              "      <td>2829</td>\n",
              "      <td>1586641</td>\n",
              "      <td>SALE- SUNNY MASTER BEDROOM NEAR MANHATTAN</td>\n",
              "      <td>8452639</td>\n",
              "      <td>C S</td>\n",
              "      <td>Brooklyn</td>\n",
              "      <td>Flatbush</td>\n",
              "      <td>40.64919</td>\n",
              "      <td>-73.96143</td>\n",
              "      <td>Private room</td>\n",
              "      <td>84</td>\n",
              "      <td>2</td>\n",
              "      <td>68</td>\n",
              "      <td>2019-05-27</td>\n",
              "      <td>0.96</td>\n",
              "      <td>3</td>\n",
              "      <td>362</td>\n",
              "      <td>4.442651</td>\n",
              "    </tr>\n",
              "  </tbody>\n",
              "</table>\n",
              "</div>"
            ],
            "text/plain": [
              "       index        id  ... availability_365  log_price\n",
              "17522  20214  16172073  ...                1   4.290459\n",
              "5248    3896   2404708  ...              284   5.525453\n",
              "19274  21042  16677866  ...                0   4.663439\n",
              "10400  20829  16497297  ...                0   4.110874\n",
              "9754    2829   1586641  ...              362   4.442651\n",
              "\n",
              "[5 rows x 18 columns]"
            ]
          },
          "metadata": {
            "tags": []
          },
          "execution_count": 25
        }
      ]
    },
    {
      "cell_type": "code",
      "metadata": {
        "id": "EHh9nZomsSB5",
        "colab_type": "code",
        "colab": {}
      },
      "source": [
        "# to_drop = ['index', 'id', 'name', 'host_id', 'host_name', 'last_review', 'price', 'log_price']\n",
        "# train = train.drop(columns=to_drop)\n",
        "# val = val.drop(columns=to_drop)\n",
        "# test = test.drop(columns=to_drop)"
      ],
      "execution_count": 0,
      "outputs": []
    },
    {
      "cell_type": "code",
      "metadata": {
        "id": "GI8O6D5iwaME",
        "colab_type": "code",
        "colab": {}
      },
      "source": [
        "features = ['neighbourhood_group', 'neighbourhood', 'latitude',\n",
        " 'longitude',\n",
        " 'room_type',\n",
        " 'minimum_nights',\n",
        " 'number_of_reviews',\n",
        " 'reviews_per_month',\n",
        " 'calculated_host_listings_count',\n",
        " 'availability_365']"
      ],
      "execution_count": 0,
      "outputs": []
    },
    {
      "cell_type": "code",
      "metadata": {
        "id": "f-s9GYJdrb4X",
        "colab_type": "code",
        "colab": {}
      },
      "source": [
        "target = 'log_price'\n",
        "y_train = train[target]\n",
        "y_test = test[target]\n",
        "y_val = val[target]\n",
        "\n",
        "x_train = train[features]\n",
        "x_val = val[features]\n",
        "x_test = test[features]"
      ],
      "execution_count": 0,
      "outputs": []
    },
    {
      "cell_type": "code",
      "metadata": {
        "id": "RxJ40z9BzIEH",
        "colab_type": "code",
        "outputId": "a0ff00d9-10da-48ca-95bd-4f47a1e55264",
        "colab": {
          "base_uri": "https://localhost:8080/",
          "height": 336
        }
      },
      "source": [
        "!pip install category_encoders"
      ],
      "execution_count": 0,
      "outputs": [
        {
          "output_type": "stream",
          "text": [
            "Collecting category_encoders\n",
            "\u001b[?25l  Downloading https://files.pythonhosted.org/packages/a0/52/c54191ad3782de633ea3d6ee3bb2837bda0cf3bc97644bb6375cf14150a0/category_encoders-2.1.0-py2.py3-none-any.whl (100kB)\n",
            "\r\u001b[K     |███▎                            | 10kB 15.2MB/s eta 0:00:01\r\u001b[K     |██████▌                         | 20kB 6.3MB/s eta 0:00:01\r\u001b[K     |█████████▉                      | 30kB 8.7MB/s eta 0:00:01\r\u001b[K     |█████████████                   | 40kB 5.7MB/s eta 0:00:01\r\u001b[K     |████████████████▍               | 51kB 6.8MB/s eta 0:00:01\r\u001b[K     |███████████████████▋            | 61kB 8.1MB/s eta 0:00:01\r\u001b[K     |██████████████████████▉         | 71kB 9.2MB/s eta 0:00:01\r\u001b[K     |██████████████████████████▏     | 81kB 10.2MB/s eta 0:00:01\r\u001b[K     |█████████████████████████████▍  | 92kB 11.3MB/s eta 0:00:01\r\u001b[K     |████████████████████████████████| 102kB 8.2MB/s \n",
            "\u001b[?25hRequirement already satisfied: statsmodels>=0.6.1 in /usr/local/lib/python3.6/dist-packages (from category_encoders) (0.10.1)\n",
            "Requirement already satisfied: scipy>=0.19.0 in /usr/local/lib/python3.6/dist-packages (from category_encoders) (1.3.1)\n",
            "Requirement already satisfied: numpy>=1.11.3 in /usr/local/lib/python3.6/dist-packages (from category_encoders) (1.16.5)\n",
            "Requirement already satisfied: patsy>=0.4.1 in /usr/local/lib/python3.6/dist-packages (from category_encoders) (0.5.1)\n",
            "Requirement already satisfied: pandas>=0.21.1 in /usr/local/lib/python3.6/dist-packages (from category_encoders) (0.24.2)\n",
            "Requirement already satisfied: scikit-learn>=0.20.0 in /usr/local/lib/python3.6/dist-packages (from category_encoders) (0.21.3)\n",
            "Requirement already satisfied: six in /usr/local/lib/python3.6/dist-packages (from patsy>=0.4.1->category_encoders) (1.12.0)\n",
            "Requirement already satisfied: pytz>=2011k in /usr/local/lib/python3.6/dist-packages (from pandas>=0.21.1->category_encoders) (2018.9)\n",
            "Requirement already satisfied: python-dateutil>=2.5.0 in /usr/local/lib/python3.6/dist-packages (from pandas>=0.21.1->category_encoders) (2.5.3)\n",
            "Requirement already satisfied: joblib>=0.11 in /usr/local/lib/python3.6/dist-packages (from scikit-learn>=0.20.0->category_encoders) (0.14.0)\n",
            "Installing collected packages: category-encoders\n",
            "Successfully installed category-encoders-2.1.0\n"
          ],
          "name": "stdout"
        }
      ]
    },
    {
      "cell_type": "code",
      "metadata": {
        "id": "U6eifoGUy1Lt",
        "colab_type": "code",
        "colab": {}
      },
      "source": [
        "import category_encoders as ce\n",
        "from sklearn.impute import SimpleImputer\n",
        "from sklearn.ensemble import RandomForestRegressor\n",
        "from sklearn.pipeline import make_pipeline\n",
        "from sklearn.metrics import mean_absolute_error, accuracy_score, r2_score\n",
        "\n",
        "pipeline = make_pipeline(\n",
        "    ce.OrdinalEncoder(),\n",
        "    ce.OneHotEncoder(use_cat_names=True),\n",
        "    SimpleImputer(strategy='mean'),\n",
        "    RandomForestRegressor(n_estimators=10, random_state=10)\n",
        ")\n",
        "\n",
        "pipeline.fit(x_train, y_train)\n",
        "# print('Validation Accuracy', pipeline.score(x_val, y_val)) # is accuracy is a good metric in this case?"
      ],
      "execution_count": 0,
      "outputs": []
    },
    {
      "cell_type": "code",
      "metadata": {
        "id": "mg8vT3iZzQjE",
        "colab_type": "code",
        "colab": {}
      },
      "source": [
        "# mae and r2 scores\n",
        "from sklearn.model_selection import cross_validate\n",
        "full_scores = cross_validate(pipeline, x_train, y_train,\n",
        "                                  scoring=['neg_mean_absolute_error', 'r2'],\n",
        "                                  cv=3)"
      ],
      "execution_count": 0,
      "outputs": []
    },
    {
      "cell_type": "code",
      "metadata": {
        "id": "puehYj4K0h7a",
        "colab_type": "code",
        "outputId": "20801c17-abf9-4013-cdfa-40476ba05033",
        "colab": {
          "base_uri": "https://localhost:8080/",
          "height": 82
        }
      },
      "source": [
        "full_scores"
      ],
      "execution_count": 0,
      "outputs": [
        {
          "output_type": "execute_result",
          "data": {
            "text/plain": [
              "{'fit_time': array([0.69163227, 0.66594052, 0.66634297]),\n",
              " 'score_time': array([0.06265783, 0.04925203, 0.05259728]),\n",
              " 'test_neg_mean_absolute_error': array([-0.30718882, -0.31302327, -0.31768537]),\n",
              " 'test_r2': array([0.60208099, 0.58515729, 0.58539411])}"
            ]
          },
          "metadata": {
            "tags": []
          },
          "execution_count": 52
        }
      ]
    },
    {
      "cell_type": "code",
      "metadata": {
        "id": "KBh4iT_r2Mec",
        "colab_type": "code",
        "colab": {}
      },
      "source": [
        "scores = cross_val_score(pipeline, x_train, y_train,\n",
        "                                  scoring='neg_mean_absolute_error',\n",
        "                                  cv=3)"
      ],
      "execution_count": 0,
      "outputs": []
    },
    {
      "cell_type": "code",
      "metadata": {
        "id": "pQUMmOt42Qzl",
        "colab_type": "code",
        "outputId": "9a193475-bb57-4028-8cf0-7f84041a28cb",
        "colab": {
          "base_uri": "https://localhost:8080/",
          "height": 32
        }
      },
      "source": [
        "-scores"
      ],
      "execution_count": 0,
      "outputs": [
        {
          "output_type": "execute_result",
          "data": {
            "text/plain": [
              "array([0.30718882, 0.31302327, 0.31768537])"
            ]
          },
          "metadata": {
            "tags": []
          },
          "execution_count": 58
        }
      ]
    },
    {
      "cell_type": "code",
      "metadata": {
        "id": "Jj7DVFTW2UTL",
        "colab_type": "code",
        "colab": {}
      },
      "source": [
        "scores_r2 = cross_val_score(pipeline, x_train, y_train,\n",
        "                                  scoring='r2',\n",
        "                                  cv=3)"
      ],
      "execution_count": 0,
      "outputs": []
    },
    {
      "cell_type": "code",
      "metadata": {
        "id": "AdO0fhyU2ZC1",
        "colab_type": "code",
        "outputId": "2738dff3-ffd9-4819-d3b7-244b001e86e8",
        "colab": {
          "base_uri": "https://localhost:8080/",
          "height": 32
        }
      },
      "source": [
        "scores_r2"
      ],
      "execution_count": 0,
      "outputs": [
        {
          "output_type": "execute_result",
          "data": {
            "text/plain": [
              "array([0.60208099, 0.58515729, 0.58539411])"
            ]
          },
          "metadata": {
            "tags": []
          },
          "execution_count": 60
        }
      ]
    },
    {
      "cell_type": "code",
      "metadata": {
        "id": "ZV0efdIr2CXf",
        "colab_type": "code",
        "outputId": "71fc7328-8fc4-424e-9722-9c9eaec0defa",
        "colab": {
          "base_uri": "https://localhost:8080/",
          "height": 197
        }
      },
      "source": [
        "pd.Series(pipeline.named_steps['randomforestregressor'].feature_importances_, index=features)"
      ],
      "execution_count": 0,
      "outputs": [
        {
          "output_type": "execute_result",
          "data": {
            "text/plain": [
              "neighbourhood_group               0.040131\n",
              "neighbourhood                     0.026836\n",
              "latitude                          0.113048\n",
              "longitude                         0.126780\n",
              "room_type                         0.423149\n",
              "minimum_nights                    0.045708\n",
              "number_of_reviews                 0.053620\n",
              "reviews_per_month                 0.064698\n",
              "calculated_host_listings_count    0.026598\n",
              "availability_365                  0.079432\n",
              "dtype: float64"
            ]
          },
          "metadata": {
            "tags": []
          },
          "execution_count": 62
        }
      ]
    },
    {
      "cell_type": "code",
      "metadata": {
        "id": "qbt_S0eE-3l3",
        "colab_type": "code",
        "outputId": "00228777-130d-44b5-ccfe-20fc6619d194",
        "colab": {
          "base_uri": "https://localhost:8080/",
          "height": 270
        }
      },
      "source": [
        "!pip install eli5"
      ],
      "execution_count": 0,
      "outputs": [
        {
          "output_type": "stream",
          "text": [
            "Collecting eli5\n",
            "\u001b[?25l  Downloading https://files.pythonhosted.org/packages/97/2f/c85c7d8f8548e460829971785347e14e45fa5c6617da374711dec8cb38cc/eli5-0.10.1-py2.py3-none-any.whl (105kB)\n",
            "\r\u001b[K     |███                             | 10kB 12.7MB/s eta 0:00:01\r\u001b[K     |██████▏                         | 20kB 7.2MB/s eta 0:00:01\r\u001b[K     |█████████▎                      | 30kB 9.6MB/s eta 0:00:01\r\u001b[K     |████████████▍                   | 40kB 11.8MB/s eta 0:00:01\r\u001b[K     |███████████████▌                | 51kB 7.6MB/s eta 0:00:01\r\u001b[K     |██████████████████▋             | 61kB 8.7MB/s eta 0:00:01\r\u001b[K     |█████████████████████▊          | 71kB 9.8MB/s eta 0:00:01\r\u001b[K     |████████████████████████▊       | 81kB 10.8MB/s eta 0:00:01\r\u001b[K     |███████████████████████████▉    | 92kB 11.9MB/s eta 0:00:01\r\u001b[K     |███████████████████████████████ | 102kB 9.6MB/s eta 0:00:01\r\u001b[K     |████████████████████████████████| 112kB 9.6MB/s \n",
            "\u001b[?25hRequirement already satisfied: numpy>=1.9.0 in /usr/local/lib/python3.6/dist-packages (from eli5) (1.16.5)\n",
            "Requirement already satisfied: graphviz in /usr/local/lib/python3.6/dist-packages (from eli5) (0.10.1)\n",
            "Requirement already satisfied: six in /usr/local/lib/python3.6/dist-packages (from eli5) (1.12.0)\n",
            "Requirement already satisfied: jinja2 in /usr/local/lib/python3.6/dist-packages (from eli5) (2.10.3)\n",
            "Requirement already satisfied: scikit-learn>=0.18 in /usr/local/lib/python3.6/dist-packages (from eli5) (0.21.3)\n",
            "Requirement already satisfied: attrs>16.0.0 in /usr/local/lib/python3.6/dist-packages (from eli5) (19.2.0)\n",
            "Requirement already satisfied: scipy in /usr/local/lib/python3.6/dist-packages (from eli5) (1.3.1)\n",
            "Requirement already satisfied: tabulate>=0.7.7 in /usr/local/lib/python3.6/dist-packages (from eli5) (0.8.5)\n",
            "Requirement already satisfied: MarkupSafe>=0.23 in /usr/local/lib/python3.6/dist-packages (from jinja2->eli5) (1.1.1)\n",
            "Requirement already satisfied: joblib>=0.11 in /usr/local/lib/python3.6/dist-packages (from scikit-learn>=0.18->eli5) (0.14.0)\n",
            "Installing collected packages: eli5\n",
            "Successfully installed eli5-0.10.1\n"
          ],
          "name": "stdout"
        }
      ]
    },
    {
      "cell_type": "code",
      "metadata": {
        "id": "477J9RTv_otG",
        "colab_type": "code",
        "colab": {}
      },
      "source": [
        ""
      ],
      "execution_count": 0,
      "outputs": []
    },
    {
      "cell_type": "code",
      "metadata": {
        "id": "VjAMU0Qd_oyt",
        "colab_type": "code",
        "colab": {}
      },
      "source": [
        ""
      ],
      "execution_count": 0,
      "outputs": []
    },
    {
      "cell_type": "code",
      "metadata": {
        "id": "RzK-Fv1o_o5U",
        "colab_type": "code",
        "colab": {}
      },
      "source": [
        ""
      ],
      "execution_count": 0,
      "outputs": []
    },
    {
      "cell_type": "code",
      "metadata": {
        "id": "F_8lwGsk_Csj",
        "colab_type": "code",
        "outputId": "ee219804-ba89-484e-aded-141aa90e994d",
        "colab": {
          "base_uri": "https://localhost:8080/",
          "height": 131
        }
      },
      "source": [
        "pipeline_transformer = make_pipeline(\n",
        "    ce.OrdinalEncoder(),\n",
        "    ce.OneHotEncoder(use_cat_names=True),\n",
        "    #SimpleImputer(strategy='median')\n",
        ")\n",
        "\n",
        "x_train_transformed = pipeline_transformer.fit_transform(x_train)\n",
        "x_val_transformed = pipeline_transformer.transform(x_val)\n",
        "\n",
        "model = RandomForestRegressor(n_estimators=100, random_state=10, n_jobs=-1)\n",
        "model.fit(x_train_transformed, y_train)"
      ],
      "execution_count": 0,
      "outputs": [
        {
          "output_type": "execute_result",
          "data": {
            "text/plain": [
              "RandomForestRegressor(bootstrap=True, criterion='mse', max_depth=None,\n",
              "                      max_features='auto', max_leaf_nodes=None,\n",
              "                      min_impurity_decrease=0.0, min_impurity_split=None,\n",
              "                      min_samples_leaf=1, min_samples_split=2,\n",
              "                      min_weight_fraction_leaf=0.0, n_estimators=100, n_jobs=-1,\n",
              "                      oob_score=False, random_state=10, verbose=0,\n",
              "                      warm_start=False)"
            ]
          },
          "metadata": {
            "tags": []
          },
          "execution_count": 100
        }
      ]
    },
    {
      "cell_type": "code",
      "metadata": {
        "id": "1ZB5hGh-8Ixr",
        "colab_type": "code",
        "outputId": "d6cc5c5d-ce50-46fe-bb88-7ccb9ca661f9",
        "colab": {
          "base_uri": "https://localhost:8080/",
          "height": 312
        }
      },
      "source": [
        "import eli5\n",
        "from eli5.sklearn import PermutationImportance\n",
        "\n",
        "permuter = PermutationImportance(\n",
        "    model, # error because I was putting this: pipeline_transformer\n",
        "    scoring='r2', \n",
        "    n_iter=5, \n",
        "    random_state=10\n",
        ")\n",
        "\n",
        "permuter.fit(x_val_transformed, y_val)"
      ],
      "execution_count": 0,
      "outputs": [
        {
          "output_type": "execute_result",
          "data": {
            "text/plain": [
              "PermutationImportance(cv='prefit',\n",
              "                      estimator=RandomForestRegressor(bootstrap=True,\n",
              "                                                      criterion='mse',\n",
              "                                                      max_depth=None,\n",
              "                                                      max_features='auto',\n",
              "                                                      max_leaf_nodes=None,\n",
              "                                                      min_impurity_decrease=0.0,\n",
              "                                                      min_impurity_split=None,\n",
              "                                                      min_samples_leaf=1,\n",
              "                                                      min_samples_split=2,\n",
              "                                                      min_weight_fraction_leaf=0.0,\n",
              "                                                      n_estimators=100,\n",
              "                                                      n_jobs=-1,\n",
              "                                                      oob_score=False,\n",
              "                                                      random_state=10,\n",
              "                                                      verbose=0,\n",
              "                                                      warm_start=False),\n",
              "                      n_iter=5, random_state=10, refit=True, scoring='r2')"
            ]
          },
          "metadata": {
            "tags": []
          },
          "execution_count": 102
        }
      ]
    },
    {
      "cell_type": "code",
      "metadata": {
        "id": "4eE_uVlY8KO6",
        "colab_type": "code",
        "outputId": "c2fa95eb-b22f-46dd-b0ba-b72a4f6b8ab1",
        "colab": {
          "base_uri": "https://localhost:8080/",
          "height": 197
        }
      },
      "source": [
        "eli5.show_weights(\n",
        "    permuter, \n",
        "    top=None, # show permutation importances for all features\n",
        "    feature_names=features\n",
        ")"
      ],
      "execution_count": 0,
      "outputs": [
        {
          "output_type": "execute_result",
          "data": {
            "text/html": [
              "\n",
              "    <style>\n",
              "    table.eli5-weights tr:hover {\n",
              "        filter: brightness(85%);\n",
              "    }\n",
              "</style>\n",
              "\n",
              "\n",
              "\n",
              "    \n",
              "\n",
              "    \n",
              "\n",
              "    \n",
              "\n",
              "    \n",
              "\n",
              "    \n",
              "\n",
              "    \n",
              "\n",
              "\n",
              "    \n",
              "\n",
              "    \n",
              "\n",
              "    \n",
              "\n",
              "    \n",
              "\n",
              "    \n",
              "\n",
              "    \n",
              "\n",
              "\n",
              "    \n",
              "\n",
              "    \n",
              "\n",
              "    \n",
              "\n",
              "    \n",
              "\n",
              "    \n",
              "        <table class=\"eli5-weights eli5-feature-importances\" style=\"border-collapse: collapse; border: none; margin-top: 0em; table-layout: auto;\">\n",
              "    <thead>\n",
              "    <tr style=\"border: none;\">\n",
              "        <th style=\"padding: 0 1em 0 0.5em; text-align: right; border: none;\">Weight</th>\n",
              "        <th style=\"padding: 0 0.5em 0 0.5em; text-align: left; border: none;\">Feature</th>\n",
              "    </tr>\n",
              "    </thead>\n",
              "    <tbody>\n",
              "    \n",
              "        <tr style=\"background-color: hsl(120, 100.00%, 80.00%); border: none;\">\n",
              "            <td style=\"padding: 0 1em 0 0.5em; text-align: right; border: none;\">\n",
              "                0.7458\n",
              "                \n",
              "                    &plusmn; 0.0302\n",
              "                \n",
              "            </td>\n",
              "            <td style=\"padding: 0 0.5em 0 0.5em; text-align: left; border: none;\">\n",
              "                room_type\n",
              "            </td>\n",
              "        </tr>\n",
              "    \n",
              "        <tr style=\"background-color: hsl(120, 100.00%, 91.76%); border: none;\">\n",
              "            <td style=\"padding: 0 1em 0 0.5em; text-align: right; border: none;\">\n",
              "                0.2101\n",
              "                \n",
              "                    &plusmn; 0.0160\n",
              "                \n",
              "            </td>\n",
              "            <td style=\"padding: 0 0.5em 0 0.5em; text-align: left; border: none;\">\n",
              "                longitude\n",
              "            </td>\n",
              "        </tr>\n",
              "    \n",
              "        <tr style=\"background-color: hsl(120, 100.00%, 94.25%); border: none;\">\n",
              "            <td style=\"padding: 0 1em 0 0.5em; text-align: right; border: none;\">\n",
              "                0.1256\n",
              "                \n",
              "                    &plusmn; 0.0082\n",
              "                \n",
              "            </td>\n",
              "            <td style=\"padding: 0 0.5em 0 0.5em; text-align: left; border: none;\">\n",
              "                latitude\n",
              "            </td>\n",
              "        </tr>\n",
              "    \n",
              "        <tr style=\"background-color: hsl(120, 100.00%, 95.59%); border: none;\">\n",
              "            <td style=\"padding: 0 1em 0 0.5em; text-align: right; border: none;\">\n",
              "                0.0862\n",
              "                \n",
              "                    &plusmn; 0.0089\n",
              "                \n",
              "            </td>\n",
              "            <td style=\"padding: 0 0.5em 0 0.5em; text-align: left; border: none;\">\n",
              "                availability_365\n",
              "            </td>\n",
              "        </tr>\n",
              "    \n",
              "        <tr style=\"background-color: hsl(120, 100.00%, 95.71%); border: none;\">\n",
              "            <td style=\"padding: 0 1em 0 0.5em; text-align: right; border: none;\">\n",
              "                0.0826\n",
              "                \n",
              "                    &plusmn; 0.0039\n",
              "                \n",
              "            </td>\n",
              "            <td style=\"padding: 0 0.5em 0 0.5em; text-align: left; border: none;\">\n",
              "                minimum_nights\n",
              "            </td>\n",
              "        </tr>\n",
              "    \n",
              "        <tr style=\"background-color: hsl(120, 100.00%, 96.11%); border: none;\">\n",
              "            <td style=\"padding: 0 1em 0 0.5em; text-align: right; border: none;\">\n",
              "                0.0720\n",
              "                \n",
              "                    &plusmn; 0.0069\n",
              "                \n",
              "            </td>\n",
              "            <td style=\"padding: 0 0.5em 0 0.5em; text-align: left; border: none;\">\n",
              "                neighbourhood_group\n",
              "            </td>\n",
              "        </tr>\n",
              "    \n",
              "        <tr style=\"background-color: hsl(120, 100.00%, 97.98%); border: none;\">\n",
              "            <td style=\"padding: 0 1em 0 0.5em; text-align: right; border: none;\">\n",
              "                0.0282\n",
              "                \n",
              "                    &plusmn; 0.0033\n",
              "                \n",
              "            </td>\n",
              "            <td style=\"padding: 0 0.5em 0 0.5em; text-align: left; border: none;\">\n",
              "                calculated_host_listings_count\n",
              "            </td>\n",
              "        </tr>\n",
              "    \n",
              "        <tr style=\"background-color: hsl(120, 100.00%, 98.32%); border: none;\">\n",
              "            <td style=\"padding: 0 1em 0 0.5em; text-align: right; border: none;\">\n",
              "                0.0216\n",
              "                \n",
              "                    &plusmn; 0.0027\n",
              "                \n",
              "            </td>\n",
              "            <td style=\"padding: 0 0.5em 0 0.5em; text-align: left; border: none;\">\n",
              "                number_of_reviews\n",
              "            </td>\n",
              "        </tr>\n",
              "    \n",
              "        <tr style=\"background-color: hsl(120, 100.00%, 98.44%); border: none;\">\n",
              "            <td style=\"padding: 0 1em 0 0.5em; text-align: right; border: none;\">\n",
              "                0.0195\n",
              "                \n",
              "                    &plusmn; 0.0023\n",
              "                \n",
              "            </td>\n",
              "            <td style=\"padding: 0 0.5em 0 0.5em; text-align: left; border: none;\">\n",
              "                reviews_per_month\n",
              "            </td>\n",
              "        </tr>\n",
              "    \n",
              "        <tr style=\"background-color: hsl(120, 100.00%, 99.17%); border: none;\">\n",
              "            <td style=\"padding: 0 1em 0 0.5em; text-align: right; border: none;\">\n",
              "                0.0080\n",
              "                \n",
              "                    &plusmn; 0.0011\n",
              "                \n",
              "            </td>\n",
              "            <td style=\"padding: 0 0.5em 0 0.5em; text-align: left; border: none;\">\n",
              "                neighbourhood\n",
              "            </td>\n",
              "        </tr>\n",
              "    \n",
              "    \n",
              "    </tbody>\n",
              "</table>\n",
              "    \n",
              "\n",
              "    \n",
              "\n",
              "\n",
              "    \n",
              "\n",
              "    \n",
              "\n",
              "    \n",
              "\n",
              "    \n",
              "\n",
              "    \n",
              "\n",
              "    \n",
              "\n",
              "\n",
              "\n"
            ],
            "text/plain": [
              "<IPython.core.display.HTML object>"
            ]
          },
          "metadata": {
            "tags": []
          },
          "execution_count": 103
        }
      ]
    },
    {
      "cell_type": "markdown",
      "metadata": {
        "id": "xsC-t-jX-DWB",
        "colab_type": "text"
      },
      "source": [
        "### boosting"
      ]
    },
    {
      "cell_type": "code",
      "metadata": {
        "id": "Mfymom4p8heJ",
        "colab_type": "code",
        "colab": {}
      },
      "source": [
        "encoder = ce.OneHotEncoder()\n",
        "x_train_encoded = encoder.fit_transform(x_train)\n",
        "x_val_encoded = encoder.transform(x_val)\n",
        "\n",
        "eval_set = [(x_train_encoded, y_train), \n",
        "            (x_val_encoded, y_val)]"
      ],
      "execution_count": 0,
      "outputs": []
    },
    {
      "cell_type": "code",
      "metadata": {
        "id": "H-IbKRhTFJAz",
        "colab_type": "code",
        "colab": {}
      },
      "source": [
        ""
      ],
      "execution_count": 0,
      "outputs": []
    },
    {
      "cell_type": "code",
      "metadata": {
        "id": "0Ya1v3Oe-CYa",
        "colab_type": "code",
        "outputId": "eb783f4e-76e4-4fe7-d392-2e4c92ab5110",
        "colab": {
          "base_uri": "https://localhost:8080/",
          "height": 1000
        }
      },
      "source": [
        "model = XGBRegressor(\n",
        "    n_estimators=200, # <= 1000 trees, depends on early stopping\n",
        "    max_depth=7,       # try deeper trees because of high cardinality categoricals\n",
        "    learning_rate=0.1, # try higher learning rate\n",
        "    n_jobs=-1\n",
        ")\n",
        "\n",
        "model.fit(x_train_encoded, y_train, eval_set=eval_set, early_stopping_rounds=30) # eval_metric='neg_mean_absolute_error'"
      ],
      "execution_count": 0,
      "outputs": [
        {
          "output_type": "stream",
          "text": [
            "/usr/local/lib/python3.6/dist-packages/xgboost/core.py:587: FutureWarning: Series.base is deprecated and will be removed in a future version\n",
            "  if getattr(data, 'base', None) is not None and \\\n",
            "/usr/local/lib/python3.6/dist-packages/xgboost/core.py:588: FutureWarning: Series.base is deprecated and will be removed in a future version\n",
            "  data.base is not None and isinstance(data, np.ndarray) \\\n"
          ],
          "name": "stderr"
        },
        {
          "output_type": "stream",
          "text": [
            "[14:22:15] WARNING: /workspace/src/objective/regression_obj.cu:152: reg:linear is now deprecated in favor of reg:squarederror.\n",
            "[0]\tvalidation_0-rmse:3.84872\tvalidation_1-rmse:3.83302\n",
            "Multiple eval metrics have been passed: 'validation_1-rmse' will be used for early stopping.\n",
            "\n",
            "Will train until validation_1-rmse hasn't improved in 30 rounds.\n",
            "[1]\tvalidation_0-rmse:3.46939\tvalidation_1-rmse:3.45459\n",
            "[2]\tvalidation_0-rmse:3.12845\tvalidation_1-rmse:3.11437\n",
            "[3]\tvalidation_0-rmse:2.82212\tvalidation_1-rmse:2.80879\n",
            "[4]\tvalidation_0-rmse:2.54698\tvalidation_1-rmse:2.53449\n",
            "[5]\tvalidation_0-rmse:2.29992\tvalidation_1-rmse:2.28813\n",
            "[6]\tvalidation_0-rmse:2.07827\tvalidation_1-rmse:2.0674\n",
            "[7]\tvalidation_0-rmse:1.87943\tvalidation_1-rmse:1.86934\n",
            "[8]\tvalidation_0-rmse:1.70124\tvalidation_1-rmse:1.69166\n",
            "[9]\tvalidation_0-rmse:1.54168\tvalidation_1-rmse:1.53295\n",
            "[10]\tvalidation_0-rmse:1.39894\tvalidation_1-rmse:1.39115\n",
            "[11]\tvalidation_0-rmse:1.27139\tvalidation_1-rmse:1.26422\n",
            "[12]\tvalidation_0-rmse:1.15756\tvalidation_1-rmse:1.15165\n",
            "[13]\tvalidation_0-rmse:1.05611\tvalidation_1-rmse:1.05132\n",
            "[14]\tvalidation_0-rmse:0.966076\tvalidation_1-rmse:0.962371\n",
            "[15]\tvalidation_0-rmse:0.886206\tvalidation_1-rmse:0.883756\n",
            "[16]\tvalidation_0-rmse:0.815568\tvalidation_1-rmse:0.81421\n",
            "[17]\tvalidation_0-rmse:0.75322\tvalidation_1-rmse:0.753116\n",
            "[18]\tvalidation_0-rmse:0.698386\tvalidation_1-rmse:0.699751\n",
            "[19]\tvalidation_0-rmse:0.650254\tvalidation_1-rmse:0.653216\n",
            "[20]\tvalidation_0-rmse:0.608349\tvalidation_1-rmse:0.613116\n",
            "[21]\tvalidation_0-rmse:0.572039\tvalidation_1-rmse:0.57839\n",
            "[22]\tvalidation_0-rmse:0.540585\tvalidation_1-rmse:0.5485\n",
            "[23]\tvalidation_0-rmse:0.513806\tvalidation_1-rmse:0.523177\n",
            "[24]\tvalidation_0-rmse:0.490564\tvalidation_1-rmse:0.501465\n",
            "[25]\tvalidation_0-rmse:0.470743\tvalidation_1-rmse:0.483246\n",
            "[26]\tvalidation_0-rmse:0.453784\tvalidation_1-rmse:0.467831\n",
            "[27]\tvalidation_0-rmse:0.439573\tvalidation_1-rmse:0.454804\n",
            "[28]\tvalidation_0-rmse:0.427301\tvalidation_1-rmse:0.444003\n",
            "[29]\tvalidation_0-rmse:0.417161\tvalidation_1-rmse:0.435038\n",
            "[30]\tvalidation_0-rmse:0.408689\tvalidation_1-rmse:0.427585\n",
            "[31]\tvalidation_0-rmse:0.401395\tvalidation_1-rmse:0.421348\n",
            "[32]\tvalidation_0-rmse:0.394977\tvalidation_1-rmse:0.416131\n",
            "[33]\tvalidation_0-rmse:0.389488\tvalidation_1-rmse:0.411856\n",
            "[34]\tvalidation_0-rmse:0.384945\tvalidation_1-rmse:0.408359\n",
            "[35]\tvalidation_0-rmse:0.381179\tvalidation_1-rmse:0.405548\n",
            "[36]\tvalidation_0-rmse:0.377633\tvalidation_1-rmse:0.40302\n",
            "[37]\tvalidation_0-rmse:0.374858\tvalidation_1-rmse:0.401054\n",
            "[38]\tvalidation_0-rmse:0.372334\tvalidation_1-rmse:0.399457\n",
            "[39]\tvalidation_0-rmse:0.370313\tvalidation_1-rmse:0.398048\n",
            "[40]\tvalidation_0-rmse:0.368482\tvalidation_1-rmse:0.396964\n",
            "[41]\tvalidation_0-rmse:0.367129\tvalidation_1-rmse:0.396107\n",
            "[42]\tvalidation_0-rmse:0.365717\tvalidation_1-rmse:0.395273\n",
            "[43]\tvalidation_0-rmse:0.364715\tvalidation_1-rmse:0.39463\n",
            "[44]\tvalidation_0-rmse:0.363415\tvalidation_1-rmse:0.393882\n",
            "[45]\tvalidation_0-rmse:0.362585\tvalidation_1-rmse:0.393474\n",
            "[46]\tvalidation_0-rmse:0.361289\tvalidation_1-rmse:0.393015\n",
            "[47]\tvalidation_0-rmse:0.360584\tvalidation_1-rmse:0.392623\n",
            "[48]\tvalidation_0-rmse:0.359618\tvalidation_1-rmse:0.392436\n",
            "[49]\tvalidation_0-rmse:0.359058\tvalidation_1-rmse:0.392206\n",
            "[50]\tvalidation_0-rmse:0.358078\tvalidation_1-rmse:0.391878\n",
            "[51]\tvalidation_0-rmse:0.35778\tvalidation_1-rmse:0.391674\n",
            "[52]\tvalidation_0-rmse:0.357107\tvalidation_1-rmse:0.391575\n",
            "[53]\tvalidation_0-rmse:0.356556\tvalidation_1-rmse:0.391486\n",
            "[54]\tvalidation_0-rmse:0.355947\tvalidation_1-rmse:0.391209\n",
            "[55]\tvalidation_0-rmse:0.355472\tvalidation_1-rmse:0.391105\n",
            "[56]\tvalidation_0-rmse:0.354989\tvalidation_1-rmse:0.391007\n",
            "[57]\tvalidation_0-rmse:0.3543\tvalidation_1-rmse:0.390905\n",
            "[58]\tvalidation_0-rmse:0.353896\tvalidation_1-rmse:0.390811\n",
            "[59]\tvalidation_0-rmse:0.35368\tvalidation_1-rmse:0.390812\n",
            "[60]\tvalidation_0-rmse:0.353179\tvalidation_1-rmse:0.390795\n",
            "[61]\tvalidation_0-rmse:0.35301\tvalidation_1-rmse:0.390721\n",
            "[62]\tvalidation_0-rmse:0.352273\tvalidation_1-rmse:0.390575\n",
            "[63]\tvalidation_0-rmse:0.351751\tvalidation_1-rmse:0.390546\n",
            "[64]\tvalidation_0-rmse:0.351511\tvalidation_1-rmse:0.390529\n",
            "[65]\tvalidation_0-rmse:0.351247\tvalidation_1-rmse:0.390481\n",
            "[66]\tvalidation_0-rmse:0.350755\tvalidation_1-rmse:0.390404\n",
            "[67]\tvalidation_0-rmse:0.350569\tvalidation_1-rmse:0.390333\n",
            "[68]\tvalidation_0-rmse:0.350193\tvalidation_1-rmse:0.390231\n",
            "[69]\tvalidation_0-rmse:0.349739\tvalidation_1-rmse:0.390185\n",
            "[70]\tvalidation_0-rmse:0.349113\tvalidation_1-rmse:0.390183\n",
            "[71]\tvalidation_0-rmse:0.348437\tvalidation_1-rmse:0.389983\n",
            "[72]\tvalidation_0-rmse:0.347872\tvalidation_1-rmse:0.389851\n",
            "[73]\tvalidation_0-rmse:0.347291\tvalidation_1-rmse:0.389781\n",
            "[74]\tvalidation_0-rmse:0.347218\tvalidation_1-rmse:0.389776\n",
            "[75]\tvalidation_0-rmse:0.347106\tvalidation_1-rmse:0.389768\n",
            "[76]\tvalidation_0-rmse:0.346838\tvalidation_1-rmse:0.389719\n",
            "[77]\tvalidation_0-rmse:0.346493\tvalidation_1-rmse:0.389811\n",
            "[78]\tvalidation_0-rmse:0.346361\tvalidation_1-rmse:0.389775\n",
            "[79]\tvalidation_0-rmse:0.346147\tvalidation_1-rmse:0.389752\n",
            "[80]\tvalidation_0-rmse:0.34604\tvalidation_1-rmse:0.38974\n",
            "[81]\tvalidation_0-rmse:0.345782\tvalidation_1-rmse:0.389735\n",
            "[82]\tvalidation_0-rmse:0.345637\tvalidation_1-rmse:0.389731\n",
            "[83]\tvalidation_0-rmse:0.345466\tvalidation_1-rmse:0.389744\n",
            "[84]\tvalidation_0-rmse:0.345308\tvalidation_1-rmse:0.389727\n",
            "[85]\tvalidation_0-rmse:0.345248\tvalidation_1-rmse:0.389747\n",
            "[86]\tvalidation_0-rmse:0.34494\tvalidation_1-rmse:0.38975\n",
            "[87]\tvalidation_0-rmse:0.34458\tvalidation_1-rmse:0.38974\n",
            "[88]\tvalidation_0-rmse:0.34436\tvalidation_1-rmse:0.38972\n",
            "[89]\tvalidation_0-rmse:0.343941\tvalidation_1-rmse:0.389681\n",
            "[90]\tvalidation_0-rmse:0.343837\tvalidation_1-rmse:0.389663\n",
            "[91]\tvalidation_0-rmse:0.343601\tvalidation_1-rmse:0.38966\n",
            "[92]\tvalidation_0-rmse:0.343494\tvalidation_1-rmse:0.389713\n",
            "[93]\tvalidation_0-rmse:0.343368\tvalidation_1-rmse:0.389733\n",
            "[94]\tvalidation_0-rmse:0.343215\tvalidation_1-rmse:0.389746\n",
            "[95]\tvalidation_0-rmse:0.342494\tvalidation_1-rmse:0.389349\n",
            "[96]\tvalidation_0-rmse:0.342179\tvalidation_1-rmse:0.389329\n",
            "[97]\tvalidation_0-rmse:0.342042\tvalidation_1-rmse:0.389412\n",
            "[98]\tvalidation_0-rmse:0.341935\tvalidation_1-rmse:0.389408\n",
            "[99]\tvalidation_0-rmse:0.341682\tvalidation_1-rmse:0.389388\n",
            "[100]\tvalidation_0-rmse:0.341515\tvalidation_1-rmse:0.389375\n",
            "[101]\tvalidation_0-rmse:0.341384\tvalidation_1-rmse:0.389384\n",
            "[102]\tvalidation_0-rmse:0.341121\tvalidation_1-rmse:0.389316\n",
            "[103]\tvalidation_0-rmse:0.340805\tvalidation_1-rmse:0.389317\n",
            "[104]\tvalidation_0-rmse:0.34061\tvalidation_1-rmse:0.389366\n",
            "[105]\tvalidation_0-rmse:0.340338\tvalidation_1-rmse:0.38935\n",
            "[106]\tvalidation_0-rmse:0.340232\tvalidation_1-rmse:0.389401\n",
            "[107]\tvalidation_0-rmse:0.340209\tvalidation_1-rmse:0.389405\n",
            "[108]\tvalidation_0-rmse:0.340036\tvalidation_1-rmse:0.38942\n",
            "[109]\tvalidation_0-rmse:0.339945\tvalidation_1-rmse:0.389424\n",
            "[110]\tvalidation_0-rmse:0.339654\tvalidation_1-rmse:0.389444\n",
            "[111]\tvalidation_0-rmse:0.339602\tvalidation_1-rmse:0.38944\n",
            "[112]\tvalidation_0-rmse:0.339196\tvalidation_1-rmse:0.389338\n",
            "[113]\tvalidation_0-rmse:0.338361\tvalidation_1-rmse:0.38933\n",
            "[114]\tvalidation_0-rmse:0.338157\tvalidation_1-rmse:0.389362\n",
            "[115]\tvalidation_0-rmse:0.338081\tvalidation_1-rmse:0.389336\n",
            "[116]\tvalidation_0-rmse:0.337985\tvalidation_1-rmse:0.38933\n",
            "[117]\tvalidation_0-rmse:0.337844\tvalidation_1-rmse:0.389289\n",
            "[118]\tvalidation_0-rmse:0.337744\tvalidation_1-rmse:0.389286\n",
            "[119]\tvalidation_0-rmse:0.337664\tvalidation_1-rmse:0.389308\n",
            "[120]\tvalidation_0-rmse:0.33751\tvalidation_1-rmse:0.389332\n",
            "[121]\tvalidation_0-rmse:0.337175\tvalidation_1-rmse:0.389303\n",
            "[122]\tvalidation_0-rmse:0.336767\tvalidation_1-rmse:0.389277\n",
            "[123]\tvalidation_0-rmse:0.336313\tvalidation_1-rmse:0.389252\n",
            "[124]\tvalidation_0-rmse:0.336234\tvalidation_1-rmse:0.38927\n",
            "[125]\tvalidation_0-rmse:0.336094\tvalidation_1-rmse:0.389286\n",
            "[126]\tvalidation_0-rmse:0.335704\tvalidation_1-rmse:0.389262\n",
            "[127]\tvalidation_0-rmse:0.335542\tvalidation_1-rmse:0.389265\n",
            "[128]\tvalidation_0-rmse:0.335127\tvalidation_1-rmse:0.38917\n",
            "[129]\tvalidation_0-rmse:0.334781\tvalidation_1-rmse:0.389197\n",
            "[130]\tvalidation_0-rmse:0.334345\tvalidation_1-rmse:0.389035\n",
            "[131]\tvalidation_0-rmse:0.334183\tvalidation_1-rmse:0.389021\n",
            "[132]\tvalidation_0-rmse:0.334137\tvalidation_1-rmse:0.389019\n",
            "[133]\tvalidation_0-rmse:0.333813\tvalidation_1-rmse:0.38906\n",
            "[134]\tvalidation_0-rmse:0.333665\tvalidation_1-rmse:0.389008\n",
            "[135]\tvalidation_0-rmse:0.333481\tvalidation_1-rmse:0.389033\n",
            "[136]\tvalidation_0-rmse:0.333422\tvalidation_1-rmse:0.389051\n",
            "[137]\tvalidation_0-rmse:0.333312\tvalidation_1-rmse:0.389048\n",
            "[138]\tvalidation_0-rmse:0.332978\tvalidation_1-rmse:0.389023\n",
            "[139]\tvalidation_0-rmse:0.332802\tvalidation_1-rmse:0.389027\n",
            "[140]\tvalidation_0-rmse:0.332691\tvalidation_1-rmse:0.389033\n",
            "[141]\tvalidation_0-rmse:0.33257\tvalidation_1-rmse:0.38904\n",
            "[142]\tvalidation_0-rmse:0.332475\tvalidation_1-rmse:0.38907\n",
            "[143]\tvalidation_0-rmse:0.332217\tvalidation_1-rmse:0.389061\n",
            "[144]\tvalidation_0-rmse:0.332179\tvalidation_1-rmse:0.389074\n",
            "[145]\tvalidation_0-rmse:0.332025\tvalidation_1-rmse:0.389117\n",
            "[146]\tvalidation_0-rmse:0.33196\tvalidation_1-rmse:0.38911\n",
            "[147]\tvalidation_0-rmse:0.331703\tvalidation_1-rmse:0.38914\n",
            "[148]\tvalidation_0-rmse:0.331072\tvalidation_1-rmse:0.389154\n",
            "[149]\tvalidation_0-rmse:0.330711\tvalidation_1-rmse:0.389153\n",
            "[150]\tvalidation_0-rmse:0.330536\tvalidation_1-rmse:0.389118\n",
            "[151]\tvalidation_0-rmse:0.330222\tvalidation_1-rmse:0.389151\n",
            "[152]\tvalidation_0-rmse:0.329767\tvalidation_1-rmse:0.389197\n",
            "[153]\tvalidation_0-rmse:0.329665\tvalidation_1-rmse:0.389278\n",
            "[154]\tvalidation_0-rmse:0.329185\tvalidation_1-rmse:0.389281\n",
            "[155]\tvalidation_0-rmse:0.329151\tvalidation_1-rmse:0.389282\n",
            "[156]\tvalidation_0-rmse:0.329032\tvalidation_1-rmse:0.389288\n",
            "[157]\tvalidation_0-rmse:0.328997\tvalidation_1-rmse:0.389303\n",
            "[158]\tvalidation_0-rmse:0.328842\tvalidation_1-rmse:0.389329\n",
            "[159]\tvalidation_0-rmse:0.328798\tvalidation_1-rmse:0.389327\n",
            "[160]\tvalidation_0-rmse:0.328641\tvalidation_1-rmse:0.389326\n",
            "[161]\tvalidation_0-rmse:0.328409\tvalidation_1-rmse:0.389329\n",
            "[162]\tvalidation_0-rmse:0.32821\tvalidation_1-rmse:0.389411\n",
            "[163]\tvalidation_0-rmse:0.327973\tvalidation_1-rmse:0.389497\n",
            "[164]\tvalidation_0-rmse:0.327942\tvalidation_1-rmse:0.389505\n",
            "Stopping. Best iteration:\n",
            "[134]\tvalidation_0-rmse:0.333665\tvalidation_1-rmse:0.389008\n",
            "\n"
          ],
          "name": "stdout"
        },
        {
          "output_type": "execute_result",
          "data": {
            "text/plain": [
              "XGBRegressor(base_score=0.5, booster='gbtree', colsample_bylevel=1,\n",
              "             colsample_bynode=1, colsample_bytree=1, gamma=0,\n",
              "             importance_type='gain', learning_rate=0.1, max_delta_step=0,\n",
              "             max_depth=7, min_child_weight=1, missing=None, n_estimators=200,\n",
              "             n_jobs=-1, nthread=None, objective='reg:linear', random_state=0,\n",
              "             reg_alpha=0, reg_lambda=1, scale_pos_weight=1, seed=None,\n",
              "             silent=None, subsample=1, verbosity=1)"
            ]
          },
          "metadata": {
            "tags": []
          },
          "execution_count": 114
        }
      ]
    },
    {
      "cell_type": "code",
      "metadata": {
        "id": "LQ-K2MrLG8NS",
        "colab_type": "code",
        "outputId": "445c5fe3-582a-4f22-fb63-20930c91ada7",
        "colab": {
          "base_uri": "https://localhost:8080/",
          "height": 282
        }
      },
      "source": [
        "import matplotlib.pyplot as plt\n",
        "\n",
        "results = model.evals_result()\n",
        "train_error = results['validation_0']['rmse']\n",
        "val_error = results['validation_1']['rmse']\n",
        "epoch = range(1, len(train_error)+1)\n",
        "plt.plot(epoch, train_error, label='Train')\n",
        "plt.plot(epoch, val_error, label='Validation')\n",
        "plt.ylabel('Classification Error')\n",
        "plt.xlabel('Model Complexity (n_estimators)')\n",
        "#plt.ylim((0.18, 0.22)) # Zoom in\n",
        "plt.legend(); "
      ],
      "execution_count": 0,
      "outputs": [
        {
          "output_type": "display_data",
          "data": {
            "image/png": "[encoded data removed]",
            "text/plain": [
              "<Figure size 432x288 with 1 Axes>"
            ]
          },
          "metadata": {
            "tags": []
          }
        }
      ]
    },
    {
      "cell_type": "code",
      "metadata": {
        "id": "xfByy0Ji3Cox",
        "colab_type": "code",
        "colab": {}
      },
      "source": [
        "# ['neg_mean_squared_error'] # how do you use this eval metric?\n",
        "\n",
        "# exmaple I saw online\n",
        "\n",
        "# train_x, val_x, train_y, val_y = train_test_split(train_x, train_y, test_size = 0.30, random_state=1)\n",
        "# xgb_model = xgb.XGBRegressor(n_estimators=600, learning_rate=0.06)\n",
        "\n",
        "# fit_params={'early_stopping_rounds': 30, \n",
        "#             'eval_metric': 'mae',\n",
        "#             'verbose': False,\n",
        "#             'eval_set': [[val_x, val_y]]}\n",
        "\n",
        "# xgb_cv = cross_val_score(xgb_model, train_x, train_y, \n",
        "#                          cv = 5, \n",
        "#                          scoring = 'neg_mean_absolute_error',\n",
        "#                          fit_params = fit_params)"
      ],
      "execution_count": 0,
      "outputs": []
    }
  ]
}