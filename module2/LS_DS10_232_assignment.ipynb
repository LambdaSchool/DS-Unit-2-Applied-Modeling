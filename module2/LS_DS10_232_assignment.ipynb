{
  "nbformat": 4,
  "nbformat_minor": 0,
  "metadata": {
    "jupytext": {
      "cell_metadata_filter": "-all",
      "main_language": "python",
      "notebook_metadata_filter": "-all"
    },
    "kernelspec": {
      "display_name": "Python 3",
      "language": "python",
      "name": "python3"
    },
    "language_info": {
      "codemirror_mode": {
        "name": "ipython",
        "version": 3
      },
      "file_extension": ".py",
      "mimetype": "text/x-python",
      "name": "python",
      "nbconvert_exporter": "python",
      "pygments_lexer": "ipython3",
      "version": "3.7.3"
    },
    "colab": {
      "name": "LS_DS10_232_assignment.ipynb",
      "provenance": [],
      "collapsed_sections": [
        "07zs3QNBiIH9"
      ],
      "include_colab_link": true
    }
  },
  "cells": [
    {
      "cell_type": "markdown",
      "metadata": {
        "id": "view-in-github",
        "colab_type": "text"
      },
      "source": [
        "<a href=\"https://colab.research.google.com/github/Okocha76/DS-Unit-2-Applied-Modeling/blob/master/module2/LS_DS10_232_assignment.ipynb\" target=\"_parent\"><img src=\"https://colab.research.google.com/assets/colab-badge.svg\" alt=\"Open In Colab\"/></a>"
      ]
    },
    {
      "cell_type": "markdown",
      "metadata": {
        "id": "gQ6g2PwJHzVI",
        "colab_type": "text"
      },
      "source": [
        "Lambda School Data Science\n",
        "\n",
        "*Unit 2, Sprint 3, Module 1*\n",
        "\n",
        "---\n",
        "\n",
        "\n",
        "# Wrangle ML datasets\n",
        "\n",
        "- [ ] Continue to clean and explore your data. \n",
        "- [ ] For the evaluation metric you chose, what score would you get just by guessing?\n",
        "- [ ] Can you make a fast, first model that beats guessing?\n",
        "\n",
        "**We recommend that you use your portfolio project dataset for all assignments this sprint.**\n",
        "\n",
        "**But if you aren't ready yet, or you want more practice, then use the New York City property sales dataset for today's assignment.** Follow the instructions below, to just keep a subset for the Tribeca neighborhood, and remove outliers or dirty data. [Here's a video walkthrough](https://youtu.be/pPWFw8UtBVg?t=584) you can refer to if you get stuck or want hints!\n",
        "\n",
        "- Data Source: [NYC OpenData: NYC Citywide Rolling Calendar Sales](https://data.cityofnewyork.us/dataset/NYC-Citywide-Rolling-Calendar-Sales/usep-8jbt)\n",
        "- Glossary: [NYC Department of Finance: Rolling Sales Data](https://www1.nyc.gov/site/finance/taxes/property-rolling-sales-data.page)"
      ]
    },
    {
      "cell_type": "code",
      "metadata": {
        "id": "S_XYKtA0HzVL",
        "colab_type": "code",
        "colab": {}
      },
      "source": [
        "%%capture\n",
        "import sys\n",
        "\n",
        "# If you're on Colab:\n",
        "if 'google.colab' in sys.modules:\n",
        "    DATA_PATH = 'https://raw.githubusercontent.com/LambdaSchool/DS-Unit-2-Applied-Modeling/master/data/'\n",
        "    !pip install category_encoders==2.*\n",
        "    !pip install pandas-profiling==2.*\n",
        "\n",
        "# If you're working locally:\n",
        "else:\n",
        "    DATA_PATH = '../data/'"
      ],
      "execution_count": 0,
      "outputs": []
    },
    {
      "cell_type": "markdown",
      "metadata": {
        "id": "07zs3QNBiIH9",
        "colab_type": "text"
      },
      "source": [
        "## NYC property sales data"
      ]
    },
    {
      "cell_type": "code",
      "metadata": {
        "id": "21jOeGCuHzVP",
        "colab_type": "code",
        "colab": {}
      },
      "source": [
        "# Read New York City property sales data\n",
        "import pandas as pd\n",
        "df = pd.read_csv(DATA_PATH+'condos/NYC_Citywide_Rolling_Calendar_Sales.csv')"
      ],
      "execution_count": 0,
      "outputs": []
    },
    {
      "cell_type": "markdown",
      "metadata": {
        "id": "2lIDaWQ0HzVS",
        "colab_type": "text"
      },
      "source": [
        "Your code starts here:"
      ]
    },
    {
      "cell_type": "code",
      "metadata": {
        "id": "AfZdqJ4THzVT",
        "colab_type": "code",
        "colab": {}
      },
      "source": [
        "# Change column names: replace spaces with underscores\n"
      ],
      "execution_count": 0,
      "outputs": []
    },
    {
      "cell_type": "code",
      "metadata": {
        "id": "5qtIQkTfHzVX",
        "colab_type": "code",
        "colab": {}
      },
      "source": [
        "# Get Pandas Profiling Report\n"
      ],
      "execution_count": 0,
      "outputs": []
    },
    {
      "cell_type": "code",
      "metadata": {
        "id": "zmUJovk-HzVc",
        "colab_type": "code",
        "colab": {}
      },
      "source": [
        "# Keep just the subset of data for the Tribeca neighborhood\n",
        "# Check how many rows you have now. (Should go down from > 20k rows to 146)\n"
      ],
      "execution_count": 0,
      "outputs": []
    },
    {
      "cell_type": "code",
      "metadata": {
        "id": "qvN-Cq0THzVf",
        "colab_type": "code",
        "colab": {}
      },
      "source": [
        "# Q. What's the date range of these property sales in Tribeca?\n"
      ],
      "execution_count": 0,
      "outputs": []
    },
    {
      "cell_type": "code",
      "metadata": {
        "id": "2AJYHetgHzVi",
        "colab_type": "code",
        "colab": {}
      },
      "source": [
        "# The Pandas Profiling Report showed that SALE_PRICE was read as strings\n",
        "# Convert it to integers\n"
      ],
      "execution_count": 0,
      "outputs": []
    },
    {
      "cell_type": "code",
      "metadata": {
        "id": "1V6DuzYzHzVl",
        "colab_type": "code",
        "colab": {}
      },
      "source": [
        "# Q. What is the maximum SALE_PRICE in this dataset?\n"
      ],
      "execution_count": 0,
      "outputs": []
    },
    {
      "cell_type": "code",
      "metadata": {
        "id": "hA74q6zpHzVp",
        "colab_type": "code",
        "colab": {}
      },
      "source": [
        "# Look at the row with the max SALE_PRICE\n"
      ],
      "execution_count": 0,
      "outputs": []
    },
    {
      "cell_type": "code",
      "metadata": {
        "id": "FvA5roVFHzVt",
        "colab_type": "code",
        "colab": {}
      },
      "source": [
        "# Get value counts of TOTAL_UNITS\n",
        "# Q. How many property sales were for multiple units?\n"
      ],
      "execution_count": 0,
      "outputs": []
    },
    {
      "cell_type": "code",
      "metadata": {
        "id": "3hi0PnPlHzVz",
        "colab_type": "code",
        "colab": {}
      },
      "source": [
        "# Keep only the single units\n"
      ],
      "execution_count": 0,
      "outputs": []
    },
    {
      "cell_type": "code",
      "metadata": {
        "id": "6StEmgjGHzV1",
        "colab_type": "code",
        "colab": {}
      },
      "source": [
        "# Q. Now what is the max sales price? How many square feet does it have?\n"
      ],
      "execution_count": 0,
      "outputs": []
    },
    {
      "cell_type": "code",
      "metadata": {
        "id": "V9f5MAVnHzV4",
        "colab_type": "code",
        "colab": {}
      },
      "source": [
        "# Q. How often did $0 sales occur in this subset of the data?\n",
        "\n",
        "# There's a glossary here: \n",
        "# https://www1.nyc.gov/site/finance/taxes/property-rolling-sales-data.page\n",
        "\n",
        "# It says:\n",
        "# A $0 sale indicates that there was a transfer of ownership without a \n",
        "# cash consideration. There can be a number of reasons for a $0 sale including \n",
        "# transfers of ownership from parents to children. \n",
        "\n"
      ],
      "execution_count": 0,
      "outputs": []
    },
    {
      "cell_type": "code",
      "metadata": {
        "id": "IpLPYMhcHzV7",
        "colab_type": "code",
        "colab": {}
      },
      "source": [
        "# Look at property sales for > 5,000 square feet\n",
        "# Q. What is the highest square footage you see?\n"
      ],
      "execution_count": 0,
      "outputs": []
    },
    {
      "cell_type": "code",
      "metadata": {
        "id": "fjjD-rmfHzWC",
        "colab_type": "code",
        "colab": {}
      },
      "source": [
        "# What are the building class categories?\n",
        "# How frequently does each occur?\n"
      ],
      "execution_count": 0,
      "outputs": []
    },
    {
      "cell_type": "code",
      "metadata": {
        "id": "ez194CJjHzWE",
        "colab_type": "code",
        "colab": {}
      },
      "source": [
        "# Keep subset of rows:\n",
        "# Sale price more than $0, \n",
        "# Building class category = Condos - Elevator Apartments\n",
        "\n",
        "# Check how many rows you have now. (Should be 106 rows.)\n"
      ],
      "execution_count": 0,
      "outputs": []
    },
    {
      "cell_type": "code",
      "metadata": {
        "id": "Q6lfpX6GHzWH",
        "colab_type": "code",
        "colab": {}
      },
      "source": [
        "# Make a Plotly Express scatter plot of GROSS_SQUARE_FEET vs SALE_PRICE\n"
      ],
      "execution_count": 0,
      "outputs": []
    },
    {
      "cell_type": "code",
      "metadata": {
        "id": "a5k5n_6kHzWK",
        "colab_type": "code",
        "colab": {}
      },
      "source": [
        "# Add an OLS (Ordinary Least Squares) trendline,\n",
        "# to see how the outliers influence the \"line of best fit\"\n"
      ],
      "execution_count": 0,
      "outputs": []
    },
    {
      "cell_type": "code",
      "metadata": {
        "id": "s0KX4quiHzWN",
        "colab_type": "code",
        "colab": {}
      },
      "source": [
        "# Look at sales for more than $35 million\n",
        "\n",
        "# All are at 70 Vestry Street\n",
        "# All but one have the same SALE_PRICE & SALE_DATE\n",
        "# Was the SALE_PRICE for each? Or in total?\n",
        "# Is this dirty data?\n"
      ],
      "execution_count": 0,
      "outputs": []
    },
    {
      "cell_type": "code",
      "metadata": {
        "id": "LZHmrALNHzWP",
        "colab_type": "code",
        "colab": {}
      },
      "source": [
        "# Make a judgment call:\n",
        "# Keep rows where sale price was < $35 million\n",
        "\n",
        "# Check how many rows you have now. (Should be down to 90 rows.)\n"
      ],
      "execution_count": 0,
      "outputs": []
    },
    {
      "cell_type": "code",
      "metadata": {
        "id": "122PN6F6HzWU",
        "colab_type": "code",
        "colab": {}
      },
      "source": [
        "# Now that you've removed outliers,\n",
        "# Look again at a scatter plot with OLS (Ordinary Least Squares) trendline\n"
      ],
      "execution_count": 0,
      "outputs": []
    },
    {
      "cell_type": "code",
      "metadata": {
        "id": "8vJ7Cm_eHzWa",
        "colab_type": "code",
        "colab": {}
      },
      "source": [
        "# Select these columns, then write to a csv file named tribeca.csv. Don't include the index.\n"
      ],
      "execution_count": 0,
      "outputs": []
    },
    {
      "cell_type": "markdown",
      "metadata": {
        "id": "atEYJ-niiQy8",
        "colab_type": "text"
      },
      "source": [
        "## Portfolio Project dataset"
      ]
    },
    {
      "cell_type": "code",
      "metadata": {
        "id": "3qPIdscE1w3W",
        "colab_type": "code",
        "colab": {}
      },
      "source": [
        "import pandas as pd\n",
        "df = pd.read_csv('https://raw.githubusercontent.com/Okocha76/Okocha76.github.io/master/euro_data.csv', sep=';', engine='python', encoding = \"ISO-8859-1\")"
      ],
      "execution_count": 0,
      "outputs": []
    },
    {
      "cell_type": "code",
      "metadata": {
        "id": "m9vV6W2Y-umB",
        "colab_type": "code",
        "outputId": "f6ba0810-9a20-42de-c6a9-66353a32c61e",
        "colab": {
          "base_uri": "https://localhost:8080/",
          "height": 249
        }
      },
      "source": [
        "print(df.shape)\n",
        "df.head()"
      ],
      "execution_count": 0,
      "outputs": [
        {
          "output_type": "stream",
          "text": [
            "(8010, 41)\n"
          ],
          "name": "stdout"
        },
        {
          "output_type": "execute_result",
          "data": {
            "text/html": [
              "<div>\n",
              "<style scoped>\n",
              "    .dataframe tbody tr th:only-of-type {\n",
              "        vertical-align: middle;\n",
              "    }\n",
              "\n",
              "    .dataframe tbody tr th {\n",
              "        vertical-align: top;\n",
              "    }\n",
              "\n",
              "    .dataframe thead th {\n",
              "        text-align: right;\n",
              "    }\n",
              "</style>\n",
              "<table border=\"1\" class=\"dataframe\">\n",
              "  <thead>\n",
              "    <tr style=\"text-align: right;\">\n",
              "      <th></th>\n",
              "      <th>TIME</th>\n",
              "      <th>GEO</th>\n",
              "      <th>GEO_LABEL</th>\n",
              "      <th>AGEMOTH</th>\n",
              "      <th>MEDAGEMOTH</th>\n",
              "      <th>TOTFERRT</th>\n",
              "      <th>JAN</th>\n",
              "      <th>CNMIGRAT</th>\n",
              "      <th>CNMIGRATRT</th>\n",
              "      <th>DEATH</th>\n",
              "      <th>GBIRTHRT</th>\n",
              "      <th>GDEATHRT</th>\n",
              "      <th>GROW</th>\n",
              "      <th>GROWRT</th>\n",
              "      <th>LBIRTH</th>\n",
              "      <th>NATGROW</th>\n",
              "      <th>NATGROWRT</th>\n",
              "      <th>RT</th>\n",
              "      <th>PER_KM2</th>\n",
              "      <th>EUR_HAB_2GDP</th>\n",
              "      <th>EUR_HAB_EU</th>\n",
              "      <th>EUR_HAB_EU27_2019</th>\n",
              "      <th>MIO_EUR</th>\n",
              "      <th>MIO_NAC</th>\n",
              "      <th>MIO_PPS</th>\n",
              "      <th>MIO_PPS_EU27_2019</th>\n",
              "      <th>PPS_EU27_2019_HAB</th>\n",
              "      <th>PPS_HAB</th>\n",
              "      <th>PPS_HAB_EU</th>\n",
              "      <th>PPS_HAB_EU27_2019</th>\n",
              "      <th>EMP</th>\n",
              "      <th>SAL</th>\n",
              "      <th>EUR_HAB_2HHINC</th>\n",
              "      <th>ED0-2_25_64</th>\n",
              "      <th>ED3_4_25_64</th>\n",
              "      <th>ED3-8_25_64</th>\n",
              "      <th>ED5-8_25_64</th>\n",
              "      <th>ED0-2_30_34</th>\n",
              "      <th>ED3_4_30_34</th>\n",
              "      <th>ED3-8_30_34</th>\n",
              "      <th>ED5-8_30_34</th>\n",
              "    </tr>\n",
              "  </thead>\n",
              "  <tbody>\n",
              "    <tr>\n",
              "      <th>0</th>\n",
              "      <td>2000</td>\n",
              "      <td>AT</td>\n",
              "      <td>Austria</td>\n",
              "      <td>28.7</td>\n",
              "      <td>29.4</td>\n",
              "      <td>1.35</td>\n",
              "      <td>8002186</td>\n",
              "      <td>17272</td>\n",
              "      <td>2.2</td>\n",
              "      <td>76780</td>\n",
              "      <td>9.8</td>\n",
              "      <td>9.6</td>\n",
              "      <td>18760</td>\n",
              "      <td>2.3</td>\n",
              "      <td>78268</td>\n",
              "      <td>1488</td>\n",
              "      <td>0.2</td>\n",
              "      <td>4.8</td>\n",
              "      <td>97.2</td>\n",
              "      <td>26700</td>\n",
              "      <td>134</td>\n",
              "      <td>145</td>\n",
              "      <td>213606.48</td>\n",
              "      <td>213606.48</td>\n",
              "      <td>206251.54</td>\n",
              "      <td>195513.50</td>\n",
              "      <td>24400</td>\n",
              "      <td>25700</td>\n",
              "      <td>130</td>\n",
              "      <td>133</td>\n",
              "      <td>3755.0</td>\n",
              "      <td>3243.7</td>\n",
              "      <td>18000</td>\n",
              "      <td>23.8</td>\n",
              "      <td>62.1</td>\n",
              "      <td>76.2</td>\n",
              "      <td>14.1</td>\n",
              "      <td>16.7</td>\n",
              "      <td>67.4</td>\n",
              "      <td>83.3</td>\n",
              "      <td>15.9</td>\n",
              "    </tr>\n",
              "    <tr>\n",
              "      <th>1</th>\n",
              "      <td>2001</td>\n",
              "      <td>AT</td>\n",
              "      <td>Austria</td>\n",
              "      <td>28.9</td>\n",
              "      <td>29.6</td>\n",
              "      <td>1.31</td>\n",
              "      <td>8020946</td>\n",
              "      <td>42003</td>\n",
              "      <td>5.2</td>\n",
              "      <td>74767</td>\n",
              "      <td>9.4</td>\n",
              "      <td>9.3</td>\n",
              "      <td>42694</td>\n",
              "      <td>5.3</td>\n",
              "      <td>75458</td>\n",
              "      <td>691</td>\n",
              "      <td>0.1</td>\n",
              "      <td>4.8</td>\n",
              "      <td>97.5</td>\n",
              "      <td>27400</td>\n",
              "      <td>133</td>\n",
              "      <td>143</td>\n",
              "      <td>220525.08</td>\n",
              "      <td>220525.08</td>\n",
              "      <td>207461.48</td>\n",
              "      <td>197764.57</td>\n",
              "      <td>24600</td>\n",
              "      <td>25800</td>\n",
              "      <td>125</td>\n",
              "      <td>128</td>\n",
              "      <td>3782.0</td>\n",
              "      <td>3265.1</td>\n",
              "      <td>18300</td>\n",
              "      <td>22.5</td>\n",
              "      <td>62.6</td>\n",
              "      <td>77.5</td>\n",
              "      <td>14.8</td>\n",
              "      <td>16.0</td>\n",
              "      <td>67.9</td>\n",
              "      <td>84.0</td>\n",
              "      <td>16.1</td>\n",
              "    </tr>\n",
              "    <tr>\n",
              "      <th>2</th>\n",
              "      <td>2002</td>\n",
              "      <td>AT</td>\n",
              "      <td>Austria</td>\n",
              "      <td>29.1</td>\n",
              "      <td>29.8</td>\n",
              "      <td>1.38</td>\n",
              "      <td>8063640</td>\n",
              "      <td>34365</td>\n",
              "      <td>4.3</td>\n",
              "      <td>76131</td>\n",
              "      <td>9.7</td>\n",
              "      <td>9.4</td>\n",
              "      <td>36633</td>\n",
              "      <td>4.5</td>\n",
              "      <td>78399</td>\n",
              "      <td>2268</td>\n",
              "      <td>0.3</td>\n",
              "      <td>4.1</td>\n",
              "      <td>98.0</td>\n",
              "      <td>28100</td>\n",
              "      <td>132</td>\n",
              "      <td>141</td>\n",
              "      <td>226735.22</td>\n",
              "      <td>226735.22</td>\n",
              "      <td>216432.92</td>\n",
              "      <td>206562.16</td>\n",
              "      <td>25600</td>\n",
              "      <td>26800</td>\n",
              "      <td>126</td>\n",
              "      <td>129</td>\n",
              "      <td>3778.4</td>\n",
              "      <td>3258.1</td>\n",
              "      <td>18500</td>\n",
              "      <td>21.7</td>\n",
              "      <td>62.7</td>\n",
              "      <td>78.3</td>\n",
              "      <td>15.7</td>\n",
              "      <td>15.9</td>\n",
              "      <td>66.9</td>\n",
              "      <td>84.1</td>\n",
              "      <td>17.2</td>\n",
              "    </tr>\n",
              "    <tr>\n",
              "      <th>3</th>\n",
              "      <td>2003</td>\n",
              "      <td>AT</td>\n",
              "      <td>Austria</td>\n",
              "      <td>29.2</td>\n",
              "      <td>29.9</td>\n",
              "      <td>1.36</td>\n",
              "      <td>8100273</td>\n",
              "      <td>42565</td>\n",
              "      <td>5.2</td>\n",
              "      <td>77209</td>\n",
              "      <td>9.5</td>\n",
              "      <td>9.5</td>\n",
              "      <td>42300</td>\n",
              "      <td>5.2</td>\n",
              "      <td>76944</td>\n",
              "      <td>-265</td>\n",
              "      <td>0.0</td>\n",
              "      <td>4.5</td>\n",
              "      <td>98.5</td>\n",
              "      <td>28600</td>\n",
              "      <td>132</td>\n",
              "      <td>140</td>\n",
              "      <td>231862.46</td>\n",
              "      <td>231862.46</td>\n",
              "      <td>221219.87</td>\n",
              "      <td>214271.17</td>\n",
              "      <td>26400</td>\n",
              "      <td>27200</td>\n",
              "      <td>126</td>\n",
              "      <td>130</td>\n",
              "      <td>3803.0</td>\n",
              "      <td>3275.3</td>\n",
              "      <td>18900</td>\n",
              "      <td>21.0</td>\n",
              "      <td>63.3</td>\n",
              "      <td>79.0</td>\n",
              "      <td>15.7</td>\n",
              "      <td>14.3</td>\n",
              "      <td>68.1</td>\n",
              "      <td>85.7</td>\n",
              "      <td>17.6</td>\n",
              "    </tr>\n",
              "    <tr>\n",
              "      <th>4</th>\n",
              "      <td>2004</td>\n",
              "      <td>AT</td>\n",
              "      <td>Austria</td>\n",
              "      <td>28.8</td>\n",
              "      <td>29.5</td>\n",
              "      <td>1.42</td>\n",
              "      <td>8142573</td>\n",
              "      <td>54110</td>\n",
              "      <td>6.6</td>\n",
              "      <td>74292</td>\n",
              "      <td>9.7</td>\n",
              "      <td>9.1</td>\n",
              "      <td>58786</td>\n",
              "      <td>7.2</td>\n",
              "      <td>78968</td>\n",
              "      <td>4676</td>\n",
              "      <td>0.6</td>\n",
              "      <td>4.5</td>\n",
              "      <td>99.1</td>\n",
              "      <td>29700</td>\n",
              "      <td>132</td>\n",
              "      <td>140</td>\n",
              "      <td>242348.26</td>\n",
              "      <td>242348.26</td>\n",
              "      <td>233343.6</td>\n",
              "      <td>225461.43</td>\n",
              "      <td>27600</td>\n",
              "      <td>28600</td>\n",
              "      <td>127</td>\n",
              "      <td>130</td>\n",
              "      <td>3826.8</td>\n",
              "      <td>3290.1</td>\n",
              "      <td>19700</td>\n",
              "      <td>20.2</td>\n",
              "      <td>61.8</td>\n",
              "      <td>79.8</td>\n",
              "      <td>18.0</td>\n",
              "      <td>13.5</td>\n",
              "      <td>65.6</td>\n",
              "      <td>86.5</td>\n",
              "      <td>20.9</td>\n",
              "    </tr>\n",
              "  </tbody>\n",
              "</table>\n",
              "</div>"
            ],
            "text/plain": [
              "   TIME GEO GEO_LABEL  ...  ED3_4_30_34  ED3-8_30_34  ED5-8_30_34\n",
              "0  2000  AT   Austria  ...         67.4         83.3         15.9\n",
              "1  2001  AT   Austria  ...         67.9         84.0         16.1\n",
              "2  2002  AT   Austria  ...         66.9         84.1         17.2\n",
              "3  2003  AT   Austria  ...         68.1         85.7         17.6\n",
              "4  2004  AT   Austria  ...         65.6         86.5         20.9\n",
              "\n",
              "[5 rows x 41 columns]"
            ]
          },
          "metadata": {
            "tags": []
          },
          "execution_count": 26
        }
      ]
    },
    {
      "cell_type": "code",
      "metadata": {
        "id": "_uaxerNAlcVP",
        "colab_type": "code",
        "outputId": "536ce709-07f7-4ff1-d9b6-9c440f9a3f02",
        "colab": {
          "base_uri": "https://localhost:8080/",
          "height": 34
        }
      },
      "source": [
        "train = df[df['TIME'] <= 2011]\n",
        "val = df[(df['TIME'] > 2011) & (df['TIME'] < 2015)]\n",
        "test = df[df['TIME'] >= 2015]\n",
        "\n",
        "train.shape, val.shape, test.shape"
      ],
      "execution_count": 0,
      "outputs": [
        {
          "output_type": "execute_result",
          "data": {
            "text/plain": [
              "((5340, 41), (1335, 41), (1335, 41))"
            ]
          },
          "metadata": {
            "tags": []
          },
          "execution_count": 45
        }
      ]
    },
    {
      "cell_type": "code",
      "metadata": {
        "id": "XYtAKbLUCap0",
        "colab_type": "code",
        "colab": {}
      },
      "source": [
        "import numpy as np\n",
        "\n",
        "def wrangle(X):\n",
        "    \"\"\"Wrangle train, validate, and test sets in the same way\"\"\"\n",
        "    \n",
        "    # Prevent SettingWithCopyWarning\n",
        "    X = X.copy()\n",
        "\n",
        "    # Feature selection is not final. Just a quick & dirty approach for now.\n",
        "\n",
        "    X = X.drop(\n",
        "        ['CNMIGRAT','DEATH','GROW','GROWRT','LBIRTH','NATGROW','NATGROWRT',\n",
        "        'EUR_HAB_2GDP','EUR_HAB_EU27_2019','MIO_EUR','MIO_NAC','MIO_PPS',\n",
        "        'MIO_PPS_EU27_2019','PPS_EU27_2019_HAB','PPS_HAB','PPS_HAB_EU27_2019',\n",
        "        'SAL','EUR_HAB_2HHINC','ED0-2_25_64','ED3_4_25_64','ED3-8_25_64',\n",
        "        'ED5-8_25_64','ED3-8_30_34','MEDAGEMOTH','PPS_HAB_EU','ED3_4_30_34']\n",
        "        ,axis=1)\n",
        "    \n",
        "    X['JAN'] = pd.to_numeric(X['JAN'],errors='coerce')\n",
        "    # X['JAN'] = X['JAN'].astype(int)\n",
        "    X['TIME'] = X['TIME'].astype(int)\n",
        "\n",
        "    # A bit of feature engineering. EMP_PC is percentage employed.\n",
        "    X['EMP_PC'] = round((X['EMP'] * 100000)/X['JAN'],1)\n",
        "    X = X.drop(['JAN','EMP'], axis=1)\n",
        "\n",
        "    # When columns have zeros and shouldn't, they are like null values.\n",
        "    # So we will replace the zeros with nulls, and impute missing values later.\n",
        "    cols_with_zeros = ['AGEMOTH', 'ED0-2_30_34', 'ED5-8_30_34','EMP_PC',\n",
        "                       'EUR_HAB_EU','GBIRTHRT','GDEATHRT','PER_KM2','RT',\n",
        "                       'TOTFERRT']\n",
        "\n",
        "    for col in cols_with_zeros:\n",
        "        X[col] = X[col].replace(0, np.nan)\n",
        "\n",
        "    X = X.rename(columns={\"ED0-2_30_34\": \"ED_LOW\", \"ED5-8_30_34\": \"ED_HIGH\"})\n",
        "    \n",
        "    # Not sure yet, whether to drop or impute NaNs\n",
        "    # X.dropna(inplace=True)\n",
        "    \n",
        "    # return the wrangled dataframe\n",
        "    return X\n",
        "\n",
        "\n",
        "train = wrangle(train)\n",
        "val = wrangle(val)\n",
        "test = wrangle(test)"
      ],
      "execution_count": 0,
      "outputs": []
    },
    {
      "cell_type": "code",
      "metadata": {
        "id": "KPo0zB1YEG4M",
        "colab_type": "code",
        "outputId": "6d2e485f-761c-4a1b-887f-7cf272c0d396",
        "colab": {
          "base_uri": "https://localhost:8080/",
          "height": 212
        }
      },
      "source": [
        "print(train.shape)\n",
        "train.head()"
      ],
      "execution_count": 0,
      "outputs": [
        {
          "output_type": "stream",
          "text": [
            "(3380, 14)\n"
          ],
          "name": "stdout"
        },
        {
          "output_type": "execute_result",
          "data": {
            "text/html": [
              "<div>\n",
              "<style scoped>\n",
              "    .dataframe tbody tr th:only-of-type {\n",
              "        vertical-align: middle;\n",
              "    }\n",
              "\n",
              "    .dataframe tbody tr th {\n",
              "        vertical-align: top;\n",
              "    }\n",
              "\n",
              "    .dataframe thead th {\n",
              "        text-align: right;\n",
              "    }\n",
              "</style>\n",
              "<table border=\"1\" class=\"dataframe\">\n",
              "  <thead>\n",
              "    <tr style=\"text-align: right;\">\n",
              "      <th></th>\n",
              "      <th>TIME</th>\n",
              "      <th>GEO</th>\n",
              "      <th>GEO_LABEL</th>\n",
              "      <th>AGEMOTH</th>\n",
              "      <th>TOTFERRT</th>\n",
              "      <th>CNMIGRATRT</th>\n",
              "      <th>GBIRTHRT</th>\n",
              "      <th>GDEATHRT</th>\n",
              "      <th>RT</th>\n",
              "      <th>PER_KM2</th>\n",
              "      <th>EUR_HAB_EU</th>\n",
              "      <th>ED_LOW</th>\n",
              "      <th>ED_HIGH</th>\n",
              "      <th>EMP_PC</th>\n",
              "    </tr>\n",
              "  </thead>\n",
              "  <tbody>\n",
              "    <tr>\n",
              "      <th>0</th>\n",
              "      <td>2000</td>\n",
              "      <td>AT</td>\n",
              "      <td>Austria</td>\n",
              "      <td>28.7</td>\n",
              "      <td>1.35</td>\n",
              "      <td>2.2</td>\n",
              "      <td>9.8</td>\n",
              "      <td>9.6</td>\n",
              "      <td>4.8</td>\n",
              "      <td>97.2</td>\n",
              "      <td>134.0</td>\n",
              "      <td>16.7</td>\n",
              "      <td>15.9</td>\n",
              "      <td>46.9</td>\n",
              "    </tr>\n",
              "    <tr>\n",
              "      <th>1</th>\n",
              "      <td>2001</td>\n",
              "      <td>AT</td>\n",
              "      <td>Austria</td>\n",
              "      <td>28.9</td>\n",
              "      <td>1.31</td>\n",
              "      <td>5.2</td>\n",
              "      <td>9.4</td>\n",
              "      <td>9.3</td>\n",
              "      <td>4.8</td>\n",
              "      <td>97.5</td>\n",
              "      <td>133.0</td>\n",
              "      <td>16.0</td>\n",
              "      <td>16.1</td>\n",
              "      <td>47.2</td>\n",
              "    </tr>\n",
              "    <tr>\n",
              "      <th>2</th>\n",
              "      <td>2002</td>\n",
              "      <td>AT</td>\n",
              "      <td>Austria</td>\n",
              "      <td>29.1</td>\n",
              "      <td>1.38</td>\n",
              "      <td>4.3</td>\n",
              "      <td>9.7</td>\n",
              "      <td>9.4</td>\n",
              "      <td>4.1</td>\n",
              "      <td>98.0</td>\n",
              "      <td>132.0</td>\n",
              "      <td>15.9</td>\n",
              "      <td>17.2</td>\n",
              "      <td>46.9</td>\n",
              "    </tr>\n",
              "    <tr>\n",
              "      <th>3</th>\n",
              "      <td>2003</td>\n",
              "      <td>AT</td>\n",
              "      <td>Austria</td>\n",
              "      <td>29.2</td>\n",
              "      <td>1.36</td>\n",
              "      <td>5.2</td>\n",
              "      <td>9.5</td>\n",
              "      <td>9.5</td>\n",
              "      <td>4.5</td>\n",
              "      <td>98.5</td>\n",
              "      <td>132.0</td>\n",
              "      <td>14.3</td>\n",
              "      <td>17.6</td>\n",
              "      <td>46.9</td>\n",
              "    </tr>\n",
              "    <tr>\n",
              "      <th>4</th>\n",
              "      <td>2004</td>\n",
              "      <td>AT</td>\n",
              "      <td>Austria</td>\n",
              "      <td>28.8</td>\n",
              "      <td>1.42</td>\n",
              "      <td>6.6</td>\n",
              "      <td>9.7</td>\n",
              "      <td>9.1</td>\n",
              "      <td>4.5</td>\n",
              "      <td>99.1</td>\n",
              "      <td>132.0</td>\n",
              "      <td>13.5</td>\n",
              "      <td>20.9</td>\n",
              "      <td>47.0</td>\n",
              "    </tr>\n",
              "  </tbody>\n",
              "</table>\n",
              "</div>"
            ],
            "text/plain": [
              "   TIME GEO GEO_LABEL  AGEMOTH  ...  EUR_HAB_EU  ED_LOW  ED_HIGH  EMP_PC\n",
              "0  2000  AT   Austria     28.7  ...       134.0    16.7     15.9    46.9\n",
              "1  2001  AT   Austria     28.9  ...       133.0    16.0     16.1    47.2\n",
              "2  2002  AT   Austria     29.1  ...       132.0    15.9     17.2    46.9\n",
              "3  2003  AT   Austria     29.2  ...       132.0    14.3     17.6    46.9\n",
              "4  2004  AT   Austria     28.8  ...       132.0    13.5     20.9    47.0\n",
              "\n",
              "[5 rows x 14 columns]"
            ]
          },
          "metadata": {
            "tags": []
          },
          "execution_count": 47
        }
      ]
    },
    {
      "cell_type": "code",
      "metadata": {
        "id": "HW11JyIx2Dio",
        "colab_type": "code",
        "colab": {}
      },
      "source": [
        "# Generate Pandas Profiling Report and export to html\n",
        "\n",
        "import pandas_profiling\n",
        "\n",
        "profile_report = train.profile_report(\n",
        "    check_correlation_pearson=True,\n",
        "    correlations={\n",
        "        'pearson': True,\n",
        "        'spearman': False,\n",
        "        'kendall': False,\n",
        "        'phi_k': False,\n",
        "        'cramers': False,\n",
        "        'recoded': False,\n",
        "    },\n",
        "    plot={'histogram': {'bayesian_blocks_bins': False}},\n",
        "    )\n",
        "\n",
        "profile_report.to_file(output_file=\"train.html\")"
      ],
      "execution_count": 0,
      "outputs": []
    },
    {
      "cell_type": "markdown",
      "metadata": {
        "id": "Zh_Dk50dr9dq",
        "colab_type": "text"
      },
      "source": [
        "## Baseline Prediction"
      ]
    },
    {
      "cell_type": "code",
      "metadata": {
        "id": "IaaixfipsBTX",
        "colab_type": "code",
        "outputId": "f00ca1c7-a675-41c5-d237-346ce5e75581",
        "colab": {
          "base_uri": "https://localhost:8080/",
          "height": 235
        }
      },
      "source": [
        "baseline = train.groupby('GEO')['CNMIGRATRT'].mean()\n",
        "baseline"
      ],
      "execution_count": 0,
      "outputs": [
        {
          "output_type": "execute_result",
          "data": {
            "text/plain": [
              "GEO\n",
              "AT      3.891667\n",
              "AT1     6.725000\n",
              "AT12    5.233333\n",
              "AT13    8.350000\n",
              "AT2     2.050000\n",
              "          ...   \n",
              "UKM     3.933333\n",
              "UKM5    3.542857\n",
              "UKM6    6.500000\n",
              "UKN     1.525000\n",
              "UKN0    1.525000\n",
              "Name: CNMIGRATRT, Length: 318, dtype: float64"
            ]
          },
          "metadata": {
            "tags": []
          },
          "execution_count": 74
        }
      ]
    },
    {
      "cell_type": "code",
      "metadata": {
        "id": "RoLi7bkbxenN",
        "colab_type": "code",
        "outputId": "79280baf-57b9-452c-804a-88dbd0f5f6c1",
        "colab": {
          "base_uri": "https://localhost:8080/",
          "height": 218
        }
      },
      "source": [
        "# THIS IS NOT RIGHT\n",
        "\n",
        "y_val_2012 = val[val['TIME'] == 2012]['CNMIGRATRT']\n",
        "error = baseline - y_val_2012\n",
        "\n",
        "\n",
        "# error1 = baseline - val[val['TIME'] == 2012]['CNMIGRATRT']\n",
        "# error2 = baseline - val[val['TIME'] == 2013]['CNMIGRATRT']\n",
        "# error3 = baseline - val[val['TIME'] == 2014]['CNMIGRATRT']\n",
        "# error = error1 + error2 + error3\n",
        "error"
      ],
      "execution_count": 0,
      "outputs": [
        {
          "output_type": "execute_result",
          "data": {
            "text/plain": [
              "AT     NaN\n",
              "AT1    NaN\n",
              "AT12   NaN\n",
              "AT13   NaN\n",
              "AT2    NaN\n",
              "        ..\n",
              "7842   NaN\n",
              "7860   NaN\n",
              "7878   NaN\n",
              "7986   NaN\n",
              "8004   NaN\n",
              "Name: CNMIGRATRT, Length: 627, dtype: float64"
            ]
          },
          "metadata": {
            "tags": []
          },
          "execution_count": 76
        }
      ]
    },
    {
      "cell_type": "markdown",
      "metadata": {
        "id": "Z-cIQK4un4Zp",
        "colab_type": "text"
      },
      "source": [
        "## Linear Regression"
      ]
    },
    {
      "cell_type": "code",
      "metadata": {
        "id": "nd6ElEpzuMPU",
        "colab_type": "code",
        "colab": {}
      },
      "source": [
        "from sklearn.linear_model import LinearRegression"
      ],
      "execution_count": 0,
      "outputs": []
    },
    {
      "cell_type": "code",
      "metadata": {
        "id": "3GHtxpT_vNI7",
        "colab_type": "code",
        "colab": {}
      },
      "source": [
        "model = LinearRegression()"
      ],
      "execution_count": 0,
      "outputs": []
    },
    {
      "cell_type": "code",
      "metadata": {
        "id": "fwPXFoMZvQNz",
        "colab_type": "code",
        "outputId": "ca3eb378-a7a6-494c-df90-6061af823715",
        "colab": {
          "base_uri": "https://localhost:8080/",
          "height": 67
        }
      },
      "source": [
        "target = 'CNMIGRATRT'\n",
        "features = train.columns.drop([target, 'TIME', 'GEO', 'GEO_LABEL'])\n",
        "\n",
        "X_train = train[features]\n",
        "X_val = test[features]\n",
        "X_test = test[features]\n",
        "y_train = train[target]\n",
        "y_val = val[target]\n",
        "y_test = test[target]\n",
        "print(f'Linear Regression, dependent on: {features}')"
      ],
      "execution_count": 0,
      "outputs": [
        {
          "output_type": "stream",
          "text": [
            "Linear Regression, dependent on: Index(['AGEMOTH', 'TOTFERRT', 'GBIRTHRT', 'GDEATHRT', 'RT', 'PER_KM2',\n",
            "       'EUR_HAB_EU', 'ED_LOW', 'ED_HIGH', 'EMP_PC'],\n",
            "      dtype='object')\n"
          ],
          "name": "stdout"
        }
      ]
    },
    {
      "cell_type": "code",
      "metadata": {
        "id": "Bvnim5C1yJxf",
        "colab_type": "code",
        "outputId": "395c916b-8b14-49ef-b8e9-89dc15ce556c",
        "colab": {
          "base_uri": "https://localhost:8080/",
          "height": 34
        }
      },
      "source": [
        "model.fit(X_train, y_train)"
      ],
      "execution_count": 0,
      "outputs": [
        {
          "output_type": "execute_result",
          "data": {
            "text/plain": [
              "LinearRegression(copy_X=True, fit_intercept=True, n_jobs=None, normalize=False)"
            ]
          },
          "metadata": {
            "tags": []
          },
          "execution_count": 49
        }
      ]
    },
    {
      "cell_type": "code",
      "metadata": {
        "id": "9GgFeQ00GNEq",
        "colab_type": "code",
        "outputId": "643075d9-ddfc-4ec4-e88f-c304b05f8691",
        "colab": {
          "base_uri": "https://localhost:8080/",
          "height": 202
        }
      },
      "source": [
        "# model.intercept_, model.coef_\n",
        "print('Intercept', model.intercept_)\n",
        "coefficients = pd.Series(model.coef_, features)\n",
        "print(coefficients.to_string())"
      ],
      "execution_count": 0,
      "outputs": [
        {
          "output_type": "stream",
          "text": [
            "Intercept -10.314453863111906\n",
            "AGEMOTH       0.152838\n",
            "TOTFERRT     -5.388189\n",
            "GBIRTHRT      1.075613\n",
            "GDEATHRT     -0.298416\n",
            "RT           -0.401069\n",
            "PER_KM2      -0.000761\n",
            "EUR_HAB_EU    0.008279\n",
            "ED_LOW        0.099847\n",
            "ED_HIGH       0.091633\n",
            "EMP_PC        0.126862\n"
          ],
          "name": "stdout"
        }
      ]
    },
    {
      "cell_type": "code",
      "metadata": {
        "id": "3UjXR86tcR4o",
        "colab_type": "code",
        "colab": {}
      },
      "source": [
        "from sklearn.metrics import mean_squared_error\n",
        "from sklearn.metrics import mean_absolute_error"
      ],
      "execution_count": 0,
      "outputs": []
    },
    {
      "cell_type": "code",
      "metadata": {
        "id": "vDYQzLF95iqR",
        "colab_type": "code",
        "outputId": "77122d2a-10ff-4fd9-d642-a3905ba9b340",
        "colab": {
          "base_uri": "https://localhost:8080/",
          "height": 67
        }
      },
      "source": [
        "y_pred = model.predict(X_train)\n",
        "\n",
        "rmse = mean_squared_error(y_train, y_pred)**(.5)\n",
        "print(f'Train RMSE: {rmse:,.2f}')\n",
        "\n",
        "mae = mean_absolute_error(y_train, y_pred)\n",
        "print(f'Train MAE: {mae:,.2f}')\n",
        "\n",
        "R2 = model.score(X_train, y_train)\n",
        "print(f'Train R^2: {R2:,.4f}')"
      ],
      "execution_count": 0,
      "outputs": [
        {
          "output_type": "stream",
          "text": [
            "Train RMSE: 4.77\n",
            "Train MAE: 3.23\n",
            "Train R^2: 0.3371\n"
          ],
          "name": "stdout"
        }
      ]
    },
    {
      "cell_type": "code",
      "metadata": {
        "id": "u7NDrM6QGewH",
        "colab_type": "code",
        "colab": {}
      },
      "source": [
        "import statsmodels.api as sm\n",
        "import statsmodels.formula.api as smf"
      ],
      "execution_count": 0,
      "outputs": []
    },
    {
      "cell_type": "code",
      "metadata": {
        "id": "E111XaCtGf6D",
        "colab_type": "code",
        "outputId": "d71864c2-b790-4aac-cd1b-cbb2b708a3fd",
        "colab": {
          "base_uri": "https://localhost:8080/",
          "height": 672
        }
      },
      "source": [
        "# Fit regression model on train data\n",
        "results = smf.ols('CNMIGRATRT ~ AGEMOTH + TOTFERRT + GBIRTHRT + GDEATHRT + RT + PER_KM2 + EUR_HAB_EU + ED_LOW + ED_HIGH + EMP_PC', data=train).fit()\n",
        "\n",
        "rmse = results.mse_resid**(.5)\n",
        "print(f'Train RMSE: {rmse:,.2f}')\n",
        "\n",
        "mae = mean_absolute_error(y_train, results.fittedvalues)\n",
        "print(f'Train MAE: {mae:,.2f}')\n",
        "\n",
        "R2 = results.rsquared\n",
        "print(f'Train R^2: {R2:,.4f}')\n",
        "\n",
        "print(results.summary())"
      ],
      "execution_count": 0,
      "outputs": [
        {
          "output_type": "stream",
          "text": [
            "Train RMSE: 4.78\n",
            "Train MAE: 3.23\n",
            "Train R^2: 0.3371\n",
            "                            OLS Regression Results                            \n",
            "==============================================================================\n",
            "Dep. Variable:             CNMIGRATRT   R-squared:                       0.337\n",
            "Model:                            OLS   Adj. R-squared:                  0.335\n",
            "Method:                 Least Squares   F-statistic:                     171.3\n",
            "Date:                Tue, 17 Dec 2019   Prob (F-statistic):          7.61e-292\n",
            "Time:                        21:05:21   Log-Likelihood:                -10078.\n",
            "No. Observations:                3380   AIC:                         2.018e+04\n",
            "Df Residuals:                    3369   BIC:                         2.024e+04\n",
            "Df Model:                          10                                         \n",
            "Covariance Type:            nonrobust                                         \n",
            "==============================================================================\n",
            "                 coef    std err          t      P>|t|      [0.025      0.975]\n",
            "------------------------------------------------------------------------------\n",
            "Intercept    -10.3145      3.877     -2.661      0.008     -17.916      -2.713\n",
            "AGEMOTH        0.1528      0.112      1.362      0.173      -0.067       0.373\n",
            "TOTFERRT      -5.3882      0.709     -7.605      0.000      -6.777      -3.999\n",
            "GBIRTHRT       1.0756      0.105     10.291      0.000       0.871       1.281\n",
            "GDEATHRT      -0.2984      0.070     -4.274      0.000      -0.435      -0.162\n",
            "RT            -0.4011      0.047     -8.455      0.000      -0.494      -0.308\n",
            "PER_KM2       -0.0008      0.000     -6.730      0.000      -0.001      -0.001\n",
            "EUR_HAB_EU     0.0083      0.003      2.634      0.008       0.002       0.014\n",
            "ED_LOW         0.0998      0.007     14.354      0.000       0.086       0.113\n",
            "ED_HIGH        0.0916      0.011      8.616      0.000       0.071       0.112\n",
            "EMP_PC         0.1269      0.018      6.936      0.000       0.091       0.163\n",
            "==============================================================================\n",
            "Omnibus:                      444.136   Durbin-Watson:                   0.761\n",
            "Prob(Omnibus):                  0.000   Jarque-Bera (JB):             5332.787\n",
            "Skew:                          -0.082   Prob(JB):                         0.00\n",
            "Kurtosis:                       9.151   Cond. No.                     4.39e+04\n",
            "==============================================================================\n",
            "\n",
            "Warnings:\n",
            "[1] Standard Errors assume that the covariance matrix of the errors is correctly specified.\n",
            "[2] The condition number is large, 4.39e+04. This might indicate that there are\n",
            "strong multicollinearity or other numerical problems.\n"
          ],
          "name": "stdout"
        }
      ]
    }
  ]
}