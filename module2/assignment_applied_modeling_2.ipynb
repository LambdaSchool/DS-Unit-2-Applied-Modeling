{
  "nbformat": 4,
  "nbformat_minor": 0,
  "metadata": {
    "kernelspec": {
      "display_name": "Python 3",
      "language": "python",
      "name": "python3"
    },
    "language_info": {
      "codemirror_mode": {
        "name": "ipython",
        "version": 3
      },
      "file_extension": ".py",
      "mimetype": "text/x-python",
      "name": "python",
      "nbconvert_exporter": "python",
      "pygments_lexer": "ipython3",
      "version": "3.7.4"
    },
    "colab": {
      "name": "LS_DS_232_XGBoost.ipynb",
      "provenance": [],
      "include_colab_link": true
    }
  },
  "cells": [
    {
      "cell_type": "markdown",
      "metadata": {
        "id": "view-in-github",
        "colab_type": "text"
      },
      "source": [
        "<a href=\"https://colab.research.google.com/github/CurtCalledBurt/DS-Unit-2-Applied-Modeling/blob/master/module2/assignment_applied_modeling_2.ipynb\" target=\"_parent\"><img src=\"https://colab.research.google.com/assets/colab-badge.svg\" alt=\"Open In Colab\"/></a>"
      ]
    },
    {
      "cell_type": "code",
      "metadata": {
        "id": "ZdjDxcZLiS55",
        "colab_type": "code",
        "colab": {}
      },
      "source": [
        "import pandas as pd\n",
        "import numpy as np\n",
        "import matplotlib.pyplot as plt\n",
        "from sklearn.model_selection import train_test_split\n",
        "\n",
        "df = pd.read_csv('/Users/curtismckendrick/Downloads/games.csv')"
      ],
      "execution_count": 0,
      "outputs": []
    },
    {
      "cell_type": "code",
      "metadata": {
        "id": "WOO_S8TaiS58",
        "colab_type": "code",
        "outputId": "01199226-6e03-47a0-a390-1daab0b116c1",
        "colab": {}
      },
      "source": [
        "df.isna().sum()"
      ],
      "execution_count": 0,
      "outputs": [
        {
          "output_type": "execute_result",
          "data": {
            "text/plain": [
              "id                       0\n",
              "type                     0\n",
              "name                    41\n",
              "yearpublished            3\n",
              "minplayers               3\n",
              "maxplayers               3\n",
              "playingtime              3\n",
              "minplaytime              3\n",
              "maxplaytime              3\n",
              "minage                   3\n",
              "users_rated              0\n",
              "average_rating           0\n",
              "bayes_average_rating     0\n",
              "total_owners             0\n",
              "total_traders            0\n",
              "total_wanters            0\n",
              "total_wishers            0\n",
              "total_comments           0\n",
              "total_weights            0\n",
              "average_weight           0\n",
              "dtype: int64"
            ]
          },
          "metadata": {
            "tags": []
          },
          "execution_count": 42
        }
      ]
    },
    {
      "cell_type": "code",
      "metadata": {
        "id": "rkwT3ikYiS5-",
        "colab_type": "code",
        "colab": {}
      },
      "source": [
        "# feature selection\n",
        "\n",
        "# We try predicting 'average_rating' and see what happens with that.\n",
        "\n",
        "target = 'average_rating'\n",
        "\n",
        "# Obviously we wouldn't know the bayes_average_rating if we knew the average rating, so we remove that from\n",
        "# the features. And I'm considering removing the 2 weight columns again, because I still have no idea what \n",
        "# they are. \n",
        "\n",
        "things_we_cannot_know = ['bayes_average_rating']\n",
        "\n",
        "things_we_do_not_need = ['name', 'type', 'id']\n",
        "\n",
        "features = df.columns.drop([target] + things_we_cannot_know + things_we_do_not_need)\n",
        "X = df[features]\n",
        "y = df[target]"
      ],
      "execution_count": 0,
      "outputs": []
    },
    {
      "cell_type": "code",
      "metadata": {
        "id": "BryrMWkdiS6A",
        "colab_type": "code",
        "colab": {}
      },
      "source": [
        "# train/test/val split\n",
        "\n",
        "X_train, X_test, y_train, y_test = train_test_split(X, y, random_state=2019)"
      ],
      "execution_count": 0,
      "outputs": []
    },
    {
      "cell_type": "code",
      "metadata": {
        "id": "HJe9c2CSiS6D",
        "colab_type": "code",
        "outputId": "c041da08-741d-45cc-f50d-9e2645346cf7",
        "colab": {}
      },
      "source": [
        "# train/test/val split\n",
        "X_train, X_val, y_train, y_val = train_test_split(X_train, y_train, random_state=2019)\n",
        "X_train.shape, y_train.shape, X_test.shape, y_test.shape, X_val.shape, y_val.shape"
      ],
      "execution_count": 0,
      "outputs": [
        {
          "output_type": "execute_result",
          "data": {
            "text/plain": [
              "((45738, 15), (45738,), (20328, 15), (20328,), (15246, 15), (15246,))"
            ]
          },
          "metadata": {
            "tags": []
          },
          "execution_count": 4
        }
      ]
    },
    {
      "cell_type": "code",
      "metadata": {
        "id": "1bF4vH6eiS6F",
        "colab_type": "code",
        "colab": {}
      },
      "source": [
        "# quick and dirty baseline regressor\n",
        "\n",
        "def baseline_Regressor(target):\n",
        "  from sklearn.metrics import mean_absolute_error, mean_squared_error, r2_score\n",
        "\n",
        "  # making a list of the same size as 'target' \n",
        "  # with the mean of the target as the only possible entree\n",
        "  mean_target = target.mean()\n",
        "  pred_baseline = [mean_target] * len(target)\n",
        "  \n",
        "  #calculating baseline error and score\n",
        "  mae = mean_absolute_error(target, pred_baseline)\n",
        "  mse = mean_squared_error(target, pred_baseline)\n",
        "  r2 = r2_score(target, pred_baseline)\n",
        "  \n",
        "  # printing the errors and scores\n",
        "  print('Baseline MAE: ', mae)\n",
        "  print('Baseline MSE: ', mse)\n",
        "  print('Baseline R^2: ', r2)"
      ],
      "execution_count": 0,
      "outputs": []
    },
    {
      "cell_type": "code",
      "metadata": {
        "id": "9H6cJmXgiS6H",
        "colab_type": "code",
        "outputId": "d2e0b9b1-c9d6-4d90-91fb-2d2128f9309d",
        "colab": {}
      },
      "source": [
        "# get a list of baseline predictions\n",
        "y_pred_base = baseline_Regressor(y_train)"
      ],
      "execution_count": 0,
      "outputs": [
        {
          "output_type": "stream",
          "text": [
            "Baseline MAE:  2.711469150949111\n",
            "Baseline MSE:  9.321468469749549\n",
            "Baseline R^2:  0.0\n"
          ],
          "name": "stdout"
        }
      ]
    },
    {
      "cell_type": "code",
      "metadata": {
        "id": "tUH3whx8iS6J",
        "colab_type": "code",
        "colab": {}
      },
      "source": [
        "# more robust modelling\n",
        "# we'll start with a random forest before making our way to xgboost\n",
        "from sklearn.pipeline import make_pipeline\n",
        "from sklearn.impute import SimpleImputer\n",
        "from sklearn.ensemble import RandomForestRegressor\n",
        "\n",
        "pipeline = make_pipeline(\n",
        "    SimpleImputer(strategy='median'),\n",
        "    RandomForestRegressor(n_estimators=150, random_state=2019, n_jobs=-1)\n",
        ")\n",
        "# Fit the model\n",
        "pipeline.fit(X_train, y_train);"
      ],
      "execution_count": 0,
      "outputs": []
    },
    {
      "cell_type": "code",
      "metadata": {
        "id": "ux1jnIfYiS6L",
        "colab_type": "code",
        "outputId": "9d3f0998-9b53-40d3-ad4a-1b369ff10cfe",
        "colab": {}
      },
      "source": [
        "from sklearn.metrics import mean_absolute_error, mean_squared_error, r2_score\n",
        "\n",
        "\n",
        "#make a prediction on the train set\n",
        "y_pred = pipeline.predict(X_train)\n",
        "\n",
        "# MAE of train set\n",
        "mae = mean_absolute_error(y_train, y_pred)\n",
        "print('MAE Train Error: ', mae)\n",
        "\n",
        "# RMSE of train set\n",
        "rmse = np.sqrt(mean_squared_error(y_train, y_pred))\n",
        "print('RMSE Train Error: ', rmse)\n",
        "\n",
        "# R2 score of train set\n",
        "r2 = r2_score(y_train, y_pred)\n",
        "print('Train R^2 Score: ', r2)\n",
        "\n",
        "\n",
        "print('\\n')\n",
        "\n",
        "\n",
        "# make prediction on the val set\n",
        "y_pred = pipeline.predict(X_val)\n",
        "\n",
        "# MAE of val set\n",
        "mae = mean_absolute_error(y_val, y_pred)\n",
        "print('MAE Val Error: ', mae)\n",
        "\n",
        "# RMSE of val set\n",
        "rmse = np.sqrt(mean_squared_error(y_val, y_pred))\n",
        "print('RMSE Val Error: ', rmse)\n",
        "\n",
        "# R2 score of val set\n",
        "r2 = r2_score(y_val, y_pred)\n",
        "print('Val R^2 Score: ', r2)"
      ],
      "execution_count": 0,
      "outputs": [
        {
          "output_type": "stream",
          "text": [
            "MAE Train Error:  0.225298161233403\n",
            "RMSE Train Error:  0.39027141167513846\n",
            "Train R^2 Score:  0.9836601094274797\n",
            "\n",
            "\n",
            "MAE Val Error:  0.5841072198455923\n",
            "RMSE Val Error:  0.9932021499061355\n",
            "Val R^2 Score:  0.8945718078292232\n"
          ],
          "name": "stdout"
        }
      ]
    },
    {
      "cell_type": "code",
      "metadata": {
        "id": "DNnUBAp4iS6M",
        "colab_type": "code",
        "outputId": "ff8edefe-8a5f-4db6-8201-f0c37f761cd3",
        "colab": {}
      },
      "source": [
        "from xgboost import XGBRegressor\n",
        "\n",
        "imputer = SimpleImputer(strategy='median')\n",
        "X_train_imputed = imputer.fit_transform(X_train)\n",
        "X_val_imputed = imputer.transform(X_val)\n",
        "\n",
        "X_train_imputed = imputer.fit_transform(X_train)\n",
        "X_test_imputed = imputer.fit_transform(X_train)\n",
        "\n",
        "model = XGBRegressor(objective='reg:squarederror',\n",
        "            n_estimators=1000, \n",
        "            random_state=2019,\n",
        "            learning_rate = 0.5,\n",
        "            n_jobs=-1\n",
        "            )\n",
        "\n",
        "eval_set = [ \n",
        "    (X_train_imputed, y_train), \n",
        "    (X_val_imputed, y_val) \n",
        "           ]\n",
        "\n",
        "model.fit(X_train_imputed, y_train,\n",
        "         eval_set=eval_set,\n",
        "         eval_metric= 'mae',\n",
        "         early_stopping_rounds=50);"
      ],
      "execution_count": 0,
      "outputs": [
        {
          "output_type": "stream",
          "text": [
            "[0]\tvalidation_0-mae:2.06505\tvalidation_1-mae:2.06072\n",
            "Multiple eval metrics have been passed: 'validation_1-mae' will be used for early stopping.\n",
            "\n",
            "Will train until validation_1-mae hasn't improved in 50 rounds.\n"
          ],
          "name": "stdout"
        },
        {
          "output_type": "stream",
          "text": [
            "//anaconda3/envs/unit2real/lib/python3.7/site-packages/xgboost/core.py:587: FutureWarning: Series.base is deprecated and will be removed in a future version\n",
            "  if getattr(data, 'base', None) is not None and \\\n"
          ],
          "name": "stderr"
        },
        {
          "output_type": "stream",
          "text": [
            "[1]\tvalidation_0-mae:1.19788\tvalidation_1-mae:1.19436\n",
            "[2]\tvalidation_0-mae:0.859284\tvalidation_1-mae:0.851297\n",
            "[3]\tvalidation_0-mae:0.738382\tvalidation_1-mae:0.728952\n",
            "[4]\tvalidation_0-mae:0.695918\tvalidation_1-mae:0.686167\n",
            "[5]\tvalidation_0-mae:0.678682\tvalidation_1-mae:0.667681\n",
            "[6]\tvalidation_0-mae:0.676036\tvalidation_1-mae:0.665205\n",
            "[7]\tvalidation_0-mae:0.673325\tvalidation_1-mae:0.6621\n",
            "[8]\tvalidation_0-mae:0.66849\tvalidation_1-mae:0.65679\n",
            "[9]\tvalidation_0-mae:0.664786\tvalidation_1-mae:0.65261\n",
            "[10]\tvalidation_0-mae:0.665485\tvalidation_1-mae:0.653927\n",
            "[11]\tvalidation_0-mae:0.664932\tvalidation_1-mae:0.653505\n",
            "[12]\tvalidation_0-mae:0.662736\tvalidation_1-mae:0.65128\n",
            "[13]\tvalidation_0-mae:0.662426\tvalidation_1-mae:0.651447\n",
            "[14]\tvalidation_0-mae:0.662511\tvalidation_1-mae:0.651245\n",
            "[15]\tvalidation_0-mae:0.660838\tvalidation_1-mae:0.649447\n",
            "[16]\tvalidation_0-mae:0.659079\tvalidation_1-mae:0.647893\n",
            "[17]\tvalidation_0-mae:0.657262\tvalidation_1-mae:0.646422\n",
            "[18]\tvalidation_0-mae:0.655943\tvalidation_1-mae:0.645288\n",
            "[19]\tvalidation_0-mae:0.655706\tvalidation_1-mae:0.645549\n",
            "[20]\tvalidation_0-mae:0.655176\tvalidation_1-mae:0.645428\n",
            "[21]\tvalidation_0-mae:0.654248\tvalidation_1-mae:0.644884\n",
            "[22]\tvalidation_0-mae:0.651847\tvalidation_1-mae:0.64216\n",
            "[23]\tvalidation_0-mae:0.65156\tvalidation_1-mae:0.641961\n",
            "[24]\tvalidation_0-mae:0.651471\tvalidation_1-mae:0.642422\n",
            "[25]\tvalidation_0-mae:0.650286\tvalidation_1-mae:0.641533\n",
            "[26]\tvalidation_0-mae:0.649499\tvalidation_1-mae:0.640929\n",
            "[27]\tvalidation_0-mae:0.648187\tvalidation_1-mae:0.639582\n",
            "[28]\tvalidation_0-mae:0.647851\tvalidation_1-mae:0.6393\n",
            "[29]\tvalidation_0-mae:0.647643\tvalidation_1-mae:0.639411\n",
            "[30]\tvalidation_0-mae:0.647509\tvalidation_1-mae:0.639434\n",
            "[31]\tvalidation_0-mae:0.646466\tvalidation_1-mae:0.638527\n",
            "[32]\tvalidation_0-mae:0.642583\tvalidation_1-mae:0.63427\n",
            "[33]\tvalidation_0-mae:0.642002\tvalidation_1-mae:0.634107\n",
            "[34]\tvalidation_0-mae:0.641466\tvalidation_1-mae:0.633555\n",
            "[35]\tvalidation_0-mae:0.640694\tvalidation_1-mae:0.632542\n",
            "[36]\tvalidation_0-mae:0.640378\tvalidation_1-mae:0.632414\n",
            "[37]\tvalidation_0-mae:0.639285\tvalidation_1-mae:0.631385\n",
            "[38]\tvalidation_0-mae:0.639247\tvalidation_1-mae:0.631633\n",
            "[39]\tvalidation_0-mae:0.638691\tvalidation_1-mae:0.631159\n",
            "[40]\tvalidation_0-mae:0.638452\tvalidation_1-mae:0.631296\n",
            "[41]\tvalidation_0-mae:0.637668\tvalidation_1-mae:0.630436\n",
            "[42]\tvalidation_0-mae:0.63725\tvalidation_1-mae:0.630286\n",
            "[43]\tvalidation_0-mae:0.636599\tvalidation_1-mae:0.629588\n",
            "[44]\tvalidation_0-mae:0.635912\tvalidation_1-mae:0.629291\n",
            "[45]\tvalidation_0-mae:0.635847\tvalidation_1-mae:0.629361\n",
            "[46]\tvalidation_0-mae:0.636667\tvalidation_1-mae:0.630241\n",
            "[47]\tvalidation_0-mae:0.636157\tvalidation_1-mae:0.629967\n",
            "[48]\tvalidation_0-mae:0.635699\tvalidation_1-mae:0.629843\n",
            "[49]\tvalidation_0-mae:0.635447\tvalidation_1-mae:0.629709\n",
            "[50]\tvalidation_0-mae:0.635071\tvalidation_1-mae:0.629373\n",
            "[51]\tvalidation_0-mae:0.634646\tvalidation_1-mae:0.629118\n",
            "[52]\tvalidation_0-mae:0.634354\tvalidation_1-mae:0.629306\n",
            "[53]\tvalidation_0-mae:0.63414\tvalidation_1-mae:0.629227\n",
            "[54]\tvalidation_0-mae:0.633541\tvalidation_1-mae:0.628715\n",
            "[55]\tvalidation_0-mae:0.63235\tvalidation_1-mae:0.627723\n",
            "[56]\tvalidation_0-mae:0.631838\tvalidation_1-mae:0.627376\n",
            "[57]\tvalidation_0-mae:0.631455\tvalidation_1-mae:0.627325\n",
            "[58]\tvalidation_0-mae:0.631483\tvalidation_1-mae:0.627384\n",
            "[59]\tvalidation_0-mae:0.631406\tvalidation_1-mae:0.627293\n",
            "[60]\tvalidation_0-mae:0.631236\tvalidation_1-mae:0.626965\n",
            "[61]\tvalidation_0-mae:0.630606\tvalidation_1-mae:0.626374\n",
            "[62]\tvalidation_0-mae:0.630113\tvalidation_1-mae:0.625958\n",
            "[63]\tvalidation_0-mae:0.630038\tvalidation_1-mae:0.626003\n",
            "[64]\tvalidation_0-mae:0.629602\tvalidation_1-mae:0.625738\n",
            "[65]\tvalidation_0-mae:0.629237\tvalidation_1-mae:0.625489\n",
            "[66]\tvalidation_0-mae:0.628875\tvalidation_1-mae:0.625405\n",
            "[67]\tvalidation_0-mae:0.628726\tvalidation_1-mae:0.6254\n",
            "[68]\tvalidation_0-mae:0.628171\tvalidation_1-mae:0.624769\n",
            "[69]\tvalidation_0-mae:0.628555\tvalidation_1-mae:0.625392\n",
            "[70]\tvalidation_0-mae:0.628444\tvalidation_1-mae:0.625214\n",
            "[71]\tvalidation_0-mae:0.62813\tvalidation_1-mae:0.62514\n",
            "[72]\tvalidation_0-mae:0.627528\tvalidation_1-mae:0.624959\n",
            "[73]\tvalidation_0-mae:0.627207\tvalidation_1-mae:0.624843\n",
            "[74]\tvalidation_0-mae:0.627207\tvalidation_1-mae:0.625043\n",
            "[75]\tvalidation_0-mae:0.627002\tvalidation_1-mae:0.624767\n",
            "[76]\tvalidation_0-mae:0.626845\tvalidation_1-mae:0.624879\n",
            "[77]\tvalidation_0-mae:0.62647\tvalidation_1-mae:0.624841\n",
            "[78]\tvalidation_0-mae:0.626977\tvalidation_1-mae:0.625441\n",
            "[79]\tvalidation_0-mae:0.626774\tvalidation_1-mae:0.625169\n",
            "[80]\tvalidation_0-mae:0.626671\tvalidation_1-mae:0.625114\n",
            "[81]\tvalidation_0-mae:0.626764\tvalidation_1-mae:0.62541\n",
            "[82]\tvalidation_0-mae:0.626457\tvalidation_1-mae:0.62518\n",
            "[83]\tvalidation_0-mae:0.62629\tvalidation_1-mae:0.624998\n",
            "[84]\tvalidation_0-mae:0.625586\tvalidation_1-mae:0.624406\n",
            "[85]\tvalidation_0-mae:0.625261\tvalidation_1-mae:0.624248\n",
            "[86]\tvalidation_0-mae:0.625175\tvalidation_1-mae:0.624407\n",
            "[87]\tvalidation_0-mae:0.624914\tvalidation_1-mae:0.624509\n",
            "[88]\tvalidation_0-mae:0.624367\tvalidation_1-mae:0.623945\n",
            "[89]\tvalidation_0-mae:0.623707\tvalidation_1-mae:0.623473\n",
            "[90]\tvalidation_0-mae:0.623802\tvalidation_1-mae:0.623465\n",
            "[91]\tvalidation_0-mae:0.623259\tvalidation_1-mae:0.622729\n",
            "[92]\tvalidation_0-mae:0.622874\tvalidation_1-mae:0.622616\n",
            "[93]\tvalidation_0-mae:0.622609\tvalidation_1-mae:0.622519\n",
            "[94]\tvalidation_0-mae:0.622446\tvalidation_1-mae:0.622537\n",
            "[95]\tvalidation_0-mae:0.62222\tvalidation_1-mae:0.622232\n",
            "[96]\tvalidation_0-mae:0.621958\tvalidation_1-mae:0.622048\n",
            "[97]\tvalidation_0-mae:0.62195\tvalidation_1-mae:0.622123\n",
            "[98]\tvalidation_0-mae:0.621949\tvalidation_1-mae:0.622382\n",
            "[99]\tvalidation_0-mae:0.621806\tvalidation_1-mae:0.622383\n",
            "[100]\tvalidation_0-mae:0.62152\tvalidation_1-mae:0.622347\n",
            "[101]\tvalidation_0-mae:0.621325\tvalidation_1-mae:0.622219\n",
            "[102]\tvalidation_0-mae:0.621106\tvalidation_1-mae:0.622158\n",
            "[103]\tvalidation_0-mae:0.621024\tvalidation_1-mae:0.622176\n",
            "[104]\tvalidation_0-mae:0.621148\tvalidation_1-mae:0.622458\n",
            "[105]\tvalidation_0-mae:0.620949\tvalidation_1-mae:0.622414\n",
            "[106]\tvalidation_0-mae:0.620437\tvalidation_1-mae:0.622186\n",
            "[107]\tvalidation_0-mae:0.619155\tvalidation_1-mae:0.621134\n",
            "[108]\tvalidation_0-mae:0.619166\tvalidation_1-mae:0.621018\n",
            "[109]\tvalidation_0-mae:0.618954\tvalidation_1-mae:0.620776\n",
            "[110]\tvalidation_0-mae:0.618745\tvalidation_1-mae:0.620827\n",
            "[111]\tvalidation_0-mae:0.618604\tvalidation_1-mae:0.620695\n",
            "[112]\tvalidation_0-mae:0.618482\tvalidation_1-mae:0.620511\n",
            "[113]\tvalidation_0-mae:0.618268\tvalidation_1-mae:0.620568\n",
            "[114]\tvalidation_0-mae:0.618155\tvalidation_1-mae:0.620663\n",
            "[115]\tvalidation_0-mae:0.617901\tvalidation_1-mae:0.620302\n",
            "[116]\tvalidation_0-mae:0.61777\tvalidation_1-mae:0.620066\n",
            "[117]\tvalidation_0-mae:0.617725\tvalidation_1-mae:0.620198\n",
            "[118]\tvalidation_0-mae:0.618111\tvalidation_1-mae:0.620611\n",
            "[119]\tvalidation_0-mae:0.617947\tvalidation_1-mae:0.620654\n",
            "[120]\tvalidation_0-mae:0.617755\tvalidation_1-mae:0.620641\n",
            "[121]\tvalidation_0-mae:0.617428\tvalidation_1-mae:0.620715\n",
            "[122]\tvalidation_0-mae:0.61709\tvalidation_1-mae:0.620837\n",
            "[123]\tvalidation_0-mae:0.61704\tvalidation_1-mae:0.620875\n",
            "[124]\tvalidation_0-mae:0.617001\tvalidation_1-mae:0.620798\n",
            "[125]\tvalidation_0-mae:0.616914\tvalidation_1-mae:0.620814\n",
            "[126]\tvalidation_0-mae:0.616667\tvalidation_1-mae:0.620908\n",
            "[127]\tvalidation_0-mae:0.616526\tvalidation_1-mae:0.62082\n",
            "[128]\tvalidation_0-mae:0.616608\tvalidation_1-mae:0.621079\n",
            "[129]\tvalidation_0-mae:0.616587\tvalidation_1-mae:0.621132\n",
            "[130]\tvalidation_0-mae:0.616683\tvalidation_1-mae:0.621292\n",
            "[131]\tvalidation_0-mae:0.61648\tvalidation_1-mae:0.621197\n",
            "[132]\tvalidation_0-mae:0.616354\tvalidation_1-mae:0.621135\n",
            "[133]\tvalidation_0-mae:0.616187\tvalidation_1-mae:0.621022\n",
            "[134]\tvalidation_0-mae:0.616044\tvalidation_1-mae:0.621022\n",
            "[135]\tvalidation_0-mae:0.615917\tvalidation_1-mae:0.620906\n",
            "[136]\tvalidation_0-mae:0.615767\tvalidation_1-mae:0.62081\n",
            "[137]\tvalidation_0-mae:0.615551\tvalidation_1-mae:0.620615\n",
            "[138]\tvalidation_0-mae:0.615471\tvalidation_1-mae:0.620522\n",
            "[139]\tvalidation_0-mae:0.615378\tvalidation_1-mae:0.620434\n",
            "[140]\tvalidation_0-mae:0.615272\tvalidation_1-mae:0.620447\n",
            "[141]\tvalidation_0-mae:0.615167\tvalidation_1-mae:0.620473\n",
            "[142]\tvalidation_0-mae:0.615114\tvalidation_1-mae:0.620603\n",
            "[143]\tvalidation_0-mae:0.614993\tvalidation_1-mae:0.62027\n",
            "[144]\tvalidation_0-mae:0.614788\tvalidation_1-mae:0.620052\n",
            "[145]\tvalidation_0-mae:0.614678\tvalidation_1-mae:0.619948\n",
            "[146]\tvalidation_0-mae:0.614527\tvalidation_1-mae:0.620073\n",
            "[147]\tvalidation_0-mae:0.614551\tvalidation_1-mae:0.620344\n",
            "[148]\tvalidation_0-mae:0.614393\tvalidation_1-mae:0.620278\n",
            "[149]\tvalidation_0-mae:0.614167\tvalidation_1-mae:0.620206\n",
            "[150]\tvalidation_0-mae:0.614091\tvalidation_1-mae:0.620326\n",
            "[151]\tvalidation_0-mae:0.613993\tvalidation_1-mae:0.620434\n",
            "[152]\tvalidation_0-mae:0.613834\tvalidation_1-mae:0.620461\n",
            "[153]\tvalidation_0-mae:0.613827\tvalidation_1-mae:0.620486\n",
            "[154]\tvalidation_0-mae:0.613718\tvalidation_1-mae:0.620481\n",
            "[155]\tvalidation_0-mae:0.613573\tvalidation_1-mae:0.620558\n",
            "[156]\tvalidation_0-mae:0.613462\tvalidation_1-mae:0.620631\n",
            "[157]\tvalidation_0-mae:0.613429\tvalidation_1-mae:0.620835\n",
            "[158]\tvalidation_0-mae:0.613343\tvalidation_1-mae:0.620899\n",
            "[159]\tvalidation_0-mae:0.613551\tvalidation_1-mae:0.621193\n",
            "[160]\tvalidation_0-mae:0.613127\tvalidation_1-mae:0.620954\n",
            "[161]\tvalidation_0-mae:0.613\tvalidation_1-mae:0.620861\n",
            "[162]\tvalidation_0-mae:0.612918\tvalidation_1-mae:0.620921\n",
            "[163]\tvalidation_0-mae:0.612655\tvalidation_1-mae:0.62078\n",
            "[164]\tvalidation_0-mae:0.61247\tvalidation_1-mae:0.620822\n",
            "[165]\tvalidation_0-mae:0.61241\tvalidation_1-mae:0.620868\n",
            "[166]\tvalidation_0-mae:0.612106\tvalidation_1-mae:0.620691\n",
            "[167]\tvalidation_0-mae:0.611984\tvalidation_1-mae:0.620741\n",
            "[168]\tvalidation_0-mae:0.611838\tvalidation_1-mae:0.62067\n",
            "[169]\tvalidation_0-mae:0.611682\tvalidation_1-mae:0.62051\n",
            "[170]\tvalidation_0-mae:0.611439\tvalidation_1-mae:0.620381\n",
            "[171]\tvalidation_0-mae:0.61135\tvalidation_1-mae:0.620509\n",
            "[172]\tvalidation_0-mae:0.611326\tvalidation_1-mae:0.620639\n",
            "[173]\tvalidation_0-mae:0.611205\tvalidation_1-mae:0.620704\n",
            "[174]\tvalidation_0-mae:0.61114\tvalidation_1-mae:0.62078\n",
            "[175]\tvalidation_0-mae:0.611102\tvalidation_1-mae:0.620709\n",
            "[176]\tvalidation_0-mae:0.610987\tvalidation_1-mae:0.620515\n",
            "[177]\tvalidation_0-mae:0.610899\tvalidation_1-mae:0.62049\n",
            "[178]\tvalidation_0-mae:0.611118\tvalidation_1-mae:0.620648\n",
            "[179]\tvalidation_0-mae:0.610958\tvalidation_1-mae:0.620782\n",
            "[180]\tvalidation_0-mae:0.609955\tvalidation_1-mae:0.619678\n",
            "[181]\tvalidation_0-mae:0.609994\tvalidation_1-mae:0.619792\n",
            "[182]\tvalidation_0-mae:0.609856\tvalidation_1-mae:0.619697\n",
            "[183]\tvalidation_0-mae:0.609705\tvalidation_1-mae:0.61976\n",
            "[184]\tvalidation_0-mae:0.609468\tvalidation_1-mae:0.61955\n",
            "[185]\tvalidation_0-mae:0.609463\tvalidation_1-mae:0.619647\n",
            "[186]\tvalidation_0-mae:0.609367\tvalidation_1-mae:0.619627\n",
            "[187]\tvalidation_0-mae:0.609462\tvalidation_1-mae:0.619652\n",
            "[188]\tvalidation_0-mae:0.609247\tvalidation_1-mae:0.619508\n",
            "[189]\tvalidation_0-mae:0.609289\tvalidation_1-mae:0.619485\n",
            "[190]\tvalidation_0-mae:0.609165\tvalidation_1-mae:0.619676\n",
            "[191]\tvalidation_0-mae:0.608814\tvalidation_1-mae:0.619511\n",
            "[192]\tvalidation_0-mae:0.608769\tvalidation_1-mae:0.619662\n",
            "[193]\tvalidation_0-mae:0.608811\tvalidation_1-mae:0.619769\n",
            "[194]\tvalidation_0-mae:0.608629\tvalidation_1-mae:0.619718\n",
            "[195]\tvalidation_0-mae:0.608728\tvalidation_1-mae:0.619959\n",
            "[196]\tvalidation_0-mae:0.608609\tvalidation_1-mae:0.620097\n",
            "[197]\tvalidation_0-mae:0.608544\tvalidation_1-mae:0.620007\n",
            "[198]\tvalidation_0-mae:0.608511\tvalidation_1-mae:0.620015\n",
            "[199]\tvalidation_0-mae:0.608533\tvalidation_1-mae:0.620064\n",
            "[200]\tvalidation_0-mae:0.60851\tvalidation_1-mae:0.620073\n",
            "[201]\tvalidation_0-mae:0.608364\tvalidation_1-mae:0.620279\n",
            "[202]\tvalidation_0-mae:0.608304\tvalidation_1-mae:0.620404\n",
            "[203]\tvalidation_0-mae:0.60815\tvalidation_1-mae:0.620412\n",
            "[204]\tvalidation_0-mae:0.608176\tvalidation_1-mae:0.620587\n",
            "[205]\tvalidation_0-mae:0.60811\tvalidation_1-mae:0.620635\n",
            "[206]\tvalidation_0-mae:0.608063\tvalidation_1-mae:0.620716\n",
            "[207]\tvalidation_0-mae:0.607904\tvalidation_1-mae:0.620672\n",
            "[208]\tvalidation_0-mae:0.607875\tvalidation_1-mae:0.620655\n",
            "[209]\tvalidation_0-mae:0.607764\tvalidation_1-mae:0.620561\n",
            "[210]\tvalidation_0-mae:0.607656\tvalidation_1-mae:0.62055\n",
            "[211]\tvalidation_0-mae:0.607567\tvalidation_1-mae:0.620493\n",
            "[212]\tvalidation_0-mae:0.607458\tvalidation_1-mae:0.620342\n",
            "[213]\tvalidation_0-mae:0.607398\tvalidation_1-mae:0.620287\n",
            "[214]\tvalidation_0-mae:0.607085\tvalidation_1-mae:0.619981\n",
            "[215]\tvalidation_0-mae:0.606999\tvalidation_1-mae:0.619896\n",
            "[216]\tvalidation_0-mae:0.606873\tvalidation_1-mae:0.619818\n",
            "[217]\tvalidation_0-mae:0.606834\tvalidation_1-mae:0.619881\n",
            "[218]\tvalidation_0-mae:0.606702\tvalidation_1-mae:0.619863\n",
            "[219]\tvalidation_0-mae:0.606957\tvalidation_1-mae:0.620117\n",
            "[220]\tvalidation_0-mae:0.606851\tvalidation_1-mae:0.620093\n",
            "[221]\tvalidation_0-mae:0.6067\tvalidation_1-mae:0.620257\n",
            "[222]\tvalidation_0-mae:0.606859\tvalidation_1-mae:0.620357\n",
            "[223]\tvalidation_0-mae:0.606789\tvalidation_1-mae:0.620431\n",
            "[224]\tvalidation_0-mae:0.606589\tvalidation_1-mae:0.620538\n",
            "[225]\tvalidation_0-mae:0.606418\tvalidation_1-mae:0.620579\n",
            "[226]\tvalidation_0-mae:0.606316\tvalidation_1-mae:0.62064\n",
            "[227]\tvalidation_0-mae:0.606412\tvalidation_1-mae:0.620692\n",
            "[228]\tvalidation_0-mae:0.606266\tvalidation_1-mae:0.620793\n",
            "[229]\tvalidation_0-mae:0.606208\tvalidation_1-mae:0.620723\n",
            "[230]\tvalidation_0-mae:0.606189\tvalidation_1-mae:0.62083\n",
            "[231]\tvalidation_0-mae:0.606109\tvalidation_1-mae:0.620882\n",
            "[232]\tvalidation_0-mae:0.605969\tvalidation_1-mae:0.620736\n",
            "[233]\tvalidation_0-mae:0.605863\tvalidation_1-mae:0.620754\n",
            "[234]\tvalidation_0-mae:0.605815\tvalidation_1-mae:0.620759\n",
            "[235]\tvalidation_0-mae:0.605725\tvalidation_1-mae:0.620671\n",
            "[236]\tvalidation_0-mae:0.605415\tvalidation_1-mae:0.620343\n",
            "[237]\tvalidation_0-mae:0.605396\tvalidation_1-mae:0.620478\n",
            "[238]\tvalidation_0-mae:0.605353\tvalidation_1-mae:0.620474\n",
            "[239]\tvalidation_0-mae:0.605213\tvalidation_1-mae:0.620407\n",
            "Stopping. Best iteration:\n",
            "[189]\tvalidation_0-mae:0.609289\tvalidation_1-mae:0.619485\n",
            "\n"
          ],
          "name": "stdout"
        }
      ]
    },
    {
      "cell_type": "code",
      "metadata": {
        "id": "DRxpTpb-iS6O",
        "colab_type": "code",
        "outputId": "c8a6098a-5c62-4075-e981-49fd73822eaf",
        "colab": {}
      },
      "source": [
        "y_pred = model.predict(X_train_imputed)\n",
        "print('Train MAE: ', mean_absolute_error(y_train, y_pred))\n",
        "print('Train RMSE: ', np.sqrt(mean_squared_error(y_train, y_pred)))\n",
        "print('Train R2: ', r2_score(y_train, y_pred))\n",
        "\n",
        "print('\\n')\n",
        "\n",
        "y_pred = model.predict(X_val_imputed)\n",
        "print('Val MAE: ', mean_absolute_error(y_val, y_pred))\n",
        "print('Val RMSE: ', np.sqrt(mean_squared_error(y_val, y_pred)))\n",
        "print('Val R2: ', r2_score(y_val, y_pred))"
      ],
      "execution_count": 0,
      "outputs": [
        {
          "output_type": "stream",
          "text": [
            "Train MAE:  0.6092844171745581\n",
            "Train RMSE:  0.9828667149384276\n",
            "Train R2:  0.8963653653425047\n",
            "\n",
            "\n",
            "Val MAE:  0.619484039820385\n",
            "Val RMSE:  0.9921008963533039\n",
            "Val R2:  0.8948054738641488\n"
          ],
          "name": "stdout"
        }
      ]
    },
    {
      "cell_type": "code",
      "metadata": {
        "id": "IvwUiulniS6Q",
        "colab_type": "code",
        "colab": {}
      },
      "source": [
        ""
      ],
      "execution_count": 0,
      "outputs": []
    },
    {
      "cell_type": "code",
      "metadata": {
        "id": "PwmHDDN1iS6S",
        "colab_type": "code",
        "colab": {}
      },
      "source": [
        ""
      ],
      "execution_count": 0,
      "outputs": []
    }
  ]
}