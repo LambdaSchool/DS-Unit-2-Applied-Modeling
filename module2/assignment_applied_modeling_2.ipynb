{
 "cells": [
  {
   "cell_type": "markdown",
   "metadata": {
    "colab_type": "text",
    "id": "nCc3XZEyG3XV"
   },
   "source": [
    "Lambda School Data Science, Unit 2: Predictive Modeling\n",
    "\n",
    "# Applied Modeling, Module 2\n",
    "\n",
    "You will use your portfolio project dataset for all assignments this sprint.\n",
    "\n",
    "## Assignment\n",
    "\n",
    "Complete these tasks for your project, and document your work.\n",
    "\n",
    "- [ ] Plot the distribution of your target. \n",
    "    - Regression problem: Is your target skewed? Then, log-transform it.\n",
    "    - Classification: Are your classes imbalanced? Then, don't use just accuracy. And try `class_balance` parameter in scikit-learn.\n",
    "- [ ] Continue to clean and explore your data. Make exploratory visualizations.\n",
    "- [ ] Fit a model. Does it beat your baseline?\n",
    "- [ ] Share at least 1 visualization on Slack.\n",
    "\n",
    "You need to complete an initial model today, because the rest of the week, we're making model interpretation visualizations.\n",
    "\n",
    "\n",
    "## Reading\n",
    "\n",
    "### Today\n",
    "- [imbalance-learn](https://github.com/scikit-learn-contrib/imbalanced-learn)\n",
    "- [Learning from Imbalanced Classes](https://www.svds.com/tbt-learning-imbalanced-classes/)\n",
    "- [Machine Learning Meets Economics](http://blog.mldb.ai/blog/posts/2016/01/ml-meets-economics/)\n",
    "- [ROC curves and Area Under the Curve explained](https://www.dataschool.io/roc-curves-and-auc-explained/)\n",
    "- [The philosophical argument for using ROC curves](https://lukeoakdenrayner.wordpress.com/2018/01/07/the-philosophical-argument-for-using-roc-curves/)\n",
    "\n",
    "\n",
    "### Yesterday\n",
    "- [Attacking discrimination with smarter machine learning](https://research.google.com/bigpicture/attacking-discrimination-in-ml/), by Google Research, with  interactive visualizations. _\"A threshold classifier essentially makes a yes/no decision, putting things in one category or another. We look at how these classifiers work, ways they can potentially be unfair, and how you might turn an unfair classifier into a fairer one. As an illustrative example, we focus on loan granting scenarios where a bank may grant or deny a loan based on a single, automatically computed number such as a credit score.\"_\n",
    "- [How Shopify Capital Uses Quantile Regression To Help Merchants Succeed](https://engineering.shopify.com/blogs/engineering/how-shopify-uses-machine-learning-to-help-our-merchants-grow-their-business)\n",
    "- [Maximizing Scarce Maintenance Resources with Data: Applying predictive modeling, precision at k, and clustering to optimize impact](https://towardsdatascience.com/maximizing-scarce-maintenance-resources-with-data-8f3491133050), **by Lambda DS3 student** Michael Brady. His blog post extends the Tanzania Waterpumps scenario, far beyond what's in the lecture notebook.\n",
    "- [Notebook about how to calculate expected value from a confusion matrix by treating it as a cost-benefit matrix](https://github.com/podopie/DAT18NYC/blob/master/classes/13-expected_value_cost_benefit_analysis.ipynb)\n",
    "- [Simple guide to confusion matrix terminology](https://www.dataschool.io/simple-guide-to-confusion-matrix-terminology/) by Kevin Markham, with video\n",
    "- [Visualizing Machine Learning Thresholds to Make Better Business Decisions](https://blog.insightdatascience.com/visualizing-machine-learning-thresholds-to-make-better-business-decisions-4ab07f823415)\n",
    "\n",
    "\n",
    "\n",
    "\n"
   ]
  },
  {
   "cell_type": "code",
   "execution_count": 3,
   "metadata": {
    "colab": {},
    "colab_type": "code",
    "id": "wM0ChIkGuVAp"
   },
   "outputs": [],
   "source": [
    "import pandas as pd\n",
    "import numpy as np\n",
    "import matplotlib.pyplot as plt\n",
    "import plotly_express as px\n",
    "import seaborn as sns"
   ]
  },
  {
   "cell_type": "code",
   "execution_count": 4,
   "metadata": {},
   "outputs": [],
   "source": [
    "df = pd.read_csv('CA_Hosp_Mortality.csv', encoding = \"ISO-8859-1\")\n",
    "\n",
    "pd.set_option('display.float_format', lambda x: '%.3f' % x)"
   ]
  },
  {
   "cell_type": "code",
   "execution_count": 5,
   "metadata": {},
   "outputs": [
    {
     "name": "stderr",
     "output_type": "stream",
     "text": [
      "C:\\Users\\John\\Anaconda3\\lib\\site-packages\\pandas\\core\\frame.py:4042: SettingWithCopyWarning:\n",
      "\n",
      "\n",
      "A value is trying to be set on a copy of a slice from a DataFrame\n",
      "\n",
      "See the caveats in the documentation: http://pandas.pydata.org/pandas-docs/stable/indexing.html#indexing-view-versus-copy\n",
      "\n",
      "C:\\Users\\John\\Anaconda3\\lib\\site-packages\\ipykernel_launcher.py:21: SettingWithCopyWarning:\n",
      "\n",
      "\n",
      "A value is trying to be set on a copy of a slice from a DataFrame\n",
      "\n",
      "See the caveats in the documentation: http://pandas.pydata.org/pandas-docs/stable/indexing.html#indexing-view-versus-copy\n",
      "\n",
      "C:\\Users\\John\\Anaconda3\\lib\\site-packages\\ipykernel_launcher.py:26: SettingWithCopyWarning:\n",
      "\n",
      "\n",
      "A value is trying to be set on a copy of a slice from a DataFrame.\n",
      "Try using .loc[row_indexer,col_indexer] = value instead\n",
      "\n",
      "See the caveats in the documentation: http://pandas.pydata.org/pandas-docs/stable/indexing.html#indexing-view-versus-copy\n",
      "\n",
      "C:\\Users\\John\\Anaconda3\\lib\\site-packages\\ipykernel_launcher.py:29: SettingWithCopyWarning:\n",
      "\n",
      "\n",
      "A value is trying to be set on a copy of a slice from a DataFrame.\n",
      "Try using .loc[row_indexer,col_indexer] = value instead\n",
      "\n",
      "See the caveats in the documentation: http://pandas.pydata.org/pandas-docs/stable/indexing.html#indexing-view-versus-copy\n",
      "\n"
     ]
    }
   ],
   "source": [
    "# Cleaning function\n",
    "\n",
    "def wrangle(X):\n",
    "    \n",
    "    X = X.copy()\n",
    "    \n",
    "    X = X.drop(columns='OSHPDID')\n",
    "    # Change column names to more appropriate names without caps\n",
    "    X = X.rename(columns={'YEAR':'Year', 'COUNTY':'County', 'HOSPITAL':'Hospital',\n",
    "                        'Procedure/Condition':'Procedure_Condition',\n",
    "                        'Risk Adjuested Mortality Rate':'RAMR', '# of Deaths':'Number_Deaths',\n",
    "                        '# of Cases':'Number_Cases', 'Hospital Ratings':'Hospital_Ratings',\n",
    "                        'LONGITUDE':'Longitude', 'LATITUDE':'Latitude'\n",
    "                       })  \n",
    "    \n",
    "    # Remove rows where the value is for the entire state\n",
    "    X = X.query(\"County != 'AAAA'\") # AAAA is county code for State\n",
    "\n",
    "    # Remove procedures that are not in every year and hidden NaN values\n",
    "    X.replace({'AAA Repair':np.nan, 'AAA Repair Unruptured':np.nan, '.':np.nan}, inplace=True)\n",
    "    X.dropna(inplace=True)\n",
    "    \n",
    "    # Change numeric columns from string to float\n",
    "    numerics = ['RAMR', 'Number_Deaths', 'Number_Cases']\n",
    "    for column in numerics:\n",
    "        X[column] = X[column].astype(float)\n",
    "    \n",
    "    # Engineer new column of Number of Deaths to Number of Cases ratio\n",
    "    X['Deaths_Cases'] = X['Number_Deaths']/X['Number_Cases']\n",
    "    \n",
    "    # Creating numeric values for hospital rating since it is in least to best\n",
    "    X['Hospital_Ratings'].replace({'Worse':1, 'As Expected':2, 'Better':3}, inplace=True)\n",
    "    \n",
    "    return X\n",
    "\n",
    "newdf = wrangle(df)"
   ]
  },
  {
   "cell_type": "code",
   "execution_count": 6,
   "metadata": {},
   "outputs": [
    {
     "data": {
      "text/plain": [
       "((9149, 10), (9149,), (3130, 10), (3130,))"
      ]
     },
     "execution_count": 6,
     "metadata": {},
     "output_type": "execute_result"
    }
   ],
   "source": [
    "target = 'Number_Deaths'\n",
    "features = newdf.columns.drop('Number_Deaths').tolist()\n",
    "\n",
    "train = newdf.query('Year < 2015')\n",
    "test = newdf.query('Year >= 2015')\n",
    "\n",
    "X_train = train[features]\n",
    "y_train = train[target]\n",
    "\n",
    "X_test = test[features]\n",
    "y_test = test[target]\n",
    "\n",
    "X_train.shape, y_train.shape, X_test.shape, y_test.shape"
   ]
  },
  {
   "cell_type": "code",
   "execution_count": 8,
   "metadata": {},
   "outputs": [
    {
     "data": {
      "image/png": "[encoded data removed]",
      "text/plain": [
       "<Figure size 432x288 with 1 Axes>"
      ]
     },
     "metadata": {
      "needs_background": "light"
     },
     "output_type": "display_data"
    }
   ],
   "source": [
    "# Having number of deaths as target\n",
    "# Distribution shows a majority number of deaths per case are below 10\n",
    "sns.distplot(y_train);"
   ]
  },
  {
   "cell_type": "code",
   "execution_count": 25,
   "metadata": {},
   "outputs": [
    {
     "name": "stdout",
     "output_type": "stream",
     "text": [
      "Mean Absolute Error: 5.739296076981824\n",
      "Root Mean Squared Error: 7.916722064739924\n",
      "R2 Score: -0.03206082915220243\n"
     ]
    }
   ],
   "source": [
    "# Baseline model\n",
    "# Number of deaths averaged between all hospitals between 2012-2014\n",
    "mean = train['Number_Deaths'].mean()\n",
    "baseline = []\n",
    "for _ in range(y_test.shape[0]):\n",
    "    baseline.append(mean)\n",
    "    \n",
    "print('Mean Absolute Error:', mean_absolute_error(y_test, baseline))   \n",
    "print('Root Mean Squared Error:', np.sqrt(mean_squared_error(y_test, baseline)))\n",
    "print('R2 Score:', r2_score(y_test, baseline))"
   ]
  },
  {
   "cell_type": "code",
   "execution_count": 9,
   "metadata": {},
   "outputs": [
    {
     "name": "stdout",
     "output_type": "stream",
     "text": [
      "Mean Absolute Error: 2.8464825762800117\n",
      "Root Mean Squared Error: 5.224245790475672\n",
      "R2 Score: 0.5505703696883189\n",
      "                  0\n",
      "Year         -0.040\n",
      "RAMR          0.243\n",
      "Number_Cases  0.046\n",
      "Deaths_Cases  3.196\n"
     ]
    }
   ],
   "source": [
    "# Linear Regression model, beats the baseline\n",
    "# R^2 score shows very weak linear correlation, poor model for testing\n",
    "from sklearn.linear_model import LinearRegression\n",
    "from sklearn.metrics import mean_absolute_error, mean_squared_error, r2_score\n",
    "\n",
    "def LReg(X_train, y_train, X_test, y_test):\n",
    "    X_train = X_train.select_dtypes(include='number')\n",
    "    X_test = X_test.select_dtypes(include='number')\n",
    "    model = LinearRegression()\n",
    "    model.fit(X_train, y_train)\n",
    "    y_pred = model.predict(X_test)\n",
    "    \n",
    "    print('Mean Absolute Error:', mean_absolute_error(y_test, y_pred))   \n",
    "    print('Root Mean Squared Error:', np.sqrt(mean_squared_error(y_test, y_pred)))\n",
    "    print('R2 Score:', r2_score(y_test, y_pred))\n",
    "    \n",
    "    coeff_df = pd.DataFrame(model.coef_, X_test.columns)\n",
    "    print(coeff_df)\n",
    "\n",
    "LReg(X_train, y_train, X_test, y_test)"
   ]
  },
  {
   "cell_type": "markdown",
   "metadata": {},
   "source": [
    "I need to change to a different model since a linear correlation is not present.\n",
    "Considering creating categorical variables for number of deaths binned and doing a logistic regression or random forest on this"
   ]
  }
 ],
 "metadata": {
  "colab": {
   "collapsed_sections": [],
   "name": "assignment_applied_modeling_2.ipynb",
   "provenance": [],
   "version": "0.3.2"
  },
  "kernelspec": {
   "display_name": "Python 3",
   "language": "python",
   "name": "python3"
  },
  "language_info": {
   "codemirror_mode": {
    "name": "ipython",
    "version": 3
   },
   "file_extension": ".py",
   "mimetype": "text/x-python",
   "name": "python",
   "nbconvert_exporter": "python",
   "pygments_lexer": "ipython3",
   "version": "3.7.3"
  }
 },
 "nbformat": 4,
 "nbformat_minor": 1
}
