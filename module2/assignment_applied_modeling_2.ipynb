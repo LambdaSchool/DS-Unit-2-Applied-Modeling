{
  "nbformat": 4,
  "nbformat_minor": 0,
  "metadata": {
    "colab": {
      "name": "assignment_applied_modeling_2.ipynb",
      "provenance": [],
      "collapsed_sections": [],
      "include_colab_link": true
    },
    "kernelspec": {
      "display_name": "Python 3",
      "language": "python",
      "name": "python3"
    },
    "language_info": {
      "codemirror_mode": {
        "name": "ipython",
        "version": 3
      },
      "file_extension": ".py",
      "mimetype": "text/x-python",
      "name": "python",
      "nbconvert_exporter": "python",
      "pygments_lexer": "ipython3",
      "version": "3.7.4"
    }
  },
  "cells": [
    {
      "cell_type": "markdown",
      "metadata": {
        "id": "view-in-github",
        "colab_type": "text"
      },
      "source": [
        "<a href=\"https://colab.research.google.com/github/fuse999/DS-Unit-2-Applied-Modeling/blob/master/module2/assignment_applied_modeling_2.ipynb\" target=\"_parent\"><img src=\"https://colab.research.google.com/assets/colab-badge.svg\" alt=\"Open In Colab\"/></a>"
      ]
    },
    {
      "cell_type": "markdown",
      "metadata": {
        "colab_type": "text",
        "id": "nCc3XZEyG3XV"
      },
      "source": [
        "Lambda School Data Science\n",
        "\n",
        "*Unit 2, Sprint 3, Module 2*\n",
        "\n",
        "---\n",
        "\n",
        "\n",
        "# Permutation & Boosting\n",
        "\n",
        "You will use your portfolio project dataset for all assignments this sprint.\n",
        "\n",
        "## Assignment\n",
        "\n",
        "Complete these tasks for your project, and document your work.\n",
        "\n",
        "- [ ] If you haven't completed assignment #1, please do so first.\n",
        "- [ ] Continue to clean and explore your data. Make exploratory visualizations.\n",
        "- [ ] Fit a model. Does it beat your baseline? \n",
        "- [ ] Try xgboost.\n",
        "- [ ] Get your model's permutation importances.\n",
        "\n",
        "You should try to complete an initial model today, because the rest of the week, we're making model interpretation visualizations.\n",
        "\n",
        "But, if you aren't ready to try xgboost and permutation importances with your dataset today, that's okay. You can practice with another dataset instead. You may choose any dataset you've worked with previously.\n",
        "\n",
        "The data subdirectory includes the Titanic dataset for classification and the NYC apartments dataset for regression. You may want to choose one of these datasets, because example solutions will be available for each.\n",
        "\n",
        "\n",
        "## Reading\n",
        "\n",
        "Top recommendations in _**bold italic:**_\n",
        "\n",
        "#### Permutation Importances\n",
        "- _**[Kaggle / Dan Becker: Machine Learning Explainability](https://www.kaggle.com/dansbecker/permutation-importance)**_\n",
        "- [Christoph Molnar: Interpretable Machine Learning](https://christophm.github.io/interpretable-ml-book/feature-importance.html)\n",
        "\n",
        "#### (Default) Feature Importances\n",
        "  - [Ando Saabas: Selecting good features, Part 3, Random Forests](https://blog.datadive.net/selecting-good-features-part-iii-random-forests/)\n",
        "  - [Terence Parr, et al: Beware Default Random Forest Importances](https://explained.ai/rf-importance/index.html)\n",
        "\n",
        "#### Gradient Boosting\n",
        "  - [A Gentle Introduction to the Gradient Boosting Algorithm for Machine Learning](https://machinelearningmastery.com/gentle-introduction-gradient-boosting-algorithm-machine-learning/)\n",
        "  - _**[A Kaggle Master Explains Gradient Boosting](http://blog.kaggle.com/2017/01/23/a-kaggle-master-explains-gradient-boosting/)**_\n",
        "  - [_An Introduction to Statistical Learning_](http://www-bcf.usc.edu/~gareth/ISL/ISLR%20Seventh%20Printing.pdf) Chapter 8\n",
        "  - [Gradient Boosting Explained](http://arogozhnikov.github.io/2016/06/24/gradient_boosting_explained.html)\n",
        "  - _**[Boosting](https://www.youtube.com/watch?v=GM3CDQfQ4sw) (2.5 minute video)**_"
      ]
    },
    {
      "cell_type": "code",
      "metadata": {
        "colab_type": "code",
        "id": "8GvhkWmv1TkJ",
        "colab": {}
      },
      "source": [
        "import pandas as pd\n",
        "df = pd.read_csv('gradcafe.csv')"
      ],
      "execution_count": 0,
      "outputs": []
    },
    {
      "cell_type": "code",
      "metadata": {
        "id": "9FeXXybY5yS6",
        "colab_type": "code",
        "colab": {},
        "outputId": "1adff8d6-2877-4777-b326-38b8f04a3e18"
      },
      "source": [
        "df.head()"
      ],
      "execution_count": 0,
      "outputs": [
        {
          "output_type": "execute_result",
          "data": {
            "text/html": [
              "<div>\n",
              "<style scoped>\n",
              "    .dataframe tbody tr th:only-of-type {\n",
              "        vertical-align: middle;\n",
              "    }\n",
              "\n",
              "    .dataframe tbody tr th {\n",
              "        vertical-align: top;\n",
              "    }\n",
              "\n",
              "    .dataframe thead th {\n",
              "        text-align: right;\n",
              "    }\n",
              "</style>\n",
              "<table border=\"1\" class=\"dataframe\">\n",
              "  <thead>\n",
              "    <tr style=\"text-align: right;\">\n",
              "      <th></th>\n",
              "      <th>comment</th>\n",
              "      <th>major</th>\n",
              "      <th>gre_quant</th>\n",
              "      <th>degree</th>\n",
              "      <th>season</th>\n",
              "      <th>decision</th>\n",
              "      <th>gre_verbal</th>\n",
              "      <th>date_of_result</th>\n",
              "      <th>term_year</th>\n",
              "      <th>undergrad_gpa</th>\n",
              "      <th>date_added</th>\n",
              "      <th>applicant_status</th>\n",
              "      <th>university</th>\n",
              "      <th>gre_awa</th>\n",
              "    </tr>\n",
              "  </thead>\n",
              "  <tbody>\n",
              "    <tr>\n",
              "      <td>0</td>\n",
              "      <td>I applied because one compatriot teacher there...</td>\n",
              "      <td>Computer Science,</td>\n",
              "      <td>160.0</td>\n",
              "      <td>Masters</td>\n",
              "      <td>Fall</td>\n",
              "      <td>Accepted</td>\n",
              "      <td>158.0</td>\n",
              "      <td>2019-08-14</td>\n",
              "      <td>2019</td>\n",
              "      <td>NaN</td>\n",
              "      <td>2019-08-23</td>\n",
              "      <td>International without US degree</td>\n",
              "      <td>University Of South Carolina</td>\n",
              "      <td>3.5</td>\n",
              "    </tr>\n",
              "    <tr>\n",
              "      <td>1</td>\n",
              "      <td>NaN</td>\n",
              "      <td>Computer Science,</td>\n",
              "      <td>NaN</td>\n",
              "      <td>PhD</td>\n",
              "      <td>Fall</td>\n",
              "      <td>Accepted</td>\n",
              "      <td>NaN</td>\n",
              "      <td>2019-08-22</td>\n",
              "      <td>2019</td>\n",
              "      <td>NaN</td>\n",
              "      <td>2019-08-21</td>\n",
              "      <td>International without US degree</td>\n",
              "      <td>University Of Californa, Los Angeles (UCLA)</td>\n",
              "      <td>NaN</td>\n",
              "    </tr>\n",
              "    <tr>\n",
              "      <td>2</td>\n",
              "      <td>Admitted to CS in Toronto</td>\n",
              "      <td>Computer Science,</td>\n",
              "      <td>NaN</td>\n",
              "      <td>PhD</td>\n",
              "      <td>Fall</td>\n",
              "      <td>Accepted</td>\n",
              "      <td>NaN</td>\n",
              "      <td>2019-04-16</td>\n",
              "      <td>2019</td>\n",
              "      <td>NaN</td>\n",
              "      <td>2019-08-17</td>\n",
              "      <td>Unknown</td>\n",
              "      <td>University Of Toronto</td>\n",
              "      <td>NaN</td>\n",
              "    </tr>\n",
              "    <tr>\n",
              "      <td>3</td>\n",
              "      <td>NaN</td>\n",
              "      <td>Computer Science,</td>\n",
              "      <td>NaN</td>\n",
              "      <td>Masters</td>\n",
              "      <td>Fall</td>\n",
              "      <td>Accepted</td>\n",
              "      <td>NaN</td>\n",
              "      <td>2019-05-22</td>\n",
              "      <td>2019</td>\n",
              "      <td>NaN</td>\n",
              "      <td>2019-08-17</td>\n",
              "      <td>Unknown</td>\n",
              "      <td>University Of Toronto</td>\n",
              "      <td>NaN</td>\n",
              "    </tr>\n",
              "    <tr>\n",
              "      <td>4</td>\n",
              "      <td>Hello, I've heard Amherst allows one to defer ...</td>\n",
              "      <td>Computer Science,</td>\n",
              "      <td>168.0</td>\n",
              "      <td>Masters</td>\n",
              "      <td>Spring</td>\n",
              "      <td>Others</td>\n",
              "      <td>159.0</td>\n",
              "      <td>2019-08-12</td>\n",
              "      <td>2020</td>\n",
              "      <td>3.8</td>\n",
              "      <td>2019-08-11</td>\n",
              "      <td>International without US degree</td>\n",
              "      <td>University Of Massachusetts, Amherst</td>\n",
              "      <td>4.0</td>\n",
              "    </tr>\n",
              "  </tbody>\n",
              "</table>\n",
              "</div>"
            ],
            "text/plain": [
              "                                             comment              major  \\\n",
              "0  I applied because one compatriot teacher there...  Computer Science,   \n",
              "1                                                NaN  Computer Science,   \n",
              "2                          Admitted to CS in Toronto  Computer Science,   \n",
              "3                                                NaN  Computer Science,   \n",
              "4  Hello, I've heard Amherst allows one to defer ...  Computer Science,   \n",
              "\n",
              "   gre_quant   degree  season  decision  gre_verbal date_of_result  term_year  \\\n",
              "0      160.0  Masters    Fall  Accepted       158.0     2019-08-14       2019   \n",
              "1        NaN      PhD    Fall  Accepted         NaN     2019-08-22       2019   \n",
              "2        NaN      PhD    Fall  Accepted         NaN     2019-04-16       2019   \n",
              "3        NaN  Masters    Fall  Accepted         NaN     2019-05-22       2019   \n",
              "4      168.0  Masters  Spring    Others       159.0     2019-08-12       2020   \n",
              "\n",
              "   undergrad_gpa  date_added                 applicant_status  \\\n",
              "0            NaN  2019-08-23  International without US degree   \n",
              "1            NaN  2019-08-21  International without US degree   \n",
              "2            NaN  2019-08-17                          Unknown   \n",
              "3            NaN  2019-08-17                          Unknown   \n",
              "4            3.8  2019-08-11  International without US degree   \n",
              "\n",
              "                                    university  gre_awa  \n",
              "0                 University Of South Carolina      3.5  \n",
              "1  University Of Californa, Los Angeles (UCLA)      NaN  \n",
              "2                        University Of Toronto      NaN  \n",
              "3                        University Of Toronto      NaN  \n",
              "4         University Of Massachusetts, Amherst      4.0  "
            ]
          },
          "metadata": {
            "tags": []
          },
          "execution_count": 46
        }
      ]
    },
    {
      "cell_type": "code",
      "metadata": {
        "id": "AoD5EJR05yS-",
        "colab_type": "code",
        "colab": {},
        "outputId": "3df16d41-5fcc-4c6a-e7db-97bd61356d48"
      },
      "source": [
        "df.decision.value_counts()"
      ],
      "execution_count": 0,
      "outputs": [
        {
          "output_type": "execute_result",
          "data": {
            "text/plain": [
              "Accepted    1310840\n",
              "Rejected    1272526\n",
              "Others      1120158\n",
              "Name: decision, dtype: int64"
            ]
          },
          "metadata": {
            "tags": []
          },
          "execution_count": 47
        }
      ]
    },
    {
      "cell_type": "code",
      "metadata": {
        "id": "sHTt9v635yTA",
        "colab_type": "code",
        "colab": {},
        "outputId": "3a9d44f2-8c96-41f1-b70d-514d721255a9"
      },
      "source": [
        "df.columns"
      ],
      "execution_count": 0,
      "outputs": [
        {
          "output_type": "execute_result",
          "data": {
            "text/plain": [
              "Index(['comment', 'major', 'gre_quant', 'degree', 'season', 'decision',\n",
              "       'gre_verbal', 'date_of_result', 'term_year', 'undergrad_gpa',\n",
              "       'date_added', 'applicant_status', 'university', 'gre_awa'],\n",
              "      dtype='object')"
            ]
          },
          "metadata": {
            "tags": []
          },
          "execution_count": 49
        }
      ]
    },
    {
      "cell_type": "code",
      "metadata": {
        "id": "XktHrOOr5yTD",
        "colab_type": "code",
        "colab": {}
      },
      "source": [
        "df.decision = df['decision']"
      ],
      "execution_count": 0,
      "outputs": []
    },
    {
      "cell_type": "code",
      "metadata": {
        "id": "61IglUr95yTF",
        "colab_type": "code",
        "colab": {}
      },
      "source": [
        "df['y_n'] = df['decision'] == 'Accepted'"
      ],
      "execution_count": 0,
      "outputs": []
    },
    {
      "cell_type": "code",
      "metadata": {
        "id": "n8dPr8jQ5yTH",
        "colab_type": "code",
        "colab": {}
      },
      "source": [
        "df = df.dropna()"
      ],
      "execution_count": 0,
      "outputs": []
    },
    {
      "cell_type": "code",
      "metadata": {
        "id": "Z9d8Z_n05yTJ",
        "colab_type": "code",
        "colab": {},
        "outputId": "aa603b8f-f070-4d65-e7e3-121ecf7dced1"
      },
      "source": [
        "from sklearn.model_selection import train_test_split\n",
        "\n",
        "train, test = train_test_split(df, train_size=0.80,\n",
        "                              test_size=0.20, stratify=df['y_n'],\n",
        "                              random_state=59)\n",
        "\n",
        "train, val = train_test_split(train, train_size=0.80,\n",
        "                              test_size=0.20, stratify=train['y_n'],\n",
        "                              random_state=59)\n",
        "train.shape, val.shape, test.shape"
      ],
      "execution_count": 0,
      "outputs": [
        {
          "output_type": "execute_result",
          "data": {
            "text/plain": [
              "((512415, 15), (128104, 15), (160130, 15))"
            ]
          },
          "metadata": {
            "tags": []
          },
          "execution_count": 21
        }
      ]
    },
    {
      "cell_type": "code",
      "metadata": {
        "id": "KWidbPhK5yTM",
        "colab_type": "code",
        "colab": {},
        "outputId": "5702d0c6-fd83-43ef-e7b6-0dfd03364fd2"
      },
      "source": [
        "train.groupby('y_n').size()"
      ],
      "execution_count": 0,
      "outputs": [
        {
          "output_type": "execute_result",
          "data": {
            "text/plain": [
              "y_n\n",
              "False    257143\n",
              "True     255272\n",
              "dtype: int64"
            ]
          },
          "metadata": {
            "tags": []
          },
          "execution_count": 26
        }
      ]
    },
    {
      "cell_type": "code",
      "metadata": {
        "id": "Mj0NxXef5yTO",
        "colab_type": "code",
        "colab": {},
        "outputId": "16c64e4a-40ed-4599-e890-ab8e887db460"
      },
      "source": [
        "# Majority class baseline\n",
        "from sklearn.metrics import accuracy_score\n",
        "y_pred = [False] * len(train['y_n'])\n",
        "accuracy_score(train['y_n'], y_pred)"
      ],
      "execution_count": 0,
      "outputs": [
        {
          "output_type": "execute_result",
          "data": {
            "text/plain": [
              "0.501825668647483"
            ]
          },
          "metadata": {
            "tags": []
          },
          "execution_count": 27
        }
      ]
    },
    {
      "cell_type": "code",
      "metadata": {
        "id": "_4rulMco5yTQ",
        "colab_type": "code",
        "colab": {},
        "outputId": "a9d8b85e-b5ea-459f-c755-c738659e534e"
      },
      "source": [
        "train.select_dtypes(include='number').describe().T"
      ],
      "execution_count": 0,
      "outputs": [
        {
          "output_type": "execute_result",
          "data": {
            "text/html": [
              "<div>\n",
              "<style scoped>\n",
              "    .dataframe tbody tr th:only-of-type {\n",
              "        vertical-align: middle;\n",
              "    }\n",
              "\n",
              "    .dataframe tbody tr th {\n",
              "        vertical-align: top;\n",
              "    }\n",
              "\n",
              "    .dataframe thead th {\n",
              "        text-align: right;\n",
              "    }\n",
              "</style>\n",
              "<table border=\"1\" class=\"dataframe\">\n",
              "  <thead>\n",
              "    <tr style=\"text-align: right;\">\n",
              "      <th></th>\n",
              "      <th>count</th>\n",
              "      <th>mean</th>\n",
              "      <th>std</th>\n",
              "      <th>min</th>\n",
              "      <th>25%</th>\n",
              "      <th>50%</th>\n",
              "      <th>75%</th>\n",
              "      <th>max</th>\n",
              "    </tr>\n",
              "  </thead>\n",
              "  <tbody>\n",
              "    <tr>\n",
              "      <td>gre_quant</td>\n",
              "      <td>512415.0</td>\n",
              "      <td>196.626843</td>\n",
              "      <td>134.458813</td>\n",
              "      <td>0.0</td>\n",
              "      <td>163.0</td>\n",
              "      <td>167.00</td>\n",
              "      <td>170.0</td>\n",
              "      <td>900.00</td>\n",
              "    </tr>\n",
              "    <tr>\n",
              "      <td>gre_verbal</td>\n",
              "      <td>512415.0</td>\n",
              "      <td>180.351412</td>\n",
              "      <td>105.395005</td>\n",
              "      <td>0.0</td>\n",
              "      <td>154.0</td>\n",
              "      <td>159.00</td>\n",
              "      <td>164.0</td>\n",
              "      <td>801.00</td>\n",
              "    </tr>\n",
              "    <tr>\n",
              "      <td>term_year</td>\n",
              "      <td>512415.0</td>\n",
              "      <td>2016.480013</td>\n",
              "      <td>2.150291</td>\n",
              "      <td>2009.0</td>\n",
              "      <td>2015.0</td>\n",
              "      <td>2017.00</td>\n",
              "      <td>2018.0</td>\n",
              "      <td>2020.00</td>\n",
              "    </tr>\n",
              "    <tr>\n",
              "      <td>undergrad_gpa</td>\n",
              "      <td>512415.0</td>\n",
              "      <td>3.891407</td>\n",
              "      <td>1.131220</td>\n",
              "      <td>0.9</td>\n",
              "      <td>3.5</td>\n",
              "      <td>3.71</td>\n",
              "      <td>3.9</td>\n",
              "      <td>9.99</td>\n",
              "    </tr>\n",
              "    <tr>\n",
              "      <td>gre_awa</td>\n",
              "      <td>512415.0</td>\n",
              "      <td>4.169711</td>\n",
              "      <td>4.936383</td>\n",
              "      <td>0.0</td>\n",
              "      <td>3.5</td>\n",
              "      <td>4.00</td>\n",
              "      <td>4.5</td>\n",
              "      <td>99.99</td>\n",
              "    </tr>\n",
              "  </tbody>\n",
              "</table>\n",
              "</div>"
            ],
            "text/plain": [
              "                  count         mean         std     min     25%      50%  \\\n",
              "gre_quant      512415.0   196.626843  134.458813     0.0   163.0   167.00   \n",
              "gre_verbal     512415.0   180.351412  105.395005     0.0   154.0   159.00   \n",
              "term_year      512415.0  2016.480013    2.150291  2009.0  2015.0  2017.00   \n",
              "undergrad_gpa  512415.0     3.891407    1.131220     0.9     3.5     3.71   \n",
              "gre_awa        512415.0     4.169711    4.936383     0.0     3.5     4.00   \n",
              "\n",
              "                  75%      max  \n",
              "gre_quant       170.0   900.00  \n",
              "gre_verbal      164.0   801.00  \n",
              "term_year      2018.0  2020.00  \n",
              "undergrad_gpa     3.9     9.99  \n",
              "gre_awa           4.5    99.99  "
            ]
          },
          "metadata": {
            "tags": []
          },
          "execution_count": 24
        }
      ]
    },
    {
      "cell_type": "code",
      "metadata": {
        "id": "fT53D1Qo5yTT",
        "colab_type": "code",
        "colab": {},
        "outputId": "e9524e55-80b4-4194-ef20-ccde68dfd074"
      },
      "source": [
        "train.select_dtypes(exclude='number').describe().T.sort_values(by='unique')"
      ],
      "execution_count": 0,
      "outputs": [
        {
          "output_type": "execute_result",
          "data": {
            "text/html": [
              "<div>\n",
              "<style scoped>\n",
              "    .dataframe tbody tr th:only-of-type {\n",
              "        vertical-align: middle;\n",
              "    }\n",
              "\n",
              "    .dataframe tbody tr th {\n",
              "        vertical-align: top;\n",
              "    }\n",
              "\n",
              "    .dataframe thead th {\n",
              "        text-align: right;\n",
              "    }\n",
              "</style>\n",
              "<table border=\"1\" class=\"dataframe\">\n",
              "  <thead>\n",
              "    <tr style=\"text-align: right;\">\n",
              "      <th></th>\n",
              "      <th>count</th>\n",
              "      <th>unique</th>\n",
              "      <th>top</th>\n",
              "      <th>freq</th>\n",
              "    </tr>\n",
              "  </thead>\n",
              "  <tbody>\n",
              "    <tr>\n",
              "      <td>degree</td>\n",
              "      <td>512415</td>\n",
              "      <td>2</td>\n",
              "      <td>Masters</td>\n",
              "      <td>305662</td>\n",
              "    </tr>\n",
              "    <tr>\n",
              "      <td>season</td>\n",
              "      <td>512415</td>\n",
              "      <td>2</td>\n",
              "      <td>Fall</td>\n",
              "      <td>503352</td>\n",
              "    </tr>\n",
              "    <tr>\n",
              "      <td>y_n</td>\n",
              "      <td>512415</td>\n",
              "      <td>2</td>\n",
              "      <td>False</td>\n",
              "      <td>257143</td>\n",
              "    </tr>\n",
              "    <tr>\n",
              "      <td>decision</td>\n",
              "      <td>512415</td>\n",
              "      <td>3</td>\n",
              "      <td>Accepted</td>\n",
              "      <td>255272</td>\n",
              "    </tr>\n",
              "    <tr>\n",
              "      <td>applicant_status</td>\n",
              "      <td>512415</td>\n",
              "      <td>4</td>\n",
              "      <td>International without US degree</td>\n",
              "      <td>326439</td>\n",
              "    </tr>\n",
              "    <tr>\n",
              "      <td>major</td>\n",
              "      <td>512415</td>\n",
              "      <td>349</td>\n",
              "      <td>Computer Science,</td>\n",
              "      <td>326725</td>\n",
              "    </tr>\n",
              "    <tr>\n",
              "      <td>date_of_result</td>\n",
              "      <td>512415</td>\n",
              "      <td>1337</td>\n",
              "      <td>2018-02-08</td>\n",
              "      <td>4271</td>\n",
              "    </tr>\n",
              "    <tr>\n",
              "      <td>date_added</td>\n",
              "      <td>512415</td>\n",
              "      <td>1345</td>\n",
              "      <td>2018-02-08</td>\n",
              "      <td>3981</td>\n",
              "    </tr>\n",
              "    <tr>\n",
              "      <td>university</td>\n",
              "      <td>512415</td>\n",
              "      <td>1551</td>\n",
              "      <td>Stanford University</td>\n",
              "      <td>10837</td>\n",
              "    </tr>\n",
              "    <tr>\n",
              "      <td>comment</td>\n",
              "      <td>512415</td>\n",
              "      <td>8048</td>\n",
              "      <td>:(</td>\n",
              "      <td>1233</td>\n",
              "    </tr>\n",
              "  </tbody>\n",
              "</table>\n",
              "</div>"
            ],
            "text/plain": [
              "                   count unique                              top    freq\n",
              "degree            512415      2                          Masters  305662\n",
              "season            512415      2                             Fall  503352\n",
              "y_n               512415      2                            False  257143\n",
              "decision          512415      3                         Accepted  255272\n",
              "applicant_status  512415      4  International without US degree  326439\n",
              "major             512415    349                Computer Science,  326725\n",
              "date_of_result    512415   1337                       2018-02-08    4271\n",
              "date_added        512415   1345                       2018-02-08    3981\n",
              "university        512415   1551              Stanford University   10837\n",
              "comment           512415   8048                               :(    1233"
            ]
          },
          "metadata": {
            "tags": []
          },
          "execution_count": 25
        }
      ]
    },
    {
      "cell_type": "code",
      "metadata": {
        "id": "IOFqOT5L5yTV",
        "colab_type": "code",
        "colab": {},
        "outputId": "44b996cd-d83d-4cab-809f-1144a72aea86"
      },
      "source": [
        "train.head()"
      ],
      "execution_count": 0,
      "outputs": [
        {
          "output_type": "execute_result",
          "data": {
            "text/html": [
              "<div>\n",
              "<style scoped>\n",
              "    .dataframe tbody tr th:only-of-type {\n",
              "        vertical-align: middle;\n",
              "    }\n",
              "\n",
              "    .dataframe tbody tr th {\n",
              "        vertical-align: top;\n",
              "    }\n",
              "\n",
              "    .dataframe thead th {\n",
              "        text-align: right;\n",
              "    }\n",
              "</style>\n",
              "<table border=\"1\" class=\"dataframe\">\n",
              "  <thead>\n",
              "    <tr style=\"text-align: right;\">\n",
              "      <th></th>\n",
              "      <th>comment</th>\n",
              "      <th>major</th>\n",
              "      <th>gre_quant</th>\n",
              "      <th>degree</th>\n",
              "      <th>season</th>\n",
              "      <th>decision</th>\n",
              "      <th>gre_verbal</th>\n",
              "      <th>date_of_result</th>\n",
              "      <th>term_year</th>\n",
              "      <th>undergrad_gpa</th>\n",
              "      <th>date_added</th>\n",
              "      <th>applicant_status</th>\n",
              "      <th>university</th>\n",
              "      <th>gre_awa</th>\n",
              "      <th>y_n</th>\n",
              "    </tr>\n",
              "  </thead>\n",
              "  <tbody>\n",
              "    <tr>\n",
              "      <td>1175636</td>\n",
              "      <td>Two master's degrees, one in CS and one in CE....</td>\n",
              "      <td>Computer Science,</td>\n",
              "      <td>165.0</td>\n",
              "      <td>Masters</td>\n",
              "      <td>Fall</td>\n",
              "      <td>Accepted</td>\n",
              "      <td>170.0</td>\n",
              "      <td>2017-05-10</td>\n",
              "      <td>2017</td>\n",
              "      <td>3.40</td>\n",
              "      <td>2017-05-13</td>\n",
              "      <td>American</td>\n",
              "      <td>McGill University</td>\n",
              "      <td>5.5</td>\n",
              "      <td>True</td>\n",
              "    </tr>\n",
              "    <tr>\n",
              "      <td>1624806</td>\n",
              "      <td>still waiting to hear about the joint program ...</td>\n",
              "      <td>(Computer Science,</td>\n",
              "      <td>162.0</td>\n",
              "      <td>PhD</td>\n",
              "      <td>Fall</td>\n",
              "      <td>Accepted</td>\n",
              "      <td>158.0</td>\n",
              "      <td>2017-02-06</td>\n",
              "      <td>2017</td>\n",
              "      <td>3.58</td>\n",
              "      <td>2017-02-07</td>\n",
              "      <td>American</td>\n",
              "      <td>University Of Maryland - College Park (UMD)</td>\n",
              "      <td>4.5</td>\n",
              "      <td>True</td>\n",
              "    </tr>\n",
              "    <tr>\n",
              "      <td>2254057</td>\n",
              "      <td>One research paper co authored, extensive expe...</td>\n",
              "      <td>Computer Science,</td>\n",
              "      <td>167.0</td>\n",
              "      <td>Masters</td>\n",
              "      <td>Fall</td>\n",
              "      <td>Accepted</td>\n",
              "      <td>163.0</td>\n",
              "      <td>2014-02-14</td>\n",
              "      <td>2014</td>\n",
              "      <td>3.88</td>\n",
              "      <td>2014-02-16</td>\n",
              "      <td>American</td>\n",
              "      <td>Brown University</td>\n",
              "      <td>5.0</td>\n",
              "      <td>True</td>\n",
              "    </tr>\n",
              "    <tr>\n",
              "      <td>660047</td>\n",
              "      <td>MCS. CS undergrad. 3+ years work experience. S...</td>\n",
              "      <td>Computer Science,</td>\n",
              "      <td>170.0</td>\n",
              "      <td>Masters</td>\n",
              "      <td>Fall</td>\n",
              "      <td>Accepted</td>\n",
              "      <td>155.0</td>\n",
              "      <td>2019-02-12</td>\n",
              "      <td>2019</td>\n",
              "      <td>3.56</td>\n",
              "      <td>2019-03-07</td>\n",
              "      <td>International without US degree</td>\n",
              "      <td>Arizona State University</td>\n",
              "      <td>3.5</td>\n",
              "      <td>True</td>\n",
              "    </tr>\n",
              "    <tr>\n",
              "      <td>2179477</td>\n",
              "      <td>B.E 67% (MSRIT) , MTech 76% (RVCE), TOEFL 91, ...</td>\n",
              "      <td>Computer Science,</td>\n",
              "      <td>167.0</td>\n",
              "      <td>PhD</td>\n",
              "      <td>Fall</td>\n",
              "      <td>Accepted</td>\n",
              "      <td>151.0</td>\n",
              "      <td>2016-02-26</td>\n",
              "      <td>2016</td>\n",
              "      <td>3.00</td>\n",
              "      <td>2016-03-01</td>\n",
              "      <td>International without US degree</td>\n",
              "      <td>Syracuse University</td>\n",
              "      <td>4.0</td>\n",
              "      <td>True</td>\n",
              "    </tr>\n",
              "  </tbody>\n",
              "</table>\n",
              "</div>"
            ],
            "text/plain": [
              "                                                   comment  \\\n",
              "1175636  Two master's degrees, one in CS and one in CE....   \n",
              "1624806  still waiting to hear about the joint program ...   \n",
              "2254057  One research paper co authored, extensive expe...   \n",
              "660047   MCS. CS undergrad. 3+ years work experience. S...   \n",
              "2179477  B.E 67% (MSRIT) , MTech 76% (RVCE), TOEFL 91, ...   \n",
              "\n",
              "                      major  gre_quant   degree season  decision  gre_verbal  \\\n",
              "1175636   Computer Science,      165.0  Masters   Fall  Accepted       170.0   \n",
              "1624806  (Computer Science,      162.0      PhD   Fall  Accepted       158.0   \n",
              "2254057   Computer Science,      167.0  Masters   Fall  Accepted       163.0   \n",
              "660047    Computer Science,      170.0  Masters   Fall  Accepted       155.0   \n",
              "2179477   Computer Science,      167.0      PhD   Fall  Accepted       151.0   \n",
              "\n",
              "        date_of_result  term_year  undergrad_gpa  date_added  \\\n",
              "1175636     2017-05-10       2017           3.40  2017-05-13   \n",
              "1624806     2017-02-06       2017           3.58  2017-02-07   \n",
              "2254057     2014-02-14       2014           3.88  2014-02-16   \n",
              "660047      2019-02-12       2019           3.56  2019-03-07   \n",
              "2179477     2016-02-26       2016           3.00  2016-03-01   \n",
              "\n",
              "                        applicant_status  \\\n",
              "1175636                         American   \n",
              "1624806                         American   \n",
              "2254057                         American   \n",
              "660047   International without US degree   \n",
              "2179477  International without US degree   \n",
              "\n",
              "                                          university  gre_awa   y_n  \n",
              "1175636                            McGill University      5.5  True  \n",
              "1624806  University Of Maryland - College Park (UMD)      4.5  True  \n",
              "2254057                             Brown University      5.0  True  \n",
              "660047                      Arizona State University      3.5  True  \n",
              "2179477                          Syracuse University      4.0  True  "
            ]
          },
          "metadata": {
            "tags": []
          },
          "execution_count": 28
        }
      ]
    },
    {
      "cell_type": "code",
      "metadata": {
        "id": "IQTfzE6e5yTX",
        "colab_type": "code",
        "colab": {},
        "outputId": "6701a017-870c-425b-ce7b-df9b7eb21bc3"
      },
      "source": [
        "def wrangle(X):\n",
        "# Wrangle train, validate, and test sets\n",
        "    \n",
        "    # Prevent SettingWithCopyWarning (in acordince with lectuere)\n",
        "    X = X.copy()\n",
        "  \n",
        "    X['com_word_cont'] = X['comment'].str.split(\" \").str.len()\n",
        "      # return the wrangled dataframe\n",
        "    return X\n",
        "\n",
        "train = wrangle(train)\n",
        "val = wrangle(val)\n",
        "test = wrangle(test)\n",
        "\n",
        "# creating target and features lsts\n",
        "target = 'y_n'\n",
        "target2 = 'decision'\n",
        "train_features = train.drop(columns=[target, target2])\n",
        "numeric_features = train_features.select_dtypes(include='number').columns.tolist()\n",
        "cardinality = train_features.select_dtypes(exclude='number').nunique()\n",
        "categorical_features = cardinality[cardinality <= 50].index.tolist()\n",
        "features = numeric_features + categorical_features\n",
        "print(features)"
      ],
      "execution_count": 0,
      "outputs": [
        {
          "output_type": "stream",
          "text": [
            "['gre_quant', 'gre_verbal', 'term_year', 'undergrad_gpa', 'gre_awa', 'com_word_cont', 'degree', 'season', 'applicant_status']\n"
          ],
          "name": "stdout"
        }
      ]
    },
    {
      "cell_type": "code",
      "metadata": {
        "id": "TRx0IW_j5yTZ",
        "colab_type": "code",
        "colab": {},
        "outputId": "209142ed-2f9e-4cae-f762-704f5079697f"
      },
      "source": [
        "# creating Train, Validation, and Test vars\n",
        "X_train = train[features]\n",
        "y_train = train[target]\n",
        "X_val = val[features]\n",
        "y_val = val[target]\n",
        "X_test = test[features]\n",
        "y_test = test[target]\n",
        "from sklearn.pipeline import make_pipeline\n",
        "import category_encoders as ce\n",
        "from sklearn.ensemble import RandomForestClassifier\n",
        "from sklearn.impute import SimpleImputer\n",
        "from sklearn.model_selection import cross_val_score\n",
        "pipeline = make_pipeline(\n",
        "    ce.OrdinalEncoder(), \n",
        "    SimpleImputer(strategy='most_frequent'), \n",
        "    RandomForestClassifier(n_estimators=350, random_state=42, n_jobs=3)\n",
        ")\n",
        "\n",
        "# Fit on train, score on val\n",
        "#pipeline.fit(X_train, y_train)\n",
        "pipeline.fit(X_train, y_train)\n",
        "print('Validation Accuracy', pipeline.score(X_val, y_val))"
      ],
      "execution_count": 0,
      "outputs": [
        {
          "output_type": "stream",
          "text": [
            "Validation Accuracy 0.9885093361643664\n"
          ],
          "name": "stdout"
        }
      ]
    },
    {
      "cell_type": "code",
      "metadata": {
        "id": "22d210qx5yTb",
        "colab_type": "code",
        "colab": {},
        "outputId": "c4e88149-5cb9-46c3-bb6b-4c8a633d3735"
      },
      "source": [
        "y_pred = pipeline.predict(X_test)\n",
        "# print('Validation Accuracy', pipeline.score(y_pred, y_test))\n",
        "accuracy_score(y_pred, y_test)"
      ],
      "execution_count": 0,
      "outputs": [
        {
          "output_type": "execute_result",
          "data": {
            "text/plain": [
              "0.9886030100543308"
            ]
          },
          "metadata": {
            "tags": []
          },
          "execution_count": 44
        }
      ]
    },
    {
      "cell_type": "code",
      "metadata": {
        "id": "T7nnrCtk5yTe",
        "colab_type": "code",
        "colab": {}
      },
      "source": [
        "# Somthing not right"
      ],
      "execution_count": 0,
      "outputs": []
    }
  ]
}