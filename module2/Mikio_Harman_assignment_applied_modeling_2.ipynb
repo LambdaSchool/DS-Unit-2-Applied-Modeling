{
  "nbformat": 4,
  "nbformat_minor": 0,
  "metadata": {
    "colab": {
      "name": "Mikio Harman assignment_applied_modeling_2.ipynb",
      "provenance": [],
      "collapsed_sections": [],
      "include_colab_link": true
    },
    "kernelspec": {
      "display_name": "Python 3",
      "language": "python",
      "name": "python3"
    },
    "language_info": {
      "codemirror_mode": {
        "name": "ipython",
        "version": 3
      },
      "file_extension": ".py",
      "mimetype": "text/x-python",
      "name": "python",
      "nbconvert_exporter": "python",
      "pygments_lexer": "ipython3",
      "version": "3.7.3"
    }
  },
  "cells": [
    {
      "cell_type": "markdown",
      "metadata": {
        "id": "view-in-github",
        "colab_type": "text"
      },
      "source": [
        "<a href=\"https://colab.research.google.com/github/mpHarm88/DS-Unit-2-Applied-Modeling/blob/master/module2/Mikio_Harman_assignment_applied_modeling_2.ipynb\" target=\"_parent\"><img src=\"https://colab.research.google.com/assets/colab-badge.svg\" alt=\"Open In Colab\"/></a>"
      ]
    },
    {
      "cell_type": "markdown",
      "metadata": {
        "colab_type": "text",
        "id": "nCc3XZEyG3XV"
      },
      "source": [
        "Lambda School Data Science\n",
        "\n",
        "*Unit 2, Sprint 3, Module 2*\n",
        "\n",
        "---\n",
        "\n",
        "\n",
        "# Permutation & Boosting\n",
        "\n",
        "You will use your portfolio project dataset for all assignments this sprint.\n",
        "\n",
        "## Assignment\n",
        "\n",
        "Complete these tasks for your project, and document your work.\n",
        "\n",
        "- [ ] Plot the distribution of your target. \n",
        "    - Classification problem: Are your classes imbalanced? Then, don't use just accuracy.\n",
        "    - Regression problem: Is your target skewed? If so, let's discuss in Slack.\n",
        "- [ ] Continue to clean and explore your data. Make exploratory visualizations.\n",
        "- [ ] Fit a model. Does it beat your baseline?\n",
        "- [ ] Try xgboost.\n",
        "- [ ] Get your model's permutation importances.\n",
        "\n",
        "You should try to complete an initial model today, because the rest of the week, we're making model interpretation visualizations.\n",
        "\n",
        "\n",
        "## Reading\n",
        "\n",
        "Top recommendations in _**bold italic:**_\n",
        "\n",
        "#### Permutation Importances\n",
        "- _**[Kaggle / Dan Becker: Machine Learning Explainability](https://www.kaggle.com/dansbecker/permutation-importance)**_\n",
        "- [Christoph Molnar: Interpretable Machine Learning](https://christophm.github.io/interpretable-ml-book/feature-importance.html)\n",
        "\n",
        "#### (Default) Feature Importances\n",
        "  - [Ando Saabas: Selecting good features, Part 3, Random Forests](https://blog.datadive.net/selecting-good-features-part-iii-random-forests/)\n",
        "  - [Terence Parr, et al: Beware Default Random Forest Importances](https://explained.ai/rf-importance/index.html)\n",
        "\n",
        "#### Gradient Boosting\n",
        "  - [A Gentle Introduction to the Gradient Boosting Algorithm for Machine Learning](https://machinelearningmastery.com/gentle-introduction-gradient-boosting-algorithm-machine-learning/)\n",
        "  - _**[A Kaggle Master Explains Gradient Boosting](http://blog.kaggle.com/2017/01/23/a-kaggle-master-explains-gradient-boosting/)**_\n",
        "  - [_An Introduction to Statistical Learning_](http://www-bcf.usc.edu/~gareth/ISL/ISLR%20Seventh%20Printing.pdf) Chapter 8\n",
        "  - [Gradient Boosting Explained](http://arogozhnikov.github.io/2016/06/24/gradient_boosting_explained.html)\n",
        "  - _**[Boosting](https://www.youtube.com/watch?v=GM3CDQfQ4sw) (2.5 minute video)**_"
      ]
    },
    {
      "cell_type": "code",
      "metadata": {
        "id": "DruTTYADmAR9",
        "colab_type": "code",
        "colab": {}
      },
      "source": [
        "import numpy as np\n",
        "import pandas as pd\n",
        "import seaborn as sns\n",
        "import category_encoders as ce\n",
        "import matplotlib.pyplot as plt\n",
        "from sklearn.impute import SimpleImputer\n",
        "from sklearn.pipeline import make_pipeline\n",
        "from sklearn.metrics import accuracy_score\n",
        "from sklearn.metrics import confusion_matrix\n",
        "from sklearn.tree import DecisionTreeClassifier\n",
        "from sklearn.preprocessing import StandardScaler\n",
        "from sklearn.metrics import classification_report\n",
        "from sklearn.linear_model import LinearRegression\n",
        "from sklearn.utils.multiclass import unique_labels\n",
        "from sklearn.ensemble import RandomForestClassifier\n",
        "from sklearn.linear_model import LogisticRegression\n",
        "from sklearn.model_selection import train_test_split\n",
        "from sklearn.model_selection import GridSearchCV, RandomizedSearchCV"
      ],
      "execution_count": 0,
      "outputs": []
    },
    {
      "cell_type": "code",
      "metadata": {
        "id": "pYY5EtqdmASI",
        "colab_type": "code",
        "colab": {}
      },
      "source": [
        "df1 = pd.read_csv('../data/PRSA_Data_20130301-20170228/PRSA_Data_Aotizhongxin_20130301-20170228.csv')\n",
        "df2 = pd.read_csv('../data/PRSA_Data_20130301-20170228/PRSA_Data_Changping_20130301-20170228.csv')\n",
        "df3 = pd.read_csv('../data/PRSA_Data_20130301-20170228/PRSA_Data_Dingling_20130301-20170228.csv')\n",
        "df4 = pd.read_csv('../data/PRSA_Data_20130301-20170228/PRSA_Data_Dongsi_20130301-20170228.csv')\n",
        "df5 = pd.read_csv('../data/PRSA_Data_20130301-20170228/PRSA_Data_Guanyuan_20130301-20170228.csv')\n",
        "df6 = pd.read_csv('../data/PRSA_Data_20130301-20170228/PRSA_Data_Gucheng_20130301-20170228.csv')\n",
        "df7 = pd.read_csv('../data/PRSA_Data_20130301-20170228/PRSA_Data_Huairou_20130301-20170228.csv')\n",
        "df8 = pd.read_csv('../data/PRSA_Data_20130301-20170228/PRSA_Data_Nongzhanguan_20130301-20170228.csv')\n",
        "df9 = pd.read_csv('../data/PRSA_Data_20130301-20170228/PRSA_Data_Shunyi_20130301-20170228.csv')\n",
        "df10 = pd.read_csv('../data/PRSA_Data_20130301-20170228/PRSA_Data_Tiantan_20130301-20170228.csv')\n",
        "df11 = pd.read_csv('../data/PRSA_Data_20130301-20170228/PRSA_Data_Wanliu_20130301-20170228.csv')\n",
        "df12 = pd.read_csv('../data/PRSA_Data_20130301-20170228/PRSA_Data_Wanshouxigong_20130301-20170228.csv')"
      ],
      "execution_count": 0,
      "outputs": []
    },
    {
      "cell_type": "code",
      "metadata": {
        "id": "UcdPxXXomASR",
        "colab_type": "code",
        "colab": {},
        "outputId": "0c2a57d7-618b-48f4-fc28-5dd36dc995ef"
      },
      "source": [
        "all_df = [df1,df2,df3,df4,df5,df6,df7,df8,df9,df10,df11,df12] #combine together \n",
        "df_combined = pd.concat(all_df)\n",
        "print('df_combined shape:',df_combined.shape)\n",
        "\n",
        "df_combined = df_combined.fillna(0)              #fillling NaN\n",
        "testing = df_combined[df_combined['year']==2017] #separating train/test\n",
        "training = df_combined[df_combined['year']<2017]\n",
        "print('The training shape before train/val split is:',training.shape)\n",
        "\n",
        "train, val = train_test_split(training,          #split train/val\n",
        "                              test_size=0.20,\n",
        "                             random_state=42)\n",
        "print('Train shape:',train.shape)\n",
        "print('Val shape:',val.shape)\n",
        "print('Test shape:',testing.shape)\n",
        "\n",
        "target = 'CO'\n",
        "X_train = train.drop(columns=target)\n",
        "y_train = train[target]\n",
        "\n",
        "X_val = val.drop(columns=target)\n",
        "y_val = val[target]\n",
        "\n",
        "X_test = testing.drop(columns=target)\n",
        "y_test = testing[target]\n",
        "\n",
        "X_train_CV = training.drop(columns=target)\n",
        "y_train_CV = training[target]"
      ],
      "execution_count": 0,
      "outputs": [
        {
          "output_type": "stream",
          "text": [
            "df_combined shape: (420768, 18)\n",
            "The training shape before train/val split is: (403776, 18)\n",
            "Train shape: (323020, 18)\n",
            "Val shape: (80756, 18)\n",
            "Test shape: (16992, 18)\n"
          ],
          "name": "stdout"
        }
      ]
    },
    {
      "cell_type": "code",
      "metadata": {
        "id": "7m3csJqcmASa",
        "colab_type": "code",
        "colab": {},
        "outputId": "75b0e0bc-c976-4e83-b187-21027d3dea73"
      },
      "source": [
        "from sklearn.ensemble import RandomForestRegressor\n",
        "\n",
        "pipe = make_pipeline(\n",
        "    ce.OrdinalEncoder(),\n",
        "    SimpleImputer(),\n",
        "    RandomForestRegressor(n_estimators=100, n_jobs=-1)\n",
        ")\n",
        "pipe.fit(X_train, y_train)\n",
        "y_pred = pipe.predict(X_val)\n",
        "pipe.score(X_val,y_val)"
      ],
      "execution_count": 0,
      "outputs": [
        {
          "output_type": "execute_result",
          "data": {
            "text/plain": [
              "0.8952379532485081"
            ]
          },
          "metadata": {
            "tags": []
          },
          "execution_count": 16
        }
      ]
    },
    {
      "cell_type": "code",
      "metadata": {
        "id": "7iDazZZWmASg",
        "colab_type": "code",
        "colab": {},
        "outputId": "49748f2e-6559-4cad-d0c8-53a10b7f59aa"
      },
      "source": [
        "rf = pipe.named_steps['randomforestregressor']\n",
        "\n",
        "importances = pd.Series(rf.feature_importances_, X_train.columns)\n",
        "\n",
        "%matplotlib inline\n",
        "import matplotlib.pyplot as plt\n",
        "\n",
        "n = 20\n",
        "plt.figure(figsize=(10, n/2))\n",
        "plt.title('Top 20 Features')\n",
        "importances.sort_values()[-n:].plot.barh(color='grey');"
      ],
      "execution_count": 0,
      "outputs": [
        {
          "output_type": "display_data",
          "data": {
            "image/png": "[encoded data removed]",
            "text/plain": [
              "<Figure size 720x720 with 1 Axes>"
            ]
          },
          "metadata": {
            "tags": [],
            "needs_background": "light"
          }
        }
      ]
    },
    {
      "cell_type": "code",
      "metadata": {
        "id": "sxeyGlW1mASn",
        "colab_type": "code",
        "colab": {}
      },
      "source": [
        "# BEFORE: Sequence of the feature to be permuted\n",
        "feature = 'PM2.5'"
      ],
      "execution_count": 0,
      "outputs": []
    },
    {
      "cell_type": "code",
      "metadata": {
        "id": "365V6lBPmASu",
        "colab_type": "code",
        "colab": {}
      },
      "source": [
        "# BEFORE: Distribution of the feature to be permuted"
      ],
      "execution_count": 0,
      "outputs": []
    },
    {
      "cell_type": "code",
      "metadata": {
        "id": "pj5Xrve-mAS0",
        "colab_type": "code",
        "colab": {}
      },
      "source": [
        "# PERMUTE\n",
        "X_val_permuted = X_val.copy()\n",
        "X_val_permuted[feature] = np.random.permutation(X_val[feature])"
      ],
      "execution_count": 0,
      "outputs": []
    },
    {
      "cell_type": "code",
      "metadata": {
        "id": "ok7rYKosmAS7",
        "colab_type": "code",
        "colab": {},
        "outputId": "170beb05-d7ca-4c88-a20c-2c23845c4a4d"
      },
      "source": [
        "#AFTER: Sequence has changed\n",
        "X_val_permuted[feature].head()"
      ],
      "execution_count": 0,
      "outputs": [
        {
          "output_type": "execute_result",
          "data": {
            "text/plain": [
              "27465     27.0\n",
              "25917     12.0\n",
              "18989    362.0\n",
              "12019    254.0\n",
              "27926     24.0\n",
              "Name: PM2.5, dtype: float64"
            ]
          },
          "metadata": {
            "tags": []
          },
          "execution_count": 23
        }
      ]
    },
    {
      "cell_type": "code",
      "metadata": {
        "id": "XNe2mUwamATD",
        "colab_type": "code",
        "colab": {},
        "outputId": "6857f4e7-d3e7-470e-9031-07f16f96ca11"
      },
      "source": [
        "score_permuted = pipe.score(X_val_permuted, y_val)\n",
        "print('Score ater permutation of PM2.5:',score_permuted)"
      ],
      "execution_count": 0,
      "outputs": [
        {
          "output_type": "stream",
          "text": [
            "Score ater permutation of PM2.5: 0.5181277936437765\n"
          ],
          "name": "stdout"
        }
      ]
    },
    {
      "cell_type": "code",
      "metadata": {
        "id": "IW34pojomATK",
        "colab_type": "code",
        "colab": {},
        "outputId": "296fad41-226a-40d0-ea95-8a210e04899a"
      },
      "source": [
        "#ELI5\n",
        "\n",
        "transformers = make_pipeline(\n",
        "    ce.OrdinalEncoder(),\n",
        "    SimpleImputer(strategy='median'),   \n",
        ")\n",
        "\n",
        "X_train_transformed = transformers.fit_transform(X_train)\n",
        "X_val_transformed = transformers.transform(X_val)\n",
        "\n",
        "model = RandomForestRegressor(n_estimators=100, random_state=42, n_jobs=-1)\n",
        "model.fit(X_train_transformed, y_train)"
      ],
      "execution_count": 0,
      "outputs": [
        {
          "output_type": "execute_result",
          "data": {
            "text/plain": [
              "RandomForestRegressor(bootstrap=True, criterion='mse', max_depth=None,\n",
              "                      max_features='auto', max_leaf_nodes=None,\n",
              "                      min_impurity_decrease=0.0, min_impurity_split=None,\n",
              "                      min_samples_leaf=1, min_samples_split=2,\n",
              "                      min_weight_fraction_leaf=0.0, n_estimators=100, n_jobs=-1,\n",
              "                      oob_score=False, random_state=42, verbose=0,\n",
              "                      warm_start=False)"
            ]
          },
          "metadata": {
            "tags": []
          },
          "execution_count": 30
        }
      ]
    },
    {
      "cell_type": "code",
      "metadata": {
        "id": "9fwE7tY2mATR",
        "colab_type": "code",
        "colab": {}
      },
      "source": [
        "import eli5\n",
        "from eli5.sklearn import PermutationImportance\n",
        "\n",
        "permuter = PermutationImportance(\n",
        "    model, \n",
        "    scoring='r2',\n",
        "    n_iter=2,\n",
        "    random_state=42\n",
        ")\n",
        "\n",
        "permuter.fit(X_val_transformed, y_val);"
      ],
      "execution_count": 0,
      "outputs": []
    },
    {
      "cell_type": "code",
      "metadata": {
        "id": "zndYG7rvmATV",
        "colab_type": "code",
        "colab": {},
        "outputId": "e8dd4d29-8bb5-43da-f033-dc3e50a69373"
      },
      "source": [
        "feature_names = X_val.columns.tolist()\n",
        "pd.Series(permuter.feature_importances_, feature_names).sort_values(ascending=False)"
      ],
      "execution_count": 0,
      "outputs": [
        {
          "output_type": "execute_result",
          "data": {
            "text/plain": [
              "PM2.5      0.373068\n",
              "NO2        0.205379\n",
              "TEMP       0.200611\n",
              "PM10       0.148588\n",
              "No         0.104653\n",
              "SO2        0.090576\n",
              "DEWP       0.064990\n",
              "O3         0.044547\n",
              "month      0.043832\n",
              "PRES       0.036722\n",
              "day        0.032523\n",
              "hour       0.028875\n",
              "station    0.024199\n",
              "WSPM       0.002000\n",
              "RAIN       0.001483\n",
              "year       0.000911\n",
              "wd         0.000679\n",
              "dtype: float64"
            ]
          },
          "metadata": {
            "tags": []
          },
          "execution_count": 34
        }
      ]
    },
    {
      "cell_type": "code",
      "metadata": {
        "id": "uN-vfEIfmATa",
        "colab_type": "code",
        "colab": {},
        "outputId": "c5b9238c-fb31-485d-a610-20c0ed75469d"
      },
      "source": [
        "eli5.show_weights(\n",
        "    permuter,\n",
        "    top=None, \n",
        "    feature_names=feature_names\n",
        ")"
      ],
      "execution_count": 0,
      "outputs": [
        {
          "output_type": "execute_result",
          "data": {
            "text/html": [
              "\n",
              "    <style>\n",
              "    table.eli5-weights tr:hover {\n",
              "        filter: brightness(85%);\n",
              "    }\n",
              "</style>\n",
              "\n",
              "\n",
              "\n",
              "    \n",
              "\n",
              "    \n",
              "\n",
              "    \n",
              "\n",
              "    \n",
              "\n",
              "    \n",
              "\n",
              "    \n",
              "\n",
              "\n",
              "    \n",
              "\n",
              "    \n",
              "\n",
              "    \n",
              "\n",
              "    \n",
              "\n",
              "    \n",
              "\n",
              "    \n",
              "\n",
              "\n",
              "    \n",
              "\n",
              "    \n",
              "\n",
              "    \n",
              "\n",
              "    \n",
              "\n",
              "    \n",
              "        <table class=\"eli5-weights eli5-feature-importances\" style=\"border-collapse: collapse; border: none; margin-top: 0em; table-layout: auto;\">\n",
              "    <thead>\n",
              "    <tr style=\"border: none;\">\n",
              "        <th style=\"padding: 0 1em 0 0.5em; text-align: right; border: none;\">Weight</th>\n",
              "        <th style=\"padding: 0 0.5em 0 0.5em; text-align: left; border: none;\">Feature</th>\n",
              "    </tr>\n",
              "    </thead>\n",
              "    <tbody>\n",
              "    \n",
              "        <tr style=\"background-color: hsl(120, 100.00%, 80.00%); border: none;\">\n",
              "            <td style=\"padding: 0 1em 0 0.5em; text-align: right; border: none;\">\n",
              "                0.3731\n",
              "                \n",
              "                    &plusmn; 0.0071\n",
              "                \n",
              "            </td>\n",
              "            <td style=\"padding: 0 0.5em 0 0.5em; text-align: left; border: none;\">\n",
              "                PM2.5\n",
              "            </td>\n",
              "        </tr>\n",
              "    \n",
              "        <tr style=\"background-color: hsl(120, 100.00%, 86.83%); border: none;\">\n",
              "            <td style=\"padding: 0 1em 0 0.5em; text-align: right; border: none;\">\n",
              "                0.2054\n",
              "                \n",
              "                    &plusmn; 0.0045\n",
              "                \n",
              "            </td>\n",
              "            <td style=\"padding: 0 0.5em 0 0.5em; text-align: left; border: none;\">\n",
              "                NO2\n",
              "            </td>\n",
              "        </tr>\n",
              "    \n",
              "        <tr style=\"background-color: hsl(120, 100.00%, 87.05%); border: none;\">\n",
              "            <td style=\"padding: 0 1em 0 0.5em; text-align: right; border: none;\">\n",
              "                0.2006\n",
              "                \n",
              "                    &plusmn; 0.0084\n",
              "                \n",
              "            </td>\n",
              "            <td style=\"padding: 0 0.5em 0 0.5em; text-align: left; border: none;\">\n",
              "                TEMP\n",
              "            </td>\n",
              "        </tr>\n",
              "    \n",
              "        <tr style=\"background-color: hsl(120, 100.00%, 89.50%); border: none;\">\n",
              "            <td style=\"padding: 0 1em 0 0.5em; text-align: right; border: none;\">\n",
              "                0.1486\n",
              "                \n",
              "                    &plusmn; 0.0007\n",
              "                \n",
              "            </td>\n",
              "            <td style=\"padding: 0 0.5em 0 0.5em; text-align: left; border: none;\">\n",
              "                PM10\n",
              "            </td>\n",
              "        </tr>\n",
              "    \n",
              "        <tr style=\"background-color: hsl(120, 100.00%, 91.79%); border: none;\">\n",
              "            <td style=\"padding: 0 1em 0 0.5em; text-align: right; border: none;\">\n",
              "                0.1047\n",
              "                \n",
              "                    &plusmn; 0.0014\n",
              "                \n",
              "            </td>\n",
              "            <td style=\"padding: 0 0.5em 0 0.5em; text-align: left; border: none;\">\n",
              "                No\n",
              "            </td>\n",
              "        </tr>\n",
              "    \n",
              "        <tr style=\"background-color: hsl(120, 100.00%, 92.58%); border: none;\">\n",
              "            <td style=\"padding: 0 1em 0 0.5em; text-align: right; border: none;\">\n",
              "                0.0906\n",
              "                \n",
              "                    &plusmn; 0.0005\n",
              "                \n",
              "            </td>\n",
              "            <td style=\"padding: 0 0.5em 0 0.5em; text-align: left; border: none;\">\n",
              "                SO2\n",
              "            </td>\n",
              "        </tr>\n",
              "    \n",
              "        <tr style=\"background-color: hsl(120, 100.00%, 94.11%); border: none;\">\n",
              "            <td style=\"padding: 0 1em 0 0.5em; text-align: right; border: none;\">\n",
              "                0.0650\n",
              "                \n",
              "                    &plusmn; 0.0014\n",
              "                \n",
              "            </td>\n",
              "            <td style=\"padding: 0 0.5em 0 0.5em; text-align: left; border: none;\">\n",
              "                DEWP\n",
              "            </td>\n",
              "        </tr>\n",
              "    \n",
              "        <tr style=\"background-color: hsl(120, 100.00%, 95.48%); border: none;\">\n",
              "            <td style=\"padding: 0 1em 0 0.5em; text-align: right; border: none;\">\n",
              "                0.0445\n",
              "                \n",
              "                    &plusmn; 0.0010\n",
              "                \n",
              "            </td>\n",
              "            <td style=\"padding: 0 0.5em 0 0.5em; text-align: left; border: none;\">\n",
              "                O3\n",
              "            </td>\n",
              "        </tr>\n",
              "    \n",
              "        <tr style=\"background-color: hsl(120, 100.00%, 95.53%); border: none;\">\n",
              "            <td style=\"padding: 0 1em 0 0.5em; text-align: right; border: none;\">\n",
              "                0.0438\n",
              "                \n",
              "                    &plusmn; 0.0017\n",
              "                \n",
              "            </td>\n",
              "            <td style=\"padding: 0 0.5em 0 0.5em; text-align: left; border: none;\">\n",
              "                month\n",
              "            </td>\n",
              "        </tr>\n",
              "    \n",
              "        <tr style=\"background-color: hsl(120, 100.00%, 96.05%); border: none;\">\n",
              "            <td style=\"padding: 0 1em 0 0.5em; text-align: right; border: none;\">\n",
              "                0.0367\n",
              "                \n",
              "                    &plusmn; 0.0020\n",
              "                \n",
              "            </td>\n",
              "            <td style=\"padding: 0 0.5em 0 0.5em; text-align: left; border: none;\">\n",
              "                PRES\n",
              "            </td>\n",
              "        </tr>\n",
              "    \n",
              "        <tr style=\"background-color: hsl(120, 100.00%, 96.37%); border: none;\">\n",
              "            <td style=\"padding: 0 1em 0 0.5em; text-align: right; border: none;\">\n",
              "                0.0325\n",
              "                \n",
              "                    &plusmn; 0.0006\n",
              "                \n",
              "            </td>\n",
              "            <td style=\"padding: 0 0.5em 0 0.5em; text-align: left; border: none;\">\n",
              "                day\n",
              "            </td>\n",
              "        </tr>\n",
              "    \n",
              "        <tr style=\"background-color: hsl(120, 100.00%, 96.66%); border: none;\">\n",
              "            <td style=\"padding: 0 1em 0 0.5em; text-align: right; border: none;\">\n",
              "                0.0289\n",
              "                \n",
              "                    &plusmn; 0.0011\n",
              "                \n",
              "            </td>\n",
              "            <td style=\"padding: 0 0.5em 0 0.5em; text-align: left; border: none;\">\n",
              "                hour\n",
              "            </td>\n",
              "        </tr>\n",
              "    \n",
              "        <tr style=\"background-color: hsl(120, 100.00%, 97.05%); border: none;\">\n",
              "            <td style=\"padding: 0 1em 0 0.5em; text-align: right; border: none;\">\n",
              "                0.0242\n",
              "                \n",
              "                    &plusmn; 0.0004\n",
              "                \n",
              "            </td>\n",
              "            <td style=\"padding: 0 0.5em 0 0.5em; text-align: left; border: none;\">\n",
              "                station\n",
              "            </td>\n",
              "        </tr>\n",
              "    \n",
              "        <tr style=\"background-color: hsl(120, 100.00%, 99.49%); border: none;\">\n",
              "            <td style=\"padding: 0 1em 0 0.5em; text-align: right; border: none;\">\n",
              "                0.0020\n",
              "                \n",
              "                    &plusmn; 0.0001\n",
              "                \n",
              "            </td>\n",
              "            <td style=\"padding: 0 0.5em 0 0.5em; text-align: left; border: none;\">\n",
              "                WSPM\n",
              "            </td>\n",
              "        </tr>\n",
              "    \n",
              "        <tr style=\"background-color: hsl(120, 100.00%, 99.58%); border: none;\">\n",
              "            <td style=\"padding: 0 1em 0 0.5em; text-align: right; border: none;\">\n",
              "                0.0015\n",
              "                \n",
              "                    &plusmn; 0.0001\n",
              "                \n",
              "            </td>\n",
              "            <td style=\"padding: 0 0.5em 0 0.5em; text-align: left; border: none;\">\n",
              "                RAIN\n",
              "            </td>\n",
              "        </tr>\n",
              "    \n",
              "        <tr style=\"background-color: hsl(120, 100.00%, 99.70%); border: none;\">\n",
              "            <td style=\"padding: 0 1em 0 0.5em; text-align: right; border: none;\">\n",
              "                0.0009\n",
              "                \n",
              "                    &plusmn; 0.0000\n",
              "                \n",
              "            </td>\n",
              "            <td style=\"padding: 0 0.5em 0 0.5em; text-align: left; border: none;\">\n",
              "                year\n",
              "            </td>\n",
              "        </tr>\n",
              "    \n",
              "        <tr style=\"background-color: hsl(120, 100.00%, 99.76%); border: none;\">\n",
              "            <td style=\"padding: 0 1em 0 0.5em; text-align: right; border: none;\">\n",
              "                0.0007\n",
              "                \n",
              "                    &plusmn; 0.0001\n",
              "                \n",
              "            </td>\n",
              "            <td style=\"padding: 0 0.5em 0 0.5em; text-align: left; border: none;\">\n",
              "                wd\n",
              "            </td>\n",
              "        </tr>\n",
              "    \n",
              "    \n",
              "    </tbody>\n",
              "</table>\n",
              "    \n",
              "\n",
              "    \n",
              "\n",
              "\n",
              "    \n",
              "\n",
              "    \n",
              "\n",
              "    \n",
              "\n",
              "    \n",
              "\n",
              "    \n",
              "\n",
              "    \n",
              "\n",
              "\n",
              "\n"
            ],
            "text/plain": [
              "<IPython.core.display.HTML object>"
            ]
          },
          "metadata": {
            "tags": []
          },
          "execution_count": 36
        }
      ]
    },
    {
      "cell_type": "code",
      "metadata": {
        "id": "-AEN4QqYmATe",
        "colab_type": "code",
        "colab": {}
      },
      "source": [
        "min_importance = .001\n",
        "mask = permuter.feature_importances_ > min_importance\n",
        "features = X_train.columns[mask]\n",
        "X_train = X_train[features]"
      ],
      "execution_count": 0,
      "outputs": []
    },
    {
      "cell_type": "code",
      "metadata": {
        "id": "DfTWAy8BmATj",
        "colab_type": "code",
        "colab": {},
        "outputId": "7c36b4ca-98a3-4f1e-cc73-d326a41b84b8"
      },
      "source": [
        "X_val = X_val[features]\n",
        "\n",
        "pipe = make_pipeline(\n",
        "    ce.OrdinalEncoder(),\n",
        "    SimpleImputer(),\n",
        "    RandomForestRegressor(n_estimators=100, n_jobs=-1)\n",
        ")\n",
        "pipe.fit(X_train, y_train)\n",
        "y_pred = pipe.predict(X_val)\n",
        "pipe.score(X_val,y_val)"
      ],
      "execution_count": 0,
      "outputs": [
        {
          "output_type": "execute_result",
          "data": {
            "text/plain": [
              "0.8961011955938712"
            ]
          },
          "metadata": {
            "tags": []
          },
          "execution_count": 43
        }
      ]
    },
    {
      "cell_type": "code",
      "metadata": {
        "id": "YDscOUUImATn",
        "colab_type": "code",
        "colab": {}
      },
      "source": [
        "#XG Boost\n",
        "\n",
        "from xgboost import XGBRegressor\n",
        "from xgboost import XGBClassifier"
      ],
      "execution_count": 0,
      "outputs": []
    },
    {
      "cell_type": "code",
      "metadata": {
        "id": "5nAD5csnmATt",
        "colab_type": "code",
        "colab": {},
        "outputId": "6f0f410e-0d37-49b9-a30e-27c9f4eb8b64"
      },
      "source": [
        "pipeline = make_pipeline(\n",
        "    ce.OrdinalEncoder(),\n",
        "    XGBRegressor(n_estimators=100, n_jobs=-1, random_state=42)\n",
        ")\n",
        "\n",
        "pipeline.fit(X_train, y_train)"
      ],
      "execution_count": 0,
      "outputs": [
        {
          "output_type": "stream",
          "text": [
            "[10:37:33] WARNING: /usr/local/miniconda/conda-bld/xgboost_1566327371504/work/src/objective/regression_obj.cu:152: reg:linear is now deprecated in favor of reg:squarederror.\n"
          ],
          "name": "stdout"
        },
        {
          "output_type": "execute_result",
          "data": {
            "text/plain": [
              "Pipeline(memory=None,\n",
              "         steps=[('ordinalencoder',\n",
              "                 OrdinalEncoder(cols=['station'], drop_invariant=False,\n",
              "                                handle_missing='value', handle_unknown='value',\n",
              "                                mapping=[{'col': 'station',\n",
              "                                          'data_type': dtype('O'),\n",
              "                                          'mapping': Dongsi            1\n",
              "Wanshouxigong     2\n",
              "Huairou           3\n",
              "Changping         4\n",
              "Nongzhanguan      5\n",
              "Dingling          6\n",
              "Aotizhongxin      7\n",
              "Gucheng           8\n",
              "Shunyi            9\n",
              "Tiantan          10\n",
              "Guanyuan         11\n",
              "Wanliu           12\n",
              "NaN              -2\n",
              "dtype: int64}],\n",
              "                                return_df=T...\n",
              "                              colsample_bylevel=1, colsample_bynode=1,\n",
              "                              colsample_bytree=1, gamma=0,\n",
              "                              importance_type='gain', learning_rate=0.1,\n",
              "                              max_delta_step=0, max_depth=3, min_child_weight=1,\n",
              "                              missing=None, n_estimators=100, n_jobs=-1,\n",
              "                              nthread=None, objective='reg:linear',\n",
              "                              random_state=42, reg_alpha=0, reg_lambda=1,\n",
              "                              scale_pos_weight=1, seed=None, silent=None,\n",
              "                              subsample=1, verbosity=1))],\n",
              "         verbose=False)"
            ]
          },
          "metadata": {
            "tags": []
          },
          "execution_count": 48
        }
      ]
    },
    {
      "cell_type": "code",
      "metadata": {
        "id": "Z9DfnFw-mATy",
        "colab_type": "code",
        "colab": {},
        "outputId": "a991ed91-4aa5-4808-e362-0b532f9e23fa"
      },
      "source": [
        "from sklearn.metrics import r2_score\n",
        "y_pred= pipeline.predict(X_val)\n",
        "r2_score(y_val, y_pred)"
      ],
      "execution_count": 0,
      "outputs": [
        {
          "output_type": "execute_result",
          "data": {
            "text/plain": [
              "0.7824670565416156"
            ]
          },
          "metadata": {
            "tags": []
          },
          "execution_count": 50
        }
      ]
    },
    {
      "cell_type": "code",
      "metadata": {
        "id": "ZtgKi4IwmAT4",
        "colab_type": "code",
        "colab": {},
        "outputId": "afb39c7b-db37-4614-dd33-84a184afcfaf"
      },
      "source": [
        "encoder = ce.OrdinalEncoder()\n",
        "X_train_encoded = encoder.fit_transform(X_train)\n",
        "X_val_encoded = encoder.transform(X_val)\n",
        "\n",
        "X_train.shape, X_val.shape, X_train_encoded.shape, X_val_encoded.shape"
      ],
      "execution_count": 0,
      "outputs": [
        {
          "output_type": "execute_result",
          "data": {
            "text/plain": [
              "((323020, 15), (80756, 15), (323020, 15), (80756, 15))"
            ]
          },
          "metadata": {
            "tags": []
          },
          "execution_count": 51
        }
      ]
    },
    {
      "cell_type": "code",
      "metadata": {
        "id": "GWqnFOu6mAT-",
        "colab_type": "code",
        "colab": {},
        "outputId": "d2e78453-4c91-4a35-f5f3-e1c6dd41dcf2"
      },
      "source": [
        "eval_set = [(X_train_encoded, y_train),\n",
        "           (X_val_encoded, y_val)]\n",
        "\n",
        "model = XGBRegressor(\n",
        "    n_estimators=100,\n",
        "    max_depth=7,\n",
        "    learning_rate=0.1,\n",
        "    )\n",
        "\n",
        "model.fit(X_train_encoded, y_train, eval_set=eval_set,\n",
        "          #scoring by root mean squared error\n",
        "          early_stopping_rounds=50) #stopping after 50 rounds of no improvement to val score\n",
        "\n"
      ],
      "execution_count": 0,
      "outputs": [
        {
          "output_type": "stream",
          "text": [
            "[10:51:10] WARNING: /usr/local/miniconda/conda-bld/xgboost_1566327371504/work/src/objective/regression_obj.cu:152: reg:linear is now deprecated in favor of reg:squarederror.\n",
            "[0]\tvalidation_0-rmse:1471.62\tvalidation_1-rmse:1475.85\n",
            "Multiple eval metrics have been passed: 'validation_1-rmse' will be used for early stopping.\n",
            "\n",
            "Will train until validation_1-rmse hasn't improved in 50 rounds.\n",
            "[1]\tvalidation_0-rmse:1347.29\tvalidation_1-rmse:1351.53\n",
            "[2]\tvalidation_0-rmse:1236.47\tvalidation_1-rmse:1241.42\n",
            "[3]\tvalidation_0-rmse:1138.73\tvalidation_1-rmse:1144.09\n",
            "[4]\tvalidation_0-rmse:1052.12\tvalidation_1-rmse:1058.04\n",
            "[5]\tvalidation_0-rmse:975.581\tvalidation_1-rmse:982.011\n",
            "[6]\tvalidation_0-rmse:908.057\tvalidation_1-rmse:915.107\n",
            "[7]\tvalidation_0-rmse:849.358\tvalidation_1-rmse:856.945\n",
            "[8]\tvalidation_0-rmse:797.862\tvalidation_1-rmse:806.049\n",
            "[9]\tvalidation_0-rmse:752.887\tvalidation_1-rmse:761.835\n",
            "[10]\tvalidation_0-rmse:713.889\tvalidation_1-rmse:723.482\n",
            "[11]\tvalidation_0-rmse:679.475\tvalidation_1-rmse:689.747\n",
            "[12]\tvalidation_0-rmse:650.381\tvalidation_1-rmse:661.196\n",
            "[13]\tvalidation_0-rmse:625.573\tvalidation_1-rmse:636.78\n",
            "[14]\tvalidation_0-rmse:603.29\tvalidation_1-rmse:615.156\n",
            "[15]\tvalidation_0-rmse:584.722\tvalidation_1-rmse:597.133\n",
            "[16]\tvalidation_0-rmse:568.393\tvalidation_1-rmse:581.365\n",
            "[17]\tvalidation_0-rmse:554.208\tvalidation_1-rmse:567.786\n",
            "[18]\tvalidation_0-rmse:541.744\tvalidation_1-rmse:555.904\n",
            "[19]\tvalidation_0-rmse:531.025\tvalidation_1-rmse:545.555\n",
            "[20]\tvalidation_0-rmse:520.314\tvalidation_1-rmse:534.992\n",
            "[21]\tvalidation_0-rmse:512.038\tvalidation_1-rmse:527.257\n",
            "[22]\tvalidation_0-rmse:504.724\tvalidation_1-rmse:520.63\n",
            "[23]\tvalidation_0-rmse:497.423\tvalidation_1-rmse:513.33\n",
            "[24]\tvalidation_0-rmse:491.971\tvalidation_1-rmse:508.562\n",
            "[25]\tvalidation_0-rmse:485.659\tvalidation_1-rmse:502.288\n",
            "[26]\tvalidation_0-rmse:480.827\tvalidation_1-rmse:497.878\n",
            "[27]\tvalidation_0-rmse:476.917\tvalidation_1-rmse:494.417\n",
            "[28]\tvalidation_0-rmse:473.459\tvalidation_1-rmse:491.164\n",
            "[29]\tvalidation_0-rmse:469.695\tvalidation_1-rmse:487.988\n",
            "[30]\tvalidation_0-rmse:466.656\tvalidation_1-rmse:485.399\n",
            "[31]\tvalidation_0-rmse:463.35\tvalidation_1-rmse:482.196\n",
            "[32]\tvalidation_0-rmse:460.807\tvalidation_1-rmse:479.899\n",
            "[33]\tvalidation_0-rmse:458.274\tvalidation_1-rmse:477.818\n",
            "[34]\tvalidation_0-rmse:454.197\tvalidation_1-rmse:474.029\n",
            "[35]\tvalidation_0-rmse:451.587\tvalidation_1-rmse:471.709\n",
            "[36]\tvalidation_0-rmse:448.888\tvalidation_1-rmse:469.111\n",
            "[37]\tvalidation_0-rmse:446.518\tvalidation_1-rmse:467.105\n",
            "[38]\tvalidation_0-rmse:444.725\tvalidation_1-rmse:465.477\n",
            "[39]\tvalidation_0-rmse:442.658\tvalidation_1-rmse:463.666\n",
            "[40]\tvalidation_0-rmse:440.648\tvalidation_1-rmse:462.288\n",
            "[41]\tvalidation_0-rmse:438.949\tvalidation_1-rmse:460.869\n",
            "[42]\tvalidation_0-rmse:436.514\tvalidation_1-rmse:459.05\n",
            "[43]\tvalidation_0-rmse:434.966\tvalidation_1-rmse:457.835\n",
            "[44]\tvalidation_0-rmse:433.412\tvalidation_1-rmse:456.461\n",
            "[45]\tvalidation_0-rmse:432.267\tvalidation_1-rmse:455.572\n",
            "[46]\tvalidation_0-rmse:430.494\tvalidation_1-rmse:454.183\n",
            "[47]\tvalidation_0-rmse:428.458\tvalidation_1-rmse:452.34\n",
            "[48]\tvalidation_0-rmse:427.273\tvalidation_1-rmse:451.454\n",
            "[49]\tvalidation_0-rmse:426.167\tvalidation_1-rmse:450.766\n",
            "[50]\tvalidation_0-rmse:423.458\tvalidation_1-rmse:448.407\n",
            "[51]\tvalidation_0-rmse:421.634\tvalidation_1-rmse:446.874\n",
            "[52]\tvalidation_0-rmse:419.496\tvalidation_1-rmse:444.928\n",
            "[53]\tvalidation_0-rmse:418.557\tvalidation_1-rmse:444.221\n",
            "[54]\tvalidation_0-rmse:417.156\tvalidation_1-rmse:443.33\n",
            "[55]\tvalidation_0-rmse:415.98\tvalidation_1-rmse:442.281\n",
            "[56]\tvalidation_0-rmse:414.601\tvalidation_1-rmse:441.13\n",
            "[57]\tvalidation_0-rmse:413.932\tvalidation_1-rmse:440.745\n",
            "[58]\tvalidation_0-rmse:412.621\tvalidation_1-rmse:439.88\n",
            "[59]\tvalidation_0-rmse:411.098\tvalidation_1-rmse:438.868\n",
            "[60]\tvalidation_0-rmse:410.164\tvalidation_1-rmse:438.091\n",
            "[61]\tvalidation_0-rmse:409.179\tvalidation_1-rmse:437.389\n",
            "[62]\tvalidation_0-rmse:407.786\tvalidation_1-rmse:436.215\n",
            "[63]\tvalidation_0-rmse:405.739\tvalidation_1-rmse:434.516\n",
            "[64]\tvalidation_0-rmse:404.925\tvalidation_1-rmse:433.937\n",
            "[65]\tvalidation_0-rmse:403.854\tvalidation_1-rmse:433.314\n",
            "[66]\tvalidation_0-rmse:401.877\tvalidation_1-rmse:431.48\n",
            "[67]\tvalidation_0-rmse:401.328\tvalidation_1-rmse:431.007\n",
            "[68]\tvalidation_0-rmse:400.014\tvalidation_1-rmse:430.069\n",
            "[69]\tvalidation_0-rmse:399.091\tvalidation_1-rmse:429.223\n",
            "[70]\tvalidation_0-rmse:396.98\tvalidation_1-rmse:427.658\n",
            "[71]\tvalidation_0-rmse:396.164\tvalidation_1-rmse:427.256\n",
            "[72]\tvalidation_0-rmse:394.697\tvalidation_1-rmse:425.653\n",
            "[73]\tvalidation_0-rmse:394.216\tvalidation_1-rmse:425.324\n",
            "[74]\tvalidation_0-rmse:393.603\tvalidation_1-rmse:424.839\n",
            "[75]\tvalidation_0-rmse:392.692\tvalidation_1-rmse:424.119\n",
            "[76]\tvalidation_0-rmse:391.852\tvalidation_1-rmse:423.713\n",
            "[77]\tvalidation_0-rmse:391.204\tvalidation_1-rmse:423.037\n",
            "[78]\tvalidation_0-rmse:389.844\tvalidation_1-rmse:421.958\n",
            "[79]\tvalidation_0-rmse:389.049\tvalidation_1-rmse:421.364\n",
            "[80]\tvalidation_0-rmse:388.524\tvalidation_1-rmse:420.93\n",
            "[81]\tvalidation_0-rmse:387.708\tvalidation_1-rmse:420.259\n",
            "[82]\tvalidation_0-rmse:387.194\tvalidation_1-rmse:419.902\n",
            "[83]\tvalidation_0-rmse:385.985\tvalidation_1-rmse:418.862\n",
            "[84]\tvalidation_0-rmse:385.328\tvalidation_1-rmse:418.398\n",
            "[85]\tvalidation_0-rmse:384.897\tvalidation_1-rmse:418.026\n",
            "[86]\tvalidation_0-rmse:384.115\tvalidation_1-rmse:417.384\n",
            "[87]\tvalidation_0-rmse:383.486\tvalidation_1-rmse:416.906\n",
            "[88]\tvalidation_0-rmse:383.083\tvalidation_1-rmse:416.596\n",
            "[89]\tvalidation_0-rmse:382.425\tvalidation_1-rmse:416.007\n",
            "[90]\tvalidation_0-rmse:381.332\tvalidation_1-rmse:415.392\n",
            "[91]\tvalidation_0-rmse:380.876\tvalidation_1-rmse:414.998\n",
            "[92]\tvalidation_0-rmse:380.292\tvalidation_1-rmse:414.66\n",
            "[93]\tvalidation_0-rmse:379.896\tvalidation_1-rmse:414.373\n",
            "[94]\tvalidation_0-rmse:379.457\tvalidation_1-rmse:414.123\n",
            "[95]\tvalidation_0-rmse:379.029\tvalidation_1-rmse:413.721\n",
            "[96]\tvalidation_0-rmse:378.341\tvalidation_1-rmse:413.236\n",
            "[97]\tvalidation_0-rmse:377.87\tvalidation_1-rmse:412.806\n",
            "[98]\tvalidation_0-rmse:376.848\tvalidation_1-rmse:411.793\n",
            "[99]\tvalidation_0-rmse:375.805\tvalidation_1-rmse:410.685\n"
          ],
          "name": "stdout"
        },
        {
          "output_type": "execute_result",
          "data": {
            "text/plain": [
              "XGBRegressor(base_score=0.5, booster='gbtree', colsample_bylevel=1,\n",
              "             colsample_bynode=1, colsample_bytree=1, gamma=0,\n",
              "             importance_type='gain', learning_rate=0.1, max_delta_step=0,\n",
              "             max_depth=7, min_child_weight=1, missing=None, n_estimators=100,\n",
              "             n_jobs=1, nthread=None, objective='reg:linear', random_state=0,\n",
              "             reg_alpha=0, reg_lambda=1, scale_pos_weight=1, seed=None,\n",
              "             silent=None, subsample=1, verbosity=1)"
            ]
          },
          "metadata": {
            "tags": []
          },
          "execution_count": 55
        }
      ]
    },
    {
      "cell_type": "code",
      "metadata": {
        "id": "tmVVEs79mAUE",
        "colab_type": "code",
        "colab": {}
      },
      "source": [
        "results = model.evals_result()"
      ],
      "execution_count": 0,
      "outputs": []
    },
    {
      "cell_type": "code",
      "metadata": {
        "id": "Uza1mA_ZmAUI",
        "colab_type": "code",
        "colab": {},
        "outputId": "7f4c82ca-7540-4841-83b0-bdfb0b0a4a18"
      },
      "source": [
        "results['validation_0']"
      ],
      "execution_count": 0,
      "outputs": [
        {
          "output_type": "execute_result",
          "data": {
            "text/plain": [
              "{'rmse': [1471.615112,\n",
              "  1347.286255,\n",
              "  1236.46582,\n",
              "  1138.734985,\n",
              "  1052.115601,\n",
              "  975.581299,\n",
              "  908.05719,\n",
              "  849.357544,\n",
              "  797.862366,\n",
              "  752.886841,\n",
              "  713.889221,\n",
              "  679.475342,\n",
              "  650.380981,\n",
              "  625.572937,\n",
              "  603.289978,\n",
              "  584.721985,\n",
              "  568.393494,\n",
              "  554.208435,\n",
              "  541.744324,\n",
              "  531.025024,\n",
              "  520.314148,\n",
              "  512.038452,\n",
              "  504.724121,\n",
              "  497.423492,\n",
              "  491.970673,\n",
              "  485.658752,\n",
              "  480.826996,\n",
              "  476.916931,\n",
              "  473.458588,\n",
              "  469.695068,\n",
              "  466.65564,\n",
              "  463.350464,\n",
              "  460.807281,\n",
              "  458.27359,\n",
              "  454.196625,\n",
              "  451.586517,\n",
              "  448.887695,\n",
              "  446.518402,\n",
              "  444.725494,\n",
              "  442.657532,\n",
              "  440.647522,\n",
              "  438.94873,\n",
              "  436.514038,\n",
              "  434.965576,\n",
              "  433.412415,\n",
              "  432.267181,\n",
              "  430.49408,\n",
              "  428.458374,\n",
              "  427.272888,\n",
              "  426.166504,\n",
              "  423.458466,\n",
              "  421.633575,\n",
              "  419.496216,\n",
              "  418.55719,\n",
              "  417.156097,\n",
              "  415.979553,\n",
              "  414.6008,\n",
              "  413.931824,\n",
              "  412.621094,\n",
              "  411.097534,\n",
              "  410.163696,\n",
              "  409.179443,\n",
              "  407.785858,\n",
              "  405.73877,\n",
              "  404.924774,\n",
              "  403.854095,\n",
              "  401.877289,\n",
              "  401.327515,\n",
              "  400.014099,\n",
              "  399.090881,\n",
              "  396.979523,\n",
              "  396.164246,\n",
              "  394.697235,\n",
              "  394.216064,\n",
              "  393.602905,\n",
              "  392.692444,\n",
              "  391.852386,\n",
              "  391.204193,\n",
              "  389.844086,\n",
              "  389.049194,\n",
              "  388.524261,\n",
              "  387.707672,\n",
              "  387.193939,\n",
              "  385.985077,\n",
              "  385.327606,\n",
              "  384.896851,\n",
              "  384.114532,\n",
              "  383.485657,\n",
              "  383.083252,\n",
              "  382.425446,\n",
              "  381.331543,\n",
              "  380.875549,\n",
              "  380.292114,\n",
              "  379.895844,\n",
              "  379.457397,\n",
              "  379.028809,\n",
              "  378.341064,\n",
              "  377.869843,\n",
              "  376.848206,\n",
              "  375.80481]}"
            ]
          },
          "metadata": {
            "tags": []
          },
          "execution_count": 62
        }
      ]
    },
    {
      "cell_type": "code",
      "metadata": {
        "id": "dFK4O07UmAUM",
        "colab_type": "code",
        "colab": {},
        "outputId": "948cccac-5c3d-4ce9-f5ad-e5f805ed215b"
      },
      "source": [
        "train_error = results['validation_0']['rmse']\n",
        "val_error = results['validation_1']['rmse']\n",
        "epoch = range(1, len(train_error)+1)\n",
        "\n",
        "#Plotting the validation curve\n",
        "plt.plot(epoch, train_error, label='Train')\n",
        "plt.plot(epoch, val_error, label='Validation')\n",
        "plt.ylabel('ClassificationError')\n",
        "plt.xlabel('Model Complexity (n_estimators)');"
      ],
      "execution_count": 0,
      "outputs": [
        {
          "output_type": "display_data",
          "data": {
            "image/png": "[encoded data removed]",
            "text/plain": [
              "<Figure size 432x288 with 1 Axes>"
            ]
          },
          "metadata": {
            "tags": [],
            "needs_background": "light"
          }
        }
      ]
    },
    {
      "cell_type": "code",
      "metadata": {
        "id": "W9MZJTJSmAUQ",
        "colab_type": "code",
        "colab": {},
        "outputId": "b479f8ac-7f4c-46e2-df2e-608b2fc356dc"
      },
      "source": [
        "#Zooming in on validation curve\n",
        "plt.plot(epoch, train_error, label='Train')\n",
        "plt.plot(epoch, val_error, label='Validation')\n",
        "plt.ylabel('ClassificationError')\n",
        "plt.xlabel('Model Complexity (n_estimators)')\n",
        "plt.ylim(400,600);"
      ],
      "execution_count": 0,
      "outputs": [
        {
          "output_type": "display_data",
          "data": {
            "image/png": "[encoded data removed]",
            "text/plain": [
              "<Figure size 432x288 with 1 Axes>"
            ]
          },
          "metadata": {
            "tags": [],
            "needs_background": "light"
          }
        }
      ]
    },
    {
      "cell_type": "code",
      "metadata": {
        "id": "O4xEXprBmAUU",
        "colab_type": "code",
        "colab": {}
      },
      "source": [
        ""
      ],
      "execution_count": 0,
      "outputs": []
    }
  ]
}