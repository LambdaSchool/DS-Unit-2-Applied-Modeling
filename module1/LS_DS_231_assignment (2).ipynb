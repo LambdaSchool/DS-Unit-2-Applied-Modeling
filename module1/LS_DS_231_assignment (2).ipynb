{
 "cells": [
  {
   "cell_type": "markdown",
   "metadata": {
    "colab_type": "text",
    "id": "nCc3XZEyG3XV"
   },
   "source": [
    "Lambda School Data Science\n",
    "\n",
    "*Unit 2, Sprint 3, Module 1*\n",
    "\n",
    "---\n",
    "\n",
    "\n",
    "# Define ML problems\n",
    "\n",
    "You will use your portfolio project dataset for all assignments this sprint.\n",
    "\n",
    "## Assignment\n",
    "\n",
    "Complete these tasks for your project, and document your decisions.\n",
    "\n",
    "- [ ] Choose your target. Which column in your tabular dataset will you predict?\n",
    "- [ ] Is your problem regression or classification?\n",
    "- [ ] How is your target distributed?\n",
    "    - Classification: How many classes? Are the classes imbalanced?\n",
    "    - Regression: Is the target right-skewed? If so, you may want to log transform the target.\n",
    "- [ ] Choose which observations you will use to train, validate, and test your model.\n",
    "    - Are some observations outliers? Will you exclude them?\n",
    "    - Will you do a random split or a time-based split?\n",
    "- [ ] Choose your evaluation metric(s).\n",
    "    - Classification: Is your majority class frequency > 50% and < 70% ? If so, you can just use accuracy if you want. Outside that range, accuracy could be misleading. What evaluation metric will you choose, in addition to or instead of accuracy?\n",
    "- [ ] Begin to clean and explore your data.\n",
    "- [ ] Begin to choose which features, if any, to exclude. Would some features \"leak\" future information?"
   ]
  },
  {
   "cell_type": "code",
   "execution_count": 95,
   "metadata": {},
   "outputs": [],
   "source": [
    "import pandas as pd\n",
    "adoption_url = 'https://data.austintexas.gov/resource/9t4d-g238.csv?$limit=100000'\n",
    "adoption = pd.read_csv(adoption_url)\n",
    "# in order to see all of the columns:\n",
    "pd.options.display.max_columns = 100"
   ]
  },
  {
   "cell_type": "markdown",
   "metadata": {},
   "source": [
    "# Target"
   ]
  },
  {
   "cell_type": "code",
   "execution_count": 96,
   "metadata": {},
   "outputs": [
    {
     "data": {
      "text/html": [
       "<div>\n",
       "<style scoped>\n",
       "    .dataframe tbody tr th:only-of-type {\n",
       "        vertical-align: middle;\n",
       "    }\n",
       "\n",
       "    .dataframe tbody tr th {\n",
       "        vertical-align: top;\n",
       "    }\n",
       "\n",
       "    .dataframe thead th {\n",
       "        text-align: right;\n",
       "    }\n",
       "</style>\n",
       "<table border=\"1\" class=\"dataframe\">\n",
       "  <thead>\n",
       "    <tr style=\"text-align: right;\">\n",
       "      <th></th>\n",
       "      <th>animal_id</th>\n",
       "      <th>name</th>\n",
       "      <th>datetime</th>\n",
       "      <th>monthyear</th>\n",
       "      <th>date_of_birth</th>\n",
       "      <th>outcome_type</th>\n",
       "      <th>outcome_subtype</th>\n",
       "      <th>animal_type</th>\n",
       "      <th>sex_upon_outcome</th>\n",
       "      <th>age_upon_outcome</th>\n",
       "      <th>breed</th>\n",
       "      <th>color</th>\n",
       "    </tr>\n",
       "  </thead>\n",
       "  <tbody>\n",
       "    <tr>\n",
       "      <th>0</th>\n",
       "      <td>A808084</td>\n",
       "      <td>*Dori</td>\n",
       "      <td>2019-11-13T16:56:00.000</td>\n",
       "      <td>2019-11-13T16:56:00.000</td>\n",
       "      <td>2018-11-03T00:00:00.000</td>\n",
       "      <td>Adoption</td>\n",
       "      <td>NaN</td>\n",
       "      <td>Dog</td>\n",
       "      <td>Spayed Female</td>\n",
       "      <td>1 year</td>\n",
       "      <td>Australian Cattle Dog Mix</td>\n",
       "      <td>Brown/Tricolor</td>\n",
       "    </tr>\n",
       "    <tr>\n",
       "      <th>1</th>\n",
       "      <td>A808715</td>\n",
       "      <td>Kanga</td>\n",
       "      <td>2019-11-13T16:41:00.000</td>\n",
       "      <td>2019-11-13T16:41:00.000</td>\n",
       "      <td>2019-04-12T00:00:00.000</td>\n",
       "      <td>Adoption</td>\n",
       "      <td>NaN</td>\n",
       "      <td>Dog</td>\n",
       "      <td>Intact Female</td>\n",
       "      <td>7 months</td>\n",
       "      <td>Dutch Shepherd/Belgian Malinois</td>\n",
       "      <td>Brown Brindle</td>\n",
       "    </tr>\n",
       "    <tr>\n",
       "      <th>2</th>\n",
       "      <td>A802292</td>\n",
       "      <td>George</td>\n",
       "      <td>2019-11-13T16:39:00.000</td>\n",
       "      <td>2019-11-13T16:39:00.000</td>\n",
       "      <td>2017-08-16T00:00:00.000</td>\n",
       "      <td>Adoption</td>\n",
       "      <td>NaN</td>\n",
       "      <td>Dog</td>\n",
       "      <td>Neutered Male</td>\n",
       "      <td>2 years</td>\n",
       "      <td>Rhod Ridgeback/Labrador Retriever</td>\n",
       "      <td>Brown</td>\n",
       "    </tr>\n",
       "    <tr>\n",
       "      <th>3</th>\n",
       "      <td>A697397</td>\n",
       "      <td>Blue</td>\n",
       "      <td>2019-11-13T16:33:00.000</td>\n",
       "      <td>2019-11-13T16:33:00.000</td>\n",
       "      <td>2006-11-12T00:00:00.000</td>\n",
       "      <td>Euthanasia</td>\n",
       "      <td>Suffering</td>\n",
       "      <td>Cat</td>\n",
       "      <td>Neutered Male</td>\n",
       "      <td>13 years</td>\n",
       "      <td>Domestic Shorthair Mix</td>\n",
       "      <td>Blue</td>\n",
       "    </tr>\n",
       "    <tr>\n",
       "      <th>4</th>\n",
       "      <td>A802452</td>\n",
       "      <td>Hobbey</td>\n",
       "      <td>2019-11-13T16:29:00.000</td>\n",
       "      <td>2019-11-13T16:29:00.000</td>\n",
       "      <td>2019-02-18T00:00:00.000</td>\n",
       "      <td>Return to Owner</td>\n",
       "      <td>NaN</td>\n",
       "      <td>Dog</td>\n",
       "      <td>Neutered Male</td>\n",
       "      <td>8 months</td>\n",
       "      <td>German Shepherd Mix</td>\n",
       "      <td>Black/Tan</td>\n",
       "    </tr>\n",
       "  </tbody>\n",
       "</table>\n",
       "</div>"
      ],
      "text/plain": [
       "  animal_id    name                 datetime                monthyear  \\\n",
       "0   A808084   *Dori  2019-11-13T16:56:00.000  2019-11-13T16:56:00.000   \n",
       "1   A808715   Kanga  2019-11-13T16:41:00.000  2019-11-13T16:41:00.000   \n",
       "2   A802292  George  2019-11-13T16:39:00.000  2019-11-13T16:39:00.000   \n",
       "3   A697397    Blue  2019-11-13T16:33:00.000  2019-11-13T16:33:00.000   \n",
       "4   A802452  Hobbey  2019-11-13T16:29:00.000  2019-11-13T16:29:00.000   \n",
       "\n",
       "             date_of_birth     outcome_type outcome_subtype animal_type  \\\n",
       "0  2018-11-03T00:00:00.000         Adoption             NaN         Dog   \n",
       "1  2019-04-12T00:00:00.000         Adoption             NaN         Dog   \n",
       "2  2017-08-16T00:00:00.000         Adoption             NaN         Dog   \n",
       "3  2006-11-12T00:00:00.000       Euthanasia       Suffering         Cat   \n",
       "4  2019-02-18T00:00:00.000  Return to Owner             NaN         Dog   \n",
       "\n",
       "  sex_upon_outcome age_upon_outcome                              breed  \\\n",
       "0    Spayed Female           1 year          Australian Cattle Dog Mix   \n",
       "1    Intact Female         7 months    Dutch Shepherd/Belgian Malinois   \n",
       "2    Neutered Male          2 years  Rhod Ridgeback/Labrador Retriever   \n",
       "3    Neutered Male         13 years             Domestic Shorthair Mix   \n",
       "4    Neutered Male         8 months                German Shepherd Mix   \n",
       "\n",
       "            color  \n",
       "0  Brown/Tricolor  \n",
       "1   Brown Brindle  \n",
       "2           Brown  \n",
       "3            Blue  \n",
       "4       Black/Tan  "
      ]
     },
     "execution_count": 96,
     "metadata": {},
     "output_type": "execute_result"
    }
   ],
   "source": [
    "adoption.head()"
   ]
  },
  {
   "cell_type": "code",
   "execution_count": 97,
   "metadata": {},
   "outputs": [
    {
     "data": {
      "text/plain": [
       "(100000, 12)"
      ]
     },
     "execution_count": 97,
     "metadata": {},
     "output_type": "execute_result"
    }
   ],
   "source": [
    "adoption.shape"
   ]
  },
  {
   "cell_type": "markdown",
   "metadata": {},
   "source": [
    "The target in this project will be to predict whether or not an animal will be adopted or not (transferred to another shelter or, sadly, euthanized) so that perhaps animal shelters, though overwhelmed, can give some extra love or use unique methods to get those animals that may not have the best odds forever homes."
   ]
  },
  {
   "cell_type": "code",
   "execution_count": 98,
   "metadata": {},
   "outputs": [
    {
     "data": {
      "text/plain": [
       "Adoption           44383\n",
       "Transfer           29862\n",
       "Return to Owner    17514\n",
       "Euthanasia          6297\n",
       "Died                 969\n",
       "Rto-Adopt            507\n",
       "Disposal             387\n",
       "Missing               61\n",
       "Relocate              17\n",
       "NaN                    3\n",
       "Name: outcome_type, dtype: int64"
      ]
     },
     "execution_count": 98,
     "metadata": {},
     "output_type": "execute_result"
    }
   ],
   "source": [
    "adoption['outcome_type'].value_counts(dropna=False)"
   ]
  },
  {
   "cell_type": "code",
   "execution_count": 161,
   "metadata": {},
   "outputs": [
    {
     "data": {
      "text/plain": [
       "NaN                    54836\n",
       "Partner                24944\n",
       "Foster                  7950\n",
       "Rabies Risk             2790\n",
       "SCRP                    2640\n",
       "Suffering               2503\n",
       "Snr                     2275\n",
       "In Kennel                508\n",
       "Aggressive               360\n",
       "Offsite                  281\n",
       "Medical                  254\n",
       "In Foster                243\n",
       "At Vet                   171\n",
       "Behavior                  82\n",
       "Enroute                   65\n",
       "Underage                  29\n",
       "Court/Investigation       21\n",
       "In Surgery                19\n",
       "Possible Theft            15\n",
       "Field                      8\n",
       "Barn                       4\n",
       "Prc                        1\n",
       "Customer S                 1\n",
       "Name: outcome_subtype, dtype: int64"
      ]
     },
     "execution_count": 161,
     "metadata": {},
     "output_type": "execute_result"
    }
   ],
   "source": [
    "# this might be a feature that can create leakage, will come back to it.\n",
    "adoption['outcome_subtype'].value_counts(dropna=False)"
   ]
  },
  {
   "cell_type": "markdown",
   "metadata": {},
   "source": [
    "# Classification or Regression?"
   ]
  },
  {
   "cell_type": "markdown",
   "metadata": {},
   "source": [
    "There are 9 classes of outcomes but for this project I'd like to focus on the animals that were adopted or not. There are a large number of animals that were returned to owners but that would just be due to them getting out etc but they do have a home so I will not include those in my project. \"Rto-adopt\" or return to owner adoption will also be included with \"return to owner.\"\n",
    "\n",
    "For animals that were adopted I will consider that to be:  \n",
    "-adoption  \n",
    "-rto-adopt (return to owner through adoption)  \n",
    "\n",
    "\n",
    "I will combine the following for not adopted:  \n",
    "-transfer  \n",
    "-euthanasia  \n",
    "-relocate  \n",
    "-missing (animals that went missing from the shelter--still unsuccessful in getting them homes)  \n",
    "\"Died\" and \"disposal\" are animals that may have died while at the shelter or were brought in that needed to be properly disposed of so I will not include these either as they may have been very ill when brought in."
   ]
  },
  {
   "cell_type": "markdown",
   "metadata": {},
   "source": [
    "# How is the target distributed?\n",
    "## Are the classes imbalanced?"
   ]
  },
  {
   "cell_type": "code",
   "execution_count": 194,
   "metadata": {
    "scrolled": false
   },
   "outputs": [
    {
     "data": {
      "text/plain": [
       "Adoption           0.443843\n",
       "Transfer           0.298629\n",
       "Return to Owner    0.175145\n",
       "Euthanasia         0.062972\n",
       "Died               0.009690\n",
       "Rto-Adopt          0.005070\n",
       "Disposal           0.003870\n",
       "Missing            0.000610\n",
       "Relocate           0.000170\n",
       "Name: outcome_type, dtype: float64"
      ]
     },
     "execution_count": 194,
     "metadata": {},
     "output_type": "execute_result"
    }
   ],
   "source": [
    "adoption['outcome_type'].value_counts(normalize=True)"
   ]
  },
  {
   "cell_type": "markdown",
   "metadata": {},
   "source": [
    "will need to drop the rows where the outcome type are the ones listed above to be excluded:  \n",
    "-Return to owner  \n",
    "-Rto-adopt  \n",
    "-Died  \n",
    "-Disposal\n"
   ]
  },
  {
   "cell_type": "code",
   "execution_count": 195,
   "metadata": {},
   "outputs": [],
   "source": [
    "# adoption updated to drop the outcomes we are excluding:\n",
    "adoption_upd = adoption[~adoption['outcome_type'].isin(['Return to Owner', \n",
    "                                                        'Rto-Adopt', \n",
    "                                                        'Died', \n",
    "                                                        'Disposal'])]"
   ]
  },
  {
   "cell_type": "code",
   "execution_count": 196,
   "metadata": {},
   "outputs": [
    {
     "data": {
      "text/plain": [
       "Adoption      44383\n",
       "Transfer      29862\n",
       "Euthanasia     6297\n",
       "Missing          61\n",
       "Relocate         17\n",
       "NaN               3\n",
       "Name: outcome_type, dtype: int64"
      ]
     },
     "execution_count": 196,
     "metadata": {},
     "output_type": "execute_result"
    }
   ],
   "source": [
    "adoption_upd['outcome_type'].value_counts(dropna=False)"
   ]
  },
  {
   "cell_type": "code",
   "execution_count": 197,
   "metadata": {},
   "outputs": [],
   "source": [
    "# am going to drop all animals except cats and dogs, 2 of the unknown\n",
    "# outcome types are dogs and 1 also has a lot of other missing info so\n",
    "# will drop these rows.\n",
    "adoption_upd = adoption_upd.dropna(subset = ['outcome_type'])\n"
   ]
  },
  {
   "cell_type": "code",
   "execution_count": 198,
   "metadata": {},
   "outputs": [],
   "source": [
    "# need to redefine classes as binary. Adoption as 'adopted' and \n",
    "# the rest as 'not adopted'.\n",
    "def new_status(outcome):\n",
    "    if outcome == 'Transfer' or outcome == 'Euthanasia' or outcome == 'Missing' or outcome == 'Relocate':\n",
    "      return 'Not adopted'\n",
    "    else:\n",
    "      return 'Adopted'\n"
   ]
  },
  {
   "cell_type": "code",
   "execution_count": 199,
   "metadata": {},
   "outputs": [],
   "source": [
    "adoption_upd = adoption_upd.copy()\n",
    "adoption_upd['new_outcome_type'] = adoption_upd['outcome_type'].apply(new_status)"
   ]
  },
  {
   "cell_type": "code",
   "execution_count": 200,
   "metadata": {},
   "outputs": [
    {
     "data": {
      "text/plain": [
       "Adopted        0.550521\n",
       "Not adopted    0.449479\n",
       "Name: new_outcome_type, dtype: float64"
      ]
     },
     "execution_count": 200,
     "metadata": {},
     "output_type": "execute_result"
    }
   ],
   "source": [
    "adoption_upd['new_outcome_type'].value_counts(normalize=True)"
   ]
  },
  {
   "cell_type": "markdown",
   "metadata": {},
   "source": [
    "The classes now are combined into a binary classification and the classes are not imbalanced."
   ]
  },
  {
   "cell_type": "code",
   "execution_count": 201,
   "metadata": {},
   "outputs": [],
   "source": [
    "# drop the original 'Outcome_Type' column:\n",
    "adoption_upd = adoption_upd.drop(columns='outcome_type')"
   ]
  },
  {
   "cell_type": "markdown",
   "metadata": {},
   "source": [
    "# Choose Observations"
   ]
  },
  {
   "cell_type": "markdown",
   "metadata": {},
   "source": [
    "As mentioned above, since the focus of my project is predicting if animals that are in need of forever homes will be adopted or not, I have already excluded the following observations from my model:  \n",
    "-Return to Owner  \n",
    "-Rto-Adopt  \n",
    "-Died  \n",
    "-Disposal  \n",
    "\n",
    "There are 3 missing values for the outcome ,so we can try to look at the outcome subtype to see if we can determine what happened to them but the remaining animals have been categorized into 'adopted' or 'not adopted.'"
   ]
  },
  {
   "cell_type": "markdown",
   "metadata": {},
   "source": [
    "# How to Split Data:"
   ]
  },
  {
   "cell_type": "code",
   "execution_count": 202,
   "metadata": {},
   "outputs": [
    {
     "data": {
      "text/plain": [
       "animal_id           object\n",
       "name                object\n",
       "datetime            object\n",
       "monthyear           object\n",
       "date_of_birth       object\n",
       "outcome_subtype     object\n",
       "animal_type         object\n",
       "sex_upon_outcome    object\n",
       "age_upon_outcome    object\n",
       "breed               object\n",
       "color               object\n",
       "new_outcome_type    object\n",
       "dtype: object"
      ]
     },
     "execution_count": 202,
     "metadata": {},
     "output_type": "execute_result"
    }
   ],
   "source": [
    "adoption_upd.dtypes"
   ]
  },
  {
   "cell_type": "code",
   "execution_count": 203,
   "metadata": {},
   "outputs": [],
   "source": [
    "adoption_upd['datetime'] = pd.to_datetime(adoption_upd['datetime'], infer_datetime_format=True)"
   ]
  },
  {
   "cell_type": "code",
   "execution_count": 204,
   "metadata": {},
   "outputs": [
    {
     "data": {
      "text/plain": [
       "2015    14792\n",
       "2019    14339\n",
       "2016    14119\n",
       "2017    14058\n",
       "2018    13361\n",
       "2014     9951\n",
       "Name: datetime, dtype: int64"
      ]
     },
     "execution_count": 204,
     "metadata": {},
     "output_type": "execute_result"
    }
   ],
   "source": [
    "adoption_upd['datetime'].dt.year.value_counts()"
   ]
  },
  {
   "cell_type": "markdown",
   "metadata": {},
   "source": [
    "The description of the data set said that Austin is becoming a more pet-friendly city so there may be more animals going in and out of shelters in the more recent data vs the earlier data. I will therefore split the data based on time with the most recent data being the test set and then create a test and validation set with the remaining data.  \n",
    "\n",
    "test = adoption_upd[(adoption_upd['datetime'].dt.year == 2019)]  \n",
    "val =  adoption_upd[(adoption_upd['datetime'].dt.year == 2018)]  \n",
    "train = adoption_upd[(adoption_upd['datetime'].dt.year < 2018)]"
   ]
  },
  {
   "cell_type": "code",
   "execution_count": 17,
   "metadata": {},
   "outputs": [],
   "source": [
    "# how big to make test set? 2019:\n",
    "# 14292 observations"
   ]
  },
  {
   "cell_type": "markdown",
   "metadata": {},
   "source": [
    "# Evaluation Metrics"
   ]
  },
  {
   "cell_type": "markdown",
   "metadata": {},
   "source": [
    "since the classes aren't imbalanced I can use accuracy but will also explore the precision and recall for this problem.\n",
    "\n",
    "precision positive: correctly predict all the animals that were adopted.  \n",
    "\n",
    "\\begin{align}\n",
    "precision = \\frac{accurately \\ predicted \\ adopted}{total\\ predicted \\ adopted}\n",
    "\\end{align}\n"
   ]
  },
  {
   "cell_type": "markdown",
   "metadata": {},
   "source": [
    "recall positive: of all the animals that were adopted, how many were we able to identify?\n",
    "\\begin{align}\n",
    "recall = \\frac{accurately \\ predicted \\ adopted}{actually \\ adopted}\n",
    "\\end{align}\n"
   ]
  },
  {
   "cell_type": "markdown",
   "metadata": {},
   "source": [
    "# Begin to clean data and feature selection"
   ]
  },
  {
   "cell_type": "code",
   "execution_count": 205,
   "metadata": {},
   "outputs": [
    {
     "data": {
      "text/plain": [
       "animal_id               0\n",
       "name                30055\n",
       "datetime                0\n",
       "monthyear               0\n",
       "date_of_birth           0\n",
       "outcome_subtype     36347\n",
       "animal_type             0\n",
       "sex_upon_outcome        2\n",
       "age_upon_outcome       24\n",
       "breed                   0\n",
       "color                   0\n",
       "new_outcome_type        0\n",
       "dtype: int64"
      ]
     },
     "execution_count": 205,
     "metadata": {},
     "output_type": "execute_result"
    }
   ],
   "source": [
    "adoption_upd.isnull().sum()"
   ]
  },
  {
   "cell_type": "code",
   "execution_count": 206,
   "metadata": {},
   "outputs": [],
   "source": [
    "# the name column has a lot of missing values, will change NaN's to Unknown\n",
    "adoption_upd['name'].fillna(\"Unknown\", inplace = True)  "
   ]
  },
  {
   "cell_type": "code",
   "execution_count": 207,
   "metadata": {},
   "outputs": [
    {
     "data": {
      "text/plain": [
       "(80620, 11)"
      ]
     },
     "execution_count": 207,
     "metadata": {},
     "output_type": "execute_result"
    }
   ],
   "source": [
    "# the outcome subtype is missing 36353 values, almost half of all of our \n",
    "# data, since we will know all of the outcome types and this may cause \n",
    "# leakage into the test set because certain outcomes can be deduced from \n",
    "# the outcome subtype, I will drop that entire column.\n",
    "\n",
    "adoption_upd = adoption_upd.drop(columns='outcome_subtype')\n",
    "adoption_upd.shape\n"
   ]
  },
  {
   "cell_type": "code",
   "execution_count": 208,
   "metadata": {},
   "outputs": [
    {
     "data": {
      "text/plain": [
       "Neutered Male    27562\n",
       "Spayed Female    26009\n",
       "Intact Female    10101\n",
       "Intact Male       9375\n",
       "Unknown           7571\n",
       "Name: sex_upon_outcome, dtype: int64"
      ]
     },
     "execution_count": 208,
     "metadata": {},
     "output_type": "execute_result"
    }
   ],
   "source": [
    "# the sex_upon_outcome column has 2 missing values but noticed an 'unknown'\n",
    "# value so check to see if that's common:\n",
    "adoption_upd['sex_upon_outcome'].value_counts()\n",
    "# will one hot encode this column."
   ]
  },
  {
   "cell_type": "code",
   "execution_count": 209,
   "metadata": {},
   "outputs": [
    {
     "data": {
      "text/plain": [
       "animal_id               0\n",
       "name                30073\n",
       "datetime                0\n",
       "monthyear               0\n",
       "date_of_birth           0\n",
       "animal_type             0\n",
       "sex_upon_outcome     7571\n",
       "age_upon_outcome        0\n",
       "breed                   0\n",
       "color                   0\n",
       "new_outcome_type        0\n",
       "dtype: int64"
      ]
     },
     "execution_count": 209,
     "metadata": {},
     "output_type": "execute_result"
    }
   ],
   "source": [
    "# age_upon_outcome has 25 missing values but date_of_birth has none, lets\n",
    "# look at how many times 'unknown' shows up in the data:\n",
    "adoption_upd.isin(['Unknown']).sum()\n",
    "# the name already has 18 unknowns, so will stick to changing NaN's to unknown."
   ]
  },
  {
   "cell_type": "code",
   "execution_count": 210,
   "metadata": {},
   "outputs": [
    {
     "data": {
      "text/plain": [
       "animal_id              0\n",
       "name                   0\n",
       "datetime               0\n",
       "monthyear              0\n",
       "date_of_birth          0\n",
       "animal_type         4450\n",
       "sex_upon_outcome       0\n",
       "age_upon_outcome       0\n",
       "breed                  0\n",
       "color                  0\n",
       "new_outcome_type       0\n",
       "dtype: int64"
      ]
     },
     "execution_count": 210,
     "metadata": {},
     "output_type": "execute_result"
    }
   ],
   "source": [
    "# to see if 'Other is a common entry as well'\n",
    "adoption_upd.isin(['Other']).sum()"
   ]
  },
  {
   "cell_type": "code",
   "execution_count": 211,
   "metadata": {},
   "outputs": [
    {
     "data": {
      "text/plain": [
       "Dog          39752\n",
       "Cat          35977\n",
       "Other         4450\n",
       "Bird           432\n",
       "Livestock        9\n",
       "Name: animal_type, dtype: int64"
      ]
     },
     "execution_count": 211,
     "metadata": {},
     "output_type": "execute_result"
    }
   ],
   "source": [
    "# to see what kind of animals come in to the shelter\n",
    "adoption_upd['animal_type'].value_counts()"
   ]
  },
  {
   "cell_type": "code",
   "execution_count": 212,
   "metadata": {},
   "outputs": [],
   "source": [
    "# initially thinking of only using cats and dogs.\n",
    "adoption_upd = adoption_upd[~adoption_upd['animal_type'].isin(['Bird', \n",
    "                                                        'Other', \n",
    "                                                        'Livestock'])]"
   ]
  },
  {
   "cell_type": "code",
   "execution_count": 213,
   "metadata": {},
   "outputs": [
    {
     "data": {
      "text/plain": [
       "animal_id           0\n",
       "name                0\n",
       "datetime            0\n",
       "monthyear           0\n",
       "date_of_birth       0\n",
       "animal_type         0\n",
       "sex_upon_outcome    2\n",
       "age_upon_outcome    9\n",
       "breed               0\n",
       "color               0\n",
       "new_outcome_type    0\n",
       "dtype: int64"
      ]
     },
     "execution_count": 213,
     "metadata": {},
     "output_type": "execute_result"
    }
   ],
   "source": [
    "# check for missing values now:\n",
    "adoption_upd.isnull().sum()"
   ]
  },
  {
   "cell_type": "code",
   "execution_count": 214,
   "metadata": {},
   "outputs": [],
   "source": [
    "adoption_upd['date_of_birth'] = pd.to_datetime(adoption_upd['date_of_birth'], infer_datetime_format=True)"
   ]
  },
  {
   "cell_type": "code",
   "execution_count": 215,
   "metadata": {
    "scrolled": true
   },
   "outputs": [
    {
     "data": {
      "text/html": [
       "<div>\n",
       "<style scoped>\n",
       "    .dataframe tbody tr th:only-of-type {\n",
       "        vertical-align: middle;\n",
       "    }\n",
       "\n",
       "    .dataframe tbody tr th {\n",
       "        vertical-align: top;\n",
       "    }\n",
       "\n",
       "    .dataframe thead th {\n",
       "        text-align: right;\n",
       "    }\n",
       "</style>\n",
       "<table border=\"1\" class=\"dataframe\">\n",
       "  <thead>\n",
       "    <tr style=\"text-align: right;\">\n",
       "      <th></th>\n",
       "      <th>animal_id</th>\n",
       "      <th>name</th>\n",
       "      <th>datetime</th>\n",
       "      <th>monthyear</th>\n",
       "      <th>date_of_birth</th>\n",
       "      <th>animal_type</th>\n",
       "      <th>sex_upon_outcome</th>\n",
       "      <th>age_upon_outcome</th>\n",
       "      <th>breed</th>\n",
       "      <th>color</th>\n",
       "      <th>new_outcome_type</th>\n",
       "    </tr>\n",
       "  </thead>\n",
       "  <tbody>\n",
       "    <tr>\n",
       "      <th>18</th>\n",
       "      <td>A808636</td>\n",
       "      <td>Unknown</td>\n",
       "      <td>2019-11-13 13:46:00</td>\n",
       "      <td>2019-11-13T13:46:00.000</td>\n",
       "      <td>2004-11-11</td>\n",
       "      <td>Cat</td>\n",
       "      <td>Intact Female</td>\n",
       "      <td>NaN</td>\n",
       "      <td>Siamese</td>\n",
       "      <td>Seal Point</td>\n",
       "      <td>Not adopted</td>\n",
       "    </tr>\n",
       "    <tr>\n",
       "      <th>55</th>\n",
       "      <td>A808702</td>\n",
       "      <td>Keepers</td>\n",
       "      <td>2019-11-12 15:20:00</td>\n",
       "      <td>2019-11-12T15:20:00.000</td>\n",
       "      <td>2009-11-12</td>\n",
       "      <td>Dog</td>\n",
       "      <td>Neutered Male</td>\n",
       "      <td>NaN</td>\n",
       "      <td>Golden Retriever</td>\n",
       "      <td>Gold</td>\n",
       "      <td>Not adopted</td>\n",
       "    </tr>\n",
       "    <tr>\n",
       "      <th>90</th>\n",
       "      <td>A808649</td>\n",
       "      <td>Unknown</td>\n",
       "      <td>2019-11-11 17:49:00</td>\n",
       "      <td>2019-11-11T17:49:00.000</td>\n",
       "      <td>2019-10-11</td>\n",
       "      <td>Cat</td>\n",
       "      <td>Intact Male</td>\n",
       "      <td>NaN</td>\n",
       "      <td>Domestic Shorthair</td>\n",
       "      <td>Brown Tabby</td>\n",
       "      <td>Not adopted</td>\n",
       "    </tr>\n",
       "    <tr>\n",
       "      <th>91</th>\n",
       "      <td>A738697</td>\n",
       "      <td>Boots</td>\n",
       "      <td>2019-11-11 17:48:00</td>\n",
       "      <td>2019-11-11T17:48:00.000</td>\n",
       "      <td>2007-11-17</td>\n",
       "      <td>Dog</td>\n",
       "      <td>NaN</td>\n",
       "      <td>NaN</td>\n",
       "      <td>Miniature Schnauzer Mix</td>\n",
       "      <td>Black</td>\n",
       "      <td>Not adopted</td>\n",
       "    </tr>\n",
       "    <tr>\n",
       "      <th>116</th>\n",
       "      <td>A807543</td>\n",
       "      <td>Unknown</td>\n",
       "      <td>2019-11-11 15:22:00</td>\n",
       "      <td>2019-11-11T15:22:00.000</td>\n",
       "      <td>2016-10-26</td>\n",
       "      <td>Cat</td>\n",
       "      <td>Neutered Male</td>\n",
       "      <td>NaN</td>\n",
       "      <td>Domestic Shorthair</td>\n",
       "      <td>Brown Tabby/White</td>\n",
       "      <td>Not adopted</td>\n",
       "    </tr>\n",
       "    <tr>\n",
       "      <th>120</th>\n",
       "      <td>A808626</td>\n",
       "      <td>Unknown</td>\n",
       "      <td>2019-11-11 13:57:00</td>\n",
       "      <td>2019-11-11T13:57:00.000</td>\n",
       "      <td>2019-09-11</td>\n",
       "      <td>Cat</td>\n",
       "      <td>Intact Female</td>\n",
       "      <td>NaN</td>\n",
       "      <td>Domestic Shorthair</td>\n",
       "      <td>Brown Tabby</td>\n",
       "      <td>Not adopted</td>\n",
       "    </tr>\n",
       "    <tr>\n",
       "      <th>173</th>\n",
       "      <td>A808466</td>\n",
       "      <td>Unknown</td>\n",
       "      <td>2019-11-10 09:35:00</td>\n",
       "      <td>2019-11-10T09:35:00.000</td>\n",
       "      <td>2019-09-09</td>\n",
       "      <td>Cat</td>\n",
       "      <td>Intact Male</td>\n",
       "      <td>NaN</td>\n",
       "      <td>Domestic Shorthair</td>\n",
       "      <td>Brown/Black</td>\n",
       "      <td>Not adopted</td>\n",
       "    </tr>\n",
       "    <tr>\n",
       "      <th>306</th>\n",
       "      <td>A808352</td>\n",
       "      <td>Unknown</td>\n",
       "      <td>2019-11-07 16:15:00</td>\n",
       "      <td>2019-11-07T16:15:00.000</td>\n",
       "      <td>2011-11-07</td>\n",
       "      <td>Dog</td>\n",
       "      <td>Intact Male</td>\n",
       "      <td>NaN</td>\n",
       "      <td>Dachshund Mix</td>\n",
       "      <td>Tan</td>\n",
       "      <td>Not adopted</td>\n",
       "    </tr>\n",
       "    <tr>\n",
       "      <th>6608</th>\n",
       "      <td>A752967</td>\n",
       "      <td>Gray</td>\n",
       "      <td>2019-07-24 11:42:00</td>\n",
       "      <td>2019-07-24T11:42:00.000</td>\n",
       "      <td>2015-06-29</td>\n",
       "      <td>Dog</td>\n",
       "      <td>NaN</td>\n",
       "      <td>NaN</td>\n",
       "      <td>Pit Bull Mix</td>\n",
       "      <td>Blue/White</td>\n",
       "      <td>Not adopted</td>\n",
       "    </tr>\n",
       "  </tbody>\n",
       "</table>\n",
       "</div>"
      ],
      "text/plain": [
       "     animal_id     name            datetime                monthyear  \\\n",
       "18     A808636  Unknown 2019-11-13 13:46:00  2019-11-13T13:46:00.000   \n",
       "55     A808702  Keepers 2019-11-12 15:20:00  2019-11-12T15:20:00.000   \n",
       "90     A808649  Unknown 2019-11-11 17:49:00  2019-11-11T17:49:00.000   \n",
       "91     A738697    Boots 2019-11-11 17:48:00  2019-11-11T17:48:00.000   \n",
       "116    A807543  Unknown 2019-11-11 15:22:00  2019-11-11T15:22:00.000   \n",
       "120    A808626  Unknown 2019-11-11 13:57:00  2019-11-11T13:57:00.000   \n",
       "173    A808466  Unknown 2019-11-10 09:35:00  2019-11-10T09:35:00.000   \n",
       "306    A808352  Unknown 2019-11-07 16:15:00  2019-11-07T16:15:00.000   \n",
       "6608   A752967     Gray 2019-07-24 11:42:00  2019-07-24T11:42:00.000   \n",
       "\n",
       "     date_of_birth animal_type sex_upon_outcome age_upon_outcome  \\\n",
       "18      2004-11-11         Cat    Intact Female              NaN   \n",
       "55      2009-11-12         Dog    Neutered Male              NaN   \n",
       "90      2019-10-11         Cat      Intact Male              NaN   \n",
       "91      2007-11-17         Dog              NaN              NaN   \n",
       "116     2016-10-26         Cat    Neutered Male              NaN   \n",
       "120     2019-09-11         Cat    Intact Female              NaN   \n",
       "173     2019-09-09         Cat      Intact Male              NaN   \n",
       "306     2011-11-07         Dog      Intact Male              NaN   \n",
       "6608    2015-06-29         Dog              NaN              NaN   \n",
       "\n",
       "                        breed              color new_outcome_type  \n",
       "18                    Siamese         Seal Point      Not adopted  \n",
       "55           Golden Retriever               Gold      Not adopted  \n",
       "90         Domestic Shorthair        Brown Tabby      Not adopted  \n",
       "91    Miniature Schnauzer Mix              Black      Not adopted  \n",
       "116        Domestic Shorthair  Brown Tabby/White      Not adopted  \n",
       "120        Domestic Shorthair        Brown Tabby      Not adopted  \n",
       "173        Domestic Shorthair        Brown/Black      Not adopted  \n",
       "306             Dachshund Mix                Tan      Not adopted  \n",
       "6608             Pit Bull Mix         Blue/White      Not adopted  "
      ]
     },
     "execution_count": 215,
     "metadata": {},
     "output_type": "execute_result"
    }
   ],
   "source": [
    "adoption_upd.loc[adoption_upd['age_upon_outcome'].isnull()]"
   ]
  },
  {
   "cell_type": "code",
   "execution_count": 216,
   "metadata": {},
   "outputs": [],
   "source": [
    "# 2 of the rows that are missing the age are also missing the sex so I will\n",
    "# drop those:\n",
    "adoption_upd = adoption_upd.dropna(subset = ['sex_upon_outcome'])"
   ]
  },
  {
   "cell_type": "code",
   "execution_count": 217,
   "metadata": {},
   "outputs": [],
   "source": [
    "# since there are no missing or unknown values for DOB which still seems strange \n",
    "# especially for stray animals that were found but maybe they approximated. We can \n",
    "# create a column where we subtract 2019 from the born on year to get the age and see \n",
    "# if there are a lot of differences.\n",
    "\n",
    "now = pd.Timestamp('now')\n",
    "# first, get DOB year column and DOB month columns:\n",
    "adoption_upd['DOB_month'] = adoption_upd['date_of_birth'].dt.month\n",
    "# now, subtract current year from DOB year:\n",
    "adoption_upd['DOB_year'] = now.year - adoption_upd['date_of_birth'].dt.year\n",
    "# now turn DOB_year into months by multiplying by 12\n",
    "adoption_upd['DOB_year'] = adoption_upd['DOB_year'] * 12\n",
    "# add DOB_year which is now in months to DOB month and divide by 12 to get years\n",
    "adoption_upd['calculated_age'] = adoption_upd['DOB_year'] + adoption_upd['DOB_month']\n",
    "def calculate_age(age):\n",
    "        if age >= 12:\n",
    "            return(f'{age // 12} years')\n",
    "        else:\n",
    "            return(f'{age} months') \n",
    "adoption_upd['calculated_age'] = adoption_upd['calculated_age'].apply(calculate_age)\n",
    "# fill NaN's in age upon outcome column with calculated age\n",
    "adoption_upd['age_upon_outcome'].fillna(adoption_upd['calculated_age'], inplace=True)\n",
    "# drop DOB month, DOB year, calculated age:\n",
    "adoption_upd.drop(columns =['DOB_month', 'DOB_year', 'calculated_age'], inplace=True)"
   ]
  },
  {
   "cell_type": "code",
   "execution_count": 218,
   "metadata": {},
   "outputs": [
    {
     "data": {
      "text/plain": [
       "animal_id           0\n",
       "name                0\n",
       "datetime            0\n",
       "monthyear           0\n",
       "date_of_birth       0\n",
       "animal_type         0\n",
       "sex_upon_outcome    0\n",
       "age_upon_outcome    0\n",
       "breed               0\n",
       "color               0\n",
       "new_outcome_type    0\n",
       "dtype: int64"
      ]
     },
     "execution_count": 218,
     "metadata": {},
     "output_type": "execute_result"
    }
   ],
   "source": [
    "adoption_upd.isnull().sum()\n",
    "# no more missing values!"
   ]
  },
  {
   "cell_type": "code",
   "execution_count": 219,
   "metadata": {},
   "outputs": [
    {
     "data": {
      "text/html": [
       "<div>\n",
       "<style scoped>\n",
       "    .dataframe tbody tr th:only-of-type {\n",
       "        vertical-align: middle;\n",
       "    }\n",
       "\n",
       "    .dataframe tbody tr th {\n",
       "        vertical-align: top;\n",
       "    }\n",
       "\n",
       "    .dataframe thead th {\n",
       "        text-align: right;\n",
       "    }\n",
       "</style>\n",
       "<table border=\"1\" class=\"dataframe\">\n",
       "  <thead>\n",
       "    <tr style=\"text-align: right;\">\n",
       "      <th></th>\n",
       "      <th>animal_id</th>\n",
       "      <th>name</th>\n",
       "      <th>datetime</th>\n",
       "      <th>monthyear</th>\n",
       "      <th>date_of_birth</th>\n",
       "      <th>animal_type</th>\n",
       "      <th>sex_upon_outcome</th>\n",
       "      <th>age_upon_outcome</th>\n",
       "      <th>breed</th>\n",
       "      <th>color</th>\n",
       "      <th>new_outcome_type</th>\n",
       "    </tr>\n",
       "  </thead>\n",
       "  <tbody>\n",
       "    <tr>\n",
       "      <th>0</th>\n",
       "      <td>A808084</td>\n",
       "      <td>*Dori</td>\n",
       "      <td>2019-11-13 16:56:00</td>\n",
       "      <td>2019-11-13T16:56:00.000</td>\n",
       "      <td>2018-11-03</td>\n",
       "      <td>Dog</td>\n",
       "      <td>Spayed Female</td>\n",
       "      <td>1 year</td>\n",
       "      <td>Australian Cattle Dog Mix</td>\n",
       "      <td>Brown/Tricolor</td>\n",
       "      <td>Adopted</td>\n",
       "    </tr>\n",
       "    <tr>\n",
       "      <th>1</th>\n",
       "      <td>A808715</td>\n",
       "      <td>Kanga</td>\n",
       "      <td>2019-11-13 16:41:00</td>\n",
       "      <td>2019-11-13T16:41:00.000</td>\n",
       "      <td>2019-04-12</td>\n",
       "      <td>Dog</td>\n",
       "      <td>Intact Female</td>\n",
       "      <td>7 months</td>\n",
       "      <td>Dutch Shepherd/Belgian Malinois</td>\n",
       "      <td>Brown Brindle</td>\n",
       "      <td>Adopted</td>\n",
       "    </tr>\n",
       "    <tr>\n",
       "      <th>2</th>\n",
       "      <td>A802292</td>\n",
       "      <td>George</td>\n",
       "      <td>2019-11-13 16:39:00</td>\n",
       "      <td>2019-11-13T16:39:00.000</td>\n",
       "      <td>2017-08-16</td>\n",
       "      <td>Dog</td>\n",
       "      <td>Neutered Male</td>\n",
       "      <td>2 years</td>\n",
       "      <td>Rhod Ridgeback/Labrador Retriever</td>\n",
       "      <td>Brown</td>\n",
       "      <td>Adopted</td>\n",
       "    </tr>\n",
       "    <tr>\n",
       "      <th>3</th>\n",
       "      <td>A697397</td>\n",
       "      <td>Blue</td>\n",
       "      <td>2019-11-13 16:33:00</td>\n",
       "      <td>2019-11-13T16:33:00.000</td>\n",
       "      <td>2006-11-12</td>\n",
       "      <td>Cat</td>\n",
       "      <td>Neutered Male</td>\n",
       "      <td>13 years</td>\n",
       "      <td>Domestic Shorthair Mix</td>\n",
       "      <td>Blue</td>\n",
       "      <td>Not adopted</td>\n",
       "    </tr>\n",
       "    <tr>\n",
       "      <th>5</th>\n",
       "      <td>A808465</td>\n",
       "      <td>Unknown</td>\n",
       "      <td>2019-11-13 16:28:00</td>\n",
       "      <td>2019-11-13T16:28:00.000</td>\n",
       "      <td>2019-08-29</td>\n",
       "      <td>Dog</td>\n",
       "      <td>Spayed Female</td>\n",
       "      <td>2 months</td>\n",
       "      <td>Chihuahua Shorthair/Yorkshire Terrier</td>\n",
       "      <td>Black/Brown</td>\n",
       "      <td>Adopted</td>\n",
       "    </tr>\n",
       "  </tbody>\n",
       "</table>\n",
       "</div>"
      ],
      "text/plain": [
       "  animal_id     name            datetime                monthyear  \\\n",
       "0   A808084    *Dori 2019-11-13 16:56:00  2019-11-13T16:56:00.000   \n",
       "1   A808715    Kanga 2019-11-13 16:41:00  2019-11-13T16:41:00.000   \n",
       "2   A802292   George 2019-11-13 16:39:00  2019-11-13T16:39:00.000   \n",
       "3   A697397     Blue 2019-11-13 16:33:00  2019-11-13T16:33:00.000   \n",
       "5   A808465  Unknown 2019-11-13 16:28:00  2019-11-13T16:28:00.000   \n",
       "\n",
       "  date_of_birth animal_type sex_upon_outcome age_upon_outcome  \\\n",
       "0    2018-11-03         Dog    Spayed Female           1 year   \n",
       "1    2019-04-12         Dog    Intact Female         7 months   \n",
       "2    2017-08-16         Dog    Neutered Male          2 years   \n",
       "3    2006-11-12         Cat    Neutered Male         13 years   \n",
       "5    2019-08-29         Dog    Spayed Female         2 months   \n",
       "\n",
       "                                   breed           color new_outcome_type  \n",
       "0              Australian Cattle Dog Mix  Brown/Tricolor          Adopted  \n",
       "1        Dutch Shepherd/Belgian Malinois   Brown Brindle          Adopted  \n",
       "2      Rhod Ridgeback/Labrador Retriever           Brown          Adopted  \n",
       "3                 Domestic Shorthair Mix            Blue      Not adopted  \n",
       "5  Chihuahua Shorthair/Yorkshire Terrier     Black/Brown          Adopted  "
      ]
     },
     "execution_count": 219,
     "metadata": {},
     "output_type": "execute_result"
    }
   ],
   "source": [
    "adoption_upd.head()"
   ]
  },
  {
   "cell_type": "code",
   "execution_count": 220,
   "metadata": {},
   "outputs": [],
   "source": [
    "# looking at redundant columns, date of birth can be dropped since the ages are all accounted for.\n",
    "# also datetime and monthyear are the same, I will get rid of datetime for now.\n",
    "adoption_upd.drop(columns=['date_of_birth'], inplace=True)"
   ]
  },
  {
   "cell_type": "code",
   "execution_count": 221,
   "metadata": {},
   "outputs": [
    {
     "data": {
      "text/html": [
       "<div>\n",
       "<style scoped>\n",
       "    .dataframe tbody tr th:only-of-type {\n",
       "        vertical-align: middle;\n",
       "    }\n",
       "\n",
       "    .dataframe tbody tr th {\n",
       "        vertical-align: top;\n",
       "    }\n",
       "\n",
       "    .dataframe thead th {\n",
       "        text-align: right;\n",
       "    }\n",
       "</style>\n",
       "<table border=\"1\" class=\"dataframe\">\n",
       "  <thead>\n",
       "    <tr style=\"text-align: right;\">\n",
       "      <th></th>\n",
       "      <th>animal_id</th>\n",
       "      <th>name</th>\n",
       "      <th>datetime</th>\n",
       "      <th>monthyear</th>\n",
       "      <th>animal_type</th>\n",
       "      <th>sex_upon_outcome</th>\n",
       "      <th>age_upon_outcome</th>\n",
       "      <th>breed</th>\n",
       "      <th>color</th>\n",
       "      <th>new_outcome_type</th>\n",
       "      <th>month_arrived</th>\n",
       "    </tr>\n",
       "  </thead>\n",
       "  <tbody>\n",
       "    <tr>\n",
       "      <th>0</th>\n",
       "      <td>A808084</td>\n",
       "      <td>*Dori</td>\n",
       "      <td>2019-11-13 16:56:00</td>\n",
       "      <td>2019-11-13 16:56:00</td>\n",
       "      <td>Dog</td>\n",
       "      <td>Spayed Female</td>\n",
       "      <td>1 year</td>\n",
       "      <td>Australian Cattle Dog Mix</td>\n",
       "      <td>Brown/Tricolor</td>\n",
       "      <td>Adopted</td>\n",
       "      <td>11</td>\n",
       "    </tr>\n",
       "    <tr>\n",
       "      <th>1</th>\n",
       "      <td>A808715</td>\n",
       "      <td>Kanga</td>\n",
       "      <td>2019-11-13 16:41:00</td>\n",
       "      <td>2019-11-13 16:41:00</td>\n",
       "      <td>Dog</td>\n",
       "      <td>Intact Female</td>\n",
       "      <td>7 months</td>\n",
       "      <td>Dutch Shepherd/Belgian Malinois</td>\n",
       "      <td>Brown Brindle</td>\n",
       "      <td>Adopted</td>\n",
       "      <td>11</td>\n",
       "    </tr>\n",
       "    <tr>\n",
       "      <th>2</th>\n",
       "      <td>A802292</td>\n",
       "      <td>George</td>\n",
       "      <td>2019-11-13 16:39:00</td>\n",
       "      <td>2019-11-13 16:39:00</td>\n",
       "      <td>Dog</td>\n",
       "      <td>Neutered Male</td>\n",
       "      <td>2 years</td>\n",
       "      <td>Rhod Ridgeback/Labrador Retriever</td>\n",
       "      <td>Brown</td>\n",
       "      <td>Adopted</td>\n",
       "      <td>11</td>\n",
       "    </tr>\n",
       "    <tr>\n",
       "      <th>3</th>\n",
       "      <td>A697397</td>\n",
       "      <td>Blue</td>\n",
       "      <td>2019-11-13 16:33:00</td>\n",
       "      <td>2019-11-13 16:33:00</td>\n",
       "      <td>Cat</td>\n",
       "      <td>Neutered Male</td>\n",
       "      <td>13 years</td>\n",
       "      <td>Domestic Shorthair Mix</td>\n",
       "      <td>Blue</td>\n",
       "      <td>Not adopted</td>\n",
       "      <td>11</td>\n",
       "    </tr>\n",
       "    <tr>\n",
       "      <th>5</th>\n",
       "      <td>A808465</td>\n",
       "      <td>Unknown</td>\n",
       "      <td>2019-11-13 16:28:00</td>\n",
       "      <td>2019-11-13 16:28:00</td>\n",
       "      <td>Dog</td>\n",
       "      <td>Spayed Female</td>\n",
       "      <td>2 months</td>\n",
       "      <td>Chihuahua Shorthair/Yorkshire Terrier</td>\n",
       "      <td>Black/Brown</td>\n",
       "      <td>Adopted</td>\n",
       "      <td>11</td>\n",
       "    </tr>\n",
       "  </tbody>\n",
       "</table>\n",
       "</div>"
      ],
      "text/plain": [
       "  animal_id     name            datetime           monthyear animal_type  \\\n",
       "0   A808084    *Dori 2019-11-13 16:56:00 2019-11-13 16:56:00         Dog   \n",
       "1   A808715    Kanga 2019-11-13 16:41:00 2019-11-13 16:41:00         Dog   \n",
       "2   A802292   George 2019-11-13 16:39:00 2019-11-13 16:39:00         Dog   \n",
       "3   A697397     Blue 2019-11-13 16:33:00 2019-11-13 16:33:00         Cat   \n",
       "5   A808465  Unknown 2019-11-13 16:28:00 2019-11-13 16:28:00         Dog   \n",
       "\n",
       "  sex_upon_outcome age_upon_outcome                                  breed  \\\n",
       "0    Spayed Female           1 year              Australian Cattle Dog Mix   \n",
       "1    Intact Female         7 months        Dutch Shepherd/Belgian Malinois   \n",
       "2    Neutered Male          2 years      Rhod Ridgeback/Labrador Retriever   \n",
       "3    Neutered Male         13 years                 Domestic Shorthair Mix   \n",
       "5    Spayed Female         2 months  Chihuahua Shorthair/Yorkshire Terrier   \n",
       "\n",
       "            color new_outcome_type  month_arrived  \n",
       "0  Brown/Tricolor          Adopted             11  \n",
       "1   Brown Brindle          Adopted             11  \n",
       "2           Brown          Adopted             11  \n",
       "3            Blue      Not adopted             11  \n",
       "5     Black/Brown          Adopted             11  "
      ]
     },
     "execution_count": 221,
     "metadata": {},
     "output_type": "execute_result"
    }
   ],
   "source": [
    "# going to create a new column for the season the animal came into the shelter to see if certain\n",
    "# seasons have higher adoption rates:\n",
    "adoption_upd['monthyear'] = pd.to_datetime(adoption_upd['monthyear'], infer_datetime_format=True)\n",
    "adoption_upd['month_arrived'] = adoption_upd['monthyear'].dt.month\n",
    "adoption_upd.head()\n"
   ]
  },
  {
   "cell_type": "code",
   "execution_count": 222,
   "metadata": {},
   "outputs": [],
   "source": [
    "def season(arrival_month):\n",
    "    if arrival_month == 1 or arrival_month == 2 or arrival_month == 3:\n",
    "        return 'Winter'\n",
    "    if arrival_month == 3 or arrival_month == 4 or arrival_month ==5:\n",
    "        return 'Spring'\n",
    "    if arrival_month == 6 or arrival_month == 7 or arrival_month ==8:\n",
    "        return 'Summer'\n",
    "    if arrival_month == 9 or arrival_month == 10 or arrival_month ==11:\n",
    "        return 'Fall'\n",
    "adoption_upd['season_arrived'] = adoption_upd['month_arrived'].apply(season)"
   ]
  },
  {
   "cell_type": "code",
   "execution_count": 223,
   "metadata": {},
   "outputs": [],
   "source": [
    "# want to change the datetime column to year only since we have month_arrived now:\n",
    "adoption_upd['year_arrived'] = adoption_upd['datetime'].dt.year"
   ]
  },
  {
   "cell_type": "code",
   "execution_count": 225,
   "metadata": {},
   "outputs": [],
   "source": [
    "# going to drop datetime and monthyear now:\n",
    "adoption_upd.drop(columns=['datetime', 'monthyear'], inplace=True)"
   ]
  },
  {
   "cell_type": "code",
   "execution_count": 227,
   "metadata": {},
   "outputs": [
    {
     "data": {
      "text/html": [
       "<div>\n",
       "<style scoped>\n",
       "    .dataframe tbody tr th:only-of-type {\n",
       "        vertical-align: middle;\n",
       "    }\n",
       "\n",
       "    .dataframe tbody tr th {\n",
       "        vertical-align: top;\n",
       "    }\n",
       "\n",
       "    .dataframe thead th {\n",
       "        text-align: right;\n",
       "    }\n",
       "</style>\n",
       "<table border=\"1\" class=\"dataframe\">\n",
       "  <thead>\n",
       "    <tr style=\"text-align: right;\">\n",
       "      <th></th>\n",
       "      <th>animal_id</th>\n",
       "      <th>name</th>\n",
       "      <th>animal_type</th>\n",
       "      <th>sex_upon_outcome</th>\n",
       "      <th>age_upon_outcome</th>\n",
       "      <th>breed</th>\n",
       "      <th>color</th>\n",
       "      <th>new_outcome_type</th>\n",
       "      <th>month_arrived</th>\n",
       "      <th>season_arrived</th>\n",
       "      <th>year_arrived</th>\n",
       "    </tr>\n",
       "  </thead>\n",
       "  <tbody>\n",
       "    <tr>\n",
       "      <th>0</th>\n",
       "      <td>A808084</td>\n",
       "      <td>*Dori</td>\n",
       "      <td>Dog</td>\n",
       "      <td>Spayed Female</td>\n",
       "      <td>1 year</td>\n",
       "      <td>Australian Cattle Dog Mix</td>\n",
       "      <td>Brown/Tricolor</td>\n",
       "      <td>Adopted</td>\n",
       "      <td>11</td>\n",
       "      <td>Fall</td>\n",
       "      <td>2019</td>\n",
       "    </tr>\n",
       "    <tr>\n",
       "      <th>1</th>\n",
       "      <td>A808715</td>\n",
       "      <td>Kanga</td>\n",
       "      <td>Dog</td>\n",
       "      <td>Intact Female</td>\n",
       "      <td>7 months</td>\n",
       "      <td>Dutch Shepherd/Belgian Malinois</td>\n",
       "      <td>Brown Brindle</td>\n",
       "      <td>Adopted</td>\n",
       "      <td>11</td>\n",
       "      <td>Fall</td>\n",
       "      <td>2019</td>\n",
       "    </tr>\n",
       "    <tr>\n",
       "      <th>2</th>\n",
       "      <td>A802292</td>\n",
       "      <td>George</td>\n",
       "      <td>Dog</td>\n",
       "      <td>Neutered Male</td>\n",
       "      <td>2 years</td>\n",
       "      <td>Rhod Ridgeback/Labrador Retriever</td>\n",
       "      <td>Brown</td>\n",
       "      <td>Adopted</td>\n",
       "      <td>11</td>\n",
       "      <td>Fall</td>\n",
       "      <td>2019</td>\n",
       "    </tr>\n",
       "    <tr>\n",
       "      <th>3</th>\n",
       "      <td>A697397</td>\n",
       "      <td>Blue</td>\n",
       "      <td>Cat</td>\n",
       "      <td>Neutered Male</td>\n",
       "      <td>13 years</td>\n",
       "      <td>Domestic Shorthair Mix</td>\n",
       "      <td>Blue</td>\n",
       "      <td>Not adopted</td>\n",
       "      <td>11</td>\n",
       "      <td>Fall</td>\n",
       "      <td>2019</td>\n",
       "    </tr>\n",
       "    <tr>\n",
       "      <th>5</th>\n",
       "      <td>A808465</td>\n",
       "      <td>Unknown</td>\n",
       "      <td>Dog</td>\n",
       "      <td>Spayed Female</td>\n",
       "      <td>2 months</td>\n",
       "      <td>Chihuahua Shorthair/Yorkshire Terrier</td>\n",
       "      <td>Black/Brown</td>\n",
       "      <td>Adopted</td>\n",
       "      <td>11</td>\n",
       "      <td>Fall</td>\n",
       "      <td>2019</td>\n",
       "    </tr>\n",
       "    <tr>\n",
       "      <th>6</th>\n",
       "      <td>A804539</td>\n",
       "      <td>Bubbles</td>\n",
       "      <td>Cat</td>\n",
       "      <td>Spayed Female</td>\n",
       "      <td>3 months</td>\n",
       "      <td>Domestic Shorthair Mix</td>\n",
       "      <td>Brown Tabby</td>\n",
       "      <td>Adopted</td>\n",
       "      <td>11</td>\n",
       "      <td>Fall</td>\n",
       "      <td>2019</td>\n",
       "    </tr>\n",
       "    <tr>\n",
       "      <th>9</th>\n",
       "      <td>A807697</td>\n",
       "      <td>Lucy</td>\n",
       "      <td>Dog</td>\n",
       "      <td>Spayed Female</td>\n",
       "      <td>1 year</td>\n",
       "      <td>Basenji Mix</td>\n",
       "      <td>Red</td>\n",
       "      <td>Adopted</td>\n",
       "      <td>11</td>\n",
       "      <td>Fall</td>\n",
       "      <td>2019</td>\n",
       "    </tr>\n",
       "    <tr>\n",
       "      <th>10</th>\n",
       "      <td>A799663</td>\n",
       "      <td>Cookie</td>\n",
       "      <td>Dog</td>\n",
       "      <td>Neutered Male</td>\n",
       "      <td>2 years</td>\n",
       "      <td>Rat Terrier</td>\n",
       "      <td>Black/Tricolor</td>\n",
       "      <td>Adopted</td>\n",
       "      <td>11</td>\n",
       "      <td>Fall</td>\n",
       "      <td>2019</td>\n",
       "    </tr>\n",
       "    <tr>\n",
       "      <th>11</th>\n",
       "      <td>A808495</td>\n",
       "      <td>Unknown</td>\n",
       "      <td>Cat</td>\n",
       "      <td>Intact Male</td>\n",
       "      <td>7 months</td>\n",
       "      <td>Domestic Shorthair</td>\n",
       "      <td>Black/White</td>\n",
       "      <td>Not adopted</td>\n",
       "      <td>11</td>\n",
       "      <td>Fall</td>\n",
       "      <td>2019</td>\n",
       "    </tr>\n",
       "    <tr>\n",
       "      <th>12</th>\n",
       "      <td>A808494</td>\n",
       "      <td>Unknown</td>\n",
       "      <td>Cat</td>\n",
       "      <td>Intact Male</td>\n",
       "      <td>7 months</td>\n",
       "      <td>Domestic Shorthair</td>\n",
       "      <td>Black</td>\n",
       "      <td>Not adopted</td>\n",
       "      <td>11</td>\n",
       "      <td>Fall</td>\n",
       "      <td>2019</td>\n",
       "    </tr>\n",
       "  </tbody>\n",
       "</table>\n",
       "</div>"
      ],
      "text/plain": [
       "   animal_id     name animal_type sex_upon_outcome age_upon_outcome  \\\n",
       "0    A808084    *Dori         Dog    Spayed Female           1 year   \n",
       "1    A808715    Kanga         Dog    Intact Female         7 months   \n",
       "2    A802292   George         Dog    Neutered Male          2 years   \n",
       "3    A697397     Blue         Cat    Neutered Male         13 years   \n",
       "5    A808465  Unknown         Dog    Spayed Female         2 months   \n",
       "6    A804539  Bubbles         Cat    Spayed Female         3 months   \n",
       "9    A807697     Lucy         Dog    Spayed Female           1 year   \n",
       "10   A799663   Cookie         Dog    Neutered Male          2 years   \n",
       "11   A808495  Unknown         Cat      Intact Male         7 months   \n",
       "12   A808494  Unknown         Cat      Intact Male         7 months   \n",
       "\n",
       "                                    breed           color new_outcome_type  \\\n",
       "0               Australian Cattle Dog Mix  Brown/Tricolor          Adopted   \n",
       "1         Dutch Shepherd/Belgian Malinois   Brown Brindle          Adopted   \n",
       "2       Rhod Ridgeback/Labrador Retriever           Brown          Adopted   \n",
       "3                  Domestic Shorthair Mix            Blue      Not adopted   \n",
       "5   Chihuahua Shorthair/Yorkshire Terrier     Black/Brown          Adopted   \n",
       "6                  Domestic Shorthair Mix     Brown Tabby          Adopted   \n",
       "9                             Basenji Mix             Red          Adopted   \n",
       "10                            Rat Terrier  Black/Tricolor          Adopted   \n",
       "11                     Domestic Shorthair     Black/White      Not adopted   \n",
       "12                     Domestic Shorthair           Black      Not adopted   \n",
       "\n",
       "    month_arrived season_arrived  year_arrived  \n",
       "0              11           Fall          2019  \n",
       "1              11           Fall          2019  \n",
       "2              11           Fall          2019  \n",
       "3              11           Fall          2019  \n",
       "5              11           Fall          2019  \n",
       "6              11           Fall          2019  \n",
       "9              11           Fall          2019  \n",
       "10             11           Fall          2019  \n",
       "11             11           Fall          2019  \n",
       "12             11           Fall          2019  "
      ]
     },
     "execution_count": 227,
     "metadata": {},
     "output_type": "execute_result"
    }
   ],
   "source": [
    "adoption_upd.head(10)"
   ]
  },
  {
   "cell_type": "code",
   "execution_count": 53,
   "metadata": {},
   "outputs": [
    {
     "data": {
      "text/plain": [
       "Domestic Shorthair Mix                            26070\n",
       "Pit Bull Mix                                       4722\n",
       "Labrador Retriever Mix                             4373\n",
       "Chihuahua Shorthair Mix                            3974\n",
       "Domestic Shorthair                                 3552\n",
       "Domestic Medium Hair Mix                           2549\n",
       "German Shepherd Mix                                1816\n",
       "Domestic Longhair Mix                              1184\n",
       "Siamese Mix                                        1022\n",
       "Australian Cattle Dog Mix                           968\n",
       "Dachshund Mix                                       627\n",
       "Border Collie Mix                                   594\n",
       "Boxer Mix                                           572\n",
       "Domestic Medium Hair                                478\n",
       "Miniature Poodle Mix                                454\n",
       "Catahoula Mix                                       432\n",
       "Labrador Retriever                                  405\n",
       "Staffordshire Mix                                   401\n",
       "Chihuahua Shorthair                                 399\n",
       "Pit Bull                                            384\n",
       "Australian Shepherd Mix                             380\n",
       "Pointer Mix                                         367\n",
       "Great Pyrenees Mix                                  367\n",
       "Rat Terrier Mix                                     364\n",
       "Beagle Mix                                          358\n",
       "German Shepherd                                     347\n",
       "Yorkshire Terrier Mix                               346\n",
       "Siberian Husky Mix                                  344\n",
       "Jack Russell Terrier Mix                            338\n",
       "Cairn Terrier Mix                                   335\n",
       "                                                  ...  \n",
       "Anatol Shepherd/Mastiff                               1\n",
       "Domestic Longhair/Persian                             1\n",
       "Bull Terrier/Pit Bull                                 1\n",
       "Standard Schnauzer/Soft Coated Wheaten Terrier        1\n",
       "Yorkshire Terrier/Bruss Griffon                       1\n",
       "Labrador Retriever/English Pointer                    1\n",
       "Pembroke Welsh Corgi/Chihuahua Longhair               1\n",
       "Newfoundland/Border Collie                            1\n",
       "Chow Chow/Basset Hound                                1\n",
       "Jack Russell Terrier/Unknown                          1\n",
       "English Bulldog/Pit Bull                              1\n",
       "Basset Hound/Pembroke Welsh Corgi                     1\n",
       "Chinese Sharpei/Boxer                                 1\n",
       "Border Collie/Miniature Pinscher                      1\n",
       "Greater Swiss Mountain Dog Mix                        1\n",
       "Basset Hound/Black/Tan Hound                          1\n",
       "Plott Hound/Mastiff                                   1\n",
       "Lhasa Apso/Dachshund                                  1\n",
       "Australian Shepherd/Australian Kelpie                 1\n",
       "Whippet                                               1\n",
       "Cardigan Welsh Corgi/Australian Kelpie                1\n",
       "Staffordshire/Pit Bull                                1\n",
       "Whippet/German Shepherd                               1\n",
       "Boykin Span/Dachshund                                 1\n",
       "Smooth Fox Terrier/Labrador Retriever                 1\n",
       "English Coonhound/Border Collie                       1\n",
       "Jack Russell Terrier/Anatol Shepherd                  1\n",
       "Chihuahua Shorthair/Boxer                             1\n",
       "Greyhound/Border Terrier                              1\n",
       "Pit Bull/Rhod Ridgeback                               1\n",
       "Name: breed, Length: 1866, dtype: int64"
      ]
     },
     "execution_count": 53,
     "metadata": {},
     "output_type": "execute_result"
    }
   ],
   "source": [
    "# how many different breeds are there:\n",
    "adoption_upd['breed'].value_counts()\n",
    "# 2042...very high cardinality"
   ]
  },
  {
   "cell_type": "code",
   "execution_count": null,
   "metadata": {},
   "outputs": [],
   "source": [
    "# how many colors are there\n",
    "adoption_upd['color'].value_counts()[:10]\n",
    "#477 different values, high cardinality as well."
   ]
  },
  {
   "cell_type": "code",
   "execution_count": null,
   "metadata": {},
   "outputs": [],
   "source": []
  }
 ],
 "metadata": {
  "colab": {
   "collapsed_sections": [],
   "name": "assignment_applied_modeling_1.ipynb",
   "provenance": [],
   "version": "0.3.2"
  },
  "kernelspec": {
   "display_name": "Python 3",
   "language": "python",
   "name": "python3"
  },
  "language_info": {
   "codemirror_mode": {
    "name": "ipython",
    "version": 3
   },
   "file_extension": ".py",
   "mimetype": "text/x-python",
   "name": "python",
   "nbconvert_exporter": "python",
   "pygments_lexer": "ipython3",
   "version": "3.7.4"
  }
 },
 "nbformat": 4,
 "nbformat_minor": 1
}
