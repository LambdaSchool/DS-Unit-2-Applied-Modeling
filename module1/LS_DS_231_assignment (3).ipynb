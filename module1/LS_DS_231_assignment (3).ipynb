{
 "cells": [
  {
   "cell_type": "markdown",
   "metadata": {
    "colab_type": "text",
    "id": "nCc3XZEyG3XV"
   },
   "source": [
    "Lambda School Data Science\n",
    "\n",
    "*Unit 2, Sprint 3, Module 1*\n",
    "\n",
    "---\n",
    "\n",
    "\n",
    "# Define ML problems\n",
    "\n",
    "You will use your portfolio project dataset for all assignments this sprint.\n",
    "\n",
    "## Assignment\n",
    "\n",
    "Complete these tasks for your project, and document your decisions.\n",
    "\n",
    "- [ ] Choose your target. Which column in your tabular dataset will you predict?\n",
    "- [ ] Is your problem regression or classification?\n",
    "- [ ] How is your target distributed?\n",
    "    - Classification: How many classes? Are the classes imbalanced?\n",
    "    - Regression: Is the target right-skewed? If so, you may want to log transform the target.\n",
    "- [ ] Choose which observations you will use to train, validate, and test your model.\n",
    "    - Are some observations outliers? Will you exclude them?\n",
    "    - Will you do a random split or a time-based split?\n",
    "- [ ] Choose your evaluation metric(s).\n",
    "    - Classification: Is your majority class frequency > 50% and < 70% ? If so, you can just use accuracy if you want. Outside that range, accuracy could be misleading. What evaluation metric will you choose, in addition to or instead of accuracy?\n",
    "- [ ] Begin to clean and explore your data.\n",
    "- [ ] Begin to choose which features, if any, to exclude. Would some features \"leak\" future information?"
   ]
  },
  {
   "cell_type": "code",
   "execution_count": 236,
   "metadata": {},
   "outputs": [],
   "source": [
    "import pandas as pd\n",
    "adoption_url = 'https://data.austintexas.gov/resource/9t4d-g238.csv?$limit=100000'\n",
    "adoption = pd.read_csv(adoption_url)\n",
    "# in order to see all of the columns:\n",
    "pd.options.display.max_columns = 100"
   ]
  },
  {
   "cell_type": "markdown",
   "metadata": {},
   "source": [
    "# Target"
   ]
  },
  {
   "cell_type": "code",
   "execution_count": 237,
   "metadata": {},
   "outputs": [
    {
     "data": {
      "text/html": [
       "<div>\n",
       "<style scoped>\n",
       "    .dataframe tbody tr th:only-of-type {\n",
       "        vertical-align: middle;\n",
       "    }\n",
       "\n",
       "    .dataframe tbody tr th {\n",
       "        vertical-align: top;\n",
       "    }\n",
       "\n",
       "    .dataframe thead th {\n",
       "        text-align: right;\n",
       "    }\n",
       "</style>\n",
       "<table border=\"1\" class=\"dataframe\">\n",
       "  <thead>\n",
       "    <tr style=\"text-align: right;\">\n",
       "      <th></th>\n",
       "      <th>animal_id</th>\n",
       "      <th>name</th>\n",
       "      <th>datetime</th>\n",
       "      <th>monthyear</th>\n",
       "      <th>date_of_birth</th>\n",
       "      <th>outcome_type</th>\n",
       "      <th>outcome_subtype</th>\n",
       "      <th>animal_type</th>\n",
       "      <th>sex_upon_outcome</th>\n",
       "      <th>age_upon_outcome</th>\n",
       "      <th>breed</th>\n",
       "      <th>color</th>\n",
       "    </tr>\n",
       "  </thead>\n",
       "  <tbody>\n",
       "    <tr>\n",
       "      <th>0</th>\n",
       "      <td>A808320</td>\n",
       "      <td>Kyha</td>\n",
       "      <td>2019-11-14T15:37:00.000</td>\n",
       "      <td>2019-11-14T15:37:00.000</td>\n",
       "      <td>2017-11-07T00:00:00.000</td>\n",
       "      <td>Rto-Adopt</td>\n",
       "      <td>NaN</td>\n",
       "      <td>Dog</td>\n",
       "      <td>Spayed Female</td>\n",
       "      <td>2 years</td>\n",
       "      <td>German Shepherd Mix</td>\n",
       "      <td>Sable</td>\n",
       "    </tr>\n",
       "    <tr>\n",
       "      <th>1</th>\n",
       "      <td>A781697</td>\n",
       "      <td>Pookie</td>\n",
       "      <td>2019-11-14T15:33:00.000</td>\n",
       "      <td>2019-11-14T15:33:00.000</td>\n",
       "      <td>2017-10-05T00:00:00.000</td>\n",
       "      <td>Adoption</td>\n",
       "      <td>NaN</td>\n",
       "      <td>Dog</td>\n",
       "      <td>Spayed Female</td>\n",
       "      <td>2 years</td>\n",
       "      <td>Cairn Terrier</td>\n",
       "      <td>White/Brown</td>\n",
       "    </tr>\n",
       "    <tr>\n",
       "      <th>2</th>\n",
       "      <td>A808382</td>\n",
       "      <td>NaN</td>\n",
       "      <td>2019-11-14T14:57:00.000</td>\n",
       "      <td>2019-11-14T14:57:00.000</td>\n",
       "      <td>2014-11-08T00:00:00.000</td>\n",
       "      <td>Transfer</td>\n",
       "      <td>Partner</td>\n",
       "      <td>Cat</td>\n",
       "      <td>Intact Male</td>\n",
       "      <td>5 years</td>\n",
       "      <td>Domestic Shorthair</td>\n",
       "      <td>Orange Tabby</td>\n",
       "    </tr>\n",
       "    <tr>\n",
       "      <th>3</th>\n",
       "      <td>A806701</td>\n",
       "      <td>*Emerald</td>\n",
       "      <td>2019-11-14T14:41:00.000</td>\n",
       "      <td>2019-11-14T14:41:00.000</td>\n",
       "      <td>2019-09-02T00:00:00.000</td>\n",
       "      <td>Adoption</td>\n",
       "      <td>Foster</td>\n",
       "      <td>Cat</td>\n",
       "      <td>Neutered Male</td>\n",
       "      <td>2 months</td>\n",
       "      <td>Domestic Shorthair</td>\n",
       "      <td>Blue Tabby/White</td>\n",
       "    </tr>\n",
       "    <tr>\n",
       "      <th>4</th>\n",
       "      <td>A804553</td>\n",
       "      <td>*Wendy</td>\n",
       "      <td>2019-11-14T14:36:00.000</td>\n",
       "      <td>2019-11-14T14:36:00.000</td>\n",
       "      <td>2019-08-09T00:00:00.000</td>\n",
       "      <td>Adoption</td>\n",
       "      <td>Foster</td>\n",
       "      <td>Cat</td>\n",
       "      <td>Spayed Female</td>\n",
       "      <td>3 months</td>\n",
       "      <td>Domestic Shorthair</td>\n",
       "      <td>Calico</td>\n",
       "    </tr>\n",
       "  </tbody>\n",
       "</table>\n",
       "</div>"
      ],
      "text/plain": [
       "  animal_id      name                 datetime                monthyear  \\\n",
       "0   A808320      Kyha  2019-11-14T15:37:00.000  2019-11-14T15:37:00.000   \n",
       "1   A781697    Pookie  2019-11-14T15:33:00.000  2019-11-14T15:33:00.000   \n",
       "2   A808382       NaN  2019-11-14T14:57:00.000  2019-11-14T14:57:00.000   \n",
       "3   A806701  *Emerald  2019-11-14T14:41:00.000  2019-11-14T14:41:00.000   \n",
       "4   A804553    *Wendy  2019-11-14T14:36:00.000  2019-11-14T14:36:00.000   \n",
       "\n",
       "             date_of_birth outcome_type outcome_subtype animal_type  \\\n",
       "0  2017-11-07T00:00:00.000    Rto-Adopt             NaN         Dog   \n",
       "1  2017-10-05T00:00:00.000     Adoption             NaN         Dog   \n",
       "2  2014-11-08T00:00:00.000     Transfer         Partner         Cat   \n",
       "3  2019-09-02T00:00:00.000     Adoption          Foster         Cat   \n",
       "4  2019-08-09T00:00:00.000     Adoption          Foster         Cat   \n",
       "\n",
       "  sex_upon_outcome age_upon_outcome                breed             color  \n",
       "0    Spayed Female          2 years  German Shepherd Mix             Sable  \n",
       "1    Spayed Female          2 years        Cairn Terrier       White/Brown  \n",
       "2      Intact Male          5 years   Domestic Shorthair      Orange Tabby  \n",
       "3    Neutered Male         2 months   Domestic Shorthair  Blue Tabby/White  \n",
       "4    Spayed Female         3 months   Domestic Shorthair            Calico  "
      ]
     },
     "execution_count": 237,
     "metadata": {},
     "output_type": "execute_result"
    }
   ],
   "source": [
    "adoption.head()"
   ]
  },
  {
   "cell_type": "code",
   "execution_count": 238,
   "metadata": {},
   "outputs": [
    {
     "data": {
      "text/plain": [
       "(100000, 12)"
      ]
     },
     "execution_count": 238,
     "metadata": {},
     "output_type": "execute_result"
    }
   ],
   "source": [
    "adoption.shape"
   ]
  },
  {
   "cell_type": "markdown",
   "metadata": {},
   "source": [
    "The target in this project will be to predict whether or not an animal will be adopted or not (transferred to another shelter or, sadly, euthanized) so that perhaps animal shelters, though overwhelmed, can give some extra love or use unique methods to get those animals that may not have the best odds forever homes."
   ]
  },
  {
   "cell_type": "code",
   "execution_count": 239,
   "metadata": {},
   "outputs": [
    {
     "data": {
      "text/plain": [
       "Adoption           44390\n",
       "Transfer           29861\n",
       "Return to Owner    17510\n",
       "Euthanasia          6294\n",
       "Died                 969\n",
       "Rto-Adopt            508\n",
       "Disposal             387\n",
       "Missing               61\n",
       "Relocate              17\n",
       "NaN                    3\n",
       "Name: outcome_type, dtype: int64"
      ]
     },
     "execution_count": 239,
     "metadata": {},
     "output_type": "execute_result"
    }
   ],
   "source": [
    "adoption['outcome_type'].value_counts(dropna=False)"
   ]
  },
  {
   "cell_type": "code",
   "execution_count": 240,
   "metadata": {},
   "outputs": [
    {
     "data": {
      "text/plain": [
       "NaN                    54837\n",
       "Partner                24943\n",
       "Foster                  7953\n",
       "Rabies Risk             2789\n",
       "SCRP                    2636\n",
       "Suffering               2503\n",
       "Snr                     2279\n",
       "In Kennel                508\n",
       "Aggressive               358\n",
       "Offsite                  281\n",
       "Medical                  254\n",
       "In Foster                243\n",
       "At Vet                   171\n",
       "Behavior                  82\n",
       "Enroute                   65\n",
       "Underage                  29\n",
       "Court/Investigation       21\n",
       "In Surgery                19\n",
       "Possible Theft            15\n",
       "Field                      8\n",
       "Barn                       4\n",
       "Customer S                 1\n",
       "Prc                        1\n",
       "Name: outcome_subtype, dtype: int64"
      ]
     },
     "execution_count": 240,
     "metadata": {},
     "output_type": "execute_result"
    }
   ],
   "source": [
    "# this might be a feature that can create leakage, will come back to it.\n",
    "adoption['outcome_subtype'].value_counts(dropna=False)"
   ]
  },
  {
   "cell_type": "markdown",
   "metadata": {},
   "source": [
    "# Classification or Regression?"
   ]
  },
  {
   "cell_type": "markdown",
   "metadata": {},
   "source": [
    "There are 9 classes of outcomes but for this project I'd like to focus on the animals that were adopted or not. There are a large number of animals that were returned to owners but that would just be due to them getting out etc but they do have a home so I will not include those in my project. \"Rto-adopt\" or return to owner adoption will also be included with \"return to owner.\"\n",
    "\n",
    "For animals that were adopted I will consider that to be:  \n",
    "-adoption  \n",
    "-rto-adopt (return to owner through adoption)  \n",
    "\n",
    "\n",
    "I will combine the following for not adopted:  \n",
    "-transfer  \n",
    "-euthanasia  \n",
    "-relocate  \n",
    "-missing (animals that went missing from the shelter--still unsuccessful in getting them homes)  \n",
    "\"Died\" and \"disposal\" are animals that may have died while at the shelter or were brought in that needed to be properly disposed of so I will not include these either as they may have been very ill when brought in."
   ]
  },
  {
   "cell_type": "markdown",
   "metadata": {},
   "source": [
    "# How is the target distributed?\n",
    "## Are the classes imbalanced?"
   ]
  },
  {
   "cell_type": "code",
   "execution_count": 241,
   "metadata": {
    "scrolled": false
   },
   "outputs": [
    {
     "data": {
      "text/plain": [
       "Adoption           0.443913\n",
       "Transfer           0.298619\n",
       "Return to Owner    0.175105\n",
       "Euthanasia         0.062942\n",
       "Died               0.009690\n",
       "Rto-Adopt          0.005080\n",
       "Disposal           0.003870\n",
       "Missing            0.000610\n",
       "Relocate           0.000170\n",
       "Name: outcome_type, dtype: float64"
      ]
     },
     "execution_count": 241,
     "metadata": {},
     "output_type": "execute_result"
    }
   ],
   "source": [
    "adoption['outcome_type'].value_counts(normalize=True)"
   ]
  },
  {
   "cell_type": "markdown",
   "metadata": {},
   "source": [
    "will need to drop the rows where the outcome type are the ones listed above to be excluded:  \n",
    "-Return to owner  \n",
    "-Rto-adopt  \n",
    "-Died  \n",
    "-Disposal\n"
   ]
  },
  {
   "cell_type": "code",
   "execution_count": 242,
   "metadata": {},
   "outputs": [],
   "source": [
    "# adoption updated to drop the outcomes we are excluding:\n",
    "adoption_upd = adoption[~adoption['outcome_type'].isin(['Return to Owner', \n",
    "                                                        'Rto-Adopt', \n",
    "                                                        'Died', \n",
    "                                                        'Disposal'])]"
   ]
  },
  {
   "cell_type": "code",
   "execution_count": 243,
   "metadata": {},
   "outputs": [
    {
     "data": {
      "text/plain": [
       "Adoption      44390\n",
       "Transfer      29861\n",
       "Euthanasia     6294\n",
       "Missing          61\n",
       "Relocate         17\n",
       "NaN               3\n",
       "Name: outcome_type, dtype: int64"
      ]
     },
     "execution_count": 243,
     "metadata": {},
     "output_type": "execute_result"
    }
   ],
   "source": [
    "adoption_upd['outcome_type'].value_counts(dropna=False)"
   ]
  },
  {
   "cell_type": "code",
   "execution_count": 244,
   "metadata": {},
   "outputs": [],
   "source": [
    "# am going to drop all animals except cats and dogs, 2 of the unknown\n",
    "# outcome types are dogs and 1 also has a lot of other missing info so\n",
    "# will drop these rows.\n",
    "adoption_upd = adoption_upd.dropna(subset = ['outcome_type'])\n"
   ]
  },
  {
   "cell_type": "code",
   "execution_count": 245,
   "metadata": {},
   "outputs": [],
   "source": [
    "# need to redefine classes as binary. Adoption as 'adopted' and \n",
    "# the rest as 'not adopted'.\n",
    "def new_status(outcome):\n",
    "    if outcome == 'Transfer' or outcome == 'Euthanasia' or outcome == 'Missing' or outcome == 'Relocate':\n",
    "      return 'Not adopted'\n",
    "    else:\n",
    "      return 'Adopted'\n"
   ]
  },
  {
   "cell_type": "code",
   "execution_count": 246,
   "metadata": {},
   "outputs": [],
   "source": [
    "adoption_upd = adoption_upd.copy()\n",
    "adoption_upd['new_outcome_type'] = adoption_upd['outcome_type'].apply(new_status)"
   ]
  },
  {
   "cell_type": "code",
   "execution_count": 247,
   "metadata": {},
   "outputs": [
    {
     "data": {
      "text/plain": [
       "Adopted        0.550587\n",
       "Not adopted    0.449413\n",
       "Name: new_outcome_type, dtype: float64"
      ]
     },
     "execution_count": 247,
     "metadata": {},
     "output_type": "execute_result"
    }
   ],
   "source": [
    "adoption_upd['new_outcome_type'].value_counts(normalize=True)"
   ]
  },
  {
   "cell_type": "markdown",
   "metadata": {},
   "source": [
    "The classes now are combined into a binary classification and the classes are not imbalanced."
   ]
  },
  {
   "cell_type": "code",
   "execution_count": 248,
   "metadata": {},
   "outputs": [],
   "source": [
    "# drop the original 'Outcome_Type' column:\n",
    "adoption_upd = adoption_upd.drop(columns='outcome_type')"
   ]
  },
  {
   "cell_type": "markdown",
   "metadata": {},
   "source": [
    "# Choose Observations"
   ]
  },
  {
   "cell_type": "markdown",
   "metadata": {},
   "source": [
    "As mentioned above, since the focus of my project is predicting if animals that are in need of forever homes will be adopted or not, I have already excluded the following observations from my model:  \n",
    "-Return to Owner  \n",
    "-Rto-Adopt  \n",
    "-Died  \n",
    "-Disposal  \n",
    "\n",
    "There are 3 missing values for the outcome ,so we can try to look at the outcome subtype to see if we can determine what happened to them but the remaining animals have been categorized into 'adopted' or 'not adopted.'"
   ]
  },
  {
   "cell_type": "markdown",
   "metadata": {},
   "source": [
    "# How to Split Data:"
   ]
  },
  {
   "cell_type": "code",
   "execution_count": 249,
   "metadata": {},
   "outputs": [
    {
     "data": {
      "text/plain": [
       "animal_id           object\n",
       "name                object\n",
       "datetime            object\n",
       "monthyear           object\n",
       "date_of_birth       object\n",
       "outcome_subtype     object\n",
       "animal_type         object\n",
       "sex_upon_outcome    object\n",
       "age_upon_outcome    object\n",
       "breed               object\n",
       "color               object\n",
       "new_outcome_type    object\n",
       "dtype: object"
      ]
     },
     "execution_count": 249,
     "metadata": {},
     "output_type": "execute_result"
    }
   ],
   "source": [
    "adoption_upd.dtypes"
   ]
  },
  {
   "cell_type": "code",
   "execution_count": 250,
   "metadata": {},
   "outputs": [],
   "source": [
    "adoption_upd['datetime'] = pd.to_datetime(adoption_upd['datetime'], infer_datetime_format=True)"
   ]
  },
  {
   "cell_type": "code",
   "execution_count": 251,
   "metadata": {},
   "outputs": [
    {
     "data": {
      "text/plain": [
       "2015    14792\n",
       "2019    14373\n",
       "2016    14119\n",
       "2017    14058\n",
       "2018    13361\n",
       "2014     9920\n",
       "Name: datetime, dtype: int64"
      ]
     },
     "execution_count": 251,
     "metadata": {},
     "output_type": "execute_result"
    }
   ],
   "source": [
    "adoption_upd['datetime'].dt.year.value_counts()"
   ]
  },
  {
   "cell_type": "markdown",
   "metadata": {},
   "source": [
    "The description of the data set said that Austin is becoming a more pet-friendly city so there may be more animals going in and out of shelters in the more recent data vs the earlier data. I will therefore split the data based on time with the most recent data being the test set and then create a test and validation set with the remaining data.  \n",
    "\n",
    "test = adoption_upd[(adoption_upd['datetime'].dt.year == 2019)]  \n",
    "val =  adoption_upd[(adoption_upd['datetime'].dt.year == 2018)]  \n",
    "train = adoption_upd[(adoption_upd['datetime'].dt.year < 2018)]"
   ]
  },
  {
   "cell_type": "code",
   "execution_count": 252,
   "metadata": {},
   "outputs": [],
   "source": [
    "# how big to make test set? 2019:\n",
    "# 14292 observations"
   ]
  },
  {
   "cell_type": "markdown",
   "metadata": {},
   "source": [
    "# Evaluation Metrics"
   ]
  },
  {
   "cell_type": "markdown",
   "metadata": {},
   "source": [
    "since the classes aren't imbalanced I can use accuracy but will also explore the precision and recall for this problem.\n",
    "\n",
    "precision positive: correctly predict all the animals that were adopted.  \n",
    "\n",
    "\\begin{align}\n",
    "precision = \\frac{accurately \\ predicted \\ adopted}{total\\ predicted \\ adopted}\n",
    "\\end{align}\n"
   ]
  },
  {
   "cell_type": "markdown",
   "metadata": {},
   "source": [
    "recall positive: of all the animals that were adopted, how many were we able to identify?\n",
    "\\begin{align}\n",
    "recall = \\frac{accurately \\ predicted \\ adopted}{actually \\ adopted}\n",
    "\\end{align}\n"
   ]
  },
  {
   "cell_type": "markdown",
   "metadata": {},
   "source": [
    "# Begin to clean data and feature selection"
   ]
  },
  {
   "cell_type": "code",
   "execution_count": 253,
   "metadata": {},
   "outputs": [
    {
     "data": {
      "text/plain": [
       "animal_id               0\n",
       "name                30056\n",
       "datetime                0\n",
       "monthyear               0\n",
       "date_of_birth           0\n",
       "outcome_subtype     36351\n",
       "animal_type             0\n",
       "sex_upon_outcome        2\n",
       "age_upon_outcome       24\n",
       "breed                   0\n",
       "color                   0\n",
       "new_outcome_type        0\n",
       "dtype: int64"
      ]
     },
     "execution_count": 253,
     "metadata": {},
     "output_type": "execute_result"
    }
   ],
   "source": [
    "adoption_upd.isnull().sum()"
   ]
  },
  {
   "cell_type": "code",
   "execution_count": 254,
   "metadata": {},
   "outputs": [],
   "source": [
    "# the name column has a lot of missing values, will change NaN's to Unknown\n",
    "adoption_upd['name'].fillna(\"Unknown\", inplace = True)  "
   ]
  },
  {
   "cell_type": "code",
   "execution_count": 255,
   "metadata": {},
   "outputs": [
    {
     "data": {
      "text/plain": [
       "(80623, 11)"
      ]
     },
     "execution_count": 255,
     "metadata": {},
     "output_type": "execute_result"
    }
   ],
   "source": [
    "# the outcome subtype is missing 36353 values, almost half of all of our \n",
    "# data, since we will know all of the outcome types and this may cause \n",
    "# leakage into the test set because certain outcomes can be deduced from \n",
    "# the outcome subtype, I will drop that entire column.\n",
    "\n",
    "adoption_upd = adoption_upd.drop(columns='outcome_subtype')\n",
    "adoption_upd.shape\n"
   ]
  },
  {
   "cell_type": "code",
   "execution_count": 256,
   "metadata": {},
   "outputs": [
    {
     "data": {
      "text/plain": [
       "Neutered Male    27561\n",
       "Spayed Female    26019\n",
       "Intact Female    10098\n",
       "Intact Male       9372\n",
       "Unknown           7571\n",
       "Name: sex_upon_outcome, dtype: int64"
      ]
     },
     "execution_count": 256,
     "metadata": {},
     "output_type": "execute_result"
    }
   ],
   "source": [
    "# the sex_upon_outcome column has 2 missing values but noticed an 'unknown'\n",
    "# value so check to see if that's common:\n",
    "adoption_upd['sex_upon_outcome'].value_counts()\n",
    "# will one hot encode this column."
   ]
  },
  {
   "cell_type": "code",
   "execution_count": 257,
   "metadata": {},
   "outputs": [
    {
     "data": {
      "text/plain": [
       "animal_id               0\n",
       "name                30074\n",
       "datetime                0\n",
       "monthyear               0\n",
       "date_of_birth           0\n",
       "animal_type             0\n",
       "sex_upon_outcome     7571\n",
       "age_upon_outcome        0\n",
       "breed                   0\n",
       "color                   0\n",
       "new_outcome_type        0\n",
       "dtype: int64"
      ]
     },
     "execution_count": 257,
     "metadata": {},
     "output_type": "execute_result"
    }
   ],
   "source": [
    "# age_upon_outcome has 25 missing values but date_of_birth has none, lets\n",
    "# look at how many times 'unknown' shows up in the data:\n",
    "adoption_upd.isin(['Unknown']).sum()\n",
    "# the name already has 18 unknowns, so will stick to changing NaN's to unknown."
   ]
  },
  {
   "cell_type": "code",
   "execution_count": 258,
   "metadata": {},
   "outputs": [
    {
     "data": {
      "text/plain": [
       "animal_id              0\n",
       "name                   0\n",
       "datetime               0\n",
       "monthyear              0\n",
       "date_of_birth          0\n",
       "animal_type         4450\n",
       "sex_upon_outcome       0\n",
       "age_upon_outcome       0\n",
       "breed                  0\n",
       "color                  0\n",
       "new_outcome_type       0\n",
       "dtype: int64"
      ]
     },
     "execution_count": 258,
     "metadata": {},
     "output_type": "execute_result"
    }
   ],
   "source": [
    "# to see if 'Other is a common entry as well'\n",
    "adoption_upd.isin(['Other']).sum()"
   ]
  },
  {
   "cell_type": "code",
   "execution_count": 259,
   "metadata": {},
   "outputs": [
    {
     "data": {
      "text/plain": [
       "Dog          39758\n",
       "Cat          35974\n",
       "Other         4450\n",
       "Bird           432\n",
       "Livestock        9\n",
       "Name: animal_type, dtype: int64"
      ]
     },
     "execution_count": 259,
     "metadata": {},
     "output_type": "execute_result"
    }
   ],
   "source": [
    "# to see what kind of animals come in to the shelter\n",
    "adoption_upd['animal_type'].value_counts()"
   ]
  },
  {
   "cell_type": "code",
   "execution_count": 260,
   "metadata": {},
   "outputs": [],
   "source": [
    "# initially thinking of only using cats and dogs.\n",
    "adoption_upd = adoption_upd[~adoption_upd['animal_type'].isin(['Bird', \n",
    "                                                        'Other', \n",
    "                                                        'Livestock'])]"
   ]
  },
  {
   "cell_type": "code",
   "execution_count": 261,
   "metadata": {},
   "outputs": [
    {
     "data": {
      "text/plain": [
       "animal_id           0\n",
       "name                0\n",
       "datetime            0\n",
       "monthyear           0\n",
       "date_of_birth       0\n",
       "animal_type         0\n",
       "sex_upon_outcome    2\n",
       "age_upon_outcome    8\n",
       "breed               0\n",
       "color               0\n",
       "new_outcome_type    0\n",
       "dtype: int64"
      ]
     },
     "execution_count": 261,
     "metadata": {},
     "output_type": "execute_result"
    }
   ],
   "source": [
    "# check for missing values now:\n",
    "adoption_upd.isnull().sum()"
   ]
  },
  {
   "cell_type": "code",
   "execution_count": 262,
   "metadata": {},
   "outputs": [],
   "source": [
    "adoption_upd['date_of_birth'] = pd.to_datetime(adoption_upd['date_of_birth'], infer_datetime_format=True)"
   ]
  },
  {
   "cell_type": "code",
   "execution_count": 263,
   "metadata": {
    "scrolled": true
   },
   "outputs": [
    {
     "data": {
      "text/html": [
       "<div>\n",
       "<style scoped>\n",
       "    .dataframe tbody tr th:only-of-type {\n",
       "        vertical-align: middle;\n",
       "    }\n",
       "\n",
       "    .dataframe tbody tr th {\n",
       "        vertical-align: top;\n",
       "    }\n",
       "\n",
       "    .dataframe thead th {\n",
       "        text-align: right;\n",
       "    }\n",
       "</style>\n",
       "<table border=\"1\" class=\"dataframe\">\n",
       "  <thead>\n",
       "    <tr style=\"text-align: right;\">\n",
       "      <th></th>\n",
       "      <th>animal_id</th>\n",
       "      <th>name</th>\n",
       "      <th>datetime</th>\n",
       "      <th>monthyear</th>\n",
       "      <th>date_of_birth</th>\n",
       "      <th>animal_type</th>\n",
       "      <th>sex_upon_outcome</th>\n",
       "      <th>age_upon_outcome</th>\n",
       "      <th>breed</th>\n",
       "      <th>color</th>\n",
       "      <th>new_outcome_type</th>\n",
       "    </tr>\n",
       "  </thead>\n",
       "  <tbody>\n",
       "    <tr>\n",
       "      <th>59</th>\n",
       "      <td>A808636</td>\n",
       "      <td>Unknown</td>\n",
       "      <td>2019-11-13 13:46:00</td>\n",
       "      <td>2019-11-13T13:46:00.000</td>\n",
       "      <td>2004-11-11</td>\n",
       "      <td>Cat</td>\n",
       "      <td>Intact Female</td>\n",
       "      <td>NaN</td>\n",
       "      <td>Siamese</td>\n",
       "      <td>Seal Point</td>\n",
       "      <td>Not adopted</td>\n",
       "    </tr>\n",
       "    <tr>\n",
       "      <th>96</th>\n",
       "      <td>A808702</td>\n",
       "      <td>Keepers</td>\n",
       "      <td>2019-11-12 15:20:00</td>\n",
       "      <td>2019-11-12T15:20:00.000</td>\n",
       "      <td>2009-11-12</td>\n",
       "      <td>Dog</td>\n",
       "      <td>Neutered Male</td>\n",
       "      <td>NaN</td>\n",
       "      <td>Golden Retriever</td>\n",
       "      <td>Gold</td>\n",
       "      <td>Not adopted</td>\n",
       "    </tr>\n",
       "    <tr>\n",
       "      <th>131</th>\n",
       "      <td>A808649</td>\n",
       "      <td>Unknown</td>\n",
       "      <td>2019-11-11 17:49:00</td>\n",
       "      <td>2019-11-11T17:49:00.000</td>\n",
       "      <td>2019-10-11</td>\n",
       "      <td>Cat</td>\n",
       "      <td>Intact Male</td>\n",
       "      <td>NaN</td>\n",
       "      <td>Domestic Shorthair</td>\n",
       "      <td>Brown Tabby</td>\n",
       "      <td>Not adopted</td>\n",
       "    </tr>\n",
       "    <tr>\n",
       "      <th>132</th>\n",
       "      <td>A738697</td>\n",
       "      <td>Boots</td>\n",
       "      <td>2019-11-11 17:48:00</td>\n",
       "      <td>2019-11-11T17:48:00.000</td>\n",
       "      <td>2007-11-17</td>\n",
       "      <td>Dog</td>\n",
       "      <td>NaN</td>\n",
       "      <td>NaN</td>\n",
       "      <td>Miniature Schnauzer Mix</td>\n",
       "      <td>Black</td>\n",
       "      <td>Not adopted</td>\n",
       "    </tr>\n",
       "    <tr>\n",
       "      <th>161</th>\n",
       "      <td>A808626</td>\n",
       "      <td>Unknown</td>\n",
       "      <td>2019-11-11 13:57:00</td>\n",
       "      <td>2019-11-11T13:57:00.000</td>\n",
       "      <td>2019-09-11</td>\n",
       "      <td>Cat</td>\n",
       "      <td>Intact Female</td>\n",
       "      <td>NaN</td>\n",
       "      <td>Domestic Shorthair</td>\n",
       "      <td>Brown Tabby</td>\n",
       "      <td>Not adopted</td>\n",
       "    </tr>\n",
       "    <tr>\n",
       "      <th>214</th>\n",
       "      <td>A808466</td>\n",
       "      <td>Unknown</td>\n",
       "      <td>2019-11-10 09:35:00</td>\n",
       "      <td>2019-11-10T09:35:00.000</td>\n",
       "      <td>2019-09-09</td>\n",
       "      <td>Cat</td>\n",
       "      <td>Intact Male</td>\n",
       "      <td>NaN</td>\n",
       "      <td>Domestic Shorthair</td>\n",
       "      <td>Brown/Black</td>\n",
       "      <td>Not adopted</td>\n",
       "    </tr>\n",
       "    <tr>\n",
       "      <th>347</th>\n",
       "      <td>A808352</td>\n",
       "      <td>Unknown</td>\n",
       "      <td>2019-11-07 16:15:00</td>\n",
       "      <td>2019-11-07T16:15:00.000</td>\n",
       "      <td>2011-11-07</td>\n",
       "      <td>Dog</td>\n",
       "      <td>Intact Male</td>\n",
       "      <td>NaN</td>\n",
       "      <td>Dachshund Mix</td>\n",
       "      <td>Tan</td>\n",
       "      <td>Not adopted</td>\n",
       "    </tr>\n",
       "    <tr>\n",
       "      <th>6649</th>\n",
       "      <td>A752967</td>\n",
       "      <td>Gray</td>\n",
       "      <td>2019-07-24 11:42:00</td>\n",
       "      <td>2019-07-24T11:42:00.000</td>\n",
       "      <td>2015-06-29</td>\n",
       "      <td>Dog</td>\n",
       "      <td>NaN</td>\n",
       "      <td>NaN</td>\n",
       "      <td>Pit Bull Mix</td>\n",
       "      <td>Blue/White</td>\n",
       "      <td>Not adopted</td>\n",
       "    </tr>\n",
       "  </tbody>\n",
       "</table>\n",
       "</div>"
      ],
      "text/plain": [
       "     animal_id     name            datetime                monthyear  \\\n",
       "59     A808636  Unknown 2019-11-13 13:46:00  2019-11-13T13:46:00.000   \n",
       "96     A808702  Keepers 2019-11-12 15:20:00  2019-11-12T15:20:00.000   \n",
       "131    A808649  Unknown 2019-11-11 17:49:00  2019-11-11T17:49:00.000   \n",
       "132    A738697    Boots 2019-11-11 17:48:00  2019-11-11T17:48:00.000   \n",
       "161    A808626  Unknown 2019-11-11 13:57:00  2019-11-11T13:57:00.000   \n",
       "214    A808466  Unknown 2019-11-10 09:35:00  2019-11-10T09:35:00.000   \n",
       "347    A808352  Unknown 2019-11-07 16:15:00  2019-11-07T16:15:00.000   \n",
       "6649   A752967     Gray 2019-07-24 11:42:00  2019-07-24T11:42:00.000   \n",
       "\n",
       "     date_of_birth animal_type sex_upon_outcome age_upon_outcome  \\\n",
       "59      2004-11-11         Cat    Intact Female              NaN   \n",
       "96      2009-11-12         Dog    Neutered Male              NaN   \n",
       "131     2019-10-11         Cat      Intact Male              NaN   \n",
       "132     2007-11-17         Dog              NaN              NaN   \n",
       "161     2019-09-11         Cat    Intact Female              NaN   \n",
       "214     2019-09-09         Cat      Intact Male              NaN   \n",
       "347     2011-11-07         Dog      Intact Male              NaN   \n",
       "6649    2015-06-29         Dog              NaN              NaN   \n",
       "\n",
       "                        breed        color new_outcome_type  \n",
       "59                    Siamese   Seal Point      Not adopted  \n",
       "96           Golden Retriever         Gold      Not adopted  \n",
       "131        Domestic Shorthair  Brown Tabby      Not adopted  \n",
       "132   Miniature Schnauzer Mix        Black      Not adopted  \n",
       "161        Domestic Shorthair  Brown Tabby      Not adopted  \n",
       "214        Domestic Shorthair  Brown/Black      Not adopted  \n",
       "347             Dachshund Mix          Tan      Not adopted  \n",
       "6649             Pit Bull Mix   Blue/White      Not adopted  "
      ]
     },
     "execution_count": 263,
     "metadata": {},
     "output_type": "execute_result"
    }
   ],
   "source": [
    "adoption_upd.loc[adoption_upd['age_upon_outcome'].isnull()]"
   ]
  },
  {
   "cell_type": "code",
   "execution_count": 264,
   "metadata": {},
   "outputs": [],
   "source": [
    "# 2 of the rows that are missing the age are also missing the sex so I will\n",
    "# drop those:\n",
    "adoption_upd = adoption_upd.dropna(subset = ['sex_upon_outcome'])"
   ]
  },
  {
   "cell_type": "code",
   "execution_count": 265,
   "metadata": {},
   "outputs": [],
   "source": [
    "# since there are no missing or unknown values for DOB which still seems strange \n",
    "# especially for stray animals that were found but maybe they approximated. We can \n",
    "# create a column where we subtract 2019 from the born on year to get the age and see \n",
    "# if there are a lot of differences.\n",
    "\n",
    "now = pd.Timestamp('now')\n",
    "# first, get DOB year column and DOB month columns:\n",
    "adoption_upd['DOB_month'] = adoption_upd['date_of_birth'].dt.month\n",
    "# now, subtract current year from DOB year:\n",
    "adoption_upd['DOB_year'] = now.year - adoption_upd['date_of_birth'].dt.year\n",
    "# now turn DOB_year into months by multiplying by 12\n",
    "adoption_upd['DOB_year'] = adoption_upd['DOB_year'] * 12\n",
    "# add DOB_year which is now in months to DOB month and divide by 12 to get years\n",
    "adoption_upd['calculated_age'] = adoption_upd['DOB_year'] + adoption_upd['DOB_month']\n",
    "def calculate_age(age):\n",
    "        if age >= 12:\n",
    "            return(f'{age // 12} years')\n",
    "        else:\n",
    "            return(f'{age} months') \n",
    "adoption_upd['calculated_age'] = adoption_upd['calculated_age'].apply(calculate_age)\n",
    "# fill NaN's in age upon outcome column with calculated age\n",
    "adoption_upd['age_upon_outcome'].fillna(adoption_upd['calculated_age'], inplace=True)\n",
    "# drop DOB month, DOB year, calculated age:\n",
    "adoption_upd.drop(columns =['DOB_month', 'DOB_year', 'calculated_age'], inplace=True)"
   ]
  },
  {
   "cell_type": "code",
   "execution_count": 266,
   "metadata": {},
   "outputs": [
    {
     "data": {
      "text/plain": [
       "animal_id           0\n",
       "name                0\n",
       "datetime            0\n",
       "monthyear           0\n",
       "date_of_birth       0\n",
       "animal_type         0\n",
       "sex_upon_outcome    0\n",
       "age_upon_outcome    0\n",
       "breed               0\n",
       "color               0\n",
       "new_outcome_type    0\n",
       "dtype: int64"
      ]
     },
     "execution_count": 266,
     "metadata": {},
     "output_type": "execute_result"
    }
   ],
   "source": [
    "adoption_upd.isnull().sum()\n",
    "# no more missing values!"
   ]
  },
  {
   "cell_type": "code",
   "execution_count": 267,
   "metadata": {},
   "outputs": [
    {
     "data": {
      "text/html": [
       "<div>\n",
       "<style scoped>\n",
       "    .dataframe tbody tr th:only-of-type {\n",
       "        vertical-align: middle;\n",
       "    }\n",
       "\n",
       "    .dataframe tbody tr th {\n",
       "        vertical-align: top;\n",
       "    }\n",
       "\n",
       "    .dataframe thead th {\n",
       "        text-align: right;\n",
       "    }\n",
       "</style>\n",
       "<table border=\"1\" class=\"dataframe\">\n",
       "  <thead>\n",
       "    <tr style=\"text-align: right;\">\n",
       "      <th></th>\n",
       "      <th>animal_id</th>\n",
       "      <th>name</th>\n",
       "      <th>datetime</th>\n",
       "      <th>monthyear</th>\n",
       "      <th>date_of_birth</th>\n",
       "      <th>animal_type</th>\n",
       "      <th>sex_upon_outcome</th>\n",
       "      <th>age_upon_outcome</th>\n",
       "      <th>breed</th>\n",
       "      <th>color</th>\n",
       "      <th>new_outcome_type</th>\n",
       "    </tr>\n",
       "  </thead>\n",
       "  <tbody>\n",
       "    <tr>\n",
       "      <th>1</th>\n",
       "      <td>A781697</td>\n",
       "      <td>Pookie</td>\n",
       "      <td>2019-11-14 15:33:00</td>\n",
       "      <td>2019-11-14T15:33:00.000</td>\n",
       "      <td>2017-10-05</td>\n",
       "      <td>Dog</td>\n",
       "      <td>Spayed Female</td>\n",
       "      <td>2 years</td>\n",
       "      <td>Cairn Terrier</td>\n",
       "      <td>White/Brown</td>\n",
       "      <td>Adopted</td>\n",
       "    </tr>\n",
       "    <tr>\n",
       "      <th>2</th>\n",
       "      <td>A808382</td>\n",
       "      <td>Unknown</td>\n",
       "      <td>2019-11-14 14:57:00</td>\n",
       "      <td>2019-11-14T14:57:00.000</td>\n",
       "      <td>2014-11-08</td>\n",
       "      <td>Cat</td>\n",
       "      <td>Intact Male</td>\n",
       "      <td>5 years</td>\n",
       "      <td>Domestic Shorthair</td>\n",
       "      <td>Orange Tabby</td>\n",
       "      <td>Not adopted</td>\n",
       "    </tr>\n",
       "    <tr>\n",
       "      <th>3</th>\n",
       "      <td>A806701</td>\n",
       "      <td>*Emerald</td>\n",
       "      <td>2019-11-14 14:41:00</td>\n",
       "      <td>2019-11-14T14:41:00.000</td>\n",
       "      <td>2019-09-02</td>\n",
       "      <td>Cat</td>\n",
       "      <td>Neutered Male</td>\n",
       "      <td>2 months</td>\n",
       "      <td>Domestic Shorthair</td>\n",
       "      <td>Blue Tabby/White</td>\n",
       "      <td>Adopted</td>\n",
       "    </tr>\n",
       "    <tr>\n",
       "      <th>4</th>\n",
       "      <td>A804553</td>\n",
       "      <td>*Wendy</td>\n",
       "      <td>2019-11-14 14:36:00</td>\n",
       "      <td>2019-11-14T14:36:00.000</td>\n",
       "      <td>2019-08-09</td>\n",
       "      <td>Cat</td>\n",
       "      <td>Spayed Female</td>\n",
       "      <td>3 months</td>\n",
       "      <td>Domestic Shorthair</td>\n",
       "      <td>Calico</td>\n",
       "      <td>Adopted</td>\n",
       "    </tr>\n",
       "    <tr>\n",
       "      <th>5</th>\n",
       "      <td>A804552</td>\n",
       "      <td>*Tinkerbell</td>\n",
       "      <td>2019-11-14 14:35:00</td>\n",
       "      <td>2019-11-14T14:35:00.000</td>\n",
       "      <td>2019-08-09</td>\n",
       "      <td>Cat</td>\n",
       "      <td>Spayed Female</td>\n",
       "      <td>3 months</td>\n",
       "      <td>Domestic Shorthair</td>\n",
       "      <td>Calico</td>\n",
       "      <td>Adopted</td>\n",
       "    </tr>\n",
       "  </tbody>\n",
       "</table>\n",
       "</div>"
      ],
      "text/plain": [
       "  animal_id         name            datetime                monthyear  \\\n",
       "1   A781697       Pookie 2019-11-14 15:33:00  2019-11-14T15:33:00.000   \n",
       "2   A808382      Unknown 2019-11-14 14:57:00  2019-11-14T14:57:00.000   \n",
       "3   A806701     *Emerald 2019-11-14 14:41:00  2019-11-14T14:41:00.000   \n",
       "4   A804553       *Wendy 2019-11-14 14:36:00  2019-11-14T14:36:00.000   \n",
       "5   A804552  *Tinkerbell 2019-11-14 14:35:00  2019-11-14T14:35:00.000   \n",
       "\n",
       "  date_of_birth animal_type sex_upon_outcome age_upon_outcome  \\\n",
       "1    2017-10-05         Dog    Spayed Female          2 years   \n",
       "2    2014-11-08         Cat      Intact Male          5 years   \n",
       "3    2019-09-02         Cat    Neutered Male         2 months   \n",
       "4    2019-08-09         Cat    Spayed Female         3 months   \n",
       "5    2019-08-09         Cat    Spayed Female         3 months   \n",
       "\n",
       "                breed             color new_outcome_type  \n",
       "1       Cairn Terrier       White/Brown          Adopted  \n",
       "2  Domestic Shorthair      Orange Tabby      Not adopted  \n",
       "3  Domestic Shorthair  Blue Tabby/White          Adopted  \n",
       "4  Domestic Shorthair            Calico          Adopted  \n",
       "5  Domestic Shorthair            Calico          Adopted  "
      ]
     },
     "execution_count": 267,
     "metadata": {},
     "output_type": "execute_result"
    }
   ],
   "source": [
    "adoption_upd.head()"
   ]
  },
  {
   "cell_type": "code",
   "execution_count": 268,
   "metadata": {},
   "outputs": [],
   "source": [
    "# looking at redundant columns, date of birth can be dropped since the ages are all accounted for.\n",
    "# also datetime and monthyear are the same, I will get rid of datetime for now.\n",
    "adoption_upd.drop(columns=['date_of_birth'], inplace=True)"
   ]
  },
  {
   "cell_type": "code",
   "execution_count": 269,
   "metadata": {},
   "outputs": [
    {
     "data": {
      "text/html": [
       "<div>\n",
       "<style scoped>\n",
       "    .dataframe tbody tr th:only-of-type {\n",
       "        vertical-align: middle;\n",
       "    }\n",
       "\n",
       "    .dataframe tbody tr th {\n",
       "        vertical-align: top;\n",
       "    }\n",
       "\n",
       "    .dataframe thead th {\n",
       "        text-align: right;\n",
       "    }\n",
       "</style>\n",
       "<table border=\"1\" class=\"dataframe\">\n",
       "  <thead>\n",
       "    <tr style=\"text-align: right;\">\n",
       "      <th></th>\n",
       "      <th>animal_id</th>\n",
       "      <th>name</th>\n",
       "      <th>datetime</th>\n",
       "      <th>monthyear</th>\n",
       "      <th>animal_type</th>\n",
       "      <th>sex_upon_outcome</th>\n",
       "      <th>age_upon_outcome</th>\n",
       "      <th>breed</th>\n",
       "      <th>color</th>\n",
       "      <th>new_outcome_type</th>\n",
       "      <th>month_arrived</th>\n",
       "    </tr>\n",
       "  </thead>\n",
       "  <tbody>\n",
       "    <tr>\n",
       "      <th>1</th>\n",
       "      <td>A781697</td>\n",
       "      <td>Pookie</td>\n",
       "      <td>2019-11-14 15:33:00</td>\n",
       "      <td>2019-11-14 15:33:00</td>\n",
       "      <td>Dog</td>\n",
       "      <td>Spayed Female</td>\n",
       "      <td>2 years</td>\n",
       "      <td>Cairn Terrier</td>\n",
       "      <td>White/Brown</td>\n",
       "      <td>Adopted</td>\n",
       "      <td>11</td>\n",
       "    </tr>\n",
       "    <tr>\n",
       "      <th>2</th>\n",
       "      <td>A808382</td>\n",
       "      <td>Unknown</td>\n",
       "      <td>2019-11-14 14:57:00</td>\n",
       "      <td>2019-11-14 14:57:00</td>\n",
       "      <td>Cat</td>\n",
       "      <td>Intact Male</td>\n",
       "      <td>5 years</td>\n",
       "      <td>Domestic Shorthair</td>\n",
       "      <td>Orange Tabby</td>\n",
       "      <td>Not adopted</td>\n",
       "      <td>11</td>\n",
       "    </tr>\n",
       "    <tr>\n",
       "      <th>3</th>\n",
       "      <td>A806701</td>\n",
       "      <td>*Emerald</td>\n",
       "      <td>2019-11-14 14:41:00</td>\n",
       "      <td>2019-11-14 14:41:00</td>\n",
       "      <td>Cat</td>\n",
       "      <td>Neutered Male</td>\n",
       "      <td>2 months</td>\n",
       "      <td>Domestic Shorthair</td>\n",
       "      <td>Blue Tabby/White</td>\n",
       "      <td>Adopted</td>\n",
       "      <td>11</td>\n",
       "    </tr>\n",
       "    <tr>\n",
       "      <th>4</th>\n",
       "      <td>A804553</td>\n",
       "      <td>*Wendy</td>\n",
       "      <td>2019-11-14 14:36:00</td>\n",
       "      <td>2019-11-14 14:36:00</td>\n",
       "      <td>Cat</td>\n",
       "      <td>Spayed Female</td>\n",
       "      <td>3 months</td>\n",
       "      <td>Domestic Shorthair</td>\n",
       "      <td>Calico</td>\n",
       "      <td>Adopted</td>\n",
       "      <td>11</td>\n",
       "    </tr>\n",
       "    <tr>\n",
       "      <th>5</th>\n",
       "      <td>A804552</td>\n",
       "      <td>*Tinkerbell</td>\n",
       "      <td>2019-11-14 14:35:00</td>\n",
       "      <td>2019-11-14 14:35:00</td>\n",
       "      <td>Cat</td>\n",
       "      <td>Spayed Female</td>\n",
       "      <td>3 months</td>\n",
       "      <td>Domestic Shorthair</td>\n",
       "      <td>Calico</td>\n",
       "      <td>Adopted</td>\n",
       "      <td>11</td>\n",
       "    </tr>\n",
       "  </tbody>\n",
       "</table>\n",
       "</div>"
      ],
      "text/plain": [
       "  animal_id         name            datetime           monthyear animal_type  \\\n",
       "1   A781697       Pookie 2019-11-14 15:33:00 2019-11-14 15:33:00         Dog   \n",
       "2   A808382      Unknown 2019-11-14 14:57:00 2019-11-14 14:57:00         Cat   \n",
       "3   A806701     *Emerald 2019-11-14 14:41:00 2019-11-14 14:41:00         Cat   \n",
       "4   A804553       *Wendy 2019-11-14 14:36:00 2019-11-14 14:36:00         Cat   \n",
       "5   A804552  *Tinkerbell 2019-11-14 14:35:00 2019-11-14 14:35:00         Cat   \n",
       "\n",
       "  sex_upon_outcome age_upon_outcome               breed             color  \\\n",
       "1    Spayed Female          2 years       Cairn Terrier       White/Brown   \n",
       "2      Intact Male          5 years  Domestic Shorthair      Orange Tabby   \n",
       "3    Neutered Male         2 months  Domestic Shorthair  Blue Tabby/White   \n",
       "4    Spayed Female         3 months  Domestic Shorthair            Calico   \n",
       "5    Spayed Female         3 months  Domestic Shorthair            Calico   \n",
       "\n",
       "  new_outcome_type  month_arrived  \n",
       "1          Adopted             11  \n",
       "2      Not adopted             11  \n",
       "3          Adopted             11  \n",
       "4          Adopted             11  \n",
       "5          Adopted             11  "
      ]
     },
     "execution_count": 269,
     "metadata": {},
     "output_type": "execute_result"
    }
   ],
   "source": [
    "# going to create a new column for the season the animal came into the shelter to see if certain\n",
    "# seasons have higher adoption rates:\n",
    "adoption_upd['monthyear'] = pd.to_datetime(adoption_upd['monthyear'], infer_datetime_format=True)\n",
    "adoption_upd['month_arrived'] = adoption_upd['monthyear'].dt.month\n",
    "adoption_upd.head()\n"
   ]
  },
  {
   "cell_type": "code",
   "execution_count": 270,
   "metadata": {},
   "outputs": [],
   "source": [
    "def season(arrival_month):\n",
    "    if arrival_month == 1 or arrival_month == 2 or arrival_month == 3:\n",
    "        return 'Winter'\n",
    "    if arrival_month == 3 or arrival_month == 4 or arrival_month ==5:\n",
    "        return 'Spring'\n",
    "    if arrival_month == 6 or arrival_month == 7 or arrival_month ==8:\n",
    "        return 'Summer'\n",
    "    if arrival_month == 9 or arrival_month == 10 or arrival_month ==11:\n",
    "        return 'Fall'\n",
    "adoption_upd['season_arrived'] = adoption_upd['month_arrived'].apply(season)"
   ]
  },
  {
   "cell_type": "code",
   "execution_count": 271,
   "metadata": {},
   "outputs": [],
   "source": [
    "# want to change the datetime column to year only since we have month_arrived now:\n",
    "adoption_upd['year_arrived'] = adoption_upd['datetime'].dt.year"
   ]
  },
  {
   "cell_type": "code",
   "execution_count": 272,
   "metadata": {},
   "outputs": [],
   "source": [
    "# going to drop datetime and monthyear now:\n",
    "adoption_upd.drop(columns=['datetime', 'monthyear'], inplace=True)"
   ]
  },
  {
   "cell_type": "code",
   "execution_count": 273,
   "metadata": {},
   "outputs": [
    {
     "data": {
      "text/html": [
       "<div>\n",
       "<style scoped>\n",
       "    .dataframe tbody tr th:only-of-type {\n",
       "        vertical-align: middle;\n",
       "    }\n",
       "\n",
       "    .dataframe tbody tr th {\n",
       "        vertical-align: top;\n",
       "    }\n",
       "\n",
       "    .dataframe thead th {\n",
       "        text-align: right;\n",
       "    }\n",
       "</style>\n",
       "<table border=\"1\" class=\"dataframe\">\n",
       "  <thead>\n",
       "    <tr style=\"text-align: right;\">\n",
       "      <th></th>\n",
       "      <th>animal_id</th>\n",
       "      <th>name</th>\n",
       "      <th>animal_type</th>\n",
       "      <th>sex_upon_outcome</th>\n",
       "      <th>age_upon_outcome</th>\n",
       "      <th>breed</th>\n",
       "      <th>color</th>\n",
       "      <th>new_outcome_type</th>\n",
       "      <th>month_arrived</th>\n",
       "      <th>season_arrived</th>\n",
       "      <th>year_arrived</th>\n",
       "    </tr>\n",
       "  </thead>\n",
       "  <tbody>\n",
       "    <tr>\n",
       "      <th>1</th>\n",
       "      <td>A781697</td>\n",
       "      <td>Pookie</td>\n",
       "      <td>Dog</td>\n",
       "      <td>Spayed Female</td>\n",
       "      <td>2 years</td>\n",
       "      <td>Cairn Terrier</td>\n",
       "      <td>White/Brown</td>\n",
       "      <td>Adopted</td>\n",
       "      <td>11</td>\n",
       "      <td>Fall</td>\n",
       "      <td>2019</td>\n",
       "    </tr>\n",
       "    <tr>\n",
       "      <th>2</th>\n",
       "      <td>A808382</td>\n",
       "      <td>Unknown</td>\n",
       "      <td>Cat</td>\n",
       "      <td>Intact Male</td>\n",
       "      <td>5 years</td>\n",
       "      <td>Domestic Shorthair</td>\n",
       "      <td>Orange Tabby</td>\n",
       "      <td>Not adopted</td>\n",
       "      <td>11</td>\n",
       "      <td>Fall</td>\n",
       "      <td>2019</td>\n",
       "    </tr>\n",
       "    <tr>\n",
       "      <th>3</th>\n",
       "      <td>A806701</td>\n",
       "      <td>*Emerald</td>\n",
       "      <td>Cat</td>\n",
       "      <td>Neutered Male</td>\n",
       "      <td>2 months</td>\n",
       "      <td>Domestic Shorthair</td>\n",
       "      <td>Blue Tabby/White</td>\n",
       "      <td>Adopted</td>\n",
       "      <td>11</td>\n",
       "      <td>Fall</td>\n",
       "      <td>2019</td>\n",
       "    </tr>\n",
       "    <tr>\n",
       "      <th>4</th>\n",
       "      <td>A804553</td>\n",
       "      <td>*Wendy</td>\n",
       "      <td>Cat</td>\n",
       "      <td>Spayed Female</td>\n",
       "      <td>3 months</td>\n",
       "      <td>Domestic Shorthair</td>\n",
       "      <td>Calico</td>\n",
       "      <td>Adopted</td>\n",
       "      <td>11</td>\n",
       "      <td>Fall</td>\n",
       "      <td>2019</td>\n",
       "    </tr>\n",
       "    <tr>\n",
       "      <th>5</th>\n",
       "      <td>A804552</td>\n",
       "      <td>*Tinkerbell</td>\n",
       "      <td>Cat</td>\n",
       "      <td>Spayed Female</td>\n",
       "      <td>3 months</td>\n",
       "      <td>Domestic Shorthair</td>\n",
       "      <td>Calico</td>\n",
       "      <td>Adopted</td>\n",
       "      <td>11</td>\n",
       "      <td>Fall</td>\n",
       "      <td>2019</td>\n",
       "    </tr>\n",
       "    <tr>\n",
       "      <th>6</th>\n",
       "      <td>A808132</td>\n",
       "      <td>Daryl</td>\n",
       "      <td>Cat</td>\n",
       "      <td>Neutered Male</td>\n",
       "      <td>5 years</td>\n",
       "      <td>Domestic Shorthair</td>\n",
       "      <td>Brown Tabby/White</td>\n",
       "      <td>Adopted</td>\n",
       "      <td>11</td>\n",
       "      <td>Fall</td>\n",
       "      <td>2019</td>\n",
       "    </tr>\n",
       "    <tr>\n",
       "      <th>7</th>\n",
       "      <td>A805655</td>\n",
       "      <td>*Fezzik</td>\n",
       "      <td>Cat</td>\n",
       "      <td>Neutered Male</td>\n",
       "      <td>2 months</td>\n",
       "      <td>Domestic Shorthair</td>\n",
       "      <td>Orange Tabby</td>\n",
       "      <td>Adopted</td>\n",
       "      <td>11</td>\n",
       "      <td>Fall</td>\n",
       "      <td>2019</td>\n",
       "    </tr>\n",
       "    <tr>\n",
       "      <th>9</th>\n",
       "      <td>A808526</td>\n",
       "      <td>Jugez</td>\n",
       "      <td>Dog</td>\n",
       "      <td>Spayed Female</td>\n",
       "      <td>13 years</td>\n",
       "      <td>Shih Tzu</td>\n",
       "      <td>Brown/Cream</td>\n",
       "      <td>Not adopted</td>\n",
       "      <td>11</td>\n",
       "      <td>Fall</td>\n",
       "      <td>2019</td>\n",
       "    </tr>\n",
       "    <tr>\n",
       "      <th>10</th>\n",
       "      <td>A787448</td>\n",
       "      <td>Watermelon</td>\n",
       "      <td>Dog</td>\n",
       "      <td>Spayed Female</td>\n",
       "      <td>3 years</td>\n",
       "      <td>Labrador Retriever Mix</td>\n",
       "      <td>Brown Tiger/White</td>\n",
       "      <td>Adopted</td>\n",
       "      <td>11</td>\n",
       "      <td>Fall</td>\n",
       "      <td>2019</td>\n",
       "    </tr>\n",
       "    <tr>\n",
       "      <th>11</th>\n",
       "      <td>A808522</td>\n",
       "      <td>Unknown</td>\n",
       "      <td>Cat</td>\n",
       "      <td>Intact Female</td>\n",
       "      <td>4 years</td>\n",
       "      <td>Domestic Shorthair</td>\n",
       "      <td>Brown Tabby</td>\n",
       "      <td>Not adopted</td>\n",
       "      <td>11</td>\n",
       "      <td>Fall</td>\n",
       "      <td>2019</td>\n",
       "    </tr>\n",
       "  </tbody>\n",
       "</table>\n",
       "</div>"
      ],
      "text/plain": [
       "   animal_id         name animal_type sex_upon_outcome age_upon_outcome  \\\n",
       "1    A781697       Pookie         Dog    Spayed Female          2 years   \n",
       "2    A808382      Unknown         Cat      Intact Male          5 years   \n",
       "3    A806701     *Emerald         Cat    Neutered Male         2 months   \n",
       "4    A804553       *Wendy         Cat    Spayed Female         3 months   \n",
       "5    A804552  *Tinkerbell         Cat    Spayed Female         3 months   \n",
       "6    A808132        Daryl         Cat    Neutered Male          5 years   \n",
       "7    A805655      *Fezzik         Cat    Neutered Male         2 months   \n",
       "9    A808526        Jugez         Dog    Spayed Female         13 years   \n",
       "10   A787448   Watermelon         Dog    Spayed Female          3 years   \n",
       "11   A808522      Unknown         Cat    Intact Female          4 years   \n",
       "\n",
       "                     breed              color new_outcome_type  month_arrived  \\\n",
       "1            Cairn Terrier        White/Brown          Adopted             11   \n",
       "2       Domestic Shorthair       Orange Tabby      Not adopted             11   \n",
       "3       Domestic Shorthair   Blue Tabby/White          Adopted             11   \n",
       "4       Domestic Shorthair             Calico          Adopted             11   \n",
       "5       Domestic Shorthair             Calico          Adopted             11   \n",
       "6       Domestic Shorthair  Brown Tabby/White          Adopted             11   \n",
       "7       Domestic Shorthair       Orange Tabby          Adopted             11   \n",
       "9                 Shih Tzu        Brown/Cream      Not adopted             11   \n",
       "10  Labrador Retriever Mix  Brown Tiger/White          Adopted             11   \n",
       "11      Domestic Shorthair        Brown Tabby      Not adopted             11   \n",
       "\n",
       "   season_arrived  year_arrived  \n",
       "1            Fall          2019  \n",
       "2            Fall          2019  \n",
       "3            Fall          2019  \n",
       "4            Fall          2019  \n",
       "5            Fall          2019  \n",
       "6            Fall          2019  \n",
       "7            Fall          2019  \n",
       "9            Fall          2019  \n",
       "10           Fall          2019  \n",
       "11           Fall          2019  "
      ]
     },
     "execution_count": 273,
     "metadata": {},
     "output_type": "execute_result"
    }
   ],
   "source": [
    "adoption_upd.head(10)"
   ]
  },
  {
   "cell_type": "code",
   "execution_count": 274,
   "metadata": {},
   "outputs": [
    {
     "data": {
      "text/plain": [
       "Domestic Shorthair Mix                         26063\n",
       "Pit Bull Mix                                    4720\n",
       "Labrador Retriever Mix                          4372\n",
       "Chihuahua Shorthair Mix                         3974\n",
       "Domestic Shorthair                              3566\n",
       "Domestic Medium Hair Mix                        2548\n",
       "German Shepherd Mix                             1816\n",
       "Domestic Longhair Mix                           1184\n",
       "Siamese Mix                                     1019\n",
       "Australian Cattle Dog Mix                        969\n",
       "Dachshund Mix                                    625\n",
       "Border Collie Mix                                594\n",
       "Boxer Mix                                        572\n",
       "Domestic Medium Hair                             478\n",
       "Miniature Poodle Mix                             453\n",
       "Catahoula Mix                                    432\n",
       "Labrador Retriever                               403\n",
       "Staffordshire Mix                                401\n",
       "Chihuahua Shorthair                              401\n",
       "Pit Bull                                         384\n",
       "Australian Shepherd Mix                          381\n",
       "Great Pyrenees Mix                               367\n",
       "Pointer Mix                                      367\n",
       "Rat Terrier Mix                                  364\n",
       "Beagle Mix                                       358\n",
       "German Shepherd                                  348\n",
       "Yorkshire Terrier Mix                            346\n",
       "Siberian Husky Mix                               344\n",
       "Jack Russell Terrier Mix                         338\n",
       "Cairn Terrier Mix                                335\n",
       "                                               ...  \n",
       "West Highland/Lhasa Apso                           1\n",
       "Vizsla/Greyhound                                   1\n",
       "Pembroke Welsh Corgi/Collie Smooth                 1\n",
       "Whippet/Catahoula                                  1\n",
       "Yorkshire Terrier/Dachshund Longhair               1\n",
       "Staffordshire/Border Collie                        1\n",
       "French Bulldog/Chihuahua Shorthair                 1\n",
       "Dachshund Longhair/Cairn Terrier                   1\n",
       "Standard Poodle/Whippet                            1\n",
       "Bluetick Hound/Great Pyrenees                      1\n",
       "Labrador Retriever/Collie Rough                    1\n",
       "Pbgv/Pit Bull                                      1\n",
       "English Bulldog/Boxer                              1\n",
       "Chinese Sharpei/Chow Chow                          1\n",
       "Domestic Shorthair/Manx                            1\n",
       "Tibetan Spaniel/Dachshund Longhair                 1\n",
       "Tibetan Spaniel                                    1\n",
       "Collie Rough/Chow Chow                             1\n",
       "Vizsla/Dachshund                                   1\n",
       "Snowshoe/Ragdoll                                   1\n",
       "Jack Russell Terrier/Australian Shepherd           1\n",
       "Golden Retriever/Akita                             1\n",
       "Chinese Crested/Papillon                           1\n",
       "Labrador Retriever/English Springer Spaniel        1\n",
       "English Bulldog/Mastiff                            1\n",
       "Rhod Ridgeback/Pointer                             1\n",
       "Cocker Spaniel/Dachshund Longhair                  1\n",
       "Akita/Pit Bull                                     1\n",
       "Chihuahua Shorthair/Cavalier Span                  1\n",
       "Black Mouth Cur/Belgian Malinois                   1\n",
       "Name: breed, Length: 1867, dtype: int64"
      ]
     },
     "execution_count": 274,
     "metadata": {},
     "output_type": "execute_result"
    }
   ],
   "source": [
    "# how many different breeds are there:\n",
    "adoption_upd['breed'].value_counts()\n",
    "# 2042...very high cardinality"
   ]
  },
  {
   "cell_type": "code",
   "execution_count": 275,
   "metadata": {},
   "outputs": [],
   "source": [
    "# create subsets for dogs and cats:\n",
    "dogs = adoption_upd[adoption_upd.animal_type=='Dog']\n",
    "cats = adoption_upd[adoption_upd.animal_type=='Cat']"
   ]
  },
  {
   "cell_type": "code",
   "execution_count": 276,
   "metadata": {},
   "outputs": [
    {
     "data": {
      "text/plain": [
       "OTHER                                       9368\n",
       "Pit Bull Mix                                4720\n",
       "Labrador Retriever Mix                      4372\n",
       "Chihuahua Shorthair Mix                     3974\n",
       "German Shepherd Mix                         1816\n",
       "Australian Cattle Dog Mix                    969\n",
       "Dachshund Mix                                625\n",
       "Border Collie Mix                            594\n",
       "Boxer Mix                                    572\n",
       "Miniature Poodle Mix                         453\n",
       "Catahoula Mix                                432\n",
       "Labrador Retriever                           403\n",
       "Chihuahua Shorthair                          401\n",
       "Staffordshire Mix                            401\n",
       "Pit Bull                                     384\n",
       "Australian Shepherd Mix                      381\n",
       "Great Pyrenees Mix                           367\n",
       "Pointer Mix                                  367\n",
       "Rat Terrier Mix                              364\n",
       "Beagle Mix                                   358\n",
       "German Shepherd                              348\n",
       "Yorkshire Terrier Mix                        346\n",
       "Siberian Husky Mix                           344\n",
       "Jack Russell Terrier Mix                     338\n",
       "Cairn Terrier Mix                            335\n",
       "Chihuahua Longhair Mix                       329\n",
       "Miniature Schnauzer Mix                      315\n",
       "Plott Hound Mix                              300\n",
       "Anatol Shepherd Mix                          298\n",
       "Black Mouth Cur Mix                          267\n",
       "                                            ... \n",
       "Golden Retriever Mix                         122\n",
       "Queensland Heeler Mix                        120\n",
       "Maltese Mix                                  120\n",
       "Dachshund                                     97\n",
       "Shih Tzu                                      95\n",
       "Black/Tan Hound Mix                           90\n",
       "Labrador Retriever/Border Collie              88\n",
       "Manchester Terrier Mix                        88\n",
       "Cardigan Welsh Corgi Mix                      88\n",
       "Lhasa Apso Mix                                88\n",
       "Basset Hound Mix                              87\n",
       "Doberman Pinsch Mix                           87\n",
       "Boxer                                         83\n",
       "Chow Chow Mix                                 83\n",
       "Pit Bull/Labrador Retriever                   83\n",
       "Collie Smooth Mix                             79\n",
       "Labrador Retriever/Great Pyrenees             79\n",
       "Dachshund Longhair Mix                        78\n",
       "Cocker Spaniel Mix                            78\n",
       "Rottweiler                                    76\n",
       "Dachshund Wirehair Mix                        72\n",
       "Labrador Retriever/Australian Cattle Dog      69\n",
       "Pug Mix                                       69\n",
       "Mastiff Mix                                   68\n",
       "Pomeranian Mix                                68\n",
       "Great Pyrenees                                67\n",
       "Cairn Terrier                                 66\n",
       "Border Collie/Labrador Retriever              66\n",
       "Flat Coat Retriever Mix                       66\n",
       "Chinese Sharpei Mix                           66\n",
       "Name: breed, Length: 76, dtype: int64"
      ]
     },
     "execution_count": 276,
     "metadata": {},
     "output_type": "execute_result"
    }
   ],
   "source": [
    "# Reduce cardinality for breed feature ...\n",
    "dogs =dogs.copy()\n",
    "# Get a list of the top 75 breeds\n",
    "top75 = dogs['breed'].value_counts()[:75].index\n",
    "# Breeds that are NOT in the top 100,\n",
    "# replace the breed with 'OTHER'\n",
    "dogs.loc[~dogs['breed'].isin(top75), 'breed'] = 'OTHER'\n",
    "dogs['breed'].value_counts()"
   ]
  },
  {
   "cell_type": "code",
   "execution_count": 277,
   "metadata": {},
   "outputs": [
    {
     "data": {
      "text/plain": [
       "Domestic Shorthair Mix         26063\n",
       "Domestic Shorthair              3566\n",
       "Domestic Medium Hair Mix        2548\n",
       "Domestic Longhair Mix           1184\n",
       "Siamese Mix                     1019\n",
       "Domestic Medium Hair             478\n",
       "American Shorthair Mix           201\n",
       "Snowshoe Mix                     143\n",
       "Siamese                          130\n",
       "OTHER                            125\n",
       "Domestic Longhair                103\n",
       "Maine Coon Mix                    81\n",
       "Manx Mix                          75\n",
       "Russian Blue Mix                  46\n",
       "Ragdoll Mix                       34\n",
       "American Shorthair                29\n",
       "Himalayan Mix                     27\n",
       "Persian Mix                       16\n",
       "Balinese Mix                      14\n",
       "American Curl Shorthair Mix       12\n",
       "Japanese Bobtail Mix               9\n",
       "Persian                            9\n",
       "Russian Blue                       8\n",
       "Tonkinese Mix                      8\n",
       "Turkish Van Mix                    7\n",
       "Siamese/Domestic Shorthair         7\n",
       "Manx                               7\n",
       "Himalayan                          7\n",
       "Cymric Mix                         6\n",
       "Abyssinian                         6\n",
       "Snowshoe                           6\n",
       "Name: breed, dtype: int64"
      ]
     },
     "execution_count": 277,
     "metadata": {},
     "output_type": "execute_result"
    }
   ],
   "source": [
    "# Reduce cardinality for breed feature ...cats don't have as many\n",
    "# breeds so will only use top 30\n",
    "cats =cats.copy()\n",
    "# Get a list of the top 30 breeds\n",
    "top30 = cats['breed'].value_counts()[:30].index\n",
    "# Breeds that are NOT in the top 30,\n",
    "# replace the breed with 'OTHER'\n",
    "cats.loc[~cats['breed'].isin(top30), 'breed'] = 'OTHER'\n",
    "cats['breed'].value_counts()"
   ]
  },
  {
   "cell_type": "code",
   "execution_count": 278,
   "metadata": {},
   "outputs": [
    {
     "data": {
      "text/plain": [
       "(75730, 11)"
      ]
     },
     "execution_count": 278,
     "metadata": {},
     "output_type": "execute_result"
    }
   ],
   "source": [
    "# concatenate the cats and dogs subsets, matches shape of adoption_upd\n",
    "adoption_final = pd.concat([dogs, cats])\n",
    "adoption_final.shape"
   ]
  },
  {
   "cell_type": "code",
   "execution_count": 279,
   "metadata": {},
   "outputs": [
    {
     "data": {
      "text/plain": [
       "Black/White                  8297\n",
       "Black                        6815\n",
       "Brown Tabby                  5511\n",
       "Brown Tabby/White            2809\n",
       "Orange Tabby                 2642\n",
       "White                        2320\n",
       "Tan/White                    2258\n",
       "Brown/White                  2151\n",
       "Blue/White                   2113\n",
       "White/Black                  2067\n",
       "Tan                          1869\n",
       "Tortie                       1664\n",
       "Calico                       1636\n",
       "Brown                        1620\n",
       "Tricolor                     1612\n",
       "Blue                         1540\n",
       "Black/Tan                    1514\n",
       "Blue Tabby                   1381\n",
       "Black/Brown                  1377\n",
       "White/Brown                  1302\n",
       "Orange Tabby/White           1289\n",
       "Brown Brindle/White          1196\n",
       "White/Tan                    1106\n",
       "Torbie                       1035\n",
       "Brown/Black                  1025\n",
       "Red                           748\n",
       "Red/White                     704\n",
       "Blue Tabby/White              675\n",
       "Tan/Black                     675\n",
       "Brown Brindle                 657\n",
       "                             ... \n",
       "Brown/Liver                     1\n",
       "Gray/Blue Merle                 1\n",
       "Tricolor/Orange                 1\n",
       "Blue Smoke/Gray                 1\n",
       "Tricolor/Red Tick               1\n",
       "White/Liver Tick                1\n",
       "Red Tick/Tricolor               1\n",
       "Black Tabby/Black               1\n",
       "Red/Brown Brindle               1\n",
       "Calico/Orange Tabby             1\n",
       "Brown Brindle/Blue              1\n",
       "Lynx Point/Blue                 1\n",
       "Gold/Yellow                     1\n",
       "Gray Tabby/Orange               1\n",
       "Lilac Point/Gray                1\n",
       "Red/Silver                      1\n",
       "White/Yellow Brindle            1\n",
       "Blue/Calico                     1\n",
       "Tortie/Tortie                   1\n",
       "Red Merle/Black                 1\n",
       "Buff/Yellow                     1\n",
       "Black Smoke/Black Tiger         1\n",
       "Brown Tabby/Black Brindle       1\n",
       "Fawn/Chocolate                  1\n",
       "Brown Merle/Chocolate           1\n",
       "Cream Tabby/Cream Tabby         1\n",
       "Orange/Orange Tabby             1\n",
       "Red/Red Merle                   1\n",
       "Orange Tabby/Tortie Point       1\n",
       "Gray/Buff                       1\n",
       "Name: color, Length: 477, dtype: int64"
      ]
     },
     "execution_count": 279,
     "metadata": {},
     "output_type": "execute_result"
    }
   ],
   "source": [
    "# lets do something similar to color:\n",
    "adoption_final['color'].value_counts()"
   ]
  },
  {
   "cell_type": "code",
   "execution_count": 280,
   "metadata": {},
   "outputs": [],
   "source": [
    "adoption_final = adoption_final.copy()\n",
    "# Get a list of the top 75 colors\n",
    "top75 = adoption_final['color'].value_counts()[:75].index\n",
    "# colors that are NOT in the top 75,\n",
    "# replace the color with 'OTHER'\n",
    "adoption_final.loc[~adoption_final['color'].isin(top75), 'color'] = 'OTHER'"
   ]
  },
  {
   "cell_type": "code",
   "execution_count": 281,
   "metadata": {},
   "outputs": [
    {
     "data": {
      "text/html": [
       "<div>\n",
       "<style scoped>\n",
       "    .dataframe tbody tr th:only-of-type {\n",
       "        vertical-align: middle;\n",
       "    }\n",
       "\n",
       "    .dataframe tbody tr th {\n",
       "        vertical-align: top;\n",
       "    }\n",
       "\n",
       "    .dataframe thead th {\n",
       "        text-align: right;\n",
       "    }\n",
       "</style>\n",
       "<table border=\"1\" class=\"dataframe\">\n",
       "  <thead>\n",
       "    <tr style=\"text-align: right;\">\n",
       "      <th></th>\n",
       "      <th>animal_id</th>\n",
       "      <th>name</th>\n",
       "      <th>animal_type</th>\n",
       "      <th>sex_upon_outcome</th>\n",
       "      <th>age_upon_outcome</th>\n",
       "      <th>breed</th>\n",
       "      <th>color</th>\n",
       "      <th>new_outcome_type</th>\n",
       "      <th>month_arrived</th>\n",
       "      <th>season_arrived</th>\n",
       "      <th>year_arrived</th>\n",
       "    </tr>\n",
       "  </thead>\n",
       "  <tbody>\n",
       "    <tr>\n",
       "      <th>1</th>\n",
       "      <td>A781697</td>\n",
       "      <td>Pookie</td>\n",
       "      <td>Dog</td>\n",
       "      <td>Spayed Female</td>\n",
       "      <td>2 years</td>\n",
       "      <td>Cairn Terrier</td>\n",
       "      <td>White/Brown</td>\n",
       "      <td>Adopted</td>\n",
       "      <td>11</td>\n",
       "      <td>Fall</td>\n",
       "      <td>2019</td>\n",
       "    </tr>\n",
       "    <tr>\n",
       "      <th>9</th>\n",
       "      <td>A808526</td>\n",
       "      <td>Jugez</td>\n",
       "      <td>Dog</td>\n",
       "      <td>Spayed Female</td>\n",
       "      <td>13 years</td>\n",
       "      <td>Shih Tzu</td>\n",
       "      <td>OTHER</td>\n",
       "      <td>Not adopted</td>\n",
       "      <td>11</td>\n",
       "      <td>Fall</td>\n",
       "      <td>2019</td>\n",
       "    </tr>\n",
       "    <tr>\n",
       "      <th>10</th>\n",
       "      <td>A787448</td>\n",
       "      <td>Watermelon</td>\n",
       "      <td>Dog</td>\n",
       "      <td>Spayed Female</td>\n",
       "      <td>3 years</td>\n",
       "      <td>Labrador Retriever Mix</td>\n",
       "      <td>OTHER</td>\n",
       "      <td>Adopted</td>\n",
       "      <td>11</td>\n",
       "      <td>Fall</td>\n",
       "      <td>2019</td>\n",
       "    </tr>\n",
       "    <tr>\n",
       "      <th>17</th>\n",
       "      <td>A808589</td>\n",
       "      <td>Lola</td>\n",
       "      <td>Dog</td>\n",
       "      <td>Spayed Female</td>\n",
       "      <td>5 years</td>\n",
       "      <td>OTHER</td>\n",
       "      <td>Brown Brindle</td>\n",
       "      <td>Not adopted</td>\n",
       "      <td>11</td>\n",
       "      <td>Fall</td>\n",
       "      <td>2019</td>\n",
       "    </tr>\n",
       "    <tr>\n",
       "      <th>18</th>\n",
       "      <td>A808590</td>\n",
       "      <td>Cheyenne</td>\n",
       "      <td>Dog</td>\n",
       "      <td>Spayed Female</td>\n",
       "      <td>7 years</td>\n",
       "      <td>Australian Shepherd Mix</td>\n",
       "      <td>Brown/White</td>\n",
       "      <td>Not adopted</td>\n",
       "      <td>11</td>\n",
       "      <td>Fall</td>\n",
       "      <td>2019</td>\n",
       "    </tr>\n",
       "  </tbody>\n",
       "</table>\n",
       "</div>"
      ],
      "text/plain": [
       "   animal_id        name animal_type sex_upon_outcome age_upon_outcome  \\\n",
       "1    A781697      Pookie         Dog    Spayed Female          2 years   \n",
       "9    A808526       Jugez         Dog    Spayed Female         13 years   \n",
       "10   A787448  Watermelon         Dog    Spayed Female          3 years   \n",
       "17   A808589        Lola         Dog    Spayed Female          5 years   \n",
       "18   A808590    Cheyenne         Dog    Spayed Female          7 years   \n",
       "\n",
       "                      breed          color new_outcome_type  month_arrived  \\\n",
       "1             Cairn Terrier    White/Brown          Adopted             11   \n",
       "9                  Shih Tzu          OTHER      Not adopted             11   \n",
       "10   Labrador Retriever Mix          OTHER          Adopted             11   \n",
       "17                    OTHER  Brown Brindle      Not adopted             11   \n",
       "18  Australian Shepherd Mix    Brown/White      Not adopted             11   \n",
       "\n",
       "   season_arrived  year_arrived  \n",
       "1            Fall          2019  \n",
       "9            Fall          2019  \n",
       "10           Fall          2019  \n",
       "17           Fall          2019  \n",
       "18           Fall          2019  "
      ]
     },
     "execution_count": 281,
     "metadata": {},
     "output_type": "execute_result"
    }
   ],
   "source": [
    "adoption_final.head()"
   ]
  },
  {
   "cell_type": "code",
   "execution_count": 227,
   "metadata": {},
   "outputs": [],
   "source": [
    "# # change animal type to numerical:\n",
    "# # 1 for dog, 2 for cat\n",
    "# def change_type(animal):\n",
    "#     if animal == 'dog':\n",
    "#         return 1\n",
    "#     else:\n",
    "#         return 2\n"
   ]
  },
  {
   "cell_type": "code",
   "execution_count": 228,
   "metadata": {},
   "outputs": [],
   "source": [
    "# adoption_final['animal_type'] = adoption_final['animal_type'].apply(change_type).astype(int)"
   ]
  },
  {
   "cell_type": "code",
   "execution_count": 282,
   "metadata": {},
   "outputs": [
    {
     "data": {
      "text/plain": [
       "Neutered Male    27406\n",
       "Spayed Female    25892\n",
       "Intact Female     9822\n",
       "Intact Male       8973\n",
       "Unknown           3637\n",
       "Name: sex_upon_outcome, dtype: int64"
      ]
     },
     "execution_count": 282,
     "metadata": {},
     "output_type": "execute_result"
    }
   ],
   "source": [
    "adoption_final['sex_upon_outcome'].value_counts()"
   ]
  },
  {
   "cell_type": "code",
   "execution_count": 283,
   "metadata": {},
   "outputs": [],
   "source": [
    "# do the same thing with sex_upon_outcome:\n",
    "def change_sex(animal):\n",
    "    if animal == 'Neutered Male':\n",
    "        return 1\n",
    "    if animal == 'Spayed Female':\n",
    "        return 2\n",
    "    if animal == 'Intact Male':\n",
    "        return 3\n",
    "    if animal == 'Intact Female':\n",
    "        return 4\n",
    "    if animal == 'Unknown':\n",
    "        return 5\n",
    "adoption_final['sex_upon_outcome'] = adoption_final['sex_upon_outcome'].apply(change_sex).astype(int)"
   ]
  },
  {
   "cell_type": "code",
   "execution_count": 284,
   "metadata": {},
   "outputs": [
    {
     "data": {
      "text/plain": [
       "1 year       12232\n",
       "2 months     11998\n",
       "2 years       9739\n",
       "3 months      4480\n",
       "1 month       4321\n",
       "3 years       3684\n",
       "4 months      2890\n",
       "4 years       2126\n",
       "5 years       2050\n",
       "5 months      1979\n",
       "6 months      1818\n",
       "3 weeks       1756\n",
       "2 weeks       1664\n",
       "8 months      1321\n",
       "6 years       1302\n",
       "8 years       1191\n",
       "4 weeks       1180\n",
       "10 months     1158\n",
       "7 years       1064\n",
       "7 months      1000\n",
       "10 years       955\n",
       "9 months       794\n",
       "1 weeks        656\n",
       "9 years        582\n",
       "1 week         547\n",
       "12 years       466\n",
       "11 months      461\n",
       "11 years       315\n",
       "2 days         270\n",
       "3 days         262\n",
       "13 years       251\n",
       "1 day          184\n",
       "6 days         182\n",
       "4 days         157\n",
       "14 years       156\n",
       "15 years       137\n",
       "5 days         108\n",
       "0 years        103\n",
       "5 weeks         92\n",
       "16 years        39\n",
       "17 years        28\n",
       "18 years        15\n",
       "19 years         8\n",
       "20 years         7\n",
       "-1 years         1\n",
       "22 years         1\n",
       "Name: age_upon_outcome, dtype: int64"
      ]
     },
     "execution_count": 284,
     "metadata": {},
     "output_type": "execute_result"
    }
   ],
   "source": [
    "#need to bin ages:\n",
    "adoption_final['age_upon_outcome'].value_counts()"
   ]
  },
  {
   "cell_type": "code",
   "execution_count": 286,
   "metadata": {},
   "outputs": [],
   "source": [
    "# This is difficult because of the age units, there are days, weeks, months\n",
    "# and years. Best way I could think of it is to bin the ages that are under 1 year\n",
    "# and then do the rest of the data in years since that's the majority and it's numerical data.\n",
    "\n",
    "def bin_ages(age):\n",
    "    if age == '11 months' or age == '12 months' or age == '1 year':\n",
    "        return '1 years'\n",
    "    if age == '8 months' or age == '9 months' or age == '10 months':\n",
    "        return '.75 years'\n",
    "    if age == '6 months' or age == '7 months' or age =='5 months' or age == '4 months':\n",
    "        return '.5 years'\n",
    "    if age == '1 month' or age == '3 weeks' or age == '2 weeks' or age == '4 weeks' or age == '1 weeks' or age == '1 week' or age == '2 days' or age == '3 days' or age == '1 day' or age == '6 days' or age == '4 days' or age == '5 days' or age == '0 years' or age == '5 weeks' or age == '2 months' or age == '3 months' or age == '2 month' or age == '-1 years':\n",
    "        return '.25 years'\n",
    "    else:\n",
    "        return age \n",
    "adoption_final['age_upon_outcome'] = adoption_final['age_upon_outcome'].apply(bin_ages)"
   ]
  },
  {
   "cell_type": "code",
   "execution_count": 287,
   "metadata": {},
   "outputs": [
    {
     "data": {
      "text/plain": [
       ".25 years    27961\n",
       "1 years      12693\n",
       "2 years       9739\n",
       ".5 years      7687\n",
       "3 years       3684\n",
       ".75 years     3273\n",
       "4 years       2126\n",
       "5 years       2050\n",
       "6 years       1302\n",
       "8 years       1191\n",
       "7 years       1064\n",
       "10 years       955\n",
       "9 years        582\n",
       "12 years       466\n",
       "11 years       315\n",
       "13 years       251\n",
       "14 years       156\n",
       "15 years       137\n",
       "16 years        39\n",
       "17 years        28\n",
       "18 years        15\n",
       "19 years         8\n",
       "20 years         7\n",
       "22 years         1\n",
       "Name: age_upon_outcome, dtype: int64"
      ]
     },
     "execution_count": 287,
     "metadata": {},
     "output_type": "execute_result"
    }
   ],
   "source": [
    "adoption_final['age_upon_outcome'].value_counts()"
   ]
  },
  {
   "cell_type": "code",
   "execution_count": 288,
   "metadata": {},
   "outputs": [],
   "source": [
    "# now for the rest of the ages, need to strip the 'years' from the values:\n",
    "# also going to drop the row that says -1 because not sure what that means.\n",
    "def age_to_int(age):\n",
    "  return float(age.strip('years'))\n",
    "\n",
    "adoption_final['age_upon_outcome'] = adoption_final['age_upon_outcome'].apply(age_to_int)"
   ]
  },
  {
   "cell_type": "code",
   "execution_count": 292,
   "metadata": {},
   "outputs": [
    {
     "data": {
      "text/plain": [
       "animal_id            object\n",
       "name                 object\n",
       "animal_type          object\n",
       "sex_upon_outcome      int64\n",
       "age_upon_outcome    float64\n",
       "breed                object\n",
       "color                object\n",
       "new_outcome_type     object\n",
       "month_arrived         int64\n",
       "season_arrived       object\n",
       "year_arrived          int64\n",
       "dtype: object"
      ]
     },
     "execution_count": 292,
     "metadata": {},
     "output_type": "execute_result"
    }
   ],
   "source": [
    "adoption_final.dtypes"
   ]
  },
  {
   "cell_type": "code",
   "execution_count": 293,
   "metadata": {},
   "outputs": [
    {
     "data": {
      "text/html": [
       "<div>\n",
       "<style scoped>\n",
       "    .dataframe tbody tr th:only-of-type {\n",
       "        vertical-align: middle;\n",
       "    }\n",
       "\n",
       "    .dataframe tbody tr th {\n",
       "        vertical-align: top;\n",
       "    }\n",
       "\n",
       "    .dataframe thead th {\n",
       "        text-align: right;\n",
       "    }\n",
       "</style>\n",
       "<table border=\"1\" class=\"dataframe\">\n",
       "  <thead>\n",
       "    <tr style=\"text-align: right;\">\n",
       "      <th></th>\n",
       "      <th>animal_id</th>\n",
       "      <th>name</th>\n",
       "      <th>animal_type</th>\n",
       "      <th>sex_upon_outcome</th>\n",
       "      <th>age_upon_outcome</th>\n",
       "      <th>breed</th>\n",
       "      <th>color</th>\n",
       "      <th>new_outcome_type</th>\n",
       "      <th>month_arrived</th>\n",
       "      <th>season_arrived</th>\n",
       "      <th>year_arrived</th>\n",
       "    </tr>\n",
       "  </thead>\n",
       "  <tbody>\n",
       "    <tr>\n",
       "      <th>1</th>\n",
       "      <td>A781697</td>\n",
       "      <td>Pookie</td>\n",
       "      <td>Dog</td>\n",
       "      <td>2</td>\n",
       "      <td>2.0</td>\n",
       "      <td>Cairn Terrier</td>\n",
       "      <td>White/Brown</td>\n",
       "      <td>Adopted</td>\n",
       "      <td>11</td>\n",
       "      <td>Fall</td>\n",
       "      <td>2019</td>\n",
       "    </tr>\n",
       "    <tr>\n",
       "      <th>9</th>\n",
       "      <td>A808526</td>\n",
       "      <td>Jugez</td>\n",
       "      <td>Dog</td>\n",
       "      <td>2</td>\n",
       "      <td>13.0</td>\n",
       "      <td>Shih Tzu</td>\n",
       "      <td>OTHER</td>\n",
       "      <td>Not adopted</td>\n",
       "      <td>11</td>\n",
       "      <td>Fall</td>\n",
       "      <td>2019</td>\n",
       "    </tr>\n",
       "    <tr>\n",
       "      <th>10</th>\n",
       "      <td>A787448</td>\n",
       "      <td>Watermelon</td>\n",
       "      <td>Dog</td>\n",
       "      <td>2</td>\n",
       "      <td>3.0</td>\n",
       "      <td>Labrador Retriever Mix</td>\n",
       "      <td>OTHER</td>\n",
       "      <td>Adopted</td>\n",
       "      <td>11</td>\n",
       "      <td>Fall</td>\n",
       "      <td>2019</td>\n",
       "    </tr>\n",
       "    <tr>\n",
       "      <th>17</th>\n",
       "      <td>A808589</td>\n",
       "      <td>Lola</td>\n",
       "      <td>Dog</td>\n",
       "      <td>2</td>\n",
       "      <td>5.0</td>\n",
       "      <td>OTHER</td>\n",
       "      <td>Brown Brindle</td>\n",
       "      <td>Not adopted</td>\n",
       "      <td>11</td>\n",
       "      <td>Fall</td>\n",
       "      <td>2019</td>\n",
       "    </tr>\n",
       "    <tr>\n",
       "      <th>18</th>\n",
       "      <td>A808590</td>\n",
       "      <td>Cheyenne</td>\n",
       "      <td>Dog</td>\n",
       "      <td>2</td>\n",
       "      <td>7.0</td>\n",
       "      <td>Australian Shepherd Mix</td>\n",
       "      <td>Brown/White</td>\n",
       "      <td>Not adopted</td>\n",
       "      <td>11</td>\n",
       "      <td>Fall</td>\n",
       "      <td>2019</td>\n",
       "    </tr>\n",
       "  </tbody>\n",
       "</table>\n",
       "</div>"
      ],
      "text/plain": [
       "   animal_id        name animal_type  sex_upon_outcome  age_upon_outcome  \\\n",
       "1    A781697      Pookie         Dog                 2               2.0   \n",
       "9    A808526       Jugez         Dog                 2              13.0   \n",
       "10   A787448  Watermelon         Dog                 2               3.0   \n",
       "17   A808589        Lola         Dog                 2               5.0   \n",
       "18   A808590    Cheyenne         Dog                 2               7.0   \n",
       "\n",
       "                      breed          color new_outcome_type  month_arrived  \\\n",
       "1             Cairn Terrier    White/Brown          Adopted             11   \n",
       "9                  Shih Tzu          OTHER      Not adopted             11   \n",
       "10   Labrador Retriever Mix          OTHER          Adopted             11   \n",
       "17                    OTHER  Brown Brindle      Not adopted             11   \n",
       "18  Australian Shepherd Mix    Brown/White      Not adopted             11   \n",
       "\n",
       "   season_arrived  year_arrived  \n",
       "1            Fall          2019  \n",
       "9            Fall          2019  \n",
       "10           Fall          2019  \n",
       "17           Fall          2019  \n",
       "18           Fall          2019  "
      ]
     },
     "execution_count": 293,
     "metadata": {},
     "output_type": "execute_result"
    }
   ],
   "source": [
    "adoption_final.head()"
   ]
  },
  {
   "cell_type": "code",
   "execution_count": 294,
   "metadata": {},
   "outputs": [],
   "source": [
    "# going to make a copy without the age upon outcome column since it has high cardinality and isn't numeric:\n",
    "adoption_use = adoption_final.drop(columns=['age_upon_outcome'])"
   ]
  },
  {
   "cell_type": "code",
   "execution_count": 295,
   "metadata": {},
   "outputs": [
    {
     "data": {
      "text/html": [
       "<div>\n",
       "<style scoped>\n",
       "    .dataframe tbody tr th:only-of-type {\n",
       "        vertical-align: middle;\n",
       "    }\n",
       "\n",
       "    .dataframe tbody tr th {\n",
       "        vertical-align: top;\n",
       "    }\n",
       "\n",
       "    .dataframe thead th {\n",
       "        text-align: right;\n",
       "    }\n",
       "</style>\n",
       "<table border=\"1\" class=\"dataframe\">\n",
       "  <thead>\n",
       "    <tr style=\"text-align: right;\">\n",
       "      <th></th>\n",
       "      <th>animal_id</th>\n",
       "      <th>name</th>\n",
       "      <th>animal_type</th>\n",
       "      <th>sex_upon_outcome</th>\n",
       "      <th>breed</th>\n",
       "      <th>color</th>\n",
       "      <th>new_outcome_type</th>\n",
       "      <th>month_arrived</th>\n",
       "      <th>season_arrived</th>\n",
       "      <th>year_arrived</th>\n",
       "    </tr>\n",
       "  </thead>\n",
       "  <tbody>\n",
       "    <tr>\n",
       "      <th>1</th>\n",
       "      <td>A781697</td>\n",
       "      <td>Pookie</td>\n",
       "      <td>Dog</td>\n",
       "      <td>2</td>\n",
       "      <td>Cairn Terrier</td>\n",
       "      <td>White/Brown</td>\n",
       "      <td>Adopted</td>\n",
       "      <td>11</td>\n",
       "      <td>Fall</td>\n",
       "      <td>2019</td>\n",
       "    </tr>\n",
       "    <tr>\n",
       "      <th>9</th>\n",
       "      <td>A808526</td>\n",
       "      <td>Jugez</td>\n",
       "      <td>Dog</td>\n",
       "      <td>2</td>\n",
       "      <td>Shih Tzu</td>\n",
       "      <td>OTHER</td>\n",
       "      <td>Not adopted</td>\n",
       "      <td>11</td>\n",
       "      <td>Fall</td>\n",
       "      <td>2019</td>\n",
       "    </tr>\n",
       "    <tr>\n",
       "      <th>10</th>\n",
       "      <td>A787448</td>\n",
       "      <td>Watermelon</td>\n",
       "      <td>Dog</td>\n",
       "      <td>2</td>\n",
       "      <td>Labrador Retriever Mix</td>\n",
       "      <td>OTHER</td>\n",
       "      <td>Adopted</td>\n",
       "      <td>11</td>\n",
       "      <td>Fall</td>\n",
       "      <td>2019</td>\n",
       "    </tr>\n",
       "    <tr>\n",
       "      <th>17</th>\n",
       "      <td>A808589</td>\n",
       "      <td>Lola</td>\n",
       "      <td>Dog</td>\n",
       "      <td>2</td>\n",
       "      <td>OTHER</td>\n",
       "      <td>Brown Brindle</td>\n",
       "      <td>Not adopted</td>\n",
       "      <td>11</td>\n",
       "      <td>Fall</td>\n",
       "      <td>2019</td>\n",
       "    </tr>\n",
       "    <tr>\n",
       "      <th>18</th>\n",
       "      <td>A808590</td>\n",
       "      <td>Cheyenne</td>\n",
       "      <td>Dog</td>\n",
       "      <td>2</td>\n",
       "      <td>Australian Shepherd Mix</td>\n",
       "      <td>Brown/White</td>\n",
       "      <td>Not adopted</td>\n",
       "      <td>11</td>\n",
       "      <td>Fall</td>\n",
       "      <td>2019</td>\n",
       "    </tr>\n",
       "  </tbody>\n",
       "</table>\n",
       "</div>"
      ],
      "text/plain": [
       "   animal_id        name animal_type  sex_upon_outcome  \\\n",
       "1    A781697      Pookie         Dog                 2   \n",
       "9    A808526       Jugez         Dog                 2   \n",
       "10   A787448  Watermelon         Dog                 2   \n",
       "17   A808589        Lola         Dog                 2   \n",
       "18   A808590    Cheyenne         Dog                 2   \n",
       "\n",
       "                      breed          color new_outcome_type  month_arrived  \\\n",
       "1             Cairn Terrier    White/Brown          Adopted             11   \n",
       "9                  Shih Tzu          OTHER      Not adopted             11   \n",
       "10   Labrador Retriever Mix          OTHER          Adopted             11   \n",
       "17                    OTHER  Brown Brindle      Not adopted             11   \n",
       "18  Australian Shepherd Mix    Brown/White      Not adopted             11   \n",
       "\n",
       "   season_arrived  year_arrived  \n",
       "1            Fall          2019  \n",
       "9            Fall          2019  \n",
       "10           Fall          2019  \n",
       "17           Fall          2019  \n",
       "18           Fall          2019  "
      ]
     },
     "execution_count": 295,
     "metadata": {},
     "output_type": "execute_result"
    }
   ],
   "source": [
    "adoption_use.head()"
   ]
  },
  {
   "cell_type": "markdown",
   "metadata": {},
   "source": [
    "Think I'm ready to start fitting models, may need to come back to features:"
   ]
  },
  {
   "cell_type": "code",
   "execution_count": 296,
   "metadata": {},
   "outputs": [
    {
     "data": {
      "text/plain": [
       "2015    13964\n",
       "2019    13644\n",
       "2016    13141\n",
       "2017    13035\n",
       "2018    12513\n",
       "2014     9433\n",
       "Name: year_arrived, dtype: int64"
      ]
     },
     "execution_count": 296,
     "metadata": {},
     "output_type": "execute_result"
    }
   ],
   "source": [
    "# split data into train, val, test\n",
    "adoption_use['year_arrived'].value_counts()"
   ]
  },
  {
   "cell_type": "code",
   "execution_count": 297,
   "metadata": {},
   "outputs": [],
   "source": [
    "test = adoption_use[(adoption_use['year_arrived'] == 2019)]  \n",
    "val =  adoption_use[(adoption_use['year_arrived']== 2018)]  \n",
    "train = adoption_upd[(adoption_upd['year_arrived'] < 2018)]"
   ]
  },
  {
   "cell_type": "code",
   "execution_count": 298,
   "metadata": {},
   "outputs": [
    {
     "data": {
      "text/plain": [
       "((13644, 10), (12513, 10), (49573, 11))"
      ]
     },
     "execution_count": 298,
     "metadata": {},
     "output_type": "execute_result"
    }
   ],
   "source": [
    "test.shape, val.shape, train.shape"
   ]
  },
  {
   "cell_type": "code",
   "execution_count": 58,
   "metadata": {},
   "outputs": [],
   "source": [
    "# %matplotlib inline\n",
    "# import matplotlib.pyplot as plt\n",
    "# import seaborn as sns\n",
    "\n",
    "# for col in adoption_upd.columns:\n",
    "#     if adoption_upd[col].nunique() < 10:\n",
    "#         try:\n",
    "#             sns.catplot(x=col, y='new_outcome_type', data=adoption_upd, kind='bar', color='grey')\n",
    "#             plt.show()\n",
    "#         except:\n",
    "#             pass"
   ]
  },
  {
   "cell_type": "code",
   "execution_count": 59,
   "metadata": {},
   "outputs": [],
   "source": [
    "# numeric = train.select_dtypes('number')\n",
    "# def change_type(animal):\n",
    "#     if animal == 'Adopted':\n",
    "#         return 1\n",
    "#     else:\n",
    "#         return 2\n",
    "# train['new_outcome_type'] = train['new_outcome_type'].apply(change_type)\n",
    "# for col in sorted(numeric.columns):\n",
    "#     sns.lmplot(x=col, y='new_outcome_type', data=train, scatter_kws=dict(alpha=0.05))\n",
    "#     plt.show()"
   ]
  },
  {
   "cell_type": "code",
   "execution_count": 60,
   "metadata": {},
   "outputs": [
    {
     "data": {
      "text/plain": [
       "animal_id           object\n",
       "name                object\n",
       "animal_type         object\n",
       "sex_upon_outcome    object\n",
       "age_upon_outcome    object\n",
       "breed               object\n",
       "color               object\n",
       "new_outcome_type    object\n",
       "month_arrived        int64\n",
       "season_arrived      object\n",
       "year_arrived         int64\n",
       "dtype: object"
      ]
     },
     "execution_count": 60,
     "metadata": {},
     "output_type": "execute_result"
    }
   ],
   "source": [
    "train.dtypes"
   ]
  },
  {
   "cell_type": "code",
   "execution_count": null,
   "metadata": {},
   "outputs": [],
   "source": []
  }
 ],
 "metadata": {
  "colab": {
   "collapsed_sections": [],
   "name": "assignment_applied_modeling_1.ipynb",
   "provenance": [],
   "version": "0.3.2"
  },
  "kernelspec": {
   "display_name": "Python 3",
   "language": "python",
   "name": "python3"
  },
  "language_info": {
   "codemirror_mode": {
    "name": "ipython",
    "version": 3
   },
   "file_extension": ".py",
   "mimetype": "text/x-python",
   "name": "python",
   "nbconvert_exporter": "python",
   "pygments_lexer": "ipython3",
   "version": "3.7.4"
  }
 },
 "nbformat": 4,
 "nbformat_minor": 1
}
