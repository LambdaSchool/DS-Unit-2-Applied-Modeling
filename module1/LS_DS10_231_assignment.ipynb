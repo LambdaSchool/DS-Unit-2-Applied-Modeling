{
  "nbformat": 4,
  "nbformat_minor": 0,
  "metadata": {
    "colab": {
      "name": "LS_DS10_231_assignment.ipynb",
      "provenance": [],
      "collapsed_sections": [],
      "include_colab_link": true
    },
    "kernelspec": {
      "display_name": "Python 3",
      "language": "python",
      "name": "python3"
    },
    "language_info": {
      "codemirror_mode": {
        "name": "ipython",
        "version": 3
      },
      "file_extension": ".py",
      "mimetype": "text/x-python",
      "name": "python",
      "nbconvert_exporter": "python",
      "pygments_lexer": "ipython3",
      "version": "3.7.3"
    }
  },
  "cells": [
    {
      "cell_type": "markdown",
      "metadata": {
        "id": "view-in-github",
        "colab_type": "text"
      },
      "source": [
        "<a href=\"https://colab.research.google.com/github/Okocha76/DS-Unit-2-Applied-Modeling/blob/master/module1/LS_DS10_231_assignment.ipynb\" target=\"_parent\"><img src=\"https://colab.research.google.com/assets/colab-badge.svg\" alt=\"Open In Colab\"/></a>"
      ]
    },
    {
      "cell_type": "markdown",
      "metadata": {
        "colab_type": "text",
        "id": "nCc3XZEyG3XV"
      },
      "source": [
        "Lambda School Data Science\n",
        "\n",
        "*Unit 2, Sprint 3, Module 1*\n",
        "\n",
        "---\n",
        "\n",
        "\n",
        "# Define ML problems\n",
        "\n",
        "You will use your portfolio project dataset for all assignments this sprint.\n",
        "\n",
        "## Assignment\n",
        "\n",
        "Complete these tasks for your project, and document your decisions.\n",
        "\n",
        "- [ ] Choose your target. Which column in your tabular dataset will you predict?\n",
        "- [ ] Is your problem regression or classification?\n",
        "- [ ] How is your target distributed?\n",
        "    - Classification: How many classes? Are the classes imbalanced?\n",
        "    - Regression: Is the target right-skewed? If so, you may want to log transform the target.\n",
        "- [ ] Choose your evaluation metric(s).\n",
        "    - Classification: Is your majority class frequency >= 50% and < 70% ? If so, you can just use accuracy if you want. Outside that range, accuracy could be misleading. What evaluation metric will you choose, in addition to or instead of accuracy?\n",
        "    - Regression: Will you use mean absolute error, root mean squared error, R^2, or other regression metrics?\n",
        "- [ ] Choose which observations you will use to train, validate, and test your model.\n",
        "    - Are some observations outliers? Will you exclude them?\n",
        "    - Will you do a random split or a time-based split?\n",
        "- [ ] Begin to clean and explore your data.\n",
        "- [ ] Begin to choose which features, if any, to exclude. Would some features \"leak\" future information?\n",
        "\n",
        "If you haven't found a dataset yet, do that today. [Review requirements for your portfolio project](https://lambdaschool.github.io/ds/unit2) and choose your dataset."
      ]
    },
    {
      "cell_type": "code",
      "metadata": {
        "id": "gOx2dkf7299N",
        "colab_type": "code",
        "colab": {}
      },
      "source": [
        "%%capture\n",
        "import sys\n",
        "\n",
        "if 'google.colab' in sys.modules:\n",
        "    # Install packages in Colab\n",
        "    !pip install category_encoders==2.*\n",
        "    !pip install pandas-profiling==2.*"
      ],
      "execution_count": 0,
      "outputs": []
    },
    {
      "cell_type": "code",
      "metadata": {
        "id": "3qPIdscE1w3W",
        "colab_type": "code",
        "colab": {}
      },
      "source": [
        "import pandas as pd\n",
        "euro_data = pd.read_csv('https://raw.githubusercontent.com/Okocha76/Okocha76.github.io/master/euro_data.csv', sep=';', engine='python', encoding = \"ISO-8859-1\")"
      ],
      "execution_count": 0,
      "outputs": []
    },
    {
      "cell_type": "code",
      "metadata": {
        "id": "m9vV6W2Y-umB",
        "colab_type": "code",
        "outputId": "ac376577-3446-41c8-84ce-1e69f2dcee7a",
        "colab": {
          "base_uri": "https://localhost:8080/",
          "height": 252
        }
      },
      "source": [
        "print(euro_data.shape)\n",
        "euro_data.head()"
      ],
      "execution_count": 29,
      "outputs": [
        {
          "output_type": "stream",
          "text": [
            "(8010, 41)\n"
          ],
          "name": "stdout"
        },
        {
          "output_type": "execute_result",
          "data": {
            "text/html": [
              "<div>\n",
              "<style scoped>\n",
              "    .dataframe tbody tr th:only-of-type {\n",
              "        vertical-align: middle;\n",
              "    }\n",
              "\n",
              "    .dataframe tbody tr th {\n",
              "        vertical-align: top;\n",
              "    }\n",
              "\n",
              "    .dataframe thead th {\n",
              "        text-align: right;\n",
              "    }\n",
              "</style>\n",
              "<table border=\"1\" class=\"dataframe\">\n",
              "  <thead>\n",
              "    <tr style=\"text-align: right;\">\n",
              "      <th></th>\n",
              "      <th>TIME</th>\n",
              "      <th>GEO</th>\n",
              "      <th>GEO_LABEL</th>\n",
              "      <th>AGEMOTH</th>\n",
              "      <th>MEDAGEMOTH</th>\n",
              "      <th>TOTFERRT</th>\n",
              "      <th>JAN</th>\n",
              "      <th>CNMIGRAT</th>\n",
              "      <th>CNMIGRATRT</th>\n",
              "      <th>DEATH</th>\n",
              "      <th>GBIRTHRT</th>\n",
              "      <th>GDEATHRT</th>\n",
              "      <th>GROW</th>\n",
              "      <th>GROWRT</th>\n",
              "      <th>LBIRTH</th>\n",
              "      <th>NATGROW</th>\n",
              "      <th>NATGROWRT</th>\n",
              "      <th>RT</th>\n",
              "      <th>PER_KM2</th>\n",
              "      <th>EUR_HAB_2GDP</th>\n",
              "      <th>EUR_HAB_EU</th>\n",
              "      <th>EUR_HAB_EU27_2019</th>\n",
              "      <th>MIO_EUR</th>\n",
              "      <th>MIO_NAC</th>\n",
              "      <th>MIO_PPS</th>\n",
              "      <th>MIO_PPS_EU27_2019</th>\n",
              "      <th>PPS_EU27_2019_HAB</th>\n",
              "      <th>PPS_HAB</th>\n",
              "      <th>PPS_HAB_EU</th>\n",
              "      <th>PPS_HAB_EU27_2019</th>\n",
              "      <th>EMP</th>\n",
              "      <th>SAL</th>\n",
              "      <th>EUR_HAB_2HHINC</th>\n",
              "      <th>ED0-2_25_64</th>\n",
              "      <th>ED3_4_25_64</th>\n",
              "      <th>ED3-8_25_64</th>\n",
              "      <th>ED5-8_25_64</th>\n",
              "      <th>ED0-2_30_34</th>\n",
              "      <th>ED3_4_30_34</th>\n",
              "      <th>ED3-8_30_34</th>\n",
              "      <th>ED5-8_30_34</th>\n",
              "    </tr>\n",
              "  </thead>\n",
              "  <tbody>\n",
              "    <tr>\n",
              "      <th>0</th>\n",
              "      <td>2000</td>\n",
              "      <td>AT</td>\n",
              "      <td>Austria</td>\n",
              "      <td>28.7</td>\n",
              "      <td>29.4</td>\n",
              "      <td>1.35</td>\n",
              "      <td>8002186</td>\n",
              "      <td>17272</td>\n",
              "      <td>2.2</td>\n",
              "      <td>76780</td>\n",
              "      <td>9.8</td>\n",
              "      <td>9.6</td>\n",
              "      <td>18760</td>\n",
              "      <td>2.3</td>\n",
              "      <td>78268</td>\n",
              "      <td>1488</td>\n",
              "      <td>0.2</td>\n",
              "      <td>4.8</td>\n",
              "      <td>97.2</td>\n",
              "      <td>26700</td>\n",
              "      <td>134</td>\n",
              "      <td>145</td>\n",
              "      <td>213606.48</td>\n",
              "      <td>213606.48</td>\n",
              "      <td>206251.54</td>\n",
              "      <td>195513.50</td>\n",
              "      <td>24400</td>\n",
              "      <td>25700</td>\n",
              "      <td>130</td>\n",
              "      <td>133</td>\n",
              "      <td>3755.0</td>\n",
              "      <td>3243.7</td>\n",
              "      <td>18000</td>\n",
              "      <td>23.8</td>\n",
              "      <td>62.1</td>\n",
              "      <td>76.2</td>\n",
              "      <td>14.1</td>\n",
              "      <td>16.7</td>\n",
              "      <td>67.4</td>\n",
              "      <td>83.3</td>\n",
              "      <td>15.9</td>\n",
              "    </tr>\n",
              "    <tr>\n",
              "      <th>1</th>\n",
              "      <td>2001</td>\n",
              "      <td>AT</td>\n",
              "      <td>Austria</td>\n",
              "      <td>28.9</td>\n",
              "      <td>29.6</td>\n",
              "      <td>1.31</td>\n",
              "      <td>8020946</td>\n",
              "      <td>42003</td>\n",
              "      <td>5.2</td>\n",
              "      <td>74767</td>\n",
              "      <td>9.4</td>\n",
              "      <td>9.3</td>\n",
              "      <td>42694</td>\n",
              "      <td>5.3</td>\n",
              "      <td>75458</td>\n",
              "      <td>691</td>\n",
              "      <td>0.1</td>\n",
              "      <td>4.8</td>\n",
              "      <td>97.5</td>\n",
              "      <td>27400</td>\n",
              "      <td>133</td>\n",
              "      <td>143</td>\n",
              "      <td>220525.08</td>\n",
              "      <td>220525.08</td>\n",
              "      <td>207461.48</td>\n",
              "      <td>197764.57</td>\n",
              "      <td>24600</td>\n",
              "      <td>25800</td>\n",
              "      <td>125</td>\n",
              "      <td>128</td>\n",
              "      <td>3782.0</td>\n",
              "      <td>3265.1</td>\n",
              "      <td>18300</td>\n",
              "      <td>22.5</td>\n",
              "      <td>62.6</td>\n",
              "      <td>77.5</td>\n",
              "      <td>14.8</td>\n",
              "      <td>16.0</td>\n",
              "      <td>67.9</td>\n",
              "      <td>84.0</td>\n",
              "      <td>16.1</td>\n",
              "    </tr>\n",
              "    <tr>\n",
              "      <th>2</th>\n",
              "      <td>2002</td>\n",
              "      <td>AT</td>\n",
              "      <td>Austria</td>\n",
              "      <td>29.1</td>\n",
              "      <td>29.8</td>\n",
              "      <td>1.38</td>\n",
              "      <td>8063640</td>\n",
              "      <td>34365</td>\n",
              "      <td>4.3</td>\n",
              "      <td>76131</td>\n",
              "      <td>9.7</td>\n",
              "      <td>9.4</td>\n",
              "      <td>36633</td>\n",
              "      <td>4.5</td>\n",
              "      <td>78399</td>\n",
              "      <td>2268</td>\n",
              "      <td>0.3</td>\n",
              "      <td>4.1</td>\n",
              "      <td>98.0</td>\n",
              "      <td>28100</td>\n",
              "      <td>132</td>\n",
              "      <td>141</td>\n",
              "      <td>226735.22</td>\n",
              "      <td>226735.22</td>\n",
              "      <td>216432.92</td>\n",
              "      <td>206562.16</td>\n",
              "      <td>25600</td>\n",
              "      <td>26800</td>\n",
              "      <td>126</td>\n",
              "      <td>129</td>\n",
              "      <td>3778.4</td>\n",
              "      <td>3258.1</td>\n",
              "      <td>18500</td>\n",
              "      <td>21.7</td>\n",
              "      <td>62.7</td>\n",
              "      <td>78.3</td>\n",
              "      <td>15.7</td>\n",
              "      <td>15.9</td>\n",
              "      <td>66.9</td>\n",
              "      <td>84.1</td>\n",
              "      <td>17.2</td>\n",
              "    </tr>\n",
              "    <tr>\n",
              "      <th>3</th>\n",
              "      <td>2003</td>\n",
              "      <td>AT</td>\n",
              "      <td>Austria</td>\n",
              "      <td>29.2</td>\n",
              "      <td>29.9</td>\n",
              "      <td>1.36</td>\n",
              "      <td>8100273</td>\n",
              "      <td>42565</td>\n",
              "      <td>5.2</td>\n",
              "      <td>77209</td>\n",
              "      <td>9.5</td>\n",
              "      <td>9.5</td>\n",
              "      <td>42300</td>\n",
              "      <td>5.2</td>\n",
              "      <td>76944</td>\n",
              "      <td>-265</td>\n",
              "      <td>0.0</td>\n",
              "      <td>4.5</td>\n",
              "      <td>98.5</td>\n",
              "      <td>28600</td>\n",
              "      <td>132</td>\n",
              "      <td>140</td>\n",
              "      <td>231862.46</td>\n",
              "      <td>231862.46</td>\n",
              "      <td>221219.87</td>\n",
              "      <td>214271.17</td>\n",
              "      <td>26400</td>\n",
              "      <td>27200</td>\n",
              "      <td>126</td>\n",
              "      <td>130</td>\n",
              "      <td>3803.0</td>\n",
              "      <td>3275.3</td>\n",
              "      <td>18900</td>\n",
              "      <td>21.0</td>\n",
              "      <td>63.3</td>\n",
              "      <td>79.0</td>\n",
              "      <td>15.7</td>\n",
              "      <td>14.3</td>\n",
              "      <td>68.1</td>\n",
              "      <td>85.7</td>\n",
              "      <td>17.6</td>\n",
              "    </tr>\n",
              "    <tr>\n",
              "      <th>4</th>\n",
              "      <td>2004</td>\n",
              "      <td>AT</td>\n",
              "      <td>Austria</td>\n",
              "      <td>28.8</td>\n",
              "      <td>29.5</td>\n",
              "      <td>1.42</td>\n",
              "      <td>8142573</td>\n",
              "      <td>54110</td>\n",
              "      <td>6.6</td>\n",
              "      <td>74292</td>\n",
              "      <td>9.7</td>\n",
              "      <td>9.1</td>\n",
              "      <td>58786</td>\n",
              "      <td>7.2</td>\n",
              "      <td>78968</td>\n",
              "      <td>4676</td>\n",
              "      <td>0.6</td>\n",
              "      <td>4.5</td>\n",
              "      <td>99.1</td>\n",
              "      <td>29700</td>\n",
              "      <td>132</td>\n",
              "      <td>140</td>\n",
              "      <td>242348.26</td>\n",
              "      <td>242348.26</td>\n",
              "      <td>233343.6</td>\n",
              "      <td>225461.43</td>\n",
              "      <td>27600</td>\n",
              "      <td>28600</td>\n",
              "      <td>127</td>\n",
              "      <td>130</td>\n",
              "      <td>3826.8</td>\n",
              "      <td>3290.1</td>\n",
              "      <td>19700</td>\n",
              "      <td>20.2</td>\n",
              "      <td>61.8</td>\n",
              "      <td>79.8</td>\n",
              "      <td>18.0</td>\n",
              "      <td>13.5</td>\n",
              "      <td>65.6</td>\n",
              "      <td>86.5</td>\n",
              "      <td>20.9</td>\n",
              "    </tr>\n",
              "  </tbody>\n",
              "</table>\n",
              "</div>"
            ],
            "text/plain": [
              "   TIME GEO GEO_LABEL  ...  ED3_4_30_34  ED3-8_30_34  ED5-8_30_34\n",
              "0  2000  AT   Austria  ...         67.4         83.3         15.9\n",
              "1  2001  AT   Austria  ...         67.9         84.0         16.1\n",
              "2  2002  AT   Austria  ...         66.9         84.1         17.2\n",
              "3  2003  AT   Austria  ...         68.1         85.7         17.6\n",
              "4  2004  AT   Austria  ...         65.6         86.5         20.9\n",
              "\n",
              "[5 rows x 41 columns]"
            ]
          },
          "metadata": {
            "tags": []
          },
          "execution_count": 29
        }
      ]
    },
    {
      "cell_type": "code",
      "metadata": {
        "id": "XYtAKbLUCap0",
        "colab_type": "code",
        "colab": {}
      },
      "source": [
        "# Feature selection is not final. Just a quick & dirty approach for now.\n",
        "\n",
        "df = euro_data.drop(\n",
        "    ['CNMIGRAT','DEATH','GROW','GROWRT','LBIRTH','NATGROW','NATGROWRT',\n",
        "     'EUR_HAB_2GDP','EUR_HAB_EU27_2019','MIO_EUR','MIO_NAC','MIO_PPS',\n",
        "     'MIO_PPS_EU27_2019','PPS_EU27_2019_HAB','PPS_HAB','PPS_HAB_EU27_2019',\n",
        "     'SAL','EUR_HAB_2HHINC','ED0-2_25_64','ED3_4_25_64','ED3-8_25_64',\n",
        "     'ED5-8_25_64','ED3-8_30_34']\n",
        "     ,axis=1)"
      ],
      "execution_count": 0,
      "outputs": []
    },
    {
      "cell_type": "code",
      "metadata": {
        "id": "W19vHmpRGYP9",
        "colab_type": "code",
        "colab": {}
      },
      "source": [
        "df['JAN'] = pd.to_numeric(df['JAN'],errors='coerce')\n",
        "df['TIME'] = df['TIME'].astype(int)\n",
        "\n",
        "# A bit of feature engineering. EMP_PC is percentage employed.\n",
        "df['EMP_PC'] = round((df['EMP'] * 100000)/df['JAN'],1)\n",
        "df = df.drop(['JAN','EMP'], axis=1)"
      ],
      "execution_count": 0,
      "outputs": []
    },
    {
      "cell_type": "code",
      "metadata": {
        "id": "KPo0zB1YEG4M",
        "colab_type": "code",
        "colab": {
          "base_uri": "https://localhost:8080/",
          "height": 252
        },
        "outputId": "62982c2f-f909-483d-fc32-e4c7118383c9"
      },
      "source": [
        "print(df.shape)\n",
        "df.head()"
      ],
      "execution_count": 30,
      "outputs": [
        {
          "output_type": "stream",
          "text": [
            "(8010, 17)\n"
          ],
          "name": "stdout"
        },
        {
          "output_type": "execute_result",
          "data": {
            "text/html": [
              "<div>\n",
              "<style scoped>\n",
              "    .dataframe tbody tr th:only-of-type {\n",
              "        vertical-align: middle;\n",
              "    }\n",
              "\n",
              "    .dataframe tbody tr th {\n",
              "        vertical-align: top;\n",
              "    }\n",
              "\n",
              "    .dataframe thead th {\n",
              "        text-align: right;\n",
              "    }\n",
              "</style>\n",
              "<table border=\"1\" class=\"dataframe\">\n",
              "  <thead>\n",
              "    <tr style=\"text-align: right;\">\n",
              "      <th></th>\n",
              "      <th>TIME</th>\n",
              "      <th>GEO</th>\n",
              "      <th>GEO_LABEL</th>\n",
              "      <th>AGEMOTH</th>\n",
              "      <th>MEDAGEMOTH</th>\n",
              "      <th>TOTFERRT</th>\n",
              "      <th>CNMIGRATRT</th>\n",
              "      <th>GBIRTHRT</th>\n",
              "      <th>GDEATHRT</th>\n",
              "      <th>RT</th>\n",
              "      <th>PER_KM2</th>\n",
              "      <th>EUR_HAB_EU</th>\n",
              "      <th>PPS_HAB_EU</th>\n",
              "      <th>ED0-2_30_34</th>\n",
              "      <th>ED3_4_30_34</th>\n",
              "      <th>ED5-8_30_34</th>\n",
              "      <th>EMP_PC</th>\n",
              "    </tr>\n",
              "  </thead>\n",
              "  <tbody>\n",
              "    <tr>\n",
              "      <th>0</th>\n",
              "      <td>2000</td>\n",
              "      <td>AT</td>\n",
              "      <td>Austria</td>\n",
              "      <td>28.7</td>\n",
              "      <td>29.4</td>\n",
              "      <td>1.35</td>\n",
              "      <td>2.2</td>\n",
              "      <td>9.8</td>\n",
              "      <td>9.6</td>\n",
              "      <td>4.8</td>\n",
              "      <td>97.2</td>\n",
              "      <td>134</td>\n",
              "      <td>130</td>\n",
              "      <td>16.7</td>\n",
              "      <td>67.4</td>\n",
              "      <td>15.9</td>\n",
              "      <td>46.9</td>\n",
              "    </tr>\n",
              "    <tr>\n",
              "      <th>1</th>\n",
              "      <td>2001</td>\n",
              "      <td>AT</td>\n",
              "      <td>Austria</td>\n",
              "      <td>28.9</td>\n",
              "      <td>29.6</td>\n",
              "      <td>1.31</td>\n",
              "      <td>5.2</td>\n",
              "      <td>9.4</td>\n",
              "      <td>9.3</td>\n",
              "      <td>4.8</td>\n",
              "      <td>97.5</td>\n",
              "      <td>133</td>\n",
              "      <td>125</td>\n",
              "      <td>16.0</td>\n",
              "      <td>67.9</td>\n",
              "      <td>16.1</td>\n",
              "      <td>47.2</td>\n",
              "    </tr>\n",
              "    <tr>\n",
              "      <th>2</th>\n",
              "      <td>2002</td>\n",
              "      <td>AT</td>\n",
              "      <td>Austria</td>\n",
              "      <td>29.1</td>\n",
              "      <td>29.8</td>\n",
              "      <td>1.38</td>\n",
              "      <td>4.3</td>\n",
              "      <td>9.7</td>\n",
              "      <td>9.4</td>\n",
              "      <td>4.1</td>\n",
              "      <td>98.0</td>\n",
              "      <td>132</td>\n",
              "      <td>126</td>\n",
              "      <td>15.9</td>\n",
              "      <td>66.9</td>\n",
              "      <td>17.2</td>\n",
              "      <td>46.9</td>\n",
              "    </tr>\n",
              "    <tr>\n",
              "      <th>3</th>\n",
              "      <td>2003</td>\n",
              "      <td>AT</td>\n",
              "      <td>Austria</td>\n",
              "      <td>29.2</td>\n",
              "      <td>29.9</td>\n",
              "      <td>1.36</td>\n",
              "      <td>5.2</td>\n",
              "      <td>9.5</td>\n",
              "      <td>9.5</td>\n",
              "      <td>4.5</td>\n",
              "      <td>98.5</td>\n",
              "      <td>132</td>\n",
              "      <td>126</td>\n",
              "      <td>14.3</td>\n",
              "      <td>68.1</td>\n",
              "      <td>17.6</td>\n",
              "      <td>46.9</td>\n",
              "    </tr>\n",
              "    <tr>\n",
              "      <th>4</th>\n",
              "      <td>2004</td>\n",
              "      <td>AT</td>\n",
              "      <td>Austria</td>\n",
              "      <td>28.8</td>\n",
              "      <td>29.5</td>\n",
              "      <td>1.42</td>\n",
              "      <td>6.6</td>\n",
              "      <td>9.7</td>\n",
              "      <td>9.1</td>\n",
              "      <td>4.5</td>\n",
              "      <td>99.1</td>\n",
              "      <td>132</td>\n",
              "      <td>127</td>\n",
              "      <td>13.5</td>\n",
              "      <td>65.6</td>\n",
              "      <td>20.9</td>\n",
              "      <td>47.0</td>\n",
              "    </tr>\n",
              "  </tbody>\n",
              "</table>\n",
              "</div>"
            ],
            "text/plain": [
              "   TIME GEO GEO_LABEL  AGEMOTH  ...  ED0-2_30_34  ED3_4_30_34  ED5-8_30_34  EMP_PC\n",
              "0  2000  AT   Austria     28.7  ...         16.7         67.4         15.9    46.9\n",
              "1  2001  AT   Austria     28.9  ...         16.0         67.9         16.1    47.2\n",
              "2  2002  AT   Austria     29.1  ...         15.9         66.9         17.2    46.9\n",
              "3  2003  AT   Austria     29.2  ...         14.3         68.1         17.6    46.9\n",
              "4  2004  AT   Austria     28.8  ...         13.5         65.6         20.9    47.0\n",
              "\n",
              "[5 rows x 17 columns]"
            ]
          },
          "metadata": {
            "tags": []
          },
          "execution_count": 30
        }
      ]
    },
    {
      "cell_type": "code",
      "metadata": {
        "id": "HW11JyIx2Dio",
        "colab_type": "code",
        "colab": {}
      },
      "source": [
        "# Generate Pandas Profiling Report and export to html\n",
        "\n",
        "import pandas_profiling\n",
        "\n",
        "profile_report = df.profile_report(\n",
        "    check_correlation_pearson=True,\n",
        "    correlations={\n",
        "        'pearson': True,\n",
        "        'spearman': False,\n",
        "        'kendall': False,\n",
        "        'phi_k': False,\n",
        "        'cramers': False,\n",
        "        'recoded': False,\n",
        "    },\n",
        "    plot={'histogram': {'bayesian_blocks_bins': False}},\n",
        "    )\n",
        "\n",
        "profile_report.to_file(output_file=\"euro_data.html\")"
      ],
      "execution_count": 0,
      "outputs": []
    },
    {
      "cell_type": "markdown",
      "metadata": {
        "id": "6xCmWjRx8DWc",
        "colab_type": "text"
      },
      "source": [
        "## Target choice & distribution. "
      ]
    },
    {
      "cell_type": "code",
      "metadata": {
        "id": "ch6Yrlpb8FLq",
        "colab_type": "code",
        "colab": {
          "base_uri": "https://localhost:8080/",
          "height": 176
        },
        "outputId": "133db099-0ced-4959-84b1-c5111767b0b2"
      },
      "source": [
        "# My initial pick is migration rate.\n",
        "\n",
        "y = df['CNMIGRATRT']\n",
        "\n",
        "y.describe()"
      ],
      "execution_count": 36,
      "outputs": [
        {
          "output_type": "execute_result",
          "data": {
            "text/plain": [
              "count    8010.000000\n",
              "mean        2.459625\n",
              "std         5.940023\n",
              "min       -46.800000\n",
              "25%        -0.200000\n",
              "50%         1.800000\n",
              "75%         5.200000\n",
              "max        55.200000\n",
              "Name: CNMIGRATRT, dtype: float64"
            ]
          },
          "metadata": {
            "tags": []
          },
          "execution_count": 36
        }
      ]
    },
    {
      "cell_type": "code",
      "metadata": {
        "colab_type": "code",
        "id": "xlsfr_2GsWRp",
        "outputId": "e7b8c1dc-4503-4419-f836-373e9fd156b1",
        "colab": {
          "base_uri": "https://localhost:8080/",
          "height": 364
        }
      },
      "source": [
        "import seaborn as sns\n",
        "sns.distplot(y);"
      ],
      "execution_count": 34,
      "outputs": [
        {
          "output_type": "display_data",
          "data": {
            "image/png": "[encoded data removed]",
            "text/plain": [
              "<Figure size 576x396 with 1 Axes>"
            ]
          },
          "metadata": {
            "tags": []
          }
        }
      ]
    },
    {
      "cell_type": "markdown",
      "metadata": {
        "id": "8KQ1NsSc9EOh",
        "colab_type": "text"
      },
      "source": [
        "Target is a bit right-skewed, but not much."
      ]
    },
    {
      "cell_type": "markdown",
      "metadata": {
        "id": "y_F9pQBf-ytX",
        "colab_type": "text"
      },
      "source": [
        "##  Evaluation metric"
      ]
    },
    {
      "cell_type": "markdown",
      "metadata": {
        "id": "e2P8ZRWD_BTm",
        "colab_type": "text"
      },
      "source": [
        "Normally, for regression models I would start out with a bunch of metrics (e.g. mean absolute error, root mean squared error, R^2). Examining the results, I will get a better idea which metric is most suitable for this model/problem."
      ]
    },
    {
      "cell_type": "markdown",
      "metadata": {
        "id": "pdLFUozJ_7ho",
        "colab_type": "text"
      },
      "source": [
        "## Train, validate and test observations."
      ]
    },
    {
      "cell_type": "markdown",
      "metadata": {
        "id": "dn8UFY7qADSo",
        "colab_type": "text"
      },
      "source": [
        "Outliers - There are some outliers in this dataset. I will decide on a case-by-case basis which observations I need to remove.\n",
        "\n",
        "Missing values - Dataset contains missing values. For some features zeros represent missing values. Probably best to replace these zeros by NaNs.\n",
        "\n",
        "Train, validate, test - A time-based split seems most appropriate. Time series in this dataset all have interval 2000-2017 (18 yearly observations). I will start with train 2000-2011 (12), validate 2012-2014 (3) & test 2015-2017 (3)."
      ]
    },
    {
      "cell_type": "markdown",
      "metadata": {
        "id": "2v_CIAHFDxjm",
        "colab_type": "text"
      },
      "source": [
        "## Begin to clean and explore your data. Begin to choose which features, if any, to exclude. Would some features \"leak\" future information?"
      ]
    },
    {
      "cell_type": "markdown",
      "metadata": {
        "id": "Fz6YY6gvD4FP",
        "colab_type": "text"
      },
      "source": [
        "More to come of course, but in cells above you can see I made a start."
      ]
    },
    {
      "cell_type": "markdown",
      "metadata": {
        "id": "Gg0PLbjQEVgQ",
        "colab_type": "text"
      },
      "source": [
        "## Try-out Area"
      ]
    },
    {
      "cell_type": "code",
      "metadata": {
        "id": "qAEYPG7A4G7Z",
        "colab_type": "code",
        "colab": {}
      },
      "source": [
        "train = df[df['TIME'] <= 2011]\n",
        "val = df[(df['TIME'] > 2011) & (df['TIME'] < 2015)]\n",
        "test = df[df['TIME'] >= 2015]\n",
        "\n",
        "train.shape, val.shape, test.shape"
      ],
      "execution_count": 0,
      "outputs": []
    },
    {
      "cell_type": "code",
      "metadata": {
        "id": "nd6ElEpzuMPU",
        "colab_type": "code",
        "colab": {}
      },
      "source": [
        "from sklearn.linear_model import LinearRegression"
      ],
      "execution_count": 0,
      "outputs": []
    },
    {
      "cell_type": "code",
      "metadata": {
        "id": "3GHtxpT_vNI7",
        "colab_type": "code",
        "colab": {}
      },
      "source": [
        "model = LinearRegression()"
      ],
      "execution_count": 0,
      "outputs": []
    },
    {
      "cell_type": "code",
      "metadata": {
        "id": "fwPXFoMZvQNz",
        "colab_type": "code",
        "outputId": "ec5e43a1-5466-4b1a-a71e-54ae9021f87a",
        "colab": {
          "base_uri": "https://localhost:8080/",
          "height": 87
        }
      },
      "source": [
        "target = 'CNMIGRATRT'\n",
        "features = df.columns.drop([target, 'TIME', 'GEO', 'GEO_LABEL',\n",
        "                            'EMP_PC']) # drop EMP_PC for now, need to clean first\n",
        "\n",
        "X_train = train[features]\n",
        "X_val = test[features]\n",
        "X_test = test[features]\n",
        "y_train = train[target]\n",
        "y_val = val[target]\n",
        "y_test = test[target]\n",
        "print(f'Linear Regression, dependent on: {features}')"
      ],
      "execution_count": 43,
      "outputs": [
        {
          "output_type": "stream",
          "text": [
            "Linear Regression, dependent on: Index(['AGEMOTH', 'MEDAGEMOTH', 'TOTFERRT', 'GBIRTHRT', 'GDEATHRT', 'RT',\n",
            "       'PER_KM2', 'EUR_HAB_EU', 'PPS_HAB_EU', 'ED0-2_30_34', 'ED3_4_30_34',\n",
            "       'ED5-8_30_34'],\n",
            "      dtype='object')\n"
          ],
          "name": "stdout"
        }
      ]
    },
    {
      "cell_type": "code",
      "metadata": {
        "id": "Bvnim5C1yJxf",
        "colab_type": "code",
        "outputId": "5d55a2c6-fe6b-4c83-c572-57ff089d8d49",
        "colab": {
          "base_uri": "https://localhost:8080/",
          "height": 34
        }
      },
      "source": [
        "model.fit(X_train, y_train)"
      ],
      "execution_count": 44,
      "outputs": [
        {
          "output_type": "execute_result",
          "data": {
            "text/plain": [
              "LinearRegression(copy_X=True, fit_intercept=True, n_jobs=None, normalize=False)"
            ]
          },
          "metadata": {
            "tags": []
          },
          "execution_count": 44
        }
      ]
    },
    {
      "cell_type": "code",
      "metadata": {
        "id": "9GgFeQ00GNEq",
        "colab_type": "code",
        "colab": {
          "base_uri": "https://localhost:8080/",
          "height": 247
        },
        "outputId": "b029b6d1-1016-45ba-fc58-e8c35cf96a57"
      },
      "source": [
        "# model.intercept_, model.coef_\n",
        "print('Intercept', model.intercept_)\n",
        "coefficients = pd.Series(model.coef_, features)\n",
        "print(coefficients.to_string())"
      ],
      "execution_count": 45,
      "outputs": [
        {
          "output_type": "stream",
          "text": [
            "Intercept -0.909506919808535\n",
            "AGEMOTH        0.270270\n",
            "MEDAGEMOTH    -0.010113\n",
            "TOTFERRT      -2.804106\n",
            "GBIRTHRT       0.314608\n",
            "GDEATHRT      -0.146237\n",
            "RT            -0.439679\n",
            "PER_KM2       -0.000430\n",
            "EUR_HAB_EU    -0.006719\n",
            "PPS_HAB_EU     0.027570\n",
            "ED0-2_30_34    0.014256\n",
            "ED3_4_30_34   -0.057662\n",
            "ED5-8_30_34    0.059643\n"
          ],
          "name": "stdout"
        }
      ]
    },
    {
      "cell_type": "code",
      "metadata": {
        "id": "3UjXR86tcR4o",
        "colab_type": "code",
        "colab": {}
      },
      "source": [
        "from sklearn.metrics import mean_squared_error\n",
        "from sklearn.metrics import mean_absolute_error"
      ],
      "execution_count": 0,
      "outputs": []
    },
    {
      "cell_type": "code",
      "metadata": {
        "id": "vDYQzLF95iqR",
        "colab_type": "code",
        "outputId": "0087a993-0768-4d95-9e12-5b81afe1247e",
        "colab": {
          "base_uri": "https://localhost:8080/",
          "height": 70
        }
      },
      "source": [
        "y_pred = model.predict(X_train)\n",
        "\n",
        "rmse = mean_squared_error(y_train, y_pred)**(.5)\n",
        "print(f'Train RMSE: {rmse:,.2f}')\n",
        "\n",
        "mae = mean_absolute_error(y_train, y_pred)\n",
        "print(f'Train MAE: {mae:,.2f}')\n",
        "\n",
        "R2 = model.score(X_train, y_train)\n",
        "print(f'Train R^2: {R2:,.4f}')"
      ],
      "execution_count": 48,
      "outputs": [
        {
          "output_type": "stream",
          "text": [
            "Train RMSE: 5.04\n",
            "Train MAE: 3.33\n",
            "Train R^2: 0.2452\n"
          ],
          "name": "stdout"
        }
      ]
    },
    {
      "cell_type": "code",
      "metadata": {
        "id": "u7NDrM6QGewH",
        "colab_type": "code",
        "colab": {}
      },
      "source": [
        "import statsmodels.api as sm\n",
        "import statsmodels.formula.api as smf"
      ],
      "execution_count": 0,
      "outputs": []
    },
    {
      "cell_type": "code",
      "metadata": {
        "id": "E111XaCtGf6D",
        "colab_type": "code",
        "colab": {
          "base_uri": "https://localhost:8080/",
          "height": 692
        },
        "outputId": "e39d200c-d3cc-4452-ed85-81abe632d00c"
      },
      "source": [
        "# Fit regression model on train data\n",
        "results = smf.ols('CNMIGRATRT ~ AGEMOTH + MEDAGEMOTH + TOTFERRT + GBIRTHRT + GDEATHRT + RT + PER_KM2 + EUR_HAB_EU + PPS_HAB_EU', data=train).fit()\n",
        "\n",
        "rmse = results.mse_resid**(.5)\n",
        "print(f'Train RMSE: {rmse:,.2f}')\n",
        "\n",
        "mae = mean_absolute_error(y_train, results.fittedvalues)\n",
        "print(f'Train MAE: {mae:,.2f}')\n",
        "\n",
        "R2 = results.rsquared\n",
        "print(f'Train R^2: {R2:,.4f}')\n",
        "\n",
        "print(results.summary())"
      ],
      "execution_count": 51,
      "outputs": [
        {
          "output_type": "stream",
          "text": [
            "Train RMSE: 5.16\n",
            "Train MAE: 3.45\n",
            "Train R^2: 0.2084\n",
            "                            OLS Regression Results                            \n",
            "==============================================================================\n",
            "Dep. Variable:             CNMIGRATRT   R-squared:                       0.208\n",
            "Model:                            OLS   Adj. R-squared:                  0.207\n",
            "Method:                 Least Squares   F-statistic:                     155.9\n",
            "Date:                Tue, 17 Dec 2019   Prob (F-statistic):          1.33e-262\n",
            "Time:                        13:47:17   Log-Likelihood:                -16337.\n",
            "No. Observations:                5340   AIC:                         3.269e+04\n",
            "Df Residuals:                    5330   BIC:                         3.276e+04\n",
            "Df Model:                           9                                         \n",
            "Covariance Type:            nonrobust                                         \n",
            "==============================================================================\n",
            "                 coef    std err          t      P>|t|      [0.025      0.975]\n",
            "------------------------------------------------------------------------------\n",
            "Intercept     -1.0420      0.221     -4.706      0.000      -1.476      -0.608\n",
            "AGEMOTH        0.2631      0.029      9.067      0.000       0.206       0.320\n",
            "MEDAGEMOTH     0.0213      0.022      0.979      0.328      -0.021       0.064\n",
            "TOTFERRT      -2.7502      0.380     -7.237      0.000      -3.495      -2.005\n",
            "GBIRTHRT       0.4070      0.032     12.913      0.000       0.345       0.469\n",
            "GDEATHRT      -0.3450      0.030    -11.437      0.000      -0.404      -0.286\n",
            "RT            -0.5137      0.028    -18.467      0.000      -0.568      -0.459\n",
            "PER_KM2       -0.0003   8.44e-05     -3.230      0.001      -0.000      -0.000\n",
            "EUR_HAB_EU     0.0014      0.005      0.274      0.784      -0.009       0.011\n",
            "PPS_HAB_EU     0.0181      0.006      2.936      0.003       0.006       0.030\n",
            "==============================================================================\n",
            "Omnibus:                      804.375   Durbin-Watson:                   0.770\n",
            "Prob(Omnibus):                  0.000   Jarque-Bera (JB):            13277.450\n",
            "Skew:                          -0.017   Prob(JB):                         0.00\n",
            "Kurtosis:                      10.725   Cond. No.                     5.53e+03\n",
            "==============================================================================\n",
            "\n",
            "Warnings:\n",
            "[1] Standard Errors assume that the covariance matrix of the errors is correctly specified.\n",
            "[2] The condition number is large, 5.53e+03. This might indicate that there are\n",
            "strong multicollinearity or other numerical problems.\n"
          ],
          "name": "stdout"
        }
      ]
    }
  ]
}