{
 "cells": [
  {
   "cell_type": "markdown",
   "metadata": {
    "colab_type": "text",
    "id": "nCc3XZEyG3XV"
   },
   "source": [
    "Lambda School Data Science\n",
    "\n",
    "*Unit 2, Sprint 3, Module 1*\n",
    "\n",
    "---\n",
    "\n",
    "\n",
    "# Define ML problems\n",
    "\n",
    "You will use your portfolio project dataset for all assignments this sprint.\n",
    "\n",
    "## Assignment\n",
    "\n",
    "Complete these tasks for your project, and document your decisions.\n",
    "\n",
    "- [ ] Choose your target. Which column in your tabular dataset will you predict?\n",
    "- [ ] Is your problem regression or classification?\n",
    "- [ ] How is your target distributed?\n",
    "    - Classification: How many classes? Are the classes imbalanced?\n",
    "    - Regression: Is the target right-skewed? If so, you may want to log transform the target.\n",
    "- [ ] Choose which observations you will use to train, validate, and test your model.\n",
    "    - Are some observations outliers? Will you exclude them?\n",
    "    - Will you do a random split or a time-based split?\n",
    "- [ ] Choose your evaluation metric(s).\n",
    "    - Classification: Is your majority class frequency > 50% and < 70% ? If so, you can just use accuracy if you want. Outside that range, accuracy could be misleading. What evaluation metric will you choose, in addition to or instead of accuracy?\n",
    "- [ ] Begin to clean and explore your data.\n",
    "- [ ] Begin to choose which features, if any, to exclude. Would some features \"leak\" future information?"
   ]
  },
  {
   "cell_type": "code",
   "execution_count": 6,
   "metadata": {},
   "outputs": [],
   "source": [
    "import pandas as pd\n",
    "adoption_url = 'https://data.austintexas.gov/resource/9t4d-g238.csv?$limit=100000'\n",
    "adoption = pd.read_csv(adoption_url)\n",
    "# in order to see all of the columns:\n",
    "pd.options.display.max_columns = 100"
   ]
  },
  {
   "cell_type": "markdown",
   "metadata": {},
   "source": [
    "# Target"
   ]
  },
  {
   "cell_type": "code",
   "execution_count": 7,
   "metadata": {},
   "outputs": [
    {
     "data": {
      "text/html": [
       "<div>\n",
       "<style scoped>\n",
       "    .dataframe tbody tr th:only-of-type {\n",
       "        vertical-align: middle;\n",
       "    }\n",
       "\n",
       "    .dataframe tbody tr th {\n",
       "        vertical-align: top;\n",
       "    }\n",
       "\n",
       "    .dataframe thead th {\n",
       "        text-align: right;\n",
       "    }\n",
       "</style>\n",
       "<table border=\"1\" class=\"dataframe\">\n",
       "  <thead>\n",
       "    <tr style=\"text-align: right;\">\n",
       "      <th></th>\n",
       "      <th>animal_id</th>\n",
       "      <th>name</th>\n",
       "      <th>datetime</th>\n",
       "      <th>monthyear</th>\n",
       "      <th>date_of_birth</th>\n",
       "      <th>outcome_type</th>\n",
       "      <th>outcome_subtype</th>\n",
       "      <th>animal_type</th>\n",
       "      <th>sex_upon_outcome</th>\n",
       "      <th>age_upon_outcome</th>\n",
       "      <th>breed</th>\n",
       "      <th>color</th>\n",
       "    </tr>\n",
       "  </thead>\n",
       "  <tbody>\n",
       "    <tr>\n",
       "      <td>0</td>\n",
       "      <td>A775354</td>\n",
       "      <td>Charley</td>\n",
       "      <td>2019-11-12T13:29:00.000</td>\n",
       "      <td>2019-11-12T13:29:00.000</td>\n",
       "      <td>2013-06-28T00:00:00.000</td>\n",
       "      <td>Adoption</td>\n",
       "      <td>NaN</td>\n",
       "      <td>Dog</td>\n",
       "      <td>Neutered Male</td>\n",
       "      <td>6 years</td>\n",
       "      <td>Cocker Spaniel Mix</td>\n",
       "      <td>Black/White</td>\n",
       "    </tr>\n",
       "    <tr>\n",
       "      <td>1</td>\n",
       "      <td>A775130</td>\n",
       "      <td>*Slinky</td>\n",
       "      <td>2019-11-12T13:17:00.000</td>\n",
       "      <td>2019-11-12T13:17:00.000</td>\n",
       "      <td>2016-06-25T00:00:00.000</td>\n",
       "      <td>Adoption</td>\n",
       "      <td>Foster</td>\n",
       "      <td>Dog</td>\n",
       "      <td>Spayed Female</td>\n",
       "      <td>3 years</td>\n",
       "      <td>Pit Bull Mix</td>\n",
       "      <td>Blue/White</td>\n",
       "    </tr>\n",
       "    <tr>\n",
       "      <td>2</td>\n",
       "      <td>A808385</td>\n",
       "      <td>NaN</td>\n",
       "      <td>2019-11-12T13:16:00.000</td>\n",
       "      <td>2019-11-12T13:16:00.000</td>\n",
       "      <td>2018-11-08T00:00:00.000</td>\n",
       "      <td>Transfer</td>\n",
       "      <td>Partner</td>\n",
       "      <td>Dog</td>\n",
       "      <td>Neutered Male</td>\n",
       "      <td>1 year</td>\n",
       "      <td>Pug/Chihuahua Shorthair</td>\n",
       "      <td>White/Brown</td>\n",
       "    </tr>\n",
       "    <tr>\n",
       "      <td>3</td>\n",
       "      <td>A799709</td>\n",
       "      <td>*Deeogee</td>\n",
       "      <td>2019-11-12T13:15:00.000</td>\n",
       "      <td>2019-11-12T13:15:00.000</td>\n",
       "      <td>2018-07-11T00:00:00.000</td>\n",
       "      <td>Adoption</td>\n",
       "      <td>Foster</td>\n",
       "      <td>Dog</td>\n",
       "      <td>Neutered Male</td>\n",
       "      <td>1 year</td>\n",
       "      <td>Beagle Mix</td>\n",
       "      <td>Brown Brindle</td>\n",
       "    </tr>\n",
       "    <tr>\n",
       "      <td>4</td>\n",
       "      <td>A713661</td>\n",
       "      <td>Coco</td>\n",
       "      <td>2019-11-12T12:46:00.000</td>\n",
       "      <td>2019-11-12T12:46:00.000</td>\n",
       "      <td>2013-10-10T00:00:00.000</td>\n",
       "      <td>Return to Owner</td>\n",
       "      <td>NaN</td>\n",
       "      <td>Dog</td>\n",
       "      <td>Spayed Female</td>\n",
       "      <td>6 years</td>\n",
       "      <td>Labrador Retriever Mix</td>\n",
       "      <td>Black/White</td>\n",
       "    </tr>\n",
       "  </tbody>\n",
       "</table>\n",
       "</div>"
      ],
      "text/plain": [
       "  animal_id      name                 datetime                monthyear  \\\n",
       "0   A775354   Charley  2019-11-12T13:29:00.000  2019-11-12T13:29:00.000   \n",
       "1   A775130   *Slinky  2019-11-12T13:17:00.000  2019-11-12T13:17:00.000   \n",
       "2   A808385       NaN  2019-11-12T13:16:00.000  2019-11-12T13:16:00.000   \n",
       "3   A799709  *Deeogee  2019-11-12T13:15:00.000  2019-11-12T13:15:00.000   \n",
       "4   A713661      Coco  2019-11-12T12:46:00.000  2019-11-12T12:46:00.000   \n",
       "\n",
       "             date_of_birth     outcome_type outcome_subtype animal_type  \\\n",
       "0  2013-06-28T00:00:00.000         Adoption             NaN         Dog   \n",
       "1  2016-06-25T00:00:00.000         Adoption          Foster         Dog   \n",
       "2  2018-11-08T00:00:00.000         Transfer         Partner         Dog   \n",
       "3  2018-07-11T00:00:00.000         Adoption          Foster         Dog   \n",
       "4  2013-10-10T00:00:00.000  Return to Owner             NaN         Dog   \n",
       "\n",
       "  sex_upon_outcome age_upon_outcome                    breed          color  \n",
       "0    Neutered Male          6 years       Cocker Spaniel Mix    Black/White  \n",
       "1    Spayed Female          3 years             Pit Bull Mix     Blue/White  \n",
       "2    Neutered Male           1 year  Pug/Chihuahua Shorthair    White/Brown  \n",
       "3    Neutered Male           1 year               Beagle Mix  Brown Brindle  \n",
       "4    Spayed Female          6 years   Labrador Retriever Mix    Black/White  "
      ]
     },
     "execution_count": 7,
     "metadata": {},
     "output_type": "execute_result"
    }
   ],
   "source": [
    "adoption.head()"
   ]
  },
  {
   "cell_type": "code",
   "execution_count": 8,
   "metadata": {},
   "outputs": [
    {
     "data": {
      "text/plain": [
       "(100000, 12)"
      ]
     },
     "execution_count": 8,
     "metadata": {},
     "output_type": "execute_result"
    }
   ],
   "source": [
    "adoption.shape"
   ]
  },
  {
   "cell_type": "markdown",
   "metadata": {},
   "source": [
    "The target in this project will be to predict whether or not an animal will be adopted or not (transferred to another shelter or, sadly, euthanized) so that perhaps animal shelters, though overwhelmed, can give some extra love or use unique methods to get those animals that may not have the best odds forever homes."
   ]
  },
  {
   "cell_type": "code",
   "execution_count": 82,
   "metadata": {},
   "outputs": [
    {
     "data": {
      "text/plain": [
       "Adoption           44389\n",
       "Transfer           29848\n",
       "Return to Owner    17520\n",
       "Euthanasia          6300\n",
       "Died                 968\n",
       "Rto-Adopt            507\n",
       "Disposal             387\n",
       "Missing               61\n",
       "Relocate              17\n",
       "NaN                    3\n",
       "Name: outcome_type, dtype: int64"
      ]
     },
     "execution_count": 82,
     "metadata": {},
     "output_type": "execute_result"
    }
   ],
   "source": [
    "adoption['outcome_type'].value_counts(dropna=False)"
   ]
  },
  {
   "cell_type": "code",
   "execution_count": 81,
   "metadata": {},
   "outputs": [
    {
     "data": {
      "text/plain": [
       "NaN                    54846\n",
       "Partner                24931\n",
       "Foster                  7953\n",
       "Rabies Risk             2791\n",
       "SCRP                    2642\n",
       "Suffering               2504\n",
       "Snr                     2272\n",
       "In Kennel                508\n",
       "Aggressive               360\n",
       "Offsite                  281\n",
       "Medical                  254\n",
       "In Foster                242\n",
       "At Vet                   171\n",
       "Behavior                  82\n",
       "Enroute                   65\n",
       "Underage                  29\n",
       "Court/Investigation       21\n",
       "In Surgery                19\n",
       "Possible Theft            15\n",
       "Field                      8\n",
       "Barn                       4\n",
       "Prc                        1\n",
       "Customer S                 1\n",
       "Name: outcome_subtype, dtype: int64"
      ]
     },
     "execution_count": 81,
     "metadata": {},
     "output_type": "execute_result"
    }
   ],
   "source": [
    "# this might be a feature that can create leakage, will come back to it.\n",
    "adoption['outcome_subtype'].value_counts(dropna=False)"
   ]
  },
  {
   "cell_type": "markdown",
   "metadata": {},
   "source": [
    "# Classification or Regression?"
   ]
  },
  {
   "cell_type": "markdown",
   "metadata": {},
   "source": [
    "There are 9 classes of outcomes but for this project I'd like to focus on the animals that were adopted or not. There are a large number of animals that were returned to owners but that would just be due to them getting out etc but they do have a home so I will not include those in my project. \"Rto-adopt\" or return to owner adoption will also be included with \"return to owner.\"\n",
    "\n",
    "For animals that were adopted I will consider that to be:  \n",
    "-adoption  \n",
    "-rto-adopt (return to owner through adoption)  \n",
    "\n",
    "\n",
    "I will combine the following for not adopted:  \n",
    "-transfer  \n",
    "-euthanasia  \n",
    "-relocate  \n",
    "-missing (animals that went missing from the shelter--still unsuccessful in getting them homes)  \n",
    "\"Died\" and \"disposal\" are animals that may have died while at the shelter or were brought in that needed to be properly disposed of so I will not include these either as they may have been very ill when brought in."
   ]
  },
  {
   "cell_type": "markdown",
   "metadata": {},
   "source": [
    "# How is the target distributed?\n",
    "## Are the classes imbalanced?"
   ]
  },
  {
   "cell_type": "code",
   "execution_count": 137,
   "metadata": {
    "scrolled": false
   },
   "outputs": [
    {
     "data": {
      "text/plain": [
       "Adoption           0.443903\n",
       "Transfer           0.298489\n",
       "Return to Owner    0.175205\n",
       "Euthanasia         0.063002\n",
       "Died               0.009680\n",
       "Rto-Adopt          0.005070\n",
       "Disposal           0.003870\n",
       "Missing            0.000610\n",
       "Relocate           0.000170\n",
       "Name: outcome_type, dtype: float64"
      ]
     },
     "execution_count": 137,
     "metadata": {},
     "output_type": "execute_result"
    }
   ],
   "source": [
    "adoption['outcome_type'].value_counts(normalize=True)"
   ]
  },
  {
   "cell_type": "markdown",
   "metadata": {},
   "source": [
    "will need to drop the rows where the outcome type are the ones listed above to be excluded:  \n",
    "-Return to owner  \n",
    "-Rto-adopt  \n",
    "-Died  \n",
    "-Disposal\n"
   ]
  },
  {
   "cell_type": "code",
   "execution_count": 138,
   "metadata": {},
   "outputs": [],
   "source": [
    "# adoption updated to drop the outcomes we are excluding:\n",
    "adoption_upd = adoption[~adoption['outcome_type'].isin(['Return to Owner', \n",
    "                                                        'Rto-Adopt', \n",
    "                                                        'Died', \n",
    "                                                        'Disposal'])]"
   ]
  },
  {
   "cell_type": "code",
   "execution_count": 139,
   "metadata": {},
   "outputs": [
    {
     "name": "stdout",
     "output_type": "stream",
     "text": [
      "(80618, 12)\n"
     ]
    },
    {
     "data": {
      "text/plain": [
       "Adoption      44389\n",
       "Transfer      29848\n",
       "Euthanasia     6300\n",
       "Missing          61\n",
       "Relocate         17\n",
       "Name: outcome_type, dtype: int64"
      ]
     },
     "execution_count": 139,
     "metadata": {},
     "output_type": "execute_result"
    }
   ],
   "source": [
    "print(adoption_upd.shape)\n",
    "adoption_upd['outcome_type'].value_counts()"
   ]
  },
  {
   "cell_type": "code",
   "execution_count": 140,
   "metadata": {},
   "outputs": [],
   "source": [
    "# need to redefine classes as binary. Adoption as 'adopted' and \n",
    "# the rest as 'not adopted'.\n",
    "def new_status(outcome):\n",
    "    if outcome == 'Transfer' or outcome == 'Euthanasia' or outcome == 'Missing' or outcome == 'Relocate':\n",
    "      return 'Not adopted'\n",
    "    else:\n",
    "      return 'Adopted'\n"
   ]
  },
  {
   "cell_type": "code",
   "execution_count": 141,
   "metadata": {},
   "outputs": [],
   "source": [
    "adoption_upd = adoption_upd.copy()\n",
    "adoption_upd['new_outcome_type'] = adoption_upd['outcome_type'].apply(new_status)"
   ]
  },
  {
   "cell_type": "code",
   "execution_count": 142,
   "metadata": {},
   "outputs": [
    {
     "data": {
      "text/plain": [
       "Adopted        0.550646\n",
       "Not adopted    0.449354\n",
       "Name: new_outcome_type, dtype: float64"
      ]
     },
     "execution_count": 142,
     "metadata": {},
     "output_type": "execute_result"
    }
   ],
   "source": [
    "adoption_upd['new_outcome_type'].value_counts(normalize=True)"
   ]
  },
  {
   "cell_type": "markdown",
   "metadata": {},
   "source": [
    "The classes now are combined into a binary classification and the classes are not imbalanced."
   ]
  },
  {
   "cell_type": "code",
   "execution_count": 143,
   "metadata": {},
   "outputs": [
    {
     "data": {
      "text/html": [
       "<div>\n",
       "<style scoped>\n",
       "    .dataframe tbody tr th:only-of-type {\n",
       "        vertical-align: middle;\n",
       "    }\n",
       "\n",
       "    .dataframe tbody tr th {\n",
       "        vertical-align: top;\n",
       "    }\n",
       "\n",
       "    .dataframe thead th {\n",
       "        text-align: right;\n",
       "    }\n",
       "</style>\n",
       "<table border=\"1\" class=\"dataframe\">\n",
       "  <thead>\n",
       "    <tr style=\"text-align: right;\">\n",
       "      <th></th>\n",
       "      <th>animal_id</th>\n",
       "      <th>name</th>\n",
       "      <th>datetime</th>\n",
       "      <th>monthyear</th>\n",
       "      <th>date_of_birth</th>\n",
       "      <th>outcome_subtype</th>\n",
       "      <th>animal_type</th>\n",
       "      <th>sex_upon_outcome</th>\n",
       "      <th>age_upon_outcome</th>\n",
       "      <th>breed</th>\n",
       "      <th>color</th>\n",
       "      <th>new_outcome_type</th>\n",
       "    </tr>\n",
       "  </thead>\n",
       "  <tbody>\n",
       "    <tr>\n",
       "      <td>0</td>\n",
       "      <td>A775354</td>\n",
       "      <td>Charley</td>\n",
       "      <td>2019-11-12T13:29:00.000</td>\n",
       "      <td>2019-11-12T13:29:00.000</td>\n",
       "      <td>2013-06-28T00:00:00.000</td>\n",
       "      <td>NaN</td>\n",
       "      <td>Dog</td>\n",
       "      <td>Neutered Male</td>\n",
       "      <td>6 years</td>\n",
       "      <td>Cocker Spaniel Mix</td>\n",
       "      <td>Black/White</td>\n",
       "      <td>Adopted</td>\n",
       "    </tr>\n",
       "    <tr>\n",
       "      <td>1</td>\n",
       "      <td>A775130</td>\n",
       "      <td>*Slinky</td>\n",
       "      <td>2019-11-12T13:17:00.000</td>\n",
       "      <td>2019-11-12T13:17:00.000</td>\n",
       "      <td>2016-06-25T00:00:00.000</td>\n",
       "      <td>Foster</td>\n",
       "      <td>Dog</td>\n",
       "      <td>Spayed Female</td>\n",
       "      <td>3 years</td>\n",
       "      <td>Pit Bull Mix</td>\n",
       "      <td>Blue/White</td>\n",
       "      <td>Adopted</td>\n",
       "    </tr>\n",
       "    <tr>\n",
       "      <td>2</td>\n",
       "      <td>A808385</td>\n",
       "      <td>NaN</td>\n",
       "      <td>2019-11-12T13:16:00.000</td>\n",
       "      <td>2019-11-12T13:16:00.000</td>\n",
       "      <td>2018-11-08T00:00:00.000</td>\n",
       "      <td>Partner</td>\n",
       "      <td>Dog</td>\n",
       "      <td>Neutered Male</td>\n",
       "      <td>1 year</td>\n",
       "      <td>Pug/Chihuahua Shorthair</td>\n",
       "      <td>White/Brown</td>\n",
       "      <td>Not adopted</td>\n",
       "    </tr>\n",
       "    <tr>\n",
       "      <td>3</td>\n",
       "      <td>A799709</td>\n",
       "      <td>*Deeogee</td>\n",
       "      <td>2019-11-12T13:15:00.000</td>\n",
       "      <td>2019-11-12T13:15:00.000</td>\n",
       "      <td>2018-07-11T00:00:00.000</td>\n",
       "      <td>Foster</td>\n",
       "      <td>Dog</td>\n",
       "      <td>Neutered Male</td>\n",
       "      <td>1 year</td>\n",
       "      <td>Beagle Mix</td>\n",
       "      <td>Brown Brindle</td>\n",
       "      <td>Adopted</td>\n",
       "    </tr>\n",
       "    <tr>\n",
       "      <td>5</td>\n",
       "      <td>A808367</td>\n",
       "      <td>Daily</td>\n",
       "      <td>2019-11-12T12:38:00.000</td>\n",
       "      <td>2019-11-12T12:38:00.000</td>\n",
       "      <td>2016-11-07T00:00:00.000</td>\n",
       "      <td>Partner</td>\n",
       "      <td>Dog</td>\n",
       "      <td>Intact Female</td>\n",
       "      <td>3 years</td>\n",
       "      <td>Australian Cattle Dog/Labrador Retriever</td>\n",
       "      <td>Cream</td>\n",
       "      <td>Not adopted</td>\n",
       "    </tr>\n",
       "    <tr>\n",
       "      <td>...</td>\n",
       "      <td>...</td>\n",
       "      <td>...</td>\n",
       "      <td>...</td>\n",
       "      <td>...</td>\n",
       "      <td>...</td>\n",
       "      <td>...</td>\n",
       "      <td>...</td>\n",
       "      <td>...</td>\n",
       "      <td>...</td>\n",
       "      <td>...</td>\n",
       "      <td>...</td>\n",
       "      <td>...</td>\n",
       "    </tr>\n",
       "    <tr>\n",
       "      <td>99995</td>\n",
       "      <td>A679740</td>\n",
       "      <td>NaN</td>\n",
       "      <td>2014-05-26T16:55:00.000</td>\n",
       "      <td>2014-05-26T16:55:00.000</td>\n",
       "      <td>2014-03-25T00:00:00.000</td>\n",
       "      <td>Partner</td>\n",
       "      <td>Dog</td>\n",
       "      <td>Intact Male</td>\n",
       "      <td>2 months</td>\n",
       "      <td>Catahoula Mix</td>\n",
       "      <td>Brown Brindle/White</td>\n",
       "      <td>Not adopted</td>\n",
       "    </tr>\n",
       "    <tr>\n",
       "      <td>99996</td>\n",
       "      <td>A679715</td>\n",
       "      <td>NaN</td>\n",
       "      <td>2014-05-26T16:54:00.000</td>\n",
       "      <td>2014-05-26T16:54:00.000</td>\n",
       "      <td>2014-03-25T00:00:00.000</td>\n",
       "      <td>Partner</td>\n",
       "      <td>Dog</td>\n",
       "      <td>Intact Female</td>\n",
       "      <td>2 months</td>\n",
       "      <td>Catahoula Mix</td>\n",
       "      <td>Tan/White</td>\n",
       "      <td>Not adopted</td>\n",
       "    </tr>\n",
       "    <tr>\n",
       "      <td>99997</td>\n",
       "      <td>A677532</td>\n",
       "      <td>*Taco</td>\n",
       "      <td>2014-05-26T16:52:00.000</td>\n",
       "      <td>2014-05-26T16:52:00.000</td>\n",
       "      <td>2014-03-15T00:00:00.000</td>\n",
       "      <td>NaN</td>\n",
       "      <td>Cat</td>\n",
       "      <td>Neutered Male</td>\n",
       "      <td>2 months</td>\n",
       "      <td>Domestic Shorthair Mix</td>\n",
       "      <td>White</td>\n",
       "      <td>Adopted</td>\n",
       "    </tr>\n",
       "    <tr>\n",
       "      <td>99998</td>\n",
       "      <td>A677530</td>\n",
       "      <td>*Chimichanga</td>\n",
       "      <td>2014-05-26T16:51:00.000</td>\n",
       "      <td>2014-05-26T16:51:00.000</td>\n",
       "      <td>2014-03-15T00:00:00.000</td>\n",
       "      <td>NaN</td>\n",
       "      <td>Cat</td>\n",
       "      <td>Neutered Male</td>\n",
       "      <td>2 months</td>\n",
       "      <td>Domestic Shorthair Mix</td>\n",
       "      <td>Black</td>\n",
       "      <td>Adopted</td>\n",
       "    </tr>\n",
       "    <tr>\n",
       "      <td>99999</td>\n",
       "      <td>A679225</td>\n",
       "      <td>Phoebe</td>\n",
       "      <td>2014-05-26T16:40:00.000</td>\n",
       "      <td>2014-05-26T16:40:00.000</td>\n",
       "      <td>2011-05-17T00:00:00.000</td>\n",
       "      <td>NaN</td>\n",
       "      <td>Dog</td>\n",
       "      <td>Spayed Female</td>\n",
       "      <td>3 years</td>\n",
       "      <td>Maltese/Miniature Poodle</td>\n",
       "      <td>Apricot</td>\n",
       "      <td>Adopted</td>\n",
       "    </tr>\n",
       "  </tbody>\n",
       "</table>\n",
       "<p>80618 rows × 12 columns</p>\n",
       "</div>"
      ],
      "text/plain": [
       "      animal_id          name                 datetime  \\\n",
       "0       A775354       Charley  2019-11-12T13:29:00.000   \n",
       "1       A775130       *Slinky  2019-11-12T13:17:00.000   \n",
       "2       A808385           NaN  2019-11-12T13:16:00.000   \n",
       "3       A799709      *Deeogee  2019-11-12T13:15:00.000   \n",
       "5       A808367         Daily  2019-11-12T12:38:00.000   \n",
       "...         ...           ...                      ...   \n",
       "99995   A679740           NaN  2014-05-26T16:55:00.000   \n",
       "99996   A679715           NaN  2014-05-26T16:54:00.000   \n",
       "99997   A677532         *Taco  2014-05-26T16:52:00.000   \n",
       "99998   A677530  *Chimichanga  2014-05-26T16:51:00.000   \n",
       "99999   A679225        Phoebe  2014-05-26T16:40:00.000   \n",
       "\n",
       "                     monthyear            date_of_birth outcome_subtype  \\\n",
       "0      2019-11-12T13:29:00.000  2013-06-28T00:00:00.000             NaN   \n",
       "1      2019-11-12T13:17:00.000  2016-06-25T00:00:00.000          Foster   \n",
       "2      2019-11-12T13:16:00.000  2018-11-08T00:00:00.000         Partner   \n",
       "3      2019-11-12T13:15:00.000  2018-07-11T00:00:00.000          Foster   \n",
       "5      2019-11-12T12:38:00.000  2016-11-07T00:00:00.000         Partner   \n",
       "...                        ...                      ...             ...   \n",
       "99995  2014-05-26T16:55:00.000  2014-03-25T00:00:00.000         Partner   \n",
       "99996  2014-05-26T16:54:00.000  2014-03-25T00:00:00.000         Partner   \n",
       "99997  2014-05-26T16:52:00.000  2014-03-15T00:00:00.000             NaN   \n",
       "99998  2014-05-26T16:51:00.000  2014-03-15T00:00:00.000             NaN   \n",
       "99999  2014-05-26T16:40:00.000  2011-05-17T00:00:00.000             NaN   \n",
       "\n",
       "      animal_type sex_upon_outcome age_upon_outcome  \\\n",
       "0             Dog    Neutered Male          6 years   \n",
       "1             Dog    Spayed Female          3 years   \n",
       "2             Dog    Neutered Male           1 year   \n",
       "3             Dog    Neutered Male           1 year   \n",
       "5             Dog    Intact Female          3 years   \n",
       "...           ...              ...              ...   \n",
       "99995         Dog      Intact Male         2 months   \n",
       "99996         Dog    Intact Female         2 months   \n",
       "99997         Cat    Neutered Male         2 months   \n",
       "99998         Cat    Neutered Male         2 months   \n",
       "99999         Dog    Spayed Female          3 years   \n",
       "\n",
       "                                          breed                color  \\\n",
       "0                            Cocker Spaniel Mix          Black/White   \n",
       "1                                  Pit Bull Mix           Blue/White   \n",
       "2                       Pug/Chihuahua Shorthair          White/Brown   \n",
       "3                                    Beagle Mix        Brown Brindle   \n",
       "5      Australian Cattle Dog/Labrador Retriever                Cream   \n",
       "...                                         ...                  ...   \n",
       "99995                             Catahoula Mix  Brown Brindle/White   \n",
       "99996                             Catahoula Mix            Tan/White   \n",
       "99997                    Domestic Shorthair Mix                White   \n",
       "99998                    Domestic Shorthair Mix                Black   \n",
       "99999                  Maltese/Miniature Poodle              Apricot   \n",
       "\n",
       "      new_outcome_type  \n",
       "0              Adopted  \n",
       "1              Adopted  \n",
       "2          Not adopted  \n",
       "3              Adopted  \n",
       "5          Not adopted  \n",
       "...                ...  \n",
       "99995      Not adopted  \n",
       "99996      Not adopted  \n",
       "99997          Adopted  \n",
       "99998          Adopted  \n",
       "99999          Adopted  \n",
       "\n",
       "[80618 rows x 12 columns]"
      ]
     },
     "execution_count": 143,
     "metadata": {},
     "output_type": "execute_result"
    }
   ],
   "source": [
    "# drop the original 'Outcome_Type' column:\n",
    "adoption_upd.drop(columns='outcome_type')"
   ]
  },
  {
   "cell_type": "markdown",
   "metadata": {},
   "source": [
    "# Choose Observations"
   ]
  },
  {
   "cell_type": "markdown",
   "metadata": {},
   "source": [
    "As mentioned above, since the focus of my project is predicting if animals that are in need of forever homes will be adopted or not, I have already excluded the following observations from my model:  \n",
    "-Return to Owner  \n",
    "-Rto-Adopt  \n",
    "-Died  \n",
    "-Disposal  \n",
    "\n",
    "There are 3 missing values for the outcome ,so we can try to look at the outcome subtype to see if we can determine what happened to them but the remaining animals have been categorized into 'adopted' or 'not adopted.'"
   ]
  },
  {
   "cell_type": "code",
   "execution_count": 144,
   "metadata": {},
   "outputs": [
    {
     "data": {
      "text/plain": [
       "animal_id               0\n",
       "name                30058\n",
       "datetime                0\n",
       "monthyear               0\n",
       "date_of_birth           0\n",
       "outcome_type            3\n",
       "outcome_subtype     36354\n",
       "animal_type             0\n",
       "sex_upon_outcome        3\n",
       "age_upon_outcome       25\n",
       "breed                   0\n",
       "color                   0\n",
       "new_outcome_type        0\n",
       "dtype: int64"
      ]
     },
     "execution_count": 144,
     "metadata": {},
     "output_type": "execute_result"
    }
   ],
   "source": [
    "adoption_upd.isnull().sum()"
   ]
  },
  {
   "cell_type": "markdown",
   "metadata": {},
   "source": [
    "# How to Split Data:"
   ]
  },
  {
   "cell_type": "markdown",
   "metadata": {},
   "source": [
    "The description of the data set said that Austin is becoming a more pet-friendly city so there may be more animals going in and out of shelters in the more recent data vs the earlier data. I will therefore split the data based on time with the most recent data being the test set and then create a test and validation set with the remaining data.  \n",
    "\n",
    "test = adoption_upd[(adoption_upd['datetime'].dt.year == 2019)]  \n",
    "val =  adoption_upd[(adoption_upd['datetime'].dt.year == 2018)]  \n",
    "train = adoption_upd[(adoption_upd['datetime'].dt.year < 2018)]"
   ]
  },
  {
   "cell_type": "code",
   "execution_count": 145,
   "metadata": {},
   "outputs": [
    {
     "data": {
      "text/plain": [
       "animal_id           object\n",
       "name                object\n",
       "datetime            object\n",
       "monthyear           object\n",
       "date_of_birth       object\n",
       "outcome_type        object\n",
       "outcome_subtype     object\n",
       "animal_type         object\n",
       "sex_upon_outcome    object\n",
       "age_upon_outcome    object\n",
       "breed               object\n",
       "color               object\n",
       "new_outcome_type    object\n",
       "dtype: object"
      ]
     },
     "execution_count": 145,
     "metadata": {},
     "output_type": "execute_result"
    }
   ],
   "source": [
    "adoption_upd.dtypes"
   ]
  },
  {
   "cell_type": "code",
   "execution_count": 146,
   "metadata": {},
   "outputs": [],
   "source": [
    "adoption_upd['datetime'] = pd.to_datetime(adoption_upd['datetime'], infer_datetime_format=True)"
   ]
  },
  {
   "cell_type": "code",
   "execution_count": 147,
   "metadata": {},
   "outputs": [
    {
     "data": {
      "text/plain": [
       "2015    14792\n",
       "2019    14292\n",
       "2016    14120\n",
       "2017    14058\n",
       "2018    13361\n",
       "2014     9995\n",
       "Name: datetime, dtype: int64"
      ]
     },
     "execution_count": 147,
     "metadata": {},
     "output_type": "execute_result"
    }
   ],
   "source": [
    "adoption_upd['datetime'].dt.year.value_counts()"
   ]
  },
  {
   "cell_type": "code",
   "execution_count": 38,
   "metadata": {},
   "outputs": [],
   "source": [
    "# how big to make test set? 2019:\n",
    "# 14292 observations"
   ]
  },
  {
   "cell_type": "markdown",
   "metadata": {},
   "source": [
    "# Evaluation Metrics"
   ]
  },
  {
   "cell_type": "markdown",
   "metadata": {},
   "source": [
    "since the classes aren't imbalanced I can use accuracy but will also explore the precision and recall for this problem.\n",
    "\n",
    "precision positive: correctly predict all the animals that were adopted.  \n",
    "\n",
    "\\begin{align}\n",
    "precision = \\frac{accurately \\ predicted \\ adopted}{total\\ predicted \\ adopted}\n",
    "\\end{align}\n"
   ]
  },
  {
   "cell_type": "markdown",
   "metadata": {},
   "source": [
    "recall positive: of all the animals that were adopted, how many were we able to identify?\n",
    "\\begin{align}\n",
    "recall = \\frac{accurately \\ predicted \\ adopted}{actually \\ adopted}\n",
    "\\end{align}\n"
   ]
  },
  {
   "cell_type": "markdown",
   "metadata": {},
   "source": [
    "# Begin to clean data and feature selection"
   ]
  },
  {
   "cell_type": "code",
   "execution_count": 148,
   "metadata": {},
   "outputs": [
    {
     "data": {
      "text/html": [
       "<div>\n",
       "<style scoped>\n",
       "    .dataframe tbody tr th:only-of-type {\n",
       "        vertical-align: middle;\n",
       "    }\n",
       "\n",
       "    .dataframe tbody tr th {\n",
       "        vertical-align: top;\n",
       "    }\n",
       "\n",
       "    .dataframe thead th {\n",
       "        text-align: right;\n",
       "    }\n",
       "</style>\n",
       "<table border=\"1\" class=\"dataframe\">\n",
       "  <thead>\n",
       "    <tr style=\"text-align: right;\">\n",
       "      <th></th>\n",
       "      <th>animal_id</th>\n",
       "      <th>name</th>\n",
       "      <th>datetime</th>\n",
       "      <th>monthyear</th>\n",
       "      <th>date_of_birth</th>\n",
       "      <th>outcome_type</th>\n",
       "      <th>outcome_subtype</th>\n",
       "      <th>animal_type</th>\n",
       "      <th>sex_upon_outcome</th>\n",
       "      <th>age_upon_outcome</th>\n",
       "      <th>breed</th>\n",
       "      <th>color</th>\n",
       "      <th>new_outcome_type</th>\n",
       "    </tr>\n",
       "  </thead>\n",
       "  <tbody>\n",
       "    <tr>\n",
       "      <td>2565</td>\n",
       "      <td>A803963</td>\n",
       "      <td>Little Bit</td>\n",
       "      <td>2019-09-27 17:59:00</td>\n",
       "      <td>2019-09-27T17:59:00.000</td>\n",
       "      <td>2017-09-09T00:00:00.000</td>\n",
       "      <td>NaN</td>\n",
       "      <td>NaN</td>\n",
       "      <td>Dog</td>\n",
       "      <td>Intact Male</td>\n",
       "      <td>NaN</td>\n",
       "      <td>Miniature Schnauzer</td>\n",
       "      <td>Gray/Black</td>\n",
       "      <td>Adopted</td>\n",
       "    </tr>\n",
       "    <tr>\n",
       "      <td>53725</td>\n",
       "      <td>A737705</td>\n",
       "      <td>*Heddy</td>\n",
       "      <td>2016-11-19 16:35:00</td>\n",
       "      <td>2016-11-19T16:35:00.000</td>\n",
       "      <td>2013-11-02T00:00:00.000</td>\n",
       "      <td>NaN</td>\n",
       "      <td>NaN</td>\n",
       "      <td>Dog</td>\n",
       "      <td>NaN</td>\n",
       "      <td>NaN</td>\n",
       "      <td>Labrador Retriever Mix</td>\n",
       "      <td>Black/White</td>\n",
       "      <td>Adopted</td>\n",
       "    </tr>\n",
       "    <tr>\n",
       "      <td>94975</td>\n",
       "      <td>A686025</td>\n",
       "      <td>NaN</td>\n",
       "      <td>2014-08-16 08:35:00</td>\n",
       "      <td>2014-08-16T08:35:00.000</td>\n",
       "      <td>2013-08-15T00:00:00.000</td>\n",
       "      <td>NaN</td>\n",
       "      <td>NaN</td>\n",
       "      <td>Other</td>\n",
       "      <td>Unknown</td>\n",
       "      <td>1 year</td>\n",
       "      <td>Bat Mix</td>\n",
       "      <td>Brown</td>\n",
       "      <td>Adopted</td>\n",
       "    </tr>\n",
       "  </tbody>\n",
       "</table>\n",
       "</div>"
      ],
      "text/plain": [
       "      animal_id        name            datetime                monthyear  \\\n",
       "2565    A803963  Little Bit 2019-09-27 17:59:00  2019-09-27T17:59:00.000   \n",
       "53725   A737705      *Heddy 2016-11-19 16:35:00  2016-11-19T16:35:00.000   \n",
       "94975   A686025         NaN 2014-08-16 08:35:00  2014-08-16T08:35:00.000   \n",
       "\n",
       "                 date_of_birth outcome_type outcome_subtype animal_type  \\\n",
       "2565   2017-09-09T00:00:00.000          NaN             NaN         Dog   \n",
       "53725  2013-11-02T00:00:00.000          NaN             NaN         Dog   \n",
       "94975  2013-08-15T00:00:00.000          NaN             NaN       Other   \n",
       "\n",
       "      sex_upon_outcome age_upon_outcome                   breed        color  \\\n",
       "2565       Intact Male              NaN     Miniature Schnauzer   Gray/Black   \n",
       "53725              NaN              NaN  Labrador Retriever Mix  Black/White   \n",
       "94975          Unknown           1 year                 Bat Mix        Brown   \n",
       "\n",
       "      new_outcome_type  \n",
       "2565           Adopted  \n",
       "53725          Adopted  \n",
       "94975          Adopted  "
      ]
     },
     "execution_count": 148,
     "metadata": {},
     "output_type": "execute_result"
    }
   ],
   "source": [
    "# lets look at the 3 missing values for the outcome type:\n",
    "adoption_upd[adoption_upd['outcome_type'].isnull()]\n",
    "# both the outcome type and outcome subtype are missing. Since only 3 rows,\n",
    "# will drop these observations from the data."
   ]
  },
  {
   "cell_type": "markdown",
   "metadata": {},
   "source": [
    "will create a wrangle function to do things at one time, \n",
    "list:  \n",
    "adoption_upd.dropna(subset = ['outcome_type'])  \n",
    "the name column has a lot of missing values, will change NaN's to unknown\n",
    "adoption_upd['name].fillna(\"unknown\", inplace = True)  \n",
    "  \n",
    "the outcome subtype is missing 36353 values, almost half of all of our data, since we will know all of the outcome types and this may cause leakage into the test set because certain outcomes can be deduced from the outcome subtype, I will drop that entire column.  \n",
    "adoption_upd.drop(columns='outcome_subtype')\n"
   ]
  },
  {
   "cell_type": "code",
   "execution_count": 149,
   "metadata": {},
   "outputs": [
    {
     "data": {
      "text/plain": [
       "Neutered Male    27563\n",
       "Spayed Female    26009\n",
       "Intact Female    10091\n",
       "Intact Male       9376\n",
       "Unknown           7576\n",
       "Name: sex_upon_outcome, dtype: int64"
      ]
     },
     "execution_count": 149,
     "metadata": {},
     "output_type": "execute_result"
    }
   ],
   "source": [
    "# the sex_upon_outcome column has 3 missing values, 1 of which is a row that\n",
    "# will be dropped because the outcome type is missing, but noticed an 'unknown'\n",
    "# value so check to see if that's common:\n",
    "adoption_upd['sex_upon_outcome'].value_counts()\n",
    "# will one hot encode this column."
   ]
  },
  {
   "cell_type": "code",
   "execution_count": 150,
   "metadata": {},
   "outputs": [
    {
     "data": {
      "text/plain": [
       "animal_id              0\n",
       "name                  18\n",
       "datetime               0\n",
       "monthyear              0\n",
       "date_of_birth          0\n",
       "outcome_type           0\n",
       "outcome_subtype        0\n",
       "animal_type            0\n",
       "sex_upon_outcome    7576\n",
       "age_upon_outcome       0\n",
       "breed                  0\n",
       "color                  0\n",
       "new_outcome_type       0\n",
       "dtype: int64"
      ]
     },
     "execution_count": 150,
     "metadata": {},
     "output_type": "execute_result"
    }
   ],
   "source": [
    "# age_upon_outcome has 25 missing values but date_of_birth has none, lets\n",
    "# look at how many times 'unknown' shows up in the data:\n",
    "adoption_upd.isin(['Unknown']).sum()\n",
    "# the name already has 18 unknowns, so will stick to changing NaN's to unknown."
   ]
  },
  {
   "cell_type": "code",
   "execution_count": 151,
   "metadata": {},
   "outputs": [
    {
     "data": {
      "text/plain": [
       "animal_id              0\n",
       "name                   0\n",
       "datetime               0\n",
       "monthyear              0\n",
       "date_of_birth          0\n",
       "outcome_type           0\n",
       "outcome_subtype        0\n",
       "animal_type         4455\n",
       "sex_upon_outcome       0\n",
       "age_upon_outcome       0\n",
       "breed                  0\n",
       "color                  0\n",
       "new_outcome_type       0\n",
       "dtype: int64"
      ]
     },
     "execution_count": 151,
     "metadata": {},
     "output_type": "execute_result"
    }
   ],
   "source": [
    "adoption_upd.isin(['Other']).sum()"
   ]
  },
  {
   "cell_type": "code",
   "execution_count": 152,
   "metadata": {},
   "outputs": [
    {
     "data": {
      "text/plain": [
       "Dog          39760\n",
       "Cat          35962\n",
       "Other         4455\n",
       "Bird           432\n",
       "Livestock        9\n",
       "Name: animal_type, dtype: int64"
      ]
     },
     "execution_count": 152,
     "metadata": {},
     "output_type": "execute_result"
    }
   ],
   "source": [
    "# to see what kind of animals come in to the shelter\n",
    "adoption_upd['animal_type'].value_counts()\n",
    "# initially was thinking of only using cats and dogs but am curious to see the other types."
   ]
  },
  {
   "cell_type": "markdown",
   "metadata": {},
   "source": [
    "since there are no missing or unknown values for DOB which still seems strange \n",
    "especially for stray animals that were found but maybe they approximated. We can \n",
    "create a column where we subtract 2019 from the born on year to get the age and see \n",
    "if there are a lot of differences."
   ]
  },
  {
   "cell_type": "code",
   "execution_count": 153,
   "metadata": {},
   "outputs": [],
   "source": [
    "adoption_upd['date_of_birth'] = pd.to_datetime(adoption_upd['date_of_birth'], infer_datetime_format=True)"
   ]
  },
  {
   "cell_type": "code",
   "execution_count": 155,
   "metadata": {},
   "outputs": [
    {
     "data": {
      "text/plain": [
       "0        6\n",
       "1        3\n",
       "2        1\n",
       "3        1\n",
       "5        3\n",
       "        ..\n",
       "99995    5\n",
       "99996    5\n",
       "99997    5\n",
       "99998    5\n",
       "99999    8\n",
       "Name: calculated_age, Length: 80618, dtype: int64"
      ]
     },
     "execution_count": 155,
     "metadata": {},
     "output_type": "execute_result"
    }
   ],
   "source": [
    "# lets see what happens when we subtract 11-2019 from the date of birth \n",
    "now = pd.Timestamp('now')\n",
    "adoption_upd['calculated_age']=(now.year - adoption_upd['date_of_birth'].dt.year) - ((now.month - adoption_upd['date_of_birth'].dt.month) < 0)\n",
    "# lets compare the 'calculated_age' column to the 'age_upon_outcome'"
   ]
  },
  {
   "cell_type": "code",
   "execution_count": 124,
   "metadata": {},
   "outputs": [
    {
     "data": {
      "text/plain": [
       "Domestic Shorthair Mix                 26076\n",
       "Pit Bull Mix                            4723\n",
       "Labrador Retriever Mix                  4375\n",
       "Chihuahua Shorthair Mix                 3977\n",
       "Domestic Shorthair                      3537\n",
       "                                       ...  \n",
       "West Highland/Patterdale Terr              1\n",
       "Alaskan Husky/Australian Shepherd          1\n",
       "Dachshund Longhair/Miniature Poodle        1\n",
       "Schipperke/Catahoula                       1\n",
       "Queensland Heeler/Dachshund                1\n",
       "Name: breed, Length: 2042, dtype: int64"
      ]
     },
     "execution_count": 124,
     "metadata": {},
     "output_type": "execute_result"
    }
   ],
   "source": [
    "# how many different breeds are there:\n",
    "adoption_upd['breed'].value_counts()\n",
    "# 2042...very high cardinality, may need to focus on cats and dogs afterall."
   ]
  },
  {
   "cell_type": "code",
   "execution_count": 125,
   "metadata": {},
   "outputs": [
    {
     "data": {
      "text/plain": [
       "Black/White               8567\n",
       "Black                     7240\n",
       "Brown Tabby               5508\n",
       "Brown                     3377\n",
       "Brown Tabby/White         2806\n",
       "                          ... \n",
       "Tricolor/Brown Brindle       1\n",
       "Agouti/Cream                 1\n",
       "Cream/Blue Point             1\n",
       "Gray/Blue Merle              1\n",
       "Tricolor/Orange              1\n",
       "Name: color, Length: 512, dtype: int64"
      ]
     },
     "execution_count": 125,
     "metadata": {},
     "output_type": "execute_result"
    }
   ],
   "source": [
    "# how many colors are there\n",
    "adoption_upd['color'].value_counts()\n",
    "#512 different values, high cardinality as well."
   ]
  },
  {
   "cell_type": "code",
   "execution_count": null,
   "metadata": {},
   "outputs": [],
   "source": []
  }
 ],
 "metadata": {
  "colab": {
   "collapsed_sections": [],
   "name": "assignment_applied_modeling_1.ipynb",
   "provenance": [],
   "version": "0.3.2"
  },
  "kernelspec": {
   "display_name": "Python 3",
   "language": "python",
   "name": "python3"
  },
  "language_info": {
   "codemirror_mode": {
    "name": "ipython",
    "version": 3
   },
   "file_extension": ".py",
   "mimetype": "text/x-python",
   "name": "python",
   "nbconvert_exporter": "python",
   "pygments_lexer": "ipython3",
   "version": "3.7.4"
  }
 },
 "nbformat": 4,
 "nbformat_minor": 1
}
