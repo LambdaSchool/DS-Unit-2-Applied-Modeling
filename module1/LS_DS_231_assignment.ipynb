{
  "nbformat": 4,
  "nbformat_minor": 0,
  "metadata": {
    "colab": {
      "name": "Copy of assignment_applied_modeling_1.ipynb",
      "provenance": [],
      "collapsed_sections": [],
      "include_colab_link": true
    },
    "kernelspec": {
      "display_name": "Python 3",
      "language": "python",
      "name": "python3"
    },
    "language_info": {
      "codemirror_mode": {
        "name": "ipython",
        "version": 3
      },
      "file_extension": ".py",
      "mimetype": "text/x-python",
      "name": "python",
      "nbconvert_exporter": "python",
      "pygments_lexer": "ipython3",
      "version": "3.7.3"
    }
  },
  "cells": [
    {
      "cell_type": "markdown",
      "metadata": {
        "id": "view-in-github",
        "colab_type": "text"
      },
      "source": [
        "<a href=\"https://colab.research.google.com/github/DavidVollendroff/DS-Unit-2-Applied-Modeling/blob/master/module1/LS_DS_231_assignment.ipynb\" target=\"_parent\"><img src=\"https://colab.research.google.com/assets/colab-badge.svg\" alt=\"Open In Colab\"/></a>"
      ]
    },
    {
      "cell_type": "markdown",
      "metadata": {
        "colab_type": "text",
        "id": "nCc3XZEyG3XV"
      },
      "source": [
        "Lambda School Data Science\n",
        "\n",
        "*Unit 2, Sprint 3, Module 1*\n",
        "\n",
        "---\n",
        "\n",
        "## Assignment\n",
        "\n",
        "Complete these tasks for your project, and document your decisions.\n",
        "\n",
        "- [X] Choose your target. Which column in your tabular dataset will you predict?"
      ]
    },
    {
      "cell_type": "code",
      "metadata": {
        "id": "bZspZLz6hqSr",
        "colab_type": "code",
        "colab": {}
      },
      "source": [
        "# I'll be predicting which 3 centers will receive the most votes for the\n",
        "# All-NBA Team at the end of the season. The target column is 'award'"
      ],
      "execution_count": 0,
      "outputs": []
    },
    {
      "cell_type": "markdown",
      "metadata": {
        "id": "pCUzJ5mhhqd5",
        "colab_type": "text"
      },
      "source": [
        "\n",
        "- [X] Is your problem regression or classification?"
      ]
    },
    {
      "cell_type": "code",
      "metadata": {
        "id": "5-rXoe3zhsS5",
        "colab_type": "code",
        "colab": {}
      },
      "source": [
        "# Initially it seemed like a classification problem, making the team or not, but\n",
        "# because only the top 3 in a given year will make the cut I will end up\n",
        "# comparing values given by a regressor."
      ],
      "execution_count": 0,
      "outputs": []
    },
    {
      "cell_type": "markdown",
      "metadata": {
        "id": "qxhjytM4hsb-",
        "colab_type": "text"
      },
      "source": [
        "- [X] How is your target distributed?\n",
        "    - Classification: How many classes? Are the classes imbalanced?\n",
        "    - Regression: Is the target right-skewed? If so, you may want to log transform the target."
      ]
    },
    {
      "cell_type": "code",
      "metadata": {
        "id": "4US6-zDwht-R",
        "colab_type": "code",
        "colab": {}
      },
      "source": [
        "# Very few players make the cut; something like 3% will be selected each season."
      ],
      "execution_count": 0,
      "outputs": []
    },
    {
      "cell_type": "markdown",
      "metadata": {
        "id": "VaNPVQr0huDo",
        "colab_type": "text"
      },
      "source": [
        "\n",
        "- [X] Choose your evaluation metric(s).\n",
        "    - Classification: Is your majority class frequency >= 50% and < 70% ? If so, you can just use accuracy if you want. Outside that range, accuracy could be misleading. What evaluation metric will you choose, in addition to or instead of accuracy?\n",
        "    - Regression: Will you use mean absolute error, root mean squared error, R^2, or other regression metrics?"
      ]
    },
    {
      "cell_type": "code",
      "metadata": {
        "id": "OoCFzqtYh4oA",
        "colab_type": "code",
        "colab": {}
      },
      "source": [
        "# I will first try root mean squared error. I'll be on the lookout\n",
        "# for performance changes with different methods, given my labels are so\n",
        "# imbalanced."
      ],
      "execution_count": 0,
      "outputs": []
    },
    {
      "cell_type": "markdown",
      "metadata": {
        "id": "OFvHm61_h4tg",
        "colab_type": "text"
      },
      "source": [
        "\n",
        "- [X] Choose which observations you will use to train, validate, and test your model.\n",
        "    - Are some observations outliers? Will you exclude them?\n",
        "    - Will you do a random split or a time-based split?"
      ]
    },
    {
      "cell_type": "code",
      "metadata": {
        "id": "51-4dEwZh6uA",
        "colab_type": "code",
        "colab": {}
      },
      "source": [
        "# The winners of an All-NBA award were selected in the context of competition\n",
        "# faced in that season. I'll be splitting my data on a timed basis."
      ],
      "execution_count": 0,
      "outputs": []
    },
    {
      "cell_type": "markdown",
      "metadata": {
        "id": "oMSy8w1dh61i",
        "colab_type": "text"
      },
      "source": [
        "\n",
        "- [X] Begin to clean and explore your data."
      ]
    },
    {
      "cell_type": "code",
      "metadata": {
        "id": "y4t8oHEYnEEm",
        "colab_type": "code",
        "colab": {}
      },
      "source": [
        "# Examples of my data cleaning functions."
      ],
      "execution_count": 0,
      "outputs": []
    },
    {
      "cell_type": "code",
      "metadata": {
        "id": "9mbCIPoqh8Fy",
        "colab_type": "code",
        "colab": {}
      },
      "source": [
        "def trim(some_string):\n",
        "  return some_string[:-2]\n",
        "all_nba = all_nba['Unnamed: 3'].apply(trim)"
      ],
      "execution_count": 0,
      "outputs": []
    },
    {
      "cell_type": "code",
      "metadata": {
        "id": "IwfTwkVxnCcc",
        "colab_type": "code",
        "colab": {}
      },
      "source": [
        "def hof_remover(some_string):\n",
        "  if some_string.endswith('*'):\n",
        "    return some_string[:-1]\n",
        "  else:\n",
        "    return some_string\n",
        "\n",
        "for key in data.keys():\n",
        "  data[key]['Player'] = data[key]['Player'].apply(hof_remover)"
      ],
      "execution_count": 0,
      "outputs": []
    },
    {
      "cell_type": "markdown",
      "metadata": {
        "id": "9uroU4nKh8LR",
        "colab_type": "text"
      },
      "source": [
        "\n",
        "- [X] Begin to choose which features, if any, to exclude. Would some features \"leak\" future information?"
      ]
    },
    {
      "cell_type": "code",
      "metadata": {
        "id": "QEBEYZ0PBipL",
        "colab_type": "code",
        "colab": {}
      },
      "source": [
        "features = train.columns.tolist()\n",
        "\n",
        "removed_features = ['Player',\n",
        "                    'Pos',\n",
        "                    'Rk',\n",
        "                    'awards',\n",
        "                    'Season'\n",
        "                    ]\n",
        "\n",
        "for item in removed_features:\n",
        "  if item in features:\n",
        "    features.remove(item)"
      ],
      "execution_count": 0,
      "outputs": []
    }
  ]
}