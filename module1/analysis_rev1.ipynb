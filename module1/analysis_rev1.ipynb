{
 "cells": [
  {
   "cell_type": "markdown",
   "metadata": {},
   "source": [
    "\n",
    "    [ ] Choose your target. Which column in your tabular dataset will you predict?\n",
    "    [ ] Is your problem regression or classification?\n",
    "    [ ] How is your target distributed?\n",
    "        Classification: How many classes? Are the classes imbalanced?\n",
    "        Regression: Is the target right-skewed? If so, you may want to log transform the target.\n",
    "    [ ] Choose which observations you will use to train, validate, and test your model.\n",
    "        Are some observations outliers? Will you exclude them?\n",
    "        Will you do a random split or a time-based split?\n",
    "    [ ] Choose your evaluation metric(s).\n",
    "        Classification: Is your majority class frequency > 50% and < 70% ? If so, you can just use accuracy if you want. Outside that range, accuracy could be misleading. What evaluation metric will you choose, in addition to or instead of accuracy?\n",
    "    [ ] Begin to clean and explore your data.\n",
    "    [ ] Begin to choose which features, if any, to exclude. Would some features \"leak\" future information?\n"
   ]
  },
  {
   "cell_type": "code",
   "execution_count": 14,
   "metadata": {},
   "outputs": [
    {
     "data": {
      "text/plain": [
       "'C:\\\\Users\\\\SKrishna\\\\Documents\\\\GitHub\\\\airbnb'"
      ]
     },
     "execution_count": 14,
     "metadata": {},
     "output_type": "execute_result"
    }
   ],
   "source": [
    "import os\n",
    "import pandas as pd\n",
    "import warnings\n",
    "warnings.filterwarnings('ignore')\n",
    "import matplotlib.pyplot as plt\n",
    "os.getcwd()"
   ]
  },
  {
   "cell_type": "code",
   "execution_count": null,
   "metadata": {},
   "outputs": [],
   "source": [
    "pd.set_options('display')"
   ]
  },
  {
   "cell_type": "code",
   "execution_count": 11,
   "metadata": {},
   "outputs": [],
   "source": [
    "listings = pd.read_csv('listings_1.csv', low_memory=False,parse_dates=['last_scraped', 'first_review', 'last_review', 'host_since'])"
   ]
  },
  {
   "cell_type": "code",
   "execution_count": 12,
   "metadata": {},
   "outputs": [
    {
     "data": {
      "text/plain": [
       "(9023, 106)"
      ]
     },
     "execution_count": 12,
     "metadata": {},
     "output_type": "execute_result"
    }
   ],
   "source": [
    "listings.shape"
   ]
  },
  {
   "cell_type": "code",
   "execution_count": 13,
   "metadata": {},
   "outputs": [
    {
     "data": {
      "text/html": [
       "<div>\n",
       "<style scoped>\n",
       "    .dataframe tbody tr th:only-of-type {\n",
       "        vertical-align: middle;\n",
       "    }\n",
       "\n",
       "    .dataframe tbody tr th {\n",
       "        vertical-align: top;\n",
       "    }\n",
       "\n",
       "    .dataframe thead th {\n",
       "        text-align: right;\n",
       "    }\n",
       "</style>\n",
       "<table border=\"1\" class=\"dataframe\">\n",
       "  <thead>\n",
       "    <tr style=\"text-align: right;\">\n",
       "      <th></th>\n",
       "      <th>id</th>\n",
       "      <th>listing_url</th>\n",
       "      <th>scrape_id</th>\n",
       "      <th>last_scraped</th>\n",
       "      <th>name</th>\n",
       "      <th>summary</th>\n",
       "      <th>space</th>\n",
       "      <th>description</th>\n",
       "      <th>experiences_offered</th>\n",
       "      <th>neighborhood_overview</th>\n",
       "      <th>...</th>\n",
       "      <th>instant_bookable</th>\n",
       "      <th>is_business_travel_ready</th>\n",
       "      <th>cancellation_policy</th>\n",
       "      <th>require_guest_profile_picture</th>\n",
       "      <th>require_guest_phone_verification</th>\n",
       "      <th>calculated_host_listings_count</th>\n",
       "      <th>calculated_host_listings_count_entire_homes</th>\n",
       "      <th>calculated_host_listings_count_private_rooms</th>\n",
       "      <th>calculated_host_listings_count_shared_rooms</th>\n",
       "      <th>reviews_per_month</th>\n",
       "    </tr>\n",
       "  </thead>\n",
       "  <tbody>\n",
       "    <tr>\n",
       "      <th>0</th>\n",
       "      <td>2318</td>\n",
       "      <td>https://www.airbnb.com/rooms/2318</td>\n",
       "      <td>20191121092259</td>\n",
       "      <td>2019-11-21</td>\n",
       "      <td>Casa Madrona - Urban Oasis 1 block from the park!</td>\n",
       "      <td>Gorgeous, architect remodeled, (Phone number h...</td>\n",
       "      <td>This beautiful, gracious home has been complet...</td>\n",
       "      <td>Gorgeous, architect remodeled, (Phone number h...</td>\n",
       "      <td>none</td>\n",
       "      <td>Madrona is a hidden gem of a neighborhood. It ...</td>\n",
       "      <td>...</td>\n",
       "      <td>t</td>\n",
       "      <td>f</td>\n",
       "      <td>strict_14_with_grace_period</td>\n",
       "      <td>f</td>\n",
       "      <td>f</td>\n",
       "      <td>2</td>\n",
       "      <td>2</td>\n",
       "      <td>0</td>\n",
       "      <td>0</td>\n",
       "      <td>0.21</td>\n",
       "    </tr>\n",
       "    <tr>\n",
       "      <th>1</th>\n",
       "      <td>5682</td>\n",
       "      <td>https://www.airbnb.com/rooms/5682</td>\n",
       "      <td>20191121092259</td>\n",
       "      <td>2019-11-21</td>\n",
       "      <td>Cozy Studio, min. to downtown -WiFi</td>\n",
       "      <td>The Cozy Studio is a perfect launchpad for you...</td>\n",
       "      <td>Hello fellow travelers, Save some money and ha...</td>\n",
       "      <td>The Cozy Studio is a perfect launchpad for you...</td>\n",
       "      <td>none</td>\n",
       "      <td>NaN</td>\n",
       "      <td>...</td>\n",
       "      <td>f</td>\n",
       "      <td>f</td>\n",
       "      <td>strict_14_with_grace_period</td>\n",
       "      <td>f</td>\n",
       "      <td>t</td>\n",
       "      <td>1</td>\n",
       "      <td>1</td>\n",
       "      <td>0</td>\n",
       "      <td>0</td>\n",
       "      <td>3.92</td>\n",
       "    </tr>\n",
       "    <tr>\n",
       "      <th>2</th>\n",
       "      <td>6606</td>\n",
       "      <td>https://www.airbnb.com/rooms/6606</td>\n",
       "      <td>20191121092259</td>\n",
       "      <td>2019-11-21</td>\n",
       "      <td>Fab, private seattle urban cottage!</td>\n",
       "      <td>This tiny cottage is only 15x10, but it has ev...</td>\n",
       "      <td>Soo centrally located, this is a little house ...</td>\n",
       "      <td>This tiny cottage is only 15x10, but it has ev...</td>\n",
       "      <td>none</td>\n",
       "      <td>A peaceful yet highly accessible neighborhood,...</td>\n",
       "      <td>...</td>\n",
       "      <td>f</td>\n",
       "      <td>f</td>\n",
       "      <td>strict_14_with_grace_period</td>\n",
       "      <td>f</td>\n",
       "      <td>f</td>\n",
       "      <td>3</td>\n",
       "      <td>3</td>\n",
       "      <td>0</td>\n",
       "      <td>0</td>\n",
       "      <td>1.19</td>\n",
       "    </tr>\n",
       "    <tr>\n",
       "      <th>3</th>\n",
       "      <td>9419</td>\n",
       "      <td>https://www.airbnb.com/rooms/9419</td>\n",
       "      <td>20191121092259</td>\n",
       "      <td>2019-11-21</td>\n",
       "      <td>Glorious sun room w/ memory foambed</td>\n",
       "      <td>This beautiful double room features a magical ...</td>\n",
       "      <td>Our new Sunny space has a private room from th...</td>\n",
       "      <td>This beautiful double room features a magical ...</td>\n",
       "      <td>none</td>\n",
       "      <td>Lots of restaurants (see our guide book) bars,...</td>\n",
       "      <td>...</td>\n",
       "      <td>f</td>\n",
       "      <td>f</td>\n",
       "      <td>moderate</td>\n",
       "      <td>t</td>\n",
       "      <td>t</td>\n",
       "      <td>8</td>\n",
       "      <td>0</td>\n",
       "      <td>8</td>\n",
       "      <td>0</td>\n",
       "      <td>1.29</td>\n",
       "    </tr>\n",
       "    <tr>\n",
       "      <th>4</th>\n",
       "      <td>9460</td>\n",
       "      <td>https://www.airbnb.com/rooms/9460</td>\n",
       "      <td>20191121092259</td>\n",
       "      <td>2019-11-21</td>\n",
       "      <td>Downtown Convention Center B&amp;B -- Free Minibar</td>\n",
       "      <td>Take up a glass of wine and unwind on one of t...</td>\n",
       "      <td>Greetings from Seattle. Thanks for considering...</td>\n",
       "      <td>Take up a glass of wine and unwind on one of t...</td>\n",
       "      <td>none</td>\n",
       "      <td>The apartment is situated where Downtown meets...</td>\n",
       "      <td>...</td>\n",
       "      <td>t</td>\n",
       "      <td>f</td>\n",
       "      <td>moderate</td>\n",
       "      <td>f</td>\n",
       "      <td>f</td>\n",
       "      <td>4</td>\n",
       "      <td>3</td>\n",
       "      <td>1</td>\n",
       "      <td>0</td>\n",
       "      <td>3.65</td>\n",
       "    </tr>\n",
       "  </tbody>\n",
       "</table>\n",
       "<p>5 rows × 106 columns</p>\n",
       "</div>"
      ],
      "text/plain": [
       "     id                        listing_url       scrape_id last_scraped  \\\n",
       "0  2318  https://www.airbnb.com/rooms/2318  20191121092259   2019-11-21   \n",
       "1  5682  https://www.airbnb.com/rooms/5682  20191121092259   2019-11-21   \n",
       "2  6606  https://www.airbnb.com/rooms/6606  20191121092259   2019-11-21   \n",
       "3  9419  https://www.airbnb.com/rooms/9419  20191121092259   2019-11-21   \n",
       "4  9460  https://www.airbnb.com/rooms/9460  20191121092259   2019-11-21   \n",
       "\n",
       "                                                name  \\\n",
       "0  Casa Madrona - Urban Oasis 1 block from the park!   \n",
       "1                Cozy Studio, min. to downtown -WiFi   \n",
       "2                Fab, private seattle urban cottage!   \n",
       "3                Glorious sun room w/ memory foambed   \n",
       "4     Downtown Convention Center B&B -- Free Minibar   \n",
       "\n",
       "                                             summary  \\\n",
       "0  Gorgeous, architect remodeled, (Phone number h...   \n",
       "1  The Cozy Studio is a perfect launchpad for you...   \n",
       "2  This tiny cottage is only 15x10, but it has ev...   \n",
       "3  This beautiful double room features a magical ...   \n",
       "4  Take up a glass of wine and unwind on one of t...   \n",
       "\n",
       "                                               space  \\\n",
       "0  This beautiful, gracious home has been complet...   \n",
       "1  Hello fellow travelers, Save some money and ha...   \n",
       "2  Soo centrally located, this is a little house ...   \n",
       "3  Our new Sunny space has a private room from th...   \n",
       "4  Greetings from Seattle. Thanks for considering...   \n",
       "\n",
       "                                         description experiences_offered  \\\n",
       "0  Gorgeous, architect remodeled, (Phone number h...                none   \n",
       "1  The Cozy Studio is a perfect launchpad for you...                none   \n",
       "2  This tiny cottage is only 15x10, but it has ev...                none   \n",
       "3  This beautiful double room features a magical ...                none   \n",
       "4  Take up a glass of wine and unwind on one of t...                none   \n",
       "\n",
       "                               neighborhood_overview  ... instant_bookable  \\\n",
       "0  Madrona is a hidden gem of a neighborhood. It ...  ...                t   \n",
       "1                                                NaN  ...                f   \n",
       "2  A peaceful yet highly accessible neighborhood,...  ...                f   \n",
       "3  Lots of restaurants (see our guide book) bars,...  ...                f   \n",
       "4  The apartment is situated where Downtown meets...  ...                t   \n",
       "\n",
       "  is_business_travel_ready          cancellation_policy  \\\n",
       "0                        f  strict_14_with_grace_period   \n",
       "1                        f  strict_14_with_grace_period   \n",
       "2                        f  strict_14_with_grace_period   \n",
       "3                        f                     moderate   \n",
       "4                        f                     moderate   \n",
       "\n",
       "  require_guest_profile_picture require_guest_phone_verification  \\\n",
       "0                             f                                f   \n",
       "1                             f                                t   \n",
       "2                             f                                f   \n",
       "3                             t                                t   \n",
       "4                             f                                f   \n",
       "\n",
       "   calculated_host_listings_count  \\\n",
       "0                               2   \n",
       "1                               1   \n",
       "2                               3   \n",
       "3                               8   \n",
       "4                               4   \n",
       "\n",
       "   calculated_host_listings_count_entire_homes  \\\n",
       "0                                            2   \n",
       "1                                            1   \n",
       "2                                            3   \n",
       "3                                            0   \n",
       "4                                            3   \n",
       "\n",
       "  calculated_host_listings_count_private_rooms  \\\n",
       "0                                            0   \n",
       "1                                            0   \n",
       "2                                            0   \n",
       "3                                            8   \n",
       "4                                            1   \n",
       "\n",
       "   calculated_host_listings_count_shared_rooms  reviews_per_month  \n",
       "0                                            0               0.21  \n",
       "1                                            0               3.92  \n",
       "2                                            0               1.19  \n",
       "3                                            0               1.29  \n",
       "4                                            0               3.65  \n",
       "\n",
       "[5 rows x 106 columns]"
      ]
     },
     "execution_count": 13,
     "metadata": {},
     "output_type": "execute_result"
    }
   ],
   "source": [
    "listings.head()"
   ]
  },
  {
   "cell_type": "code",
   "execution_count": 28,
   "metadata": {},
   "outputs": [],
   "source": [
    "#since we are not planning to use most of the textual data, i've filtered out the list of columns that are useful as a list cols."
   ]
  },
  {
   "cell_type": "code",
   "execution_count": null,
   "metadata": {},
   "outputs": [],
   "source": []
  },
  {
   "cell_type": "code",
   "execution_count": 17,
   "metadata": {},
   "outputs": [],
   "source": [
    "cols = ['id', 'host_id', 'host_since', 'host_verifications', 'host_is_superhost', 'zipcode', 'bathrooms', 'bedrooms', \n",
    "        'beds', 'bed_type', 'amenities', 'square_feet', 'price', 'weekly_price', 'monthly_price', 'security_deposit', \n",
    "        'cleaning_fee', 'guests_included', 'extra_people', 'minimum_nights','maximum_nights', 'calendar_updated', \n",
    "        'has_availability', 'availability_30', 'availability_60', 'availability_90', 'availability_365', \n",
    "        'number_of_reviews', 'first_review', 'last_review', 'review_scores_rating','review_scores_accuracy', \n",
    "        'review_scores_cleanliness', 'review_scores_checkin', 'review_scores_communication', 'review_scores_location', \n",
    "        'review_scores_value', 'instant_bookable', 'cancellation_policy', 'require_guest_profile_picture', \n",
    "        'require_guest_phone_verification','calculated_host_listings_count', 'reviews_per_month']"
   ]
  },
  {
   "cell_type": "code",
   "execution_count": 20,
   "metadata": {},
   "outputs": [],
   "source": [
    "df = listings[cols]"
   ]
  },
  {
   "cell_type": "code",
   "execution_count": null,
   "metadata": {},
   "outputs": [],
   "source": []
  },
  {
   "cell_type": "code",
   "execution_count": 21,
   "metadata": {},
   "outputs": [
    {
     "data": {
      "text/plain": [
       "id                                           int64\n",
       "host_id                                      int64\n",
       "host_since                          datetime64[ns]\n",
       "host_verifications                          object\n",
       "host_is_superhost                           object\n",
       "zipcode                                     object\n",
       "bathrooms                                  float64\n",
       "bedrooms                                   float64\n",
       "beds                                       float64\n",
       "bed_type                                    object\n",
       "amenities                                   object\n",
       "square_feet                                float64\n",
       "price                                       object\n",
       "weekly_price                                object\n",
       "monthly_price                               object\n",
       "security_deposit                            object\n",
       "cleaning_fee                                object\n",
       "guests_included                              int64\n",
       "extra_people                                object\n",
       "minimum_nights                               int64\n",
       "maximum_nights                               int64\n",
       "calendar_updated                            object\n",
       "has_availability                            object\n",
       "availability_30                              int64\n",
       "availability_60                              int64\n",
       "availability_90                              int64\n",
       "availability_365                             int64\n",
       "number_of_reviews                            int64\n",
       "first_review                        datetime64[ns]\n",
       "last_review                         datetime64[ns]\n",
       "review_scores_rating                       float64\n",
       "review_scores_accuracy                     float64\n",
       "review_scores_cleanliness                  float64\n",
       "review_scores_checkin                      float64\n",
       "review_scores_communication                float64\n",
       "review_scores_location                     float64\n",
       "review_scores_value                        float64\n",
       "instant_bookable                            object\n",
       "cancellation_policy                         object\n",
       "require_guest_profile_picture               object\n",
       "require_guest_phone_verification            object\n",
       "calculated_host_listings_count               int64\n",
       "reviews_per_month                          float64\n",
       "dtype: object"
      ]
     },
     "execution_count": 21,
     "metadata": {},
     "output_type": "execute_result"
    }
   ],
   "source": [
    "df.dtypes"
   ]
  },
  {
   "cell_type": "code",
   "execution_count": 27,
   "metadata": {},
   "outputs": [],
   "source": [
    "#lets see the number of null values here"
   ]
  },
  {
   "cell_type": "code",
   "execution_count": 29,
   "metadata": {},
   "outputs": [
    {
     "data": {
      "text/plain": [
       "id                                     0\n",
       "host_id                                0\n",
       "host_since                             4\n",
       "host_verifications                     0\n",
       "host_is_superhost                      4\n",
       "zipcode                              169\n",
       "bathrooms                              2\n",
       "bedrooms                               7\n",
       "beds                                   3\n",
       "bed_type                               0\n",
       "amenities                              0\n",
       "square_feet                         8620\n",
       "price                                  0\n",
       "weekly_price                        8044\n",
       "monthly_price                       8272\n",
       "security_deposit                    1541\n",
       "cleaning_fee                         769\n",
       "guests_included                        0\n",
       "extra_people                           0\n",
       "minimum_nights                         0\n",
       "maximum_nights                         0\n",
       "calendar_updated                       0\n",
       "has_availability                       0\n",
       "availability_30                        0\n",
       "availability_60                        0\n",
       "availability_90                        0\n",
       "availability_365                       0\n",
       "number_of_reviews                      0\n",
       "first_review                        1261\n",
       "last_review                         1261\n",
       "review_scores_rating                1320\n",
       "review_scores_accuracy              1322\n",
       "review_scores_cleanliness           1322\n",
       "review_scores_checkin               1323\n",
       "review_scores_communication         1321\n",
       "review_scores_location              1323\n",
       "review_scores_value                 1322\n",
       "instant_bookable                       0\n",
       "cancellation_policy                    0\n",
       "require_guest_profile_picture          0\n",
       "require_guest_phone_verification       0\n",
       "calculated_host_listings_count         0\n",
       "reviews_per_month                   1261\n",
       "dtype: int64"
      ]
     },
     "execution_count": 29,
     "metadata": {},
     "output_type": "execute_result"
    }
   ],
   "source": [
    "df.isnull().sum()"
   ]
  },
  {
   "cell_type": "code",
   "execution_count": null,
   "metadata": {},
   "outputs": [],
   "source": []
  },
  {
   "cell_type": "code",
   "execution_count": 23,
   "metadata": {},
   "outputs": [],
   "source": [
    "df['price'] = df['price'].str.replace('$','')"
   ]
  },
  {
   "cell_type": "code",
   "execution_count": 25,
   "metadata": {},
   "outputs": [
    {
     "data": {
      "text/plain": [
       "'999.00'"
      ]
     },
     "execution_count": 25,
     "metadata": {},
     "output_type": "execute_result"
    }
   ],
   "source": [
    "df['price'].max()"
   ]
  },
  {
   "cell_type": "code",
   "execution_count": 26,
   "metadata": {},
   "outputs": [
    {
     "data": {
      "text/plain": [
       "count       9023\n",
       "unique       400\n",
       "top       100.00\n",
       "freq         333\n",
       "Name: price, dtype: object"
      ]
     },
     "execution_count": 26,
     "metadata": {},
     "output_type": "execute_result"
    }
   ],
   "source": [
    "df['price'].describe()"
   ]
  },
  {
   "cell_type": "code",
   "execution_count": 31,
   "metadata": {},
   "outputs": [
    {
     "data": {
      "text/plain": [
       "(array([247., 690., 253., 309., 162., 575., 559., 335., 547., 246., 353.,\n",
       "         41., 493.,  96., 159., 132.,  58., 139., 298.,  71.,  79., 154.,\n",
       "        154., 169., 267.,  29.,  88., 119.,  65.,  94.,  37.,  62., 129.,\n",
       "         36., 129.,  45.,  44.,  23.,  83.,  34.,  55.,  26.,  89.,  23.,\n",
       "         61.,  43.,  29.,  33.,  23.,  33.,  16.,  66.,  44.,  35.,  24.,\n",
       "         60.,  30.,  48., 118.,  27.,  13.,  26.,  21.,  12.,   7.,  29.,\n",
       "         18.,  12.,  21.,   6.,  20.,  20.,  14.,   9.,  96.,   5.,   6.,\n",
       "         15.,   6.,   6.,   8.,  13.,  25.,   5.,   8.,   7.,   6.,  15.,\n",
       "          8.,   4.,   5.,   9.,   5.,   5.,   6.,   5.,   4.,   4.,  29.,\n",
       "          4.]),\n",
       " array([  0.  ,   3.99,   7.98,  11.97,  15.96,  19.95,  23.94,  27.93,\n",
       "         31.92,  35.91,  39.9 ,  43.89,  47.88,  51.87,  55.86,  59.85,\n",
       "         63.84,  67.83,  71.82,  75.81,  79.8 ,  83.79,  87.78,  91.77,\n",
       "         95.76,  99.75, 103.74, 107.73, 111.72, 115.71, 119.7 , 123.69,\n",
       "        127.68, 131.67, 135.66, 139.65, 143.64, 147.63, 151.62, 155.61,\n",
       "        159.6 , 163.59, 167.58, 171.57, 175.56, 179.55, 183.54, 187.53,\n",
       "        191.52, 195.51, 199.5 , 203.49, 207.48, 211.47, 215.46, 219.45,\n",
       "        223.44, 227.43, 231.42, 235.41, 239.4 , 243.39, 247.38, 251.37,\n",
       "        255.36, 259.35, 263.34, 267.33, 271.32, 275.31, 279.3 , 283.29,\n",
       "        287.28, 291.27, 295.26, 299.25, 303.24, 307.23, 311.22, 315.21,\n",
       "        319.2 , 323.19, 327.18, 331.17, 335.16, 339.15, 343.14, 347.13,\n",
       "        351.12, 355.11, 359.1 , 363.09, 367.08, 371.07, 375.06, 379.05,\n",
       "        383.04, 387.03, 391.02, 395.01, 399.  ]),\n",
       " <a list of 100 Patch objects>)"
      ]
     },
     "execution_count": 31,
     "metadata": {},
     "output_type": "execute_result"
    },
    {
     "data": {
      "image/png": "[encoded data removed]",
      "text/plain": [
       "<Figure size 432x288 with 1 Axes>"
      ]
     },
     "metadata": {
      "needs_background": "light"
     },
     "output_type": "display_data"
    }
   ],
   "source": [
    "plt.hist(df['price'], bins=100)"
   ]
  },
  {
   "cell_type": "code",
   "execution_count": null,
   "metadata": {},
   "outputs": [],
   "source": []
  },
  {
   "cell_type": "code",
   "execution_count": null,
   "metadata": {},
   "outputs": [],
   "source": []
  }
 ],
 "metadata": {
  "kernelspec": {
   "display_name": "Python 3",
   "language": "python",
   "name": "python3"
  },
  "language_info": {
   "codemirror_mode": {
    "name": "ipython",
    "version": 3
   },
   "file_extension": ".py",
   "mimetype": "text/x-python",
   "name": "python",
   "nbconvert_exporter": "python",
   "pygments_lexer": "ipython3",
   "version": "3.7.3"
  }
 },
 "nbformat": 4,
 "nbformat_minor": 4
}
