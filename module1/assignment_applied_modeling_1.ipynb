{
  "nbformat": 4,
  "nbformat_minor": 0,
  "metadata": {
    "colab": {
      "name": "assignment_applied_modeling_1.ipynb",
      "provenance": [],
      "collapsed_sections": [],
      "include_colab_link": true
    },
    "kernelspec": {
      "display_name": "Python 3",
      "language": "python",
      "name": "python3"
    },
    "language_info": {
      "codemirror_mode": {
        "name": "ipython",
        "version": 3
      },
      "file_extension": ".py",
      "mimetype": "text/x-python",
      "name": "python",
      "nbconvert_exporter": "python",
      "pygments_lexer": "ipython3",
      "version": "3.7.3"
    }
  },
  "cells": [
    {
      "cell_type": "markdown",
      "metadata": {
        "id": "view-in-github",
        "colab_type": "text"
      },
      "source": [
        "<a href=\"https://colab.research.google.com/github/owenburton/DS-Unit-2-Applied-Modeling/blob/master/module1/assignment_applied_modeling_1.ipynb\" target=\"_parent\"><img src=\"https://colab.research.google.com/assets/colab-badge.svg\" alt=\"Open In Colab\"/></a>"
      ]
    },
    {
      "cell_type": "markdown",
      "metadata": {
        "colab_type": "text",
        "id": "nCc3XZEyG3XV"
      },
      "source": [
        "Lambda School Data Science\n",
        "\n",
        "*Unit 2, Sprint 3, Module 1*\n",
        "\n",
        "---\n",
        "\n",
        "\n",
        "# Define ML problems\n",
        "\n",
        "You will use your portfolio project dataset for all assignments this sprint.\n",
        "\n",
        "## Assignment\n",
        "\n",
        "Complete these tasks for your project, and document your decisions.\n",
        "\n",
        "- [x] Choose your target. Which column in your tabular dataset will you predict? \n",
        "      'overall' (book rating)\n",
        "- [x] Choose which observations you will use to train, validate, and test your model. And which observations, if any, to exclude. \n",
        "      Include all observations except missing reviews. 70/30 random, stratified train_test_split. Split the test into a bunch of validation sets and one final test set.\n",
        "- [x] Determine whether your problem is regression or classification.\n",
        "      Imbalanced multi-class classification (above 56% are 5-star ratings). Set class weights for your model.\n",
        "- [ ] Choose your evaluation metric.\n",
        "- [x] Begin to clean and explore your data.\n",
        "      Using spacy. Help.\n",
        "- [ ] Begin to choose which features, if any, to exclude. Would some features \"leak\" information from the future?\n",
        "      Include 'reviewText'. Maybe include 'summary'. Possibly include 'reviewTime'.\n"
      ]
    },
    {
      "cell_type": "code",
      "metadata": {
        "id": "jIVt2BRPVWwm",
        "colab_type": "code",
        "colab": {}
      },
      "source": [
        ""
      ],
      "execution_count": 0,
      "outputs": []
    }
  ]
}