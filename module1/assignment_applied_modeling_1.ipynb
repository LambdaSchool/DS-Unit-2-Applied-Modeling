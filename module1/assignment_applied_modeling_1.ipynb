{
 "cells": [
  {
   "cell_type": "markdown",
   "metadata": {
    "colab_type": "text",
    "id": "nCc3XZEyG3XV"
   },
   "source": [
    "Lambda School Data Science, Unit 2: Predictive Modeling\n",
    "\n",
    "# Applied Modeling, Module 1\n",
    "\n",
    "You will use your portfolio project dataset for all assignments this sprint.\n",
    "\n",
    "## Assignment\n",
    "\n",
    "Complete these tasks for your project, and document your decisions.\n",
    "\n",
    "- [ ] Choose your target. Which column in your tabular dataset will you predict?\n",
    "- [ ] Choose which observations you will use to train, validate, and test your model. And which observations, if any, to exclude.\n",
    "- [ ] Determine whether your problem is regression or classification.\n",
    "- [ ] Choose your evaluation metric.\n",
    "- [ ] Begin with baselines: majority class baseline for classification, or mean baseline for regression, with your metric of choice.\n",
    "- [ ] Begin to clean and explore your data.\n",
    "- [ ] Choose which features, if any, to exclude. Would some features \"leak\" information from the future?\n",
    "\n",
    "## Reading\n",
    "- [Attacking discrimination with smarter machine learning](https://research.google.com/bigpicture/attacking-discrimination-in-ml/), by Google Research, with  interactive visualizations. _\"A threshold classifier essentially makes a yes/no decision, putting things in one category or another. We look at how these classifiers work, ways they can potentially be unfair, and how you might turn an unfair classifier into a fairer one. As an illustrative example, we focus on loan granting scenarios where a bank may grant or deny a loan based on a single, automatically computed number such as a credit score.\"_\n",
    "- [How Shopify Capital Uses Quantile Regression To Help Merchants Succeed](https://engineering.shopify.com/blogs/engineering/how-shopify-uses-machine-learning-to-help-our-merchants-grow-their-business)\n",
    "- [Maximizing Scarce Maintenance Resources with Data: Applying predictive modeling, precision at k, and clustering to optimize impact](https://towardsdatascience.com/maximizing-scarce-maintenance-resources-with-data-8f3491133050), **by Lambda DS3 student** Michael Brady. His blog post extends the Tanzania Waterpumps scenario, far beyond what's in the lecture notebook.\n",
    "- [Notebook about how to calculate expected value from a confusion matrix by treating it as a cost-benefit matrix](https://github.com/podopie/DAT18NYC/blob/master/classes/13-expected_value_cost_benefit_analysis.ipynb)\n",
    "- [Simple guide to confusion matrix terminology](https://www.dataschool.io/simple-guide-to-confusion-matrix-terminology/) by Kevin Markham, with video\n",
    "- [Visualizing Machine Learning Thresholds to Make Better Business Decisions](https://blog.insightdatascience.com/visualizing-machine-learning-thresholds-to-make-better-business-decisions-4ab07f823415)"
   ]
  },
  {
   "cell_type": "code",
   "execution_count": 12,
   "metadata": {
    "ExecuteTime": {
     "end_time": "2019-08-20T03:15:35.563253Z",
     "start_time": "2019-08-20T03:15:35.475236Z"
    }
   },
   "outputs": [],
   "source": [
    "################################ EDA IMPORTS ###################################\n",
    "%matplotlib inline\n",
    "import pandas as pd \n",
    "import pandas_profiling # Quick Data Analysis\n",
    "import numpy as np # Linear Algebra lib\n",
    "import matplotlib.pyplot as plt \n",
    "import seaborn as sns\n",
    "import plotly.graph_objs as go # interactive low-level plotting lib https://plot.ly/python/\n",
    "import plotly.express as px #high-level api wrapper for plotly https://plot.ly/python/plotly-express/#visualize-distributions\n",
    "# ---------------- Plot libs settings ------------- #\n",
    "# Pick style of Matplolib plots \n",
    "# Different style sheets:-> https://matplotlib.org/3.1.0/gallery/style_sheets/style_sheets_reference.html\n",
    "# Configure Seaborn Asthetics: -> https://seaborn.pydata.org/tutorial/aesthetics.html?highlight=style\n",
    "plt.style.use('seaborn-darkgrid')\n",
    "sns.set(context='notebook', style='darkgrid', palette='colorblind')\n",
    "# Seting a universal figure size \n",
    "plt.rcParams['figure.figsize'] = (10, 6)\n",
    "\n",
    "# ---------------- Pandas settings ------------- #\n",
    "pd.options.display.max_columns = 200\n",
    "pd.options.display.max_rows = 200\n",
    "\n",
    "################################################################################"
   ]
  },
  {
   "cell_type": "markdown",
   "metadata": {},
   "source": [
    "## Project PUBG 🤖💣💥🔫🤖 \n",
    "\n",
    "\n",
    "### So, where we droppin' boys and girls?\n",
    "PUBG or Player Unknown Battlegrounds is a battle-royale style game where at the beginning of the play, nearly 100 people parachute onto an island without any equipment. In order to win the game, you need to scavenge for weapons and available equipment to eliminate the other people and survive to the end. The game also restricts player in Hunger Game style by reducing the playable are in map after a some amount of fixed time is passed. \n",
    "\n",
    "### Objective\n",
    "\n",
    "**Defining the problem:** The problem we have is, there is not set guide or strategy to improve player performance in PUBG, should your play style be stealth like a ninja and sneak upon unsuspecting players, or by camping in one spot and hide your way into victory, or snipe like assassin, or do you need to be aggressive and play like Rambo? \n",
    "\n",
    "**Solution:** Is to create a web application that allows players to improve their strategy by considering *What-if* scenarios as MVP.\n",
    "\n",
    "### Data Mining\n",
    "\n",
    "The team at [PUBG](https://www.pubg.com/) has made official game data available for the public to explore and scavenge outside of \"The Blue Circle.\" This competition is not an official or affiliated PUBG site - Kaggle collected data made possible through the [PUBG Developer API](https://developer.pubg.com/).\n",
    "\n",
    "![](https://d.newsweek.com/en/full/854048/pubg-logo.jpg)\n",
    "\n",
    "### Data Description\n",
    "\n",
    "We are given over 65,000 games worth of anonymized player data, split into training and testing sets. \n",
    "\n",
    "- DBNOs - Number of enemy players knocked.\n",
    "-assists - Number of enemy players this player damaged that were killed by teammates.\n",
    "- boosts - Number of boost items used.\n",
    "- damageDealt - Total damage dealt. Note: Self inflicted damage is subtracted.\n",
    "- headshotKills - Number of enemy players killed with headshots.\n",
    "- heals - Number of healing items used.\n",
    "- Id - Player’s Id\n",
    "- killPlace - Ranking in match of number of enemy players killed.\n",
    "- killPoints - Kills-based external ranking of player. (Think of this as an Elo ranking where only kills matter.) If there is a value other than -1 in rankPoints, then any 0 in killPoints should be treated as a “None”.\n",
    "- killStreaks - Max number of enemy players killed in a short amount of time.\n",
    "- kills - Number of enemy players killed.\n",
    "- longestKill - Longest distance between player and player killed at time of death. This may be misleading, as downing a player and driving away may lead to a large longestKill stat.\n",
    "- matchDuration - Duration of match in seconds.\n",
    "- matchId - ID to identify match. There are no matches that are in both the training and testing set.\n",
    "- matchType - String identifying the game mode that the data comes from. The standard modes are “solo”, “duo”, “squad”, “solo-fpp”, “duo-fpp”, and “squad-fpp”; other modes are from events or custom matches.\n",
    "- rankPoints - Elo-like ranking of player. This ranking is inconsistent and is being deprecated in the API’s next version, so use with caution. Value of -1 takes place of “None”.\n",
    "- revives - Number of times this player revived teammates.\n",
    "- rideDistance - Total distance traveled in vehicles measured in meters.\n",
    "- roadKills - Number of kills while in a vehicle.\n",
    "- swimDistance - Total distance traveled by swimming measured in meters.\n",
    "- teamKills - Number of times this player killed a teammate.\n",
    "- vehicleDestroys - Number of vehicles destroyed.\n",
    "- walkDistance - Total distance traveled on foot measured in meters.\n",
    "- weaponsAcquired - Number of weapons picked up.\n",
    "- winPoints - Win-based external ranking of player. (Think of this as an Elo ranking where only winning matters.) If there is a value other than -1 in rankPoints, then any 0 in winPoints should be treated as a “None”.\n",
    "- groupId - ID to identify a group within a match. If the same group of players plays in different matches, they will have a different groupId each time.\n",
    "- numGroups - Number of groups we have data for in the match.\n",
    "- maxPlace - Worst placement we have data for in the match. This may not match with numGroups, as sometimes the data skips over placements.\n",
    "- winPlacePerc - The target of prediction. This is a percentile winning placement, where 1 corresponds to 1st place, and 0 corresponds to last place in the match. It is calculated off of maxPlace, not numGroups, so it is possible to have missing chunks in a match."
   ]
  },
  {
   "cell_type": "markdown",
   "metadata": {},
   "source": [
    "### Load Dataset"
   ]
  },
  {
   "cell_type": "code",
   "execution_count": 2,
   "metadata": {
    "ExecuteTime": {
     "end_time": "2019-08-20T01:29:04.616568Z",
     "start_time": "2019-08-20T01:28:13.716775Z"
    }
   },
   "outputs": [
    {
     "name": "stdout",
     "output_type": "stream",
     "text": [
      "--------------------------------------------------------------------------------\n",
      "Load: train\n",
      "Memory usage of dataframe is 983.90 MB\n",
      "Memory usage after optimization is: 288.39 MB\n",
      "Decreased by 70.7%\n"
     ]
    }
   ],
   "source": [
    "def reduce_mem_usage(df, verbose=True):\n",
    "    \"\"\" Function iterates through all the columns of a dataframe and modify the data type\n",
    "        to reduce memory usage.\n",
    "        \n",
    "        Credit to: https://www.kaggle.com/gemartin/load-data-reduce-memory-usage\n",
    "        \n",
    "        Parameters\n",
    "        ----------\n",
    "        df : Pandas DataFrame\n",
    "        verbose: (True) by default, prints out before and after memory usage\n",
    "        \n",
    "        Returns\n",
    "        -------\n",
    "        df : Reduced Memory Pandas DataFrame\n",
    "        \n",
    "    \"\"\"\n",
    "    \n",
    "    if verbose:\n",
    "        start_mem = df.memory_usage().sum() / 1024**2\n",
    "        print('Memory usage of dataframe is {:.2f} MB'.format(start_mem))\n",
    "    \n",
    "    for col in df.columns:\n",
    "        col_type = df[col].dtype\n",
    "        \n",
    "        if col_type != object:\n",
    "            c_min = df[col].min()\n",
    "            c_max = df[col].max()\n",
    "            if str(col_type)[:3] == 'int':\n",
    "                if c_min > np.iinfo(np.int8).min and c_max < np.iinfo(np.int8).max:\n",
    "                    df[col] = df[col].astype(np.int8)\n",
    "                elif c_min > np.iinfo(np.int16).min and c_max < np.iinfo(np.int16).max:\n",
    "                    df[col] = df[col].astype(np.int16)\n",
    "                elif c_min > np.iinfo(np.int32).min and c_max < np.iinfo(np.int32).max:\n",
    "                    df[col] = df[col].astype(np.int32)\n",
    "                elif c_min > np.iinfo(np.int64).min and c_max < np.iinfo(np.int64).max:\n",
    "                    df[col] = df[col].astype(np.int64)  \n",
    "            else:\n",
    "                if c_min > np.finfo(np.float16).min and c_max < np.finfo(np.float16).max:\n",
    "                    df[col] = df[col].astype(np.float16)\n",
    "                elif c_min > np.finfo(np.float32).min and c_max < np.finfo(np.float32).max:\n",
    "                    df[col] = df[col].astype(np.float32)\n",
    "                else:\n",
    "                    df[col] = df[col].astype(np.float64)\n",
    "    if verbose:\n",
    "        end_mem = df.memory_usage().sum() / 1024**2\n",
    "        print('Memory usage after optimization is: {:.2f} MB'.format(end_mem))\n",
    "        print('Decreased by {:.1f}%'.format(100 * (start_mem - end_mem) / start_mem))\n",
    "    \n",
    "    return df\n",
    "\n",
    "\n",
    "\n",
    "def load_dataset(verbose=True, develop=True):\n",
    "    \n",
    "    # If you're in Colab...\n",
    "    import os, sys\n",
    "    in_colab = 'google.colab' in sys.modules\n",
    "    if in_colab:\n",
    "    # Install required python package:\n",
    "    # category_encoders, version >= 2.0\n",
    "        !pip install --upgrade category_encoders\n",
    "        \n",
    "        # Pull files from Github repo\n",
    "        os.chdir('/content')\n",
    "        !git init .\n",
    "        !git remote add origin https://github.com/hurshd0/DS-Unit-2-Applied-Modeling.git\n",
    "        !git pull origin master\n",
    "        \n",
    "        # Change into directory for module\n",
    "        os.chdir('module1')\n",
    "        \n",
    "        # Download ~1GB dataset\n",
    "        !rm -rf ../data/project-pubg\n",
    "        !mkdir -p ../data/project-pubg\n",
    "        !wget 'https://project-pubg.s3.us-east-2.amazonaws.com/train_V2.csv' -P ../data/project-pubg\n",
    "        !wget 'https://project-pubg.s3.us-east-2.amazonaws.com/test_V2.csv' -P ../data/project-pubg\n",
    "        !wget 'https://project-pubg.s3.us-east-2.amazonaws.com/sample_submission_V2.csv' -P ../data/project-pubg\n",
    "    \n",
    "    \n",
    "    # Load training set\n",
    "    if verbose:\n",
    "        print('-' * 80)\n",
    "        print('Load: train')\n",
    "    train = pd.read_csv('../data/project-pubg/train_V2.csv')\n",
    "    train = reduce_mem_usage(train, verbose=verbose)\n",
    "    \n",
    "    # Load sample submission\n",
    "    if not develop:\n",
    "        # Load test set\n",
    "        if verbose:\n",
    "            print('-' * 80)\n",
    "            print('Load: test')\n",
    "        test = pd.read_csv('../data/project-pubg/test_V2.csv')\n",
    "        test = reduce_mem_usage(test, verbose=verbose)\n",
    "    \n",
    "        if verbose:\n",
    "            print('-' * 80)\n",
    "            print('Load: sample submission')\n",
    "        sample_submission = pd.read_csv('../data/project-pubg/sample_submission_V2.csv')\n",
    "        sample_submission = reduce_mem_usage(sample_submission, verbose=verbose)\n",
    "        \n",
    "        if verbose:\n",
    "            print(\n",
    "            f'''\n",
    "            -------------------- SHAPE ---------------------\n",
    "            Train Set: {train.shape}\n",
    "            Test Set: {test.shape}\n",
    "            Sample Submission: {sample_submission.shape}\n",
    "            ------------------------------------------------\n",
    "            ''')\n",
    "        # Return data frames\n",
    "        return (train, test, sample_submission)\n",
    "    \n",
    "    return train\n",
    "\n",
    "traindf = load_dataset()"
   ]
  },
  {
   "cell_type": "code",
   "execution_count": 3,
   "metadata": {
    "ExecuteTime": {
     "end_time": "2019-08-20T01:29:05.268659Z",
     "start_time": "2019-08-20T01:29:04.620467Z"
    }
   },
   "outputs": [
    {
     "name": "stdout",
     "output_type": "stream",
     "text": [
      "<class 'pandas.core.frame.DataFrame'>\n",
      "RangeIndex: 4446966 entries, 0 to 4446965\n",
      "Data columns (total 29 columns):\n",
      "Id                 object\n",
      "groupId            object\n",
      "matchId            object\n",
      "assists            int8\n",
      "boosts             int8\n",
      "damageDealt        float16\n",
      "DBNOs              int8\n",
      "headshotKills      int8\n",
      "heals              int8\n",
      "killPlace          int8\n",
      "killPoints         int16\n",
      "kills              int8\n",
      "killStreaks        int8\n",
      "longestKill        float16\n",
      "matchDuration      int16\n",
      "matchType          object\n",
      "maxPlace           int8\n",
      "numGroups          int8\n",
      "rankPoints         int16\n",
      "revives            int8\n",
      "rideDistance       float16\n",
      "roadKills          int8\n",
      "swimDistance       float16\n",
      "teamKills          int8\n",
      "vehicleDestroys    int8\n",
      "walkDistance       float16\n",
      "weaponsAcquired    int16\n",
      "winPoints          int16\n",
      "winPlacePerc       float16\n",
      "dtypes: float16(6), int16(5), int8(14), object(4)\n",
      "memory usage: 288.4+ MB\n"
     ]
    }
   ],
   "source": [
    "traindf.info()"
   ]
  },
  {
   "cell_type": "markdown",
   "metadata": {},
   "source": [
    "### Check for Missing Values"
   ]
  },
  {
   "cell_type": "code",
   "execution_count": 5,
   "metadata": {
    "ExecuteTime": {
     "end_time": "2019-08-20T01:47:35.063805Z",
     "start_time": "2019-08-20T01:47:27.890708Z"
    },
    "scrolled": false
   },
   "outputs": [
    {
     "data": {
      "text/plain": [
       "Id                 0\n",
       "groupId            0\n",
       "matchId            0\n",
       "assists            0\n",
       "boosts             0\n",
       "damageDealt        0\n",
       "DBNOs              0\n",
       "headshotKills      0\n",
       "heals              0\n",
       "killPlace          0\n",
       "killPoints         0\n",
       "kills              0\n",
       "killStreaks        0\n",
       "longestKill        0\n",
       "matchDuration      0\n",
       "matchType          0\n",
       "maxPlace           0\n",
       "numGroups          0\n",
       "rankPoints         0\n",
       "revives            0\n",
       "rideDistance       0\n",
       "roadKills          0\n",
       "swimDistance       0\n",
       "teamKills          0\n",
       "vehicleDestroys    0\n",
       "walkDistance       0\n",
       "weaponsAcquired    0\n",
       "winPoints          0\n",
       "winPlacePerc       1\n",
       "dtype: int64"
      ]
     },
     "execution_count": 5,
     "metadata": {},
     "output_type": "execute_result"
    }
   ],
   "source": [
    "traindf.isnull().sum()"
   ]
  },
  {
   "cell_type": "markdown",
   "metadata": {},
   "source": [
    "Let's look at the row which has missing `target` value."
   ]
  },
  {
   "cell_type": "code",
   "execution_count": 13,
   "metadata": {
    "ExecuteTime": {
     "end_time": "2019-08-20T03:15:42.844138Z",
     "start_time": "2019-08-20T03:15:42.816162Z"
    }
   },
   "outputs": [
    {
     "data": {
      "text/html": [
       "<div>\n",
       "<style scoped>\n",
       "    .dataframe tbody tr th:only-of-type {\n",
       "        vertical-align: middle;\n",
       "    }\n",
       "\n",
       "    .dataframe tbody tr th {\n",
       "        vertical-align: top;\n",
       "    }\n",
       "\n",
       "    .dataframe thead th {\n",
       "        text-align: right;\n",
       "    }\n",
       "</style>\n",
       "<table border=\"1\" class=\"dataframe\">\n",
       "  <thead>\n",
       "    <tr style=\"text-align: right;\">\n",
       "      <th></th>\n",
       "      <th>Id</th>\n",
       "      <th>groupId</th>\n",
       "      <th>matchId</th>\n",
       "      <th>assists</th>\n",
       "      <th>boosts</th>\n",
       "      <th>damageDealt</th>\n",
       "      <th>DBNOs</th>\n",
       "      <th>headshotKills</th>\n",
       "      <th>heals</th>\n",
       "      <th>killPlace</th>\n",
       "      <th>killPoints</th>\n",
       "      <th>kills</th>\n",
       "      <th>killStreaks</th>\n",
       "      <th>longestKill</th>\n",
       "      <th>matchDuration</th>\n",
       "      <th>matchType</th>\n",
       "      <th>maxPlace</th>\n",
       "      <th>numGroups</th>\n",
       "      <th>rankPoints</th>\n",
       "      <th>revives</th>\n",
       "      <th>rideDistance</th>\n",
       "      <th>roadKills</th>\n",
       "      <th>swimDistance</th>\n",
       "      <th>teamKills</th>\n",
       "      <th>vehicleDestroys</th>\n",
       "      <th>walkDistance</th>\n",
       "      <th>weaponsAcquired</th>\n",
       "      <th>winPoints</th>\n",
       "      <th>winPlacePerc</th>\n",
       "    </tr>\n",
       "  </thead>\n",
       "  <tbody>\n",
       "    <tr>\n",
       "      <th>2744604</th>\n",
       "      <td>f70c74418bb064</td>\n",
       "      <td>12dfbede33f92b</td>\n",
       "      <td>224a123c53e008</td>\n",
       "      <td>0</td>\n",
       "      <td>0</td>\n",
       "      <td>0.0</td>\n",
       "      <td>0</td>\n",
       "      <td>0</td>\n",
       "      <td>0</td>\n",
       "      <td>1</td>\n",
       "      <td>0</td>\n",
       "      <td>0</td>\n",
       "      <td>0</td>\n",
       "      <td>0.0</td>\n",
       "      <td>9</td>\n",
       "      <td>solo-fpp</td>\n",
       "      <td>1</td>\n",
       "      <td>1</td>\n",
       "      <td>1574</td>\n",
       "      <td>0</td>\n",
       "      <td>0.0</td>\n",
       "      <td>0</td>\n",
       "      <td>0.0</td>\n",
       "      <td>0</td>\n",
       "      <td>0</td>\n",
       "      <td>0.0</td>\n",
       "      <td>0</td>\n",
       "      <td>0</td>\n",
       "      <td>NaN</td>\n",
       "    </tr>\n",
       "  </tbody>\n",
       "</table>\n",
       "</div>"
      ],
      "text/plain": [
       "                     Id         groupId         matchId  assists  boosts  \\\n",
       "2744604  f70c74418bb064  12dfbede33f92b  224a123c53e008        0       0   \n",
       "\n",
       "         damageDealt  DBNOs  headshotKills  heals  killPlace  killPoints  \\\n",
       "2744604          0.0      0              0      0          1           0   \n",
       "\n",
       "         kills  killStreaks  longestKill  matchDuration matchType  maxPlace  \\\n",
       "2744604      0            0          0.0              9  solo-fpp         1   \n",
       "\n",
       "         numGroups  rankPoints  revives  rideDistance  roadKills  \\\n",
       "2744604          1        1574        0           0.0          0   \n",
       "\n",
       "         swimDistance  teamKills  vehicleDestroys  walkDistance  \\\n",
       "2744604           0.0          0                0           0.0   \n",
       "\n",
       "         weaponsAcquired  winPoints  winPlacePerc  \n",
       "2744604                0          0           NaN  "
      ]
     },
     "execution_count": 13,
     "metadata": {},
     "output_type": "execute_result"
    }
   ],
   "source": [
    "traindf[traindf['winPlacePerc'].isnull()]"
   ]
  },
  {
   "cell_type": "markdown",
   "metadata": {},
   "source": [
    "Looks like most values are `0`, it is safe to drop this observation now."
   ]
  },
  {
   "cell_type": "code",
   "execution_count": 14,
   "metadata": {
    "ExecuteTime": {
     "end_time": "2019-08-20T03:16:52.425072Z",
     "start_time": "2019-08-20T03:16:50.168553Z"
    }
   },
   "outputs": [],
   "source": [
    "traindf = traindf[~traindf['winPlacePerc'].isnull()]"
   ]
  },
  {
   "cell_type": "markdown",
   "metadata": {},
   "source": [
    "### Check for duplicates"
   ]
  },
  {
   "cell_type": "code",
   "execution_count": 18,
   "metadata": {
    "ExecuteTime": {
     "end_time": "2019-08-20T03:18:18.791761Z",
     "start_time": "2019-08-20T03:17:58.287104Z"
    }
   },
   "outputs": [
    {
     "data": {
      "text/html": [
       "<div>\n",
       "<style scoped>\n",
       "    .dataframe tbody tr th:only-of-type {\n",
       "        vertical-align: middle;\n",
       "    }\n",
       "\n",
       "    .dataframe tbody tr th {\n",
       "        vertical-align: top;\n",
       "    }\n",
       "\n",
       "    .dataframe thead th {\n",
       "        text-align: right;\n",
       "    }\n",
       "</style>\n",
       "<table border=\"1\" class=\"dataframe\">\n",
       "  <thead>\n",
       "    <tr style=\"text-align: right;\">\n",
       "      <th></th>\n",
       "      <th>Id</th>\n",
       "      <th>groupId</th>\n",
       "      <th>matchId</th>\n",
       "      <th>assists</th>\n",
       "      <th>boosts</th>\n",
       "      <th>damageDealt</th>\n",
       "      <th>DBNOs</th>\n",
       "      <th>headshotKills</th>\n",
       "      <th>heals</th>\n",
       "      <th>killPlace</th>\n",
       "      <th>killPoints</th>\n",
       "      <th>kills</th>\n",
       "      <th>killStreaks</th>\n",
       "      <th>longestKill</th>\n",
       "      <th>matchDuration</th>\n",
       "      <th>matchType</th>\n",
       "      <th>maxPlace</th>\n",
       "      <th>numGroups</th>\n",
       "      <th>rankPoints</th>\n",
       "      <th>revives</th>\n",
       "      <th>rideDistance</th>\n",
       "      <th>roadKills</th>\n",
       "      <th>swimDistance</th>\n",
       "      <th>teamKills</th>\n",
       "      <th>vehicleDestroys</th>\n",
       "      <th>walkDistance</th>\n",
       "      <th>weaponsAcquired</th>\n",
       "      <th>winPoints</th>\n",
       "      <th>winPlacePerc</th>\n",
       "    </tr>\n",
       "  </thead>\n",
       "  <tbody>\n",
       "  </tbody>\n",
       "</table>\n",
       "</div>"
      ],
      "text/plain": [
       "Empty DataFrame\n",
       "Columns: [Id, groupId, matchId, assists, boosts, damageDealt, DBNOs, headshotKills, heals, killPlace, killPoints, kills, killStreaks, longestKill, matchDuration, matchType, maxPlace, numGroups, rankPoints, revives, rideDistance, roadKills, swimDistance, teamKills, vehicleDestroys, walkDistance, weaponsAcquired, winPoints, winPlacePerc]\n",
       "Index: []"
      ]
     },
     "execution_count": 18,
     "metadata": {},
     "output_type": "execute_result"
    }
   ],
   "source": [
    "traindf[traindf.duplicated()]"
   ]
  },
  {
   "cell_type": "markdown",
   "metadata": {},
   "source": [
    "Great! there are no duplicates."
   ]
  },
  {
   "cell_type": "markdown",
   "metadata": {},
   "source": [
    "## Assignment\n",
    "\n",
    "- [X] Choose your target. Which column in your tabular dataset will you predict?"
   ]
  },
  {
   "cell_type": "markdown",
   "metadata": {},
   "source": [
    "`target` in this case is `winPlacePerc`, column, that predicts percentile winning placement, where 1 corresponds to 1st place, and 0 corresponds to last place in the match."
   ]
  },
  {
   "cell_type": "markdown",
   "metadata": {},
   "source": [
    "- [X] Choose which observations you will use to train, validate, and test your model. And which observations, if any, to exclude."
   ]
  },
  {
   "cell_type": "markdown",
   "metadata": {},
   "source": [
    "Since this is dataset was obtained from `Kaggle` competition, we would just need to split the `training` set into `train` and `validation` set. Our strategy would be to:\n",
    "\n",
    "- Use **Train/validate split: random 80/20%** for \n",
    "- **K-fold Cross-Validation**\n",
    "\n",
    "For now let's use `80/20 split`. "
   ]
  },
  {
   "cell_type": "markdown",
   "metadata": {},
   "source": [
    "- [X] Determine whether your problem is regression or classification."
   ]
  },
  {
   "cell_type": "markdown",
   "metadata": {},
   "source": [
    "Based on the problem statement, our problem is framed as **regression** type, but we can also `bin` the winning percentiles into groups and predict those groups instead. "
   ]
  },
  {
   "cell_type": "markdown",
   "metadata": {},
   "source": [
    "- [X] Choose your evaluation metric."
   ]
  },
  {
   "cell_type": "markdown",
   "metadata": {},
   "source": [
    "Since we are dealing with **regression** type question, and target is `percentile winning placement` between 0 and 1, we can use MAE, RMSE, and $R^2$ to better understand the model."
   ]
  },
  {
   "cell_type": "markdown",
   "metadata": {},
   "source": [
    "- [X] Begin with baselines: majority class baseline for classification, or mean baseline for regression, with your metric of choice."
   ]
  },
  {
   "cell_type": "code",
   "execution_count": 31,
   "metadata": {
    "ExecuteTime": {
     "end_time": "2019-08-20T03:27:23.429118Z",
     "start_time": "2019-08-20T03:27:22.979563Z"
    },
    "scrolled": false
   },
   "outputs": [
    {
     "data": {
      "text/plain": [
       "count    4.446965e+06\n",
       "mean              NaN\n",
       "std      0.000000e+00\n",
       "min      0.000000e+00\n",
       "25%      1.999512e-01\n",
       "50%      4.582520e-01\n",
       "75%      7.407227e-01\n",
       "max      1.000000e+00\n",
       "Name: winPlacePerc, dtype: float64"
      ]
     },
     "execution_count": 31,
     "metadata": {},
     "output_type": "execute_result"
    }
   ],
   "source": [
    "traindf['winPlacePerc'].describe()"
   ]
  },
  {
   "cell_type": "markdown",
   "metadata": {},
   "source": [
    "- [X] Begin to clean and explore your data."
   ]
  },
  {
   "cell_type": "code",
   "execution_count": null,
   "metadata": {},
   "outputs": [],
   "source": []
  },
  {
   "cell_type": "markdown",
   "metadata": {},
   "source": [
    "- [X] Choose which features, if any, to exclude. Would some features \"leak\" information from the future?"
   ]
  },
  {
   "cell_type": "code",
   "execution_count": null,
   "metadata": {},
   "outputs": [],
   "source": []
  },
  {
   "cell_type": "code",
   "execution_count": null,
   "metadata": {},
   "outputs": [],
   "source": []
  }
 ],
 "metadata": {
  "colab": {
   "collapsed_sections": [],
   "name": "assignment_applied_modeling_1.ipynb",
   "provenance": [],
   "version": "0.3.2"
  },
  "kernelspec": {
   "display_name": "Python 3",
   "language": "python",
   "name": "python3"
  },
  "language_info": {
   "codemirror_mode": {
    "name": "ipython",
    "version": 3
   },
   "file_extension": ".py",
   "mimetype": "text/x-python",
   "name": "python",
   "nbconvert_exporter": "python",
   "pygments_lexer": "ipython3",
   "version": "3.6.7"
  }
 },
 "nbformat": 4,
 "nbformat_minor": 1
}
