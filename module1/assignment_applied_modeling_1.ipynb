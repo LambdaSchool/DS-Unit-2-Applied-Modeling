{
 "cells": [
  {
   "cell_type": "markdown",
   "metadata": {
    "colab_type": "text",
    "id": "nCc3XZEyG3XV"
   },
   "source": [
    "Lambda School Data Science, Unit 2: Predictive Modeling\n",
    "\n",
    "# Applied Modeling, Module 1\n",
    "\n",
    "You will use your portfolio project dataset for all assignments this sprint.\n",
    "\n",
    "## Assignment\n",
    "\n",
    "Complete these tasks for your project, and document your decisions.\n",
    "\n",
    "- [ ] Choose your target. Which column in your tabular dataset will you predict?\n",
    "- [ ] Choose which observations you will use to train, validate, and test your model. And which observations, if any, to exclude.\n",
    "- [ ] Determine whether your problem is regression or classification.\n",
    "- [ ] Choose your evaluation metric.\n",
    "- [ ] Begin with baselines: majority class baseline for classification, or mean baseline for regression, with your metric of choice.\n",
    "- [ ] Begin to clean and explore your data.\n",
    "- [ ] Choose which features, if any, to exclude. Would some features \"leak\" information from the future?\n",
    "\n",
    "## Reading\n",
    "- [Attacking discrimination with smarter machine learning](https://research.google.com/bigpicture/attacking-discrimination-in-ml/), by Google Research, with  interactive visualizations. _\"A threshold classifier essentially makes a yes/no decision, putting things in one category or another. We look at how these classifiers work, ways they can potentially be unfair, and how you might turn an unfair classifier into a fairer one. As an illustrative example, we focus on loan granting scenarios where a bank may grant or deny a loan based on a single, automatically computed number such as a credit score.\"_\n",
    "- [How Shopify Capital Uses Quantile Regression To Help Merchants Succeed](https://engineering.shopify.com/blogs/engineering/how-shopify-uses-machine-learning-to-help-our-merchants-grow-their-business)\n",
    "- [Maximizing Scarce Maintenance Resources with Data: Applying predictive modeling, precision at k, and clustering to optimize impact](https://towardsdatascience.com/maximizing-scarce-maintenance-resources-with-data-8f3491133050), **by Lambda DS3 student** Michael Brady. His blog post extends the Tanzania Waterpumps scenario, far beyond what's in the lecture notebook.\n",
    "- [Notebook about how to calculate expected value from a confusion matrix by treating it as a cost-benefit matrix](https://github.com/podopie/DAT18NYC/blob/master/classes/13-expected_value_cost_benefit_analysis.ipynb)\n",
    "- [Simple guide to confusion matrix terminology](https://www.dataschool.io/simple-guide-to-confusion-matrix-terminology/) by Kevin Markham, with video\n",
    "- [Visualizing Machine Learning Thresholds to Make Better Business Decisions](https://blog.insightdatascience.com/visualizing-machine-learning-thresholds-to-make-better-business-decisions-4ab07f823415)"
   ]
  },
  {
   "cell_type": "code",
   "execution_count": 1,
   "metadata": {},
   "outputs": [],
   "source": [
    "import pandas as pd\n",
    "import numpy as np\n",
    "import matplotlib.pyplot as plt\n",
    "import plotly_express as px\n",
    "import seaborn as sns"
   ]
  },
  {
   "cell_type": "code",
   "execution_count": 3,
   "metadata": {},
   "outputs": [],
   "source": [
    "df = pd.read_csv('CA_Hosp_Mortality.csv', encoding = \"ISO-8859-1\")\n",
    "\n",
    "pd.set_option('display.float_format', lambda x: '%.3f' % x)"
   ]
  },
  {
   "cell_type": "code",
   "execution_count": 4,
   "metadata": {},
   "outputs": [
    {
     "name": "stderr",
     "output_type": "stream",
     "text": [
      "C:\\Users\\John\\Anaconda3\\lib\\site-packages\\pandas\\core\\frame.py:4042: SettingWithCopyWarning:\n",
      "\n",
      "\n",
      "A value is trying to be set on a copy of a slice from a DataFrame\n",
      "\n",
      "See the caveats in the documentation: http://pandas.pydata.org/pandas-docs/stable/indexing.html#indexing-view-versus-copy\n",
      "\n",
      "C:\\Users\\John\\Anaconda3\\lib\\site-packages\\ipykernel_launcher.py:20: SettingWithCopyWarning:\n",
      "\n",
      "\n",
      "A value is trying to be set on a copy of a slice from a DataFrame\n",
      "\n",
      "See the caveats in the documentation: http://pandas.pydata.org/pandas-docs/stable/indexing.html#indexing-view-versus-copy\n",
      "\n",
      "C:\\Users\\John\\Anaconda3\\lib\\site-packages\\ipykernel_launcher.py:25: SettingWithCopyWarning:\n",
      "\n",
      "\n",
      "A value is trying to be set on a copy of a slice from a DataFrame.\n",
      "Try using .loc[row_indexer,col_indexer] = value instead\n",
      "\n",
      "See the caveats in the documentation: http://pandas.pydata.org/pandas-docs/stable/indexing.html#indexing-view-versus-copy\n",
      "\n",
      "C:\\Users\\John\\Anaconda3\\lib\\site-packages\\ipykernel_launcher.py:28: SettingWithCopyWarning:\n",
      "\n",
      "\n",
      "A value is trying to be set on a copy of a slice from a DataFrame.\n",
      "Try using .loc[row_indexer,col_indexer] = value instead\n",
      "\n",
      "See the caveats in the documentation: http://pandas.pydata.org/pandas-docs/stable/indexing.html#indexing-view-versus-copy\n",
      "\n"
     ]
    }
   ],
   "source": [
    "# Cleaning function\n",
    "\n",
    "def wrangle(X):\n",
    "    \n",
    "    X = X.copy()\n",
    "    \n",
    "    # Change column names to more appropriate names without caps\n",
    "    X = X.rename(columns={'YEAR':'Year', 'COUNTY':'County', 'HOSPITAL':'Hospital',\n",
    "                        'Procedure/Condition':'Procedure_Condition',\n",
    "                        'Risk Adjuested Mortality Rate':'RAMR', '# of Deaths':'Number_Deaths',\n",
    "                        '# of Cases':'Number_Cases', 'Hospital Ratings':'Hospital_Ratings',\n",
    "                        'LONGITUDE':'Longitude', 'LATITUDE':'Latitude'\n",
    "                       })  \n",
    "    \n",
    "    # Remove rows where the value is for the entire state\n",
    "    X = X.query(\"County != 'AAAA'\") # AAAA is county code for State\n",
    "\n",
    "    # Remove procedures that are not in every year and hidden NaN values\n",
    "    X.replace({'AAA Repair':np.nan, 'AAA Repair Unruptured':np.nan, '.':np.nan}, inplace=True)\n",
    "    X.dropna(inplace=True)\n",
    "    \n",
    "    # Change numeric columns from string to float\n",
    "    numerics = ['RAMR', 'Number_Deaths', 'Number_Cases']\n",
    "    for column in numerics:\n",
    "        X[column] = X[column].astype(float)\n",
    "    \n",
    "    # Engineer new column of Number of Deaths to Number of Cases ratio\n",
    "    X['Deaths_Cases'] = X['Number_Deaths']/X['Number_Cases']\n",
    "    \n",
    "    return X\n",
    "\n",
    "newdf = wrangle(df)"
   ]
  },
  {
   "cell_type": "code",
   "execution_count": 10,
   "metadata": {},
   "outputs": [
    {
     "data": {
      "text/html": [
       "<div>\n",
       "<style scoped>\n",
       "    .dataframe tbody tr th:only-of-type {\n",
       "        vertical-align: middle;\n",
       "    }\n",
       "\n",
       "    .dataframe tbody tr th {\n",
       "        vertical-align: top;\n",
       "    }\n",
       "\n",
       "    .dataframe thead th {\n",
       "        text-align: right;\n",
       "    }\n",
       "</style>\n",
       "<table border=\"1\" class=\"dataframe\">\n",
       "  <thead>\n",
       "    <tr style=\"text-align: right;\">\n",
       "      <th></th>\n",
       "      <th>Year</th>\n",
       "      <th>County</th>\n",
       "      <th>Hospital</th>\n",
       "      <th>OSHPDID</th>\n",
       "      <th>Procedure_Condition</th>\n",
       "      <th>RAMR</th>\n",
       "      <th>Number_Deaths</th>\n",
       "      <th>Number_Cases</th>\n",
       "      <th>Hospital_Ratings</th>\n",
       "      <th>Longitude</th>\n",
       "      <th>Latitude</th>\n",
       "      <th>Deaths_Cases</th>\n",
       "    </tr>\n",
       "  </thead>\n",
       "  <tbody>\n",
       "    <tr>\n",
       "      <th>22264</th>\n",
       "      <td>2015</td>\n",
       "      <td>Yuba</td>\n",
       "      <td>Rideout Memorial Hospital</td>\n",
       "      <td>106580996.000</td>\n",
       "      <td>Acute Stroke Subarachnoid</td>\n",
       "      <td>27.000</td>\n",
       "      <td>2.000</td>\n",
       "      <td>10.000</td>\n",
       "      <td>As Expected</td>\n",
       "      <td>-121.594363</td>\n",
       "      <td>39.138222</td>\n",
       "      <td>0.200</td>\n",
       "    </tr>\n",
       "    <tr>\n",
       "      <th>22265</th>\n",
       "      <td>2015</td>\n",
       "      <td>Yuba</td>\n",
       "      <td>Rideout Memorial Hospital</td>\n",
       "      <td>106580996.000</td>\n",
       "      <td>Acute Stroke Ischemic</td>\n",
       "      <td>5.200</td>\n",
       "      <td>10.000</td>\n",
       "      <td>150.000</td>\n",
       "      <td>As Expected</td>\n",
       "      <td>-121.594363</td>\n",
       "      <td>39.138222</td>\n",
       "      <td>0.067</td>\n",
       "    </tr>\n",
       "    <tr>\n",
       "      <th>22266</th>\n",
       "      <td>2015</td>\n",
       "      <td>Yuba</td>\n",
       "      <td>Rideout Memorial Hospital</td>\n",
       "      <td>106580996.000</td>\n",
       "      <td>Acute Stroke Hemorrhagic</td>\n",
       "      <td>19.900</td>\n",
       "      <td>4.000</td>\n",
       "      <td>25.000</td>\n",
       "      <td>As Expected</td>\n",
       "      <td>-121.594363</td>\n",
       "      <td>39.138222</td>\n",
       "      <td>0.160</td>\n",
       "    </tr>\n",
       "    <tr>\n",
       "      <th>22267</th>\n",
       "      <td>2015</td>\n",
       "      <td>Yuba</td>\n",
       "      <td>Rideout Memorial Hospital</td>\n",
       "      <td>106580996.000</td>\n",
       "      <td>Acute Stroke</td>\n",
       "      <td>9.000</td>\n",
       "      <td>16.000</td>\n",
       "      <td>185.000</td>\n",
       "      <td>As Expected</td>\n",
       "      <td>-121.594363</td>\n",
       "      <td>39.138222</td>\n",
       "      <td>0.086</td>\n",
       "    </tr>\n",
       "    <tr>\n",
       "      <th>22268</th>\n",
       "      <td>2015</td>\n",
       "      <td>Yuba</td>\n",
       "      <td>Rideout Memorial Hospital</td>\n",
       "      <td>106580996.000</td>\n",
       "      <td>AMI</td>\n",
       "      <td>5.900</td>\n",
       "      <td>13.000</td>\n",
       "      <td>209.000</td>\n",
       "      <td>As Expected</td>\n",
       "      <td>-121.594363</td>\n",
       "      <td>39.138222</td>\n",
       "      <td>0.062</td>\n",
       "    </tr>\n",
       "  </tbody>\n",
       "</table>\n",
       "</div>"
      ],
      "text/plain": [
       "       Year County                   Hospital       OSHPDID  \\\n",
       "22264  2015   Yuba  Rideout Memorial Hospital 106580996.000   \n",
       "22265  2015   Yuba  Rideout Memorial Hospital 106580996.000   \n",
       "22266  2015   Yuba  Rideout Memorial Hospital 106580996.000   \n",
       "22267  2015   Yuba  Rideout Memorial Hospital 106580996.000   \n",
       "22268  2015   Yuba  Rideout Memorial Hospital 106580996.000   \n",
       "\n",
       "             Procedure_Condition   RAMR  Number_Deaths  Number_Cases  \\\n",
       "22264  Acute Stroke Subarachnoid 27.000          2.000        10.000   \n",
       "22265      Acute Stroke Ischemic  5.200         10.000       150.000   \n",
       "22266   Acute Stroke Hemorrhagic 19.900          4.000        25.000   \n",
       "22267               Acute Stroke  9.000         16.000       185.000   \n",
       "22268                        AMI  5.900         13.000       209.000   \n",
       "\n",
       "      Hospital_Ratings    Longitude   Latitude  Deaths_Cases  \n",
       "22264      As Expected  -121.594363  39.138222         0.200  \n",
       "22265      As Expected  -121.594363  39.138222         0.067  \n",
       "22266      As Expected  -121.594363  39.138222         0.160  \n",
       "22267      As Expected  -121.594363  39.138222         0.086  \n",
       "22268      As Expected  -121.594363  39.138222         0.062  "
      ]
     },
     "execution_count": 10,
     "metadata": {},
     "output_type": "execute_result"
    }
   ],
   "source": [
    "newdf.tail()"
   ]
  },
  {
   "cell_type": "code",
   "execution_count": 12,
   "metadata": {},
   "outputs": [],
   "source": [
    "target = 'Number_Deaths'\n",
    "features = newdf.columns.drop('Number_Deaths').tolist()\n",
    "\n",
    "train = newdf.query('Year < 2015')\n",
    "test = newdf.query('Year >= 2015')\n",
    "\n",
    "X_train = train[features]\n",
    "y_train = train[target]\n",
    "\n",
    "X_test = test[features]\n",
    "y_test = test[target]\n",
    "\n",
    "# Could also do predict for an area instead of year"
   ]
  },
  {
   "cell_type": "markdown",
   "metadata": {},
   "source": [
    "This will be a regression problem.\n",
    "Predicting the number of deaths per procedure or per hospital or area"
   ]
  },
  {
   "cell_type": "code",
   "execution_count": 13,
   "metadata": {},
   "outputs": [
    {
     "data": {
      "text/plain": [
       "6.590228440266696"
      ]
     },
     "execution_count": 13,
     "metadata": {},
     "output_type": "execute_result"
    }
   ],
   "source": [
    "# Number of deaths averaged between all hospitals between 2012-2014\n",
    "# Should try to predict per procedure or per hospital/area\n",
    "train['Number_Deaths'].mean()"
   ]
  }
 ],
 "metadata": {
  "colab": {
   "collapsed_sections": [],
   "name": "assignment_applied_modeling_1.ipynb",
   "provenance": [],
   "version": "0.3.2"
  },
  "kernelspec": {
   "display_name": "Python 3",
   "language": "python",
   "name": "python3"
  },
  "language_info": {
   "codemirror_mode": {
    "name": "ipython",
    "version": 3
   },
   "file_extension": ".py",
   "mimetype": "text/x-python",
   "name": "python",
   "nbconvert_exporter": "python",
   "pygments_lexer": "ipython3",
   "version": "3.7.3"
  }
 },
 "nbformat": 4,
 "nbformat_minor": 1
}
