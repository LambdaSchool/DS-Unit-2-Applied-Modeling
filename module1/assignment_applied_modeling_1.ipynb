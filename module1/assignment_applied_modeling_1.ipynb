{
 "cells": [
  {
   "cell_type": "markdown",
   "metadata": {
    "colab_type": "text",
    "id": "nCc3XZEyG3XV"
   },
   "source": [
    "Lambda School Data Science\n",
    "\n",
    "*Unit 2, Sprint 3, Module 1*\n",
    "\n",
    "---\n",
    "\n",
    "\n",
    "# Define ML problems\n",
    "\n",
    "You will use your portfolio project dataset for all assignments this sprint.\n",
    "\n",
    "## Assignment\n",
    "\n",
    "Complete these tasks for your project, and document your decisions.\n",
    "\n",
    "- [ ] Choose your target. Which column in your tabular dataset will you predict?\n",
    "- [ ] Choose which observations you will use to train, validate, and test your model. And which observations, if any, to exclude.\n",
    "- [ ] Determine whether your problem is regression or classification.\n",
    "- [ ] Choose your evaluation metric.\n",
    "- [ ] Begin to clean and explore your data.\n",
    "- [ ] Begin to choose which features, if any, to exclude. Would some features \"leak\" information from the future?\n"
   ]
  },
  {
   "cell_type": "code",
   "execution_count": 1,
   "metadata": {},
   "outputs": [],
   "source": [
    "dataurl = 'https://raw.githubusercontent.com/Nckflannery/Unit2-Project/master/Data/NFL%20Combine%20Data%20-%20Combine%20Results.csv'\n",
    "import pandas as pd\n",
    "df = pd.read_csv(dataurl)"
   ]
  },
  {
   "cell_type": "code",
   "execution_count": 2,
   "metadata": {},
   "outputs": [
    {
     "data": {
      "text/html": [
       "<div>\n",
       "<style scoped>\n",
       "    .dataframe tbody tr th:only-of-type {\n",
       "        vertical-align: middle;\n",
       "    }\n",
       "\n",
       "    .dataframe tbody tr th {\n",
       "        vertical-align: top;\n",
       "    }\n",
       "\n",
       "    .dataframe thead th {\n",
       "        text-align: right;\n",
       "    }\n",
       "</style>\n",
       "<table border=\"1\" class=\"dataframe\">\n",
       "  <thead>\n",
       "    <tr style=\"text-align: right;\">\n",
       "      <th></th>\n",
       "      <th>Year</th>\n",
       "      <th>Name</th>\n",
       "      <th>YearName</th>\n",
       "      <th>College</th>\n",
       "      <th>POS</th>\n",
       "      <th>Height (in)</th>\n",
       "      <th>Weight (lbs)</th>\n",
       "      <th>Hand Size (in)</th>\n",
       "      <th>Arm Length (in)</th>\n",
       "      <th>Wonderlic</th>\n",
       "      <th>40 Yard</th>\n",
       "      <th>Bench Press</th>\n",
       "      <th>Vert Leap (in)</th>\n",
       "      <th>Broad Jump (in)</th>\n",
       "      <th>Shuttle</th>\n",
       "      <th>3Cone</th>\n",
       "      <th>60Yd Shuttle</th>\n",
       "      <th>Pick</th>\n",
       "      <th>Round</th>\n",
       "    </tr>\n",
       "  </thead>\n",
       "  <tbody>\n",
       "    <tr>\n",
       "      <td>0</td>\n",
       "      <td>2015</td>\n",
       "      <td>Ameer Abdullah</td>\n",
       "      <td>2015Ameer Abdullah</td>\n",
       "      <td>Nebraska</td>\n",
       "      <td>RB</td>\n",
       "      <td>68.75</td>\n",
       "      <td>205</td>\n",
       "      <td>8.63</td>\n",
       "      <td>30.00</td>\n",
       "      <td>NaN</td>\n",
       "      <td>4.60</td>\n",
       "      <td>24.0</td>\n",
       "      <td>42.5</td>\n",
       "      <td>130.0</td>\n",
       "      <td>3.95</td>\n",
       "      <td>6.79</td>\n",
       "      <td>11.18</td>\n",
       "      <td>54.0</td>\n",
       "      <td>2.0</td>\n",
       "    </tr>\n",
       "    <tr>\n",
       "      <td>1</td>\n",
       "      <td>2015</td>\n",
       "      <td>Nelson Agholor</td>\n",
       "      <td>2015Nelson Agholor</td>\n",
       "      <td>Southern California</td>\n",
       "      <td>WR</td>\n",
       "      <td>72.13</td>\n",
       "      <td>198</td>\n",
       "      <td>9.25</td>\n",
       "      <td>32.25</td>\n",
       "      <td>NaN</td>\n",
       "      <td>4.42</td>\n",
       "      <td>12.0</td>\n",
       "      <td>NaN</td>\n",
       "      <td>NaN</td>\n",
       "      <td>NaN</td>\n",
       "      <td>NaN</td>\n",
       "      <td>NaN</td>\n",
       "      <td>20.0</td>\n",
       "      <td>1.0</td>\n",
       "    </tr>\n",
       "    <tr>\n",
       "      <td>2</td>\n",
       "      <td>2015</td>\n",
       "      <td>Malcolm Agnew</td>\n",
       "      <td>2015Malcolm Agnew</td>\n",
       "      <td>Southern Illinois</td>\n",
       "      <td>RB</td>\n",
       "      <td>70.00</td>\n",
       "      <td>202</td>\n",
       "      <td>NaN</td>\n",
       "      <td>NaN</td>\n",
       "      <td>NaN</td>\n",
       "      <td>4.59</td>\n",
       "      <td>NaN</td>\n",
       "      <td>NaN</td>\n",
       "      <td>NaN</td>\n",
       "      <td>NaN</td>\n",
       "      <td>NaN</td>\n",
       "      <td>NaN</td>\n",
       "      <td>NaN</td>\n",
       "      <td>NaN</td>\n",
       "    </tr>\n",
       "    <tr>\n",
       "      <td>3</td>\n",
       "      <td>2015</td>\n",
       "      <td>Jay Ajayi</td>\n",
       "      <td>2015Jay Ajayi</td>\n",
       "      <td>Boise State</td>\n",
       "      <td>RB</td>\n",
       "      <td>71.75</td>\n",
       "      <td>221</td>\n",
       "      <td>10.00</td>\n",
       "      <td>32.00</td>\n",
       "      <td>24.0</td>\n",
       "      <td>4.57</td>\n",
       "      <td>19.0</td>\n",
       "      <td>39.0</td>\n",
       "      <td>121.0</td>\n",
       "      <td>4.10</td>\n",
       "      <td>7.10</td>\n",
       "      <td>11.10</td>\n",
       "      <td>149.0</td>\n",
       "      <td>5.0</td>\n",
       "    </tr>\n",
       "    <tr>\n",
       "      <td>4</td>\n",
       "      <td>2015</td>\n",
       "      <td>Brandon Alexander</td>\n",
       "      <td>2015Brandon Alexander</td>\n",
       "      <td>Central Florida</td>\n",
       "      <td>FS</td>\n",
       "      <td>74.00</td>\n",
       "      <td>195</td>\n",
       "      <td>NaN</td>\n",
       "      <td>NaN</td>\n",
       "      <td>NaN</td>\n",
       "      <td>4.59</td>\n",
       "      <td>NaN</td>\n",
       "      <td>NaN</td>\n",
       "      <td>NaN</td>\n",
       "      <td>NaN</td>\n",
       "      <td>NaN</td>\n",
       "      <td>NaN</td>\n",
       "      <td>NaN</td>\n",
       "      <td>NaN</td>\n",
       "    </tr>\n",
       "  </tbody>\n",
       "</table>\n",
       "</div>"
      ],
      "text/plain": [
       "   Year               Name               YearName              College POS  \\\n",
       "0  2015     Ameer Abdullah     2015Ameer Abdullah             Nebraska  RB   \n",
       "1  2015     Nelson Agholor     2015Nelson Agholor  Southern California  WR   \n",
       "2  2015      Malcolm Agnew      2015Malcolm Agnew    Southern Illinois  RB   \n",
       "3  2015          Jay Ajayi          2015Jay Ajayi          Boise State  RB   \n",
       "4  2015  Brandon Alexander  2015Brandon Alexander      Central Florida  FS   \n",
       "\n",
       "   Height (in)  Weight (lbs)  Hand Size (in)  Arm Length (in)  Wonderlic  \\\n",
       "0        68.75           205            8.63            30.00        NaN   \n",
       "1        72.13           198            9.25            32.25        NaN   \n",
       "2        70.00           202             NaN              NaN        NaN   \n",
       "3        71.75           221           10.00            32.00       24.0   \n",
       "4        74.00           195             NaN              NaN        NaN   \n",
       "\n",
       "   40 Yard  Bench Press  Vert Leap (in)  Broad Jump (in)  Shuttle  3Cone  \\\n",
       "0     4.60         24.0            42.5            130.0     3.95   6.79   \n",
       "1     4.42         12.0             NaN              NaN      NaN    NaN   \n",
       "2     4.59          NaN             NaN              NaN      NaN    NaN   \n",
       "3     4.57         19.0            39.0            121.0     4.10   7.10   \n",
       "4     4.59          NaN             NaN              NaN      NaN    NaN   \n",
       "\n",
       "   60Yd Shuttle   Pick  Round  \n",
       "0         11.18   54.0    2.0  \n",
       "1           NaN   20.0    1.0  \n",
       "2           NaN    NaN    NaN  \n",
       "3         11.10  149.0    5.0  \n",
       "4           NaN    NaN    NaN  "
      ]
     },
     "execution_count": 2,
     "metadata": {},
     "output_type": "execute_result"
    }
   ],
   "source": [
    "df.head()"
   ]
  },
  {
   "cell_type": "code",
   "execution_count": 116,
   "metadata": {},
   "outputs": [
    {
     "data": {
      "text/plain": [
       "Index(['Year', 'Name', 'YearName', 'College', 'POS', 'Height (in)',\n",
       "       'Weight (lbs)', 'Hand Size (in)', 'Arm Length (in)', 'Wonderlic',\n",
       "       '40 Yard', 'Bench Press', 'Vert Leap (in)', 'Broad Jump (in)',\n",
       "       'Shuttle', '3Cone', '60Yd Shuttle', 'Pick', 'Round'],\n",
       "      dtype='object')"
      ]
     },
     "execution_count": 116,
     "metadata": {},
     "output_type": "execute_result"
    }
   ],
   "source": [
    "# Let's rename the columns to make our lives easier later\n",
    "df.columns"
   ]
  },
  {
   "cell_type": "code",
   "execution_count": 118,
   "metadata": {},
   "outputs": [],
   "source": [
    "df.columns = ['Year', 'Name', 'YearName', 'College', 'POS', 'Height',\n",
    "       'Weight', 'Hand Size', 'Arm Length', 'Wonderlic',\n",
    "       '40 Yard', 'Bench Press', 'Vert Leap', 'Broad Jump',\n",
    "       'Shuttle', '3Cone', '60Yd Shuttle', 'Pick', 'Round']"
   ]
  },
  {
   "cell_type": "code",
   "execution_count": 119,
   "metadata": {},
   "outputs": [
    {
     "data": {
      "text/html": [
       "<div>\n",
       "<style scoped>\n",
       "    .dataframe tbody tr th:only-of-type {\n",
       "        vertical-align: middle;\n",
       "    }\n",
       "\n",
       "    .dataframe tbody tr th {\n",
       "        vertical-align: top;\n",
       "    }\n",
       "\n",
       "    .dataframe thead th {\n",
       "        text-align: right;\n",
       "    }\n",
       "</style>\n",
       "<table border=\"1\" class=\"dataframe\">\n",
       "  <thead>\n",
       "    <tr style=\"text-align: right;\">\n",
       "      <th></th>\n",
       "      <th>Year</th>\n",
       "      <th>Name</th>\n",
       "      <th>YearName</th>\n",
       "      <th>College</th>\n",
       "      <th>POS</th>\n",
       "      <th>Height</th>\n",
       "      <th>Weight</th>\n",
       "      <th>Hand Size</th>\n",
       "      <th>Arm Length</th>\n",
       "      <th>Wonderlic</th>\n",
       "      <th>40 Yard</th>\n",
       "      <th>Bench Press</th>\n",
       "      <th>Vert Leap</th>\n",
       "      <th>Broad Jump</th>\n",
       "      <th>Shuttle</th>\n",
       "      <th>3Cone</th>\n",
       "      <th>60Yd Shuttle</th>\n",
       "      <th>Pick</th>\n",
       "      <th>Round</th>\n",
       "    </tr>\n",
       "  </thead>\n",
       "  <tbody>\n",
       "    <tr>\n",
       "      <td>0</td>\n",
       "      <td>2015</td>\n",
       "      <td>Ameer Abdullah</td>\n",
       "      <td>2015Ameer Abdullah</td>\n",
       "      <td>Nebraska</td>\n",
       "      <td>RB</td>\n",
       "      <td>68.75</td>\n",
       "      <td>205</td>\n",
       "      <td>8.63</td>\n",
       "      <td>30.00</td>\n",
       "      <td>NaN</td>\n",
       "      <td>4.60</td>\n",
       "      <td>24.0</td>\n",
       "      <td>42.5</td>\n",
       "      <td>130.0</td>\n",
       "      <td>3.95</td>\n",
       "      <td>6.79</td>\n",
       "      <td>11.18</td>\n",
       "      <td>54.0</td>\n",
       "      <td>2.0</td>\n",
       "    </tr>\n",
       "    <tr>\n",
       "      <td>1</td>\n",
       "      <td>2015</td>\n",
       "      <td>Nelson Agholor</td>\n",
       "      <td>2015Nelson Agholor</td>\n",
       "      <td>Southern California</td>\n",
       "      <td>WR</td>\n",
       "      <td>72.13</td>\n",
       "      <td>198</td>\n",
       "      <td>9.25</td>\n",
       "      <td>32.25</td>\n",
       "      <td>NaN</td>\n",
       "      <td>4.42</td>\n",
       "      <td>12.0</td>\n",
       "      <td>NaN</td>\n",
       "      <td>NaN</td>\n",
       "      <td>NaN</td>\n",
       "      <td>NaN</td>\n",
       "      <td>NaN</td>\n",
       "      <td>20.0</td>\n",
       "      <td>1.0</td>\n",
       "    </tr>\n",
       "    <tr>\n",
       "      <td>2</td>\n",
       "      <td>2015</td>\n",
       "      <td>Malcolm Agnew</td>\n",
       "      <td>2015Malcolm Agnew</td>\n",
       "      <td>Southern Illinois</td>\n",
       "      <td>RB</td>\n",
       "      <td>70.00</td>\n",
       "      <td>202</td>\n",
       "      <td>NaN</td>\n",
       "      <td>NaN</td>\n",
       "      <td>NaN</td>\n",
       "      <td>4.59</td>\n",
       "      <td>NaN</td>\n",
       "      <td>NaN</td>\n",
       "      <td>NaN</td>\n",
       "      <td>NaN</td>\n",
       "      <td>NaN</td>\n",
       "      <td>NaN</td>\n",
       "      <td>NaN</td>\n",
       "      <td>NaN</td>\n",
       "    </tr>\n",
       "    <tr>\n",
       "      <td>3</td>\n",
       "      <td>2015</td>\n",
       "      <td>Jay Ajayi</td>\n",
       "      <td>2015Jay Ajayi</td>\n",
       "      <td>Boise State</td>\n",
       "      <td>RB</td>\n",
       "      <td>71.75</td>\n",
       "      <td>221</td>\n",
       "      <td>10.00</td>\n",
       "      <td>32.00</td>\n",
       "      <td>24.0</td>\n",
       "      <td>4.57</td>\n",
       "      <td>19.0</td>\n",
       "      <td>39.0</td>\n",
       "      <td>121.0</td>\n",
       "      <td>4.10</td>\n",
       "      <td>7.10</td>\n",
       "      <td>11.10</td>\n",
       "      <td>149.0</td>\n",
       "      <td>5.0</td>\n",
       "    </tr>\n",
       "    <tr>\n",
       "      <td>4</td>\n",
       "      <td>2015</td>\n",
       "      <td>Brandon Alexander</td>\n",
       "      <td>2015Brandon Alexander</td>\n",
       "      <td>Central Florida</td>\n",
       "      <td>FS</td>\n",
       "      <td>74.00</td>\n",
       "      <td>195</td>\n",
       "      <td>NaN</td>\n",
       "      <td>NaN</td>\n",
       "      <td>NaN</td>\n",
       "      <td>4.59</td>\n",
       "      <td>NaN</td>\n",
       "      <td>NaN</td>\n",
       "      <td>NaN</td>\n",
       "      <td>NaN</td>\n",
       "      <td>NaN</td>\n",
       "      <td>NaN</td>\n",
       "      <td>NaN</td>\n",
       "      <td>NaN</td>\n",
       "    </tr>\n",
       "  </tbody>\n",
       "</table>\n",
       "</div>"
      ],
      "text/plain": [
       "   Year               Name               YearName              College POS  \\\n",
       "0  2015     Ameer Abdullah     2015Ameer Abdullah             Nebraska  RB   \n",
       "1  2015     Nelson Agholor     2015Nelson Agholor  Southern California  WR   \n",
       "2  2015      Malcolm Agnew      2015Malcolm Agnew    Southern Illinois  RB   \n",
       "3  2015          Jay Ajayi          2015Jay Ajayi          Boise State  RB   \n",
       "4  2015  Brandon Alexander  2015Brandon Alexander      Central Florida  FS   \n",
       "\n",
       "   Height  Weight  Hand Size  Arm Length  Wonderlic  40 Yard  Bench Press  \\\n",
       "0   68.75     205       8.63       30.00        NaN     4.60         24.0   \n",
       "1   72.13     198       9.25       32.25        NaN     4.42         12.0   \n",
       "2   70.00     202        NaN         NaN        NaN     4.59          NaN   \n",
       "3   71.75     221      10.00       32.00       24.0     4.57         19.0   \n",
       "4   74.00     195        NaN         NaN        NaN     4.59          NaN   \n",
       "\n",
       "   Vert Leap  Broad Jump  Shuttle  3Cone  60Yd Shuttle   Pick  Round  \n",
       "0       42.5       130.0     3.95   6.79         11.18   54.0    2.0  \n",
       "1        NaN         NaN      NaN    NaN           NaN   20.0    1.0  \n",
       "2        NaN         NaN      NaN    NaN           NaN    NaN    NaN  \n",
       "3       39.0       121.0     4.10   7.10         11.10  149.0    5.0  \n",
       "4        NaN         NaN      NaN    NaN           NaN    NaN    NaN  "
      ]
     },
     "execution_count": 119,
     "metadata": {},
     "output_type": "execute_result"
    }
   ],
   "source": [
    "df.head()"
   ]
  },
  {
   "cell_type": "markdown",
   "metadata": {},
   "source": [
    "# Choose a target"
   ]
  },
  {
   "cell_type": "code",
   "execution_count": 343,
   "metadata": {},
   "outputs": [
    {
     "data": {
      "text/plain": [
       "count    5713.000000\n",
       "mean        4.342202\n",
       "std         2.484405\n",
       "min         1.000000\n",
       "25%         2.000000\n",
       "50%         4.000000\n",
       "75%         6.000000\n",
       "max        12.000000\n",
       "Name: Round, dtype: float64"
      ]
     },
     "execution_count": 343,
     "metadata": {},
     "output_type": "execute_result"
    }
   ],
   "source": [
    "# Our target will be 'Round'. Given someone's ht, wt, combine stats, and college, can we predict where in the draft they will be picked?\n",
    "df['Round'].describe()"
   ]
  },
  {
   "cell_type": "code",
   "execution_count": 342,
   "metadata": {},
   "outputs": [
    {
     "data": {
      "text/plain": [
       "3.0     815\n",
       "2.0     801\n",
       "4.0     798\n",
       "1.0     762\n",
       "5.0     748\n",
       "6.0     675\n",
       "7.0     672\n",
       "8.0     121\n",
       "9.0      87\n",
       "10.0     85\n",
       "11.0     77\n",
       "12.0     72\n",
       "Name: Round, dtype: int64"
      ]
     },
     "execution_count": 342,
     "metadata": {},
     "output_type": "execute_result"
    }
   ],
   "source": [
    "df['Round'].value_counts()"
   ]
  },
  {
   "cell_type": "markdown",
   "metadata": {},
   "source": [
    "# Train, test, val split"
   ]
  },
  {
   "cell_type": "code",
   "execution_count": 365,
   "metadata": {},
   "outputs": [
    {
     "data": {
      "text/plain": [
       "((8571, 19), (741, 19), (9312, 19))"
      ]
     },
     "execution_count": 365,
     "metadata": {},
     "output_type": "execute_result"
    }
   ],
   "source": [
    "# Let's use the 2015 year as our test data\n",
    "# and random split the rest into train/val\n",
    "split = 2015\n",
    "train = df[df['Year'] < split]\n",
    "test = df[df['Year'] == split]\n",
    "train.shape, test.shape, df.shape"
   ]
  },
  {
   "cell_type": "code",
   "execution_count": 366,
   "metadata": {},
   "outputs": [
    {
     "data": {
      "text/plain": [
       "((6856, 19), (1715, 19), (8571, 19))"
      ]
     },
     "execution_count": 366,
     "metadata": {},
     "output_type": "execute_result"
    }
   ],
   "source": [
    "from sklearn.model_selection import train_test_split\n",
    "\n",
    "my_train, my_val = train_test_split(train, random_state=42, test_size=.2)\n",
    "my_train.shape, my_val.shape, train.shape"
   ]
  },
  {
   "cell_type": "code",
   "execution_count": 367,
   "metadata": {},
   "outputs": [],
   "source": [
    "target = 'Round'\n",
    "exclude = ['Year', 'Name', 'YearName', 'Pick', 'Round']"
   ]
  },
  {
   "cell_type": "code",
   "execution_count": 368,
   "metadata": {},
   "outputs": [
    {
     "data": {
      "text/plain": [
       "((6856, 14), (6856,), (1715, 14), (1715,))"
      ]
     },
     "execution_count": 368,
     "metadata": {},
     "output_type": "execute_result"
    }
   ],
   "source": [
    "X_train = my_train.drop(exclude, axis=1)\n",
    "y_train = my_train[target]\n",
    "X_val = my_val.drop(exclude, axis=1)\n",
    "y_val = my_val[target]\n",
    "X_train.shape, y_train.shape, X_val.shape, y_val.shape"
   ]
  },
  {
   "cell_type": "markdown",
   "metadata": {},
   "source": [
    "# Determine problem type and choose evaluation metric"
   ]
  },
  {
   "cell_type": "markdown",
   "metadata": {},
   "source": [
    "### This will be a regression problem."
   ]
  },
  {
   "cell_type": "code",
   "execution_count": 333,
   "metadata": {},
   "outputs": [],
   "source": [
    "# Since there are multiple modes, we will use the mean as the baseline\n",
    "x = df.copy()\n",
    "baseline = x['Round'].mean().astype(int)\n",
    "x['base_pred'] = [baseline] * len(x['Round'])"
   ]
  },
  {
   "cell_type": "code",
   "execution_count": 334,
   "metadata": {},
   "outputs": [
    {
     "data": {
      "text/html": [
       "<div>\n",
       "<style scoped>\n",
       "    .dataframe tbody tr th:only-of-type {\n",
       "        vertical-align: middle;\n",
       "    }\n",
       "\n",
       "    .dataframe tbody tr th {\n",
       "        vertical-align: top;\n",
       "    }\n",
       "\n",
       "    .dataframe thead th {\n",
       "        text-align: right;\n",
       "    }\n",
       "</style>\n",
       "<table border=\"1\" class=\"dataframe\">\n",
       "  <thead>\n",
       "    <tr style=\"text-align: right;\">\n",
       "      <th></th>\n",
       "      <th>Year</th>\n",
       "      <th>Name</th>\n",
       "      <th>YearName</th>\n",
       "      <th>College</th>\n",
       "      <th>POS</th>\n",
       "      <th>Height</th>\n",
       "      <th>Weight</th>\n",
       "      <th>Hand Size</th>\n",
       "      <th>Arm Length</th>\n",
       "      <th>Wonderlic</th>\n",
       "      <th>40 Yard</th>\n",
       "      <th>Bench Press</th>\n",
       "      <th>Vert Leap</th>\n",
       "      <th>Broad Jump</th>\n",
       "      <th>Shuttle</th>\n",
       "      <th>3Cone</th>\n",
       "      <th>60Yd Shuttle</th>\n",
       "      <th>Pick</th>\n",
       "      <th>Round</th>\n",
       "      <th>base_pred</th>\n",
       "    </tr>\n",
       "  </thead>\n",
       "  <tbody>\n",
       "    <tr>\n",
       "      <td>0</td>\n",
       "      <td>2015</td>\n",
       "      <td>Ameer Abdullah</td>\n",
       "      <td>2015Ameer Abdullah</td>\n",
       "      <td>Nebraska</td>\n",
       "      <td>RB</td>\n",
       "      <td>68.75</td>\n",
       "      <td>205</td>\n",
       "      <td>8.63</td>\n",
       "      <td>30.00</td>\n",
       "      <td>NaN</td>\n",
       "      <td>4.60</td>\n",
       "      <td>24.0</td>\n",
       "      <td>42.5</td>\n",
       "      <td>130.0</td>\n",
       "      <td>3.95</td>\n",
       "      <td>6.79</td>\n",
       "      <td>11.18</td>\n",
       "      <td>54.0</td>\n",
       "      <td>2.0</td>\n",
       "      <td>4</td>\n",
       "    </tr>\n",
       "    <tr>\n",
       "      <td>1</td>\n",
       "      <td>2015</td>\n",
       "      <td>Nelson Agholor</td>\n",
       "      <td>2015Nelson Agholor</td>\n",
       "      <td>Southern California</td>\n",
       "      <td>WR</td>\n",
       "      <td>72.13</td>\n",
       "      <td>198</td>\n",
       "      <td>9.25</td>\n",
       "      <td>32.25</td>\n",
       "      <td>NaN</td>\n",
       "      <td>4.42</td>\n",
       "      <td>12.0</td>\n",
       "      <td>NaN</td>\n",
       "      <td>NaN</td>\n",
       "      <td>NaN</td>\n",
       "      <td>NaN</td>\n",
       "      <td>NaN</td>\n",
       "      <td>20.0</td>\n",
       "      <td>1.0</td>\n",
       "      <td>4</td>\n",
       "    </tr>\n",
       "    <tr>\n",
       "      <td>2</td>\n",
       "      <td>2015</td>\n",
       "      <td>Malcolm Agnew</td>\n",
       "      <td>2015Malcolm Agnew</td>\n",
       "      <td>Southern Illinois</td>\n",
       "      <td>RB</td>\n",
       "      <td>70.00</td>\n",
       "      <td>202</td>\n",
       "      <td>NaN</td>\n",
       "      <td>NaN</td>\n",
       "      <td>NaN</td>\n",
       "      <td>4.59</td>\n",
       "      <td>NaN</td>\n",
       "      <td>NaN</td>\n",
       "      <td>NaN</td>\n",
       "      <td>NaN</td>\n",
       "      <td>NaN</td>\n",
       "      <td>NaN</td>\n",
       "      <td>NaN</td>\n",
       "      <td>NaN</td>\n",
       "      <td>4</td>\n",
       "    </tr>\n",
       "    <tr>\n",
       "      <td>3</td>\n",
       "      <td>2015</td>\n",
       "      <td>Jay Ajayi</td>\n",
       "      <td>2015Jay Ajayi</td>\n",
       "      <td>Boise State</td>\n",
       "      <td>RB</td>\n",
       "      <td>71.75</td>\n",
       "      <td>221</td>\n",
       "      <td>10.00</td>\n",
       "      <td>32.00</td>\n",
       "      <td>24.0</td>\n",
       "      <td>4.57</td>\n",
       "      <td>19.0</td>\n",
       "      <td>39.0</td>\n",
       "      <td>121.0</td>\n",
       "      <td>4.10</td>\n",
       "      <td>7.10</td>\n",
       "      <td>11.10</td>\n",
       "      <td>149.0</td>\n",
       "      <td>5.0</td>\n",
       "      <td>4</td>\n",
       "    </tr>\n",
       "    <tr>\n",
       "      <td>4</td>\n",
       "      <td>2015</td>\n",
       "      <td>Brandon Alexander</td>\n",
       "      <td>2015Brandon Alexander</td>\n",
       "      <td>Central Florida</td>\n",
       "      <td>FS</td>\n",
       "      <td>74.00</td>\n",
       "      <td>195</td>\n",
       "      <td>NaN</td>\n",
       "      <td>NaN</td>\n",
       "      <td>NaN</td>\n",
       "      <td>4.59</td>\n",
       "      <td>NaN</td>\n",
       "      <td>NaN</td>\n",
       "      <td>NaN</td>\n",
       "      <td>NaN</td>\n",
       "      <td>NaN</td>\n",
       "      <td>NaN</td>\n",
       "      <td>NaN</td>\n",
       "      <td>NaN</td>\n",
       "      <td>4</td>\n",
       "    </tr>\n",
       "  </tbody>\n",
       "</table>\n",
       "</div>"
      ],
      "text/plain": [
       "   Year               Name               YearName              College POS  \\\n",
       "0  2015     Ameer Abdullah     2015Ameer Abdullah             Nebraska  RB   \n",
       "1  2015     Nelson Agholor     2015Nelson Agholor  Southern California  WR   \n",
       "2  2015      Malcolm Agnew      2015Malcolm Agnew    Southern Illinois  RB   \n",
       "3  2015          Jay Ajayi          2015Jay Ajayi          Boise State  RB   \n",
       "4  2015  Brandon Alexander  2015Brandon Alexander      Central Florida  FS   \n",
       "\n",
       "   Height  Weight  Hand Size  Arm Length  Wonderlic  40 Yard  Bench Press  \\\n",
       "0   68.75     205       8.63       30.00        NaN     4.60         24.0   \n",
       "1   72.13     198       9.25       32.25        NaN     4.42         12.0   \n",
       "2   70.00     202        NaN         NaN        NaN     4.59          NaN   \n",
       "3   71.75     221      10.00       32.00       24.0     4.57         19.0   \n",
       "4   74.00     195        NaN         NaN        NaN     4.59          NaN   \n",
       "\n",
       "   Vert Leap  Broad Jump  Shuttle  3Cone  60Yd Shuttle   Pick  Round  \\\n",
       "0       42.5       130.0     3.95   6.79         11.18   54.0    2.0   \n",
       "1        NaN         NaN      NaN    NaN           NaN   20.0    1.0   \n",
       "2        NaN         NaN      NaN    NaN           NaN    NaN    NaN   \n",
       "3       39.0       121.0     4.10   7.10         11.10  149.0    5.0   \n",
       "4        NaN         NaN      NaN    NaN           NaN    NaN    NaN   \n",
       "\n",
       "   base_pred  \n",
       "0          4  \n",
       "1          4  \n",
       "2          4  \n",
       "3          4  \n",
       "4          4  "
      ]
     },
     "execution_count": 334,
     "metadata": {},
     "output_type": "execute_result"
    }
   ],
   "source": [
    "x.head()"
   ]
  },
  {
   "cell_type": "code",
   "execution_count": 329,
   "metadata": {
    "collapsed": true,
    "jupyter": {
     "outputs_hidden": true
    }
   },
   "outputs": [
    {
     "ename": "ValueError",
     "evalue": "Input contains NaN, infinity or a value too large for dtype('float64').",
     "output_type": "error",
     "traceback": [
      "\u001b[1;31m---------------------------------------------------------------------------\u001b[0m",
      "\u001b[1;31mValueError\u001b[0m                                Traceback (most recent call last)",
      "\u001b[1;32m<ipython-input-329-b5d489e3a604>\u001b[0m in \u001b[0;36m<module>\u001b[1;34m\u001b[0m\n\u001b[0;32m      2\u001b[0m \u001b[0mbase_pred\u001b[0m \u001b[1;33m=\u001b[0m \u001b[0mx\u001b[0m\u001b[1;33m[\u001b[0m\u001b[1;34m'base_pred'\u001b[0m\u001b[1;33m]\u001b[0m\u001b[1;33m\u001b[0m\u001b[1;33m\u001b[0m\u001b[0m\n\u001b[0;32m      3\u001b[0m \u001b[0my_true\u001b[0m \u001b[1;33m=\u001b[0m \u001b[0mx\u001b[0m\u001b[1;33m[\u001b[0m\u001b[1;34m'Round'\u001b[0m\u001b[1;33m]\u001b[0m\u001b[1;33m\u001b[0m\u001b[1;33m\u001b[0m\u001b[0m\n\u001b[1;32m----> 4\u001b[1;33m \u001b[0maccuracy_score\u001b[0m\u001b[1;33m(\u001b[0m\u001b[0mbase_pred\u001b[0m\u001b[1;33m,\u001b[0m \u001b[0my_true\u001b[0m\u001b[1;33m)\u001b[0m\u001b[1;33m\u001b[0m\u001b[1;33m\u001b[0m\u001b[0m\n\u001b[0m",
      "\u001b[1;32m~\\Anaconda3\\envs\\unit2\\lib\\site-packages\\sklearn\\metrics\\classification.py\u001b[0m in \u001b[0;36maccuracy_score\u001b[1;34m(y_true, y_pred, normalize, sample_weight)\u001b[0m\n\u001b[0;32m    174\u001b[0m \u001b[1;33m\u001b[0m\u001b[0m\n\u001b[0;32m    175\u001b[0m     \u001b[1;31m# Compute accuracy for each possible representation\u001b[0m\u001b[1;33m\u001b[0m\u001b[1;33m\u001b[0m\u001b[1;33m\u001b[0m\u001b[0m\n\u001b[1;32m--> 176\u001b[1;33m     \u001b[0my_type\u001b[0m\u001b[1;33m,\u001b[0m \u001b[0my_true\u001b[0m\u001b[1;33m,\u001b[0m \u001b[0my_pred\u001b[0m \u001b[1;33m=\u001b[0m \u001b[0m_check_targets\u001b[0m\u001b[1;33m(\u001b[0m\u001b[0my_true\u001b[0m\u001b[1;33m,\u001b[0m \u001b[0my_pred\u001b[0m\u001b[1;33m)\u001b[0m\u001b[1;33m\u001b[0m\u001b[1;33m\u001b[0m\u001b[0m\n\u001b[0m\u001b[0;32m    177\u001b[0m     \u001b[0mcheck_consistent_length\u001b[0m\u001b[1;33m(\u001b[0m\u001b[0my_true\u001b[0m\u001b[1;33m,\u001b[0m \u001b[0my_pred\u001b[0m\u001b[1;33m,\u001b[0m \u001b[0msample_weight\u001b[0m\u001b[1;33m)\u001b[0m\u001b[1;33m\u001b[0m\u001b[1;33m\u001b[0m\u001b[0m\n\u001b[0;32m    178\u001b[0m     \u001b[1;32mif\u001b[0m \u001b[0my_type\u001b[0m\u001b[1;33m.\u001b[0m\u001b[0mstartswith\u001b[0m\u001b[1;33m(\u001b[0m\u001b[1;34m'multilabel'\u001b[0m\u001b[1;33m)\u001b[0m\u001b[1;33m:\u001b[0m\u001b[1;33m\u001b[0m\u001b[1;33m\u001b[0m\u001b[0m\n",
      "\u001b[1;32m~\\Anaconda3\\envs\\unit2\\lib\\site-packages\\sklearn\\metrics\\classification.py\u001b[0m in \u001b[0;36m_check_targets\u001b[1;34m(y_true, y_pred)\u001b[0m\n\u001b[0;32m     71\u001b[0m     \u001b[0mcheck_consistent_length\u001b[0m\u001b[1;33m(\u001b[0m\u001b[0my_true\u001b[0m\u001b[1;33m,\u001b[0m \u001b[0my_pred\u001b[0m\u001b[1;33m)\u001b[0m\u001b[1;33m\u001b[0m\u001b[1;33m\u001b[0m\u001b[0m\n\u001b[0;32m     72\u001b[0m     \u001b[0mtype_true\u001b[0m \u001b[1;33m=\u001b[0m \u001b[0mtype_of_target\u001b[0m\u001b[1;33m(\u001b[0m\u001b[0my_true\u001b[0m\u001b[1;33m)\u001b[0m\u001b[1;33m\u001b[0m\u001b[1;33m\u001b[0m\u001b[0m\n\u001b[1;32m---> 73\u001b[1;33m     \u001b[0mtype_pred\u001b[0m \u001b[1;33m=\u001b[0m \u001b[0mtype_of_target\u001b[0m\u001b[1;33m(\u001b[0m\u001b[0my_pred\u001b[0m\u001b[1;33m)\u001b[0m\u001b[1;33m\u001b[0m\u001b[1;33m\u001b[0m\u001b[0m\n\u001b[0m\u001b[0;32m     74\u001b[0m \u001b[1;33m\u001b[0m\u001b[0m\n\u001b[0;32m     75\u001b[0m     \u001b[0my_type\u001b[0m \u001b[1;33m=\u001b[0m \u001b[1;33m{\u001b[0m\u001b[0mtype_true\u001b[0m\u001b[1;33m,\u001b[0m \u001b[0mtype_pred\u001b[0m\u001b[1;33m}\u001b[0m\u001b[1;33m\u001b[0m\u001b[1;33m\u001b[0m\u001b[0m\n",
      "\u001b[1;32m~\\Anaconda3\\envs\\unit2\\lib\\site-packages\\sklearn\\utils\\multiclass.py\u001b[0m in \u001b[0;36mtype_of_target\u001b[1;34m(y)\u001b[0m\n\u001b[0;32m    282\u001b[0m     \u001b[1;32mif\u001b[0m \u001b[0my\u001b[0m\u001b[1;33m.\u001b[0m\u001b[0mdtype\u001b[0m\u001b[1;33m.\u001b[0m\u001b[0mkind\u001b[0m \u001b[1;33m==\u001b[0m \u001b[1;34m'f'\u001b[0m \u001b[1;32mand\u001b[0m \u001b[0mnp\u001b[0m\u001b[1;33m.\u001b[0m\u001b[0many\u001b[0m\u001b[1;33m(\u001b[0m\u001b[0my\u001b[0m \u001b[1;33m!=\u001b[0m \u001b[0my\u001b[0m\u001b[1;33m.\u001b[0m\u001b[0mastype\u001b[0m\u001b[1;33m(\u001b[0m\u001b[0mint\u001b[0m\u001b[1;33m)\u001b[0m\u001b[1;33m)\u001b[0m\u001b[1;33m:\u001b[0m\u001b[1;33m\u001b[0m\u001b[1;33m\u001b[0m\u001b[0m\n\u001b[0;32m    283\u001b[0m         \u001b[1;31m# [.1, .2, 3] or [[.1, .2, 3]] or [[1., .2]] and not [1., 2., 3.]\u001b[0m\u001b[1;33m\u001b[0m\u001b[1;33m\u001b[0m\u001b[1;33m\u001b[0m\u001b[0m\n\u001b[1;32m--> 284\u001b[1;33m         \u001b[0m_assert_all_finite\u001b[0m\u001b[1;33m(\u001b[0m\u001b[0my\u001b[0m\u001b[1;33m)\u001b[0m\u001b[1;33m\u001b[0m\u001b[1;33m\u001b[0m\u001b[0m\n\u001b[0m\u001b[0;32m    285\u001b[0m         \u001b[1;32mreturn\u001b[0m \u001b[1;34m'continuous'\u001b[0m \u001b[1;33m+\u001b[0m \u001b[0msuffix\u001b[0m\u001b[1;33m\u001b[0m\u001b[1;33m\u001b[0m\u001b[0m\n\u001b[0;32m    286\u001b[0m \u001b[1;33m\u001b[0m\u001b[0m\n",
      "\u001b[1;32m~\\Anaconda3\\envs\\unit2\\lib\\site-packages\\sklearn\\utils\\validation.py\u001b[0m in \u001b[0;36m_assert_all_finite\u001b[1;34m(X, allow_nan)\u001b[0m\n\u001b[0;32m     54\u001b[0m                 not allow_nan and not np.isfinite(X).all()):\n\u001b[0;32m     55\u001b[0m             \u001b[0mtype_err\u001b[0m \u001b[1;33m=\u001b[0m \u001b[1;34m'infinity'\u001b[0m \u001b[1;32mif\u001b[0m \u001b[0mallow_nan\u001b[0m \u001b[1;32melse\u001b[0m \u001b[1;34m'NaN, infinity'\u001b[0m\u001b[1;33m\u001b[0m\u001b[1;33m\u001b[0m\u001b[0m\n\u001b[1;32m---> 56\u001b[1;33m             \u001b[1;32mraise\u001b[0m \u001b[0mValueError\u001b[0m\u001b[1;33m(\u001b[0m\u001b[0mmsg_err\u001b[0m\u001b[1;33m.\u001b[0m\u001b[0mformat\u001b[0m\u001b[1;33m(\u001b[0m\u001b[0mtype_err\u001b[0m\u001b[1;33m,\u001b[0m \u001b[0mX\u001b[0m\u001b[1;33m.\u001b[0m\u001b[0mdtype\u001b[0m\u001b[1;33m)\u001b[0m\u001b[1;33m)\u001b[0m\u001b[1;33m\u001b[0m\u001b[1;33m\u001b[0m\u001b[0m\n\u001b[0m\u001b[0;32m     57\u001b[0m     \u001b[1;31m# for object dtype data, we only check for NaNs (GH-13254)\u001b[0m\u001b[1;33m\u001b[0m\u001b[1;33m\u001b[0m\u001b[1;33m\u001b[0m\u001b[0m\n\u001b[0;32m     58\u001b[0m     \u001b[1;32melif\u001b[0m \u001b[0mX\u001b[0m\u001b[1;33m.\u001b[0m\u001b[0mdtype\u001b[0m \u001b[1;33m==\u001b[0m \u001b[0mnp\u001b[0m\u001b[1;33m.\u001b[0m\u001b[0mdtype\u001b[0m\u001b[1;33m(\u001b[0m\u001b[1;34m'object'\u001b[0m\u001b[1;33m)\u001b[0m \u001b[1;32mand\u001b[0m \u001b[1;32mnot\u001b[0m \u001b[0mallow_nan\u001b[0m\u001b[1;33m:\u001b[0m\u001b[1;33m\u001b[0m\u001b[1;33m\u001b[0m\u001b[0m\n",
      "\u001b[1;31mValueError\u001b[0m: Input contains NaN, infinity or a value too large for dtype('float64')."
     ]
    }
   ],
   "source": [
    "from sklearn.metrics import accuracy_score\n",
    "base_pred = x['base_pred']\n",
    "y_true = x['Round']\n",
    "accuracy_score(base_pred, y_true)"
   ]
  },
  {
   "cell_type": "code",
   "execution_count": 335,
   "metadata": {},
   "outputs": [],
   "source": [
    "# We need to deal with NaN's first\n",
    "# Pick goes up to 336. Since a higher pick is a worse outcome, we will replace the NaNs with HIGH values\n",
    "x['Round'] = x['Round'].fillna(20)"
   ]
  },
  {
   "cell_type": "code",
   "execution_count": 336,
   "metadata": {},
   "outputs": [
    {
     "data": {
      "text/plain": [
       "count    9312.000000\n",
       "mean       10.393793\n",
       "std         7.869280\n",
       "min         1.000000\n",
       "25%         3.000000\n",
       "50%         7.000000\n",
       "75%        20.000000\n",
       "max        20.000000\n",
       "Name: Round, dtype: float64"
      ]
     },
     "execution_count": 336,
     "metadata": {},
     "output_type": "execute_result"
    }
   ],
   "source": [
    "x['Round'].describe()"
   ]
  },
  {
   "cell_type": "code",
   "execution_count": 337,
   "metadata": {},
   "outputs": [],
   "source": [
    "# We now see that our mode is overwhelmingly undrafted! (20)\n",
    "baseline = x['Round'].mode()[0].astype(int)\n",
    "x['base_pred'] = [baseline] * len(x['Round'])\n",
    "base_pred = x['base_pred']"
   ]
  },
  {
   "cell_type": "code",
   "execution_count": 338,
   "metadata": {},
   "outputs": [
    {
     "data": {
      "text/html": [
       "<div>\n",
       "<style scoped>\n",
       "    .dataframe tbody tr th:only-of-type {\n",
       "        vertical-align: middle;\n",
       "    }\n",
       "\n",
       "    .dataframe tbody tr th {\n",
       "        vertical-align: top;\n",
       "    }\n",
       "\n",
       "    .dataframe thead th {\n",
       "        text-align: right;\n",
       "    }\n",
       "</style>\n",
       "<table border=\"1\" class=\"dataframe\">\n",
       "  <thead>\n",
       "    <tr style=\"text-align: right;\">\n",
       "      <th></th>\n",
       "      <th>Year</th>\n",
       "      <th>Name</th>\n",
       "      <th>YearName</th>\n",
       "      <th>College</th>\n",
       "      <th>POS</th>\n",
       "      <th>Height</th>\n",
       "      <th>Weight</th>\n",
       "      <th>Hand Size</th>\n",
       "      <th>Arm Length</th>\n",
       "      <th>Wonderlic</th>\n",
       "      <th>40 Yard</th>\n",
       "      <th>Bench Press</th>\n",
       "      <th>Vert Leap</th>\n",
       "      <th>Broad Jump</th>\n",
       "      <th>Shuttle</th>\n",
       "      <th>3Cone</th>\n",
       "      <th>60Yd Shuttle</th>\n",
       "      <th>Pick</th>\n",
       "      <th>Round</th>\n",
       "      <th>base_pred</th>\n",
       "    </tr>\n",
       "  </thead>\n",
       "  <tbody>\n",
       "    <tr>\n",
       "      <td>0</td>\n",
       "      <td>2015</td>\n",
       "      <td>Ameer Abdullah</td>\n",
       "      <td>2015Ameer Abdullah</td>\n",
       "      <td>Nebraska</td>\n",
       "      <td>RB</td>\n",
       "      <td>68.75</td>\n",
       "      <td>205</td>\n",
       "      <td>8.63</td>\n",
       "      <td>30.00</td>\n",
       "      <td>NaN</td>\n",
       "      <td>4.60</td>\n",
       "      <td>24.0</td>\n",
       "      <td>42.5</td>\n",
       "      <td>130.0</td>\n",
       "      <td>3.95</td>\n",
       "      <td>6.79</td>\n",
       "      <td>11.18</td>\n",
       "      <td>54.0</td>\n",
       "      <td>2.0</td>\n",
       "      <td>20</td>\n",
       "    </tr>\n",
       "    <tr>\n",
       "      <td>1</td>\n",
       "      <td>2015</td>\n",
       "      <td>Nelson Agholor</td>\n",
       "      <td>2015Nelson Agholor</td>\n",
       "      <td>Southern California</td>\n",
       "      <td>WR</td>\n",
       "      <td>72.13</td>\n",
       "      <td>198</td>\n",
       "      <td>9.25</td>\n",
       "      <td>32.25</td>\n",
       "      <td>NaN</td>\n",
       "      <td>4.42</td>\n",
       "      <td>12.0</td>\n",
       "      <td>NaN</td>\n",
       "      <td>NaN</td>\n",
       "      <td>NaN</td>\n",
       "      <td>NaN</td>\n",
       "      <td>NaN</td>\n",
       "      <td>20.0</td>\n",
       "      <td>1.0</td>\n",
       "      <td>20</td>\n",
       "    </tr>\n",
       "    <tr>\n",
       "      <td>2</td>\n",
       "      <td>2015</td>\n",
       "      <td>Malcolm Agnew</td>\n",
       "      <td>2015Malcolm Agnew</td>\n",
       "      <td>Southern Illinois</td>\n",
       "      <td>RB</td>\n",
       "      <td>70.00</td>\n",
       "      <td>202</td>\n",
       "      <td>NaN</td>\n",
       "      <td>NaN</td>\n",
       "      <td>NaN</td>\n",
       "      <td>4.59</td>\n",
       "      <td>NaN</td>\n",
       "      <td>NaN</td>\n",
       "      <td>NaN</td>\n",
       "      <td>NaN</td>\n",
       "      <td>NaN</td>\n",
       "      <td>NaN</td>\n",
       "      <td>NaN</td>\n",
       "      <td>20.0</td>\n",
       "      <td>20</td>\n",
       "    </tr>\n",
       "    <tr>\n",
       "      <td>3</td>\n",
       "      <td>2015</td>\n",
       "      <td>Jay Ajayi</td>\n",
       "      <td>2015Jay Ajayi</td>\n",
       "      <td>Boise State</td>\n",
       "      <td>RB</td>\n",
       "      <td>71.75</td>\n",
       "      <td>221</td>\n",
       "      <td>10.00</td>\n",
       "      <td>32.00</td>\n",
       "      <td>24.0</td>\n",
       "      <td>4.57</td>\n",
       "      <td>19.0</td>\n",
       "      <td>39.0</td>\n",
       "      <td>121.0</td>\n",
       "      <td>4.10</td>\n",
       "      <td>7.10</td>\n",
       "      <td>11.10</td>\n",
       "      <td>149.0</td>\n",
       "      <td>5.0</td>\n",
       "      <td>20</td>\n",
       "    </tr>\n",
       "    <tr>\n",
       "      <td>4</td>\n",
       "      <td>2015</td>\n",
       "      <td>Brandon Alexander</td>\n",
       "      <td>2015Brandon Alexander</td>\n",
       "      <td>Central Florida</td>\n",
       "      <td>FS</td>\n",
       "      <td>74.00</td>\n",
       "      <td>195</td>\n",
       "      <td>NaN</td>\n",
       "      <td>NaN</td>\n",
       "      <td>NaN</td>\n",
       "      <td>4.59</td>\n",
       "      <td>NaN</td>\n",
       "      <td>NaN</td>\n",
       "      <td>NaN</td>\n",
       "      <td>NaN</td>\n",
       "      <td>NaN</td>\n",
       "      <td>NaN</td>\n",
       "      <td>NaN</td>\n",
       "      <td>20.0</td>\n",
       "      <td>20</td>\n",
       "    </tr>\n",
       "  </tbody>\n",
       "</table>\n",
       "</div>"
      ],
      "text/plain": [
       "   Year               Name               YearName              College POS  \\\n",
       "0  2015     Ameer Abdullah     2015Ameer Abdullah             Nebraska  RB   \n",
       "1  2015     Nelson Agholor     2015Nelson Agholor  Southern California  WR   \n",
       "2  2015      Malcolm Agnew      2015Malcolm Agnew    Southern Illinois  RB   \n",
       "3  2015          Jay Ajayi          2015Jay Ajayi          Boise State  RB   \n",
       "4  2015  Brandon Alexander  2015Brandon Alexander      Central Florida  FS   \n",
       "\n",
       "   Height  Weight  Hand Size  Arm Length  Wonderlic  40 Yard  Bench Press  \\\n",
       "0   68.75     205       8.63       30.00        NaN     4.60         24.0   \n",
       "1   72.13     198       9.25       32.25        NaN     4.42         12.0   \n",
       "2   70.00     202        NaN         NaN        NaN     4.59          NaN   \n",
       "3   71.75     221      10.00       32.00       24.0     4.57         19.0   \n",
       "4   74.00     195        NaN         NaN        NaN     4.59          NaN   \n",
       "\n",
       "   Vert Leap  Broad Jump  Shuttle  3Cone  60Yd Shuttle   Pick  Round  \\\n",
       "0       42.5       130.0     3.95   6.79         11.18   54.0    2.0   \n",
       "1        NaN         NaN      NaN    NaN           NaN   20.0    1.0   \n",
       "2        NaN         NaN      NaN    NaN           NaN    NaN   20.0   \n",
       "3       39.0       121.0     4.10   7.10         11.10  149.0    5.0   \n",
       "4        NaN         NaN      NaN    NaN           NaN    NaN   20.0   \n",
       "\n",
       "   base_pred  \n",
       "0         20  \n",
       "1         20  \n",
       "2         20  \n",
       "3         20  \n",
       "4         20  "
      ]
     },
     "execution_count": 338,
     "metadata": {},
     "output_type": "execute_result"
    }
   ],
   "source": [
    "x.head()"
   ]
  },
  {
   "cell_type": "code",
   "execution_count": 339,
   "metadata": {},
   "outputs": [
    {
     "data": {
      "text/plain": [
       "0.3864905498281787"
      ]
     },
     "execution_count": 339,
     "metadata": {},
     "output_type": "execute_result"
    }
   ],
   "source": [
    "accuracy_score(y_true, base_pred)"
   ]
  },
  {
   "cell_type": "code",
   "execution_count": 341,
   "metadata": {},
   "outputs": [
    {
     "data": {
      "image/png": "[encoded data removed]",
      "text/plain": [
       "<Figure size 432x288 with 1 Axes>"
      ]
     },
     "metadata": {
      "needs_background": "light"
     },
     "output_type": "display_data"
    }
   ],
   "source": [
    "import seaborn as sns\n",
    "sns.distplot(x['Round']);"
   ]
  },
  {
   "cell_type": "markdown",
   "metadata": {},
   "source": [
    "# Explore and clean data"
   ]
  },
  {
   "cell_type": "code",
   "execution_count": 211,
   "metadata": {},
   "outputs": [],
   "source": [
    "# First we will make a copy of df to work with, and later create a function to do everything we explore here\n",
    "x = df.copy()"
   ]
  },
  {
   "cell_type": "code",
   "execution_count": 212,
   "metadata": {},
   "outputs": [
    {
     "data": {
      "text/html": [
       "<div>\n",
       "<style scoped>\n",
       "    .dataframe tbody tr th:only-of-type {\n",
       "        vertical-align: middle;\n",
       "    }\n",
       "\n",
       "    .dataframe tbody tr th {\n",
       "        vertical-align: top;\n",
       "    }\n",
       "\n",
       "    .dataframe thead th {\n",
       "        text-align: right;\n",
       "    }\n",
       "</style>\n",
       "<table border=\"1\" class=\"dataframe\">\n",
       "  <thead>\n",
       "    <tr style=\"text-align: right;\">\n",
       "      <th></th>\n",
       "      <th>Year</th>\n",
       "      <th>Name</th>\n",
       "      <th>YearName</th>\n",
       "      <th>College</th>\n",
       "      <th>POS</th>\n",
       "      <th>Height</th>\n",
       "      <th>Weight</th>\n",
       "      <th>Hand Size</th>\n",
       "      <th>Arm Length</th>\n",
       "      <th>Wonderlic</th>\n",
       "      <th>40 Yard</th>\n",
       "      <th>Bench Press</th>\n",
       "      <th>Vert Leap</th>\n",
       "      <th>Broad Jump</th>\n",
       "      <th>Shuttle</th>\n",
       "      <th>3Cone</th>\n",
       "      <th>60Yd Shuttle</th>\n",
       "      <th>Pick</th>\n",
       "      <th>Round</th>\n",
       "    </tr>\n",
       "  </thead>\n",
       "  <tbody>\n",
       "    <tr>\n",
       "      <td>0</td>\n",
       "      <td>2015</td>\n",
       "      <td>Ameer Abdullah</td>\n",
       "      <td>2015Ameer Abdullah</td>\n",
       "      <td>Nebraska</td>\n",
       "      <td>RB</td>\n",
       "      <td>68.75</td>\n",
       "      <td>205</td>\n",
       "      <td>8.63</td>\n",
       "      <td>30.00</td>\n",
       "      <td>NaN</td>\n",
       "      <td>4.60</td>\n",
       "      <td>24.0</td>\n",
       "      <td>42.5</td>\n",
       "      <td>130.0</td>\n",
       "      <td>3.95</td>\n",
       "      <td>6.79</td>\n",
       "      <td>11.18</td>\n",
       "      <td>54.0</td>\n",
       "      <td>2.0</td>\n",
       "    </tr>\n",
       "    <tr>\n",
       "      <td>1</td>\n",
       "      <td>2015</td>\n",
       "      <td>Nelson Agholor</td>\n",
       "      <td>2015Nelson Agholor</td>\n",
       "      <td>Southern California</td>\n",
       "      <td>WR</td>\n",
       "      <td>72.13</td>\n",
       "      <td>198</td>\n",
       "      <td>9.25</td>\n",
       "      <td>32.25</td>\n",
       "      <td>NaN</td>\n",
       "      <td>4.42</td>\n",
       "      <td>12.0</td>\n",
       "      <td>NaN</td>\n",
       "      <td>NaN</td>\n",
       "      <td>NaN</td>\n",
       "      <td>NaN</td>\n",
       "      <td>NaN</td>\n",
       "      <td>20.0</td>\n",
       "      <td>1.0</td>\n",
       "    </tr>\n",
       "    <tr>\n",
       "      <td>2</td>\n",
       "      <td>2015</td>\n",
       "      <td>Malcolm Agnew</td>\n",
       "      <td>2015Malcolm Agnew</td>\n",
       "      <td>Southern Illinois</td>\n",
       "      <td>RB</td>\n",
       "      <td>70.00</td>\n",
       "      <td>202</td>\n",
       "      <td>NaN</td>\n",
       "      <td>NaN</td>\n",
       "      <td>NaN</td>\n",
       "      <td>4.59</td>\n",
       "      <td>NaN</td>\n",
       "      <td>NaN</td>\n",
       "      <td>NaN</td>\n",
       "      <td>NaN</td>\n",
       "      <td>NaN</td>\n",
       "      <td>NaN</td>\n",
       "      <td>NaN</td>\n",
       "      <td>NaN</td>\n",
       "    </tr>\n",
       "    <tr>\n",
       "      <td>3</td>\n",
       "      <td>2015</td>\n",
       "      <td>Jay Ajayi</td>\n",
       "      <td>2015Jay Ajayi</td>\n",
       "      <td>Boise State</td>\n",
       "      <td>RB</td>\n",
       "      <td>71.75</td>\n",
       "      <td>221</td>\n",
       "      <td>10.00</td>\n",
       "      <td>32.00</td>\n",
       "      <td>24.0</td>\n",
       "      <td>4.57</td>\n",
       "      <td>19.0</td>\n",
       "      <td>39.0</td>\n",
       "      <td>121.0</td>\n",
       "      <td>4.10</td>\n",
       "      <td>7.10</td>\n",
       "      <td>11.10</td>\n",
       "      <td>149.0</td>\n",
       "      <td>5.0</td>\n",
       "    </tr>\n",
       "    <tr>\n",
       "      <td>4</td>\n",
       "      <td>2015</td>\n",
       "      <td>Brandon Alexander</td>\n",
       "      <td>2015Brandon Alexander</td>\n",
       "      <td>Central Florida</td>\n",
       "      <td>FS</td>\n",
       "      <td>74.00</td>\n",
       "      <td>195</td>\n",
       "      <td>NaN</td>\n",
       "      <td>NaN</td>\n",
       "      <td>NaN</td>\n",
       "      <td>4.59</td>\n",
       "      <td>NaN</td>\n",
       "      <td>NaN</td>\n",
       "      <td>NaN</td>\n",
       "      <td>NaN</td>\n",
       "      <td>NaN</td>\n",
       "      <td>NaN</td>\n",
       "      <td>NaN</td>\n",
       "      <td>NaN</td>\n",
       "    </tr>\n",
       "  </tbody>\n",
       "</table>\n",
       "</div>"
      ],
      "text/plain": [
       "   Year               Name               YearName              College POS  \\\n",
       "0  2015     Ameer Abdullah     2015Ameer Abdullah             Nebraska  RB   \n",
       "1  2015     Nelson Agholor     2015Nelson Agholor  Southern California  WR   \n",
       "2  2015      Malcolm Agnew      2015Malcolm Agnew    Southern Illinois  RB   \n",
       "3  2015          Jay Ajayi          2015Jay Ajayi          Boise State  RB   \n",
       "4  2015  Brandon Alexander  2015Brandon Alexander      Central Florida  FS   \n",
       "\n",
       "   Height  Weight  Hand Size  Arm Length  Wonderlic  40 Yard  Bench Press  \\\n",
       "0   68.75     205       8.63       30.00        NaN     4.60         24.0   \n",
       "1   72.13     198       9.25       32.25        NaN     4.42         12.0   \n",
       "2   70.00     202        NaN         NaN        NaN     4.59          NaN   \n",
       "3   71.75     221      10.00       32.00       24.0     4.57         19.0   \n",
       "4   74.00     195        NaN         NaN        NaN     4.59          NaN   \n",
       "\n",
       "   Vert Leap  Broad Jump  Shuttle  3Cone  60Yd Shuttle   Pick  Round  \n",
       "0       42.5       130.0     3.95   6.79         11.18   54.0    2.0  \n",
       "1        NaN         NaN      NaN    NaN           NaN   20.0    1.0  \n",
       "2        NaN         NaN      NaN    NaN           NaN    NaN    NaN  \n",
       "3       39.0       121.0     4.10   7.10         11.10  149.0    5.0  \n",
       "4        NaN         NaN      NaN    NaN           NaN    NaN    NaN  "
      ]
     },
     "execution_count": 212,
     "metadata": {},
     "output_type": "execute_result"
    }
   ],
   "source": [
    "x.head()"
   ]
  },
  {
   "cell_type": "code",
   "execution_count": 241,
   "metadata": {},
   "outputs": [
    {
     "data": {
      "text/plain": [
       "array(['RB', 'WR', 'FS', 'OLB', 'CB', 'DE', 'ILB', 'TE', 'C', 'DT', 'SS',\n",
       "       'OT', 'P', 'OG', 'QB', 'K', 'FB', 'LS'], dtype=object)"
      ]
     },
     "execution_count": 241,
     "metadata": {},
     "output_type": "execute_result"
    }
   ],
   "source": [
    "x['POS'].unique()"
   ]
  },
  {
   "cell_type": "code",
   "execution_count": 324,
   "metadata": {},
   "outputs": [
    {
     "data": {
      "image/png": "[encoded data removed]",
      "text/plain": [
       "<Figure size 576x576 with 1 Axes>"
      ]
     },
     "metadata": {
      "needs_background": "light"
     },
     "output_type": "display_data"
    }
   ],
   "source": [
    "import matplotlib.pyplot as plt\n",
    "\n",
    "# with plt.style.context('fivethirtyeight'):\n",
    "fig, ax = plt.subplots(figsize=(8,8))\n",
    "sns.scatterplot(data=x[x['POS'] == 'RB'], x='40 Yard', y='Round', label='Running Backs')\n",
    "sns.scatterplot(data=x[x['POS'] == 'C'], x='40 Yard', y='Round', label='Centers')\n",
    "ax.set_ylim(0,13)\n",
    "ax.set_xlim(4, 6)\n",
    "ax.axhline(0, lw=.5, color='black')\n",
    "ax.legend(loc=1)\n",
    "ax.set_title('Round Drafted vs. 40 Yard Dash Speed', size=25);"
   ]
  },
  {
   "cell_type": "code",
   "execution_count": 320,
   "metadata": {},
   "outputs": [
    {
     "data": {
      "image/png": "[encoded data removed]",
      "text/plain": [
       "<Figure size 800x800 with 1 Axes>"
      ]
     },
     "metadata": {},
     "output_type": "display_data"
    }
   ],
   "source": [
    "plotter = pd.DataFrame((x[x['Pick'] == 1]).POS.value_counts())\n",
    "with plt.style.context('default'):\n",
    "    fig, ax = plt.subplots(figsize=(8,8))\n",
    "    plotter.plot.bar(ax=ax)\n",
    "    ax.set_title('Number 1 Picks by Position')"
   ]
  },
  {
   "cell_type": "code",
   "execution_count": 323,
   "metadata": {},
   "outputs": [
    {
     "data": {
      "image/png": "[encoded data removed]",
      "text/plain": [
       "<Figure size 576x576 with 1 Axes>"
      ]
     },
     "metadata": {},
     "output_type": "display_data"
    }
   ],
   "source": [
    "plotter1 = pd.DataFrame((x[x['Round'] == 1]).POS.value_counts())\n",
    "with plt.style.context('fivethirtyeight'):\n",
    "    fig, ax = plt.subplots(figsize=(8,8))\n",
    "    plotter1.plot.bar(ax=ax)\n",
    "    ax.set_title('1st Round Picks by Position')"
   ]
  }
 ],
 "metadata": {
  "colab": {
   "collapsed_sections": [],
   "name": "assignment_applied_modeling_1.ipynb",
   "provenance": [],
   "version": "0.3.2"
  },
  "kernelspec": {
   "display_name": "Python 3",
   "language": "python",
   "name": "python3"
  },
  "language_info": {
   "codemirror_mode": {
    "name": "ipython",
    "version": 3
   },
   "file_extension": ".py",
   "mimetype": "text/x-python",
   "name": "python",
   "nbconvert_exporter": "python",
   "pygments_lexer": "ipython3",
   "version": "3.7.4"
  }
 },
 "nbformat": 4,
 "nbformat_minor": 4
}
