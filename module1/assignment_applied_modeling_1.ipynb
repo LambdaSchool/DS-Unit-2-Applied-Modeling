{
  "nbformat": 4,
  "nbformat_minor": 0,
  "metadata": {
    "colab": {
      "name": "assignment_applied_modeling_1.ipynb",
      "provenance": [],
      "collapsed_sections": [],
      "toc_visible": true
    },
    "kernelspec": {
      "display_name": "Python 3",
      "language": "python",
      "name": "python3"
    },
    "language_info": {
      "codemirror_mode": {
        "name": "ipython",
        "version": 3
      },
      "file_extension": ".py",
      "mimetype": "text/x-python",
      "name": "python",
      "nbconvert_exporter": "python",
      "pygments_lexer": "ipython3",
      "version": "3.7.3"
    }
  },
  "cells": [
    {
      "cell_type": "markdown",
      "metadata": {
        "colab_type": "text",
        "id": "nCc3XZEyG3XV"
      },
      "source": [
        "Lambda School Data Science\n",
        "\n",
        "*Unit 2, Sprint 3, Module 1*\n",
        "\n",
        "---\n",
        "\n",
        "\n",
        "# Define ML problems\n",
        "\n",
        "You will use your portfolio project dataset for all assignments this sprint.\n",
        "\n",
        "## Assignment\n",
        "\n",
        "Complete these tasks for your project, and document your decisions.\n",
        "\n",
        "- [X] Choose your target. Which column in your tabular dataset will you predict?\n",
        "- [X] Choose which observations you will use to train, validate, and test your model. And which observations, if any, to exclude.\n",
        "- [X] Determine whether your problem is regression or classification.\n",
        "- [X] Choose your evaluation metric.\n",
        "- [ ] Begin to clean and explore your data.\n",
        "- [ ] Begin to choose which features, if any, to exclude. Would some features \"leak\" information from the future?\n"
      ]
    },
    {
      "cell_type": "code",
      "metadata": {
        "id": "qAlJUOpZmdwA",
        "colab_type": "code",
        "colab": {
          "base_uri": "https://localhost:8080/",
          "height": 675
        },
        "outputId": "9111d8dd-1aa5-4e10-e634-59aca0b127f5"
      },
      "source": [
        "import pandas as pd\n",
        "from sklearn.model_selection import train_test_split\n",
        "from sklearn.preprocessing import OneHotEncoder\n",
        "\n",
        "data = pd.read_csv(\"https://raw.githubusercontent.com/apathyhill/DS-Unit-2-Applied-Modeling/master/data/portfolio/vgsales-12-4-2019.csv\")\n",
        "data2 = data.copy()\n",
        "\n",
        "#data2[\"score\"] = data2[[\"VGChartz_Score\", \"Critic_Score\", \"User_Score\"]].mean(axis=1)\n",
        "data2 = pd.concat([data2, pd.get_dummies(data2[\"ESRB_Rating\"])], axis=1)\n",
        "\n",
        "print(data2.isna().sum())\n",
        "print(\"Columns:\", list(data2.columns))\n",
        "target = \"Global_Sales\"\n",
        "\n",
        "train, test = train_test_split(data2, train_size=0.90)\n",
        "train, val = train_test_split(train, train_size=0.75)\n",
        "\n",
        "\"\"\"\n",
        "This is a regression problem, as I am trying to output a continous number.\n",
        "\n",
        "Simple accuracy could work as a eval matric right now, but I might change it to mean absolue/squared error to see if I can decipher things better.\n",
        "\"\"\"\n",
        "\n",
        "features_excluded = [\"Last_Update\", \"url\", \"status\", \"Vgchartzscore\", \"img_url\", \"basename\", \n",
        "                     \"NA_Sales\", \"PAL_Sales\", \"JP_Sales\", \"Other_Sales\", \"Rank\", \"Name\", \n",
        "                     \"VGChartz_Score\", \"Critic_Score\", \"User_Score\", \"ESRB_Rating\"]\n",
        "\"\"\"\n",
        "These last columns are only for information about the game on the VGChartz website, such as cover images, and the url to the game. Not important here.\n",
        "\"basename\" is a web-safe, simplified name of the game. (Wii Sports becomes wii-sports)\n",
        "\"NA_Sales\", \"PAL_Sales\", \"JP_Sales\", \"Other_Sales\" are just  \"Global_Sales\" split into regions; probably not necessary.\n",
        "\"Rank\" is not needed, as it is functionally just an index.\n",
        "Each entry is a new game with its own title, so the \"Name\" category is *very* high cardinality, too much to use.\n",
        "\n",
        "\n",
        "This leaves Genre, ESRB Rating (in seperate columns), Platform, Plublisher, Developer, and Year\n",
        "\"\"\""
      ],
      "execution_count": 21,
      "outputs": [
        {
          "output_type": "stream",
          "text": [
            "Rank                  0\n",
            "Name                  0\n",
            "basename              0\n",
            "Genre                 0\n",
            "ESRB_Rating       32169\n",
            "Platform              0\n",
            "Publisher             0\n",
            "Developer            17\n",
            "VGChartz_Score    55792\n",
            "Critic_Score      49256\n",
            "User_Score        55457\n",
            "Total_Shipped     53965\n",
            "Global_Sales      36377\n",
            "NA_Sales          42828\n",
            "PAL_Sales         42603\n",
            "JP_Sales          48749\n",
            "Other_Sales       40270\n",
            "Year                979\n",
            "Last_Update       46606\n",
            "url                   0\n",
            "status                0\n",
            "Vgchartzscore     54993\n",
            "img_url               0\n",
            "AO                    0\n",
            "E                     0\n",
            "E10                   0\n",
            "EC                    0\n",
            "KA                    0\n",
            "M                     0\n",
            "RP                    0\n",
            "T                     0\n",
            "dtype: int64\n",
            "Columns: ['Rank', 'Name', 'basename', 'Genre', 'ESRB_Rating', 'Platform', 'Publisher', 'Developer', 'VGChartz_Score', 'Critic_Score', 'User_Score', 'Total_Shipped', 'Global_Sales', 'NA_Sales', 'PAL_Sales', 'JP_Sales', 'Other_Sales', 'Year', 'Last_Update', 'url', 'status', 'Vgchartzscore', 'img_url', 'AO', 'E', 'E10', 'EC', 'KA', 'M', 'RP', 'T']\n"
          ],
          "name": "stdout"
        },
        {
          "output_type": "execute_result",
          "data": {
            "text/plain": [
              "'\\nThese last columns are only for information about the game on the VGChartz website, such as cover images, and the url to the game. Not important here.\\n\"basename\" is a web-safe, simplified name of the game. (Wii Sports becomes wii-sports)\\n\"NA_Sales\", \"PAL_Sales\", \"JP_Sales\", \"Other_Sales\" are just  \"Global_Sales\" split into regions; probably not necessary.\\n\"Rank\" is not needed, as it is functionally just an index.\\nEach entry is a new game with its own title, so the \"Name\" category is *very* high cardinality, too much to use.\\n\\n\\nThis leaves Genre, ESRB Rating (in seperate columns), Platform, Plublisher, Developer, and Year\\n'"
            ]
          },
          "metadata": {
            "tags": []
          },
          "execution_count": 21
        }
      ]
    },
    {
      "cell_type": "code",
      "metadata": {
        "id": "e7Ht4-3hm-k7",
        "colab_type": "code",
        "colab": {}
      },
      "source": [
        ""
      ],
      "execution_count": 0,
      "outputs": []
    }
  ]
}