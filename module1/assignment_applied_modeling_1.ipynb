{
  "nbformat": 4,
  "nbformat_minor": 0,
  "metadata": {
    "colab": {
      "name": "assignment_applied_modeling_1.ipynb",
      "provenance": [],
      "collapsed_sections": [],
      "include_colab_link": true
    },
    "kernelspec": {
      "display_name": "Python 3",
      "language": "python",
      "name": "python3"
    },
    "language_info": {
      "codemirror_mode": {
        "name": "ipython",
        "version": 3
      },
      "file_extension": ".py",
      "mimetype": "text/x-python",
      "name": "python",
      "nbconvert_exporter": "python",
      "pygments_lexer": "ipython3",
      "version": "3.7.3"
    }
  },
  "cells": [
    {
      "cell_type": "markdown",
      "metadata": {
        "id": "view-in-github",
        "colab_type": "text"
      },
      "source": [
        "<a href=\"https://colab.research.google.com/github/ameralhomdy/DS-Unit-2-Applied-Modeling/blob/master/module1/assignment_applied_modeling_1.ipynb\" target=\"_parent\"><img src=\"https://colab.research.google.com/assets/colab-badge.svg\" alt=\"Open In Colab\"/></a>"
      ]
    },
    {
      "cell_type": "markdown",
      "metadata": {
        "colab_type": "text",
        "id": "nCc3XZEyG3XV"
      },
      "source": [
        "Lambda School Data Science\n",
        "\n",
        "*Unit 2, Sprint 3, Module 1*\n",
        "\n",
        "---\n",
        "\n",
        "\n",
        "# Define ML problems\n",
        "\n",
        "You will use your portfolio project dataset for all assignments this sprint.\n",
        "\n",
        "## Assignment\n",
        "\n",
        "Complete these tasks for your project, and document your decisions.\n",
        "\n",
        "- [ ] Choose your target. Which column in your tabular dataset will you predict?\n",
        "- [ ] Choose which observations you will use to train, validate, and test your model. And which observations, if any, to exclude.\n",
        "- [ ] Determine whether your problem is regression or classification.\n",
        "- [ ] Choose your evaluation metric.\n",
        "- [ ] Begin to clean and explore your data.\n",
        "- [ ] Begin to choose which features, if any, to exclude. Would some features \"leak\" information from the future?\n"
      ]
    },
    {
      "cell_type": "code",
      "metadata": {
        "id": "nbIjePpCGCD9",
        "colab_type": "code",
        "outputId": "332e1bb7-eddf-42b3-e172-adc5e22698b7",
        "colab": {
          "base_uri": "https://localhost:8080/",
          "height": 34
        }
      },
      "source": [
        "import pandas as pd\n",
        "\n",
        "ufc = pd.read_csv('ufc_combined.csv')\n",
        "ufc.shape"
      ],
      "execution_count": 0,
      "outputs": [
        {
          "output_type": "execute_result",
          "data": {
            "text/plain": [
              "(4591, 43)"
            ]
          },
          "metadata": {
            "tags": []
          },
          "execution_count": 1
        }
      ]
    },
    {
      "cell_type": "code",
      "metadata": {
        "id": "ZSWF2u553yjg",
        "colab_type": "code",
        "outputId": "c0393398-b7f1-49d7-c18b-1419d56bb5d4",
        "colab": {
          "base_uri": "https://localhost:8080/",
          "height": 343
        }
      },
      "source": [
        "ufc.head()"
      ],
      "execution_count": 0,
      "outputs": [
        {
          "output_type": "execute_result",
          "data": {
            "text/html": [
              "<div>\n",
              "<style scoped>\n",
              "    .dataframe tbody tr th:only-of-type {\n",
              "        vertical-align: middle;\n",
              "    }\n",
              "\n",
              "    .dataframe tbody tr th {\n",
              "        vertical-align: top;\n",
              "    }\n",
              "\n",
              "    .dataframe thead th {\n",
              "        text-align: right;\n",
              "    }\n",
              "</style>\n",
              "<table border=\"1\" class=\"dataframe\">\n",
              "  <thead>\n",
              "    <tr style=\"text-align: right;\">\n",
              "      <th></th>\n",
              "      <th>Unnamed: 0</th>\n",
              "      <th>fighter1</th>\n",
              "      <th>fighter2</th>\n",
              "      <th>winner</th>\n",
              "      <th>weight_class</th>\n",
              "      <th>title_fight</th>\n",
              "      <th>method</th>\n",
              "      <th>end_round</th>\n",
              "      <th>fight_year</th>\n",
              "      <th>win_fighter1</th>\n",
              "      <th>lose_fighter1</th>\n",
              "      <th>draw_fighter1</th>\n",
              "      <th>nc_fighter1</th>\n",
              "      <th>height_fighter1</th>\n",
              "      <th>reach_fighter1</th>\n",
              "      <th>stance_fighter1</th>\n",
              "      <th>SLpM_fighter1</th>\n",
              "      <th>Str_Acc_fighter1</th>\n",
              "      <th>SApM_fighter1</th>\n",
              "      <th>Str_Def_fighter1</th>\n",
              "      <th>TD_Avg_fighter1</th>\n",
              "      <th>TD_Acc_fighter1</th>\n",
              "      <th>TD_Def_fighter1</th>\n",
              "      <th>Sub_Avg_fighter1</th>\n",
              "      <th>win%_fighter1</th>\n",
              "      <th>born_year_fighter1</th>\n",
              "      <th>win_fighter2</th>\n",
              "      <th>lose_fighter2</th>\n",
              "      <th>draw_fighter2</th>\n",
              "      <th>nc_fighter2</th>\n",
              "      <th>height_fighter2</th>\n",
              "      <th>reach_fighter2</th>\n",
              "      <th>stance_fighter2</th>\n",
              "      <th>SLpM_fighter2</th>\n",
              "      <th>Str_Acc_fighter2</th>\n",
              "      <th>SApM_fighter2</th>\n",
              "      <th>Str_Def_fighter2</th>\n",
              "      <th>TD_Avg_fighter2</th>\n",
              "      <th>TD_Acc_fighter2</th>\n",
              "      <th>TD_Def_fighter2</th>\n",
              "      <th>Sub_Avg_fighter2</th>\n",
              "      <th>win%_fighter2</th>\n",
              "      <th>born_year_fighter2</th>\n",
              "    </tr>\n",
              "  </thead>\n",
              "  <tbody>\n",
              "    <tr>\n",
              "      <th>0</th>\n",
              "      <td>0</td>\n",
              "      <td>Santiago Ponzinibbio</td>\n",
              "      <td>Neil Magny</td>\n",
              "      <td>1</td>\n",
              "      <td>Welterweight</td>\n",
              "      <td>f</td>\n",
              "      <td>KO/TKO</td>\n",
              "      <td>4</td>\n",
              "      <td>2018</td>\n",
              "      <td>28</td>\n",
              "      <td>3</td>\n",
              "      <td>0</td>\n",
              "      <td>0</td>\n",
              "      <td>6' 0\"</td>\n",
              "      <td>73\"</td>\n",
              "      <td>Orthodox</td>\n",
              "      <td>4.27</td>\n",
              "      <td>39.0</td>\n",
              "      <td>4.02</td>\n",
              "      <td>64.0</td>\n",
              "      <td>0.54</td>\n",
              "      <td>44.0</td>\n",
              "      <td>60.0</td>\n",
              "      <td>0.0</td>\n",
              "      <td>90.322580</td>\n",
              "      <td>1986</td>\n",
              "      <td>21</td>\n",
              "      <td>8</td>\n",
              "      <td>0</td>\n",
              "      <td>0</td>\n",
              "      <td>6' 3\"</td>\n",
              "      <td>80\"</td>\n",
              "      <td>Orthodox</td>\n",
              "      <td>3.86</td>\n",
              "      <td>46.0</td>\n",
              "      <td>2.22</td>\n",
              "      <td>56.0</td>\n",
              "      <td>2.62</td>\n",
              "      <td>46.0</td>\n",
              "      <td>60.0</td>\n",
              "      <td>0.3</td>\n",
              "      <td>72.413795</td>\n",
              "      <td>1987</td>\n",
              "    </tr>\n",
              "    <tr>\n",
              "      <th>1</th>\n",
              "      <td>1</td>\n",
              "      <td>Ricardo Lamas</td>\n",
              "      <td>Darren Elkins</td>\n",
              "      <td>1</td>\n",
              "      <td>Featherweight</td>\n",
              "      <td>f</td>\n",
              "      <td>KO/TKO</td>\n",
              "      <td>3</td>\n",
              "      <td>2018</td>\n",
              "      <td>19</td>\n",
              "      <td>7</td>\n",
              "      <td>0</td>\n",
              "      <td>0</td>\n",
              "      <td>5' 8\"</td>\n",
              "      <td>71\"</td>\n",
              "      <td>Orthodox</td>\n",
              "      <td>2.87</td>\n",
              "      <td>45.0</td>\n",
              "      <td>2.61</td>\n",
              "      <td>59.0</td>\n",
              "      <td>1.66</td>\n",
              "      <td>32.0</td>\n",
              "      <td>47.0</td>\n",
              "      <td>1.0</td>\n",
              "      <td>73.076920</td>\n",
              "      <td>1982</td>\n",
              "      <td>25</td>\n",
              "      <td>7</td>\n",
              "      <td>0</td>\n",
              "      <td>0</td>\n",
              "      <td>5' 10\"</td>\n",
              "      <td>71\"</td>\n",
              "      <td>Orthodox</td>\n",
              "      <td>3.36</td>\n",
              "      <td>37.0</td>\n",
              "      <td>2.83</td>\n",
              "      <td>53.0</td>\n",
              "      <td>2.68</td>\n",
              "      <td>35.0</td>\n",
              "      <td>57.0</td>\n",
              "      <td>1.3</td>\n",
              "      <td>78.125000</td>\n",
              "      <td>1984</td>\n",
              "    </tr>\n",
              "    <tr>\n",
              "      <th>2</th>\n",
              "      <td>2</td>\n",
              "      <td>Johnny Walker</td>\n",
              "      <td>Khalil Rountree Jr.</td>\n",
              "      <td>1</td>\n",
              "      <td>Light Heavyweight</td>\n",
              "      <td>f</td>\n",
              "      <td>KO/TKO</td>\n",
              "      <td>1</td>\n",
              "      <td>2018</td>\n",
              "      <td>15</td>\n",
              "      <td>3</td>\n",
              "      <td>0</td>\n",
              "      <td>0</td>\n",
              "      <td>6' 5\"</td>\n",
              "      <td>82\"</td>\n",
              "      <td>Orthodox</td>\n",
              "      <td>5.37</td>\n",
              "      <td>70.0</td>\n",
              "      <td>3.36</td>\n",
              "      <td>25.0</td>\n",
              "      <td>0.89</td>\n",
              "      <td>100.0</td>\n",
              "      <td>100.0</td>\n",
              "      <td>2.6</td>\n",
              "      <td>83.333336</td>\n",
              "      <td>1992</td>\n",
              "      <td>8</td>\n",
              "      <td>2</td>\n",
              "      <td>0</td>\n",
              "      <td>2</td>\n",
              "      <td>6' 1\"</td>\n",
              "      <td>76\"</td>\n",
              "      <td>Southpaw</td>\n",
              "      <td>2.30</td>\n",
              "      <td>34.0</td>\n",
              "      <td>3.29</td>\n",
              "      <td>38.0</td>\n",
              "      <td>0.00</td>\n",
              "      <td>0.0</td>\n",
              "      <td>50.0</td>\n",
              "      <td>0.3</td>\n",
              "      <td>66.666664</td>\n",
              "      <td>1990</td>\n",
              "    </tr>\n",
              "    <tr>\n",
              "      <th>3</th>\n",
              "      <td>3</td>\n",
              "      <td>Cezar Ferreira</td>\n",
              "      <td>Ian Heinisch</td>\n",
              "      <td>0</td>\n",
              "      <td>Middleweight</td>\n",
              "      <td>f</td>\n",
              "      <td>DEC</td>\n",
              "      <td>3</td>\n",
              "      <td>2018</td>\n",
              "      <td>14</td>\n",
              "      <td>7</td>\n",
              "      <td>0</td>\n",
              "      <td>0</td>\n",
              "      <td>6' 1\"</td>\n",
              "      <td>78\"</td>\n",
              "      <td>Southpaw</td>\n",
              "      <td>1.83</td>\n",
              "      <td>42.0</td>\n",
              "      <td>2.14</td>\n",
              "      <td>55.0</td>\n",
              "      <td>2.97</td>\n",
              "      <td>59.0</td>\n",
              "      <td>90.0</td>\n",
              "      <td>0.5</td>\n",
              "      <td>66.666664</td>\n",
              "      <td>1985</td>\n",
              "      <td>12</td>\n",
              "      <td>1</td>\n",
              "      <td>0</td>\n",
              "      <td>0</td>\n",
              "      <td>5' 11\"</td>\n",
              "      <td>NaN</td>\n",
              "      <td>Orthodox</td>\n",
              "      <td>3.49</td>\n",
              "      <td>58.0</td>\n",
              "      <td>1.67</td>\n",
              "      <td>52.0</td>\n",
              "      <td>0.81</td>\n",
              "      <td>14.0</td>\n",
              "      <td>50.0</td>\n",
              "      <td>1.6</td>\n",
              "      <td>92.307690</td>\n",
              "      <td>1988</td>\n",
              "    </tr>\n",
              "    <tr>\n",
              "      <th>4</th>\n",
              "      <td>4</td>\n",
              "      <td>Marlon Vera</td>\n",
              "      <td>Guido Cannetti</td>\n",
              "      <td>1</td>\n",
              "      <td>Bantamweight</td>\n",
              "      <td>f</td>\n",
              "      <td>SUB</td>\n",
              "      <td>2</td>\n",
              "      <td>2018</td>\n",
              "      <td>12</td>\n",
              "      <td>5</td>\n",
              "      <td>1</td>\n",
              "      <td>0</td>\n",
              "      <td>5' 8\"</td>\n",
              "      <td>70\"</td>\n",
              "      <td>Switch</td>\n",
              "      <td>3.23</td>\n",
              "      <td>44.0</td>\n",
              "      <td>3.93</td>\n",
              "      <td>52.0</td>\n",
              "      <td>0.78</td>\n",
              "      <td>37.0</td>\n",
              "      <td>68.0</td>\n",
              "      <td>1.3</td>\n",
              "      <td>66.666664</td>\n",
              "      <td>1992</td>\n",
              "      <td>8</td>\n",
              "      <td>5</td>\n",
              "      <td>0</td>\n",
              "      <td>0</td>\n",
              "      <td>5' 6\"</td>\n",
              "      <td>68\"</td>\n",
              "      <td>Southpaw</td>\n",
              "      <td>2.80</td>\n",
              "      <td>52.0</td>\n",
              "      <td>1.95</td>\n",
              "      <td>51.0</td>\n",
              "      <td>2.80</td>\n",
              "      <td>50.0</td>\n",
              "      <td>75.0</td>\n",
              "      <td>0.3</td>\n",
              "      <td>61.538460</td>\n",
              "      <td>1979</td>\n",
              "    </tr>\n",
              "  </tbody>\n",
              "</table>\n",
              "</div>"
            ],
            "text/plain": [
              "   Unnamed: 0              fighter1  ... win%_fighter2  born_year_fighter2\n",
              "0           0  Santiago Ponzinibbio  ...     72.413795                1987\n",
              "1           1         Ricardo Lamas  ...     78.125000                1984\n",
              "2           2         Johnny Walker  ...     66.666664                1990\n",
              "3           3        Cezar Ferreira  ...     92.307690                1988\n",
              "4           4           Marlon Vera  ...     61.538460                1979\n",
              "\n",
              "[5 rows x 43 columns]"
            ]
          },
          "metadata": {
            "tags": []
          },
          "execution_count": 2
        }
      ]
    },
    {
      "cell_type": "code",
      "metadata": {
        "id": "gfsYwS6Y4Fat",
        "colab_type": "code",
        "colab": {}
      },
      "source": [
        "# winner is my target to predict\n",
        "\n",
        "y = ufc['winner']\n",
        "X = ufc.drop(columns='winner')"
      ],
      "execution_count": 0,
      "outputs": []
    },
    {
      "cell_type": "code",
      "metadata": {
        "id": "Vm_ho_S54XVj",
        "colab_type": "code",
        "outputId": "bd418257-290f-47d7-fb19-26f3792ad607",
        "colab": {
          "base_uri": "https://localhost:8080/",
          "height": 170
        }
      },
      "source": [
        "# check it's distribution\n",
        "y.describe()"
      ],
      "execution_count": 0,
      "outputs": [
        {
          "output_type": "execute_result",
          "data": {
            "text/plain": [
              "count    4591.000000\n",
              "mean        0.499673\n",
              "std         0.500054\n",
              "min         0.000000\n",
              "25%         0.000000\n",
              "50%         0.000000\n",
              "75%         1.000000\n",
              "max         1.000000\n",
              "Name: winner, dtype: float64"
            ]
          },
          "metadata": {
            "tags": []
          },
          "execution_count": 4
        }
      ]
    },
    {
      "cell_type": "code",
      "metadata": {
        "id": "wVFV3Aok4jkO",
        "colab_type": "code",
        "outputId": "27b0e88e-6edc-4511-baeb-a2b253f91dd1",
        "colab": {
          "base_uri": "https://localhost:8080/",
          "height": 68
        }
      },
      "source": [
        "y.value_counts()"
      ],
      "execution_count": 0,
      "outputs": [
        {
          "output_type": "execute_result",
          "data": {
            "text/plain": [
              "0    2297\n",
              "1    2294\n",
              "Name: winner, dtype: int64"
            ]
          },
          "metadata": {
            "tags": []
          },
          "execution_count": 5
        }
      ]
    },
    {
      "cell_type": "code",
      "metadata": {
        "id": "YDFvPscO4nF2",
        "colab_type": "code",
        "colab": {}
      },
      "source": [
        "# splitting into test and train\n",
        "\n",
        "train = ufc[ufc['fight_year'] <= 2016]\n",
        "test = ufc[ufc['fight_year'] > 2016]\n",
        "\n",
        "train.shape, test.shape"
      ],
      "execution_count": 0,
      "outputs": []
    },
    {
      "cell_type": "markdown",
      "metadata": {
        "id": "7ZiWxalxjZwA",
        "colab_type": "text"
      },
      "source": [
        "###Since the y predict is whether Fighter 1 wins or loses it's a binary classification problem"
      ]
    },
    {
      "cell_type": "code",
      "metadata": {
        "id": "oqrikZx5JBQw",
        "colab_type": "code",
        "colab": {}
      },
      "source": [
        "# dropping columns that we won't have info on for predicting in the future\n",
        "\n",
        "dropped_columns = ['method', 'end_round', 'Unnamed: 0', 'stance_fighter1', 'stance_fighter2']\n",
        "\n",
        "train = train.drop(columns=dropped_columns)\n",
        "test = test.drop(columns=dropped_columns)"
      ],
      "execution_count": 0,
      "outputs": []
    },
    {
      "cell_type": "code",
      "metadata": {
        "id": "PZfHzd85Ja34",
        "colab_type": "code",
        "colab": {}
      },
      "source": [
        ""
      ],
      "execution_count": 0,
      "outputs": []
    }
  ]
}