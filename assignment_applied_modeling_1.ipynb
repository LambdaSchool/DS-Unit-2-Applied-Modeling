{
  "nbformat": 4,
  "nbformat_minor": 0,
  "metadata": {
    "colab": {
      "name": "assignment_applied_modeling_1.ipynb",
      "version": "0.3.2",
      "provenance": [],
      "collapsed_sections": [],
      "include_colab_link": true
    },
    "kernelspec": {
      "name": "python3",
      "display_name": "Python 3"
    }
  },
  "cells": [
    {
      "cell_type": "markdown",
      "metadata": {
        "id": "view-in-github",
        "colab_type": "text"
      },
      "source": [
        "<a href=\"https://colab.research.google.com/github/justin-hsieh/DS-Unit-2-Applied-Modeling/blob/master/assignment_applied_modeling_1.ipynb\" target=\"_parent\"><img src=\"https://colab.research.google.com/assets/colab-badge.svg\" alt=\"Open In Colab\"/></a>"
      ]
    },
    {
      "cell_type": "markdown",
      "metadata": {
        "id": "nCc3XZEyG3XV",
        "colab_type": "text"
      },
      "source": [
        "Lambda School Data Science, Unit 2: Predictive Modeling\n",
        "\n",
        "# Applied Modeling, Module 1\n",
        "\n",
        "You will use your portfolio project dataset for all assignments this sprint.\n",
        "\n",
        "## Assignment\n",
        "\n",
        "Complete these tasks for your project, and document your decisions.\n",
        "\n",
        "- [ ] Choose your target. Which column in your tabular dataset will you predict?\n",
        "- [ ] Choose which observations you will use to train, validate, and test your model. And which observations, if any, to exclude.\n",
        "- [ ] Determine whether your problem is regression or classification.\n",
        "- [ ] Choose your evaluation metric.\n",
        "- [ ] Begin with baselines: majority class baseline for classification, or mean baseline for regression, with your metric of choice.\n",
        "- [ ] Begin to clean and explore your data.\n",
        "- [ ] Choose which features, if any, to exclude. Would some features \"leak\" information from the future?\n",
        "\n",
        "## Reading\n",
        "- [Attacking discrimination with smarter machine learning](https://research.google.com/bigpicture/attacking-discrimination-in-ml/), by Google Research, with  interactive visualizations. _\"A threshold classifier essentially makes a yes/no decision, putting things in one category or another. We look at how these classifiers work, ways they can potentially be unfair, and how you might turn an unfair classifier into a fairer one. As an illustrative example, we focus on loan granting scenarios where a bank may grant or deny a loan based on a single, automatically computed number such as a credit score.\"_\n",
        "- [How Shopify Capital Uses Quantile Regression To Help Merchants Succeed](https://engineering.shopify.com/blogs/engineering/how-shopify-uses-machine-learning-to-help-our-merchants-grow-their-business)\n",
        "- [Maximizing Scarce Maintenance Resources with Data: Applying predictive modeling, precision at k, and clustering to optimize impact](https://towardsdatascience.com/maximizing-scarce-maintenance-resources-with-data-8f3491133050), **by Lambda DS3 student** Michael Brady. His blog post extends the Tanzania Waterpumps scenario, far beyond what's in the lecture notebook.\n",
        "- [Notebook about how to calculate expected value from a confusion matrix by treating it as a cost-benefit matrix](https://github.com/podopie/DAT18NYC/blob/master/classes/13-expected_value_cost_benefit_analysis.ipynb)\n",
        "- [Simple guide to confusion matrix terminology](https://www.dataschool.io/simple-guide-to-confusion-matrix-terminology/) by Kevin Markham, with video\n",
        "- [Visualizing Machine Learning Thresholds to Make Better Business Decisions](https://blog.insightdatascience.com/visualizing-machine-learning-thresholds-to-make-better-business-decisions-4ab07f823415)"
      ]
    },
    {
      "cell_type": "code",
      "metadata": {
        "id": "Ob_1cMHt1GG2",
        "colab_type": "code",
        "colab": {}
      },
      "source": [
        "import pandas as pd\n",
        "from sklearn.metrics import accuracy_score\n",
        "from sklearn.metrics import mean_absolute_error,r2_score,mean_squared_error"
      ],
      "execution_count": 0,
      "outputs": []
    },
    {
      "cell_type": "code",
      "metadata": {
        "id": "9UPeXq_c1KE6",
        "colab_type": "code",
        "colab": {
          "base_uri": "https://localhost:8080/",
          "height": 34
        },
        "outputId": "bcd83490-fedd-4c1c-aaef-67cece39edc8"
      },
      "source": [
        "df = pd.read_csv('openpowerlifting.csv')\n",
        "drops = ['Squat4Kg', 'Bench4Kg', 'Deadlift4Kg','Country','Place','Squat1Kg',\n",
        "        'Squat2Kg','Squat3Kg','Bench1Kg','Bench2Kg','Bench3Kg','Deadlift1Kg',\n",
        "        'Deadlift2Kg','Deadlift3Kg']\n",
        "df = df.drop(columns=drops)\n",
        "#df.dropna(inplace=True)\n",
        "df.shape"
      ],
      "execution_count": 13,
      "outputs": [
        {
          "output_type": "execute_result",
          "data": {
            "text/plain": [
              "(441706, 23)"
            ]
          },
          "metadata": {
            "tags": []
          },
          "execution_count": 13
        }
      ]
    },
    {
      "cell_type": "code",
      "metadata": {
        "id": "O0f457Gc1j1P",
        "colab_type": "code",
        "colab": {
          "base_uri": "https://localhost:8080/",
          "height": 483
        },
        "outputId": "222ad5fb-6254-4df1-b531-5235c0481c4f"
      },
      "source": [
        "df.head()"
      ],
      "execution_count": 5,
      "outputs": [
        {
          "output_type": "execute_result",
          "data": {
            "text/html": [
              "<div>\n",
              "<style scoped>\n",
              "    .dataframe tbody tr th:only-of-type {\n",
              "        vertical-align: middle;\n",
              "    }\n",
              "\n",
              "    .dataframe tbody tr th {\n",
              "        vertical-align: top;\n",
              "    }\n",
              "\n",
              "    .dataframe thead th {\n",
              "        text-align: right;\n",
              "    }\n",
              "</style>\n",
              "<table border=\"1\" class=\"dataframe\">\n",
              "  <thead>\n",
              "    <tr style=\"text-align: right;\">\n",
              "      <th></th>\n",
              "      <th>Name</th>\n",
              "      <th>Sex</th>\n",
              "      <th>Event</th>\n",
              "      <th>Equipment</th>\n",
              "      <th>Age</th>\n",
              "      <th>AgeClass</th>\n",
              "      <th>Division</th>\n",
              "      <th>BodyweightKg</th>\n",
              "      <th>WeightClassKg</th>\n",
              "      <th>Best3SquatKg</th>\n",
              "      <th>Best3BenchKg</th>\n",
              "      <th>Best3DeadliftKg</th>\n",
              "      <th>TotalKg</th>\n",
              "      <th>Wilks</th>\n",
              "      <th>McCulloch</th>\n",
              "      <th>Glossbrenner</th>\n",
              "      <th>IPFPoints</th>\n",
              "      <th>Tested</th>\n",
              "      <th>Federation</th>\n",
              "      <th>Date</th>\n",
              "      <th>MeetCountry</th>\n",
              "      <th>MeetState</th>\n",
              "      <th>MeetName</th>\n",
              "    </tr>\n",
              "  </thead>\n",
              "  <tbody>\n",
              "    <tr>\n",
              "      <th>8164</th>\n",
              "      <td>Albert Kocikowski</td>\n",
              "      <td>M</td>\n",
              "      <td>SBD</td>\n",
              "      <td>Raw</td>\n",
              "      <td>16.0</td>\n",
              "      <td>16-17</td>\n",
              "      <td>Youth A</td>\n",
              "      <td>93.8</td>\n",
              "      <td>105</td>\n",
              "      <td>150.0</td>\n",
              "      <td>107.5</td>\n",
              "      <td>140.0</td>\n",
              "      <td>397.5</td>\n",
              "      <td>248.70</td>\n",
              "      <td>281.03</td>\n",
              "      <td>239.44</td>\n",
              "      <td>335.57</td>\n",
              "      <td>Yes</td>\n",
              "      <td>BVDK</td>\n",
              "      <td>2018-09-08</td>\n",
              "      <td>Germany</td>\n",
              "      <td>MV</td>\n",
              "      <td>LM Mecklenburg-Vorpommern KDK</td>\n",
              "    </tr>\n",
              "    <tr>\n",
              "      <th>8165</th>\n",
              "      <td>Hamidreza Jadali</td>\n",
              "      <td>M</td>\n",
              "      <td>SBD</td>\n",
              "      <td>Raw</td>\n",
              "      <td>20.5</td>\n",
              "      <td>20-23</td>\n",
              "      <td>Juniors</td>\n",
              "      <td>69.5</td>\n",
              "      <td>74</td>\n",
              "      <td>130.0</td>\n",
              "      <td>90.0</td>\n",
              "      <td>145.0</td>\n",
              "      <td>365.0</td>\n",
              "      <td>275.04</td>\n",
              "      <td>280.54</td>\n",
              "      <td>266.55</td>\n",
              "      <td>379.34</td>\n",
              "      <td>Yes</td>\n",
              "      <td>BVDK</td>\n",
              "      <td>2018-09-08</td>\n",
              "      <td>Germany</td>\n",
              "      <td>MV</td>\n",
              "      <td>LM Mecklenburg-Vorpommern KDK</td>\n",
              "    </tr>\n",
              "    <tr>\n",
              "      <th>8166</th>\n",
              "      <td>Rustam Hadschi</td>\n",
              "      <td>M</td>\n",
              "      <td>SBD</td>\n",
              "      <td>Raw</td>\n",
              "      <td>18.0</td>\n",
              "      <td>18-19</td>\n",
              "      <td>Youth A</td>\n",
              "      <td>69.4</td>\n",
              "      <td>74</td>\n",
              "      <td>155.0</td>\n",
              "      <td>100.0</td>\n",
              "      <td>175.0</td>\n",
              "      <td>430.0</td>\n",
              "      <td>324.38</td>\n",
              "      <td>343.84</td>\n",
              "      <td>314.38</td>\n",
              "      <td>462.54</td>\n",
              "      <td>Yes</td>\n",
              "      <td>BVDK</td>\n",
              "      <td>2018-09-08</td>\n",
              "      <td>Germany</td>\n",
              "      <td>MV</td>\n",
              "      <td>LM Mecklenburg-Vorpommern KDK</td>\n",
              "    </tr>\n",
              "    <tr>\n",
              "      <th>8167</th>\n",
              "      <td>Tim Hajo Paltinat</td>\n",
              "      <td>M</td>\n",
              "      <td>SBD</td>\n",
              "      <td>Raw</td>\n",
              "      <td>17.5</td>\n",
              "      <td>18-19</td>\n",
              "      <td>Youth A</td>\n",
              "      <td>67.8</td>\n",
              "      <td>74</td>\n",
              "      <td>107.5</td>\n",
              "      <td>80.0</td>\n",
              "      <td>135.0</td>\n",
              "      <td>322.5</td>\n",
              "      <td>247.77</td>\n",
              "      <td>262.64</td>\n",
              "      <td>240.30</td>\n",
              "      <td>332.26</td>\n",
              "      <td>Yes</td>\n",
              "      <td>BVDK</td>\n",
              "      <td>2018-09-08</td>\n",
              "      <td>Germany</td>\n",
              "      <td>MV</td>\n",
              "      <td>LM Mecklenburg-Vorpommern KDK</td>\n",
              "    </tr>\n",
              "    <tr>\n",
              "      <th>8169</th>\n",
              "      <td>Jan Schnoor</td>\n",
              "      <td>M</td>\n",
              "      <td>SBD</td>\n",
              "      <td>Raw</td>\n",
              "      <td>25.0</td>\n",
              "      <td>24-34</td>\n",
              "      <td>Open</td>\n",
              "      <td>125.3</td>\n",
              "      <td>120+</td>\n",
              "      <td>255.0</td>\n",
              "      <td>172.5</td>\n",
              "      <td>275.0</td>\n",
              "      <td>702.5</td>\n",
              "      <td>400.12</td>\n",
              "      <td>400.12</td>\n",
              "      <td>381.08</td>\n",
              "      <td>554.12</td>\n",
              "      <td>Yes</td>\n",
              "      <td>BVDK</td>\n",
              "      <td>2018-09-08</td>\n",
              "      <td>Germany</td>\n",
              "      <td>MV</td>\n",
              "      <td>LM Mecklenburg-Vorpommern KDK</td>\n",
              "    </tr>\n",
              "  </tbody>\n",
              "</table>\n",
              "</div>"
            ],
            "text/plain": [
              "                   Name Sex  ... MeetState                       MeetName\n",
              "8164  Albert Kocikowski   M  ...        MV  LM Mecklenburg-Vorpommern KDK\n",
              "8165   Hamidreza Jadali   M  ...        MV  LM Mecklenburg-Vorpommern KDK\n",
              "8166     Rustam Hadschi   M  ...        MV  LM Mecklenburg-Vorpommern KDK\n",
              "8167  Tim Hajo Paltinat   M  ...        MV  LM Mecklenburg-Vorpommern KDK\n",
              "8169        Jan Schnoor   M  ...        MV  LM Mecklenburg-Vorpommern KDK\n",
              "\n",
              "[5 rows x 23 columns]"
            ]
          },
          "metadata": {
            "tags": []
          },
          "execution_count": 5
        }
      ]
    },
    {
      "cell_type": "code",
      "metadata": {
        "id": "BTFagYbg2ezV",
        "colab_type": "code",
        "colab": {
          "base_uri": "https://localhost:8080/",
          "height": 431
        },
        "outputId": "759026f8-9a83-4270-a5c2-0a474ecdc303"
      },
      "source": [
        "df.isna().sum()"
      ],
      "execution_count": 14,
      "outputs": [
        {
          "output_type": "execute_result",
          "data": {
            "text/plain": [
              "Name                    0\n",
              "Sex                     0\n",
              "Event                   0\n",
              "Equipment               0\n",
              "Age                298228\n",
              "AgeClass           291034\n",
              "Division             5496\n",
              "BodyweightKg         9889\n",
              "WeightClassKg        6115\n",
              "Best3SquatKg        94886\n",
              "Best3BenchKg        47395\n",
              "Best3DeadliftKg     92078\n",
              "TotalKg             40918\n",
              "Wilks               46623\n",
              "McCulloch           46744\n",
              "Glossbrenner        46624\n",
              "IPFPoints           53512\n",
              "Tested              87181\n",
              "Federation              1\n",
              "Date                    1\n",
              "MeetCountry             1\n",
              "MeetState           95374\n",
              "MeetName                1\n",
              "dtype: int64"
            ]
          },
          "metadata": {
            "tags": []
          },
          "execution_count": 14
        }
      ]
    },
    {
      "cell_type": "code",
      "metadata": {
        "id": "qenCF5mj10ah",
        "colab_type": "code",
        "colab": {
          "base_uri": "https://localhost:8080/",
          "height": 120
        },
        "outputId": "2b4a736d-1bff-4457-bce7-ce1225ac84e7"
      },
      "source": [
        "df.columns"
      ],
      "execution_count": 6,
      "outputs": [
        {
          "output_type": "execute_result",
          "data": {
            "text/plain": [
              "Index(['Name', 'Sex', 'Event', 'Equipment', 'Age', 'AgeClass', 'Division',\n",
              "       'BodyweightKg', 'WeightClassKg', 'Best3SquatKg', 'Best3BenchKg',\n",
              "       'Best3DeadliftKg', 'TotalKg', 'Wilks', 'McCulloch', 'Glossbrenner',\n",
              "       'IPFPoints', 'Tested', 'Federation', 'Date', 'MeetCountry', 'MeetState',\n",
              "       'MeetName'],\n",
              "      dtype='object')"
            ]
          },
          "metadata": {
            "tags": []
          },
          "execution_count": 6
        }
      ]
    },
    {
      "cell_type": "code",
      "metadata": {
        "id": "dawxzw6714mP",
        "colab_type": "code",
        "colab": {
          "base_uri": "https://localhost:8080/",
          "height": 103
        },
        "outputId": "aed8df29-c20d-4610-c987-67e6e2b5f91c"
      },
      "source": [
        "df['Equipment'].value_counts()"
      ],
      "execution_count": 7,
      "outputs": [
        {
          "output_type": "execute_result",
          "data": {
            "text/plain": [
              "Single-ply    17572\n",
              "Raw           15832\n",
              "Wraps          1456\n",
              "Multi-ply       120\n",
              "Name: Equipment, dtype: int64"
            ]
          },
          "metadata": {
            "tags": []
          },
          "execution_count": 7
        }
      ]
    },
    {
      "cell_type": "code",
      "metadata": {
        "id": "h1vjGdP_16nv",
        "colab_type": "code",
        "colab": {
          "base_uri": "https://localhost:8080/",
          "height": 68
        },
        "outputId": "499d5419-8359-483a-94fc-ae5502fc6bd3"
      },
      "source": [
        "df.Sex.value_counts()"
      ],
      "execution_count": 8,
      "outputs": [
        {
          "output_type": "execute_result",
          "data": {
            "text/plain": [
              "M    27310\n",
              "F     7670\n",
              "Name: Sex, dtype: int64"
            ]
          },
          "metadata": {
            "tags": []
          },
          "execution_count": 8
        }
      ]
    },
    {
      "cell_type": "code",
      "metadata": {
        "id": "W1rU1KxU186O",
        "colab_type": "code",
        "colab": {
          "base_uri": "https://localhost:8080/",
          "height": 51
        },
        "outputId": "937ddcae-16b5-42d4-bf21-916f0296b409"
      },
      "source": [
        "squat_mean = [df['Best3SquatKg'].mean()]*len(df['Best3SquatKg'])\n",
        "squat = df['Best3SquatKg']\n",
        "print(mean_absolute_error(squat, squat_mean))\n",
        "print(r2_score(squat, squat_mean))"
      ],
      "execution_count": 9,
      "outputs": [
        {
          "output_type": "stream",
          "text": [
            "49.470480585737015\n",
            "1.1102230246251565e-16\n"
          ],
          "name": "stdout"
        }
      ]
    },
    {
      "cell_type": "code",
      "metadata": {
        "id": "8nB5-uZI1--y",
        "colab_type": "code",
        "colab": {
          "base_uri": "https://localhost:8080/",
          "height": 51
        },
        "outputId": "7c05f539-2266-418f-8ecb-474a96e90227"
      },
      "source": [
        "bench_mean = [df['Best3BenchKg'].mean()]*len(df['Best3BenchKg'])\n",
        "bench = df['Best3BenchKg']\n",
        "print(mean_absolute_error(bench, bench_mean))\n",
        "print(r2_score(bench, bench_mean))"
      ],
      "execution_count": 10,
      "outputs": [
        {
          "output_type": "stream",
          "text": [
            "34.92905712984417\n",
            "0.0\n"
          ],
          "name": "stdout"
        }
      ]
    },
    {
      "cell_type": "code",
      "metadata": {
        "id": "j0CTMQdU2BCX",
        "colab_type": "code",
        "colab": {
          "base_uri": "https://localhost:8080/",
          "height": 51
        },
        "outputId": "bec6e289-53ec-4249-9812-d19a34ffd607"
      },
      "source": [
        "deadlift_mean = [df['Best3DeadliftKg'].mean()]*len(df['Best3DeadliftKg'])\n",
        "deadlift = df['Best3DeadliftKg']\n",
        "print(mean_absolute_error(deadlift, deadlift_mean))\n",
        "print(r2_score(deadlift, deadlift_mean))"
      ],
      "execution_count": 11,
      "outputs": [
        {
          "output_type": "stream",
          "text": [
            "45.47948744070369\n",
            "0.0\n"
          ],
          "name": "stdout"
        }
      ]
    }
  ]
}