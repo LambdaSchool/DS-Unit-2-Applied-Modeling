{
  "nbformat": 4,
  "nbformat_minor": 0,
  "metadata": {
    "colab": {
      "name": "assignment_applied_modeling_1.ipynb",
      "version": "0.3.2",
      "provenance": [],
      "collapsed_sections": [],
      "include_colab_link": true
    },
    "kernelspec": {
      "display_name": "Python 3",
      "language": "python",
      "name": "python3"
    },
    "language_info": {
      "codemirror_mode": {
        "name": "ipython",
        "version": 3
      },
      "file_extension": ".py",
      "mimetype": "text/x-python",
      "name": "python",
      "nbconvert_exporter": "python",
      "pygments_lexer": "ipython3",
      "version": "3.7.4"
    }
  },
  "cells": [
    {
      "cell_type": "markdown",
      "metadata": {
        "id": "view-in-github",
        "colab_type": "text"
      },
      "source": [
        "<a href=\"https://colab.research.google.com/github/elliotgunn/DS-Unit-2-Applied-Modeling/blob/master/assignment_applied_modeling_1.ipynb\" target=\"_parent\"><img src=\"https://colab.research.google.com/assets/colab-badge.svg\" alt=\"Open In Colab\"/></a>"
      ]
    },
    {
      "cell_type": "markdown",
      "metadata": {
        "colab_type": "text",
        "id": "nCc3XZEyG3XV"
      },
      "source": [
        "Lambda School Data Science, Unit 2: Predictive Modeling\n",
        "\n",
        "# Applied Modeling, Module 1\n",
        "\n",
        "You will use your portfolio project dataset for all assignments this sprint.\n",
        "\n",
        "## Assignment\n",
        "\n",
        "Complete these tasks for your project, and document your decisions.\n",
        "\n",
        "- [x] Choose your target. Which column in your tabular dataset will you predict?\n",
        "- [x] Choose which observations you will use to train, validate, and test your model. And which observations, if any, to exclude.\n",
        "- [x] Determine whether your problem is regression or classification.\n",
        "- [x] Choose your evaluation metric.\n",
        "- [x] Begin with baselines: majority class baseline for classification, or mean baseline for regression, with your metric of choice.\n",
        "- [x] Begin to clean and explore your data.\n",
        "- [x] Choose which features, if any, to exclude. Would some features \"leak\" information from the future? **No**\n",
        "\n",
        "## Reading\n",
        "- [Attacking discrimination with smarter machine learning](https://research.google.com/bigpicture/attacking-discrimination-in-ml/), by Google Research, with  interactive visualizations. _\"A threshold classifier essentially makes a yes/no decision, putting things in one category or another. We look at how these classifiers work, ways they can potentially be unfair, and how you might turn an unfair classifier into a fairer one. As an illustrative example, we focus on loan granting scenarios where a bank may grant or deny a loan based on a single, automatically computed number such as a credit score.\"_\n",
        "- [How Shopify Capital Uses Quantile Regression To Help Merchants Succeed](https://engineering.shopify.com/blogs/engineering/how-shopify-uses-machine-learning-to-help-our-merchants-grow-their-business)\n",
        "- [Maximizing Scarce Maintenance Resources with Data: Applying predictive modeling, precision at k, and clustering to optimize impact](https://towardsdatascience.com/maximizing-scarce-maintenance-resources-with-data-8f3491133050), **by Lambda DS3 student** Michael Brady. His blog post extends the Tanzania Waterpumps scenario, far beyond what's in the lecture notebook.\n",
        "- [Notebook about how to calculate expected value from a confusion matrix by treating it as a cost-benefit matrix](https://github.com/podopie/DAT18NYC/blob/master/classes/13-expected_value_cost_benefit_analysis.ipynb)\n",
        "- [Simple guide to confusion matrix terminology](https://www.dataschool.io/simple-guide-to-confusion-matrix-terminology/) by Kevin Markham, with video\n",
        "- [Visualizing Machine Learning Thresholds to Make Better Business Decisions](https://blog.insightdatascience.com/visualizing-machine-learning-thresholds-to-make-better-business-decisions-4ab07f823415)"
      ]
    },
    {
      "cell_type": "code",
      "metadata": {
        "id": "aw4hV8GjQx8U",
        "colab_type": "code",
        "colab": {},
        "outputId": "10264bc4-025e-4aa7-f6e6-a877d7eb844c"
      },
      "source": [
        "# pip install category_encoders eli5 scipy xgboost"
      ],
      "execution_count": 0,
      "outputs": [
        {
          "output_type": "stream",
          "text": [
            "Requirement already satisfied: category_encoders in /anaconda3/lib/python3.7/site-packages (2.0.0)\n",
            "Requirement already satisfied: eli5 in /anaconda3/lib/python3.7/site-packages (0.10.0)\n",
            "Requirement already satisfied: scipy in /anaconda3/lib/python3.7/site-packages (1.3.1)\n",
            "Collecting xgboost\n",
            "  Using cached https://files.pythonhosted.org/packages/96/84/4e2cae6247f397f83d8adc5c2a2a0c5d7d790a14a4c7400ff6574586f589/xgboost-0.90.tar.gz\n",
            "^C\n",
            "\u001b[31mERROR: Operation cancelled by user\u001b[0m\n",
            "Note: you may need to restart the kernel to use updated packages.\n"
          ],
          "name": "stdout"
        }
      ]
    },
    {
      "cell_type": "code",
      "metadata": {
        "id": "r_qva8k8Qx8Z",
        "colab_type": "code",
        "colab": {},
        "outputId": "bd20916d-8c6e-435f-dde6-9da9f7bb22ff"
      },
      "source": [
        "# see installed packages\n",
        "import sys\n",
        "sys.path"
      ],
      "execution_count": 0,
      "outputs": [
        {
          "output_type": "execute_result",
          "data": {
            "text/plain": [
              "['/Users/elliotgunn/Desktop/Predictive Project',\n",
              " '//anaconda3/lib/python37.zip',\n",
              " '//anaconda3/lib/python3.7',\n",
              " '//anaconda3/lib/python3.7/lib-dynload',\n",
              " '',\n",
              " '//anaconda3/lib/python3.7/site-packages',\n",
              " '//anaconda3/lib/python3.7/site-packages/aeosa',\n",
              " '//anaconda3/lib/python3.7/site-packages/IPython/extensions',\n",
              " '/Users/elliotgunn/.ipython']"
            ]
          },
          "metadata": {
            "tags": []
          },
          "execution_count": 15
        }
      ]
    },
    {
      "cell_type": "code",
      "metadata": {
        "id": "sQ9PWrjgQx8b",
        "colab_type": "code",
        "colab": {},
        "outputId": "67243831-2a08-473b-eb56-1d4512bdfac6"
      },
      "source": [
        "# the python path and the executable used by the notebook must match for package installation\n",
        "!type python\n"
      ],
      "execution_count": 0,
      "outputs": [
        {
          "output_type": "stream",
          "text": [
            "python is //anaconda3/bin/python\r\n"
          ],
          "name": "stdout"
        }
      ]
    },
    {
      "cell_type": "code",
      "metadata": {
        "id": "CaTcCnuOQx8f",
        "colab_type": "code",
        "colab": {},
        "outputId": "b1a471fd-8530-4a67-bd18-023376c3a539"
      },
      "source": [
        "sys.executable\n"
      ],
      "execution_count": 0,
      "outputs": [
        {
          "output_type": "execute_result",
          "data": {
            "text/plain": [
              "'//anaconda3/bin/python'"
            ]
          },
          "metadata": {
            "tags": []
          },
          "execution_count": 17
        }
      ]
    },
    {
      "cell_type": "code",
      "metadata": {
        "scrolled": false,
        "id": "2PS7cg5jQx8l",
        "colab_type": "code",
        "colab": {}
      },
      "source": [
        "# update all packages\n",
        "# conda update --all"
      ],
      "execution_count": 0,
      "outputs": []
    },
    {
      "cell_type": "markdown",
      "metadata": {
        "colab_type": "text",
        "id": "JTjX_ppJ0frK"
      },
      "source": [
        "## Research\n",
        "\n",
        "https://www.sciencedirect.com/science/article/pii/S0968090X18311021\n",
        "\n",
        "https://academic.oup.com/tse/advance-article/doi/10.1093/tse/tdy001/5306170"
      ]
    },
    {
      "cell_type": "markdown",
      "metadata": {
        "colab_type": "text",
        "id": "-wm16ZcBuxcd"
      },
      "source": [
        "## Import multiple files from directory and `concat` into single df\n",
        "\n",
        "Example: \n",
        "\n",
        "https://stackoverflow.com/questions/20908018/import-multiple-excel-files-into-python-pandas-and-concatenate-them-into-one-dat\n",
        "https://stackoverflow.com/questions/20906474/import-multiple-csv-files-into-pandas-and-concatenate-into-one-dataframe\n"
      ]
    },
    {
      "cell_type": "code",
      "metadata": {
        "colab_type": "code",
        "id": "ROYUg9RTut8b",
        "colab": {}
      },
      "source": [
        "# this is from 2014 - April 2017\n",
        "df_2014_to_2017_url = 'https://www.toronto.ca/ext/open_data/catalog/data_set_files/Subway%20&%20SRT%20Logs%20(Jan01_14%20to%20April30_17).xlsx'\n",
        "\n",
        "# TRAIN\n",
        "df_2017_May_url = \"https://www.toronto.ca/ext/open_data/catalog/data_set_files/Subway%20&%20SRT%20Logs%20(May%202017).xlsx\"\n",
        "\n",
        "df_2017_June_url = \"https://www.toronto.ca/ext/open_data/catalog/data_set_files/SubwayDelay201706.xlsx\"\n",
        "\n",
        "\n",
        "# TEST\n",
        "df_2019_Jan_url = \"https://www.toronto.ca/ext/open_data/catalog/data_set_files/Subway_&_SRT_Logs_January_2019.xlsx\"\n",
        "\n",
        "df_2019_Feb_url = \"https://www.toronto.ca/ext/open_data/catalog/data_set_files/Subway_&_SRT_Logs_February2019.xlsx\"\n",
        "\n",
        "import pandas as pd\n",
        "\n",
        "df1 = pd.read_excel(df_2014_to_2017_url)\n",
        "df2 = pd.read_excel(df_2017_May_url)\n",
        "df3 = pd.read_excel(df_2017_June_url)\n",
        "\n",
        "test1 = pd.read_excel(df_2019_Jan_url)\n",
        "test2 = pd.read_excel(df_2019_Feb_url)"
      ],
      "execution_count": 0,
      "outputs": []
    },
    {
      "cell_type": "code",
      "metadata": {
        "colab_type": "code",
        "id": "UelzmJbMv9x6",
        "outputId": "bddac4d6-d293-4a61-f4cf-5774e43830a6",
        "colab": {
          "base_uri": "https://localhost:8080/",
          "height": 68
        }
      },
      "source": [
        "print(df1.shape)\n",
        "print(df2.shape)\n",
        "print(df3.shape)"
      ],
      "execution_count": 0,
      "outputs": [
        {
          "output_type": "stream",
          "text": [
            "(69016, 10)\n",
            "(1634, 10)\n",
            "(1568, 10)\n"
          ],
          "name": "stdout"
        }
      ]
    },
    {
      "cell_type": "markdown",
      "metadata": {
        "colab_type": "text",
        "id": "t1EEMLwb39dQ"
      },
      "source": [
        "Keep in mind that unlike the append() and extend() methods of Python lists, the append() method in Pandas does not modify the original object–instead it creates a new object with the combined data. It also is not a very efficient method, because it involves creation of a new index and data buffer. Thus, if you plan to do multiple append operations, it is generally better to build a list of DataFrames and pass them all at once to the concat() function. [link text](https://jakevdp.github.io/PythonDataScienceHandbook/03.06-concat-and-append.html)\n",
        "\n"
      ]
    },
    {
      "cell_type": "code",
      "metadata": {
        "colab_type": "code",
        "id": "Cs3IDOxI16Zl",
        "outputId": "e4cc40e3-e613-4d78-a159-88f40856f1e9",
        "colab": {
          "base_uri": "https://localhost:8080/",
          "height": 34
        }
      },
      "source": [
        "# in future: try to do this programmatically...\n",
        "\n",
        "train_dfs = [df1, df2, df3]\n",
        "train = pd.concat(train_dfs)\n",
        "\n",
        "test_dfs = [test1, test2]\n",
        "test = pd.concat(test_dfs)\n",
        "\n",
        "all_dfs = train_dfs + test_dfs\n",
        "all = pd.concat(all_dfs)\n",
        "\n",
        "train.shape, test.shape, all.shape"
      ],
      "execution_count": 0,
      "outputs": [
        {
          "output_type": "execute_result",
          "data": {
            "text/plain": [
              "((72218, 10), (3469, 10), (75687, 10))"
            ]
          },
          "metadata": {
            "tags": []
          },
          "execution_count": 21
        }
      ]
    },
    {
      "cell_type": "markdown",
      "metadata": {
        "colab_type": "text",
        "id": "C4LvYmYbEMps"
      },
      "source": [
        "## Baselines"
      ]
    },
    {
      "cell_type": "code",
      "metadata": {
        "colab_type": "code",
        "id": "xyxZjlaZEOo-",
        "scrolled": true,
        "colab": {},
        "outputId": "a7bd9316-8d8d-4d32-c811-8f9ecd8d66c2"
      },
      "source": [
        "# majority class baseline\n",
        "\n",
        "all['Code'].value_counts(normalize=True)"
      ],
      "execution_count": 0,
      "outputs": [
        {
          "output_type": "execute_result",
          "data": {
            "text/plain": [
              "MUSC     0.178512\n",
              "TUSC     0.131357\n",
              "MUPAA    0.061900\n",
              "MUGD     0.053153\n",
              "MUIS     0.052070\n",
              "MUO      0.040020\n",
              "SUDP     0.035409\n",
              "MUIR     0.030335\n",
              "MUI      0.026411\n",
              "TUMVS    0.022527\n",
              "PUMEL    0.021602\n",
              "MUNCA    0.019937\n",
              "EUDO     0.015709\n",
              "EUBK     0.014296\n",
              "SUO      0.013979\n",
              "MUTO     0.011785\n",
              "MUIRS    0.011125\n",
              "MUPLB    0.009989\n",
              "PUMST    0.009724\n",
              "MUDD     0.009513\n",
              "TUOS     0.008641\n",
              "PUSTS    0.008060\n",
              "MRTO     0.007571\n",
              "SUUT     0.007505\n",
              "PUSI     0.007386\n",
              "SUAP     0.007214\n",
              "EUSC     0.007069\n",
              "TUO      0.006619\n",
              "PUSNT    0.006183\n",
              "EUNT     0.005866\n",
              "           ...   \n",
              "PUTTP    0.000053\n",
              "ERVE     0.000040\n",
              "PUEO     0.000040\n",
              "PRSW     0.000040\n",
              "XXXXX    0.000040\n",
              "SRAE     0.000040\n",
              "MTUI     0.000040\n",
              "PUSAC    0.000026\n",
              "EUCH     0.000026\n",
              "ERRA     0.000026\n",
              "SRSA     0.000026\n",
              "MUCSA    0.000026\n",
              "PUSEA    0.000026\n",
              "MUEC     0.000026\n",
              "ERLT     0.000026\n",
              "SFO      0.000026\n",
              "SFAP     0.000013\n",
              "SRBT     0.000013\n",
              "MTO      0.000013\n",
              "TRDOE    0.000013\n",
              "SFAE     0.000013\n",
              "ETCA     0.000013\n",
              "SRSP     0.000013\n",
              "MUPF     0.000013\n",
              "PUATC    0.000013\n",
              "PUSIC    0.000013\n",
              "ERTO     0.000013\n",
              "TUTD     0.000013\n",
              "PRSL     0.000013\n",
              "PUTN     0.000013\n",
              "Name: Code, Length: 200, dtype: float64"
            ]
          },
          "metadata": {
            "tags": []
          },
          "execution_count": 22
        }
      ]
    },
    {
      "cell_type": "code",
      "metadata": {
        "colab_type": "code",
        "id": "T-FaRqb4FAgV",
        "outputId": "07810a95-beff-4c67-d678-d85fe08ca33a",
        "colab": {
          "base_uri": "https://localhost:8080/",
          "height": 34
        }
      },
      "source": [
        "# majority: MUSC     0.178512\n",
        "\n",
        "majority_class = all['Code'].mode()[0]\n",
        "pred = [majority_class] * len(all['Code'])\n",
        "\n",
        "# use metric: accuracy for classification\n",
        "from sklearn.metrics import accuracy_score\n",
        "accuracy_score(all['Code'], pred)"
      ],
      "execution_count": 0,
      "outputs": [
        {
          "output_type": "execute_result",
          "data": {
            "text/plain": [
              "0.1785115013146247"
            ]
          },
          "metadata": {
            "tags": []
          },
          "execution_count": 23
        }
      ]
    },
    {
      "cell_type": "markdown",
      "metadata": {
        "colab_type": "text",
        "id": "46JDYjAk72aD"
      },
      "source": [
        "## Choose your target. Which column in your tabular dataset will you predict?\n",
        "\n",
        "1. Predict delay time:  `Min Time` (Regression)\n",
        "2. Predict delay class:  `Code` (Classification)\n"
      ]
    },
    {
      "cell_type": "markdown",
      "metadata": {
        "colab_type": "text",
        "id": "Hef5b3Iu0wH-"
      },
      "source": [
        "## Feature engineering approaches:\n",
        "\n",
        "> But Stockholmståg has found a way to use that data to also predict the ripple effect a single delay has on its entire system. An accident somewhere along its route means a train will be delayed before it rolls into the next station. But that also affects the train behind it, and the train behind it, and so forth. Eventually a single incident can throw off the scheduling of an entire commuter system, even if the original source of the disruption has already been resolved. [link](https://gizmodo.com/a-new-algorithm-can-predict-subway-delays-two-hours-bef-1729539784)\n",
        "\n"
      ]
    },
    {
      "cell_type": "markdown",
      "metadata": {
        "colab_type": "text",
        "id": "2bNmEPsKFg3v"
      },
      "source": [
        "## Wrangle + train/val/test + pipeline"
      ]
    },
    {
      "cell_type": "code",
      "metadata": {
        "colab_type": "code",
        "id": "xJDrYnQ1-Ipa",
        "colab": {}
      },
      "source": [
        "def wrangle(X):\n",
        "  \n",
        "  X = X.copy()\n",
        "  \n",
        "  # drop 'Code' values with less than 1 in a class\n",
        "  X = X[X.groupby('Code').Day.transform(len) >1]\n",
        "  \n",
        "  # Convert 'Date' to datetime\n",
        "  X['Date'] = pd.to_datetime(X['Date'], infer_datetime_format=True)\n",
        "  \n",
        "  # Extract components from 'Date', then drop original column\n",
        "  X['year'] = X['Date'].dt.year\n",
        "  X['month'] = X['Date'].dt.month\n",
        "  X['day'] = X['Date'].dt.day\n",
        "  X = X.drop(columns='Date')\n",
        "  \n",
        "  # 'Time' is a timestamp: we have hour and minute information\n",
        "  # Extract components from 'Time', then drop original column\n",
        "  X['Time'] = pd.to_datetime(X['Time'], infer_datetime_format=True)\n",
        "  X['hour'] = X['Time'].dt.hour\n",
        "  X['minute'] = X['Time'].dt.minute\n",
        "  X = X.drop(columns='Time')\n",
        "  \n",
        "  # Return wrangled dataframe\n",
        "  return X\n",
        "\n",
        "train = wrangle(train)\n",
        "test = wrangle(test)"
      ],
      "execution_count": 0,
      "outputs": []
    },
    {
      "cell_type": "code",
      "metadata": {
        "colab_type": "code",
        "id": "UmQDM2rS5iS9",
        "colab": {}
      },
      "source": [
        "from sklearn.model_selection import train_test_split\n",
        "\n",
        "# Split train into train & val. Make val the same size as test.\n",
        "train, val = train_test_split(train, test_size=len(test),  \n",
        "                              stratify=train['Code'], random_state=42)\n",
        "\n",
        "# arrange data into X features matrix and y target vector\n",
        "target = 'Code'\n",
        "X_train = train.drop(columns=target)\n",
        "y_train = train[target]\n",
        "X_val = val.drop(columns=target)\n",
        "y_val = val[target]\n",
        "X_test = test"
      ],
      "execution_count": 0,
      "outputs": []
    },
    {
      "cell_type": "code",
      "metadata": {
        "id": "hgTtCCT7Qx9F",
        "colab_type": "code",
        "colab": {}
      },
      "source": [
        ""
      ],
      "execution_count": 0,
      "outputs": []
    },
    {
      "cell_type": "code",
      "metadata": {
        "colab_type": "code",
        "id": "FU2_Y7-26x-g",
        "outputId": "618e8de2-5652-4f03-c2ad-778af242cc21",
        "colab": {
          "base_uri": "https://localhost:8080/",
          "height": 34
        }
      },
      "source": [
        "import category_encoders as ce\n",
        "from sklearn.impute import SimpleImputer\n",
        "from sklearn.ensemble import RandomForestClassifier\n",
        "from sklearn.model_selection import train_test_split\n",
        "from sklearn.pipeline import make_pipeline\n",
        "\n",
        "pipeline = make_pipeline(\n",
        "    ce.OrdinalEncoder(), \n",
        "    SimpleImputer(strategy='median'), \n",
        "    RandomForestClassifier(n_estimators=100, random_state=42, n_jobs=-1)\n",
        ")\n",
        "\n",
        "# Fit on train, score on val\n",
        "pipeline.fit(X_train, y_train)\n",
        "print('Validation Accuracy', pipeline.score(X_val, y_val))"
      ],
      "execution_count": 0,
      "outputs": [
        {
          "output_type": "stream",
          "text": [
            "Validation Accuracy 0.4238122827346466\n"
          ],
          "name": "stdout"
        }
      ]
    },
    {
      "cell_type": "markdown",
      "metadata": {
        "colab_type": "text",
        "id": "TljrF_ooJts5"
      },
      "source": [
        "## Eval metric"
      ]
    },
    {
      "cell_type": "code",
      "metadata": {
        "colab_type": "code",
        "id": "0_eQmIxrIkai",
        "colab": {}
      },
      "source": [
        "# generate predicted\n",
        "y_pred = pipeline.predict(X_val)"
      ],
      "execution_count": 0,
      "outputs": []
    },
    {
      "cell_type": "code",
      "metadata": {
        "colab_type": "code",
        "id": "124hXpE4J0QX",
        "outputId": "1cac885b-f255-42fc-d775-98d09e3161a3",
        "colab": {
          "base_uri": "https://localhost:8080/",
          "height": 224
        }
      },
      "source": [
        "# print('Precision,' precision_score(y_val, y_pred))\n",
        "\n",
        "from sklearn.metrics import precision_score, recall_score\n",
        "\n",
        "print('Precision Score (micro): ', precision_score(y_val, y_pred, average='micro'))\n",
        "print('Precision Score (macro): ', precision_score(y_val, y_pred, average='macro'))\n",
        "print('Precision Score (weighted): ', precision_score(y_val, y_pred, average='weighted'))\n",
        "print('')\n",
        "print('Recall Score (micro): ', recall_score(y_val, y_pred, average='micro'))\n",
        "print('Recall Score (macro): ', recall_score(y_val, y_pred, average='macro'))\n",
        "print('Recall Score (weighted): ', recall_score(y_val, y_pred, average='weighted'))"
      ],
      "execution_count": 0,
      "outputs": [
        {
          "output_type": "stream",
          "text": [
            "Precision Score (micro):  0.4238122827346466\n",
            "Precision Score (macro):  0.17160970923370134\n",
            "Precision Score (weighted):  0.3726795602253628\n",
            "\n",
            "Recall Score (micro):  0.4238122827346466\n",
            "Recall Score (macro):  0.13043691600932608\n",
            "Recall Score (weighted):  0.4238122827346466\n"
          ],
          "name": "stdout"
        },
        {
          "output_type": "stream",
          "text": [
            "//anaconda3/lib/python3.7/site-packages/sklearn/metrics/classification.py:1437: UndefinedMetricWarning: Precision is ill-defined and being set to 0.0 in labels with no predicted samples.\n",
            "  'precision', 'predicted', average, warn_for)\n",
            "//anaconda3/lib/python3.7/site-packages/sklearn/metrics/classification.py:1439: UndefinedMetricWarning: Recall is ill-defined and being set to 0.0 in labels with no true samples.\n",
            "  'recall', 'true', average, warn_for)\n"
          ],
          "name": "stderr"
        }
      ]
    },
    {
      "cell_type": "code",
      "metadata": {
        "colab_type": "code",
        "id": "FX34fIuaIHOl",
        "colab": {},
        "outputId": "ff9132d0-0ead-454a-f94e-e4c50800e4b1"
      },
      "source": [
        "from sklearn.metrics import classification_report\n",
        "print(classification_report(y_val, y_pred))"
      ],
      "execution_count": 0,
      "outputs": [
        {
          "output_type": "stream",
          "text": [
            "//anaconda3/lib/python3.7/site-packages/sklearn/metrics/classification.py:1437: UndefinedMetricWarning: Precision and F-score are ill-defined and being set to 0.0 in labels with no predicted samples.\n",
            "  'precision', 'predicted', average, warn_for)\n",
            "//anaconda3/lib/python3.7/site-packages/sklearn/metrics/classification.py:1439: UndefinedMetricWarning: Recall and F-score are ill-defined and being set to 0.0 in labels with no true samples.\n",
            "  'recall', 'true', average, warn_for)\n"
          ],
          "name": "stderr"
        },
        {
          "output_type": "stream",
          "text": [
            "              precision    recall  f1-score   support\n",
            "\n",
            "        ERDB       0.00      0.00      0.00         1\n",
            "        ERDO       0.15      0.17      0.16        12\n",
            "        ERLV       0.00      0.00      0.00         1\n",
            "       ERNEA       1.00      1.00      1.00         1\n",
            "        ERNT       0.00      0.00      0.00         2\n",
            "        ERPR       0.00      0.00      0.00         6\n",
            "        ERTB       0.00      0.00      0.00         1\n",
            "        ERTC       0.35      0.43      0.39        14\n",
            "        ERTL       0.00      0.00      0.00         1\n",
            "        ERWA       0.00      0.00      0.00         1\n",
            "        EUAC       0.33      0.29      0.31         7\n",
            "        EUAL       0.00      0.00      0.00         1\n",
            "        EUBK       0.06      0.02      0.03        51\n",
            "        EUBO       0.00      0.00      0.00        10\n",
            "        EUCA       0.00      0.00      0.00         1\n",
            "        EUCD       0.00      0.00      0.00         4\n",
            "        EUCO       0.00      0.00      0.00         2\n",
            "        EUDO       0.16      0.22      0.19        54\n",
            "       EUECD       0.00      0.00      0.00         1\n",
            "        EULT       0.00      0.00      0.00         1\n",
            "        EULV       0.00      0.00      0.00         2\n",
            "        EUME       0.00      0.00      0.00         4\n",
            "       EUNEA       0.67      0.67      0.67         3\n",
            "        EUNT       0.08      0.05      0.06        20\n",
            "         EUO       0.00      0.00      0.00         3\n",
            "        EUOE       0.00      0.00      0.00         6\n",
            "       EUOPO       0.00      0.00      0.00         1\n",
            "        EUPI       0.20      0.11      0.14         9\n",
            "        EUSC       0.40      0.10      0.16        20\n",
            "        EUTL       0.00      0.00      0.00         2\n",
            "        EUTR       0.00      0.00      0.00         3\n",
            "       EUTRD       0.00      0.00      0.00        11\n",
            "        EUVA       0.00      0.00      0.00         4\n",
            "        EUVE       0.00      0.00      0.00         2\n",
            "       EUYRD       0.33      0.20      0.25         5\n",
            "       MRNOA       0.00      0.00      0.00         1\n",
            "         MRO       0.65      0.68      0.67        19\n",
            "       MRPAA       0.00      0.00      0.00         3\n",
            "       MRPLB       0.00      0.00      0.00         1\n",
            "        MRTO       0.35      0.81      0.49        26\n",
            "        MRUI       0.50      0.25      0.33         4\n",
            "       MRUIR       0.00      0.00      0.00         2\n",
            "       MRWEA       0.00      0.00      0.00         3\n",
            "        MUCL       0.00      0.00      0.00         1\n",
            "         MUD       0.00      0.00      0.00        15\n",
            "        MUDD       0.16      0.09      0.12        32\n",
            "        MUFM       0.00      0.00      0.00         1\n",
            "        MUGD       0.96      0.99      0.97       188\n",
            "         MUI       0.22      0.40      0.29        92\n",
            "        MUIE       0.00      0.00      0.00         2\n",
            "        MUIR       0.25      0.26      0.25       105\n",
            "       MUIRS       0.17      0.03      0.05        38\n",
            "        MUIS       0.42      0.77      0.55       175\n",
            "       MUNCA       0.45      0.46      0.45        70\n",
            "       MUNOA       0.50      0.35      0.41        17\n",
            "         MUO       0.70      0.53      0.60       139\n",
            "       MUPAA       0.37      0.41      0.39       215\n",
            "       MUPLA       0.00      0.00      0.00         1\n",
            "       MUPLB       0.37      0.46      0.41        35\n",
            "       MUPLC       0.00      0.00      0.00         4\n",
            "       MUPR1       0.60      0.75      0.67         4\n",
            "       MUSAN       0.10      0.05      0.07        20\n",
            "        MUSC       0.50      0.71      0.59       624\n",
            "        MUTD       0.00      0.00      0.00         8\n",
            "        MUTO       0.24      0.20      0.22        41\n",
            "       MUWEA       0.00      0.00      0.00         4\n",
            "        MUWR       0.00      0.00      0.00         3\n",
            "        PREL       0.00      0.00      0.00         2\n",
            "         PRO       0.00      0.00      0.00         3\n",
            "         PRS       0.00      0.00      0.00         3\n",
            "        PRST       0.00      0.00      0.00         1\n",
            "         PRW       0.00      0.00      0.00         2\n",
            "       PUCSC       0.00      0.00      0.00         2\n",
            "       PUCSS       0.00      0.00      0.00         1\n",
            "       PUMEL       0.33      0.22      0.26        74\n",
            "        PUMO       1.00      0.08      0.15        12\n",
            "       PUMST       0.00      0.00      0.00        34\n",
            "       PUOPO       0.33      0.80      0.47         5\n",
            "       PUSCA       0.00      0.00      0.00         1\n",
            "       PUSCR       0.00      0.00      0.00         4\n",
            "        PUSI       0.67      0.08      0.14        26\n",
            "       PUSIS       0.67      0.17      0.27        12\n",
            "       PUSNT       0.40      0.10      0.15        21\n",
            "        PUSO       0.00      0.00      0.00        16\n",
            "       PUSRA       0.00      0.00      0.00         5\n",
            "       PUSSW       0.00      0.00      0.00         6\n",
            "       PUSTC       0.00      0.00      0.00        15\n",
            "       PUSTP       0.00      0.00      0.00         1\n",
            "       PUSTS       0.50      0.04      0.07        28\n",
            "       PUSWZ       0.00      0.00      0.00         2\n",
            "       PUTCD       0.00      0.00      0.00         0\n",
            "        PUTD       0.00      0.00      0.00         3\n",
            "       PUTDN       0.00      0.00      0.00         4\n",
            "       PUTIJ       0.33      0.06      0.10        18\n",
            "       PUTIS       0.50      0.10      0.17        10\n",
            "       PUTNT       0.00      0.00      0.00         2\n",
            "        PUTO       0.50      0.12      0.20         8\n",
            "       PUTOE       0.75      0.60      0.67         5\n",
            "        PUTR       0.00      0.00      0.00         2\n",
            "        PUTS       0.00      0.00      0.00         1\n",
            "       PUTSC       0.00      0.00      0.00         1\n",
            "       PUTSM       0.00      0.00      0.00         1\n",
            "       PUTTC       0.00      0.00      0.00         2\n",
            "       PUTWZ       0.25      0.50      0.33         6\n",
            "        SRAP       0.00      0.00      0.00         1\n",
            "       SRCOL       0.00      0.00      0.00         1\n",
            "        SRDP       0.00      0.00      0.00         2\n",
            "         SRO       1.00      0.33      0.50         3\n",
            "        SRUT       0.00      0.00      0.00         1\n",
            "        SUAE       0.00      0.00      0.00        13\n",
            "        SUAP       0.00      0.00      0.00        24\n",
            "        SUBT       1.00      0.50      0.67         2\n",
            "       SUCOL       0.00      0.00      0.00        20\n",
            "        SUDP       0.09      0.11      0.10       118\n",
            "       SUEAS       0.00      0.00      0.00         7\n",
            "         SUG       0.33      0.20      0.25         5\n",
            "         SUO       0.00      0.00      0.00        48\n",
            "       SUPOL       0.00      0.00      0.00         4\n",
            "       SUROB       0.00      0.00      0.00         6\n",
            "        SUSA       0.00      0.00      0.00         7\n",
            "        SUSP       0.00      0.00      0.00         3\n",
            "        SUUT       0.00      0.00      0.00        26\n",
            "       TRNCA       0.33      0.50      0.40         2\n",
            "       TRNIP       0.00      0.00      0.00         1\n",
            "       TRNOA       0.00      0.00      0.00         1\n",
            "         TRO       0.00      0.00      0.00         1\n",
            "        TRST       1.00      0.50      0.67         2\n",
            "        TRTC       0.00      0.00      0.00         1\n",
            "        TUCC       0.00      0.00      0.00        10\n",
            "       TUDOE       0.00      0.00      0.00         2\n",
            "       TUKEY       0.00      0.00      0.00         4\n",
            "        TUML       1.00      0.50      0.67         2\n",
            "       TUMVS       0.00      0.00      0.00        78\n",
            "       TUNCA       0.00      0.00      0.00         1\n",
            "       TUNIP       0.15      0.18      0.16        17\n",
            "       TUNOA       0.15      0.17      0.16        12\n",
            "         TUO       0.22      0.09      0.13        22\n",
            "        TUOS       0.33      0.10      0.16        29\n",
            "         TUS       0.00      0.00      0.00         3\n",
            "        TUSC       0.45      0.58      0.50       465\n",
            "       TUSET       0.00      0.00      0.00         1\n",
            "        TUST       1.00      0.60      0.75         5\n",
            "       TUSUP       0.00      0.00      0.00         3\n",
            "\n",
            "    accuracy                           0.42      3452\n",
            "   macro avg       0.17      0.13      0.13      3452\n",
            "weighted avg       0.37      0.42      0.38      3452\n",
            "\n"
          ],
          "name": "stdout"
        }
      ]
    },
    {
      "cell_type": "markdown",
      "metadata": {
        "id": "hVgyJqU1Qx9V",
        "colab_type": "text"
      },
      "source": [
        "## Plot the distribution of your target.\n",
        "Classification: Are your classes imbalanced? Then, don't use just accuracy. And try class_balance parameter in scikit-learn."
      ]
    },
    {
      "cell_type": "code",
      "metadata": {
        "scrolled": false,
        "id": "QiFMPZgTQx9X",
        "colab_type": "code",
        "colab": {},
        "outputId": "59b15fda-dc40-4207-98f7-2dcb7c3cd6e8"
      },
      "source": [
        "%%time\n",
        "\n",
        "pipeline = make_pipeline(\n",
        "    ce.OrdinalEncoder(), \n",
        "    SimpleImputer(strategy='median'), \n",
        "    RandomForestClassifier(n_estimators=200, random_state=42, class_weight='balanced', n_jobs=-1)\n",
        ")\n",
        "\n",
        "# Fit on train, score on val\n",
        "pipeline.fit(X_train, y_train)\n",
        "print('Validation Accuracy', pipeline.score(X_val, y_val))"
      ],
      "execution_count": 0,
      "outputs": [
        {
          "output_type": "stream",
          "text": [
            "Validation Accuracy 0.40382387022016225\n",
            "CPU times: user 1min 37s, sys: 26.1 s, total: 2min 3s\n",
            "Wall time: 47.4 s\n"
          ],
          "name": "stdout"
        }
      ]
    },
    {
      "cell_type": "markdown",
      "metadata": {
        "id": "jw-mds7xQx9e",
        "colab_type": "text"
      },
      "source": [
        "## Make exploratory visualizations\n"
      ]
    },
    {
      "cell_type": "code",
      "metadata": {
        "id": "sPKzTnovQx9f",
        "colab_type": "code",
        "colab": {},
        "outputId": "e1a42032-eb64-4bd6-e34b-e113e6a6dc15"
      },
      "source": [
        "# feature importances\n",
        "\n",
        "# get feature importances\n",
        "rf = pipeline.named_steps['randomforestclassifier']\n",
        "\n",
        "importances = pd.Series(rf.feature_importances_, X_train.columns)\n",
        "\n",
        "# plot feature importances\n",
        "%matplotlib inline\n",
        "import matplotlib.pyplot as plt\n",
        "\n",
        "n = 20\n",
        "plt.figure(figsize=(10, n/2))\n",
        "plt.title(f'Top {n} features')\n",
        "importances.sort_values()[-n:].plot.barh(color='grey');"
      ],
      "execution_count": 0,
      "outputs": [
        {
          "output_type": "display_data",
          "data": {
            "image/png": "[encoded data removed]",
            "text/plain": [
              "<Figure size 720x720 with 1 Axes>"
            ]
          },
          "metadata": {
            "tags": [],
            "needs_background": "light"
          }
        }
      ]
    },
    {
      "cell_type": "code",
      "metadata": {
        "id": "L8OtXfClQx9i",
        "colab_type": "code",
        "colab": {},
        "outputId": "b33d5a9e-a838-4b67-aabc-67f76aada209"
      },
      "source": [
        "# permutation importances\n",
        "\n",
        "transformers = make_pipeline(\n",
        "    ce.OrdinalEncoder(),\n",
        "    SimpleImputer(strategy='median')\n",
        ")\n",
        "\n",
        "X_train_transformed = transformers.fit_transform(X_train)\n",
        "X_val_transformed = transformers.transform(X_val)\n",
        "\n",
        "model = RandomForestClassifier(n_estimators=100, random_state=42, class_weight='balanced', n_jobs=-1)\n",
        "model.fit(X_train_transformed, y_train)\n",
        "\n",
        "# this runs predict() on each feature\n",
        "\n",
        "import eli5\n",
        "from eli5.sklearn import PermutationImportance\n",
        "\n",
        "permuter = PermutationImportance(\n",
        "    model, scoring='accuracy', n_iter=2, random_state=42\n",
        ")\n",
        "\n",
        "permuter.fit(X_val_transformed, y_val)\n",
        "\n",
        "feature_names = X_val.columns.tolist()\n",
        "\n",
        "eli5.show_weights(\n",
        "    permuter, \n",
        "    top=None,  # show the permutation importances for all features\n",
        "    feature_names=feature_names\n",
        ")"
      ],
      "execution_count": 0,
      "outputs": [
        {
          "output_type": "execute_result",
          "data": {
            "text/html": [
              "\n",
              "    <style>\n",
              "    table.eli5-weights tr:hover {\n",
              "        filter: brightness(85%);\n",
              "    }\n",
              "</style>\n",
              "\n",
              "\n",
              "\n",
              "    \n",
              "\n",
              "    \n",
              "\n",
              "    \n",
              "\n",
              "    \n",
              "\n",
              "    \n",
              "\n",
              "    \n",
              "\n",
              "\n",
              "    \n",
              "\n",
              "    \n",
              "\n",
              "    \n",
              "\n",
              "    \n",
              "\n",
              "    \n",
              "\n",
              "    \n",
              "\n",
              "\n",
              "    \n",
              "\n",
              "    \n",
              "\n",
              "    \n",
              "\n",
              "    \n",
              "\n",
              "    \n",
              "        <table class=\"eli5-weights eli5-feature-importances\" style=\"border-collapse: collapse; border: none; margin-top: 0em; table-layout: auto;\">\n",
              "    <thead>\n",
              "    <tr style=\"border: none;\">\n",
              "        <th style=\"padding: 0 1em 0 0.5em; text-align: right; border: none;\">Weight</th>\n",
              "        <th style=\"padding: 0 0.5em 0 0.5em; text-align: left; border: none;\">Feature</th>\n",
              "    </tr>\n",
              "    </thead>\n",
              "    <tbody>\n",
              "    \n",
              "        <tr style=\"background-color: hsl(120, 100.00%, 80.00%); border: none;\">\n",
              "            <td style=\"padding: 0 1em 0 0.5em; text-align: right; border: none;\">\n",
              "                0.1231\n",
              "                \n",
              "                    &plusmn; 0.0052\n",
              "                \n",
              "            </td>\n",
              "            <td style=\"padding: 0 0.5em 0 0.5em; text-align: left; border: none;\">\n",
              "                Vehicle\n",
              "            </td>\n",
              "        </tr>\n",
              "    \n",
              "        <tr style=\"background-color: hsl(120, 100.00%, 85.14%); border: none;\">\n",
              "            <td style=\"padding: 0 1em 0 0.5em; text-align: right; border: none;\">\n",
              "                0.0805\n",
              "                \n",
              "                    &plusmn; 0.0000\n",
              "                \n",
              "            </td>\n",
              "            <td style=\"padding: 0 0.5em 0 0.5em; text-align: left; border: none;\">\n",
              "                Station\n",
              "            </td>\n",
              "        </tr>\n",
              "    \n",
              "        <tr style=\"background-color: hsl(120, 100.00%, 86.93%); border: none;\">\n",
              "            <td style=\"padding: 0 1em 0 0.5em; text-align: right; border: none;\">\n",
              "                0.0671\n",
              "                \n",
              "                    &plusmn; 0.0078\n",
              "                \n",
              "            </td>\n",
              "            <td style=\"padding: 0 0.5em 0 0.5em; text-align: left; border: none;\">\n",
              "                Bound\n",
              "            </td>\n",
              "        </tr>\n",
              "    \n",
              "        <tr style=\"background-color: hsl(120, 100.00%, 89.73%); border: none;\">\n",
              "            <td style=\"padding: 0 1em 0 0.5em; text-align: right; border: none;\">\n",
              "                0.0475\n",
              "                \n",
              "                    &plusmn; 0.0012\n",
              "                \n",
              "            </td>\n",
              "            <td style=\"padding: 0 0.5em 0 0.5em; text-align: left; border: none;\">\n",
              "                hour\n",
              "            </td>\n",
              "        </tr>\n",
              "    \n",
              "        <tr style=\"background-color: hsl(120, 100.00%, 90.08%); border: none;\">\n",
              "            <td style=\"padding: 0 1em 0 0.5em; text-align: right; border: none;\">\n",
              "                0.0452\n",
              "                \n",
              "                    &plusmn; 0.0041\n",
              "                \n",
              "            </td>\n",
              "            <td style=\"padding: 0 0.5em 0 0.5em; text-align: left; border: none;\">\n",
              "                Min Delay\n",
              "            </td>\n",
              "        </tr>\n",
              "    \n",
              "        <tr style=\"background-color: hsl(120, 100.00%, 91.53%); border: none;\">\n",
              "            <td style=\"padding: 0 1em 0 0.5em; text-align: right; border: none;\">\n",
              "                0.0361\n",
              "                \n",
              "                    &plusmn; 0.0014\n",
              "                \n",
              "            </td>\n",
              "            <td style=\"padding: 0 0.5em 0 0.5em; text-align: left; border: none;\">\n",
              "                Line\n",
              "            </td>\n",
              "        </tr>\n",
              "    \n",
              "        <tr style=\"background-color: hsl(120, 100.00%, 92.28%); border: none;\">\n",
              "            <td style=\"padding: 0 1em 0 0.5em; text-align: right; border: none;\">\n",
              "                0.0316\n",
              "                \n",
              "                    &plusmn; 0.0012\n",
              "                \n",
              "            </td>\n",
              "            <td style=\"padding: 0 0.5em 0 0.5em; text-align: left; border: none;\">\n",
              "                year\n",
              "            </td>\n",
              "        </tr>\n",
              "    \n",
              "        <tr style=\"background-color: hsl(120, 100.00%, 94.23%); border: none;\">\n",
              "            <td style=\"padding: 0 1em 0 0.5em; text-align: right; border: none;\">\n",
              "                0.0209\n",
              "                \n",
              "                    &plusmn; 0.0058\n",
              "                \n",
              "            </td>\n",
              "            <td style=\"padding: 0 0.5em 0 0.5em; text-align: left; border: none;\">\n",
              "                month\n",
              "            </td>\n",
              "        </tr>\n",
              "    \n",
              "        <tr style=\"background-color: hsl(120, 100.00%, 94.63%); border: none;\">\n",
              "            <td style=\"padding: 0 1em 0 0.5em; text-align: right; border: none;\">\n",
              "                0.0188\n",
              "                \n",
              "                    &plusmn; 0.0070\n",
              "                \n",
              "            </td>\n",
              "            <td style=\"padding: 0 0.5em 0 0.5em; text-align: left; border: none;\">\n",
              "                Min Gap\n",
              "            </td>\n",
              "        </tr>\n",
              "    \n",
              "        <tr style=\"background-color: hsl(120, 100.00%, 94.89%); border: none;\">\n",
              "            <td style=\"padding: 0 1em 0 0.5em; text-align: right; border: none;\">\n",
              "                0.0175\n",
              "                \n",
              "                    &plusmn; 0.0014\n",
              "                \n",
              "            </td>\n",
              "            <td style=\"padding: 0 0.5em 0 0.5em; text-align: left; border: none;\">\n",
              "                minute\n",
              "            </td>\n",
              "        </tr>\n",
              "    \n",
              "        <tr style=\"background-color: hsl(120, 100.00%, 96.59%); border: none;\">\n",
              "            <td style=\"padding: 0 1em 0 0.5em; text-align: right; border: none;\">\n",
              "                0.0098\n",
              "                \n",
              "                    &plusmn; 0.0023\n",
              "                \n",
              "            </td>\n",
              "            <td style=\"padding: 0 0.5em 0 0.5em; text-align: left; border: none;\">\n",
              "                Day\n",
              "            </td>\n",
              "        </tr>\n",
              "    \n",
              "        <tr style=\"background-color: hsl(120, 100.00%, 97.13%); border: none;\">\n",
              "            <td style=\"padding: 0 1em 0 0.5em; text-align: right; border: none;\">\n",
              "                0.0077\n",
              "                \n",
              "                    &plusmn; 0.0049\n",
              "                \n",
              "            </td>\n",
              "            <td style=\"padding: 0 0.5em 0 0.5em; text-align: left; border: none;\">\n",
              "                day\n",
              "            </td>\n",
              "        </tr>\n",
              "    \n",
              "    \n",
              "    </tbody>\n",
              "</table>\n",
              "    \n",
              "\n",
              "    \n",
              "\n",
              "\n",
              "    \n",
              "\n",
              "    \n",
              "\n",
              "    \n",
              "\n",
              "    \n",
              "\n",
              "    \n",
              "\n",
              "    \n",
              "\n",
              "\n",
              "\n"
            ],
            "text/plain": [
              "<IPython.core.display.HTML object>"
            ]
          },
          "metadata": {
            "tags": []
          },
          "execution_count": 33
        }
      ]
    },
    {
      "cell_type": "code",
      "metadata": {
        "id": "7rKpYiDaQx9k",
        "colab_type": "code",
        "colab": {}
      },
      "source": [
        "# recombine features and labels for exploratory data analysis\n",
        "\n",
        "y = train[target]\n",
        "train_copy = train.copy()\n",
        "train_copy['Code'] = y"
      ],
      "execution_count": 0,
      "outputs": []
    },
    {
      "cell_type": "code",
      "metadata": {
        "id": "q8Yl9zKxQx9n",
        "colab_type": "code",
        "colab": {},
        "outputId": "0a67b048-a482-4f7d-f48e-ffb920691098"
      },
      "source": [
        "train_copy.nunique()"
      ],
      "execution_count": 0,
      "outputs": [
        {
          "output_type": "execute_result",
          "data": {
            "text/plain": [
              "Day            7\n",
              "Station      275\n",
              "Code         180\n",
              "Min Delay    138\n",
              "Min Gap      126\n",
              "Bound          7\n",
              "Line          37\n",
              "Vehicle      898\n",
              "year           4\n",
              "month         12\n",
              "day           31\n",
              "hour          24\n",
              "minute        60\n",
              "dtype: int64"
            ]
          },
          "metadata": {
            "tags": []
          },
          "execution_count": 35
        }
      ]
    },
    {
      "cell_type": "code",
      "metadata": {
        "id": "sICL6p-dQx9q",
        "colab_type": "code",
        "colab": {},
        "outputId": "75b6b23b-fee5-44d7-bfc6-eba4185ea1c3"
      },
      "source": [
        "# categorical variables\n",
        "\n",
        "import seaborn as sns\n",
        "import matplotlib.pyplot as plt\n",
        "\n",
        "sns.catplot(x='Code', y='Min Delay', data=train, kind='bar', color='grey')\n",
        "plt.show()"
      ],
      "execution_count": 0,
      "outputs": [
        {
          "output_type": "display_data",
          "data": {
            "image/png": "[encoded data removed]",
            "text/plain": [
              "<Figure size 360x360 with 1 Axes>"
            ]
          },
          "metadata": {
            "tags": [],
            "needs_background": "light"
          }
        }
      ]
    },
    {
      "cell_type": "code",
      "metadata": {
        "id": "cLrwR7TXQx9s",
        "colab_type": "code",
        "colab": {}
      },
      "source": [
        ""
      ],
      "execution_count": 0,
      "outputs": []
    },
    {
      "cell_type": "code",
      "metadata": {
        "id": "KheyJE_mQx9u",
        "colab_type": "code",
        "colab": {}
      },
      "source": [
        ""
      ],
      "execution_count": 0,
      "outputs": []
    }
  ]
}