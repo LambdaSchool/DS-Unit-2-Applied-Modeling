{
  "nbformat": 4,
  "nbformat_minor": 0,
  "metadata": {
    "kernelspec": {
      "display_name": "Python 3",
      "language": "python",
      "name": "python3"
    },
    "language_info": {
      "codemirror_mode": {
        "name": "ipython",
        "version": 3
      },
      "file_extension": ".py",
      "mimetype": "text/x-python",
      "name": "python",
      "nbconvert_exporter": "python",
      "pygments_lexer": "ipython3",
      "version": "3.7.3"
    },
    "colab": {
      "name": "LS_DS_233_assignment.ipynb",
      "provenance": [],
      "collapsed_sections": [],
      "include_colab_link": true
    }
  },
  "cells": [
    {
      "cell_type": "markdown",
      "metadata": {
        "id": "view-in-github",
        "colab_type": "text"
      },
      "source": [
        "<a href=\"https://colab.research.google.com/github/PalmerTurley34/DS-Unit-2-Applied-Modeling/blob/master/LS_DS_233_assignment.ipynb\" target=\"_parent\"><img src=\"https://colab.research.google.com/assets/colab-badge.svg\" alt=\"Open In Colab\"/></a>"
      ]
    },
    {
      "cell_type": "markdown",
      "metadata": {
        "colab_type": "text",
        "id": "nCc3XZEyG3XV"
      },
      "source": [
        "Lambda School Data Science\n",
        "\n",
        "*Unit 2, Sprint 3, Module 3*\n",
        "\n",
        "---\n",
        "\n",
        "\n",
        "# Permutation & Boosting\n",
        "\n",
        "You will use your portfolio project dataset for all assignments this sprint.\n",
        "\n",
        "## Assignment\n",
        "\n",
        "Complete these tasks for your project, and document your work.\n",
        "\n",
        "- [ ] If you haven't completed assignment #1, please do so first.\n",
        "- [ ] Continue to clean and explore your data. Make exploratory visualizations.\n",
        "- [ ] Fit a model. Does it beat your baseline? \n",
        "- [ ] Try xgboost.\n",
        "- [ ] Get your model's permutation importances.\n",
        "\n",
        "You should try to complete an initial model today, because the rest of the week, we're making model interpretation visualizations.\n",
        "\n",
        "But, if you aren't ready to try xgboost and permutation importances with your dataset today, that's okay. You can practice with another dataset instead. You may choose any dataset you've worked with previously.\n",
        "\n",
        "The data subdirectory includes the Titanic dataset for classification and the NYC apartments dataset for regression. You may want to choose one of these datasets, because example solutions will be available for each.\n",
        "\n",
        "\n",
        "## Reading\n",
        "\n",
        "Top recommendations in _**bold italic:**_\n",
        "\n",
        "#### Permutation Importances\n",
        "- _**[Kaggle / Dan Becker: Machine Learning Explainability](https://www.kaggle.com/dansbecker/permutation-importance)**_\n",
        "- [Christoph Molnar: Interpretable Machine Learning](https://christophm.github.io/interpretable-ml-book/feature-importance.html)\n",
        "\n",
        "#### (Default) Feature Importances\n",
        "  - [Ando Saabas: Selecting good features, Part 3, Random Forests](https://blog.datadive.net/selecting-good-features-part-iii-random-forests/)\n",
        "  - [Terence Parr, et al: Beware Default Random Forest Importances](https://explained.ai/rf-importance/index.html)\n",
        "\n",
        "#### Gradient Boosting\n",
        "  - [A Gentle Introduction to the Gradient Boosting Algorithm for Machine Learning](https://machinelearningmastery.com/gentle-introduction-gradient-boosting-algorithm-machine-learning/)\n",
        "  - [An Introduction to Statistical Learning](http://www-bcf.usc.edu/~gareth/ISL/ISLR%20Seventh%20Printing.pdf), Chapter 8\n",
        "  - _**[Gradient Boosting Explained](https://www.gormanalysis.com/blog/gradient-boosting-explained/)**_ — Ben Gorman\n",
        "  - [Gradient Boosting Explained](http://arogozhnikov.github.io/2016/06/24/gradient_boosting_explained.html) — Alex Rogozhnikov\n",
        "  - [How to explain gradient boosting](https://explained.ai/gradient-boosting/) — Terence Parr & Jeremy Howard"
      ]
    },
    {
      "cell_type": "code",
      "metadata": {
        "id": "gQGtyCGZkSB7",
        "colab_type": "code",
        "colab": {
          "base_uri": "https://localhost:8080/",
          "height": 391
        },
        "outputId": "98e4d6bc-c3f0-4e2e-822a-490de361ec3a"
      },
      "source": [
        "!pip install category_encoders==2.*\n",
        "!pip install eli5"
      ],
      "execution_count": 79,
      "outputs": [
        {
          "output_type": "stream",
          "text": [
            "Requirement already satisfied: category_encoders==2.* in /usr/local/lib/python3.6/dist-packages (2.1.0)\n",
            "Requirement already satisfied: scikit-learn>=0.20.0 in /usr/local/lib/python3.6/dist-packages (from category_encoders==2.*) (0.22.2.post1)\n",
            "Requirement already satisfied: statsmodels>=0.6.1 in /usr/local/lib/python3.6/dist-packages (from category_encoders==2.*) (0.10.2)\n",
            "Requirement already satisfied: numpy>=1.11.3 in /usr/local/lib/python3.6/dist-packages (from category_encoders==2.*) (1.18.3)\n",
            "Requirement already satisfied: pandas>=0.21.1 in /usr/local/lib/python3.6/dist-packages (from category_encoders==2.*) (1.0.3)\n",
            "Requirement already satisfied: scipy>=0.19.0 in /usr/local/lib/python3.6/dist-packages (from category_encoders==2.*) (1.4.1)\n",
            "Requirement already satisfied: patsy>=0.4.1 in /usr/local/lib/python3.6/dist-packages (from category_encoders==2.*) (0.5.1)\n",
            "Requirement already satisfied: joblib>=0.11 in /usr/local/lib/python3.6/dist-packages (from scikit-learn>=0.20.0->category_encoders==2.*) (0.14.1)\n",
            "Requirement already satisfied: python-dateutil>=2.6.1 in /usr/local/lib/python3.6/dist-packages (from pandas>=0.21.1->category_encoders==2.*) (2.8.1)\n",
            "Requirement already satisfied: pytz>=2017.2 in /usr/local/lib/python3.6/dist-packages (from pandas>=0.21.1->category_encoders==2.*) (2018.9)\n",
            "Requirement already satisfied: six in /usr/local/lib/python3.6/dist-packages (from patsy>=0.4.1->category_encoders==2.*) (1.12.0)\n",
            "Requirement already satisfied: eli5 in /usr/local/lib/python3.6/dist-packages (0.10.1)\n",
            "Requirement already satisfied: attrs>16.0.0 in /usr/local/lib/python3.6/dist-packages (from eli5) (19.3.0)\n",
            "Requirement already satisfied: scikit-learn>=0.18 in /usr/local/lib/python3.6/dist-packages (from eli5) (0.22.2.post1)\n",
            "Requirement already satisfied: graphviz in /usr/local/lib/python3.6/dist-packages (from eli5) (0.10.1)\n",
            "Requirement already satisfied: jinja2 in /usr/local/lib/python3.6/dist-packages (from eli5) (2.11.2)\n",
            "Requirement already satisfied: tabulate>=0.7.7 in /usr/local/lib/python3.6/dist-packages (from eli5) (0.8.7)\n",
            "Requirement already satisfied: six in /usr/local/lib/python3.6/dist-packages (from eli5) (1.12.0)\n",
            "Requirement already satisfied: numpy>=1.9.0 in /usr/local/lib/python3.6/dist-packages (from eli5) (1.18.3)\n",
            "Requirement already satisfied: scipy in /usr/local/lib/python3.6/dist-packages (from eli5) (1.4.1)\n",
            "Requirement already satisfied: joblib>=0.11 in /usr/local/lib/python3.6/dist-packages (from scikit-learn>=0.18->eli5) (0.14.1)\n",
            "Requirement already satisfied: MarkupSafe>=0.23 in /usr/local/lib/python3.6/dist-packages (from jinja2->eli5) (1.1.1)\n"
          ],
          "name": "stdout"
        }
      ]
    },
    {
      "cell_type": "code",
      "metadata": {
        "id": "gC-Xb_3vgcDB",
        "colab_type": "code",
        "colab": {
          "base_uri": "https://localhost:8080/",
          "height": 51
        },
        "outputId": "e0d0a919-ad0a-4d9b-ffea-9eb7f5b32ce7"
      },
      "source": [
        "import pandas as pd\n",
        "import numpy as np\n",
        "! unzip '/content/insurance.zip'\n",
        "df = pd.read_csv('insurance.csv')"
      ],
      "execution_count": 80,
      "outputs": [
        {
          "output_type": "stream",
          "text": [
            "Archive:  /content/insurance.zip\n",
            "replace insurance.csv? [y]es, [n]o, [A]ll, [N]one, [r]ename: "
          ],
          "name": "stdout"
        }
      ]
    },
    {
      "cell_type": "code",
      "metadata": {
        "id": "V_YXXX_7jJtD",
        "colab_type": "code",
        "colab": {}
      },
      "source": [
        "from sklearn.model_selection import train_test_split\n",
        "train_val, test = train_test_split(df, train_size=.8, test_size=.2, random_state=42)\n",
        "train, val = train_test_split(train_val, train_size=.8, test_size=.2, random_state=42)"
      ],
      "execution_count": 0,
      "outputs": []
    },
    {
      "cell_type": "code",
      "metadata": {
        "id": "p8WoyGGRjNqF",
        "colab_type": "code",
        "colab": {}
      },
      "source": [
        "bmi_bins = [0,20,25,30,40,54]\n",
        "bmi_labels = ['Underweight', 'Normal', 'Overweight', 'Obese', 'Extreme Obesity']\n",
        "\n",
        "def wrangle(x):\n",
        "  x = x.copy()\n",
        "  x['bmi_class'] = pd.cut(x['bmi'], bins=bmi_bins, labels=bmi_labels)\n",
        "  return x\n",
        "\n",
        "train = wrangle(train)\n",
        "val = wrangle(val)\n",
        "test = wrangle(test)"
      ],
      "execution_count": 0,
      "outputs": []
    },
    {
      "cell_type": "markdown",
      "metadata": {
        "id": "ejzP02nujYc6",
        "colab_type": "text"
      },
      "source": [
        "## First model"
      ]
    },
    {
      "cell_type": "code",
      "metadata": {
        "id": "Mr2GpUbija9j",
        "colab_type": "code",
        "colab": {}
      },
      "source": [
        "target = 'charges'\n",
        "features = train.drop(columns=target).columns\n",
        "\n",
        "X_train = train[features]\n",
        "y_train = train[target]\n",
        "X_val = val[features]\n",
        "y_val = val[target]\n",
        "X_test = test[features]\n",
        "y_test = test[target]"
      ],
      "execution_count": 0,
      "outputs": []
    },
    {
      "cell_type": "code",
      "metadata": {
        "id": "U-C2KwR_kKMO",
        "colab_type": "code",
        "colab": {}
      },
      "source": [
        "from sklearn.metrics import mean_absolute_error\n",
        "import category_encoders as ce\n",
        "from sklearn.ensemble import RandomForestRegressor\n",
        "from sklearn.preprocessing import StandardScaler\n",
        "from sklearn.pipeline import make_pipeline"
      ],
      "execution_count": 0,
      "outputs": []
    },
    {
      "cell_type": "code",
      "metadata": {
        "id": "tiFTDRZtkfDQ",
        "colab_type": "code",
        "colab": {}
      },
      "source": [
        "pipeline = make_pipeline(\n",
        "    ce.OneHotEncoder(use_cat_names=True),\n",
        "    StandardScaler(),\n",
        "    RandomForestRegressor(n_estimators=100, n_jobs=-1)\n",
        ")"
      ],
      "execution_count": 0,
      "outputs": []
    },
    {
      "cell_type": "code",
      "metadata": {
        "id": "9snBhGFVkp-X",
        "colab_type": "code",
        "colab": {
          "base_uri": "https://localhost:8080/",
          "height": 34
        },
        "outputId": "8f294158-7558-4efa-aa68-6b7bfabd476e"
      },
      "source": [
        "pipeline.fit(X_train, y_train)\n",
        "y_pred = pipeline.predict(X_val)\n",
        "\n",
        "mae = mean_absolute_error(y_val, y_pred)\n",
        "print(f'MAE: {mae}')"
      ],
      "execution_count": 123,
      "outputs": [
        {
          "output_type": "stream",
          "text": [
            "MAE: 2965.167113626636\n"
          ],
          "name": "stdout"
        }
      ]
    },
    {
      "cell_type": "markdown",
      "metadata": {
        "id": "RKw-IUOkkwOY",
        "colab_type": "text"
      },
      "source": [
        "## XGBoost"
      ]
    },
    {
      "cell_type": "code",
      "metadata": {
        "id": "q8BXSrpAkyn5",
        "colab_type": "code",
        "colab": {}
      },
      "source": [
        "from xgboost import XGBRegressor\n",
        "\n",
        "pipeline = make_pipeline(\n",
        "    ce.OrdinalEncoder(),\n",
        "    StandardScaler(),\n",
        "    XGBRegressor(n_estimators=100, max_depth=5, n_jobs=-1)\n",
        ")"
      ],
      "execution_count": 0,
      "outputs": []
    },
    {
      "cell_type": "code",
      "metadata": {
        "id": "bgNZAZkumzzw",
        "colab_type": "code",
        "colab": {
          "base_uri": "https://localhost:8080/",
          "height": 51
        },
        "outputId": "a5f78642-421d-4b9f-ae4c-ca1ab05f5444"
      },
      "source": [
        "pipeline.fit(X_train, y_train)\n",
        "y_pred = pipeline.predict(X_val)\n",
        "\n",
        "mae = mean_absolute_error(y_val, y_pred)\n",
        "print(f'MAE: {mae}')"
      ],
      "execution_count": 125,
      "outputs": [
        {
          "output_type": "stream",
          "text": [
            "[02:57:11] WARNING: /workspace/src/objective/regression_obj.cu:152: reg:linear is now deprecated in favor of reg:squarederror.\n",
            "MAE: 2898.7468254663777\n"
          ],
          "name": "stdout"
        }
      ]
    },
    {
      "cell_type": "markdown",
      "metadata": {
        "id": "nW9XU8Synop_",
        "colab_type": "text"
      },
      "source": [
        "## Feature Permutations"
      ]
    },
    {
      "cell_type": "code",
      "metadata": {
        "id": "Qnj1gnnapl7-",
        "colab_type": "code",
        "colab": {}
      },
      "source": [
        "transformers = make_pipeline(\n",
        "    ce.OrdinalEncoder(),\n",
        "    StandardScaler()\n",
        ")"
      ],
      "execution_count": 0,
      "outputs": []
    },
    {
      "cell_type": "code",
      "metadata": {
        "id": "VtSEvJWSq6sR",
        "colab_type": "code",
        "colab": {}
      },
      "source": [
        "X_train_trans = transformers.fit_transform(X_train)\n",
        "X_val_trans = transformers.transform(X_val)\n",
        "X_test_trans = transformers.transform(X_test)"
      ],
      "execution_count": 0,
      "outputs": []
    },
    {
      "cell_type": "code",
      "metadata": {
        "id": "erMcEFWRrKHy",
        "colab_type": "code",
        "colab": {
          "base_uri": "https://localhost:8080/",
          "height": 153
        },
        "outputId": "cc15358a-22f3-4ed4-ae47-5674f33e9321"
      },
      "source": [
        "model = XGBRegressor(n_estimators=100, max_depth=5, n_jobs=-1)\n",
        "model.fit(X_train_trans, y_train)"
      ],
      "execution_count": 128,
      "outputs": [
        {
          "output_type": "stream",
          "text": [
            "[02:57:11] WARNING: /workspace/src/objective/regression_obj.cu:152: reg:linear is now deprecated in favor of reg:squarederror.\n"
          ],
          "name": "stdout"
        },
        {
          "output_type": "execute_result",
          "data": {
            "text/plain": [
              "XGBRegressor(base_score=0.5, booster='gbtree', colsample_bylevel=1,\n",
              "             colsample_bynode=1, colsample_bytree=1, gamma=0,\n",
              "             importance_type='gain', learning_rate=0.1, max_delta_step=0,\n",
              "             max_depth=5, min_child_weight=1, missing=None, n_estimators=100,\n",
              "             n_jobs=-1, nthread=None, objective='reg:linear', random_state=0,\n",
              "             reg_alpha=0, reg_lambda=1, scale_pos_weight=1, seed=None,\n",
              "             silent=None, subsample=1, verbosity=1)"
            ]
          },
          "metadata": {
            "tags": []
          },
          "execution_count": 128
        }
      ]
    },
    {
      "cell_type": "code",
      "metadata": {
        "id": "JnRydlderNJ1",
        "colab_type": "code",
        "colab": {}
      },
      "source": [
        "import eli5\n",
        "from eli5.sklearn import PermutationImportance\n",
        "\n",
        "permuter = PermutationImportance(\n",
        "    model,\n",
        "    # scoring = 'mae',\n",
        "    n_iter=5,\n",
        "    random_state=42\n",
        ")"
      ],
      "execution_count": 0,
      "outputs": []
    },
    {
      "cell_type": "code",
      "metadata": {
        "id": "t3msdlfurgj6",
        "colab_type": "code",
        "colab": {
          "base_uri": "https://localhost:8080/",
          "height": 306
        },
        "outputId": "c0e0087b-dbda-4e40-90ed-53bb7121a7f9"
      },
      "source": [
        "permuter.fit(X_val_trans, y_val)"
      ],
      "execution_count": 130,
      "outputs": [
        {
          "output_type": "execute_result",
          "data": {
            "text/plain": [
              "PermutationImportance(cv='prefit',\n",
              "                      estimator=XGBRegressor(base_score=0.5, booster='gbtree',\n",
              "                                             colsample_bylevel=1,\n",
              "                                             colsample_bynode=1,\n",
              "                                             colsample_bytree=1, gamma=0,\n",
              "                                             importance_type='gain',\n",
              "                                             learning_rate=0.1,\n",
              "                                             max_delta_step=0, max_depth=5,\n",
              "                                             min_child_weight=1, missing=None,\n",
              "                                             n_estimators=100, n_jobs=-1,\n",
              "                                             nthread=None,\n",
              "                                             objective='reg:linear',\n",
              "                                             random_state=0, reg_alpha=0,\n",
              "                                             reg_lambda=1, scale_pos_weight=1,\n",
              "                                             seed=None, silent=None,\n",
              "                                             subsample=1, verbosity=1),\n",
              "                      n_iter=5, random_state=42, refit=True, scoring=None)"
            ]
          },
          "metadata": {
            "tags": []
          },
          "execution_count": 130
        }
      ]
    },
    {
      "cell_type": "code",
      "metadata": {
        "id": "dTas-Rd_st6B",
        "colab_type": "code",
        "colab": {}
      },
      "source": [
        "feature_names = X_val.columns.to_list()\n",
        "perm_imp = pd.Series(permuter.feature_importances_, feature_names).sort_values(ascending=False)"
      ],
      "execution_count": 0,
      "outputs": []
    },
    {
      "cell_type": "code",
      "metadata": {
        "id": "UFv1Esf_tBV1",
        "colab_type": "code",
        "colab": {
          "base_uri": "https://localhost:8080/",
          "height": 153
        },
        "outputId": "b3237775-0254-450f-c390-c8179e07e0b8"
      },
      "source": [
        "eli5.show_weights(permuter, top=None,\n",
        "                  feature_names=feature_names)"
      ],
      "execution_count": 132,
      "outputs": [
        {
          "output_type": "execute_result",
          "data": {
            "text/html": [
              "\n",
              "    <style>\n",
              "    table.eli5-weights tr:hover {\n",
              "        filter: brightness(85%);\n",
              "    }\n",
              "</style>\n",
              "\n",
              "\n",
              "\n",
              "    \n",
              "\n",
              "    \n",
              "\n",
              "    \n",
              "\n",
              "    \n",
              "\n",
              "    \n",
              "\n",
              "    \n",
              "\n",
              "\n",
              "    \n",
              "\n",
              "    \n",
              "\n",
              "    \n",
              "\n",
              "    \n",
              "\n",
              "    \n",
              "\n",
              "    \n",
              "\n",
              "\n",
              "    \n",
              "\n",
              "    \n",
              "\n",
              "    \n",
              "\n",
              "    \n",
              "\n",
              "    \n",
              "        <table class=\"eli5-weights eli5-feature-importances\" style=\"border-collapse: collapse; border: none; margin-top: 0em; table-layout: auto;\">\n",
              "    <thead>\n",
              "    <tr style=\"border: none;\">\n",
              "        <th style=\"padding: 0 1em 0 0.5em; text-align: right; border: none;\">Weight</th>\n",
              "        <th style=\"padding: 0 0.5em 0 0.5em; text-align: left; border: none;\">Feature</th>\n",
              "    </tr>\n",
              "    </thead>\n",
              "    <tbody>\n",
              "    \n",
              "        <tr style=\"background-color: hsl(120, 100.00%, 80.00%); border: none;\">\n",
              "            <td style=\"padding: 0 1em 0 0.5em; text-align: right; border: none;\">\n",
              "                1.3070\n",
              "                \n",
              "                    &plusmn; 0.1949\n",
              "                \n",
              "            </td>\n",
              "            <td style=\"padding: 0 0.5em 0 0.5em; text-align: left; border: none;\">\n",
              "                smoker\n",
              "            </td>\n",
              "        </tr>\n",
              "    \n",
              "        <tr style=\"background-color: hsl(120, 100.00%, 94.04%); border: none;\">\n",
              "            <td style=\"padding: 0 1em 0 0.5em; text-align: right; border: none;\">\n",
              "                0.2320\n",
              "                \n",
              "                    &plusmn; 0.0955\n",
              "                \n",
              "            </td>\n",
              "            <td style=\"padding: 0 0.5em 0 0.5em; text-align: left; border: none;\">\n",
              "                bmi\n",
              "            </td>\n",
              "        </tr>\n",
              "    \n",
              "        <tr style=\"background-color: hsl(120, 100.00%, 95.58%); border: none;\">\n",
              "            <td style=\"padding: 0 1em 0 0.5em; text-align: right; border: none;\">\n",
              "                0.1512\n",
              "                \n",
              "                    &plusmn; 0.0587\n",
              "                \n",
              "            </td>\n",
              "            <td style=\"padding: 0 0.5em 0 0.5em; text-align: left; border: none;\">\n",
              "                age\n",
              "            </td>\n",
              "        </tr>\n",
              "    \n",
              "        <tr style=\"background-color: hsl(120, 100.00%, 99.25%); border: none;\">\n",
              "            <td style=\"padding: 0 1em 0 0.5em; text-align: right; border: none;\">\n",
              "                0.0121\n",
              "                \n",
              "                    &plusmn; 0.0086\n",
              "                \n",
              "            </td>\n",
              "            <td style=\"padding: 0 0.5em 0 0.5em; text-align: left; border: none;\">\n",
              "                children\n",
              "            </td>\n",
              "        </tr>\n",
              "    \n",
              "        <tr style=\"background-color: hsl(120, 100.00%, 99.48%); border: none;\">\n",
              "            <td style=\"padding: 0 1em 0 0.5em; text-align: right; border: none;\">\n",
              "                0.0072\n",
              "                \n",
              "                    &plusmn; 0.0034\n",
              "                \n",
              "            </td>\n",
              "            <td style=\"padding: 0 0.5em 0 0.5em; text-align: left; border: none;\">\n",
              "                region\n",
              "            </td>\n",
              "        </tr>\n",
              "    \n",
              "        <tr style=\"background-color: hsl(0, 100.00%, 100.00%); border: none;\">\n",
              "            <td style=\"padding: 0 1em 0 0.5em; text-align: right; border: none;\">\n",
              "                0\n",
              "                \n",
              "                    &plusmn; 0.0000\n",
              "                \n",
              "            </td>\n",
              "            <td style=\"padding: 0 0.5em 0 0.5em; text-align: left; border: none;\">\n",
              "                bmi_class\n",
              "            </td>\n",
              "        </tr>\n",
              "    \n",
              "        <tr style=\"background-color: hsl(0, 100.00%, 99.95%); border: none;\">\n",
              "            <td style=\"padding: 0 1em 0 0.5em; text-align: right; border: none;\">\n",
              "                -0.0003\n",
              "                \n",
              "                    &plusmn; 0.0021\n",
              "                \n",
              "            </td>\n",
              "            <td style=\"padding: 0 0.5em 0 0.5em; text-align: left; border: none;\">\n",
              "                sex\n",
              "            </td>\n",
              "        </tr>\n",
              "    \n",
              "    \n",
              "    </tbody>\n",
              "</table>\n",
              "    \n",
              "\n",
              "    \n",
              "\n",
              "\n",
              "    \n",
              "\n",
              "    \n",
              "\n",
              "    \n",
              "\n",
              "    \n",
              "\n",
              "    \n",
              "\n",
              "    \n",
              "\n",
              "\n",
              "\n"
            ],
            "text/plain": [
              "<IPython.core.display.HTML object>"
            ]
          },
          "metadata": {
            "tags": []
          },
          "execution_count": 132
        }
      ]
    },
    {
      "cell_type": "markdown",
      "metadata": {
        "id": "XWC6oBLGwHAt",
        "colab_type": "text"
      },
      "source": [
        "## Model Tuning"
      ]
    },
    {
      "cell_type": "code",
      "metadata": {
        "id": "-AJnEWZXwJBK",
        "colab_type": "code",
        "colab": {}
      },
      "source": [
        "min_importance = 0\n",
        "mask = permuter.feature_importances_ > min_importance\n",
        "features = X_train.columns[mask]\n",
        "X_train_sub = X_train[features]\n",
        "X_val_sub = X_val[features]\n",
        "X_test_sub = X_test[features]"
      ],
      "execution_count": 0,
      "outputs": []
    },
    {
      "cell_type": "code",
      "metadata": {
        "id": "orNS4qE6wotf",
        "colab_type": "code",
        "colab": {
          "base_uri": "https://localhost:8080/",
          "height": 51
        },
        "outputId": "47baa1f4-803d-40fd-b54e-de097599209d"
      },
      "source": [
        "# model gets a little better\n",
        "pipeline = make_pipeline(\n",
        "    ce.OrdinalEncoder(),\n",
        "    StandardScaler(),\n",
        "    XGBRegressor(n_estimators=100, random_state=42, n_jobs=-1)\n",
        ")\n",
        "\n",
        "pipeline.fit(X_train_sub, y_train)\n",
        "\n",
        "y_pred = pipeline.predict(X_val_sub)\n",
        "mae = mean_absolute_error(y_val, y_pred)\n",
        "print(f'MAE: {mae}')"
      ],
      "execution_count": 134,
      "outputs": [
        {
          "output_type": "stream",
          "text": [
            "[02:57:11] WARNING: /workspace/src/objective/regression_obj.cu:152: reg:linear is now deprecated in favor of reg:squarederror.\n",
            "MAE: 2871.330085899168\n"
          ],
          "name": "stdout"
        }
      ]
    },
    {
      "cell_type": "code",
      "metadata": {
        "id": "_9-wlRFgyEs-",
        "colab_type": "code",
        "colab": {
          "base_uri": "https://localhost:8080/",
          "height": 1000
        },
        "outputId": "df956fb0-75ac-4194-9221-020b38dda261"
      },
      "source": [
        "# early stopping\n",
        "encoder = ce.OrdinalEncoder()\n",
        "X_train_enc = encoder.fit_transform(X_train_sub)\n",
        "X_val_enc = encoder.transform(X_val_sub)\n",
        "X_test_enc = encoder.transform(X_test_sub)\n",
        "\n",
        "scaler = StandardScaler()\n",
        "X_train_scl = scaler.fit_transform(X_train_enc)\n",
        "X_val_scl = scaler.transform(X_val_enc)\n",
        "X_test_scl = scaler.transform(X_test_enc)\n",
        "\n",
        "model = XGBRegressor(n_estimators=1000,\n",
        "                     max_depth=3,\n",
        "                     learning_rate=.5,\n",
        "                     n_jobs=-1,\n",
        "                     random_state=42)\n",
        "\n",
        "eval_set = [(X_train_scl, y_train),(X_val_scl, y_val)]\n",
        "model.fit(X_train_scl, y_train,\n",
        "          eval_set=eval_set,\n",
        "          eval_metric='mae',\n",
        "          early_stopping_rounds=100)"
      ],
      "execution_count": 150,
      "outputs": [
        {
          "output_type": "stream",
          "text": [
            "[03:13:20] WARNING: /workspace/src/objective/regression_obj.cu:152: reg:linear is now deprecated in favor of reg:squarederror.\n",
            "[0]\tvalidation_0-mae:6742.04\tvalidation_1-mae:7538.93\n",
            "Multiple eval metrics have been passed: 'validation_1-mae' will be used for early stopping.\n",
            "\n",
            "Will train until validation_1-mae hasn't improved in 100 rounds.\n",
            "[1]\tvalidation_0-mae:3699.06\tvalidation_1-mae:4437.33\n",
            "[2]\tvalidation_0-mae:2489.98\tvalidation_1-mae:3173.33\n",
            "[3]\tvalidation_0-mae:2135.23\tvalidation_1-mae:2806.93\n",
            "[4]\tvalidation_0-mae:2101.25\tvalidation_1-mae:2779.51\n",
            "[5]\tvalidation_0-mae:2098.55\tvalidation_1-mae:2856.12\n",
            "[6]\tvalidation_0-mae:2117.69\tvalidation_1-mae:2888.6\n",
            "[7]\tvalidation_0-mae:2126.16\tvalidation_1-mae:2903.18\n",
            "[8]\tvalidation_0-mae:2107.23\tvalidation_1-mae:2978.94\n",
            "[9]\tvalidation_0-mae:2097.96\tvalidation_1-mae:2974.89\n",
            "[10]\tvalidation_0-mae:2082.6\tvalidation_1-mae:2990.85\n",
            "[11]\tvalidation_0-mae:2067.45\tvalidation_1-mae:2997.14\n",
            "[12]\tvalidation_0-mae:2052.86\tvalidation_1-mae:2980.74\n",
            "[13]\tvalidation_0-mae:2041.36\tvalidation_1-mae:2993.65\n",
            "[14]\tvalidation_0-mae:2030.74\tvalidation_1-mae:2996.03\n",
            "[15]\tvalidation_0-mae:2026.73\tvalidation_1-mae:3010.07\n",
            "[16]\tvalidation_0-mae:2013.86\tvalidation_1-mae:2996.18\n",
            "[17]\tvalidation_0-mae:1987.82\tvalidation_1-mae:2970.76\n",
            "[18]\tvalidation_0-mae:1967.62\tvalidation_1-mae:3009.63\n",
            "[19]\tvalidation_0-mae:1956.57\tvalidation_1-mae:3014.04\n",
            "[20]\tvalidation_0-mae:1945.7\tvalidation_1-mae:3030.74\n",
            "[21]\tvalidation_0-mae:1936.61\tvalidation_1-mae:3028.4\n",
            "[22]\tvalidation_0-mae:1923.97\tvalidation_1-mae:3038.47\n",
            "[23]\tvalidation_0-mae:1921.53\tvalidation_1-mae:3043.33\n",
            "[24]\tvalidation_0-mae:1913.35\tvalidation_1-mae:3039.59\n",
            "[25]\tvalidation_0-mae:1900.42\tvalidation_1-mae:3032.22\n",
            "[26]\tvalidation_0-mae:1895.77\tvalidation_1-mae:3042.64\n",
            "[27]\tvalidation_0-mae:1879.57\tvalidation_1-mae:3040.17\n",
            "[28]\tvalidation_0-mae:1868.47\tvalidation_1-mae:3028.54\n",
            "[29]\tvalidation_0-mae:1859.12\tvalidation_1-mae:3043.84\n",
            "[30]\tvalidation_0-mae:1851.05\tvalidation_1-mae:3062.47\n",
            "[31]\tvalidation_0-mae:1835.06\tvalidation_1-mae:3080.52\n",
            "[32]\tvalidation_0-mae:1824.76\tvalidation_1-mae:3082.25\n",
            "[33]\tvalidation_0-mae:1817.05\tvalidation_1-mae:3085.55\n",
            "[34]\tvalidation_0-mae:1818.17\tvalidation_1-mae:3076.6\n",
            "[35]\tvalidation_0-mae:1797.61\tvalidation_1-mae:3136.6\n",
            "[36]\tvalidation_0-mae:1790.09\tvalidation_1-mae:3143.07\n",
            "[37]\tvalidation_0-mae:1788.12\tvalidation_1-mae:3137.14\n",
            "[38]\tvalidation_0-mae:1783.98\tvalidation_1-mae:3130.44\n",
            "[39]\tvalidation_0-mae:1778.42\tvalidation_1-mae:3126.87\n",
            "[40]\tvalidation_0-mae:1764.24\tvalidation_1-mae:3121.94\n",
            "[41]\tvalidation_0-mae:1759.29\tvalidation_1-mae:3122.87\n",
            "[42]\tvalidation_0-mae:1749.12\tvalidation_1-mae:3127.63\n",
            "[43]\tvalidation_0-mae:1752.01\tvalidation_1-mae:3131.98\n",
            "[44]\tvalidation_0-mae:1746.02\tvalidation_1-mae:3141.87\n",
            "[45]\tvalidation_0-mae:1743.88\tvalidation_1-mae:3148.44\n",
            "[46]\tvalidation_0-mae:1737.12\tvalidation_1-mae:3147.61\n",
            "[47]\tvalidation_0-mae:1728.59\tvalidation_1-mae:3156.54\n",
            "[48]\tvalidation_0-mae:1725.12\tvalidation_1-mae:3153.2\n",
            "[49]\tvalidation_0-mae:1720.16\tvalidation_1-mae:3152.43\n",
            "[50]\tvalidation_0-mae:1704.09\tvalidation_1-mae:3155.9\n",
            "[51]\tvalidation_0-mae:1698.4\tvalidation_1-mae:3160.57\n",
            "[52]\tvalidation_0-mae:1680.39\tvalidation_1-mae:3212.6\n",
            "[53]\tvalidation_0-mae:1679.73\tvalidation_1-mae:3205.39\n",
            "[54]\tvalidation_0-mae:1668.82\tvalidation_1-mae:3209.18\n",
            "[55]\tvalidation_0-mae:1654.97\tvalidation_1-mae:3199.14\n",
            "[56]\tvalidation_0-mae:1661.77\tvalidation_1-mae:3214.17\n",
            "[57]\tvalidation_0-mae:1645.25\tvalidation_1-mae:3222.32\n",
            "[58]\tvalidation_0-mae:1633.29\tvalidation_1-mae:3208.73\n",
            "[59]\tvalidation_0-mae:1631.57\tvalidation_1-mae:3206.56\n",
            "[60]\tvalidation_0-mae:1626.97\tvalidation_1-mae:3205.41\n",
            "[61]\tvalidation_0-mae:1619.43\tvalidation_1-mae:3198.27\n",
            "[62]\tvalidation_0-mae:1610.03\tvalidation_1-mae:3198.79\n",
            "[63]\tvalidation_0-mae:1596.7\tvalidation_1-mae:3213.82\n",
            "[64]\tvalidation_0-mae:1591.86\tvalidation_1-mae:3216.53\n",
            "[65]\tvalidation_0-mae:1581.39\tvalidation_1-mae:3215.35\n",
            "[66]\tvalidation_0-mae:1567.62\tvalidation_1-mae:3251.85\n",
            "[67]\tvalidation_0-mae:1561.13\tvalidation_1-mae:3244.23\n",
            "[68]\tvalidation_0-mae:1557.33\tvalidation_1-mae:3263.57\n",
            "[69]\tvalidation_0-mae:1555.16\tvalidation_1-mae:3265.2\n",
            "[70]\tvalidation_0-mae:1553.38\tvalidation_1-mae:3261.17\n",
            "[71]\tvalidation_0-mae:1546.72\tvalidation_1-mae:3271.92\n",
            "[72]\tvalidation_0-mae:1540.26\tvalidation_1-mae:3274.21\n",
            "[73]\tvalidation_0-mae:1532.67\tvalidation_1-mae:3275.51\n",
            "[74]\tvalidation_0-mae:1528.77\tvalidation_1-mae:3266.62\n",
            "[75]\tvalidation_0-mae:1527.72\tvalidation_1-mae:3266.08\n",
            "[76]\tvalidation_0-mae:1522.5\tvalidation_1-mae:3277.15\n",
            "[77]\tvalidation_0-mae:1520.54\tvalidation_1-mae:3273.05\n",
            "[78]\tvalidation_0-mae:1507.91\tvalidation_1-mae:3262.03\n",
            "[79]\tvalidation_0-mae:1505.16\tvalidation_1-mae:3260.75\n",
            "[80]\tvalidation_0-mae:1503.34\tvalidation_1-mae:3256.22\n",
            "[81]\tvalidation_0-mae:1502.02\tvalidation_1-mae:3257.18\n",
            "[82]\tvalidation_0-mae:1498.48\tvalidation_1-mae:3264.79\n",
            "[83]\tvalidation_0-mae:1482.05\tvalidation_1-mae:3257.6\n",
            "[84]\tvalidation_0-mae:1472.15\tvalidation_1-mae:3260.14\n",
            "[85]\tvalidation_0-mae:1466.14\tvalidation_1-mae:3253.35\n",
            "[86]\tvalidation_0-mae:1464.25\tvalidation_1-mae:3254.05\n",
            "[87]\tvalidation_0-mae:1461.13\tvalidation_1-mae:3256.89\n",
            "[88]\tvalidation_0-mae:1452.58\tvalidation_1-mae:3253.39\n",
            "[89]\tvalidation_0-mae:1439.61\tvalidation_1-mae:3264.81\n",
            "[90]\tvalidation_0-mae:1436.78\tvalidation_1-mae:3263.74\n",
            "[91]\tvalidation_0-mae:1430.58\tvalidation_1-mae:3269.56\n",
            "[92]\tvalidation_0-mae:1427.28\tvalidation_1-mae:3259.19\n",
            "[93]\tvalidation_0-mae:1421.58\tvalidation_1-mae:3268.65\n",
            "[94]\tvalidation_0-mae:1415.55\tvalidation_1-mae:3298.97\n",
            "[95]\tvalidation_0-mae:1410.4\tvalidation_1-mae:3300.06\n",
            "[96]\tvalidation_0-mae:1407.86\tvalidation_1-mae:3289.52\n",
            "[97]\tvalidation_0-mae:1398.01\tvalidation_1-mae:3283.14\n",
            "[98]\tvalidation_0-mae:1396.31\tvalidation_1-mae:3283.92\n",
            "[99]\tvalidation_0-mae:1389.52\tvalidation_1-mae:3297.81\n",
            "[100]\tvalidation_0-mae:1386.86\tvalidation_1-mae:3297.05\n",
            "[101]\tvalidation_0-mae:1380.82\tvalidation_1-mae:3308.11\n",
            "[102]\tvalidation_0-mae:1374.93\tvalidation_1-mae:3315.47\n",
            "[103]\tvalidation_0-mae:1370.3\tvalidation_1-mae:3309.95\n",
            "[104]\tvalidation_0-mae:1366.35\tvalidation_1-mae:3314.29\n",
            "Stopping. Best iteration:\n",
            "[4]\tvalidation_0-mae:2101.25\tvalidation_1-mae:2779.51\n",
            "\n"
          ],
          "name": "stdout"
        },
        {
          "output_type": "execute_result",
          "data": {
            "text/plain": [
              "XGBRegressor(base_score=0.5, booster='gbtree', colsample_bylevel=1,\n",
              "             colsample_bynode=1, colsample_bytree=1, gamma=0,\n",
              "             importance_type='gain', learning_rate=0.5, max_delta_step=0,\n",
              "             max_depth=3, min_child_weight=1, missing=None, n_estimators=1000,\n",
              "             n_jobs=-1, nthread=None, objective='reg:linear', random_state=42,\n",
              "             reg_alpha=0, reg_lambda=1, scale_pos_weight=1, seed=None,\n",
              "             silent=None, subsample=1, verbosity=1)"
            ]
          },
          "metadata": {
            "tags": []
          },
          "execution_count": 150
        }
      ]
    },
    {
      "cell_type": "code",
      "metadata": {
        "id": "VRUjGCE54RCv",
        "colab_type": "code",
        "colab": {
          "base_uri": "https://localhost:8080/",
          "height": 51
        },
        "outputId": "23228b99-58e2-4f41-a211-859fc8cea0c0"
      },
      "source": [
        "pipeline = make_pipeline(\n",
        "    ce.OrdinalEncoder(),\n",
        "    StandardScaler(),\n",
        "    XGBRegressor(n_estimators=4, random_state=42, n_jobs=-1,\n",
        "                 learning_rate=.5, max_depth=5)\n",
        ")\n",
        "\n",
        "pipeline.fit(X_train_scl, y_train)\n",
        "\n",
        "y_pred = pipeline.predict(X_val_scl)\n",
        "mae = mean_absolute_error(y_val, y_pred)\n",
        "print(f'MAE: {mae}')"
      ],
      "execution_count": 152,
      "outputs": [
        {
          "output_type": "stream",
          "text": [
            "[03:14:25] WARNING: /workspace/src/objective/regression_obj.cu:152: reg:linear is now deprecated in favor of reg:squarederror.\n",
            "MAE: 2775.193156784828\n"
          ],
          "name": "stdout"
        }
      ]
    },
    {
      "cell_type": "code",
      "metadata": {
        "id": "7bvgESO21pgM",
        "colab_type": "code",
        "colab": {
          "base_uri": "https://localhost:8080/",
          "height": 34
        },
        "outputId": "388f2ae0-a4cb-491a-ceca-9722d28478ee"
      },
      "source": [
        "# final test MAE\n",
        "y_pred = pipeline.predict(X_test_scl)\n",
        "mae = mean_absolute_error(y_test, y_pred)\n",
        "print(f'MAE: {mae}')"
      ],
      "execution_count": 153,
      "outputs": [
        {
          "output_type": "stream",
          "text": [
            "MAE: 2244.173808648321\n"
          ],
          "name": "stdout"
        }
      ]
    }
  ]
}