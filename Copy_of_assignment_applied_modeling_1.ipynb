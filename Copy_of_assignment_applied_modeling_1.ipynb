{
  "nbformat": 4,
  "nbformat_minor": 0,
  "metadata": {
    "colab": {
      "name": "Copy of assignment_applied_modeling_1.ipynb",
      "provenance": [],
      "collapsed_sections": [],
      "include_colab_link": true
    },
    "kernelspec": {
      "display_name": "Python 3",
      "language": "python",
      "name": "python3"
    },
    "language_info": {
      "codemirror_mode": {
        "name": "ipython",
        "version": 3
      },
      "file_extension": ".py",
      "mimetype": "text/x-python",
      "name": "python",
      "nbconvert_exporter": "python",
      "pygments_lexer": "ipython3",
      "version": "3.7.3"
    }
  },
  "cells": [
    {
      "cell_type": "markdown",
      "metadata": {
        "id": "view-in-github",
        "colab_type": "text"
      },
      "source": [
        "<a href=\"https://colab.research.google.com/github/KhaSab5292/DS-Unit-2-Applied-Modeling/blob/master/Copy_of_assignment_applied_modeling_1.ipynb\" target=\"_parent\"><img src=\"https://colab.research.google.com/assets/colab-badge.svg\" alt=\"Open In Colab\"/></a>"
      ]
    },
    {
      "cell_type": "markdown",
      "metadata": {
        "colab_type": "text",
        "id": "nCc3XZEyG3XV"
      },
      "source": [
        "Lambda School Data Science\n",
        "\n",
        "*Unit 2, Sprint 3, Module 1*\n",
        "\n",
        "---\n",
        "\n",
        "\n",
        "# Define ML problems\n",
        "\n",
        "You will use your portfolio project dataset for all assignments this sprint.\n",
        "\n",
        "## Assignment\n",
        "\n",
        "Complete these tasks for your project, and document your decisions.\n",
        "\n",
        "- [ ] Choose your target. Which column in your tabular dataset will you predict?\n",
        "- [ ] Is your problem regression or classification?\n",
        "- [ ] How is your target distributed?\n",
        "    - Classification: How many classes? Are the classes imbalanced?\n",
        "    - Regression: Is the target right-skewed? If so, you may want to log transform the target.\n",
        "- [ ] Choose which observations you will use to train, validate, and test your model.\n",
        "    - Are some observations outliers? Will you exclude them?\n",
        "    - Will you do a random split or a time-based split?\n",
        "- [ ] Choose your evaluation metric(s).\n",
        "    - Classification: Is your majority class frequency > 50% and < 70% ? If so, you can just use accuracy if you want. Outside that range, accuracy could be misleading. What evaluation metric will you choose, in addition to or instead of accuracy?\n",
        "- [ ] Begin to clean and explore your data.\n",
        "- [ ] Begin to choose which features, if any, to exclude. Would some features \"leak\" future information?"
      ]
    },
    {
      "cell_type": "code",
      "metadata": {
        "id": "cIvvzQHfu2BP",
        "colab_type": "code",
        "outputId": "9e0c2eee-a2d8-4e50-ac77-d3d39e473703",
        "colab": {
          "base_uri": "https://localhost:8080/",
          "height": 122
        }
      },
      "source": [
        "from google.colab import drive\n",
        "drive.mount('/content/drive')"
      ],
      "execution_count": 3,
      "outputs": [
        {
          "output_type": "stream",
          "text": [
            "Go to this URL in a browser: https://accounts.google.com/o/oauth2/auth?client_id=947318989803-6bn6qk8qdgf4n4g3pfee6491hc0brc4i.apps.googleusercontent.com&redirect_uri=urn%3aietf%3awg%3aoauth%3a2.0%3aoob&response_type=code&scope=email%20https%3a%2f%2fwww.googleapis.com%2fauth%2fdocs.test%20https%3a%2f%2fwww.googleapis.com%2fauth%2fdrive%20https%3a%2f%2fwww.googleapis.com%2fauth%2fdrive.photos.readonly%20https%3a%2f%2fwww.googleapis.com%2fauth%2fpeopleapi.readonly\n",
            "\n",
            "Enter your authorization code:\n",
            "··········\n",
            "Mounted at /content/drive\n"
          ],
          "name": "stdout"
        }
      ]
    },
    {
      "cell_type": "code",
      "metadata": {
        "id": "UPwFJOH25WFj",
        "colab_type": "code",
        "colab": {}
      },
      "source": [
        "%%capture\n",
        "import pandas as pd\n",
        "import numpy as np\n",
        "import matplotlib.pyplot as plt\n",
        "\n",
        "\n",
        "DATA_PATH = '/content/drive/My Drive/Lambda/Unit 2 DS9/Unit 2 Build/Police_Department_Incidents_-_Previous_Year__2016_.csv'\n",
        "!pip install category_encoders==2.*"
      ],
      "execution_count": 0,
      "outputs": []
    },
    {
      "cell_type": "code",
      "metadata": {
        "id": "QwlG_DhcvetR",
        "colab_type": "code",
        "outputId": "fbf01b9e-ccba-4a87-9d99-82d381b4d4b4",
        "colab": {
          "base_uri": "https://localhost:8080/",
          "height": 496
        }
      },
      "source": [
        "df = pd.read_csv(DATA_PATH)\n",
        "print(df.shape)\n",
        "df.head()"
      ],
      "execution_count": 5,
      "outputs": [
        {
          "output_type": "stream",
          "text": [
            "(150500, 13)\n"
          ],
          "name": "stdout"
        },
        {
          "output_type": "execute_result",
          "data": {
            "text/html": [
              "<div>\n",
              "<style scoped>\n",
              "    .dataframe tbody tr th:only-of-type {\n",
              "        vertical-align: middle;\n",
              "    }\n",
              "\n",
              "    .dataframe tbody tr th {\n",
              "        vertical-align: top;\n",
              "    }\n",
              "\n",
              "    .dataframe thead th {\n",
              "        text-align: right;\n",
              "    }\n",
              "</style>\n",
              "<table border=\"1\" class=\"dataframe\">\n",
              "  <thead>\n",
              "    <tr style=\"text-align: right;\">\n",
              "      <th></th>\n",
              "      <th>IncidntNum</th>\n",
              "      <th>Category</th>\n",
              "      <th>Descript</th>\n",
              "      <th>DayOfWeek</th>\n",
              "      <th>Date</th>\n",
              "      <th>Time</th>\n",
              "      <th>PdDistrict</th>\n",
              "      <th>Resolution</th>\n",
              "      <th>Address</th>\n",
              "      <th>X</th>\n",
              "      <th>Y</th>\n",
              "      <th>Location</th>\n",
              "      <th>PdId</th>\n",
              "    </tr>\n",
              "  </thead>\n",
              "  <tbody>\n",
              "    <tr>\n",
              "      <th>0</th>\n",
              "      <td>120058272</td>\n",
              "      <td>WEAPON LAWS</td>\n",
              "      <td>POSS OF PROHIBITED WEAPON</td>\n",
              "      <td>Friday</td>\n",
              "      <td>01/29/2016 12:00:00 AM</td>\n",
              "      <td>11:00</td>\n",
              "      <td>SOUTHERN</td>\n",
              "      <td>ARREST, BOOKED</td>\n",
              "      <td>800 Block of BRYANT ST</td>\n",
              "      <td>-122.403405</td>\n",
              "      <td>37.775421</td>\n",
              "      <td>(37.775420706711, -122.403404791479)</td>\n",
              "      <td>12005827212120</td>\n",
              "    </tr>\n",
              "    <tr>\n",
              "      <th>1</th>\n",
              "      <td>120058272</td>\n",
              "      <td>WEAPON LAWS</td>\n",
              "      <td>FIREARM, LOADED, IN VEHICLE, POSSESSION OR USE</td>\n",
              "      <td>Friday</td>\n",
              "      <td>01/29/2016 12:00:00 AM</td>\n",
              "      <td>11:00</td>\n",
              "      <td>SOUTHERN</td>\n",
              "      <td>ARREST, BOOKED</td>\n",
              "      <td>800 Block of BRYANT ST</td>\n",
              "      <td>-122.403405</td>\n",
              "      <td>37.775421</td>\n",
              "      <td>(37.775420706711, -122.403404791479)</td>\n",
              "      <td>12005827212168</td>\n",
              "    </tr>\n",
              "    <tr>\n",
              "      <th>2</th>\n",
              "      <td>141059263</td>\n",
              "      <td>WARRANTS</td>\n",
              "      <td>WARRANT ARREST</td>\n",
              "      <td>Monday</td>\n",
              "      <td>04/25/2016 12:00:00 AM</td>\n",
              "      <td>14:59</td>\n",
              "      <td>BAYVIEW</td>\n",
              "      <td>ARREST, BOOKED</td>\n",
              "      <td>KEITH ST / SHAFTER AV</td>\n",
              "      <td>-122.388856</td>\n",
              "      <td>37.729981</td>\n",
              "      <td>(37.7299809672996, -122.388856204292)</td>\n",
              "      <td>14105926363010</td>\n",
              "    </tr>\n",
              "    <tr>\n",
              "      <th>3</th>\n",
              "      <td>160013662</td>\n",
              "      <td>NON-CRIMINAL</td>\n",
              "      <td>LOST PROPERTY</td>\n",
              "      <td>Tuesday</td>\n",
              "      <td>01/05/2016 12:00:00 AM</td>\n",
              "      <td>23:50</td>\n",
              "      <td>TENDERLOIN</td>\n",
              "      <td>NONE</td>\n",
              "      <td>JONES ST / OFARRELL ST</td>\n",
              "      <td>-122.412971</td>\n",
              "      <td>37.785788</td>\n",
              "      <td>(37.7857883766888, -122.412970537591)</td>\n",
              "      <td>16001366271000</td>\n",
              "    </tr>\n",
              "    <tr>\n",
              "      <th>4</th>\n",
              "      <td>160002740</td>\n",
              "      <td>NON-CRIMINAL</td>\n",
              "      <td>LOST PROPERTY</td>\n",
              "      <td>Friday</td>\n",
              "      <td>01/01/2016 12:00:00 AM</td>\n",
              "      <td>00:30</td>\n",
              "      <td>MISSION</td>\n",
              "      <td>NONE</td>\n",
              "      <td>16TH ST / MISSION ST</td>\n",
              "      <td>-122.419672</td>\n",
              "      <td>37.765050</td>\n",
              "      <td>(37.7650501214668, -122.419671780296)</td>\n",
              "      <td>16000274071000</td>\n",
              "    </tr>\n",
              "  </tbody>\n",
              "</table>\n",
              "</div>"
            ],
            "text/plain": [
              "   IncidntNum  ...            PdId\n",
              "0   120058272  ...  12005827212120\n",
              "1   120058272  ...  12005827212168\n",
              "2   141059263  ...  14105926363010\n",
              "3   160013662  ...  16001366271000\n",
              "4   160002740  ...  16000274071000\n",
              "\n",
              "[5 rows x 13 columns]"
            ]
          },
          "metadata": {
            "tags": []
          },
          "execution_count": 5
        }
      ]
    },
    {
      "cell_type": "markdown",
      "metadata": {
        "id": "Wz1A63vAuS-T",
        "colab_type": "text"
      },
      "source": [
        "# **Choose your target. Which column in your tabular dataset will you predict?**"
      ]
    },
    {
      "cell_type": "code",
      "metadata": {
        "id": "aoQbDcWS3ydL",
        "colab_type": "code",
        "outputId": "7cf726ba-8f97-4e4c-8a30-ef9d736db4e7",
        "colab": {
          "base_uri": "https://localhost:8080/",
          "height": 297
        }
      },
      "source": [
        "df.describe()"
      ],
      "execution_count": 6,
      "outputs": [
        {
          "output_type": "execute_result",
          "data": {
            "text/html": [
              "<div>\n",
              "<style scoped>\n",
              "    .dataframe tbody tr th:only-of-type {\n",
              "        vertical-align: middle;\n",
              "    }\n",
              "\n",
              "    .dataframe tbody tr th {\n",
              "        vertical-align: top;\n",
              "    }\n",
              "\n",
              "    .dataframe thead th {\n",
              "        text-align: right;\n",
              "    }\n",
              "</style>\n",
              "<table border=\"1\" class=\"dataframe\">\n",
              "  <thead>\n",
              "    <tr style=\"text-align: right;\">\n",
              "      <th></th>\n",
              "      <th>IncidntNum</th>\n",
              "      <th>X</th>\n",
              "      <th>Y</th>\n",
              "      <th>PdId</th>\n",
              "    </tr>\n",
              "  </thead>\n",
              "  <tbody>\n",
              "    <tr>\n",
              "      <th>count</th>\n",
              "      <td>1.505000e+05</td>\n",
              "      <td>150500.000000</td>\n",
              "      <td>150500.000000</td>\n",
              "      <td>1.505000e+05</td>\n",
              "    </tr>\n",
              "    <tr>\n",
              "      <th>mean</th>\n",
              "      <td>1.616440e+08</td>\n",
              "      <td>-122.423599</td>\n",
              "      <td>37.768921</td>\n",
              "      <td>1.616440e+13</td>\n",
              "    </tr>\n",
              "    <tr>\n",
              "      <th>std</th>\n",
              "      <td>5.535976e+06</td>\n",
              "      <td>0.026210</td>\n",
              "      <td>0.023637</td>\n",
              "      <td>5.535976e+11</td>\n",
              "    </tr>\n",
              "    <tr>\n",
              "      <th>min</th>\n",
              "      <td>1.135121e+07</td>\n",
              "      <td>-122.513642</td>\n",
              "      <td>37.707922</td>\n",
              "      <td>1.135121e+12</td>\n",
              "    </tr>\n",
              "    <tr>\n",
              "      <th>25%</th>\n",
              "      <td>1.603283e+08</td>\n",
              "      <td>-122.434036</td>\n",
              "      <td>37.756486</td>\n",
              "      <td>1.603283e+13</td>\n",
              "    </tr>\n",
              "    <tr>\n",
              "      <th>50%</th>\n",
              "      <td>1.606541e+08</td>\n",
              "      <td>-122.416903</td>\n",
              "      <td>37.775421</td>\n",
              "      <td>1.606541e+13</td>\n",
              "    </tr>\n",
              "    <tr>\n",
              "      <th>75%</th>\n",
              "      <td>1.609764e+08</td>\n",
              "      <td>-122.406605</td>\n",
              "      <td>37.785063</td>\n",
              "      <td>1.609764e+13</td>\n",
              "    </tr>\n",
              "    <tr>\n",
              "      <th>max</th>\n",
              "      <td>9.910090e+08</td>\n",
              "      <td>-122.365565</td>\n",
              "      <td>37.819975</td>\n",
              "      <td>9.910090e+13</td>\n",
              "    </tr>\n",
              "  </tbody>\n",
              "</table>\n",
              "</div>"
            ],
            "text/plain": [
              "         IncidntNum              X              Y          PdId\n",
              "count  1.505000e+05  150500.000000  150500.000000  1.505000e+05\n",
              "mean   1.616440e+08    -122.423599      37.768921  1.616440e+13\n",
              "std    5.535976e+06       0.026210       0.023637  5.535976e+11\n",
              "min    1.135121e+07    -122.513642      37.707922  1.135121e+12\n",
              "25%    1.603283e+08    -122.434036      37.756486  1.603283e+13\n",
              "50%    1.606541e+08    -122.416903      37.775421  1.606541e+13\n",
              "75%    1.609764e+08    -122.406605      37.785063  1.609764e+13\n",
              "max    9.910090e+08    -122.365565      37.819975  9.910090e+13"
            ]
          },
          "metadata": {
            "tags": []
          },
          "execution_count": 6
        }
      ]
    },
    {
      "cell_type": "code",
      "metadata": {
        "id": "NNVnuAw032f8",
        "colab_type": "code",
        "outputId": "57f5cc1b-0455-46db-cd19-06d83b8d0619",
        "colab": {
          "base_uri": "https://localhost:8080/",
          "height": 190
        }
      },
      "source": [
        "df.describe(exclude = 'number')"
      ],
      "execution_count": 7,
      "outputs": [
        {
          "output_type": "execute_result",
          "data": {
            "text/html": [
              "<div>\n",
              "<style scoped>\n",
              "    .dataframe tbody tr th:only-of-type {\n",
              "        vertical-align: middle;\n",
              "    }\n",
              "\n",
              "    .dataframe tbody tr th {\n",
              "        vertical-align: top;\n",
              "    }\n",
              "\n",
              "    .dataframe thead th {\n",
              "        text-align: right;\n",
              "    }\n",
              "</style>\n",
              "<table border=\"1\" class=\"dataframe\">\n",
              "  <thead>\n",
              "    <tr style=\"text-align: right;\">\n",
              "      <th></th>\n",
              "      <th>Category</th>\n",
              "      <th>Descript</th>\n",
              "      <th>DayOfWeek</th>\n",
              "      <th>Date</th>\n",
              "      <th>Time</th>\n",
              "      <th>PdDistrict</th>\n",
              "      <th>Resolution</th>\n",
              "      <th>Address</th>\n",
              "      <th>Location</th>\n",
              "    </tr>\n",
              "  </thead>\n",
              "  <tbody>\n",
              "    <tr>\n",
              "      <th>count</th>\n",
              "      <td>150500</td>\n",
              "      <td>150500</td>\n",
              "      <td>150500</td>\n",
              "      <td>150500</td>\n",
              "      <td>150500</td>\n",
              "      <td>150499</td>\n",
              "      <td>150500</td>\n",
              "      <td>150500</td>\n",
              "      <td>150500</td>\n",
              "    </tr>\n",
              "    <tr>\n",
              "      <th>unique</th>\n",
              "      <td>39</td>\n",
              "      <td>726</td>\n",
              "      <td>7</td>\n",
              "      <td>366</td>\n",
              "      <td>1439</td>\n",
              "      <td>10</td>\n",
              "      <td>14</td>\n",
              "      <td>16130</td>\n",
              "      <td>19386</td>\n",
              "    </tr>\n",
              "    <tr>\n",
              "      <th>top</th>\n",
              "      <td>LARCENY/THEFT</td>\n",
              "      <td>GRAND THEFT FROM LOCKED AUTO</td>\n",
              "      <td>Friday</td>\n",
              "      <td>01/01/2016 12:00:00 AM</td>\n",
              "      <td>12:00</td>\n",
              "      <td>SOUTHERN</td>\n",
              "      <td>NONE</td>\n",
              "      <td>800 Block of BRYANT ST</td>\n",
              "      <td>(37.775420706711, -122.403404791479)</td>\n",
              "    </tr>\n",
              "    <tr>\n",
              "      <th>freq</th>\n",
              "      <td>40409</td>\n",
              "      <td>17741</td>\n",
              "      <td>23371</td>\n",
              "      <td>558</td>\n",
              "      <td>3842</td>\n",
              "      <td>28445</td>\n",
              "      <td>107780</td>\n",
              "      <td>3561</td>\n",
              "      <td>3536</td>\n",
              "    </tr>\n",
              "  </tbody>\n",
              "</table>\n",
              "</div>"
            ],
            "text/plain": [
              "             Category  ...                              Location\n",
              "count          150500  ...                                150500\n",
              "unique             39  ...                                 19386\n",
              "top     LARCENY/THEFT  ...  (37.775420706711, -122.403404791479)\n",
              "freq            40409  ...                                  3536\n",
              "\n",
              "[4 rows x 9 columns]"
            ]
          },
          "metadata": {
            "tags": []
          },
          "execution_count": 7
        }
      ]
    },
    {
      "cell_type": "code",
      "metadata": {
        "id": "6A4rKaNN4UTh",
        "colab_type": "code",
        "colab": {}
      },
      "source": [
        "target = 'Resolution'"
      ],
      "execution_count": 0,
      "outputs": []
    },
    {
      "cell_type": "markdown",
      "metadata": {
        "id": "Xtni31NJuWBw",
        "colab_type": "text"
      },
      "source": [
        "# **Is your problem regression or classification?**"
      ]
    },
    {
      "cell_type": "code",
      "metadata": {
        "id": "p-B0zrFm4nsR",
        "colab_type": "code",
        "outputId": "2bd752e7-1b43-4319-93d6-af197b3f8b3d",
        "colab": {
          "base_uri": "https://localhost:8080/",
          "height": 272
        }
      },
      "source": [
        "df[target].value_counts(normalize = True)"
      ],
      "execution_count": 9,
      "outputs": [
        {
          "output_type": "execute_result",
          "data": {
            "text/plain": [
              "NONE                                      0.716146\n",
              "ARREST, BOOKED                            0.261900\n",
              "UNFOUNDED                                 0.010684\n",
              "JUVENILE BOOKED                           0.007017\n",
              "EXCEPTIONAL CLEARANCE                     0.002465\n",
              "ARREST, CITED                             0.000957\n",
              "CLEARED-CONTACT JUVENILE FOR MORE INFO    0.000385\n",
              "NOT PROSECUTED                            0.000146\n",
              "LOCATED                                   0.000133\n",
              "PSYCHOPATHIC CASE                         0.000113\n",
              "JUVENILE CITED                            0.000020\n",
              "COMPLAINANT REFUSES TO PROSECUTE          0.000013\n",
              "JUVENILE DIVERTED                         0.000013\n",
              "PROSECUTED BY OUTSIDE AGENCY              0.000007\n",
              "Name: Resolution, dtype: float64"
            ]
          },
          "metadata": {
            "tags": []
          },
          "execution_count": 9
        }
      ]
    },
    {
      "cell_type": "markdown",
      "metadata": {
        "id": "fCBLSpS_5I2x",
        "colab_type": "text"
      },
      "source": [
        "Classification"
      ]
    },
    {
      "cell_type": "markdown",
      "metadata": {
        "id": "kXe-v-Sn9U7n",
        "colab_type": "text"
      },
      "source": [
        "# **How many classes? Are the classes imbalanced?**"
      ]
    },
    {
      "cell_type": "code",
      "metadata": {
        "id": "suuogRD_81dg",
        "colab_type": "code",
        "colab": {
          "base_uri": "https://localhost:8080/",
          "height": 34
        },
        "outputId": "24227ff7-10fc-4029-9113-21410938663b"
      },
      "source": [
        "print(df[target].nunique(), 'unique values')"
      ],
      "execution_count": 10,
      "outputs": [
        {
          "output_type": "stream",
          "text": [
            "14 unique values\n"
          ],
          "name": "stdout"
        }
      ]
    },
    {
      "cell_type": "markdown",
      "metadata": {
        "id": "lhRPYW4VER60",
        "colab_type": "text"
      },
      "source": [
        "# **Choose which observations you will use to train, validate, and test your model.**"
      ]
    },
    {
      "cell_type": "code",
      "metadata": {
        "id": "wwSYJfWqU8Sw",
        "colab_type": "code",
        "outputId": "69fb6bda-335b-402d-9590-26ddbfb6433a",
        "colab": {
          "base_uri": "https://localhost:8080/",
          "height": 34
        }
      },
      "source": [
        "from sklearn.model_selection import train_test_split\n",
        "\n",
        "train, test = train_test_split(df, train_size = 0.8, test_size = 0.2,  \n",
        "                               random_state = 42)\n",
        "df.shape, train.shape, test.shape"
      ],
      "execution_count": 11,
      "outputs": [
        {
          "output_type": "execute_result",
          "data": {
            "text/plain": [
              "((150500, 13), (120400, 13), (30100, 13))"
            ]
          },
          "metadata": {
            "tags": []
          },
          "execution_count": 11
        }
      ]
    },
    {
      "cell_type": "code",
      "metadata": {
        "id": "5Ag7i-IUXWMh",
        "colab_type": "code",
        "outputId": "a64e415c-d373-4895-918a-6e005afd516e",
        "colab": {
          "base_uri": "https://localhost:8080/",
          "height": 34
        }
      },
      "source": [
        "train, val = train_test_split(train, random_state = 42)\n",
        "train.shape, val.shape, test.shape"
      ],
      "execution_count": 12,
      "outputs": [
        {
          "output_type": "execute_result",
          "data": {
            "text/plain": [
              "((90300, 13), (30100, 13), (30100, 13))"
            ]
          },
          "metadata": {
            "tags": []
          },
          "execution_count": 12
        }
      ]
    },
    {
      "cell_type": "markdown",
      "metadata": {
        "id": "zf3fpTazEVfC",
        "colab_type": "text"
      },
      "source": [
        "# **Choose your evaluation metric(s).**"
      ]
    },
    {
      "cell_type": "markdown",
      "metadata": {
        "id": "cSA9AAWhgjQd",
        "colab_type": "text"
      },
      "source": [
        "accuracy score"
      ]
    },
    {
      "cell_type": "code",
      "metadata": {
        "id": "diy4pQI4EcOj",
        "colab_type": "code",
        "colab": {}
      },
      "source": [
        "from sklearn.metrics import accuracy_score"
      ],
      "execution_count": 0,
      "outputs": []
    },
    {
      "cell_type": "markdown",
      "metadata": {
        "id": "ZM5XLiaYYYLt",
        "colab_type": "text"
      },
      "source": [
        "Classification: Is your majority class frequency > 50% and < 70% ? If so, you can just use accuracy if you want. Outside that range, accuracy could be misleading. What evaluation metric will you choose, in addition to or instead of accuracy?"
      ]
    },
    {
      "cell_type": "markdown",
      "metadata": {
        "id": "W3YgkbvzaShB",
        "colab_type": "text"
      },
      "source": [
        "precision, recall, and roc auc"
      ]
    },
    {
      "cell_type": "markdown",
      "metadata": {
        "id": "zZeXzE0JT-qp",
        "colab_type": "text"
      },
      "source": [
        "# **Begin to clean and explore your data.**"
      ]
    },
    {
      "cell_type": "code",
      "metadata": {
        "id": "A_nIedNYEU8r",
        "colab_type": "code",
        "outputId": "99171e91-5d9d-4cee-ba42-1e3ba7656473",
        "colab": {
          "base_uri": "https://localhost:8080/",
          "height": 697
        }
      },
      "source": [
        "df['Category'].value_counts(normalize = True)"
      ],
      "execution_count": 14,
      "outputs": [
        {
          "output_type": "execute_result",
          "data": {
            "text/plain": [
              "LARCENY/THEFT                  0.268498\n",
              "OTHER OFFENSES                 0.130226\n",
              "NON-CRIMINAL                   0.118711\n",
              "ASSAULT                        0.090213\n",
              "VANDALISM                      0.057070\n",
              "VEHICLE THEFT                  0.042651\n",
              "WARRANTS                       0.039296\n",
              "BURGLARY                       0.038551\n",
              "SUSPICIOUS OCC                 0.038419\n",
              "MISSING PERSON                 0.028824\n",
              "DRUG/NARCOTIC                  0.028193\n",
              "ROBBERY                        0.021920\n",
              "FRAUD                          0.017508\n",
              "SECONDARY CODES                0.012233\n",
              "TRESPASS                       0.012040\n",
              "WEAPON LAWS                    0.011017\n",
              "SEX OFFENSES, FORCIBLE         0.006246\n",
              "STOLEN PROPERTY                0.005860\n",
              "RECOVERED VEHICLE              0.004890\n",
              "DISORDERLY CONDUCT             0.004372\n",
              "PROSTITUTION                   0.004259\n",
              "FORGERY/COUNTERFEITING         0.004113\n",
              "DRUNKENNESS                    0.003090\n",
              "DRIVING UNDER THE INFLUENCE    0.002512\n",
              "ARSON                          0.001900\n",
              "KIDNAPPING                     0.001708\n",
              "EMBEZZLEMENT                   0.001116\n",
              "LIQUOR LAWS                    0.001037\n",
              "RUNAWAY                        0.000930\n",
              "SUICIDE                        0.000458\n",
              "BRIBERY                        0.000439\n",
              "EXTORTION                      0.000399\n",
              "FAMILY OFFENSES                0.000352\n",
              "LOITERING                      0.000279\n",
              "SEX OFFENSES, NON FORCIBLE     0.000266\n",
              "BAD CHECKS                     0.000226\n",
              "GAMBLING                       0.000133\n",
              "PORNOGRAPHY/OBSCENE MAT        0.000027\n",
              "TREA                           0.000020\n",
              "Name: Category, dtype: float64"
            ]
          },
          "metadata": {
            "tags": []
          },
          "execution_count": 14
        }
      ]
    },
    {
      "cell_type": "code",
      "metadata": {
        "id": "wTO_ySafUDJQ",
        "colab_type": "code",
        "outputId": "8b97e020-b7b7-4c8e-8986-47fefefe19d0",
        "colab": {
          "base_uri": "https://localhost:8080/",
          "height": 153
        }
      },
      "source": [
        "df['DayOfWeek'].value_counts(normalize = True)"
      ],
      "execution_count": 15,
      "outputs": [
        {
          "output_type": "execute_result",
          "data": {
            "text/plain": [
              "Friday       0.155289\n",
              "Saturday     0.147322\n",
              "Thursday     0.142159\n",
              "Wednesday    0.141741\n",
              "Tuesday      0.141143\n",
              "Monday       0.138093\n",
              "Sunday       0.134252\n",
              "Name: DayOfWeek, dtype: float64"
            ]
          },
          "metadata": {
            "tags": []
          },
          "execution_count": 15
        }
      ]
    },
    {
      "cell_type": "code",
      "metadata": {
        "id": "OCGl4vVdZ0S3",
        "colab_type": "code",
        "outputId": "cfba7923-bfcb-4c90-f0d9-78b3c87970d8",
        "colab": {
          "base_uri": "https://localhost:8080/",
          "height": 204
        }
      },
      "source": [
        "df['PdDistrict'].value_counts(normalize = True)"
      ],
      "execution_count": 16,
      "outputs": [
        {
          "output_type": "execute_result",
          "data": {
            "text/plain": [
              "SOUTHERN      0.189005\n",
              "NORTHERN      0.133556\n",
              "MISSION       0.129589\n",
              "CENTRAL       0.117383\n",
              "BAYVIEW       0.095037\n",
              "INGLESIDE     0.077037\n",
              "TARAVAL       0.075250\n",
              "TENDERLOIN    0.066060\n",
              "RICHMOND      0.059283\n",
              "PARK          0.057801\n",
              "Name: PdDistrict, dtype: float64"
            ]
          },
          "metadata": {
            "tags": []
          },
          "execution_count": 16
        }
      ]
    },
    {
      "cell_type": "markdown",
      "metadata": {
        "id": "erIG1XabUD6M",
        "colab_type": "text"
      },
      "source": [
        "# **Begin to choose which features, if any, to exclude. Would some features \"leak\" future information?**"
      ]
    },
    {
      "cell_type": "code",
      "metadata": {
        "id": "pxRlDf3x9y42",
        "colab_type": "code",
        "colab": {}
      },
      "source": [
        "exluded_columns = ['IncidntNum', 'Descript', 'Date', 'Time', 'PdId', 'Address', 'Location']"
      ],
      "execution_count": 0,
      "outputs": []
    }
  ]
}