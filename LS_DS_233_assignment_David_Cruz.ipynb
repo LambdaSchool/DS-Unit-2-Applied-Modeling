{
  "nbformat": 4,
  "nbformat_minor": 0,
  "metadata": {
    "kernelspec": {
      "display_name": "Python 3",
      "language": "python",
      "name": "python3"
    },
    "language_info": {
      "codemirror_mode": {
        "name": "ipython",
        "version": 3
      },
      "file_extension": ".py",
      "mimetype": "text/x-python",
      "name": "python",
      "nbconvert_exporter": "python",
      "pygments_lexer": "ipython3",
      "version": "3.7.3"
    },
    "colab": {
      "name": "LS_DS_233_assignment_David_Cruz.ipynb",
      "provenance": [],
      "collapsed_sections": [],
      "include_colab_link": true
    }
  },
  "cells": [
    {
      "cell_type": "markdown",
      "metadata": {
        "id": "view-in-github",
        "colab_type": "text"
      },
      "source": [
        "<a href=\"https://colab.research.google.com/github/DAVIDCRUZ0202/DS-Unit-2-Applied-Modeling/blob/master/LS_DS_233_assignment_David_Cruz.ipynb\" target=\"_parent\"><img src=\"https://colab.research.google.com/assets/colab-badge.svg\" alt=\"Open In Colab\"/></a>"
      ]
    },
    {
      "cell_type": "markdown",
      "metadata": {
        "colab_type": "text",
        "id": "nCc3XZEyG3XV"
      },
      "source": [
        "Lambda School Data Science\n",
        "\n",
        "*Unit 2, Sprint 3, Module 3*\n",
        "\n",
        "---\n",
        "\n",
        "\n",
        "# Permutation & Boosting\n",
        "\n",
        "You will use your portfolio project dataset for all assignments this sprint.\n",
        "\n",
        "## Assignment\n",
        "\n",
        "Complete these tasks for your project, and document your work.\n",
        "\n",
        "- [ ] If you haven't completed assignment #1, please do so first.\n",
        "- [ ] Continue to clean and explore your data. Make exploratory visualizations.\n",
        "- [ ] Fit a model. Does it beat your baseline? \n",
        "- [ ] Try xgboost.\n",
        "- [ ] Get your model's permutation importances.\n",
        "\n",
        "You should try to complete an initial model today, because the rest of the week, we're making model interpretation visualizations.\n",
        "\n",
        "But, if you aren't ready to try xgboost and permutation importances with your dataset today, that's okay. You can practice with another dataset instead. You may choose any dataset you've worked with previously.\n",
        "\n",
        "The data subdirectory includes the Titanic dataset for classification and the NYC apartments dataset for regression. You may want to choose one of these datasets, because example solutions will be available for each.\n",
        "\n",
        "\n",
        "## Reading\n",
        "\n",
        "Top recommendations in _**bold italic:**_\n",
        "\n",
        "#### Permutation Importances\n",
        "- _**[Kaggle / Dan Becker: Machine Learning Explainability](https://www.kaggle.com/dansbecker/permutation-importance)**_\n",
        "- [Christoph Molnar: Interpretable Machine Learning](https://christophm.github.io/interpretable-ml-book/feature-importance.html)\n",
        "\n",
        "#### (Default) Feature Importances\n",
        "  - [Ando Saabas: Selecting good features, Part 3, Random Forests](https://blog.datadive.net/selecting-good-features-part-iii-random-forests/)\n",
        "  - [Terence Parr, et al: Beware Default Random Forest Importances](https://explained.ai/rf-importance/index.html)\n",
        "\n",
        "#### Gradient Boosting\n",
        "  - [A Gentle Introduction to the Gradient Boosting Algorithm for Machine Learning](https://machinelearningmastery.com/gentle-introduction-gradient-boosting-algorithm-machine-learning/)\n",
        "  - [An Introduction to Statistical Learning](http://www-bcf.usc.edu/~gareth/ISL/ISLR%20Seventh%20Printing.pdf), Chapter 8\n",
        "  - _**[Gradient Boosting Explained](https://www.gormanalysis.com/blog/gradient-boosting-explained/)**_ — Ben Gorman\n",
        "  - [Gradient Boosting Explained](http://arogozhnikov.github.io/2016/06/24/gradient_boosting_explained.html) — Alex Rogozhnikov\n",
        "  - [How to explain gradient boosting](https://explained.ai/gradient-boosting/) — Terence Parr & Jeremy Howard"
      ]
    },
    {
      "cell_type": "code",
      "metadata": {
        "id": "fGrXlUfnV8nJ",
        "colab_type": "code",
        "outputId": "976bb853-9a81-46ee-bfbc-91c525c579dc",
        "colab": {
          "resources": {
            "http://localhost:8080/nbextensions/google.colab/files.js": {
              "data": "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",
              "ok": true,
              "headers": [
                [
                  "content-type",
                  "application/javascript"
                ]
              ],
              "status": 200,
              "status_text": ""
            }
          },
          "base_uri": "https://localhost:8080/",
          "height": 74
        }
      },
      "source": [
        "import pandas as pd\n",
        "\n",
        "from google.colab import files\n",
        "uploaded = files.upload()"
      ],
      "execution_count": 0,
      "outputs": [
        {
          "output_type": "display_data",
          "data": {
            "text/html": [
              "\n",
              "     <input type=\"file\" id=\"files-d7650637-8a8d-4656-b621-1b528243ae35\" name=\"files[]\" multiple disabled />\n",
              "     <output id=\"result-d7650637-8a8d-4656-b621-1b528243ae35\">\n",
              "      Upload widget is only available when the cell has been executed in the\n",
              "      current browser session. Please rerun this cell to enable.\n",
              "      </output>\n",
              "      <script src=\"/nbextensions/google.colab/files.js\"></script> "
            ],
            "text/plain": [
              "<IPython.core.display.HTML object>"
            ]
          },
          "metadata": {
            "tags": []
          }
        },
        {
          "output_type": "stream",
          "text": [
            "Saving database.csv to database (4).csv\n"
          ],
          "name": "stdout"
        }
      ]
    },
    {
      "cell_type": "code",
      "metadata": {
        "id": "zADpOugYIacI",
        "colab_type": "code",
        "outputId": "8ed1ac04-e4c5-46bf-ba30-167431c615d6",
        "colab": {
          "base_uri": "https://localhost:8080/",
          "height": 340
        }
      },
      "source": [
        "df = pd.read_csv('database.csv')\n",
        "\n",
        "df.columns"
      ],
      "execution_count": 0,
      "outputs": [
        {
          "output_type": "execute_result",
          "data": {
            "text/plain": [
              "Index(['Report Number', 'Supplemental Number', 'Accident Year',\n",
              "       'Accident Date/Time', 'Operator ID', 'Operator Name',\n",
              "       'Pipeline/Facility Name', 'Pipeline Location', 'Pipeline Type',\n",
              "       'Liquid Type', 'Liquid Subtype', 'Liquid Name', 'Accident City',\n",
              "       'Accident County', 'Accident State', 'Accident Latitude',\n",
              "       'Accident Longitude', 'Cause Category', 'Cause Subcategory',\n",
              "       'Unintentional Release (Barrels)', 'Intentional Release (Barrels)',\n",
              "       'Liquid Recovery (Barrels)', 'Net Loss (Barrels)', 'Liquid Ignition',\n",
              "       'Liquid Explosion', 'Pipeline Shutdown', 'Shutdown Date/Time',\n",
              "       'Restart Date/Time', 'Public Evacuations', 'Operator Employee Injuries',\n",
              "       'Operator Contractor Injuries', 'Emergency Responder Injuries',\n",
              "       'Other Injuries', 'Public Injuries', 'All Injuries',\n",
              "       'Operator Employee Fatalities', 'Operator Contractor Fatalities',\n",
              "       'Emergency Responder Fatalities', 'Other Fatalities',\n",
              "       'Public Fatalities', 'All Fatalities', 'Property Damage Costs',\n",
              "       'Lost Commodity Costs', 'Public/Private Property Damage Costs',\n",
              "       'Emergency Response Costs', 'Environmental Remediation Costs',\n",
              "       'Other Costs', 'All Costs'],\n",
              "      dtype='object')"
            ]
          },
          "metadata": {
            "tags": []
          },
          "execution_count": 2
        }
      ]
    },
    {
      "cell_type": "code",
      "metadata": {
        "id": "BzZGtULVIrSC",
        "colab_type": "code",
        "outputId": "38b8e008-c7f1-44c1-ead6-c7d3a1d557c9",
        "colab": {
          "base_uri": "https://localhost:8080/",
          "height": 153
        }
      },
      "source": [
        "df['Cause Category'].value_counts(normalize=True)"
      ],
      "execution_count": 0,
      "outputs": [
        {
          "output_type": "execute_result",
          "data": {
            "text/plain": [
              "MATERIAL/WELD/EQUIP FAILURE    0.513417\n",
              "CORROSION                      0.211807\n",
              "INCORRECT OPERATION            0.135242\n",
              "NATURAL FORCE DAMAGE           0.042218\n",
              "ALL OTHER CAUSES               0.042218\n",
              "EXCAVATION DAMAGE              0.034705\n",
              "OTHER OUTSIDE FORCE DAMAGE     0.020394\n",
              "Name: Cause Category, dtype: float64"
            ]
          },
          "metadata": {
            "tags": []
          },
          "execution_count": 3
        }
      ]
    },
    {
      "cell_type": "code",
      "metadata": {
        "id": "H0XM_Aw6MA3n",
        "colab_type": "code",
        "outputId": "09a99834-a852-4c98-9d08-6c9fa389b614",
        "colab": {
          "base_uri": "https://localhost:8080/",
          "height": 513
        }
      },
      "source": [
        "df.head()"
      ],
      "execution_count": 0,
      "outputs": [
        {
          "output_type": "execute_result",
          "data": {
            "text/html": [
              "<div>\n",
              "<style scoped>\n",
              "    .dataframe tbody tr th:only-of-type {\n",
              "        vertical-align: middle;\n",
              "    }\n",
              "\n",
              "    .dataframe tbody tr th {\n",
              "        vertical-align: top;\n",
              "    }\n",
              "\n",
              "    .dataframe thead th {\n",
              "        text-align: right;\n",
              "    }\n",
              "</style>\n",
              "<table border=\"1\" class=\"dataframe\">\n",
              "  <thead>\n",
              "    <tr style=\"text-align: right;\">\n",
              "      <th></th>\n",
              "      <th>Report Number</th>\n",
              "      <th>Supplemental Number</th>\n",
              "      <th>Accident Year</th>\n",
              "      <th>Accident Date/Time</th>\n",
              "      <th>Operator ID</th>\n",
              "      <th>Operator Name</th>\n",
              "      <th>Pipeline/Facility Name</th>\n",
              "      <th>Pipeline Location</th>\n",
              "      <th>Pipeline Type</th>\n",
              "      <th>Liquid Type</th>\n",
              "      <th>Liquid Subtype</th>\n",
              "      <th>Liquid Name</th>\n",
              "      <th>Accident City</th>\n",
              "      <th>Accident County</th>\n",
              "      <th>Accident State</th>\n",
              "      <th>Accident Latitude</th>\n",
              "      <th>Accident Longitude</th>\n",
              "      <th>Cause Category</th>\n",
              "      <th>Cause Subcategory</th>\n",
              "      <th>Unintentional Release (Barrels)</th>\n",
              "      <th>Intentional Release (Barrels)</th>\n",
              "      <th>Liquid Recovery (Barrels)</th>\n",
              "      <th>Net Loss (Barrels)</th>\n",
              "      <th>Liquid Ignition</th>\n",
              "      <th>Liquid Explosion</th>\n",
              "      <th>Pipeline Shutdown</th>\n",
              "      <th>Shutdown Date/Time</th>\n",
              "      <th>Restart Date/Time</th>\n",
              "      <th>Public Evacuations</th>\n",
              "      <th>Operator Employee Injuries</th>\n",
              "      <th>Operator Contractor Injuries</th>\n",
              "      <th>Emergency Responder Injuries</th>\n",
              "      <th>Other Injuries</th>\n",
              "      <th>Public Injuries</th>\n",
              "      <th>All Injuries</th>\n",
              "      <th>Operator Employee Fatalities</th>\n",
              "      <th>Operator Contractor Fatalities</th>\n",
              "      <th>Emergency Responder Fatalities</th>\n",
              "      <th>Other Fatalities</th>\n",
              "      <th>Public Fatalities</th>\n",
              "      <th>All Fatalities</th>\n",
              "      <th>Property Damage Costs</th>\n",
              "      <th>Lost Commodity Costs</th>\n",
              "      <th>Public/Private Property Damage Costs</th>\n",
              "      <th>Emergency Response Costs</th>\n",
              "      <th>Environmental Remediation Costs</th>\n",
              "      <th>Other Costs</th>\n",
              "      <th>All Costs</th>\n",
              "    </tr>\n",
              "  </thead>\n",
              "  <tbody>\n",
              "    <tr>\n",
              "      <th>0</th>\n",
              "      <td>20100016</td>\n",
              "      <td>17305</td>\n",
              "      <td>2010</td>\n",
              "      <td>1/1/2010 7:15 AM</td>\n",
              "      <td>32109</td>\n",
              "      <td>ONEOK NGL PIPELINE LP</td>\n",
              "      <td>KINDER MORGAN JCT</td>\n",
              "      <td>ONSHORE</td>\n",
              "      <td>ABOVEGROUND</td>\n",
              "      <td>HVL OR OTHER FLAMMABLE OR TOXIC FLUID, GAS</td>\n",
              "      <td>LPG (LIQUEFIED PETROLEUM GAS) / NGL (NATURAL G...</td>\n",
              "      <td>NaN</td>\n",
              "      <td>MCPHERSON</td>\n",
              "      <td>MCPHERSON</td>\n",
              "      <td>KS</td>\n",
              "      <td>38.67070</td>\n",
              "      <td>-97.78123</td>\n",
              "      <td>INCORRECT OPERATION</td>\n",
              "      <td>PIPELINE/EQUIPMENT OVERPRESSURED</td>\n",
              "      <td>21.00</td>\n",
              "      <td>0.1</td>\n",
              "      <td>0.00</td>\n",
              "      <td>21.0</td>\n",
              "      <td>NO</td>\n",
              "      <td>NO</td>\n",
              "      <td>NO</td>\n",
              "      <td>NaN</td>\n",
              "      <td>NaN</td>\n",
              "      <td>NaN</td>\n",
              "      <td>NaN</td>\n",
              "      <td>NaN</td>\n",
              "      <td>NaN</td>\n",
              "      <td>NaN</td>\n",
              "      <td>NaN</td>\n",
              "      <td>NaN</td>\n",
              "      <td>NaN</td>\n",
              "      <td>NaN</td>\n",
              "      <td>NaN</td>\n",
              "      <td>NaN</td>\n",
              "      <td>NaN</td>\n",
              "      <td>NaN</td>\n",
              "      <td>110.0</td>\n",
              "      <td>1517.0</td>\n",
              "      <td>0.0</td>\n",
              "      <td>0.0</td>\n",
              "      <td>0.0</td>\n",
              "      <td>0.0</td>\n",
              "      <td>1627</td>\n",
              "    </tr>\n",
              "    <tr>\n",
              "      <th>1</th>\n",
              "      <td>20100254</td>\n",
              "      <td>17331</td>\n",
              "      <td>2010</td>\n",
              "      <td>1/4/2010 8:30 AM</td>\n",
              "      <td>15786</td>\n",
              "      <td>PORTLAND PIPELINE CORP</td>\n",
              "      <td>24-INCH MAIN LINE</td>\n",
              "      <td>ONSHORE</td>\n",
              "      <td>ABOVEGROUND</td>\n",
              "      <td>CRUDE OIL</td>\n",
              "      <td>NaN</td>\n",
              "      <td>NaN</td>\n",
              "      <td>RAYMOND</td>\n",
              "      <td>CUMBERLAND</td>\n",
              "      <td>ME</td>\n",
              "      <td>43.94028</td>\n",
              "      <td>-70.49336</td>\n",
              "      <td>MATERIAL/WELD/EQUIP FAILURE</td>\n",
              "      <td>PUMP OR PUMP-RELATED EQUIPMENT</td>\n",
              "      <td>0.12</td>\n",
              "      <td>0.0</td>\n",
              "      <td>0.12</td>\n",
              "      <td>0.0</td>\n",
              "      <td>NO</td>\n",
              "      <td>NO</td>\n",
              "      <td>NaN</td>\n",
              "      <td>NaN</td>\n",
              "      <td>NaN</td>\n",
              "      <td>NaN</td>\n",
              "      <td>NaN</td>\n",
              "      <td>NaN</td>\n",
              "      <td>NaN</td>\n",
              "      <td>NaN</td>\n",
              "      <td>NaN</td>\n",
              "      <td>NaN</td>\n",
              "      <td>NaN</td>\n",
              "      <td>NaN</td>\n",
              "      <td>NaN</td>\n",
              "      <td>NaN</td>\n",
              "      <td>NaN</td>\n",
              "      <td>NaN</td>\n",
              "      <td>4000.0</td>\n",
              "      <td>8.0</td>\n",
              "      <td>0.0</td>\n",
              "      <td>0.0</td>\n",
              "      <td>0.0</td>\n",
              "      <td>0.0</td>\n",
              "      <td>4008</td>\n",
              "    </tr>\n",
              "    <tr>\n",
              "      <th>2</th>\n",
              "      <td>20100038</td>\n",
              "      <td>17747</td>\n",
              "      <td>2010</td>\n",
              "      <td>1/5/2010 10:30 AM</td>\n",
              "      <td>20160</td>\n",
              "      <td>PETROLOGISTICS OLEFINS, LLC</td>\n",
              "      <td>NaN</td>\n",
              "      <td>ONSHORE</td>\n",
              "      <td>ABOVEGROUND</td>\n",
              "      <td>HVL OR OTHER FLAMMABLE OR TOXIC FLUID, GAS</td>\n",
              "      <td>OTHER HVL</td>\n",
              "      <td>ETHANE</td>\n",
              "      <td>SULPHER</td>\n",
              "      <td>CALCASIEU</td>\n",
              "      <td>LA</td>\n",
              "      <td>30.18240</td>\n",
              "      <td>-93.35240</td>\n",
              "      <td>MATERIAL/WELD/EQUIP FAILURE</td>\n",
              "      <td>DEFECTIVE OR LOOSE TUBING/FITTING</td>\n",
              "      <td>2.00</td>\n",
              "      <td>0.0</td>\n",
              "      <td>0.00</td>\n",
              "      <td>2.0</td>\n",
              "      <td>NO</td>\n",
              "      <td>NO</td>\n",
              "      <td>NaN</td>\n",
              "      <td>NaN</td>\n",
              "      <td>NaN</td>\n",
              "      <td>NaN</td>\n",
              "      <td>NaN</td>\n",
              "      <td>NaN</td>\n",
              "      <td>NaN</td>\n",
              "      <td>NaN</td>\n",
              "      <td>NaN</td>\n",
              "      <td>NaN</td>\n",
              "      <td>NaN</td>\n",
              "      <td>NaN</td>\n",
              "      <td>NaN</td>\n",
              "      <td>NaN</td>\n",
              "      <td>NaN</td>\n",
              "      <td>NaN</td>\n",
              "      <td>0.0</td>\n",
              "      <td>200.0</td>\n",
              "      <td>0.0</td>\n",
              "      <td>0.0</td>\n",
              "      <td>0.0</td>\n",
              "      <td>0.0</td>\n",
              "      <td>200</td>\n",
              "    </tr>\n",
              "    <tr>\n",
              "      <th>3</th>\n",
              "      <td>20100260</td>\n",
              "      <td>18574</td>\n",
              "      <td>2010</td>\n",
              "      <td>1/6/2010 7:30 PM</td>\n",
              "      <td>11169</td>\n",
              "      <td>ENBRIDGE ENERGY, LIMITED PARTNERSHIP</td>\n",
              "      <td>SUPERIOR TERMINAL</td>\n",
              "      <td>ONSHORE</td>\n",
              "      <td>UNDERGROUND</td>\n",
              "      <td>CRUDE OIL</td>\n",
              "      <td>NaN</td>\n",
              "      <td>NaN</td>\n",
              "      <td>SUPERIOR</td>\n",
              "      <td>DOUGLAS</td>\n",
              "      <td>WI</td>\n",
              "      <td>46.68930</td>\n",
              "      <td>-92.06120</td>\n",
              "      <td>NATURAL FORCE DAMAGE</td>\n",
              "      <td>TEMPERATURE</td>\n",
              "      <td>0.48</td>\n",
              "      <td>0.0</td>\n",
              "      <td>0.48</td>\n",
              "      <td>0.0</td>\n",
              "      <td>NO</td>\n",
              "      <td>NO</td>\n",
              "      <td>NaN</td>\n",
              "      <td>NaN</td>\n",
              "      <td>NaN</td>\n",
              "      <td>NaN</td>\n",
              "      <td>NaN</td>\n",
              "      <td>NaN</td>\n",
              "      <td>NaN</td>\n",
              "      <td>NaN</td>\n",
              "      <td>NaN</td>\n",
              "      <td>NaN</td>\n",
              "      <td>NaN</td>\n",
              "      <td>NaN</td>\n",
              "      <td>NaN</td>\n",
              "      <td>NaN</td>\n",
              "      <td>NaN</td>\n",
              "      <td>NaN</td>\n",
              "      <td>200.0</td>\n",
              "      <td>40.0</td>\n",
              "      <td>0.0</td>\n",
              "      <td>11300.0</td>\n",
              "      <td>0.0</td>\n",
              "      <td>0.0</td>\n",
              "      <td>11540</td>\n",
              "    </tr>\n",
              "    <tr>\n",
              "      <th>4</th>\n",
              "      <td>20100030</td>\n",
              "      <td>16276</td>\n",
              "      <td>2010</td>\n",
              "      <td>1/7/2010 1:00 PM</td>\n",
              "      <td>300</td>\n",
              "      <td>PLAINS PIPELINE, L.P.</td>\n",
              "      <td>RED RIVER EAST</td>\n",
              "      <td>ONSHORE</td>\n",
              "      <td>UNDERGROUND</td>\n",
              "      <td>CRUDE OIL</td>\n",
              "      <td>NaN</td>\n",
              "      <td>NaN</td>\n",
              "      <td>SHERMAN</td>\n",
              "      <td>GRAYSON</td>\n",
              "      <td>TX</td>\n",
              "      <td>33.58266</td>\n",
              "      <td>-96.64881</td>\n",
              "      <td>EXCAVATION DAMAGE</td>\n",
              "      <td>THIRD PARTY EXCAVATION DAMAGE</td>\n",
              "      <td>700.00</td>\n",
              "      <td>NaN</td>\n",
              "      <td>698.00</td>\n",
              "      <td>2.0</td>\n",
              "      <td>NO</td>\n",
              "      <td>NO</td>\n",
              "      <td>NO</td>\n",
              "      <td>NaN</td>\n",
              "      <td>NaN</td>\n",
              "      <td>NaN</td>\n",
              "      <td>NaN</td>\n",
              "      <td>NaN</td>\n",
              "      <td>NaN</td>\n",
              "      <td>NaN</td>\n",
              "      <td>NaN</td>\n",
              "      <td>NaN</td>\n",
              "      <td>NaN</td>\n",
              "      <td>NaN</td>\n",
              "      <td>NaN</td>\n",
              "      <td>NaN</td>\n",
              "      <td>NaN</td>\n",
              "      <td>NaN</td>\n",
              "      <td>20000.0</td>\n",
              "      <td>150.0</td>\n",
              "      <td>0.0</td>\n",
              "      <td>7500.0</td>\n",
              "      <td>2000.0</td>\n",
              "      <td>0.0</td>\n",
              "      <td>29650</td>\n",
              "    </tr>\n",
              "  </tbody>\n",
              "</table>\n",
              "</div>"
            ],
            "text/plain": [
              "   Report Number  Supplemental Number  ...  Other Costs All Costs\n",
              "0       20100016                17305  ...          0.0      1627\n",
              "1       20100254                17331  ...          0.0      4008\n",
              "2       20100038                17747  ...          0.0       200\n",
              "3       20100260                18574  ...          0.0     11540\n",
              "4       20100030                16276  ...          0.0     29650\n",
              "\n",
              "[5 rows x 48 columns]"
            ]
          },
          "metadata": {
            "tags": []
          },
          "execution_count": 4
        }
      ]
    },
    {
      "cell_type": "code",
      "metadata": {
        "id": "AUqQxa37NQ5O",
        "colab_type": "code",
        "outputId": "d805131c-8819-44f1-9d4b-e5717ae17048",
        "colab": {
          "base_uri": "https://localhost:8080/",
          "height": 170
        }
      },
      "source": [
        "df['Accident Year'].value_counts()"
      ],
      "execution_count": 0,
      "outputs": [
        {
          "output_type": "execute_result",
          "data": {
            "text/plain": [
              "2015    462\n",
              "2014    454\n",
              "2016    415\n",
              "2013    401\n",
              "2012    366\n",
              "2010    350\n",
              "2011    345\n",
              "2017      2\n",
              "Name: Accident Year, dtype: int64"
            ]
          },
          "metadata": {
            "tags": []
          },
          "execution_count": 5
        }
      ]
    },
    {
      "cell_type": "code",
      "metadata": {
        "id": "nPKv2bMVIwXZ",
        "colab_type": "code",
        "colab": {}
      },
      "source": [
        "# Our target is the \"Cause Category\"\n",
        "# Above is the distribution of the target\n",
        "# there are 7 different classes, with the majority class happening 51% of the time.\n",
        "# For accuracy, we can just use the majority class since it clocks in at 51%. This is a solid baseline.\n",
        "\n",
        "\n",
        "# For Train/Val/Test split, I will use years to separate each. I'll make the training set 2010-2012, and the validation set 2013-2015.\n",
        "# My test set will be the year of 2016-17.\n",
        "\n",
        "# This is a classification problem. The classes are imbalanced, and we should expect\n",
        "# to see much more of our majority class than the outliers. \n",
        "\n",
        "# As far as cleaning and exploration, we already know to remove the \"Cause Subcategory\".\n",
        "# so that we remove data leakage associated with it. This Column is directly related to \"Cause Category\"\n",
        "\n",
        "# Perform Split\n",
        "# Wrangle Function\n",
        "# Arrange Features and Targets\n",
        "# Fit Model\n",
        "# Validate\n",
        "# permutations and feature importance\n"
      ],
      "execution_count": 0,
      "outputs": []
    },
    {
      "cell_type": "code",
      "metadata": {
        "id": "Lh0IyxBxKzfd",
        "colab_type": "code",
        "outputId": "0ea1d5e8-843b-4c0e-dbe6-20a05d4693ae",
        "colab": {
          "base_uri": "https://localhost:8080/",
          "height": 221
        }
      },
      "source": [
        "# Split\n",
        "# These are time-based splits, so we will not use the model_selection of train_test_split\n",
        "# We are splitting on the df['Accident Year']\n",
        "\n",
        "import numpy as np\n",
        "import pandas as pd\n",
        "\n",
        "train = df[df['Accident Year'] <= 2012]\n",
        "test = df[df['Accident Year'] >= 2016]\n",
        "val = df[df['Accident Year'] >= 2013]\n",
        "val = val[val['Accident Year'] < 2016]\n",
        "\n",
        "\n",
        "print(train.shape, val.shape, test.shape)\n",
        "\n",
        "print(train['Accident Year'].value_counts())\n",
        "\n",
        "print(val['Accident Year'].value_counts())\n",
        "\n",
        "print(test['Accident Year'].value_counts())"
      ],
      "execution_count": 0,
      "outputs": [
        {
          "output_type": "stream",
          "text": [
            "(1061, 48) (1317, 48) (417, 48)\n",
            "2012    366\n",
            "2010    350\n",
            "2011    345\n",
            "Name: Accident Year, dtype: int64\n",
            "2015    462\n",
            "2014    454\n",
            "2013    401\n",
            "Name: Accident Year, dtype: int64\n",
            "2016    415\n",
            "2017      2\n",
            "Name: Accident Year, dtype: int64\n"
          ],
          "name": "stdout"
        }
      ]
    },
    {
      "cell_type": "code",
      "metadata": {
        "id": "pTfdrTrXOwqC",
        "colab_type": "code",
        "outputId": "c86378ec-0642-432c-b708-11b59f78ffe2",
        "colab": {
          "base_uri": "https://localhost:8080/",
          "height": 850
        }
      },
      "source": [
        "# Wrangle Wresearch\n",
        "# Any values to round to 0? no\n",
        "# Any values with 0 that shouldnt? no\n",
        "# Duplicate / Leaking Columns? Columns with Unique values or static values? **********Drop ['Report Number'], ['Cause Subcategory'], ['Supplemental Number'], \n",
        "\n",
        "df.nunique()"
      ],
      "execution_count": 0,
      "outputs": [
        {
          "output_type": "execute_result",
          "data": {
            "text/plain": [
              "Report Number                           2795\n",
              "Supplemental Number                     2795\n",
              "Accident Year                              8\n",
              "Accident Date/Time                      2777\n",
              "Operator ID                              213\n",
              "Operator Name                            229\n",
              "Pipeline/Facility Name                  1977\n",
              "Pipeline Location                          2\n",
              "Pipeline Type                              4\n",
              "Liquid Type                                5\n",
              "Liquid Subtype                             8\n",
              "Liquid Name                               69\n",
              "Accident City                           1027\n",
              "Accident County                          678\n",
              "Accident State                            46\n",
              "Accident Latitude                       2552\n",
              "Accident Longitude                      2557\n",
              "Cause Category                             7\n",
              "Cause Subcategory                         38\n",
              "Unintentional Release (Barrels)          697\n",
              "Intentional Release (Barrels)            117\n",
              "Liquid Recovery (Barrels)                539\n",
              "Net Loss (Barrels)                       443\n",
              "Liquid Ignition                            2\n",
              "Liquid Explosion                           2\n",
              "Pipeline Shutdown                          2\n",
              "Shutdown Date/Time                      1385\n",
              "Restart Date/Time                       1334\n",
              "Public Evacuations                        35\n",
              "Operator Employee Injuries                 2\n",
              "Operator Contractor Injuries               5\n",
              "Emergency Responder Injuries               1\n",
              "Other Injuries                             1\n",
              "Public Injuries                            3\n",
              "All Injuries                               4\n",
              "Operator Employee Fatalities               1\n",
              "Operator Contractor Fatalities             3\n",
              "Emergency Responder Fatalities             1\n",
              "Other Fatalities                           2\n",
              "Public Fatalities                          3\n",
              "All Fatalities                             2\n",
              "Property Damage Costs                    768\n",
              "Lost Commodity Costs                     748\n",
              "Public/Private Property Damage Costs     110\n",
              "Emergency Response Costs                 712\n",
              "Environmental Remediation Costs          628\n",
              "Other Costs                              175\n",
              "All Costs                               2279\n",
              "dtype: int64"
            ]
          },
          "metadata": {
            "tags": []
          },
          "execution_count": 8
        }
      ]
    },
    {
      "cell_type": "code",
      "metadata": {
        "id": "zu4RN1VKK0LP",
        "colab_type": "code",
        "colab": {}
      },
      "source": [
        "# Wrangle\n",
        "\n",
        "def wrangle(X):\n",
        "    \"\"\"Wrangle train, validate, and test sets in the same way\"\"\"\n",
        "    \n",
        "    # Prevent SettingWithCopyWarning\n",
        "    X = X.copy()\n",
        "\n",
        "    # When columns have zeros and shouldn't, they are like null values.\n",
        "    # So we will replace the zeros with nulls, and impute missing values later.\n",
        "\n",
        "    \n",
        "    # Drop Report Number( always varies) Cause Subcategory(data leakage)\n",
        "    unusable_variance = ['Report Number', 'Cause Subcategory', 'Supplemental Number']\n",
        "    X = X.drop(columns=unusable_variance)\n",
        "\n",
        "    # Drop the columns with 0 feature importance\n",
        "    more_variance = ['All Fatalities', 'Pipeline Location', 'Public Fatalities', 'Accident Date/Time',\n",
        "                     'Accident Year', 'Liquid Explosion', 'Shutdown Date/Time', 'Restart Date/Time',\n",
        "                     'Operator Employee Injuries', 'Operator Contractor Injuries', 'Emergency Responder Injuries',\n",
        "                     'Other Injuries', 'Public Injuries', 'All Injuries', 'Operator Employee Fatalities',\n",
        "                     'Operator Contractor Fatalities', 'Emergency Responder Fatalities', 'Other Fatalities']\n",
        "\n",
        "    X = X.drop(columns=more_variance)\n",
        "\n",
        "    \n",
        "\n",
        "    # Engineer features!\n",
        "    \n",
        "    # return the wrangled dataframe\n",
        "    return X\n",
        "\n",
        "train = wrangle(train)\n",
        "val = wrangle(val)\n",
        "test = wrangle(test)"
      ],
      "execution_count": 0,
      "outputs": []
    },
    {
      "cell_type": "code",
      "metadata": {
        "id": "fR3JFIVhStCn",
        "colab_type": "code",
        "colab": {}
      },
      "source": [
        "# Arrange data into X features matrix and Y target vector\n",
        "target = 'Cause Category'\n",
        "X_train = train.drop(columns=target)\n",
        "y_train = train[target]\n",
        "X_val = val.drop(columns=target)\n",
        "y_val = val[target]\n",
        "X_test = test.drop(columns=target)\n",
        "y_test = test[target]"
      ],
      "execution_count": 0,
      "outputs": []
    },
    {
      "cell_type": "code",
      "metadata": {
        "id": "Xc1P76A4K4tm",
        "colab_type": "code",
        "outputId": "3b5ff4ae-38a3-4fab-9786-75b8b384486a",
        "colab": {
          "base_uri": "https://localhost:8080/",
          "height": 238
        }
      },
      "source": [
        "# Create and fit\n",
        "!pip install category_encoders\n",
        "import category_encoders as ce\n",
        "from sklearn.impute import SimpleImputer\n",
        "from sklearn.ensemble import RandomForestClassifier\n",
        "from sklearn.model_selection import train_test_split\n",
        "from sklearn.pipeline import make_pipeline\n",
        "from xgboost import XGBClassifier\n",
        "import matplotlib.pyplot as plt\n",
        "\n",
        "pipeline = make_pipeline(\n",
        "    ce.OrdinalEncoder(),\n",
        "    XGBClassifier(n_estimators=100, random_state=42, n_jobs=-1)\n",
        ")"
      ],
      "execution_count": 0,
      "outputs": [
        {
          "output_type": "stream",
          "text": [
            "Requirement already satisfied: category_encoders in /usr/local/lib/python3.6/dist-packages (2.2.2)\n",
            "Requirement already satisfied: numpy>=1.14.0 in /usr/local/lib/python3.6/dist-packages (from category_encoders) (1.18.4)\n",
            "Requirement already satisfied: statsmodels>=0.9.0 in /usr/local/lib/python3.6/dist-packages (from category_encoders) (0.10.2)\n",
            "Requirement already satisfied: scipy>=1.0.0 in /usr/local/lib/python3.6/dist-packages (from category_encoders) (1.4.1)\n",
            "Requirement already satisfied: scikit-learn>=0.20.0 in /usr/local/lib/python3.6/dist-packages (from category_encoders) (0.22.2.post1)\n",
            "Requirement already satisfied: pandas>=0.21.1 in /usr/local/lib/python3.6/dist-packages (from category_encoders) (1.0.3)\n",
            "Requirement already satisfied: patsy>=0.5.1 in /usr/local/lib/python3.6/dist-packages (from category_encoders) (0.5.1)\n",
            "Requirement already satisfied: joblib>=0.11 in /usr/local/lib/python3.6/dist-packages (from scikit-learn>=0.20.0->category_encoders) (0.15.1)\n",
            "Requirement already satisfied: pytz>=2017.2 in /usr/local/lib/python3.6/dist-packages (from pandas>=0.21.1->category_encoders) (2018.9)\n",
            "Requirement already satisfied: python-dateutil>=2.6.1 in /usr/local/lib/python3.6/dist-packages (from pandas>=0.21.1->category_encoders) (2.8.1)\n",
            "Requirement already satisfied: six in /usr/local/lib/python3.6/dist-packages (from patsy>=0.5.1->category_encoders) (1.12.0)\n"
          ],
          "name": "stdout"
        },
        {
          "output_type": "stream",
          "text": [
            "/usr/local/lib/python3.6/dist-packages/statsmodels/tools/_testing.py:19: FutureWarning: pandas.util.testing is deprecated. Use the functions in the public API at pandas.testing instead.\n",
            "  import pandas.util.testing as tm\n"
          ],
          "name": "stderr"
        }
      ]
    },
    {
      "cell_type": "code",
      "metadata": {
        "id": "n9N5boYuUpKQ",
        "colab_type": "code",
        "outputId": "7b5ef972-d316-4a14-b84f-7c0900a5177a",
        "colab": {
          "base_uri": "https://localhost:8080/",
          "height": 408
        }
      },
      "source": [
        "pipeline.fit(X_train, y_train)"
      ],
      "execution_count": 0,
      "outputs": [
        {
          "output_type": "execute_result",
          "data": {
            "text/plain": [
              "Pipeline(memory=None,\n",
              "         steps=[('ordinalencoder',\n",
              "                 OrdinalEncoder(cols=['Operator Name', 'Pipeline/Facility Name',\n",
              "                                      'Pipeline Type', 'Liquid Type',\n",
              "                                      'Liquid Subtype', 'Liquid Name',\n",
              "                                      'Accident City', 'Accident County',\n",
              "                                      'Accident State', 'Liquid Ignition',\n",
              "                                      'Pipeline Shutdown'],\n",
              "                                drop_invariant=False, handle_missing='value',\n",
              "                                handle_unknown='value',\n",
              "                                mapping=[{'col': 'Operator Name',\n",
              "                                          'dat...\n",
              "                 XGBClassifier(base_score=0.5, booster='gbtree',\n",
              "                               colsample_bylevel=1, colsample_bynode=1,\n",
              "                               colsample_bytree=1, gamma=0, learning_rate=0.1,\n",
              "                               max_delta_step=0, max_depth=3,\n",
              "                               min_child_weight=1, missing=None,\n",
              "                               n_estimators=100, n_jobs=-1, nthread=None,\n",
              "                               objective='multi:softprob', random_state=42,\n",
              "                               reg_alpha=0, reg_lambda=1, scale_pos_weight=1,\n",
              "                               seed=None, silent=None, subsample=1,\n",
              "                               verbosity=1))],\n",
              "         verbose=False)"
            ]
          },
          "metadata": {
            "tags": []
          },
          "execution_count": 12
        }
      ]
    },
    {
      "cell_type": "code",
      "metadata": {
        "id": "2LYg5mwNK45b",
        "colab_type": "code",
        "outputId": "6e402406-d19b-4236-ab0b-16e4a69fee36",
        "colab": {
          "base_uri": "https://localhost:8080/",
          "height": 34
        }
      },
      "source": [
        "# Validate\n",
        "# Let's see our validation accuracy\n",
        "from sklearn.metrics import accuracy_score\n",
        "y_pred = pipeline.predict(X_val)\n",
        "print('Validation Accuracy', accuracy_score(y_val, y_pred))"
      ],
      "execution_count": 0,
      "outputs": [
        {
          "output_type": "stream",
          "text": [
            "Validation Accuracy 0.5702353834472286\n"
          ],
          "name": "stdout"
        }
      ]
    },
    {
      "cell_type": "markdown",
      "metadata": {
        "id": "Mp_b3GcHVI_D",
        "colab_type": "text"
      },
      "source": [
        "We beat baseline without hypertuning! Examining our features through Permutations will be the first step. By seeing feature importance, we can adjust what we want our model to focus on."
      ]
    },
    {
      "cell_type": "code",
      "metadata": {
        "id": "UBRa1WLGK5Jy",
        "colab_type": "code",
        "outputId": "7720f0fe-4f59-4a1c-99e3-5820f27d5281",
        "colab": {
          "base_uri": "https://localhost:8080/",
          "height": 68
        }
      },
      "source": [
        "# Permutations\n",
        "# Doing one Permutation manually just for the reps\n",
        "\n",
        "feature = 'Operator Name'\n",
        "X_val_permuted = X_val.copy()\n",
        "X_val_permuted[feature] = np.random.permutation(X_val[feature])  # The line!\n",
        "score_permuted = pipeline.score(X_val_permuted, y_val)  # The other line!\n",
        "score_with = pipeline.score(X_val, y_val)\n",
        "print(f'Validation Accuracy with {feature}: {score_with}')\n",
        "print(f'Validation Accuracy with {feature} permuted: {score_permuted}')\n",
        "print(f'Permutation Importance: {score_with - score_permuted}')\n",
        "\n"
      ],
      "execution_count": 0,
      "outputs": [
        {
          "output_type": "stream",
          "text": [
            "Validation Accuracy with Operator Name: 0.5702353834472286\n",
            "Validation Accuracy with Operator Name permuted: 0.5596051632498101\n",
            "Permutation Importance: 0.010630220197418438\n"
          ],
          "name": "stdout"
        }
      ]
    },
    {
      "cell_type": "code",
      "metadata": {
        "id": "ZoEYUuKVn3u_",
        "colab_type": "code",
        "outputId": "2ee730b1-7599-4ece-907a-f44a98580eec",
        "colab": {
          "base_uri": "https://localhost:8080/",
          "height": 136
        }
      },
      "source": [
        "## Now let's use the eli5 library\n",
        "\n",
        "transformers = make_pipeline(\n",
        "    ce.OrdinalEncoder(),\n",
        "    SimpleImputer()\n",
        ")\n",
        "\n",
        "X_train_transformed = transformers.fit_transform(X_train)\n",
        "X_val_transformed = transformers.transform(X_val)\n",
        "\n",
        "model = XGBClassifier(n_estimators=100, random_state=42, n_jobs=-1)\n",
        "\n",
        "model.fit(X_train_transformed, y_train)"
      ],
      "execution_count": 0,
      "outputs": [
        {
          "output_type": "execute_result",
          "data": {
            "text/plain": [
              "XGBClassifier(base_score=0.5, booster='gbtree', colsample_bylevel=1,\n",
              "              colsample_bynode=1, colsample_bytree=1, gamma=0,\n",
              "              learning_rate=0.1, max_delta_step=0, max_depth=3,\n",
              "              min_child_weight=1, missing=None, n_estimators=100, n_jobs=-1,\n",
              "              nthread=None, objective='multi:softprob', random_state=42,\n",
              "              reg_alpha=0, reg_lambda=1, scale_pos_weight=1, seed=None,\n",
              "              silent=None, subsample=1, verbosity=1)"
            ]
          },
          "metadata": {
            "tags": []
          },
          "execution_count": 15
        }
      ]
    },
    {
      "cell_type": "code",
      "metadata": {
        "id": "26vYJNueoghH",
        "colab_type": "code",
        "outputId": "13351bb8-f783-42a7-fe7f-44b364749d43",
        "colab": {
          "base_uri": "https://localhost:8080/",
          "height": 309
        }
      },
      "source": [
        "!pip install eli5\n",
        "import eli5\n",
        "from eli5.sklearn import PermutationImportance"
      ],
      "execution_count": 0,
      "outputs": [
        {
          "output_type": "stream",
          "text": [
            "Requirement already satisfied: eli5 in /usr/local/lib/python3.6/dist-packages (0.10.1)\n",
            "Requirement already satisfied: graphviz in /usr/local/lib/python3.6/dist-packages (from eli5) (0.10.1)\n",
            "Requirement already satisfied: attrs>16.0.0 in /usr/local/lib/python3.6/dist-packages (from eli5) (19.3.0)\n",
            "Requirement already satisfied: jinja2 in /usr/local/lib/python3.6/dist-packages (from eli5) (2.11.2)\n",
            "Requirement already satisfied: tabulate>=0.7.7 in /usr/local/lib/python3.6/dist-packages (from eli5) (0.8.7)\n",
            "Requirement already satisfied: six in /usr/local/lib/python3.6/dist-packages (from eli5) (1.12.0)\n",
            "Requirement already satisfied: scikit-learn>=0.18 in /usr/local/lib/python3.6/dist-packages (from eli5) (0.22.2.post1)\n",
            "Requirement already satisfied: numpy>=1.9.0 in /usr/local/lib/python3.6/dist-packages (from eli5) (1.18.4)\n",
            "Requirement already satisfied: scipy in /usr/local/lib/python3.6/dist-packages (from eli5) (1.4.1)\n",
            "Requirement already satisfied: MarkupSafe>=0.23 in /usr/local/lib/python3.6/dist-packages (from jinja2->eli5) (1.1.1)\n",
            "Requirement already satisfied: joblib>=0.11 in /usr/local/lib/python3.6/dist-packages (from scikit-learn>=0.18->eli5) (0.15.1)\n"
          ],
          "name": "stdout"
        },
        {
          "output_type": "stream",
          "text": [
            "/usr/local/lib/python3.6/dist-packages/sklearn/utils/deprecation.py:144: FutureWarning: The sklearn.metrics.scorer module is  deprecated in version 0.22 and will be removed in version 0.24. The corresponding classes / functions should instead be imported from sklearn.metrics. Anything that cannot be imported from sklearn.metrics is now part of the private API.\n",
            "  warnings.warn(message, FutureWarning)\n",
            "/usr/local/lib/python3.6/dist-packages/sklearn/utils/deprecation.py:144: FutureWarning: The sklearn.feature_selection.base module is  deprecated in version 0.22 and will be removed in version 0.24. The corresponding classes / functions should instead be imported from sklearn.feature_selection. Anything that cannot be imported from sklearn.feature_selection is now part of the private API.\n",
            "  warnings.warn(message, FutureWarning)\n",
            "Using TensorFlow backend.\n"
          ],
          "name": "stderr"
        }
      ]
    },
    {
      "cell_type": "code",
      "metadata": {
        "id": "PaaPHzKKo-yH",
        "colab_type": "code",
        "outputId": "befd7c2a-ff56-428e-a9cd-57515f2a2a71",
        "colab": {
          "base_uri": "https://localhost:8080/",
          "height": 306
        }
      },
      "source": [
        "permuter = PermutationImportance(\n",
        "    model,\n",
        "    scoring='accuracy',\n",
        "    n_iter=5,  # Run each permutation 5 times and take the average\n",
        "    random_state=42 # This is our seed for reproducibility and model tuning\n",
        ")\n",
        "\n",
        "permuter.fit(X_val_transformed, y_val)"
      ],
      "execution_count": 0,
      "outputs": [
        {
          "output_type": "execute_result",
          "data": {
            "text/plain": [
              "PermutationImportance(cv='prefit',\n",
              "                      estimator=XGBClassifier(base_score=0.5, booster='gbtree',\n",
              "                                              colsample_bylevel=1,\n",
              "                                              colsample_bynode=1,\n",
              "                                              colsample_bytree=1, gamma=0,\n",
              "                                              learning_rate=0.1,\n",
              "                                              max_delta_step=0, max_depth=3,\n",
              "                                              min_child_weight=1, missing=None,\n",
              "                                              n_estimators=100, n_jobs=-1,\n",
              "                                              nthread=None,\n",
              "                                              objective='multi:softprob',\n",
              "                                              random_state=42, reg_alpha=0,\n",
              "                                              reg_lambda=1, scale_pos_weight=1,\n",
              "                                              seed=None, silent=None,\n",
              "                                              subsample=1, verbosity=1),\n",
              "                      n_iter=5, random_state=42, refit=True,\n",
              "                      scoring='accuracy')"
            ]
          },
          "metadata": {
            "tags": []
          },
          "execution_count": 17
        }
      ]
    },
    {
      "cell_type": "code",
      "metadata": {
        "id": "aEne9y6SpHkr",
        "colab_type": "code",
        "outputId": "a5b8512d-f4a6-4bed-ae84-b64310bdeceb",
        "colab": {
          "base_uri": "https://localhost:8080/",
          "height": 476
        }
      },
      "source": [
        "feature_names = X_val.columns.to_list()\n",
        "pd.Series(permuter.feature_importances_, feature_names).sort_values(\n",
        "    ascending=False)"
      ],
      "execution_count": 0,
      "outputs": [
        {
          "output_type": "execute_result",
          "data": {
            "text/plain": [
              "Pipeline Type                           8.853455e-02\n",
              "Property Damage Costs                   1.822323e-02\n",
              "Liquid Subtype                          1.533789e-02\n",
              "Unintentional Release (Barrels)         6.833713e-03\n",
              "Liquid Ignition                         5.922551e-03\n",
              "All Costs                               3.796507e-03\n",
              "Operator Name                           3.037206e-03\n",
              "Pipeline Shutdown                       2.277904e-03\n",
              "Liquid Type                             1.670463e-03\n",
              "Accident Latitude                       1.366743e-03\n",
              "Other Costs                             1.063022e-03\n",
              "Emergency Response Costs                9.111617e-04\n",
              "Liquid Recovery (Barrels)               7.593014e-04\n",
              "Accident City                           7.593014e-04\n",
              "Environmental Remediation Costs         2.220446e-17\n",
              "Public Evacuations                      2.220446e-17\n",
              "Public/Private Property Damage Costs   -1.518603e-04\n",
              "Accident Longitude                     -3.037206e-04\n",
              "Pipeline/Facility Name                 -9.111617e-04\n",
              "Liquid Name                            -1.214882e-03\n",
              "Accident State                         -1.670463e-03\n",
              "Net Loss (Barrels)                     -1.670463e-03\n",
              "Lost Commodity Costs                   -2.277904e-03\n",
              "Intentional Release (Barrels)          -3.644647e-03\n",
              "Operator ID                            -3.644647e-03\n",
              "Accident County                        -4.252088e-03\n",
              "dtype: float64"
            ]
          },
          "metadata": {
            "tags": []
          },
          "execution_count": 18
        }
      ]
    },
    {
      "cell_type": "code",
      "metadata": {
        "id": "AZqiXDY-qNZG",
        "colab_type": "code",
        "colab": {}
      },
      "source": [
        "# Let's Drop everything with 0 importance for a faster model. It won't decrease our score at all. \n",
        "# Lets keep it in the Wrangle function so that it's all being done in one shot.\n",
        "\n",
        "## Go up to the wrangle function and pass in these columns to drop."
      ],
      "execution_count": 0,
      "outputs": []
    },
    {
      "cell_type": "code",
      "metadata": {
        "id": "YNnwqM11LAJJ",
        "colab_type": "code",
        "outputId": "ec706877-0982-4bfc-dd25-4f12449d3fe0",
        "colab": {
          "base_uri": "https://localhost:8080/",
          "height": 1000
        }
      },
      "source": [
        "# Hypertuning\n",
        "# We'll do this by trying different parameters on our model\n",
        "# Stop using the pipeline approach just to try different parameters\n",
        "\n",
        "encoder = ce.OrdinalEncoder()\n",
        "X_train_encoded = encoder.fit_transform(X_train)\n",
        "X_val_encoded = encoder.transform(X_val)\n",
        "\n",
        "model1 = XGBClassifier(\n",
        "    n_estimators=1000,  # Number of estimators - with a lot, will depend on early stopping\n",
        "    max_depth=7,  # Deeper trees to help with high cardinality features\n",
        "    learning_rate=0.5,  # Let's try a higher learning rate\n",
        "    n_jobs=-1\n",
        ")\n",
        "\n",
        "eval_set = [(X_train_encoded, y_train),\n",
        "            (X_val_encoded, y_val)]\n",
        "\n",
        "model1.fit(X_train_encoded, y_train,\n",
        "          eval_set=eval_set,\n",
        "          eval_metric='merror',\n",
        "          early_stopping_rounds=50)  # Stop if the score hasn't improved in 50 rounds"
      ],
      "execution_count": 0,
      "outputs": [
        {
          "output_type": "stream",
          "text": [
            "[0]\tvalidation_0-merror:0.237512\tvalidation_1-merror:0.472286\n",
            "Multiple eval metrics have been passed: 'validation_1-merror' will be used for early stopping.\n",
            "\n",
            "Will train until validation_1-merror hasn't improved in 50 rounds.\n",
            "[1]\tvalidation_0-merror:0.169651\tvalidation_1-merror:0.464692\n",
            "[2]\tvalidation_0-merror:0.121583\tvalidation_1-merror:0.459377\n",
            "[3]\tvalidation_0-merror:0.105561\tvalidation_1-merror:0.455581\n",
            "[4]\tvalidation_0-merror:0.076343\tvalidation_1-merror:0.454822\n",
            "[5]\tvalidation_0-merror:0.058435\tvalidation_1-merror:0.459377\n",
            "[6]\tvalidation_0-merror:0.04147\tvalidation_1-merror:0.457099\n",
            "[7]\tvalidation_0-merror:0.017908\tvalidation_1-merror:0.452544\n",
            "[8]\tvalidation_0-merror:0.01131\tvalidation_1-merror:0.454062\n",
            "[9]\tvalidation_0-merror:0.005655\tvalidation_1-merror:0.459377\n",
            "[10]\tvalidation_0-merror:0.000943\tvalidation_1-merror:0.460896\n",
            "[11]\tvalidation_0-merror:0\tvalidation_1-merror:0.458618\n",
            "[12]\tvalidation_0-merror:0\tvalidation_1-merror:0.460137\n",
            "[13]\tvalidation_0-merror:0\tvalidation_1-merror:0.458618\n",
            "[14]\tvalidation_0-merror:0\tvalidation_1-merror:0.457859\n",
            "[15]\tvalidation_0-merror:0\tvalidation_1-merror:0.460896\n",
            "[16]\tvalidation_0-merror:0\tvalidation_1-merror:0.460137\n",
            "[17]\tvalidation_0-merror:0\tvalidation_1-merror:0.461655\n",
            "[18]\tvalidation_0-merror:0\tvalidation_1-merror:0.460896\n",
            "[19]\tvalidation_0-merror:0\tvalidation_1-merror:0.462415\n",
            "[20]\tvalidation_0-merror:0\tvalidation_1-merror:0.462415\n",
            "[21]\tvalidation_0-merror:0\tvalidation_1-merror:0.460137\n",
            "[22]\tvalidation_0-merror:0\tvalidation_1-merror:0.459377\n",
            "[23]\tvalidation_0-merror:0\tvalidation_1-merror:0.463933\n",
            "[24]\tvalidation_0-merror:0\tvalidation_1-merror:0.460137\n",
            "[25]\tvalidation_0-merror:0\tvalidation_1-merror:0.460137\n",
            "[26]\tvalidation_0-merror:0\tvalidation_1-merror:0.462415\n",
            "[27]\tvalidation_0-merror:0\tvalidation_1-merror:0.460896\n",
            "[28]\tvalidation_0-merror:0\tvalidation_1-merror:0.463933\n",
            "[29]\tvalidation_0-merror:0\tvalidation_1-merror:0.463933\n",
            "[30]\tvalidation_0-merror:0\tvalidation_1-merror:0.461655\n",
            "[31]\tvalidation_0-merror:0\tvalidation_1-merror:0.461655\n",
            "[32]\tvalidation_0-merror:0\tvalidation_1-merror:0.460896\n",
            "[33]\tvalidation_0-merror:0\tvalidation_1-merror:0.460137\n",
            "[34]\tvalidation_0-merror:0\tvalidation_1-merror:0.460137\n",
            "[35]\tvalidation_0-merror:0\tvalidation_1-merror:0.459377\n",
            "[36]\tvalidation_0-merror:0\tvalidation_1-merror:0.461655\n",
            "[37]\tvalidation_0-merror:0\tvalidation_1-merror:0.459377\n",
            "[38]\tvalidation_0-merror:0\tvalidation_1-merror:0.462415\n",
            "[39]\tvalidation_0-merror:0\tvalidation_1-merror:0.460137\n",
            "[40]\tvalidation_0-merror:0\tvalidation_1-merror:0.459377\n",
            "[41]\tvalidation_0-merror:0\tvalidation_1-merror:0.45634\n",
            "[42]\tvalidation_0-merror:0\tvalidation_1-merror:0.455581\n",
            "[43]\tvalidation_0-merror:0\tvalidation_1-merror:0.454822\n",
            "[44]\tvalidation_0-merror:0\tvalidation_1-merror:0.454062\n",
            "[45]\tvalidation_0-merror:0\tvalidation_1-merror:0.458618\n",
            "[46]\tvalidation_0-merror:0\tvalidation_1-merror:0.460896\n",
            "[47]\tvalidation_0-merror:0\tvalidation_1-merror:0.460896\n",
            "[48]\tvalidation_0-merror:0\tvalidation_1-merror:0.460137\n",
            "[49]\tvalidation_0-merror:0\tvalidation_1-merror:0.459377\n",
            "[50]\tvalidation_0-merror:0\tvalidation_1-merror:0.462415\n",
            "[51]\tvalidation_0-merror:0\tvalidation_1-merror:0.463933\n",
            "[52]\tvalidation_0-merror:0\tvalidation_1-merror:0.462415\n",
            "[53]\tvalidation_0-merror:0\tvalidation_1-merror:0.463174\n",
            "[54]\tvalidation_0-merror:0\tvalidation_1-merror:0.461655\n",
            "[55]\tvalidation_0-merror:0\tvalidation_1-merror:0.462415\n",
            "[56]\tvalidation_0-merror:0\tvalidation_1-merror:0.460137\n",
            "[57]\tvalidation_0-merror:0\tvalidation_1-merror:0.460896\n",
            "Stopping. Best iteration:\n",
            "[7]\tvalidation_0-merror:0.017908\tvalidation_1-merror:0.452544\n",
            "\n"
          ],
          "name": "stdout"
        },
        {
          "output_type": "execute_result",
          "data": {
            "text/plain": [
              "XGBClassifier(base_score=0.5, booster='gbtree', colsample_bylevel=1,\n",
              "              colsample_bynode=1, colsample_bytree=1, gamma=0,\n",
              "              learning_rate=0.5, max_delta_step=0, max_depth=7,\n",
              "              min_child_weight=1, missing=None, n_estimators=1000, n_jobs=-1,\n",
              "              nthread=None, objective='multi:softprob', random_state=0,\n",
              "              reg_alpha=0, reg_lambda=1, scale_pos_weight=1, seed=None,\n",
              "              silent=None, subsample=1, verbosity=1)"
            ]
          },
          "metadata": {
            "tags": []
          },
          "execution_count": 20
        }
      ]
    },
    {
      "cell_type": "code",
      "metadata": {
        "id": "fElbmJ-6uVX-",
        "colab_type": "code",
        "outputId": "1da13b3b-502b-4264-aa24-bb660e07788c",
        "colab": {
          "base_uri": "https://localhost:8080/",
          "height": 296
        }
      },
      "source": [
        "results = model1.evals_result()\n",
        "train_error = results['validation_0']['merror']\n",
        "val_error = results['validation_1']['merror']\n",
        "epoch = list(range(1, len(train_error)+1))\n",
        "plt.plot(epoch, train_error, label='Train')\n",
        "plt.plot(epoch, val_error, label='Validation')\n",
        "plt.ylabel('Classification Error')\n",
        "plt.xlabel('Model Complexity (n_estimators)')\n",
        "plt.title('Validation Curve for this XGBoost model')\n",
        "#plt.ylim((0.18, 0.22)) # Zoom in\n",
        "plt.legend();"
      ],
      "execution_count": 0,
      "outputs": [
        {
          "output_type": "display_data",
          "data": {
            "image/png": "[encoded data removed]",
            "text/plain": [
              "<Figure size 432x288 with 1 Axes>"
            ]
          },
          "metadata": {
            "tags": [],
            "needs_background": "light"
          }
        }
      ]
    },
    {
      "cell_type": "code",
      "metadata": {
        "id": "LtQTD-aavCc3",
        "colab_type": "code",
        "outputId": "e40ebd7c-de41-48d9-f9a0-73aee9acb22d",
        "colab": {
          "base_uri": "https://localhost:8080/",
          "height": 34
        }
      },
      "source": [
        "1 - 0.452544"
      ],
      "execution_count": 0,
      "outputs": [
        {
          "output_type": "execute_result",
          "data": {
            "text/plain": [
              "0.5474559999999999"
            ]
          },
          "metadata": {
            "tags": []
          },
          "execution_count": 22
        }
      ]
    },
    {
      "cell_type": "code",
      "metadata": {
        "id": "bg0qryr3vXb_",
        "colab_type": "code",
        "colab": {}
      },
      "source": [
        "# We're still beating baseline, but our model is plateau-ing extremely quickly.\n",
        "# Going to play around with it more in assignment 234"
      ],
      "execution_count": 0,
      "outputs": []
    }
  ]
}