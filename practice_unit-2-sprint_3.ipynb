{
  "nbformat": 4,
  "nbformat_minor": 0,
  "metadata": {
    "kernelspec": {
      "display_name": "Python 3",
      "language": "python",
      "name": "python3"
    },
    "language_info": {
      "codemirror_mode": {
        "name": "ipython",
        "version": 3
      },
      "file_extension": ".py",
      "mimetype": "text/x-python",
      "name": "python",
      "nbconvert_exporter": "python",
      "pygments_lexer": "ipython3",
      "version": "3.7.4"
    },
    "colab": {
      "name": "practice-sprint-3.ipynb",
      "provenance": []
    }
  },
  "cells": [
    {
      "cell_type": "code",
      "metadata": {
        "id": "Fno6-pp9h7J6",
        "colab_type": "code",
        "outputId": "d204f8d5-88b2-4b11-d7fb-56c4727016d0",
        "colab": {
          "base_uri": "https://localhost:8080/",
          "height": 204
        }
      },
      "source": [
        "import pandas as pd\n",
        "import numpy as np\n",
        "import matplotlib.pyplot as plt\n",
        "from sklearn.metrics import accuracy_score, roc_auc_score, roc_curve\n",
        "from sklearn.pipeline import make_pipeline\n",
        "from sklearn.preprocessing import OrdinalEncoder\n",
        "from sklearn.ensemble import RandomForestClassifier\n",
        "from sklearn.impute import SimpleImputer\n",
        "from sklearn.inspection import partial_dependence, PartialDependenceDisplay\n",
        "from sklearn.model_selection import train_test_split, GridSearchCV, RandomizedSearchCV\n",
        "!pip install eli5\n",
        "import eli5\n",
        "from eli5.sklearn import PermutationImportance\n",
        "from xgboost import XGBClassifier\n",
        "import seaborn as sns\n",
        "\n",
        "pd.set_option('float_format', '{:f}'.format)"
      ],
      "execution_count": 3,
      "outputs": [
        {
          "output_type": "stream",
          "text": [
            "Requirement already satisfied: eli5 in /usr/local/lib/python3.6/dist-packages (0.10.1)\n",
            "Requirement already satisfied: jinja2 in /usr/local/lib/python3.6/dist-packages (from eli5) (2.11.1)\n",
            "Requirement already satisfied: numpy>=1.9.0 in /usr/local/lib/python3.6/dist-packages (from eli5) (1.18.2)\n",
            "Requirement already satisfied: graphviz in /usr/local/lib/python3.6/dist-packages (from eli5) (0.10.1)\n",
            "Requirement already satisfied: six in /usr/local/lib/python3.6/dist-packages (from eli5) (1.12.0)\n",
            "Requirement already satisfied: scikit-learn>=0.18 in /usr/local/lib/python3.6/dist-packages (from eli5) (0.22.2.post1)\n",
            "Requirement already satisfied: attrs>16.0.0 in /usr/local/lib/python3.6/dist-packages (from eli5) (19.3.0)\n",
            "Requirement already satisfied: scipy in /usr/local/lib/python3.6/dist-packages (from eli5) (1.4.1)\n",
            "Requirement already satisfied: tabulate>=0.7.7 in /usr/local/lib/python3.6/dist-packages (from eli5) (0.8.7)\n",
            "Requirement already satisfied: MarkupSafe>=0.23 in /usr/local/lib/python3.6/dist-packages (from jinja2->eli5) (1.1.1)\n",
            "Requirement already satisfied: joblib>=0.11 in /usr/local/lib/python3.6/dist-packages (from scikit-learn>=0.18->eli5) (0.14.1)\n"
          ],
          "name": "stdout"
        }
      ]
    },
    {
      "cell_type": "code",
      "metadata": {
        "id": "7ADhAmUZh7KC",
        "colab_type": "code",
        "outputId": "e3e799cb-cd91-4ffb-85fe-4b5c7a32afd5",
        "colab": {
          "base_uri": "https://localhost:8080/",
          "height": 292
        }
      },
      "source": [
        "names = ['age', 'workclass', 'fnlwgt', 'education', 'education_num',\n",
        "         'marital_status', 'occupation', 'relationship', 'race', 'sex',\n",
        "         'capital_gain', 'capital_loss', 'hours_per_week',\n",
        "         'native_country', 'salary'\n",
        "        ]\n",
        "df = pd.read_csv('/content/adult.data', names=names)\n",
        "df.head()"
      ],
      "execution_count": 4,
      "outputs": [
        {
          "output_type": "execute_result",
          "data": {
            "text/html": [
              "<div>\n",
              "<style scoped>\n",
              "    .dataframe tbody tr th:only-of-type {\n",
              "        vertical-align: middle;\n",
              "    }\n",
              "\n",
              "    .dataframe tbody tr th {\n",
              "        vertical-align: top;\n",
              "    }\n",
              "\n",
              "    .dataframe thead th {\n",
              "        text-align: right;\n",
              "    }\n",
              "</style>\n",
              "<table border=\"1\" class=\"dataframe\">\n",
              "  <thead>\n",
              "    <tr style=\"text-align: right;\">\n",
              "      <th></th>\n",
              "      <th>age</th>\n",
              "      <th>workclass</th>\n",
              "      <th>fnlwgt</th>\n",
              "      <th>education</th>\n",
              "      <th>education_num</th>\n",
              "      <th>marital_status</th>\n",
              "      <th>occupation</th>\n",
              "      <th>relationship</th>\n",
              "      <th>race</th>\n",
              "      <th>sex</th>\n",
              "      <th>capital_gain</th>\n",
              "      <th>capital_loss</th>\n",
              "      <th>hours_per_week</th>\n",
              "      <th>native_country</th>\n",
              "      <th>salary</th>\n",
              "    </tr>\n",
              "  </thead>\n",
              "  <tbody>\n",
              "    <tr>\n",
              "      <th>0</th>\n",
              "      <td>39</td>\n",
              "      <td>State-gov</td>\n",
              "      <td>77516</td>\n",
              "      <td>Bachelors</td>\n",
              "      <td>13</td>\n",
              "      <td>Never-married</td>\n",
              "      <td>Adm-clerical</td>\n",
              "      <td>Not-in-family</td>\n",
              "      <td>White</td>\n",
              "      <td>Male</td>\n",
              "      <td>2174</td>\n",
              "      <td>0</td>\n",
              "      <td>40</td>\n",
              "      <td>United-States</td>\n",
              "      <td>&lt;=50K</td>\n",
              "    </tr>\n",
              "    <tr>\n",
              "      <th>1</th>\n",
              "      <td>50</td>\n",
              "      <td>Self-emp-not-inc</td>\n",
              "      <td>83311</td>\n",
              "      <td>Bachelors</td>\n",
              "      <td>13</td>\n",
              "      <td>Married-civ-spouse</td>\n",
              "      <td>Exec-managerial</td>\n",
              "      <td>Husband</td>\n",
              "      <td>White</td>\n",
              "      <td>Male</td>\n",
              "      <td>0</td>\n",
              "      <td>0</td>\n",
              "      <td>13</td>\n",
              "      <td>United-States</td>\n",
              "      <td>&lt;=50K</td>\n",
              "    </tr>\n",
              "    <tr>\n",
              "      <th>2</th>\n",
              "      <td>38</td>\n",
              "      <td>Private</td>\n",
              "      <td>215646</td>\n",
              "      <td>HS-grad</td>\n",
              "      <td>9</td>\n",
              "      <td>Divorced</td>\n",
              "      <td>Handlers-cleaners</td>\n",
              "      <td>Not-in-family</td>\n",
              "      <td>White</td>\n",
              "      <td>Male</td>\n",
              "      <td>0</td>\n",
              "      <td>0</td>\n",
              "      <td>40</td>\n",
              "      <td>United-States</td>\n",
              "      <td>&lt;=50K</td>\n",
              "    </tr>\n",
              "    <tr>\n",
              "      <th>3</th>\n",
              "      <td>53</td>\n",
              "      <td>Private</td>\n",
              "      <td>234721</td>\n",
              "      <td>11th</td>\n",
              "      <td>7</td>\n",
              "      <td>Married-civ-spouse</td>\n",
              "      <td>Handlers-cleaners</td>\n",
              "      <td>Husband</td>\n",
              "      <td>Black</td>\n",
              "      <td>Male</td>\n",
              "      <td>0</td>\n",
              "      <td>0</td>\n",
              "      <td>40</td>\n",
              "      <td>United-States</td>\n",
              "      <td>&lt;=50K</td>\n",
              "    </tr>\n",
              "    <tr>\n",
              "      <th>4</th>\n",
              "      <td>28</td>\n",
              "      <td>Private</td>\n",
              "      <td>338409</td>\n",
              "      <td>Bachelors</td>\n",
              "      <td>13</td>\n",
              "      <td>Married-civ-spouse</td>\n",
              "      <td>Prof-specialty</td>\n",
              "      <td>Wife</td>\n",
              "      <td>Black</td>\n",
              "      <td>Female</td>\n",
              "      <td>0</td>\n",
              "      <td>0</td>\n",
              "      <td>40</td>\n",
              "      <td>Cuba</td>\n",
              "      <td>&lt;=50K</td>\n",
              "    </tr>\n",
              "  </tbody>\n",
              "</table>\n",
              "</div>"
            ],
            "text/plain": [
              "   age          workclass  fnlwgt  ... hours_per_week  native_country  salary\n",
              "0   39          State-gov   77516  ...             40   United-States   <=50K\n",
              "1   50   Self-emp-not-inc   83311  ...             13   United-States   <=50K\n",
              "2   38            Private  215646  ...             40   United-States   <=50K\n",
              "3   53            Private  234721  ...             40   United-States   <=50K\n",
              "4   28            Private  338409  ...             40            Cuba   <=50K\n",
              "\n",
              "[5 rows x 15 columns]"
            ]
          },
          "metadata": {
            "tags": []
          },
          "execution_count": 4
        }
      ]
    },
    {
      "cell_type": "code",
      "metadata": {
        "id": "tqz9ay_qh7KH",
        "colab_type": "code",
        "outputId": "d3a1d39c-6e68-4718-8026-91536b936353",
        "colab": {
          "base_uri": "https://localhost:8080/",
          "height": 54
        }
      },
      "source": [
        "'''\n",
        "Explanation of the column 'fnlwgt':\n",
        "\n",
        "| Description of fnlwgt (final weight)\n",
        "|\n",
        "| The weights on the CPS files are controlled to independent estimates of the\n",
        "| civilian noninstitutional population of the US.  These are prepared monthly\n",
        "| for us by Population Division here at the Census Bureau.  We use 3 sets of\n",
        "| controls.\n",
        "|  These are:\n",
        "|          1.  A single cell estimate of the population 16+ for each state.\n",
        "|          2.  Controls for Hispanic Origin by age and sex.\n",
        "|          3.  Controls by Race, age and sex.\n",
        "|\n",
        "| We use all three sets of controls in our weighting program and \"rake\" through\n",
        "| them 6 times so that by the end we come back to all the controls we used.\n",
        "|\n",
        "| The term estimate refers to population totals derived from CPS by creating\n",
        "| \"weighted tallies\" of any specified socio-economic characteristics of the\n",
        "| population.\n",
        "|\n",
        "| People with similar demographic characteristics should have\n",
        "| similar weights.  There is one important caveat to remember\n",
        "| about this statement.  That is that since the CPS sample is\n",
        "| actually a collection of 51 state samples, each with its own\n",
        "| probability of selection, the statement only applies within\n",
        "| state.\n",
        "'''"
      ],
      "execution_count": 5,
      "outputs": [
        {
          "output_type": "execute_result",
          "data": {
            "text/plain": [
              "'\\nExplanation of the column \\'fnlwgt\\':\\n\\n| Description of fnlwgt (final weight)\\n|\\n| The weights on the CPS files are controlled to independent estimates of the\\n| civilian noninstitutional population of the US.  These are prepared monthly\\n| for us by Population Division here at the Census Bureau.  We use 3 sets of\\n| controls.\\n|  These are:\\n|          1.  A single cell estimate of the population 16+ for each state.\\n|          2.  Controls for Hispanic Origin by age and sex.\\n|          3.  Controls by Race, age and sex.\\n|\\n| We use all three sets of controls in our weighting program and \"rake\" through\\n| them 6 times so that by the end we come back to all the controls we used.\\n|\\n| The term estimate refers to population totals derived from CPS by creating\\n| \"weighted tallies\" of any specified socio-economic characteristics of the\\n| population.\\n|\\n| People with similar demographic characteristics should have\\n| similar weights.  There is one important caveat to remember\\n| about this statement.  That is that since the CPS sample is\\n| actually a collection of 51 state samples, each with its own\\n| probability of selection, the statement only applies within\\n| state.\\n'"
            ]
          },
          "metadata": {
            "tags": []
          },
          "execution_count": 5
        }
      ]
    },
    {
      "cell_type": "code",
      "metadata": {
        "id": "JyjQHi6Fh7KL",
        "colab_type": "code",
        "outputId": "9d3608bc-d0b9-41ff-ad6d-0fb1dbe94773",
        "colab": {
          "base_uri": "https://localhost:8080/",
          "height": 204
        }
      },
      "source": [
        "df.head() # Missing values are '?'"
      ],
      "execution_count": 61,
      "outputs": [
        {
          "output_type": "execute_result",
          "data": {
            "text/html": [
              "<div>\n",
              "<style scoped>\n",
              "    .dataframe tbody tr th:only-of-type {\n",
              "        vertical-align: middle;\n",
              "    }\n",
              "\n",
              "    .dataframe tbody tr th {\n",
              "        vertical-align: top;\n",
              "    }\n",
              "\n",
              "    .dataframe thead th {\n",
              "        text-align: right;\n",
              "    }\n",
              "</style>\n",
              "<table border=\"1\" class=\"dataframe\">\n",
              "  <thead>\n",
              "    <tr style=\"text-align: right;\">\n",
              "      <th></th>\n",
              "      <th>age</th>\n",
              "      <th>workclass</th>\n",
              "      <th>education</th>\n",
              "      <th>education_num</th>\n",
              "      <th>marital_status</th>\n",
              "      <th>occupation</th>\n",
              "      <th>relationship</th>\n",
              "      <th>race</th>\n",
              "      <th>sex</th>\n",
              "      <th>hours_per_week</th>\n",
              "      <th>salary_over_50k</th>\n",
              "    </tr>\n",
              "  </thead>\n",
              "  <tbody>\n",
              "    <tr>\n",
              "      <th>0</th>\n",
              "      <td>39</td>\n",
              "      <td>State-gov</td>\n",
              "      <td>Bachelors</td>\n",
              "      <td>13</td>\n",
              "      <td>Never-married</td>\n",
              "      <td>Adm-clerical</td>\n",
              "      <td>Not-in-family</td>\n",
              "      <td>White</td>\n",
              "      <td>Male</td>\n",
              "      <td>40</td>\n",
              "      <td>0</td>\n",
              "    </tr>\n",
              "    <tr>\n",
              "      <th>2</th>\n",
              "      <td>38</td>\n",
              "      <td>Private</td>\n",
              "      <td>HS-grad</td>\n",
              "      <td>9</td>\n",
              "      <td>Divorced</td>\n",
              "      <td>Handlers-cleaners</td>\n",
              "      <td>Not-in-family</td>\n",
              "      <td>White</td>\n",
              "      <td>Male</td>\n",
              "      <td>40</td>\n",
              "      <td>0</td>\n",
              "    </tr>\n",
              "    <tr>\n",
              "      <th>3</th>\n",
              "      <td>53</td>\n",
              "      <td>Private</td>\n",
              "      <td>11th</td>\n",
              "      <td>7</td>\n",
              "      <td>Married-civ-spouse</td>\n",
              "      <td>Handlers-cleaners</td>\n",
              "      <td>Husband</td>\n",
              "      <td>Black</td>\n",
              "      <td>Male</td>\n",
              "      <td>40</td>\n",
              "      <td>0</td>\n",
              "    </tr>\n",
              "    <tr>\n",
              "      <th>5</th>\n",
              "      <td>37</td>\n",
              "      <td>Private</td>\n",
              "      <td>Masters</td>\n",
              "      <td>14</td>\n",
              "      <td>Married-civ-spouse</td>\n",
              "      <td>Exec-managerial</td>\n",
              "      <td>Wife</td>\n",
              "      <td>White</td>\n",
              "      <td>Female</td>\n",
              "      <td>40</td>\n",
              "      <td>0</td>\n",
              "    </tr>\n",
              "    <tr>\n",
              "      <th>7</th>\n",
              "      <td>52</td>\n",
              "      <td>Self-emp-not-inc</td>\n",
              "      <td>HS-grad</td>\n",
              "      <td>9</td>\n",
              "      <td>Married-civ-spouse</td>\n",
              "      <td>Exec-managerial</td>\n",
              "      <td>Husband</td>\n",
              "      <td>White</td>\n",
              "      <td>Male</td>\n",
              "      <td>45</td>\n",
              "      <td>1</td>\n",
              "    </tr>\n",
              "  </tbody>\n",
              "</table>\n",
              "</div>"
            ],
            "text/plain": [
              "   age          workclass   education  ...      sex hours_per_week salary_over_50k\n",
              "0   39          State-gov   Bachelors  ...     Male             40               0\n",
              "2   38            Private     HS-grad  ...     Male             40               0\n",
              "3   53            Private        11th  ...     Male             40               0\n",
              "5   37            Private     Masters  ...   Female             40               0\n",
              "7   52   Self-emp-not-inc     HS-grad  ...     Male             45               1\n",
              "\n",
              "[5 rows x 11 columns]"
            ]
          },
          "metadata": {
            "tags": []
          },
          "execution_count": 61
        }
      ]
    },
    {
      "cell_type": "code",
      "metadata": {
        "id": "Qpu2aeQ_h7KP",
        "colab_type": "code",
        "outputId": "4f21d25e-70f9-42ab-80b9-99ac233e5fd1",
        "colab": {
          "base_uri": "https://localhost:8080/",
          "height": 34
        }
      },
      "source": [
        "df['workclass'][27] # Question mark has a leading space"
      ],
      "execution_count": 7,
      "outputs": [
        {
          "output_type": "execute_result",
          "data": {
            "text/plain": [
              "' ?'"
            ]
          },
          "metadata": {
            "tags": []
          },
          "execution_count": 7
        }
      ]
    },
    {
      "cell_type": "code",
      "metadata": {
        "id": "MZ-otQX4h7KT",
        "colab_type": "code",
        "outputId": "7264dcba-9b98-47a5-b16f-e05314e9c1cf",
        "colab": {
          "base_uri": "https://localhost:8080/",
          "height": 289
        }
      },
      "source": [
        "df = df.replace({' ?': np.nan})\n",
        "df.loc[27,:]"
      ],
      "execution_count": 8,
      "outputs": [
        {
          "output_type": "execute_result",
          "data": {
            "text/plain": [
              "age                                54\n",
              "workclass                         NaN\n",
              "fnlwgt                         180211\n",
              "education                Some-college\n",
              "education_num                      10\n",
              "marital_status     Married-civ-spouse\n",
              "occupation                        NaN\n",
              "relationship                  Husband\n",
              "race               Asian-Pac-Islander\n",
              "sex                              Male\n",
              "capital_gain                        0\n",
              "capital_loss                        0\n",
              "hours_per_week                     60\n",
              "native_country                  South\n",
              "salary                           >50K\n",
              "Name: 27, dtype: object"
            ]
          },
          "metadata": {
            "tags": []
          },
          "execution_count": 8
        }
      ]
    },
    {
      "cell_type": "code",
      "metadata": {
        "id": "B4J_IaCch7KZ",
        "colab_type": "code",
        "outputId": "6c8a796f-50be-4a34-df61-476f7945573e",
        "colab": {
          "base_uri": "https://localhost:8080/",
          "height": 173
        }
      },
      "source": [
        "df.describe(exclude='number')\n",
        "# df.describe(exclude='number').columns"
      ],
      "execution_count": 9,
      "outputs": [
        {
          "output_type": "execute_result",
          "data": {
            "text/html": [
              "<div>\n",
              "<style scoped>\n",
              "    .dataframe tbody tr th:only-of-type {\n",
              "        vertical-align: middle;\n",
              "    }\n",
              "\n",
              "    .dataframe tbody tr th {\n",
              "        vertical-align: top;\n",
              "    }\n",
              "\n",
              "    .dataframe thead th {\n",
              "        text-align: right;\n",
              "    }\n",
              "</style>\n",
              "<table border=\"1\" class=\"dataframe\">\n",
              "  <thead>\n",
              "    <tr style=\"text-align: right;\">\n",
              "      <th></th>\n",
              "      <th>workclass</th>\n",
              "      <th>education</th>\n",
              "      <th>marital_status</th>\n",
              "      <th>occupation</th>\n",
              "      <th>relationship</th>\n",
              "      <th>race</th>\n",
              "      <th>sex</th>\n",
              "      <th>native_country</th>\n",
              "      <th>salary</th>\n",
              "    </tr>\n",
              "  </thead>\n",
              "  <tbody>\n",
              "    <tr>\n",
              "      <th>count</th>\n",
              "      <td>30725</td>\n",
              "      <td>32561</td>\n",
              "      <td>32561</td>\n",
              "      <td>30718</td>\n",
              "      <td>32561</td>\n",
              "      <td>32561</td>\n",
              "      <td>32561</td>\n",
              "      <td>31978</td>\n",
              "      <td>32561</td>\n",
              "    </tr>\n",
              "    <tr>\n",
              "      <th>unique</th>\n",
              "      <td>8</td>\n",
              "      <td>16</td>\n",
              "      <td>7</td>\n",
              "      <td>14</td>\n",
              "      <td>6</td>\n",
              "      <td>5</td>\n",
              "      <td>2</td>\n",
              "      <td>41</td>\n",
              "      <td>2</td>\n",
              "    </tr>\n",
              "    <tr>\n",
              "      <th>top</th>\n",
              "      <td>Private</td>\n",
              "      <td>HS-grad</td>\n",
              "      <td>Married-civ-spouse</td>\n",
              "      <td>Prof-specialty</td>\n",
              "      <td>Husband</td>\n",
              "      <td>White</td>\n",
              "      <td>Male</td>\n",
              "      <td>United-States</td>\n",
              "      <td>&lt;=50K</td>\n",
              "    </tr>\n",
              "    <tr>\n",
              "      <th>freq</th>\n",
              "      <td>22696</td>\n",
              "      <td>10501</td>\n",
              "      <td>14976</td>\n",
              "      <td>4140</td>\n",
              "      <td>13193</td>\n",
              "      <td>27816</td>\n",
              "      <td>21790</td>\n",
              "      <td>29170</td>\n",
              "      <td>24720</td>\n",
              "    </tr>\n",
              "  </tbody>\n",
              "</table>\n",
              "</div>"
            ],
            "text/plain": [
              "       workclass education       marital_status  ...    sex  native_country  salary\n",
              "count      30725     32561                32561  ...  32561           31978   32561\n",
              "unique         8        16                    7  ...      2              41       2\n",
              "top      Private   HS-grad   Married-civ-spouse  ...   Male   United-States   <=50K\n",
              "freq       22696     10501                14976  ...  21790           29170   24720\n",
              "\n",
              "[4 rows x 9 columns]"
            ]
          },
          "metadata": {
            "tags": []
          },
          "execution_count": 9
        }
      ]
    },
    {
      "cell_type": "code",
      "metadata": {
        "id": "VlNF5wKkh7Kd",
        "colab_type": "code",
        "colab": {}
      },
      "source": [
        "for col in df.describe(exclude='number').columns:\n",
        "    df[col].replace({np.nan: 'Unknown'}, inplace=True)"
      ],
      "execution_count": 0,
      "outputs": []
    },
    {
      "cell_type": "code",
      "metadata": {
        "id": "9cmOvm0qh7Kg",
        "colab_type": "code",
        "outputId": "f8176604-37a1-4ded-9ce5-9246cd6bea01",
        "colab": {
          "base_uri": "https://localhost:8080/",
          "height": 173
        }
      },
      "source": [
        "df.describe(exclude='number')"
      ],
      "execution_count": 11,
      "outputs": [
        {
          "output_type": "execute_result",
          "data": {
            "text/html": [
              "<div>\n",
              "<style scoped>\n",
              "    .dataframe tbody tr th:only-of-type {\n",
              "        vertical-align: middle;\n",
              "    }\n",
              "\n",
              "    .dataframe tbody tr th {\n",
              "        vertical-align: top;\n",
              "    }\n",
              "\n",
              "    .dataframe thead th {\n",
              "        text-align: right;\n",
              "    }\n",
              "</style>\n",
              "<table border=\"1\" class=\"dataframe\">\n",
              "  <thead>\n",
              "    <tr style=\"text-align: right;\">\n",
              "      <th></th>\n",
              "      <th>workclass</th>\n",
              "      <th>education</th>\n",
              "      <th>marital_status</th>\n",
              "      <th>occupation</th>\n",
              "      <th>relationship</th>\n",
              "      <th>race</th>\n",
              "      <th>sex</th>\n",
              "      <th>native_country</th>\n",
              "      <th>salary</th>\n",
              "    </tr>\n",
              "  </thead>\n",
              "  <tbody>\n",
              "    <tr>\n",
              "      <th>count</th>\n",
              "      <td>32561</td>\n",
              "      <td>32561</td>\n",
              "      <td>32561</td>\n",
              "      <td>32561</td>\n",
              "      <td>32561</td>\n",
              "      <td>32561</td>\n",
              "      <td>32561</td>\n",
              "      <td>32561</td>\n",
              "      <td>32561</td>\n",
              "    </tr>\n",
              "    <tr>\n",
              "      <th>unique</th>\n",
              "      <td>9</td>\n",
              "      <td>16</td>\n",
              "      <td>7</td>\n",
              "      <td>15</td>\n",
              "      <td>6</td>\n",
              "      <td>5</td>\n",
              "      <td>2</td>\n",
              "      <td>42</td>\n",
              "      <td>2</td>\n",
              "    </tr>\n",
              "    <tr>\n",
              "      <th>top</th>\n",
              "      <td>Private</td>\n",
              "      <td>HS-grad</td>\n",
              "      <td>Married-civ-spouse</td>\n",
              "      <td>Prof-specialty</td>\n",
              "      <td>Husband</td>\n",
              "      <td>White</td>\n",
              "      <td>Male</td>\n",
              "      <td>United-States</td>\n",
              "      <td>&lt;=50K</td>\n",
              "    </tr>\n",
              "    <tr>\n",
              "      <th>freq</th>\n",
              "      <td>22696</td>\n",
              "      <td>10501</td>\n",
              "      <td>14976</td>\n",
              "      <td>4140</td>\n",
              "      <td>13193</td>\n",
              "      <td>27816</td>\n",
              "      <td>21790</td>\n",
              "      <td>29170</td>\n",
              "      <td>24720</td>\n",
              "    </tr>\n",
              "  </tbody>\n",
              "</table>\n",
              "</div>"
            ],
            "text/plain": [
              "       workclass education       marital_status  ...    sex  native_country  salary\n",
              "count      32561     32561                32561  ...  32561           32561   32561\n",
              "unique         9        16                    7  ...      2              42       2\n",
              "top      Private   HS-grad   Married-civ-spouse  ...   Male   United-States   <=50K\n",
              "freq       22696     10501                14976  ...  21790           29170   24720\n",
              "\n",
              "[4 rows x 9 columns]"
            ]
          },
          "metadata": {
            "tags": []
          },
          "execution_count": 11
        }
      ]
    },
    {
      "cell_type": "code",
      "metadata": {
        "id": "9h1B86KCh7Km",
        "colab_type": "code",
        "outputId": "1996dd42-a23f-4d18-faf1-c7adf05f6f8d",
        "colab": {
          "base_uri": "https://localhost:8080/",
          "height": 297
        }
      },
      "source": [
        "# From this data, we can see that there are columns containing values which are poorly\n",
        "# distributed such as 'capital_gain', 'capital_loss' which, for the most part, are\n",
        "# mostly 0s.  I think we might be able to curtail 'age' and 'hours_per_week' as well.\n",
        "\n",
        "df.describe(exclude=['category', 'object'])"
      ],
      "execution_count": 12,
      "outputs": [
        {
          "output_type": "execute_result",
          "data": {
            "text/html": [
              "<div>\n",
              "<style scoped>\n",
              "    .dataframe tbody tr th:only-of-type {\n",
              "        vertical-align: middle;\n",
              "    }\n",
              "\n",
              "    .dataframe tbody tr th {\n",
              "        vertical-align: top;\n",
              "    }\n",
              "\n",
              "    .dataframe thead th {\n",
              "        text-align: right;\n",
              "    }\n",
              "</style>\n",
              "<table border=\"1\" class=\"dataframe\">\n",
              "  <thead>\n",
              "    <tr style=\"text-align: right;\">\n",
              "      <th></th>\n",
              "      <th>age</th>\n",
              "      <th>fnlwgt</th>\n",
              "      <th>education_num</th>\n",
              "      <th>capital_gain</th>\n",
              "      <th>capital_loss</th>\n",
              "      <th>hours_per_week</th>\n",
              "    </tr>\n",
              "  </thead>\n",
              "  <tbody>\n",
              "    <tr>\n",
              "      <th>count</th>\n",
              "      <td>32561.000000</td>\n",
              "      <td>32561.000000</td>\n",
              "      <td>32561.000000</td>\n",
              "      <td>32561.000000</td>\n",
              "      <td>32561.000000</td>\n",
              "      <td>32561.000000</td>\n",
              "    </tr>\n",
              "    <tr>\n",
              "      <th>mean</th>\n",
              "      <td>38.581647</td>\n",
              "      <td>189778.366512</td>\n",
              "      <td>10.080679</td>\n",
              "      <td>1077.648844</td>\n",
              "      <td>87.303830</td>\n",
              "      <td>40.437456</td>\n",
              "    </tr>\n",
              "    <tr>\n",
              "      <th>std</th>\n",
              "      <td>13.640433</td>\n",
              "      <td>105549.977697</td>\n",
              "      <td>2.572720</td>\n",
              "      <td>7385.292085</td>\n",
              "      <td>402.960219</td>\n",
              "      <td>12.347429</td>\n",
              "    </tr>\n",
              "    <tr>\n",
              "      <th>min</th>\n",
              "      <td>17.000000</td>\n",
              "      <td>12285.000000</td>\n",
              "      <td>1.000000</td>\n",
              "      <td>0.000000</td>\n",
              "      <td>0.000000</td>\n",
              "      <td>1.000000</td>\n",
              "    </tr>\n",
              "    <tr>\n",
              "      <th>25%</th>\n",
              "      <td>28.000000</td>\n",
              "      <td>117827.000000</td>\n",
              "      <td>9.000000</td>\n",
              "      <td>0.000000</td>\n",
              "      <td>0.000000</td>\n",
              "      <td>40.000000</td>\n",
              "    </tr>\n",
              "    <tr>\n",
              "      <th>50%</th>\n",
              "      <td>37.000000</td>\n",
              "      <td>178356.000000</td>\n",
              "      <td>10.000000</td>\n",
              "      <td>0.000000</td>\n",
              "      <td>0.000000</td>\n",
              "      <td>40.000000</td>\n",
              "    </tr>\n",
              "    <tr>\n",
              "      <th>75%</th>\n",
              "      <td>48.000000</td>\n",
              "      <td>237051.000000</td>\n",
              "      <td>12.000000</td>\n",
              "      <td>0.000000</td>\n",
              "      <td>0.000000</td>\n",
              "      <td>45.000000</td>\n",
              "    </tr>\n",
              "    <tr>\n",
              "      <th>max</th>\n",
              "      <td>90.000000</td>\n",
              "      <td>1484705.000000</td>\n",
              "      <td>16.000000</td>\n",
              "      <td>99999.000000</td>\n",
              "      <td>4356.000000</td>\n",
              "      <td>99.000000</td>\n",
              "    </tr>\n",
              "  </tbody>\n",
              "</table>\n",
              "</div>"
            ],
            "text/plain": [
              "               age         fnlwgt  ...  capital_loss  hours_per_week\n",
              "count 32561.000000   32561.000000  ...  32561.000000    32561.000000\n",
              "mean     38.581647  189778.366512  ...     87.303830       40.437456\n",
              "std      13.640433  105549.977697  ...    402.960219       12.347429\n",
              "min      17.000000   12285.000000  ...      0.000000        1.000000\n",
              "25%      28.000000  117827.000000  ...      0.000000       40.000000\n",
              "50%      37.000000  178356.000000  ...      0.000000       40.000000\n",
              "75%      48.000000  237051.000000  ...      0.000000       45.000000\n",
              "max      90.000000 1484705.000000  ...   4356.000000       99.000000\n",
              "\n",
              "[8 rows x 6 columns]"
            ]
          },
          "metadata": {
            "tags": []
          },
          "execution_count": 12
        }
      ]
    },
    {
      "cell_type": "code",
      "metadata": {
        "id": "r569Avxeh7Kr",
        "colab_type": "code",
        "outputId": "0c6b62b4-157d-4629-d138-960d5e632c13",
        "colab": {
          "base_uri": "https://localhost:8080/",
          "height": 297
        }
      },
      "source": [
        "# For curtailing purposes, I would like to only see results from the United States\n",
        "# since 29170 of the 32561 observations are for this location.\n",
        "\n",
        "# The value United-States has a leading space\n",
        "\n",
        "us_df = df[df['native_country']==' United-States']\n",
        "us_df.describe()"
      ],
      "execution_count": 13,
      "outputs": [
        {
          "output_type": "execute_result",
          "data": {
            "text/html": [
              "<div>\n",
              "<style scoped>\n",
              "    .dataframe tbody tr th:only-of-type {\n",
              "        vertical-align: middle;\n",
              "    }\n",
              "\n",
              "    .dataframe tbody tr th {\n",
              "        vertical-align: top;\n",
              "    }\n",
              "\n",
              "    .dataframe thead th {\n",
              "        text-align: right;\n",
              "    }\n",
              "</style>\n",
              "<table border=\"1\" class=\"dataframe\">\n",
              "  <thead>\n",
              "    <tr style=\"text-align: right;\">\n",
              "      <th></th>\n",
              "      <th>age</th>\n",
              "      <th>fnlwgt</th>\n",
              "      <th>education_num</th>\n",
              "      <th>capital_gain</th>\n",
              "      <th>capital_loss</th>\n",
              "      <th>hours_per_week</th>\n",
              "    </tr>\n",
              "  </thead>\n",
              "  <tbody>\n",
              "    <tr>\n",
              "      <th>count</th>\n",
              "      <td>29170.000000</td>\n",
              "      <td>29170.000000</td>\n",
              "      <td>29170.000000</td>\n",
              "      <td>29170.000000</td>\n",
              "      <td>29170.000000</td>\n",
              "      <td>29170.000000</td>\n",
              "    </tr>\n",
              "    <tr>\n",
              "      <th>mean</th>\n",
              "      <td>38.655674</td>\n",
              "      <td>187069.021152</td>\n",
              "      <td>10.169455</td>\n",
              "      <td>1089.229928</td>\n",
              "      <td>88.510593</td>\n",
              "      <td>40.447755</td>\n",
              "    </tr>\n",
              "    <tr>\n",
              "      <th>std</th>\n",
              "      <td>13.722408</td>\n",
              "      <td>104877.981749</td>\n",
              "      <td>2.394966</td>\n",
              "      <td>7381.898528</td>\n",
              "      <td>405.681709</td>\n",
              "      <td>12.417203</td>\n",
              "    </tr>\n",
              "    <tr>\n",
              "      <th>min</th>\n",
              "      <td>17.000000</td>\n",
              "      <td>12285.000000</td>\n",
              "      <td>1.000000</td>\n",
              "      <td>0.000000</td>\n",
              "      <td>0.000000</td>\n",
              "      <td>1.000000</td>\n",
              "    </tr>\n",
              "    <tr>\n",
              "      <th>25%</th>\n",
              "      <td>28.000000</td>\n",
              "      <td>115895.250000</td>\n",
              "      <td>9.000000</td>\n",
              "      <td>0.000000</td>\n",
              "      <td>0.000000</td>\n",
              "      <td>40.000000</td>\n",
              "    </tr>\n",
              "    <tr>\n",
              "      <th>50%</th>\n",
              "      <td>37.000000</td>\n",
              "      <td>176730.000000</td>\n",
              "      <td>10.000000</td>\n",
              "      <td>0.000000</td>\n",
              "      <td>0.000000</td>\n",
              "      <td>40.000000</td>\n",
              "    </tr>\n",
              "    <tr>\n",
              "      <th>75%</th>\n",
              "      <td>48.000000</td>\n",
              "      <td>234138.500000</td>\n",
              "      <td>12.000000</td>\n",
              "      <td>0.000000</td>\n",
              "      <td>0.000000</td>\n",
              "      <td>45.000000</td>\n",
              "    </tr>\n",
              "    <tr>\n",
              "      <th>max</th>\n",
              "      <td>90.000000</td>\n",
              "      <td>1484705.000000</td>\n",
              "      <td>16.000000</td>\n",
              "      <td>99999.000000</td>\n",
              "      <td>4356.000000</td>\n",
              "      <td>99.000000</td>\n",
              "    </tr>\n",
              "  </tbody>\n",
              "</table>\n",
              "</div>"
            ],
            "text/plain": [
              "               age         fnlwgt  ...  capital_loss  hours_per_week\n",
              "count 29170.000000   29170.000000  ...  29170.000000    29170.000000\n",
              "mean     38.655674  187069.021152  ...     88.510593       40.447755\n",
              "std      13.722408  104877.981749  ...    405.681709       12.417203\n",
              "min      17.000000   12285.000000  ...      0.000000        1.000000\n",
              "25%      28.000000  115895.250000  ...      0.000000       40.000000\n",
              "50%      37.000000  176730.000000  ...      0.000000       40.000000\n",
              "75%      48.000000  234138.500000  ...      0.000000       45.000000\n",
              "max      90.000000 1484705.000000  ...   4356.000000       99.000000\n",
              "\n",
              "[8 rows x 6 columns]"
            ]
          },
          "metadata": {
            "tags": []
          },
          "execution_count": 13
        }
      ]
    },
    {
      "cell_type": "code",
      "metadata": {
        "id": "mADt2YRvh7Ku",
        "colab_type": "code",
        "outputId": "e53f56e8-2082-4982-f95e-e1d0e410a997",
        "colab": {
          "base_uri": "https://localhost:8080/",
          "height": 34
        }
      },
      "source": [
        "# For the purposes of being consistant, I would keep the hours_per_week limited to\n",
        "# 40 hours in a work week (avg = 39.2h in 1995) source: https://www.bls.gov/opub/mlr/1997/04/art1full.pdf\n",
        "\n",
        "# Since 75% of the data is from 1-45, I'd like to make the max just above that at 50h\n",
        "\n",
        "# At the other side, the government, in 1996, defined part time as working less than 30-35h\n",
        "# per work week so, I will have the lower end be 30h\n",
        "\n",
        "hour_mask = (us_df['hours_per_week']>=30) & (us_df['hours_per_week']<=50)\n",
        "\n",
        "len(us_df['hours_per_week'][(us_df['hours_per_week']<30) & (us_df['hours_per_week']>50)])"
      ],
      "execution_count": 14,
      "outputs": [
        {
          "output_type": "execute_result",
          "data": {
            "text/plain": [
              "0"
            ]
          },
          "metadata": {
            "tags": []
          },
          "execution_count": 14
        }
      ]
    },
    {
      "cell_type": "code",
      "metadata": {
        "id": "WmynSkhQh7Ky",
        "colab_type": "code",
        "colab": {}
      },
      "source": [
        "hour_df = us_df[hour_mask]"
      ],
      "execution_count": 0,
      "outputs": []
    },
    {
      "cell_type": "code",
      "metadata": {
        "id": "9Y1hdNnhh7K1",
        "colab_type": "code",
        "outputId": "2dd855a0-27c8-4047-8c4f-acaedefedb3f",
        "colab": {
          "base_uri": "https://localhost:8080/",
          "height": 34
        }
      },
      "source": [
        "# I chose 62 since, back in the early 90s, the early retirement age was 61 and, today\n",
        "# it is now 62 (full 65-67).\n",
        "\n",
        "age_mask = hour_df['age']<=62\n",
        "\n",
        "print(len(hour_df['age'][hour_df['age']>62]))"
      ],
      "execution_count": 16,
      "outputs": [
        {
          "output_type": "stream",
          "text": [
            "848\n"
          ],
          "name": "stdout"
        }
      ]
    },
    {
      "cell_type": "code",
      "metadata": {
        "id": "lBTF1Zu4h7K4",
        "colab_type": "code",
        "colab": {}
      },
      "source": [
        "age_df = hour_df[age_mask]"
      ],
      "execution_count": 0,
      "outputs": []
    },
    {
      "cell_type": "code",
      "metadata": {
        "id": "q_TkB7sgh7K-",
        "colab_type": "code",
        "outputId": "aa494ac5-1467-4b58-e25e-542ddeb9ca14",
        "colab": {
          "base_uri": "https://localhost:8080/",
          "height": 34
        }
      },
      "source": [
        "# Next I will drop trivial columns and columns with many 0s\n",
        "\n",
        "df = age_df.drop(columns=['fnlwgt', 'capital_gain', 'capital_loss', 'native_country'])\n",
        "df.shape"
      ],
      "execution_count": 18,
      "outputs": [
        {
          "output_type": "execute_result",
          "data": {
            "text/plain": [
              "(21306, 11)"
            ]
          },
          "metadata": {
            "tags": []
          },
          "execution_count": 18
        }
      ]
    },
    {
      "cell_type": "code",
      "metadata": {
        "id": "UIknzstNh7LD",
        "colab_type": "code",
        "outputId": "b9be37ab-7db2-456b-9083-109616bde015",
        "colab": {
          "base_uri": "https://localhost:8080/",
          "height": 297
        }
      },
      "source": [
        "df.describe()"
      ],
      "execution_count": 19,
      "outputs": [
        {
          "output_type": "execute_result",
          "data": {
            "text/html": [
              "<div>\n",
              "<style scoped>\n",
              "    .dataframe tbody tr th:only-of-type {\n",
              "        vertical-align: middle;\n",
              "    }\n",
              "\n",
              "    .dataframe tbody tr th {\n",
              "        vertical-align: top;\n",
              "    }\n",
              "\n",
              "    .dataframe thead th {\n",
              "        text-align: right;\n",
              "    }\n",
              "</style>\n",
              "<table border=\"1\" class=\"dataframe\">\n",
              "  <thead>\n",
              "    <tr style=\"text-align: right;\">\n",
              "      <th></th>\n",
              "      <th>age</th>\n",
              "      <th>education_num</th>\n",
              "      <th>hours_per_week</th>\n",
              "    </tr>\n",
              "  </thead>\n",
              "  <tbody>\n",
              "    <tr>\n",
              "      <th>count</th>\n",
              "      <td>21306.000000</td>\n",
              "      <td>21306.000000</td>\n",
              "      <td>21306.000000</td>\n",
              "    </tr>\n",
              "    <tr>\n",
              "      <th>mean</th>\n",
              "      <td>37.572280</td>\n",
              "      <td>10.209659</td>\n",
              "      <td>40.971276</td>\n",
              "    </tr>\n",
              "    <tr>\n",
              "      <th>std</th>\n",
              "      <td>11.401522</td>\n",
              "      <td>2.300745</td>\n",
              "      <td>4.634546</td>\n",
              "    </tr>\n",
              "    <tr>\n",
              "      <th>min</th>\n",
              "      <td>17.000000</td>\n",
              "      <td>1.000000</td>\n",
              "      <td>30.000000</td>\n",
              "    </tr>\n",
              "    <tr>\n",
              "      <th>25%</th>\n",
              "      <td>28.000000</td>\n",
              "      <td>9.000000</td>\n",
              "      <td>40.000000</td>\n",
              "    </tr>\n",
              "    <tr>\n",
              "      <th>50%</th>\n",
              "      <td>37.000000</td>\n",
              "      <td>10.000000</td>\n",
              "      <td>40.000000</td>\n",
              "    </tr>\n",
              "    <tr>\n",
              "      <th>75%</th>\n",
              "      <td>46.000000</td>\n",
              "      <td>12.000000</td>\n",
              "      <td>40.000000</td>\n",
              "    </tr>\n",
              "    <tr>\n",
              "      <th>max</th>\n",
              "      <td>62.000000</td>\n",
              "      <td>16.000000</td>\n",
              "      <td>50.000000</td>\n",
              "    </tr>\n",
              "  </tbody>\n",
              "</table>\n",
              "</div>"
            ],
            "text/plain": [
              "               age  education_num  hours_per_week\n",
              "count 21306.000000   21306.000000    21306.000000\n",
              "mean     37.572280      10.209659       40.971276\n",
              "std      11.401522       2.300745        4.634546\n",
              "min      17.000000       1.000000       30.000000\n",
              "25%      28.000000       9.000000       40.000000\n",
              "50%      37.000000      10.000000       40.000000\n",
              "75%      46.000000      12.000000       40.000000\n",
              "max      62.000000      16.000000       50.000000"
            ]
          },
          "metadata": {
            "tags": []
          },
          "execution_count": 19
        }
      ]
    },
    {
      "cell_type": "code",
      "metadata": {
        "id": "plk8XLI-h7LG",
        "colab_type": "code",
        "outputId": "f262a72e-f7c9-4297-b084-4607c69af219",
        "colab": {
          "base_uri": "https://localhost:8080/",
          "height": 173
        }
      },
      "source": [
        "df.describe(exclude='number')"
      ],
      "execution_count": 20,
      "outputs": [
        {
          "output_type": "execute_result",
          "data": {
            "text/html": [
              "<div>\n",
              "<style scoped>\n",
              "    .dataframe tbody tr th:only-of-type {\n",
              "        vertical-align: middle;\n",
              "    }\n",
              "\n",
              "    .dataframe tbody tr th {\n",
              "        vertical-align: top;\n",
              "    }\n",
              "\n",
              "    .dataframe thead th {\n",
              "        text-align: right;\n",
              "    }\n",
              "</style>\n",
              "<table border=\"1\" class=\"dataframe\">\n",
              "  <thead>\n",
              "    <tr style=\"text-align: right;\">\n",
              "      <th></th>\n",
              "      <th>workclass</th>\n",
              "      <th>education</th>\n",
              "      <th>marital_status</th>\n",
              "      <th>occupation</th>\n",
              "      <th>relationship</th>\n",
              "      <th>race</th>\n",
              "      <th>sex</th>\n",
              "      <th>salary</th>\n",
              "    </tr>\n",
              "  </thead>\n",
              "  <tbody>\n",
              "    <tr>\n",
              "      <th>count</th>\n",
              "      <td>21306</td>\n",
              "      <td>21306</td>\n",
              "      <td>21306</td>\n",
              "      <td>21306</td>\n",
              "      <td>21306</td>\n",
              "      <td>21306</td>\n",
              "      <td>21306</td>\n",
              "      <td>21306</td>\n",
              "    </tr>\n",
              "    <tr>\n",
              "      <th>unique</th>\n",
              "      <td>9</td>\n",
              "      <td>16</td>\n",
              "      <td>7</td>\n",
              "      <td>15</td>\n",
              "      <td>6</td>\n",
              "      <td>5</td>\n",
              "      <td>2</td>\n",
              "      <td>2</td>\n",
              "    </tr>\n",
              "    <tr>\n",
              "      <th>top</th>\n",
              "      <td>Private</td>\n",
              "      <td>HS-grad</td>\n",
              "      <td>Married-civ-spouse</td>\n",
              "      <td>Craft-repair</td>\n",
              "      <td>Husband</td>\n",
              "      <td>White</td>\n",
              "      <td>Male</td>\n",
              "      <td>&lt;=50K</td>\n",
              "    </tr>\n",
              "    <tr>\n",
              "      <th>freq</th>\n",
              "      <td>15443</td>\n",
              "      <td>7511</td>\n",
              "      <td>9832</td>\n",
              "      <td>3116</td>\n",
              "      <td>8707</td>\n",
              "      <td>18515</td>\n",
              "      <td>14359</td>\n",
              "      <td>15991</td>\n",
              "    </tr>\n",
              "  </tbody>\n",
              "</table>\n",
              "</div>"
            ],
            "text/plain": [
              "       workclass education       marital_status  ...    race    sex  salary\n",
              "count      21306     21306                21306  ...   21306  21306   21306\n",
              "unique         9        16                    7  ...       5      2       2\n",
              "top      Private   HS-grad   Married-civ-spouse  ...   White   Male   <=50K\n",
              "freq       15443      7511                 9832  ...   18515  14359   15991\n",
              "\n",
              "[4 rows x 8 columns]"
            ]
          },
          "metadata": {
            "tags": []
          },
          "execution_count": 20
        }
      ]
    },
    {
      "cell_type": "code",
      "metadata": {
        "id": "_bAzbWYAh7LJ",
        "colab_type": "code",
        "colab": {}
      },
      "source": [
        "# This distribution tapers off at 500000 so I will have that be the limit.\n",
        "\n",
        "# sns.distplot(df['fnlwgt']);"
      ],
      "execution_count": 0,
      "outputs": []
    },
    {
      "cell_type": "code",
      "metadata": {
        "id": "oAVWZcg-h7LN",
        "colab_type": "code",
        "colab": {}
      },
      "source": [
        "df['salary_over_50k'] = df['salary'].replace({' <=50K': 0, ' >50K': 1})"
      ],
      "execution_count": 0,
      "outputs": []
    },
    {
      "cell_type": "code",
      "metadata": {
        "id": "yiJa9dSxh7LQ",
        "colab_type": "code",
        "outputId": "e3fb1159-be79-48ff-8bc7-4c06d1bcc269",
        "colab": {
          "base_uri": "https://localhost:8080/",
          "height": 68
        }
      },
      "source": [
        "df['salary_over_50k'].value_counts(normalize=True)"
      ],
      "execution_count": 23,
      "outputs": [
        {
          "output_type": "execute_result",
          "data": {
            "text/plain": [
              "0   0.750540\n",
              "1   0.249460\n",
              "Name: salary_over_50k, dtype: float64"
            ]
          },
          "metadata": {
            "tags": []
          },
          "execution_count": 23
        }
      ]
    },
    {
      "cell_type": "code",
      "metadata": {
        "id": "Zyn6L_Suh7LV",
        "colab_type": "code",
        "outputId": "28310938-bd75-40f7-cae5-8dae07ddbfb2",
        "colab": {
          "base_uri": "https://localhost:8080/",
          "height": 204
        }
      },
      "source": [
        "df = df.drop(columns='salary')\n",
        "df.head()"
      ],
      "execution_count": 24,
      "outputs": [
        {
          "output_type": "execute_result",
          "data": {
            "text/html": [
              "<div>\n",
              "<style scoped>\n",
              "    .dataframe tbody tr th:only-of-type {\n",
              "        vertical-align: middle;\n",
              "    }\n",
              "\n",
              "    .dataframe tbody tr th {\n",
              "        vertical-align: top;\n",
              "    }\n",
              "\n",
              "    .dataframe thead th {\n",
              "        text-align: right;\n",
              "    }\n",
              "</style>\n",
              "<table border=\"1\" class=\"dataframe\">\n",
              "  <thead>\n",
              "    <tr style=\"text-align: right;\">\n",
              "      <th></th>\n",
              "      <th>age</th>\n",
              "      <th>workclass</th>\n",
              "      <th>education</th>\n",
              "      <th>education_num</th>\n",
              "      <th>marital_status</th>\n",
              "      <th>occupation</th>\n",
              "      <th>relationship</th>\n",
              "      <th>race</th>\n",
              "      <th>sex</th>\n",
              "      <th>hours_per_week</th>\n",
              "      <th>salary_over_50k</th>\n",
              "    </tr>\n",
              "  </thead>\n",
              "  <tbody>\n",
              "    <tr>\n",
              "      <th>0</th>\n",
              "      <td>39</td>\n",
              "      <td>State-gov</td>\n",
              "      <td>Bachelors</td>\n",
              "      <td>13</td>\n",
              "      <td>Never-married</td>\n",
              "      <td>Adm-clerical</td>\n",
              "      <td>Not-in-family</td>\n",
              "      <td>White</td>\n",
              "      <td>Male</td>\n",
              "      <td>40</td>\n",
              "      <td>0</td>\n",
              "    </tr>\n",
              "    <tr>\n",
              "      <th>2</th>\n",
              "      <td>38</td>\n",
              "      <td>Private</td>\n",
              "      <td>HS-grad</td>\n",
              "      <td>9</td>\n",
              "      <td>Divorced</td>\n",
              "      <td>Handlers-cleaners</td>\n",
              "      <td>Not-in-family</td>\n",
              "      <td>White</td>\n",
              "      <td>Male</td>\n",
              "      <td>40</td>\n",
              "      <td>0</td>\n",
              "    </tr>\n",
              "    <tr>\n",
              "      <th>3</th>\n",
              "      <td>53</td>\n",
              "      <td>Private</td>\n",
              "      <td>11th</td>\n",
              "      <td>7</td>\n",
              "      <td>Married-civ-spouse</td>\n",
              "      <td>Handlers-cleaners</td>\n",
              "      <td>Husband</td>\n",
              "      <td>Black</td>\n",
              "      <td>Male</td>\n",
              "      <td>40</td>\n",
              "      <td>0</td>\n",
              "    </tr>\n",
              "    <tr>\n",
              "      <th>5</th>\n",
              "      <td>37</td>\n",
              "      <td>Private</td>\n",
              "      <td>Masters</td>\n",
              "      <td>14</td>\n",
              "      <td>Married-civ-spouse</td>\n",
              "      <td>Exec-managerial</td>\n",
              "      <td>Wife</td>\n",
              "      <td>White</td>\n",
              "      <td>Female</td>\n",
              "      <td>40</td>\n",
              "      <td>0</td>\n",
              "    </tr>\n",
              "    <tr>\n",
              "      <th>7</th>\n",
              "      <td>52</td>\n",
              "      <td>Self-emp-not-inc</td>\n",
              "      <td>HS-grad</td>\n",
              "      <td>9</td>\n",
              "      <td>Married-civ-spouse</td>\n",
              "      <td>Exec-managerial</td>\n",
              "      <td>Husband</td>\n",
              "      <td>White</td>\n",
              "      <td>Male</td>\n",
              "      <td>45</td>\n",
              "      <td>1</td>\n",
              "    </tr>\n",
              "  </tbody>\n",
              "</table>\n",
              "</div>"
            ],
            "text/plain": [
              "   age          workclass   education  ...      sex hours_per_week salary_over_50k\n",
              "0   39          State-gov   Bachelors  ...     Male             40               0\n",
              "2   38            Private     HS-grad  ...     Male             40               0\n",
              "3   53            Private        11th  ...     Male             40               0\n",
              "5   37            Private     Masters  ...   Female             40               0\n",
              "7   52   Self-emp-not-inc     HS-grad  ...     Male             45               1\n",
              "\n",
              "[5 rows x 11 columns]"
            ]
          },
          "metadata": {
            "tags": []
          },
          "execution_count": 24
        }
      ]
    },
    {
      "cell_type": "code",
      "metadata": {
        "id": "2I1r_iREh7LZ",
        "colab_type": "code",
        "outputId": "fac81809-90ca-4e73-ae98-283a688ea614",
        "colab": {
          "base_uri": "https://localhost:8080/",
          "height": 34
        }
      },
      "source": [
        "train, test = train_test_split(df, test_size=0.15, random_state=42)\n",
        "train, val = train_test_split(train, test_size=0.20, random_state=42)\n",
        "print(train.shape, val.shape, test.shape)"
      ],
      "execution_count": 25,
      "outputs": [
        {
          "output_type": "stream",
          "text": [
            "(14488, 11) (3622, 11) (3196, 11)\n"
          ],
          "name": "stdout"
        }
      ]
    },
    {
      "cell_type": "code",
      "metadata": {
        "id": "puHdjupgh7Ld",
        "colab_type": "code",
        "colab": {}
      },
      "source": [
        "target = 'salary_over_50k'\n",
        "features = train.drop(columns=target).columns\n",
        "\n",
        "X_train = train[features]\n",
        "X_val = val[features]\n",
        "X_test = test[features]\n",
        "\n",
        "y_train = train[target]\n",
        "y_val = val[target]\n",
        "y_test = test[target]"
      ],
      "execution_count": 0,
      "outputs": []
    },
    {
      "cell_type": "code",
      "metadata": {
        "id": "MG8lzXMTh7Lg",
        "colab_type": "code",
        "outputId": "ec36a631-5f76-46cc-91c0-eb41e48ac4cc",
        "colab": {
          "base_uri": "https://localhost:8080/",
          "height": 306
        }
      },
      "source": [
        "pipeline = make_pipeline(\n",
        "    OrdinalEncoder(),\n",
        "    RandomForestClassifier(n_estimators=100, random_state=42)\n",
        ")\n",
        "\n",
        "pipeline.fit(X_train, y_train)"
      ],
      "execution_count": 27,
      "outputs": [
        {
          "output_type": "execute_result",
          "data": {
            "text/plain": [
              "Pipeline(memory=None,\n",
              "         steps=[('ordinalencoder',\n",
              "                 OrdinalEncoder(categories='auto',\n",
              "                                dtype=<class 'numpy.float64'>)),\n",
              "                ('randomforestclassifier',\n",
              "                 RandomForestClassifier(bootstrap=True, ccp_alpha=0.0,\n",
              "                                        class_weight=None, criterion='gini',\n",
              "                                        max_depth=None, max_features='auto',\n",
              "                                        max_leaf_nodes=None, max_samples=None,\n",
              "                                        min_impurity_decrease=0.0,\n",
              "                                        min_impurity_split=None,\n",
              "                                        min_samples_leaf=1, min_samples_split=2,\n",
              "                                        min_weight_fraction_leaf=0.0,\n",
              "                                        n_estimators=100, n_jobs=None,\n",
              "                                        oob_score=False, random_state=42,\n",
              "                                        verbose=0, warm_start=False))],\n",
              "         verbose=False)"
            ]
          },
          "metadata": {
            "tags": []
          },
          "execution_count": 27
        }
      ]
    },
    {
      "cell_type": "code",
      "metadata": {
        "id": "IDHbgF10h7Lk",
        "colab_type": "code",
        "outputId": "921b1a63-d1ee-427c-d8f4-7f30c4879e7d",
        "colab": {
          "base_uri": "https://localhost:8080/",
          "height": 34
        }
      },
      "source": [
        "y_pred_proba = pipeline.predict_proba(X_val)[:, -1]\n",
        "roc_auc_score(y_val, y_pred_proba)\n",
        "# y_pred_proba"
      ],
      "execution_count": 28,
      "outputs": [
        {
          "output_type": "execute_result",
          "data": {
            "text/plain": [
              "0.8335728062497975"
            ]
          },
          "metadata": {
            "tags": []
          },
          "execution_count": 28
        }
      ]
    },
    {
      "cell_type": "code",
      "metadata": {
        "id": "erujt6TMh7Lp",
        "colab_type": "code",
        "outputId": "839445e5-9e79-4d3b-af2a-21969344b52f",
        "colab": {
          "base_uri": "https://localhost:8080/",
          "height": 1000
        }
      },
      "source": [
        "fpr, tpr, thresholds = roc_curve(y_val, y_pred_proba)\n",
        "(fpr, tpr, thresholds)"
      ],
      "execution_count": 29,
      "outputs": [
        {
          "output_type": "execute_result",
          "data": {
            "text/plain": [
              "(array([0.        , 0.00368732, 0.00368732, 0.00368732, 0.00405605,\n",
              "        0.00442478, 0.00442478, 0.00479351, 0.00663717, 0.00663717,\n",
              "        0.0070059 , 0.00811209, 0.00811209, 0.00811209, 0.00811209,\n",
              "        0.00811209, 0.00811209, 0.00884956, 0.00884956, 0.00884956,\n",
              "        0.00958702, 0.01032448, 0.01143068, 0.01143068, 0.01143068,\n",
              "        0.01179941, 0.01179941, 0.01179941, 0.0129056 , 0.01327434,\n",
              "        0.01327434, 0.01327434, 0.0140118 , 0.0140118 , 0.01474926,\n",
              "        0.01474926, 0.01511799, 0.01659292, 0.01659292, 0.01769912,\n",
              "        0.01769912, 0.01769912, 0.01769912, 0.01843658, 0.01843658,\n",
              "        0.01843658, 0.01843658, 0.01880531, 0.01917404, 0.01917404,\n",
              "        0.01954277, 0.01954277, 0.0199115 , 0.0199115 , 0.0199115 ,\n",
              "        0.02064897, 0.02064897, 0.0210177 , 0.02175516, 0.02175516,\n",
              "        0.02212389, 0.02286136, 0.02323009, 0.02323009, 0.02359882,\n",
              "        0.02396755, 0.02396755, 0.02470501, 0.02507375, 0.02507375,\n",
              "        0.02581121, 0.02581121, 0.02581121, 0.02617994, 0.02617994,\n",
              "        0.02654867, 0.02765487, 0.02765487, 0.02839233, 0.02912979,\n",
              "        0.02986726, 0.03023599, 0.03134218, 0.03134218, 0.03207965,\n",
              "        0.03207965, 0.03244838, 0.03281711, 0.03281711, 0.03318584,\n",
              "        0.03318584, 0.03466077, 0.03466077, 0.03576696, 0.03576696,\n",
              "        0.03613569, 0.03613569, 0.03687316, 0.03761062, 0.03797935,\n",
              "        0.03834808, 0.03834808, 0.03871681, 0.03871681, 0.03945428,\n",
              "        0.03945428, 0.03982301, 0.03982301, 0.04056047, 0.04166667,\n",
              "        0.04166667, 0.0420354 , 0.04240413, 0.04314159, 0.04351032,\n",
              "        0.04351032, 0.04424779, 0.04461652, 0.04461652, 0.04498525,\n",
              "        0.04498525, 0.04535398, 0.04535398, 0.04646018, 0.04646018,\n",
              "        0.04682891, 0.04719764, 0.04719764, 0.04756637, 0.04977876,\n",
              "        0.04977876, 0.05014749, 0.05051622, 0.05051622, 0.05088496,\n",
              "        0.05162242, 0.05162242, 0.05162242, 0.05199115, 0.05199115,\n",
              "        0.05272861, 0.05309735, 0.05346608, 0.05346608, 0.05383481,\n",
              "        0.05383481, 0.05420354, 0.05567847, 0.05567847, 0.0560472 ,\n",
              "        0.0560472 , 0.05752212, 0.05899705, 0.05899705, 0.05936578,\n",
              "        0.05936578, 0.05973451, 0.05973451, 0.06010324, 0.06010324,\n",
              "        0.06084071, 0.06084071, 0.0619469 , 0.0619469 , 0.06231563,\n",
              "        0.06231563, 0.0630531 , 0.06342183, 0.06379056, 0.06452802,\n",
              "        0.06526549, 0.06526549, 0.06563422, 0.06563422, 0.06674041,\n",
              "        0.06674041, 0.06710914, 0.06784661, 0.06784661, 0.06858407,\n",
              "        0.0689528 , 0.06932153, 0.06932153, 0.06969027, 0.06969027,\n",
              "        0.070059  , 0.070059  , 0.07079646, 0.07079646, 0.07337758,\n",
              "        0.07411504, 0.07411504, 0.07448378, 0.07448378, 0.07485251,\n",
              "        0.07522124, 0.07522124, 0.07558997, 0.07558997, 0.0770649 ,\n",
              "        0.0770649 , 0.0770649 , 0.0770649 , 0.07743363, 0.07817109,\n",
              "        0.07890855, 0.07890855, 0.07927729, 0.08001475, 0.08001475,\n",
              "        0.08038348, 0.08038348, 0.08075221, 0.08075221, 0.08112094,\n",
              "        0.08112094, 0.08112094, 0.08185841, 0.08185841, 0.08222714,\n",
              "        0.08222714, 0.08259587, 0.08259587, 0.0829646 , 0.0840708 ,\n",
              "        0.08443953, 0.08480826, 0.08480826, 0.08554572, 0.08554572,\n",
              "        0.08554572, 0.08554572, 0.08591445, 0.08591445, 0.08591445,\n",
              "        0.08665192, 0.08665192, 0.08775811, 0.08775811, 0.08849558,\n",
              "        0.08923304, 0.08960177, 0.09033923, 0.0910767 , 0.09218289,\n",
              "        0.09218289, 0.09292035, 0.09328909, 0.09365782, 0.09513274,\n",
              "        0.09587021, 0.09623894, 0.0969764 , 0.0969764 , 0.09734513,\n",
              "        0.09734513, 0.0980826 , 0.09992625, 0.10140118, 0.10176991,\n",
              "        0.10250737, 0.10250737, 0.10287611, 0.10287611, 0.10324484,\n",
              "        0.10324484, 0.10471976, 0.1050885 , 0.10545723, 0.10619469,\n",
              "        0.10619469, 0.10656342, 0.10656342, 0.10656342, 0.10730088,\n",
              "        0.10730088, 0.10803835, 0.10840708, 0.10877581, 0.10877581,\n",
              "        0.10951327, 0.10951327, 0.10988201, 0.11061947, 0.11061947,\n",
              "        0.1109882 , 0.1109882 , 0.11135693, 0.11135693, 0.11172566,\n",
              "        0.1120944 , 0.1120944 , 0.11283186, 0.11320059, 0.11320059,\n",
              "        0.11320059, 0.11356932, 0.11356932, 0.11467552, 0.11504425,\n",
              "        0.11541298, 0.11541298, 0.11615044, 0.11651917, 0.11651917,\n",
              "        0.11688791, 0.1179941 , 0.11836283, 0.11873156, 0.11983776,\n",
              "        0.11983776, 0.12057522, 0.12057522, 0.12168142, 0.12168142,\n",
              "        0.12278761, 0.12278761, 0.12315634, 0.12352507, 0.12389381,\n",
              "        0.12389381, 0.12426254, 0.12426254, 0.12463127, 0.12536873,\n",
              "        0.12610619, 0.12684366, 0.12721239, 0.12794985, 0.12794985,\n",
              "        0.12831858, 0.12831858, 0.12868732, 0.12868732, 0.13089971,\n",
              "        0.13089971, 0.1320059 , 0.13237463, 0.13237463, 0.13274336,\n",
              "        0.13421829, 0.13495575, 0.13643068, 0.13643068, 0.13679941,\n",
              "        0.1379056 , 0.13827434, 0.13827434, 0.1390118 , 0.1390118 ,\n",
              "        0.13938053, 0.14122419, 0.14122419, 0.14343658, 0.14343658,\n",
              "        0.14564897, 0.1460177 , 0.1460177 , 0.14749263, 0.14749263,\n",
              "        0.15007375, 0.15117994, 0.15117994, 0.15154867, 0.15228614,\n",
              "        0.15265487, 0.15339233, 0.15339233, 0.15376106, 0.15376106,\n",
              "        0.15597345, 0.15707965, 0.15744838, 0.1589233 , 0.1600295 ,\n",
              "        0.16076696, 0.16187316, 0.16261062, 0.16261062, 0.16297935,\n",
              "        0.16371681, 0.16371681, 0.16519174, 0.16519174, 0.1659292 ,\n",
              "        0.1659292 , 0.16666667, 0.16777286, 0.16887906, 0.16998525,\n",
              "        0.17035398, 0.17219764, 0.17588496, 0.17662242, 0.17662242,\n",
              "        0.17735988, 0.17735988, 0.17809735, 0.17846608, 0.17883481,\n",
              "        0.17883481, 0.17920354, 0.17957227, 0.18178466, 0.18362832,\n",
              "        0.18362832, 0.18436578, 0.18547198, 0.18547198, 0.18584071,\n",
              "        0.18584071, 0.18620944, 0.18620944, 0.18657817, 0.18879056,\n",
              "        0.18879056, 0.18879056, 0.18915929, 0.18915929, 0.18952802,\n",
              "        0.18989676, 0.18989676, 0.19026549, 0.19063422, 0.19063422,\n",
              "        0.19137168, 0.19137168, 0.19432153, 0.19764012, 0.19800885,\n",
              "        0.19911504, 0.19911504, 0.20022124, 0.20022124, 0.2009587 ,\n",
              "        0.2020649 , 0.2020649 , 0.20243363, 0.20243363, 0.20280236,\n",
              "        0.20427729, 0.20427729, 0.20464602, 0.20464602, 0.20759587,\n",
              "        0.20759587, 0.2079646 , 0.2090708 , 0.2090708 , 0.20980826,\n",
              "        0.21165192, 0.21202065, 0.21238938, 0.21238938, 0.21460177,\n",
              "        0.21460177, 0.21644543, 0.21644543, 0.21902655, 0.21976401,\n",
              "        0.22013274, 0.2219764 , 0.2219764 , 0.22271386, 0.22271386,\n",
              "        0.22382006, 0.22418879, 0.22418879, 0.22455752, 0.22529499,\n",
              "        0.22529499, 0.22640118, 0.2300885 , 0.2300885 , 0.23082596,\n",
              "        0.23193215, 0.23193215, 0.23303835, 0.23783186, 0.23783186,\n",
              "        0.23893805, 0.23893805, 0.23967552, 0.23967552, 0.24041298,\n",
              "        0.24041298, 0.24115044, 0.24151917, 0.24151917, 0.24631268,\n",
              "        0.24668142, 0.24668142, 0.24852507, 0.25073746, 0.25147493,\n",
              "        0.25147493, 0.25221239, 0.25221239, 0.25479351, 0.25553097,\n",
              "        0.25553097, 0.2570059 , 0.25737463, 0.25737463, 0.25774336,\n",
              "        0.25811209, 0.26216814, 0.2629056 , 0.2629056 , 0.26327434,\n",
              "        0.2640118 , 0.2640118 , 0.26474926, 0.26548673, 0.26917404,\n",
              "        0.26954277, 0.27028024, 0.27028024, 0.27212389, 0.27212389,\n",
              "        0.27249263, 0.27581121, 0.27581121, 0.27654867, 0.27654867,\n",
              "        0.2769174 , 0.2769174 , 0.27728614, 0.27728614, 0.27765487,\n",
              "        0.27765487, 0.27765487, 0.2780236 , 0.28318584, 0.28318584,\n",
              "        0.2839233 , 0.28429204, 0.28429204, 0.2850295 , 0.28539823,\n",
              "        0.28761062, 0.28871681, 0.28871681, 0.28908555, 0.29498525,\n",
              "        0.29498525, 0.29572271, 0.29682891, 0.29719764, 0.29719764,\n",
              "        0.2979351 , 0.2979351 , 0.29830383, 0.304941  , 0.30567847,\n",
              "        0.30567847, 0.3060472 , 0.30752212, 0.30825959, 0.30899705,\n",
              "        0.30936578, 0.30936578, 0.30973451, 0.30973451, 0.31047198,\n",
              "        0.31047198, 0.31084071, 0.31120944, 0.31120944, 0.31858407,\n",
              "        0.3189528 , 0.3189528 , 0.31969027, 0.320059  , 0.32042773,\n",
              "        0.32079646, 0.32190265, 0.32264012, 0.33222714, 0.3340708 ,\n",
              "        0.3340708 , 0.33554572, 0.33554572, 0.33591445, 0.33960177,\n",
              "        0.33960177, 0.34181416, 0.34292035, 0.34402655, 0.34402655,\n",
              "        0.34439528, 0.34439528, 0.34513274, 0.3539823 , 0.35656342,\n",
              "        0.35730088, 0.35840708, 0.35840708, 0.35877581, 0.35988201,\n",
              "        0.36578171, 0.36725664, 0.36725664, 0.3679941 , 0.3679941 ,\n",
              "        0.36836283, 0.36836283, 0.37020649, 0.37020649, 0.37094395,\n",
              "        0.37758112, 0.37831858, 0.37831858, 0.37905605, 0.37905605,\n",
              "        0.37979351, 0.37979351, 0.38053097, 0.38126844, 0.38126844,\n",
              "        0.3820059 , 0.38495575, 0.39454277, 0.39564897, 0.39712389,\n",
              "        0.39712389, 0.39786136, 0.41371681, 0.41519174, 0.41519174,\n",
              "        0.41556047, 0.41556047, 0.4159292 , 0.41666667, 0.41924779,\n",
              "        0.43547198, 0.43584071, 0.43620944, 0.4369469 , 0.4369469 ,\n",
              "        0.43768437, 0.4380531 , 0.44174041, 0.44174041, 0.44247788,\n",
              "        0.46165192, 0.46275811, 0.46349558, 0.46423304, 0.46423304,\n",
              "        0.46644543, 0.48893805, 0.48930678, 0.48930678, 0.49041298,\n",
              "        0.49151917, 0.49188791, 0.49225664, 0.49262537, 0.49336283,\n",
              "        0.49373156, 0.49483776, 0.49520649, 0.49594395, 0.52433628,\n",
              "        0.52544248, 0.52617994, 0.52654867, 0.52654867, 0.52765487,\n",
              "        0.52876106, 0.52912979, 0.52949853, 0.53097345, 0.57337758,\n",
              "        0.57411504, 0.57411504, 0.57522124, 0.57558997, 0.5759587 ,\n",
              "        0.57632743, 0.57780236, 0.57853982, 0.57964602, 0.58038348,\n",
              "        0.5829646 , 0.58333333, 0.58591445, 0.58591445, 0.58628319,\n",
              "        0.58628319, 0.58738938, 0.58812684, 0.66113569, 0.66150442,\n",
              "        0.66224189, 0.66297935, 0.66445428, 0.66519174, 0.66666667,\n",
              "        0.66998525, 0.66998525, 0.67035398, 0.67219764, 0.67551622,\n",
              "        0.67809735, 0.67957227, 0.68030973, 1.        ]),\n",
              " array([0.        , 0.03956044, 0.04175824, 0.04285714, 0.04395604,\n",
              "        0.04395604, 0.04505495, 0.04945055, 0.06263736, 0.06703297,\n",
              "        0.07032967, 0.07692308, 0.07912088, 0.08131868, 0.08681319,\n",
              "        0.08901099, 0.09120879, 0.1021978 , 0.10659341, 0.10989011,\n",
              "        0.11098901, 0.11098901, 0.11208791, 0.11428571, 0.11538462,\n",
              "        0.12197802, 0.12527473, 0.12857143, 0.13516484, 0.13516484,\n",
              "        0.13736264, 0.13846154, 0.14505495, 0.14725275, 0.14725275,\n",
              "        0.14835165, 0.14945055, 0.15274725, 0.15384615, 0.15384615,\n",
              "        0.15494505, 0.15714286, 0.16043956, 0.16263736, 0.16703297,\n",
              "        0.16923077, 0.17252747, 0.17252747, 0.17802198, 0.17912088,\n",
              "        0.17912088, 0.18021978, 0.18241758, 0.18461538, 0.18791209,\n",
              "        0.18901099, 0.19230769, 0.19230769, 0.1967033 , 0.1978022 ,\n",
              "        0.1978022 , 0.2       , 0.2032967 , 0.20659341, 0.20659341,\n",
              "        0.20879121, 0.20989011, 0.20989011, 0.21098901, 0.21208791,\n",
              "        0.21208791, 0.21758242, 0.21978022, 0.21978022, 0.22197802,\n",
              "        0.22197802, 0.22747253, 0.22967033, 0.22967033, 0.22967033,\n",
              "        0.22967033, 0.23406593, 0.23406593, 0.23516484, 0.24065934,\n",
              "        0.24725275, 0.24725275, 0.25164835, 0.25494505, 0.25494505,\n",
              "        0.25604396, 0.26263736, 0.26373626, 0.26373626, 0.26593407,\n",
              "        0.26593407, 0.26703297, 0.26703297, 0.26703297, 0.27252747,\n",
              "        0.27252747, 0.27472527, 0.27472527, 0.27582418, 0.27802198,\n",
              "        0.28021978, 0.28021978, 0.28131868, 0.28571429, 0.28571429,\n",
              "        0.28791209, 0.29450549, 0.29450549, 0.2967033 , 0.2967033 ,\n",
              "        0.2978022 , 0.2978022 , 0.3021978 , 0.3032967 , 0.3032967 ,\n",
              "        0.30659341, 0.30769231, 0.31208791, 0.31208791, 0.31318681,\n",
              "        0.31428571, 0.31428571, 0.31538462, 0.31648352, 0.31758242,\n",
              "        0.32087912, 0.32197802, 0.32197802, 0.32417582, 0.32857143,\n",
              "        0.32857143, 0.33076923, 0.33186813, 0.33186813, 0.33296703,\n",
              "        0.33516484, 0.33626374, 0.33626374, 0.33846154, 0.33846154,\n",
              "        0.33956044, 0.33956044, 0.34285714, 0.34505495, 0.34505495,\n",
              "        0.34615385, 0.34615385, 0.34835165, 0.34945055, 0.34945055,\n",
              "        0.35164835, 0.35164835, 0.35604396, 0.35604396, 0.35824176,\n",
              "        0.35824176, 0.35934066, 0.36593407, 0.36703297, 0.36703297,\n",
              "        0.36923077, 0.36923077, 0.36923077, 0.37032967, 0.37142857,\n",
              "        0.37142857, 0.37252747, 0.37252747, 0.37472527, 0.37802198,\n",
              "        0.38021978, 0.38131868, 0.38131868, 0.38351648, 0.38351648,\n",
              "        0.38351648, 0.38571429, 0.38901099, 0.38901099, 0.39120879,\n",
              "        0.39120879, 0.39450549, 0.3967033 , 0.3989011 , 0.3989011 ,\n",
              "        0.3989011 , 0.4       , 0.4       , 0.4010989 , 0.4010989 ,\n",
              "        0.4021978 , 0.4043956 , 0.4043956 , 0.40549451, 0.40549451,\n",
              "        0.40659341, 0.40879121, 0.41098901, 0.41538462, 0.41538462,\n",
              "        0.41758242, 0.42087912, 0.42087912, 0.42527473, 0.42637363,\n",
              "        0.42637363, 0.42747253, 0.42857143, 0.42967033, 0.42967033,\n",
              "        0.43076923, 0.43296703, 0.43296703, 0.43516484, 0.43516484,\n",
              "        0.43736264, 0.43736264, 0.43846154, 0.43846154, 0.44505495,\n",
              "        0.44615385, 0.44615385, 0.44725275, 0.44835165, 0.45274725,\n",
              "        0.45494505, 0.45824176, 0.45824176, 0.46043956, 0.46263736,\n",
              "        0.46263736, 0.46373626, 0.46373626, 0.46593407, 0.46593407,\n",
              "        0.46923077, 0.46923077, 0.46923077, 0.46923077, 0.47362637,\n",
              "        0.47582418, 0.47582418, 0.47692308, 0.47692308, 0.47912088,\n",
              "        0.48351648, 0.48351648, 0.48351648, 0.48901099, 0.48901099,\n",
              "        0.49010989, 0.49010989, 0.4978022 , 0.4978022 , 0.4978022 ,\n",
              "        0.4978022 , 0.5       , 0.5       , 0.5010989 , 0.5010989 ,\n",
              "        0.5043956 , 0.50659341, 0.50659341, 0.50769231, 0.50769231,\n",
              "        0.50879121, 0.50879121, 0.50989011, 0.51208791, 0.51208791,\n",
              "        0.51318681, 0.51538462, 0.51538462, 0.51648352, 0.51758242,\n",
              "        0.51758242, 0.51978022, 0.51978022, 0.52087912, 0.52307692,\n",
              "        0.52307692, 0.52417582, 0.52417582, 0.52527473, 0.52527473,\n",
              "        0.52637363, 0.52857143, 0.52857143, 0.52857143, 0.53186813,\n",
              "        0.53296703, 0.53296703, 0.53406593, 0.53406593, 0.53516484,\n",
              "        0.53516484, 0.53626374, 0.53626374, 0.53626374, 0.53846154,\n",
              "        0.53846154, 0.54505495, 0.54505495, 0.54615385, 0.54615385,\n",
              "        0.54725275, 0.54725275, 0.54835165, 0.55054945, 0.55164835,\n",
              "        0.55164835, 0.55494505, 0.55494505, 0.55824176, 0.55824176,\n",
              "        0.55934066, 0.56043956, 0.56263736, 0.56263736, 0.56263736,\n",
              "        0.56263736, 0.56483516, 0.56923077, 0.56923077, 0.57032967,\n",
              "        0.57032967, 0.57362637, 0.57362637, 0.57472527, 0.58021978,\n",
              "        0.58461538, 0.58461538, 0.58571429, 0.58681319, 0.58681319,\n",
              "        0.58901099, 0.58901099, 0.58901099, 0.59010989, 0.59120879,\n",
              "        0.5967033 , 0.5978022 , 0.5989011 , 0.5989011 , 0.6032967 ,\n",
              "        0.6032967 , 0.60769231, 0.60879121, 0.60879121, 0.60989011,\n",
              "        0.61318681, 0.61318681, 0.61538462, 0.61538462, 0.61648352,\n",
              "        0.62307692, 0.62307692, 0.62527473, 0.62637363, 0.62637363,\n",
              "        0.62747253, 0.62747253, 0.62857143, 0.62857143, 0.63076923,\n",
              "        0.63406593, 0.63406593, 0.63516484, 0.63516484, 0.63736264,\n",
              "        0.63736264, 0.63736264, 0.63736264, 0.63956044, 0.63956044,\n",
              "        0.64065934, 0.64175824, 0.64395604, 0.64615385, 0.64615385,\n",
              "        0.64725275, 0.64725275, 0.64835165, 0.65054945, 0.65054945,\n",
              "        0.65274725, 0.65274725, 0.65824176, 0.65824176, 0.65934066,\n",
              "        0.65934066, 0.66043956, 0.66153846, 0.66153846, 0.66263736,\n",
              "        0.66373626, 0.66373626, 0.66483516, 0.66813187, 0.66813187,\n",
              "        0.66923077, 0.66923077, 0.67142857, 0.67252747, 0.67252747,\n",
              "        0.67472527, 0.67472527, 0.67582418, 0.67582418, 0.67802198,\n",
              "        0.67912088, 0.68241758, 0.68241758, 0.68351648, 0.68351648,\n",
              "        0.68571429, 0.68681319, 0.69010989, 0.69010989, 0.69230769,\n",
              "        0.69230769, 0.69340659, 0.69340659, 0.6978022 , 0.6989011 ,\n",
              "        0.6989011 , 0.7       , 0.7       , 0.7010989 , 0.7010989 ,\n",
              "        0.7021978 , 0.7032967 , 0.7032967 , 0.7043956 , 0.7043956 ,\n",
              "        0.7043956 , 0.70549451, 0.70549451, 0.70659341, 0.70989011,\n",
              "        0.71208791, 0.71428571, 0.71428571, 0.71538462, 0.71538462,\n",
              "        0.71648352, 0.71648352, 0.71758242, 0.71868132, 0.71978022,\n",
              "        0.72087912, 0.72087912, 0.72197802, 0.72197802, 0.72197802,\n",
              "        0.72197802, 0.72747253, 0.72967033, 0.72967033, 0.73076923,\n",
              "        0.73076923, 0.73186813, 0.73406593, 0.73406593, 0.73406593,\n",
              "        0.73516484, 0.73516484, 0.73626374, 0.73736264, 0.73736264,\n",
              "        0.73736264, 0.73846154, 0.73846154, 0.74615385, 0.74725275,\n",
              "        0.74725275, 0.74945055, 0.74945055, 0.75164835, 0.75164835,\n",
              "        0.75274725, 0.75274725, 0.75274725, 0.75384615, 0.75824176,\n",
              "        0.75824176, 0.76043956, 0.76043956, 0.76593407, 0.76593407,\n",
              "        0.76703297, 0.76703297, 0.76813187, 0.77032967, 0.77032967,\n",
              "        0.77142857, 0.77142857, 0.77252747, 0.77362637, 0.77472527,\n",
              "        0.77472527, 0.77802198, 0.77802198, 0.77912088, 0.78021978,\n",
              "        0.78021978, 0.78131868, 0.78351648, 0.78351648, 0.78681319,\n",
              "        0.78681319, 0.78681319, 0.79010989, 0.79010989, 0.79230769,\n",
              "        0.79230769, 0.7967033 , 0.7978022 , 0.7978022 , 0.7989011 ,\n",
              "        0.7989011 , 0.8       , 0.8       , 0.8010989 , 0.8010989 ,\n",
              "        0.8032967 , 0.8043956 , 0.8043956 , 0.80659341, 0.80769231,\n",
              "        0.80769231, 0.80769231, 0.80879121, 0.80879121, 0.80879121,\n",
              "        0.80879121, 0.80879121, 0.80989011, 0.80989011, 0.81208791,\n",
              "        0.81318681, 0.81318681, 0.81318681, 0.81538462, 0.81758242,\n",
              "        0.81758242, 0.81978022, 0.81978022, 0.82857143, 0.82857143,\n",
              "        0.82967033, 0.83076923, 0.83076923, 0.83076923, 0.83076923,\n",
              "        0.83076923, 0.83186813, 0.83186813, 0.83296703, 0.83296703,\n",
              "        0.83406593, 0.83406593, 0.83516484, 0.83626374, 0.84065934,\n",
              "        0.84065934, 0.84175824, 0.84175824, 0.84285714, 0.84285714,\n",
              "        0.84395604, 0.84395604, 0.84505495, 0.85054945, 0.85054945,\n",
              "        0.85164835, 0.85164835, 0.85274725, 0.85274725, 0.85604396,\n",
              "        0.85714286, 0.85714286, 0.85714286, 0.85714286, 0.85824176,\n",
              "        0.85824176, 0.86153846, 0.86153846, 0.86593407, 0.86593407,\n",
              "        0.86593407, 0.86593407, 0.86703297, 0.86813187, 0.86813187,\n",
              "        0.87362637, 0.87362637, 0.87582418, 0.87582418, 0.87692308,\n",
              "        0.87692308, 0.87802198, 0.87802198, 0.87912088, 0.87912088,\n",
              "        0.88461538, 0.88461538, 0.88571429, 0.88571429, 0.88681319,\n",
              "        0.88681319, 0.88791209, 0.88791209, 0.88791209, 0.88901099,\n",
              "        0.88901099, 0.88901099, 0.8956044 , 0.8956044 , 0.8956044 ,\n",
              "        0.8967033 , 0.8967033 , 0.8978022 , 0.8978022 , 0.8989011 ,\n",
              "        0.8989011 , 0.9       , 0.9       , 0.9       , 0.9       ,\n",
              "        0.9021978 , 0.9021978 , 0.9043956 , 0.9043956 , 0.90549451,\n",
              "        0.90549451, 0.90659341, 0.90659341, 0.90769231, 0.90769231,\n",
              "        0.91208791, 0.91208791, 0.91208791, 0.91318681, 0.91428571,\n",
              "        0.91428571, 0.91978022, 0.91978022, 0.92087912, 0.92087912,\n",
              "        0.92087912, 0.92087912, 0.92197802, 0.92197802, 0.92197802,\n",
              "        0.92197802, 0.92197802, 0.92307692, 0.92307692, 0.92747253,\n",
              "        0.92747253, 0.92747253, 0.92747253, 0.92857143, 0.92857143,\n",
              "        0.92967033, 0.92967033, 0.93076923, 0.93076923, 0.95054945,\n",
              "        0.95054945, 0.95274725, 0.95274725, 0.95274725, 0.95384615,\n",
              "        0.95384615, 0.95494505, 0.95494505, 0.95494505, 0.95494505,\n",
              "        0.95494505, 0.95494505, 0.95604396, 0.95714286, 0.95714286,\n",
              "        0.95824176, 0.95824176, 0.95824176, 0.97582418, 0.97582418,\n",
              "        0.97582418, 0.97582418, 0.97582418, 0.97582418, 0.97582418,\n",
              "        0.97802198, 0.97912088, 0.98021978, 0.98021978, 0.98131868,\n",
              "        0.98131868, 0.98131868, 0.98131868, 1.        ]),\n",
              " array([2.00000000e+00, 1.00000000e+00, 9.98000000e-01, 9.97500000e-01,\n",
              "        9.96666667e-01, 9.96000000e-01, 9.95000000e-01, 9.94000000e-01,\n",
              "        9.90000000e-01, 9.86666667e-01, 9.85000000e-01, 9.80000000e-01,\n",
              "        9.79166667e-01, 9.75000000e-01, 9.70000000e-01, 9.68666667e-01,\n",
              "        9.64904762e-01, 9.60000000e-01, 9.58333333e-01, 9.55000000e-01,\n",
              "        9.54166667e-01, 9.50380952e-01, 9.50000000e-01, 9.48333333e-01,\n",
              "        9.46000000e-01, 9.40000000e-01, 9.36666667e-01, 9.30904762e-01,\n",
              "        9.30000000e-01, 9.29166667e-01, 9.23809524e-01, 9.21000000e-01,\n",
              "        9.20000000e-01, 9.18333333e-01, 9.16666667e-01, 9.12500000e-01,\n",
              "        9.12333333e-01, 9.10000000e-01, 9.08500000e-01, 9.06785714e-01,\n",
              "        9.05555556e-01, 9.05000000e-01, 9.01666667e-01, 9.00000000e-01,\n",
              "        8.93333333e-01, 8.92888889e-01, 8.91666667e-01, 8.91214286e-01,\n",
              "        8.90000000e-01, 8.89333333e-01, 8.88333333e-01, 8.87500000e-01,\n",
              "        8.84333333e-01, 8.81250000e-01, 8.80000000e-01, 8.78166667e-01,\n",
              "        8.74404762e-01, 8.72500000e-01, 8.70000000e-01, 8.68690476e-01,\n",
              "        8.67910256e-01, 8.66666667e-01, 8.65000000e-01, 8.61666667e-01,\n",
              "        8.61365079e-01, 8.60000000e-01, 8.56333333e-01, 8.54333333e-01,\n",
              "        8.53333333e-01, 8.50833333e-01, 8.50156926e-01, 8.50000000e-01,\n",
              "        8.48000000e-01, 8.46000000e-01, 8.42333333e-01, 8.41619048e-01,\n",
              "        8.40000000e-01, 8.38059829e-01, 8.35000000e-01, 8.34000000e-01,\n",
              "        8.32712121e-01, 8.30000000e-01, 8.24880952e-01, 8.22500000e-01,\n",
              "        8.20000000e-01, 8.12666667e-01, 8.11500000e-01, 8.10000000e-01,\n",
              "        8.03333333e-01, 8.03333333e-01, 8.01666667e-01, 8.00000000e-01,\n",
              "        7.98333333e-01, 7.96666667e-01, 7.96619048e-01, 7.95000000e-01,\n",
              "        7.94230159e-01, 7.94214286e-01, 7.91833333e-01, 7.90000000e-01,\n",
              "        7.86666667e-01, 7.85833333e-01, 7.83939394e-01, 7.80142857e-01,\n",
              "        7.80000000e-01, 7.73333333e-01, 7.73000000e-01, 7.70765152e-01,\n",
              "        7.70000000e-01, 7.67166667e-01, 7.61666667e-01, 7.60000000e-01,\n",
              "        7.58009740e-01, 7.56666667e-01, 7.56000000e-01, 7.53666667e-01,\n",
              "        7.52333333e-01, 7.50000000e-01, 7.46920635e-01, 7.46681818e-01,\n",
              "        7.43833333e-01, 7.41660145e-01, 7.40000000e-01, 7.36666667e-01,\n",
              "        7.35666667e-01, 7.35000000e-01, 7.32333333e-01, 7.31666667e-01,\n",
              "        7.31595238e-01, 7.30000000e-01, 7.26666667e-01, 7.25000000e-01,\n",
              "        7.25000000e-01, 7.24166667e-01, 7.20000000e-01, 7.18166667e-01,\n",
              "        7.13119048e-01, 7.12500000e-01, 7.12333333e-01, 7.11916667e-01,\n",
              "        7.10000000e-01, 7.06309524e-01, 7.05833333e-01, 7.05000000e-01,\n",
              "        7.04666667e-01, 7.02666667e-01, 7.01000000e-01, 7.00000000e-01,\n",
              "        6.99761905e-01, 6.99000000e-01, 6.96500000e-01, 6.91571429e-01,\n",
              "        6.90000000e-01, 6.89772727e-01, 6.89250000e-01, 6.85642857e-01,\n",
              "        6.85333333e-01, 6.84023810e-01, 6.84000000e-01, 6.82940476e-01,\n",
              "        6.80833333e-01, 6.80500000e-01, 6.80000000e-01, 6.79000000e-01,\n",
              "        6.78553114e-01, 6.76666667e-01, 6.75000000e-01, 6.72500000e-01,\n",
              "        6.70000000e-01, 6.68902930e-01, 6.66666667e-01, 6.64500000e-01,\n",
              "        6.63952381e-01, 6.62836580e-01, 6.60000000e-01, 6.57500000e-01,\n",
              "        6.55761905e-01, 6.54952381e-01, 6.53333333e-01, 6.51273810e-01,\n",
              "        6.50833333e-01, 6.50230159e-01, 6.50000000e-01, 6.46883838e-01,\n",
              "        6.44666667e-01, 6.42666667e-01, 6.40773810e-01, 6.40000000e-01,\n",
              "        6.38738095e-01, 6.32333333e-01, 6.30000000e-01, 6.28309524e-01,\n",
              "        6.27440476e-01, 6.26833333e-01, 6.26238095e-01, 6.24333333e-01,\n",
              "        6.23333333e-01, 6.21153680e-01, 6.20857143e-01, 6.18666667e-01,\n",
              "        6.18429293e-01, 6.16642857e-01, 6.11666667e-01, 6.10000000e-01,\n",
              "        6.08809524e-01, 6.06738095e-01, 6.05000000e-01, 6.03333333e-01,\n",
              "        6.00000000e-01, 5.96666667e-01, 5.96000000e-01, 5.95833333e-01,\n",
              "        5.95051948e-01, 5.95000000e-01, 5.94357143e-01, 5.90833333e-01,\n",
              "        5.90000000e-01, 5.88333333e-01, 5.88000000e-01, 5.86833333e-01,\n",
              "        5.86500000e-01, 5.84000000e-01, 5.83214286e-01, 5.82166667e-01,\n",
              "        5.80000000e-01, 5.79723832e-01, 5.79000000e-01, 5.78333333e-01,\n",
              "        5.78174603e-01, 5.74988095e-01, 5.74576840e-01, 5.70833333e-01,\n",
              "        5.70686508e-01, 5.70000000e-01, 5.68029497e-01, 5.64420161e-01,\n",
              "        5.63833333e-01, 5.61666667e-01, 5.61300931e-01, 5.60659775e-01,\n",
              "        5.60000000e-01, 5.58071429e-01, 5.56666667e-01, 5.51666667e-01,\n",
              "        5.50000000e-01, 5.46797619e-01, 5.44166667e-01, 5.42500000e-01,\n",
              "        5.41821429e-01, 5.40381521e-01, 5.40000000e-01, 5.38500000e-01,\n",
              "        5.38000000e-01, 5.34166667e-01, 5.34000000e-01, 5.33333333e-01,\n",
              "        5.31566461e-01, 5.30000000e-01, 5.29007937e-01, 5.28333333e-01,\n",
              "        5.26166667e-01, 5.25000000e-01, 5.23166667e-01, 5.21880952e-01,\n",
              "        5.20333333e-01, 5.20266955e-01, 5.20000000e-01, 5.18761905e-01,\n",
              "        5.18333333e-01, 5.17666667e-01, 5.15833333e-01, 5.15809524e-01,\n",
              "        5.14833333e-01, 5.14547619e-01, 5.11666667e-01, 5.11500000e-01,\n",
              "        5.10000000e-01, 5.09777778e-01, 5.09452381e-01, 5.07333333e-01,\n",
              "        5.07166667e-01, 5.05000000e-01, 5.04420635e-01, 5.00000000e-01,\n",
              "        4.98785714e-01, 4.97333333e-01, 4.96666667e-01, 4.96388889e-01,\n",
              "        4.96000000e-01, 4.94166667e-01, 4.93333333e-01, 4.91346154e-01,\n",
              "        4.91220779e-01, 4.90000000e-01, 4.90000000e-01, 4.89166667e-01,\n",
              "        4.88309524e-01, 4.87785714e-01, 4.87333333e-01, 4.86666667e-01,\n",
              "        4.86166667e-01, 4.86000000e-01, 4.85222222e-01, 4.85000000e-01,\n",
              "        4.81500000e-01, 4.81261905e-01, 4.80000000e-01, 4.77142857e-01,\n",
              "        4.76380952e-01, 4.74111111e-01, 4.73000000e-01, 4.72774892e-01,\n",
              "        4.70500000e-01, 4.70000000e-01, 4.69500000e-01, 4.65333333e-01,\n",
              "        4.63333333e-01, 4.60333333e-01, 4.60000000e-01, 4.59440476e-01,\n",
              "        4.58535714e-01, 4.58409761e-01, 4.58222222e-01, 4.57238095e-01,\n",
              "        4.56666667e-01, 4.53333333e-01, 4.50318487e-01, 4.50000000e-01,\n",
              "        4.46666667e-01, 4.45833333e-01, 4.45500000e-01, 4.42500000e-01,\n",
              "        4.41166667e-01, 4.41006571e-01, 4.40000000e-01, 4.35952381e-01,\n",
              "        4.33000000e-01, 4.31833333e-01, 4.31333333e-01, 4.30833333e-01,\n",
              "        4.30000000e-01, 4.29357143e-01, 4.25555556e-01, 4.25333333e-01,\n",
              "        4.21599206e-01, 4.20000000e-01, 4.18479591e-01, 4.18333333e-01,\n",
              "        4.15000000e-01, 4.12666667e-01, 4.12500000e-01, 4.10000000e-01,\n",
              "        4.09000000e-01, 4.03481602e-01, 4.02833333e-01, 4.00000000e-01,\n",
              "        3.99000000e-01, 3.95000000e-01, 3.91696609e-01, 3.91666667e-01,\n",
              "        3.90000000e-01, 3.88017553e-01, 3.86190476e-01, 3.85833333e-01,\n",
              "        3.85000000e-01, 3.84761905e-01, 3.82816613e-01, 3.81666667e-01,\n",
              "        3.81166667e-01, 3.80833333e-01, 3.80000000e-01, 3.77023810e-01,\n",
              "        3.75761905e-01, 3.70553391e-01, 3.70000000e-01, 3.68166667e-01,\n",
              "        3.67500000e-01, 3.66666667e-01, 3.65261766e-01, 3.65000000e-01,\n",
              "        3.63714286e-01, 3.62500000e-01, 3.60000000e-01, 3.58333333e-01,\n",
              "        3.56833333e-01, 3.53785714e-01, 3.50761905e-01, 3.50724017e-01,\n",
              "        3.50000000e-01, 3.46571429e-01, 3.45000000e-01, 3.40166667e-01,\n",
              "        3.40000000e-01, 3.38666667e-01, 3.37500000e-01, 3.36972849e-01,\n",
              "        3.36571429e-01, 3.36126623e-01, 3.35000000e-01, 3.34341398e-01,\n",
              "        3.34166667e-01, 3.32821429e-01, 3.31083333e-01, 3.30000000e-01,\n",
              "        3.27666667e-01, 3.27190476e-01, 3.25357143e-01, 3.25046703e-01,\n",
              "        3.25000000e-01, 3.24090188e-01, 3.21666667e-01, 3.21000000e-01,\n",
              "        3.20222222e-01, 3.20191281e-01, 3.20000000e-01, 3.19666667e-01,\n",
              "        3.18750000e-01, 3.17666667e-01, 3.17500000e-01, 3.15000000e-01,\n",
              "        3.12932845e-01, 3.11666667e-01, 3.10000000e-01, 3.09583333e-01,\n",
              "        3.07500000e-01, 3.06758436e-01, 3.06666667e-01, 3.00166667e-01,\n",
              "        3.00000000e-01, 2.99166667e-01, 2.97698413e-01, 2.96166667e-01,\n",
              "        2.92500000e-01, 2.91833333e-01, 2.90894590e-01, 2.90000000e-01,\n",
              "        2.89444444e-01, 2.88500000e-01, 2.86809524e-01, 2.85833333e-01,\n",
              "        2.82634921e-01, 2.82254634e-01, 2.81000000e-01, 2.80698607e-01,\n",
              "        2.80000000e-01, 2.79626984e-01, 2.76666667e-01, 2.75012987e-01,\n",
              "        2.75000000e-01, 2.74444444e-01, 2.73809071e-01, 2.73333333e-01,\n",
              "        2.72035714e-01, 2.71000000e-01, 2.70000000e-01, 2.69547619e-01,\n",
              "        2.66666667e-01, 2.66500000e-01, 2.60909091e-01, 2.60833333e-01,\n",
              "        2.60666667e-01, 2.60000000e-01, 2.58456349e-01, 2.58333333e-01,\n",
              "        2.57500000e-01, 2.55693154e-01, 2.55000000e-01, 2.53500000e-01,\n",
              "        2.52023810e-01, 2.52000000e-01, 2.51666667e-01, 2.50333333e-01,\n",
              "        2.50000000e-01, 2.48333333e-01, 2.47950216e-01, 2.44166667e-01,\n",
              "        2.42666667e-01, 2.40833333e-01, 2.40000000e-01, 2.39849206e-01,\n",
              "        2.39166667e-01, 2.37833333e-01, 2.37095238e-01, 2.35833333e-01,\n",
              "        2.35000000e-01, 2.33265152e-01, 2.32500000e-01, 2.31666667e-01,\n",
              "        2.31666667e-01, 2.30000000e-01, 2.29948413e-01, 2.27500000e-01,\n",
              "        2.20833333e-01, 2.20000000e-01, 2.18333333e-01, 2.17500000e-01,\n",
              "        2.15000000e-01, 2.13607143e-01, 2.10000000e-01, 2.09166667e-01,\n",
              "        2.06738095e-01, 2.04500000e-01, 2.03545388e-01, 2.02714286e-01,\n",
              "        2.02500000e-01, 2.00500000e-01, 2.00000000e-01, 1.96666667e-01,\n",
              "        1.96000000e-01, 1.95000000e-01, 1.94523810e-01, 1.94000000e-01,\n",
              "        1.93333333e-01, 1.90666667e-01, 1.90000000e-01, 1.88333333e-01,\n",
              "        1.87444444e-01, 1.85000000e-01, 1.82000000e-01, 1.81666667e-01,\n",
              "        1.80714286e-01, 1.80000000e-01, 1.78833333e-01, 1.78683374e-01,\n",
              "        1.77500000e-01, 1.76670635e-01, 1.76000000e-01, 1.75750000e-01,\n",
              "        1.73333333e-01, 1.71666667e-01, 1.70952381e-01, 1.70412698e-01,\n",
              "        1.70166667e-01, 1.70000000e-01, 1.69942280e-01, 1.67000000e-01,\n",
              "        1.66666667e-01, 1.66007937e-01, 1.66000000e-01, 1.65860029e-01,\n",
              "        1.63695166e-01, 1.62023810e-01, 1.61583333e-01, 1.61333333e-01,\n",
              "        1.60000000e-01, 1.58854978e-01, 1.57119048e-01, 1.55043512e-01,\n",
              "        1.55000000e-01, 1.54333333e-01, 1.52541486e-01, 1.51666667e-01,\n",
              "        1.51333333e-01, 1.50000000e-01, 1.47500000e-01, 1.47333333e-01,\n",
              "        1.46666667e-01, 1.45831565e-01, 1.45000000e-01, 1.45000000e-01,\n",
              "        1.44866439e-01, 1.44412698e-01, 1.44166667e-01, 1.43976190e-01,\n",
              "        1.43122697e-01, 1.42333333e-01, 1.41833333e-01, 1.41721100e-01,\n",
              "        1.41666667e-01, 1.40000000e-01, 1.39083333e-01, 1.39000000e-01,\n",
              "        1.37663781e-01, 1.36771368e-01, 1.36666667e-01, 1.36666667e-01,\n",
              "        1.34339827e-01, 1.33333333e-01, 1.30000000e-01, 1.25500000e-01,\n",
              "        1.25000000e-01, 1.22166667e-01, 1.21666667e-01, 1.20833333e-01,\n",
              "        1.20000000e-01, 1.19880952e-01, 1.16333333e-01, 1.15000000e-01,\n",
              "        1.14119048e-01, 1.13333333e-01, 1.13333333e-01, 1.12580087e-01,\n",
              "        1.12000000e-01, 1.10000000e-01, 1.05166667e-01, 1.05000000e-01,\n",
              "        1.03071429e-01, 1.02500000e-01, 1.02100948e-01, 1.01666667e-01,\n",
              "        1.00000000e-01, 9.75000000e-02, 9.63333333e-02, 9.58333333e-02,\n",
              "        9.55824176e-02, 9.50000000e-02, 9.33333333e-02, 9.21428571e-02,\n",
              "        9.16666667e-02, 9.05097572e-02, 9.00000000e-02, 8.96428571e-02,\n",
              "        8.94444444e-02, 8.90000000e-02, 8.79761905e-02, 8.75000000e-02,\n",
              "        8.71666667e-02, 8.66666667e-02, 8.60000000e-02, 8.56111111e-02,\n",
              "        8.50000000e-02, 8.05519481e-02, 8.00000000e-02, 7.53253968e-02,\n",
              "        7.50000000e-02, 7.41883117e-02, 7.08333333e-02, 7.00000000e-02,\n",
              "        6.71951659e-02, 6.66666667e-02, 6.63333333e-02, 6.60000000e-02,\n",
              "        6.50000000e-02, 6.40000000e-02, 6.08333333e-02, 6.00000000e-02,\n",
              "        6.00000000e-02, 5.93333333e-02, 5.75000000e-02, 5.73333333e-02,\n",
              "        5.70000000e-02, 5.66666667e-02, 5.25952381e-02, 5.25000000e-02,\n",
              "        5.15384615e-02, 5.00000000e-02, 4.80000000e-02, 4.66666667e-02,\n",
              "        4.50000000e-02, 4.42857143e-02, 4.10000000e-02, 4.00000000e-02,\n",
              "        3.96666667e-02, 3.94020702e-02, 3.61233766e-02, 3.50000000e-02,\n",
              "        3.44893048e-02, 3.41666667e-02, 3.38888889e-02, 3.38571429e-02,\n",
              "        3.33333333e-02, 3.25000000e-02, 3.19047619e-02, 3.01666667e-02,\n",
              "        3.00000000e-02, 2.81666667e-02, 2.81071429e-02, 2.80000000e-02,\n",
              "        2.75000000e-02, 2.50952381e-02, 2.50000000e-02, 2.46666667e-02,\n",
              "        2.33333333e-02, 2.01666667e-02, 2.00000000e-02, 1.99812410e-02,\n",
              "        1.95000000e-02, 1.83333333e-02, 1.76190476e-02, 1.75000000e-02,\n",
              "        1.71904762e-02, 1.66666667e-02, 1.60000000e-02, 1.50000000e-02,\n",
              "        1.41666667e-02, 1.33333333e-02, 1.26666667e-02, 1.25000000e-02,\n",
              "        1.20000000e-02, 1.18181818e-02, 1.16666667e-02, 1.11904762e-02,\n",
              "        1.00833333e-02, 1.00000000e-02, 9.00000000e-03, 8.33333333e-03,\n",
              "        7.85714286e-03, 7.53246753e-03, 7.00000000e-03, 6.66666667e-03,\n",
              "        5.00000000e-03, 4.44444444e-03, 4.28571429e-03, 4.00000000e-03,\n",
              "        3.33333333e-03, 2.50000000e-03, 2.00000000e-03, 1.42857143e-03,\n",
              "        0.00000000e+00]))"
            ]
          },
          "metadata": {
            "tags": []
          },
          "execution_count": 29
        }
      ]
    },
    {
      "cell_type": "code",
      "metadata": {
        "id": "IEo7IGFnh7Ls",
        "colab_type": "code",
        "outputId": "f144bfae-a5f9-45a6-f8f5-6062e0db68a4",
        "colab": {
          "base_uri": "https://localhost:8080/",
          "height": 312
        }
      },
      "source": [
        "plt.scatter(fpr, tpr)\n",
        "plt.plot(fpr, tpr)\n",
        "plt.title('ROC curve')\n",
        "plt.xlabel('False Positive Rate')\n",
        "plt.ylabel('True Positive Rate')"
      ],
      "execution_count": 30,
      "outputs": [
        {
          "output_type": "execute_result",
          "data": {
            "text/plain": [
              "Text(0, 0.5, 'True Positive Rate')"
            ]
          },
          "metadata": {
            "tags": []
          },
          "execution_count": 30
        },
        {
          "output_type": "display_data",
          "data": {
            "image/png": "[encoded data removed]",
            "text/plain": [
              "<Figure size 432x288 with 1 Axes>"
            ]
          },
          "metadata": {
            "tags": []
          }
        }
      ]
    },
    {
      "cell_type": "code",
      "metadata": {
        "id": "5FuYgwD8h7Lv",
        "colab_type": "code",
        "outputId": "c967ea67-4f58-46a8-d1df-c1a71537917a",
        "colab": {
          "base_uri": "https://localhost:8080/",
          "height": 276
        }
      },
      "source": [
        "from sklearn.metrics import plot_confusion_matrix\n",
        "\n",
        "y_pred = pipeline.predict(X_test)\n",
        "plot_confusion_matrix(pipeline, X_test, y_pred, values_format='.0f', xticks_rotation='vertical');"
      ],
      "execution_count": 31,
      "outputs": [
        {
          "output_type": "display_data",
          "data": {
            "image/png": "[encoded data removed]",
            "text/plain": [
              "<Figure size 432x288 with 2 Axes>"
            ]
          },
          "metadata": {
            "tags": []
          }
        }
      ]
    },
    {
      "cell_type": "code",
      "metadata": {
        "id": "7_K938i9h7Ly",
        "colab_type": "code",
        "outputId": "71174a5c-3f77-4373-e2d1-f3e34542060c",
        "colab": {
          "base_uri": "https://localhost:8080/",
          "height": 153
        }
      },
      "source": [
        "transformers = make_pipeline(\n",
        "    OrdinalEncoder() \n",
        ")\n",
        "\n",
        "X_train_transformed = transformers.fit_transform(X_train)\n",
        "X_val_transformed = transformers.transform(X_val)\n",
        "\n",
        "model = RandomForestClassifier(n_estimators=100, random_state=42, n_jobs=-1)\n",
        "model.fit(X_train_transformed, y_train)"
      ],
      "execution_count": 32,
      "outputs": [
        {
          "output_type": "execute_result",
          "data": {
            "text/plain": [
              "RandomForestClassifier(bootstrap=True, ccp_alpha=0.0, class_weight=None,\n",
              "                       criterion='gini', max_depth=None, max_features='auto',\n",
              "                       max_leaf_nodes=None, max_samples=None,\n",
              "                       min_impurity_decrease=0.0, min_impurity_split=None,\n",
              "                       min_samples_leaf=1, min_samples_split=2,\n",
              "                       min_weight_fraction_leaf=0.0, n_estimators=100,\n",
              "                       n_jobs=-1, oob_score=False, random_state=42, verbose=0,\n",
              "                       warm_start=False)"
            ]
          },
          "metadata": {
            "tags": []
          },
          "execution_count": 32
        }
      ]
    },
    {
      "cell_type": "code",
      "metadata": {
        "id": "sKQXZzPFh7L2",
        "colab_type": "code",
        "outputId": "593f0428-5ff3-4d11-be42-4fedf801c833",
        "colab": {
          "base_uri": "https://localhost:8080/",
          "height": 374
        }
      },
      "source": [
        "permuter = PermutationImportance(\n",
        "    model,\n",
        "    scoring='roc_auc',\n",
        "    n_iter=5,\n",
        "    random_state=42\n",
        ")\n",
        "\n",
        "permuter.fit(X_val_transformed, y_val)"
      ],
      "execution_count": 33,
      "outputs": [
        {
          "output_type": "execute_result",
          "data": {
            "text/plain": [
              "PermutationImportance(cv='prefit',\n",
              "                      estimator=RandomForestClassifier(bootstrap=True,\n",
              "                                                       ccp_alpha=0.0,\n",
              "                                                       class_weight=None,\n",
              "                                                       criterion='gini',\n",
              "                                                       max_depth=None,\n",
              "                                                       max_features='auto',\n",
              "                                                       max_leaf_nodes=None,\n",
              "                                                       max_samples=None,\n",
              "                                                       min_impurity_decrease=0.0,\n",
              "                                                       min_impurity_split=None,\n",
              "                                                       min_samples_leaf=1,\n",
              "                                                       min_samples_split=2,\n",
              "                                                       min_weight_fraction_leaf=0.0,\n",
              "                                                       n_estimators=100,\n",
              "                                                       n_jobs=-1,\n",
              "                                                       oob_score=False,\n",
              "                                                       random_state=42,\n",
              "                                                       verbose=0,\n",
              "                                                       warm_start=False),\n",
              "                      n_iter=5, random_state=42, refit=True, scoring='roc_auc')"
            ]
          },
          "metadata": {
            "tags": []
          },
          "execution_count": 33
        }
      ]
    },
    {
      "cell_type": "code",
      "metadata": {
        "id": "af_zVXlih7L5",
        "colab_type": "code",
        "outputId": "31e0223b-ec34-4ceb-c16a-3b32b2c22b11",
        "colab": {
          "base_uri": "https://localhost:8080/",
          "height": 204
        }
      },
      "source": [
        "feature_names = X_val.columns.tolist()\n",
        "pd.Series(permuter.feature_importances_, feature_names).sort_values()"
      ],
      "execution_count": 34,
      "outputs": [
        {
          "output_type": "execute_result",
          "data": {
            "text/plain": [
              "education        -0.014025\n",
              "race             -0.003611\n",
              "workclass        -0.003192\n",
              "sex               0.000452\n",
              "hours_per_week    0.001342\n",
              "occupation        0.008448\n",
              "relationship      0.025167\n",
              "marital_status    0.031050\n",
              "education_num     0.033431\n",
              "age               0.041921\n",
              "dtype: float64"
            ]
          },
          "metadata": {
            "tags": []
          },
          "execution_count": 34
        }
      ]
    },
    {
      "cell_type": "code",
      "metadata": {
        "id": "MCnkHAGkh7L9",
        "colab_type": "code",
        "outputId": "92f32385-d351-46e0-bb07-704ba758b8b8",
        "colab": {
          "base_uri": "https://localhost:8080/",
          "height": 204
        }
      },
      "source": [
        "eli5.show_weights(\n",
        "    permuter,\n",
        "    top=None,\n",
        "    feature_names=feature_names\n",
        ")"
      ],
      "execution_count": 35,
      "outputs": [
        {
          "output_type": "execute_result",
          "data": {
            "text/html": [
              "\n",
              "    <style>\n",
              "    table.eli5-weights tr:hover {\n",
              "        filter: brightness(85%);\n",
              "    }\n",
              "</style>\n",
              "\n",
              "\n",
              "\n",
              "    \n",
              "\n",
              "    \n",
              "\n",
              "    \n",
              "\n",
              "    \n",
              "\n",
              "    \n",
              "\n",
              "    \n",
              "\n",
              "\n",
              "    \n",
              "\n",
              "    \n",
              "\n",
              "    \n",
              "\n",
              "    \n",
              "\n",
              "    \n",
              "\n",
              "    \n",
              "\n",
              "\n",
              "    \n",
              "\n",
              "    \n",
              "\n",
              "    \n",
              "\n",
              "    \n",
              "\n",
              "    \n",
              "        <table class=\"eli5-weights eli5-feature-importances\" style=\"border-collapse: collapse; border: none; margin-top: 0em; table-layout: auto;\">\n",
              "    <thead>\n",
              "    <tr style=\"border: none;\">\n",
              "        <th style=\"padding: 0 1em 0 0.5em; text-align: right; border: none;\">Weight</th>\n",
              "        <th style=\"padding: 0 0.5em 0 0.5em; text-align: left; border: none;\">Feature</th>\n",
              "    </tr>\n",
              "    </thead>\n",
              "    <tbody>\n",
              "    \n",
              "        <tr style=\"background-color: hsl(120, 100.00%, 80.00%); border: none;\">\n",
              "            <td style=\"padding: 0 1em 0 0.5em; text-align: right; border: none;\">\n",
              "                0.0419\n",
              "                \n",
              "                    &plusmn; 0.0106\n",
              "                \n",
              "            </td>\n",
              "            <td style=\"padding: 0 0.5em 0 0.5em; text-align: left; border: none;\">\n",
              "                age\n",
              "            </td>\n",
              "        </tr>\n",
              "    \n",
              "        <tr style=\"background-color: hsl(120, 100.00%, 82.93%); border: none;\">\n",
              "            <td style=\"padding: 0 1em 0 0.5em; text-align: right; border: none;\">\n",
              "                0.0334\n",
              "                \n",
              "                    &plusmn; 0.0079\n",
              "                \n",
              "            </td>\n",
              "            <td style=\"padding: 0 0.5em 0 0.5em; text-align: left; border: none;\">\n",
              "                education_num\n",
              "            </td>\n",
              "        </tr>\n",
              "    \n",
              "        <tr style=\"background-color: hsl(120, 100.00%, 83.79%); border: none;\">\n",
              "            <td style=\"padding: 0 1em 0 0.5em; text-align: right; border: none;\">\n",
              "                0.0310\n",
              "                \n",
              "                    &plusmn; 0.0037\n",
              "                \n",
              "            </td>\n",
              "            <td style=\"padding: 0 0.5em 0 0.5em; text-align: left; border: none;\">\n",
              "                marital_status\n",
              "            </td>\n",
              "        </tr>\n",
              "    \n",
              "        <tr style=\"background-color: hsl(120, 100.00%, 86.01%); border: none;\">\n",
              "            <td style=\"padding: 0 1em 0 0.5em; text-align: right; border: none;\">\n",
              "                0.0252\n",
              "                \n",
              "                    &plusmn; 0.0123\n",
              "                \n",
              "            </td>\n",
              "            <td style=\"padding: 0 0.5em 0 0.5em; text-align: left; border: none;\">\n",
              "                relationship\n",
              "            </td>\n",
              "        </tr>\n",
              "    \n",
              "        <tr style=\"background-color: hsl(120, 100.00%, 93.48%); border: none;\">\n",
              "            <td style=\"padding: 0 1em 0 0.5em; text-align: right; border: none;\">\n",
              "                0.0084\n",
              "                \n",
              "                    &plusmn; 0.0059\n",
              "                \n",
              "            </td>\n",
              "            <td style=\"padding: 0 0.5em 0 0.5em; text-align: left; border: none;\">\n",
              "                occupation\n",
              "            </td>\n",
              "        </tr>\n",
              "    \n",
              "        <tr style=\"background-color: hsl(120, 100.00%, 98.20%); border: none;\">\n",
              "            <td style=\"padding: 0 1em 0 0.5em; text-align: right; border: none;\">\n",
              "                0.0013\n",
              "                \n",
              "                    &plusmn; 0.0042\n",
              "                \n",
              "            </td>\n",
              "            <td style=\"padding: 0 0.5em 0 0.5em; text-align: left; border: none;\">\n",
              "                hours_per_week\n",
              "            </td>\n",
              "        </tr>\n",
              "    \n",
              "        <tr style=\"background-color: hsl(120, 100.00%, 99.16%); border: none;\">\n",
              "            <td style=\"padding: 0 1em 0 0.5em; text-align: right; border: none;\">\n",
              "                0.0005\n",
              "                \n",
              "                    &plusmn; 0.0031\n",
              "                \n",
              "            </td>\n",
              "            <td style=\"padding: 0 0.5em 0 0.5em; text-align: left; border: none;\">\n",
              "                sex\n",
              "            </td>\n",
              "        </tr>\n",
              "    \n",
              "        <tr style=\"background-color: hsl(0, 100.00%, 96.70%); border: none;\">\n",
              "            <td style=\"padding: 0 1em 0 0.5em; text-align: right; border: none;\">\n",
              "                -0.0032\n",
              "                \n",
              "                    &plusmn; 0.0045\n",
              "                \n",
              "            </td>\n",
              "            <td style=\"padding: 0 0.5em 0 0.5em; text-align: left; border: none;\">\n",
              "                workclass\n",
              "            </td>\n",
              "        </tr>\n",
              "    \n",
              "        <tr style=\"background-color: hsl(0, 100.00%, 96.40%); border: none;\">\n",
              "            <td style=\"padding: 0 1em 0 0.5em; text-align: right; border: none;\">\n",
              "                -0.0036\n",
              "                \n",
              "                    &plusmn; 0.0028\n",
              "                \n",
              "            </td>\n",
              "            <td style=\"padding: 0 0.5em 0 0.5em; text-align: left; border: none;\">\n",
              "                race\n",
              "            </td>\n",
              "        </tr>\n",
              "    \n",
              "        <tr style=\"background-color: hsl(0, 100.00%, 90.71%); border: none;\">\n",
              "            <td style=\"padding: 0 1em 0 0.5em; text-align: right; border: none;\">\n",
              "                -0.0140\n",
              "                \n",
              "                    &plusmn; 0.0033\n",
              "                \n",
              "            </td>\n",
              "            <td style=\"padding: 0 0.5em 0 0.5em; text-align: left; border: none;\">\n",
              "                education\n",
              "            </td>\n",
              "        </tr>\n",
              "    \n",
              "    \n",
              "    </tbody>\n",
              "</table>\n",
              "    \n",
              "\n",
              "    \n",
              "\n",
              "\n",
              "    \n",
              "\n",
              "    \n",
              "\n",
              "    \n",
              "\n",
              "    \n",
              "\n",
              "    \n",
              "\n",
              "    \n",
              "\n",
              "\n",
              "\n"
            ],
            "text/plain": [
              "<IPython.core.display.HTML object>"
            ]
          },
          "metadata": {
            "tags": []
          },
          "execution_count": 35
        }
      ]
    },
    {
      "cell_type": "code",
      "metadata": {
        "id": "BhK50UPRh7MB",
        "colab_type": "code",
        "colab": {}
      },
      "source": [
        "minimum_importance = 0\n",
        "mask = permuter.feature_importances_ > minimum_importance\n",
        "\n",
        "features = X_train.columns[mask]\n",
        "X_train = X_train[features]"
      ],
      "execution_count": 0,
      "outputs": []
    },
    {
      "cell_type": "code",
      "metadata": {
        "id": "jUvV10SSh7ME",
        "colab_type": "code",
        "outputId": "19bbb2a6-0cdd-4d3f-9043-c631dda07a3d",
        "colab": {
          "base_uri": "https://localhost:8080/",
          "height": 309
        }
      },
      "source": [
        "!pip install category_encoders\n",
        "import category_encoders as ce\n",
        "\n",
        "X_val = X_val[features]\n",
        "\n",
        "pipeline = make_pipeline(\n",
        "    ce.OrdinalEncoder(), \n",
        "    RandomForestClassifier(n_estimators=100, random_state=42, n_jobs=-1)\n",
        ")\n",
        "\n",
        "# Fit on train, score on val\n",
        "pipeline.fit(X_train, y_train)\n",
        "print('Validation Accuracy', pipeline.score(X_val, y_val))"
      ],
      "execution_count": 37,
      "outputs": [
        {
          "output_type": "stream",
          "text": [
            "Collecting category_encoders\n",
            "\u001b[?25l  Downloading https://files.pythonhosted.org/packages/a0/52/c54191ad3782de633ea3d6ee3bb2837bda0cf3bc97644bb6375cf14150a0/category_encoders-2.1.0-py2.py3-none-any.whl (100kB)\n",
            "\r\u001b[K     |███▎                            | 10kB 18.8MB/s eta 0:00:01\r\u001b[K     |██████▌                         | 20kB 2.2MB/s eta 0:00:01\r\u001b[K     |█████████▉                      | 30kB 3.2MB/s eta 0:00:01\r\u001b[K     |█████████████                   | 40kB 2.1MB/s eta 0:00:01\r\u001b[K     |████████████████▍               | 51kB 2.6MB/s eta 0:00:01\r\u001b[K     |███████████████████▋            | 61kB 3.1MB/s eta 0:00:01\r\u001b[K     |██████████████████████▉         | 71kB 3.6MB/s eta 0:00:01\r\u001b[K     |██████████████████████████▏     | 81kB 4.1MB/s eta 0:00:01\r\u001b[K     |█████████████████████████████▍  | 92kB 4.6MB/s eta 0:00:01\r\u001b[K     |████████████████████████████████| 102kB 2.9MB/s \n",
            "\u001b[?25hRequirement already satisfied: statsmodels>=0.6.1 in /usr/local/lib/python3.6/dist-packages (from category_encoders) (0.10.2)\n",
            "Requirement already satisfied: pandas>=0.21.1 in /usr/local/lib/python3.6/dist-packages (from category_encoders) (0.25.3)\n",
            "Requirement already satisfied: patsy>=0.4.1 in /usr/local/lib/python3.6/dist-packages (from category_encoders) (0.5.1)\n",
            "Requirement already satisfied: scikit-learn>=0.20.0 in /usr/local/lib/python3.6/dist-packages (from category_encoders) (0.22.2.post1)\n",
            "Requirement already satisfied: numpy>=1.11.3 in /usr/local/lib/python3.6/dist-packages (from category_encoders) (1.18.2)\n",
            "Requirement already satisfied: scipy>=0.19.0 in /usr/local/lib/python3.6/dist-packages (from category_encoders) (1.4.1)\n",
            "Requirement already satisfied: python-dateutil>=2.6.1 in /usr/local/lib/python3.6/dist-packages (from pandas>=0.21.1->category_encoders) (2.8.1)\n",
            "Requirement already satisfied: pytz>=2017.2 in /usr/local/lib/python3.6/dist-packages (from pandas>=0.21.1->category_encoders) (2018.9)\n",
            "Requirement already satisfied: six in /usr/local/lib/python3.6/dist-packages (from patsy>=0.4.1->category_encoders) (1.12.0)\n",
            "Requirement already satisfied: joblib>=0.11 in /usr/local/lib/python3.6/dist-packages (from scikit-learn>=0.20.0->category_encoders) (0.14.1)\n",
            "Installing collected packages: category-encoders\n",
            "Successfully installed category-encoders-2.1.0\n",
            "Validation Accuracy 0.7948647156267256\n"
          ],
          "name": "stdout"
        }
      ]
    },
    {
      "cell_type": "code",
      "metadata": {
        "id": "8osmFD4Zh7MI",
        "colab_type": "code",
        "outputId": "2ce6d455-c5fb-472a-b75f-12abb3bcf1f3",
        "colab": {
          "base_uri": "https://localhost:8080/",
          "height": 68
        }
      },
      "source": [
        "features"
      ],
      "execution_count": 38,
      "outputs": [
        {
          "output_type": "execute_result",
          "data": {
            "text/plain": [
              "Index(['age', 'education_num', 'marital_status', 'occupation', 'relationship',\n",
              "       'sex', 'hours_per_week'],\n",
              "      dtype='object')"
            ]
          },
          "metadata": {
            "tags": []
          },
          "execution_count": 38
        }
      ]
    },
    {
      "cell_type": "code",
      "metadata": {
        "id": "1PGg3cA9h7MK",
        "colab_type": "code",
        "outputId": "1c2f6973-c524-4efe-a4dc-a11fad292104",
        "colab": {
          "base_uri": "https://localhost:8080/",
          "height": 445
        }
      },
      "source": [
        "plt.rcParams['figure.dpi'] = 72\n",
        "!pip install pdpbox\n",
        "from pdpbox.pdp import pdp_isolate, pdp_plot\n",
        "\n",
        "feature = 'hours_per_week'\n",
        "\n",
        "isolated = pdp_isolate(\n",
        "    model=pipeline,\n",
        "    dataset=X_val,\n",
        "    model_features=X_val.columns,\n",
        "    num_grid_points=50,\n",
        "    feature=feature\n",
        ")"
      ],
      "execution_count": 39,
      "outputs": [
        {
          "output_type": "stream",
          "text": [
            "Collecting pdpbox\n",
            "\u001b[?25l  Downloading https://files.pythonhosted.org/packages/87/23/ac7da5ba1c6c03a87c412e7e7b6e91a10d6ecf4474906c3e736f93940d49/PDPbox-0.2.0.tar.gz (57.7MB)\n",
            "\u001b[K     |████████████████████████████████| 57.7MB 59kB/s \n",
            "\u001b[?25hRequirement already satisfied: pandas in /usr/local/lib/python3.6/dist-packages (from pdpbox) (0.25.3)\n",
            "Requirement already satisfied: numpy in /usr/local/lib/python3.6/dist-packages (from pdpbox) (1.18.2)\n",
            "Requirement already satisfied: scipy in /usr/local/lib/python3.6/dist-packages (from pdpbox) (1.4.1)\n",
            "Requirement already satisfied: matplotlib>=2.1.2 in /usr/local/lib/python3.6/dist-packages (from pdpbox) (3.2.1)\n",
            "Requirement already satisfied: joblib in /usr/local/lib/python3.6/dist-packages (from pdpbox) (0.14.1)\n",
            "Requirement already satisfied: psutil in /usr/local/lib/python3.6/dist-packages (from pdpbox) (5.4.8)\n",
            "Requirement already satisfied: scikit-learn in /usr/local/lib/python3.6/dist-packages (from pdpbox) (0.22.2.post1)\n",
            "Requirement already satisfied: python-dateutil>=2.6.1 in /usr/local/lib/python3.6/dist-packages (from pandas->pdpbox) (2.8.1)\n",
            "Requirement already satisfied: pytz>=2017.2 in /usr/local/lib/python3.6/dist-packages (from pandas->pdpbox) (2018.9)\n",
            "Requirement already satisfied: pyparsing!=2.0.4,!=2.1.2,!=2.1.6,>=2.0.1 in /usr/local/lib/python3.6/dist-packages (from matplotlib>=2.1.2->pdpbox) (2.4.6)\n",
            "Requirement already satisfied: cycler>=0.10 in /usr/local/lib/python3.6/dist-packages (from matplotlib>=2.1.2->pdpbox) (0.10.0)\n",
            "Requirement already satisfied: kiwisolver>=1.0.1 in /usr/local/lib/python3.6/dist-packages (from matplotlib>=2.1.2->pdpbox) (1.1.0)\n",
            "Requirement already satisfied: six>=1.5 in /usr/local/lib/python3.6/dist-packages (from python-dateutil>=2.6.1->pandas->pdpbox) (1.12.0)\n",
            "Requirement already satisfied: setuptools in /usr/local/lib/python3.6/dist-packages (from kiwisolver>=1.0.1->matplotlib>=2.1.2->pdpbox) (46.0.0)\n",
            "Building wheels for collected packages: pdpbox\n",
            "  Building wheel for pdpbox (setup.py) ... \u001b[?25l\u001b[?25hdone\n",
            "  Created wheel for pdpbox: filename=PDPbox-0.2.0-cp36-none-any.whl size=57690722 sha256=ad4c7fe737e30ba4bf8ac4bf7b044e9dc836b872af8d55d9ad43343823527b3f\n",
            "  Stored in directory: /root/.cache/pip/wheels/7d/08/51/63fd122b04a2c87d780464eeffb94867c75bd96a64d500a3fe\n",
            "Successfully built pdpbox\n",
            "Installing collected packages: pdpbox\n",
            "Successfully installed pdpbox-0.2.0\n"
          ],
          "name": "stdout"
        }
      ]
    },
    {
      "cell_type": "code",
      "metadata": {
        "id": "xTx9YVaOh7MP",
        "colab_type": "code",
        "outputId": "8c6efa0f-8122-42d0-d8f6-c86e129ef895",
        "colab": {
          "base_uri": "https://localhost:8080/",
          "height": 595
        }
      },
      "source": [
        "pdp_plot(isolated, feature_name=feature);"
      ],
      "execution_count": 44,
      "outputs": [
        {
          "output_type": "stream",
          "text": [
            "ERROR! Session/line number was not unique in database. History logging moved to new session 59\n"
          ],
          "name": "stdout"
        },
        {
          "output_type": "display_data",
          "data": {
            "image/png": "[encoded data removed]",
            "text/plain": [
              "<Figure size 1080x684 with 2 Axes>"
            ]
          },
          "metadata": {
            "tags": []
          }
        }
      ]
    },
    {
      "cell_type": "code",
      "metadata": {
        "id": "YBoq6bWGh7MS",
        "colab_type": "code",
        "colab": {}
      },
      "source": [
        "feature = 'age'\n",
        "\n",
        "isolated = pdp_isolate(\n",
        "    model=pipeline,\n",
        "    dataset=X_val,\n",
        "    model_features=X_val.columns,\n",
        "    num_grid_points=50,\n",
        "    feature=feature\n",
        ")"
      ],
      "execution_count": 0,
      "outputs": []
    },
    {
      "cell_type": "code",
      "metadata": {
        "id": "XP9H7EySh7MV",
        "colab_type": "code",
        "outputId": "145572f8-150a-4b28-8a29-64061f628022",
        "colab": {
          "base_uri": "https://localhost:8080/",
          "height": 578
        }
      },
      "source": [
        "pdp_plot(isolated, feature_name=feature);"
      ],
      "execution_count": 45,
      "outputs": [
        {
          "output_type": "display_data",
          "data": {
            "image/png": "[encoded data removed]",
            "text/plain": [
              "<Figure size 1080x684 with 2 Axes>"
            ]
          },
          "metadata": {
            "tags": []
          }
        }
      ]
    },
    {
      "cell_type": "code",
      "metadata": {
        "id": "cmurS3Ych7MZ",
        "colab_type": "code",
        "outputId": "57f08ca5-0a88-4a8a-a14b-613f2ec87819",
        "colab": {
          "base_uri": "https://localhost:8080/",
          "height": 598
        }
      },
      "source": [
        "from pdpbox.pdp import pdp_interact, pdp_interact_plot\n",
        "\n",
        "features = ['age', 'hours_per_week']\n",
        "\n",
        "interaction = pdp_interact(\n",
        "    model=pipeline,\n",
        "    dataset=X_val,\n",
        "    model_features=X_val.columns,\n",
        "    features=features\n",
        ")\n",
        "\n",
        "# pdp_interact_plot(interaction, plot_type='grid', feature_names=features);\n",
        "pdp_interact_plot(interaction, plot_type='grid', feature_names=features);"
      ],
      "execution_count": 47,
      "outputs": [
        {
          "output_type": "stream",
          "text": [
            "findfont: Font family ['Arial'] not found. Falling back to DejaVu Sans.\n"
          ],
          "name": "stderr"
        },
        {
          "output_type": "display_data",
          "data": {
            "image/png": "[encoded data removed]",
            "text/plain": [
              "<Figure size 540x684 with 3 Axes>"
            ]
          },
          "metadata": {
            "tags": []
          }
        }
      ]
    },
    {
      "cell_type": "code",
      "metadata": {
        "id": "_O-7OjKo7eJE",
        "colab_type": "code",
        "colab": {
          "base_uri": "https://localhost:8080/",
          "height": 360
        },
        "outputId": "2c5f7028-908f-4a44-a48d-e7c67b0a2b66"
      },
      "source": [
        "!pip install shap\n",
        "import shap\n"
      ],
      "execution_count": 54,
      "outputs": [
        {
          "output_type": "stream",
          "text": [
            "Collecting shap\n",
            "\u001b[?25l  Downloading https://files.pythonhosted.org/packages/a8/77/b504e43e21a2ba543a1ac4696718beb500cfa708af2fb57cb54ce299045c/shap-0.35.0.tar.gz (273kB)\n",
            "\r\u001b[K     |█▏                              | 10kB 18.0MB/s eta 0:00:01\r\u001b[K     |██▍                             | 20kB 2.1MB/s eta 0:00:01\r\u001b[K     |███▋                            | 30kB 2.8MB/s eta 0:00:01\r\u001b[K     |████▉                           | 40kB 2.0MB/s eta 0:00:01\r\u001b[K     |██████                          | 51kB 2.3MB/s eta 0:00:01\r\u001b[K     |███████▏                        | 61kB 2.7MB/s eta 0:00:01\r\u001b[K     |████████▍                       | 71kB 3.0MB/s eta 0:00:01\r\u001b[K     |█████████▋                      | 81kB 3.2MB/s eta 0:00:01\r\u001b[K     |██████████▉                     | 92kB 3.6MB/s eta 0:00:01\r\u001b[K     |████████████                    | 102kB 3.4MB/s eta 0:00:01\r\u001b[K     |█████████████▏                  | 112kB 3.4MB/s eta 0:00:01\r\u001b[K     |██████████████▍                 | 122kB 3.4MB/s eta 0:00:01\r\u001b[K     |███████████████▋                | 133kB 3.4MB/s eta 0:00:01\r\u001b[K     |████████████████▉               | 143kB 3.4MB/s eta 0:00:01\r\u001b[K     |██████████████████              | 153kB 3.4MB/s eta 0:00:01\r\u001b[K     |███████████████████▏            | 163kB 3.4MB/s eta 0:00:01\r\u001b[K     |████████████████████▍           | 174kB 3.4MB/s eta 0:00:01\r\u001b[K     |█████████████████████▋          | 184kB 3.4MB/s eta 0:00:01\r\u001b[K     |██████████████████████▉         | 194kB 3.4MB/s eta 0:00:01\r\u001b[K     |████████████████████████        | 204kB 3.4MB/s eta 0:00:01\r\u001b[K     |█████████████████████████▏      | 215kB 3.4MB/s eta 0:00:01\r\u001b[K     |██████████████████████████▍     | 225kB 3.4MB/s eta 0:00:01\r\u001b[K     |███████████████████████████▋    | 235kB 3.4MB/s eta 0:00:01\r\u001b[K     |████████████████████████████▉   | 245kB 3.4MB/s eta 0:00:01\r\u001b[K     |██████████████████████████████  | 256kB 3.4MB/s eta 0:00:01\r\u001b[K     |███████████████████████████████▏| 266kB 3.4MB/s eta 0:00:01\r\u001b[K     |████████████████████████████████| 276kB 3.4MB/s \n",
            "\u001b[?25hRequirement already satisfied: numpy in /usr/local/lib/python3.6/dist-packages (from shap) (1.18.2)\n",
            "Requirement already satisfied: scipy in /usr/local/lib/python3.6/dist-packages (from shap) (1.4.1)\n",
            "Requirement already satisfied: scikit-learn in /usr/local/lib/python3.6/dist-packages (from shap) (0.22.2.post1)\n",
            "Requirement already satisfied: pandas in /usr/local/lib/python3.6/dist-packages (from shap) (0.25.3)\n",
            "Requirement already satisfied: tqdm>4.25.0 in /usr/local/lib/python3.6/dist-packages (from shap) (4.38.0)\n",
            "Requirement already satisfied: joblib>=0.11 in /usr/local/lib/python3.6/dist-packages (from scikit-learn->shap) (0.14.1)\n",
            "Requirement already satisfied: python-dateutil>=2.6.1 in /usr/local/lib/python3.6/dist-packages (from pandas->shap) (2.8.1)\n",
            "Requirement already satisfied: pytz>=2017.2 in /usr/local/lib/python3.6/dist-packages (from pandas->shap) (2018.9)\n",
            "Requirement already satisfied: six>=1.5 in /usr/local/lib/python3.6/dist-packages (from python-dateutil>=2.6.1->pandas->shap) (1.12.0)\n",
            "Building wheels for collected packages: shap\n",
            "  Building wheel for shap (setup.py) ... \u001b[?25l\u001b[?25hdone\n",
            "  Created wheel for shap: filename=shap-0.35.0-cp36-cp36m-linux_x86_64.whl size=394108 sha256=10b463719459589dcf9e2d6cf41447edd127ba0e6678d09ee17e2f8ea4fa4d7d\n",
            "  Stored in directory: /root/.cache/pip/wheels/e7/f7/0f/b57055080cf8894906b3bd3616d2fc2bfd0b12d5161bcb24ac\n",
            "Successfully built shap\n",
            "Installing collected packages: shap\n",
            "Successfully installed shap-0.35.0\n"
          ],
          "name": "stdout"
        }
      ]
    },
    {
      "cell_type": "code",
      "metadata": {
        "id": "e0frcL248Isx",
        "colab_type": "code",
        "colab": {}
      },
      "source": [
        ""
      ],
      "execution_count": 0,
      "outputs": []
    }
  ]
}