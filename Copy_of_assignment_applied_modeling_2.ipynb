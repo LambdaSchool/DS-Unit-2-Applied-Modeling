{
  "nbformat": 4,
  "nbformat_minor": 0,
  "metadata": {
    "colab": {
      "name": "Copy of assignment_applied_modeling_2.ipynb",
      "provenance": [],
      "collapsed_sections": [],
      "include_colab_link": true
    },
    "kernelspec": {
      "display_name": "Python 3",
      "language": "python",
      "name": "python3"
    },
    "language_info": {
      "codemirror_mode": {
        "name": "ipython",
        "version": 3
      },
      "file_extension": ".py",
      "mimetype": "text/x-python",
      "name": "python",
      "nbconvert_exporter": "python",
      "pygments_lexer": "ipython3",
      "version": "3.7.3"
    }
  },
  "cells": [
    {
      "cell_type": "markdown",
      "metadata": {
        "id": "view-in-github",
        "colab_type": "text"
      },
      "source": [
        "<a href=\"https://colab.research.google.com/github/KhaSab5292/DS-Unit-2-Applied-Modeling/blob/master/Copy_of_assignment_applied_modeling_2.ipynb\" target=\"_parent\"><img src=\"https://colab.research.google.com/assets/colab-badge.svg\" alt=\"Open In Colab\"/></a>"
      ]
    },
    {
      "cell_type": "markdown",
      "metadata": {
        "colab_type": "text",
        "id": "nCc3XZEyG3XV"
      },
      "source": [
        "Lambda School Data Science\n",
        "\n",
        "*Unit 2, Sprint 3, Module 2*\n",
        "\n",
        "---\n",
        "\n",
        "\n",
        "# Permutation & Boosting\n",
        "\n",
        "You will use your portfolio project dataset for all assignments this sprint.\n",
        "\n",
        "## Assignment\n",
        "\n",
        "Complete these tasks for your project, and document your work.\n",
        "\n",
        "- [ ] If you haven't completed assignment #1, please do so first.\n",
        "- [ ] Continue to clean and explore your data. Make exploratory visualizations.\n",
        "- [ ] Fit a model. Does it beat your baseline? \n",
        "- [ ] Try xgboost.\n",
        "- [ ] Get your model's permutation importances.\n",
        "\n",
        "You should try to complete an initial model today, because the rest of the week, we're making model interpretation visualizations.\n",
        "\n",
        "But, if you aren't ready to try xgboost and permutation importances with your dataset today, that's okay. You can practice with another dataset instead. You may choose any dataset you've worked with previously.\n",
        "\n",
        "The data subdirectory includes the Titanic dataset for classification and the NYC apartments dataset for regression. You may want to choose one of these datasets, because example solutions will be available for each.\n",
        "\n",
        "\n",
        "## Reading\n",
        "\n",
        "Top recommendations in _**bold italic:**_\n",
        "\n",
        "#### Permutation Importances\n",
        "- _**[Kaggle / Dan Becker: Machine Learning Explainability](https://www.kaggle.com/dansbecker/permutation-importance)**_\n",
        "- [Christoph Molnar: Interpretable Machine Learning](https://christophm.github.io/interpretable-ml-book/feature-importance.html)\n",
        "\n",
        "#### (Default) Feature Importances\n",
        "  - [Ando Saabas: Selecting good features, Part 3, Random Forests](https://blog.datadive.net/selecting-good-features-part-iii-random-forests/)\n",
        "  - [Terence Parr, et al: Beware Default Random Forest Importances](https://explained.ai/rf-importance/index.html)\n",
        "\n",
        "#### Gradient Boosting\n",
        "  - [A Gentle Introduction to the Gradient Boosting Algorithm for Machine Learning](https://machinelearningmastery.com/gentle-introduction-gradient-boosting-algorithm-machine-learning/)\n",
        "  - _**[A Kaggle Master Explains Gradient Boosting](http://blog.kaggle.com/2017/01/23/a-kaggle-master-explains-gradient-boosting/)**_\n",
        "  - [_An Introduction to Statistical Learning_](http://www-bcf.usc.edu/~gareth/ISL/ISLR%20Seventh%20Printing.pdf) Chapter 8\n",
        "  - [Gradient Boosting Explained](http://arogozhnikov.github.io/2016/06/24/gradient_boosting_explained.html)\n",
        "  - _**[Boosting](https://www.youtube.com/watch?v=GM3CDQfQ4sw) (2.5 minute video)**_"
      ]
    },
    {
      "cell_type": "code",
      "metadata": {
        "id": "220CiOdfA2b0",
        "colab_type": "code",
        "outputId": "b6a0c9c8-dce9-456e-c862-b5bfc26cbab0",
        "colab": {
          "base_uri": "https://localhost:8080/",
          "height": 34
        }
      },
      "source": [
        "from google.colab import drive\n",
        "drive.mount('/content/drive')"
      ],
      "execution_count": 1,
      "outputs": [
        {
          "output_type": "stream",
          "text": [
            "Drive already mounted at /content/drive; to attempt to forcibly remount, call drive.mount(\"/content/drive\", force_remount=True).\n"
          ],
          "name": "stdout"
        }
      ]
    },
    {
      "cell_type": "code",
      "metadata": {
        "id": "HxTOtKilgwID",
        "colab_type": "code",
        "colab": {}
      },
      "source": [
        "%%capture\n",
        "import pandas as pd\n",
        "import numpy as np\n",
        "import matplotlib.pyplot as plt\n",
        "\n",
        "\n",
        "DATA_PATH = '/content/drive/My Drive/Lambda/Unit 2 DS9/Unit 2 Build/Police_Department_Incidents_-_Previous_Year__2016_.csv'\n",
        "!pip install category_encoders==2.*"
      ],
      "execution_count": 0,
      "outputs": []
    },
    {
      "cell_type": "code",
      "metadata": {
        "id": "30fUkMUj4er5",
        "colab_type": "code",
        "outputId": "da9e4b24-e4b7-4671-d87b-5d7b92b8cdff",
        "colab": {
          "base_uri": "https://localhost:8080/",
          "height": 496
        }
      },
      "source": [
        "df = pd.read_csv(DATA_PATH)\n",
        "print(df.shape)\n",
        "df.head()"
      ],
      "execution_count": 3,
      "outputs": [
        {
          "output_type": "stream",
          "text": [
            "(150500, 13)\n"
          ],
          "name": "stdout"
        },
        {
          "output_type": "execute_result",
          "data": {
            "text/html": [
              "<div>\n",
              "<style scoped>\n",
              "    .dataframe tbody tr th:only-of-type {\n",
              "        vertical-align: middle;\n",
              "    }\n",
              "\n",
              "    .dataframe tbody tr th {\n",
              "        vertical-align: top;\n",
              "    }\n",
              "\n",
              "    .dataframe thead th {\n",
              "        text-align: right;\n",
              "    }\n",
              "</style>\n",
              "<table border=\"1\" class=\"dataframe\">\n",
              "  <thead>\n",
              "    <tr style=\"text-align: right;\">\n",
              "      <th></th>\n",
              "      <th>IncidntNum</th>\n",
              "      <th>Category</th>\n",
              "      <th>Descript</th>\n",
              "      <th>DayOfWeek</th>\n",
              "      <th>Date</th>\n",
              "      <th>Time</th>\n",
              "      <th>PdDistrict</th>\n",
              "      <th>Resolution</th>\n",
              "      <th>Address</th>\n",
              "      <th>X</th>\n",
              "      <th>Y</th>\n",
              "      <th>Location</th>\n",
              "      <th>PdId</th>\n",
              "    </tr>\n",
              "  </thead>\n",
              "  <tbody>\n",
              "    <tr>\n",
              "      <th>0</th>\n",
              "      <td>120058272</td>\n",
              "      <td>WEAPON LAWS</td>\n",
              "      <td>POSS OF PROHIBITED WEAPON</td>\n",
              "      <td>Friday</td>\n",
              "      <td>01/29/2016 12:00:00 AM</td>\n",
              "      <td>11:00</td>\n",
              "      <td>SOUTHERN</td>\n",
              "      <td>ARREST, BOOKED</td>\n",
              "      <td>800 Block of BRYANT ST</td>\n",
              "      <td>-122.403405</td>\n",
              "      <td>37.775421</td>\n",
              "      <td>(37.775420706711, -122.403404791479)</td>\n",
              "      <td>12005827212120</td>\n",
              "    </tr>\n",
              "    <tr>\n",
              "      <th>1</th>\n",
              "      <td>120058272</td>\n",
              "      <td>WEAPON LAWS</td>\n",
              "      <td>FIREARM, LOADED, IN VEHICLE, POSSESSION OR USE</td>\n",
              "      <td>Friday</td>\n",
              "      <td>01/29/2016 12:00:00 AM</td>\n",
              "      <td>11:00</td>\n",
              "      <td>SOUTHERN</td>\n",
              "      <td>ARREST, BOOKED</td>\n",
              "      <td>800 Block of BRYANT ST</td>\n",
              "      <td>-122.403405</td>\n",
              "      <td>37.775421</td>\n",
              "      <td>(37.775420706711, -122.403404791479)</td>\n",
              "      <td>12005827212168</td>\n",
              "    </tr>\n",
              "    <tr>\n",
              "      <th>2</th>\n",
              "      <td>141059263</td>\n",
              "      <td>WARRANTS</td>\n",
              "      <td>WARRANT ARREST</td>\n",
              "      <td>Monday</td>\n",
              "      <td>04/25/2016 12:00:00 AM</td>\n",
              "      <td>14:59</td>\n",
              "      <td>BAYVIEW</td>\n",
              "      <td>ARREST, BOOKED</td>\n",
              "      <td>KEITH ST / SHAFTER AV</td>\n",
              "      <td>-122.388856</td>\n",
              "      <td>37.729981</td>\n",
              "      <td>(37.7299809672996, -122.388856204292)</td>\n",
              "      <td>14105926363010</td>\n",
              "    </tr>\n",
              "    <tr>\n",
              "      <th>3</th>\n",
              "      <td>160013662</td>\n",
              "      <td>NON-CRIMINAL</td>\n",
              "      <td>LOST PROPERTY</td>\n",
              "      <td>Tuesday</td>\n",
              "      <td>01/05/2016 12:00:00 AM</td>\n",
              "      <td>23:50</td>\n",
              "      <td>TENDERLOIN</td>\n",
              "      <td>NONE</td>\n",
              "      <td>JONES ST / OFARRELL ST</td>\n",
              "      <td>-122.412971</td>\n",
              "      <td>37.785788</td>\n",
              "      <td>(37.7857883766888, -122.412970537591)</td>\n",
              "      <td>16001366271000</td>\n",
              "    </tr>\n",
              "    <tr>\n",
              "      <th>4</th>\n",
              "      <td>160002740</td>\n",
              "      <td>NON-CRIMINAL</td>\n",
              "      <td>LOST PROPERTY</td>\n",
              "      <td>Friday</td>\n",
              "      <td>01/01/2016 12:00:00 AM</td>\n",
              "      <td>00:30</td>\n",
              "      <td>MISSION</td>\n",
              "      <td>NONE</td>\n",
              "      <td>16TH ST / MISSION ST</td>\n",
              "      <td>-122.419672</td>\n",
              "      <td>37.765050</td>\n",
              "      <td>(37.7650501214668, -122.419671780296)</td>\n",
              "      <td>16000274071000</td>\n",
              "    </tr>\n",
              "  </tbody>\n",
              "</table>\n",
              "</div>"
            ],
            "text/plain": [
              "   IncidntNum  ...            PdId\n",
              "0   120058272  ...  12005827212120\n",
              "1   120058272  ...  12005827212168\n",
              "2   141059263  ...  14105926363010\n",
              "3   160013662  ...  16001366271000\n",
              "4   160002740  ...  16000274071000\n",
              "\n",
              "[5 rows x 13 columns]"
            ]
          },
          "metadata": {
            "tags": []
          },
          "execution_count": 3
        }
      ]
    },
    {
      "cell_type": "markdown",
      "metadata": {
        "id": "DLPDodHa3-6V",
        "colab_type": "text"
      },
      "source": [
        "# **Continue to clean and explore your data. Make exploratory visualizations.**"
      ]
    },
    {
      "cell_type": "code",
      "metadata": {
        "id": "ottU5ER-BSqg",
        "colab_type": "code",
        "outputId": "677b88d1-c54e-411a-8b1d-80fadf536af3",
        "colab": {
          "base_uri": "https://localhost:8080/",
          "height": 297
        }
      },
      "source": [
        "df.describe()"
      ],
      "execution_count": 4,
      "outputs": [
        {
          "output_type": "execute_result",
          "data": {
            "text/html": [
              "<div>\n",
              "<style scoped>\n",
              "    .dataframe tbody tr th:only-of-type {\n",
              "        vertical-align: middle;\n",
              "    }\n",
              "\n",
              "    .dataframe tbody tr th {\n",
              "        vertical-align: top;\n",
              "    }\n",
              "\n",
              "    .dataframe thead th {\n",
              "        text-align: right;\n",
              "    }\n",
              "</style>\n",
              "<table border=\"1\" class=\"dataframe\">\n",
              "  <thead>\n",
              "    <tr style=\"text-align: right;\">\n",
              "      <th></th>\n",
              "      <th>IncidntNum</th>\n",
              "      <th>X</th>\n",
              "      <th>Y</th>\n",
              "      <th>PdId</th>\n",
              "    </tr>\n",
              "  </thead>\n",
              "  <tbody>\n",
              "    <tr>\n",
              "      <th>count</th>\n",
              "      <td>1.505000e+05</td>\n",
              "      <td>150500.000000</td>\n",
              "      <td>150500.000000</td>\n",
              "      <td>1.505000e+05</td>\n",
              "    </tr>\n",
              "    <tr>\n",
              "      <th>mean</th>\n",
              "      <td>1.616440e+08</td>\n",
              "      <td>-122.423599</td>\n",
              "      <td>37.768921</td>\n",
              "      <td>1.616440e+13</td>\n",
              "    </tr>\n",
              "    <tr>\n",
              "      <th>std</th>\n",
              "      <td>5.535976e+06</td>\n",
              "      <td>0.026210</td>\n",
              "      <td>0.023637</td>\n",
              "      <td>5.535976e+11</td>\n",
              "    </tr>\n",
              "    <tr>\n",
              "      <th>min</th>\n",
              "      <td>1.135121e+07</td>\n",
              "      <td>-122.513642</td>\n",
              "      <td>37.707922</td>\n",
              "      <td>1.135121e+12</td>\n",
              "    </tr>\n",
              "    <tr>\n",
              "      <th>25%</th>\n",
              "      <td>1.603283e+08</td>\n",
              "      <td>-122.434036</td>\n",
              "      <td>37.756486</td>\n",
              "      <td>1.603283e+13</td>\n",
              "    </tr>\n",
              "    <tr>\n",
              "      <th>50%</th>\n",
              "      <td>1.606541e+08</td>\n",
              "      <td>-122.416903</td>\n",
              "      <td>37.775421</td>\n",
              "      <td>1.606541e+13</td>\n",
              "    </tr>\n",
              "    <tr>\n",
              "      <th>75%</th>\n",
              "      <td>1.609764e+08</td>\n",
              "      <td>-122.406605</td>\n",
              "      <td>37.785063</td>\n",
              "      <td>1.609764e+13</td>\n",
              "    </tr>\n",
              "    <tr>\n",
              "      <th>max</th>\n",
              "      <td>9.910090e+08</td>\n",
              "      <td>-122.365565</td>\n",
              "      <td>37.819975</td>\n",
              "      <td>9.910090e+13</td>\n",
              "    </tr>\n",
              "  </tbody>\n",
              "</table>\n",
              "</div>"
            ],
            "text/plain": [
              "         IncidntNum              X              Y          PdId\n",
              "count  1.505000e+05  150500.000000  150500.000000  1.505000e+05\n",
              "mean   1.616440e+08    -122.423599      37.768921  1.616440e+13\n",
              "std    5.535976e+06       0.026210       0.023637  5.535976e+11\n",
              "min    1.135121e+07    -122.513642      37.707922  1.135121e+12\n",
              "25%    1.603283e+08    -122.434036      37.756486  1.603283e+13\n",
              "50%    1.606541e+08    -122.416903      37.775421  1.606541e+13\n",
              "75%    1.609764e+08    -122.406605      37.785063  1.609764e+13\n",
              "max    9.910090e+08    -122.365565      37.819975  9.910090e+13"
            ]
          },
          "metadata": {
            "tags": []
          },
          "execution_count": 4
        }
      ]
    },
    {
      "cell_type": "code",
      "metadata": {
        "id": "x6PnxtDYBbgh",
        "colab_type": "code",
        "outputId": "b51713ca-6bda-43ea-e042-02f6c2a51bf8",
        "colab": {
          "base_uri": "https://localhost:8080/",
          "height": 190
        }
      },
      "source": [
        "df.describe(exclude = 'number')"
      ],
      "execution_count": 5,
      "outputs": [
        {
          "output_type": "execute_result",
          "data": {
            "text/html": [
              "<div>\n",
              "<style scoped>\n",
              "    .dataframe tbody tr th:only-of-type {\n",
              "        vertical-align: middle;\n",
              "    }\n",
              "\n",
              "    .dataframe tbody tr th {\n",
              "        vertical-align: top;\n",
              "    }\n",
              "\n",
              "    .dataframe thead th {\n",
              "        text-align: right;\n",
              "    }\n",
              "</style>\n",
              "<table border=\"1\" class=\"dataframe\">\n",
              "  <thead>\n",
              "    <tr style=\"text-align: right;\">\n",
              "      <th></th>\n",
              "      <th>Category</th>\n",
              "      <th>Descript</th>\n",
              "      <th>DayOfWeek</th>\n",
              "      <th>Date</th>\n",
              "      <th>Time</th>\n",
              "      <th>PdDistrict</th>\n",
              "      <th>Resolution</th>\n",
              "      <th>Address</th>\n",
              "      <th>Location</th>\n",
              "    </tr>\n",
              "  </thead>\n",
              "  <tbody>\n",
              "    <tr>\n",
              "      <th>count</th>\n",
              "      <td>150500</td>\n",
              "      <td>150500</td>\n",
              "      <td>150500</td>\n",
              "      <td>150500</td>\n",
              "      <td>150500</td>\n",
              "      <td>150499</td>\n",
              "      <td>150500</td>\n",
              "      <td>150500</td>\n",
              "      <td>150500</td>\n",
              "    </tr>\n",
              "    <tr>\n",
              "      <th>unique</th>\n",
              "      <td>39</td>\n",
              "      <td>726</td>\n",
              "      <td>7</td>\n",
              "      <td>366</td>\n",
              "      <td>1439</td>\n",
              "      <td>10</td>\n",
              "      <td>14</td>\n",
              "      <td>16130</td>\n",
              "      <td>19386</td>\n",
              "    </tr>\n",
              "    <tr>\n",
              "      <th>top</th>\n",
              "      <td>LARCENY/THEFT</td>\n",
              "      <td>GRAND THEFT FROM LOCKED AUTO</td>\n",
              "      <td>Friday</td>\n",
              "      <td>01/01/2016 12:00:00 AM</td>\n",
              "      <td>12:00</td>\n",
              "      <td>SOUTHERN</td>\n",
              "      <td>NONE</td>\n",
              "      <td>800 Block of BRYANT ST</td>\n",
              "      <td>(37.775420706711, -122.403404791479)</td>\n",
              "    </tr>\n",
              "    <tr>\n",
              "      <th>freq</th>\n",
              "      <td>40409</td>\n",
              "      <td>17741</td>\n",
              "      <td>23371</td>\n",
              "      <td>558</td>\n",
              "      <td>3842</td>\n",
              "      <td>28445</td>\n",
              "      <td>107780</td>\n",
              "      <td>3561</td>\n",
              "      <td>3536</td>\n",
              "    </tr>\n",
              "  </tbody>\n",
              "</table>\n",
              "</div>"
            ],
            "text/plain": [
              "             Category  ...                              Location\n",
              "count          150500  ...                                150500\n",
              "unique             39  ...                                 19386\n",
              "top     LARCENY/THEFT  ...  (37.775420706711, -122.403404791479)\n",
              "freq            40409  ...                                  3536\n",
              "\n",
              "[4 rows x 9 columns]"
            ]
          },
          "metadata": {
            "tags": []
          },
          "execution_count": 5
        }
      ]
    },
    {
      "cell_type": "code",
      "metadata": {
        "id": "gC4eHZ-gBwJJ",
        "colab_type": "code",
        "colab": {}
      },
      "source": [
        "exluded_columns = ['IncidntNum', 'Descript', 'Date', 'Time', 'PdId', 'Address', 'Location']"
      ],
      "execution_count": 0,
      "outputs": []
    },
    {
      "cell_type": "code",
      "metadata": {
        "id": "TrouT4NfSgIg",
        "colab_type": "code",
        "outputId": "d443b169-bfd4-4aed-9297-498e3b58c0ab",
        "colab": {
          "base_uri": "https://localhost:8080/",
          "height": 272
        }
      },
      "source": [
        "df['Resolution'].value_counts()"
      ],
      "execution_count": 7,
      "outputs": [
        {
          "output_type": "execute_result",
          "data": {
            "text/plain": [
              "NONE                                      107780\n",
              "ARREST, BOOKED                             39416\n",
              "UNFOUNDED                                   1608\n",
              "JUVENILE BOOKED                             1056\n",
              "EXCEPTIONAL CLEARANCE                        371\n",
              "ARREST, CITED                                144\n",
              "CLEARED-CONTACT JUVENILE FOR MORE INFO        58\n",
              "NOT PROSECUTED                                22\n",
              "LOCATED                                       20\n",
              "PSYCHOPATHIC CASE                             17\n",
              "JUVENILE CITED                                 3\n",
              "JUVENILE DIVERTED                              2\n",
              "COMPLAINANT REFUSES TO PROSECUTE               2\n",
              "PROSECUTED BY OUTSIDE AGENCY                   1\n",
              "Name: Resolution, dtype: int64"
            ]
          },
          "metadata": {
            "tags": []
          },
          "execution_count": 7
        }
      ]
    },
    {
      "cell_type": "code",
      "metadata": {
        "id": "WFgw1igOUtTD",
        "colab_type": "code",
        "outputId": "b14a3b97-2b27-4bc9-d69d-eed9b82c5568",
        "colab": {
          "base_uri": "https://localhost:8080/",
          "height": 697
        }
      },
      "source": [
        "df['Category'].value_counts()\n",
        "#df['PdDistrict'].value_counts()"
      ],
      "execution_count": 8,
      "outputs": [
        {
          "output_type": "execute_result",
          "data": {
            "text/plain": [
              "LARCENY/THEFT                  40409\n",
              "OTHER OFFENSES                 19599\n",
              "NON-CRIMINAL                   17866\n",
              "ASSAULT                        13577\n",
              "VANDALISM                       8589\n",
              "VEHICLE THEFT                   6419\n",
              "WARRANTS                        5914\n",
              "BURGLARY                        5802\n",
              "SUSPICIOUS OCC                  5782\n",
              "MISSING PERSON                  4338\n",
              "DRUG/NARCOTIC                   4243\n",
              "ROBBERY                         3299\n",
              "FRAUD                           2635\n",
              "SECONDARY CODES                 1841\n",
              "TRESPASS                        1812\n",
              "WEAPON LAWS                     1658\n",
              "SEX OFFENSES, FORCIBLE           940\n",
              "STOLEN PROPERTY                  882\n",
              "RECOVERED VEHICLE                736\n",
              "DISORDERLY CONDUCT               658\n",
              "PROSTITUTION                     641\n",
              "FORGERY/COUNTERFEITING           619\n",
              "DRUNKENNESS                      465\n",
              "DRIVING UNDER THE INFLUENCE      378\n",
              "ARSON                            286\n",
              "KIDNAPPING                       257\n",
              "EMBEZZLEMENT                     168\n",
              "LIQUOR LAWS                      156\n",
              "RUNAWAY                          140\n",
              "SUICIDE                           69\n",
              "BRIBERY                           66\n",
              "EXTORTION                         60\n",
              "FAMILY OFFENSES                   53\n",
              "LOITERING                         42\n",
              "SEX OFFENSES, NON FORCIBLE        40\n",
              "BAD CHECKS                        34\n",
              "GAMBLING                          20\n",
              "PORNOGRAPHY/OBSCENE MAT            4\n",
              "TREA                               3\n",
              "Name: Category, dtype: int64"
            ]
          },
          "metadata": {
            "tags": []
          },
          "execution_count": 8
        }
      ]
    },
    {
      "cell_type": "code",
      "metadata": {
        "id": "g4_BggELTh6k",
        "colab_type": "code",
        "colab": {}
      },
      "source": [
        "def clean(X):\n",
        "  X = X.copy()\n",
        "  X = X.drop(columns = exluded_columns)\n",
        "  \n",
        "  X['Resolution'] = X['Resolution'].replace(['ARREST, BOOKED', 'ARREST, CITED'], \n",
        "                                            'ARRESTED')\n",
        "  X['Resolution'] = X['Resolution'].replace(['JUVENILE BOOKED', 'JUVENILE CITED', 'JUVENILE CITED', 'JUVENILE DIVERTED'], \n",
        "                                            'JUVENILE')\n",
        "  X['Resolution'] = X['Resolution'].replace('COMPLAINANT REFUSES TO PROSECUTE', 'NOT PROSECUTED')\n",
        "  X['Resolution'] = X['Resolution'].replace(['CLEARED-CONTACT JUVENILE FOR MORE INFO', 'EXCEPTIONAL CLEARANCE'],\n",
        "                                            'CLEARED')\n",
        "  \n",
        "  X['Category'] = X['Category'].replace(['SEX OFFENSES, NON FORCIBLE', 'SEX OFFENSES, FORCIBLE'], \n",
        "                                        'SEX OFFENSES')\n",
        "  X['Category'] = X['Category'].replace(['LARCENY/THEFT', 'ROBBERY', 'BURGLARY', 'STOLEN PROPERTY'], \n",
        "                                        'THEFT')\n",
        "  X['Category'] = X['Category'].replace('FORGERY/COUNTERFEITING', 'FRAUD')\n",
        "\n",
        "  return X"
      ],
      "execution_count": 0,
      "outputs": []
    },
    {
      "cell_type": "code",
      "metadata": {
        "id": "X7Jo82fxVj5r",
        "colab_type": "code",
        "outputId": "251cd64e-7f95-4dab-bcb0-94eab81d7632",
        "colab": {
          "base_uri": "https://localhost:8080/",
          "height": 612
        }
      },
      "source": [
        "dfclean = clean(df)\n",
        "dfclean['Category'].value_counts()"
      ],
      "execution_count": 10,
      "outputs": [
        {
          "output_type": "execute_result",
          "data": {
            "text/plain": [
              "THEFT                          50392\n",
              "OTHER OFFENSES                 19599\n",
              "NON-CRIMINAL                   17866\n",
              "ASSAULT                        13577\n",
              "VANDALISM                       8589\n",
              "VEHICLE THEFT                   6419\n",
              "WARRANTS                        5914\n",
              "SUSPICIOUS OCC                  5782\n",
              "MISSING PERSON                  4338\n",
              "DRUG/NARCOTIC                   4243\n",
              "FRAUD                           3254\n",
              "SECONDARY CODES                 1841\n",
              "TRESPASS                        1812\n",
              "WEAPON LAWS                     1658\n",
              "SEX OFFENSES                     980\n",
              "RECOVERED VEHICLE                736\n",
              "DISORDERLY CONDUCT               658\n",
              "PROSTITUTION                     641\n",
              "DRUNKENNESS                      465\n",
              "DRIVING UNDER THE INFLUENCE      378\n",
              "ARSON                            286\n",
              "KIDNAPPING                       257\n",
              "EMBEZZLEMENT                     168\n",
              "LIQUOR LAWS                      156\n",
              "RUNAWAY                          140\n",
              "SUICIDE                           69\n",
              "BRIBERY                           66\n",
              "EXTORTION                         60\n",
              "FAMILY OFFENSES                   53\n",
              "LOITERING                         42\n",
              "BAD CHECKS                        34\n",
              "GAMBLING                          20\n",
              "PORNOGRAPHY/OBSCENE MAT            4\n",
              "TREA                               3\n",
              "Name: Category, dtype: int64"
            ]
          },
          "metadata": {
            "tags": []
          },
          "execution_count": 10
        }
      ]
    },
    {
      "cell_type": "markdown",
      "metadata": {
        "id": "Jw_5k0ie4C9a",
        "colab_type": "text"
      },
      "source": [
        "# **Fit a model. Does it beat your baseline?**"
      ]
    },
    {
      "cell_type": "code",
      "metadata": {
        "id": "AtqUkPD3CspC",
        "colab_type": "code",
        "outputId": "7921e747-2749-4bba-9b29-5e5dd94029aa",
        "colab": {
          "base_uri": "https://localhost:8080/",
          "height": 187
        }
      },
      "source": [
        "dfclean['Resolution'].value_counts(normalize = True)"
      ],
      "execution_count": 11,
      "outputs": [
        {
          "output_type": "execute_result",
          "data": {
            "text/plain": [
              "NONE                            0.716146\n",
              "ARRESTED                        0.262857\n",
              "UNFOUNDED                       0.010684\n",
              "JUVENILE                        0.007050\n",
              "CLEARED                         0.002850\n",
              "NOT PROSECUTED                  0.000159\n",
              "LOCATED                         0.000133\n",
              "PSYCHOPATHIC CASE               0.000113\n",
              "PROSECUTED BY OUTSIDE AGENCY    0.000007\n",
              "Name: Resolution, dtype: float64"
            ]
          },
          "metadata": {
            "tags": []
          },
          "execution_count": 11
        }
      ]
    },
    {
      "cell_type": "code",
      "metadata": {
        "id": "47DOFAfVxt-y",
        "colab_type": "code",
        "outputId": "a8e3d3fd-055c-492a-f7db-c27f8df9bad9",
        "colab": {
          "base_uri": "https://localhost:8080/",
          "height": 105
        }
      },
      "source": [
        "from sklearn.metrics import accuracy_score, f1_score, classification_report\n",
        "\n",
        "target = 'Resolution'\n",
        "guess = dfclean[target].mode()\n",
        "y_pred = [guess] * len(dfclean)\n",
        "base_auc = accuracy_score(dfclean[target], y_pred)\n",
        "base_f1 = f1_score(dfclean[target], y_pred, average = 'weighted')\n",
        "print('Baseline accuracy score:', base_auc)\n",
        "print('Baseline f1 score:', base_f1)"
      ],
      "execution_count": 27,
      "outputs": [
        {
          "output_type": "stream",
          "text": [
            "Baseline accuracy score: 0.7161461794019933\n",
            "Baseline f1 score: 0.597694248226319\n"
          ],
          "name": "stdout"
        },
        {
          "output_type": "stream",
          "text": [
            "/usr/local/lib/python3.6/dist-packages/sklearn/metrics/classification.py:1437: UndefinedMetricWarning: F-score is ill-defined and being set to 0.0 in labels with no predicted samples.\n",
            "  'precision', 'predicted', average, warn_for)\n"
          ],
          "name": "stderr"
        }
      ]
    },
    {
      "cell_type": "code",
      "metadata": {
        "id": "ROQpl32iTLQ7",
        "colab_type": "code",
        "outputId": "b087a229-a478-48ee-a73f-273a7c7ab8de",
        "colab": {
          "base_uri": "https://localhost:8080/",
          "height": 343
        }
      },
      "source": [
        "print(classification_report(dfclean[target], y_pred))"
      ],
      "execution_count": 28,
      "outputs": [
        {
          "output_type": "stream",
          "text": [
            "/usr/local/lib/python3.6/dist-packages/sklearn/metrics/classification.py:1437: UndefinedMetricWarning: Precision and F-score are ill-defined and being set to 0.0 in labels with no predicted samples.\n",
            "  'precision', 'predicted', average, warn_for)\n"
          ],
          "name": "stderr"
        },
        {
          "output_type": "stream",
          "text": [
            "                              precision    recall  f1-score   support\n",
            "\n",
            "                    ARRESTED       0.00      0.00      0.00     39560\n",
            "                     CLEARED       0.00      0.00      0.00       429\n",
            "                    JUVENILE       0.00      0.00      0.00      1061\n",
            "                     LOCATED       0.00      0.00      0.00        20\n",
            "                        NONE       0.72      1.00      0.83    107780\n",
            "              NOT PROSECUTED       0.00      0.00      0.00        24\n",
            "PROSECUTED BY OUTSIDE AGENCY       0.00      0.00      0.00         1\n",
            "           PSYCHOPATHIC CASE       0.00      0.00      0.00        17\n",
            "                   UNFOUNDED       0.00      0.00      0.00      1608\n",
            "\n",
            "                    accuracy                           0.72    150500\n",
            "                   macro avg       0.08      0.11      0.09    150500\n",
            "                weighted avg       0.51      0.72      0.60    150500\n",
            "\n"
          ],
          "name": "stdout"
        }
      ]
    },
    {
      "cell_type": "code",
      "metadata": {
        "id": "FXRgHSQVCK3K",
        "colab_type": "code",
        "outputId": "cdf8f9bc-ff5b-425d-d746-cb2fb04c8ac7",
        "colab": {
          "base_uri": "https://localhost:8080/",
          "height": 34
        }
      },
      "source": [
        "from sklearn.model_selection import train_test_split\n",
        "\n",
        "train, test = train_test_split(dfclean, train_size = 0.8, test_size = 0.2,  \n",
        "                               random_state = 42)\n",
        "\n",
        "dfclean.shape, train.shape, test.shape"
      ],
      "execution_count": 16,
      "outputs": [
        {
          "output_type": "execute_result",
          "data": {
            "text/plain": [
              "((150500, 6), (120400, 6), (30100, 6))"
            ]
          },
          "metadata": {
            "tags": []
          },
          "execution_count": 16
        }
      ]
    },
    {
      "cell_type": "code",
      "metadata": {
        "id": "WPWPlTYkp5gd",
        "colab_type": "code",
        "outputId": "90c46c36-e2ad-4bb0-8d1f-816acfd8eac6",
        "colab": {
          "base_uri": "https://localhost:8080/",
          "height": 34
        }
      },
      "source": [
        "train, val = train_test_split(train, train_size = 0.75, test_size = 0.25,  \n",
        "                               random_state = 42)\n",
        "\n",
        "train.shape, val.shape, test.shape"
      ],
      "execution_count": 17,
      "outputs": [
        {
          "output_type": "execute_result",
          "data": {
            "text/plain": [
              "((90300, 6), (30100, 6), (30100, 6))"
            ]
          },
          "metadata": {
            "tags": []
          },
          "execution_count": 17
        }
      ]
    },
    {
      "cell_type": "code",
      "metadata": {
        "id": "v_yDcDqF4dlm",
        "colab_type": "code",
        "colab": {}
      },
      "source": [
        "# Arrange data into X features matrix and y target vector\n",
        "target = 'Resolution'\n",
        "X_train = train.drop(columns = target)\n",
        "y_train = train[target]\n",
        "X_val = val.drop(columns = target)\n",
        "y_val = val[target]"
      ],
      "execution_count": 0,
      "outputs": []
    },
    {
      "cell_type": "code",
      "metadata": {
        "id": "j5b0snNhr0X9",
        "colab_type": "code",
        "outputId": "f95f4fdb-711e-4d7b-bd55-abcab5f91ba1",
        "colab": {
          "base_uri": "https://localhost:8080/",
          "height": 34
        }
      },
      "source": [
        "import category_encoders as ce\n",
        "from sklearn.impute import SimpleImputer\n",
        "from sklearn.ensemble import RandomForestClassifier\n",
        "from sklearn.pipeline import make_pipeline\n",
        "\n",
        "pipeline = make_pipeline(\n",
        "    ce.OrdinalEncoder(), \n",
        "    SimpleImputer(strategy = 'median'), \n",
        "    RandomForestClassifier(n_estimators = 100, random_state = 42, n_jobs = -1)\n",
        ")\n",
        "\n",
        "# Fit on train\n",
        "pipeline.fit(X_train, y_train)\n",
        "# score on val\n",
        "print('Validation Accuracy', pipeline.score(X_val, y_val))"
      ],
      "execution_count": 35,
      "outputs": [
        {
          "output_type": "stream",
          "text": [
            "Validation Accuracy 0.8323588039867109\n"
          ],
          "name": "stdout"
        }
      ]
    },
    {
      "cell_type": "code",
      "metadata": {
        "id": "a3N9XJfhsqMX",
        "colab_type": "code",
        "outputId": "aa4df401-d9a5-4a99-a082-d259c85f5ee0",
        "colab": {
          "base_uri": "https://localhost:8080/",
          "height": 88
        }
      },
      "source": [
        "# f1 score on val\n",
        "y_pred = pipeline.predict(X_val)\n",
        "val_f1 = f1_score(y_val, y_pred, average = 'weighted')\n",
        "print('Validation f1 score:', val_f1)\n"
      ],
      "execution_count": 36,
      "outputs": [
        {
          "output_type": "stream",
          "text": [
            "Validation f1 score: 0.8257955915983274\n"
          ],
          "name": "stdout"
        },
        {
          "output_type": "stream",
          "text": [
            "/usr/local/lib/python3.6/dist-packages/sklearn/metrics/classification.py:1437: UndefinedMetricWarning: F-score is ill-defined and being set to 0.0 in labels with no predicted samples.\n",
            "  'precision', 'predicted', average, warn_for)\n"
          ],
          "name": "stderr"
        }
      ]
    },
    {
      "cell_type": "code",
      "metadata": {
        "id": "HtCkYWb4TgQi",
        "colab_type": "code",
        "outputId": "6c90216b-be06-4f2b-f566-834832153133",
        "colab": {
          "base_uri": "https://localhost:8080/",
          "height": 326
        }
      },
      "source": [
        "print(classification_report(y_val, y_pred))"
      ],
      "execution_count": 32,
      "outputs": [
        {
          "output_type": "stream",
          "text": [
            "/usr/local/lib/python3.6/dist-packages/sklearn/metrics/classification.py:1437: UndefinedMetricWarning: Precision and F-score are ill-defined and being set to 0.0 in labels with no predicted samples.\n",
            "  'precision', 'predicted', average, warn_for)\n"
          ],
          "name": "stderr"
        },
        {
          "output_type": "stream",
          "text": [
            "                   precision    recall  f1-score   support\n",
            "\n",
            "         ARRESTED       0.72      0.69      0.70      7838\n",
            "          CLEARED       0.25      0.07      0.10        92\n",
            "         JUVENILE       0.38      0.09      0.15       222\n",
            "          LOCATED       0.33      0.20      0.25         5\n",
            "             NONE       0.87      0.91      0.89     21606\n",
            "   NOT PROSECUTED       0.00      0.00      0.00         6\n",
            "PSYCHOPATHIC CASE       0.00      0.00      0.00         4\n",
            "        UNFOUNDED       0.57      0.18      0.28       327\n",
            "\n",
            "         accuracy                           0.83     30100\n",
            "        macro avg       0.39      0.27      0.30     30100\n",
            "     weighted avg       0.82      0.83      0.83     30100\n",
            "\n"
          ],
          "name": "stdout"
        }
      ]
    },
    {
      "cell_type": "markdown",
      "metadata": {
        "id": "v6KZ82Yu4Pr_",
        "colab_type": "text"
      },
      "source": [
        "# **Try xgboost.**"
      ]
    },
    {
      "cell_type": "code",
      "metadata": {
        "id": "pCMosVT84iY3",
        "colab_type": "code",
        "colab": {}
      },
      "source": [
        ""
      ],
      "execution_count": 0,
      "outputs": []
    },
    {
      "cell_type": "markdown",
      "metadata": {
        "id": "68CkwNPj4chX",
        "colab_type": "text"
      },
      "source": [
        "# **Get your model's permutation importances.**"
      ]
    },
    {
      "cell_type": "code",
      "metadata": {
        "id": "E52SMg9POQQR",
        "colab_type": "code",
        "colab": {}
      },
      "source": [
        ""
      ],
      "execution_count": 0,
      "outputs": []
    }
  ]
}