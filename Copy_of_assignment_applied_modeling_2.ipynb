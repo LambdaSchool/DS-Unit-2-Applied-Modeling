{
  "nbformat": 4,
  "nbformat_minor": 0,
  "metadata": {
    "colab": {
      "name": "Copy of assignment_applied_modeling_2.ipynb",
      "provenance": [],
      "collapsed_sections": [],
      "include_colab_link": true
    },
    "kernelspec": {
      "display_name": "Python 3",
      "language": "python",
      "name": "python3"
    },
    "language_info": {
      "codemirror_mode": {
        "name": "ipython",
        "version": 3
      },
      "file_extension": ".py",
      "mimetype": "text/x-python",
      "name": "python",
      "nbconvert_exporter": "python",
      "pygments_lexer": "ipython3",
      "version": "3.7.3"
    }
  },
  "cells": [
    {
      "cell_type": "markdown",
      "metadata": {
        "id": "view-in-github",
        "colab_type": "text"
      },
      "source": [
        "<a href=\"https://colab.research.google.com/github/dunkelweizen/DS-Unit-2-Applied-Modeling/blob/master/Copy_of_assignment_applied_modeling_2.ipynb\" target=\"_parent\"><img src=\"https://colab.research.google.com/assets/colab-badge.svg\" alt=\"Open In Colab\"/></a>"
      ]
    },
    {
      "cell_type": "markdown",
      "metadata": {
        "colab_type": "text",
        "id": "nCc3XZEyG3XV"
      },
      "source": [
        "Lambda School Data Science\n",
        "\n",
        "*Unit 2, Sprint 3, Module 2*\n",
        "\n",
        "---\n",
        "\n",
        "\n",
        "# Permutation & Boosting\n",
        "\n",
        "You will use your portfolio project dataset for all assignments this sprint.\n",
        "\n",
        "## Assignment\n",
        "\n",
        "Complete these tasks for your project, and document your work.\n",
        "\n",
        "- [ ] If you haven't completed assignment #1, please do so first.\n",
        "- [ ] Continue to clean and explore your data. Make exploratory visualizations.\n",
        "- [ ] Fit a model. Does it beat your baseline? \n",
        "- [ ] Try xgboost.\n",
        "- [ ] Get your model's permutation importances.\n",
        "\n",
        "I had to run my model locally because it was taking too long in Colab. My initial models were giving me a validation accuracy of around 21-22% which isn't great but is better than baseline. With XGBoost, I got a validation accuracy of around 31%. \n",
        "Since I'm using leave-one-out-cross-validation instead of a train/test/validation split, I had to fit permutation importance to my training set, which shows how important different features are to that set but does not generalize to other sets of data. \n",
        "\n",
        "You should try to complete an initial model today, because the rest of the week, we're making model interpretation visualizations.\n",
        "\n",
        "But, if you aren't ready to try xgboost and permutation importances with your dataset today, that's okay. You can practice with another dataset instead. You may choose any dataset you've worked with previously.\n",
        "\n",
        "The data subdirectory includes the Titanic dataset for classification and the NYC apartments dataset for regression. You may want to choose one of these datasets, because example solutions will be available for each.\n",
        "\n",
        "\n",
        "## Reading\n",
        "\n",
        "Top recommendations in _**bold italic:**_\n",
        "\n",
        "#### Permutation Importances\n",
        "- _**[Kaggle / Dan Becker: Machine Learning Explainability](https://www.kaggle.com/dansbecker/permutation-importance)**_\n",
        "- [Christoph Molnar: Interpretable Machine Learning](https://christophm.github.io/interpretable-ml-book/feature-importance.html)\n",
        "\n",
        "#### (Default) Feature Importances\n",
        "  - [Ando Saabas: Selecting good features, Part 3, Random Forests](https://blog.datadive.net/selecting-good-features-part-iii-random-forests/)\n",
        "  - [Terence Parr, et al: Beware Default Random Forest Importances](https://explained.ai/rf-importance/index.html)\n",
        "\n",
        "#### Gradient Boosting\n",
        "  - [A Gentle Introduction to the Gradient Boosting Algorithm for Machine Learning](https://machinelearningmastery.com/gentle-introduction-gradient-boosting-algorithm-machine-learning/)\n",
        "  - _**[A Kaggle Master Explains Gradient Boosting](http://blog.kaggle.com/2017/01/23/a-kaggle-master-explains-gradient-boosting/)**_\n",
        "  - [_An Introduction to Statistical Learning_](http://www-bcf.usc.edu/~gareth/ISL/ISLR%20Seventh%20Printing.pdf) Chapter 8\n",
        "  - [Gradient Boosting Explained](http://arogozhnikov.github.io/2016/06/24/gradient_boosting_explained.html)\n",
        "  - _**[Boosting](https://www.youtube.com/watch?v=GM3CDQfQ4sw) (2.5 minute video)**_"
      ]
    },
    {
      "cell_type": "code",
      "metadata": {
        "id": "MXq86vrmZebW",
        "colab_type": "code",
        "colab": {}
      },
      "source": [
        "# -*- coding: utf-8 -*-\n",
        "\"\"\"\n",
        "Created on Wed Dec  4 21:11:16 2019\n",
        "\n",
        "@author: caino\n",
        "\"\"\"\n",
        "import pandas as pd\n",
        "import numpy as np\n",
        "from sklearn.preprocessing import OrdinalEncoder\n",
        "from sklearn.model_selection import LeaveOneOut\n",
        "from sklearn.model_selection import cross_val_score\n",
        "from sklearn.model_selection import train_test_split\n",
        "from sklearn.model_selection import RandomizedSearchCV\n",
        "from sklearn.linear_model import LogisticRegression\n",
        "from sklearn.ensemble import RandomForestClassifier\n",
        "from sklearn.model_selection import GridSearchCV\n",
        "from sklearn.feature_selection import RFE\n",
        "\n",
        "#%%explore and clean data\n",
        "\n",
        "\n",
        "df = pd.read_csv('https://raw.githubusercontent.com/fivethirtyeight/data/master/thanksgiving-2015/thanksgiving-2015-poll-data.csv')\n",
        "\n",
        "\n",
        "\n",
        "df.columns = ['ID', 'Celebrate', 'Main_Dish', 'Main_Dish_Other', 'Main_Dish_Cooked', 'Main_Dish_Cooked_Other', 'Stuffing',\n",
        "              'Stuffing_Other', 'Cranberry_Sauce', 'Cranberry_Sauce_Other', 'Gravy', 'Brussel_Sprouts', 'Carrots', 'Cauliflower',\n",
        "              'Corn', 'Cornbread', 'Fruit_Salad', 'Green_Beans', 'Mac_and_Cheese', 'Mashed_Potatoes', 'Rolls_Biscuits', 'Squash',\n",
        "              'Salad', 'Sweet_Potatoes', 'Side_Dish_Other1', 'Side_Dish_Other2', 'Apple_Pie', 'Buttermilk_Pie', 'Cherry_Pie', \n",
        "              'Chocolate_Pie', 'Coconut_Cream_Pie', 'Key_Lime_Pie', 'Peach_Pie', 'Pecan_Pie', 'Pumpkin_Pie', 'Sweet_Potato_Pie', \n",
        "              'No_Pie', 'Other_Pie1', 'Other_Pie2', 'Apple_Cobbler', 'Blondies', 'Brownies', 'Carrot_Cake', 'Cheesecake', 'Cookies',\n",
        "              'Fudge', 'Ice_Cream', 'Peach_Cobbler', 'No_Dessert', 'Other_Dessert1', 'Other_Dessert2', 'Prayer', 'Travel_Distance', 'Parade',\n",
        "              'Kids_Table_Age', 'Old_Friends', 'Friendsgiving', 'Black_Friday_Shopper', 'Retail_Worker', 'Black_Friday_Worker', 'Neighborhood_Type',\n",
        "              'Age', 'Gender', 'Household_Earnings', 'US_Region']\n",
        "\n",
        "\n",
        "\n",
        "\n",
        "side_dishes = ['Stuffing',\n",
        "              'Stuffing_Other', 'Cranberry_Sauce', 'Cranberry_Sauce_Other', 'Gravy', 'Brussel_Sprouts', 'Carrots', 'Cauliflower',\n",
        "              'Corn', 'Cornbread', 'Fruit_Salad', 'Green_Beans', 'Mac_and_Cheese', 'Mashed_Potatoes', 'Rolls_Biscuits', 'Squash',\n",
        "              'Salad', 'Sweet_Potatoes', 'Side_Dish_Other1', 'Side_Dish_Other2', 'Apple_Pie', 'Buttermilk_Pie', 'Cherry_Pie', \n",
        "              'Chocolate_Pie', 'Coconut_Cream_Pie', 'Key_Lime_Pie', 'Peach_Pie', 'Pecan_Pie', 'Pumpkin_Pie', 'Sweet_Potato_Pie', \n",
        "              'No_Pie', 'Other_Pie1', 'Other_Pie2', 'Apple_Cobbler', 'Blondies', 'Brownies', 'Carrot_Cake', 'Cheesecake', 'Cookies',\n",
        "              'Fudge', 'Ice_Cream', 'Peach_Cobbler', 'No_Dessert', 'Other_Dessert1', 'Other_Dessert2']\n",
        "#get rid of any rows where they don't celebrate\n",
        "df = df.drop(df[df.Celebrate == 'No'].index)\n",
        "df = df.drop('Celebrate', axis = 1)\n",
        "#remove any rows where no US_Region is given\n",
        "df = df.drop(df[df.US_Region == np.NaN].index)\n",
        "\n",
        "\n",
        "\n",
        "#%%\n",
        "\n"
      ],
      "execution_count": 0,
      "outputs": []
    },
    {
      "cell_type": "code",
      "metadata": {
        "id": "bmw3v4-KdcqD",
        "colab_type": "code",
        "colab": {}
      },
      "source": [
        "\n",
        "\n",
        "#%% create data wrangling function\n",
        "\n",
        "def wrangle(df):\n",
        "    #data is formatted so that a column has the name of the dish if true and NaN if false\n",
        "#so replace all the NaN with False and all values with True\n",
        "#also for Parade column\n",
        "    for column in df.columns:\n",
        "        if column in side_dishes:\n",
        "            df[column] = df[column].fillna('No')\n",
        "        elif column == 'Parade':\n",
        "            df[column] = df[column].fillna('No')\n",
        "#removing the 'Other' columns for simplicities' sake\n",
        "    df = df.replace('nan', np.NaN)\n",
        "    # for column in df.columns:\n",
        "    #     if 'Other' in column:\n",
        "    #         df = df.drop(column, axis=1)\n",
        "    df = df.drop('ID', axis=1)\n",
        "#replace empty values in Black_Friday_Worker with 'No' if person isn't in retail      \n",
        "    for i in range(len(df)):\n",
        "        if df['Retail_Worker'].iloc[i] == 'No':\n",
        "            df['Black_Friday_Worker'].iloc[i] = 'No'\n",
        "#fix NaN values in other columns\n",
        "    df['Kids_Table_Age'] = df['Kids_Table_Age'].fillna('No Kids Table')\n",
        "    mode = df['Household_Earnings'].mode()[0]\n",
        "    df['Household_Earnings'] = df['Household_Earnings'].fillna(mode)\n",
        "    mode = df['Age'].mode()[0]\n",
        "    df['Age'] = df['Age'].fillna(mode)\n",
        "    mode = df['Travel_Distance'].mode()[0]\n",
        "    df['Travel_Distance'] = df['Travel_Distance'].fillna(mode)\n",
        "    df['Neighborhood_Type'] = df['Neighborhood_Type'].fillna('Other')\n",
        "    df['Main_Dish'] = df['Main_Dish'].fillna(\"I don't know\")\n",
        "    df['Main_Dish_Cooked'] = df['Main_Dish_Cooked'].fillna(\"I don't know\")\n",
        "    df = df.fillna('No')\n",
        "    return df"
      ],
      "execution_count": 0,
      "outputs": []
    },
    {
      "cell_type": "code",
      "metadata": {
        "id": "DJaEPsnSdhpY",
        "colab_type": "code",
        "colab": {
          "base_uri": "https://localhost:8080/",
          "height": 221
        },
        "outputId": "4151a6c7-5824-485f-aae2-e31cf15d50ab"
      },
      "source": [
        "#%%splitting data\n",
        "\n",
        "train, test = train_test_split(df)\n",
        "train = wrangle(train)\n",
        "test = wrangle(test)\n"
      ],
      "execution_count": 3,
      "outputs": [
        {
          "output_type": "stream",
          "text": [
            "/usr/local/lib/python3.6/dist-packages/ipykernel_launcher.py:8: SettingWithCopyWarning: \n",
            "A value is trying to be set on a copy of a slice from a DataFrame.\n",
            "Try using .loc[row_indexer,col_indexer] = value instead\n",
            "\n",
            "See the caveats in the documentation: http://pandas.pydata.org/pandas-docs/stable/user_guide/indexing.html#returning-a-view-versus-a-copy\n",
            "  \n",
            "/usr/local/lib/python3.6/dist-packages/ipykernel_launcher.py:10: SettingWithCopyWarning: \n",
            "A value is trying to be set on a copy of a slice from a DataFrame.\n",
            "Try using .loc[row_indexer,col_indexer] = value instead\n",
            "\n",
            "See the caveats in the documentation: http://pandas.pydata.org/pandas-docs/stable/user_guide/indexing.html#returning-a-view-versus-a-copy\n",
            "  # Remove the CWD from sys.path while we load stuff.\n"
          ],
          "name": "stderr"
        }
      ]
    },
    {
      "cell_type": "code",
      "metadata": {
        "id": "jZTd-DBJdmfz",
        "colab_type": "code",
        "colab": {}
      },
      "source": [
        "\n",
        "#%% creating X and y\n",
        "def X_y_dataframes(train, test, target):\n",
        "    X_train = train.drop(target, axis=1)\n",
        "    X_test = test.drop(target, axis=1)\n",
        "    y_train = train[target]\n",
        "    y_test = test[target]\n",
        "    #ordinal encoding\n",
        "    encoder = OrdinalEncoder()\n",
        "    X_train_encoded = encoder.fit_transform(X_train)\n",
        "    X_test_encoded = encoder.fit_transform(X_test)\n",
        "    #converting encoded arrays back to dataframes\n",
        "    X_train_encoded = pd.DataFrame(X_train_encoded)\n",
        "    X_train_encoded.columns = X_train.columns\n",
        "    X_test_encoded = pd.DataFrame(X_test_encoded)\n",
        "    X_test_encoded.columns = X_test.columns\n",
        "    return X_train_encoded, X_test_encoded, y_train, y_test"
      ],
      "execution_count": 0,
      "outputs": []
    },
    {
      "cell_type": "code",
      "metadata": {
        "id": "wSSmuEZpdiNy",
        "colab_type": "code",
        "colab": {}
      },
      "source": [
        "\n",
        "#%% leave one out validation\n",
        "def loocv(X_train_encoded, y_train, model):\n",
        "    num_folds = 10\n",
        "    num_instances = len(X_train_encoded)\n",
        "    loocv = LeaveOneOut()\n",
        "    results = cross_val_score(model, X_train_encoded, y_train, cv=loocv)\n",
        "    print(\"Accuracy: %.3f%% (%.3f%%)\" % (results.mean()*100.0, results.std()*100.0))\n"
      ],
      "execution_count": 0,
      "outputs": []
    },
    {
      "cell_type": "code",
      "metadata": {
        "id": "KO6tqrkYdqDC",
        "colab_type": "code",
        "colab": {
          "base_uri": "https://localhost:8080/",
          "height": 204
        },
        "outputId": "83aaec64-8e0a-4b26-b086-06f08131cf4e"
      },
      "source": [
        "\n",
        "#%%\n",
        "target = 'US_Region'\n",
        "X_train_encoded, X_test_encoded, y_train, y_test = X_y_dataframes(train, test, target)\n",
        "#%%Baseline model\n",
        "print(y_train.value_counts(normalize=True))\n",
        "baseline = 'South Atlantic'"
      ],
      "execution_count": 6,
      "outputs": [
        {
          "output_type": "stream",
          "text": [
            "South Atlantic        0.216327\n",
            "East North Central    0.153741\n",
            "Middle Atlantic       0.148299\n",
            "Pacific               0.118367\n",
            "West South Central    0.087075\n",
            "West North Central    0.066667\n",
            "East South Central    0.057143\n",
            "New England           0.055782\n",
            "No                    0.053061\n",
            "Mountain              0.043537\n",
            "Name: US_Region, dtype: float64\n"
          ],
          "name": "stdout"
        }
      ]
    },
    {
      "cell_type": "code",
      "metadata": {
        "id": "RvPz-ZwffLA2",
        "colab_type": "code",
        "colab": {
          "base_uri": "https://localhost:8080/",
          "height": 265
        },
        "outputId": "e69ea039-7086-44be-bd1a-22f92735a35b"
      },
      "source": [
        "import matplotlib.pyplot as plt\n",
        "plt.scatter(x=X_train_encoded['Main_Dish'], y=y_train)\n",
        "plt.show()"
      ],
      "execution_count": 36,
      "outputs": [
        {
          "output_type": "display_data",
          "data": {
            "image/png": "[encoded data removed]",
            "text/plain": [
              "<Figure size 432x288 with 1 Axes>"
            ]
          },
          "metadata": {
            "tags": []
          }
        }
      ]
    },
    {
      "cell_type": "code",
      "metadata": {
        "id": "QZo2hHq-fQ2j",
        "colab_type": "code",
        "colab": {
          "base_uri": "https://localhost:8080/",
          "height": 265
        },
        "outputId": "b2fac8fe-2ed9-4bb4-fbe0-654990a1faa6"
      },
      "source": [
        "plt.scatter(x=X_train_encoded['Travel_Distance'], y=y_train)\n",
        "plt.show()"
      ],
      "execution_count": 37,
      "outputs": [
        {
          "output_type": "display_data",
          "data": {
            "image/png": "[encoded data removed]",
            "text/plain": [
              "<Figure size 432x288 with 1 Axes>"
            ]
          },
          "metadata": {
            "tags": []
          }
        }
      ]
    },
    {
      "cell_type": "code",
      "metadata": {
        "id": "EwwsPvjMfg82",
        "colab_type": "code",
        "colab": {
          "base_uri": "https://localhost:8080/",
          "height": 265
        },
        "outputId": "18f563dc-411b-4981-b710-131d0cab2c20"
      },
      "source": [
        "plt.scatter(x=X_train_encoded['Travel_Distance'], y=X_train_encoded['Main_Dish'])\n",
        "plt.show()"
      ],
      "execution_count": 38,
      "outputs": [
        {
          "output_type": "display_data",
          "data": {
            "image/png": "[encoded data removed]",
            "text/plain": [
              "<Figure size 432x288 with 1 Axes>"
            ]
          },
          "metadata": {
            "tags": []
          }
        }
      ]
    },
    {
      "cell_type": "code",
      "metadata": {
        "id": "JW99-lLVdzFx",
        "colab_type": "code",
        "colab": {
          "base_uri": "https://localhost:8080/",
          "height": 34
        },
        "outputId": "eb44f2f0-d83c-4123-cb5a-122bd03f21e1"
      },
      "source": [
        "#%% Logistic Regression Model\n",
        "\n",
        "model = LogisticRegression(solver='lbfgs', max_iter = 10000, multi_class='auto')\n",
        "model.fit(X_train_encoded, y_train)\n",
        "loocv(X_train_encoded, y_train, model)\n",
        "#26.6% accurate\n"
      ],
      "execution_count": 39,
      "outputs": [
        {
          "output_type": "stream",
          "text": [
            "Accuracy: 27.755% (44.779%)\n"
          ],
          "name": "stdout"
        }
      ]
    },
    {
      "cell_type": "code",
      "metadata": {
        "id": "EmSk6W1p3XRU",
        "colab_type": "code",
        "colab": {}
      },
      "source": [
        "def select_features(X_train_encoded, y_train, num_features):\n",
        "    classifier = RandomForestClassifier(n_estimators=100)\n",
        "    rfe_selector = RFE(estimator=classifier, n_features_to_select=num_features, step=10, verbose=5)\n",
        "    rfe_selector.fit(X_train_encoded, y_train)\n",
        "    rfe_support = rfe_selector.get_support()\n",
        "    rfe_feature = X_train_encoded.loc[:,rfe_support].columns.tolist()\n",
        "    print(str(len(rfe_feature)), 'selected features')\n",
        "    print(rfe_feature)\n",
        "    return rfe_feature"
      ],
      "execution_count": 0,
      "outputs": []
    },
    {
      "cell_type": "code",
      "metadata": {
        "id": "-cAuTjGLeDV3",
        "colab_type": "code",
        "colab": {
          "base_uri": "https://localhost:8080/",
          "height": 224
        },
        "outputId": "6bab4a7b-764d-4ba7-ff79-799c1dd5e635"
      },
      "source": [
        "#%% Random Forest Model\n",
        "\n",
        "classifier = RandomForestClassifier()\n",
        "features = select_features(X_train_encoded, y_train, 10)\n",
        "X_train_encoded = X_train_encoded[features]\n",
        "classifier.fit(X_train_encoded, y_train)\n",
        "loocv(X_train_encoded, y_train, classifier)\n",
        "#22.2% accurate\n"
      ],
      "execution_count": 8,
      "outputs": [
        {
          "output_type": "stream",
          "text": [
            "Fitting estimator with 62 features.\n",
            "Fitting estimator with 52 features.\n",
            "Fitting estimator with 42 features.\n",
            "Fitting estimator with 32 features.\n",
            "Fitting estimator with 22 features.\n",
            "Fitting estimator with 12 features.\n",
            "10 selected features\n",
            "['Main_Dish_Cooked', 'Cranberry_Sauce', 'Corn', 'Sweet_Potatoes', 'Travel_Distance', 'Kids_Table_Age', 'Neighborhood_Type', 'Age', 'Gender', 'Household_Earnings']\n"
          ],
          "name": "stdout"
        },
        {
          "output_type": "stream",
          "text": [
            "/usr/local/lib/python3.6/dist-packages/sklearn/ensemble/forest.py:245: FutureWarning: The default value of n_estimators will change from 10 in version 0.20 to 100 in 0.22.\n",
            "  \"10 in version 0.20 to 100 in 0.22.\", FutureWarning)\n"
          ],
          "name": "stderr"
        },
        {
          "output_type": "stream",
          "text": [
            "Accuracy: 19.048% (39.268%)\n"
          ],
          "name": "stdout"
        }
      ]
    },
    {
      "cell_type": "code",
      "metadata": {
        "id": "tzgt-k0SalNN",
        "colab_type": "code",
        "colab": {
          "base_uri": "https://localhost:8080/",
          "height": 221
        },
        "outputId": "f1bda13c-8378-4a89-dd45-ce21ead13927"
      },
      "source": [
        "#%% those were terrible, do better! Randomized Search for hyperparameters\n",
        "\n",
        "\n",
        "clf = RandomForestClassifier()\n",
        "# Utility function to report best scores\n",
        "def report(results, n_top=3):\n",
        "    for i in range(1, n_top + 1):\n",
        "        candidates = np.flatnonzero(results['rank_test_score'] == i)\n",
        "        for candidate in candidates:\n",
        "            print(\"Model with rank: {0}\".format(i))\n",
        "            print(\"Mean validation score: {0:.3f} (std: {1:.3f})\".format(results['mean_test_score'][candidate], results['std_test_score'][candidate]))\n",
        "            print(\"Parameters: {0}\".format(results['params'][candidate]))\n",
        "            print(\"\")\n",
        "#%%\n",
        "# specify parameters and distributions to sample from\n",
        "param_dist = {'max_depth': range(10, 50, 2),\n",
        "              'min_samples_leaf': [1,2,3,4,5],'min_samples_split': [2, 3, 4, 5],\n",
        "              'n_estimators': range(100, 500, 10),\n",
        "              \"criterion\": [\"gini\", \"entropy\"]}\n",
        "\n",
        "n_iter_search = 25\n",
        "random_search = RandomizedSearchCV(clf, param_distributions=param_dist,\n",
        "                                   n_iter=n_iter_search, cv=5, iid=False, n_jobs=-1)\n",
        "\n",
        "random_search.fit(X_train_encoded, y_train)\n",
        "\n",
        "report(random_search.cv_results_)"
      ],
      "execution_count": 9,
      "outputs": [
        {
          "output_type": "stream",
          "text": [
            "Model with rank: 1\n",
            "Mean validation score: 0.240 (std: 0.016)\n",
            "Parameters: {'n_estimators': 330, 'min_samples_split': 5, 'min_samples_leaf': 4, 'max_depth': 46, 'criterion': 'entropy'}\n",
            "\n",
            "Model with rank: 2\n",
            "Mean validation score: 0.239 (std: 0.007)\n",
            "Parameters: {'n_estimators': 430, 'min_samples_split': 4, 'min_samples_leaf': 5, 'max_depth': 44, 'criterion': 'gini'}\n",
            "\n",
            "Model with rank: 3\n",
            "Mean validation score: 0.238 (std: 0.018)\n",
            "Parameters: {'n_estimators': 140, 'min_samples_split': 4, 'min_samples_leaf': 5, 'max_depth': 26, 'criterion': 'gini'}\n",
            "\n"
          ],
          "name": "stdout"
        }
      ]
    },
    {
      "cell_type": "code",
      "metadata": {
        "id": "Hq2oQkU8aEsM",
        "colab_type": "code",
        "colab": {
          "base_uri": "https://localhost:8080/",
          "height": 221
        },
        "outputId": "29344ec8-b427-4a60-d03e-a06df4e237a6"
      },
      "source": [
        "#%% Grid Search for hyperparameters\n",
        "\n",
        "param_grid = {\"max_depth\": range(30, 50, 5),\n",
        "              \"n_estimators\": range(100, 500, 10),\n",
        "              \"min_samples_leaf\": range(2, 5)\n",
        "              }\n",
        "\n",
        "# run grid search\n",
        "grid_search = GridSearchCV(clf, param_grid=param_grid, cv=3, iid=False, n_jobs=-1)\n",
        "grid_search.fit(X_train_encoded, y_train)\n",
        "report(grid_search.cv_results_)"
      ],
      "execution_count": 44,
      "outputs": [
        {
          "output_type": "stream",
          "text": [
            "Model with rank: 1\n",
            "Mean validation score: 0.238 (std: 0.015)\n",
            "Parameters: {'max_depth': 30, 'min_samples_leaf': 4, 'n_estimators': 230}\n",
            "\n",
            "Model with rank: 2\n",
            "Mean validation score: 0.235 (std: 0.007)\n",
            "Parameters: {'max_depth': 30, 'min_samples_leaf': 4, 'n_estimators': 400}\n",
            "\n",
            "Model with rank: 3\n",
            "Mean validation score: 0.235 (std: 0.017)\n",
            "Parameters: {'max_depth': 40, 'min_samples_leaf': 3, 'n_estimators': 300}\n",
            "\n"
          ],
          "name": "stdout"
        }
      ]
    },
    {
      "cell_type": "code",
      "metadata": {
        "id": "DBZ0AyQ_aUAu",
        "colab_type": "code",
        "colab": {}
      },
      "source": [
        "#%% this model is awful, let's try a new target\n",
        "#predict whether someone will have Turkey, Ham, or something else based on other items?\n",
        "\n",
        "train['Main_Dish'].unique()\n",
        "train['Main_Dish'].value_counts(normalize=True)\n",
        "\n",
        "#baseline = Turkey, 86.7%\n",
        "#%%\n",
        "target = 'Main_Dish'\n",
        "X_train_encoded, X_test_encoded, y_train, y_test = X_y_dataframes(train, test, target)\n",
        "\n",
        "#%%\n",
        "classifier = RandomForestClassifier(n_estimators=100)\n",
        "features = select_features(X_train_encoded, y_train, 10)\n",
        "X_train_encoded = X_train_encoded[features]\n",
        "classifier.fit(X_train_encoded, y_train)\n",
        "loocv(X_train_encoded, y_train, classifier)\n",
        "\n",
        "#%% but I'd really like this to be about the food, not region or age\n",
        "\n",
        "food = ['Stuffing', 'Cranberry_Sauce', 'Gravy', 'Brussel_Sprouts', 'Carrots', 'Cauliflower',\n",
        "       'Corn', 'Cornbread', 'Fruit_Salad', 'Green_Beans', 'Mac_and_Cheese',\n",
        "       'Mashed_Potatoes', 'Rolls_Biscuits', 'Squash', 'Salad',\n",
        "       'Sweet_Potatoes', 'Apple_Pie', 'Buttermilk_Pie', 'Cherry_Pie',\n",
        "       'Chocolate_Pie', 'Coconut_Cream_Pie', 'Key_Lime_Pie', 'Peach_Pie',\n",
        "       'Pecan_Pie', 'Pumpkin_Pie', 'Sweet_Potato_Pie', 'No_Pie',\n",
        "       'Apple_Cobbler', 'Blondies', 'Brownies', 'Carrot_Cake', 'Cheesecake',\n",
        "       'Cookies', 'Fudge', 'Ice_Cream', 'Peach_Cobbler']\n",
        "#%%\n",
        "        \n",
        "target = 'Main_Dish'\n",
        "X_train_encoded, X_test_encoded, y_train, y_test = X_y_dataframes(train, test, target)\n",
        "    \n",
        "\n",
        "#%%\n",
        "for column in X_train_encoded.columns:\n",
        "    if column not in food:\n",
        "        X_train_encoded = X_train_encoded.drop(column, axis=1)\n",
        "\n",
        "\n",
        "#%%\n",
        "model = LogisticRegression(solver='lbfgs', multi_class='auto', max_iter = 10000)\n",
        "model.fit(X_train_encoded, y_train)\n",
        "loocv(X_train_encoded, y_train, model)\n",
        "#%%\n",
        "\n",
        "classifier = RandomForestClassifier(n_estimators=100)\n",
        "classifier.fit(X_train_encoded, y_train)\n",
        "loocv(X_train_encoded, y_train, classifier)\n",
        "\n",
        "#%%\n",
        "classifier = RandomForestClassifier(n_estimators=480, max_depth=45, min_samples_leaf=3)\n",
        "features = select_features(X_train_encoded, y_train, 10)\n",
        "X_train_encoded = X_train_encoded[features]\n",
        "classifier.fit(X_train_encoded, y_train)\n",
        "loocv(X_train_encoded, y_train, classifier)\n",
        "\n",
        "#%%\n",
        "target = 'Black_Friday_Shopper'\n",
        "train['Black_Friday_Shopper'].value_counts(normalize=True)\n",
        "#%%\n",
        "X_train_encoded, X_test_encoded, y_train, y_test = X_y_dataframes(train, test, target)\n",
        "#%%\n",
        "\n",
        "X_train_encoded = X_train_encoded[features]\n",
        "classifier.fit(X_train_encoded, y_train)\n",
        "loocv(X_train_encoded, y_train, classifier)\n",
        "#%%\n",
        "param_grid = {\"max_depth\": range(30, 50, 5),\n",
        "              \"n_estimators\": range(100, 500, 10),\n",
        "              \"min_samples_leaf\": range(2, 5)\n",
        "              }\n",
        "\n",
        "# run grid search\n",
        "grid_search = GridSearchCV(classifier, param_grid=param_grid, cv=3, iid=False, n_jobs=-1)\n",
        "grid_search.fit(X_train_encoded, y_train)\n",
        "report(grid_search.cv_results_)\n",
        "#%%\n",
        "from sklearn.metrics import precision_recall_fscore_support\n",
        "y_pred_train = classifier.predict(X_train_encoded)\n",
        "print(precision_recall_fscore_support(y_train, y_pred_train, average = 'weighted'))\n",
        "\n",
        "#try gradient boosted trees!"
      ],
      "execution_count": 0,
      "outputs": []
    },
    {
      "cell_type": "code",
      "metadata": {
        "id": "_1x_OzE9ar21",
        "colab_type": "code",
        "colab": {}
      },
      "source": [
        "#%% Random Forest Model updated\n",
        "\n",
        "\n",
        "classifier = RandomForestClassifier(n_estimators = 380, min_samples_split = 4, \n",
        "                                    min_samples_leaf = 2, max_depth = 24, criterion = 'gini')\n",
        "classifier.fit(X_train_encoded, y_train)\n",
        "loocv(X_train_encoded, y_train, classifier)\n",
        "#28.3 accuracy\n",
        "\n",
        "\n",
        "#%%find features\n",
        "\n",
        "rfe_selector = RFE(estimator=RandomForestClassifier(n_estimators = 350, min_samples_split = 2, \n",
        "                                    min_samples_leaf = 3, max_depth = 46, criterion = 'entropy'), n_features_to_select=10, step=10, verbose=5)\n",
        "rfe_selector.fit(X_train_encoded, y_train)\n",
        "rfe_support = rfe_selector.get_support()\n",
        "rfe_feature = X_train_encoded.loc[:,rfe_support].columns.tolist()\n",
        "print(str(len(rfe_feature)), 'selected features')\n",
        "print(rfe_feature)\n",
        "#%%create model just those features\n",
        "features = rfe_feature\n",
        "\n",
        "X_train_encoded = X_train_encoded[features]\n",
        "X_test_encoded = X_test_encoded[features]\n",
        "\n",
        "classifier = RandomForestClassifier(n_estimators = 460, min_samples_split = 3, \n",
        "                                    min_samples_leaf = 5, max_depth = 40, criterion = 'entropy')\n",
        "classifier.fit(X_train_encoded, y_train)\n",
        "loocv(X_train_encoded, y_train, classifier)\n",
        "#%% other measures of \"how good\" my model is\n",
        "from sklearn.metrics import precision_recall_fscore_support\n",
        "y_pred_train = classifier.predict(X_train_encoded)\n",
        "print(precision_recall_fscore_support(y_train, y_pred_train, average = 'weighted'))\n"
      ],
      "execution_count": 0,
      "outputs": []
    },
    {
      "cell_type": "code",
      "metadata": {
        "id": "2dcIcj4MsaXV",
        "colab_type": "code",
        "colab": {
          "base_uri": "https://localhost:8080/",
          "height": 34
        },
        "outputId": "e4cfc4b1-7eb9-4831-a9c3-72a810d3e972"
      },
      "source": [
        "import xgboost\n",
        "model = xgboost.XGBClassifier(n_jobs=-1)\n",
        "model.fit(X_train_encoded, y_train)\n",
        "\n",
        "\n",
        "loocv(X_train_encoded, y_train, model)"
      ],
      "execution_count": 10,
      "outputs": [
        {
          "output_type": "stream",
          "text": [
            "Accuracy: 23.673% (42.508%)\n"
          ],
          "name": "stdout"
        }
      ]
    },
    {
      "cell_type": "code",
      "metadata": {
        "id": "xT7Q_Ivu6qXu",
        "colab_type": "code",
        "colab": {
          "base_uri": "https://localhost:8080/",
          "height": 221
        },
        "outputId": "43be640e-b315-4613-969a-b562915b4c64"
      },
      "source": [
        "param_dist = {'n_estimators': range(100, 500, 10),\n",
        "              \"eta\": (0.01, 0.05, 0.08, 0.1, 0.12, 0.15, 0.18, 0.20, 0.22, 0.25),\n",
        "              \"max_depth\": range(3, 20, 2)}\n",
        "\n",
        "n_iter_search = 25\n",
        "random_search = RandomizedSearchCV(xgboost.XGBClassifier(), param_distributions=param_dist,\n",
        "                                   n_iter=n_iter_search, cv=5, iid=False, n_jobs=-1)\n",
        "\n",
        "random_search.fit(X_train_encoded, y_train)\n",
        "\n",
        "report(random_search.cv_results_)"
      ],
      "execution_count": 50,
      "outputs": [
        {
          "output_type": "stream",
          "text": [
            "Model with rank: 1\n",
            "Mean validation score: 0.215 (std: 0.021)\n",
            "Parameters: {'n_estimators': 380, 'max_depth': 19, 'eta': 0.18}\n",
            "\n",
            "Model with rank: 2\n",
            "Mean validation score: 0.214 (std: 0.015)\n",
            "Parameters: {'n_estimators': 460, 'max_depth': 11, 'eta': 0.15}\n",
            "\n",
            "Model with rank: 3\n",
            "Mean validation score: 0.214 (std: 0.021)\n",
            "Parameters: {'n_estimators': 390, 'max_depth': 17, 'eta': 0.25}\n",
            "\n"
          ],
          "name": "stdout"
        }
      ]
    },
    {
      "cell_type": "code",
      "metadata": {
        "id": "rLxRBOCWvFgI",
        "colab_type": "code",
        "colab": {}
      },
      "source": [
        "!pip install eli5"
      ],
      "execution_count": 0,
      "outputs": []
    },
    {
      "cell_type": "code",
      "metadata": {
        "id": "f2b5r5q8slNN",
        "colab_type": "code",
        "colab": {}
      },
      "source": [
        "import eli5\n",
        "from eli5.sklearn import PermutationImportance\n",
        "from sklearn.svm import SVC\n",
        "\n",
        "svc = SVC().fit(X_train_encoded, y_train)\n",
        "perm = PermutationImportance(svc).fit(X_train_encoded, y_train)\n",
        "eli5.show_weights(perm)"
      ],
      "execution_count": 0,
      "outputs": []
    },
    {
      "cell_type": "code",
      "metadata": {
        "id": "-jAKMuO8vSbC",
        "colab_type": "code",
        "colab": {}
      },
      "source": [
        "X_train_encoded.iloc[:,42]"
      ],
      "execution_count": 0,
      "outputs": []
    },
    {
      "cell_type": "code",
      "metadata": {
        "id": "QkjrktZ7vtai",
        "colab_type": "code",
        "colab": {}
      },
      "source": [
        "X_train_encoded.iloc[:,51]"
      ],
      "execution_count": 0,
      "outputs": []
    }
  ]
}