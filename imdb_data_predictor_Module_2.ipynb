{
 "cells": [
  {
   "cell_type": "markdown",
   "metadata": {
    "colab_type": "text",
    "id": "kxr8YDPpOq1i"
   },
   "source": [
    "# IMDB Data Storytelling Project\n",
    "\n",
    "IMDb is an incredible dataset. Started by a Usenet group and maintained to this day mostly by volunteer submissions, it contains information about a staggering number of motion pictures, including feature films, TV shows, even video games. And better yet, they offer much of their data in the form of .tsv files! Looking at what data they offered up, I became interested in IMDb user rating behavior."
   ]
  },
  {
   "cell_type": "code",
   "execution_count": 2,
   "metadata": {
    "colab": {},
    "colab_type": "code",
    "id": "6ydAYPcXVDE7",
    "scrolled": true
   },
   "outputs": [],
   "source": [
    "import pandas as pd\n",
    "import numpy as np\n",
    "import matplotlib.pyplot as plt\n",
    "import seaborn as sns\n",
    "from sklearn.pipeline import make_pipeline"
   ]
  },
  {
   "cell_type": "markdown",
   "metadata": {
    "colab_type": "text",
    "id": "Cjzy8vJwwh0p"
   },
   "source": [
    "# Loading Budget/Box Office Data"
   ]
  },
  {
   "cell_type": "code",
   "execution_count": 3,
   "metadata": {
    "colab": {},
    "colab_type": "code",
    "id": "U8EUD1IE53fL"
   },
   "outputs": [],
   "source": [
    "df_movies_top = pd.read_csv('data/df_movies_top.csv')\n",
    "box_office = pd.read_csv('data/Box Office Data - Sheet1 (1).csv', \n",
    "                         names=['Index','Release_Date','Movie','Production_Budget',\n",
    "                                'Domestic_Gross','Worldwide_Gross'],\n",
    "                         index_col='Index')"
   ]
  },
  {
   "cell_type": "code",
   "execution_count": 4,
   "metadata": {},
   "outputs": [
    {
     "data": {
      "text/plain": [
       "(5876, 5)"
      ]
     },
     "execution_count": 4,
     "metadata": {},
     "output_type": "execute_result"
    }
   ],
   "source": [
    "box_office.shape"
   ]
  },
  {
   "cell_type": "code",
   "execution_count": 5,
   "metadata": {
    "colab": {},
    "colab_type": "code",
    "id": "mKSKc-do7w8B"
   },
   "outputs": [],
   "source": [
    "box_office = box_office.drop(np.nan)"
   ]
  },
  {
   "cell_type": "code",
   "execution_count": 6,
   "metadata": {},
   "outputs": [
    {
     "data": {
      "text/plain": [
       "0"
      ]
     },
     "execution_count": 6,
     "metadata": {},
     "output_type": "execute_result"
    }
   ],
   "source": [
    "box_office['Release_dt'] = pd.to_datetime(box_office['Release_Date'], errors='coerce', format='%b %d, %Y')\n",
    "\n",
    "box_office['Release_dt_isna'] = box_office['Release_dt'].isna()\n",
    "\n",
    "box_office = box_office[box_office['Release_dt_isna'] == 0]\n",
    "\n",
    "box_office['Release_dt'].isna().sum()"
   ]
  },
  {
   "cell_type": "code",
   "execution_count": 7,
   "metadata": {
    "colab": {},
    "colab_type": "code",
    "id": "WLw0y8SF6U6y",
    "scrolled": false
   },
   "outputs": [
    {
     "data": {
      "text/html": [
       "<div>\n",
       "<style scoped>\n",
       "    .dataframe tbody tr th:only-of-type {\n",
       "        vertical-align: middle;\n",
       "    }\n",
       "\n",
       "    .dataframe tbody tr th {\n",
       "        vertical-align: top;\n",
       "    }\n",
       "\n",
       "    .dataframe thead th {\n",
       "        text-align: right;\n",
       "    }\n",
       "</style>\n",
       "<table border=\"1\" class=\"dataframe\">\n",
       "  <thead>\n",
       "    <tr style=\"text-align: right;\">\n",
       "      <th></th>\n",
       "      <th>Release_Date</th>\n",
       "      <th>Movie</th>\n",
       "      <th>Production_Budget</th>\n",
       "      <th>Domestic_Gross</th>\n",
       "      <th>Worldwide_Gross</th>\n",
       "      <th>Release_dt</th>\n",
       "      <th>Release_dt_isna</th>\n",
       "    </tr>\n",
       "    <tr>\n",
       "      <th>Index</th>\n",
       "      <th></th>\n",
       "      <th></th>\n",
       "      <th></th>\n",
       "      <th></th>\n",
       "      <th></th>\n",
       "      <th></th>\n",
       "      <th></th>\n",
       "    </tr>\n",
       "  </thead>\n",
       "  <tbody>\n",
       "    <tr>\n",
       "      <th>1,236</th>\n",
       "      <td>Aug 6, 1999</td>\n",
       "      <td>The Thomas Crown Affair</td>\n",
       "      <td>$48,000,000</td>\n",
       "      <td>$69,304,264</td>\n",
       "      <td>$124,304,264</td>\n",
       "      <td>1999-08-06</td>\n",
       "      <td>False</td>\n",
       "    </tr>\n",
       "    <tr>\n",
       "      <th>2,123</th>\n",
       "      <td>Jun 7, 2002</td>\n",
       "      <td>The Divine Secrets of the Ya-Ya Sisterhood</td>\n",
       "      <td>$27,000,000</td>\n",
       "      <td>$69,586,544</td>\n",
       "      <td>$73,826,768</td>\n",
       "      <td>2002-06-07</td>\n",
       "      <td>False</td>\n",
       "    </tr>\n",
       "    <tr>\n",
       "      <th>1,686</th>\n",
       "      <td>Nov 18, 1992</td>\n",
       "      <td>Malcolm X</td>\n",
       "      <td>$35,000,000</td>\n",
       "      <td>$48,169,910</td>\n",
       "      <td>$48,169,910</td>\n",
       "      <td>1992-11-18</td>\n",
       "      <td>False</td>\n",
       "    </tr>\n",
       "    <tr>\n",
       "      <th>1,203</th>\n",
       "      <td>Sep 30, 2005</td>\n",
       "      <td>Into the Blue</td>\n",
       "      <td>$50,000,000</td>\n",
       "      <td>$18,782,227</td>\n",
       "      <td>$41,982,227</td>\n",
       "      <td>2005-09-30</td>\n",
       "      <td>False</td>\n",
       "    </tr>\n",
       "    <tr>\n",
       "      <th>4,537</th>\n",
       "      <td>Jul 11, 2012</td>\n",
       "      <td>Snabba Cash</td>\n",
       "      <td>$4,300,000</td>\n",
       "      <td>$188,870</td>\n",
       "      <td>$10,212,403</td>\n",
       "      <td>2012-07-11</td>\n",
       "      <td>False</td>\n",
       "    </tr>\n",
       "    <tr>\n",
       "      <th>2,193</th>\n",
       "      <td>Dec 16, 1988</td>\n",
       "      <td>Rain Man</td>\n",
       "      <td>$25,000,000</td>\n",
       "      <td>$172,825,435</td>\n",
       "      <td>$412,800,000</td>\n",
       "      <td>1988-12-16</td>\n",
       "      <td>False</td>\n",
       "    </tr>\n",
       "    <tr>\n",
       "      <th>3,172</th>\n",
       "      <td>Sep 9, 2016</td>\n",
       "      <td>The Disappointments Room</td>\n",
       "      <td>$15,000,000</td>\n",
       "      <td>$2,423,467</td>\n",
       "      <td>$3,503,761</td>\n",
       "      <td>2016-09-09</td>\n",
       "      <td>False</td>\n",
       "    </tr>\n",
       "    <tr>\n",
       "      <th>3,412</th>\n",
       "      <td>Jul 9, 2015</td>\n",
       "      <td>Paper Towns</td>\n",
       "      <td>$12,000,000</td>\n",
       "      <td>$32,000,304</td>\n",
       "      <td>$85,450,484</td>\n",
       "      <td>2015-07-09</td>\n",
       "      <td>False</td>\n",
       "    </tr>\n",
       "    <tr>\n",
       "      <th>4,837</th>\n",
       "      <td>Sep 13, 2011</td>\n",
       "      <td>Never Back Down 2: The Beatdown</td>\n",
       "      <td>$3,000,000</td>\n",
       "      <td>$0</td>\n",
       "      <td>$0</td>\n",
       "      <td>2011-09-13</td>\n",
       "      <td>False</td>\n",
       "    </tr>\n",
       "    <tr>\n",
       "      <th>3,270</th>\n",
       "      <td>Oct 27, 2009</td>\n",
       "      <td>Stan Helsing: A Parody</td>\n",
       "      <td>$14,000,000</td>\n",
       "      <td>$0</td>\n",
       "      <td>$1,553,556</td>\n",
       "      <td>2009-10-27</td>\n",
       "      <td>False</td>\n",
       "    </tr>\n",
       "  </tbody>\n",
       "</table>\n",
       "</div>"
      ],
      "text/plain": [
       "       Release_Date                                       Movie  \\\n",
       "Index                                                             \n",
       "1,236   Aug 6, 1999                     The Thomas Crown Affair   \n",
       "2,123   Jun 7, 2002  The Divine Secrets of the Ya-Ya Sisterhood   \n",
       "1,686  Nov 18, 1992                                   Malcolm X   \n",
       "1,203  Sep 30, 2005                               Into the Blue   \n",
       "4,537  Jul 11, 2012                                 Snabba Cash   \n",
       "2,193  Dec 16, 1988                                    Rain Man   \n",
       "3,172   Sep 9, 2016                    The Disappointments Room   \n",
       "3,412   Jul 9, 2015                                 Paper Towns   \n",
       "4,837  Sep 13, 2011             Never Back Down 2: The Beatdown   \n",
       "3,270  Oct 27, 2009                      Stan Helsing: A Parody   \n",
       "\n",
       "      Production_Budget Domestic_Gross Worldwide_Gross Release_dt  \\\n",
       "Index                                                               \n",
       "1,236       $48,000,000    $69,304,264    $124,304,264 1999-08-06   \n",
       "2,123       $27,000,000    $69,586,544     $73,826,768 2002-06-07   \n",
       "1,686       $35,000,000    $48,169,910     $48,169,910 1992-11-18   \n",
       "1,203       $50,000,000    $18,782,227     $41,982,227 2005-09-30   \n",
       "4,537        $4,300,000       $188,870     $10,212,403 2012-07-11   \n",
       "2,193       $25,000,000   $172,825,435    $412,800,000 1988-12-16   \n",
       "3,172       $15,000,000     $2,423,467      $3,503,761 2016-09-09   \n",
       "3,412       $12,000,000    $32,000,304     $85,450,484 2015-07-09   \n",
       "4,837        $3,000,000             $0              $0 2011-09-13   \n",
       "3,270       $14,000,000             $0      $1,553,556 2009-10-27   \n",
       "\n",
       "       Release_dt_isna  \n",
       "Index                   \n",
       "1,236            False  \n",
       "2,123            False  \n",
       "1,686            False  \n",
       "1,203            False  \n",
       "4,537            False  \n",
       "2,193            False  \n",
       "3,172            False  \n",
       "3,412            False  \n",
       "4,837            False  \n",
       "3,270            False  "
      ]
     },
     "execution_count": 7,
     "metadata": {},
     "output_type": "execute_result"
    }
   ],
   "source": [
    "box_office.sample(10)"
   ]
  },
  {
   "cell_type": "code",
   "execution_count": 8,
   "metadata": {
    "colab": {},
    "colab_type": "code",
    "id": "mSNzEiLh8BuH"
   },
   "outputs": [],
   "source": [
    "box_office['Release_Year'] = box_office['Release_dt'].dt.year\n",
    "\n",
    "box_office['Release_Year_str'] = box_office['Release_Year'].apply(str)\n",
    "\n",
    "box_office['Movie_merger'] = box_office['Movie'].str.lower() + ' ' + box_office['Release_Year_str']"
   ]
  },
  {
   "cell_type": "code",
   "execution_count": 9,
   "metadata": {},
   "outputs": [
    {
     "data": {
      "text/html": [
       "<div>\n",
       "<style scoped>\n",
       "    .dataframe tbody tr th:only-of-type {\n",
       "        vertical-align: middle;\n",
       "    }\n",
       "\n",
       "    .dataframe tbody tr th {\n",
       "        vertical-align: top;\n",
       "    }\n",
       "\n",
       "    .dataframe thead th {\n",
       "        text-align: right;\n",
       "    }\n",
       "</style>\n",
       "<table border=\"1\" class=\"dataframe\">\n",
       "  <thead>\n",
       "    <tr style=\"text-align: right;\">\n",
       "      <th></th>\n",
       "      <th>Release_Date</th>\n",
       "      <th>Movie</th>\n",
       "      <th>Production_Budget</th>\n",
       "      <th>Domestic_Gross</th>\n",
       "      <th>Worldwide_Gross</th>\n",
       "      <th>Release_dt</th>\n",
       "      <th>Release_dt_isna</th>\n",
       "      <th>Release_Year</th>\n",
       "      <th>Release_Year_str</th>\n",
       "      <th>Movie_merger</th>\n",
       "    </tr>\n",
       "    <tr>\n",
       "      <th>Index</th>\n",
       "      <th></th>\n",
       "      <th></th>\n",
       "      <th></th>\n",
       "      <th></th>\n",
       "      <th></th>\n",
       "      <th></th>\n",
       "      <th></th>\n",
       "      <th></th>\n",
       "      <th></th>\n",
       "      <th></th>\n",
       "    </tr>\n",
       "  </thead>\n",
       "  <tbody>\n",
       "    <tr>\n",
       "      <th>1</th>\n",
       "      <td>May 20, 2011</td>\n",
       "      <td>Pirates of the Caribbean: On Stranger Tides</td>\n",
       "      <td>$410,600,000</td>\n",
       "      <td>$241,063,875</td>\n",
       "      <td>$1,045,663,875</td>\n",
       "      <td>2011-05-20</td>\n",
       "      <td>False</td>\n",
       "      <td>2011</td>\n",
       "      <td>2011</td>\n",
       "      <td>pirates of the caribbean: on stranger tides 2011</td>\n",
       "    </tr>\n",
       "    <tr>\n",
       "      <th>2</th>\n",
       "      <td>Apr 23, 2019</td>\n",
       "      <td>Avengers: Endgame</td>\n",
       "      <td>$400,000,000</td>\n",
       "      <td>$858,373,000</td>\n",
       "      <td>$2,795,473,000</td>\n",
       "      <td>2019-04-23</td>\n",
       "      <td>False</td>\n",
       "      <td>2019</td>\n",
       "      <td>2019</td>\n",
       "      <td>avengers: endgame 2019</td>\n",
       "    </tr>\n",
       "    <tr>\n",
       "      <th>3</th>\n",
       "      <td>Apr 22, 2015</td>\n",
       "      <td>Avengers: Age of Ultron</td>\n",
       "      <td>$330,600,000</td>\n",
       "      <td>$459,005,868</td>\n",
       "      <td>$1,403,013,963</td>\n",
       "      <td>2015-04-22</td>\n",
       "      <td>False</td>\n",
       "      <td>2015</td>\n",
       "      <td>2015</td>\n",
       "      <td>avengers: age of ultron 2015</td>\n",
       "    </tr>\n",
       "    <tr>\n",
       "      <th>4</th>\n",
       "      <td>Dec 13, 2017</td>\n",
       "      <td>Star Wars Ep. VIII: The Last Jedi</td>\n",
       "      <td>$317,000,000</td>\n",
       "      <td>$620,181,382</td>\n",
       "      <td>$1,316,721,747</td>\n",
       "      <td>2017-12-13</td>\n",
       "      <td>False</td>\n",
       "      <td>2017</td>\n",
       "      <td>2017</td>\n",
       "      <td>star wars ep. viii: the last jedi 2017</td>\n",
       "    </tr>\n",
       "    <tr>\n",
       "      <th>5</th>\n",
       "      <td>Dec 16, 2015</td>\n",
       "      <td>Star Wars Ep. VII: The Force Awakens</td>\n",
       "      <td>$306,000,000</td>\n",
       "      <td>$936,662,225</td>\n",
       "      <td>$2,053,311,220</td>\n",
       "      <td>2015-12-16</td>\n",
       "      <td>False</td>\n",
       "      <td>2015</td>\n",
       "      <td>2015</td>\n",
       "      <td>star wars ep. vii: the force awakens 2015</td>\n",
       "    </tr>\n",
       "  </tbody>\n",
       "</table>\n",
       "</div>"
      ],
      "text/plain": [
       "       Release_Date                                        Movie  \\\n",
       "Index                                                              \n",
       "1      May 20, 2011  Pirates of the Caribbean: On Stranger Tides   \n",
       "2      Apr 23, 2019                            Avengers: Endgame   \n",
       "3      Apr 22, 2015                      Avengers: Age of Ultron   \n",
       "4      Dec 13, 2017            Star Wars Ep. VIII: The Last Jedi   \n",
       "5      Dec 16, 2015         Star Wars Ep. VII: The Force Awakens   \n",
       "\n",
       "      Production_Budget Domestic_Gross Worldwide_Gross Release_dt  \\\n",
       "Index                                                               \n",
       "1          $410,600,000   $241,063,875  $1,045,663,875 2011-05-20   \n",
       "2          $400,000,000   $858,373,000  $2,795,473,000 2019-04-23   \n",
       "3          $330,600,000   $459,005,868  $1,403,013,963 2015-04-22   \n",
       "4          $317,000,000   $620,181,382  $1,316,721,747 2017-12-13   \n",
       "5          $306,000,000   $936,662,225  $2,053,311,220 2015-12-16   \n",
       "\n",
       "       Release_dt_isna  Release_Year Release_Year_str  \\\n",
       "Index                                                   \n",
       "1                False          2011             2011   \n",
       "2                False          2019             2019   \n",
       "3                False          2015             2015   \n",
       "4                False          2017             2017   \n",
       "5                False          2015             2015   \n",
       "\n",
       "                                           Movie_merger  \n",
       "Index                                                    \n",
       "1      pirates of the caribbean: on stranger tides 2011  \n",
       "2                                avengers: endgame 2019  \n",
       "3                          avengers: age of ultron 2015  \n",
       "4                star wars ep. viii: the last jedi 2017  \n",
       "5             star wars ep. vii: the force awakens 2015  "
      ]
     },
     "execution_count": 9,
     "metadata": {},
     "output_type": "execute_result"
    }
   ],
   "source": [
    "box_office.head()"
   ]
  },
  {
   "cell_type": "code",
   "execution_count": 10,
   "metadata": {},
   "outputs": [
    {
     "data": {
      "text/plain": [
       "(5708, 10)"
      ]
     },
     "execution_count": 10,
     "metadata": {},
     "output_type": "execute_result"
    }
   ],
   "source": [
    "box_office.shape"
   ]
  },
  {
   "cell_type": "code",
   "execution_count": 11,
   "metadata": {},
   "outputs": [],
   "source": [
    "df_movies_top['startYear_str'] = df_movies_top['startYear'].apply(str)"
   ]
  },
  {
   "cell_type": "code",
   "execution_count": 12,
   "metadata": {
    "colab": {},
    "colab_type": "code",
    "id": "kj8Pd36M_-C_"
   },
   "outputs": [],
   "source": [
    "df_movies_top['Movie_merger'] = df_movies_top['primaryTitle'].str.lower() + ' ' + df_movies_top['startYear_str']"
   ]
  },
  {
   "cell_type": "code",
   "execution_count": 13,
   "metadata": {
    "colab": {},
    "colab_type": "code",
    "id": "McAm4cDc8eJC",
    "scrolled": false
   },
   "outputs": [
    {
     "data": {
      "text/html": [
       "<div>\n",
       "<style scoped>\n",
       "    .dataframe tbody tr th:only-of-type {\n",
       "        vertical-align: middle;\n",
       "    }\n",
       "\n",
       "    .dataframe tbody tr th {\n",
       "        vertical-align: top;\n",
       "    }\n",
       "\n",
       "    .dataframe thead th {\n",
       "        text-align: right;\n",
       "    }\n",
       "</style>\n",
       "<table border=\"1\" class=\"dataframe\">\n",
       "  <thead>\n",
       "    <tr style=\"text-align: right;\">\n",
       "      <th></th>\n",
       "      <th>Unnamed: 0</th>\n",
       "      <th>tconst</th>\n",
       "      <th>titleType</th>\n",
       "      <th>primaryTitle</th>\n",
       "      <th>originalTitle</th>\n",
       "      <th>startYear</th>\n",
       "      <th>runtimeMinutes</th>\n",
       "      <th>genres</th>\n",
       "      <th>averageRating</th>\n",
       "      <th>numVotes</th>\n",
       "      <th>...</th>\n",
       "      <th>News</th>\n",
       "      <th>Reality-TV</th>\n",
       "      <th>Romance</th>\n",
       "      <th>Sci-Fi</th>\n",
       "      <th>Sport</th>\n",
       "      <th>Thriller</th>\n",
       "      <th>War</th>\n",
       "      <th>Western</th>\n",
       "      <th>startYear_str</th>\n",
       "      <th>Movie_merger</th>\n",
       "    </tr>\n",
       "  </thead>\n",
       "  <tbody>\n",
       "    <tr>\n",
       "      <th>0</th>\n",
       "      <td>0</td>\n",
       "      <td>tt0000147</td>\n",
       "      <td>movie</td>\n",
       "      <td>The Corbett-Fitzsimmons Fight</td>\n",
       "      <td>The Corbett-Fitzsimmons Fight</td>\n",
       "      <td>1897</td>\n",
       "      <td>20.0</td>\n",
       "      <td>Documentary,News,Sport</td>\n",
       "      <td>5.1</td>\n",
       "      <td>309</td>\n",
       "      <td>...</td>\n",
       "      <td>1</td>\n",
       "      <td>0</td>\n",
       "      <td>0</td>\n",
       "      <td>0</td>\n",
       "      <td>1</td>\n",
       "      <td>0</td>\n",
       "      <td>0</td>\n",
       "      <td>0</td>\n",
       "      <td>1897</td>\n",
       "      <td>the corbett-fitzsimmons fight 1897</td>\n",
       "    </tr>\n",
       "    <tr>\n",
       "      <th>1</th>\n",
       "      <td>1</td>\n",
       "      <td>tt0000574</td>\n",
       "      <td>movie</td>\n",
       "      <td>The Story of the Kelly Gang</td>\n",
       "      <td>The Story of the Kelly Gang</td>\n",
       "      <td>1906</td>\n",
       "      <td>70.0</td>\n",
       "      <td>Biography,Crime,Drama</td>\n",
       "      <td>6.1</td>\n",
       "      <td>537</td>\n",
       "      <td>...</td>\n",
       "      <td>0</td>\n",
       "      <td>0</td>\n",
       "      <td>0</td>\n",
       "      <td>0</td>\n",
       "      <td>0</td>\n",
       "      <td>0</td>\n",
       "      <td>0</td>\n",
       "      <td>0</td>\n",
       "      <td>1906</td>\n",
       "      <td>the story of the kelly gang 1906</td>\n",
       "    </tr>\n",
       "    <tr>\n",
       "      <th>2</th>\n",
       "      <td>2</td>\n",
       "      <td>tt0002101</td>\n",
       "      <td>movie</td>\n",
       "      <td>Cleopatra</td>\n",
       "      <td>Cleopatra</td>\n",
       "      <td>1912</td>\n",
       "      <td>100.0</td>\n",
       "      <td>Drama,History</td>\n",
       "      <td>5.2</td>\n",
       "      <td>419</td>\n",
       "      <td>...</td>\n",
       "      <td>0</td>\n",
       "      <td>0</td>\n",
       "      <td>0</td>\n",
       "      <td>0</td>\n",
       "      <td>0</td>\n",
       "      <td>0</td>\n",
       "      <td>0</td>\n",
       "      <td>0</td>\n",
       "      <td>1912</td>\n",
       "      <td>cleopatra 1912</td>\n",
       "    </tr>\n",
       "    <tr>\n",
       "      <th>3</th>\n",
       "      <td>3</td>\n",
       "      <td>tt0002130</td>\n",
       "      <td>movie</td>\n",
       "      <td>Dante's Inferno</td>\n",
       "      <td>L'Inferno</td>\n",
       "      <td>1911</td>\n",
       "      <td>68.0</td>\n",
       "      <td>Adventure,Drama,Fantasy</td>\n",
       "      <td>7.0</td>\n",
       "      <td>2014</td>\n",
       "      <td>...</td>\n",
       "      <td>0</td>\n",
       "      <td>0</td>\n",
       "      <td>0</td>\n",
       "      <td>0</td>\n",
       "      <td>0</td>\n",
       "      <td>0</td>\n",
       "      <td>0</td>\n",
       "      <td>0</td>\n",
       "      <td>1911</td>\n",
       "      <td>dante's inferno 1911</td>\n",
       "    </tr>\n",
       "    <tr>\n",
       "      <th>4</th>\n",
       "      <td>4</td>\n",
       "      <td>tt0002199</td>\n",
       "      <td>movie</td>\n",
       "      <td>From the Manger to the Cross; or, Jesus of Naz...</td>\n",
       "      <td>From the Manger to the Cross; or, Jesus of Naz...</td>\n",
       "      <td>1912</td>\n",
       "      <td>60.0</td>\n",
       "      <td>Biography,Drama</td>\n",
       "      <td>5.7</td>\n",
       "      <td>437</td>\n",
       "      <td>...</td>\n",
       "      <td>0</td>\n",
       "      <td>0</td>\n",
       "      <td>0</td>\n",
       "      <td>0</td>\n",
       "      <td>0</td>\n",
       "      <td>0</td>\n",
       "      <td>0</td>\n",
       "      <td>0</td>\n",
       "      <td>1912</td>\n",
       "      <td>from the manger to the cross; or, jesus of naz...</td>\n",
       "    </tr>\n",
       "  </tbody>\n",
       "</table>\n",
       "<p>5 rows × 40 columns</p>\n",
       "</div>"
      ],
      "text/plain": [
       "   Unnamed: 0     tconst titleType  \\\n",
       "0           0  tt0000147     movie   \n",
       "1           1  tt0000574     movie   \n",
       "2           2  tt0002101     movie   \n",
       "3           3  tt0002130     movie   \n",
       "4           4  tt0002199     movie   \n",
       "\n",
       "                                        primaryTitle  \\\n",
       "0                      The Corbett-Fitzsimmons Fight   \n",
       "1                        The Story of the Kelly Gang   \n",
       "2                                          Cleopatra   \n",
       "3                                    Dante's Inferno   \n",
       "4  From the Manger to the Cross; or, Jesus of Naz...   \n",
       "\n",
       "                                       originalTitle  startYear  \\\n",
       "0                      The Corbett-Fitzsimmons Fight       1897   \n",
       "1                        The Story of the Kelly Gang       1906   \n",
       "2                                          Cleopatra       1912   \n",
       "3                                          L'Inferno       1911   \n",
       "4  From the Manger to the Cross; or, Jesus of Naz...       1912   \n",
       "\n",
       "   runtimeMinutes                   genres  averageRating  numVotes  ...  \\\n",
       "0            20.0   Documentary,News,Sport            5.1       309  ...   \n",
       "1            70.0    Biography,Crime,Drama            6.1       537  ...   \n",
       "2           100.0            Drama,History            5.2       419  ...   \n",
       "3            68.0  Adventure,Drama,Fantasy            7.0      2014  ...   \n",
       "4            60.0          Biography,Drama            5.7       437  ...   \n",
       "\n",
       "   News  Reality-TV  Romance  Sci-Fi  Sport  Thriller  War  Western  \\\n",
       "0     1           0        0       0      1         0    0        0   \n",
       "1     0           0        0       0      0         0    0        0   \n",
       "2     0           0        0       0      0         0    0        0   \n",
       "3     0           0        0       0      0         0    0        0   \n",
       "4     0           0        0       0      0         0    0        0   \n",
       "\n",
       "   startYear_str                                       Movie_merger  \n",
       "0           1897                 the corbett-fitzsimmons fight 1897  \n",
       "1           1906                   the story of the kelly gang 1906  \n",
       "2           1912                                     cleopatra 1912  \n",
       "3           1911                               dante's inferno 1911  \n",
       "4           1912  from the manger to the cross; or, jesus of naz...  \n",
       "\n",
       "[5 rows x 40 columns]"
      ]
     },
     "execution_count": 13,
     "metadata": {},
     "output_type": "execute_result"
    }
   ],
   "source": [
    "df_movies_top.head()"
   ]
  },
  {
   "cell_type": "code",
   "execution_count": 14,
   "metadata": {},
   "outputs": [
    {
     "data": {
      "text/plain": [
       "(59386, 40)"
      ]
     },
     "execution_count": 14,
     "metadata": {},
     "output_type": "execute_result"
    }
   ],
   "source": [
    "df_movies_top.shape"
   ]
  },
  {
   "cell_type": "code",
   "execution_count": 15,
   "metadata": {
    "colab": {
     "base_uri": "https://localhost:8080/",
     "height": 151
    },
    "colab_type": "code",
    "executionInfo": {
     "elapsed": 448,
     "status": "ok",
     "timestamp": 1573534345364,
     "user": {
      "displayName": "Ben V",
      "photoUrl": "https://lh3.googleusercontent.com/a-/AAuE7mAuNKWXf8tHzYYT6GFXrxxb-OhREv_1-fbQkRD8uQ=s64",
      "userId": "07585144120258273502"
     },
     "user_tz": 300
    },
    "id": "AP2FHyJc8kby",
    "outputId": "2187763d-0942-451b-e776-a8957baa503a",
    "scrolled": true
   },
   "outputs": [
    {
     "data": {
      "text/html": [
       "<div>\n",
       "<style scoped>\n",
       "    .dataframe tbody tr th:only-of-type {\n",
       "        vertical-align: middle;\n",
       "    }\n",
       "\n",
       "    .dataframe tbody tr th {\n",
       "        vertical-align: top;\n",
       "    }\n",
       "\n",
       "    .dataframe thead th {\n",
       "        text-align: right;\n",
       "    }\n",
       "</style>\n",
       "<table border=\"1\" class=\"dataframe\">\n",
       "  <thead>\n",
       "    <tr style=\"text-align: right;\">\n",
       "      <th></th>\n",
       "      <th>Unnamed: 0</th>\n",
       "      <th>tconst</th>\n",
       "      <th>titleType</th>\n",
       "      <th>primaryTitle</th>\n",
       "      <th>originalTitle</th>\n",
       "      <th>startYear</th>\n",
       "      <th>runtimeMinutes</th>\n",
       "      <th>genres</th>\n",
       "      <th>averageRating</th>\n",
       "      <th>numVotes</th>\n",
       "      <th>...</th>\n",
       "      <th>News</th>\n",
       "      <th>Reality-TV</th>\n",
       "      <th>Romance</th>\n",
       "      <th>Sci-Fi</th>\n",
       "      <th>Sport</th>\n",
       "      <th>Thriller</th>\n",
       "      <th>War</th>\n",
       "      <th>Western</th>\n",
       "      <th>startYear_str</th>\n",
       "      <th>Movie_merger</th>\n",
       "    </tr>\n",
       "  </thead>\n",
       "  <tbody>\n",
       "    <tr>\n",
       "      <th>38544</th>\n",
       "      <td>38544</td>\n",
       "      <td>tt1298650</td>\n",
       "      <td>movie</td>\n",
       "      <td>Pirates of the Caribbean: On Stranger Tides</td>\n",
       "      <td>Pirates of the Caribbean: On Stranger Tides</td>\n",
       "      <td>2011</td>\n",
       "      <td>136.0</td>\n",
       "      <td>Action,Adventure,Fantasy</td>\n",
       "      <td>6.6</td>\n",
       "      <td>455834</td>\n",
       "      <td>...</td>\n",
       "      <td>0</td>\n",
       "      <td>0</td>\n",
       "      <td>0</td>\n",
       "      <td>0</td>\n",
       "      <td>0</td>\n",
       "      <td>0</td>\n",
       "      <td>0</td>\n",
       "      <td>0</td>\n",
       "      <td>2011</td>\n",
       "      <td>pirates of the caribbean: on stranger tides 2011</td>\n",
       "    </tr>\n",
       "  </tbody>\n",
       "</table>\n",
       "<p>1 rows × 40 columns</p>\n",
       "</div>"
      ],
      "text/plain": [
       "       Unnamed: 0     tconst titleType  \\\n",
       "38544       38544  tt1298650     movie   \n",
       "\n",
       "                                      primaryTitle  \\\n",
       "38544  Pirates of the Caribbean: On Stranger Tides   \n",
       "\n",
       "                                     originalTitle  startYear  runtimeMinutes  \\\n",
       "38544  Pirates of the Caribbean: On Stranger Tides       2011           136.0   \n",
       "\n",
       "                         genres  averageRating  numVotes  ...  News  \\\n",
       "38544  Action,Adventure,Fantasy            6.6    455834  ...     0   \n",
       "\n",
       "       Reality-TV  Romance  Sci-Fi  Sport  Thriller  War  Western  \\\n",
       "38544           0        0       0      0         0    0        0   \n",
       "\n",
       "       startYear_str                                      Movie_merger  \n",
       "38544           2011  pirates of the caribbean: on stranger tides 2011  \n",
       "\n",
       "[1 rows x 40 columns]"
      ]
     },
     "execution_count": 15,
     "metadata": {},
     "output_type": "execute_result"
    }
   ],
   "source": [
    "# Looks like this technique will work for most of my titles.\n",
    "# Gotta remember, worst case scenario, I just have to manually match the titles\n",
    "# in the original .csv for box_office\n",
    "\n",
    "df_movies_top[df_movies_top['primaryTitle'].str.contains('on stranger tides', case=False)]"
   ]
  },
  {
   "cell_type": "code",
   "execution_count": 16,
   "metadata": {
    "scrolled": false
   },
   "outputs": [],
   "source": [
    "merged = pd.merge(df_movies_top, box_office, how='left')"
   ]
  },
  {
   "cell_type": "code",
   "execution_count": 17,
   "metadata": {
    "scrolled": true
   },
   "outputs": [
    {
     "data": {
      "text/html": [
       "<div>\n",
       "<style scoped>\n",
       "    .dataframe tbody tr th:only-of-type {\n",
       "        vertical-align: middle;\n",
       "    }\n",
       "\n",
       "    .dataframe tbody tr th {\n",
       "        vertical-align: top;\n",
       "    }\n",
       "\n",
       "    .dataframe thead th {\n",
       "        text-align: right;\n",
       "    }\n",
       "</style>\n",
       "<table border=\"1\" class=\"dataframe\">\n",
       "  <thead>\n",
       "    <tr style=\"text-align: right;\">\n",
       "      <th></th>\n",
       "      <th>Unnamed: 0</th>\n",
       "      <th>tconst</th>\n",
       "      <th>titleType</th>\n",
       "      <th>primaryTitle</th>\n",
       "      <th>originalTitle</th>\n",
       "      <th>startYear</th>\n",
       "      <th>runtimeMinutes</th>\n",
       "      <th>genres</th>\n",
       "      <th>averageRating</th>\n",
       "      <th>numVotes</th>\n",
       "      <th>...</th>\n",
       "      <th>Movie_merger</th>\n",
       "      <th>Release_Date</th>\n",
       "      <th>Movie</th>\n",
       "      <th>Production_Budget</th>\n",
       "      <th>Domestic_Gross</th>\n",
       "      <th>Worldwide_Gross</th>\n",
       "      <th>Release_dt</th>\n",
       "      <th>Release_dt_isna</th>\n",
       "      <th>Release_Year</th>\n",
       "      <th>Release_Year_str</th>\n",
       "    </tr>\n",
       "  </thead>\n",
       "  <tbody>\n",
       "    <tr>\n",
       "      <th>0</th>\n",
       "      <td>0</td>\n",
       "      <td>tt0000147</td>\n",
       "      <td>movie</td>\n",
       "      <td>The Corbett-Fitzsimmons Fight</td>\n",
       "      <td>The Corbett-Fitzsimmons Fight</td>\n",
       "      <td>1897</td>\n",
       "      <td>20.0</td>\n",
       "      <td>Documentary,News,Sport</td>\n",
       "      <td>5.1</td>\n",
       "      <td>309</td>\n",
       "      <td>...</td>\n",
       "      <td>the corbett-fitzsimmons fight 1897</td>\n",
       "      <td>NaN</td>\n",
       "      <td>NaN</td>\n",
       "      <td>NaN</td>\n",
       "      <td>NaN</td>\n",
       "      <td>NaN</td>\n",
       "      <td>NaT</td>\n",
       "      <td>NaN</td>\n",
       "      <td>NaN</td>\n",
       "      <td>NaN</td>\n",
       "    </tr>\n",
       "    <tr>\n",
       "      <th>1</th>\n",
       "      <td>1</td>\n",
       "      <td>tt0000574</td>\n",
       "      <td>movie</td>\n",
       "      <td>The Story of the Kelly Gang</td>\n",
       "      <td>The Story of the Kelly Gang</td>\n",
       "      <td>1906</td>\n",
       "      <td>70.0</td>\n",
       "      <td>Biography,Crime,Drama</td>\n",
       "      <td>6.1</td>\n",
       "      <td>537</td>\n",
       "      <td>...</td>\n",
       "      <td>the story of the kelly gang 1906</td>\n",
       "      <td>NaN</td>\n",
       "      <td>NaN</td>\n",
       "      <td>NaN</td>\n",
       "      <td>NaN</td>\n",
       "      <td>NaN</td>\n",
       "      <td>NaT</td>\n",
       "      <td>NaN</td>\n",
       "      <td>NaN</td>\n",
       "      <td>NaN</td>\n",
       "    </tr>\n",
       "    <tr>\n",
       "      <th>2</th>\n",
       "      <td>2</td>\n",
       "      <td>tt0002101</td>\n",
       "      <td>movie</td>\n",
       "      <td>Cleopatra</td>\n",
       "      <td>Cleopatra</td>\n",
       "      <td>1912</td>\n",
       "      <td>100.0</td>\n",
       "      <td>Drama,History</td>\n",
       "      <td>5.2</td>\n",
       "      <td>419</td>\n",
       "      <td>...</td>\n",
       "      <td>cleopatra 1912</td>\n",
       "      <td>NaN</td>\n",
       "      <td>NaN</td>\n",
       "      <td>NaN</td>\n",
       "      <td>NaN</td>\n",
       "      <td>NaN</td>\n",
       "      <td>NaT</td>\n",
       "      <td>NaN</td>\n",
       "      <td>NaN</td>\n",
       "      <td>NaN</td>\n",
       "    </tr>\n",
       "    <tr>\n",
       "      <th>3</th>\n",
       "      <td>3</td>\n",
       "      <td>tt0002130</td>\n",
       "      <td>movie</td>\n",
       "      <td>Dante's Inferno</td>\n",
       "      <td>L'Inferno</td>\n",
       "      <td>1911</td>\n",
       "      <td>68.0</td>\n",
       "      <td>Adventure,Drama,Fantasy</td>\n",
       "      <td>7.0</td>\n",
       "      <td>2014</td>\n",
       "      <td>...</td>\n",
       "      <td>dante's inferno 1911</td>\n",
       "      <td>NaN</td>\n",
       "      <td>NaN</td>\n",
       "      <td>NaN</td>\n",
       "      <td>NaN</td>\n",
       "      <td>NaN</td>\n",
       "      <td>NaT</td>\n",
       "      <td>NaN</td>\n",
       "      <td>NaN</td>\n",
       "      <td>NaN</td>\n",
       "    </tr>\n",
       "    <tr>\n",
       "      <th>4</th>\n",
       "      <td>4</td>\n",
       "      <td>tt0002199</td>\n",
       "      <td>movie</td>\n",
       "      <td>From the Manger to the Cross; or, Jesus of Naz...</td>\n",
       "      <td>From the Manger to the Cross; or, Jesus of Naz...</td>\n",
       "      <td>1912</td>\n",
       "      <td>60.0</td>\n",
       "      <td>Biography,Drama</td>\n",
       "      <td>5.7</td>\n",
       "      <td>437</td>\n",
       "      <td>...</td>\n",
       "      <td>from the manger to the cross; or, jesus of naz...</td>\n",
       "      <td>NaN</td>\n",
       "      <td>NaN</td>\n",
       "      <td>NaN</td>\n",
       "      <td>NaN</td>\n",
       "      <td>NaN</td>\n",
       "      <td>NaT</td>\n",
       "      <td>NaN</td>\n",
       "      <td>NaN</td>\n",
       "      <td>NaN</td>\n",
       "    </tr>\n",
       "  </tbody>\n",
       "</table>\n",
       "<p>5 rows × 49 columns</p>\n",
       "</div>"
      ],
      "text/plain": [
       "   Unnamed: 0     tconst titleType  \\\n",
       "0           0  tt0000147     movie   \n",
       "1           1  tt0000574     movie   \n",
       "2           2  tt0002101     movie   \n",
       "3           3  tt0002130     movie   \n",
       "4           4  tt0002199     movie   \n",
       "\n",
       "                                        primaryTitle  \\\n",
       "0                      The Corbett-Fitzsimmons Fight   \n",
       "1                        The Story of the Kelly Gang   \n",
       "2                                          Cleopatra   \n",
       "3                                    Dante's Inferno   \n",
       "4  From the Manger to the Cross; or, Jesus of Naz...   \n",
       "\n",
       "                                       originalTitle  startYear  \\\n",
       "0                      The Corbett-Fitzsimmons Fight       1897   \n",
       "1                        The Story of the Kelly Gang       1906   \n",
       "2                                          Cleopatra       1912   \n",
       "3                                          L'Inferno       1911   \n",
       "4  From the Manger to the Cross; or, Jesus of Naz...       1912   \n",
       "\n",
       "   runtimeMinutes                   genres  averageRating  numVotes  ...  \\\n",
       "0            20.0   Documentary,News,Sport            5.1       309  ...   \n",
       "1            70.0    Biography,Crime,Drama            6.1       537  ...   \n",
       "2           100.0            Drama,History            5.2       419  ...   \n",
       "3            68.0  Adventure,Drama,Fantasy            7.0      2014  ...   \n",
       "4            60.0          Biography,Drama            5.7       437  ...   \n",
       "\n",
       "                                        Movie_merger  Release_Date  Movie  \\\n",
       "0                 the corbett-fitzsimmons fight 1897           NaN    NaN   \n",
       "1                   the story of the kelly gang 1906           NaN    NaN   \n",
       "2                                     cleopatra 1912           NaN    NaN   \n",
       "3                               dante's inferno 1911           NaN    NaN   \n",
       "4  from the manger to the cross; or, jesus of naz...           NaN    NaN   \n",
       "\n",
       "   Production_Budget  Domestic_Gross  Worldwide_Gross  Release_dt  \\\n",
       "0                NaN             NaN              NaN         NaT   \n",
       "1                NaN             NaN              NaN         NaT   \n",
       "2                NaN             NaN              NaN         NaT   \n",
       "3                NaN             NaN              NaN         NaT   \n",
       "4                NaN             NaN              NaN         NaT   \n",
       "\n",
       "   Release_dt_isna  Release_Year  Release_Year_str  \n",
       "0              NaN           NaN               NaN  \n",
       "1              NaN           NaN               NaN  \n",
       "2              NaN           NaN               NaN  \n",
       "3              NaN           NaN               NaN  \n",
       "4              NaN           NaN               NaN  \n",
       "\n",
       "[5 rows x 49 columns]"
      ]
     },
     "execution_count": 17,
     "metadata": {},
     "output_type": "execute_result"
    }
   ],
   "source": [
    "merged.head()"
   ]
  },
  {
   "cell_type": "code",
   "execution_count": 18,
   "metadata": {},
   "outputs": [],
   "source": [
    "# Remove missing box office data\n",
    "gross_not_nan = merged['Domestic_Gross'].isna()-1\n",
    "\n",
    "box_office = merged[(merged['Domestic_Gross'] != '$0') & gross_not_nan]"
   ]
  },
  {
   "cell_type": "code",
   "execution_count": 19,
   "metadata": {},
   "outputs": [],
   "source": [
    "# Select desired columns\n",
    "box_office = box_office[['primaryTitle', 'averageRating',\n",
    "       'runtimeNumber', 'Action', 'Adventure',\n",
    "       'Animation', 'Biography', 'Comedy', 'Crime', 'Documentary', 'Drama',\n",
    "       'Family', 'Fantasy', 'History', 'Horror',\n",
    "       'Music', 'Musical', 'Mystery', 'News', 'Romance',\n",
    "       'Sci-Fi', 'Sport', 'Thriller', 'War', 'Western', 'Production_Budget',\n",
    "       'Worldwide_Gross', 'Release_dt']]"
   ]
  },
  {
   "cell_type": "code",
   "execution_count": 20,
   "metadata": {},
   "outputs": [],
   "source": [
    "# Convert budget/box office info to numeric\n",
    "box_office['Production_Budget_Number'] = pd.to_numeric(box_office['Production_Budget'].apply(lambda x: x.strip('$')).str.replace(',',''))\n",
    "box_office['Worldwide_Gross_Number'] = pd.to_numeric(box_office['Worldwide_Gross'].apply(lambda x: x.strip('$')).str.replace(',',''))"
   ]
  },
  {
   "cell_type": "code",
   "execution_count": 21,
   "metadata": {},
   "outputs": [],
   "source": [
    "# Remove duplicate of Waltz With Bashir\n",
    "box_office['duplicated'] = box_office.duplicated(subset=['primaryTitle', 'Release_dt', 'runtimeNumber'], keep='first')\n",
    "box_office = box_office[box_office['duplicated'] == 0]"
   ]
  },
  {
   "cell_type": "code",
   "execution_count": 22,
   "metadata": {},
   "outputs": [],
   "source": [
    "# Consider including only movies released since 1980?\n",
    "# Let's just agree now that inflation is a problem here, and hope that excluding older movies mitigates the problem somewhat\n",
    "box_office = box_office[box_office['Release_dt'].dt.year >= 1980]"
   ]
  },
  {
   "cell_type": "code",
   "execution_count": 23,
   "metadata": {},
   "outputs": [
    {
     "data": {
      "text/plain": [
       "(3912, 28)"
      ]
     },
     "execution_count": 23,
     "metadata": {},
     "output_type": "execute_result"
    }
   ],
   "source": [
    "# Fix last few duplicate columns\n",
    "box_office = box_office.drop(columns=['Production_Budget', 'Worldwide_Gross', 'duplicated'])\n",
    "box_office.shape"
   ]
  },
  {
   "cell_type": "code",
   "execution_count": 24,
   "metadata": {},
   "outputs": [],
   "source": [
    "box_office.to_csv('box_office.csv')"
   ]
  },
  {
   "cell_type": "markdown",
   "metadata": {},
   "source": [
    "box_office is the dataset that we'll be working with. <3"
   ]
  },
  {
   "cell_type": "markdown",
   "metadata": {},
   "source": [
    "# Data Exploration"
   ]
  },
  {
   "cell_type": "code",
   "execution_count": 25,
   "metadata": {},
   "outputs": [],
   "source": [
    "import pandas_profiling"
   ]
  },
  {
   "cell_type": "code",
   "execution_count": 26,
   "metadata": {},
   "outputs": [],
   "source": [
    "# profile = box_office.profile_report()"
   ]
  },
  {
   "cell_type": "code",
   "execution_count": 27,
   "metadata": {
    "scrolled": false
   },
   "outputs": [],
   "source": [
    "# profile"
   ]
  },
  {
   "cell_type": "code",
   "execution_count": 28,
   "metadata": {},
   "outputs": [
    {
     "data": {
      "text/plain": [
       "(3912, 28)"
      ]
     },
     "execution_count": 28,
     "metadata": {},
     "output_type": "execute_result"
    }
   ],
   "source": [
    "box_office.shape"
   ]
  },
  {
   "cell_type": "code",
   "execution_count": 29,
   "metadata": {},
   "outputs": [
    {
     "data": {
      "text/html": [
       "<div>\n",
       "<style scoped>\n",
       "    .dataframe tbody tr th:only-of-type {\n",
       "        vertical-align: middle;\n",
       "    }\n",
       "\n",
       "    .dataframe tbody tr th {\n",
       "        vertical-align: top;\n",
       "    }\n",
       "\n",
       "    .dataframe thead th {\n",
       "        text-align: right;\n",
       "    }\n",
       "</style>\n",
       "<table border=\"1\" class=\"dataframe\">\n",
       "  <thead>\n",
       "    <tr style=\"text-align: right;\">\n",
       "      <th></th>\n",
       "      <th>primaryTitle</th>\n",
       "      <th>averageRating</th>\n",
       "      <th>runtimeNumber</th>\n",
       "      <th>Action</th>\n",
       "      <th>Adventure</th>\n",
       "      <th>Animation</th>\n",
       "      <th>Biography</th>\n",
       "      <th>Comedy</th>\n",
       "      <th>Crime</th>\n",
       "      <th>Documentary</th>\n",
       "      <th>...</th>\n",
       "      <th>News</th>\n",
       "      <th>Romance</th>\n",
       "      <th>Sci-Fi</th>\n",
       "      <th>Sport</th>\n",
       "      <th>Thriller</th>\n",
       "      <th>War</th>\n",
       "      <th>Western</th>\n",
       "      <th>Release_dt</th>\n",
       "      <th>Production_Budget_Number</th>\n",
       "      <th>Worldwide_Gross_Number</th>\n",
       "    </tr>\n",
       "  </thead>\n",
       "  <tbody>\n",
       "    <tr>\n",
       "      <th>12397</th>\n",
       "      <td>Airplane!</td>\n",
       "      <td>7.7</td>\n",
       "      <td>88.0</td>\n",
       "      <td>0</td>\n",
       "      <td>0</td>\n",
       "      <td>0</td>\n",
       "      <td>0</td>\n",
       "      <td>1</td>\n",
       "      <td>0</td>\n",
       "      <td>0</td>\n",
       "      <td>...</td>\n",
       "      <td>0</td>\n",
       "      <td>0</td>\n",
       "      <td>0</td>\n",
       "      <td>0</td>\n",
       "      <td>0</td>\n",
       "      <td>0</td>\n",
       "      <td>0</td>\n",
       "      <td>1980-07-04</td>\n",
       "      <td>3500000</td>\n",
       "      <td>83453539</td>\n",
       "    </tr>\n",
       "    <tr>\n",
       "      <th>12427</th>\n",
       "      <td>The Blue Lagoon</td>\n",
       "      <td>5.8</td>\n",
       "      <td>104.0</td>\n",
       "      <td>0</td>\n",
       "      <td>1</td>\n",
       "      <td>0</td>\n",
       "      <td>0</td>\n",
       "      <td>0</td>\n",
       "      <td>0</td>\n",
       "      <td>0</td>\n",
       "      <td>...</td>\n",
       "      <td>0</td>\n",
       "      <td>1</td>\n",
       "      <td>0</td>\n",
       "      <td>0</td>\n",
       "      <td>0</td>\n",
       "      <td>0</td>\n",
       "      <td>0</td>\n",
       "      <td>1980-06-20</td>\n",
       "      <td>4500000</td>\n",
       "      <td>47923795</td>\n",
       "    </tr>\n",
       "    <tr>\n",
       "      <th>12428</th>\n",
       "      <td>The Blues Brothers</td>\n",
       "      <td>7.9</td>\n",
       "      <td>133.0</td>\n",
       "      <td>0</td>\n",
       "      <td>1</td>\n",
       "      <td>0</td>\n",
       "      <td>0</td>\n",
       "      <td>1</td>\n",
       "      <td>1</td>\n",
       "      <td>0</td>\n",
       "      <td>...</td>\n",
       "      <td>0</td>\n",
       "      <td>0</td>\n",
       "      <td>0</td>\n",
       "      <td>0</td>\n",
       "      <td>0</td>\n",
       "      <td>0</td>\n",
       "      <td>0</td>\n",
       "      <td>1980-06-20</td>\n",
       "      <td>27000000</td>\n",
       "      <td>57229890</td>\n",
       "    </tr>\n",
       "    <tr>\n",
       "      <th>12440</th>\n",
       "      <td>Caddyshack</td>\n",
       "      <td>7.3</td>\n",
       "      <td>98.0</td>\n",
       "      <td>0</td>\n",
       "      <td>0</td>\n",
       "      <td>0</td>\n",
       "      <td>0</td>\n",
       "      <td>1</td>\n",
       "      <td>0</td>\n",
       "      <td>0</td>\n",
       "      <td>...</td>\n",
       "      <td>0</td>\n",
       "      <td>0</td>\n",
       "      <td>0</td>\n",
       "      <td>1</td>\n",
       "      <td>0</td>\n",
       "      <td>0</td>\n",
       "      <td>0</td>\n",
       "      <td>1980-07-25</td>\n",
       "      <td>6000000</td>\n",
       "      <td>39846344</td>\n",
       "    </tr>\n",
       "    <tr>\n",
       "      <th>12444</th>\n",
       "      <td>Can't Stop the Music</td>\n",
       "      <td>4.1</td>\n",
       "      <td>124.0</td>\n",
       "      <td>0</td>\n",
       "      <td>0</td>\n",
       "      <td>0</td>\n",
       "      <td>1</td>\n",
       "      <td>1</td>\n",
       "      <td>0</td>\n",
       "      <td>0</td>\n",
       "      <td>...</td>\n",
       "      <td>0</td>\n",
       "      <td>0</td>\n",
       "      <td>0</td>\n",
       "      <td>0</td>\n",
       "      <td>0</td>\n",
       "      <td>0</td>\n",
       "      <td>0</td>\n",
       "      <td>1980-06-20</td>\n",
       "      <td>20000000</td>\n",
       "      <td>2000000</td>\n",
       "    </tr>\n",
       "  </tbody>\n",
       "</table>\n",
       "<p>5 rows × 28 columns</p>\n",
       "</div>"
      ],
      "text/plain": [
       "               primaryTitle  averageRating  runtimeNumber  Action  Adventure  \\\n",
       "12397             Airplane!            7.7           88.0       0          0   \n",
       "12427       The Blue Lagoon            5.8          104.0       0          1   \n",
       "12428    The Blues Brothers            7.9          133.0       0          1   \n",
       "12440            Caddyshack            7.3           98.0       0          0   \n",
       "12444  Can't Stop the Music            4.1          124.0       0          0   \n",
       "\n",
       "       Animation  Biography  Comedy  Crime  Documentary  ...  News  Romance  \\\n",
       "12397          0          0       1      0            0  ...     0        0   \n",
       "12427          0          0       0      0            0  ...     0        1   \n",
       "12428          0          0       1      1            0  ...     0        0   \n",
       "12440          0          0       1      0            0  ...     0        0   \n",
       "12444          0          1       1      0            0  ...     0        0   \n",
       "\n",
       "       Sci-Fi  Sport  Thriller  War  Western  Release_dt  \\\n",
       "12397       0      0         0    0        0  1980-07-04   \n",
       "12427       0      0         0    0        0  1980-06-20   \n",
       "12428       0      0         0    0        0  1980-06-20   \n",
       "12440       0      1         0    0        0  1980-07-25   \n",
       "12444       0      0         0    0        0  1980-06-20   \n",
       "\n",
       "       Production_Budget_Number  Worldwide_Gross_Number  \n",
       "12397                   3500000                83453539  \n",
       "12427                   4500000                47923795  \n",
       "12428                  27000000                57229890  \n",
       "12440                   6000000                39846344  \n",
       "12444                  20000000                 2000000  \n",
       "\n",
       "[5 rows x 28 columns]"
      ]
     },
     "execution_count": 29,
     "metadata": {},
     "output_type": "execute_result"
    }
   ],
   "source": [
    "box_office.head()"
   ]
  },
  {
   "cell_type": "code",
   "execution_count": 30,
   "metadata": {},
   "outputs": [],
   "source": [
    "target = 'Worldwide_Gross_Number'\n",
    "y_log = np.log1p(box_office[target])"
   ]
  },
  {
   "cell_type": "code",
   "execution_count": 31,
   "metadata": {},
   "outputs": [
    {
     "data": {
      "text/plain": [
       "Text(0.5, 1.0, 'Worldwide Gross, in US Dollars')"
      ]
     },
     "execution_count": 31,
     "metadata": {},
     "output_type": "execute_result"
    },
    {
     "data": {
      "image/png": "[encoded data removed]",
      "text/plain": [
       "<Figure size 576x396 with 1 Axes>"
      ]
     },
     "metadata": {},
     "output_type": "display_data"
    }
   ],
   "source": [
    "sns.distplot(box_office[target])\n",
    "plt.title('Worldwide Gross, in US Dollars')"
   ]
  },
  {
   "cell_type": "code",
   "execution_count": 32,
   "metadata": {},
   "outputs": [
    {
     "data": {
      "text/plain": [
       "Text(0.5, 1.0, 'Worldwide Gross, in log-dollars')"
      ]
     },
     "execution_count": 32,
     "metadata": {},
     "output_type": "execute_result"
    },
    {
     "data": {
      "image/png": "[encoded data removed]",
      "text/plain": [
       "<Figure size 576x396 with 1 Axes>"
      ]
     },
     "metadata": {},
     "output_type": "display_data"
    }
   ],
   "source": [
    "sns.distplot(y_log)\n",
    "plt.title('Worldwide Gross, in log-dollars')"
   ]
  },
  {
   "cell_type": "code",
   "execution_count": 33,
   "metadata": {},
   "outputs": [],
   "source": [
    "box_office['gross_log'] = y_log"
   ]
  },
  {
   "cell_type": "code",
   "execution_count": 34,
   "metadata": {},
   "outputs": [],
   "source": [
    "box_office['release_year'] = box_office['Release_dt'].dt.year\n",
    "box_office['release_month'] = box_office['Release_dt'].dt.month"
   ]
  },
  {
   "cell_type": "code",
   "execution_count": 35,
   "metadata": {},
   "outputs": [],
   "source": [
    "# Train/Validate/Test split by year\n",
    "train = box_office[box_office['Release_dt'].dt.year < 2009]\n",
    "val = box_office[(box_office['Release_dt'].dt.year < 2014) & (box_office['Release_dt'].dt.year >= 2009)]\n",
    "test = box_office[box_office['Release_dt'].dt.year >= 2014]"
   ]
  },
  {
   "cell_type": "code",
   "execution_count": 36,
   "metadata": {},
   "outputs": [],
   "source": [
    "target = 'gross_log'"
   ]
  },
  {
   "cell_type": "code",
   "execution_count": 37,
   "metadata": {},
   "outputs": [
    {
     "data": {
      "text/plain": [
       "(2354, 31)"
      ]
     },
     "execution_count": 37,
     "metadata": {},
     "output_type": "execute_result"
    }
   ],
   "source": [
    "train.shape"
   ]
  },
  {
   "cell_type": "code",
   "execution_count": 38,
   "metadata": {},
   "outputs": [
    {
     "data": {
      "text/plain": [
       "(792, 31)"
      ]
     },
     "execution_count": 38,
     "metadata": {},
     "output_type": "execute_result"
    }
   ],
   "source": [
    "val.shape"
   ]
  },
  {
   "cell_type": "code",
   "execution_count": 39,
   "metadata": {},
   "outputs": [
    {
     "data": {
      "text/plain": [
       "(766, 31)"
      ]
     },
     "execution_count": 39,
     "metadata": {},
     "output_type": "execute_result"
    }
   ],
   "source": [
    "test.shape"
   ]
  },
  {
   "cell_type": "code",
   "execution_count": 40,
   "metadata": {},
   "outputs": [
    {
     "data": {
      "text/plain": [
       "3912"
      ]
     },
     "execution_count": 40,
     "metadata": {},
     "output_type": "execute_result"
    }
   ],
   "source": [
    "2354 + 792 + 766\n",
    "# My train/validate/test split appears to have worked!"
   ]
  },
  {
   "cell_type": "code",
   "execution_count": 41,
   "metadata": {},
   "outputs": [],
   "source": [
    "# Make averageRating categorical"
   ]
  },
  {
   "cell_type": "code",
   "execution_count": 42,
   "metadata": {},
   "outputs": [
    {
     "data": {
      "text/plain": [
       "17.25923402478346"
      ]
     },
     "execution_count": 42,
     "metadata": {},
     "output_type": "execute_result"
    }
   ],
   "source": [
    "# Mean worldwide gross in log-dollars\n",
    "train[target].mean()"
   ]
  },
  {
   "cell_type": "code",
   "execution_count": 43,
   "metadata": {},
   "outputs": [],
   "source": [
    "import math\n",
    "from sklearn.metrics import mean_squared_error\n",
    "\n",
    "# Baseline? What's my mean?\n",
    "y_mean = train[target].mean()\n",
    "\n",
    "# What's my mean squared error if I always guess the mean?\n",
    "y_pred = pd.Series(y_mean for _ in range(len(val[target])))\n",
    "mse = mean_squared_error(val[target], y_pred)"
   ]
  },
  {
   "cell_type": "code",
   "execution_count": 44,
   "metadata": {},
   "outputs": [
    {
     "data": {
      "text/plain": [
       "4.555124292593721"
      ]
     },
     "execution_count": 44,
     "metadata": {},
     "output_type": "execute_result"
    }
   ],
   "source": [
    "# Mean squared error for mean baseline = 4.55 log-dollars\n",
    "mse"
   ]
  },
  {
   "cell_type": "code",
   "execution_count": 45,
   "metadata": {},
   "outputs": [
    {
     "data": {
      "text/plain": [
       "94.11857703553248"
      ]
     },
     "execution_count": 45,
     "metadata": {},
     "output_type": "execute_result"
    }
   ],
   "source": [
    "# Does this give me the MSE in dollars? Seems impossibly close...\n",
    "np.expm1(mse)"
   ]
  },
  {
   "cell_type": "code",
   "execution_count": 48,
   "metadata": {},
   "outputs": [],
   "source": [
    "X_train = train.drop(columns=[target, 'Worldwide_Gross_Number', 'Release_dt', 'primaryTitle'])\n",
    "y_train = train[target]\n",
    "X_val = val.drop(columns=[target, 'Worldwide_Gross_Number', 'Release_dt', 'primaryTitle'])\n",
    "y_val = val[target]\n",
    "X_test = test.drop(columns=[target, 'Worldwide_Gross_Number', 'Release_dt', 'primaryTitle'])\n",
    "y_test = test[target]"
   ]
  },
  {
   "cell_type": "code",
   "execution_count": 49,
   "metadata": {},
   "outputs": [
    {
     "data": {
      "text/html": [
       "<div>\n",
       "<style scoped>\n",
       "    .dataframe tbody tr th:only-of-type {\n",
       "        vertical-align: middle;\n",
       "    }\n",
       "\n",
       "    .dataframe tbody tr th {\n",
       "        vertical-align: top;\n",
       "    }\n",
       "\n",
       "    .dataframe thead th {\n",
       "        text-align: right;\n",
       "    }\n",
       "</style>\n",
       "<table border=\"1\" class=\"dataframe\">\n",
       "  <thead>\n",
       "    <tr style=\"text-align: right;\">\n",
       "      <th></th>\n",
       "      <th>averageRating</th>\n",
       "      <th>runtimeNumber</th>\n",
       "      <th>Action</th>\n",
       "      <th>Adventure</th>\n",
       "      <th>Animation</th>\n",
       "      <th>Biography</th>\n",
       "      <th>Comedy</th>\n",
       "      <th>Crime</th>\n",
       "      <th>Documentary</th>\n",
       "      <th>Drama</th>\n",
       "      <th>...</th>\n",
       "      <th>News</th>\n",
       "      <th>Romance</th>\n",
       "      <th>Sci-Fi</th>\n",
       "      <th>Sport</th>\n",
       "      <th>Thriller</th>\n",
       "      <th>War</th>\n",
       "      <th>Western</th>\n",
       "      <th>Production_Budget_Number</th>\n",
       "      <th>release_year</th>\n",
       "      <th>release_month</th>\n",
       "    </tr>\n",
       "  </thead>\n",
       "  <tbody>\n",
       "    <tr>\n",
       "      <th>12397</th>\n",
       "      <td>7.7</td>\n",
       "      <td>88.0</td>\n",
       "      <td>0</td>\n",
       "      <td>0</td>\n",
       "      <td>0</td>\n",
       "      <td>0</td>\n",
       "      <td>1</td>\n",
       "      <td>0</td>\n",
       "      <td>0</td>\n",
       "      <td>0</td>\n",
       "      <td>...</td>\n",
       "      <td>0</td>\n",
       "      <td>0</td>\n",
       "      <td>0</td>\n",
       "      <td>0</td>\n",
       "      <td>0</td>\n",
       "      <td>0</td>\n",
       "      <td>0</td>\n",
       "      <td>3500000</td>\n",
       "      <td>1980</td>\n",
       "      <td>7</td>\n",
       "    </tr>\n",
       "    <tr>\n",
       "      <th>12427</th>\n",
       "      <td>5.8</td>\n",
       "      <td>104.0</td>\n",
       "      <td>0</td>\n",
       "      <td>1</td>\n",
       "      <td>0</td>\n",
       "      <td>0</td>\n",
       "      <td>0</td>\n",
       "      <td>0</td>\n",
       "      <td>0</td>\n",
       "      <td>1</td>\n",
       "      <td>...</td>\n",
       "      <td>0</td>\n",
       "      <td>1</td>\n",
       "      <td>0</td>\n",
       "      <td>0</td>\n",
       "      <td>0</td>\n",
       "      <td>0</td>\n",
       "      <td>0</td>\n",
       "      <td>4500000</td>\n",
       "      <td>1980</td>\n",
       "      <td>6</td>\n",
       "    </tr>\n",
       "    <tr>\n",
       "      <th>12428</th>\n",
       "      <td>7.9</td>\n",
       "      <td>133.0</td>\n",
       "      <td>0</td>\n",
       "      <td>1</td>\n",
       "      <td>0</td>\n",
       "      <td>0</td>\n",
       "      <td>1</td>\n",
       "      <td>1</td>\n",
       "      <td>0</td>\n",
       "      <td>0</td>\n",
       "      <td>...</td>\n",
       "      <td>0</td>\n",
       "      <td>0</td>\n",
       "      <td>0</td>\n",
       "      <td>0</td>\n",
       "      <td>0</td>\n",
       "      <td>0</td>\n",
       "      <td>0</td>\n",
       "      <td>27000000</td>\n",
       "      <td>1980</td>\n",
       "      <td>6</td>\n",
       "    </tr>\n",
       "    <tr>\n",
       "      <th>12440</th>\n",
       "      <td>7.3</td>\n",
       "      <td>98.0</td>\n",
       "      <td>0</td>\n",
       "      <td>0</td>\n",
       "      <td>0</td>\n",
       "      <td>0</td>\n",
       "      <td>1</td>\n",
       "      <td>0</td>\n",
       "      <td>0</td>\n",
       "      <td>0</td>\n",
       "      <td>...</td>\n",
       "      <td>0</td>\n",
       "      <td>0</td>\n",
       "      <td>0</td>\n",
       "      <td>1</td>\n",
       "      <td>0</td>\n",
       "      <td>0</td>\n",
       "      <td>0</td>\n",
       "      <td>6000000</td>\n",
       "      <td>1980</td>\n",
       "      <td>7</td>\n",
       "    </tr>\n",
       "    <tr>\n",
       "      <th>12444</th>\n",
       "      <td>4.1</td>\n",
       "      <td>124.0</td>\n",
       "      <td>0</td>\n",
       "      <td>0</td>\n",
       "      <td>0</td>\n",
       "      <td>1</td>\n",
       "      <td>1</td>\n",
       "      <td>0</td>\n",
       "      <td>0</td>\n",
       "      <td>0</td>\n",
       "      <td>...</td>\n",
       "      <td>0</td>\n",
       "      <td>0</td>\n",
       "      <td>0</td>\n",
       "      <td>0</td>\n",
       "      <td>0</td>\n",
       "      <td>0</td>\n",
       "      <td>0</td>\n",
       "      <td>20000000</td>\n",
       "      <td>1980</td>\n",
       "      <td>6</td>\n",
       "    </tr>\n",
       "  </tbody>\n",
       "</table>\n",
       "<p>5 rows × 27 columns</p>\n",
       "</div>"
      ],
      "text/plain": [
       "       averageRating  runtimeNumber  Action  Adventure  Animation  Biography  \\\n",
       "12397            7.7           88.0       0          0          0          0   \n",
       "12427            5.8          104.0       0          1          0          0   \n",
       "12428            7.9          133.0       0          1          0          0   \n",
       "12440            7.3           98.0       0          0          0          0   \n",
       "12444            4.1          124.0       0          0          0          1   \n",
       "\n",
       "       Comedy  Crime  Documentary  Drama  ...  News  Romance  Sci-Fi  Sport  \\\n",
       "12397       1      0            0      0  ...     0        0       0      0   \n",
       "12427       0      0            0      1  ...     0        1       0      0   \n",
       "12428       1      1            0      0  ...     0        0       0      0   \n",
       "12440       1      0            0      0  ...     0        0       0      1   \n",
       "12444       1      0            0      0  ...     0        0       0      0   \n",
       "\n",
       "       Thriller  War  Western  Production_Budget_Number  release_year  \\\n",
       "12397         0    0        0                   3500000          1980   \n",
       "12427         0    0        0                   4500000          1980   \n",
       "12428         0    0        0                  27000000          1980   \n",
       "12440         0    0        0                   6000000          1980   \n",
       "12444         0    0        0                  20000000          1980   \n",
       "\n",
       "       release_month  \n",
       "12397              7  \n",
       "12427              6  \n",
       "12428              6  \n",
       "12440              7  \n",
       "12444              6  \n",
       "\n",
       "[5 rows x 27 columns]"
      ]
     },
     "execution_count": 49,
     "metadata": {},
     "output_type": "execute_result"
    }
   ],
   "source": [
    "X_train.head()"
   ]
  },
  {
   "cell_type": "code",
   "execution_count": 50,
   "metadata": {},
   "outputs": [
    {
     "data": {
      "text/plain": [
       "12397    18.239801\n",
       "12427    17.685123\n",
       "12428    17.862587\n",
       "12440    17.500541\n",
       "12444    14.508658\n",
       "Name: gross_log, dtype: float64"
      ]
     },
     "execution_count": 50,
     "metadata": {},
     "output_type": "execute_result"
    }
   ],
   "source": [
    "y_train.head()"
   ]
  },
  {
   "cell_type": "markdown",
   "metadata": {},
   "source": [
    "# Fitting xgboost Model"
   ]
  },
  {
   "cell_type": "code",
   "execution_count": 51,
   "metadata": {},
   "outputs": [],
   "source": [
    "from xgboost import XGBRegressor"
   ]
  },
  {
   "cell_type": "code",
   "execution_count": 82,
   "metadata": {},
   "outputs": [
    {
     "name": "stderr",
     "output_type": "stream",
     "text": [
      "c:\\users\\ben\\anaconda3\\envs\\unit2\\lib\\site-packages\\xgboost\\core.py:587: FutureWarning: Series.base is deprecated and will be removed in a future version\n",
      "  if getattr(data, 'base', None) is not None and \\\n",
      "c:\\users\\ben\\anaconda3\\envs\\unit2\\lib\\site-packages\\xgboost\\core.py:588: FutureWarning: Series.base is deprecated and will be removed in a future version\n",
      "  data.base is not None and isinstance(data, np.ndarray) \\\n"
     ]
    },
    {
     "name": "stdout",
     "output_type": "stream",
     "text": [
      "[15:40:25] WARNING: src/objective/regression_obj.cu:152: reg:linear is now deprecated in favor of reg:squarederror.\n"
     ]
    },
    {
     "data": {
      "text/plain": [
       "XGBRegressor(base_score=0.5, booster='gbtree', colsample_bylevel=1,\n",
       "             colsample_bynode=1, colsample_bytree=1, gamma=0,\n",
       "             importance_type='gain', learning_rate=0.1, max_delta_step=0,\n",
       "             max_depth=3, min_child_weight=1, missing=None, n_estimators=100,\n",
       "             n_jobs=-1, nthread=None, objective='reg:linear', random_state=0,\n",
       "             reg_alpha=0, reg_lambda=1, scale_pos_weight=1, seed=None,\n",
       "             silent=None, subsample=1, verbosity=1)"
      ]
     },
     "execution_count": 82,
     "metadata": {},
     "output_type": "execute_result"
    }
   ],
   "source": [
    "model = XGBRegressor(n_estimators=100, n_jobs=-1)\n",
    "model.fit(X_train, y_train)"
   ]
  },
  {
   "cell_type": "code",
   "execution_count": 83,
   "metadata": {},
   "outputs": [],
   "source": [
    "y_pred = model.predict(X_val)"
   ]
  },
  {
   "cell_type": "code",
   "execution_count": 84,
   "metadata": {},
   "outputs": [
    {
     "data": {
      "text/plain": [
       "array([18.855772 , 17.236538 , 19.099909 , 19.181389 , 16.888264 ,\n",
       "       17.654638 , 18.348654 , 17.568031 , 18.723486 , 17.918226 ,\n",
       "       18.703749 , 20.242363 , 19.58417  , 19.485094 , 20.40959  ,\n",
       "       18.587494 , 19.582497 , 17.345297 , 18.866325 , 18.99305  ,\n",
       "       20.45397  , 19.371696 , 19.948149 , 18.269978 , 19.405952 ,\n",
       "       18.098692 , 19.16975  , 17.559944 , 17.930069 , 17.844542 ,\n",
       "       19.39551  , 17.689877 , 18.954664 , 19.953949 , 19.974693 ,\n",
       "       17.476555 , 17.779871 , 16.223938 , 18.92922  , 18.158033 ,\n",
       "       19.052073 , 16.564947 , 18.571293 , 17.047836 , 18.610182 ,\n",
       "       19.086021 , 17.814013 , 17.770967 , 17.588985 , 18.629917 ,\n",
       "       19.56387  , 17.611357 , 17.606354 , 17.389536 , 16.979492 ,\n",
       "       20.17907  , 17.424574 , 18.3099   , 17.60978  , 17.476173 ,\n",
       "       17.947586 , 17.03928  , 20.218927 , 18.095654 , 17.40466  ,\n",
       "       17.149233 , 19.513737 , 18.369555 , 18.888477 , 17.986551 ,\n",
       "       17.93408  , 16.738174 , 14.252883 , 18.734491 , 19.21841  ,\n",
       "       15.160306 , 20.099693 , 19.101479 , 19.576532 , 16.059895 ,\n",
       "       20.059752 , 18.195238 , 15.635988 , 17.774975 , 17.105593 ,\n",
       "       19.195599 , 16.827932 , 17.511728 , 17.30273  , 18.674322 ,\n",
       "       20.247692 , 17.882458 , 18.445812 , 18.367702 , 18.50772  ,\n",
       "       19.2986   , 17.919151 , 16.189922 , 19.144495 , 15.056001 ,\n",
       "       17.451622 , 19.95577  , 19.61688  , 14.738075 , 17.212933 ,\n",
       "       17.561668 , 14.507115 , 18.123255 , 18.12681  , 13.865288 ,\n",
       "       18.014961 , 17.451237 , 16.530033 , 16.66735  , 16.89527  ,\n",
       "       18.399225 , 17.425879 , 17.727818 , 19.838346 , 19.369486 ,\n",
       "       19.854553 , 17.521875 , 16.287418 , 17.906784 , 20.292383 ,\n",
       "       17.863201 , 16.896408 , 15.455954 , 19.148088 , 19.6453   ,\n",
       "       18.306826 , 17.801086 , 19.14628  , 20.185541 , 16.465294 ,\n",
       "       19.339684 , 17.697084 , 17.934303 , 19.713808 , 17.270351 ,\n",
       "       19.734385 , 18.894915 , 16.462364 , 17.82055  , 16.970306 ,\n",
       "       17.651402 , 18.641415 , 16.910667 , 19.399672 , 16.288631 ,\n",
       "       18.412916 , 19.5514   , 15.6120825, 18.997808 , 17.727554 ,\n",
       "       19.708754 , 16.766666 , 17.919756 , 19.72476  , 15.948707 ,\n",
       "       19.44903  , 19.364439 , 19.58209  , 15.812758 , 16.335693 ,\n",
       "       16.048424 , 15.941279 , 16.218166 , 18.328333 , 17.701654 ,\n",
       "       17.931744 , 17.10827  , 17.630981 , 17.743198 , 17.235813 ,\n",
       "       18.901632 , 17.328173 , 18.198254 , 18.130863 , 18.14289  ,\n",
       "       18.254932 , 17.879337 , 19.385397 , 17.70096  , 20.38241  ,\n",
       "       18.004011 , 17.938673 , 18.05641  , 17.223124 , 19.680784 ,\n",
       "       18.157352 , 17.076113 , 18.025524 , 17.50047  , 16.804703 ,\n",
       "       19.984232 , 18.268917 , 17.532059 , 19.760849 , 18.146532 ,\n",
       "       19.735924 , 17.9891   , 19.566143 , 16.968924 , 18.091879 ,\n",
       "       16.491013 , 18.274519 , 16.33488  , 17.354467 , 15.914029 ,\n",
       "       16.891186 , 13.982303 , 17.105764 , 16.909441 , 18.59661  ,\n",
       "       12.529902 , 19.679882 , 13.748065 , 15.67461  , 19.3148   ,\n",
       "       17.25115  , 17.556938 , 18.837128 , 15.424775 , 17.346802 ,\n",
       "       16.46339  , 17.883194 , 17.624147 , 18.342627 , 17.313793 ,\n",
       "       12.46013  , 17.109732 , 16.635124 , 19.852312 , 17.026825 ,\n",
       "       19.588104 , 17.710434 , 18.433964 , 17.845934 , 18.51463  ,\n",
       "       18.631945 , 16.906462 , 16.764011 , 16.636282 , 18.023306 ,\n",
       "       18.287958 , 17.680964 , 18.236507 , 15.329458 , 16.628971 ,\n",
       "       14.568358 , 18.756584 , 16.986116 , 18.688173 , 17.974775 ,\n",
       "       18.435432 , 17.05682  , 16.059664 , 17.612574 , 20.17907  ,\n",
       "       15.545427 , 16.614132 , 14.863934 , 16.4263   , 16.56298  ,\n",
       "       17.653748 , 17.708523 , 18.53132  , 17.222273 , 17.457232 ,\n",
       "       17.326876 , 16.975203 , 16.346256 , 15.918111 , 16.376339 ,\n",
       "       18.09667  , 18.163366 , 17.230076 , 18.175245 , 19.35619  ,\n",
       "       19.617832 , 18.13386  , 17.39327  , 19.44802  , 16.140028 ,\n",
       "       15.955541 , 18.187605 , 16.919542 , 18.229122 , 16.51284  ,\n",
       "       15.790013 , 16.832056 , 18.628212 , 19.052542 , 17.583302 ,\n",
       "       17.040514 , 16.183035 , 18.284567 , 19.934446 , 13.961586 ,\n",
       "       18.48212  , 17.603857 , 17.762272 , 17.530176 , 17.684649 ,\n",
       "       19.64686  , 17.511728 , 20.159786 , 17.815166 , 19.090532 ,\n",
       "       16.270878 , 15.096475 , 15.612268 , 15.497885 , 18.36355  ,\n",
       "       18.757322 , 15.535946 , 18.130194 , 16.35897  , 18.327787 ,\n",
       "       20.106821 , 17.472998 , 18.251951 , 17.676575 , 18.5867   ,\n",
       "       17.821932 , 18.409986 , 17.859194 , 17.244118 , 18.833538 ,\n",
       "       17.349257 , 16.619448 , 18.07074  , 13.701508 , 15.753504 ,\n",
       "       17.472214 , 18.130608 , 14.917326 , 18.747206 , 17.616226 ,\n",
       "       16.587797 , 18.226194 , 18.606392 , 18.644205 , 15.272357 ,\n",
       "       17.986874 , 16.149454 , 16.612583 , 17.140747 , 18.38855  ,\n",
       "       18.111227 , 16.274132 , 16.745998 , 16.49858  , 17.249674 ,\n",
       "       17.057253 , 20.229734 , 18.641764 , 17.924467 , 16.716614 ,\n",
       "       17.682402 , 19.935003 , 18.606827 , 16.059895 , 17.3267   ,\n",
       "       18.060364 , 18.5465   , 17.549322 , 12.843651 , 18.246744 ,\n",
       "       16.87229  , 18.426748 , 20.104607 , 19.67231  , 20.14339  ,\n",
       "       17.714386 , 15.091218 , 16.97092  , 19.02148  , 16.913187 ,\n",
       "       16.37041  , 14.300998 , 16.329645 , 17.563171 , 15.449219 ,\n",
       "       16.992878 , 15.7994   , 19.19475  , 13.490285 , 19.009556 ,\n",
       "       18.392931 , 17.25521  , 17.059412 , 18.361685 , 17.792126 ,\n",
       "       17.728802 , 19.450716 , 18.258873 , 17.35294  , 15.898899 ,\n",
       "       17.775982 , 15.253794 , 16.682432 , 17.971333 , 19.038485 ,\n",
       "       18.316301 , 15.980635 , 17.191284 , 16.385033 , 20.011883 ,\n",
       "       18.474031 , 20.515976 , 19.421371 , 15.943495 , 17.644182 ,\n",
       "       17.043245 , 18.909946 , 16.574453 , 17.872707 , 20.4947   ,\n",
       "       18.692865 , 16.192745 , 18.608477 , 17.704874 , 16.445278 ,\n",
       "       19.060444 , 19.232199 , 18.683422 , 14.515723 , 16.80303  ,\n",
       "       19.125183 , 17.477118 , 19.016874 , 17.919952 , 18.735966 ,\n",
       "       19.905523 , 16.15108  , 18.341011 , 19.146114 , 18.25759  ,\n",
       "       17.11787  , 16.58671  , 16.787382 , 20.30845  , 20.13404  ,\n",
       "       17.803415 , 17.603662 , 15.661022 , 19.08242  , 18.402729 ,\n",
       "       17.4204   , 17.0252   , 16.240437 , 15.582106 , 16.67084  ,\n",
       "       18.182915 , 16.48176  , 18.267319 , 19.51041  , 19.438778 ,\n",
       "       17.626738 , 18.826218 , 16.847124 , 16.861559 , 16.901146 ,\n",
       "       15.820881 , 19.46041  , 17.968433 , 18.169737 , 19.224    ,\n",
       "       16.463827 , 14.955133 , 16.42363  , 19.697737 , 19.80506  ,\n",
       "       18.334892 , 18.448767 , 20.159786 , 18.446045 , 19.087542 ,\n",
       "       18.5019   , 17.83082  , 17.483921 , 14.642586 , 15.329264 ,\n",
       "       17.77844  , 17.245642 , 17.944689 , 16.458853 , 13.928986 ,\n",
       "       16.501934 , 18.435766 , 16.768757 , 19.432144 , 15.495073 ,\n",
       "       18.224913 , 17.617348 , 14.324233 , 18.428122 , 16.192015 ,\n",
       "       15.506215 , 18.478392 , 18.047226 , 16.292507 , 17.357098 ,\n",
       "       19.607603 , 17.868134 , 16.613089 , 17.477562 , 17.119091 ,\n",
       "       16.06673  , 16.602507 , 16.37939  , 18.802444 , 18.448244 ,\n",
       "       17.500704 , 16.18134  , 14.440487 , 16.897783 , 18.47407  ,\n",
       "       16.690115 , 13.972198 , 17.55825  , 17.17566  , 17.906368 ,\n",
       "       14.983106 , 18.143797 , 16.864138 , 16.27569  , 17.913054 ,\n",
       "       17.708975 , 11.787615 , 12.246618 , 14.337019 , 17.190247 ,\n",
       "       17.620502 , 19.089544 , 15.6421995, 14.488029 , 18.424278 ,\n",
       "       19.283945 , 18.560986 , 14.65775  , 16.540312 , 17.364561 ,\n",
       "       16.4317   , 18.108616 , 15.682894 , 17.583523 , 18.991236 ,\n",
       "       17.592274 , 17.045218 , 18.570608 , 16.390257 , 16.949703 ,\n",
       "       19.600626 , 16.916739 , 18.893942 , 17.055883 , 17.938433 ,\n",
       "       17.837374 , 19.380419 , 17.388432 , 15.530421 , 14.520535 ,\n",
       "       16.981232 , 15.972062 , 18.663689 , 18.971844 , 18.833773 ,\n",
       "       17.77004  , 15.05027  , 18.709047 , 18.025702 , 15.236092 ,\n",
       "       17.72752  , 17.175102 , 15.207263 , 18.071854 , 16.96873  ,\n",
       "       17.750132 , 17.963621 , 19.606096 , 18.83178  , 16.247314 ,\n",
       "       14.943081 , 16.968874 , 15.1437645, 18.287958 , 17.095398 ,\n",
       "       14.655402 , 18.000343 , 16.783022 , 17.647848 , 15.115725 ,\n",
       "       19.053036 , 13.875742 , 15.773469 , 14.853981 , 15.713693 ,\n",
       "       19.070858 , 19.088572 , 18.000343 , 18.201286 , 17.341873 ,\n",
       "       18.953188 , 17.889435 , 15.934706 , 17.70451  , 17.906784 ,\n",
       "       17.41208  , 18.016762 , 17.559486 , 17.559929 , 17.556469 ,\n",
       "       16.473106 , 20.16271  , 16.810484 , 14.82377  , 18.65745  ,\n",
       "       19.467112 , 19.23503  , 15.950507 , 16.866013 , 16.751957 ,\n",
       "       16.567286 , 13.211168 , 14.4753475, 19.364048 , 17.858082 ,\n",
       "       17.412424 , 11.78177  , 16.730043 , 15.164393 , 17.650093 ,\n",
       "       17.127907 , 16.387028 , 18.05089  , 18.74451  , 16.622313 ,\n",
       "       17.67862  , 17.323904 , 15.672107 , 13.789025 , 15.486552 ,\n",
       "       17.247671 , 15.036328 , 18.20246  , 16.394268 , 16.705013 ,\n",
       "       16.402178 , 19.008373 , 19.299742 , 17.012175 , 16.805208 ,\n",
       "       18.047527 , 17.208597 , 16.607494 , 13.569597 , 13.480641 ,\n",
       "       12.983284 , 13.731068 , 17.937622 , 14.674202 , 15.948332 ,\n",
       "       16.139694 , 19.194742 , 14.805903 , 15.352394 , 20.23011  ,\n",
       "       14.365305 , 15.62099  , 17.714079 , 14.74174  , 17.041658 ,\n",
       "       18.418715 , 18.758568 , 12.335599 , 17.530836 , 18.010471 ,\n",
       "       17.7128   , 16.438763 , 18.587236 , 17.688463 , 19.303408 ,\n",
       "       17.207035 , 16.721508 , 14.627638 , 15.918757 , 19.918613 ,\n",
       "       18.94994  , 17.40466  , 18.163021 , 14.5662985, 17.361963 ,\n",
       "       19.592535 , 14.451662 , 15.241634 , 16.032366 , 16.49805  ,\n",
       "       15.930566 , 17.303553 , 17.96876  , 13.394191 , 17.851097 ,\n",
       "       16.601336 , 15.747578 , 13.233867 , 15.631448 , 15.417192 ,\n",
       "       15.784881 , 16.912064 , 17.516954 , 17.164696 , 17.347563 ,\n",
       "       19.559578 , 12.995333 , 18.336872 , 17.23272  , 19.609322 ,\n",
       "       17.622028 , 18.520542 , 15.234077 , 12.905766 , 14.9316435,\n",
       "       16.767765 , 18.97652  , 15.632271 , 17.737953 , 17.441727 ,\n",
       "       17.319302 , 17.684017 , 16.179008 , 14.58206  , 17.497105 ,\n",
       "       13.4769745, 17.911873 , 16.943768 , 18.635342 , 16.142132 ,\n",
       "       16.751087 , 17.954828 , 17.510088 , 14.849725 , 14.215183 ,\n",
       "       15.84135  , 18.014292 , 15.073769 , 16.365685 , 17.45905  ,\n",
       "       15.53915  , 16.477438 , 13.920031 , 12.729913 , 18.609276 ,\n",
       "       16.630514 , 17.337345 , 16.418129 , 16.545496 , 13.399954 ,\n",
       "       14.966973 , 18.792713 , 13.56735  , 13.002556 , 12.537436 ,\n",
       "       20.000328 , 18.830172 , 17.488882 , 17.416786 , 15.396221 ,\n",
       "       14.171431 , 17.5639   , 19.546984 , 15.884985 , 13.774848 ,\n",
       "       16.34132  , 17.31165  , 15.096222 , 17.11041  , 15.080801 ,\n",
       "       16.013916 , 15.073459 , 15.458068 , 17.643652 , 18.540321 ,\n",
       "       17.43224  , 15.83896  , 15.712507 , 14.426947 , 14.75707  ,\n",
       "       15.341306 , 17.575958 ], dtype=float32)"
      ]
     },
     "execution_count": 84,
     "metadata": {},
     "output_type": "execute_result"
    }
   ],
   "source": [
    "y_pred"
   ]
  },
  {
   "cell_type": "code",
   "execution_count": 85,
   "metadata": {},
   "outputs": [
    {
     "data": {
      "text/plain": [
       "1.7927310383055173"
      ]
     },
     "execution_count": 85,
     "metadata": {},
     "output_type": "execute_result"
    }
   ],
   "source": [
    "mse = mean_squared_error(y_val, y_pred)\n",
    "mse"
   ]
  },
  {
   "cell_type": "code",
   "execution_count": 86,
   "metadata": {},
   "outputs": [
    {
     "data": {
      "text/plain": [
       "1.226353408765509"
      ]
     },
     "execution_count": 86,
     "metadata": {},
     "output_type": "execute_result"
    }
   ],
   "source": [
    "mean_squared_error(y_train, model.predict(X_train))"
   ]
  },
  {
   "cell_type": "code",
   "execution_count": 87,
   "metadata": {},
   "outputs": [
    {
     "data": {
      "text/plain": [
       "5.005832247221522"
      ]
     },
     "execution_count": 87,
     "metadata": {},
     "output_type": "execute_result"
    }
   ],
   "source": [
    "# MSE for XGBRegressor = 1.79 log-dollars\n",
    "np.expm1(mse)"
   ]
  },
  {
   "cell_type": "markdown",
   "metadata": {},
   "source": [
    "# Get Permutation Importances for XGBoost model"
   ]
  },
  {
   "cell_type": "code",
   "execution_count": 62,
   "metadata": {},
   "outputs": [
    {
     "data": {
      "text/plain": [
       "PermutationImportance(cv='prefit',\n",
       "                      estimator=XGBRegressor(base_score=0.5, booster='gbtree',\n",
       "                                             colsample_bylevel=1,\n",
       "                                             colsample_bynode=1,\n",
       "                                             colsample_bytree=1, gamma=0,\n",
       "                                             importance_type='gain',\n",
       "                                             learning_rate=0.1,\n",
       "                                             max_delta_step=0, max_depth=3,\n",
       "                                             min_child_weight=1, missing=None,\n",
       "                                             n_estimators=100, n_jobs=-1,\n",
       "                                             nthread=None,\n",
       "                                             objective='reg:linear',\n",
       "                                             random_state=0, reg_alpha=0,\n",
       "                                             reg_lambda=1, scale_pos_weight=1,\n",
       "                                             seed=None, silent=None,\n",
       "                                             subsample=1, verbosity=1),\n",
       "                      n_iter=5, random_state=None, refit=True,\n",
       "                      scoring='neg_mean_squared_error')"
      ]
     },
     "execution_count": 62,
     "metadata": {},
     "output_type": "execute_result"
    }
   ],
   "source": [
    "import eli5\n",
    "from eli5.sklearn import PermutationImportance\n",
    "# Model already fit with train data\n",
    "permuter = PermutationImportance(\n",
    "    model,\n",
    "    scoring='neg_mean_squared_error',\n",
    "    n_iter=5\n",
    ")\n",
    "permuter.fit(X_val, y_val)"
   ]
  },
  {
   "cell_type": "code",
   "execution_count": 63,
   "metadata": {},
   "outputs": [
    {
     "data": {
      "text/plain": [
       "array([ 4.63787171e-01, -6.12995440e-02,  0.00000000e+00,  0.00000000e+00,\n",
       "       -1.76271017e-04,  6.13678569e-02,  1.14873610e-02,  9.97868735e-03,\n",
       "       -1.79583045e-04,  7.39170331e-02,  1.56307841e-03,  5.36864187e-04,\n",
       "        1.08871621e-02,  4.35531603e-02,  1.43862503e-03,  8.98251603e-04,\n",
       "        2.54902881e-02, -2.02185383e-03, -2.69360976e-03,  1.84270623e-03,\n",
       "        1.56052619e-04, -8.51598539e-04,  5.04592938e-02,  1.45898559e-03,\n",
       "        4.16436608e+00,  0.00000000e+00,  8.12829735e-02])"
      ]
     },
     "execution_count": 63,
     "metadata": {},
     "output_type": "execute_result"
    }
   ],
   "source": [
    "permuter.feature_importances_"
   ]
  },
  {
   "cell_type": "code",
   "execution_count": 64,
   "metadata": {},
   "outputs": [
    {
     "data": {
      "text/html": [
       "\n",
       "    <style>\n",
       "    table.eli5-weights tr:hover {\n",
       "        filter: brightness(85%);\n",
       "    }\n",
       "</style>\n",
       "\n",
       "\n",
       "\n",
       "    \n",
       "\n",
       "    \n",
       "\n",
       "    \n",
       "\n",
       "    \n",
       "\n",
       "    \n",
       "\n",
       "    \n",
       "\n",
       "\n",
       "    \n",
       "\n",
       "    \n",
       "\n",
       "    \n",
       "\n",
       "    \n",
       "\n",
       "    \n",
       "\n",
       "    \n",
       "\n",
       "\n",
       "    \n",
       "\n",
       "    \n",
       "\n",
       "    \n",
       "\n",
       "    \n",
       "\n",
       "    \n",
       "        <table class=\"eli5-weights eli5-feature-importances\" style=\"border-collapse: collapse; border: none; margin-top: 0em; table-layout: auto;\">\n",
       "    <thead>\n",
       "    <tr style=\"border: none;\">\n",
       "        <th style=\"padding: 0 1em 0 0.5em; text-align: right; border: none;\">Weight</th>\n",
       "        <th style=\"padding: 0 0.5em 0 0.5em; text-align: left; border: none;\">Feature</th>\n",
       "    </tr>\n",
       "    </thead>\n",
       "    <tbody>\n",
       "    \n",
       "        <tr style=\"background-color: hsl(120, 100.00%, 80.00%); border: none;\">\n",
       "            <td style=\"padding: 0 1em 0 0.5em; text-align: right; border: none;\">\n",
       "                4.1644\n",
       "                \n",
       "                    &plusmn; 0.3209\n",
       "                \n",
       "            </td>\n",
       "            <td style=\"padding: 0 0.5em 0 0.5em; text-align: left; border: none;\">\n",
       "                Production_Budget_Number\n",
       "            </td>\n",
       "        </tr>\n",
       "    \n",
       "        <tr style=\"background-color: hsl(120, 100.00%, 95.70%); border: none;\">\n",
       "            <td style=\"padding: 0 1em 0 0.5em; text-align: right; border: none;\">\n",
       "                0.4638\n",
       "                \n",
       "                    &plusmn; 0.1246\n",
       "                \n",
       "            </td>\n",
       "            <td style=\"padding: 0 0.5em 0 0.5em; text-align: left; border: none;\">\n",
       "                averageRating\n",
       "            </td>\n",
       "        </tr>\n",
       "    \n",
       "        <tr style=\"background-color: hsl(120, 100.00%, 98.73%); border: none;\">\n",
       "            <td style=\"padding: 0 1em 0 0.5em; text-align: right; border: none;\">\n",
       "                0.0813\n",
       "                \n",
       "                    &plusmn; 0.0334\n",
       "                \n",
       "            </td>\n",
       "            <td style=\"padding: 0 0.5em 0 0.5em; text-align: left; border: none;\">\n",
       "                release_month\n",
       "            </td>\n",
       "        </tr>\n",
       "    \n",
       "        <tr style=\"background-color: hsl(120, 100.00%, 98.81%); border: none;\">\n",
       "            <td style=\"padding: 0 1em 0 0.5em; text-align: right; border: none;\">\n",
       "                0.0739\n",
       "                \n",
       "                    &plusmn; 0.0153\n",
       "                \n",
       "            </td>\n",
       "            <td style=\"padding: 0 0.5em 0 0.5em; text-align: left; border: none;\">\n",
       "                Drama\n",
       "            </td>\n",
       "        </tr>\n",
       "    \n",
       "        <tr style=\"background-color: hsl(120, 100.00%, 98.96%); border: none;\">\n",
       "            <td style=\"padding: 0 1em 0 0.5em; text-align: right; border: none;\">\n",
       "                0.0614\n",
       "                \n",
       "                    &plusmn; 0.0390\n",
       "                \n",
       "            </td>\n",
       "            <td style=\"padding: 0 0.5em 0 0.5em; text-align: left; border: none;\">\n",
       "                Biography\n",
       "            </td>\n",
       "        </tr>\n",
       "    \n",
       "        <tr style=\"background-color: hsl(120, 100.00%, 99.09%); border: none;\">\n",
       "            <td style=\"padding: 0 1em 0 0.5em; text-align: right; border: none;\">\n",
       "                0.0505\n",
       "                \n",
       "                    &plusmn; 0.0277\n",
       "                \n",
       "            </td>\n",
       "            <td style=\"padding: 0 0.5em 0 0.5em; text-align: left; border: none;\">\n",
       "                War\n",
       "            </td>\n",
       "        </tr>\n",
       "    \n",
       "        <tr style=\"background-color: hsl(120, 100.00%, 99.18%); border: none;\">\n",
       "            <td style=\"padding: 0 1em 0 0.5em; text-align: right; border: none;\">\n",
       "                0.0436\n",
       "                \n",
       "                    &plusmn; 0.0269\n",
       "                \n",
       "            </td>\n",
       "            <td style=\"padding: 0 0.5em 0 0.5em; text-align: left; border: none;\">\n",
       "                Horror\n",
       "            </td>\n",
       "        </tr>\n",
       "    \n",
       "        <tr style=\"background-color: hsl(120, 100.00%, 99.44%); border: none;\">\n",
       "            <td style=\"padding: 0 1em 0 0.5em; text-align: right; border: none;\">\n",
       "                0.0255\n",
       "                \n",
       "                    &plusmn; 0.0056\n",
       "                \n",
       "            </td>\n",
       "            <td style=\"padding: 0 0.5em 0 0.5em; text-align: left; border: none;\">\n",
       "                Mystery\n",
       "            </td>\n",
       "        </tr>\n",
       "    \n",
       "        <tr style=\"background-color: hsl(120, 100.00%, 99.68%); border: none;\">\n",
       "            <td style=\"padding: 0 1em 0 0.5em; text-align: right; border: none;\">\n",
       "                0.0115\n",
       "                \n",
       "                    &plusmn; 0.0090\n",
       "                \n",
       "            </td>\n",
       "            <td style=\"padding: 0 0.5em 0 0.5em; text-align: left; border: none;\">\n",
       "                Comedy\n",
       "            </td>\n",
       "        </tr>\n",
       "    \n",
       "        <tr style=\"background-color: hsl(120, 100.00%, 99.69%); border: none;\">\n",
       "            <td style=\"padding: 0 1em 0 0.5em; text-align: right; border: none;\">\n",
       "                0.0109\n",
       "                \n",
       "                    &plusmn; 0.0158\n",
       "                \n",
       "            </td>\n",
       "            <td style=\"padding: 0 0.5em 0 0.5em; text-align: left; border: none;\">\n",
       "                History\n",
       "            </td>\n",
       "        </tr>\n",
       "    \n",
       "        <tr style=\"background-color: hsl(120, 100.00%, 99.71%); border: none;\">\n",
       "            <td style=\"padding: 0 1em 0 0.5em; text-align: right; border: none;\">\n",
       "                0.0100\n",
       "                \n",
       "                    &plusmn; 0.0050\n",
       "                \n",
       "            </td>\n",
       "            <td style=\"padding: 0 0.5em 0 0.5em; text-align: left; border: none;\">\n",
       "                Crime\n",
       "            </td>\n",
       "        </tr>\n",
       "    \n",
       "        <tr style=\"background-color: hsl(120, 100.00%, 99.91%); border: none;\">\n",
       "            <td style=\"padding: 0 1em 0 0.5em; text-align: right; border: none;\">\n",
       "                0.0018\n",
       "                \n",
       "                    &plusmn; 0.0070\n",
       "                \n",
       "            </td>\n",
       "            <td style=\"padding: 0 0.5em 0 0.5em; text-align: left; border: none;\">\n",
       "                Sci-Fi\n",
       "            </td>\n",
       "        </tr>\n",
       "    \n",
       "        <tr style=\"background-color: hsl(120, 100.00%, 99.92%); border: none;\">\n",
       "            <td style=\"padding: 0 1em 0 0.5em; text-align: right; border: none;\">\n",
       "                0.0016\n",
       "                \n",
       "                    &plusmn; 0.0044\n",
       "                \n",
       "            </td>\n",
       "            <td style=\"padding: 0 0.5em 0 0.5em; text-align: left; border: none;\">\n",
       "                Family\n",
       "            </td>\n",
       "        </tr>\n",
       "    \n",
       "        <tr style=\"background-color: hsl(120, 100.00%, 99.92%); border: none;\">\n",
       "            <td style=\"padding: 0 1em 0 0.5em; text-align: right; border: none;\">\n",
       "                0.0015\n",
       "                \n",
       "                    &plusmn; 0.0017\n",
       "                \n",
       "            </td>\n",
       "            <td style=\"padding: 0 0.5em 0 0.5em; text-align: left; border: none;\">\n",
       "                Western\n",
       "            </td>\n",
       "        </tr>\n",
       "    \n",
       "        <tr style=\"background-color: hsl(120, 100.00%, 99.92%); border: none;\">\n",
       "            <td style=\"padding: 0 1em 0 0.5em; text-align: right; border: none;\">\n",
       "                0.0014\n",
       "                \n",
       "                    &plusmn; 0.0050\n",
       "                \n",
       "            </td>\n",
       "            <td style=\"padding: 0 0.5em 0 0.5em; text-align: left; border: none;\">\n",
       "                Music\n",
       "            </td>\n",
       "        </tr>\n",
       "    \n",
       "        <tr style=\"background-color: hsl(120, 100.00%, 99.95%); border: none;\">\n",
       "            <td style=\"padding: 0 1em 0 0.5em; text-align: right; border: none;\">\n",
       "                0.0009\n",
       "                \n",
       "                    &plusmn; 0.0017\n",
       "                \n",
       "            </td>\n",
       "            <td style=\"padding: 0 0.5em 0 0.5em; text-align: left; border: none;\">\n",
       "                Musical\n",
       "            </td>\n",
       "        </tr>\n",
       "    \n",
       "        <tr style=\"background-color: hsl(120, 100.00%, 99.96%); border: none;\">\n",
       "            <td style=\"padding: 0 1em 0 0.5em; text-align: right; border: none;\">\n",
       "                0.0005\n",
       "                \n",
       "                    &plusmn; 0.0010\n",
       "                \n",
       "            </td>\n",
       "            <td style=\"padding: 0 0.5em 0 0.5em; text-align: left; border: none;\">\n",
       "                Fantasy\n",
       "            </td>\n",
       "        </tr>\n",
       "    \n",
       "        <tr style=\"background-color: hsl(120, 100.00%, 99.98%); border: none;\">\n",
       "            <td style=\"padding: 0 1em 0 0.5em; text-align: right; border: none;\">\n",
       "                0.0002\n",
       "                \n",
       "                    &plusmn; 0.0009\n",
       "                \n",
       "            </td>\n",
       "            <td style=\"padding: 0 0.5em 0 0.5em; text-align: left; border: none;\">\n",
       "                Sport\n",
       "            </td>\n",
       "        </tr>\n",
       "    \n",
       "        <tr style=\"background-color: hsl(0, 100.00%, 100.00%); border: none;\">\n",
       "            <td style=\"padding: 0 1em 0 0.5em; text-align: right; border: none;\">\n",
       "                0\n",
       "                \n",
       "                    &plusmn; 0.0000\n",
       "                \n",
       "            </td>\n",
       "            <td style=\"padding: 0 0.5em 0 0.5em; text-align: left; border: none;\">\n",
       "                release_year\n",
       "            </td>\n",
       "        </tr>\n",
       "    \n",
       "        <tr style=\"background-color: hsl(0, 100.00%, 100.00%); border: none;\">\n",
       "            <td style=\"padding: 0 1em 0 0.5em; text-align: right; border: none;\">\n",
       "                0\n",
       "                \n",
       "                    &plusmn; 0.0000\n",
       "                \n",
       "            </td>\n",
       "            <td style=\"padding: 0 0.5em 0 0.5em; text-align: left; border: none;\">\n",
       "                Adventure\n",
       "            </td>\n",
       "        </tr>\n",
       "    \n",
       "        <tr style=\"background-color: hsl(0, 100.00%, 100.00%); border: none;\">\n",
       "            <td style=\"padding: 0 1em 0 0.5em; text-align: right; border: none;\">\n",
       "                0\n",
       "                \n",
       "                    &plusmn; 0.0000\n",
       "                \n",
       "            </td>\n",
       "            <td style=\"padding: 0 0.5em 0 0.5em; text-align: left; border: none;\">\n",
       "                Action\n",
       "            </td>\n",
       "        </tr>\n",
       "    \n",
       "        <tr style=\"background-color: hsl(0, 100.00%, 99.98%); border: none;\">\n",
       "            <td style=\"padding: 0 1em 0 0.5em; text-align: right; border: none;\">\n",
       "                -0.0002\n",
       "                \n",
       "                    &plusmn; 0.0013\n",
       "                \n",
       "            </td>\n",
       "            <td style=\"padding: 0 0.5em 0 0.5em; text-align: left; border: none;\">\n",
       "                Animation\n",
       "            </td>\n",
       "        </tr>\n",
       "    \n",
       "        <tr style=\"background-color: hsl(0, 100.00%, 99.98%); border: none;\">\n",
       "            <td style=\"padding: 0 1em 0 0.5em; text-align: right; border: none;\">\n",
       "                -0.0002\n",
       "                \n",
       "                    &plusmn; 0.0018\n",
       "                \n",
       "            </td>\n",
       "            <td style=\"padding: 0 0.5em 0 0.5em; text-align: left; border: none;\">\n",
       "                Documentary\n",
       "            </td>\n",
       "        </tr>\n",
       "    \n",
       "        <tr style=\"background-color: hsl(0, 100.00%, 99.95%); border: none;\">\n",
       "            <td style=\"padding: 0 1em 0 0.5em; text-align: right; border: none;\">\n",
       "                -0.0009\n",
       "                \n",
       "                    &plusmn; 0.0022\n",
       "                \n",
       "            </td>\n",
       "            <td style=\"padding: 0 0.5em 0 0.5em; text-align: left; border: none;\">\n",
       "                Thriller\n",
       "            </td>\n",
       "        </tr>\n",
       "    \n",
       "        <tr style=\"background-color: hsl(0, 100.00%, 99.90%); border: none;\">\n",
       "            <td style=\"padding: 0 1em 0 0.5em; text-align: right; border: none;\">\n",
       "                -0.0020\n",
       "                \n",
       "                    &plusmn; 0.0025\n",
       "                \n",
       "            </td>\n",
       "            <td style=\"padding: 0 0.5em 0 0.5em; text-align: left; border: none;\">\n",
       "                News\n",
       "            </td>\n",
       "        </tr>\n",
       "    \n",
       "        <tr style=\"background-color: hsl(0, 100.00%, 99.88%); border: none;\">\n",
       "            <td style=\"padding: 0 1em 0 0.5em; text-align: right; border: none;\">\n",
       "                -0.0027\n",
       "                \n",
       "                    &plusmn; 0.0080\n",
       "                \n",
       "            </td>\n",
       "            <td style=\"padding: 0 0.5em 0 0.5em; text-align: left; border: none;\">\n",
       "                Romance\n",
       "            </td>\n",
       "        </tr>\n",
       "    \n",
       "        <tr style=\"background-color: hsl(0, 100.00%, 98.96%); border: none;\">\n",
       "            <td style=\"padding: 0 1em 0 0.5em; text-align: right; border: none;\">\n",
       "                -0.0613\n",
       "                \n",
       "                    &plusmn; 0.0315\n",
       "                \n",
       "            </td>\n",
       "            <td style=\"padding: 0 0.5em 0 0.5em; text-align: left; border: none;\">\n",
       "                runtimeNumber\n",
       "            </td>\n",
       "        </tr>\n",
       "    \n",
       "    \n",
       "    </tbody>\n",
       "</table>\n",
       "    \n",
       "\n",
       "    \n",
       "\n",
       "\n",
       "    \n",
       "\n",
       "    \n",
       "\n",
       "    \n",
       "\n",
       "    \n",
       "\n",
       "    \n",
       "\n",
       "    \n",
       "\n",
       "\n",
       "\n"
      ],
      "text/plain": [
       "<IPython.core.display.HTML object>"
      ]
     },
     "execution_count": 64,
     "metadata": {},
     "output_type": "execute_result"
    }
   ],
   "source": [
    "eli5.show_weights(\n",
    "    permuter,\n",
    "    top=None,\n",
    "    feature_names=X_val.columns.tolist())"
   ]
  },
  {
   "cell_type": "markdown",
   "metadata": {},
   "source": [
    "# Fitting Linear Regression model?"
   ]
  },
  {
   "cell_type": "code",
   "execution_count": 73,
   "metadata": {},
   "outputs": [],
   "source": [
    "from sklearn.linear_model import LinearRegression"
   ]
  },
  {
   "cell_type": "code",
   "execution_count": 88,
   "metadata": {},
   "outputs": [
    {
     "data": {
      "text/plain": [
       "LinearRegression(copy_X=True, fit_intercept=True, n_jobs=None, normalize=False)"
      ]
     },
     "execution_count": 88,
     "metadata": {},
     "output_type": "execute_result"
    }
   ],
   "source": [
    "model = LinearRegression()\n",
    "model.fit(X_train, y_train)"
   ]
  },
  {
   "cell_type": "code",
   "execution_count": 91,
   "metadata": {},
   "outputs": [
    {
     "data": {
      "text/plain": [
       "array([18.4598842 , 16.67319162, 18.81210519, 18.18016997, 16.25202038,\n",
       "       16.99891699, 18.43019111, 16.99548047, 18.83120079, 16.90915731,\n",
       "       18.95165397, 24.39895085, 24.11488078, 21.1686114 , 24.72860341,\n",
       "       17.97863038, 19.89390775, 17.03006622, 18.25479677, 19.71905475,\n",
       "       23.23083119, 20.02813532, 21.67348679, 17.7216959 , 19.54293295,\n",
       "       17.70146606, 20.06882251, 17.21052397, 17.3514146 , 17.36750306,\n",
       "       19.83035223, 17.38228307, 18.88467645, 20.3202697 , 20.40859392,\n",
       "       16.71697703, 17.36362926, 16.16016279, 18.53314925, 17.50944858,\n",
       "       19.29903452, 16.48478992, 17.78767068, 17.25967765, 18.15122394,\n",
       "       18.98850587, 17.14540906, 17.14147056, 16.88804422, 18.29785068,\n",
       "       20.78534014, 17.24798767, 17.00329378, 16.50570515, 16.84974013,\n",
       "       23.96914842, 17.23030274, 17.98311353, 16.70435008, 16.92842626,\n",
       "       17.62486077, 16.86781864, 22.94139694, 17.54528244, 16.38910637,\n",
       "       16.27922995, 19.80830633, 17.61449549, 20.14900085, 17.46540286,\n",
       "       16.92734428, 16.27895148, 15.55448759, 18.34650697, 19.70646391,\n",
       "       15.94941671, 20.92896933, 19.69142502, 21.0208561 , 16.56809771,\n",
       "       21.25154452, 17.79150923, 16.31269698, 16.64983731, 16.69185252,\n",
       "       19.39876739, 16.18924088, 17.22630779, 15.92488047, 18.33614097,\n",
       "       22.3573722 , 16.99681043, 17.99848409, 17.85599699, 18.13326861,\n",
       "       19.64148913, 17.41821062, 16.56171608, 19.58489165, 16.6300885 ,\n",
       "       17.33039615, 23.4599642 , 19.85256368, 15.61990172, 16.73268878,\n",
       "       16.90017683, 16.32889878, 17.52430038, 17.3460013 , 15.97492334,\n",
       "       17.3593431 , 16.71818575, 16.07806881, 16.6476917 , 16.46677593,\n",
       "       16.90902967, 16.60167059, 16.93947303, 22.09457908, 21.77762281,\n",
       "       21.25319873, 16.46456014, 15.86938762, 17.02930927, 24.65571242,\n",
       "       17.36900474, 16.29581991, 15.58719731, 19.8297967 , 20.37730263,\n",
       "       17.51060063, 16.76397363, 19.23150308, 22.51923196, 16.21245615,\n",
       "       21.81221901, 16.5072258 , 17.42480389, 21.11592802, 16.61061836,\n",
       "       21.72369751, 18.63416498, 16.2069013 , 17.16851578, 16.94271489,\n",
       "       16.99894212, 18.45740948, 15.94002915, 20.55290271, 16.76016027,\n",
       "       17.85211168, 19.30957088, 15.94941055, 19.52714471, 17.20538484,\n",
       "       19.49419772, 16.39936004, 17.67045775, 20.6177331 , 15.54066229,\n",
       "       19.87930508, 19.15394528, 22.42231067, 16.51559133, 15.50756607,\n",
       "       16.28508556, 16.24322712, 15.82927793, 17.63564487, 17.42205206,\n",
       "       16.71677854, 16.49883769, 16.7578103 , 17.19144736, 16.69338   ,\n",
       "       18.63876953, 16.71792111, 17.83406488, 18.15474024, 17.48504014,\n",
       "       17.33155367, 17.15385879, 20.70679579, 17.07423054, 22.48111505,\n",
       "       17.24101612, 17.09927938, 17.55024281, 17.2263217 , 22.12519472,\n",
       "       17.45442993, 17.02950708, 17.29028256, 17.21421185, 16.57635829,\n",
       "       22.91706536, 17.94152542, 16.18907903, 21.05008681, 17.35043676,\n",
       "       20.97969707, 17.43691156, 19.41524968, 16.11553366, 17.25348967,\n",
       "       16.75978414, 17.70249706, 16.05683275, 16.63237091, 16.53802807,\n",
       "       16.2451835 , 16.14342839, 15.31340704, 16.53028999, 18.37323081,\n",
       "       14.91310372, 21.77859355, 15.1609027 , 16.31871029, 19.49821162,\n",
       "       16.69947865, 16.28770308, 17.82675494, 16.16137984, 16.60532897,\n",
       "       16.29430788, 17.19718669, 17.18412665, 17.57704498, 16.90124459,\n",
       "       15.0502765 , 16.38606218, 16.77479528, 20.07449114, 16.50257034,\n",
       "       21.26095856, 17.16267287, 18.36214825, 17.26035379, 17.8271639 ,\n",
       "       18.2053066 , 16.11577239, 16.25666114, 15.52411718, 18.2004577 ,\n",
       "       17.52615274, 16.9747051 , 18.03076148, 16.06200043, 15.98885814,\n",
       "       14.88369062, 18.88258662, 16.03190389, 18.09195897, 17.62430941,\n",
       "       17.8442271 , 16.74862451, 16.12252782, 17.46777581, 24.01145607,\n",
       "       15.95130584, 16.33834229, 16.18265469, 15.96713493, 16.12751137,\n",
       "       17.01438914, 17.23358702, 17.94498931, 16.34066889, 16.70477881,\n",
       "       17.17062526, 16.52167275, 16.38916743, 15.96479645, 16.58967232,\n",
       "       17.57551292, 18.202644  , 17.17259483, 17.5448495 , 21.64230669,\n",
       "       21.03185818, 17.33495718, 16.85000715, 20.36337241, 15.74525085,\n",
       "       16.29173752, 17.51530752, 16.77164062, 17.57039994, 15.98593712,\n",
       "       16.31352187, 16.13723597, 18.18241939, 18.33124348, 16.88594463,\n",
       "       16.35024596, 16.22046193, 17.83691287, 24.57970181, 15.26030786,\n",
       "       18.43359066, 17.42642439, 17.0796432 , 16.61537286, 17.08265591,\n",
       "       22.18914073, 17.28350609, 22.12172851, 17.34692118, 19.49487475,\n",
       "       16.24111228, 15.59350323, 15.03805372, 15.83906344, 17.87729447,\n",
       "       18.54970882, 16.40145817, 17.76538261, 16.26979697, 17.9166325 ,\n",
       "       21.28722624, 16.99518546, 17.45915691, 17.89584337, 17.98594936,\n",
       "       17.15187862, 17.49056168, 18.36989658, 16.36912847, 18.13712301,\n",
       "       16.95288916, 15.89488982, 17.24580917, 15.73210658, 16.68663137,\n",
       "       16.84155184, 17.4124994 , 16.5814784 , 18.58585133, 16.54935304,\n",
       "       16.07119162, 17.21526927, 18.33680556, 18.17827635, 15.62242359,\n",
       "       17.64457972, 16.44260939, 15.76500469, 16.4353582 , 18.31032771,\n",
       "       17.84551485, 16.2892251 , 16.64815859, 15.51253572, 16.58397957,\n",
       "       16.67281447, 21.35441496, 18.5845126 , 17.44800747, 15.90178872,\n",
       "       16.95669165, 20.87030913, 17.9422295 , 16.52514797, 16.58635143,\n",
       "       17.21527798, 18.17876022, 17.2834437 , 14.2651873 , 17.49593758,\n",
       "       16.6100798 , 18.09142814, 28.19624154, 22.25476803, 21.09025804,\n",
       "       17.71889556, 14.34277352, 16.38182319, 20.28410543, 16.8185704 ,\n",
       "       16.37798188, 14.16939573, 16.01710388, 16.81444978, 16.95314194,\n",
       "       16.32498475, 15.70138325, 18.62619203, 16.53667234, 18.82751094,\n",
       "       18.95672505, 16.46851256, 16.1236918 , 17.72578734, 16.83316316,\n",
       "       17.2766717 , 19.5766814 , 17.62236312, 16.95687097, 15.91799008,\n",
       "       16.8289213 , 15.29025767, 16.25292781, 17.44617003, 20.60019482,\n",
       "       17.57928592, 16.21440558, 17.06299654, 16.13648489, 21.82580063,\n",
       "       17.27005559, 25.47951187, 21.67107885, 16.16077712, 16.17788316,\n",
       "       16.2271984 , 19.86303459, 16.37291673, 17.29103971, 22.00963637,\n",
       "       18.07552194, 16.33312774, 18.11625816, 17.28393215, 15.42983448,\n",
       "       19.29054627, 19.5130878 , 18.09410761, 16.04213986, 16.09724475,\n",
       "       19.0883786 , 16.9963453 , 18.22567981, 17.35204415, 18.56838504,\n",
       "       21.80857437, 16.29624627, 18.35445427, 20.05984204, 16.44128023,\n",
       "       16.76712887, 16.00501026, 16.91639186, 22.19835197, 22.81073723,\n",
       "       17.36054572, 17.10783084, 14.81570983, 18.47327271, 18.03523414,\n",
       "       16.49091444, 16.73152749, 16.23751536, 15.74124868, 15.81575083,\n",
       "       17.1779085 , 15.66042965, 18.00570093, 19.51780528, 19.22241223,\n",
       "       17.34217569, 18.39398853, 16.52825221, 16.1402269 , 15.77249797,\n",
       "       16.6323639 , 19.50921628, 17.45571943, 17.10503042, 22.16397968,\n",
       "       16.1977886 , 16.30990856, 16.03288483, 20.82848214, 20.1645167 ,\n",
       "       18.41475338, 17.7008832 , 22.71351927, 17.27879337, 19.00027233,\n",
       "       18.15723565, 17.09207633, 17.11474887, 16.21080952, 16.37566404,\n",
       "       17.53957806, 16.55561556, 17.51113481, 16.56889478, 15.72590937,\n",
       "       16.41526782, 17.86012367, 16.58103692, 19.89051375, 15.18977375,\n",
       "       17.67012531, 17.38663517, 15.00183093, 17.79389037, 15.77365704,\n",
       "       15.97623534, 17.32952083, 17.64654996, 16.15121469, 18.12194475,\n",
       "       20.20807471, 17.27098516, 14.94423075, 16.88906299, 16.64150718,\n",
       "       15.9815018 , 16.42903884, 15.63229734, 18.89905909, 18.0813206 ,\n",
       "       16.8264058 , 15.18302176, 15.80438224, 16.18167826, 18.30323158,\n",
       "       17.02761417, 15.27299793, 16.29359471, 16.55605048, 17.24584321,\n",
       "       15.75409973, 17.38902658, 16.39272441, 16.11653608, 17.48000599,\n",
       "       17.07229573, 13.99268602, 15.3022368 , 15.40255836, 16.51462978,\n",
       "       17.2693679 , 19.02257542, 15.29946505, 15.4063585 , 17.62270869,\n",
       "       19.26848341, 18.33807844, 15.85503707, 16.11231749, 16.50618249,\n",
       "       16.47989232, 17.51223086, 15.95058582, 16.76525812, 19.78375749,\n",
       "       16.94337042, 17.20467295, 18.2024284 , 16.42566676, 16.63659908,\n",
       "       20.766765  , 16.9595786 , 18.66549614, 16.5944012 , 17.71625951,\n",
       "       17.14260595, 19.15387501, 17.08876143, 15.99949366, 15.29992967,\n",
       "       16.84962696, 16.23094792, 17.90254319, 18.11345753, 18.51297414,\n",
       "       16.93657953, 16.00083639, 18.37954472, 17.25457838, 16.1151352 ,\n",
       "       17.62095827, 16.57111464, 16.02414098, 17.76906801, 17.19044856,\n",
       "       16.83034779, 17.31755863, 22.51985852, 18.53055731, 15.83743246,\n",
       "       15.82555005, 16.61326943, 16.09473082, 17.57315159, 15.98760731,\n",
       "       16.98310263, 17.65433739, 16.61867323, 17.2613145 , 15.80064853,\n",
       "       17.86448904, 16.79000356, 15.82285442, 15.80784097, 15.83103198,\n",
       "       17.8749373 , 20.27877464, 17.75387263, 17.22329169, 17.40765233,\n",
       "       18.14669171, 17.33696234, 15.813033  , 17.14752163, 17.14145202,\n",
       "       16.74636984, 17.33215107, 17.12031203, 16.46881341, 17.05392971,\n",
       "       15.97239985, 21.73478148, 15.10864766, 15.6180377 , 18.08158855,\n",
       "       19.34580384, 19.16613139, 16.29353137, 15.96001265, 16.94346567,\n",
       "       16.39653377, 15.16877369, 14.88565722, 19.27398211, 16.50494047,\n",
       "       16.31889324, 15.18296255, 16.25183454, 15.46059464, 17.24166363,\n",
       "       13.60500799, 16.19434701, 17.07158843, 17.77360609, 15.86893927,\n",
       "       16.9305696 , 16.63607061, 16.38738541, 14.54611053, 16.19518666,\n",
       "       16.70715535, 15.77590081, 17.47012456, 15.79626987, 16.39724706,\n",
       "       15.9247363 , 19.46428113, 20.65180519, 16.2554239 , 16.4864091 ,\n",
       "       17.21156449, 16.55991133, 16.41794558, 15.85234579, 15.74285621,\n",
       "       15.63372247, 16.23464984, 17.45279762, 16.17381797, 16.13438201,\n",
       "       15.90928384, 19.3419946 , 16.31215961, 15.86350239, 21.74442793,\n",
       "       15.18578594, 16.59764749, 17.33407334, 15.35054944, 15.82661567,\n",
       "       17.96963973, 18.4716881 , 15.30564262, 16.55958533, 16.98820023,\n",
       "       16.9626644 , 16.29464931, 18.66904195, 16.83808834, 18.91464936,\n",
       "       16.96623024, 16.46019929, 15.92008332, 16.49795992, 19.07547775,\n",
       "       18.84253599, 16.60171745, 17.52851751, 15.8394395 , 17.58100527,\n",
       "       20.37632049, 16.3002048 , 16.02510262, 16.42769857, 16.02796507,\n",
       "       15.79483031, 16.52381003, 17.54725399, 15.37340784, 17.19550398,\n",
       "       16.4225298 , 15.94451044, 15.83150975, 14.91035345, 15.89718027,\n",
       "       17.24167631, 16.58072033, 16.59273898, 16.85859377, 16.3454074 ,\n",
       "       20.34712016, 15.24082607, 17.62388031, 16.8083328 , 20.69813271,\n",
       "       17.70623135, 18.71649214, 16.01234495, 16.2951963 , 15.66807309,\n",
       "       15.9135978 , 19.23686298, 16.18007132, 17.18239857, 17.10746722,\n",
       "       16.636969  , 16.73742832, 15.90197141, 15.5730789 , 16.83434714,\n",
       "       15.64824398, 17.1441729 , 16.47409745, 18.34129515, 16.1312279 ,\n",
       "       16.42613579, 17.52519728, 16.77088703, 16.0517446 , 15.95341242,\n",
       "       16.15129212, 17.32178203, 15.67943021, 15.71689116, 16.86114523,\n",
       "       16.62011434, 16.78928259, 16.22368579, 15.22651588, 17.88214088,\n",
       "       15.87948842, 17.05037831, 16.63439735, 15.2839397 , 15.48978926,\n",
       "       16.10352515, 17.89737994, 15.79355112, 15.80984845, 14.4197808 ,\n",
       "       21.22612665, 18.62582005, 16.70007304, 16.84053862, 16.44456703,\n",
       "       16.09884099, 16.28488633, 20.40950723, 15.64339479, 15.54507376,\n",
       "       15.83971395, 16.32430914, 16.59226463, 16.26305377, 15.72089072,\n",
       "       16.43823384, 15.7439066 , 15.61745269, 17.24179688, 17.82388636,\n",
       "       16.49536537, 17.95445536, 14.35472044, 14.97975274, 15.34693294,\n",
       "       15.88533007, 16.28388397])"
      ]
     },
     "execution_count": 91,
     "metadata": {},
     "output_type": "execute_result"
    }
   ],
   "source": [
    "y_pred = model.predict(X_val)\n",
    "y_pred"
   ]
  },
  {
   "cell_type": "code",
   "execution_count": 90,
   "metadata": {},
   "outputs": [
    {
     "data": {
      "text/plain": [
       "1.7927310383055173"
      ]
     },
     "execution_count": 90,
     "metadata": {},
     "output_type": "execute_result"
    }
   ],
   "source": [
    "mean_squared_error(y_val, y_pred)\n",
    "mse"
   ]
  },
  {
   "cell_type": "markdown",
   "metadata": {},
   "source": [
    "Seems to give me very similar output. Interesting...\n",
    "I must wonder if there's something wrong with my MSE display. Getting exactly the same MSE for XGBoost and linear regression seems odd. But the y_pred arrays are very similar though slightly different..."
   ]
  }
 ],
 "metadata": {
  "colab": {
   "collapsed_sections": [
    "1iavVvNY4xHI",
    "uAGiU1S459eU"
   ],
   "name": "imdb_data_predictor.ipynb",
   "provenance": [],
   "toc_visible": true
  },
  "kernelspec": {
   "display_name": "Python 3",
   "language": "python",
   "name": "python3"
  },
  "language_info": {
   "codemirror_mode": {
    "name": "ipython",
    "version": 3
   },
   "file_extension": ".py",
   "mimetype": "text/x-python",
   "name": "python",
   "nbconvert_exporter": "python",
   "pygments_lexer": "ipython3",
   "version": "3.7.3"
  },
  "varInspector": {
   "cols": {
    "lenName": 16,
    "lenType": 16,
    "lenVar": 40
   },
   "kernels_config": {
    "python": {
     "delete_cmd_postfix": "",
     "delete_cmd_prefix": "del ",
     "library": "var_list.py",
     "varRefreshCmd": "print(var_dic_list())"
    },
    "r": {
     "delete_cmd_postfix": ") ",
     "delete_cmd_prefix": "rm(",
     "library": "var_list.r",
     "varRefreshCmd": "cat(var_dic_list()) "
    }
   },
   "types_to_exclude": [
    "module",
    "function",
    "builtin_function_or_method",
    "instance",
    "_Feature"
   ],
   "window_display": false
  }
 },
 "nbformat": 4,
 "nbformat_minor": 1
}
