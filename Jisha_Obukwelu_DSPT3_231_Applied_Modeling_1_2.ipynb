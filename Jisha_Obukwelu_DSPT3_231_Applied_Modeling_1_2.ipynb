{
  "nbformat": 4,
  "nbformat_minor": 0,
  "metadata": {
    "colab": {
      "name": "Jisha Obukwelu_DSPT3_231_Applied_Modeling_1.ipynb",
      "provenance": [],
      "collapsed_sections": [],
      "include_colab_link": true
    },
    "kernelspec": {
      "display_name": "Python 3",
      "language": "python",
      "name": "python3"
    },
    "language_info": {
      "codemirror_mode": {
        "name": "ipython",
        "version": 3
      },
      "file_extension": ".py",
      "mimetype": "text/x-python",
      "name": "python",
      "nbconvert_exporter": "python",
      "pygments_lexer": "ipython3",
      "version": "3.7.3"
    }
  },
  "cells": [
    {
      "cell_type": "markdown",
      "metadata": {
        "id": "view-in-github",
        "colab_type": "text"
      },
      "source": [
        "<a href=\"https://colab.research.google.com/github/jiobu1/DS-Unit-2-Applied-Modeling/blob/master/Jisha_Obukwelu_DSPT3_231_Applied_Modeling_1_2.ipynb\" target=\"_parent\"><img src=\"https://colab.research.google.com/assets/colab-badge.svg\" alt=\"Open In Colab\"/></a>"
      ]
    },
    {
      "cell_type": "markdown",
      "metadata": {
        "colab_type": "text",
        "id": "nCc3XZEyG3XV"
      },
      "source": [
        "Lambda School Data Science\n",
        "\n",
        "*Unit 2, Sprint 3, Module 1*\n",
        "\n",
        "---\n",
        "\n",
        "\n",
        "# Define ML problems\n",
        "\n",
        "You will use your portfolio project dataset for all assignments this sprint.\n",
        "\n",
        "## Assignment\n",
        "\n",
        "Complete these tasks for your project, and document your decisions.\n",
        "\n",
        "- [ ] Choose your target. Which column in your tabular dataset will you predict?\n",
        "- [ ] Is your problem regression or classification?\n",
        "- [ ] How is your target distributed?\n",
        "    - Classification: How many classes? Are the classes imbalanced?\n",
        "    - Regression: Is the target right-skewed? If so, you may want to log transform the target.\n",
        "- [ ] Choose which observations you will use to train, validate, and test your model.\n",
        "    - Are some observations outliers? Will you exclude them?\n",
        "    - Will you do a random split or a time-based split?\n",
        "- [ ] Choose your evaluation metric(s).\n",
        "    - Classification: Is your majority class frequency > 50% and < 70% ? If so, you can just use accuracy if you want. Outside that range, accuracy could be misleading. What evaluation metric will you choose, in addition to or instead of accuracy?\n",
        "- [ ] Begin to clean and explore your data.\n",
        "- [ ] Begin to choose which features, if any, to exclude. Would some features \"leak\" future information?"
      ]
    },
    {
      "cell_type": "code",
      "metadata": {
        "id": "_PBU00P_jloB",
        "colab_type": "code",
        "outputId": "c0b1e863-a700-48ae-c0b8-9eea432523d0",
        "colab": {
          "base_uri": "https://localhost:8080/",
          "height": 122
        }
      },
      "source": [
        "from google.colab import drive\n",
        "drive.mount('/content/drive')"
      ],
      "execution_count": 0,
      "outputs": [
        {
          "output_type": "stream",
          "text": [
            "Go to this URL in a browser: https://accounts.google.com/o/oauth2/auth?client_id=947318989803-6bn6qk8qdgf4n4g3pfee6491hc0brc4i.apps.googleusercontent.com&redirect_uri=urn%3aietf%3awg%3aoauth%3a2.0%3aoob&response_type=code&scope=email%20https%3a%2f%2fwww.googleapis.com%2fauth%2fdocs.test%20https%3a%2f%2fwww.googleapis.com%2fauth%2fdrive%20https%3a%2f%2fwww.googleapis.com%2fauth%2fdrive.photos.readonly%20https%3a%2f%2fwww.googleapis.com%2fauth%2fpeopleapi.readonly\n",
            "\n",
            "Enter your authorization code:\n",
            "··········\n",
            "Mounted at /content/drive\n"
          ],
          "name": "stdout"
        }
      ]
    },
    {
      "cell_type": "code",
      "metadata": {
        "id": "8Pg0fDvEjzQZ",
        "colab_type": "code",
        "outputId": "3b7f4915-dcc1-41d5-a547-c3dd06f0497b",
        "colab": {
          "resources": {
            "http://localhost:8080/nbextensions/google.colab/files.js": {
              "data": "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",
              "ok": true,
              "headers": [
                [
                  "content-type",
                  "application/javascript"
                ]
              ],
              "status": 200,
              "status_text": ""
            }
          },
          "base_uri": "https://localhost:8080/",
          "height": 71
        }
      },
      "source": [
        "from google.colab import files\n",
        "upload = files.upload()"
      ],
      "execution_count": 0,
      "outputs": [
        {
          "output_type": "display_data",
          "data": {
            "text/html": [
              "\n",
              "     <input type=\"file\" id=\"files-5c5d0941-ba7b-4390-8d9a-d036668dde57\" name=\"files[]\" multiple disabled />\n",
              "     <output id=\"result-5c5d0941-ba7b-4390-8d9a-d036668dde57\">\n",
              "      Upload widget is only available when the cell has been executed in the\n",
              "      current browser session. Please rerun this cell to enable.\n",
              "      </output>\n",
              "      <script src=\"/nbextensions/google.colab/files.js\"></script> "
            ],
            "text/plain": [
              "<IPython.core.display.HTML object>"
            ]
          },
          "metadata": {
            "tags": []
          }
        },
        {
          "output_type": "stream",
          "text": [
            "Saving states_all.csv to states_all.csv\n"
          ],
          "name": "stdout"
        }
      ]
    },
    {
      "cell_type": "markdown",
      "metadata": {
        "id": "kkwWN-uGhu8s",
        "colab_type": "text"
      },
      "source": [
        "###***Choose your target. Which column in your tabular dataset will you predict?***"
      ]
    },
    {
      "cell_type": "markdown",
      "metadata": {
        "id": "wDHj4FRoh1rv",
        "colab_type": "text"
      },
      "source": [
        "This project will predict state's passing rate on the naep assessment based on features from the dataset. "
      ]
    },
    {
      "cell_type": "markdown",
      "metadata": {
        "id": "CK6EAxoNiOE0",
        "colab_type": "text"
      },
      "source": [
        "###***Is your problem regression or classification?***"
      ]
    },
    {
      "cell_type": "markdown",
      "metadata": {
        "id": "qV1Dlo5aiQEA",
        "colab_type": "text"
      },
      "source": [
        "This is a classification problem, I will be engineering the classification column based on the cut scores (score range) from the NAEP assessment for basic, proficient, and advanced. I will have to break this down further because the classes are heavily imbalanced. "
      ]
    },
    {
      "cell_type": "markdown",
      "metadata": {
        "id": "O9IhQTj5i3fz",
        "colab_type": "text"
      },
      "source": [
        "###***How is your target distributed?***\n",
        "Classification: How many classes? Are the classes imbalanced?"
      ]
    },
    {
      "cell_type": "code",
      "metadata": {
        "id": "SxV5CJGqpmDR",
        "colab_type": "code",
        "colab": {}
      },
      "source": [
        "import pandas as pd\n",
        "import numpy as np"
      ],
      "execution_count": 0,
      "outputs": []
    },
    {
      "cell_type": "code",
      "metadata": {
        "id": "Nrzdarf5l7eF",
        "colab_type": "code",
        "colab": {}
      },
      "source": [
        "all_states = pd.read_csv('states_all.csv')"
      ],
      "execution_count": 0,
      "outputs": []
    },
    {
      "cell_type": "code",
      "metadata": {
        "id": "TT6McA6gppr9",
        "colab_type": "code",
        "outputId": "1129b7b6-8042-4ff3-a81f-1fbed0d0f387",
        "colab": {
          "base_uri": "https://localhost:8080/",
          "height": 224
        }
      },
      "source": [
        "all_states.head()"
      ],
      "execution_count": 408,
      "outputs": [
        {
          "output_type": "execute_result",
          "data": {
            "text/html": [
              "<div>\n",
              "<style scoped>\n",
              "    .dataframe tbody tr th:only-of-type {\n",
              "        vertical-align: middle;\n",
              "    }\n",
              "\n",
              "    .dataframe tbody tr th {\n",
              "        vertical-align: top;\n",
              "    }\n",
              "\n",
              "    .dataframe thead th {\n",
              "        text-align: right;\n",
              "    }\n",
              "</style>\n",
              "<table border=\"1\" class=\"dataframe\">\n",
              "  <thead>\n",
              "    <tr style=\"text-align: right;\">\n",
              "      <th></th>\n",
              "      <th>PRIMARY_KEY</th>\n",
              "      <th>STATE</th>\n",
              "      <th>YEAR</th>\n",
              "      <th>ENROLL</th>\n",
              "      <th>TOTAL_REVENUE</th>\n",
              "      <th>FEDERAL_REVENUE</th>\n",
              "      <th>STATE_REVENUE</th>\n",
              "      <th>LOCAL_REVENUE</th>\n",
              "      <th>TOTAL_EXPENDITURE</th>\n",
              "      <th>INSTRUCTION_EXPENDITURE</th>\n",
              "      <th>SUPPORT_SERVICES_EXPENDITURE</th>\n",
              "      <th>OTHER_EXPENDITURE</th>\n",
              "      <th>CAPITAL_OUTLAY_EXPENDITURE</th>\n",
              "      <th>GRADES_PK_G</th>\n",
              "      <th>GRADES_KG_G</th>\n",
              "      <th>GRADES_4_G</th>\n",
              "      <th>GRADES_8_G</th>\n",
              "      <th>GRADES_12_G</th>\n",
              "      <th>GRADES_1_8_G</th>\n",
              "      <th>GRADES_9_12_G</th>\n",
              "      <th>GRADES_ALL_G</th>\n",
              "      <th>AVG_MATH_4_SCORE</th>\n",
              "      <th>AVG_MATH_8_SCORE</th>\n",
              "      <th>AVG_READING_4_SCORE</th>\n",
              "      <th>AVG_READING_8_SCORE</th>\n",
              "    </tr>\n",
              "  </thead>\n",
              "  <tbody>\n",
              "    <tr>\n",
              "      <th>0</th>\n",
              "      <td>1992_ALABAMA</td>\n",
              "      <td>ALABAMA</td>\n",
              "      <td>1992</td>\n",
              "      <td>NaN</td>\n",
              "      <td>2678885.0</td>\n",
              "      <td>304177.0</td>\n",
              "      <td>1659028.0</td>\n",
              "      <td>715680.0</td>\n",
              "      <td>2653798.0</td>\n",
              "      <td>1481703.0</td>\n",
              "      <td>735036.0</td>\n",
              "      <td>NaN</td>\n",
              "      <td>174053.0</td>\n",
              "      <td>8224.0</td>\n",
              "      <td>55460.0</td>\n",
              "      <td>57948.0</td>\n",
              "      <td>58025.0</td>\n",
              "      <td>41167.0</td>\n",
              "      <td>471564.0</td>\n",
              "      <td>196386.0</td>\n",
              "      <td>676174.0</td>\n",
              "      <td>208.327876</td>\n",
              "      <td>252.187522</td>\n",
              "      <td>207.963517</td>\n",
              "      <td>NaN</td>\n",
              "    </tr>\n",
              "    <tr>\n",
              "      <th>1</th>\n",
              "      <td>1992_ALASKA</td>\n",
              "      <td>ALASKA</td>\n",
              "      <td>1992</td>\n",
              "      <td>NaN</td>\n",
              "      <td>1049591.0</td>\n",
              "      <td>106780.0</td>\n",
              "      <td>720711.0</td>\n",
              "      <td>222100.0</td>\n",
              "      <td>972488.0</td>\n",
              "      <td>498362.0</td>\n",
              "      <td>350902.0</td>\n",
              "      <td>NaN</td>\n",
              "      <td>37451.0</td>\n",
              "      <td>2371.0</td>\n",
              "      <td>10152.0</td>\n",
              "      <td>9748.0</td>\n",
              "      <td>8789.0</td>\n",
              "      <td>6714.0</td>\n",
              "      <td>79117.0</td>\n",
              "      <td>30847.0</td>\n",
              "      <td>112335.0</td>\n",
              "      <td>NaN</td>\n",
              "      <td>NaN</td>\n",
              "      <td>NaN</td>\n",
              "      <td>258.859712</td>\n",
              "    </tr>\n",
              "    <tr>\n",
              "      <th>2</th>\n",
              "      <td>1992_ARIZONA</td>\n",
              "      <td>ARIZONA</td>\n",
              "      <td>1992</td>\n",
              "      <td>NaN</td>\n",
              "      <td>3258079.0</td>\n",
              "      <td>297888.0</td>\n",
              "      <td>1369815.0</td>\n",
              "      <td>1590376.0</td>\n",
              "      <td>3401580.0</td>\n",
              "      <td>1435908.0</td>\n",
              "      <td>1007732.0</td>\n",
              "      <td>NaN</td>\n",
              "      <td>609114.0</td>\n",
              "      <td>2544.0</td>\n",
              "      <td>53497.0</td>\n",
              "      <td>55433.0</td>\n",
              "      <td>49081.0</td>\n",
              "      <td>37410.0</td>\n",
              "      <td>437127.0</td>\n",
              "      <td>175210.0</td>\n",
              "      <td>614881.0</td>\n",
              "      <td>215.253932</td>\n",
              "      <td>265.366278</td>\n",
              "      <td>206.212716</td>\n",
              "      <td>262.169895</td>\n",
              "    </tr>\n",
              "    <tr>\n",
              "      <th>3</th>\n",
              "      <td>1992_ARKANSAS</td>\n",
              "      <td>ARKANSAS</td>\n",
              "      <td>1992</td>\n",
              "      <td>NaN</td>\n",
              "      <td>1711959.0</td>\n",
              "      <td>178571.0</td>\n",
              "      <td>958785.0</td>\n",
              "      <td>574603.0</td>\n",
              "      <td>1743022.0</td>\n",
              "      <td>964323.0</td>\n",
              "      <td>483488.0</td>\n",
              "      <td>NaN</td>\n",
              "      <td>145212.0</td>\n",
              "      <td>808.0</td>\n",
              "      <td>33511.0</td>\n",
              "      <td>34632.0</td>\n",
              "      <td>36011.0</td>\n",
              "      <td>27651.0</td>\n",
              "      <td>281338.0</td>\n",
              "      <td>123113.0</td>\n",
              "      <td>405259.0</td>\n",
              "      <td>210.206028</td>\n",
              "      <td>256.312090</td>\n",
              "      <td>208.634458</td>\n",
              "      <td>264.619665</td>\n",
              "    </tr>\n",
              "    <tr>\n",
              "      <th>4</th>\n",
              "      <td>1992_CALIFORNIA</td>\n",
              "      <td>CALIFORNIA</td>\n",
              "      <td>1992</td>\n",
              "      <td>NaN</td>\n",
              "      <td>26260025.0</td>\n",
              "      <td>2072470.0</td>\n",
              "      <td>16546514.0</td>\n",
              "      <td>7641041.0</td>\n",
              "      <td>27138832.0</td>\n",
              "      <td>14358922.0</td>\n",
              "      <td>8520926.0</td>\n",
              "      <td>NaN</td>\n",
              "      <td>2044688.0</td>\n",
              "      <td>59067.0</td>\n",
              "      <td>431763.0</td>\n",
              "      <td>418418.0</td>\n",
              "      <td>363296.0</td>\n",
              "      <td>270675.0</td>\n",
              "      <td>3286034.0</td>\n",
              "      <td>1372011.0</td>\n",
              "      <td>4717112.0</td>\n",
              "      <td>208.398961</td>\n",
              "      <td>260.892247</td>\n",
              "      <td>196.764414</td>\n",
              "      <td>NaN</td>\n",
              "    </tr>\n",
              "  </tbody>\n",
              "</table>\n",
              "</div>"
            ],
            "text/plain": [
              "       PRIMARY_KEY       STATE  ...  AVG_READING_4_SCORE  AVG_READING_8_SCORE\n",
              "0     1992_ALABAMA     ALABAMA  ...           207.963517                  NaN\n",
              "1      1992_ALASKA      ALASKA  ...                  NaN           258.859712\n",
              "2     1992_ARIZONA     ARIZONA  ...           206.212716           262.169895\n",
              "3    1992_ARKANSAS    ARKANSAS  ...           208.634458           264.619665\n",
              "4  1992_CALIFORNIA  CALIFORNIA  ...           196.764414                  NaN\n",
              "\n",
              "[5 rows x 25 columns]"
            ]
          },
          "metadata": {
            "tags": []
          },
          "execution_count": 408
        }
      ]
    },
    {
      "cell_type": "code",
      "metadata": {
        "id": "F46rxPR3QMmF",
        "colab_type": "code",
        "outputId": "2459d30f-d1b8-4305-b59b-9e93fcdc939d",
        "colab": {
          "base_uri": "https://localhost:8080/",
          "height": 34
        }
      },
      "source": [
        "all_states.shape"
      ],
      "execution_count": 409,
      "outputs": [
        {
          "output_type": "execute_result",
          "data": {
            "text/plain": [
              "(1492, 25)"
            ]
          },
          "metadata": {
            "tags": []
          },
          "execution_count": 409
        }
      ]
    },
    {
      "cell_type": "markdown",
      "metadata": {
        "id": "S9wwkJXKEoDN",
        "colab_type": "text"
      },
      "source": [
        "There should be three classes (that I will engineer) but the classes are gravely imbalanced with one class not having any values in it. Going to try and separate the common class to try and help with the imbalance. "
      ]
    },
    {
      "cell_type": "markdown",
      "metadata": {
        "id": "kJtTPXaqjQpz",
        "colab_type": "text"
      },
      "source": [
        "###***Choose your evaluation metric(s).***\n",
        "Classification: Is your majority class frequency > 50% and < 70% ? If so, you can just use accuracy if you want. Outside that range, accuracy could be misleading. What evaluation metric will you choose, in addition to or instead of accuracy?"
      ]
    },
    {
      "cell_type": "code",
      "metadata": {
        "id": "vPS1EPSZL2XB",
        "colab_type": "code",
        "outputId": "6aa01201-2f9f-4093-c4cd-b1154ecc79bf",
        "colab": {
          "base_uri": "https://localhost:8080/",
          "height": 204
        }
      },
      "source": [
        "target_df = all_states[['PRIMARY_KEY','AVG_MATH_4_SCORE', 'AVG_MATH_8_SCORE', 'AVG_READING_4_SCORE', 'AVG_READING_8_SCORE' ]].copy()\n",
        "target_df.head()"
      ],
      "execution_count": 410,
      "outputs": [
        {
          "output_type": "execute_result",
          "data": {
            "text/html": [
              "<div>\n",
              "<style scoped>\n",
              "    .dataframe tbody tr th:only-of-type {\n",
              "        vertical-align: middle;\n",
              "    }\n",
              "\n",
              "    .dataframe tbody tr th {\n",
              "        vertical-align: top;\n",
              "    }\n",
              "\n",
              "    .dataframe thead th {\n",
              "        text-align: right;\n",
              "    }\n",
              "</style>\n",
              "<table border=\"1\" class=\"dataframe\">\n",
              "  <thead>\n",
              "    <tr style=\"text-align: right;\">\n",
              "      <th></th>\n",
              "      <th>PRIMARY_KEY</th>\n",
              "      <th>AVG_MATH_4_SCORE</th>\n",
              "      <th>AVG_MATH_8_SCORE</th>\n",
              "      <th>AVG_READING_4_SCORE</th>\n",
              "      <th>AVG_READING_8_SCORE</th>\n",
              "    </tr>\n",
              "  </thead>\n",
              "  <tbody>\n",
              "    <tr>\n",
              "      <th>0</th>\n",
              "      <td>1992_ALABAMA</td>\n",
              "      <td>208.327876</td>\n",
              "      <td>252.187522</td>\n",
              "      <td>207.963517</td>\n",
              "      <td>NaN</td>\n",
              "    </tr>\n",
              "    <tr>\n",
              "      <th>1</th>\n",
              "      <td>1992_ALASKA</td>\n",
              "      <td>NaN</td>\n",
              "      <td>NaN</td>\n",
              "      <td>NaN</td>\n",
              "      <td>258.859712</td>\n",
              "    </tr>\n",
              "    <tr>\n",
              "      <th>2</th>\n",
              "      <td>1992_ARIZONA</td>\n",
              "      <td>215.253932</td>\n",
              "      <td>265.366278</td>\n",
              "      <td>206.212716</td>\n",
              "      <td>262.169895</td>\n",
              "    </tr>\n",
              "    <tr>\n",
              "      <th>3</th>\n",
              "      <td>1992_ARKANSAS</td>\n",
              "      <td>210.206028</td>\n",
              "      <td>256.312090</td>\n",
              "      <td>208.634458</td>\n",
              "      <td>264.619665</td>\n",
              "    </tr>\n",
              "    <tr>\n",
              "      <th>4</th>\n",
              "      <td>1992_CALIFORNIA</td>\n",
              "      <td>208.398961</td>\n",
              "      <td>260.892247</td>\n",
              "      <td>196.764414</td>\n",
              "      <td>NaN</td>\n",
              "    </tr>\n",
              "  </tbody>\n",
              "</table>\n",
              "</div>"
            ],
            "text/plain": [
              "       PRIMARY_KEY  AVG_MATH_4_SCORE  ...  AVG_READING_4_SCORE  AVG_READING_8_SCORE\n",
              "0     1992_ALABAMA        208.327876  ...           207.963517                  NaN\n",
              "1      1992_ALASKA               NaN  ...                  NaN           258.859712\n",
              "2     1992_ARIZONA        215.253932  ...           206.212716           262.169895\n",
              "3    1992_ARKANSAS        210.206028  ...           208.634458           264.619665\n",
              "4  1992_CALIFORNIA        208.398961  ...           196.764414                  NaN\n",
              "\n",
              "[5 rows x 5 columns]"
            ]
          },
          "metadata": {
            "tags": []
          },
          "execution_count": 410
        }
      ]
    },
    {
      "cell_type": "markdown",
      "metadata": {
        "id": "Lkt9T8jJNitU",
        "colab_type": "text"
      },
      "source": [
        "Separating columns necessary to create new target columns. "
      ]
    },
    {
      "cell_type": "markdown",
      "metadata": {
        "id": "giyzw1Ja-Pr1",
        "colab_type": "text"
      },
      "source": [
        "####4TH GRADE READING"
      ]
    },
    {
      "cell_type": "code",
      "metadata": {
        "id": "ryMQZh6R6Sy3",
        "colab_type": "code",
        "outputId": "1b06acfd-b6ed-4712-fbb9-4d66a8198d08",
        "colab": {
          "base_uri": "https://localhost:8080/",
          "height": 221
        }
      },
      "source": [
        "target_df['AVG_READING_4_SCORE'] = target_df['AVG_READING_4_SCORE'].fillna(0)\n",
        "target_df['AVG_READING_4_SCORE'] = target_df['AVG_READING_4_SCORE'].astype(int)\n",
        "target_df['AVG_READING_4_SCORE']"
      ],
      "execution_count": 411,
      "outputs": [
        {
          "output_type": "execute_result",
          "data": {
            "text/plain": [
              "0       207\n",
              "1         0\n",
              "2       206\n",
              "3       208\n",
              "4       196\n",
              "       ... \n",
              "1487    227\n",
              "1488    223\n",
              "1489    217\n",
              "1490    219\n",
              "1491    226\n",
              "Name: AVG_READING_4_SCORE, Length: 1492, dtype: int64"
            ]
          },
          "metadata": {
            "tags": []
          },
          "execution_count": 411
        }
      ]
    },
    {
      "cell_type": "code",
      "metadata": {
        "id": "I0siwO6OqGxP",
        "colab_type": "code",
        "outputId": "bc469a38-7f96-43a7-c580-186434ddb61f",
        "colab": {
          "base_uri": "https://localhost:8080/",
          "height": 221
        }
      },
      "source": [
        "def proficiency(row):\n",
        "    if 0 < row['AVG_READING_4_SCORE'] < 238:\n",
        "        val = 'basic'\n",
        "    elif 238 <= row['AVG_READING_4_SCORE'] < 268:\n",
        "        val = 'proficient'\n",
        "    elif row['AVG_READING_4_SCORE'] >= 268:\n",
        "        val = 'advanced'\n",
        "    else:\n",
        "        val = 0\n",
        "    return val\n",
        "\n",
        "target_df['READING_PROF_4'] = target_df.apply(proficiency, axis=1)\n",
        "target_df['READING_PROF_4']"
      ],
      "execution_count": 412,
      "outputs": [
        {
          "output_type": "execute_result",
          "data": {
            "text/plain": [
              "0       basic\n",
              "1           0\n",
              "2       basic\n",
              "3       basic\n",
              "4       basic\n",
              "        ...  \n",
              "1487    basic\n",
              "1488    basic\n",
              "1489    basic\n",
              "1490    basic\n",
              "1491    basic\n",
              "Name: READING_PROF_4, Length: 1492, dtype: object"
            ]
          },
          "metadata": {
            "tags": []
          },
          "execution_count": 412
        }
      ]
    },
    {
      "cell_type": "code",
      "metadata": {
        "id": "wB5i5kXn8qzR",
        "colab_type": "code",
        "outputId": "dce4f863-399b-44f1-b50e-f04846f22834",
        "colab": {
          "base_uri": "https://localhost:8080/",
          "height": 34
        }
      },
      "source": [
        "min(target_df['AVG_READING_4_SCORE']), max(target_df['AVG_READING_4_SCORE'])"
      ],
      "execution_count": 413,
      "outputs": [
        {
          "output_type": "execute_result",
          "data": {
            "text/plain": [
              "(0, 236)"
            ]
          },
          "metadata": {
            "tags": []
          },
          "execution_count": 413
        }
      ]
    },
    {
      "cell_type": "markdown",
      "metadata": {
        "id": "k7ebttiI8-yD",
        "colab_type": "text"
      },
      "source": [
        "So this won't work - It's is 100% basic. Let me see if I can use another one of the score columns for predictions.\n",
        "\n",
        "\n"
      ]
    },
    {
      "cell_type": "markdown",
      "metadata": {
        "id": "YpDAl901B3mW",
        "colab_type": "text"
      },
      "source": [
        "####4TH GRADE MATH "
      ]
    },
    {
      "cell_type": "code",
      "metadata": {
        "id": "BnUyUQ1fB7Pt",
        "colab_type": "code",
        "outputId": "ef7a7c3b-91c3-48a3-9569-213b426071ac",
        "colab": {
          "base_uri": "https://localhost:8080/",
          "height": 34
        }
      },
      "source": [
        "min(target_df['AVG_MATH_4_SCORE']), max(target_df['AVG_MATH_4_SCORE'])"
      ],
      "execution_count": 414,
      "outputs": [
        {
          "output_type": "execute_result",
          "data": {
            "text/plain": [
              "(187.134669958413, 253.420961133202)"
            ]
          },
          "metadata": {
            "tags": []
          },
          "execution_count": 414
        }
      ]
    },
    {
      "cell_type": "code",
      "metadata": {
        "id": "QSGg2Yx-CL2U",
        "colab_type": "code",
        "outputId": "ff34a104-f5ec-4e14-8e66-ccb591995233",
        "colab": {
          "base_uri": "https://localhost:8080/",
          "height": 221
        }
      },
      "source": [
        "target_df['AVG_MATH_4_SCORE'] = target_df['AVG_MATH_4_SCORE'].fillna(0)\n",
        "target_df['AVG_MATH_4_SCORE'] = target_df['AVG_MATH_4_SCORE'].astype(int)\n",
        "target_df['AVG_MATH_4_SCORE']"
      ],
      "execution_count": 415,
      "outputs": [
        {
          "output_type": "execute_result",
          "data": {
            "text/plain": [
              "0       208\n",
              "1         0\n",
              "2       215\n",
              "3       210\n",
              "4       208\n",
              "       ... \n",
              "1487    248\n",
              "1488    241\n",
              "1489    236\n",
              "1490    240\n",
              "1491    247\n",
              "Name: AVG_MATH_4_SCORE, Length: 1492, dtype: int64"
            ]
          },
          "metadata": {
            "tags": []
          },
          "execution_count": 415
        }
      ]
    },
    {
      "cell_type": "code",
      "metadata": {
        "id": "Jebxr3BzCEQ3",
        "colab_type": "code",
        "outputId": "3d6a8435-39d1-4bff-8501-a4f55d1447e1",
        "colab": {
          "base_uri": "https://localhost:8080/",
          "height": 221
        }
      },
      "source": [
        "def proficiency(row):\n",
        "    if 0 < row['AVG_MATH_4_SCORE'] < 249:\n",
        "        val = 'basic'\n",
        "    elif 249 <= row['AVG_MATH_4_SCORE'] < 282:\n",
        "        val = 'proficient'\n",
        "    elif row['AVG_MATH_4_SCORE'] >= 282:\n",
        "        val = 'advanced'\n",
        "    else:\n",
        "        val = 0\n",
        "    return val\n",
        "\n",
        "target_df['MATH_PROF_4'] = target_df.apply(proficiency, axis=1)\n",
        "target_df['MATH_PROF_4']"
      ],
      "execution_count": 416,
      "outputs": [
        {
          "output_type": "execute_result",
          "data": {
            "text/plain": [
              "0       basic\n",
              "1           0\n",
              "2       basic\n",
              "3       basic\n",
              "4       basic\n",
              "        ...  \n",
              "1487    basic\n",
              "1488    basic\n",
              "1489    basic\n",
              "1490    basic\n",
              "1491    basic\n",
              "Name: MATH_PROF_4, Length: 1492, dtype: object"
            ]
          },
          "metadata": {
            "tags": []
          },
          "execution_count": 416
        }
      ]
    },
    {
      "cell_type": "code",
      "metadata": {
        "id": "3Zsb81bSCc2w",
        "colab_type": "code",
        "outputId": "42bd9618-7a50-46d7-b75a-92c82b8fe27e",
        "colab": {
          "base_uri": "https://localhost:8080/",
          "height": 85
        }
      },
      "source": [
        "target_df['MATH_PROF_4'].value_counts()"
      ],
      "execution_count": 417,
      "outputs": [
        {
          "output_type": "execute_result",
          "data": {
            "text/plain": [
              "0             956\n",
              "basic         522\n",
              "proficient     14\n",
              "Name: MATH_PROF_4, dtype: int64"
            ]
          },
          "metadata": {
            "tags": []
          },
          "execution_count": 417
        }
      ]
    },
    {
      "cell_type": "code",
      "metadata": {
        "id": "VT33sbsQCoXt",
        "colab_type": "code",
        "outputId": "26ca4a85-8edb-40fe-f363-b6697d000598",
        "colab": {
          "base_uri": "https://localhost:8080/",
          "height": 901
        }
      },
      "source": [
        "target_df['AVG_MATH_4_SCORE'].value_counts()"
      ],
      "execution_count": 418,
      "outputs": [
        {
          "output_type": "execute_result",
          "data": {
            "text/plain": [
              "0      956\n",
              "240     35\n",
              "243     30\n",
              "237     29\n",
              "241     29\n",
              "242     25\n",
              "238     24\n",
              "235     23\n",
              "236     23\n",
              "239     21\n",
              "230     19\n",
              "231     18\n",
              "244     18\n",
              "245     17\n",
              "246     16\n",
              "232     16\n",
              "234     14\n",
              "229     14\n",
              "228     12\n",
              "227     11\n",
              "226     11\n",
              "233     10\n",
              "215     10\n",
              "224      9\n",
              "247      8\n",
              "217      8\n",
              "213      7\n",
              "220      7\n",
              "219      7\n",
              "225      7\n",
              "222      6\n",
              "248      6\n",
              "249      5\n",
              "223      5\n",
              "221      4\n",
              "210      3\n",
              "208      3\n",
              "218      3\n",
              "252      3\n",
              "253      3\n",
              "214      2\n",
              "212      2\n",
              "211      2\n",
              "251      2\n",
              "209      2\n",
              "204      2\n",
              "250      1\n",
              "201      1\n",
              "193      1\n",
              "192      1\n",
              "187      1\n",
              "Name: AVG_MATH_4_SCORE, dtype: int64"
            ]
          },
          "metadata": {
            "tags": []
          },
          "execution_count": 418
        }
      ]
    },
    {
      "cell_type": "markdown",
      "metadata": {
        "id": "dQgTwaFJCxaJ",
        "colab_type": "text"
      },
      "source": [
        "This would not work either but I am wondering why my function did not pick up on the 6 proficient score?\n",
        "- got it to work now, made a silly mistake. "
      ]
    },
    {
      "cell_type": "markdown",
      "metadata": {
        "id": "ac7zE9TS-Vnt",
        "colab_type": "text"
      },
      "source": [
        "####8TH GRADE READING"
      ]
    },
    {
      "cell_type": "code",
      "metadata": {
        "id": "pAlrm3AT9X6D",
        "colab_type": "code",
        "outputId": "44e1a7df-9409-47bf-b776-fd9350817b49",
        "colab": {
          "base_uri": "https://localhost:8080/",
          "height": 221
        }
      },
      "source": [
        "target_df['AVG_READING_8_SCORE'] = target_df['AVG_READING_8_SCORE'].fillna(0)\n",
        "target_df['AVG_READING_8_SCORE'] = target_df['AVG_READING_8_SCORE'].astype(int)\n",
        "target_df['AVG_READING_8_SCORE']"
      ],
      "execution_count": 419,
      "outputs": [
        {
          "output_type": "execute_result",
          "data": {
            "text/plain": [
              "0         0\n",
              "1       258\n",
              "2       262\n",
              "3       264\n",
              "4         0\n",
              "       ... \n",
              "1487    273\n",
              "1488    267\n",
              "1489    271\n",
              "1490    258\n",
              "1491    269\n",
              "Name: AVG_READING_8_SCORE, Length: 1492, dtype: int64"
            ]
          },
          "metadata": {
            "tags": []
          },
          "execution_count": 419
        }
      ]
    },
    {
      "cell_type": "code",
      "metadata": {
        "id": "5LiJXyeoeKVW",
        "colab_type": "code",
        "outputId": "ef8162a5-26d1-479b-9d66-47bd90d74488",
        "colab": {
          "base_uri": "https://localhost:8080/",
          "height": 697
        }
      },
      "source": [
        "target_df['AVG_READING_8_SCORE'].value_counts()"
      ],
      "execution_count": 420,
      "outputs": [
        {
          "output_type": "execute_result",
          "data": {
            "text/plain": [
              "0      994\n",
              "267     47\n",
              "264     37\n",
              "266     36\n",
              "268     34\n",
              "269     32\n",
              "265     31\n",
              "260     22\n",
              "262     21\n",
              "270     21\n",
              "261     20\n",
              "257     19\n",
              "258     18\n",
              "259     18\n",
              "263     15\n",
              "272     14\n",
              "251     13\n",
              "255     12\n",
              "253     11\n",
              "254     10\n",
              "271      9\n",
              "273      9\n",
              "256      8\n",
              "252      7\n",
              "274      7\n",
              "250      6\n",
              "275      3\n",
              "277      3\n",
              "276      2\n",
              "247      2\n",
              "242      2\n",
              "238      2\n",
              "249      1\n",
              "248      1\n",
              "246      1\n",
              "240      1\n",
              "239      1\n",
              "236      1\n",
              "280      1\n",
              "Name: AVG_READING_8_SCORE, dtype: int64"
            ]
          },
          "metadata": {
            "tags": []
          },
          "execution_count": 420
        }
      ]
    },
    {
      "cell_type": "markdown",
      "metadata": {
        "id": "mfD776SFPoBZ",
        "colab_type": "text"
      },
      "source": [
        "Instead of separating out the into 3 classiications, I will separate the first class into 3 stages to see if the information is still imbalanced. "
      ]
    },
    {
      "cell_type": "code",
      "metadata": {
        "id": "sqQBH7yD-C18",
        "colab_type": "code",
        "outputId": "56461856-50b1-4998-b090-a3855b3aa528",
        "colab": {
          "base_uri": "https://localhost:8080/",
          "height": 34
        }
      },
      "source": [
        "min(target_df['AVG_READING_8_SCORE']), max(target_df['AVG_READING_8_SCORE'])"
      ],
      "execution_count": 421,
      "outputs": [
        {
          "output_type": "execute_result",
          "data": {
            "text/plain": [
              "(0, 280)"
            ]
          },
          "metadata": {
            "tags": []
          },
          "execution_count": 421
        }
      ]
    },
    {
      "cell_type": "code",
      "metadata": {
        "id": "Tf_PrdoR9j0z",
        "colab_type": "code",
        "outputId": "a04aeb32-4894-47eb-dbf8-f1c0fff6db00",
        "colab": {
          "base_uri": "https://localhost:8080/",
          "height": 221
        }
      },
      "source": [
        "def proficiency(row):\n",
        "  #separating basic into 3 groups (0-281)\n",
        "    if 0< row['AVG_READING_8_SCORE'] < 260:\n",
        "        val = 'low-basic'\n",
        "    elif 260 <= row['AVG_READING_8_SCORE'] < 270:\n",
        "        val = 'mid-basic'\n",
        "    elif 270 <= row['AVG_READING_8_SCORE'] < 281:\n",
        "        val = 'high-basic'\n",
        "    elif 281 <= row['AVG_READING_8_SCORE'] < 323:\n",
        "        val = 'proficient'\n",
        "    elif row['AVG_READING_8_SCORE'] >= 323:\n",
        "        val = 'advanced'\n",
        "    else:\n",
        "        val = 0\n",
        "    return val\n",
        "\n",
        "target_df['READING_PROF_8'] = target_df.apply(proficiency, axis=1)\n",
        "target_df['READING_PROF_8'].astype('str')"
      ],
      "execution_count": 422,
      "outputs": [
        {
          "output_type": "execute_result",
          "data": {
            "text/plain": [
              "0                0\n",
              "1        low-basic\n",
              "2        mid-basic\n",
              "3        mid-basic\n",
              "4                0\n",
              "           ...    \n",
              "1487    high-basic\n",
              "1488     mid-basic\n",
              "1489    high-basic\n",
              "1490     low-basic\n",
              "1491     mid-basic\n",
              "Name: READING_PROF_8, Length: 1492, dtype: object"
            ]
          },
          "metadata": {
            "tags": []
          },
          "execution_count": 422
        }
      ]
    },
    {
      "cell_type": "code",
      "metadata": {
        "id": "8GkDpLQAe8Zg",
        "colab_type": "code",
        "outputId": "89982239-1f73-45f6-cdb1-d2c30498cd3c",
        "colab": {
          "base_uri": "https://localhost:8080/",
          "height": 102
        }
      },
      "source": [
        "target_df['READING_PROF_8'].value_counts()"
      ],
      "execution_count": 423,
      "outputs": [
        {
          "output_type": "execute_result",
          "data": {
            "text/plain": [
              "0             994\n",
              "mid-basic     295\n",
              "low-basic     134\n",
              "high-basic     69\n",
              "Name: READING_PROF_8, dtype: int64"
            ]
          },
          "metadata": {
            "tags": []
          },
          "execution_count": 423
        }
      ]
    },
    {
      "cell_type": "markdown",
      "metadata": {
        "id": "y_Rpa1fN-LLY",
        "colab_type": "text"
      },
      "source": [
        "* So this won't work either - It's is 100% basic. Let me see if I \n",
        "can use another one of the score columns for predictions.\n",
        "* ***Breaking down basic column***\n",
        "\n"
      ]
    },
    {
      "cell_type": "markdown",
      "metadata": {
        "id": "tLhfgbS-_ay7",
        "colab_type": "text"
      },
      "source": [
        "####8TH GRADE MATH"
      ]
    },
    {
      "cell_type": "code",
      "metadata": {
        "id": "k-fz-IxT-NiO",
        "colab_type": "code",
        "outputId": "a258b28a-ce33-44fe-8ad5-c58ac954a3e3",
        "colab": {
          "base_uri": "https://localhost:8080/",
          "height": 34
        }
      },
      "source": [
        "min(target_df['AVG_MATH_8_SCORE']), max(target_df['AVG_MATH_8_SCORE'])"
      ],
      "execution_count": 424,
      "outputs": [
        {
          "output_type": "execute_result",
          "data": {
            "text/plain": [
              "(232.831509532896, 300.568235011147)"
            ]
          },
          "metadata": {
            "tags": []
          },
          "execution_count": 424
        }
      ]
    },
    {
      "cell_type": "code",
      "metadata": {
        "id": "zmJVi9LSBQ4M",
        "colab_type": "code",
        "outputId": "9192c18d-2f7a-4b29-b298-aca6746951ba",
        "colab": {
          "base_uri": "https://localhost:8080/",
          "height": 221
        }
      },
      "source": [
        "target_df['AVG_MATH_8_SCORE'].value_counts()"
      ],
      "execution_count": 425,
      "outputs": [
        {
          "output_type": "execute_result",
          "data": {
            "text/plain": [
              "253.595187    2\n",
              "281.035488    1\n",
              "292.321817    1\n",
              "283.953345    1\n",
              "270.415766    1\n",
              "             ..\n",
              "276.689980    1\n",
              "268.432355    1\n",
              "272.379907    1\n",
              "267.863726    1\n",
              "273.978787    1\n",
              "Name: AVG_MATH_8_SCORE, Length: 531, dtype: int64"
            ]
          },
          "metadata": {
            "tags": []
          },
          "execution_count": 425
        }
      ]
    },
    {
      "cell_type": "code",
      "metadata": {
        "id": "-3N80qbp_xOZ",
        "colab_type": "code",
        "outputId": "00d47bd5-cab5-4b35-b8df-0a6e4cf06036",
        "colab": {
          "base_uri": "https://localhost:8080/",
          "height": 221
        }
      },
      "source": [
        "target_df['AVG_MATH_8_SCORE'] = target_df['AVG_MATH_8_SCORE'].fillna(0)\n",
        "target_df['AVG_MATH_8_SCORE'] = target_df['AVG_MATH_8_SCORE'].astype(int)\n",
        "target_df['AVG_MATH_8_SCORE']"
      ],
      "execution_count": 426,
      "outputs": [
        {
          "output_type": "execute_result",
          "data": {
            "text/plain": [
              "0       252\n",
              "1         0\n",
              "2       265\n",
              "3       256\n",
              "4       260\n",
              "       ... \n",
              "1487    290\n",
              "1488    289\n",
              "1489    273\n",
              "1490    288\n",
              "1491    288\n",
              "Name: AVG_MATH_8_SCORE, Length: 1492, dtype: int64"
            ]
          },
          "metadata": {
            "tags": []
          },
          "execution_count": 426
        }
      ]
    },
    {
      "cell_type": "code",
      "metadata": {
        "id": "dSSGGJeE_7jR",
        "colab_type": "code",
        "outputId": "46683508-cabb-4302-f72f-b19483266c09",
        "colab": {
          "base_uri": "https://localhost:8080/",
          "height": 221
        }
      },
      "source": [
        "def proficiency(row):\n",
        "    if 0 < row['AVG_MATH_8_SCORE'] < 270:\n",
        "        val = 'low basic'\n",
        "    elif 270 <= row['AVG_MATH_8_SCORE'] < 280:\n",
        "        val = 'mid basic '\n",
        "    elif 280 <= row['AVG_MATH_8_SCORE'] < 299:\n",
        "        val = 'high basic'    \n",
        "    elif 299 <= row['AVG_MATH_8_SCORE'] < 333:\n",
        "        val = 'proficient'\n",
        "    elif row['AVG_MATH_8_SCORE'] >= 333:\n",
        "        val = 'advanced'\n",
        "    else:\n",
        "        val = 0\n",
        "    return val\n",
        "\n",
        "target_df['MATH_PROF_8'] = target_df.apply(proficiency, axis=1)\n",
        "target_df['MATH_PROF_8'].astype('str')"
      ],
      "execution_count": 427,
      "outputs": [
        {
          "output_type": "execute_result",
          "data": {
            "text/plain": [
              "0        low basic\n",
              "1                0\n",
              "2        low basic\n",
              "3        low basic\n",
              "4        low basic\n",
              "           ...    \n",
              "1487    high basic\n",
              "1488    high basic\n",
              "1489    mid basic \n",
              "1490    high basic\n",
              "1491    high basic\n",
              "Name: MATH_PROF_8, Length: 1492, dtype: object"
            ]
          },
          "metadata": {
            "tags": []
          },
          "execution_count": 427
        }
      ]
    },
    {
      "cell_type": "code",
      "metadata": {
        "id": "6YiV2mH8Aynv",
        "colab_type": "code",
        "outputId": "eed99431-2b5f-45a7-8b58-afc3a4054824",
        "colab": {
          "base_uri": "https://localhost:8080/",
          "height": 119
        }
      },
      "source": [
        "target_df['MATH_PROF_8'].value_counts()"
      ],
      "execution_count": 428,
      "outputs": [
        {
          "output_type": "execute_result",
          "data": {
            "text/plain": [
              "0             960\n",
              "high basic    276\n",
              "mid basic     156\n",
              "low basic      99\n",
              "proficient      1\n",
              "Name: MATH_PROF_8, dtype: int64"
            ]
          },
          "metadata": {
            "tags": []
          },
          "execution_count": 428
        }
      ]
    },
    {
      "cell_type": "markdown",
      "metadata": {
        "id": "ZWblUqINBntb",
        "colab_type": "text"
      },
      "source": [
        "* This would not work either but I am wondering why my function did not pick up on the lone proficient score?\n",
        "* Fixed this as well. \n"
      ]
    },
    {
      "cell_type": "markdown",
      "metadata": {
        "id": "9Ai7aH9b3ZoH",
        "colab_type": "text"
      },
      "source": [
        "###***Targets***"
      ]
    },
    {
      "cell_type": "markdown",
      "metadata": {
        "id": "V5f6rpZZjLHC",
        "colab_type": "text"
      },
      "source": [
        "Adding the two new engineered features back into the database."
      ]
    },
    {
      "cell_type": "code",
      "metadata": {
        "id": "PrwRTuREi_qn",
        "colab_type": "code",
        "outputId": "29a996f4-8e87-4543-d44d-0f17c692c67d",
        "colab": {
          "base_uri": "https://localhost:8080/",
          "height": 224
        }
      },
      "source": [
        "all_states[['READING_PROF_8', 'MATH_PROF_8']] = target_df[['READING_PROF_8','MATH_PROF_8' ]].copy()\n",
        "all_states.head()"
      ],
      "execution_count": 429,
      "outputs": [
        {
          "output_type": "execute_result",
          "data": {
            "text/html": [
              "<div>\n",
              "<style scoped>\n",
              "    .dataframe tbody tr th:only-of-type {\n",
              "        vertical-align: middle;\n",
              "    }\n",
              "\n",
              "    .dataframe tbody tr th {\n",
              "        vertical-align: top;\n",
              "    }\n",
              "\n",
              "    .dataframe thead th {\n",
              "        text-align: right;\n",
              "    }\n",
              "</style>\n",
              "<table border=\"1\" class=\"dataframe\">\n",
              "  <thead>\n",
              "    <tr style=\"text-align: right;\">\n",
              "      <th></th>\n",
              "      <th>PRIMARY_KEY</th>\n",
              "      <th>STATE</th>\n",
              "      <th>YEAR</th>\n",
              "      <th>ENROLL</th>\n",
              "      <th>TOTAL_REVENUE</th>\n",
              "      <th>FEDERAL_REVENUE</th>\n",
              "      <th>STATE_REVENUE</th>\n",
              "      <th>LOCAL_REVENUE</th>\n",
              "      <th>TOTAL_EXPENDITURE</th>\n",
              "      <th>INSTRUCTION_EXPENDITURE</th>\n",
              "      <th>SUPPORT_SERVICES_EXPENDITURE</th>\n",
              "      <th>OTHER_EXPENDITURE</th>\n",
              "      <th>CAPITAL_OUTLAY_EXPENDITURE</th>\n",
              "      <th>GRADES_PK_G</th>\n",
              "      <th>GRADES_KG_G</th>\n",
              "      <th>GRADES_4_G</th>\n",
              "      <th>GRADES_8_G</th>\n",
              "      <th>GRADES_12_G</th>\n",
              "      <th>GRADES_1_8_G</th>\n",
              "      <th>GRADES_9_12_G</th>\n",
              "      <th>GRADES_ALL_G</th>\n",
              "      <th>AVG_MATH_4_SCORE</th>\n",
              "      <th>AVG_MATH_8_SCORE</th>\n",
              "      <th>AVG_READING_4_SCORE</th>\n",
              "      <th>AVG_READING_8_SCORE</th>\n",
              "      <th>READING_PROF_8</th>\n",
              "      <th>MATH_PROF_8</th>\n",
              "    </tr>\n",
              "  </thead>\n",
              "  <tbody>\n",
              "    <tr>\n",
              "      <th>0</th>\n",
              "      <td>1992_ALABAMA</td>\n",
              "      <td>ALABAMA</td>\n",
              "      <td>1992</td>\n",
              "      <td>NaN</td>\n",
              "      <td>2678885.0</td>\n",
              "      <td>304177.0</td>\n",
              "      <td>1659028.0</td>\n",
              "      <td>715680.0</td>\n",
              "      <td>2653798.0</td>\n",
              "      <td>1481703.0</td>\n",
              "      <td>735036.0</td>\n",
              "      <td>NaN</td>\n",
              "      <td>174053.0</td>\n",
              "      <td>8224.0</td>\n",
              "      <td>55460.0</td>\n",
              "      <td>57948.0</td>\n",
              "      <td>58025.0</td>\n",
              "      <td>41167.0</td>\n",
              "      <td>471564.0</td>\n",
              "      <td>196386.0</td>\n",
              "      <td>676174.0</td>\n",
              "      <td>208.327876</td>\n",
              "      <td>252.187522</td>\n",
              "      <td>207.963517</td>\n",
              "      <td>NaN</td>\n",
              "      <td>0</td>\n",
              "      <td>low basic</td>\n",
              "    </tr>\n",
              "    <tr>\n",
              "      <th>1</th>\n",
              "      <td>1992_ALASKA</td>\n",
              "      <td>ALASKA</td>\n",
              "      <td>1992</td>\n",
              "      <td>NaN</td>\n",
              "      <td>1049591.0</td>\n",
              "      <td>106780.0</td>\n",
              "      <td>720711.0</td>\n",
              "      <td>222100.0</td>\n",
              "      <td>972488.0</td>\n",
              "      <td>498362.0</td>\n",
              "      <td>350902.0</td>\n",
              "      <td>NaN</td>\n",
              "      <td>37451.0</td>\n",
              "      <td>2371.0</td>\n",
              "      <td>10152.0</td>\n",
              "      <td>9748.0</td>\n",
              "      <td>8789.0</td>\n",
              "      <td>6714.0</td>\n",
              "      <td>79117.0</td>\n",
              "      <td>30847.0</td>\n",
              "      <td>112335.0</td>\n",
              "      <td>NaN</td>\n",
              "      <td>NaN</td>\n",
              "      <td>NaN</td>\n",
              "      <td>258.859712</td>\n",
              "      <td>low-basic</td>\n",
              "      <td>0</td>\n",
              "    </tr>\n",
              "    <tr>\n",
              "      <th>2</th>\n",
              "      <td>1992_ARIZONA</td>\n",
              "      <td>ARIZONA</td>\n",
              "      <td>1992</td>\n",
              "      <td>NaN</td>\n",
              "      <td>3258079.0</td>\n",
              "      <td>297888.0</td>\n",
              "      <td>1369815.0</td>\n",
              "      <td>1590376.0</td>\n",
              "      <td>3401580.0</td>\n",
              "      <td>1435908.0</td>\n",
              "      <td>1007732.0</td>\n",
              "      <td>NaN</td>\n",
              "      <td>609114.0</td>\n",
              "      <td>2544.0</td>\n",
              "      <td>53497.0</td>\n",
              "      <td>55433.0</td>\n",
              "      <td>49081.0</td>\n",
              "      <td>37410.0</td>\n",
              "      <td>437127.0</td>\n",
              "      <td>175210.0</td>\n",
              "      <td>614881.0</td>\n",
              "      <td>215.253932</td>\n",
              "      <td>265.366278</td>\n",
              "      <td>206.212716</td>\n",
              "      <td>262.169895</td>\n",
              "      <td>mid-basic</td>\n",
              "      <td>low basic</td>\n",
              "    </tr>\n",
              "    <tr>\n",
              "      <th>3</th>\n",
              "      <td>1992_ARKANSAS</td>\n",
              "      <td>ARKANSAS</td>\n",
              "      <td>1992</td>\n",
              "      <td>NaN</td>\n",
              "      <td>1711959.0</td>\n",
              "      <td>178571.0</td>\n",
              "      <td>958785.0</td>\n",
              "      <td>574603.0</td>\n",
              "      <td>1743022.0</td>\n",
              "      <td>964323.0</td>\n",
              "      <td>483488.0</td>\n",
              "      <td>NaN</td>\n",
              "      <td>145212.0</td>\n",
              "      <td>808.0</td>\n",
              "      <td>33511.0</td>\n",
              "      <td>34632.0</td>\n",
              "      <td>36011.0</td>\n",
              "      <td>27651.0</td>\n",
              "      <td>281338.0</td>\n",
              "      <td>123113.0</td>\n",
              "      <td>405259.0</td>\n",
              "      <td>210.206028</td>\n",
              "      <td>256.312090</td>\n",
              "      <td>208.634458</td>\n",
              "      <td>264.619665</td>\n",
              "      <td>mid-basic</td>\n",
              "      <td>low basic</td>\n",
              "    </tr>\n",
              "    <tr>\n",
              "      <th>4</th>\n",
              "      <td>1992_CALIFORNIA</td>\n",
              "      <td>CALIFORNIA</td>\n",
              "      <td>1992</td>\n",
              "      <td>NaN</td>\n",
              "      <td>26260025.0</td>\n",
              "      <td>2072470.0</td>\n",
              "      <td>16546514.0</td>\n",
              "      <td>7641041.0</td>\n",
              "      <td>27138832.0</td>\n",
              "      <td>14358922.0</td>\n",
              "      <td>8520926.0</td>\n",
              "      <td>NaN</td>\n",
              "      <td>2044688.0</td>\n",
              "      <td>59067.0</td>\n",
              "      <td>431763.0</td>\n",
              "      <td>418418.0</td>\n",
              "      <td>363296.0</td>\n",
              "      <td>270675.0</td>\n",
              "      <td>3286034.0</td>\n",
              "      <td>1372011.0</td>\n",
              "      <td>4717112.0</td>\n",
              "      <td>208.398961</td>\n",
              "      <td>260.892247</td>\n",
              "      <td>196.764414</td>\n",
              "      <td>NaN</td>\n",
              "      <td>0</td>\n",
              "      <td>low basic</td>\n",
              "    </tr>\n",
              "  </tbody>\n",
              "</table>\n",
              "</div>"
            ],
            "text/plain": [
              "       PRIMARY_KEY       STATE  ...  READING_PROF_8  MATH_PROF_8\n",
              "0     1992_ALABAMA     ALABAMA  ...               0    low basic\n",
              "1      1992_ALASKA      ALASKA  ...       low-basic            0\n",
              "2     1992_ARIZONA     ARIZONA  ...       mid-basic    low basic\n",
              "3    1992_ARKANSAS    ARKANSAS  ...       mid-basic    low basic\n",
              "4  1992_CALIFORNIA  CALIFORNIA  ...               0    low basic\n",
              "\n",
              "[5 rows x 27 columns]"
            ]
          },
          "metadata": {
            "tags": []
          },
          "execution_count": 429
        }
      ]
    },
    {
      "cell_type": "code",
      "metadata": {
        "id": "fe2vMT9K211o",
        "colab_type": "code",
        "colab": {
          "base_uri": "https://localhost:8080/",
          "height": 493
        },
        "outputId": "7f51ac39-09d3-4c80-e703-92e9ddb7dbb8"
      },
      "source": [
        "all_states.dtypes"
      ],
      "execution_count": 430,
      "outputs": [
        {
          "output_type": "execute_result",
          "data": {
            "text/plain": [
              "PRIMARY_KEY                      object\n",
              "STATE                            object\n",
              "YEAR                              int64\n",
              "ENROLL                          float64\n",
              "TOTAL_REVENUE                   float64\n",
              "FEDERAL_REVENUE                 float64\n",
              "STATE_REVENUE                   float64\n",
              "LOCAL_REVENUE                   float64\n",
              "TOTAL_EXPENDITURE               float64\n",
              "INSTRUCTION_EXPENDITURE         float64\n",
              "SUPPORT_SERVICES_EXPENDITURE    float64\n",
              "OTHER_EXPENDITURE               float64\n",
              "CAPITAL_OUTLAY_EXPENDITURE      float64\n",
              "GRADES_PK_G                     float64\n",
              "GRADES_KG_G                     float64\n",
              "GRADES_4_G                      float64\n",
              "GRADES_8_G                      float64\n",
              "GRADES_12_G                     float64\n",
              "GRADES_1_8_G                    float64\n",
              "GRADES_9_12_G                   float64\n",
              "GRADES_ALL_G                    float64\n",
              "AVG_MATH_4_SCORE                float64\n",
              "AVG_MATH_8_SCORE                float64\n",
              "AVG_READING_4_SCORE             float64\n",
              "AVG_READING_8_SCORE             float64\n",
              "READING_PROF_8                   object\n",
              "MATH_PROF_8                      object\n",
              "dtype: object"
            ]
          },
          "metadata": {
            "tags": []
          },
          "execution_count": 430
        }
      ]
    },
    {
      "cell_type": "code",
      "metadata": {
        "id": "QvvPaFq82-I3",
        "colab_type": "code",
        "colab": {}
      },
      "source": [
        "all_states['READING_PROF_8'] = all_states['READING_PROF_8'].astype(str)\n",
        "all_states['MATH_PROF_8'] = all_states['MATH_PROF_8'].astype(str)"
      ],
      "execution_count": 0,
      "outputs": []
    },
    {
      "cell_type": "markdown",
      "metadata": {
        "id": "b4xqSGhui91x",
        "colab_type": "text"
      },
      "source": [
        "###***Choose which observations you will use to train, validate, and test your model.***"
      ]
    },
    {
      "cell_type": "markdown",
      "metadata": {
        "id": "IDw-yQmDGq6W",
        "colab_type": "text"
      },
      "source": [
        "I would split this dataset by date. That would make the most sense in this context. \n",
        "Does not make sense to split since as a classification problem, greater than 70% of the majority class for any of the predictive features is the majority class of basic. \n",
        "- will combat this by separting the basic section into a low medium and high group. "
      ]
    },
    {
      "cell_type": "code",
      "metadata": {
        "id": "yGPcZbES2OAh",
        "colab_type": "code",
        "colab": {}
      },
      "source": [
        "from sklearn.model_selection import train_test_split"
      ],
      "execution_count": 0,
      "outputs": []
    },
    {
      "cell_type": "code",
      "metadata": {
        "id": "HC0H96pGNnjG",
        "colab_type": "code",
        "outputId": "540fe1e8-6be2-4fff-d8b3-7b8818b696d0",
        "colab": {
          "base_uri": "https://localhost:8080/",
          "height": 34
        }
      },
      "source": [
        "train = all_states[all_states['YEAR'] <= 2011]\n",
        "test = all_states[all_states['YEAR'] > 2011]\n",
        "train.shape, test.shape"
      ],
      "execution_count": 438,
      "outputs": [
        {
          "output_type": "execute_result",
          "data": {
            "text/plain": [
              "((1161, 27), (331, 27))"
            ]
          },
          "metadata": {
            "tags": []
          },
          "execution_count": 438
        }
      ]
    },
    {
      "cell_type": "code",
      "metadata": {
        "id": "HRppz5cJT7E5",
        "colab_type": "code",
        "outputId": "e84d0f3d-4387-46ec-9072-67b7b12906b3",
        "colab": {
          "base_uri": "https://localhost:8080/",
          "height": 34
        }
      },
      "source": [
        "min(train['YEAR']), max(train['YEAR'])"
      ],
      "execution_count": 439,
      "outputs": [
        {
          "output_type": "execute_result",
          "data": {
            "text/plain": [
              "(1992, 2011)"
            ]
          },
          "metadata": {
            "tags": []
          },
          "execution_count": 439
        }
      ]
    },
    {
      "cell_type": "code",
      "metadata": {
        "id": "_lYxfhieUAjv",
        "colab_type": "code",
        "outputId": "51f8ac32-aedd-4728-c1d6-b55147e9ea74",
        "colab": {
          "base_uri": "https://localhost:8080/",
          "height": 34
        }
      },
      "source": [
        "min(test['YEAR']), max(test['YEAR'])"
      ],
      "execution_count": 440,
      "outputs": [
        {
          "output_type": "execute_result",
          "data": {
            "text/plain": [
              "(2012, 2017)"
            ]
          },
          "metadata": {
            "tags": []
          },
          "execution_count": 440
        }
      ]
    },
    {
      "cell_type": "code",
      "metadata": {
        "id": "4d7Jrrzf2KTI",
        "colab_type": "code",
        "colab": {
          "base_uri": "https://localhost:8080/",
          "height": 34
        },
        "outputId": "96d205fc-d26e-4a4e-a675-7c0fa06a8b14"
      },
      "source": [
        "train, val = train_test_split(\n",
        "    train, train_size=0.80, test_size=0.20,\n",
        "    stratify=train['READING_PROF_8'], \n",
        "    random_state=42\n",
        ")\n",
        "\n",
        "train.shape, val.shape, test.shape"
      ],
      "execution_count": 441,
      "outputs": [
        {
          "output_type": "execute_result",
          "data": {
            "text/plain": [
              "((928, 27), (233, 27), (331, 27))"
            ]
          },
          "metadata": {
            "tags": []
          },
          "execution_count": 441
        }
      ]
    },
    {
      "cell_type": "markdown",
      "metadata": {
        "id": "N_nZMtCQjU5d",
        "colab_type": "text"
      },
      "source": [
        "###***Begin to clean and explore your data.***"
      ]
    },
    {
      "cell_type": "markdown",
      "metadata": {
        "id": "3NnAgoM-GaqN",
        "colab_type": "text"
      },
      "source": [
        "For this dataset, I would delete the years where the NAEP test scores are not available since that does not give anything for me to train/validate/test the data on. The data is from 1992 - 2017. The NAEP only gives information for the years 1992, 1996, 2000, 2003, 2005, 2007, 2009, 2011, 2013, 2015, 2017. "
      ]
    },
    {
      "cell_type": "code",
      "metadata": {
        "id": "IjyblJBX31rM",
        "colab_type": "code",
        "outputId": "2a4a643d-3e84-4d2f-e6d9-5356d29f83c8",
        "colab": {
          "base_uri": "https://localhost:8080/",
          "height": 493
        }
      },
      "source": [
        "all_states.isnull().sum()"
      ],
      "execution_count": 442,
      "outputs": [
        {
          "output_type": "execute_result",
          "data": {
            "text/plain": [
              "PRIMARY_KEY                       0\n",
              "STATE                             0\n",
              "YEAR                              0\n",
              "ENROLL                          263\n",
              "TOTAL_REVENUE                   212\n",
              "FEDERAL_REVENUE                 212\n",
              "STATE_REVENUE                   212\n",
              "LOCAL_REVENUE                   212\n",
              "TOTAL_EXPENDITURE               212\n",
              "INSTRUCTION_EXPENDITURE         212\n",
              "SUPPORT_SERVICES_EXPENDITURE    212\n",
              "OTHER_EXPENDITURE               263\n",
              "CAPITAL_OUTLAY_EXPENDITURE      212\n",
              "GRADES_PK_G                     173\n",
              "GRADES_KG_G                     132\n",
              "GRADES_4_G                      131\n",
              "GRADES_8_G                      131\n",
              "GRADES_12_G                     131\n",
              "GRADES_1_8_G                    131\n",
              "GRADES_9_12_G                   131\n",
              "GRADES_ALL_G                    173\n",
              "AVG_MATH_4_SCORE                956\n",
              "AVG_MATH_8_SCORE                960\n",
              "AVG_READING_4_SCORE             959\n",
              "AVG_READING_8_SCORE             994\n",
              "READING_PROF_8                    0\n",
              "MATH_PROF_8                       0\n",
              "dtype: int64"
            ]
          },
          "metadata": {
            "tags": []
          },
          "execution_count": 442
        }
      ]
    },
    {
      "cell_type": "markdown",
      "metadata": {
        "id": "7uuFdw2e2DO3",
        "colab_type": "text"
      },
      "source": [
        "### ***WRANGLE***"
      ]
    },
    {
      "cell_type": "code",
      "metadata": {
        "id": "8s1hAtmc2G18",
        "colab_type": "code",
        "colab": {
          "base_uri": "https://localhost:8080/",
          "height": 34
        },
        "outputId": "71842771-58e7-4e0b-91d0-978ad1384239"
      },
      "source": [
        "def wrangle(X):\n",
        "  # Prevent SettingWithCopyWarning\n",
        "  X = X.copy()\n",
        "\n",
        "  # When columns have zeros and shouldn't, they are like null values.\n",
        "  # So we will replace the zeros with nulls, and impute missing values later.\n",
        "  cols_with_zeros = ['READING_PROF_8', 'MATH_PROF_8']\n",
        "  for col in cols_with_zeros:\n",
        "        X[col] = X[col].replace(0, np.nan) \n",
        "  \n",
        "  #Dropping rows if they do not contain any score data, will not drop if there is just 1 value\n",
        "  X = X.dropna(axis=0, subset=['AVG_MATH_4_SCORE', 'AVG_MATH_8_SCORE', 'AVG_READING_4_SCORE', 'AVG_READING_8_SCORE'], thresh=1)\n",
        "\n",
        "  #Return the wrangled dataframe\n",
        "  return X\n",
        "\n",
        "train = wrangle(train)\n",
        "val = wrangle(val)\n",
        "test = wrangle(test) \n",
        "\n",
        "train.shape, val.shape, test.shape"
      ],
      "execution_count": 451,
      "outputs": [
        {
          "output_type": "execute_result",
          "data": {
            "text/plain": [
              "((319, 27), (84, 27), (153, 27))"
            ]
          },
          "metadata": {
            "tags": []
          },
          "execution_count": 451
        }
      ]
    },
    {
      "cell_type": "markdown",
      "metadata": {
        "id": "IMJsQ8OU5xLQ",
        "colab_type": "text"
      },
      "source": [
        "I went from having 1492 rows to 556!"
      ]
    },
    {
      "cell_type": "markdown",
      "metadata": {
        "id": "PF6MrankjeVe",
        "colab_type": "text"
      },
      "source": [
        "###***Begin to choose which features, if any, to exclude. Would some features \"leak\" future information?***"
      ]
    },
    {
      "cell_type": "markdown",
      "metadata": {
        "id": "Z33qY2gcE4HL",
        "colab_type": "text"
      },
      "source": [
        "If I were to use this dataset, I would delete the scores since that would definitely delete information. \n",
        "- either Reading or Math. "
      ]
    }
  ]
}