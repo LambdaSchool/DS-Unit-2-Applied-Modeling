{
  "nbformat": 4,
  "nbformat_minor": 0,
  "metadata": {
    "colab": {
      "name": "Tuan Ky Build Week 2 project assignment_applied_modeling_1+2.ipynb",
      "provenance": [],
      "collapsed_sections": [],
      "machine_shape": "hm",
      "include_colab_link": true
    },
    "kernelspec": {
      "display_name": "Python 3",
      "language": "python",
      "name": "python3"
    },
    "language_info": {
      "codemirror_mode": {
        "name": "ipython",
        "version": 3
      },
      "file_extension": ".py",
      "mimetype": "text/x-python",
      "name": "python",
      "nbconvert_exporter": "python",
      "pygments_lexer": "ipython3",
      "version": "3.7.3"
    }
  },
  "cells": [
    {
      "cell_type": "markdown",
      "metadata": {
        "id": "view-in-github",
        "colab_type": "text"
      },
      "source": [
        "<a href=\"https://colab.research.google.com/github/tuanky/DS-Unit-2-Applied-Modeling/blob/master/Tuan_Ky_Build_Week_2_project_assignment_applied_modeling_1%2B2.ipynb\" target=\"_parent\"><img src=\"https://colab.research.google.com/assets/colab-badge.svg\" alt=\"Open In Colab\"/></a>"
      ]
    },
    {
      "cell_type": "markdown",
      "metadata": {
        "colab_type": "text",
        "id": "nCc3XZEyG3XV"
      },
      "source": [
        "Lambda School Data Science\n",
        "\n",
        "*Unit 2, Sprint 3, Module 1*\n",
        "\n",
        "---\n",
        "\n",
        "\n",
        "# Define ML problems\n",
        "\n",
        "You will use your portfolio project dataset for all assignments this sprint.\n",
        "\n",
        "## Assignment\n",
        "\n",
        "Complete these tasks for your project, and document your decisions.\n",
        "\n",
        "- [ ] Choose your target. Which column in your tabular dataset will you predict? ** Crash Descriptor**\n",
        "- [ ] Is your problem regression or classification? Classification\n",
        "- [ ] How is your target distributed?\n",
        "    - Classification: How many classes? Are the classes imbalanced?** 4 classes**\n",
        "    - Regression: Is the target right-skewed? If so, you may want to log transform the target.\n",
        "- [ ] Choose which observations you will use to train, validate, and test your model.\n",
        "    - Are some observations outliers? Will you exclude them?\n",
        "    - Will you do a random split or a time-based split?\n",
        "- [ ] Choose your evaluation metric(s).\n",
        "    - Classification: Is your majority class frequency > 50% and < 70% ? If so, you can just use accuracy if you want. Outside that range, accuracy could be misleading. What evaluation metric will you choose, in addition to or instead of accuracy? **The majority class, Property Damage, is  within 50-70%**\n",
        "- [ ] Begin to clean and explore your data.\n",
        "- [ ] Begin to choose which features, if any, to exclude. Would some features \"leak\" future information?"
      ]
    },
    {
      "cell_type": "code",
      "metadata": {
        "id": "H4WsGULIKfAy",
        "colab_type": "code",
        "outputId": "8eee7483-4b4b-4e4e-fa82-ae604af4ab44",
        "colab": {
          "base_uri": "https://localhost:8080/",
          "height": 34
        }
      },
      "source": [
        "\n",
        "\n",
        "!pip install dask"
      ],
      "execution_count": 0,
      "outputs": [
        {
          "output_type": "stream",
          "text": [
            "Requirement already satisfied: dask in /usr/local/lib/python3.6/dist-packages (1.1.5)\n"
          ],
          "name": "stdout"
        }
      ]
    },
    {
      "cell_type": "code",
      "metadata": {
        "id": "Xu6FNcXu68op",
        "colab_type": "code",
        "outputId": "ffbeed98-d9d8-4a17-e530-8a177b372abf",
        "colab": {
          "base_uri": "https://localhost:8080/",
          "height": 119
        }
      },
      "source": [
        "import pandas as pd\n",
        "import numpy as np\n",
        "import dask.dataframe as dd\n",
        "!pip install psutil requests"
      ],
      "execution_count": 2,
      "outputs": [
        {
          "output_type": "stream",
          "text": [
            "Requirement already satisfied: psutil in /usr/local/lib/python3.6/dist-packages (5.4.8)\n",
            "Requirement already satisfied: requests in /usr/local/lib/python3.6/dist-packages (2.21.0)\n",
            "Requirement already satisfied: certifi>=2017.4.17 in /usr/local/lib/python3.6/dist-packages (from requests) (2019.9.11)\n",
            "Requirement already satisfied: urllib3<1.25,>=1.21.1 in /usr/local/lib/python3.6/dist-packages (from requests) (1.24.3)\n",
            "Requirement already satisfied: idna<2.9,>=2.5 in /usr/local/lib/python3.6/dist-packages (from requests) (2.8)\n",
            "Requirement already satisfied: chardet<3.1.0,>=3.0.2 in /usr/local/lib/python3.6/dist-packages (from requests) (3.0.4)\n"
          ],
          "name": "stdout"
        }
      ]
    },
    {
      "cell_type": "code",
      "metadata": {
        "id": "l_v1lbaf72pa",
        "colab_type": "code",
        "outputId": "96ebf8ad-008f-411a-b3d6-c44cd8155472",
        "colab": {
          "base_uri": "https://localhost:8080/",
          "height": 122
        }
      },
      "source": [
        "from google.colab import drive\n",
        "drive.mount('/content/gdrive')"
      ],
      "execution_count": 3,
      "outputs": [
        {
          "output_type": "stream",
          "text": [
            "Go to this URL in a browser: https://accounts.google.com/o/oauth2/auth?client_id=947318989803-6bn6qk8qdgf4n4g3pfee6491hc0brc4i.apps.googleusercontent.com&redirect_uri=urn%3Aietf%3Awg%3Aoauth%3A2.0%3Aoob&scope=email%20https%3A%2F%2Fwww.googleapis.com%2Fauth%2Fdocs.test%20https%3A%2F%2Fwww.googleapis.com%2Fauth%2Fdrive%20https%3A%2F%2Fwww.googleapis.com%2Fauth%2Fdrive.photos.readonly%20https%3A%2F%2Fwww.googleapis.com%2Fauth%2Fpeopleapi.readonly&response_type=code\n",
            "\n",
            "Enter your authorization code:\n",
            "··········\n",
            "Mounted at /content/gdrive\n"
          ],
          "name": "stdout"
        }
      ]
    },
    {
      "cell_type": "code",
      "metadata": {
        "colab_type": "code",
        "outputId": "0d9dbf55-2a08-4a4a-bb1f-b8fc896fa91b",
        "id": "qoNi9iGQQxSS",
        "colab": {
          "base_uri": "https://localhost:8080/",
          "height": 136
        }
      },
      "source": [
        "%%time\n",
        "def reduce_mem_usage(df):\n",
        "    \"\"\" iterate through all the columns of a dataframe and modify the data type\n",
        "        to reduce memory usage.        \n",
        "    \"\"\"\n",
        "    start_mem = df.memory_usage().sum() / 1024**2\n",
        "    start_mem_gb = start_mem / 1024\n",
        "    print(f'Memory usage of dataframe is {start_mem:.2f} MB',\n",
        "          f'/ {start_mem_gb:.2f} GB')\n",
        "    \n",
        "    for col in df:\n",
        "        col_type = str(df[col].dtypes)\n",
        "        \n",
        "        if col_type != 'object':\n",
        "            c_min = df[col].min()\n",
        "            c_max = df[col].max()\n",
        "            if col_type[:3] == 'int':\n",
        "                if c_min > np.iinfo(np.int8).min and c_max < np.iinfo(np.int8).max:\n",
        "                    df[col] = df[col].astype(np.int8)\n",
        "                elif c_min > np.iinfo(np.int16).min and c_max < np.iinfo(np.int16).max:\n",
        "                    df[col] = df[col].astype(np.int16)\n",
        "                elif c_min > np.iinfo(np.int32).min and c_max < np.iinfo(np.int32).max:\n",
        "                    df[col] = df[col].astype(np.int32)\n",
        "                elif c_min > np.iinfo(np.int64).min and c_max < np.iinfo(np.int64).max:\n",
        "                    df[col] = df[col].astype(np.int64)  \n",
        "            else:\n",
        "                #if c_min > np.finfo(np.float16).min and c_max < np.finfo(np.float16).max:\n",
        "                #    df[col] = df[col].astype(np.float16)\n",
        "                if c_min > np.finfo(np.float32).min and c_max < np.finfo(np.float32).max:\n",
        "                    df[col] = df[col].astype(np.float32)\n",
        "                else:\n",
        "                    df[col] = df[col].astype(np.float64)\n",
        "        else:\n",
        "            df[col] = df[col].astype('category')\n",
        "\n",
        "    end_mem = df.memory_usage().sum() / 1024**2\n",
        "    end_mem_gb = end_mem / 1024\n",
        "    print(f'Memory usage after optimization is: {end_mem:.2f} MB',\n",
        "          f'/ {end_mem_gb:.2f} GB')\n",
        "    mem_dec = 100 * (start_mem - end_mem) / start_mem\n",
        "    print(f'Decreased by {mem_dec:.1f}%')\n",
        "    \n",
        "    return df\n",
        "\n",
        "\n",
        "def import_data(file):\n",
        "    \"\"\"create a dataframe and optimize its memory usage\"\"\"\n",
        "\n",
        "    dtypes = {\n",
        "        'AVProductStatesIdentifier': 'float64',\n",
        "        'AVProductsEnabled': 'float64',\n",
        "        'AVProductsInstalled': 'float64',\n",
        "        'GeoNameIdentifier': 'float64',\n",
        "        'IsProtected': 'float64',\n",
        "        'PuaMode': 'object'\n",
        "    }\n",
        "    ddf = dd.read_csv(file, dtype=dtypes, parse_dates=True, keep_date_col=True)\n",
        "    df = ddf.compute()\n",
        "    df = reduce_mem_usage(df)\n",
        "    return df\n",
        "\n",
        "file = 'gdrive/My Drive/train.csv'\n",
        "print('-' * 80)\n",
        "print('train')\n",
        "df = import_data(file)"
      ],
      "execution_count": 4,
      "outputs": [
        {
          "output_type": "stream",
          "text": [
            "--------------------------------------------------------------------------------\n",
            "train\n",
            "Memory usage of dataframe is 129.87 MB / 0.13 GB\n",
            "Memory usage after optimization is: 31.46 MB / 0.03 GB\n",
            "Decreased by 75.8%\n",
            "CPU times: user 5.32 s, sys: 1.31 s, total: 6.64 s\n",
            "Wall time: 15.5 s\n"
          ],
          "name": "stdout"
        }
      ]
    },
    {
      "cell_type": "code",
      "metadata": {
        "id": "_XUvSpvc9XWx",
        "colab_type": "code",
        "outputId": "beb82541-7499-495f-d11b-c51cebc0bff0",
        "colab": {
          "base_uri": "https://localhost:8080/",
          "height": 425
        }
      },
      "source": [
        "print(df.shape)\n",
        "df.head()"
      ],
      "execution_count": 5,
      "outputs": [
        {
          "output_type": "stream",
          "text": [
            "(895916, 18)\n"
          ],
          "name": "stdout"
        },
        {
          "output_type": "execute_result",
          "data": {
            "text/html": [
              "<div>\n",
              "<style scoped>\n",
              "    .dataframe tbody tr th:only-of-type {\n",
              "        vertical-align: middle;\n",
              "    }\n",
              "\n",
              "    .dataframe tbody tr th {\n",
              "        vertical-align: top;\n",
              "    }\n",
              "\n",
              "    .dataframe thead th {\n",
              "        text-align: right;\n",
              "    }\n",
              "</style>\n",
              "<table border=\"1\" class=\"dataframe\">\n",
              "  <thead>\n",
              "    <tr style=\"text-align: right;\">\n",
              "      <th></th>\n",
              "      <th>Year</th>\n",
              "      <th>Crash Descriptor</th>\n",
              "      <th>Time</th>\n",
              "      <th>Date</th>\n",
              "      <th>Day of Week</th>\n",
              "      <th>Police Report</th>\n",
              "      <th>Lighting Conditions</th>\n",
              "      <th>Municipality</th>\n",
              "      <th>Collision Type Descriptor</th>\n",
              "      <th>County Name</th>\n",
              "      <th>Road Descriptor</th>\n",
              "      <th>Weather Conditions</th>\n",
              "      <th>Traffic Control Device</th>\n",
              "      <th>Road Surface Conditions</th>\n",
              "      <th>DOT Reference Marker Location</th>\n",
              "      <th>Pedestrian Bicyclist Action</th>\n",
              "      <th>Event Descriptor</th>\n",
              "      <th>Number of Vehicles Involved</th>\n",
              "    </tr>\n",
              "  </thead>\n",
              "  <tbody>\n",
              "    <tr>\n",
              "      <th>0</th>\n",
              "      <td>2014</td>\n",
              "      <td>Injury Accident</td>\n",
              "      <td>5:35</td>\n",
              "      <td>6/18/2014</td>\n",
              "      <td>Wednesday</td>\n",
              "      <td>Y</td>\n",
              "      <td>Dawn</td>\n",
              "      <td>NEW YORK</td>\n",
              "      <td>OTHER</td>\n",
              "      <td>NEW YORK</td>\n",
              "      <td>Straight and Level</td>\n",
              "      <td>Clear</td>\n",
              "      <td>None</td>\n",
              "      <td>Dry</td>\n",
              "      <td>NaN</td>\n",
              "      <td>Crossing, No Signal or Crosswalk</td>\n",
              "      <td>Pedestrian, Collision With</td>\n",
              "      <td>1</td>\n",
              "    </tr>\n",
              "    <tr>\n",
              "      <th>1</th>\n",
              "      <td>2014</td>\n",
              "      <td>Property Damage Accident</td>\n",
              "      <td>15:28</td>\n",
              "      <td>11/6/2014</td>\n",
              "      <td>Thursday</td>\n",
              "      <td>Y</td>\n",
              "      <td>Daylight</td>\n",
              "      <td>HENRIETTA</td>\n",
              "      <td>RIGHT ANGLE</td>\n",
              "      <td>MONROE</td>\n",
              "      <td>Straight and Level</td>\n",
              "      <td>Rain</td>\n",
              "      <td>None</td>\n",
              "      <td>Wet</td>\n",
              "      <td>NaN</td>\n",
              "      <td>Not Applicable</td>\n",
              "      <td>Other Motor Vehicle, Collision With</td>\n",
              "      <td>2</td>\n",
              "    </tr>\n",
              "    <tr>\n",
              "      <th>2</th>\n",
              "      <td>2014</td>\n",
              "      <td>Property Damage Accident</td>\n",
              "      <td>15:27</td>\n",
              "      <td>3/19/2014</td>\n",
              "      <td>Wednesday</td>\n",
              "      <td>Y</td>\n",
              "      <td>Daylight</td>\n",
              "      <td>CICERO</td>\n",
              "      <td>OVERTAKING</td>\n",
              "      <td>ONONDAGA</td>\n",
              "      <td>Straight and Level</td>\n",
              "      <td>Cloudy</td>\n",
              "      <td>None</td>\n",
              "      <td>Dry</td>\n",
              "      <td>NaN</td>\n",
              "      <td>Not Applicable</td>\n",
              "      <td>Other Motor Vehicle, Collision With</td>\n",
              "      <td>2</td>\n",
              "    </tr>\n",
              "    <tr>\n",
              "      <th>3</th>\n",
              "      <td>2014</td>\n",
              "      <td>Property Damage Accident</td>\n",
              "      <td>4:03</td>\n",
              "      <td>6/23/2014</td>\n",
              "      <td>Monday</td>\n",
              "      <td>Y</td>\n",
              "      <td>Dark-Road Unlighted</td>\n",
              "      <td>COLESVILLE</td>\n",
              "      <td>OTHER</td>\n",
              "      <td>BROOME</td>\n",
              "      <td>Straight and Grade</td>\n",
              "      <td>Clear</td>\n",
              "      <td>None</td>\n",
              "      <td>Dry</td>\n",
              "      <td>88I91011017</td>\n",
              "      <td>Not Applicable</td>\n",
              "      <td>Deer</td>\n",
              "      <td>1</td>\n",
              "    </tr>\n",
              "    <tr>\n",
              "      <th>4</th>\n",
              "      <td>2014</td>\n",
              "      <td>Property Damage Accident</td>\n",
              "      <td>15:28</td>\n",
              "      <td>9/27/2014</td>\n",
              "      <td>Saturday</td>\n",
              "      <td>Y</td>\n",
              "      <td>Daylight</td>\n",
              "      <td>HECTOR</td>\n",
              "      <td>OTHER</td>\n",
              "      <td>SCHUYLER</td>\n",
              "      <td>Straight and Level</td>\n",
              "      <td>Cloudy</td>\n",
              "      <td>None</td>\n",
              "      <td>Dry</td>\n",
              "      <td>79 63061019</td>\n",
              "      <td>Not Applicable</td>\n",
              "      <td>Deer</td>\n",
              "      <td>1</td>\n",
              "    </tr>\n",
              "  </tbody>\n",
              "</table>\n",
              "</div>"
            ],
            "text/plain": [
              "   Year  ... Number of Vehicles Involved\n",
              "0  2014  ...                           1\n",
              "1  2014  ...                           2\n",
              "2  2014  ...                           2\n",
              "3  2014  ...                           1\n",
              "4  2014  ...                           1\n",
              "\n",
              "[5 rows x 18 columns]"
            ]
          },
          "metadata": {
            "tags": []
          },
          "execution_count": 5
        }
      ]
    },
    {
      "cell_type": "code",
      "metadata": {
        "id": "zjPipacFSkXw",
        "colab_type": "code",
        "colab": {
          "base_uri": "https://localhost:8080/",
          "height": 374
        },
        "outputId": "5c4ddf8f-bd9b-4466-f8d2-af9451bae63b"
      },
      "source": [
        "df.tail()"
      ],
      "execution_count": 6,
      "outputs": [
        {
          "output_type": "execute_result",
          "data": {
            "text/html": [
              "<div>\n",
              "<style scoped>\n",
              "    .dataframe tbody tr th:only-of-type {\n",
              "        vertical-align: middle;\n",
              "    }\n",
              "\n",
              "    .dataframe tbody tr th {\n",
              "        vertical-align: top;\n",
              "    }\n",
              "\n",
              "    .dataframe thead th {\n",
              "        text-align: right;\n",
              "    }\n",
              "</style>\n",
              "<table border=\"1\" class=\"dataframe\">\n",
              "  <thead>\n",
              "    <tr style=\"text-align: right;\">\n",
              "      <th></th>\n",
              "      <th>Year</th>\n",
              "      <th>Crash Descriptor</th>\n",
              "      <th>Time</th>\n",
              "      <th>Date</th>\n",
              "      <th>Day of Week</th>\n",
              "      <th>Police Report</th>\n",
              "      <th>Lighting Conditions</th>\n",
              "      <th>Municipality</th>\n",
              "      <th>Collision Type Descriptor</th>\n",
              "      <th>County Name</th>\n",
              "      <th>Road Descriptor</th>\n",
              "      <th>Weather Conditions</th>\n",
              "      <th>Traffic Control Device</th>\n",
              "      <th>Road Surface Conditions</th>\n",
              "      <th>DOT Reference Marker Location</th>\n",
              "      <th>Pedestrian Bicyclist Action</th>\n",
              "      <th>Event Descriptor</th>\n",
              "      <th>Number of Vehicles Involved</th>\n",
              "    </tr>\n",
              "  </thead>\n",
              "  <tbody>\n",
              "    <tr>\n",
              "      <th>224083</th>\n",
              "      <td>2016</td>\n",
              "      <td>Property Damage Accident</td>\n",
              "      <td>18:19</td>\n",
              "      <td>11/27/2016</td>\n",
              "      <td>Sunday</td>\n",
              "      <td>Y</td>\n",
              "      <td>Dark-Road Unlighted</td>\n",
              "      <td>LEICESTER</td>\n",
              "      <td>OTHER</td>\n",
              "      <td>LIVINGSTON</td>\n",
              "      <td>Straight and Level</td>\n",
              "      <td>Cloudy</td>\n",
              "      <td>None</td>\n",
              "      <td>Dry</td>\n",
              "      <td>36 42021185</td>\n",
              "      <td>Not Applicable</td>\n",
              "      <td>Deer</td>\n",
              "      <td>1</td>\n",
              "    </tr>\n",
              "    <tr>\n",
              "      <th>224084</th>\n",
              "      <td>2016</td>\n",
              "      <td>Property Damage Accident</td>\n",
              "      <td>16:57</td>\n",
              "      <td>4/27/2016</td>\n",
              "      <td>Wednesday</td>\n",
              "      <td>Y</td>\n",
              "      <td>Daylight</td>\n",
              "      <td>NIAGARA FALLS</td>\n",
              "      <td>OTHER</td>\n",
              "      <td>NIAGARA</td>\n",
              "      <td>Straight and Level</td>\n",
              "      <td>Clear</td>\n",
              "      <td>None</td>\n",
              "      <td>Dry</td>\n",
              "      <td>NaN</td>\n",
              "      <td>Not Applicable</td>\n",
              "      <td>Fence, Collision With Fixed Object</td>\n",
              "      <td>1</td>\n",
              "    </tr>\n",
              "    <tr>\n",
              "      <th>224085</th>\n",
              "      <td>2016</td>\n",
              "      <td>Property Damage &amp; Injury Accident</td>\n",
              "      <td>21:50</td>\n",
              "      <td>12/6/2016</td>\n",
              "      <td>Tuesday</td>\n",
              "      <td>Y</td>\n",
              "      <td>Dark-Road Unlighted</td>\n",
              "      <td>CANDOR</td>\n",
              "      <td>RIGHT ANGLE</td>\n",
              "      <td>TIOGA</td>\n",
              "      <td>Curve and Level</td>\n",
              "      <td>Snow</td>\n",
              "      <td>None</td>\n",
              "      <td>Snow/Ice</td>\n",
              "      <td>96 65011135</td>\n",
              "      <td>Not Applicable</td>\n",
              "      <td>Other Motor Vehicle, Collision With</td>\n",
              "      <td>2</td>\n",
              "    </tr>\n",
              "    <tr>\n",
              "      <th>224086</th>\n",
              "      <td>2015</td>\n",
              "      <td>Property Damage Accident</td>\n",
              "      <td>19:30</td>\n",
              "      <td>9/19/2015</td>\n",
              "      <td>Saturday</td>\n",
              "      <td>Y</td>\n",
              "      <td>Dark-Road Lighted</td>\n",
              "      <td>NORTH HEMPSTEAD</td>\n",
              "      <td>REAR END</td>\n",
              "      <td>NASSAU</td>\n",
              "      <td>Straight and Level</td>\n",
              "      <td>Clear</td>\n",
              "      <td>None</td>\n",
              "      <td>Dry</td>\n",
              "      <td>NaN</td>\n",
              "      <td>Not Applicable</td>\n",
              "      <td>Other Motor Vehicle, Collision With</td>\n",
              "      <td>2</td>\n",
              "    </tr>\n",
              "    <tr>\n",
              "      <th>224087</th>\n",
              "      <td>2016</td>\n",
              "      <td>Injury Accident</td>\n",
              "      <td>12:35</td>\n",
              "      <td>1/7/2016</td>\n",
              "      <td>Thursday</td>\n",
              "      <td>Y</td>\n",
              "      <td>Daylight</td>\n",
              "      <td>CANANDAIGUA</td>\n",
              "      <td>OTHER</td>\n",
              "      <td>ONTARIO</td>\n",
              "      <td>Straight and Level</td>\n",
              "      <td>Cloudy</td>\n",
              "      <td>No Passing Zone</td>\n",
              "      <td>Dry</td>\n",
              "      <td>NaN</td>\n",
              "      <td>Working in Roadway</td>\n",
              "      <td>Pedestrian, Collision With</td>\n",
              "      <td>2</td>\n",
              "    </tr>\n",
              "  </tbody>\n",
              "</table>\n",
              "</div>"
            ],
            "text/plain": [
              "        Year  ... Number of Vehicles Involved\n",
              "224083  2016  ...                           1\n",
              "224084  2016  ...                           1\n",
              "224085  2016  ...                           2\n",
              "224086  2015  ...                           2\n",
              "224087  2016  ...                           2\n",
              "\n",
              "[5 rows x 18 columns]"
            ]
          },
          "metadata": {
            "tags": []
          },
          "execution_count": 6
        }
      ]
    },
    {
      "cell_type": "code",
      "metadata": {
        "id": "oyxwXcXl-9q8",
        "colab_type": "code",
        "outputId": "87b120ea-0112-4b14-8254-1bdd2201ea64",
        "colab": {
          "base_uri": "https://localhost:8080/",
          "height": 340
        }
      },
      "source": [
        "df.dtypes"
      ],
      "execution_count": 0,
      "outputs": [
        {
          "output_type": "execute_result",
          "data": {
            "text/plain": [
              "Year                                int16\n",
              "Crash Descriptor                 category\n",
              "Time                             category\n",
              "Date                             category\n",
              "Day of Week                      category\n",
              "Police Report                    category\n",
              "Lighting Conditions              category\n",
              "Municipality                     category\n",
              "Collision Type Descriptor        category\n",
              "County Name                      category\n",
              "Road Descriptor                  category\n",
              "Weather Conditions               category\n",
              "Traffic Control Device           category\n",
              "Road Surface Conditions          category\n",
              "DOT Reference Marker Location    category\n",
              "Pedestrian Bicyclist Action      category\n",
              "Event Descriptor                 category\n",
              "Number of Vehicles Involved          int8\n",
              "dtype: object"
            ]
          },
          "metadata": {
            "tags": []
          },
          "execution_count": 7
        }
      ]
    },
    {
      "cell_type": "code",
      "metadata": {
        "id": "YnGmzWpjSHb8",
        "colab_type": "code",
        "colab": {
          "base_uri": "https://localhost:8080/",
          "height": 357
        },
        "outputId": "d988edbf-f8b0-49a6-ef81-054dd398fb83"
      },
      "source": [
        "train_condition = (df['Year'] < 2016)\n",
        "train = df[train_condition]\n",
        "test = df[~train_condition]\n",
        "test.head()"
      ],
      "execution_count": 9,
      "outputs": [
        {
          "output_type": "execute_result",
          "data": {
            "text/html": [
              "<div>\n",
              "<style scoped>\n",
              "    .dataframe tbody tr th:only-of-type {\n",
              "        vertical-align: middle;\n",
              "    }\n",
              "\n",
              "    .dataframe tbody tr th {\n",
              "        vertical-align: top;\n",
              "    }\n",
              "\n",
              "    .dataframe thead th {\n",
              "        text-align: right;\n",
              "    }\n",
              "</style>\n",
              "<table border=\"1\" class=\"dataframe\">\n",
              "  <thead>\n",
              "    <tr style=\"text-align: right;\">\n",
              "      <th></th>\n",
              "      <th>Year</th>\n",
              "      <th>Crash Descriptor</th>\n",
              "      <th>Time</th>\n",
              "      <th>Date</th>\n",
              "      <th>Day of Week</th>\n",
              "      <th>Police Report</th>\n",
              "      <th>Lighting Conditions</th>\n",
              "      <th>Municipality</th>\n",
              "      <th>Collision Type Descriptor</th>\n",
              "      <th>County Name</th>\n",
              "      <th>Road Descriptor</th>\n",
              "      <th>Weather Conditions</th>\n",
              "      <th>Traffic Control Device</th>\n",
              "      <th>Road Surface Conditions</th>\n",
              "      <th>DOT Reference Marker Location</th>\n",
              "      <th>Pedestrian Bicyclist Action</th>\n",
              "      <th>Event Descriptor</th>\n",
              "      <th>Number of Vehicles Involved</th>\n",
              "    </tr>\n",
              "  </thead>\n",
              "  <tbody>\n",
              "    <tr>\n",
              "      <th>299452</th>\n",
              "      <td>2016</td>\n",
              "      <td>Property Damage &amp; Injury Accident</td>\n",
              "      <td>10:38</td>\n",
              "      <td>5/15/2016</td>\n",
              "      <td>Sunday</td>\n",
              "      <td>Y</td>\n",
              "      <td>Daylight</td>\n",
              "      <td>OYSTER BAY COVE</td>\n",
              "      <td>HEAD ON</td>\n",
              "      <td>NASSAU</td>\n",
              "      <td>Curve and Level</td>\n",
              "      <td>Cloudy</td>\n",
              "      <td>None</td>\n",
              "      <td>Dry</td>\n",
              "      <td>NaN</td>\n",
              "      <td>Not Applicable</td>\n",
              "      <td>Other Motor Vehicle, Collision With</td>\n",
              "      <td>2</td>\n",
              "    </tr>\n",
              "    <tr>\n",
              "      <th>299453</th>\n",
              "      <td>2016</td>\n",
              "      <td>Property Damage Accident</td>\n",
              "      <td>0:00</td>\n",
              "      <td>5/20/2016</td>\n",
              "      <td>Friday</td>\n",
              "      <td>N</td>\n",
              "      <td>Daylight</td>\n",
              "      <td>QUEENS</td>\n",
              "      <td>Unknown</td>\n",
              "      <td>QUEENS</td>\n",
              "      <td>Straight and Level</td>\n",
              "      <td>Clear</td>\n",
              "      <td>None</td>\n",
              "      <td>Dry</td>\n",
              "      <td>NaN</td>\n",
              "      <td>Not Applicable</td>\n",
              "      <td>Other Motor Vehicle, Collision With</td>\n",
              "      <td>2</td>\n",
              "    </tr>\n",
              "    <tr>\n",
              "      <th>299454</th>\n",
              "      <td>2016</td>\n",
              "      <td>Injury Accident</td>\n",
              "      <td>19:29</td>\n",
              "      <td>8/15/2016</td>\n",
              "      <td>Monday</td>\n",
              "      <td>Y</td>\n",
              "      <td>Daylight</td>\n",
              "      <td>DEERFIELD</td>\n",
              "      <td>OTHER</td>\n",
              "      <td>ONEIDA</td>\n",
              "      <td>Straight and Level</td>\n",
              "      <td>Cloudy</td>\n",
              "      <td>None</td>\n",
              "      <td>Dry</td>\n",
              "      <td>926A26012004</td>\n",
              "      <td>Not Applicable</td>\n",
              "      <td>Light Support/Utility Pole, Collision With Fix...</td>\n",
              "      <td>1</td>\n",
              "    </tr>\n",
              "    <tr>\n",
              "      <th>299457</th>\n",
              "      <td>2016</td>\n",
              "      <td>Property Damage Accident</td>\n",
              "      <td>12:55</td>\n",
              "      <td>3/30/2016</td>\n",
              "      <td>Wednesday</td>\n",
              "      <td>Y</td>\n",
              "      <td>Daylight</td>\n",
              "      <td>HUNTINGTON</td>\n",
              "      <td>OVERTAKING</td>\n",
              "      <td>SUFFOLK</td>\n",
              "      <td>Straight and Level</td>\n",
              "      <td>Clear</td>\n",
              "      <td>None</td>\n",
              "      <td>Dry</td>\n",
              "      <td>NaN</td>\n",
              "      <td>Not Applicable</td>\n",
              "      <td>Other Motor Vehicle, Collision With</td>\n",
              "      <td>2</td>\n",
              "    </tr>\n",
              "    <tr>\n",
              "      <th>299459</th>\n",
              "      <td>2016</td>\n",
              "      <td>Property Damage Accident</td>\n",
              "      <td>20:10</td>\n",
              "      <td>7/9/2016</td>\n",
              "      <td>Saturday</td>\n",
              "      <td>Y</td>\n",
              "      <td>Dusk</td>\n",
              "      <td>TONAWANDA</td>\n",
              "      <td>OTHER</td>\n",
              "      <td>ERIE</td>\n",
              "      <td>Straight and Level</td>\n",
              "      <td>Rain</td>\n",
              "      <td>None</td>\n",
              "      <td>Wet</td>\n",
              "      <td>290I53011010</td>\n",
              "      <td>Not Applicable</td>\n",
              "      <td>Guide Rail - Not At End, Collision With Fixed ...</td>\n",
              "      <td>1</td>\n",
              "    </tr>\n",
              "  </tbody>\n",
              "</table>\n",
              "</div>"
            ],
            "text/plain": [
              "        Year  ... Number of Vehicles Involved\n",
              "299452  2016  ...                           2\n",
              "299453  2016  ...                           2\n",
              "299454  2016  ...                           1\n",
              "299457  2016  ...                           2\n",
              "299459  2016  ...                           1\n",
              "\n",
              "[5 rows x 18 columns]"
            ]
          },
          "metadata": {
            "tags": []
          },
          "execution_count": 9
        }
      ]
    },
    {
      "cell_type": "code",
      "metadata": {
        "id": "hcrTbwkBTHws",
        "colab_type": "code",
        "colab": {
          "base_uri": "https://localhost:8080/",
          "height": 340
        },
        "outputId": "8068e93d-7b22-45f8-a905-2336e2b49c17"
      },
      "source": [
        "test.isnull().sum()"
      ],
      "execution_count": 10,
      "outputs": [
        {
          "output_type": "execute_result",
          "data": {
            "text/plain": [
              "Year                                  0\n",
              "Crash Descriptor                      0\n",
              "Time                                  0\n",
              "Date                                  0\n",
              "Day of Week                           0\n",
              "Police Report                         0\n",
              "Lighting Conditions                   0\n",
              "Municipality                       3210\n",
              "Collision Type Descriptor             0\n",
              "County Name                           0\n",
              "Road Descriptor                       0\n",
              "Weather Conditions                    0\n",
              "Traffic Control Device                0\n",
              "Road Surface Conditions               0\n",
              "DOT Reference Marker Location    197567\n",
              "Pedestrian Bicyclist Action           0\n",
              "Event Descriptor                      0\n",
              "Number of Vehicles Involved           0\n",
              "dtype: int64"
            ]
          },
          "metadata": {
            "tags": []
          },
          "execution_count": 10
        }
      ]
    },
    {
      "cell_type": "code",
      "metadata": {
        "id": "jUQitRLCTWNN",
        "colab_type": "code",
        "colab": {}
      },
      "source": [
        "#Choose your target. Which column in your tabular dataset will you predict? Crash Descriptor \n",
        "#link : https://catalog.data.gov/dataset/motor-vehicle-crashes-case-information-beginning-2009\n",
        "\n",
        "#Cross Validation to model the data\n",
        "target = 'Crash Descriptor'\n",
        "features = train.drop(columns=target).columns.tolist()\n",
        "\n",
        "# Arrange data into X features matrix and y target vector\n",
        "X_train = train[features]\n",
        "y_train = train[target]\n",
        "X_test = test[features]\n",
        "y_test = test[target]"
      ],
      "execution_count": 0,
      "outputs": []
    },
    {
      "cell_type": "code",
      "metadata": {
        "id": "_xUALJEW-M_B",
        "colab_type": "code",
        "outputId": "343a749b-30ab-4e50-997e-a4b1b7d89c73",
        "colab": {
          "base_uri": "https://localhost:8080/",
          "height": 102
        }
      },
      "source": [
        "#baseline\n",
        "df['Crash Descriptor'].value_counts(normalize=True)"
      ],
      "execution_count": 12,
      "outputs": [
        {
          "output_type": "execute_result",
          "data": {
            "text/plain": [
              "Property Damage Accident             0.600523\n",
              "Injury Accident                      0.204620\n",
              "Property Damage & Injury Accident    0.191531\n",
              "Fatal Accident                       0.003326\n",
              "Name: Crash Descriptor, dtype: float64"
            ]
          },
          "metadata": {
            "tags": []
          },
          "execution_count": 12
        }
      ]
    },
    {
      "cell_type": "code",
      "metadata": {
        "id": "yx1QyJmS_uR1",
        "colab_type": "code",
        "colab": {
          "base_uri": "https://localhost:8080/",
          "height": 272
        },
        "outputId": "a56da11f-c321-44b8-b308-11de0e6a77ec"
      },
      "source": [
        "# 2.Choose what data to hold out for your test set\n",
        "!pip install category_encoders\n",
        "import category_encoders as ce\n",
        "from scipy.stats import randint, uniform\n",
        "from sklearn.ensemble import RandomForestClassifier\n",
        "from sklearn.model_selection import RandomizedSearchCV\n",
        "from sklearn.pipeline import make_pipeline"
      ],
      "execution_count": 15,
      "outputs": [
        {
          "output_type": "stream",
          "text": [
            "Collecting category_encoders\n",
            "\u001b[?25l  Downloading https://files.pythonhosted.org/packages/a0/52/c54191ad3782de633ea3d6ee3bb2837bda0cf3bc97644bb6375cf14150a0/category_encoders-2.1.0-py2.py3-none-any.whl (100kB)\n",
            "\r\u001b[K     |███▎                            | 10kB 16.3MB/s eta 0:00:01\r\u001b[K     |██████▌                         | 20kB 2.1MB/s eta 0:00:01\r\u001b[K     |█████████▉                      | 30kB 3.1MB/s eta 0:00:01\r\u001b[K     |█████████████                   | 40kB 2.0MB/s eta 0:00:01\r\u001b[K     |████████████████▍               | 51kB 2.5MB/s eta 0:00:01\r\u001b[K     |███████████████████▋            | 61kB 3.0MB/s eta 0:00:01\r\u001b[K     |██████████████████████▉         | 71kB 3.4MB/s eta 0:00:01\r\u001b[K     |██████████████████████████▏     | 81kB 3.9MB/s eta 0:00:01\r\u001b[K     |█████████████████████████████▍  | 92kB 4.4MB/s eta 0:00:01\r\u001b[K     |████████████████████████████████| 102kB 2.7MB/s \n",
            "\u001b[?25hRequirement already satisfied: statsmodels>=0.6.1 in /usr/local/lib/python3.6/dist-packages (from category_encoders) (0.10.1)\n",
            "Requirement already satisfied: patsy>=0.4.1 in /usr/local/lib/python3.6/dist-packages (from category_encoders) (0.5.1)\n",
            "Requirement already satisfied: scipy>=0.19.0 in /usr/local/lib/python3.6/dist-packages (from category_encoders) (1.3.1)\n",
            "Requirement already satisfied: scikit-learn>=0.20.0 in /usr/local/lib/python3.6/dist-packages (from category_encoders) (0.21.3)\n",
            "Requirement already satisfied: pandas>=0.21.1 in /usr/local/lib/python3.6/dist-packages (from category_encoders) (0.25.3)\n",
            "Requirement already satisfied: numpy>=1.11.3 in /usr/local/lib/python3.6/dist-packages (from category_encoders) (1.17.3)\n",
            "Requirement already satisfied: six in /usr/local/lib/python3.6/dist-packages (from patsy>=0.4.1->category_encoders) (1.12.0)\n",
            "Requirement already satisfied: joblib>=0.11 in /usr/local/lib/python3.6/dist-packages (from scikit-learn>=0.20.0->category_encoders) (0.14.0)\n",
            "Requirement already satisfied: python-dateutil>=2.6.1 in /usr/local/lib/python3.6/dist-packages (from pandas>=0.21.1->category_encoders) (2.6.1)\n",
            "Requirement already satisfied: pytz>=2017.2 in /usr/local/lib/python3.6/dist-packages (from pandas>=0.21.1->category_encoders) (2018.9)\n",
            "Installing collected packages: category-encoders\n",
            "Successfully installed category-encoders-2.1.0\n"
          ],
          "name": "stdout"
        }
      ]
    },
    {
      "cell_type": "code",
      "metadata": {
        "id": "feGe8mTwUJeE",
        "colab_type": "code",
        "colab": {
          "base_uri": "https://localhost:8080/",
          "height": 51
        },
        "outputId": "6533ee59-80cd-4960-e08f-dc90a5fb169c"
      },
      "source": [
        "%%time \n",
        "pipe = make_pipeline(\n",
        "    ce.OrdinalEncoder(),\n",
        "    SimpleImputer(strategy='median'), \n",
        "    RandomForestClassifier(n_estimators=100,\n",
        "                           random_state=42,\n",
        "                           n_jobs=1,\n",
        "                           oob_score=True)\n",
        "    )\n",
        "\n",
        "params = {\n",
        "    'randomforestclassifier__max_features': uniform(0, 1),\n",
        "    'randomforestclassifier__min_samples_leaf': randint(1, 50),\n",
        "    'randomforestclassifier__max_depth': [5, 10, 15, 20, None]\n",
        "}\n",
        "\n",
        "search = RandomizedSearchCV(\n",
        "    pipe,\n",
        "    param_distributions=params,\n",
        "    n_iter=10,\n",
        "    cv=4,\n",
        "    scoring='accuracy',\n",
        "    verbose=10,\n",
        "    return_train_score=True,\n",
        "    n_jobs=-1\n",
        ")\n",
        "\n",
        "pipe.fit(X_train, y_train);"
      ],
      "execution_count": 24,
      "outputs": [
        {
          "output_type": "stream",
          "text": [
            "CPU times: user 3min 3s, sys: 3.39 s, total: 3min 6s\n",
            "Wall time: 3min 6s\n"
          ],
          "name": "stdout"
        }
      ]
    },
    {
      "cell_type": "code",
      "metadata": {
        "id": "xRuERwpmG-0x",
        "colab_type": "code",
        "outputId": "de56fde3-a913-49aa-f59a-10231ff45cc3",
        "colab": {
          "base_uri": "https://localhost:8080/",
          "height": 51
        }
      },
      "source": [
        "print('Train Accuracy:', pipe.score(X_train, y_train))\n",
        "print('Test Accuracy', pipe.score(X_test, y_test))"
      ],
      "execution_count": 25,
      "outputs": [
        {
          "output_type": "stream",
          "text": [
            "Train Accuracy: 0.9994747545487603\n",
            "Test Accuracy 0.693231050518701\n"
          ],
          "name": "stdout"
        }
      ]
    },
    {
      "cell_type": "code",
      "metadata": {
        "id": "Xf1PmtuFWVfK",
        "colab_type": "code",
        "colab": {
          "base_uri": "https://localhost:8080/",
          "height": 526
        },
        "outputId": "b676f625-3a55-4ee3-f917-b1a3c854e232"
      },
      "source": [
        "%matplotlib inline\n",
        "import matplotlib.pyplot as plt\n",
        "\n",
        "# Get the feature importances\n",
        "rf = pipe.named_steps['randomforestclassifier']\n",
        "importances = pd.Series(rf.feature_importances_, X_train.columns)\n",
        "\n",
        "# Plot the feature importances\n",
        "n = len(X_train.columns)\n",
        "plt.figure(figsize=(10,n/2))\n",
        "plt.title(f'Top {n} features')\n",
        "importances.sort_values()[-n:].plot.barh(color='grey');"
      ],
      "execution_count": 22,
      "outputs": [
        {
          "output_type": "display_data",
          "data": {
            "image/png": "[encoded data removed]",
            "text/plain": [
              "<Figure size 720x612 with 1 Axes>"
            ]
          },
          "metadata": {
            "tags": []
          }
        }
      ]
    },
    {
      "cell_type": "code",
      "metadata": {
        "id": "ymHyUXe6fBWU",
        "colab_type": "code",
        "colab": {
          "base_uri": "https://localhost:8080/",
          "height": 102
        },
        "outputId": "897bb5f6-e045-4d50-86f7-110e045c327f"
      },
      "source": [
        "%%time \n",
        "from sklearn.impute import SimpleImputer\n",
        "#drop-column imporance \n",
        "column  = 'Municipality'\n",
        "# Fit without column\n",
        "pipeline = make_pipeline(\n",
        "    ce.OrdinalEncoder(), \n",
        "    SimpleImputer(strategy='mean'), \n",
        "    RandomForestClassifier(n_estimators=100, random_state=42, n_jobs=-1)\n",
        ")\n",
        "pipeline.fit(X_train.drop(columns=column), y_train)\n",
        "score_without = pipeline.score(X_test.drop(columns=column), y_test)\n",
        "print(f'Validation Accuracy without {column}: {score_without}')\n",
        "\n",
        "# Fit with column\n",
        "pipeline = make_pipeline(\n",
        "    ce.OrdinalEncoder(), \n",
        "    SimpleImputer(strategy='mean'), \n",
        "    RandomForestClassifier(n_estimators=100, random_state=42, n_jobs=-1)\n",
        ")\n",
        "pipeline.fit(X_train, y_train)\n",
        "score_with = pipeline.score(X_test, y_test)\n",
        "print(f'Validation Accuracy with {column}: {score_with}')\n",
        "\n",
        "# Compare the error with & without column\n",
        "print(f'Drop-Column Importance for {column}: {score_with - score_without}')"
      ],
      "execution_count": 51,
      "outputs": [
        {
          "output_type": "stream",
          "text": [
            "Validation Accuracy without Municipality: 0.6824794308199849\n",
            "Validation Accuracy with Municipality: 0.691223816526889\n",
            "Drop-Column Importance for Municipality: 0.008744385706904167\n",
            "CPU times: user 10min 27s, sys: 2.16 s, total: 10min 29s\n",
            "Wall time: 2min 43s\n"
          ],
          "name": "stdout"
        }
      ]
    },
    {
      "cell_type": "code",
      "metadata": {
        "id": "mcAaRyWBh6IG",
        "colab_type": "code",
        "colab": {
          "base_uri": "https://localhost:8080/",
          "height": 102
        },
        "outputId": "1483850e-2d69-479d-8a0d-38cddda74194"
      },
      "source": [
        "%%time \n",
        "from sklearn.impute import SimpleImputer\n",
        "#drop-column imporance \n",
        "column  = 'Police Report'\n",
        "# Fit without column\n",
        "pipeline = make_pipeline(\n",
        "    ce.OrdinalEncoder(), \n",
        "    SimpleImputer(strategy='median'), \n",
        "    RandomForestClassifier(n_estimators=100, random_state=42, n_jobs=-1)\n",
        ")\n",
        "pipeline.fit(X_train.drop(columns=column), y_train)\n",
        "score_without = pipeline.score(X_test.drop(columns=column), y_test)\n",
        "print(f'Validation Accuracy without {column}: {score_without}')\n",
        "\n",
        "# Fit with column\n",
        "pipeline = make_pipeline(\n",
        "    ce.OrdinalEncoder(), \n",
        "    SimpleImputer(strategy='median'), \n",
        "    RandomForestClassifier(n_estimators=100, random_state=42, n_jobs=-1)\n",
        ")\n",
        "pipeline.fit(X_train, y_train)\n",
        "score_with = pipeline.score(X_test, y_test)\n",
        "print(f'Validation Accuracy with {column}: {score_with}')\n",
        "\n",
        "# Compare the error with & without column\n",
        "print(f'Drop-Column Importance for {column}: {score_with - score_without}')"
      ],
      "execution_count": 30,
      "outputs": [
        {
          "output_type": "stream",
          "text": [
            "Validation Accuracy without Police Report: 0.6839202671012361\n",
            "Validation Accuracy with Police Report: 0.693231050518701\n",
            "Drop-Column Importance for Police Report: 0.00931078341746494\n",
            "CPU times: user 10min 38s, sys: 3.1 s, total: 10min 41s\n",
            "Wall time: 2min 49s\n"
          ],
          "name": "stdout"
        }
      ]
    },
    {
      "cell_type": "code",
      "metadata": {
        "id": "NxtFp6HejpZP",
        "colab_type": "code",
        "colab": {
          "base_uri": "https://localhost:8080/",
          "height": 136
        },
        "outputId": "6a65feb3-dfe0-4cc1-f1c9-e1b3f0b46fe0"
      },
      "source": [
        "transformers = make_pipeline(\n",
        "    ce.OrdinalEncoder(), \n",
        "    SimpleImputer(strategy='median')\n",
        ")\n",
        "\n",
        "X_train_transformed = transformers.fit_transform(X_train)\n",
        "X_test_transformed = transformers.transform(X_test)\n",
        "\n",
        "model = RandomForestClassifier(n_estimators=100, random_state=42, n_jobs=-1)\n",
        "model.fit(X_train_transformed, y_train)"
      ],
      "execution_count": 33,
      "outputs": [
        {
          "output_type": "execute_result",
          "data": {
            "text/plain": [
              "RandomForestClassifier(bootstrap=True, class_weight=None, criterion='gini',\n",
              "                       max_depth=None, max_features='auto', max_leaf_nodes=None,\n",
              "                       min_impurity_decrease=0.0, min_impurity_split=None,\n",
              "                       min_samples_leaf=1, min_samples_split=2,\n",
              "                       min_weight_fraction_leaf=0.0, n_estimators=100,\n",
              "                       n_jobs=-1, oob_score=False, random_state=42, verbose=0,\n",
              "                       warm_start=False)"
            ]
          },
          "metadata": {
            "tags": []
          },
          "execution_count": 33
        }
      ]
    },
    {
      "cell_type": "code",
      "metadata": {
        "id": "nFY4kLy_lafr",
        "colab_type": "code",
        "colab": {
          "base_uri": "https://localhost:8080/",
          "height": 675
        },
        "outputId": "da68a510-5ddd-4a0e-cbad-8ea4d1370940"
      },
      "source": [
        "#use eli5 for PermutationImportance \n",
        "!pip install eli5\n",
        "\n",
        "import eli5\n",
        "from eli5.sklearn import PermutationImportance \n",
        "\n",
        "permuter = PermutationImportance(\n",
        "    model,\n",
        "    scoring = 'accuracy',\n",
        "    n_iter = 5,\n",
        "    random_state=42\n",
        ")\n",
        "permuter.fit(X_test_transformed, y_test)"
      ],
      "execution_count": 36,
      "outputs": [
        {
          "output_type": "stream",
          "text": [
            "Collecting eli5\n",
            "\u001b[?25l  Downloading https://files.pythonhosted.org/packages/97/2f/c85c7d8f8548e460829971785347e14e45fa5c6617da374711dec8cb38cc/eli5-0.10.1-py2.py3-none-any.whl (105kB)\n",
            "\r\u001b[K     |███                             | 10kB 19.4MB/s eta 0:00:01\r\u001b[K     |██████▏                         | 20kB 2.2MB/s eta 0:00:01\r\u001b[K     |█████████▎                      | 30kB 3.2MB/s eta 0:00:01\r\u001b[K     |████████████▍                   | 40kB 2.1MB/s eta 0:00:01\r\u001b[K     |███████████████▌                | 51kB 2.6MB/s eta 0:00:01\r\u001b[K     |██████████████████▋             | 61kB 3.1MB/s eta 0:00:01\r\u001b[K     |█████████████████████▊          | 71kB 3.3MB/s eta 0:00:01\r\u001b[K     |████████████████████████▊       | 81kB 3.7MB/s eta 0:00:01\r\u001b[K     |███████████████████████████▉    | 92kB 4.1MB/s eta 0:00:01\r\u001b[K     |███████████████████████████████ | 102kB 3.5MB/s eta 0:00:01\r\u001b[K     |████████████████████████████████| 112kB 3.5MB/s \n",
            "\u001b[?25hRequirement already satisfied: scipy in /usr/local/lib/python3.6/dist-packages (from eli5) (1.3.1)\n",
            "Requirement already satisfied: tabulate>=0.7.7 in /usr/local/lib/python3.6/dist-packages (from eli5) (0.8.5)\n",
            "Requirement already satisfied: six in /usr/local/lib/python3.6/dist-packages (from eli5) (1.12.0)\n",
            "Requirement already satisfied: jinja2 in /usr/local/lib/python3.6/dist-packages (from eli5) (2.10.3)\n",
            "Requirement already satisfied: numpy>=1.9.0 in /usr/local/lib/python3.6/dist-packages (from eli5) (1.17.3)\n",
            "Requirement already satisfied: attrs>16.0.0 in /usr/local/lib/python3.6/dist-packages (from eli5) (19.3.0)\n",
            "Requirement already satisfied: scikit-learn>=0.18 in /usr/local/lib/python3.6/dist-packages (from eli5) (0.21.3)\n",
            "Requirement already satisfied: graphviz in /usr/local/lib/python3.6/dist-packages (from eli5) (0.10.1)\n",
            "Requirement already satisfied: MarkupSafe>=0.23 in /usr/local/lib/python3.6/dist-packages (from jinja2->eli5) (1.1.1)\n",
            "Requirement already satisfied: joblib>=0.11 in /usr/local/lib/python3.6/dist-packages (from scikit-learn>=0.18->eli5) (0.14.0)\n",
            "Installing collected packages: eli5\n",
            "Successfully installed eli5-0.10.1\n"
          ],
          "name": "stdout"
        },
        {
          "output_type": "stream",
          "text": [
            "Using TensorFlow backend.\n"
          ],
          "name": "stderr"
        },
        {
          "output_type": "display_data",
          "data": {
            "text/html": [
              "<p style=\"color: red;\">\n",
              "The default version of TensorFlow in Colab will soon switch to TensorFlow 2.x.<br>\n",
              "We recommend you <a href=\"https://www.tensorflow.org/guide/migrate\" target=\"_blank\">upgrade</a> now \n",
              "or ensure your notebook will continue to use TensorFlow 1.x via the <code>%tensorflow_version 1.x</code> magic:\n",
              "<a href=\"https://colab.research.google.com/notebooks/tensorflow_version.ipynb\" target=\"_blank\">more info</a>.</p>\n"
            ],
            "text/plain": [
              "<IPython.core.display.HTML object>"
            ]
          },
          "metadata": {
            "tags": []
          }
        },
        {
          "output_type": "execute_result",
          "data": {
            "text/plain": [
              "PermutationImportance(cv='prefit',\n",
              "                      estimator=RandomForestClassifier(bootstrap=True,\n",
              "                                                       class_weight=None,\n",
              "                                                       criterion='gini',\n",
              "                                                       max_depth=None,\n",
              "                                                       max_features='auto',\n",
              "                                                       max_leaf_nodes=None,\n",
              "                                                       min_impurity_decrease=0.0,\n",
              "                                                       min_impurity_split=None,\n",
              "                                                       min_samples_leaf=1,\n",
              "                                                       min_samples_split=2,\n",
              "                                                       min_weight_fraction_leaf=0.0,\n",
              "                                                       n_estimators=100,\n",
              "                                                       n_jobs=-1,\n",
              "                                                       oob_score=False,\n",
              "                                                       random_state=42,\n",
              "                                                       verbose=0,\n",
              "                                                       warm_start=False),\n",
              "                      n_iter=5, random_state=42, refit=True,\n",
              "                      scoring='accuracy')"
            ]
          },
          "metadata": {
            "tags": []
          },
          "execution_count": 36
        }
      ]
    },
    {
      "cell_type": "code",
      "metadata": {
        "id": "np8_8ZJ-pGDr",
        "colab_type": "code",
        "colab": {
          "base_uri": "https://localhost:8080/",
          "height": 323
        },
        "outputId": "8a09d4e0-20f8-449c-cac4-97178aa77e48"
      },
      "source": [
        "feature_names = X_test.columns.tolist()\n",
        "pd.Series(permuter.feature_importances_, feature_names).sort_values(ascending=False)"
      ],
      "execution_count": 38,
      "outputs": [
        {
          "output_type": "execute_result",
          "data": {
            "text/plain": [
              "Pedestrian Bicyclist Action      0.036585\n",
              "County Name                      0.029128\n",
              "Municipality                     0.028976\n",
              "Police Report                    0.015588\n",
              "Event Descriptor                 0.011504\n",
              "DOT Reference Marker Location    0.009110\n",
              "Number of Vehicles Involved      0.008004\n",
              "Collision Type Descriptor        0.007513\n",
              "Traffic Control Device           0.007510\n",
              "Road Descriptor                  0.003059\n",
              "Time                             0.002691\n",
              "Weather Conditions               0.002387\n",
              "Lighting Conditions              0.001616\n",
              "Date                             0.000940\n",
              "Road Surface Conditions          0.000784\n",
              "Day of Week                      0.000487\n",
              "Year                             0.000000\n",
              "dtype: float64"
            ]
          },
          "metadata": {
            "tags": []
          },
          "execution_count": 38
        }
      ]
    },
    {
      "cell_type": "code",
      "metadata": {
        "id": "VcHSPiZipcgA",
        "colab_type": "code",
        "colab": {
          "base_uri": "https://localhost:8080/",
          "height": 323
        },
        "outputId": "8f0c85e7-cbdb-4083-edc3-f6656a70e5c8"
      },
      "source": [
        "feature_names = X_test.columns.tolist()\n",
        "\n",
        "eli5.show_weights(\n",
        "    permuter,\n",
        "    top=None, #show permutation imprtances for all features\n",
        "    feature_names=feature_names\n",
        ")"
      ],
      "execution_count": 40,
      "outputs": [
        {
          "output_type": "execute_result",
          "data": {
            "text/html": [
              "\n",
              "    <style>\n",
              "    table.eli5-weights tr:hover {\n",
              "        filter: brightness(85%);\n",
              "    }\n",
              "</style>\n",
              "\n",
              "\n",
              "\n",
              "    \n",
              "\n",
              "    \n",
              "\n",
              "    \n",
              "\n",
              "    \n",
              "\n",
              "    \n",
              "\n",
              "    \n",
              "\n",
              "\n",
              "    \n",
              "\n",
              "    \n",
              "\n",
              "    \n",
              "\n",
              "    \n",
              "\n",
              "    \n",
              "\n",
              "    \n",
              "\n",
              "\n",
              "    \n",
              "\n",
              "    \n",
              "\n",
              "    \n",
              "\n",
              "    \n",
              "\n",
              "    \n",
              "        <table class=\"eli5-weights eli5-feature-importances\" style=\"border-collapse: collapse; border: none; margin-top: 0em; table-layout: auto;\">\n",
              "    <thead>\n",
              "    <tr style=\"border: none;\">\n",
              "        <th style=\"padding: 0 1em 0 0.5em; text-align: right; border: none;\">Weight</th>\n",
              "        <th style=\"padding: 0 0.5em 0 0.5em; text-align: left; border: none;\">Feature</th>\n",
              "    </tr>\n",
              "    </thead>\n",
              "    <tbody>\n",
              "    \n",
              "        <tr style=\"background-color: hsl(120, 100.00%, 80.00%); border: none;\">\n",
              "            <td style=\"padding: 0 1em 0 0.5em; text-align: right; border: none;\">\n",
              "                0.0366\n",
              "                \n",
              "                    &plusmn; 0.0007\n",
              "                \n",
              "            </td>\n",
              "            <td style=\"padding: 0 0.5em 0 0.5em; text-align: left; border: none;\">\n",
              "                Pedestrian Bicyclist Action\n",
              "            </td>\n",
              "        </tr>\n",
              "    \n",
              "        <tr style=\"background-color: hsl(120, 100.00%, 82.95%); border: none;\">\n",
              "            <td style=\"padding: 0 1em 0 0.5em; text-align: right; border: none;\">\n",
              "                0.0291\n",
              "                \n",
              "                    &plusmn; 0.0004\n",
              "                \n",
              "            </td>\n",
              "            <td style=\"padding: 0 0.5em 0 0.5em; text-align: left; border: none;\">\n",
              "                County Name\n",
              "            </td>\n",
              "        </tr>\n",
              "    \n",
              "        <tr style=\"background-color: hsl(120, 100.00%, 83.01%); border: none;\">\n",
              "            <td style=\"padding: 0 1em 0 0.5em; text-align: right; border: none;\">\n",
              "                0.0290\n",
              "                \n",
              "                    &plusmn; 0.0008\n",
              "                \n",
              "            </td>\n",
              "            <td style=\"padding: 0 0.5em 0 0.5em; text-align: left; border: none;\">\n",
              "                Municipality\n",
              "            </td>\n",
              "        </tr>\n",
              "    \n",
              "        <tr style=\"background-color: hsl(120, 100.00%, 88.99%); border: none;\">\n",
              "            <td style=\"padding: 0 1em 0 0.5em; text-align: right; border: none;\">\n",
              "                0.0156\n",
              "                \n",
              "                    &plusmn; 0.0001\n",
              "                \n",
              "            </td>\n",
              "            <td style=\"padding: 0 0.5em 0 0.5em; text-align: left; border: none;\">\n",
              "                Police Report\n",
              "            </td>\n",
              "        </tr>\n",
              "    \n",
              "        <tr style=\"background-color: hsl(120, 100.00%, 91.10%); border: none;\">\n",
              "            <td style=\"padding: 0 1em 0 0.5em; text-align: right; border: none;\">\n",
              "                0.0115\n",
              "                \n",
              "                    &plusmn; 0.0006\n",
              "                \n",
              "            </td>\n",
              "            <td style=\"padding: 0 0.5em 0 0.5em; text-align: left; border: none;\">\n",
              "                Event Descriptor\n",
              "            </td>\n",
              "        </tr>\n",
              "    \n",
              "        <tr style=\"background-color: hsl(120, 100.00%, 92.44%); border: none;\">\n",
              "            <td style=\"padding: 0 1em 0 0.5em; text-align: right; border: none;\">\n",
              "                0.0091\n",
              "                \n",
              "                    &plusmn; 0.0009\n",
              "                \n",
              "            </td>\n",
              "            <td style=\"padding: 0 0.5em 0 0.5em; text-align: left; border: none;\">\n",
              "                DOT Reference Marker Location\n",
              "            </td>\n",
              "        </tr>\n",
              "    \n",
              "        <tr style=\"background-color: hsl(120, 100.00%, 93.10%); border: none;\">\n",
              "            <td style=\"padding: 0 1em 0 0.5em; text-align: right; border: none;\">\n",
              "                0.0080\n",
              "                \n",
              "                    &plusmn; 0.0006\n",
              "                \n",
              "            </td>\n",
              "            <td style=\"padding: 0 0.5em 0 0.5em; text-align: left; border: none;\">\n",
              "                Number of Vehicles Involved\n",
              "            </td>\n",
              "        </tr>\n",
              "    \n",
              "        <tr style=\"background-color: hsl(120, 100.00%, 93.40%); border: none;\">\n",
              "            <td style=\"padding: 0 1em 0 0.5em; text-align: right; border: none;\">\n",
              "                0.0075\n",
              "                \n",
              "                    &plusmn; 0.0004\n",
              "                \n",
              "            </td>\n",
              "            <td style=\"padding: 0 0.5em 0 0.5em; text-align: left; border: none;\">\n",
              "                Collision Type Descriptor\n",
              "            </td>\n",
              "        </tr>\n",
              "    \n",
              "        <tr style=\"background-color: hsl(120, 100.00%, 93.40%); border: none;\">\n",
              "            <td style=\"padding: 0 1em 0 0.5em; text-align: right; border: none;\">\n",
              "                0.0075\n",
              "                \n",
              "                    &plusmn; 0.0007\n",
              "                \n",
              "            </td>\n",
              "            <td style=\"padding: 0 0.5em 0 0.5em; text-align: left; border: none;\">\n",
              "                Traffic Control Device\n",
              "            </td>\n",
              "        </tr>\n",
              "    \n",
              "        <tr style=\"background-color: hsl(120, 100.00%, 96.48%); border: none;\">\n",
              "            <td style=\"padding: 0 1em 0 0.5em; text-align: right; border: none;\">\n",
              "                0.0031\n",
              "                \n",
              "                    &plusmn; 0.0003\n",
              "                \n",
              "            </td>\n",
              "            <td style=\"padding: 0 0.5em 0 0.5em; text-align: left; border: none;\">\n",
              "                Road Descriptor\n",
              "            </td>\n",
              "        </tr>\n",
              "    \n",
              "        <tr style=\"background-color: hsl(120, 100.00%, 96.78%); border: none;\">\n",
              "            <td style=\"padding: 0 1em 0 0.5em; text-align: right; border: none;\">\n",
              "                0.0027\n",
              "                \n",
              "                    &plusmn; 0.0007\n",
              "                \n",
              "            </td>\n",
              "            <td style=\"padding: 0 0.5em 0 0.5em; text-align: left; border: none;\">\n",
              "                Time\n",
              "            </td>\n",
              "        </tr>\n",
              "    \n",
              "        <tr style=\"background-color: hsl(120, 100.00%, 97.04%); border: none;\">\n",
              "            <td style=\"padding: 0 1em 0 0.5em; text-align: right; border: none;\">\n",
              "                0.0024\n",
              "                \n",
              "                    &plusmn; 0.0004\n",
              "                \n",
              "            </td>\n",
              "            <td style=\"padding: 0 0.5em 0 0.5em; text-align: left; border: none;\">\n",
              "                Weather Conditions\n",
              "            </td>\n",
              "        </tr>\n",
              "    \n",
              "        <tr style=\"background-color: hsl(120, 100.00%, 97.75%); border: none;\">\n",
              "            <td style=\"padding: 0 1em 0 0.5em; text-align: right; border: none;\">\n",
              "                0.0016\n",
              "                \n",
              "                    &plusmn; 0.0004\n",
              "                \n",
              "            </td>\n",
              "            <td style=\"padding: 0 0.5em 0 0.5em; text-align: left; border: none;\">\n",
              "                Lighting Conditions\n",
              "            </td>\n",
              "        </tr>\n",
              "    \n",
              "        <tr style=\"background-color: hsl(120, 100.00%, 98.46%); border: none;\">\n",
              "            <td style=\"padding: 0 1em 0 0.5em; text-align: right; border: none;\">\n",
              "                0.0009\n",
              "                \n",
              "                    &plusmn; 0.0004\n",
              "                \n",
              "            </td>\n",
              "            <td style=\"padding: 0 0.5em 0 0.5em; text-align: left; border: none;\">\n",
              "                Date\n",
              "            </td>\n",
              "        </tr>\n",
              "    \n",
              "        <tr style=\"background-color: hsl(120, 100.00%, 98.64%); border: none;\">\n",
              "            <td style=\"padding: 0 1em 0 0.5em; text-align: right; border: none;\">\n",
              "                0.0008\n",
              "                \n",
              "                    &plusmn; 0.0002\n",
              "                \n",
              "            </td>\n",
              "            <td style=\"padding: 0 0.5em 0 0.5em; text-align: left; border: none;\">\n",
              "                Road Surface Conditions\n",
              "            </td>\n",
              "        </tr>\n",
              "    \n",
              "        <tr style=\"background-color: hsl(120, 100.00%, 99.03%); border: none;\">\n",
              "            <td style=\"padding: 0 1em 0 0.5em; text-align: right; border: none;\">\n",
              "                0.0005\n",
              "                \n",
              "                    &plusmn; 0.0003\n",
              "                \n",
              "            </td>\n",
              "            <td style=\"padding: 0 0.5em 0 0.5em; text-align: left; border: none;\">\n",
              "                Day of Week\n",
              "            </td>\n",
              "        </tr>\n",
              "    \n",
              "        <tr style=\"background-color: hsl(0, 100.00%, 100.00%); border: none;\">\n",
              "            <td style=\"padding: 0 1em 0 0.5em; text-align: right; border: none;\">\n",
              "                0\n",
              "                \n",
              "                    &plusmn; 0.0000\n",
              "                \n",
              "            </td>\n",
              "            <td style=\"padding: 0 0.5em 0 0.5em; text-align: left; border: none;\">\n",
              "                Year\n",
              "            </td>\n",
              "        </tr>\n",
              "    \n",
              "    \n",
              "    </tbody>\n",
              "</table>\n",
              "    \n",
              "\n",
              "    \n",
              "\n",
              "\n",
              "    \n",
              "\n",
              "    \n",
              "\n",
              "    \n",
              "\n",
              "    \n",
              "\n",
              "    \n",
              "\n",
              "    \n",
              "\n",
              "\n",
              "\n"
            ],
            "text/plain": [
              "<IPython.core.display.HTML object>"
            ]
          },
          "metadata": {
            "tags": []
          },
          "execution_count": 40
        }
      ]
    },
    {
      "cell_type": "code",
      "metadata": {
        "id": "akQygDIhp_Hr",
        "colab_type": "code",
        "colab": {
          "base_uri": "https://localhost:8080/",
          "height": 34
        },
        "outputId": "48b1f492-8064-4c6c-fea8-2c88493aca48"
      },
      "source": [
        "print('Shape before removing features:', X_train.shape)"
      ],
      "execution_count": 45,
      "outputs": [
        {
          "output_type": "stream",
          "text": [
            "Shape before removing features: (594008, 16)\n"
          ],
          "name": "stdout"
        }
      ]
    },
    {
      "cell_type": "code",
      "metadata": {
        "id": "a1fOy8xlqx8X",
        "colab_type": "code",
        "colab": {
          "base_uri": "https://localhost:8080/",
          "height": 34
        },
        "outputId": "f4aee5d5-089f-4175-b8d8-a808a33624f5"
      },
      "source": [
        "X_test = X_test[features]\n",
        "\n",
        "pipeline = make_pipeline(\n",
        "    ce.OrdinalEncoder(), \n",
        "    SimpleImputer(strategy='median'), \n",
        "    RandomForestClassifier(n_estimators=118, random_state=42, n_jobs=-1)\n",
        ")\n",
        "\n",
        "# Fit on train, score on val\n",
        "pipeline.fit(X_train, y_train)\n",
        "print('Validation Accuracy', pipeline.score(X_test, y_test))"
      ],
      "execution_count": 61,
      "outputs": [
        {
          "output_type": "stream",
          "text": [
            "Validation Accuracy 0.6912072551903229\n"
          ],
          "name": "stdout"
        }
      ]
    },
    {
      "cell_type": "code",
      "metadata": {
        "id": "SDROYopWAp0B",
        "colab_type": "code",
        "colab": {}
      },
      "source": [
        ""
      ],
      "execution_count": 0,
      "outputs": []
    },
    {
      "cell_type": "markdown",
      "metadata": {
        "id": "cZfsYyYBGEzq",
        "colab_type": "text"
      },
      "source": [
        "**Use xgboost for gradient boosting**\n",
        "\n",
        "\n",
        "\n"
      ]
    },
    {
      "cell_type": "code",
      "metadata": {
        "id": "N_igHlOAAzjo",
        "colab_type": "code",
        "colab": {
          "base_uri": "https://localhost:8080/",
          "height": 442
        },
        "outputId": "0412b37e-4a69-496c-e858-782c9c35ed3d"
      },
      "source": [
        "from xgboost import XGBClassifier\n",
        "\n",
        "pipeline = make_pipeline(\n",
        "    ce.OrdinalEncoder(), \n",
        "    XGBClassifier(n_estimators=118, random_state=42, n_jobs=-1)\n",
        ")\n",
        "\n",
        "pipeline.fit(X_train, y_train)"
      ],
      "execution_count": 62,
      "outputs": [
        {
          "output_type": "execute_result",
          "data": {
            "text/plain": [
              "Pipeline(memory=None,\n",
              "         steps=[('ordinalencoder',\n",
              "                 OrdinalEncoder(cols=['Time', 'Date', 'Day of Week',\n",
              "                                      'Police Report', 'Lighting Conditions',\n",
              "                                      'Municipality',\n",
              "                                      'Collision Type Descriptor',\n",
              "                                      'County Name', 'Road Descriptor',\n",
              "                                      'Weather Conditions',\n",
              "                                      'Traffic Control Device',\n",
              "                                      'Road Surface Conditions',\n",
              "                                      'DOT Reference Marker Location',\n",
              "                                      'Pedestrian Bicyclist Action',\n",
              "                                      'Event Descriptor'],\n",
              "                                drop_in...\n",
              "                 XGBClassifier(base_score=0.5, booster='gbtree',\n",
              "                               colsample_bylevel=1, colsample_bynode=1,\n",
              "                               colsample_bytree=1, gamma=0, learning_rate=0.1,\n",
              "                               max_delta_step=0, max_depth=3,\n",
              "                               min_child_weight=1, missing=None,\n",
              "                               n_estimators=118, n_jobs=-1, nthread=None,\n",
              "                               objective='multi:softprob', random_state=42,\n",
              "                               reg_alpha=0, reg_lambda=1, scale_pos_weight=1,\n",
              "                               seed=None, silent=None, subsample=1,\n",
              "                               verbosity=1))],\n",
              "         verbose=False)"
            ]
          },
          "metadata": {
            "tags": []
          },
          "execution_count": 62
        }
      ]
    },
    {
      "cell_type": "code",
      "metadata": {
        "id": "0m5U3KWFBfpn",
        "colab_type": "code",
        "colab": {
          "base_uri": "https://localhost:8080/",
          "height": 34
        },
        "outputId": "e74ed645-6896-4903-d1f3-06fa74e39a70"
      },
      "source": [
        "from sklearn.metrics import accuracy_score\n",
        "y_pred = pipeline.predict(X_test)\n",
        "print('Test Accuracy', accuracy_score(y_test, y_pred))"
      ],
      "execution_count": 63,
      "outputs": [
        {
          "output_type": "stream",
          "text": [
            "Test Accuracy 0.695251533579766\n"
          ],
          "name": "stdout"
        }
      ]
    },
    {
      "cell_type": "code",
      "metadata": {
        "id": "ptUHA7anByya",
        "colab_type": "code",
        "colab": {
          "base_uri": "https://localhost:8080/",
          "height": 1000
        },
        "outputId": "b5fc12fa-42c5-4872-d21e-5733a7248776"
      },
      "source": [
        "encoder = ce.OrdinalEncoder()\n",
        "X_train_encoded = encoder.fit_transform(X_train)\n",
        "X_test_encoded = encoder.transform(X_test)\n",
        "\n",
        "model = XGBClassifier(\n",
        "    n_estimators=1000, # <= 1000 trees, depends on early stopping\n",
        "    max_depth=5,       # try deeper trees because of high cardinality categoricals\n",
        "    learning_rate=0.5, # try higher learning rate\n",
        "    n_jobs=-1\n",
        ")\n",
        "\n",
        "eval_set = [(X_train_encoded, y_train), \n",
        "            (X_test_encoded, y_test)]\n",
        "\n",
        "model.fit(X_train_encoded, y_train, \n",
        "          eval_set=eval_set, \n",
        "          eval_metric='merror', \n",
        "          early_stopping_rounds=50)"
      ],
      "execution_count": 57,
      "outputs": [
        {
          "output_type": "stream",
          "text": [
            "[0]\tvalidation_0-merror:0.328169\tvalidation_1-merror:0.34013\n",
            "Multiple eval metrics have been passed: 'validation_1-merror' will be used for early stopping.\n",
            "\n",
            "Will train until validation_1-merror hasn't improved in 50 rounds.\n",
            "[1]\tvalidation_0-merror:0.32725\tvalidation_1-merror:0.338964\n",
            "[2]\tvalidation_0-merror:0.328586\tvalidation_1-merror:0.340488\n",
            "[3]\tvalidation_0-merror:0.316075\tvalidation_1-merror:0.326305\n",
            "[4]\tvalidation_0-merror:0.312849\tvalidation_1-merror:0.322171\n",
            "[5]\tvalidation_0-merror:0.307353\tvalidation_1-merror:0.315715\n",
            "[6]\tvalidation_0-merror:0.306152\tvalidation_1-merror:0.31451\n",
            "[7]\tvalidation_0-merror:0.303897\tvalidation_1-merror:0.311992\n",
            "[8]\tvalidation_0-merror:0.303107\tvalidation_1-merror:0.310916\n",
            "[9]\tvalidation_0-merror:0.30136\tvalidation_1-merror:0.309061\n",
            "[10]\tvalidation_0-merror:0.297169\tvalidation_1-merror:0.303606\n",
            "[11]\tvalidation_0-merror:0.29626\tvalidation_1-merror:0.30189\n",
            "[12]\tvalidation_0-merror:0.295504\tvalidation_1-merror:0.300896\n",
            "[13]\tvalidation_0-merror:0.294876\tvalidation_1-merror:0.300572\n",
            "[14]\tvalidation_0-merror:0.294023\tvalidation_1-merror:0.299455\n",
            "[15]\tvalidation_0-merror:0.293658\tvalidation_1-merror:0.299267\n",
            "[16]\tvalidation_0-merror:0.292472\tvalidation_1-merror:0.297806\n",
            "[17]\tvalidation_0-merror:0.292195\tvalidation_1-merror:0.297346\n",
            "[18]\tvalidation_0-merror:0.291634\tvalidation_1-merror:0.296829\n",
            "[19]\tvalidation_0-merror:0.291164\tvalidation_1-merror:0.296382\n",
            "[20]\tvalidation_0-merror:0.290888\tvalidation_1-merror:0.29617\n",
            "[21]\tvalidation_0-merror:0.29058\tvalidation_1-merror:0.295676\n",
            "[22]\tvalidation_0-merror:0.290572\tvalidation_1-merror:0.295411\n",
            "[23]\tvalidation_0-merror:0.290308\tvalidation_1-merror:0.295199\n",
            "[24]\tvalidation_0-merror:0.29018\tvalidation_1-merror:0.295249\n",
            "[25]\tvalidation_0-merror:0.289927\tvalidation_1-merror:0.294984\n",
            "[26]\tvalidation_0-merror:0.289787\tvalidation_1-merror:0.294875\n",
            "[27]\tvalidation_0-merror:0.28968\tvalidation_1-merror:0.294825\n",
            "[28]\tvalidation_0-merror:0.289638\tvalidation_1-merror:0.294689\n",
            "[29]\tvalidation_0-merror:0.28935\tvalidation_1-merror:0.294629\n",
            "[30]\tvalidation_0-merror:0.2889\tvalidation_1-merror:0.294123\n",
            "[31]\tvalidation_0-merror:0.28888\tvalidation_1-merror:0.294215\n",
            "[32]\tvalidation_0-merror:0.288715\tvalidation_1-merror:0.294215\n",
            "[33]\tvalidation_0-merror:0.288462\tvalidation_1-merror:0.29406\n",
            "[34]\tvalidation_0-merror:0.28803\tvalidation_1-merror:0.293934\n",
            "[35]\tvalidation_0-merror:0.287968\tvalidation_1-merror:0.293854\n",
            "[36]\tvalidation_0-merror:0.287528\tvalidation_1-merror:0.293377\n",
            "[37]\tvalidation_0-merror:0.287257\tvalidation_1-merror:0.293268\n",
            "[38]\tvalidation_0-merror:0.287225\tvalidation_1-merror:0.29347\n",
            "[39]\tvalidation_0-merror:0.287164\tvalidation_1-merror:0.293387\n",
            "[40]\tvalidation_0-merror:0.286999\tvalidation_1-merror:0.293238\n",
            "[41]\tvalidation_0-merror:0.286942\tvalidation_1-merror:0.293324\n",
            "[42]\tvalidation_0-merror:0.286838\tvalidation_1-merror:0.293311\n",
            "[43]\tvalidation_0-merror:0.28671\tvalidation_1-merror:0.293235\n",
            "[44]\tvalidation_0-merror:0.286631\tvalidation_1-merror:0.293136\n",
            "[45]\tvalidation_0-merror:0.286636\tvalidation_1-merror:0.293172\n",
            "[46]\tvalidation_0-merror:0.286513\tvalidation_1-merror:0.293255\n",
            "[47]\tvalidation_0-merror:0.28636\tvalidation_1-merror:0.293232\n",
            "[48]\tvalidation_0-merror:0.286292\tvalidation_1-merror:0.293126\n",
            "[49]\tvalidation_0-merror:0.286097\tvalidation_1-merror:0.292851\n",
            "[50]\tvalidation_0-merror:0.285962\tvalidation_1-merror:0.292761\n",
            "[51]\tvalidation_0-merror:0.285823\tvalidation_1-merror:0.292669\n",
            "[52]\tvalidation_0-merror:0.285664\tvalidation_1-merror:0.292563\n",
            "[53]\tvalidation_0-merror:0.285414\tvalidation_1-merror:0.292417\n",
            "[54]\tvalidation_0-merror:0.28537\tvalidation_1-merror:0.292414\n",
            "[55]\tvalidation_0-merror:0.285351\tvalidation_1-merror:0.292284\n",
            "[56]\tvalidation_0-merror:0.285257\tvalidation_1-merror:0.292291\n",
            "[57]\tvalidation_0-merror:0.285119\tvalidation_1-merror:0.292245\n",
            "[58]\tvalidation_0-merror:0.284971\tvalidation_1-merror:0.292265\n",
            "[59]\tvalidation_0-merror:0.2849\tvalidation_1-merror:0.292311\n",
            "[60]\tvalidation_0-merror:0.28475\tvalidation_1-merror:0.292076\n",
            "[61]\tvalidation_0-merror:0.284665\tvalidation_1-merror:0.292003\n",
            "[62]\tvalidation_0-merror:0.284595\tvalidation_1-merror:0.29196\n",
            "[63]\tvalidation_0-merror:0.284464\tvalidation_1-merror:0.291857\n",
            "[64]\tvalidation_0-merror:0.284464\tvalidation_1-merror:0.291917\n",
            "[65]\tvalidation_0-merror:0.284414\tvalidation_1-merror:0.291844\n",
            "[66]\tvalidation_0-merror:0.284234\tvalidation_1-merror:0.291854\n",
            "[67]\tvalidation_0-merror:0.284196\tvalidation_1-merror:0.291956\n",
            "[68]\tvalidation_0-merror:0.284062\tvalidation_1-merror:0.292033\n",
            "[69]\tvalidation_0-merror:0.284048\tvalidation_1-merror:0.292043\n",
            "[70]\tvalidation_0-merror:0.283922\tvalidation_1-merror:0.291953\n",
            "[71]\tvalidation_0-merror:0.283925\tvalidation_1-merror:0.292036\n",
            "[72]\tvalidation_0-merror:0.283814\tvalidation_1-merror:0.291993\n",
            "[73]\tvalidation_0-merror:0.283791\tvalidation_1-merror:0.292\n",
            "[74]\tvalidation_0-merror:0.283656\tvalidation_1-merror:0.291923\n",
            "[75]\tvalidation_0-merror:0.283564\tvalidation_1-merror:0.29192\n",
            "[76]\tvalidation_0-merror:0.283417\tvalidation_1-merror:0.292003\n",
            "[77]\tvalidation_0-merror:0.283372\tvalidation_1-merror:0.292066\n",
            "[78]\tvalidation_0-merror:0.283287\tvalidation_1-merror:0.292009\n",
            "[79]\tvalidation_0-merror:0.283143\tvalidation_1-merror:0.29198\n",
            "[80]\tvalidation_0-merror:0.283064\tvalidation_1-merror:0.292033\n",
            "[81]\tvalidation_0-merror:0.283008\tvalidation_1-merror:0.291973\n",
            "[82]\tvalidation_0-merror:0.282925\tvalidation_1-merror:0.292046\n",
            "[83]\tvalidation_0-merror:0.282895\tvalidation_1-merror:0.29194\n",
            "[84]\tvalidation_0-merror:0.28286\tvalidation_1-merror:0.29191\n",
            "[85]\tvalidation_0-merror:0.282717\tvalidation_1-merror:0.291851\n",
            "[86]\tvalidation_0-merror:0.282658\tvalidation_1-merror:0.291784\n",
            "[87]\tvalidation_0-merror:0.282564\tvalidation_1-merror:0.291745\n",
            "[88]\tvalidation_0-merror:0.282454\tvalidation_1-merror:0.29186\n",
            "[89]\tvalidation_0-merror:0.282397\tvalidation_1-merror:0.291837\n",
            "[90]\tvalidation_0-merror:0.282301\tvalidation_1-merror:0.291847\n",
            "[91]\tvalidation_0-merror:0.28222\tvalidation_1-merror:0.291821\n",
            "[92]\tvalidation_0-merror:0.282104\tvalidation_1-merror:0.291794\n",
            "[93]\tvalidation_0-merror:0.28202\tvalidation_1-merror:0.2919\n",
            "[94]\tvalidation_0-merror:0.281939\tvalidation_1-merror:0.291874\n",
            "[95]\tvalidation_0-merror:0.28184\tvalidation_1-merror:0.29194\n",
            "[96]\tvalidation_0-merror:0.281828\tvalidation_1-merror:0.291973\n",
            "[97]\tvalidation_0-merror:0.281718\tvalidation_1-merror:0.29196\n",
            "[98]\tvalidation_0-merror:0.281666\tvalidation_1-merror:0.292076\n",
            "[99]\tvalidation_0-merror:0.281582\tvalidation_1-merror:0.292043\n",
            "[100]\tvalidation_0-merror:0.281525\tvalidation_1-merror:0.29198\n",
            "[101]\tvalidation_0-merror:0.281503\tvalidation_1-merror:0.292019\n",
            "[102]\tvalidation_0-merror:0.281358\tvalidation_1-merror:0.29192\n",
            "[103]\tvalidation_0-merror:0.281313\tvalidation_1-merror:0.29186\n",
            "[104]\tvalidation_0-merror:0.281212\tvalidation_1-merror:0.291913\n",
            "[105]\tvalidation_0-merror:0.281131\tvalidation_1-merror:0.291831\n",
            "[106]\tvalidation_0-merror:0.281072\tvalidation_1-merror:0.291788\n",
            "[107]\tvalidation_0-merror:0.280971\tvalidation_1-merror:0.291814\n",
            "[108]\tvalidation_0-merror:0.280981\tvalidation_1-merror:0.291784\n",
            "[109]\tvalidation_0-merror:0.280828\tvalidation_1-merror:0.291778\n",
            "[110]\tvalidation_0-merror:0.280828\tvalidation_1-merror:0.291675\n",
            "[111]\tvalidation_0-merror:0.280774\tvalidation_1-merror:0.291619\n",
            "[112]\tvalidation_0-merror:0.280692\tvalidation_1-merror:0.291629\n",
            "[113]\tvalidation_0-merror:0.280567\tvalidation_1-merror:0.291695\n",
            "[114]\tvalidation_0-merror:0.280503\tvalidation_1-merror:0.291645\n",
            "[115]\tvalidation_0-merror:0.280456\tvalidation_1-merror:0.291721\n",
            "[116]\tvalidation_0-merror:0.280345\tvalidation_1-merror:0.291721\n",
            "[117]\tvalidation_0-merror:0.280319\tvalidation_1-merror:0.291682\n",
            "[118]\tvalidation_0-merror:0.280232\tvalidation_1-merror:0.291576\n",
            "[119]\tvalidation_0-merror:0.280114\tvalidation_1-merror:0.291688\n",
            "[120]\tvalidation_0-merror:0.280069\tvalidation_1-merror:0.291715\n",
            "[121]\tvalidation_0-merror:0.280015\tvalidation_1-merror:0.291721\n",
            "[122]\tvalidation_0-merror:0.279934\tvalidation_1-merror:0.291807\n",
            "[123]\tvalidation_0-merror:0.279846\tvalidation_1-merror:0.291894\n",
            "[124]\tvalidation_0-merror:0.279698\tvalidation_1-merror:0.291907\n",
            "[125]\tvalidation_0-merror:0.279621\tvalidation_1-merror:0.291927\n",
            "[126]\tvalidation_0-merror:0.279569\tvalidation_1-merror:0.291867\n",
            "[127]\tvalidation_0-merror:0.279515\tvalidation_1-merror:0.291966\n",
            "[128]\tvalidation_0-merror:0.279422\tvalidation_1-merror:0.291907\n",
            "[129]\tvalidation_0-merror:0.279333\tvalidation_1-merror:0.291966\n",
            "[130]\tvalidation_0-merror:0.279215\tvalidation_1-merror:0.29194\n",
            "[131]\tvalidation_0-merror:0.279144\tvalidation_1-merror:0.29186\n",
            "[132]\tvalidation_0-merror:0.279131\tvalidation_1-merror:0.291867\n",
            "[133]\tvalidation_0-merror:0.279096\tvalidation_1-merror:0.29187\n",
            "[134]\tvalidation_0-merror:0.279022\tvalidation_1-merror:0.291864\n",
            "[135]\tvalidation_0-merror:0.278964\tvalidation_1-merror:0.291923\n",
            "[136]\tvalidation_0-merror:0.278799\tvalidation_1-merror:0.29193\n",
            "[137]\tvalidation_0-merror:0.278781\tvalidation_1-merror:0.291927\n",
            "[138]\tvalidation_0-merror:0.278654\tvalidation_1-merror:0.291781\n",
            "[139]\tvalidation_0-merror:0.278584\tvalidation_1-merror:0.291794\n",
            "[140]\tvalidation_0-merror:0.278488\tvalidation_1-merror:0.291887\n",
            "[141]\tvalidation_0-merror:0.278456\tvalidation_1-merror:0.291774\n",
            "[142]\tvalidation_0-merror:0.278426\tvalidation_1-merror:0.291791\n",
            "[143]\tvalidation_0-merror:0.278383\tvalidation_1-merror:0.291758\n",
            "[144]\tvalidation_0-merror:0.27835\tvalidation_1-merror:0.291774\n",
            "[145]\tvalidation_0-merror:0.278306\tvalidation_1-merror:0.291771\n",
            "[146]\tvalidation_0-merror:0.278284\tvalidation_1-merror:0.291781\n",
            "[147]\tvalidation_0-merror:0.278202\tvalidation_1-merror:0.291857\n",
            "[148]\tvalidation_0-merror:0.278097\tvalidation_1-merror:0.291827\n",
            "[149]\tvalidation_0-merror:0.27807\tvalidation_1-merror:0.291804\n",
            "[150]\tvalidation_0-merror:0.278001\tvalidation_1-merror:0.291831\n",
            "[151]\tvalidation_0-merror:0.277882\tvalidation_1-merror:0.29189\n",
            "[152]\tvalidation_0-merror:0.277809\tvalidation_1-merror:0.291887\n",
            "[153]\tvalidation_0-merror:0.277644\tvalidation_1-merror:0.291801\n",
            "[154]\tvalidation_0-merror:0.27757\tvalidation_1-merror:0.291817\n",
            "[155]\tvalidation_0-merror:0.277464\tvalidation_1-merror:0.291837\n",
            "[156]\tvalidation_0-merror:0.277419\tvalidation_1-merror:0.29186\n",
            "[157]\tvalidation_0-merror:0.277294\tvalidation_1-merror:0.291894\n",
            "[158]\tvalidation_0-merror:0.277222\tvalidation_1-merror:0.291867\n",
            "[159]\tvalidation_0-merror:0.277129\tvalidation_1-merror:0.291907\n",
            "[160]\tvalidation_0-merror:0.277065\tvalidation_1-merror:0.291841\n",
            "[161]\tvalidation_0-merror:0.276937\tvalidation_1-merror:0.291784\n",
            "[162]\tvalidation_0-merror:0.276899\tvalidation_1-merror:0.291801\n",
            "[163]\tvalidation_0-merror:0.276814\tvalidation_1-merror:0.291731\n",
            "[164]\tvalidation_0-merror:0.276761\tvalidation_1-merror:0.291711\n",
            "[165]\tvalidation_0-merror:0.276687\tvalidation_1-merror:0.291751\n",
            "[166]\tvalidation_0-merror:0.276663\tvalidation_1-merror:0.291758\n",
            "[167]\tvalidation_0-merror:0.276602\tvalidation_1-merror:0.291721\n",
            "[168]\tvalidation_0-merror:0.276527\tvalidation_1-merror:0.291705\n",
            "Stopping. Best iteration:\n",
            "[118]\tvalidation_0-merror:0.280232\tvalidation_1-merror:0.291576\n",
            "\n"
          ],
          "name": "stdout"
        },
        {
          "output_type": "execute_result",
          "data": {
            "text/plain": [
              "XGBClassifier(base_score=0.5, booster='gbtree', colsample_bylevel=1,\n",
              "              colsample_bynode=1, colsample_bytree=1, gamma=0,\n",
              "              learning_rate=0.5, max_delta_step=0, max_depth=5,\n",
              "              min_child_weight=1, missing=None, n_estimators=1000, n_jobs=-1,\n",
              "              nthread=None, objective='multi:softprob', random_state=0,\n",
              "              reg_alpha=0, reg_lambda=1, scale_pos_weight=1, seed=None,\n",
              "              silent=None, subsample=1, verbosity=1)"
            ]
          },
          "metadata": {
            "tags": []
          },
          "execution_count": 57
        }
      ]
    },
    {
      "cell_type": "code",
      "metadata": {
        "id": "4Ogu-gT_BkbK",
        "colab_type": "code",
        "colab": {
          "base_uri": "https://localhost:8080/",
          "height": 284
        },
        "outputId": "9ce81a50-9e49-4237-8521-5ef3c3fd6f97"
      },
      "source": [
        "#store into list\n",
        "results = model.evals_result() \n",
        "\n",
        "#adding the index list into variable\n",
        "\n",
        "train_error = results['validation_0']['merror'] \n",
        "val_error = results['validation_1']['merror']\n",
        "epoch = range(1, len(train_error)+1) #domain for n_estimators\n",
        "\n",
        "#plotting \n",
        "plt.plot(epoch, train_error, label='Train')\n",
        "plt.plot(epoch, val_error, label='Validation')\n",
        "plt.ylabel('Classification Error')\n",
        "plt.xlabel('Model Complexity (n_estimators)')\n",
        "plt.ylim((0.285, 0.305)) # Zoom in\n",
        "plt.legend();"
      ],
      "execution_count": 60,
      "outputs": [
        {
          "output_type": "display_data",
          "data": {
            "image/png": "[encoded data removed]",
            "text/plain": [
              "<Figure size 432x288 with 1 Axes>"
            ]
          },
          "metadata": {
            "tags": []
          }
        }
      ]
    },
    {
      "cell_type": "code",
      "metadata": {
        "id": "4cAxAPSbF7Dz",
        "colab_type": "code",
        "colab": {}
      },
      "source": [
        ""
      ],
      "execution_count": 0,
      "outputs": []
    }
  ]
}