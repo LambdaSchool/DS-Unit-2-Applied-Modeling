{
  "nbformat": 4,
  "nbformat_minor": 0,
  "metadata": {
    "colab": {
      "name": "LS_DS_231_assignment.ipynb",
      "provenance": [],
      "collapsed_sections": [],
      "include_colab_link": true
    },
    "kernelspec": {
      "display_name": "Python 3",
      "language": "python",
      "name": "python3"
    },
    "language_info": {
      "codemirror_mode": {
        "name": "ipython",
        "version": 3
      },
      "file_extension": ".py",
      "mimetype": "text/x-python",
      "name": "python",
      "nbconvert_exporter": "python",
      "pygments_lexer": "ipython3",
      "version": "3.8.2"
    }
  },
  "cells": [
    {
      "cell_type": "markdown",
      "metadata": {
        "id": "view-in-github",
        "colab_type": "text"
      },
      "source": [
        "<a href=\"https://colab.research.google.com/github/laguz/DS-Unit-2-Applied-Modeling/blob/master/LS_DS_231_assignment.ipynb\" target=\"_parent\"><img src=\"https://colab.research.google.com/assets/colab-badge.svg\" alt=\"Open In Colab\"/></a>"
      ]
    },
    {
      "cell_type": "markdown",
      "metadata": {
        "id": "nCc3XZEyG3XV"
      },
      "source": [
        "Lambda School Data Science\n",
        "\n",
        "*Unit 2, Sprint 3, Module 1*\n",
        "\n",
        "---\n",
        "\n",
        "\n",
        "# Define ML problems\n",
        "\n",
        "You will use your portfolio project dataset for all assignments this sprint.\n",
        "\n",
        "## Assignment\n",
        "\n",
        "Complete these tasks for your project, and document your decisions.\n",
        "\n",
        "- [ ] Choose your target. Which column in your tabular dataset will you predict?\n",
        "- [ ] Is your problem regression or classification?\n",
        "- [ ] How is your target distributed?\n",
        "    - Classification: How many classes? Are the classes imbalanced?\n",
        "    - Regression: Is the target right-skewed? If so, you may want to log transform the target.\n",
        "- [ ] Choose your evaluation metric(s).\n",
        "    - Classification: Is your majority class frequency >= 50% and < 70% ? If so, you can just use accuracy if you want. Outside that range, accuracy could be misleading. What evaluation metric will you choose, in addition to or instead of accuracy?\n",
        "    - Regression: Will you use mean absolute error, root mean squared error, R^2, or other regression metrics?\n",
        "- [ ] Choose which observations you will use to train, validate, and test your model.\n",
        "    - Are some observations outliers? Will you exclude them?\n",
        "    - Will you do a random split or a time-based split?\n",
        "- [ ] Begin to clean and explore your data.\n",
        "- [ ] Begin to choose which features, if any, to exclude. Would some features \"leak\" future information?\n",
        "\n",
        "If you haven't found a dataset yet, do that today. [Review requirements for your portfolio project](https://lambdaschool.github.io/ds/unit2) and choose your dataset.\n",
        "\n",
        "Some students worry, ***what if my model isn't “good”?*** Then, [produce a detailed tribute to your wrongness. That is science!](https://twitter.com/nathanwpyle/status/1176860147223867393)"
      ]
    },
    {
      "cell_type": "code",
      "metadata": {
        "id": "q8ad7o6lcLC7",
        "outputId": "a88a8838-3f03-4905-cfb5-b8b35d7cd2ef",
        "colab": {
          "base_uri": "https://localhost:8080/",
          "height": 493
        }
      },
      "source": [
        "# Need external libries\n",
        "!pip install pdpbox\n",
        "!pip install yfinance\n",
        "!pip install python-edgar"
      ],
      "execution_count": 1,
      "outputs": [
        {
          "output_type": "stream",
          "text": [
            "Requirement already satisfied: pdpbox in /usr/local/lib/python3.6/dist-packages (0.2.0)\n",
            "Requirement already satisfied: numpy in /usr/local/lib/python3.6/dist-packages (from pdpbox) (1.18.5)\n",
            "Requirement already satisfied: matplotlib>=2.1.2 in /usr/local/lib/python3.6/dist-packages (from pdpbox) (3.2.2)\n",
            "Requirement already satisfied: psutil in /usr/local/lib/python3.6/dist-packages (from pdpbox) (5.4.8)\n",
            "Requirement already satisfied: scikit-learn in /usr/local/lib/python3.6/dist-packages (from pdpbox) (0.22.2.post1)\n",
            "Requirement already satisfied: pandas in /usr/local/lib/python3.6/dist-packages (from pdpbox) (1.1.2)\n",
            "Requirement already satisfied: scipy in /usr/local/lib/python3.6/dist-packages (from pdpbox) (1.4.1)\n",
            "Requirement already satisfied: joblib in /usr/local/lib/python3.6/dist-packages (from pdpbox) (0.16.0)\n",
            "Requirement already satisfied: python-dateutil>=2.1 in /usr/local/lib/python3.6/dist-packages (from matplotlib>=2.1.2->pdpbox) (2.8.1)\n",
            "Requirement already satisfied: pyparsing!=2.0.4,!=2.1.2,!=2.1.6,>=2.0.1 in /usr/local/lib/python3.6/dist-packages (from matplotlib>=2.1.2->pdpbox) (2.4.7)\n",
            "Requirement already satisfied: cycler>=0.10 in /usr/local/lib/python3.6/dist-packages (from matplotlib>=2.1.2->pdpbox) (0.10.0)\n",
            "Requirement already satisfied: kiwisolver>=1.0.1 in /usr/local/lib/python3.6/dist-packages (from matplotlib>=2.1.2->pdpbox) (1.2.0)\n",
            "Requirement already satisfied: pytz>=2017.2 in /usr/local/lib/python3.6/dist-packages (from pandas->pdpbox) (2018.9)\n",
            "Requirement already satisfied: six>=1.5 in /usr/local/lib/python3.6/dist-packages (from python-dateutil>=2.1->matplotlib>=2.1.2->pdpbox) (1.15.0)\n",
            "Requirement already satisfied: yfinance in /usr/local/lib/python3.6/dist-packages (0.1.55)\n",
            "Requirement already satisfied: requests>=2.20 in /usr/local/lib/python3.6/dist-packages (from yfinance) (2.23.0)\n",
            "Requirement already satisfied: lxml>=4.5.1 in /usr/local/lib/python3.6/dist-packages (from yfinance) (4.6.1)\n",
            "Requirement already satisfied: multitasking>=0.0.7 in /usr/local/lib/python3.6/dist-packages (from yfinance) (0.0.9)\n",
            "Requirement already satisfied: pandas>=0.24 in /usr/local/lib/python3.6/dist-packages (from yfinance) (1.1.2)\n",
            "Requirement already satisfied: numpy>=1.15 in /usr/local/lib/python3.6/dist-packages (from yfinance) (1.18.5)\n",
            "Requirement already satisfied: chardet<4,>=3.0.2 in /usr/local/lib/python3.6/dist-packages (from requests>=2.20->yfinance) (3.0.4)\n",
            "Requirement already satisfied: idna<3,>=2.5 in /usr/local/lib/python3.6/dist-packages (from requests>=2.20->yfinance) (2.10)\n",
            "Requirement already satisfied: urllib3!=1.25.0,!=1.25.1,<1.26,>=1.21.1 in /usr/local/lib/python3.6/dist-packages (from requests>=2.20->yfinance) (1.24.3)\n",
            "Requirement already satisfied: certifi>=2017.4.17 in /usr/local/lib/python3.6/dist-packages (from requests>=2.20->yfinance) (2020.6.20)\n",
            "Requirement already satisfied: pytz>=2017.2 in /usr/local/lib/python3.6/dist-packages (from pandas>=0.24->yfinance) (2018.9)\n",
            "Requirement already satisfied: python-dateutil>=2.7.3 in /usr/local/lib/python3.6/dist-packages (from pandas>=0.24->yfinance) (2.8.1)\n",
            "Requirement already satisfied: six>=1.5 in /usr/local/lib/python3.6/dist-packages (from python-dateutil>=2.7.3->pandas>=0.24->yfinance) (1.15.0)\n",
            "Requirement already satisfied: python-edgar in /usr/local/lib/python3.6/dist-packages (3.0.1)\n"
          ],
          "name": "stdout"
        }
      ]
    },
    {
      "cell_type": "code",
      "metadata": {
        "id": "xlHn9ubzBlbc"
      },
      "source": [
        "# import the libraries\n",
        "import yfinance as yf\n",
        "import numpy as np\n",
        "import pandas as pd\n",
        "import edgar"
      ],
      "execution_count": 2,
      "outputs": []
    },
    {
      "cell_type": "code",
      "metadata": {
        "id": "NC311YByFcuc"
      },
      "source": [
        "# Load the stock\n",
        "stock = yf.Ticker('AAPL')\n",
        "\n",
        "# Get the historical data\n",
        "df = stock.history(period='max')"
      ],
      "execution_count": 3,
      "outputs": []
    },
    {
      "cell_type": "code",
      "metadata": {
        "id": "UQ84t-C-GIM3",
        "outputId": "523a0a73-d95f-4fda-cfdf-2ff7509ff0dc",
        "colab": {
          "base_uri": "https://localhost:8080/",
          "height": 235
        }
      },
      "source": [
        "df.head()"
      ],
      "execution_count": 4,
      "outputs": [
        {
          "output_type": "execute_result",
          "data": {
            "text/html": [
              "<div>\n",
              "<style scoped>\n",
              "    .dataframe tbody tr th:only-of-type {\n",
              "        vertical-align: middle;\n",
              "    }\n",
              "\n",
              "    .dataframe tbody tr th {\n",
              "        vertical-align: top;\n",
              "    }\n",
              "\n",
              "    .dataframe thead th {\n",
              "        text-align: right;\n",
              "    }\n",
              "</style>\n",
              "<table border=\"1\" class=\"dataframe\">\n",
              "  <thead>\n",
              "    <tr style=\"text-align: right;\">\n",
              "      <th></th>\n",
              "      <th>Open</th>\n",
              "      <th>High</th>\n",
              "      <th>Low</th>\n",
              "      <th>Close</th>\n",
              "      <th>Volume</th>\n",
              "      <th>Dividends</th>\n",
              "      <th>Stock Splits</th>\n",
              "    </tr>\n",
              "    <tr>\n",
              "      <th>Date</th>\n",
              "      <th></th>\n",
              "      <th></th>\n",
              "      <th></th>\n",
              "      <th></th>\n",
              "      <th></th>\n",
              "      <th></th>\n",
              "      <th></th>\n",
              "    </tr>\n",
              "  </thead>\n",
              "  <tbody>\n",
              "    <tr>\n",
              "      <th>1980-12-12</th>\n",
              "      <td>0.101261</td>\n",
              "      <td>0.101701</td>\n",
              "      <td>0.101261</td>\n",
              "      <td>0.101261</td>\n",
              "      <td>469033600</td>\n",
              "      <td>0.0</td>\n",
              "      <td>0.0</td>\n",
              "    </tr>\n",
              "    <tr>\n",
              "      <th>1980-12-15</th>\n",
              "      <td>0.096418</td>\n",
              "      <td>0.096418</td>\n",
              "      <td>0.095978</td>\n",
              "      <td>0.095978</td>\n",
              "      <td>175884800</td>\n",
              "      <td>0.0</td>\n",
              "      <td>0.0</td>\n",
              "    </tr>\n",
              "    <tr>\n",
              "      <th>1980-12-16</th>\n",
              "      <td>0.089374</td>\n",
              "      <td>0.089374</td>\n",
              "      <td>0.088934</td>\n",
              "      <td>0.088934</td>\n",
              "      <td>105728000</td>\n",
              "      <td>0.0</td>\n",
              "      <td>0.0</td>\n",
              "    </tr>\n",
              "    <tr>\n",
              "      <th>1980-12-17</th>\n",
              "      <td>0.091135</td>\n",
              "      <td>0.091575</td>\n",
              "      <td>0.091135</td>\n",
              "      <td>0.091135</td>\n",
              "      <td>86441600</td>\n",
              "      <td>0.0</td>\n",
              "      <td>0.0</td>\n",
              "    </tr>\n",
              "    <tr>\n",
              "      <th>1980-12-18</th>\n",
              "      <td>0.093777</td>\n",
              "      <td>0.094217</td>\n",
              "      <td>0.093777</td>\n",
              "      <td>0.093777</td>\n",
              "      <td>73449600</td>\n",
              "      <td>0.0</td>\n",
              "      <td>0.0</td>\n",
              "    </tr>\n",
              "  </tbody>\n",
              "</table>\n",
              "</div>"
            ],
            "text/plain": [
              "                Open      High       Low  ...     Volume  Dividends  Stock Splits\n",
              "Date                                      ...                                    \n",
              "1980-12-12  0.101261  0.101701  0.101261  ...  469033600        0.0           0.0\n",
              "1980-12-15  0.096418  0.096418  0.095978  ...  175884800        0.0           0.0\n",
              "1980-12-16  0.089374  0.089374  0.088934  ...  105728000        0.0           0.0\n",
              "1980-12-17  0.091135  0.091575  0.091135  ...   86441600        0.0           0.0\n",
              "1980-12-18  0.093777  0.094217  0.093777  ...   73449600        0.0           0.0\n",
              "\n",
              "[5 rows x 7 columns]"
            ]
          },
          "metadata": {
            "tags": []
          },
          "execution_count": 4
        }
      ]
    },
    {
      "cell_type": "code",
      "metadata": {
        "id": "n_Gs4pyFFrrl",
        "outputId": "0aa8738e-0423-4a55-c27f-2a01b0319793",
        "colab": {
          "base_uri": "https://localhost:8080/",
          "height": 255
        }
      },
      "source": [
        "# Take a look at the data\n",
        "df.info()"
      ],
      "execution_count": 5,
      "outputs": [
        {
          "output_type": "stream",
          "text": [
            "<class 'pandas.core.frame.DataFrame'>\n",
            "DatetimeIndex: 10050 entries, 1980-12-12 to 2020-10-21\n",
            "Data columns (total 7 columns):\n",
            " #   Column        Non-Null Count  Dtype  \n",
            "---  ------        --------------  -----  \n",
            " 0   Open          10050 non-null  float64\n",
            " 1   High          10050 non-null  float64\n",
            " 2   Low           10050 non-null  float64\n",
            " 3   Close         10050 non-null  float64\n",
            " 4   Volume        10050 non-null  int64  \n",
            " 5   Dividends     10050 non-null  float64\n",
            " 6   Stock Splits  10050 non-null  float64\n",
            "dtypes: float64(6), int64(1)\n",
            "memory usage: 628.1 KB\n"
          ],
          "name": "stdout"
        }
      ]
    },
    {
      "cell_type": "code",
      "metadata": {
        "id": "tyWTWrYUF12o"
      },
      "source": [
        "# Add the price change feature\n",
        "df['DailyChange'] = df['Close'] - df['Open']"
      ],
      "execution_count": 6,
      "outputs": []
    },
    {
      "cell_type": "code",
      "metadata": {
        "id": "QQ0LZRIfxB6Z"
      },
      "source": [
        "# Add the price change feature\n",
        "df['VolumeChange'] = df['Volume'].shift(-1) - df['Volume']"
      ],
      "execution_count": 7,
      "outputs": []
    },
    {
      "cell_type": "code",
      "metadata": {
        "id": "rbAJMWjxxCCs"
      },
      "source": [
        "# Add the price change feature\n",
        "df['PriceDiff'] = df['Close'].shift(-1) - df['Close']"
      ],
      "execution_count": 8,
      "outputs": []
    },
    {
      "cell_type": "code",
      "metadata": {
        "id": "Q9FnPV2yUrL5"
      },
      "source": [
        "# Return for the day\n",
        "df['Return'] = df['PriceDiff'] / df['Close']"
      ],
      "execution_count": 9,
      "outputs": []
    },
    {
      "cell_type": "code",
      "metadata": {
        "id": "abjjVGlfckkJ"
      },
      "source": [
        "# Daily difference in price\n",
        "df['OpenChange'] = df['High'] - df['Low']"
      ],
      "execution_count": 10,
      "outputs": []
    },
    {
      "cell_type": "code",
      "metadata": {
        "id": "z1h4s_aGZAwg"
      },
      "source": [
        "# Moving Average 50 and 250 days to get signal\n",
        "df['MA50'] = df['Close'].rolling(100).mean()\n",
        "df['MA250'] = df['Close'].rolling(200).mean()\n",
        "df['Signal'] = df['MA50'] - df['MA250']\n",
        "\n",
        "# Signal direction.\n",
        "df['SignalD'] = [1 if df.loc[signal, 'Signal'] > 0 else 0 for signal in df.index]\n",
        "df['SignalD'] = df['SignalD'].astype('int')"
      ],
      "execution_count": 11,
      "outputs": []
    },
    {
      "cell_type": "code",
      "metadata": {
        "id": "0vRQNBqSaVSO"
      },
      "source": [
        "# Drop the any create from the three features from above\n",
        "df.fillna(df.mean(), inplace=True)"
      ],
      "execution_count": 12,
      "outputs": []
    },
    {
      "cell_type": "code",
      "metadata": {
        "id": "PPHuCo5CVSQm",
        "outputId": "43e89be4-a899-43e0-f0e9-28bd28986b2a",
        "colab": {
          "base_uri": "https://localhost:8080/",
          "height": 68
        }
      },
      "source": [
        "# Create the target feature to predict.\n",
        "# I want to know if the market up or down.\n",
        "df['Direction'] = [1 if df.loc[direction, 'Return'] > 0 else 0 for direction in df.index]\n",
        "df['Direction'] = df['Direction'].astype('int')\n",
        "df['Direction'].value_counts(normalize=True)"
      ],
      "execution_count": 13,
      "outputs": [
        {
          "output_type": "execute_result",
          "data": {
            "text/plain": [
              "0    0.50398\n",
              "1    0.49602\n",
              "Name: Direction, dtype: float64"
            ]
          },
          "metadata": {
            "tags": []
          },
          "execution_count": 13
        }
      ]
    },
    {
      "cell_type": "code",
      "metadata": {
        "id": "5wxLgUxVXRWt"
      },
      "source": [
        "# Drop the leakage columns\n",
        "df = df.drop(['Return','PriceDiff'], axis=1)"
      ],
      "execution_count": 14,
      "outputs": []
    },
    {
      "cell_type": "code",
      "metadata": {
        "id": "38Ahsz1hfCMV"
      },
      "source": [
        "# Choose your target. Which column in your tabular dataset will you predict?\n",
        "# I will predict Up_Down"
      ],
      "execution_count": 15,
      "outputs": []
    },
    {
      "cell_type": "code",
      "metadata": {
        "id": "tYC2g8ENfCXS"
      },
      "source": [
        "# Is your problem regression or classification?\n",
        "# It will be a regression"
      ],
      "execution_count": 16,
      "outputs": []
    },
    {
      "cell_type": "code",
      "metadata": {
        "id": "XZaRFgjifCiD"
      },
      "source": [
        "# How is your target distributed?\n",
        "# The majority class frequency is 50%"
      ],
      "execution_count": 17,
      "outputs": []
    },
    {
      "cell_type": "code",
      "metadata": {
        "id": "zZrwggbFh1by"
      },
      "source": [
        "# My evaluation metrics.\n",
        "# Accuracy Score"
      ],
      "execution_count": 18,
      "outputs": []
    },
    {
      "cell_type": "code",
      "metadata": {
        "id": "qbfTYbG0iwFQ"
      },
      "source": [
        "# I will train from 1980 to 2004, validate from 2005 to 2014, and test from 2015 to 2019\n",
        "# I will do time base split.\n",
        "\n",
        "# get the date column from the index\n",
        "df['Date'] = df.index\n",
        "\n",
        "# Split the data\n",
        "train = df[(df['Date'].dt.year <= 2004)]\n",
        "val = df[(df['Date'].dt.year >= 2005) & (df['Date'].dt.year <= 2014)]\n",
        "test = df[(df['Date'].dt.year >= 2015)]"
      ],
      "execution_count": 19,
      "outputs": []
    },
    {
      "cell_type": "code",
      "metadata": {
        "id": "O_ZYFtNgjmey"
      },
      "source": [
        "####################### Fisnish retro 1 ####################"
      ],
      "execution_count": 20,
      "outputs": []
    },
    {
      "cell_type": "code",
      "metadata": {
        "id": "P3pRLof2juAF"
      },
      "source": [
        "####################### Start retro 2 ####################"
      ],
      "execution_count": 21,
      "outputs": []
    },
    {
      "cell_type": "code",
      "metadata": {
        "id": "F1k4TKaAdc1O",
        "outputId": "02cf0265-ac0d-44cf-c9f8-487bb6f725e9",
        "colab": {
          "base_uri": "https://localhost:8080/",
          "height": 408
        }
      },
      "source": [
        "# Take a look at the data\n",
        "train.info()"
      ],
      "execution_count": 22,
      "outputs": [
        {
          "output_type": "stream",
          "text": [
            "<class 'pandas.core.frame.DataFrame'>\n",
            "DatetimeIndex: 6071 entries, 1980-12-12 to 2004-12-31\n",
            "Data columns (total 16 columns):\n",
            " #   Column        Non-Null Count  Dtype         \n",
            "---  ------        --------------  -----         \n",
            " 0   Open          6071 non-null   float64       \n",
            " 1   High          6071 non-null   float64       \n",
            " 2   Low           6071 non-null   float64       \n",
            " 3   Close         6071 non-null   float64       \n",
            " 4   Volume        6071 non-null   int64         \n",
            " 5   Dividends     6071 non-null   float64       \n",
            " 6   Stock Splits  6071 non-null   float64       \n",
            " 7   DailyChange   6071 non-null   float64       \n",
            " 8   VolumeChange  6071 non-null   float64       \n",
            " 9   OpenChange    6071 non-null   float64       \n",
            " 10  MA50          6071 non-null   float64       \n",
            " 11  MA250         6071 non-null   float64       \n",
            " 12  Signal        6071 non-null   float64       \n",
            " 13  SignalD       6071 non-null   int64         \n",
            " 14  Direction     6071 non-null   int64         \n",
            " 15  Date          6071 non-null   datetime64[ns]\n",
            "dtypes: datetime64[ns](1), float64(12), int64(3)\n",
            "memory usage: 806.3 KB\n"
          ],
          "name": "stdout"
        }
      ]
    },
    {
      "cell_type": "code",
      "metadata": {
        "id": "yBERmLNQBAn0"
      },
      "source": [
        "####################### Fisnish retro 2 ####################"
      ],
      "execution_count": 23,
      "outputs": []
    },
    {
      "cell_type": "code",
      "metadata": {
        "id": "H-XwK6ZyBD9l"
      },
      "source": [
        "####################### Start retro 3 ####################"
      ],
      "execution_count": 24,
      "outputs": []
    },
    {
      "cell_type": "code",
      "metadata": {
        "id": "aFHXFmxfncnD",
        "outputId": "37a5a876-38c1-4893-c5e2-c5a4601fe48f",
        "colab": {
          "base_uri": "https://localhost:8080/",
          "height": 34
        }
      },
      "source": [
        "# Baseline\n",
        "baseline = train['Direction'].value_counts(normalize=True)\n",
        "print('Majority Baseline:', baseline[0])"
      ],
      "execution_count": 25,
      "outputs": [
        {
          "output_type": "stream",
          "text": [
            "Majority Baseline: 0.527260747817493\n"
          ],
          "name": "stdout"
        }
      ]
    },
    {
      "cell_type": "code",
      "metadata": {
        "id": "z0ipb5SQof4m"
      },
      "source": [
        "# Create the new DataFrame to get the feature list\n",
        "target = 'Direction'\n",
        "df_drop = train.copy()\n",
        "\n",
        "# Features DataFrame \n",
        "df_drop = df_drop.drop(target,axis=1)\n",
        "\n",
        "# get the feature columns list\n",
        "numeric = df_drop.describe().columns.values.tolist()\n",
        "\n",
        "# Processor\n",
        "from sklearn.compose import ColumnTransformer\n",
        "from sklearn.pipeline import Pipeline\n",
        "from sklearn.impute import SimpleImputer\n",
        "from sklearn.preprocessing import StandardScaler, OrdinalEncoder\n",
        "from sklearn.tree import DecisionTreeClassifier\n",
        "\n",
        "\n",
        "numeric_features = numeric\n",
        "\n",
        "numeric_transformer = Pipeline(steps=[\n",
        "    ('imputer', SimpleImputer(strategy='mean')),\n",
        "    ('scaler', StandardScaler())])\n",
        "\n",
        "preprocessor = ColumnTransformer(\n",
        "    transformers=[\n",
        "        ('num', numeric_transformer, numeric_features)])\n",
        "\n",
        "\n",
        "clf = Pipeline(steps=[('preprocessor', preprocessor),\n",
        "                  ('classifier', DecisionTreeClassifier())])"
      ],
      "execution_count": 26,
      "outputs": []
    },
    {
      "cell_type": "code",
      "metadata": {
        "id": "joM2fZg2rpsQ",
        "outputId": "9bcb3597-87eb-43c5-b74d-26970be5f73b",
        "colab": {
          "base_uri": "https://localhost:8080/",
          "height": 34
        }
      },
      "source": [
        "# Create the training and test sets\n",
        "X_train = train.drop(target, axis=1)\n",
        "y_train = train[target]\n",
        "X_val = val.drop(target, axis=1)\n",
        "y_val = val[target]\n",
        "X_test = test.drop(target, axis=1)\n",
        "y_test = test[target]\n",
        "\n",
        "# Fit the model\n",
        "clf.fit(X_train,y_train)\n",
        "print('Validation Accuracy', clf.score(X_val, y_val))"
      ],
      "execution_count": 27,
      "outputs": [
        {
          "output_type": "stream",
          "text": [
            "Validation Accuracy 0.49026618990862136\n"
          ],
          "name": "stdout"
        }
      ]
    },
    {
      "cell_type": "code",
      "metadata": {
        "id": "xoTV0AgWL1jm",
        "outputId": "48abed32-e3d4-48a2-9807-4cb849903a0b",
        "colab": {
          "base_uri": "https://localhost:8080/",
          "height": 34
        }
      },
      "source": [
        "# Import the Accuracy Score test\n",
        "from sklearn.metrics import accuracy_score\n",
        "\n",
        "# Do the predict on the test set\n",
        "y_pred = clf.predict(X_test)\n",
        "\n",
        "# Get the Accuracy Score score\n",
        "print('The Accuracy Score:',accuracy_score(y_test,y_pred))"
      ],
      "execution_count": 28,
      "outputs": [
        {
          "output_type": "stream",
          "text": [
            "The Accuracy Score: 0.5300957592339262\n"
          ],
          "name": "stdout"
        }
      ]
    },
    {
      "cell_type": "code",
      "metadata": {
        "id": "1fJ3Wb5N16sY",
        "outputId": "7c07d5e4-0ddc-4e7c-9f4a-cb4c0b13e54c",
        "colab": {
          "base_uri": "https://localhost:8080/",
          "height": 336
        }
      },
      "source": [
        "# Features (order in which they were preprocessed)\n",
        "features_order = numeric_features\n",
        "\n",
        "importances = pd.Series(clf.steps[1][1].feature_importances_, features_order)\n",
        "\n",
        "# Plot feature importances\n",
        "import matplotlib.pyplot as plt\n",
        "\n",
        "n = 10\n",
        "plt.figure(figsize=(10,n/2))\n",
        "plt.title(f'Top {n} features')\n",
        "importances.sort_values()[-n:].plot.barh(color='grey')\n",
        "\n",
        "plt.show()"
      ],
      "execution_count": 29,
      "outputs": [
        {
          "output_type": "display_data",
          "data": {
            "image/png": "[encoded data removed]",
            "text/plain": [
              "<Figure size 720x360 with 1 Axes>"
            ]
          },
          "metadata": {
            "tags": [],
            "needs_background": "light"
          }
        }
      ]
    },
    {
      "cell_type": "code",
      "metadata": {
        "id": "1mbJ2fTW9h77",
        "outputId": "f1019b50-d3b9-42d8-df02-0bff6832a0d5",
        "colab": {
          "base_uri": "https://localhost:8080/",
          "height": 68
        }
      },
      "source": [
        "# Permute the values in the more important column\n",
        "feature = 'VolumeChange'\n",
        "\n",
        "X_test_permuted = X_test.copy()\n",
        "\n",
        "# Fill in missing values\n",
        "X_test_permuted[feature].fillna(value = X_test_permuted[feature].median(), inplace=True)\n",
        "\n",
        "# Permute\n",
        "X_test_permuted[feature] = np.random.permutation(X_test[feature])\n",
        "\n",
        "print('Feature permuted: ', feature)\n",
        "print('Validation Accuracy', clf.score(X_test, y_test))\n",
        "print('Validation Accuracy (permuted)', clf.score(X_test_permuted, y_test))"
      ],
      "execution_count": 30,
      "outputs": [
        {
          "output_type": "stream",
          "text": [
            "Feature permuted:  VolumeChange\n",
            "Validation Accuracy 0.5300957592339262\n",
            "Validation Accuracy (permuted) 0.5034199726402189\n"
          ],
          "name": "stdout"
        }
      ]
    },
    {
      "cell_type": "code",
      "metadata": {
        "id": "oPDRmzVR9szR",
        "outputId": "b8fdb834-4a15-458a-c905-9cf4ee5acdca",
        "colab": {
          "base_uri": "https://localhost:8080/",
          "height": 68
        }
      },
      "source": [
        "# Permute the values in the more important column\n",
        "feature = 'Dividends'\n",
        "\n",
        "X_test_permuted = X_test.copy()\n",
        "\n",
        "# Fill in missing values\n",
        "X_test_permuted[feature].fillna(value = X_test_permuted[feature].median(), inplace=True)\n",
        "\n",
        "# Permute\n",
        "X_test_permuted[feature] = np.random.permutation(X_test[feature])\n",
        "\n",
        "print('Feature permuted: ', feature)\n",
        "print('Validation Accuracy', clf.score(X_test, y_test))\n",
        "print('Validation Accuracy (permuted)', clf.score(X_test_permuted, y_test))"
      ],
      "execution_count": 31,
      "outputs": [
        {
          "output_type": "stream",
          "text": [
            "Feature permuted:  Dividends\n",
            "Validation Accuracy 0.5300957592339262\n",
            "Validation Accuracy (permuted) 0.5300957592339262\n"
          ],
          "name": "stdout"
        }
      ]
    },
    {
      "cell_type": "code",
      "metadata": {
        "id": "CrH2MktT7hGK",
        "outputId": "1e2d90dc-4906-485e-b921-21ace1499b41",
        "colab": {
          "base_uri": "https://localhost:8080/",
          "height": 34
        }
      },
      "source": [
        "# Remove the date from the data for using XGBoost\n",
        "X_test = X_test.drop('Date', axis=1)\n",
        "\n",
        "# Load xgboost and fit the model\n",
        "from xgboost import XGBClassifier\n",
        "\n",
        "xg_classifier = XGBClassifier(n_estimators=250, random_state=42)\n",
        "\n",
        "xg_classifier.fit(X_test,y_test)\n",
        "\n",
        "print('Validation Accuracy: XGBoost', xg_classifier.score(X_test, y_test))"
      ],
      "execution_count": 32,
      "outputs": [
        {
          "output_type": "stream",
          "text": [
            "Validation Accuracy: XGBoost 0.8775649794801642\n"
          ],
          "name": "stdout"
        }
      ]
    },
    {
      "cell_type": "code",
      "metadata": {
        "id": "O5GfzwdA94xd"
      },
      "source": [
        "####################### Fisnish retro 3 ####################"
      ],
      "execution_count": 33,
      "outputs": []
    },
    {
      "cell_type": "code",
      "metadata": {
        "id": "Q6kdoeeo995w"
      },
      "source": [
        "####################### Start retro 4 ####################"
      ],
      "execution_count": 34,
      "outputs": []
    },
    {
      "cell_type": "code",
      "metadata": {
        "id": "X6Zr-Dawb91t"
      },
      "source": [
        ""
      ],
      "execution_count": 34,
      "outputs": []
    },
    {
      "cell_type": "code",
      "metadata": {
        "id": "04rDR_6K-BAq",
        "outputId": "73ff9b64-23d0-423a-c2d9-841810c8e434",
        "colab": {
          "base_uri": "https://localhost:8080/",
          "height": 295
        }
      },
      "source": [
        "# Partial dependence\n",
        "from sklearn.inspection import plot_partial_dependence\n",
        "import matplotlib.pyplot as plt\n",
        "\n",
        "model = clf.fit(X_train,y_train)\n",
        "\n",
        "fig, ax = plt.subplots(1,1, figsize=(12,4))\n",
        "plot_partial_dependence(model, feature_names=X_train.columns, \n",
        "                        features=['Close', 'VolumeChange'], \n",
        "                        X=X_train, grid_resolution=50, ax=ax);\n",
        "\n",
        "ax.set_title('Apple Stock: Partial Dependence');\n",
        "\n",
        "plt.show();"
      ],
      "execution_count": 35,
      "outputs": [
        {
          "output_type": "display_data",
          "data": {
            "image/png": "[encoded data removed]",
            "text/plain": [
              "<Figure size 864x288 with 3 Axes>"
            ]
          },
          "metadata": {
            "tags": [],
            "needs_background": "light"
          }
        }
      ]
    },
    {
      "cell_type": "code",
      "metadata": {
        "id": "l8YHvzbcEHnY",
        "outputId": "e6d7ba03-51a9-42e6-81d4-d8b12f83d2be",
        "colab": {
          "base_uri": "https://localhost:8080/",
          "height": 646
        }
      },
      "source": [
        "from pdpbox.pdp import pdp_isolate, pdp_plot\n",
        "\n",
        "# Create the plot for a single feature isolated\n",
        "\n",
        "isolated = pdp_isolate(\n",
        "    model= model,\n",
        "    dataset=X_train,\n",
        "    model_features=X_train.columns,\n",
        "    feature='Open'\n",
        ")\n",
        "\n",
        "pdp_plot(isolated, feature_name='Close');\n",
        "\n",
        "plt.show();"
      ],
      "execution_count": 36,
      "outputs": [
        {
          "output_type": "stream",
          "text": [
            "findfont: Font family ['Arial'] not found. Falling back to DejaVu Sans.\n",
            "findfont: Font family ['Arial'] not found. Falling back to DejaVu Sans.\n",
            "findfont: Font family ['Arial'] not found. Falling back to DejaVu Sans.\n",
            "findfont: Font family ['Arial'] not found. Falling back to DejaVu Sans.\n"
          ],
          "name": "stderr"
        },
        {
          "output_type": "display_data",
          "data": {
            "image/png": "[encoded data removed]",
            "text/plain": [
              "<Figure size 1080x684 with 2 Axes>"
            ]
          },
          "metadata": {
            "tags": [],
            "needs_background": "light"
          }
        }
      ]
    },
    {
      "cell_type": "code",
      "metadata": {
        "id": "UKrJbhJD-BJh"
      },
      "source": [
        "####################### Fisnish retro 4 ####################"
      ],
      "execution_count": 37,
      "outputs": []
    }
  ]
}