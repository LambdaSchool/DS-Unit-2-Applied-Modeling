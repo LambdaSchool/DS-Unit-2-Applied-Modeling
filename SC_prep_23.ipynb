{
 "nbformat": 4,
 "nbformat_minor": 2,
 "metadata": {
  "language_info": {
   "name": "python",
   "codemirror_mode": {
    "name": "ipython",
    "version": 3
   }
  },
  "orig_nbformat": 2,
  "file_extension": ".py",
  "mimetype": "text/x-python",
  "name": "python",
  "npconvert_exporter": "python",
  "pygments_lexer": "ipython3",
  "version": 3
 },
 "cells": [
  {
   "cell_type": "markdown",
   "metadata": {},
   "source": [
    "# Sprint Challenge 23 Review"
   ]
  },
  {
   "cell_type": "markdown",
   "metadata": {},
   "source": [
    "*****"
   ]
  },
  {
   "cell_type": "markdown",
   "metadata": {},
   "source": [
    "## 231 - Define Machine Learning Problems\n",
    "\n"
   ]
  },
  {
   "cell_type": "markdown",
   "metadata": {},
   "source": [
    "### A note in preparation for Unit 3\n",
    "\n",
    "When you're doing your initial data exploration, you're educating yourself about the data, assessing data integrity, and formulating a plan of attack for your predictive model.\n",
    "\n",
    "The best answer to any of these questions may vary from dataset to dataset. *Experiment* with a simple model to help you through the exploratory data analysis phase.\n",
    "\n",
    "#### Meaningful Variation\n",
    "  - Are there any features that are simply constant or quasi-constant values? \n",
    "  - Duplicated features?\n",
    "  - Duplicated rows?\n",
    "  - Are any of your features highly correlated together?\n",
    "    - Linear models can be particularly sensitive to multi-collinearity.\n",
    "    - Larger (esp. wide) datasets tend to have redundant features.\n",
    "\n",
    "#### Categorical Encodings\n",
    "\n",
    "  - What are your high cardinality categories?\n",
    "  - Are there any rare labels that might benefit from grouping together?\n",
    "  - Are there any categories that could be transformed into a meaningful rank (custom ordinal encoding)?\n",
    "\n",
    "#### Distributions\n",
    "\n",
    "  - What are the frequencies of your categorical labels?\n",
    "  - Is your target feature normally distributed? (Assumption for linear regression model)\n",
    "\n",
    "#### Outliers\n",
    "  - How sensitive is your model type to outliers?\n",
    "    - Less sensitive models include tree-based models. \n",
    "    - Linear models, neural networks, and other distance-based models will almost always benefit from scaling.\n",
    "  - What strategy will you use to identify and handle outliers?\n",
    "\n",
    "#### Feature Selection\n",
    "\n",
    "  Why should we reduce the number of features?\n",
    "  - Reduces potential overfitting\n",
    "  - Fewer features -> easier interpretation for your stakeholders.\n",
    "  - Easier implementation and maintain by software engineers.\n",
    "  - Reduced computational resource requirement.\n",
    "\n",
    "#### Reproducibility\n",
    "\n",
    "  - Always set a random seed.\n",
    "  - Comment, comment, comment!\n",
    "  - Print out versions of your software.\n",
    "  - Implement version control for your *data* as well as your *code* (esp. with timestamps!)\n",
    "  - Wrap your code in reproducible functions / classes for modularity of steps, including feature loading, data wrangling, feature processing, etc. (i.e., *use sklearn pipelines!*)\n",
    "  - Combine your modularized functions / classes in a single, centralized pipeline to execute your modularized \n",
    "  - Print out / record your final model parameters (optimized hyperparameter values).\n",
    "  - Record other details of the model: final features passed in, transformations employed, etc.(Jupyter makes this very transparent, but long notebooks can be more confusing than long-form scripts."
   ]
  },
  {
   "cell_type": "markdown",
   "metadata": {},
   "source": []
  },
  {
   "cell_type": "markdown",
   "metadata": {},
   "source": [
    "*****"
   ]
  },
  {
   "cell_type": "markdown",
   "metadata": {},
   "source": [
    "## 232 - Wrangle Machine Learning Datasets"
   ]
  },
  {
   "cell_type": "markdown",
   "metadata": {},
   "source": [
    "*****"
   ]
  },
  {
   "cell_type": "markdown",
   "metadata": {},
   "source": [
    "## 233 - Permutation and Boosting"
   ]
  },
  {
   "cell_type": "markdown",
   "metadata": {},
   "source": [
    "*****"
   ]
  },
  {
   "cell_type": "markdown",
   "metadata": {},
   "source": [
    "## 234 - Model Interpretation"
   ]
  },
  {
   "cell_type": "markdown",
   "metadata": {},
   "source": [
    "*****"
   ]
  },
  {
   "cell_type": "code",
   "execution_count": null,
   "metadata": {},
   "outputs": [],
   "source": []
  }
 ]
}