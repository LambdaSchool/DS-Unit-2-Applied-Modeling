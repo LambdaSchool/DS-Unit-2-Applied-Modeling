{
  "nbformat": 4,
  "nbformat_minor": 0,
  "metadata": {
    "colab": {
      "name": "Luis_Guzman_DS_Unit_2_Build.ipynb",
      "provenance": [],
      "collapsed_sections": [],
      "authorship_tag": "ABX9TyNZbjNvukbpir5/JPVo0ahj",
      "include_colab_link": true
    },
    "kernelspec": {
      "name": "python3",
      "display_name": "Python 3"
    }
  },
  "cells": [
    {
      "cell_type": "markdown",
      "metadata": {
        "id": "view-in-github",
        "colab_type": "text"
      },
      "source": [
        "<a href=\"https://colab.research.google.com/github/laguz/DS-Unit-2-Applied-Modeling/blob/master/Luis_Guzman_DS_Unit_2_Build.ipynb\" target=\"_parent\"><img src=\"https://colab.research.google.com/assets/colab-badge.svg\" alt=\"Open In Colab\"/></a>"
      ]
    },
    {
      "cell_type": "code",
      "metadata": {
        "colab": {
          "base_uri": "https://localhost:8080/"
        },
        "id": "qUg7nSPmbEFq",
        "outputId": "5ac63a29-5e31-44a9-f60e-531b2f50be5a"
      },
      "source": [
        "!pip install yfinance"
      ],
      "execution_count": 1,
      "outputs": [
        {
          "output_type": "stream",
          "text": [
            "Requirement already satisfied: yfinance in /usr/local/lib/python3.6/dist-packages (0.1.55)\n",
            "Requirement already satisfied: multitasking>=0.0.7 in /usr/local/lib/python3.6/dist-packages (from yfinance) (0.0.9)\n",
            "Requirement already satisfied: pandas>=0.24 in /usr/local/lib/python3.6/dist-packages (from yfinance) (1.1.5)\n",
            "Requirement already satisfied: numpy>=1.15 in /usr/local/lib/python3.6/dist-packages (from yfinance) (1.19.5)\n",
            "Requirement already satisfied: requests>=2.20 in /usr/local/lib/python3.6/dist-packages (from yfinance) (2.23.0)\n",
            "Requirement already satisfied: lxml>=4.5.1 in /usr/local/lib/python3.6/dist-packages (from yfinance) (4.6.2)\n",
            "Requirement already satisfied: pytz>=2017.2 in /usr/local/lib/python3.6/dist-packages (from pandas>=0.24->yfinance) (2018.9)\n",
            "Requirement already satisfied: python-dateutil>=2.7.3 in /usr/local/lib/python3.6/dist-packages (from pandas>=0.24->yfinance) (2.8.1)\n",
            "Requirement already satisfied: chardet<4,>=3.0.2 in /usr/local/lib/python3.6/dist-packages (from requests>=2.20->yfinance) (3.0.4)\n",
            "Requirement already satisfied: urllib3!=1.25.0,!=1.25.1,<1.26,>=1.21.1 in /usr/local/lib/python3.6/dist-packages (from requests>=2.20->yfinance) (1.24.3)\n",
            "Requirement already satisfied: idna<3,>=2.5 in /usr/local/lib/python3.6/dist-packages (from requests>=2.20->yfinance) (2.10)\n",
            "Requirement already satisfied: certifi>=2017.4.17 in /usr/local/lib/python3.6/dist-packages (from requests>=2.20->yfinance) (2020.12.5)\n",
            "Requirement already satisfied: six>=1.5 in /usr/local/lib/python3.6/dist-packages (from python-dateutil>=2.7.3->pandas>=0.24->yfinance) (1.15.0)\n"
          ],
          "name": "stdout"
        }
      ]
    },
    {
      "cell_type": "code",
      "metadata": {
        "id": "R8CwYGy6ahe4"
      },
      "source": [
        "import yfinance as yf\n",
        "import pandas as pd\n",
        "import numpy as np\n",
        "import seaborn as sns\n",
        "import matplotlib.pyplot as plt\n",
        "\n",
        "stock = yf.Ticker(\"uvxy\")"
      ],
      "execution_count": 39,
      "outputs": []
    },
    {
      "cell_type": "code",
      "metadata": {
        "colab": {
          "base_uri": "https://localhost:8080/",
          "height": 235
        },
        "id": "5hDFEUheci3p",
        "outputId": "f91a982e-38d1-4f2f-d4de-2b551c2ba16a"
      },
      "source": [
        "stock = stock.history(period=\"max\")\n",
        "stock.head()"
      ],
      "execution_count": 40,
      "outputs": [
        {
          "output_type": "execute_result",
          "data": {
            "text/html": [
              "<div>\n",
              "<style scoped>\n",
              "    .dataframe tbody tr th:only-of-type {\n",
              "        vertical-align: middle;\n",
              "    }\n",
              "\n",
              "    .dataframe tbody tr th {\n",
              "        vertical-align: top;\n",
              "    }\n",
              "\n",
              "    .dataframe thead th {\n",
              "        text-align: right;\n",
              "    }\n",
              "</style>\n",
              "<table border=\"1\" class=\"dataframe\">\n",
              "  <thead>\n",
              "    <tr style=\"text-align: right;\">\n",
              "      <th></th>\n",
              "      <th>Open</th>\n",
              "      <th>High</th>\n",
              "      <th>Low</th>\n",
              "      <th>Close</th>\n",
              "      <th>Volume</th>\n",
              "      <th>Dividends</th>\n",
              "      <th>Stock Splits</th>\n",
              "    </tr>\n",
              "    <tr>\n",
              "      <th>Date</th>\n",
              "      <th></th>\n",
              "      <th></th>\n",
              "      <th></th>\n",
              "      <th></th>\n",
              "      <th></th>\n",
              "      <th></th>\n",
              "      <th></th>\n",
              "    </tr>\n",
              "  </thead>\n",
              "  <tbody>\n",
              "    <tr>\n",
              "      <th>2011-10-04</th>\n",
              "      <td>242700000.0</td>\n",
              "      <td>244800000.0</td>\n",
              "      <td>205800000.0</td>\n",
              "      <td>205800000.0</td>\n",
              "      <td>0</td>\n",
              "      <td>0</td>\n",
              "      <td>0.0</td>\n",
              "    </tr>\n",
              "    <tr>\n",
              "      <th>2011-10-05</th>\n",
              "      <td>197460000.0</td>\n",
              "      <td>198900000.0</td>\n",
              "      <td>181380000.0</td>\n",
              "      <td>181380000.0</td>\n",
              "      <td>0</td>\n",
              "      <td>0</td>\n",
              "      <td>0.0</td>\n",
              "    </tr>\n",
              "    <tr>\n",
              "      <th>2011-10-06</th>\n",
              "      <td>181140000.0</td>\n",
              "      <td>187800000.0</td>\n",
              "      <td>174000000.0</td>\n",
              "      <td>174000000.0</td>\n",
              "      <td>0</td>\n",
              "      <td>0</td>\n",
              "      <td>0.0</td>\n",
              "    </tr>\n",
              "    <tr>\n",
              "      <th>2011-10-07</th>\n",
              "      <td>170580000.0</td>\n",
              "      <td>185760000.0</td>\n",
              "      <td>168480000.0</td>\n",
              "      <td>176520000.0</td>\n",
              "      <td>0</td>\n",
              "      <td>0</td>\n",
              "      <td>0.0</td>\n",
              "    </tr>\n",
              "    <tr>\n",
              "      <th>2011-10-10</th>\n",
              "      <td>165480000.0</td>\n",
              "      <td>165600000.0</td>\n",
              "      <td>155940000.0</td>\n",
              "      <td>155940000.0</td>\n",
              "      <td>0</td>\n",
              "      <td>0</td>\n",
              "      <td>0.0</td>\n",
              "    </tr>\n",
              "  </tbody>\n",
              "</table>\n",
              "</div>"
            ],
            "text/plain": [
              "                   Open         High  ...  Dividends  Stock Splits\n",
              "Date                                  ...                         \n",
              "2011-10-04  242700000.0  244800000.0  ...          0           0.0\n",
              "2011-10-05  197460000.0  198900000.0  ...          0           0.0\n",
              "2011-10-06  181140000.0  187800000.0  ...          0           0.0\n",
              "2011-10-07  170580000.0  185760000.0  ...          0           0.0\n",
              "2011-10-10  165480000.0  165600000.0  ...          0           0.0\n",
              "\n",
              "[5 rows x 7 columns]"
            ]
          },
          "metadata": {
            "tags": []
          },
          "execution_count": 40
        }
      ]
    },
    {
      "cell_type": "code",
      "metadata": {
        "colab": {
          "base_uri": "https://localhost:8080/"
        },
        "id": "O8_lD5Ww71df",
        "outputId": "fb35df17-e010-4613-f3a8-28840aebebe0"
      },
      "source": [
        "my_list = stock.drop(['Close'], axis=1)\n",
        "my_list = my_list.columns.values.tolist()\n",
        "\n",
        "print(my_list)"
      ],
      "execution_count": 41,
      "outputs": [
        {
          "output_type": "stream",
          "text": [
            "['Open', 'High', 'Low', 'Volume', 'Dividends', 'Stock Splits']\n"
          ],
          "name": "stdout"
        }
      ]
    },
    {
      "cell_type": "code",
      "metadata": {
        "id": "TMgIqszvc8GT"
      },
      "source": [
        "stock_df = my_list.copy()\n"
      ],
      "execution_count": 42,
      "outputs": []
    },
    {
      "cell_type": "code",
      "metadata": {
        "colab": {
          "base_uri": "https://localhost:8080/",
          "height": 290
        },
        "id": "l40Id38iCI7G",
        "outputId": "15fb8851-77c2-490b-b94b-746b3b258acc"
      },
      "source": [
        "# Import seaborn and matplotlib with the standard aliases\n",
        "import seaborn as sns\n",
        "import matplotlib.pyplot as plt\n",
        "\n",
        "# Load the example penguins dataset\n",
        "wkhs = stock\n",
        "\n",
        "# Create a \"regplot\"\n",
        "sns.regplot(x=\"Open\", y=\"Close\", data=wkhs, fit_reg=True)\n",
        "\n",
        "plt.show()"
      ],
      "execution_count": 43,
      "outputs": [
        {
          "output_type": "display_data",
          "data": {
            "image/png": "[encoded data removed]",
            "text/plain": [
              "<Figure size 432x288 with 1 Axes>"
            ]
          },
          "metadata": {
            "tags": [],
            "needs_background": "light"
          }
        }
      ]
    },
    {
      "cell_type": "code",
      "metadata": {
        "colab": {
          "base_uri": "https://localhost:8080/"
        },
        "id": "RGq52apIEC8i",
        "outputId": "7e5517f8-db61-4d8a-a9f2-722e2376222a"
      },
      "source": [
        "# Create the feature matrix\n",
        "X_stock = stock[my_list]\n",
        "print(\"The shape of the feature matrix: \", X_stock.shape)\n",
        "\n",
        "# Create the target vector\n",
        "y_stock = stock['Close']\n",
        "print(\"The shape of the target vector: \", y_stock.shape)"
      ],
      "execution_count": 45,
      "outputs": [
        {
          "output_type": "stream",
          "text": [
            "The shape of the feature matrix:  (2333, 6)\n",
            "The shape of the target vector:  (2333,)\n"
          ],
          "name": "stdout"
        }
      ]
    },
    {
      "cell_type": "code",
      "metadata": {
        "colab": {
          "base_uri": "https://localhost:8080/"
        },
        "id": "gqex5S2QFlQf",
        "outputId": "6c5295d5-1fc6-48ff-8a6a-fe3b2a78c16a"
      },
      "source": [
        "# Import the predictor class\n",
        "from sklearn.linear_model import LinearRegression\n",
        "\n",
        "# Instantiate the class (with default parameters)\n",
        "model = LinearRegression(normalize=True)\n",
        "\n",
        "# Dispay the model parameters\n",
        "model"
      ],
      "execution_count": 46,
      "outputs": [
        {
          "output_type": "execute_result",
          "data": {
            "text/plain": [
              "LinearRegression(copy_X=True, fit_intercept=True, n_jobs=None, normalize=True)"
            ]
          },
          "metadata": {
            "tags": []
          },
          "execution_count": 46
        }
      ]
    },
    {
      "cell_type": "code",
      "metadata": {
        "colab": {
          "base_uri": "https://localhost:8080/"
        },
        "id": "0HyolfgFGBsd",
        "outputId": "6d4afeca-0c46-48e1-c58a-cf46fd148be8"
      },
      "source": [
        "# Fit the model\n",
        "model.fit(X_stock, y_stock)"
      ],
      "execution_count": 47,
      "outputs": [
        {
          "output_type": "execute_result",
          "data": {
            "text/plain": [
              "LinearRegression(copy_X=True, fit_intercept=True, n_jobs=None, normalize=True)"
            ]
          },
          "metadata": {
            "tags": []
          },
          "execution_count": 47
        }
      ]
    },
    {
      "cell_type": "code",
      "metadata": {
        "colab": {
          "base_uri": "https://localhost:8080/"
        },
        "id": "kLZvmkNMGb8v",
        "outputId": "02805266-e4cd-4063-fa48-e308c5b354d8"
      },
      "source": [
        "# Slope (also called the model coefficient)\n",
        "print(model.coef_)\n",
        "\n",
        "# Intercept\n",
        "print(model.intercept_)\n",
        "\n",
        "# In equation form\n",
        "print(f'\\nClose Price = {model.coef_[0]} x Close + ({model.intercept_})')"
      ],
      "execution_count": 49,
      "outputs": [
        {
          "output_type": "stream",
          "text": [
            "[-6.46847766e-01  7.29668940e-01  9.10424540e-01 -4.96559241e-04\n",
            "  0.00000000e+00  6.87646101e+04]\n",
            "15417.07686023321\n",
            "\n",
            "Close Price = -0.6468477656061807 x Close + (15417.07686023321)\n"
          ],
          "name": "stdout"
        }
      ]
    },
    {
      "cell_type": "code",
      "metadata": {
        "id": "Ps4eTw9iK-tR"
      },
      "source": [
        "# Import the train_test_split utility\n",
        "from sklearn.model_selection import train_test_split\n",
        "\n",
        "# Create the \"remaining\" and test datasets\n",
        "X_remain, X_test, y_remain, y_test = train_test_split(\n",
        "    X_stock, y_stock, test_size=0.2, random_state=42)"
      ],
      "execution_count": 50,
      "outputs": []
    },
    {
      "cell_type": "code",
      "metadata": {
        "colab": {
          "base_uri": "https://localhost:8080/"
        },
        "id": "02gIBe-XLJPq",
        "outputId": "7af62b93-c7cd-40d6-ffa0-98f7f43d20b7"
      },
      "source": [
        "# Create the train and validation datasets\n",
        "\n",
        "X_train, X_val, y_train, y_val = train_test_split(\n",
        "    X_remain, y_remain, test_size=0.25, random_state=42)\n",
        "\n",
        "# Print out sizes of train, validate, test datasets\n",
        "\n",
        "print('Training data set samples:', len(X_train))\n",
        "print('Validation data set samples:', len(X_val))\n",
        "print('Test data set samples:', len(X_test))"
      ],
      "execution_count": 51,
      "outputs": [
        {
          "output_type": "stream",
          "text": [
            "Training data set samples: 1399\n",
            "Validation data set samples: 467\n",
            "Test data set samples: 467\n"
          ],
          "name": "stdout"
        }
      ]
    },
    {
      "cell_type": "code",
      "metadata": {
        "colab": {
          "base_uri": "https://localhost:8080/"
        },
        "id": "Uv-HeZF2LSMp",
        "outputId": "941e395b-e9a1-4a87-c4b1-06408f2ab549"
      },
      "source": [
        "# Import the predictor and instantiate the class\n",
        "from sklearn.linear_model import LinearRegression\n",
        "\n",
        "# Instantiate the model\n",
        "model = LinearRegression(normalize=True)\n",
        "\n",
        "# Fit the model\n",
        "model.fit(X_train, y_train)\n",
        "\n",
        "# Use the VALIDATION set for prediction\n",
        "y_predict = model.predict(X_val)\n",
        "\n",
        "# Calculate the accuracy score\n",
        "from sklearn.metrics import r2_score\n",
        "r2_score(y_val, y_predict)"
      ],
      "execution_count": 52,
      "outputs": [
        {
          "output_type": "execute_result",
          "data": {
            "text/plain": [
              "0.9990350291157128"
            ]
          },
          "metadata": {
            "tags": []
          },
          "execution_count": 52
        }
      ]
    },
    {
      "cell_type": "code",
      "metadata": {
        "colab": {
          "base_uri": "https://localhost:8080/"
        },
        "id": "HVon-jcuLc0W",
        "outputId": "1baddecc-4145-469d-d2c6-aaf467394f97"
      },
      "source": [
        "# Use the TEST set for prediction\n",
        "y_predict_test = model.predict(X_test)\n",
        "\n",
        "# Calculate the accuracy score\n",
        "\n",
        "r2_score(y_test, y_predict_test)"
      ],
      "execution_count": 53,
      "outputs": [
        {
          "output_type": "execute_result",
          "data": {
            "text/plain": [
              "0.999380540452312"
            ]
          },
          "metadata": {
            "tags": []
          },
          "execution_count": 53
        }
      ]
    },
    {
      "cell_type": "code",
      "metadata": {
        "colab": {
          "base_uri": "https://localhost:8080/"
        },
        "id": "e-CHcc_NMEts",
        "outputId": "1b1f47cf-4209-471b-cb48-5ff3a9273359"
      },
      "source": [
        "# Import the cross validation method\n",
        "from sklearn.model_selection import cross_val_score\n",
        "\n",
        "# Implement a cross-validation with k=5\n",
        "print(cross_val_score(model, X_stock, y_stock, cv=5))\n",
        "\n",
        "# Calculate the mean of the cross-validation scores\n",
        "score_mean = cross_val_score(model, X_stock, y_stock, cv=5).mean()\n",
        "print('The mean CV score is: ', score_mean)"
      ],
      "execution_count": 54,
      "outputs": [
        {
          "output_type": "stream",
          "text": [
            "[ 9.98553410e-01  9.59463907e-01 -4.28950743e+00 -7.45446211e+04\n",
            " -1.12696141e+07]\n",
            "The mean CV score is:  -2268832.200535132\n"
          ],
          "name": "stdout"
        }
      ]
    },
    {
      "cell_type": "code",
      "metadata": {
        "colab": {
          "base_uri": "https://localhost:8080/"
        },
        "id": "sGexRMWjNLDx",
        "outputId": "5ae99132-b0a6-46aa-c378-5e90dbc49b1b"
      },
      "source": [
        "# Import the feature selector utility\n",
        "from sklearn.feature_selection import SelectKBest, f_regression\n",
        "\n",
        "# Create the selector object with the best k=1 features\n",
        "selector = SelectKBest(score_func=f_regression, k=1)\n",
        "\n",
        "# Run the selector on the training data\n",
        "X_train_selected = selector.fit_transform(X_train, y_train)\n",
        "\n",
        "# Find the features that was selected\n",
        "selected_mask = selector.get_support()\n",
        "all_features = X_train.columns\n",
        "selected_feature = all_features[selected_mask]\n",
        "\n",
        "print('The selected feature: ', selected_feature[0])"
      ],
      "execution_count": 58,
      "outputs": [
        {
          "output_type": "stream",
          "text": [
            "The selected feature:  Low\n"
          ],
          "name": "stdout"
        },
        {
          "output_type": "stream",
          "text": [
            "/usr/local/lib/python3.6/dist-packages/sklearn/feature_selection/_univariate_selection.py:299: RuntimeWarning: invalid value encountered in true_divide\n",
            "  corr /= X_norms\n"
          ],
          "name": "stderr"
        }
      ]
    }
  ]
}