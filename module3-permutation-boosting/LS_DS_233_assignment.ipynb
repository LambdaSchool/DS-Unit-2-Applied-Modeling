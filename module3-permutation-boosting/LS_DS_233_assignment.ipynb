{
  "nbformat": 4,
  "nbformat_minor": 0,
  "metadata": {
    "kernelspec": {
      "display_name": "Python 3",
      "language": "python",
      "name": "python3"
    },
    "language_info": {
      "codemirror_mode": {
        "name": "ipython",
        "version": 3
      },
      "file_extension": ".py",
      "mimetype": "text/x-python",
      "name": "python",
      "nbconvert_exporter": "python",
      "pygments_lexer": "ipython3",
      "version": "3.7.7"
    },
    "colab": {
      "name": "LS_DS_233_assignment.ipynb",
      "provenance": []
    }
  },
  "cells": [
    {
      "cell_type": "markdown",
      "metadata": {
        "colab_type": "text",
        "id": "nCc3XZEyG3XV"
      },
      "source": [
        "Lambda School Data Science\n",
        "\n",
        "*Unit 2, Sprint 3, Module 3*\n",
        "\n",
        "---\n",
        "\n",
        "\n",
        "# Permutation & Boosting\n",
        "\n",
        "You will use your portfolio project dataset for all assignments this sprint.\n",
        "\n",
        "## Assignment\n",
        "\n",
        "Complete these tasks for your project, and document your work.\n",
        "\n",
        "- [ ] If you haven't completed assignment #1, please do so first.\n",
        "- [ ] Continue to clean and explore your data. Make exploratory visualizations.\n",
        "- [ ] Fit a model. Does it beat your baseline? \n",
        "- [ ] Try xgboost.\n",
        "- [ ] Get your model's permutation importances.\n",
        "\n",
        "You should try to complete an initial model today, because the rest of the week, we're making model interpretation visualizations.\n",
        "\n",
        "But, if you aren't ready to try xgboost and permutation importances with your dataset today, that's okay. You can practice with another dataset instead. You may choose any dataset you've worked with previously.\n",
        "\n",
        "The data subdirectory includes the Titanic dataset for classification and the NYC apartments dataset for regression. You may want to choose one of these datasets, because example solutions will be available for each.\n",
        "\n",
        "\n",
        "## Reading\n",
        "\n",
        "Top recommendations in _**bold italic:**_\n",
        "\n",
        "#### Permutation Importances\n",
        "- _**[Kaggle / Dan Becker: Machine Learning Explainability](https://www.kaggle.com/dansbecker/permutation-importance)**_\n",
        "- [Christoph Molnar: Interpretable Machine Learning](https://christophm.github.io/interpretable-ml-book/feature-importance.html)\n",
        "\n",
        "#### (Default) Feature Importances\n",
        "  - [Ando Saabas: Selecting good features, Part 3, Random Forests](https://blog.datadive.net/selecting-good-features-part-iii-random-forests/)\n",
        "  - [Terence Parr, et al: Beware Default Random Forest Importances](https://explained.ai/rf-importance/index.html)\n",
        "\n",
        "#### Gradient Boosting\n",
        "  - [A Gentle Introduction to the Gradient Boosting Algorithm for Machine Learning](https://machinelearningmastery.com/gentle-introduction-gradient-boosting-algorithm-machine-learning/)\n",
        "  - [An Introduction to Statistical Learning](http://www-bcf.usc.edu/~gareth/ISL/ISLR%20Seventh%20Printing.pdf), Chapter 8\n",
        "  - _**[Gradient Boosting Explained](https://www.gormanalysis.com/blog/gradient-boosting-explained/)**_ — Ben Gorman\n",
        "  - [Gradient Boosting Explained](http://arogozhnikov.github.io/2016/06/24/gradient_boosting_explained.html) — Alex Rogozhnikov\n",
        "  - [How to explain gradient boosting](https://explained.ai/gradient-boosting/) — Terence Parr & Jeremy Howard"
      ]
    },
    {
      "cell_type": "code",
      "metadata": {
        "id": "GcWi0cVuAekl",
        "colab_type": "code",
        "colab": {}
      },
      "source": [
        "%%capture\n",
        "import sys\n",
        "\n",
        "# If you're on Colab:\n",
        "if 'google.colab' in sys.modules:\n",
        "    DATA_PATH = 'https://raw.githubusercontent.com/LambdaSchool/DS-Unit-2-Applied-Modeling/master/data/'\n",
        "    !pip install category_encoders==2.*\n",
        "    !pip install pandas-profiling==2.*\n",
        "\n",
        "# If you're working locally:\n",
        "else:\n",
        "    DATA_PATH = '../data/'"
      ],
      "execution_count": 1,
      "outputs": []
    },
    {
      "cell_type": "code",
      "metadata": {
        "id": "lM4dn_VQAekp",
        "colab_type": "code",
        "colab": {}
      },
      "source": [
        "#Imports\n",
        "import numpy as np\n",
        "import pandas as pd\n",
        "import matplotlib.pyplot as plt\n",
        "from sklearn.model_selection import train_test_split"
      ],
      "execution_count": 2,
      "outputs": []
    },
    {
      "cell_type": "code",
      "metadata": {
        "id": "_mmj3dYfAeks",
        "colab_type": "code",
        "colab": {
          "base_uri": "https://localhost:8080/",
          "height": 346
        },
        "outputId": "71f25327-8402-42cb-ea16-2c0ae568be37"
      },
      "source": [
        "# Already Wrangled Project 2 dataset\n",
        "df = pd.read_csv('https://raw.githubusercontent.com/John-G-Thomas/Projects/master/Project2DF.csv')\n",
        "df.set_index(pd.to_datetime(df['Datetime']), inplace = True)\n",
        "print(df.shape)\n",
        "df.head()"
      ],
      "execution_count": 3,
      "outputs": [
        {
          "output_type": "stream",
          "text": [
            "(3148, 12)\n"
          ],
          "name": "stdout"
        },
        {
          "output_type": "execute_result",
          "data": {
            "text/html": [
              "<div>\n",
              "<style scoped>\n",
              "    .dataframe tbody tr th:only-of-type {\n",
              "        vertical-align: middle;\n",
              "    }\n",
              "\n",
              "    .dataframe tbody tr th {\n",
              "        vertical-align: top;\n",
              "    }\n",
              "\n",
              "    .dataframe thead th {\n",
              "        text-align: right;\n",
              "    }\n",
              "</style>\n",
              "<table border=\"1\" class=\"dataframe\">\n",
              "  <thead>\n",
              "    <tr style=\"text-align: right;\">\n",
              "      <th></th>\n",
              "      <th>Datetime</th>\n",
              "      <th>LandAverageTemperatureUncertainty</th>\n",
              "      <th>UpperBounds</th>\n",
              "      <th>LowerBounds</th>\n",
              "      <th>month</th>\n",
              "      <th>year</th>\n",
              "      <th>Average_Temperature</th>\n",
              "      <th>Yearly_SMA</th>\n",
              "      <th>Decade_SMA</th>\n",
              "      <th>Semicentennial_SMA</th>\n",
              "      <th>Centurie</th>\n",
              "      <th>Global_Warming</th>\n",
              "    </tr>\n",
              "    <tr>\n",
              "      <th>Datetime</th>\n",
              "      <th></th>\n",
              "      <th></th>\n",
              "      <th></th>\n",
              "      <th></th>\n",
              "      <th></th>\n",
              "      <th></th>\n",
              "      <th></th>\n",
              "      <th></th>\n",
              "      <th></th>\n",
              "      <th></th>\n",
              "      <th></th>\n",
              "      <th></th>\n",
              "    </tr>\n",
              "  </thead>\n",
              "  <tbody>\n",
              "    <tr>\n",
              "      <th>1750-01-01</th>\n",
              "      <td>1750-01-01</td>\n",
              "      <td>3.574</td>\n",
              "      <td>6.608</td>\n",
              "      <td>-0.540</td>\n",
              "      <td>1</td>\n",
              "      <td>1750</td>\n",
              "      <td>3.034</td>\n",
              "      <td>NaN</td>\n",
              "      <td>NaN</td>\n",
              "      <td>NaN</td>\n",
              "      <td>NaN</td>\n",
              "      <td>0</td>\n",
              "    </tr>\n",
              "    <tr>\n",
              "      <th>1750-02-01</th>\n",
              "      <td>1750-02-01</td>\n",
              "      <td>3.702</td>\n",
              "      <td>6.785</td>\n",
              "      <td>-0.619</td>\n",
              "      <td>2</td>\n",
              "      <td>1750</td>\n",
              "      <td>3.083</td>\n",
              "      <td>NaN</td>\n",
              "      <td>NaN</td>\n",
              "      <td>NaN</td>\n",
              "      <td>NaN</td>\n",
              "      <td>0</td>\n",
              "    </tr>\n",
              "    <tr>\n",
              "      <th>1750-03-01</th>\n",
              "      <td>1750-03-01</td>\n",
              "      <td>3.076</td>\n",
              "      <td>8.702</td>\n",
              "      <td>2.550</td>\n",
              "      <td>3</td>\n",
              "      <td>1750</td>\n",
              "      <td>5.626</td>\n",
              "      <td>NaN</td>\n",
              "      <td>NaN</td>\n",
              "      <td>NaN</td>\n",
              "      <td>NaN</td>\n",
              "      <td>0</td>\n",
              "    </tr>\n",
              "    <tr>\n",
              "      <th>1750-04-01</th>\n",
              "      <td>1750-04-01</td>\n",
              "      <td>2.451</td>\n",
              "      <td>10.941</td>\n",
              "      <td>6.039</td>\n",
              "      <td>4</td>\n",
              "      <td>1750</td>\n",
              "      <td>8.490</td>\n",
              "      <td>NaN</td>\n",
              "      <td>NaN</td>\n",
              "      <td>NaN</td>\n",
              "      <td>NaN</td>\n",
              "      <td>1</td>\n",
              "    </tr>\n",
              "    <tr>\n",
              "      <th>1750-05-01</th>\n",
              "      <td>1750-05-01</td>\n",
              "      <td>2.072</td>\n",
              "      <td>13.645</td>\n",
              "      <td>9.501</td>\n",
              "      <td>5</td>\n",
              "      <td>1750</td>\n",
              "      <td>11.573</td>\n",
              "      <td>NaN</td>\n",
              "      <td>NaN</td>\n",
              "      <td>NaN</td>\n",
              "      <td>NaN</td>\n",
              "      <td>1</td>\n",
              "    </tr>\n",
              "  </tbody>\n",
              "</table>\n",
              "</div>"
            ],
            "text/plain": [
              "              Datetime  ...  Global_Warming\n",
              "Datetime                ...                \n",
              "1750-01-01  1750-01-01  ...               0\n",
              "1750-02-01  1750-02-01  ...               0\n",
              "1750-03-01  1750-03-01  ...               0\n",
              "1750-04-01  1750-04-01  ...               1\n",
              "1750-05-01  1750-05-01  ...               1\n",
              "\n",
              "[5 rows x 12 columns]"
            ]
          },
          "metadata": {
            "tags": []
          },
          "execution_count": 3
        }
      ]
    },
    {
      "cell_type": "code",
      "metadata": {
        "id": "5eyN61p9Aekw",
        "colab_type": "code",
        "colab": {
          "base_uri": "https://localhost:8080/",
          "height": 360
        },
        "outputId": "78eb4ca7-a181-4d36-d9cd-45bee3b30a1d"
      },
      "source": [
        "morefeatures = pd.read_csv('https://pkgstore.datahub.io/core/co2-fossil-global/global_csv/data/09015539c2fc32bb3c4afead7df461b5/global_csv.csv')\n",
        "morefeatures.fillna(0, inplace=True)\n",
        "print(morefeatures.shape)\n",
        "morefeatures.head(10)"
      ],
      "execution_count": 4,
      "outputs": [
        {
          "output_type": "stream",
          "text": [
            "(260, 8)\n"
          ],
          "name": "stdout"
        },
        {
          "output_type": "execute_result",
          "data": {
            "text/html": [
              "<div>\n",
              "<style scoped>\n",
              "    .dataframe tbody tr th:only-of-type {\n",
              "        vertical-align: middle;\n",
              "    }\n",
              "\n",
              "    .dataframe tbody tr th {\n",
              "        vertical-align: top;\n",
              "    }\n",
              "\n",
              "    .dataframe thead th {\n",
              "        text-align: right;\n",
              "    }\n",
              "</style>\n",
              "<table border=\"1\" class=\"dataframe\">\n",
              "  <thead>\n",
              "    <tr style=\"text-align: right;\">\n",
              "      <th></th>\n",
              "      <th>Year</th>\n",
              "      <th>Total</th>\n",
              "      <th>Gas Fuel</th>\n",
              "      <th>Liquid Fuel</th>\n",
              "      <th>Solid Fuel</th>\n",
              "      <th>Cement</th>\n",
              "      <th>Gas Flaring</th>\n",
              "      <th>Per Capita</th>\n",
              "    </tr>\n",
              "  </thead>\n",
              "  <tbody>\n",
              "    <tr>\n",
              "      <th>0</th>\n",
              "      <td>1751</td>\n",
              "      <td>3</td>\n",
              "      <td>0</td>\n",
              "      <td>0</td>\n",
              "      <td>3</td>\n",
              "      <td>0</td>\n",
              "      <td>0</td>\n",
              "      <td>0.0</td>\n",
              "    </tr>\n",
              "    <tr>\n",
              "      <th>1</th>\n",
              "      <td>1752</td>\n",
              "      <td>3</td>\n",
              "      <td>0</td>\n",
              "      <td>0</td>\n",
              "      <td>3</td>\n",
              "      <td>0</td>\n",
              "      <td>0</td>\n",
              "      <td>0.0</td>\n",
              "    </tr>\n",
              "    <tr>\n",
              "      <th>2</th>\n",
              "      <td>1753</td>\n",
              "      <td>3</td>\n",
              "      <td>0</td>\n",
              "      <td>0</td>\n",
              "      <td>3</td>\n",
              "      <td>0</td>\n",
              "      <td>0</td>\n",
              "      <td>0.0</td>\n",
              "    </tr>\n",
              "    <tr>\n",
              "      <th>3</th>\n",
              "      <td>1754</td>\n",
              "      <td>3</td>\n",
              "      <td>0</td>\n",
              "      <td>0</td>\n",
              "      <td>3</td>\n",
              "      <td>0</td>\n",
              "      <td>0</td>\n",
              "      <td>0.0</td>\n",
              "    </tr>\n",
              "    <tr>\n",
              "      <th>4</th>\n",
              "      <td>1755</td>\n",
              "      <td>3</td>\n",
              "      <td>0</td>\n",
              "      <td>0</td>\n",
              "      <td>3</td>\n",
              "      <td>0</td>\n",
              "      <td>0</td>\n",
              "      <td>0.0</td>\n",
              "    </tr>\n",
              "    <tr>\n",
              "      <th>5</th>\n",
              "      <td>1756</td>\n",
              "      <td>3</td>\n",
              "      <td>0</td>\n",
              "      <td>0</td>\n",
              "      <td>3</td>\n",
              "      <td>0</td>\n",
              "      <td>0</td>\n",
              "      <td>0.0</td>\n",
              "    </tr>\n",
              "    <tr>\n",
              "      <th>6</th>\n",
              "      <td>1757</td>\n",
              "      <td>3</td>\n",
              "      <td>0</td>\n",
              "      <td>0</td>\n",
              "      <td>3</td>\n",
              "      <td>0</td>\n",
              "      <td>0</td>\n",
              "      <td>0.0</td>\n",
              "    </tr>\n",
              "    <tr>\n",
              "      <th>7</th>\n",
              "      <td>1758</td>\n",
              "      <td>3</td>\n",
              "      <td>0</td>\n",
              "      <td>0</td>\n",
              "      <td>3</td>\n",
              "      <td>0</td>\n",
              "      <td>0</td>\n",
              "      <td>0.0</td>\n",
              "    </tr>\n",
              "    <tr>\n",
              "      <th>8</th>\n",
              "      <td>1759</td>\n",
              "      <td>3</td>\n",
              "      <td>0</td>\n",
              "      <td>0</td>\n",
              "      <td>3</td>\n",
              "      <td>0</td>\n",
              "      <td>0</td>\n",
              "      <td>0.0</td>\n",
              "    </tr>\n",
              "    <tr>\n",
              "      <th>9</th>\n",
              "      <td>1760</td>\n",
              "      <td>3</td>\n",
              "      <td>0</td>\n",
              "      <td>0</td>\n",
              "      <td>3</td>\n",
              "      <td>0</td>\n",
              "      <td>0</td>\n",
              "      <td>0.0</td>\n",
              "    </tr>\n",
              "  </tbody>\n",
              "</table>\n",
              "</div>"
            ],
            "text/plain": [
              "   Year  Total  Gas Fuel  ...  Cement  Gas Flaring  Per Capita\n",
              "0  1751      3         0  ...       0            0         0.0\n",
              "1  1752      3         0  ...       0            0         0.0\n",
              "2  1753      3         0  ...       0            0         0.0\n",
              "3  1754      3         0  ...       0            0         0.0\n",
              "4  1755      3         0  ...       0            0         0.0\n",
              "5  1756      3         0  ...       0            0         0.0\n",
              "6  1757      3         0  ...       0            0         0.0\n",
              "7  1758      3         0  ...       0            0         0.0\n",
              "8  1759      3         0  ...       0            0         0.0\n",
              "9  1760      3         0  ...       0            0         0.0\n",
              "\n",
              "[10 rows x 8 columns]"
            ]
          },
          "metadata": {
            "tags": []
          },
          "execution_count": 4
        }
      ]
    },
    {
      "cell_type": "code",
      "metadata": {
        "id": "6iTyLe-VAekz",
        "colab_type": "code",
        "colab": {
          "base_uri": "https://localhost:8080/",
          "height": 269
        },
        "outputId": "13979d37-7627-493b-e3b3-f0f2401532d4"
      },
      "source": [
        "morefeatures.info()"
      ],
      "execution_count": 5,
      "outputs": [
        {
          "output_type": "stream",
          "text": [
            "<class 'pandas.core.frame.DataFrame'>\n",
            "RangeIndex: 260 entries, 0 to 259\n",
            "Data columns (total 8 columns):\n",
            " #   Column       Non-Null Count  Dtype  \n",
            "---  ------       --------------  -----  \n",
            " 0   Year         260 non-null    int64  \n",
            " 1   Total        260 non-null    int64  \n",
            " 2   Gas Fuel     260 non-null    int64  \n",
            " 3   Liquid Fuel  260 non-null    int64  \n",
            " 4   Solid Fuel   260 non-null    int64  \n",
            " 5   Cement       260 non-null    int64  \n",
            " 6   Gas Flaring  260 non-null    int64  \n",
            " 7   Per Capita   260 non-null    float64\n",
            "dtypes: float64(1), int64(7)\n",
            "memory usage: 16.4 KB\n"
          ],
          "name": "stdout"
        }
      ]
    },
    {
      "cell_type": "code",
      "metadata": {
        "id": "fBA4MHNdAek2",
        "colab_type": "code",
        "colab": {
          "base_uri": "https://localhost:8080/",
          "height": 336
        },
        "outputId": "64454c04-3b26-4bf5-e73e-8222b3ec6010"
      },
      "source": [
        "df=df.rename(columns={'year': 'Year'})\n",
        "df.info()"
      ],
      "execution_count": 6,
      "outputs": [
        {
          "output_type": "stream",
          "text": [
            "<class 'pandas.core.frame.DataFrame'>\n",
            "DatetimeIndex: 3148 entries, 1750-01-01 to 2015-12-01\n",
            "Data columns (total 12 columns):\n",
            " #   Column                             Non-Null Count  Dtype  \n",
            "---  ------                             --------------  -----  \n",
            " 0   Datetime                           3148 non-null   object \n",
            " 1   LandAverageTemperatureUncertainty  3148 non-null   float64\n",
            " 2   UpperBounds                        3148 non-null   float64\n",
            " 3   LowerBounds                        3148 non-null   float64\n",
            " 4   month                              3148 non-null   int64  \n",
            " 5   Year                               3148 non-null   int64  \n",
            " 6   Average_Temperature                3148 non-null   float64\n",
            " 7   Yearly_SMA                         3137 non-null   float64\n",
            " 8   Decade_SMA                         3029 non-null   float64\n",
            " 9   Semicentennial_SMA                 2549 non-null   float64\n",
            " 10  Centurie                           1949 non-null   float64\n",
            " 11  Global_Warming                     3148 non-null   int64  \n",
            "dtypes: float64(8), int64(3), object(1)\n",
            "memory usage: 319.7+ KB\n"
          ],
          "name": "stdout"
        }
      ]
    },
    {
      "cell_type": "markdown",
      "metadata": {
        "id": "B6j0VQHCAek5",
        "colab_type": "text"
      },
      "source": [
        "- Mearge Two DataFrames"
      ]
    },
    {
      "cell_type": "code",
      "metadata": {
        "id": "smSOtT0QAek6",
        "colab_type": "code",
        "colab": {
          "base_uri": "https://localhost:8080/",
          "height": 594
        },
        "outputId": "4c4fe2d4-9fdf-4199-ed2b-d9446b8816f0"
      },
      "source": [
        "X = pd.merge(df, morefeatures, how='inner')\n",
        "X.set_index(pd.to_datetime(X['Datetime']), inplace = True)\n",
        "X.drop('Datetime', axis=1, inplace=True)\n",
        "print(X.shape)\n",
        "X.tail(10)"
      ],
      "execution_count": 7,
      "outputs": [
        {
          "output_type": "stream",
          "text": [
            "(3079, 18)\n"
          ],
          "name": "stdout"
        },
        {
          "output_type": "execute_result",
          "data": {
            "text/html": [
              "<div>\n",
              "<style scoped>\n",
              "    .dataframe tbody tr th:only-of-type {\n",
              "        vertical-align: middle;\n",
              "    }\n",
              "\n",
              "    .dataframe tbody tr th {\n",
              "        vertical-align: top;\n",
              "    }\n",
              "\n",
              "    .dataframe thead th {\n",
              "        text-align: right;\n",
              "    }\n",
              "</style>\n",
              "<table border=\"1\" class=\"dataframe\">\n",
              "  <thead>\n",
              "    <tr style=\"text-align: right;\">\n",
              "      <th></th>\n",
              "      <th>LandAverageTemperatureUncertainty</th>\n",
              "      <th>UpperBounds</th>\n",
              "      <th>LowerBounds</th>\n",
              "      <th>month</th>\n",
              "      <th>Year</th>\n",
              "      <th>Average_Temperature</th>\n",
              "      <th>Yearly_SMA</th>\n",
              "      <th>Decade_SMA</th>\n",
              "      <th>Semicentennial_SMA</th>\n",
              "      <th>Centurie</th>\n",
              "      <th>Global_Warming</th>\n",
              "      <th>Total</th>\n",
              "      <th>Gas Fuel</th>\n",
              "      <th>Liquid Fuel</th>\n",
              "      <th>Solid Fuel</th>\n",
              "      <th>Cement</th>\n",
              "      <th>Gas Flaring</th>\n",
              "      <th>Per Capita</th>\n",
              "    </tr>\n",
              "    <tr>\n",
              "      <th>Datetime</th>\n",
              "      <th></th>\n",
              "      <th></th>\n",
              "      <th></th>\n",
              "      <th></th>\n",
              "      <th></th>\n",
              "      <th></th>\n",
              "      <th></th>\n",
              "      <th></th>\n",
              "      <th></th>\n",
              "      <th></th>\n",
              "      <th></th>\n",
              "      <th></th>\n",
              "      <th></th>\n",
              "      <th></th>\n",
              "      <th></th>\n",
              "      <th></th>\n",
              "      <th></th>\n",
              "      <th></th>\n",
              "    </tr>\n",
              "  </thead>\n",
              "  <tbody>\n",
              "    <tr>\n",
              "      <th>2010-03-01</th>\n",
              "      <td>0.057</td>\n",
              "      <td>6.795</td>\n",
              "      <td>6.681</td>\n",
              "      <td>3</td>\n",
              "      <td>2010</td>\n",
              "      <td>6.738</td>\n",
              "      <td>9.589167</td>\n",
              "      <td>9.506567</td>\n",
              "      <td>8.977185</td>\n",
              "      <td>8.765650</td>\n",
              "      <td>0</td>\n",
              "      <td>9167</td>\n",
              "      <td>1702</td>\n",
              "      <td>3114</td>\n",
              "      <td>3842</td>\n",
              "      <td>450</td>\n",
              "      <td>59</td>\n",
              "      <td>1.33</td>\n",
              "    </tr>\n",
              "    <tr>\n",
              "      <th>2010-04-01</th>\n",
              "      <td>0.087</td>\n",
              "      <td>9.758</td>\n",
              "      <td>9.584</td>\n",
              "      <td>4</td>\n",
              "      <td>2010</td>\n",
              "      <td>9.671</td>\n",
              "      <td>9.614500</td>\n",
              "      <td>9.507558</td>\n",
              "      <td>8.979748</td>\n",
              "      <td>8.766955</td>\n",
              "      <td>1</td>\n",
              "      <td>9167</td>\n",
              "      <td>1702</td>\n",
              "      <td>3114</td>\n",
              "      <td>3842</td>\n",
              "      <td>450</td>\n",
              "      <td>59</td>\n",
              "      <td>1.33</td>\n",
              "    </tr>\n",
              "    <tr>\n",
              "      <th>2010-05-01</th>\n",
              "      <td>0.078</td>\n",
              "      <td>12.484</td>\n",
              "      <td>12.328</td>\n",
              "      <td>5</td>\n",
              "      <td>2010</td>\n",
              "      <td>12.406</td>\n",
              "      <td>9.639000</td>\n",
              "      <td>9.511992</td>\n",
              "      <td>8.982305</td>\n",
              "      <td>8.768122</td>\n",
              "      <td>1</td>\n",
              "      <td>9167</td>\n",
              "      <td>1702</td>\n",
              "      <td>3114</td>\n",
              "      <td>3842</td>\n",
              "      <td>450</td>\n",
              "      <td>59</td>\n",
              "      <td>1.33</td>\n",
              "    </tr>\n",
              "    <tr>\n",
              "      <th>2010-06-01</th>\n",
              "      <td>0.086</td>\n",
              "      <td>14.507</td>\n",
              "      <td>14.335</td>\n",
              "      <td>6</td>\n",
              "      <td>2010</td>\n",
              "      <td>14.421</td>\n",
              "      <td>9.657333</td>\n",
              "      <td>9.515000</td>\n",
              "      <td>8.983867</td>\n",
              "      <td>8.769181</td>\n",
              "      <td>1</td>\n",
              "      <td>9167</td>\n",
              "      <td>1702</td>\n",
              "      <td>3114</td>\n",
              "      <td>3842</td>\n",
              "      <td>450</td>\n",
              "      <td>59</td>\n",
              "      <td>1.33</td>\n",
              "    </tr>\n",
              "    <tr>\n",
              "      <th>2010-07-01</th>\n",
              "      <td>0.090</td>\n",
              "      <td>15.303</td>\n",
              "      <td>15.123</td>\n",
              "      <td>7</td>\n",
              "      <td>2010</td>\n",
              "      <td>15.213</td>\n",
              "      <td>9.655833</td>\n",
              "      <td>9.518042</td>\n",
              "      <td>8.985558</td>\n",
              "      <td>8.769959</td>\n",
              "      <td>1</td>\n",
              "      <td>9167</td>\n",
              "      <td>1702</td>\n",
              "      <td>3114</td>\n",
              "      <td>3842</td>\n",
              "      <td>450</td>\n",
              "      <td>59</td>\n",
              "      <td>1.33</td>\n",
              "    </tr>\n",
              "    <tr>\n",
              "      <th>2010-08-01</th>\n",
              "      <td>0.112</td>\n",
              "      <td>14.880</td>\n",
              "      <td>14.656</td>\n",
              "      <td>8</td>\n",
              "      <td>2010</td>\n",
              "      <td>14.768</td>\n",
              "      <td>9.665250</td>\n",
              "      <td>9.520117</td>\n",
              "      <td>8.987130</td>\n",
              "      <td>8.770868</td>\n",
              "      <td>1</td>\n",
              "      <td>9167</td>\n",
              "      <td>1702</td>\n",
              "      <td>3114</td>\n",
              "      <td>3842</td>\n",
              "      <td>450</td>\n",
              "      <td>59</td>\n",
              "      <td>1.33</td>\n",
              "    </tr>\n",
              "    <tr>\n",
              "      <th>2010-09-01</th>\n",
              "      <td>0.065</td>\n",
              "      <td>12.928</td>\n",
              "      <td>12.798</td>\n",
              "      <td>9</td>\n",
              "      <td>2010</td>\n",
              "      <td>12.863</td>\n",
              "      <td>9.641083</td>\n",
              "      <td>9.522750</td>\n",
              "      <td>8.988410</td>\n",
              "      <td>8.771810</td>\n",
              "      <td>1</td>\n",
              "      <td>9167</td>\n",
              "      <td>1702</td>\n",
              "      <td>3114</td>\n",
              "      <td>3842</td>\n",
              "      <td>450</td>\n",
              "      <td>59</td>\n",
              "      <td>1.33</td>\n",
              "    </tr>\n",
              "    <tr>\n",
              "      <th>2010-10-01</th>\n",
              "      <td>0.070</td>\n",
              "      <td>10.512</td>\n",
              "      <td>10.372</td>\n",
              "      <td>10</td>\n",
              "      <td>2010</td>\n",
              "      <td>10.442</td>\n",
              "      <td>9.666583</td>\n",
              "      <td>9.530717</td>\n",
              "      <td>8.989985</td>\n",
              "      <td>8.773007</td>\n",
              "      <td>1</td>\n",
              "      <td>9167</td>\n",
              "      <td>1702</td>\n",
              "      <td>3114</td>\n",
              "      <td>3842</td>\n",
              "      <td>450</td>\n",
              "      <td>59</td>\n",
              "      <td>1.33</td>\n",
              "    </tr>\n",
              "    <tr>\n",
              "      <th>2010-11-01</th>\n",
              "      <td>0.102</td>\n",
              "      <td>7.589</td>\n",
              "      <td>7.385</td>\n",
              "      <td>11</td>\n",
              "      <td>2010</td>\n",
              "      <td>7.487</td>\n",
              "      <td>9.704583</td>\n",
              "      <td>9.540508</td>\n",
              "      <td>8.992750</td>\n",
              "      <td>8.774814</td>\n",
              "      <td>0</td>\n",
              "      <td>9167</td>\n",
              "      <td>1702</td>\n",
              "      <td>3114</td>\n",
              "      <td>3842</td>\n",
              "      <td>450</td>\n",
              "      <td>59</td>\n",
              "      <td>1.33</td>\n",
              "    </tr>\n",
              "    <tr>\n",
              "      <th>2010-12-01</th>\n",
              "      <td>0.095</td>\n",
              "      <td>4.387</td>\n",
              "      <td>4.197</td>\n",
              "      <td>12</td>\n",
              "      <td>2010</td>\n",
              "      <td>4.292</td>\n",
              "      <td>9.703083</td>\n",
              "      <td>9.544083</td>\n",
              "      <td>8.992805</td>\n",
              "      <td>8.776154</td>\n",
              "      <td>0</td>\n",
              "      <td>9167</td>\n",
              "      <td>1702</td>\n",
              "      <td>3114</td>\n",
              "      <td>3842</td>\n",
              "      <td>450</td>\n",
              "      <td>59</td>\n",
              "      <td>1.33</td>\n",
              "    </tr>\n",
              "  </tbody>\n",
              "</table>\n",
              "</div>"
            ],
            "text/plain": [
              "            LandAverageTemperatureUncertainty  ...  Per Capita\n",
              "Datetime                                       ...            \n",
              "2010-03-01                              0.057  ...        1.33\n",
              "2010-04-01                              0.087  ...        1.33\n",
              "2010-05-01                              0.078  ...        1.33\n",
              "2010-06-01                              0.086  ...        1.33\n",
              "2010-07-01                              0.090  ...        1.33\n",
              "2010-08-01                              0.112  ...        1.33\n",
              "2010-09-01                              0.065  ...        1.33\n",
              "2010-10-01                              0.070  ...        1.33\n",
              "2010-11-01                              0.102  ...        1.33\n",
              "2010-12-01                              0.095  ...        1.33\n",
              "\n",
              "[10 rows x 18 columns]"
            ]
          },
          "metadata": {
            "tags": []
          },
          "execution_count": 7
        }
      ]
    },
    {
      "cell_type": "code",
      "metadata": {
        "id": "SD_0P__8Aek9",
        "colab_type": "code",
        "colab": {}
      },
      "source": [
        "X['Yearly_SMA_Solid_Fuel'] = X[['Solid Fuel']].rolling(window=12).mean()\n",
        "X['Yearly_SMA_Gas_Fuel'] = X[['Gas Fuel']].rolling(window=12).mean()\n",
        "X['Yearly_SMA_Cement'] = X[['Cement']].rolling(window=12).mean()\n",
        "X['Yearly_SMA_Gas_Flaring'] = X[['Gas Flaring']].rolling(window=12).mean()\n",
        "X['Yearly_SMA_Per_Capita'] = X[['Per Capita']].rolling(window=12).mean()\n",
        "X['Yearly_SMA_Liquid_Fuel'] = X[['Liquid Fuel']].rolling(window=12).mean()\n",
        "X['Yearly_SMA_CarbonTotal'] = X[['Total']].rolling(window=12).mean()\n",
        "X.drop('Semicentennial_SMA', axis=1, inplace=True)\n",
        "X.drop('Centurie', axis=1, inplace=True)\n",
        "X.dropna(subset=['Decade_SMA'], inplace=True)\n",
        "X.drop('Total', axis=1, inplace=True)\n",
        "X.drop('Gas Fuel', axis=1, inplace=True)\n",
        "X.drop('Liquid Fuel', axis=1, inplace=True)\n",
        "X.drop('Solid Fuel', axis=1, inplace=True)\n",
        "X.drop('Gas Flaring', axis=1, inplace=True)\n",
        "X.drop('Per Capita', axis=1, inplace=True)\n",
        "X.drop('LandAverageTemperatureUncertainty', axis=1, inplace=True)\n",
        "X.drop('UpperBounds', axis=1, inplace=True)\n",
        "X.drop('LowerBounds', axis=1, inplace=True)\n",
        "X.drop('Cement', axis=1, inplace=True)\n",
        "X.drop('Average_Temperature', axis=1, inplace=True)\n",
        "X.drop('Yearly_SMA', axis=1, inplace=True)"
      ],
      "execution_count": 8,
      "outputs": []
    },
    {
      "cell_type": "code",
      "metadata": {
        "id": "N9XGC9OjAelA",
        "colab_type": "code",
        "colab": {
          "base_uri": "https://localhost:8080/",
          "height": 218
        },
        "outputId": "0872af3d-3cce-470c-db9a-5aff919f3945"
      },
      "source": [
        "X.isnull().sum()"
      ],
      "execution_count": 9,
      "outputs": [
        {
          "output_type": "execute_result",
          "data": {
            "text/plain": [
              "month                     0\n",
              "Year                      0\n",
              "Decade_SMA                0\n",
              "Global_Warming            0\n",
              "Yearly_SMA_Solid_Fuel     0\n",
              "Yearly_SMA_Gas_Fuel       0\n",
              "Yearly_SMA_Cement         0\n",
              "Yearly_SMA_Gas_Flaring    0\n",
              "Yearly_SMA_Per_Capita     0\n",
              "Yearly_SMA_Liquid_Fuel    0\n",
              "Yearly_SMA_CarbonTotal    0\n",
              "dtype: int64"
            ]
          },
          "metadata": {
            "tags": []
          },
          "execution_count": 9
        }
      ]
    },
    {
      "cell_type": "markdown",
      "metadata": {
        "id": "VVcjjyp7AelD",
        "colab_type": "text"
      },
      "source": [
        "### 1) Continue to clean and explore your data. Make exploratory visualizations."
      ]
    },
    {
      "cell_type": "code",
      "metadata": {
        "scrolled": true,
        "id": "jEq0zvutAelD",
        "colab_type": "code",
        "colab": {
          "base_uri": "https://localhost:8080/",
          "height": 578
        },
        "outputId": "24d1cdc7-6aa2-4193-e11f-74ac38fe48c9"
      },
      "source": [
        "print(X.shape)\n",
        "X.tail(10)"
      ],
      "execution_count": 10,
      "outputs": [
        {
          "output_type": "stream",
          "text": [
            "(2970, 11)\n"
          ],
          "name": "stdout"
        },
        {
          "output_type": "execute_result",
          "data": {
            "text/html": [
              "<div>\n",
              "<style scoped>\n",
              "    .dataframe tbody tr th:only-of-type {\n",
              "        vertical-align: middle;\n",
              "    }\n",
              "\n",
              "    .dataframe tbody tr th {\n",
              "        vertical-align: top;\n",
              "    }\n",
              "\n",
              "    .dataframe thead th {\n",
              "        text-align: right;\n",
              "    }\n",
              "</style>\n",
              "<table border=\"1\" class=\"dataframe\">\n",
              "  <thead>\n",
              "    <tr style=\"text-align: right;\">\n",
              "      <th></th>\n",
              "      <th>month</th>\n",
              "      <th>Year</th>\n",
              "      <th>Decade_SMA</th>\n",
              "      <th>Global_Warming</th>\n",
              "      <th>Yearly_SMA_Solid_Fuel</th>\n",
              "      <th>Yearly_SMA_Gas_Fuel</th>\n",
              "      <th>Yearly_SMA_Cement</th>\n",
              "      <th>Yearly_SMA_Gas_Flaring</th>\n",
              "      <th>Yearly_SMA_Per_Capita</th>\n",
              "      <th>Yearly_SMA_Liquid_Fuel</th>\n",
              "      <th>Yearly_SMA_CarbonTotal</th>\n",
              "    </tr>\n",
              "    <tr>\n",
              "      <th>Datetime</th>\n",
              "      <th></th>\n",
              "      <th></th>\n",
              "      <th></th>\n",
              "      <th></th>\n",
              "      <th></th>\n",
              "      <th></th>\n",
              "      <th></th>\n",
              "      <th></th>\n",
              "      <th></th>\n",
              "      <th></th>\n",
              "      <th></th>\n",
              "    </tr>\n",
              "  </thead>\n",
              "  <tbody>\n",
              "    <tr>\n",
              "      <th>2010-03-01</th>\n",
              "      <td>3</td>\n",
              "      <td>2010</td>\n",
              "      <td>9.506567</td>\n",
              "      <td>0</td>\n",
              "      <td>3675.5</td>\n",
              "      <td>1614.25</td>\n",
              "      <td>422.250000</td>\n",
              "      <td>64.250000</td>\n",
              "      <td>1.292500</td>\n",
              "      <td>3070.500000</td>\n",
              "      <td>8846.750000</td>\n",
              "    </tr>\n",
              "    <tr>\n",
              "      <th>2010-04-01</th>\n",
              "      <td>4</td>\n",
              "      <td>2010</td>\n",
              "      <td>9.507558</td>\n",
              "      <td>1</td>\n",
              "      <td>3694.0</td>\n",
              "      <td>1624.00</td>\n",
              "      <td>425.333333</td>\n",
              "      <td>63.666667</td>\n",
              "      <td>1.296667</td>\n",
              "      <td>3075.333333</td>\n",
              "      <td>8882.333333</td>\n",
              "    </tr>\n",
              "    <tr>\n",
              "      <th>2010-05-01</th>\n",
              "      <td>5</td>\n",
              "      <td>2010</td>\n",
              "      <td>9.511992</td>\n",
              "      <td>1</td>\n",
              "      <td>3712.5</td>\n",
              "      <td>1633.75</td>\n",
              "      <td>428.416667</td>\n",
              "      <td>63.083333</td>\n",
              "      <td>1.300833</td>\n",
              "      <td>3080.166667</td>\n",
              "      <td>8917.916667</td>\n",
              "    </tr>\n",
              "    <tr>\n",
              "      <th>2010-06-01</th>\n",
              "      <td>6</td>\n",
              "      <td>2010</td>\n",
              "      <td>9.515000</td>\n",
              "      <td>1</td>\n",
              "      <td>3731.0</td>\n",
              "      <td>1643.50</td>\n",
              "      <td>431.500000</td>\n",
              "      <td>62.500000</td>\n",
              "      <td>1.305000</td>\n",
              "      <td>3085.000000</td>\n",
              "      <td>8953.500000</td>\n",
              "    </tr>\n",
              "    <tr>\n",
              "      <th>2010-07-01</th>\n",
              "      <td>7</td>\n",
              "      <td>2010</td>\n",
              "      <td>9.518042</td>\n",
              "      <td>1</td>\n",
              "      <td>3749.5</td>\n",
              "      <td>1653.25</td>\n",
              "      <td>434.583333</td>\n",
              "      <td>61.916667</td>\n",
              "      <td>1.309167</td>\n",
              "      <td>3089.833333</td>\n",
              "      <td>8989.083333</td>\n",
              "    </tr>\n",
              "    <tr>\n",
              "      <th>2010-08-01</th>\n",
              "      <td>8</td>\n",
              "      <td>2010</td>\n",
              "      <td>9.520117</td>\n",
              "      <td>1</td>\n",
              "      <td>3768.0</td>\n",
              "      <td>1663.00</td>\n",
              "      <td>437.666667</td>\n",
              "      <td>61.333333</td>\n",
              "      <td>1.313333</td>\n",
              "      <td>3094.666667</td>\n",
              "      <td>9024.666667</td>\n",
              "    </tr>\n",
              "    <tr>\n",
              "      <th>2010-09-01</th>\n",
              "      <td>9</td>\n",
              "      <td>2010</td>\n",
              "      <td>9.522750</td>\n",
              "      <td>1</td>\n",
              "      <td>3786.5</td>\n",
              "      <td>1672.75</td>\n",
              "      <td>440.750000</td>\n",
              "      <td>60.750000</td>\n",
              "      <td>1.317500</td>\n",
              "      <td>3099.500000</td>\n",
              "      <td>9060.250000</td>\n",
              "    </tr>\n",
              "    <tr>\n",
              "      <th>2010-10-01</th>\n",
              "      <td>10</td>\n",
              "      <td>2010</td>\n",
              "      <td>9.530717</td>\n",
              "      <td>1</td>\n",
              "      <td>3805.0</td>\n",
              "      <td>1682.50</td>\n",
              "      <td>443.833333</td>\n",
              "      <td>60.166667</td>\n",
              "      <td>1.321667</td>\n",
              "      <td>3104.333333</td>\n",
              "      <td>9095.833333</td>\n",
              "    </tr>\n",
              "    <tr>\n",
              "      <th>2010-11-01</th>\n",
              "      <td>11</td>\n",
              "      <td>2010</td>\n",
              "      <td>9.540508</td>\n",
              "      <td>0</td>\n",
              "      <td>3823.5</td>\n",
              "      <td>1692.25</td>\n",
              "      <td>446.916667</td>\n",
              "      <td>59.583333</td>\n",
              "      <td>1.325833</td>\n",
              "      <td>3109.166667</td>\n",
              "      <td>9131.416667</td>\n",
              "    </tr>\n",
              "    <tr>\n",
              "      <th>2010-12-01</th>\n",
              "      <td>12</td>\n",
              "      <td>2010</td>\n",
              "      <td>9.544083</td>\n",
              "      <td>0</td>\n",
              "      <td>3842.0</td>\n",
              "      <td>1702.00</td>\n",
              "      <td>450.000000</td>\n",
              "      <td>59.000000</td>\n",
              "      <td>1.330000</td>\n",
              "      <td>3114.000000</td>\n",
              "      <td>9167.000000</td>\n",
              "    </tr>\n",
              "  </tbody>\n",
              "</table>\n",
              "</div>"
            ],
            "text/plain": [
              "            month  Year  ...  Yearly_SMA_Liquid_Fuel  Yearly_SMA_CarbonTotal\n",
              "Datetime                 ...                                                \n",
              "2010-03-01      3  2010  ...             3070.500000             8846.750000\n",
              "2010-04-01      4  2010  ...             3075.333333             8882.333333\n",
              "2010-05-01      5  2010  ...             3080.166667             8917.916667\n",
              "2010-06-01      6  2010  ...             3085.000000             8953.500000\n",
              "2010-07-01      7  2010  ...             3089.833333             8989.083333\n",
              "2010-08-01      8  2010  ...             3094.666667             9024.666667\n",
              "2010-09-01      9  2010  ...             3099.500000             9060.250000\n",
              "2010-10-01     10  2010  ...             3104.333333             9095.833333\n",
              "2010-11-01     11  2010  ...             3109.166667             9131.416667\n",
              "2010-12-01     12  2010  ...             3114.000000             9167.000000\n",
              "\n",
              "[10 rows x 11 columns]"
            ]
          },
          "metadata": {
            "tags": []
          },
          "execution_count": 10
        }
      ]
    },
    {
      "cell_type": "code",
      "metadata": {
        "id": "nZJYBLQyAelG",
        "colab_type": "code",
        "colab": {
          "base_uri": "https://localhost:8080/",
          "height": 281
        },
        "outputId": "60ad0390-8e59-403d-bc7c-07bf123bfea7"
      },
      "source": [
        "plt.plot(X['Yearly_SMA_CarbonTotal'], 'y')\n",
        "plt.title('Carbom Emmisions')\n",
        "plt.ylabel('Units');\n",
        "plt.show();"
      ],
      "execution_count": 11,
      "outputs": [
        {
          "output_type": "display_data",
          "data": {
            "image/png": "[encoded data removed]",
            "text/plain": [
              "<Figure size 432x288 with 1 Axes>"
            ]
          },
          "metadata": {
            "tags": [],
            "needs_background": "light"
          }
        }
      ]
    },
    {
      "cell_type": "code",
      "metadata": {
        "id": "Da2OR0FGAelK",
        "colab_type": "code",
        "colab": {
          "base_uri": "https://localhost:8080/",
          "height": 281
        },
        "outputId": "03354470-7aa8-4e9b-9561-c169927af6f3"
      },
      "source": [
        "plt.plot(df['Decade_SMA'], 'b')\n",
        "plt.title('Average_Temperature')\n",
        "plt.ylabel('Temps');\n",
        "plt.show();"
      ],
      "execution_count": 12,
      "outputs": [
        {
          "output_type": "display_data",
          "data": {
            "image/png": "[encoded data removed]",
            "text/plain": [
              "<Figure size 432x288 with 1 Axes>"
            ]
          },
          "metadata": {
            "tags": [],
            "needs_background": "light"
          }
        }
      ]
    },
    {
      "cell_type": "code",
      "metadata": {
        "id": "dYU645XkDwS6",
        "colab_type": "code",
        "colab": {
          "base_uri": "https://localhost:8080/",
          "height": 304
        },
        "outputId": "a7adf581-8dec-4194-d40c-53ea38c907f1"
      },
      "source": [
        "# Baseline Global Warming .516162\n",
        "X.describe()"
      ],
      "execution_count": 13,
      "outputs": [
        {
          "output_type": "execute_result",
          "data": {
            "text/html": [
              "<div>\n",
              "<style scoped>\n",
              "    .dataframe tbody tr th:only-of-type {\n",
              "        vertical-align: middle;\n",
              "    }\n",
              "\n",
              "    .dataframe tbody tr th {\n",
              "        vertical-align: top;\n",
              "    }\n",
              "\n",
              "    .dataframe thead th {\n",
              "        text-align: right;\n",
              "    }\n",
              "</style>\n",
              "<table border=\"1\" class=\"dataframe\">\n",
              "  <thead>\n",
              "    <tr style=\"text-align: right;\">\n",
              "      <th></th>\n",
              "      <th>month</th>\n",
              "      <th>Year</th>\n",
              "      <th>Decade_SMA</th>\n",
              "      <th>Global_Warming</th>\n",
              "      <th>Yearly_SMA_Solid_Fuel</th>\n",
              "      <th>Yearly_SMA_Gas_Fuel</th>\n",
              "      <th>Yearly_SMA_Cement</th>\n",
              "      <th>Yearly_SMA_Gas_Flaring</th>\n",
              "      <th>Yearly_SMA_Per_Capita</th>\n",
              "      <th>Yearly_SMA_Liquid_Fuel</th>\n",
              "      <th>Yearly_SMA_CarbonTotal</th>\n",
              "    </tr>\n",
              "  </thead>\n",
              "  <tbody>\n",
              "    <tr>\n",
              "      <th>count</th>\n",
              "      <td>2970.000000</td>\n",
              "      <td>2970.000000</td>\n",
              "      <td>2970.000000</td>\n",
              "      <td>2970.000000</td>\n",
              "      <td>2970.000000</td>\n",
              "      <td>2970.000000</td>\n",
              "      <td>2970.000000</td>\n",
              "      <td>2970.000000</td>\n",
              "      <td>2970.000000</td>\n",
              "      <td>2970.000000</td>\n",
              "      <td>2970.000000</td>\n",
              "    </tr>\n",
              "    <tr>\n",
              "      <th>mean</th>\n",
              "      <td>6.518182</td>\n",
              "      <td>1886.620539</td>\n",
              "      <td>8.339950</td>\n",
              "      <td>0.516162</td>\n",
              "      <td>701.358418</td>\n",
              "      <td>191.401684</td>\n",
              "      <td>35.053535</td>\n",
              "      <td>13.615993</td>\n",
              "      <td>0.257497</td>\n",
              "      <td>515.093939</td>\n",
              "      <td>1456.495286</td>\n",
              "    </tr>\n",
              "    <tr>\n",
              "      <th>std</th>\n",
              "      <td>3.448389</td>\n",
              "      <td>71.651864</td>\n",
              "      <td>0.412514</td>\n",
              "      <td>0.499823</td>\n",
              "      <td>864.692458</td>\n",
              "      <td>398.277173</td>\n",
              "      <td>78.318491</td>\n",
              "      <td>26.648685</td>\n",
              "      <td>0.460562</td>\n",
              "      <td>942.592184</td>\n",
              "      <td>2258.948078</td>\n",
              "    </tr>\n",
              "    <tr>\n",
              "      <th>min</th>\n",
              "      <td>1.000000</td>\n",
              "      <td>1761.000000</td>\n",
              "      <td>7.220025</td>\n",
              "      <td>0.000000</td>\n",
              "      <td>3.000000</td>\n",
              "      <td>0.000000</td>\n",
              "      <td>0.000000</td>\n",
              "      <td>0.000000</td>\n",
              "      <td>0.000000</td>\n",
              "      <td>0.000000</td>\n",
              "      <td>3.000000</td>\n",
              "    </tr>\n",
              "    <tr>\n",
              "      <th>25%</th>\n",
              "      <td>4.000000</td>\n",
              "      <td>1825.000000</td>\n",
              "      <td>8.054294</td>\n",
              "      <td>0.000000</td>\n",
              "      <td>16.354167</td>\n",
              "      <td>0.000000</td>\n",
              "      <td>0.000000</td>\n",
              "      <td>0.000000</td>\n",
              "      <td>0.000000</td>\n",
              "      <td>0.000000</td>\n",
              "      <td>16.354167</td>\n",
              "    </tr>\n",
              "    <tr>\n",
              "      <th>50%</th>\n",
              "      <td>7.000000</td>\n",
              "      <td>1887.000000</td>\n",
              "      <td>8.281392</td>\n",
              "      <td>1.000000</td>\n",
              "      <td>278.500000</td>\n",
              "      <td>2.000000</td>\n",
              "      <td>0.000000</td>\n",
              "      <td>0.000000</td>\n",
              "      <td>0.000000</td>\n",
              "      <td>5.000000</td>\n",
              "      <td>285.083333</td>\n",
              "    </tr>\n",
              "    <tr>\n",
              "      <th>75%</th>\n",
              "      <td>10.000000</td>\n",
              "      <td>1949.000000</td>\n",
              "      <td>8.629850</td>\n",
              "      <td>1.000000</td>\n",
              "      <td>1061.208333</td>\n",
              "      <td>76.729167</td>\n",
              "      <td>14.291667</td>\n",
              "      <td>0.000000</td>\n",
              "      <td>0.000000</td>\n",
              "      <td>362.291667</td>\n",
              "      <td>1439.104167</td>\n",
              "    </tr>\n",
              "    <tr>\n",
              "      <th>max</th>\n",
              "      <td>12.000000</td>\n",
              "      <td>2010.000000</td>\n",
              "      <td>9.544083</td>\n",
              "      <td>1.000000</td>\n",
              "      <td>3842.000000</td>\n",
              "      <td>1702.000000</td>\n",
              "      <td>450.000000</td>\n",
              "      <td>110.000000</td>\n",
              "      <td>1.330000</td>\n",
              "      <td>3122.000000</td>\n",
              "      <td>9167.000000</td>\n",
              "    </tr>\n",
              "  </tbody>\n",
              "</table>\n",
              "</div>"
            ],
            "text/plain": [
              "             month         Year  ...  Yearly_SMA_Liquid_Fuel  Yearly_SMA_CarbonTotal\n",
              "count  2970.000000  2970.000000  ...             2970.000000             2970.000000\n",
              "mean      6.518182  1886.620539  ...              515.093939             1456.495286\n",
              "std       3.448389    71.651864  ...              942.592184             2258.948078\n",
              "min       1.000000  1761.000000  ...                0.000000                3.000000\n",
              "25%       4.000000  1825.000000  ...                0.000000               16.354167\n",
              "50%       7.000000  1887.000000  ...                5.000000              285.083333\n",
              "75%      10.000000  1949.000000  ...              362.291667             1439.104167\n",
              "max      12.000000  2010.000000  ...             3122.000000             9167.000000\n",
              "\n",
              "[8 rows x 11 columns]"
            ]
          },
          "metadata": {
            "tags": []
          },
          "execution_count": 13
        }
      ]
    },
    {
      "cell_type": "markdown",
      "metadata": {
        "id": "MtWQz3kwEOlW",
        "colab_type": "text"
      },
      "source": [
        "- Global warming determined if temperature increasing since start of greenhouse gases start of 1850 industrial revolution"
      ]
    },
    {
      "cell_type": "code",
      "metadata": {
        "id": "sEWUDARzEmHV",
        "colab_type": "code",
        "colab": {
          "base_uri": "https://localhost:8080/",
          "height": 654
        },
        "outputId": "2cdcf4ba-c958-4209-c638-3159723d32cc"
      },
      "source": [
        "select_year = X.loc[X['Year'] == 1850]\n",
        "select_year.head(12)"
      ],
      "execution_count": 14,
      "outputs": [
        {
          "output_type": "execute_result",
          "data": {
            "text/html": [
              "<div>\n",
              "<style scoped>\n",
              "    .dataframe tbody tr th:only-of-type {\n",
              "        vertical-align: middle;\n",
              "    }\n",
              "\n",
              "    .dataframe tbody tr th {\n",
              "        vertical-align: top;\n",
              "    }\n",
              "\n",
              "    .dataframe thead th {\n",
              "        text-align: right;\n",
              "    }\n",
              "</style>\n",
              "<table border=\"1\" class=\"dataframe\">\n",
              "  <thead>\n",
              "    <tr style=\"text-align: right;\">\n",
              "      <th></th>\n",
              "      <th>month</th>\n",
              "      <th>Year</th>\n",
              "      <th>Decade_SMA</th>\n",
              "      <th>Global_Warming</th>\n",
              "      <th>Yearly_SMA_Solid_Fuel</th>\n",
              "      <th>Yearly_SMA_Gas_Fuel</th>\n",
              "      <th>Yearly_SMA_Cement</th>\n",
              "      <th>Yearly_SMA_Gas_Flaring</th>\n",
              "      <th>Yearly_SMA_Per_Capita</th>\n",
              "      <th>Yearly_SMA_Liquid_Fuel</th>\n",
              "      <th>Yearly_SMA_CarbonTotal</th>\n",
              "    </tr>\n",
              "    <tr>\n",
              "      <th>Datetime</th>\n",
              "      <th></th>\n",
              "      <th></th>\n",
              "      <th></th>\n",
              "      <th></th>\n",
              "      <th></th>\n",
              "      <th></th>\n",
              "      <th></th>\n",
              "      <th></th>\n",
              "      <th></th>\n",
              "      <th></th>\n",
              "      <th></th>\n",
              "    </tr>\n",
              "  </thead>\n",
              "  <tbody>\n",
              "    <tr>\n",
              "      <th>1850-01-01</th>\n",
              "      <td>1</td>\n",
              "      <td>1850</td>\n",
              "      <td>7.963000</td>\n",
              "      <td>0</td>\n",
              "      <td>50.333333</td>\n",
              "      <td>0.0</td>\n",
              "      <td>0.0</td>\n",
              "      <td>0.0</td>\n",
              "      <td>0.0</td>\n",
              "      <td>0.0</td>\n",
              "      <td>50.333333</td>\n",
              "    </tr>\n",
              "    <tr>\n",
              "      <th>1850-02-01</th>\n",
              "      <td>2</td>\n",
              "      <td>1850</td>\n",
              "      <td>7.971075</td>\n",
              "      <td>0</td>\n",
              "      <td>50.666667</td>\n",
              "      <td>0.0</td>\n",
              "      <td>0.0</td>\n",
              "      <td>0.0</td>\n",
              "      <td>0.0</td>\n",
              "      <td>0.0</td>\n",
              "      <td>50.666667</td>\n",
              "    </tr>\n",
              "    <tr>\n",
              "      <th>1850-03-01</th>\n",
              "      <td>3</td>\n",
              "      <td>1850</td>\n",
              "      <td>7.978692</td>\n",
              "      <td>0</td>\n",
              "      <td>51.000000</td>\n",
              "      <td>0.0</td>\n",
              "      <td>0.0</td>\n",
              "      <td>0.0</td>\n",
              "      <td>0.0</td>\n",
              "      <td>0.0</td>\n",
              "      <td>51.000000</td>\n",
              "    </tr>\n",
              "    <tr>\n",
              "      <th>1850-04-01</th>\n",
              "      <td>4</td>\n",
              "      <td>1850</td>\n",
              "      <td>7.972642</td>\n",
              "      <td>0</td>\n",
              "      <td>51.333333</td>\n",
              "      <td>0.0</td>\n",
              "      <td>0.0</td>\n",
              "      <td>0.0</td>\n",
              "      <td>0.0</td>\n",
              "      <td>0.0</td>\n",
              "      <td>51.333333</td>\n",
              "    </tr>\n",
              "    <tr>\n",
              "      <th>1850-05-01</th>\n",
              "      <td>5</td>\n",
              "      <td>1850</td>\n",
              "      <td>7.962900</td>\n",
              "      <td>1</td>\n",
              "      <td>51.666667</td>\n",
              "      <td>0.0</td>\n",
              "      <td>0.0</td>\n",
              "      <td>0.0</td>\n",
              "      <td>0.0</td>\n",
              "      <td>0.0</td>\n",
              "      <td>51.666667</td>\n",
              "    </tr>\n",
              "    <tr>\n",
              "      <th>1850-06-01</th>\n",
              "      <td>6</td>\n",
              "      <td>1850</td>\n",
              "      <td>7.960725</td>\n",
              "      <td>1</td>\n",
              "      <td>52.000000</td>\n",
              "      <td>0.0</td>\n",
              "      <td>0.0</td>\n",
              "      <td>0.0</td>\n",
              "      <td>0.0</td>\n",
              "      <td>0.0</td>\n",
              "      <td>52.000000</td>\n",
              "    </tr>\n",
              "    <tr>\n",
              "      <th>1850-07-01</th>\n",
              "      <td>7</td>\n",
              "      <td>1850</td>\n",
              "      <td>7.958875</td>\n",
              "      <td>1</td>\n",
              "      <td>52.333333</td>\n",
              "      <td>0.0</td>\n",
              "      <td>0.0</td>\n",
              "      <td>0.0</td>\n",
              "      <td>0.0</td>\n",
              "      <td>0.0</td>\n",
              "      <td>52.333333</td>\n",
              "    </tr>\n",
              "    <tr>\n",
              "      <th>1850-08-01</th>\n",
              "      <td>8</td>\n",
              "      <td>1850</td>\n",
              "      <td>7.966817</td>\n",
              "      <td>1</td>\n",
              "      <td>52.666667</td>\n",
              "      <td>0.0</td>\n",
              "      <td>0.0</td>\n",
              "      <td>0.0</td>\n",
              "      <td>0.0</td>\n",
              "      <td>0.0</td>\n",
              "      <td>52.666667</td>\n",
              "    </tr>\n",
              "    <tr>\n",
              "      <th>1850-09-01</th>\n",
              "      <td>9</td>\n",
              "      <td>1850</td>\n",
              "      <td>7.970942</td>\n",
              "      <td>1</td>\n",
              "      <td>53.000000</td>\n",
              "      <td>0.0</td>\n",
              "      <td>0.0</td>\n",
              "      <td>0.0</td>\n",
              "      <td>0.0</td>\n",
              "      <td>0.0</td>\n",
              "      <td>53.000000</td>\n",
              "    </tr>\n",
              "    <tr>\n",
              "      <th>1850-10-01</th>\n",
              "      <td>10</td>\n",
              "      <td>1850</td>\n",
              "      <td>7.975825</td>\n",
              "      <td>0</td>\n",
              "      <td>53.333333</td>\n",
              "      <td>0.0</td>\n",
              "      <td>0.0</td>\n",
              "      <td>0.0</td>\n",
              "      <td>0.0</td>\n",
              "      <td>0.0</td>\n",
              "      <td>53.333333</td>\n",
              "    </tr>\n",
              "    <tr>\n",
              "      <th>1850-11-01</th>\n",
              "      <td>11</td>\n",
              "      <td>1850</td>\n",
              "      <td>7.981092</td>\n",
              "      <td>0</td>\n",
              "      <td>53.666667</td>\n",
              "      <td>0.0</td>\n",
              "      <td>0.0</td>\n",
              "      <td>0.0</td>\n",
              "      <td>0.0</td>\n",
              "      <td>0.0</td>\n",
              "      <td>53.666667</td>\n",
              "    </tr>\n",
              "    <tr>\n",
              "      <th>1850-12-01</th>\n",
              "      <td>12</td>\n",
              "      <td>1850</td>\n",
              "      <td>7.988542</td>\n",
              "      <td>0</td>\n",
              "      <td>54.000000</td>\n",
              "      <td>0.0</td>\n",
              "      <td>0.0</td>\n",
              "      <td>0.0</td>\n",
              "      <td>0.0</td>\n",
              "      <td>0.0</td>\n",
              "      <td>54.000000</td>\n",
              "    </tr>\n",
              "  </tbody>\n",
              "</table>\n",
              "</div>"
            ],
            "text/plain": [
              "            month  Year  ...  Yearly_SMA_Liquid_Fuel  Yearly_SMA_CarbonTotal\n",
              "Datetime                 ...                                                \n",
              "1850-01-01      1  1850  ...                     0.0               50.333333\n",
              "1850-02-01      2  1850  ...                     0.0               50.666667\n",
              "1850-03-01      3  1850  ...                     0.0               51.000000\n",
              "1850-04-01      4  1850  ...                     0.0               51.333333\n",
              "1850-05-01      5  1850  ...                     0.0               51.666667\n",
              "1850-06-01      6  1850  ...                     0.0               52.000000\n",
              "1850-07-01      7  1850  ...                     0.0               52.333333\n",
              "1850-08-01      8  1850  ...                     0.0               52.666667\n",
              "1850-09-01      9  1850  ...                     0.0               53.000000\n",
              "1850-10-01     10  1850  ...                     0.0               53.333333\n",
              "1850-11-01     11  1850  ...                     0.0               53.666667\n",
              "1850-12-01     12  1850  ...                     0.0               54.000000\n",
              "\n",
              "[12 rows x 11 columns]"
            ]
          },
          "metadata": {
            "tags": []
          },
          "execution_count": 14
        }
      ]
    },
    {
      "cell_type": "code",
      "metadata": {
        "id": "50sAR2FED0dB",
        "colab_type": "code",
        "colab": {}
      },
      "source": [
        "X['Global_Warming'] = (X['Decade_SMA']>= 7.963000)\n",
        "X[[\"Global_Warming\"]] *= 1"
      ],
      "execution_count": 15,
      "outputs": []
    },
    {
      "cell_type": "code",
      "metadata": {
        "id": "uIQZeic5FAnx",
        "colab_type": "code",
        "colab": {
          "base_uri": "https://localhost:8080/",
          "height": 304
        },
        "outputId": "4294d56d-a64a-4cc0-a313-20a40063e822"
      },
      "source": [
        "# New Basline Temperatures above decade SMA Global Temps before 1850(Industrial Revolution) -baseline .864983\n",
        "X.describe()"
      ],
      "execution_count": 16,
      "outputs": [
        {
          "output_type": "execute_result",
          "data": {
            "text/html": [
              "<div>\n",
              "<style scoped>\n",
              "    .dataframe tbody tr th:only-of-type {\n",
              "        vertical-align: middle;\n",
              "    }\n",
              "\n",
              "    .dataframe tbody tr th {\n",
              "        vertical-align: top;\n",
              "    }\n",
              "\n",
              "    .dataframe thead th {\n",
              "        text-align: right;\n",
              "    }\n",
              "</style>\n",
              "<table border=\"1\" class=\"dataframe\">\n",
              "  <thead>\n",
              "    <tr style=\"text-align: right;\">\n",
              "      <th></th>\n",
              "      <th>month</th>\n",
              "      <th>Year</th>\n",
              "      <th>Decade_SMA</th>\n",
              "      <th>Global_Warming</th>\n",
              "      <th>Yearly_SMA_Solid_Fuel</th>\n",
              "      <th>Yearly_SMA_Gas_Fuel</th>\n",
              "      <th>Yearly_SMA_Cement</th>\n",
              "      <th>Yearly_SMA_Gas_Flaring</th>\n",
              "      <th>Yearly_SMA_Per_Capita</th>\n",
              "      <th>Yearly_SMA_Liquid_Fuel</th>\n",
              "      <th>Yearly_SMA_CarbonTotal</th>\n",
              "    </tr>\n",
              "  </thead>\n",
              "  <tbody>\n",
              "    <tr>\n",
              "      <th>count</th>\n",
              "      <td>2970.000000</td>\n",
              "      <td>2970.000000</td>\n",
              "      <td>2970.000000</td>\n",
              "      <td>2970.000000</td>\n",
              "      <td>2970.000000</td>\n",
              "      <td>2970.000000</td>\n",
              "      <td>2970.000000</td>\n",
              "      <td>2970.000000</td>\n",
              "      <td>2970.000000</td>\n",
              "      <td>2970.000000</td>\n",
              "      <td>2970.000000</td>\n",
              "    </tr>\n",
              "    <tr>\n",
              "      <th>mean</th>\n",
              "      <td>6.518182</td>\n",
              "      <td>1886.620539</td>\n",
              "      <td>8.339950</td>\n",
              "      <td>0.864983</td>\n",
              "      <td>701.358418</td>\n",
              "      <td>191.401684</td>\n",
              "      <td>35.053535</td>\n",
              "      <td>13.615993</td>\n",
              "      <td>0.257497</td>\n",
              "      <td>515.093939</td>\n",
              "      <td>1456.495286</td>\n",
              "    </tr>\n",
              "    <tr>\n",
              "      <th>std</th>\n",
              "      <td>3.448389</td>\n",
              "      <td>71.651864</td>\n",
              "      <td>0.412514</td>\n",
              "      <td>0.341799</td>\n",
              "      <td>864.692458</td>\n",
              "      <td>398.277173</td>\n",
              "      <td>78.318491</td>\n",
              "      <td>26.648685</td>\n",
              "      <td>0.460562</td>\n",
              "      <td>942.592184</td>\n",
              "      <td>2258.948078</td>\n",
              "    </tr>\n",
              "    <tr>\n",
              "      <th>min</th>\n",
              "      <td>1.000000</td>\n",
              "      <td>1761.000000</td>\n",
              "      <td>7.220025</td>\n",
              "      <td>0.000000</td>\n",
              "      <td>3.000000</td>\n",
              "      <td>0.000000</td>\n",
              "      <td>0.000000</td>\n",
              "      <td>0.000000</td>\n",
              "      <td>0.000000</td>\n",
              "      <td>0.000000</td>\n",
              "      <td>3.000000</td>\n",
              "    </tr>\n",
              "    <tr>\n",
              "      <th>25%</th>\n",
              "      <td>4.000000</td>\n",
              "      <td>1825.000000</td>\n",
              "      <td>8.054294</td>\n",
              "      <td>1.000000</td>\n",
              "      <td>16.354167</td>\n",
              "      <td>0.000000</td>\n",
              "      <td>0.000000</td>\n",
              "      <td>0.000000</td>\n",
              "      <td>0.000000</td>\n",
              "      <td>0.000000</td>\n",
              "      <td>16.354167</td>\n",
              "    </tr>\n",
              "    <tr>\n",
              "      <th>50%</th>\n",
              "      <td>7.000000</td>\n",
              "      <td>1887.000000</td>\n",
              "      <td>8.281392</td>\n",
              "      <td>1.000000</td>\n",
              "      <td>278.500000</td>\n",
              "      <td>2.000000</td>\n",
              "      <td>0.000000</td>\n",
              "      <td>0.000000</td>\n",
              "      <td>0.000000</td>\n",
              "      <td>5.000000</td>\n",
              "      <td>285.083333</td>\n",
              "    </tr>\n",
              "    <tr>\n",
              "      <th>75%</th>\n",
              "      <td>10.000000</td>\n",
              "      <td>1949.000000</td>\n",
              "      <td>8.629850</td>\n",
              "      <td>1.000000</td>\n",
              "      <td>1061.208333</td>\n",
              "      <td>76.729167</td>\n",
              "      <td>14.291667</td>\n",
              "      <td>0.000000</td>\n",
              "      <td>0.000000</td>\n",
              "      <td>362.291667</td>\n",
              "      <td>1439.104167</td>\n",
              "    </tr>\n",
              "    <tr>\n",
              "      <th>max</th>\n",
              "      <td>12.000000</td>\n",
              "      <td>2010.000000</td>\n",
              "      <td>9.544083</td>\n",
              "      <td>1.000000</td>\n",
              "      <td>3842.000000</td>\n",
              "      <td>1702.000000</td>\n",
              "      <td>450.000000</td>\n",
              "      <td>110.000000</td>\n",
              "      <td>1.330000</td>\n",
              "      <td>3122.000000</td>\n",
              "      <td>9167.000000</td>\n",
              "    </tr>\n",
              "  </tbody>\n",
              "</table>\n",
              "</div>"
            ],
            "text/plain": [
              "             month         Year  ...  Yearly_SMA_Liquid_Fuel  Yearly_SMA_CarbonTotal\n",
              "count  2970.000000  2970.000000  ...             2970.000000             2970.000000\n",
              "mean      6.518182  1886.620539  ...              515.093939             1456.495286\n",
              "std       3.448389    71.651864  ...              942.592184             2258.948078\n",
              "min       1.000000  1761.000000  ...                0.000000                3.000000\n",
              "25%       4.000000  1825.000000  ...                0.000000               16.354167\n",
              "50%       7.000000  1887.000000  ...                5.000000              285.083333\n",
              "75%      10.000000  1949.000000  ...              362.291667             1439.104167\n",
              "max      12.000000  2010.000000  ...             3122.000000             9167.000000\n",
              "\n",
              "[8 rows x 11 columns]"
            ]
          },
          "metadata": {
            "tags": []
          },
          "execution_count": 16
        }
      ]
    },
    {
      "cell_type": "markdown",
      "metadata": {
        "id": "8v4j_oIUAelN",
        "colab_type": "text"
      },
      "source": [
        "### 2) Fit a model. Does it beat your baseline?"
      ]
    },
    {
      "cell_type": "markdown",
      "metadata": {
        "id": "TuG0S595AelN",
        "colab_type": "text"
      },
      "source": [
        "- Train is before greenhouse gasses and zero emmisions\n",
        "- Test is After greenhouse gasses and zero emmisions (Industrial Revolution)"
      ]
    },
    {
      "cell_type": "code",
      "metadata": {
        "id": "9dQ2Gu8_AelO",
        "colab_type": "code",
        "colab": {
          "base_uri": "https://localhost:8080/",
          "height": 67
        },
        "outputId": "5751353f-ff34-4b67-a314-5238ec04fc24"
      },
      "source": [
        "#Spilt The Test Date\n",
        "train = X[(X['Year']>=1751)&(X['Year']<1850)]\n",
        "test = X[(X['Year']>=1850)&(X['Year']<=2010)]\n",
        "print(X.shape)\n",
        "print(train.shape)\n",
        "print(test.shape)"
      ],
      "execution_count": 17,
      "outputs": [
        {
          "output_type": "stream",
          "text": [
            "(2970, 11)\n",
            "(1038, 11)\n",
            "(1932, 11)\n"
          ],
          "name": "stdout"
        }
      ]
    },
    {
      "cell_type": "code",
      "metadata": {
        "id": "k4X7XaKBDDqU",
        "colab_type": "code",
        "colab": {}
      },
      "source": [
        "# Split train into train & val\n",
        "train, val = train_test_split(train, train_size=0.80, test_size=0.20, \n",
        "                              stratify=train['Global_Warming'],random_state=42)"
      ],
      "execution_count": 18,
      "outputs": []
    },
    {
      "cell_type": "code",
      "metadata": {
        "id": "DqDoYMEnDFRx",
        "colab_type": "code",
        "colab": {
          "base_uri": "https://localhost:8080/",
          "height": 84
        },
        "outputId": "5773c2eb-bffb-4cd3-e767-8e5ee629f0e6"
      },
      "source": [
        "print(X.shape)\n",
        "print(train.shape)\n",
        "print(val.shape)\n",
        "print(test.shape)"
      ],
      "execution_count": 19,
      "outputs": [
        {
          "output_type": "stream",
          "text": [
            "(2970, 11)\n",
            "(830, 11)\n",
            "(208, 11)\n",
            "(1932, 11)\n"
          ],
          "name": "stdout"
        }
      ]
    },
    {
      "cell_type": "code",
      "metadata": {
        "id": "meme3pW7DL2P",
        "colab_type": "code",
        "colab": {}
      },
      "source": [
        "# Arrange data into X features matrix and y target vector\n",
        "target = 'Global_Warming'\n",
        "X_train = train.drop(columns=target)\n",
        "y_train = train[target]\n",
        "X_val = val.drop(columns=target)\n",
        "y_val = val[target]\n",
        "X_test = test.drop(columns= target)\n",
        "y_test = test[target]"
      ],
      "execution_count": 53,
      "outputs": []
    },
    {
      "cell_type": "code",
      "metadata": {
        "id": "7mF33lNbDKeV",
        "colab_type": "code",
        "colab": {
          "base_uri": "https://localhost:8080/",
          "height": 118
        },
        "outputId": "fadfd299-c58e-4e71-983b-21bf34fb8df4"
      },
      "source": [
        "print(X_train.shape)\n",
        "print(y_train.shape)\n",
        "print(X_val.shape)\n",
        "print(y_val.shape)\n",
        "#After Industrial Revolution(1850)\n",
        "print(X_test.shape)\n",
        "print(y_test.shape)"
      ],
      "execution_count": 54,
      "outputs": [
        {
          "output_type": "stream",
          "text": [
            "(830, 10)\n",
            "(830,)\n",
            "(208, 10)\n",
            "(208,)\n",
            "(1932, 10)\n",
            "(1932,)\n"
          ],
          "name": "stdout"
        }
      ]
    },
    {
      "cell_type": "code",
      "metadata": {
        "id": "ezMCTmhvHzUq",
        "colab_type": "code",
        "colab": {
          "base_uri": "https://localhost:8080/",
          "height": 67
        },
        "outputId": "b22e5629-e410-4ab0-8230-5b9fc16ae319"
      },
      "source": [
        "y_train.value_counts(normalize=True)"
      ],
      "execution_count": 22,
      "outputs": [
        {
          "output_type": "execute_result",
          "data": {
            "text/plain": [
              "1    0.625301\n",
              "0    0.374699\n",
              "Name: Global_Warming, dtype: float64"
            ]
          },
          "metadata": {
            "tags": []
          },
          "execution_count": 22
        }
      ]
    },
    {
      "cell_type": "code",
      "metadata": {
        "id": "tyEULN4MH9Uu",
        "colab_type": "code",
        "colab": {
          "base_uri": "https://localhost:8080/",
          "height": 67
        },
        "outputId": "0be60a8c-f5b2-4c8d-c23e-b19a8330e895"
      },
      "source": [
        "y_val.value_counts(normalize=True)"
      ],
      "execution_count": 23,
      "outputs": [
        {
          "output_type": "execute_result",
          "data": {
            "text/plain": [
              "1    0.625\n",
              "0    0.375\n",
              "Name: Global_Warming, dtype: float64"
            ]
          },
          "metadata": {
            "tags": []
          },
          "execution_count": 23
        }
      ]
    },
    {
      "cell_type": "code",
      "metadata": {
        "id": "sW_BUUwfSd-1",
        "colab_type": "code",
        "colab": {}
      },
      "source": [
        "#Baseline for guessing need better than .993789"
      ],
      "execution_count": null,
      "outputs": []
    },
    {
      "cell_type": "code",
      "metadata": {
        "id": "MUrKluO8H_yw",
        "colab_type": "code",
        "colab": {
          "base_uri": "https://localhost:8080/",
          "height": 67
        },
        "outputId": "d25455c7-8a67-4c04-ac9f-5d114450169f"
      },
      "source": [
        "y_test.value_counts(normalize=True)"
      ],
      "execution_count": 24,
      "outputs": [
        {
          "output_type": "execute_result",
          "data": {
            "text/plain": [
              "1    0.993789\n",
              "0    0.006211\n",
              "Name: Global_Warming, dtype: float64"
            ]
          },
          "metadata": {
            "tags": []
          },
          "execution_count": 24
        }
      ]
    },
    {
      "cell_type": "code",
      "metadata": {
        "id": "sCBiXqdBAelR",
        "colab_type": "code",
        "colab": {
          "base_uri": "https://localhost:8080/",
          "height": 87
        },
        "outputId": "8e1e9f51-e20c-4a2a-980b-8a5e9bdee661"
      },
      "source": [
        "import category_encoders as ce\n",
        "from sklearn.impute import SimpleImputer\n",
        "from sklearn.ensemble import RandomForestClassifier\n",
        "from sklearn.model_selection import train_test_split\n",
        "from sklearn.pipeline import make_pipeline\n",
        "pipeline = make_pipeline(\n",
        "    ce.OrdinalEncoder(), \n",
        "    SimpleImputer(strategy='median'), \n",
        "    RandomForestClassifier(n_estimators=100,random_state=42, n_jobs=-1))\n",
        "# Fit on train, score on test\n",
        "pipeline.fit(X_train, y_train)\n",
        "print('Validation Accuracy', pipeline.score(X_test, y_test))"
      ],
      "execution_count": 25,
      "outputs": [
        {
          "output_type": "stream",
          "text": [
            "/usr/local/lib/python3.6/dist-packages/statsmodels/tools/_testing.py:19: FutureWarning: pandas.util.testing is deprecated. Use the functions in the public API at pandas.testing instead.\n",
            "  import pandas.util.testing as tm\n"
          ],
          "name": "stderr"
        },
        {
          "output_type": "stream",
          "text": [
            "Validation Accuracy 0.9979296066252588\n"
          ],
          "name": "stdout"
        }
      ]
    },
    {
      "cell_type": "code",
      "metadata": {
        "id": "mUKf90y6IjcD",
        "colab_type": "code",
        "colab": {
          "base_uri": "https://localhost:8080/",
          "height": 336
        },
        "outputId": "8887bfb0-8de1-4e72-d02d-1f675a78f63a"
      },
      "source": [
        "# Get feature importances\n",
        "rf = pipeline.named_steps['randomforestclassifier']\n",
        "importances = pd.Series(rf.feature_importances_, X_train.columns)\n",
        "# Plot feature importances\n",
        "%matplotlib inline\n",
        "import matplotlib.pyplot as plt\n",
        "n = 10\n",
        "plt.figure(figsize=(10,n/2))\n",
        "plt.title(f'Top {n} features')\n",
        "importances.sort_values()[-n:].plot.barh(color='grey');"
      ],
      "execution_count": 26,
      "outputs": [
        {
          "output_type": "display_data",
          "data": {
            "image/png": "[encoded data removed]",
            "text/plain": [
              "<Figure size 720x360 with 1 Axes>"
            ]
          },
          "metadata": {
            "tags": [],
            "needs_background": "light"
          }
        }
      ]
    },
    {
      "cell_type": "code",
      "metadata": {
        "id": "ym6Ye3zPLd2f",
        "colab_type": "code",
        "colab": {
          "base_uri": "https://localhost:8080/",
          "height": 67
        },
        "outputId": "1c93ff99-9c95-4858-e5ff-8e972fbf6902"
      },
      "source": [
        "column  = ['Decade_SMA']\n",
        "\n",
        "# Fit without column\n",
        "pipeline = make_pipeline(\n",
        "    ce.OrdinalEncoder(), \n",
        "    SimpleImputer(strategy='median'), \n",
        "    RandomForestClassifier(n_estimators=100, random_state=42, n_jobs=-1)\n",
        ")\n",
        "pipeline.fit(X_train.drop(columns=column), y_train)\n",
        "score_without = pipeline.score(X_val.drop(columns=column), y_val)\n",
        "print(f'Validation Accuracy without {column}: {score_without}')\n",
        "\n",
        "# Fit with column\n",
        "pipeline = make_pipeline(\n",
        "    ce.OrdinalEncoder(), \n",
        "    SimpleImputer(strategy='median'), \n",
        "    RandomForestClassifier(n_estimators=100, random_state=42, n_jobs=-1)\n",
        ")\n",
        "pipeline.fit(X_train, y_train)\n",
        "score_with = pipeline.score(X_val, y_val)\n",
        "print(f'Validation Accuracy with {column}: {score_with}')\n",
        "\n",
        "# Compare the error with & without column\n",
        "print(f'Drop-Column Importance for {column}: {score_with - score_without}')"
      ],
      "execution_count": 27,
      "outputs": [
        {
          "output_type": "stream",
          "text": [
            "Validation Accuracy without ['Decade_SMA']: 0.9615384615384616\n",
            "Validation Accuracy with ['Decade_SMA']: 1.0\n",
            "Drop-Column Importance for ['Decade_SMA']: 0.038461538461538436\n"
          ],
          "name": "stdout"
        }
      ]
    },
    {
      "cell_type": "code",
      "metadata": {
        "id": "SfrP-e1oI3su",
        "colab_type": "code",
        "colab": {}
      },
      "source": [
        "#Lets Exclude Decade_SMA"
      ],
      "execution_count": 28,
      "outputs": []
    },
    {
      "cell_type": "code",
      "metadata": {
        "id": "FphOF2B_KUJg",
        "colab_type": "code",
        "colab": {
          "base_uri": "https://localhost:8080/",
          "height": 202
        },
        "outputId": "4b67fc15-284d-45ac-b336-245c714653af"
      },
      "source": [
        "list(train)"
      ],
      "execution_count": 29,
      "outputs": [
        {
          "output_type": "execute_result",
          "data": {
            "text/plain": [
              "['month',\n",
              " 'Year',\n",
              " 'Decade_SMA',\n",
              " 'Global_Warming',\n",
              " 'Yearly_SMA_Solid_Fuel',\n",
              " 'Yearly_SMA_Gas_Fuel',\n",
              " 'Yearly_SMA_Cement',\n",
              " 'Yearly_SMA_Gas_Flaring',\n",
              " 'Yearly_SMA_Per_Capita',\n",
              " 'Yearly_SMA_Liquid_Fuel',\n",
              " 'Yearly_SMA_CarbonTotal']"
            ]
          },
          "metadata": {
            "tags": []
          },
          "execution_count": 29
        }
      ]
    },
    {
      "cell_type": "code",
      "metadata": {
        "id": "bw0005l0JCpH",
        "colab_type": "code",
        "colab": {}
      },
      "source": [
        "# Arrange data into X features matrix and y target vector\n",
        "target = 'Global_Warming'\n",
        "feature = ['month',\n",
        " 'Year',\n",
        " 'Yearly_SMA_Solid_Fuel',\n",
        " 'Yearly_SMA_Gas_Fuel',\n",
        " 'Yearly_SMA_Cement',\n",
        " 'Yearly_SMA_Gas_Flaring',\n",
        " 'Yearly_SMA_Per_Capita',\n",
        " 'Yearly_SMA_Liquid_Fuel',\n",
        " 'Yearly_SMA_CarbonTotal']\n",
        "X_train = train[feature]\n",
        "y_train = train[target]\n",
        "X_val = val[feature]\n",
        "y_val = val[target]\n",
        "X_test = test[feature]\n",
        "y_test = test[target]"
      ],
      "execution_count": 30,
      "outputs": []
    },
    {
      "cell_type": "code",
      "metadata": {
        "id": "xVfI5_TVJGR-",
        "colab_type": "code",
        "colab": {
          "base_uri": "https://localhost:8080/",
          "height": 118
        },
        "outputId": "cc4c2a23-5d32-4766-b0f2-ac060364c622"
      },
      "source": [
        "print(X_train.shape)\n",
        "print(y_train.shape)\n",
        "print(X_val.shape)\n",
        "print(y_val.shape)\n",
        "#After Industrial Revolution(1850)\n",
        "print(X_test.shape)\n",
        "print(y_test.shape)"
      ],
      "execution_count": 31,
      "outputs": [
        {
          "output_type": "stream",
          "text": [
            "(830, 9)\n",
            "(830,)\n",
            "(208, 9)\n",
            "(208,)\n",
            "(1932, 9)\n",
            "(1932,)\n"
          ],
          "name": "stdout"
        }
      ]
    },
    {
      "cell_type": "code",
      "metadata": {
        "id": "OGQ1v7GtI84p",
        "colab_type": "code",
        "colab": {
          "base_uri": "https://localhost:8080/",
          "height": 67
        },
        "outputId": "36d44bef-7e57-490a-d5b1-7838a0ae61e8"
      },
      "source": [
        "pipeline2 = make_pipeline(\n",
        "    ce.OrdinalEncoder(), \n",
        "    SimpleImputer(strategy='median'), \n",
        "    RandomForestClassifier(n_estimators=100,random_state=42, n_jobs=-1))\n",
        "# Fit on train, score on test\n",
        "pipeline2.fit(X_train, y_train)\n",
        "print('Train Accuracy', pipeline2.score(X_train, y_train))\n",
        "print('Validation Accuracy', pipeline2.score(X_val, y_val))\n",
        "print('Test Accuracy', pipeline2.score(X_test, y_test))"
      ],
      "execution_count": 32,
      "outputs": [
        {
          "output_type": "stream",
          "text": [
            "Train Accuracy 1.0\n",
            "Validation Accuracy 0.9615384615384616\n",
            "Test Accuracy 0.6635610766045549\n"
          ],
          "name": "stdout"
        }
      ]
    },
    {
      "cell_type": "code",
      "metadata": {
        "id": "JMi1zTnyK4Cp",
        "colab_type": "code",
        "colab": {
          "base_uri": "https://localhost:8080/",
          "height": 336
        },
        "outputId": "b88a8ac5-6124-416f-d7f8-19d63d544599"
      },
      "source": [
        "# Get feature importances\n",
        "rf = pipeline2.named_steps['randomforestclassifier']\n",
        "importances = pd.Series(rf.feature_importances_, X_train.columns)\n",
        "# Plot feature importances\n",
        "%matplotlib inline\n",
        "import matplotlib.pyplot as plt\n",
        "n = 10\n",
        "plt.figure(figsize=(10,n/2))\n",
        "plt.title(f'Top {n} features')\n",
        "importances.sort_values()[-n:].plot.barh(color='grey');"
      ],
      "execution_count": 33,
      "outputs": [
        {
          "output_type": "display_data",
          "data": {
            "image/png": "[encoded data removed]",
            "text/plain": [
              "<Figure size 720x360 with 1 Axes>"
            ]
          },
          "metadata": {
            "tags": [],
            "needs_background": "light"
          }
        }
      ]
    },
    {
      "cell_type": "code",
      "metadata": {
        "id": "DCQI_DEcME4A",
        "colab_type": "code",
        "colab": {
          "base_uri": "https://localhost:8080/",
          "height": 67
        },
        "outputId": "c2cd880e-10ac-48ec-867d-cbd9b0fd3088"
      },
      "source": [
        "column  = ['Year','month','Yearly_SMA_CarbonTotal']\n",
        "\n",
        "# Fit without column\n",
        "pipeline2 = make_pipeline(\n",
        "    ce.OrdinalEncoder(), \n",
        "    SimpleImputer(strategy='median'), \n",
        "    RandomForestClassifier(n_estimators=100, random_state=42, n_jobs=-1)\n",
        ")\n",
        "pipeline2.fit(X_train.drop(columns=column), y_train)\n",
        "score_without = pipeline2.score(X_val.drop(columns=column), y_val)\n",
        "print(f'Validation Accuracy without {column}: {score_without}')\n",
        "\n",
        "# Fit with column\n",
        "pipeline2 = make_pipeline(\n",
        "    ce.OrdinalEncoder(), \n",
        "    SimpleImputer(strategy='median'), \n",
        "    RandomForestClassifier(n_estimators=100, random_state=42, n_jobs=-1)\n",
        ")\n",
        "pipeline2.fit(X_train, y_train)\n",
        "score_with = pipeline2.score(X_val, y_val)\n",
        "print(f'Validation Accuracy with {column}: {score_with}')\n",
        "\n",
        "# Compare the error with & without column\n",
        "print(f'Drop-Column Importance for {column}: {score_with - score_without}')"
      ],
      "execution_count": 34,
      "outputs": [
        {
          "output_type": "stream",
          "text": [
            "Validation Accuracy without ['Year', 'month', 'Yearly_SMA_CarbonTotal']: 0.9471153846153846\n",
            "Validation Accuracy with ['Year', 'month', 'Yearly_SMA_CarbonTotal']: 0.9615384615384616\n",
            "Drop-Column Importance for ['Year', 'month', 'Yearly_SMA_CarbonTotal']: 0.014423076923076983\n"
          ],
          "name": "stdout"
        }
      ]
    },
    {
      "cell_type": "code",
      "metadata": {
        "id": "v3ntKHQwK766",
        "colab_type": "code",
        "colab": {}
      },
      "source": [
        "#Try Without time and carbon total"
      ],
      "execution_count": 35,
      "outputs": []
    },
    {
      "cell_type": "code",
      "metadata": {
        "id": "Fok8hYhBLCY3",
        "colab_type": "code",
        "colab": {}
      },
      "source": [
        "# Arrange data into X features matrix and y target vector\n",
        "target = 'Global_Warming'\n",
        "feature = ['Yearly_SMA_Solid_Fuel',\n",
        " 'Yearly_SMA_Gas_Fuel',\n",
        " 'Yearly_SMA_Cement',\n",
        " 'Yearly_SMA_Gas_Flaring',\n",
        " 'Yearly_SMA_Per_Capita',\n",
        " 'Yearly_SMA_Liquid_Fuel']\n",
        "X_train = train[feature]\n",
        "y_train = train[target]\n",
        "X_val = val[feature]\n",
        "y_val = val[target]\n",
        "X_test = test[feature]\n",
        "y_test = test[target]"
      ],
      "execution_count": 36,
      "outputs": []
    },
    {
      "cell_type": "code",
      "metadata": {
        "id": "WEZ7rQXALEj3",
        "colab_type": "code",
        "colab": {
          "base_uri": "https://localhost:8080/",
          "height": 118
        },
        "outputId": "92aed685-ef72-4695-c6b4-25cf98b8ca68"
      },
      "source": [
        "print(X_train.shape)\n",
        "print(y_train.shape)\n",
        "print(X_val.shape)\n",
        "print(y_val.shape)\n",
        "#After Industrial Revolution(1850)\n",
        "print(X_test.shape)\n",
        "print(y_test.shape)"
      ],
      "execution_count": 37,
      "outputs": [
        {
          "output_type": "stream",
          "text": [
            "(830, 6)\n",
            "(830,)\n",
            "(208, 6)\n",
            "(208,)\n",
            "(1932, 6)\n",
            "(1932,)\n"
          ],
          "name": "stdout"
        }
      ]
    },
    {
      "cell_type": "code",
      "metadata": {
        "id": "POk7-DFISm8N",
        "colab_type": "code",
        "colab": {}
      },
      "source": [
        "#Baseline for guessing need better than .993789"
      ],
      "execution_count": null,
      "outputs": []
    },
    {
      "cell_type": "code",
      "metadata": {
        "id": "0SNzsQTILGV6",
        "colab_type": "code",
        "colab": {
          "base_uri": "https://localhost:8080/",
          "height": 67
        },
        "outputId": "89bda117-e71e-4558-d209-2935a63a7fb7"
      },
      "source": [
        "pipeline3 = make_pipeline(\n",
        "    ce.OrdinalEncoder(), \n",
        "    SimpleImputer(strategy='median'), \n",
        "    RandomForestClassifier(n_estimators=100,random_state=42, n_jobs=-1))\n",
        "# Fit on train, score on test\n",
        "pipeline3.fit(X_train, y_train)\n",
        "print('Train Accuracy', pipeline3.score(X_train, y_train))\n",
        "print('Validation Accuracy', pipeline3.score(X_val, y_val))\n",
        "print('Test Accuracy', pipeline3.score(X_test, y_test))"
      ],
      "execution_count": 38,
      "outputs": [
        {
          "output_type": "stream",
          "text": [
            "Train Accuracy 0.9530120481927711\n",
            "Validation Accuracy 0.9471153846153846\n",
            "Test Accuracy 0.9937888198757764\n"
          ],
          "name": "stdout"
        }
      ]
    },
    {
      "cell_type": "code",
      "metadata": {
        "id": "oYa9FSOMLIKy",
        "colab_type": "code",
        "colab": {
          "base_uri": "https://localhost:8080/",
          "height": 336
        },
        "outputId": "7fa58bb2-4a55-4ceb-84b4-ae1be31af233"
      },
      "source": [
        "# Get feature importances\n",
        "rf = pipeline3.named_steps['randomforestclassifier']\n",
        "importances = pd.Series(rf.feature_importances_, X_train.columns)\n",
        "# Plot feature importances\n",
        "%matplotlib inline\n",
        "import matplotlib.pyplot as plt\n",
        "n = 10\n",
        "plt.figure(figsize=(10,n/2))\n",
        "plt.title(f'Top {n} features')\n",
        "importances.sort_values()[-n:].plot.barh(color='grey');"
      ],
      "execution_count": 39,
      "outputs": [
        {
          "output_type": "display_data",
          "data": {
            "image/png": "[encoded data removed]",
            "text/plain": [
              "<Figure size 720x360 with 1 Axes>"
            ]
          },
          "metadata": {
            "tags": [],
            "needs_background": "light"
          }
        }
      ]
    },
    {
      "cell_type": "code",
      "metadata": {
        "id": "O2Pfq-OtMaHn",
        "colab_type": "code",
        "colab": {
          "base_uri": "https://localhost:8080/",
          "height": 67
        },
        "outputId": "a1e8ddeb-3f36-4a3c-d669-61394b274b64"
      },
      "source": [
        "column  = ['Yearly_SMA_Solid_Fuel']\n",
        "\n",
        "# Fit without column\n",
        "pipeline3 = make_pipeline(\n",
        "    ce.OrdinalEncoder(), \n",
        "    SimpleImputer(strategy='median'), \n",
        "    RandomForestClassifier(n_estimators=100, random_state=42, n_jobs=-1)\n",
        ")\n",
        "pipeline3.fit(X_train.drop(columns=column), y_train)\n",
        "score_without = pipeline3.score(X_val.drop(columns=column), y_val)\n",
        "print(f'Validation Accuracy without {column}: {score_without}')\n",
        "\n",
        "# Fit with column\n",
        "pipeline3 = make_pipeline(\n",
        "    ce.OrdinalEncoder(), \n",
        "    SimpleImputer(strategy='median'), \n",
        "    RandomForestClassifier(n_estimators=100, random_state=42, n_jobs=-1)\n",
        ")\n",
        "pipeline3.fit(X_train, y_train)\n",
        "score_with = pipeline3.score(X_val, y_val)\n",
        "print(f'Validation Accuracy with {column}: {score_with}')\n",
        "\n",
        "# Compare the error with & without column\n",
        "print(f'Drop-Column Importance for {column}: {score_with - score_without}')"
      ],
      "execution_count": 41,
      "outputs": [
        {
          "output_type": "stream",
          "text": [
            "Validation Accuracy without ['Yearly_SMA_Solid_Fuel']: 0.625\n",
            "Validation Accuracy with ['Yearly_SMA_Solid_Fuel']: 0.9471153846153846\n",
            "Drop-Column Importance for ['Yearly_SMA_Solid_Fuel']: 0.3221153846153846\n"
          ],
          "name": "stdout"
        }
      ]
    },
    {
      "cell_type": "code",
      "metadata": {
        "id": "nbGW9zWlOFRQ",
        "colab_type": "code",
        "colab": {}
      },
      "source": [
        "#Try Without solid fuel"
      ],
      "execution_count": null,
      "outputs": []
    },
    {
      "cell_type": "code",
      "metadata": {
        "id": "ThikLx9POEVl",
        "colab_type": "code",
        "colab": {}
      },
      "source": [
        "# Arrange data into X features matrix and y target vector\n",
        "target = 'Global_Warming'\n",
        "feature = ['Yearly_SMA_Gas_Fuel',\n",
        " 'Yearly_SMA_Cement',\n",
        " 'Yearly_SMA_Gas_Flaring',\n",
        " 'Yearly_SMA_Per_Capita',\n",
        " 'Yearly_SMA_Liquid_Fuel']\n",
        "X_train = train[feature]\n",
        "y_train = train[target]\n",
        "X_val = val[feature]\n",
        "y_val = val[target]\n",
        "X_test = test[feature]\n",
        "y_test = test[target]"
      ],
      "execution_count": 42,
      "outputs": []
    },
    {
      "cell_type": "code",
      "metadata": {
        "id": "KBNCDMIPOMno",
        "colab_type": "code",
        "colab": {
          "base_uri": "https://localhost:8080/",
          "height": 118
        },
        "outputId": "4e75a5a0-c24a-43c3-cfbe-dee4ce0703d5"
      },
      "source": [
        "print(X_train.shape)\n",
        "print(y_train.shape)\n",
        "print(X_val.shape)\n",
        "print(y_val.shape)\n",
        "#After Industrial Revolution(1850)\n",
        "print(X_test.shape)\n",
        "print(y_test.shape)"
      ],
      "execution_count": 43,
      "outputs": [
        {
          "output_type": "stream",
          "text": [
            "(830, 5)\n",
            "(830,)\n",
            "(208, 5)\n",
            "(208,)\n",
            "(1932, 5)\n",
            "(1932,)\n"
          ],
          "name": "stdout"
        }
      ]
    },
    {
      "cell_type": "code",
      "metadata": {
        "id": "Qfm_LHToOmVM",
        "colab_type": "code",
        "colab": {
          "base_uri": "https://localhost:8080/",
          "height": 67
        },
        "outputId": "2d47af0b-c72a-4305-aca7-25aaf3c686ca"
      },
      "source": [
        "pipeline4 = make_pipeline(\n",
        "    ce.OrdinalEncoder(), \n",
        "    SimpleImputer(strategy='median'), \n",
        "    RandomForestClassifier(n_estimators=100,random_state=42, n_jobs=-1))\n",
        "# Fit on train, score on test\n",
        "pipeline4.fit(X_train, y_train)\n",
        "print('Train Accuracy', pipeline4.score(X_train, y_train))\n",
        "print('Validation Accuracy', pipeline4.score(X_val, y_val))\n",
        "print('Test Accuracy', pipeline4.score(X_test, y_test))"
      ],
      "execution_count": 44,
      "outputs": [
        {
          "output_type": "stream",
          "text": [
            "Train Accuracy 0.6253012048192771\n",
            "Validation Accuracy 0.625\n",
            "Test Accuracy 0.9937888198757764\n"
          ],
          "name": "stdout"
        }
      ]
    },
    {
      "cell_type": "code",
      "metadata": {
        "id": "K3jQ4QQpO28z",
        "colab_type": "code",
        "colab": {
          "base_uri": "https://localhost:8080/",
          "height": 336
        },
        "outputId": "9a15526f-be7e-4d45-f633-4a424c00890a"
      },
      "source": [
        "# Get feature importances\n",
        "rf = pipeline4.named_steps['randomforestclassifier']\n",
        "importances = pd.Series(rf.feature_importances_, X_train.columns)\n",
        "# Plot feature importances\n",
        "%matplotlib inline\n",
        "import matplotlib.pyplot as plt\n",
        "n = 10\n",
        "plt.figure(figsize=(10,n/2))\n",
        "plt.title(f'Top {n} features')\n",
        "importances.sort_values()[-n:].plot.barh(color='grey');"
      ],
      "execution_count": 45,
      "outputs": [
        {
          "output_type": "display_data",
          "data": {
            "image/png": "[encoded data removed]",
            "text/plain": [
              "<Figure size 720x360 with 1 Axes>"
            ]
          },
          "metadata": {
            "tags": [],
            "needs_background": "light"
          }
        }
      ]
    },
    {
      "cell_type": "markdown",
      "metadata": {
        "id": "zp8LzOVQAelT",
        "colab_type": "text"
      },
      "source": [
        "### 3) Try xgboost."
      ]
    },
    {
      "cell_type": "code",
      "metadata": {
        "id": "0JbD2djZR62v",
        "colab_type": "code",
        "colab": {}
      },
      "source": [
        "from xgboost import XGBClassifier\n",
        "XGBClassifier?"
      ],
      "execution_count": 79,
      "outputs": []
    },
    {
      "cell_type": "code",
      "metadata": {
        "id": "YRS6QbTzSIOm",
        "colab_type": "code",
        "colab": {
          "base_uri": "https://localhost:8080/",
          "height": 302
        },
        "outputId": "d1853a06-c22c-4c91-9c11-a10fd6e73074"
      },
      "source": [
        "pipeline6 = make_pipeline(\n",
        "    ce.OrdinalEncoder(),\n",
        "    XGBClassifier(n_estimators=100, random_state=42, n_jobs=6)\n",
        ")\n",
        "\n",
        "pipeline6.fit(X_train, y_train)"
      ],
      "execution_count": 80,
      "outputs": [
        {
          "output_type": "execute_result",
          "data": {
            "text/plain": [
              "Pipeline(memory=None,\n",
              "         steps=[('ordinalencoder',\n",
              "                 OrdinalEncoder(cols=[], drop_invariant=False,\n",
              "                                handle_missing='value', handle_unknown='value',\n",
              "                                mapping=[], return_df=True, verbose=0)),\n",
              "                ('xgbclassifier',\n",
              "                 XGBClassifier(base_score=0.5, booster='gbtree',\n",
              "                               colsample_bylevel=1, colsample_bynode=1,\n",
              "                               colsample_bytree=1, gamma=0, learning_rate=0.1,\n",
              "                               max_delta_step=0, max_depth=3,\n",
              "                               min_child_weight=1, missing=None,\n",
              "                               n_estimators=100, n_jobs=6, nthread=None,\n",
              "                               objective='binary:logistic', random_state=42,\n",
              "                               reg_alpha=0, reg_lambda=1, scale_pos_weight=1,\n",
              "                               seed=None, silent=None, subsample=1,\n",
              "                               verbosity=1))],\n",
              "         verbose=False)"
            ]
          },
          "metadata": {
            "tags": []
          },
          "execution_count": 80
        }
      ]
    },
    {
      "cell_type": "code",
      "metadata": {
        "id": "0oIy-hCrSsDX",
        "colab_type": "code",
        "colab": {}
      },
      "source": [
        "#Baseline for guessing need better than .993789"
      ],
      "execution_count": null,
      "outputs": []
    },
    {
      "cell_type": "code",
      "metadata": {
        "id": "75pv9xUPSLr6",
        "colab_type": "code",
        "colab": {
          "base_uri": "https://localhost:8080/",
          "height": 67
        },
        "outputId": "6d705481-3b4d-4db2-f884-f76f74989add"
      },
      "source": [
        "print('Training Accuracy:', pipeline6.score(X_train, y_train))\n",
        "print('Validation Accuracy:', pipeline6.score(X_val, y_val))\n",
        "print('Validation Accuracy:', pipeline.score(X_test, y_test))"
      ],
      "execution_count": 81,
      "outputs": [
        {
          "output_type": "stream",
          "text": [
            "Training Accuracy: 1.0\n",
            "Validation Accuracy: 1.0\n",
            "Validation Accuracy: 0.9979296066252588\n"
          ],
          "name": "stdout"
        }
      ]
    },
    {
      "cell_type": "code",
      "metadata": {
        "id": "yzjN7NO2SyAA",
        "colab_type": "code",
        "colab": {
          "base_uri": "https://localhost:8080/",
          "height": 726
        },
        "outputId": "cd7e09cb-a5b7-4d39-e839-8b591cbf0aca"
      },
      "source": [
        "encoder = ce.OrdinalEncoder()\n",
        "X_train_encoded = encoder.fit_transform(X_train)\n",
        "X_val_encoded = encoder.transform(X_val)\n",
        "model = XGBClassifier(\n",
        "    n_estimators = 1000,\n",
        "    max_depth=7,\n",
        "    learning_rate=0.5,\n",
        "    n_jobs=-1)\n",
        "eval_set = [(X_train_encoded, y_train), \n",
        "            (X_val_encoded, y_val)]\n",
        "model.fit(X_train_encoded, y_train, \n",
        "          eval_set=eval_set, \n",
        "          eval_metric='merror', \n",
        "          early_stopping_rounds=50) # Stop if the score hasn't improved in 50 rounds"
      ],
      "execution_count": 86,
      "outputs": [
        {
          "output_type": "error",
          "ename": "XGBoostError",
          "evalue": "ignored",
          "traceback": [
            "\u001b[0;31m---------------------------------------------------------------------------\u001b[0m",
            "\u001b[0;31mXGBoostError\u001b[0m                              Traceback (most recent call last)",
            "\u001b[0;32m<ipython-input-86-b6e429f7d564>\u001b[0m in \u001b[0;36m<module>\u001b[0;34m()\u001b[0m\n\u001b[1;32m     12\u001b[0m           \u001b[0meval_set\u001b[0m\u001b[0;34m=\u001b[0m\u001b[0meval_set\u001b[0m\u001b[0;34m,\u001b[0m\u001b[0;34m\u001b[0m\u001b[0;34m\u001b[0m\u001b[0m\n\u001b[1;32m     13\u001b[0m           \u001b[0meval_metric\u001b[0m\u001b[0;34m=\u001b[0m\u001b[0;34m'merror'\u001b[0m\u001b[0;34m,\u001b[0m\u001b[0;34m\u001b[0m\u001b[0;34m\u001b[0m\u001b[0m\n\u001b[0;32m---> 14\u001b[0;31m           early_stopping_rounds=50) # Stop if the score hasn't improved in 50 rounds\n\u001b[0m",
            "\u001b[0;32m/usr/local/lib/python3.6/dist-packages/xgboost/sklearn.py\u001b[0m in \u001b[0;36mfit\u001b[0;34m(self, X, y, sample_weight, eval_set, eval_metric, early_stopping_rounds, verbose, xgb_model, sample_weight_eval_set, callbacks)\u001b[0m\n\u001b[1;32m    730\u001b[0m                               \u001b[0mevals_result\u001b[0m\u001b[0;34m=\u001b[0m\u001b[0mevals_result\u001b[0m\u001b[0;34m,\u001b[0m \u001b[0mobj\u001b[0m\u001b[0;34m=\u001b[0m\u001b[0mobj\u001b[0m\u001b[0;34m,\u001b[0m \u001b[0mfeval\u001b[0m\u001b[0;34m=\u001b[0m\u001b[0mfeval\u001b[0m\u001b[0;34m,\u001b[0m\u001b[0;34m\u001b[0m\u001b[0;34m\u001b[0m\u001b[0m\n\u001b[1;32m    731\u001b[0m                               \u001b[0mverbose_eval\u001b[0m\u001b[0;34m=\u001b[0m\u001b[0mverbose\u001b[0m\u001b[0;34m,\u001b[0m \u001b[0mxgb_model\u001b[0m\u001b[0;34m=\u001b[0m\u001b[0mxgb_model\u001b[0m\u001b[0;34m,\u001b[0m\u001b[0;34m\u001b[0m\u001b[0;34m\u001b[0m\u001b[0m\n\u001b[0;32m--> 732\u001b[0;31m                               callbacks=callbacks)\n\u001b[0m\u001b[1;32m    733\u001b[0m \u001b[0;34m\u001b[0m\u001b[0m\n\u001b[1;32m    734\u001b[0m         \u001b[0mself\u001b[0m\u001b[0;34m.\u001b[0m\u001b[0mobjective\u001b[0m \u001b[0;34m=\u001b[0m \u001b[0mxgb_options\u001b[0m\u001b[0;34m[\u001b[0m\u001b[0;34m\"objective\"\u001b[0m\u001b[0;34m]\u001b[0m\u001b[0;34m\u001b[0m\u001b[0;34m\u001b[0m\u001b[0m\n",
            "\u001b[0;32m/usr/local/lib/python3.6/dist-packages/xgboost/training.py\u001b[0m in \u001b[0;36mtrain\u001b[0;34m(params, dtrain, num_boost_round, evals, obj, feval, maximize, early_stopping_rounds, evals_result, verbose_eval, xgb_model, callbacks, learning_rates)\u001b[0m\n\u001b[1;32m    214\u001b[0m                            \u001b[0mevals\u001b[0m\u001b[0;34m=\u001b[0m\u001b[0mevals\u001b[0m\u001b[0;34m,\u001b[0m\u001b[0;34m\u001b[0m\u001b[0;34m\u001b[0m\u001b[0m\n\u001b[1;32m    215\u001b[0m                            \u001b[0mobj\u001b[0m\u001b[0;34m=\u001b[0m\u001b[0mobj\u001b[0m\u001b[0;34m,\u001b[0m \u001b[0mfeval\u001b[0m\u001b[0;34m=\u001b[0m\u001b[0mfeval\u001b[0m\u001b[0;34m,\u001b[0m\u001b[0;34m\u001b[0m\u001b[0;34m\u001b[0m\u001b[0m\n\u001b[0;32m--> 216\u001b[0;31m                            xgb_model=xgb_model, callbacks=callbacks)\n\u001b[0m\u001b[1;32m    217\u001b[0m \u001b[0;34m\u001b[0m\u001b[0m\n\u001b[1;32m    218\u001b[0m \u001b[0;34m\u001b[0m\u001b[0m\n",
            "\u001b[0;32m/usr/local/lib/python3.6/dist-packages/xgboost/training.py\u001b[0m in \u001b[0;36m_train_internal\u001b[0;34m(params, dtrain, num_boost_round, evals, obj, feval, xgb_model, callbacks)\u001b[0m\n\u001b[1;32m     82\u001b[0m         \u001b[0;31m# check evaluation result.\u001b[0m\u001b[0;34m\u001b[0m\u001b[0;34m\u001b[0m\u001b[0;34m\u001b[0m\u001b[0m\n\u001b[1;32m     83\u001b[0m         \u001b[0;32mif\u001b[0m \u001b[0mevals\u001b[0m\u001b[0;34m:\u001b[0m\u001b[0;34m\u001b[0m\u001b[0;34m\u001b[0m\u001b[0m\n\u001b[0;32m---> 84\u001b[0;31m             \u001b[0mbst_eval_set\u001b[0m \u001b[0;34m=\u001b[0m \u001b[0mbst\u001b[0m\u001b[0;34m.\u001b[0m\u001b[0meval_set\u001b[0m\u001b[0;34m(\u001b[0m\u001b[0mevals\u001b[0m\u001b[0;34m,\u001b[0m \u001b[0mi\u001b[0m\u001b[0;34m,\u001b[0m \u001b[0mfeval\u001b[0m\u001b[0;34m)\u001b[0m\u001b[0;34m\u001b[0m\u001b[0;34m\u001b[0m\u001b[0m\n\u001b[0m\u001b[1;32m     85\u001b[0m             \u001b[0;32mif\u001b[0m \u001b[0misinstance\u001b[0m\u001b[0;34m(\u001b[0m\u001b[0mbst_eval_set\u001b[0m\u001b[0;34m,\u001b[0m \u001b[0mSTRING_TYPES\u001b[0m\u001b[0;34m)\u001b[0m\u001b[0;34m:\u001b[0m\u001b[0;34m\u001b[0m\u001b[0;34m\u001b[0m\u001b[0m\n\u001b[1;32m     86\u001b[0m                 \u001b[0mmsg\u001b[0m \u001b[0;34m=\u001b[0m \u001b[0mbst_eval_set\u001b[0m\u001b[0;34m\u001b[0m\u001b[0;34m\u001b[0m\u001b[0m\n",
            "\u001b[0;32m/usr/local/lib/python3.6/dist-packages/xgboost/core.py\u001b[0m in \u001b[0;36meval_set\u001b[0;34m(self, evals, iteration, feval)\u001b[0m\n\u001b[1;32m   1170\u001b[0m                                               \u001b[0mdmats\u001b[0m\u001b[0;34m,\u001b[0m \u001b[0mevnames\u001b[0m\u001b[0;34m,\u001b[0m\u001b[0;34m\u001b[0m\u001b[0;34m\u001b[0m\u001b[0m\n\u001b[1;32m   1171\u001b[0m                                               \u001b[0mc_bst_ulong\u001b[0m\u001b[0;34m(\u001b[0m\u001b[0mlen\u001b[0m\u001b[0;34m(\u001b[0m\u001b[0mevals\u001b[0m\u001b[0;34m)\u001b[0m\u001b[0;34m)\u001b[0m\u001b[0;34m,\u001b[0m\u001b[0;34m\u001b[0m\u001b[0;34m\u001b[0m\u001b[0m\n\u001b[0;32m-> 1172\u001b[0;31m                                               ctypes.byref(msg)))\n\u001b[0m\u001b[1;32m   1173\u001b[0m         \u001b[0mres\u001b[0m \u001b[0;34m=\u001b[0m \u001b[0mmsg\u001b[0m\u001b[0;34m.\u001b[0m\u001b[0mvalue\u001b[0m\u001b[0;34m.\u001b[0m\u001b[0mdecode\u001b[0m\u001b[0;34m(\u001b[0m\u001b[0;34m)\u001b[0m\u001b[0;34m\u001b[0m\u001b[0;34m\u001b[0m\u001b[0m\n\u001b[1;32m   1174\u001b[0m         \u001b[0;32mif\u001b[0m \u001b[0mfeval\u001b[0m \u001b[0;32mis\u001b[0m \u001b[0;32mnot\u001b[0m \u001b[0;32mNone\u001b[0m\u001b[0;34m:\u001b[0m\u001b[0;34m\u001b[0m\u001b[0;34m\u001b[0m\u001b[0m\n",
            "\u001b[0;32m/usr/local/lib/python3.6/dist-packages/xgboost/core.py\u001b[0m in \u001b[0;36m_check_call\u001b[0;34m(ret)\u001b[0m\n\u001b[1;32m    174\u001b[0m     \"\"\"\n\u001b[1;32m    175\u001b[0m     \u001b[0;32mif\u001b[0m \u001b[0mret\u001b[0m \u001b[0;34m!=\u001b[0m \u001b[0;36m0\u001b[0m\u001b[0;34m:\u001b[0m\u001b[0;34m\u001b[0m\u001b[0;34m\u001b[0m\u001b[0m\n\u001b[0;32m--> 176\u001b[0;31m         \u001b[0;32mraise\u001b[0m \u001b[0mXGBoostError\u001b[0m\u001b[0;34m(\u001b[0m\u001b[0mpy_str\u001b[0m\u001b[0;34m(\u001b[0m\u001b[0m_LIB\u001b[0m\u001b[0;34m.\u001b[0m\u001b[0mXGBGetLastError\u001b[0m\u001b[0;34m(\u001b[0m\u001b[0;34m)\u001b[0m\u001b[0;34m)\u001b[0m\u001b[0;34m)\u001b[0m\u001b[0;34m\u001b[0m\u001b[0;34m\u001b[0m\u001b[0m\n\u001b[0m\u001b[1;32m    177\u001b[0m \u001b[0;34m\u001b[0m\u001b[0m\n\u001b[1;32m    178\u001b[0m \u001b[0;34m\u001b[0m\u001b[0m\n",
            "\u001b[0;31mXGBoostError\u001b[0m: [01:31:30] /workspace/src/metric/multiclass_metric.cu:32: Check failed: label_error >= 0 && label_error < static_cast<int32_t>(n_class): MultiClassEvaluation: label must be in [0, num_class), num_class=1 but found 1 in label\nStack trace:\n  [bt] (0) /usr/local/lib/python3.6/dist-packages/xgboost/./lib/libxgboost.so(dmlc::LogMessageFatal::~LogMessageFatal()+0x24) [0x7f8814b25cb4]\n  [bt] (1) /usr/local/lib/python3.6/dist-packages/xgboost/./lib/libxgboost.so(xgboost::metric::MultiClassMetricsReduction<xgboost::metric::EvalMultiLogLoss>::CheckLabelError(int, unsigned long) const+0xcb) [0x7f8814d0eedb]\n  [bt] (2) /usr/local/lib/python3.6/dist-packages/xgboost/./lib/libxgboost.so(xgboost::metric::EvalMClassBase<xgboost::metric::EvalMatchError>::Eval(xgboost::HostDeviceVector<float> const&, xgboost::MetaInfo const&, bool)+0xb6a) [0x7f8814d1278a]\n  [bt] (3) /usr/local/lib/python3.6/dist-packages/xgboost/./lib/libxgboost.so(xgboost::LearnerImpl::EvalOneIter(int, std::vector<xgboost::DMatrix*, std::allocator<xgboost::DMatrix*> > const&, std::vector<std::string, std::allocator<std::string> > const&)+0x3c9) [0x7f8814bbfd99]\n  [bt] (4) /usr/local/lib/python3.6/dist-packages/xgboost/./lib/libxgboost.so(XGBoosterEvalOneIter+0x371) [0x7f8814b22651]\n  [bt] (5) /usr/lib/x86_64-linux-gnu/libffi.so.6(ffi_call_unix64+0x4c) [0x7f8856ae7dae]\n  [bt] (6) /usr/lib/x86_64-linux-gnu/libffi.so.6(ffi_call+0x22f) [0x7f8856ae771f]\n  [bt] (7) /usr/lib/python3.6/lib-dynload/_ctypes.cpython-36m-x86_64-linux-gnu.so(_ctypes_callproc+0x2b4) [0x7f8856cfb5c4]\n  [bt] (8) /usr/lib/python3.6/lib-dynload/_ctypes.cpython-36m-x86_64-linux-gnu.so(+0x11c33) [0x7f8856cfbc33]\n\n"
          ]
        }
      ]
    },
    {
      "cell_type": "markdown",
      "metadata": {
        "id": "_-FiG5VvAelW",
        "colab_type": "text"
      },
      "source": [
        "### 4) Get your model's permutation importances."
      ]
    },
    {
      "cell_type": "code",
      "metadata": {
        "id": "3qzOWUzYAelU",
        "colab_type": "code",
        "colab": {}
      },
      "source": [
        "from sklearn.inspection import permutation_importance"
      ],
      "execution_count": 51,
      "outputs": []
    },
    {
      "cell_type": "code",
      "metadata": {
        "id": "wOMz5fgDPwH-",
        "colab_type": "code",
        "colab": {}
      },
      "source": [
        "result = permutation_importance(pipeline, X_val, y_val, \n",
        "                                n_repeats=5, random_state=0)"
      ],
      "execution_count": 55,
      "outputs": []
    },
    {
      "cell_type": "code",
      "metadata": {
        "id": "pCKPx2DKQGMd",
        "colab_type": "code",
        "colab": {
          "base_uri": "https://localhost:8080/",
          "height": 343
        },
        "outputId": "96a886cc-a00b-4f24-8995-45660304cb96"
      },
      "source": [
        "Importance = pd.DataFrame({'feature': X_val.columns,\n",
        "                   'importances_mean': np.round(result['importances_mean'], 3),\n",
        "                   'importances_std': result['importances_std']})\n",
        "Importance.sort_values(by='importances_mean', ascending=False)"
      ],
      "execution_count": 57,
      "outputs": [
        {
          "output_type": "execute_result",
          "data": {
            "text/html": [
              "<div>\n",
              "<style scoped>\n",
              "    .dataframe tbody tr th:only-of-type {\n",
              "        vertical-align: middle;\n",
              "    }\n",
              "\n",
              "    .dataframe tbody tr th {\n",
              "        vertical-align: top;\n",
              "    }\n",
              "\n",
              "    .dataframe thead th {\n",
              "        text-align: right;\n",
              "    }\n",
              "</style>\n",
              "<table border=\"1\" class=\"dataframe\">\n",
              "  <thead>\n",
              "    <tr style=\"text-align: right;\">\n",
              "      <th></th>\n",
              "      <th>feature</th>\n",
              "      <th>importances_mean</th>\n",
              "      <th>importances_std</th>\n",
              "    </tr>\n",
              "  </thead>\n",
              "  <tbody>\n",
              "    <tr>\n",
              "      <th>2</th>\n",
              "      <td>Decade_SMA</td>\n",
              "      <td>0.463</td>\n",
              "      <td>0.034881</td>\n",
              "    </tr>\n",
              "    <tr>\n",
              "      <th>0</th>\n",
              "      <td>month</td>\n",
              "      <td>0.000</td>\n",
              "      <td>0.000000</td>\n",
              "    </tr>\n",
              "    <tr>\n",
              "      <th>1</th>\n",
              "      <td>Year</td>\n",
              "      <td>0.000</td>\n",
              "      <td>0.000000</td>\n",
              "    </tr>\n",
              "    <tr>\n",
              "      <th>3</th>\n",
              "      <td>Yearly_SMA_Solid_Fuel</td>\n",
              "      <td>0.000</td>\n",
              "      <td>0.000000</td>\n",
              "    </tr>\n",
              "    <tr>\n",
              "      <th>4</th>\n",
              "      <td>Yearly_SMA_Gas_Fuel</td>\n",
              "      <td>0.000</td>\n",
              "      <td>0.000000</td>\n",
              "    </tr>\n",
              "    <tr>\n",
              "      <th>5</th>\n",
              "      <td>Yearly_SMA_Cement</td>\n",
              "      <td>0.000</td>\n",
              "      <td>0.000000</td>\n",
              "    </tr>\n",
              "    <tr>\n",
              "      <th>6</th>\n",
              "      <td>Yearly_SMA_Gas_Flaring</td>\n",
              "      <td>0.000</td>\n",
              "      <td>0.000000</td>\n",
              "    </tr>\n",
              "    <tr>\n",
              "      <th>7</th>\n",
              "      <td>Yearly_SMA_Per_Capita</td>\n",
              "      <td>0.000</td>\n",
              "      <td>0.000000</td>\n",
              "    </tr>\n",
              "    <tr>\n",
              "      <th>8</th>\n",
              "      <td>Yearly_SMA_Liquid_Fuel</td>\n",
              "      <td>0.000</td>\n",
              "      <td>0.000000</td>\n",
              "    </tr>\n",
              "    <tr>\n",
              "      <th>9</th>\n",
              "      <td>Yearly_SMA_CarbonTotal</td>\n",
              "      <td>0.000</td>\n",
              "      <td>0.000000</td>\n",
              "    </tr>\n",
              "  </tbody>\n",
              "</table>\n",
              "</div>"
            ],
            "text/plain": [
              "                  feature  importances_mean  importances_std\n",
              "2              Decade_SMA             0.463         0.034881\n",
              "0                   month             0.000         0.000000\n",
              "1                    Year             0.000         0.000000\n",
              "3   Yearly_SMA_Solid_Fuel             0.000         0.000000\n",
              "4     Yearly_SMA_Gas_Fuel             0.000         0.000000\n",
              "5       Yearly_SMA_Cement             0.000         0.000000\n",
              "6  Yearly_SMA_Gas_Flaring             0.000         0.000000\n",
              "7   Yearly_SMA_Per_Capita             0.000         0.000000\n",
              "8  Yearly_SMA_Liquid_Fuel             0.000         0.000000\n",
              "9  Yearly_SMA_CarbonTotal             0.000         0.000000"
            ]
          },
          "metadata": {
            "tags": []
          },
          "execution_count": 57
        }
      ]
    },
    {
      "cell_type": "code",
      "metadata": {
        "id": "1Wia4TRcAelX",
        "colab_type": "code",
        "colab": {}
      },
      "source": [
        "result = permutation_importance(pipeline, X_test, y_test, \n",
        "                                n_repeats=5, random_state=0)"
      ],
      "execution_count": 58,
      "outputs": []
    },
    {
      "cell_type": "code",
      "metadata": {
        "id": "1kn9b8iaQiVg",
        "colab_type": "code",
        "colab": {
          "base_uri": "https://localhost:8080/",
          "height": 343
        },
        "outputId": "388881e3-7ca7-412b-db09-188726e5c4a4"
      },
      "source": [
        "Importance = pd.DataFrame({'feature': X_test.columns,\n",
        "                   'importances_mean': np.round(result['importances_mean'], 3),\n",
        "                   'importances_std': result['importances_std']})\n",
        "Importance.sort_values(by='importances_mean', ascending=False)"
      ],
      "execution_count": 59,
      "outputs": [
        {
          "output_type": "execute_result",
          "data": {
            "text/html": [
              "<div>\n",
              "<style scoped>\n",
              "    .dataframe tbody tr th:only-of-type {\n",
              "        vertical-align: middle;\n",
              "    }\n",
              "\n",
              "    .dataframe tbody tr th {\n",
              "        vertical-align: top;\n",
              "    }\n",
              "\n",
              "    .dataframe thead th {\n",
              "        text-align: right;\n",
              "    }\n",
              "</style>\n",
              "<table border=\"1\" class=\"dataframe\">\n",
              "  <thead>\n",
              "    <tr style=\"text-align: right;\">\n",
              "      <th></th>\n",
              "      <th>feature</th>\n",
              "      <th>importances_mean</th>\n",
              "      <th>importances_std</th>\n",
              "    </tr>\n",
              "  </thead>\n",
              "  <tbody>\n",
              "    <tr>\n",
              "      <th>2</th>\n",
              "      <td>Decade_SMA</td>\n",
              "      <td>0.008</td>\n",
              "      <td>0.0</td>\n",
              "    </tr>\n",
              "    <tr>\n",
              "      <th>0</th>\n",
              "      <td>month</td>\n",
              "      <td>0.000</td>\n",
              "      <td>0.0</td>\n",
              "    </tr>\n",
              "    <tr>\n",
              "      <th>1</th>\n",
              "      <td>Year</td>\n",
              "      <td>0.000</td>\n",
              "      <td>0.0</td>\n",
              "    </tr>\n",
              "    <tr>\n",
              "      <th>3</th>\n",
              "      <td>Yearly_SMA_Solid_Fuel</td>\n",
              "      <td>0.000</td>\n",
              "      <td>0.0</td>\n",
              "    </tr>\n",
              "    <tr>\n",
              "      <th>4</th>\n",
              "      <td>Yearly_SMA_Gas_Fuel</td>\n",
              "      <td>0.000</td>\n",
              "      <td>0.0</td>\n",
              "    </tr>\n",
              "    <tr>\n",
              "      <th>5</th>\n",
              "      <td>Yearly_SMA_Cement</td>\n",
              "      <td>0.000</td>\n",
              "      <td>0.0</td>\n",
              "    </tr>\n",
              "    <tr>\n",
              "      <th>6</th>\n",
              "      <td>Yearly_SMA_Gas_Flaring</td>\n",
              "      <td>0.000</td>\n",
              "      <td>0.0</td>\n",
              "    </tr>\n",
              "    <tr>\n",
              "      <th>7</th>\n",
              "      <td>Yearly_SMA_Per_Capita</td>\n",
              "      <td>0.000</td>\n",
              "      <td>0.0</td>\n",
              "    </tr>\n",
              "    <tr>\n",
              "      <th>8</th>\n",
              "      <td>Yearly_SMA_Liquid_Fuel</td>\n",
              "      <td>0.000</td>\n",
              "      <td>0.0</td>\n",
              "    </tr>\n",
              "    <tr>\n",
              "      <th>9</th>\n",
              "      <td>Yearly_SMA_CarbonTotal</td>\n",
              "      <td>0.000</td>\n",
              "      <td>0.0</td>\n",
              "    </tr>\n",
              "  </tbody>\n",
              "</table>\n",
              "</div>"
            ],
            "text/plain": [
              "                  feature  importances_mean  importances_std\n",
              "2              Decade_SMA             0.008              0.0\n",
              "0                   month             0.000              0.0\n",
              "1                    Year             0.000              0.0\n",
              "3   Yearly_SMA_Solid_Fuel             0.000              0.0\n",
              "4     Yearly_SMA_Gas_Fuel             0.000              0.0\n",
              "5       Yearly_SMA_Cement             0.000              0.0\n",
              "6  Yearly_SMA_Gas_Flaring             0.000              0.0\n",
              "7   Yearly_SMA_Per_Capita             0.000              0.0\n",
              "8  Yearly_SMA_Liquid_Fuel             0.000              0.0\n",
              "9  Yearly_SMA_CarbonTotal             0.000              0.0"
            ]
          },
          "metadata": {
            "tags": []
          },
          "execution_count": 59
        }
      ]
    },
    {
      "cell_type": "code",
      "metadata": {
        "id": "2N_1Gn3jQRFG",
        "colab_type": "code",
        "colab": {
          "base_uri": "https://localhost:8080/",
          "height": 151
        },
        "outputId": "88cba36f-2f01-4d49-fbe8-113f5fba22b4"
      },
      "source": [
        "# Ignore warnings\n",
        "transformers = make_pipeline(\n",
        "    ce.OrdinalEncoder(), \n",
        "    SimpleImputer(strategy='median')\n",
        ")\n",
        "\n",
        "X_train_transformed = transformers.fit_transform(X_train)\n",
        "X_val_transformed = transformers.transform(X_val)\n",
        "\n",
        "model = RandomForestClassifier(n_estimators=100, random_state=42, n_jobs=-1)\n",
        "model.fit(X_train_transformed, y_train)"
      ],
      "execution_count": 60,
      "outputs": [
        {
          "output_type": "execute_result",
          "data": {
            "text/plain": [
              "RandomForestClassifier(bootstrap=True, ccp_alpha=0.0, class_weight=None,\n",
              "                       criterion='gini', max_depth=None, max_features='auto',\n",
              "                       max_leaf_nodes=None, max_samples=None,\n",
              "                       min_impurity_decrease=0.0, min_impurity_split=None,\n",
              "                       min_samples_leaf=1, min_samples_split=2,\n",
              "                       min_weight_fraction_leaf=0.0, n_estimators=100,\n",
              "                       n_jobs=-1, oob_score=False, random_state=42, verbose=0,\n",
              "                       warm_start=False)"
            ]
          },
          "metadata": {
            "tags": []
          },
          "execution_count": 60
        }
      ]
    },
    {
      "cell_type": "code",
      "metadata": {
        "id": "PAf6cf66Q9Xq",
        "colab_type": "code",
        "colab": {
          "base_uri": "https://localhost:8080/",
          "height": 1000
        },
        "outputId": "f4a4d67d-f0af-4250-8e96-755ee4616a97"
      },
      "source": [
        "#Install non-standard packages (assuming jupyter notebook)\n",
        "!pip install shap\n",
        "!pip install lime\n",
        "!pip install eli5"
      ],
      "execution_count": 66,
      "outputs": [
        {
          "output_type": "stream",
          "text": [
            "Collecting shap\n",
            "\u001b[?25l  Downloading https://files.pythonhosted.org/packages/a8/77/b504e43e21a2ba543a1ac4696718beb500cfa708af2fb57cb54ce299045c/shap-0.35.0.tar.gz (273kB)\n",
            "\u001b[K     |████████████████████████████████| 276kB 2.8MB/s \n",
            "\u001b[?25hRequirement already satisfied: numpy in /usr/local/lib/python3.6/dist-packages (from shap) (1.18.5)\n",
            "Requirement already satisfied: scipy in /usr/local/lib/python3.6/dist-packages (from shap) (1.4.1)\n",
            "Requirement already satisfied: scikit-learn in /usr/local/lib/python3.6/dist-packages (from shap) (0.22.2.post1)\n",
            "Requirement already satisfied: pandas in /usr/local/lib/python3.6/dist-packages (from shap) (1.0.5)\n",
            "Requirement already satisfied: tqdm>4.25.0 in /usr/local/lib/python3.6/dist-packages (from shap) (4.48.0)\n",
            "Requirement already satisfied: joblib>=0.11 in /usr/local/lib/python3.6/dist-packages (from scikit-learn->shap) (0.16.0)\n",
            "Requirement already satisfied: pytz>=2017.2 in /usr/local/lib/python3.6/dist-packages (from pandas->shap) (2018.9)\n",
            "Requirement already satisfied: python-dateutil>=2.6.1 in /usr/local/lib/python3.6/dist-packages (from pandas->shap) (2.8.1)\n",
            "Requirement already satisfied: six>=1.5 in /usr/local/lib/python3.6/dist-packages (from python-dateutil>=2.6.1->pandas->shap) (1.15.0)\n",
            "Building wheels for collected packages: shap\n",
            "  Building wheel for shap (setup.py) ... \u001b[?25l\u001b[?25hdone\n",
            "  Created wheel for shap: filename=shap-0.35.0-cp36-cp36m-linux_x86_64.whl size=394112 sha256=40d18d8e4b00bb2e628e11ca5837647f57d80c994836fbec358203e707e14eb3\n",
            "  Stored in directory: /root/.cache/pip/wheels/e7/f7/0f/b57055080cf8894906b3bd3616d2fc2bfd0b12d5161bcb24ac\n",
            "Successfully built shap\n",
            "Installing collected packages: shap\n",
            "Successfully installed shap-0.35.0\n",
            "Collecting lime\n",
            "\u001b[?25l  Downloading https://files.pythonhosted.org/packages/f5/86/91a13127d83d793ecb50eb75e716f76e6eda809b6803c5a4ff462339789e/lime-0.2.0.1.tar.gz (275kB)\n",
            "\u001b[K     |████████████████████████████████| 276kB 2.7MB/s \n",
            "\u001b[?25hRequirement already satisfied: matplotlib in /usr/local/lib/python3.6/dist-packages (from lime) (3.2.2)\n",
            "Requirement already satisfied: numpy in /usr/local/lib/python3.6/dist-packages (from lime) (1.18.5)\n",
            "Requirement already satisfied: scipy in /usr/local/lib/python3.6/dist-packages (from lime) (1.4.1)\n",
            "Requirement already satisfied: tqdm in /usr/local/lib/python3.6/dist-packages (from lime) (4.48.0)\n",
            "Requirement already satisfied: scikit-learn>=0.18 in /usr/local/lib/python3.6/dist-packages (from lime) (0.22.2.post1)\n",
            "Requirement already satisfied: scikit-image>=0.12 in /usr/local/lib/python3.6/dist-packages (from lime) (0.16.2)\n",
            "Requirement already satisfied: pyparsing!=2.0.4,!=2.1.2,!=2.1.6,>=2.0.1 in /usr/local/lib/python3.6/dist-packages (from matplotlib->lime) (2.4.7)\n",
            "Requirement already satisfied: python-dateutil>=2.1 in /usr/local/lib/python3.6/dist-packages (from matplotlib->lime) (2.8.1)\n",
            "Requirement already satisfied: cycler>=0.10 in /usr/local/lib/python3.6/dist-packages (from matplotlib->lime) (0.10.0)\n",
            "Requirement already satisfied: kiwisolver>=1.0.1 in /usr/local/lib/python3.6/dist-packages (from matplotlib->lime) (1.2.0)\n",
            "Requirement already satisfied: joblib>=0.11 in /usr/local/lib/python3.6/dist-packages (from scikit-learn>=0.18->lime) (0.16.0)\n",
            "Requirement already satisfied: PyWavelets>=0.4.0 in /usr/local/lib/python3.6/dist-packages (from scikit-image>=0.12->lime) (1.1.1)\n",
            "Requirement already satisfied: imageio>=2.3.0 in /usr/local/lib/python3.6/dist-packages (from scikit-image>=0.12->lime) (2.4.1)\n",
            "Requirement already satisfied: networkx>=2.0 in /usr/local/lib/python3.6/dist-packages (from scikit-image>=0.12->lime) (2.4)\n",
            "Requirement already satisfied: pillow>=4.3.0 in /usr/local/lib/python3.6/dist-packages (from scikit-image>=0.12->lime) (7.0.0)\n",
            "Requirement already satisfied: six>=1.5 in /usr/local/lib/python3.6/dist-packages (from python-dateutil>=2.1->matplotlib->lime) (1.15.0)\n",
            "Requirement already satisfied: decorator>=4.3.0 in /usr/local/lib/python3.6/dist-packages (from networkx>=2.0->scikit-image>=0.12->lime) (4.4.2)\n",
            "Building wheels for collected packages: lime\n",
            "  Building wheel for lime (setup.py) ... \u001b[?25l\u001b[?25hdone\n",
            "  Created wheel for lime: filename=lime-0.2.0.1-cp36-none-any.whl size=283845 sha256=795b34f7088882a876e67f8c6ee31d3920ae886db57839dadadfc2899d094561\n",
            "  Stored in directory: /root/.cache/pip/wheels/4c/4f/a5/0bc765457bd41378bf3ce8d17d7495369d6e7ca3b712c60c89\n",
            "Successfully built lime\n",
            "Installing collected packages: lime\n",
            "Successfully installed lime-0.2.0.1\n",
            "Collecting eli5\n",
            "\u001b[?25l  Downloading https://files.pythonhosted.org/packages/97/2f/c85c7d8f8548e460829971785347e14e45fa5c6617da374711dec8cb38cc/eli5-0.10.1-py2.py3-none-any.whl (105kB)\n",
            "\u001b[K     |████████████████████████████████| 112kB 2.6MB/s \n",
            "\u001b[?25hRequirement already satisfied: jinja2 in /usr/local/lib/python3.6/dist-packages (from eli5) (2.11.2)\n",
            "Requirement already satisfied: tabulate>=0.7.7 in /usr/local/lib/python3.6/dist-packages (from eli5) (0.8.7)\n",
            "Requirement already satisfied: graphviz in /usr/local/lib/python3.6/dist-packages (from eli5) (0.10.1)\n",
            "Requirement already satisfied: scipy in /usr/local/lib/python3.6/dist-packages (from eli5) (1.4.1)\n",
            "Requirement already satisfied: six in /usr/local/lib/python3.6/dist-packages (from eli5) (1.15.0)\n",
            "Requirement already satisfied: numpy>=1.9.0 in /usr/local/lib/python3.6/dist-packages (from eli5) (1.18.5)\n",
            "Requirement already satisfied: attrs>16.0.0 in /usr/local/lib/python3.6/dist-packages (from eli5) (19.3.0)\n",
            "Requirement already satisfied: scikit-learn>=0.18 in /usr/local/lib/python3.6/dist-packages (from eli5) (0.22.2.post1)\n",
            "Requirement already satisfied: MarkupSafe>=0.23 in /usr/local/lib/python3.6/dist-packages (from jinja2->eli5) (1.1.1)\n",
            "Requirement already satisfied: joblib>=0.11 in /usr/local/lib/python3.6/dist-packages (from scikit-learn>=0.18->eli5) (0.16.0)\n",
            "Installing collected packages: eli5\n",
            "Successfully installed eli5-0.10.1\n"
          ],
          "name": "stdout"
        }
      ]
    },
    {
      "cell_type": "code",
      "metadata": {
        "id": "s3GD_uTqRNaM",
        "colab_type": "code",
        "colab": {
          "base_uri": "https://localhost:8080/",
          "height": 87
        },
        "outputId": "9178b979-4ca6-4098-dbc4-9b91192beb4a"
      },
      "source": [
        "#Imports\n",
        "import pandas as pd\n",
        "import numpy as np\n",
        "import matplotlib.pyplot as plt\n",
        "import itertools\n",
        "#scikit-learn package (https://pypi.org/project/scikit-learn)\n",
        "from sklearn.model_selection import train_test_split\n",
        "from sklearn.ensemble import RandomForestClassifier\n",
        "from sklearn.metrics import accuracy_score, confusion_matrix, roc_curve, auc, roc_auc_score\n",
        "from sklearn.metrics.scorer import make_scorer\n",
        "#eli5 package (https://eli5.readthedocs.io/en/latest)\n",
        "import eli5\n",
        "from eli5.sklearn import PermutationImportance\n",
        "#lime package (https://github.com/marcotcr/lime)\n",
        "import lime\n",
        "import lime.lime_tabular\n",
        "#shap package (https://github.com/slundberg/shap)\n",
        "import shap"
      ],
      "execution_count": 67,
      "outputs": [
        {
          "output_type": "stream",
          "text": [
            "/usr/local/lib/python3.6/dist-packages/sklearn/utils/deprecation.py:144: FutureWarning: The sklearn.feature_selection.base module is  deprecated in version 0.22 and will be removed in version 0.24. The corresponding classes / functions should instead be imported from sklearn.feature_selection. Anything that cannot be imported from sklearn.feature_selection is now part of the private API.\n",
            "  warnings.warn(message, FutureWarning)\n",
            "Using TensorFlow backend.\n"
          ],
          "name": "stderr"
        }
      ]
    },
    {
      "cell_type": "code",
      "metadata": {
        "id": "E_4LRJ-RQ0Oa",
        "colab_type": "code",
        "colab": {
          "base_uri": "https://localhost:8080/",
          "height": 386
        },
        "outputId": "91ec5cfa-011e-463d-8a31-f92b4cfce251"
      },
      "source": [
        "import eli5 as eli5\n",
        "from eli5.sklearn import PermutationImportance\n",
        "\n",
        "permuter = PermutationImportance(\n",
        "    model,\n",
        "    scoring='accuracy',\n",
        "    n_iter=5,\n",
        "    random_state=42\n",
        ")\n",
        "\n",
        "permuter.fit(X_val_transformed, y_val)"
      ],
      "execution_count": 68,
      "outputs": [
        {
          "output_type": "execute_result",
          "data": {
            "text/plain": [
              "PermutationImportance(cv='prefit',\n",
              "                      estimator=RandomForestClassifier(bootstrap=True,\n",
              "                                                       ccp_alpha=0.0,\n",
              "                                                       class_weight=None,\n",
              "                                                       criterion='gini',\n",
              "                                                       max_depth=None,\n",
              "                                                       max_features='auto',\n",
              "                                                       max_leaf_nodes=None,\n",
              "                                                       max_samples=None,\n",
              "                                                       min_impurity_decrease=0.0,\n",
              "                                                       min_impurity_split=None,\n",
              "                                                       min_samples_leaf=1,\n",
              "                                                       min_samples_split=2,\n",
              "                                                       min_weight_fraction_leaf=0.0,\n",
              "                                                       n_estimators=100,\n",
              "                                                       n_jobs=-1,\n",
              "                                                       oob_score=False,\n",
              "                                                       random_state=42,\n",
              "                                                       verbose=0,\n",
              "                                                       warm_start=False),\n",
              "                      n_iter=5, random_state=42, refit=True,\n",
              "                      scoring='accuracy')"
            ]
          },
          "metadata": {
            "tags": []
          },
          "execution_count": 68
        }
      ]
    },
    {
      "cell_type": "code",
      "metadata": {
        "id": "beExxTmhRXFz",
        "colab_type": "code",
        "colab": {
          "base_uri": "https://localhost:8080/",
          "height": 202
        },
        "outputId": "a970365d-6dfb-4398-b300-23a4cc85cc51"
      },
      "source": [
        "eli5.show_weights(\n",
        "    permuter,\n",
        "    top=None,\n",
        "    feature_names=X_val.columns.tolist()\n",
        ")"
      ],
      "execution_count": 69,
      "outputs": [
        {
          "output_type": "execute_result",
          "data": {
            "text/html": [
              "\n",
              "    <style>\n",
              "    table.eli5-weights tr:hover {\n",
              "        filter: brightness(85%);\n",
              "    }\n",
              "</style>\n",
              "\n",
              "\n",
              "\n",
              "    \n",
              "\n",
              "    \n",
              "\n",
              "    \n",
              "\n",
              "    \n",
              "\n",
              "    \n",
              "\n",
              "    \n",
              "\n",
              "\n",
              "    \n",
              "\n",
              "    \n",
              "\n",
              "    \n",
              "\n",
              "    \n",
              "\n",
              "    \n",
              "\n",
              "    \n",
              "\n",
              "\n",
              "    \n",
              "\n",
              "    \n",
              "\n",
              "    \n",
              "\n",
              "    \n",
              "\n",
              "    \n",
              "        <table class=\"eli5-weights eli5-feature-importances\" style=\"border-collapse: collapse; border: none; margin-top: 0em; table-layout: auto;\">\n",
              "    <thead>\n",
              "    <tr style=\"border: none;\">\n",
              "        <th style=\"padding: 0 1em 0 0.5em; text-align: right; border: none;\">Weight</th>\n",
              "        <th style=\"padding: 0 0.5em 0 0.5em; text-align: left; border: none;\">Feature</th>\n",
              "    </tr>\n",
              "    </thead>\n",
              "    <tbody>\n",
              "    \n",
              "        <tr style=\"background-color: hsl(120, 100.00%, 80.00%); border: none;\">\n",
              "            <td style=\"padding: 0 1em 0 0.5em; text-align: right; border: none;\">\n",
              "                0.4654\n",
              "                \n",
              "                    &plusmn; 0.0477\n",
              "                \n",
              "            </td>\n",
              "            <td style=\"padding: 0 0.5em 0 0.5em; text-align: left; border: none;\">\n",
              "                Decade_SMA\n",
              "            </td>\n",
              "        </tr>\n",
              "    \n",
              "        <tr style=\"background-color: hsl(0, 100.00%, 100.00%); border: none;\">\n",
              "            <td style=\"padding: 0 1em 0 0.5em; text-align: right; border: none;\">\n",
              "                0\n",
              "                \n",
              "                    &plusmn; 0.0000\n",
              "                \n",
              "            </td>\n",
              "            <td style=\"padding: 0 0.5em 0 0.5em; text-align: left; border: none;\">\n",
              "                Yearly_SMA_CarbonTotal\n",
              "            </td>\n",
              "        </tr>\n",
              "    \n",
              "        <tr style=\"background-color: hsl(0, 100.00%, 100.00%); border: none;\">\n",
              "            <td style=\"padding: 0 1em 0 0.5em; text-align: right; border: none;\">\n",
              "                0\n",
              "                \n",
              "                    &plusmn; 0.0000\n",
              "                \n",
              "            </td>\n",
              "            <td style=\"padding: 0 0.5em 0 0.5em; text-align: left; border: none;\">\n",
              "                Yearly_SMA_Liquid_Fuel\n",
              "            </td>\n",
              "        </tr>\n",
              "    \n",
              "        <tr style=\"background-color: hsl(0, 100.00%, 100.00%); border: none;\">\n",
              "            <td style=\"padding: 0 1em 0 0.5em; text-align: right; border: none;\">\n",
              "                0\n",
              "                \n",
              "                    &plusmn; 0.0000\n",
              "                \n",
              "            </td>\n",
              "            <td style=\"padding: 0 0.5em 0 0.5em; text-align: left; border: none;\">\n",
              "                Yearly_SMA_Per_Capita\n",
              "            </td>\n",
              "        </tr>\n",
              "    \n",
              "        <tr style=\"background-color: hsl(0, 100.00%, 100.00%); border: none;\">\n",
              "            <td style=\"padding: 0 1em 0 0.5em; text-align: right; border: none;\">\n",
              "                0\n",
              "                \n",
              "                    &plusmn; 0.0000\n",
              "                \n",
              "            </td>\n",
              "            <td style=\"padding: 0 0.5em 0 0.5em; text-align: left; border: none;\">\n",
              "                Yearly_SMA_Gas_Flaring\n",
              "            </td>\n",
              "        </tr>\n",
              "    \n",
              "        <tr style=\"background-color: hsl(0, 100.00%, 100.00%); border: none;\">\n",
              "            <td style=\"padding: 0 1em 0 0.5em; text-align: right; border: none;\">\n",
              "                0\n",
              "                \n",
              "                    &plusmn; 0.0000\n",
              "                \n",
              "            </td>\n",
              "            <td style=\"padding: 0 0.5em 0 0.5em; text-align: left; border: none;\">\n",
              "                Yearly_SMA_Cement\n",
              "            </td>\n",
              "        </tr>\n",
              "    \n",
              "        <tr style=\"background-color: hsl(0, 100.00%, 100.00%); border: none;\">\n",
              "            <td style=\"padding: 0 1em 0 0.5em; text-align: right; border: none;\">\n",
              "                0\n",
              "                \n",
              "                    &plusmn; 0.0000\n",
              "                \n",
              "            </td>\n",
              "            <td style=\"padding: 0 0.5em 0 0.5em; text-align: left; border: none;\">\n",
              "                Yearly_SMA_Gas_Fuel\n",
              "            </td>\n",
              "        </tr>\n",
              "    \n",
              "        <tr style=\"background-color: hsl(0, 100.00%, 100.00%); border: none;\">\n",
              "            <td style=\"padding: 0 1em 0 0.5em; text-align: right; border: none;\">\n",
              "                0\n",
              "                \n",
              "                    &plusmn; 0.0000\n",
              "                \n",
              "            </td>\n",
              "            <td style=\"padding: 0 0.5em 0 0.5em; text-align: left; border: none;\">\n",
              "                Yearly_SMA_Solid_Fuel\n",
              "            </td>\n",
              "        </tr>\n",
              "    \n",
              "        <tr style=\"background-color: hsl(0, 100.00%, 100.00%); border: none;\">\n",
              "            <td style=\"padding: 0 1em 0 0.5em; text-align: right; border: none;\">\n",
              "                0\n",
              "                \n",
              "                    &plusmn; 0.0000\n",
              "                \n",
              "            </td>\n",
              "            <td style=\"padding: 0 0.5em 0 0.5em; text-align: left; border: none;\">\n",
              "                Year\n",
              "            </td>\n",
              "        </tr>\n",
              "    \n",
              "        <tr style=\"background-color: hsl(0, 100.00%, 100.00%); border: none;\">\n",
              "            <td style=\"padding: 0 1em 0 0.5em; text-align: right; border: none;\">\n",
              "                0\n",
              "                \n",
              "                    &plusmn; 0.0000\n",
              "                \n",
              "            </td>\n",
              "            <td style=\"padding: 0 0.5em 0 0.5em; text-align: left; border: none;\">\n",
              "                month\n",
              "            </td>\n",
              "        </tr>\n",
              "    \n",
              "    \n",
              "    </tbody>\n",
              "</table>\n",
              "    \n",
              "\n",
              "    \n",
              "\n",
              "\n",
              "    \n",
              "\n",
              "    \n",
              "\n",
              "    \n",
              "\n",
              "    \n",
              "\n",
              "    \n",
              "\n",
              "    \n",
              "\n",
              "\n",
              "\n"
            ],
            "text/plain": [
              "<IPython.core.display.HTML object>"
            ]
          },
          "metadata": {
            "tags": []
          },
          "execution_count": 69
        }
      ]
    },
    {
      "cell_type": "code",
      "metadata": {
        "id": "K99Wh1SjRnL-",
        "colab_type": "code",
        "colab": {}
      },
      "source": [
        "from sklearn.ensemble import GradientBoostingClassifier"
      ],
      "execution_count": 70,
      "outputs": []
    },
    {
      "cell_type": "code",
      "metadata": {
        "id": "GpfId-wCRp3n",
        "colab_type": "code",
        "colab": {
          "base_uri": "https://localhost:8080/",
          "height": 403
        },
        "outputId": "becb22bb-15e8-4caf-973c-8ac14cec4ab7"
      },
      "source": [
        "pipeline5 = make_pipeline(\n",
        "    ce.OrdinalEncoder(), \n",
        "    #SimpleImputer(strategy='median'), \n",
        "    GradientBoostingClassifier()\n",
        ")\n",
        "\n",
        "pipeline5.fit(X_train, y_train)"
      ],
      "execution_count": 73,
      "outputs": [
        {
          "output_type": "execute_result",
          "data": {
            "text/plain": [
              "Pipeline(memory=None,\n",
              "         steps=[('ordinalencoder',\n",
              "                 OrdinalEncoder(cols=[], drop_invariant=False,\n",
              "                                handle_missing='value', handle_unknown='value',\n",
              "                                mapping=[], return_df=True, verbose=0)),\n",
              "                ('gradientboostingclassifier',\n",
              "                 GradientBoostingClassifier(ccp_alpha=0.0,\n",
              "                                            criterion='friedman_mse', init=None,\n",
              "                                            learning_rate=0.1, loss='deviance',\n",
              "                                            max_depth=3, max_features=None,\n",
              "                                            max_leaf_nodes=None,\n",
              "                                            min_impurity_decrease=0.0,\n",
              "                                            min_impurity_split=None,\n",
              "                                            min_samples_leaf=1,\n",
              "                                            min_samples_split=2,\n",
              "                                            min_weight_fraction_leaf=0.0,\n",
              "                                            n_estimators=100,\n",
              "                                            n_iter_no_change=None,\n",
              "                                            presort='deprecated',\n",
              "                                            random_state=None, subsample=1.0,\n",
              "                                            tol=0.0001, validation_fraction=0.1,\n",
              "                                            verbose=0, warm_start=False))],\n",
              "         verbose=False)"
            ]
          },
          "metadata": {
            "tags": []
          },
          "execution_count": 73
        }
      ]
    },
    {
      "cell_type": "code",
      "metadata": {
        "id": "cXzHMw7YSurA",
        "colab_type": "code",
        "colab": {}
      },
      "source": [
        "#Baseline for guessing need better than .993789"
      ],
      "execution_count": null,
      "outputs": []
    },
    {
      "cell_type": "code",
      "metadata": {
        "id": "1DMspcYTRtVz",
        "colab_type": "code",
        "colab": {
          "base_uri": "https://localhost:8080/",
          "height": 67
        },
        "outputId": "5ef9c2ba-f946-4ac7-fbf8-3e8a4abee78c"
      },
      "source": [
        "print('Training Accuracy:', pipeline5.score(X_train, y_train))\n",
        "print('Validation Accuracy:', pipeline5.score(X_val, y_val))\n",
        "print('Validation Accuracy:', pipeline5.score(X_test, y_test))"
      ],
      "execution_count": 75,
      "outputs": [
        {
          "output_type": "stream",
          "text": [
            "Training Accuracy: 1.0\n",
            "Validation Accuracy: 1.0\n",
            "Validation Accuracy: 0.9979296066252588\n"
          ],
          "name": "stdout"
        }
      ]
    }
  ]
}