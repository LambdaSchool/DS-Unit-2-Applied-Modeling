{
  "nbformat": 4,
  "nbformat_minor": 0,
  "metadata": {
    "kernelspec": {
      "display_name": "Python 3",
      "language": "python",
      "name": "python3"
    },
    "language_info": {
      "codemirror_mode": {
        "name": "ipython",
        "version": 3
      },
      "file_extension": ".py",
      "mimetype": "text/x-python",
      "name": "python",
      "nbconvert_exporter": "python",
      "pygments_lexer": "ipython3",
      "version": "3.7.3"
    },
    "colab": {
      "name": "LS_DS_233_assignment.ipynb",
      "provenance": []
    }
  },
  "cells": [
    {
      "cell_type": "markdown",
      "metadata": {
        "id": "nCc3XZEyG3XV"
      },
      "source": [
        "Lambda School Data Science\n",
        "\n",
        "*Unit 2, Sprint 3, Module 3*\n",
        "\n",
        "---\n",
        "\n",
        "\n",
        "# Permutation & Boosting\n",
        "\n",
        "You will use your portfolio project dataset for all assignments this sprint.\n",
        "\n",
        "## Assignment\n",
        "\n",
        "Complete these tasks for your project, and document your work.\n",
        "\n",
        "- [ ] If you haven't completed assignment #1, please do so first.\n",
        "- [ ] Continue to clean and explore your data. Make exploratory visualizations.\n",
        "- [ ] Fit a model. Does it beat your baseline? \n",
        "- [ ] Try xgboost.\n",
        "- [ ] Get your model's permutation importances.\n",
        "\n",
        "You should try to complete an initial model today, because the rest of the week, we're making model interpretation visualizations.\n",
        "\n",
        "But, if you aren't ready to try xgboost and permutation importances with your dataset today, that's okay. You can practice with another dataset instead. You may choose any dataset you've worked with previously.\n",
        "\n",
        "The data subdirectory includes the Titanic dataset for classification and the NYC apartments dataset for regression. You may want to choose one of these datasets, because example solutions will be available for each.\n",
        "\n",
        "\n",
        "## Reading\n",
        "\n",
        "Top recommendations in _**bold italic:**_\n",
        "\n",
        "#### Permutation Importances\n",
        "- _**[Kaggle / Dan Becker: Machine Learning Explainability](https://www.kaggle.com/dansbecker/permutation-importance)**_\n",
        "- [Christoph Molnar: Interpretable Machine Learning](https://christophm.github.io/interpretable-ml-book/feature-importance.html)\n",
        "\n",
        "#### (Default) Feature Importances\n",
        "  - [Ando Saabas: Selecting good features, Part 3, Random Forests](https://blog.datadive.net/selecting-good-features-part-iii-random-forests/)\n",
        "  - [Terence Parr, et al: Beware Default Random Forest Importances](https://explained.ai/rf-importance/index.html)\n",
        "\n",
        "#### Gradient Boosting\n",
        "  - [A Gentle Introduction to the Gradient Boosting Algorithm for Machine Learning](https://machinelearningmastery.com/gentle-introduction-gradient-boosting-algorithm-machine-learning/)\n",
        "  - [An Introduction to Statistical Learning](http://www-bcf.usc.edu/~gareth/ISL/ISLR%20Seventh%20Printing.pdf), Chapter 8\n",
        "  - _**[Gradient Boosting Explained](https://www.gormanalysis.com/blog/gradient-boosting-explained/)**_ — Ben Gorman\n",
        "  - [Gradient Boosting Explained](http://arogozhnikov.github.io/2016/06/24/gradient_boosting_explained.html) — Alex Rogozhnikov\n",
        "  - [How to explain gradient boosting](https://explained.ai/gradient-boosting/) — Terence Parr & Jeremy Howard"
      ]
    },
    {
      "cell_type": "code",
      "metadata": {
        "id": "gz-XQhigwzX2",
        "colab": {
          "base_uri": "https://localhost:8080/"
        },
        "outputId": "2f6750d4-c482-43e6-c253-bec78525fdbb"
      },
      "source": [
        "# Need external libries\n",
        "!pip install pdpbox\n",
        "!pip install yfinance\n",
        "!pip install python-edgar"
      ],
      "execution_count": 33,
      "outputs": [
        {
          "output_type": "stream",
          "text": [
            "Requirement already satisfied: pdpbox in /usr/local/lib/python3.6/dist-packages (0.2.0)\n",
            "Requirement already satisfied: scipy in /usr/local/lib/python3.6/dist-packages (from pdpbox) (1.4.1)\n",
            "Requirement already satisfied: psutil in /usr/local/lib/python3.6/dist-packages (from pdpbox) (5.4.8)\n",
            "Requirement already satisfied: scikit-learn in /usr/local/lib/python3.6/dist-packages (from pdpbox) (0.22.2.post1)\n",
            "Requirement already satisfied: joblib in /usr/local/lib/python3.6/dist-packages (from pdpbox) (1.0.0)\n",
            "Requirement already satisfied: pandas in /usr/local/lib/python3.6/dist-packages (from pdpbox) (1.1.5)\n",
            "Requirement already satisfied: matplotlib>=2.1.2 in /usr/local/lib/python3.6/dist-packages (from pdpbox) (3.2.2)\n",
            "Requirement already satisfied: numpy in /usr/local/lib/python3.6/dist-packages (from pdpbox) (1.19.4)\n",
            "Requirement already satisfied: pytz>=2017.2 in /usr/local/lib/python3.6/dist-packages (from pandas->pdpbox) (2018.9)\n",
            "Requirement already satisfied: python-dateutil>=2.7.3 in /usr/local/lib/python3.6/dist-packages (from pandas->pdpbox) (2.8.1)\n",
            "Requirement already satisfied: kiwisolver>=1.0.1 in /usr/local/lib/python3.6/dist-packages (from matplotlib>=2.1.2->pdpbox) (1.3.1)\n",
            "Requirement already satisfied: pyparsing!=2.0.4,!=2.1.2,!=2.1.6,>=2.0.1 in /usr/local/lib/python3.6/dist-packages (from matplotlib>=2.1.2->pdpbox) (2.4.7)\n",
            "Requirement already satisfied: cycler>=0.10 in /usr/local/lib/python3.6/dist-packages (from matplotlib>=2.1.2->pdpbox) (0.10.0)\n",
            "Requirement already satisfied: six>=1.5 in /usr/local/lib/python3.6/dist-packages (from python-dateutil>=2.7.3->pandas->pdpbox) (1.15.0)\n",
            "Requirement already satisfied: yfinance in /usr/local/lib/python3.6/dist-packages (0.1.55)\n",
            "Requirement already satisfied: multitasking>=0.0.7 in /usr/local/lib/python3.6/dist-packages (from yfinance) (0.0.9)\n",
            "Requirement already satisfied: numpy>=1.15 in /usr/local/lib/python3.6/dist-packages (from yfinance) (1.19.4)\n",
            "Requirement already satisfied: pandas>=0.24 in /usr/local/lib/python3.6/dist-packages (from yfinance) (1.1.5)\n",
            "Requirement already satisfied: requests>=2.20 in /usr/local/lib/python3.6/dist-packages (from yfinance) (2.23.0)\n",
            "Requirement already satisfied: lxml>=4.5.1 in /usr/local/lib/python3.6/dist-packages (from yfinance) (4.6.2)\n",
            "Requirement already satisfied: pytz>=2017.2 in /usr/local/lib/python3.6/dist-packages (from pandas>=0.24->yfinance) (2018.9)\n",
            "Requirement already satisfied: python-dateutil>=2.7.3 in /usr/local/lib/python3.6/dist-packages (from pandas>=0.24->yfinance) (2.8.1)\n",
            "Requirement already satisfied: urllib3!=1.25.0,!=1.25.1,<1.26,>=1.21.1 in /usr/local/lib/python3.6/dist-packages (from requests>=2.20->yfinance) (1.24.3)\n",
            "Requirement already satisfied: certifi>=2017.4.17 in /usr/local/lib/python3.6/dist-packages (from requests>=2.20->yfinance) (2020.12.5)\n",
            "Requirement already satisfied: idna<3,>=2.5 in /usr/local/lib/python3.6/dist-packages (from requests>=2.20->yfinance) (2.10)\n",
            "Requirement already satisfied: chardet<4,>=3.0.2 in /usr/local/lib/python3.6/dist-packages (from requests>=2.20->yfinance) (3.0.4)\n",
            "Requirement already satisfied: six>=1.5 in /usr/local/lib/python3.6/dist-packages (from python-dateutil>=2.7.3->pandas>=0.24->yfinance) (1.15.0)\n",
            "Requirement already satisfied: python-edgar in /usr/local/lib/python3.6/dist-packages (3.0.1)\n"
          ],
          "name": "stdout"
        }
      ]
    },
    {
      "cell_type": "code",
      "metadata": {
        "id": "-r9O_qC5w9ir"
      },
      "source": [
        "# import the libraries\n",
        "import yfinance as yf\n",
        "import numpy as np\n",
        "import pandas as pd\n",
        "import edgar"
      ],
      "execution_count": 34,
      "outputs": []
    },
    {
      "cell_type": "code",
      "metadata": {
        "id": "m9RRH9sTxCe_"
      },
      "source": [
        "# Load the stock\n",
        "stock = yf.Ticker('AAPL')\n",
        "\n",
        "# Get the historical data\n",
        "df = stock.history(period='max')"
      ],
      "execution_count": 35,
      "outputs": []
    },
    {
      "cell_type": "code",
      "metadata": {
        "id": "6GEX9h01xHHt",
        "colab": {
          "base_uri": "https://localhost:8080/",
          "height": 235
        },
        "outputId": "e16bd474-5d61-43bb-d0db-aae5f14510f8"
      },
      "source": [
        "df.head()"
      ],
      "execution_count": 36,
      "outputs": [
        {
          "output_type": "execute_result",
          "data": {
            "text/html": [
              "<div>\n",
              "<style scoped>\n",
              "    .dataframe tbody tr th:only-of-type {\n",
              "        vertical-align: middle;\n",
              "    }\n",
              "\n",
              "    .dataframe tbody tr th {\n",
              "        vertical-align: top;\n",
              "    }\n",
              "\n",
              "    .dataframe thead th {\n",
              "        text-align: right;\n",
              "    }\n",
              "</style>\n",
              "<table border=\"1\" class=\"dataframe\">\n",
              "  <thead>\n",
              "    <tr style=\"text-align: right;\">\n",
              "      <th></th>\n",
              "      <th>Open</th>\n",
              "      <th>High</th>\n",
              "      <th>Low</th>\n",
              "      <th>Close</th>\n",
              "      <th>Volume</th>\n",
              "      <th>Dividends</th>\n",
              "      <th>Stock Splits</th>\n",
              "    </tr>\n",
              "    <tr>\n",
              "      <th>Date</th>\n",
              "      <th></th>\n",
              "      <th></th>\n",
              "      <th></th>\n",
              "      <th></th>\n",
              "      <th></th>\n",
              "      <th></th>\n",
              "      <th></th>\n",
              "    </tr>\n",
              "  </thead>\n",
              "  <tbody>\n",
              "    <tr>\n",
              "      <th>1980-12-12</th>\n",
              "      <td>0.101087</td>\n",
              "      <td>0.101526</td>\n",
              "      <td>0.101087</td>\n",
              "      <td>0.101087</td>\n",
              "      <td>469033600</td>\n",
              "      <td>0.0</td>\n",
              "      <td>0.0</td>\n",
              "    </tr>\n",
              "    <tr>\n",
              "      <th>1980-12-15</th>\n",
              "      <td>0.096252</td>\n",
              "      <td>0.096252</td>\n",
              "      <td>0.095813</td>\n",
              "      <td>0.095813</td>\n",
              "      <td>175884800</td>\n",
              "      <td>0.0</td>\n",
              "      <td>0.0</td>\n",
              "    </tr>\n",
              "    <tr>\n",
              "      <th>1980-12-16</th>\n",
              "      <td>0.089220</td>\n",
              "      <td>0.089220</td>\n",
              "      <td>0.088780</td>\n",
              "      <td>0.088780</td>\n",
              "      <td>105728000</td>\n",
              "      <td>0.0</td>\n",
              "      <td>0.0</td>\n",
              "    </tr>\n",
              "    <tr>\n",
              "      <th>1980-12-17</th>\n",
              "      <td>0.090978</td>\n",
              "      <td>0.091418</td>\n",
              "      <td>0.090978</td>\n",
              "      <td>0.090978</td>\n",
              "      <td>86441600</td>\n",
              "      <td>0.0</td>\n",
              "      <td>0.0</td>\n",
              "    </tr>\n",
              "    <tr>\n",
              "      <th>1980-12-18</th>\n",
              "      <td>0.093615</td>\n",
              "      <td>0.094055</td>\n",
              "      <td>0.093615</td>\n",
              "      <td>0.093615</td>\n",
              "      <td>73449600</td>\n",
              "      <td>0.0</td>\n",
              "      <td>0.0</td>\n",
              "    </tr>\n",
              "  </tbody>\n",
              "</table>\n",
              "</div>"
            ],
            "text/plain": [
              "                Open      High       Low  ...     Volume  Dividends  Stock Splits\n",
              "Date                                      ...                                    \n",
              "1980-12-12  0.101087  0.101526  0.101087  ...  469033600        0.0           0.0\n",
              "1980-12-15  0.096252  0.096252  0.095813  ...  175884800        0.0           0.0\n",
              "1980-12-16  0.089220  0.089220  0.088780  ...  105728000        0.0           0.0\n",
              "1980-12-17  0.090978  0.091418  0.090978  ...   86441600        0.0           0.0\n",
              "1980-12-18  0.093615  0.094055  0.093615  ...   73449600        0.0           0.0\n",
              "\n",
              "[5 rows x 7 columns]"
            ]
          },
          "metadata": {
            "tags": []
          },
          "execution_count": 36
        }
      ]
    },
    {
      "cell_type": "code",
      "metadata": {
        "id": "6qd34yj3xOGB",
        "colab": {
          "base_uri": "https://localhost:8080/"
        },
        "outputId": "02bf6d2a-0e0e-42e3-f68c-42349f9dcd7a"
      },
      "source": [
        "# Take a look at the data\n",
        "df.info()"
      ],
      "execution_count": 37,
      "outputs": [
        {
          "output_type": "stream",
          "text": [
            "<class 'pandas.core.frame.DataFrame'>\n",
            "DatetimeIndex: 10091 entries, 1980-12-12 to 2020-12-18\n",
            "Data columns (total 7 columns):\n",
            " #   Column        Non-Null Count  Dtype  \n",
            "---  ------        --------------  -----  \n",
            " 0   Open          10091 non-null  float64\n",
            " 1   High          10091 non-null  float64\n",
            " 2   Low           10091 non-null  float64\n",
            " 3   Close         10091 non-null  float64\n",
            " 4   Volume        10091 non-null  int64  \n",
            " 5   Dividends     10091 non-null  float64\n",
            " 6   Stock Splits  10091 non-null  float64\n",
            "dtypes: float64(6), int64(1)\n",
            "memory usage: 630.7 KB\n"
          ],
          "name": "stdout"
        }
      ]
    },
    {
      "cell_type": "code",
      "metadata": {
        "id": "bZIzKqMMxQJL"
      },
      "source": [
        "# Add the price change feature\n",
        "df['DailyChange'] = df['Close'] - df['Open']"
      ],
      "execution_count": 38,
      "outputs": []
    },
    {
      "cell_type": "code",
      "metadata": {
        "id": "67UoHjV3xVGb"
      },
      "source": [
        "# Add the price change feature\n",
        "df['VolumeChange'] = df['Volume'].shift(-1) - df['Volume']"
      ],
      "execution_count": 39,
      "outputs": []
    },
    {
      "cell_type": "code",
      "metadata": {
        "id": "P6-tuVl-xX_J"
      },
      "source": [
        "# Add the price change feature\n",
        "df['PriceDiff'] = df['Close'].shift(-1) - df['Close']"
      ],
      "execution_count": 40,
      "outputs": []
    },
    {
      "cell_type": "code",
      "metadata": {
        "id": "n2HLClWKxcIP"
      },
      "source": [
        "# Return for the day\n",
        "df['Return'] = df['PriceDiff'] / df['Close']"
      ],
      "execution_count": 41,
      "outputs": []
    },
    {
      "cell_type": "code",
      "metadata": {
        "id": "sES70j26xcP7"
      },
      "source": [
        "# Daily difference in price\n",
        "df['OpenChange'] = df['High'] - df['Low']"
      ],
      "execution_count": 42,
      "outputs": []
    },
    {
      "cell_type": "code",
      "metadata": {
        "id": "_wLypGcMxcTA"
      },
      "source": [
        "# Moving Average 50 and 250 days to get signal\n",
        "df['MA50'] = df['Close'].rolling(100).mean()\n",
        "df['MA250'] = df['Close'].rolling(200).mean()\n",
        "df['Signal'] = df['MA50'] - df['MA250']\n",
        "\n",
        "# Signal direction.\n",
        "df['SignalD'] = [1 if df.loc[signal, 'Signal'] > 0 else 0 for signal in df.index]\n",
        "df['SignalD'] = df['SignalD'].astype('int')"
      ],
      "execution_count": 43,
      "outputs": []
    },
    {
      "cell_type": "code",
      "metadata": {
        "id": "7lNIcx7axcWY"
      },
      "source": [
        "# Drop the any create from the three features from above\n",
        "df.fillna(df.mean(), inplace=True)"
      ],
      "execution_count": 44,
      "outputs": []
    },
    {
      "cell_type": "code",
      "metadata": {
        "id": "jzJelz3txcZD",
        "colab": {
          "base_uri": "https://localhost:8080/"
        },
        "outputId": "720f6f68-6cd5-4c49-c090-1d220aaf24d6"
      },
      "source": [
        "# Create the target feature to predict.\n",
        "# I want to know if the market up or down.\n",
        "df['Direction'] = [1 if df.loc[direction, 'Return'] > 0 else 0 for direction in df.index]\n",
        "df['Direction'] = df['Direction'].astype('int')\n",
        "df['Direction'].value_counts(normalize=True)"
      ],
      "execution_count": 45,
      "outputs": [
        {
          "output_type": "execute_result",
          "data": {
            "text/plain": [
              "0    0.503914\n",
              "1    0.496086\n",
              "Name: Direction, dtype: float64"
            ]
          },
          "metadata": {
            "tags": []
          },
          "execution_count": 45
        }
      ]
    },
    {
      "cell_type": "code",
      "metadata": {
        "id": "SaqiFndwxcb_"
      },
      "source": [
        "# Drop the leakage columns\n",
        "df = df.drop(['Return','PriceDiff'], axis=1)"
      ],
      "execution_count": 46,
      "outputs": []
    },
    {
      "cell_type": "code",
      "metadata": {
        "id": "rYkJPywzxv35"
      },
      "source": [
        "# Choose your target. Which column in your tabular dataset will you predict?\n",
        "# I will predict Price"
      ],
      "execution_count": 47,
      "outputs": []
    },
    {
      "cell_type": "code",
      "metadata": {
        "id": "jLoeSnmTxyaU"
      },
      "source": [
        "# Is your problem regression or classification?\n",
        "# It will be a regression"
      ],
      "execution_count": 48,
      "outputs": []
    },
    {
      "cell_type": "code",
      "metadata": {
        "id": "SaY5gke0xzHf"
      },
      "source": [
        "# How is your target distributed?\n",
        "# This is a continus problem because it is a price of a stock"
      ],
      "execution_count": 49,
      "outputs": []
    },
    {
      "cell_type": "code",
      "metadata": {
        "id": "KsJbNBCTyFPG"
      },
      "source": [
        "# My evaluation metrics.\n",
        "# Accuracy Score"
      ],
      "execution_count": 50,
      "outputs": []
    },
    {
      "cell_type": "code",
      "metadata": {
        "id": "-Lx6XJDQyIsc"
      },
      "source": [
        "# I will train from 1980 to 2004, validate from 2005 to 2014, and test from 2015 to 2019\n",
        "# I will do time base split.\n",
        "\n",
        "# get the date column from the index\n",
        "df['Date'] = df.index\n",
        "\n",
        "# Split the data\n",
        "train = df[(df['Date'].dt.year <= 2004)]\n",
        "val = df[(df['Date'].dt.year >= 2005) & (df['Date'].dt.year <= 2014)]\n",
        "test = df[(df['Date'].dt.year >= 2015)]"
      ],
      "execution_count": 51,
      "outputs": []
    },
    {
      "cell_type": "code",
      "metadata": {
        "id": "uYdjSrvLyLeg"
      },
      "source": [
        "####################### Fisnish retro 1 ####################"
      ],
      "execution_count": 52,
      "outputs": []
    },
    {
      "cell_type": "code",
      "metadata": {
        "id": "ujROFjE7yLm9"
      },
      "source": [
        "####################### Start retro 2 ####################"
      ],
      "execution_count": 53,
      "outputs": []
    },
    {
      "cell_type": "code",
      "metadata": {
        "id": "capkuS-cyPcp",
        "colab": {
          "base_uri": "https://localhost:8080/"
        },
        "outputId": "2a60238c-6f67-4057-95ca-928dc41cfd4e"
      },
      "source": [
        "# Take a look at the data\n",
        "train.info()"
      ],
      "execution_count": 54,
      "outputs": [
        {
          "output_type": "stream",
          "text": [
            "<class 'pandas.core.frame.DataFrame'>\n",
            "DatetimeIndex: 6071 entries, 1980-12-12 to 2004-12-31\n",
            "Data columns (total 16 columns):\n",
            " #   Column        Non-Null Count  Dtype         \n",
            "---  ------        --------------  -----         \n",
            " 0   Open          6071 non-null   float64       \n",
            " 1   High          6071 non-null   float64       \n",
            " 2   Low           6071 non-null   float64       \n",
            " 3   Close         6071 non-null   float64       \n",
            " 4   Volume        6071 non-null   int64         \n",
            " 5   Dividends     6071 non-null   float64       \n",
            " 6   Stock Splits  6071 non-null   float64       \n",
            " 7   DailyChange   6071 non-null   float64       \n",
            " 8   VolumeChange  6071 non-null   float64       \n",
            " 9   OpenChange    6071 non-null   float64       \n",
            " 10  MA50          6071 non-null   float64       \n",
            " 11  MA250         6071 non-null   float64       \n",
            " 12  Signal        6071 non-null   float64       \n",
            " 13  SignalD       6071 non-null   int64         \n",
            " 14  Direction     6071 non-null   int64         \n",
            " 15  Date          6071 non-null   datetime64[ns]\n",
            "dtypes: datetime64[ns](1), float64(12), int64(3)\n",
            "memory usage: 806.3 KB\n"
          ],
          "name": "stdout"
        }
      ]
    },
    {
      "cell_type": "code",
      "metadata": {
        "id": "15YKgS2nyPiI"
      },
      "source": [
        "####################### Fisnish retro 2 ####################"
      ],
      "execution_count": 55,
      "outputs": []
    },
    {
      "cell_type": "code",
      "metadata": {
        "id": "2Yb6Pe3XyPlB"
      },
      "source": [
        "####################### Start retro 3 ####################"
      ],
      "execution_count": 56,
      "outputs": []
    },
    {
      "cell_type": "code",
      "metadata": {
        "id": "mTcNOv8VyPnq",
        "colab": {
          "base_uri": "https://localhost:8080/"
        },
        "outputId": "e217e63e-e8da-4275-d5a7-c81afd2a5a44"
      },
      "source": [
        "# Baseline\n",
        "baseline = train['Direction'].value_counts(normalize=True)\n",
        "print('Majority Baseline:', baseline[0])"
      ],
      "execution_count": 57,
      "outputs": [
        {
          "output_type": "stream",
          "text": [
            "Majority Baseline: 0.527260747817493\n"
          ],
          "name": "stdout"
        }
      ]
    },
    {
      "cell_type": "code",
      "metadata": {
        "id": "lEZ-2iWgyPqR"
      },
      "source": [
        "# Create the new DataFrame to get the feature list\n",
        "target = 'Direction'\n",
        "df_drop = train.copy()\n",
        "\n",
        "# Features DataFrame \n",
        "df_drop = df_drop.drop(target,axis=1)\n",
        "\n",
        "# get the feature columns list\n",
        "numeric = df_drop.describe().columns.values.tolist()\n",
        "\n",
        "# Processor\n",
        "from sklearn.compose import ColumnTransformer\n",
        "from sklearn.pipeline import Pipeline\n",
        "from sklearn.impute import SimpleImputer\n",
        "from sklearn.preprocessing import StandardScaler, OrdinalEncoder\n",
        "from sklearn.tree import DecisionTreeClassifier\n",
        "\n",
        "\n",
        "numeric_features = numeric\n",
        "\n",
        "numeric_transformer = Pipeline(steps=[\n",
        "    ('imputer', SimpleImputer(strategy='mean')),\n",
        "    ('scaler', StandardScaler())])\n",
        "\n",
        "preprocessor = ColumnTransformer(\n",
        "    transformers=[\n",
        "        ('num', numeric_transformer, numeric_features)])\n",
        "\n",
        "\n",
        "clf = Pipeline(steps=[('preprocessor', preprocessor),\n",
        "                  ('classifier', DecisionTreeClassifier())])"
      ],
      "execution_count": 58,
      "outputs": []
    },
    {
      "cell_type": "code",
      "metadata": {
        "id": "iKVo-H_pyPtu",
        "colab": {
          "base_uri": "https://localhost:8080/"
        },
        "outputId": "9a42e065-e0fb-4688-fe4a-fc41251884d5"
      },
      "source": [
        "# Create the training and test sets\n",
        "X_train = train.drop(target, axis=1)\n",
        "y_train = train[target]\n",
        "X_val = val.drop(target, axis=1)\n",
        "y_val = val[target]\n",
        "X_test = test.drop(target, axis=1)\n",
        "y_test = test[target]\n",
        "\n",
        "# Fit the model\n",
        "clf.fit(X_train,y_train)\n",
        "print('Validation Accuracy', clf.score(X_val, y_val))"
      ],
      "execution_count": 59,
      "outputs": [
        {
          "output_type": "stream",
          "text": [
            "Validation Accuracy 0.4958283671036949\n"
          ],
          "name": "stdout"
        }
      ]
    },
    {
      "cell_type": "code",
      "metadata": {
        "id": "nao5_jK6yPwc",
        "colab": {
          "base_uri": "https://localhost:8080/"
        },
        "outputId": "bb30a335-4ca6-4ada-fd02-d370417498a4"
      },
      "source": [
        "# Import the Accuracy Score test\n",
        "from sklearn.metrics import accuracy_score\n",
        "\n",
        "# Do the predict on the test set\n",
        "y_pred = clf.predict(X_test)\n",
        "\n",
        "# Get the Accuracy Score score\n",
        "print('The Accuracy Score:',accuracy_score(y_test,y_pred))"
      ],
      "execution_count": 60,
      "outputs": [
        {
          "output_type": "stream",
          "text": [
            "The Accuracy Score: 0.5216234198270127\n"
          ],
          "name": "stdout"
        }
      ]
    },
    {
      "cell_type": "code",
      "metadata": {
        "id": "dgRfpKQ7yPzG",
        "colab": {
          "base_uri": "https://localhost:8080/",
          "height": 336
        },
        "outputId": "894b794e-616e-4ed4-f05f-effd3cf8bac4"
      },
      "source": [
        "# Features (order in which they were preprocessed)\n",
        "features_order = numeric_features\n",
        "\n",
        "importances = pd.Series(clf.steps[1][1].feature_importances_, features_order)\n",
        "\n",
        "# Plot feature importances\n",
        "import matplotlib.pyplot as plt\n",
        "\n",
        "n = 10\n",
        "plt.figure(figsize=(10,n/2))\n",
        "plt.title(f'Top {n} features')\n",
        "importances.sort_values()[-n:].plot.barh(color='grey')\n",
        "\n",
        "plt.show()"
      ],
      "execution_count": 61,
      "outputs": [
        {
          "output_type": "display_data",
          "data": {
            "image/png": "[encoded data removed]",
            "text/plain": [
              "<Figure size 720x360 with 1 Axes>"
            ]
          },
          "metadata": {
            "tags": [],
            "needs_background": "light"
          }
        }
      ]
    },
    {
      "cell_type": "code",
      "metadata": {
        "id": "XWEk6Ijz1FWn",
        "colab": {
          "base_uri": "https://localhost:8080/"
        },
        "outputId": "0d8e6235-5d0e-4d2b-f403-0111c4068c57"
      },
      "source": [
        "# Permute the values in the more important column\n",
        "feature = 'VolumeChange'\n",
        "\n",
        "X_test_permuted = X_test.copy()\n",
        "\n",
        "# Fill in missing values\n",
        "X_test_permuted[feature].fillna(value = X_test_permuted[feature].median(), inplace=True)\n",
        "\n",
        "# Permute\n",
        "X_test_permuted[feature] = np.random.permutation(X_test[feature])\n",
        "\n",
        "print('Feature permuted: ', feature)\n",
        "print('Validation Accuracy', clf.score(X_test, y_test))\n",
        "print('Validation Accuracy (permuted)', clf.score(X_test_permuted, y_test))"
      ],
      "execution_count": 62,
      "outputs": [
        {
          "output_type": "stream",
          "text": [
            "Feature permuted:  VolumeChange\n",
            "Validation Accuracy 0.5216234198270127\n",
            "Validation Accuracy (permuted) 0.499001996007984\n"
          ],
          "name": "stdout"
        }
      ]
    },
    {
      "cell_type": "code",
      "metadata": {
        "id": "VRS8tgEd1JYI",
        "colab": {
          "base_uri": "https://localhost:8080/"
        },
        "outputId": "6a967280-6fc5-4d30-dc13-52f4b356b626"
      },
      "source": [
        "# Permute the values in the more important column\n",
        "feature = 'Dividends'\n",
        "\n",
        "X_test_permuted = X_test.copy()\n",
        "\n",
        "# Fill in missing values\n",
        "X_test_permuted[feature].fillna(value = X_test_permuted[feature].median(), inplace=True)\n",
        "\n",
        "# Permute\n",
        "X_test_permuted[feature] = np.random.permutation(X_test[feature])\n",
        "\n",
        "print('Feature permuted: ', feature)\n",
        "print('Validation Accuracy', clf.score(X_test, y_test))\n",
        "print('Validation Accuracy (permuted)', clf.score(X_test_permuted, y_test))"
      ],
      "execution_count": 63,
      "outputs": [
        {
          "output_type": "stream",
          "text": [
            "Feature permuted:  Dividends\n",
            "Validation Accuracy 0.5216234198270127\n",
            "Validation Accuracy (permuted) 0.5216234198270127\n"
          ],
          "name": "stdout"
        }
      ]
    },
    {
      "cell_type": "code",
      "metadata": {
        "id": "5Qy8AkpE1N4K",
        "colab": {
          "base_uri": "https://localhost:8080/"
        },
        "outputId": "067682d4-73c5-44ee-f76b-df5e9ecbb91c"
      },
      "source": [
        "# Remove the date from the data for using XGBoost\n",
        "X_test = X_test.drop('Date', axis=1)\n",
        "\n",
        "# Load xgboost and fit the model\n",
        "from xgboost import XGBClassifier\n",
        "\n",
        "xg_classifier = XGBClassifier(n_estimators=250, random_state=42)\n",
        "\n",
        "xg_classifier.fit(X_test,y_test)\n",
        "\n",
        "print('Validation Accuracy: XGBoost', xg_classifier.score(X_test, y_test))"
      ],
      "execution_count": 64,
      "outputs": [
        {
          "output_type": "stream",
          "text": [
            "Validation Accuracy: XGBoost 0.8616101131071191\n"
          ],
          "name": "stdout"
        }
      ]
    },
    {
      "cell_type": "code",
      "metadata": {
        "id": "MdTSk96L1QT4"
      },
      "source": [
        "####################### Fisnish retro 3 ####################"
      ],
      "execution_count": 65,
      "outputs": []
    },
    {
      "cell_type": "code",
      "metadata": {
        "id": "VyLP0f6PJLwZ"
      },
      "source": [
        "####################### Start retro 4 ####################"
      ],
      "execution_count": 66,
      "outputs": []
    },
    {
      "cell_type": "code",
      "metadata": {
        "id": "TuHXt4hCJQML",
        "outputId": "ed1a16e4-d517-450a-ba76-97f11897da19",
        "colab": {
          "base_uri": "https://localhost:8080/",
          "height": 295
        }
      },
      "source": [
        "# Partial dependence\n",
        "from sklearn.inspection import plot_partial_dependence\n",
        "import matplotlib.pyplot as plt\n",
        "\n",
        "model = clf.fit(X_train,y_train)\n",
        "\n",
        "fig, ax = plt.subplots(1,1, figsize=(12,4))\n",
        "plot_partial_dependence(model, feature_names=X_train.columns, \n",
        "                        features=['Close', 'VolumeChange'], \n",
        "                        X=X_train, grid_resolution=50, ax=ax);\n",
        "\n",
        "ax.set_title('Apple Stock: Partial Dependence');\n",
        "\n",
        "plt.show();"
      ],
      "execution_count": 67,
      "outputs": [
        {
          "output_type": "display_data",
          "data": {
            "image/png": "[encoded data removed]",
            "text/plain": [
              "<Figure size 864x288 with 3 Axes>"
            ]
          },
          "metadata": {
            "tags": [],
            "needs_background": "light"
          }
        }
      ]
    },
    {
      "cell_type": "code",
      "metadata": {
        "id": "U0GuU8LSJQZA",
        "outputId": "68556222-0745-4871-9277-0666b694a92d",
        "colab": {
          "base_uri": "https://localhost:8080/",
          "height": 646
        }
      },
      "source": [
        "from pdpbox.pdp import pdp_isolate, pdp_plot\n",
        "\n",
        "# Create the plot for a single feature isolated\n",
        "\n",
        "isolated = pdp_isolate(\n",
        "    model= model,\n",
        "    dataset=X_train,\n",
        "    model_features=X_train.columns,\n",
        "    feature='Open'\n",
        ")\n",
        "\n",
        "pdp_plot(isolated, feature_name='Close');\n",
        "\n",
        "plt.show();"
      ],
      "execution_count": 68,
      "outputs": [
        {
          "output_type": "stream",
          "text": [
            "findfont: Font family ['Arial'] not found. Falling back to DejaVu Sans.\n",
            "findfont: Font family ['Arial'] not found. Falling back to DejaVu Sans.\n",
            "findfont: Font family ['Arial'] not found. Falling back to DejaVu Sans.\n",
            "findfont: Font family ['Arial'] not found. Falling back to DejaVu Sans.\n"
          ],
          "name": "stderr"
        },
        {
          "output_type": "display_data",
          "data": {
            "image/png": "[encoded data removed]",
            "text/plain": [
              "<Figure size 1080x684 with 2 Axes>"
            ]
          },
          "metadata": {
            "tags": [],
            "needs_background": "light"
          }
        }
      ]
    },
    {
      "cell_type": "code",
      "metadata": {
        "id": "7x4BKoeuJbN2"
      },
      "source": [
        "####################### Fisnish retro 4 ####################"
      ],
      "execution_count": null,
      "outputs": []
    }
  ]
}