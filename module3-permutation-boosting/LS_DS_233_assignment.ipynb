{
  "nbformat": 4,
  "nbformat_minor": 0,
  "metadata": {
    "kernelspec": {
      "display_name": "Python 3",
      "language": "python",
      "name": "python3"
    },
    "language_info": {
      "codemirror_mode": {
        "name": "ipython",
        "version": 3
      },
      "file_extension": ".py",
      "mimetype": "text/x-python",
      "name": "python",
      "nbconvert_exporter": "python",
      "pygments_lexer": "ipython3",
      "version": "3.7.3"
    },
    "colab": {
      "name": "LS_DS_233_assignment.ipynb",
      "provenance": []
    }
  },
  "cells": [
    {
      "cell_type": "markdown",
      "metadata": {
        "id": "nCc3XZEyG3XV"
      },
      "source": [
        "Lambda School Data Science\n",
        "\n",
        "*Unit 2, Sprint 3, Module 3*\n",
        "\n",
        "---\n",
        "\n",
        "\n",
        "# Permutation & Boosting\n",
        "\n",
        "You will use your portfolio project dataset for all assignments this sprint.\n",
        "\n",
        "## Assignment\n",
        "\n",
        "Complete these tasks for your project, and document your work.\n",
        "\n",
        "- [ ] If you haven't completed assignment #1, please do so first.\n",
        "- [ ] Continue to clean and explore your data. Make exploratory visualizations.\n",
        "- [ ] Fit a model. Does it beat your baseline? \n",
        "- [ ] Try xgboost.\n",
        "- [ ] Get your model's permutation importances.\n",
        "\n",
        "You should try to complete an initial model today, because the rest of the week, we're making model interpretation visualizations.\n",
        "\n",
        "But, if you aren't ready to try xgboost and permutation importances with your dataset today, that's okay. You can practice with another dataset instead. You may choose any dataset you've worked with previously.\n",
        "\n",
        "The data subdirectory includes the Titanic dataset for classification and the NYC apartments dataset for regression. You may want to choose one of these datasets, because example solutions will be available for each.\n",
        "\n",
        "\n",
        "## Reading\n",
        "\n",
        "Top recommendations in _**bold italic:**_\n",
        "\n",
        "#### Permutation Importances\n",
        "- _**[Kaggle / Dan Becker: Machine Learning Explainability](https://www.kaggle.com/dansbecker/permutation-importance)**_\n",
        "- [Christoph Molnar: Interpretable Machine Learning](https://christophm.github.io/interpretable-ml-book/feature-importance.html)\n",
        "\n",
        "#### (Default) Feature Importances\n",
        "  - [Ando Saabas: Selecting good features, Part 3, Random Forests](https://blog.datadive.net/selecting-good-features-part-iii-random-forests/)\n",
        "  - [Terence Parr, et al: Beware Default Random Forest Importances](https://explained.ai/rf-importance/index.html)\n",
        "\n",
        "#### Gradient Boosting\n",
        "  - [A Gentle Introduction to the Gradient Boosting Algorithm for Machine Learning](https://machinelearningmastery.com/gentle-introduction-gradient-boosting-algorithm-machine-learning/)\n",
        "  - [An Introduction to Statistical Learning](http://www-bcf.usc.edu/~gareth/ISL/ISLR%20Seventh%20Printing.pdf), Chapter 8\n",
        "  - _**[Gradient Boosting Explained](https://www.gormanalysis.com/blog/gradient-boosting-explained/)**_ — Ben Gorman\n",
        "  - [Gradient Boosting Explained](http://arogozhnikov.github.io/2016/06/24/gradient_boosting_explained.html) — Alex Rogozhnikov\n",
        "  - [How to explain gradient boosting](https://explained.ai/gradient-boosting/) — Terence Parr & Jeremy Howard"
      ]
    },
    {
      "cell_type": "markdown",
      "metadata": {
        "id": "yNqjeoJs19Lt"
      },
      "source": [
        "#Fit a model. Does it beat your baseline?"
      ]
    },
    {
      "cell_type": "code",
      "metadata": {
        "id": "do5fSfDL1T7N"
      },
      "source": [
        "import numpy as np\n",
        "import pandas as pd\n",
        "\n",
        "uci_red = pd.read_csv('https://raw.githubusercontent.com/nastyalolpro/project_data/master/build_week_2/winequality-red.csv', delimiter=\";\")\n",
        "uci_white = pd.read_csv('https://raw.githubusercontent.com/nastyalolpro/project_data/master/build_week_2/winequality-white.csv', delimiter=\";\")\n",
        "\n",
        "uci_red['color'] = 'red'\n",
        "uci_white['color'] = 'white'\n",
        "\n",
        "df = pd.concat([uci_red, uci_white])\n",
        "df = df.reset_index(drop=True)"
      ],
      "execution_count": 28,
      "outputs": []
    },
    {
      "cell_type": "code",
      "metadata": {
        "id": "Tok_FC2_OdUn",
        "outputId": "f4a1995d-c14a-41b7-c567-e9874906ee70",
        "colab": {
          "base_uri": "https://localhost:8080/"
        }
      },
      "source": [
        "df['color'].value_counts(normalize = True)"
      ],
      "execution_count": 30,
      "outputs": [
        {
          "output_type": "execute_result",
          "data": {
            "text/plain": [
              "white    0.753886\n",
              "red      0.246114\n",
              "Name: color, dtype: float64"
            ]
          },
          "metadata": {
            "tags": []
          },
          "execution_count": 30
        }
      ]
    },
    {
      "cell_type": "code",
      "metadata": {
        "id": "ijo-7CbOOAJ4"
      },
      "source": [
        "from sklearn.model_selection import train_test_split\n",
        "\n",
        "train, test = train_test_split(df, train_size=0.80, test_size=0.20, \n",
        "                              stratify=df['quality'], random_state=42)"
      ],
      "execution_count": 33,
      "outputs": []
    },
    {
      "cell_type": "code",
      "metadata": {
        "id": "V6FL7KQaPhA2"
      },
      "source": [
        "train, val = train_test_split(train, train_size=0.80, test_size=0.20, \n",
        "                              stratify=train['quality'], random_state=42)"
      ],
      "execution_count": 34,
      "outputs": []
    },
    {
      "cell_type": "markdown",
      "metadata": {
        "id": "CHB_fuQtP7em"
      },
      "source": [
        "###Want to check distribution"
      ]
    },
    {
      "cell_type": "code",
      "metadata": {
        "id": "UJ87zABvPmfq",
        "outputId": "6fe6c1f3-3dda-45be-acba-25278eb9ffc9",
        "colab": {
          "base_uri": "https://localhost:8080/"
        }
      },
      "source": [
        "train['color'].value_counts(normalize = True)"
      ],
      "execution_count": 35,
      "outputs": [
        {
          "output_type": "execute_result",
          "data": {
            "text/plain": [
              "white    0.756074\n",
              "red      0.243926\n",
              "Name: color, dtype: float64"
            ]
          },
          "metadata": {
            "tags": []
          },
          "execution_count": 35
        }
      ]
    },
    {
      "cell_type": "code",
      "metadata": {
        "id": "5m-LuyoOPqeR",
        "outputId": "703fc810-af8a-4901-9523-a786f8b3788b",
        "colab": {
          "base_uri": "https://localhost:8080/"
        }
      },
      "source": [
        "test['color'].value_counts(normalize = True)"
      ],
      "execution_count": 36,
      "outputs": [
        {
          "output_type": "execute_result",
          "data": {
            "text/plain": [
              "white    0.764615\n",
              "red      0.235385\n",
              "Name: color, dtype: float64"
            ]
          },
          "metadata": {
            "tags": []
          },
          "execution_count": 36
        }
      ]
    },
    {
      "cell_type": "code",
      "metadata": {
        "id": "lsqlk3mLPs2l",
        "outputId": "45da96f2-e42a-4229-ed22-48afb277863c",
        "colab": {
          "base_uri": "https://localhost:8080/"
        }
      },
      "source": [
        "val['color'].value_counts(normalize = True)"
      ],
      "execution_count": 37,
      "outputs": [
        {
          "output_type": "execute_result",
          "data": {
            "text/plain": [
              "white    0.731731\n",
              "red      0.268269\n",
              "Name: color, dtype: float64"
            ]
          },
          "metadata": {
            "tags": []
          },
          "execution_count": 37
        }
      ]
    },
    {
      "cell_type": "markdown",
      "metadata": {
        "id": "CVxSEBZvFGeh"
      },
      "source": [
        "##Baseline"
      ]
    },
    {
      "cell_type": "code",
      "metadata": {
        "id": "OTRpUex-FF1x",
        "outputId": "5d3d817e-75ad-43a7-8ad3-b8901df60a67",
        "colab": {
          "base_uri": "https://localhost:8080/"
        }
      },
      "source": [
        "#target distribution\n",
        "dist = train['quality'].value_counts(normalize = True)\n",
        "dist"
      ],
      "execution_count": 38,
      "outputs": [
        {
          "output_type": "execute_result",
          "data": {
            "text/plain": [
              "6    0.436613\n",
              "5    0.329083\n",
              "7    0.165985\n",
              "4    0.033438\n",
              "8    0.029589\n",
              "3    0.004571\n",
              "9    0.000722\n",
              "Name: quality, dtype: float64"
            ]
          },
          "metadata": {
            "tags": []
          },
          "execution_count": 38
        }
      ]
    },
    {
      "cell_type": "code",
      "metadata": {
        "id": "979PYvFkFcBc",
        "outputId": "6bfaed20-6ae5-4483-90f8-9c378fa13936",
        "colab": {
          "base_uri": "https://localhost:8080/"
        }
      },
      "source": [
        "print('Baseline is', dist.max())"
      ],
      "execution_count": 9,
      "outputs": [
        {
          "output_type": "stream",
          "text": [
            "Baseline is 0.43650915807295676\n"
          ],
          "name": "stdout"
        }
      ]
    },
    {
      "cell_type": "code",
      "metadata": {
        "id": "rQZkZYF-L1KS",
        "outputId": "0c74d95a-37e0-4c15-83d8-a9fb1f89da8b",
        "colab": {
          "base_uri": "https://localhost:8080/",
          "height": 265
        }
      },
      "source": [
        "#1-10, what if some classes are missing?\n",
        "import matplotlib.pyplot as plt\n",
        "\n",
        "df['quality'].hist();"
      ],
      "execution_count": 18,
      "outputs": [
        {
          "output_type": "display_data",
          "data": {
            "image/png": "[encoded data removed]",
            "text/plain": [
              "<Figure size 432x288 with 1 Axes>"
            ]
          },
          "metadata": {
            "tags": [],
            "needs_background": "light"
          }
        }
      ]
    },
    {
      "cell_type": "code",
      "metadata": {
        "id": "033lFly0NRRx",
        "outputId": "995786cc-ce76-4375-ac83-4bd53b112ba6",
        "colab": {
          "base_uri": "https://localhost:8080/"
        }
      },
      "source": [
        "train.isnull().sum()"
      ],
      "execution_count": 39,
      "outputs": [
        {
          "output_type": "execute_result",
          "data": {
            "text/plain": [
              "fixed acidity           0\n",
              "volatile acidity        0\n",
              "citric acid             0\n",
              "residual sugar          0\n",
              "chlorides               0\n",
              "free sulfur dioxide     0\n",
              "total sulfur dioxide    0\n",
              "density                 0\n",
              "pH                      0\n",
              "sulphates               0\n",
              "alcohol                 0\n",
              "quality                 0\n",
              "color                   0\n",
              "dtype: int64"
            ]
          },
          "metadata": {
            "tags": []
          },
          "execution_count": 39
        }
      ]
    },
    {
      "cell_type": "code",
      "metadata": {
        "id": "iGaysZ_5NwSm",
        "outputId": "c25a2dee-ce27-4b71-919d-2930fa1f8ff1",
        "colab": {
          "base_uri": "https://localhost:8080/"
        }
      },
      "source": [
        "train.dtypes"
      ],
      "execution_count": 40,
      "outputs": [
        {
          "output_type": "execute_result",
          "data": {
            "text/plain": [
              "fixed acidity           float64\n",
              "volatile acidity        float64\n",
              "citric acid             float64\n",
              "residual sugar          float64\n",
              "chlorides               float64\n",
              "free sulfur dioxide     float64\n",
              "total sulfur dioxide    float64\n",
              "density                 float64\n",
              "pH                      float64\n",
              "sulphates               float64\n",
              "alcohol                 float64\n",
              "quality                   int64\n",
              "color                    object\n",
              "dtype: object"
            ]
          },
          "metadata": {
            "tags": []
          },
          "execution_count": 40
        }
      ]
    },
    {
      "cell_type": "code",
      "metadata": {
        "id": "W5dCN_vnNVNL",
        "outputId": "e85aa6af-276e-457e-f2e5-dc0080a5b48e",
        "colab": {
          "base_uri": "https://localhost:8080/",
          "height": 314
        }
      },
      "source": [
        "train.describe()"
      ],
      "execution_count": 41,
      "outputs": [
        {
          "output_type": "execute_result",
          "data": {
            "text/html": [
              "<div>\n",
              "<style scoped>\n",
              "    .dataframe tbody tr th:only-of-type {\n",
              "        vertical-align: middle;\n",
              "    }\n",
              "\n",
              "    .dataframe tbody tr th {\n",
              "        vertical-align: top;\n",
              "    }\n",
              "\n",
              "    .dataframe thead th {\n",
              "        text-align: right;\n",
              "    }\n",
              "</style>\n",
              "<table border=\"1\" class=\"dataframe\">\n",
              "  <thead>\n",
              "    <tr style=\"text-align: right;\">\n",
              "      <th></th>\n",
              "      <th>fixed acidity</th>\n",
              "      <th>volatile acidity</th>\n",
              "      <th>citric acid</th>\n",
              "      <th>residual sugar</th>\n",
              "      <th>chlorides</th>\n",
              "      <th>free sulfur dioxide</th>\n",
              "      <th>total sulfur dioxide</th>\n",
              "      <th>density</th>\n",
              "      <th>pH</th>\n",
              "      <th>sulphates</th>\n",
              "      <th>alcohol</th>\n",
              "      <th>quality</th>\n",
              "    </tr>\n",
              "  </thead>\n",
              "  <tbody>\n",
              "    <tr>\n",
              "      <th>count</th>\n",
              "      <td>4157.000000</td>\n",
              "      <td>4157.000000</td>\n",
              "      <td>4157.000000</td>\n",
              "      <td>4157.000000</td>\n",
              "      <td>4157.000000</td>\n",
              "      <td>4157.000000</td>\n",
              "      <td>4157.00000</td>\n",
              "      <td>4157.000000</td>\n",
              "      <td>4157.000000</td>\n",
              "      <td>4157.000000</td>\n",
              "      <td>4157.000000</td>\n",
              "      <td>4157.000000</td>\n",
              "    </tr>\n",
              "    <tr>\n",
              "      <th>mean</th>\n",
              "      <td>7.216839</td>\n",
              "      <td>0.338441</td>\n",
              "      <td>0.316704</td>\n",
              "      <td>5.500301</td>\n",
              "      <td>0.055568</td>\n",
              "      <td>30.785903</td>\n",
              "      <td>116.47426</td>\n",
              "      <td>0.994756</td>\n",
              "      <td>3.218821</td>\n",
              "      <td>0.530630</td>\n",
              "      <td>10.455239</td>\n",
              "      <td>5.817657</td>\n",
              "    </tr>\n",
              "    <tr>\n",
              "      <th>std</th>\n",
              "      <td>1.282094</td>\n",
              "      <td>0.164193</td>\n",
              "      <td>0.146342</td>\n",
              "      <td>4.723909</td>\n",
              "      <td>0.034105</td>\n",
              "      <td>17.863918</td>\n",
              "      <td>56.72208</td>\n",
              "      <td>0.002939</td>\n",
              "      <td>0.161270</td>\n",
              "      <td>0.145386</td>\n",
              "      <td>1.178301</td>\n",
              "      <td>0.872776</td>\n",
              "    </tr>\n",
              "    <tr>\n",
              "      <th>min</th>\n",
              "      <td>4.200000</td>\n",
              "      <td>0.080000</td>\n",
              "      <td>0.000000</td>\n",
              "      <td>0.600000</td>\n",
              "      <td>0.009000</td>\n",
              "      <td>1.000000</td>\n",
              "      <td>6.00000</td>\n",
              "      <td>0.987220</td>\n",
              "      <td>2.720000</td>\n",
              "      <td>0.250000</td>\n",
              "      <td>8.000000</td>\n",
              "      <td>3.000000</td>\n",
              "    </tr>\n",
              "    <tr>\n",
              "      <th>25%</th>\n",
              "      <td>6.400000</td>\n",
              "      <td>0.230000</td>\n",
              "      <td>0.240000</td>\n",
              "      <td>1.800000</td>\n",
              "      <td>0.038000</td>\n",
              "      <td>17.000000</td>\n",
              "      <td>79.00000</td>\n",
              "      <td>0.992400</td>\n",
              "      <td>3.110000</td>\n",
              "      <td>0.430000</td>\n",
              "      <td>9.500000</td>\n",
              "      <td>5.000000</td>\n",
              "    </tr>\n",
              "    <tr>\n",
              "      <th>50%</th>\n",
              "      <td>7.000000</td>\n",
              "      <td>0.290000</td>\n",
              "      <td>0.310000</td>\n",
              "      <td>3.100000</td>\n",
              "      <td>0.047000</td>\n",
              "      <td>29.000000</td>\n",
              "      <td>119.00000</td>\n",
              "      <td>0.994900</td>\n",
              "      <td>3.210000</td>\n",
              "      <td>0.510000</td>\n",
              "      <td>10.300000</td>\n",
              "      <td>6.000000</td>\n",
              "    </tr>\n",
              "    <tr>\n",
              "      <th>75%</th>\n",
              "      <td>7.700000</td>\n",
              "      <td>0.400000</td>\n",
              "      <td>0.390000</td>\n",
              "      <td>8.200000</td>\n",
              "      <td>0.064000</td>\n",
              "      <td>42.000000</td>\n",
              "      <td>157.00000</td>\n",
              "      <td>0.997010</td>\n",
              "      <td>3.320000</td>\n",
              "      <td>0.600000</td>\n",
              "      <td>11.300000</td>\n",
              "      <td>6.000000</td>\n",
              "    </tr>\n",
              "    <tr>\n",
              "      <th>max</th>\n",
              "      <td>15.600000</td>\n",
              "      <td>1.330000</td>\n",
              "      <td>1.660000</td>\n",
              "      <td>31.600000</td>\n",
              "      <td>0.611000</td>\n",
              "      <td>289.000000</td>\n",
              "      <td>440.00000</td>\n",
              "      <td>1.010300</td>\n",
              "      <td>4.010000</td>\n",
              "      <td>1.950000</td>\n",
              "      <td>14.200000</td>\n",
              "      <td>9.000000</td>\n",
              "    </tr>\n",
              "  </tbody>\n",
              "</table>\n",
              "</div>"
            ],
            "text/plain": [
              "       fixed acidity  volatile acidity  ...      alcohol      quality\n",
              "count    4157.000000       4157.000000  ...  4157.000000  4157.000000\n",
              "mean        7.216839          0.338441  ...    10.455239     5.817657\n",
              "std         1.282094          0.164193  ...     1.178301     0.872776\n",
              "min         4.200000          0.080000  ...     8.000000     3.000000\n",
              "25%         6.400000          0.230000  ...     9.500000     5.000000\n",
              "50%         7.000000          0.290000  ...    10.300000     6.000000\n",
              "75%         7.700000          0.400000  ...    11.300000     6.000000\n",
              "max        15.600000          1.330000  ...    14.200000     9.000000\n",
              "\n",
              "[8 rows x 12 columns]"
            ]
          },
          "metadata": {
            "tags": []
          },
          "execution_count": 41
        }
      ]
    },
    {
      "cell_type": "markdown",
      "metadata": {
        "id": "T5gDTZSBQcQb"
      },
      "source": [
        "##Arrange data into X features matrix and y target vector"
      ]
    },
    {
      "cell_type": "code",
      "metadata": {
        "id": "nr8hd5GdQZVy"
      },
      "source": [
        "target = 'quality'\n",
        "\n",
        "X_train = train.drop(columns = target)\n",
        "y_train = train[target]\n",
        "\n",
        "X_val = val.drop(columns = target)\n",
        "y_val = val[target]\n",
        "\n",
        "X_test = test.drop(columns = target)\n",
        "y_test = test[target]"
      ],
      "execution_count": null,
      "outputs": []
    },
    {
      "cell_type": "markdown",
      "metadata": {
        "id": "AdWY9bwZF873"
      },
      "source": [
        "##Random forest classifier"
      ]
    },
    {
      "cell_type": "code",
      "metadata": {
        "id": "0W-J6pReGxcd",
        "outputId": "8a1b0848-77c7-479f-f3df-aec807628f87",
        "colab": {
          "base_uri": "https://localhost:8080/"
        }
      },
      "source": [
        "!pip install category_encoders==2.*"
      ],
      "execution_count": 12,
      "outputs": [
        {
          "output_type": "stream",
          "text": [
            "Collecting category_encoders==2.*\n",
            "\u001b[?25l  Downloading https://files.pythonhosted.org/packages/44/57/fcef41c248701ee62e8325026b90c432adea35555cbc870aff9cfba23727/category_encoders-2.2.2-py2.py3-none-any.whl (80kB)\n",
            "\r\u001b[K     |████                            | 10kB 9.1MB/s eta 0:00:01\r\u001b[K     |████████▏                       | 20kB 1.8MB/s eta 0:00:01\r\u001b[K     |████████████▏                   | 30kB 2.3MB/s eta 0:00:01\r\u001b[K     |████████████████▎               | 40kB 2.5MB/s eta 0:00:01\r\u001b[K     |████████████████████▎           | 51kB 2.0MB/s eta 0:00:01\r\u001b[K     |████████████████████████▍       | 61kB 2.3MB/s eta 0:00:01\r\u001b[K     |████████████████████████████▍   | 71kB 2.6MB/s eta 0:00:01\r\u001b[K     |████████████████████████████████| 81kB 2.2MB/s \n",
            "\u001b[?25hRequirement already satisfied: pandas>=0.21.1 in /usr/local/lib/python3.6/dist-packages (from category_encoders==2.*) (1.1.2)\n",
            "Requirement already satisfied: numpy>=1.14.0 in /usr/local/lib/python3.6/dist-packages (from category_encoders==2.*) (1.18.5)\n",
            "Requirement already satisfied: patsy>=0.5.1 in /usr/local/lib/python3.6/dist-packages (from category_encoders==2.*) (0.5.1)\n",
            "Requirement already satisfied: statsmodels>=0.9.0 in /usr/local/lib/python3.6/dist-packages (from category_encoders==2.*) (0.10.2)\n",
            "Requirement already satisfied: scipy>=1.0.0 in /usr/local/lib/python3.6/dist-packages (from category_encoders==2.*) (1.4.1)\n",
            "Requirement already satisfied: scikit-learn>=0.20.0 in /usr/local/lib/python3.6/dist-packages (from category_encoders==2.*) (0.22.2.post1)\n",
            "Requirement already satisfied: pytz>=2017.2 in /usr/local/lib/python3.6/dist-packages (from pandas>=0.21.1->category_encoders==2.*) (2018.9)\n",
            "Requirement already satisfied: python-dateutil>=2.7.3 in /usr/local/lib/python3.6/dist-packages (from pandas>=0.21.1->category_encoders==2.*) (2.8.1)\n",
            "Requirement already satisfied: six in /usr/local/lib/python3.6/dist-packages (from patsy>=0.5.1->category_encoders==2.*) (1.15.0)\n",
            "Requirement already satisfied: joblib>=0.11 in /usr/local/lib/python3.6/dist-packages (from scikit-learn>=0.20.0->category_encoders==2.*) (0.16.0)\n",
            "Installing collected packages: category-encoders\n",
            "Successfully installed category-encoders-2.2.2\n"
          ],
          "name": "stdout"
        }
      ]
    },
    {
      "cell_type": "code",
      "metadata": {
        "id": "xHadn4GnF7Fk"
      },
      "source": [
        "from sklearn.ensemble import RandomForestClassifier\n",
        "from sklearn.pipeline import make_pipeline\n",
        "# from sklearn.impute import SimpleImputer\n",
        "import category_encoders as ce"
      ],
      "execution_count": 47,
      "outputs": []
    },
    {
      "cell_type": "code",
      "metadata": {
        "id": "Zh9EktJfG0f1",
        "outputId": "1bb87d62-c7dd-40d3-97ae-6b6597c52a87",
        "colab": {
          "base_uri": "https://localhost:8080/"
        }
      },
      "source": [
        "pipeline = make_pipeline(\n",
        "    ce.OrdinalEncoder(), \n",
        "    RandomForestClassifier(max_depth = 30, n_estimators=100, random_state=42, n_jobs=-1)\n",
        "    )\n",
        "\n",
        "pipeline.fit(X_train, y_train)\n",
        "score_with = pipeline.score(X_val, y_val)\n",
        "print(f'Validation Accuracy: {score_with}')"
      ],
      "execution_count": 77,
      "outputs": [
        {
          "output_type": "stream",
          "text": [
            "Validation Accuracy: 0.6567307692307692\n"
          ],
          "name": "stdout"
        }
      ]
    },
    {
      "cell_type": "markdown",
      "metadata": {
        "id": "Qo82cWEdirF3"
      },
      "source": [
        "##(Default) feature umportances"
      ]
    },
    {
      "cell_type": "code",
      "metadata": {
        "id": "Hon_233Gij2v",
        "outputId": "d8cbe60b-f825-4ce0-9463-e6ca3e0f7c9e",
        "colab": {
          "base_uri": "https://localhost:8080/",
          "height": 607
        }
      },
      "source": [
        "rf = pipeline.named_steps['randomforestclassifier']\n",
        "importances = pd.Series(rf.feature_importances_, X_train.columns)\n",
        "\n",
        "n=20\n",
        "plt.figure(figsize=(10,n/2))\n",
        "plt.title(f'Top {n} features')\n",
        "importances.sort_values()[-n:].plot.barh(color='grey');"
      ],
      "execution_count": 78,
      "outputs": [
        {
          "output_type": "display_data",
          "data": {
            "image/png": "[encoded data removed]",
            "text/plain": [
              "<Figure size 720x720 with 1 Axes>"
            ]
          },
          "metadata": {
            "tags": [],
            "needs_background": "light"
          }
        }
      ]
    },
    {
      "cell_type": "markdown",
      "metadata": {
        "id": "BGr709b-1_2d"
      },
      "source": [
        "#Try xgboost."
      ]
    },
    {
      "cell_type": "code",
      "metadata": {
        "id": "D-Y3Mxus2GdC",
        "outputId": "9943d097-c71d-4ff5-fa5c-1e2884e4d7c8",
        "colab": {
          "base_uri": "https://localhost:8080/"
        }
      },
      "source": [
        "from xgboost import XGBClassifier\n",
        "\n",
        "pipeline = make_pipeline(\n",
        "    ce.OrdinalEncoder(), \n",
        "    XGBClassifier(n_estimators=100, random_state=42, n_jobs=-1)\n",
        "    )\n",
        "\n",
        "pipeline.fit(X_train, y_train)\n",
        "score_with = pipeline.score(X_val, y_val)\n",
        "print(f'Validation Accuracy: {score_with}')"
      ],
      "execution_count": 55,
      "outputs": [
        {
          "output_type": "stream",
          "text": [
            "Validation Accuracy: 0.5644230769230769\n"
          ],
          "name": "stdout"
        }
      ]
    },
    {
      "cell_type": "markdown",
      "metadata": {
        "id": "_q_ag48fghhl"
      },
      "source": [
        "###Early stopping of the model"
      ]
    },
    {
      "cell_type": "code",
      "metadata": {
        "id": "lt18EoezbPOv",
        "outputId": "361503ca-4977-42b8-f455-907696ed67ff",
        "colab": {
          "base_uri": "https://localhost:8080/"
        }
      },
      "source": [
        "encoder = ce.OrdinalEncoder()\n",
        "\n",
        "X_train_encoded = encoder.fit_transform(X_train)\n",
        "X_val_encoded = encoder.transform(X_val)\n",
        "\n",
        "model = XGBClassifier(\n",
        "    n_estimators = 1000, \n",
        "    max_depth = 7, \n",
        "    learning_rate = .2,\n",
        "    n_jobs = -1\n",
        ")\n",
        "\n",
        "eval_set = [(X_train_encoded, y_train), \n",
        "            (X_val_encoded, y_val)]\n",
        "\n",
        "model.fit(X_train_encoded, y_train, \n",
        "          eval_set=eval_set, \n",
        "          eval_metric='merror', \n",
        "          early_stopping_rounds=50)"
      ],
      "execution_count": 67,
      "outputs": [
        {
          "output_type": "stream",
          "text": [
            "[0]\tvalidation_0-merror:0.324032\tvalidation_1-merror:0.441346\n",
            "Multiple eval metrics have been passed: 'validation_1-merror' will be used for early stopping.\n",
            "\n",
            "Will train until validation_1-merror hasn't improved in 50 rounds.\n",
            "[1]\tvalidation_0-merror:0.29733\tvalidation_1-merror:0.439423\n",
            "[2]\tvalidation_0-merror:0.277123\tvalidation_1-merror:0.422115\n",
            "[3]\tvalidation_0-merror:0.255232\tvalidation_1-merror:0.428846\n",
            "[4]\tvalidation_0-merror:0.242483\tvalidation_1-merror:0.423077\n",
            "[5]\tvalidation_0-merror:0.233341\tvalidation_1-merror:0.424038\n",
            "[6]\tvalidation_0-merror:0.225162\tvalidation_1-merror:0.419231\n",
            "[7]\tvalidation_0-merror:0.216743\tvalidation_1-merror:0.419231\n",
            "[8]\tvalidation_0-merror:0.208804\tvalidation_1-merror:0.414423\n",
            "[9]\tvalidation_0-merror:0.203753\tvalidation_1-merror:0.411538\n",
            "[10]\tvalidation_0-merror:0.196295\tvalidation_1-merror:0.408654\n",
            "[11]\tvalidation_0-merror:0.187154\tvalidation_1-merror:0.399038\n",
            "[12]\tvalidation_0-merror:0.18114\tvalidation_1-merror:0.401923\n",
            "[13]\tvalidation_0-merror:0.173202\tvalidation_1-merror:0.398077\n",
            "[14]\tvalidation_0-merror:0.170556\tvalidation_1-merror:0.397115\n",
            "[15]\tvalidation_0-merror:0.164782\tvalidation_1-merror:0.398077\n",
            "[16]\tvalidation_0-merror:0.158768\tvalidation_1-merror:0.397115\n",
            "[17]\tvalidation_0-merror:0.1465\tvalidation_1-merror:0.390385\n",
            "[18]\tvalidation_0-merror:0.144816\tvalidation_1-merror:0.396154\n",
            "[19]\tvalidation_0-merror:0.141689\tvalidation_1-merror:0.393269\n",
            "[20]\tvalidation_0-merror:0.133029\tvalidation_1-merror:0.391346\n",
            "[21]\tvalidation_0-merror:0.131345\tvalidation_1-merror:0.390385\n",
            "[22]\tvalidation_0-merror:0.128699\tvalidation_1-merror:0.388462\n",
            "[23]\tvalidation_0-merror:0.123166\tvalidation_1-merror:0.3875\n",
            "[24]\tvalidation_0-merror:0.117873\tvalidation_1-merror:0.389423\n",
            "[25]\tvalidation_0-merror:0.112341\tvalidation_1-merror:0.3875\n",
            "[26]\tvalidation_0-merror:0.109935\tvalidation_1-merror:0.3875\n",
            "[27]\tvalidation_0-merror:0.107048\tvalidation_1-merror:0.388462\n",
            "[28]\tvalidation_0-merror:0.103921\tvalidation_1-merror:0.388462\n",
            "[29]\tvalidation_0-merror:0.100794\tvalidation_1-merror:0.386538\n",
            "[30]\tvalidation_0-merror:0.094299\tvalidation_1-merror:0.383654\n",
            "[31]\tvalidation_0-merror:0.089969\tvalidation_1-merror:0.380769\n",
            "[32]\tvalidation_0-merror:0.087323\tvalidation_1-merror:0.376923\n",
            "[33]\tvalidation_0-merror:0.086601\tvalidation_1-merror:0.375\n",
            "[34]\tvalidation_0-merror:0.083955\tvalidation_1-merror:0.375\n",
            "[35]\tvalidation_0-merror:0.081309\tvalidation_1-merror:0.376923\n",
            "[36]\tvalidation_0-merror:0.076016\tvalidation_1-merror:0.372115\n",
            "[37]\tvalidation_0-merror:0.075054\tvalidation_1-merror:0.371154\n",
            "[38]\tvalidation_0-merror:0.07313\tvalidation_1-merror:0.367308\n",
            "[39]\tvalidation_0-merror:0.069281\tvalidation_1-merror:0.375\n",
            "[40]\tvalidation_0-merror:0.066394\tvalidation_1-merror:0.370192\n",
            "[41]\tvalidation_0-merror:0.065191\tvalidation_1-merror:0.368269\n",
            "[42]\tvalidation_0-merror:0.062064\tvalidation_1-merror:0.365385\n",
            "[43]\tvalidation_0-merror:0.060861\tvalidation_1-merror:0.363462\n",
            "[44]\tvalidation_0-merror:0.06014\tvalidation_1-merror:0.359615\n",
            "[45]\tvalidation_0-merror:0.058215\tvalidation_1-merror:0.360577\n",
            "[46]\tvalidation_0-merror:0.056772\tvalidation_1-merror:0.360577\n",
            "[47]\tvalidation_0-merror:0.052442\tvalidation_1-merror:0.354808\n",
            "[48]\tvalidation_0-merror:0.051239\tvalidation_1-merror:0.356731\n",
            "[49]\tvalidation_0-merror:0.049314\tvalidation_1-merror:0.352885\n",
            "[50]\tvalidation_0-merror:0.048593\tvalidation_1-merror:0.354808\n",
            "[51]\tvalidation_0-merror:0.046428\tvalidation_1-merror:0.356731\n",
            "[52]\tvalidation_0-merror:0.044022\tvalidation_1-merror:0.359615\n",
            "[53]\tvalidation_0-merror:0.041617\tvalidation_1-merror:0.360577\n",
            "[54]\tvalidation_0-merror:0.039933\tvalidation_1-merror:0.357692\n",
            "[55]\tvalidation_0-merror:0.03873\tvalidation_1-merror:0.357692\n",
            "[56]\tvalidation_0-merror:0.038008\tvalidation_1-merror:0.354808\n",
            "[57]\tvalidation_0-merror:0.037046\tvalidation_1-merror:0.355769\n",
            "[58]\tvalidation_0-merror:0.036084\tvalidation_1-merror:0.355769\n",
            "[59]\tvalidation_0-merror:0.036324\tvalidation_1-merror:0.353846\n",
            "[60]\tvalidation_0-merror:0.034159\tvalidation_1-merror:0.352885\n",
            "[61]\tvalidation_0-merror:0.030791\tvalidation_1-merror:0.347115\n",
            "[62]\tvalidation_0-merror:0.031032\tvalidation_1-merror:0.348077\n",
            "[63]\tvalidation_0-merror:0.030551\tvalidation_1-merror:0.349038\n",
            "[64]\tvalidation_0-merror:0.029108\tvalidation_1-merror:0.35\n",
            "[65]\tvalidation_0-merror:0.029108\tvalidation_1-merror:0.35\n",
            "[66]\tvalidation_0-merror:0.027424\tvalidation_1-merror:0.35\n",
            "[67]\tvalidation_0-merror:0.023575\tvalidation_1-merror:0.349038\n",
            "[68]\tvalidation_0-merror:0.020688\tvalidation_1-merror:0.352885\n",
            "[69]\tvalidation_0-merror:0.020688\tvalidation_1-merror:0.351923\n",
            "[70]\tvalidation_0-merror:0.019966\tvalidation_1-merror:0.351923\n",
            "[71]\tvalidation_0-merror:0.019726\tvalidation_1-merror:0.352885\n",
            "[72]\tvalidation_0-merror:0.01708\tvalidation_1-merror:0.352885\n",
            "[73]\tvalidation_0-merror:0.016599\tvalidation_1-merror:0.351923\n",
            "[74]\tvalidation_0-merror:0.015636\tvalidation_1-merror:0.354808\n",
            "[75]\tvalidation_0-merror:0.014674\tvalidation_1-merror:0.352885\n",
            "[76]\tvalidation_0-merror:0.014433\tvalidation_1-merror:0.352885\n",
            "[77]\tvalidation_0-merror:0.013952\tvalidation_1-merror:0.35\n",
            "[78]\tvalidation_0-merror:0.013712\tvalidation_1-merror:0.350962\n",
            "[79]\tvalidation_0-merror:0.012509\tvalidation_1-merror:0.350962\n",
            "[80]\tvalidation_0-merror:0.011306\tvalidation_1-merror:0.349038\n",
            "[81]\tvalidation_0-merror:0.010825\tvalidation_1-merror:0.348077\n",
            "[82]\tvalidation_0-merror:0.010585\tvalidation_1-merror:0.347115\n",
            "[83]\tvalidation_0-merror:0.009863\tvalidation_1-merror:0.347115\n",
            "[84]\tvalidation_0-merror:0.009141\tvalidation_1-merror:0.345192\n",
            "[85]\tvalidation_0-merror:0.00866\tvalidation_1-merror:0.344231\n",
            "[86]\tvalidation_0-merror:0.008901\tvalidation_1-merror:0.346154\n",
            "[87]\tvalidation_0-merror:0.008901\tvalidation_1-merror:0.343269\n",
            "[88]\tvalidation_0-merror:0.008179\tvalidation_1-merror:0.342308\n",
            "[89]\tvalidation_0-merror:0.008179\tvalidation_1-merror:0.345192\n",
            "[90]\tvalidation_0-merror:0.007938\tvalidation_1-merror:0.344231\n",
            "[91]\tvalidation_0-merror:0.007698\tvalidation_1-merror:0.344231\n",
            "[92]\tvalidation_0-merror:0.007938\tvalidation_1-merror:0.343269\n",
            "[93]\tvalidation_0-merror:0.007938\tvalidation_1-merror:0.342308\n",
            "[94]\tvalidation_0-merror:0.007457\tvalidation_1-merror:0.342308\n",
            "[95]\tvalidation_0-merror:0.007217\tvalidation_1-merror:0.341346\n",
            "[96]\tvalidation_0-merror:0.006976\tvalidation_1-merror:0.342308\n",
            "[97]\tvalidation_0-merror:0.006495\tvalidation_1-merror:0.341346\n",
            "[98]\tvalidation_0-merror:0.006495\tvalidation_1-merror:0.342308\n",
            "[99]\tvalidation_0-merror:0.006495\tvalidation_1-merror:0.341346\n",
            "[100]\tvalidation_0-merror:0.006495\tvalidation_1-merror:0.343269\n",
            "[101]\tvalidation_0-merror:0.006255\tvalidation_1-merror:0.343269\n",
            "[102]\tvalidation_0-merror:0.006255\tvalidation_1-merror:0.344231\n",
            "[103]\tvalidation_0-merror:0.006255\tvalidation_1-merror:0.340385\n",
            "[104]\tvalidation_0-merror:0.005773\tvalidation_1-merror:0.340385\n",
            "[105]\tvalidation_0-merror:0.005773\tvalidation_1-merror:0.340385\n",
            "[106]\tvalidation_0-merror:0.00433\tvalidation_1-merror:0.333654\n",
            "[107]\tvalidation_0-merror:0.003849\tvalidation_1-merror:0.332692\n",
            "[108]\tvalidation_0-merror:0.003849\tvalidation_1-merror:0.3375\n",
            "[109]\tvalidation_0-merror:0.003849\tvalidation_1-merror:0.335577\n",
            "[110]\tvalidation_0-merror:0.003608\tvalidation_1-merror:0.335577\n",
            "[111]\tvalidation_0-merror:0.003608\tvalidation_1-merror:0.336538\n",
            "[112]\tvalidation_0-merror:0.003849\tvalidation_1-merror:0.336538\n",
            "[113]\tvalidation_0-merror:0.003849\tvalidation_1-merror:0.336538\n",
            "[114]\tvalidation_0-merror:0.003849\tvalidation_1-merror:0.334615\n",
            "[115]\tvalidation_0-merror:0.003608\tvalidation_1-merror:0.334615\n",
            "[116]\tvalidation_0-merror:0.003608\tvalidation_1-merror:0.334615\n",
            "[117]\tvalidation_0-merror:0.003127\tvalidation_1-merror:0.333654\n",
            "[118]\tvalidation_0-merror:0.003127\tvalidation_1-merror:0.332692\n",
            "[119]\tvalidation_0-merror:0.003127\tvalidation_1-merror:0.3375\n",
            "[120]\tvalidation_0-merror:0.002165\tvalidation_1-merror:0.338462\n",
            "[121]\tvalidation_0-merror:0.001924\tvalidation_1-merror:0.338462\n",
            "[122]\tvalidation_0-merror:0.001924\tvalidation_1-merror:0.3375\n",
            "[123]\tvalidation_0-merror:0.001684\tvalidation_1-merror:0.338462\n",
            "[124]\tvalidation_0-merror:0.001684\tvalidation_1-merror:0.3375\n",
            "[125]\tvalidation_0-merror:0.001203\tvalidation_1-merror:0.341346\n",
            "[126]\tvalidation_0-merror:0.000962\tvalidation_1-merror:0.338462\n",
            "[127]\tvalidation_0-merror:0.000962\tvalidation_1-merror:0.342308\n",
            "[128]\tvalidation_0-merror:0.000962\tvalidation_1-merror:0.343269\n",
            "[129]\tvalidation_0-merror:0.000962\tvalidation_1-merror:0.343269\n",
            "[130]\tvalidation_0-merror:0.000722\tvalidation_1-merror:0.343269\n",
            "[131]\tvalidation_0-merror:0.000722\tvalidation_1-merror:0.341346\n",
            "[132]\tvalidation_0-merror:0.000722\tvalidation_1-merror:0.342308\n",
            "[133]\tvalidation_0-merror:0.000722\tvalidation_1-merror:0.343269\n",
            "[134]\tvalidation_0-merror:0.000722\tvalidation_1-merror:0.342308\n",
            "[135]\tvalidation_0-merror:0.000722\tvalidation_1-merror:0.341346\n",
            "[136]\tvalidation_0-merror:0.000722\tvalidation_1-merror:0.341346\n",
            "[137]\tvalidation_0-merror:0.000722\tvalidation_1-merror:0.343269\n",
            "[138]\tvalidation_0-merror:0.000722\tvalidation_1-merror:0.344231\n",
            "[139]\tvalidation_0-merror:0.000722\tvalidation_1-merror:0.343269\n",
            "[140]\tvalidation_0-merror:0.000722\tvalidation_1-merror:0.341346\n",
            "[141]\tvalidation_0-merror:0.000481\tvalidation_1-merror:0.341346\n",
            "[142]\tvalidation_0-merror:0.000481\tvalidation_1-merror:0.342308\n",
            "[143]\tvalidation_0-merror:0.000481\tvalidation_1-merror:0.339423\n",
            "[144]\tvalidation_0-merror:0.000481\tvalidation_1-merror:0.340385\n",
            "[145]\tvalidation_0-merror:0.000481\tvalidation_1-merror:0.342308\n",
            "[146]\tvalidation_0-merror:0.000241\tvalidation_1-merror:0.341346\n",
            "[147]\tvalidation_0-merror:0.000241\tvalidation_1-merror:0.343269\n",
            "[148]\tvalidation_0-merror:0.000241\tvalidation_1-merror:0.343269\n",
            "[149]\tvalidation_0-merror:0.000241\tvalidation_1-merror:0.344231\n",
            "[150]\tvalidation_0-merror:0.000241\tvalidation_1-merror:0.343269\n",
            "[151]\tvalidation_0-merror:0.000241\tvalidation_1-merror:0.343269\n",
            "[152]\tvalidation_0-merror:0.000241\tvalidation_1-merror:0.344231\n",
            "[153]\tvalidation_0-merror:0.000241\tvalidation_1-merror:0.346154\n",
            "[154]\tvalidation_0-merror:0.000241\tvalidation_1-merror:0.344231\n",
            "[155]\tvalidation_0-merror:0\tvalidation_1-merror:0.346154\n",
            "[156]\tvalidation_0-merror:0\tvalidation_1-merror:0.343269\n",
            "[157]\tvalidation_0-merror:0\tvalidation_1-merror:0.346154\n",
            "Stopping. Best iteration:\n",
            "[107]\tvalidation_0-merror:0.003849\tvalidation_1-merror:0.332692\n",
            "\n"
          ],
          "name": "stdout"
        },
        {
          "output_type": "execute_result",
          "data": {
            "text/plain": [
              "XGBClassifier(base_score=0.5, booster='gbtree', colsample_bylevel=1,\n",
              "              colsample_bynode=1, colsample_bytree=1, gamma=0,\n",
              "              learning_rate=0.2, max_delta_step=0, max_depth=7,\n",
              "              min_child_weight=1, missing=None, n_estimators=1000, n_jobs=-1,\n",
              "              nthread=None, objective='multi:softprob', random_state=0,\n",
              "              reg_alpha=0, reg_lambda=1, scale_pos_weight=1, seed=None,\n",
              "              silent=None, subsample=1, verbosity=1)"
            ]
          },
          "metadata": {
            "tags": []
          },
          "execution_count": 67
        }
      ]
    },
    {
      "cell_type": "code",
      "metadata": {
        "id": "SLup1OXwbPKF",
        "outputId": "1b8b5997-b9d6-4e4c-fd67-4cf8f8be6de0",
        "colab": {
          "base_uri": "https://localhost:8080/",
          "height": 296
        }
      },
      "source": [
        "results = model.evals_result()\n",
        "train_error = results['validation_0']['merror']\n",
        "val_error = results['validation_1']['merror']\n",
        "epoch = list(range(1, len(train_error)+1))\n",
        "plt.plot(epoch, train_error, label='Train')\n",
        "plt.plot(epoch, val_error, label='Validation')\n",
        "plt.ylabel('Classification Error')\n",
        "plt.xlabel('Model Complexity (n_estimators)')\n",
        "plt.title('Validation Curve for this XGBoost model')\n",
        "#plt.ylim((0.18, 0.22)) # Zoom in\n",
        "plt.legend();"
      ],
      "execution_count": 60,
      "outputs": [
        {
          "output_type": "display_data",
          "data": {
            "image/png": "[encoded data removed]",
            "text/plain": [
              "<Figure size 432x288 with 1 Axes>"
            ]
          },
          "metadata": {
            "tags": [],
            "needs_background": "light"
          }
        }
      ]
    },
    {
      "cell_type": "code",
      "metadata": {
        "id": "CoGohuzocoO5",
        "outputId": "a59bcfc4-cc0e-4755-e3a4-19b22a9d820d",
        "colab": {
          "base_uri": "https://localhost:8080/"
        }
      },
      "source": [
        "# do i need to try regression model ar try ajusting classes?\n",
        "score_with = model.score(X_val_encoded, y_val)\n",
        "print(f'Validation Accuracy: {score_with}')"
      ],
      "execution_count": 68,
      "outputs": [
        {
          "output_type": "stream",
          "text": [
            "Validation Accuracy: 0.6673076923076923\n"
          ],
          "name": "stdout"
        }
      ]
    },
    {
      "cell_type": "markdown",
      "metadata": {
        "id": "Qlh0GUPr2QHH"
      },
      "source": [
        "#Get your model's permutation importances."
      ]
    },
    {
      "cell_type": "code",
      "metadata": {
        "id": "DBd4zAla2Ja2",
        "outputId": "150985d8-5c4c-40b3-9017-66c1bc5750f7",
        "colab": {
          "base_uri": "https://localhost:8080/"
        }
      },
      "source": [
        "!pip install eli5\n",
        "import eli5\n",
        "from eli5.sklearn import PermutationImportance"
      ],
      "execution_count": 71,
      "outputs": [
        {
          "output_type": "stream",
          "text": [
            "Requirement already satisfied: eli5 in /usr/local/lib/python3.6/dist-packages (0.10.1)\n",
            "Requirement already satisfied: scikit-learn>=0.18 in /usr/local/lib/python3.6/dist-packages (from eli5) (0.22.2.post1)\n",
            "Requirement already satisfied: numpy>=1.9.0 in /usr/local/lib/python3.6/dist-packages (from eli5) (1.18.5)\n",
            "Requirement already satisfied: six in /usr/local/lib/python3.6/dist-packages (from eli5) (1.15.0)\n",
            "Requirement already satisfied: tabulate>=0.7.7 in /usr/local/lib/python3.6/dist-packages (from eli5) (0.8.7)\n",
            "Requirement already satisfied: graphviz in /usr/local/lib/python3.6/dist-packages (from eli5) (0.10.1)\n",
            "Requirement already satisfied: jinja2 in /usr/local/lib/python3.6/dist-packages (from eli5) (2.11.2)\n",
            "Requirement already satisfied: scipy in /usr/local/lib/python3.6/dist-packages (from eli5) (1.4.1)\n",
            "Requirement already satisfied: attrs>16.0.0 in /usr/local/lib/python3.6/dist-packages (from eli5) (20.2.0)\n",
            "Requirement already satisfied: joblib>=0.11 in /usr/local/lib/python3.6/dist-packages (from scikit-learn>=0.18->eli5) (0.16.0)\n",
            "Requirement already satisfied: MarkupSafe>=0.23 in /usr/local/lib/python3.6/dist-packages (from jinja2->eli5) (1.1.1)\n"
          ],
          "name": "stdout"
        }
      ]
    },
    {
      "cell_type": "code",
      "metadata": {
        "id": "8Ibq3pLZhNvv",
        "outputId": "86a29b91-0159-450a-dfa0-e2aeb4cb95a8",
        "colab": {
          "base_uri": "https://localhost:8080/"
        }
      },
      "source": [
        "permuter = PermutationImportance(\n",
        "    model,\n",
        "    scoring = 'accuracy',\n",
        "    n_iter=5, \n",
        "    random_state=42\n",
        ")\n",
        "\n",
        "permuter.fit(X_val_encoded, y_val)"
      ],
      "execution_count": 72,
      "outputs": [
        {
          "output_type": "execute_result",
          "data": {
            "text/plain": [
              "PermutationImportance(cv='prefit',\n",
              "                      estimator=XGBClassifier(base_score=0.5, booster='gbtree',\n",
              "                                              colsample_bylevel=1,\n",
              "                                              colsample_bynode=1,\n",
              "                                              colsample_bytree=1, gamma=0,\n",
              "                                              learning_rate=0.2,\n",
              "                                              max_delta_step=0, max_depth=7,\n",
              "                                              min_child_weight=1, missing=None,\n",
              "                                              n_estimators=1000, n_jobs=-1,\n",
              "                                              nthread=None,\n",
              "                                              objective='multi:softprob',\n",
              "                                              random_state=0, reg_alpha=0,\n",
              "                                              reg_lambda=1, scale_pos_weight=1,\n",
              "                                              seed=None, silent=None,\n",
              "                                              subsample=1, verbosity=1),\n",
              "                      n_iter=5, random_state=42, refit=True,\n",
              "                      scoring='accuracy')"
            ]
          },
          "metadata": {
            "tags": []
          },
          "execution_count": 72
        }
      ]
    },
    {
      "cell_type": "code",
      "metadata": {
        "id": "Ko7pz8vfhi__",
        "outputId": "d6b260bc-0fbf-401f-f52e-4e52bc9e67d1",
        "colab": {
          "base_uri": "https://localhost:8080/"
        }
      },
      "source": [
        "feature_names = X_val_encoded.columns.tolist()\n",
        "pd.Series(permuter.feature_importances_, feature_names).sort_values()"
      ],
      "execution_count": 75,
      "outputs": [
        {
          "output_type": "execute_result",
          "data": {
            "text/plain": [
              "color                   0.002115\n",
              "fixed acidity           0.021731\n",
              "citric acid             0.039038\n",
              "pH                      0.040385\n",
              "chlorides               0.043462\n",
              "residual sugar          0.052308\n",
              "free sulfur dioxide     0.054231\n",
              "density                 0.057115\n",
              "sulphates               0.060385\n",
              "total sulfur dioxide    0.062115\n",
              "volatile acidity        0.088462\n",
              "alcohol                 0.115577\n",
              "dtype: float64"
            ]
          },
          "metadata": {
            "tags": []
          },
          "execution_count": 75
        }
      ]
    },
    {
      "cell_type": "code",
      "metadata": {
        "id": "-szMnIYBh3Ij",
        "outputId": "a1fd74f3-190b-4858-e00c-b1568381ddc3",
        "colab": {
          "base_uri": "https://localhost:8080/",
          "height": 238
        }
      },
      "source": [
        "eli5.show_weights(\n",
        "    permuter,\n",
        "    top = None,\n",
        "    feature_names = feature_names\n",
        ")"
      ],
      "execution_count": 76,
      "outputs": [
        {
          "output_type": "execute_result",
          "data": {
            "text/html": [
              "\n",
              "    <style>\n",
              "    table.eli5-weights tr:hover {\n",
              "        filter: brightness(85%);\n",
              "    }\n",
              "</style>\n",
              "\n",
              "\n",
              "\n",
              "    \n",
              "\n",
              "    \n",
              "\n",
              "    \n",
              "\n",
              "    \n",
              "\n",
              "    \n",
              "\n",
              "    \n",
              "\n",
              "\n",
              "    \n",
              "\n",
              "    \n",
              "\n",
              "    \n",
              "\n",
              "    \n",
              "\n",
              "    \n",
              "\n",
              "    \n",
              "\n",
              "\n",
              "    \n",
              "\n",
              "    \n",
              "\n",
              "    \n",
              "\n",
              "    \n",
              "\n",
              "    \n",
              "        <table class=\"eli5-weights eli5-feature-importances\" style=\"border-collapse: collapse; border: none; margin-top: 0em; table-layout: auto;\">\n",
              "    <thead>\n",
              "    <tr style=\"border: none;\">\n",
              "        <th style=\"padding: 0 1em 0 0.5em; text-align: right; border: none;\">Weight</th>\n",
              "        <th style=\"padding: 0 0.5em 0 0.5em; text-align: left; border: none;\">Feature</th>\n",
              "    </tr>\n",
              "    </thead>\n",
              "    <tbody>\n",
              "    \n",
              "        <tr style=\"background-color: hsl(120, 100.00%, 80.00%); border: none;\">\n",
              "            <td style=\"padding: 0 1em 0 0.5em; text-align: right; border: none;\">\n",
              "                0.1156\n",
              "                \n",
              "                    &plusmn; 0.0181\n",
              "                \n",
              "            </td>\n",
              "            <td style=\"padding: 0 0.5em 0 0.5em; text-align: left; border: none;\">\n",
              "                alcohol\n",
              "            </td>\n",
              "        </tr>\n",
              "    \n",
              "        <tr style=\"background-color: hsl(120, 100.00%, 83.41%); border: none;\">\n",
              "            <td style=\"padding: 0 1em 0 0.5em; text-align: right; border: none;\">\n",
              "                0.0885\n",
              "                \n",
              "                    &plusmn; 0.0202\n",
              "                \n",
              "            </td>\n",
              "            <td style=\"padding: 0 0.5em 0 0.5em; text-align: left; border: none;\">\n",
              "                volatile acidity\n",
              "            </td>\n",
              "        </tr>\n",
              "    \n",
              "        <tr style=\"background-color: hsl(120, 100.00%, 87.05%); border: none;\">\n",
              "            <td style=\"padding: 0 1em 0 0.5em; text-align: right; border: none;\">\n",
              "                0.0621\n",
              "                \n",
              "                    &plusmn; 0.0106\n",
              "                \n",
              "            </td>\n",
              "            <td style=\"padding: 0 0.5em 0 0.5em; text-align: left; border: none;\">\n",
              "                total sulfur dioxide\n",
              "            </td>\n",
              "        </tr>\n",
              "    \n",
              "        <tr style=\"background-color: hsl(120, 100.00%, 87.30%); border: none;\">\n",
              "            <td style=\"padding: 0 1em 0 0.5em; text-align: right; border: none;\">\n",
              "                0.0604\n",
              "                \n",
              "                    &plusmn; 0.0234\n",
              "                \n",
              "            </td>\n",
              "            <td style=\"padding: 0 0.5em 0 0.5em; text-align: left; border: none;\">\n",
              "                sulphates\n",
              "            </td>\n",
              "        </tr>\n",
              "    \n",
              "        <tr style=\"background-color: hsl(120, 100.00%, 87.79%); border: none;\">\n",
              "            <td style=\"padding: 0 1em 0 0.5em; text-align: right; border: none;\">\n",
              "                0.0571\n",
              "                \n",
              "                    &plusmn; 0.0134\n",
              "                \n",
              "            </td>\n",
              "            <td style=\"padding: 0 0.5em 0 0.5em; text-align: left; border: none;\">\n",
              "                density\n",
              "            </td>\n",
              "        </tr>\n",
              "    \n",
              "        <tr style=\"background-color: hsl(120, 100.00%, 88.22%); border: none;\">\n",
              "            <td style=\"padding: 0 1em 0 0.5em; text-align: right; border: none;\">\n",
              "                0.0542\n",
              "                \n",
              "                    &plusmn; 0.0093\n",
              "                \n",
              "            </td>\n",
              "            <td style=\"padding: 0 0.5em 0 0.5em; text-align: left; border: none;\">\n",
              "                free sulfur dioxide\n",
              "            </td>\n",
              "        </tr>\n",
              "    \n",
              "        <tr style=\"background-color: hsl(120, 100.00%, 88.52%); border: none;\">\n",
              "            <td style=\"padding: 0 1em 0 0.5em; text-align: right; border: none;\">\n",
              "                0.0523\n",
              "                \n",
              "                    &plusmn; 0.0083\n",
              "                \n",
              "            </td>\n",
              "            <td style=\"padding: 0 0.5em 0 0.5em; text-align: left; border: none;\">\n",
              "                residual sugar\n",
              "            </td>\n",
              "        </tr>\n",
              "    \n",
              "        <tr style=\"background-color: hsl(120, 100.00%, 89.91%); border: none;\">\n",
              "            <td style=\"padding: 0 1em 0 0.5em; text-align: right; border: none;\">\n",
              "                0.0435\n",
              "                \n",
              "                    &plusmn; 0.0116\n",
              "                \n",
              "            </td>\n",
              "            <td style=\"padding: 0 0.5em 0 0.5em; text-align: left; border: none;\">\n",
              "                chlorides\n",
              "            </td>\n",
              "        </tr>\n",
              "    \n",
              "        <tr style=\"background-color: hsl(120, 100.00%, 90.42%); border: none;\">\n",
              "            <td style=\"padding: 0 1em 0 0.5em; text-align: right; border: none;\">\n",
              "                0.0404\n",
              "                \n",
              "                    &plusmn; 0.0089\n",
              "                \n",
              "            </td>\n",
              "            <td style=\"padding: 0 0.5em 0 0.5em; text-align: left; border: none;\">\n",
              "                pH\n",
              "            </td>\n",
              "        </tr>\n",
              "    \n",
              "        <tr style=\"background-color: hsl(120, 100.00%, 90.64%); border: none;\">\n",
              "            <td style=\"padding: 0 1em 0 0.5em; text-align: right; border: none;\">\n",
              "                0.0390\n",
              "                \n",
              "                    &plusmn; 0.0191\n",
              "                \n",
              "            </td>\n",
              "            <td style=\"padding: 0 0.5em 0 0.5em; text-align: left; border: none;\">\n",
              "                citric acid\n",
              "            </td>\n",
              "        </tr>\n",
              "    \n",
              "        <tr style=\"background-color: hsl(120, 100.00%, 93.79%); border: none;\">\n",
              "            <td style=\"padding: 0 1em 0 0.5em; text-align: right; border: none;\">\n",
              "                0.0217\n",
              "                \n",
              "                    &plusmn; 0.0065\n",
              "                \n",
              "            </td>\n",
              "            <td style=\"padding: 0 0.5em 0 0.5em; text-align: left; border: none;\">\n",
              "                fixed acidity\n",
              "            </td>\n",
              "        </tr>\n",
              "    \n",
              "        <tr style=\"background-color: hsl(120, 100.00%, 98.78%); border: none;\">\n",
              "            <td style=\"padding: 0 1em 0 0.5em; text-align: right; border: none;\">\n",
              "                0.0021\n",
              "                \n",
              "                    &plusmn; 0.0014\n",
              "                \n",
              "            </td>\n",
              "            <td style=\"padding: 0 0.5em 0 0.5em; text-align: left; border: none;\">\n",
              "                color\n",
              "            </td>\n",
              "        </tr>\n",
              "    \n",
              "    \n",
              "    </tbody>\n",
              "</table>\n",
              "    \n",
              "\n",
              "    \n",
              "\n",
              "\n",
              "    \n",
              "\n",
              "    \n",
              "\n",
              "    \n",
              "\n",
              "    \n",
              "\n",
              "    \n",
              "\n",
              "    \n",
              "\n",
              "\n",
              "\n"
            ],
            "text/plain": [
              "<IPython.core.display.HTML object>"
            ]
          },
          "metadata": {
            "tags": []
          },
          "execution_count": 76
        }
      ]
    }
  ]
}