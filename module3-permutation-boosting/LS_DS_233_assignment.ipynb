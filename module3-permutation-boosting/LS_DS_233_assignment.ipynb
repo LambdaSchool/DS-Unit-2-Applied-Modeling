{
  "nbformat": 4,
  "nbformat_minor": 0,
  "metadata": {
    "kernelspec": {
      "display_name": "Python 3",
      "language": "python",
      "name": "python3"
    },
    "language_info": {
      "codemirror_mode": {
        "name": "ipython",
        "version": 3
      },
      "file_extension": ".py",
      "mimetype": "text/x-python",
      "name": "python",
      "nbconvert_exporter": "python",
      "pygments_lexer": "ipython3",
      "version": "3.7.3"
    },
    "colab": {
      "name": "LS_DS_233_assignment.ipynb",
      "provenance": [],
      "include_colab_link": true
    }
  },
  "cells": [
    {
      "cell_type": "markdown",
      "metadata": {
        "id": "view-in-github",
        "colab_type": "text"
      },
      "source": [
        "<a href=\"https://colab.research.google.com/github/austiezr/DS-Unit-2-Applied-Modeling/blob/master/module3-permutation-boosting/LS_DS_233_assignment.ipynb\" target=\"_parent\"><img src=\"https://colab.research.google.com/assets/colab-badge.svg\" alt=\"Open In Colab\"/></a>"
      ]
    },
    {
      "cell_type": "markdown",
      "metadata": {
        "colab_type": "text",
        "id": "1vm_oif7Sog8"
      },
      "source": [
        "Lambda School Data Science\n",
        "\n",
        "*Unit 2, Sprint 3, Module 3*\n",
        "\n",
        "---\n",
        "\n",
        "\n",
        "# Permutation & Boosting\n",
        "\n",
        "You will use your portfolio project dataset for all assignments this sprint.\n",
        "\n",
        "## Assignment\n",
        "\n",
        "Complete these tasks for your project, and document your work.\n",
        "\n",
        "- [x] If you haven't completed assignment #1, please do so first.\n",
        "- [x] Continue to clean and explore your data. Make exploratory visualizations.\n",
        "- [x] Fit a model. Does it beat your baseline? \n",
        "- [x] Try xgboost.\n",
        "- [x] Get your model's permutation importances.\n",
        "\n",
        "You should try to complete an initial model today, because the rest of the week, we're making model interpretation visualizations.\n",
        "\n",
        "But, if you aren't ready to try xgboost and permutation importances with your dataset today, that's okay. You can practice with another dataset instead. You may choose any dataset you've worked with previously.\n",
        "\n",
        "The data subdirectory includes the Titanic dataset for classification and the NYC apartments dataset for regression. You may want to choose one of these datasets, because example solutions will be available for each.\n",
        "\n",
        "\n",
        "## Reading\n",
        "\n",
        "Top recommendations in _**bold italic:**_\n",
        "\n",
        "#### Permutation Importances\n",
        "- _**[Kaggle / Dan Becker: Machine Learning Explainability](https://www.kaggle.com/dansbecker/permutation-importance)**_\n",
        "- [Christoph Molnar: Interpretable Machine Learning](https://christophm.github.io/interpretable-ml-book/feature-importance.html)\n",
        "\n",
        "#### (Default) Feature Importances\n",
        "  - [Ando Saabas: Selecting good features, Part 3, Random Forests](https://blog.datadive.net/selecting-good-features-part-iii-random-forests/)\n",
        "  - [Terence Parr, et al: Beware Default Random Forest Importances](https://explained.ai/rf-importance/index.html)\n",
        "\n",
        "#### Gradient Boosting\n",
        "  - [A Gentle Introduction to the Gradient Boosting Algorithm for Machine Learning](https://machinelearningmastery.com/gentle-introduction-gradient-boosting-algorithm-machine-learning/)\n",
        "  - _**[A Kaggle Master Explains Gradient Boosting](http://blog.kaggle.com/2017/01/23/a-kaggle-master-explains-gradient-boosting/)**_\n",
        "  - [_An Introduction to Statistical Learning_](http://www-bcf.usc.edu/~gareth/ISL/ISLR%20Seventh%20Printing.pdf) Chapter 8\n",
        "  - [Gradient Boosting Explained](http://arogozhnikov.github.io/2016/06/24/gradient_boosting_explained.html)\n",
        "  - _**[Boosting](https://www.youtube.com/watch?v=GM3CDQfQ4sw) (2.5 minute video)**_"
      ]
    },
    {
      "cell_type": "code",
      "metadata": {
        "id": "--KuZUXDPc6v",
        "colab_type": "code",
        "colab": {}
      },
      "source": [
        "%%capture\n",
        "\n",
        "!pip3 install category_encoders\n",
        "!pip3 install pandas-profiling\n",
        "!pip3 install xgboost\n",
        "import pandas_profiling\n",
        "import pandas as pd\n",
        "import numpy as np\n",
        "import seaborn as sns\n",
        "import matplotlib.pyplot as plt\n",
        "from sklearn.model_selection import train_test_split\n",
        "from sklearn.pipeline import make_pipeline\n",
        "from category_encoders import OrdinalEncoder, OneHotEncoder, TargetEncoder\n",
        "from sklearn.ensemble import RandomForestClassifier, RandomForestRegressor\n",
        "from sklearn.feature_selection import SelectKBest, mutual_info_classif, mutual_info_regression, f_classif\n",
        "from scipy.stats import randint, uniform\n",
        "from sklearn.model_selection import RandomizedSearchCV\n",
        "from sklearn.linear_model import RidgeClassifierCV, LogisticRegressionCV\n",
        "from sklearn.preprocessing import StandardScaler\n",
        "from sklearn.svm import SVC\n",
        "from sklearn.metrics import confusion_matrix, plot_confusion_matrix\n",
        "from sklearn.experimental import enable_iterative_imputer\n",
        "from sklearn.impute import SimpleImputer, IterativeImputer\n",
        "from sklearn.decomposition import PCA\n",
        "from xgboost import XGBClassifier, DMatrix\n",
        "from sys import maxsize"
      ],
      "execution_count": 0,
      "outputs": []
    },
    {
      "cell_type": "markdown",
      "metadata": {
        "id": "UoiwnFo8QEEb",
        "colab_type": "text"
      },
      "source": [
        "## Load Data"
      ]
    },
    {
      "cell_type": "code",
      "metadata": {
        "id": "BsvCq12YPdr9",
        "colab_type": "code",
        "colab": {}
      },
      "source": [
        "df = pd.read_csv('/Users/austie/Downloads/student/student-mat.csv', sep=';')\n",
        "df1 = pd.read_csv('/Users/austie/Downloads/student/student-por.csv', sep=';')\n",
        "df = df.append(df1, ignore_index=True)"
      ],
      "execution_count": 0,
      "outputs": []
    },
    {
      "cell_type": "code",
      "metadata": {
        "id": "X3WNjjh9PKLg",
        "colab_type": "code",
        "outputId": "0a0f7aa1-0333-4257-f718-332e274cc3be",
        "colab": {
          "base_uri": "https://localhost:8080/",
          "height": 227
        }
      },
      "source": [
        "df.head()"
      ],
      "execution_count": 3,
      "outputs": [
        {
          "output_type": "execute_result",
          "data": {
            "text/plain": [
              "  school sex  age address famsize Pstatus  Medu  Fedu     Mjob      Fjob  ...  \\\n",
              "0     GP   F   18       U     GT3       A     4     4  at_home   teacher  ...   \n",
              "1     GP   F   17       U     GT3       T     1     1  at_home     other  ...   \n",
              "2     GP   F   15       U     LE3       T     1     1  at_home     other  ...   \n",
              "3     GP   F   15       U     GT3       T     4     2   health  services  ...   \n",
              "4     GP   F   16       U     GT3       T     3     3    other     other  ...   \n",
              "\n",
              "  famrel freetime  goout  Dalc  Walc health absences  G1  G2  G3  \n",
              "0      4        3      4     1     1      3        6   5   6   6  \n",
              "1      5        3      3     1     1      3        4   5   5   6  \n",
              "2      4        3      2     2     3      3       10   7   8  10  \n",
              "3      3        2      2     1     1      5        2  15  14  15  \n",
              "4      4        3      2     1     2      5        4   6  10  10  \n",
              "\n",
              "[5 rows x 33 columns]"
            ],
            "text/html": [
              "<div>\n",
              "<style scoped>\n",
              "    .dataframe tbody tr th:only-of-type {\n",
              "        vertical-align: middle;\n",
              "    }\n",
              "\n",
              "    .dataframe tbody tr th {\n",
              "        vertical-align: top;\n",
              "    }\n",
              "\n",
              "    .dataframe thead th {\n",
              "        text-align: right;\n",
              "    }\n",
              "</style>\n",
              "<table border=\"1\" class=\"dataframe\">\n",
              "  <thead>\n",
              "    <tr style=\"text-align: right;\">\n",
              "      <th></th>\n",
              "      <th>school</th>\n",
              "      <th>sex</th>\n",
              "      <th>age</th>\n",
              "      <th>address</th>\n",
              "      <th>famsize</th>\n",
              "      <th>Pstatus</th>\n",
              "      <th>Medu</th>\n",
              "      <th>Fedu</th>\n",
              "      <th>Mjob</th>\n",
              "      <th>Fjob</th>\n",
              "      <th>...</th>\n",
              "      <th>famrel</th>\n",
              "      <th>freetime</th>\n",
              "      <th>goout</th>\n",
              "      <th>Dalc</th>\n",
              "      <th>Walc</th>\n",
              "      <th>health</th>\n",
              "      <th>absences</th>\n",
              "      <th>G1</th>\n",
              "      <th>G2</th>\n",
              "      <th>G3</th>\n",
              "    </tr>\n",
              "  </thead>\n",
              "  <tbody>\n",
              "    <tr>\n",
              "      <th>0</th>\n",
              "      <td>GP</td>\n",
              "      <td>F</td>\n",
              "      <td>18</td>\n",
              "      <td>U</td>\n",
              "      <td>GT3</td>\n",
              "      <td>A</td>\n",
              "      <td>4</td>\n",
              "      <td>4</td>\n",
              "      <td>at_home</td>\n",
              "      <td>teacher</td>\n",
              "      <td>...</td>\n",
              "      <td>4</td>\n",
              "      <td>3</td>\n",
              "      <td>4</td>\n",
              "      <td>1</td>\n",
              "      <td>1</td>\n",
              "      <td>3</td>\n",
              "      <td>6</td>\n",
              "      <td>5</td>\n",
              "      <td>6</td>\n",
              "      <td>6</td>\n",
              "    </tr>\n",
              "    <tr>\n",
              "      <th>1</th>\n",
              "      <td>GP</td>\n",
              "      <td>F</td>\n",
              "      <td>17</td>\n",
              "      <td>U</td>\n",
              "      <td>GT3</td>\n",
              "      <td>T</td>\n",
              "      <td>1</td>\n",
              "      <td>1</td>\n",
              "      <td>at_home</td>\n",
              "      <td>other</td>\n",
              "      <td>...</td>\n",
              "      <td>5</td>\n",
              "      <td>3</td>\n",
              "      <td>3</td>\n",
              "      <td>1</td>\n",
              "      <td>1</td>\n",
              "      <td>3</td>\n",
              "      <td>4</td>\n",
              "      <td>5</td>\n",
              "      <td>5</td>\n",
              "      <td>6</td>\n",
              "    </tr>\n",
              "    <tr>\n",
              "      <th>2</th>\n",
              "      <td>GP</td>\n",
              "      <td>F</td>\n",
              "      <td>15</td>\n",
              "      <td>U</td>\n",
              "      <td>LE3</td>\n",
              "      <td>T</td>\n",
              "      <td>1</td>\n",
              "      <td>1</td>\n",
              "      <td>at_home</td>\n",
              "      <td>other</td>\n",
              "      <td>...</td>\n",
              "      <td>4</td>\n",
              "      <td>3</td>\n",
              "      <td>2</td>\n",
              "      <td>2</td>\n",
              "      <td>3</td>\n",
              "      <td>3</td>\n",
              "      <td>10</td>\n",
              "      <td>7</td>\n",
              "      <td>8</td>\n",
              "      <td>10</td>\n",
              "    </tr>\n",
              "    <tr>\n",
              "      <th>3</th>\n",
              "      <td>GP</td>\n",
              "      <td>F</td>\n",
              "      <td>15</td>\n",
              "      <td>U</td>\n",
              "      <td>GT3</td>\n",
              "      <td>T</td>\n",
              "      <td>4</td>\n",
              "      <td>2</td>\n",
              "      <td>health</td>\n",
              "      <td>services</td>\n",
              "      <td>...</td>\n",
              "      <td>3</td>\n",
              "      <td>2</td>\n",
              "      <td>2</td>\n",
              "      <td>1</td>\n",
              "      <td>1</td>\n",
              "      <td>5</td>\n",
              "      <td>2</td>\n",
              "      <td>15</td>\n",
              "      <td>14</td>\n",
              "      <td>15</td>\n",
              "    </tr>\n",
              "    <tr>\n",
              "      <th>4</th>\n",
              "      <td>GP</td>\n",
              "      <td>F</td>\n",
              "      <td>16</td>\n",
              "      <td>U</td>\n",
              "      <td>GT3</td>\n",
              "      <td>T</td>\n",
              "      <td>3</td>\n",
              "      <td>3</td>\n",
              "      <td>other</td>\n",
              "      <td>other</td>\n",
              "      <td>...</td>\n",
              "      <td>4</td>\n",
              "      <td>3</td>\n",
              "      <td>2</td>\n",
              "      <td>1</td>\n",
              "      <td>2</td>\n",
              "      <td>5</td>\n",
              "      <td>4</td>\n",
              "      <td>6</td>\n",
              "      <td>10</td>\n",
              "      <td>10</td>\n",
              "    </tr>\n",
              "  </tbody>\n",
              "</table>\n",
              "<p>5 rows × 33 columns</p>\n",
              "</div>"
            ]
          },
          "metadata": {
            "tags": []
          },
          "execution_count": 3
        }
      ]
    },
    {
      "cell_type": "markdown",
      "metadata": {
        "id": "PGjqMTFQQFyV",
        "colab_type": "text"
      },
      "source": [
        "## Wrangle Data / Create Target / Split"
      ]
    },
    {
      "cell_type": "code",
      "metadata": {
        "id": "2t34CwNjQBTU",
        "colab_type": "code",
        "colab": {}
      },
      "source": [
        "%%capture\n",
        "\n",
        "df['famsize'] = df['famsize'].map({'GT3': 1, 'LE3':0})\n",
        "df['address'] = df['address'].map({'U':1, 'R':0})\n",
        "df['Pstatus'] = df['Pstatus'].map({'A': 0, 'T':1})\n",
        "for col in ['schoolsup', 'famsup', 'paid', 'activities', \n",
        "            'nursery', 'higher', 'internet', 'romantic']:\n",
        "  df[col] = df[col].map({'yes':1, 'no':0})\n",
        "\n",
        "for col in ['G1', 'G2', 'G3']:\n",
        "  df[col] = df[col].replace({0: np.NaN})\n",
        "\n",
        "dfmean = df[['G1', 'G2', 'G3']]\n",
        "dfmean['Mean'] = dfmean.mean(axis=1)\n",
        "df['Mean'] = dfmean['Mean']\n",
        "df['Pass/Fail'] = df['G3']>=10\n",
        "\n",
        "df['Improved'] = (df['G3']-df['Mean'])>0\n",
        "\n",
        "df = df.drop(columns=['school'])\n",
        "\n",
        "training, test = train_test_split(df, train_size=0.80, test_size=0.20, random_state=33)\n",
        "train, val = train_test_split(training, train_size=0.80, test_size=0.20, random_state=33)"
      ],
      "execution_count": 0,
      "outputs": []
    },
    {
      "cell_type": "code",
      "metadata": {
        "id": "NegaFfkxQNTm",
        "colab_type": "code",
        "colab": {}
      },
      "source": [
        "target = 'Improved'\n",
        "features = train.drop(columns=[target, 'G1', 'G2', 'Mean']).columns\n",
        "X_train = train[features]\n",
        "y_train = train[target]\n",
        "X_val = val[features]\n",
        "y_val = val[target]\n",
        "X_test = test[features]\n",
        "y_test = test[target]\n",
        "X_training = training[features]\n",
        "y_training = training[target]"
      ],
      "execution_count": 0,
      "outputs": []
    },
    {
      "cell_type": "code",
      "metadata": {
        "id": "qsLW3hpp4pmb",
        "colab_type": "code",
        "colab": {}
      },
      "source": [
        "encoder = OrdinalEncoder()\n",
        "X_training_encoded = encoder.fit_transform(X=X_training)\n",
        "X_test_encoded = encoder.fit_transform(X=X_test)"
      ],
      "execution_count": 0,
      "outputs": []
    },
    {
      "cell_type": "code",
      "metadata": {
        "id": "ZnGiPcS-5mB7",
        "colab_type": "code",
        "colab": {
          "base_uri": "https://localhost:8080/",
          "height": 639
        },
        "outputId": "73f4028c-0606-4ed0-f4fc-72c2569abf69"
      },
      "source": [
        "X_training_encoded.info()"
      ],
      "execution_count": 7,
      "outputs": [
        {
          "output_type": "stream",
          "text": [
            "<class 'pandas.core.frame.DataFrame'>\n",
            "Int64Index: 835 entries, 427 to 391\n",
            "Data columns (total 31 columns):\n",
            "sex           835 non-null int64\n",
            "age           835 non-null int64\n",
            "address       835 non-null int64\n",
            "famsize       835 non-null int64\n",
            "Pstatus       835 non-null int64\n",
            "Medu          835 non-null int64\n",
            "Fedu          835 non-null int64\n",
            "Mjob          835 non-null int64\n",
            "Fjob          835 non-null int64\n",
            "reason        835 non-null int64\n",
            "guardian      835 non-null int64\n",
            "traveltime    835 non-null int64\n",
            "studytime     835 non-null int64\n",
            "failures      835 non-null int64\n",
            "schoolsup     835 non-null int64\n",
            "famsup        835 non-null int64\n",
            "paid          835 non-null int64\n",
            "activities    835 non-null int64\n",
            "nursery       835 non-null int64\n",
            "higher        835 non-null int64\n",
            "internet      835 non-null int64\n",
            "romantic      835 non-null int64\n",
            "famrel        835 non-null int64\n",
            "freetime      835 non-null int64\n",
            "goout         835 non-null int64\n",
            "Dalc          835 non-null int64\n",
            "Walc          835 non-null int64\n",
            "health        835 non-null int64\n",
            "absences      835 non-null int64\n",
            "G3            789 non-null float64\n",
            "Pass/Fail     835 non-null bool\n",
            "dtypes: bool(1), float64(1), int64(29)\n",
            "memory usage: 203.0 KB\n"
          ],
          "name": "stdout"
        }
      ]
    },
    {
      "cell_type": "markdown",
      "metadata": {
        "id": "XfKMqhs_QYxS",
        "colab_type": "text"
      },
      "source": [
        "## Majority Class Baseline"
      ]
    },
    {
      "cell_type": "code",
      "metadata": {
        "id": "okmGxMjOQXnR",
        "colab_type": "code",
        "outputId": "2bf4df4e-0dd4-4b03-fa6e-047560335eb1",
        "colab": {
          "base_uri": "https://localhost:8080/",
          "height": 69
        }
      },
      "source": [
        "df[target].value_counts(normalize=True)"
      ],
      "execution_count": 8,
      "outputs": [
        {
          "output_type": "execute_result",
          "data": {
            "text/plain": [
              "True     0.536398\n",
              "False    0.463602\n",
              "Name: Improved, dtype: float64"
            ]
          },
          "metadata": {
            "tags": []
          },
          "execution_count": 8
        }
      ]
    },
    {
      "cell_type": "markdown",
      "metadata": {
        "id": "3qR-MiEzQhxz",
        "colab_type": "text"
      },
      "source": [
        "## Fast First Model"
      ]
    },
    {
      "cell_type": "code",
      "metadata": {
        "id": "U84ryE79Qkph",
        "colab_type": "code",
        "outputId": "f7fe808c-d70d-4f0e-9cc0-7536aad3f74c",
        "colab": {
          "base_uri": "https://localhost:8080/",
          "height": 911
        }
      },
      "source": [
        "pipe = make_pipeline(\n",
        "    OrdinalEncoder(),\n",
        "    SimpleImputer(),\n",
        "    LogisticRegressionCV(n_jobs=-1,\n",
        "                         random_state=33)\n",
        "    )\n",
        "\n",
        "\n",
        "pipe.fit(X_training, y_training)\n",
        "\n",
        "print(f'Training Accuracy: {pipe.score(X_training, y_training)}\\n')\n",
        "print(f'Test Accuracy: {pipe.score(X_test, y_test)}')\n",
        "\n",
        "plot_confusion_matrix(estimator=pipe, X=X_test, y_true=y_test)\n",
        "\n",
        "encoder = pipe.named_steps['ordinalencoder']\n",
        "encoded_columns = encoder.transform(X_training).columns\n",
        "coefficients = pd.Series(pipe.named_steps.logisticregressioncv.coef_[0][:], \n",
        "                         encoded_columns)\n",
        "plt.figure(figsize=(10,10))\n",
        "coefficients.sort_values().plot.barh();"
      ],
      "execution_count": 9,
      "outputs": [
        {
          "output_type": "stream",
          "text": [
            "Training Accuracy: 0.6526946107784432\n",
            "\n",
            "Test Accuracy: 0.6507177033492823\n"
          ],
          "name": "stdout"
        },
        {
          "output_type": "display_data",
          "data": {
            "text/plain": [
              "<Figure size 432x288 with 2 Axes>"
            ],
            "image/png": "[encoded data removed]"
          },
          "metadata": {
            "tags": [],
            "needs_background": "light"
          }
        },
        {
          "output_type": "display_data",
          "data": {
            "text/plain": [
              "<Figure size 720x720 with 1 Axes>"
            ],
            "image/png": "[encoded data removed]"
          },
          "metadata": {
            "tags": [],
            "needs_background": "light"
          }
        }
      ]
    },
    {
      "cell_type": "markdown",
      "metadata": {
        "id": "JpWO0WemS7B0",
        "colab_type": "text"
      },
      "source": [
        "## Iterated Model"
      ]
    },
    {
      "cell_type": "code",
      "metadata": {
        "id": "CfbvV4gBTR3t",
        "colab_type": "code",
        "colab": {
          "base_uri": "https://localhost:8080/",
          "height": 1000
        },
        "outputId": "c504a248-1b3e-4412-a370-27400dd69089"
      },
      "source": [
        "pipe = make_pipeline(\n",
        "    # TargetEncoder(),\n",
        "    # IterativeImputer(random_state=33),\n",
        "    OrdinalEncoder(),\n",
        "    SimpleImputer(),\n",
        "    LogisticRegressionCV(n_jobs=-1,\n",
        "                         random_state=33,\n",
        "                         max_iter=10000)\n",
        ")\n",
        "\n",
        "param_distributions = {\n",
        "    # 'targetencoder__min_samples_leaf': randint(1, 101),\n",
        "    # 'iterativeimputer__initial_strategy': ['mean', 'median', \n",
        "    #                                        'most_frequent'],\n",
        "    # 'iterativeimputer__sample_posterior':[True, False],\n",
        "    # 'iterativeimputer__max_iter': randint(1, 1001),\n",
        "    # 'iterativeimputer__imputation_order': ['ascending', 'descending', \n",
        "    #                                        'roman', 'arabic', 'random'],\n",
        "    'simpleimputer__strategy': ['mean', 'median',\n",
        "                                'most_frequent'],\n",
        "    'logisticregressioncv__Cs': randint(1, 101),\n",
        "    'logisticregressioncv__cv': randint(2,11),\n",
        "    'logisticregressioncv__solver': ['newton-cg', 'lbfgs', \n",
        "                                     'liblinear', 'sag', 'saga'],\n",
        "    'logisticregressioncv__refit': [True, False]\n",
        "}\n",
        "\n",
        "search = RandomizedSearchCV(\n",
        "    pipe, \n",
        "    param_distributions=param_distributions, \n",
        "    n_iter=10, \n",
        "    cv=3, \n",
        "    scoring='accuracy', \n",
        "    verbose=10, \n",
        "    return_train_score=True, \n",
        "    n_jobs=-1\n",
        ")\n",
        "\n",
        "search.fit(X_training, y_training)\n",
        "\n",
        "pipe = search.best_estimator_\n",
        "\n",
        "print(f'{search.best_params_}\\n')\n",
        "\n",
        "print(f'Train Accuracy: {pipe.score(X_training, y_training)}\\n')\n",
        "print(f'Test Accuracy: {pipe.score(X_test, y_test)}')\n",
        "\n",
        "plot_confusion_matrix(estimator=pipe, X=X_test, y_true=y_test)\n",
        "\n",
        "encoder = pipe.named_steps['ordinalencoder']\n",
        "encoded_columns = encoder.transform(X_training).columns\n",
        "coefficients = pd.Series(pipe.named_steps.logisticregressioncv.coef_[0][:], \n",
        "                         encoded_columns)\n",
        "plt.figure(figsize=(10,10))\n",
        "coefficients.sort_values().plot.barh();"
      ],
      "execution_count": 25,
      "outputs": [
        {
          "output_type": "stream",
          "text": [
            "Fitting 3 folds for each of 10 candidates, totalling 30 fits\n"
          ],
          "name": "stdout"
        },
        {
          "output_type": "stream",
          "text": [
            "[Parallel(n_jobs=-1)]: Using backend LokyBackend with 8 concurrent workers.\n",
            "[Parallel(n_jobs=-1)]: Done   2 tasks      | elapsed:    1.8s\n",
            "[Parallel(n_jobs=-1)]: Done   9 tasks      | elapsed:   12.8s\n",
            "[Parallel(n_jobs=-1)]: Done  19 out of  30 | elapsed:   31.1s remaining:   18.0s\n",
            "[Parallel(n_jobs=-1)]: Done  23 out of  30 | elapsed:   32.5s remaining:    9.9s\n",
            "[Parallel(n_jobs=-1)]: Done  27 out of  30 | elapsed:   33.6s remaining:    3.7s\n",
            "[Parallel(n_jobs=-1)]: Done  30 out of  30 | elapsed:   34.4s finished\n"
          ],
          "name": "stderr"
        },
        {
          "output_type": "stream",
          "text": [
            "{'logisticregressioncv__Cs': 74, 'logisticregressioncv__cv': 9, 'logisticregressioncv__refit': False, 'logisticregressioncv__solver': 'sag', 'simpleimputer__strategy': 'most_frequent'}\n",
            "\n",
            "Train Accuracy: 0.6407185628742516\n",
            "\n",
            "Test Accuracy: 0.6698564593301436\n"
          ],
          "name": "stdout"
        },
        {
          "output_type": "display_data",
          "data": {
            "text/plain": [
              "<Figure size 432x288 with 2 Axes>"
            ],
            "image/png": "[encoded data removed]"
          },
          "metadata": {
            "tags": [],
            "needs_background": "light"
          }
        },
        {
          "output_type": "display_data",
          "data": {
            "text/plain": [
              "<Figure size 720x720 with 1 Axes>"
            ],
            "image/png": "[encoded data removed]"
          },
          "metadata": {
            "tags": [],
            "needs_background": "light"
          }
        }
      ]
    },
    {
      "cell_type": "code",
      "metadata": {
        "id": "RrIWuYa_o9a2",
        "colab_type": "code",
        "colab": {
          "base_uri": "https://localhost:8080/",
          "height": 911
        },
        "outputId": "200f7267-bfdc-4ef7-ea28-2ed79e6e8869"
      },
      "source": [
        "pipe = make_pipeline(\n",
        "    TargetEncoder(),\n",
        "    SimpleImputer(strategy='most_frequent'),\n",
        "    StandardScaler(),\n",
        "    PCA(n_components=27),\n",
        "    SelectKBest(k=23),\n",
        "    XGBClassifier(base_score=.5, \n",
        "                  booster='gbtree', \n",
        "                  objective='binary:hinge', \n",
        "                  random_state=33)\n",
        ")\n",
        "\n",
        "\n",
        "pipe.fit(X_training, y_training)\n",
        "\n",
        "print(f'Train Accuracy: {pipe.score(X_training, y_training)}\\n')\n",
        "print(f'Test Accuracy: {pipe.score(X_test, y_test)}')\n",
        "\n",
        "plot_confusion_matrix(estimator=pipe, X=X_test, y_true=y_test)\n",
        "\n",
        "\n",
        "encoded_columns = X_training_encoded.columns\n",
        "\n",
        "coefficients = pd.Series(pipe.named_steps.xgbclassifier.feature_importances_[:]\n",
        "                         [:pipe.named_steps.selectkbest.k], \n",
        "                         encoded_columns[:pipe.named_steps.selectkbest.k])\n",
        "plt.figure(figsize=(10,10))\n",
        "coefficients.sort_values().plot.barh();"
      ],
      "execution_count": 10,
      "outputs": [
        {
          "output_type": "stream",
          "text": [
            "Train Accuracy: 0.792814371257485\n",
            "\n",
            "Test Accuracy: 0.6698564593301436\n"
          ],
          "name": "stdout"
        },
        {
          "output_type": "display_data",
          "data": {
            "text/plain": [
              "<Figure size 432x288 with 2 Axes>"
            ],
            "image/png": "[encoded data removed]"
          },
          "metadata": {
            "tags": [],
            "needs_background": "light"
          }
        },
        {
          "output_type": "display_data",
          "data": {
            "text/plain": [
              "<Figure size 720x720 with 1 Axes>"
            ],
            "image/png": "[encoded data removed]"
          },
          "metadata": {
            "tags": [],
            "needs_background": "light"
          }
        }
      ]
    },
    {
      "cell_type": "code",
      "metadata": {
        "id": "VshCaWmA1u6E",
        "colab_type": "code",
        "colab": {
          "base_uri": "https://localhost:8080/",
          "height": 911
        },
        "outputId": "997d9999-b1f5-4c20-d946-de9b998ff14b"
      },
      "source": [
        "pipe = make_pipeline(\n",
        "    TargetEncoder(),\n",
        "    SimpleImputer(strategy='most_frequent'),\n",
        "    PCA(26),\n",
        "    SelectKBest(k=14),\n",
        "    XGBClassifier(alpha=0.40790854859004644, base_score=0.5, booster='gbtree',\n",
        "              colsample_bylevel=1, colsample_bynode=1, colsample_bytree=1,\n",
        "              eta=0.45456023198889695, gamma=2,\n",
        "              learning_rate=0.6553237377561046, max_delta_step=0, max_depth=28,\n",
        "              min_child_weight=76, missing=None, n_estimators=12, n_jobs=-1,\n",
        "              nthread=None, objective='binary:logistic', random_state=33,\n",
        "              reg_alpha=0, reg_lambda=1, scale_pos_weight=1, seed=None,\n",
        "              silent=None, subsample=1, verbosity=1)\n",
        ")\n",
        "\n",
        "pipe.fit(X_training, y_training)\n",
        "\n",
        "print(f'Train Accuracy: {pipe.score(X_training, y_training)}\\n')\n",
        "print(f'Test Accuracy: {pipe.score(X_test, y_test)}')\n",
        "\n",
        "plot_confusion_matrix(estimator=pipe, X=X_test_encoded, y_true=y_test)\n",
        "\n",
        "\n",
        "encoded_columns = X_training_encoded.columns\n",
        "\n",
        "coefficients = pd.Series(pipe.named_steps.xgbclassifier.feature_importances_[:]\n",
        "                         [:pipe.named_steps.selectkbest.k], \n",
        "                         encoded_columns[:pipe.named_steps.selectkbest.k])\n",
        "plt.figure(figsize=(10,10))\n",
        "coefficients.sort_values().plot.barh();"
      ],
      "execution_count": 9,
      "outputs": [
        {
          "output_type": "stream",
          "text": [
            "Train Accuracy: 0.6383233532934132\n",
            "\n",
            "Test Accuracy: 0.7033492822966507\n"
          ],
          "name": "stdout"
        },
        {
          "output_type": "display_data",
          "data": {
            "text/plain": [
              "<Figure size 432x288 with 2 Axes>"
            ],
            "image/png": "[encoded data removed]"
          },
          "metadata": {
            "tags": [],
            "needs_background": "light"
          }
        },
        {
          "output_type": "display_data",
          "data": {
            "text/plain": [
              "<Figure size 720x720 with 1 Axes>"
            ],
            "image/png": "[encoded data removed]"
          },
          "metadata": {
            "tags": [],
            "needs_background": "light"
          }
        }
      ]
    },
    {
      "cell_type": "code",
      "metadata": {
        "id": "iqriImux2ldC",
        "colab_type": "code",
        "colab": {
          "base_uri": "https://localhost:8080/",
          "height": 294
        },
        "outputId": "aa9bd5b1-bae1-426f-d121-538d7ff47c7c"
      },
      "source": [
        "eval_set = [(X_training_encoded, y_training),\n",
        "            (X_test_encoded, y_test)]\n",
        "\n",
        "model = pipe.named_steps.xgbclassifier\n",
        "    \n",
        "\n",
        "\n",
        "model.fit(X_training_encoded, y_training,\n",
        "         eval_set=eval_set,\n",
        "         eval_metric='error',\n",
        "         early_stopping_rounds=30)\n",
        "\n",
        "model.score(X_test_encoded, y_test)"
      ],
      "execution_count": 12,
      "outputs": [
        {
          "output_type": "stream",
          "text": [
            "[0]\tvalidation_0-error:0.413174\tvalidation_1-error:0.334928\n",
            "Multiple eval metrics have been passed: 'validation_1-error' will be used for early stopping.\n",
            "\n",
            "Will train until validation_1-error hasn't improved in 30 rounds.\n",
            "[1]\tvalidation_0-error:0.398802\tvalidation_1-error:0.315789\n",
            "[2]\tvalidation_0-error:0.40479\tvalidation_1-error:0.358852\n",
            "[3]\tvalidation_0-error:0.396407\tvalidation_1-error:0.339713\n",
            "[4]\tvalidation_0-error:0.37485\tvalidation_1-error:0.330144\n",
            "[5]\tvalidation_0-error:0.382036\tvalidation_1-error:0.325359\n",
            "[6]\tvalidation_0-error:0.379641\tvalidation_1-error:0.330144\n",
            "[7]\tvalidation_0-error:0.380838\tvalidation_1-error:0.320574\n",
            "[8]\tvalidation_0-error:0.379641\tvalidation_1-error:0.330144\n",
            "[9]\tvalidation_0-error:0.380838\tvalidation_1-error:0.320574\n",
            "[10]\tvalidation_0-error:0.379641\tvalidation_1-error:0.330144\n",
            "[11]\tvalidation_0-error:0.380838\tvalidation_1-error:0.311005\n"
          ],
          "name": "stdout"
        },
        {
          "output_type": "execute_result",
          "data": {
            "text/plain": [
              "0.6889952153110048"
            ]
          },
          "metadata": {
            "tags": []
          },
          "execution_count": 12
        }
      ]
    },
    {
      "cell_type": "code",
      "metadata": {
        "id": "z_rcgXIqAw7Q",
        "colab_type": "code",
        "colab": {}
      },
      "source": [
        "%%capture\n",
        "\n",
        "!pip3 install eli5\n",
        "from eli5.sklearn.permutation_importance import PermutationImportance"
      ],
      "execution_count": 0,
      "outputs": []
    },
    {
      "cell_type": "code",
      "metadata": {
        "id": "-MTdPsoiDRn8",
        "colab_type": "code",
        "colab": {
          "base_uri": "https://localhost:8080/",
          "height": 207
        },
        "outputId": "2e97b2ff-054f-4735-8410-688e3cd203e2"
      },
      "source": [
        "model=(XGBClassifier(alpha=0.40790854859004644, base_score=0.5, booster='gbtree',\n",
        "              colsample_bylevel=1, colsample_bynode=1, colsample_bytree=1,\n",
        "              eta=0.45456023198889695, gamma=2,\n",
        "              learning_rate=0.6553237377561046, max_delta_step=0, max_depth=28,\n",
        "              min_child_weight=76, missing=None, n_estimators=12, n_jobs=-1,\n",
        "              nthread=None, objective='binary:logistic', random_state=33,\n",
        "              reg_alpha=0, reg_lambda=1, scale_pos_weight=1, seed=None,\n",
        "              silent=None, subsample=1, verbosity=1))\n",
        "\n",
        "\n",
        "transformers = make_pipeline(\n",
        "        OrdinalEncoder(),\n",
        "        SimpleImputer(strategy='most_frequent'),\n",
        "        PCA(26),\n",
        "        SelectKBest(k=14)\n",
        ")\n",
        "\n",
        "X_training_transformed = transformers.fit_transform(X=X_training, y=y_training)\n",
        "X_test_transformed = transformers.transform(X_test)\n",
        "\n",
        "model.fit(X_training_transformed, y_training)\n",
        "\n",
        "permuter = PermutationImportance(\n",
        "    model, \n",
        "    scoring='accuracy', \n",
        "    n_iter=5, \n",
        "    random_state=33\n",
        ")\n",
        "\n",
        "permuter.fit(X_test_transformed, y_test)\n",
        "\n",
        "feature_names = X_test.columns.tolist()\n",
        "importances = pd.Series(permuter.feature_importances_, \n",
        "                        feature_names[:transformers.named_steps.selectkbest.k]).sort_values()\n",
        "print((importances[importances>0]))\n",
        "print((importances[importances<0]))"
      ],
      "execution_count": 61,
      "outputs": [
        {
          "output_type": "stream",
          "text": [
            "sex         0.001914\n",
            "failures    0.003828\n",
            "Medu        0.003828\n",
            "guardian    0.007656\n",
            "address     0.027751\n",
            "age         0.111005\n",
            "dtype: float64\n",
            "traveltime   -0.005742\n",
            "Mjob         -0.002871\n",
            "Pstatus      -0.000957\n",
            "dtype: float64\n"
          ],
          "name": "stdout"
        }
      ]
    },
    {
      "cell_type": "code",
      "metadata": {
        "id": "Joi0fluyg09l",
        "colab_type": "code",
        "colab": {}
      },
      "source": [
        "# pipe = make_pipeline(\n",
        "#     SimpleImputer(),\n",
        "#     StandardScaler(),\n",
        "#     PCA(),\n",
        "#     XGBClassifier(n_jobs=-1,\n",
        "#                   random_state=33)\n",
        "# )\n",
        "\n",
        "# param_distributions = {\n",
        "#     'simpleimputer__strategy': ['mean', 'median', 'most_frequent'],\n",
        "#     'pca__n_components': randint(1, len(X_training.columns)+1),\n",
        "#     'xgbclassifier__max_depth': randint(1, 200),\n",
        "#     'xgbclassifier__booster': ['gbtree', 'gblinear'],\n",
        "#     'xgbclassifier__objective': ['binary:logistic', 'binary:logitraw', 'binary:hinge'],\n",
        "#     'xgbclassifier__lambda': randint(1, 10),\n",
        "#     'xgbclassifier__alpha': uniform(0, 2),\n",
        "#     'xgbclassifier__gamma': randint(1, 100),\n",
        "#     'xgbclassifier__min_child_weight': randint(1, 100),\n",
        "#     'xgbclassifier__eta': uniform(0, 1),\n",
        "#     'xgbclassifier__n_estimators': randint(1, 1000),\n",
        "#     'xgbclassifier__learning_rate': uniform(0, 1)\n",
        "# }\n",
        "\n",
        "# search = RandomizedSearchCV(\n",
        "#     pipe, \n",
        "#     param_distributions=param_distributions, \n",
        "#     n_iter=10000, \n",
        "#     cv=10, \n",
        "#     scoring='accuracy', \n",
        "#     verbose=10, \n",
        "#     return_train_score=True, \n",
        "#     n_jobs=-1\n",
        "# )\n",
        "\n",
        "# search.fit(X_training_encoded, y_training)\n",
        "\n",
        "# pipe = search.best_estimator_\n",
        "\n",
        "# print(f'{search.best_params_}\\n')\n",
        "\n",
        "# print(f'Train Accuracy: {pipe.score(X_training_encoded, y_training)}\\n')\n",
        "# print(f'Test Accuracy: {pipe.score(X_test_encoded, y_test)}')\n",
        "\n",
        "# plot_confusion_matrix(estimator=pipe, X=X_test_encoded, y_true=y_test)\n",
        "\n",
        "\n",
        "# encoded_columns = X_training_encoded.columns\n",
        "\n",
        "# try:\n",
        "#   importances = pd.Series(pipe.named_steps.xgbclassifier.feature_importances_[0][:pipe.named_steps.pca.n_components], \n",
        "#                          encoded_columns[:pipe.named_steps.pca.n_components])\n",
        "#   plt.figure(figsize=(10,10))\n",
        "#   importances.sort_values().plot.barh();\n",
        "# except:\n",
        "#   coefficients = pd.Series(pipe.named_steps.xgbclassifier.coef_[:][:pipe.named_steps.pca.n_components], \n",
        "#                          encoded_columns[:pipe.named_steps.pca.n_components])\n",
        "#   plt.figure(figsize=(10,10))\n",
        "#   coefficients.sort_values().plot.barh();"
      ],
      "execution_count": 0,
      "outputs": []
    },
    {
      "cell_type": "code",
      "metadata": {
        "id": "mosqi0eHwyFi",
        "colab_type": "code",
        "colab": {}
      },
      "source": [
        "# pipe = make_pipeline(\n",
        "#     TargetEncoder(),\n",
        "#     SimpleImputer(strategy='most_frequent'),\n",
        "#     StandardScaler(),\n",
        "#     PCA(n_components=27),\n",
        "#     SelectKBest(k=23),\n",
        "#     XGBClassifier(base_score=.5, \n",
        "#                   booster='gbtree', \n",
        "#                   objective='binary:hinge', \n",
        "#                   random_state=33)\n",
        "# )\n",
        "\n",
        "# param_distributions = {\n",
        "#     'pca__n_components': randint(1, len(X_training.columns)+1),\n",
        "#     'pca__whiten': [True, False],\n",
        "#     'selectkbest__k': randint(1, len(X_training.columns)+1),\n",
        "#     'xgbclassifier__max_depth': randint(1, 200),\n",
        "#     'xgbclassifier__objective': ['binary:logistic', 'binary:logitraw', 'binary:hinge'],\n",
        "#     'xgbclassifier__lambda': randint(1, 10),\n",
        "#     'xgbclassifier__alpha': uniform(0, 2),\n",
        "#     'xgbclassifier__gamma': randint(1, 100),\n",
        "#     'xgbclassifier__min_child_weight': randint(1, 100),\n",
        "#     'xgbclassifier__eta': uniform(0, 1),\n",
        "#     'xgbclassifier__n_estimators': randint(1, 1000),\n",
        "#     'xgbclassifier__learning_rate': uniform(0, 1)\n",
        "# }\n",
        "\n",
        "# search = RandomizedSearchCV(\n",
        "#     pipe, \n",
        "#     param_distributions=param_distributions, \n",
        "#     n_iter=1000, \n",
        "#     cv=10, \n",
        "#     scoring='accuracy', \n",
        "#     verbose=10, \n",
        "#     return_train_score=True, \n",
        "#     n_jobs=-1\n",
        "# )\n",
        "\n",
        "# search.fit(X_training_encoded, y_training)\n",
        "\n",
        "# pipe = search.best_estimator_\n",
        "\n",
        "# print(f'{search.best_params_}\\n')\n",
        "\n",
        "# print(f'Train Accuracy: {pipe.score(X_training_encoded, y_training)}\\n')\n",
        "# print(f'Test Accuracy: {pipe.score(X_test_encoded, y_test)}')\n",
        "\n",
        "# plot_confusion_matrix(estimator=pipe, X=X_test_encoded, y_true=y_test)\n",
        "\n",
        "\n",
        "# encoded_columns = X_training_encoded.columns\n",
        "\n",
        "# coefficients = pd.Series(pipe.named_steps.xgbclassifier.feature_importances_[:]\n",
        "#                          [:pipe.named_steps.selectkbest.k], \n",
        "#                          encoded_columns[:pipe.named_steps.selectkbest.k])\n",
        "# plt.figure(figsize=(10,10))\n",
        "# coefficients.sort_values().plot.barh();"
      ],
      "execution_count": 0,
      "outputs": []
    }
  ]
}