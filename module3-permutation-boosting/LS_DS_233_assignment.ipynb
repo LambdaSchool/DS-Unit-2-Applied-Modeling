{
  "nbformat": 4,
  "nbformat_minor": 0,
  "metadata": {
    "kernelspec": {
      "display_name": "Python 3",
      "language": "python",
      "name": "python3"
    },
    "language_info": {
      "codemirror_mode": {
        "name": "ipython",
        "version": 3
      },
      "file_extension": ".py",
      "mimetype": "text/x-python",
      "name": "python",
      "nbconvert_exporter": "python",
      "pygments_lexer": "ipython3",
      "version": "3.7.3"
    },
    "colab": {
      "name": "LS_DS_233_assignment.ipynb",
      "provenance": [],
      "include_colab_link": true
    }
  },
  "cells": [
    {
      "cell_type": "markdown",
      "metadata": {
        "id": "view-in-github",
        "colab_type": "text"
      },
      "source": [
        "<a href=\"https://colab.research.google.com/github/dougscohen/DS-Unit-2-Applied-Modeling/blob/master/module3-permutation-boosting/LS_DS_233_assignment.ipynb\" target=\"_parent\"><img src=\"https://colab.research.google.com/assets/colab-badge.svg\" alt=\"Open In Colab\"/></a>"
      ]
    },
    {
      "cell_type": "markdown",
      "metadata": {
        "colab_type": "text",
        "id": "nCc3XZEyG3XV"
      },
      "source": [
        "Lambda School Data Science\n",
        "\n",
        "*Unit 2, Sprint 3, Module 3*\n",
        "\n",
        "---\n",
        "\n",
        "\n",
        "# Permutation & Boosting\n",
        "\n",
        "You will use your portfolio project dataset for all assignments this sprint.\n",
        "\n",
        "## Assignment\n",
        "\n",
        "Complete these tasks for your project, and document your work.\n",
        "\n",
        "- [ ] If you haven't completed assignment #1, please do so first.\n",
        "- [ ] Continue to clean and explore your data. Make exploratory visualizations.\n",
        "- [ ] Fit a model. Does it beat your baseline? \n",
        "- [ ] Try xgboost.\n",
        "- [ ] Get your model's permutation importances.\n",
        "\n",
        "You should try to complete an initial model today, because the rest of the week, we're making model interpretation visualizations.\n",
        "\n",
        "But, if you aren't ready to try xgboost and permutation importances with your dataset today, that's okay. You can practice with another dataset instead. You may choose any dataset you've worked with previously.\n",
        "\n",
        "The data subdirectory includes the Titanic dataset for classification and the NYC apartments dataset for regression. You may want to choose one of these datasets, because example solutions will be available for each.\n",
        "\n",
        "\n",
        "## Reading\n",
        "\n",
        "Top recommendations in _**bold italic:**_\n",
        "\n",
        "#### Permutation Importances\n",
        "- _**[Kaggle / Dan Becker: Machine Learning Explainability](https://www.kaggle.com/dansbecker/permutation-importance)**_\n",
        "- [Christoph Molnar: Interpretable Machine Learning](https://christophm.github.io/interpretable-ml-book/feature-importance.html)\n",
        "\n",
        "#### (Default) Feature Importances\n",
        "  - [Ando Saabas: Selecting good features, Part 3, Random Forests](https://blog.datadive.net/selecting-good-features-part-iii-random-forests/)\n",
        "  - [Terence Parr, et al: Beware Default Random Forest Importances](https://explained.ai/rf-importance/index.html)\n",
        "\n",
        "#### Gradient Boosting\n",
        "  - [A Gentle Introduction to the Gradient Boosting Algorithm for Machine Learning](https://machinelearningmastery.com/gentle-introduction-gradient-boosting-algorithm-machine-learning/)\n",
        "  - [An Introduction to Statistical Learning](http://www-bcf.usc.edu/~gareth/ISL/ISLR%20Seventh%20Printing.pdf), Chapter 8\n",
        "  - _**[Gradient Boosting Explained](https://www.gormanalysis.com/blog/gradient-boosting-explained/)**_ — Ben Gorman\n",
        "  - [Gradient Boosting Explained](http://arogozhnikov.github.io/2016/06/24/gradient_boosting_explained.html) — Alex Rogozhnikov\n",
        "  - [How to explain gradient boosting](https://explained.ai/gradient-boosting/) — Terence Parr & Jeremy Howard"
      ]
    },
    {
      "cell_type": "code",
      "metadata": {
        "id": "MgGNUxZ0QTTL",
        "colab_type": "code",
        "colab": {}
      },
      "source": [
        "import numpy as np\n",
        "import pandas as pd\n",
        "\n",
        "# Read in the data\n",
        "df = pd.read_csv('shot_logs.csv')"
      ],
      "execution_count": 0,
      "outputs": []
    },
    {
      "cell_type": "code",
      "metadata": {
        "id": "x6hXWzKnQetr",
        "colab_type": "code",
        "colab": {
          "base_uri": "https://localhost:8080/",
          "height": 467
        },
        "outputId": "b0b40518-c103-4d11-c594-145e317dcccf"
      },
      "source": [
        "df.head()"
      ],
      "execution_count": 3,
      "outputs": [
        {
          "output_type": "execute_result",
          "data": {
            "text/html": [
              "<div>\n",
              "<style scoped>\n",
              "    .dataframe tbody tr th:only-of-type {\n",
              "        vertical-align: middle;\n",
              "    }\n",
              "\n",
              "    .dataframe tbody tr th {\n",
              "        vertical-align: top;\n",
              "    }\n",
              "\n",
              "    .dataframe thead th {\n",
              "        text-align: right;\n",
              "    }\n",
              "</style>\n",
              "<table border=\"1\" class=\"dataframe\">\n",
              "  <thead>\n",
              "    <tr style=\"text-align: right;\">\n",
              "      <th></th>\n",
              "      <th>GAME_ID</th>\n",
              "      <th>MATCHUP</th>\n",
              "      <th>LOCATION</th>\n",
              "      <th>W</th>\n",
              "      <th>FINAL_MARGIN</th>\n",
              "      <th>SHOT_NUMBER</th>\n",
              "      <th>PERIOD</th>\n",
              "      <th>GAME_CLOCK</th>\n",
              "      <th>SHOT_CLOCK</th>\n",
              "      <th>DRIBBLES</th>\n",
              "      <th>TOUCH_TIME</th>\n",
              "      <th>SHOT_DIST</th>\n",
              "      <th>PTS_TYPE</th>\n",
              "      <th>SHOT_RESULT</th>\n",
              "      <th>CLOSEST_DEFENDER</th>\n",
              "      <th>CLOSEST_DEFENDER_PLAYER_ID</th>\n",
              "      <th>CLOSE_DEF_DIST</th>\n",
              "      <th>FGM</th>\n",
              "      <th>PTS</th>\n",
              "      <th>player_name</th>\n",
              "      <th>player_id</th>\n",
              "    </tr>\n",
              "  </thead>\n",
              "  <tbody>\n",
              "    <tr>\n",
              "      <th>0</th>\n",
              "      <td>21400899</td>\n",
              "      <td>MAR 04, 2015 - CHA @ BKN</td>\n",
              "      <td>A</td>\n",
              "      <td>W</td>\n",
              "      <td>24</td>\n",
              "      <td>1</td>\n",
              "      <td>1</td>\n",
              "      <td>1:09</td>\n",
              "      <td>10.8</td>\n",
              "      <td>2</td>\n",
              "      <td>1.9</td>\n",
              "      <td>7.7</td>\n",
              "      <td>2</td>\n",
              "      <td>made</td>\n",
              "      <td>Anderson, Alan</td>\n",
              "      <td>101187</td>\n",
              "      <td>1.3</td>\n",
              "      <td>1</td>\n",
              "      <td>2</td>\n",
              "      <td>brian roberts</td>\n",
              "      <td>203148</td>\n",
              "    </tr>\n",
              "    <tr>\n",
              "      <th>1</th>\n",
              "      <td>21400899</td>\n",
              "      <td>MAR 04, 2015 - CHA @ BKN</td>\n",
              "      <td>A</td>\n",
              "      <td>W</td>\n",
              "      <td>24</td>\n",
              "      <td>2</td>\n",
              "      <td>1</td>\n",
              "      <td>0:14</td>\n",
              "      <td>3.4</td>\n",
              "      <td>0</td>\n",
              "      <td>0.8</td>\n",
              "      <td>28.2</td>\n",
              "      <td>3</td>\n",
              "      <td>missed</td>\n",
              "      <td>Bogdanovic, Bojan</td>\n",
              "      <td>202711</td>\n",
              "      <td>6.1</td>\n",
              "      <td>0</td>\n",
              "      <td>0</td>\n",
              "      <td>brian roberts</td>\n",
              "      <td>203148</td>\n",
              "    </tr>\n",
              "    <tr>\n",
              "      <th>2</th>\n",
              "      <td>21400899</td>\n",
              "      <td>MAR 04, 2015 - CHA @ BKN</td>\n",
              "      <td>A</td>\n",
              "      <td>W</td>\n",
              "      <td>24</td>\n",
              "      <td>3</td>\n",
              "      <td>1</td>\n",
              "      <td>0:00</td>\n",
              "      <td>NaN</td>\n",
              "      <td>3</td>\n",
              "      <td>2.7</td>\n",
              "      <td>10.1</td>\n",
              "      <td>2</td>\n",
              "      <td>missed</td>\n",
              "      <td>Bogdanovic, Bojan</td>\n",
              "      <td>202711</td>\n",
              "      <td>0.9</td>\n",
              "      <td>0</td>\n",
              "      <td>0</td>\n",
              "      <td>brian roberts</td>\n",
              "      <td>203148</td>\n",
              "    </tr>\n",
              "    <tr>\n",
              "      <th>3</th>\n",
              "      <td>21400899</td>\n",
              "      <td>MAR 04, 2015 - CHA @ BKN</td>\n",
              "      <td>A</td>\n",
              "      <td>W</td>\n",
              "      <td>24</td>\n",
              "      <td>4</td>\n",
              "      <td>2</td>\n",
              "      <td>11:47</td>\n",
              "      <td>10.3</td>\n",
              "      <td>2</td>\n",
              "      <td>1.9</td>\n",
              "      <td>17.2</td>\n",
              "      <td>2</td>\n",
              "      <td>missed</td>\n",
              "      <td>Brown, Markel</td>\n",
              "      <td>203900</td>\n",
              "      <td>3.4</td>\n",
              "      <td>0</td>\n",
              "      <td>0</td>\n",
              "      <td>brian roberts</td>\n",
              "      <td>203148</td>\n",
              "    </tr>\n",
              "    <tr>\n",
              "      <th>4</th>\n",
              "      <td>21400899</td>\n",
              "      <td>MAR 04, 2015 - CHA @ BKN</td>\n",
              "      <td>A</td>\n",
              "      <td>W</td>\n",
              "      <td>24</td>\n",
              "      <td>5</td>\n",
              "      <td>2</td>\n",
              "      <td>10:34</td>\n",
              "      <td>10.9</td>\n",
              "      <td>2</td>\n",
              "      <td>2.7</td>\n",
              "      <td>3.7</td>\n",
              "      <td>2</td>\n",
              "      <td>missed</td>\n",
              "      <td>Young, Thaddeus</td>\n",
              "      <td>201152</td>\n",
              "      <td>1.1</td>\n",
              "      <td>0</td>\n",
              "      <td>0</td>\n",
              "      <td>brian roberts</td>\n",
              "      <td>203148</td>\n",
              "    </tr>\n",
              "  </tbody>\n",
              "</table>\n",
              "</div>"
            ],
            "text/plain": [
              "    GAME_ID                   MATCHUP LOCATION  ... PTS    player_name  player_id\n",
              "0  21400899  MAR 04, 2015 - CHA @ BKN        A  ...   2  brian roberts     203148\n",
              "1  21400899  MAR 04, 2015 - CHA @ BKN        A  ...   0  brian roberts     203148\n",
              "2  21400899  MAR 04, 2015 - CHA @ BKN        A  ...   0  brian roberts     203148\n",
              "3  21400899  MAR 04, 2015 - CHA @ BKN        A  ...   0  brian roberts     203148\n",
              "4  21400899  MAR 04, 2015 - CHA @ BKN        A  ...   0  brian roberts     203148\n",
              "\n",
              "[5 rows x 21 columns]"
            ]
          },
          "metadata": {
            "tags": []
          },
          "execution_count": 3
        }
      ]
    },
    {
      "cell_type": "code",
      "metadata": {
        "id": "KziU1o6KQgcU",
        "colab_type": "code",
        "colab": {
          "base_uri": "https://localhost:8080/",
          "height": 70
        },
        "outputId": "9b862645-df66-45ff-e859-003c7c0d585d"
      },
      "source": [
        "# Get the percentage of made vs. missed shots in the data\n",
        "\n",
        "df['SHOT_RESULT'].value_counts(normalize=True)"
      ],
      "execution_count": 4,
      "outputs": [
        {
          "output_type": "execute_result",
          "data": {
            "text/plain": [
              "missed    0.547861\n",
              "made      0.452139\n",
              "Name: SHOT_RESULT, dtype: float64"
            ]
          },
          "metadata": {
            "tags": []
          },
          "execution_count": 4
        }
      ]
    },
    {
      "cell_type": "code",
      "metadata": {
        "id": "by5ajU7wQgdo",
        "colab_type": "code",
        "colab": {
          "base_uri": "https://localhost:8080/",
          "height": 308
        },
        "outputId": "f1c05c58-f533-4842-d792-7c9a05f1bee3"
      },
      "source": [
        "# Plot the percentage visually\n",
        "\n",
        "df['SHOT_RESULT'].value_counts(normalize=True).plot(kind='bar')"
      ],
      "execution_count": 5,
      "outputs": [
        {
          "output_type": "execute_result",
          "data": {
            "text/plain": [
              "<matplotlib.axes._subplots.AxesSubplot at 0x7f44962db320>"
            ]
          },
          "metadata": {
            "tags": []
          },
          "execution_count": 5
        },
        {
          "output_type": "display_data",
          "data": {
            "image/png": "[encoded data removed]",
            "text/plain": [
              "<Figure size 432x288 with 1 Axes>"
            ]
          },
          "metadata": {
            "tags": []
          }
        }
      ]
    },
    {
      "cell_type": "markdown",
      "metadata": {
        "id": "alD5-T1PQkjQ",
        "colab_type": "text"
      },
      "source": [
        " Choose your target. Which column in your tabular dataset will you predict?\n",
        "\n",
        "`Shot Result will be my target. It will be a classifcation problem.`\n",
        "\n",
        " Is your problem regression or classification?\n",
        " \n",
        " `Classification`\n",
        "\n",
        " How is your target distributed? How many classes? Are the classes imbalanced?\n",
        " \n",
        " ` My target is pretty evenly distributed. Is is binary with 2 classes, made and missed`\n",
        "\n",
        "\n",
        "Choose your evaluation metric(s).\n",
        "\n",
        "`I will use accuracy as the main metric, but will also test precision, recall, and ROC AUC as well.`\n",
        "\n",
        " Choose which observations you will use to train, validate, and test your model.\n",
        "\n",
        "`The data is on shots from October 2014-March 2015, so I will definitely do a time-based split. I will probably make my train data on 2014 shots, my validate data on Jan-2015 shots, and my test data on shots after Jan-2015 (i.e. Feb and March)`\n",
        "\n",
        " Begin to clean and explore your data."
      ]
    },
    {
      "cell_type": "code",
      "metadata": {
        "id": "QvPq5orkQgfv",
        "colab_type": "code",
        "colab": {
          "base_uri": "https://localhost:8080/",
          "height": 1000
        },
        "outputId": "ad1bf594-9f94-48ad-a3e4-72c58e47d1c9"
      },
      "source": [
        "# Create a set that includes the part of 'MATCHUP' that is just the date\n",
        "\n",
        "dates = []\n",
        "for date in df['MATCHUP']:\n",
        "  dates.append(date[:12])\n",
        "set(dates)"
      ],
      "execution_count": 6,
      "outputs": [
        {
          "output_type": "execute_result",
          "data": {
            "text/plain": [
              "{'DEC 01, 2014',\n",
              " 'DEC 02, 2014',\n",
              " 'DEC 03, 2014',\n",
              " 'DEC 04, 2014',\n",
              " 'DEC 05, 2014',\n",
              " 'DEC 06, 2014',\n",
              " 'DEC 07, 2014',\n",
              " 'DEC 08, 2014',\n",
              " 'DEC 09, 2014',\n",
              " 'DEC 10, 2014',\n",
              " 'DEC 11, 2014',\n",
              " 'DEC 12, 2014',\n",
              " 'DEC 13, 2014',\n",
              " 'DEC 14, 2014',\n",
              " 'DEC 15, 2014',\n",
              " 'DEC 16, 2014',\n",
              " 'DEC 17, 2014',\n",
              " 'DEC 18, 2014',\n",
              " 'DEC 19, 2014',\n",
              " 'DEC 20, 2014',\n",
              " 'DEC 21, 2014',\n",
              " 'DEC 22, 2014',\n",
              " 'DEC 23, 2014',\n",
              " 'DEC 25, 2014',\n",
              " 'DEC 26, 2014',\n",
              " 'DEC 27, 2014',\n",
              " 'DEC 28, 2014',\n",
              " 'DEC 29, 2014',\n",
              " 'DEC 30, 2014',\n",
              " 'DEC 31, 2014',\n",
              " 'FEB 01, 2015',\n",
              " 'FEB 02, 2015',\n",
              " 'FEB 03, 2015',\n",
              " 'FEB 04, 2015',\n",
              " 'FEB 05, 2015',\n",
              " 'FEB 06, 2015',\n",
              " 'FEB 07, 2015',\n",
              " 'FEB 08, 2015',\n",
              " 'FEB 09, 2015',\n",
              " 'FEB 10, 2015',\n",
              " 'FEB 11, 2015',\n",
              " 'FEB 12, 2015',\n",
              " 'FEB 19, 2015',\n",
              " 'FEB 20, 2015',\n",
              " 'FEB 21, 2015',\n",
              " 'FEB 22, 2015',\n",
              " 'FEB 23, 2015',\n",
              " 'FEB 24, 2015',\n",
              " 'FEB 25, 2015',\n",
              " 'FEB 26, 2015',\n",
              " 'FEB 27, 2015',\n",
              " 'FEB 28, 2015',\n",
              " 'JAN 01, 2015',\n",
              " 'JAN 02, 2015',\n",
              " 'JAN 03, 2015',\n",
              " 'JAN 04, 2015',\n",
              " 'JAN 05, 2015',\n",
              " 'JAN 06, 2015',\n",
              " 'JAN 07, 2015',\n",
              " 'JAN 08, 2015',\n",
              " 'JAN 09, 2015',\n",
              " 'JAN 10, 2015',\n",
              " 'JAN 11, 2015',\n",
              " 'JAN 12, 2015',\n",
              " 'JAN 13, 2015',\n",
              " 'JAN 14, 2015',\n",
              " 'JAN 15, 2015',\n",
              " 'JAN 16, 2015',\n",
              " 'JAN 17, 2015',\n",
              " 'JAN 18, 2015',\n",
              " 'JAN 19, 2015',\n",
              " 'JAN 20, 2015',\n",
              " 'JAN 21, 2015',\n",
              " 'JAN 22, 2015',\n",
              " 'JAN 23, 2015',\n",
              " 'JAN 24, 2015',\n",
              " 'JAN 25, 2015',\n",
              " 'JAN 26, 2015',\n",
              " 'JAN 27, 2015',\n",
              " 'JAN 28, 2015',\n",
              " 'JAN 29, 2015',\n",
              " 'JAN 30, 2015',\n",
              " 'JAN 31, 2015',\n",
              " 'MAR 01, 2015',\n",
              " 'MAR 02, 2015',\n",
              " 'MAR 03, 2015',\n",
              " 'MAR 04, 2015',\n",
              " 'NOV 01, 2014',\n",
              " 'NOV 02, 2014',\n",
              " 'NOV 03, 2014',\n",
              " 'NOV 04, 2014',\n",
              " 'NOV 05, 2014',\n",
              " 'NOV 06, 2014',\n",
              " 'NOV 07, 2014',\n",
              " 'NOV 08, 2014',\n",
              " 'NOV 09, 2014',\n",
              " 'NOV 10, 2014',\n",
              " 'NOV 11, 2014',\n",
              " 'NOV 12, 2014',\n",
              " 'NOV 13, 2014',\n",
              " 'NOV 14, 2014',\n",
              " 'NOV 15, 2014',\n",
              " 'NOV 16, 2014',\n",
              " 'NOV 17, 2014',\n",
              " 'NOV 18, 2014',\n",
              " 'NOV 19, 2014',\n",
              " 'NOV 20, 2014',\n",
              " 'NOV 21, 2014',\n",
              " 'NOV 22, 2014',\n",
              " 'NOV 23, 2014',\n",
              " 'NOV 24, 2014',\n",
              " 'NOV 25, 2014',\n",
              " 'NOV 26, 2014',\n",
              " 'NOV 28, 2014',\n",
              " 'NOV 29, 2014',\n",
              " 'NOV 30, 2014',\n",
              " 'OCT 28, 2014',\n",
              " 'OCT 29, 2014',\n",
              " 'OCT 30, 2014',\n",
              " 'OCT 31, 2014'}"
            ]
          },
          "metadata": {
            "tags": []
          },
          "execution_count": 6
        }
      ]
    },
    {
      "cell_type": "code",
      "metadata": {
        "id": "KNat_26pQgh1",
        "colab_type": "code",
        "colab": {
          "base_uri": "https://localhost:8080/",
          "height": 467
        },
        "outputId": "dfb5deaf-6884-4785-9254-9ed9a18e40a2"
      },
      "source": [
        "# create new column on the dataframe with the date that each shot was taken\n",
        "\n",
        "df['DATE'] = dates\n",
        "\n",
        "df.head()"
      ],
      "execution_count": 7,
      "outputs": [
        {
          "output_type": "execute_result",
          "data": {
            "text/html": [
              "<div>\n",
              "<style scoped>\n",
              "    .dataframe tbody tr th:only-of-type {\n",
              "        vertical-align: middle;\n",
              "    }\n",
              "\n",
              "    .dataframe tbody tr th {\n",
              "        vertical-align: top;\n",
              "    }\n",
              "\n",
              "    .dataframe thead th {\n",
              "        text-align: right;\n",
              "    }\n",
              "</style>\n",
              "<table border=\"1\" class=\"dataframe\">\n",
              "  <thead>\n",
              "    <tr style=\"text-align: right;\">\n",
              "      <th></th>\n",
              "      <th>GAME_ID</th>\n",
              "      <th>MATCHUP</th>\n",
              "      <th>LOCATION</th>\n",
              "      <th>W</th>\n",
              "      <th>FINAL_MARGIN</th>\n",
              "      <th>SHOT_NUMBER</th>\n",
              "      <th>PERIOD</th>\n",
              "      <th>GAME_CLOCK</th>\n",
              "      <th>SHOT_CLOCK</th>\n",
              "      <th>DRIBBLES</th>\n",
              "      <th>TOUCH_TIME</th>\n",
              "      <th>SHOT_DIST</th>\n",
              "      <th>PTS_TYPE</th>\n",
              "      <th>SHOT_RESULT</th>\n",
              "      <th>CLOSEST_DEFENDER</th>\n",
              "      <th>CLOSEST_DEFENDER_PLAYER_ID</th>\n",
              "      <th>CLOSE_DEF_DIST</th>\n",
              "      <th>FGM</th>\n",
              "      <th>PTS</th>\n",
              "      <th>player_name</th>\n",
              "      <th>player_id</th>\n",
              "      <th>DATE</th>\n",
              "    </tr>\n",
              "  </thead>\n",
              "  <tbody>\n",
              "    <tr>\n",
              "      <th>0</th>\n",
              "      <td>21400899</td>\n",
              "      <td>MAR 04, 2015 - CHA @ BKN</td>\n",
              "      <td>A</td>\n",
              "      <td>W</td>\n",
              "      <td>24</td>\n",
              "      <td>1</td>\n",
              "      <td>1</td>\n",
              "      <td>1:09</td>\n",
              "      <td>10.8</td>\n",
              "      <td>2</td>\n",
              "      <td>1.9</td>\n",
              "      <td>7.7</td>\n",
              "      <td>2</td>\n",
              "      <td>made</td>\n",
              "      <td>Anderson, Alan</td>\n",
              "      <td>101187</td>\n",
              "      <td>1.3</td>\n",
              "      <td>1</td>\n",
              "      <td>2</td>\n",
              "      <td>brian roberts</td>\n",
              "      <td>203148</td>\n",
              "      <td>MAR 04, 2015</td>\n",
              "    </tr>\n",
              "    <tr>\n",
              "      <th>1</th>\n",
              "      <td>21400899</td>\n",
              "      <td>MAR 04, 2015 - CHA @ BKN</td>\n",
              "      <td>A</td>\n",
              "      <td>W</td>\n",
              "      <td>24</td>\n",
              "      <td>2</td>\n",
              "      <td>1</td>\n",
              "      <td>0:14</td>\n",
              "      <td>3.4</td>\n",
              "      <td>0</td>\n",
              "      <td>0.8</td>\n",
              "      <td>28.2</td>\n",
              "      <td>3</td>\n",
              "      <td>missed</td>\n",
              "      <td>Bogdanovic, Bojan</td>\n",
              "      <td>202711</td>\n",
              "      <td>6.1</td>\n",
              "      <td>0</td>\n",
              "      <td>0</td>\n",
              "      <td>brian roberts</td>\n",
              "      <td>203148</td>\n",
              "      <td>MAR 04, 2015</td>\n",
              "    </tr>\n",
              "    <tr>\n",
              "      <th>2</th>\n",
              "      <td>21400899</td>\n",
              "      <td>MAR 04, 2015 - CHA @ BKN</td>\n",
              "      <td>A</td>\n",
              "      <td>W</td>\n",
              "      <td>24</td>\n",
              "      <td>3</td>\n",
              "      <td>1</td>\n",
              "      <td>0:00</td>\n",
              "      <td>NaN</td>\n",
              "      <td>3</td>\n",
              "      <td>2.7</td>\n",
              "      <td>10.1</td>\n",
              "      <td>2</td>\n",
              "      <td>missed</td>\n",
              "      <td>Bogdanovic, Bojan</td>\n",
              "      <td>202711</td>\n",
              "      <td>0.9</td>\n",
              "      <td>0</td>\n",
              "      <td>0</td>\n",
              "      <td>brian roberts</td>\n",
              "      <td>203148</td>\n",
              "      <td>MAR 04, 2015</td>\n",
              "    </tr>\n",
              "    <tr>\n",
              "      <th>3</th>\n",
              "      <td>21400899</td>\n",
              "      <td>MAR 04, 2015 - CHA @ BKN</td>\n",
              "      <td>A</td>\n",
              "      <td>W</td>\n",
              "      <td>24</td>\n",
              "      <td>4</td>\n",
              "      <td>2</td>\n",
              "      <td>11:47</td>\n",
              "      <td>10.3</td>\n",
              "      <td>2</td>\n",
              "      <td>1.9</td>\n",
              "      <td>17.2</td>\n",
              "      <td>2</td>\n",
              "      <td>missed</td>\n",
              "      <td>Brown, Markel</td>\n",
              "      <td>203900</td>\n",
              "      <td>3.4</td>\n",
              "      <td>0</td>\n",
              "      <td>0</td>\n",
              "      <td>brian roberts</td>\n",
              "      <td>203148</td>\n",
              "      <td>MAR 04, 2015</td>\n",
              "    </tr>\n",
              "    <tr>\n",
              "      <th>4</th>\n",
              "      <td>21400899</td>\n",
              "      <td>MAR 04, 2015 - CHA @ BKN</td>\n",
              "      <td>A</td>\n",
              "      <td>W</td>\n",
              "      <td>24</td>\n",
              "      <td>5</td>\n",
              "      <td>2</td>\n",
              "      <td>10:34</td>\n",
              "      <td>10.9</td>\n",
              "      <td>2</td>\n",
              "      <td>2.7</td>\n",
              "      <td>3.7</td>\n",
              "      <td>2</td>\n",
              "      <td>missed</td>\n",
              "      <td>Young, Thaddeus</td>\n",
              "      <td>201152</td>\n",
              "      <td>1.1</td>\n",
              "      <td>0</td>\n",
              "      <td>0</td>\n",
              "      <td>brian roberts</td>\n",
              "      <td>203148</td>\n",
              "      <td>MAR 04, 2015</td>\n",
              "    </tr>\n",
              "  </tbody>\n",
              "</table>\n",
              "</div>"
            ],
            "text/plain": [
              "    GAME_ID                   MATCHUP  ... player_id          DATE\n",
              "0  21400899  MAR 04, 2015 - CHA @ BKN  ...    203148  MAR 04, 2015\n",
              "1  21400899  MAR 04, 2015 - CHA @ BKN  ...    203148  MAR 04, 2015\n",
              "2  21400899  MAR 04, 2015 - CHA @ BKN  ...    203148  MAR 04, 2015\n",
              "3  21400899  MAR 04, 2015 - CHA @ BKN  ...    203148  MAR 04, 2015\n",
              "4  21400899  MAR 04, 2015 - CHA @ BKN  ...    203148  MAR 04, 2015\n",
              "\n",
              "[5 rows x 22 columns]"
            ]
          },
          "metadata": {
            "tags": []
          },
          "execution_count": 7
        }
      ]
    },
    {
      "cell_type": "code",
      "metadata": {
        "id": "rsVxNwTPQgmc",
        "colab_type": "code",
        "colab": {}
      },
      "source": [
        "# Change 'DATE' column datetype to datetime format\n",
        "\n",
        "df['DATE'] = pd.to_datetime(df['DATE'], infer_datetime_format=True)"
      ],
      "execution_count": 0,
      "outputs": []
    },
    {
      "cell_type": "code",
      "metadata": {
        "id": "1Vk7-VaoQgob",
        "colab_type": "code",
        "colab": {
          "base_uri": "https://localhost:8080/",
          "height": 230
        },
        "outputId": "40fc294a-4f20-4f80-c473-c677a314555c"
      },
      "source": [
        "df['DATE']"
      ],
      "execution_count": 9,
      "outputs": [
        {
          "output_type": "execute_result",
          "data": {
            "text/plain": [
              "0        2015-03-04\n",
              "1        2015-03-04\n",
              "2        2015-03-04\n",
              "3        2015-03-04\n",
              "4        2015-03-04\n",
              "            ...    \n",
              "128064   2014-10-29\n",
              "128065   2014-10-29\n",
              "128066   2014-10-29\n",
              "128067   2014-10-29\n",
              "128068   2014-10-29\n",
              "Name: DATE, Length: 128069, dtype: datetime64[ns]"
            ]
          },
          "metadata": {
            "tags": []
          },
          "execution_count": 9
        }
      ]
    },
    {
      "cell_type": "code",
      "metadata": {
        "id": "T2Vgnu4hQuZv",
        "colab_type": "code",
        "colab": {
          "base_uri": "https://localhost:8080/",
          "height": 34
        },
        "outputId": "934dc3db-caef-4f44-ae1e-c5ef6a9b0eca"
      },
      "source": [
        "# Split the data into training, validation, and testing data based on time\n",
        "train = df[df['DATE'].dt.month >= 10]\n",
        "val = df[df['DATE'].dt.month <= 1]\n",
        "test = df[(df['DATE'].dt.month == 2) | (df['DATE'].dt.month == 3)]\n",
        "\n",
        "# Print the shape of each\n",
        "train.shape, val.shape, test.shape"
      ],
      "execution_count": 10,
      "outputs": [
        {
          "output_type": "execute_result",
          "data": {
            "text/plain": [
              "((68735, 22), (33262, 22), (26072, 22))"
            ]
          },
          "metadata": {
            "tags": []
          },
          "execution_count": 10
        }
      ]
    },
    {
      "cell_type": "markdown",
      "metadata": {
        "id": "LZjm66suQxVN",
        "colab_type": "text"
      },
      "source": [
        " Begin to choose which features, if any, to exclude. Would some features \"leak\" future information?\n",
        "\n",
        " `I would exclude the 'FGM' column as that is essentially a duplicate of my target column.`"
      ]
    },
    {
      "cell_type": "code",
      "metadata": {
        "id": "M8dO7kqjQx82",
        "colab_type": "code",
        "colab": {}
      },
      "source": [
        "def convert_to_seconds(cell):\n",
        "  ''' Define a funtion that takes a cell with minutes and seconds, and converts\n",
        "      it to just seconds'''\n",
        "  Y = (int(cell.split(':')[0]) * 60) + (int(cell.split(':')[1]))\n",
        "  return Y"
      ],
      "execution_count": 0,
      "outputs": []
    },
    {
      "cell_type": "code",
      "metadata": {
        "id": "iLUKJ3zGQ0r5",
        "colab_type": "code",
        "colab": {}
      },
      "source": [
        "def wrangle(X):\n",
        "\n",
        "  # Prevent SettingWithCopyWarning\n",
        "  X = X.copy()\n",
        "\n",
        "  # feature engineer a column that is just second on the game clock using the \n",
        "  #. function I created above\n",
        "  X['game_clock_in_seconds'] = X['GAME_CLOCK'].apply(convert_to_seconds)\n",
        "\n",
        "  # Drop duplicate features\n",
        "  duplicates = ['FGM', 'CLOSEST_DEFENDER_PLAYER_ID', 'player_id', 'MATCHUP']\n",
        "  X = X.drop(columns=duplicates)\n",
        "\n",
        "  # Drop features that are \"future information\" to our model\n",
        "  futures = ['W', 'SHOT_NUMBER', 'FINAL_MARGIN', 'PTS']\n",
        "  X = X.drop(columns=futures)\n",
        "\n",
        "  return X"
      ],
      "execution_count": 0,
      "outputs": []
    },
    {
      "cell_type": "code",
      "metadata": {
        "id": "0aGnYkFoQ0t3",
        "colab_type": "code",
        "colab": {
          "base_uri": "https://localhost:8080/",
          "height": 34
        },
        "outputId": "5bd18a5b-b91a-4490-c56f-13975688d607"
      },
      "source": [
        "# wrangle all 3 of our datasets\n",
        "\n",
        "train = wrangle(train)\n",
        "val = wrangle(val)\n",
        "test = wrangle(test)\n",
        "\n",
        "# Print the shape of each wrangled dataset\n",
        "\n",
        "train.shape, val.shape, test.shape"
      ],
      "execution_count": 13,
      "outputs": [
        {
          "output_type": "execute_result",
          "data": {
            "text/plain": [
              "((68735, 15), (33262, 15), (26072, 15))"
            ]
          },
          "metadata": {
            "tags": []
          },
          "execution_count": 13
        }
      ]
    },
    {
      "cell_type": "code",
      "metadata": {
        "id": "M8tpL1CeQ0wI",
        "colab_type": "code",
        "colab": {
          "base_uri": "https://localhost:8080/",
          "height": 301
        },
        "outputId": "d58aeb0e-8f3d-4e15-d465-76177c19ea38"
      },
      "source": [
        "train.head()"
      ],
      "execution_count": 14,
      "outputs": [
        {
          "output_type": "execute_result",
          "data": {
            "text/html": [
              "<div>\n",
              "<style scoped>\n",
              "    .dataframe tbody tr th:only-of-type {\n",
              "        vertical-align: middle;\n",
              "    }\n",
              "\n",
              "    .dataframe tbody tr th {\n",
              "        vertical-align: top;\n",
              "    }\n",
              "\n",
              "    .dataframe thead th {\n",
              "        text-align: right;\n",
              "    }\n",
              "</style>\n",
              "<table border=\"1\" class=\"dataframe\">\n",
              "  <thead>\n",
              "    <tr style=\"text-align: right;\">\n",
              "      <th></th>\n",
              "      <th>GAME_ID</th>\n",
              "      <th>LOCATION</th>\n",
              "      <th>PERIOD</th>\n",
              "      <th>GAME_CLOCK</th>\n",
              "      <th>SHOT_CLOCK</th>\n",
              "      <th>DRIBBLES</th>\n",
              "      <th>TOUCH_TIME</th>\n",
              "      <th>SHOT_DIST</th>\n",
              "      <th>PTS_TYPE</th>\n",
              "      <th>SHOT_RESULT</th>\n",
              "      <th>CLOSEST_DEFENDER</th>\n",
              "      <th>CLOSE_DEF_DIST</th>\n",
              "      <th>player_name</th>\n",
              "      <th>DATE</th>\n",
              "      <th>game_clock_in_seconds</th>\n",
              "    </tr>\n",
              "  </thead>\n",
              "  <tbody>\n",
              "    <tr>\n",
              "      <th>178</th>\n",
              "      <td>21400478</td>\n",
              "      <td>A</td>\n",
              "      <td>2</td>\n",
              "      <td>7:03</td>\n",
              "      <td>9.3</td>\n",
              "      <td>0</td>\n",
              "      <td>0.8</td>\n",
              "      <td>22.0</td>\n",
              "      <td>3</td>\n",
              "      <td>made</td>\n",
              "      <td>Brewer, Corey</td>\n",
              "      <td>8.9</td>\n",
              "      <td>brian roberts</td>\n",
              "      <td>2014-12-31</td>\n",
              "      <td>423</td>\n",
              "    </tr>\n",
              "    <tr>\n",
              "      <th>179</th>\n",
              "      <td>21400478</td>\n",
              "      <td>A</td>\n",
              "      <td>4</td>\n",
              "      <td>10:00</td>\n",
              "      <td>14.3</td>\n",
              "      <td>10</td>\n",
              "      <td>10.2</td>\n",
              "      <td>13.4</td>\n",
              "      <td>2</td>\n",
              "      <td>missed</td>\n",
              "      <td>Terry, Jason</td>\n",
              "      <td>3.2</td>\n",
              "      <td>brian roberts</td>\n",
              "      <td>2014-12-31</td>\n",
              "      <td>600</td>\n",
              "    </tr>\n",
              "    <tr>\n",
              "      <th>180</th>\n",
              "      <td>21400478</td>\n",
              "      <td>A</td>\n",
              "      <td>4</td>\n",
              "      <td>8:52</td>\n",
              "      <td>0.3</td>\n",
              "      <td>3</td>\n",
              "      <td>6.1</td>\n",
              "      <td>21.5</td>\n",
              "      <td>2</td>\n",
              "      <td>missed</td>\n",
              "      <td>Terry, Jason</td>\n",
              "      <td>2.5</td>\n",
              "      <td>brian roberts</td>\n",
              "      <td>2014-12-31</td>\n",
              "      <td>532</td>\n",
              "    </tr>\n",
              "    <tr>\n",
              "      <th>181</th>\n",
              "      <td>21400478</td>\n",
              "      <td>A</td>\n",
              "      <td>4</td>\n",
              "      <td>7:40</td>\n",
              "      <td>16.2</td>\n",
              "      <td>7</td>\n",
              "      <td>6.1</td>\n",
              "      <td>19.2</td>\n",
              "      <td>2</td>\n",
              "      <td>missed</td>\n",
              "      <td>Smith, Josh</td>\n",
              "      <td>4.8</td>\n",
              "      <td>brian roberts</td>\n",
              "      <td>2014-12-31</td>\n",
              "      <td>460</td>\n",
              "    </tr>\n",
              "    <tr>\n",
              "      <th>182</th>\n",
              "      <td>21400478</td>\n",
              "      <td>A</td>\n",
              "      <td>4</td>\n",
              "      <td>7:08</td>\n",
              "      <td>14.7</td>\n",
              "      <td>0</td>\n",
              "      <td>0.7</td>\n",
              "      <td>22.5</td>\n",
              "      <td>3</td>\n",
              "      <td>missed</td>\n",
              "      <td>Terry, Jason</td>\n",
              "      <td>3.4</td>\n",
              "      <td>brian roberts</td>\n",
              "      <td>2014-12-31</td>\n",
              "      <td>428</td>\n",
              "    </tr>\n",
              "  </tbody>\n",
              "</table>\n",
              "</div>"
            ],
            "text/plain": [
              "      GAME_ID LOCATION  PERIOD  ...    player_name       DATE  game_clock_in_seconds\n",
              "178  21400478        A       2  ...  brian roberts 2014-12-31                    423\n",
              "179  21400478        A       4  ...  brian roberts 2014-12-31                    600\n",
              "180  21400478        A       4  ...  brian roberts 2014-12-31                    532\n",
              "181  21400478        A       4  ...  brian roberts 2014-12-31                    460\n",
              "182  21400478        A       4  ...  brian roberts 2014-12-31                    428\n",
              "\n",
              "[5 rows x 15 columns]"
            ]
          },
          "metadata": {
            "tags": []
          },
          "execution_count": 14
        }
      ]
    },
    {
      "cell_type": "code",
      "metadata": {
        "id": "GEPnYwD6Q0yf",
        "colab_type": "code",
        "colab": {
          "base_uri": "https://localhost:8080/",
          "height": 70
        },
        "outputId": "017b005c-54f4-4dae-b7f4-72da744cec35"
      },
      "source": [
        "# Establish a baseline accuracy (if we guessed 'Missed', we would be right\n",
        "#. roughly 54% of the time)\n",
        "\n",
        "train['SHOT_RESULT'].value_counts(normalize=True)"
      ],
      "execution_count": 15,
      "outputs": [
        {
          "output_type": "execute_result",
          "data": {
            "text/plain": [
              "missed    0.543813\n",
              "made      0.456187\n",
              "Name: SHOT_RESULT, dtype: float64"
            ]
          },
          "metadata": {
            "tags": []
          },
          "execution_count": 15
        }
      ]
    },
    {
      "cell_type": "code",
      "metadata": {
        "id": "LVjiaWCzRBRn",
        "colab_type": "code",
        "colab": {}
      },
      "source": [
        "# Create X features matrices and and y target vectors\n",
        "\n",
        "target = 'SHOT_RESULT'\n",
        "\n",
        "X_train = train.drop(columns=[target, 'DATE'])\n",
        "y_train = train[target]\n",
        "\n",
        "X_val = val.drop(columns=[target, 'DATE'])\n",
        "y_val = val[target]\n",
        "\n",
        "X_test = test.drop(columns=[target, 'DATE'])\n",
        "y_test = test[target]"
      ],
      "execution_count": 0,
      "outputs": []
    },
    {
      "cell_type": "code",
      "metadata": {
        "id": "liCuAJLxRDBe",
        "colab_type": "code",
        "colab": {}
      },
      "source": [
        "%%capture\n",
        "\n",
        "!pip install category_encoders"
      ],
      "execution_count": 0,
      "outputs": []
    },
    {
      "cell_type": "code",
      "metadata": {
        "id": "3ixRlAX7Rg0C",
        "colab_type": "code",
        "colab": {
          "base_uri": "https://localhost:8080/",
          "height": 52
        },
        "outputId": "58794066-f17f-4ffb-a7ec-2ff458666fa9"
      },
      "source": [
        "import category_encoders as ce\n",
        "from sklearn.pipeline import make_pipeline\n",
        "from sklearn.impute import SimpleImputer\n",
        "from sklearn.ensemble import RandomForestClassifier\n",
        "\n",
        "# Create a pipeline model with Random Forest Classifier\n",
        "pipeline = make_pipeline(\n",
        "    ce.OrdinalEncoder(),\n",
        "    SimpleImputer(strategy='mean'),\n",
        "    RandomForestClassifier(random_state=3, n_jobs=-1, min_samples_leaf=10)\n",
        ")\n",
        "\n",
        "# Fit the model on the training set\n",
        "pipeline.fit(X_train, y_train)\n",
        "\n",
        "# Accuracy Scores\n",
        "print('Train Accuracy:', pipeline.score(X_train, y_train))\n",
        "print('Validation Accuracy:', pipeline.score(X_val, y_val))"
      ],
      "execution_count": 27,
      "outputs": [
        {
          "output_type": "stream",
          "text": [
            "Train Accuracy: 0.8183021750200044\n",
            "Validation Accuracy: 0.6188443268594793\n"
          ],
          "name": "stdout"
        }
      ]
    },
    {
      "cell_type": "code",
      "metadata": {
        "id": "L-9bNq8ARmqx",
        "colab_type": "code",
        "colab": {
          "base_uri": "https://localhost:8080/",
          "height": 34
        },
        "outputId": "92ae767f-9882-4601-e114-581f198b5263"
      },
      "source": [
        "# XGBoost\n",
        "from xgboost import XGBClassifier\n",
        "\n",
        "# Create pipeline with XGBoost Classifier as the model\n",
        "pipeline_2 = make_pipeline(\n",
        "    ce.OrdinalEncoder(), \n",
        "    XGBClassifier(n_estimators=100, random_state=3, n_jobs=-1)\n",
        ")\n",
        "\n",
        "# Fit the model on train\n",
        "pipeline_2.fit(X_train, y_train)\n",
        "\n",
        "# Score on validation\n",
        "from sklearn.metrics import accuracy_score\n",
        "y_pred = pipeline_2.predict(X_val)\n",
        "print('Validation Accuracy:', accuracy_score(y_val, y_pred))"
      ],
      "execution_count": 22,
      "outputs": [
        {
          "output_type": "stream",
          "text": [
            "Validation Accuracy: 0.6220311466538392\n"
          ],
          "name": "stdout"
        }
      ]
    },
    {
      "cell_type": "markdown",
      "metadata": {
        "id": "HHjIiA-FTYJ4",
        "colab_type": "text"
      },
      "source": [
        "## Permutation Importances"
      ]
    },
    {
      "cell_type": "code",
      "metadata": {
        "id": "Q3_q6RPaStVd",
        "colab_type": "code",
        "colab": {
          "base_uri": "https://localhost:8080/",
          "height": 158
        },
        "outputId": "4e3a7fc6-2e03-4da4-ac71-81d141a6b98e"
      },
      "source": [
        "# Create a pipeline with just encoding and imputing\n",
        "\n",
        "transformers = make_pipeline(\n",
        "    ce.OrdinalEncoder(),\n",
        "    SimpleImputer(strategy='mean')\n",
        ")\n",
        "\n",
        "# Fit pipeline on train, transform on val\n",
        "X_train_transformed = transformers.fit_transform(X_train)\n",
        "X_val_transformed = transformers.transform(X_val)\n",
        "\n",
        "# Random Forest model fit on the transformed data above\n",
        "model = RandomForestClassifier(random_state=3, n_jobs=-1, min_samples_leaf=10)\n",
        "model.fit(X_train_transformed, y_train)"
      ],
      "execution_count": 28,
      "outputs": [
        {
          "output_type": "execute_result",
          "data": {
            "text/plain": [
              "RandomForestClassifier(bootstrap=True, ccp_alpha=0.0, class_weight=None,\n",
              "                       criterion='gini', max_depth=None, max_features='auto',\n",
              "                       max_leaf_nodes=None, max_samples=None,\n",
              "                       min_impurity_decrease=0.0, min_impurity_split=None,\n",
              "                       min_samples_leaf=10, min_samples_split=2,\n",
              "                       min_weight_fraction_leaf=0.0, n_estimators=100,\n",
              "                       n_jobs=-1, oob_score=False, random_state=3, verbose=0,\n",
              "                       warm_start=False)"
            ]
          },
          "metadata": {
            "tags": []
          },
          "execution_count": 28
        }
      ]
    },
    {
      "cell_type": "code",
      "metadata": {
        "id": "TdXElfgRVfGZ",
        "colab_type": "code",
        "colab": {}
      },
      "source": [
        "%%capture\n",
        "\n",
        "!pip install eli5"
      ],
      "execution_count": 0,
      "outputs": []
    },
    {
      "cell_type": "code",
      "metadata": {
        "id": "FtctQ24WU1i8",
        "colab_type": "code",
        "colab": {
          "base_uri": "https://localhost:8080/",
          "height": 545
        },
        "outputId": "c1b96730-df1d-45e1-91f7-cdca3a9878cd"
      },
      "source": [
        "# import eli5 libary\n",
        "import eli5\n",
        "from eli5.sklearn import PermutationImportance\n",
        "\n",
        "# create a permuter that will calculate permutation importances\n",
        "permuter = PermutationImportance(\n",
        "    model,\n",
        "    scoring='accuracy',\n",
        "    n_iter=5,\n",
        "    random_state=3\n",
        ")\n",
        "\n",
        "# Fit the permuter to the tranformed validation data\n",
        "permuter.fit(X_val_transformed, y_val)"
      ],
      "execution_count": 31,
      "outputs": [
        {
          "output_type": "stream",
          "text": [
            "/usr/local/lib/python3.6/dist-packages/sklearn/utils/deprecation.py:144: FutureWarning: The sklearn.metrics.scorer module is  deprecated in version 0.22 and will be removed in version 0.24. The corresponding classes / functions should instead be imported from sklearn.metrics. Anything that cannot be imported from sklearn.metrics is now part of the private API.\n",
            "  warnings.warn(message, FutureWarning)\n",
            "/usr/local/lib/python3.6/dist-packages/sklearn/utils/deprecation.py:144: FutureWarning: The sklearn.feature_selection.base module is  deprecated in version 0.22 and will be removed in version 0.24. The corresponding classes / functions should instead be imported from sklearn.feature_selection. Anything that cannot be imported from sklearn.feature_selection is now part of the private API.\n",
            "  warnings.warn(message, FutureWarning)\n",
            "Using TensorFlow backend.\n"
          ],
          "name": "stderr"
        },
        {
          "output_type": "display_data",
          "data": {
            "text/html": [
              "<p style=\"color: red;\">\n",
              "The default version of TensorFlow in Colab will switch to TensorFlow 2.x on the 27th of March, 2020.<br>\n",
              "We recommend you <a href=\"https://www.tensorflow.org/guide/migrate\" target=\"_blank\">upgrade</a> now\n",
              "or ensure your notebook will continue to use TensorFlow 1.x via the <code>%tensorflow_version 1.x</code> magic:\n",
              "<a href=\"https://colab.research.google.com/notebooks/tensorflow_version.ipynb\" target=\"_blank\">more info</a>.</p>\n"
            ],
            "text/plain": [
              "<IPython.core.display.HTML object>"
            ]
          },
          "metadata": {
            "tags": []
          }
        },
        {
          "output_type": "execute_result",
          "data": {
            "text/plain": [
              "PermutationImportance(cv='prefit',\n",
              "                      estimator=RandomForestClassifier(bootstrap=True,\n",
              "                                                       ccp_alpha=0.0,\n",
              "                                                       class_weight=None,\n",
              "                                                       criterion='gini',\n",
              "                                                       max_depth=None,\n",
              "                                                       max_features='auto',\n",
              "                                                       max_leaf_nodes=None,\n",
              "                                                       max_samples=None,\n",
              "                                                       min_impurity_decrease=0.0,\n",
              "                                                       min_impurity_split=None,\n",
              "                                                       min_samples_leaf=10,\n",
              "                                                       min_samples_split=2,\n",
              "                                                       min_weight_fraction_leaf=0.0,\n",
              "                                                       n_estimators=100,\n",
              "                                                       n_jobs=-1,\n",
              "                                                       oob_score=False,\n",
              "                                                       random_state=3,\n",
              "                                                       verbose=0,\n",
              "                                                       warm_start=False),\n",
              "                      n_iter=5, random_state=3, refit=True, scoring='accuracy')"
            ]
          },
          "metadata": {
            "tags": []
          },
          "execution_count": 31
        }
      ]
    },
    {
      "cell_type": "code",
      "metadata": {
        "id": "gQP3n0TIVm1_",
        "colab_type": "code",
        "colab": {
          "base_uri": "https://localhost:8080/",
          "height": 265
        },
        "outputId": "cd0a0478-2c0a-409b-83e6-5ae8540f94f8"
      },
      "source": [
        "# Create a list of feature names so that we can put in in a panda series with \n",
        "#. the feature importances\n",
        "\n",
        "feature_names = X_val.columns.tolist()\n",
        "pd.Series(permuter.feature_importances_, feature_names).sort_values(ascending=False)"
      ],
      "execution_count": 42,
      "outputs": [
        {
          "output_type": "execute_result",
          "data": {
            "text/plain": [
              "SHOT_DIST                0.083615\n",
              "CLOSE_DEF_DIST           0.009639\n",
              "TOUCH_TIME               0.008526\n",
              "SHOT_CLOCK               0.001696\n",
              "PTS_TYPE                 0.001581\n",
              "PERIOD                   0.000505\n",
              "CLOSEST_DEFENDER         0.000451\n",
              "GAME_ID                  0.000000\n",
              "DRIBBLES                -0.000078\n",
              "game_clock_in_seconds   -0.000752\n",
              "player_name             -0.000806\n",
              "LOCATION                -0.000974\n",
              "GAME_CLOCK              -0.001185\n",
              "dtype: float64"
            ]
          },
          "metadata": {
            "tags": []
          },
          "execution_count": 42
        }
      ]
    },
    {
      "cell_type": "code",
      "metadata": {
        "id": "-z80dph-V4nz",
        "colab_type": "code",
        "colab": {
          "base_uri": "https://localhost:8080/",
          "height": 250
        },
        "outputId": "8892257a-cd7b-4d6d-80d4-19a64c082dc2"
      },
      "source": [
        "eli5.show_weights(\n",
        "    permuter,\n",
        "    top=None,\n",
        "    feature_names=feature_names\n",
        ")"
      ],
      "execution_count": 43,
      "outputs": [
        {
          "output_type": "execute_result",
          "data": {
            "text/html": [
              "\n",
              "    <style>\n",
              "    table.eli5-weights tr:hover {\n",
              "        filter: brightness(85%);\n",
              "    }\n",
              "</style>\n",
              "\n",
              "\n",
              "\n",
              "    \n",
              "\n",
              "    \n",
              "\n",
              "    \n",
              "\n",
              "    \n",
              "\n",
              "    \n",
              "\n",
              "    \n",
              "\n",
              "\n",
              "    \n",
              "\n",
              "    \n",
              "\n",
              "    \n",
              "\n",
              "    \n",
              "\n",
              "    \n",
              "\n",
              "    \n",
              "\n",
              "\n",
              "    \n",
              "\n",
              "    \n",
              "\n",
              "    \n",
              "\n",
              "    \n",
              "\n",
              "    \n",
              "        <table class=\"eli5-weights eli5-feature-importances\" style=\"border-collapse: collapse; border: none; margin-top: 0em; table-layout: auto;\">\n",
              "    <thead>\n",
              "    <tr style=\"border: none;\">\n",
              "        <th style=\"padding: 0 1em 0 0.5em; text-align: right; border: none;\">Weight</th>\n",
              "        <th style=\"padding: 0 0.5em 0 0.5em; text-align: left; border: none;\">Feature</th>\n",
              "    </tr>\n",
              "    </thead>\n",
              "    <tbody>\n",
              "    \n",
              "        <tr style=\"background-color: hsl(120, 100.00%, 80.00%); border: none;\">\n",
              "            <td style=\"padding: 0 1em 0 0.5em; text-align: right; border: none;\">\n",
              "                0.0836\n",
              "                \n",
              "                    &plusmn; 0.0033\n",
              "                \n",
              "            </td>\n",
              "            <td style=\"padding: 0 0.5em 0 0.5em; text-align: left; border: none;\">\n",
              "                SHOT_DIST\n",
              "            </td>\n",
              "        </tr>\n",
              "    \n",
              "        <tr style=\"background-color: hsl(120, 100.00%, 95.59%); border: none;\">\n",
              "            <td style=\"padding: 0 1em 0 0.5em; text-align: right; border: none;\">\n",
              "                0.0096\n",
              "                \n",
              "                    &plusmn; 0.0013\n",
              "                \n",
              "            </td>\n",
              "            <td style=\"padding: 0 0.5em 0 0.5em; text-align: left; border: none;\">\n",
              "                CLOSE_DEF_DIST\n",
              "            </td>\n",
              "        </tr>\n",
              "    \n",
              "        <tr style=\"background-color: hsl(120, 100.00%, 95.95%); border: none;\">\n",
              "            <td style=\"padding: 0 1em 0 0.5em; text-align: right; border: none;\">\n",
              "                0.0085\n",
              "                \n",
              "                    &plusmn; 0.0038\n",
              "                \n",
              "            </td>\n",
              "            <td style=\"padding: 0 0.5em 0 0.5em; text-align: left; border: none;\">\n",
              "                TOUCH_TIME\n",
              "            </td>\n",
              "        </tr>\n",
              "    \n",
              "        <tr style=\"background-color: hsl(120, 100.00%, 98.69%); border: none;\">\n",
              "            <td style=\"padding: 0 1em 0 0.5em; text-align: right; border: none;\">\n",
              "                0.0017\n",
              "                \n",
              "                    &plusmn; 0.0014\n",
              "                \n",
              "            </td>\n",
              "            <td style=\"padding: 0 0.5em 0 0.5em; text-align: left; border: none;\">\n",
              "                SHOT_CLOCK\n",
              "            </td>\n",
              "        </tr>\n",
              "    \n",
              "        <tr style=\"background-color: hsl(120, 100.00%, 98.76%); border: none;\">\n",
              "            <td style=\"padding: 0 1em 0 0.5em; text-align: right; border: none;\">\n",
              "                0.0016\n",
              "                \n",
              "                    &plusmn; 0.0020\n",
              "                \n",
              "            </td>\n",
              "            <td style=\"padding: 0 0.5em 0 0.5em; text-align: left; border: none;\">\n",
              "                PTS_TYPE\n",
              "            </td>\n",
              "        </tr>\n",
              "    \n",
              "        <tr style=\"background-color: hsl(120, 100.00%, 99.44%); border: none;\">\n",
              "            <td style=\"padding: 0 1em 0 0.5em; text-align: right; border: none;\">\n",
              "                0.0005\n",
              "                \n",
              "                    &plusmn; 0.0006\n",
              "                \n",
              "            </td>\n",
              "            <td style=\"padding: 0 0.5em 0 0.5em; text-align: left; border: none;\">\n",
              "                PERIOD\n",
              "            </td>\n",
              "        </tr>\n",
              "    \n",
              "        <tr style=\"background-color: hsl(120, 100.00%, 99.48%); border: none;\">\n",
              "            <td style=\"padding: 0 1em 0 0.5em; text-align: right; border: none;\">\n",
              "                0.0005\n",
              "                \n",
              "                    &plusmn; 0.0009\n",
              "                \n",
              "            </td>\n",
              "            <td style=\"padding: 0 0.5em 0 0.5em; text-align: left; border: none;\">\n",
              "                CLOSEST_DEFENDER\n",
              "            </td>\n",
              "        </tr>\n",
              "    \n",
              "        <tr style=\"background-color: hsl(0, 100.00%, 100.00%); border: none;\">\n",
              "            <td style=\"padding: 0 1em 0 0.5em; text-align: right; border: none;\">\n",
              "                0\n",
              "                \n",
              "                    &plusmn; 0.0000\n",
              "                \n",
              "            </td>\n",
              "            <td style=\"padding: 0 0.5em 0 0.5em; text-align: left; border: none;\">\n",
              "                GAME_ID\n",
              "            </td>\n",
              "        </tr>\n",
              "    \n",
              "        <tr style=\"background-color: hsl(0, 100.00%, 99.85%); border: none;\">\n",
              "            <td style=\"padding: 0 1em 0 0.5em; text-align: right; border: none;\">\n",
              "                -0.0001\n",
              "                \n",
              "                    &plusmn; 0.0012\n",
              "                \n",
              "            </td>\n",
              "            <td style=\"padding: 0 0.5em 0 0.5em; text-align: left; border: none;\">\n",
              "                DRIBBLES\n",
              "            </td>\n",
              "        </tr>\n",
              "    \n",
              "        <tr style=\"background-color: hsl(0, 100.00%, 99.26%); border: none;\">\n",
              "            <td style=\"padding: 0 1em 0 0.5em; text-align: right; border: none;\">\n",
              "                -0.0008\n",
              "                \n",
              "                    &plusmn; 0.0011\n",
              "                \n",
              "            </td>\n",
              "            <td style=\"padding: 0 0.5em 0 0.5em; text-align: left; border: none;\">\n",
              "                game_clock_in_seconds\n",
              "            </td>\n",
              "        </tr>\n",
              "    \n",
              "        <tr style=\"background-color: hsl(0, 100.00%, 99.22%); border: none;\">\n",
              "            <td style=\"padding: 0 1em 0 0.5em; text-align: right; border: none;\">\n",
              "                -0.0008\n",
              "                \n",
              "                    &plusmn; 0.0015\n",
              "                \n",
              "            </td>\n",
              "            <td style=\"padding: 0 0.5em 0 0.5em; text-align: left; border: none;\">\n",
              "                player_name\n",
              "            </td>\n",
              "        </tr>\n",
              "    \n",
              "        <tr style=\"background-color: hsl(0, 100.00%, 99.11%); border: none;\">\n",
              "            <td style=\"padding: 0 1em 0 0.5em; text-align: right; border: none;\">\n",
              "                -0.0010\n",
              "                \n",
              "                    &plusmn; 0.0012\n",
              "                \n",
              "            </td>\n",
              "            <td style=\"padding: 0 0.5em 0 0.5em; text-align: left; border: none;\">\n",
              "                LOCATION\n",
              "            </td>\n",
              "        </tr>\n",
              "    \n",
              "        <tr style=\"background-color: hsl(0, 100.00%, 98.98%); border: none;\">\n",
              "            <td style=\"padding: 0 1em 0 0.5em; text-align: right; border: none;\">\n",
              "                -0.0012\n",
              "                \n",
              "                    &plusmn; 0.0017\n",
              "                \n",
              "            </td>\n",
              "            <td style=\"padding: 0 0.5em 0 0.5em; text-align: left; border: none;\">\n",
              "                GAME_CLOCK\n",
              "            </td>\n",
              "        </tr>\n",
              "    \n",
              "    \n",
              "    </tbody>\n",
              "</table>\n",
              "    \n",
              "\n",
              "    \n",
              "\n",
              "\n",
              "    \n",
              "\n",
              "    \n",
              "\n",
              "    \n",
              "\n",
              "    \n",
              "\n",
              "    \n",
              "\n",
              "    \n",
              "\n",
              "\n",
              "\n"
            ],
            "text/plain": [
              "<IPython.core.display.HTML object>"
            ]
          },
          "metadata": {
            "tags": []
          },
          "execution_count": 43
        }
      ]
    },
    {
      "cell_type": "code",
      "metadata": {
        "id": "jMGu8qbkWk0m",
        "colab_type": "code",
        "colab": {}
      },
      "source": [
        "# create a mask where the minimum feature importance is at least 0 weight\n",
        "\n",
        "minimum_importance = 0\n",
        "mask = permuter.feature_importances_ > minimum_importance\n",
        "\n",
        "# apply the mask to our training data\n",
        "features = X_train.columns[mask]\n",
        "X_train_masked = X_train[features]"
      ],
      "execution_count": 0,
      "outputs": []
    },
    {
      "cell_type": "code",
      "metadata": {
        "id": "Elx3dT0YW1ZI",
        "colab_type": "code",
        "colab": {
          "base_uri": "https://localhost:8080/",
          "height": 34
        },
        "outputId": "769660b7-bb5a-4aa3-fc2c-7c24d111567e"
      },
      "source": [
        "# Apply mask to validation data\n",
        "X_val_masked = X_val[features]\n",
        "\n",
        "# use pipeline from above but this time fit on masked train data\n",
        "pipeline = make_pipeline(\n",
        "    ce.OrdinalEncoder(), \n",
        "    SimpleImputer(strategy='mean'), \n",
        "    RandomForestClassifier(random_state=3, n_jobs=-1, min_samples_leaf=10)\n",
        ")\n",
        "\n",
        "# Fit on train, score on val\n",
        "pipeline.fit(X_train_masked, y_train)\n",
        "print('Validation Accuracy', pipeline.score(X_val_masked, y_val))"
      ],
      "execution_count": 49,
      "outputs": [
        {
          "output_type": "stream",
          "text": [
            "Validation Accuracy 0.6190247128855751\n"
          ],
          "name": "stdout"
        }
      ]
    },
    {
      "cell_type": "code",
      "metadata": {
        "id": "1xzVan4VXtDm",
        "colab_type": "code",
        "colab": {
          "base_uri": "https://localhost:8080/",
          "height": 34
        },
        "outputId": "ba64b02e-3f56-49f2-8fe2-324977b6f8aa"
      },
      "source": [
        "pipeline_2 = make_pipeline(\n",
        "    ce.OrdinalEncoder(), \n",
        "    XGBClassifier(n_estimators=100, random_state=3, n_jobs=-1)\n",
        ")\n",
        "\n",
        "# use the other pipeline but this time fit on masked train data\n",
        "pipeline_2.fit(X_train_masked, y_train)\n",
        "\n",
        "from sklearn.metrics import accuracy_score\n",
        "y_pred = pipeline_2.predict(X_val_masked)\n",
        "print('Validation Accuracy:', accuracy_score(y_val, y_pred))"
      ],
      "execution_count": 50,
      "outputs": [
        {
          "output_type": "stream",
          "text": [
            "Validation Accuracy: 0.6213396668871385\n"
          ],
          "name": "stdout"
        }
      ]
    },
    {
      "cell_type": "code",
      "metadata": {
        "id": "8LPNO4YRdVLy",
        "colab_type": "code",
        "colab": {}
      },
      "source": [
        "\n"
      ],
      "execution_count": 0,
      "outputs": []
    }
  ]
}