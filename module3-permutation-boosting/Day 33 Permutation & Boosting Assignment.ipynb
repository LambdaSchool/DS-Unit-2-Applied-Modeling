{
 "cells": [
  {
   "cell_type": "markdown",
   "metadata": {
    "colab_type": "text",
    "id": "nCc3XZEyG3XV"
   },
   "source": [
    "Lambda School Data Science\n",
    "\n",
    "*Unit 2, Sprint 3, Module 3*\n",
    "\n",
    "---\n",
    "\n",
    "\n",
    "# Permutation & Boosting\n",
    "\n",
    "You will use your portfolio project dataset for all assignments this sprint.\n",
    "\n",
    "## Assignment\n",
    "\n",
    "Complete these tasks for your project, and document your work.\n",
    "\n",
    "- [ ] If you haven't completed assignment #1, please do so first.\n",
    "- [ ] Continue to clean and explore your data. Make exploratory visualizations.\n",
    "- [ ] Fit a model. Does it beat your baseline? \n",
    "- [ ] Try xgboost.\n",
    "- [ ] Get your model's permutation importances.\n",
    "\n",
    "You should try to complete an initial model today, because the rest of the week, we're making model interpretation visualizations.\n",
    "\n",
    "But, if you aren't ready to try xgboost and permutation importances with your dataset today, that's okay. You can practice with another dataset instead. You may choose any dataset you've worked with previously.\n",
    "\n",
    "The data subdirectory includes the Titanic dataset for classification and the NYC apartments dataset for regression. You may want to choose one of these datasets, because example solutions will be available for each.\n",
    "\n",
    "\n",
    "## Reading\n",
    "\n",
    "Top recommendations in _**bold italic:**_\n",
    "\n",
    "#### Permutation Importances\n",
    "- _**[Kaggle / Dan Becker: Machine Learning Explainability](https://www.kaggle.com/dansbecker/permutation-importance)**_\n",
    "- [Christoph Molnar: Interpretable Machine Learning](https://christophm.github.io/interpretable-ml-book/feature-importance.html)\n",
    "\n",
    "#### (Default) Feature Importances\n",
    "  - [Ando Saabas: Selecting good features, Part 3, Random Forests](https://blog.datadive.net/selecting-good-features-part-iii-random-forests/)\n",
    "  - [Terence Parr, et al: Beware Default Random Forest Importances](https://explained.ai/rf-importance/index.html)\n",
    "\n",
    "#### Gradient Boosting\n",
    "  - [A Gentle Introduction to the Gradient Boosting Algorithm for Machine Learning](https://machinelearningmastery.com/gentle-introduction-gradient-boosting-algorithm-machine-learning/)\n",
    "  - [An Introduction to Statistical Learning](http://www-bcf.usc.edu/~gareth/ISL/ISLR%20Seventh%20Printing.pdf), Chapter 8\n",
    "  - _**[Gradient Boosting Explained](https://www.gormanalysis.com/blog/gradient-boosting-explained/)**_ — Ben Gorman\n",
    "  - [Gradient Boosting Explained](http://arogozhnikov.github.io/2016/06/24/gradient_boosting_explained.html) — Alex Rogozhnikov\n",
    "  - [How to explain gradient boosting](https://explained.ai/gradient-boosting/) — Terence Parr & Jeremy Howard"
   ]
  },
  {
   "cell_type": "code",
   "execution_count": 1,
   "metadata": {},
   "outputs": [],
   "source": [
    "import numpy as np\n",
    "import pandas as pd\n",
    "from matplotlib import pyplot as plt\n",
    "import re\n",
    "\n",
    "df = pd.read_csv(\"https://raw.githubusercontent.com/ekoly/DS-Unit-2-Applied-Modeling/master/data/ufc/data.csv\")"
   ]
  },
  {
   "cell_type": "code",
   "execution_count": 2,
   "metadata": {},
   "outputs": [],
   "source": [
    "r_fighter_cols = [col for col in df.columns if col.startswith(\"R_\")]\n",
    "b_fighter_cols = [col for col in df.columns if col.startswith(\"B_\")]\n",
    "\n",
    "other_cols = [col for col in df.columns if col not in r_fighter_cols and col not in b_fighter_cols]\n",
    "\n",
    "def extractFighters(df, fighter_cols, opp_cols, fighter_prefix, opp_prefix, fighter_color):\n",
    "\n",
    "    fighters_df = df[fighter_cols + other_cols].copy()\n",
    "    fighters_df.columns = [col.replace(fighter_prefix, \"\") for col in fighters_df.columns]\n",
    "    fighters_df[\"is_winner\"] = fighters_df[\"Winner\"] == fighter_color\n",
    "\n",
    "    opp_df = df[opp_cols].copy()\n",
    "    opp_df.columns = [re.sub(r\"^\" + opp_prefix, \"opponent_\", col) for col in opp_df.columns]\n",
    "\n",
    "    fighters_df = pd.concat([fighters_df, opp_df], axis=1)\n",
    "    \n",
    "    return fighters_df\n",
    "\n",
    "r_fighters_df = extractFighters(df, r_fighter_cols, b_fighter_cols, \"R_\", \"B_\", \"Red\")\n",
    "b_fighters_df = extractFighters(df, b_fighter_cols, r_fighter_cols, \"B_\", \"R_\", \"Blue\")\n",
    "\n",
    "fighters_df = pd.concat([r_fighters_df, b_fighters_df], axis=0)"
   ]
  },
  {
   "cell_type": "code",
   "execution_count": null,
   "metadata": {},
   "outputs": [],
   "source": [
    "pd.options.display.max_columns = 999"
   ]
  },
  {
   "cell_type": "code",
   "execution_count": null,
   "metadata": {},
   "outputs": [],
   "source": [
    "fighters_df.sort_index(axis=1, inplace=True)"
   ]
  },
  {
   "cell_type": "code",
   "execution_count": 3,
   "metadata": {},
   "outputs": [
    {
     "output_type": "execute_result",
     "data": {
      "text/plain": "   Height_cms  Reach_cms          Referee    Stance  Weight_lbs Winner   age  \\\n0      162.56     162.56     Marc Goddard  Orthodox       135.0    Red  32.0   \n1      165.10     167.64  Robert Madrigal  Southpaw       125.0    Red  31.0   \n2      180.34     193.04  Dan Miragliotta  Orthodox       155.0    Red  35.0   \n3      162.56     172.72  Kevin MacDonald  Orthodox       135.0   Blue  29.0   \n4      187.96     190.50  Dan Miragliotta  Southpaw       264.0   Blue  26.0   \n\n   avg_BODY_att  avg_BODY_landed  avg_CLINCH_att  ...  \\\n0     21.900000        16.400000       17.000000  ...   \n1     12.000000         7.714286        9.285714  ...   \n2     13.866667         8.666667        2.866667  ...   \n3     18.250000        10.250000        5.875000  ...   \n4      7.750000         6.750000       11.000000  ...   \n\n   total_time_fought(seconds)  total_title_bouts       weight_class  \\\n0                      742.60                3.0       Bantamweight   \n1                     1062.00                2.0  Women's Flyweight   \n2                      604.40                2.0        Lightweight   \n3                      690.25                0.0       Bantamweight   \n4                      440.75                0.0        Heavyweight   \n\n   win_by_Decision_Majority  win_by_Decision_Split  win_by_Decision_Unanimous  \\\n0                       0.0                    2.0                        4.0   \n1                       0.0                    1.0                        2.0   \n2                       0.0                    1.0                        3.0   \n3                       0.0                    1.0                        4.0   \n4                       0.0                    0.0                        1.0   \n\n   win_by_KO/TKO  win_by_Submission  win_by_TKO_Doctor_Stoppage  wins  \n0            2.0                0.0                         0.0   8.0  \n1            0.0                2.0                         0.0   5.0  \n2            3.0                6.0                         1.0  14.0  \n3            1.0                0.0                         0.0   6.0  \n4            2.0                0.0                         0.0   3.0  \n\n[5 rows x 158 columns]",
      "text/html": "<div>\n<style scoped>\n    .dataframe tbody tr th:only-of-type {\n        vertical-align: middle;\n    }\n\n    .dataframe tbody tr th {\n        vertical-align: top;\n    }\n\n    .dataframe thead th {\n        text-align: right;\n    }\n</style>\n<table border=\"1\" class=\"dataframe\">\n  <thead>\n    <tr style=\"text-align: right;\">\n      <th></th>\n      <th>Height_cms</th>\n      <th>Reach_cms</th>\n      <th>Referee</th>\n      <th>Stance</th>\n      <th>Weight_lbs</th>\n      <th>Winner</th>\n      <th>age</th>\n      <th>avg_BODY_att</th>\n      <th>avg_BODY_landed</th>\n      <th>avg_CLINCH_att</th>\n      <th>...</th>\n      <th>total_time_fought(seconds)</th>\n      <th>total_title_bouts</th>\n      <th>weight_class</th>\n      <th>win_by_Decision_Majority</th>\n      <th>win_by_Decision_Split</th>\n      <th>win_by_Decision_Unanimous</th>\n      <th>win_by_KO/TKO</th>\n      <th>win_by_Submission</th>\n      <th>win_by_TKO_Doctor_Stoppage</th>\n      <th>wins</th>\n    </tr>\n  </thead>\n  <tbody>\n    <tr>\n      <td>0</td>\n      <td>162.56</td>\n      <td>162.56</td>\n      <td>Marc Goddard</td>\n      <td>Orthodox</td>\n      <td>135.0</td>\n      <td>Red</td>\n      <td>32.0</td>\n      <td>21.900000</td>\n      <td>16.400000</td>\n      <td>17.000000</td>\n      <td>...</td>\n      <td>742.60</td>\n      <td>3.0</td>\n      <td>Bantamweight</td>\n      <td>0.0</td>\n      <td>2.0</td>\n      <td>4.0</td>\n      <td>2.0</td>\n      <td>0.0</td>\n      <td>0.0</td>\n      <td>8.0</td>\n    </tr>\n    <tr>\n      <td>1</td>\n      <td>165.10</td>\n      <td>167.64</td>\n      <td>Robert Madrigal</td>\n      <td>Southpaw</td>\n      <td>125.0</td>\n      <td>Red</td>\n      <td>31.0</td>\n      <td>12.000000</td>\n      <td>7.714286</td>\n      <td>9.285714</td>\n      <td>...</td>\n      <td>1062.00</td>\n      <td>2.0</td>\n      <td>Women's Flyweight</td>\n      <td>0.0</td>\n      <td>1.0</td>\n      <td>2.0</td>\n      <td>0.0</td>\n      <td>2.0</td>\n      <td>0.0</td>\n      <td>5.0</td>\n    </tr>\n    <tr>\n      <td>2</td>\n      <td>180.34</td>\n      <td>193.04</td>\n      <td>Dan Miragliotta</td>\n      <td>Orthodox</td>\n      <td>155.0</td>\n      <td>Red</td>\n      <td>35.0</td>\n      <td>13.866667</td>\n      <td>8.666667</td>\n      <td>2.866667</td>\n      <td>...</td>\n      <td>604.40</td>\n      <td>2.0</td>\n      <td>Lightweight</td>\n      <td>0.0</td>\n      <td>1.0</td>\n      <td>3.0</td>\n      <td>3.0</td>\n      <td>6.0</td>\n      <td>1.0</td>\n      <td>14.0</td>\n    </tr>\n    <tr>\n      <td>3</td>\n      <td>162.56</td>\n      <td>172.72</td>\n      <td>Kevin MacDonald</td>\n      <td>Orthodox</td>\n      <td>135.0</td>\n      <td>Blue</td>\n      <td>29.0</td>\n      <td>18.250000</td>\n      <td>10.250000</td>\n      <td>5.875000</td>\n      <td>...</td>\n      <td>690.25</td>\n      <td>0.0</td>\n      <td>Bantamweight</td>\n      <td>0.0</td>\n      <td>1.0</td>\n      <td>4.0</td>\n      <td>1.0</td>\n      <td>0.0</td>\n      <td>0.0</td>\n      <td>6.0</td>\n    </tr>\n    <tr>\n      <td>4</td>\n      <td>187.96</td>\n      <td>190.50</td>\n      <td>Dan Miragliotta</td>\n      <td>Southpaw</td>\n      <td>264.0</td>\n      <td>Blue</td>\n      <td>26.0</td>\n      <td>7.750000</td>\n      <td>6.750000</td>\n      <td>11.000000</td>\n      <td>...</td>\n      <td>440.75</td>\n      <td>0.0</td>\n      <td>Heavyweight</td>\n      <td>0.0</td>\n      <td>0.0</td>\n      <td>1.0</td>\n      <td>2.0</td>\n      <td>0.0</td>\n      <td>0.0</td>\n      <td>3.0</td>\n    </tr>\n  </tbody>\n</table>\n<p>5 rows × 158 columns</p>\n</div>"
     },
     "metadata": {},
     "execution_count": 3
    }
   ],
   "source": [
    "fighters_df.head()"
   ]
  },
  {
   "cell_type": "code",
   "execution_count": null,
   "metadata": {},
   "outputs": [],
   "source": [
    "fighers_df['is_winner'].value_counts()"
   ]
  },
  {
   "cell_type": "code",
   "execution_count": null,
   "metadata": {},
   "outputs": [],
   "source": []
  }
 ],
 "metadata": {
  "kernelspec": {
   "display_name": "Python 3",
   "language": "python",
   "name": "python3"
  },
  "language_info": {
   "codemirror_mode": {
    "name": "ipython",
    "version": 3
   },
   "file_extension": ".py",
   "mimetype": "text/x-python",
   "name": "python",
   "nbconvert_exporter": "python",
   "pygments_lexer": "ipython3",
   "version": "3.7.7-final"
  }
 },
 "nbformat": 4,
 "nbformat_minor": 1
}