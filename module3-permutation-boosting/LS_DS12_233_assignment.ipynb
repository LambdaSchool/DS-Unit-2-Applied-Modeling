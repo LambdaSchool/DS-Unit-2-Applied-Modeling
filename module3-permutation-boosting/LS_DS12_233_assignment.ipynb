{
  "nbformat": 4,
  "nbformat_minor": 0,
  "metadata": {
    "kernelspec": {
      "display_name": "Python 3",
      "language": "python",
      "name": "python3"
    },
    "language_info": {
      "codemirror_mode": {
        "name": "ipython",
        "version": 3
      },
      "file_extension": ".py",
      "mimetype": "text/x-python",
      "name": "python",
      "nbconvert_exporter": "python",
      "pygments_lexer": "ipython3",
      "version": "3.7.3"
    },
    "colab": {
      "name": "LS_DS12_233_assignment.ipynb",
      "provenance": [],
      "include_colab_link": true
    }
  },
  "cells": [
    {
      "cell_type": "markdown",
      "metadata": {
        "id": "view-in-github",
        "colab_type": "text"
      },
      "source": [
        "<a href=\"https://colab.research.google.com/github/jdz014/DS-Unit-2-Applied-Modeling/blob/master/module3-permutation-boosting/LS_DS12_233_assignment.ipynb\" target=\"_parent\"><img src=\"https://colab.research.google.com/assets/colab-badge.svg\" alt=\"Open In Colab\"/></a>"
      ]
    },
    {
      "cell_type": "markdown",
      "metadata": {
        "colab_type": "text",
        "id": "nCc3XZEyG3XV"
      },
      "source": [
        "Lambda School Data Science\n",
        "\n",
        "*Unit 2, Sprint 3, Module 3*\n",
        "\n",
        "---\n",
        "\n",
        "\n",
        "# Permutation & Boosting\n",
        "\n",
        "You will use your portfolio project dataset for all assignments this sprint.\n",
        "\n",
        "## Assignment\n",
        "\n",
        "Complete these tasks for your project, and document your work.\n",
        "\n",
        "- [ ] If you haven't completed assignment #1, please do so first.\n",
        "- [ ] Continue to clean and explore your data. Make exploratory visualizations.\n",
        "- [ ] Fit a model. Does it beat your baseline? \n",
        "- [ ] Try xgboost.\n",
        "- [ ] Get your model's permutation importances.\n",
        "\n",
        "You should try to complete an initial model today, because the rest of the week, we're making model interpretation visualizations.\n",
        "\n",
        "But, if you aren't ready to try xgboost and permutation importances with your dataset today, that's okay. You can practice with another dataset instead. You may choose any dataset you've worked with previously.\n",
        "\n",
        "The data subdirectory includes the Titanic dataset for classification and the NYC apartments dataset for regression. You may want to choose one of these datasets, because example solutions will be available for each.\n",
        "\n",
        "\n",
        "## Reading\n",
        "\n",
        "Top recommendations in _**bold italic:**_\n",
        "\n",
        "#### Permutation Importances\n",
        "- _**[Kaggle / Dan Becker: Machine Learning Explainability](https://www.kaggle.com/dansbecker/permutation-importance)**_\n",
        "- [Christoph Molnar: Interpretable Machine Learning](https://christophm.github.io/interpretable-ml-book/feature-importance.html)\n",
        "\n",
        "#### (Default) Feature Importances\n",
        "  - [Ando Saabas: Selecting good features, Part 3, Random Forests](https://blog.datadive.net/selecting-good-features-part-iii-random-forests/)\n",
        "  - [Terence Parr, et al: Beware Default Random Forest Importances](https://explained.ai/rf-importance/index.html)\n",
        "\n",
        "#### Gradient Boosting\n",
        "  - [A Gentle Introduction to the Gradient Boosting Algorithm for Machine Learning](https://machinelearningmastery.com/gentle-introduction-gradient-boosting-algorithm-machine-learning/)\n",
        "  - _**[A Kaggle Master Explains Gradient Boosting](http://blog.kaggle.com/2017/01/23/a-kaggle-master-explains-gradient-boosting/)**_\n",
        "  - [_An Introduction to Statistical Learning_](http://www-bcf.usc.edu/~gareth/ISL/ISLR%20Seventh%20Printing.pdf) Chapter 8\n",
        "  - [Gradient Boosting Explained](http://arogozhnikov.github.io/2016/06/24/gradient_boosting_explained.html)\n",
        "  - _**[Boosting](https://www.youtube.com/watch?v=GM3CDQfQ4sw) (2.5 minute video)**_"
      ]
    },
    {
      "cell_type": "code",
      "metadata": {
        "id": "aIRf8HB7MycA",
        "colab_type": "code",
        "colab": {
          "base_uri": "https://localhost:8080/",
          "height": 204
        },
        "outputId": "764d4a21-4d84-4851-d401-79404d9a3301"
      },
      "source": [
        "!wget 'https://raw.githubusercontent.com/washingtonpost/data-school-shootings/master/school-shootings-data.csv'"
      ],
      "execution_count": 1,
      "outputs": [
        {
          "output_type": "stream",
          "text": [
            "--2020-02-27 05:51:35--  https://raw.githubusercontent.com/washingtonpost/data-school-shootings/master/school-shootings-data.csv\n",
            "Resolving raw.githubusercontent.com (raw.githubusercontent.com)... 151.101.0.133, 151.101.64.133, 151.101.128.133, ...\n",
            "Connecting to raw.githubusercontent.com (raw.githubusercontent.com)|151.101.0.133|:443... connected.\n",
            "HTTP request sent, awaiting response... 200 OK\n",
            "Length: 70530 (69K) [text/plain]\n",
            "Saving to: ‘school-shootings-data.csv’\n",
            "\n",
            "school-shootings-da 100%[===================>]  68.88K  --.-KB/s    in 0.03s   \n",
            "\n",
            "2020-02-27 05:51:40 (2.45 MB/s) - ‘school-shootings-data.csv’ saved [70530/70530]\n",
            "\n"
          ],
          "name": "stdout"
        }
      ]
    },
    {
      "cell_type": "code",
      "metadata": {
        "id": "mKXTKuEKMzZ0",
        "colab_type": "code",
        "colab": {
          "base_uri": "https://localhost:8080/",
          "height": 496
        },
        "outputId": "3790eaba-2201-4177-e56d-ad55fdcd574a"
      },
      "source": [
        "import pandas as pd\n",
        "\n",
        "df = pd.read_csv('school-shootings-data.csv')\n",
        "print(df.shape)\n",
        "df.head()"
      ],
      "execution_count": 26,
      "outputs": [
        {
          "output_type": "stream",
          "text": [
            "(238, 50)\n"
          ],
          "name": "stdout"
        },
        {
          "output_type": "execute_result",
          "data": {
            "text/html": [
              "<div>\n",
              "<style scoped>\n",
              "    .dataframe tbody tr th:only-of-type {\n",
              "        vertical-align: middle;\n",
              "    }\n",
              "\n",
              "    .dataframe tbody tr th {\n",
              "        vertical-align: top;\n",
              "    }\n",
              "\n",
              "    .dataframe thead th {\n",
              "        text-align: right;\n",
              "    }\n",
              "</style>\n",
              "<table border=\"1\" class=\"dataframe\">\n",
              "  <thead>\n",
              "    <tr style=\"text-align: right;\">\n",
              "      <th></th>\n",
              "      <th>uid</th>\n",
              "      <th>nces_school_id</th>\n",
              "      <th>school_name</th>\n",
              "      <th>nces_district_id</th>\n",
              "      <th>district_name</th>\n",
              "      <th>date</th>\n",
              "      <th>school_year</th>\n",
              "      <th>year</th>\n",
              "      <th>time</th>\n",
              "      <th>day_of_week</th>\n",
              "      <th>city</th>\n",
              "      <th>state</th>\n",
              "      <th>school_type</th>\n",
              "      <th>enrollment</th>\n",
              "      <th>killed</th>\n",
              "      <th>injured</th>\n",
              "      <th>casualties</th>\n",
              "      <th>shooting_type</th>\n",
              "      <th>age_shooter1</th>\n",
              "      <th>gender_shooter1</th>\n",
              "      <th>race_ethnicity_shooter1</th>\n",
              "      <th>shooter_relationship1</th>\n",
              "      <th>shooter_deceased1</th>\n",
              "      <th>deceased_notes1</th>\n",
              "      <th>age_shooter2</th>\n",
              "      <th>gender_shooter2</th>\n",
              "      <th>race_ethnicity_shooter2</th>\n",
              "      <th>shooter_relationship2</th>\n",
              "      <th>shooter_deceased2</th>\n",
              "      <th>deceased_notes2</th>\n",
              "      <th>white</th>\n",
              "      <th>black</th>\n",
              "      <th>hispanic</th>\n",
              "      <th>asian</th>\n",
              "      <th>american_indian_alaska_native</th>\n",
              "      <th>hawaiian_native_pacific_islander</th>\n",
              "      <th>two_or_more</th>\n",
              "      <th>resource_officer</th>\n",
              "      <th>weapon</th>\n",
              "      <th>weapon_source</th>\n",
              "      <th>lat</th>\n",
              "      <th>long</th>\n",
              "      <th>staffing</th>\n",
              "      <th>low_grade</th>\n",
              "      <th>high_grade</th>\n",
              "      <th>lunch</th>\n",
              "      <th>county</th>\n",
              "      <th>state_fips</th>\n",
              "      <th>county_fips</th>\n",
              "      <th>ulocale</th>\n",
              "    </tr>\n",
              "  </thead>\n",
              "  <tbody>\n",
              "    <tr>\n",
              "      <th>0</th>\n",
              "      <td>1</td>\n",
              "      <td>080480000707</td>\n",
              "      <td>Columbine High School</td>\n",
              "      <td>804800.0</td>\n",
              "      <td>Jefferson County R-1</td>\n",
              "      <td>4/20/1999</td>\n",
              "      <td>1998-1999</td>\n",
              "      <td>1999</td>\n",
              "      <td>11:19 AM</td>\n",
              "      <td>Tuesday</td>\n",
              "      <td>Littleton</td>\n",
              "      <td>Colorado</td>\n",
              "      <td>public</td>\n",
              "      <td>1965</td>\n",
              "      <td>13</td>\n",
              "      <td>21</td>\n",
              "      <td>34</td>\n",
              "      <td>indiscriminate</td>\n",
              "      <td>18.0</td>\n",
              "      <td>m</td>\n",
              "      <td>w</td>\n",
              "      <td>student</td>\n",
              "      <td>1.0</td>\n",
              "      <td>suicide</td>\n",
              "      <td>17.0</td>\n",
              "      <td>m</td>\n",
              "      <td>w</td>\n",
              "      <td>student</td>\n",
              "      <td>1.0</td>\n",
              "      <td>suicide</td>\n",
              "      <td>1783</td>\n",
              "      <td>16.0</td>\n",
              "      <td>112.0</td>\n",
              "      <td>42.0</td>\n",
              "      <td>12.0</td>\n",
              "      <td>NaN</td>\n",
              "      <td>NaN</td>\n",
              "      <td>1</td>\n",
              "      <td>12-gauge Savage-Springfield 67H pump-action sh...</td>\n",
              "      <td>purchased from friends</td>\n",
              "      <td>39.603910</td>\n",
              "      <td>-105.075000</td>\n",
              "      <td>89.6</td>\n",
              "      <td>9</td>\n",
              "      <td>12</td>\n",
              "      <td>41.0</td>\n",
              "      <td>Jefferson County</td>\n",
              "      <td>8</td>\n",
              "      <td>8059</td>\n",
              "      <td>21.0</td>\n",
              "    </tr>\n",
              "    <tr>\n",
              "      <th>1</th>\n",
              "      <td>2</td>\n",
              "      <td>220054000422</td>\n",
              "      <td>Scotlandville Middle School</td>\n",
              "      <td>2200540.0</td>\n",
              "      <td>East Baton Rouge Parish School Board</td>\n",
              "      <td>4/22/1999</td>\n",
              "      <td>1998-1999</td>\n",
              "      <td>1999</td>\n",
              "      <td>12:30 PM</td>\n",
              "      <td>Thursday</td>\n",
              "      <td>Baton Rouge</td>\n",
              "      <td>Louisiana</td>\n",
              "      <td>public</td>\n",
              "      <td>588</td>\n",
              "      <td>0</td>\n",
              "      <td>1</td>\n",
              "      <td>1</td>\n",
              "      <td>targeted</td>\n",
              "      <td>14.0</td>\n",
              "      <td>m</td>\n",
              "      <td>NaN</td>\n",
              "      <td>former student (expelled)</td>\n",
              "      <td>0.0</td>\n",
              "      <td>NaN</td>\n",
              "      <td>NaN</td>\n",
              "      <td>NaN</td>\n",
              "      <td>NaN</td>\n",
              "      <td>NaN</td>\n",
              "      <td>NaN</td>\n",
              "      <td>NaN</td>\n",
              "      <td>5</td>\n",
              "      <td>583.0</td>\n",
              "      <td>0.0</td>\n",
              "      <td>0.0</td>\n",
              "      <td>0.0</td>\n",
              "      <td>NaN</td>\n",
              "      <td>NaN</td>\n",
              "      <td>0</td>\n",
              "      <td>.22-caliber handgun</td>\n",
              "      <td>NaN</td>\n",
              "      <td>30.529958</td>\n",
              "      <td>-91.169966</td>\n",
              "      <td>39.0</td>\n",
              "      <td>6</td>\n",
              "      <td>8</td>\n",
              "      <td>495.0</td>\n",
              "      <td>East Baton Rouge Parish</td>\n",
              "      <td>22</td>\n",
              "      <td>22033</td>\n",
              "      <td>12.0</td>\n",
              "    </tr>\n",
              "    <tr>\n",
              "      <th>2</th>\n",
              "      <td>3</td>\n",
              "      <td>130441001591</td>\n",
              "      <td>Heritage High School</td>\n",
              "      <td>1304410.0</td>\n",
              "      <td>Rockdale County</td>\n",
              "      <td>5/20/1999</td>\n",
              "      <td>1998-1999</td>\n",
              "      <td>1999</td>\n",
              "      <td>8:03 AM</td>\n",
              "      <td>Thursday</td>\n",
              "      <td>Conyers</td>\n",
              "      <td>Georgia</td>\n",
              "      <td>public</td>\n",
              "      <td>1,369</td>\n",
              "      <td>0</td>\n",
              "      <td>6</td>\n",
              "      <td>6</td>\n",
              "      <td>indiscriminate</td>\n",
              "      <td>15.0</td>\n",
              "      <td>m</td>\n",
              "      <td>w</td>\n",
              "      <td>student</td>\n",
              "      <td>0.0</td>\n",
              "      <td>NaN</td>\n",
              "      <td>NaN</td>\n",
              "      <td>NaN</td>\n",
              "      <td>NaN</td>\n",
              "      <td>NaN</td>\n",
              "      <td>NaN</td>\n",
              "      <td>NaN</td>\n",
              "      <td>1189</td>\n",
              "      <td>136.0</td>\n",
              "      <td>28.0</td>\n",
              "      <td>15.0</td>\n",
              "      <td>1.0</td>\n",
              "      <td>NaN</td>\n",
              "      <td>NaN</td>\n",
              "      <td>1</td>\n",
              "      <td>.22-caliber rifle, .357-caliber Magnum handgun</td>\n",
              "      <td>NaN</td>\n",
              "      <td>33.626922</td>\n",
              "      <td>-84.047960</td>\n",
              "      <td>84.0</td>\n",
              "      <td>9</td>\n",
              "      <td>12</td>\n",
              "      <td>125.0</td>\n",
              "      <td>Rockdale County</td>\n",
              "      <td>13</td>\n",
              "      <td>13247</td>\n",
              "      <td>21.0</td>\n",
              "    </tr>\n",
              "    <tr>\n",
              "      <th>3</th>\n",
              "      <td>4</td>\n",
              "      <td>421899003847</td>\n",
              "      <td>John Bartram High School</td>\n",
              "      <td>4218990.0</td>\n",
              "      <td>Philadelphia City SD</td>\n",
              "      <td>10/4/1999</td>\n",
              "      <td>1999-2000</td>\n",
              "      <td>1999</td>\n",
              "      <td>10:00 AM</td>\n",
              "      <td>Monday</td>\n",
              "      <td>Philadelphia</td>\n",
              "      <td>Pennsylvania</td>\n",
              "      <td>public</td>\n",
              "      <td>3147</td>\n",
              "      <td>0</td>\n",
              "      <td>1</td>\n",
              "      <td>1</td>\n",
              "      <td>targeted</td>\n",
              "      <td>17.0</td>\n",
              "      <td>m</td>\n",
              "      <td>NaN</td>\n",
              "      <td>student</td>\n",
              "      <td>0.0</td>\n",
              "      <td>NaN</td>\n",
              "      <td>NaN</td>\n",
              "      <td>NaN</td>\n",
              "      <td>NaN</td>\n",
              "      <td>NaN</td>\n",
              "      <td>NaN</td>\n",
              "      <td>NaN</td>\n",
              "      <td>209</td>\n",
              "      <td>2736.0</td>\n",
              "      <td>27.0</td>\n",
              "      <td>170.0</td>\n",
              "      <td>5.0</td>\n",
              "      <td>NaN</td>\n",
              "      <td>NaN</td>\n",
              "      <td>1</td>\n",
              "      <td>RG .25-caliber handgun</td>\n",
              "      <td>purchased from friend</td>\n",
              "      <td>39.921509</td>\n",
              "      <td>-75.234108</td>\n",
              "      <td>41.0</td>\n",
              "      <td>9</td>\n",
              "      <td>12</td>\n",
              "      <td>2007.0</td>\n",
              "      <td>Philadelphia County</td>\n",
              "      <td>42</td>\n",
              "      <td>42101</td>\n",
              "      <td>11.0</td>\n",
              "    </tr>\n",
              "    <tr>\n",
              "      <th>4</th>\n",
              "      <td>5</td>\n",
              "      <td>250279000225</td>\n",
              "      <td>Dorchester High School</td>\n",
              "      <td>2502790.0</td>\n",
              "      <td>Boston</td>\n",
              "      <td>11/3/1999</td>\n",
              "      <td>1999-2000</td>\n",
              "      <td>1999</td>\n",
              "      <td>7:40 AM</td>\n",
              "      <td>Wednesday</td>\n",
              "      <td>Boston</td>\n",
              "      <td>Massachusetts</td>\n",
              "      <td>public</td>\n",
              "      <td>1,116</td>\n",
              "      <td>0</td>\n",
              "      <td>1</td>\n",
              "      <td>1</td>\n",
              "      <td>targeted</td>\n",
              "      <td>NaN</td>\n",
              "      <td>m</td>\n",
              "      <td>NaN</td>\n",
              "      <td>NaN</td>\n",
              "      <td>0.0</td>\n",
              "      <td>NaN</td>\n",
              "      <td>NaN</td>\n",
              "      <td>NaN</td>\n",
              "      <td>NaN</td>\n",
              "      <td>NaN</td>\n",
              "      <td>NaN</td>\n",
              "      <td>NaN</td>\n",
              "      <td>40</td>\n",
              "      <td>755.0</td>\n",
              "      <td>287.0</td>\n",
              "      <td>29.0</td>\n",
              "      <td>5.0</td>\n",
              "      <td>NaN</td>\n",
              "      <td>NaN</td>\n",
              "      <td>0</td>\n",
              "      <td>NaN</td>\n",
              "      <td>NaN</td>\n",
              "      <td>42.285268</td>\n",
              "      <td>-71.075901</td>\n",
              "      <td>NaN</td>\n",
              "      <td>9</td>\n",
              "      <td>12</td>\n",
              "      <td>543.0</td>\n",
              "      <td>Suffolk County</td>\n",
              "      <td>25</td>\n",
              "      <td>25025</td>\n",
              "      <td>11.0</td>\n",
              "    </tr>\n",
              "  </tbody>\n",
              "</table>\n",
              "</div>"
            ],
            "text/plain": [
              "   uid nces_school_id  ... county_fips  ulocale\n",
              "0    1   080480000707  ...        8059     21.0\n",
              "1    2   220054000422  ...       22033     12.0\n",
              "2    3   130441001591  ...       13247     21.0\n",
              "3    4   421899003847  ...       42101     11.0\n",
              "4    5   250279000225  ...       25025     11.0\n",
              "\n",
              "[5 rows x 50 columns]"
            ]
          },
          "metadata": {
            "tags": []
          },
          "execution_count": 26
        }
      ]
    },
    {
      "cell_type": "code",
      "metadata": {
        "id": "_5J7rJvaM7lu",
        "colab_type": "code",
        "colab": {}
      },
      "source": [
        "# Replace shooting type with 'other' for rows not 'targeted' or 'indiscriminate'\n",
        "  df['shooting_type'] = df['shooting_type'].replace(['accidental', 'unclear',\n",
        "                                                    'targeted and indiscriminate',\n",
        "                                                    'public suicide',\n",
        "                                                    'hostage suicide',\n",
        "                                                    'accidental or targeted',\n",
        "                                                    'public suicide (attempted)'],\n",
        "                                                    'other')\n",
        "\n",
        "# Fill missing value with 'other'\n",
        "  df['shooting_type'] = df['shooting_type'].fillna('other')"
      ],
      "execution_count": 0,
      "outputs": []
    },
    {
      "cell_type": "code",
      "metadata": {
        "id": "6jbswTQONCRH",
        "colab_type": "code",
        "colab": {
          "base_uri": "https://localhost:8080/",
          "height": 85
        },
        "outputId": "77998a5e-98ed-4f36-bf9d-68aaa7b53d1b"
      },
      "source": [
        "# Majority class baseline 59%\n",
        "df['shooting_type'].value_counts(normalize=True)"
      ],
      "execution_count": 28,
      "outputs": [
        {
          "output_type": "execute_result",
          "data": {
            "text/plain": [
              "targeted          0.588235\n",
              "other             0.222689\n",
              "indiscriminate    0.189076\n",
              "Name: shooting_type, dtype: float64"
            ]
          },
          "metadata": {
            "tags": []
          },
          "execution_count": 28
        }
      ]
    },
    {
      "cell_type": "code",
      "metadata": {
        "id": "gwaUukIcNCql",
        "colab_type": "code",
        "colab": {
          "base_uri": "https://localhost:8080/",
          "height": 34
        },
        "outputId": "f9ba09fc-22a3-4434-bbe2-4ac21cbda10e"
      },
      "source": [
        "from sklearn.model_selection import train_test_split\n",
        "\n",
        "# Create train, test\n",
        "train, test = train_test_split(df, train_size=0.80, random_state=21, stratify=df['shooting_type'])\n",
        "\n",
        "train.shape, test.shape"
      ],
      "execution_count": 29,
      "outputs": [
        {
          "output_type": "execute_result",
          "data": {
            "text/plain": [
              "((190, 50), (48, 50))"
            ]
          },
          "metadata": {
            "tags": []
          },
          "execution_count": 29
        }
      ]
    },
    {
      "cell_type": "code",
      "metadata": {
        "id": "anfVq4HBNHyq",
        "colab_type": "code",
        "colab": {
          "base_uri": "https://localhost:8080/",
          "height": 34
        },
        "outputId": "2bc5b7ad-f9df-4a82-b373-cd38ec68460d"
      },
      "source": [
        "def wrangle(df):\n",
        "\n",
        "  # Avoid SettingWithCopyWarning\n",
        "  df = df.copy()\n",
        "\n",
        "  # Remove commas from numbers\n",
        "  df['white'] = df['white'].str.replace(\",\", \"\")\n",
        "\n",
        "  # Change from object to int\n",
        "  df['white'] = pd.to_numeric(df['white'])\n",
        "  \n",
        "  # Remove commas from numbers\n",
        "  df['enrollment'] = df['enrollment'].str.replace(\",\", \"\")\n",
        "\n",
        "  # Change from object to int\n",
        "  df['enrollment'] = pd.to_numeric(df['enrollment'])\n",
        "\n",
        "  # Fill missing values for these specific columns\n",
        "  df.fillna({'white': 0, 'black': 0, 'hispanic': 0, 'asian': 0,\n",
        "           'american_indian_alaska_native': 0,\n",
        "           'hawaiian_native_pacific_islander': 0, 'two_or_more': 0,\n",
        "           'district_name': 'Unknown', 'time': '12:00 PM', 'lat': 33.612910,\n",
        "           'long': -86.682000, 'staffing': 60.42, 'low_grade': '9',\n",
        "           'high_grade': '12'}, inplace=True)\n",
        "  \n",
        "  # Drop columns with 200+ missing values\n",
        "  df = df.drop(columns=['deceased_notes1', 'age_shooter2', 'gender_shooter2', \n",
        "                        'race_ethnicity_shooter2', 'shooter_relationship2', \n",
        "                        'shooter_deceased2', 'deceased_notes2'])\n",
        "\n",
        "  # Drop unusable variance \n",
        "  df = df.drop(columns=['uid', 'nces_school_id', 'nces_district_id', 'weapon', \n",
        "                        'weapon_source', 'state_fips', 'county_fips', 'ulocale',\n",
        "                        'lunch', 'age_shooter1', 'gender_shooter1',\n",
        "                        'race_ethnicity_shooter1', 'shooter_relationship1',\n",
        "                        'shooter_deceased1'])\n",
        "  \n",
        "  # Change date to datettime\n",
        "  df['date'] = pd.to_datetime(df['date'])\n",
        "\n",
        "  return df\n",
        "\n",
        "train = wrangle(train)\n",
        "test = wrangle(test)\n",
        "\n",
        "train.shape, test.shape"
      ],
      "execution_count": 30,
      "outputs": [
        {
          "output_type": "execute_result",
          "data": {
            "text/plain": [
              "((190, 29), (48, 29))"
            ]
          },
          "metadata": {
            "tags": []
          },
          "execution_count": 30
        }
      ]
    },
    {
      "cell_type": "code",
      "metadata": {
        "id": "qraBP39pNQO8",
        "colab_type": "code",
        "colab": {
          "base_uri": "https://localhost:8080/",
          "height": 411
        },
        "outputId": "12812cdf-b881-43bf-d2ad-0cd92aa3cb0d"
      },
      "source": [
        "!pip install category_encoders==2.*\n",
        "!pip install eli5"
      ],
      "execution_count": 31,
      "outputs": [
        {
          "output_type": "stream",
          "text": [
            "Requirement already satisfied: category_encoders==2.* in /usr/local/lib/python3.6/dist-packages (2.1.0)\n",
            "Requirement already satisfied: patsy>=0.4.1 in /usr/local/lib/python3.6/dist-packages (from category_encoders==2.*) (0.5.1)\n",
            "Requirement already satisfied: scipy>=0.19.0 in /usr/local/lib/python3.6/dist-packages (from category_encoders==2.*) (1.4.1)\n",
            "Requirement already satisfied: pandas>=0.21.1 in /usr/local/lib/python3.6/dist-packages (from category_encoders==2.*) (0.25.3)\n",
            "Requirement already satisfied: scikit-learn>=0.20.0 in /usr/local/lib/python3.6/dist-packages (from category_encoders==2.*) (0.22.1)\n",
            "Requirement already satisfied: statsmodels>=0.6.1 in /usr/local/lib/python3.6/dist-packages (from category_encoders==2.*) (0.10.2)\n",
            "Requirement already satisfied: numpy>=1.11.3 in /usr/local/lib/python3.6/dist-packages (from category_encoders==2.*) (1.17.5)\n",
            "Requirement already satisfied: six in /usr/local/lib/python3.6/dist-packages (from patsy>=0.4.1->category_encoders==2.*) (1.12.0)\n",
            "Requirement already satisfied: python-dateutil>=2.6.1 in /usr/local/lib/python3.6/dist-packages (from pandas>=0.21.1->category_encoders==2.*) (2.6.1)\n",
            "Requirement already satisfied: pytz>=2017.2 in /usr/local/lib/python3.6/dist-packages (from pandas>=0.21.1->category_encoders==2.*) (2018.9)\n",
            "Requirement already satisfied: joblib>=0.11 in /usr/local/lib/python3.6/dist-packages (from scikit-learn>=0.20.0->category_encoders==2.*) (0.14.1)\n",
            "Requirement already satisfied: eli5 in /usr/local/lib/python3.6/dist-packages (0.10.1)\n",
            "Requirement already satisfied: six in /usr/local/lib/python3.6/dist-packages (from eli5) (1.12.0)\n",
            "Requirement already satisfied: scipy in /usr/local/lib/python3.6/dist-packages (from eli5) (1.4.1)\n",
            "Requirement already satisfied: graphviz in /usr/local/lib/python3.6/dist-packages (from eli5) (0.10.1)\n",
            "Requirement already satisfied: scikit-learn>=0.18 in /usr/local/lib/python3.6/dist-packages (from eli5) (0.22.1)\n",
            "Requirement already satisfied: jinja2 in /usr/local/lib/python3.6/dist-packages (from eli5) (2.11.1)\n",
            "Requirement already satisfied: attrs>16.0.0 in /usr/local/lib/python3.6/dist-packages (from eli5) (19.3.0)\n",
            "Requirement already satisfied: tabulate>=0.7.7 in /usr/local/lib/python3.6/dist-packages (from eli5) (0.8.6)\n",
            "Requirement already satisfied: numpy>=1.9.0 in /usr/local/lib/python3.6/dist-packages (from eli5) (1.17.5)\n",
            "Requirement already satisfied: joblib>=0.11 in /usr/local/lib/python3.6/dist-packages (from scikit-learn>=0.18->eli5) (0.14.1)\n",
            "Requirement already satisfied: MarkupSafe>=0.23 in /usr/local/lib/python3.6/dist-packages (from jinja2->eli5) (1.1.1)\n"
          ],
          "name": "stdout"
        }
      ]
    },
    {
      "cell_type": "code",
      "metadata": {
        "id": "Z3zQmQEZOrLQ",
        "colab_type": "code",
        "colab": {}
      },
      "source": [
        "target = 'shooting_type'\n",
        "features = train.columns.drop([target, 'date'])\n",
        "X_train = train[features]\n",
        "y_train = train[target]\n",
        "X_test = test[features]\n",
        "y_test = test[target]"
      ],
      "execution_count": 0,
      "outputs": []
    },
    {
      "cell_type": "code",
      "metadata": {
        "id": "U3jO-2gQN6oq",
        "colab_type": "code",
        "colab": {
          "base_uri": "https://localhost:8080/",
          "height": 34
        },
        "outputId": "4c26444e-1141-4981-f597-390aa7acd955"
      },
      "source": [
        "import category_encoders as ce\n",
        "from sklearn.impute import SimpleImputer\n",
        "from sklearn.ensemble import RandomForestClassifier\n",
        "from sklearn.model_selection import train_test_split\n",
        "from sklearn.pipeline import make_pipeline\n",
        "\n",
        "pipeline = make_pipeline(\n",
        "    ce.OrdinalEncoder(),  \n",
        "    RandomForestClassifier(n_estimators=100, random_state=42, n_jobs=-1)\n",
        ")\n",
        "\n",
        "# Fit on train, score on test\n",
        "pipeline.fit(X_train, y_train)\n",
        "print('Test Accuracy', pipeline.score(X_test, y_test))"
      ],
      "execution_count": 35,
      "outputs": [
        {
          "output_type": "stream",
          "text": [
            "Test Accuracy 0.5625\n"
          ],
          "name": "stdout"
        }
      ]
    },
    {
      "cell_type": "code",
      "metadata": {
        "id": "GIyg5HE5PXoY",
        "colab_type": "code",
        "colab": {
          "base_uri": "https://localhost:8080/",
          "height": 607
        },
        "outputId": "50fb8a51-01b9-467e-93e3-ca1060c05bc0"
      },
      "source": [
        "# Get feature importances\n",
        "rf = pipeline.named_steps['randomforestclassifier']\n",
        "importances = pd.Series(rf.feature_importances_, X_train.columns)\n",
        "\n",
        "# Plot feature importances\n",
        "%matplotlib inline\n",
        "import matplotlib.pyplot as plt\n",
        "\n",
        "n = 20\n",
        "plt.figure(figsize=(10,n/2))\n",
        "plt.title(f'Top {n} features')\n",
        "importances.sort_values()[-n:].plot.barh(color='grey');"
      ],
      "execution_count": 36,
      "outputs": [
        {
          "output_type": "display_data",
          "data": {
            "image/png": "[encoded data removed]",
            "text/plain": [
              "<Figure size 720x720 with 1 Axes>"
            ]
          },
          "metadata": {
            "tags": []
          }
        }
      ]
    },
    {
      "cell_type": "code",
      "metadata": {
        "id": "PYstBAeKQAsc",
        "colab_type": "code",
        "colab": {
          "base_uri": "https://localhost:8080/",
          "height": 153
        },
        "outputId": "302df667-09c8-4008-8ecd-642b8d2a82ac"
      },
      "source": [
        "transformers = make_pipeline(\n",
        "    ce.OrdinalEncoder())\n",
        "\n",
        "X_train_transformed = transformers.fit_transform(X_train)\n",
        "\n",
        "model = RandomForestClassifier(n_estimators=100, random_state=42, n_jobs=-1)\n",
        "model.fit(X_train_transformed, y_train)"
      ],
      "execution_count": 37,
      "outputs": [
        {
          "output_type": "execute_result",
          "data": {
            "text/plain": [
              "RandomForestClassifier(bootstrap=True, ccp_alpha=0.0, class_weight=None,\n",
              "                       criterion='gini', max_depth=None, max_features='auto',\n",
              "                       max_leaf_nodes=None, max_samples=None,\n",
              "                       min_impurity_decrease=0.0, min_impurity_split=None,\n",
              "                       min_samples_leaf=1, min_samples_split=2,\n",
              "                       min_weight_fraction_leaf=0.0, n_estimators=100,\n",
              "                       n_jobs=-1, oob_score=False, random_state=42, verbose=0,\n",
              "                       warm_start=False)"
            ]
          },
          "metadata": {
            "tags": []
          },
          "execution_count": 37
        }
      ]
    },
    {
      "cell_type": "code",
      "metadata": {
        "id": "qPoKv52SRwZ5",
        "colab_type": "code",
        "colab": {
          "base_uri": "https://localhost:8080/",
          "height": 391
        },
        "outputId": "6de3e06c-3d36-4fcb-aecc-543603031278"
      },
      "source": [
        "import eli5\n",
        "from eli5.sklearn import PermutationImportance\n",
        "\n",
        "permuter = PermutationImportance(\n",
        "    model, \n",
        "    scoring='accuracy', \n",
        "    n_iter=5, \n",
        "    random_state=42\n",
        ")\n",
        "\n",
        "permuter.fit(X_train_transformed, y_train)"
      ],
      "execution_count": 38,
      "outputs": [
        {
          "output_type": "execute_result",
          "data": {
            "text/plain": [
              "PermutationImportance(cv='prefit',\n",
              "                      estimator=RandomForestClassifier(bootstrap=True,\n",
              "                                                       ccp_alpha=0.0,\n",
              "                                                       class_weight=None,\n",
              "                                                       criterion='gini',\n",
              "                                                       max_depth=None,\n",
              "                                                       max_features='auto',\n",
              "                                                       max_leaf_nodes=None,\n",
              "                                                       max_samples=None,\n",
              "                                                       min_impurity_decrease=0.0,\n",
              "                                                       min_impurity_split=None,\n",
              "                                                       min_samples_leaf=1,\n",
              "                                                       min_samples_split=2,\n",
              "                                                       min_weight_fraction_leaf=0.0,\n",
              "                                                       n_estimators=100,\n",
              "                                                       n_jobs=-1,\n",
              "                                                       oob_score=False,\n",
              "                                                       random_state=42,\n",
              "                                                       verbose=0,\n",
              "                                                       warm_start=False),\n",
              "                      n_iter=5, random_state=42, refit=True,\n",
              "                      scoring='accuracy')"
            ]
          },
          "metadata": {
            "tags": []
          },
          "execution_count": 38
        }
      ]
    },
    {
      "cell_type": "code",
      "metadata": {
        "id": "2NEHVYk4R3Ns",
        "colab_type": "code",
        "colab": {
          "base_uri": "https://localhost:8080/",
          "height": 493
        },
        "outputId": "2aaec24a-9ac2-49f6-e5c6-05635806dff2"
      },
      "source": [
        "feature_names = X_train.columns.tolist()\n",
        "pd.Series(permuter.feature_importances_, feature_names).sort_values()"
      ],
      "execution_count": 22,
      "outputs": [
        {
          "output_type": "execute_result",
          "data": {
            "text/plain": [
              "long                                0.000000\n",
              "district_name                       0.000000\n",
              "resource_officer                    0.000000\n",
              "low_grade                           0.000000\n",
              "two_or_more                         0.000000\n",
              "hawaiian_native_pacific_islander    0.000000\n",
              "city                                0.000000\n",
              "state                               0.000000\n",
              "school_type                         0.000000\n",
              "enrollment                          0.000000\n",
              "killed                              0.000000\n",
              "american_indian_alaska_native       0.000000\n",
              "high_grade                          0.000000\n",
              "school_name                         0.001053\n",
              "asian                               0.002105\n",
              "day_of_week                         0.002105\n",
              "time                                0.002105\n",
              "school_year                         0.003158\n",
              "injured                             0.003158\n",
              "black                               0.005263\n",
              "hispanic                            0.005263\n",
              "staffing                            0.005263\n",
              "casualties                          0.005263\n",
              "county                              0.006316\n",
              "year                                0.008421\n",
              "lat                                 0.013684\n",
              "white                               0.052632\n",
              "dtype: float64"
            ]
          },
          "metadata": {
            "tags": []
          },
          "execution_count": 22
        }
      ]
    },
    {
      "cell_type": "code",
      "metadata": {
        "id": "-iEfSP6aT5dZ",
        "colab_type": "code",
        "colab": {
          "base_uri": "https://localhost:8080/",
          "height": 493
        },
        "outputId": "14222f15-5b9d-40c9-faad-8cc71ce2b584"
      },
      "source": [
        "eli5.show_weights(\n",
        "    permuter, \n",
        "    top=None, # No limit: show permutation importances for all features\n",
        "    feature_names=feature_names) # must be a list"
      ],
      "execution_count": 24,
      "outputs": [
        {
          "output_type": "execute_result",
          "data": {
            "text/html": [
              "\n",
              "    <style>\n",
              "    table.eli5-weights tr:hover {\n",
              "        filter: brightness(85%);\n",
              "    }\n",
              "</style>\n",
              "\n",
              "\n",
              "\n",
              "    \n",
              "\n",
              "    \n",
              "\n",
              "    \n",
              "\n",
              "    \n",
              "\n",
              "    \n",
              "\n",
              "    \n",
              "\n",
              "\n",
              "    \n",
              "\n",
              "    \n",
              "\n",
              "    \n",
              "\n",
              "    \n",
              "\n",
              "    \n",
              "\n",
              "    \n",
              "\n",
              "\n",
              "    \n",
              "\n",
              "    \n",
              "\n",
              "    \n",
              "\n",
              "    \n",
              "\n",
              "    \n",
              "        <table class=\"eli5-weights eli5-feature-importances\" style=\"border-collapse: collapse; border: none; margin-top: 0em; table-layout: auto;\">\n",
              "    <thead>\n",
              "    <tr style=\"border: none;\">\n",
              "        <th style=\"padding: 0 1em 0 0.5em; text-align: right; border: none;\">Weight</th>\n",
              "        <th style=\"padding: 0 0.5em 0 0.5em; text-align: left; border: none;\">Feature</th>\n",
              "    </tr>\n",
              "    </thead>\n",
              "    <tbody>\n",
              "    \n",
              "        <tr style=\"background-color: hsl(120, 100.00%, 80.00%); border: none;\">\n",
              "            <td style=\"padding: 0 1em 0 0.5em; text-align: right; border: none;\">\n",
              "                0.0526\n",
              "                \n",
              "                    &plusmn; 0.0305\n",
              "                \n",
              "            </td>\n",
              "            <td style=\"padding: 0 0.5em 0 0.5em; text-align: left; border: none;\">\n",
              "                white\n",
              "            </td>\n",
              "        </tr>\n",
              "    \n",
              "        <tr style=\"background-color: hsl(120, 100.00%, 92.21%); border: none;\">\n",
              "            <td style=\"padding: 0 1em 0 0.5em; text-align: right; border: none;\">\n",
              "                0.0137\n",
              "                \n",
              "                    &plusmn; 0.0052\n",
              "                \n",
              "            </td>\n",
              "            <td style=\"padding: 0 0.5em 0 0.5em; text-align: left; border: none;\">\n",
              "                lat\n",
              "            </td>\n",
              "        </tr>\n",
              "    \n",
              "        <tr style=\"background-color: hsl(120, 100.00%, 94.45%); border: none;\">\n",
              "            <td style=\"padding: 0 1em 0 0.5em; text-align: right; border: none;\">\n",
              "                0.0084\n",
              "                \n",
              "                    &plusmn; 0.0052\n",
              "                \n",
              "            </td>\n",
              "            <td style=\"padding: 0 0.5em 0 0.5em; text-align: left; border: none;\">\n",
              "                year\n",
              "            </td>\n",
              "        </tr>\n",
              "    \n",
              "        <tr style=\"background-color: hsl(120, 100.00%, 95.47%); border: none;\">\n",
              "            <td style=\"padding: 0 1em 0 0.5em; text-align: right; border: none;\">\n",
              "                0.0063\n",
              "                \n",
              "                    &plusmn; 0.0079\n",
              "                \n",
              "            </td>\n",
              "            <td style=\"padding: 0 0.5em 0 0.5em; text-align: left; border: none;\">\n",
              "                county\n",
              "            </td>\n",
              "        </tr>\n",
              "    \n",
              "        <tr style=\"background-color: hsl(120, 100.00%, 96.01%); border: none;\">\n",
              "            <td style=\"padding: 0 1em 0 0.5em; text-align: right; border: none;\">\n",
              "                0.0053\n",
              "                \n",
              "                    &plusmn; 0.0000\n",
              "                \n",
              "            </td>\n",
              "            <td style=\"padding: 0 0.5em 0 0.5em; text-align: left; border: none;\">\n",
              "                casualties\n",
              "            </td>\n",
              "        </tr>\n",
              "    \n",
              "        <tr style=\"background-color: hsl(120, 100.00%, 96.01%); border: none;\">\n",
              "            <td style=\"padding: 0 1em 0 0.5em; text-align: right; border: none;\">\n",
              "                0.0053\n",
              "                \n",
              "                    &plusmn; 0.0067\n",
              "                \n",
              "            </td>\n",
              "            <td style=\"padding: 0 0.5em 0 0.5em; text-align: left; border: none;\">\n",
              "                staffing\n",
              "            </td>\n",
              "        </tr>\n",
              "    \n",
              "        <tr style=\"background-color: hsl(120, 100.00%, 96.01%); border: none;\">\n",
              "            <td style=\"padding: 0 1em 0 0.5em; text-align: right; border: none;\">\n",
              "                0.0053\n",
              "                \n",
              "                    &plusmn; 0.0000\n",
              "                \n",
              "            </td>\n",
              "            <td style=\"padding: 0 0.5em 0 0.5em; text-align: left; border: none;\">\n",
              "                hispanic\n",
              "            </td>\n",
              "        </tr>\n",
              "    \n",
              "        <tr style=\"background-color: hsl(120, 100.00%, 96.01%); border: none;\">\n",
              "            <td style=\"padding: 0 1em 0 0.5em; text-align: right; border: none;\">\n",
              "                0.0053\n",
              "                \n",
              "                    &plusmn; 0.0067\n",
              "                \n",
              "            </td>\n",
              "            <td style=\"padding: 0 0.5em 0 0.5em; text-align: left; border: none;\">\n",
              "                black\n",
              "            </td>\n",
              "        </tr>\n",
              "    \n",
              "        <tr style=\"background-color: hsl(120, 100.00%, 97.21%); border: none;\">\n",
              "            <td style=\"padding: 0 1em 0 0.5em; text-align: right; border: none;\">\n",
              "                0.0032\n",
              "                \n",
              "                    &plusmn; 0.0052\n",
              "                \n",
              "            </td>\n",
              "            <td style=\"padding: 0 0.5em 0 0.5em; text-align: left; border: none;\">\n",
              "                injured\n",
              "            </td>\n",
              "        </tr>\n",
              "    \n",
              "        <tr style=\"background-color: hsl(120, 100.00%, 97.21%); border: none;\">\n",
              "            <td style=\"padding: 0 1em 0 0.5em; text-align: right; border: none;\">\n",
              "                0.0032\n",
              "                \n",
              "                    &plusmn; 0.0052\n",
              "                \n",
              "            </td>\n",
              "            <td style=\"padding: 0 0.5em 0 0.5em; text-align: left; border: none;\">\n",
              "                school_year\n",
              "            </td>\n",
              "        </tr>\n",
              "    \n",
              "        <tr style=\"background-color: hsl(120, 100.00%, 97.90%); border: none;\">\n",
              "            <td style=\"padding: 0 1em 0 0.5em; text-align: right; border: none;\">\n",
              "                0.0021\n",
              "                \n",
              "                    &plusmn; 0.0052\n",
              "                \n",
              "            </td>\n",
              "            <td style=\"padding: 0 0.5em 0 0.5em; text-align: left; border: none;\">\n",
              "                time\n",
              "            </td>\n",
              "        </tr>\n",
              "    \n",
              "        <tr style=\"background-color: hsl(120, 100.00%, 97.90%); border: none;\">\n",
              "            <td style=\"padding: 0 1em 0 0.5em; text-align: right; border: none;\">\n",
              "                0.0021\n",
              "                \n",
              "                    &plusmn; 0.0052\n",
              "                \n",
              "            </td>\n",
              "            <td style=\"padding: 0 0.5em 0 0.5em; text-align: left; border: none;\">\n",
              "                day_of_week\n",
              "            </td>\n",
              "        </tr>\n",
              "    \n",
              "        <tr style=\"background-color: hsl(120, 100.00%, 97.90%); border: none;\">\n",
              "            <td style=\"padding: 0 1em 0 0.5em; text-align: right; border: none;\">\n",
              "                0.0021\n",
              "                \n",
              "                    &plusmn; 0.0052\n",
              "                \n",
              "            </td>\n",
              "            <td style=\"padding: 0 0.5em 0 0.5em; text-align: left; border: none;\">\n",
              "                asian\n",
              "            </td>\n",
              "        </tr>\n",
              "    \n",
              "        <tr style=\"background-color: hsl(120, 100.00%, 98.71%); border: none;\">\n",
              "            <td style=\"padding: 0 1em 0 0.5em; text-align: right; border: none;\">\n",
              "                0.0011\n",
              "                \n",
              "                    &plusmn; 0.0042\n",
              "                \n",
              "            </td>\n",
              "            <td style=\"padding: 0 0.5em 0 0.5em; text-align: left; border: none;\">\n",
              "                school_name\n",
              "            </td>\n",
              "        </tr>\n",
              "    \n",
              "        <tr style=\"background-color: hsl(0, 100.00%, 100.00%); border: none;\">\n",
              "            <td style=\"padding: 0 1em 0 0.5em; text-align: right; border: none;\">\n",
              "                0\n",
              "                \n",
              "                    &plusmn; 0.0000\n",
              "                \n",
              "            </td>\n",
              "            <td style=\"padding: 0 0.5em 0 0.5em; text-align: left; border: none;\">\n",
              "                high_grade\n",
              "            </td>\n",
              "        </tr>\n",
              "    \n",
              "        <tr style=\"background-color: hsl(0, 100.00%, 100.00%); border: none;\">\n",
              "            <td style=\"padding: 0 1em 0 0.5em; text-align: right; border: none;\">\n",
              "                0\n",
              "                \n",
              "                    &plusmn; 0.0000\n",
              "                \n",
              "            </td>\n",
              "            <td style=\"padding: 0 0.5em 0 0.5em; text-align: left; border: none;\">\n",
              "                american_indian_alaska_native\n",
              "            </td>\n",
              "        </tr>\n",
              "    \n",
              "        <tr style=\"background-color: hsl(0, 100.00%, 100.00%); border: none;\">\n",
              "            <td style=\"padding: 0 1em 0 0.5em; text-align: right; border: none;\">\n",
              "                0\n",
              "                \n",
              "                    &plusmn; 0.0000\n",
              "                \n",
              "            </td>\n",
              "            <td style=\"padding: 0 0.5em 0 0.5em; text-align: left; border: none;\">\n",
              "                killed\n",
              "            </td>\n",
              "        </tr>\n",
              "    \n",
              "        <tr style=\"background-color: hsl(0, 100.00%, 100.00%); border: none;\">\n",
              "            <td style=\"padding: 0 1em 0 0.5em; text-align: right; border: none;\">\n",
              "                0\n",
              "                \n",
              "                    &plusmn; 0.0000\n",
              "                \n",
              "            </td>\n",
              "            <td style=\"padding: 0 0.5em 0 0.5em; text-align: left; border: none;\">\n",
              "                enrollment\n",
              "            </td>\n",
              "        </tr>\n",
              "    \n",
              "        <tr style=\"background-color: hsl(0, 100.00%, 100.00%); border: none;\">\n",
              "            <td style=\"padding: 0 1em 0 0.5em; text-align: right; border: none;\">\n",
              "                0\n",
              "                \n",
              "                    &plusmn; 0.0000\n",
              "                \n",
              "            </td>\n",
              "            <td style=\"padding: 0 0.5em 0 0.5em; text-align: left; border: none;\">\n",
              "                school_type\n",
              "            </td>\n",
              "        </tr>\n",
              "    \n",
              "        <tr style=\"background-color: hsl(0, 100.00%, 100.00%); border: none;\">\n",
              "            <td style=\"padding: 0 1em 0 0.5em; text-align: right; border: none;\">\n",
              "                0\n",
              "                \n",
              "                    &plusmn; 0.0000\n",
              "                \n",
              "            </td>\n",
              "            <td style=\"padding: 0 0.5em 0 0.5em; text-align: left; border: none;\">\n",
              "                state\n",
              "            </td>\n",
              "        </tr>\n",
              "    \n",
              "        <tr style=\"background-color: hsl(0, 100.00%, 100.00%); border: none;\">\n",
              "            <td style=\"padding: 0 1em 0 0.5em; text-align: right; border: none;\">\n",
              "                0\n",
              "                \n",
              "                    &plusmn; 0.0000\n",
              "                \n",
              "            </td>\n",
              "            <td style=\"padding: 0 0.5em 0 0.5em; text-align: left; border: none;\">\n",
              "                city\n",
              "            </td>\n",
              "        </tr>\n",
              "    \n",
              "        <tr style=\"background-color: hsl(0, 100.00%, 100.00%); border: none;\">\n",
              "            <td style=\"padding: 0 1em 0 0.5em; text-align: right; border: none;\">\n",
              "                0\n",
              "                \n",
              "                    &plusmn; 0.0000\n",
              "                \n",
              "            </td>\n",
              "            <td style=\"padding: 0 0.5em 0 0.5em; text-align: left; border: none;\">\n",
              "                hawaiian_native_pacific_islander\n",
              "            </td>\n",
              "        </tr>\n",
              "    \n",
              "        <tr style=\"background-color: hsl(0, 100.00%, 100.00%); border: none;\">\n",
              "            <td style=\"padding: 0 1em 0 0.5em; text-align: right; border: none;\">\n",
              "                0\n",
              "                \n",
              "                    &plusmn; 0.0000\n",
              "                \n",
              "            </td>\n",
              "            <td style=\"padding: 0 0.5em 0 0.5em; text-align: left; border: none;\">\n",
              "                two_or_more\n",
              "            </td>\n",
              "        </tr>\n",
              "    \n",
              "        <tr style=\"background-color: hsl(0, 100.00%, 100.00%); border: none;\">\n",
              "            <td style=\"padding: 0 1em 0 0.5em; text-align: right; border: none;\">\n",
              "                0\n",
              "                \n",
              "                    &plusmn; 0.0000\n",
              "                \n",
              "            </td>\n",
              "            <td style=\"padding: 0 0.5em 0 0.5em; text-align: left; border: none;\">\n",
              "                low_grade\n",
              "            </td>\n",
              "        </tr>\n",
              "    \n",
              "        <tr style=\"background-color: hsl(0, 100.00%, 100.00%); border: none;\">\n",
              "            <td style=\"padding: 0 1em 0 0.5em; text-align: right; border: none;\">\n",
              "                0\n",
              "                \n",
              "                    &plusmn; 0.0000\n",
              "                \n",
              "            </td>\n",
              "            <td style=\"padding: 0 0.5em 0 0.5em; text-align: left; border: none;\">\n",
              "                resource_officer\n",
              "            </td>\n",
              "        </tr>\n",
              "    \n",
              "        <tr style=\"background-color: hsl(0, 100.00%, 100.00%); border: none;\">\n",
              "            <td style=\"padding: 0 1em 0 0.5em; text-align: right; border: none;\">\n",
              "                0\n",
              "                \n",
              "                    &plusmn; 0.0000\n",
              "                \n",
              "            </td>\n",
              "            <td style=\"padding: 0 0.5em 0 0.5em; text-align: left; border: none;\">\n",
              "                district_name\n",
              "            </td>\n",
              "        </tr>\n",
              "    \n",
              "        <tr style=\"background-color: hsl(0, 100.00%, 100.00%); border: none;\">\n",
              "            <td style=\"padding: 0 1em 0 0.5em; text-align: right; border: none;\">\n",
              "                0\n",
              "                \n",
              "                    &plusmn; 0.0000\n",
              "                \n",
              "            </td>\n",
              "            <td style=\"padding: 0 0.5em 0 0.5em; text-align: left; border: none;\">\n",
              "                long\n",
              "            </td>\n",
              "        </tr>\n",
              "    \n",
              "    \n",
              "    </tbody>\n",
              "</table>\n",
              "    \n",
              "\n",
              "    \n",
              "\n",
              "\n",
              "    \n",
              "\n",
              "    \n",
              "\n",
              "    \n",
              "\n",
              "    \n",
              "\n",
              "    \n",
              "\n",
              "    \n",
              "\n",
              "\n",
              "\n"
            ],
            "text/plain": [
              "<IPython.core.display.HTML object>"
            ]
          },
          "metadata": {
            "tags": []
          },
          "execution_count": 24
        }
      ]
    },
    {
      "cell_type": "code",
      "metadata": {
        "id": "n6rPjo5bT53X",
        "colab_type": "code",
        "colab": {
          "base_uri": "https://localhost:8080/",
          "height": 34
        },
        "outputId": "b011da3b-73b5-473d-8c1b-a43d1f45d0cc"
      },
      "source": [
        "X_train.shape"
      ],
      "execution_count": 25,
      "outputs": [
        {
          "output_type": "execute_result",
          "data": {
            "text/plain": [
              "(190, 27)"
            ]
          },
          "metadata": {
            "tags": []
          },
          "execution_count": 25
        }
      ]
    },
    {
      "cell_type": "code",
      "metadata": {
        "id": "4fnB33P6UUZr",
        "colab_type": "code",
        "colab": {}
      },
      "source": [
        "minimum_importance = 0\n",
        "mask = permuter.feature_importances_ > minimum_importance\n",
        "features = X_train.columns[mask]\n",
        "X_train = X_train[features]\n",
        "X_test = X_test[features]"
      ],
      "execution_count": 0,
      "outputs": []
    },
    {
      "cell_type": "code",
      "metadata": {
        "id": "8mxbr9_5VN_8",
        "colab_type": "code",
        "colab": {
          "base_uri": "https://localhost:8080/",
          "height": 34
        },
        "outputId": "c04ad893-d24c-405a-f08c-fb47164b7f76"
      },
      "source": [
        "# Dropped another 13 columns\n",
        "X_train.shape, X_test.shape"
      ],
      "execution_count": 42,
      "outputs": [
        {
          "output_type": "execute_result",
          "data": {
            "text/plain": [
              "((190, 14), (48, 14))"
            ]
          },
          "metadata": {
            "tags": []
          },
          "execution_count": 42
        }
      ]
    },
    {
      "cell_type": "code",
      "metadata": {
        "id": "wWV1bOGGVPfQ",
        "colab_type": "code",
        "colab": {
          "base_uri": "https://localhost:8080/",
          "height": 408
        },
        "outputId": "46537640-ab5e-4d62-8c26-bd1afdcd1353"
      },
      "source": [
        "from xgboost import XGBClassifier\n",
        "\n",
        "pipeline = make_pipeline(\n",
        "    ce.OrdinalEncoder(), \n",
        "    XGBClassifier(n_estimators=100, random_state=42, n_jobs=-1)\n",
        ")\n",
        "\n",
        "pipeline.fit(X_train, y_train)"
      ],
      "execution_count": 43,
      "outputs": [
        {
          "output_type": "execute_result",
          "data": {
            "text/plain": [
              "Pipeline(memory=None,\n",
              "         steps=[('ordinalencoder',\n",
              "                 OrdinalEncoder(cols=['school_name', 'school_year', 'time',\n",
              "                                      'day_of_week', 'county'],\n",
              "                                drop_invariant=False, handle_missing='value',\n",
              "                                handle_unknown='value',\n",
              "                                mapping=[{'col': 'school_name',\n",
              "                                          'data_type': dtype('O'),\n",
              "                                          'mapping': Fort Gibson Middle School         1\n",
              "Simonsdale Elementary School      2\n",
              "St. James Catholic School         3\n",
              "Dorchester High School            4...\n",
              "                 XGBClassifier(base_score=0.5, booster='gbtree',\n",
              "                               colsample_bylevel=1, colsample_bynode=1,\n",
              "                               colsample_bytree=1, gamma=0, learning_rate=0.1,\n",
              "                               max_delta_step=0, max_depth=3,\n",
              "                               min_child_weight=1, missing=None,\n",
              "                               n_estimators=100, n_jobs=-1, nthread=None,\n",
              "                               objective='multi:softprob', random_state=42,\n",
              "                               reg_alpha=0, reg_lambda=1, scale_pos_weight=1,\n",
              "                               seed=None, silent=None, subsample=1,\n",
              "                               verbosity=1))],\n",
              "         verbose=False)"
            ]
          },
          "metadata": {
            "tags": []
          },
          "execution_count": 43
        }
      ]
    },
    {
      "cell_type": "code",
      "metadata": {
        "id": "C7LoION5XP8X",
        "colab_type": "code",
        "colab": {
          "base_uri": "https://localhost:8080/",
          "height": 34
        },
        "outputId": "a1f3ac81-af7c-4d03-d252-fc36d2176048"
      },
      "source": [
        "# The score will be worse, but haven't tuned hyperparameters yet\n",
        "from sklearn.metrics import accuracy_score\n",
        "y_pred = pipeline.predict(X_test)\n",
        "print('Test Accuracy', accuracy_score(y_test, y_pred))"
      ],
      "execution_count": 45,
      "outputs": [
        {
          "output_type": "stream",
          "text": [
            "Test Accuracy 0.5\n"
          ],
          "name": "stdout"
        }
      ]
    },
    {
      "cell_type": "code",
      "metadata": {
        "id": "prDt5IgQXch0",
        "colab_type": "code",
        "colab": {
          "base_uri": "https://localhost:8080/",
          "height": 1000
        },
        "outputId": "cc520a86-23d0-451c-d280-f56eb6649477"
      },
      "source": [
        "encoder = ce.OrdinalEncoder()\n",
        "X_train_encoded = encoder.fit_transform(X_train)\n",
        "X_test_encoded = encoder.transform(X_test)\n",
        "\n",
        "model = XGBClassifier(\n",
        "    n_estimators=1000, # <= 1000 trees, depend on early stopping\n",
        "    max_depth=7,       # try deeper trees because of high cardinality categoricals\n",
        "    learning_rate=0.5, # try higher learning rate\n",
        "    n_jobs=-1\n",
        ")\n",
        "\n",
        "eval_set = [(X_train_encoded, y_train),\n",
        "            (X_test_encoded, y_test)]\n",
        "\n",
        "model.fit(X_train_encoded, y_train, \n",
        "          eval_set=eval_set, \n",
        "          eval_metric='merror', \n",
        "          early_stopping_rounds=50)"
      ],
      "execution_count": 72,
      "outputs": [
        {
          "output_type": "stream",
          "text": [
            "[0]\tvalidation_0-merror:0.068421\tvalidation_1-merror:0.5\n",
            "Multiple eval metrics have been passed: 'validation_1-merror' will be used for early stopping.\n",
            "\n",
            "Will train until validation_1-merror hasn't improved in 50 rounds.\n",
            "[1]\tvalidation_0-merror:0.036842\tvalidation_1-merror:0.458333\n",
            "[2]\tvalidation_0-merror:0.021053\tvalidation_1-merror:0.541667\n",
            "[3]\tvalidation_0-merror:0\tvalidation_1-merror:0.541667\n",
            "[4]\tvalidation_0-merror:0\tvalidation_1-merror:0.5\n",
            "[5]\tvalidation_0-merror:0\tvalidation_1-merror:0.520833\n",
            "[6]\tvalidation_0-merror:0\tvalidation_1-merror:0.520833\n",
            "[7]\tvalidation_0-merror:0\tvalidation_1-merror:0.520833\n",
            "[8]\tvalidation_0-merror:0\tvalidation_1-merror:0.5\n",
            "[9]\tvalidation_0-merror:0\tvalidation_1-merror:0.5\n",
            "[10]\tvalidation_0-merror:0\tvalidation_1-merror:0.520833\n",
            "[11]\tvalidation_0-merror:0\tvalidation_1-merror:0.458333\n",
            "[12]\tvalidation_0-merror:0\tvalidation_1-merror:0.458333\n",
            "[13]\tvalidation_0-merror:0\tvalidation_1-merror:0.479167\n",
            "[14]\tvalidation_0-merror:0\tvalidation_1-merror:0.479167\n",
            "[15]\tvalidation_0-merror:0\tvalidation_1-merror:0.4375\n",
            "[16]\tvalidation_0-merror:0\tvalidation_1-merror:0.4375\n",
            "[17]\tvalidation_0-merror:0\tvalidation_1-merror:0.4375\n",
            "[18]\tvalidation_0-merror:0\tvalidation_1-merror:0.4375\n",
            "[19]\tvalidation_0-merror:0\tvalidation_1-merror:0.416667\n",
            "[20]\tvalidation_0-merror:0\tvalidation_1-merror:0.416667\n",
            "[21]\tvalidation_0-merror:0\tvalidation_1-merror:0.416667\n",
            "[22]\tvalidation_0-merror:0\tvalidation_1-merror:0.416667\n",
            "[23]\tvalidation_0-merror:0\tvalidation_1-merror:0.416667\n",
            "[24]\tvalidation_0-merror:0\tvalidation_1-merror:0.416667\n",
            "[25]\tvalidation_0-merror:0\tvalidation_1-merror:0.4375\n",
            "[26]\tvalidation_0-merror:0\tvalidation_1-merror:0.416667\n",
            "[27]\tvalidation_0-merror:0\tvalidation_1-merror:0.4375\n",
            "[28]\tvalidation_0-merror:0\tvalidation_1-merror:0.416667\n",
            "[29]\tvalidation_0-merror:0\tvalidation_1-merror:0.4375\n",
            "[30]\tvalidation_0-merror:0\tvalidation_1-merror:0.4375\n",
            "[31]\tvalidation_0-merror:0\tvalidation_1-merror:0.4375\n",
            "[32]\tvalidation_0-merror:0\tvalidation_1-merror:0.416667\n",
            "[33]\tvalidation_0-merror:0\tvalidation_1-merror:0.416667\n",
            "[34]\tvalidation_0-merror:0\tvalidation_1-merror:0.416667\n",
            "[35]\tvalidation_0-merror:0\tvalidation_1-merror:0.416667\n",
            "[36]\tvalidation_0-merror:0\tvalidation_1-merror:0.416667\n",
            "[37]\tvalidation_0-merror:0\tvalidation_1-merror:0.416667\n",
            "[38]\tvalidation_0-merror:0\tvalidation_1-merror:0.416667\n",
            "[39]\tvalidation_0-merror:0\tvalidation_1-merror:0.416667\n",
            "[40]\tvalidation_0-merror:0\tvalidation_1-merror:0.416667\n",
            "[41]\tvalidation_0-merror:0\tvalidation_1-merror:0.416667\n",
            "[42]\tvalidation_0-merror:0\tvalidation_1-merror:0.395833\n",
            "[43]\tvalidation_0-merror:0\tvalidation_1-merror:0.395833\n",
            "[44]\tvalidation_0-merror:0\tvalidation_1-merror:0.395833\n",
            "[45]\tvalidation_0-merror:0\tvalidation_1-merror:0.395833\n",
            "[46]\tvalidation_0-merror:0\tvalidation_1-merror:0.395833\n",
            "[47]\tvalidation_0-merror:0\tvalidation_1-merror:0.395833\n",
            "[48]\tvalidation_0-merror:0\tvalidation_1-merror:0.375\n",
            "[49]\tvalidation_0-merror:0\tvalidation_1-merror:0.375\n",
            "[50]\tvalidation_0-merror:0\tvalidation_1-merror:0.375\n",
            "[51]\tvalidation_0-merror:0\tvalidation_1-merror:0.375\n",
            "[52]\tvalidation_0-merror:0\tvalidation_1-merror:0.375\n",
            "[53]\tvalidation_0-merror:0\tvalidation_1-merror:0.375\n",
            "[54]\tvalidation_0-merror:0\tvalidation_1-merror:0.375\n",
            "[55]\tvalidation_0-merror:0\tvalidation_1-merror:0.375\n",
            "[56]\tvalidation_0-merror:0\tvalidation_1-merror:0.375\n",
            "[57]\tvalidation_0-merror:0\tvalidation_1-merror:0.375\n",
            "[58]\tvalidation_0-merror:0\tvalidation_1-merror:0.375\n",
            "[59]\tvalidation_0-merror:0\tvalidation_1-merror:0.375\n",
            "[60]\tvalidation_0-merror:0\tvalidation_1-merror:0.375\n",
            "[61]\tvalidation_0-merror:0\tvalidation_1-merror:0.375\n",
            "[62]\tvalidation_0-merror:0\tvalidation_1-merror:0.375\n",
            "[63]\tvalidation_0-merror:0\tvalidation_1-merror:0.375\n",
            "[64]\tvalidation_0-merror:0\tvalidation_1-merror:0.375\n",
            "[65]\tvalidation_0-merror:0\tvalidation_1-merror:0.375\n",
            "[66]\tvalidation_0-merror:0\tvalidation_1-merror:0.375\n",
            "[67]\tvalidation_0-merror:0\tvalidation_1-merror:0.375\n",
            "[68]\tvalidation_0-merror:0\tvalidation_1-merror:0.375\n",
            "[69]\tvalidation_0-merror:0\tvalidation_1-merror:0.375\n",
            "[70]\tvalidation_0-merror:0\tvalidation_1-merror:0.375\n",
            "[71]\tvalidation_0-merror:0\tvalidation_1-merror:0.375\n",
            "[72]\tvalidation_0-merror:0\tvalidation_1-merror:0.375\n",
            "[73]\tvalidation_0-merror:0\tvalidation_1-merror:0.375\n",
            "[74]\tvalidation_0-merror:0\tvalidation_1-merror:0.375\n",
            "[75]\tvalidation_0-merror:0\tvalidation_1-merror:0.375\n",
            "[76]\tvalidation_0-merror:0\tvalidation_1-merror:0.375\n",
            "[77]\tvalidation_0-merror:0\tvalidation_1-merror:0.375\n",
            "[78]\tvalidation_0-merror:0\tvalidation_1-merror:0.375\n",
            "[79]\tvalidation_0-merror:0\tvalidation_1-merror:0.375\n",
            "[80]\tvalidation_0-merror:0\tvalidation_1-merror:0.375\n",
            "[81]\tvalidation_0-merror:0\tvalidation_1-merror:0.375\n",
            "[82]\tvalidation_0-merror:0\tvalidation_1-merror:0.375\n",
            "[83]\tvalidation_0-merror:0\tvalidation_1-merror:0.375\n",
            "[84]\tvalidation_0-merror:0\tvalidation_1-merror:0.375\n",
            "[85]\tvalidation_0-merror:0\tvalidation_1-merror:0.375\n",
            "[86]\tvalidation_0-merror:0\tvalidation_1-merror:0.375\n",
            "[87]\tvalidation_0-merror:0\tvalidation_1-merror:0.375\n",
            "[88]\tvalidation_0-merror:0\tvalidation_1-merror:0.375\n",
            "[89]\tvalidation_0-merror:0\tvalidation_1-merror:0.375\n",
            "[90]\tvalidation_0-merror:0\tvalidation_1-merror:0.375\n",
            "[91]\tvalidation_0-merror:0\tvalidation_1-merror:0.375\n",
            "[92]\tvalidation_0-merror:0\tvalidation_1-merror:0.375\n",
            "[93]\tvalidation_0-merror:0\tvalidation_1-merror:0.375\n",
            "[94]\tvalidation_0-merror:0\tvalidation_1-merror:0.375\n",
            "[95]\tvalidation_0-merror:0\tvalidation_1-merror:0.375\n",
            "[96]\tvalidation_0-merror:0\tvalidation_1-merror:0.375\n",
            "[97]\tvalidation_0-merror:0\tvalidation_1-merror:0.375\n",
            "[98]\tvalidation_0-merror:0\tvalidation_1-merror:0.375\n",
            "Stopping. Best iteration:\n",
            "[48]\tvalidation_0-merror:0\tvalidation_1-merror:0.375\n",
            "\n"
          ],
          "name": "stdout"
        },
        {
          "output_type": "execute_result",
          "data": {
            "text/plain": [
              "XGBClassifier(base_score=0.5, booster='gbtree', colsample_bylevel=1,\n",
              "              colsample_bynode=1, colsample_bytree=1, gamma=0,\n",
              "              learning_rate=0.5, max_delta_step=0, max_depth=7,\n",
              "              min_child_weight=1, missing=None, n_estimators=1000, n_jobs=-1,\n",
              "              nthread=None, objective='multi:softprob', random_state=0,\n",
              "              reg_alpha=0, reg_lambda=1, scale_pos_weight=1, seed=None,\n",
              "              silent=None, subsample=1, verbosity=1)"
            ]
          },
          "metadata": {
            "tags": []
          },
          "execution_count": 72
        }
      ]
    },
    {
      "cell_type": "code",
      "metadata": {
        "id": "wDBHLvDsYqc0",
        "colab_type": "code",
        "colab": {
          "base_uri": "https://localhost:8080/",
          "height": 296
        },
        "outputId": "7f99fb4e-ac82-413a-94a2-03961d982628"
      },
      "source": [
        "results = model.evals_result()\n",
        "train_error = results['validation_0']['merror']\n",
        "val_error = results['validation_1']['merror']\n",
        "epoch = list(range(1, len(train_error)+1))\n",
        "plt.plot(epoch, train_error, label='Train')\n",
        "plt.plot(epoch, val_error, label='Test')\n",
        "plt.ylabel('Classification Error')\n",
        "plt.xlabel('Model Complexity (n_estimators)')\n",
        "plt.title('Validation Curve for this XGBoost model')\n",
        "#plt.ylim((0.35, 0.6)) # Zoom in\n",
        "plt.legend();"
      ],
      "execution_count": 49,
      "outputs": [
        {
          "output_type": "display_data",
          "data": {
            "image/png": "[encoded data removed]",
            "text/plain": [
              "<Figure size 432x288 with 1 Axes>"
            ]
          },
          "metadata": {
            "tags": []
          }
        }
      ]
    },
    {
      "cell_type": "code",
      "metadata": {
        "id": "0U3JPODeaLYh",
        "colab_type": "code",
        "colab": {}
      },
      "source": [
        "# Why won't this run??\n",
        "\n",
        "# from sklearn.model_selection import RandomizedSearchCV\n",
        "# from sklearn.feature_selection import f_classif, SelectKBest\n",
        "# from sklearn.preprocessing import StandardScaler\n",
        "# from sklearn.linear_model import Ridge\n",
        "\n",
        "# pipeline = make_pipeline(\n",
        "#     ce.OrdinalEncoder(), \n",
        "#     StandardScaler(), \n",
        "#     SelectKBest(f_classif), \n",
        "#     Ridge()\n",
        "# )\n",
        "\n",
        "# param_distributions = { \n",
        "#     'selectkbest__k': range(1, len(X_train.columns)+1), \n",
        "#     'ridge__alpha': [0.1, 0.01, 1, 10], \n",
        "# }\n",
        "\n",
        "# search = RandomizedSearchCV(\n",
        "#     pipeline, \n",
        "#     param_distributions=param_distributions, \n",
        "#     n_iter=100, \n",
        "#     cv=5, \n",
        "#     scoring='accuracy', \n",
        "#     verbose=10, \n",
        "#     return_train_score=True, \n",
        "#     n_jobs=-1\n",
        "# )\n",
        "\n",
        "# search.fit(X_train, y_train);"
      ],
      "execution_count": 0,
      "outputs": []
    },
    {
      "cell_type": "code",
      "metadata": {
        "id": "vpTBWEpDct0m",
        "colab_type": "code",
        "colab": {
          "base_uri": "https://localhost:8080/",
          "height": 34
        },
        "outputId": "6331a1aa-2de2-4098-9607-dc965e19d257"
      },
      "source": [
        "X_train.shape, y_train.shape"
      ],
      "execution_count": 55,
      "outputs": [
        {
          "output_type": "execute_result",
          "data": {
            "text/plain": [
              "((190, 14), (190,))"
            ]
          },
          "metadata": {
            "tags": []
          },
          "execution_count": 55
        }
      ]
    },
    {
      "cell_type": "code",
      "metadata": {
        "id": "PjTBWhAceDmm",
        "colab_type": "code",
        "colab": {}
      },
      "source": [
        ""
      ],
      "execution_count": 0,
      "outputs": []
    }
  ]
}