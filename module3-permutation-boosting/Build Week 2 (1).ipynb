{
 "cells": [
  {
   "cell_type": "markdown",
   "metadata": {},
   "source": [
    "# Hospital Inpatient Discharges (SPARCS De-identified): 2017\n",
    "Source: New York State Health Department\n",
    "https://health.data.ny.gov/dataset/Hospital-Inpatient-Discharges-SPARCS-De-Identified/22g3-z7e7"
   ]
  },
  {
   "cell_type": "markdown",
   "metadata": {},
   "source": [
    "Goal is to predict Risk of Mortality to better inform treatment, aggresivness of approach, expectations of family..."
   ]
  },
  {
   "cell_type": "code",
   "execution_count": 1,
   "metadata": {},
   "outputs": [],
   "source": [
    "import pandas as pd\n",
    "import numpy as np"
   ]
  },
  {
   "cell_type": "code",
   "execution_count": 2,
   "metadata": {},
   "outputs": [],
   "source": [
    "# Using Hospital Inpatient Discharge information for the State of New York from 2017\n",
    "\n",
    "df= pd.read_csv('Hospital_Inpatient_Discharges__SPARCS_De-Identified___2017.csv', low_memory= False)"
   ]
  },
  {
   "cell_type": "code",
   "execution_count": 3,
   "metadata": {
    "scrolled": true
   },
   "outputs": [
    {
     "name": "stdout",
     "output_type": "stream",
     "text": [
      "(2343569, 34)\n"
     ]
    },
    {
     "data": {
      "text/html": [
       "<div>\n",
       "<style scoped>\n",
       "    .dataframe tbody tr th:only-of-type {\n",
       "        vertical-align: middle;\n",
       "    }\n",
       "\n",
       "    .dataframe tbody tr th {\n",
       "        vertical-align: top;\n",
       "    }\n",
       "\n",
       "    .dataframe thead th {\n",
       "        text-align: right;\n",
       "    }\n",
       "</style>\n",
       "<table border=\"1\" class=\"dataframe\">\n",
       "  <thead>\n",
       "    <tr style=\"text-align: right;\">\n",
       "      <th></th>\n",
       "      <th>Hospital Service Area</th>\n",
       "      <th>Hospital County</th>\n",
       "      <th>Operating Certificate Number</th>\n",
       "      <th>Permanent Facility Id</th>\n",
       "      <th>Facility Name</th>\n",
       "      <th>Age Group</th>\n",
       "      <th>Zip Code - 3 digits</th>\n",
       "      <th>Gender</th>\n",
       "      <th>Race</th>\n",
       "      <th>Ethnicity</th>\n",
       "      <th>...</th>\n",
       "      <th>APR Risk of Mortality</th>\n",
       "      <th>APR Medical Surgical Description</th>\n",
       "      <th>Payment Typology 1</th>\n",
       "      <th>Payment Typology 2</th>\n",
       "      <th>Payment Typology 3</th>\n",
       "      <th>Birth Weight</th>\n",
       "      <th>Abortion Edit Indicator</th>\n",
       "      <th>Emergency Department Indicator</th>\n",
       "      <th>Total Charges</th>\n",
       "      <th>Total Costs</th>\n",
       "    </tr>\n",
       "  </thead>\n",
       "  <tbody>\n",
       "    <tr>\n",
       "      <th>0</th>\n",
       "      <td>Hudson Valley</td>\n",
       "      <td>Westchester</td>\n",
       "      <td>5903001.0</td>\n",
       "      <td>1061.0</td>\n",
       "      <td>Montefiore Mount Vernon Hospital</td>\n",
       "      <td>30 to 49</td>\n",
       "      <td>NaN</td>\n",
       "      <td>M</td>\n",
       "      <td>White</td>\n",
       "      <td>Not Span/Hispanic</td>\n",
       "      <td>...</td>\n",
       "      <td>Minor</td>\n",
       "      <td>Medical</td>\n",
       "      <td>Medicare</td>\n",
       "      <td>Medicare</td>\n",
       "      <td>Self-Pay</td>\n",
       "      <td>NaN</td>\n",
       "      <td>N</td>\n",
       "      <td>N</td>\n",
       "      <td>114168.00</td>\n",
       "      <td>40464.04</td>\n",
       "    </tr>\n",
       "    <tr>\n",
       "      <th>1</th>\n",
       "      <td>Hudson Valley</td>\n",
       "      <td>Westchester</td>\n",
       "      <td>5903001.0</td>\n",
       "      <td>1061.0</td>\n",
       "      <td>Montefiore Mount Vernon Hospital</td>\n",
       "      <td>50 to 69</td>\n",
       "      <td>105</td>\n",
       "      <td>M</td>\n",
       "      <td>White</td>\n",
       "      <td>Spanish/Hispanic</td>\n",
       "      <td>...</td>\n",
       "      <td>Moderate</td>\n",
       "      <td>Medical</td>\n",
       "      <td>Medicaid</td>\n",
       "      <td>Medicaid</td>\n",
       "      <td>Self-Pay</td>\n",
       "      <td>NaN</td>\n",
       "      <td>N</td>\n",
       "      <td>N</td>\n",
       "      <td>58517.00</td>\n",
       "      <td>26046.50</td>\n",
       "    </tr>\n",
       "    <tr>\n",
       "      <th>2</th>\n",
       "      <td>Hudson Valley</td>\n",
       "      <td>Westchester</td>\n",
       "      <td>5903001.0</td>\n",
       "      <td>1061.0</td>\n",
       "      <td>Montefiore Mount Vernon Hospital</td>\n",
       "      <td>30 to 49</td>\n",
       "      <td>105</td>\n",
       "      <td>F</td>\n",
       "      <td>White</td>\n",
       "      <td>Unknown</td>\n",
       "      <td>...</td>\n",
       "      <td>Moderate</td>\n",
       "      <td>Medical</td>\n",
       "      <td>Department of Corrections</td>\n",
       "      <td>Self-Pay</td>\n",
       "      <td>NaN</td>\n",
       "      <td>NaN</td>\n",
       "      <td>N</td>\n",
       "      <td>N</td>\n",
       "      <td>39647.04</td>\n",
       "      <td>17397.59</td>\n",
       "    </tr>\n",
       "    <tr>\n",
       "      <th>3</th>\n",
       "      <td>Hudson Valley</td>\n",
       "      <td>Westchester</td>\n",
       "      <td>5903001.0</td>\n",
       "      <td>1061.0</td>\n",
       "      <td>Montefiore Mount Vernon Hospital</td>\n",
       "      <td>50 to 69</td>\n",
       "      <td>105</td>\n",
       "      <td>F</td>\n",
       "      <td>White</td>\n",
       "      <td>Not Span/Hispanic</td>\n",
       "      <td>...</td>\n",
       "      <td>Moderate</td>\n",
       "      <td>Medical</td>\n",
       "      <td>Medicaid</td>\n",
       "      <td>Medicaid</td>\n",
       "      <td>Self-Pay</td>\n",
       "      <td>NaN</td>\n",
       "      <td>N</td>\n",
       "      <td>N</td>\n",
       "      <td>36031.09</td>\n",
       "      <td>16118.84</td>\n",
       "    </tr>\n",
       "    <tr>\n",
       "      <th>4</th>\n",
       "      <td>Hudson Valley</td>\n",
       "      <td>Westchester</td>\n",
       "      <td>5903001.0</td>\n",
       "      <td>1061.0</td>\n",
       "      <td>Montefiore Mount Vernon Hospital</td>\n",
       "      <td>18 to 29</td>\n",
       "      <td>105</td>\n",
       "      <td>F</td>\n",
       "      <td>White</td>\n",
       "      <td>Spanish/Hispanic</td>\n",
       "      <td>...</td>\n",
       "      <td>Minor</td>\n",
       "      <td>Medical</td>\n",
       "      <td>Department of Corrections</td>\n",
       "      <td>Self-Pay</td>\n",
       "      <td>NaN</td>\n",
       "      <td>NaN</td>\n",
       "      <td>N</td>\n",
       "      <td>N</td>\n",
       "      <td>30534.00</td>\n",
       "      <td>11921.05</td>\n",
       "    </tr>\n",
       "  </tbody>\n",
       "</table>\n",
       "<p>5 rows × 34 columns</p>\n",
       "</div>"
      ],
      "text/plain": [
       "  Hospital Service Area Hospital County  Operating Certificate Number  \\\n",
       "0         Hudson Valley     Westchester                     5903001.0   \n",
       "1         Hudson Valley     Westchester                     5903001.0   \n",
       "2         Hudson Valley     Westchester                     5903001.0   \n",
       "3         Hudson Valley     Westchester                     5903001.0   \n",
       "4         Hudson Valley     Westchester                     5903001.0   \n",
       "\n",
       "   Permanent Facility Id                     Facility Name Age Group  \\\n",
       "0                 1061.0  Montefiore Mount Vernon Hospital  30 to 49   \n",
       "1                 1061.0  Montefiore Mount Vernon Hospital  50 to 69   \n",
       "2                 1061.0  Montefiore Mount Vernon Hospital  30 to 49   \n",
       "3                 1061.0  Montefiore Mount Vernon Hospital  50 to 69   \n",
       "4                 1061.0  Montefiore Mount Vernon Hospital  18 to 29   \n",
       "\n",
       "  Zip Code - 3 digits Gender   Race          Ethnicity  ...  \\\n",
       "0                 NaN      M  White  Not Span/Hispanic  ...   \n",
       "1                 105      M  White   Spanish/Hispanic  ...   \n",
       "2                 105      F  White            Unknown  ...   \n",
       "3                 105      F  White  Not Span/Hispanic  ...   \n",
       "4                 105      F  White   Spanish/Hispanic  ...   \n",
       "\n",
       "  APR Risk of Mortality APR Medical Surgical Description  \\\n",
       "0                 Minor                          Medical   \n",
       "1              Moderate                          Medical   \n",
       "2              Moderate                          Medical   \n",
       "3              Moderate                          Medical   \n",
       "4                 Minor                          Medical   \n",
       "\n",
       "          Payment Typology 1  Payment Typology 2  Payment Typology 3  \\\n",
       "0                   Medicare            Medicare            Self-Pay   \n",
       "1                   Medicaid            Medicaid            Self-Pay   \n",
       "2  Department of Corrections            Self-Pay                 NaN   \n",
       "3                   Medicaid            Medicaid            Self-Pay   \n",
       "4  Department of Corrections            Self-Pay                 NaN   \n",
       "\n",
       "  Birth Weight  Abortion Edit Indicator Emergency Department Indicator  \\\n",
       "0          NaN                        N                              N   \n",
       "1          NaN                        N                              N   \n",
       "2          NaN                        N                              N   \n",
       "3          NaN                        N                              N   \n",
       "4          NaN                        N                              N   \n",
       "\n",
       "   Total Charges Total Costs  \n",
       "0      114168.00    40464.04  \n",
       "1       58517.00    26046.50  \n",
       "2       39647.04    17397.59  \n",
       "3       36031.09    16118.84  \n",
       "4       30534.00    11921.05  \n",
       "\n",
       "[5 rows x 34 columns]"
      ]
     },
     "execution_count": 3,
     "metadata": {},
     "output_type": "execute_result"
    }
   ],
   "source": [
    "print(df.shape)\n",
    "df.head()"
   ]
  },
  {
   "cell_type": "markdown",
   "metadata": {},
   "source": [
    "## Exploration of target"
   ]
  },
  {
   "cell_type": "markdown",
   "metadata": {},
   "source": [
    "**The target that I want to predict is APR Risk of Mortality.**\n",
    "\n",
    "This is an important target as it will dictate certain decisions such as treatments, aggresiveness of care, familial preparations for the worst outcome etc...\n",
    "- Ordinal rank Minor(1), Moderate(2), Major(3), Extreme(4)\n",
    "\n",
    "It is important to determine this metric early on in the process of treating the patient as this is a crucial piece of information in creating efficient and effective treatment plans for higher risk patients.\n",
    "\n",
    "As such, while doing feature selection we will consider the timeframe of when certain features are available in order to implement the model earlier in the process."
   ]
  },
  {
   "cell_type": "code",
   "execution_count": 4,
   "metadata": {},
   "outputs": [],
   "source": [
    "# Ordinal encode\n",
    "df['APR Risk of Mortality'] = df['APR Risk of Mortality'].replace({\n",
    "    'Minor': 1,\n",
    "    \"Moderate\": 2,\n",
    "    \"Major\": 3,\n",
    "    \"Extreme\": 4\n",
    "})"
   ]
  },
  {
   "cell_type": "code",
   "execution_count": 5,
   "metadata": {},
   "outputs": [
    {
     "data": {
      "text/plain": [
       "count    2.343329e+06\n",
       "mean     1.691481e+00\n",
       "std      9.164827e-01\n",
       "min      1.000000e+00\n",
       "25%      1.000000e+00\n",
       "50%      1.000000e+00\n",
       "75%      2.000000e+00\n",
       "max      4.000000e+00\n",
       "Name: APR Risk of Mortality, dtype: float64"
      ]
     },
     "execution_count": 5,
     "metadata": {},
     "output_type": "execute_result"
    }
   ],
   "source": [
    "# Target is 'APR Risk of Mortality'\n",
    "\n",
    "# Look at target statistics\n",
    "df['APR Risk of Mortality'].describe()"
   ]
  },
  {
   "cell_type": "code",
   "execution_count": 6,
   "metadata": {},
   "outputs": [
    {
     "data": {
      "text/plain": [
       "1.0    1338452\n",
       "2.0     508068\n",
       "3.0     378128\n",
       "4.0     118681\n",
       "Name: APR Risk of Mortality, dtype: int64"
      ]
     },
     "execution_count": 6,
     "metadata": {},
     "output_type": "execute_result"
    }
   ],
   "source": [
    "# Value counts\n",
    "\n",
    "df['APR Risk of Mortality'].value_counts()"
   ]
  },
  {
   "cell_type": "code",
   "execution_count": 7,
   "metadata": {},
   "outputs": [
    {
     "data": {
      "image/png": "[encoded data removed]",
      "text/plain": [
       "<Figure size 432x288 with 1 Axes>"
      ]
     },
     "metadata": {
      "needs_background": "light"
     },
     "output_type": "display_data"
    }
   ],
   "source": [
    "# Visual exploration of the column\n",
    "\n",
    "import seaborn as sns\n",
    "import matplotlib.pyplot as plt\n",
    "\n",
    "sns.distplot(df['APR Risk of Mortality']);"
   ]
  },
  {
   "cell_type": "markdown",
   "metadata": {},
   "source": [
    "My problem is a multi-class classification"
   ]
  },
  {
   "cell_type": "code",
   "execution_count": 8,
   "metadata": {},
   "outputs": [
    {
     "data": {
      "text/plain": [
       "1.0    0.571175\n",
       "2.0    0.216815\n",
       "3.0    0.161364\n",
       "4.0    0.050646\n",
       "Name: APR Risk of Mortality, dtype: float64"
      ]
     },
     "execution_count": 8,
     "metadata": {},
     "output_type": "execute_result"
    }
   ],
   "source": [
    "# Distribution of target classes\n",
    "\n",
    "df['APR Risk of Mortality'].value_counts(normalize= True)"
   ]
  },
  {
   "cell_type": "markdown",
   "metadata": {},
   "source": [
    "The majority class (1) for my target is is 57%. <br>\n",
    "I will use accuracy and average f1 score as my evaluation metrics\n",
    "- Average f1-scores are used for multi-class targets\n",
    "- Weighted average f1-score will account for the label inbalance in my target"
   ]
  },
  {
   "cell_type": "markdown",
   "metadata": {},
   "source": [
    "I will use a random split to train/val/test my data as all observations are within the same year. <br>"
   ]
  },
  {
   "cell_type": "markdown",
   "metadata": {},
   "source": [
    "## Feature Exploration"
   ]
  },
  {
   "cell_type": "markdown",
   "metadata": {},
   "source": [
    "**Features to exclude** <br>\n",
    "Not applicable to target (Either unique identifier or information gathered at the end of a patients treatment which is not useful as the model needs to be applied earlier)\n",
    "- Operating Certificate Number (Unique ID for the hospital)\n",
    "- Patient Disposition (Destination upon discharge)\n",
    "- Discharge year (The entire dataset is for the year 2017) \n",
    "- Total charges (Information not collected until the end of treatment)\n",
    "- Total cost (Information not collected until the end of treatment)\n",
    "- Birth weight (only applicable to newborns)\n",
    "\n",
    "\n",
    "Redundant: All of the codes have a description column. I will pull them out as a reference table, but for my model they are redundant.\n",
    "- CCS Diagnosis Description\n",
    "- CCS Procedure Description\n",
    "- APR DRG Description\n",
    "- APR MDC Description\n",
    "\n",
    "\n",
    "Potential data leakage:\n",
    "- APR Severity of Illness code (Might have a direct correlation to APR Risk of Mortality)\n",
    "    - Every time there is a 0 for APR Severity of Illness Code, there is a np.nan for APR Risk of Mortality\n",
    "\n",
    "\n",
    "Use the below features to create an engineered feature of patient distance to hospital\n",
    "\n",
    "- Permanent Facility Id\n",
    "- Facility Name\n",
    "- Hospital Service Area\n",
    "- Hospital Country\n",
    "- Zip code "
   ]
  },
  {
   "cell_type": "markdown",
   "metadata": {},
   "source": [
    "## Reference Tables\n",
    "- Matches descriptions with codes"
   ]
  },
  {
   "cell_type": "code",
   "execution_count": 9,
   "metadata": {},
   "outputs": [],
   "source": [
    "# Create a reference table for codes and their descriptions\n",
    "# We will be dropping the descriptions\n",
    "\n",
    "# CCS Diagnosis\n",
    "codes_diagnosis = df.groupby('CCS Diagnosis Description')['CCS Diagnosis Code'].mean()\n",
    "codes_diagnosis = pd.DataFrame(codes_diagnosis)\n",
    "\n",
    "# CCS Procedure\n",
    "codes_procedure = df.groupby('CCS Procedure Description')['CCS Procedure Code'].mean()\n",
    "codes_procedure = pd.DataFrame(codes_procedure)\n",
    "\n",
    "# APR DRG\n",
    "codes_drg = df.groupby('APR DRG Description')['APR DRG Code'].mean()\n",
    "codes_drg = pd.DataFrame(codes_drg)\n",
    "\n",
    "# APR MDC\n",
    "codes_mdc = df.groupby('APR MDC Description')['APR MDC Code'].mean()\n",
    "codes_mdc = pd.DataFrame(codes_mdc)\n",
    "\n",
    "# APR Severity of Illness\n",
    "codes_illness = df.groupby('APR Severity of Illness Description')['APR Severity of Illness Code'].mean()\n",
    "codes_illness = pd.DataFrame(codes_illness)"
   ]
  },
  {
   "cell_type": "markdown",
   "metadata": {},
   "source": [
    "## Initial Data Cleaning"
   ]
  },
  {
   "cell_type": "code",
   "execution_count": 10,
   "metadata": {},
   "outputs": [],
   "source": [
    "# Change pandas display so you can see all of the columns at once\n",
    "\n",
    "pd.set_option('display.max_columns', 25)"
   ]
  },
  {
   "cell_type": "code",
   "execution_count": 11,
   "metadata": {},
   "outputs": [
    {
     "data": {
      "text/html": [
       "<div>\n",
       "<style scoped>\n",
       "    .dataframe tbody tr th:only-of-type {\n",
       "        vertical-align: middle;\n",
       "    }\n",
       "\n",
       "    .dataframe tbody tr th {\n",
       "        vertical-align: top;\n",
       "    }\n",
       "\n",
       "    .dataframe thead th {\n",
       "        text-align: right;\n",
       "    }\n",
       "</style>\n",
       "<table border=\"1\" class=\"dataframe\">\n",
       "  <thead>\n",
       "    <tr style=\"text-align: right;\">\n",
       "      <th></th>\n",
       "      <th>Hospital Service Area</th>\n",
       "      <th>Hospital County</th>\n",
       "      <th>Permanent Facility Id</th>\n",
       "      <th>Facility Name</th>\n",
       "      <th>Age Group</th>\n",
       "      <th>Zip Code - 3 digits</th>\n",
       "      <th>Gender</th>\n",
       "      <th>Race</th>\n",
       "      <th>Ethnicity</th>\n",
       "      <th>Length of Stay</th>\n",
       "      <th>Type of Admission</th>\n",
       "      <th>CCS Diagnosis Code</th>\n",
       "      <th>CCS Procedure Code</th>\n",
       "      <th>APR DRG Code</th>\n",
       "      <th>APR MDC Code</th>\n",
       "      <th>APR Severity of Illness Code</th>\n",
       "      <th>APR Risk of Mortality</th>\n",
       "      <th>APR Medical Surgical Description</th>\n",
       "      <th>Payment Typology 1</th>\n",
       "      <th>Payment Typology 2</th>\n",
       "      <th>Payment Typology 3</th>\n",
       "      <th>Abortion Edit Indicator</th>\n",
       "      <th>Emergency Department Indicator</th>\n",
       "    </tr>\n",
       "  </thead>\n",
       "  <tbody>\n",
       "    <tr>\n",
       "      <th>0</th>\n",
       "      <td>Hudson Valley</td>\n",
       "      <td>Westchester</td>\n",
       "      <td>1061.0</td>\n",
       "      <td>Montefiore Mount Vernon Hospital</td>\n",
       "      <td>30 to 49</td>\n",
       "      <td>NaN</td>\n",
       "      <td>M</td>\n",
       "      <td>White</td>\n",
       "      <td>Not Span/Hispanic</td>\n",
       "      <td>21</td>\n",
       "      <td>Elective</td>\n",
       "      <td>659</td>\n",
       "      <td>0</td>\n",
       "      <td>750</td>\n",
       "      <td>19</td>\n",
       "      <td>2</td>\n",
       "      <td>1.0</td>\n",
       "      <td>Medical</td>\n",
       "      <td>Medicare</td>\n",
       "      <td>Medicare</td>\n",
       "      <td>Self-Pay</td>\n",
       "      <td>N</td>\n",
       "      <td>N</td>\n",
       "    </tr>\n",
       "    <tr>\n",
       "      <th>1</th>\n",
       "      <td>Hudson Valley</td>\n",
       "      <td>Westchester</td>\n",
       "      <td>1061.0</td>\n",
       "      <td>Montefiore Mount Vernon Hospital</td>\n",
       "      <td>50 to 69</td>\n",
       "      <td>105</td>\n",
       "      <td>M</td>\n",
       "      <td>White</td>\n",
       "      <td>Spanish/Hispanic</td>\n",
       "      <td>8</td>\n",
       "      <td>Emergency</td>\n",
       "      <td>99</td>\n",
       "      <td>108</td>\n",
       "      <td>194</td>\n",
       "      <td>5</td>\n",
       "      <td>3</td>\n",
       "      <td>2.0</td>\n",
       "      <td>Medical</td>\n",
       "      <td>Medicaid</td>\n",
       "      <td>Medicaid</td>\n",
       "      <td>Self-Pay</td>\n",
       "      <td>N</td>\n",
       "      <td>N</td>\n",
       "    </tr>\n",
       "    <tr>\n",
       "      <th>2</th>\n",
       "      <td>Hudson Valley</td>\n",
       "      <td>Westchester</td>\n",
       "      <td>1061.0</td>\n",
       "      <td>Montefiore Mount Vernon Hospital</td>\n",
       "      <td>30 to 49</td>\n",
       "      <td>105</td>\n",
       "      <td>F</td>\n",
       "      <td>White</td>\n",
       "      <td>Unknown</td>\n",
       "      <td>6</td>\n",
       "      <td>Emergency</td>\n",
       "      <td>161</td>\n",
       "      <td>102</td>\n",
       "      <td>465</td>\n",
       "      <td>11</td>\n",
       "      <td>2</td>\n",
       "      <td>2.0</td>\n",
       "      <td>Medical</td>\n",
       "      <td>Department of Corrections</td>\n",
       "      <td>Self-Pay</td>\n",
       "      <td>NaN</td>\n",
       "      <td>N</td>\n",
       "      <td>N</td>\n",
       "    </tr>\n",
       "    <tr>\n",
       "      <th>3</th>\n",
       "      <td>Hudson Valley</td>\n",
       "      <td>Westchester</td>\n",
       "      <td>1061.0</td>\n",
       "      <td>Montefiore Mount Vernon Hospital</td>\n",
       "      <td>50 to 69</td>\n",
       "      <td>105</td>\n",
       "      <td>F</td>\n",
       "      <td>White</td>\n",
       "      <td>Not Span/Hispanic</td>\n",
       "      <td>4</td>\n",
       "      <td>Emergency</td>\n",
       "      <td>238</td>\n",
       "      <td>222</td>\n",
       "      <td>721</td>\n",
       "      <td>18</td>\n",
       "      <td>2</td>\n",
       "      <td>2.0</td>\n",
       "      <td>Medical</td>\n",
       "      <td>Medicaid</td>\n",
       "      <td>Medicaid</td>\n",
       "      <td>Self-Pay</td>\n",
       "      <td>N</td>\n",
       "      <td>N</td>\n",
       "    </tr>\n",
       "    <tr>\n",
       "      <th>4</th>\n",
       "      <td>Hudson Valley</td>\n",
       "      <td>Westchester</td>\n",
       "      <td>1061.0</td>\n",
       "      <td>Montefiore Mount Vernon Hospital</td>\n",
       "      <td>18 to 29</td>\n",
       "      <td>105</td>\n",
       "      <td>F</td>\n",
       "      <td>White</td>\n",
       "      <td>Spanish/Hispanic</td>\n",
       "      <td>4</td>\n",
       "      <td>Emergency</td>\n",
       "      <td>2</td>\n",
       "      <td>0</td>\n",
       "      <td>720</td>\n",
       "      <td>18</td>\n",
       "      <td>2</td>\n",
       "      <td>1.0</td>\n",
       "      <td>Medical</td>\n",
       "      <td>Department of Corrections</td>\n",
       "      <td>Self-Pay</td>\n",
       "      <td>NaN</td>\n",
       "      <td>N</td>\n",
       "      <td>N</td>\n",
       "    </tr>\n",
       "  </tbody>\n",
       "</table>\n",
       "</div>"
      ],
      "text/plain": [
       "  Hospital Service Area Hospital County  Permanent Facility Id  \\\n",
       "0         Hudson Valley     Westchester                 1061.0   \n",
       "1         Hudson Valley     Westchester                 1061.0   \n",
       "2         Hudson Valley     Westchester                 1061.0   \n",
       "3         Hudson Valley     Westchester                 1061.0   \n",
       "4         Hudson Valley     Westchester                 1061.0   \n",
       "\n",
       "                      Facility Name Age Group Zip Code - 3 digits Gender  \\\n",
       "0  Montefiore Mount Vernon Hospital  30 to 49                 NaN      M   \n",
       "1  Montefiore Mount Vernon Hospital  50 to 69                 105      M   \n",
       "2  Montefiore Mount Vernon Hospital  30 to 49                 105      F   \n",
       "3  Montefiore Mount Vernon Hospital  50 to 69                 105      F   \n",
       "4  Montefiore Mount Vernon Hospital  18 to 29                 105      F   \n",
       "\n",
       "    Race          Ethnicity Length of Stay Type of Admission  \\\n",
       "0  White  Not Span/Hispanic             21          Elective   \n",
       "1  White   Spanish/Hispanic              8         Emergency   \n",
       "2  White            Unknown              6         Emergency   \n",
       "3  White  Not Span/Hispanic              4         Emergency   \n",
       "4  White   Spanish/Hispanic              4         Emergency   \n",
       "\n",
       "   CCS Diagnosis Code  CCS Procedure Code  APR DRG Code  APR MDC Code  \\\n",
       "0                 659                   0           750            19   \n",
       "1                  99                 108           194             5   \n",
       "2                 161                 102           465            11   \n",
       "3                 238                 222           721            18   \n",
       "4                   2                   0           720            18   \n",
       "\n",
       "   APR Severity of Illness Code  APR Risk of Mortality  \\\n",
       "0                             2                    1.0   \n",
       "1                             3                    2.0   \n",
       "2                             2                    2.0   \n",
       "3                             2                    2.0   \n",
       "4                             2                    1.0   \n",
       "\n",
       "  APR Medical Surgical Description         Payment Typology 1  \\\n",
       "0                          Medical                   Medicare   \n",
       "1                          Medical                   Medicaid   \n",
       "2                          Medical  Department of Corrections   \n",
       "3                          Medical                   Medicaid   \n",
       "4                          Medical  Department of Corrections   \n",
       "\n",
       "  Payment Typology 2 Payment Typology 3 Abortion Edit Indicator  \\\n",
       "0           Medicare           Self-Pay                       N   \n",
       "1           Medicaid           Self-Pay                       N   \n",
       "2           Self-Pay                NaN                       N   \n",
       "3           Medicaid           Self-Pay                       N   \n",
       "4           Self-Pay                NaN                       N   \n",
       "\n",
       "  Emergency Department Indicator  \n",
       "0                              N  \n",
       "1                              N  \n",
       "2                              N  \n",
       "3                              N  \n",
       "4                              N  "
      ]
     },
     "execution_count": 11,
     "metadata": {},
     "output_type": "execute_result"
    }
   ],
   "source": [
    "# Drop unnecessary features as commented above\n",
    "\n",
    "df_cleaned = df.drop([\n",
    "    'Operating Certificate Number',\n",
    "    'Patient Disposition',\n",
    "    'Discharge Year',\n",
    "    'CCS Diagnosis Description',\n",
    "    'CCS Procedure Description',\n",
    "    'APR DRG Description',\n",
    "    'APR MDC Description',\n",
    "    'Birth Weight',\n",
    "    'Total Charges',\n",
    "    'Total Costs',\n",
    "    'APR Severity of Illness Description'\n",
    "],\n",
    "    axis= 1\n",
    "\n",
    ")\n",
    "df_cleaned.head()"
   ]
  },
  {
   "cell_type": "code",
   "execution_count": 12,
   "metadata": {},
   "outputs": [
    {
     "data": {
      "text/plain": [
       "Hospital Service Area                  5155\n",
       "Hospital County                        5155\n",
       "Permanent Facility Id                  5155\n",
       "Facility Name                             0\n",
       "Age Group                                 0\n",
       "Zip Code - 3 digits                   39019\n",
       "Gender                                    0\n",
       "Race                                      0\n",
       "Ethnicity                                 0\n",
       "Length of Stay                            0\n",
       "Type of Admission                         0\n",
       "CCS Diagnosis Code                        0\n",
       "CCS Procedure Code                        0\n",
       "APR DRG Code                              0\n",
       "APR MDC Code                              0\n",
       "APR Severity of Illness Code              0\n",
       "APR Risk of Mortality                   240\n",
       "APR Medical Surgical Description          0\n",
       "Payment Typology 1                        0\n",
       "Payment Typology 2                   878722\n",
       "Payment Typology 3                  1737244\n",
       "Abortion Edit Indicator                   0\n",
       "Emergency Department Indicator            0\n",
       "dtype: int64"
      ]
     },
     "execution_count": 12,
     "metadata": {},
     "output_type": "execute_result"
    }
   ],
   "source": [
    "# Look at null values\n",
    "df_cleaned.isnull().sum()"
   ]
  },
  {
   "cell_type": "code",
   "execution_count": 13,
   "metadata": {},
   "outputs": [
    {
     "data": {
      "text/plain": [
       "Newborn      0.745833\n",
       "Emergency    0.120833\n",
       "Urgent       0.070833\n",
       "Elective     0.062500\n",
       "Name: Type of Admission, dtype: float64"
      ]
     },
     "execution_count": 13,
     "metadata": {},
     "output_type": "execute_result"
    }
   ],
   "source": [
    "# Explore missing values in target\n",
    "\n",
    "missing_illness = df[df['APR Risk of Mortality'].isnull() == True]\n",
    "missing_illness['Type of Admission'].value_counts(normalize = True)"
   ]
  },
  {
   "cell_type": "code",
   "execution_count": 14,
   "metadata": {},
   "outputs": [],
   "source": [
    "# Drop missing values in target (only 0.01%)\n",
    "# They were mostly (74.5%) newborn babies which we are not including in our model\n",
    "\n",
    "df_cleaned.dropna(subset= ['APR Risk of Mortality'], inplace= True)"
   ]
  },
  {
   "cell_type": "markdown",
   "metadata": {},
   "source": [
    "## Data exploration "
   ]
  },
  {
   "cell_type": "code",
   "execution_count": 15,
   "metadata": {},
   "outputs": [
    {
     "data": {
      "text/html": [
       "<div>\n",
       "<style scoped>\n",
       "    .dataframe tbody tr th:only-of-type {\n",
       "        vertical-align: middle;\n",
       "    }\n",
       "\n",
       "    .dataframe tbody tr th {\n",
       "        vertical-align: top;\n",
       "    }\n",
       "\n",
       "    .dataframe thead th {\n",
       "        text-align: right;\n",
       "    }\n",
       "</style>\n",
       "<table border=\"1\" class=\"dataframe\">\n",
       "  <thead>\n",
       "    <tr style=\"text-align: right;\">\n",
       "      <th></th>\n",
       "      <th>Permanent Facility Id</th>\n",
       "      <th>CCS Diagnosis Code</th>\n",
       "      <th>CCS Procedure Code</th>\n",
       "      <th>APR DRG Code</th>\n",
       "      <th>APR MDC Code</th>\n",
       "      <th>APR Severity of Illness Code</th>\n",
       "      <th>APR Risk of Mortality</th>\n",
       "    </tr>\n",
       "  </thead>\n",
       "  <tbody>\n",
       "    <tr>\n",
       "      <th>count</th>\n",
       "      <td>2.338179e+06</td>\n",
       "      <td>2.343329e+06</td>\n",
       "      <td>2.343329e+06</td>\n",
       "      <td>2.343329e+06</td>\n",
       "      <td>2.343329e+06</td>\n",
       "      <td>2.343329e+06</td>\n",
       "      <td>2.343329e+06</td>\n",
       "    </tr>\n",
       "    <tr>\n",
       "      <th>mean</th>\n",
       "      <td>1.038966e+03</td>\n",
       "      <td>1.898662e+02</td>\n",
       "      <td>1.013940e+02</td>\n",
       "      <td>4.161252e+02</td>\n",
       "      <td>1.031172e+01</td>\n",
       "      <td>2.020953e+00</td>\n",
       "      <td>1.691481e+00</td>\n",
       "    </tr>\n",
       "    <tr>\n",
       "      <th>std</th>\n",
       "      <td>7.202033e+02</td>\n",
       "      <td>1.649466e+02</td>\n",
       "      <td>8.681344e+01</td>\n",
       "      <td>2.424451e+02</td>\n",
       "      <td>5.899823e+00</td>\n",
       "      <td>8.889587e-01</td>\n",
       "      <td>9.164827e-01</td>\n",
       "    </tr>\n",
       "    <tr>\n",
       "      <th>min</th>\n",
       "      <td>1.000000e+00</td>\n",
       "      <td>1.000000e+00</td>\n",
       "      <td>0.000000e+00</td>\n",
       "      <td>1.000000e+00</td>\n",
       "      <td>1.000000e+00</td>\n",
       "      <td>1.000000e+00</td>\n",
       "      <td>1.000000e+00</td>\n",
       "    </tr>\n",
       "    <tr>\n",
       "      <th>25%</th>\n",
       "      <td>5.410000e+02</td>\n",
       "      <td>1.010000e+02</td>\n",
       "      <td>0.000000e+00</td>\n",
       "      <td>1.980000e+02</td>\n",
       "      <td>5.000000e+00</td>\n",
       "      <td>1.000000e+00</td>\n",
       "      <td>1.000000e+00</td>\n",
       "    </tr>\n",
       "    <tr>\n",
       "      <th>50%</th>\n",
       "      <td>1.097000e+03</td>\n",
       "      <td>1.570000e+02</td>\n",
       "      <td>9.800000e+01</td>\n",
       "      <td>3.830000e+02</td>\n",
       "      <td>9.000000e+00</td>\n",
       "      <td>2.000000e+00</td>\n",
       "      <td>1.000000e+00</td>\n",
       "    </tr>\n",
       "    <tr>\n",
       "      <th>75%</th>\n",
       "      <td>1.453000e+03</td>\n",
       "      <td>2.180000e+02</td>\n",
       "      <td>1.800000e+02</td>\n",
       "      <td>6.400000e+02</td>\n",
       "      <td>1.500000e+01</td>\n",
       "      <td>3.000000e+00</td>\n",
       "      <td>2.000000e+00</td>\n",
       "    </tr>\n",
       "    <tr>\n",
       "      <th>max</th>\n",
       "      <td>9.431000e+03</td>\n",
       "      <td>2.617000e+03</td>\n",
       "      <td>2.310000e+02</td>\n",
       "      <td>9.520000e+02</td>\n",
       "      <td>2.500000e+01</td>\n",
       "      <td>4.000000e+00</td>\n",
       "      <td>4.000000e+00</td>\n",
       "    </tr>\n",
       "  </tbody>\n",
       "</table>\n",
       "</div>"
      ],
      "text/plain": [
       "       Permanent Facility Id  CCS Diagnosis Code  CCS Procedure Code  \\\n",
       "count           2.338179e+06        2.343329e+06        2.343329e+06   \n",
       "mean            1.038966e+03        1.898662e+02        1.013940e+02   \n",
       "std             7.202033e+02        1.649466e+02        8.681344e+01   \n",
       "min             1.000000e+00        1.000000e+00        0.000000e+00   \n",
       "25%             5.410000e+02        1.010000e+02        0.000000e+00   \n",
       "50%             1.097000e+03        1.570000e+02        9.800000e+01   \n",
       "75%             1.453000e+03        2.180000e+02        1.800000e+02   \n",
       "max             9.431000e+03        2.617000e+03        2.310000e+02   \n",
       "\n",
       "       APR DRG Code  APR MDC Code  APR Severity of Illness Code  \\\n",
       "count  2.343329e+06  2.343329e+06                  2.343329e+06   \n",
       "mean   4.161252e+02  1.031172e+01                  2.020953e+00   \n",
       "std    2.424451e+02  5.899823e+00                  8.889587e-01   \n",
       "min    1.000000e+00  1.000000e+00                  1.000000e+00   \n",
       "25%    1.980000e+02  5.000000e+00                  1.000000e+00   \n",
       "50%    3.830000e+02  9.000000e+00                  2.000000e+00   \n",
       "75%    6.400000e+02  1.500000e+01                  3.000000e+00   \n",
       "max    9.520000e+02  2.500000e+01                  4.000000e+00   \n",
       "\n",
       "       APR Risk of Mortality  \n",
       "count           2.343329e+06  \n",
       "mean            1.691481e+00  \n",
       "std             9.164827e-01  \n",
       "min             1.000000e+00  \n",
       "25%             1.000000e+00  \n",
       "50%             1.000000e+00  \n",
       "75%             2.000000e+00  \n",
       "max             4.000000e+00  "
      ]
     },
     "execution_count": 15,
     "metadata": {},
     "output_type": "execute_result"
    }
   ],
   "source": [
    "# Look at numeric traits\n",
    "df_cleaned.describe()"
   ]
  },
  {
   "cell_type": "code",
   "execution_count": 16,
   "metadata": {},
   "outputs": [
    {
     "data": {
      "text/html": [
       "<div>\n",
       "<style scoped>\n",
       "    .dataframe tbody tr th:only-of-type {\n",
       "        vertical-align: middle;\n",
       "    }\n",
       "\n",
       "    .dataframe tbody tr th {\n",
       "        vertical-align: top;\n",
       "    }\n",
       "\n",
       "    .dataframe thead th {\n",
       "        text-align: right;\n",
       "    }\n",
       "</style>\n",
       "<table border=\"1\" class=\"dataframe\">\n",
       "  <thead>\n",
       "    <tr style=\"text-align: right;\">\n",
       "      <th></th>\n",
       "      <th>Hospital Service Area</th>\n",
       "      <th>Hospital County</th>\n",
       "      <th>Facility Name</th>\n",
       "      <th>Age Group</th>\n",
       "      <th>Zip Code - 3 digits</th>\n",
       "      <th>Gender</th>\n",
       "      <th>Race</th>\n",
       "      <th>Ethnicity</th>\n",
       "      <th>Length of Stay</th>\n",
       "      <th>Type of Admission</th>\n",
       "      <th>APR Medical Surgical Description</th>\n",
       "      <th>Payment Typology 1</th>\n",
       "      <th>Payment Typology 2</th>\n",
       "      <th>Payment Typology 3</th>\n",
       "      <th>Abortion Edit Indicator</th>\n",
       "      <th>Emergency Department Indicator</th>\n",
       "    </tr>\n",
       "  </thead>\n",
       "  <tbody>\n",
       "    <tr>\n",
       "      <th>count</th>\n",
       "      <td>2338179</td>\n",
       "      <td>2338179</td>\n",
       "      <td>2343329</td>\n",
       "      <td>2343329</td>\n",
       "      <td>2304316</td>\n",
       "      <td>2343329</td>\n",
       "      <td>2343329</td>\n",
       "      <td>2343329</td>\n",
       "      <td>2343329</td>\n",
       "      <td>2343329</td>\n",
       "      <td>2343329</td>\n",
       "      <td>2343329</td>\n",
       "      <td>1464708</td>\n",
       "      <td>606295</td>\n",
       "      <td>2343329</td>\n",
       "      <td>2343329</td>\n",
       "    </tr>\n",
       "    <tr>\n",
       "      <th>unique</th>\n",
       "      <td>8</td>\n",
       "      <td>57</td>\n",
       "      <td>211</td>\n",
       "      <td>5</td>\n",
       "      <td>50</td>\n",
       "      <td>3</td>\n",
       "      <td>4</td>\n",
       "      <td>4</td>\n",
       "      <td>120</td>\n",
       "      <td>6</td>\n",
       "      <td>2</td>\n",
       "      <td>10</td>\n",
       "      <td>10</td>\n",
       "      <td>10</td>\n",
       "      <td>2</td>\n",
       "      <td>2</td>\n",
       "    </tr>\n",
       "    <tr>\n",
       "      <th>top</th>\n",
       "      <td>New York City</td>\n",
       "      <td>Manhattan</td>\n",
       "      <td>Mount Sinai Hospital</td>\n",
       "      <td>70 or Older</td>\n",
       "      <td>112</td>\n",
       "      <td>F</td>\n",
       "      <td>White</td>\n",
       "      <td>Not Span/Hispanic</td>\n",
       "      <td>2</td>\n",
       "      <td>Emergency</td>\n",
       "      <td>Medical</td>\n",
       "      <td>Medicare</td>\n",
       "      <td>Medicaid</td>\n",
       "      <td>Self-Pay</td>\n",
       "      <td>N</td>\n",
       "      <td>Y</td>\n",
       "    </tr>\n",
       "    <tr>\n",
       "      <th>freq</th>\n",
       "      <td>1070407</td>\n",
       "      <td>395687</td>\n",
       "      <td>52335</td>\n",
       "      <td>664780</td>\n",
       "      <td>293826</td>\n",
       "      <td>1296822</td>\n",
       "      <td>1316956</td>\n",
       "      <td>1895507</td>\n",
       "      <td>546084</td>\n",
       "      <td>1500436</td>\n",
       "      <td>1742545</td>\n",
       "      <td>906899</td>\n",
       "      <td>529653</td>\n",
       "      <td>400972</td>\n",
       "      <td>2339978</td>\n",
       "      <td>1373723</td>\n",
       "    </tr>\n",
       "  </tbody>\n",
       "</table>\n",
       "</div>"
      ],
      "text/plain": [
       "       Hospital Service Area Hospital County         Facility Name  \\\n",
       "count                2338179         2338179               2343329   \n",
       "unique                     8              57                   211   \n",
       "top            New York City       Manhattan  Mount Sinai Hospital   \n",
       "freq                 1070407          395687                 52335   \n",
       "\n",
       "          Age Group Zip Code - 3 digits   Gender     Race          Ethnicity  \\\n",
       "count       2343329             2304316  2343329  2343329            2343329   \n",
       "unique            5                  50        3        4                  4   \n",
       "top     70 or Older                 112        F    White  Not Span/Hispanic   \n",
       "freq         664780              293826  1296822  1316956            1895507   \n",
       "\n",
       "       Length of Stay Type of Admission APR Medical Surgical Description  \\\n",
       "count         2343329           2343329                          2343329   \n",
       "unique            120                 6                                2   \n",
       "top                 2         Emergency                          Medical   \n",
       "freq           546084           1500436                          1742545   \n",
       "\n",
       "       Payment Typology 1 Payment Typology 2 Payment Typology 3  \\\n",
       "count             2343329            1464708             606295   \n",
       "unique                 10                 10                 10   \n",
       "top              Medicare           Medicaid           Self-Pay   \n",
       "freq               906899             529653             400972   \n",
       "\n",
       "       Abortion Edit Indicator Emergency Department Indicator  \n",
       "count                  2343329                        2343329  \n",
       "unique                       2                              2  \n",
       "top                          N                              Y  \n",
       "freq                   2339978                        1373723  "
      ]
     },
     "execution_count": 16,
     "metadata": {},
     "output_type": "execute_result"
    }
   ],
   "source": [
    "# Look at categorical traits\n",
    "df_cleaned.describe(exclude= 'number')"
   ]
  },
  {
   "cell_type": "code",
   "execution_count": 17,
   "metadata": {},
   "outputs": [
    {
     "data": {
      "text/plain": [
       "Hospital Service Area                  5150\n",
       "Hospital County                        5150\n",
       "Permanent Facility Id                  5150\n",
       "Facility Name                             0\n",
       "Age Group                                 0\n",
       "Zip Code - 3 digits                   39013\n",
       "Gender                                    0\n",
       "Race                                      0\n",
       "Ethnicity                                 0\n",
       "Length of Stay                            0\n",
       "Type of Admission                         0\n",
       "CCS Diagnosis Code                        0\n",
       "CCS Procedure Code                        0\n",
       "APR DRG Code                              0\n",
       "APR MDC Code                              0\n",
       "APR Severity of Illness Code              0\n",
       "APR Risk of Mortality                     0\n",
       "APR Medical Surgical Description          0\n",
       "Payment Typology 1                        0\n",
       "Payment Typology 2                   878621\n",
       "Payment Typology 3                  1737034\n",
       "Abortion Edit Indicator                   0\n",
       "Emergency Department Indicator            0\n",
       "dtype: int64"
      ]
     },
     "execution_count": 17,
     "metadata": {},
     "output_type": "execute_result"
    }
   ],
   "source": [
    "# Look at null values, we will need to impute in the future\n",
    "df_cleaned.isnull().sum()"
   ]
  },
  {
   "cell_type": "markdown",
   "metadata": {},
   "source": [
    "### Explore relationship between APR Severity of Illness and target for potential data leakage"
   ]
  },
  {
   "cell_type": "code",
   "execution_count": 18,
   "metadata": {},
   "outputs": [
    {
     "data": {
      "text/html": [
       "<div>\n",
       "<style scoped>\n",
       "    .dataframe tbody tr th:only-of-type {\n",
       "        vertical-align: middle;\n",
       "    }\n",
       "\n",
       "    .dataframe tbody tr th {\n",
       "        vertical-align: top;\n",
       "    }\n",
       "\n",
       "    .dataframe thead th {\n",
       "        text-align: right;\n",
       "    }\n",
       "</style>\n",
       "<table border=\"1\" class=\"dataframe\">\n",
       "  <thead>\n",
       "    <tr style=\"text-align: right;\">\n",
       "      <th></th>\n",
       "      <th>APR Severity of Illness Code</th>\n",
       "      <th>APR Risk of Mortality</th>\n",
       "    </tr>\n",
       "  </thead>\n",
       "  <tbody>\n",
       "    <tr>\n",
       "      <th>0</th>\n",
       "      <td>2</td>\n",
       "      <td>1.0</td>\n",
       "    </tr>\n",
       "    <tr>\n",
       "      <th>1</th>\n",
       "      <td>3</td>\n",
       "      <td>2.0</td>\n",
       "    </tr>\n",
       "    <tr>\n",
       "      <th>2</th>\n",
       "      <td>2</td>\n",
       "      <td>2.0</td>\n",
       "    </tr>\n",
       "    <tr>\n",
       "      <th>3</th>\n",
       "      <td>2</td>\n",
       "      <td>2.0</td>\n",
       "    </tr>\n",
       "    <tr>\n",
       "      <th>4</th>\n",
       "      <td>2</td>\n",
       "      <td>1.0</td>\n",
       "    </tr>\n",
       "    <tr>\n",
       "      <th>...</th>\n",
       "      <td>...</td>\n",
       "      <td>...</td>\n",
       "    </tr>\n",
       "    <tr>\n",
       "      <th>2343564</th>\n",
       "      <td>1</td>\n",
       "      <td>2.0</td>\n",
       "    </tr>\n",
       "    <tr>\n",
       "      <th>2343565</th>\n",
       "      <td>2</td>\n",
       "      <td>2.0</td>\n",
       "    </tr>\n",
       "    <tr>\n",
       "      <th>2343566</th>\n",
       "      <td>1</td>\n",
       "      <td>1.0</td>\n",
       "    </tr>\n",
       "    <tr>\n",
       "      <th>2343567</th>\n",
       "      <td>2</td>\n",
       "      <td>1.0</td>\n",
       "    </tr>\n",
       "    <tr>\n",
       "      <th>2343568</th>\n",
       "      <td>2</td>\n",
       "      <td>1.0</td>\n",
       "    </tr>\n",
       "  </tbody>\n",
       "</table>\n",
       "<p>2343329 rows × 2 columns</p>\n",
       "</div>"
      ],
      "text/plain": [
       "         APR Severity of Illness Code  APR Risk of Mortality\n",
       "0                                   2                    1.0\n",
       "1                                   3                    2.0\n",
       "2                                   2                    2.0\n",
       "3                                   2                    2.0\n",
       "4                                   2                    1.0\n",
       "...                               ...                    ...\n",
       "2343564                             1                    2.0\n",
       "2343565                             2                    2.0\n",
       "2343566                             1                    1.0\n",
       "2343567                             2                    1.0\n",
       "2343568                             2                    1.0\n",
       "\n",
       "[2343329 rows x 2 columns]"
      ]
     },
     "execution_count": 18,
     "metadata": {},
     "output_type": "execute_result"
    }
   ],
   "source": [
    "# Create subset of just the two columns\n",
    "data_leak = df_cleaned[['APR Severity of Illness Code', 'APR Risk of Mortality']]\n",
    "data_leak"
   ]
  },
  {
   "cell_type": "code",
   "execution_count": 19,
   "metadata": {},
   "outputs": [
    {
     "data": {
      "text/html": [
       "<div>\n",
       "<style scoped>\n",
       "    .dataframe tbody tr th:only-of-type {\n",
       "        vertical-align: middle;\n",
       "    }\n",
       "\n",
       "    .dataframe tbody tr th {\n",
       "        vertical-align: top;\n",
       "    }\n",
       "\n",
       "    .dataframe thead th {\n",
       "        text-align: right;\n",
       "    }\n",
       "</style>\n",
       "<table border=\"1\" class=\"dataframe\">\n",
       "  <thead>\n",
       "    <tr style=\"text-align: right;\">\n",
       "      <th></th>\n",
       "      <th>APR Severity of Illness Code</th>\n",
       "      <th>APR Risk of Mortality</th>\n",
       "    </tr>\n",
       "  </thead>\n",
       "  <tbody>\n",
       "    <tr>\n",
       "      <th>count</th>\n",
       "      <td>2.343329e+06</td>\n",
       "      <td>2.343329e+06</td>\n",
       "    </tr>\n",
       "    <tr>\n",
       "      <th>mean</th>\n",
       "      <td>2.020953e+00</td>\n",
       "      <td>1.691481e+00</td>\n",
       "    </tr>\n",
       "    <tr>\n",
       "      <th>std</th>\n",
       "      <td>8.889587e-01</td>\n",
       "      <td>9.164827e-01</td>\n",
       "    </tr>\n",
       "    <tr>\n",
       "      <th>min</th>\n",
       "      <td>1.000000e+00</td>\n",
       "      <td>1.000000e+00</td>\n",
       "    </tr>\n",
       "    <tr>\n",
       "      <th>25%</th>\n",
       "      <td>1.000000e+00</td>\n",
       "      <td>1.000000e+00</td>\n",
       "    </tr>\n",
       "    <tr>\n",
       "      <th>50%</th>\n",
       "      <td>2.000000e+00</td>\n",
       "      <td>1.000000e+00</td>\n",
       "    </tr>\n",
       "    <tr>\n",
       "      <th>75%</th>\n",
       "      <td>3.000000e+00</td>\n",
       "      <td>2.000000e+00</td>\n",
       "    </tr>\n",
       "    <tr>\n",
       "      <th>max</th>\n",
       "      <td>4.000000e+00</td>\n",
       "      <td>4.000000e+00</td>\n",
       "    </tr>\n",
       "  </tbody>\n",
       "</table>\n",
       "</div>"
      ],
      "text/plain": [
       "       APR Severity of Illness Code  APR Risk of Mortality\n",
       "count                  2.343329e+06           2.343329e+06\n",
       "mean                   2.020953e+00           1.691481e+00\n",
       "std                    8.889587e-01           9.164827e-01\n",
       "min                    1.000000e+00           1.000000e+00\n",
       "25%                    1.000000e+00           1.000000e+00\n",
       "50%                    2.000000e+00           1.000000e+00\n",
       "75%                    3.000000e+00           2.000000e+00\n",
       "max                    4.000000e+00           4.000000e+00"
      ]
     },
     "execution_count": 19,
     "metadata": {},
     "output_type": "execute_result"
    }
   ],
   "source": [
    "# Look a statistical features\n",
    "data_leak.describe()"
   ]
  },
  {
   "cell_type": "code",
   "execution_count": 20,
   "metadata": {},
   "outputs": [
    {
     "name": "stderr",
     "output_type": "stream",
     "text": [
      "/Users/stevenchase/opt/anaconda3/envs/yourenvname/lib/python3.7/site-packages/ipykernel_launcher.py:4: SettingWithCopyWarning: \n",
      "A value is trying to be set on a copy of a slice from a DataFrame.\n",
      "Try using .loc[row_indexer,col_indexer] = value instead\n",
      "\n",
      "See the caveats in the documentation: https://pandas.pydata.org/pandas-docs/stable/user_guide/indexing.html#returning-a-view-versus-a-copy\n",
      "  after removing the cwd from sys.path.\n"
     ]
    },
    {
     "data": {
      "text/html": [
       "<div>\n",
       "<style scoped>\n",
       "    .dataframe tbody tr th:only-of-type {\n",
       "        vertical-align: middle;\n",
       "    }\n",
       "\n",
       "    .dataframe tbody tr th {\n",
       "        vertical-align: top;\n",
       "    }\n",
       "\n",
       "    .dataframe thead th {\n",
       "        text-align: right;\n",
       "    }\n",
       "</style>\n",
       "<table border=\"1\" class=\"dataframe\">\n",
       "  <thead>\n",
       "    <tr style=\"text-align: right;\">\n",
       "      <th></th>\n",
       "      <th>APR Severity of Illness Code</th>\n",
       "      <th>APR Risk of Mortality</th>\n",
       "    </tr>\n",
       "  </thead>\n",
       "  <tbody>\n",
       "    <tr>\n",
       "      <th>0</th>\n",
       "      <td>2</td>\n",
       "      <td>1</td>\n",
       "    </tr>\n",
       "    <tr>\n",
       "      <th>1</th>\n",
       "      <td>3</td>\n",
       "      <td>2</td>\n",
       "    </tr>\n",
       "    <tr>\n",
       "      <th>4</th>\n",
       "      <td>2</td>\n",
       "      <td>1</td>\n",
       "    </tr>\n",
       "    <tr>\n",
       "      <th>6</th>\n",
       "      <td>2</td>\n",
       "      <td>1</td>\n",
       "    </tr>\n",
       "    <tr>\n",
       "      <th>10</th>\n",
       "      <td>2</td>\n",
       "      <td>1</td>\n",
       "    </tr>\n",
       "    <tr>\n",
       "      <th>...</th>\n",
       "      <td>...</td>\n",
       "      <td>...</td>\n",
       "    </tr>\n",
       "    <tr>\n",
       "      <th>2343561</th>\n",
       "      <td>3</td>\n",
       "      <td>2</td>\n",
       "    </tr>\n",
       "    <tr>\n",
       "      <th>2343563</th>\n",
       "      <td>2</td>\n",
       "      <td>1</td>\n",
       "    </tr>\n",
       "    <tr>\n",
       "      <th>2343564</th>\n",
       "      <td>1</td>\n",
       "      <td>2</td>\n",
       "    </tr>\n",
       "    <tr>\n",
       "      <th>2343567</th>\n",
       "      <td>2</td>\n",
       "      <td>1</td>\n",
       "    </tr>\n",
       "    <tr>\n",
       "      <th>2343568</th>\n",
       "      <td>2</td>\n",
       "      <td>1</td>\n",
       "    </tr>\n",
       "  </tbody>\n",
       "</table>\n",
       "<p>957581 rows × 2 columns</p>\n",
       "</div>"
      ],
      "text/plain": [
       "         APR Severity of Illness Code  APR Risk of Mortality\n",
       "0                                   2                      1\n",
       "1                                   3                      2\n",
       "4                                   2                      1\n",
       "6                                   2                      1\n",
       "10                                  2                      1\n",
       "...                               ...                    ...\n",
       "2343561                             3                      2\n",
       "2343563                             2                      1\n",
       "2343564                             1                      2\n",
       "2343567                             2                      1\n",
       "2343568                             2                      1\n",
       "\n",
       "[957581 rows x 2 columns]"
      ]
     },
     "execution_count": 20,
     "metadata": {},
     "output_type": "execute_result"
    }
   ],
   "source": [
    "# Count how many times they are not equivalent\n",
    "\n",
    "# Convert APR Risk of Mortality to integer\n",
    "data_leak['APR Risk of Mortality'] = data_leak['APR Risk of Mortality'].astype(int)\n",
    "\n",
    "# Pull out subset of when the two columns are not equivalent\n",
    "subset = data_leak[data_leak['APR Risk of Mortality'] != data_leak['APR Severity of Illness Code']]\n",
    "subset"
   ]
  },
  {
   "cell_type": "code",
   "execution_count": 21,
   "metadata": {},
   "outputs": [
    {
     "data": {
      "text/plain": [
       "0.5913587037927666"
      ]
     },
     "execution_count": 21,
     "metadata": {},
     "output_type": "execute_result"
    }
   ],
   "source": [
    "# Proportion of when these two columns are the same\n",
    "1 - len(subset) / len(df_cleaned)"
   ]
  },
  {
   "cell_type": "code",
   "execution_count": 22,
   "metadata": {},
   "outputs": [
    {
     "data": {
      "image/png": "[encoded data removed]",
      "text/plain": [
       "<Figure size 360x360 with 1 Axes>"
      ]
     },
     "metadata": {
      "needs_background": "light"
     },
     "output_type": "display_data"
    }
   ],
   "source": [
    "# Visual of relationship\n",
    "import seaborn as sns\n",
    "sns.catplot(x= 'APR Severity of Illness Code', y= 'APR Risk of Mortality', kind= 'box', data= data_leak);"
   ]
  },
  {
   "cell_type": "markdown",
   "metadata": {},
   "source": [
    "## Split into train/val/test using random split"
   ]
  },
  {
   "cell_type": "code",
   "execution_count": 23,
   "metadata": {},
   "outputs": [
    {
     "data": {
      "text/plain": [
       "((1593463, 23), (398366, 23), (351500, 23))"
      ]
     },
     "execution_count": 23,
     "metadata": {},
     "output_type": "execute_result"
    }
   ],
   "source": [
    "from sklearn.model_selection import train_test_split\n",
    "\n",
    "# Split train data into train and test, 80/20 split\n",
    "\n",
    "train, test = train_test_split(df_cleaned, train_size=0.85, test_size=0.15, \n",
    "                              stratify=df_cleaned['APR Risk of Mortality'], random_state=42)\n",
    "\n",
    "# Then split train into train and validate\n",
    "train, val = train_test_split(train, train_size=0.80, test_size=0.20, \n",
    "                              stratify=train['APR Risk of Mortality'], random_state=42)\n",
    "\n",
    "train.shape, val.shape, test.shape"
   ]
  },
  {
   "cell_type": "markdown",
   "metadata": {},
   "source": [
    "## Baseline model: \n",
    "Majority class (1, minor risk) is 57%"
   ]
  },
  {
   "cell_type": "code",
   "execution_count": 26,
   "metadata": {},
   "outputs": [
    {
     "data": {
      "text/plain": [
       "1.0    0.571175\n",
       "2.0    0.216815\n",
       "3.0    0.161364\n",
       "4.0    0.050646\n",
       "Name: APR Risk of Mortality, dtype: float64"
      ]
     },
     "execution_count": 26,
     "metadata": {},
     "output_type": "execute_result"
    }
   ],
   "source": [
    "df_cleaned['APR Risk of Mortality'].value_counts(normalize= True)"
   ]
  },
  {
   "cell_type": "code",
   "execution_count": 27,
   "metadata": {},
   "outputs": [
    {
     "name": "stderr",
     "output_type": "stream",
     "text": [
      "/Users/stevenchase/opt/anaconda3/envs/yourenvname/lib/python3.7/site-packages/sklearn/metrics/_classification.py:1272: UndefinedMetricWarning: Precision and F-score are ill-defined and being set to 0.0 in labels with no predicted samples. Use `zero_division` parameter to control this behavior.\n",
      "  _warn_prf(average, modifier, msg_start, len(result))\n"
     ]
    },
    {
     "name": "stdout",
     "output_type": "stream",
     "text": [
      "              precision    recall  f1-score   support\n",
      "\n",
      "         1.0       0.57      1.00      0.73   1338452\n",
      "         2.0       0.00      0.00      0.00    508068\n",
      "         3.0       0.00      0.00      0.00    378128\n",
      "         4.0       0.00      0.00      0.00    118681\n",
      "\n",
      "    accuracy                           0.57   2343329\n",
      "   macro avg       0.14      0.25      0.18   2343329\n",
      "weighted avg       0.33      0.57      0.42   2343329\n",
      "\n"
     ]
    }
   ],
   "source": [
    "# Baseline classification report\n",
    "from sklearn.metrics import classification_report\n",
    "\n",
    "# Looking at weighted average f1-score as an evaluation metric \n",
    "guess= [1] * len(df_cleaned)\n",
    "\n",
    "print(classification_report(df_cleaned['APR Risk of Mortality'], guess))"
   ]
  },
  {
   "cell_type": "markdown",
   "metadata": {},
   "source": [
    "## First Model"
   ]
  },
  {
   "cell_type": "code",
   "execution_count": 28,
   "metadata": {},
   "outputs": [],
   "source": [
    "# Set features and target\n",
    "# Define target vector and feature matrices\n",
    "\n",
    "target = 'APR Risk of Mortality'\n",
    "\n",
    "features = [\n",
    "    'Age Group',\n",
    "    'Gender',\n",
    "    'Race',\n",
    "    'Ethnicity',\n",
    "    'Type of Admission',\n",
    "    'CCS Diagnosis Code',\n",
    "    'CCS Procedure Code',\n",
    "    'APR DRG Code',\n",
    "    'APR MDC Code',\n",
    "#     'APR Severity of Illness Code',     Removed because of potential data leakage\n",
    "    'APR Medical Surgical Description',\n",
    "    'Emergency Department Indicator',\n",
    "]\n",
    "\n",
    "# Split into train, validate and test target vector and feature matrices\n",
    "X_train= train[features]\n",
    "y_train= train[target]\n",
    "\n",
    "X_val= val[features]\n",
    "y_val= val[target]\n",
    "\n",
    "# Set test feature matrix\n",
    "X_test= test[features]\n",
    "y_test= test[target]"
   ]
  },
  {
   "cell_type": "code",
   "execution_count": 34,
   "metadata": {},
   "outputs": [
    {
     "name": "stdout",
     "output_type": "stream",
     "text": [
      "Collecting package metadata (current_repodata.json): done\n",
      "Solving environment: done\n",
      "\n",
      "## Package Plan ##\n",
      "\n",
      "  environment location: /Users/stevenchase/opt/anaconda3/envs/yourenvname\n",
      "\n",
      "  added / updated specs:\n",
      "    - category_encoders\n",
      "\n",
      "\n",
      "The following packages will be downloaded:\n",
      "\n",
      "    package                    |            build\n",
      "    ---------------------------|-----------------\n",
      "    ca-certificates-2020.4.5.1 |       hecc5488_0         146 KB  conda-forge\n",
      "    category_encoders-2.1.0    |             py_0          48 KB  conda-forge\n",
      "    certifi-2020.4.5.1         |   py37hc8dfbb8_0         151 KB  conda-forge\n",
      "    openssl-1.1.1g             |       h0b31af3_0         1.9 MB  conda-forge\n",
      "    python_abi-3.7             |          1_cp37m           4 KB  conda-forge\n",
      "    ------------------------------------------------------------\n",
      "                                           Total:         2.2 MB\n",
      "\n",
      "The following NEW packages will be INSTALLED:\n",
      "\n",
      "  category_encoders  conda-forge/noarch::category_encoders-2.1.0-py_0\n",
      "  python_abi         conda-forge/osx-64::python_abi-3.7-1_cp37m\n",
      "\n",
      "The following packages will be UPDATED:\n",
      "\n",
      "  ca-certificates     pkgs/main::ca-certificates-2020.1.1-0 --> conda-forge::ca-certificates-2020.4.5.1-hecc5488_0\n",
      "\n",
      "The following packages will be SUPERSEDED by a higher-priority channel:\n",
      "\n",
      "  certifi              pkgs/main::certifi-2020.4.5.1-py37_0 --> conda-forge::certifi-2020.4.5.1-py37hc8dfbb8_0\n",
      "  openssl              pkgs/main::openssl-1.1.1g-h1de35cc_0 --> conda-forge::openssl-1.1.1g-h0b31af3_0\n",
      "\n",
      "\n",
      "\n",
      "Downloading and Extracting Packages\n",
      "openssl-1.1.1g       | 1.9 MB    | ##################################### | 100% \n",
      "category_encoders-2. | 48 KB     | ##################################### | 100% \n",
      "python_abi-3.7       | 4 KB      | ##################################### | 100% \n",
      "ca-certificates-2020 | 146 KB    | ##################################### | 100% \n",
      "certifi-2020.4.5.1   | 151 KB    | ##################################### | 100% \n",
      "Preparing transaction: done\n",
      "Verifying transaction: done\n",
      "Executing transaction: done\n",
      "\n",
      "Note: you may need to restart the kernel to use updated packages.\n"
     ]
    }
   ],
   "source": [
    "# Install category encoders in anaconda environment\n",
    "# conda install -c conda-forge category_encoders"
   ]
  },
  {
   "cell_type": "code",
   "execution_count": 35,
   "metadata": {},
   "outputs": [
    {
     "name": "stdout",
     "output_type": "stream",
     "text": [
      "Train Accuracy: 0.6811472873860266\n",
      "Validation Accuracy: 0.6788204816676122\n"
     ]
    }
   ],
   "source": [
    "# Create a pipeline to do encoding and fit a random forest model\n",
    "\n",
    "# Imports\n",
    "import category_encoders as ce\n",
    "from sklearn.ensemble import RandomForestClassifier\n",
    "from sklearn.pipeline import make_pipeline\n",
    "from sklearn.preprocessing import StandardScaler\n",
    "\n",
    "# Create pipeline (encode, standardize, model)\n",
    "pipeline = make_pipeline(\n",
    "    ce.OrdinalEncoder(),\n",
    "    StandardScaler(),\n",
    "    RandomForestClassifier(random_state= 42, max_depth= 10, n_estimators= 10)\n",
    ")\n",
    "\n",
    "# Fit on training data\n",
    "pipeline.fit(X_train, y_train)\n",
    "\n",
    "# Validation score\n",
    "print('Train Accuracy:', pipeline.score(X_train, y_train))\n",
    "print('Validation Accuracy:', pipeline.score(X_val, y_val))"
   ]
  },
  {
   "cell_type": "markdown",
   "metadata": {},
   "source": [
    "#### First model evaluation metric results (With feature APR Severity of Illness Code)\n",
    "Train Accuracy: 0.7800501172603317 <br>\n",
    "Validation Accuracy: 0.7783646194705371"
   ]
  },
  {
   "cell_type": "markdown",
   "metadata": {},
   "source": [
    "#### First model evaluation metric results (Without feature APR Severity of Illness Code)\n",
    "Train Accuracy: 0.6814384770779114 <br>\n",
    "Validation Accuracy: 0.6790915891416436"
   ]
  },
  {
   "cell_type": "code",
   "execution_count": 36,
   "metadata": {},
   "outputs": [
    {
     "data": {
      "image/png": "[encoded data removed]",
      "text/plain": [
       "<Figure size 720x1800 with 1 Axes>"
      ]
     },
     "metadata": {
      "needs_background": "light"
     },
     "output_type": "display_data"
    }
   ],
   "source": [
    "# Feature importances\n",
    "\n",
    "%matplotlib inline\n",
    "import matplotlib.pyplot as plt\n",
    "\n",
    "# Pull out encoded X_train matrix\n",
    "encoder = pipeline.named_steps['ordinalencoder']\n",
    "encoded= encoder.transform(X_train)\n",
    "\n",
    "# Get feature importances\n",
    "rf = pipeline.named_steps['randomforestclassifier']\n",
    "importances = pd.Series(rf.feature_importances_, encoded.columns)\n",
    "\n",
    "# Plot top n feature importances\n",
    "n = 50\n",
    "plt.figure(figsize=(10,n/2))\n",
    "plt.title(f'Top {n} features')\n",
    "importances.sort_values()[-n:].plot.barh();"
   ]
  },
  {
   "cell_type": "markdown",
   "metadata": {},
   "source": [
    "### Confusion Matrix"
   ]
  },
  {
   "cell_type": "code",
   "execution_count": 37,
   "metadata": {},
   "outputs": [
    {
     "data": {
      "image/png": "[encoded data removed]",
      "text/plain": [
       "<Figure size 432x288 with 2 Axes>"
      ]
     },
     "metadata": {
      "needs_background": "light"
     },
     "output_type": "display_data"
    }
   ],
   "source": [
    "# Confusion matrix\n",
    "from sklearn.metrics import plot_confusion_matrix\n",
    "\n",
    "# Plot\n",
    "plot_confusion_matrix(pipeline, X_val, y_val, xticks_rotation= 'vertical', normalize= 'pred')\n",
    "\n",
    "# Enlarge\n",
    "plt.rcParams['figure.dpi']= 200"
   ]
  },
  {
   "cell_type": "markdown",
   "metadata": {},
   "source": [
    "### Scores for Model 1"
   ]
  },
  {
   "cell_type": "code",
   "execution_count": 38,
   "metadata": {},
   "outputs": [
    {
     "name": "stdout",
     "output_type": "stream",
     "text": [
      "              precision    recall  f1-score   support\n",
      "\n",
      "         1.0       0.79      0.91      0.85    227537\n",
      "         2.0       0.45      0.38      0.41     86371\n",
      "         3.0       0.47      0.41      0.44     64282\n",
      "         4.0       0.72      0.16      0.26     20176\n",
      "\n",
      "    accuracy                           0.68    398366\n",
      "   macro avg       0.61      0.47      0.49    398366\n",
      "weighted avg       0.66      0.68      0.66    398366\n",
      "\n"
     ]
    }
   ],
   "source": [
    "# Look at precision and recall for each class\n",
    "# Using weighted average f1-score as an evaluation metric\n",
    "\n",
    "from sklearn.metrics import classification_report\n",
    "\n",
    "# Make predictions\n",
    "y_pred= pipeline.predict(X_val)\n",
    "\n",
    "# Print scores\n",
    "print(classification_report(y_val, y_pred))"
   ]
  },
  {
   "cell_type": "markdown",
   "metadata": {},
   "source": [
    "Remember that the baseline model had an accuracy of 57% with a weighted average f1-score of 0.42"
   ]
  },
  {
   "cell_type": "markdown",
   "metadata": {},
   "source": [
    "## Model 2\n",
    "- Include all of the features except for geographic data"
   ]
  },
  {
   "cell_type": "code",
   "execution_count": 39,
   "metadata": {},
   "outputs": [
    {
     "data": {
      "text/plain": [
       "['Y', 'N']"
      ]
     },
     "execution_count": 39,
     "metadata": {},
     "output_type": "execute_result"
    }
   ],
   "source": [
    "# Look at label names for spelling mistakes etc...\n",
    "df_cleaned['Emergency Department Indicator'].value_counts().index.tolist()"
   ]
  },
  {
   "cell_type": "code",
   "execution_count": 40,
   "metadata": {},
   "outputs": [],
   "source": [
    "# Set features and target\n",
    "# Define target vector and feature matrices\n",
    "\n",
    "# Including all features except for target and geographic data\n",
    "\n",
    "target = 'APR Risk of Mortality'\n",
    "\n",
    "features = [\n",
    "    'Age Group',\n",
    "    'Gender',\n",
    "    'Race',\n",
    "    'Ethnicity',\n",
    "    'Length of Stay',\n",
    "    'Type of Admission',\n",
    "    'CCS Diagnosis Code',\n",
    "    'CCS Procedure Code',\n",
    "    'APR DRG Code',\n",
    "    'APR MDC Code',\n",
    "#     'APR Severity of Illness Code',    Removed for potential data leakage\n",
    "    'APR Medical Surgical Description',\n",
    "    'Payment Typology 1',\n",
    "    'Payment Typology 2',\n",
    "    'Payment Typology 3',\n",
    "    'Abortion Edit Indicator',\n",
    "    'Emergency Department Indicator',\n",
    "]\n",
    "\n",
    "# Split into train, validate and test target vector and feature matrices\n",
    "X_train= train[features]\n",
    "y_train= train[target]\n",
    "\n",
    "X_val= val[features]\n",
    "y_val= val[target]\n",
    "\n",
    "# Set test feature matrix\n",
    "X_test= test[features]\n",
    "y_test= test[target]"
   ]
  },
  {
   "cell_type": "code",
   "execution_count": 41,
   "metadata": {},
   "outputs": [],
   "source": [
    "# Create a function to clean data the same way\n",
    "\n",
    "def clean(X):\n",
    "    \n",
    "# Prevent SettingWithCopyWarning - create a copy\n",
    "    X = X.copy()\n",
    "    \n",
    "# Replace missing values of Payment Typology 2 and 3 with 'None', they only used one type of payment\n",
    "    X['Payment Typology 2']= X['Payment Typology 2'].replace({np.nan: 'None'})\n",
    "    X['Payment Typology 3']= X['Payment Typology 3'].replace({np.nan: 'None'})\n",
    "\n",
    "# Return cleaned dataset    \n",
    "    return X"
   ]
  },
  {
   "cell_type": "code",
   "execution_count": 42,
   "metadata": {},
   "outputs": [],
   "source": [
    "# Clean train, val, test \n",
    "\n",
    "X_train= clean(X_train)\n",
    "\n",
    "X_val= clean(X_val)\n",
    "\n",
    "X_test= clean(X_test)"
   ]
  },
  {
   "cell_type": "code",
   "execution_count": 43,
   "metadata": {},
   "outputs": [
    {
     "name": "stdout",
     "output_type": "stream",
     "text": [
      "Train Accuracy: 0.8065747369094858\n",
      "Validation Accuracy: 0.7035464874010332\n"
     ]
    }
   ],
   "source": [
    "# Create a pipeline to do encoding and fit a random forest model\n",
    "\n",
    "# Imports\n",
    "import category_encoders as ce\n",
    "from sklearn.ensemble import RandomForestClassifier\n",
    "from sklearn.pipeline import make_pipeline\n",
    "from sklearn.preprocessing import StandardScaler\n",
    "\n",
    "# Create pipeline\n",
    "pipeline = make_pipeline(\n",
    "    ce.OrdinalEncoder(),\n",
    "    StandardScaler(),\n",
    "    RandomForestClassifier(random_state= 42, max_depth= 20, n_estimators= 30, n_jobs= -1)\n",
    ")\n",
    "\n",
    "# Fit pipeline on training data\n",
    "pipeline.fit(X_train, y_train)\n",
    "\n",
    "# Validation score\n",
    "print('Train Accuracy:', pipeline.score(X_train, y_train))\n",
    "print('Validation Accuracy:', pipeline.score(X_val, y_val))"
   ]
  },
  {
   "cell_type": "markdown",
   "metadata": {},
   "source": [
    "### Scores for Model 2"
   ]
  },
  {
   "cell_type": "code",
   "execution_count": 44,
   "metadata": {},
   "outputs": [
    {
     "name": "stdout",
     "output_type": "stream",
     "text": [
      "              precision    recall  f1-score   support\n",
      "\n",
      "         1.0       0.84      0.90      0.87    227537\n",
      "         2.0       0.47      0.44      0.46     86371\n",
      "         3.0       0.50      0.49      0.49     64282\n",
      "         4.0       0.61      0.27      0.38     20176\n",
      "\n",
      "    accuracy                           0.70    398366\n",
      "   macro avg       0.60      0.53      0.55    398366\n",
      "weighted avg       0.69      0.70      0.69    398366\n",
      "\n"
     ]
    }
   ],
   "source": [
    "# Make predictions\n",
    "y_pred= pipeline.predict(X_val)\n",
    "\n",
    "# Print recall, precision and f1 scores\n",
    "print(classification_report(y_val, y_pred))"
   ]
  },
  {
   "cell_type": "markdown",
   "metadata": {},
   "source": [
    "Including all of the features bumped the evaluation scores up 2-3 points each."
   ]
  },
  {
   "cell_type": "code",
   "execution_count": 45,
   "metadata": {},
   "outputs": [
    {
     "data": {
      "image/png": "[encoded data removed]",
      "text/plain": [
       "<Figure size 720x1800 with 1 Axes>"
      ]
     },
     "metadata": {
      "needs_background": "light"
     },
     "output_type": "display_data"
    }
   ],
   "source": [
    "# Feature importances\n",
    "\n",
    "%matplotlib inline\n",
    "import matplotlib.pyplot as plt\n",
    "\n",
    "# Pull out encoded X_train matrix\n",
    "encoder = pipeline.named_steps['ordinalencoder']\n",
    "encoded= encoder.transform(X_train)\n",
    "\n",
    "# Get feature importances\n",
    "rf = pipeline.named_steps['randomforestclassifier']\n",
    "importances = pd.Series(rf.feature_importances_, encoded.columns)\n",
    "\n",
    "# Plot top n feature importances\n",
    "n = 50\n",
    "plt.figure(figsize=(10,n/2))\n",
    "plt.title(f'Top {n} features')\n",
    "importances.sort_values()[-n:].plot.barh();"
   ]
  },
  {
   "cell_type": "markdown",
   "metadata": {},
   "source": [
    "#### Permutation importances"
   ]
  },
  {
   "cell_type": "code",
   "execution_count": 46,
   "metadata": {},
   "outputs": [
    {
     "data": {
      "text/plain": [
       "RandomForestClassifier(bootstrap=True, ccp_alpha=0.0, class_weight=None,\n",
       "                       criterion='gini', max_depth=20, max_features='auto',\n",
       "                       max_leaf_nodes=None, max_samples=None,\n",
       "                       min_impurity_decrease=0.0, min_impurity_split=None,\n",
       "                       min_samples_leaf=1, min_samples_split=2,\n",
       "                       min_weight_fraction_leaf=0.0, n_estimators=30, n_jobs=-1,\n",
       "                       oob_score=False, random_state=None, verbose=0,\n",
       "                       warm_start=False)"
      ]
     },
     "execution_count": 46,
     "metadata": {},
     "output_type": "execute_result"
    }
   ],
   "source": [
    "# You can't use a pipeline in eli5\n",
    "# Need to transform data and fit model before inputting into PermutationImportance\n",
    "\n",
    "# Create pipeline to transform data\n",
    "pipeline = make_pipeline(\n",
    "    ce.OrdinalEncoder(),\n",
    "    StandardScaler()\n",
    ")\n",
    "\n",
    "# Transform the data\n",
    "X_train_transformed = pipeline.fit_transform(X_train)\n",
    "X_val_transformed = pipeline.transform(X_val)\n",
    "\n",
    "# Define model with parameters\n",
    "model = RandomForestClassifier(random_state= 42, max_depth= 20, n_estimators= 30, n_jobs= -1)\n",
    "\n",
    "# Fit the model to train data\n",
    "model.fit(X_train_transformed, y_train)"
   ]
  },
  {
   "cell_type": "code",
   "execution_count": 50,
   "metadata": {},
   "outputs": [
    {
     "name": "stdout",
     "output_type": "stream",
     "text": [
      "Collecting package metadata (current_repodata.json): done\n",
      "Solving environment: done\n",
      "\n",
      "## Package Plan ##\n",
      "\n",
      "  environment location: /Users/stevenchase/opt/anaconda3/envs/yourenvname\n",
      "\n",
      "  added / updated specs:\n",
      "    - eli5\n",
      "\n",
      "\n",
      "The following packages will be downloaded:\n",
      "\n",
      "    package                    |            build\n",
      "    ---------------------------|-----------------\n",
      "    cairo-1.16.0               |    h0ab9d94_1001         1.3 MB  conda-forge\n",
      "    eli5-0.10.1                |           py37_1         135 KB  conda-forge\n",
      "    fontconfig-2.13.1          |    h1027ab8_1000         269 KB  conda-forge\n",
      "    fribidi-1.0.9              |       h0b31af3_0          64 KB  conda-forge\n",
      "    graphite2-1.3.13           |    h2098e52_1000          84 KB  conda-forge\n",
      "    graphviz-2.40.1            |       hefbbd9a_2         6.3 MB\n",
      "    harfbuzz-1.8.8             |       hb8d4a28_0         414 KB\n",
      "    pango-1.42.4               |       h060686c_0         455 KB\n",
      "    pixman-0.38.0              |    h01d97ff_1003         611 KB  conda-forge\n",
      "    python-graphviz-0.13.2     |             py_0          18 KB  conda-forge\n",
      "    tabulate-0.8.7             |     pyh9f0ad1d_0          24 KB  conda-forge\n",
      "    ------------------------------------------------------------\n",
      "                                           Total:         9.7 MB\n",
      "\n",
      "The following NEW packages will be INSTALLED:\n",
      "\n",
      "  cairo              conda-forge/osx-64::cairo-1.16.0-h0ab9d94_1001\n",
      "  eli5               conda-forge/osx-64::eli5-0.10.1-py37_1\n",
      "  fontconfig         conda-forge/osx-64::fontconfig-2.13.1-h1027ab8_1000\n",
      "  fribidi            conda-forge/osx-64::fribidi-1.0.9-h0b31af3_0\n",
      "  graphite2          conda-forge/osx-64::graphite2-1.3.13-h2098e52_1000\n",
      "  graphviz           pkgs/main/osx-64::graphviz-2.40.1-hefbbd9a_2\n",
      "  harfbuzz           pkgs/main/osx-64::harfbuzz-1.8.8-hb8d4a28_0\n",
      "  pango              pkgs/main/osx-64::pango-1.42.4-h060686c_0\n",
      "  pixman             conda-forge/osx-64::pixman-0.38.0-h01d97ff_1003\n",
      "  python-graphviz    conda-forge/noarch::python-graphviz-0.13.2-py_0\n",
      "  tabulate           conda-forge/noarch::tabulate-0.8.7-pyh9f0ad1d_0\n",
      "\n",
      "\n",
      "\n",
      "Downloading and Extracting Packages\n",
      "pixman-0.38.0        | 611 KB    | ##################################### | 100% \n",
      "graphviz-2.40.1      | 6.3 MB    | ##################################### | 100% \n",
      "fribidi-1.0.9        | 64 KB     | ##################################### | 100% \n",
      "tabulate-0.8.7       | 24 KB     | ##################################### | 100% \n",
      "graphite2-1.3.13     | 84 KB     | ##################################### | 100% \n",
      "eli5-0.10.1          | 135 KB    | ##################################### | 100% \n",
      "fontconfig-2.13.1    | 269 KB    | ##################################### | 100% \n",
      "harfbuzz-1.8.8       | 414 KB    | ##################################### | 100% \n",
      "cairo-1.16.0         | 1.3 MB    | ##################################### | 100% \n",
      "pango-1.42.4         | 455 KB    | ##################################### | 100% \n",
      "python-graphviz-0.13 | 18 KB     | ##################################### | 100% \n",
      "Preparing transaction: done\n",
      "Verifying transaction: done\n",
      "Executing transaction: done\n",
      "\n",
      "Note: you may need to restart the kernel to use updated packages.\n"
     ]
    }
   ],
   "source": [
    "# Install eli5 on anaconda environment\n",
    "# conda install -c conda-forge eli5"
   ]
  },
  {
   "cell_type": "code",
   "execution_count": 51,
   "metadata": {},
   "outputs": [
    {
     "name": "stderr",
     "output_type": "stream",
     "text": [
      "/Users/stevenchase/opt/anaconda3/envs/yourenvname/lib/python3.7/site-packages/sklearn/utils/deprecation.py:144: FutureWarning: The sklearn.metrics.scorer module is  deprecated in version 0.22 and will be removed in version 0.24. The corresponding classes / functions should instead be imported from sklearn.metrics. Anything that cannot be imported from sklearn.metrics is now part of the private API.\n",
      "  warnings.warn(message, FutureWarning)\n",
      "/Users/stevenchase/opt/anaconda3/envs/yourenvname/lib/python3.7/site-packages/sklearn/utils/deprecation.py:144: FutureWarning: The sklearn.feature_selection.base module is  deprecated in version 0.22 and will be removed in version 0.24. The corresponding classes / functions should instead be imported from sklearn.feature_selection. Anything that cannot be imported from sklearn.feature_selection is now part of the private API.\n",
      "  warnings.warn(message, FutureWarning)\n"
     ]
    },
    {
     "data": {
      "text/plain": [
       "PermutationImportance(cv='prefit',\n",
       "                      estimator=RandomForestClassifier(bootstrap=True,\n",
       "                                                       ccp_alpha=0.0,\n",
       "                                                       class_weight=None,\n",
       "                                                       criterion='gini',\n",
       "                                                       max_depth=20,\n",
       "                                                       max_features='auto',\n",
       "                                                       max_leaf_nodes=None,\n",
       "                                                       max_samples=None,\n",
       "                                                       min_impurity_decrease=0.0,\n",
       "                                                       min_impurity_split=None,\n",
       "                                                       min_samples_leaf=1,\n",
       "                                                       min_samples_split=2,\n",
       "                                                       min_weight_fraction_leaf=0.0,\n",
       "                                                       n_estimators=30,\n",
       "                                                       n_jobs=-1,\n",
       "                                                       oob_score=False,\n",
       "                                                       random_state=None,\n",
       "                                                       verbose=0,\n",
       "                                                       warm_start=False),\n",
       "                      n_iter=5, random_state=42, refit=True,\n",
       "                      scoring='accuracy')"
      ]
     },
     "execution_count": 51,
     "metadata": {},
     "output_type": "execute_result"
    }
   ],
   "source": [
    "# Import\n",
    "import eli5\n",
    "from eli5.sklearn import PermutationImportance\n",
    "\n",
    "# Define permuter and parameters\n",
    "permuter= PermutationImportance(model, scoring= 'accuracy', n_iter= 5, random_state= 42)\n",
    "\n",
    "# Fit permutation importance to transformed validation data\n",
    "permuter.fit(X_val_transformed, y_val)"
   ]
  },
  {
   "cell_type": "code",
   "execution_count": 52,
   "metadata": {},
   "outputs": [
    {
     "data": {
      "text/html": [
       "\n",
       "    <style>\n",
       "    table.eli5-weights tr:hover {\n",
       "        filter: brightness(85%);\n",
       "    }\n",
       "</style>\n",
       "\n",
       "\n",
       "\n",
       "    \n",
       "\n",
       "    \n",
       "\n",
       "    \n",
       "\n",
       "    \n",
       "\n",
       "    \n",
       "\n",
       "    \n",
       "\n",
       "\n",
       "    \n",
       "\n",
       "    \n",
       "\n",
       "    \n",
       "\n",
       "    \n",
       "\n",
       "    \n",
       "\n",
       "    \n",
       "\n",
       "\n",
       "    \n",
       "\n",
       "    \n",
       "\n",
       "    \n",
       "\n",
       "    \n",
       "\n",
       "    \n",
       "        <table class=\"eli5-weights eli5-feature-importances\" style=\"border-collapse: collapse; border: none; margin-top: 0em; table-layout: auto;\">\n",
       "    <thead>\n",
       "    <tr style=\"border: none;\">\n",
       "        <th style=\"padding: 0 1em 0 0.5em; text-align: right; border: none;\">Weight</th>\n",
       "        <th style=\"padding: 0 0.5em 0 0.5em; text-align: left; border: none;\">Feature</th>\n",
       "    </tr>\n",
       "    </thead>\n",
       "    <tbody>\n",
       "    \n",
       "        <tr style=\"background-color: hsl(120, 100.00%, 80.00%); border: none;\">\n",
       "            <td style=\"padding: 0 1em 0 0.5em; text-align: right; border: none;\">\n",
       "                0.0710\n",
       "                \n",
       "                    &plusmn; 0.0008\n",
       "                \n",
       "            </td>\n",
       "            <td style=\"padding: 0 0.5em 0 0.5em; text-align: left; border: none;\">\n",
       "                Age Group\n",
       "            </td>\n",
       "        </tr>\n",
       "    \n",
       "        <tr style=\"background-color: hsl(120, 100.00%, 86.63%); border: none;\">\n",
       "            <td style=\"padding: 0 1em 0 0.5em; text-align: right; border: none;\">\n",
       "                0.0400\n",
       "                \n",
       "                    &plusmn; 0.0007\n",
       "                \n",
       "            </td>\n",
       "            <td style=\"padding: 0 0.5em 0 0.5em; text-align: left; border: none;\">\n",
       "                CCS Diagnosis Code\n",
       "            </td>\n",
       "        </tr>\n",
       "    \n",
       "        <tr style=\"background-color: hsl(120, 100.00%, 86.98%); border: none;\">\n",
       "            <td style=\"padding: 0 1em 0 0.5em; text-align: right; border: none;\">\n",
       "                0.0385\n",
       "                \n",
       "                    &plusmn; 0.0006\n",
       "                \n",
       "            </td>\n",
       "            <td style=\"padding: 0 0.5em 0 0.5em; text-align: left; border: none;\">\n",
       "                Length of Stay\n",
       "            </td>\n",
       "        </tr>\n",
       "    \n",
       "        <tr style=\"background-color: hsl(120, 100.00%, 91.51%); border: none;\">\n",
       "            <td style=\"padding: 0 1em 0 0.5em; text-align: right; border: none;\">\n",
       "                0.0209\n",
       "                \n",
       "                    &plusmn; 0.0006\n",
       "                \n",
       "            </td>\n",
       "            <td style=\"padding: 0 0.5em 0 0.5em; text-align: left; border: none;\">\n",
       "                APR DRG Code\n",
       "            </td>\n",
       "        </tr>\n",
       "    \n",
       "        <tr style=\"background-color: hsl(120, 100.00%, 91.70%); border: none;\">\n",
       "            <td style=\"padding: 0 1em 0 0.5em; text-align: right; border: none;\">\n",
       "                0.0202\n",
       "                \n",
       "                    &plusmn; 0.0005\n",
       "                \n",
       "            </td>\n",
       "            <td style=\"padding: 0 0.5em 0 0.5em; text-align: left; border: none;\">\n",
       "                CCS Procedure Code\n",
       "            </td>\n",
       "        </tr>\n",
       "    \n",
       "        <tr style=\"background-color: hsl(120, 100.00%, 93.73%); border: none;\">\n",
       "            <td style=\"padding: 0 1em 0 0.5em; text-align: right; border: none;\">\n",
       "                0.0136\n",
       "                \n",
       "                    &plusmn; 0.0005\n",
       "                \n",
       "            </td>\n",
       "            <td style=\"padding: 0 0.5em 0 0.5em; text-align: left; border: none;\">\n",
       "                APR MDC Code\n",
       "            </td>\n",
       "        </tr>\n",
       "    \n",
       "        <tr style=\"background-color: hsl(120, 100.00%, 95.12%); border: none;\">\n",
       "            <td style=\"padding: 0 1em 0 0.5em; text-align: right; border: none;\">\n",
       "                0.0095\n",
       "                \n",
       "                    &plusmn; 0.0004\n",
       "                \n",
       "            </td>\n",
       "            <td style=\"padding: 0 0.5em 0 0.5em; text-align: left; border: none;\">\n",
       "                Payment Typology 1\n",
       "            </td>\n",
       "        </tr>\n",
       "    \n",
       "        <tr style=\"background-color: hsl(120, 100.00%, 95.66%); border: none;\">\n",
       "            <td style=\"padding: 0 1em 0 0.5em; text-align: right; border: none;\">\n",
       "                0.0080\n",
       "                \n",
       "                    &plusmn; 0.0003\n",
       "                \n",
       "            </td>\n",
       "            <td style=\"padding: 0 0.5em 0 0.5em; text-align: left; border: none;\">\n",
       "                APR Medical Surgical Description\n",
       "            </td>\n",
       "        </tr>\n",
       "    \n",
       "        <tr style=\"background-color: hsl(120, 100.00%, 97.09%); border: none;\">\n",
       "            <td style=\"padding: 0 1em 0 0.5em; text-align: right; border: none;\">\n",
       "                0.0045\n",
       "                \n",
       "                    &plusmn; 0.0003\n",
       "                \n",
       "            </td>\n",
       "            <td style=\"padding: 0 0.5em 0 0.5em; text-align: left; border: none;\">\n",
       "                Type of Admission\n",
       "            </td>\n",
       "        </tr>\n",
       "    \n",
       "        <tr style=\"background-color: hsl(120, 100.00%, 97.28%); border: none;\">\n",
       "            <td style=\"padding: 0 1em 0 0.5em; text-align: right; border: none;\">\n",
       "                0.0041\n",
       "                \n",
       "                    &plusmn; 0.0004\n",
       "                \n",
       "            </td>\n",
       "            <td style=\"padding: 0 0.5em 0 0.5em; text-align: left; border: none;\">\n",
       "                Emergency Department Indicator\n",
       "            </td>\n",
       "        </tr>\n",
       "    \n",
       "        <tr style=\"background-color: hsl(120, 100.00%, 98.81%); border: none;\">\n",
       "            <td style=\"padding: 0 1em 0 0.5em; text-align: right; border: none;\">\n",
       "                0.0013\n",
       "                \n",
       "                    &plusmn; 0.0005\n",
       "                \n",
       "            </td>\n",
       "            <td style=\"padding: 0 0.5em 0 0.5em; text-align: left; border: none;\">\n",
       "                Payment Typology 2\n",
       "            </td>\n",
       "        </tr>\n",
       "    \n",
       "        <tr style=\"background-color: hsl(120, 100.00%, 99.06%); border: none;\">\n",
       "            <td style=\"padding: 0 1em 0 0.5em; text-align: right; border: none;\">\n",
       "                0.0009\n",
       "                \n",
       "                    &plusmn; 0.0002\n",
       "                \n",
       "            </td>\n",
       "            <td style=\"padding: 0 0.5em 0 0.5em; text-align: left; border: none;\">\n",
       "                Gender\n",
       "            </td>\n",
       "        </tr>\n",
       "    \n",
       "        <tr style=\"background-color: hsl(120, 100.00%, 99.42%); border: none;\">\n",
       "            <td style=\"padding: 0 1em 0 0.5em; text-align: right; border: none;\">\n",
       "                0.0004\n",
       "                \n",
       "                    &plusmn; 0.0002\n",
       "                \n",
       "            </td>\n",
       "            <td style=\"padding: 0 0.5em 0 0.5em; text-align: left; border: none;\">\n",
       "                Race\n",
       "            </td>\n",
       "        </tr>\n",
       "    \n",
       "        <tr style=\"background-color: hsl(120, 100.00%, 99.52%); border: none;\">\n",
       "            <td style=\"padding: 0 1em 0 0.5em; text-align: right; border: none;\">\n",
       "                0.0003\n",
       "                \n",
       "                    &plusmn; 0.0003\n",
       "                \n",
       "            </td>\n",
       "            <td style=\"padding: 0 0.5em 0 0.5em; text-align: left; border: none;\">\n",
       "                Ethnicity\n",
       "            </td>\n",
       "        </tr>\n",
       "    \n",
       "        <tr style=\"background-color: hsl(120, 100.00%, 99.67%); border: none;\">\n",
       "            <td style=\"padding: 0 1em 0 0.5em; text-align: right; border: none;\">\n",
       "                0.0002\n",
       "                \n",
       "                    &plusmn; 0.0003\n",
       "                \n",
       "            </td>\n",
       "            <td style=\"padding: 0 0.5em 0 0.5em; text-align: left; border: none;\">\n",
       "                Payment Typology 3\n",
       "            </td>\n",
       "        </tr>\n",
       "    \n",
       "        <tr style=\"background-color: hsl(0, 100.00%, 99.96%); border: none;\">\n",
       "            <td style=\"padding: 0 1em 0 0.5em; text-align: right; border: none;\">\n",
       "                -0.0000\n",
       "                \n",
       "                    &plusmn; 0.0000\n",
       "                \n",
       "            </td>\n",
       "            <td style=\"padding: 0 0.5em 0 0.5em; text-align: left; border: none;\">\n",
       "                Abortion Edit Indicator\n",
       "            </td>\n",
       "        </tr>\n",
       "    \n",
       "    \n",
       "    </tbody>\n",
       "</table>\n",
       "    \n",
       "\n",
       "    \n",
       "\n",
       "\n",
       "    \n",
       "\n",
       "    \n",
       "\n",
       "    \n",
       "\n",
       "    \n",
       "\n",
       "    \n",
       "\n",
       "    \n",
       "\n",
       "\n",
       "\n"
      ],
      "text/plain": [
       "<IPython.core.display.HTML object>"
      ]
     },
     "execution_count": 52,
     "metadata": {},
     "output_type": "execute_result"
    }
   ],
   "source": [
    "# Show weights graphic\n",
    "\n",
    "# Define feature labels\n",
    "feature_labels = X_val.columns.tolist()\n",
    "\n",
    "# Run and print function\n",
    "eli5.show_weights(permuter, top= None, feature_names= feature_labels)"
   ]
  },
  {
   "cell_type": "markdown",
   "metadata": {},
   "source": [
    "### XGBoost"
   ]
  },
  {
   "cell_type": "code",
   "execution_count": 54,
   "metadata": {},
   "outputs": [
    {
     "data": {
      "text/plain": [
       "Pipeline(memory=None,\n",
       "         steps=[('ordinalencoder',\n",
       "                 OrdinalEncoder(cols=['Age Group', 'Gender', 'Race',\n",
       "                                      'Ethnicity', 'Length of Stay',\n",
       "                                      'Type of Admission',\n",
       "                                      'APR Medical Surgical Description',\n",
       "                                      'Payment Typology 1',\n",
       "                                      'Payment Typology 2',\n",
       "                                      'Payment Typology 3',\n",
       "                                      'Abortion Edit Indicator',\n",
       "                                      'Emergency Department Indicator'],\n",
       "                                drop_invariant=False, handle_missing='value',\n",
       "                                handle_unknown='value'...\n",
       "                 XGBClassifier(base_score=0.5, booster='gbtree',\n",
       "                               colsample_bylevel=1, colsample_bynode=1,\n",
       "                               colsample_bytree=1, gamma=0, learning_rate=0.1,\n",
       "                               max_delta_step=0, max_depth=3,\n",
       "                               min_child_weight=1, missing=None,\n",
       "                               n_estimators=30, n_jobs=-1, nthread=None,\n",
       "                               objective='multi:softprob', random_state=42,\n",
       "                               reg_alpha=0, reg_lambda=1, scale_pos_weight=1,\n",
       "                               seed=None, silent=None, subsample=1,\n",
       "                               verbosity=1))],\n",
       "         verbose=False)"
      ]
     },
     "execution_count": 54,
     "metadata": {},
     "output_type": "execute_result"
    }
   ],
   "source": [
    "# Import\n",
    "from xgboost import XGBClassifier\n",
    "\n",
    "# Create pipeline using XGBoostClassifier\n",
    "pipeline = make_pipeline(\n",
    "    ce.OrdinalEncoder(),\n",
    "    StandardScaler(),\n",
    "    XGBClassifier(n_estimators= 30, random_state= 42, n_jobs= -1)\n",
    ")\n",
    "\n",
    "# Fit pipeline to train data\n",
    "pipeline.fit(X_train, y_train)"
   ]
  },
  {
   "cell_type": "code",
   "execution_count": 55,
   "metadata": {},
   "outputs": [
    {
     "name": "stdout",
     "output_type": "stream",
     "text": [
      "Validation Accuracy 0.6711491442542787\n"
     ]
    }
   ],
   "source": [
    "# Import\n",
    "from sklearn.metrics import accuracy_score\n",
    "\n",
    "# Make predictions\n",
    "y_pred= pipeline.predict(X_val)\n",
    "\n",
    "# Print error metric\n",
    "print('Validation Accuracy', accuracy_score(y_val, y_pred))"
   ]
  },
  {
   "cell_type": "code",
   "execution_count": 56,
   "metadata": {},
   "outputs": [
    {
     "name": "stdout",
     "output_type": "stream",
     "text": [
      "              precision    recall  f1-score   support\n",
      "\n",
      "         1.0       0.77      0.92      0.84    227537\n",
      "         2.0       0.44      0.34      0.38     86371\n",
      "         3.0       0.47      0.39      0.43     64282\n",
      "         4.0       0.65      0.13      0.21     20176\n",
      "\n",
      "    accuracy                           0.67    398366\n",
      "   macro avg       0.58      0.45      0.47    398366\n",
      "weighted avg       0.64      0.67      0.64    398366\n",
      "\n"
     ]
    }
   ],
   "source": [
    "# Print recall, precision and f1 scores\n",
    "print(classification_report(y_val, y_pred))"
   ]
  },
  {
   "cell_type": "markdown",
   "metadata": {},
   "source": [
    "XGBoost did not improve the evaluation metrics from random forest"
   ]
  },
  {
   "cell_type": "markdown",
   "metadata": {},
   "source": [
    "## Model 3\n",
    "- Feature engineer: distance to hospital\n",
    "- Feature engineer: did they require multiple methods of payment\n",
    "- Clean up feature selection. Don't include ones that have low importance in the model"
   ]
  },
  {
   "cell_type": "code",
   "execution_count": null,
   "metadata": {},
   "outputs": [],
   "source": [
    "df_cleaned.head()"
   ]
  },
  {
   "cell_type": "code",
   "execution_count": null,
   "metadata": {},
   "outputs": [],
   "source": [
    "df_cleaned.describe(exclude= 'number')"
   ]
  },
  {
   "cell_type": "code",
   "execution_count": null,
   "metadata": {},
   "outputs": [],
   "source": [
    "df_cleaned.describe()"
   ]
  },
  {
   "cell_type": "code",
   "execution_count": null,
   "metadata": {},
   "outputs": [],
   "source": [
    "df_cleaned.isnull().sum()"
   ]
  }
 ],
 "metadata": {
  "kernelspec": {
   "display_name": "Python 3",
   "language": "python",
   "name": "python3"
  },
  "language_info": {
   "codemirror_mode": {
    "name": "ipython",
    "version": 3
   },
   "file_extension": ".py",
   "mimetype": "text/x-python",
   "name": "python",
   "nbconvert_exporter": "python",
   "pygments_lexer": "ipython3",
   "version": "3.7.7"
  }
 },
 "nbformat": 4,
 "nbformat_minor": 4
}
