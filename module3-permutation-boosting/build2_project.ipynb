{
  "nbformat": 4,
  "nbformat_minor": 0,
  "metadata": {
    "language_info": {
      "codemirror_mode": {
        "name": "ipython",
        "version": 3
      },
      "file_extension": ".py",
      "mimetype": "text/x-python",
      "name": "python",
      "nbconvert_exporter": "python",
      "pygments_lexer": "ipython3",
      "version": "3.7.6-final"
    },
    "orig_nbformat": 2,
    "kernelspec": {
      "name": "python3",
      "display_name": "Python 3"
    },
    "colab": {
      "name": "build2_project.ipynb",
      "provenance": [],
      "include_colab_link": true
    }
  },
  "cells": [
    {
      "cell_type": "markdown",
      "metadata": {
        "id": "view-in-github",
        "colab_type": "text"
      },
      "source": [
        "<a href=\"https://colab.research.google.com/github/mtoce/DS-Unit-2-Applied-Modeling/blob/master/module3-permutation-boosting/build2_project.ipynb\" target=\"_parent\"><img src=\"https://colab.research.google.com/assets/colab-badge.svg\" alt=\"Open In Colab\"/></a>"
      ]
    },
    {
      "cell_type": "code",
      "metadata": {
        "id": "quQyXsa9N69O",
        "colab_type": "code",
        "colab": {}
      },
      "source": [
        "import numpy as np\n",
        "import pandas as pd\n",
        "import matplotlib.pyplot as plt\n",
        "import seaborn as sns"
      ],
      "execution_count": 0,
      "outputs": []
    },
    {
      "cell_type": "code",
      "metadata": {
        "id": "vxEGH5csOE-5",
        "colab_type": "code",
        "outputId": "254d76d1-f35e-489d-83cd-409f5e150233",
        "colab": {
          "base_uri": "https://localhost:8080/",
          "height": 204
        }
      },
      "source": [
        "!pip install category_encoders"
      ],
      "execution_count": 26,
      "outputs": [
        {
          "output_type": "stream",
          "text": [
            "Requirement already satisfied: category_encoders in /usr/local/lib/python3.6/dist-packages (2.1.0)\n",
            "Requirement already satisfied: patsy>=0.4.1 in /usr/local/lib/python3.6/dist-packages (from category_encoders) (0.5.1)\n",
            "Requirement already satisfied: statsmodels>=0.6.1 in /usr/local/lib/python3.6/dist-packages (from category_encoders) (0.10.2)\n",
            "Requirement already satisfied: scipy>=0.19.0 in /usr/local/lib/python3.6/dist-packages (from category_encoders) (1.4.1)\n",
            "Requirement already satisfied: scikit-learn>=0.20.0 in /usr/local/lib/python3.6/dist-packages (from category_encoders) (0.22.2.post1)\n",
            "Requirement already satisfied: numpy>=1.11.3 in /usr/local/lib/python3.6/dist-packages (from category_encoders) (1.18.2)\n",
            "Requirement already satisfied: pandas>=0.21.1 in /usr/local/lib/python3.6/dist-packages (from category_encoders) (1.0.3)\n",
            "Requirement already satisfied: six in /usr/local/lib/python3.6/dist-packages (from patsy>=0.4.1->category_encoders) (1.12.0)\n",
            "Requirement already satisfied: joblib>=0.11 in /usr/local/lib/python3.6/dist-packages (from scikit-learn>=0.20.0->category_encoders) (0.14.1)\n",
            "Requirement already satisfied: pytz>=2017.2 in /usr/local/lib/python3.6/dist-packages (from pandas>=0.21.1->category_encoders) (2018.9)\n",
            "Requirement already satisfied: python-dateutil>=2.6.1 in /usr/local/lib/python3.6/dist-packages (from pandas>=0.21.1->category_encoders) (2.8.1)\n"
          ],
          "name": "stdout"
        }
      ]
    },
    {
      "cell_type": "code",
      "metadata": {
        "id": "4VdgeyYLN69V",
        "colab_type": "code",
        "colab": {}
      },
      "source": [
        "# Read in dataframe. Shape is (8274, 29)\n",
        "#df = pd.read_csv('astros_bangs_20200127.csv')\n",
        "df = pd.read_csv('https://raw.githubusercontent.com/mtoce/Build2-Project/master/astros_bangs_20200127.csv')\n",
        "\n",
        "# Define target as whether bangs were heard during batter's AB\n",
        "# Bangs were used by the Astros after using technology to steal signs to signal to the batter what pitch was coming\n",
        "y = 'has_bangs'"
      ],
      "execution_count": 0,
      "outputs": []
    },
    {
      "cell_type": "code",
      "metadata": {
        "id": "rcrJ2uiKN69Z",
        "colab_type": "code",
        "colab": {}
      },
      "source": [
        "# Feature engineering function\n",
        "def feature_engineering(X):\n",
        "  '''\n",
        "  Engineer new features for dataframe X.\n",
        "  '''\n",
        "  hit_list = ['Single', 'Double', 'Triple', 'Home Run']\n",
        "  obp_list = ['Single', 'Double', 'Triple', 'Home Run', 'Walk', 'Hit By Pitch', 'Sac Fly']\n",
        "  out_list = ['Strikeout', 'Double Play',\n",
        "       'Grounded Into DP', 'Catcher Interference', 'Flyout', 'Groundout',\n",
        "       'Lineout', 'Sac Fly', 'Fan interference', 'Pop Out',\n",
        "       'Double', 'Forceout', 'Sac Bunt', 'Strikeout - DP', 'Fielders Choice Out',\n",
        "       'Bunt Groundout', 'Bunt Pop Out']\n",
        "  X['hit'] = X['at_bat_event'].isin(hit_list)\n",
        "  X['on_base'] = X['at_bat_event'].isin(obp_list)\n",
        "                                          \n",
        "  return X\n",
        "\n",
        "df = feature_engineering(df)"
      ],
      "execution_count": 0,
      "outputs": []
    },
    {
      "cell_type": "code",
      "metadata": {
        "id": "o6JTVBIqN69e",
        "colab_type": "code",
        "colab": {}
      },
      "source": [
        "def wrangle(X):\n",
        "    '''\n",
        "    Wrangle function for DF before train_test_split\n",
        "    '''\n",
        "\n",
        "    X = X.copy()\n",
        "\n",
        "    # Change game_date to a datetime for ease of use\n",
        "    X['game_date'] = pd.to_datetime(X['game_date'], infer_datetime_format=True)\n",
        "\n",
        "    # Replace some character strings with numbers\n",
        "    X['has_bangs'] = X['has_bangs'].replace({'n': 0, 'y': 1})\n",
        "    X['on_1b'] = X['on_1b'].replace({'t': 1, 'f': 0})\n",
        "    X['on_2b'] = X['on_2b'].replace({'t': 1, 'f': 0})\n",
        "    X['on_3b'] = X['on_3b'].replace({'t': 1, 'f': 0})\n",
        "    X['hit'] = X['hit'].replace({True: 1, False: 0})\n",
        "    X['on_base'] = X['on_base'].replace({True: 1, False: 0})\n",
        "\n",
        "    # Drop these columns since they are video playback related or contain no cardinality\n",
        "    X = X.drop(columns=['youtube_id', 'pitch_youtube_seconds', 'youtube_url', \n",
        "                    'pitch_datetime', 'game_pitch_id', 'event_number', \n",
        "                    'pitch_playid', 'atbat_playid', 'bangs'])\n",
        "\n",
        "    # Save only data where bangs occured (95% of df), remove the rest\n",
        "    games_with_bangs_list = X[(X[y]==1)].game_date.to_list()\n",
        "    X = X[X['game_date'].isin(games_with_bangs_list)]\n",
        "\n",
        "    # Remove rows with runners getting out to end the inning (<.2% of outcomes)\n",
        "    # Since it will conflict with any batting average and obp calculations\n",
        "    no_interference = ['Home Run', 'Single', 'Strikeout', 'Double Play', \n",
        "                   'Grounded Into DP', 'Flyout', 'Groundout', 'Lineout', 'Walk',\n",
        "                   'Sac Fly', 'Pop Out', 'Double', 'Forceout', 'Field Error', \n",
        "                   'Sac Bunt', 'Hit By Pitch', 'Strikeout - DP', 'Triple', \n",
        "                   'Fielders Choice Out', 'Bunt Groundout', 'Bunt Pop Out']\n",
        "    X = X[X['at_bat_event'].isin(no_interference)]\n",
        "\n",
        "    # Drop columns that may contain data leakage / that aren't useful in predicting real time (final runs)\n",
        "    X = X.drop(['game_date', 'final_away_runs', 'final_home_runs', 'game_id'], axis=1)\n",
        "\n",
        "    return X\n",
        "\n",
        "df = wrangle(df)"
      ],
      "execution_count": 0,
      "outputs": []
    },
    {
      "cell_type": "code",
      "metadata": {
        "id": "oleochplN69h",
        "colab_type": "code",
        "colab": {}
      },
      "source": [
        "from sklearn.pipeline import make_pipeline\n",
        "from sklearn.impute import SimpleImputer\n",
        "import category_encoders as ce\n",
        "from sklearn.feature_selection import SelectKBest\n",
        "from sklearn.ensemble import RandomForestClassifier\n",
        "from sklearn.model_selection import train_test_split, RandomizedSearchCV, GridSearchCV\n",
        "from sklearn.metrics import roc_curve"
      ],
      "execution_count": 0,
      "outputs": []
    },
    {
      "cell_type": "code",
      "metadata": {
        "id": "XDlNkVPjN69l",
        "colab_type": "code",
        "colab": {}
      },
      "source": [
        "# create a features DF without the target\n",
        "X = df.drop(y, axis=1)\n",
        "X_train, X_test, y_train, y_test = train_test_split(X, df[y], test_size=0.2, random_state=17)\n",
        "X_train, X_val, y_train, y_val = train_test_split(X_train, y_train, test_size=0.25, random_state=17) # 0.25 x 0.8 = 0.2\\"
      ],
      "execution_count": 0,
      "outputs": []
    },
    {
      "cell_type": "code",
      "metadata": {
        "id": "yuh7E9nUN69p",
        "colab_type": "code",
        "colab": {}
      },
      "source": [
        "from sklearn.pipeline import make_pipeline\n",
        "from sklearn.impute import SimpleImputer\n",
        "import category_encoders as ce\n",
        "from sklearn.feature_selection import SelectKBest\n",
        "from sklearn.ensemble import RandomForestClassifier\n",
        "from sklearn.model_selection import train_test_split, RandomizedSearchCV, GridSearchCV\n",
        "from sklearn.metrics import roc_curve, f1_score, confusion_matrix, accuracy_score"
      ],
      "execution_count": 0,
      "outputs": []
    },
    {
      "cell_type": "code",
      "metadata": {
        "id": "JEhdMxjNN69v",
        "colab_type": "code",
        "colab": {}
      },
      "source": [
        "pipeline = make_pipeline(\n",
        "    ce.OrdinalEncoder(),\n",
        "    SimpleImputer(),\n",
        "    #SelectKBest(),\n",
        "    RandomForestClassifier(n_jobs=-1, n_estimators=24),\n",
        ")"
      ],
      "execution_count": 0,
      "outputs": []
    },
    {
      "cell_type": "code",
      "metadata": {
        "id": "0YPBPhCEN69z",
        "colab_type": "code",
        "colab": {}
      },
      "source": [
        "\n",
        "# Use this for actual hyperparameter tuning\n",
        "# param_distributions = {\n",
        "#     'randomforestclassifier__n_estimators': [25],\n",
        "#     'randomforestclassifier__max_depth': [None, 30, 32, 34, 36],\n",
        "#     'randomforestclassifier__min_samples_split': [6, 8, 10, 12, 14],\n",
        "#     'randomforestclassifier__criterion': ['gini', 'entropy'],\n",
        "#     'randomforestclassifier__min_samples_leaf': [1, 2],\n",
        "#     'randomforestclassifier__max_leaf_nodes': [None],\n",
        "#     'randomforestclassifier__oob_score': [True, False],\n",
        "#     'selectkbest__k': [10, 15, 20, 25, 30],\n",
        "#     'simpleimputer__strategy': ['most_frequent'],\n",
        "# }\n",
        "\n",
        "#Use this for final model (one parameter each)\n",
        "param_distributions = {\n",
        "    'randomforestclassifier__n_estimators': [25],\n",
        "    'randomforestclassifier__max_depth': [32],\n",
        "    'randomforestclassifier__min_samples_split': [10],\n",
        "    'randomforestclassifier__criterion': ['entropy'],\n",
        "    'randomforestclassifier__min_samples_leaf': [2],\n",
        "    'randomforestclassifier__max_leaf_nodes': [None],\n",
        "    'randomforestclassifier__oob_score': [True],\n",
        "    'selectkbest__k': [10],\n",
        "    'simpleimputer__strategy': ['most_frequent'],\n",
        "}"
      ],
      "execution_count": 0,
      "outputs": []
    },
    {
      "cell_type": "code",
      "metadata": {
        "id": "Z9EDHMzsN692",
        "colab_type": "code",
        "outputId": "1678a756-d320-491d-ef70-7cf10a6a540d",
        "colab": {
          "base_uri": "https://localhost:8080/",
          "height": 612
        }
      },
      "source": [
        "search = RandomizedSearchCV(\n",
        "    pipeline,\n",
        "    param_distributions=param_distributions,\n",
        "    n_iter=1,\n",
        "    cv=5,\n",
        "    scoring='accuracy',\n",
        "    verbose=10,\n",
        "    return_train_score=True,\n",
        "    n_jobs=-1\n",
        ")\n",
        "\n",
        "search.fit(X_train, y_train)"
      ],
      "execution_count": 36,
      "outputs": [
        {
          "output_type": "stream",
          "text": [
            "Fitting 5 folds for each of 1 candidates, totalling 5 fits\n"
          ],
          "name": "stdout"
        },
        {
          "output_type": "stream",
          "text": [
            "[Parallel(n_jobs=-1)]: Using backend LokyBackend with 2 concurrent workers.\n",
            "[Parallel(n_jobs=-1)]: Done   1 tasks      | elapsed:    2.0s\n",
            "[Parallel(n_jobs=-1)]: Done   3 out of   5 | elapsed:    2.6s remaining:    1.8s\n",
            "[Parallel(n_jobs=-1)]: Done   5 out of   5 | elapsed:    3.1s remaining:    0.0s\n",
            "[Parallel(n_jobs=-1)]: Done   5 out of   5 | elapsed:    3.1s finished\n",
            "/usr/local/lib/python3.6/dist-packages/sklearn/feature_selection/_univariate_selection.py:114: UserWarning: Features [ 3 14] are constant.\n",
            "  UserWarning)\n",
            "/usr/local/lib/python3.6/dist-packages/sklearn/feature_selection/_univariate_selection.py:115: RuntimeWarning: invalid value encountered in true_divide\n",
            "  f = msb / msw\n"
          ],
          "name": "stderr"
        },
        {
          "output_type": "execute_result",
          "data": {
            "text/plain": [
              "RandomizedSearchCV(cv=5, error_score=nan,\n",
              "                   estimator=Pipeline(memory=None,\n",
              "                                      steps=[('ordinalencoder',\n",
              "                                              OrdinalEncoder(cols=None,\n",
              "                                                             drop_invariant=False,\n",
              "                                                             handle_missing='value',\n",
              "                                                             handle_unknown='value',\n",
              "                                                             mapping=None,\n",
              "                                                             return_df=True,\n",
              "                                                             verbose=0)),\n",
              "                                             ('simpleimputer',\n",
              "                                              SimpleImputer(add_indicator=False,\n",
              "                                                            copy=True,\n",
              "                                                            fill_value=None,\n",
              "                                                            missing_values=nan,\n",
              "                                                            strategy='mean',\n",
              "                                                            verbose=0)...\n",
              "                                        'randomforestclassifier__min_samples_leaf': [2],\n",
              "                                        'randomforestclassifier__min_samples_split': [10],\n",
              "                                        'randomforestclassifier__n_estimators': [25],\n",
              "                                        'randomforestclassifier__oob_score': [True],\n",
              "                                        'selectkbest__k': [10],\n",
              "                                        'simpleimputer__strategy': ['most_frequent']},\n",
              "                   pre_dispatch='2*n_jobs', random_state=None, refit=True,\n",
              "                   return_train_score=True, scoring='accuracy', verbose=10)"
            ]
          },
          "metadata": {
            "tags": []
          },
          "execution_count": 36
        }
      ]
    },
    {
      "cell_type": "code",
      "metadata": {
        "id": "EcxpSzVwN696",
        "colab_type": "code",
        "outputId": "6c92e9f2-1398-475a-9d70-32810eaee4f3",
        "colab": {
          "base_uri": "https://localhost:8080/",
          "height": 85
        }
      },
      "source": [
        "# save best pipeline parameters to a new pipeline to run on code again\n",
        "pipeline = search.best_estimator_\n",
        "\n",
        "pipeline.fit(X_train, y_train)\n",
        "\n",
        "y_pred = pipeline.predict(X_val)\n",
        "\n",
        "pipeline.score(X_val, y_val)\n",
        "\n",
        "y_pred_prob = pipeline.predict_proba(X_val)[:, 1]"
      ],
      "execution_count": 44,
      "outputs": [
        {
          "output_type": "stream",
          "text": [
            "/usr/local/lib/python3.6/dist-packages/sklearn/feature_selection/_univariate_selection.py:114: UserWarning: Features [ 3 14] are constant.\n",
            "  UserWarning)\n",
            "/usr/local/lib/python3.6/dist-packages/sklearn/feature_selection/_univariate_selection.py:115: RuntimeWarning: invalid value encountered in true_divide\n",
            "  f = msb / msw\n"
          ],
          "name": "stderr"
        }
      ]
    },
    {
      "cell_type": "code",
      "metadata": {
        "id": "m2l-Ezyjktrb",
        "colab_type": "code",
        "colab": {
          "base_uri": "https://localhost:8080/",
          "height": 51
        },
        "outputId": "04d9077d-fec1-488f-c9c7-5b0001b3969c"
      },
      "source": [
        "cm = confusion_matrix(y_val, y_pred)\n",
        "cm"
      ],
      "execution_count": 56,
      "outputs": [
        {
          "output_type": "execute_result",
          "data": {
            "text/plain": [
              "array([[1306,   42],\n",
              "       [  88,  139]])"
            ]
          },
          "metadata": {
            "tags": []
          },
          "execution_count": 56
        }
      ]
    },
    {
      "cell_type": "code",
      "metadata": {
        "id": "o9aQZz2XlhHR",
        "colab_type": "code",
        "colab": {}
      },
      "source": [
        "# Save quadrants of confusion matrix to calculate precision and recall\n",
        "tp = cm[0][0]\n",
        "fp = cm[0][1]\n",
        "fn = cm[1][0]\n",
        "tn = cm[1][1]"
      ],
      "execution_count": 0,
      "outputs": []
    },
    {
      "cell_type": "code",
      "metadata": {
        "id": "9lS4v7jtj85s",
        "colab_type": "code",
        "colab": {
          "base_uri": "https://localhost:8080/",
          "height": 85
        },
        "outputId": "9583f054-e876-49d9-e13b-2c8763d9a359"
      },
      "source": [
        "# calculate precision and recall and F-1 score\n",
        "precision = tp / (tp + fp)\n",
        "recall = tp / (tp + fn)\n",
        "F1 = 2 * (precision * recall) / (precision + recall)\n",
        "\n",
        "print('F-1 Score (sklearn): ', f1_score(y_val, y_pred))\n",
        "print('F-1 Score (Manually): ', F1)\n",
        "print('Precision: ', precision)\n",
        "print('Recall: ', recall)"
      ],
      "execution_count": 67,
      "outputs": [
        {
          "output_type": "stream",
          "text": [
            "F-1 Score (sklearn):  0.6813725490196079\n",
            "F-1 Score (Manually):  0.9525893508388037\n",
            "Precision:  0.9688427299703264\n",
            "Recall:  0.9368723098995696\n"
          ],
          "name": "stdout"
        }
      ]
    },
    {
      "cell_type": "code",
      "metadata": {
        "id": "0LjczjcWN69-",
        "colab_type": "code",
        "outputId": "8c9a4fa1-d468-4067-fe43-4908b067e74a",
        "colab": {
          "base_uri": "https://localhost:8080/",
          "height": 638
        }
      },
      "source": [
        "fpr, tpr, thresholds = roc_curve(y_val, y_pred_prob)\n",
        "\n",
        "pd.DataFrame({\n",
        "    'False Positive Rate': fpr, \n",
        "    'True Positive Rate': tpr, \n",
        "    'Threshold': thresholds\n",
        "})\n",
        "\n",
        "# Figure: ROC_AUC_graph\n",
        "plt.scatter(fpr, tpr)\n",
        "plt.title('ROC curve')\n",
        "plt.xlabel('False Positive Rate')\n",
        "plt.ylabel('True Positive Rate')\n",
        "plt.show()\n",
        "\n",
        "\n",
        "print('ROC_AUC_Score', roc_auc_score(y_val, y_pred))"
      ],
      "execution_count": 68,
      "outputs": [
        {
          "output_type": "display_data",
          "data": {
            "image/png": "[encoded data removed]",
            "text/plain": [
              "<Figure size 1440x720 with 1 Axes>"
            ]
          },
          "metadata": {
            "tags": [],
            "needs_background": "light"
          }
        },
        {
          "output_type": "stream",
          "text": [
            "ROC_AUC_Score 0.7905887658662205\n"
          ],
          "name": "stdout"
        }
      ]
    },
    {
      "cell_type": "code",
      "metadata": {
        "id": "DCB0pNGAN6-F",
        "colab_type": "code",
        "outputId": "04650c00-9301-4ebf-e090-7135edf894c1",
        "colab": {
          "base_uri": "https://localhost:8080/",
          "height": 105
        }
      },
      "source": [
        "from sklearn.metrics import roc_auc_score\n",
        "roc_auc_score(y_val, y_pred_prob)\n",
        "\n",
        "\n",
        "print('Best hyperparameters: ', search.best_params_)\n",
        "print('Cross-validation Accuracy: ', search.best_score_)"
      ],
      "execution_count": 49,
      "outputs": [
        {
          "output_type": "stream",
          "text": [
            "Best hyperparameters:  {'simpleimputer__strategy': 'most_frequent', 'selectkbest__k': 10, 'randomforestclassifier__oob_score': True, 'randomforestclassifier__n_estimators': 25, 'randomforestclassifier__min_samples_split': 10, 'randomforestclassifier__min_samples_leaf': 2, 'randomforestclassifier__max_leaf_nodes': None, 'randomforestclassifier__max_depth': 32, 'randomforestclassifier__criterion': 'entropy'}\n",
            "Cross-validation Accuracy:  0.9043386243386244\n",
            "ROC_AUC_Score 0.7905887658662205\n",
            "F-1 Score:  0.6813725490196079\n"
          ],
          "name": "stdout"
        }
      ]
    },
    {
      "cell_type": "code",
      "metadata": {
        "id": "59vUAu_TN6-I",
        "colab_type": "code",
        "outputId": "a5edfcd9-3570-4daf-ef24-2d7329a8b27c",
        "colab": {
          "base_uri": "https://localhost:8080/",
          "height": 778
        }
      },
      "source": [
        "# Get feature importances\n",
        "rf = pipeline.named_steps['randomforestclassifier']\n",
        "importances = rf.feature_importances_\n",
        "\n",
        "# define standard deviation for graph\n",
        "std = np.std([tree.feature_importances_ for tree in rf.estimators_], axis=0)\n",
        "indices = np.argsort(importances)[::-1]\n",
        "\n",
        "# Print the feature rank\n",
        "for f in range(len(indices)):\n",
        "    print(X.columns[indices][f])\n",
        "# Plot feature importances\n",
        "plt.figure()\n",
        "plt.rcParams[\"figure.figsize\"] = (20, 10)\n",
        "plt.title(\"Feature Importances\")\n",
        "plt.bar(range(len(indices)), importances[indices], color='red', yerr=std[indices], align=\"center\")\n",
        "plt.xticks(range(len(indices)), X.columns[indices])\n",
        "plt.xlim([-1, len(indices)])\n",
        "plt.show()"
      ],
      "execution_count": 42,
      "outputs": [
        {
          "output_type": "stream",
          "text": [
            "game_pk\n",
            "batter\n",
            "inning\n",
            "top_bottom\n",
            "description\n",
            "at_bat_event\n",
            "opponent\n",
            "pitch_category\n",
            "pitch_type_code\n",
            "call_code\n"
          ],
          "name": "stdout"
        },
        {
          "output_type": "display_data",
          "data": {
            "image/png": "[encoded data removed]",
            "text/plain": [
              "<Figure size 1440x720 with 1 Axes>"
            ]
          },
          "metadata": {
            "tags": [],
            "needs_background": "light"
          }
        }
      ]
    },
    {
      "cell_type": "code",
      "metadata": {
        "id": "fEvG2Zu1N6-K",
        "colab_type": "code",
        "colab": {
          "base_uri": "https://localhost:8080/",
          "height": 578
        },
        "outputId": "0fe7c4f3-2975-424c-e174-086e06c970bd"
      },
      "source": [
        "from xgboost import XGBClassifier\n",
        "\n",
        "pipeline = make_pipeline(\n",
        "    ce.OrdinalEncoder(),\n",
        "    SimpleImputer(),\n",
        "    XGBClassifier(n_estimators=50, random_state=17, n_jobs=-1, scale_pos_weight=),\n",
        ")\n",
        "\n",
        "pipeline.fit(X_train, y_train)"
      ],
      "execution_count": 70,
      "outputs": [
        {
          "output_type": "execute_result",
          "data": {
            "text/plain": [
              "Pipeline(memory=None,\n",
              "         steps=[('ordinalencoder',\n",
              "                 OrdinalEncoder(cols=['opponent', 'top_bottom', 'batter',\n",
              "                                      'at_bat_event', 'pitch_type_code',\n",
              "                                      'pitch_category', 'call_code',\n",
              "                                      'description'],\n",
              "                                drop_invariant=False, handle_missing='value',\n",
              "                                handle_unknown='value',\n",
              "                                mapping=[{'col': 'opponent',\n",
              "                                          'data_type': dtype('O'),\n",
              "                                          'mapping': BAL     1\n",
              "DET     2\n",
              "TOR     3\n",
              "TEX     4\n",
              "OAK     5\n",
              "CLE     6\n",
              "ANA     7\n",
              "ARI     8\n",
              "SEA     9\n",
              "MIN    10\n",
              "TB     11\n",
              "N...\n",
              "                 XGBClassifier(base_score=0.5, booster='gbtree',\n",
              "                               colsample_bylevel=1, colsample_bynode=1,\n",
              "                               colsample_bytree=1, gamma=0, learning_rate=0.1,\n",
              "                               max_delta_step=0, max_depth=3,\n",
              "                               min_child_weight=1, missing=None,\n",
              "                               n_estimators=50, n_jobs=-1, nthread=None,\n",
              "                               objective='binary:logistic', random_state=17,\n",
              "                               reg_alpha=0, reg_lambda=1, scale_pos_weight=1,\n",
              "                               seed=None, silent=None, subsample=1,\n",
              "                               verbosity=1))],\n",
              "         verbose=False)"
            ]
          },
          "metadata": {
            "tags": []
          },
          "execution_count": 70
        }
      ]
    },
    {
      "cell_type": "code",
      "metadata": {
        "id": "0JZQvPonqQ1F",
        "colab_type": "code",
        "colab": {}
      },
      "source": [
        "param_distributions = {\n",
        "    'selectkbest__k': [10],\n",
        "    'simpleimputer__strategy': ['most_frequent'],\n",
        "}"
      ],
      "execution_count": 0,
      "outputs": []
    },
    {
      "cell_type": "code",
      "metadata": {
        "id": "cQ1yjn7YN6-N",
        "colab_type": "code",
        "colab": {
          "base_uri": "https://localhost:8080/",
          "height": 51
        },
        "outputId": "2c95d695-d1b9-4463-aa42-ddc508239f18"
      },
      "source": [
        "y_pred = pipeline.predict(X_val)\n",
        "#print('Accuracy Score: ', pipeline.score(X_val, y_val))\n",
        "print('Accuracy Score: ', accuracy_score(y_val, y_pred))\n",
        "print('F-1 Score: ', f1_score(y_val, y_pred))"
      ],
      "execution_count": 77,
      "outputs": [
        {
          "output_type": "stream",
          "text": [
            "Accuracy Score:  0.9123809523809524\n",
            "F-1 Score:  0.655\n"
          ],
          "name": "stdout"
        }
      ]
    },
    {
      "cell_type": "code",
      "metadata": {
        "id": "FnVIORLttj3D",
        "colab_type": "code",
        "colab": {}
      },
      "source": [
        ""
      ],
      "execution_count": 0,
      "outputs": []
    }
  ]
}