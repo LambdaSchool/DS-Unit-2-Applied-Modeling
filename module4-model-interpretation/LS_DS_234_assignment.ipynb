{
 "cells": [
  {
   "cell_type": "markdown",
   "metadata": {},
   "source": [
    "\n",
    "Lambda School Data Science\n",
    "\n",
    "*Unit 2, Sprint 3, Module 4*\n",
    "\n",
    "---"
   ]
  },
  {
   "cell_type": "markdown",
   "metadata": {},
   "source": [
    "# Model Interpretation\n",
    "\n",
    "You will use your portfolio project dataset for all assignments this sprint.\n",
    "\n",
    "## Assignment\n",
    "\n",
    "Complete these tasks for your project, and document your work.\n",
    "\n",
    "- [X] Continue to iterate on your project: data cleaning, exploratory visualization, feature engineering, modeling.\n",
    "- [X] Make at least 1 partial dependence plot to explain your model.\n",
    "- [X] Make at least 1 Shapley force plot to explain an individual prediction.\n",
    "- [X] **Share at least 1 visualization (of any type) on Slack!**\n",
    "\n",
    "If you aren't ready to make these plots with your own dataset, you can practice these objectives with any dataset you've worked with previously. Example solutions are available for Partial Dependence Plots with the Tanzania Waterpumps dataset, and Shapley force plots with the Titanic dataset. (These datasets are available in the data directory of this repository.)\n",
    "\n",
    "Please be aware that **multi-class classification** will result in multiple Partial Dependence Plots (one for each class), and multiple sets of Shapley Values (one for each class)."
   ]
  },
  {
   "cell_type": "markdown",
   "metadata": {},
   "source": [
    "## Stretch Goals\n",
    "\n",
    "#### Partial Dependence Plots\n",
    "- [ ] Make multiple PDPs with 1 feature in isolation.\n",
    "- [ ] Make multiple PDPs with 2 features in interaction. \n",
    "- [ ] Use Plotly to make a 3D PDP.\n",
    "- [ ] Make PDPs with categorical feature(s). Use Ordinal Encoder, outside of a pipeline, to encode your data first. If there is a natural ordering, then take the time to encode it that way, instead of random integers. Then use the encoded data with pdpbox. Get readable category names on your plot, instead of integer category codes.\n",
    "\n",
    "#### Shap Values\n",
    "- [ ] Make Shapley force plots to explain at least 4 individual predictions.\n",
    "    - If your project is Binary Classification, you can do a True Positive, True Negative, False Positive, False Negative.\n",
    "    - If your project is Regression, you can do a high prediction with low error, a low prediction with low error, a high prediction with high error, and a low prediction with high error.\n",
    "- [ ] Use Shapley values to display verbal explanations of individual predictions.\n",
    "- [ ] Use the SHAP library for other visualization types.\n",
    "\n",
    "The [SHAP repo](https://github.com/slundberg/shap) has examples for many visualization types, including:\n",
    "\n",
    "- Force Plot, individual predictions\n",
    "- Force Plot, multiple predictions\n",
    "- Dependence Plot\n",
    "- Summary Plot\n",
    "- Summary Plot, Bar\n",
    "- Interaction Values\n",
    "- Decision Plots\n",
    "\n",
    "We just did the first type during the lesson. The [Kaggle microcourse](https://www.kaggle.com/dansbecker/advanced-uses-of-shap-values) shows two more. Experiment and see what you can learn!"
   ]
  },
  {
   "cell_type": "markdown",
   "metadata": {},
   "source": [
    "# Review from yesterday, i recommend using Ctrl+f and searching for @today"
   ]
  },
  {
   "cell_type": "code",
   "execution_count": 1,
   "metadata": {},
   "outputs": [],
   "source": [
    "%%capture\n",
    "import sys\n",
    "\n",
    "# If you're on Colab:\n",
    "if 'google.colab' in sys.modules:\n",
    "    DATA_PATH = 'https://raw.githubusercontent.com/LambdaSchool/DS-Unit-2-Applied-Modeling/master/data/'\n",
    "    !pip install category_encoders==2.*\n",
    "    !pip install eli5\n",
    "    !pip install pdpbox\n",
    "    !pip install shap\n",
    "\n",
    "# If you're working locally:\n",
    "else:\n",
    "    DATA_PATH = '../data/'"
   ]
  },
  {
   "cell_type": "code",
   "execution_count": 2,
   "metadata": {},
   "outputs": [
    {
     "output_type": "execute_result",
     "data": {
      "text/plain": "   BOROUGH NEIGHBORHOOD          BUILDING_CLASS_CATEGORY  \\\n0        1      TRIBECA  13 CONDOS - ELEVATOR APARTMENTS   \n1        1      TRIBECA  13 CONDOS - ELEVATOR APARTMENTS   \n2        1      TRIBECA  13 CONDOS - ELEVATOR APARTMENTS   \n3        1      TRIBECA  13 CONDOS - ELEVATOR APARTMENTS   \n4        1      TRIBECA  13 CONDOS - ELEVATOR APARTMENTS   \n\n   TAX_CLASS_AT_PRESENT  BLOCK   LOT  EASE-MENT BUILDING_CLASS_AT_PRESENT  \\\n0                     2    222  1013        NaN                        R4   \n1                     2     16  9022        NaN                        R4   \n2                     2     16  1441        NaN                        R4   \n3                     2     16  3624        NaN                        R4   \n4                     2     16  2610        NaN                        R4   \n\n                      ADDRESS APARTMENT_NUMBER  ...  COMMERCIAL_UNITS  \\\n0       181 HUDSON STREET, 6D               6D  ...               0.0   \n1  10 LITTLE WEST STREET, 19A              19A  ...               0.0   \n2   30 LITTLE WEST STREET, 7G               7G  ...               0.0   \n3         2 RIVER TERRACE, 4C               4C  ...               0.0   \n4       380 RECTOR PLACE, 10A              10A  ...               0.0   \n\n   TOTAL_UNITS  LAND_SQUARE_FEET  GROSS_SQUARE_FEET YEAR_BUILT  \\\n0          1.0             7,878             1840.0     1909.0   \n1          1.0                 0             1759.0        0.0   \n2          1.0                 0             1190.0     2005.0   \n3          1.0                 0             1088.0     2006.0   \n4          1.0                 0              873.0        0.0   \n\n   TAX_CLASS_AT_TIME_OF_SALE  BUILDING_CLASS_AT_TIME_OF_SALE  SALE_PRICE  \\\n0                          2                              R4     2800000   \n1                          2                              R4     2650000   \n2                          2                              R4     1005000   \n3                          2                              R4     1678000   \n4                          2                              R4     1380000   \n\n    SALE_DATE  LOG_PRICE  \n0  2019-01-03  14.845130  \n1  2019-01-07  14.790071  \n2  2019-01-09  13.820499  \n3  2019-01-10  14.333114  \n4  2019-01-11  14.137595  \n\n[5 rows x 22 columns]",
      "text/html": "<div>\n<style scoped>\n    .dataframe tbody tr th:only-of-type {\n        vertical-align: middle;\n    }\n\n    .dataframe tbody tr th {\n        vertical-align: top;\n    }\n\n    .dataframe thead th {\n        text-align: right;\n    }\n</style>\n<table border=\"1\" class=\"dataframe\">\n  <thead>\n    <tr style=\"text-align: right;\">\n      <th></th>\n      <th>BOROUGH</th>\n      <th>NEIGHBORHOOD</th>\n      <th>BUILDING_CLASS_CATEGORY</th>\n      <th>TAX_CLASS_AT_PRESENT</th>\n      <th>BLOCK</th>\n      <th>LOT</th>\n      <th>EASE-MENT</th>\n      <th>BUILDING_CLASS_AT_PRESENT</th>\n      <th>ADDRESS</th>\n      <th>APARTMENT_NUMBER</th>\n      <th>...</th>\n      <th>COMMERCIAL_UNITS</th>\n      <th>TOTAL_UNITS</th>\n      <th>LAND_SQUARE_FEET</th>\n      <th>GROSS_SQUARE_FEET</th>\n      <th>YEAR_BUILT</th>\n      <th>TAX_CLASS_AT_TIME_OF_SALE</th>\n      <th>BUILDING_CLASS_AT_TIME_OF_SALE</th>\n      <th>SALE_PRICE</th>\n      <th>SALE_DATE</th>\n      <th>LOG_PRICE</th>\n    </tr>\n  </thead>\n  <tbody>\n    <tr>\n      <th>0</th>\n      <td>1</td>\n      <td>TRIBECA</td>\n      <td>13 CONDOS - ELEVATOR APARTMENTS</td>\n      <td>2</td>\n      <td>222</td>\n      <td>1013</td>\n      <td>NaN</td>\n      <td>R4</td>\n      <td>181 HUDSON STREET, 6D</td>\n      <td>6D</td>\n      <td>...</td>\n      <td>0.0</td>\n      <td>1.0</td>\n      <td>7,878</td>\n      <td>1840.0</td>\n      <td>1909.0</td>\n      <td>2</td>\n      <td>R4</td>\n      <td>2800000</td>\n      <td>2019-01-03</td>\n      <td>14.845130</td>\n    </tr>\n    <tr>\n      <th>1</th>\n      <td>1</td>\n      <td>TRIBECA</td>\n      <td>13 CONDOS - ELEVATOR APARTMENTS</td>\n      <td>2</td>\n      <td>16</td>\n      <td>9022</td>\n      <td>NaN</td>\n      <td>R4</td>\n      <td>10 LITTLE WEST STREET, 19A</td>\n      <td>19A</td>\n      <td>...</td>\n      <td>0.0</td>\n      <td>1.0</td>\n      <td>0</td>\n      <td>1759.0</td>\n      <td>0.0</td>\n      <td>2</td>\n      <td>R4</td>\n      <td>2650000</td>\n      <td>2019-01-07</td>\n      <td>14.790071</td>\n    </tr>\n    <tr>\n      <th>2</th>\n      <td>1</td>\n      <td>TRIBECA</td>\n      <td>13 CONDOS - ELEVATOR APARTMENTS</td>\n      <td>2</td>\n      <td>16</td>\n      <td>1441</td>\n      <td>NaN</td>\n      <td>R4</td>\n      <td>30 LITTLE WEST STREET, 7G</td>\n      <td>7G</td>\n      <td>...</td>\n      <td>0.0</td>\n      <td>1.0</td>\n      <td>0</td>\n      <td>1190.0</td>\n      <td>2005.0</td>\n      <td>2</td>\n      <td>R4</td>\n      <td>1005000</td>\n      <td>2019-01-09</td>\n      <td>13.820499</td>\n    </tr>\n    <tr>\n      <th>3</th>\n      <td>1</td>\n      <td>TRIBECA</td>\n      <td>13 CONDOS - ELEVATOR APARTMENTS</td>\n      <td>2</td>\n      <td>16</td>\n      <td>3624</td>\n      <td>NaN</td>\n      <td>R4</td>\n      <td>2 RIVER TERRACE, 4C</td>\n      <td>4C</td>\n      <td>...</td>\n      <td>0.0</td>\n      <td>1.0</td>\n      <td>0</td>\n      <td>1088.0</td>\n      <td>2006.0</td>\n      <td>2</td>\n      <td>R4</td>\n      <td>1678000</td>\n      <td>2019-01-10</td>\n      <td>14.333114</td>\n    </tr>\n    <tr>\n      <th>4</th>\n      <td>1</td>\n      <td>TRIBECA</td>\n      <td>13 CONDOS - ELEVATOR APARTMENTS</td>\n      <td>2</td>\n      <td>16</td>\n      <td>2610</td>\n      <td>NaN</td>\n      <td>R4</td>\n      <td>380 RECTOR PLACE, 10A</td>\n      <td>10A</td>\n      <td>...</td>\n      <td>0.0</td>\n      <td>1.0</td>\n      <td>0</td>\n      <td>873.0</td>\n      <td>0.0</td>\n      <td>2</td>\n      <td>R4</td>\n      <td>1380000</td>\n      <td>2019-01-11</td>\n      <td>14.137595</td>\n    </tr>\n  </tbody>\n</table>\n<p>5 rows × 22 columns</p>\n</div>"
     },
     "metadata": {},
     "execution_count": 2
    }
   ],
   "source": [
    "import pandas as pd\n",
    "import numpy as np\n",
    "import matplotlib.pyplot as plt\n",
    "df=pd.read_csv('../data/tribeca.csv')\n",
    "df=df.drop('Unnamed: 0',axis=1)\n",
    "df['LOG_PRICE']=np.log1p(df.SALE_PRICE)\n",
    "df.head()"
   ]
  },
  {
   "cell_type": "code",
   "execution_count": 3,
   "metadata": {},
   "outputs": [
    {
     "output_type": "stream",
     "name": "stdout",
     "text": "(train shape)(val shape)(test shape)\n"
    },
    {
     "output_type": "execute_result",
     "data": {
      "text/plain": "((50, 22), (17, 22), (23, 22))"
     },
     "metadata": {},
     "execution_count": 3
    }
   ],
   "source": [
    "# Going to get a list of the categorical variables an the numeric valiables and take a look at a baseline\n",
    "# model\n",
    "target = 'LOG_PRICE'\n",
    "\n",
    "cat=df.select_dtypes(exclude='number')\n",
    "num=df.select_dtypes(exclude='object')\n",
    "\n",
    "# filter out unwanted features like dates\n",
    "ignore=['ZIP_CODE','SALE_DATE','SALE_PRICE','LOG_PRICE']\n",
    "cat=[x for x in cat if x not in ignore]\n",
    "num=[x for x in num if x not in ignore]\n",
    "features=cat+num\n",
    "\n",
    "# validation split\n",
    "from sklearn.model_selection import train_test_split\n",
    "train,test=train_test_split(df,random_state=42)\n",
    "train,val=train_test_split(train,random_state=42)\n",
    "\n",
    "# feature sets\n",
    "X_train=train[features]\n",
    "X_val=val[features]\n",
    "X_test=test[features]\n",
    "\n",
    "y_train=train[target]\n",
    "y_val=val[target]\n",
    "y_test=test[target]\n",
    "\n",
    "print(\"(train shape)(val shape)(test shape)\")\n",
    "train.shape,val.shape,test.shape"
   ]
  },
  {
   "cell_type": "code",
   "execution_count": 4,
   "metadata": {},
   "outputs": [
    {
     "output_type": "stream",
     "name": "stdout",
     "text": "training r^2 is: 0.797478474822824\nvalidation r^2 is: 0.8652032879751262\n"
    }
   ],
   "source": [
    "from sklearn.pipeline import make_pipeline\n",
    "import category_encoders as ce\n",
    "from sklearn.metrics import accuracy_score\n",
    "from sklearn.impute import SimpleImputer\n",
    "from sklearn.linear_model import LinearRegression\n",
    "\n",
    "pipeline=make_pipeline(\n",
    "    ce.OrdinalEncoder(),\n",
    "    SimpleImputer(strategy='median'),\n",
    "    LinearRegression(n_jobs=-1)\n",
    ")\n",
    "\n",
    "pipeline.fit(X_train,y_train)\n",
    "print(\"training r^2 is:\",pipeline.score(X_train,y_train))\n",
    "print(\"validation r^2 is:\",pipeline.score(X_val,y_val))"
   ]
  },
  {
   "cell_type": "code",
   "execution_count": 5,
   "metadata": {},
   "outputs": [
    {
     "output_type": "execute_result",
     "data": {
      "text/plain": "PermutationImportance(cv='prefit',\n                      estimator=LinearRegression(copy_X=True,\n                                                 fit_intercept=True, n_jobs=-1,\n                                                 normalize=False),\n                      n_iter=5, random_state=42, refit=True, scoring=None)"
     },
     "metadata": {},
     "execution_count": 5
    }
   ],
   "source": [
    "import eli5\n",
    "from eli5.sklearn import PermutationImportance\n",
    "# make a transformation pipeline\n",
    "autobot=make_pipeline(\n",
    "    ce.OrdinalEncoder(),\n",
    "    SimpleImputer(strategy='median')\n",
    ")\n",
    "# make the transformed feature matrixs\n",
    "X_train_encoded=autobot.fit_transform(X_train,y_train)\n",
    "X_val_encoded=autobot.transform(X_val)\n",
    "\n",
    "# fit the model with the transformed information\n",
    "model=LinearRegression(n_jobs=-1)\n",
    "model.fit(X_train_encoded,y_train)\n",
    "\n",
    "# make a permutation importance finder\n",
    "permuter=PermutationImportance(\n",
    "    model,\n",
    "    scoring=None,\n",
    "    n_iter=5,\n",
    "    random_state=42\n",
    ")\n",
    "# fit the premuter to the validation set\n",
    "permuter.fit(X_val_encoded,y_val)"
   ]
  },
  {
   "cell_type": "code",
   "execution_count": 6,
   "metadata": {},
   "outputs": [
    {
     "output_type": "execute_result",
     "data": {
      "text/plain": "Index(['LOT', 'NEIGHBORHOOD', 'COMMERCIAL_UNITS', 'RESIDENTIAL_UNITS',\n       'EASE-MENT', 'BOROUGH', 'TAX_CLASS_AT_PRESENT', 'APARTMENT_NUMBER',\n       'ADDRESS', 'BUILDING_CLASS_AT_PRESENT', 'BUILDING_CLASS_CATEGORY',\n       'BUILDING_CLASS_AT_TIME_OF_SALE', 'YEAR_BUILT', 'LAND_SQUARE_FEET',\n       'GROSS_SQUARE_FEET', 'BLOCK', 'TOTAL_UNITS'],\n      dtype='object')"
     },
     "metadata": {},
     "execution_count": 6
    }
   ],
   "source": [
    "feature_names = X_val.columns.tolist()\n",
    "# getting an error without poping an item of the list\n",
    "feature_names.pop()\n",
    "pd.Series(permuter.feature_importances_, feature_names).sort_values().index"
   ]
  },
  {
   "cell_type": "code",
   "execution_count": 7,
   "metadata": {},
   "outputs": [
    {
     "output_type": "execute_result",
     "data": {
      "text/plain": "<IPython.core.display.HTML object>",
      "text/html": "\n    <style>\n    table.eli5-weights tr:hover {\n        filter: brightness(85%);\n    }\n</style>\n\n\n\n    \n\n    \n\n    \n\n    \n\n    \n\n    \n\n\n    \n\n    \n\n    \n\n    \n\n    \n\n    \n\n\n    \n\n    \n\n    \n\n    \n\n    \n        <table class=\"eli5-weights eli5-feature-importances\" style=\"border-collapse: collapse; border: none; margin-top: 0em; table-layout: auto;\">\n    <thead>\n    <tr style=\"border: none;\">\n        <th style=\"padding: 0 1em 0 0.5em; text-align: right; border: none;\">Weight</th>\n        <th style=\"padding: 0 0.5em 0 0.5em; text-align: left; border: none;\">Feature</th>\n    </tr>\n    </thead>\n    <tbody>\n    \n        <tr style=\"background-color: hsl(120, 100.00%, 80.00%); border: none;\">\n            <td style=\"padding: 0 1em 0 0.5em; text-align: right; border: none;\">\n                1.0211\n                \n                    &plusmn; 0.7197\n                \n            </td>\n            <td style=\"padding: 0 0.5em 0 0.5em; text-align: left; border: none;\">\n                TOTAL_UNITS\n            </td>\n        </tr>\n    \n        <tr style=\"background-color: hsl(120, 100.00%, 98.28%); border: none;\">\n            <td style=\"padding: 0 1em 0 0.5em; text-align: right; border: none;\">\n                0.0307\n                \n                    &plusmn; 0.0173\n                \n            </td>\n            <td style=\"padding: 0 0.5em 0 0.5em; text-align: left; border: none;\">\n                BLOCK\n            </td>\n        </tr>\n    \n        <tr style=\"background-color: hsl(120, 100.00%, 99.00%); border: none;\">\n            <td style=\"padding: 0 1em 0 0.5em; text-align: right; border: none;\">\n                0.0142\n                \n                    &plusmn; 0.0200\n                \n            </td>\n            <td style=\"padding: 0 0.5em 0 0.5em; text-align: left; border: none;\">\n                GROSS_SQUARE_FEET\n            </td>\n        </tr>\n    \n        <tr style=\"background-color: hsl(120, 100.00%, 99.00%); border: none;\">\n            <td style=\"padding: 0 1em 0 0.5em; text-align: right; border: none;\">\n                0.0141\n                \n                    &plusmn; 0.0124\n                \n            </td>\n            <td style=\"padding: 0 0.5em 0 0.5em; text-align: left; border: none;\">\n                LAND_SQUARE_FEET\n            </td>\n        </tr>\n    \n        <tr style=\"background-color: hsl(120, 100.00%, 100.00%); border: none;\">\n            <td style=\"padding: 0 1em 0 0.5em; text-align: right; border: none;\">\n                0.0000\n                \n                    &plusmn; 0.0000\n                \n            </td>\n            <td style=\"padding: 0 0.5em 0 0.5em; text-align: left; border: none;\">\n                YEAR_BUILT\n            </td>\n        </tr>\n    \n        <tr style=\"background-color: hsl(120, 100.00%, 100.00%); border: none;\">\n            <td style=\"padding: 0 1em 0 0.5em; text-align: right; border: none;\">\n                0.0000\n                \n                    &plusmn; 0.0000\n                \n            </td>\n            <td style=\"padding: 0 0.5em 0 0.5em; text-align: left; border: none;\">\n                BUILDING_CLASS_AT_TIME_OF_SALE\n            </td>\n        </tr>\n    \n        <tr style=\"background-color: hsl(120, 100.00%, 100.00%); border: none;\">\n            <td style=\"padding: 0 1em 0 0.5em; text-align: right; border: none;\">\n                0.0000\n                \n                    &plusmn; 0.0000\n                \n            </td>\n            <td style=\"padding: 0 0.5em 0 0.5em; text-align: left; border: none;\">\n                BUILDING_CLASS_CATEGORY\n            </td>\n        </tr>\n    \n        <tr style=\"background-color: hsl(120, 100.00%, 100.00%); border: none;\">\n            <td style=\"padding: 0 1em 0 0.5em; text-align: right; border: none;\">\n                0.0000\n                \n                    &plusmn; 0.0000\n                \n            </td>\n            <td style=\"padding: 0 0.5em 0 0.5em; text-align: left; border: none;\">\n                BUILDING_CLASS_AT_PRESENT\n            </td>\n        </tr>\n    \n        <tr style=\"background-color: hsl(120, 100.00%, 100.00%); border: none;\">\n            <td style=\"padding: 0 1em 0 0.5em; text-align: right; border: none;\">\n                0.0000\n                \n                    &plusmn; 0.0000\n                \n            </td>\n            <td style=\"padding: 0 0.5em 0 0.5em; text-align: left; border: none;\">\n                ADDRESS\n            </td>\n        </tr>\n    \n        <tr style=\"background-color: hsl(120, 100.00%, 100.00%); border: none;\">\n            <td style=\"padding: 0 1em 0 0.5em; text-align: right; border: none;\">\n                0.0000\n                \n                    &plusmn; 0.0000\n                \n            </td>\n            <td style=\"padding: 0 0.5em 0 0.5em; text-align: left; border: none;\">\n                APARTMENT_NUMBER\n            </td>\n        </tr>\n    \n        <tr style=\"background-color: hsl(120, 100.00%, 100.00%); border: none;\">\n            <td style=\"padding: 0 1em 0 0.5em; text-align: right; border: none;\">\n                0.0000\n                \n                    &plusmn; 0.0000\n                \n            </td>\n            <td style=\"padding: 0 0.5em 0 0.5em; text-align: left; border: none;\">\n                TAX_CLASS_AT_PRESENT\n            </td>\n        </tr>\n    \n        <tr style=\"background-color: hsl(120, 100.00%, 100.00%); border: none;\">\n            <td style=\"padding: 0 1em 0 0.5em; text-align: right; border: none;\">\n                0.0000\n                \n                    &plusmn; 0.0000\n                \n            </td>\n            <td style=\"padding: 0 0.5em 0 0.5em; text-align: left; border: none;\">\n                BOROUGH\n            </td>\n        </tr>\n    \n        <tr style=\"background-color: hsl(120, 100.00%, 100.00%); border: none;\">\n            <td style=\"padding: 0 1em 0 0.5em; text-align: right; border: none;\">\n                0.0000\n                \n                    &plusmn; 0.0000\n                \n            </td>\n            <td style=\"padding: 0 0.5em 0 0.5em; text-align: left; border: none;\">\n                EASE-MENT\n            </td>\n        </tr>\n    \n        <tr style=\"background-color: hsl(120, 100.00%, 100.00%); border: none;\">\n            <td style=\"padding: 0 1em 0 0.5em; text-align: right; border: none;\">\n                0.0000\n                \n                    &plusmn; 0.0000\n                \n            </td>\n            <td style=\"padding: 0 0.5em 0 0.5em; text-align: left; border: none;\">\n                RESIDENTIAL_UNITS\n            </td>\n        </tr>\n    \n        <tr style=\"background-color: hsl(120, 100.00%, 100.00%); border: none;\">\n            <td style=\"padding: 0 1em 0 0.5em; text-align: right; border: none;\">\n                0.0000\n                \n                    &plusmn; 0.0000\n                \n            </td>\n            <td style=\"padding: 0 0.5em 0 0.5em; text-align: left; border: none;\">\n                COMMERCIAL_UNITS\n            </td>\n        </tr>\n    \n        <tr style=\"background-color: hsl(120, 100.00%, 100.00%); border: none;\">\n            <td style=\"padding: 0 1em 0 0.5em; text-align: right; border: none;\">\n                0.0000\n                \n                    &plusmn; 0.0000\n                \n            </td>\n            <td style=\"padding: 0 0.5em 0 0.5em; text-align: left; border: none;\">\n                NEIGHBORHOOD\n            </td>\n        </tr>\n    \n        <tr style=\"background-color: hsl(0, 100.00%, 99.37%); border: none;\">\n            <td style=\"padding: 0 1em 0 0.5em; text-align: right; border: none;\">\n                -0.0072\n                \n                    &plusmn; 0.0151\n                \n            </td>\n            <td style=\"padding: 0 0.5em 0 0.5em; text-align: left; border: none;\">\n                LOT\n            </td>\n        </tr>\n    \n    \n    </tbody>\n</table>\n    \n\n    \n\n\n    \n\n    \n\n    \n\n    \n\n    \n\n    \n\n\n\n"
     },
     "metadata": {},
     "execution_count": 7
    }
   ],
   "source": [
    "eli5.show_weights(\n",
    "    permuter,\n",
    "    top=None,\n",
    "    feature_names=feature_names\n",
    ")"
   ]
  },
  {
   "cell_type": "code",
   "execution_count": 8,
   "metadata": {},
   "outputs": [
    {
     "output_type": "stream",
     "name": "stdout",
     "text": "(train shape)(val shape)(test shape)\n"
    },
    {
     "output_type": "execute_result",
     "data": {
      "text/plain": "((50, 22), (17, 22), (23, 22))"
     },
     "metadata": {},
     "execution_count": 8
    }
   ],
   "source": [
    "# Going to get a list of the categorical variables an the numeric valiables and take a look at a baseline\n",
    "# model\n",
    "target = 'LOG_PRICE'\n",
    "\n",
    "cat=df.select_dtypes(exclude='number')\n",
    "num=df.select_dtypes(exclude='object')\n",
    "\n",
    "# filter out unwanted features like dates\n",
    "ignore=['ZIP_CODE','SALE_DATE','SALE_PRICE','LOG_PRICE','LOT', 'NEIGHBORHOOD', 'COMMERCIAL_UNITS', 'RESIDENTIAL_UNITS',\n",
    "       'EASE-MENT', 'BOROUGH', 'TAX_CLASS_AT_PRESENT', 'APARTMENT_NUMBER',\n",
    "       'ADDRESS', 'BUILDING_CLASS_AT_PRESENT', 'BUILDING_CLASS_CATEGORY',\n",
    "       'BUILDING_CLASS_AT_TIME_OF_SALE']\n",
    "cat=[x for x in cat if x not in ignore]\n",
    "num=[x for x in num if x not in ignore]\n",
    "features=cat+num\n",
    "\n",
    "# validation split\n",
    "from sklearn.model_selection import train_test_split\n",
    "train,test=train_test_split(df,random_state=42)\n",
    "train,val=train_test_split(train,random_state=42)\n",
    "\n",
    "# feature setsa\n",
    "X_train=train[features]\n",
    "X_val=val[features]\n",
    "X_test=test[features]\n",
    "\n",
    "y_train=train[target]\n",
    "y_val=val[target]\n",
    "y_test=test[target]\n",
    "\n",
    "print(\"(train shape)(val shape)(test shape)\")\n",
    "train.shape,val.shape,test.shape"
   ]
  },
  {
   "cell_type": "code",
   "execution_count": 11,
   "metadata": {},
   "outputs": [],
   "source": [
    "from xgboost import XGBRegressor\n",
    ""
   ]
  },
  {
   "cell_type": "markdown",
   "metadata": {},
   "source": [
    "# end Review from yesterday @today"
   ]
  },
  {
   "cell_type": "code",
   "execution_count": 18,
   "metadata": {},
   "outputs": [
    {
     "output_type": "execute_result",
     "data": {
      "text/plain": "Pipeline(memory=None,\n         steps=[('ordinalencoder',\n                 OrdinalEncoder(cols=['LAND_SQUARE_FEET'], drop_invariant=False,\n                                handle_missing='value', handle_unknown='value',\n                                mapping=[{'col': 'LAND_SQUARE_FEET',\n                                          'data_type': dtype('O'),\n                                          'mapping': 35,127    1\n0         2\n9,900     3\n11,213    4\n19,282    5\n19,936    6\n26,566    7\nNaN      -2\ndtype: int64}],\n                                return_df=True, verbose=0)),\n                ('simpleimputer',\n                 SimpleImputer(add_indicator=False, copy=True, fill_value=None,\n                               missing_values=nan, strategy='median',\n                               verbose=0))],\n         verbose=False)"
     },
     "metadata": {},
     "execution_count": 18
    }
   ],
   "source": []
  },
  {
   "cell_type": "code",
   "execution_count": 31,
   "metadata": {
    "tags": [
     "outputPrepend",
     "outputPrepend",
     "outputPrepend",
     "outputPrepend",
     "outputPrepend",
     "outputPrepend",
     "outputPrepend",
     "outputPrepend",
     "outputPrepend",
     "outputPrepend",
     "outputPrepend",
     "outputPrepend",
     "outputPrepend",
     "outputPrepend",
     "outputPrepend",
     "outputPrepend",
     "outputPrepend",
     "outputPrepend",
     "outputPrepend",
     "outputPrepend",
     "outputPrepend",
     "outputPrepend",
     "outputPrepend",
     "outputPrepend",
     "outputPrepend",
     "outputPrepend",
     "outputPrepend",
     "outputPrepend",
     "outputPrepend",
     "outputPrepend",
     "outputPrepend",
     "outputPrepend",
     "outputPrepend",
     "outputPrepend",
     "outputPrepend",
     "outputPrepend",
     "outputPrepend",
     "outputPrepend",
     "outputPrepend",
     "outputPrepend",
     "outputPrepend",
     "outputPrepend",
     "outputPrepend",
     "outputPrepend",
     "outputPrepend",
     "outputPrepend",
     "outputPrepend",
     "outputPrepend",
     "outputPrepend",
     "outputPrepend",
     "outputPrepend",
     "outputPrepend",
     "outputPrepend",
     "outputPrepend",
     "outputPrepend",
     "outputPrepend",
     "outputPrepend",
     "outputPrepend",
     "outputPrepend",
     "outputPrepend",
     "outputPrepend",
     "outputPrepend",
     "outputPrepend",
     "outputPrepend",
     "outputPrepend",
     "outputPrepend",
     "outputPrepend",
     "outputPrepend",
     "outputPrepend",
     "outputPrepend",
     "outputPrepend",
     "outputPrepend",
     "outputPrepend",
     "outputPrepend",
     "outputPrepend",
     "outputPrepend",
     "outputPrepend",
     "outputPrepend",
     "outputPrepend",
     "outputPrepend",
     "outputPrepend",
     "outputPrepend",
     "outputPrepend",
     "outputPrepend",
     "outputPrepend",
     "outputPrepend",
     "outputPrepend",
     "outputPrepend",
     "outputPrepend",
     "outputPrepend",
     "outputPrepend",
     "outputPrepend",
     "outputPrepend",
     "outputPrepend",
     "outputPrepend",
     "outputPrepend",
     "outputPrepend",
     "outputPrepend",
     "outputPrepend",
     "outputPrepend",
     "outputPrepend",
     "outputPrepend",
     "outputPrepend",
     "outputPrepend",
     "outputPrepend",
     "outputPrepend",
     "outputPrepend",
     "outputPrepend",
     "outputPrepend",
     "outputPrepend",
     "outputPrepend",
     "outputPrepend",
     "outputPrepend",
     "outputPrepend",
     "outputPrepend",
     "outputPrepend",
     "outputPrepend",
     "outputPrepend",
     "outputPrepend",
     "outputPrepend",
     "outputPrepend",
     "outputPrepend",
     "outputPrepend",
     "outputPrepend",
     "outputPrepend",
     "outputPrepend",
     "outputPrepend",
     "outputPrepend",
     "outputPrepend",
     "outputPrepend",
     "outputPrepend",
     "outputPrepend",
     "outputPrepend",
     "outputPrepend",
     "outputPrepend",
     "outputPrepend",
     "outputPrepend",
     "outputPrepend",
     "outputPrepend",
     "outputPrepend",
     "outputPrepend",
     "outputPrepend",
     "outputPrepend",
     "outputPrepend",
     "outputPrepend",
     "outputPrepend",
     "outputPrepend",
     "outputPrepend",
     "outputPrepend",
     "outputPrepend",
     "outputPrepend",
     "outputPrepend",
     "outputPrepend",
     "outputPrepend",
     "outputPrepend",
     "outputPrepend",
     "outputPrepend",
     "outputPrepend",
     "outputPrepend",
     "outputPrepend",
     "outputPrepend",
     "outputPrepend",
     "outputPrepend",
     "outputPrepend",
     "outputPrepend",
     "outputPrepend",
     "outputPrepend",
     "outputPrepend",
     "outputPrepend",
     "outputPrepend",
     "outputPrepend",
     "outputPrepend",
     "outputPrepend",
     "outputPrepend",
     "outputPrepend",
     "outputPrepend",
     "outputPrepend",
     "outputPrepend",
     "outputPrepend",
     "outputPrepend",
     "outputPrepend",
     "outputPrepend",
     "outputPrepend",
     "outputPrepend"
    ]
   },
   "outputs": [
    {
     "output_type": "stream",
     "name": "stdout",
     "text": "[18:41:20] WARNING: /home/conda/feedstock_root/build_artifacts/xgboost_1572314959925/work/src/objective/regression_obj.cu:152: reg:linear is now deprecated in favor of reg:squarederror.\n"
    }
   ],
   "source": [
    "import pdb;\n",
    "feature='TOTAL_UNITS'\n",
    "from pdpbox.pdp import pdp_isolate,pdp_plot\n",
    "from xgboost import XGBRFRegressor\n",
    "\n",
    "pipeline=make_pipeline(\n",
    "    ce.OrdinalEncoder(),\n",
    "    SimpleImputer(strategy='median'),\n",
    "    XGBRegressor(n_jobs=-1)\n",
    ")\n",
    "pipeline.fit(X_train,y_train)\n",
    "model=pipeline.named_steps['XGBRegressor'.lower()]\n",
    "\n",
    "# make a transformation pipeline\n",
    "autobot=make_pipeline(\n",
    "    ce.OrdinalEncoder(),\n",
    "    SimpleImputer(strategy='median') # change this as needed\n",
    ")\n",
    "autobot.fit(X_train,y_train)\n",
    "\n",
    "X_train_encoded=autobot.transform(X_train)\n",
    "X_train_encoded_df=pd.DataFrame(data=X_train_encoded,columns=X_train.columns,index=X_train.index)\n",
    "X_val_encoded=autobot.transform(X_val)"
   ]
  },
  {
   "cell_type": "code",
   "execution_count": 38,
   "metadata": {},
   "outputs": [
    {
     "output_type": "error",
     "ename": "ValueError",
     "evalue": "feature_names mismatch: ['f0', 'f1', 'f2', 'f3', 'f4', 'f5'] ['LAND_SQUARE_FEET', 'BLOCK', 'TOTAL_UNITS', 'GROSS_SQUARE_FEET', 'YEAR_BUILT', 'TAX_CLASS_AT_TIME_OF_SALE']\nexpected f3, f0, f5, f1, f2, f4 in input data\ntraining data did not have the following fields: GROSS_SQUARE_FEET, TAX_CLASS_AT_TIME_OF_SALE, LAND_SQUARE_FEET, YEAR_BUILT, BLOCK, TOTAL_UNITS",
     "traceback": [
      "\u001b[0;31m---------------------------------------------------------------------------\u001b[0m",
      "\u001b[0;31mValueError\u001b[0m                                Traceback (most recent call last)",
      "\u001b[0;32m<ipython-input-38-e58762e5fd5e>\u001b[0m in \u001b[0;36m<module>\u001b[0;34m\u001b[0m\n\u001b[1;32m      4\u001b[0m     \u001b[0mdataset\u001b[0m\u001b[0;34m=\u001b[0m\u001b[0mX_train_encoded\u001b[0m\u001b[0;34m,\u001b[0m\u001b[0;34m\u001b[0m\u001b[0;34m\u001b[0m\u001b[0m\n\u001b[1;32m      5\u001b[0m     \u001b[0mmodel_features\u001b[0m\u001b[0;34m=\u001b[0m\u001b[0mX_train\u001b[0m\u001b[0;34m.\u001b[0m\u001b[0mcolumns\u001b[0m\u001b[0;34m.\u001b[0m\u001b[0mto_list\u001b[0m\u001b[0;34m(\u001b[0m\u001b[0;34m)\u001b[0m\u001b[0;34m,\u001b[0m\u001b[0;34m\u001b[0m\u001b[0;34m\u001b[0m\u001b[0m\n\u001b[0;32m----> 6\u001b[0;31m     \u001b[0mfeature\u001b[0m\u001b[0;34m=\u001b[0m\u001b[0mfeature\u001b[0m\u001b[0;34m\u001b[0m\u001b[0;34m\u001b[0m\u001b[0m\n\u001b[0m\u001b[1;32m      7\u001b[0m )\n",
      "\u001b[0;32m~/opt/conda/envs/ds-base/lib/python3.7/site-packages/pdpbox/pdp.py\u001b[0m in \u001b[0;36mpdp_isolate\u001b[0;34m(model, dataset, model_features, feature, num_grid_points, grid_type, percentile_range, grid_range, cust_grid_points, memory_limit, n_jobs, predict_kwds, data_transformer)\u001b[0m\n\u001b[1;32m    157\u001b[0m             \u001b[0mfeature_grid\u001b[0m\u001b[0;34m,\u001b[0m \u001b[0mdata\u001b[0m\u001b[0;34m=\u001b[0m\u001b[0m_dataset\u001b[0m\u001b[0;34m,\u001b[0m \u001b[0mmodel\u001b[0m\u001b[0;34m=\u001b[0m\u001b[0mmodel\u001b[0m\u001b[0;34m,\u001b[0m \u001b[0mmodel_features\u001b[0m\u001b[0;34m=\u001b[0m\u001b[0mmodel_features\u001b[0m\u001b[0;34m,\u001b[0m \u001b[0mn_classes\u001b[0m\u001b[0;34m=\u001b[0m\u001b[0mn_classes\u001b[0m\u001b[0;34m,\u001b[0m\u001b[0;34m\u001b[0m\u001b[0;34m\u001b[0m\u001b[0m\n\u001b[1;32m    158\u001b[0m             feature=feature, feature_type=feature_type, predict_kwds=predict_kwds, data_transformer=data_transformer)\n\u001b[0;32m--> 159\u001b[0;31m         for feature_grid in feature_grids)\n\u001b[0m\u001b[1;32m    160\u001b[0m \u001b[0;34m\u001b[0m\u001b[0m\n\u001b[1;32m    161\u001b[0m     \u001b[0;32mif\u001b[0m \u001b[0mn_classes\u001b[0m \u001b[0;34m>\u001b[0m \u001b[0;36m2\u001b[0m\u001b[0;34m:\u001b[0m\u001b[0;34m\u001b[0m\u001b[0;34m\u001b[0m\u001b[0m\n",
      "\u001b[0;32m~/opt/conda/envs/ds-base/lib/python3.7/site-packages/joblib/parallel.py\u001b[0m in \u001b[0;36m__call__\u001b[0;34m(self, iterable)\u001b[0m\n\u001b[1;32m   1002\u001b[0m             \u001b[0;31m# remaining jobs.\u001b[0m\u001b[0;34m\u001b[0m\u001b[0;34m\u001b[0m\u001b[0;34m\u001b[0m\u001b[0m\n\u001b[1;32m   1003\u001b[0m             \u001b[0mself\u001b[0m\u001b[0;34m.\u001b[0m\u001b[0m_iterating\u001b[0m \u001b[0;34m=\u001b[0m \u001b[0;32mFalse\u001b[0m\u001b[0;34m\u001b[0m\u001b[0;34m\u001b[0m\u001b[0m\n\u001b[0;32m-> 1004\u001b[0;31m             \u001b[0;32mif\u001b[0m \u001b[0mself\u001b[0m\u001b[0;34m.\u001b[0m\u001b[0mdispatch_one_batch\u001b[0m\u001b[0;34m(\u001b[0m\u001b[0miterator\u001b[0m\u001b[0;34m)\u001b[0m\u001b[0;34m:\u001b[0m\u001b[0;34m\u001b[0m\u001b[0;34m\u001b[0m\u001b[0m\n\u001b[0m\u001b[1;32m   1005\u001b[0m                 \u001b[0mself\u001b[0m\u001b[0;34m.\u001b[0m\u001b[0m_iterating\u001b[0m \u001b[0;34m=\u001b[0m \u001b[0mself\u001b[0m\u001b[0;34m.\u001b[0m\u001b[0m_original_iterator\u001b[0m \u001b[0;32mis\u001b[0m \u001b[0;32mnot\u001b[0m \u001b[0;32mNone\u001b[0m\u001b[0;34m\u001b[0m\u001b[0;34m\u001b[0m\u001b[0m\n\u001b[1;32m   1006\u001b[0m \u001b[0;34m\u001b[0m\u001b[0m\n",
      "\u001b[0;32m~/opt/conda/envs/ds-base/lib/python3.7/site-packages/joblib/parallel.py\u001b[0m in \u001b[0;36mdispatch_one_batch\u001b[0;34m(self, iterator)\u001b[0m\n\u001b[1;32m    833\u001b[0m                 \u001b[0;32mreturn\u001b[0m \u001b[0;32mFalse\u001b[0m\u001b[0;34m\u001b[0m\u001b[0;34m\u001b[0m\u001b[0m\n\u001b[1;32m    834\u001b[0m             \u001b[0;32melse\u001b[0m\u001b[0;34m:\u001b[0m\u001b[0;34m\u001b[0m\u001b[0;34m\u001b[0m\u001b[0m\n\u001b[0;32m--> 835\u001b[0;31m                 \u001b[0mself\u001b[0m\u001b[0;34m.\u001b[0m\u001b[0m_dispatch\u001b[0m\u001b[0;34m(\u001b[0m\u001b[0mtasks\u001b[0m\u001b[0;34m)\u001b[0m\u001b[0;34m\u001b[0m\u001b[0;34m\u001b[0m\u001b[0m\n\u001b[0m\u001b[1;32m    836\u001b[0m                 \u001b[0;32mreturn\u001b[0m \u001b[0;32mTrue\u001b[0m\u001b[0;34m\u001b[0m\u001b[0;34m\u001b[0m\u001b[0m\n\u001b[1;32m    837\u001b[0m \u001b[0;34m\u001b[0m\u001b[0m\n",
      "\u001b[0;32m~/opt/conda/envs/ds-base/lib/python3.7/site-packages/joblib/parallel.py\u001b[0m in \u001b[0;36m_dispatch\u001b[0;34m(self, batch)\u001b[0m\n\u001b[1;32m    752\u001b[0m         \u001b[0;32mwith\u001b[0m \u001b[0mself\u001b[0m\u001b[0;34m.\u001b[0m\u001b[0m_lock\u001b[0m\u001b[0;34m:\u001b[0m\u001b[0;34m\u001b[0m\u001b[0;34m\u001b[0m\u001b[0m\n\u001b[1;32m    753\u001b[0m             \u001b[0mjob_idx\u001b[0m \u001b[0;34m=\u001b[0m \u001b[0mlen\u001b[0m\u001b[0;34m(\u001b[0m\u001b[0mself\u001b[0m\u001b[0;34m.\u001b[0m\u001b[0m_jobs\u001b[0m\u001b[0;34m)\u001b[0m\u001b[0;34m\u001b[0m\u001b[0;34m\u001b[0m\u001b[0m\n\u001b[0;32m--> 754\u001b[0;31m             \u001b[0mjob\u001b[0m \u001b[0;34m=\u001b[0m \u001b[0mself\u001b[0m\u001b[0;34m.\u001b[0m\u001b[0m_backend\u001b[0m\u001b[0;34m.\u001b[0m\u001b[0mapply_async\u001b[0m\u001b[0;34m(\u001b[0m\u001b[0mbatch\u001b[0m\u001b[0;34m,\u001b[0m \u001b[0mcallback\u001b[0m\u001b[0;34m=\u001b[0m\u001b[0mcb\u001b[0m\u001b[0;34m)\u001b[0m\u001b[0;34m\u001b[0m\u001b[0;34m\u001b[0m\u001b[0m\n\u001b[0m\u001b[1;32m    755\u001b[0m             \u001b[0;31m# A job can complete so quickly than its callback is\u001b[0m\u001b[0;34m\u001b[0m\u001b[0;34m\u001b[0m\u001b[0;34m\u001b[0m\u001b[0m\n\u001b[1;32m    756\u001b[0m             \u001b[0;31m# called before we get here, causing self._jobs to\u001b[0m\u001b[0;34m\u001b[0m\u001b[0;34m\u001b[0m\u001b[0;34m\u001b[0m\u001b[0m\n",
      "\u001b[0;32m~/opt/conda/envs/ds-base/lib/python3.7/site-packages/joblib/_parallel_backends.py\u001b[0m in \u001b[0;36mapply_async\u001b[0;34m(self, func, callback)\u001b[0m\n\u001b[1;32m    207\u001b[0m     \u001b[0;32mdef\u001b[0m \u001b[0mapply_async\u001b[0m\u001b[0;34m(\u001b[0m\u001b[0mself\u001b[0m\u001b[0;34m,\u001b[0m \u001b[0mfunc\u001b[0m\u001b[0;34m,\u001b[0m \u001b[0mcallback\u001b[0m\u001b[0;34m=\u001b[0m\u001b[0;32mNone\u001b[0m\u001b[0;34m)\u001b[0m\u001b[0;34m:\u001b[0m\u001b[0;34m\u001b[0m\u001b[0;34m\u001b[0m\u001b[0m\n\u001b[1;32m    208\u001b[0m         \u001b[0;34m\"\"\"Schedule a func to be run\"\"\"\u001b[0m\u001b[0;34m\u001b[0m\u001b[0;34m\u001b[0m\u001b[0m\n\u001b[0;32m--> 209\u001b[0;31m         \u001b[0mresult\u001b[0m \u001b[0;34m=\u001b[0m \u001b[0mImmediateResult\u001b[0m\u001b[0;34m(\u001b[0m\u001b[0mfunc\u001b[0m\u001b[0;34m)\u001b[0m\u001b[0;34m\u001b[0m\u001b[0;34m\u001b[0m\u001b[0m\n\u001b[0m\u001b[1;32m    210\u001b[0m         \u001b[0;32mif\u001b[0m \u001b[0mcallback\u001b[0m\u001b[0;34m:\u001b[0m\u001b[0;34m\u001b[0m\u001b[0;34m\u001b[0m\u001b[0m\n\u001b[1;32m    211\u001b[0m             \u001b[0mcallback\u001b[0m\u001b[0;34m(\u001b[0m\u001b[0mresult\u001b[0m\u001b[0;34m)\u001b[0m\u001b[0;34m\u001b[0m\u001b[0;34m\u001b[0m\u001b[0m\n",
      "\u001b[0;32m~/opt/conda/envs/ds-base/lib/python3.7/site-packages/joblib/_parallel_backends.py\u001b[0m in \u001b[0;36m__init__\u001b[0;34m(self, batch)\u001b[0m\n\u001b[1;32m    588\u001b[0m         \u001b[0;31m# Don't delay the application, to avoid keeping the input\u001b[0m\u001b[0;34m\u001b[0m\u001b[0;34m\u001b[0m\u001b[0;34m\u001b[0m\u001b[0m\n\u001b[1;32m    589\u001b[0m         \u001b[0;31m# arguments in memory\u001b[0m\u001b[0;34m\u001b[0m\u001b[0;34m\u001b[0m\u001b[0;34m\u001b[0m\u001b[0m\n\u001b[0;32m--> 590\u001b[0;31m         \u001b[0mself\u001b[0m\u001b[0;34m.\u001b[0m\u001b[0mresults\u001b[0m \u001b[0;34m=\u001b[0m \u001b[0mbatch\u001b[0m\u001b[0;34m(\u001b[0m\u001b[0;34m)\u001b[0m\u001b[0;34m\u001b[0m\u001b[0;34m\u001b[0m\u001b[0m\n\u001b[0m\u001b[1;32m    591\u001b[0m \u001b[0;34m\u001b[0m\u001b[0m\n\u001b[1;32m    592\u001b[0m     \u001b[0;32mdef\u001b[0m \u001b[0mget\u001b[0m\u001b[0;34m(\u001b[0m\u001b[0mself\u001b[0m\u001b[0;34m)\u001b[0m\u001b[0;34m:\u001b[0m\u001b[0;34m\u001b[0m\u001b[0;34m\u001b[0m\u001b[0m\n",
      "\u001b[0;32m~/opt/conda/envs/ds-base/lib/python3.7/site-packages/joblib/parallel.py\u001b[0m in \u001b[0;36m__call__\u001b[0;34m(self)\u001b[0m\n\u001b[1;32m    254\u001b[0m         \u001b[0;32mwith\u001b[0m \u001b[0mparallel_backend\u001b[0m\u001b[0;34m(\u001b[0m\u001b[0mself\u001b[0m\u001b[0;34m.\u001b[0m\u001b[0m_backend\u001b[0m\u001b[0;34m,\u001b[0m \u001b[0mn_jobs\u001b[0m\u001b[0;34m=\u001b[0m\u001b[0mself\u001b[0m\u001b[0;34m.\u001b[0m\u001b[0m_n_jobs\u001b[0m\u001b[0;34m)\u001b[0m\u001b[0;34m:\u001b[0m\u001b[0;34m\u001b[0m\u001b[0;34m\u001b[0m\u001b[0m\n\u001b[1;32m    255\u001b[0m             return [func(*args, **kwargs)\n\u001b[0;32m--> 256\u001b[0;31m                     for func, args, kwargs in self.items]\n\u001b[0m\u001b[1;32m    257\u001b[0m \u001b[0;34m\u001b[0m\u001b[0m\n\u001b[1;32m    258\u001b[0m     \u001b[0;32mdef\u001b[0m \u001b[0m__len__\u001b[0m\u001b[0;34m(\u001b[0m\u001b[0mself\u001b[0m\u001b[0;34m)\u001b[0m\u001b[0;34m:\u001b[0m\u001b[0;34m\u001b[0m\u001b[0;34m\u001b[0m\u001b[0m\n",
      "\u001b[0;32m~/opt/conda/envs/ds-base/lib/python3.7/site-packages/joblib/parallel.py\u001b[0m in \u001b[0;36m<listcomp>\u001b[0;34m(.0)\u001b[0m\n\u001b[1;32m    254\u001b[0m         \u001b[0;32mwith\u001b[0m \u001b[0mparallel_backend\u001b[0m\u001b[0;34m(\u001b[0m\u001b[0mself\u001b[0m\u001b[0;34m.\u001b[0m\u001b[0m_backend\u001b[0m\u001b[0;34m,\u001b[0m \u001b[0mn_jobs\u001b[0m\u001b[0;34m=\u001b[0m\u001b[0mself\u001b[0m\u001b[0;34m.\u001b[0m\u001b[0m_n_jobs\u001b[0m\u001b[0;34m)\u001b[0m\u001b[0;34m:\u001b[0m\u001b[0;34m\u001b[0m\u001b[0;34m\u001b[0m\u001b[0m\n\u001b[1;32m    255\u001b[0m             return [func(*args, **kwargs)\n\u001b[0;32m--> 256\u001b[0;31m                     for func, args, kwargs in self.items]\n\u001b[0m\u001b[1;32m    257\u001b[0m \u001b[0;34m\u001b[0m\u001b[0m\n\u001b[1;32m    258\u001b[0m     \u001b[0;32mdef\u001b[0m \u001b[0m__len__\u001b[0m\u001b[0;34m(\u001b[0m\u001b[0mself\u001b[0m\u001b[0;34m)\u001b[0m\u001b[0;34m:\u001b[0m\u001b[0;34m\u001b[0m\u001b[0;34m\u001b[0m\u001b[0m\n",
      "\u001b[0;32m~/opt/conda/envs/ds-base/lib/python3.7/site-packages/pdpbox/pdp_calc_utils.py\u001b[0m in \u001b[0;36m_calc_ice_lines\u001b[0;34m(feature_grid, data, model, model_features, n_classes, feature, feature_type, predict_kwds, data_transformer, unit_test)\u001b[0m\n\u001b[1;32m     42\u001b[0m \u001b[0;34m\u001b[0m\u001b[0m\n\u001b[1;32m     43\u001b[0m     \u001b[0;31m# get predictions for this chunk\u001b[0m\u001b[0;34m\u001b[0m\u001b[0;34m\u001b[0m\u001b[0;34m\u001b[0m\u001b[0m\n\u001b[0;32m---> 44\u001b[0;31m     \u001b[0mpreds\u001b[0m \u001b[0;34m=\u001b[0m \u001b[0mpredict\u001b[0m\u001b[0;34m(\u001b[0m\u001b[0m_data\u001b[0m\u001b[0;34m[\u001b[0m\u001b[0mmodel_features\u001b[0m\u001b[0;34m]\u001b[0m\u001b[0;34m,\u001b[0m \u001b[0;34m**\u001b[0m\u001b[0mpredict_kwds\u001b[0m\u001b[0;34m)\u001b[0m\u001b[0;34m\u001b[0m\u001b[0;34m\u001b[0m\u001b[0m\n\u001b[0m\u001b[1;32m     45\u001b[0m \u001b[0;34m\u001b[0m\u001b[0m\n\u001b[1;32m     46\u001b[0m     \u001b[0;32mif\u001b[0m \u001b[0mn_classes\u001b[0m \u001b[0;34m==\u001b[0m \u001b[0;36m0\u001b[0m\u001b[0;34m:\u001b[0m\u001b[0;34m\u001b[0m\u001b[0;34m\u001b[0m\u001b[0m\n",
      "\u001b[0;32m~/opt/conda/envs/ds-base/lib/python3.7/site-packages/xgboost/sklearn.py\u001b[0m in \u001b[0;36mpredict\u001b[0;34m(self, data, output_margin, ntree_limit, validate_features)\u001b[0m\n\u001b[1;32m    454\u001b[0m                                           \u001b[0moutput_margin\u001b[0m\u001b[0;34m=\u001b[0m\u001b[0moutput_margin\u001b[0m\u001b[0;34m,\u001b[0m\u001b[0;34m\u001b[0m\u001b[0;34m\u001b[0m\u001b[0m\n\u001b[1;32m    455\u001b[0m                                           \u001b[0mntree_limit\u001b[0m\u001b[0;34m=\u001b[0m\u001b[0mntree_limit\u001b[0m\u001b[0;34m,\u001b[0m\u001b[0;34m\u001b[0m\u001b[0;34m\u001b[0m\u001b[0m\n\u001b[0;32m--> 456\u001b[0;31m                                           validate_features=validate_features)\n\u001b[0m\u001b[1;32m    457\u001b[0m \u001b[0;34m\u001b[0m\u001b[0m\n\u001b[1;32m    458\u001b[0m     \u001b[0;32mdef\u001b[0m \u001b[0mapply\u001b[0m\u001b[0;34m(\u001b[0m\u001b[0mself\u001b[0m\u001b[0;34m,\u001b[0m \u001b[0mX\u001b[0m\u001b[0;34m,\u001b[0m \u001b[0mntree_limit\u001b[0m\u001b[0;34m=\u001b[0m\u001b[0;36m0\u001b[0m\u001b[0;34m)\u001b[0m\u001b[0;34m:\u001b[0m\u001b[0;34m\u001b[0m\u001b[0;34m\u001b[0m\u001b[0m\n",
      "\u001b[0;32m~/opt/conda/envs/ds-base/lib/python3.7/site-packages/xgboost/core.py\u001b[0m in \u001b[0;36mpredict\u001b[0;34m(self, data, output_margin, ntree_limit, pred_leaf, pred_contribs, approx_contribs, pred_interactions, validate_features)\u001b[0m\n\u001b[1;32m   1282\u001b[0m \u001b[0;34m\u001b[0m\u001b[0m\n\u001b[1;32m   1283\u001b[0m         \u001b[0;32mif\u001b[0m \u001b[0mvalidate_features\u001b[0m\u001b[0;34m:\u001b[0m\u001b[0;34m\u001b[0m\u001b[0;34m\u001b[0m\u001b[0m\n\u001b[0;32m-> 1284\u001b[0;31m             \u001b[0mself\u001b[0m\u001b[0;34m.\u001b[0m\u001b[0m_validate_features\u001b[0m\u001b[0;34m(\u001b[0m\u001b[0mdata\u001b[0m\u001b[0;34m)\u001b[0m\u001b[0;34m\u001b[0m\u001b[0;34m\u001b[0m\u001b[0m\n\u001b[0m\u001b[1;32m   1285\u001b[0m \u001b[0;34m\u001b[0m\u001b[0m\n\u001b[1;32m   1286\u001b[0m         \u001b[0mlength\u001b[0m \u001b[0;34m=\u001b[0m \u001b[0mc_bst_ulong\u001b[0m\u001b[0;34m(\u001b[0m\u001b[0;34m)\u001b[0m\u001b[0;34m\u001b[0m\u001b[0;34m\u001b[0m\u001b[0m\n",
      "\u001b[0;32m~/opt/conda/envs/ds-base/lib/python3.7/site-packages/xgboost/core.py\u001b[0m in \u001b[0;36m_validate_features\u001b[0;34m(self, data)\u001b[0m\n\u001b[1;32m   1688\u001b[0m \u001b[0;34m\u001b[0m\u001b[0m\n\u001b[1;32m   1689\u001b[0m                 raise ValueError(msg.format(self.feature_names,\n\u001b[0;32m-> 1690\u001b[0;31m                                             data.feature_names))\n\u001b[0m\u001b[1;32m   1691\u001b[0m \u001b[0;34m\u001b[0m\u001b[0m\n\u001b[1;32m   1692\u001b[0m     \u001b[0;32mdef\u001b[0m \u001b[0mget_split_value_histogram\u001b[0m\u001b[0;34m(\u001b[0m\u001b[0mself\u001b[0m\u001b[0;34m,\u001b[0m \u001b[0mfeature\u001b[0m\u001b[0;34m,\u001b[0m \u001b[0mfmap\u001b[0m\u001b[0;34m=\u001b[0m\u001b[0;34m''\u001b[0m\u001b[0;34m,\u001b[0m \u001b[0mbins\u001b[0m\u001b[0;34m=\u001b[0m\u001b[0;32mNone\u001b[0m\u001b[0;34m,\u001b[0m \u001b[0mas_pandas\u001b[0m\u001b[0;34m=\u001b[0m\u001b[0;32mTrue\u001b[0m\u001b[0;34m)\u001b[0m\u001b[0;34m:\u001b[0m\u001b[0;34m\u001b[0m\u001b[0;34m\u001b[0m\u001b[0m\n",
      "\u001b[0;31mValueError\u001b[0m: feature_names mismatch: ['f0', 'f1', 'f2', 'f3', 'f4', 'f5'] ['LAND_SQUARE_FEET', 'BLOCK', 'TOTAL_UNITS', 'GROSS_SQUARE_FEET', 'YEAR_BUILT', 'TAX_CLASS_AT_TIME_OF_SALE']\nexpected f3, f0, f5, f1, f2, f4 in input data\ntraining data did not have the following fields: GROSS_SQUARE_FEET, TAX_CLASS_AT_TIME_OF_SALE, LAND_SQUARE_FEET, YEAR_BUILT, BLOCK, TOTAL_UNITS"
     ]
    }
   ],
   "source": [
    "#pdb.set_trace()\n",
    "isolate=pdp_isolate(\n",
    "    model=model,\n",
    "    dataset=X_train_encoded,\n",
    "    model_features=X_train.columns.to_list(),\n",
    "    feature=feature\n",
    ")\n",
    ""
   ]
  },
  {
   "cell_type": "code",
   "execution_count": 14,
   "metadata": {},
   "outputs": [
    {
     "output_type": "stream",
     "name": "stdout",
     "text": "['LAND_SQUARE_FEET', 'BLOCK', 'TOTAL_UNITS', 'GROSS_SQUARE_FEET', 'YEAR_BUILT', 'TAX_CLASS_AT_TIME_OF_SALE']\n['LAND_SQUARE_FEET', 'BLOCK', 'TOTAL_UNITS', 'GROSS_SQUARE_FEET', 'YEAR_BUILT', 'TAX_CLASS_AT_TIME_OF_SALE']\n"
    }
   ],
   "source": [
    "print(X_train.columns.to_list())\n",
    "print(X_train_encoded_df.columns.to_list())"
   ]
  },
  {
   "cell_type": "code",
   "execution_count": 15,
   "metadata": {},
   "outputs": [
    {
     "output_type": "stream",
     "name": "stdout",
     "text": "X_train:\n    LAND_SQUARE_FEET  BLOCK  TOTAL_UNITS  GROSS_SQUARE_FEET  YEAR_BUILT  \\\n9            35,127    222          1.0             3227.0      1905.0   \n72                0    220          1.0             3428.0         0.0   \n64                0    190          1.0             2300.0         0.0   \n1                 0     16          1.0             1759.0         0.0   \n84                0     16          1.0              814.0         0.0   \n\n    TAX_CLASS_AT_TIME_OF_SALE  \n9                           2  \n72                          2  \n64                          2  \n1                           2  \n84                          2   \nX_train_encoded_df:\n     LAND_SQUARE_FEET  BLOCK  TOTAL_UNITS  GROSS_SQUARE_FEET  YEAR_BUILT  \\\n9                1.0  222.0          1.0             3227.0      1905.0   \n72               2.0  220.0          1.0             3428.0         0.0   \n64               2.0  190.0          1.0             2300.0         0.0   \n1                2.0   16.0          1.0             1759.0         0.0   \n84               2.0   16.0          1.0              814.0         0.0   \n\n    TAX_CLASS_AT_TIME_OF_SALE  \n9                         2.0  \n72                        2.0  \n64                        2.0  \n1                         2.0  \n84                        2.0  \n"
    }
   ],
   "source": [
    "print(\"X_train:\\n\",X_train.head(),\"\\nX_train_encoded_df:\\n\",X_train_encoded_df.head())"
   ]
  },
  {
   "cell_type": "code",
   "execution_count": 36,
   "metadata": {},
   "outputs": [],
   "source": [
    "encoder=autobot.named_steps['ordinalencoder']\n",
    "encoder.get_feature_names()\n",
    "X_val_encoded=encoder.transform(X_val)\n",
    "X_train_encoded=encoder.transform(X_train)"
   ]
  },
  {
   "cell_type": "markdown",
   "metadata": {},
   "source": [
    "## I'm not sure what is going on with the above code, i've tested it and debugged it but i still don't know what is happing, I can't find anything online. "
   ]
  },
  {
   "cell_type": "code",
   "execution_count": 39,
   "metadata": {},
   "outputs": [
    {
     "output_type": "display_data",
     "data": {
      "text/plain": "<Figure size 576x280.8 with 2 Axes>",
      "image/svg+xml": "<?xml version=\"1.0\" encoding=\"utf-8\" standalone=\"no\"?>\n<!DOCTYPE svg PUBLIC \"-//W3C//DTD SVG 1.1//EN\"\n  \"http://www.w3.org/Graphics/SVG/1.1/DTD/svg11.dtd\">\n<!-- Created with matplotlib (https://matplotlib.org/) -->\n<svg height=\"264.810641pt\" version=\"1.1\" viewBox=\"0 0 659.75349 264.810641\" width=\"659.75349pt\" xmlns=\"http://www.w3.org/2000/svg\" xmlns:xlink=\"http://www.w3.org/1999/xlink\">\n <defs>\n  <style type=\"text/css\">\n*{stroke-linecap:butt;stroke-linejoin:round;}\n  </style>\n </defs>\n <g id=\"figure_1\">\n  <g id=\"patch_1\">\n   <path d=\"M 0 264.810641 \nL 659.75349 264.810641 \nL 659.75349 0 \nL 0 0 \nz\n\" style=\"fill:none;\"/>\n  </g>\n  <g id=\"axes_1\">\n   <g id=\"patch_2\">\n    <path d=\"M 227.532187 223.383141 \nL 584.652188 223.383141 \nL 584.652188 11.379141 \nL 227.532187 11.379141 \nz\n\" style=\"fill:#ffffff;\"/>\n   </g>\n   <g id=\"line2d_1\">\n    <path clip-path=\"url(#p9101661fc9)\" d=\"M 397.939109 223.383141 \nL 397.939109 11.379141 \n\" style=\"fill:none;stroke:#999999;stroke-linecap:square;stroke-width:1.5;\"/>\n   </g>\n   <g id=\"line2d_2\">\n    <path clip-path=\"url(#p9101661fc9)\" d=\"M 227.532187 193.096855 \nL 584.652188 193.096855 \n\" style=\"fill:none;stroke:#cccccc;stroke-dasharray:0.5,2.5;stroke-dashoffset:0;stroke-width:0.5;\"/>\n   </g>\n   <g id=\"line2d_3\">\n    <path clip-path=\"url(#p9101661fc9)\" d=\"M 227.532187 162.810569 \nL 584.652188 162.810569 \n\" style=\"fill:none;stroke:#cccccc;stroke-dasharray:0.5,2.5;stroke-dashoffset:0;stroke-width:0.5;\"/>\n   </g>\n   <g id=\"line2d_4\">\n    <path clip-path=\"url(#p9101661fc9)\" d=\"M 227.532187 132.524283 \nL 584.652188 132.524283 \n\" style=\"fill:none;stroke:#cccccc;stroke-dasharray:0.5,2.5;stroke-dashoffset:0;stroke-width:0.5;\"/>\n   </g>\n   <g id=\"line2d_5\">\n    <path clip-path=\"url(#p9101661fc9)\" d=\"M 227.532187 102.237998 \nL 584.652188 102.237998 \n\" style=\"fill:none;stroke:#cccccc;stroke-dasharray:0.5,2.5;stroke-dashoffset:0;stroke-width:0.5;\"/>\n   </g>\n   <g id=\"line2d_6\">\n    <path clip-path=\"url(#p9101661fc9)\" d=\"M 227.532187 71.951712 \nL 584.652188 71.951712 \n\" style=\"fill:none;stroke:#cccccc;stroke-dasharray:0.5,2.5;stroke-dashoffset:0;stroke-width:0.5;\"/>\n   </g>\n   <g id=\"line2d_7\">\n    <path clip-path=\"url(#p9101661fc9)\" d=\"M 227.532187 41.665426 \nL 584.652188 41.665426 \n\" style=\"fill:none;stroke:#cccccc;stroke-dasharray:0.5,2.5;stroke-dashoffset:0;stroke-width:0.5;\"/>\n   </g>\n   <g id=\"matplotlib.axis_1\">\n    <g id=\"xtick_1\">\n     <g id=\"line2d_8\">\n      <defs>\n       <path d=\"M 0 0 \nL 0 3.5 \n\" id=\"m2ae9abe590\" style=\"stroke:#333333;stroke-width:0.8;\"/>\n      </defs>\n      <g>\n       <use style=\"fill:#333333;stroke:#333333;stroke-width:0.8;\" x=\"270.887349\" xlink:href=\"#m2ae9abe590\" y=\"223.383141\"/>\n      </g>\n     </g>\n     <g id=\"text_1\">\n      <!-- −1.0 -->\n      <defs>\n       <path d=\"M 10.59375 35.5 \nL 73.1875 35.5 \nL 73.1875 27.203125 \nL 10.59375 27.203125 \nz\n\" id=\"DejaVuSans-8722\"/>\n       <path d=\"M 12.40625 8.296875 \nL 28.515625 8.296875 \nL 28.515625 63.921875 \nL 10.984375 60.40625 \nL 10.984375 69.390625 \nL 28.421875 72.90625 \nL 38.28125 72.90625 \nL 38.28125 8.296875 \nL 54.390625 8.296875 \nL 54.390625 0 \nL 12.40625 0 \nz\n\" id=\"DejaVuSans-49\"/>\n       <path d=\"M 10.6875 12.40625 \nL 21 12.40625 \nL 21 0 \nL 10.6875 0 \nz\n\" id=\"DejaVuSans-46\"/>\n       <path d=\"M 31.78125 66.40625 \nQ 24.171875 66.40625 20.328125 58.90625 \nQ 16.5 51.421875 16.5 36.375 \nQ 16.5 21.390625 20.328125 13.890625 \nQ 24.171875 6.390625 31.78125 6.390625 \nQ 39.453125 6.390625 43.28125 13.890625 \nQ 47.125 21.390625 47.125 36.375 \nQ 47.125 51.421875 43.28125 58.90625 \nQ 39.453125 66.40625 31.78125 66.40625 \nz\nM 31.78125 74.21875 \nQ 44.046875 74.21875 50.515625 64.515625 \nQ 56.984375 54.828125 56.984375 36.375 \nQ 56.984375 17.96875 50.515625 8.265625 \nQ 44.046875 -1.421875 31.78125 -1.421875 \nQ 19.53125 -1.421875 13.0625 8.265625 \nQ 6.59375 17.96875 6.59375 36.375 \nQ 6.59375 54.828125 13.0625 64.515625 \nQ 19.53125 74.21875 31.78125 74.21875 \nz\n\" id=\"DejaVuSans-48\"/>\n      </defs>\n      <g style=\"fill:#333333;\" transform=\"translate(257.531802 238.741422)scale(0.11 -0.11)\">\n       <use xlink:href=\"#DejaVuSans-8722\"/>\n       <use x=\"83.789062\" xlink:href=\"#DejaVuSans-49\"/>\n       <use x=\"147.412109\" xlink:href=\"#DejaVuSans-46\"/>\n       <use x=\"179.199219\" xlink:href=\"#DejaVuSans-48\"/>\n      </g>\n     </g>\n    </g>\n    <g id=\"xtick_2\">\n     <g id=\"line2d_9\">\n      <g>\n       <use style=\"fill:#333333;stroke:#333333;stroke-width:0.8;\" x=\"334.413229\" xlink:href=\"#m2ae9abe590\" y=\"223.383141\"/>\n      </g>\n     </g>\n     <g id=\"text_2\">\n      <!-- −0.5 -->\n      <defs>\n       <path d=\"M 10.796875 72.90625 \nL 49.515625 72.90625 \nL 49.515625 64.59375 \nL 19.828125 64.59375 \nL 19.828125 46.734375 \nQ 21.96875 47.46875 24.109375 47.828125 \nQ 26.265625 48.1875 28.421875 48.1875 \nQ 40.625 48.1875 47.75 41.5 \nQ 54.890625 34.8125 54.890625 23.390625 \nQ 54.890625 11.625 47.5625 5.09375 \nQ 40.234375 -1.421875 26.90625 -1.421875 \nQ 22.3125 -1.421875 17.546875 -0.640625 \nQ 12.796875 0.140625 7.71875 1.703125 \nL 7.71875 11.625 \nQ 12.109375 9.234375 16.796875 8.0625 \nQ 21.484375 6.890625 26.703125 6.890625 \nQ 35.15625 6.890625 40.078125 11.328125 \nQ 45.015625 15.765625 45.015625 23.390625 \nQ 45.015625 31 40.078125 35.4375 \nQ 35.15625 39.890625 26.703125 39.890625 \nQ 22.75 39.890625 18.8125 39.015625 \nQ 14.890625 38.140625 10.796875 36.28125 \nz\n\" id=\"DejaVuSans-53\"/>\n      </defs>\n      <g style=\"fill:#333333;\" transform=\"translate(321.057682 238.741422)scale(0.11 -0.11)\">\n       <use xlink:href=\"#DejaVuSans-8722\"/>\n       <use x=\"83.789062\" xlink:href=\"#DejaVuSans-48\"/>\n       <use x=\"147.412109\" xlink:href=\"#DejaVuSans-46\"/>\n       <use x=\"179.199219\" xlink:href=\"#DejaVuSans-53\"/>\n      </g>\n     </g>\n    </g>\n    <g id=\"xtick_3\">\n     <g id=\"line2d_10\">\n      <g>\n       <use style=\"fill:#333333;stroke:#333333;stroke-width:0.8;\" x=\"397.939109\" xlink:href=\"#m2ae9abe590\" y=\"223.383141\"/>\n      </g>\n     </g>\n     <g id=\"text_3\">\n      <!-- 0.0 -->\n      <g style=\"fill:#333333;\" transform=\"translate(389.19239 238.741422)scale(0.11 -0.11)\">\n       <use xlink:href=\"#DejaVuSans-48\"/>\n       <use x=\"63.623047\" xlink:href=\"#DejaVuSans-46\"/>\n       <use x=\"95.410156\" xlink:href=\"#DejaVuSans-48\"/>\n      </g>\n     </g>\n    </g>\n    <g id=\"xtick_4\">\n     <g id=\"line2d_11\">\n      <g>\n       <use style=\"fill:#333333;stroke:#333333;stroke-width:0.8;\" x=\"461.464989\" xlink:href=\"#m2ae9abe590\" y=\"223.383141\"/>\n      </g>\n     </g>\n     <g id=\"text_4\">\n      <!-- 0.5 -->\n      <g style=\"fill:#333333;\" transform=\"translate(452.718271 238.741422)scale(0.11 -0.11)\">\n       <use xlink:href=\"#DejaVuSans-48\"/>\n       <use x=\"63.623047\" xlink:href=\"#DejaVuSans-46\"/>\n       <use x=\"95.410156\" xlink:href=\"#DejaVuSans-53\"/>\n      </g>\n     </g>\n    </g>\n    <g id=\"xtick_5\">\n     <g id=\"line2d_12\">\n      <g>\n       <use style=\"fill:#333333;stroke:#333333;stroke-width:0.8;\" x=\"524.99087\" xlink:href=\"#m2ae9abe590\" y=\"223.383141\"/>\n      </g>\n     </g>\n     <g id=\"text_5\">\n      <!-- 1.0 -->\n      <g style=\"fill:#333333;\" transform=\"translate(516.244151 238.741422)scale(0.11 -0.11)\">\n       <use xlink:href=\"#DejaVuSans-49\"/>\n       <use x=\"63.623047\" xlink:href=\"#DejaVuSans-46\"/>\n       <use x=\"95.410156\" xlink:href=\"#DejaVuSans-48\"/>\n      </g>\n     </g>\n    </g>\n    <g id=\"text_6\">\n     <!-- SHAP value (impact on model output) -->\n     <defs>\n      <path d=\"M 53.515625 70.515625 \nL 53.515625 60.890625 \nQ 47.90625 63.578125 42.921875 64.890625 \nQ 37.9375 66.21875 33.296875 66.21875 \nQ 25.25 66.21875 20.875 63.09375 \nQ 16.5 59.96875 16.5 54.203125 \nQ 16.5 49.359375 19.40625 46.890625 \nQ 22.3125 44.4375 30.421875 42.921875 \nL 36.375 41.703125 \nQ 47.40625 39.59375 52.65625 34.296875 \nQ 57.90625 29 57.90625 20.125 \nQ 57.90625 9.515625 50.796875 4.046875 \nQ 43.703125 -1.421875 29.984375 -1.421875 \nQ 24.8125 -1.421875 18.96875 -0.25 \nQ 13.140625 0.921875 6.890625 3.21875 \nL 6.890625 13.375 \nQ 12.890625 10.015625 18.65625 8.296875 \nQ 24.421875 6.59375 29.984375 6.59375 \nQ 38.421875 6.59375 43.015625 9.90625 \nQ 47.609375 13.234375 47.609375 19.390625 \nQ 47.609375 24.75 44.3125 27.78125 \nQ 41.015625 30.8125 33.5 32.328125 \nL 27.484375 33.5 \nQ 16.453125 35.6875 11.515625 40.375 \nQ 6.59375 45.0625 6.59375 53.421875 \nQ 6.59375 63.09375 13.40625 68.65625 \nQ 20.21875 74.21875 32.171875 74.21875 \nQ 37.3125 74.21875 42.625 73.28125 \nQ 47.953125 72.359375 53.515625 70.515625 \nz\n\" id=\"DejaVuSans-83\"/>\n      <path d=\"M 9.8125 72.90625 \nL 19.671875 72.90625 \nL 19.671875 43.015625 \nL 55.515625 43.015625 \nL 55.515625 72.90625 \nL 65.375 72.90625 \nL 65.375 0 \nL 55.515625 0 \nL 55.515625 34.71875 \nL 19.671875 34.71875 \nL 19.671875 0 \nL 9.8125 0 \nz\n\" id=\"DejaVuSans-72\"/>\n      <path d=\"M 34.1875 63.1875 \nL 20.796875 26.90625 \nL 47.609375 26.90625 \nz\nM 28.609375 72.90625 \nL 39.796875 72.90625 \nL 67.578125 0 \nL 57.328125 0 \nL 50.6875 18.703125 \nL 17.828125 18.703125 \nL 11.1875 0 \nL 0.78125 0 \nz\n\" id=\"DejaVuSans-65\"/>\n      <path d=\"M 19.671875 64.796875 \nL 19.671875 37.40625 \nL 32.078125 37.40625 \nQ 38.96875 37.40625 42.71875 40.96875 \nQ 46.484375 44.53125 46.484375 51.125 \nQ 46.484375 57.671875 42.71875 61.234375 \nQ 38.96875 64.796875 32.078125 64.796875 \nz\nM 9.8125 72.90625 \nL 32.078125 72.90625 \nQ 44.34375 72.90625 50.609375 67.359375 \nQ 56.890625 61.8125 56.890625 51.125 \nQ 56.890625 40.328125 50.609375 34.8125 \nQ 44.34375 29.296875 32.078125 29.296875 \nL 19.671875 29.296875 \nL 19.671875 0 \nL 9.8125 0 \nz\n\" id=\"DejaVuSans-80\"/>\n      <path id=\"DejaVuSans-32\"/>\n      <path d=\"M 2.984375 54.6875 \nL 12.5 54.6875 \nL 29.59375 8.796875 \nL 46.6875 54.6875 \nL 56.203125 54.6875 \nL 35.6875 0 \nL 23.484375 0 \nz\n\" id=\"DejaVuSans-118\"/>\n      <path d=\"M 34.28125 27.484375 \nQ 23.390625 27.484375 19.1875 25 \nQ 14.984375 22.515625 14.984375 16.5 \nQ 14.984375 11.71875 18.140625 8.90625 \nQ 21.296875 6.109375 26.703125 6.109375 \nQ 34.1875 6.109375 38.703125 11.40625 \nQ 43.21875 16.703125 43.21875 25.484375 \nL 43.21875 27.484375 \nz\nM 52.203125 31.203125 \nL 52.203125 0 \nL 43.21875 0 \nL 43.21875 8.296875 \nQ 40.140625 3.328125 35.546875 0.953125 \nQ 30.953125 -1.421875 24.3125 -1.421875 \nQ 15.921875 -1.421875 10.953125 3.296875 \nQ 6 8.015625 6 15.921875 \nQ 6 25.140625 12.171875 29.828125 \nQ 18.359375 34.515625 30.609375 34.515625 \nL 43.21875 34.515625 \nL 43.21875 35.40625 \nQ 43.21875 41.609375 39.140625 45 \nQ 35.0625 48.390625 27.6875 48.390625 \nQ 23 48.390625 18.546875 47.265625 \nQ 14.109375 46.140625 10.015625 43.890625 \nL 10.015625 52.203125 \nQ 14.9375 54.109375 19.578125 55.046875 \nQ 24.21875 56 28.609375 56 \nQ 40.484375 56 46.34375 49.84375 \nQ 52.203125 43.703125 52.203125 31.203125 \nz\n\" id=\"DejaVuSans-97\"/>\n      <path d=\"M 9.421875 75.984375 \nL 18.40625 75.984375 \nL 18.40625 0 \nL 9.421875 0 \nz\n\" id=\"DejaVuSans-108\"/>\n      <path d=\"M 8.5 21.578125 \nL 8.5 54.6875 \nL 17.484375 54.6875 \nL 17.484375 21.921875 \nQ 17.484375 14.15625 20.5 10.265625 \nQ 23.53125 6.390625 29.59375 6.390625 \nQ 36.859375 6.390625 41.078125 11.03125 \nQ 45.3125 15.671875 45.3125 23.6875 \nL 45.3125 54.6875 \nL 54.296875 54.6875 \nL 54.296875 0 \nL 45.3125 0 \nL 45.3125 8.40625 \nQ 42.046875 3.421875 37.71875 1 \nQ 33.40625 -1.421875 27.6875 -1.421875 \nQ 18.265625 -1.421875 13.375 4.4375 \nQ 8.5 10.296875 8.5 21.578125 \nz\nM 31.109375 56 \nz\n\" id=\"DejaVuSans-117\"/>\n      <path d=\"M 56.203125 29.59375 \nL 56.203125 25.203125 \nL 14.890625 25.203125 \nQ 15.484375 15.921875 20.484375 11.0625 \nQ 25.484375 6.203125 34.421875 6.203125 \nQ 39.59375 6.203125 44.453125 7.46875 \nQ 49.3125 8.734375 54.109375 11.28125 \nL 54.109375 2.78125 \nQ 49.265625 0.734375 44.1875 -0.34375 \nQ 39.109375 -1.421875 33.890625 -1.421875 \nQ 20.796875 -1.421875 13.15625 6.1875 \nQ 5.515625 13.8125 5.515625 26.8125 \nQ 5.515625 40.234375 12.765625 48.109375 \nQ 20.015625 56 32.328125 56 \nQ 43.359375 56 49.78125 48.890625 \nQ 56.203125 41.796875 56.203125 29.59375 \nz\nM 47.21875 32.234375 \nQ 47.125 39.59375 43.09375 43.984375 \nQ 39.0625 48.390625 32.421875 48.390625 \nQ 24.90625 48.390625 20.390625 44.140625 \nQ 15.875 39.890625 15.1875 32.171875 \nz\n\" id=\"DejaVuSans-101\"/>\n      <path d=\"M 31 75.875 \nQ 24.46875 64.65625 21.28125 53.65625 \nQ 18.109375 42.671875 18.109375 31.390625 \nQ 18.109375 20.125 21.3125 9.0625 \nQ 24.515625 -2 31 -13.1875 \nL 23.1875 -13.1875 \nQ 15.875 -1.703125 12.234375 9.375 \nQ 8.59375 20.453125 8.59375 31.390625 \nQ 8.59375 42.28125 12.203125 53.3125 \nQ 15.828125 64.359375 23.1875 75.875 \nz\n\" id=\"DejaVuSans-40\"/>\n      <path d=\"M 9.421875 54.6875 \nL 18.40625 54.6875 \nL 18.40625 0 \nL 9.421875 0 \nz\nM 9.421875 75.984375 \nL 18.40625 75.984375 \nL 18.40625 64.59375 \nL 9.421875 64.59375 \nz\n\" id=\"DejaVuSans-105\"/>\n      <path d=\"M 52 44.1875 \nQ 55.375 50.25 60.0625 53.125 \nQ 64.75 56 71.09375 56 \nQ 79.640625 56 84.28125 50.015625 \nQ 88.921875 44.046875 88.921875 33.015625 \nL 88.921875 0 \nL 79.890625 0 \nL 79.890625 32.71875 \nQ 79.890625 40.578125 77.09375 44.375 \nQ 74.3125 48.1875 68.609375 48.1875 \nQ 61.625 48.1875 57.5625 43.546875 \nQ 53.515625 38.921875 53.515625 30.90625 \nL 53.515625 0 \nL 44.484375 0 \nL 44.484375 32.71875 \nQ 44.484375 40.625 41.703125 44.40625 \nQ 38.921875 48.1875 33.109375 48.1875 \nQ 26.21875 48.1875 22.15625 43.53125 \nQ 18.109375 38.875 18.109375 30.90625 \nL 18.109375 0 \nL 9.078125 0 \nL 9.078125 54.6875 \nL 18.109375 54.6875 \nL 18.109375 46.1875 \nQ 21.1875 51.21875 25.484375 53.609375 \nQ 29.78125 56 35.6875 56 \nQ 41.65625 56 45.828125 52.96875 \nQ 50 49.953125 52 44.1875 \nz\n\" id=\"DejaVuSans-109\"/>\n      <path d=\"M 18.109375 8.203125 \nL 18.109375 -20.796875 \nL 9.078125 -20.796875 \nL 9.078125 54.6875 \nL 18.109375 54.6875 \nL 18.109375 46.390625 \nQ 20.953125 51.265625 25.265625 53.625 \nQ 29.59375 56 35.59375 56 \nQ 45.5625 56 51.78125 48.09375 \nQ 58.015625 40.1875 58.015625 27.296875 \nQ 58.015625 14.40625 51.78125 6.484375 \nQ 45.5625 -1.421875 35.59375 -1.421875 \nQ 29.59375 -1.421875 25.265625 0.953125 \nQ 20.953125 3.328125 18.109375 8.203125 \nz\nM 48.6875 27.296875 \nQ 48.6875 37.203125 44.609375 42.84375 \nQ 40.53125 48.484375 33.40625 48.484375 \nQ 26.265625 48.484375 22.1875 42.84375 \nQ 18.109375 37.203125 18.109375 27.296875 \nQ 18.109375 17.390625 22.1875 11.75 \nQ 26.265625 6.109375 33.40625 6.109375 \nQ 40.53125 6.109375 44.609375 11.75 \nQ 48.6875 17.390625 48.6875 27.296875 \nz\n\" id=\"DejaVuSans-112\"/>\n      <path d=\"M 48.78125 52.59375 \nL 48.78125 44.1875 \nQ 44.96875 46.296875 41.140625 47.34375 \nQ 37.3125 48.390625 33.40625 48.390625 \nQ 24.65625 48.390625 19.8125 42.84375 \nQ 14.984375 37.3125 14.984375 27.296875 \nQ 14.984375 17.28125 19.8125 11.734375 \nQ 24.65625 6.203125 33.40625 6.203125 \nQ 37.3125 6.203125 41.140625 7.25 \nQ 44.96875 8.296875 48.78125 10.40625 \nL 48.78125 2.09375 \nQ 45.015625 0.34375 40.984375 -0.53125 \nQ 36.96875 -1.421875 32.421875 -1.421875 \nQ 20.0625 -1.421875 12.78125 6.34375 \nQ 5.515625 14.109375 5.515625 27.296875 \nQ 5.515625 40.671875 12.859375 48.328125 \nQ 20.21875 56 33.015625 56 \nQ 37.15625 56 41.109375 55.140625 \nQ 45.0625 54.296875 48.78125 52.59375 \nz\n\" id=\"DejaVuSans-99\"/>\n      <path d=\"M 18.3125 70.21875 \nL 18.3125 54.6875 \nL 36.8125 54.6875 \nL 36.8125 47.703125 \nL 18.3125 47.703125 \nL 18.3125 18.015625 \nQ 18.3125 11.328125 20.140625 9.421875 \nQ 21.96875 7.515625 27.59375 7.515625 \nL 36.8125 7.515625 \nL 36.8125 0 \nL 27.59375 0 \nQ 17.1875 0 13.234375 3.875 \nQ 9.28125 7.765625 9.28125 18.015625 \nL 9.28125 47.703125 \nL 2.6875 47.703125 \nL 2.6875 54.6875 \nL 9.28125 54.6875 \nL 9.28125 70.21875 \nz\n\" id=\"DejaVuSans-116\"/>\n      <path d=\"M 30.609375 48.390625 \nQ 23.390625 48.390625 19.1875 42.75 \nQ 14.984375 37.109375 14.984375 27.296875 \nQ 14.984375 17.484375 19.15625 11.84375 \nQ 23.34375 6.203125 30.609375 6.203125 \nQ 37.796875 6.203125 41.984375 11.859375 \nQ 46.1875 17.53125 46.1875 27.296875 \nQ 46.1875 37.015625 41.984375 42.703125 \nQ 37.796875 48.390625 30.609375 48.390625 \nz\nM 30.609375 56 \nQ 42.328125 56 49.015625 48.375 \nQ 55.71875 40.765625 55.71875 27.296875 \nQ 55.71875 13.875 49.015625 6.21875 \nQ 42.328125 -1.421875 30.609375 -1.421875 \nQ 18.84375 -1.421875 12.171875 6.21875 \nQ 5.515625 13.875 5.515625 27.296875 \nQ 5.515625 40.765625 12.171875 48.375 \nQ 18.84375 56 30.609375 56 \nz\n\" id=\"DejaVuSans-111\"/>\n      <path d=\"M 54.890625 33.015625 \nL 54.890625 0 \nL 45.90625 0 \nL 45.90625 32.71875 \nQ 45.90625 40.484375 42.875 44.328125 \nQ 39.84375 48.1875 33.796875 48.1875 \nQ 26.515625 48.1875 22.3125 43.546875 \nQ 18.109375 38.921875 18.109375 30.90625 \nL 18.109375 0 \nL 9.078125 0 \nL 9.078125 54.6875 \nL 18.109375 54.6875 \nL 18.109375 46.1875 \nQ 21.34375 51.125 25.703125 53.5625 \nQ 30.078125 56 35.796875 56 \nQ 45.21875 56 50.046875 50.171875 \nQ 54.890625 44.34375 54.890625 33.015625 \nz\n\" id=\"DejaVuSans-110\"/>\n      <path d=\"M 45.40625 46.390625 \nL 45.40625 75.984375 \nL 54.390625 75.984375 \nL 54.390625 0 \nL 45.40625 0 \nL 45.40625 8.203125 \nQ 42.578125 3.328125 38.25 0.953125 \nQ 33.9375 -1.421875 27.875 -1.421875 \nQ 17.96875 -1.421875 11.734375 6.484375 \nQ 5.515625 14.40625 5.515625 27.296875 \nQ 5.515625 40.1875 11.734375 48.09375 \nQ 17.96875 56 27.875 56 \nQ 33.9375 56 38.25 53.625 \nQ 42.578125 51.265625 45.40625 46.390625 \nz\nM 14.796875 27.296875 \nQ 14.796875 17.390625 18.875 11.75 \nQ 22.953125 6.109375 30.078125 6.109375 \nQ 37.203125 6.109375 41.296875 11.75 \nQ 45.40625 17.390625 45.40625 27.296875 \nQ 45.40625 37.203125 41.296875 42.84375 \nQ 37.203125 48.484375 30.078125 48.484375 \nQ 22.953125 48.484375 18.875 42.84375 \nQ 14.796875 37.203125 14.796875 27.296875 \nz\n\" id=\"DejaVuSans-100\"/>\n      <path d=\"M 8.015625 75.875 \nL 15.828125 75.875 \nQ 23.140625 64.359375 26.78125 53.3125 \nQ 30.421875 42.28125 30.421875 31.390625 \nQ 30.421875 20.453125 26.78125 9.375 \nQ 23.140625 -1.703125 15.828125 -13.1875 \nL 8.015625 -13.1875 \nQ 14.5 -2 17.703125 9.0625 \nQ 20.90625 20.125 20.90625 31.390625 \nQ 20.90625 42.671875 17.703125 53.65625 \nQ 14.5 64.65625 8.015625 75.875 \nz\n\" id=\"DejaVuSans-41\"/>\n     </defs>\n     <g transform=\"translate(283.410781 254.907047)scale(0.13 -0.13)\">\n      <use xlink:href=\"#DejaVuSans-83\"/>\n      <use x=\"63.476562\" xlink:href=\"#DejaVuSans-72\"/>\n      <use x=\"138.671875\" xlink:href=\"#DejaVuSans-65\"/>\n      <use x=\"207.080078\" xlink:href=\"#DejaVuSans-80\"/>\n      <use x=\"267.382812\" xlink:href=\"#DejaVuSans-32\"/>\n      <use x=\"299.169922\" xlink:href=\"#DejaVuSans-118\"/>\n      <use x=\"358.349609\" xlink:href=\"#DejaVuSans-97\"/>\n      <use x=\"419.628906\" xlink:href=\"#DejaVuSans-108\"/>\n      <use x=\"447.412109\" xlink:href=\"#DejaVuSans-117\"/>\n      <use x=\"510.791016\" xlink:href=\"#DejaVuSans-101\"/>\n      <use x=\"572.314453\" xlink:href=\"#DejaVuSans-32\"/>\n      <use x=\"604.101562\" xlink:href=\"#DejaVuSans-40\"/>\n      <use x=\"643.115234\" xlink:href=\"#DejaVuSans-105\"/>\n      <use x=\"670.898438\" xlink:href=\"#DejaVuSans-109\"/>\n      <use x=\"768.310547\" xlink:href=\"#DejaVuSans-112\"/>\n      <use x=\"831.787109\" xlink:href=\"#DejaVuSans-97\"/>\n      <use x=\"893.066406\" xlink:href=\"#DejaVuSans-99\"/>\n      <use x=\"948.046875\" xlink:href=\"#DejaVuSans-116\"/>\n      <use x=\"987.255859\" xlink:href=\"#DejaVuSans-32\"/>\n      <use x=\"1019.042969\" xlink:href=\"#DejaVuSans-111\"/>\n      <use x=\"1080.224609\" xlink:href=\"#DejaVuSans-110\"/>\n      <use x=\"1143.603516\" xlink:href=\"#DejaVuSans-32\"/>\n      <use x=\"1175.390625\" xlink:href=\"#DejaVuSans-109\"/>\n      <use x=\"1272.802734\" xlink:href=\"#DejaVuSans-111\"/>\n      <use x=\"1333.984375\" xlink:href=\"#DejaVuSans-100\"/>\n      <use x=\"1397.460938\" xlink:href=\"#DejaVuSans-101\"/>\n      <use x=\"1458.984375\" xlink:href=\"#DejaVuSans-108\"/>\n      <use x=\"1486.767578\" xlink:href=\"#DejaVuSans-32\"/>\n      <use x=\"1518.554688\" xlink:href=\"#DejaVuSans-111\"/>\n      <use x=\"1579.736328\" xlink:href=\"#DejaVuSans-117\"/>\n      <use x=\"1643.115234\" xlink:href=\"#DejaVuSans-116\"/>\n      <use x=\"1682.324219\" xlink:href=\"#DejaVuSans-112\"/>\n      <use x=\"1745.800781\" xlink:href=\"#DejaVuSans-117\"/>\n      <use x=\"1809.179688\" xlink:href=\"#DejaVuSans-116\"/>\n      <use x=\"1848.388672\" xlink:href=\"#DejaVuSans-41\"/>\n     </g>\n    </g>\n   </g>\n   <g id=\"matplotlib.axis_2\">\n    <g id=\"ytick_1\">\n     <g id=\"text_7\">\n      <!-- TOTAL_UNITS -->\n      <defs>\n       <path d=\"M -0.296875 72.90625 \nL 61.375 72.90625 \nL 61.375 64.59375 \nL 35.5 64.59375 \nL 35.5 0 \nL 25.59375 0 \nL 25.59375 64.59375 \nL -0.296875 64.59375 \nz\n\" id=\"DejaVuSans-84\"/>\n       <path d=\"M 39.40625 66.21875 \nQ 28.65625 66.21875 22.328125 58.203125 \nQ 16.015625 50.203125 16.015625 36.375 \nQ 16.015625 22.609375 22.328125 14.59375 \nQ 28.65625 6.59375 39.40625 6.59375 \nQ 50.140625 6.59375 56.421875 14.59375 \nQ 62.703125 22.609375 62.703125 36.375 \nQ 62.703125 50.203125 56.421875 58.203125 \nQ 50.140625 66.21875 39.40625 66.21875 \nz\nM 39.40625 74.21875 \nQ 54.734375 74.21875 63.90625 63.9375 \nQ 73.09375 53.65625 73.09375 36.375 \nQ 73.09375 19.140625 63.90625 8.859375 \nQ 54.734375 -1.421875 39.40625 -1.421875 \nQ 24.03125 -1.421875 14.8125 8.828125 \nQ 5.609375 19.09375 5.609375 36.375 \nQ 5.609375 53.65625 14.8125 63.9375 \nQ 24.03125 74.21875 39.40625 74.21875 \nz\n\" id=\"DejaVuSans-79\"/>\n       <path d=\"M 9.8125 72.90625 \nL 19.671875 72.90625 \nL 19.671875 8.296875 \nL 55.171875 8.296875 \nL 55.171875 0 \nL 9.8125 0 \nz\n\" id=\"DejaVuSans-76\"/>\n       <path d=\"M 50.984375 -16.609375 \nL 50.984375 -23.578125 \nL -0.984375 -23.578125 \nL -0.984375 -16.609375 \nz\n\" id=\"DejaVuSans-95\"/>\n       <path d=\"M 8.6875 72.90625 \nL 18.609375 72.90625 \nL 18.609375 28.609375 \nQ 18.609375 16.890625 22.84375 11.734375 \nQ 27.09375 6.59375 36.625 6.59375 \nQ 46.09375 6.59375 50.34375 11.734375 \nQ 54.59375 16.890625 54.59375 28.609375 \nL 54.59375 72.90625 \nL 64.5 72.90625 \nL 64.5 27.390625 \nQ 64.5 13.140625 57.4375 5.859375 \nQ 50.390625 -1.421875 36.625 -1.421875 \nQ 22.796875 -1.421875 15.734375 5.859375 \nQ 8.6875 13.140625 8.6875 27.390625 \nz\n\" id=\"DejaVuSans-85\"/>\n       <path d=\"M 9.8125 72.90625 \nL 23.09375 72.90625 \nL 55.421875 11.921875 \nL 55.421875 72.90625 \nL 64.984375 72.90625 \nL 64.984375 0 \nL 51.703125 0 \nL 19.390625 60.984375 \nL 19.390625 0 \nL 9.8125 0 \nz\n\" id=\"DejaVuSans-78\"/>\n       <path d=\"M 9.8125 72.90625 \nL 19.671875 72.90625 \nL 19.671875 0 \nL 9.8125 0 \nz\n\" id=\"DejaVuSans-73\"/>\n      </defs>\n      <g style=\"fill:#333333;\" transform=\"translate(117.021562 197.921074)scale(0.13 -0.13)\">\n       <use xlink:href=\"#DejaVuSans-84\"/>\n       <use x=\"61.083984\" xlink:href=\"#DejaVuSans-79\"/>\n       <use x=\"139.794922\" xlink:href=\"#DejaVuSans-84\"/>\n       <use x=\"193.128906\" xlink:href=\"#DejaVuSans-65\"/>\n       <use x=\"261.537109\" xlink:href=\"#DejaVuSans-76\"/>\n       <use x=\"317.25\" xlink:href=\"#DejaVuSans-95\"/>\n       <use x=\"367.25\" xlink:href=\"#DejaVuSans-85\"/>\n       <use x=\"440.443359\" xlink:href=\"#DejaVuSans-78\"/>\n       <use x=\"515.248047\" xlink:href=\"#DejaVuSans-73\"/>\n       <use x=\"544.740234\" xlink:href=\"#DejaVuSans-84\"/>\n       <use x=\"605.824219\" xlink:href=\"#DejaVuSans-83\"/>\n      </g>\n     </g>\n    </g>\n    <g id=\"ytick_2\">\n     <g id=\"text_8\">\n      <!-- TAX_CLASS_AT_TIME_OF_SALE -->\n      <defs>\n       <path d=\"M 6.296875 72.90625 \nL 16.890625 72.90625 \nL 35.015625 45.796875 \nL 53.21875 72.90625 \nL 63.8125 72.90625 \nL 40.375 37.890625 \nL 65.375 0 \nL 54.78125 0 \nL 34.28125 31 \nL 13.625 0 \nL 2.984375 0 \nL 29 38.921875 \nz\n\" id=\"DejaVuSans-88\"/>\n       <path d=\"M 64.40625 67.28125 \nL 64.40625 56.890625 \nQ 59.421875 61.53125 53.78125 63.8125 \nQ 48.140625 66.109375 41.796875 66.109375 \nQ 29.296875 66.109375 22.65625 58.46875 \nQ 16.015625 50.828125 16.015625 36.375 \nQ 16.015625 21.96875 22.65625 14.328125 \nQ 29.296875 6.6875 41.796875 6.6875 \nQ 48.140625 6.6875 53.78125 8.984375 \nQ 59.421875 11.28125 64.40625 15.921875 \nL 64.40625 5.609375 \nQ 59.234375 2.09375 53.4375 0.328125 \nQ 47.65625 -1.421875 41.21875 -1.421875 \nQ 24.65625 -1.421875 15.125 8.703125 \nQ 5.609375 18.84375 5.609375 36.375 \nQ 5.609375 53.953125 15.125 64.078125 \nQ 24.65625 74.21875 41.21875 74.21875 \nQ 47.75 74.21875 53.53125 72.484375 \nQ 59.328125 70.75 64.40625 67.28125 \nz\n\" id=\"DejaVuSans-67\"/>\n       <path d=\"M 9.8125 72.90625 \nL 24.515625 72.90625 \nL 43.109375 23.296875 \nL 61.8125 72.90625 \nL 76.515625 72.90625 \nL 76.515625 0 \nL 66.890625 0 \nL 66.890625 64.015625 \nL 48.09375 14.015625 \nL 38.1875 14.015625 \nL 19.390625 64.015625 \nL 19.390625 0 \nL 9.8125 0 \nz\n\" id=\"DejaVuSans-77\"/>\n       <path d=\"M 9.8125 72.90625 \nL 55.90625 72.90625 \nL 55.90625 64.59375 \nL 19.671875 64.59375 \nL 19.671875 43.015625 \nL 54.390625 43.015625 \nL 54.390625 34.71875 \nL 19.671875 34.71875 \nL 19.671875 8.296875 \nL 56.78125 8.296875 \nL 56.78125 0 \nL 9.8125 0 \nz\n\" id=\"DejaVuSans-69\"/>\n       <path d=\"M 9.8125 72.90625 \nL 51.703125 72.90625 \nL 51.703125 64.59375 \nL 19.671875 64.59375 \nL 19.671875 43.109375 \nL 48.578125 43.109375 \nL 48.578125 34.8125 \nL 19.671875 34.8125 \nL 19.671875 0 \nL 9.8125 0 \nz\n\" id=\"DejaVuSans-70\"/>\n      </defs>\n      <g style=\"fill:#333333;\" transform=\"translate(7.2 167.634788)scale(0.13 -0.13)\">\n       <use xlink:href=\"#DejaVuSans-84\"/>\n       <use x=\"53.333984\" xlink:href=\"#DejaVuSans-65\"/>\n       <use x=\"121.742188\" xlink:href=\"#DejaVuSans-88\"/>\n       <use x=\"190.248047\" xlink:href=\"#DejaVuSans-95\"/>\n       <use x=\"240.248047\" xlink:href=\"#DejaVuSans-67\"/>\n       <use x=\"310.072266\" xlink:href=\"#DejaVuSans-76\"/>\n       <use x=\"368.035156\" xlink:href=\"#DejaVuSans-65\"/>\n       <use x=\"436.443359\" xlink:href=\"#DejaVuSans-83\"/>\n       <use x=\"499.919922\" xlink:href=\"#DejaVuSans-83\"/>\n       <use x=\"563.396484\" xlink:href=\"#DejaVuSans-95\"/>\n       <use x=\"613.396484\" xlink:href=\"#DejaVuSans-65\"/>\n       <use x=\"674.054688\" xlink:href=\"#DejaVuSans-84\"/>\n       <use x=\"735.138672\" xlink:href=\"#DejaVuSans-95\"/>\n       <use x=\"785.138672\" xlink:href=\"#DejaVuSans-84\"/>\n       <use x=\"846.222656\" xlink:href=\"#DejaVuSans-73\"/>\n       <use x=\"875.714844\" xlink:href=\"#DejaVuSans-77\"/>\n       <use x=\"961.994141\" xlink:href=\"#DejaVuSans-69\"/>\n       <use x=\"1025.177734\" xlink:href=\"#DejaVuSans-95\"/>\n       <use x=\"1075.177734\" xlink:href=\"#DejaVuSans-79\"/>\n       <use x=\"1153.888672\" xlink:href=\"#DejaVuSans-70\"/>\n       <use x=\"1211.408203\" xlink:href=\"#DejaVuSans-95\"/>\n       <use x=\"1261.408203\" xlink:href=\"#DejaVuSans-83\"/>\n       <use x=\"1326.759766\" xlink:href=\"#DejaVuSans-65\"/>\n       <use x=\"1395.167969\" xlink:href=\"#DejaVuSans-76\"/>\n       <use x=\"1450.880859\" xlink:href=\"#DejaVuSans-69\"/>\n      </g>\n     </g>\n    </g>\n    <g id=\"ytick_3\">\n     <g id=\"text_9\">\n      <!-- LAND_SQUARE_FEET -->\n      <defs>\n       <path d=\"M 19.671875 64.796875 \nL 19.671875 8.109375 \nL 31.59375 8.109375 \nQ 46.6875 8.109375 53.6875 14.9375 \nQ 60.6875 21.78125 60.6875 36.53125 \nQ 60.6875 51.171875 53.6875 57.984375 \nQ 46.6875 64.796875 31.59375 64.796875 \nz\nM 9.8125 72.90625 \nL 30.078125 72.90625 \nQ 51.265625 72.90625 61.171875 64.09375 \nQ 71.09375 55.28125 71.09375 36.53125 \nQ 71.09375 17.671875 61.125 8.828125 \nQ 51.171875 0 30.078125 0 \nL 9.8125 0 \nz\n\" id=\"DejaVuSans-68\"/>\n       <path d=\"M 39.40625 66.21875 \nQ 28.65625 66.21875 22.328125 58.203125 \nQ 16.015625 50.203125 16.015625 36.375 \nQ 16.015625 22.609375 22.328125 14.59375 \nQ 28.65625 6.59375 39.40625 6.59375 \nQ 50.140625 6.59375 56.421875 14.59375 \nQ 62.703125 22.609375 62.703125 36.375 \nQ 62.703125 50.203125 56.421875 58.203125 \nQ 50.140625 66.21875 39.40625 66.21875 \nz\nM 53.21875 1.3125 \nL 66.21875 -12.890625 \nL 54.296875 -12.890625 \nL 43.5 -1.21875 \nQ 41.890625 -1.3125 41.03125 -1.359375 \nQ 40.1875 -1.421875 39.40625 -1.421875 \nQ 24.03125 -1.421875 14.8125 8.859375 \nQ 5.609375 19.140625 5.609375 36.375 \nQ 5.609375 53.65625 14.8125 63.9375 \nQ 24.03125 74.21875 39.40625 74.21875 \nQ 54.734375 74.21875 63.90625 63.9375 \nQ 73.09375 53.65625 73.09375 36.375 \nQ 73.09375 23.6875 67.984375 14.640625 \nQ 62.890625 5.609375 53.21875 1.3125 \nz\n\" id=\"DejaVuSans-81\"/>\n       <path d=\"M 44.390625 34.1875 \nQ 47.5625 33.109375 50.5625 29.59375 \nQ 53.5625 26.078125 56.59375 19.921875 \nL 66.609375 0 \nL 56 0 \nL 46.6875 18.703125 \nQ 43.0625 26.03125 39.671875 28.421875 \nQ 36.28125 30.8125 30.421875 30.8125 \nL 19.671875 30.8125 \nL 19.671875 0 \nL 9.8125 0 \nL 9.8125 72.90625 \nL 32.078125 72.90625 \nQ 44.578125 72.90625 50.734375 67.671875 \nQ 56.890625 62.453125 56.890625 51.90625 \nQ 56.890625 45.015625 53.6875 40.46875 \nQ 50.484375 35.9375 44.390625 34.1875 \nz\nM 19.671875 64.796875 \nL 19.671875 38.921875 \nL 32.078125 38.921875 \nQ 39.203125 38.921875 42.84375 42.21875 \nQ 46.484375 45.515625 46.484375 51.90625 \nQ 46.484375 58.296875 42.84375 61.546875 \nQ 39.203125 64.796875 32.078125 64.796875 \nz\n\" id=\"DejaVuSans-82\"/>\n      </defs>\n      <g style=\"fill:#333333;\" transform=\"translate(68.880937 137.348502)scale(0.13 -0.13)\">\n       <use xlink:href=\"#DejaVuSans-76\"/>\n       <use x=\"57.962891\" xlink:href=\"#DejaVuSans-65\"/>\n       <use x=\"126.371094\" xlink:href=\"#DejaVuSans-78\"/>\n       <use x=\"201.175781\" xlink:href=\"#DejaVuSans-68\"/>\n       <use x=\"278.177734\" xlink:href=\"#DejaVuSans-95\"/>\n       <use x=\"328.177734\" xlink:href=\"#DejaVuSans-83\"/>\n       <use x=\"391.654297\" xlink:href=\"#DejaVuSans-81\"/>\n       <use x=\"470.365234\" xlink:href=\"#DejaVuSans-85\"/>\n       <use x=\"543.558594\" xlink:href=\"#DejaVuSans-65\"/>\n       <use x=\"611.966797\" xlink:href=\"#DejaVuSans-82\"/>\n       <use x=\"681.449219\" xlink:href=\"#DejaVuSans-69\"/>\n       <use x=\"744.632812\" xlink:href=\"#DejaVuSans-95\"/>\n       <use x=\"794.632812\" xlink:href=\"#DejaVuSans-70\"/>\n       <use x=\"852.152344\" xlink:href=\"#DejaVuSans-69\"/>\n       <use x=\"915.335938\" xlink:href=\"#DejaVuSans-69\"/>\n       <use x=\"978.519531\" xlink:href=\"#DejaVuSans-84\"/>\n      </g>\n     </g>\n    </g>\n    <g id=\"ytick_4\">\n     <g id=\"text_10\">\n      <!-- BLOCK -->\n      <defs>\n       <path d=\"M 19.671875 34.8125 \nL 19.671875 8.109375 \nL 35.5 8.109375 \nQ 43.453125 8.109375 47.28125 11.40625 \nQ 51.125 14.703125 51.125 21.484375 \nQ 51.125 28.328125 47.28125 31.5625 \nQ 43.453125 34.8125 35.5 34.8125 \nz\nM 19.671875 64.796875 \nL 19.671875 42.828125 \nL 34.28125 42.828125 \nQ 41.5 42.828125 45.03125 45.53125 \nQ 48.578125 48.25 48.578125 53.8125 \nQ 48.578125 59.328125 45.03125 62.0625 \nQ 41.5 64.796875 34.28125 64.796875 \nz\nM 9.8125 72.90625 \nL 35.015625 72.90625 \nQ 46.296875 72.90625 52.390625 68.21875 \nQ 58.5 63.53125 58.5 54.890625 \nQ 58.5 48.1875 55.375 44.234375 \nQ 52.25 40.28125 46.1875 39.3125 \nQ 53.46875 37.75 57.5 32.78125 \nQ 61.53125 27.828125 61.53125 20.40625 \nQ 61.53125 10.640625 54.890625 5.3125 \nQ 48.25 0 35.984375 0 \nL 9.8125 0 \nz\n\" id=\"DejaVuSans-66\"/>\n       <path d=\"M 9.8125 72.90625 \nL 19.671875 72.90625 \nL 19.671875 42.09375 \nL 52.390625 72.90625 \nL 65.09375 72.90625 \nL 28.90625 38.921875 \nL 67.671875 0 \nL 54.6875 0 \nL 19.671875 35.109375 \nL 19.671875 0 \nL 9.8125 0 \nz\n\" id=\"DejaVuSans-75\"/>\n      </defs>\n      <g style=\"fill:#333333;\" transform=\"translate(160.504531 107.176982)scale(0.13 -0.13)\">\n       <use xlink:href=\"#DejaVuSans-66\"/>\n       <use x=\"68.603516\" xlink:href=\"#DejaVuSans-76\"/>\n       <use x=\"120.691406\" xlink:href=\"#DejaVuSans-79\"/>\n       <use x=\"199.402344\" xlink:href=\"#DejaVuSans-67\"/>\n       <use x=\"269.226562\" xlink:href=\"#DejaVuSans-75\"/>\n      </g>\n     </g>\n    </g>\n    <g id=\"ytick_5\">\n     <g id=\"text_11\">\n      <!-- YEAR_BUILT -->\n      <defs>\n       <path d=\"M -0.203125 72.90625 \nL 10.40625 72.90625 \nL 30.609375 42.921875 \nL 50.6875 72.90625 \nL 61.28125 72.90625 \nL 35.5 34.71875 \nL 35.5 0 \nL 25.59375 0 \nL 25.59375 34.71875 \nz\n\" id=\"DejaVuSans-89\"/>\n      </defs>\n      <g style=\"fill:#333333;\" transform=\"translate(127.787187 76.709915)scale(0.13 -0.13)\">\n       <use xlink:href=\"#DejaVuSans-89\"/>\n       <use x=\"61.083984\" xlink:href=\"#DejaVuSans-69\"/>\n       <use x=\"124.267578\" xlink:href=\"#DejaVuSans-65\"/>\n       <use x=\"192.675781\" xlink:href=\"#DejaVuSans-82\"/>\n       <use x=\"262.158203\" xlink:href=\"#DejaVuSans-95\"/>\n       <use x=\"312.158203\" xlink:href=\"#DejaVuSans-66\"/>\n       <use x=\"380.761719\" xlink:href=\"#DejaVuSans-85\"/>\n       <use x=\"453.955078\" xlink:href=\"#DejaVuSans-73\"/>\n       <use x=\"483.447266\" xlink:href=\"#DejaVuSans-76\"/>\n       <use x=\"525.410156\" xlink:href=\"#DejaVuSans-84\"/>\n      </g>\n     </g>\n    </g>\n    <g id=\"ytick_6\">\n     <g id=\"text_12\">\n      <!-- GROSS_SQUARE_FEET -->\n      <defs>\n       <path d=\"M 59.515625 10.40625 \nL 59.515625 29.984375 \nL 43.40625 29.984375 \nL 43.40625 38.09375 \nL 69.28125 38.09375 \nL 69.28125 6.78125 \nQ 63.578125 2.734375 56.6875 0.65625 \nQ 49.8125 -1.421875 42 -1.421875 \nQ 24.90625 -1.421875 15.25 8.5625 \nQ 5.609375 18.5625 5.609375 36.375 \nQ 5.609375 54.25 15.25 64.234375 \nQ 24.90625 74.21875 42 74.21875 \nQ 49.125 74.21875 55.546875 72.453125 \nQ 61.96875 70.703125 67.390625 67.28125 \nL 67.390625 56.78125 \nQ 61.921875 61.421875 55.765625 63.765625 \nQ 49.609375 66.109375 42.828125 66.109375 \nQ 29.4375 66.109375 22.71875 58.640625 \nQ 16.015625 51.171875 16.015625 36.375 \nQ 16.015625 21.625 22.71875 14.15625 \nQ 29.4375 6.6875 42.828125 6.6875 \nQ 48.046875 6.6875 52.140625 7.59375 \nQ 56.25 8.5 59.515625 10.40625 \nz\n\" id=\"DejaVuSans-71\"/>\n      </defs>\n      <g style=\"fill:#333333;\" transform=\"translate(59.2 46.489645)scale(0.13 -0.13)\">\n       <use xlink:href=\"#DejaVuSans-71\"/>\n       <use x=\"77.490234\" xlink:href=\"#DejaVuSans-82\"/>\n       <use x=\"146.972656\" xlink:href=\"#DejaVuSans-79\"/>\n       <use x=\"225.683594\" xlink:href=\"#DejaVuSans-83\"/>\n       <use x=\"289.160156\" xlink:href=\"#DejaVuSans-83\"/>\n       <use x=\"352.636719\" xlink:href=\"#DejaVuSans-95\"/>\n       <use x=\"402.636719\" xlink:href=\"#DejaVuSans-83\"/>\n       <use x=\"466.113281\" xlink:href=\"#DejaVuSans-81\"/>\n       <use x=\"544.824219\" xlink:href=\"#DejaVuSans-85\"/>\n       <use x=\"618.017578\" xlink:href=\"#DejaVuSans-65\"/>\n       <use x=\"686.425781\" xlink:href=\"#DejaVuSans-82\"/>\n       <use x=\"755.908203\" xlink:href=\"#DejaVuSans-69\"/>\n       <use x=\"819.091797\" xlink:href=\"#DejaVuSans-95\"/>\n       <use x=\"869.091797\" xlink:href=\"#DejaVuSans-70\"/>\n       <use x=\"926.611328\" xlink:href=\"#DejaVuSans-69\"/>\n       <use x=\"989.794922\" xlink:href=\"#DejaVuSans-69\"/>\n       <use x=\"1052.978516\" xlink:href=\"#DejaVuSans-84\"/>\n      </g>\n     </g>\n    </g>\n   </g>\n   <g id=\"patch_3\">\n    <path d=\"M 227.532187 223.383141 \nL 584.652188 223.383141 \n\" style=\"fill:none;stroke:#000000;stroke-linecap:square;stroke-linejoin:miter;stroke-width:0.8;\"/>\n   </g>\n   <g id=\"PathCollection_1\"/>\n   <g id=\"PathCollection_2\">\n    <defs>\n     <path d=\"M 0 2 \nC 0.530406 2 1.03916 1.789267 1.414214 1.414214 \nC 1.789267 1.03916 2 0.530406 2 0 \nC 2 -0.530406 1.789267 -1.03916 1.414214 -1.414214 \nC 1.03916 -1.789267 0.530406 -2 0 -2 \nC -0.530406 -2 -1.03916 -1.789267 -1.414214 -1.414214 \nC -1.789267 -1.03916 -2 -0.530406 -2 0 \nC -2 0.530406 -1.789267 1.03916 -1.414214 1.414214 \nC -1.03916 1.789267 -0.530406 2 0 2 \nz\n\" id=\"C0_0_5546b4c0ab\"/>\n    </defs>\n    <g clip-path=\"url(#p9101661fc9)\">\n     <use style=\"fill:#008bfb;\" x=\"397.939109\" xlink:href=\"#C0_0_5546b4c0ab\" y=\"199.154112\"/>\n    </g>\n    <g clip-path=\"url(#p9101661fc9)\">\n     <use style=\"fill:#008bfb;\" x=\"397.939109\" xlink:href=\"#C0_0_5546b4c0ab\" y=\"184.616695\"/>\n    </g>\n    <g clip-path=\"url(#p9101661fc9)\">\n     <use style=\"fill:#008bfb;\" x=\"397.939109\" xlink:href=\"#C0_0_5546b4c0ab\" y=\"202.788466\"/>\n    </g>\n    <g clip-path=\"url(#p9101661fc9)\">\n     <use style=\"fill:#008bfb;\" x=\"397.939109\" xlink:href=\"#C0_0_5546b4c0ab\" y=\"201.577015\"/>\n    </g>\n    <g clip-path=\"url(#p9101661fc9)\">\n     <use style=\"fill:#008bfb;\" x=\"397.939109\" xlink:href=\"#C0_0_5546b4c0ab\" y=\"191.885403\"/>\n    </g>\n    <g clip-path=\"url(#p9101661fc9)\">\n     <use style=\"fill:#008bfb;\" x=\"397.939109\" xlink:href=\"#C0_0_5546b4c0ab\" y=\"189.462501\"/>\n    </g>\n    <g clip-path=\"url(#p9101661fc9)\">\n     <use style=\"fill:#008bfb;\" x=\"397.939109\" xlink:href=\"#C0_0_5546b4c0ab\" y=\"185.828146\"/>\n    </g>\n    <g clip-path=\"url(#p9101661fc9)\">\n     <use style=\"fill:#008bfb;\" x=\"397.939109\" xlink:href=\"#C0_0_5546b4c0ab\" y=\"197.942661\"/>\n    </g>\n    <g clip-path=\"url(#p9101661fc9)\">\n     <use style=\"fill:#008bfb;\" x=\"397.939109\" xlink:href=\"#C0_0_5546b4c0ab\" y=\"187.039598\"/>\n    </g>\n    <g clip-path=\"url(#p9101661fc9)\">\n     <use style=\"fill:#008bfb;\" x=\"397.939109\" xlink:href=\"#C0_0_5546b4c0ab\" y=\"196.731209\"/>\n    </g>\n    <g clip-path=\"url(#p9101661fc9)\">\n     <use style=\"fill:#008bfb;\" x=\"397.939109\" xlink:href=\"#C0_0_5546b4c0ab\" y=\"190.673952\"/>\n    </g>\n    <g clip-path=\"url(#p9101661fc9)\">\n     <use style=\"fill:#008bfb;\" x=\"397.939109\" xlink:href=\"#C0_0_5546b4c0ab\" y=\"183.405243\"/>\n    </g>\n    <g clip-path=\"url(#p9101661fc9)\">\n     <use style=\"fill:#008bfb;\" x=\"397.939109\" xlink:href=\"#C0_0_5546b4c0ab\" y=\"193.096855\"/>\n    </g>\n    <g clip-path=\"url(#p9101661fc9)\">\n     <use style=\"fill:#008bfb;\" x=\"397.939109\" xlink:href=\"#C0_0_5546b4c0ab\" y=\"200.365563\"/>\n    </g>\n    <g clip-path=\"url(#p9101661fc9)\">\n     <use style=\"fill:#008bfb;\" x=\"397.939109\" xlink:href=\"#C0_0_5546b4c0ab\" y=\"188.251049\"/>\n    </g>\n    <g clip-path=\"url(#p9101661fc9)\">\n     <use style=\"fill:#008bfb;\" x=\"397.939109\" xlink:href=\"#C0_0_5546b4c0ab\" y=\"194.308306\"/>\n    </g>\n    <g clip-path=\"url(#p9101661fc9)\">\n     <use style=\"fill:#008bfb;\" x=\"397.939109\" xlink:href=\"#C0_0_5546b4c0ab\" y=\"195.519758\"/>\n    </g>\n   </g>\n   <g id=\"PathCollection_3\"/>\n   <g id=\"PathCollection_4\">\n    <defs>\n     <path d=\"M 0 2 \nC 0.530406 2 1.03916 1.789267 1.414214 1.414214 \nC 1.789267 1.03916 2 0.530406 2 0 \nC 2 -0.530406 1.789267 -1.03916 1.414214 -1.414214 \nC 1.03916 -1.789267 0.530406 -2 0 -2 \nC -0.530406 -2 -1.03916 -1.789267 -1.414214 -1.414214 \nC -1.789267 -1.03916 -2 -0.530406 -2 0 \nC -2 0.530406 -1.789267 1.03916 -1.414214 1.414214 \nC -1.03916 1.789267 -0.530406 2 0 2 \nz\n\" id=\"C1_0_0282f0c36f\"/>\n    </defs>\n    <g clip-path=\"url(#p9101661fc9)\">\n     <use style=\"fill:#008bfb;\" x=\"397.939109\" xlink:href=\"#C1_0_0282f0c36f\" y=\"162.810569\"/>\n    </g>\n    <g clip-path=\"url(#p9101661fc9)\">\n     <use style=\"fill:#008bfb;\" x=\"397.939109\" xlink:href=\"#C1_0_0282f0c36f\" y=\"167.656375\"/>\n    </g>\n    <g clip-path=\"url(#p9101661fc9)\">\n     <use style=\"fill:#008bfb;\" x=\"397.939109\" xlink:href=\"#C1_0_0282f0c36f\" y=\"166.444923\"/>\n    </g>\n    <g clip-path=\"url(#p9101661fc9)\">\n     <use style=\"fill:#008bfb;\" x=\"397.939109\" xlink:href=\"#C1_0_0282f0c36f\" y=\"170.079278\"/>\n    </g>\n    <g clip-path=\"url(#p9101661fc9)\">\n     <use style=\"fill:#008bfb;\" x=\"397.939109\" xlink:href=\"#C1_0_0282f0c36f\" y=\"159.176215\"/>\n    </g>\n    <g clip-path=\"url(#p9101661fc9)\">\n     <use style=\"fill:#008bfb;\" x=\"397.939109\" xlink:href=\"#C1_0_0282f0c36f\" y=\"171.290729\"/>\n    </g>\n    <g clip-path=\"url(#p9101661fc9)\">\n     <use style=\"fill:#008bfb;\" x=\"397.939109\" xlink:href=\"#C1_0_0282f0c36f\" y=\"156.753312\"/>\n    </g>\n    <g clip-path=\"url(#p9101661fc9)\">\n     <use style=\"fill:#008bfb;\" x=\"397.939109\" xlink:href=\"#C1_0_0282f0c36f\" y=\"157.964763\"/>\n    </g>\n    <g clip-path=\"url(#p9101661fc9)\">\n     <use style=\"fill:#008bfb;\" x=\"397.939109\" xlink:href=\"#C1_0_0282f0c36f\" y=\"153.118958\"/>\n    </g>\n    <g clip-path=\"url(#p9101661fc9)\">\n     <use style=\"fill:#008bfb;\" x=\"397.939109\" xlink:href=\"#C1_0_0282f0c36f\" y=\"161.599118\"/>\n    </g>\n    <g clip-path=\"url(#p9101661fc9)\">\n     <use style=\"fill:#008bfb;\" x=\"397.939109\" xlink:href=\"#C1_0_0282f0c36f\" y=\"165.233472\"/>\n    </g>\n    <g clip-path=\"url(#p9101661fc9)\">\n     <use style=\"fill:#008bfb;\" x=\"397.939109\" xlink:href=\"#C1_0_0282f0c36f\" y=\"164.022021\"/>\n    </g>\n    <g clip-path=\"url(#p9101661fc9)\">\n     <use style=\"fill:#008bfb;\" x=\"397.939109\" xlink:href=\"#C1_0_0282f0c36f\" y=\"154.330409\"/>\n    </g>\n    <g clip-path=\"url(#p9101661fc9)\">\n     <use style=\"fill:#008bfb;\" x=\"397.939109\" xlink:href=\"#C1_0_0282f0c36f\" y=\"168.867826\"/>\n    </g>\n    <g clip-path=\"url(#p9101661fc9)\">\n     <use style=\"fill:#008bfb;\" x=\"397.939109\" xlink:href=\"#C1_0_0282f0c36f\" y=\"172.502181\"/>\n    </g>\n    <g clip-path=\"url(#p9101661fc9)\">\n     <use style=\"fill:#008bfb;\" x=\"397.939109\" xlink:href=\"#C1_0_0282f0c36f\" y=\"160.387666\"/>\n    </g>\n    <g clip-path=\"url(#p9101661fc9)\">\n     <use style=\"fill:#008bfb;\" x=\"397.939109\" xlink:href=\"#C1_0_0282f0c36f\" y=\"155.541861\"/>\n    </g>\n   </g>\n   <g id=\"PathCollection_5\"/>\n   <g id=\"PathCollection_6\">\n    <defs>\n     <path d=\"M 0 2 \nC 0.530406 2 1.03916 1.789267 1.414214 1.414214 \nC 1.789267 1.03916 2 0.530406 2 0 \nC 2 -0.530406 1.789267 -1.03916 1.414214 -1.414214 \nC 1.03916 -1.789267 0.530406 -2 0 -2 \nC -0.530406 -2 -1.03916 -1.789267 -1.414214 -1.414214 \nC -1.789267 -1.03916 -2 -0.530406 -2 0 \nC -2 0.530406 -1.789267 1.03916 -1.414214 1.414214 \nC -1.03916 1.789267 -0.530406 2 0 2 \nz\n\" id=\"C2_0_1182d99d51\"/>\n    </defs>\n    <g clip-path=\"url(#p9101661fc9)\">\n     <use style=\"fill:#4b63e3;\" x=\"397.631426\" xlink:href=\"#C2_0_1182d99d51\" y=\"132.524283\"/>\n    </g>\n    <g clip-path=\"url(#p9101661fc9)\">\n     <use style=\"fill:#4b63e3;\" x=\"397.7726\" xlink:href=\"#C2_0_1182d99d51\" y=\"139.792992\"/>\n    </g>\n    <g clip-path=\"url(#p9101661fc9)\">\n     <use style=\"fill:#4b63e3;\" x=\"397.7726\" xlink:href=\"#C2_0_1182d99d51\" y=\"125.255575\"/>\n    </g>\n    <g clip-path=\"url(#p9101661fc9)\">\n     <use style=\"fill:#4b63e3;\" x=\"397.652408\" xlink:href=\"#C2_0_1182d99d51\" y=\"132.524283\"/>\n    </g>\n    <g clip-path=\"url(#p9101661fc9)\">\n     <use style=\"fill:#4b63e3;\" x=\"397.652408\" xlink:href=\"#C2_0_1182d99d51\" y=\"130.707106\"/>\n    </g>\n    <g clip-path=\"url(#p9101661fc9)\">\n     <use style=\"fill:#4b63e3;\" x=\"397.7726\" xlink:href=\"#C2_0_1182d99d51\" y=\"141.610169\"/>\n    </g>\n    <g clip-path=\"url(#p9101661fc9)\">\n     <use style=\"fill:#4b63e3;\" x=\"397.7726\" xlink:href=\"#C2_0_1182d99d51\" y=\"137.975815\"/>\n    </g>\n    <g clip-path=\"url(#p9101661fc9)\">\n     <use style=\"fill:#008bfb;\" x=\"397.7726\" xlink:href=\"#C2_0_1182d99d51\" y=\"127.072752\"/>\n    </g>\n    <g clip-path=\"url(#p9101661fc9)\">\n     <use style=\"fill:#4b63e3;\" x=\"397.7726\" xlink:href=\"#C2_0_1182d99d51\" y=\"123.438398\"/>\n    </g>\n    <g clip-path=\"url(#p9101661fc9)\">\n     <use style=\"fill:#4b63e3;\" x=\"397.7726\" xlink:href=\"#C2_0_1182d99d51\" y=\"134.341461\"/>\n    </g>\n    <g clip-path=\"url(#p9101661fc9)\">\n     <use style=\"fill:#4b63e3;\" x=\"397.773704\" xlink:href=\"#C2_0_1182d99d51\" y=\"130.707106\"/>\n    </g>\n    <g clip-path=\"url(#p9101661fc9)\">\n     <use style=\"fill:#4b63e3;\" x=\"397.773704\" xlink:href=\"#C2_0_1182d99d51\" y=\"128.889929\"/>\n    </g>\n    <g clip-path=\"url(#p9101661fc9)\">\n     <use style=\"fill:#4b63e3;\" x=\"397.652408\" xlink:href=\"#C2_0_1182d99d51\" y=\"134.341461\"/>\n    </g>\n    <g clip-path=\"url(#p9101661fc9)\">\n     <use style=\"fill:#ff0051;\" x=\"398.941577\" xlink:href=\"#C2_0_1182d99d51\" y=\"132.524283\"/>\n    </g>\n    <g clip-path=\"url(#p9101661fc9)\">\n     <use style=\"fill:#4b63e3;\" x=\"397.631426\" xlink:href=\"#C2_0_1182d99d51\" y=\"130.707106\"/>\n    </g>\n    <g clip-path=\"url(#p9101661fc9)\">\n     <use style=\"fill:#4b63e3;\" x=\"397.7726\" xlink:href=\"#C2_0_1182d99d51\" y=\"132.524283\"/>\n    </g>\n    <g clip-path=\"url(#p9101661fc9)\">\n     <use style=\"fill:#4b63e3;\" x=\"397.773704\" xlink:href=\"#C2_0_1182d99d51\" y=\"136.158638\"/>\n    </g>\n   </g>\n   <g id=\"PathCollection_7\"/>\n   <g id=\"PathCollection_8\">\n    <defs>\n     <path d=\"M 0 2 \nC 0.530406 2 1.03916 1.789267 1.414214 1.414214 \nC 1.789267 1.03916 2 0.530406 2 0 \nC 2 -0.530406 1.789267 -1.03916 1.414214 -1.414214 \nC 1.03916 -1.789267 0.530406 -2 0 -2 \nC -0.530406 -2 -1.03916 -1.789267 -1.414214 -1.414214 \nC -1.789267 -1.03916 -2 -0.530406 -2 0 \nC -2 0.530406 -1.789267 1.03916 -1.414214 1.414214 \nC -1.03916 1.789267 -0.530406 2 0 2 \nz\n\" id=\"C3_0_8bf6e25f6a\"/>\n    </defs>\n    <g clip-path=\"url(#p9101661fc9)\">\n     <use style=\"fill:#ff0056;\" x=\"402.679458\" xlink:href=\"#C3_0_8bf6e25f6a\" y=\"102.237998\"/>\n    </g>\n    <g clip-path=\"url(#p9101661fc9)\">\n     <use style=\"fill:#b900a0;\" x=\"399.566554\" xlink:href=\"#C3_0_8bf6e25f6a\" y=\"102.237998\"/>\n    </g>\n    <g clip-path=\"url(#p9101661fc9)\">\n     <use style=\"fill:#b900a0;\" x=\"398.391326\" xlink:href=\"#C3_0_8bf6e25f6a\" y=\"102.237998\"/>\n    </g>\n    <g clip-path=\"url(#p9101661fc9)\">\n     <use style=\"fill:#008bfb;\" x=\"393.236523\" xlink:href=\"#C3_0_8bf6e25f6a\" y=\"102.237998\"/>\n    </g>\n    <g clip-path=\"url(#p9101661fc9)\">\n     <use style=\"fill:#ff0052;\" x=\"403.323143\" xlink:href=\"#C3_0_8bf6e25f6a\" y=\"96.786466\"/>\n    </g>\n    <g clip-path=\"url(#p9101661fc9)\">\n     <use style=\"fill:#c1009c;\" x=\"403.522755\" xlink:href=\"#C3_0_8bf6e25f6a\" y=\"96.786466\"/>\n    </g>\n    <g clip-path=\"url(#p9101661fc9)\">\n     <use style=\"fill:#c1009c;\" x=\"402.968025\" xlink:href=\"#C3_0_8bf6e25f6a\" y=\"96.786466\"/>\n    </g>\n    <g clip-path=\"url(#p9101661fc9)\">\n     <use style=\"fill:#008bfb;\" x=\"391.227837\" xlink:href=\"#C3_0_8bf6e25f6a\" y=\"102.237998\"/>\n    </g>\n    <g clip-path=\"url(#p9101661fc9)\">\n     <use style=\"fill:#c1009c;\" x=\"402.968025\" xlink:href=\"#C3_0_8bf6e25f6a\" y=\"102.237998\"/>\n    </g>\n    <g clip-path=\"url(#p9101661fc9)\">\n     <use style=\"fill:#008bfb;\" x=\"390.894012\" xlink:href=\"#C3_0_8bf6e25f6a\" y=\"102.237998\"/>\n    </g>\n    <g clip-path=\"url(#p9101661fc9)\">\n     <use style=\"fill:#ff0051;\" x=\"403.306274\" xlink:href=\"#C3_0_8bf6e25f6a\" y=\"102.237998\"/>\n    </g>\n    <g clip-path=\"url(#p9101661fc9)\">\n     <use style=\"fill:#c1009c;\" x=\"401.649993\" xlink:href=\"#C3_0_8bf6e25f6a\" y=\"102.237998\"/>\n    </g>\n    <g clip-path=\"url(#p9101661fc9)\">\n     <use style=\"fill:#008bfb;\" x=\"393.434587\" xlink:href=\"#C3_0_8bf6e25f6a\" y=\"102.237998\"/>\n    </g>\n    <g clip-path=\"url(#p9101661fc9)\">\n     <use style=\"fill:#008bfb;\" x=\"391.858771\" xlink:href=\"#C3_0_8bf6e25f6a\" y=\"102.237998\"/>\n    </g>\n    <g clip-path=\"url(#p9101661fc9)\">\n     <use style=\"fill:#6f52d4;\" x=\"398.450249\" xlink:href=\"#C3_0_8bf6e25f6a\" y=\"102.237998\"/>\n    </g>\n    <g clip-path=\"url(#p9101661fc9)\">\n     <use style=\"fill:#008bfb;\" x=\"392.628922\" xlink:href=\"#C3_0_8bf6e25f6a\" y=\"102.237998\"/>\n    </g>\n    <g clip-path=\"url(#p9101661fc9)\">\n     <use style=\"fill:#c1009c;\" x=\"403.522755\" xlink:href=\"#C3_0_8bf6e25f6a\" y=\"102.237998\"/>\n    </g>\n   </g>\n   <g id=\"PathCollection_9\"/>\n   <g id=\"PathCollection_10\">\n    <defs>\n     <path d=\"M 0 2 \nC 0.530406 2 1.03916 1.789267 1.414214 1.414214 \nC 1.789267 1.03916 2 0.530406 2 0 \nC 2 -0.530406 1.789267 -1.03916 1.414214 -1.414214 \nC 1.03916 -1.789267 0.530406 -2 0 -2 \nC -0.530406 -2 -1.03916 -1.789267 -1.414214 -1.414214 \nC -1.789267 -1.03916 -2 -0.530406 -2 0 \nC -2 0.530406 -1.789267 1.03916 -1.414214 1.414214 \nC -1.03916 1.789267 -0.530406 2 0 2 \nz\n\" id=\"C4_0_0e1b2576d9\"/>\n    </defs>\n    <g clip-path=\"url(#p9101661fc9)\">\n     <use style=\"fill:#ff0051;\" x=\"427.6154\" xlink:href=\"#C4_0_0e1b2576d9\" y=\"71.951712\"/>\n    </g>\n    <g clip-path=\"url(#p9101661fc9)\">\n     <use style=\"fill:#e50081;\" x=\"394.326099\" xlink:href=\"#C4_0_0e1b2576d9\" y=\"71.951712\"/>\n    </g>\n    <g clip-path=\"url(#p9101661fc9)\">\n     <use style=\"fill:#fe005c;\" x=\"391.755787\" xlink:href=\"#C4_0_0e1b2576d9\" y=\"71.951712\"/>\n    </g>\n    <g clip-path=\"url(#p9101661fc9)\">\n     <use style=\"fill:#ff0051;\" x=\"426.50945\" xlink:href=\"#C4_0_0e1b2576d9\" y=\"66.500181\"/>\n    </g>\n    <g clip-path=\"url(#p9101661fc9)\">\n     <use style=\"fill:#ff0051;\" x=\"426.50945\" xlink:href=\"#C4_0_0e1b2576d9\" y=\"71.951712\"/>\n    </g>\n    <g clip-path=\"url(#p9101661fc9)\">\n     <use style=\"fill:#ff0051;\" x=\"427.6154\" xlink:href=\"#C4_0_0e1b2576d9\" y=\"66.500181\"/>\n    </g>\n    <g clip-path=\"url(#p9101661fc9)\">\n     <use style=\"fill:#ff0055;\" x=\"401.92328\" xlink:href=\"#C4_0_0e1b2576d9\" y=\"71.951712\"/>\n    </g>\n    <g clip-path=\"url(#p9101661fc9)\">\n     <use style=\"fill:#ff0058;\" x=\"394.021899\" xlink:href=\"#C4_0_0e1b2576d9\" y=\"71.951712\"/>\n    </g>\n    <g clip-path=\"url(#p9101661fc9)\">\n     <use style=\"fill:#ff0056;\" x=\"392.694235\" xlink:href=\"#C4_0_0e1b2576d9\" y=\"71.951712\"/>\n    </g>\n    <g clip-path=\"url(#p9101661fc9)\">\n     <use style=\"fill:#fd005e;\" x=\"379.4587\" xlink:href=\"#C4_0_0e1b2576d9\" y=\"66.500181\"/>\n    </g>\n    <g clip-path=\"url(#p9101661fc9)\">\n     <use style=\"fill:#fe005c;\" x=\"379.084267\" xlink:href=\"#C4_0_0e1b2576d9\" y=\"77.403243\"/>\n    </g>\n    <g clip-path=\"url(#p9101661fc9)\">\n     <use style=\"fill:#ff0056;\" x=\"398.308403\" xlink:href=\"#C4_0_0e1b2576d9\" y=\"71.951712\"/>\n    </g>\n    <g clip-path=\"url(#p9101661fc9)\">\n     <use style=\"fill:#ee0076;\" x=\"385.288036\" xlink:href=\"#C4_0_0e1b2576d9\" y=\"71.951712\"/>\n    </g>\n    <g clip-path=\"url(#p9101661fc9)\">\n     <use style=\"fill:#008bfb;\" x=\"397.258815\" xlink:href=\"#C4_0_0e1b2576d9\" y=\"71.951712\"/>\n    </g>\n    <g clip-path=\"url(#p9101661fc9)\">\n     <use style=\"fill:#ff0051;\" x=\"424.944574\" xlink:href=\"#C4_0_0e1b2576d9\" y=\"71.951712\"/>\n    </g>\n    <g clip-path=\"url(#p9101661fc9)\">\n     <use style=\"fill:#fd005e;\" x=\"379.4587\" xlink:href=\"#C4_0_0e1b2576d9\" y=\"71.951712\"/>\n    </g>\n    <g clip-path=\"url(#p9101661fc9)\">\n     <use style=\"fill:#fd005e;\" x=\"362.394525\" xlink:href=\"#C4_0_0e1b2576d9\" y=\"71.951712\"/>\n    </g>\n   </g>\n   <g id=\"PathCollection_11\"/>\n   <g id=\"PathCollection_12\">\n    <defs>\n     <path d=\"M 0 2 \nC 0.530406 2 1.03916 1.789267 1.414214 1.414214 \nC 1.789267 1.03916 2 0.530406 2 0 \nC 2 -0.530406 1.789267 -1.03916 1.414214 -1.414214 \nC 1.03916 -1.789267 0.530406 -2 0 -2 \nC -0.530406 -2 -1.03916 -1.789267 -1.414214 -1.414214 \nC -1.789267 -1.03916 -2 -0.530406 -2 0 \nC -2 0.530406 -1.789267 1.03916 -1.414214 1.414214 \nC -1.03916 1.789267 -0.530406 2 0 2 \nz\n\" id=\"C5_0_f21a028475\"/>\n    </defs>\n    <g clip-path=\"url(#p9101661fc9)\">\n     <use style=\"fill:#0085f9;\" x=\"243.764915\" xlink:href=\"#C5_0_f21a028475\" y=\"41.665426\"/>\n    </g>\n    <g clip-path=\"url(#p9101661fc9)\">\n     <use style=\"fill:#bf009d;\" x=\"487.465486\" xlink:href=\"#C5_0_f21a028475\" y=\"41.665426\"/>\n    </g>\n    <g clip-path=\"url(#p9101661fc9)\">\n     <use style=\"fill:#a719a8;\" x=\"459.511453\" xlink:href=\"#C5_0_f21a028475\" y=\"41.665426\"/>\n    </g>\n    <g clip-path=\"url(#p9101661fc9)\">\n     <use style=\"fill:#fe005c;\" x=\"568.41946\" xlink:href=\"#C5_0_f21a028475\" y=\"36.213895\"/>\n    </g>\n    <g clip-path=\"url(#p9101661fc9)\">\n     <use style=\"fill:#0084f9;\" x=\"247.673291\" xlink:href=\"#C5_0_f21a028475\" y=\"47.116958\"/>\n    </g>\n    <g clip-path=\"url(#p9101661fc9)\">\n     <use style=\"fill:#ff0051;\" x=\"532.758822\" xlink:href=\"#C5_0_f21a028475\" y=\"41.665426\"/>\n    </g>\n    <g clip-path=\"url(#p9101661fc9)\">\n     <use style=\"fill:#605bdb;\" x=\"380.177095\" xlink:href=\"#C5_0_f21a028475\" y=\"41.665426\"/>\n    </g>\n    <g clip-path=\"url(#p9101661fc9)\">\n     <use style=\"fill:#be009e;\" x=\"498.649616\" xlink:href=\"#C5_0_f21a028475\" y=\"41.665426\"/>\n    </g>\n    <g clip-path=\"url(#p9101661fc9)\">\n     <use style=\"fill:#008afb;\" x=\"246.840653\" xlink:href=\"#C5_0_f21a028475\" y=\"41.665426\"/>\n    </g>\n    <g clip-path=\"url(#p9101661fc9)\">\n     <use style=\"fill:#008bfb;\" x=\"247.173072\" xlink:href=\"#C5_0_f21a028475\" y=\"36.213895\"/>\n    </g>\n    <g clip-path=\"url(#p9101661fc9)\">\n     <use style=\"fill:#d00092;\" x=\"498.351669\" xlink:href=\"#C5_0_f21a028475\" y=\"41.665426\"/>\n    </g>\n    <g clip-path=\"url(#p9101661fc9)\">\n     <use style=\"fill:#fd005f;\" x=\"568.41946\" xlink:href=\"#C5_0_f21a028475\" y=\"41.665426\"/>\n    </g>\n    <g clip-path=\"url(#p9101661fc9)\">\n     <use style=\"fill:#0083f8;\" x=\"268.633767\" xlink:href=\"#C5_0_f21a028475\" y=\"41.665426\"/>\n    </g>\n    <g clip-path=\"url(#p9101661fc9)\">\n     <use style=\"fill:#9134b9;\" x=\"437.726112\" xlink:href=\"#C5_0_f21a028475\" y=\"41.665426\"/>\n    </g>\n    <g clip-path=\"url(#p9101661fc9)\">\n     <use style=\"fill:#8443c6;\" x=\"433.914639\" xlink:href=\"#C5_0_f21a028475\" y=\"41.665426\"/>\n    </g>\n    <g clip-path=\"url(#p9101661fc9)\">\n     <use style=\"fill:#cd0095;\" x=\"496.525485\" xlink:href=\"#C5_0_f21a028475\" y=\"36.213895\"/>\n    </g>\n    <g clip-path=\"url(#p9101661fc9)\">\n     <use style=\"fill:#b802a1;\" x=\"499.175643\" xlink:href=\"#C5_0_f21a028475\" y=\"36.213895\"/>\n    </g>\n   </g>\n  </g>\n  <g id=\"axes_2\">\n   <g id=\"patch_4\">\n    <path clip-path=\"url(#p1fafd6e4b0)\" d=\"M 606.972188 223.383141 \nL 606.972188 222.555 \nL 606.972188 12.207281 \nL 606.972188 11.379141 \nL 612.156927 11.379141 \nL 612.156927 12.207281 \nL 612.156927 222.555 \nL 612.156927 223.383141 \nz\n\" style=\"fill:#ffffff;stroke:#ffffff;stroke-linejoin:miter;stroke-width:0.01;\"/>\n   </g>\n   <image height=\"212\" id=\"imagec06f1dfa19\" transform=\"scale(1 -1)translate(0 -212)\" width=\"5\" x=\"607\" xlink:href=\"data:image/png;base64,\niVBORw0KGgoAAAANSUhEUgAAAAUAAADUCAYAAABUDelvAAAABHNCSVQICAgIfAhkiAAAAR9JREFUWIXll0EOwjAMBJ3EgDjxcJ5ctXAnY2ktN73A0fLurB0aaLP39rGfj9tUMnP7zFXs7HMp2Xk6aI0nVC+kq556zoB+kDwxux5phSfKS/Q7gZ7U+SLPGxdBTnh/0HH4rDYfBOpUHETHnOxJOTt5Ih1B2ImeTY7ktDoENXkipCNIz4mdQ/eUJ2o00TiOEkg/IwTx5tXZA1BJngDt6uqqIFydPCZea0F4eSL8mdC3xOEhp76l4JFRPRO3zV6ScyQKPwiky9u8ePOx4XHInnp4vIK4SJ5yZze8WHRPFTSqIL3zoolWrI5/4/DfWm1LevgAVJoo4wmRMueuehbH1IsIKm/pfPkKT13+J6BAPn+T+X0zA4KnQ49ExeAVuAT6AsGsCJxr/Sc5AAAAAElFTkSuQmCC\" y=\"-11\"/>\n   <g id=\"matplotlib.axis_3\"/>\n   <g id=\"matplotlib.axis_4\">\n    <g id=\"ytick_7\">\n     <g id=\"line2d_13\"/>\n     <g id=\"text_13\">\n      <!-- Low -->\n      <defs>\n       <path d=\"M 4.203125 54.6875 \nL 13.1875 54.6875 \nL 24.421875 12.015625 \nL 35.59375 54.6875 \nL 46.1875 54.6875 \nL 57.421875 12.015625 \nL 68.609375 54.6875 \nL 77.59375 54.6875 \nL 63.28125 0 \nL 52.6875 0 \nL 40.921875 44.828125 \nL 29.109375 0 \nL 18.5 0 \nz\n\" id=\"DejaVuSans-119\"/>\n      </defs>\n      <g transform=\"translate(615.656927 227.562281)scale(0.11 -0.11)\">\n       <use xlink:href=\"#DejaVuSans-76\"/>\n       <use x=\"53.962891\" xlink:href=\"#DejaVuSans-111\"/>\n       <use x=\"115.144531\" xlink:href=\"#DejaVuSans-119\"/>\n      </g>\n     </g>\n    </g>\n    <g id=\"ytick_8\">\n     <g id=\"line2d_14\"/>\n     <g id=\"text_14\">\n      <!-- High -->\n      <defs>\n       <path d=\"M 45.40625 27.984375 \nQ 45.40625 37.75 41.375 43.109375 \nQ 37.359375 48.484375 30.078125 48.484375 \nQ 22.859375 48.484375 18.828125 43.109375 \nQ 14.796875 37.75 14.796875 27.984375 \nQ 14.796875 18.265625 18.828125 12.890625 \nQ 22.859375 7.515625 30.078125 7.515625 \nQ 37.359375 7.515625 41.375 12.890625 \nQ 45.40625 18.265625 45.40625 27.984375 \nz\nM 54.390625 6.78125 \nQ 54.390625 -7.171875 48.1875 -13.984375 \nQ 42 -20.796875 29.203125 -20.796875 \nQ 24.46875 -20.796875 20.265625 -20.09375 \nQ 16.0625 -19.390625 12.109375 -17.921875 \nL 12.109375 -9.1875 \nQ 16.0625 -11.328125 19.921875 -12.34375 \nQ 23.78125 -13.375 27.78125 -13.375 \nQ 36.625 -13.375 41.015625 -8.765625 \nQ 45.40625 -4.15625 45.40625 5.171875 \nL 45.40625 9.625 \nQ 42.625 4.78125 38.28125 2.390625 \nQ 33.9375 0 27.875 0 \nQ 17.828125 0 11.671875 7.65625 \nQ 5.515625 15.328125 5.515625 27.984375 \nQ 5.515625 40.671875 11.671875 48.328125 \nQ 17.828125 56 27.875 56 \nQ 33.9375 56 38.28125 53.609375 \nQ 42.625 51.21875 45.40625 46.390625 \nL 45.40625 54.6875 \nL 54.390625 54.6875 \nz\n\" id=\"DejaVuSans-103\"/>\n       <path d=\"M 54.890625 33.015625 \nL 54.890625 0 \nL 45.90625 0 \nL 45.90625 32.71875 \nQ 45.90625 40.484375 42.875 44.328125 \nQ 39.84375 48.1875 33.796875 48.1875 \nQ 26.515625 48.1875 22.3125 43.546875 \nQ 18.109375 38.921875 18.109375 30.90625 \nL 18.109375 0 \nL 9.078125 0 \nL 9.078125 75.984375 \nL 18.109375 75.984375 \nL 18.109375 46.1875 \nQ 21.34375 51.125 25.703125 53.5625 \nQ 30.078125 56 35.796875 56 \nQ 45.21875 56 50.046875 50.171875 \nQ 54.890625 44.34375 54.890625 33.015625 \nz\n\" id=\"DejaVuSans-104\"/>\n      </defs>\n      <g transform=\"translate(615.656927 15.558281)scale(0.11 -0.11)\">\n       <use xlink:href=\"#DejaVuSans-72\"/>\n       <use x=\"75.195312\" xlink:href=\"#DejaVuSans-105\"/>\n       <use x=\"102.978516\" xlink:href=\"#DejaVuSans-103\"/>\n       <use x=\"166.455078\" xlink:href=\"#DejaVuSans-104\"/>\n      </g>\n     </g>\n    </g>\n    <g id=\"text_15\">\n     <!-- Feature value -->\n     <defs>\n      <path d=\"M 41.109375 46.296875 \nQ 39.59375 47.171875 37.8125 47.578125 \nQ 36.03125 48 33.890625 48 \nQ 26.265625 48 22.1875 43.046875 \nQ 18.109375 38.09375 18.109375 28.8125 \nL 18.109375 0 \nL 9.078125 0 \nL 9.078125 54.6875 \nL 18.109375 54.6875 \nL 18.109375 46.1875 \nQ 20.953125 51.171875 25.484375 53.578125 \nQ 30.03125 56 36.53125 56 \nQ 37.453125 56 38.578125 55.875 \nQ 39.703125 55.765625 41.0625 55.515625 \nz\n\" id=\"DejaVuSans-114\"/>\n     </defs>\n     <g transform=\"translate(650.057865 158.345203)rotate(-90)scale(0.12 -0.12)\">\n      <use xlink:href=\"#DejaVuSans-70\"/>\n      <use x=\"52.019531\" xlink:href=\"#DejaVuSans-101\"/>\n      <use x=\"113.542969\" xlink:href=\"#DejaVuSans-97\"/>\n      <use x=\"174.822266\" xlink:href=\"#DejaVuSans-116\"/>\n      <use x=\"214.03125\" xlink:href=\"#DejaVuSans-117\"/>\n      <use x=\"277.410156\" xlink:href=\"#DejaVuSans-114\"/>\n      <use x=\"316.273438\" xlink:href=\"#DejaVuSans-101\"/>\n      <use x=\"377.796875\" xlink:href=\"#DejaVuSans-32\"/>\n      <use x=\"409.583984\" xlink:href=\"#DejaVuSans-118\"/>\n      <use x=\"468.763672\" xlink:href=\"#DejaVuSans-97\"/>\n      <use x=\"530.042969\" xlink:href=\"#DejaVuSans-108\"/>\n      <use x=\"557.826172\" xlink:href=\"#DejaVuSans-117\"/>\n      <use x=\"621.205078\" xlink:href=\"#DejaVuSans-101\"/>\n     </g>\n    </g>\n   </g>\n  </g>\n </g>\n <defs>\n  <clipPath id=\"p9101661fc9\">\n   <rect height=\"212.004\" width=\"357.12\" x=\"227.532187\" y=\"11.379141\"/>\n  </clipPath>\n  <clipPath id=\"p1fafd6e4b0\">\n   <rect height=\"212.004\" width=\"5.18474\" x=\"606.972188\" y=\"11.379141\"/>\n  </clipPath>\n </defs>\n</svg>\n",
      "image/png": "[encoded data removed]"
     },
     "metadata": {
      "needs_background": "light"
     }
    }
   ],
   "source": [
    "import shap\n",
    "explainer=shap.TreeExplainer(model)\n",
    "shap_values=explainer.shap_values(X_val_encoded)\n",
    "shap.summary_plot(shap_values,X_val_encoded)"
   ]
  },
  {
   "cell_type": "code",
   "execution_count": null,
   "metadata": {},
   "outputs": [],
   "source": [
    "test_score=pipeline.score(X_test,y_test)\n",
    "print(\"testing score:\",test_score)"
   ]
  },
  {
   "cell_type": "code",
   "execution_count": null,
   "metadata": {},
   "outputs": [],
   "source": []
  }
 ],
 "metadata": {
  "kernelspec": {
   "display_name": "Python 3",
   "language": "python",
   "name": "python3"
  },
  "language_info": {
   "codemirror_mode": {
    "name": "ipython",
    "version": 3
   },
   "file_extension": ".py",
   "mimetype": "text/x-python",
   "name": "python",
   "nbconvert_exporter": "python",
   "pygments_lexer": "ipython3",
   "version": "3.7.6-final"
  }
 },
 "nbformat": 4,
 "nbformat_minor": 2
}