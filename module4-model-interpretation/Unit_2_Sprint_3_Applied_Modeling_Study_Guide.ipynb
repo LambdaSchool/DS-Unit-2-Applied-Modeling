{
 "cells": [
  {
   "cell_type": "markdown",
   "metadata": {
    "colab_type": "text",
    "id": "vARcu2lBUpwi"
   },
   "source": [
    "This study guide should reinforce and provide practice for all of the concepts you have seen in the past week. There are a mix of written questions and coding exercises, both are equally important to prepare you for the sprint challenge as well as to be able to speak on these topics comfortably in interviews and on the job.\n",
    "\n",
    "If you get stuck or are unsure of something remember the 20 minute rule. If that doesn't help, then research a solution with google and stackoverflow. Only once you have exausted these methods should you turn to your Team Lead - they won't be there on your SC or during an interview. That being said, don't hesitate to ask for help if you truly are stuck.\n",
    "\n",
    "Have fun studying!"
   ]
  },
  {
   "cell_type": "markdown",
   "metadata": {
    "colab_type": "text",
    "id": "ePzmZOuzUwgK"
   },
   "source": [
    "# Resources"
   ]
  },
  {
   "cell_type": "markdown",
   "metadata": {
    "colab_type": "text",
    "id": "4H3Tu38vUxxP"
   },
   "source": [
    "[XGBoost](https://xgboost.readthedocs.io/en/latest/)\n",
    "\n",
    "[Shapley Values](https://shap.readthedocs.io/en/latest/)\n",
    "\n",
    "[eli5](https://eli5.readthedocs.io/en/latest/overview.html)\n",
    "\n",
    "[Partial Dependence Plot](https://scikit-learn.org/stable/modules/partial_dependence.html)"
   ]
  },
  {
   "cell_type": "markdown",
   "metadata": {
    "colab_type": "text",
    "id": "gHy-Hs8kvLP9"
   },
   "source": [
    "Use the dataset below to complete the coding challenges throughout the notebook unless otherwise specified."
   ]
  },
  {
   "cell_type": "code",
   "execution_count": 1,
   "metadata": {
    "colab": {},
    "colab_type": "code",
    "id": "HwWHWP6n89tH"
   },
   "outputs": [],
   "source": [
    "import warnings\n",
    "import numpy as np\n",
    "import category_encoders as ce\n",
    "import pandas as pd\n",
    "from sklearn.linear_model import LogisticRegression\n",
    "from sklearn.model_selection import cross_val_score, train_test_split\n",
    "from sklearn.pipeline import make_pipeline\n",
    "from sklearn.exceptions import DataConversionWarning\n",
    "from sklearn.preprocessing import StandardScaler\n",
    "from sklearn.model_selection import cross_val_predict\n",
    "warnings.filterwarnings(action='ignore', category=DataConversionWarning)"
   ]
  },
  {
   "cell_type": "code",
   "execution_count": 2,
   "metadata": {
    "colab": {},
    "colab_type": "code",
    "id": "LiqN-4Jttjkj"
   },
   "outputs": [
    {
     "data": {
      "text/html": [
       "<div>\n",
       "<style scoped>\n",
       "    .dataframe tbody tr th:only-of-type {\n",
       "        vertical-align: middle;\n",
       "    }\n",
       "\n",
       "    .dataframe tbody tr th {\n",
       "        vertical-align: top;\n",
       "    }\n",
       "\n",
       "    .dataframe thead th {\n",
       "        text-align: right;\n",
       "    }\n",
       "</style>\n",
       "<table border=\"1\" class=\"dataframe\">\n",
       "  <thead>\n",
       "    <tr style=\"text-align: right;\">\n",
       "      <th></th>\n",
       "      <th>symboling</th>\n",
       "      <th>norm_loss</th>\n",
       "      <th>make</th>\n",
       "      <th>fuel</th>\n",
       "      <th>aspiration</th>\n",
       "      <th>doors</th>\n",
       "      <th>bod_style</th>\n",
       "      <th>drv_wheels</th>\n",
       "      <th>eng_loc</th>\n",
       "      <th>wheel_base</th>\n",
       "      <th>...</th>\n",
       "      <th>engine_size</th>\n",
       "      <th>fuel_system</th>\n",
       "      <th>bore</th>\n",
       "      <th>stroke</th>\n",
       "      <th>compression</th>\n",
       "      <th>hp</th>\n",
       "      <th>peak_rpm</th>\n",
       "      <th>city_mpg</th>\n",
       "      <th>hgwy_mpg</th>\n",
       "      <th>price</th>\n",
       "    </tr>\n",
       "  </thead>\n",
       "  <tbody>\n",
       "    <tr>\n",
       "      <th>0</th>\n",
       "      <td>3</td>\n",
       "      <td>?</td>\n",
       "      <td>alfa-romero</td>\n",
       "      <td>gas</td>\n",
       "      <td>std</td>\n",
       "      <td>two</td>\n",
       "      <td>convertible</td>\n",
       "      <td>rwd</td>\n",
       "      <td>front</td>\n",
       "      <td>88.6</td>\n",
       "      <td>...</td>\n",
       "      <td>130</td>\n",
       "      <td>mpfi</td>\n",
       "      <td>3.47</td>\n",
       "      <td>2.68</td>\n",
       "      <td>9.0</td>\n",
       "      <td>111</td>\n",
       "      <td>5000</td>\n",
       "      <td>21</td>\n",
       "      <td>27</td>\n",
       "      <td>13495</td>\n",
       "    </tr>\n",
       "    <tr>\n",
       "      <th>1</th>\n",
       "      <td>3</td>\n",
       "      <td>?</td>\n",
       "      <td>alfa-romero</td>\n",
       "      <td>gas</td>\n",
       "      <td>std</td>\n",
       "      <td>two</td>\n",
       "      <td>convertible</td>\n",
       "      <td>rwd</td>\n",
       "      <td>front</td>\n",
       "      <td>88.6</td>\n",
       "      <td>...</td>\n",
       "      <td>130</td>\n",
       "      <td>mpfi</td>\n",
       "      <td>3.47</td>\n",
       "      <td>2.68</td>\n",
       "      <td>9.0</td>\n",
       "      <td>111</td>\n",
       "      <td>5000</td>\n",
       "      <td>21</td>\n",
       "      <td>27</td>\n",
       "      <td>16500</td>\n",
       "    </tr>\n",
       "    <tr>\n",
       "      <th>2</th>\n",
       "      <td>1</td>\n",
       "      <td>?</td>\n",
       "      <td>alfa-romero</td>\n",
       "      <td>gas</td>\n",
       "      <td>std</td>\n",
       "      <td>two</td>\n",
       "      <td>hatchback</td>\n",
       "      <td>rwd</td>\n",
       "      <td>front</td>\n",
       "      <td>94.5</td>\n",
       "      <td>...</td>\n",
       "      <td>152</td>\n",
       "      <td>mpfi</td>\n",
       "      <td>2.68</td>\n",
       "      <td>3.47</td>\n",
       "      <td>9.0</td>\n",
       "      <td>154</td>\n",
       "      <td>5000</td>\n",
       "      <td>19</td>\n",
       "      <td>26</td>\n",
       "      <td>16500</td>\n",
       "    </tr>\n",
       "    <tr>\n",
       "      <th>3</th>\n",
       "      <td>2</td>\n",
       "      <td>164</td>\n",
       "      <td>audi</td>\n",
       "      <td>gas</td>\n",
       "      <td>std</td>\n",
       "      <td>four</td>\n",
       "      <td>sedan</td>\n",
       "      <td>fwd</td>\n",
       "      <td>front</td>\n",
       "      <td>99.8</td>\n",
       "      <td>...</td>\n",
       "      <td>109</td>\n",
       "      <td>mpfi</td>\n",
       "      <td>3.19</td>\n",
       "      <td>3.40</td>\n",
       "      <td>10.0</td>\n",
       "      <td>102</td>\n",
       "      <td>5500</td>\n",
       "      <td>24</td>\n",
       "      <td>30</td>\n",
       "      <td>13950</td>\n",
       "    </tr>\n",
       "    <tr>\n",
       "      <th>4</th>\n",
       "      <td>2</td>\n",
       "      <td>164</td>\n",
       "      <td>audi</td>\n",
       "      <td>gas</td>\n",
       "      <td>std</td>\n",
       "      <td>four</td>\n",
       "      <td>sedan</td>\n",
       "      <td>4wd</td>\n",
       "      <td>front</td>\n",
       "      <td>99.4</td>\n",
       "      <td>...</td>\n",
       "      <td>136</td>\n",
       "      <td>mpfi</td>\n",
       "      <td>3.19</td>\n",
       "      <td>3.40</td>\n",
       "      <td>8.0</td>\n",
       "      <td>115</td>\n",
       "      <td>5500</td>\n",
       "      <td>18</td>\n",
       "      <td>22</td>\n",
       "      <td>17450</td>\n",
       "    </tr>\n",
       "  </tbody>\n",
       "</table>\n",
       "<p>5 rows × 26 columns</p>\n",
       "</div>"
      ],
      "text/plain": [
       "   symboling norm_loss         make fuel aspiration doors    bod_style  \\\n",
       "0          3         ?  alfa-romero  gas        std   two  convertible   \n",
       "1          3         ?  alfa-romero  gas        std   two  convertible   \n",
       "2          1         ?  alfa-romero  gas        std   two    hatchback   \n",
       "3          2       164         audi  gas        std  four        sedan   \n",
       "4          2       164         audi  gas        std  four        sedan   \n",
       "\n",
       "  drv_wheels eng_loc  wheel_base  ...  engine_size  fuel_system  bore  stroke  \\\n",
       "0        rwd   front        88.6  ...          130         mpfi  3.47    2.68   \n",
       "1        rwd   front        88.6  ...          130         mpfi  3.47    2.68   \n",
       "2        rwd   front        94.5  ...          152         mpfi  2.68    3.47   \n",
       "3        fwd   front        99.8  ...          109         mpfi  3.19    3.40   \n",
       "4        4wd   front        99.4  ...          136         mpfi  3.19    3.40   \n",
       "\n",
       "  compression   hp  peak_rpm city_mpg hgwy_mpg  price  \n",
       "0         9.0  111      5000       21       27  13495  \n",
       "1         9.0  111      5000       21       27  16500  \n",
       "2         9.0  154      5000       19       26  16500  \n",
       "3        10.0  102      5500       24       30  13950  \n",
       "4         8.0  115      5500       18       22  17450  \n",
       "\n",
       "[5 rows x 26 columns]"
      ]
     },
     "execution_count": 2,
     "metadata": {},
     "output_type": "execute_result"
    }
   ],
   "source": [
    "auto_url = 'https://archive.ics.uci.edu/ml/machine-learning-databases/autos/imports-85.data'\n",
    "columns = ['symboling','norm_loss','make','fuel','aspiration','doors',\n",
    "           'bod_style','drv_wheels','eng_loc','wheel_base','length','width',\n",
    "           'height','curb_weight','engine','cylinders','engine_size',\n",
    "           'fuel_system','bore','stroke','compression','hp','peak_rpm',\n",
    "           'city_mpg','hgwy_mpg','price']\n",
    "df = pd.read_csv(auto_url, header=None, names=columns)\n",
    "\n",
    "df.head()"
   ]
  },
  {
   "cell_type": "markdown",
   "metadata": {
    "colab_type": "text",
    "id": "6CPxvpcDdxe2"
   },
   "source": [
    "# Data Cleaning and Exploring"
   ]
  },
  {
   "cell_type": "markdown",
   "metadata": {
    "colab_type": "text",
    "id": "nOdH4j2Td71z"
   },
   "source": [
    "Define the following terms in your own words, do not simply copy and paste a definition found elsewhere but reword it to be understandable and memorable to you. *Double click the markdown to add your definitions.*\n",
    "<br/><br/>\n",
    "\n",
    "**Outliers** - `Extreme observations outside the range of expected values`\n",
    "\n",
    "**Skew** - `A measure of data distribution's asymmetry with respect to a normal distribution`\n",
    "\n",
    "**Log Transformation** - `A data processing technique in which a logarithmic function is used to normalize a skewed dataset`\n",
    "\n",
    "**Leakage** - `Information outside the training set is used to improve model performance, a recipe for over-fitting`"
   ]
  },
  {
   "cell_type": "markdown",
   "metadata": {
    "colab_type": "text",
    "id": "KQfiHjTnf-mY"
   },
   "source": [
    "Throughout this unit we have been building predictive models and consistently doing certain steps such as loading data, and train-test split. In the space below, list out the steps needed to build a machine learning model. Make sure to include all major steps from sourcing and loading data all the way to scoring on your test set. Greater detail than just the major steps is encouraged if time permits you. Feel free too look back at assignments/lecture notebooks or use google to see the workflow steps others use and adapt it for you.\n",
    "\n",
    "```\n",
    "train-validate-test split or cross-validation approach\n",
    "Choose a class of model by importing the appropriate estimator class from Scikit-Learn.\n",
    "Choose model hyperparameters by instantiating this class with desired values.\n",
    "Arrange data into a features matrix and target vector following the discussion above.\n",
    "Fit the model to your data by calling the fit() method of the model instance.\n",
    "Apply the Model to new data:\n",
    "For supervised learning, often we predict labels for unknown data using the predict() method.\n",
    "For unsupervised learning, we often transform or infer properties of the data using the transform() or predict() method.\n",
    "\n",
    "Thanks JakeVDP: https://jakevdp.github.io/PythonDataScienceHandbook/05.02-introducing-scikit-learn.html\n",
    "```"
   ]
  },
  {
   "cell_type": "markdown",
   "metadata": {
    "colab_type": "text",
    "id": "lSNE9pHsQhOV"
   },
   "source": [
    "How do we detect leakage and what are some examples?\n",
    "\n",
    "```\n",
    "Models with near-perfect accuracy are highly suspect os data leakage. \n",
    "\n",
    "Use cross-validation folds to help overcome data leakage. \n",
    "```"
   ]
  },
  {
   "cell_type": "markdown",
   "metadata": {
    "colab_type": "text",
    "id": "4J0ryXKrvenI"
   },
   "source": [
    "Use your Machine Learning Workflow above to load and prep the dataframe above. When you get to feature selection, choose a subset to include in your model, justify why you kept/dropped the features you chose with code comments."
   ]
  },
  {
   "cell_type": "code",
   "execution_count": 62,
   "metadata": {},
   "outputs": [],
   "source": [
    "df = df[df[\"price\"] != \"?\"]"
   ]
  },
  {
   "cell_type": "code",
   "execution_count": null,
   "metadata": {},
   "outputs": [],
   "source": []
  },
  {
   "cell_type": "code",
   "execution_count": 3,
   "metadata": {
    "colab": {},
    "colab_type": "code",
    "id": "YTey7jWAv_HL"
   },
   "outputs": [],
   "source": [
    "from sklearn.model_selection import train_test_split"
   ]
  },
  {
   "cell_type": "code",
   "execution_count": 63,
   "metadata": {},
   "outputs": [
    {
     "data": {
      "text/plain": [
       "((128, 26), (32, 26), (41, 26))"
      ]
     },
     "execution_count": 63,
     "metadata": {},
     "output_type": "execute_result"
    }
   ],
   "source": [
    "train, test = train_test_split(\n",
    "    df, \n",
    "    train_size=0.8, \n",
    "    test_size=0.2, \n",
    "    random_state=8\n",
    ")\n",
    "\n",
    "train, validate = train_test_split(\n",
    "    train, \n",
    "    train_size=0.8, \n",
    "    test_size=0.2, \n",
    "    random_state=8\n",
    ")\n",
    "\n",
    "train.shape, validate.shape, test.shape"
   ]
  },
  {
   "cell_type": "code",
   "execution_count": 64,
   "metadata": {},
   "outputs": [
    {
     "data": {
      "text/html": [
       "<div>\n",
       "<style scoped>\n",
       "    .dataframe tbody tr th:only-of-type {\n",
       "        vertical-align: middle;\n",
       "    }\n",
       "\n",
       "    .dataframe tbody tr th {\n",
       "        vertical-align: top;\n",
       "    }\n",
       "\n",
       "    .dataframe thead th {\n",
       "        text-align: right;\n",
       "    }\n",
       "</style>\n",
       "<table border=\"1\" class=\"dataframe\">\n",
       "  <thead>\n",
       "    <tr style=\"text-align: right;\">\n",
       "      <th></th>\n",
       "      <th>symboling</th>\n",
       "      <th>norm_loss</th>\n",
       "      <th>make</th>\n",
       "      <th>fuel</th>\n",
       "      <th>aspiration</th>\n",
       "      <th>doors</th>\n",
       "      <th>bod_style</th>\n",
       "      <th>drv_wheels</th>\n",
       "      <th>eng_loc</th>\n",
       "      <th>wheel_base</th>\n",
       "      <th>...</th>\n",
       "      <th>engine_size</th>\n",
       "      <th>fuel_system</th>\n",
       "      <th>bore</th>\n",
       "      <th>stroke</th>\n",
       "      <th>compression</th>\n",
       "      <th>hp</th>\n",
       "      <th>peak_rpm</th>\n",
       "      <th>city_mpg</th>\n",
       "      <th>hgwy_mpg</th>\n",
       "      <th>price</th>\n",
       "    </tr>\n",
       "  </thead>\n",
       "  <tbody>\n",
       "    <tr>\n",
       "      <th>4</th>\n",
       "      <td>2</td>\n",
       "      <td>164</td>\n",
       "      <td>audi</td>\n",
       "      <td>gas</td>\n",
       "      <td>std</td>\n",
       "      <td>four</td>\n",
       "      <td>sedan</td>\n",
       "      <td>4wd</td>\n",
       "      <td>front</td>\n",
       "      <td>99.4</td>\n",
       "      <td>...</td>\n",
       "      <td>136</td>\n",
       "      <td>mpfi</td>\n",
       "      <td>3.19</td>\n",
       "      <td>3.40</td>\n",
       "      <td>8.0</td>\n",
       "      <td>115</td>\n",
       "      <td>5500</td>\n",
       "      <td>18</td>\n",
       "      <td>22</td>\n",
       "      <td>17450</td>\n",
       "    </tr>\n",
       "    <tr>\n",
       "      <th>159</th>\n",
       "      <td>0</td>\n",
       "      <td>91</td>\n",
       "      <td>toyota</td>\n",
       "      <td>diesel</td>\n",
       "      <td>std</td>\n",
       "      <td>four</td>\n",
       "      <td>hatchback</td>\n",
       "      <td>fwd</td>\n",
       "      <td>front</td>\n",
       "      <td>95.7</td>\n",
       "      <td>...</td>\n",
       "      <td>110</td>\n",
       "      <td>idi</td>\n",
       "      <td>3.27</td>\n",
       "      <td>3.35</td>\n",
       "      <td>22.5</td>\n",
       "      <td>56</td>\n",
       "      <td>4500</td>\n",
       "      <td>38</td>\n",
       "      <td>47</td>\n",
       "      <td>7788</td>\n",
       "    </tr>\n",
       "    <tr>\n",
       "      <th>193</th>\n",
       "      <td>0</td>\n",
       "      <td>?</td>\n",
       "      <td>volkswagen</td>\n",
       "      <td>gas</td>\n",
       "      <td>std</td>\n",
       "      <td>four</td>\n",
       "      <td>wagon</td>\n",
       "      <td>fwd</td>\n",
       "      <td>front</td>\n",
       "      <td>100.4</td>\n",
       "      <td>...</td>\n",
       "      <td>109</td>\n",
       "      <td>mpfi</td>\n",
       "      <td>3.19</td>\n",
       "      <td>3.40</td>\n",
       "      <td>9.0</td>\n",
       "      <td>88</td>\n",
       "      <td>5500</td>\n",
       "      <td>25</td>\n",
       "      <td>31</td>\n",
       "      <td>12290</td>\n",
       "    </tr>\n",
       "    <tr>\n",
       "      <th>22</th>\n",
       "      <td>1</td>\n",
       "      <td>118</td>\n",
       "      <td>dodge</td>\n",
       "      <td>gas</td>\n",
       "      <td>std</td>\n",
       "      <td>two</td>\n",
       "      <td>hatchback</td>\n",
       "      <td>fwd</td>\n",
       "      <td>front</td>\n",
       "      <td>93.7</td>\n",
       "      <td>...</td>\n",
       "      <td>90</td>\n",
       "      <td>2bbl</td>\n",
       "      <td>2.97</td>\n",
       "      <td>3.23</td>\n",
       "      <td>9.4</td>\n",
       "      <td>68</td>\n",
       "      <td>5500</td>\n",
       "      <td>31</td>\n",
       "      <td>38</td>\n",
       "      <td>6377</td>\n",
       "    </tr>\n",
       "    <tr>\n",
       "      <th>100</th>\n",
       "      <td>0</td>\n",
       "      <td>106</td>\n",
       "      <td>nissan</td>\n",
       "      <td>gas</td>\n",
       "      <td>std</td>\n",
       "      <td>four</td>\n",
       "      <td>sedan</td>\n",
       "      <td>fwd</td>\n",
       "      <td>front</td>\n",
       "      <td>97.2</td>\n",
       "      <td>...</td>\n",
       "      <td>120</td>\n",
       "      <td>2bbl</td>\n",
       "      <td>3.33</td>\n",
       "      <td>3.47</td>\n",
       "      <td>8.5</td>\n",
       "      <td>97</td>\n",
       "      <td>5200</td>\n",
       "      <td>27</td>\n",
       "      <td>34</td>\n",
       "      <td>9549</td>\n",
       "    </tr>\n",
       "  </tbody>\n",
       "</table>\n",
       "<p>5 rows × 26 columns</p>\n",
       "</div>"
      ],
      "text/plain": [
       "     symboling norm_loss        make    fuel aspiration doors  bod_style  \\\n",
       "4            2       164        audi     gas        std  four      sedan   \n",
       "159          0        91      toyota  diesel        std  four  hatchback   \n",
       "193          0         ?  volkswagen     gas        std  four      wagon   \n",
       "22           1       118       dodge     gas        std   two  hatchback   \n",
       "100          0       106      nissan     gas        std  four      sedan   \n",
       "\n",
       "    drv_wheels eng_loc  wheel_base  ...  engine_size  fuel_system  bore  \\\n",
       "4          4wd   front        99.4  ...          136         mpfi  3.19   \n",
       "159        fwd   front        95.7  ...          110          idi  3.27   \n",
       "193        fwd   front       100.4  ...          109         mpfi  3.19   \n",
       "22         fwd   front        93.7  ...           90         2bbl  2.97   \n",
       "100        fwd   front        97.2  ...          120         2bbl  3.33   \n",
       "\n",
       "     stroke compression   hp  peak_rpm city_mpg hgwy_mpg  price  \n",
       "4      3.40         8.0  115      5500       18       22  17450  \n",
       "159    3.35        22.5   56      4500       38       47   7788  \n",
       "193    3.40         9.0   88      5500       25       31  12290  \n",
       "22     3.23         9.4   68      5500       31       38   6377  \n",
       "100    3.47         8.5   97      5200       27       34   9549  \n",
       "\n",
       "[5 rows x 26 columns]"
      ]
     },
     "execution_count": 64,
     "metadata": {},
     "output_type": "execute_result"
    }
   ],
   "source": [
    "train.head()"
   ]
  },
  {
   "cell_type": "code",
   "execution_count": 65,
   "metadata": {},
   "outputs": [
    {
     "data": {
      "text/plain": [
       "Index(['symboling', 'norm_loss', 'make', 'fuel', 'aspiration', 'doors',\n",
       "       'bod_style', 'drv_wheels', 'eng_loc', 'wheel_base', 'length', 'width',\n",
       "       'height', 'curb_weight', 'engine', 'cylinders', 'engine_size',\n",
       "       'fuel_system', 'bore', 'stroke', 'compression', 'hp', 'peak_rpm',\n",
       "       'city_mpg', 'hgwy_mpg', 'price'],\n",
       "      dtype='object')"
      ]
     },
     "execution_count": 65,
     "metadata": {},
     "output_type": "execute_result"
    }
   ],
   "source": [
    "train.columns"
   ]
  },
  {
   "cell_type": "code",
   "execution_count": 66,
   "metadata": {},
   "outputs": [
    {
     "data": {
      "text/html": [
       "<div>\n",
       "<style scoped>\n",
       "    .dataframe tbody tr th:only-of-type {\n",
       "        vertical-align: middle;\n",
       "    }\n",
       "\n",
       "    .dataframe tbody tr th {\n",
       "        vertical-align: top;\n",
       "    }\n",
       "\n",
       "    .dataframe thead th {\n",
       "        text-align: right;\n",
       "    }\n",
       "</style>\n",
       "<table border=\"1\" class=\"dataframe\">\n",
       "  <thead>\n",
       "    <tr style=\"text-align: right;\">\n",
       "      <th></th>\n",
       "      <th>symboling</th>\n",
       "      <th>wheel_base</th>\n",
       "      <th>length</th>\n",
       "      <th>width</th>\n",
       "      <th>height</th>\n",
       "      <th>curb_weight</th>\n",
       "      <th>engine_size</th>\n",
       "      <th>compression</th>\n",
       "      <th>city_mpg</th>\n",
       "      <th>hgwy_mpg</th>\n",
       "    </tr>\n",
       "  </thead>\n",
       "  <tbody>\n",
       "    <tr>\n",
       "      <th>symboling</th>\n",
       "      <td>True</td>\n",
       "      <td>False</td>\n",
       "      <td>False</td>\n",
       "      <td>False</td>\n",
       "      <td>False</td>\n",
       "      <td>False</td>\n",
       "      <td>False</td>\n",
       "      <td>False</td>\n",
       "      <td>False</td>\n",
       "      <td>False</td>\n",
       "    </tr>\n",
       "    <tr>\n",
       "      <th>wheel_base</th>\n",
       "      <td>False</td>\n",
       "      <td>True</td>\n",
       "      <td>True</td>\n",
       "      <td>True</td>\n",
       "      <td>True</td>\n",
       "      <td>True</td>\n",
       "      <td>True</td>\n",
       "      <td>False</td>\n",
       "      <td>False</td>\n",
       "      <td>False</td>\n",
       "    </tr>\n",
       "    <tr>\n",
       "      <th>length</th>\n",
       "      <td>False</td>\n",
       "      <td>True</td>\n",
       "      <td>True</td>\n",
       "      <td>True</td>\n",
       "      <td>True</td>\n",
       "      <td>True</td>\n",
       "      <td>True</td>\n",
       "      <td>False</td>\n",
       "      <td>False</td>\n",
       "      <td>False</td>\n",
       "    </tr>\n",
       "    <tr>\n",
       "      <th>width</th>\n",
       "      <td>False</td>\n",
       "      <td>True</td>\n",
       "      <td>True</td>\n",
       "      <td>True</td>\n",
       "      <td>False</td>\n",
       "      <td>True</td>\n",
       "      <td>True</td>\n",
       "      <td>False</td>\n",
       "      <td>False</td>\n",
       "      <td>False</td>\n",
       "    </tr>\n",
       "    <tr>\n",
       "      <th>height</th>\n",
       "      <td>False</td>\n",
       "      <td>True</td>\n",
       "      <td>True</td>\n",
       "      <td>False</td>\n",
       "      <td>True</td>\n",
       "      <td>False</td>\n",
       "      <td>False</td>\n",
       "      <td>False</td>\n",
       "      <td>False</td>\n",
       "      <td>False</td>\n",
       "    </tr>\n",
       "    <tr>\n",
       "      <th>curb_weight</th>\n",
       "      <td>False</td>\n",
       "      <td>True</td>\n",
       "      <td>True</td>\n",
       "      <td>True</td>\n",
       "      <td>False</td>\n",
       "      <td>True</td>\n",
       "      <td>True</td>\n",
       "      <td>False</td>\n",
       "      <td>False</td>\n",
       "      <td>False</td>\n",
       "    </tr>\n",
       "    <tr>\n",
       "      <th>engine_size</th>\n",
       "      <td>False</td>\n",
       "      <td>True</td>\n",
       "      <td>True</td>\n",
       "      <td>True</td>\n",
       "      <td>False</td>\n",
       "      <td>True</td>\n",
       "      <td>True</td>\n",
       "      <td>False</td>\n",
       "      <td>False</td>\n",
       "      <td>False</td>\n",
       "    </tr>\n",
       "    <tr>\n",
       "      <th>compression</th>\n",
       "      <td>False</td>\n",
       "      <td>False</td>\n",
       "      <td>False</td>\n",
       "      <td>False</td>\n",
       "      <td>False</td>\n",
       "      <td>False</td>\n",
       "      <td>False</td>\n",
       "      <td>True</td>\n",
       "      <td>False</td>\n",
       "      <td>False</td>\n",
       "    </tr>\n",
       "    <tr>\n",
       "      <th>city_mpg</th>\n",
       "      <td>False</td>\n",
       "      <td>False</td>\n",
       "      <td>False</td>\n",
       "      <td>False</td>\n",
       "      <td>False</td>\n",
       "      <td>False</td>\n",
       "      <td>False</td>\n",
       "      <td>False</td>\n",
       "      <td>True</td>\n",
       "      <td>True</td>\n",
       "    </tr>\n",
       "    <tr>\n",
       "      <th>hgwy_mpg</th>\n",
       "      <td>False</td>\n",
       "      <td>False</td>\n",
       "      <td>False</td>\n",
       "      <td>False</td>\n",
       "      <td>False</td>\n",
       "      <td>False</td>\n",
       "      <td>False</td>\n",
       "      <td>False</td>\n",
       "      <td>True</td>\n",
       "      <td>True</td>\n",
       "    </tr>\n",
       "  </tbody>\n",
       "</table>\n",
       "</div>"
      ],
      "text/plain": [
       "             symboling  wheel_base  length  width  height  curb_weight  \\\n",
       "symboling         True       False   False  False   False        False   \n",
       "wheel_base       False        True    True   True    True         True   \n",
       "length           False        True    True   True    True         True   \n",
       "width            False        True    True   True   False         True   \n",
       "height           False        True    True  False    True        False   \n",
       "curb_weight      False        True    True   True   False         True   \n",
       "engine_size      False        True    True   True   False         True   \n",
       "compression      False       False   False  False   False        False   \n",
       "city_mpg         False       False   False  False   False        False   \n",
       "hgwy_mpg         False       False   False  False   False        False   \n",
       "\n",
       "             engine_size  compression  city_mpg  hgwy_mpg  \n",
       "symboling          False        False     False     False  \n",
       "wheel_base          True        False     False     False  \n",
       "length              True        False     False     False  \n",
       "width               True        False     False     False  \n",
       "height             False        False     False     False  \n",
       "curb_weight         True        False     False     False  \n",
       "engine_size         True        False     False     False  \n",
       "compression        False         True     False     False  \n",
       "city_mpg           False        False      True      True  \n",
       "hgwy_mpg           False        False      True      True  "
      ]
     },
     "execution_count": 66,
     "metadata": {},
     "output_type": "execute_result"
    }
   ],
   "source": [
    "train.corr() > 0.5"
   ]
  },
  {
   "cell_type": "code",
   "execution_count": 67,
   "metadata": {},
   "outputs": [
    {
     "data": {
      "text/plain": [
       "symboling      0\n",
       "norm_loss      0\n",
       "make           0\n",
       "fuel           0\n",
       "aspiration     0\n",
       "doors          0\n",
       "bod_style      0\n",
       "drv_wheels     0\n",
       "eng_loc        0\n",
       "wheel_base     0\n",
       "length         0\n",
       "width          0\n",
       "height         0\n",
       "curb_weight    0\n",
       "engine         0\n",
       "cylinders      0\n",
       "engine_size    0\n",
       "fuel_system    0\n",
       "bore           0\n",
       "stroke         0\n",
       "compression    0\n",
       "hp             0\n",
       "peak_rpm       0\n",
       "city_mpg       0\n",
       "hgwy_mpg       0\n",
       "price          0\n",
       "dtype: int64"
      ]
     },
     "execution_count": 67,
     "metadata": {},
     "output_type": "execute_result"
    }
   ],
   "source": [
    "train.isna().sum()"
   ]
  },
  {
   "cell_type": "code",
   "execution_count": 68,
   "metadata": {},
   "outputs": [
    {
     "data": {
      "text/plain": [
       "symboling        int64\n",
       "norm_loss       object\n",
       "make            object\n",
       "fuel            object\n",
       "aspiration      object\n",
       "doors           object\n",
       "bod_style       object\n",
       "drv_wheels      object\n",
       "eng_loc         object\n",
       "wheel_base     float64\n",
       "length         float64\n",
       "width          float64\n",
       "height         float64\n",
       "curb_weight      int64\n",
       "engine          object\n",
       "cylinders       object\n",
       "engine_size      int64\n",
       "fuel_system     object\n",
       "bore            object\n",
       "stroke          object\n",
       "compression    float64\n",
       "hp              object\n",
       "peak_rpm        object\n",
       "city_mpg         int64\n",
       "hgwy_mpg         int64\n",
       "price           object\n",
       "dtype: object"
      ]
     },
     "execution_count": 68,
     "metadata": {},
     "output_type": "execute_result"
    }
   ],
   "source": [
    "train.dtypes"
   ]
  },
  {
   "cell_type": "code",
   "execution_count": 45,
   "metadata": {},
   "outputs": [
    {
     "data": {
      "text/plain": [
       "24     148\n",
       "155     91\n",
       "165    168\n",
       "46       ?\n",
       "147     89\n",
       "Name: norm_loss, dtype: object"
      ]
     },
     "execution_count": 45,
     "metadata": {},
     "output_type": "execute_result"
    }
   ],
   "source": [
    "train[\"norm_loss\"].head() #Should be numeric"
   ]
  },
  {
   "cell_type": "code",
   "execution_count": 60,
   "metadata": {},
   "outputs": [
    {
     "data": {
      "text/plain": [
       "?      24\n",
       "161     9\n",
       "134     5\n",
       "85      5\n",
       "91      5\n",
       "74      4\n",
       "168     4\n",
       "150     4\n",
       "128     4\n",
       "104     4\n",
       "95      3\n",
       "115     3\n",
       "103     3\n",
       "154     3\n",
       "122     3\n",
       "125     3\n",
       "110     2\n",
       "81      2\n",
       "106     2\n",
       "119     2\n",
       "194     2\n",
       "101     2\n",
       "113     2\n",
       "137     2\n",
       "118     2\n",
       "129     2\n",
       "102     2\n",
       "83      2\n",
       "192     2\n",
       "77      1\n",
       "142     1\n",
       "78      1\n",
       "153     1\n",
       "94      1\n",
       "148     1\n",
       "93      1\n",
       "158     1\n",
       "65      1\n",
       "87      1\n",
       "188     1\n",
       "197     1\n",
       "89      1\n",
       "98      1\n",
       "108     1\n",
       "121     1\n",
       "145     1\n",
       "186     1\n",
       "231     1\n",
       "Name: norm_loss, dtype: int64"
      ]
     },
     "execution_count": 60,
     "metadata": {},
     "output_type": "execute_result"
    }
   ],
   "source": [
    "train[\"norm_loss\"].value_counts() #Replace ? with np.NaN"
   ]
  },
  {
   "cell_type": "code",
   "execution_count": 46,
   "metadata": {},
   "outputs": [
    {
     "data": {
      "text/plain": [
       "24      dodge\n",
       "155    toyota\n",
       "165    toyota\n",
       "46      isuzu\n",
       "147    subaru\n",
       "Name: make, dtype: object"
      ]
     },
     "execution_count": 46,
     "metadata": {},
     "output_type": "execute_result"
    }
   ],
   "source": [
    "train[\"make\"].head() #Object is fine"
   ]
  },
  {
   "cell_type": "code",
   "execution_count": 61,
   "metadata": {},
   "outputs": [
    {
     "data": {
      "text/plain": [
       "toyota           19\n",
       "mazda            13\n",
       "nissan           12\n",
       "honda            10\n",
       "mitsubishi        9\n",
       "subaru            7\n",
       "peugot            7\n",
       "plymouth          7\n",
       "volkswagen        6\n",
       "volvo             6\n",
       "dodge             5\n",
       "bmw               5\n",
       "mercedes-benz     5\n",
       "saab              4\n",
       "porsche           3\n",
       "isuzu             3\n",
       "chevrolet         3\n",
       "audi              3\n",
       "jaguar            2\n",
       "alfa-romero       1\n",
       "renault           1\n",
       "Name: make, dtype: int64"
      ]
     },
     "execution_count": 61,
     "metadata": {},
     "output_type": "execute_result"
    }
   ],
   "source": [
    "train[\"make\"].value_counts()"
   ]
  },
  {
   "cell_type": "code",
   "execution_count": 47,
   "metadata": {},
   "outputs": [
    {
     "data": {
      "text/plain": [
       "24     gas\n",
       "155    gas\n",
       "165    gas\n",
       "46     gas\n",
       "147    gas\n",
       "Name: fuel, dtype: object"
      ]
     },
     "execution_count": 47,
     "metadata": {},
     "output_type": "execute_result"
    }
   ],
   "source": [
    "train[\"fuel\"].head() #Object is fine"
   ]
  },
  {
   "cell_type": "code",
   "execution_count": 62,
   "metadata": {},
   "outputs": [
    {
     "data": {
      "text/plain": [
       "gas       120\n",
       "diesel     11\n",
       "Name: fuel, dtype: int64"
      ]
     },
     "execution_count": 62,
     "metadata": {},
     "output_type": "execute_result"
    }
   ],
   "source": [
    "train[\"fuel\"].value_counts()"
   ]
  },
  {
   "cell_type": "code",
   "execution_count": 48,
   "metadata": {},
   "outputs": [
    {
     "data": {
      "text/plain": [
       "24     std\n",
       "155    std\n",
       "165    std\n",
       "46     std\n",
       "147    std\n",
       "Name: aspiration, dtype: object"
      ]
     },
     "execution_count": 48,
     "metadata": {},
     "output_type": "execute_result"
    }
   ],
   "source": [
    "train[\"aspiration\"].head() #Object is fine"
   ]
  },
  {
   "cell_type": "code",
   "execution_count": 63,
   "metadata": {},
   "outputs": [
    {
     "data": {
      "text/plain": [
       "std      110\n",
       "turbo     21\n",
       "Name: aspiration, dtype: int64"
      ]
     },
     "execution_count": 63,
     "metadata": {},
     "output_type": "execute_result"
    }
   ],
   "source": [
    "train[\"aspiration\"].value_counts()"
   ]
  },
  {
   "cell_type": "code",
   "execution_count": 49,
   "metadata": {},
   "outputs": [
    {
     "data": {
      "text/plain": [
       "24     four\n",
       "155    four\n",
       "165     two\n",
       "46      two\n",
       "147    four\n",
       "Name: doors, dtype: object"
      ]
     },
     "execution_count": 49,
     "metadata": {},
     "output_type": "execute_result"
    }
   ],
   "source": [
    "train[\"doors\"].head() #Object is fine"
   ]
  },
  {
   "cell_type": "code",
   "execution_count": 67,
   "metadata": {},
   "outputs": [
    {
     "data": {
      "text/plain": [
       "four    71\n",
       "two     59\n",
       "?        1\n",
       "Name: doors, dtype: int64"
      ]
     },
     "execution_count": 67,
     "metadata": {},
     "output_type": "execute_result"
    }
   ],
   "source": [
    "train[\"doors\"].value_counts() #Replace? with np.NaN"
   ]
  },
  {
   "cell_type": "code",
   "execution_count": 50,
   "metadata": {},
   "outputs": [
    {
     "data": {
      "text/plain": [
       "24     hatchback\n",
       "155        wagon\n",
       "165        sedan\n",
       "46     hatchback\n",
       "147        wagon\n",
       "Name: bod_style, dtype: object"
      ]
     },
     "execution_count": 50,
     "metadata": {},
     "output_type": "execute_result"
    }
   ],
   "source": [
    "train[\"bod_style\"].head() #Object is fine"
   ]
  },
  {
   "cell_type": "code",
   "execution_count": 65,
   "metadata": {},
   "outputs": [
    {
     "data": {
      "text/plain": [
       "sedan          63\n",
       "hatchback      46\n",
       "wagon          15\n",
       "hardtop         5\n",
       "convertible     2\n",
       "Name: bod_style, dtype: int64"
      ]
     },
     "execution_count": 65,
     "metadata": {},
     "output_type": "execute_result"
    }
   ],
   "source": [
    "train[\"bod_style\"].value_counts()"
   ]
  },
  {
   "cell_type": "code",
   "execution_count": 51,
   "metadata": {},
   "outputs": [
    {
     "data": {
      "text/plain": [
       "24     front\n",
       "155    front\n",
       "165    front\n",
       "46     front\n",
       "147    front\n",
       "Name: eng_loc, dtype: object"
      ]
     },
     "execution_count": 51,
     "metadata": {},
     "output_type": "execute_result"
    }
   ],
   "source": [
    "train[\"eng_loc\"].head() #Object is fine"
   ]
  },
  {
   "cell_type": "code",
   "execution_count": 66,
   "metadata": {},
   "outputs": [
    {
     "data": {
      "text/plain": [
       "front    130\n",
       "rear       1\n",
       "Name: eng_loc, dtype: int64"
      ]
     },
     "execution_count": 66,
     "metadata": {},
     "output_type": "execute_result"
    }
   ],
   "source": [
    "train[\"eng_loc\"].value_counts()"
   ]
  },
  {
   "cell_type": "code",
   "execution_count": 52,
   "metadata": {},
   "outputs": [
    {
     "data": {
      "text/plain": [
       "24      ohc\n",
       "155     ohc\n",
       "165    dohc\n",
       "46      ohc\n",
       "147    ohcf\n",
       "Name: engine, dtype: object"
      ]
     },
     "execution_count": 52,
     "metadata": {},
     "output_type": "execute_result"
    }
   ],
   "source": [
    "train[\"engine\"].head() #Object is fine"
   ]
  },
  {
   "cell_type": "code",
   "execution_count": 68,
   "metadata": {},
   "outputs": [
    {
     "data": {
      "text/plain": [
       "ohc      93\n",
       "ohcv     12\n",
       "l         8\n",
       "ohcf      8\n",
       "dohc      6\n",
       "rotor     3\n",
       "dohcv     1\n",
       "Name: engine, dtype: int64"
      ]
     },
     "execution_count": 68,
     "metadata": {},
     "output_type": "execute_result"
    }
   ],
   "source": [
    "train[\"engine\"].value_counts()"
   ]
  },
  {
   "cell_type": "code",
   "execution_count": 53,
   "metadata": {},
   "outputs": [
    {
     "data": {
      "text/plain": [
       "24     four\n",
       "155    four\n",
       "165    four\n",
       "46     four\n",
       "147    four\n",
       "Name: cylinders, dtype: object"
      ]
     },
     "execution_count": 53,
     "metadata": {},
     "output_type": "execute_result"
    }
   ],
   "source": [
    "train[\"cylinders\"].head() #Object is fine"
   ]
  },
  {
   "cell_type": "code",
   "execution_count": 69,
   "metadata": {},
   "outputs": [
    {
     "data": {
      "text/plain": [
       "four      102\n",
       "six        14\n",
       "eight       5\n",
       "five        5\n",
       "two         3\n",
       "three       1\n",
       "twelve      1\n",
       "Name: cylinders, dtype: int64"
      ]
     },
     "execution_count": 69,
     "metadata": {},
     "output_type": "execute_result"
    }
   ],
   "source": [
    "train[\"cylinders\"].value_counts()"
   ]
  },
  {
   "cell_type": "code",
   "execution_count": 54,
   "metadata": {},
   "outputs": [
    {
     "data": {
      "text/plain": [
       "24     2bbl\n",
       "155    2bbl\n",
       "165    mpfi\n",
       "46     spfi\n",
       "147    mpfi\n",
       "Name: fuel_system, dtype: object"
      ]
     },
     "execution_count": 54,
     "metadata": {},
     "output_type": "execute_result"
    }
   ],
   "source": [
    "train[\"fuel_system\"].head() #Object is fine"
   ]
  },
  {
   "cell_type": "code",
   "execution_count": 70,
   "metadata": {},
   "outputs": [
    {
     "data": {
      "text/plain": [
       "mpfi    54\n",
       "2bbl    47\n",
       "idi     11\n",
       "1bbl     9\n",
       "spdi     6\n",
       "4bbl     2\n",
       "spfi     1\n",
       "mfi      1\n",
       "Name: fuel_system, dtype: int64"
      ]
     },
     "execution_count": 70,
     "metadata": {},
     "output_type": "execute_result"
    }
   ],
   "source": [
    "train[\"fuel_system\"].value_counts()"
   ]
  },
  {
   "cell_type": "code",
   "execution_count": 55,
   "metadata": {},
   "outputs": [
    {
     "data": {
      "text/plain": [
       "24     2.97\n",
       "155    3.05\n",
       "165    3.24\n",
       "46     3.43\n",
       "147    3.62\n",
       "Name: bore, dtype: object"
      ]
     },
     "execution_count": 55,
     "metadata": {},
     "output_type": "execute_result"
    }
   ],
   "source": [
    "train[\"bore\"].head() #Should be numeric"
   ]
  },
  {
   "cell_type": "code",
   "execution_count": 71,
   "metadata": {},
   "outputs": [
    {
     "data": {
      "text/plain": [
       "3.62    15\n",
       "3.15    12\n",
       "2.97    10\n",
       "3.19     9\n",
       "3.43     7\n",
       "3.39     6\n",
       "3.46     6\n",
       "3.03     6\n",
       "2.91     5\n",
       "3.05     5\n",
       "3.54     5\n",
       "3.01     4\n",
       "3.70     3\n",
       "3.31     3\n",
       "3.35     3\n",
       "?        3\n",
       "3.17     3\n",
       "3.78     3\n",
       "3.80     2\n",
       "3.58     2\n",
       "3.50     2\n",
       "3.27     2\n",
       "3.24     2\n",
       "3.94     2\n",
       "3.59     2\n",
       "3.61     1\n",
       "3.34     1\n",
       "3.60     1\n",
       "2.92     1\n",
       "2.68     1\n",
       "3.74     1\n",
       "3.63     1\n",
       "3.13     1\n",
       "3.08     1\n",
       "Name: bore, dtype: int64"
      ]
     },
     "execution_count": 71,
     "metadata": {},
     "output_type": "execute_result"
    }
   ],
   "source": [
    "train[\"bore\"].value_counts() #Replace ? with np.NaN"
   ]
  },
  {
   "cell_type": "code",
   "execution_count": 56,
   "metadata": {},
   "outputs": [
    {
     "data": {
      "text/plain": [
       "24     3.23\n",
       "155    3.03\n",
       "165    3.08\n",
       "46     3.23\n",
       "147    2.64\n",
       "Name: stroke, dtype: object"
      ]
     },
     "execution_count": 56,
     "metadata": {},
     "output_type": "execute_result"
    }
   ],
   "source": [
    "train[\"stroke\"].head() #Should be numeric"
   ]
  },
  {
   "cell_type": "code",
   "execution_count": 72,
   "metadata": {},
   "outputs": [
    {
     "data": {
      "text/plain": [
       "3.23    12\n",
       "3.03    10\n",
       "3.40    10\n",
       "3.39     9\n",
       "3.15     7\n",
       "3.29     7\n",
       "3.46     7\n",
       "2.64     6\n",
       "3.11     5\n",
       "3.50     5\n",
       "3.07     5\n",
       "3.27     5\n",
       "3.58     5\n",
       "3.19     4\n",
       "3.35     4\n",
       "3.41     4\n",
       "3.52     3\n",
       "?        3\n",
       "3.86     2\n",
       "3.10     2\n",
       "3.90     2\n",
       "3.64     2\n",
       "3.08     2\n",
       "2.80     2\n",
       "4.17     1\n",
       "3.21     1\n",
       "2.87     1\n",
       "2.90     1\n",
       "3.54     1\n",
       "3.47     1\n",
       "2.36     1\n",
       "2.76     1\n",
       "Name: stroke, dtype: int64"
      ]
     },
     "execution_count": 72,
     "metadata": {},
     "output_type": "execute_result"
    }
   ],
   "source": [
    "train[\"stroke\"].value_counts() #Replace ? with np.NaN"
   ]
  },
  {
   "cell_type": "code",
   "execution_count": 57,
   "metadata": {},
   "outputs": [
    {
     "data": {
      "text/plain": [
       "24      68\n",
       "155     62\n",
       "165    112\n",
       "46      90\n",
       "147     94\n",
       "Name: hp, dtype: object"
      ]
     },
     "execution_count": 57,
     "metadata": {},
     "output_type": "execute_result"
    }
   ],
   "source": [
    "train[\"hp\"].head() #Should be numeric"
   ]
  },
  {
   "cell_type": "code",
   "execution_count": 73,
   "metadata": {},
   "outputs": [
    {
     "data": {
      "text/plain": [
       "68     14\n",
       "116     8\n",
       "69      8\n",
       "70      7\n",
       "160     6\n",
       "84      5\n",
       "101     5\n",
       "62      5\n",
       "110     5\n",
       "88      5\n",
       "86      4\n",
       "97      3\n",
       "145     3\n",
       "76      3\n",
       "95      3\n",
       "184     2\n",
       "112     2\n",
       "52      2\n",
       "82      2\n",
       "155     2\n",
       "114     2\n",
       "182     2\n",
       "152     2\n",
       "111     2\n",
       "200     1\n",
       "134     1\n",
       "162     1\n",
       "288     1\n",
       "154     1\n",
       "90      1\n",
       "?       1\n",
       "85      1\n",
       "207     1\n",
       "64      1\n",
       "143     1\n",
       "135     1\n",
       "92      1\n",
       "161     1\n",
       "78      1\n",
       "72      1\n",
       "123     1\n",
       "262     1\n",
       "60      1\n",
       "102     1\n",
       "142     1\n",
       "176     1\n",
       "48      1\n",
       "94      1\n",
       "56      1\n",
       "58      1\n",
       "106     1\n",
       "121     1\n",
       "73      1\n",
       "Name: hp, dtype: int64"
      ]
     },
     "execution_count": 73,
     "metadata": {},
     "output_type": "execute_result"
    }
   ],
   "source": [
    "train[\"hp\"].value_counts() #Replace ? with np.NaN"
   ]
  },
  {
   "cell_type": "code",
   "execution_count": 59,
   "metadata": {},
   "outputs": [
    {
     "data": {
      "text/plain": [
       "24     5500\n",
       "155    4800\n",
       "165    6600\n",
       "46     5000\n",
       "147    5200\n",
       "Name: peak_rpm, dtype: object"
      ]
     },
     "execution_count": 59,
     "metadata": {},
     "output_type": "execute_result"
    }
   ],
   "source": [
    "train[\"peak_rpm\"].head() #Should be numeric"
   ]
  },
  {
   "cell_type": "code",
   "execution_count": 74,
   "metadata": {},
   "outputs": [
    {
     "data": {
      "text/plain": [
       "4800    28\n",
       "5500    24\n",
       "5000    16\n",
       "5200    14\n",
       "5800     7\n",
       "5400     7\n",
       "6000     6\n",
       "4500     4\n",
       "5250     3\n",
       "4750     3\n",
       "4150     3\n",
       "5100     2\n",
       "6600     2\n",
       "4200     2\n",
       "4650     1\n",
       "4400     1\n",
       "4250     1\n",
       "5600     1\n",
       "5300     1\n",
       "5900     1\n",
       "4900     1\n",
       "5750     1\n",
       "?        1\n",
       "4350     1\n",
       "Name: peak_rpm, dtype: int64"
      ]
     },
     "execution_count": 74,
     "metadata": {},
     "output_type": "execute_result"
    }
   ],
   "source": [
    "train[\"peak_rpm\"].value_counts() #Replace ? with np.NaN"
   ]
  },
  {
   "cell_type": "code",
   "execution_count": 58,
   "metadata": {},
   "outputs": [
    {
     "data": {
      "text/plain": [
       "24      6229\n",
       "155     8778\n",
       "165     9298\n",
       "46     11048\n",
       "147    10198\n",
       "Name: price, dtype: object"
      ]
     },
     "execution_count": 58,
     "metadata": {},
     "output_type": "execute_result"
    }
   ],
   "source": [
    "train[\"price\"].head() #Should be numeric"
   ]
  },
  {
   "cell_type": "code",
   "execution_count": 76,
   "metadata": {},
   "outputs": [
    {
     "data": {
      "text/plain": [
       "?        3\n",
       "9279     2\n",
       "7898     2\n",
       "7295     2\n",
       "8845     2\n",
       "        ..\n",
       "13845    1\n",
       "6918     1\n",
       "6989     1\n",
       "11048    1\n",
       "6377     1\n",
       "Name: price, Length: 120, dtype: int64"
      ]
     },
     "execution_count": 76,
     "metadata": {},
     "output_type": "execute_result"
    }
   ],
   "source": [
    "train[\"price\"].value_counts() #Replace ? with np.NaN"
   ]
  },
  {
   "cell_type": "code",
   "execution_count": 69,
   "metadata": {},
   "outputs": [],
   "source": [
    "def wrangle(df):\n",
    "    \n",
    "    df = df.replace(\n",
    "        \"?\",\n",
    "        np.NaN\n",
    "    )\n",
    "\n",
    "    columns_to_convert = [\n",
    "        \"norm_loss\", \n",
    "        \"bore\", \n",
    "        \"stroke\",\n",
    "        \"hp\", \n",
    "        \"peak_rpm\",\n",
    "        \"price\"\n",
    "    ]\n",
    "    \n",
    "    for column in columns_to_convert:\n",
    "        \n",
    "        df[column] = df[column].astype(float)\n",
    "        \n",
    "    df.drop(\n",
    "        [\"city_mpg\"],\n",
    "        axis=1, \n",
    "        inplace=True\n",
    "    )\n",
    "    \n",
    "    skewed_columns = (train.skew() >= 1).index.tolist()\n",
    "    \n",
    "    \n",
    "    return df\n",
    "    "
   ]
  },
  {
   "cell_type": "code",
   "execution_count": 70,
   "metadata": {},
   "outputs": [],
   "source": [
    "train_wrangled = wrangle(train)\n",
    "validate_wrangled = wrangle(validate)\n",
    "test_wrangled = wrangle(test)"
   ]
  },
  {
   "cell_type": "code",
   "execution_count": 71,
   "metadata": {},
   "outputs": [],
   "source": [
    "target = \"price\"\n",
    "\n",
    "features = train_wrangled.columns.drop([target])"
   ]
  },
  {
   "cell_type": "code",
   "execution_count": 72,
   "metadata": {},
   "outputs": [
    {
     "name": "stdout",
     "output_type": "stream",
     "text": [
      "Guess the mean for all values: 13207.129353233831 dollars/month\n",
      "If we just guessed every price for $13,207, we would be off by $5,841 on average.\n"
     ]
    }
   ],
   "source": [
    "guess = df[\"price\"].replace(\"?\",np.NaN).astype(float).mean()\n",
    "print(\"Guess the mean for all values:\", guess, \"dollars/month\")\n",
    "\n",
    "errors = guess - df[\"price\"].replace(\"?\",np.NaN).astype(float)\n",
    "mean_absolute_error = errors.abs().mean()\n",
    "\n",
    "print(f'If we just guessed every price for ${guess:,.0f}, we would be off by ${mean_absolute_error:,.0f} on average.')"
   ]
  },
  {
   "cell_type": "code",
   "execution_count": 84,
   "metadata": {},
   "outputs": [],
   "source": [
    "X_train = train_wrangled[features]\n",
    "y_train = train_wrangled[target]\n",
    "X_validate = validate_wrangled[features]\n",
    "y_validate = validate_wrangled[target]\n",
    "X_test = test_wrangled[features]\n",
    "y_test = test_wrangled[target]\n",
    "\n",
    "\n",
    "from sklearn.linear_model import LinearRegression\n",
    "from sklearn.metrics import classification_report\n",
    "from sklearn.impute import SimpleImputer\n",
    "from sklearn.metrics import r2_score"
   ]
  },
  {
   "cell_type": "code",
   "execution_count": null,
   "metadata": {},
   "outputs": [],
   "source": []
  },
  {
   "cell_type": "code",
   "execution_count": 86,
   "metadata": {},
   "outputs": [],
   "source": [
    "# Make pipeline\n",
    "pipeline = make_pipeline(\n",
    "    ce.OrdinalEncoder(), \n",
    "    SimpleImputer(),\n",
    "    StandardScaler(), \n",
    "    LinearRegression()\n",
    ")"
   ]
  },
  {
   "cell_type": "code",
   "execution_count": 87,
   "metadata": {},
   "outputs": [
    {
     "name": "stdout",
     "output_type": "stream",
     "text": [
      "\n",
      " 0.4729779927868908\n"
     ]
    }
   ],
   "source": [
    "pipeline.fit(\n",
    "    X_train, \n",
    "    y_train\n",
    ")\n",
    "\n",
    "y_pred = pipeline.predict(\n",
    "    X_validate\n",
    ")\n",
    "\n",
    "print(\n",
    "    \"\\n\",\n",
    "    r2_score(\n",
    "          y_validate, \n",
    "          y_pred\n",
    "    )\n",
    ")"
   ]
  },
  {
   "cell_type": "code",
   "execution_count": 88,
   "metadata": {},
   "outputs": [
    {
     "name": "stdout",
     "output_type": "stream",
     "text": [
      "\n",
      " 0.865358713456198\n"
     ]
    }
   ],
   "source": [
    "from sklearn.tree import DecisionTreeRegressor\n",
    "\n",
    "# Make pipeline\n",
    "pipeline = make_pipeline(\n",
    "    ce.OrdinalEncoder(), \n",
    "    SimpleImputer(),\n",
    "    StandardScaler(), \n",
    "    DecisionTreeRegressor()\n",
    ")\n",
    "\n",
    "pipeline.fit(\n",
    "    X_train, \n",
    "    y_train\n",
    ")\n",
    "\n",
    "y_pred = pipeline.predict(\n",
    "    X_validate\n",
    ")\n",
    "\n",
    "print(\n",
    "    \"\\n\",\n",
    "    r2_score(\n",
    "          y_validate, \n",
    "          y_pred\n",
    "    )\n",
    ")"
   ]
  },
  {
   "cell_type": "code",
   "execution_count": 91,
   "metadata": {},
   "outputs": [
    {
     "name": "stdout",
     "output_type": "stream",
     "text": [
      "\n",
      " 0.959589731829623\n"
     ]
    }
   ],
   "source": [
    "from sklearn.ensemble import RandomForestRegressor\n",
    "\n",
    "# Make pipeline\n",
    "pipeline = make_pipeline(\n",
    "    ce.OrdinalEncoder(), \n",
    "    SimpleImputer(),\n",
    "    StandardScaler(), \n",
    "    RandomForestRegressor()\n",
    ")\n",
    "\n",
    "pipeline.fit(\n",
    "    X_train, \n",
    "    y_train\n",
    ")\n",
    "\n",
    "y_pred = pipeline.predict(\n",
    "    X_validate\n",
    ")\n",
    "\n",
    "print(\n",
    "    \"\\n\",\n",
    "    r2_score(\n",
    "          y_validate, \n",
    "          y_pred\n",
    "    )\n",
    ")"
   ]
  },
  {
   "cell_type": "markdown",
   "metadata": {
    "colab_type": "text",
    "id": "27WffCRfwj2W"
   },
   "source": [
    "# Model Building"
   ]
  },
  {
   "cell_type": "markdown",
   "metadata": {
    "colab_type": "text",
    "id": "aHfHMxluw170"
   },
   "source": [
    "**Bagging** - `Your Answer Here`\n",
    "\n",
    "**Boosting** - `Your Answer Here`\n",
    "\n",
    "**Gradient Boosting** - `Your Answer Here`\n",
    "\n",
    "**Monotonic Function** - `Your Answer Here`\n",
    "\n",
    "**Hyperparameter Tuning** - `Your Answer Here`\n",
    "\n",
    "**Pipeline** - `Your Answer Here`\n",
    "\n",
    "**Overfitting** - `Your Answer Here`"
   ]
  },
  {
   "cell_type": "markdown",
   "metadata": {
    "colab_type": "text",
    "id": "r60lx5Ohxh3g"
   },
   "source": [
    "Using your cleaned up dataframe above, build a model and score it with an appropriate metric and cross validation."
   ]
  },
  {
   "cell_type": "markdown",
   "metadata": {
    "colab_type": "text",
    "id": "lP_dfkJ_0xIx"
   },
   "source": [
    "How do you know if your model is overfitting?\n",
    "\n",
    "```\n",
    "Your Answer Here\n",
    "```"
   ]
  },
  {
   "cell_type": "markdown",
   "metadata": {
    "colab_type": "text",
    "id": "vQ4hFlg6yVDt"
   },
   "source": [
    "# Model Interpretation"
   ]
  },
  {
   "cell_type": "markdown",
   "metadata": {
    "colab_type": "text",
    "id": "nBTAS3aHybAH"
   },
   "source": [
    "**Confusion Matrix** - `a specific table layout that allows visualization of the performance of an algorithm (wiki)`\n",
    "\n",
    "**Permutation Importance** - `the decrease in a model score when a single feature value is randomly shuffled (sklearn)`\n",
    "\n",
    "**Partial Dependence Plot** - `depicts the functional relationship between a small number of input variables and predictions (sas)`\n",
    "\n",
    "**Shapley Values** - `An approach to explain the individual predictions of a machine learning model `\n",
    "\n",
    "**Drop Column Importance** - `Investigating model feature importance through dropping column and running model`"
   ]
  },
  {
   "cell_type": "markdown",
   "metadata": {
    "colab_type": "text",
    "id": "Pf_KSdzazg5y"
   },
   "source": [
    "Use the model you trained above or the classification model provided to complete the following. Create each of the visuals below and then explain how they help you interpret and/or refine your model."
   ]
  },
  {
   "cell_type": "code",
   "execution_count": 94,
   "metadata": {
    "colab": {},
    "colab_type": "code",
    "id": "WkEx71wz8jfp"
   },
   "outputs": [],
   "source": [
    "bank = pd.read_csv('https://raw.githubusercontent.com/bundickm/Study-Guides/master/data/bank.csv')\n",
    "bank.head()\n",
    "\n",
    "# Assign to X, y\n",
    "X = bank.drop(columns='y')\n",
    "y = bank['y'] == 'yes'\n",
    "\n",
    "# Drop leaky feature\n",
    "X = X.drop(columns='duration')\n",
    "\n",
    "# Split Train, Test\n",
    "X_train, X_test, y_train, y_test = train_test_split(\n",
    "    X, y, test_size=0.2, random_state=42, stratify=y)\n",
    "\n",
    "# Make pipeline\n",
    "pipeline = make_pipeline(\n",
    "    ce.OneHotEncoder(use_cat_names=True), \n",
    "    StandardScaler(), \n",
    "    LogisticRegression(solver='lbfgs', max_iter=1000)\n",
    ")\n",
    "\n",
    "# Predict\n",
    "y_pred_proba = cross_val_predict(pipeline, X_train, y_train, cv=3, n_jobs=-1, \n",
    "                                 method='predict_proba')[:,1]"
   ]
  },
  {
   "cell_type": "markdown",
   "metadata": {
    "colab_type": "text",
    "id": "ljfGic1p26_-"
   },
   "source": [
    "### Shapley Values"
   ]
  },
  {
   "cell_type": "code",
   "execution_count": null,
   "metadata": {
    "colab": {},
    "colab_type": "code",
    "id": "8MrXtM0Y21U5"
   },
   "outputs": [],
   "source": []
  },
  {
   "cell_type": "markdown",
   "metadata": {
    "colab_type": "text",
    "id": "nVGlDZCN3FlN"
   },
   "source": [
    "How does the above visual help you to interpret or refine your model?\n",
    "\n",
    "```\n",
    "Your Answer Here\n",
    "```"
   ]
  },
  {
   "cell_type": "markdown",
   "metadata": {
    "colab_type": "text",
    "id": "3azurg3h3PjV"
   },
   "source": [
    "### Partial Dependence Plot"
   ]
  },
  {
   "cell_type": "code",
   "execution_count": null,
   "metadata": {
    "colab": {},
    "colab_type": "code",
    "id": "qGGkwDJj3Te2"
   },
   "outputs": [],
   "source": [
    "# PDP, 1 Feature Isolation"
   ]
  },
  {
   "cell_type": "code",
   "execution_count": null,
   "metadata": {
    "colab": {},
    "colab_type": "code",
    "id": "r8j-eQW53YlU"
   },
   "outputs": [],
   "source": [
    "# PDP, 2 Feature Interaction"
   ]
  },
  {
   "cell_type": "markdown",
   "metadata": {
    "colab_type": "text",
    "id": "FBNRqOkq3hVt"
   },
   "source": [
    "How does the above visual help you to interpret or refine your model?\n",
    "\n",
    "```\n",
    "Your Answer Here\n",
    "```"
   ]
  },
  {
   "cell_type": "markdown",
   "metadata": {
    "colab_type": "text",
    "id": "sNK09t-33kE8"
   },
   "source": [
    "### Confusion Matrix"
   ]
  },
  {
   "cell_type": "code",
   "execution_count": null,
   "metadata": {
    "colab": {},
    "colab_type": "code",
    "id": "VjdiG-kB3mTF"
   },
   "outputs": [],
   "source": []
  },
  {
   "cell_type": "markdown",
   "metadata": {
    "colab_type": "text",
    "id": "WdhdUV2Q3nHN"
   },
   "source": [
    "How does the above visual help you to interpret or refine your model?\n",
    "\n",
    "```\n",
    "Your Answer Here\n",
    "```"
   ]
  },
  {
   "cell_type": "markdown",
   "metadata": {
    "colab_type": "text",
    "id": "tSJN7v4k3qnc"
   },
   "source": [
    "### Permutation Importance"
   ]
  },
  {
   "cell_type": "code",
   "execution_count": null,
   "metadata": {
    "colab": {},
    "colab_type": "code",
    "id": "m2J3AOTO3tH3"
   },
   "outputs": [],
   "source": []
  },
  {
   "cell_type": "markdown",
   "metadata": {
    "colab_type": "text",
    "id": "IThHJqTa3tX7"
   },
   "source": [
    "How does the above visual help you to interpret or refine your model?\n",
    "\n",
    "```\n",
    "Your Answer Here\n",
    "```"
   ]
  },
  {
   "cell_type": "markdown",
   "metadata": {
    "colab_type": "text",
    "id": "64IKiuYLzxfR"
   },
   "source": [
    "Use some of the visuals above to further refine your model and rescore. Once you have validation score you are happy with, use your test set to get a final score for your model."
   ]
  },
  {
   "cell_type": "code",
   "execution_count": null,
   "metadata": {
    "colab": {},
    "colab_type": "code",
    "id": "8FcTeJNh0wzX"
   },
   "outputs": [],
   "source": []
  }
 ],
 "metadata": {
  "colab": {
   "name": "Unit 2 Sprint 3 - Applied Modeling - Study Guide.ipynb",
   "provenance": []
  },
  "kernelspec": {
   "display_name": "Python 3",
   "language": "python",
   "name": "python3"
  },
  "language_info": {
   "codemirror_mode": {
    "name": "ipython",
    "version": 3
   },
   "file_extension": ".py",
   "mimetype": "text/x-python",
   "name": "python",
   "nbconvert_exporter": "python",
   "pygments_lexer": "ipython3",
   "version": "3.7.6"
  }
 },
 "nbformat": 4,
 "nbformat_minor": 4
}
