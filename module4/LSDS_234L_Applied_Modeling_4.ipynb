{
 "cells": [
  {
   "cell_type": "markdown",
   "metadata": {
    "colab_type": "text",
    "id": "JxBhmJf11FkU"
   },
   "source": [
    "## Tobias Reaper\n",
    "\n",
    "Lambda School Data Science\n",
    "\n",
    "*Unit 2, Sprint 3, Module 4*\n",
    "\n",
    "---\n",
    "---"
   ]
  },
  {
   "cell_type": "markdown",
   "metadata": {
    "colab_type": "text",
    "id": "MqLTg0R5d1YQ"
   },
   "source": [
    "# Model Interpretation 2\n",
    "\n",
    "- Explain individual predictions with **shapley value plots**\n",
    "\n",
    "### Links\n",
    "- [Kaggle / Dan Becker: Machine Learning Explainability — SHAP Values](https://www.kaggle.com/learn/machine-learning-explainability)\n",
    "- [Christoph Molnar: Interpretable Machine Learning — Shapley Values](https://christophm.github.io/interpretable-ml-book/shapley.html)\n",
    "- [SHAP repo](https://github.com/slundberg/shap) & [docs](https://shap.readthedocs.io/en/latest/)\n"
   ]
  },
  {
   "cell_type": "markdown",
   "metadata": {
    "colab_type": "text",
    "id": "YnJuhPVkDSYY"
   },
   "source": [
    "---\n",
    "\n",
    "### Three types of model explanations this unit:\n",
    "\n",
    "#### 1. Global model explanation: all features in relation to each other\n",
    "- Feature Importances: _Default, fastest, good for first estimates_\n",
    "- Drop-Column Importances: _The best in theory, but much too slow in practice_\n",
    "- Permutaton Importances: _A good compromise!_\n",
    "\n",
    "#### 2. Global model explanation: individual feature(s) in relation to target\n",
    "- Partial Dependence plots\n",
    "\n",
    "#### 3. Individual prediction explanation _(Today)_\n",
    "- Shapley Values\n",
    "\n",
    "_Note that the coefficients from a linear model give you all three types of explanations!_\n",
    "\n",
    "---"
   ]
  },
  {
   "cell_type": "markdown",
   "metadata": {},
   "source": [
    "## Setup"
   ]
  },
  {
   "cell_type": "code",
   "execution_count": 12,
   "metadata": {},
   "outputs": [],
   "source": [
    "# The essentials\n",
    "import pandas as pd\n",
    "import numpy as np\n",
    "import matplotlib.pyplot as plt\n",
    "# import seaborn as sns\n",
    "\n",
    "# The basics\n",
    "from sklearn.model_selection import train_test_split\n",
    "from sklearn.pipeline import make_pipeline\n",
    "import category_encoders as ce\n",
    "from sklearn.impute import SimpleImputer"
   ]
  },
  {
   "cell_type": "code",
   "execution_count": 14,
   "metadata": {},
   "outputs": [],
   "source": [
    "# From this notebook / lesson\n",
    "from xgboost import XGBClassifier\n",
    "from sklearn.metrics import roc_auc_score\n",
    "from scipy.stats import randint, uniform\n",
    "from sklearn.ensemble import RandomForestRegressor\n",
    "from sklearn.model_selection import RandomizedSearchCV"
   ]
  },
  {
   "cell_type": "markdown",
   "metadata": {
    "colab_type": "text",
    "id": "BvuKGqHzd1YR"
   },
   "source": [
    "---\n",
    "\n",
    "## Classification: Lending Club 🏦\n",
    "\n",
    "This notebook uses Lending Club data, historical and current. Predict if peer-to-peer loans are charged off or fully paid. Decide which loans to invest in."
   ]
  },
  {
   "cell_type": "code",
   "execution_count": 1,
   "metadata": {
    "colab": {},
    "colab_type": "code",
    "id": "CPMl7luDd1YT"
   },
   "outputs": [],
   "source": [
    "# Relative data path\n",
    "DATA_PATH = '../data/'\n",
    "\n",
    "# Stratified sample, 10% of expired Lending Club loans, grades A-D\n",
    "# Source: https://www.lendingclub.com/info/download-data.action\n",
    "history = pd.read_csv(DATA_PATH+'lending-club/lending-club-subset.csv')\n",
    "history['issue_d'] = pd.to_datetime(history['issue_d'], infer_datetime_format=True)\n",
    "\n",
    "# Current loans available for manual investing, June 17, 2019\n",
    "# Source: https://www.lendingclub.com/browse/browse.action\n",
    "current = pd.read_csv(DATA_PATH+'../data/lending-club/primaryMarketNotes_browseNotes_1-RETAIL.csv')"
   ]
  },
  {
   "cell_type": "code",
   "execution_count": 2,
   "metadata": {
    "colab": {},
    "colab_type": "code",
    "id": "Aten2nECd1YV"
   },
   "outputs": [],
   "source": [
    "# Transform earliest_cr_line to an integer:\n",
    "# How many days the earliest credit line was open, before the loan was issued.\n",
    "# For current loans available for manual investing, assume the loan will be issued today.\n",
    "history['earliest_cr_line'] = pd.to_datetime(history['earliest_cr_line'], infer_datetime_format=True)\n",
    "history['earliest_cr_line'] = history['issue_d'] - history['earliest_cr_line']\n",
    "history['earliest_cr_line'] = history['earliest_cr_line'].dt.days\n",
    "\n",
    "current['earliest_cr_line'] = pd.to_datetime(current['earliest_cr_line'], infer_datetime_format=True)\n",
    "current['earliest_cr_line'] = pd.Timestamp.today() - current['earliest_cr_line']\n",
    "current['earliest_cr_line'] = current['earliest_cr_line'].dt.days\n",
    "\n",
    "# Transform earliest_cr_line for the secondary applicant\n",
    "history['sec_app_earliest_cr_line'] = pd.to_datetime(history['sec_app_earliest_cr_line'], infer_datetime_format=True, errors='coerce')\n",
    "history['sec_app_earliest_cr_line'] = history['issue_d'] - history['sec_app_earliest_cr_line']\n",
    "history['sec_app_earliest_cr_line'] = history['sec_app_earliest_cr_line'].dt.days\n",
    "\n",
    "current['sec_app_earliest_cr_line'] = pd.to_datetime(current['sec_app_earliest_cr_line'], infer_datetime_format=True, errors='coerce')\n",
    "current['sec_app_earliest_cr_line'] = pd.Timestamp.today() - current['sec_app_earliest_cr_line']\n",
    "current['sec_app_earliest_cr_line'] = current['sec_app_earliest_cr_line'].dt.days\n",
    "\n",
    "# Engineer features for issue date year & month\n",
    "history['issue_d_year'] = history['issue_d'].dt.year\n",
    "history['issue_d_month'] = history['issue_d'].dt.month\n",
    "\n",
    "current['issue_d_year'] = pd.Timestamp.today().year\n",
    "current['issue_d_month'] = pd.Timestamp.today().month"
   ]
  },
  {
   "cell_type": "code",
   "execution_count": 3,
   "metadata": {
    "colab": {},
    "colab_type": "code",
    "id": "RCaWx8gXd1YX"
   },
   "outputs": [],
   "source": [
    "# Calculate percent of each loan repaid\n",
    "history['percent_paid'] = history['total_pymnt'] / history['funded_amnt']"
   ]
  },
  {
   "cell_type": "code",
   "execution_count": 4,
   "metadata": {
    "colab": {},
    "colab_type": "code",
    "id": "ROZw3r97d1YY"
   },
   "outputs": [],
   "source": [
    "# Train on the historical data.\n",
    "# For the target, use `loan_status` ('Fully Paid' or 'Charged Off')\n",
    "target = 'loan_status'\n",
    "X = history.drop(columns=target)\n",
    "y = history[target]"
   ]
  },
  {
   "cell_type": "code",
   "execution_count": 5,
   "metadata": {
    "colab": {
     "base_uri": "https://localhost:8080/",
     "height": 118
    },
    "colab_type": "code",
    "id": "GcjHM-5Ld1Ya",
    "outputId": "56c4f0d4-e788-453c-d034-9b9b6b14c2ce"
   },
   "outputs": [
    {
     "name": "stdout",
     "output_type": "stream",
     "text": [
      "X_train shape (88334, 152)\n",
      "y_train shape (88334,)\n",
      "X_val shape (20000, 152)\n",
      "y_val shape (20000,)\n",
      "X_test shape (20000, 152)\n",
      "y_test shape (20000,)\n"
     ]
    }
   ],
   "source": [
    "# Do train/validate/test 3-way split\n",
    "\n",
    "X_trainval, X_test, y_trainval, y_test = train_test_split(\n",
    "    X, y, test_size=20000, stratify=y, random_state=42)\n",
    "\n",
    "X_train, X_val, y_train, y_val = train_test_split(\n",
    "    X_trainval, y_trainval, test_size=20000, \n",
    "    stratify=y_trainval, random_state=42)\n",
    "\n",
    "print('X_train shape', X_train.shape)\n",
    "print('y_train shape', y_train.shape)\n",
    "print('X_val shape', X_val.shape)\n",
    "print('y_val shape', y_val.shape)\n",
    "print('X_test shape', X_test.shape)\n",
    "print('y_test shape', y_test.shape)"
   ]
  },
  {
   "cell_type": "code",
   "execution_count": 6,
   "metadata": {
    "colab": {},
    "colab_type": "code",
    "id": "cn9WOg8XJKeV"
   },
   "outputs": [],
   "source": [
    "# Save the ids for later, so we can look up actual results,\n",
    "# to compare with predicted results\n",
    "train_id = X_train['id']\n",
    "val_id = X_val['id']\n",
    "test_id = X_test['id']"
   ]
  },
  {
   "cell_type": "code",
   "execution_count": 7,
   "metadata": {
    "colab": {},
    "colab_type": "code",
    "id": "IQiBnf1-d1Yd"
   },
   "outputs": [],
   "source": [
    "# Use Python sets to compare the historical columns & current columns\n",
    "common_columns = set(history.columns) & set(current.columns)\n",
    "just_history = set(history.columns) - set(current.columns)\n",
    "just_current = set(current.columns) - set(history.columns)"
   ]
  },
  {
   "cell_type": "code",
   "execution_count": 8,
   "metadata": {
    "colab": {},
    "colab_type": "code",
    "id": "haq8i5azd1Yf"
   },
   "outputs": [],
   "source": [
    "# For features, use only the common columns shared by the historical & current data.\n",
    "features = list(common_columns)\n",
    "X_train = X_train[features]\n",
    "X_val = X_val[features]\n",
    "X_test = X_test[features]"
   ]
  },
  {
   "cell_type": "code",
   "execution_count": 9,
   "metadata": {
    "colab": {
     "base_uri": "https://localhost:8080/",
     "height": 69
    },
    "colab_type": "code",
    "id": "GW2lh-Zrd1Yi",
    "outputId": "6401b64f-519c-45e0-9490-f9aa6b96a74d"
   },
   "outputs": [
    {
     "name": "stdout",
     "output_type": "stream",
     "text": [
      "X_train shape (88334, 66)\n",
      "X_val shape (20000, 66)\n",
      "X_test shape (20000, 66)\n"
     ]
    }
   ],
   "source": [
    "def wrangle(X):\n",
    "    X = X.copy()\n",
    "\n",
    "    # Engineer new feature for every feature: is the feature null?\n",
    "    for col in X:\n",
    "        X[col+'_NULL'] = X[col].isnull()\n",
    "    \n",
    "    # Convert percentages from strings to floats\n",
    "    X['int_rate'] = X['int_rate'].str.strip('%').astype(float)\n",
    "    X['revol_util'] = X['revol_util'].str.strip('%').astype(float)\n",
    "    \n",
    "    # Convert employment length from string to float\n",
    "    X['emp_length'] = X['emp_length'].str.replace(r'\\D','').astype(float)\n",
    "        \n",
    "    # Create features for three employee titles: teacher, manager, owner\n",
    "    X['emp_title'] = X['emp_title'].str.lower()\n",
    "    X['emp_title_teacher'] = X['emp_title'].str.contains('teacher', na=False)\n",
    "    X['emp_title_manager'] = X['emp_title'].str.contains('manager', na=False)\n",
    "    X['emp_title_owner']   = X['emp_title'].str.contains('owner', na=False)\n",
    "\n",
    "    # Get length of free text fields\n",
    "    X['title'] = X['title'].str.len()\n",
    "    X['desc'] = X['desc'].str.len()\n",
    "    X['emp_title'] = X['emp_title'].str.len()\n",
    "    \n",
    "    # Convert sub_grade from string \"A1\"-\"D5\" to numbers\n",
    "    sub_grade_ranks = {'A1': 1.1, 'A2': 1.2, 'A3': 1.3, 'A4': 1.4, 'A5': 1.5, \n",
    "                       'B1': 2.1, 'B2': 2.2, 'B3': 2.3, 'B4': 2.4, 'B5': 2.5, \n",
    "                       'C1': 3.1, 'C2': 3.2, 'C3': 3.3, 'C4': 3.4, 'C5': 3.5, \n",
    "                       'D1': 4.1, 'D2': 4.2, 'D3': 4.3, 'D4': 4.4, 'D5': 4.5}\n",
    "    X['sub_grade'] = X['sub_grade'].map(sub_grade_ranks)\n",
    "    \n",
    "    # Drop some columns\n",
    "    X = X.drop(columns='id')        # Always unique\n",
    "    X = X.drop(columns='url')       # Always unique\n",
    "    X = X.drop(columns='member_id') # Always null\n",
    "    X = X.drop(columns='grade')     # Duplicative of sub_grade\n",
    "    X = X.drop(columns='zip_code')  # High cardinality\n",
    "    \n",
    "    # Only use these features which had nonzero permutation importances in earlier models    \n",
    "    features = ['acc_open_past_24mths', 'addr_state', 'all_util', 'annual_inc', \n",
    "                'annual_inc_joint', 'avg_cur_bal', 'bc_open_to_buy', 'bc_util', \n",
    "                'collections_12_mths_ex_med', 'delinq_amnt', 'desc_NULL', 'dti', \n",
    "                'dti_joint', 'earliest_cr_line', 'emp_length', 'emp_length_NULL', \n",
    "                'emp_title', 'emp_title_NULL', 'emp_title_owner', 'fico_range_high', \n",
    "                'funded_amnt', 'home_ownership', 'inq_last_12m', 'inq_last_6mths', \n",
    "                'installment', 'int_rate', 'issue_d_month', 'issue_d_year', 'loan_amnt', \n",
    "                'max_bal_bc', 'mo_sin_old_il_acct', 'mo_sin_old_rev_tl_op', \n",
    "                'mo_sin_rcnt_rev_tl_op', 'mort_acc', 'mths_since_last_major_derog_NULL', \n",
    "                'mths_since_last_record', 'mths_since_recent_bc', 'mths_since_recent_inq', \n",
    "                'num_actv_bc_tl', 'num_actv_rev_tl', 'num_op_rev_tl', 'num_rev_tl_bal_gt_0', \n",
    "                'num_tl_120dpd_2m_NULL', 'open_rv_12m_NULL', 'open_rv_24m', \n",
    "                'pct_tl_nvr_dlq', 'percent_bc_gt_75', 'pub_rec_bankruptcies', 'purpose', \n",
    "                'revol_bal', 'revol_bal_joint', 'sec_app_earliest_cr_line', \n",
    "                'sec_app_fico_range_high', 'sec_app_open_acc', 'sec_app_open_act_il', \n",
    "                'sub_grade', 'term', 'title', 'title_NULL', 'tot_coll_amt', \n",
    "                'tot_hi_cred_lim', 'total_acc', 'total_bal_il', 'total_bc_limit', \n",
    "                'total_cu_tl', 'total_rev_hi_lim']    \n",
    "    X = X[features]\n",
    "    \n",
    "    # Reset index\n",
    "    X = X.reset_index(drop=True)\n",
    "    \n",
    "    # Return the wrangled dataframe\n",
    "    return X\n",
    "\n",
    "\n",
    "X_train = wrangle(X_train)\n",
    "X_val   = wrangle(X_val)\n",
    "X_test  = wrangle(X_test)\n",
    "\n",
    "print('X_train shape', X_train.shape)\n",
    "print('X_val shape', X_val.shape)\n",
    "print('X_test shape', X_test.shape)"
   ]
  },
  {
   "cell_type": "code",
   "execution_count": 10,
   "metadata": {
    "colab": {
     "base_uri": "https://localhost:8080/",
     "height": 1000
    },
    "colab_type": "code",
    "id": "M52FAeDpd1Yk",
    "outputId": "87b1a73d-2eba-4b5f-8908-75dc58b93522"
   },
   "outputs": [
    {
     "name": "stdout",
     "output_type": "stream",
     "text": [
      "[0]\tvalidation_0-auc:0.669638\tvalidation_1-auc:0.672822\n",
      "Multiple eval metrics have been passed: 'validation_1-auc' will be used for early stopping.\n",
      "\n",
      "Will train until validation_1-auc hasn't improved in 10 rounds.\n",
      "[1]\tvalidation_0-auc:0.670802\tvalidation_1-auc:0.674118\n",
      "[2]\tvalidation_0-auc:0.676142\tvalidation_1-auc:0.680087\n",
      "[3]\tvalidation_0-auc:0.679771\tvalidation_1-auc:0.683186\n",
      "[4]\tvalidation_0-auc:0.682482\tvalidation_1-auc:0.684256\n",
      "[5]\tvalidation_0-auc:0.683905\tvalidation_1-auc:0.685868\n",
      "[6]\tvalidation_0-auc:0.685104\tvalidation_1-auc:0.687372\n",
      "[7]\tvalidation_0-auc:0.685857\tvalidation_1-auc:0.687737\n",
      "[8]\tvalidation_0-auc:0.685805\tvalidation_1-auc:0.687888\n",
      "[9]\tvalidation_0-auc:0.686504\tvalidation_1-auc:0.689168\n",
      "[10]\tvalidation_0-auc:0.686866\tvalidation_1-auc:0.689461\n",
      "[11]\tvalidation_0-auc:0.686938\tvalidation_1-auc:0.689288\n",
      "[12]\tvalidation_0-auc:0.687537\tvalidation_1-auc:0.69022\n",
      "[13]\tvalidation_0-auc:0.688371\tvalidation_1-auc:0.690954\n",
      "[14]\tvalidation_0-auc:0.688811\tvalidation_1-auc:0.691599\n",
      "[15]\tvalidation_0-auc:0.68958\tvalidation_1-auc:0.692054\n",
      "[16]\tvalidation_0-auc:0.689687\tvalidation_1-auc:0.692009\n",
      "[17]\tvalidation_0-auc:0.69018\tvalidation_1-auc:0.69208\n",
      "[18]\tvalidation_0-auc:0.691149\tvalidation_1-auc:0.693145\n",
      "[19]\tvalidation_0-auc:0.691689\tvalidation_1-auc:0.693606\n",
      "[20]\tvalidation_0-auc:0.692102\tvalidation_1-auc:0.694079\n",
      "[21]\tvalidation_0-auc:0.692439\tvalidation_1-auc:0.694554\n",
      "[22]\tvalidation_0-auc:0.6929\tvalidation_1-auc:0.694561\n",
      "[23]\tvalidation_0-auc:0.693821\tvalidation_1-auc:0.695504\n",
      "[24]\tvalidation_0-auc:0.694253\tvalidation_1-auc:0.695738\n",
      "[25]\tvalidation_0-auc:0.694962\tvalidation_1-auc:0.696558\n",
      "[26]\tvalidation_0-auc:0.69578\tvalidation_1-auc:0.697159\n",
      "[27]\tvalidation_0-auc:0.696712\tvalidation_1-auc:0.697722\n",
      "[28]\tvalidation_0-auc:0.697419\tvalidation_1-auc:0.698312\n",
      "[29]\tvalidation_0-auc:0.698362\tvalidation_1-auc:0.698922\n",
      "[30]\tvalidation_0-auc:0.699091\tvalidation_1-auc:0.699589\n",
      "[31]\tvalidation_0-auc:0.699494\tvalidation_1-auc:0.700013\n",
      "[32]\tvalidation_0-auc:0.700248\tvalidation_1-auc:0.700624\n",
      "[33]\tvalidation_0-auc:0.700899\tvalidation_1-auc:0.701209\n",
      "[34]\tvalidation_0-auc:0.701626\tvalidation_1-auc:0.701462\n",
      "[35]\tvalidation_0-auc:0.702262\tvalidation_1-auc:0.701949\n",
      "[36]\tvalidation_0-auc:0.702701\tvalidation_1-auc:0.702192\n",
      "[37]\tvalidation_0-auc:0.703426\tvalidation_1-auc:0.70292\n",
      "[38]\tvalidation_0-auc:0.703812\tvalidation_1-auc:0.703342\n",
      "[39]\tvalidation_0-auc:0.704419\tvalidation_1-auc:0.703886\n",
      "[40]\tvalidation_0-auc:0.705202\tvalidation_1-auc:0.70454\n",
      "[41]\tvalidation_0-auc:0.705857\tvalidation_1-auc:0.70492\n",
      "[42]\tvalidation_0-auc:0.70622\tvalidation_1-auc:0.705086\n",
      "[43]\tvalidation_0-auc:0.706793\tvalidation_1-auc:0.705297\n",
      "[44]\tvalidation_0-auc:0.707399\tvalidation_1-auc:0.705724\n",
      "[45]\tvalidation_0-auc:0.707783\tvalidation_1-auc:0.706153\n",
      "[46]\tvalidation_0-auc:0.708424\tvalidation_1-auc:0.706662\n",
      "[47]\tvalidation_0-auc:0.708975\tvalidation_1-auc:0.707069\n",
      "[48]\tvalidation_0-auc:0.709355\tvalidation_1-auc:0.707561\n",
      "[49]\tvalidation_0-auc:0.709699\tvalidation_1-auc:0.707843\n",
      "[50]\tvalidation_0-auc:0.71013\tvalidation_1-auc:0.708145\n",
      "[51]\tvalidation_0-auc:0.710576\tvalidation_1-auc:0.708558\n",
      "[52]\tvalidation_0-auc:0.711051\tvalidation_1-auc:0.708767\n",
      "[53]\tvalidation_0-auc:0.711271\tvalidation_1-auc:0.708999\n",
      "[54]\tvalidation_0-auc:0.711642\tvalidation_1-auc:0.708932\n",
      "[55]\tvalidation_0-auc:0.711953\tvalidation_1-auc:0.709191\n",
      "[56]\tvalidation_0-auc:0.712177\tvalidation_1-auc:0.709508\n",
      "[57]\tvalidation_0-auc:0.712689\tvalidation_1-auc:0.710031\n",
      "[58]\tvalidation_0-auc:0.713004\tvalidation_1-auc:0.710367\n",
      "[59]\tvalidation_0-auc:0.713287\tvalidation_1-auc:0.710452\n",
      "[60]\tvalidation_0-auc:0.713722\tvalidation_1-auc:0.710734\n",
      "[61]\tvalidation_0-auc:0.714222\tvalidation_1-auc:0.711019\n",
      "[62]\tvalidation_0-auc:0.714616\tvalidation_1-auc:0.711351\n",
      "[63]\tvalidation_0-auc:0.714874\tvalidation_1-auc:0.711592\n",
      "[64]\tvalidation_0-auc:0.71518\tvalidation_1-auc:0.711767\n",
      "[65]\tvalidation_0-auc:0.71551\tvalidation_1-auc:0.711859\n",
      "[66]\tvalidation_0-auc:0.715806\tvalidation_1-auc:0.712045\n",
      "[67]\tvalidation_0-auc:0.715985\tvalidation_1-auc:0.712209\n",
      "[68]\tvalidation_0-auc:0.71628\tvalidation_1-auc:0.712242\n",
      "[69]\tvalidation_0-auc:0.716471\tvalidation_1-auc:0.712541\n",
      "[70]\tvalidation_0-auc:0.716765\tvalidation_1-auc:0.712535\n",
      "[71]\tvalidation_0-auc:0.717066\tvalidation_1-auc:0.71276\n",
      "[72]\tvalidation_0-auc:0.717267\tvalidation_1-auc:0.712865\n",
      "[73]\tvalidation_0-auc:0.717526\tvalidation_1-auc:0.712957\n",
      "[74]\tvalidation_0-auc:0.717858\tvalidation_1-auc:0.713157\n",
      "[75]\tvalidation_0-auc:0.718122\tvalidation_1-auc:0.71331\n",
      "[76]\tvalidation_0-auc:0.718341\tvalidation_1-auc:0.713471\n",
      "[77]\tvalidation_0-auc:0.718712\tvalidation_1-auc:0.713679\n",
      "[78]\tvalidation_0-auc:0.718967\tvalidation_1-auc:0.713854\n",
      "[79]\tvalidation_0-auc:0.719216\tvalidation_1-auc:0.713853\n",
      "[80]\tvalidation_0-auc:0.719406\tvalidation_1-auc:0.713995\n",
      "[81]\tvalidation_0-auc:0.719697\tvalidation_1-auc:0.714277\n",
      "[82]\tvalidation_0-auc:0.719924\tvalidation_1-auc:0.7144\n",
      "[83]\tvalidation_0-auc:0.720062\tvalidation_1-auc:0.714589\n",
      "[84]\tvalidation_0-auc:0.720258\tvalidation_1-auc:0.714746\n",
      "[85]\tvalidation_0-auc:0.720507\tvalidation_1-auc:0.714835\n",
      "[86]\tvalidation_0-auc:0.720691\tvalidation_1-auc:0.715013\n",
      "[87]\tvalidation_0-auc:0.720899\tvalidation_1-auc:0.715054\n",
      "[88]\tvalidation_0-auc:0.721071\tvalidation_1-auc:0.715156\n",
      "[89]\tvalidation_0-auc:0.72137\tvalidation_1-auc:0.715286\n",
      "[90]\tvalidation_0-auc:0.721637\tvalidation_1-auc:0.715376\n",
      "[91]\tvalidation_0-auc:0.721848\tvalidation_1-auc:0.715323\n",
      "[92]\tvalidation_0-auc:0.72204\tvalidation_1-auc:0.715474\n",
      "[93]\tvalidation_0-auc:0.722257\tvalidation_1-auc:0.715639\n",
      "[94]\tvalidation_0-auc:0.722391\tvalidation_1-auc:0.715681\n",
      "[95]\tvalidation_0-auc:0.722569\tvalidation_1-auc:0.715755\n",
      "[96]\tvalidation_0-auc:0.722802\tvalidation_1-auc:0.715941\n",
      "[97]\tvalidation_0-auc:0.723047\tvalidation_1-auc:0.716217\n",
      "[98]\tvalidation_0-auc:0.723297\tvalidation_1-auc:0.716196\n",
      "[99]\tvalidation_0-auc:0.72352\tvalidation_1-auc:0.716332\n",
      "[100]\tvalidation_0-auc:0.723763\tvalidation_1-auc:0.716412\n",
      "[101]\tvalidation_0-auc:0.723969\tvalidation_1-auc:0.716377\n",
      "[102]\tvalidation_0-auc:0.724131\tvalidation_1-auc:0.716394\n",
      "[103]\tvalidation_0-auc:0.724311\tvalidation_1-auc:0.716627\n",
      "[104]\tvalidation_0-auc:0.724526\tvalidation_1-auc:0.716772\n",
      "[105]\tvalidation_0-auc:0.724718\tvalidation_1-auc:0.716828\n",
      "[106]\tvalidation_0-auc:0.724905\tvalidation_1-auc:0.71683\n",
      "[107]\tvalidation_0-auc:0.725102\tvalidation_1-auc:0.716941\n",
      "[108]\tvalidation_0-auc:0.725337\tvalidation_1-auc:0.716988\n",
      "[109]\tvalidation_0-auc:0.725485\tvalidation_1-auc:0.717063\n",
      "[110]\tvalidation_0-auc:0.725685\tvalidation_1-auc:0.717269\n",
      "[111]\tvalidation_0-auc:0.72585\tvalidation_1-auc:0.717393\n",
      "[112]\tvalidation_0-auc:0.726006\tvalidation_1-auc:0.717495\n",
      "[113]\tvalidation_0-auc:0.726112\tvalidation_1-auc:0.717592\n",
      "[114]\tvalidation_0-auc:0.726335\tvalidation_1-auc:0.717606\n",
      "[115]\tvalidation_0-auc:0.726453\tvalidation_1-auc:0.717637\n",
      "[116]\tvalidation_0-auc:0.726605\tvalidation_1-auc:0.717718\n",
      "[117]\tvalidation_0-auc:0.726765\tvalidation_1-auc:0.717779\n",
      "[118]\tvalidation_0-auc:0.727015\tvalidation_1-auc:0.717997\n",
      "[119]\tvalidation_0-auc:0.72711\tvalidation_1-auc:0.718045\n",
      "[120]\tvalidation_0-auc:0.727202\tvalidation_1-auc:0.718124\n",
      "[121]\tvalidation_0-auc:0.727378\tvalidation_1-auc:0.718237\n",
      "[122]\tvalidation_0-auc:0.727499\tvalidation_1-auc:0.718281\n",
      "[123]\tvalidation_0-auc:0.727688\tvalidation_1-auc:0.718295\n",
      "[124]\tvalidation_0-auc:0.727847\tvalidation_1-auc:0.718329\n",
      "[125]\tvalidation_0-auc:0.72796\tvalidation_1-auc:0.718424\n",
      "[126]\tvalidation_0-auc:0.728147\tvalidation_1-auc:0.718474\n",
      "[127]\tvalidation_0-auc:0.728227\tvalidation_1-auc:0.718464\n",
      "[128]\tvalidation_0-auc:0.728428\tvalidation_1-auc:0.718528\n",
      "[129]\tvalidation_0-auc:0.728601\tvalidation_1-auc:0.718533\n",
      "[130]\tvalidation_0-auc:0.728771\tvalidation_1-auc:0.718602\n",
      "[131]\tvalidation_0-auc:0.728879\tvalidation_1-auc:0.718688\n",
      "[132]\tvalidation_0-auc:0.729066\tvalidation_1-auc:0.718727\n",
      "[133]\tvalidation_0-auc:0.729225\tvalidation_1-auc:0.718868\n",
      "[134]\tvalidation_0-auc:0.729317\tvalidation_1-auc:0.718944\n",
      "[135]\tvalidation_0-auc:0.729446\tvalidation_1-auc:0.718952\n",
      "[136]\tvalidation_0-auc:0.729602\tvalidation_1-auc:0.719038\n",
      "[137]\tvalidation_0-auc:0.729687\tvalidation_1-auc:0.719092\n",
      "[138]\tvalidation_0-auc:0.729835\tvalidation_1-auc:0.719158\n",
      "[139]\tvalidation_0-auc:0.729943\tvalidation_1-auc:0.71916\n",
      "[140]\tvalidation_0-auc:0.730102\tvalidation_1-auc:0.719286\n",
      "[141]\tvalidation_0-auc:0.730186\tvalidation_1-auc:0.719287\n",
      "[142]\tvalidation_0-auc:0.730303\tvalidation_1-auc:0.719302\n",
      "[143]\tvalidation_0-auc:0.730414\tvalidation_1-auc:0.719309\n",
      "[144]\tvalidation_0-auc:0.730559\tvalidation_1-auc:0.71925\n",
      "[145]\tvalidation_0-auc:0.730765\tvalidation_1-auc:0.719389\n",
      "[146]\tvalidation_0-auc:0.730859\tvalidation_1-auc:0.719349\n",
      "[147]\tvalidation_0-auc:0.731034\tvalidation_1-auc:0.719546\n",
      "[148]\tvalidation_0-auc:0.731146\tvalidation_1-auc:0.719551\n",
      "[149]\tvalidation_0-auc:0.731293\tvalidation_1-auc:0.719592\n",
      "[150]\tvalidation_0-auc:0.731476\tvalidation_1-auc:0.7196\n",
      "[151]\tvalidation_0-auc:0.7317\tvalidation_1-auc:0.719811\n",
      "[152]\tvalidation_0-auc:0.731873\tvalidation_1-auc:0.719899\n",
      "[153]\tvalidation_0-auc:0.732035\tvalidation_1-auc:0.719875\n",
      "[154]\tvalidation_0-auc:0.732108\tvalidation_1-auc:0.71998\n",
      "[155]\tvalidation_0-auc:0.732179\tvalidation_1-auc:0.719991\n",
      "[156]\tvalidation_0-auc:0.732222\tvalidation_1-auc:0.719948\n",
      "[157]\tvalidation_0-auc:0.732292\tvalidation_1-auc:0.719945\n",
      "[158]\tvalidation_0-auc:0.732358\tvalidation_1-auc:0.719993\n",
      "[159]\tvalidation_0-auc:0.732475\tvalidation_1-auc:0.719998\n",
      "[160]\tvalidation_0-auc:0.732542\tvalidation_1-auc:0.720032\n",
      "[161]\tvalidation_0-auc:0.732683\tvalidation_1-auc:0.720059\n",
      "[162]\tvalidation_0-auc:0.732838\tvalidation_1-auc:0.720105\n",
      "[163]\tvalidation_0-auc:0.732974\tvalidation_1-auc:0.72012\n",
      "[164]\tvalidation_0-auc:0.733118\tvalidation_1-auc:0.720093\n",
      "[165]\tvalidation_0-auc:0.733343\tvalidation_1-auc:0.720272\n",
      "[166]\tvalidation_0-auc:0.733471\tvalidation_1-auc:0.720335\n",
      "[167]\tvalidation_0-auc:0.733588\tvalidation_1-auc:0.720312\n",
      "[168]\tvalidation_0-auc:0.733823\tvalidation_1-auc:0.720424\n",
      "[169]\tvalidation_0-auc:0.733992\tvalidation_1-auc:0.720537\n",
      "[170]\tvalidation_0-auc:0.73408\tvalidation_1-auc:0.720538\n",
      "[171]\tvalidation_0-auc:0.73425\tvalidation_1-auc:0.720618\n",
      "[172]\tvalidation_0-auc:0.734404\tvalidation_1-auc:0.720683\n",
      "[173]\tvalidation_0-auc:0.734485\tvalidation_1-auc:0.720735\n",
      "[174]\tvalidation_0-auc:0.734674\tvalidation_1-auc:0.720847\n",
      "[175]\tvalidation_0-auc:0.734758\tvalidation_1-auc:0.720967\n",
      "[176]\tvalidation_0-auc:0.734893\tvalidation_1-auc:0.72098\n",
      "[177]\tvalidation_0-auc:0.735\tvalidation_1-auc:0.720999\n",
      "[178]\tvalidation_0-auc:0.735119\tvalidation_1-auc:0.721043\n",
      "[179]\tvalidation_0-auc:0.735252\tvalidation_1-auc:0.721079\n",
      "[180]\tvalidation_0-auc:0.735391\tvalidation_1-auc:0.721133\n",
      "[181]\tvalidation_0-auc:0.735519\tvalidation_1-auc:0.721215\n",
      "[182]\tvalidation_0-auc:0.735747\tvalidation_1-auc:0.721293\n",
      "[183]\tvalidation_0-auc:0.735887\tvalidation_1-auc:0.721387\n",
      "[184]\tvalidation_0-auc:0.73606\tvalidation_1-auc:0.72132\n",
      "[185]\tvalidation_0-auc:0.736181\tvalidation_1-auc:0.72127\n",
      "[186]\tvalidation_0-auc:0.736263\tvalidation_1-auc:0.721299\n",
      "[187]\tvalidation_0-auc:0.736406\tvalidation_1-auc:0.721256\n",
      "[188]\tvalidation_0-auc:0.736498\tvalidation_1-auc:0.721261\n",
      "[189]\tvalidation_0-auc:0.73664\tvalidation_1-auc:0.721224\n",
      "[190]\tvalidation_0-auc:0.736718\tvalidation_1-auc:0.721247\n",
      "[191]\tvalidation_0-auc:0.736831\tvalidation_1-auc:0.721285\n",
      "[192]\tvalidation_0-auc:0.737019\tvalidation_1-auc:0.721464\n",
      "[193]\tvalidation_0-auc:0.737093\tvalidation_1-auc:0.721491\n",
      "[194]\tvalidation_0-auc:0.737193\tvalidation_1-auc:0.721455\n",
      "[195]\tvalidation_0-auc:0.737353\tvalidation_1-auc:0.721504\n",
      "[196]\tvalidation_0-auc:0.737519\tvalidation_1-auc:0.721499\n",
      "[197]\tvalidation_0-auc:0.737571\tvalidation_1-auc:0.721553\n",
      "[198]\tvalidation_0-auc:0.73768\tvalidation_1-auc:0.721607\n",
      "[199]\tvalidation_0-auc:0.737822\tvalidation_1-auc:0.721626\n",
      "[200]\tvalidation_0-auc:0.737957\tvalidation_1-auc:0.721731\n",
      "[201]\tvalidation_0-auc:0.73803\tvalidation_1-auc:0.72174\n",
      "[202]\tvalidation_0-auc:0.738123\tvalidation_1-auc:0.721755\n",
      "[203]\tvalidation_0-auc:0.738271\tvalidation_1-auc:0.721768\n",
      "[204]\tvalidation_0-auc:0.738327\tvalidation_1-auc:0.721766\n",
      "[205]\tvalidation_0-auc:0.738457\tvalidation_1-auc:0.721731\n",
      "[206]\tvalidation_0-auc:0.738546\tvalidation_1-auc:0.72179\n",
      "[207]\tvalidation_0-auc:0.738611\tvalidation_1-auc:0.721831\n",
      "[208]\tvalidation_0-auc:0.738651\tvalidation_1-auc:0.721829\n",
      "[209]\tvalidation_0-auc:0.738804\tvalidation_1-auc:0.721801\n",
      "[210]\tvalidation_0-auc:0.738968\tvalidation_1-auc:0.721789\n",
      "[211]\tvalidation_0-auc:0.739061\tvalidation_1-auc:0.721765\n",
      "[212]\tvalidation_0-auc:0.739217\tvalidation_1-auc:0.721804\n",
      "[213]\tvalidation_0-auc:0.739347\tvalidation_1-auc:0.721756\n",
      "[214]\tvalidation_0-auc:0.739438\tvalidation_1-auc:0.721814\n",
      "[215]\tvalidation_0-auc:0.739475\tvalidation_1-auc:0.7218\n",
      "[216]\tvalidation_0-auc:0.739592\tvalidation_1-auc:0.72176\n",
      "[217]\tvalidation_0-auc:0.739726\tvalidation_1-auc:0.721768\n",
      "Stopping. Best iteration:\n",
      "[207]\tvalidation_0-auc:0.738611\tvalidation_1-auc:0.721831\n",
      "\n"
     ]
    },
    {
     "data": {
      "text/plain": [
       "XGBClassifier(base_score=0.5, booster='gbtree', colsample_bylevel=1,\n",
       "              colsample_bynode=1, colsample_bytree=1, gamma=0,\n",
       "              learning_rate=0.1, max_delta_step=0, max_depth=3,\n",
       "              min_child_weight=1, missing=None, n_estimators=1000, n_jobs=-1,\n",
       "              nthread=None, objective='binary:logistic', random_state=0,\n",
       "              reg_alpha=0, reg_lambda=1, scale_pos_weight=1, seed=None,\n",
       "              silent=None, subsample=1, verbosity=1)"
      ]
     },
     "execution_count": 10,
     "metadata": {},
     "output_type": "execute_result"
    }
   ],
   "source": [
    "processor = make_pipeline(\n",
    "    ce.OrdinalEncoder(), \n",
    "    SimpleImputer(strategy='median')\n",
    ")\n",
    "\n",
    "X_train_processed = processor.fit_transform(X_train)\n",
    "X_val_processed = processor.transform(X_val)\n",
    "\n",
    "eval_set = [(X_train_processed, y_train), \n",
    "            (X_val_processed, y_val)]\n",
    "\n",
    "model = XGBClassifier(n_estimators=1000, n_jobs=-1)\n",
    "model.fit(X_train_processed, y_train, eval_set=eval_set, eval_metric='auc', \n",
    "          early_stopping_rounds=10)"
   ]
  },
  {
   "cell_type": "code",
   "execution_count": 15,
   "metadata": {
    "colab": {
     "base_uri": "https://localhost:8080/",
     "height": 35
    },
    "colab_type": "code",
    "id": "hpiXSK4xd1Y7",
    "outputId": "c59713bd-e07b-456d-b6de-0c4cfca55de6"
   },
   "outputs": [
    {
     "name": "stdout",
     "output_type": "stream",
     "text": [
      "Test ROC AUC for class 1:\n",
      "0.7098250599322629\n"
     ]
    }
   ],
   "source": [
    "# THIS CELL ISN'T ABOUT THE NEW OBJECTIVES FOR TODAY\n",
    "# BUT IT IS IMPORTANT FOR YOUR SPRINT CHALLENGE\n",
    "X_test_processed = processor.transform(X_test)\n",
    "class_index = 1\n",
    "y_pred_proba = model.predict_proba(X_test_processed)[:, class_index]\n",
    "print(f'Test ROC AUC for class {class_index}:')\n",
    "print(roc_auc_score(y_test, y_pred_proba)) # Ranges from 0-1, higher is better"
   ]
  },
  {
   "cell_type": "markdown",
   "metadata": {
    "colab_type": "text",
    "id": "GlE8u-IQguoZ"
   },
   "source": [
    "---\n",
    "\n",
    "### Look at predictions vs actuals"
   ]
  },
  {
   "cell_type": "code",
   "execution_count": 16,
   "metadata": {
    "colab": {},
    "colab_type": "code",
    "id": "IMYDxvreKRZw"
   },
   "outputs": [],
   "source": [
    "df = pd.DataFrame({\n",
    "    'id': test_id, \n",
    "    'pred_proba': y_pred_proba, \n",
    "    'status_group': y_test\n",
    "})\n",
    "\n",
    "df = df.merge(\n",
    "     history[['id', 'issue_d', 'sub_grade', 'percent_paid', 'term', 'int_rate']], \n",
    "     how='left'\n",
    ")"
   ]
  },
  {
   "cell_type": "code",
   "execution_count": 17,
   "metadata": {
    "colab": {
     "base_uri": "https://localhost:8080/",
     "height": 202
    },
    "colab_type": "code",
    "id": "6W8wWXyKQ3S2",
    "outputId": "8649be3e-7081-4045-8657-2bfc898b6c0c"
   },
   "outputs": [
    {
     "data": {
      "text/html": [
       "<div>\n",
       "<style scoped>\n",
       "    .dataframe tbody tr th:only-of-type {\n",
       "        vertical-align: middle;\n",
       "    }\n",
       "\n",
       "    .dataframe tbody tr th {\n",
       "        vertical-align: top;\n",
       "    }\n",
       "\n",
       "    .dataframe thead th {\n",
       "        text-align: right;\n",
       "    }\n",
       "</style>\n",
       "<table border=\"1\" class=\"dataframe\">\n",
       "  <thead>\n",
       "    <tr style=\"text-align: right;\">\n",
       "      <th></th>\n",
       "      <th>id</th>\n",
       "      <th>pred_proba</th>\n",
       "      <th>status_group</th>\n",
       "      <th>issue_d</th>\n",
       "      <th>sub_grade</th>\n",
       "      <th>percent_paid</th>\n",
       "      <th>term</th>\n",
       "      <th>int_rate</th>\n",
       "    </tr>\n",
       "  </thead>\n",
       "  <tbody>\n",
       "    <tr>\n",
       "      <th>0</th>\n",
       "      <td>8626171.0</td>\n",
       "      <td>0.906600</td>\n",
       "      <td>Fully Paid</td>\n",
       "      <td>2013-11-01</td>\n",
       "      <td>B5</td>\n",
       "      <td>1.222841</td>\n",
       "      <td>36 months</td>\n",
       "      <td>13.67%</td>\n",
       "    </tr>\n",
       "    <tr>\n",
       "      <th>1</th>\n",
       "      <td>94031368.0</td>\n",
       "      <td>0.751545</td>\n",
       "      <td>Fully Paid</td>\n",
       "      <td>2016-11-01</td>\n",
       "      <td>B5</td>\n",
       "      <td>1.153215</td>\n",
       "      <td>36 months</td>\n",
       "      <td>11.49%</td>\n",
       "    </tr>\n",
       "    <tr>\n",
       "      <th>2</th>\n",
       "      <td>5365832.0</td>\n",
       "      <td>0.894157</td>\n",
       "      <td>Fully Paid</td>\n",
       "      <td>2013-05-01</td>\n",
       "      <td>B2</td>\n",
       "      <td>1.178627</td>\n",
       "      <td>36 months</td>\n",
       "      <td>11.14%</td>\n",
       "    </tr>\n",
       "    <tr>\n",
       "      <th>3</th>\n",
       "      <td>95806611.0</td>\n",
       "      <td>0.894528</td>\n",
       "      <td>Fully Paid</td>\n",
       "      <td>2017-01-01</td>\n",
       "      <td>A3</td>\n",
       "      <td>1.083891</td>\n",
       "      <td>36 months</td>\n",
       "      <td>7.24%</td>\n",
       "    </tr>\n",
       "    <tr>\n",
       "      <th>4</th>\n",
       "      <td>3147498.0</td>\n",
       "      <td>0.959886</td>\n",
       "      <td>Fully Paid</td>\n",
       "      <td>2013-01-01</td>\n",
       "      <td>A3</td>\n",
       "      <td>1.119078</td>\n",
       "      <td>36 months</td>\n",
       "      <td>7.62%</td>\n",
       "    </tr>\n",
       "  </tbody>\n",
       "</table>\n",
       "</div>"
      ],
      "text/plain": [
       "           id  pred_proba status_group    issue_d sub_grade  percent_paid  \\\n",
       "0   8626171.0    0.906600   Fully Paid 2013-11-01        B5      1.222841   \n",
       "1  94031368.0    0.751545   Fully Paid 2016-11-01        B5      1.153215   \n",
       "2   5365832.0    0.894157   Fully Paid 2013-05-01        B2      1.178627   \n",
       "3  95806611.0    0.894528   Fully Paid 2017-01-01        A3      1.083891   \n",
       "4   3147498.0    0.959886   Fully Paid 2013-01-01        A3      1.119078   \n",
       "\n",
       "         term int_rate  \n",
       "0   36 months   13.67%  \n",
       "1   36 months   11.49%  \n",
       "2   36 months   11.14%  \n",
       "3   36 months    7.24%  \n",
       "4   36 months    7.62%  "
      ]
     },
     "execution_count": 17,
     "metadata": {},
     "output_type": "execute_result"
    }
   ],
   "source": [
    "df.head()"
   ]
  },
  {
   "cell_type": "code",
   "execution_count": 18,
   "metadata": {
    "colab": {},
    "colab_type": "code",
    "id": "ucCbp-xLLOmu"
   },
   "outputs": [],
   "source": [
    "fully_paid = df['status_group'] == 'Fully Paid'\n",
    "charged_off = ~fully_paid\n",
    "right = (fully_paid) == (df['pred_proba'] > 0.50)\n",
    "wrong = ~right"
   ]
  },
  {
   "cell_type": "markdown",
   "metadata": {
    "colab_type": "text",
    "id": "sHUSvaLsiydi"
   },
   "source": [
    "#### Loan was fully paid, model's prediction was right"
   ]
  },
  {
   "cell_type": "code",
   "execution_count": 19,
   "metadata": {
    "colab": {
     "base_uri": "https://localhost:8080/",
     "height": 355
    },
    "colab_type": "code",
    "id": "Wuf5h-K2HQIa",
    "outputId": "0e726301-3221-4206-a7d4-9d4a60ab7d46"
   },
   "outputs": [
    {
     "data": {
      "text/html": [
       "<div>\n",
       "<style scoped>\n",
       "    .dataframe tbody tr th:only-of-type {\n",
       "        vertical-align: middle;\n",
       "    }\n",
       "\n",
       "    .dataframe tbody tr th {\n",
       "        vertical-align: top;\n",
       "    }\n",
       "\n",
       "    .dataframe thead th {\n",
       "        text-align: right;\n",
       "    }\n",
       "</style>\n",
       "<table border=\"1\" class=\"dataframe\">\n",
       "  <thead>\n",
       "    <tr style=\"text-align: right;\">\n",
       "      <th></th>\n",
       "      <th>id</th>\n",
       "      <th>pred_proba</th>\n",
       "      <th>status_group</th>\n",
       "      <th>issue_d</th>\n",
       "      <th>sub_grade</th>\n",
       "      <th>percent_paid</th>\n",
       "      <th>term</th>\n",
       "      <th>int_rate</th>\n",
       "    </tr>\n",
       "  </thead>\n",
       "  <tbody>\n",
       "    <tr>\n",
       "      <th>3094</th>\n",
       "      <td>84849701.0</td>\n",
       "      <td>0.742986</td>\n",
       "      <td>Fully Paid</td>\n",
       "      <td>2016-07-01</td>\n",
       "      <td>D2</td>\n",
       "      <td>1.229536</td>\n",
       "      <td>36 months</td>\n",
       "      <td>17.99%</td>\n",
       "    </tr>\n",
       "    <tr>\n",
       "      <th>2753</th>\n",
       "      <td>109005992.0</td>\n",
       "      <td>0.753760</td>\n",
       "      <td>Fully Paid</td>\n",
       "      <td>2017-05-01</td>\n",
       "      <td>C1</td>\n",
       "      <td>1.177098</td>\n",
       "      <td>36 months</td>\n",
       "      <td>12.62%</td>\n",
       "    </tr>\n",
       "    <tr>\n",
       "      <th>11507</th>\n",
       "      <td>28653578.0</td>\n",
       "      <td>0.802503</td>\n",
       "      <td>Fully Paid</td>\n",
       "      <td>2014-10-01</td>\n",
       "      <td>C1</td>\n",
       "      <td>1.201757</td>\n",
       "      <td>36 months</td>\n",
       "      <td>12.99%</td>\n",
       "    </tr>\n",
       "    <tr>\n",
       "      <th>16700</th>\n",
       "      <td>98138268.0</td>\n",
       "      <td>0.813565</td>\n",
       "      <td>Fully Paid</td>\n",
       "      <td>2017-02-01</td>\n",
       "      <td>B2</td>\n",
       "      <td>1.058902</td>\n",
       "      <td>36 months</td>\n",
       "      <td>10.49%</td>\n",
       "    </tr>\n",
       "    <tr>\n",
       "      <th>5750</th>\n",
       "      <td>70022639.0</td>\n",
       "      <td>0.829694</td>\n",
       "      <td>Fully Paid</td>\n",
       "      <td>2016-01-01</td>\n",
       "      <td>B5</td>\n",
       "      <td>1.178163</td>\n",
       "      <td>36 months</td>\n",
       "      <td>11.48%</td>\n",
       "    </tr>\n",
       "    <tr>\n",
       "      <th>9507</th>\n",
       "      <td>1392481.0</td>\n",
       "      <td>0.836173</td>\n",
       "      <td>Fully Paid</td>\n",
       "      <td>2012-07-01</td>\n",
       "      <td>B4</td>\n",
       "      <td>1.121814</td>\n",
       "      <td>36 months</td>\n",
       "      <td>13.11%</td>\n",
       "    </tr>\n",
       "    <tr>\n",
       "      <th>6949</th>\n",
       "      <td>69977048.0</td>\n",
       "      <td>0.896635</td>\n",
       "      <td>Fully Paid</td>\n",
       "      <td>2016-02-01</td>\n",
       "      <td>B3</td>\n",
       "      <td>1.158812</td>\n",
       "      <td>36 months</td>\n",
       "      <td>9.75%</td>\n",
       "    </tr>\n",
       "    <tr>\n",
       "      <th>10224</th>\n",
       "      <td>18485719.0</td>\n",
       "      <td>0.912476</td>\n",
       "      <td>Fully Paid</td>\n",
       "      <td>2014-06-01</td>\n",
       "      <td>B4</td>\n",
       "      <td>1.009725</td>\n",
       "      <td>36 months</td>\n",
       "      <td>11.67%</td>\n",
       "    </tr>\n",
       "    <tr>\n",
       "      <th>11798</th>\n",
       "      <td>30625900.0</td>\n",
       "      <td>0.947794</td>\n",
       "      <td>Fully Paid</td>\n",
       "      <td>2014-10-01</td>\n",
       "      <td>A1</td>\n",
       "      <td>1.095344</td>\n",
       "      <td>36 months</td>\n",
       "      <td>6.03%</td>\n",
       "    </tr>\n",
       "    <tr>\n",
       "      <th>18836</th>\n",
       "      <td>8564969.0</td>\n",
       "      <td>0.964945</td>\n",
       "      <td>Fully Paid</td>\n",
       "      <td>2013-11-01</td>\n",
       "      <td>A3</td>\n",
       "      <td>1.121809</td>\n",
       "      <td>36 months</td>\n",
       "      <td>7.62%</td>\n",
       "    </tr>\n",
       "  </tbody>\n",
       "</table>\n",
       "</div>"
      ],
      "text/plain": [
       "                id  pred_proba status_group    issue_d sub_grade  \\\n",
       "3094    84849701.0    0.742986   Fully Paid 2016-07-01        D2   \n",
       "2753   109005992.0    0.753760   Fully Paid 2017-05-01        C1   \n",
       "11507   28653578.0    0.802503   Fully Paid 2014-10-01        C1   \n",
       "16700   98138268.0    0.813565   Fully Paid 2017-02-01        B2   \n",
       "5750    70022639.0    0.829694   Fully Paid 2016-01-01        B5   \n",
       "9507     1392481.0    0.836173   Fully Paid 2012-07-01        B4   \n",
       "6949    69977048.0    0.896635   Fully Paid 2016-02-01        B3   \n",
       "10224   18485719.0    0.912476   Fully Paid 2014-06-01        B4   \n",
       "11798   30625900.0    0.947794   Fully Paid 2014-10-01        A1   \n",
       "18836    8564969.0    0.964945   Fully Paid 2013-11-01        A3   \n",
       "\n",
       "       percent_paid        term int_rate  \n",
       "3094       1.229536   36 months   17.99%  \n",
       "2753       1.177098   36 months   12.62%  \n",
       "11507      1.201757   36 months   12.99%  \n",
       "16700      1.058902   36 months   10.49%  \n",
       "5750       1.178163   36 months   11.48%  \n",
       "9507       1.121814   36 months   13.11%  \n",
       "6949       1.158812   36 months    9.75%  \n",
       "10224      1.009725   36 months   11.67%  \n",
       "11798      1.095344   36 months    6.03%  \n",
       "18836      1.121809   36 months    7.62%  "
      ]
     },
     "execution_count": 19,
     "metadata": {},
     "output_type": "execute_result"
    }
   ],
   "source": [
    "df[fully_paid & right].sample(n=10, random_state=1).sort_values(by=\"pred_proba\")"
   ]
  },
  {
   "cell_type": "markdown",
   "metadata": {
    "colab_type": "text",
    "id": "DXZFws3Jd1ZA"
   },
   "source": [
    "---\n",
    "\n",
    "## Explain individual predictions with shapley value plots\n",
    "\n",
    "#### [Dan Becker explains Shapley Values:](https://www.kaggle.com/dansbecker/shap-values)\n",
    "\n",
    ">You've seen (and used) techniques to extract general insights from a machine learning model. But what if you want to break down how the model works for an individual prediction?\n",
    "\n",
    ">SHAP Values (an acronym from SHapley Additive exPlanations) break down a prediction to show the impact of each feature. \n",
    "\n",
    ">There is some complexity to the technique ... We won't go into that detail here, since it isn't critical for using the technique. [This blog post](https://towardsdatascience.com/one-feature-attribution-method-to-supposedly-rule-them-all-shapley-values-f3e04534983d) has a longer theoretical explanation."
   ]
  },
  {
   "cell_type": "code",
   "execution_count": null,
   "metadata": {
    "colab": {},
    "colab_type": "code",
    "id": "c-SX6rvGLlWh"
   },
   "outputs": [],
   "source": []
  },
  {
   "cell_type": "markdown",
   "metadata": {
    "colab_type": "text",
    "id": "zxZCug2ShtsN"
   },
   "source": [
    "\n",
    "## Look at more examples"
   ]
  },
  {
   "cell_type": "markdown",
   "metadata": {
    "colab_type": "text",
    "id": "eZD8u_8gioIJ"
   },
   "source": [
    "#### Loan was charged off, model's prediction was right"
   ]
  },
  {
   "cell_type": "code",
   "execution_count": null,
   "metadata": {
    "colab": {
     "base_uri": "https://localhost:8080/",
     "height": 355
    },
    "colab_type": "code",
    "id": "bajCUYrZH19_",
    "outputId": "eb9ac675-e35d-41a1-ceb5-066c81d528bb"
   },
   "outputs": [],
   "source": []
  },
  {
   "cell_type": "markdown",
   "metadata": {
    "colab_type": "text",
    "id": "Xf1F28Ivit6b"
   },
   "source": [
    "#### Loan was fully paid, model's prediction was wrong"
   ]
  },
  {
   "cell_type": "code",
   "execution_count": null,
   "metadata": {
    "colab": {
     "base_uri": "https://localhost:8080/",
     "height": 355
    },
    "colab_type": "code",
    "id": "P5xPpHRtH9zh",
    "outputId": "0b1f01dd-5a89-4c71-bdfc-8a3352788826"
   },
   "outputs": [],
   "source": []
  },
  {
   "cell_type": "markdown",
   "metadata": {
    "colab_type": "text",
    "id": "eQndEAFni29k"
   },
   "source": [
    "#### Loan was charged off, model's prediction was wrong"
   ]
  },
  {
   "cell_type": "code",
   "execution_count": null,
   "metadata": {
    "colab": {
     "base_uri": "https://localhost:8080/",
     "height": 355
    },
    "colab_type": "code",
    "id": "Wxyw4bGrIE64",
    "outputId": "d9b2198e-a41a-46c6-e688-f6413b82eb5f"
   },
   "outputs": [],
   "source": []
  },
  {
   "cell_type": "markdown",
   "metadata": {
    "colab_type": "text",
    "id": "0htQP67kR7t9"
   },
   "source": [
    "---\n",
    "---\n",
    "\n",
    "## Regression: NYC Apartment Rents\n",
    "\n",
    "_**Coming full circle!**_"
   ]
  },
  {
   "cell_type": "code",
   "execution_count": null,
   "metadata": {
    "colab": {},
    "colab_type": "code",
    "id": "jlP4V7QLDSZD"
   },
   "outputs": [],
   "source": [
    "# Read New York City apartment rental listing data\n",
    "df = pd.read_csv(DATA_PATH+'apartments/renthop-nyc.csv')\n",
    "assert df.shape == (49352, 34)\n",
    "\n",
    "# Remove the most extreme 1% prices,\n",
    "# the most extreme .1% latitudes, &\n",
    "# the most extreme .1% longitudes\n",
    "df = df[(df['price'] >= np.percentile(df['price'], 0.5)) & \n",
    "        (df['price'] <= np.percentile(df['price'], 99.5)) & \n",
    "        (df['latitude'] >= np.percentile(df['latitude'], 0.05)) & \n",
    "        (df['latitude'] < np.percentile(df['latitude'], 99.95)) &\n",
    "        (df['longitude'] >= np.percentile(df['longitude'], 0.05)) & \n",
    "        (df['longitude'] <= np.percentile(df['longitude'], 99.95))]\n",
    "\n",
    "# Do train/test split\n",
    "# Use data from April & May 2016 to train\n",
    "# Use data from June 2016 to test\n",
    "df['created'] = pd.to_datetime(df['created'], infer_datetime_format=True)\n",
    "cutoff = pd.to_datetime('2016-06-01')\n",
    "train = df[df.created < cutoff]\n",
    "test  = df[df.created >= cutoff]"
   ]
  },
  {
   "cell_type": "markdown",
   "metadata": {
    "colab_type": "text",
    "id": "lCMkT-PeDSZF"
   },
   "source": [
    "_**Remember this code you wrote for your first assignment?**_\n",
    "\n",
    "```python\n",
    "# Arrange X features matrix & y target vector\n",
    "features = ['bedrooms', 'bathrooms']\n",
    "target = 'price'\n",
    "X = df[features]\n",
    "y = df[target]\n",
    "\n",
    "# Fit model\n",
    "from sklearn.linear_model import LinearRegression\n",
    "model = LinearRegression()\n",
    "model.fit(X, y)\n",
    "\n",
    "def predict(bedrooms, bathrooms):\n",
    "    y_pred = model.predict([[bedrooms, bathrooms]])\n",
    "    estimate = y_pred[0]\n",
    "    bed_coef = model.coef_[0]\n",
    "    bath_coef = model.coef_[1]\n",
    "    \n",
    "    # Format with $ and comma separators. No decimals.\n",
    "    result = f'Rent for a {bedrooms}-bed, {bathrooms}-bath apartment in NYC is estimated at ${estimate:,.0f}.'\n",
    "    explanation = f' In this model, each bedroom adds ${bed_coef:,.0f} & each bathroom adds ${bath_coef:,.0f}.'\n",
    "    return result + explanation\n",
    "```\n",
    "\n",
    "\n",
    "_**Let's do something similar, but with a tuned Random Forest and Shapley Values.**_"
   ]
  },
  {
   "cell_type": "code",
   "execution_count": null,
   "metadata": {
    "colab": {},
    "colab_type": "code",
    "id": "kk9zF2U4DSZF"
   },
   "outputs": [],
   "source": [
    "# Assign to X, y\n",
    "features = ['bedrooms', 'bathrooms', 'longitude', 'latitude']\n",
    "target = 'price'\n",
    "X_train = train[features]\n",
    "y_train = train[target]\n",
    "X_test = test[features]\n",
    "y_test = test[target]"
   ]
  },
  {
   "cell_type": "code",
   "execution_count": null,
   "metadata": {
    "colab": {
     "base_uri": "https://localhost:8080/",
     "height": 159
    },
    "colab_type": "code",
    "id": "zzMdHC4SDSZH",
    "outputId": "0b25a76b-1b7d-4e19-f55e-0e06ae644e5a"
   },
   "outputs": [],
   "source": [
    "# \n",
    "param_distributions = { \n",
    "    'n_estimators': randint(50, 500), \n",
    "    'max_depth': [5, 10, 15, 20, None], \n",
    "    'max_features': uniform(0, 1), \n",
    "}\n",
    "\n",
    "search = RandomizedSearchCV(\n",
    "    RandomForestRegressor(random_state=42), \n",
    "    param_distributions=param_distributions, \n",
    "    n_iter=5, \n",
    "    cv=2, \n",
    "    scoring='neg_mean_absolute_error', \n",
    "    verbose=10, \n",
    "    return_train_score=True, \n",
    "    n_jobs=-1\n",
    ")\n",
    "\n",
    "search.fit(X_train, y_train);"
   ]
  },
  {
   "cell_type": "code",
   "execution_count": null,
   "metadata": {
    "colab": {
     "base_uri": "https://localhost:8080/",
     "height": 52
    },
    "colab_type": "code",
    "id": "sLPgxMOzDSZI",
    "outputId": "301cc903-497a-45f4-822e-0fe61e07878b"
   },
   "outputs": [],
   "source": [
    "print('Best hyperparameters', search.best_params_)\n",
    "print('Cross-validation MAE', -search.best_score_)\n",
    "model = search.best_estimator_"
   ]
  },
  {
   "cell_type": "markdown",
   "metadata": {
    "colab_type": "text",
    "id": "xkKDayfHDSZK"
   },
   "source": [
    "### Define the predict function"
   ]
  },
  {
   "cell_type": "code",
   "execution_count": null,
   "metadata": {
    "colab": {
     "base_uri": "https://localhost:8080/",
     "height": 35
    },
    "colab_type": "code",
    "id": "tEAHjvMloWMh",
    "outputId": "b5ad875c-f9e1-4355-b150-1b661ae6896e"
   },
   "outputs": [],
   "source": []
  }
 ],
 "metadata": {
  "kernelspec": {
   "display_name": "Python 3",
   "language": "python",
   "name": "python3"
  },
  "language_info": {
   "codemirror_mode": {
    "name": "ipython",
    "version": 3
   },
   "file_extension": ".py",
   "mimetype": "text/x-python",
   "name": "python",
   "nbconvert_exporter": "python",
   "pygments_lexer": "ipython3",
   "version": "3.7.3"
  }
 },
 "nbformat": 4,
 "nbformat_minor": 4
}
