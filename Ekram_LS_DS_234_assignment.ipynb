{
  "nbformat": 4,
  "nbformat_minor": 0,
  "metadata": {
    "kernelspec": {
      "display_name": "Python 3",
      "language": "python",
      "name": "python3"
    },
    "language_info": {
      "codemirror_mode": {
        "name": "ipython",
        "version": 3
      },
      "file_extension": ".py",
      "mimetype": "text/x-python",
      "name": "python",
      "nbconvert_exporter": "python",
      "pygments_lexer": "ipython3",
      "version": "3.7.6"
    },
    "colab": {
      "name": "Ekram LS_DS_234_assignment.ipynb",
      "provenance": [],
      "include_colab_link": true
    }
  },
  "cells": [
    {
      "cell_type": "markdown",
      "metadata": {
        "id": "view-in-github",
        "colab_type": "text"
      },
      "source": [
        "<a href=\"https://colab.research.google.com/github/Ekram49/DS-Unit-2-Applied-Modeling/blob/master/Ekram_LS_DS_234_assignment.ipynb\" target=\"_parent\"><img src=\"https://colab.research.google.com/assets/colab-badge.svg\" alt=\"Open In Colab\"/></a>"
      ]
    },
    {
      "cell_type": "markdown",
      "metadata": {
        "id": "O8k60MT-0Jjr",
        "colab_type": "text"
      },
      "source": [
        "\n",
        "Lambda School Data Science\n",
        "\n",
        "*Unit 2, Sprint 3, Module 4*\n",
        "\n",
        "---"
      ]
    },
    {
      "cell_type": "markdown",
      "metadata": {
        "id": "bf5NMcyO0Jju",
        "colab_type": "text"
      },
      "source": [
        "# Model Interpretation\n",
        "\n",
        "You will use your portfolio project dataset for all assignments this sprint.\n",
        "\n",
        "## Assignment\n",
        "\n",
        "Complete these tasks for your project, and document your work.\n",
        "\n",
        "- [ ] Continue to iterate on your project: data cleaning, exploratory visualization, feature engineering, modeling.\n",
        "- [ ] Make at least 1 partial dependence plot to explain your model.\n",
        "- [ ] Make at least 1 Shapley force plot to explain an individual prediction.\n",
        "- [ ] **Share at least 1 visualization (of any type) on Slack!**\n",
        "\n",
        "If you aren't ready to make these plots with your own dataset, you can practice these objectives with any dataset you've worked with previously. Example solutions are available for Partial Dependence Plots with the Tanzania Waterpumps dataset, and Shapley force plots with the Titanic dataset. (These datasets are available in the data directory of this repository.)\n",
        "\n",
        "Please be aware that **multi-class classification** will result in multiple Partial Dependence Plots (one for each class), and multiple sets of Shapley Values (one for each class)."
      ]
    },
    {
      "cell_type": "markdown",
      "metadata": {
        "id": "ywsE7zOO0Jjv",
        "colab_type": "text"
      },
      "source": [
        "## Stretch Goals\n",
        "\n",
        "#### Partial Dependence Plots\n",
        "- [ ] Make multiple PDPs with 1 feature in isolation.\n",
        "- [ ] Make multiple PDPs with 2 features in interaction. \n",
        "- [ ] Use Plotly to make a 3D PDP.\n",
        "- [ ] Make PDPs with categorical feature(s). Use Ordinal Encoder, outside of a pipeline, to encode your data first. If there is a natural ordering, then take the time to encode it that way, instead of random integers. Then use the encoded data with pdpbox. Get readable category names on your plot, instead of integer category codes.\n",
        "\n",
        "#### Shap Values\n",
        "- [ ] Make Shapley force plots to explain at least 4 individual predictions.\n",
        "    - If your project is Binary Classification, you can do a True Positive, True Negative, False Positive, False Negative.\n",
        "    - If your project is Regression, you can do a high prediction with low error, a low prediction with low error, a high prediction with high error, and a low prediction with high error.\n",
        "- [ ] Use Shapley values to display verbal explanations of individual predictions.\n",
        "- [ ] Use the SHAP library for other visualization types.\n",
        "\n",
        "The [SHAP repo](https://github.com/slundberg/shap) has examples for many visualization types, including:\n",
        "\n",
        "- Force Plot, individual predictions\n",
        "- Force Plot, multiple predictions\n",
        "- Dependence Plot\n",
        "- Summary Plot\n",
        "- Summary Plot, Bar\n",
        "- Interaction Values\n",
        "- Decision Plots\n",
        "\n",
        "We just did the first type during the lesson. The [Kaggle microcourse](https://www.kaggle.com/dansbecker/advanced-uses-of-shap-values) shows two more. Experiment and see what you can learn!"
      ]
    },
    {
      "cell_type": "markdown",
      "metadata": {
        "id": "vBGswqef0Jjw",
        "colab_type": "text"
      },
      "source": [
        "### Links\n",
        "\n",
        "#### Partial Dependence Plots\n",
        "- [Kaggle / Dan Becker: Machine Learning Explainability — Partial Dependence Plots](https://www.kaggle.com/dansbecker/partial-plots)\n",
        "- [Christoph Molnar: Interpretable Machine Learning — Partial Dependence Plots](https://christophm.github.io/interpretable-ml-book/pdp.html) + [animated explanation](https://twitter.com/ChristophMolnar/status/1066398522608635904)\n",
        "- [pdpbox repo](https://github.com/SauceCat/PDPbox) & [docs](https://pdpbox.readthedocs.io/en/latest/)\n",
        "- [Plotly: 3D PDP example](https://plot.ly/scikit-learn/plot-partial-dependence/#partial-dependence-of-house-value-on-median-age-and-average-occupancy)\n",
        "\n",
        "#### Shapley Values\n",
        "- [Kaggle / Dan Becker: Machine Learning Explainability — SHAP Values](https://www.kaggle.com/learn/machine-learning-explainability)\n",
        "- [Christoph Molnar: Interpretable Machine Learning — Shapley Values](https://christophm.github.io/interpretable-ml-book/shapley.html)\n",
        "- [SHAP repo](https://github.com/slundberg/shap) & [docs](https://shap.readthedocs.io/en/latest/)"
      ]
    },
    {
      "cell_type": "code",
      "metadata": {
        "id": "hehVPj2m0Jjx",
        "colab_type": "code",
        "colab": {}
      },
      "source": [
        "%%capture\n",
        "import sys\n",
        "\n",
        "# If you're on Colab:\n",
        "if 'google.colab' in sys.modules:\n",
        "    DATA_PATH = 'https://raw.githubusercontent.com/LambdaSchool/DS-Unit-2-Applied-Modeling/master/data/'\n",
        "    !pip install category_encoders==2.*\n",
        "    !pip install eli5\n",
        "    !pip install pdpbox\n",
        "    !pip install shap\n",
        "\n",
        "# If you're working locally:\n",
        "else:\n",
        "    DATA_PATH = '../data/'"
      ],
      "execution_count": 0,
      "outputs": []
    },
    {
      "cell_type": "code",
      "metadata": {
        "id": "sMYXNv_90Jj0",
        "colab_type": "code",
        "colab": {}
      },
      "source": [
        "import pandas as pd\n",
        "import numpy as np\n",
        "import matplotlib.pyplot as plt"
      ],
      "execution_count": 0,
      "outputs": []
    },
    {
      "cell_type": "code",
      "metadata": {
        "id": "ou3MKrpRdPKY",
        "colab_type": "code",
        "colab": {
          "base_uri": "https://localhost:8080/",
          "height": 383
        },
        "outputId": "931d4b51-625c-41c7-8b5b-a2ac7bbc5528"
      },
      "source": [
        "df = pd.read_csv('https://raw.githubusercontent.com/Ekram49/DS-Unit-1-Build/master/ContinousDataset.csv')\n",
        "df.head()"
      ],
      "execution_count": 3,
      "outputs": [
        {
          "output_type": "execute_result",
          "data": {
            "text/html": [
              "<div>\n",
              "<style scoped>\n",
              "    .dataframe tbody tr th:only-of-type {\n",
              "        vertical-align: middle;\n",
              "    }\n",
              "\n",
              "    .dataframe tbody tr th {\n",
              "        vertical-align: top;\n",
              "    }\n",
              "\n",
              "    .dataframe thead th {\n",
              "        text-align: right;\n",
              "    }\n",
              "</style>\n",
              "<table border=\"1\" class=\"dataframe\">\n",
              "  <thead>\n",
              "    <tr style=\"text-align: right;\">\n",
              "      <th></th>\n",
              "      <th>Unnamed: 0</th>\n",
              "      <th>Scorecard</th>\n",
              "      <th>Team 1</th>\n",
              "      <th>Team 2</th>\n",
              "      <th>Margin</th>\n",
              "      <th>Ground</th>\n",
              "      <th>Match Date</th>\n",
              "      <th>Winner</th>\n",
              "      <th>Host_Country</th>\n",
              "      <th>Venue_Team1</th>\n",
              "      <th>Venue_Team2</th>\n",
              "      <th>Innings_Team1</th>\n",
              "      <th>Innings_Team2</th>\n",
              "    </tr>\n",
              "  </thead>\n",
              "  <tbody>\n",
              "    <tr>\n",
              "      <th>0</th>\n",
              "      <td>0</td>\n",
              "      <td>ODI # 1</td>\n",
              "      <td>Australia</td>\n",
              "      <td>England</td>\n",
              "      <td>Winner2ndInning</td>\n",
              "      <td>Melbourne</td>\n",
              "      <td>Jan 5, 1971</td>\n",
              "      <td>Australia</td>\n",
              "      <td>Australia</td>\n",
              "      <td>Home</td>\n",
              "      <td>Away</td>\n",
              "      <td>Second</td>\n",
              "      <td>First</td>\n",
              "    </tr>\n",
              "    <tr>\n",
              "      <th>1</th>\n",
              "      <td>1</td>\n",
              "      <td>ODI # 2</td>\n",
              "      <td>England</td>\n",
              "      <td>Australia</td>\n",
              "      <td>Winner2ndInning</td>\n",
              "      <td>Manchester</td>\n",
              "      <td>Aug 24, 1972</td>\n",
              "      <td>England</td>\n",
              "      <td>England</td>\n",
              "      <td>Home</td>\n",
              "      <td>Away</td>\n",
              "      <td>Second</td>\n",
              "      <td>First</td>\n",
              "    </tr>\n",
              "    <tr>\n",
              "      <th>2</th>\n",
              "      <td>2</td>\n",
              "      <td>ODI # 3</td>\n",
              "      <td>England</td>\n",
              "      <td>Australia</td>\n",
              "      <td>Winner2ndInning</td>\n",
              "      <td>Lord's</td>\n",
              "      <td>Aug 26, 1972</td>\n",
              "      <td>Australia</td>\n",
              "      <td>England</td>\n",
              "      <td>Home</td>\n",
              "      <td>Away</td>\n",
              "      <td>First</td>\n",
              "      <td>Second</td>\n",
              "    </tr>\n",
              "    <tr>\n",
              "      <th>3</th>\n",
              "      <td>3</td>\n",
              "      <td>ODI # 4</td>\n",
              "      <td>England</td>\n",
              "      <td>Australia</td>\n",
              "      <td>Winner2ndInning</td>\n",
              "      <td>Birmingham</td>\n",
              "      <td>Aug 28, 1972</td>\n",
              "      <td>England</td>\n",
              "      <td>England</td>\n",
              "      <td>Home</td>\n",
              "      <td>Away</td>\n",
              "      <td>Second</td>\n",
              "      <td>First</td>\n",
              "    </tr>\n",
              "    <tr>\n",
              "      <th>4</th>\n",
              "      <td>4</td>\n",
              "      <td>ODI # 5</td>\n",
              "      <td>New Zealand</td>\n",
              "      <td>Pakistan</td>\n",
              "      <td>Winner1stInning</td>\n",
              "      <td>Christchurch</td>\n",
              "      <td>Feb 11, 1973</td>\n",
              "      <td>New Zealand</td>\n",
              "      <td>New Zealand</td>\n",
              "      <td>Home</td>\n",
              "      <td>Away</td>\n",
              "      <td>First</td>\n",
              "      <td>Second</td>\n",
              "    </tr>\n",
              "  </tbody>\n",
              "</table>\n",
              "</div>"
            ],
            "text/plain": [
              "   Unnamed: 0 Scorecard       Team 1  ... Venue_Team2 Innings_Team1 Innings_Team2\n",
              "0           0   ODI # 1    Australia  ...        Away        Second         First\n",
              "1           1   ODI # 2      England  ...        Away        Second         First\n",
              "2           2   ODI # 3      England  ...        Away         First        Second\n",
              "3           3   ODI # 4      England  ...        Away        Second         First\n",
              "4           4   ODI # 5  New Zealand  ...        Away         First        Second\n",
              "\n",
              "[5 rows x 13 columns]"
            ]
          },
          "metadata": {
            "tags": []
          },
          "execution_count": 3
        }
      ]
    },
    {
      "cell_type": "code",
      "metadata": {
        "id": "w83xPd5ddPNP",
        "colab_type": "code",
        "colab": {
          "base_uri": "https://localhost:8080/",
          "height": 299
        },
        "outputId": "975d4467-c634-4440-f39f-be4508cb3a7e"
      },
      "source": [
        "df = df.rename(columns={\"Team 1\": \"Team_1\", \"Team 2\": \"Team_2\",\n",
        "                   \"Team 1\": \"Team_1\",\"Match Date\":\"Match_Date\"})\n",
        "df.head()"
      ],
      "execution_count": 4,
      "outputs": [
        {
          "output_type": "execute_result",
          "data": {
            "text/html": [
              "<div>\n",
              "<style scoped>\n",
              "    .dataframe tbody tr th:only-of-type {\n",
              "        vertical-align: middle;\n",
              "    }\n",
              "\n",
              "    .dataframe tbody tr th {\n",
              "        vertical-align: top;\n",
              "    }\n",
              "\n",
              "    .dataframe thead th {\n",
              "        text-align: right;\n",
              "    }\n",
              "</style>\n",
              "<table border=\"1\" class=\"dataframe\">\n",
              "  <thead>\n",
              "    <tr style=\"text-align: right;\">\n",
              "      <th></th>\n",
              "      <th>Unnamed: 0</th>\n",
              "      <th>Scorecard</th>\n",
              "      <th>Team_1</th>\n",
              "      <th>Team_2</th>\n",
              "      <th>Margin</th>\n",
              "      <th>Ground</th>\n",
              "      <th>Match_Date</th>\n",
              "      <th>Winner</th>\n",
              "      <th>Host_Country</th>\n",
              "      <th>Venue_Team1</th>\n",
              "      <th>Venue_Team2</th>\n",
              "      <th>Innings_Team1</th>\n",
              "      <th>Innings_Team2</th>\n",
              "    </tr>\n",
              "  </thead>\n",
              "  <tbody>\n",
              "    <tr>\n",
              "      <th>0</th>\n",
              "      <td>0</td>\n",
              "      <td>ODI # 1</td>\n",
              "      <td>Australia</td>\n",
              "      <td>England</td>\n",
              "      <td>Winner2ndInning</td>\n",
              "      <td>Melbourne</td>\n",
              "      <td>Jan 5, 1971</td>\n",
              "      <td>Australia</td>\n",
              "      <td>Australia</td>\n",
              "      <td>Home</td>\n",
              "      <td>Away</td>\n",
              "      <td>Second</td>\n",
              "      <td>First</td>\n",
              "    </tr>\n",
              "    <tr>\n",
              "      <th>1</th>\n",
              "      <td>1</td>\n",
              "      <td>ODI # 2</td>\n",
              "      <td>England</td>\n",
              "      <td>Australia</td>\n",
              "      <td>Winner2ndInning</td>\n",
              "      <td>Manchester</td>\n",
              "      <td>Aug 24, 1972</td>\n",
              "      <td>England</td>\n",
              "      <td>England</td>\n",
              "      <td>Home</td>\n",
              "      <td>Away</td>\n",
              "      <td>Second</td>\n",
              "      <td>First</td>\n",
              "    </tr>\n",
              "    <tr>\n",
              "      <th>2</th>\n",
              "      <td>2</td>\n",
              "      <td>ODI # 3</td>\n",
              "      <td>England</td>\n",
              "      <td>Australia</td>\n",
              "      <td>Winner2ndInning</td>\n",
              "      <td>Lord's</td>\n",
              "      <td>Aug 26, 1972</td>\n",
              "      <td>Australia</td>\n",
              "      <td>England</td>\n",
              "      <td>Home</td>\n",
              "      <td>Away</td>\n",
              "      <td>First</td>\n",
              "      <td>Second</td>\n",
              "    </tr>\n",
              "    <tr>\n",
              "      <th>3</th>\n",
              "      <td>3</td>\n",
              "      <td>ODI # 4</td>\n",
              "      <td>England</td>\n",
              "      <td>Australia</td>\n",
              "      <td>Winner2ndInning</td>\n",
              "      <td>Birmingham</td>\n",
              "      <td>Aug 28, 1972</td>\n",
              "      <td>England</td>\n",
              "      <td>England</td>\n",
              "      <td>Home</td>\n",
              "      <td>Away</td>\n",
              "      <td>Second</td>\n",
              "      <td>First</td>\n",
              "    </tr>\n",
              "    <tr>\n",
              "      <th>4</th>\n",
              "      <td>4</td>\n",
              "      <td>ODI # 5</td>\n",
              "      <td>New Zealand</td>\n",
              "      <td>Pakistan</td>\n",
              "      <td>Winner1stInning</td>\n",
              "      <td>Christchurch</td>\n",
              "      <td>Feb 11, 1973</td>\n",
              "      <td>New Zealand</td>\n",
              "      <td>New Zealand</td>\n",
              "      <td>Home</td>\n",
              "      <td>Away</td>\n",
              "      <td>First</td>\n",
              "      <td>Second</td>\n",
              "    </tr>\n",
              "  </tbody>\n",
              "</table>\n",
              "</div>"
            ],
            "text/plain": [
              "   Unnamed: 0 Scorecard       Team_1  ... Venue_Team2 Innings_Team1 Innings_Team2\n",
              "0           0   ODI # 1    Australia  ...        Away        Second         First\n",
              "1           1   ODI # 2      England  ...        Away        Second         First\n",
              "2           2   ODI # 3      England  ...        Away         First        Second\n",
              "3           3   ODI # 4      England  ...        Away        Second         First\n",
              "4           4   ODI # 5  New Zealand  ...        Away         First        Second\n",
              "\n",
              "[5 rows x 13 columns]"
            ]
          },
          "metadata": {
            "tags": []
          },
          "execution_count": 4
        }
      ]
    },
    {
      "cell_type": "code",
      "metadata": {
        "id": "HTNO3n_GdPPy",
        "colab_type": "code",
        "colab": {
          "base_uri": "https://localhost:8080/",
          "height": 282
        },
        "outputId": "adfb0e70-9693-45e6-9b6c-78d3eb6859be"
      },
      "source": [
        "df = df[(((df['Team_1'] == 'India') | (df['Team_2'] == 'India'))) & (((df['Team_1'] == 'Pakistan') | (df['Team_2'] == 'Pakistan'))) ]\n",
        "\n",
        "df.head()"
      ],
      "execution_count": 5,
      "outputs": [
        {
          "output_type": "execute_result",
          "data": {
            "text/html": [
              "<div>\n",
              "<style scoped>\n",
              "    .dataframe tbody tr th:only-of-type {\n",
              "        vertical-align: middle;\n",
              "    }\n",
              "\n",
              "    .dataframe tbody tr th {\n",
              "        vertical-align: top;\n",
              "    }\n",
              "\n",
              "    .dataframe thead th {\n",
              "        text-align: right;\n",
              "    }\n",
              "</style>\n",
              "<table border=\"1\" class=\"dataframe\">\n",
              "  <thead>\n",
              "    <tr style=\"text-align: right;\">\n",
              "      <th></th>\n",
              "      <th>Unnamed: 0</th>\n",
              "      <th>Scorecard</th>\n",
              "      <th>Team_1</th>\n",
              "      <th>Team_2</th>\n",
              "      <th>Margin</th>\n",
              "      <th>Ground</th>\n",
              "      <th>Match_Date</th>\n",
              "      <th>Winner</th>\n",
              "      <th>Host_Country</th>\n",
              "      <th>Venue_Team1</th>\n",
              "      <th>Venue_Team2</th>\n",
              "      <th>Innings_Team1</th>\n",
              "      <th>Innings_Team2</th>\n",
              "    </tr>\n",
              "  </thead>\n",
              "  <tbody>\n",
              "    <tr>\n",
              "      <th>50</th>\n",
              "      <td>50</td>\n",
              "      <td>ODI # 54</td>\n",
              "      <td>Pakistan</td>\n",
              "      <td>India</td>\n",
              "      <td>Winner1stInning</td>\n",
              "      <td>Quetta</td>\n",
              "      <td>Oct 1, 1978</td>\n",
              "      <td>India</td>\n",
              "      <td>Pakistan</td>\n",
              "      <td>Home</td>\n",
              "      <td>Away</td>\n",
              "      <td>Second</td>\n",
              "      <td>First</td>\n",
              "    </tr>\n",
              "    <tr>\n",
              "      <th>51</th>\n",
              "      <td>51</td>\n",
              "      <td>ODI # 55</td>\n",
              "      <td>Pakistan</td>\n",
              "      <td>India</td>\n",
              "      <td>Winner2ndInning</td>\n",
              "      <td>Sialkot</td>\n",
              "      <td>Oct 13, 1978</td>\n",
              "      <td>Pakistan</td>\n",
              "      <td>Pakistan</td>\n",
              "      <td>Home</td>\n",
              "      <td>Away</td>\n",
              "      <td>Second</td>\n",
              "      <td>First</td>\n",
              "    </tr>\n",
              "    <tr>\n",
              "      <th>154</th>\n",
              "      <td>155</td>\n",
              "      <td>ODI # 162</td>\n",
              "      <td>Pakistan</td>\n",
              "      <td>India</td>\n",
              "      <td>Winner1stInning</td>\n",
              "      <td>Gujranwala</td>\n",
              "      <td>Dec 3, 1982</td>\n",
              "      <td>Pakistan</td>\n",
              "      <td>Pakistan</td>\n",
              "      <td>Home</td>\n",
              "      <td>Away</td>\n",
              "      <td>First</td>\n",
              "      <td>Second</td>\n",
              "    </tr>\n",
              "    <tr>\n",
              "      <th>155</th>\n",
              "      <td>156</td>\n",
              "      <td>ODI # 163</td>\n",
              "      <td>Pakistan</td>\n",
              "      <td>India</td>\n",
              "      <td>Winner1stInning</td>\n",
              "      <td>Multan</td>\n",
              "      <td>Dec 17, 1982</td>\n",
              "      <td>Pakistan</td>\n",
              "      <td>Pakistan</td>\n",
              "      <td>Home</td>\n",
              "      <td>Away</td>\n",
              "      <td>First</td>\n",
              "      <td>Second</td>\n",
              "    </tr>\n",
              "    <tr>\n",
              "      <th>156</th>\n",
              "      <td>157</td>\n",
              "      <td>ODI # 164</td>\n",
              "      <td>Pakistan</td>\n",
              "      <td>India</td>\n",
              "      <td>Winner1stInning</td>\n",
              "      <td>Lahore</td>\n",
              "      <td>Dec 31, 1982</td>\n",
              "      <td>India</td>\n",
              "      <td>Pakistan</td>\n",
              "      <td>Home</td>\n",
              "      <td>Away</td>\n",
              "      <td>Second</td>\n",
              "      <td>First</td>\n",
              "    </tr>\n",
              "  </tbody>\n",
              "</table>\n",
              "</div>"
            ],
            "text/plain": [
              "     Unnamed: 0  Scorecard    Team_1  ... Venue_Team2 Innings_Team1 Innings_Team2\n",
              "50           50   ODI # 54  Pakistan  ...        Away        Second         First\n",
              "51           51   ODI # 55  Pakistan  ...        Away        Second         First\n",
              "154         155  ODI # 162  Pakistan  ...        Away         First        Second\n",
              "155         156  ODI # 163  Pakistan  ...        Away         First        Second\n",
              "156         157  ODI # 164  Pakistan  ...        Away        Second         First\n",
              "\n",
              "[5 rows x 13 columns]"
            ]
          },
          "metadata": {
            "tags": []
          },
          "execution_count": 5
        }
      ]
    },
    {
      "cell_type": "markdown",
      "metadata": {
        "id": "_o8mfx1GeKly",
        "colab_type": "text"
      },
      "source": [
        "# Baseline"
      ]
    },
    {
      "cell_type": "code",
      "metadata": {
        "id": "xe7lxU6DdPSM",
        "colab_type": "code",
        "colab": {
          "base_uri": "https://localhost:8080/",
          "height": 67
        },
        "outputId": "2c250828-ee4c-4b03-a8c9-ab0fbce4cc6d"
      },
      "source": [
        "df['Winner'].value_counts(normalize = True)"
      ],
      "execution_count": 6,
      "outputs": [
        {
          "output_type": "execute_result",
          "data": {
            "text/plain": [
              "Pakistan    0.585366\n",
              "India       0.414634\n",
              "Name: Winner, dtype: float64"
            ]
          },
          "metadata": {
            "tags": []
          },
          "execution_count": 6
        }
      ]
    },
    {
      "cell_type": "code",
      "metadata": {
        "id": "52rB0z54dPUn",
        "colab_type": "code",
        "colab": {
          "base_uri": "https://localhost:8080/",
          "height": 296
        },
        "outputId": "7c4e3f90-5344-492c-db46-3c89910d85f4"
      },
      "source": [
        "import seaborn as sns\n",
        "sns.countplot(df['Winner'])"
      ],
      "execution_count": 7,
      "outputs": [
        {
          "output_type": "execute_result",
          "data": {
            "text/plain": [
              "<matplotlib.axes._subplots.AxesSubplot at 0x7f973395e6d8>"
            ]
          },
          "metadata": {
            "tags": []
          },
          "execution_count": 7
        },
        {
          "output_type": "display_data",
          "data": {
            "image/png": "[encoded data removed]",
            "text/plain": [
              "<Figure size 432x288 with 1 Axes>"
            ]
          },
          "metadata": {
            "tags": []
          }
        }
      ]
    },
    {
      "cell_type": "code",
      "metadata": {
        "id": "ntJ-S8_tdPW2",
        "colab_type": "code",
        "colab": {
          "base_uri": "https://localhost:8080/",
          "height": 252
        },
        "outputId": "823c817f-4d6d-42e1-88bb-8057d7aa74a4"
      },
      "source": [
        "df.isna().sum().sort_values()"
      ],
      "execution_count": 8,
      "outputs": [
        {
          "output_type": "execute_result",
          "data": {
            "text/plain": [
              "Unnamed: 0       0\n",
              "Scorecard        0\n",
              "Team_1           0\n",
              "Team_2           0\n",
              "Margin           0\n",
              "Ground           0\n",
              "Match_Date       0\n",
              "Winner           0\n",
              "Venue_Team1      0\n",
              "Venue_Team2      0\n",
              "Innings_Team1    0\n",
              "Innings_Team2    0\n",
              "Host_Country     8\n",
              "dtype: int64"
            ]
          },
          "metadata": {
            "tags": []
          },
          "execution_count": 8
        }
      ]
    },
    {
      "cell_type": "code",
      "metadata": {
        "id": "mLPDGuzrdPY1",
        "colab_type": "code",
        "colab": {}
      },
      "source": [
        "df = df.fillna('Missing')"
      ],
      "execution_count": 0,
      "outputs": []
    },
    {
      "cell_type": "code",
      "metadata": {
        "id": "79bkCjLldPcS",
        "colab_type": "code",
        "colab": {
          "base_uri": "https://localhost:8080/",
          "height": 252
        },
        "outputId": "bf2773b1-d755-4fd5-eab2-e0a284414440"
      },
      "source": [
        "df.isna().sum().sort_values()"
      ],
      "execution_count": 10,
      "outputs": [
        {
          "output_type": "execute_result",
          "data": {
            "text/plain": [
              "Unnamed: 0       0\n",
              "Scorecard        0\n",
              "Team_1           0\n",
              "Team_2           0\n",
              "Margin           0\n",
              "Ground           0\n",
              "Match_Date       0\n",
              "Winner           0\n",
              "Host_Country     0\n",
              "Venue_Team1      0\n",
              "Venue_Team2      0\n",
              "Innings_Team1    0\n",
              "Innings_Team2    0\n",
              "dtype: int64"
            ]
          },
          "metadata": {
            "tags": []
          },
          "execution_count": 10
        }
      ]
    },
    {
      "cell_type": "markdown",
      "metadata": {
        "id": "albl8tNheRvt",
        "colab_type": "text"
      },
      "source": [
        "# New Features"
      ]
    },
    {
      "cell_type": "code",
      "metadata": {
        "id": "OywzJd44ddNV",
        "colab_type": "code",
        "colab": {}
      },
      "source": [
        "df['played_at_home'] = (df['Host_Country'] == 'India')"
      ],
      "execution_count": 0,
      "outputs": []
    },
    {
      "cell_type": "code",
      "metadata": {
        "id": "AhL-x8IFddP4",
        "colab_type": "code",
        "colab": {}
      },
      "source": [
        "df['played_at_Pakistan'] = (df['Host_Country'] == 'Pakistan')"
      ],
      "execution_count": 0,
      "outputs": []
    },
    {
      "cell_type": "code",
      "metadata": {
        "id": "4CbQhKxwddSU",
        "colab_type": "code",
        "colab": {}
      },
      "source": [
        "df['Played_in_neutral'] = (df['Host_Country'] != 'India') & (df['Host_Country'] != 'Pakistan')"
      ],
      "execution_count": 0,
      "outputs": []
    },
    {
      "cell_type": "code",
      "metadata": {
        "id": "cMYcYLzpddUv",
        "colab_type": "code",
        "colab": {}
      },
      "source": [
        "from sklearn.model_selection import train_test_split"
      ],
      "execution_count": 0,
      "outputs": []
    },
    {
      "cell_type": "code",
      "metadata": {
        "id": "rYLPCYFVddXT",
        "colab_type": "code",
        "colab": {}
      },
      "source": [
        "train, test = train_test_split(df, train_size = .8, test_size = .2,\n",
        "                               stratify = df['Winner'], random_state =42)"
      ],
      "execution_count": 0,
      "outputs": []
    },
    {
      "cell_type": "code",
      "metadata": {
        "id": "m4BGAos4ddZs",
        "colab_type": "code",
        "colab": {}
      },
      "source": [
        "train, val = train_test_split(train, train_size = .8, test_size = .2,\n",
        "                              stratify = train['Winner'], random_state =42)"
      ],
      "execution_count": 0,
      "outputs": []
    },
    {
      "cell_type": "markdown",
      "metadata": {
        "id": "BaSRxtujeYDy",
        "colab_type": "text"
      },
      "source": [
        "# Feature selection"
      ]
    },
    {
      "cell_type": "code",
      "metadata": {
        "id": "uDxthtkrddcB",
        "colab_type": "code",
        "colab": {}
      },
      "source": [
        "target = 'Winner'"
      ],
      "execution_count": 0,
      "outputs": []
    },
    {
      "cell_type": "code",
      "metadata": {
        "id": "9YaZO-H8ddfm",
        "colab_type": "code",
        "colab": {
          "base_uri": "https://localhost:8080/",
          "height": 491
        },
        "outputId": "a4b27918-9166-43bc-bb49-447084085db0"
      },
      "source": [
        "train.describe(exclude = 'number').T.sort_values(by = 'unique', ascending = False)"
      ],
      "execution_count": 18,
      "outputs": [
        {
          "output_type": "execute_result",
          "data": {
            "text/html": [
              "<div>\n",
              "<style scoped>\n",
              "    .dataframe tbody tr th:only-of-type {\n",
              "        vertical-align: middle;\n",
              "    }\n",
              "\n",
              "    .dataframe tbody tr th {\n",
              "        vertical-align: top;\n",
              "    }\n",
              "\n",
              "    .dataframe thead th {\n",
              "        text-align: right;\n",
              "    }\n",
              "</style>\n",
              "<table border=\"1\" class=\"dataframe\">\n",
              "  <thead>\n",
              "    <tr style=\"text-align: right;\">\n",
              "      <th></th>\n",
              "      <th>count</th>\n",
              "      <th>unique</th>\n",
              "      <th>top</th>\n",
              "      <th>freq</th>\n",
              "    </tr>\n",
              "  </thead>\n",
              "  <tbody>\n",
              "    <tr>\n",
              "      <th>Scorecard</th>\n",
              "      <td>156</td>\n",
              "      <td>109</td>\n",
              "      <td>ODI # 1230</td>\n",
              "      <td>2</td>\n",
              "    </tr>\n",
              "    <tr>\n",
              "      <th>Match_Date</th>\n",
              "      <td>156</td>\n",
              "      <td>109</td>\n",
              "      <td>Oct 25, 1991</td>\n",
              "      <td>2</td>\n",
              "    </tr>\n",
              "    <tr>\n",
              "      <th>Ground</th>\n",
              "      <td>156</td>\n",
              "      <td>41</td>\n",
              "      <td>Sharjah</td>\n",
              "      <td>29</td>\n",
              "    </tr>\n",
              "    <tr>\n",
              "      <th>Host_Country</th>\n",
              "      <td>156</td>\n",
              "      <td>11</td>\n",
              "      <td>India</td>\n",
              "      <td>38</td>\n",
              "    </tr>\n",
              "    <tr>\n",
              "      <th>Venue_Team1</th>\n",
              "      <td>156</td>\n",
              "      <td>3</td>\n",
              "      <td>Neutral</td>\n",
              "      <td>94</td>\n",
              "    </tr>\n",
              "    <tr>\n",
              "      <th>Venue_Team2</th>\n",
              "      <td>156</td>\n",
              "      <td>3</td>\n",
              "      <td>Neutral</td>\n",
              "      <td>94</td>\n",
              "    </tr>\n",
              "    <tr>\n",
              "      <th>Team_1</th>\n",
              "      <td>156</td>\n",
              "      <td>2</td>\n",
              "      <td>India</td>\n",
              "      <td>85</td>\n",
              "    </tr>\n",
              "    <tr>\n",
              "      <th>Team_2</th>\n",
              "      <td>156</td>\n",
              "      <td>2</td>\n",
              "      <td>Pakistan</td>\n",
              "      <td>85</td>\n",
              "    </tr>\n",
              "    <tr>\n",
              "      <th>Margin</th>\n",
              "      <td>156</td>\n",
              "      <td>2</td>\n",
              "      <td>Winner1stInning</td>\n",
              "      <td>84</td>\n",
              "    </tr>\n",
              "    <tr>\n",
              "      <th>Winner</th>\n",
              "      <td>156</td>\n",
              "      <td>2</td>\n",
              "      <td>Pakistan</td>\n",
              "      <td>92</td>\n",
              "    </tr>\n",
              "    <tr>\n",
              "      <th>Innings_Team1</th>\n",
              "      <td>156</td>\n",
              "      <td>2</td>\n",
              "      <td>Second</td>\n",
              "      <td>81</td>\n",
              "    </tr>\n",
              "    <tr>\n",
              "      <th>Innings_Team2</th>\n",
              "      <td>156</td>\n",
              "      <td>2</td>\n",
              "      <td>First</td>\n",
              "      <td>81</td>\n",
              "    </tr>\n",
              "    <tr>\n",
              "      <th>played_at_home</th>\n",
              "      <td>156</td>\n",
              "      <td>2</td>\n",
              "      <td>False</td>\n",
              "      <td>118</td>\n",
              "    </tr>\n",
              "    <tr>\n",
              "      <th>played_at_Pakistan</th>\n",
              "      <td>156</td>\n",
              "      <td>2</td>\n",
              "      <td>False</td>\n",
              "      <td>132</td>\n",
              "    </tr>\n",
              "    <tr>\n",
              "      <th>Played_in_neutral</th>\n",
              "      <td>156</td>\n",
              "      <td>2</td>\n",
              "      <td>True</td>\n",
              "      <td>94</td>\n",
              "    </tr>\n",
              "  </tbody>\n",
              "</table>\n",
              "</div>"
            ],
            "text/plain": [
              "                   count unique              top freq\n",
              "Scorecard            156    109       ODI # 1230    2\n",
              "Match_Date           156    109     Oct 25, 1991    2\n",
              "Ground               156     41          Sharjah   29\n",
              "Host_Country         156     11            India   38\n",
              "Venue_Team1          156      3          Neutral   94\n",
              "Venue_Team2          156      3          Neutral   94\n",
              "Team_1               156      2            India   85\n",
              "Team_2               156      2         Pakistan   85\n",
              "Margin               156      2  Winner1stInning   84\n",
              "Winner               156      2         Pakistan   92\n",
              "Innings_Team1        156      2           Second   81\n",
              "Innings_Team2        156      2            First   81\n",
              "played_at_home       156      2            False  118\n",
              "played_at_Pakistan   156      2            False  132\n",
              "Played_in_neutral    156      2             True   94"
            ]
          },
          "metadata": {
            "tags": []
          },
          "execution_count": 18
        }
      ]
    },
    {
      "cell_type": "code",
      "metadata": {
        "id": "HA57QENBddl8",
        "colab_type": "code",
        "colab": {}
      },
      "source": [
        "# Removing columns with high cordinality\n",
        "high_cardinality = 'Scorecard', 'Match_Date'\n",
        "# Margin will cause data leakage\n",
        "features = train.columns.drop(['Unnamed: 0', 'Winner', 'Scorecard', 'Match_Date', 'Margin'])"
      ],
      "execution_count": 0,
      "outputs": []
    },
    {
      "cell_type": "code",
      "metadata": {
        "id": "IwXHQj14ddph",
        "colab_type": "code",
        "colab": {}
      },
      "source": [
        "X_train = train[features]\n",
        "y_train = train[target]\n",
        "X_val = val[features]\n",
        "y_val = val[target]\n",
        "X_test = test[features]\n",
        "y_test = test[target]"
      ],
      "execution_count": 0,
      "outputs": []
    },
    {
      "cell_type": "code",
      "metadata": {
        "id": "Cozi1He0dxy9",
        "colab_type": "code",
        "colab": {
          "base_uri": "https://localhost:8080/",
          "height": 238
        },
        "outputId": "c3ea2aee-912a-426e-f014-81963361067d"
      },
      "source": [
        "!pip install --upgrade category_encoders"
      ],
      "execution_count": 21,
      "outputs": [
        {
          "output_type": "stream",
          "text": [
            "ERROR! Session/line number was not unique in database. History logging moved to new session 60\n",
            "Requirement already up-to-date: category_encoders in /usr/local/lib/python3.6/dist-packages (2.1.0)\n",
            "Requirement already satisfied, skipping upgrade: statsmodels>=0.6.1 in /usr/local/lib/python3.6/dist-packages (from category_encoders) (0.10.2)\n",
            "Requirement already satisfied, skipping upgrade: numpy>=1.11.3 in /usr/local/lib/python3.6/dist-packages (from category_encoders) (1.18.2)\n",
            "Requirement already satisfied, skipping upgrade: scikit-learn>=0.20.0 in /usr/local/lib/python3.6/dist-packages (from category_encoders) (0.22.2.post1)\n",
            "Requirement already satisfied, skipping upgrade: patsy>=0.4.1 in /usr/local/lib/python3.6/dist-packages (from category_encoders) (0.5.1)\n",
            "Requirement already satisfied, skipping upgrade: scipy>=0.19.0 in /usr/local/lib/python3.6/dist-packages (from category_encoders) (1.4.1)\n",
            "Requirement already satisfied, skipping upgrade: pandas>=0.21.1 in /usr/local/lib/python3.6/dist-packages (from category_encoders) (0.25.3)\n",
            "Requirement already satisfied, skipping upgrade: joblib>=0.11 in /usr/local/lib/python3.6/dist-packages (from scikit-learn>=0.20.0->category_encoders) (0.14.1)\n",
            "Requirement already satisfied, skipping upgrade: six in /usr/local/lib/python3.6/dist-packages (from patsy>=0.4.1->category_encoders) (1.12.0)\n",
            "Requirement already satisfied, skipping upgrade: python-dateutil>=2.6.1 in /usr/local/lib/python3.6/dist-packages (from pandas>=0.21.1->category_encoders) (2.8.1)\n",
            "Requirement already satisfied, skipping upgrade: pytz>=2017.2 in /usr/local/lib/python3.6/dist-packages (from pandas>=0.21.1->category_encoders) (2018.9)\n"
          ],
          "name": "stdout"
        }
      ]
    },
    {
      "cell_type": "code",
      "metadata": {
        "id": "hJneJh8Vdx3V",
        "colab_type": "code",
        "colab": {}
      },
      "source": [
        "import category_encoders as ce\n",
        "from sklearn.pipeline import make_pipeline\n",
        "from xgboost import XGBClassifier"
      ],
      "execution_count": 0,
      "outputs": []
    },
    {
      "cell_type": "code",
      "metadata": {
        "id": "u9cj_vvMdx6F",
        "colab_type": "code",
        "colab": {
          "base_uri": "https://localhost:8080/",
          "height": 370
        },
        "outputId": "9972bc0f-74a2-4544-efab-587dbcebf289"
      },
      "source": [
        "pipeline = make_pipeline(\n",
        "    ce.OneHotEncoder(use_cat_names= True),\n",
        "    XGBClassifier(n_estimators=100, random_state=42, n_jobs=-1)\n",
        "\n",
        ")\n",
        "pipeline.fit(X_train, y_train)"
      ],
      "execution_count": 25,
      "outputs": [
        {
          "output_type": "execute_result",
          "data": {
            "text/plain": [
              "Pipeline(memory=None,\n",
              "         steps=[('onehotencoder',\n",
              "                 OneHotEncoder(cols=['Team_1', 'Team_2', 'Ground',\n",
              "                                     'Host_Country', 'Venue_Team1',\n",
              "                                     'Venue_Team2', 'Innings_Team1',\n",
              "                                     'Innings_Team2'],\n",
              "                               drop_invariant=False, handle_missing='value',\n",
              "                               handle_unknown='value', return_df=True,\n",
              "                               use_cat_names=True, verbose=0)),\n",
              "                ('xgbclassifier',\n",
              "                 XGBClassifier(base_score=0.5, booster='gbtree',\n",
              "                               colsample_bylevel=1, colsample_bynode=1,\n",
              "                               colsample_bytree=1, gamma=0, learning_rate=0.1,\n",
              "                               max_delta_step=0, max_depth=3,\n",
              "                               min_child_weight=1, missing=None,\n",
              "                               n_estimators=100, n_jobs=-1, nthread=None,\n",
              "                               objective='binary:logistic', random_state=42,\n",
              "                               reg_alpha=0, reg_lambda=1, scale_pos_weight=1,\n",
              "                               seed=None, silent=None, subsample=1,\n",
              "                               verbosity=1))],\n",
              "         verbose=False)"
            ]
          },
          "metadata": {
            "tags": []
          },
          "execution_count": 25
        }
      ]
    },
    {
      "cell_type": "markdown",
      "metadata": {
        "id": "q5p3h09techo",
        "colab_type": "text"
      },
      "source": [
        "# Validation accuracy"
      ]
    },
    {
      "cell_type": "code",
      "metadata": {
        "id": "BSObjuYZdx8u",
        "colab_type": "code",
        "colab": {}
      },
      "source": [
        "from sklearn.metrics import accuracy_score"
      ],
      "execution_count": 0,
      "outputs": []
    },
    {
      "cell_type": "code",
      "metadata": {
        "id": "yBunG5brdx_R",
        "colab_type": "code",
        "colab": {}
      },
      "source": [
        "y_pred_val = pipeline.predict(X_val)"
      ],
      "execution_count": 0,
      "outputs": []
    },
    {
      "cell_type": "code",
      "metadata": {
        "id": "1WjbvEu0dyBt",
        "colab_type": "code",
        "colab": {
          "base_uri": "https://localhost:8080/",
          "height": 34
        },
        "outputId": "ed5572df-bc7a-4c49-d22d-885317f2f783"
      },
      "source": [
        "accuracy_score(y_val, y_pred_val)"
      ],
      "execution_count": 28,
      "outputs": [
        {
          "output_type": "execute_result",
          "data": {
            "text/plain": [
              "0.6"
            ]
          },
          "metadata": {
            "tags": []
          },
          "execution_count": 28
        }
      ]
    },
    {
      "cell_type": "markdown",
      "metadata": {
        "id": "h2AK9eUeeoJ4",
        "colab_type": "text"
      },
      "source": [
        "# Test accuracy"
      ]
    },
    {
      "cell_type": "code",
      "metadata": {
        "id": "NAOtYEJtek82",
        "colab_type": "code",
        "colab": {}
      },
      "source": [
        "y_pred_test = pipeline.predict(X_test)"
      ],
      "execution_count": 0,
      "outputs": []
    },
    {
      "cell_type": "code",
      "metadata": {
        "id": "ogpZ7KvUdyEB",
        "colab_type": "code",
        "colab": {
          "base_uri": "https://localhost:8080/",
          "height": 34
        },
        "outputId": "6de8d596-5f36-4f0c-d2c2-7b6164a16edd"
      },
      "source": [
        "accuracy_score(y_test, y_pred_test)"
      ],
      "execution_count": 30,
      "outputs": [
        {
          "output_type": "execute_result",
          "data": {
            "text/plain": [
              "0.56"
            ]
          },
          "metadata": {
            "tags": []
          },
          "execution_count": 30
        }
      ]
    },
    {
      "cell_type": "markdown",
      "metadata": {
        "id": "juqbwfAmglha",
        "colab_type": "text"
      },
      "source": [
        "# PDP"
      ]
    },
    {
      "cell_type": "code",
      "metadata": {
        "id": "HNJqRAL3dyLv",
        "colab_type": "code",
        "colab": {}
      },
      "source": [
        "import category_encoders as ce\n",
        "import seaborn as sns\n",
        "from sklearn.ensemble import RandomForestClassifier"
      ],
      "execution_count": 0,
      "outputs": []
    },
    {
      "cell_type": "code",
      "metadata": {
        "id": "Uclnsrl8jIbS",
        "colab_type": "code",
        "colab": {
          "base_uri": "https://localhost:8080/",
          "height": 151
        },
        "outputId": "9347573c-0e32-4325-967d-fcc8bae33008"
      },
      "source": [
        "encoder = ce.OrdinalEncoder()\n",
        "X_train_encoded = encoder.fit_transform(X_train)\n",
        "\n",
        "model = RandomForestClassifier(n_estimators=100, random_state=42, n_jobs=-1)\n",
        "model.fit(X_train_encoded, y_train)"
      ],
      "execution_count": 35,
      "outputs": [
        {
          "output_type": "execute_result",
          "data": {
            "text/plain": [
              "RandomForestClassifier(bootstrap=True, ccp_alpha=0.0, class_weight=None,\n",
              "                       criterion='gini', max_depth=None, max_features='auto',\n",
              "                       max_leaf_nodes=None, max_samples=None,\n",
              "                       min_impurity_decrease=0.0, min_impurity_split=None,\n",
              "                       min_samples_leaf=1, min_samples_split=2,\n",
              "                       min_weight_fraction_leaf=0.0, n_estimators=100,\n",
              "                       n_jobs=-1, oob_score=False, random_state=42, verbose=0,\n",
              "                       warm_start=False)"
            ]
          },
          "metadata": {
            "tags": []
          },
          "execution_count": 35
        }
      ]
    },
    {
      "cell_type": "code",
      "metadata": {
        "id": "E0W-r33FkAwO",
        "colab_type": "code",
        "colab": {
          "base_uri": "https://localhost:8080/",
          "height": 495
        },
        "outputId": "25efc551-42d5-464a-c11e-1fee39344dc0"
      },
      "source": [
        "%matplotlib inline\n",
        "import matplotlib.pyplot as plt\n",
        "from pdpbox import pdp\n",
        "feature = 'Host_Country'\n",
        "pdp_dist = pdp.pdp_isolate(model=model, dataset=X_train_encoded, model_features=features, feature=feature)\n",
        "pdp.pdp_plot(pdp_dist, feature);"
      ],
      "execution_count": 36,
      "outputs": [
        {
          "output_type": "stream",
          "text": [
            "findfont: Font family ['Arial'] not found. Falling back to DejaVu Sans.\n",
            "findfont: Font family ['Arial'] not found. Falling back to DejaVu Sans.\n",
            "findfont: Font family ['Arial'] not found. Falling back to DejaVu Sans.\n",
            "findfont: Font family ['Arial'] not found. Falling back to DejaVu Sans.\n"
          ],
          "name": "stderr"
        },
        {
          "output_type": "display_data",
          "data": {
            "image/png": "[encoded data removed]",
            "text/plain": [
              "<Figure size 1080x684 with 2 Axes>"
            ]
          },
          "metadata": {
            "tags": []
          }
        }
      ]
    },
    {
      "cell_type": "markdown",
      "metadata": {
        "id": "CtGuP_Vnkv-Z",
        "colab_type": "text"
      },
      "source": [
        "# With two features"
      ]
    },
    {
      "cell_type": "code",
      "metadata": {
        "id": "hjVIN-jllVur",
        "colab_type": "code",
        "colab": {}
      },
      "source": [
        "from pdpbox.pdp import pdp_interact, pdp_interact_plot"
      ],
      "execution_count": 0,
      "outputs": []
    },
    {
      "cell_type": "code",
      "metadata": {
        "id": "G9gOqpp5kulF",
        "colab_type": "code",
        "colab": {
          "base_uri": "https://localhost:8080/",
          "height": 598
        },
        "outputId": "2d6d483d-d12c-4074-d204-0ab951be080f"
      },
      "source": [
        "features = ['Host_Country', 'Ground']\n",
        "\n",
        "interaction = pdp_interact(\n",
        "    model=model, \n",
        "    dataset=X_train_encoded, \n",
        "    model_features=X_train_encoded.columns, \n",
        "    features=features\n",
        ")\n",
        "\n",
        "pdp_interact_plot(interaction, plot_type='grid', feature_names=features);"
      ],
      "execution_count": 39,
      "outputs": [
        {
          "output_type": "stream",
          "text": [
            "findfont: Font family ['Arial'] not found. Falling back to DejaVu Sans.\n"
          ],
          "name": "stderr"
        },
        {
          "output_type": "display_data",
          "data": {
            "image/png": "[encoded data removed]",
            "text/plain": [
              "<Figure size 540x684 with 3 Axes>"
            ]
          },
          "metadata": {
            "tags": []
          }
        }
      ]
    }
  ]
}