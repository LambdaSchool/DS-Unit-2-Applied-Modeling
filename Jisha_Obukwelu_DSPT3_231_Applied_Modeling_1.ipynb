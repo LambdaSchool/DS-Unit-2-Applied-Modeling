{
  "nbformat": 4,
  "nbformat_minor": 0,
  "metadata": {
    "colab": {
      "name": "Jisha Obukwelu_DSPT3_231_Applied_Modeling_1.ipynb",
      "provenance": [],
      "collapsed_sections": [],
      "include_colab_link": true
    },
    "kernelspec": {
      "display_name": "Python 3",
      "language": "python",
      "name": "python3"
    },
    "language_info": {
      "codemirror_mode": {
        "name": "ipython",
        "version": 3
      },
      "file_extension": ".py",
      "mimetype": "text/x-python",
      "name": "python",
      "nbconvert_exporter": "python",
      "pygments_lexer": "ipython3",
      "version": "3.7.3"
    }
  },
  "cells": [
    {
      "cell_type": "markdown",
      "metadata": {
        "id": "view-in-github",
        "colab_type": "text"
      },
      "source": [
        "<a href=\"https://colab.research.google.com/github/jiobu1/DS-Unit-2-Applied-Modeling/blob/master/Jisha_Obukwelu_DSPT3_231_Applied_Modeling_1.ipynb\" target=\"_parent\"><img src=\"https://colab.research.google.com/assets/colab-badge.svg\" alt=\"Open In Colab\"/></a>"
      ]
    },
    {
      "cell_type": "markdown",
      "metadata": {
        "colab_type": "text",
        "id": "nCc3XZEyG3XV"
      },
      "source": [
        "Lambda School Data Science\n",
        "\n",
        "*Unit 2, Sprint 3, Module 1*\n",
        "\n",
        "---\n",
        "\n",
        "\n",
        "# Define ML problems\n",
        "\n",
        "You will use your portfolio project dataset for all assignments this sprint.\n",
        "\n",
        "## Assignment\n",
        "\n",
        "Complete these tasks for your project, and document your decisions.\n",
        "\n",
        "- [ ] Choose your target. Which column in your tabular dataset will you predict?\n",
        "- [ ] Is your problem regression or classification?\n",
        "- [ ] How is your target distributed?\n",
        "    - Classification: How many classes? Are the classes imbalanced?\n",
        "    - Regression: Is the target right-skewed? If so, you may want to log transform the target.\n",
        "- [ ] Choose which observations you will use to train, validate, and test your model.\n",
        "    - Are some observations outliers? Will you exclude them?\n",
        "    - Will you do a random split or a time-based split?\n",
        "- [ ] Choose your evaluation metric(s).\n",
        "    - Classification: Is your majority class frequency > 50% and < 70% ? If so, you can just use accuracy if you want. Outside that range, accuracy could be misleading. What evaluation metric will you choose, in addition to or instead of accuracy?\n",
        "- [ ] Begin to clean and explore your data.\n",
        "- [ ] Begin to choose which features, if any, to exclude. Would some features \"leak\" future information?"
      ]
    },
    {
      "cell_type": "code",
      "metadata": {
        "id": "_PBU00P_jloB",
        "colab_type": "code",
        "outputId": "c0b1e863-a700-48ae-c0b8-9eea432523d0",
        "colab": {
          "base_uri": "https://localhost:8080/",
          "height": 122
        }
      },
      "source": [
        "from google.colab import drive\n",
        "drive.mount('/content/drive')"
      ],
      "execution_count": 0,
      "outputs": [
        {
          "output_type": "stream",
          "text": [
            "Go to this URL in a browser: https://accounts.google.com/o/oauth2/auth?client_id=947318989803-6bn6qk8qdgf4n4g3pfee6491hc0brc4i.apps.googleusercontent.com&redirect_uri=urn%3aietf%3awg%3aoauth%3a2.0%3aoob&response_type=code&scope=email%20https%3a%2f%2fwww.googleapis.com%2fauth%2fdocs.test%20https%3a%2f%2fwww.googleapis.com%2fauth%2fdrive%20https%3a%2f%2fwww.googleapis.com%2fauth%2fdrive.photos.readonly%20https%3a%2f%2fwww.googleapis.com%2fauth%2fpeopleapi.readonly\n",
            "\n",
            "Enter your authorization code:\n",
            "··········\n",
            "Mounted at /content/drive\n"
          ],
          "name": "stdout"
        }
      ]
    },
    {
      "cell_type": "code",
      "metadata": {
        "id": "8Pg0fDvEjzQZ",
        "colab_type": "code",
        "outputId": "3b7f4915-dcc1-41d5-a547-c3dd06f0497b",
        "colab": {
          "resources": {
            "http://localhost:8080/nbextensions/google.colab/files.js": {
              "data": "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",
              "ok": true,
              "headers": [
                [
                  "content-type",
                  "application/javascript"
                ]
              ],
              "status": 200,
              "status_text": ""
            }
          },
          "base_uri": "https://localhost:8080/",
          "height": 71
        }
      },
      "source": [
        "from google.colab import files\n",
        "upload = files.upload()"
      ],
      "execution_count": 1,
      "outputs": [
        {
          "output_type": "display_data",
          "data": {
            "text/html": [
              "\n",
              "     <input type=\"file\" id=\"files-5c5d0941-ba7b-4390-8d9a-d036668dde57\" name=\"files[]\" multiple disabled />\n",
              "     <output id=\"result-5c5d0941-ba7b-4390-8d9a-d036668dde57\">\n",
              "      Upload widget is only available when the cell has been executed in the\n",
              "      current browser session. Please rerun this cell to enable.\n",
              "      </output>\n",
              "      <script src=\"/nbextensions/google.colab/files.js\"></script> "
            ],
            "text/plain": [
              "<IPython.core.display.HTML object>"
            ]
          },
          "metadata": {
            "tags": []
          }
        },
        {
          "output_type": "stream",
          "text": [
            "Saving states_all.csv to states_all.csv\n"
          ],
          "name": "stdout"
        }
      ]
    },
    {
      "cell_type": "markdown",
      "metadata": {
        "id": "kkwWN-uGhu8s",
        "colab_type": "text"
      },
      "source": [
        "###***Choose your target. Which column in your tabular dataset will you predict?***"
      ]
    },
    {
      "cell_type": "markdown",
      "metadata": {
        "id": "wDHj4FRoh1rv",
        "colab_type": "text"
      },
      "source": [
        "This project will predict state's passing rate on the naep assessment based on features from the dataset. "
      ]
    },
    {
      "cell_type": "markdown",
      "metadata": {
        "id": "CK6EAxoNiOE0",
        "colab_type": "text"
      },
      "source": [
        "###***Is your problem regression or classification?***"
      ]
    },
    {
      "cell_type": "markdown",
      "metadata": {
        "id": "qV1Dlo5aiQEA",
        "colab_type": "text"
      },
      "source": [
        "This is a classification problem, I will be engineering the classification column based on the cut scores (score range) from the NAEP assessment for basic, proficient, and advanced. I will have to break this down further because the classes are heavily imbalanced. "
      ]
    },
    {
      "cell_type": "markdown",
      "metadata": {
        "id": "O9IhQTj5i3fz",
        "colab_type": "text"
      },
      "source": [
        "###***How is your target distributed?***\n",
        "Classification: How many classes? Are the classes imbalanced?"
      ]
    },
    {
      "cell_type": "code",
      "metadata": {
        "id": "SxV5CJGqpmDR",
        "colab_type": "code",
        "colab": {}
      },
      "source": [
        "import pandas as pd\n",
        "import numpy as np"
      ],
      "execution_count": 0,
      "outputs": []
    },
    {
      "cell_type": "code",
      "metadata": {
        "id": "Nrzdarf5l7eF",
        "colab_type": "code",
        "colab": {}
      },
      "source": [
        "all_states = pd.read_csv('states_all.csv')"
      ],
      "execution_count": 0,
      "outputs": []
    },
    {
      "cell_type": "code",
      "metadata": {
        "id": "TT6McA6gppr9",
        "colab_type": "code",
        "outputId": "2ef235c6-f80c-4823-e6cf-f2d0b17efd1c",
        "colab": {
          "base_uri": "https://localhost:8080/",
          "height": 224
        }
      },
      "source": [
        "all_states.head()"
      ],
      "execution_count": 4,
      "outputs": [
        {
          "output_type": "execute_result",
          "data": {
            "text/html": [
              "<div>\n",
              "<style scoped>\n",
              "    .dataframe tbody tr th:only-of-type {\n",
              "        vertical-align: middle;\n",
              "    }\n",
              "\n",
              "    .dataframe tbody tr th {\n",
              "        vertical-align: top;\n",
              "    }\n",
              "\n",
              "    .dataframe thead th {\n",
              "        text-align: right;\n",
              "    }\n",
              "</style>\n",
              "<table border=\"1\" class=\"dataframe\">\n",
              "  <thead>\n",
              "    <tr style=\"text-align: right;\">\n",
              "      <th></th>\n",
              "      <th>PRIMARY_KEY</th>\n",
              "      <th>STATE</th>\n",
              "      <th>YEAR</th>\n",
              "      <th>ENROLL</th>\n",
              "      <th>TOTAL_REVENUE</th>\n",
              "      <th>FEDERAL_REVENUE</th>\n",
              "      <th>STATE_REVENUE</th>\n",
              "      <th>LOCAL_REVENUE</th>\n",
              "      <th>TOTAL_EXPENDITURE</th>\n",
              "      <th>INSTRUCTION_EXPENDITURE</th>\n",
              "      <th>SUPPORT_SERVICES_EXPENDITURE</th>\n",
              "      <th>OTHER_EXPENDITURE</th>\n",
              "      <th>CAPITAL_OUTLAY_EXPENDITURE</th>\n",
              "      <th>GRADES_PK_G</th>\n",
              "      <th>GRADES_KG_G</th>\n",
              "      <th>GRADES_4_G</th>\n",
              "      <th>GRADES_8_G</th>\n",
              "      <th>GRADES_12_G</th>\n",
              "      <th>GRADES_1_8_G</th>\n",
              "      <th>GRADES_9_12_G</th>\n",
              "      <th>GRADES_ALL_G</th>\n",
              "      <th>AVG_MATH_4_SCORE</th>\n",
              "      <th>AVG_MATH_8_SCORE</th>\n",
              "      <th>AVG_READING_4_SCORE</th>\n",
              "      <th>AVG_READING_8_SCORE</th>\n",
              "    </tr>\n",
              "  </thead>\n",
              "  <tbody>\n",
              "    <tr>\n",
              "      <th>0</th>\n",
              "      <td>1992_ALABAMA</td>\n",
              "      <td>ALABAMA</td>\n",
              "      <td>1992</td>\n",
              "      <td>NaN</td>\n",
              "      <td>2678885.0</td>\n",
              "      <td>304177.0</td>\n",
              "      <td>1659028.0</td>\n",
              "      <td>715680.0</td>\n",
              "      <td>2653798.0</td>\n",
              "      <td>1481703.0</td>\n",
              "      <td>735036.0</td>\n",
              "      <td>NaN</td>\n",
              "      <td>174053.0</td>\n",
              "      <td>8224.0</td>\n",
              "      <td>55460.0</td>\n",
              "      <td>57948.0</td>\n",
              "      <td>58025.0</td>\n",
              "      <td>41167.0</td>\n",
              "      <td>471564.0</td>\n",
              "      <td>196386.0</td>\n",
              "      <td>676174.0</td>\n",
              "      <td>208.327876</td>\n",
              "      <td>252.187522</td>\n",
              "      <td>207.963517</td>\n",
              "      <td>NaN</td>\n",
              "    </tr>\n",
              "    <tr>\n",
              "      <th>1</th>\n",
              "      <td>1992_ALASKA</td>\n",
              "      <td>ALASKA</td>\n",
              "      <td>1992</td>\n",
              "      <td>NaN</td>\n",
              "      <td>1049591.0</td>\n",
              "      <td>106780.0</td>\n",
              "      <td>720711.0</td>\n",
              "      <td>222100.0</td>\n",
              "      <td>972488.0</td>\n",
              "      <td>498362.0</td>\n",
              "      <td>350902.0</td>\n",
              "      <td>NaN</td>\n",
              "      <td>37451.0</td>\n",
              "      <td>2371.0</td>\n",
              "      <td>10152.0</td>\n",
              "      <td>9748.0</td>\n",
              "      <td>8789.0</td>\n",
              "      <td>6714.0</td>\n",
              "      <td>79117.0</td>\n",
              "      <td>30847.0</td>\n",
              "      <td>112335.0</td>\n",
              "      <td>NaN</td>\n",
              "      <td>NaN</td>\n",
              "      <td>NaN</td>\n",
              "      <td>258.859712</td>\n",
              "    </tr>\n",
              "    <tr>\n",
              "      <th>2</th>\n",
              "      <td>1992_ARIZONA</td>\n",
              "      <td>ARIZONA</td>\n",
              "      <td>1992</td>\n",
              "      <td>NaN</td>\n",
              "      <td>3258079.0</td>\n",
              "      <td>297888.0</td>\n",
              "      <td>1369815.0</td>\n",
              "      <td>1590376.0</td>\n",
              "      <td>3401580.0</td>\n",
              "      <td>1435908.0</td>\n",
              "      <td>1007732.0</td>\n",
              "      <td>NaN</td>\n",
              "      <td>609114.0</td>\n",
              "      <td>2544.0</td>\n",
              "      <td>53497.0</td>\n",
              "      <td>55433.0</td>\n",
              "      <td>49081.0</td>\n",
              "      <td>37410.0</td>\n",
              "      <td>437127.0</td>\n",
              "      <td>175210.0</td>\n",
              "      <td>614881.0</td>\n",
              "      <td>215.253932</td>\n",
              "      <td>265.366278</td>\n",
              "      <td>206.212716</td>\n",
              "      <td>262.169895</td>\n",
              "    </tr>\n",
              "    <tr>\n",
              "      <th>3</th>\n",
              "      <td>1992_ARKANSAS</td>\n",
              "      <td>ARKANSAS</td>\n",
              "      <td>1992</td>\n",
              "      <td>NaN</td>\n",
              "      <td>1711959.0</td>\n",
              "      <td>178571.0</td>\n",
              "      <td>958785.0</td>\n",
              "      <td>574603.0</td>\n",
              "      <td>1743022.0</td>\n",
              "      <td>964323.0</td>\n",
              "      <td>483488.0</td>\n",
              "      <td>NaN</td>\n",
              "      <td>145212.0</td>\n",
              "      <td>808.0</td>\n",
              "      <td>33511.0</td>\n",
              "      <td>34632.0</td>\n",
              "      <td>36011.0</td>\n",
              "      <td>27651.0</td>\n",
              "      <td>281338.0</td>\n",
              "      <td>123113.0</td>\n",
              "      <td>405259.0</td>\n",
              "      <td>210.206028</td>\n",
              "      <td>256.312090</td>\n",
              "      <td>208.634458</td>\n",
              "      <td>264.619665</td>\n",
              "    </tr>\n",
              "    <tr>\n",
              "      <th>4</th>\n",
              "      <td>1992_CALIFORNIA</td>\n",
              "      <td>CALIFORNIA</td>\n",
              "      <td>1992</td>\n",
              "      <td>NaN</td>\n",
              "      <td>26260025.0</td>\n",
              "      <td>2072470.0</td>\n",
              "      <td>16546514.0</td>\n",
              "      <td>7641041.0</td>\n",
              "      <td>27138832.0</td>\n",
              "      <td>14358922.0</td>\n",
              "      <td>8520926.0</td>\n",
              "      <td>NaN</td>\n",
              "      <td>2044688.0</td>\n",
              "      <td>59067.0</td>\n",
              "      <td>431763.0</td>\n",
              "      <td>418418.0</td>\n",
              "      <td>363296.0</td>\n",
              "      <td>270675.0</td>\n",
              "      <td>3286034.0</td>\n",
              "      <td>1372011.0</td>\n",
              "      <td>4717112.0</td>\n",
              "      <td>208.398961</td>\n",
              "      <td>260.892247</td>\n",
              "      <td>196.764414</td>\n",
              "      <td>NaN</td>\n",
              "    </tr>\n",
              "  </tbody>\n",
              "</table>\n",
              "</div>"
            ],
            "text/plain": [
              "       PRIMARY_KEY       STATE  ...  AVG_READING_4_SCORE  AVG_READING_8_SCORE\n",
              "0     1992_ALABAMA     ALABAMA  ...           207.963517                  NaN\n",
              "1      1992_ALASKA      ALASKA  ...                  NaN           258.859712\n",
              "2     1992_ARIZONA     ARIZONA  ...           206.212716           262.169895\n",
              "3    1992_ARKANSAS    ARKANSAS  ...           208.634458           264.619665\n",
              "4  1992_CALIFORNIA  CALIFORNIA  ...           196.764414                  NaN\n",
              "\n",
              "[5 rows x 25 columns]"
            ]
          },
          "metadata": {
            "tags": []
          },
          "execution_count": 4
        }
      ]
    },
    {
      "cell_type": "markdown",
      "metadata": {
        "id": "S9wwkJXKEoDN",
        "colab_type": "text"
      },
      "source": [
        "There should be three classes (that I will engineer) but the classes are gravely imbalanced with one class not having any values in it. Going to try and separate the common class to try and help with the imbalance. "
      ]
    },
    {
      "cell_type": "markdown",
      "metadata": {
        "id": "kJtTPXaqjQpz",
        "colab_type": "text"
      },
      "source": [
        "###***Choose your evaluation metric(s).***\n",
        "Classification: Is your majority class frequency > 50% and < 70% ? If so, you can just use accuracy if you want. Outside that range, accuracy could be misleading. What evaluation metric will you choose, in addition to or instead of accuracy?"
      ]
    },
    {
      "cell_type": "code",
      "metadata": {
        "id": "vPS1EPSZL2XB",
        "colab_type": "code",
        "outputId": "9fe3eb6e-1455-4e85-dd29-8f8b665c9b4a",
        "colab": {
          "base_uri": "https://localhost:8080/",
          "height": 204
        }
      },
      "source": [
        "target_df = all_states[['PRIMARY_KEY','AVG_MATH_4_SCORE', 'AVG_MATH_8_SCORE', 'AVG_READING_4_SCORE', 'AVG_READING_8_SCORE' ]].copy()\n",
        "target_df.head()"
      ],
      "execution_count": 5,
      "outputs": [
        {
          "output_type": "execute_result",
          "data": {
            "text/html": [
              "<div>\n",
              "<style scoped>\n",
              "    .dataframe tbody tr th:only-of-type {\n",
              "        vertical-align: middle;\n",
              "    }\n",
              "\n",
              "    .dataframe tbody tr th {\n",
              "        vertical-align: top;\n",
              "    }\n",
              "\n",
              "    .dataframe thead th {\n",
              "        text-align: right;\n",
              "    }\n",
              "</style>\n",
              "<table border=\"1\" class=\"dataframe\">\n",
              "  <thead>\n",
              "    <tr style=\"text-align: right;\">\n",
              "      <th></th>\n",
              "      <th>PRIMARY_KEY</th>\n",
              "      <th>AVG_MATH_4_SCORE</th>\n",
              "      <th>AVG_MATH_8_SCORE</th>\n",
              "      <th>AVG_READING_4_SCORE</th>\n",
              "      <th>AVG_READING_8_SCORE</th>\n",
              "    </tr>\n",
              "  </thead>\n",
              "  <tbody>\n",
              "    <tr>\n",
              "      <th>0</th>\n",
              "      <td>1992_ALABAMA</td>\n",
              "      <td>208.327876</td>\n",
              "      <td>252.187522</td>\n",
              "      <td>207.963517</td>\n",
              "      <td>NaN</td>\n",
              "    </tr>\n",
              "    <tr>\n",
              "      <th>1</th>\n",
              "      <td>1992_ALASKA</td>\n",
              "      <td>NaN</td>\n",
              "      <td>NaN</td>\n",
              "      <td>NaN</td>\n",
              "      <td>258.859712</td>\n",
              "    </tr>\n",
              "    <tr>\n",
              "      <th>2</th>\n",
              "      <td>1992_ARIZONA</td>\n",
              "      <td>215.253932</td>\n",
              "      <td>265.366278</td>\n",
              "      <td>206.212716</td>\n",
              "      <td>262.169895</td>\n",
              "    </tr>\n",
              "    <tr>\n",
              "      <th>3</th>\n",
              "      <td>1992_ARKANSAS</td>\n",
              "      <td>210.206028</td>\n",
              "      <td>256.312090</td>\n",
              "      <td>208.634458</td>\n",
              "      <td>264.619665</td>\n",
              "    </tr>\n",
              "    <tr>\n",
              "      <th>4</th>\n",
              "      <td>1992_CALIFORNIA</td>\n",
              "      <td>208.398961</td>\n",
              "      <td>260.892247</td>\n",
              "      <td>196.764414</td>\n",
              "      <td>NaN</td>\n",
              "    </tr>\n",
              "  </tbody>\n",
              "</table>\n",
              "</div>"
            ],
            "text/plain": [
              "       PRIMARY_KEY  AVG_MATH_4_SCORE  ...  AVG_READING_4_SCORE  AVG_READING_8_SCORE\n",
              "0     1992_ALABAMA        208.327876  ...           207.963517                  NaN\n",
              "1      1992_ALASKA               NaN  ...                  NaN           258.859712\n",
              "2     1992_ARIZONA        215.253932  ...           206.212716           262.169895\n",
              "3    1992_ARKANSAS        210.206028  ...           208.634458           264.619665\n",
              "4  1992_CALIFORNIA        208.398961  ...           196.764414                  NaN\n",
              "\n",
              "[5 rows x 5 columns]"
            ]
          },
          "metadata": {
            "tags": []
          },
          "execution_count": 5
        }
      ]
    },
    {
      "cell_type": "markdown",
      "metadata": {
        "id": "Lkt9T8jJNitU",
        "colab_type": "text"
      },
      "source": [
        "Separating columns necessary to create new target columns. "
      ]
    },
    {
      "cell_type": "markdown",
      "metadata": {
        "id": "giyzw1Ja-Pr1",
        "colab_type": "text"
      },
      "source": [
        "####4TH GRADE READING"
      ]
    },
    {
      "cell_type": "code",
      "metadata": {
        "id": "ryMQZh6R6Sy3",
        "colab_type": "code",
        "outputId": "1c773b84-215f-434d-aa6a-4dd6d31e102f",
        "colab": {
          "base_uri": "https://localhost:8080/",
          "height": 221
        }
      },
      "source": [
        "target_df['AVG_READING_4_SCORE'] = target_df['AVG_READING_4_SCORE'].fillna(0)\n",
        "target_df['AVG_READING_4_SCORE'] = target_df['AVG_READING_4_SCORE'].astype(int)\n",
        "target_df['AVG_READING_4_SCORE']"
      ],
      "execution_count": 6,
      "outputs": [
        {
          "output_type": "execute_result",
          "data": {
            "text/plain": [
              "0       207\n",
              "1         0\n",
              "2       206\n",
              "3       208\n",
              "4       196\n",
              "       ... \n",
              "1487    227\n",
              "1488    223\n",
              "1489    217\n",
              "1490    219\n",
              "1491    226\n",
              "Name: AVG_READING_4_SCORE, Length: 1492, dtype: int64"
            ]
          },
          "metadata": {
            "tags": []
          },
          "execution_count": 6
        }
      ]
    },
    {
      "cell_type": "code",
      "metadata": {
        "id": "I0siwO6OqGxP",
        "colab_type": "code",
        "outputId": "f65ce620-b1d3-4858-eba5-15fd108b89d2",
        "colab": {
          "base_uri": "https://localhost:8080/",
          "height": 221
        }
      },
      "source": [
        "def proficiency(row):\n",
        "    if 0 < row['AVG_READING_4_SCORE'] < 238:\n",
        "        val = 'basic'\n",
        "    elif 238 <= row['AVG_READING_4_SCORE'] < 268:\n",
        "        val = 'proficient'\n",
        "    elif row['AVG_READING_4_SCORE'] >= 268:\n",
        "        val = 'advanced'\n",
        "    else:\n",
        "        val = 0\n",
        "    return val\n",
        "\n",
        "target_df['READING_PROF_4'] = target_df.apply(proficiency, axis=1)\n",
        "target_df['READING_PROF_4']"
      ],
      "execution_count": 7,
      "outputs": [
        {
          "output_type": "execute_result",
          "data": {
            "text/plain": [
              "0       basic\n",
              "1           0\n",
              "2       basic\n",
              "3       basic\n",
              "4       basic\n",
              "        ...  \n",
              "1487    basic\n",
              "1488    basic\n",
              "1489    basic\n",
              "1490    basic\n",
              "1491    basic\n",
              "Name: READING_PROF_4, Length: 1492, dtype: object"
            ]
          },
          "metadata": {
            "tags": []
          },
          "execution_count": 7
        }
      ]
    },
    {
      "cell_type": "code",
      "metadata": {
        "id": "wB5i5kXn8qzR",
        "colab_type": "code",
        "outputId": "361bbdaf-5215-4524-8bd6-0855c42d9cc5",
        "colab": {
          "base_uri": "https://localhost:8080/",
          "height": 34
        }
      },
      "source": [
        "min(target_df['AVG_READING_4_SCORE']), max(target_df['AVG_READING_4_SCORE'])"
      ],
      "execution_count": 8,
      "outputs": [
        {
          "output_type": "execute_result",
          "data": {
            "text/plain": [
              "(0, 236)"
            ]
          },
          "metadata": {
            "tags": []
          },
          "execution_count": 8
        }
      ]
    },
    {
      "cell_type": "markdown",
      "metadata": {
        "id": "k7ebttiI8-yD",
        "colab_type": "text"
      },
      "source": [
        "So this won't work - It's is 100% basic. Let me see if I can use another one of the score columns for predictions.\n",
        "\n",
        "\n"
      ]
    },
    {
      "cell_type": "markdown",
      "metadata": {
        "id": "ac7zE9TS-Vnt",
        "colab_type": "text"
      },
      "source": [
        "####8TH GRADE READING"
      ]
    },
    {
      "cell_type": "code",
      "metadata": {
        "id": "pAlrm3AT9X6D",
        "colab_type": "code",
        "outputId": "6681ef3b-b408-4e7b-dee9-baecf35ea46e",
        "colab": {
          "base_uri": "https://localhost:8080/",
          "height": 221
        }
      },
      "source": [
        "target_df['AVG_READING_8_SCORE'] = target_df['AVG_READING_8_SCORE'].fillna(0)\n",
        "target_df['AVG_READING_8_SCORE'] = target_df['AVG_READING_8_SCORE'].astype(int)\n",
        "target_df['AVG_READING_8_SCORE']"
      ],
      "execution_count": 9,
      "outputs": [
        {
          "output_type": "execute_result",
          "data": {
            "text/plain": [
              "0         0\n",
              "1       258\n",
              "2       262\n",
              "3       264\n",
              "4         0\n",
              "       ... \n",
              "1487    273\n",
              "1488    267\n",
              "1489    271\n",
              "1490    258\n",
              "1491    269\n",
              "Name: AVG_READING_8_SCORE, Length: 1492, dtype: int64"
            ]
          },
          "metadata": {
            "tags": []
          },
          "execution_count": 9
        }
      ]
    },
    {
      "cell_type": "code",
      "metadata": {
        "id": "5LiJXyeoeKVW",
        "colab_type": "code",
        "outputId": "2fcc6a5f-df5a-4375-d78f-bd9e9b700d5a",
        "colab": {
          "base_uri": "https://localhost:8080/",
          "height": 697
        }
      },
      "source": [
        "target_df['AVG_READING_8_SCORE'].value_counts()"
      ],
      "execution_count": 10,
      "outputs": [
        {
          "output_type": "execute_result",
          "data": {
            "text/plain": [
              "0      994\n",
              "267     47\n",
              "264     37\n",
              "266     36\n",
              "268     34\n",
              "269     32\n",
              "265     31\n",
              "260     22\n",
              "262     21\n",
              "270     21\n",
              "261     20\n",
              "257     19\n",
              "258     18\n",
              "259     18\n",
              "263     15\n",
              "272     14\n",
              "251     13\n",
              "255     12\n",
              "253     11\n",
              "254     10\n",
              "271      9\n",
              "273      9\n",
              "256      8\n",
              "252      7\n",
              "274      7\n",
              "250      6\n",
              "275      3\n",
              "277      3\n",
              "276      2\n",
              "247      2\n",
              "242      2\n",
              "238      2\n",
              "249      1\n",
              "248      1\n",
              "246      1\n",
              "240      1\n",
              "239      1\n",
              "236      1\n",
              "280      1\n",
              "Name: AVG_READING_8_SCORE, dtype: int64"
            ]
          },
          "metadata": {
            "tags": []
          },
          "execution_count": 10
        }
      ]
    },
    {
      "cell_type": "markdown",
      "metadata": {
        "id": "mfD776SFPoBZ",
        "colab_type": "text"
      },
      "source": [
        "Instead of separating out the into 3 classiications, I will separate the first class into 3 stages to see if the information is still imbalanced. "
      ]
    },
    {
      "cell_type": "code",
      "metadata": {
        "id": "Tf_PrdoR9j0z",
        "colab_type": "code",
        "outputId": "8e3666bb-5d1f-44c5-8e6a-6c6cbc0b1730",
        "colab": {
          "base_uri": "https://localhost:8080/",
          "height": 221
        }
      },
      "source": [
        "def proficiency(row):\n",
        "  #separating basic into 3 groups (0-281)\n",
        "    if 0< row['AVG_READING_8_SCORE'] < 250:\n",
        "        val = 'low-basic'\n",
        "    elif 250 <= row['AVG_READING_8_SCORE'] < 260:\n",
        "        val = 'mid-basic'\n",
        "    elif 260 <= row['AVG_READING_8_SCORE'] < 281:\n",
        "        val = 'high-basic'\n",
        "    elif 281 <= row['AVG_READING_8_SCORE'] < 323:\n",
        "        val = 'proficient'\n",
        "    elif row['AVG_READING_8_SCORE'] >= 323:\n",
        "        val = 'advanced'\n",
        "    else:\n",
        "        val = 0\n",
        "    return val\n",
        "\n",
        "target_df['READING_PROF_8'] = target_df.apply(proficiency, axis=1)\n",
        "target_df['READING_PROF_8']"
      ],
      "execution_count": 11,
      "outputs": [
        {
          "output_type": "execute_result",
          "data": {
            "text/plain": [
              "0                0\n",
              "1        mid-basic\n",
              "2       high-basic\n",
              "3       high-basic\n",
              "4                0\n",
              "           ...    \n",
              "1487    high-basic\n",
              "1488    high-basic\n",
              "1489    high-basic\n",
              "1490     mid-basic\n",
              "1491    high-basic\n",
              "Name: READING_PROF_8, Length: 1492, dtype: object"
            ]
          },
          "metadata": {
            "tags": []
          },
          "execution_count": 11
        }
      ]
    },
    {
      "cell_type": "code",
      "metadata": {
        "id": "sqQBH7yD-C18",
        "colab_type": "code",
        "outputId": "88ab4a03-fa8d-4936-cab7-54c1a073d94c",
        "colab": {
          "base_uri": "https://localhost:8080/",
          "height": 34
        }
      },
      "source": [
        "min(target_df['AVG_READING_8_SCORE']), max(target_df['AVG_READING_8_SCORE'])"
      ],
      "execution_count": 12,
      "outputs": [
        {
          "output_type": "execute_result",
          "data": {
            "text/plain": [
              "(0, 280)"
            ]
          },
          "metadata": {
            "tags": []
          },
          "execution_count": 12
        }
      ]
    },
    {
      "cell_type": "code",
      "metadata": {
        "id": "8GkDpLQAe8Zg",
        "colab_type": "code",
        "outputId": "41d96dc6-f94e-427c-d547-ff80053060b6",
        "colab": {
          "base_uri": "https://localhost:8080/",
          "height": 102
        }
      },
      "source": [
        "target_df['READING_PROF_8'].value_counts()"
      ],
      "execution_count": 13,
      "outputs": [
        {
          "output_type": "execute_result",
          "data": {
            "text/plain": [
              "0             994\n",
              "high-basic    364\n",
              "mid-basic     122\n",
              "low-basic      12\n",
              "Name: READING_PROF_8, dtype: int64"
            ]
          },
          "metadata": {
            "tags": []
          },
          "execution_count": 13
        }
      ]
    },
    {
      "cell_type": "markdown",
      "metadata": {
        "id": "y_Rpa1fN-LLY",
        "colab_type": "text"
      },
      "source": [
        "~So this won't work either - It's is 100% basic. Let me see if I can use another one of the score columns for predictions.\n",
        "~Breaking down basic column\n"
      ]
    },
    {
      "cell_type": "markdown",
      "metadata": {
        "id": "YpDAl901B3mW",
        "colab_type": "text"
      },
      "source": [
        "####4TH GRADE MATH "
      ]
    },
    {
      "cell_type": "code",
      "metadata": {
        "id": "BnUyUQ1fB7Pt",
        "colab_type": "code",
        "outputId": "3ff09833-3127-47aa-f7d7-0e5c1cf809a1",
        "colab": {
          "base_uri": "https://localhost:8080/",
          "height": 34
        }
      },
      "source": [
        "min(target_df['AVG_MATH_4_SCORE']), max(target_df['AVG_MATH_4_SCORE'])"
      ],
      "execution_count": 14,
      "outputs": [
        {
          "output_type": "execute_result",
          "data": {
            "text/plain": [
              "(187.134669958413, 253.420961133202)"
            ]
          },
          "metadata": {
            "tags": []
          },
          "execution_count": 14
        }
      ]
    },
    {
      "cell_type": "code",
      "metadata": {
        "id": "QSGg2Yx-CL2U",
        "colab_type": "code",
        "outputId": "6f21f80d-788a-407c-98a1-02ae26803278",
        "colab": {
          "base_uri": "https://localhost:8080/",
          "height": 221
        }
      },
      "source": [
        "target_df['AVG_MATH_4_SCORE'] = target_df['AVG_MATH_4_SCORE'].fillna(0)\n",
        "target_df['AVG_MATH_4_SCORE'] = target_df['AVG_MATH_4_SCORE'].astype(int)\n",
        "target_df['AVG_MATH_4_SCORE']"
      ],
      "execution_count": 15,
      "outputs": [
        {
          "output_type": "execute_result",
          "data": {
            "text/plain": [
              "0       208\n",
              "1         0\n",
              "2       215\n",
              "3       210\n",
              "4       208\n",
              "       ... \n",
              "1487    248\n",
              "1488    241\n",
              "1489    236\n",
              "1490    240\n",
              "1491    247\n",
              "Name: AVG_MATH_4_SCORE, Length: 1492, dtype: int64"
            ]
          },
          "metadata": {
            "tags": []
          },
          "execution_count": 15
        }
      ]
    },
    {
      "cell_type": "code",
      "metadata": {
        "id": "Jebxr3BzCEQ3",
        "colab_type": "code",
        "outputId": "e5a0e13b-2942-4cdc-af15-ef5a89e2efe1",
        "colab": {
          "base_uri": "https://localhost:8080/",
          "height": 221
        }
      },
      "source": [
        "def proficiency(row):\n",
        "    if 0 < row['AVG_MATH_4_SCORE'] < 249:\n",
        "        val = 'basic'\n",
        "    elif 249 <= row['AVG_MATH_4_SCORE'] < 282:\n",
        "        val = 'proficient'\n",
        "    elif row['AVG_MATH_4_SCORE'] >= 282:\n",
        "        val = 'advanced'\n",
        "    else:\n",
        "        val = 0\n",
        "    return val\n",
        "\n",
        "target_df['MATH_PROF_4'] = target_df.apply(proficiency, axis=1)\n",
        "target_df['MATH_PROF_4']"
      ],
      "execution_count": 16,
      "outputs": [
        {
          "output_type": "execute_result",
          "data": {
            "text/plain": [
              "0       basic\n",
              "1           0\n",
              "2       basic\n",
              "3       basic\n",
              "4       basic\n",
              "        ...  \n",
              "1487    basic\n",
              "1488    basic\n",
              "1489    basic\n",
              "1490    basic\n",
              "1491    basic\n",
              "Name: MATH_PROF_4, Length: 1492, dtype: object"
            ]
          },
          "metadata": {
            "tags": []
          },
          "execution_count": 16
        }
      ]
    },
    {
      "cell_type": "code",
      "metadata": {
        "id": "3Zsb81bSCc2w",
        "colab_type": "code",
        "outputId": "b305fcd1-50ba-4617-fec6-0d221ed617ca",
        "colab": {
          "base_uri": "https://localhost:8080/",
          "height": 85
        }
      },
      "source": [
        "target_df['MATH_PROF_4'].value_counts()"
      ],
      "execution_count": 17,
      "outputs": [
        {
          "output_type": "execute_result",
          "data": {
            "text/plain": [
              "0             956\n",
              "basic         522\n",
              "proficient     14\n",
              "Name: MATH_PROF_4, dtype: int64"
            ]
          },
          "metadata": {
            "tags": []
          },
          "execution_count": 17
        }
      ]
    },
    {
      "cell_type": "code",
      "metadata": {
        "id": "VT33sbsQCoXt",
        "colab_type": "code",
        "outputId": "ef22cbf7-5f82-4373-c991-75e93cdebec1",
        "colab": {
          "base_uri": "https://localhost:8080/",
          "height": 901
        }
      },
      "source": [
        "target_df['AVG_MATH_4_SCORE'].value_counts()"
      ],
      "execution_count": 18,
      "outputs": [
        {
          "output_type": "execute_result",
          "data": {
            "text/plain": [
              "0      956\n",
              "240     35\n",
              "243     30\n",
              "237     29\n",
              "241     29\n",
              "242     25\n",
              "238     24\n",
              "235     23\n",
              "236     23\n",
              "239     21\n",
              "230     19\n",
              "231     18\n",
              "244     18\n",
              "245     17\n",
              "246     16\n",
              "232     16\n",
              "234     14\n",
              "229     14\n",
              "228     12\n",
              "227     11\n",
              "226     11\n",
              "233     10\n",
              "215     10\n",
              "224      9\n",
              "247      8\n",
              "217      8\n",
              "213      7\n",
              "220      7\n",
              "219      7\n",
              "225      7\n",
              "222      6\n",
              "248      6\n",
              "249      5\n",
              "223      5\n",
              "221      4\n",
              "210      3\n",
              "208      3\n",
              "218      3\n",
              "252      3\n",
              "253      3\n",
              "214      2\n",
              "212      2\n",
              "211      2\n",
              "251      2\n",
              "209      2\n",
              "204      2\n",
              "250      1\n",
              "201      1\n",
              "193      1\n",
              "192      1\n",
              "187      1\n",
              "Name: AVG_MATH_4_SCORE, dtype: int64"
            ]
          },
          "metadata": {
            "tags": []
          },
          "execution_count": 18
        }
      ]
    },
    {
      "cell_type": "markdown",
      "metadata": {
        "id": "dQgTwaFJCxaJ",
        "colab_type": "text"
      },
      "source": [
        "This would not work either but I am wondering why my function did not pick up on the 6 proficient score?\n",
        "- got it to work now, made a silly mistake. "
      ]
    },
    {
      "cell_type": "markdown",
      "metadata": {
        "id": "tLhfgbS-_ay7",
        "colab_type": "text"
      },
      "source": [
        "####8TH GRADE MATH"
      ]
    },
    {
      "cell_type": "code",
      "metadata": {
        "id": "k-fz-IxT-NiO",
        "colab_type": "code",
        "outputId": "f0e7e94e-5643-4b6f-f84f-ff568ca66d62",
        "colab": {
          "base_uri": "https://localhost:8080/",
          "height": 34
        }
      },
      "source": [
        "min(target_df['AVG_MATH_8_SCORE']), max(target_df['AVG_MATH_8_SCORE'])"
      ],
      "execution_count": 19,
      "outputs": [
        {
          "output_type": "execute_result",
          "data": {
            "text/plain": [
              "(232.831509532896, 300.568235011147)"
            ]
          },
          "metadata": {
            "tags": []
          },
          "execution_count": 19
        }
      ]
    },
    {
      "cell_type": "code",
      "metadata": {
        "id": "-3N80qbp_xOZ",
        "colab_type": "code",
        "outputId": "b7d94d34-331a-46dc-d65e-288e3af05078",
        "colab": {
          "base_uri": "https://localhost:8080/",
          "height": 221
        }
      },
      "source": [
        "target_df['AVG_MATH_8_SCORE'] = target_df['AVG_MATH_8_SCORE'].fillna(0)\n",
        "target_df['AVG_MATH_8_SCORE'] = target_df['AVG_MATH_8_SCORE'].astype(int)\n",
        "target_df['AVG_MATH_8_SCORE']"
      ],
      "execution_count": 20,
      "outputs": [
        {
          "output_type": "execute_result",
          "data": {
            "text/plain": [
              "0       252\n",
              "1         0\n",
              "2       265\n",
              "3       256\n",
              "4       260\n",
              "       ... \n",
              "1487    290\n",
              "1488    289\n",
              "1489    273\n",
              "1490    288\n",
              "1491    288\n",
              "Name: AVG_MATH_8_SCORE, Length: 1492, dtype: int64"
            ]
          },
          "metadata": {
            "tags": []
          },
          "execution_count": 20
        }
      ]
    },
    {
      "cell_type": "code",
      "metadata": {
        "id": "dSSGGJeE_7jR",
        "colab_type": "code",
        "outputId": "a77d560f-110d-4648-85c2-a3e2ed8b13c8",
        "colab": {
          "base_uri": "https://localhost:8080/",
          "height": 221
        }
      },
      "source": [
        "def proficiency(row):\n",
        "    if 0 < row['AVG_MATH_8_SCORE'] < 250:\n",
        "        val = 'low basic'\n",
        "    elif 250 <= row['AVG_MATH_8_SCORE'] < 280:\n",
        "        val = 'mid basic '\n",
        "    elif 280 <= row['AVG_MATH_8_SCORE'] < 299:\n",
        "        val = 'high basic'    \n",
        "    elif 299 <= row['AVG_MATH_8_SCORE'] < 333:\n",
        "        val = 'proficient'\n",
        "    elif row['AVG_MATH_8_SCORE'] >= 333:\n",
        "        val = 'advanced'\n",
        "    else:\n",
        "        val = 0\n",
        "    return val\n",
        "\n",
        "target_df['MATH_PROF_8'] = target_df.apply(proficiency, axis=1)\n",
        "target_df['MATH_PROF_8']"
      ],
      "execution_count": 21,
      "outputs": [
        {
          "output_type": "execute_result",
          "data": {
            "text/plain": [
              "0       mid basic \n",
              "1                0\n",
              "2       mid basic \n",
              "3       mid basic \n",
              "4       mid basic \n",
              "           ...    \n",
              "1487    high basic\n",
              "1488    high basic\n",
              "1489    mid basic \n",
              "1490    high basic\n",
              "1491    high basic\n",
              "Name: MATH_PROF_8, Length: 1492, dtype: object"
            ]
          },
          "metadata": {
            "tags": []
          },
          "execution_count": 21
        }
      ]
    },
    {
      "cell_type": "code",
      "metadata": {
        "id": "6YiV2mH8Aynv",
        "colab_type": "code",
        "outputId": "c76d9f72-c1dd-4425-ac22-4b2c2f8d86cd",
        "colab": {
          "base_uri": "https://localhost:8080/",
          "height": 119
        }
      },
      "source": [
        "target_df['MATH_PROF_8'].value_counts()"
      ],
      "execution_count": 22,
      "outputs": [
        {
          "output_type": "execute_result",
          "data": {
            "text/plain": [
              "0             960\n",
              "high basic    276\n",
              "mid basic     247\n",
              "low basic       8\n",
              "proficient      1\n",
              "Name: MATH_PROF_8, dtype: int64"
            ]
          },
          "metadata": {
            "tags": []
          },
          "execution_count": 22
        }
      ]
    },
    {
      "cell_type": "code",
      "metadata": {
        "id": "zmJVi9LSBQ4M",
        "colab_type": "code",
        "outputId": "55c244b3-ad1e-4f36-adbe-604b94682ccf",
        "colab": {
          "base_uri": "https://localhost:8080/",
          "height": 986
        }
      },
      "source": [
        "target_df['AVG_MATH_8_SCORE'].value_counts()"
      ],
      "execution_count": 23,
      "outputs": [
        {
          "output_type": "execute_result",
          "data": {
            "text/plain": [
              "0      960\n",
              "283     36\n",
              "286     30\n",
              "281     29\n",
              "277     26\n",
              "280     23\n",
              "284     23\n",
              "282     22\n",
              "288     22\n",
              "285     21\n",
              "287     19\n",
              "279     19\n",
              "275     17\n",
              "274     16\n",
              "278     16\n",
              "270     15\n",
              "276     13\n",
              "271     13\n",
              "273     11\n",
              "268     11\n",
              "289     10\n",
              "269     10\n",
              "272     10\n",
              "262     10\n",
              "266      9\n",
              "290      9\n",
              "265      8\n",
              "291      8\n",
              "267      7\n",
              "294      6\n",
              "263      6\n",
              "292      6\n",
              "260      5\n",
              "259      5\n",
              "264      4\n",
              "261      4\n",
              "293      4\n",
              "258      3\n",
              "256      2\n",
              "252      2\n",
              "234      2\n",
              "253      2\n",
              "295      2\n",
              "296      2\n",
              "297      2\n",
              "298      2\n",
              "257      1\n",
              "254      1\n",
              "250      1\n",
              "249      1\n",
              "248      1\n",
              "246      1\n",
              "245      1\n",
              "243      1\n",
              "232      1\n",
              "300      1\n",
              "Name: AVG_MATH_8_SCORE, dtype: int64"
            ]
          },
          "metadata": {
            "tags": []
          },
          "execution_count": 23
        }
      ]
    },
    {
      "cell_type": "markdown",
      "metadata": {
        "id": "ZWblUqINBntb",
        "colab_type": "text"
      },
      "source": [
        "This would not work either but I am wondering why my function did not pick up on the lone proficient score?\n",
        "- Fixed this as well. \n"
      ]
    },
    {
      "cell_type": "markdown",
      "metadata": {
        "id": "9Ai7aH9b3ZoH",
        "colab_type": "text"
      },
      "source": [
        "###***Targets***"
      ]
    },
    {
      "cell_type": "markdown",
      "metadata": {
        "id": "V5f6rpZZjLHC",
        "colab_type": "text"
      },
      "source": [
        "Adding the two new engineered features back into the database."
      ]
    },
    {
      "cell_type": "code",
      "metadata": {
        "id": "PrwRTuREi_qn",
        "colab_type": "code",
        "outputId": "6f1015c9-820a-46cf-dd76-a5fc3f3f8c81",
        "colab": {
          "base_uri": "https://localhost:8080/",
          "height": 224
        }
      },
      "source": [
        "all_states[['READING_PROF_8', 'MATH_PROF_8']] = target_df[['READING_PROF_8','MATH_PROF_8' ]].copy()\n",
        "all_states.head()"
      ],
      "execution_count": 30,
      "outputs": [
        {
          "output_type": "execute_result",
          "data": {
            "text/html": [
              "<div>\n",
              "<style scoped>\n",
              "    .dataframe tbody tr th:only-of-type {\n",
              "        vertical-align: middle;\n",
              "    }\n",
              "\n",
              "    .dataframe tbody tr th {\n",
              "        vertical-align: top;\n",
              "    }\n",
              "\n",
              "    .dataframe thead th {\n",
              "        text-align: right;\n",
              "    }\n",
              "</style>\n",
              "<table border=\"1\" class=\"dataframe\">\n",
              "  <thead>\n",
              "    <tr style=\"text-align: right;\">\n",
              "      <th></th>\n",
              "      <th>PRIMARY_KEY</th>\n",
              "      <th>STATE</th>\n",
              "      <th>YEAR</th>\n",
              "      <th>ENROLL</th>\n",
              "      <th>TOTAL_REVENUE</th>\n",
              "      <th>FEDERAL_REVENUE</th>\n",
              "      <th>STATE_REVENUE</th>\n",
              "      <th>LOCAL_REVENUE</th>\n",
              "      <th>TOTAL_EXPENDITURE</th>\n",
              "      <th>INSTRUCTION_EXPENDITURE</th>\n",
              "      <th>SUPPORT_SERVICES_EXPENDITURE</th>\n",
              "      <th>OTHER_EXPENDITURE</th>\n",
              "      <th>CAPITAL_OUTLAY_EXPENDITURE</th>\n",
              "      <th>GRADES_PK_G</th>\n",
              "      <th>GRADES_KG_G</th>\n",
              "      <th>GRADES_4_G</th>\n",
              "      <th>GRADES_8_G</th>\n",
              "      <th>GRADES_12_G</th>\n",
              "      <th>GRADES_1_8_G</th>\n",
              "      <th>GRADES_9_12_G</th>\n",
              "      <th>GRADES_ALL_G</th>\n",
              "      <th>AVG_MATH_4_SCORE</th>\n",
              "      <th>AVG_MATH_8_SCORE</th>\n",
              "      <th>AVG_READING_4_SCORE</th>\n",
              "      <th>AVG_READING_8_SCORE</th>\n",
              "      <th>READING_PROF_8</th>\n",
              "      <th>MATH_PROF_8</th>\n",
              "    </tr>\n",
              "  </thead>\n",
              "  <tbody>\n",
              "    <tr>\n",
              "      <th>0</th>\n",
              "      <td>1992_ALABAMA</td>\n",
              "      <td>ALABAMA</td>\n",
              "      <td>1992</td>\n",
              "      <td>NaN</td>\n",
              "      <td>2678885.0</td>\n",
              "      <td>304177.0</td>\n",
              "      <td>1659028.0</td>\n",
              "      <td>715680.0</td>\n",
              "      <td>2653798.0</td>\n",
              "      <td>1481703.0</td>\n",
              "      <td>735036.0</td>\n",
              "      <td>NaN</td>\n",
              "      <td>174053.0</td>\n",
              "      <td>8224.0</td>\n",
              "      <td>55460.0</td>\n",
              "      <td>57948.0</td>\n",
              "      <td>58025.0</td>\n",
              "      <td>41167.0</td>\n",
              "      <td>471564.0</td>\n",
              "      <td>196386.0</td>\n",
              "      <td>676174.0</td>\n",
              "      <td>208.327876</td>\n",
              "      <td>252.187522</td>\n",
              "      <td>207.963517</td>\n",
              "      <td>NaN</td>\n",
              "      <td>0</td>\n",
              "      <td>mid basic</td>\n",
              "    </tr>\n",
              "    <tr>\n",
              "      <th>1</th>\n",
              "      <td>1992_ALASKA</td>\n",
              "      <td>ALASKA</td>\n",
              "      <td>1992</td>\n",
              "      <td>NaN</td>\n",
              "      <td>1049591.0</td>\n",
              "      <td>106780.0</td>\n",
              "      <td>720711.0</td>\n",
              "      <td>222100.0</td>\n",
              "      <td>972488.0</td>\n",
              "      <td>498362.0</td>\n",
              "      <td>350902.0</td>\n",
              "      <td>NaN</td>\n",
              "      <td>37451.0</td>\n",
              "      <td>2371.0</td>\n",
              "      <td>10152.0</td>\n",
              "      <td>9748.0</td>\n",
              "      <td>8789.0</td>\n",
              "      <td>6714.0</td>\n",
              "      <td>79117.0</td>\n",
              "      <td>30847.0</td>\n",
              "      <td>112335.0</td>\n",
              "      <td>NaN</td>\n",
              "      <td>NaN</td>\n",
              "      <td>NaN</td>\n",
              "      <td>258.859712</td>\n",
              "      <td>mid-basic</td>\n",
              "      <td>0</td>\n",
              "    </tr>\n",
              "    <tr>\n",
              "      <th>2</th>\n",
              "      <td>1992_ARIZONA</td>\n",
              "      <td>ARIZONA</td>\n",
              "      <td>1992</td>\n",
              "      <td>NaN</td>\n",
              "      <td>3258079.0</td>\n",
              "      <td>297888.0</td>\n",
              "      <td>1369815.0</td>\n",
              "      <td>1590376.0</td>\n",
              "      <td>3401580.0</td>\n",
              "      <td>1435908.0</td>\n",
              "      <td>1007732.0</td>\n",
              "      <td>NaN</td>\n",
              "      <td>609114.0</td>\n",
              "      <td>2544.0</td>\n",
              "      <td>53497.0</td>\n",
              "      <td>55433.0</td>\n",
              "      <td>49081.0</td>\n",
              "      <td>37410.0</td>\n",
              "      <td>437127.0</td>\n",
              "      <td>175210.0</td>\n",
              "      <td>614881.0</td>\n",
              "      <td>215.253932</td>\n",
              "      <td>265.366278</td>\n",
              "      <td>206.212716</td>\n",
              "      <td>262.169895</td>\n",
              "      <td>high-basic</td>\n",
              "      <td>mid basic</td>\n",
              "    </tr>\n",
              "    <tr>\n",
              "      <th>3</th>\n",
              "      <td>1992_ARKANSAS</td>\n",
              "      <td>ARKANSAS</td>\n",
              "      <td>1992</td>\n",
              "      <td>NaN</td>\n",
              "      <td>1711959.0</td>\n",
              "      <td>178571.0</td>\n",
              "      <td>958785.0</td>\n",
              "      <td>574603.0</td>\n",
              "      <td>1743022.0</td>\n",
              "      <td>964323.0</td>\n",
              "      <td>483488.0</td>\n",
              "      <td>NaN</td>\n",
              "      <td>145212.0</td>\n",
              "      <td>808.0</td>\n",
              "      <td>33511.0</td>\n",
              "      <td>34632.0</td>\n",
              "      <td>36011.0</td>\n",
              "      <td>27651.0</td>\n",
              "      <td>281338.0</td>\n",
              "      <td>123113.0</td>\n",
              "      <td>405259.0</td>\n",
              "      <td>210.206028</td>\n",
              "      <td>256.312090</td>\n",
              "      <td>208.634458</td>\n",
              "      <td>264.619665</td>\n",
              "      <td>high-basic</td>\n",
              "      <td>mid basic</td>\n",
              "    </tr>\n",
              "    <tr>\n",
              "      <th>4</th>\n",
              "      <td>1992_CALIFORNIA</td>\n",
              "      <td>CALIFORNIA</td>\n",
              "      <td>1992</td>\n",
              "      <td>NaN</td>\n",
              "      <td>26260025.0</td>\n",
              "      <td>2072470.0</td>\n",
              "      <td>16546514.0</td>\n",
              "      <td>7641041.0</td>\n",
              "      <td>27138832.0</td>\n",
              "      <td>14358922.0</td>\n",
              "      <td>8520926.0</td>\n",
              "      <td>NaN</td>\n",
              "      <td>2044688.0</td>\n",
              "      <td>59067.0</td>\n",
              "      <td>431763.0</td>\n",
              "      <td>418418.0</td>\n",
              "      <td>363296.0</td>\n",
              "      <td>270675.0</td>\n",
              "      <td>3286034.0</td>\n",
              "      <td>1372011.0</td>\n",
              "      <td>4717112.0</td>\n",
              "      <td>208.398961</td>\n",
              "      <td>260.892247</td>\n",
              "      <td>196.764414</td>\n",
              "      <td>NaN</td>\n",
              "      <td>0</td>\n",
              "      <td>mid basic</td>\n",
              "    </tr>\n",
              "  </tbody>\n",
              "</table>\n",
              "</div>"
            ],
            "text/plain": [
              "       PRIMARY_KEY       STATE  ...  READING_PROF_8  MATH_PROF_8\n",
              "0     1992_ALABAMA     ALABAMA  ...               0   mid basic \n",
              "1      1992_ALASKA      ALASKA  ...       mid-basic            0\n",
              "2     1992_ARIZONA     ARIZONA  ...      high-basic   mid basic \n",
              "3    1992_ARKANSAS    ARKANSAS  ...      high-basic   mid basic \n",
              "4  1992_CALIFORNIA  CALIFORNIA  ...               0   mid basic \n",
              "\n",
              "[5 rows x 27 columns]"
            ]
          },
          "metadata": {
            "tags": []
          },
          "execution_count": 30
        }
      ]
    },
    {
      "cell_type": "markdown",
      "metadata": {
        "id": "b4xqSGhui91x",
        "colab_type": "text"
      },
      "source": [
        "###***Choose which observations you will use to train, validate, and test your model.***"
      ]
    },
    {
      "cell_type": "markdown",
      "metadata": {
        "id": "3NnAgoM-GaqN",
        "colab_type": "text"
      },
      "source": [
        "For this dataset, I would delete the years where the NAEP test scores are not available since that does not give anything for me to train/validate/test the data on. The data is from 1992 - 2017. The NAEP only gives information for the years 1992, 1996, 2000, 2003, 2005, 2007, 2009, 2011, 2013, 2015, 2017. "
      ]
    },
    {
      "cell_type": "code",
      "metadata": {
        "id": "W2LUXfT48X5Y",
        "colab_type": "code",
        "outputId": "2cba64cb-5ae4-4b34-a8d2-28cb96237e4f",
        "colab": {
          "base_uri": "https://localhost:8080/",
          "height": 476
        }
      },
      "source": [
        "all_states['YEAR'].value_counts()"
      ],
      "execution_count": 31,
      "outputs": [
        {
          "output_type": "execute_result",
          "data": {
            "text/plain": [
              "2004    59\n",
              "2008    59\n",
              "1999    59\n",
              "2000    59\n",
              "2001    59\n",
              "2002    59\n",
              "2003    59\n",
              "2005    59\n",
              "2007    59\n",
              "2006    59\n",
              "2009    59\n",
              "2010    58\n",
              "2011    58\n",
              "2012    58\n",
              "2013    58\n",
              "1998    58\n",
              "2015    57\n",
              "1997    57\n",
              "1996    57\n",
              "1995    56\n",
              "1994    56\n",
              "1993    56\n",
              "1992    56\n",
              "2014    56\n",
              "2016    51\n",
              "2017    51\n",
              "Name: YEAR, dtype: int64"
            ]
          },
          "metadata": {
            "tags": []
          },
          "execution_count": 31
        }
      ]
    },
    {
      "cell_type": "code",
      "metadata": {
        "id": "Ng5LROJN88Ox",
        "colab_type": "code",
        "outputId": "d78ed53c-d4b8-4f84-f7de-6805fea9fcc4",
        "colab": {
          "base_uri": "https://localhost:8080/",
          "height": 493
        }
      },
      "source": [
        "all_states.dtypes"
      ],
      "execution_count": 32,
      "outputs": [
        {
          "output_type": "execute_result",
          "data": {
            "text/plain": [
              "PRIMARY_KEY                      object\n",
              "STATE                            object\n",
              "YEAR                              int64\n",
              "ENROLL                          float64\n",
              "TOTAL_REVENUE                   float64\n",
              "FEDERAL_REVENUE                 float64\n",
              "STATE_REVENUE                   float64\n",
              "LOCAL_REVENUE                   float64\n",
              "TOTAL_EXPENDITURE               float64\n",
              "INSTRUCTION_EXPENDITURE         float64\n",
              "SUPPORT_SERVICES_EXPENDITURE    float64\n",
              "OTHER_EXPENDITURE               float64\n",
              "CAPITAL_OUTLAY_EXPENDITURE      float64\n",
              "GRADES_PK_G                     float64\n",
              "GRADES_KG_G                     float64\n",
              "GRADES_4_G                      float64\n",
              "GRADES_8_G                      float64\n",
              "GRADES_12_G                     float64\n",
              "GRADES_1_8_G                    float64\n",
              "GRADES_9_12_G                   float64\n",
              "GRADES_ALL_G                    float64\n",
              "AVG_MATH_4_SCORE                float64\n",
              "AVG_MATH_8_SCORE                float64\n",
              "AVG_READING_4_SCORE             float64\n",
              "AVG_READING_8_SCORE             float64\n",
              "READING_PROF_8                   object\n",
              "MATH_PROF_8                      object\n",
              "dtype: object"
            ]
          },
          "metadata": {
            "tags": []
          },
          "execution_count": 32
        }
      ]
    },
    {
      "cell_type": "code",
      "metadata": {
        "id": "9zXvtHRA0RZg",
        "colab_type": "code",
        "outputId": "591f5ab4-76a6-44dc-b218-6b43df25bb6c",
        "colab": {
          "base_uri": "https://localhost:8080/",
          "height": 34
        }
      },
      "source": [
        "min(all_states[\"YEAR\"]), max(all_states[\"YEAR\"])"
      ],
      "execution_count": 33,
      "outputs": [
        {
          "output_type": "execute_result",
          "data": {
            "text/plain": [
              "(1992, 2017)"
            ]
          },
          "metadata": {
            "tags": []
          },
          "execution_count": 33
        }
      ]
    },
    {
      "cell_type": "code",
      "metadata": {
        "id": "ibhcnDPT0oaC",
        "colab_type": "code",
        "colab": {
          "base_uri": "https://localhost:8080/",
          "height": 224
        },
        "outputId": "c0b513cc-f301-43bf-e449-bb68da7c43e4"
      },
      "source": [
        "all_states = all_states[['YEAR', 'PRIMARY_KEY', 'STATE',\t'ENROLL',\t'TOTAL_REVENUE',\t'FEDERAL_REVENUE',\t'STATE_REVENUE',\t'LOCAL_REVENUE',\t'TOTAL_EXPENDITURE',\t'INSTRUCTION_EXPENDITURE',\t'SUPPORT_SERVICES_EXPENDITURE',\t'OTHER_EXPENDITURE',\t'CAPITAL_OUTLAY_EXPENDITURE',\t'GRADES_PK_G',\t'GRADES_KG_G',\t'GRADES_4_G',\t'GRADES_8_G',\t'GRADES_12_G',\t'GRADES_1_8_G',\t'GRADES_9_12_G',\t'GRADES_ALL_G',\t'AVG_MATH_4_SCORE',\t'AVG_MATH_8_SCORE',\t'AVG_READING_4_SCORE',\t'AVG_READING_8_SCORE',\t'READING_PROF_8',\t'MATH_PROF_8']]\n",
        "all_states.head()"
      ],
      "execution_count": 35,
      "outputs": [
        {
          "output_type": "execute_result",
          "data": {
            "text/html": [
              "<div>\n",
              "<style scoped>\n",
              "    .dataframe tbody tr th:only-of-type {\n",
              "        vertical-align: middle;\n",
              "    }\n",
              "\n",
              "    .dataframe tbody tr th {\n",
              "        vertical-align: top;\n",
              "    }\n",
              "\n",
              "    .dataframe thead th {\n",
              "        text-align: right;\n",
              "    }\n",
              "</style>\n",
              "<table border=\"1\" class=\"dataframe\">\n",
              "  <thead>\n",
              "    <tr style=\"text-align: right;\">\n",
              "      <th></th>\n",
              "      <th>YEAR</th>\n",
              "      <th>PRIMARY_KEY</th>\n",
              "      <th>STATE</th>\n",
              "      <th>ENROLL</th>\n",
              "      <th>TOTAL_REVENUE</th>\n",
              "      <th>FEDERAL_REVENUE</th>\n",
              "      <th>STATE_REVENUE</th>\n",
              "      <th>LOCAL_REVENUE</th>\n",
              "      <th>TOTAL_EXPENDITURE</th>\n",
              "      <th>INSTRUCTION_EXPENDITURE</th>\n",
              "      <th>SUPPORT_SERVICES_EXPENDITURE</th>\n",
              "      <th>OTHER_EXPENDITURE</th>\n",
              "      <th>CAPITAL_OUTLAY_EXPENDITURE</th>\n",
              "      <th>GRADES_PK_G</th>\n",
              "      <th>GRADES_KG_G</th>\n",
              "      <th>GRADES_4_G</th>\n",
              "      <th>GRADES_8_G</th>\n",
              "      <th>GRADES_12_G</th>\n",
              "      <th>GRADES_1_8_G</th>\n",
              "      <th>GRADES_9_12_G</th>\n",
              "      <th>GRADES_ALL_G</th>\n",
              "      <th>AVG_MATH_4_SCORE</th>\n",
              "      <th>AVG_MATH_8_SCORE</th>\n",
              "      <th>AVG_READING_4_SCORE</th>\n",
              "      <th>AVG_READING_8_SCORE</th>\n",
              "      <th>READING_PROF_8</th>\n",
              "      <th>MATH_PROF_8</th>\n",
              "    </tr>\n",
              "  </thead>\n",
              "  <tbody>\n",
              "    <tr>\n",
              "      <th>0</th>\n",
              "      <td>1992</td>\n",
              "      <td>1992_ALABAMA</td>\n",
              "      <td>ALABAMA</td>\n",
              "      <td>NaN</td>\n",
              "      <td>2678885.0</td>\n",
              "      <td>304177.0</td>\n",
              "      <td>1659028.0</td>\n",
              "      <td>715680.0</td>\n",
              "      <td>2653798.0</td>\n",
              "      <td>1481703.0</td>\n",
              "      <td>735036.0</td>\n",
              "      <td>NaN</td>\n",
              "      <td>174053.0</td>\n",
              "      <td>8224.0</td>\n",
              "      <td>55460.0</td>\n",
              "      <td>57948.0</td>\n",
              "      <td>58025.0</td>\n",
              "      <td>41167.0</td>\n",
              "      <td>471564.0</td>\n",
              "      <td>196386.0</td>\n",
              "      <td>676174.0</td>\n",
              "      <td>208.327876</td>\n",
              "      <td>252.187522</td>\n",
              "      <td>207.963517</td>\n",
              "      <td>NaN</td>\n",
              "      <td>0</td>\n",
              "      <td>mid basic</td>\n",
              "    </tr>\n",
              "    <tr>\n",
              "      <th>1</th>\n",
              "      <td>1992</td>\n",
              "      <td>1992_ALASKA</td>\n",
              "      <td>ALASKA</td>\n",
              "      <td>NaN</td>\n",
              "      <td>1049591.0</td>\n",
              "      <td>106780.0</td>\n",
              "      <td>720711.0</td>\n",
              "      <td>222100.0</td>\n",
              "      <td>972488.0</td>\n",
              "      <td>498362.0</td>\n",
              "      <td>350902.0</td>\n",
              "      <td>NaN</td>\n",
              "      <td>37451.0</td>\n",
              "      <td>2371.0</td>\n",
              "      <td>10152.0</td>\n",
              "      <td>9748.0</td>\n",
              "      <td>8789.0</td>\n",
              "      <td>6714.0</td>\n",
              "      <td>79117.0</td>\n",
              "      <td>30847.0</td>\n",
              "      <td>112335.0</td>\n",
              "      <td>NaN</td>\n",
              "      <td>NaN</td>\n",
              "      <td>NaN</td>\n",
              "      <td>258.859712</td>\n",
              "      <td>mid-basic</td>\n",
              "      <td>0</td>\n",
              "    </tr>\n",
              "    <tr>\n",
              "      <th>2</th>\n",
              "      <td>1992</td>\n",
              "      <td>1992_ARIZONA</td>\n",
              "      <td>ARIZONA</td>\n",
              "      <td>NaN</td>\n",
              "      <td>3258079.0</td>\n",
              "      <td>297888.0</td>\n",
              "      <td>1369815.0</td>\n",
              "      <td>1590376.0</td>\n",
              "      <td>3401580.0</td>\n",
              "      <td>1435908.0</td>\n",
              "      <td>1007732.0</td>\n",
              "      <td>NaN</td>\n",
              "      <td>609114.0</td>\n",
              "      <td>2544.0</td>\n",
              "      <td>53497.0</td>\n",
              "      <td>55433.0</td>\n",
              "      <td>49081.0</td>\n",
              "      <td>37410.0</td>\n",
              "      <td>437127.0</td>\n",
              "      <td>175210.0</td>\n",
              "      <td>614881.0</td>\n",
              "      <td>215.253932</td>\n",
              "      <td>265.366278</td>\n",
              "      <td>206.212716</td>\n",
              "      <td>262.169895</td>\n",
              "      <td>high-basic</td>\n",
              "      <td>mid basic</td>\n",
              "    </tr>\n",
              "    <tr>\n",
              "      <th>3</th>\n",
              "      <td>1992</td>\n",
              "      <td>1992_ARKANSAS</td>\n",
              "      <td>ARKANSAS</td>\n",
              "      <td>NaN</td>\n",
              "      <td>1711959.0</td>\n",
              "      <td>178571.0</td>\n",
              "      <td>958785.0</td>\n",
              "      <td>574603.0</td>\n",
              "      <td>1743022.0</td>\n",
              "      <td>964323.0</td>\n",
              "      <td>483488.0</td>\n",
              "      <td>NaN</td>\n",
              "      <td>145212.0</td>\n",
              "      <td>808.0</td>\n",
              "      <td>33511.0</td>\n",
              "      <td>34632.0</td>\n",
              "      <td>36011.0</td>\n",
              "      <td>27651.0</td>\n",
              "      <td>281338.0</td>\n",
              "      <td>123113.0</td>\n",
              "      <td>405259.0</td>\n",
              "      <td>210.206028</td>\n",
              "      <td>256.312090</td>\n",
              "      <td>208.634458</td>\n",
              "      <td>264.619665</td>\n",
              "      <td>high-basic</td>\n",
              "      <td>mid basic</td>\n",
              "    </tr>\n",
              "    <tr>\n",
              "      <th>4</th>\n",
              "      <td>1992</td>\n",
              "      <td>1992_CALIFORNIA</td>\n",
              "      <td>CALIFORNIA</td>\n",
              "      <td>NaN</td>\n",
              "      <td>26260025.0</td>\n",
              "      <td>2072470.0</td>\n",
              "      <td>16546514.0</td>\n",
              "      <td>7641041.0</td>\n",
              "      <td>27138832.0</td>\n",
              "      <td>14358922.0</td>\n",
              "      <td>8520926.0</td>\n",
              "      <td>NaN</td>\n",
              "      <td>2044688.0</td>\n",
              "      <td>59067.0</td>\n",
              "      <td>431763.0</td>\n",
              "      <td>418418.0</td>\n",
              "      <td>363296.0</td>\n",
              "      <td>270675.0</td>\n",
              "      <td>3286034.0</td>\n",
              "      <td>1372011.0</td>\n",
              "      <td>4717112.0</td>\n",
              "      <td>208.398961</td>\n",
              "      <td>260.892247</td>\n",
              "      <td>196.764414</td>\n",
              "      <td>NaN</td>\n",
              "      <td>0</td>\n",
              "      <td>mid basic</td>\n",
              "    </tr>\n",
              "  </tbody>\n",
              "</table>\n",
              "</div>"
            ],
            "text/plain": [
              "   YEAR      PRIMARY_KEY  ... READING_PROF_8  MATH_PROF_8\n",
              "0  1992     1992_ALABAMA  ...              0   mid basic \n",
              "1  1992      1992_ALASKA  ...      mid-basic            0\n",
              "2  1992     1992_ARIZONA  ...     high-basic   mid basic \n",
              "3  1992    1992_ARKANSAS  ...     high-basic   mid basic \n",
              "4  1992  1992_CALIFORNIA  ...              0   mid basic \n",
              "\n",
              "[5 rows x 27 columns]"
            ]
          },
          "metadata": {
            "tags": []
          },
          "execution_count": 35
        }
      ]
    },
    {
      "cell_type": "code",
      "metadata": {
        "id": "IjyblJBX31rM",
        "colab_type": "code",
        "colab": {
          "base_uri": "https://localhost:8080/",
          "height": 493
        },
        "outputId": "8ed4930c-280f-48e8-ba99-fda0b5220066"
      },
      "source": [
        "all_states.isnull().sum()"
      ],
      "execution_count": 44,
      "outputs": [
        {
          "output_type": "execute_result",
          "data": {
            "text/plain": [
              "YEAR                              0\n",
              "PRIMARY_KEY                       0\n",
              "STATE                             0\n",
              "ENROLL                          263\n",
              "TOTAL_REVENUE                   212\n",
              "FEDERAL_REVENUE                 212\n",
              "STATE_REVENUE                   212\n",
              "LOCAL_REVENUE                   212\n",
              "TOTAL_EXPENDITURE               212\n",
              "INSTRUCTION_EXPENDITURE         212\n",
              "SUPPORT_SERVICES_EXPENDITURE    212\n",
              "OTHER_EXPENDITURE               263\n",
              "CAPITAL_OUTLAY_EXPENDITURE      212\n",
              "GRADES_PK_G                     173\n",
              "GRADES_KG_G                     132\n",
              "GRADES_4_G                      131\n",
              "GRADES_8_G                      131\n",
              "GRADES_12_G                     131\n",
              "GRADES_1_8_G                    131\n",
              "GRADES_9_12_G                   131\n",
              "GRADES_ALL_G                    173\n",
              "AVG_MATH_4_SCORE                956\n",
              "AVG_MATH_8_SCORE                960\n",
              "AVG_READING_4_SCORE             959\n",
              "AVG_READING_8_SCORE             994\n",
              "READING_PROF_8                    0\n",
              "MATH_PROF_8                       0\n",
              "dtype: int64"
            ]
          },
          "metadata": {
            "tags": []
          },
          "execution_count": 44
        }
      ]
    },
    {
      "cell_type": "code",
      "metadata": {
        "id": "VPF9QCzj7AfG",
        "colab_type": "code",
        "colab": {}
      },
      "source": [
        "all_states = all_states.dropna(axis=0, subset=['AVG_MATH_4_SCORE', 'AVG_MATH_8_SCORE', 'AVG_READING_4_SCORE', 'AVG_READING_8_SCORE'], thresh=4)"
      ],
      "execution_count": 0,
      "outputs": []
    },
    {
      "cell_type": "code",
      "metadata": {
        "id": "jVW1pQOoI88N",
        "colab_type": "code",
        "colab": {
          "base_uri": "https://localhost:8080/",
          "height": 493
        },
        "outputId": "be0e4487-7d6c-49f5-8bf5-ce6816e871c8"
      },
      "source": [
        "all_states.isnull().sum()"
      ],
      "execution_count": 53,
      "outputs": [
        {
          "output_type": "execute_result",
          "data": {
            "text/plain": [
              "YEAR                             0\n",
              "PRIMARY_KEY                      0\n",
              "STATE                            0\n",
              "ENROLL                          58\n",
              "TOTAL_REVENUE                   51\n",
              "FEDERAL_REVENUE                 51\n",
              "STATE_REVENUE                   51\n",
              "LOCAL_REVENUE                   51\n",
              "TOTAL_EXPENDITURE               51\n",
              "INSTRUCTION_EXPENDITURE         51\n",
              "SUPPORT_SERVICES_EXPENDITURE    51\n",
              "OTHER_EXPENDITURE               58\n",
              "CAPITAL_OUTLAY_EXPENDITURE      51\n",
              "GRADES_PK_G                     54\n",
              "GRADES_KG_G                     51\n",
              "GRADES_4_G                      51\n",
              "GRADES_8_G                      51\n",
              "GRADES_12_G                     51\n",
              "GRADES_1_8_G                    51\n",
              "GRADES_9_12_G                   51\n",
              "GRADES_ALL_G                    54\n",
              "AVG_MATH_4_SCORE                 0\n",
              "AVG_MATH_8_SCORE                 0\n",
              "AVG_READING_4_SCORE              0\n",
              "AVG_READING_8_SCORE              0\n",
              "READING_PROF_8                   0\n",
              "MATH_PROF_8                      0\n",
              "dtype: int64"
            ]
          },
          "metadata": {
            "tags": []
          },
          "execution_count": 53
        }
      ]
    },
    {
      "cell_type": "code",
      "metadata": {
        "id": "GTjOEPsiJeWh",
        "colab_type": "code",
        "colab": {
          "base_uri": "https://localhost:8080/",
          "height": 224
        },
        "outputId": "0408f496-0a5c-48e1-cdc8-4bf58d904429"
      },
      "source": [
        "all_states.head()"
      ],
      "execution_count": 54,
      "outputs": [
        {
          "output_type": "execute_result",
          "data": {
            "text/html": [
              "<div>\n",
              "<style scoped>\n",
              "    .dataframe tbody tr th:only-of-type {\n",
              "        vertical-align: middle;\n",
              "    }\n",
              "\n",
              "    .dataframe tbody tr th {\n",
              "        vertical-align: top;\n",
              "    }\n",
              "\n",
              "    .dataframe thead th {\n",
              "        text-align: right;\n",
              "    }\n",
              "</style>\n",
              "<table border=\"1\" class=\"dataframe\">\n",
              "  <thead>\n",
              "    <tr style=\"text-align: right;\">\n",
              "      <th></th>\n",
              "      <th>YEAR</th>\n",
              "      <th>PRIMARY_KEY</th>\n",
              "      <th>STATE</th>\n",
              "      <th>ENROLL</th>\n",
              "      <th>TOTAL_REVENUE</th>\n",
              "      <th>FEDERAL_REVENUE</th>\n",
              "      <th>STATE_REVENUE</th>\n",
              "      <th>LOCAL_REVENUE</th>\n",
              "      <th>TOTAL_EXPENDITURE</th>\n",
              "      <th>INSTRUCTION_EXPENDITURE</th>\n",
              "      <th>SUPPORT_SERVICES_EXPENDITURE</th>\n",
              "      <th>OTHER_EXPENDITURE</th>\n",
              "      <th>CAPITAL_OUTLAY_EXPENDITURE</th>\n",
              "      <th>GRADES_PK_G</th>\n",
              "      <th>GRADES_KG_G</th>\n",
              "      <th>GRADES_4_G</th>\n",
              "      <th>GRADES_8_G</th>\n",
              "      <th>GRADES_12_G</th>\n",
              "      <th>GRADES_1_8_G</th>\n",
              "      <th>GRADES_9_12_G</th>\n",
              "      <th>GRADES_ALL_G</th>\n",
              "      <th>AVG_MATH_4_SCORE</th>\n",
              "      <th>AVG_MATH_8_SCORE</th>\n",
              "      <th>AVG_READING_4_SCORE</th>\n",
              "      <th>AVG_READING_8_SCORE</th>\n",
              "      <th>READING_PROF_8</th>\n",
              "      <th>MATH_PROF_8</th>\n",
              "    </tr>\n",
              "  </thead>\n",
              "  <tbody>\n",
              "    <tr>\n",
              "      <th>2</th>\n",
              "      <td>1992</td>\n",
              "      <td>1992_ARIZONA</td>\n",
              "      <td>ARIZONA</td>\n",
              "      <td>NaN</td>\n",
              "      <td>3.25808e+06</td>\n",
              "      <td>297888</td>\n",
              "      <td>1.36982e+06</td>\n",
              "      <td>1.59038e+06</td>\n",
              "      <td>3.40158e+06</td>\n",
              "      <td>1.43591e+06</td>\n",
              "      <td>1.00773e+06</td>\n",
              "      <td>NaN</td>\n",
              "      <td>609114</td>\n",
              "      <td>2544</td>\n",
              "      <td>53497</td>\n",
              "      <td>55433</td>\n",
              "      <td>49081</td>\n",
              "      <td>37410</td>\n",
              "      <td>437127</td>\n",
              "      <td>175210</td>\n",
              "      <td>614881</td>\n",
              "      <td>215.254</td>\n",
              "      <td>265.366</td>\n",
              "      <td>206.213</td>\n",
              "      <td>262.17</td>\n",
              "      <td>high-basic</td>\n",
              "      <td>mid basic</td>\n",
              "    </tr>\n",
              "    <tr>\n",
              "      <th>3</th>\n",
              "      <td>1992</td>\n",
              "      <td>1992_ARKANSAS</td>\n",
              "      <td>ARKANSAS</td>\n",
              "      <td>NaN</td>\n",
              "      <td>1.71196e+06</td>\n",
              "      <td>178571</td>\n",
              "      <td>958785</td>\n",
              "      <td>574603</td>\n",
              "      <td>1.74302e+06</td>\n",
              "      <td>964323</td>\n",
              "      <td>483488</td>\n",
              "      <td>NaN</td>\n",
              "      <td>145212</td>\n",
              "      <td>808</td>\n",
              "      <td>33511</td>\n",
              "      <td>34632</td>\n",
              "      <td>36011</td>\n",
              "      <td>27651</td>\n",
              "      <td>281338</td>\n",
              "      <td>123113</td>\n",
              "      <td>405259</td>\n",
              "      <td>210.206</td>\n",
              "      <td>256.312</td>\n",
              "      <td>208.634</td>\n",
              "      <td>264.62</td>\n",
              "      <td>high-basic</td>\n",
              "      <td>mid basic</td>\n",
              "    </tr>\n",
              "    <tr>\n",
              "      <th>5</th>\n",
              "      <td>1992</td>\n",
              "      <td>1992_COLORADO</td>\n",
              "      <td>COLORADO</td>\n",
              "      <td>NaN</td>\n",
              "      <td>3.18517e+06</td>\n",
              "      <td>163253</td>\n",
              "      <td>1.30799e+06</td>\n",
              "      <td>1.71393e+06</td>\n",
              "      <td>3.26483e+06</td>\n",
              "      <td>1.64247e+06</td>\n",
              "      <td>1.03597e+06</td>\n",
              "      <td>NaN</td>\n",
              "      <td>364760</td>\n",
              "      <td>7410</td>\n",
              "      <td>47588</td>\n",
              "      <td>50648</td>\n",
              "      <td>45025</td>\n",
              "      <td>34533</td>\n",
              "      <td>394904</td>\n",
              "      <td>160299</td>\n",
              "      <td>562613</td>\n",
              "      <td>221.023</td>\n",
              "      <td>272.398</td>\n",
              "      <td>213.481</td>\n",
              "      <td>266.42</td>\n",
              "      <td>high-basic</td>\n",
              "      <td>mid basic</td>\n",
              "    </tr>\n",
              "    <tr>\n",
              "      <th>6</th>\n",
              "      <td>1992</td>\n",
              "      <td>1992_CONNECTICUT</td>\n",
              "      <td>CONNECTICUT</td>\n",
              "      <td>NaN</td>\n",
              "      <td>3.8343e+06</td>\n",
              "      <td>143542</td>\n",
              "      <td>1.34254e+06</td>\n",
              "      <td>2.34822e+06</td>\n",
              "      <td>3.72134e+06</td>\n",
              "      <td>2.14804e+06</td>\n",
              "      <td>1.1426e+06</td>\n",
              "      <td>NaN</td>\n",
              "      <td>48542</td>\n",
              "      <td>5731</td>\n",
              "      <td>41319</td>\n",
              "      <td>38058</td>\n",
              "      <td>33691</td>\n",
              "      <td>28366</td>\n",
              "      <td>304284</td>\n",
              "      <td>126917</td>\n",
              "      <td>436932</td>\n",
              "      <td>226.798</td>\n",
              "      <td>273.739</td>\n",
              "      <td>222.418</td>\n",
              "      <td>264.714</td>\n",
              "      <td>high-basic</td>\n",
              "      <td>mid basic</td>\n",
              "    </tr>\n",
              "    <tr>\n",
              "      <th>7</th>\n",
              "      <td>1992</td>\n",
              "      <td>1992_DELAWARE</td>\n",
              "      <td>DELAWARE</td>\n",
              "      <td>NaN</td>\n",
              "      <td>645233</td>\n",
              "      <td>45945</td>\n",
              "      <td>420942</td>\n",
              "      <td>178346</td>\n",
              "      <td>638784</td>\n",
              "      <td>372722</td>\n",
              "      <td>194915</td>\n",
              "      <td>NaN</td>\n",
              "      <td>30595</td>\n",
              "      <td>463</td>\n",
              "      <td>8025</td>\n",
              "      <td>8272</td>\n",
              "      <td>8012</td>\n",
              "      <td>6129</td>\n",
              "      <td>67495</td>\n",
              "      <td>28338</td>\n",
              "      <td>96296</td>\n",
              "      <td>217.9</td>\n",
              "      <td>262.869</td>\n",
              "      <td>206.389</td>\n",
              "      <td>261.578</td>\n",
              "      <td>high-basic</td>\n",
              "      <td>mid basic</td>\n",
              "    </tr>\n",
              "  </tbody>\n",
              "</table>\n",
              "</div>"
            ],
            "text/plain": [
              "   YEAR       PRIMARY_KEY  ... READING_PROF_8 MATH_PROF_8\n",
              "2  1992      1992_ARIZONA  ...     high-basic  mid basic \n",
              "3  1992     1992_ARKANSAS  ...     high-basic  mid basic \n",
              "5  1992     1992_COLORADO  ...     high-basic  mid basic \n",
              "6  1992  1992_CONNECTICUT  ...     high-basic  mid basic \n",
              "7  1992     1992_DELAWARE  ...     high-basic  mid basic \n",
              "\n",
              "[5 rows x 27 columns]"
            ]
          },
          "metadata": {
            "tags": []
          },
          "execution_count": 54
        }
      ]
    },
    {
      "cell_type": "markdown",
      "metadata": {
        "id": "IDw-yQmDGq6W",
        "colab_type": "text"
      },
      "source": [
        "I would split this dataset by date. That would make the most sense in this context. \n",
        "Does not make sense to split since as a classification problem, greater than 70% of the majority class for any of the predictive features is the majority class of basic. \n",
        "- will combat this by separting the basic section into a low medium and high group. "
      ]
    },
    {
      "cell_type": "markdown",
      "metadata": {
        "id": "N_nZMtCQjU5d",
        "colab_type": "text"
      },
      "source": [
        "###***Begin to clean and explore your data.***"
      ]
    },
    {
      "cell_type": "markdown",
      "metadata": {
        "id": "PF6MrankjeVe",
        "colab_type": "text"
      },
      "source": [
        "###***Begin to choose which features, if any, to exclude. Would some features \"leak\" future information?***"
      ]
    },
    {
      "cell_type": "markdown",
      "metadata": {
        "id": "Z33qY2gcE4HL",
        "colab_type": "text"
      },
      "source": [
        "If I were to use this dataset, I would delete the scores since that would definitely delete information. \n",
        "- either Reading or Math. "
      ]
    }
  ]
}