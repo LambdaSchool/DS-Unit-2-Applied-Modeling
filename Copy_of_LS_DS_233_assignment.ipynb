{
  "nbformat": 4,
  "nbformat_minor": 0,
  "metadata": {
    "kernelspec": {
      "display_name": "Python 3",
      "language": "python",
      "name": "python3"
    },
    "language_info": {
      "codemirror_mode": {
        "name": "ipython",
        "version": 3
      },
      "file_extension": ".py",
      "mimetype": "text/x-python",
      "name": "python",
      "nbconvert_exporter": "python",
      "pygments_lexer": "ipython3",
      "version": "3.7.3"
    },
    "colab": {
      "name": "Copy of LS_DS_233_assignment.ipynb",
      "provenance": [],
      "collapsed_sections": [],
      "include_colab_link": true
    }
  },
  "cells": [
    {
      "cell_type": "markdown",
      "metadata": {
        "id": "view-in-github",
        "colab_type": "text"
      },
      "source": [
        "<a href=\"https://colab.research.google.com/github/Cknowles11/DS-Unit-2-Applied-Modeling/blob/master/Copy_of_LS_DS_233_assignment.ipynb\" target=\"_parent\"><img src=\"https://colab.research.google.com/assets/colab-badge.svg\" alt=\"Open In Colab\"/></a>"
      ]
    },
    {
      "cell_type": "markdown",
      "metadata": {
        "id": "nCc3XZEyG3XV"
      },
      "source": [
        "Lambda School Data Science\n",
        "\n",
        "*Unit 2, Sprint 3, Module 3*\n",
        "\n",
        "---\n",
        "\n",
        "\n",
        "# Permutation & Boosting\n",
        "\n",
        "You will use your portfolio project dataset for all assignments this sprint.\n",
        "\n",
        "## Assignment\n",
        "\n",
        "Complete these tasks for your project, and document your work.\n",
        "\n",
        "- [ ] If you haven't completed assignment #1, please do so first.\n",
        "- [ ] Continue to clean and explore your data. Make exploratory visualizations.\n",
        "- [ ] Fit a model. Does it beat your baseline? \n",
        "- [ ] Try xgboost.\n",
        "- [ ] Get your model's permutation importances.\n",
        "\n",
        "You should try to complete an initial model today, because the rest of the week, we're making model interpretation visualizations.\n",
        "\n",
        "But, if you aren't ready to try xgboost and permutation importances with your dataset today, that's okay. You can practice with another dataset instead. You may choose any dataset you've worked with previously.\n",
        "\n",
        "The data subdirectory includes the Titanic dataset for classification and the NYC apartments dataset for regression. You may want to choose one of these datasets, because example solutions will be available for each.\n",
        "\n",
        "\n",
        "## Reading\n",
        "\n",
        "Top recommendations in _**bold italic:**_\n",
        "\n",
        "#### Permutation Importances\n",
        "- _**[Kaggle / Dan Becker: Machine Learning Explainability](https://www.kaggle.com/dansbecker/permutation-importance)**_\n",
        "- [Christoph Molnar: Interpretable Machine Learning](https://christophm.github.io/interpretable-ml-book/feature-importance.html)\n",
        "\n",
        "#### (Default) Feature Importances\n",
        "  - [Ando Saabas: Selecting good features, Part 3, Random Forests](https://blog.datadive.net/selecting-good-features-part-iii-random-forests/)\n",
        "  - [Terence Parr, et al: Beware Default Random Forest Importances](https://explained.ai/rf-importance/index.html)\n",
        "\n",
        "#### Gradient Boosting\n",
        "  - [A Gentle Introduction to the Gradient Boosting Algorithm for Machine Learning](https://machinelearningmastery.com/gentle-introduction-gradient-boosting-algorithm-machine-learning/)\n",
        "  - [An Introduction to Statistical Learning](http://www-bcf.usc.edu/~gareth/ISL/ISLR%20Seventh%20Printing.pdf), Chapter 8\n",
        "  - _**[Gradient Boosting Explained](https://www.gormanalysis.com/blog/gradient-boosting-explained/)**_ — Ben Gorman\n",
        "  - [Gradient Boosting Explained](http://arogozhnikov.github.io/2016/06/24/gradient_boosting_explained.html) — Alex Rogozhnikov\n",
        "  - [How to explain gradient boosting](https://explained.ai/gradient-boosting/) — Terence Parr & Jeremy Howard"
      ]
    },
    {
      "cell_type": "code",
      "metadata": {
        "id": "3uuc_tDMRFuh"
      },
      "source": [
        "import pandas as pd\n",
        "import numpy as np\n",
        "import matplotlib.pyplot as plt\n",
        "import seaborn as sns\n",
        "!pip install category_encoders==2.*\n",
        "!pip install eli5"
      ],
      "execution_count": null,
      "outputs": []
    },
    {
      "cell_type": "code",
      "metadata": {
        "id": "Ufnu-9nlUF4h",
        "outputId": "6cad0612-7864-464d-8e0d-45afff709935",
        "colab": {
          "base_uri": "https://localhost:8080/"
        }
      },
      "source": [
        "from google.colab import drive\n",
        "drive.mount('/content/drive')"
      ],
      "execution_count": 2,
      "outputs": [
        {
          "output_type": "stream",
          "text": [
            "Mounted at /content/drive\n"
          ],
          "name": "stdout"
        }
      ]
    },
    {
      "cell_type": "code",
      "metadata": {
        "id": "KuCYERFUULQm"
      },
      "source": [
        "df = pd.read_csv('/content/drive/My Drive/Local Repo/wineQualityWhites.csv')"
      ],
      "execution_count": 3,
      "outputs": []
    },
    {
      "cell_type": "code",
      "metadata": {
        "id": "e_Xom-mWUS8E",
        "outputId": "6a55f351-609e-494b-d2db-d1bcb44ef6eb",
        "colab": {
          "base_uri": "https://localhost:8080/",
          "height": 202
        }
      },
      "source": [
        "df.sample(5)"
      ],
      "execution_count": 14,
      "outputs": [
        {
          "output_type": "execute_result",
          "data": {
            "text/html": [
              "<div>\n",
              "<style scoped>\n",
              "    .dataframe tbody tr th:only-of-type {\n",
              "        vertical-align: middle;\n",
              "    }\n",
              "\n",
              "    .dataframe tbody tr th {\n",
              "        vertical-align: top;\n",
              "    }\n",
              "\n",
              "    .dataframe thead th {\n",
              "        text-align: right;\n",
              "    }\n",
              "</style>\n",
              "<table border=\"1\" class=\"dataframe\">\n",
              "  <thead>\n",
              "    <tr style=\"text-align: right;\">\n",
              "      <th></th>\n",
              "      <th>fixed.acidity</th>\n",
              "      <th>volatile.acidity</th>\n",
              "      <th>citric.acid</th>\n",
              "      <th>residual.sugar</th>\n",
              "      <th>chlorides</th>\n",
              "      <th>free.sulfur.dioxide</th>\n",
              "      <th>total.sulfur.dioxide</th>\n",
              "      <th>density</th>\n",
              "      <th>pH</th>\n",
              "      <th>sulphates</th>\n",
              "      <th>alcohol</th>\n",
              "      <th>quality</th>\n",
              "      <th>fsd_perc</th>\n",
              "    </tr>\n",
              "  </thead>\n",
              "  <tbody>\n",
              "    <tr>\n",
              "      <th>4713</th>\n",
              "      <td>6.4</td>\n",
              "      <td>0.28</td>\n",
              "      <td>0.28</td>\n",
              "      <td>3.0</td>\n",
              "      <td>0.040</td>\n",
              "      <td>19.0</td>\n",
              "      <td>98.0</td>\n",
              "      <td>0.99216</td>\n",
              "      <td>3.25</td>\n",
              "      <td>0.47</td>\n",
              "      <td>11.1</td>\n",
              "      <td>6</td>\n",
              "      <td>0.194</td>\n",
              "    </tr>\n",
              "    <tr>\n",
              "      <th>1086</th>\n",
              "      <td>5.2</td>\n",
              "      <td>0.24</td>\n",
              "      <td>0.45</td>\n",
              "      <td>3.8</td>\n",
              "      <td>0.027</td>\n",
              "      <td>21.0</td>\n",
              "      <td>128.0</td>\n",
              "      <td>0.99200</td>\n",
              "      <td>3.55</td>\n",
              "      <td>0.49</td>\n",
              "      <td>11.2</td>\n",
              "      <td>8</td>\n",
              "      <td>0.164</td>\n",
              "    </tr>\n",
              "    <tr>\n",
              "      <th>3435</th>\n",
              "      <td>6.5</td>\n",
              "      <td>0.24</td>\n",
              "      <td>0.28</td>\n",
              "      <td>1.1</td>\n",
              "      <td>0.034</td>\n",
              "      <td>26.0</td>\n",
              "      <td>83.0</td>\n",
              "      <td>0.98928</td>\n",
              "      <td>3.25</td>\n",
              "      <td>0.33</td>\n",
              "      <td>12.3</td>\n",
              "      <td>6</td>\n",
              "      <td>0.313</td>\n",
              "    </tr>\n",
              "    <tr>\n",
              "      <th>4261</th>\n",
              "      <td>6.0</td>\n",
              "      <td>0.31</td>\n",
              "      <td>0.27</td>\n",
              "      <td>2.3</td>\n",
              "      <td>0.042</td>\n",
              "      <td>19.0</td>\n",
              "      <td>120.0</td>\n",
              "      <td>0.98952</td>\n",
              "      <td>3.32</td>\n",
              "      <td>0.41</td>\n",
              "      <td>12.7</td>\n",
              "      <td>7</td>\n",
              "      <td>0.158</td>\n",
              "    </tr>\n",
              "    <tr>\n",
              "      <th>3741</th>\n",
              "      <td>7.0</td>\n",
              "      <td>0.15</td>\n",
              "      <td>0.28</td>\n",
              "      <td>14.7</td>\n",
              "      <td>0.051</td>\n",
              "      <td>29.0</td>\n",
              "      <td>149.0</td>\n",
              "      <td>0.99792</td>\n",
              "      <td>2.96</td>\n",
              "      <td>0.39</td>\n",
              "      <td>9.0</td>\n",
              "      <td>7</td>\n",
              "      <td>0.195</td>\n",
              "    </tr>\n",
              "  </tbody>\n",
              "</table>\n",
              "</div>"
            ],
            "text/plain": [
              "      fixed.acidity  volatile.acidity  citric.acid  ...  alcohol  quality  fsd_perc\n",
              "4713            6.4              0.28         0.28  ...     11.1        6     0.194\n",
              "1086            5.2              0.24         0.45  ...     11.2        8     0.164\n",
              "3435            6.5              0.24         0.28  ...     12.3        6     0.313\n",
              "4261            6.0              0.31         0.27  ...     12.7        7     0.158\n",
              "3741            7.0              0.15         0.28  ...      9.0        7     0.195\n",
              "\n",
              "[5 rows x 13 columns]"
            ]
          },
          "metadata": {
            "tags": []
          },
          "execution_count": 14
        }
      ]
    },
    {
      "cell_type": "code",
      "metadata": {
        "id": "M7niXvHLUUc9"
      },
      "source": [
        "df = df.drop('Unnamed: 0', axis = 1)"
      ],
      "execution_count": 6,
      "outputs": []
    },
    {
      "cell_type": "code",
      "metadata": {
        "id": "9jbRQE44WXw1",
        "outputId": "0dae7dc0-fc3b-4227-f2d0-482f792676f7",
        "colab": {
          "base_uri": "https://localhost:8080/"
        }
      },
      "source": [
        "df.dtypes"
      ],
      "execution_count": 15,
      "outputs": [
        {
          "output_type": "execute_result",
          "data": {
            "text/plain": [
              "fixed.acidity           float64\n",
              "volatile.acidity        float64\n",
              "citric.acid             float64\n",
              "residual.sugar          float64\n",
              "chlorides               float64\n",
              "free.sulfur.dioxide     float64\n",
              "total.sulfur.dioxide    float64\n",
              "density                 float64\n",
              "pH                      float64\n",
              "sulphates               float64\n",
              "alcohol                 float64\n",
              "quality                   int64\n",
              "fsd_perc                float64\n",
              "dtype: object"
            ]
          },
          "metadata": {
            "tags": []
          },
          "execution_count": 15
        }
      ]
    },
    {
      "cell_type": "markdown",
      "metadata": {
        "id": "rs7qUhM0UqmD"
      },
      "source": [
        "# Feature Engineering"
      ]
    },
    {
      "cell_type": "code",
      "metadata": {
        "id": "9KkzEH0ZUmUU"
      },
      "source": [
        "# Free Sulfur Dioxide in comparison to Total Sulfur Dioxide\n",
        "df['fsd_perc'] = df['free.sulfur.dioxide'] / df['total.sulfur.dioxide']"
      ],
      "execution_count": 9,
      "outputs": []
    },
    {
      "cell_type": "code",
      "metadata": {
        "id": "Kb1Jn20LVD6h"
      },
      "source": [
        "df['fsd_perc'] = df['fsd_perc'].round(3)"
      ],
      "execution_count": 13,
      "outputs": []
    },
    {
      "cell_type": "markdown",
      "metadata": {
        "id": "b2TS-Yr3XSkp"
      },
      "source": [
        "# Exploration"
      ]
    },
    {
      "cell_type": "code",
      "metadata": {
        "id": "pnxMYwaxXSLR"
      },
      "source": [
        "above_avg_sub = df[df['quality'] >= 5 ]"
      ],
      "execution_count": 37,
      "outputs": []
    },
    {
      "cell_type": "code",
      "metadata": {
        "id": "a_NEW64mXd6A",
        "outputId": "9e784bed-63ee-4a1c-c5ac-43772ced8c7b",
        "colab": {
          "base_uri": "https://localhost:8080/",
          "height": 202
        }
      },
      "source": [
        "above_avg_sub.head()"
      ],
      "execution_count": 38,
      "outputs": [
        {
          "output_type": "execute_result",
          "data": {
            "text/html": [
              "<div>\n",
              "<style scoped>\n",
              "    .dataframe tbody tr th:only-of-type {\n",
              "        vertical-align: middle;\n",
              "    }\n",
              "\n",
              "    .dataframe tbody tr th {\n",
              "        vertical-align: top;\n",
              "    }\n",
              "\n",
              "    .dataframe thead th {\n",
              "        text-align: right;\n",
              "    }\n",
              "</style>\n",
              "<table border=\"1\" class=\"dataframe\">\n",
              "  <thead>\n",
              "    <tr style=\"text-align: right;\">\n",
              "      <th></th>\n",
              "      <th>fixed.acidity</th>\n",
              "      <th>volatile.acidity</th>\n",
              "      <th>citric.acid</th>\n",
              "      <th>residual.sugar</th>\n",
              "      <th>chlorides</th>\n",
              "      <th>free.sulfur.dioxide</th>\n",
              "      <th>total.sulfur.dioxide</th>\n",
              "      <th>density</th>\n",
              "      <th>pH</th>\n",
              "      <th>sulphates</th>\n",
              "      <th>alcohol</th>\n",
              "      <th>quality</th>\n",
              "      <th>fsd_perc</th>\n",
              "    </tr>\n",
              "  </thead>\n",
              "  <tbody>\n",
              "    <tr>\n",
              "      <th>0</th>\n",
              "      <td>7.0</td>\n",
              "      <td>0.27</td>\n",
              "      <td>0.36</td>\n",
              "      <td>20.7</td>\n",
              "      <td>0.045</td>\n",
              "      <td>45.0</td>\n",
              "      <td>170.0</td>\n",
              "      <td>1.0010</td>\n",
              "      <td>3.00</td>\n",
              "      <td>0.45</td>\n",
              "      <td>8.8</td>\n",
              "      <td>6</td>\n",
              "      <td>0.265</td>\n",
              "    </tr>\n",
              "    <tr>\n",
              "      <th>1</th>\n",
              "      <td>6.3</td>\n",
              "      <td>0.30</td>\n",
              "      <td>0.34</td>\n",
              "      <td>1.6</td>\n",
              "      <td>0.049</td>\n",
              "      <td>14.0</td>\n",
              "      <td>132.0</td>\n",
              "      <td>0.9940</td>\n",
              "      <td>3.30</td>\n",
              "      <td>0.49</td>\n",
              "      <td>9.5</td>\n",
              "      <td>6</td>\n",
              "      <td>0.106</td>\n",
              "    </tr>\n",
              "    <tr>\n",
              "      <th>2</th>\n",
              "      <td>8.1</td>\n",
              "      <td>0.28</td>\n",
              "      <td>0.40</td>\n",
              "      <td>6.9</td>\n",
              "      <td>0.050</td>\n",
              "      <td>30.0</td>\n",
              "      <td>97.0</td>\n",
              "      <td>0.9951</td>\n",
              "      <td>3.26</td>\n",
              "      <td>0.44</td>\n",
              "      <td>10.1</td>\n",
              "      <td>6</td>\n",
              "      <td>0.309</td>\n",
              "    </tr>\n",
              "    <tr>\n",
              "      <th>3</th>\n",
              "      <td>7.2</td>\n",
              "      <td>0.23</td>\n",
              "      <td>0.32</td>\n",
              "      <td>8.5</td>\n",
              "      <td>0.058</td>\n",
              "      <td>47.0</td>\n",
              "      <td>186.0</td>\n",
              "      <td>0.9956</td>\n",
              "      <td>3.19</td>\n",
              "      <td>0.40</td>\n",
              "      <td>9.9</td>\n",
              "      <td>6</td>\n",
              "      <td>0.253</td>\n",
              "    </tr>\n",
              "    <tr>\n",
              "      <th>4</th>\n",
              "      <td>7.2</td>\n",
              "      <td>0.23</td>\n",
              "      <td>0.32</td>\n",
              "      <td>8.5</td>\n",
              "      <td>0.058</td>\n",
              "      <td>47.0</td>\n",
              "      <td>186.0</td>\n",
              "      <td>0.9956</td>\n",
              "      <td>3.19</td>\n",
              "      <td>0.40</td>\n",
              "      <td>9.9</td>\n",
              "      <td>6</td>\n",
              "      <td>0.253</td>\n",
              "    </tr>\n",
              "  </tbody>\n",
              "</table>\n",
              "</div>"
            ],
            "text/plain": [
              "   fixed.acidity  volatile.acidity  citric.acid  ...  alcohol  quality  fsd_perc\n",
              "0            7.0              0.27         0.36  ...      8.8        6     0.265\n",
              "1            6.3              0.30         0.34  ...      9.5        6     0.106\n",
              "2            8.1              0.28         0.40  ...     10.1        6     0.309\n",
              "3            7.2              0.23         0.32  ...      9.9        6     0.253\n",
              "4            7.2              0.23         0.32  ...      9.9        6     0.253\n",
              "\n",
              "[5 rows x 13 columns]"
            ]
          },
          "metadata": {
            "tags": []
          },
          "execution_count": 38
        }
      ]
    },
    {
      "cell_type": "code",
      "metadata": {
        "id": "997O0KW-Z8Bg",
        "outputId": "fad70f5b-6f56-41d8-97cb-84e9742dc932",
        "colab": {
          "base_uri": "https://localhost:8080/",
          "height": 294
        }
      },
      "source": [
        "above_avg_sub.describe()"
      ],
      "execution_count": 39,
      "outputs": [
        {
          "output_type": "execute_result",
          "data": {
            "text/html": [
              "<div>\n",
              "<style scoped>\n",
              "    .dataframe tbody tr th:only-of-type {\n",
              "        vertical-align: middle;\n",
              "    }\n",
              "\n",
              "    .dataframe tbody tr th {\n",
              "        vertical-align: top;\n",
              "    }\n",
              "\n",
              "    .dataframe thead th {\n",
              "        text-align: right;\n",
              "    }\n",
              "</style>\n",
              "<table border=\"1\" class=\"dataframe\">\n",
              "  <thead>\n",
              "    <tr style=\"text-align: right;\">\n",
              "      <th></th>\n",
              "      <th>fixed.acidity</th>\n",
              "      <th>volatile.acidity</th>\n",
              "      <th>citric.acid</th>\n",
              "      <th>residual.sugar</th>\n",
              "      <th>chlorides</th>\n",
              "      <th>free.sulfur.dioxide</th>\n",
              "      <th>total.sulfur.dioxide</th>\n",
              "      <th>density</th>\n",
              "      <th>pH</th>\n",
              "      <th>sulphates</th>\n",
              "      <th>alcohol</th>\n",
              "      <th>quality</th>\n",
              "      <th>fsd_perc</th>\n",
              "    </tr>\n",
              "  </thead>\n",
              "  <tbody>\n",
              "    <tr>\n",
              "      <th>count</th>\n",
              "      <td>4715.000000</td>\n",
              "      <td>4715.000000</td>\n",
              "      <td>4715.000000</td>\n",
              "      <td>4715.000000</td>\n",
              "      <td>4715.000000</td>\n",
              "      <td>4715.000000</td>\n",
              "      <td>4715.00000</td>\n",
              "      <td>4715.000000</td>\n",
              "      <td>4715.000000</td>\n",
              "      <td>4715.000000</td>\n",
              "      <td>4715.000000</td>\n",
              "      <td>4715.000000</td>\n",
              "      <td>4715.000000</td>\n",
              "    </tr>\n",
              "    <tr>\n",
              "      <th>mean</th>\n",
              "      <td>6.842131</td>\n",
              "      <td>0.274448</td>\n",
              "      <td>0.335220</td>\n",
              "      <td>6.452365</td>\n",
              "      <td>0.045587</td>\n",
              "      <td>35.644751</td>\n",
              "      <td>138.67614</td>\n",
              "      <td>0.994015</td>\n",
              "      <td>3.188456</td>\n",
              "      <td>0.490386</td>\n",
              "      <td>10.527493</td>\n",
              "      <td>5.955037</td>\n",
              "      <td>0.258168</td>\n",
              "    </tr>\n",
              "    <tr>\n",
              "      <th>std</th>\n",
              "      <td>0.826105</td>\n",
              "      <td>0.095110</td>\n",
              "      <td>0.119301</td>\n",
              "      <td>5.089551</td>\n",
              "      <td>0.021521</td>\n",
              "      <td>16.134741</td>\n",
              "      <td>41.51303</td>\n",
              "      <td>0.003008</td>\n",
              "      <td>0.150290</td>\n",
              "      <td>0.113958</td>\n",
              "      <td>1.236029</td>\n",
              "      <td>0.807326</td>\n",
              "      <td>0.091975</td>\n",
              "    </tr>\n",
              "    <tr>\n",
              "      <th>min</th>\n",
              "      <td>3.800000</td>\n",
              "      <td>0.080000</td>\n",
              "      <td>0.000000</td>\n",
              "      <td>0.600000</td>\n",
              "      <td>0.009000</td>\n",
              "      <td>2.000000</td>\n",
              "      <td>9.00000</td>\n",
              "      <td>0.987110</td>\n",
              "      <td>2.720000</td>\n",
              "      <td>0.220000</td>\n",
              "      <td>8.000000</td>\n",
              "      <td>5.000000</td>\n",
              "      <td>0.024000</td>\n",
              "    </tr>\n",
              "    <tr>\n",
              "      <th>25%</th>\n",
              "      <td>6.300000</td>\n",
              "      <td>0.210000</td>\n",
              "      <td>0.270000</td>\n",
              "      <td>1.700000</td>\n",
              "      <td>0.036000</td>\n",
              "      <td>24.000000</td>\n",
              "      <td>109.00000</td>\n",
              "      <td>0.991700</td>\n",
              "      <td>3.090000</td>\n",
              "      <td>0.410000</td>\n",
              "      <td>9.500000</td>\n",
              "      <td>5.000000</td>\n",
              "      <td>0.194000</td>\n",
              "    </tr>\n",
              "    <tr>\n",
              "      <th>50%</th>\n",
              "      <td>6.800000</td>\n",
              "      <td>0.260000</td>\n",
              "      <td>0.320000</td>\n",
              "      <td>5.300000</td>\n",
              "      <td>0.043000</td>\n",
              "      <td>34.000000</td>\n",
              "      <td>134.00000</td>\n",
              "      <td>0.993700</td>\n",
              "      <td>3.180000</td>\n",
              "      <td>0.480000</td>\n",
              "      <td>10.400000</td>\n",
              "      <td>6.000000</td>\n",
              "      <td>0.256000</td>\n",
              "    </tr>\n",
              "    <tr>\n",
              "      <th>75%</th>\n",
              "      <td>7.300000</td>\n",
              "      <td>0.320000</td>\n",
              "      <td>0.390000</td>\n",
              "      <td>10.000000</td>\n",
              "      <td>0.050000</td>\n",
              "      <td>46.000000</td>\n",
              "      <td>167.00000</td>\n",
              "      <td>0.996100</td>\n",
              "      <td>3.280000</td>\n",
              "      <td>0.550000</td>\n",
              "      <td>11.400000</td>\n",
              "      <td>6.000000</td>\n",
              "      <td>0.317000</td>\n",
              "    </tr>\n",
              "    <tr>\n",
              "      <th>max</th>\n",
              "      <td>14.200000</td>\n",
              "      <td>0.965000</td>\n",
              "      <td>1.660000</td>\n",
              "      <td>65.800000</td>\n",
              "      <td>0.346000</td>\n",
              "      <td>131.000000</td>\n",
              "      <td>344.00000</td>\n",
              "      <td>1.038980</td>\n",
              "      <td>3.820000</td>\n",
              "      <td>1.080000</td>\n",
              "      <td>14.200000</td>\n",
              "      <td>9.000000</td>\n",
              "      <td>0.711000</td>\n",
              "    </tr>\n",
              "  </tbody>\n",
              "</table>\n",
              "</div>"
            ],
            "text/plain": [
              "       fixed.acidity  volatile.acidity  ...      quality     fsd_perc\n",
              "count    4715.000000       4715.000000  ...  4715.000000  4715.000000\n",
              "mean        6.842131          0.274448  ...     5.955037     0.258168\n",
              "std         0.826105          0.095110  ...     0.807326     0.091975\n",
              "min         3.800000          0.080000  ...     5.000000     0.024000\n",
              "25%         6.300000          0.210000  ...     5.000000     0.194000\n",
              "50%         6.800000          0.260000  ...     6.000000     0.256000\n",
              "75%         7.300000          0.320000  ...     6.000000     0.317000\n",
              "max        14.200000          0.965000  ...     9.000000     0.711000\n",
              "\n",
              "[8 rows x 13 columns]"
            ]
          },
          "metadata": {
            "tags": []
          },
          "execution_count": 39
        }
      ]
    },
    {
      "cell_type": "code",
      "metadata": {
        "id": "5gkYJEYBaAYz"
      },
      "source": [
        "below_avg_sub = df[df['quality'] <= 5 ]"
      ],
      "execution_count": 40,
      "outputs": []
    },
    {
      "cell_type": "code",
      "metadata": {
        "id": "_zmqtyfuaHyc",
        "outputId": "e2475b8d-80e2-4976-e252-9032c9baf5f2",
        "colab": {
          "base_uri": "https://localhost:8080/",
          "height": 294
        }
      },
      "source": [
        "below_avg_sub.describe()"
      ],
      "execution_count": 41,
      "outputs": [
        {
          "output_type": "execute_result",
          "data": {
            "text/html": [
              "<div>\n",
              "<style scoped>\n",
              "    .dataframe tbody tr th:only-of-type {\n",
              "        vertical-align: middle;\n",
              "    }\n",
              "\n",
              "    .dataframe tbody tr th {\n",
              "        vertical-align: top;\n",
              "    }\n",
              "\n",
              "    .dataframe thead th {\n",
              "        text-align: right;\n",
              "    }\n",
              "</style>\n",
              "<table border=\"1\" class=\"dataframe\">\n",
              "  <thead>\n",
              "    <tr style=\"text-align: right;\">\n",
              "      <th></th>\n",
              "      <th>fixed.acidity</th>\n",
              "      <th>volatile.acidity</th>\n",
              "      <th>citric.acid</th>\n",
              "      <th>residual.sugar</th>\n",
              "      <th>chlorides</th>\n",
              "      <th>free.sulfur.dioxide</th>\n",
              "      <th>total.sulfur.dioxide</th>\n",
              "      <th>density</th>\n",
              "      <th>pH</th>\n",
              "      <th>sulphates</th>\n",
              "      <th>alcohol</th>\n",
              "      <th>quality</th>\n",
              "      <th>fsd_perc</th>\n",
              "    </tr>\n",
              "  </thead>\n",
              "  <tbody>\n",
              "    <tr>\n",
              "      <th>count</th>\n",
              "      <td>1640.000000</td>\n",
              "      <td>1640.000000</td>\n",
              "      <td>1640.000000</td>\n",
              "      <td>1640.000000</td>\n",
              "      <td>1640.000000</td>\n",
              "      <td>1640.000000</td>\n",
              "      <td>1640.000000</td>\n",
              "      <td>1640.000000</td>\n",
              "      <td>1640.000000</td>\n",
              "      <td>1640.000000</td>\n",
              "      <td>1640.000000</td>\n",
              "      <td>1640.000000</td>\n",
              "      <td>1640.000000</td>\n",
              "    </tr>\n",
              "    <tr>\n",
              "      <th>mean</th>\n",
              "      <td>6.961524</td>\n",
              "      <td>0.310265</td>\n",
              "      <td>0.334311</td>\n",
              "      <td>7.054451</td>\n",
              "      <td>0.051436</td>\n",
              "      <td>35.338720</td>\n",
              "      <td>148.597866</td>\n",
              "      <td>0.995160</td>\n",
              "      <td>3.170457</td>\n",
              "      <td>0.481506</td>\n",
              "      <td>9.849530</td>\n",
              "      <td>4.876220</td>\n",
              "      <td>0.232263</td>\n",
              "    </tr>\n",
              "    <tr>\n",
              "      <th>std</th>\n",
              "      <td>0.884887</td>\n",
              "      <td>0.112548</td>\n",
              "      <td>0.142987</td>\n",
              "      <td>5.283594</td>\n",
              "      <td>0.026743</td>\n",
              "      <td>20.217828</td>\n",
              "      <td>46.914579</td>\n",
              "      <td>0.002556</td>\n",
              "      <td>0.144274</td>\n",
              "      <td>0.100566</td>\n",
              "      <td>0.876269</td>\n",
              "      <td>0.364596</td>\n",
              "      <td>0.095712</td>\n",
              "    </tr>\n",
              "    <tr>\n",
              "      <th>min</th>\n",
              "      <td>4.200000</td>\n",
              "      <td>0.100000</td>\n",
              "      <td>0.000000</td>\n",
              "      <td>0.600000</td>\n",
              "      <td>0.009000</td>\n",
              "      <td>2.000000</td>\n",
              "      <td>9.000000</td>\n",
              "      <td>0.987220</td>\n",
              "      <td>2.790000</td>\n",
              "      <td>0.250000</td>\n",
              "      <td>8.000000</td>\n",
              "      <td>3.000000</td>\n",
              "      <td>0.024000</td>\n",
              "    </tr>\n",
              "    <tr>\n",
              "      <th>25%</th>\n",
              "      <td>6.400000</td>\n",
              "      <td>0.240000</td>\n",
              "      <td>0.240000</td>\n",
              "      <td>1.700000</td>\n",
              "      <td>0.040000</td>\n",
              "      <td>20.000000</td>\n",
              "      <td>117.000000</td>\n",
              "      <td>0.993200</td>\n",
              "      <td>3.080000</td>\n",
              "      <td>0.410000</td>\n",
              "      <td>9.200000</td>\n",
              "      <td>5.000000</td>\n",
              "      <td>0.163750</td>\n",
              "    </tr>\n",
              "    <tr>\n",
              "      <th>50%</th>\n",
              "      <td>6.800000</td>\n",
              "      <td>0.290000</td>\n",
              "      <td>0.320000</td>\n",
              "      <td>6.625000</td>\n",
              "      <td>0.047000</td>\n",
              "      <td>34.000000</td>\n",
              "      <td>149.000000</td>\n",
              "      <td>0.995140</td>\n",
              "      <td>3.160000</td>\n",
              "      <td>0.470000</td>\n",
              "      <td>9.600000</td>\n",
              "      <td>5.000000</td>\n",
              "      <td>0.231000</td>\n",
              "    </tr>\n",
              "    <tr>\n",
              "      <th>75%</th>\n",
              "      <td>7.500000</td>\n",
              "      <td>0.350000</td>\n",
              "      <td>0.410000</td>\n",
              "      <td>11.025000</td>\n",
              "      <td>0.053000</td>\n",
              "      <td>49.000000</td>\n",
              "      <td>182.000000</td>\n",
              "      <td>0.997100</td>\n",
              "      <td>3.240000</td>\n",
              "      <td>0.530000</td>\n",
              "      <td>10.400000</td>\n",
              "      <td>5.000000</td>\n",
              "      <td>0.292000</td>\n",
              "    </tr>\n",
              "    <tr>\n",
              "      <th>max</th>\n",
              "      <td>11.800000</td>\n",
              "      <td>1.100000</td>\n",
              "      <td>1.000000</td>\n",
              "      <td>23.500000</td>\n",
              "      <td>0.346000</td>\n",
              "      <td>289.000000</td>\n",
              "      <td>440.000000</td>\n",
              "      <td>1.002410</td>\n",
              "      <td>3.790000</td>\n",
              "      <td>0.880000</td>\n",
              "      <td>13.600000</td>\n",
              "      <td>5.000000</td>\n",
              "      <td>0.657000</td>\n",
              "    </tr>\n",
              "  </tbody>\n",
              "</table>\n",
              "</div>"
            ],
            "text/plain": [
              "       fixed.acidity  volatile.acidity  ...      quality     fsd_perc\n",
              "count    1640.000000       1640.000000  ...  1640.000000  1640.000000\n",
              "mean        6.961524          0.310265  ...     4.876220     0.232263\n",
              "std         0.884887          0.112548  ...     0.364596     0.095712\n",
              "min         4.200000          0.100000  ...     3.000000     0.024000\n",
              "25%         6.400000          0.240000  ...     5.000000     0.163750\n",
              "50%         6.800000          0.290000  ...     5.000000     0.231000\n",
              "75%         7.500000          0.350000  ...     5.000000     0.292000\n",
              "max        11.800000          1.100000  ...     5.000000     0.657000\n",
              "\n",
              "[8 rows x 13 columns]"
            ]
          },
          "metadata": {
            "tags": []
          },
          "execution_count": 41
        }
      ]
    },
    {
      "cell_type": "markdown",
      "metadata": {
        "id": "cKOOd2Dyaj27"
      },
      "source": [
        "# Fit Model"
      ]
    },
    {
      "cell_type": "code",
      "metadata": {
        "id": "ePoBvmYHamBc"
      },
      "source": [
        "from sklearn.model_selection import train_test_split\n",
        "import category_encoders as ce\n",
        "from sklearn.impute import SimpleImputer\n",
        "from sklearn.ensemble import RandomForestClassifier\n",
        "from sklearn.model_selection import train_test_split\n",
        "from sklearn.pipeline import make_pipeline\n",
        "import eli5\n",
        "from eli5.sklearn import PermutationImportance\n",
        "from sklearn.metrics import accuracy_score"
      ],
      "execution_count": 61,
      "outputs": []
    },
    {
      "cell_type": "code",
      "metadata": {
        "id": "Dv7dMbnRb2wW"
      },
      "source": [
        "train,test = train_test_split(df, train_size = .8, test_size = .2, stratify = df['quality'], random_state = 21)"
      ],
      "execution_count": 45,
      "outputs": []
    },
    {
      "cell_type": "code",
      "metadata": {
        "id": "cP_OKbtfcL3w"
      },
      "source": [
        "train, val = train_test_split(train, train_size = .80, test_size = .20, stratify = train['quality'], random_state = 21)"
      ],
      "execution_count": 47,
      "outputs": []
    },
    {
      "cell_type": "code",
      "metadata": {
        "id": "0wVey9h4ciBM",
        "outputId": "a4ecf05b-90cd-479a-a1fe-146112b071c6",
        "colab": {
          "base_uri": "https://localhost:8080/"
        }
      },
      "source": [
        "print(train.shape)\n",
        "print(val.shape)\n",
        "test.shape"
      ],
      "execution_count": 49,
      "outputs": [
        {
          "output_type": "stream",
          "text": [
            "(3134, 13)\n",
            "(784, 13)\n"
          ],
          "name": "stdout"
        },
        {
          "output_type": "execute_result",
          "data": {
            "text/plain": [
              "(980, 13)"
            ]
          },
          "metadata": {
            "tags": []
          },
          "execution_count": 49
        }
      ]
    },
    {
      "cell_type": "code",
      "metadata": {
        "id": "HNwEQE44cxMH"
      },
      "source": [
        "target = 'quality'\n",
        "X_train = train.drop(columns=target)\n",
        "y_train = train[target]\n",
        "X_val = val.drop(columns=target)\n",
        "y_val = val[target]\n",
        "X_test = test"
      ],
      "execution_count": 50,
      "outputs": []
    },
    {
      "cell_type": "code",
      "metadata": {
        "id": "NPyosTIfckIm",
        "outputId": "069a39b8-8967-43c5-ca4d-151a74018a95",
        "colab": {
          "base_uri": "https://localhost:8080/"
        }
      },
      "source": [
        "tfs = make_pipeline(\n",
        "    ce.OrdinalEncoder(), \n",
        "    SimpleImputer(strategy='median')\n",
        ")\n",
        "\n",
        "X_train_transformed = tfs.fit_transform(X_train)\n",
        "X_val_transformed = tfs.transform(X_val)\n",
        "\n",
        "model = RandomForestClassifier(random_state=42)\n",
        "model.fit(X_train_transformed, y_train)"
      ],
      "execution_count": 51,
      "outputs": [
        {
          "output_type": "execute_result",
          "data": {
            "text/plain": [
              "RandomForestClassifier(bootstrap=True, ccp_alpha=0.0, class_weight=None,\n",
              "                       criterion='gini', max_depth=None, max_features='auto',\n",
              "                       max_leaf_nodes=None, max_samples=None,\n",
              "                       min_impurity_decrease=0.0, min_impurity_split=None,\n",
              "                       min_samples_leaf=1, min_samples_split=2,\n",
              "                       min_weight_fraction_leaf=0.0, n_estimators=100,\n",
              "                       n_jobs=None, oob_score=False, random_state=42, verbose=0,\n",
              "                       warm_start=False)"
            ]
          },
          "metadata": {
            "tags": []
          },
          "execution_count": 51
        }
      ]
    },
    {
      "cell_type": "code",
      "metadata": {
        "id": "ZubK4tLTd8IQ"
      },
      "source": [
        "pipeline = make_pipeline(\n",
        "    ce.OrdinalEncoder(),\n",
        "    SimpleImputer(strategy = 'median'),\n",
        "    RandomForestClassifier()\n",
        ")"
      ],
      "execution_count": 56,
      "outputs": []
    },
    {
      "cell_type": "markdown",
      "metadata": {
        "id": "KMT_icBAgqoP"
      },
      "source": [
        "# Permutation Importances / Model Fit"
      ]
    },
    {
      "cell_type": "code",
      "metadata": {
        "id": "mpdGmcJcckdf",
        "outputId": "eb72ea70-69f0-43f9-a590-1a3487a45d56",
        "colab": {
          "base_uri": "https://localhost:8080/"
        }
      },
      "source": [
        "permuter = PermutationImportance(model, scoring = 'accuracy', n_iter = 5, random_state=42)\n",
        "permuter.fit(X_val_transformed, y_val)"
      ],
      "execution_count": 52,
      "outputs": [
        {
          "output_type": "execute_result",
          "data": {
            "text/plain": [
              "PermutationImportance(cv='prefit',\n",
              "                      estimator=RandomForestClassifier(bootstrap=True,\n",
              "                                                       ccp_alpha=0.0,\n",
              "                                                       class_weight=None,\n",
              "                                                       criterion='gini',\n",
              "                                                       max_depth=None,\n",
              "                                                       max_features='auto',\n",
              "                                                       max_leaf_nodes=None,\n",
              "                                                       max_samples=None,\n",
              "                                                       min_impurity_decrease=0.0,\n",
              "                                                       min_impurity_split=None,\n",
              "                                                       min_samples_leaf=1,\n",
              "                                                       min_samples_split=2,\n",
              "                                                       min_weight_fraction_leaf=0.0,\n",
              "                                                       n_estimators=100,\n",
              "                                                       n_jobs=None,\n",
              "                                                       oob_score=False,\n",
              "                                                       random_state=42,\n",
              "                                                       verbose=0,\n",
              "                                                       warm_start=False),\n",
              "                      n_iter=5, random_state=42, refit=True,\n",
              "                      scoring='accuracy')"
            ]
          },
          "metadata": {
            "tags": []
          },
          "execution_count": 52
        }
      ]
    },
    {
      "cell_type": "code",
      "metadata": {
        "id": "LcPvoSlzdeX5"
      },
      "source": [
        "feature_names = X_val.columns.tolist()"
      ],
      "execution_count": 53,
      "outputs": []
    },
    {
      "cell_type": "code",
      "metadata": {
        "id": "vVu4-F9nckkb",
        "outputId": "2ffd5254-da15-4882-fb25-f28dcf2e85a8",
        "colab": {
          "base_uri": "https://localhost:8080/",
          "height": 242
        }
      },
      "source": [
        "eli5.show_weights(permuter, top = None, feature_names = feature_names)"
      ],
      "execution_count": 55,
      "outputs": [
        {
          "output_type": "execute_result",
          "data": {
            "text/html": [
              "\n",
              "    <style>\n",
              "    table.eli5-weights tr:hover {\n",
              "        filter: brightness(85%);\n",
              "    }\n",
              "</style>\n",
              "\n",
              "\n",
              "\n",
              "    \n",
              "\n",
              "    \n",
              "\n",
              "    \n",
              "\n",
              "    \n",
              "\n",
              "    \n",
              "\n",
              "    \n",
              "\n",
              "\n",
              "    \n",
              "\n",
              "    \n",
              "\n",
              "    \n",
              "\n",
              "    \n",
              "\n",
              "    \n",
              "\n",
              "    \n",
              "\n",
              "\n",
              "    \n",
              "\n",
              "    \n",
              "\n",
              "    \n",
              "\n",
              "    \n",
              "\n",
              "    \n",
              "        <table class=\"eli5-weights eli5-feature-importances\" style=\"border-collapse: collapse; border: none; margin-top: 0em; table-layout: auto;\">\n",
              "    <thead>\n",
              "    <tr style=\"border: none;\">\n",
              "        <th style=\"padding: 0 1em 0 0.5em; text-align: right; border: none;\">Weight</th>\n",
              "        <th style=\"padding: 0 0.5em 0 0.5em; text-align: left; border: none;\">Feature</th>\n",
              "    </tr>\n",
              "    </thead>\n",
              "    <tbody>\n",
              "    \n",
              "        <tr style=\"background-color: hsl(120, 100.00%, 80.00%); border: none;\">\n",
              "            <td style=\"padding: 0 1em 0 0.5em; text-align: right; border: none;\">\n",
              "                0.0936\n",
              "                \n",
              "                    &plusmn; 0.0167\n",
              "                \n",
              "            </td>\n",
              "            <td style=\"padding: 0 0.5em 0 0.5em; text-align: left; border: none;\">\n",
              "                alcohol\n",
              "            </td>\n",
              "        </tr>\n",
              "    \n",
              "        <tr style=\"background-color: hsl(120, 100.00%, 83.49%); border: none;\">\n",
              "            <td style=\"padding: 0 1em 0 0.5em; text-align: right; border: none;\">\n",
              "                0.0712\n",
              "                \n",
              "                    &plusmn; 0.0158\n",
              "                \n",
              "            </td>\n",
              "            <td style=\"padding: 0 0.5em 0 0.5em; text-align: left; border: none;\">\n",
              "                volatile.acidity\n",
              "            </td>\n",
              "        </tr>\n",
              "    \n",
              "        <tr style=\"background-color: hsl(120, 100.00%, 90.85%); border: none;\">\n",
              "            <td style=\"padding: 0 1em 0 0.5em; text-align: right; border: none;\">\n",
              "                0.0306\n",
              "                \n",
              "                    &plusmn; 0.0077\n",
              "                \n",
              "            </td>\n",
              "            <td style=\"padding: 0 0.5em 0 0.5em; text-align: left; border: none;\">\n",
              "                density\n",
              "            </td>\n",
              "        </tr>\n",
              "    \n",
              "        <tr style=\"background-color: hsl(120, 100.00%, 92.12%); border: none;\">\n",
              "            <td style=\"padding: 0 1em 0 0.5em; text-align: right; border: none;\">\n",
              "                0.0247\n",
              "                \n",
              "                    &plusmn; 0.0114\n",
              "                \n",
              "            </td>\n",
              "            <td style=\"padding: 0 0.5em 0 0.5em; text-align: left; border: none;\">\n",
              "                chlorides\n",
              "            </td>\n",
              "        </tr>\n",
              "    \n",
              "        <tr style=\"background-color: hsl(120, 100.00%, 92.93%); border: none;\">\n",
              "            <td style=\"padding: 0 1em 0 0.5em; text-align: right; border: none;\">\n",
              "                0.0212\n",
              "                \n",
              "                    &plusmn; 0.0159\n",
              "                \n",
              "            </td>\n",
              "            <td style=\"padding: 0 0.5em 0 0.5em; text-align: left; border: none;\">\n",
              "                fsd_perc\n",
              "            </td>\n",
              "        </tr>\n",
              "    \n",
              "        <tr style=\"background-color: hsl(120, 100.00%, 93.98%); border: none;\">\n",
              "            <td style=\"padding: 0 1em 0 0.5em; text-align: right; border: none;\">\n",
              "                0.0168\n",
              "                \n",
              "                    &plusmn; 0.0142\n",
              "                \n",
              "            </td>\n",
              "            <td style=\"padding: 0 0.5em 0 0.5em; text-align: left; border: none;\">\n",
              "                residual.sugar\n",
              "            </td>\n",
              "        </tr>\n",
              "    \n",
              "        <tr style=\"background-color: hsl(120, 100.00%, 94.37%); border: none;\">\n",
              "            <td style=\"padding: 0 1em 0 0.5em; text-align: right; border: none;\">\n",
              "                0.0153\n",
              "                \n",
              "                    &plusmn; 0.0105\n",
              "                \n",
              "            </td>\n",
              "            <td style=\"padding: 0 0.5em 0 0.5em; text-align: left; border: none;\">\n",
              "                total.sulfur.dioxide\n",
              "            </td>\n",
              "        </tr>\n",
              "    \n",
              "        <tr style=\"background-color: hsl(120, 100.00%, 95.11%); border: none;\">\n",
              "            <td style=\"padding: 0 1em 0 0.5em; text-align: right; border: none;\">\n",
              "                0.0125\n",
              "                \n",
              "                    &plusmn; 0.0122\n",
              "                \n",
              "            </td>\n",
              "            <td style=\"padding: 0 0.5em 0 0.5em; text-align: left; border: none;\">\n",
              "                free.sulfur.dioxide\n",
              "            </td>\n",
              "        </tr>\n",
              "    \n",
              "        <tr style=\"background-color: hsl(120, 100.00%, 95.69%); border: none;\">\n",
              "            <td style=\"padding: 0 1em 0 0.5em; text-align: right; border: none;\">\n",
              "                0.0105\n",
              "                \n",
              "                    &plusmn; 0.0116\n",
              "                \n",
              "            </td>\n",
              "            <td style=\"padding: 0 0.5em 0 0.5em; text-align: left; border: none;\">\n",
              "                citric.acid\n",
              "            </td>\n",
              "        </tr>\n",
              "    \n",
              "        <tr style=\"background-color: hsl(120, 100.00%, 96.14%); border: none;\">\n",
              "            <td style=\"padding: 0 1em 0 0.5em; text-align: right; border: none;\">\n",
              "                0.0089\n",
              "                \n",
              "                    &plusmn; 0.0239\n",
              "                \n",
              "            </td>\n",
              "            <td style=\"padding: 0 0.5em 0 0.5em; text-align: left; border: none;\">\n",
              "                pH\n",
              "            </td>\n",
              "        </tr>\n",
              "    \n",
              "        <tr style=\"background-color: hsl(120, 100.00%, 97.21%); border: none;\">\n",
              "            <td style=\"padding: 0 1em 0 0.5em; text-align: right; border: none;\">\n",
              "                0.0056\n",
              "                \n",
              "                    &plusmn; 0.0088\n",
              "                \n",
              "            </td>\n",
              "            <td style=\"padding: 0 0.5em 0 0.5em; text-align: left; border: none;\">\n",
              "                sulphates\n",
              "            </td>\n",
              "        </tr>\n",
              "    \n",
              "        <tr style=\"background-color: hsl(120, 100.00%, 98.63%); border: none;\">\n",
              "            <td style=\"padding: 0 1em 0 0.5em; text-align: right; border: none;\">\n",
              "                0.0020\n",
              "                \n",
              "                    &plusmn; 0.0107\n",
              "                \n",
              "            </td>\n",
              "            <td style=\"padding: 0 0.5em 0 0.5em; text-align: left; border: none;\">\n",
              "                fixed.acidity\n",
              "            </td>\n",
              "        </tr>\n",
              "    \n",
              "    \n",
              "    </tbody>\n",
              "</table>\n",
              "    \n",
              "\n",
              "    \n",
              "\n",
              "\n",
              "    \n",
              "\n",
              "    \n",
              "\n",
              "    \n",
              "\n",
              "    \n",
              "\n",
              "    \n",
              "\n",
              "    \n",
              "\n",
              "\n",
              "\n"
            ],
            "text/plain": [
              "<IPython.core.display.HTML object>"
            ]
          },
          "metadata": {
            "tags": []
          },
          "execution_count": 55
        }
      ]
    },
    {
      "cell_type": "code",
      "metadata": {
        "id": "b78PsJDid6WG",
        "outputId": "20d2bc95-6f73-4154-8a2f-791a5aeeea5c",
        "colab": {
          "base_uri": "https://localhost:8080/"
        }
      },
      "source": [
        "pipeline.fit(X_train,y_train)\n",
        "pipeline.score(X_val, y_val)"
      ],
      "execution_count": 58,
      "outputs": [
        {
          "output_type": "stream",
          "text": [
            "/usr/local/lib/python3.6/dist-packages/category_encoders/utils.py:21: FutureWarning: is_categorical is deprecated and will be removed in a future version.  Use is_categorical_dtype instead\n",
            "  elif pd.api.types.is_categorical(cols):\n"
          ],
          "name": "stderr"
        },
        {
          "output_type": "execute_result",
          "data": {
            "text/plain": [
              "0.6492346938775511"
            ]
          },
          "metadata": {
            "tags": []
          },
          "execution_count": 58
        }
      ]
    },
    {
      "cell_type": "code",
      "metadata": {
        "id": "1BFxvKLtd6gH",
        "outputId": "c65337a3-d634-4a25-ae4f-7e0802b6747b",
        "colab": {
          "base_uri": "https://localhost:8080/"
        }
      },
      "source": [
        "from xgboost import XGBClassifier\n",
        "\n",
        "xgb_pipeline = make_pipeline(\n",
        "    ce.OrdinalEncoder(),\n",
        "    XGBClassifier()\n",
        ")\n",
        "\n",
        "xgb_pipeline.fit(X_train, y_train)"
      ],
      "execution_count": 60,
      "outputs": [
        {
          "output_type": "execute_result",
          "data": {
            "text/plain": [
              "Pipeline(memory=None,\n",
              "         steps=[('ordinalencoder',\n",
              "                 OrdinalEncoder(cols=[], drop_invariant=False,\n",
              "                                handle_missing='value', handle_unknown='value',\n",
              "                                mapping=[], return_df=True, verbose=0)),\n",
              "                ('xgbclassifier',\n",
              "                 XGBClassifier(base_score=0.5, booster='gbtree',\n",
              "                               colsample_bylevel=1, colsample_bynode=1,\n",
              "                               colsample_bytree=1, gamma=0, learning_rate=0.1,\n",
              "                               max_delta_step=0, max_depth=3,\n",
              "                               min_child_weight=1, missing=None,\n",
              "                               n_estimators=100, n_jobs=1, nthread=None,\n",
              "                               objective='multi:softprob', random_state=0,\n",
              "                               reg_alpha=0, reg_lambda=1, scale_pos_weight=1,\n",
              "                               seed=None, silent=None, subsample=1,\n",
              "                               verbosity=1))],\n",
              "         verbose=False)"
            ]
          },
          "metadata": {
            "tags": []
          },
          "execution_count": 60
        }
      ]
    },
    {
      "cell_type": "code",
      "metadata": {
        "id": "ZipARcgZe2Yk",
        "outputId": "3a0020b2-c548-4a98-a313-81f3905ef6b4",
        "colab": {
          "base_uri": "https://localhost:8080/"
        }
      },
      "source": [
        "y_pred = pipeline.predict(X_val)\n",
        "accuracy_score(y_val, y_pred)"
      ],
      "execution_count": 63,
      "outputs": [
        {
          "output_type": "execute_result",
          "data": {
            "text/plain": [
              "0.6492346938775511"
            ]
          },
          "metadata": {
            "tags": []
          },
          "execution_count": 63
        }
      ]
    },
    {
      "cell_type": "markdown",
      "metadata": {
        "id": "_no9Loq9faGe"
      },
      "source": [
        "# Parameter Tuning"
      ]
    },
    {
      "cell_type": "code",
      "metadata": {
        "id": "jW0pjYX9fc4f",
        "outputId": "ee66feb6-a9f8-4271-ec14-1d76ff2e60c4",
        "colab": {
          "base_uri": "https://localhost:8080/"
        }
      },
      "source": [
        "encoder = ce.OrdinalEncoder()\n",
        "X_train_encoded = encoder.fit_transform(X_train)\n",
        "X_val_encoded = encoder.transform(X_val)\n",
        "\n",
        "x_model = XGBClassifier(\n",
        "    n_estimators = 1000,\n",
        "    max_depth = 10,\n",
        "    learning_rate = 0.5,\n",
        ")\n",
        "\n",
        "eval_set = [(X_train_encoded, y_train),\n",
        "            (X_val_encoded, y_val)]\n",
        "\n",
        "x_model.fit(X_train_encoded, y_train,\n",
        "            eval_set = eval_set,\n",
        "            eval_metric = 'merror', \n",
        "            early_stopping_rounds = 50)"
      ],
      "execution_count": 64,
      "outputs": [
        {
          "output_type": "stream",
          "text": [
            "[0]\tvalidation_0-merror:0.22559\tvalidation_1-merror:0.432398\n",
            "Multiple eval metrics have been passed: 'validation_1-merror' will be used for early stopping.\n",
            "\n",
            "Will train until validation_1-merror hasn't improved in 50 rounds.\n",
            "[1]\tvalidation_0-merror:0.158583\tvalidation_1-merror:0.422194\n",
            "[2]\tvalidation_0-merror:0.115507\tvalidation_1-merror:0.399235\n",
            "[3]\tvalidation_0-merror:0.093172\tvalidation_1-merror:0.394133\n",
            "[4]\tvalidation_0-merror:0.071793\tvalidation_1-merror:0.380102\n",
            "[5]\tvalidation_0-merror:0.047543\tvalidation_1-merror:0.373724\n",
            "[6]\tvalidation_0-merror:0.0418\tvalidation_1-merror:0.376276\n",
            "[7]\tvalidation_0-merror:0.02776\tvalidation_1-merror:0.371173\n",
            "[8]\tvalidation_0-merror:0.022974\tvalidation_1-merror:0.377551\n",
            "[9]\tvalidation_0-merror:0.019464\tvalidation_1-merror:0.364796\n",
            "[10]\tvalidation_0-merror:0.014997\tvalidation_1-merror:0.367347\n",
            "[11]\tvalidation_0-merror:0.013082\tvalidation_1-merror:0.362245\n",
            "[12]\tvalidation_0-merror:0.006701\tvalidation_1-merror:0.360969\n",
            "[13]\tvalidation_0-merror:0.005105\tvalidation_1-merror:0.36352\n",
            "[14]\tvalidation_0-merror:0.002234\tvalidation_1-merror:0.362245\n",
            "[15]\tvalidation_0-merror:0.001914\tvalidation_1-merror:0.358418\n",
            "[16]\tvalidation_0-merror:0.001276\tvalidation_1-merror:0.358418\n",
            "[17]\tvalidation_0-merror:0.000957\tvalidation_1-merror:0.358418\n",
            "[18]\tvalidation_0-merror:0.000638\tvalidation_1-merror:0.355867\n",
            "[19]\tvalidation_0-merror:0.000638\tvalidation_1-merror:0.360969\n",
            "[20]\tvalidation_0-merror:0.000319\tvalidation_1-merror:0.354592\n",
            "[21]\tvalidation_0-merror:0.000319\tvalidation_1-merror:0.354592\n",
            "[22]\tvalidation_0-merror:0.000319\tvalidation_1-merror:0.355867\n",
            "[23]\tvalidation_0-merror:0\tvalidation_1-merror:0.359694\n",
            "[24]\tvalidation_0-merror:0\tvalidation_1-merror:0.362245\n",
            "[25]\tvalidation_0-merror:0\tvalidation_1-merror:0.364796\n",
            "[26]\tvalidation_0-merror:0\tvalidation_1-merror:0.364796\n",
            "[27]\tvalidation_0-merror:0\tvalidation_1-merror:0.36352\n",
            "[28]\tvalidation_0-merror:0\tvalidation_1-merror:0.360969\n",
            "[29]\tvalidation_0-merror:0\tvalidation_1-merror:0.360969\n",
            "[30]\tvalidation_0-merror:0\tvalidation_1-merror:0.358418\n",
            "[31]\tvalidation_0-merror:0\tvalidation_1-merror:0.355867\n",
            "[32]\tvalidation_0-merror:0\tvalidation_1-merror:0.357143\n",
            "[33]\tvalidation_0-merror:0\tvalidation_1-merror:0.358418\n",
            "[34]\tvalidation_0-merror:0\tvalidation_1-merror:0.355867\n",
            "[35]\tvalidation_0-merror:0\tvalidation_1-merror:0.353316\n",
            "[36]\tvalidation_0-merror:0\tvalidation_1-merror:0.354592\n",
            "[37]\tvalidation_0-merror:0\tvalidation_1-merror:0.354592\n",
            "[38]\tvalidation_0-merror:0\tvalidation_1-merror:0.34949\n",
            "[39]\tvalidation_0-merror:0\tvalidation_1-merror:0.34949\n",
            "[40]\tvalidation_0-merror:0\tvalidation_1-merror:0.353316\n",
            "[41]\tvalidation_0-merror:0\tvalidation_1-merror:0.355867\n",
            "[42]\tvalidation_0-merror:0\tvalidation_1-merror:0.34949\n",
            "[43]\tvalidation_0-merror:0\tvalidation_1-merror:0.34949\n",
            "[44]\tvalidation_0-merror:0\tvalidation_1-merror:0.34949\n",
            "[45]\tvalidation_0-merror:0\tvalidation_1-merror:0.348214\n",
            "[46]\tvalidation_0-merror:0\tvalidation_1-merror:0.346939\n",
            "[47]\tvalidation_0-merror:0\tvalidation_1-merror:0.353316\n",
            "[48]\tvalidation_0-merror:0\tvalidation_1-merror:0.353316\n",
            "[49]\tvalidation_0-merror:0\tvalidation_1-merror:0.34949\n",
            "[50]\tvalidation_0-merror:0\tvalidation_1-merror:0.353316\n",
            "[51]\tvalidation_0-merror:0\tvalidation_1-merror:0.346939\n",
            "[52]\tvalidation_0-merror:0\tvalidation_1-merror:0.352041\n",
            "[53]\tvalidation_0-merror:0\tvalidation_1-merror:0.352041\n",
            "[54]\tvalidation_0-merror:0\tvalidation_1-merror:0.350765\n",
            "[55]\tvalidation_0-merror:0\tvalidation_1-merror:0.350765\n",
            "[56]\tvalidation_0-merror:0\tvalidation_1-merror:0.350765\n",
            "[57]\tvalidation_0-merror:0\tvalidation_1-merror:0.354592\n",
            "[58]\tvalidation_0-merror:0\tvalidation_1-merror:0.353316\n",
            "[59]\tvalidation_0-merror:0\tvalidation_1-merror:0.354592\n",
            "[60]\tvalidation_0-merror:0\tvalidation_1-merror:0.357143\n",
            "[61]\tvalidation_0-merror:0\tvalidation_1-merror:0.355867\n",
            "[62]\tvalidation_0-merror:0\tvalidation_1-merror:0.355867\n",
            "[63]\tvalidation_0-merror:0\tvalidation_1-merror:0.357143\n",
            "[64]\tvalidation_0-merror:0\tvalidation_1-merror:0.358418\n",
            "[65]\tvalidation_0-merror:0\tvalidation_1-merror:0.359694\n",
            "[66]\tvalidation_0-merror:0\tvalidation_1-merror:0.358418\n",
            "[67]\tvalidation_0-merror:0\tvalidation_1-merror:0.355867\n",
            "[68]\tvalidation_0-merror:0\tvalidation_1-merror:0.358418\n",
            "[69]\tvalidation_0-merror:0\tvalidation_1-merror:0.359694\n",
            "[70]\tvalidation_0-merror:0\tvalidation_1-merror:0.359694\n",
            "[71]\tvalidation_0-merror:0\tvalidation_1-merror:0.358418\n",
            "[72]\tvalidation_0-merror:0\tvalidation_1-merror:0.359694\n",
            "[73]\tvalidation_0-merror:0\tvalidation_1-merror:0.36352\n",
            "[74]\tvalidation_0-merror:0\tvalidation_1-merror:0.359694\n",
            "[75]\tvalidation_0-merror:0\tvalidation_1-merror:0.358418\n",
            "[76]\tvalidation_0-merror:0\tvalidation_1-merror:0.362245\n",
            "[77]\tvalidation_0-merror:0\tvalidation_1-merror:0.355867\n",
            "[78]\tvalidation_0-merror:0\tvalidation_1-merror:0.355867\n",
            "[79]\tvalidation_0-merror:0\tvalidation_1-merror:0.359694\n",
            "[80]\tvalidation_0-merror:0\tvalidation_1-merror:0.357143\n",
            "[81]\tvalidation_0-merror:0\tvalidation_1-merror:0.357143\n",
            "[82]\tvalidation_0-merror:0\tvalidation_1-merror:0.358418\n",
            "[83]\tvalidation_0-merror:0\tvalidation_1-merror:0.352041\n",
            "[84]\tvalidation_0-merror:0\tvalidation_1-merror:0.357143\n",
            "[85]\tvalidation_0-merror:0\tvalidation_1-merror:0.355867\n",
            "[86]\tvalidation_0-merror:0\tvalidation_1-merror:0.352041\n",
            "[87]\tvalidation_0-merror:0\tvalidation_1-merror:0.352041\n",
            "[88]\tvalidation_0-merror:0\tvalidation_1-merror:0.352041\n",
            "[89]\tvalidation_0-merror:0\tvalidation_1-merror:0.352041\n",
            "[90]\tvalidation_0-merror:0\tvalidation_1-merror:0.352041\n",
            "[91]\tvalidation_0-merror:0\tvalidation_1-merror:0.350765\n",
            "[92]\tvalidation_0-merror:0\tvalidation_1-merror:0.352041\n",
            "[93]\tvalidation_0-merror:0\tvalidation_1-merror:0.350765\n",
            "[94]\tvalidation_0-merror:0\tvalidation_1-merror:0.352041\n",
            "[95]\tvalidation_0-merror:0\tvalidation_1-merror:0.350765\n",
            "[96]\tvalidation_0-merror:0\tvalidation_1-merror:0.350765\n",
            "Stopping. Best iteration:\n",
            "[46]\tvalidation_0-merror:0\tvalidation_1-merror:0.346939\n",
            "\n"
          ],
          "name": "stdout"
        },
        {
          "output_type": "execute_result",
          "data": {
            "text/plain": [
              "XGBClassifier(base_score=0.5, booster='gbtree', colsample_bylevel=1,\n",
              "              colsample_bynode=1, colsample_bytree=1, gamma=0,\n",
              "              learning_rate=0.5, max_delta_step=0, max_depth=10,\n",
              "              min_child_weight=1, missing=None, n_estimators=1000, n_jobs=1,\n",
              "              nthread=None, objective='multi:softprob', random_state=0,\n",
              "              reg_alpha=0, reg_lambda=1, scale_pos_weight=1, seed=None,\n",
              "              silent=None, subsample=1, verbosity=1)"
            ]
          },
          "metadata": {
            "tags": []
          },
          "execution_count": 64
        }
      ]
    }
  ]
}