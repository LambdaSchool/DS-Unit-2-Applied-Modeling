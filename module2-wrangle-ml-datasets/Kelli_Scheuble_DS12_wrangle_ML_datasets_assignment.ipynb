{
  "nbformat": 4,
  "nbformat_minor": 0,
  "metadata": {
    "jupytext": {
      "cell_metadata_filter": "-all",
      "main_language": "python",
      "notebook_metadata_filter": "-all"
    },
    "kernelspec": {
      "display_name": "Python 3",
      "language": "python",
      "name": "python3"
    },
    "language_info": {
      "codemirror_mode": {
        "name": "ipython",
        "version": 3
      },
      "file_extension": ".py",
      "mimetype": "text/x-python",
      "name": "python",
      "nbconvert_exporter": "python",
      "pygments_lexer": "ipython3",
      "version": "3.7.4"
    },
    "colab": {
      "name": "wrangle_ML_datasets_assignment.ipynb",
      "provenance": [],
      "include_colab_link": true
    }
  },
  "cells": [
    {
      "cell_type": "markdown",
      "metadata": {
        "id": "view-in-github",
        "colab_type": "text"
      },
      "source": [
        "<a href=\"https://colab.research.google.com/github/kellischeuble/DS-Unit-2-Applied-Modeling/blob/master/module2-wrangle-ml-datasets/Kelli_Scheuble_DS12_wrangle_ML_datasets_assignment.ipynb\" target=\"_parent\"><img src=\"https://colab.research.google.com/assets/colab-badge.svg\" alt=\"Open In Colab\"/></a>"
      ]
    },
    {
      "cell_type": "markdown",
      "metadata": {
        "id": "BwKucHoWqNbA",
        "colab_type": "text"
      },
      "source": [
        "Lambda School Data Science\n",
        "\n",
        "*Unit 2, Sprint 3, Module 1*\n",
        "\n",
        "---\n",
        "\n",
        "\n",
        "# Wrangle ML datasets\n",
        "\n",
        "- [ ] Continue to clean and explore your data. \n",
        "- [ ] For the evaluation metric you chose, what score would you get just by guessing?\n",
        "- [ ] Can you make a fast, first model that beats guessing?\n",
        "\n",
        "**We recommend that you use your portfolio project dataset for all assignments this sprint.**\n",
        "\n",
        "**But if you aren't ready yet, or you want more practice, then use the New York City property sales dataset for today's assignment.** Follow the instructions below, to just keep a subset for the Tribeca neighborhood, and remove outliers or dirty data. [Here's a video walkthrough](https://youtu.be/pPWFw8UtBVg?t=584) you can refer to if you get stuck or want hints!\n",
        "\n",
        "- Data Source: [NYC OpenData: NYC Citywide Rolling Calendar Sales](https://data.cityofnewyork.us/dataset/NYC-Citywide-Rolling-Calendar-Sales/usep-8jbt)\n",
        "- Glossary: [NYC Department of Finance: Rolling Sales Data](https://www1.nyc.gov/site/finance/taxes/property-rolling-sales-data.page)"
      ]
    },
    {
      "cell_type": "code",
      "metadata": {
        "id": "y-XMiBZpqNbL",
        "colab_type": "code",
        "colab": {}
      },
      "source": [
        "import pandas as pd\n",
        "import numpy as np\n",
        "from sklearn.model_selection import train_test_split"
      ],
      "execution_count": 0,
      "outputs": []
    },
    {
      "cell_type": "code",
      "metadata": {
        "id": "6m6fcRuYqNbn",
        "colab_type": "code",
        "colab": {}
      },
      "source": [
        "df = pd.read_csv('MACH_data/data.csv', sep='\\t')"
      ],
      "execution_count": 0,
      "outputs": []
    },
    {
      "cell_type": "code",
      "metadata": {
        "id": "A5IWSUNqqNby",
        "colab_type": "code",
        "colab": {},
        "outputId": "237c959a-b7d1-4c1e-bb50-09a203f353bd"
      },
      "source": [
        "df.head()"
      ],
      "execution_count": 0,
      "outputs": [
        {
          "output_type": "execute_result",
          "data": {
            "text/html": [
              "<div>\n",
              "<style scoped>\n",
              "    .dataframe tbody tr th:only-of-type {\n",
              "        vertical-align: middle;\n",
              "    }\n",
              "\n",
              "    .dataframe tbody tr th {\n",
              "        vertical-align: top;\n",
              "    }\n",
              "\n",
              "    .dataframe thead th {\n",
              "        text-align: right;\n",
              "    }\n",
              "</style>\n",
              "<table border=\"1\" class=\"dataframe\">\n",
              "  <thead>\n",
              "    <tr style=\"text-align: right;\">\n",
              "      <th></th>\n",
              "      <th>Q1A</th>\n",
              "      <th>Q1I</th>\n",
              "      <th>Q1E</th>\n",
              "      <th>Q2A</th>\n",
              "      <th>Q2I</th>\n",
              "      <th>Q2E</th>\n",
              "      <th>Q3A</th>\n",
              "      <th>Q3I</th>\n",
              "      <th>Q3E</th>\n",
              "      <th>Q4A</th>\n",
              "      <th>...</th>\n",
              "      <th>screenw</th>\n",
              "      <th>screenh</th>\n",
              "      <th>hand</th>\n",
              "      <th>religion</th>\n",
              "      <th>orientation</th>\n",
              "      <th>race</th>\n",
              "      <th>voted</th>\n",
              "      <th>married</th>\n",
              "      <th>familysize</th>\n",
              "      <th>major</th>\n",
              "    </tr>\n",
              "  </thead>\n",
              "  <tbody>\n",
              "    <tr>\n",
              "      <th>0</th>\n",
              "      <td>3.0</td>\n",
              "      <td>6.0</td>\n",
              "      <td>21017.0</td>\n",
              "      <td>3.0</td>\n",
              "      <td>7.0</td>\n",
              "      <td>18600.0</td>\n",
              "      <td>5.0</td>\n",
              "      <td>20.0</td>\n",
              "      <td>14957.0</td>\n",
              "      <td>2.0</td>\n",
              "      <td>...</td>\n",
              "      <td>1440.0</td>\n",
              "      <td>900.0</td>\n",
              "      <td>1</td>\n",
              "      <td>7</td>\n",
              "      <td>1</td>\n",
              "      <td>30</td>\n",
              "      <td>1</td>\n",
              "      <td>2</td>\n",
              "      <td>5</td>\n",
              "      <td>Marketing</td>\n",
              "    </tr>\n",
              "    <tr>\n",
              "      <th>1</th>\n",
              "      <td>5.0</td>\n",
              "      <td>17.0</td>\n",
              "      <td>3818.0</td>\n",
              "      <td>5.0</td>\n",
              "      <td>9.0</td>\n",
              "      <td>7850.0</td>\n",
              "      <td>1.0</td>\n",
              "      <td>16.0</td>\n",
              "      <td>5902.0</td>\n",
              "      <td>3.0</td>\n",
              "      <td>...</td>\n",
              "      <td>1536.0</td>\n",
              "      <td>864.0</td>\n",
              "      <td>1</td>\n",
              "      <td>1</td>\n",
              "      <td>1</td>\n",
              "      <td>60</td>\n",
              "      <td>2</td>\n",
              "      <td>1</td>\n",
              "      <td>2</td>\n",
              "      <td>mathematics</td>\n",
              "    </tr>\n",
              "    <tr>\n",
              "      <th>2</th>\n",
              "      <td>5.0</td>\n",
              "      <td>16.0</td>\n",
              "      <td>4186.0</td>\n",
              "      <td>5.0</td>\n",
              "      <td>12.0</td>\n",
              "      <td>2900.0</td>\n",
              "      <td>1.0</td>\n",
              "      <td>2.0</td>\n",
              "      <td>7160.0</td>\n",
              "      <td>1.0</td>\n",
              "      <td>...</td>\n",
              "      <td>375.0</td>\n",
              "      <td>667.0</td>\n",
              "      <td>1</td>\n",
              "      <td>2</td>\n",
              "      <td>2</td>\n",
              "      <td>10</td>\n",
              "      <td>2</td>\n",
              "      <td>1</td>\n",
              "      <td>2</td>\n",
              "      <td>Chemistry</td>\n",
              "    </tr>\n",
              "    <tr>\n",
              "      <th>3</th>\n",
              "      <td>2.0</td>\n",
              "      <td>12.0</td>\n",
              "      <td>9373.0</td>\n",
              "      <td>4.0</td>\n",
              "      <td>1.0</td>\n",
              "      <td>10171.0</td>\n",
              "      <td>2.0</td>\n",
              "      <td>7.0</td>\n",
              "      <td>10117.0</td>\n",
              "      <td>1.0</td>\n",
              "      <td>...</td>\n",
              "      <td>1280.0</td>\n",
              "      <td>720.0</td>\n",
              "      <td>1</td>\n",
              "      <td>6</td>\n",
              "      <td>1</td>\n",
              "      <td>60</td>\n",
              "      <td>1</td>\n",
              "      <td>3</td>\n",
              "      <td>2</td>\n",
              "      <td>international relations</td>\n",
              "    </tr>\n",
              "    <tr>\n",
              "      <th>4</th>\n",
              "      <td>5.0</td>\n",
              "      <td>13.0</td>\n",
              "      <td>9465.0</td>\n",
              "      <td>5.0</td>\n",
              "      <td>7.0</td>\n",
              "      <td>5284.0</td>\n",
              "      <td>2.0</td>\n",
              "      <td>19.0</td>\n",
              "      <td>8872.0</td>\n",
              "      <td>1.0</td>\n",
              "      <td>...</td>\n",
              "      <td>360.0</td>\n",
              "      <td>640.0</td>\n",
              "      <td>1</td>\n",
              "      <td>4</td>\n",
              "      <td>3</td>\n",
              "      <td>60</td>\n",
              "      <td>1</td>\n",
              "      <td>1</td>\n",
              "      <td>2</td>\n",
              "      <td>Management</td>\n",
              "    </tr>\n",
              "  </tbody>\n",
              "</table>\n",
              "<p>5 rows × 105 columns</p>\n",
              "</div>"
            ],
            "text/plain": [
              "   Q1A   Q1I      Q1E  Q2A   Q2I      Q2E  Q3A   Q3I      Q3E  Q4A  ...  \\\n",
              "0  3.0   6.0  21017.0  3.0   7.0  18600.0  5.0  20.0  14957.0  2.0  ...   \n",
              "1  5.0  17.0   3818.0  5.0   9.0   7850.0  1.0  16.0   5902.0  3.0  ...   \n",
              "2  5.0  16.0   4186.0  5.0  12.0   2900.0  1.0   2.0   7160.0  1.0  ...   \n",
              "3  2.0  12.0   9373.0  4.0   1.0  10171.0  2.0   7.0  10117.0  1.0  ...   \n",
              "4  5.0  13.0   9465.0  5.0   7.0   5284.0  2.0  19.0   8872.0  1.0  ...   \n",
              "\n",
              "   screenw  screenh  hand  religion  orientation  race  voted  married  \\\n",
              "0   1440.0    900.0     1         7            1    30      1        2   \n",
              "1   1536.0    864.0     1         1            1    60      2        1   \n",
              "2    375.0    667.0     1         2            2    10      2        1   \n",
              "3   1280.0    720.0     1         6            1    60      1        3   \n",
              "4    360.0    640.0     1         4            3    60      1        1   \n",
              "\n",
              "   familysize                    major  \n",
              "0           5               Marketing   \n",
              "1           2              mathematics  \n",
              "2           2                Chemistry  \n",
              "3           2  international relations  \n",
              "4           2               Management  \n",
              "\n",
              "[5 rows x 105 columns]"
            ]
          },
          "metadata": {
            "tags": []
          },
          "execution_count": 105
        }
      ]
    },
    {
      "cell_type": "code",
      "metadata": {
        "id": "1mb7WjDgqNcA",
        "colab_type": "code",
        "colab": {},
        "outputId": "e43a6420-fe25-4a5a-e33a-f1daaa45b08e"
      },
      "source": [
        "df['religion'].value_counts(normalize=True)"
      ],
      "execution_count": 0,
      "outputs": [
        {
          "output_type": "execute_result",
          "data": {
            "text/plain": [
              "2     0.234539\n",
              "1     0.205663\n",
              "4     0.135789\n",
              "7     0.106560\n",
              "12    0.101553\n",
              "6     0.096817\n",
              "10    0.034563\n",
              "8     0.027855\n",
              "3     0.020493\n",
              "0     0.015485\n",
              "9     0.010260\n",
              "5     0.008178\n",
              "11    0.002245\n",
              "Name: religion, dtype: float64"
            ]
          },
          "metadata": {
            "tags": []
          },
          "execution_count": 106
        }
      ]
    },
    {
      "cell_type": "code",
      "metadata": {
        "id": "DjkYpx-bqNcN",
        "colab_type": "code",
        "colab": {}
      },
      "source": [
        "# if I were to simply guess the majority class, I would guess Athiest every\n",
        "# time, and be correct about 23% of the time"
      ],
      "execution_count": 0,
      "outputs": []
    },
    {
      "cell_type": "code",
      "metadata": {
        "id": "P7ZmkZBeqNca",
        "colab_type": "code",
        "colab": {},
        "outputId": "8d5fd572-b120-4a95-a272-c8cb644616a0"
      },
      "source": [
        "df['major'].value_counts(normalize=True)"
      ],
      "execution_count": 0,
      "outputs": [
        {
          "output_type": "execute_result",
          "data": {
            "text/plain": [
              "Psychology                  0.035100\n",
              "Business                    0.028165\n",
              "English                     0.025450\n",
              "psychology                  0.025365\n",
              "Engineering                 0.018854\n",
              "                              ...   \n",
              "Broadcasting                0.000021\n",
              "Philosophy & sociology      0.000021\n",
              "Computer programming        0.000021\n",
              "Computer studies            0.000021\n",
              "Broadcast communication     0.000021\n",
              "Name: major, Length: 8938, dtype: float64"
            ]
          },
          "metadata": {
            "tags": []
          },
          "execution_count": 108
        }
      ]
    },
    {
      "cell_type": "code",
      "metadata": {
        "id": "ZH9BiSArqNch",
        "colab_type": "code",
        "colab": {}
      },
      "source": [
        "# I could also potentially predict major "
      ],
      "execution_count": 0,
      "outputs": []
    },
    {
      "cell_type": "code",
      "metadata": {
        "id": "wwq2vgKQqNcr",
        "colab_type": "code",
        "colab": {}
      },
      "source": [
        "# main body consisted of 20 quesitons\n",
        "questions = {\n",
        "    \"Q1\" : \"Never tell anyone the real reason you did something unless it is useful to do so.\",\n",
        "    \"Q2\" : \"The best way to handle people is to tell them what they want to hear.\",\n",
        "    \"Q3\" : \"One should take action only when sure it is morally right.\",\n",
        "    \"Q4\" : \"Most people are basically good and kind.\",\n",
        "    \"Q5\" : \"It is safest to assume that all people have a vicious streak and it will come out when they are given a chance.\",\n",
        "    \"Q6\" : \"Honesty is the best policy in all cases.\",\n",
        "    \"Q7\" : \"There is no excuse for lying to someone else.\",\n",
        "    \"Q8\" : \"Generally speaking, people won't work hard unless they're forced to do so.\",\n",
        "    \"Q9\" : \"All in all, it is better to be humble and honest than to be important and dishonest.\",\n",
        "    \"Q10\" : \"When you ask someone to do something for you, it is best to give the real reasons for wanting it rather than giving reasons which carry more weight.\",\n",
        "    \"Q11\" : \"Most people who get ahead in the world lead clean, moral lives.\",\n",
        "    \"Q12\" : \"Anyone who completely trusts anyone else is asking for trouble.\",\n",
        "    \"Q13\" : \"The biggest difference between most criminals and other people is that the criminals are stupid enough to get caught.\",\n",
        "    \"Q14\" : \"Most people are brave.\",\n",
        "    \"Q15\" : \"It is wise to flatter important people.\",\n",
        "    \"Q16\" : \"It is possible to be good in all respects.\",\n",
        "    \"Q17\" : \"P.T. Barnum was wrong when he said that there's a sucker born every minute.\",\n",
        "    \"Q18\" : \"It is hard to get ahead without cutting corners here and there.\",\n",
        "    \"Q19\" : \"People suffering from incurable diseases should have the choice of being put painlessly to death.\",\n",
        "    \"Q20\" : \"Most people forget more easily the death of their parents than the loss of their property.\"\n",
        "    }\n",
        "\n",
        "# possible answers were represented on a 5 point scale\n",
        "Q_scale = {\n",
        "    1:'Disagree', \n",
        "    2:'Slightly disagree', \n",
        "    3:'Neutral', \n",
        "    4:'Slightly agree', \n",
        "    5:'Agree'\n",
        "}\n",
        "\n",
        "# A = answer\n",
        "# I = position of item it was in the survey\n",
        "# E = time spent on question in milliseconds\n",
        "\n",
        "\n",
        "# this data only consists of people who choose to answer\n",
        "# these next questions...\n",
        "# brief measure of big five personality domains\n",
        "\n",
        "personality_inventory = {\n",
        "    'TIPI1': 'extraverted_enthusiastic', \n",
        "    'TIPI2': 'critical_quarrelsome', \n",
        "    'TIPI3': 'dependable_selfdisciplined', \n",
        "    'TIPI4': 'anxious_easily_upset', \n",
        "    'TIPI5':'open_to_new_experiences_complex', \n",
        "    'TIPI6': 'reserved_quiet', \n",
        "    'TIPI7': 'sympathetic_warm', \n",
        "    'TIPI8':'disorganized_careless', \n",
        "    'TIPI9':'calm_emotionally_stable',\n",
        "    'TIP10': 'conventional_uncreative'\n",
        "}\n",
        "\n",
        "# rated \"I see myself as:\" _______ such that\n",
        "TIP_rating_scale = {\n",
        "    1:'Disagree strongly',\n",
        "    2: 'Disagree moderately',\n",
        "    3: 'Disagree a little',\n",
        "    4:'Neither agree nor disagree',\n",
        "    5:'Agree a little',\n",
        "    6:'Agree moderately',\n",
        "    7:'Agree strongly'\n",
        "}\n",
        "\n",
        "\n",
        "# these words were presentted as a check-list and subjects were instructed\n",
        "# to check all of thte words whose definitions they are sure they know:\n",
        "# 1 = checked\n",
        "# 0 = unchecked\n",
        "# words at VCL6, VCL9, and VCL12 are not real words\n",
        "\n",
        "known_words= {\n",
        "    'VCL1':'boat',\n",
        "    'VCL2':'incoherent',\n",
        "    'VCL3':'pallid',\n",
        "    'VCL4':'robot',\n",
        "    'VCL5':'audible',\n",
        "    'VCL6':'cuivocal_fale',\n",
        "    'VCL7':'paucity',\n",
        "    'VCL8':'epistemology',\n",
        "    'VCL9':'florted_fake',\n",
        "    'VCL10':'decide',\n",
        "    'VCL11':'pastiche',\n",
        "    'VCL12':'verdid_fake',\n",
        "    'VCL13':'abysmal',\n",
        "    'VCL14':'lucid',\n",
        "    'VCL15':'betray',\n",
        "    'VCL16':'funny'\n",
        "}\n",
        "\n",
        "# more questions that were asked...\n",
        "\n",
        "education_level = {\n",
        "    1:'Less than high school', \n",
        "    2:'High school', \n",
        "    3:'University degree', \n",
        "    4:'Graduate degree'\n",
        "}\n",
        "\n",
        "area_lived_when_child = {\n",
        "    1:'Rural (country side)', \n",
        "    2:'Suburban', \n",
        "    3:'Urban (town, city)'\n",
        "}\n",
        "\n",
        "gender = {\n",
        "    0:'Unchecked',\n",
        "    1:'Male',\n",
        "    2:'Female',\n",
        "    3:'Other'\n",
        "}\n",
        "\n",
        "english_native_language = {\n",
        "    1:'Yes',\n",
        "    2:'No'\n",
        "}\n",
        "\n",
        "dominant_hand = {\n",
        "    1:'Right',\n",
        "    2:'Left',\n",
        "    0:'Both'\n",
        "}\n",
        "\n",
        "religion = {\n",
        "    0:'Unchecked',\n",
        "    1:'Agnostic',\n",
        "    2:'Atheist',\n",
        "    3:'Buddhist',\n",
        "    4:'Christian (Catholic)',\n",
        "    5:'Christian (Mormon)',\n",
        "    6:'Christian (Protestant)',\n",
        "    7:'Christian (Other)',\n",
        "    8:'Hindu',\n",
        "    9:'Jewish',\n",
        "    10:'Muslim',\n",
        "    11:'Sikh',\n",
        "    12:'Other'\n",
        "}\n",
        "\n",
        "sexual_orientation = {\n",
        "    1:'Heterosexual',\n",
        "    2:'Bisexual', \n",
        "    3:'Homosexual', \n",
        "    4:'Asexual', \n",
        "    5:'Other'\n",
        "}\n",
        "\n",
        "race = {\n",
        "    10:'Asian',\n",
        "    20:'Arab', \n",
        "    30:'Black',\n",
        "    40:'Indigenous Australian',\n",
        "    50:'Native American', \n",
        "    60:'White',\n",
        "    70:'Other'\n",
        "}\n",
        "\n",
        "voted_past_year = {\n",
        "    1:'yes',\n",
        "    2:'no'\n",
        "}\n",
        "\n",
        "marital_status = {\n",
        "    1:'Never married', \n",
        "    2:'Currently married', \n",
        "    3:'Previously married'\n",
        "}\n",
        "\n",
        "# country, screenw, screenh were calculated by server. \n",
        "# we don't care about that. (maybe country)\n",
        "\n",
        "# time spent on each page was recorded in seconds\n",
        "# introelapse\n",
        "# testelapse\n",
        "# surveyelapse"
      ],
      "execution_count": 0,
      "outputs": []
    },
    {
      "cell_type": "code",
      "metadata": {
        "id": "d_4gaAbLqNc0",
        "colab_type": "code",
        "colab": {},
        "outputId": "aa0bc5da-b264-4d95-82af-f1d4a4b86050"
      },
      "source": [
        "pd.options.display.max_rows = 999\n",
        "df.isnull().sum()\n",
        "\n",
        "\n",
        "df[df['Q1A'].isnull()]"
      ],
      "execution_count": 0,
      "outputs": [
        {
          "output_type": "execute_result",
          "data": {
            "text/html": [
              "<div>\n",
              "<style scoped>\n",
              "    .dataframe tbody tr th:only-of-type {\n",
              "        vertical-align: middle;\n",
              "    }\n",
              "\n",
              "    .dataframe tbody tr th {\n",
              "        vertical-align: top;\n",
              "    }\n",
              "\n",
              "    .dataframe thead th {\n",
              "        text-align: right;\n",
              "    }\n",
              "</style>\n",
              "<table border=\"1\" class=\"dataframe\">\n",
              "  <thead>\n",
              "    <tr style=\"text-align: right;\">\n",
              "      <th></th>\n",
              "      <th>Q1A</th>\n",
              "      <th>Q1I</th>\n",
              "      <th>Q1E</th>\n",
              "      <th>Q2A</th>\n",
              "      <th>Q2I</th>\n",
              "      <th>Q2E</th>\n",
              "      <th>Q3A</th>\n",
              "      <th>Q3I</th>\n",
              "      <th>Q3E</th>\n",
              "      <th>Q4A</th>\n",
              "      <th>...</th>\n",
              "      <th>screenw</th>\n",
              "      <th>screenh</th>\n",
              "      <th>hand</th>\n",
              "      <th>religion</th>\n",
              "      <th>orientation</th>\n",
              "      <th>race</th>\n",
              "      <th>voted</th>\n",
              "      <th>married</th>\n",
              "      <th>familysize</th>\n",
              "      <th>major</th>\n",
              "    </tr>\n",
              "  </thead>\n",
              "  <tbody>\n",
              "    <tr>\n",
              "      <th>26286</th>\n",
              "      <td>NaN</td>\n",
              "      <td>NaN</td>\n",
              "      <td>NaN</td>\n",
              "      <td>NaN</td>\n",
              "      <td>NaN</td>\n",
              "      <td>NaN</td>\n",
              "      <td>NaN</td>\n",
              "      <td>NaN</td>\n",
              "      <td>NaN</td>\n",
              "      <td>NaN</td>\n",
              "      <td>...</td>\n",
              "      <td>360.0</td>\n",
              "      <td>640.0</td>\n",
              "      <td>1</td>\n",
              "      <td>2</td>\n",
              "      <td>1</td>\n",
              "      <td>20</td>\n",
              "      <td>2</td>\n",
              "      <td>1</td>\n",
              "      <td>2</td>\n",
              "      <td>NaN</td>\n",
              "    </tr>\n",
              "    <tr>\n",
              "      <th>31072</th>\n",
              "      <td>NaN</td>\n",
              "      <td>NaN</td>\n",
              "      <td>NaN</td>\n",
              "      <td>NaN</td>\n",
              "      <td>NaN</td>\n",
              "      <td>NaN</td>\n",
              "      <td>NaN</td>\n",
              "      <td>NaN</td>\n",
              "      <td>NaN</td>\n",
              "      <td>NaN</td>\n",
              "      <td>...</td>\n",
              "      <td>1440.0</td>\n",
              "      <td>900.0</td>\n",
              "      <td>1</td>\n",
              "      <td>6</td>\n",
              "      <td>1</td>\n",
              "      <td>30</td>\n",
              "      <td>1</td>\n",
              "      <td>2</td>\n",
              "      <td>3</td>\n",
              "      <td>math/science</td>\n",
              "    </tr>\n",
              "    <tr>\n",
              "      <th>33399</th>\n",
              "      <td>NaN</td>\n",
              "      <td>NaN</td>\n",
              "      <td>NaN</td>\n",
              "      <td>NaN</td>\n",
              "      <td>NaN</td>\n",
              "      <td>NaN</td>\n",
              "      <td>NaN</td>\n",
              "      <td>NaN</td>\n",
              "      <td>NaN</td>\n",
              "      <td>NaN</td>\n",
              "      <td>...</td>\n",
              "      <td>1366.0</td>\n",
              "      <td>768.0</td>\n",
              "      <td>1</td>\n",
              "      <td>4</td>\n",
              "      <td>1</td>\n",
              "      <td>60</td>\n",
              "      <td>2</td>\n",
              "      <td>2</td>\n",
              "      <td>5</td>\n",
              "      <td>Electronic Engineering</td>\n",
              "    </tr>\n",
              "  </tbody>\n",
              "</table>\n",
              "<p>3 rows × 105 columns</p>\n",
              "</div>"
            ],
            "text/plain": [
              "       Q1A  Q1I  Q1E  Q2A  Q2I  Q2E  Q3A  Q3I  Q3E  Q4A  ...  screenw  \\\n",
              "26286  NaN  NaN  NaN  NaN  NaN  NaN  NaN  NaN  NaN  NaN  ...    360.0   \n",
              "31072  NaN  NaN  NaN  NaN  NaN  NaN  NaN  NaN  NaN  NaN  ...   1440.0   \n",
              "33399  NaN  NaN  NaN  NaN  NaN  NaN  NaN  NaN  NaN  NaN  ...   1366.0   \n",
              "\n",
              "       screenh  hand  religion  orientation  race  voted  married  familysize  \\\n",
              "26286    640.0     1         2            1    20      2        1           2   \n",
              "31072    900.0     1         6            1    30      1        2           3   \n",
              "33399    768.0     1         4            1    60      2        2           5   \n",
              "\n",
              "                        major  \n",
              "26286                     NaN  \n",
              "31072            math/science  \n",
              "33399  Electronic Engineering  \n",
              "\n",
              "[3 rows x 105 columns]"
            ]
          },
          "metadata": {
            "tags": []
          },
          "execution_count": 111
        }
      ]
    },
    {
      "cell_type": "code",
      "metadata": {
        "id": "8IiQKzNUqNc_",
        "colab_type": "code",
        "colab": {}
      },
      "source": [
        "train1, test = train_test_split(df, test_size= .2, random_state=42, stratify=df['religion'])"
      ],
      "execution_count": 0,
      "outputs": []
    },
    {
      "cell_type": "code",
      "metadata": {
        "id": "198b4n4wqNdK",
        "colab_type": "code",
        "colab": {},
        "outputId": "4da9e533-ff9a-4e6e-fee9-e59cce66fac8"
      },
      "source": [
        "train1.shape, test.shape"
      ],
      "execution_count": 0,
      "outputs": [
        {
          "output_type": "execute_result",
          "data": {
            "text/plain": [
              "((58791, 105), (14698, 105))"
            ]
          },
          "metadata": {
            "tags": []
          },
          "execution_count": 113
        }
      ]
    },
    {
      "cell_type": "code",
      "metadata": {
        "id": "tA1hFhjqqNdT",
        "colab_type": "code",
        "colab": {}
      },
      "source": [
        "def wrangle(X):\n",
        "    \n",
        "    wrangled = X.copy()\n",
        "    \n",
        "    # looks like all of the NaNs are together....\n",
        "    #drop these rows \n",
        "    wrangled = wrangled.dropna(thresh=45)\n",
        "    \n",
        "    # drop user's screen width bc I couldn't care less\n",
        "    wrangled = wrangled.drop(columns=['screenw', 'screenh'])\n",
        "    \n",
        "    # get rid of columns with the 'position' of the question\n",
        "    positions = []\n",
        "    for x in range(1,21):\n",
        "        positions.append(f'Q{x}I')\n",
        "    wrangled = wrangled.drop(columns=positions)\n",
        "    \n",
        "    # replace 'NONE' in country with NaN... not sure why\n",
        "    wrangled['country'] = wrangled['country'].replace(np.NaN,'NONE')\n",
        "    # I have a feeling something is different here... so I might want to take \n",
        "    # a look at the answers that have a country of null vs NaN\n",
        "    \n",
        "    # make all majors have same casing\n",
        "    wrangled['major'] = wrangled['major'].str.lower()\n",
        "    wrangled['major'] = wrangled['major'].replace('none', 'NONE')\n",
        "    wrangled['major'] = wrangled['major'].replace(np.NaN, 'NONE')\n",
        "    \n",
        "    wrangled = wrangled.dropna(subset=['introelapse'])\n",
        "    \n",
        "    return wrangled\n",
        "\n",
        "train1 = wrangle(train1)\n",
        "test = wrangle(test)"
      ],
      "execution_count": 0,
      "outputs": []
    },
    {
      "cell_type": "code",
      "metadata": {
        "id": "OJzRHBYyqNdc",
        "colab_type": "code",
        "colab": {},
        "outputId": "2d34a4a1-5d57-4cae-a4e6-a8cfe2c59648"
      },
      "source": [
        "import seaborn as sns\n",
        "import matplotlib as plt\n",
        "\n",
        "\n",
        "sns.set(style=\"darkgrid\")\n",
        "\n",
        "# Plot the responses for different events and regions\n",
        "sns.lineplot(x='religion', y='Q1A',\n",
        "            hue=\"gender\",\n",
        "            data=train1);\n",
        "\n",
        "# it's intereseting that there's a huge error bar for \n",
        "# unchecked and other, but not so much for male and female"
      ],
      "execution_count": 0,
      "outputs": [
        {
          "output_type": "display_data",
          "data": {
            "image/png": "[encoded data removed]",
            "text/plain": [
              "<Figure size 432x288 with 1 Axes>"
            ]
          },
          "metadata": {
            "tags": []
          }
        }
      ]
    },
    {
      "cell_type": "code",
      "metadata": {
        "id": "eCWOLFGCqNdi",
        "colab_type": "code",
        "colab": {},
        "outputId": "9e69629f-1995-429f-d020-0281ece41291"
      },
      "source": [
        "# print out info for this\n",
        "print('Question:', questions['Q1'])\n",
        "print()\n",
        "print(religion)\n",
        "print()\n",
        "print(gender)"
      ],
      "execution_count": 0,
      "outputs": [
        {
          "output_type": "stream",
          "text": [
            "Question: Never tell anyone the real reason you did something unless it is useful to do so.\n",
            "\n",
            "{0: 'Unchecked', 1: 'Agnostic', 2: 'Atheist', 3: 'Buddhist', 4: 'Christian (Catholic)', 5: 'Christian (Mormon)', 6: 'Christian (Protestant)', 7: 'Christian (Other)', 8: 'Hindu', 9: 'Jewish', 10: 'Muslim', 11: 'Sikh', 12: 'Other'}\n",
            "\n",
            "{0: 'Unchecked', 1: 'Male', 2: 'Female', 3: 'Other'}\n"
          ],
          "name": "stdout"
        }
      ]
    },
    {
      "cell_type": "code",
      "metadata": {
        "id": "IyhIbUTVqNdq",
        "colab_type": "code",
        "colab": {},
        "outputId": "82bb3420-f536-495c-9c40-d12b72eb14b0"
      },
      "source": [
        "# Plot the responses for different events and regions\n",
        "sns.lineplot(x='religion', y='Q2A',\n",
        "            hue=\"gender\",\n",
        "            data=train1);\n"
      ],
      "execution_count": 0,
      "outputs": [
        {
          "output_type": "display_data",
          "data": {
            "image/png": "[encoded data removed]",
            "text/plain": [
              "<Figure size 432x288 with 1 Axes>"
            ]
          },
          "metadata": {
            "tags": []
          }
        }
      ]
    },
    {
      "cell_type": "code",
      "metadata": {
        "id": "3Mn8sLoEqNdy",
        "colab_type": "code",
        "colab": {},
        "outputId": "73a49814-b4f3-411f-f39e-5cb530af70d5"
      },
      "source": [
        "religion[1]"
      ],
      "execution_count": 0,
      "outputs": [
        {
          "output_type": "execute_result",
          "data": {
            "text/plain": [
              "'Agnostic'"
            ]
          },
          "metadata": {
            "tags": []
          },
          "execution_count": 142
        }
      ]
    },
    {
      "cell_type": "code",
      "metadata": {
        "id": "qOfs0jOmqNd3",
        "colab_type": "code",
        "colab": {}
      },
      "source": [
        "male_female = train1[(train1.gender == 1) | (train1.gender ==2)]\n",
        "male_female['religion'] = male_female.religion.astype(str)"
      ],
      "execution_count": 0,
      "outputs": []
    },
    {
      "cell_type": "code",
      "metadata": {
        "id": "DfswphbZqNeB",
        "colab_type": "code",
        "colab": {},
        "outputId": "7f65e0d2-4b4e-4b42-854a-075294703ffc"
      },
      "source": [
        "# i want to see if on average males and females in the \n",
        "# same religion have similar\n",
        "# behaviors for all of the questions\n",
        "for x in range(1,5):\n",
        "    sns.lineplot(x=\"religion\", y=f'Q{x}A',\n",
        "            hue=\"gender\",\n",
        "            data=male_female)"
      ],
      "execution_count": 0,
      "outputs": [
        {
          "output_type": "display_data",
          "data": {
            "image/png": "[encoded data removed]",
            "text/plain": [
              "<Figure size 432x288 with 1 Axes>"
            ]
          },
          "metadata": {
            "tags": []
          }
        }
      ]
    },
    {
      "cell_type": "code",
      "metadata": {
        "id": "fEfaUQV9qNeI",
        "colab_type": "code",
        "colab": {}
      },
      "source": [
        "# fast first model"
      ],
      "execution_count": 0,
      "outputs": []
    },
    {
      "cell_type": "code",
      "metadata": {
        "id": "ewSQrxUXqNeP",
        "colab_type": "code",
        "colab": {}
      },
      "source": [
        "train, val = train_test_split(train1, test_size=.20, stratify=train1['religion'], random_state=42)"
      ],
      "execution_count": 0,
      "outputs": []
    },
    {
      "cell_type": "code",
      "metadata": {
        "id": "2GBbJ4ttqNeW",
        "colab_type": "code",
        "colab": {},
        "outputId": "4bd186b0-9714-4fd8-a46c-86151ec5187d"
      },
      "source": [
        "train.isnull().sum().any()"
      ],
      "execution_count": 0,
      "outputs": [
        {
          "output_type": "execute_result",
          "data": {
            "text/plain": [
              "False"
            ]
          },
          "metadata": {
            "tags": []
          },
          "execution_count": 182
        }
      ]
    },
    {
      "cell_type": "code",
      "metadata": {
        "id": "TgsMNtX-qNee",
        "colab_type": "code",
        "colab": {},
        "outputId": "936928ee-15dd-4253-8676-0b22a21e9180"
      },
      "source": [
        "train.shape, val.shape, test.shape"
      ],
      "execution_count": 0,
      "outputs": [
        {
          "output_type": "execute_result",
          "data": {
            "text/plain": [
              "((47028, 83), (11758, 83), (14697, 83))"
            ]
          },
          "metadata": {
            "tags": []
          },
          "execution_count": 183
        }
      ]
    },
    {
      "cell_type": "code",
      "metadata": {
        "id": "YZccgH85qNek",
        "colab_type": "code",
        "colab": {}
      },
      "source": [
        "# I want to use all features, then select feature importance\n",
        "\n",
        "# define target\n",
        "\n",
        "target = 'religion'\n",
        "train_features = train.drop(columns=[target])\n",
        "features = train_features.columns.tolist()"
      ],
      "execution_count": 0,
      "outputs": []
    },
    {
      "cell_type": "code",
      "metadata": {
        "id": "LFGNTk3eqNep",
        "colab_type": "code",
        "colab": {}
      },
      "source": [
        "# arrange data into X features matrix and y target vector\n",
        "\n",
        "# training data\n",
        "X_train = train[features]\n",
        "y_train = train[target]\n",
        "\n",
        "# validation data\n",
        "X_val = val[features]\n",
        "y_val = val[target]\n",
        "\n",
        "# testing data\n",
        "X_test = test[features]"
      ],
      "execution_count": 0,
      "outputs": []
    },
    {
      "cell_type": "code",
      "metadata": {
        "id": "8EtYdwn9qNev",
        "colab_type": "code",
        "colab": {},
        "outputId": "04feeb4f-cc4f-4235-f9df-156bee49d77b"
      },
      "source": [
        "from sklearn.ensemble import RandomForestClassifier\n",
        "from sklearn.pipeline import make_pipeline\n",
        "import category_encoders as ce\n",
        "from sklearn.impute import SimpleImputer\n",
        "\n",
        "\n",
        "pipeline = make_pipeline(\n",
        "    ce.OrdinalEncoder(),\n",
        "    SimpleImputer(strategy='mean'),\n",
        "    RandomForestClassifier(n_estimators=100, random_state=42, n_jobs=-1, max_depth=10)\n",
        "    \n",
        ")\n",
        "\n",
        "pipeline.fit(X_train, y_train)\n",
        "print('Train Accuracy', pipeline.score(X_train, y_train))\n",
        "print('Validation Accuracy', pipeline.score(X_val, y_val))"
      ],
      "execution_count": 0,
      "outputs": [
        {
          "output_type": "stream",
          "text": [
            "Train Accuracy 0.48951688355873096\n",
            "Validation Accuracy 0.32114305153937744\n"
          ],
          "name": "stdout"
        }
      ]
    },
    {
      "cell_type": "code",
      "metadata": {
        "id": "ZV8JrLECqNe0",
        "colab_type": "code",
        "colab": {}
      },
      "source": [
        "# so teeeechhhhnically we're beating the baseline"
      ],
      "execution_count": 0,
      "outputs": []
    },
    {
      "cell_type": "code",
      "metadata": {
        "id": "yzCzVX08qNe5",
        "colab_type": "code",
        "colab": {}
      },
      "source": [
        "%%capture\n",
        "import sys\n",
        "\n",
        "# If you're on Colab:\n",
        "if 'google.colab' in sys.modules:\n",
        "    DATA_PATH = 'https://raw.githubusercontent.com/LambdaSchool/DS-Unit-2-Applied-Modeling/master/data/'\n",
        "    !pip install category_encoders==2.*\n",
        "    !pip install pandas-profiling==2.*\n",
        "\n",
        "# If you're working locally:\n",
        "else:\n",
        "    DATA_PATH = '../data/'"
      ],
      "execution_count": 0,
      "outputs": []
    },
    {
      "cell_type": "code",
      "metadata": {
        "id": "ZTlU9vFTqNe-",
        "colab_type": "code",
        "colab": {}
      },
      "source": [
        "# Read New York City property sales data\n",
        "import pandas as pd\n",
        "df = pd.read_csv(DATA_PATH+'condos/NYC_Citywide_Rolling_Calendar_Sales.csv')"
      ],
      "execution_count": 0,
      "outputs": []
    },
    {
      "cell_type": "markdown",
      "metadata": {
        "id": "Cf0OfLdCqNfC",
        "colab_type": "text"
      },
      "source": [
        "Your code starts here:"
      ]
    },
    {
      "cell_type": "code",
      "metadata": {
        "id": "SJaT22lcqNfE",
        "colab_type": "code",
        "colab": {}
      },
      "source": [
        "# Change column names: replace spaces with underscores\n",
        "df.head()"
      ],
      "execution_count": 0,
      "outputs": []
    },
    {
      "cell_type": "code",
      "metadata": {
        "id": "9X2GGSGJqNfI",
        "colab_type": "code",
        "colab": {}
      },
      "source": [
        "df.columns = df.columns.str.lower().str.replace(' ', '_')"
      ],
      "execution_count": 0,
      "outputs": []
    },
    {
      "cell_type": "code",
      "metadata": {
        "id": "M_NS-zVbqNfN",
        "colab_type": "code",
        "colab": {}
      },
      "source": [
        "df"
      ],
      "execution_count": 0,
      "outputs": []
    },
    {
      "cell_type": "code",
      "metadata": {
        "id": "PQXtphGhqNfR",
        "colab_type": "code",
        "colab": {}
      },
      "source": [
        "df.neighborhood.value_counts()"
      ],
      "execution_count": 0,
      "outputs": []
    },
    {
      "cell_type": "code",
      "metadata": {
        "id": "t3xqCPsHqNfV",
        "colab_type": "code",
        "colab": {},
        "outputId": "5366ffc5-04f6-480b-c5c5-0a390abc86ec"
      },
      "source": [
        "# Keep just the subset of data for the Tribeca neighborhood\n",
        "# Check how many rows you have now. (Should go down from > 20k rows to 146)\n",
        "tribeca = df[df.neighborhood == 'TRIBECA']\n",
        "df.shape, tribeca.shape"
      ],
      "execution_count": 0,
      "outputs": [
        {
          "output_type": "execute_result",
          "data": {
            "text/plain": [
              "((23040, 21), (146, 21))"
            ]
          },
          "metadata": {
            "tags": []
          },
          "execution_count": 93
        }
      ]
    },
    {
      "cell_type": "code",
      "metadata": {
        "id": "4m37GxZnqNfZ",
        "colab_type": "code",
        "colab": {}
      },
      "source": [
        "# Q. What's the date range of these property sales in Tribeca?\n",
        "tribeca.sale_date.value_counts(ascending=False)"
      ],
      "execution_count": 0,
      "outputs": []
    },
    {
      "cell_type": "code",
      "metadata": {
        "id": "pI3bJUglqNfe",
        "colab_type": "code",
        "colab": {}
      },
      "source": [
        "# The Pandas Profiling Report showed that SALE_PRICE was read as strings\n",
        "# Convert it to integers\n",
        "# df = df.replace('$   - 0', 0)\n",
        "# df = df.str.lstrip('$')\n",
        "# df.sale_price.astype(int)"
      ],
      "execution_count": 0,
      "outputs": []
    },
    {
      "cell_type": "code",
      "metadata": {
        "id": "VALYKzFpqNfh",
        "colab_type": "code",
        "colab": {}
      },
      "source": [
        "# Q. What is the maximum SALE_PRICE in this dataset?\n"
      ],
      "execution_count": 0,
      "outputs": []
    },
    {
      "cell_type": "code",
      "metadata": {
        "id": "YdKlDRK3qNfm",
        "colab_type": "code",
        "colab": {}
      },
      "source": [
        "# Look at the row with the max SALE_PRICE\n"
      ],
      "execution_count": 0,
      "outputs": []
    },
    {
      "cell_type": "code",
      "metadata": {
        "id": "-plRwkRTqNfp",
        "colab_type": "code",
        "colab": {}
      },
      "source": [
        "# Get value counts of TOTAL_UNITS\n",
        "# Q. How many property sales were for multiple units?\n"
      ],
      "execution_count": 0,
      "outputs": []
    },
    {
      "cell_type": "code",
      "metadata": {
        "id": "Ckkz1JrVqNfu",
        "colab_type": "code",
        "colab": {}
      },
      "source": [
        "# Keep only the single units\n"
      ],
      "execution_count": 0,
      "outputs": []
    },
    {
      "cell_type": "code",
      "metadata": {
        "id": "P3BnHjQ4qNfy",
        "colab_type": "code",
        "colab": {}
      },
      "source": [
        "# Q. Now what is the max sales price? How many square feet does it have?\n"
      ],
      "execution_count": 0,
      "outputs": []
    },
    {
      "cell_type": "code",
      "metadata": {
        "id": "7hJ_esryqNf1",
        "colab_type": "code",
        "colab": {}
      },
      "source": [
        "# Q. How often did $0 sales occur in this subset of the data?\n",
        "\n",
        "# There's a glossary here: \n",
        "# https://www1.nyc.gov/site/finance/taxes/property-rolling-sales-data.page\n",
        "\n",
        "# It says:\n",
        "# A $0 sale indicates that there was a transfer of ownership without a \n",
        "# cash consideration. There can be a number of reasons for a $0 sale including \n",
        "# transfers of ownership from parents to children. \n",
        "\n"
      ],
      "execution_count": 0,
      "outputs": []
    },
    {
      "cell_type": "code",
      "metadata": {
        "id": "avmhHAE_qNf8",
        "colab_type": "code",
        "colab": {}
      },
      "source": [
        "# Look at property sales for > 5,000 square feet\n",
        "# Q. What is the highest square footage you see?\n"
      ],
      "execution_count": 0,
      "outputs": []
    },
    {
      "cell_type": "code",
      "metadata": {
        "id": "y9FzuJ-wqNf_",
        "colab_type": "code",
        "colab": {}
      },
      "source": [
        "# What are the building class categories?\n",
        "# How frequently does each occur?\n"
      ],
      "execution_count": 0,
      "outputs": []
    },
    {
      "cell_type": "code",
      "metadata": {
        "id": "nmZC6e1eqNgE",
        "colab_type": "code",
        "colab": {}
      },
      "source": [
        "# Keep subset of rows:\n",
        "# Sale price more than $0, \n",
        "# Building class category = Condos - Elevator Apartments\n",
        "\n",
        "# Check how many rows you have now. (Should be 106 rows.)\n"
      ],
      "execution_count": 0,
      "outputs": []
    },
    {
      "cell_type": "code",
      "metadata": {
        "id": "hvh4w3FbqNgb",
        "colab_type": "code",
        "colab": {}
      },
      "source": [
        "# Make a Plotly Express scatter plot of GROSS_SQUARE_FEET vs SALE_PRICE\n"
      ],
      "execution_count": 0,
      "outputs": []
    },
    {
      "cell_type": "code",
      "metadata": {
        "id": "ChA8y-I3qNgg",
        "colab_type": "code",
        "colab": {}
      },
      "source": [
        "# Add an OLS (Ordinary Least Squares) trendline,\n",
        "# to see how the outliers influence the \"line of best fit\"\n"
      ],
      "execution_count": 0,
      "outputs": []
    },
    {
      "cell_type": "code",
      "metadata": {
        "id": "ZjMytuaCqNgn",
        "colab_type": "code",
        "colab": {}
      },
      "source": [
        "# Look at sales for more than $35 million\n",
        "\n",
        "# All are at 70 Vestry Street\n",
        "# All but one have the same SALE_PRICE & SALE_DATE\n",
        "# Was the SALE_PRICE for each? Or in total?\n",
        "# Is this dirty data?\n"
      ],
      "execution_count": 0,
      "outputs": []
    },
    {
      "cell_type": "code",
      "metadata": {
        "id": "AxouWsUGqNgs",
        "colab_type": "code",
        "colab": {}
      },
      "source": [
        "# Make a judgment call:\n",
        "# Keep rows where sale price was < $35 million\n",
        "\n",
        "# Check how many rows you have now. (Should be down to 90 rows.)\n"
      ],
      "execution_count": 0,
      "outputs": []
    },
    {
      "cell_type": "code",
      "metadata": {
        "id": "fhRBgSFlqNgv",
        "colab_type": "code",
        "colab": {}
      },
      "source": [
        "# Now that you've removed outliers,\n",
        "# Look again at a scatter plot with OLS (Ordinary Least Squares) trendline\n"
      ],
      "execution_count": 0,
      "outputs": []
    },
    {
      "cell_type": "code",
      "metadata": {
        "id": "EjZTl8VsqNg0",
        "colab_type": "code",
        "colab": {}
      },
      "source": [
        "# Select these columns, then write to a csv file named tribeca.csv. Don't include the index.\n"
      ],
      "execution_count": 0,
      "outputs": []
    }
  ]
}