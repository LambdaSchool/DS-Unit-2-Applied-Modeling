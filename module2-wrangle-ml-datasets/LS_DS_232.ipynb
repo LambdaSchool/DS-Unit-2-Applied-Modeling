{
 "cells": [
  {
   "cell_type": "markdown",
   "metadata": {
    "colab_type": "text",
    "id": "RUhphDysw-6P"
   },
   "source": [
    "Lambda School Data Science\n",
    "\n",
    "*Unit 2, Sprint 3, Module 2*\n",
    "\n",
    "---\n"
   ]
  },
  {
   "cell_type": "markdown",
   "metadata": {
    "colab_type": "text",
    "id": "QiHzbgUAw-6R"
   },
   "source": [
    "# Wrangle ML datasets \n",
    "- Explore tabular data for supervised machine learning\n",
    "- Join relational data for supervised machine learning"
   ]
  },
  {
   "cell_type": "markdown",
   "metadata": {},
   "source": [
    "# Explore tabular data for superviesd machine learning 🍌"
   ]
  },
  {
   "cell_type": "markdown",
   "metadata": {
    "colab_type": "text",
    "id": "aIhIfXoaw-6S"
   },
   "source": [
    "Wrangling your dataset is often the most challenging and time-consuming part of the modeling process.\n",
    "\n",
    "In today's lesson, we’ll work with a dataset of [3 Million Instacart Orders, Open Sourced](https://tech.instacart.com/3-million-instacart-orders-open-sourced-d40d29ead6f2)!\n",
    "\n",
    "Let’s get set up:"
   ]
  },
  {
   "cell_type": "code",
   "execution_count": 1,
   "metadata": {
    "colab": {
     "base_uri": "https://localhost:8080/",
     "height": 50
    },
    "colab_type": "code",
    "id": "GDhEvgSew-6T",
    "outputId": "8838c044-d905-466b-9dd6-ec92a72fd28e"
   },
   "outputs": [
    {
     "output_type": "stream",
     "name": "stdout",
     "text": "Downloading https://s3.amazonaws.com/instacart-datasets/instacart_online_grocery_shopping_2017_05_01.tar.gz\nDownloaded instacart_online_grocery_shopping_2017_05_01.tar.gz\n"
    }
   ],
   "source": [
    "# Download data\n",
    "import requests\n",
    "\n",
    "def download(url):\n",
    "    filename = url.split('/')[-1]\n",
    "    print(f'Downloading {url}')\n",
    "    r = requests.get(url)\n",
    "    with open(filename, 'wb') as f:\n",
    "        f.write(r.content)\n",
    "    print(f'Downloaded {filename}')\n",
    "\n",
    "download('https://s3.amazonaws.com/instacart-datasets/instacart_online_grocery_shopping_2017_05_01.tar.gz')"
   ]
  },
  {
   "cell_type": "code",
   "execution_count": 2,
   "metadata": {
    "colab": {},
    "colab_type": "code",
    "id": "F5LQpRMtw-6W"
   },
   "outputs": [],
   "source": [
    "# Uncompress data\n",
    "import tarfile\n",
    "tarfile.open('instacart_online_grocery_shopping_2017_05_01.tar.gz').extractall()"
   ]
  },
  {
   "cell_type": "code",
   "execution_count": 3,
   "metadata": {
    "colab": {
     "base_uri": "https://localhost:8080/",
     "height": 34
    },
    "colab_type": "code",
    "id": "gfhCZMj2w-6X",
    "outputId": "defa0ea3-259b-4dbb-a2af-24de5ce92408"
   },
   "outputs": [
    {
     "output_type": "stream",
     "name": "stdout",
     "text": "/mnt/c/Users/joe/OneDrive/Desktop/SCHOOL/2-3/module2-wrangle-ml-datasets/instacart_2017_05_01\n"
    }
   ],
   "source": [
    "# Change directory to where the data was uncompressed\n",
    "%cd instacart_2017_05_01"
   ]
  },
  {
   "cell_type": "code",
   "execution_count": 4,
   "metadata": {
    "colab": {
     "base_uri": "https://localhost:8080/",
     "height": 118
    },
    "colab_type": "code",
    "id": "fJHLCinIw-6Z",
    "outputId": "068e1b81-6922-43a0-dfeb-f3e304c36589"
   },
   "outputs": [
    {
     "output_type": "stream",
     "name": "stdout",
     "text": "aisles.csv\ndepartments.csv\norders.csv\norder_products__prior.csv\norder_products__train.csv\nproducts.csv\n"
    }
   ],
   "source": [
    "# Print the csv filenames\n",
    "from glob import glob\n",
    "for filename in glob('*.csv'):\n",
    "    print(filename)"
   ]
  },
  {
   "cell_type": "code",
   "execution_count": 5,
   "metadata": {
    "colab": {
     "base_uri": "https://localhost:8080/",
     "height": 1000
    },
    "colab_type": "code",
    "id": "LS6c-xpUw-6b",
    "outputId": "51753b66-8a73-4dda-bdec-3877b3ce2c57"
   },
   "outputs": [
    {
     "output_type": "stream",
     "name": "stdout",
     "text": "\n aisles.csv (134, 2)\n"
    },
    {
     "output_type": "display_data",
     "data": {
      "text/plain": "   aisle_id                       aisle\n0         1       prepared soups salads\n1         2           specialty cheeses\n2         3         energy granola bars\n3         4               instant foods\n4         5  marinades meat preparation",
      "text/html": "<div>\n<style scoped>\n    .dataframe tbody tr th:only-of-type {\n        vertical-align: middle;\n    }\n\n    .dataframe tbody tr th {\n        vertical-align: top;\n    }\n\n    .dataframe thead th {\n        text-align: right;\n    }\n</style>\n<table border=\"1\" class=\"dataframe\">\n  <thead>\n    <tr style=\"text-align: right;\">\n      <th></th>\n      <th>aisle_id</th>\n      <th>aisle</th>\n    </tr>\n  </thead>\n  <tbody>\n    <tr>\n      <th>0</th>\n      <td>1</td>\n      <td>prepared soups salads</td>\n    </tr>\n    <tr>\n      <th>1</th>\n      <td>2</td>\n      <td>specialty cheeses</td>\n    </tr>\n    <tr>\n      <th>2</th>\n      <td>3</td>\n      <td>energy granola bars</td>\n    </tr>\n    <tr>\n      <th>3</th>\n      <td>4</td>\n      <td>instant foods</td>\n    </tr>\n    <tr>\n      <th>4</th>\n      <td>5</td>\n      <td>marinades meat preparation</td>\n    </tr>\n  </tbody>\n</table>\n</div>"
     },
     "metadata": {}
    },
    {
     "output_type": "stream",
     "name": "stdout",
     "text": "\n departments.csv (21, 2)\n"
    },
    {
     "output_type": "display_data",
     "data": {
      "text/plain": "   department_id department\n0              1     frozen\n1              2      other\n2              3     bakery\n3              4    produce\n4              5    alcohol",
      "text/html": "<div>\n<style scoped>\n    .dataframe tbody tr th:only-of-type {\n        vertical-align: middle;\n    }\n\n    .dataframe tbody tr th {\n        vertical-align: top;\n    }\n\n    .dataframe thead th {\n        text-align: right;\n    }\n</style>\n<table border=\"1\" class=\"dataframe\">\n  <thead>\n    <tr style=\"text-align: right;\">\n      <th></th>\n      <th>department_id</th>\n      <th>department</th>\n    </tr>\n  </thead>\n  <tbody>\n    <tr>\n      <th>0</th>\n      <td>1</td>\n      <td>frozen</td>\n    </tr>\n    <tr>\n      <th>1</th>\n      <td>2</td>\n      <td>other</td>\n    </tr>\n    <tr>\n      <th>2</th>\n      <td>3</td>\n      <td>bakery</td>\n    </tr>\n    <tr>\n      <th>3</th>\n      <td>4</td>\n      <td>produce</td>\n    </tr>\n    <tr>\n      <th>4</th>\n      <td>5</td>\n      <td>alcohol</td>\n    </tr>\n  </tbody>\n</table>\n</div>"
     },
     "metadata": {}
    },
    {
     "output_type": "stream",
     "name": "stdout",
     "text": "\n orders.csv (3421083, 7)\n"
    },
    {
     "output_type": "display_data",
     "data": {
      "text/plain": "   order_id  user_id eval_set  order_number  order_dow  order_hour_of_day  \\\n0   2539329        1    prior             1          2                  8   \n1   2398795        1    prior             2          3                  7   \n2    473747        1    prior             3          3                 12   \n3   2254736        1    prior             4          4                  7   \n4    431534        1    prior             5          4                 15   \n\n   days_since_prior_order  \n0                     NaN  \n1                    15.0  \n2                    21.0  \n3                    29.0  \n4                    28.0  ",
      "text/html": "<div>\n<style scoped>\n    .dataframe tbody tr th:only-of-type {\n        vertical-align: middle;\n    }\n\n    .dataframe tbody tr th {\n        vertical-align: top;\n    }\n\n    .dataframe thead th {\n        text-align: right;\n    }\n</style>\n<table border=\"1\" class=\"dataframe\">\n  <thead>\n    <tr style=\"text-align: right;\">\n      <th></th>\n      <th>order_id</th>\n      <th>user_id</th>\n      <th>eval_set</th>\n      <th>order_number</th>\n      <th>order_dow</th>\n      <th>order_hour_of_day</th>\n      <th>days_since_prior_order</th>\n    </tr>\n  </thead>\n  <tbody>\n    <tr>\n      <th>0</th>\n      <td>2539329</td>\n      <td>1</td>\n      <td>prior</td>\n      <td>1</td>\n      <td>2</td>\n      <td>8</td>\n      <td>NaN</td>\n    </tr>\n    <tr>\n      <th>1</th>\n      <td>2398795</td>\n      <td>1</td>\n      <td>prior</td>\n      <td>2</td>\n      <td>3</td>\n      <td>7</td>\n      <td>15.0</td>\n    </tr>\n    <tr>\n      <th>2</th>\n      <td>473747</td>\n      <td>1</td>\n      <td>prior</td>\n      <td>3</td>\n      <td>3</td>\n      <td>12</td>\n      <td>21.0</td>\n    </tr>\n    <tr>\n      <th>3</th>\n      <td>2254736</td>\n      <td>1</td>\n      <td>prior</td>\n      <td>4</td>\n      <td>4</td>\n      <td>7</td>\n      <td>29.0</td>\n    </tr>\n    <tr>\n      <th>4</th>\n      <td>431534</td>\n      <td>1</td>\n      <td>prior</td>\n      <td>5</td>\n      <td>4</td>\n      <td>15</td>\n      <td>28.0</td>\n    </tr>\n  </tbody>\n</table>\n</div>"
     },
     "metadata": {}
    },
    {
     "output_type": "stream",
     "name": "stdout",
     "text": "\n order_products__prior.csv (32434489, 4)\n"
    },
    {
     "output_type": "display_data",
     "data": {
      "text/plain": "   order_id  product_id  add_to_cart_order  reordered\n0         2       33120                  1          1\n1         2       28985                  2          1\n2         2        9327                  3          0\n3         2       45918                  4          1\n4         2       30035                  5          0",
      "text/html": "<div>\n<style scoped>\n    .dataframe tbody tr th:only-of-type {\n        vertical-align: middle;\n    }\n\n    .dataframe tbody tr th {\n        vertical-align: top;\n    }\n\n    .dataframe thead th {\n        text-align: right;\n    }\n</style>\n<table border=\"1\" class=\"dataframe\">\n  <thead>\n    <tr style=\"text-align: right;\">\n      <th></th>\n      <th>order_id</th>\n      <th>product_id</th>\n      <th>add_to_cart_order</th>\n      <th>reordered</th>\n    </tr>\n  </thead>\n  <tbody>\n    <tr>\n      <th>0</th>\n      <td>2</td>\n      <td>33120</td>\n      <td>1</td>\n      <td>1</td>\n    </tr>\n    <tr>\n      <th>1</th>\n      <td>2</td>\n      <td>28985</td>\n      <td>2</td>\n      <td>1</td>\n    </tr>\n    <tr>\n      <th>2</th>\n      <td>2</td>\n      <td>9327</td>\n      <td>3</td>\n      <td>0</td>\n    </tr>\n    <tr>\n      <th>3</th>\n      <td>2</td>\n      <td>45918</td>\n      <td>4</td>\n      <td>1</td>\n    </tr>\n    <tr>\n      <th>4</th>\n      <td>2</td>\n      <td>30035</td>\n      <td>5</td>\n      <td>0</td>\n    </tr>\n  </tbody>\n</table>\n</div>"
     },
     "metadata": {}
    },
    {
     "output_type": "stream",
     "name": "stdout",
     "text": "\n order_products__train.csv (1384617, 4)\n"
    },
    {
     "output_type": "display_data",
     "data": {
      "text/plain": "   order_id  product_id  add_to_cart_order  reordered\n0         1       49302                  1          1\n1         1       11109                  2          1\n2         1       10246                  3          0\n3         1       49683                  4          0\n4         1       43633                  5          1",
      "text/html": "<div>\n<style scoped>\n    .dataframe tbody tr th:only-of-type {\n        vertical-align: middle;\n    }\n\n    .dataframe tbody tr th {\n        vertical-align: top;\n    }\n\n    .dataframe thead th {\n        text-align: right;\n    }\n</style>\n<table border=\"1\" class=\"dataframe\">\n  <thead>\n    <tr style=\"text-align: right;\">\n      <th></th>\n      <th>order_id</th>\n      <th>product_id</th>\n      <th>add_to_cart_order</th>\n      <th>reordered</th>\n    </tr>\n  </thead>\n  <tbody>\n    <tr>\n      <th>0</th>\n      <td>1</td>\n      <td>49302</td>\n      <td>1</td>\n      <td>1</td>\n    </tr>\n    <tr>\n      <th>1</th>\n      <td>1</td>\n      <td>11109</td>\n      <td>2</td>\n      <td>1</td>\n    </tr>\n    <tr>\n      <th>2</th>\n      <td>1</td>\n      <td>10246</td>\n      <td>3</td>\n      <td>0</td>\n    </tr>\n    <tr>\n      <th>3</th>\n      <td>1</td>\n      <td>49683</td>\n      <td>4</td>\n      <td>0</td>\n    </tr>\n    <tr>\n      <th>4</th>\n      <td>1</td>\n      <td>43633</td>\n      <td>5</td>\n      <td>1</td>\n    </tr>\n  </tbody>\n</table>\n</div>"
     },
     "metadata": {}
    },
    {
     "output_type": "stream",
     "name": "stdout",
     "text": "\n products.csv (49688, 4)\n"
    },
    {
     "output_type": "display_data",
     "data": {
      "text/plain": "   product_id                                       product_name  aisle_id  \\\n0           1                         Chocolate Sandwich Cookies        61   \n1           2                                   All-Seasons Salt       104   \n2           3               Robust Golden Unsweetened Oolong Tea        94   \n3           4  Smart Ones Classic Favorites Mini Rigatoni Wit...        38   \n4           5                          Green Chile Anytime Sauce         5   \n\n   department_id  \n0             19  \n1             13  \n2              7  \n3              1  \n4             13  ",
      "text/html": "<div>\n<style scoped>\n    .dataframe tbody tr th:only-of-type {\n        vertical-align: middle;\n    }\n\n    .dataframe tbody tr th {\n        vertical-align: top;\n    }\n\n    .dataframe thead th {\n        text-align: right;\n    }\n</style>\n<table border=\"1\" class=\"dataframe\">\n  <thead>\n    <tr style=\"text-align: right;\">\n      <th></th>\n      <th>product_id</th>\n      <th>product_name</th>\n      <th>aisle_id</th>\n      <th>department_id</th>\n    </tr>\n  </thead>\n  <tbody>\n    <tr>\n      <th>0</th>\n      <td>1</td>\n      <td>Chocolate Sandwich Cookies</td>\n      <td>61</td>\n      <td>19</td>\n    </tr>\n    <tr>\n      <th>1</th>\n      <td>2</td>\n      <td>All-Seasons Salt</td>\n      <td>104</td>\n      <td>13</td>\n    </tr>\n    <tr>\n      <th>2</th>\n      <td>3</td>\n      <td>Robust Golden Unsweetened Oolong Tea</td>\n      <td>94</td>\n      <td>7</td>\n    </tr>\n    <tr>\n      <th>3</th>\n      <td>4</td>\n      <td>Smart Ones Classic Favorites Mini Rigatoni Wit...</td>\n      <td>38</td>\n      <td>1</td>\n    </tr>\n    <tr>\n      <th>4</th>\n      <td>5</td>\n      <td>Green Chile Anytime Sauce</td>\n      <td>5</td>\n      <td>13</td>\n    </tr>\n  </tbody>\n</table>\n</div>"
     },
     "metadata": {}
    }
   ],
   "source": [
    "# For each csv file, look at its shape & head \n",
    "import pandas as pd\n",
    "from IPython.display import display\n",
    "def preview():\n",
    "    for filename in glob('*.csv'):\n",
    "        df=pd.read_csv(filename)\n",
    "        print('\\n',filename,df.shape)\n",
    "        display(df.head())\n",
    "preview()"
   ]
  },
  {
   "cell_type": "code",
   "execution_count": 6,
   "metadata": {},
   "outputs": [],
   "source": [
    "train=pd.read_csv('order_products__train.csv')\n",
    ""
   ]
  },
  {
   "cell_type": "code",
   "execution_count": 7,
   "metadata": {},
   "outputs": [],
   "source": [
    "products=pd.read_csv('products.csv')\n",
    "train = pd.merge(train, products, on='product_id', how='inner')"
   ]
  },
  {
   "cell_type": "code",
   "execution_count": 8,
   "metadata": {},
   "outputs": [
    {
     "output_type": "execute_result",
     "data": {
      "text/plain": "2.515569287391387"
     },
     "metadata": {},
     "execution_count": 8
    }
   ],
   "source": [
    "bananas = train[(train['product_name'].str.contains('anana')) & (train['reordered'] == 1)]\n",
    "(bananas.count()/train.count()*100)[0]"
   ]
  },
  {
   "cell_type": "markdown",
   "metadata": {
    "colab_type": "text",
    "id": "-VF8Lw_dw-6d"
   },
   "source": [
    "### ... but we can simplify!\n",
    "\n",
    "Simplify the question, from \"Which products will be reordered?\" (Multi-class, [multi-label](https://en.wikipedia.org/wiki/Multi-label_classification) classification) to **\"Will customers reorder this one product?\"** (Binary classification)\n",
    "\n",
    "Which product? How about **the most frequently ordered product?**"
   ]
  },
  {
   "cell_type": "markdown",
   "metadata": {
    "colab_type": "text",
    "id": "1-iS4YGgw-6e"
   },
   "source": [
    "### Questions:\n",
    "\n",
    "- What is the most frequently ordered product?\n",
    "- How often is this product included in a customer's next order?\n",
    "- Which customers have ordered this product before?\n",
    "- How can we get a subset of data, just for these customers?\n",
    "- What features can we engineer? We want to predict, will these customers reorder this product on their next order?"
   ]
  },
  {
   "cell_type": "markdown",
   "metadata": {},
   "source": [
    "## Follow Along"
   ]
  },
  {
   "cell_type": "markdown",
   "metadata": {
    "colab_type": "text",
    "id": "LFvtqzBQw-6e"
   },
   "source": [
    "### What was the most frequently ordered product?"
   ]
  },
  {
   "cell_type": "code",
   "execution_count": null,
   "metadata": {
    "colab": {},
    "colab_type": "code",
    "id": "lS3CPuksw-6f"
   },
   "outputs": [],
   "source": []
  },
  {
   "cell_type": "markdown",
   "metadata": {
    "colab_type": "text",
    "id": "56eJ-Gkdw-6g"
   },
   "source": [
    "### How often are bananas included in a customer's next order?\n",
    "\n",
    "There are [three sets of data](https://gist.github.com/jeremystan/c3b39d947d9b88b3ccff3147dbcf6c6b):\n",
    "\n",
    "> \"prior\": orders prior to that users most recent order (3.2m orders)  \n",
    "\"train\": training data supplied to participants (131k orders)  \n",
    "\"test\": test data reserved for machine learning competitions (75k orders)\n",
    "\n",
    "Customers' next orders are in the \"train\" and \"test\" sets. (The \"prior\" set has the orders prior to the most recent orders.)\n",
    "\n",
    "We can't use the \"test\" set here, because we don't have its labels (only Kaggle & Instacart have them), so we don't know what products were bought in the \"test\" set orders.\n",
    "\n",
    "So, we'll use the \"train\" set. It currently has one row per product_id and multiple rows per order_id.\n",
    "\n",
    "But we don't want that. Instead we want one row per order_id, with a binary column: \"Did the order include bananas?\"\n",
    "\n",
    "Let's wrangle!"
   ]
  },
  {
   "cell_type": "code",
   "execution_count": null,
   "metadata": {
    "colab": {
     "base_uri": "https://localhost:8080/",
     "height": 235
    },
    "colab_type": "code",
    "id": "pWaneblAAp0f",
    "outputId": "3808065d-579c-4a8f-bb0b-b2f14acdb111"
   },
   "outputs": [],
   "source": []
  },
  {
   "cell_type": "markdown",
   "metadata": {},
   "source": [
    "# Join relational data for supervised machine learning"
   ]
  },
  {
   "cell_type": "markdown",
   "metadata": {},
   "source": [
    "## Overview\n",
    "Often, you’ll need to join data from multiple relational tables before you’re ready to fit your models."
   ]
  },
  {
   "cell_type": "markdown",
   "metadata": {
    "colab_type": "text",
    "id": "SbOI93-Sw-6i"
   },
   "source": [
    "### Which customers have ordered this product before?\n",
    "\n",
    "- Customers are identified by `user_id`\n",
    "- Products are identified by `product_id`\n",
    "\n",
    "Do we have a table with both these id's? (If not, how can we combine this information?)"
   ]
  },
  {
   "cell_type": "code",
   "execution_count": 14,
   "metadata": {
    "colab": {
     "base_uri": "https://localhost:8080/",
     "height": 1000
    },
    "colab_type": "code",
    "id": "F98dwqAUw-6j",
    "outputId": "8a5006a7-4d19-4754-931b-4ee6d1bb42c6"
   },
   "outputs": [],
   "source": [
    "b_set=train[train.product_name.str.contains('Banana')]\n",
    ""
   ]
  },
  {
   "cell_type": "code",
   "execution_count": 12,
   "metadata": {},
   "outputs": [
    {
     "output_type": "execute_result",
     "data": {
      "text/plain": "         order_id  user_id eval_set  order_number  order_dow  \\\n2161501   2321439   130035    prior            13          4   \n2659027   2848021   160060    prior            19          6   \n1755202   1084076   105338    prior            34          1   \n2371782   2120788   142755    prior            31          2   \n342994    2163784    20760    prior             4          5   \n\n         order_hour_of_day  days_since_prior_order  \n2161501                  8                     2.0  \n2659027                 19                     7.0  \n1755202                  3                     3.0  \n2371782                  8                     8.0  \n342994                  12                     8.0  ",
      "text/html": "<div>\n<style scoped>\n    .dataframe tbody tr th:only-of-type {\n        vertical-align: middle;\n    }\n\n    .dataframe tbody tr th {\n        vertical-align: top;\n    }\n\n    .dataframe thead th {\n        text-align: right;\n    }\n</style>\n<table border=\"1\" class=\"dataframe\">\n  <thead>\n    <tr style=\"text-align: right;\">\n      <th></th>\n      <th>order_id</th>\n      <th>user_id</th>\n      <th>eval_set</th>\n      <th>order_number</th>\n      <th>order_dow</th>\n      <th>order_hour_of_day</th>\n      <th>days_since_prior_order</th>\n    </tr>\n  </thead>\n  <tbody>\n    <tr>\n      <th>2161501</th>\n      <td>2321439</td>\n      <td>130035</td>\n      <td>prior</td>\n      <td>13</td>\n      <td>4</td>\n      <td>8</td>\n      <td>2.0</td>\n    </tr>\n    <tr>\n      <th>2659027</th>\n      <td>2848021</td>\n      <td>160060</td>\n      <td>prior</td>\n      <td>19</td>\n      <td>6</td>\n      <td>19</td>\n      <td>7.0</td>\n    </tr>\n    <tr>\n      <th>1755202</th>\n      <td>1084076</td>\n      <td>105338</td>\n      <td>prior</td>\n      <td>34</td>\n      <td>1</td>\n      <td>3</td>\n      <td>3.0</td>\n    </tr>\n    <tr>\n      <th>2371782</th>\n      <td>2120788</td>\n      <td>142755</td>\n      <td>prior</td>\n      <td>31</td>\n      <td>2</td>\n      <td>8</td>\n      <td>8.0</td>\n    </tr>\n    <tr>\n      <th>342994</th>\n      <td>2163784</td>\n      <td>20760</td>\n      <td>prior</td>\n      <td>4</td>\n      <td>5</td>\n      <td>12</td>\n      <td>8.0</td>\n    </tr>\n  </tbody>\n</table>\n</div>"
     },
     "metadata": {},
     "execution_count": 12
    }
   ],
   "source": [
    "orders=pd.read_csv('orders.csv')\n",
    "orders.sample(5)"
   ]
  },
  {
   "cell_type": "code",
   "execution_count": 16,
   "metadata": {},
   "outputs": [],
   "source": [
    "# a subset of the orders that contain bannanas\n",
    "# we can new get more information about the users that are getting bananas\n",
    "# for the given dataframe how do you get a list of user id's\n",
    "order_b_set=orders[orders.order_id.isin(b_set.order_id)]"
   ]
  },
  {
   "cell_type": "code",
   "execution_count": 17,
   "metadata": {},
   "outputs": [
    {
     "output_type": "execute_result",
     "data": {
      "text/plain": "[182168,\n 183923,\n 206126,\n 15661,\n 144684,\n 66858,\n 138537,\n 5416,\n 104288,\n 32037,\n 60759,\n 95524,\n 195677,\n 83234,\n 154913,\n 87328,\n 142558,\n 42270,\n 183603,\n 130357,\n 126263,\n 189870,\n 193876,\n 122193,\n 186282,\n 9550,\n 68939,\n 1354,\n 138569,\n 202056,\n 32069,\n 95556,\n 183519,\n 175423,\n 42302,\n 36155,\n 143510,\n 113949,\n 111900,\n 103704,\n 199093,\n 142575,\n 13548,\n 68843,\n 132330,\n 72937,\n 70888,\n 27879,\n 179409,\n 85219,\n 17634,\n 23777,\n 198479,\n 44255,\n 42206,\n 46300,\n 157309,\n 62708,\n 176891,\n 189686,\n 124182,\n 52499,\n 187665,\n 185616,\n 159205,\n 140558,\n 15629,\n 13580,\n 72200,\n 5384,\n 147383,\n 95492,\n 83202,\n 173310,\n 34042,\n 203752,\n 169304,\n 131144,\n 179613,\n 204201,\n 28071,\n 97701,\n 150947,\n 17826,\n 89505,\n 21920,\n 177564,\n 171353,\n 190549,\n 34202,\n 171417,\n 157853,\n 64917,\n 62868,\n 52627,\n 66733,\n 75182,\n 11695,\n 199399,\n 13772,\n 67018,\n 204233,\n 93639,\n 91590,\n 32197,\n 71863,\n 83394,\n 155073,\n 44479,\n 42430,\n 48573,\n 112060,\n 40377,\n 118195,\n 143797,\n 122257,\n 153840,\n 180135,\n 50546,\n 187761,\n 54640,\n 81261,\n 3435,\n 7529,\n 202088,\n 32101,\n 95588,\n 19811,\n 83298,\n 177082,\n 21856,\n 44383,\n 148960,\n 52595,\n 195957,\n 72013,\n 58742,\n 181172,\n 198026,\n 138633,\n 71048,\n 28039,\n 198525,\n 85379,\n 148866,\n 155009,\n 196145,\n 48509,\n 177532,\n 167291,\n 173988,\n 196213,\n 36059,\n 171225,\n 136748,\n 179229,\n 25638,\n 31781,\n 29732,\n 150563,\n 148514,\n 23585,\n 42014,\n 80469,\n 97349,\n 99354,\n 171033,\n 197678,\n 191511,\n 58390,\n 175008,\n 52243,\n 70696,\n 7209,\n 1066,\n 3115,\n 161098,\n 176044,\n 42046,\n 90634,\n 46140,\n 99386,\n 171065,\n 180346,\n 191543,\n 130101,\n 128052,\n 50226,\n 76847,\n 74798,\n 146477,\n 187409,\n 9230,\n 3083,\n 137147,\n 91110,\n 150499,\n 154593,\n 109535,\n 162532,\n 46044,\n 35803,\n 33754,\n 103384,\n 125911,\n 200572,\n 184182,\n 181202,\n 187345,\n 74702,\n 70632,\n 68587,\n 164603,\n 15341,\n 201736,\n 186489,\n 91142,\n 97285,\n 154625,\n 41982,\n 48125,\n 46076,\n 99322,\n 125943,\n 123894,\n 202642,\n 127988,\n 115698,\n 140270,\n 29764,\n 82528,\n 146347,\n 150560,\n 203024,\n 50354,\n 76975,\n 15533,\n 199851,\n 66730,\n 5288,\n 160932,\n 7241,\n 85155,\n 144307,\n 23713,\n 173214,\n 194966,\n 179285,\n 165018,\n 193716,\n 172164,\n 60599,\n 114724,\n 126167,\n 203191,\n 62676,\n 56529,\n 185552,\n 80830,\n 132298,\n 5320,\n 156870,\n 31941,\n 95428,\n 83138,\n 89281,\n 48317,\n 171193,\n 60567,\n 184224,\n 185488,\n 205841,\n 29796,\n 150627,\n 148578,\n 154721,\n 42078,\n 48221,\n 157140,\n 164954,\n 206200,\n 195373,\n 52307,\n 56401,\n 148306,\n 68683,\n 197706,\n 201832,\n 1130,\n 170115,\n 11375,\n 68747,\n 7305,\n 201864,\n 31877,\n 95364,\n 17538,\n 21632,\n 97299,\n 35963,\n 99450,\n 191607,\n 74358,\n 193652,\n 121969,\n 112263,\n 15821,\n 50642,\n 124855,\n 147245,\n 114463,\n 169784,\n 61239,\n 124726,\n 57137,\n 55088,\n 75566,\n 69419,\n 203241,\n 132906,\n 32549,\n 30500,\n 20259,\n 18210,\n 98262,\n 70350,\n 196418,\n 94127,\n 114493,\n 42814,\n 167771,\n 34650,\n 169816,\n 192343,\n 124758,\n 57169,\n 178325,\n 12111,\n 75598,\n 200972,\n 14156,\n 73545,\n 91974,\n 145664,\n 110399,\n 163035,\n 165658,\n 40729,\n 202472,\n 24289,\n 22240,\n 44767,\n 167643,\n 104152,\n 121806,\n 128956,\n 57041,\n 120528,\n 75470,\n 147149,\n 196327,\n 69323,\n 67274,\n 7881,\n 18146,\n 7913,\n 104875,\n 69355,\n 86832,\n 65301,\n 116498,\n 3851,\n 108973,\n 73481,\n 26374,\n 30468,\n 153344,\n 48893,\n 165626,\n 104184,\n 126711,\n 129994,\n 79596,\n 180378,\n 87904,\n 93895,\n 74265,\n 122801,\n 186288,\n 133694,\n 71592,\n 28583,\n 26534,\n 163749,\n 20387,\n 24417,\n 83874,\n 155553,\n 87968,\n 42910,\n 180125,\n 47004,\n 167835,\n 116658,\n 53171,\n 65461,\n 151081,\n 143311,\n 147405,\n 133066,\n 139209,\n 94151,\n 181452,\n 73483,\n 20419,\n 142184,\n 177138,\n 42942,\n 47036,\n 106425,\n 104376,\n 61367,\n 154692,\n 196501,\n 63380,\n 100218,\n 165424,\n 182209,\n 194110,\n 158786,\n 203470,\n 55152,\n 75630,\n 121938,\n 185416,\n 69483,\n 105478,\n 90025,\n 98149,\n 30564,\n 85859,\n 104312,\n 49021,\n 182162,\n 172947,\n 94415,\n 55184,\n 75662,\n 175563,\n 79756,\n 67466,\n 204681,\n 179735,\n 28551,\n 26502,\n 97242,\n 30596,\n 89985,\n 119303,\n 110463,\n 5832,\n 26310,\n 183763,\n 24097,\n 69163,\n 67114,\n 138793,\n 5672,\n 97829,\n 95780,\n 149026,\n 141106,\n 199902,\n 108062,\n 137217,\n 40473,\n 139726,\n 58902,\n 128532,\n 183827,\n 13868,\n 205366,\n 113827,\n 122417,\n 28231,\n 26182,\n 105746,\n 24129,\n 22080,\n 110143,\n 173630,\n 48701,\n 46652,\n 99898,\n 91072,\n 130659,\n 65077,\n 63028,\n 118323,\n 121467,\n 134905,\n 77327,\n 181746,\n 94173,\n 9710,\n 79340,\n 172728,\n 32229,\n 95716,\n 175844,\n 173534,\n 48605,\n 85621,\n 101851,\n 40409,\n 169432,\n 60887,\n 124374,\n 56817,\n 118259,\n 151178,\n 65013,\n 1546,\n 7689,\n 71176,\n 157190,\n 163333,\n 30212,\n 164696,\n 74696,\n 187826,\n 175615,\n 48637,\n 46588,\n 36347,\n 165370,\n 169464,\n 71240,\n 198218,\n 124862,\n 115490,\n 151380,\n 42654,\n 48797,\n 36507,\n 99994,\n 40601,\n 104088,\n 165956,\n 69195,\n 196245,\n 52883,\n 116370,\n 9870,\n 16013,\n 71304,\n 159367,\n 197231,\n 32421,\n 26278,\n 202408,\n 20163,\n 18114,\n 89793,\n 22208,\n 42686,\n 112316,\n 163324,\n 194300,\n 130741,\n 194228,\n 52915,\n 122545,\n 145068,\n 66817,\n 138921,\n 26246,\n 32389,\n 30340,\n 18018,\n 99114,\n 108126,\n 179805,\n 46684,\n 190935,\n 106073,\n 122644,\n 130645,\n 105639,\n 171208,\n 116306,\n 56913,\n 11855,\n 66468,\n 84566,\n 22112,\n 163429,\n 85635,\n 26214,\n 83586,\n 98546,\n 46716,\n 36475,\n 106105,\n 169592,\n 61047,\n 65141,\n 52851,\n 122481,\n 54896,\n 81517,\n 199903,\n 103390,\n 136808,\n 110376,\n 78796,\n 72649,\n 71977,\n 140189,\n 188726,\n 61748,\n 196601,\n 76079,\n 143660,\n 133419,\n 90406,\n 92519,\n 160036,\n 149795,\n 192507,\n 100635,\n 170265,\n 168216,\n 63765,\n 106814,\n 163998,\n 65866,\n 2379,\n 149859,\n 196584,\n 76190,\n 151904,\n 106846,\n 191512,\n 39257,\n 179194,\n 63829,\n 192852,\n 159186,\n 10575,\n 8526,\n 14669,\n 78156,\n 127252,\n 51475,\n 49426,\n 139502,\n 131306,\n 71913,\n 69864,\n 24806,\n 137897,\n 16610,\n 88289,\n 86240,\n 122596,\n 178397,\n 110812,\n 166107,\n 39129,\n 185937,\n 57558,\n 2283,\n 196806,\n 53520,\n 180466,\n 141583,\n 8462,\n 145677,\n 12556,\n 137481,\n 66140,\n 155910,\n 18691,\n 16642,\n 149504,\n 43263,\n 90897,\n 100603,\n 168184,\n 57590,\n 161219,\n 180209,\n 116947,\n 74158,\n 194997,\n 84875,\n 182707,\n 115122,\n 186801,\n 187385,\n 76207,\n 80301,\n 6505,\n 2475,\n 131498,\n 4520,\n 179050,\n 24998,\n 134604,\n 149923,\n 57782,\n 168376,\n 100795,\n 205789,\n 55761,\n 76679,\n 10703,\n 74190,\n 78284,\n 133579,\n 6601,\n 197361,\n 158151,\n 156102,\n 31173,\n 29124,\n 195616,\n 106942,\n 178621,\n 147874,\n 88481,\n 41374,\n 96386,\n 113021,\n 33146,\n 39289,\n 37240,\n 59767,\n 57718,\n 61812,\n 131800,\n 92460,\n 128747,\n 76143,\n 80237,\n 12652,\n 2411,\n 65898,\n 172414,\n 24966,\n 47517,\n 158087,\n 95321,\n 100763,\n 37272,\n 157674,\n 188822,\n 61844,\n 180626,\n 121233,\n 184720,\n 10639,\n 8590,\n 72088,\n 197002,\n 159919,\n 201096,\n 129237,\n 111450,\n 136136,\n 20512,\n 77868,\n 2091,\n 24614,\n 161829,\n 94244,\n 122973,\n 88097,\n 172062,\n 65610,\n 47133,\n 34843,\n 173072,\n 167960,\n 188438,\n 63509,\n 192532,\n 79917,\n 136905,\n 184368,\n 186417,\n 110880,\n 94276,\n 84035,\n 88129,\n 20544,\n 177692,\n 98942,\n 190160,\n 165947,\n 104505,\n 102456,\n 164543,\n 192564,\n 51251,\n 49202,\n 51219,\n 126123,\n 118800,\n 138902,\n 65526,\n 124917,\n 143745,\n 57330,\n 14319,\n 16366,\n 143340,\n 73706,\n 161171,\n 135144,\n 161767,\n 163814,\n 92133,\n 28644,\n 194725,\n 92878,\n 106490,\n 10255,\n 38907,\n 8206,\n 145421,\n 12300,\n 127654,\n 65546,\n 69640,\n 26631,\n 155654,\n 94212,\n 18435,\n 16386,\n 153601,\n 113273,\n 153628,\n 174077,\n 157691,\n 181414,\n 10447,\n 190615,\n 108703,\n 106654,\n 130339,\n 45212,\n 34971,\n 104601,\n 102552,\n 129321,\n 143436,\n 120977,\n 139406,\n 14477,\n 77964,\n 67723,\n 135304,\n 155782,\n 137205,\n 155814,\n 67271,\n 172570,\n 8398,\n 184146,\n 12492,\n 71881,\n 4296,\n 149699,\n 172222,\n 142701,\n 100539,\n 188598,\n 129205,\n 61620,\n 55473,\n 184496,\n 141503,\n 96389,\n 159876,\n 131984,\n 24678,\n 94308,\n 187557,\n 88161,\n 131919,\n 126292,\n 45148,\n 102488,\n 178539,\n 61524,\n 116819,\n 49234,\n 173598,\n 75855,\n 8270,\n 79949,\n 96357,\n 4200,\n 16514,\n 137321,\n 43135,\n 76477,\n 177452,\n 175966,\n 36984,\n 59511,\n 188534,\n 98892,\n 61556,\n 74428,\n 55409,\n 138597,\n 179249,\n 67691,\n 106,\n 180690,\n 165303,\n 57814,\n 25382,\n 49970,\n 56113,\n 185136,\n 74542,\n 133931,\n 203561,\n 70440,\n 97061,\n 54096,\n 150307,\n 17186,\n 86816,\n 43807,\n 108691,\n 45852,\n 166683,\n 58166,\n 125751,\n 168760,\n 105273,\n 168225,\n 67389,\n 165002,\n 66378,\n 4936,\n 156486,\n 170272,\n 19267,\n 23361,\n 152384,\n 43839,\n 41790,\n 113469,\n 35643,\n 33594,\n 147685,\n 125719,\n 189206,\n 146157,\n 131818,\n 137961,\n 135912,\n 92903,\n 134299,\n 96997,\n 94948,\n 82658,\n 154337,\n 41694,\n 47837,\n 87027,\n 105177,\n 37592,\n 125655,\n 13036,\n 183813,\n 62228,\n 10991,\n 197200,\n 54032,\n 11023,\n 8974,\n 142495,\n 156422,\n 160516,\n 21248,\n 109311,\n 35579,\n 195079,\n 60151,\n 195317,\n 62196,\n 56049,\n 103394,\n ...]"
     },
     "metadata": {},
     "execution_count": 17
    }
   ],
   "source": [
    "order_b_set.user_id.value_counts().index.to_list()"
   ]
  },
  {
   "cell_type": "markdown",
   "metadata": {},
   "source": [
    "## Follow Along"
   ]
  },
  {
   "cell_type": "markdown",
   "metadata": {
    "colab_type": "text",
    "id": "lCy_4L_tw-6k"
   },
   "source": [
    "### How can we get a subset of data, just for these customers?\n",
    "\n",
    "We want *all* the orders from customers who have *ever* bought bananas.\n",
    "\n",
    "(And *none* of the orders from customers who have *never* bought bananas.)"
   ]
  },
  {
   "cell_type": "code",
   "execution_count": null,
   "metadata": {
    "colab": {
     "base_uri": "https://localhost:8080/",
     "height": 34
    },
    "colab_type": "code",
    "id": "IKlvuzBSw-6l",
    "outputId": "d9489b05-b8d7-4cf7-dd03-070a81174dad"
   },
   "outputs": [],
   "source": []
  },
  {
   "cell_type": "markdown",
   "metadata": {
    "colab_type": "text",
    "id": "Kh5Xhqrpw-6m"
   },
   "source": [
    "### What features can we engineer? We want to predict, will these customers reorder bananas on their next order?"
   ]
  },
  {
   "cell_type": "code",
   "execution_count": null,
   "metadata": {
    "colab": {
     "base_uri": "https://localhost:8080/",
     "height": 1000
    },
    "colab_type": "code",
    "id": "Uluspye5LQAI",
    "outputId": "a8002c14-6397-4094-e6bd-351abe40f06c"
   },
   "outputs": [],
   "source": []
  },
  {
   "cell_type": "markdown",
   "metadata": {},
   "source": [
    "## Challenge\n",
    "\n",
    "**Continue to clean and explore your data.** Can you **engineer features** to help predict your target? For the evaluation metric you chose, what score would you get just by guessing? Can you **make a fast, first model** that beats guessing?\n",
    "\n",
    "We recommend that you use your portfolio project dataset for all assignments this sprint. But if you aren't ready yet, or you want more practice, then use the New York City property sales dataset today. Follow the instructions in the assignment notebook. [Here's a video walkthrough](https://youtu.be/pPWFw8UtBVg?t=584) you can refer to if you get stuck or want hints!"
   ]
  }
 ],
 "metadata": {
  "kernelspec": {
   "display_name": "DS-BASE(Python 3.7.0)",
   "language": "python",
   "name": "ds-base"
  },
  "language_info": {
   "codemirror_mode": {
    "name": "ipython",
    "version": 3
   },
   "file_extension": ".py",
   "mimetype": "text/x-python",
   "name": "python",
   "nbconvert_exporter": "python",
   "pygments_lexer": "ipython3",
   "version": "3.7.6-final"
  }
 },
 "nbformat": 4,
 "nbformat_minor": 1
}