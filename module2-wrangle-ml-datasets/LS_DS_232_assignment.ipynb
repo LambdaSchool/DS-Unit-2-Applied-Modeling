{
  "nbformat": 4,
  "nbformat_minor": 0,
  "metadata": {
    "jupytext": {
      "cell_metadata_filter": "-all",
      "main_language": "python",
      "notebook_metadata_filter": "-all"
    },
    "kernelspec": {
      "display_name": "Python 3",
      "language": "python",
      "name": "python3"
    },
    "language_info": {
      "codemirror_mode": {
        "name": "ipython",
        "version": 3
      },
      "file_extension": ".py",
      "mimetype": "text/x-python",
      "name": "python",
      "nbconvert_exporter": "python",
      "pygments_lexer": "ipython3",
      "version": "3.7.3"
    },
    "colab": {
      "name": "LS_DS_232_assignment.ipynb",
      "provenance": []
    }
  },
  "cells": [
    {
      "cell_type": "markdown",
      "metadata": {
        "id": "wGfHfHI2lN_8",
        "colab_type": "text"
      },
      "source": [
        "Lambda School Data Science\n",
        "\n",
        "*Unit 2, Sprint 3, Module 1*\n",
        "\n",
        "---\n",
        "\n",
        "\n",
        "# Wrangle ML datasets\n",
        "\n",
        "- [ ] Continue to clean and explore your data. \n",
        "- [ ] For the evaluation metric you chose, what score would you get just by guessing?\n",
        "- [ ] Can you make a fast, first model that beats guessing?\n",
        "\n",
        "**We recommend that you use your portfolio project dataset for all assignments this sprint.**\n",
        "\n",
        "**But if you aren't ready yet, or you want more practice, then use the New York City property sales dataset for today's assignment.** Follow the instructions below, to just keep a subset for the Tribeca neighborhood, and remove outliers or dirty data. [Here's a video walkthrough](https://youtu.be/pPWFw8UtBVg?t=584) you can refer to if you get stuck or want hints!\n",
        "\n",
        "- Data Source: [NYC OpenData: NYC Citywide Rolling Calendar Sales](https://data.cityofnewyork.us/dataset/NYC-Citywide-Rolling-Calendar-Sales/usep-8jbt)\n",
        "- Glossary: [NYC Department of Finance: Rolling Sales Data](https://www1.nyc.gov/site/finance/taxes/property-rolling-sales-data.page)"
      ]
    },
    {
      "cell_type": "code",
      "metadata": {
        "id": "96qdhxozlOAA",
        "colab_type": "code",
        "colab": {}
      },
      "source": [
        "%%capture\n",
        "import sys\n",
        "\n",
        "# If you're on Colab:\n",
        "if 'google.colab' in sys.modules:\n",
        "    DATA_PATH = 'https://raw.githubusercontent.com/LambdaSchool/DS-Unit-2-Applied-Modeling/master/data/'\n",
        "    !pip install category_encoders==2.*\n",
        "    !pip install pandas-profiling==2.*\n",
        "\n",
        "# If you're working locally:\n",
        "else:\n",
        "    DATA_PATH = '../data/'"
      ],
      "execution_count": 0,
      "outputs": []
    },
    {
      "cell_type": "code",
      "metadata": {
        "id": "7jz0ogoslOAG",
        "colab_type": "code",
        "colab": {}
      },
      "source": [
        "# Read New York City property sales data\n",
        "import pandas as pd\n",
        "df = pd.read_csv(DATA_PATH+'condos/NYC_Citywide_Rolling_Calendar_Sales.csv')"
      ],
      "execution_count": 0,
      "outputs": []
    },
    {
      "cell_type": "markdown",
      "metadata": {
        "id": "rRzhMUGklOAL",
        "colab_type": "text"
      },
      "source": [
        "Your code starts here:"
      ]
    },
    {
      "cell_type": "code",
      "metadata": {
        "id": "HSUaQiWCb-88",
        "colab_type": "code",
        "colab": {}
      },
      "source": [
        "# I have been working on my own dataSet\n",
        "# the link to my dataSet is:\n",
        "mySet = 'https://github.com/richardOlson/nfl_2019_play_by_play/blob/master/nfl_plays.ipynb'"
      ],
      "execution_count": 0,
      "outputs": []
    },
    {
      "cell_type": "code",
      "metadata": {
        "id": "HcYVVPrjlOAN",
        "colab_type": "code",
        "colab": {}
      },
      "source": [
        "# Change column names: replace spaces with underscores\n"
      ],
      "execution_count": 0,
      "outputs": []
    },
    {
      "cell_type": "code",
      "metadata": {
        "id": "b1gklKlUlOAR",
        "colab_type": "code",
        "colab": {}
      },
      "source": [
        "# Get Pandas Profiling Report\n"
      ],
      "execution_count": 0,
      "outputs": []
    },
    {
      "cell_type": "code",
      "metadata": {
        "id": "UvrJKjvzlOAU",
        "colab_type": "code",
        "colab": {}
      },
      "source": [
        "# Keep just the subset of data for the Tribeca neighborhood\n",
        "# Check how many rows you have now. (Should go down from > 20k rows to 146)\n"
      ],
      "execution_count": 0,
      "outputs": []
    },
    {
      "cell_type": "code",
      "metadata": {
        "id": "uaKwcaDalOAY",
        "colab_type": "code",
        "colab": {}
      },
      "source": [
        "# Q. What's the date range of these property sales in Tribeca?\n"
      ],
      "execution_count": 0,
      "outputs": []
    },
    {
      "cell_type": "code",
      "metadata": {
        "id": "EGfBWa1GlOAd",
        "colab_type": "code",
        "colab": {}
      },
      "source": [
        "# The Pandas Profiling Report showed that SALE_PRICE was read as strings\n",
        "# Convert it to integers\n"
      ],
      "execution_count": 0,
      "outputs": []
    },
    {
      "cell_type": "code",
      "metadata": {
        "id": "hXD28-rjlOAg",
        "colab_type": "code",
        "colab": {}
      },
      "source": [
        "# Q. What is the maximum SALE_PRICE in this dataset?\n"
      ],
      "execution_count": 0,
      "outputs": []
    },
    {
      "cell_type": "code",
      "metadata": {
        "id": "f9a0Zj2nlOAj",
        "colab_type": "code",
        "colab": {}
      },
      "source": [
        "# Look at the row with the max SALE_PRICE\n"
      ],
      "execution_count": 0,
      "outputs": []
    },
    {
      "cell_type": "code",
      "metadata": {
        "id": "kDOVaWOClOAu",
        "colab_type": "code",
        "colab": {}
      },
      "source": [
        "# Get value counts of TOTAL_UNITS\n",
        "# Q. How many property sales were for multiple units?\n"
      ],
      "execution_count": 0,
      "outputs": []
    },
    {
      "cell_type": "code",
      "metadata": {
        "id": "OKrLCHCnlOAx",
        "colab_type": "code",
        "colab": {}
      },
      "source": [
        "# Keep only the single units\n"
      ],
      "execution_count": 0,
      "outputs": []
    },
    {
      "cell_type": "code",
      "metadata": {
        "id": "KPyTy8salOAz",
        "colab_type": "code",
        "colab": {}
      },
      "source": [
        "# Q. Now what is the max sales price? How many square feet does it have?\n"
      ],
      "execution_count": 0,
      "outputs": []
    },
    {
      "cell_type": "code",
      "metadata": {
        "id": "49BrXrl7lOA3",
        "colab_type": "code",
        "colab": {}
      },
      "source": [
        "# Q. How often did $0 sales occur in this subset of the data?\n",
        "\n",
        "# There's a glossary here: \n",
        "# https://www1.nyc.gov/site/finance/taxes/property-rolling-sales-data.page\n",
        "\n",
        "# It says:\n",
        "# A $0 sale indicates that there was a transfer of ownership without a \n",
        "# cash consideration. There can be a number of reasons for a $0 sale including \n",
        "# transfers of ownership from parents to children. \n",
        "\n"
      ],
      "execution_count": 0,
      "outputs": []
    },
    {
      "cell_type": "code",
      "metadata": {
        "id": "rCQ7RriElOA5",
        "colab_type": "code",
        "colab": {}
      },
      "source": [
        "# Look at property sales for > 5,000 square feet\n",
        "# Q. What is the highest square footage you see?\n"
      ],
      "execution_count": 0,
      "outputs": []
    },
    {
      "cell_type": "code",
      "metadata": {
        "id": "ILd1gaPDlOBB",
        "colab_type": "code",
        "colab": {}
      },
      "source": [
        "# What are the building class categories?\n",
        "# How frequently does each occur?\n"
      ],
      "execution_count": 0,
      "outputs": []
    },
    {
      "cell_type": "code",
      "metadata": {
        "id": "t9Ohto9BlOBF",
        "colab_type": "code",
        "colab": {}
      },
      "source": [
        "# Keep subset of rows:\n",
        "# Sale price more than $0, \n",
        "# Building class category = Condos - Elevator Apartments\n",
        "\n",
        "# Check how many rows you have now. (Should be 106 rows.)\n"
      ],
      "execution_count": 0,
      "outputs": []
    },
    {
      "cell_type": "code",
      "metadata": {
        "id": "MBUsaDh8lOBI",
        "colab_type": "code",
        "colab": {}
      },
      "source": [
        "# Make a Plotly Express scatter plot of GROSS_SQUARE_FEET vs SALE_PRICE\n"
      ],
      "execution_count": 0,
      "outputs": []
    },
    {
      "cell_type": "code",
      "metadata": {
        "id": "nYhzmlXzlOBL",
        "colab_type": "code",
        "colab": {}
      },
      "source": [
        "# Add an OLS (Ordinary Least Squares) trendline,\n",
        "# to see how the outliers influence the \"line of best fit\"\n"
      ],
      "execution_count": 0,
      "outputs": []
    },
    {
      "cell_type": "code",
      "metadata": {
        "id": "2LIPghX4lOBO",
        "colab_type": "code",
        "colab": {}
      },
      "source": [
        "# Look at sales for more than $35 million\n",
        "\n",
        "# All are at 70 Vestry Street\n",
        "# All but one have the same SALE_PRICE & SALE_DATE\n",
        "# Was the SALE_PRICE for each? Or in total?\n",
        "# Is this dirty data?\n"
      ],
      "execution_count": 0,
      "outputs": []
    },
    {
      "cell_type": "code",
      "metadata": {
        "id": "20oGdT_flOBQ",
        "colab_type": "code",
        "colab": {}
      },
      "source": [
        "# Make a judgment call:\n",
        "# Keep rows where sale price was < $35 million\n",
        "\n",
        "# Check how many rows you have now. (Should be down to 90 rows.)\n"
      ],
      "execution_count": 0,
      "outputs": []
    },
    {
      "cell_type": "code",
      "metadata": {
        "id": "Oz9rD4wXlOBU",
        "colab_type": "code",
        "colab": {}
      },
      "source": [
        "# Now that you've removed outliers,\n",
        "# Look again at a scatter plot with OLS (Ordinary Least Squares) trendline\n"
      ],
      "execution_count": 0,
      "outputs": []
    },
    {
      "cell_type": "code",
      "metadata": {
        "id": "gZeQ5I_BlOBW",
        "colab_type": "code",
        "colab": {}
      },
      "source": [
        "# Select these columns, then write to a csv file named tribeca.csv. Don't include the index.\n"
      ],
      "execution_count": 0,
      "outputs": []
    }
  ]
}