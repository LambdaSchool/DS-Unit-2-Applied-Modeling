{
 "cells": [
  {
   "cell_type": "markdown",
   "metadata": {},
   "source": [
    "Lambda School Data Science\n",
    "\n",
    "*Unit 2, Sprint 3, Module 2*\n",
    "\n",
    "---\n",
    "\n",
    "\n",
    "# Wrangle ML datasets\n",
    "\n",
    "- [ ] Continue to clean and explore your data. \n",
    "- [ ] For the evaluation metric you chose, what score would you get just by guessing?\n",
    "- [ ] Can you make a fast, first model that beats guessing?\n",
    "\n",
    "**We recommend that you use your portfolio project dataset for all assignments this sprint.**\n",
    "\n",
    "**But if you aren't ready yet, or you want more practice, then use the New York City property sales dataset for today's assignment.** Follow the instructions below, to just keep a subset for the Tribeca neighborhood, and remove outliers or dirty data. [Here's a video walkthrough](https://youtu.be/pPWFw8UtBVg?t=584) you can refer to if you get stuck or want hints!\n",
    "\n",
    "- Data Source: [NYC OpenData: NYC Citywide Rolling Calendar Sales](https://data.cityofnewyork.us/dataset/NYC-Citywide-Rolling-Calendar-Sales/usep-8jbt)\n",
    "- Glossary: [NYC Department of Finance: Rolling Sales Data](https://www1.nyc.gov/site/finance/taxes/property-rolling-sales-data.page)"
   ]
  },
  {
   "cell_type": "code",
   "execution_count": 45,
   "metadata": {},
   "outputs": [],
   "source": [
    "%%capture\n",
    "import sys\n",
    "\n",
    "# If you're on Colab:\n",
    "if 'google.colab' in sys.modules:\n",
    "    DATA_PATH = 'https://raw.githubusercontent.com/LambdaSchool/DS-Unit-2-Applied-Modeling/master/data/'\n",
    "    !pip install category_encoders==2.*\n",
    "    !pip install pandas-profiling==2.*\n",
    "\n",
    "# If you're working locally:\n",
    "else: \n",
    "    DATA_PATH = '../data/'"
   ]
  },
  {
   "cell_type": "code",
   "execution_count": 46,
   "metadata": {},
   "outputs": [],
   "source": [
    "# Read New York City property sales data\n",
    "import pandas as pd\n",
    "df = pd.read_csv(DATA_PATH+'condos/NYC_Citywide_Rolling_Calendar_Sales.csv')"
   ]
  },
  {
   "cell_type": "markdown",
   "metadata": {},
   "source": [
    "Your code starts here:"
   ]
  },
  {
   "cell_type": "code",
   "execution_count": 47,
   "metadata": {},
   "outputs": [
    {
     "output_type": "execute_result",
     "data": {
      "text/plain": "Index(['BOROUGH', 'NEIGHBORHOOD', 'BUILDING_CLASS_CATEGORY',\n       'TAX_CLASS_AT_PRESENT', 'BLOCK', 'LOT', 'EASE-MENT',\n       'BUILDING_CLASS_AT_PRESENT', 'ADDRESS', 'APARTMENT_NUMBER', 'ZIP_CODE',\n       'RESIDENTIAL_UNITS', 'COMMERCIAL_UNITS', 'TOTAL_UNITS',\n       'LAND_SQUARE_FEET', 'GROSS_SQUARE_FEET', 'YEAR_BUILT',\n       'TAX_CLASS_AT_TIME_OF_SALE', 'BUILDING_CLASS_AT_TIME_OF_SALE',\n       'SALE_PRICE', 'SALE_DATE'],\n      dtype='object')"
     },
     "metadata": {},
     "execution_count": 47
    }
   ],
   "source": [
    "# Change column names: replace spaces with underscores\n",
    "df.columns = df.columns.str.replace(\" \", \"_\")\n",
    "df.columns\n"
   ]
  },
  {
   "cell_type": "code",
   "execution_count": 48,
   "metadata": {},
   "outputs": [],
   "source": [
    "# Get Pandas Profiling Report\n",
    "import pandas_profiling\n",
    "#pandas_profiling.ProfileReport(df)"
   ]
  },
  {
   "cell_type": "code",
   "execution_count": 49,
   "metadata": {},
   "outputs": [
    {
     "output_type": "stream",
     "name": "stdout",
     "text": "(146, 21)\n"
    }
   ],
   "source": [
    "# Keep just the subset of data for the Tribeca neighborhood#\n",
    "# Check how many rows you have now. (Should go down from > 20k rows to 146)\n",
    "trib = df.NEIGHBORHOOD == 'TRIBECA'\n",
    "print(df[trib].shape)\n",
    "df= df[trib]"
   ]
  },
  {
   "cell_type": "code",
   "execution_count": 50,
   "metadata": {},
   "outputs": [
    {
     "output_type": "execute_result",
     "data": {
      "text/plain": "(Timestamp('2019-04-30 00:00:00'), Timestamp('2019-01-03 00:00:00'))"
     },
     "metadata": {},
     "execution_count": 50
    }
   ],
   "source": [
    "# Q. What's the date range of these property sales in Tribeca?\n",
    "df['SALE_DATE']= pd.to_datetime(df.SALE_DATE)\n",
    "df.SALE_DATE.max(), df.SALE_DATE.min()"
   ]
  },
  {
   "cell_type": "code",
   "execution_count": 51,
   "metadata": {},
   "outputs": [],
   "source": [
    "# The Pandas Profiling Report showed that SALE_PRICE was read as strings\n",
    "# Convert it to integers\n",
    "df.SALE_PRICE.isnull().sum()\n",
    "df.SALE_PRICE  =df.SALE_PRICE.str.replace(\",\",\"\")\n",
    "df.SALE_PRICE  =df.SALE_PRICE.str.replace(\" \",\"\")\n",
    "df.SALE_PRICE  =df.SALE_PRICE.str.replace(\"$\",\"\")\n",
    "df.SALE_PRICE  =df.SALE_PRICE.str.replace(\"-\",\"\")\n",
    "\n",
    "df.SALE_PRICE = df.SALE_PRICE.astype(int)"
   ]
  },
  {
   "cell_type": "code",
   "execution_count": 52,
   "metadata": {},
   "outputs": [
    {
     "output_type": "execute_result",
     "data": {
      "text/plain": "260000000"
     },
     "metadata": {},
     "execution_count": 52
    }
   ],
   "source": [
    "# Q. What is the maximum SALE_PRICE in this dataset?\n",
    "df.SALE_PRICE.max()\n"
   ]
  },
  {
   "cell_type": "code",
   "execution_count": 53,
   "metadata": {},
   "outputs": [
    {
     "output_type": "execute_result",
     "data": {
      "text/plain": "      BOROUGH NEIGHBORHOOD           BUILDING_CLASS_CATEGORY  \\\n6499        1      TRIBECA  08 RENTALS - ELEVATOR APARTMENTS   \n\n     TAX_CLASS_AT_PRESENT  BLOCK  LOT  EASE-MENT BUILDING_CLASS_AT_PRESENT  \\\n6499                    2    224    1        NaN                        D8   \n\n                   ADDRESS APARTMENT_NUMBER  ...  RESIDENTIAL_UNITS  \\\n6499  34 DESBROSSES STREET              NaN  ...              283.0   \n\n      COMMERCIAL_UNITS  TOTAL_UNITS  LAND_SQUARE_FEET GROSS_SQUARE_FEET  \\\n6499               3.0        286.0            36,858          305542.0   \n\n      YEAR_BUILT  TAX_CLASS_AT_TIME_OF_SALE  BUILDING_CLASS_AT_TIME_OF_SALE  \\\n6499      2007.0                          2                              D8   \n\n     SALE_PRICE  SALE_DATE  \n6499  260000000 2019-02-01  \n\n[1 rows x 21 columns]",
      "text/html": "<div>\n<style scoped>\n    .dataframe tbody tr th:only-of-type {\n        vertical-align: middle;\n    }\n\n    .dataframe tbody tr th {\n        vertical-align: top;\n    }\n\n    .dataframe thead th {\n        text-align: right;\n    }\n</style>\n<table border=\"1\" class=\"dataframe\">\n  <thead>\n    <tr style=\"text-align: right;\">\n      <th></th>\n      <th>BOROUGH</th>\n      <th>NEIGHBORHOOD</th>\n      <th>BUILDING_CLASS_CATEGORY</th>\n      <th>TAX_CLASS_AT_PRESENT</th>\n      <th>BLOCK</th>\n      <th>LOT</th>\n      <th>EASE-MENT</th>\n      <th>BUILDING_CLASS_AT_PRESENT</th>\n      <th>ADDRESS</th>\n      <th>APARTMENT_NUMBER</th>\n      <th>...</th>\n      <th>RESIDENTIAL_UNITS</th>\n      <th>COMMERCIAL_UNITS</th>\n      <th>TOTAL_UNITS</th>\n      <th>LAND_SQUARE_FEET</th>\n      <th>GROSS_SQUARE_FEET</th>\n      <th>YEAR_BUILT</th>\n      <th>TAX_CLASS_AT_TIME_OF_SALE</th>\n      <th>BUILDING_CLASS_AT_TIME_OF_SALE</th>\n      <th>SALE_PRICE</th>\n      <th>SALE_DATE</th>\n    </tr>\n  </thead>\n  <tbody>\n    <tr>\n      <th>6499</th>\n      <td>1</td>\n      <td>TRIBECA</td>\n      <td>08 RENTALS - ELEVATOR APARTMENTS</td>\n      <td>2</td>\n      <td>224</td>\n      <td>1</td>\n      <td>NaN</td>\n      <td>D8</td>\n      <td>34 DESBROSSES STREET</td>\n      <td>NaN</td>\n      <td>...</td>\n      <td>283.0</td>\n      <td>3.0</td>\n      <td>286.0</td>\n      <td>36,858</td>\n      <td>305542.0</td>\n      <td>2007.0</td>\n      <td>2</td>\n      <td>D8</td>\n      <td>260000000</td>\n      <td>2019-02-01</td>\n    </tr>\n  </tbody>\n</table>\n<p>1 rows × 21 columns</p>\n</div>"
     },
     "metadata": {},
     "execution_count": 53
    }
   ],
   "source": [
    "# Look at the row with the max SALE_PRICE\n",
    "df[df.SALE_PRICE == df.SALE_PRICE.max()]"
   ]
  },
  {
   "cell_type": "code",
   "execution_count": 54,
   "metadata": {},
   "outputs": [
    {
     "output_type": "execute_result",
     "data": {
      "text/plain": "302.0"
     },
     "metadata": {},
     "execution_count": 54
    }
   ],
   "source": [
    "# Get value counts of TOTAL_UNITS\n",
    "# Q. How many property sales were for multiple units?\n",
    "import numpy as np\n",
    "df.TOTAL_UNITS.value_counts()\n",
    "np.array(df.TOTAL_UNITS.value_counts().index[df.TOTAL_UNITS.value_counts().index > 1].tolist()).sum()\n"
   ]
  },
  {
   "cell_type": "code",
   "execution_count": 55,
   "metadata": {},
   "outputs": [
    {
     "output_type": "execute_result",
     "data": {
      "text/plain": "(131, 21)"
     },
     "metadata": {},
     "execution_count": 55
    }
   ],
   "source": [
    "# Keep only the single units\n",
    "df = df[df.TOTAL_UNITS == 1]\n",
    "df.shape\n"
   ]
  },
  {
   "cell_type": "code",
   "execution_count": 56,
   "metadata": {},
   "outputs": [
    {
     "output_type": "stream",
     "name": "stdout",
     "text": "max sales price 39285000\n"
    },
    {
     "output_type": "execute_result",
     "data": {
      "text/plain": "9236    8346.0\nName: GROSS_SQUARE_FEET, dtype: float64"
     },
     "metadata": {},
     "execution_count": 56
    }
   ],
   "source": [
    "# Q. Now what is the max sales price? How many square feet does it have?\n",
    "print('max sales price', df.SALE_PRICE.max())\n",
    "df[df.SALE_PRICE == df.SALE_PRICE.max()].GROSS_SQUARE_FEET\n"
   ]
  },
  {
   "cell_type": "code",
   "execution_count": 57,
   "metadata": {},
   "outputs": [
    {
     "output_type": "execute_result",
     "data": {
      "text/plain": "15"
     },
     "metadata": {},
     "execution_count": 57
    }
   ],
   "source": [
    "# Q. How often did $0 sales occur in this subset of the data?\n",
    "df.SALE_PRICE.value_counts().loc[0]\n",
    "# There's a glossary here: \n",
    "# https://www1.nyc.gov/site/finance/taxes/property-rolling-sales-data.page\n",
    "\n",
    "# It says:\n",
    "# A $0 sale indicates that there was a transfer of ownership without a \n",
    "# cash consideration. There can be a number of reasons for a $0 sale including \n",
    "# transfers of ownership from parents to children. \n",
    "\n"
   ]
  },
  {
   "cell_type": "code",
   "execution_count": 58,
   "metadata": {},
   "outputs": [
    {
     "output_type": "execute_result",
     "data": {
      "text/plain": "(       BOROUGH       BLOCK          LOT  EASE-MENT  ZIP_CODE  \\\n count      3.0    3.000000     3.000000        0.0       3.0   \n mean       1.0  193.666667  1451.000000        NaN   10013.0   \n std        0.0   25.403412   265.881553        NaN       0.0   \n min        1.0  179.000000  1144.000000        NaN   10013.0   \n 25%        1.0  179.000000  1373.000000        NaN   10013.0   \n 50%        1.0  179.000000  1602.000000        NaN   10013.0   \n 75%        1.0  201.000000  1604.500000        NaN   10013.0   \n max        1.0  223.000000  1607.000000        NaN   10013.0   \n \n        RESIDENTIAL_UNITS  COMMERCIAL_UNITS  TOTAL_UNITS  GROSS_SQUARE_FEET  \\\n count                3.0               3.0          3.0           3.000000   \n mean                 1.0               0.0          1.0       29160.000000   \n std                  0.0               0.0          0.0       18025.452754   \n min                  1.0               0.0          1.0        8346.000000   \n 25%                  1.0               0.0          1.0       23956.500000   \n 50%                  1.0               0.0          1.0       39567.000000   \n 75%                  1.0               0.0          1.0       39567.000000   \n max                  1.0               0.0          1.0       39567.000000   \n \n         YEAR_BUILT  TAX_CLASS_AT_TIME_OF_SALE    SALE_PRICE  \n count     3.000000                        3.0  3.000000e+00  \n mean   1965.333333                        2.0  1.962003e+07  \n std      43.878620                        0.0  1.703050e+07  \n min    1940.000000                        2.0  9.718000e+06  \n 25%    1940.000000                        2.0  9.787550e+06  \n 50%    1940.000000                        2.0  9.857100e+06  \n 75%    1978.000000                        2.0  2.457105e+07  \n max    2016.000000                        2.0  3.928500e+07  , 39567.0)"
     },
     "metadata": {},
     "execution_count": 58
    }
   ],
   "source": [
    "# Look at property sales for > 5,000 square feet\n",
    "# Q. What is the highest square footage you see?\n",
    "huge =df.GROSS_SQUARE_FEET > 5000\n",
    "df[huge].describe(), df.GROSS_SQUARE_FEET.max()\n"
   ]
  },
  {
   "cell_type": "code",
   "execution_count": 63,
   "metadata": {},
   "outputs": [
    {
     "output_type": "execute_result",
     "data": {
      "text/plain": "13 CONDOS - ELEVATOR APARTMENTS               121\n15 CONDOS - 2-10 UNIT RESIDENTIAL               8\n46 CONDO STORE BUILDINGS                        1\n16 CONDOS - 2-10 UNIT WITH COMMERCIAL UNIT      1\nName: BUILDING_CLASS_CATEGORY, dtype: int64"
     },
     "metadata": {},
     "execution_count": 63
    }
   ],
   "source": [
    "# What are the building class categories?\n",
    "# How frequently does each occur?\n",
    "df.BUILDING_CLASS_CATEGORY.value_counts()"
   ]
  },
  {
   "cell_type": "code",
   "execution_count": 71,
   "metadata": {},
   "outputs": [],
   "source": [
    "# Keep subset of rows:\n",
    "# Sale price more than $0, \n",
    "a = df.SALE_PRICE > 0 \n",
    "# Building class category = Condos - Elevator Apartments\n",
    "b = df.BUILDING_CLASS_CATEGORY == '13 CONDOS - ELEVATOR APARTMENTS'\n",
    "c = a & b\n",
    "# Check how many rows you have now.\n",
    "df[c].shape\n",
    "df= df[c]"
   ]
  },
  {
   "cell_type": "code",
   "execution_count": 72,
   "metadata": {},
   "outputs": [
    {
     "output_type": "display_data",
     "data": {
      "application/vnd.plotly.v1+json": {
       "config": {
        "plotlyServerURL": "https://plot.ly"
       },
       "data": [
        {
         "hovertemplate": "GROSS_SQUARE_FEET=%{x}<br>SALE_PRICE=%{y}<extra></extra>",
         "legendgroup": "",
         "marker": {
          "color": "#636efa",
          "symbol": "circle"
         },
         "mode": "markers",
         "name": "",
         "orientation": "v",
         "showlegend": false,
         "type": "scatter",
         "x": [
          1840,
          1759,
          1190,
          1088,
          873,
          2279,
          695,
          1449,
          2279,
          3227,
          2249,
          4663,
          4986,
          2436,
          1920,
          432,
          2063,
          3208,
          868,
          2279,
          2289,
          3217,
          3500,
          748,
          2409,
          1190,
          1061,
          860,
          2811,
          1650,
          1666,
          4016,
          2279,
          3844,
          1973,
          625,
          1524,
          1054,
          1526,
          875,
          1850,
          1670,
          1906,
          2536,
          2965,
          2445,
          2844,
          3242,
          1906,
          2536,
          2965,
          2445,
          2609,
          2592,
          2592,
          2592,
          1144,
          8346,
          2292,
          2279,
          2964,
          688,
          1661,
          2663,
          634,
          756,
          530,
          1061,
          695,
          2685,
          3243,
          2342,
          2481,
          440,
          1311,
          915,
          647,
          948,
          565,
          1593,
          2300,
          2028,
          1014,
          1359,
          3260,
          830,
          951,
          652,
          3428,
          2311,
          704,
          1580,
          2042,
          638,
          1816,
          2481,
          3201,
          1096,
          2221,
          661,
          814,
          2429,
          1601,
          634,
          939,
          695
         ],
         "xaxis": "x",
         "y": [
          2800000,
          2650000,
          1005000,
          1678000,
          1380000,
          6924100,
          501000,
          2400000,
          9316988,
          10200000,
          4100000,
          7200000,
          13240000,
          4900000,
          3870000,
          640000,
          4750000,
          11648526,
          1090000,
          4400000,
          8909688,
          12376829,
          8000000,
          999500,
          5350000,
          1250000,
          1770000,
          905000,
          6053000,
          3250000,
          5150000,
          12750000,
          9164250,
          6761138,
          4050000,
          1360000,
          2495000,
          1175000,
          2250000,
          1350000,
          3145000,
          36681561,
          36681561,
          36681561,
          36681561,
          36681561,
          36681561,
          36681561,
          36681561,
          36681561,
          36681561,
          36681561,
          36681561,
          36681561,
          36681561,
          36681561,
          1658000,
          39285000,
          3836438,
          6720000,
          15000000,
          1651544,
          3300000,
          5270000,
          858000,
          685000,
          490000,
          1754000,
          475000,
          7722000,
          12142631,
          3700000,
          4800000,
          630000,
          2050000,
          424770,
          496860,
          1275000,
          520000,
          3920263,
          4500000,
          3550000,
          1320000,
          1404586,
          12200000,
          785000,
          1175000,
          982500,
          3850000,
          3400000,
          710000,
          2700000,
          4100000,
          895000,
          3635000,
          4800000,
          12040000,
          1550000,
          4600000,
          750000,
          1150403,
          5761259,
          2600000,
          605000,
          960000,
          975000
         ],
         "yaxis": "y"
        }
       ],
       "layout": {
        "legend": {
         "tracegroupgap": 0
        },
        "margin": {
         "t": 60
        },
        "template": {
         "data": {
          "bar": [
           {
            "error_x": {
             "color": "#2a3f5f"
            },
            "error_y": {
             "color": "#2a3f5f"
            },
            "marker": {
             "line": {
              "color": "#E5ECF6",
              "width": 0.5
             }
            },
            "type": "bar"
           }
          ],
          "barpolar": [
           {
            "marker": {
             "line": {
              "color": "#E5ECF6",
              "width": 0.5
             }
            },
            "type": "barpolar"
           }
          ],
          "carpet": [
           {
            "aaxis": {
             "endlinecolor": "#2a3f5f",
             "gridcolor": "white",
             "linecolor": "white",
             "minorgridcolor": "white",
             "startlinecolor": "#2a3f5f"
            },
            "baxis": {
             "endlinecolor": "#2a3f5f",
             "gridcolor": "white",
             "linecolor": "white",
             "minorgridcolor": "white",
             "startlinecolor": "#2a3f5f"
            },
            "type": "carpet"
           }
          ],
          "choropleth": [
           {
            "colorbar": {
             "outlinewidth": 0,
             "ticks": ""
            },
            "type": "choropleth"
           }
          ],
          "contour": [
           {
            "colorbar": {
             "outlinewidth": 0,
             "ticks": ""
            },
            "colorscale": [
             [
              0,
              "#0d0887"
             ],
             [
              0.1111111111111111,
              "#46039f"
             ],
             [
              0.2222222222222222,
              "#7201a8"
             ],
             [
              0.3333333333333333,
              "#9c179e"
             ],
             [
              0.4444444444444444,
              "#bd3786"
             ],
             [
              0.5555555555555556,
              "#d8576b"
             ],
             [
              0.6666666666666666,
              "#ed7953"
             ],
             [
              0.7777777777777778,
              "#fb9f3a"
             ],
             [
              0.8888888888888888,
              "#fdca26"
             ],
             [
              1,
              "#f0f921"
             ]
            ],
            "type": "contour"
           }
          ],
          "contourcarpet": [
           {
            "colorbar": {
             "outlinewidth": 0,
             "ticks": ""
            },
            "type": "contourcarpet"
           }
          ],
          "heatmap": [
           {
            "colorbar": {
             "outlinewidth": 0,
             "ticks": ""
            },
            "colorscale": [
             [
              0,
              "#0d0887"
             ],
             [
              0.1111111111111111,
              "#46039f"
             ],
             [
              0.2222222222222222,
              "#7201a8"
             ],
             [
              0.3333333333333333,
              "#9c179e"
             ],
             [
              0.4444444444444444,
              "#bd3786"
             ],
             [
              0.5555555555555556,
              "#d8576b"
             ],
             [
              0.6666666666666666,
              "#ed7953"
             ],
             [
              0.7777777777777778,
              "#fb9f3a"
             ],
             [
              0.8888888888888888,
              "#fdca26"
             ],
             [
              1,
              "#f0f921"
             ]
            ],
            "type": "heatmap"
           }
          ],
          "heatmapgl": [
           {
            "colorbar": {
             "outlinewidth": 0,
             "ticks": ""
            },
            "colorscale": [
             [
              0,
              "#0d0887"
             ],
             [
              0.1111111111111111,
              "#46039f"
             ],
             [
              0.2222222222222222,
              "#7201a8"
             ],
             [
              0.3333333333333333,
              "#9c179e"
             ],
             [
              0.4444444444444444,
              "#bd3786"
             ],
             [
              0.5555555555555556,
              "#d8576b"
             ],
             [
              0.6666666666666666,
              "#ed7953"
             ],
             [
              0.7777777777777778,
              "#fb9f3a"
             ],
             [
              0.8888888888888888,
              "#fdca26"
             ],
             [
              1,
              "#f0f921"
             ]
            ],
            "type": "heatmapgl"
           }
          ],
          "histogram": [
           {
            "marker": {
             "colorbar": {
              "outlinewidth": 0,
              "ticks": ""
             }
            },
            "type": "histogram"
           }
          ],
          "histogram2d": [
           {
            "colorbar": {
             "outlinewidth": 0,
             "ticks": ""
            },
            "colorscale": [
             [
              0,
              "#0d0887"
             ],
             [
              0.1111111111111111,
              "#46039f"
             ],
             [
              0.2222222222222222,
              "#7201a8"
             ],
             [
              0.3333333333333333,
              "#9c179e"
             ],
             [
              0.4444444444444444,
              "#bd3786"
             ],
             [
              0.5555555555555556,
              "#d8576b"
             ],
             [
              0.6666666666666666,
              "#ed7953"
             ],
             [
              0.7777777777777778,
              "#fb9f3a"
             ],
             [
              0.8888888888888888,
              "#fdca26"
             ],
             [
              1,
              "#f0f921"
             ]
            ],
            "type": "histogram2d"
           }
          ],
          "histogram2dcontour": [
           {
            "colorbar": {
             "outlinewidth": 0,
             "ticks": ""
            },
            "colorscale": [
             [
              0,
              "#0d0887"
             ],
             [
              0.1111111111111111,
              "#46039f"
             ],
             [
              0.2222222222222222,
              "#7201a8"
             ],
             [
              0.3333333333333333,
              "#9c179e"
             ],
             [
              0.4444444444444444,
              "#bd3786"
             ],
             [
              0.5555555555555556,
              "#d8576b"
             ],
             [
              0.6666666666666666,
              "#ed7953"
             ],
             [
              0.7777777777777778,
              "#fb9f3a"
             ],
             [
              0.8888888888888888,
              "#fdca26"
             ],
             [
              1,
              "#f0f921"
             ]
            ],
            "type": "histogram2dcontour"
           }
          ],
          "mesh3d": [
           {
            "colorbar": {
             "outlinewidth": 0,
             "ticks": ""
            },
            "type": "mesh3d"
           }
          ],
          "parcoords": [
           {
            "line": {
             "colorbar": {
              "outlinewidth": 0,
              "ticks": ""
             }
            },
            "type": "parcoords"
           }
          ],
          "pie": [
           {
            "automargin": true,
            "type": "pie"
           }
          ],
          "scatter": [
           {
            "marker": {
             "colorbar": {
              "outlinewidth": 0,
              "ticks": ""
             }
            },
            "type": "scatter"
           }
          ],
          "scatter3d": [
           {
            "line": {
             "colorbar": {
              "outlinewidth": 0,
              "ticks": ""
             }
            },
            "marker": {
             "colorbar": {
              "outlinewidth": 0,
              "ticks": ""
             }
            },
            "type": "scatter3d"
           }
          ],
          "scattercarpet": [
           {
            "marker": {
             "colorbar": {
              "outlinewidth": 0,
              "ticks": ""
             }
            },
            "type": "scattercarpet"
           }
          ],
          "scattergeo": [
           {
            "marker": {
             "colorbar": {
              "outlinewidth": 0,
              "ticks": ""
             }
            },
            "type": "scattergeo"
           }
          ],
          "scattergl": [
           {
            "marker": {
             "colorbar": {
              "outlinewidth": 0,
              "ticks": ""
             }
            },
            "type": "scattergl"
           }
          ],
          "scattermapbox": [
           {
            "marker": {
             "colorbar": {
              "outlinewidth": 0,
              "ticks": ""
             }
            },
            "type": "scattermapbox"
           }
          ],
          "scatterpolar": [
           {
            "marker": {
             "colorbar": {
              "outlinewidth": 0,
              "ticks": ""
             }
            },
            "type": "scatterpolar"
           }
          ],
          "scatterpolargl": [
           {
            "marker": {
             "colorbar": {
              "outlinewidth": 0,
              "ticks": ""
             }
            },
            "type": "scatterpolargl"
           }
          ],
          "scatterternary": [
           {
            "marker": {
             "colorbar": {
              "outlinewidth": 0,
              "ticks": ""
             }
            },
            "type": "scatterternary"
           }
          ],
          "surface": [
           {
            "colorbar": {
             "outlinewidth": 0,
             "ticks": ""
            },
            "colorscale": [
             [
              0,
              "#0d0887"
             ],
             [
              0.1111111111111111,
              "#46039f"
             ],
             [
              0.2222222222222222,
              "#7201a8"
             ],
             [
              0.3333333333333333,
              "#9c179e"
             ],
             [
              0.4444444444444444,
              "#bd3786"
             ],
             [
              0.5555555555555556,
              "#d8576b"
             ],
             [
              0.6666666666666666,
              "#ed7953"
             ],
             [
              0.7777777777777778,
              "#fb9f3a"
             ],
             [
              0.8888888888888888,
              "#fdca26"
             ],
             [
              1,
              "#f0f921"
             ]
            ],
            "type": "surface"
           }
          ],
          "table": [
           {
            "cells": {
             "fill": {
              "color": "#EBF0F8"
             },
             "line": {
              "color": "white"
             }
            },
            "header": {
             "fill": {
              "color": "#C8D4E3"
             },
             "line": {
              "color": "white"
             }
            },
            "type": "table"
           }
          ]
         },
         "layout": {
          "annotationdefaults": {
           "arrowcolor": "#2a3f5f",
           "arrowhead": 0,
           "arrowwidth": 1
          },
          "coloraxis": {
           "colorbar": {
            "outlinewidth": 0,
            "ticks": ""
           }
          },
          "colorscale": {
           "diverging": [
            [
             0,
             "#8e0152"
            ],
            [
             0.1,
             "#c51b7d"
            ],
            [
             0.2,
             "#de77ae"
            ],
            [
             0.3,
             "#f1b6da"
            ],
            [
             0.4,
             "#fde0ef"
            ],
            [
             0.5,
             "#f7f7f7"
            ],
            [
             0.6,
             "#e6f5d0"
            ],
            [
             0.7,
             "#b8e186"
            ],
            [
             0.8,
             "#7fbc41"
            ],
            [
             0.9,
             "#4d9221"
            ],
            [
             1,
             "#276419"
            ]
           ],
           "sequential": [
            [
             0,
             "#0d0887"
            ],
            [
             0.1111111111111111,
             "#46039f"
            ],
            [
             0.2222222222222222,
             "#7201a8"
            ],
            [
             0.3333333333333333,
             "#9c179e"
            ],
            [
             0.4444444444444444,
             "#bd3786"
            ],
            [
             0.5555555555555556,
             "#d8576b"
            ],
            [
             0.6666666666666666,
             "#ed7953"
            ],
            [
             0.7777777777777778,
             "#fb9f3a"
            ],
            [
             0.8888888888888888,
             "#fdca26"
            ],
            [
             1,
             "#f0f921"
            ]
           ],
           "sequentialminus": [
            [
             0,
             "#0d0887"
            ],
            [
             0.1111111111111111,
             "#46039f"
            ],
            [
             0.2222222222222222,
             "#7201a8"
            ],
            [
             0.3333333333333333,
             "#9c179e"
            ],
            [
             0.4444444444444444,
             "#bd3786"
            ],
            [
             0.5555555555555556,
             "#d8576b"
            ],
            [
             0.6666666666666666,
             "#ed7953"
            ],
            [
             0.7777777777777778,
             "#fb9f3a"
            ],
            [
             0.8888888888888888,
             "#fdca26"
            ],
            [
             1,
             "#f0f921"
            ]
           ]
          },
          "colorway": [
           "#636efa",
           "#EF553B",
           "#00cc96",
           "#ab63fa",
           "#FFA15A",
           "#19d3f3",
           "#FF6692",
           "#B6E880",
           "#FF97FF",
           "#FECB52"
          ],
          "font": {
           "color": "#2a3f5f"
          },
          "geo": {
           "bgcolor": "white",
           "lakecolor": "white",
           "landcolor": "#E5ECF6",
           "showlakes": true,
           "showland": true,
           "subunitcolor": "white"
          },
          "hoverlabel": {
           "align": "left"
          },
          "hovermode": "closest",
          "mapbox": {
           "style": "light"
          },
          "paper_bgcolor": "white",
          "plot_bgcolor": "#E5ECF6",
          "polar": {
           "angularaxis": {
            "gridcolor": "white",
            "linecolor": "white",
            "ticks": ""
           },
           "bgcolor": "#E5ECF6",
           "radialaxis": {
            "gridcolor": "white",
            "linecolor": "white",
            "ticks": ""
           }
          },
          "scene": {
           "xaxis": {
            "backgroundcolor": "#E5ECF6",
            "gridcolor": "white",
            "gridwidth": 2,
            "linecolor": "white",
            "showbackground": true,
            "ticks": "",
            "zerolinecolor": "white"
           },
           "yaxis": {
            "backgroundcolor": "#E5ECF6",
            "gridcolor": "white",
            "gridwidth": 2,
            "linecolor": "white",
            "showbackground": true,
            "ticks": "",
            "zerolinecolor": "white"
           },
           "zaxis": {
            "backgroundcolor": "#E5ECF6",
            "gridcolor": "white",
            "gridwidth": 2,
            "linecolor": "white",
            "showbackground": true,
            "ticks": "",
            "zerolinecolor": "white"
           }
          },
          "shapedefaults": {
           "line": {
            "color": "#2a3f5f"
           }
          },
          "ternary": {
           "aaxis": {
            "gridcolor": "white",
            "linecolor": "white",
            "ticks": ""
           },
           "baxis": {
            "gridcolor": "white",
            "linecolor": "white",
            "ticks": ""
           },
           "bgcolor": "#E5ECF6",
           "caxis": {
            "gridcolor": "white",
            "linecolor": "white",
            "ticks": ""
           }
          },
          "title": {
           "x": 0.05
          },
          "xaxis": {
           "automargin": true,
           "gridcolor": "white",
           "linecolor": "white",
           "ticks": "",
           "title": {
            "standoff": 15
           },
           "zerolinecolor": "white",
           "zerolinewidth": 2
          },
          "yaxis": {
           "automargin": true,
           "gridcolor": "white",
           "linecolor": "white",
           "ticks": "",
           "title": {
            "standoff": 15
           },
           "zerolinecolor": "white",
           "zerolinewidth": 2
          }
         }
        },
        "xaxis": {
         "anchor": "y",
         "domain": [
          0,
          1
         ],
         "title": {
          "text": "GROSS_SQUARE_FEET"
         }
        },
        "yaxis": {
         "anchor": "x",
         "domain": [
          0,
          1
         ],
         "title": {
          "text": "SALE_PRICE"
         }
        }
       }
      }
     },
     "metadata": {}
    }
   ],
   "source": [
    "# Make a Plotly Express scatter plot of GROSS_SQUARE_FEET vs SALE_PRICE\n",
    "import plotly.express as px\n",
    "fig= px.scatter(df, x='GROSS_SQUARE_FEET', y='SALE_PRICE')\n",
    "fig.show()"
   ]
  },
  {
   "cell_type": "code",
   "execution_count": 73,
   "metadata": {},
   "outputs": [
    {
     "output_type": "display_data",
     "data": {
      "application/vnd.plotly.v1+json": {
       "config": {
        "plotlyServerURL": "https://plot.ly"
       },
       "data": [
        {
         "hovertemplate": "GROSS_SQUARE_FEET=%{x}<br>SALE_PRICE=%{y}<extra></extra>",
         "legendgroup": "",
         "marker": {
          "color": "#636efa",
          "symbol": "circle"
         },
         "mode": "markers",
         "name": "",
         "orientation": "v",
         "showlegend": false,
         "type": "scatter",
         "x": [
          1840,
          1759,
          1190,
          1088,
          873,
          2279,
          695,
          1449,
          2279,
          3227,
          2249,
          4663,
          4986,
          2436,
          1920,
          432,
          2063,
          3208,
          868,
          2279,
          2289,
          3217,
          3500,
          748,
          2409,
          1190,
          1061,
          860,
          2811,
          1650,
          1666,
          4016,
          2279,
          3844,
          1973,
          625,
          1524,
          1054,
          1526,
          875,
          1850,
          1670,
          1906,
          2536,
          2965,
          2445,
          2844,
          3242,
          1906,
          2536,
          2965,
          2445,
          2609,
          2592,
          2592,
          2592,
          1144,
          8346,
          2292,
          2279,
          2964,
          688,
          1661,
          2663,
          634,
          756,
          530,
          1061,
          695,
          2685,
          3243,
          2342,
          2481,
          440,
          1311,
          915,
          647,
          948,
          565,
          1593,
          2300,
          2028,
          1014,
          1359,
          3260,
          830,
          951,
          652,
          3428,
          2311,
          704,
          1580,
          2042,
          638,
          1816,
          2481,
          3201,
          1096,
          2221,
          661,
          814,
          2429,
          1601,
          634,
          939,
          695
         ],
         "xaxis": "x",
         "y": [
          2800000,
          2650000,
          1005000,
          1678000,
          1380000,
          6924100,
          501000,
          2400000,
          9316988,
          10200000,
          4100000,
          7200000,
          13240000,
          4900000,
          3870000,
          640000,
          4750000,
          11648526,
          1090000,
          4400000,
          8909688,
          12376829,
          8000000,
          999500,
          5350000,
          1250000,
          1770000,
          905000,
          6053000,
          3250000,
          5150000,
          12750000,
          9164250,
          6761138,
          4050000,
          1360000,
          2495000,
          1175000,
          2250000,
          1350000,
          3145000,
          36681561,
          36681561,
          36681561,
          36681561,
          36681561,
          36681561,
          36681561,
          36681561,
          36681561,
          36681561,
          36681561,
          36681561,
          36681561,
          36681561,
          36681561,
          1658000,
          39285000,
          3836438,
          6720000,
          15000000,
          1651544,
          3300000,
          5270000,
          858000,
          685000,
          490000,
          1754000,
          475000,
          7722000,
          12142631,
          3700000,
          4800000,
          630000,
          2050000,
          424770,
          496860,
          1275000,
          520000,
          3920263,
          4500000,
          3550000,
          1320000,
          1404586,
          12200000,
          785000,
          1175000,
          982500,
          3850000,
          3400000,
          710000,
          2700000,
          4100000,
          895000,
          3635000,
          4800000,
          12040000,
          1550000,
          4600000,
          750000,
          1150403,
          5761259,
          2600000,
          605000,
          960000,
          975000
         ],
         "yaxis": "y"
        },
        {
         "hovertemplate": "<b>OLS trendline</b><br>SALE_PRICE = 5561.44 * GROSS_SQUARE_FEET + -1.86705e+06<br>R<sup>2</sup>=0.279766<br><br>GROSS_SQUARE_FEET=%{x}<br>SALE_PRICE=%{y} <b>(trend)</b><extra></extra>",
         "legendgroup": "",
         "marker": {
          "color": "#636efa",
          "symbol": "circle"
         },
         "mode": "lines",
         "name": "",
         "showlegend": false,
         "type": "scatter",
         "x": [
          432,
          440,
          530,
          565,
          625,
          634,
          634,
          638,
          647,
          652,
          661,
          688,
          695,
          695,
          695,
          704,
          748,
          756,
          814,
          830,
          860,
          868,
          873,
          875,
          915,
          939,
          948,
          951,
          1014,
          1054,
          1061,
          1061,
          1088,
          1096,
          1144,
          1190,
          1190,
          1311,
          1359,
          1449,
          1524,
          1526,
          1580,
          1593,
          1601,
          1650,
          1661,
          1666,
          1670,
          1759,
          1816,
          1840,
          1850,
          1906,
          1906,
          1920,
          1973,
          2028,
          2042,
          2063,
          2221,
          2249,
          2279,
          2279,
          2279,
          2279,
          2279,
          2289,
          2292,
          2300,
          2311,
          2342,
          2409,
          2429,
          2436,
          2445,
          2445,
          2481,
          2481,
          2536,
          2536,
          2592,
          2592,
          2592,
          2609,
          2663,
          2685,
          2811,
          2844,
          2964,
          2965,
          2965,
          3201,
          3208,
          3217,
          3227,
          3242,
          3243,
          3260,
          3428,
          3500,
          3844,
          4016,
          4663,
          4986,
          8346
         ],
         "xaxis": "x",
         "y": [
          535496.0871257719,
          579987.5995221136,
          1080517.1139809557,
          1275167.4807149495,
          1608853.8236875113,
          1658906.7751333953,
          1658906.7751333953,
          1681152.531331566,
          1731205.4827774505,
          1759012.678025164,
          1809065.629471048,
          1959224.4838087007,
          1998154.5571554995,
          1998154.5571554995,
          1998154.5571554995,
          2048207.5086013835,
          2292910.8267812617,
          2337402.339177604,
          2659965.80405108,
          2748948.828843763,
          2915792.000330044,
          2960283.512726385,
          2988090.7079740986,
          2999213.5860731844,
          3221671.1480548913,
          3355145.6852439158,
          3405198.636689801,
          3421882.9538384285,
          3772253.613959618,
          3994711.1759413257,
          4033641.249288124,
          4033641.249288124,
          4183800.103625777,
          4228291.616022118,
          4495240.690400167,
          4751066.886679132,
          4751066.886679132,
          5424001.011673797,
          5690950.086051846,
          6191479.6005106885,
          6608587.529226391,
          6619710.407325476,
          6920028.116000781,
          6992326.8236448355,
          7036818.336041177,
          7309328.8494687695,
          7370504.679013738,
          7398311.874261452,
          7420557.630459623,
          7915525.705868922,
          8232527.731692856,
          8366002.26888188,
          8421616.659377307,
          8733057.246151699,
          8733057.246151699,
          8810917.392845295,
          9105673.662471058,
          9411552.810195906,
          9489412.956889505,
          9606203.1769299,
          10484910.546757646,
          10640630.840144841,
          10807474.011631122,
          10807474.011631122,
          10807474.011631122,
          10807474.011631122,
          10807474.011631122,
          10863088.402126549,
          10879772.719275177,
          10924264.231671518,
          10985440.061216488,
          11157844.671752311,
          11530461.08807167,
          11641689.869062524,
          11680619.942409324,
          11730672.893855209,
          11730672.893855209,
          11930884.699638745,
          11930884.699638745,
          12236763.847363593,
          12236763.847363593,
          12548204.434137983,
          12548204.434137983,
          12548204.434137983,
          12642748.89798021,
          12943066.606655514,
          13065418.265745454,
          13766159.585987832,
          13949687.074622741,
          14617059.760567864,
          14622621.199617406,
          14622621.199617406,
          15935120.815309482,
          15974050.888656283,
          16024103.840102164,
          16079718.230597591,
          16163139.816340731,
          16168701.255390273,
          16263245.719232501,
          17197567.47955567,
          17597991.091122746,
          19511126.12416543,
          20467693.640686773,
          24065944.705740895,
          25862289.518743183,
          44548724.72520662
         ],
         "yaxis": "y"
        }
       ],
       "layout": {
        "legend": {
         "tracegroupgap": 0
        },
        "margin": {
         "t": 60
        },
        "template": {
         "data": {
          "bar": [
           {
            "error_x": {
             "color": "#2a3f5f"
            },
            "error_y": {
             "color": "#2a3f5f"
            },
            "marker": {
             "line": {
              "color": "#E5ECF6",
              "width": 0.5
             }
            },
            "type": "bar"
           }
          ],
          "barpolar": [
           {
            "marker": {
             "line": {
              "color": "#E5ECF6",
              "width": 0.5
             }
            },
            "type": "barpolar"
           }
          ],
          "carpet": [
           {
            "aaxis": {
             "endlinecolor": "#2a3f5f",
             "gridcolor": "white",
             "linecolor": "white",
             "minorgridcolor": "white",
             "startlinecolor": "#2a3f5f"
            },
            "baxis": {
             "endlinecolor": "#2a3f5f",
             "gridcolor": "white",
             "linecolor": "white",
             "minorgridcolor": "white",
             "startlinecolor": "#2a3f5f"
            },
            "type": "carpet"
           }
          ],
          "choropleth": [
           {
            "colorbar": {
             "outlinewidth": 0,
             "ticks": ""
            },
            "type": "choropleth"
           }
          ],
          "contour": [
           {
            "colorbar": {
             "outlinewidth": 0,
             "ticks": ""
            },
            "colorscale": [
             [
              0,
              "#0d0887"
             ],
             [
              0.1111111111111111,
              "#46039f"
             ],
             [
              0.2222222222222222,
              "#7201a8"
             ],
             [
              0.3333333333333333,
              "#9c179e"
             ],
             [
              0.4444444444444444,
              "#bd3786"
             ],
             [
              0.5555555555555556,
              "#d8576b"
             ],
             [
              0.6666666666666666,
              "#ed7953"
             ],
             [
              0.7777777777777778,
              "#fb9f3a"
             ],
             [
              0.8888888888888888,
              "#fdca26"
             ],
             [
              1,
              "#f0f921"
             ]
            ],
            "type": "contour"
           }
          ],
          "contourcarpet": [
           {
            "colorbar": {
             "outlinewidth": 0,
             "ticks": ""
            },
            "type": "contourcarpet"
           }
          ],
          "heatmap": [
           {
            "colorbar": {
             "outlinewidth": 0,
             "ticks": ""
            },
            "colorscale": [
             [
              0,
              "#0d0887"
             ],
             [
              0.1111111111111111,
              "#46039f"
             ],
             [
              0.2222222222222222,
              "#7201a8"
             ],
             [
              0.3333333333333333,
              "#9c179e"
             ],
             [
              0.4444444444444444,
              "#bd3786"
             ],
             [
              0.5555555555555556,
              "#d8576b"
             ],
             [
              0.6666666666666666,
              "#ed7953"
             ],
             [
              0.7777777777777778,
              "#fb9f3a"
             ],
             [
              0.8888888888888888,
              "#fdca26"
             ],
             [
              1,
              "#f0f921"
             ]
            ],
            "type": "heatmap"
           }
          ],
          "heatmapgl": [
           {
            "colorbar": {
             "outlinewidth": 0,
             "ticks": ""
            },
            "colorscale": [
             [
              0,
              "#0d0887"
             ],
             [
              0.1111111111111111,
              "#46039f"
             ],
             [
              0.2222222222222222,
              "#7201a8"
             ],
             [
              0.3333333333333333,
              "#9c179e"
             ],
             [
              0.4444444444444444,
              "#bd3786"
             ],
             [
              0.5555555555555556,
              "#d8576b"
             ],
             [
              0.6666666666666666,
              "#ed7953"
             ],
             [
              0.7777777777777778,
              "#fb9f3a"
             ],
             [
              0.8888888888888888,
              "#fdca26"
             ],
             [
              1,
              "#f0f921"
             ]
            ],
            "type": "heatmapgl"
           }
          ],
          "histogram": [
           {
            "marker": {
             "colorbar": {
              "outlinewidth": 0,
              "ticks": ""
             }
            },
            "type": "histogram"
           }
          ],
          "histogram2d": [
           {
            "colorbar": {
             "outlinewidth": 0,
             "ticks": ""
            },
            "colorscale": [
             [
              0,
              "#0d0887"
             ],
             [
              0.1111111111111111,
              "#46039f"
             ],
             [
              0.2222222222222222,
              "#7201a8"
             ],
             [
              0.3333333333333333,
              "#9c179e"
             ],
             [
              0.4444444444444444,
              "#bd3786"
             ],
             [
              0.5555555555555556,
              "#d8576b"
             ],
             [
              0.6666666666666666,
              "#ed7953"
             ],
             [
              0.7777777777777778,
              "#fb9f3a"
             ],
             [
              0.8888888888888888,
              "#fdca26"
             ],
             [
              1,
              "#f0f921"
             ]
            ],
            "type": "histogram2d"
           }
          ],
          "histogram2dcontour": [
           {
            "colorbar": {
             "outlinewidth": 0,
             "ticks": ""
            },
            "colorscale": [
             [
              0,
              "#0d0887"
             ],
             [
              0.1111111111111111,
              "#46039f"
             ],
             [
              0.2222222222222222,
              "#7201a8"
             ],
             [
              0.3333333333333333,
              "#9c179e"
             ],
             [
              0.4444444444444444,
              "#bd3786"
             ],
             [
              0.5555555555555556,
              "#d8576b"
             ],
             [
              0.6666666666666666,
              "#ed7953"
             ],
             [
              0.7777777777777778,
              "#fb9f3a"
             ],
             [
              0.8888888888888888,
              "#fdca26"
             ],
             [
              1,
              "#f0f921"
             ]
            ],
            "type": "histogram2dcontour"
           }
          ],
          "mesh3d": [
           {
            "colorbar": {
             "outlinewidth": 0,
             "ticks": ""
            },
            "type": "mesh3d"
           }
          ],
          "parcoords": [
           {
            "line": {
             "colorbar": {
              "outlinewidth": 0,
              "ticks": ""
             }
            },
            "type": "parcoords"
           }
          ],
          "pie": [
           {
            "automargin": true,
            "type": "pie"
           }
          ],
          "scatter": [
           {
            "marker": {
             "colorbar": {
              "outlinewidth": 0,
              "ticks": ""
             }
            },
            "type": "scatter"
           }
          ],
          "scatter3d": [
           {
            "line": {
             "colorbar": {
              "outlinewidth": 0,
              "ticks": ""
             }
            },
            "marker": {
             "colorbar": {
              "outlinewidth": 0,
              "ticks": ""
             }
            },
            "type": "scatter3d"
           }
          ],
          "scattercarpet": [
           {
            "marker": {
             "colorbar": {
              "outlinewidth": 0,
              "ticks": ""
             }
            },
            "type": "scattercarpet"
           }
          ],
          "scattergeo": [
           {
            "marker": {
             "colorbar": {
              "outlinewidth": 0,
              "ticks": ""
             }
            },
            "type": "scattergeo"
           }
          ],
          "scattergl": [
           {
            "marker": {
             "colorbar": {
              "outlinewidth": 0,
              "ticks": ""
             }
            },
            "type": "scattergl"
           }
          ],
          "scattermapbox": [
           {
            "marker": {
             "colorbar": {
              "outlinewidth": 0,
              "ticks": ""
             }
            },
            "type": "scattermapbox"
           }
          ],
          "scatterpolar": [
           {
            "marker": {
             "colorbar": {
              "outlinewidth": 0,
              "ticks": ""
             }
            },
            "type": "scatterpolar"
           }
          ],
          "scatterpolargl": [
           {
            "marker": {
             "colorbar": {
              "outlinewidth": 0,
              "ticks": ""
             }
            },
            "type": "scatterpolargl"
           }
          ],
          "scatterternary": [
           {
            "marker": {
             "colorbar": {
              "outlinewidth": 0,
              "ticks": ""
             }
            },
            "type": "scatterternary"
           }
          ],
          "surface": [
           {
            "colorbar": {
             "outlinewidth": 0,
             "ticks": ""
            },
            "colorscale": [
             [
              0,
              "#0d0887"
             ],
             [
              0.1111111111111111,
              "#46039f"
             ],
             [
              0.2222222222222222,
              "#7201a8"
             ],
             [
              0.3333333333333333,
              "#9c179e"
             ],
             [
              0.4444444444444444,
              "#bd3786"
             ],
             [
              0.5555555555555556,
              "#d8576b"
             ],
             [
              0.6666666666666666,
              "#ed7953"
             ],
             [
              0.7777777777777778,
              "#fb9f3a"
             ],
             [
              0.8888888888888888,
              "#fdca26"
             ],
             [
              1,
              "#f0f921"
             ]
            ],
            "type": "surface"
           }
          ],
          "table": [
           {
            "cells": {
             "fill": {
              "color": "#EBF0F8"
             },
             "line": {
              "color": "white"
             }
            },
            "header": {
             "fill": {
              "color": "#C8D4E3"
             },
             "line": {
              "color": "white"
             }
            },
            "type": "table"
           }
          ]
         },
         "layout": {
          "annotationdefaults": {
           "arrowcolor": "#2a3f5f",
           "arrowhead": 0,
           "arrowwidth": 1
          },
          "coloraxis": {
           "colorbar": {
            "outlinewidth": 0,
            "ticks": ""
           }
          },
          "colorscale": {
           "diverging": [
            [
             0,
             "#8e0152"
            ],
            [
             0.1,
             "#c51b7d"
            ],
            [
             0.2,
             "#de77ae"
            ],
            [
             0.3,
             "#f1b6da"
            ],
            [
             0.4,
             "#fde0ef"
            ],
            [
             0.5,
             "#f7f7f7"
            ],
            [
             0.6,
             "#e6f5d0"
            ],
            [
             0.7,
             "#b8e186"
            ],
            [
             0.8,
             "#7fbc41"
            ],
            [
             0.9,
             "#4d9221"
            ],
            [
             1,
             "#276419"
            ]
           ],
           "sequential": [
            [
             0,
             "#0d0887"
            ],
            [
             0.1111111111111111,
             "#46039f"
            ],
            [
             0.2222222222222222,
             "#7201a8"
            ],
            [
             0.3333333333333333,
             "#9c179e"
            ],
            [
             0.4444444444444444,
             "#bd3786"
            ],
            [
             0.5555555555555556,
             "#d8576b"
            ],
            [
             0.6666666666666666,
             "#ed7953"
            ],
            [
             0.7777777777777778,
             "#fb9f3a"
            ],
            [
             0.8888888888888888,
             "#fdca26"
            ],
            [
             1,
             "#f0f921"
            ]
           ],
           "sequentialminus": [
            [
             0,
             "#0d0887"
            ],
            [
             0.1111111111111111,
             "#46039f"
            ],
            [
             0.2222222222222222,
             "#7201a8"
            ],
            [
             0.3333333333333333,
             "#9c179e"
            ],
            [
             0.4444444444444444,
             "#bd3786"
            ],
            [
             0.5555555555555556,
             "#d8576b"
            ],
            [
             0.6666666666666666,
             "#ed7953"
            ],
            [
             0.7777777777777778,
             "#fb9f3a"
            ],
            [
             0.8888888888888888,
             "#fdca26"
            ],
            [
             1,
             "#f0f921"
            ]
           ]
          },
          "colorway": [
           "#636efa",
           "#EF553B",
           "#00cc96",
           "#ab63fa",
           "#FFA15A",
           "#19d3f3",
           "#FF6692",
           "#B6E880",
           "#FF97FF",
           "#FECB52"
          ],
          "font": {
           "color": "#2a3f5f"
          },
          "geo": {
           "bgcolor": "white",
           "lakecolor": "white",
           "landcolor": "#E5ECF6",
           "showlakes": true,
           "showland": true,
           "subunitcolor": "white"
          },
          "hoverlabel": {
           "align": "left"
          },
          "hovermode": "closest",
          "mapbox": {
           "style": "light"
          },
          "paper_bgcolor": "white",
          "plot_bgcolor": "#E5ECF6",
          "polar": {
           "angularaxis": {
            "gridcolor": "white",
            "linecolor": "white",
            "ticks": ""
           },
           "bgcolor": "#E5ECF6",
           "radialaxis": {
            "gridcolor": "white",
            "linecolor": "white",
            "ticks": ""
           }
          },
          "scene": {
           "xaxis": {
            "backgroundcolor": "#E5ECF6",
            "gridcolor": "white",
            "gridwidth": 2,
            "linecolor": "white",
            "showbackground": true,
            "ticks": "",
            "zerolinecolor": "white"
           },
           "yaxis": {
            "backgroundcolor": "#E5ECF6",
            "gridcolor": "white",
            "gridwidth": 2,
            "linecolor": "white",
            "showbackground": true,
            "ticks": "",
            "zerolinecolor": "white"
           },
           "zaxis": {
            "backgroundcolor": "#E5ECF6",
            "gridcolor": "white",
            "gridwidth": 2,
            "linecolor": "white",
            "showbackground": true,
            "ticks": "",
            "zerolinecolor": "white"
           }
          },
          "shapedefaults": {
           "line": {
            "color": "#2a3f5f"
           }
          },
          "ternary": {
           "aaxis": {
            "gridcolor": "white",
            "linecolor": "white",
            "ticks": ""
           },
           "baxis": {
            "gridcolor": "white",
            "linecolor": "white",
            "ticks": ""
           },
           "bgcolor": "#E5ECF6",
           "caxis": {
            "gridcolor": "white",
            "linecolor": "white",
            "ticks": ""
           }
          },
          "title": {
           "x": 0.05
          },
          "xaxis": {
           "automargin": true,
           "gridcolor": "white",
           "linecolor": "white",
           "ticks": "",
           "title": {
            "standoff": 15
           },
           "zerolinecolor": "white",
           "zerolinewidth": 2
          },
          "yaxis": {
           "automargin": true,
           "gridcolor": "white",
           "linecolor": "white",
           "ticks": "",
           "title": {
            "standoff": 15
           },
           "zerolinecolor": "white",
           "zerolinewidth": 2
          }
         }
        },
        "xaxis": {
         "anchor": "y",
         "domain": [
          0,
          1
         ],
         "title": {
          "text": "GROSS_SQUARE_FEET"
         }
        },
        "yaxis": {
         "anchor": "x",
         "domain": [
          0,
          1
         ],
         "title": {
          "text": "SALE_PRICE"
         }
        }
       }
      }
     },
     "metadata": {}
    }
   ],
   "source": [
    "# Add an OLS (Ordinary Least Squares) trendline,\n",
    "# to see how the outliers influence the \"line of best fit\"\n",
    "fig= px.scatter(df, x='GROSS_SQUARE_FEET', y='SALE_PRICE',trendline='ols')\n",
    "fig.show()"
   ]
  },
  {
   "cell_type": "code",
   "execution_count": 74,
   "metadata": {},
   "outputs": [
    {
     "output_type": "execute_result",
     "data": {
      "text/plain": "      BOROUGH NEIGHBORHOOD          BUILDING_CLASS_CATEGORY  \\\n8370        1      TRIBECA  13 CONDOS - ELEVATOR APARTMENTS   \n8371        1      TRIBECA  13 CONDOS - ELEVATOR APARTMENTS   \n8372        1      TRIBECA  13 CONDOS - ELEVATOR APARTMENTS   \n8373        1      TRIBECA  13 CONDOS - ELEVATOR APARTMENTS   \n8374        1      TRIBECA  13 CONDOS - ELEVATOR APARTMENTS   \n8375        1      TRIBECA  13 CONDOS - ELEVATOR APARTMENTS   \n8376        1      TRIBECA  13 CONDOS - ELEVATOR APARTMENTS   \n8377        1      TRIBECA  13 CONDOS - ELEVATOR APARTMENTS   \n8378        1      TRIBECA  13 CONDOS - ELEVATOR APARTMENTS   \n8379        1      TRIBECA  13 CONDOS - ELEVATOR APARTMENTS   \n8380        1      TRIBECA  13 CONDOS - ELEVATOR APARTMENTS   \n8381        1      TRIBECA  13 CONDOS - ELEVATOR APARTMENTS   \n8382        1      TRIBECA  13 CONDOS - ELEVATOR APARTMENTS   \n8383        1      TRIBECA  13 CONDOS - ELEVATOR APARTMENTS   \n8384        1      TRIBECA  13 CONDOS - ELEVATOR APARTMENTS   \n9236        1      TRIBECA  13 CONDOS - ELEVATOR APARTMENTS   \n\n     TAX_CLASS_AT_PRESENT  BLOCK   LOT  EASE-MENT BUILDING_CLASS_AT_PRESENT  \\\n8370                    2    223  1105        NaN                        R4   \n8371                    2    223  1123        NaN                        R4   \n8372                    2    223  1124        NaN                        R4   \n8373                    2    223  1125        NaN                        R4   \n8374                    2    223  1126        NaN                        R4   \n8375                    2    223  1127        NaN                        R4   \n8376                    2    223  1128        NaN                        R4   \n8377                    2    223  1129        NaN                        R4   \n8378                    2    223  1130        NaN                        R4   \n8379                    2    223  1131        NaN                        R4   \n8380                    2    223  1132        NaN                        R4   \n8381                    2    223  1134        NaN                        R4   \n8382                    2    223  1137        NaN                        R4   \n8383                    2    223  1140        NaN                        R4   \n8384                    2    223  1143        NaN                        R4   \n9236                    2    223  1144        NaN                        R4   \n\n                    ADDRESS APARTMENT_NUMBER  ...  RESIDENTIAL_UNITS  \\\n8370   70 VESTRY STREET, 3C               3C  ...                1.0   \n8371   70 VESTRY STREET, 6C               6C  ...                1.0   \n8372   70 VESTRY STREET, 6D               6D  ...                1.0   \n8373   70 VESTRY STREET, 6E               6E  ...                1.0   \n8374   70 VESTRY STREET, 6F               6F  ...                1.0   \n8375   70 VESTRY STREET, 7A               7A  ...                1.0   \n8376   70 VESTRY STREET, 7B               7B  ...                1.0   \n8377   70 VESTRY STREET, 7C               7C  ...                1.0   \n8378   70 VESTRY STREET, 7D               7D  ...                1.0   \n8379   70 VESTRY STREET, 7E               7E  ...                1.0   \n8380   70 VESTRY STREET, 7F               7F  ...                1.0   \n8381   70 VESTRY STREET, 8W               8W  ...                1.0   \n8382   70 VESTRY STREET, 9W               9W  ...                1.0   \n8383  70 VESTRY STREET, 10W              10W  ...                1.0   \n8384  70 VESTRY STREET, 11W              11W  ...                1.0   \n9236  70 VESTRY STREET, 12S              12S  ...                1.0   \n\n      COMMERCIAL_UNITS  TOTAL_UNITS  LAND_SQUARE_FEET GROSS_SQUARE_FEET  \\\n8370               0.0          1.0                 0            1670.0   \n8371               0.0          1.0                 0            1906.0   \n8372               0.0          1.0                 0            2536.0   \n8373               0.0          1.0                 0            2965.0   \n8374               0.0          1.0                 0            2445.0   \n8375               0.0          1.0                 0            2844.0   \n8376               0.0          1.0                 0            3242.0   \n8377               0.0          1.0                 0            1906.0   \n8378               0.0          1.0                 0            2536.0   \n8379               0.0          1.0                 0            2965.0   \n8380               0.0          1.0                 0            2445.0   \n8381               0.0          1.0                 0            2609.0   \n8382               0.0          1.0                 0            2592.0   \n8383               0.0          1.0                 0            2592.0   \n8384               0.0          1.0                 0            2592.0   \n9236               0.0          1.0                 0            8346.0   \n\n      YEAR_BUILT  TAX_CLASS_AT_TIME_OF_SALE  BUILDING_CLASS_AT_TIME_OF_SALE  \\\n8370      2016.0                          2                              R4   \n8371      2016.0                          2                              R4   \n8372      2016.0                          2                              R4   \n8373      2016.0                          2                              R4   \n8374      2016.0                          2                              R4   \n8375      2016.0                          2                              R4   \n8376      2016.0                          2                              R4   \n8377      2016.0                          2                              R4   \n8378      2016.0                          2                              R4   \n8379      2016.0                          2                              R4   \n8380      2016.0                          2                              R4   \n8381      2016.0                          2                              R4   \n8382      2016.0                          2                              R4   \n8383      2016.0                          2                              R4   \n8384      2016.0                          2                              R4   \n9236      2016.0                          2                              R4   \n\n     SALE_PRICE  SALE_DATE  \n8370   36681561 2019-02-12  \n8371   36681561 2019-02-12  \n8372   36681561 2019-02-12  \n8373   36681561 2019-02-12  \n8374   36681561 2019-02-12  \n8375   36681561 2019-02-12  \n8376   36681561 2019-02-12  \n8377   36681561 2019-02-12  \n8378   36681561 2019-02-12  \n8379   36681561 2019-02-12  \n8380   36681561 2019-02-12  \n8381   36681561 2019-02-12  \n8382   36681561 2019-02-12  \n8383   36681561 2019-02-12  \n8384   36681561 2019-02-12  \n9236   39285000 2019-02-15  \n\n[16 rows x 21 columns]",
      "text/html": "<div>\n<style scoped>\n    .dataframe tbody tr th:only-of-type {\n        vertical-align: middle;\n    }\n\n    .dataframe tbody tr th {\n        vertical-align: top;\n    }\n\n    .dataframe thead th {\n        text-align: right;\n    }\n</style>\n<table border=\"1\" class=\"dataframe\">\n  <thead>\n    <tr style=\"text-align: right;\">\n      <th></th>\n      <th>BOROUGH</th>\n      <th>NEIGHBORHOOD</th>\n      <th>BUILDING_CLASS_CATEGORY</th>\n      <th>TAX_CLASS_AT_PRESENT</th>\n      <th>BLOCK</th>\n      <th>LOT</th>\n      <th>EASE-MENT</th>\n      <th>BUILDING_CLASS_AT_PRESENT</th>\n      <th>ADDRESS</th>\n      <th>APARTMENT_NUMBER</th>\n      <th>...</th>\n      <th>RESIDENTIAL_UNITS</th>\n      <th>COMMERCIAL_UNITS</th>\n      <th>TOTAL_UNITS</th>\n      <th>LAND_SQUARE_FEET</th>\n      <th>GROSS_SQUARE_FEET</th>\n      <th>YEAR_BUILT</th>\n      <th>TAX_CLASS_AT_TIME_OF_SALE</th>\n      <th>BUILDING_CLASS_AT_TIME_OF_SALE</th>\n      <th>SALE_PRICE</th>\n      <th>SALE_DATE</th>\n    </tr>\n  </thead>\n  <tbody>\n    <tr>\n      <th>8370</th>\n      <td>1</td>\n      <td>TRIBECA</td>\n      <td>13 CONDOS - ELEVATOR APARTMENTS</td>\n      <td>2</td>\n      <td>223</td>\n      <td>1105</td>\n      <td>NaN</td>\n      <td>R4</td>\n      <td>70 VESTRY STREET, 3C</td>\n      <td>3C</td>\n      <td>...</td>\n      <td>1.0</td>\n      <td>0.0</td>\n      <td>1.0</td>\n      <td>0</td>\n      <td>1670.0</td>\n      <td>2016.0</td>\n      <td>2</td>\n      <td>R4</td>\n      <td>36681561</td>\n      <td>2019-02-12</td>\n    </tr>\n    <tr>\n      <th>8371</th>\n      <td>1</td>\n      <td>TRIBECA</td>\n      <td>13 CONDOS - ELEVATOR APARTMENTS</td>\n      <td>2</td>\n      <td>223</td>\n      <td>1123</td>\n      <td>NaN</td>\n      <td>R4</td>\n      <td>70 VESTRY STREET, 6C</td>\n      <td>6C</td>\n      <td>...</td>\n      <td>1.0</td>\n      <td>0.0</td>\n      <td>1.0</td>\n      <td>0</td>\n      <td>1906.0</td>\n      <td>2016.0</td>\n      <td>2</td>\n      <td>R4</td>\n      <td>36681561</td>\n      <td>2019-02-12</td>\n    </tr>\n    <tr>\n      <th>8372</th>\n      <td>1</td>\n      <td>TRIBECA</td>\n      <td>13 CONDOS - ELEVATOR APARTMENTS</td>\n      <td>2</td>\n      <td>223</td>\n      <td>1124</td>\n      <td>NaN</td>\n      <td>R4</td>\n      <td>70 VESTRY STREET, 6D</td>\n      <td>6D</td>\n      <td>...</td>\n      <td>1.0</td>\n      <td>0.0</td>\n      <td>1.0</td>\n      <td>0</td>\n      <td>2536.0</td>\n      <td>2016.0</td>\n      <td>2</td>\n      <td>R4</td>\n      <td>36681561</td>\n      <td>2019-02-12</td>\n    </tr>\n    <tr>\n      <th>8373</th>\n      <td>1</td>\n      <td>TRIBECA</td>\n      <td>13 CONDOS - ELEVATOR APARTMENTS</td>\n      <td>2</td>\n      <td>223</td>\n      <td>1125</td>\n      <td>NaN</td>\n      <td>R4</td>\n      <td>70 VESTRY STREET, 6E</td>\n      <td>6E</td>\n      <td>...</td>\n      <td>1.0</td>\n      <td>0.0</td>\n      <td>1.0</td>\n      <td>0</td>\n      <td>2965.0</td>\n      <td>2016.0</td>\n      <td>2</td>\n      <td>R4</td>\n      <td>36681561</td>\n      <td>2019-02-12</td>\n    </tr>\n    <tr>\n      <th>8374</th>\n      <td>1</td>\n      <td>TRIBECA</td>\n      <td>13 CONDOS - ELEVATOR APARTMENTS</td>\n      <td>2</td>\n      <td>223</td>\n      <td>1126</td>\n      <td>NaN</td>\n      <td>R4</td>\n      <td>70 VESTRY STREET, 6F</td>\n      <td>6F</td>\n      <td>...</td>\n      <td>1.0</td>\n      <td>0.0</td>\n      <td>1.0</td>\n      <td>0</td>\n      <td>2445.0</td>\n      <td>2016.0</td>\n      <td>2</td>\n      <td>R4</td>\n      <td>36681561</td>\n      <td>2019-02-12</td>\n    </tr>\n    <tr>\n      <th>8375</th>\n      <td>1</td>\n      <td>TRIBECA</td>\n      <td>13 CONDOS - ELEVATOR APARTMENTS</td>\n      <td>2</td>\n      <td>223</td>\n      <td>1127</td>\n      <td>NaN</td>\n      <td>R4</td>\n      <td>70 VESTRY STREET, 7A</td>\n      <td>7A</td>\n      <td>...</td>\n      <td>1.0</td>\n      <td>0.0</td>\n      <td>1.0</td>\n      <td>0</td>\n      <td>2844.0</td>\n      <td>2016.0</td>\n      <td>2</td>\n      <td>R4</td>\n      <td>36681561</td>\n      <td>2019-02-12</td>\n    </tr>\n    <tr>\n      <th>8376</th>\n      <td>1</td>\n      <td>TRIBECA</td>\n      <td>13 CONDOS - ELEVATOR APARTMENTS</td>\n      <td>2</td>\n      <td>223</td>\n      <td>1128</td>\n      <td>NaN</td>\n      <td>R4</td>\n      <td>70 VESTRY STREET, 7B</td>\n      <td>7B</td>\n      <td>...</td>\n      <td>1.0</td>\n      <td>0.0</td>\n      <td>1.0</td>\n      <td>0</td>\n      <td>3242.0</td>\n      <td>2016.0</td>\n      <td>2</td>\n      <td>R4</td>\n      <td>36681561</td>\n      <td>2019-02-12</td>\n    </tr>\n    <tr>\n      <th>8377</th>\n      <td>1</td>\n      <td>TRIBECA</td>\n      <td>13 CONDOS - ELEVATOR APARTMENTS</td>\n      <td>2</td>\n      <td>223</td>\n      <td>1129</td>\n      <td>NaN</td>\n      <td>R4</td>\n      <td>70 VESTRY STREET, 7C</td>\n      <td>7C</td>\n      <td>...</td>\n      <td>1.0</td>\n      <td>0.0</td>\n      <td>1.0</td>\n      <td>0</td>\n      <td>1906.0</td>\n      <td>2016.0</td>\n      <td>2</td>\n      <td>R4</td>\n      <td>36681561</td>\n      <td>2019-02-12</td>\n    </tr>\n    <tr>\n      <th>8378</th>\n      <td>1</td>\n      <td>TRIBECA</td>\n      <td>13 CONDOS - ELEVATOR APARTMENTS</td>\n      <td>2</td>\n      <td>223</td>\n      <td>1130</td>\n      <td>NaN</td>\n      <td>R4</td>\n      <td>70 VESTRY STREET, 7D</td>\n      <td>7D</td>\n      <td>...</td>\n      <td>1.0</td>\n      <td>0.0</td>\n      <td>1.0</td>\n      <td>0</td>\n      <td>2536.0</td>\n      <td>2016.0</td>\n      <td>2</td>\n      <td>R4</td>\n      <td>36681561</td>\n      <td>2019-02-12</td>\n    </tr>\n    <tr>\n      <th>8379</th>\n      <td>1</td>\n      <td>TRIBECA</td>\n      <td>13 CONDOS - ELEVATOR APARTMENTS</td>\n      <td>2</td>\n      <td>223</td>\n      <td>1131</td>\n      <td>NaN</td>\n      <td>R4</td>\n      <td>70 VESTRY STREET, 7E</td>\n      <td>7E</td>\n      <td>...</td>\n      <td>1.0</td>\n      <td>0.0</td>\n      <td>1.0</td>\n      <td>0</td>\n      <td>2965.0</td>\n      <td>2016.0</td>\n      <td>2</td>\n      <td>R4</td>\n      <td>36681561</td>\n      <td>2019-02-12</td>\n    </tr>\n    <tr>\n      <th>8380</th>\n      <td>1</td>\n      <td>TRIBECA</td>\n      <td>13 CONDOS - ELEVATOR APARTMENTS</td>\n      <td>2</td>\n      <td>223</td>\n      <td>1132</td>\n      <td>NaN</td>\n      <td>R4</td>\n      <td>70 VESTRY STREET, 7F</td>\n      <td>7F</td>\n      <td>...</td>\n      <td>1.0</td>\n      <td>0.0</td>\n      <td>1.0</td>\n      <td>0</td>\n      <td>2445.0</td>\n      <td>2016.0</td>\n      <td>2</td>\n      <td>R4</td>\n      <td>36681561</td>\n      <td>2019-02-12</td>\n    </tr>\n    <tr>\n      <th>8381</th>\n      <td>1</td>\n      <td>TRIBECA</td>\n      <td>13 CONDOS - ELEVATOR APARTMENTS</td>\n      <td>2</td>\n      <td>223</td>\n      <td>1134</td>\n      <td>NaN</td>\n      <td>R4</td>\n      <td>70 VESTRY STREET, 8W</td>\n      <td>8W</td>\n      <td>...</td>\n      <td>1.0</td>\n      <td>0.0</td>\n      <td>1.0</td>\n      <td>0</td>\n      <td>2609.0</td>\n      <td>2016.0</td>\n      <td>2</td>\n      <td>R4</td>\n      <td>36681561</td>\n      <td>2019-02-12</td>\n    </tr>\n    <tr>\n      <th>8382</th>\n      <td>1</td>\n      <td>TRIBECA</td>\n      <td>13 CONDOS - ELEVATOR APARTMENTS</td>\n      <td>2</td>\n      <td>223</td>\n      <td>1137</td>\n      <td>NaN</td>\n      <td>R4</td>\n      <td>70 VESTRY STREET, 9W</td>\n      <td>9W</td>\n      <td>...</td>\n      <td>1.0</td>\n      <td>0.0</td>\n      <td>1.0</td>\n      <td>0</td>\n      <td>2592.0</td>\n      <td>2016.0</td>\n      <td>2</td>\n      <td>R4</td>\n      <td>36681561</td>\n      <td>2019-02-12</td>\n    </tr>\n    <tr>\n      <th>8383</th>\n      <td>1</td>\n      <td>TRIBECA</td>\n      <td>13 CONDOS - ELEVATOR APARTMENTS</td>\n      <td>2</td>\n      <td>223</td>\n      <td>1140</td>\n      <td>NaN</td>\n      <td>R4</td>\n      <td>70 VESTRY STREET, 10W</td>\n      <td>10W</td>\n      <td>...</td>\n      <td>1.0</td>\n      <td>0.0</td>\n      <td>1.0</td>\n      <td>0</td>\n      <td>2592.0</td>\n      <td>2016.0</td>\n      <td>2</td>\n      <td>R4</td>\n      <td>36681561</td>\n      <td>2019-02-12</td>\n    </tr>\n    <tr>\n      <th>8384</th>\n      <td>1</td>\n      <td>TRIBECA</td>\n      <td>13 CONDOS - ELEVATOR APARTMENTS</td>\n      <td>2</td>\n      <td>223</td>\n      <td>1143</td>\n      <td>NaN</td>\n      <td>R4</td>\n      <td>70 VESTRY STREET, 11W</td>\n      <td>11W</td>\n      <td>...</td>\n      <td>1.0</td>\n      <td>0.0</td>\n      <td>1.0</td>\n      <td>0</td>\n      <td>2592.0</td>\n      <td>2016.0</td>\n      <td>2</td>\n      <td>R4</td>\n      <td>36681561</td>\n      <td>2019-02-12</td>\n    </tr>\n    <tr>\n      <th>9236</th>\n      <td>1</td>\n      <td>TRIBECA</td>\n      <td>13 CONDOS - ELEVATOR APARTMENTS</td>\n      <td>2</td>\n      <td>223</td>\n      <td>1144</td>\n      <td>NaN</td>\n      <td>R4</td>\n      <td>70 VESTRY STREET, 12S</td>\n      <td>12S</td>\n      <td>...</td>\n      <td>1.0</td>\n      <td>0.0</td>\n      <td>1.0</td>\n      <td>0</td>\n      <td>8346.0</td>\n      <td>2016.0</td>\n      <td>2</td>\n      <td>R4</td>\n      <td>39285000</td>\n      <td>2019-02-15</td>\n    </tr>\n  </tbody>\n</table>\n<p>16 rows × 21 columns</p>\n</div>"
     },
     "metadata": {},
     "execution_count": 74
    }
   ],
   "source": [
    "# Look at sales for more than $35 million\n",
    "\n",
    "# All are at 70 Vestry Street\n",
    "# All but one have the same SALE_PRICE & SALE_DATE\n",
    "# Was the SALE_PRICE for each? Or in total?\n",
    "# Is this dirty data?\n",
    "df[df.SALE_PRICE > 35000000]\n",
    "\n",
    "#sale price is per unit\n",
    "#current pricing is aroudn 3-4K / sqft which makes this plausible data\n",
    "#https://www.cityrealty.com/nyc/tribeca/70-vestry-street/59597"
   ]
  },
  {
   "cell_type": "code",
   "execution_count": 78,
   "metadata": {},
   "outputs": [
    {
     "output_type": "execute_result",
     "data": {
      "text/plain": "(90, 21)"
     },
     "metadata": {},
     "execution_count": 78
    }
   ],
   "source": [
    "# Make a judgment call:\n",
    "# Keep rows where sale price was < $35 million\n",
    "df =df[df.SALE_PRICE < 35000000]\n",
    "\n",
    "# Check how many rows you have now. (Should be down to 90 rows.)\n",
    "df.shape"
   ]
  },
  {
   "cell_type": "code",
   "execution_count": 76,
   "metadata": {},
   "outputs": [
    {
     "output_type": "display_data",
     "data": {
      "application/vnd.plotly.v1+json": {
       "config": {
        "plotlyServerURL": "https://plot.ly"
       },
       "data": [
        {
         "hovertemplate": "GROSS_SQUARE_FEET=%{x}<br>SALE_PRICE=%{y}<extra></extra>",
         "legendgroup": "",
         "marker": {
          "color": "#636efa",
          "symbol": "circle"
         },
         "mode": "markers",
         "name": "",
         "orientation": "v",
         "showlegend": false,
         "type": "scatter",
         "x": [
          1840,
          1759,
          1190,
          1088,
          873,
          2279,
          695,
          1449,
          2279,
          3227,
          2249,
          4663,
          4986,
          2436,
          1920,
          432,
          2063,
          3208,
          868,
          2279,
          2289,
          3217,
          3500,
          748,
          2409,
          1190,
          1061,
          860,
          2811,
          1650,
          1666,
          4016,
          2279,
          3844,
          1973,
          625,
          1524,
          1054,
          1526,
          875,
          1850,
          1144,
          2292,
          2279,
          2964,
          688,
          1661,
          2663,
          634,
          756,
          530,
          1061,
          695,
          2685,
          3243,
          2342,
          2481,
          440,
          1311,
          915,
          647,
          948,
          565,
          1593,
          2300,
          2028,
          1014,
          1359,
          3260,
          830,
          951,
          652,
          3428,
          2311,
          704,
          1580,
          2042,
          638,
          1816,
          2481,
          3201,
          1096,
          2221,
          661,
          814,
          2429,
          1601,
          634,
          939,
          695
         ],
         "xaxis": "x",
         "y": [
          2800000,
          2650000,
          1005000,
          1678000,
          1380000,
          6924100,
          501000,
          2400000,
          9316988,
          10200000,
          4100000,
          7200000,
          13240000,
          4900000,
          3870000,
          640000,
          4750000,
          11648526,
          1090000,
          4400000,
          8909688,
          12376829,
          8000000,
          999500,
          5350000,
          1250000,
          1770000,
          905000,
          6053000,
          3250000,
          5150000,
          12750000,
          9164250,
          6761138,
          4050000,
          1360000,
          2495000,
          1175000,
          2250000,
          1350000,
          3145000,
          1658000,
          3836438,
          6720000,
          15000000,
          1651544,
          3300000,
          5270000,
          858000,
          685000,
          490000,
          1754000,
          475000,
          7722000,
          12142631,
          3700000,
          4800000,
          630000,
          2050000,
          424770,
          496860,
          1275000,
          520000,
          3920263,
          4500000,
          3550000,
          1320000,
          1404586,
          12200000,
          785000,
          1175000,
          982500,
          3850000,
          3400000,
          710000,
          2700000,
          4100000,
          895000,
          3635000,
          4800000,
          12040000,
          1550000,
          4600000,
          750000,
          1150403,
          5761259,
          2600000,
          605000,
          960000,
          975000
         ],
         "yaxis": "y"
        },
        {
         "hovertemplate": "<b>OLS trendline</b><br>SALE_PRICE = 3076.45 * GROSS_SQUARE_FEET + -1.50536e+06<br>R<sup>2</sup>=0.748751<br><br>GROSS_SQUARE_FEET=%{x}<br>SALE_PRICE=%{y} <b>(trend)</b><extra></extra>",
         "legendgroup": "",
         "marker": {
          "color": "#636efa",
          "symbol": "circle"
         },
         "mode": "lines",
         "name": "",
         "showlegend": false,
         "type": "scatter",
         "x": [
          432,
          440,
          530,
          565,
          625,
          634,
          634,
          638,
          647,
          652,
          661,
          688,
          695,
          695,
          695,
          704,
          748,
          756,
          814,
          830,
          860,
          868,
          873,
          875,
          915,
          939,
          948,
          951,
          1014,
          1054,
          1061,
          1061,
          1088,
          1096,
          1144,
          1190,
          1190,
          1311,
          1359,
          1449,
          1524,
          1526,
          1580,
          1593,
          1601,
          1650,
          1661,
          1666,
          1759,
          1816,
          1840,
          1850,
          1920,
          1973,
          2028,
          2042,
          2063,
          2221,
          2249,
          2279,
          2279,
          2279,
          2279,
          2279,
          2289,
          2292,
          2300,
          2311,
          2342,
          2409,
          2429,
          2436,
          2481,
          2481,
          2663,
          2685,
          2811,
          2964,
          3201,
          3208,
          3217,
          3227,
          3243,
          3260,
          3428,
          3500,
          3844,
          4016,
          4663,
          4986
         ],
         "xaxis": "x",
         "y": [
          -176338.6537175437,
          -151727.07247419166,
          125153.21651351848,
          232828.8844531835,
          417415.7437783235,
          445103.7726770947,
          445103.7726770947,
          457409.5632987707,
          485097.5921975416,
          500479.8304746365,
          528167.8593734077,
          611231.9460697207,
          632767.0796576538,
          632767.0796576538,
          632767.0796576538,
          660455.1085564247,
          795818.8053948609,
          820430.386638213,
          998864.350652515,
          1048087.513139219,
          1140380.942801789,
          1164992.524045141,
          1180374.7623222359,
          1186527.657633074,
          1309585.5638498338,
          1383420.30757989,
          1411108.3364786608,
          1420337.679444918,
          1614153.8817363153,
          1737211.787953075,
          1758746.9215410082,
          1758746.9215410082,
          1841811.0082373214,
          1866422.5894806734,
          2014092.0769407852,
          2155608.6690900596,
          2155608.6690900596,
          2527858.8353957585,
          2675528.3228558707,
          2952408.611843581,
          3183142.186000006,
          3189295.0813108436,
          3355423.25470347,
          3395417.0742239165,
          3420028.6554672685,
          3570774.5905827996,
          3604615.5147924093,
          3619997.7530695037,
          3906107.3850234714,
          4081464.9013823546,
          4155299.6451124107,
          4186064.1216666005,
          4401415.4575459305,
          4564467.183283137,
          4733671.804331183,
          4776742.071507048,
          4841347.472270848,
          5327426.201827049,
          5413566.736178782,
          5505860.165841352,
          5505860.165841352,
          5505860.165841352,
          5505860.165841352,
          5505860.165841352,
          5536624.642395541,
          5545853.9853618,
          5570465.566605151,
          5604306.49081476,
          5699676.36813275,
          5905798.3610458225,
          5967327.314154202,
          5988862.447742134,
          6127302.59223599,
          6127302.59223599,
          6687216.065522248,
          6754897.913941467,
          7142530.318524262,
          7613226.8098033685,
          8342344.904137671,
          8363880.037725605,
          8391568.066624375,
          8422332.543178566,
          8471555.70566527,
          8523855.315807393,
          9040698.521917785,
          9262202.753107954,
          10320500.74657209,
          10849649.743304158,
          12840111.376360252,
          13833803.969060589
         ],
         "yaxis": "y"
        }
       ],
       "layout": {
        "legend": {
         "tracegroupgap": 0
        },
        "margin": {
         "t": 60
        },
        "template": {
         "data": {
          "bar": [
           {
            "error_x": {
             "color": "#2a3f5f"
            },
            "error_y": {
             "color": "#2a3f5f"
            },
            "marker": {
             "line": {
              "color": "#E5ECF6",
              "width": 0.5
             }
            },
            "type": "bar"
           }
          ],
          "barpolar": [
           {
            "marker": {
             "line": {
              "color": "#E5ECF6",
              "width": 0.5
             }
            },
            "type": "barpolar"
           }
          ],
          "carpet": [
           {
            "aaxis": {
             "endlinecolor": "#2a3f5f",
             "gridcolor": "white",
             "linecolor": "white",
             "minorgridcolor": "white",
             "startlinecolor": "#2a3f5f"
            },
            "baxis": {
             "endlinecolor": "#2a3f5f",
             "gridcolor": "white",
             "linecolor": "white",
             "minorgridcolor": "white",
             "startlinecolor": "#2a3f5f"
            },
            "type": "carpet"
           }
          ],
          "choropleth": [
           {
            "colorbar": {
             "outlinewidth": 0,
             "ticks": ""
            },
            "type": "choropleth"
           }
          ],
          "contour": [
           {
            "colorbar": {
             "outlinewidth": 0,
             "ticks": ""
            },
            "colorscale": [
             [
              0,
              "#0d0887"
             ],
             [
              0.1111111111111111,
              "#46039f"
             ],
             [
              0.2222222222222222,
              "#7201a8"
             ],
             [
              0.3333333333333333,
              "#9c179e"
             ],
             [
              0.4444444444444444,
              "#bd3786"
             ],
             [
              0.5555555555555556,
              "#d8576b"
             ],
             [
              0.6666666666666666,
              "#ed7953"
             ],
             [
              0.7777777777777778,
              "#fb9f3a"
             ],
             [
              0.8888888888888888,
              "#fdca26"
             ],
             [
              1,
              "#f0f921"
             ]
            ],
            "type": "contour"
           }
          ],
          "contourcarpet": [
           {
            "colorbar": {
             "outlinewidth": 0,
             "ticks": ""
            },
            "type": "contourcarpet"
           }
          ],
          "heatmap": [
           {
            "colorbar": {
             "outlinewidth": 0,
             "ticks": ""
            },
            "colorscale": [
             [
              0,
              "#0d0887"
             ],
             [
              0.1111111111111111,
              "#46039f"
             ],
             [
              0.2222222222222222,
              "#7201a8"
             ],
             [
              0.3333333333333333,
              "#9c179e"
             ],
             [
              0.4444444444444444,
              "#bd3786"
             ],
             [
              0.5555555555555556,
              "#d8576b"
             ],
             [
              0.6666666666666666,
              "#ed7953"
             ],
             [
              0.7777777777777778,
              "#fb9f3a"
             ],
             [
              0.8888888888888888,
              "#fdca26"
             ],
             [
              1,
              "#f0f921"
             ]
            ],
            "type": "heatmap"
           }
          ],
          "heatmapgl": [
           {
            "colorbar": {
             "outlinewidth": 0,
             "ticks": ""
            },
            "colorscale": [
             [
              0,
              "#0d0887"
             ],
             [
              0.1111111111111111,
              "#46039f"
             ],
             [
              0.2222222222222222,
              "#7201a8"
             ],
             [
              0.3333333333333333,
              "#9c179e"
             ],
             [
              0.4444444444444444,
              "#bd3786"
             ],
             [
              0.5555555555555556,
              "#d8576b"
             ],
             [
              0.6666666666666666,
              "#ed7953"
             ],
             [
              0.7777777777777778,
              "#fb9f3a"
             ],
             [
              0.8888888888888888,
              "#fdca26"
             ],
             [
              1,
              "#f0f921"
             ]
            ],
            "type": "heatmapgl"
           }
          ],
          "histogram": [
           {
            "marker": {
             "colorbar": {
              "outlinewidth": 0,
              "ticks": ""
             }
            },
            "type": "histogram"
           }
          ],
          "histogram2d": [
           {
            "colorbar": {
             "outlinewidth": 0,
             "ticks": ""
            },
            "colorscale": [
             [
              0,
              "#0d0887"
             ],
             [
              0.1111111111111111,
              "#46039f"
             ],
             [
              0.2222222222222222,
              "#7201a8"
             ],
             [
              0.3333333333333333,
              "#9c179e"
             ],
             [
              0.4444444444444444,
              "#bd3786"
             ],
             [
              0.5555555555555556,
              "#d8576b"
             ],
             [
              0.6666666666666666,
              "#ed7953"
             ],
             [
              0.7777777777777778,
              "#fb9f3a"
             ],
             [
              0.8888888888888888,
              "#fdca26"
             ],
             [
              1,
              "#f0f921"
             ]
            ],
            "type": "histogram2d"
           }
          ],
          "histogram2dcontour": [
           {
            "colorbar": {
             "outlinewidth": 0,
             "ticks": ""
            },
            "colorscale": [
             [
              0,
              "#0d0887"
             ],
             [
              0.1111111111111111,
              "#46039f"
             ],
             [
              0.2222222222222222,
              "#7201a8"
             ],
             [
              0.3333333333333333,
              "#9c179e"
             ],
             [
              0.4444444444444444,
              "#bd3786"
             ],
             [
              0.5555555555555556,
              "#d8576b"
             ],
             [
              0.6666666666666666,
              "#ed7953"
             ],
             [
              0.7777777777777778,
              "#fb9f3a"
             ],
             [
              0.8888888888888888,
              "#fdca26"
             ],
             [
              1,
              "#f0f921"
             ]
            ],
            "type": "histogram2dcontour"
           }
          ],
          "mesh3d": [
           {
            "colorbar": {
             "outlinewidth": 0,
             "ticks": ""
            },
            "type": "mesh3d"
           }
          ],
          "parcoords": [
           {
            "line": {
             "colorbar": {
              "outlinewidth": 0,
              "ticks": ""
             }
            },
            "type": "parcoords"
           }
          ],
          "pie": [
           {
            "automargin": true,
            "type": "pie"
           }
          ],
          "scatter": [
           {
            "marker": {
             "colorbar": {
              "outlinewidth": 0,
              "ticks": ""
             }
            },
            "type": "scatter"
           }
          ],
          "scatter3d": [
           {
            "line": {
             "colorbar": {
              "outlinewidth": 0,
              "ticks": ""
             }
            },
            "marker": {
             "colorbar": {
              "outlinewidth": 0,
              "ticks": ""
             }
            },
            "type": "scatter3d"
           }
          ],
          "scattercarpet": [
           {
            "marker": {
             "colorbar": {
              "outlinewidth": 0,
              "ticks": ""
             }
            },
            "type": "scattercarpet"
           }
          ],
          "scattergeo": [
           {
            "marker": {
             "colorbar": {
              "outlinewidth": 0,
              "ticks": ""
             }
            },
            "type": "scattergeo"
           }
          ],
          "scattergl": [
           {
            "marker": {
             "colorbar": {
              "outlinewidth": 0,
              "ticks": ""
             }
            },
            "type": "scattergl"
           }
          ],
          "scattermapbox": [
           {
            "marker": {
             "colorbar": {
              "outlinewidth": 0,
              "ticks": ""
             }
            },
            "type": "scattermapbox"
           }
          ],
          "scatterpolar": [
           {
            "marker": {
             "colorbar": {
              "outlinewidth": 0,
              "ticks": ""
             }
            },
            "type": "scatterpolar"
           }
          ],
          "scatterpolargl": [
           {
            "marker": {
             "colorbar": {
              "outlinewidth": 0,
              "ticks": ""
             }
            },
            "type": "scatterpolargl"
           }
          ],
          "scatterternary": [
           {
            "marker": {
             "colorbar": {
              "outlinewidth": 0,
              "ticks": ""
             }
            },
            "type": "scatterternary"
           }
          ],
          "surface": [
           {
            "colorbar": {
             "outlinewidth": 0,
             "ticks": ""
            },
            "colorscale": [
             [
              0,
              "#0d0887"
             ],
             [
              0.1111111111111111,
              "#46039f"
             ],
             [
              0.2222222222222222,
              "#7201a8"
             ],
             [
              0.3333333333333333,
              "#9c179e"
             ],
             [
              0.4444444444444444,
              "#bd3786"
             ],
             [
              0.5555555555555556,
              "#d8576b"
             ],
             [
              0.6666666666666666,
              "#ed7953"
             ],
             [
              0.7777777777777778,
              "#fb9f3a"
             ],
             [
              0.8888888888888888,
              "#fdca26"
             ],
             [
              1,
              "#f0f921"
             ]
            ],
            "type": "surface"
           }
          ],
          "table": [
           {
            "cells": {
             "fill": {
              "color": "#EBF0F8"
             },
             "line": {
              "color": "white"
             }
            },
            "header": {
             "fill": {
              "color": "#C8D4E3"
             },
             "line": {
              "color": "white"
             }
            },
            "type": "table"
           }
          ]
         },
         "layout": {
          "annotationdefaults": {
           "arrowcolor": "#2a3f5f",
           "arrowhead": 0,
           "arrowwidth": 1
          },
          "coloraxis": {
           "colorbar": {
            "outlinewidth": 0,
            "ticks": ""
           }
          },
          "colorscale": {
           "diverging": [
            [
             0,
             "#8e0152"
            ],
            [
             0.1,
             "#c51b7d"
            ],
            [
             0.2,
             "#de77ae"
            ],
            [
             0.3,
             "#f1b6da"
            ],
            [
             0.4,
             "#fde0ef"
            ],
            [
             0.5,
             "#f7f7f7"
            ],
            [
             0.6,
             "#e6f5d0"
            ],
            [
             0.7,
             "#b8e186"
            ],
            [
             0.8,
             "#7fbc41"
            ],
            [
             0.9,
             "#4d9221"
            ],
            [
             1,
             "#276419"
            ]
           ],
           "sequential": [
            [
             0,
             "#0d0887"
            ],
            [
             0.1111111111111111,
             "#46039f"
            ],
            [
             0.2222222222222222,
             "#7201a8"
            ],
            [
             0.3333333333333333,
             "#9c179e"
            ],
            [
             0.4444444444444444,
             "#bd3786"
            ],
            [
             0.5555555555555556,
             "#d8576b"
            ],
            [
             0.6666666666666666,
             "#ed7953"
            ],
            [
             0.7777777777777778,
             "#fb9f3a"
            ],
            [
             0.8888888888888888,
             "#fdca26"
            ],
            [
             1,
             "#f0f921"
            ]
           ],
           "sequentialminus": [
            [
             0,
             "#0d0887"
            ],
            [
             0.1111111111111111,
             "#46039f"
            ],
            [
             0.2222222222222222,
             "#7201a8"
            ],
            [
             0.3333333333333333,
             "#9c179e"
            ],
            [
             0.4444444444444444,
             "#bd3786"
            ],
            [
             0.5555555555555556,
             "#d8576b"
            ],
            [
             0.6666666666666666,
             "#ed7953"
            ],
            [
             0.7777777777777778,
             "#fb9f3a"
            ],
            [
             0.8888888888888888,
             "#fdca26"
            ],
            [
             1,
             "#f0f921"
            ]
           ]
          },
          "colorway": [
           "#636efa",
           "#EF553B",
           "#00cc96",
           "#ab63fa",
           "#FFA15A",
           "#19d3f3",
           "#FF6692",
           "#B6E880",
           "#FF97FF",
           "#FECB52"
          ],
          "font": {
           "color": "#2a3f5f"
          },
          "geo": {
           "bgcolor": "white",
           "lakecolor": "white",
           "landcolor": "#E5ECF6",
           "showlakes": true,
           "showland": true,
           "subunitcolor": "white"
          },
          "hoverlabel": {
           "align": "left"
          },
          "hovermode": "closest",
          "mapbox": {
           "style": "light"
          },
          "paper_bgcolor": "white",
          "plot_bgcolor": "#E5ECF6",
          "polar": {
           "angularaxis": {
            "gridcolor": "white",
            "linecolor": "white",
            "ticks": ""
           },
           "bgcolor": "#E5ECF6",
           "radialaxis": {
            "gridcolor": "white",
            "linecolor": "white",
            "ticks": ""
           }
          },
          "scene": {
           "xaxis": {
            "backgroundcolor": "#E5ECF6",
            "gridcolor": "white",
            "gridwidth": 2,
            "linecolor": "white",
            "showbackground": true,
            "ticks": "",
            "zerolinecolor": "white"
           },
           "yaxis": {
            "backgroundcolor": "#E5ECF6",
            "gridcolor": "white",
            "gridwidth": 2,
            "linecolor": "white",
            "showbackground": true,
            "ticks": "",
            "zerolinecolor": "white"
           },
           "zaxis": {
            "backgroundcolor": "#E5ECF6",
            "gridcolor": "white",
            "gridwidth": 2,
            "linecolor": "white",
            "showbackground": true,
            "ticks": "",
            "zerolinecolor": "white"
           }
          },
          "shapedefaults": {
           "line": {
            "color": "#2a3f5f"
           }
          },
          "ternary": {
           "aaxis": {
            "gridcolor": "white",
            "linecolor": "white",
            "ticks": ""
           },
           "baxis": {
            "gridcolor": "white",
            "linecolor": "white",
            "ticks": ""
           },
           "bgcolor": "#E5ECF6",
           "caxis": {
            "gridcolor": "white",
            "linecolor": "white",
            "ticks": ""
           }
          },
          "title": {
           "x": 0.05
          },
          "xaxis": {
           "automargin": true,
           "gridcolor": "white",
           "linecolor": "white",
           "ticks": "",
           "title": {
            "standoff": 15
           },
           "zerolinecolor": "white",
           "zerolinewidth": 2
          },
          "yaxis": {
           "automargin": true,
           "gridcolor": "white",
           "linecolor": "white",
           "ticks": "",
           "title": {
            "standoff": 15
           },
           "zerolinecolor": "white",
           "zerolinewidth": 2
          }
         }
        },
        "xaxis": {
         "anchor": "y",
         "domain": [
          0,
          1
         ],
         "title": {
          "text": "GROSS_SQUARE_FEET"
         }
        },
        "yaxis": {
         "anchor": "x",
         "domain": [
          0,
          1
         ],
         "title": {
          "text": "SALE_PRICE"
         }
        }
       }
      }
     },
     "metadata": {}
    }
   ],
   "source": [
    "# Now that you've removed outliers,\n",
    "# Look again at a scatter plot with OLS (Ordinary Least Squares) trendline\n",
    "\n",
    "fig= px.scatter(df, x='GROSS_SQUARE_FEET', y='SALE_PRICE',trendline='ols')\n",
    "fig.show()"
   ]
  },
  {
   "cell_type": "code",
   "execution_count": 80,
   "metadata": {},
   "outputs": [],
   "source": [
    "# Select these columns, then write to a csv file named tribeca.csv. Don't include the index.\n",
    "df.to_csv('tribeca.csv', index=False)"
   ]
  }
 ],
 "metadata": {
  "jupytext": {
   "cell_metadata_filter": "-all",
   "main_language": "python",
   "notebook_metadata_filter": "-all"
  },
  "kernelspec": {
   "display_name": "Python 3",
   "language": "python",
   "name": "python3"
  },
  "language_info": {
   "codemirror_mode": {
    "name": "ipython",
    "version": 3
   },
   "file_extension": ".py",
   "mimetype": "text/x-python",
   "name": "python",
   "nbconvert_exporter": "python",
   "pygments_lexer": "ipython3",
   "version": "3.7.4-final"
  }
 },
 "nbformat": 4,
 "nbformat_minor": 2
}