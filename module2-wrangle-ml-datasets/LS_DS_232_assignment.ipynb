{
  "nbformat": 4,
  "nbformat_minor": 0,
  "metadata": {
    "jupytext": {
      "cell_metadata_filter": "-all",
      "main_language": "python",
      "notebook_metadata_filter": "-all"
    },
    "kernelspec": {
      "display_name": "Python 3",
      "language": "python",
      "name": "python3"
    },
    "language_info": {
      "codemirror_mode": {
        "name": "ipython",
        "version": 3
      },
      "file_extension": ".py",
      "mimetype": "text/x-python",
      "name": "python",
      "nbconvert_exporter": "python",
      "pygments_lexer": "ipython3",
      "version": "3.7.3"
    },
    "colab": {
      "name": "LS_DS_232_assignment.ipynb",
      "provenance": [],
      "include_colab_link": true
    }
  },
  "cells": [
    {
      "cell_type": "markdown",
      "metadata": {
        "id": "view-in-github",
        "colab_type": "text"
      },
      "source": [
        "<a href=\"https://colab.research.google.com/github/John-G-Thomas/DS-Unit-2-Applied-Modeling/blob/master/module2-wrangle-ml-datasets/LS_DS_232_assignment.ipynb\" target=\"_parent\"><img src=\"https://colab.research.google.com/assets/colab-badge.svg\" alt=\"Open In Colab\"/></a>"
      ]
    },
    {
      "cell_type": "markdown",
      "metadata": {
        "id": "Z_Jb4gKNkbnA",
        "colab_type": "text"
      },
      "source": [
        "Lambda School Data Science\n",
        "\n",
        "*Unit 2, Sprint 3, Module 2*\n",
        "\n",
        "---\n",
        "\n",
        "\n",
        "# Wrangle ML datasets\n",
        "\n",
        "- [ ] Continue to clean and explore your data. \n",
        "- [ ] For the evaluation metric you chose, what score would you get just by guessing?\n",
        "- [ ] Can you make a fast, first model that beats guessing?\n",
        "\n",
        "**We recommend that you use your portfolio project dataset for all assignments this sprint.**\n",
        "\n",
        "**But if you aren't ready yet, or you want more practice, then use the New York City property sales dataset for today's assignment.** Follow the instructions below, to just keep a subset for the Tribeca neighborhood, and remove outliers or dirty data. [Here's a video walkthrough](https://youtu.be/pPWFw8UtBVg?t=584) you can refer to if you get stuck or want hints!\n",
        "\n",
        "- Data Source: [NYC OpenData: NYC Citywide Rolling Calendar Sales](https://data.cityofnewyork.us/dataset/NYC-Citywide-Rolling-Calendar-Sales/usep-8jbt)\n",
        "- Glossary: [NYC Department of Finance: Rolling Sales Data](https://www1.nyc.gov/site/finance/taxes/property-rolling-sales-data.page)"
      ]
    },
    {
      "cell_type": "code",
      "metadata": {
        "id": "UHYLB4SWkbnB",
        "colab_type": "code",
        "colab": {}
      },
      "source": [
        "%%capture\n",
        "import sys\n",
        "\n",
        "# If you're on Colab:\n",
        "if 'google.colab' in sys.modules:\n",
        "    DATA_PATH = 'https://raw.githubusercontent.com/LambdaSchool/DS-Unit-2-Applied-Modeling/master/data/'\n",
        "    !pip install category_encoders==2.*\n",
        "    !pip install pandas-profiling==2.*\n",
        "\n",
        "# If you're working locally:\n",
        "else:\n",
        "    DATA_PATH = '../data/'"
      ],
      "execution_count": 1,
      "outputs": []
    },
    {
      "cell_type": "code",
      "metadata": {
        "id": "MMOCuDXZAZDn",
        "colab_type": "code",
        "colab": {
          "base_uri": "https://localhost:8080/",
          "height": 70
        },
        "outputId": "226148e4-a84c-415a-a386-ca8aabc66db7"
      },
      "source": [
        "# General imports.\n",
        "import category_encoders as ce\n",
        "import itertools\n",
        "import matplotlib.pyplot as plt\n",
        "import pandas as pd\n",
        "import pandas_profiling as pp\n",
        "import numpy as np\n",
        "import seaborn as sns\n",
        "# Plotly imports.\n",
        "import plotly.graph_objs as go\n",
        "from plotly.offline import init_notebook_mode, iplot\n",
        "# Scikit-learn imports.\n",
        "from sklearn.linear_model import LinearRegression\n",
        "from sklearn.metrics import mean_absolute_error\n",
        "from sklearn.metrics import mean_squared_error\n",
        "from sklearn.metrics import r2_score\n",
        "from sklearn.preprocessing import OrdinalEncoder"
      ],
      "execution_count": 2,
      "outputs": [
        {
          "output_type": "stream",
          "text": [
            "/usr/local/lib/python3.6/dist-packages/statsmodels/tools/_testing.py:19: FutureWarning: pandas.util.testing is deprecated. Use the functions in the public API at pandas.testing instead.\n",
            "  import pandas.util.testing as tm\n"
          ],
          "name": "stderr"
        }
      ]
    },
    {
      "cell_type": "code",
      "metadata": {
        "id": "NzQwrWMPkbnF",
        "colab_type": "code",
        "colab": {
          "base_uri": "https://localhost:8080/",
          "height": 212
        },
        "outputId": "d4e32310-b0a8-4f68-9c72-5886f363891e"
      },
      "source": [
        "# Wrangled Project 2 dataset\n",
        "import pandas as pd\n",
        "df = pd.read_csv('https://raw.githubusercontent.com/John-G-Thomas/Projects/master/XGlobalTemperatures.csv')\n",
        "print(df.shape)\n",
        "df.head()"
      ],
      "execution_count": 3,
      "outputs": [
        {
          "output_type": "stream",
          "text": [
            "(3148, 7)\n"
          ],
          "name": "stdout"
        },
        {
          "output_type": "execute_result",
          "data": {
            "text/html": [
              "<div>\n",
              "<style scoped>\n",
              "    .dataframe tbody tr th:only-of-type {\n",
              "        vertical-align: middle;\n",
              "    }\n",
              "\n",
              "    .dataframe tbody tr th {\n",
              "        vertical-align: top;\n",
              "    }\n",
              "\n",
              "    .dataframe thead th {\n",
              "        text-align: right;\n",
              "    }\n",
              "</style>\n",
              "<table border=\"1\" class=\"dataframe\">\n",
              "  <thead>\n",
              "    <tr style=\"text-align: right;\">\n",
              "      <th></th>\n",
              "      <th>Datetime</th>\n",
              "      <th>LandAverageTemperatureUncertainty</th>\n",
              "      <th>UpperBounds</th>\n",
              "      <th>LowerBounds</th>\n",
              "      <th>month</th>\n",
              "      <th>year</th>\n",
              "      <th>Average_Temperature</th>\n",
              "    </tr>\n",
              "  </thead>\n",
              "  <tbody>\n",
              "    <tr>\n",
              "      <th>0</th>\n",
              "      <td>1750-01-01</td>\n",
              "      <td>3.574</td>\n",
              "      <td>6.608</td>\n",
              "      <td>-0.540</td>\n",
              "      <td>1</td>\n",
              "      <td>1750</td>\n",
              "      <td>3.034</td>\n",
              "    </tr>\n",
              "    <tr>\n",
              "      <th>1</th>\n",
              "      <td>1750-02-01</td>\n",
              "      <td>3.702</td>\n",
              "      <td>6.785</td>\n",
              "      <td>-0.619</td>\n",
              "      <td>2</td>\n",
              "      <td>1750</td>\n",
              "      <td>3.083</td>\n",
              "    </tr>\n",
              "    <tr>\n",
              "      <th>2</th>\n",
              "      <td>1750-03-01</td>\n",
              "      <td>3.076</td>\n",
              "      <td>8.702</td>\n",
              "      <td>2.550</td>\n",
              "      <td>3</td>\n",
              "      <td>1750</td>\n",
              "      <td>5.626</td>\n",
              "    </tr>\n",
              "    <tr>\n",
              "      <th>3</th>\n",
              "      <td>1750-04-01</td>\n",
              "      <td>2.451</td>\n",
              "      <td>10.941</td>\n",
              "      <td>6.039</td>\n",
              "      <td>4</td>\n",
              "      <td>1750</td>\n",
              "      <td>8.490</td>\n",
              "    </tr>\n",
              "    <tr>\n",
              "      <th>4</th>\n",
              "      <td>1750-05-01</td>\n",
              "      <td>2.072</td>\n",
              "      <td>13.645</td>\n",
              "      <td>9.501</td>\n",
              "      <td>5</td>\n",
              "      <td>1750</td>\n",
              "      <td>11.573</td>\n",
              "    </tr>\n",
              "  </tbody>\n",
              "</table>\n",
              "</div>"
            ],
            "text/plain": [
              "     Datetime  LandAverageTemperatureUncertainty  ...  year  Average_Temperature\n",
              "0  1750-01-01                              3.574  ...  1750                3.034\n",
              "1  1750-02-01                              3.702  ...  1750                3.083\n",
              "2  1750-03-01                              3.076  ...  1750                5.626\n",
              "3  1750-04-01                              2.451  ...  1750                8.490\n",
              "4  1750-05-01                              2.072  ...  1750               11.573\n",
              "\n",
              "[5 rows x 7 columns]"
            ]
          },
          "metadata": {
            "tags": []
          },
          "execution_count": 3
        }
      ]
    },
    {
      "cell_type": "markdown",
      "metadata": {
        "id": "akj_7qPPkbnI",
        "colab_type": "text"
      },
      "source": [
        "Your code starts here:"
      ]
    },
    {
      "cell_type": "markdown",
      "metadata": {
        "id": "S9MPrJcU381f",
        "colab_type": "text"
      },
      "source": [
        "### 1)  Continue to clean and explore your data."
      ]
    },
    {
      "cell_type": "markdown",
      "metadata": {
        "id": "1IZfnJdT4kjY",
        "colab_type": "text"
      },
      "source": [
        "- My clean/wrangle function"
      ]
    },
    {
      "cell_type": "code",
      "metadata": {
        "id": "iR5IjJJw4XPh",
        "colab_type": "code",
        "colab": {}
      },
      "source": [
        "#def wrangle(df):\n",
        "  #df = df.copy()\n",
        "  #Drop NaN and extra columns and index\n",
        "  #df.dropna(subset=['Average_Temperature'], inplace=True)\n",
        "  #df.set_index(pd.to_datetime(df['Datetime']), inplace = True)\n",
        "  #df.drop('Unnamed: 0', axis=1, inplace=True)\n",
        "  #df.drop('Datetime', axis=1, inplace=True)\n",
        "  # Outliners\n",
        "  #df = df[(df['Average_Temperature'] >= np.percentile(df['Average_Temperature'], 0.5))\n",
        "  #&(df['Average_Temperature'] <= np.percentile(df['Average_Temperature'], 99.5))]\n",
        "  # Split labels from feature matrix and target\n",
        "  #y = df['Average_Temperature']\n",
        "  #Return\n",
        "  #return df, y"
      ],
      "execution_count": 4,
      "outputs": []
    },
    {
      "cell_type": "code",
      "metadata": {
        "id": "FaPsTVZXFfxB",
        "colab_type": "code",
        "colab": {}
      },
      "source": [
        "df.set_index(pd.to_datetime(df['Datetime']), inplace = True)\n",
        "df.drop('Datetime', axis=1, inplace=True)"
      ],
      "execution_count": 5,
      "outputs": []
    },
    {
      "cell_type": "code",
      "metadata": {
        "id": "072wGHBu_t8G",
        "colab_type": "code",
        "colab": {
          "base_uri": "https://localhost:8080/",
          "height": 366
        },
        "outputId": "00a0265b-6b62-422a-e5b8-f3615a9505dc"
      },
      "source": [
        "plt.plot(df['Average_Temperature'], 'o')\n",
        "plt.title('Average_Temperature')\n",
        "plt.ylabel('Month');\n",
        "plt.show();"
      ],
      "execution_count": 6,
      "outputs": [
        {
          "output_type": "display_data",
          "data": {
            "image/png": "[encoded data removed]",
            "text/plain": [
              "<Figure size 576x396 with 1 Axes>"
            ]
          },
          "metadata": {
            "tags": []
          }
        }
      ]
    },
    {
      "cell_type": "code",
      "metadata": {
        "id": "gEc-ekHhC_Q0",
        "colab_type": "code",
        "colab": {}
      },
      "source": [
        "# Make Moving Averages"
      ],
      "execution_count": 7,
      "outputs": []
    },
    {
      "cell_type": "code",
      "metadata": {
        "id": "duM0h5NLA1iM",
        "colab_type": "code",
        "colab": {}
      },
      "source": [
        "df['Yearly_SMA'] = df[['Average_Temperature']].rolling(window=12).mean()\n",
        "df['Decade_SMA'] = df[['Average_Temperature']].rolling(window=120).mean()\n",
        "df['Semicentennial_SMA'] = df[['Average_Temperature']].rolling(window=600).mean()\n",
        "df['Centurie'] = df[['Average_Temperature']].rolling(window=1200).mean()"
      ],
      "execution_count": 8,
      "outputs": []
    },
    {
      "cell_type": "code",
      "metadata": {
        "id": "WZYcBKpOCPbs",
        "colab_type": "code",
        "colab": {}
      },
      "source": [
        "#Fixed Problem - Yearly moving  average "
      ],
      "execution_count": 9,
      "outputs": []
    },
    {
      "cell_type": "code",
      "metadata": {
        "id": "bwexzP0HBNv9",
        "colab_type": "code",
        "colab": {
          "base_uri": "https://localhost:8080/",
          "height": 366
        },
        "outputId": "b0aa790d-a3a0-4568-c06c-99549d98d6d2"
      },
      "source": [
        "plt.plot(df['Yearly_SMA'], 'y')\n",
        "plt.title('Average_Temperature')\n",
        "plt.ylabel('Temps');\n",
        "plt.show();"
      ],
      "execution_count": 10,
      "outputs": [
        {
          "output_type": "display_data",
          "data": {
            "image/png": "[encoded data removed]",
            "text/plain": [
              "<Figure size 576x396 with 1 Axes>"
            ]
          },
          "metadata": {
            "tags": []
          }
        }
      ]
    },
    {
      "cell_type": "code",
      "metadata": {
        "id": "Dc5r1klEEXKv",
        "colab_type": "code",
        "colab": {}
      },
      "source": [
        "# Decade moving average"
      ],
      "execution_count": 11,
      "outputs": []
    },
    {
      "cell_type": "code",
      "metadata": {
        "id": "Wf_HIu7iDGc_",
        "colab_type": "code",
        "colab": {
          "base_uri": "https://localhost:8080/",
          "height": 366
        },
        "outputId": "8567db64-06b6-4a35-9443-fcbd78a8923d"
      },
      "source": [
        "plt.plot(df['Decade_SMA'], 'o')\n",
        "plt.title('Average_Temperature')\n",
        "plt.ylabel('Temps');\n",
        "plt.show();"
      ],
      "execution_count": 12,
      "outputs": [
        {
          "output_type": "display_data",
          "data": {
            "image/png": "[encoded data removed]",
            "text/plain": [
              "<Figure size 576x396 with 1 Axes>"
            ]
          },
          "metadata": {
            "tags": []
          }
        }
      ]
    },
    {
      "cell_type": "code",
      "metadata": {
        "id": "iLGSadohEUH9",
        "colab_type": "code",
        "colab": {}
      },
      "source": [
        "# 50 Year moving average"
      ],
      "execution_count": 13,
      "outputs": []
    },
    {
      "cell_type": "code",
      "metadata": {
        "id": "eLCohaYyED_F",
        "colab_type": "code",
        "colab": {
          "base_uri": "https://localhost:8080/",
          "height": 366
        },
        "outputId": "b9f11a41-c01c-4bb0-a970-ad9223602630"
      },
      "source": [
        "plt.plot(df['Semicentennial_SMA'], 'o')\n",
        "plt.title('Average_Temperature')\n",
        "plt.ylabel('Temps');\n",
        "plt.show();"
      ],
      "execution_count": 14,
      "outputs": [
        {
          "output_type": "display_data",
          "data": {
            "image/png": "[encoded data removed]",
            "text/plain": [
              "<Figure size 576x396 with 1 Axes>"
            ]
          },
          "metadata": {
            "tags": []
          }
        }
      ]
    },
    {
      "cell_type": "code",
      "metadata": {
        "id": "2QplCv9xGW67",
        "colab_type": "code",
        "colab": {}
      },
      "source": [
        "# Centurie Moving average "
      ],
      "execution_count": 15,
      "outputs": []
    },
    {
      "cell_type": "code",
      "metadata": {
        "id": "dTUQ_kTWGbK7",
        "colab_type": "code",
        "colab": {
          "base_uri": "https://localhost:8080/",
          "height": 366
        },
        "outputId": "0a15db93-14b2-4d11-e2ed-7d6ad2a588f0"
      },
      "source": [
        "plt.plot(df['Centurie'], 'o')\n",
        "plt.title('Average_Temperature')\n",
        "plt.ylabel('Temps');\n",
        "plt.show();"
      ],
      "execution_count": 16,
      "outputs": [
        {
          "output_type": "display_data",
          "data": {
            "image/png": "[encoded data removed]",
            "text/plain": [
              "<Figure size 576x396 with 1 Axes>"
            ]
          },
          "metadata": {
            "tags": []
          }
        }
      ]
    },
    {
      "cell_type": "code",
      "metadata": {
        "id": "jVX1wZdiFSmx",
        "colab_type": "code",
        "colab": {
          "base_uri": "https://localhost:8080/",
          "height": 202
        },
        "outputId": "03ca8680-7776-405e-f4dc-856774d4291b"
      },
      "source": [
        "df.isnull().sum()"
      ],
      "execution_count": 17,
      "outputs": [
        {
          "output_type": "execute_result",
          "data": {
            "text/plain": [
              "LandAverageTemperatureUncertainty       0\n",
              "UpperBounds                             0\n",
              "LowerBounds                             0\n",
              "month                                   0\n",
              "year                                    0\n",
              "Average_Temperature                     0\n",
              "Yearly_SMA                             11\n",
              "Decade_SMA                            119\n",
              "Semicentennial_SMA                    599\n",
              "Centurie                             1199\n",
              "dtype: int64"
            ]
          },
          "metadata": {
            "tags": []
          },
          "execution_count": 17
        }
      ]
    },
    {
      "cell_type": "code",
      "metadata": {
        "id": "Ua9il9_C4MUw",
        "colab_type": "code",
        "colab": {
          "base_uri": "https://localhost:8080/",
          "height": 302
        },
        "outputId": "f457ce82-00b7-4516-e0c5-29499cc73e8b"
      },
      "source": [
        "df.info()"
      ],
      "execution_count": 18,
      "outputs": [
        {
          "output_type": "stream",
          "text": [
            "<class 'pandas.core.frame.DataFrame'>\n",
            "DatetimeIndex: 3148 entries, 1750-01-01 to 2015-12-01\n",
            "Data columns (total 10 columns):\n",
            " #   Column                             Non-Null Count  Dtype  \n",
            "---  ------                             --------------  -----  \n",
            " 0   LandAverageTemperatureUncertainty  3148 non-null   float64\n",
            " 1   UpperBounds                        3148 non-null   float64\n",
            " 2   LowerBounds                        3148 non-null   float64\n",
            " 3   month                              3148 non-null   int64  \n",
            " 4   year                               3148 non-null   int64  \n",
            " 5   Average_Temperature                3148 non-null   float64\n",
            " 6   Yearly_SMA                         3137 non-null   float64\n",
            " 7   Decade_SMA                         3029 non-null   float64\n",
            " 8   Semicentennial_SMA                 2549 non-null   float64\n",
            " 9   Centurie                           1949 non-null   float64\n",
            "dtypes: float64(8), int64(2)\n",
            "memory usage: 270.5 KB\n"
          ],
          "name": "stdout"
        }
      ]
    },
    {
      "cell_type": "code",
      "metadata": {
        "id": "fE2G0V5V5GbX",
        "colab_type": "code",
        "colab": {
          "base_uri": "https://localhost:8080/",
          "height": 304
        },
        "outputId": "25b7197c-9130-426a-9cce-8d92d01e88f7"
      },
      "source": [
        "df.describe()"
      ],
      "execution_count": 19,
      "outputs": [
        {
          "output_type": "execute_result",
          "data": {
            "text/html": [
              "<div>\n",
              "<style scoped>\n",
              "    .dataframe tbody tr th:only-of-type {\n",
              "        vertical-align: middle;\n",
              "    }\n",
              "\n",
              "    .dataframe tbody tr th {\n",
              "        vertical-align: top;\n",
              "    }\n",
              "\n",
              "    .dataframe thead th {\n",
              "        text-align: right;\n",
              "    }\n",
              "</style>\n",
              "<table border=\"1\" class=\"dataframe\">\n",
              "  <thead>\n",
              "    <tr style=\"text-align: right;\">\n",
              "      <th></th>\n",
              "      <th>LandAverageTemperatureUncertainty</th>\n",
              "      <th>UpperBounds</th>\n",
              "      <th>LowerBounds</th>\n",
              "      <th>month</th>\n",
              "      <th>year</th>\n",
              "      <th>Average_Temperature</th>\n",
              "      <th>Yearly_SMA</th>\n",
              "      <th>Decade_SMA</th>\n",
              "      <th>Semicentennial_SMA</th>\n",
              "      <th>Centurie</th>\n",
              "    </tr>\n",
              "  </thead>\n",
              "  <tbody>\n",
              "    <tr>\n",
              "      <th>count</th>\n",
              "      <td>3148.000000</td>\n",
              "      <td>3148.000000</td>\n",
              "      <td>3148.000000</td>\n",
              "      <td>3148.000000</td>\n",
              "      <td>3148.000000</td>\n",
              "      <td>3148.000000</td>\n",
              "      <td>3137.000000</td>\n",
              "      <td>3029.000000</td>\n",
              "      <td>2549.000000</td>\n",
              "      <td>1949.000000</td>\n",
              "    </tr>\n",
              "    <tr>\n",
              "      <th>mean</th>\n",
              "      <td>0.913300</td>\n",
              "      <td>9.293713</td>\n",
              "      <td>7.467113</td>\n",
              "      <td>6.513977</td>\n",
              "      <td>1884.038119</td>\n",
              "      <td>8.380413</td>\n",
              "      <td>8.378304</td>\n",
              "      <td>8.362834</td>\n",
              "      <td>8.296740</td>\n",
              "      <td>8.262524</td>\n",
              "    </tr>\n",
              "    <tr>\n",
              "      <th>std</th>\n",
              "      <td>1.060012</td>\n",
              "      <td>4.233927</td>\n",
              "      <td>4.641216</td>\n",
              "      <td>3.449319</td>\n",
              "      <td>76.064469</td>\n",
              "      <td>4.313918</td>\n",
              "      <td>0.580877</td>\n",
              "      <td>0.439604</td>\n",
              "      <td>0.313262</td>\n",
              "      <td>0.239150</td>\n",
              "    </tr>\n",
              "    <tr>\n",
              "      <th>min</th>\n",
              "      <td>0.034000</td>\n",
              "      <td>0.988000</td>\n",
              "      <td>-5.965000</td>\n",
              "      <td>1.000000</td>\n",
              "      <td>1750.000000</td>\n",
              "      <td>-0.108000</td>\n",
              "      <td>5.572167</td>\n",
              "      <td>7.220025</td>\n",
              "      <td>7.821425</td>\n",
              "      <td>7.994273</td>\n",
              "    </tr>\n",
              "    <tr>\n",
              "      <th>25%</th>\n",
              "      <td>0.186000</td>\n",
              "      <td>5.399750</td>\n",
              "      <td>3.387000</td>\n",
              "      <td>4.000000</td>\n",
              "      <td>1819.000000</td>\n",
              "      <td>4.359750</td>\n",
              "      <td>8.040833</td>\n",
              "      <td>8.058408</td>\n",
              "      <td>8.043900</td>\n",
              "      <td>8.045645</td>\n",
              "    </tr>\n",
              "    <tr>\n",
              "      <th>50%</th>\n",
              "      <td>0.383000</td>\n",
              "      <td>9.397500</td>\n",
              "      <td>7.818000</td>\n",
              "      <td>6.500000</td>\n",
              "      <td>1884.000000</td>\n",
              "      <td>8.610500</td>\n",
              "      <td>8.386667</td>\n",
              "      <td>8.284450</td>\n",
              "      <td>8.207150</td>\n",
              "      <td>8.177263</td>\n",
              "    </tr>\n",
              "    <tr>\n",
              "      <th>75%</th>\n",
              "      <td>1.383000</td>\n",
              "      <td>13.351000</td>\n",
              "      <td>11.685500</td>\n",
              "      <td>10.000000</td>\n",
              "      <td>1950.000000</td>\n",
              "      <td>12.526250</td>\n",
              "      <td>8.717833</td>\n",
              "      <td>8.641700</td>\n",
              "      <td>8.580805</td>\n",
              "      <td>8.436043</td>\n",
              "    </tr>\n",
              "    <tr>\n",
              "      <th>max</th>\n",
              "      <td>7.880000</td>\n",
              "      <td>20.702000</td>\n",
              "      <td>15.277000</td>\n",
              "      <td>12.000000</td>\n",
              "      <td>2015.000000</td>\n",
              "      <td>15.462000</td>\n",
              "      <td>10.104417</td>\n",
              "      <td>9.583883</td>\n",
              "      <td>9.074065</td>\n",
              "      <td>8.831762</td>\n",
              "    </tr>\n",
              "  </tbody>\n",
              "</table>\n",
              "</div>"
            ],
            "text/plain": [
              "       LandAverageTemperatureUncertainty  ...     Centurie\n",
              "count                        3148.000000  ...  1949.000000\n",
              "mean                            0.913300  ...     8.262524\n",
              "std                             1.060012  ...     0.239150\n",
              "min                             0.034000  ...     7.994273\n",
              "25%                             0.186000  ...     8.045645\n",
              "50%                             0.383000  ...     8.177263\n",
              "75%                             1.383000  ...     8.436043\n",
              "max                             7.880000  ...     8.831762\n",
              "\n",
              "[8 rows x 10 columns]"
            ]
          },
          "metadata": {
            "tags": []
          },
          "execution_count": 19
        }
      ]
    },
    {
      "cell_type": "markdown",
      "metadata": {
        "id": "gcQhWIKtH0pw",
        "colab_type": "text"
      },
      "source": [
        "- Try to get carbon emmisions on the dataset if time"
      ]
    },
    {
      "cell_type": "code",
      "metadata": {
        "id": "A8IxLbx5Hyvv",
        "colab_type": "code",
        "colab": {
          "base_uri": "https://localhost:8080/",
          "height": 313
        },
        "outputId": "db5706e5-f67e-405a-f444-da50c8315b69"
      },
      "source": [
        "Country_Greenhouse_gas = pd.read_csv('https://pkgstore.datahub.io/core/co2-fossil-by-nation/fossil-fuel-co2-emissions-by-nation_csv/data/0f04181960a0a896ebaf6d8afb0b71a6/fossil-fuel-co2-emissions-by-nation_csv.csv')\n",
        "print(Country_Greenhouse_gas.shape)\n",
        "Country_Greenhouse_gas.head()"
      ],
      "execution_count": 20,
      "outputs": [
        {
          "output_type": "stream",
          "text": [
            "(17232, 10)\n"
          ],
          "name": "stdout"
        },
        {
          "output_type": "execute_result",
          "data": {
            "text/html": [
              "<div>\n",
              "<style scoped>\n",
              "    .dataframe tbody tr th:only-of-type {\n",
              "        vertical-align: middle;\n",
              "    }\n",
              "\n",
              "    .dataframe tbody tr th {\n",
              "        vertical-align: top;\n",
              "    }\n",
              "\n",
              "    .dataframe thead th {\n",
              "        text-align: right;\n",
              "    }\n",
              "</style>\n",
              "<table border=\"1\" class=\"dataframe\">\n",
              "  <thead>\n",
              "    <tr style=\"text-align: right;\">\n",
              "      <th></th>\n",
              "      <th>Year</th>\n",
              "      <th>Country</th>\n",
              "      <th>Total</th>\n",
              "      <th>Solid Fuel</th>\n",
              "      <th>Liquid Fuel</th>\n",
              "      <th>Gas Fuel</th>\n",
              "      <th>Cement</th>\n",
              "      <th>Gas Flaring</th>\n",
              "      <th>Per Capita</th>\n",
              "      <th>Bunker fuels (Not in Total)</th>\n",
              "    </tr>\n",
              "  </thead>\n",
              "  <tbody>\n",
              "    <tr>\n",
              "      <th>0</th>\n",
              "      <td>1751</td>\n",
              "      <td>UNITED KINGDOM</td>\n",
              "      <td>2552</td>\n",
              "      <td>2552</td>\n",
              "      <td>0</td>\n",
              "      <td>0</td>\n",
              "      <td>0</td>\n",
              "      <td>0</td>\n",
              "      <td>0.0</td>\n",
              "      <td>0</td>\n",
              "    </tr>\n",
              "    <tr>\n",
              "      <th>1</th>\n",
              "      <td>1752</td>\n",
              "      <td>UNITED KINGDOM</td>\n",
              "      <td>2553</td>\n",
              "      <td>2553</td>\n",
              "      <td>0</td>\n",
              "      <td>0</td>\n",
              "      <td>0</td>\n",
              "      <td>0</td>\n",
              "      <td>0.0</td>\n",
              "      <td>0</td>\n",
              "    </tr>\n",
              "    <tr>\n",
              "      <th>2</th>\n",
              "      <td>1753</td>\n",
              "      <td>UNITED KINGDOM</td>\n",
              "      <td>2553</td>\n",
              "      <td>2553</td>\n",
              "      <td>0</td>\n",
              "      <td>0</td>\n",
              "      <td>0</td>\n",
              "      <td>0</td>\n",
              "      <td>0.0</td>\n",
              "      <td>0</td>\n",
              "    </tr>\n",
              "    <tr>\n",
              "      <th>3</th>\n",
              "      <td>1754</td>\n",
              "      <td>UNITED KINGDOM</td>\n",
              "      <td>2554</td>\n",
              "      <td>2554</td>\n",
              "      <td>0</td>\n",
              "      <td>0</td>\n",
              "      <td>0</td>\n",
              "      <td>0</td>\n",
              "      <td>0.0</td>\n",
              "      <td>0</td>\n",
              "    </tr>\n",
              "    <tr>\n",
              "      <th>4</th>\n",
              "      <td>1755</td>\n",
              "      <td>UNITED KINGDOM</td>\n",
              "      <td>2555</td>\n",
              "      <td>2555</td>\n",
              "      <td>0</td>\n",
              "      <td>0</td>\n",
              "      <td>0</td>\n",
              "      <td>0</td>\n",
              "      <td>0.0</td>\n",
              "      <td>0</td>\n",
              "    </tr>\n",
              "  </tbody>\n",
              "</table>\n",
              "</div>"
            ],
            "text/plain": [
              "   Year         Country  ...  Per Capita  Bunker fuels (Not in Total)\n",
              "0  1751  UNITED KINGDOM  ...         0.0                            0\n",
              "1  1752  UNITED KINGDOM  ...         0.0                            0\n",
              "2  1753  UNITED KINGDOM  ...         0.0                            0\n",
              "3  1754  UNITED KINGDOM  ...         0.0                            0\n",
              "4  1755  UNITED KINGDOM  ...         0.0                            0\n",
              "\n",
              "[5 rows x 10 columns]"
            ]
          },
          "metadata": {
            "tags": []
          },
          "execution_count": 20
        }
      ]
    },
    {
      "cell_type": "code",
      "metadata": {
        "id": "U9sAKYsMCWkH",
        "colab_type": "code",
        "colab": {
          "base_uri": "https://localhost:8080/",
          "height": 346
        },
        "outputId": "824f933d-60d8-4bb0-ed5c-ec7c7462d3ba"
      },
      "source": [
        "print(df.shape)\n",
        "df.tail()"
      ],
      "execution_count": 21,
      "outputs": [
        {
          "output_type": "stream",
          "text": [
            "(3148, 10)\n"
          ],
          "name": "stdout"
        },
        {
          "output_type": "execute_result",
          "data": {
            "text/html": [
              "<div>\n",
              "<style scoped>\n",
              "    .dataframe tbody tr th:only-of-type {\n",
              "        vertical-align: middle;\n",
              "    }\n",
              "\n",
              "    .dataframe tbody tr th {\n",
              "        vertical-align: top;\n",
              "    }\n",
              "\n",
              "    .dataframe thead th {\n",
              "        text-align: right;\n",
              "    }\n",
              "</style>\n",
              "<table border=\"1\" class=\"dataframe\">\n",
              "  <thead>\n",
              "    <tr style=\"text-align: right;\">\n",
              "      <th></th>\n",
              "      <th>LandAverageTemperatureUncertainty</th>\n",
              "      <th>UpperBounds</th>\n",
              "      <th>LowerBounds</th>\n",
              "      <th>month</th>\n",
              "      <th>year</th>\n",
              "      <th>Average_Temperature</th>\n",
              "      <th>Yearly_SMA</th>\n",
              "      <th>Decade_SMA</th>\n",
              "      <th>Semicentennial_SMA</th>\n",
              "      <th>Centurie</th>\n",
              "    </tr>\n",
              "    <tr>\n",
              "      <th>Datetime</th>\n",
              "      <th></th>\n",
              "      <th></th>\n",
              "      <th></th>\n",
              "      <th></th>\n",
              "      <th></th>\n",
              "      <th></th>\n",
              "      <th></th>\n",
              "      <th></th>\n",
              "      <th></th>\n",
              "      <th></th>\n",
              "    </tr>\n",
              "  </thead>\n",
              "  <tbody>\n",
              "    <tr>\n",
              "      <th>2015-08-01</th>\n",
              "      <td>0.072</td>\n",
              "      <td>14.827</td>\n",
              "      <td>14.683</td>\n",
              "      <td>8</td>\n",
              "      <td>2015</td>\n",
              "      <td>14.755</td>\n",
              "      <td>9.683750</td>\n",
              "      <td>9.580258</td>\n",
              "      <td>9.074065</td>\n",
              "      <td>8.831762</td>\n",
              "    </tr>\n",
              "    <tr>\n",
              "      <th>2015-09-01</th>\n",
              "      <td>0.079</td>\n",
              "      <td>13.078</td>\n",
              "      <td>12.920</td>\n",
              "      <td>9</td>\n",
              "      <td>2015</td>\n",
              "      <td>12.999</td>\n",
              "      <td>9.676083</td>\n",
              "      <td>9.567667</td>\n",
              "      <td>9.072718</td>\n",
              "      <td>8.831119</td>\n",
              "    </tr>\n",
              "    <tr>\n",
              "      <th>2015-10-01</th>\n",
              "      <td>0.102</td>\n",
              "      <td>10.903</td>\n",
              "      <td>10.699</td>\n",
              "      <td>10</td>\n",
              "      <td>2015</td>\n",
              "      <td>10.801</td>\n",
              "      <td>9.715333</td>\n",
              "      <td>9.547533</td>\n",
              "      <td>9.071170</td>\n",
              "      <td>8.830231</td>\n",
              "    </tr>\n",
              "    <tr>\n",
              "      <th>2015-11-01</th>\n",
              "      <td>0.119</td>\n",
              "      <td>7.552</td>\n",
              "      <td>7.314</td>\n",
              "      <td>11</td>\n",
              "      <td>2015</td>\n",
              "      <td>7.433</td>\n",
              "      <td>9.775333</td>\n",
              "      <td>9.521133</td>\n",
              "      <td>9.067745</td>\n",
              "      <td>8.828938</td>\n",
              "    </tr>\n",
              "    <tr>\n",
              "      <th>2015-12-01</th>\n",
              "      <td>0.100</td>\n",
              "      <td>5.618</td>\n",
              "      <td>5.418</td>\n",
              "      <td>12</td>\n",
              "      <td>2015</td>\n",
              "      <td>5.518</td>\n",
              "      <td>9.831000</td>\n",
              "      <td>9.505258</td>\n",
              "      <td>9.067175</td>\n",
              "      <td>8.828357</td>\n",
              "    </tr>\n",
              "  </tbody>\n",
              "</table>\n",
              "</div>"
            ],
            "text/plain": [
              "            LandAverageTemperatureUncertainty  ...  Centurie\n",
              "Datetime                                       ...          \n",
              "2015-08-01                              0.072  ...  8.831762\n",
              "2015-09-01                              0.079  ...  8.831119\n",
              "2015-10-01                              0.102  ...  8.830231\n",
              "2015-11-01                              0.119  ...  8.828938\n",
              "2015-12-01                              0.100  ...  8.828357\n",
              "\n",
              "[5 rows x 10 columns]"
            ]
          },
          "metadata": {
            "tags": []
          },
          "execution_count": 21
        }
      ]
    },
    {
      "cell_type": "markdown",
      "metadata": {
        "id": "FIkClYxH4DFj",
        "colab_type": "text"
      },
      "source": [
        "### 2) For the evaluation metric you chose, what score would you get just by guessing? "
      ]
    },
    {
      "cell_type": "code",
      "metadata": {
        "id": "dhe_izSNHQ8i",
        "colab_type": "code",
        "colab": {}
      },
      "source": [
        "#Pick a better target"
      ],
      "execution_count": 22,
      "outputs": []
    },
    {
      "cell_type": "code",
      "metadata": {
        "id": "CTNu1OYv6P-k",
        "colab_type": "code",
        "colab": {}
      },
      "source": [
        "df['Global_Warming'] = (df['Average_Temperature'] > 8.380413)\n",
        "df[[\"Global_Warming\"]] *= 1\n",
        "y = df['Global_Warming']"
      ],
      "execution_count": 23,
      "outputs": []
    },
    {
      "cell_type": "code",
      "metadata": {
        "id": "du9QDliMJ2pW",
        "colab_type": "code",
        "colab": {}
      },
      "source": [
        "X = df"
      ],
      "execution_count": 24,
      "outputs": []
    },
    {
      "cell_type": "code",
      "metadata": {
        "id": "le8Rpw8gJNvJ",
        "colab_type": "code",
        "colab": {}
      },
      "source": [
        "#Baseline 1 means True and 0 means False "
      ],
      "execution_count": 25,
      "outputs": []
    },
    {
      "cell_type": "code",
      "metadata": {
        "id": "ccGvet6bJO4H",
        "colab_type": "code",
        "colab": {
          "base_uri": "https://localhost:8080/",
          "height": 67
        },
        "outputId": "51a66734-9e88-4f16-b59c-a40507c297a6"
      },
      "source": [
        "y.value_counts(normalize=True)"
      ],
      "execution_count": 26,
      "outputs": [
        {
          "output_type": "execute_result",
          "data": {
            "text/plain": [
              "1    0.51493\n",
              "0    0.48507\n",
              "Name: Global_Warming, dtype: float64"
            ]
          },
          "metadata": {
            "tags": []
          },
          "execution_count": 26
        }
      ]
    },
    {
      "cell_type": "code",
      "metadata": {
        "id": "SzXA1losLfLN",
        "colab_type": "code",
        "colab": {}
      },
      "source": [
        "# Train test split based on time Industrial Revolution start of carbon emmision cutoff\n",
        "cutoff = '1849-12-31'\n",
        "X_train, y_train = X[X.index <= cutoff], y[y.index <= cutoff]\n",
        "X_val, y_val = X[X.index >= cutoff], y[y.index > cutoff]"
      ],
      "execution_count": 27,
      "outputs": []
    },
    {
      "cell_type": "code",
      "metadata": {
        "id": "uKT2ZJ7aLtjl",
        "colab_type": "code",
        "colab": {
          "base_uri": "https://localhost:8080/",
          "height": 118
        },
        "outputId": "0c1616bf-1457-40ba-a096-ed939f061030"
      },
      "source": [
        "print(X_train.shape)\n",
        "print(y_train.shape)\n",
        "print(X_val.shape)\n",
        "print(y_val.shape)\n",
        "print(X.shape)\n",
        "print(y.shape)"
      ],
      "execution_count": 28,
      "outputs": [
        {
          "output_type": "stream",
          "text": [
            "(1157, 11)\n",
            "(1157,)\n",
            "(1991, 11)\n",
            "(1991,)\n",
            "(3148, 11)\n",
            "(3148,)\n"
          ],
          "name": "stdout"
        }
      ]
    },
    {
      "cell_type": "code",
      "metadata": {
        "id": "oPldMW834Xl_",
        "colab_type": "code",
        "colab": {
          "base_uri": "https://localhost:8080/",
          "height": 67
        },
        "outputId": "fb11b992-802d-49bb-b87a-449f1094bb13"
      },
      "source": [
        "# More accurate Baseline\n",
        "y_train.value_counts(normalize=True)"
      ],
      "execution_count": 29,
      "outputs": [
        {
          "output_type": "execute_result",
          "data": {
            "text/plain": [
              "0    0.51599\n",
              "1    0.48401\n",
              "Name: Global_Warming, dtype: float64"
            ]
          },
          "metadata": {
            "tags": []
          },
          "execution_count": 29
        }
      ]
    },
    {
      "cell_type": "code",
      "metadata": {
        "id": "ChzsZn6IL51U",
        "colab_type": "code",
        "colab": {
          "base_uri": "https://localhost:8080/",
          "height": 67
        },
        "outputId": "97048e3a-a654-47b3-ca9e-5cf427c87435"
      },
      "source": [
        "# Baseline for after industrial revolution\n",
        "y_val.value_counts(normalize=True)"
      ],
      "execution_count": 30,
      "outputs": [
        {
          "output_type": "execute_result",
          "data": {
            "text/plain": [
              "1    0.532898\n",
              "0    0.467102\n",
              "Name: Global_Warming, dtype: float64"
            ]
          },
          "metadata": {
            "tags": []
          },
          "execution_count": 30
        }
      ]
    },
    {
      "cell_type": "code",
      "metadata": {
        "id": "-hRxJtmi4X9f",
        "colab_type": "code",
        "colab": {
          "base_uri": "https://localhost:8080/",
          "height": 365
        },
        "outputId": "4c95d8a4-dc2c-426c-f192-799eb9cc95c9"
      },
      "source": [
        "sns.distplot(X.Average_Temperature);"
      ],
      "execution_count": 31,
      "outputs": [
        {
          "output_type": "display_data",
          "data": {
            "image/png": "[encoded data removed]",
            "text/plain": [
              "<Figure size 576x396 with 1 Axes>"
            ]
          },
          "metadata": {
            "tags": []
          }
        }
      ]
    },
    {
      "cell_type": "code",
      "metadata": {
        "id": "Q_WmlnyuMjia",
        "colab_type": "code",
        "colab": {}
      },
      "source": [
        "#Target is left Skeked "
      ],
      "execution_count": 32,
      "outputs": []
    },
    {
      "cell_type": "code",
      "metadata": {
        "id": "u6H0sEMLMeIo",
        "colab_type": "code",
        "colab": {
          "base_uri": "https://localhost:8080/",
          "height": 364
        },
        "outputId": "8dd683e3-fa11-4491-ceeb-5640b8a3de85"
      },
      "source": [
        "sns.distplot(X.Centurie);"
      ],
      "execution_count": 33,
      "outputs": [
        {
          "output_type": "display_data",
          "data": {
            "image/png": "[encoded data removed]",
            "text/plain": [
              "<Figure size 576x396 with 1 Axes>"
            ]
          },
          "metadata": {
            "tags": []
          }
        }
      ]
    },
    {
      "cell_type": "code",
      "metadata": {
        "id": "OLqfTjm2MqzX",
        "colab_type": "code",
        "colab": {
          "base_uri": "https://localhost:8080/",
          "height": 380
        },
        "outputId": "63455e77-6c91-42fd-e998-46845a71e852"
      },
      "source": [
        "y_log = np.log1p(X.Centurie)\n",
        "sns.distplot(y_log)\n",
        "plt.title('Log-transformed target, in log-degrees');"
      ],
      "execution_count": 34,
      "outputs": [
        {
          "output_type": "display_data",
          "data": {
            "image/png": "[encoded data removed]",
            "text/plain": [
              "<Figure size 576x396 with 1 Axes>"
            ]
          },
          "metadata": {
            "tags": []
          }
        }
      ]
    },
    {
      "cell_type": "code",
      "metadata": {
        "id": "DHcJ4rsWM4XE",
        "colab_type": "code",
        "colab": {}
      },
      "source": [
        "# All the imports\n",
        "from sklearn.linear_model import LogisticRegressionCV\n",
        "from sklearn.preprocessing import StandardScaler\n",
        "from category_encoders import OneHotEncoder\n",
        "from sklearn.pipeline import Pipeline\n",
        "from sklearn.impute import SimpleImputer\n",
        "from sklearn.metrics import accuracy_score\n",
        "import category_encoders as ce\n",
        "from sklearn.ensemble import RandomForestClassifier\n",
        "from sklearn.pipeline import make_pipeline"
      ],
      "execution_count": 35,
      "outputs": []
    },
    {
      "cell_type": "markdown",
      "metadata": {
        "id": "bXgQk-Wi4TTV",
        "colab_type": "text"
      },
      "source": [
        "### 3)Can you make a fast, first model that beats guessing?"
      ]
    },
    {
      "cell_type": "code",
      "metadata": {
        "id": "PX_vkVv-M7kq",
        "colab_type": "code",
        "colab": {
          "base_uri": "https://localhost:8080/",
          "height": 350
        },
        "outputId": "d8ee2cae-b50b-460a-a3a7-278c85bcf728"
      },
      "source": [
        "#Mean Absolute Error Baseline - Right skew means temperatures increasing\n",
        "average = X.Centurie.mean()\n",
        "MAE = average - X.Centurie\n",
        "MAE.plot(kind='hist');"
      ],
      "execution_count": 36,
      "outputs": [
        {
          "output_type": "display_data",
          "data": {
            "image/png": "[encoded data removed]",
            "text/plain": [
              "<Figure size 576x396 with 1 Axes>"
            ]
          },
          "metadata": {
            "tags": []
          }
        }
      ]
    },
    {
      "cell_type": "code",
      "metadata": {
        "id": "K7cLye_JNHuy",
        "colab_type": "code",
        "colab": {
          "base_uri": "https://localhost:8080/",
          "height": 34
        },
        "outputId": "b539542c-7020-469b-f4d7-a004cc681b66"
      },
      "source": [
        "MAE = MAE.abs().mean()\n",
        "MAE"
      ],
      "execution_count": 37,
      "outputs": [
        {
          "output_type": "execute_result",
          "data": {
            "text/plain": [
              "0.2083867526952649"
            ]
          },
          "metadata": {
            "tags": []
          },
          "execution_count": 37
        }
      ]
    },
    {
      "cell_type": "code",
      "metadata": {
        "id": "S96w7NVXNLgN",
        "colab_type": "code",
        "colab": {}
      },
      "source": [
        "#standard deviation"
      ],
      "execution_count": 38,
      "outputs": []
    },
    {
      "cell_type": "code",
      "metadata": {
        "id": "V4MkJJ64NMaX",
        "colab_type": "code",
        "colab": {
          "base_uri": "https://localhost:8080/",
          "height": 34
        },
        "outputId": "159c3749-09ca-4876-acf2-5a437d44f5fd"
      },
      "source": [
        "X.Centurie.std()"
      ],
      "execution_count": 39,
      "outputs": [
        {
          "output_type": "execute_result",
          "data": {
            "text/plain": [
              "0.23915015085809932"
            ]
          },
          "metadata": {
            "tags": []
          },
          "execution_count": 39
        }
      ]
    },
    {
      "cell_type": "code",
      "metadata": {
        "id": "CJXdObpcNPjx",
        "colab_type": "code",
        "colab": {
          "base_uri": "https://localhost:8080/",
          "height": 202
        },
        "outputId": "d54d18c9-fa67-40bc-881d-9c4ac768b483"
      },
      "source": [
        "list(X.columns)"
      ],
      "execution_count": 40,
      "outputs": [
        {
          "output_type": "execute_result",
          "data": {
            "text/plain": [
              "['LandAverageTemperatureUncertainty',\n",
              " 'UpperBounds',\n",
              " 'LowerBounds',\n",
              " 'month',\n",
              " 'year',\n",
              " 'Average_Temperature',\n",
              " 'Yearly_SMA',\n",
              " 'Decade_SMA',\n",
              " 'Semicentennial_SMA',\n",
              " 'Centurie',\n",
              " 'Global_Warming']"
            ]
          },
          "metadata": {
            "tags": []
          },
          "execution_count": 40
        }
      ]
    },
    {
      "cell_type": "code",
      "metadata": {
        "id": "2DcYe6X8OEqW",
        "colab_type": "code",
        "colab": {}
      },
      "source": [
        "X.dropna(subset=['Centurie'], inplace=True)"
      ],
      "execution_count": 41,
      "outputs": []
    },
    {
      "cell_type": "code",
      "metadata": {
        "id": "e8omxqmfOPm0",
        "colab_type": "code",
        "colab": {
          "base_uri": "https://localhost:8080/",
          "height": 218
        },
        "outputId": "e00e4f34-0c13-47e5-877c-7d33a94351bb"
      },
      "source": [
        "X.isnull().sum()"
      ],
      "execution_count": 42,
      "outputs": [
        {
          "output_type": "execute_result",
          "data": {
            "text/plain": [
              "LandAverageTemperatureUncertainty    0\n",
              "UpperBounds                          0\n",
              "LowerBounds                          0\n",
              "month                                0\n",
              "year                                 0\n",
              "Average_Temperature                  0\n",
              "Yearly_SMA                           0\n",
              "Decade_SMA                           0\n",
              "Semicentennial_SMA                   0\n",
              "Centurie                             0\n",
              "Global_Warming                       0\n",
              "dtype: int64"
            ]
          },
          "metadata": {
            "tags": []
          },
          "execution_count": 42
        }
      ]
    },
    {
      "cell_type": "code",
      "metadata": {
        "id": "pRGRGIYCNSqC",
        "colab_type": "code",
        "colab": {
          "base_uri": "https://localhost:8080/",
          "height": 34
        },
        "outputId": "cd99718e-7ca1-4a12-cf72-3cf113ac2b9d"
      },
      "source": [
        "#make and train our model \n",
        "#initiate the class\n",
        "model_2f =  LinearRegression()\n",
        "#make features and target\n",
        "features = [\n",
        " 'Yearly_SMA',\n",
        " 'Decade_SMA',\n",
        " 'Semicentennial_SMA',\n",
        " 'Centurie',\n",
        " 'Global_Warming']\n",
        "target = ['Average_Temperature']\n",
        "#make train data\n",
        "x_train = X[features]\n",
        "y_train = X[target]\n",
        "#fit the model \n",
        "model_2f.fit(x_train,y_train)"
      ],
      "execution_count": 43,
      "outputs": [
        {
          "output_type": "execute_result",
          "data": {
            "text/plain": [
              "LinearRegression(copy_X=True, fit_intercept=True, n_jobs=None, normalize=False)"
            ]
          },
          "metadata": {
            "tags": []
          },
          "execution_count": 43
        }
      ]
    },
    {
      "cell_type": "code",
      "metadata": {
        "id": "IuFp7VldOZGL",
        "colab_type": "code",
        "colab": {}
      },
      "source": [
        "#test train data\n",
        "train_pred = model_2f.predict(x_train)"
      ],
      "execution_count": 44,
      "outputs": []
    },
    {
      "cell_type": "code",
      "metadata": {
        "id": "mJJP0zP_OZ7U",
        "colab_type": "code",
        "colab": {}
      },
      "source": [
        "#Lots of improvent from yesterday beating guesing"
      ],
      "execution_count": 45,
      "outputs": []
    },
    {
      "cell_type": "code",
      "metadata": {
        "id": "Za95JRPuOdQp",
        "colab_type": "code",
        "colab": {
          "base_uri": "https://localhost:8080/",
          "height": 34
        },
        "outputId": "eaf482f2-3dc3-4afb-b167-b916c390bb14"
      },
      "source": [
        "r2 = r2_score(y_train,train_pred)\n",
        "print(f' R2 score for train: {r2}')"
      ],
      "execution_count": 46,
      "outputs": [
        {
          "output_type": "stream",
          "text": [
            " R2 score for train: 0.8075969912738209\n"
          ],
          "name": "stdout"
        }
      ]
    },
    {
      "cell_type": "code",
      "metadata": {
        "id": "ALUXhCHWO-BF",
        "colab_type": "code",
        "colab": {
          "base_uri": "https://localhost:8080/",
          "height": 346
        },
        "outputId": "39245542-030f-4a1b-d6a5-6c0e2d9a7b8f"
      },
      "source": [
        "y2=X.Global_Warming\n",
        "print(X.shape)\n",
        "X.head()"
      ],
      "execution_count": 48,
      "outputs": [
        {
          "output_type": "stream",
          "text": [
            "(1949, 11)\n"
          ],
          "name": "stdout"
        },
        {
          "output_type": "execute_result",
          "data": {
            "text/html": [
              "<div>\n",
              "<style scoped>\n",
              "    .dataframe tbody tr th:only-of-type {\n",
              "        vertical-align: middle;\n",
              "    }\n",
              "\n",
              "    .dataframe tbody tr th {\n",
              "        vertical-align: top;\n",
              "    }\n",
              "\n",
              "    .dataframe thead th {\n",
              "        text-align: right;\n",
              "    }\n",
              "</style>\n",
              "<table border=\"1\" class=\"dataframe\">\n",
              "  <thead>\n",
              "    <tr style=\"text-align: right;\">\n",
              "      <th></th>\n",
              "      <th>LandAverageTemperatureUncertainty</th>\n",
              "      <th>UpperBounds</th>\n",
              "      <th>LowerBounds</th>\n",
              "      <th>month</th>\n",
              "      <th>year</th>\n",
              "      <th>Average_Temperature</th>\n",
              "      <th>Yearly_SMA</th>\n",
              "      <th>Decade_SMA</th>\n",
              "      <th>Semicentennial_SMA</th>\n",
              "      <th>Centurie</th>\n",
              "      <th>Global_Warming</th>\n",
              "    </tr>\n",
              "    <tr>\n",
              "      <th>Datetime</th>\n",
              "      <th></th>\n",
              "      <th></th>\n",
              "      <th></th>\n",
              "      <th></th>\n",
              "      <th></th>\n",
              "      <th></th>\n",
              "      <th></th>\n",
              "      <th></th>\n",
              "      <th></th>\n",
              "      <th></th>\n",
              "      <th></th>\n",
              "    </tr>\n",
              "  </thead>\n",
              "  <tbody>\n",
              "    <tr>\n",
              "      <th>1853-07-01</th>\n",
              "      <td>0.659</td>\n",
              "      <td>15.304</td>\n",
              "      <td>13.986</td>\n",
              "      <td>7</td>\n",
              "      <td>1853</td>\n",
              "      <td>14.645</td>\n",
              "      <td>8.061083</td>\n",
              "      <td>8.033942</td>\n",
              "      <td>7.901028</td>\n",
              "      <td>8.056038</td>\n",
              "      <td>1</td>\n",
              "    </tr>\n",
              "    <tr>\n",
              "      <th>1853-08-01</th>\n",
              "      <td>0.723</td>\n",
              "      <td>14.676</td>\n",
              "      <td>13.230</td>\n",
              "      <td>8</td>\n",
              "      <td>1853</td>\n",
              "      <td>13.953</td>\n",
              "      <td>8.115167</td>\n",
              "      <td>8.039425</td>\n",
              "      <td>7.904625</td>\n",
              "      <td>8.065137</td>\n",
              "      <td>1</td>\n",
              "    </tr>\n",
              "    <tr>\n",
              "      <th>1853-09-01</th>\n",
              "      <td>0.749</td>\n",
              "      <td>12.459</td>\n",
              "      <td>10.961</td>\n",
              "      <td>9</td>\n",
              "      <td>1853</td>\n",
              "      <td>11.710</td>\n",
              "      <td>8.134500</td>\n",
              "      <td>8.042625</td>\n",
              "      <td>7.901107</td>\n",
              "      <td>8.072326</td>\n",
              "      <td>1</td>\n",
              "    </tr>\n",
              "    <tr>\n",
              "      <th>1853-10-01</th>\n",
              "      <td>0.546</td>\n",
              "      <td>9.081</td>\n",
              "      <td>7.989</td>\n",
              "      <td>10</td>\n",
              "      <td>1853</td>\n",
              "      <td>8.535</td>\n",
              "      <td>8.103250</td>\n",
              "      <td>8.041067</td>\n",
              "      <td>7.890155</td>\n",
              "      <td>8.074750</td>\n",
              "      <td>1</td>\n",
              "    </tr>\n",
              "    <tr>\n",
              "      <th>1853-11-01</th>\n",
              "      <td>0.868</td>\n",
              "      <td>5.651</td>\n",
              "      <td>3.915</td>\n",
              "      <td>11</td>\n",
              "      <td>1853</td>\n",
              "      <td>4.783</td>\n",
              "      <td>8.119083</td>\n",
              "      <td>8.039700</td>\n",
              "      <td>7.872517</td>\n",
              "      <td>8.071661</td>\n",
              "      <td>0</td>\n",
              "    </tr>\n",
              "  </tbody>\n",
              "</table>\n",
              "</div>"
            ],
            "text/plain": [
              "            LandAverageTemperatureUncertainty  ...  Global_Warming\n",
              "Datetime                                       ...                \n",
              "1853-07-01                              0.659  ...               1\n",
              "1853-08-01                              0.723  ...               1\n",
              "1853-09-01                              0.749  ...               1\n",
              "1853-10-01                              0.546  ...               1\n",
              "1853-11-01                              0.868  ...               0\n",
              "\n",
              "[5 rows x 11 columns]"
            ]
          },
          "metadata": {
            "tags": []
          },
          "execution_count": 48
        }
      ]
    },
    {
      "cell_type": "code",
      "metadata": {
        "id": "k6ij_jfiQ-8m",
        "colab_type": "code",
        "colab": {}
      },
      "source": [
        "#more baselines"
      ],
      "execution_count": 49,
      "outputs": []
    },
    {
      "cell_type": "code",
      "metadata": {
        "id": "4sWy0VGQQssy",
        "colab_type": "code",
        "colab": {
          "base_uri": "https://localhost:8080/",
          "height": 67
        },
        "outputId": "a06cd914-dc10-44be-de76-22c362fead25"
      },
      "source": [
        "y2.value_counts(normalize=True)"
      ],
      "execution_count": 50,
      "outputs": [
        {
          "output_type": "execute_result",
          "data": {
            "text/plain": [
              "1    0.534633\n",
              "0    0.465367\n",
              "Name: Global_Warming, dtype: float64"
            ]
          },
          "metadata": {
            "tags": []
          },
          "execution_count": 50
        }
      ]
    },
    {
      "cell_type": "code",
      "metadata": {
        "id": "60uxoUCzPRAq",
        "colab_type": "code",
        "colab": {}
      },
      "source": [
        "from sklearn.model_selection import train_test_split\n",
        "X_train, X_val, y_train, y_val = train_test_split(X,y2, test_size=.2, random_state=42) "
      ],
      "execution_count": 51,
      "outputs": []
    },
    {
      "cell_type": "code",
      "metadata": {
        "id": "tv-aUvY-Q2RB",
        "colab_type": "code",
        "colab": {
          "base_uri": "https://localhost:8080/",
          "height": 67
        },
        "outputId": "42ddad1c-ac3d-49e2-c9d2-6897010c941f"
      },
      "source": [
        "y_train.value_counts(normalize=True)"
      ],
      "execution_count": 52,
      "outputs": [
        {
          "output_type": "execute_result",
          "data": {
            "text/plain": [
              "1    0.530468\n",
              "0    0.469532\n",
              "Name: Global_Warming, dtype: float64"
            ]
          },
          "metadata": {
            "tags": []
          },
          "execution_count": 52
        }
      ]
    },
    {
      "cell_type": "code",
      "metadata": {
        "id": "1fvQy--HQ3Rn",
        "colab_type": "code",
        "colab": {
          "base_uri": "https://localhost:8080/",
          "height": 67
        },
        "outputId": "f3c10082-89a7-4f4e-c1f4-3f0c996fae42"
      },
      "source": [
        "y_val.value_counts(normalize=True)"
      ],
      "execution_count": 53,
      "outputs": [
        {
          "output_type": "execute_result",
          "data": {
            "text/plain": [
              "1    0.551282\n",
              "0    0.448718\n",
              "Name: Global_Warming, dtype: float64"
            ]
          },
          "metadata": {
            "tags": []
          },
          "execution_count": 53
        }
      ]
    },
    {
      "cell_type": "markdown",
      "metadata": {
        "id": "d6cmwdtFRGyI",
        "colab_type": "text"
      },
      "source": [
        "### 4) Build Models"
      ]
    },
    {
      "cell_type": "code",
      "metadata": {
        "id": "rm6oRPxURSj1",
        "colab_type": "code",
        "colab": {}
      },
      "source": [
        "#Baseline of full df"
      ],
      "execution_count": 54,
      "outputs": []
    },
    {
      "cell_type": "code",
      "metadata": {
        "id": "nmUkI-NmRRAV",
        "colab_type": "code",
        "colab": {
          "base_uri": "https://localhost:8080/",
          "height": 67
        },
        "outputId": "266ef66c-1c94-448a-847d-0b3596968fbf"
      },
      "source": [
        "y.value_counts(normalize=True)"
      ],
      "execution_count": 55,
      "outputs": [
        {
          "output_type": "execute_result",
          "data": {
            "text/plain": [
              "1    0.51493\n",
              "0    0.48507\n",
              "Name: Global_Warming, dtype: float64"
            ]
          },
          "metadata": {
            "tags": []
          },
          "execution_count": 55
        }
      ]
    },
    {
      "cell_type": "code",
      "metadata": {
        "id": "6gsLRU1jRrgk",
        "colab_type": "code",
        "colab": {}
      },
      "source": [
        "X_train, X_val, y_train, y_val = train_test_split(X, y2, test_size=0.2, \n",
        "                                                  stratify=y2, random_state=42)"
      ],
      "execution_count": 59,
      "outputs": []
    },
    {
      "cell_type": "code",
      "metadata": {
        "id": "h5ttIaa9RVSB",
        "colab_type": "code",
        "colab": {
          "base_uri": "https://localhost:8080/",
          "height": 34
        },
        "outputId": "4636d4d0-c350-4d67-d527-a410724ed163"
      },
      "source": [
        "print('Baseline accuracy:', y_train.value_counts(normalize=True).max())"
      ],
      "execution_count": 60,
      "outputs": [
        {
          "output_type": "stream",
          "text": [
            "Baseline accuracy: 0.5343168697883258\n"
          ],
          "name": "stdout"
        }
      ]
    },
    {
      "cell_type": "code",
      "metadata": {
        "id": "mNT31vN1RY6P",
        "colab_type": "code",
        "colab": {}
      },
      "source": [
        "from sklearn.linear_model import LogisticRegression"
      ],
      "execution_count": 61,
      "outputs": []
    },
    {
      "cell_type": "code",
      "metadata": {
        "id": "sQhFhbgQRczy",
        "colab_type": "code",
        "colab": {}
      },
      "source": [
        "#Instantiate - Log model \n",
        "log_model = LogisticRegression()\n",
        "#Fit with training data\n",
        "log_model.fit(X_train, y_train);"
      ],
      "execution_count": 62,
      "outputs": []
    },
    {
      "cell_type": "code",
      "metadata": {
        "id": "qcfho5wwRiY7",
        "colab_type": "code",
        "colab": {
          "base_uri": "https://localhost:8080/",
          "height": 50
        },
        "outputId": "d5c98692-d188-4706-b43f-741792336691"
      },
      "source": [
        "print('training accuracy:', log_model.score(X_train, y_train))\n",
        "print('validation accuracy:', log_model.score(X_val, y_val))"
      ],
      "execution_count": 63,
      "outputs": [
        {
          "output_type": "stream",
          "text": [
            "training accuracy: 1.0\n",
            "validation accuracy: 1.0\n"
          ],
          "name": "stdout"
        }
      ]
    },
    {
      "cell_type": "code",
      "metadata": {
        "id": "WMoXJFCeR_p8",
        "colab_type": "code",
        "colab": {}
      },
      "source": [
        "from sklearn.metrics import classification_report"
      ],
      "execution_count": 64,
      "outputs": []
    },
    {
      "cell_type": "code",
      "metadata": {
        "id": "U82XyUWBSAtT",
        "colab_type": "code",
        "colab": {
          "base_uri": "https://localhost:8080/",
          "height": 296
        },
        "outputId": "665f9483-e721-4dd1-f776-b1d493f8c9cf"
      },
      "source": [
        "print(classification_report(y_val, y_pred, target_names=df['Global_Warming']))"
      ],
      "execution_count": 66,
      "outputs": [
        {
          "output_type": "error",
          "ename": "ValueError",
          "evalue": "ignored",
          "traceback": [
            "\u001b[0;31m---------------------------------------------------------------------------\u001b[0m",
            "\u001b[0;31mValueError\u001b[0m                                Traceback (most recent call last)",
            "\u001b[0;32m<ipython-input-66-f0e56e39dc9a>\u001b[0m in \u001b[0;36m<module>\u001b[0;34m()\u001b[0m\n\u001b[0;32m----> 1\u001b[0;31m \u001b[0mprint\u001b[0m\u001b[0;34m(\u001b[0m\u001b[0mclassification_report\u001b[0m\u001b[0;34m(\u001b[0m\u001b[0my_val\u001b[0m\u001b[0;34m,\u001b[0m \u001b[0my_pred\u001b[0m\u001b[0;34m,\u001b[0m \u001b[0mtarget_names\u001b[0m\u001b[0;34m=\u001b[0m\u001b[0mdf\u001b[0m\u001b[0;34m[\u001b[0m\u001b[0;34m'Global_Warming'\u001b[0m\u001b[0;34m]\u001b[0m\u001b[0;34m)\u001b[0m\u001b[0;34m)\u001b[0m\u001b[0;34m\u001b[0m\u001b[0;34m\u001b[0m\u001b[0m\n\u001b[0m",
            "\u001b[0;32m/usr/local/lib/python3.6/dist-packages/sklearn/metrics/_classification.py\u001b[0m in \u001b[0;36mclassification_report\u001b[0;34m(y_true, y_pred, labels, target_names, sample_weight, digits, output_dict, zero_division)\u001b[0m\n\u001b[1;32m   1993\u001b[0m                 \u001b[0;34m\"Number of classes, {0}, does not match size of \"\u001b[0m\u001b[0;34m\u001b[0m\u001b[0;34m\u001b[0m\u001b[0m\n\u001b[1;32m   1994\u001b[0m                 \u001b[0;34m\"target_names, {1}. Try specifying the labels \"\u001b[0m\u001b[0;34m\u001b[0m\u001b[0;34m\u001b[0m\u001b[0m\n\u001b[0;32m-> 1995\u001b[0;31m                 \u001b[0;34m\"parameter\"\u001b[0m\u001b[0;34m.\u001b[0m\u001b[0mformat\u001b[0m\u001b[0;34m(\u001b[0m\u001b[0mlen\u001b[0m\u001b[0;34m(\u001b[0m\u001b[0mlabels\u001b[0m\u001b[0;34m)\u001b[0m\u001b[0;34m,\u001b[0m \u001b[0mlen\u001b[0m\u001b[0;34m(\u001b[0m\u001b[0mtarget_names\u001b[0m\u001b[0;34m)\u001b[0m\u001b[0;34m)\u001b[0m\u001b[0;34m\u001b[0m\u001b[0;34m\u001b[0m\u001b[0m\n\u001b[0m\u001b[1;32m   1996\u001b[0m             )\n\u001b[1;32m   1997\u001b[0m     \u001b[0;32mif\u001b[0m \u001b[0mtarget_names\u001b[0m \u001b[0;32mis\u001b[0m \u001b[0;32mNone\u001b[0m\u001b[0;34m:\u001b[0m\u001b[0;34m\u001b[0m\u001b[0;34m\u001b[0m\u001b[0m\n",
            "\u001b[0;31mValueError\u001b[0m: Number of classes, 2, does not match size of target_names, 1949. Try specifying the labels parameter"
          ]
        }
      ]
    },
    {
      "cell_type": "markdown",
      "metadata": {
        "id": "UCpBXbZMSK3X",
        "colab_type": "text"
      },
      "source": [
        "### Check ROC"
      ]
    }
  ]
}