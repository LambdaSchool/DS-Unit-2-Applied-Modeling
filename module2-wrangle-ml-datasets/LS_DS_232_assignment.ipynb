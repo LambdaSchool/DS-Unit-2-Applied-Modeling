{
  "nbformat": 4,
  "nbformat_minor": 0,
  "metadata": {
    "jupytext": {
      "cell_metadata_filter": "-all",
      "main_language": "python",
      "notebook_metadata_filter": "-all"
    },
    "kernelspec": {
      "display_name": "Python 3",
      "language": "python",
      "name": "python3"
    },
    "language_info": {
      "codemirror_mode": {
        "name": "ipython",
        "version": 3
      },
      "file_extension": ".py",
      "mimetype": "text/x-python",
      "name": "python",
      "nbconvert_exporter": "python",
      "pygments_lexer": "ipython3",
      "version": "3.7.3"
    },
    "colab": {
      "name": "LS_DS_232_assignment.ipynb",
      "provenance": []
    }
  },
  "cells": [
    {
      "cell_type": "markdown",
      "metadata": {
        "id": "63sEAm97Ge_f",
        "colab_type": "text"
      },
      "source": [
        "Lambda School Data Science\n",
        "\n",
        "*Unit 2, Sprint 3, Module 1*\n",
        "\n",
        "---\n",
        "\n",
        "\n",
        "# Wrangle ML datasets\n",
        "\n",
        "- [ ] Continue to clean and explore your data. \n",
        "- [ ] For the evaluation metric you chose, what score would you get just by guessing?\n",
        "- [ ] Can you make a fast, first model that beats guessing?\n",
        "\n",
        "**We recommend that you use your portfolio project dataset for all assignments this sprint.**\n",
        "\n",
        "**But if you aren't ready yet, or you want more practice, then use the New York City property sales dataset for today's assignment.** Follow the instructions below, to just keep a subset for the Tribeca neighborhood, and remove outliers or dirty data. [Here's a video walkthrough](https://youtu.be/pPWFw8UtBVg?t=584) you can refer to if you get stuck or want hints!\n",
        "\n",
        "- Data Source: [NYC OpenData: NYC Citywide Rolling Calendar Sales](https://data.cityofnewyork.us/dataset/NYC-Citywide-Rolling-Calendar-Sales/usep-8jbt)\n",
        "- Glossary: [NYC Department of Finance: Rolling Sales Data](https://www1.nyc.gov/site/finance/taxes/property-rolling-sales-data.page)"
      ]
    },
    {
      "cell_type": "code",
      "metadata": {
        "id": "2BcEaRSl-CjA",
        "colab_type": "code",
        "colab": {}
      },
      "source": [
        "# pd.options.display.float_format = '{:,}'.format"
      ],
      "execution_count": 0,
      "outputs": []
    },
    {
      "cell_type": "code",
      "metadata": {
        "id": "nXosJbRqGe_i",
        "colab_type": "code",
        "colab": {}
      },
      "source": [
        "%%capture\n",
        "import sys\n",
        "\n",
        "# If you're on Colab:\n",
        "if 'google.colab' in sys.modules:\n",
        "    DATA_PATH = 'https://raw.githubusercontent.com/LambdaSchool/DS-Unit-2-Applied-Modeling/master/data/'\n",
        "    !pip install category_encoders==2.*\n",
        "    !pip install pandas-profiling==2.*\n",
        "\n",
        "# If you're working locally:\n",
        "else:\n",
        "    DATA_PATH = '../data/'"
      ],
      "execution_count": 0,
      "outputs": []
    },
    {
      "cell_type": "code",
      "metadata": {
        "id": "MDBKFmTNGe_m",
        "colab_type": "code",
        "colab": {}
      },
      "source": [
        "# Read New York City property sales data\n",
        "import pandas as pd\n",
        "df = pd.read_csv(DATA_PATH+'condos/NYC_Citywide_Rolling_Calendar_Sales.csv')"
      ],
      "execution_count": 0,
      "outputs": []
    },
    {
      "cell_type": "markdown",
      "metadata": {
        "id": "RyZv626SGe_s",
        "colab_type": "text"
      },
      "source": [
        "Your code starts here:"
      ]
    },
    {
      "cell_type": "code",
      "metadata": {
        "id": "_K0TWfTPMNeK",
        "colab_type": "code",
        "colab": {
          "base_uri": "https://localhost:8080/",
          "height": 513
        },
        "outputId": "5586639f-8712-4619-c980-537964b320ab"
      },
      "source": [
        "df.head()"
      ],
      "execution_count": 267,
      "outputs": [
        {
          "output_type": "execute_result",
          "data": {
            "text/html": [
              "<div>\n",
              "<style scoped>\n",
              "    .dataframe tbody tr th:only-of-type {\n",
              "        vertical-align: middle;\n",
              "    }\n",
              "\n",
              "    .dataframe tbody tr th {\n",
              "        vertical-align: top;\n",
              "    }\n",
              "\n",
              "    .dataframe thead th {\n",
              "        text-align: right;\n",
              "    }\n",
              "</style>\n",
              "<table border=\"1\" class=\"dataframe\">\n",
              "  <thead>\n",
              "    <tr style=\"text-align: right;\">\n",
              "      <th></th>\n",
              "      <th>BOROUGH</th>\n",
              "      <th>NEIGHBORHOOD</th>\n",
              "      <th>BUILDING CLASS CATEGORY</th>\n",
              "      <th>TAX CLASS AT PRESENT</th>\n",
              "      <th>BLOCK</th>\n",
              "      <th>LOT</th>\n",
              "      <th>EASE-MENT</th>\n",
              "      <th>BUILDING CLASS AT PRESENT</th>\n",
              "      <th>ADDRESS</th>\n",
              "      <th>APARTMENT NUMBER</th>\n",
              "      <th>ZIP CODE</th>\n",
              "      <th>RESIDENTIAL UNITS</th>\n",
              "      <th>COMMERCIAL UNITS</th>\n",
              "      <th>TOTAL UNITS</th>\n",
              "      <th>LAND SQUARE FEET</th>\n",
              "      <th>GROSS SQUARE FEET</th>\n",
              "      <th>YEAR BUILT</th>\n",
              "      <th>TAX CLASS AT TIME OF SALE</th>\n",
              "      <th>BUILDING CLASS AT TIME OF SALE</th>\n",
              "      <th>SALE PRICE</th>\n",
              "      <th>SALE DATE</th>\n",
              "    </tr>\n",
              "  </thead>\n",
              "  <tbody>\n",
              "    <tr>\n",
              "      <th>0</th>\n",
              "      <td>1</td>\n",
              "      <td>CHELSEA</td>\n",
              "      <td>13 CONDOS - ELEVATOR APARTMENTS</td>\n",
              "      <td>2</td>\n",
              "      <td>716</td>\n",
              "      <td>1246</td>\n",
              "      <td>nan</td>\n",
              "      <td>R4</td>\n",
              "      <td>447 WEST 18TH STREET, PH12A</td>\n",
              "      <td>PH12A</td>\n",
              "      <td>10,011.0</td>\n",
              "      <td>1.0</td>\n",
              "      <td>0.0</td>\n",
              "      <td>1.0</td>\n",
              "      <td>10,733</td>\n",
              "      <td>1,979.0</td>\n",
              "      <td>2,007.0</td>\n",
              "      <td>2</td>\n",
              "      <td>R4</td>\n",
              "      <td>$   - 0</td>\n",
              "      <td>01/01/2019</td>\n",
              "    </tr>\n",
              "    <tr>\n",
              "      <th>1</th>\n",
              "      <td>1</td>\n",
              "      <td>FASHION</td>\n",
              "      <td>21 OFFICE BUILDINGS</td>\n",
              "      <td>4</td>\n",
              "      <td>812</td>\n",
              "      <td>68</td>\n",
              "      <td>nan</td>\n",
              "      <td>O5</td>\n",
              "      <td>144 WEST 37TH STREET</td>\n",
              "      <td>NaN</td>\n",
              "      <td>10,018.0</td>\n",
              "      <td>0.0</td>\n",
              "      <td>6.0</td>\n",
              "      <td>6.0</td>\n",
              "      <td>2,962</td>\n",
              "      <td>15,435.0</td>\n",
              "      <td>1,920.0</td>\n",
              "      <td>4</td>\n",
              "      <td>O5</td>\n",
              "      <td>$   - 0</td>\n",
              "      <td>01/01/2019</td>\n",
              "    </tr>\n",
              "    <tr>\n",
              "      <th>2</th>\n",
              "      <td>1</td>\n",
              "      <td>FASHION</td>\n",
              "      <td>21 OFFICE BUILDINGS</td>\n",
              "      <td>4</td>\n",
              "      <td>839</td>\n",
              "      <td>69</td>\n",
              "      <td>nan</td>\n",
              "      <td>O5</td>\n",
              "      <td>40 WEST 38TH STREET</td>\n",
              "      <td>NaN</td>\n",
              "      <td>10,018.0</td>\n",
              "      <td>0.0</td>\n",
              "      <td>7.0</td>\n",
              "      <td>7.0</td>\n",
              "      <td>2,074</td>\n",
              "      <td>11,332.0</td>\n",
              "      <td>1,930.0</td>\n",
              "      <td>4</td>\n",
              "      <td>O5</td>\n",
              "      <td>$   - 0</td>\n",
              "      <td>01/01/2019</td>\n",
              "    </tr>\n",
              "    <tr>\n",
              "      <th>3</th>\n",
              "      <td>1</td>\n",
              "      <td>GREENWICH VILLAGE-WEST</td>\n",
              "      <td>13 CONDOS - ELEVATOR APARTMENTS</td>\n",
              "      <td>2</td>\n",
              "      <td>592</td>\n",
              "      <td>1041</td>\n",
              "      <td>nan</td>\n",
              "      <td>R4</td>\n",
              "      <td>1 SHERIDAN SQUARE, 8C</td>\n",
              "      <td>8C</td>\n",
              "      <td>10,014.0</td>\n",
              "      <td>1.0</td>\n",
              "      <td>0.0</td>\n",
              "      <td>1.0</td>\n",
              "      <td>0</td>\n",
              "      <td>500.0</td>\n",
              "      <td>0.0</td>\n",
              "      <td>2</td>\n",
              "      <td>R4</td>\n",
              "      <td>$   - 0</td>\n",
              "      <td>01/01/2019</td>\n",
              "    </tr>\n",
              "    <tr>\n",
              "      <th>4</th>\n",
              "      <td>1</td>\n",
              "      <td>UPPER EAST SIDE (59-79)</td>\n",
              "      <td>15 CONDOS - 2-10 UNIT RESIDENTIAL</td>\n",
              "      <td>2C</td>\n",
              "      <td>1379</td>\n",
              "      <td>1402</td>\n",
              "      <td>nan</td>\n",
              "      <td>R1</td>\n",
              "      <td>20 EAST 65TH STREET, B</td>\n",
              "      <td>B</td>\n",
              "      <td>10,065.0</td>\n",
              "      <td>1.0</td>\n",
              "      <td>0.0</td>\n",
              "      <td>1.0</td>\n",
              "      <td>0</td>\n",
              "      <td>6,406.0</td>\n",
              "      <td>0.0</td>\n",
              "      <td>2</td>\n",
              "      <td>R1</td>\n",
              "      <td>$   - 0</td>\n",
              "      <td>01/01/2019</td>\n",
              "    </tr>\n",
              "  </tbody>\n",
              "</table>\n",
              "</div>"
            ],
            "text/plain": [
              "   BOROUGH             NEIGHBORHOOD  ... SALE PRICE   SALE DATE\n",
              "0        1                  CHELSEA  ...    $   - 0  01/01/2019\n",
              "1        1                  FASHION  ...    $   - 0  01/01/2019\n",
              "2        1                  FASHION  ...    $   - 0  01/01/2019\n",
              "3        1   GREENWICH VILLAGE-WEST  ...    $   - 0  01/01/2019\n",
              "4        1  UPPER EAST SIDE (59-79)  ...    $   - 0  01/01/2019\n",
              "\n",
              "[5 rows x 21 columns]"
            ]
          },
          "metadata": {
            "tags": []
          },
          "execution_count": 267
        }
      ]
    },
    {
      "cell_type": "code",
      "metadata": {
        "id": "YcVnqRPXGe_t",
        "colab_type": "code",
        "colab": {
          "base_uri": "https://localhost:8080/",
          "height": 153
        },
        "outputId": "00fbe87d-472b-44e4-89f8-fc2fb9818aa1"
      },
      "source": [
        "# Change column names: replace spaces with underscores\n",
        "df.columns = df.columns.str.replace(' ', '_')\n",
        "df.columns = df.columns.str.lower()\n",
        "df.columns"
      ],
      "execution_count": 268,
      "outputs": [
        {
          "output_type": "execute_result",
          "data": {
            "text/plain": [
              "Index(['borough', 'neighborhood', 'building_class_category',\n",
              "       'tax_class_at_present', 'block', 'lot', 'ease-ment',\n",
              "       'building_class_at_present', 'address', 'apartment_number', 'zip_code',\n",
              "       'residential_units', 'commercial_units', 'total_units',\n",
              "       'land_square_feet', 'gross_square_feet', 'year_built',\n",
              "       'tax_class_at_time_of_sale', 'building_class_at_time_of_sale',\n",
              "       'sale_price', 'sale_date'],\n",
              "      dtype='object')"
            ]
          },
          "metadata": {
            "tags": []
          },
          "execution_count": 268
        }
      ]
    },
    {
      "cell_type": "code",
      "metadata": {
        "id": "xwGn5uE0Ge_w",
        "colab_type": "code",
        "colab": {}
      },
      "source": [
        "# Get Pandas Profiling Report\n",
        "from pandas_profiling import ProfileReport\n",
        "# ProfileReport(df,minimal=True)"
      ],
      "execution_count": 0,
      "outputs": []
    },
    {
      "cell_type": "code",
      "metadata": {
        "id": "G-fsUNv0Ge_y",
        "colab_type": "code",
        "colab": {
          "base_uri": "https://localhost:8080/",
          "height": 34
        },
        "outputId": "ded01d2a-5acf-4c45-f967-53a4fc67c337"
      },
      "source": [
        "# Keep just the subset of data for the Tribeca neighborhood\n",
        "# Check how many rows you have now. (Should go down from > 20k rows to 146)\n",
        "tribeca = df[df['neighborhood'] == 'TRIBECA']\n",
        "tribeca.shape"
      ],
      "execution_count": 270,
      "outputs": [
        {
          "output_type": "execute_result",
          "data": {
            "text/plain": [
              "(146, 21)"
            ]
          },
          "metadata": {
            "tags": []
          },
          "execution_count": 270
        }
      ]
    },
    {
      "cell_type": "code",
      "metadata": {
        "id": "OXpiHh1eGe_1",
        "colab_type": "code",
        "colab": {
          "base_uri": "https://localhost:8080/",
          "height": 51
        },
        "outputId": "d7cad851-bdcb-4c4d-ede2-ab060e0f63ea"
      },
      "source": [
        "# Q. What's the date range of these property sales in Tribeca?\n",
        "print(tribeca['sale_date'].max())\n",
        "print(tribeca['sale_date'].min())"
      ],
      "execution_count": 271,
      "outputs": [
        {
          "output_type": "stream",
          "text": [
            "04/30/2019\n",
            "01/03/2019\n"
          ],
          "name": "stdout"
        }
      ]
    },
    {
      "cell_type": "code",
      "metadata": {
        "id": "EyqZKzwNGe_4",
        "colab_type": "code",
        "colab": {}
      },
      "source": [
        "# The Pandas Profiling Report showed that SALE_PRICE was read as strings\n",
        "# Convert it to integers\n",
        "df['sale_price'] = df['sale_price'].str.strip('$').str.strip(' ').str.strip('- ')"
      ],
      "execution_count": 0,
      "outputs": []
    },
    {
      "cell_type": "code",
      "metadata": {
        "id": "3fYYYDpPBXzD",
        "colab_type": "code",
        "colab": {
          "base_uri": "https://localhost:8080/",
          "height": 34
        },
        "outputId": "c91899c7-277e-4b13-bc12-d6725ea6e940"
      },
      "source": [
        "df['sale_price'][40]"
      ],
      "execution_count": 273,
      "outputs": [
        {
          "output_type": "execute_result",
          "data": {
            "text/plain": [
              "'0'"
            ]
          },
          "metadata": {
            "tags": []
          },
          "execution_count": 273
        }
      ]
    },
    {
      "cell_type": "code",
      "metadata": {
        "id": "g5pa68N1cCbC",
        "colab_type": "code",
        "colab": {}
      },
      "source": [
        "df['sale_price'] = df['sale_price'].str.replace(',', '')"
      ],
      "execution_count": 0,
      "outputs": []
    },
    {
      "cell_type": "code",
      "metadata": {
        "id": "xm2JW-2TTGIg",
        "colab_type": "code",
        "colab": {}
      },
      "source": [
        "df['sale_price'] = df['sale_price'].astype(int)"
      ],
      "execution_count": 0,
      "outputs": []
    },
    {
      "cell_type": "code",
      "metadata": {
        "id": "wxLsM2iaGe_7",
        "colab_type": "code",
        "colab": {
          "base_uri": "https://localhost:8080/",
          "height": 34
        },
        "outputId": "854595e1-cac4-41a7-b7a1-4aa3a1aaf8ad"
      },
      "source": [
        "# Q. What is the maximum SALE_PRICE in this dataset?\n",
        "df['sale_price'].max()"
      ],
      "execution_count": 276,
      "outputs": [
        {
          "output_type": "execute_result",
          "data": {
            "text/plain": [
              "850000000"
            ]
          },
          "metadata": {
            "tags": []
          },
          "execution_count": 276
        }
      ]
    },
    {
      "cell_type": "code",
      "metadata": {
        "id": "qZruLBReGe_9",
        "colab_type": "code",
        "colab": {
          "base_uri": "https://localhost:8080/",
          "height": 134
        },
        "outputId": "259e8df1-0946-4652-c11a-73c65cbd5b9d"
      },
      "source": [
        "df[df['sale_price'] == df['sale_price'].max()]"
      ],
      "execution_count": 277,
      "outputs": [
        {
          "output_type": "execute_result",
          "data": {
            "text/html": [
              "<div>\n",
              "<style scoped>\n",
              "    .dataframe tbody tr th:only-of-type {\n",
              "        vertical-align: middle;\n",
              "    }\n",
              "\n",
              "    .dataframe tbody tr th {\n",
              "        vertical-align: top;\n",
              "    }\n",
              "\n",
              "    .dataframe thead th {\n",
              "        text-align: right;\n",
              "    }\n",
              "</style>\n",
              "<table border=\"1\" class=\"dataframe\">\n",
              "  <thead>\n",
              "    <tr style=\"text-align: right;\">\n",
              "      <th></th>\n",
              "      <th>borough</th>\n",
              "      <th>neighborhood</th>\n",
              "      <th>building_class_category</th>\n",
              "      <th>tax_class_at_present</th>\n",
              "      <th>block</th>\n",
              "      <th>lot</th>\n",
              "      <th>ease-ment</th>\n",
              "      <th>building_class_at_present</th>\n",
              "      <th>address</th>\n",
              "      <th>apartment_number</th>\n",
              "      <th>zip_code</th>\n",
              "      <th>residential_units</th>\n",
              "      <th>commercial_units</th>\n",
              "      <th>total_units</th>\n",
              "      <th>land_square_feet</th>\n",
              "      <th>gross_square_feet</th>\n",
              "      <th>year_built</th>\n",
              "      <th>tax_class_at_time_of_sale</th>\n",
              "      <th>building_class_at_time_of_sale</th>\n",
              "      <th>sale_price</th>\n",
              "      <th>sale_date</th>\n",
              "    </tr>\n",
              "  </thead>\n",
              "  <tbody>\n",
              "    <tr>\n",
              "      <th>7745</th>\n",
              "      <td>1</td>\n",
              "      <td>FASHION</td>\n",
              "      <td>22 STORE BUILDINGS</td>\n",
              "      <td>4</td>\n",
              "      <td>840</td>\n",
              "      <td>42</td>\n",
              "      <td>nan</td>\n",
              "      <td>K3</td>\n",
              "      <td>424 5 AVENUE</td>\n",
              "      <td>NaN</td>\n",
              "      <td>10,018.0</td>\n",
              "      <td>0.0</td>\n",
              "      <td>4.0</td>\n",
              "      <td>4.0</td>\n",
              "      <td>51,271</td>\n",
              "      <td>697,029.0</td>\n",
              "      <td>1,920.0</td>\n",
              "      <td>4</td>\n",
              "      <td>K3</td>\n",
              "      <td>850000000</td>\n",
              "      <td>02/08/2019</td>\n",
              "    </tr>\n",
              "  </tbody>\n",
              "</table>\n",
              "</div>"
            ],
            "text/plain": [
              "      borough neighborhood  ... sale_price   sale_date\n",
              "7745        1      FASHION  ...  850000000  02/08/2019\n",
              "\n",
              "[1 rows x 21 columns]"
            ]
          },
          "metadata": {
            "tags": []
          },
          "execution_count": 277
        }
      ]
    },
    {
      "cell_type": "code",
      "metadata": {
        "id": "KWRkZWfUGfAB",
        "colab_type": "code",
        "colab": {
          "base_uri": "https://localhost:8080/",
          "height": 34
        },
        "outputId": "e06fd09d-3a7f-4eb6-d5e9-448fc2cef469"
      },
      "source": [
        "# Get value counts of TOTAL_UNITS\n",
        "# Q. How many property sales were for multiple units?\n",
        "multi_units = df[df['total_units'] > 1]\n",
        "multi_units['total_units'].sum()"
      ],
      "execution_count": 278,
      "outputs": [
        {
          "output_type": "execute_result",
          "data": {
            "text/plain": [
              "43267.0"
            ]
          },
          "metadata": {
            "tags": []
          },
          "execution_count": 278
        }
      ]
    },
    {
      "cell_type": "code",
      "metadata": {
        "id": "RTEY9omaX-Zb",
        "colab_type": "code",
        "colab": {
          "base_uri": "https://localhost:8080/",
          "height": 34
        },
        "outputId": "6e3d2379-766c-46fb-a292-759c053cef21"
      },
      "source": [
        "# Keep only the single units\n",
        "single_units = df[df['total_units'] == 1]\n",
        "single_units.shape"
      ],
      "execution_count": 279,
      "outputs": [
        {
          "output_type": "execute_result",
          "data": {
            "text/plain": [
              "(10204, 21)"
            ]
          },
          "metadata": {
            "tags": []
          },
          "execution_count": 279
        }
      ]
    },
    {
      "cell_type": "code",
      "metadata": {
        "id": "2n6PzSEkGfAF",
        "colab_type": "code",
        "colab": {
          "base_uri": "https://localhost:8080/",
          "height": 51
        },
        "outputId": "9046af1d-5f9b-423c-da15-9c71e21f09f4"
      },
      "source": [
        "# Q. Now what is the max sales price? How many square feet does it have?\n",
        "top_single_unit = single_units[single_units['sale_price'] == single_units['sale_price'].max()]\n",
        "top_single_unit['gross_square_feet']"
      ],
      "execution_count": 280,
      "outputs": [
        {
          "output_type": "execute_result",
          "data": {
            "text/plain": [
              "3995   23,029.0\n",
              "Name: gross_square_feet, dtype: float64"
            ]
          },
          "metadata": {
            "tags": []
          },
          "execution_count": 280
        }
      ]
    },
    {
      "cell_type": "code",
      "metadata": {
        "id": "n4ox7BOsGfAI",
        "colab_type": "code",
        "colab": {
          "base_uri": "https://localhost:8080/",
          "height": 445
        },
        "outputId": "bcc93254-bd0a-4913-e511-d6c17761c7c1"
      },
      "source": [
        "# Q. How often did $0 sales occur in this subset of the data?\n",
        "\n",
        "# There's a glossary here: \n",
        "# https://www1.nyc.gov/site/finance/taxes/property-rolling-sales-data.page\n",
        "\n",
        "# It says:\n",
        "# A $0 sale indicates that there was a transfer of ownership without a \n",
        "# cash consideration. There can be a number of reasons for a $0 sale including \n",
        "# transfers of ownership from parents to children. \n",
        "zero_price = single_units[single_units['sale_price'] == 0]\n",
        "zero_price.head()"
      ],
      "execution_count": 281,
      "outputs": [
        {
          "output_type": "execute_result",
          "data": {
            "text/html": [
              "<div>\n",
              "<style scoped>\n",
              "    .dataframe tbody tr th:only-of-type {\n",
              "        vertical-align: middle;\n",
              "    }\n",
              "\n",
              "    .dataframe tbody tr th {\n",
              "        vertical-align: top;\n",
              "    }\n",
              "\n",
              "    .dataframe thead th {\n",
              "        text-align: right;\n",
              "    }\n",
              "</style>\n",
              "<table border=\"1\" class=\"dataframe\">\n",
              "  <thead>\n",
              "    <tr style=\"text-align: right;\">\n",
              "      <th></th>\n",
              "      <th>borough</th>\n",
              "      <th>neighborhood</th>\n",
              "      <th>building_class_category</th>\n",
              "      <th>tax_class_at_present</th>\n",
              "      <th>block</th>\n",
              "      <th>lot</th>\n",
              "      <th>ease-ment</th>\n",
              "      <th>building_class_at_present</th>\n",
              "      <th>address</th>\n",
              "      <th>apartment_number</th>\n",
              "      <th>zip_code</th>\n",
              "      <th>residential_units</th>\n",
              "      <th>commercial_units</th>\n",
              "      <th>total_units</th>\n",
              "      <th>land_square_feet</th>\n",
              "      <th>gross_square_feet</th>\n",
              "      <th>year_built</th>\n",
              "      <th>tax_class_at_time_of_sale</th>\n",
              "      <th>building_class_at_time_of_sale</th>\n",
              "      <th>sale_price</th>\n",
              "      <th>sale_date</th>\n",
              "    </tr>\n",
              "  </thead>\n",
              "  <tbody>\n",
              "    <tr>\n",
              "      <th>0</th>\n",
              "      <td>1</td>\n",
              "      <td>CHELSEA</td>\n",
              "      <td>13 CONDOS - ELEVATOR APARTMENTS</td>\n",
              "      <td>2</td>\n",
              "      <td>716</td>\n",
              "      <td>1246</td>\n",
              "      <td>nan</td>\n",
              "      <td>R4</td>\n",
              "      <td>447 WEST 18TH STREET, PH12A</td>\n",
              "      <td>PH12A</td>\n",
              "      <td>10,011.0</td>\n",
              "      <td>1.0</td>\n",
              "      <td>0.0</td>\n",
              "      <td>1.0</td>\n",
              "      <td>10,733</td>\n",
              "      <td>1,979.0</td>\n",
              "      <td>2,007.0</td>\n",
              "      <td>2</td>\n",
              "      <td>R4</td>\n",
              "      <td>0</td>\n",
              "      <td>01/01/2019</td>\n",
              "    </tr>\n",
              "    <tr>\n",
              "      <th>3</th>\n",
              "      <td>1</td>\n",
              "      <td>GREENWICH VILLAGE-WEST</td>\n",
              "      <td>13 CONDOS - ELEVATOR APARTMENTS</td>\n",
              "      <td>2</td>\n",
              "      <td>592</td>\n",
              "      <td>1041</td>\n",
              "      <td>nan</td>\n",
              "      <td>R4</td>\n",
              "      <td>1 SHERIDAN SQUARE, 8C</td>\n",
              "      <td>8C</td>\n",
              "      <td>10,014.0</td>\n",
              "      <td>1.0</td>\n",
              "      <td>0.0</td>\n",
              "      <td>1.0</td>\n",
              "      <td>0</td>\n",
              "      <td>500.0</td>\n",
              "      <td>0.0</td>\n",
              "      <td>2</td>\n",
              "      <td>R4</td>\n",
              "      <td>0</td>\n",
              "      <td>01/01/2019</td>\n",
              "    </tr>\n",
              "    <tr>\n",
              "      <th>4</th>\n",
              "      <td>1</td>\n",
              "      <td>UPPER EAST SIDE (59-79)</td>\n",
              "      <td>15 CONDOS - 2-10 UNIT RESIDENTIAL</td>\n",
              "      <td>2C</td>\n",
              "      <td>1379</td>\n",
              "      <td>1402</td>\n",
              "      <td>nan</td>\n",
              "      <td>R1</td>\n",
              "      <td>20 EAST 65TH STREET, B</td>\n",
              "      <td>B</td>\n",
              "      <td>10,065.0</td>\n",
              "      <td>1.0</td>\n",
              "      <td>0.0</td>\n",
              "      <td>1.0</td>\n",
              "      <td>0</td>\n",
              "      <td>6,406.0</td>\n",
              "      <td>0.0</td>\n",
              "      <td>2</td>\n",
              "      <td>R1</td>\n",
              "      <td>0</td>\n",
              "      <td>01/01/2019</td>\n",
              "    </tr>\n",
              "    <tr>\n",
              "      <th>7</th>\n",
              "      <td>2</td>\n",
              "      <td>MORRIS PARK/VAN NEST</td>\n",
              "      <td>01 ONE FAMILY DWELLINGS</td>\n",
              "      <td>1</td>\n",
              "      <td>4090</td>\n",
              "      <td>37</td>\n",
              "      <td>nan</td>\n",
              "      <td>A1</td>\n",
              "      <td>1193 SACKET AVENUE</td>\n",
              "      <td>NaN</td>\n",
              "      <td>10,461.0</td>\n",
              "      <td>1.0</td>\n",
              "      <td>0.0</td>\n",
              "      <td>1.0</td>\n",
              "      <td>3,404</td>\n",
              "      <td>1,328.0</td>\n",
              "      <td>1,925.0</td>\n",
              "      <td>1</td>\n",
              "      <td>A1</td>\n",
              "      <td>0</td>\n",
              "      <td>01/01/2019</td>\n",
              "    </tr>\n",
              "    <tr>\n",
              "      <th>8</th>\n",
              "      <td>2</td>\n",
              "      <td>MORRIS PARK/VAN NEST</td>\n",
              "      <td>01 ONE FAMILY DWELLINGS</td>\n",
              "      <td>1</td>\n",
              "      <td>4120</td>\n",
              "      <td>18</td>\n",
              "      <td>nan</td>\n",
              "      <td>A5</td>\n",
              "      <td>1215 VAN NEST AVENUE</td>\n",
              "      <td>NaN</td>\n",
              "      <td>10,461.0</td>\n",
              "      <td>1.0</td>\n",
              "      <td>0.0</td>\n",
              "      <td>1.0</td>\n",
              "      <td>2,042</td>\n",
              "      <td>1,728.0</td>\n",
              "      <td>1,935.0</td>\n",
              "      <td>1</td>\n",
              "      <td>A5</td>\n",
              "      <td>0</td>\n",
              "      <td>01/01/2019</td>\n",
              "    </tr>\n",
              "  </tbody>\n",
              "</table>\n",
              "</div>"
            ],
            "text/plain": [
              "   borough             neighborhood  ... sale_price   sale_date\n",
              "0        1                  CHELSEA  ...          0  01/01/2019\n",
              "3        1   GREENWICH VILLAGE-WEST  ...          0  01/01/2019\n",
              "4        1  UPPER EAST SIDE (59-79)  ...          0  01/01/2019\n",
              "7        2     MORRIS PARK/VAN NEST  ...          0  01/01/2019\n",
              "8        2     MORRIS PARK/VAN NEST  ...          0  01/01/2019\n",
              "\n",
              "[5 rows x 21 columns]"
            ]
          },
          "metadata": {
            "tags": []
          },
          "execution_count": 281
        }
      ]
    },
    {
      "cell_type": "code",
      "metadata": {
        "id": "t91CJNrgGfAK",
        "colab_type": "code",
        "colab": {
          "base_uri": "https://localhost:8080/",
          "height": 170
        },
        "outputId": "f1271c7f-8ab2-4d71-8e52-6829cd6e13b8"
      },
      "source": [
        "# Look at property sales for > 5,000 square feet\n",
        "# Q. What is the highest square footage you see?\n",
        "large_prop = df[df['gross_square_feet'] > 5000]\n",
        "large_prop['gross_square_feet'].describe()"
      ],
      "execution_count": 282,
      "outputs": [
        {
          "output_type": "execute_result",
          "data": {
            "text/plain": [
              "count             1,220.0\n",
              "mean    41,495.5893442623\n",
              "std     88,058.1593109996\n",
              "min               5,004.0\n",
              "25%               6,648.0\n",
              "50%              11,352.0\n",
              "75%              34,745.0\n",
              "max           1,303,935.0\n",
              "Name: gross_square_feet, dtype: float64"
            ]
          },
          "metadata": {
            "tags": []
          },
          "execution_count": 282
        }
      ]
    },
    {
      "cell_type": "code",
      "metadata": {
        "id": "Y-rw6UF--QOp",
        "colab_type": "code",
        "colab": {
          "base_uri": "https://localhost:8080/",
          "height": 496
        },
        "outputId": "34e1ec11-2be0-4f6c-f395-f55569192478"
      },
      "source": [
        "large_prop.head()"
      ],
      "execution_count": 283,
      "outputs": [
        {
          "output_type": "execute_result",
          "data": {
            "text/html": [
              "<div>\n",
              "<style scoped>\n",
              "    .dataframe tbody tr th:only-of-type {\n",
              "        vertical-align: middle;\n",
              "    }\n",
              "\n",
              "    .dataframe tbody tr th {\n",
              "        vertical-align: top;\n",
              "    }\n",
              "\n",
              "    .dataframe thead th {\n",
              "        text-align: right;\n",
              "    }\n",
              "</style>\n",
              "<table border=\"1\" class=\"dataframe\">\n",
              "  <thead>\n",
              "    <tr style=\"text-align: right;\">\n",
              "      <th></th>\n",
              "      <th>borough</th>\n",
              "      <th>neighborhood</th>\n",
              "      <th>building_class_category</th>\n",
              "      <th>tax_class_at_present</th>\n",
              "      <th>block</th>\n",
              "      <th>lot</th>\n",
              "      <th>ease-ment</th>\n",
              "      <th>building_class_at_present</th>\n",
              "      <th>address</th>\n",
              "      <th>apartment_number</th>\n",
              "      <th>zip_code</th>\n",
              "      <th>residential_units</th>\n",
              "      <th>commercial_units</th>\n",
              "      <th>total_units</th>\n",
              "      <th>land_square_feet</th>\n",
              "      <th>gross_square_feet</th>\n",
              "      <th>year_built</th>\n",
              "      <th>tax_class_at_time_of_sale</th>\n",
              "      <th>building_class_at_time_of_sale</th>\n",
              "      <th>sale_price</th>\n",
              "      <th>sale_date</th>\n",
              "    </tr>\n",
              "  </thead>\n",
              "  <tbody>\n",
              "    <tr>\n",
              "      <th>1</th>\n",
              "      <td>1</td>\n",
              "      <td>FASHION</td>\n",
              "      <td>21 OFFICE BUILDINGS</td>\n",
              "      <td>4</td>\n",
              "      <td>812</td>\n",
              "      <td>68</td>\n",
              "      <td>nan</td>\n",
              "      <td>O5</td>\n",
              "      <td>144 WEST 37TH STREET</td>\n",
              "      <td>NaN</td>\n",
              "      <td>10,018.0</td>\n",
              "      <td>0.0</td>\n",
              "      <td>6.0</td>\n",
              "      <td>6.0</td>\n",
              "      <td>2,962</td>\n",
              "      <td>15,435.0</td>\n",
              "      <td>1,920.0</td>\n",
              "      <td>4</td>\n",
              "      <td>O5</td>\n",
              "      <td>0</td>\n",
              "      <td>01/01/2019</td>\n",
              "    </tr>\n",
              "    <tr>\n",
              "      <th>2</th>\n",
              "      <td>1</td>\n",
              "      <td>FASHION</td>\n",
              "      <td>21 OFFICE BUILDINGS</td>\n",
              "      <td>4</td>\n",
              "      <td>839</td>\n",
              "      <td>69</td>\n",
              "      <td>nan</td>\n",
              "      <td>O5</td>\n",
              "      <td>40 WEST 38TH STREET</td>\n",
              "      <td>NaN</td>\n",
              "      <td>10,018.0</td>\n",
              "      <td>0.0</td>\n",
              "      <td>7.0</td>\n",
              "      <td>7.0</td>\n",
              "      <td>2,074</td>\n",
              "      <td>11,332.0</td>\n",
              "      <td>1,930.0</td>\n",
              "      <td>4</td>\n",
              "      <td>O5</td>\n",
              "      <td>0</td>\n",
              "      <td>01/01/2019</td>\n",
              "    </tr>\n",
              "    <tr>\n",
              "      <th>4</th>\n",
              "      <td>1</td>\n",
              "      <td>UPPER EAST SIDE (59-79)</td>\n",
              "      <td>15 CONDOS - 2-10 UNIT RESIDENTIAL</td>\n",
              "      <td>2C</td>\n",
              "      <td>1379</td>\n",
              "      <td>1402</td>\n",
              "      <td>nan</td>\n",
              "      <td>R1</td>\n",
              "      <td>20 EAST 65TH STREET, B</td>\n",
              "      <td>B</td>\n",
              "      <td>10,065.0</td>\n",
              "      <td>1.0</td>\n",
              "      <td>0.0</td>\n",
              "      <td>1.0</td>\n",
              "      <td>0</td>\n",
              "      <td>6,406.0</td>\n",
              "      <td>0.0</td>\n",
              "      <td>2</td>\n",
              "      <td>R1</td>\n",
              "      <td>0</td>\n",
              "      <td>01/01/2019</td>\n",
              "    </tr>\n",
              "    <tr>\n",
              "      <th>5</th>\n",
              "      <td>1</td>\n",
              "      <td>UPPER EAST SIDE (79-96)</td>\n",
              "      <td>07 RENTALS - WALKUP APARTMENTS</td>\n",
              "      <td>2B</td>\n",
              "      <td>1551</td>\n",
              "      <td>131</td>\n",
              "      <td>nan</td>\n",
              "      <td>C4</td>\n",
              "      <td>354 EAST 89TH STREET</td>\n",
              "      <td>NaN</td>\n",
              "      <td>10,128.0</td>\n",
              "      <td>10.0</td>\n",
              "      <td>0.0</td>\n",
              "      <td>10.0</td>\n",
              "      <td>2,013</td>\n",
              "      <td>6,570.0</td>\n",
              "      <td>1,920.0</td>\n",
              "      <td>2</td>\n",
              "      <td>C4</td>\n",
              "      <td>0</td>\n",
              "      <td>01/01/2019</td>\n",
              "    </tr>\n",
              "    <tr>\n",
              "      <th>6</th>\n",
              "      <td>1</td>\n",
              "      <td>UPPER WEST SIDE (96-116)</td>\n",
              "      <td>07 RENTALS - WALKUP APARTMENTS</td>\n",
              "      <td>2B</td>\n",
              "      <td>1891</td>\n",
              "      <td>159</td>\n",
              "      <td>nan</td>\n",
              "      <td>C4</td>\n",
              "      <td>304 WEST 106 STREET</td>\n",
              "      <td>NaN</td>\n",
              "      <td>10,025.0</td>\n",
              "      <td>10.0</td>\n",
              "      <td>0.0</td>\n",
              "      <td>10.0</td>\n",
              "      <td>1,716</td>\n",
              "      <td>5,810.0</td>\n",
              "      <td>1,900.0</td>\n",
              "      <td>2</td>\n",
              "      <td>C4</td>\n",
              "      <td>0</td>\n",
              "      <td>01/01/2019</td>\n",
              "    </tr>\n",
              "  </tbody>\n",
              "</table>\n",
              "</div>"
            ],
            "text/plain": [
              "   borough              neighborhood  ... sale_price   sale_date\n",
              "1        1                   FASHION  ...          0  01/01/2019\n",
              "2        1                   FASHION  ...          0  01/01/2019\n",
              "4        1   UPPER EAST SIDE (59-79)  ...          0  01/01/2019\n",
              "5        1   UPPER EAST SIDE (79-96)  ...          0  01/01/2019\n",
              "6        1  UPPER WEST SIDE (96-116)  ...          0  01/01/2019\n",
              "\n",
              "[5 rows x 21 columns]"
            ]
          },
          "metadata": {
            "tags": []
          },
          "execution_count": 283
        }
      ]
    },
    {
      "cell_type": "code",
      "metadata": {
        "id": "_GC5hN2N9nWd",
        "colab_type": "code",
        "colab": {
          "base_uri": "https://localhost:8080/",
          "height": 359
        },
        "outputId": "90669ddb-22a9-4e78-d39b-81979e81ccc6"
      },
      "source": [
        "large_prop[['gross_square_feet', 'sale_price']].sort_values(by='gross_square_feet', ascending=False)[:10]"
      ],
      "execution_count": 284,
      "outputs": [
        {
          "output_type": "execute_result",
          "data": {
            "text/html": [
              "<div>\n",
              "<style scoped>\n",
              "    .dataframe tbody tr th:only-of-type {\n",
              "        vertical-align: middle;\n",
              "    }\n",
              "\n",
              "    .dataframe tbody tr th {\n",
              "        vertical-align: top;\n",
              "    }\n",
              "\n",
              "    .dataframe thead th {\n",
              "        text-align: right;\n",
              "    }\n",
              "</style>\n",
              "<table border=\"1\" class=\"dataframe\">\n",
              "  <thead>\n",
              "    <tr style=\"text-align: right;\">\n",
              "      <th></th>\n",
              "      <th>gross_square_feet</th>\n",
              "      <th>sale_price</th>\n",
              "    </tr>\n",
              "  </thead>\n",
              "  <tbody>\n",
              "    <tr>\n",
              "      <th>17</th>\n",
              "      <td>1,303,935.0</td>\n",
              "      <td>0</td>\n",
              "    </tr>\n",
              "    <tr>\n",
              "      <th>26</th>\n",
              "      <td>959,880.0</td>\n",
              "      <td>0</td>\n",
              "    </tr>\n",
              "    <tr>\n",
              "      <th>991</th>\n",
              "      <td>805,467.0</td>\n",
              "      <td>565754371</td>\n",
              "    </tr>\n",
              "    <tr>\n",
              "      <th>7745</th>\n",
              "      <td>697,029.0</td>\n",
              "      <td>850000000</td>\n",
              "    </tr>\n",
              "    <tr>\n",
              "      <th>14612</th>\n",
              "      <td>662,532.0</td>\n",
              "      <td>0</td>\n",
              "    </tr>\n",
              "    <tr>\n",
              "      <th>986</th>\n",
              "      <td>574,675.0</td>\n",
              "      <td>422000000</td>\n",
              "    </tr>\n",
              "    <tr>\n",
              "      <th>3998</th>\n",
              "      <td>536,719.0</td>\n",
              "      <td>389858000</td>\n",
              "    </tr>\n",
              "    <tr>\n",
              "      <th>19744</th>\n",
              "      <td>533,600.0</td>\n",
              "      <td>0</td>\n",
              "    </tr>\n",
              "    <tr>\n",
              "      <th>1267</th>\n",
              "      <td>517,158.0</td>\n",
              "      <td>277700000</td>\n",
              "    </tr>\n",
              "    <tr>\n",
              "      <th>13846</th>\n",
              "      <td>483,148.0</td>\n",
              "      <td>335000000</td>\n",
              "    </tr>\n",
              "  </tbody>\n",
              "</table>\n",
              "</div>"
            ],
            "text/plain": [
              "       gross_square_feet  sale_price\n",
              "17           1,303,935.0           0\n",
              "26             959,880.0           0\n",
              "991            805,467.0   565754371\n",
              "7745           697,029.0   850000000\n",
              "14612          662,532.0           0\n",
              "986            574,675.0   422000000\n",
              "3998           536,719.0   389858000\n",
              "19744          533,600.0           0\n",
              "1267           517,158.0   277700000\n",
              "13846          483,148.0   335000000"
            ]
          },
          "metadata": {
            "tags": []
          },
          "execution_count": 284
        }
      ]
    },
    {
      "cell_type": "code",
      "metadata": {
        "id": "b0t7TTXEGfAN",
        "colab_type": "code",
        "colab": {
          "base_uri": "https://localhost:8080/",
          "height": 782
        },
        "outputId": "2d18358e-6d50-49f9-f3d4-841939d171b6"
      },
      "source": [
        "# What are the building class categories?\n",
        "# How frequently does each occur?\n",
        "df['building_class_category'].value_counts()"
      ],
      "execution_count": 285,
      "outputs": [
        {
          "output_type": "execute_result",
          "data": {
            "text/plain": [
              "01 ONE FAMILY DWELLINGS                       5061\n",
              "02 TWO FAMILY DWELLINGS                       4567\n",
              "10 COOPS - ELEVATOR APARTMENTS                3471\n",
              "13 CONDOS - ELEVATOR APARTMENTS               3339\n",
              "03 THREE FAMILY DWELLINGS                     1438\n",
              "07 RENTALS - WALKUP APARTMENTS                 807\n",
              "09 COOPS - WALKUP APARTMENTS                   672\n",
              "15 CONDOS - 2-10 UNIT RESIDENTIAL              421\n",
              "04 TAX CLASS 1 CONDOS                          418\n",
              "44 CONDO PARKING                               366\n",
              "17 CONDO COOPS                                 300\n",
              "05 TAX CLASS 1 VACANT LAND                     288\n",
              "22 STORE BUILDINGS                             288\n",
              "12 CONDOS - WALKUP APARTMENTS                  256\n",
              "14 RENTALS - 4-10 UNIT                         200\n",
              "29 COMMERCIAL GARAGES                          147\n",
              "08 RENTALS - ELEVATOR APARTMENTS               120\n",
              "30 WAREHOUSES                                  105\n",
              "21 OFFICE BUILDINGS                             96\n",
              "43 CONDO OFFICE BUILDINGS                       80\n",
              "31 COMMERCIAL VACANT LAND                       80\n",
              "47 CONDO NON-BUSINESS STORAGE                   75\n",
              "46 CONDO STORE BUILDINGS                        65\n",
              "27 FACTORIES                                    54\n",
              "06 TAX CLASS 1 - OTHER                          42\n",
              "37 RELIGIOUS FACILITIES                         38\n",
              "45 CONDO HOTELS                                 32\n",
              "41 TAX CLASS 4 - OTHER                          30\n",
              "11A CONDO-RENTALS                               30\n",
              "16 CONDOS - 2-10 UNIT WITH COMMERCIAL UNIT      29\n",
              "33 EDUCATIONAL FACILITIES                       24\n",
              "28 COMMERCIAL CONDOS                            23\n",
              "32 HOSPITAL AND HEALTH FACILITIES               21\n",
              "26 OTHER HOTELS                                 15\n",
              "34 THEATRES                                      7\n",
              "35 INDOOR PUBLIC AND CULTURAL FACILITIES         7\n",
              "23 LOFT BUILDINGS                                7\n",
              "25 LUXURY HOTELS                                 6\n",
              "49 CONDO WAREHOUSES/FACTORY/INDUS                4\n",
              "36 OUTDOOR RECREATIONAL FACILITIES               4\n",
              "48 CONDO TERRACES/GARDENS/CABANAS                3\n",
              "38 ASYLUMS AND HOMES                             2\n",
              "42 CONDO CULTURAL/MEDICAL/EDUCATIONAL/ETC        1\n",
              "39 TRANSPORTATION FACILITIES                     1\n",
              "Name: building_class_category, dtype: int64"
            ]
          },
          "metadata": {
            "tags": []
          },
          "execution_count": 285
        }
      ]
    },
    {
      "cell_type": "code",
      "metadata": {
        "id": "t0bwdDnEGfAP",
        "colab_type": "code",
        "colab": {}
      },
      "source": [
        "# Keep subset of rows:\n",
        "# Sale price more than $0, \n",
        "# Building class category = Condos - Elevator Apartments\n",
        "condos = df[(df['sale_price'] > 0) & (df['building_class_category'].str.contains('CONDO'))]\n",
        "# Check how many rows you have now. (Should be 106 rows.)\n"
      ],
      "execution_count": 0,
      "outputs": []
    },
    {
      "cell_type": "code",
      "metadata": {
        "id": "G2ojFGZ7_pcO",
        "colab_type": "code",
        "colab": {
          "base_uri": "https://localhost:8080/",
          "height": 411
        },
        "outputId": "001a18bd-68a8-4407-ef2a-0e5029269bee"
      },
      "source": [
        "condos.head()"
      ],
      "execution_count": 287,
      "outputs": [
        {
          "output_type": "execute_result",
          "data": {
            "text/html": [
              "<div>\n",
              "<style scoped>\n",
              "    .dataframe tbody tr th:only-of-type {\n",
              "        vertical-align: middle;\n",
              "    }\n",
              "\n",
              "    .dataframe tbody tr th {\n",
              "        vertical-align: top;\n",
              "    }\n",
              "\n",
              "    .dataframe thead th {\n",
              "        text-align: right;\n",
              "    }\n",
              "</style>\n",
              "<table border=\"1\" class=\"dataframe\">\n",
              "  <thead>\n",
              "    <tr style=\"text-align: right;\">\n",
              "      <th></th>\n",
              "      <th>borough</th>\n",
              "      <th>neighborhood</th>\n",
              "      <th>building_class_category</th>\n",
              "      <th>tax_class_at_present</th>\n",
              "      <th>block</th>\n",
              "      <th>lot</th>\n",
              "      <th>ease-ment</th>\n",
              "      <th>building_class_at_present</th>\n",
              "      <th>address</th>\n",
              "      <th>apartment_number</th>\n",
              "      <th>zip_code</th>\n",
              "      <th>residential_units</th>\n",
              "      <th>commercial_units</th>\n",
              "      <th>total_units</th>\n",
              "      <th>land_square_feet</th>\n",
              "      <th>gross_square_feet</th>\n",
              "      <th>year_built</th>\n",
              "      <th>tax_class_at_time_of_sale</th>\n",
              "      <th>building_class_at_time_of_sale</th>\n",
              "      <th>sale_price</th>\n",
              "      <th>sale_date</th>\n",
              "    </tr>\n",
              "  </thead>\n",
              "  <tbody>\n",
              "    <tr>\n",
              "      <th>65</th>\n",
              "      <td>1</td>\n",
              "      <td>CHELSEA</td>\n",
              "      <td>13 CONDOS - ELEVATOR APARTMENTS</td>\n",
              "      <td>2</td>\n",
              "      <td>691</td>\n",
              "      <td>1130</td>\n",
              "      <td>nan</td>\n",
              "      <td>R4</td>\n",
              "      <td>505 WEST 19TH STREET, 7D</td>\n",
              "      <td>7D</td>\n",
              "      <td>10,011.0</td>\n",
              "      <td>1.0</td>\n",
              "      <td>0.0</td>\n",
              "      <td>1.0</td>\n",
              "      <td>18,975</td>\n",
              "      <td>1,077.0</td>\n",
              "      <td>2,013.0</td>\n",
              "      <td>2</td>\n",
              "      <td>R4</td>\n",
              "      <td>2000000</td>\n",
              "      <td>01/02/2019</td>\n",
              "    </tr>\n",
              "    <tr>\n",
              "      <th>70</th>\n",
              "      <td>1</td>\n",
              "      <td>UPPER WEST SIDE (59-79)</td>\n",
              "      <td>13 CONDOS - ELEVATOR APARTMENTS</td>\n",
              "      <td>2</td>\n",
              "      <td>1167</td>\n",
              "      <td>1272</td>\n",
              "      <td>nan</td>\n",
              "      <td>R4</td>\n",
              "      <td>235 WEST 75 STREET, 803</td>\n",
              "      <td>8S</td>\n",
              "      <td>10,023.0</td>\n",
              "      <td>1.0</td>\n",
              "      <td>0.0</td>\n",
              "      <td>1.0</td>\n",
              "      <td>28,335</td>\n",
              "      <td>545.0</td>\n",
              "      <td>1,901.0</td>\n",
              "      <td>2</td>\n",
              "      <td>R4</td>\n",
              "      <td>2997613</td>\n",
              "      <td>01/02/2019</td>\n",
              "    </tr>\n",
              "    <tr>\n",
              "      <th>71</th>\n",
              "      <td>1</td>\n",
              "      <td>UPPER WEST SIDE (59-79)</td>\n",
              "      <td>13 CONDOS - ELEVATOR APARTMENTS</td>\n",
              "      <td>2</td>\n",
              "      <td>1171</td>\n",
              "      <td>2200</td>\n",
              "      <td>nan</td>\n",
              "      <td>R4</td>\n",
              "      <td>240 RIVERSIDE BOULEVARD, 4 F</td>\n",
              "      <td>4 F</td>\n",
              "      <td>10,069.0</td>\n",
              "      <td>1.0</td>\n",
              "      <td>0.0</td>\n",
              "      <td>1.0</td>\n",
              "      <td>0</td>\n",
              "      <td>827.0</td>\n",
              "      <td>2,004.0</td>\n",
              "      <td>2</td>\n",
              "      <td>R4</td>\n",
              "      <td>1250000</td>\n",
              "      <td>01/02/2019</td>\n",
              "    </tr>\n",
              "    <tr>\n",
              "      <th>72</th>\n",
              "      <td>1</td>\n",
              "      <td>UPPER WEST SIDE (79-96)</td>\n",
              "      <td>13 CONDOS - ELEVATOR APARTMENTS</td>\n",
              "      <td>2</td>\n",
              "      <td>1213</td>\n",
              "      <td>1161</td>\n",
              "      <td>nan</td>\n",
              "      <td>R4</td>\n",
              "      <td>127 WEST 82ND STREET, 3B</td>\n",
              "      <td>3B</td>\n",
              "      <td>10,024.0</td>\n",
              "      <td>1.0</td>\n",
              "      <td>0.0</td>\n",
              "      <td>1.0</td>\n",
              "      <td>0</td>\n",
              "      <td>391.0</td>\n",
              "      <td>1,912.0</td>\n",
              "      <td>2</td>\n",
              "      <td>R4</td>\n",
              "      <td>1955000</td>\n",
              "      <td>01/02/2019</td>\n",
              "    </tr>\n",
              "    <tr>\n",
              "      <th>73</th>\n",
              "      <td>1</td>\n",
              "      <td>UPPER WEST SIDE (79-96)</td>\n",
              "      <td>13 CONDOS - ELEVATOR APARTMENTS</td>\n",
              "      <td>2</td>\n",
              "      <td>1213</td>\n",
              "      <td>1185</td>\n",
              "      <td>nan</td>\n",
              "      <td>R4</td>\n",
              "      <td>127 WEST 82ND STREET, 2E</td>\n",
              "      <td>2E</td>\n",
              "      <td>10,024.0</td>\n",
              "      <td>1.0</td>\n",
              "      <td>0.0</td>\n",
              "      <td>1.0</td>\n",
              "      <td>0</td>\n",
              "      <td>453.0</td>\n",
              "      <td>1,912.0</td>\n",
              "      <td>2</td>\n",
              "      <td>R4</td>\n",
              "      <td>1955000</td>\n",
              "      <td>01/02/2019</td>\n",
              "    </tr>\n",
              "  </tbody>\n",
              "</table>\n",
              "</div>"
            ],
            "text/plain": [
              "    borough             neighborhood  ... sale_price   sale_date\n",
              "65        1                  CHELSEA  ...    2000000  01/02/2019\n",
              "70        1  UPPER WEST SIDE (59-79)  ...    2997613  01/02/2019\n",
              "71        1  UPPER WEST SIDE (59-79)  ...    1250000  01/02/2019\n",
              "72        1  UPPER WEST SIDE (79-96)  ...    1955000  01/02/2019\n",
              "73        1  UPPER WEST SIDE (79-96)  ...    1955000  01/02/2019\n",
              "\n",
              "[5 rows x 21 columns]"
            ]
          },
          "metadata": {
            "tags": []
          },
          "execution_count": 287
        }
      ]
    },
    {
      "cell_type": "code",
      "metadata": {
        "id": "69VZk_yvGfAV",
        "colab_type": "code",
        "colab": {
          "base_uri": "https://localhost:8080/",
          "height": 542
        },
        "outputId": "8e14f098-432d-459f-f067-bdb0a2f68e53"
      },
      "source": [
        "# Make a Plotly Express scatter plot of GROSS_SQUARE_FEET vs SALE_PRICE\n",
        "import plotly.express as px \n",
        "px.scatter(condos, 'gross_square_feet', 'sale_price')"
      ],
      "execution_count": 289,
      "outputs": [
        {
          "output_type": "display_data",
          "data": {
            "text/html": [
              "<html>\n",
              "<head><meta charset=\"utf-8\" /></head>\n",
              "<body>\n",
              "    <div>\n",
              "            <script src=\"https://cdnjs.cloudflare.com/ajax/libs/mathjax/2.7.5/MathJax.js?config=TeX-AMS-MML_SVG\"></script><script type=\"text/javascript\">if (window.MathJax) {MathJax.Hub.Config({SVG: {font: \"STIX-Web\"}});}</script>\n",
              "                <script type=\"text/javascript\">window.PlotlyConfig = {MathJaxConfig: 'local'};</script>\n",
              "        <script src=\"https://cdn.plot.ly/plotly-latest.min.js\"></script>    \n",
              "            <div id=\"9d23ebd1-0930-4760-a38e-d9cddef0e2c8\" class=\"plotly-graph-div\" style=\"height:525px; width:100%;\"></div>\n",
              "            <script type=\"text/javascript\">\n",
              "                \n",
              "                    window.PLOTLYENV=window.PLOTLYENV || {};\n",
              "                    \n",
              "                if (document.getElementById(\"9d23ebd1-0930-4760-a38e-d9cddef0e2c8\")) {\n",
              "                    Plotly.newPlot(\n",
              "                        '9d23ebd1-0930-4760-a38e-d9cddef0e2c8',\n",
              "                        [{\"hoverlabel\": {\"namelength\": 0}, \"hovertemplate\": \"gross_square_feet=%{x}<br>sale_price=%{y}\", \"legendgroup\": \"\", \"marker\": {\"color\": \"#636efa\", \"symbol\": \"circle\"}, \"mode\": \"markers\", \"name\": \"\", \"showlegend\": false, \"type\": \"scattergl\", \"x\": [1077.0, 545.0, 827.0, 391.0, 453.0, 623.0, 0.0, 836.0, 0.0, 1010.0, 0.0, 0.0, 623.0, 0.0, 900.0, 743.0, 992.0, 2890.0, 610.0, 585.0, 2137.0, 0.0, 1137.0, 0.0, 472.0, 3703.0, 1840.0, 4613.0, 1606.0, 2679.0, 618.0, 0.0, 1846.0, 0.0, 2104.0, 9975.0, 806.0, 433.0, 1043.0, 1448.0, 615.0, 0.0, 1205.0, 656.0, 435.0, 1342.0, 748.0, 0.0, 801.0, 732.0, 787.0, 761.0, 887.0, 0.0, 1446.0, 699.0, 0.0, 0.0, 545.0, 1465.0, 1138.0, 1386.0, 1296.0, 575.0, 1140.0, 823.0, 580.0, 0.0, 714.0, 1378.0, 3505.0, 2475.0, 1182.0, 1481.0, 2031.0, 633.0, 1061.0, 589.0, 0.0, 1026.0, 1270.0, 645.0, 767.0, 2641.0, 834.0, 838.0, 2198.0, 830.0, 972.0, 1353.0, 1163.0, 966.0, 890.0, 943.0, 775.0, 955.0, 765.0, 591.0, 594.0, 1125.0, 1020.0, 181.0, 1181.0, 1800.0, 1571.0, 1116.0, 0.0, 1165.0, 802.0, 0.0, 0.0, 745.0, 0.0, 1759.0, 4628.0, 793.0, 2923.0, 2367.0, 1056.0, 1612.0, 962.0, 1084.0, 1457.0, 864.0, 0.0, 1238.0, 1063.0, 940.0, 1700.0, 581.0, 1342.0, 0.0, 0.0, 1033.0, 1196.0, 666.0, 691.0, 604.0, 1303.0, 512.0, 512.0, 751.0, 470.0, 0.0, 670.0, 618.0, 0.0, 1074.0, 687.0, 1327.0, 0.0, 1205.0, 0.0, 589.0, 1178.0, 838.0, 812.0, 2133.0, 794.0, 594.0, 545.0, 0.0, 0.0, 683.0, 523.0, 682.0, 434.0, 1166.0, 1063.0, 1078.0, 0.0, 1570.0, 1095.0, 153.0, 995.0, 1035.0, 355.0, 1606.0, 917.0, 630.0, 1429.0, 746.0, 728.0, 761.0, 1296.0, 742.0, 1175.0, 696.0, 1293.0, 787.0, 529.0, 545.0, 658.0, 508.0, 458.0, 0.0, 1562.0, 627.0, 681.0, 1892.0, 431.0, 860.0, 826.0, 840.0, 4653.0, 1034.0, 625.0, 1948.0, 768.0, 21462.0, 1150.0, 1150.0, 3122.0, 1190.0, 443.0, 744.0, 907.0, 1859.0, 637.0, 0.0, 572.0, 1185.0, 5227.0, 0.0, 933.0, 200.0, 951.0, 153.0, 153.0, 153.0, 153.0, 977.0, 952.0, 720.0, 162.0, 1293.0, 1602.0, 0.0, 1422.0, 1074.0, 1805.0, 153.0, 699.0, 1175.0, 0.0, 1050.0, 1102.0, 551.0, 0.0, 701.0, 640.0, 2500.0, 2746.0, 678.0, 758.0, 162.0, 1067.0, 690.0, 1260.0, 694.0, 0.0, 1052.0, 717.0, 475.0, 904.0, 1489.0, 1088.0, 1316.0, 790.0, 4158.0, 1162.0, 1444.0, 1043.0, 1631.0, 5227.0, 487.0, 1880.0, 673.0, 574.0, 1746.0, 1730.0, 1036.0, 833.0, 144.0, 915.0, 638.0, 663.0, 153.0, 0.0, 1150.0, 1538.0, 0.0, 1181.0, 1232.0, 1520.0, 600.0, 1224.0, 1019.0, 939.0, 1242.0, 507.0, 1067.0, 727.0, 783.0, 455.0, 626.0, 464.0, 685.0, 678.0, 873.0, 435.0, 1472.0, 1977.0, 0.0, 1288.0, 2094.0, 384.0, 580.0, 875.0, 783.0, 1086.0, 1401.0, 1053.0, 1810.0, 943.0, 1417.0, 0.0, 1517.0, 1429.0, 957.0, 1518.0, 0.0, 0.0, 0.0, 0.0, 0.0, 0.0, 0.0, 0.0, 1064.0, 699.0, 603.0, 1318.0, 1568.0, 1400.0, 0.0, 1949.0, 612.0, 1104.0, 678.0, 1858.0, 3056.0, 0.0, 778.0, 1322.0, 496.0, 1970.0, 1034.0, 615.0, 498.0, 1200.0, 2279.0, 961.0, 1157.0, 627.0, 1384.0, 448.0, 0.0, 613.0, 1028.0, 833.0, 1114.0, 906.0, 8813.0, 1010.0, 1881.0, 1333.0, 1078.0, 153.0, 990.0, 1004.0, 1940.0, 927.0, 0.0, 810.0, 0.0, 0.0, 816.0, 1100.0, 1364.0, 207.0, 1037.0, 346.0, 2058.0, 953.0, 1325.0, 0.0, 1205.0, 606.0, 2432.0, 860.0, 695.0, 1449.0, 2279.0, 3227.0, 1298.0, 458.0, 0.0, 0.0, 0.0, 0.0, 1153.0, 0.0, 613.0, 936.0, 2685.0, 2697.0, 850.0, 1382.0, 1135.0, 618.0, 0.0, 1445.0, 1700.0, 761.0, 1489.0, 1372.0, 1312.0, 0.0, 847.0, 1014.0, 0.0, 762.0, 663.0, 914.0, 1045.0, 874.0, 715.0, 938.0, 0.0, 1702.0, 1088.0, 1238.0, 2331.0, 2289.0, 0.0, 917.0, 818.0, 928.0, 2035.0, 846.0, 0.0, 1539.0, 1141.0, 3165.0, 1561.0, 2249.0, 1081.0, 2532.0, 0.0, 527.0, 669.0, 1021.0, 2773.0, 8813.0, 0.0, 1264.0, 636.0, 852.0, 1008.0, 635.0, 670.0, 0.0, 858.0, 536.0, 0.0, 1155.0, 787.0, 514.0, 514.0, 699.0, 0.0, 565.0, 1537.0, 0.0, 1210.0, 1213.0, 306.0, 505.0, 842.0, 1947.0, 1046.0, 782.0, 453.0, 1014.0, 0.0, 0.0, 794.0, 694.0, 0.0, 1437.0, 512.0, 3196.0, 2162.0, 1175.0, 1159.0, 1424.0, 0.0, 1689.0, 1082.0, 0.0, 686.0, 1283.0, 875.0, 0.0, 0.0, 670.0, 1195.0, 595.0, 0.0, 706.0, 1061.0, 571.0, 2154.0, 11000.0, 1023.0, 799.0, 606.0, 0.0, 3127.0, 750.0, 0.0, 1187.0, 938.0, 771.0, 964.0, 1812.0, 715.0, 768.0, 958.0, 852.0, 500.0, 0.0, 902.0, 640.0, 0.0, 4663.0, 4986.0, 2436.0, 833.0, 2193.0, 1850.0, 0.0, 0.0, 613.0, 572.0, 936.0, 518.0, 1328.0, 1595.0, 840.0, 1250.0, 606.0, 1800.0, 1113.0, 986.0, 1181.0, 624.0, 727.0, 896.0, 604.0, 535.0, 972.0, 0.0, 875.0, 875.0, 908.0, 0.0, 1130.0, 765.0, 972.0, 1921.0, 978.0, 1314.0, 1248.0, 902.0, 1115.0, 762.0, 1310.0, 11905.0, 162971.0, 656.0, 1074.0, 0.0, 461.0, 585.0, 1320.0, 0.0, 1033.0, 1227.0, 788.0, 1741.0, 887.0, 737.0, 3082.0, 984.0, 4159.0, 1140.0, 1103.0, 650.0, 835.0, 185.0, 0.0, 1348.0, 558.0, 1583.0, 416.0, 2044.0, 1181.0, 1290.0, 1679.0, 780.0, 737.0, 1046.0, 153.0, 1145.0, 1329.0, 1325.0, 525.0, 2960.0, 1323.0, 895.0, 724.0, 1225.0, 1134.0, 23029.0, 566.0, 44812.0, 21462.0, 1920.0, 12506.0, 0.0, 2618.0, 836.0, 613.0, 686.0, 1122.0, 8813.0, 9975.0, 0.0, 929.0, 694.0, 1269.0, 1586.0, 112.0, 895.0, 2120.0, 785.0, 573.0, 605.0, 569.0, 500.0, 849.0, 0.0, 0.0, 26300.0, 26300.0, 591.0, 1629.0, 1140.0, 821.0, 699.0, 843.0, 884.0, 1114.0, 479.0, 1319.0, 0.0, 658.0, 765.0, 1356.0, 1242.0, 523.0, 1361.0, 1090.0, 704.0, 0.0, 0.0, 1142.0, 1034.0, 841.0, 0.0, 353.0, 0.0, 0.0, 432.0, 813.0, 1410.0, 677.0, 1090.0, 591.0, 1783.0, 200.0, 186.0, 9975.0, 638.0, 830.0, 741.0, 689.0, 1377.0, 0.0, 603.0, 1167.0, 801.0, 732.0, 1060.0, 0.0, 0.0, 796.0, 153.0, 696.0, 1064.0, 1123.0, 612.0, 1286.0, 912.0, 0.0, 368.0, 1325.0, 0.0, 939.0, 559.0, 1499.0, 763.0, 522.0, 0.0, 1311.0, 400.0, 967.0, 0.0, 0.0, 2063.0, 3208.0, 405.0, 9138.0, 868.0, 0.0, 619.0, 2237.0, 629.0, 1557.0, 630.0, 659.0, 1377.0, 719.0, 186.0, 1697.0, 638.0, 896.0, 1211.0, 1275.0, 1113.0, 1075.0, 678.0, 0.0, 1086.0, 1163.0, 1014.0, 672.0, 800.0, 0.0, 749.0, 751.0, 1064.0, 599.0, 909.0, 0.0, 910.0, 1646.0, 696.0, 1323.0, 686.0, 0.0, 0.0, 720.0, 757.0, 871.0, 72456.0, 1230.0, 0.0, 1260.0, 0.0, 516.0, 0.0, 709.0, 1022.0, 0.0, 969.0, 13852.0, 1109.0, 153.0, 153.0, 915.0, 609.0, 1878.0, 1093.0, 707.0, 0.0, 0.0, 873.0, 707.0, 1076.0, 1408.0, 1137.0, 1121.0, 1064.0, 749.0, 106836.0, 410.0, 3697.0, 999.0, 978.0, 0.0, 2519.0, 1705.0, 0.0, 1220.0, 1124.0, 4788.0, 3952.0, 600.0, 720.0, 4193.0, 0.0, 868.0, 2279.0, 1621.0, 0.0, 622.0, 617.0, 1479.0, 1071.0, 0.0, 0.0, 580.0, 632.0, 829.0, 769.0, 2190.0, 8813.0, 1100.0, 3347.0, 4904.0, 765.0, 787.0, 486.0, 753.0, 198.0, 0.0, 840.0, 1275.0, 883.0, 836.0, 585.0, 636.0, 0.0, 0.0, 0.0, 1458.0, 1368.0, 749.0, 621.0, 796.0, 0.0, 153.0, 1443.0, 731.0, 0.0, 1132.0, 859.0, 0.0, 0.0, 171.0, 972.0, 1649.0, 640.0, 673.0, 2427.0, 1626.0, 0.0, 656.0, 2693.0, 2539.0, 0.0, 782.0, 2386.0, 1152.0, 718.0, 0.0, 579.0, 1287.0, 1034.0, 2289.0, 3217.0, 3500.0, 0.0, 622.0, 929.0, 0.0, 0.0, 0.0, 0.0, 0.0, 865.0, 945.0, 613.0, 792.0, 605.0, 709.0, 3648.0, 8813.0, 1752.0, 977.0, 730.0, 9975.0, 878.0, 0.0, 866.0, 1087.0, 819.0, 905.0, 885.0, 2310.0, 3378.0, 0.0, 801.0, 0.0, 153.0, 1376.0, 4248.0, 843.0, 2.0, 621.0, 153.0, 389.0, 389.0, 398.0, 0.0, 162.0, 75328.0, 2390.0, 52797.0, 3188.0, 1872.0, 1392.0, 1392.0, 1005.0, 1108.0, 954.0, 0.0, 0.0, 0.0, 1034.0, 830.0, 0.0, 1085.0, 748.0, 2409.0, 955.0, 1669.0, 648.0, 0.0, 0.0, 1092.0, 1090.0, 840.0, 633.0, 574.0, 1505.0, 1112.0, 725.0, 8813.0, 495.0, 1010.0, 308.0, 3001.0, 186.0, 186.0, 618.0, 2304.0, 1890.0, 433.0, 4904.0, 1031.0, 783.0, 599.0, 1544.0, 1013.0, 153.0, 0.0, 1279.0, 1272.0, 0.0, 628.0, 624.0, 0.0, 17350.0, 698.0, 1295.0, 1150.0, 733.0, 1190.0, 1299.0, 626.0, 12500.0, 1672.0, 153.0, 153.0, 153.0, 153.0, 153.0, 708.0, 843.0, 19375.0, 618.0, 927.0, 168.0, 999.0, 715.0, 689.0, 710.0, 606.0, 1589.0, 838.0, 390.0, 873.0, 791.0, 1330.0, 599.0, 1917.0, 788.0, 686.0, 1190.0, 1061.0, 860.0, 2811.0, 1677.0, 4628.0, 930.0, 3985.0, 923.0, 1907.0, 0.0, 0.0, 580.0, 896.0, 1499.0, 0.0, 1112.0, 3648.0, 1563.0, 779.0, 781.0, 1033.0, 1044.0, 729.0, 869.0, 153.0, 1355.0, 1168.0, 814.0, 2742.0, 1181.0, 500.0, 623.0, 751.0, 696.0, 1224.0, 936.0, 1230.0, 497.0, 766.0, 729.0, 640.0, 1196.0, 3263.0, 0.0, 664.0, 682.0, 2606.0, 1135.0, 1009.0, 0.0, 657.0, 0.0, 1034.0, 0.0, 526.0, 1148.0, 796.0, 0.0, 0.0, 0.0, 0.0, 1663.0, 3005.0, 778.0, 1132.0, 1505.0, 3648.0, 9975.0, 1563.0, 0.0, 0.0, 1158.0, 1054.0, 1338.0, 1224.0, 1075.0, 1004.0, 1293.0, 153.0, 0.0, 649.0, 1000.0, 1397.0, 3699.0, 2210.0, 1989.0, 1190.0, 330.0, 840.0, 4184.0, 407.0, 3478.0, 1650.0, 1666.0, 4016.0, 0.0, 2049.0, 1309.0, 1631.0, 763.0, 1149.0, 2190.0, 15179.0, 0.0, 7411.0, 922.0, 1917.0, 162.0, 1293.0, 787.0, 849.0, 1805.0, 858.0, 633.0, 611.0, 943.0, 1016.0, 1211.0, 1414.0, 3450.0, 942.0, 683.0, 1287.0, 2482.0, 21462.0, 608.0, 2068.0, 836.0, 2592.0, 1327.0, 0.0, 0.0, 878.0, 0.0, 0.0, 1016.0, 829.0, 853.0, 1059.0, 693.0, 613.0, 15179.0, 0.0, 814.0, 4904.0, 1050.0, 1703.0, 1173.0, 1142.0, 1800.0, 153.0, 630.0, 1235.0, 0.0, 444.0, 753.0, 833.0, 1047.0, 2176.0, 873.0, 1180.0, 0.0, 1308.0, 1205.0, 1141.0, 475.0, 829.0, 2279.0, 3844.0, 1973.0, 4574.0, 836.0, 705.0, 707.0, 2582.0, 0.0, 504.0, 1568.0, 678.0, 445.0, 1602.0, 209.0, 9975.0, 432.0, 816.0, 3195.0, 1301.0, 162.0, 900.0, 463.0, 1413.0, 623.0, 1069.0, 0.0, 0.0, 160.0, 785.0, 153.0, 570.0, 153.0, 950.0, 947.0, 396.0, 0.0, 2215.0, 649.0, 565.0, 1476.0, 706.0, 1045.0, 1203.0, 977.0, 1531.0, 0.0, 694.0, 2081.0, 860.0, 680.0, 1588.0, 1212.0, 901.0, 985.0, 625.0, 1524.0, 1054.0, 0.0, 5594.0, 789.0, 1312.0, 1050.0, 0.0, 565.0, 1090.0, 969.0, 875.0, 599.0, 5227.0, 1502.0, 0.0, 680.0, 1031.0, 1562.0, 732.0, 0.0, 643.0, 838.0, 643.0, 1053.0, 26300.0, 735.0, 761.0, 761.0, 689.0, 699.0, 639.0, 778.0, 914.0, 516.0, 0.0, 850.0, 489.0, 1248.0, 1938.0, 969.0, 1539.0, 0.0, 1011.0, 1987.0, 1530.0, 851.0, 680.0, 1926.0, 595.0, 1127.0, 1163.0, 1526.0, 875.0, 0.0, 0.0, 0.0, 0.0, 0.0, 0.0, 0.0, 935.0, 447.0, 0.0, 936.0, 484.0, 1505.0, 1457.0, 1132.0, 1505.0, 3648.0, 1245.0, 1189.0, 7411.0, 2835.0, 1871.0, 1406.0, 489.0, 1231.0, 153.0, 1330.0, 1330.0, 1330.0, 1330.0, 1330.0, 1053.0, 1350.0, 608.0, 493.0, 26300.0, 26300.0, 1583.0, 701.0, 900.0, 0.0, 1058.0, 1139.0, 946.0, 1073.0, 1242.0, 1837.0, 1325.0, 1688.0, 0.0, 653.0, 1409.0, 0.0, 1850.0, 1670.0, 1906.0, 2536.0, 2965.0, 2445.0, 2844.0, 3242.0, 1906.0, 2536.0, 2965.0, 2445.0, 2609.0, 2592.0, 2592.0, 2592.0, 0.0, 1750.0, 858.0, 872.0, 0.0, 1065.0, 896.0, 658.0, 1088.0, 1720.0, 150.0, 692.0, 1078.0, 1330.0, 1330.0, 1330.0, 1330.0, 1053.0, 402.0, 695.0, 764.0, 546.0, 153.0, 0.0, 0.0, 782.0, 710.0, 0.0, 0.0, 0.0, 692.0, 640.0, 251.0, 0.0, 0.0, 678.0, 959.0, 1779.0, 1819.0, 977.0, 1556.0, 1491.0, 851.0, 525.0, 697.0, 610.0, 0.0, 0.0, 880.0, 816.0, 1044.0, 1505.0, 6497.0, 848.0, 925.0, 162.0, 1471.0, 759.0, 902.0, 887.0, 1205.0, 1364.0, 1364.0, 725.0, 1121.0, 928.0, 1263.0, 1019.0, 763.0, 1394.0, 0.0, 153.0, 0.0, 800.0, 200.0, 1000.0, 2476.0, 1637.0, 1249.0, 1016.0, 0.0, 1464.0, 540.0, 777.0, 446.0, 767.0, 0.0, 0.0, 1112.0, 8813.0, 0.0, 0.0, 7411.0, 1011.0, 783.0, 0.0, 1038.0, 571.0, 1075.0, 1330.0, 1459.0, 1805.0, 0.0, 1175.0, 1128.0, 0.0, 0.0, 1212.0, 574.0, 559.0, 0.0, 884.0, 0.0, 434.0, 153.0, 923.0, 1097.0, 933.0, 699.0, 906.0, 1231.0, 3112.0, 404.0, 883.0, 1652.0, 1476.0, 1029.0, 1175.0, 1353.0, 1289.0, 1619.0, 3114.0, 729.0, 1231.0, 1803.0, 1144.0, 8346.0, 710.0, 966.0, 1920.0, 535.0, 726.0, 776.0, 1833.0, 1389.0, 0.0, 569.0, 896.0, 913.0, 8813.0, 5227.0, 1160.0, 850.0, 1022.0, 1144.0, 1197.0, 1510.0, 1183.0, 720.0, 1190.0, 1060.0, 570.0, 0.0, 865.0, 0.0, 814.0, 1755.0, 514.0, 1234.0, 1033.0, 1421.0, 153.0, 900.0, 0.0, 717.0, 579.0, 1412.0, 825.0, 0.0, 676.0, 694.0, 2168.0, 4003.0, 1546.0, 3114.0, 828.0, 1180.0, 0.0, 1809.0, 1229.0, 804.0, 2241.0, 805.0, 0.0, 528.0, 153.0, 15179.0, 5227.0, 1410.0, 447.0, 1077.0, 1121.0, 0.0, 0.0, 934.0, 153.0, 1136.0, 1190.0, 1303.0, 718.0, 848.0, 513.0, 699.0, 1157.0, 574.0, 141.0, 651.0, 963.0, 2100.0, 945.0, 1816.0, 0.0, 2539.0, 631.0, 765.0, 1141.0, 0.0, 0.0, 0.0, 0.0, 3114.0, 2241.0, 0.0, 967.0, 422.0, 0.0, 1124.0, 1213.0, 1375.0, 756.0, 814.0, 796.0, 0.0, 448.0, 449.0, 878.0, 0.0, 0.0, 1095.0, 787.0, 151.0, 1122.0, 978.0, 1129.0, 0.0, 0.0, 1354.0, 867.0, 713.0, 1679.0, 0.0, 0.0, 1048.0, 1004.0, 1158.0, 1692.0, 1248.0, 1468.0, 404.0, 3282.0, 720.0, 1244.0, 662.0, 791.0, 1277.0, 1446.0, 0.0, 1624.0, 2292.0, 1415.0, 658.0, 638.0, 0.0, 873.0, 0.0, 491.0, 554.0, 0.0, 1117.0, 4948.0, 4948.0, 7411.0, 953.0, 349.0, 571.0, 440.0, 1191.0, 623.0, 0.0, 1346.0, 503.0, 1188.0, 2100.0, 1650.0, 0.0, 1329.0, 1816.0, 0.0, 0.0, 0.0, 1227.0, 991.0, 1375.0, 1129.0, 39567.0, 1110.0, 0.0, 0.0, 635.0, 449.0, 613.0, 1049.0, 996.0, 2139.0, 1054.0, 1229.0, 851.0, 1086.0, 996.0, 192.0, 0.0, 1155.0, 1150.0, 762.0, 1518.0, 815.0, 982.0, 769.0, 0.0, 0.0, 779.0, 642.0, 785.0, 2109.0, 672.0, 782.0, 932.0, 643.0, 0.0, 1166.0, 1464.0, 1638.0, 1375.0, 798.0, 725.0, 3114.0, 1998.0, 715.0, 1378.0, 667.0, 1456.0, 0.0, 836.0, 653.0, 0.0, 1184.0, 1063.0, 170.0, 1084.0, 0.0, 1104.0, 932.0, 0.0, 636.0, 0.0, 14501.0, 24000.0, 826.0, 833.0, 922.0, 231379.0, 231379.0, 622.0, 0.0, 0.0, 2891.0, 893.0, 1016.0, 1571.0, 941.0, 0.0, 1373.0, 2279.0, 2964.0, 1134.0, 1309.0, 1779.0, 1812.0, 1489.0, 678.0, 1071.0, 0.0, 962.0, 757.0, 1109.0, 15179.0, 0.0, 1162.0, 0.0, 793.0, 0.0, 1104.0, 153.0, 1082.0, 826.0, 0.0, 153.0, 197.0, 1156.0, 1295.0, 720.0, 1512.0, 616.0, 2519.0, 637.0, 2487.0, 1044.0, 450.0, 1197.0, 1144.0, 537.0, 688.0, 1900.0, 1161.0, 1099.0, 1262.0, 0.0, 0.0, 945.0, 3541.0, 0.0, 657.0, 1376.0, 525.0, 0.0, 871.0, 645.0, 1112.0, 6497.0, 1084.0, 589.0, 7411.0, 1853.0, 527.0, 494.0, 2184.0, 1080.0, 153.0, 1659.0, 848.0, 848.0, 500.0, 603.0, 1035.0, 782.0, 900.0, 639.0, 1842.0, 830.0, 524.0, 930.0, 3039.0, 906.0, 0.0, 1061.0, 0.0, 0.0, 0.0, 0.0, 420.0, 0.0, 894.0, 660.0, 1147.0, 2885.0, 0.0, 380.0, 1166.0, 1044.0, 1595.0, 1182.0, 2249.0, 2009.0, 503.0, 3114.0, 917.0, 1661.0, 2663.0, 634.0, 3453.0, 0.0, 1948.0, 1489.0, 962.0, 600.0, 580.0, 613.0, 490.0, 153.0, 1102.0, 15179.0, 15179.0, 0.0, 942.0, 1383.0, 1788.0, 1401.0, 668.0, 1085.0, 837.0, 815.0, 1500.0, 900.0, 140.0, 1997.0, 975.0, 0.0, 1057.0, 1335.0, 0.0, 1429.0, 1321.0, 995.0, 512.0, 754.0, 746.0, 611.0, 0.0, 0.0, 894.0, 767.0, 595.0, 737.0, 523.0, 608.0, 764.0, 737.0, 730.0, 621.0, 700.0, 528.0, 153.0, 723.0, 0.0, 0.0, 0.0, 880.0, 1004.0, 534.0, 1502.0, 832.0, 585.0, 231379.0, 1686.0, 1932.0, 1092.0, 1022.0, 1059.0, 0.0, 1127.0, 977.0, 1636.0, 0.0, 798.0, 653.0, 0.0, 1689.0, 1444.0, 0.0, 0.0, 305.0, 613.0, 1172.0, 974.0, 0.0, 1802.0, 1023.0, 1000.0, 1386.0, 1271.0, 1172.0, 2002.0, 657.0, 628.0, 970.0, 930.0, 0.0, 581.0, 1002.0, 1007.0, 1247.0, 1320.0, 153.0, 0.0, 804.0, 855.0, 1680.0, 813.0, 1002.0, 0.0, 851.0, 696.0, 444.0, 875.0, 756.0, 1214.0, 1413.0, 0.0, 493.0, 1457.0, 2741.0, 1645.0, 4948.0, 0.0, 1162.0, 0.0, 1106.0, 0.0, 889.0, 9948.0, 1898.0, 1286.0, 1262.0, 0.0, 0.0, 0.0, 0.0, 771.0, 0.0, 1306.0, 1082.0, 1905.0, 791.0, 0.0, 0.0, 1157.0, 695.0, 696.0, 540.0, 710.0, 1003.0, 530.0, 1061.0, 2421.0, 1068.0, 896.0, 795.0, 1171.0, 185.0, 34745.0, 0.0, 15179.0, 975.0, 1209.0, 925.0, 1065.0, 672.0, 506.0, 506.0, 510.0, 0.0, 0.0, 672.0, 1441.0, 629.0, 902.0, 0.0, 231379.0, 1000.0, 857.0, 1273.0, 613.0, 939.0, 572.0, 818.0, 1780.0, 915.0, 902.0, 1060.0, 1584.0, 1068.0, 695.0, 1902.0, 966.0, 0.0, 0.0, 707.0, 0.0, 978.0, 449.0, 675.0, 654.0, 834.0, 34745.0, 34745.0, 0.0, 1505.0, 15179.0, 487.0, 0.0, 599.0, 1239.0, 0.0, 1116.0, 0.0, 0.0, 1451.0, 414.0, 895.0, 631.0, 1158.0, 1692.0, 36835.0, 1365.0, 1650.0, 595.0, 1571.0, 723.0, 723.0, 13953.0, 0.0, 798.0, 1373.0, 848.0, 687.0, 878.0, 1485.0, 0.0, 1258.0, 2992.0, 0.0, 698.0, 5958.0, 0.0, 1502.0, 0.0, 655.0, 537.0, 14762.0, 590.0, 895.0, 741.0, 1297.0, 26300.0, 26300.0, 836.0, 510.0, 893.0, 491.0, 417.0, 530.0, 826.0, 812.0, 1116.0, 679.0, 6998.0, 1142.0, 912.0, 517.0, 0.0, 941.0, 1994.0, 1202.0, 848.0, 1373.0, 848.0, 989.0, 2191.0, 390.0, 847.0, 577.0, 1728.0, 1462.0, 1537.0, 1074.0, 618.0, 1337.0, 936.0, 5958.0, 1320.0, 741.0, 665.0, 417.0, 747.0, 810.0, 153.0, 729.0, 1031.0, 832.0, 509.0, 153.0, 80.0, 822.0, 892.0, 863.0, 741.0, 0.0, 1225.0, 811.0, 1080.0, 0.0, 0.0, 4140.0, 5492.0, 1020.0, 1035.0, 1650.0, 1015.0, 991.0, 991.0, 1185.0, 681.0, 1344.0, 396.0, 458.0, 848.0, 848.0, 2685.0, 3243.0, 1002.0, 1467.0, 0.0, 1050.0, 1280.0, 662.0, 0.0, 1457.0, 923.0, 6497.0, 1318.0, 975.0, 747.0, 1300.0, 1087.0, 2309.0, 833.0, 1115.0, 576.0, 650.0, 0.0, 771.0, 616.0, 974.0, 1176.0, 648.0, 0.0, 753.0, 75328.0, 0.0, 0.0, 3463.0, 1044.0, 1567.0, 2843.0, 813.0, 1012.0, 1373.0, 1669.0, 545.0, 3140.0, 0.0, 0.0, 0.0, 0.0, 852.0, 933.0, 0.0, 565.0, 824.0, 34745.0, 0.0, 6497.0, 2840.0, 2010.0, 796.0, 816.0, 823.0, 816.0, 823.0, 739.0, 1554.0, 635.0, 1231.0, 153.0, 99083.0, 798.0, 561.0, 1090.0, 729.0, 718.0, 1268.0, 162.0, 898.0, 870.0, 4916.0, 0.0, 0.0, 504.0, 0.0, 0.0, 1123.0, 1046.0, 755.0, 548.0, 920.0, 1242.0, 863.0, 1815.0, 162.0, 990.0, 974.0, 589.0, 988.0, 1320.0, 794.0, 458.0, 779.0, 3586.0, 848.0, 2948.0, 0.0, 2342.0, 1065.0, 1295.0, 0.0, 98550.0, 98550.0, 778.0, 757.0, 613.0, 2741.0, 1162.0, 0.0, 854.0, 1405.0, 1245.0, 992.0, 1135.0, 153.0, 1288.0, 450.0, 0.0, 90307.0, 0.0, 0.0, 8102.0, 8102.0, 763.0, 804.0, 737.0, 764.0, 804.0, 700.0, 608.0, 539.0, 153.0, 153.0, 153.0, 153.0, 153.0, 650.0, 0.0, 1306.0, 829.0, 1525.0, 36835.0, 0.0, 3788.0, 788.0, 2519.0, 1597.0, 0.0, 0.0, 804.0, 625.0, 891.0, 807.0, 646.0, 892.0, 560.0, 3974.0, 2793.0, 2481.0, 440.0, 0.0, 706.0, 1076.0, 0.0, 981.0, 835.0, 185.0, 1070.0, 0.0, 713.0, 1252.0, 1026.0, 0.0, 99083.0, 99083.0, 786.0, 668.0, 973.0, 153.0, 480.0, 838.0, 10833.0, 33268.0, 33375.0, 32240.0, 0.0, 759.0, 650.0, 0.0, 0.0, 1002.0, 607.0, 619.0, 489.0, 2100.0, 1400.0, 1188.0, 773.0, 1355.0, 2911.0, 606.0, 1652.0, 297.0, 616.0, 616.0, 682.0, 2054.0, 0.0, 770.0, 931.0, 1399.0, 1107.0, 888.0, 818.0, 1044.0, 1044.0, 5893.0, 1379.0, 548.0, 1070.0, 973.0, 2016.0, 886.0, 868.0, 0.0, 0.0, 1311.0, 915.0, 1861.0, 550.0, 564.0, 2431.0, 0.0, 657.0, 0.0, 651.0, 1900.0, 821.0, 1031.0, 788.0, 1533.0, 755.0, 0.0, 0.0, 0.0, 0.0, 655.0, 1085.0, 943.0, 995.0, 1130.0, 971.0, 494.0, 1004.0, 1173.0, 349.0, 924.0, 1124.0, 996.0, 1070.0, 99083.0, 99083.0, 99083.0, 99083.0, 99083.0, 1181.0, 671.0, 931.0, 0.0, 623.0, 670.0, 0.0, 1230.0, 852.0, 881.0, 889.0, 153.0, 860.0, 844.0, 457.0, 963.0, 689.0, 1631.0, 3101.0, 606.0, 518.0, 1652.0, 1819.0, 459.0, 735.0, 1211.0, 1246.0, 1161.0, 1564.0, 748.0, 967.0, 686.0, 723.0, 1343.0, 1129.0, 647.0, 668.0, 995.0, 1959.0, 733.0, 453.0, 1618.0, 0.0, 708.0, 1132.0, 1275.0, 1733.0, 4227.0, 2451.0, 145.0, 1379.0, 741.0, 1300.0, 0.0, 1789.0, 1182.0, 731.0, 589.0, 698.0, 440.0, 456.0, 1120.0, 623.0, 0.0, 153.0, 975.0, 510.0, 906.0, 1240.0, 513.0, 1003.0, 1777.0, 715.0, 445.0, 1021.0, 1633.0, 1980.0, 1157.0, 1576.0, 1780.0, 715.0, 2165.0, 2903.0, 2457.0, 1305.0, 613.0, 613.0, 829.0, 633.0, 981.0, 3126.0, 1460.0, 1084.0, 912.0, 1228.0, 153.0, 144.0, 144.0, 0.0, 612.0, 1205.0, 446.0, 1249.0, 26300.0, 1099.0, 1316.0, 631.0, 1087.0, 0.0, 1361.0, 1250.0, 756.0, 692.0, 0.0, 1033.0, 1003.0, 1091.0, 1161.0, 695.0, 695.0, 1123.0, 1235.0, 2334.0, 2327.0, 948.0, 1728.0, 0.0, 0.0, 0.0, 854.0, 1508.0, 1640.0, 913.0, 670.0, 1171.0, 638.0, 34745.0, 0.0, 2741.0, 4530.0, 2356.0, 888.0, 0.0, 706.0, 648.0, 1609.0, 728.0, 1270.0, 1061.0, 685.0, 1322.0, 248.0, 591.0, 757.0, 459.0, 826.0, 700.0, 523.0, 826.0, 826.0, 804.0, 523.0, 517.0, 530.0, 737.0, 512.0, 783.0, 537.0, 547.0, 528.0, 488.0, 995.0, 622.0, 153.0, 153.0, 153.0, 153.0, 153.0, 153.0, 0.0, 730.0, 189.0, 763.0, 4999.0, 4999.0, 1217.0, 2603.0, 735.0, 1211.0, 1647.0, 895.0, 988.0, 988.0, 983.0, 1970.0, 650.0, 892.0, 3114.0, 514.0, 848.0, 828.0, 1397.0, 1676.0, 39567.0, 0.0, 435.0, 1004.0, 825.0, 629.0, 8813.0, 1200.0, 817.0, 962.0, 723.0, 632.0, 0.0, 808.0, 905.0, 723.0, 0.0, 1375.0, 36835.0, 36835.0, 2219.0, 231379.0, 231379.0, 2360.0, 829.0, 982.0, 515.0, 2100.0, 1440.0, 1934.0, 1285.0, 1464.0, 1044.0, 1155.0, 770.0, 615.0, 1970.0, 1370.0, 0.0, 1490.0, 828.0, 1373.0, 1131.0, 1031.0, 485.0, 0.0, 690.0, 909.0, 0.0, 34745.0, 0.0, 605.0, 660.0, 1124.0, 1088.0, 1825.0, 0.0, 567.0, 627.0, 700.0, 995.0, 608.0, 725.0, 472.0, 0.0, 650.0, 723.0, 0.0, 0.0, 672.0, 1130.0, 659.0, 619.0, 826.0, 776.0, 705.0, 1011.0, 942.0, 754.0, 900.0, 495.0, 969.0, 231379.0, 731.0, 1293.0, 1630.0, 1563.0, 1043.0, 1134.0, 983.0, 32805.0, 777.0, 1363.0, 909.0, 565.0, 1593.0, 2300.0, 474.0, 691.0, 654.0, 0.0, 5050.0, 634.0, 435.0, 825.0, 605.0, 2401.0, 1216.0, 4563.0, 1369.0, 822.0, 964.0, 1572.0, 1077.0, 70998.0, 733.0, 931.0, 882.0, 1638.0, 945.0, 723.0, 1089.0, 0.0, 0.0, 1752.0, 989.0, 4999.0, 1436.0, 640.0, 2492.0, 1480.0, 1033.0, 380.0, 723.0, 723.0, 1336.0, 1555.0, 0.0, 1141.0, 841.0, 1741.0, 1831.0, 1178.0, 4702.0, 1463.0, 1581.0, 1866.0, 0.0, 783.0, 2349.0, 2484.0, 950.0, 1206.0, 1505.0, 1890.0, 1562.0, 1433.0, 2849.0, 616.0, 70998.0, 0.0, 1288.0, 931.0, 917.0, 0.0, 1250.0, 4993.0, 786.0, 0.0, 754.0, 1439.0, 0.0, 860.0, 1004.0, 605.0, 779.0, 0.0, 0.0, 465.0, 949.0, 982.0, 1074.0, 774.0, 1123.0, 723.0, 1956.0, 32805.0, 32805.0, 667.0, 880.0, 1253.0, 422.0, 0.0, 1767.0, 1162.0, 749.0, 806.0, 1097.0, 135.0, 135.0, 835.0, 877.0, 596.0, 701.0, 1715.0, 1275.0, 409.0, 1337.0, 1031.0, 70998.0, 735.0, 99083.0, 1026.0, 1050.0, 1090.0, 850.0, 1679.0, 1185.0, 153.0, 153.0, 1224.0, 565.0, 815.0, 629.0, 153.0, 1125.0, 855.0, 0.0, 800.0, 200.0, 1008.0, 1782.0, 531.0, 0.0, 691.0, 684.0, 856.0, 780.0, 1961.0, 0.0, 986.0, 695.0, 1217.0, 32805.0, 32805.0, 846.0, 0.0, 589.0, 1418.0, 2440.0, 417.0, 569.0, 0.0, 0.0, 0.0, 698.0, 0.0, 990.0, 1076.0, 565.0, 820.0, 1091.0, 1440.0, 493.0, 1351.0, 1180.0, 1110.0, 899.0, 1460.0, 4000.0, 1062.0, 1200.0, 11254.0, 880.0, 70998.0, 70998.0, 1223.0, 162.0, 735.0, 708.0, 800.0, 1265.0, 1424.0, 0.0, 1245.0, 901.0, 1390.0, 153.0, 153.0, 153.0, 153.0, 153.0, 561.0, 910.0, 1130.0, 942.0, 0.0, 0.0, 0.0, 0.0, 537.0, 1234.0, 523.0, 484.0, 679.0, 1429.0, 1773.0, 2027.0, 693.0, 695.0, 695.0, 695.0, 461.0, 655.0, 850.0, 1044.0, 1043.0, 743.0, 695.0, 695.0, 1465.0, 864.0, 1458.0, 1343.0, 851.0, 1311.0, 1252.0, 1100.0, 1027.0, 0.0, 0.0, 528.0, 967.0, 0.0, 220.0, 0.0, 656.0, 504.0, 941.0, 669.0, 636.0, 829.0, 1014.0, 936.0, 0.0, 1112.0, 1209.0, 4563.0, 1380.0, 153.0, 1430.0, 1102.0, 873.0, 2567.0, 698.0, 1072.0, 153.0, 755.0, 817.0, 8358.0, 99083.0, 99083.0, 571.0, 1107.0, 1254.0, 934.0, 1311.0, 732.0, 731.0, 1538.0, 679.0, 153.0, 2102.0, 746.0, 698.0, 681.0, 153.0, 604.0, 1190.0, 1166.0, 2281.0, 493.0, 801.0, 0.0, 826.0, 812.0, 1196.0, 1004.0, 0.0, 800.0, 200.0, 850.0, 670.0, 36835.0, 36835.0, 0.0, 1297.0, 438.0, 773.0, 780.0, 0.0, 1123.0, 562.0, 1588.0, 615.0, 1053.0, 1397.0, 848.0, 848.0, 2028.0, 955.0, 5284.0, 2592.0, 0.0, 376.0, 936.0, 1090.0, 815.0, 874.0, 1852.0, 814.0, 7411.0, 1160.0, 1004.0, 70998.0, 550.0, 921.0, 555.0, 153.0, 634.0, 925.0, 0.0, 504.0, 479.0, 1400.0, 756.0, 1072.0, 544.0, 1290.0, 1060.0, 0.0, 5391.0, 3576.0, 3576.0, 1098.0, 1588.0, 746.0, 1343.0, 848.0, 1014.0, 1773.0, 1263.0, 0.0, 898.0, 2234.0, 894.0, 1081.0, 153.0, 984.0, 666.0, 4530.0, 1191.0, 1376.0, 1523.0, 615.0, 741.0, 817.0, 1443.0, 943.0, 1138.0, 1742.0, 1751.0, 862.0, 1060.0, 750.0, 0.0, 153.0, 504.0, 475.0, 1014.0, 0.0, 698.0, 2169.0, 503.0, 0.0, 655.0, 1161.0, 696.0, 0.0, 3451.0, 0.0, 0.0, 1880.0, 1489.0, 0.0, 2568.0, 719.0, 1117.0, 786.0, 0.0, 70998.0, 931.0, 931.0, 0.0, 0.0, 1063.0, 0.0, 1375.0, 0.0, 1723.0, 650.0, 575.0, 440.0, 153.0, 153.0, 839.0, 803.0, 1760.0, 2844.0, 1901.0, 1728.0, 780.0, 849.0, 696.0, 1003.0, 4994.0, 485.0, 322160.0, 2241.0, 1359.0, 1065.0, 681.0, 2227.0, 874.0, 34745.0, 0.0, 895.0, 666.0, 1496.0, 1624.0, 791.0, 70998.0, 1124.0, 755.0, 1112.0, 1213.0, 513.0, 650.0, 0.0, 977.0, 561.0, 0.0, 1329.0, 1065.0, 448.0, 1000.0, 1609.0, 511.0, 1044.0, 1566.0, 32805.0, 745.0, 1494.0, 190.0, 1213.0, 1612.0, 322160.0, 3260.0, 286755.0, 444.0, 3453.0, 689.0, 2183.0, 286755.0, 4803.0, 1959.0, 929.0, 69924.0, 1749.0, 884.0, 338.0, 1423.0, 2331.0, 833.0, 1530.0, 1410.0, 1083.0, 1074.0, 651.0, 1311.0, 1132.0, 666.0, 0.0, 1409.0, 848.0, 36750.0, 0.0, 741.0, 1288.0, 0.0, 1097.0, 153.0, 953.0, 6350.0, 700.0, 700.0, 884.0, 734.0, 453.0, 8016.0, 0.0, 1200.0, 726.0, 4999.0, 4999.0, 715.0, 2775.0, 788.0, 6649.0, 2024.0, 723.0, 695.0, 1104.0, 373.0, 1230.0, 648.0, 1036.0, 776.0, 830.0, 951.0, 652.0, 3428.0, 387.0, 706.0, 840.0, 0.0, 0.0, 477.0, 640.0, 1074.0, 613.0, 1132.0, 1132.0, 1132.0, 896.0, 666.0, 153.0, 21214.0, 5631.0, 0.0, 802.0, 70998.0, 698.0, 661.0, 799.0, 824.0, 643.0, 698.0, 661.0, 721.0, 728.0, 726.0, 698.0, 661.0, 733.0, 699.0, 726.0, 698.0, 661.0, 721.0, 728.0, 726.0, 698.0, 661.0, 733.0, 699.0, 726.0, 698.0, 661.0, 721.0, 728.0, 726.0, 698.0, 661.0, 733.0, 699.0, 726.0, 1048.0, 1043.0, 1117.0, 1085.0, 4652.0, 2173.0, 2510.0, 816.0, 1308.0, 440.0, 1104.0, 639.0, 689.0, 671.0, 885.0, 942.0, 964.0, 1386.0, 2258.0, 2507.0, 698.0, 1352.0, 513.0, 0.0, 2707.0, 839.0, 851.0, 1561.0, 4430.0, 676.0, 682.0, 1180.0, 1046.0, 754.0, 570.0, 0.0, 638.0, 1055.0, 2397.0, 800.0, 0.0, 34590.0, 33500.0, 32173.0, 2444.0, 1432.0, 2228.0, 2554.0, 98550.0, 1164.0, 780.0, 670.0, 621.0, 829.0, 1132.0, 1424.0, 0.0, 4530.0, 21214.0, 1595.0, 9372.0, 2007.0, 70998.0, 1007.0, 958.0, 153.0, 917.0, 755.0, 1194.0, 623.0, 1045.0, 153.0, 1495.0, 560.0, 704.0, 8016.0, 0.0, 1672.0, 1523.0, 0.0, 892.0, 1145.0, 1853.0, 646.0, 750.0, 0.0, 849.0, 1043.0, 153.0, 823.0, 823.0, 392.0, 848.0, 2311.0, 2027.0, 689.0, 685.0, 0.0, 814.0, 69924.0, 0.0, 1190.0, 1676.0, 1891.0, 778.0, 1588.0, 1696.0, 0.0, 1623.0, 5862.0, 1510.0, 5631.0, 0.0, 718.0, 11254.0, 717.0, 1194.0, 1356.0, 780.0, 997.0, 755.0, 1200.0, 0.0, 1166.0, 237.0, 8016.0, 144.0, 862.0, 589.0, 639.0, 747.0, 856.0, 955.0, 575.0, 855.0, 501.0, 1674.0, 1158.0, 0.0, 2373.0, 1830.0, 1010.0, 1044.0, 1462.0, 2218.0, 32805.0, 0.0, 1636.0, 787.0, 909.0, 900.0, 322160.0, 322160.0, 704.0, 1580.0, 2042.0, 1070.0, 1230.0, 1199.0, 0.0, 0.0, 2251.0, 2230.0, 2209.0, 580.0, 1120.0, 1172.0, 826.0, 1112.0, 1164.0, 4440.0, 992.0, 1492.0, 1542.0, 626.0, 8358.0, 5247.0, 0.0, 879.0, 2298.0, 769.0, 1017.0, 875.0, 912.0, 8016.0, 717.0, 153.0, 1136.0, 720.0, 1184.0, 981.0, 1398.0, 2476.0, 1310.0, 791.0, 1244.0, 788.0, 695.0, 0.0, 1630.0, 1563.0, 703.0, 1206.0, 850.0, 849.0, 32805.0, 32805.0, 689.0, 1171.0, 1253.0, 1343.0, 322160.0, 638.0, 955.0, 0.0, 0.0, 1430.0, 2247.0, 970.0, 829.0, 613.0, 680.0, 1087.0, 0.0, 0.0, 1228.0, 9975.0, 36750.0, 153.0, 0.0, 1288.0, 1088.0, 877.0, 1537.0, 1122.0, 1429.0, 2316.0, 1189.0, 635.0, 153.0, 0.0, 2900.0, 1006.0, 480.0, 1495.0, 181.0, 727.0, 897.0, 1322.0, 871.0, 1188.0, 1343.0, 1300.0, 635.0, 0.0, 1397.0, 415.0, 484.0, 1204.0, 649.0, 757.0, 1003.0, 1571.0, 1161.0, 1162.0, 759.0, 0.0, 1343.0, 1431.0, 1816.0, 2865.0, 676.0, 0.0, 0.0, 1187.0, 98550.0, 1452.0, 846.0, 782.0, 34745.0, 0.0, 1270.0, 1119.0, 4563.0, 4563.0, 1979.0, 1110.0, 2700.0, 756.0, 1502.0, 636.0, 817.0, 630.0, 925.0, 0.0, 99083.0, 99083.0, 2550.0, 879.0, 6350.0, 2569.0, 666.0, 523.0, 492.0, 0.0, 854.0, 1134.0, 670.0, 36835.0, 231379.0, 231379.0, 1373.0, 2300.0, 6344.0, 685.0, 19429.0, 1043.0, 1559.0, 6517.0, 32805.0, 0.0, 0.0, 790.0, 1343.0, 0.0, 1116.0, 685.0, 0.0, 0.0, 0.0, 1392.0, 69924.0, 3364.0, 1740.0, 851.0, 0.0, 0.0, 1226.0, 2255.0, 933.0, 829.0, 750.0, 0.0, 666.0, 9372.0, 2700.0, 2204.0, 698.0, 830.0, 741.0, 931.0, 1194.0, 1990.0, 0.0, 766.0, 1376.0, 2954.0, 1309.0, 590.0, 6350.0, 0.0, 1270.0, 1289.0, 1185.0, 1138.0, 1380.0, 36835.0, 0.0, 2125.0, 606.0, 616.0, 1480.0, 1630.0, 1033.0, 500.0, 991.0, 986.0, 739.0, 890.0, 827.0, 1653.0, 47.0, 518.0, 1155.0, 1994.0, 0.0, 1373.0, 813.0, 322160.0, 0.0, 69924.0, 789.0, 0.0, 1552.0, 680.0, 675.0, 542.0, 6497.0, 4000.0, 867.0, 1598.0, 643.0, 1220.0, 153.0, 1443.0, 828.0, 8358.0, 1154.0, 157.0, 698.0, 1000.0, 740.0, 1120.0, 1136.0, 1060.0, 0.0, 10462.0, 902.0, 0.0, 1296.0, 713.0, 724.0, 1480.0, 0.0, 1153.0, 1123.0, 695.0, 789.0, 1006.0, 828.0, 1250.0, 322160.0, 322160.0, 3578.0, 2481.0, 3201.0, 796.0, 578.0, 1249.0, 0.0, 634.0, 98550.0, 98550.0, 757.0, 625.0, 599.0, 2700.0, 0.0, 4530.0, 21214.0, 1773.0, 144.0, 1258.0, 1179.0, 965.0, 2056.0, 735.0, 1018.0, 1270.0, 0.0, 3035.0, 0.0, 3375.0, 0.0, 0.0, 1086.0, 59865.0, 1018.0, 1800.0, 995.0, 1137.0, 0.0, 957.0, 2188.0, 958.0, 1145.0, 757.0, 2848.0, 1530.0, 45070.0, 1484.0, 746.0, 474.0, 1096.0, 69924.0, 1035.0, 613.0, 1155.0, 0.0, 598.0, 1183.0, 1093.0, 1194.0, 99083.0, 99083.0, 99083.0, 796.0, 0.0, 3375.0, 0.0, 0.0, 1846.0, 1278.0, 8016.0, 8016.0, 1058.0, 582.0, 1630.0, 1446.0, 696.0, 694.0, 2181.0, 824.0, 589.0, 3114.0, 976.0, 2088.0, 829.0, 1268.0, 2221.0, 868.0, 0.0, 1076.0, 1680.0, 1116.0, 0.0, 926.0, 1177.0, 349.0, 671.0, 2939.0, 153.0, 153.0, 635.0, 1244.0, 959.0, 1181.0, 2378.0, 972.0, 1546.0, 485.0, 124264.0, 1476.0, 826.0, 657.0, 1444.0, 730.0, 763.0, 776.0, 696.0, 2093.0, 864.0, 2158.0, 1343.0, 1397.0, 661.0, 1978.0, 0.0, 0.0, 1116.0, 1209.0, 1271.0, 642.0, 1628.0, 0.0, 1194.0, 632.0, 3375.0, 1148.0, 814.0, 616.0, 1009.0, 1531.0, 1033.0, 1630.0, 1302.0, 1044.0, 1557.0, 696.0, 723.0, 723.0, 0.0, 1039.0, 462.0, 1834.0, 1518.0, 814.0, 2429.0, 844.0, 1695.0, 2096.0, 1299.0, 0.0, 0.0, 98550.0, 8621.0, 8621.0, 498.0, 488.0, 760.0, 72475.0, 2160.0, 0.0, 0.0, 72475.0, 0.0, 893.0, 1074.0, 0.0, 618.0, 9948.0, 641.0, 1424.0, 0.0, 153.0, 1222.0, 3378.0, 801.0, 1010.0, 1200.0, 171.0, 420.0, 231379.0, 3764.0, 788.0, 0.0, 1164.0, 1123.0, 32805.0, 615.0, 1131.0, 513.0, 667.0, 757.0, 2771.0, 1722.0, 848.0, 1210.0, 754.0, 69924.0, 0.0, 0.0, 0.0, 1281.0, 155.0, 72475.0, 72475.0, 72475.0, 0.0, 72475.0, 1020.0, 1270.0, 340.0, 144.0, 1174.0, 530.0, 153.0, 9261.0, 827.0, 974.0, 1501.0, 0.0, 462.0, 576.0, 608.0, 0.0, 75328.0, 1627.0, 982.0, 1147.0, 1760.0, 32805.0, 585.0, 1350.0, 2248.0, 1343.0, 795.0, 895.0, 1691.0, 904.0, 0.0, 0.0, 647.0, 2417.0, 0.0, 634.0, 2248.0, 784.0, 848.0, 11684.0, 7909.0, 1290.0, 174.0, 72475.0, 72475.0, 72475.0, 72475.0, 72475.0, 1159.0, 0.0, 1011.0, 1320.0, 0.0, 0.0, 859.0, 1168.0, 1521.0, 0.0, 0.0, 1153.0, 875.0, 335.0, 750.0, 670.0, 730.0, 1820.0, 1707.0, 788.0, 732.0, 1175.0, 4350.0, 4350.0, 1778.0, 723.0, 0.0, 848.0, 322160.0, 1601.0, 634.0, 0.0, 0.0, 2047.0, 1044.0, 2721.0, 0.0, 72944.0, 22623.0, 613.0, 960.0, 828.0, 1228.0, 1062.0, 1004.0, 864.0, 1605.0, 539.0, 716.0, 1112.0, 656.0, 162.0, 700.0, 2039.0, 770.0, 1031.0, 584.0, 938.0, 1253.0, 0.0, 804.0, 760.0, 231379.0, 1892.0, 0.0, 0.0, 379.0, 1893.0, 2092.0, 970.0, 322160.0, 939.0, 695.0, 1038.0, 1253.0, 519.0, 766.0, 1065.0, 0.0, 1846.0, 949.0, 817.0, 0.0, 763.0, 153.0, 1111.0, 561.0, 843.0, 1166.0, 8358.0, 5247.0, 0.0, 861.0, 1183.0, 9948.0, 504.0, 543.0, 1056.0, 1149.0, 0.0, 0.0, 755.0, 854.0], \"xaxis\": \"x\", \"y\": [2000000, 2997613, 1250000, 1955000, 1955000, 590000, 590000, 804418, 804418, 860421, 860421, 860421, 520000, 200000, 100000, 302500, 1600000, 5243947, 150000, 1200000, 3779800, 351000, 985000, 655000, 1781938, 30191113, 2800000, 16295000, 2750000, 4580000, 910000, 367000, 810000, 810000, 1200000, 560064, 10, 480000, 891987, 762669, 743000, 900000, 600000, 685000, 380000, 1550000, 410000, 410000, 619000, 700000, 639499, 858118, 573888, 270000, 1145000, 840000, 92500, 840000, 339690, 380000, 400000, 1936407, 1325000, 715000, 2500000, 1136000, 1104500, 1136000, 1000, 3279656, 7200000, 4800000, 1250000, 1925000, 10, 975000, 1725000, 200500, 10, 1475000, 755000, 505986, 180000, 650000, 622500, 698000, 3355000, 945000, 610950, 350000, 380000, 1050000, 815000, 1250000, 999000, 800000, 600000, 215000, 450000, 425000, 365000, 425000, 380000, 525000, 385000, 353000, 575000, 300000, 1466280, 535000, 805000, 951000, 435000, 2650000, 32396000, 605000, 5050000, 18000000, 2050000, 2300000, 570000, 700000, 964334, 603822, 603822, 720000, 383000, 1250000, 2375000, 503500, 1013159, 1013159, 1013159, 880000, 1560000, 925000, 980000, 645840, 775000, 665000, 365000, 760633, 344130, 381000, 272500, 1150000, 1300000, 2650000, 1323725, 999000, 510000, 2899189, 2899189, 610000, 1440000, 2150000, 1490000, 4000000, 840000, 780000, 795000, 599000, 999000, 1140311, 499900, 405000, 420810, 263611, 677136, 738231, 738231, 1999000, 1330000, 1330000, 1454241, 950000, 230000, 615000, 1280000, 950000, 4259949, 4259949, 4259949, 630000, 10, 375000, 1088408, 639461, 395000, 240000, 590000, 349830, 228000, 750000, 672550, 675000, 2900000, 640000, 995000, 1850000, 685000, 7130000, 7130000, 7130000, 9300000, 2121913, 920000, 3100000, 1100000, 37952, 1685000, 1700000, 10250000, 1005000, 540000, 930000, 1300000, 4100000, 975000, 620000, 178000, 600000, 669000, 33500, 499999, 499999, 800000, 100, 15803, 100, 100, 999000, 743436, 441090, 743436, 1481554, 1909219, 1481554, 1800000, 1640000, 893000, 18000, 649644, 1150521, 320000, 300000, 1315000, 415740, 270000, 279400, 262900, 3375000, 4100000, 879000, 1175000, 4100000, 2395000, 575000, 1270000, 1465000, 680000, 1425000, 835000, 525000, 1715000, 2600000, 1678000, 3500000, 1175000, 8950000, 10, 3150000, 1588888, 2100000, 660000, 430950, 700000, 884000, 591100, 800000, 660000, 970000, 641750, 660000, 1100000, 265000, 640000, 640000, 205779, 1375000, 1750000, 1375000, 1488238, 400000, 700000, 618000, 1374638, 972429, 765000, 405000, 621133, 2520169, 1270000, 1485000, 490000, 375901, 685000, 832000, 950000, 1380000, 510000, 1875000, 2075000, 875000, 3400000, 10300000, 1585000, 442145, 170000, 267500, 330000, 670000, 400000, 1750000, 569000, 1640000, 30420, 450000, 2560102, 625000, 800000, 2212973, 2212973, 2212973, 2212973, 2212973, 2212973, 2212973, 2212973, 1013159, 661863, 600768, 412500, 390000, 1, 11000, 2350000, 860000, 2400000, 1100000, 5236177, 7295000, 7295000, 636500, 1585000, 652000, 4381225, 2202170, 660000, 650000, 2100000, 6924100, 975000, 1458000, 770000, 2835000, 660000, 5000000, 120000, 242146, 170000, 715000, 615000, 1017232, 1080000, 2850000, 1800000, 738231, 738231, 605000, 554900, 985000, 655000, 655000, 424000, 265000, 208000, 10, 435000, 480000, 215000, 215000, 215000, 3250000, 975000, 1405000, 1160000, 3032294, 189959, 3650000, 1350000, 501000, 2400000, 9316988, 10200000, 1875000, 578000, 825000, 485000, 1525000, 1450000, 1725000, 895000, 150000, 162240, 900000, 4700000, 875000, 1405000, 1210000, 430000, 430000, 685000, 10, 825000, 1420000, 810000, 710000, 370000, 422000, 1200759, 217500, 1250000, 521000, 875695, 690000, 255000, 147460, 374900, 785000, 3100000, 1150000, 1850000, 26500000, 26500000, 400000, 1075000, 700000, 610000, 2523500, 1647474, 2523500, 342000, 1450000, 20400000, 20400000, 4100000, 1685000, 10495000, 1500000, 375000, 268710, 220000, 509000, 1053889, 181758, 1325000, 405000, 790000, 1995000, 742960, 539673, 45630, 875000, 680000, 12750, 725000, 450000, 693428, 702593, 790000, 2858944, 595000, 4000000, 1345000, 875000, 875000, 356000, 665000, 1150000, 4700000, 1180000, 1200000, 572000, 1950000, 527500, 395000, 740000, 830000, 725000, 2861283, 705000, 2400000, 2400000, 1463868, 898097, 1542500, 1542500, 758397, 1250000, 45000, 700000, 1500000, 540000, 1300000, 1300000, 810000, 738000, 405000, 378000, 347000, 315000, 140000, 4000000, 9270000, 1628475, 1451324, 1085465, 995000, 9700000, 1610000, 9700000, 2275000, 1136500, 658630, 706388, 1595000, 760000, 875000, 1210000, 1512500, 765000, 575000, 2800000, 935000, 369456, 7200000, 13240000, 4900000, 780000, 3900000, 3458907, 785000, 640000, 159500, 125000, 245000, 375180, 1945000, 1770000, 500000, 1200000, 875000, 2000000, 1425000, 1200000, 1487929, 711757, 710000, 850000, 650000, 280000, 280000, 400000, 805000, 993000, 334806, 320000, 350000, 544764, 337000, 529000, 360000, 300000, 395000, 955000, 926608, 555000, 2400000, 189109922, 189109922, 767000, 1550000, 1200000, 712500, 1150000, 1350000, 1610000, 810000, 920000, 1100000, 2400000, 1425550, 1375000, 4750000, 1350000, 9200000, 3650000, 3650000, 177450, 354900, 354900, 15000, 1450000, 599000, 1995000, 439000, 3003838, 1523747, 1400000, 2825000, 850000, 780000, 1295929, 81120, 1800000, 3620000, 1348500, 950000, 3791410, 2482448, 1300000, 1600000, 1420000, 10, 239958219, 695000, 39950, 52500, 3870000, 2847500, 1555000, 5498550, 5854938, 67500, 168000, 749228, 604466, 707684, 725000, 980000, 583661, 1250000, 655000, 240000, 460000, 1939000, 875000, 735000, 619000, 728558, 640794, 809000, 728558, 728558, 641498, 641498, 175000, 270554, 721521, 489000, 687319, 860421, 970000, 1308451, 640000, 550000, 550000, 430000, 536109, 485000, 409000, 205000, 2400000, 1620000, 1395000, 2811000, 439000, 1975000, 2156349, 1410000, 1080000, 540000, 1145000, 6908163, 640000, 730000, 2275000, 175000, 315000, 456300, 800000, 172380, 156156, 707684, 732500, 625000, 420000, 450000, 1775000, 1775000, 712775, 880000, 610000, 630000, 745000, 360000, 1330262, 555000, 555000, 762669, 1120075, 350000, 1075000, 2665000, 1100000, 668000, 527500, 1355000, 1480000, 291031, 490000, 1500000, 775000, 695000, 3552938, 2120000, 521000, 1290000, 2650000, 2650000, 4750000, 11648526, 495000, 64250000, 747500, 780000, 795000, 2750000, 960000, 2400000, 830000, 1000, 355000, 558510, 156156, 1750000, 255000, 300000, 1337045, 712775, 1367364, 1285000, 745000, 1285000, 1631102, 763688, 1267721, 318000, 512066, 4378563, 728049, 760633, 1017232, 428000, 825000, 190000, 210000, 412000, 770000, 2418344, 1379729, 830000, 749000, 680000, 187000, 860000, 1140000, 1750000, 840000, 1750000, 359000, 770000, 411000, 244000, 609000, 609000, 232000, 980000, 648904, 648904, 648904, 312000, 660000, 1467642, 1150000, 648000, 1150000, 648000, 639563, 475000, 967338, 10, 660000, 710000, 1008068, 748414, 39201783, 616041, 4250000, 334000, 330000, 890000, 5920576, 2400000, 1360000, 2025000, 10, 10393988, 30691657, 655000, 200000, 22158995, 1660000, 1090000, 4400000, 2600000, 559000, 830000, 620000, 2050000, 1350000, 1045000, 940000, 476580, 495000, 233000, 160000, 1151989, 651680, 865000, 1669930, 1333908, 899000, 860000, 800000, 600768, 600768, 600768, 1500000, 1350000, 1243750, 480000, 620000, 730000, 35000, 730000, 730000, 656771, 663000, 757464, 379000, 435000, 198000, 379000, 3000000, 984700, 984700, 796000, 515000, 438000, 379000, 796000, 327000, 443000, 274287, 245000, 3250000, 3025000, 515000, 888000, 6650000, 6337305, 940000, 1100000, 2700000, 1367500, 845000, 1220000, 1275813, 2118000, 1927243, 8909688, 12376829, 8000000, 2395000, 732500, 760000, 520000, 30000, 30000, 30000, 30000, 475000, 175000, 160000, 310000, 580000, 681209, 985000, 915407, 580000, 895000, 582500, 690000, 410000, 410000, 920000, 1290000, 335000, 990000, 715000, 1185000, 1100000, 650000, 675000, 1260000, 30420, 2380000, 2380000, 901151, 740000, 400000, 400000, 5750, 5750, 5750, 490000, 253500, 1513688, 1999877, 4722658, 4683950, 963000, 1375000, 1375000, 985000, 1325000, 1190768, 430000, 207241, 6500000, 2180787, 730000, 2250000, 1109500, 999500, 5350000, 1550000, 2600000, 825000, 1400000, 1795000, 350000, 273000, 245000, 165000, 575000, 919480, 679376, 629000, 614000, 140000, 475000, 475000, 4327919, 151086, 156156, 558000, 3075000, 1791345, 478000, 1637346, 855330, 794235, 470000, 665000, 641498, 641498, 665000, 2087413, 1775000, 2087413, 504034, 478578, 504034, 8500000, 544764, 925000, 899000, 568000, 1000, 900000, 711757, 2150000, 770000, 65000, 30548, 30548, 30548, 30420, 516568, 865513, 475000, 530000, 1415368, 120000, 290000, 320000, 249000, 255000, 219000, 2950000, 825000, 560000, 1400000, 1145000, 1400000, 420000, 1795000, 1210000, 1310000, 1250000, 1770000, 905000, 6053000, 3300000, 32000000, 954000, 11350000, 1440000, 1965000, 410000, 620000, 560038, 250000, 1200000, 1200000, 735380, 850000, 1290000, 365040, 238000, 1200000, 988000, 835000, 94000, 10, 1625000, 1550000, 925000, 1155000, 1550000, 621133, 615000, 755542, 643534, 1349181, 1105000, 805000, 615000, 330000, 235000, 233220, 2400000, 10700000, 466000, 124522, 699888, 5312916, 1235000, 1295000, 950000, 1295000, 1295000, 2120710, 1055000, 765000, 1750000, 1369414, 4950000, 4950000, 4950000, 4950000, 2220075, 6000000, 900000, 691595, 919480, 820000, 702593, 2100000, 2100000, 499000, 1325000, 1520000, 615000, 740000, 580000, 744000, 2036500, 2036500, 210000, 260000, 1305000, 2140000, 11100000, 3500000, 2800000, 1650000, 480000, 550000, 33500000, 625000, 8437000, 3250000, 5150000, 12750000, 685000, 3650000, 1585000, 2650000, 1100000, 360000, 1165998, 625000, 625000, 560000, 480000, 1454898, 1454898, 1430000, 900000, 719000, 495000, 220000, 800000, 1189000, 999500, 2117960, 2160000, 2500000, 13500000, 1, 925000, 3869350, 9020030, 138332, 1265000, 3450000, 1340000, 4800000, 1599000, 625000, 3450000, 1275000, 1300000, 2625000, 2237000, 250000, 370110, 220000, 510000, 155000, 641498, 641498, 630000, 1730007, 1207500, 800000, 380000, 10, 2050000, 10, 778961, 585494, 585494, 585494, 525000, 810000, 276058, 3675000, 1200000, 2020000, 1360000, 1262500, 1420459, 1609554, 520000, 2250000, 9164250, 6761138, 4050000, 10750000, 1050000, 1175000, 750000, 5115000, 1285000, 830000, 1795000, 810000, 256551, 370000, 370000, 710000, 185000, 144000, 3600000, 925000, 925000, 952500, 610000, 785000, 700000, 1240000, 488760, 1240000, 10000, 610000, 610000, 358843, 22000, 299000, 1160000, 285000, 335000, 610849, 265000, 830000, 1700000, 938486, 1110038, 2200000, 2184146, 2925260, 2184146, 1500000, 3325000, 620612, 819000, 4000000, 3900000, 995000, 1608000, 1360000, 2495000, 1175000, 470000, 5930000, 725000, 1170988, 1400000, 642000, 210799, 300000, 265000, 172380, 520000, 650000, 629279, 629279, 920000, 865513, 750000, 483900, 750000, 745000, 495000, 223080, 456300, 439062, 392000, 1138646, 1332113, 50000, 762669, 450000, 176766, 428922, 450000, 279000, 245000, 209898, 415000, 405000, 270400, 2155000, 575000, 1060000, 2375000, 2400000, 2035159, 840000, 4799000, 925000, 1700000, 1400000, 2250000, 1350000, 20847174, 20847174, 20847174, 20847174, 20847174, 20847174, 20847174, 805000, 605000, 1950000, 239000, 461370, 919480, 890154, 716848, 919480, 850000, 1565000, 935000, 585494, 5088559, 3600000, 753500, 632000, 915000, 50000, 661863, 456300, 500000, 585494, 560038, 498888, 498888, 780000, 365000, 483678, 483678, 500000, 578173, 277070, 277070, 650000, 270000, 314340, 400000, 388000, 2500000, 2054476, 3640000, 3640000, 950000, 3617788, 895000, 3145000, 36681561, 36681561, 36681561, 36681561, 36681561, 36681561, 36681561, 36681561, 36681561, 36681561, 36681561, 36681561, 36681561, 36681561, 36681561, 520000, 5000000, 5000000, 5000000, 5000000, 905000, 220000, 135000, 1145000, 2100000, 2100000, 678377, 985000, 672045, 585494, 610950, 610950, 534581, 1129000, 660000, 816000, 10, 10, 5000, 5000, 125000, 525000, 2266550, 2800188, 233000, 820000, 273679, 27400, 1835000, 3800000, 765000, 1550000, 4850000, 3950000, 1985588, 2328000, 1841000, 2213853, 398000, 768880, 825518, 712500, 925000, 1328537, 250000, 250000, 919480, 645000, 600000, 410000, 410000, 860000, 578200, 1050000, 1400000, 1465000, 865513, 865513, 727000, 695000, 530000, 590000, 310000, 470000, 1512500, 3790000, 72500, 72500, 415000, 415000, 320000, 3000000, 2080000, 999000, 2016135, 1640000, 4304750, 730000, 1100000, 539000, 1240000, 800000, 1671000, 679376, 580000, 775000, 100000, 590585, 1151550, 790000, 790000, 977000, 445146, 1165000, 651680, 985000, 3350000, 3350000, 1344000, 1300000, 45000, 87000, 866000, 585494, 448695, 140000, 488395, 720000, 550000, 35000, 291500, 230000, 320000, 228000, 299000, 1825000, 4073750, 510000, 920000, 2550000, 2700000, 880000, 1886763, 2750000, 3274128, 2790000, 22808800, 1165000, 1550000, 3935588, 1658000, 39285000, 915000, 1595000, 6540193, 692000, 2451200, 2451200, 2700000, 2750000, 675000, 545000, 275000, 479000, 646589, 630000, 500000, 935000, 870604, 1680000, 1390000, 1585000, 1875000, 668000, 710000, 675000, 430000, 1421745, 485000, 2318063, 859000, 369000, 400000, 405000, 2000000, 1470000, 1470000, 275000, 4130766, 1229000, 860000, 1550000, 1400000, 2025000, 680000, 1455923, 3000000, 15000000, 305218, 22197850, 1797711, 1500000, 8387500, 3589761, 4000000, 4000000, 3580000, 1205000, 115000, 537636, 537636, 631315, 519000, 831000, 660000, 610000, 825000, 825000, 270000, 950000, 950000, 683000, 740000, 770000, 660000, 692000, 419796, 682228, 1088888, 489000, 489000, 300000, 350000, 462500, 1707000, 2900000, 2900000, 6025000, 646000, 1525000, 100044, 5779000, 5779000, 5779000, 5779000, 23386675, 3605000, 1050000, 1420000, 565000, 850000, 250000, 242000, 2010000, 950000, 3000000, 3000000, 3000000, 235884, 242768, 344000, 344000, 344000, 425000, 870000, 25000, 650000, 560000, 840056, 840056, 560000, 570000, 545000, 855000, 2550000, 426000, 228000, 1050000, 1102460, 315000, 405000, 380000, 2475000, 220000, 8000000, 1249000, 1660000, 717500, 1650000, 1580000, 1930000, 1930000, 3488892, 3836438, 2230000, 800000, 857500, 570000, 1250000, 128000, 120000, 450000, 450000, 719000, 365040, 410670, 544764, 1075000, 150000, 442073, 312000, 1170988, 600000, 38000, 500000, 651680, 291000, 453000, 2625000, 1100000, 3765000, 2650000, 2650000, 442500, 610000, 910000, 2355908, 3770275, 2325000, 9857100, 1750000, 545000, 475000, 318977, 256012, 174000, 81000, 405000, 680000, 675000, 1831785, 442000, 1600917, 1375000, 1375000, 1375000, 536000, 705000, 560000, 860000, 492500, 480000, 410000, 410000, 480000, 1268000, 707000, 1390000, 4100000, 650000, 840000, 825000, 510000, 625000, 2732660, 4348750, 5426968, 3488220, 953000, 100, 22503325, 2550000, 1825000, 2900000, 1030000, 2075000, 760000, 220000, 493818, 778961, 715000, 235000, 235000, 675000, 50913, 1365000, 830000, 522500, 640000, 721000, 5151250, 5151250, 500000, 635000, 355000, 3800000, 1731025, 700000, 2325000, 1190000, 7265700, 907500, 900000, 3754250, 1225000, 599000, 2912183, 6720000, 15000000, 1650000, 1995770, 2200000, 2475000, 2420000, 995000, 1525000, 617000, 1785000, 414555, 740000, 660000, 660000, 740000, 740000, 570000, 500000, 200000, 30000, 520000, 887000, 180000, 28000, 365000, 365000, 1500000, 1232000, 2000000, 1170988, 5780000, 1300000, 8350000, 2462824, 950000, 1625000, 1680127, 895000, 1651544, 3050000, 1300000, 1625000, 2065000, 173500, 173500, 1700000, 7561599, 715000, 1035000, 1590000, 785000, 1590000, 180000, 200000, 679376, 597713, 1242265, 615000, 480000, 2900000, 345000, 290000, 2200000, 635000, 635000, 726570, 1254885, 1324577, 656771, 476000, 165000, 959943, 140000, 350000, 2736000, 447500, 132000, 525000, 1180000, 329900, 633309, 1248000, 500000, 500000, 691814, 1695259, 670000, 1037500, 1120000, 825000, 2408576, 7325000, 3150000, 527000, 2717386, 2325860, 4070909, 1350000, 2400000, 4000000, 1807394, 23419750, 950000, 3300000, 5270000, 858000, 6000000, 1480000, 1625000, 2660000, 1570000, 795000, 505000, 154000, 352450, 352450, 10, 585000, 990000, 990000, 1350000, 1362319, 865000, 556000, 498500, 915000, 245000, 920000, 1850000, 598000, 598000, 2393670, 738231, 738231, 530000, 1725000, 1725000, 2160000, 1107838, 595000, 530000, 616500, 1310000, 549000, 205900, 477000, 358412, 307496, 238540, 325469, 209675, 243752, 306294, 295469, 292663, 248964, 280636, 211679, 325469, 603313, 603313, 575000, 307135, 818000, 1087186, 60000, 420000, 48000, 945000, 3400000, 3426116, 3778516, 1325000, 985000, 534355, 850000, 2550000, 2550000, 3175000, 9222957, 938000, 710000, 420000, 4040404, 2200000, 2400000, 1450000, 475000, 160000, 448188, 687319, 687319, 910000, 750000, 808000, 1500000, 1225000, 1575000, 278450, 476580, 722958, 1500000, 1650000, 952981, 450000, 640000, 389000, 1775000, 1600000, 1775000, 563000, 1130000, 1050000, 6250000, 1200000, 700000, 411250, 2112528, 1404094, 1555000, 640000, 685000, 2100000, 2375000, 1900000, 650000, 964334, 733140, 2202170, 937500, 937500, 750000, 750000, 175000, 25000, 500000, 1575000, 845148, 967000, 890969, 30000, 2400000, 2400000, 320000, 664408, 664408, 1612500, 385000, 1800000, 1787029, 1787029, 1200000, 2908669, 1295397, 1530357, 10, 940918, 1114984, 490000, 1754000, 2350000, 1762500, 206000, 141000, 513198, 513198, 804418, 804418, 625000, 1180000, 780000, 420810, 1400000, 1089855, 451230, 451230, 408135, 451230, 451230, 415000, 1818000, 283920, 295000, 809875, 3052603, 1180000, 1791792, 1720000, 1094619, 533786, 802750, 703000, 4937824, 990000, 989898, 4217062, 7250000, 1320000, 475000, 4850000, 1415000, 609000, 680000, 1200000, 505000, 978120, 203589, 140000, 160000, 167310, 702593, 518086, 702593, 919480, 999000, 10, 999000, 490000, 1650000, 18000, 675000, 675000, 975000, 1275000, 147030, 850000, 875695, 414000, 460000, 3000000, 1870000, 481000, 320000, 3825353, 1073163, 1249356, 415000, 2720550, 1547740, 2967184, 2079863, 825000, 4112000, 1675000, 480000, 1800000, 5345000, 450000, 850000, 640000, 850000, 610950, 712775, 515000, 505986, 2113185, 550000, 970000, 899000, 840056, 480636, 480636, 645000, 410670, 975000, 1250000, 10, 10, 950000, 1552831, 950000, 1206775, 21894506, 825000, 999000, 575000, 470000, 2888000, 19600000, 19600000, 1835613, 3237183, 2316949, 1237500, 2500000, 500000, 1140000, 845000, 2000000, 4500000, 4500000, 320000, 161000, 800000, 249000, 656771, 1590000, 1186261, 785000, 147030, 258570, 545000, 545000, 257500, 419500, 630000, 350000, 70000, 630000, 691000, 435000, 85000, 125000, 290000, 390000, 325000, 1550000, 520000, 1410000, 4800000, 19600000, 2518000, 1225000, 5203258, 1100000, 2310086, 2463098, 2090000, 1448915, 2125000, 558450, 10, 1859613, 2255613, 7722000, 12142631, 1040000, 2500000, 1925000, 388758, 630000, 550000, 550000, 890154, 799000, 575201, 1045000, 1100000, 880000, 1373000, 1081382, 2723819, 610000, 570000, 451230, 519308, 361350, 520000, 413500, 265000, 219000, 590000, 7367000, 1185000, 1350000, 1075000, 1250000, 16200000, 2387455, 3849250, 6000000, 860000, 1200000, 3529683, 5250000, 640000, 4975000, 507000, 1800000, 1298269, 475000, 814000, 10, 380000, 252885, 220000, 916425, 916425, 595676, 804000, 720000, 507000, 325000, 325000, 325000, 325000, 850000, 1468000, 740000, 977520, 50913, 405600, 835000, 420000, 1285000, 1750000, 1750000, 1719321, 1750000, 380000, 370000, 610950, 325000, 610950, 460863, 460863, 280000, 1300000, 1234833, 955000, 795000, 830000, 2100000, 356300, 2232500, 2232500, 775000, 1300000, 575000, 1250000, 3800000, 3800000, 10, 1595000, 3990000, 1080000, 5500000, 5500000, 3700000, 1689658, 1750000, 710000, 5884494, 6978763, 975000, 730000, 155000, 677136, 815000, 815000, 955000, 2090000, 1575000, 674082, 625000, 674082, 1578288, 329000, 10000, 75000000, 75000000, 75000000, 75000000, 75000000, 305893, 322330, 295469, 366294, 352330, 280636, 243752, 276089, 352330, 366294, 366294, 276089, 276089, 585494, 585494, 361000, 250500, 405000, 4200000, 580000, 5300000, 1736116, 5885000, 2785000, 1360000, 475000, 66000, 67000, 67000, 775000, 650000, 880000, 600768, 29000000, 6750000, 4800000, 630000, 470000, 990771, 1637812, 455000, 865513, 365000, 365000, 1175000, 1175000, 450000, 910000, 1492000, 1492000, 636406, 636406, 605000, 835000, 1118406, 1118406, 850000, 917500, 5623063, 5623063, 5623063, 5623063, 228000, 485000, 529490, 1650000, 1650000, 489000, 110770, 111540, 202000, 485000, 440000, 300000, 299900, 2250000, 5224735, 1072643, 2700000, 2700000, 1170988, 1359364, 1218000, 4635000, 4500000, 1350000, 2163150, 999999, 1200000, 820000, 575000, 2340634, 2433276, 15900000, 1223000, 725000, 1495000, 1150000, 4000000, 1503332, 1080000, 1503332, 14642392, 2050000, 424770, 3733763, 491790, 3250000, 1750000, 820000, 208000, 1750000, 840000, 3250000, 160000, 220000, 235000, 1500000, 735000, 200000, 200000, 200000, 200000, 420000, 895000, 550000, 610000, 1280000, 1050000, 615000, 1130000, 390000, 195000, 768779, 1650378, 750000, 619000, 451230, 563092, 524399, 30420, 451230, 1550119, 953355, 960000, 960000, 639000, 580000, 1600000, 830000, 595000, 573000, 698520, 595000, 519999, 303000, 157000, 360000, 275000, 855583, 440904, 1040654, 449035, 2621994, 4600000, 710000, 1400094, 2110000, 2495000, 2794755, 3878750, 1195000, 1400000, 765000, 1342999, 2877677, 2200000, 496860, 1080000, 1375000, 4189008, 938486, 450000, 3650000, 2400000, 1135000, 691595, 740000, 2350000, 404586, 4709915, 25500, 630000, 1120129, 898500, 898500, 2790005, 1080000, 314340, 253500, 314340, 325000, 468000, 1770000, 623000, 138000, 55000, 520000, 385320, 299000, 1850000, 661863, 2507195, 5044088, 875000, 538000, 3252046, 2800000, 3825000, 1340000, 2940248, 2823500, 890000, 7150000, 5375000, 5011932, 1255000, 160000, 165000, 247000, 175000, 633000, 983897, 885878, 550000, 515000, 507125, 111540, 111540, 111540, 11044, 609932, 1255000, 600000, 250000, 410670, 690000, 1450000, 885878, 390000, 390000, 3026953, 1800000, 720000, 1217596, 820000, 2608771, 2421419, 860000, 2747934, 1239586, 1267648, 2079194, 2000000, 3900000, 8500000, 1275000, 4350000, 1572895, 1775000, 350000, 1291342, 2575000, 2500000, 95000, 481650, 481000, 71000, 619096, 619096, 742304, 916425, 998903, 530000, 530000, 389000, 707684, 670000, 1350000, 1535000, 1210000, 530000, 755000, 755000, 330000, 303487, 1216551, 1063942, 1063942, 1063942, 977345, 331150, 322330, 1216551, 1216551, 1063942, 295469, 977345, 1216551, 977345, 249297, 1216551, 977345, 553000, 420000, 1216551, 977345, 249297, 1063942, 1216551, 1216551, 553000, 392500, 110000, 549855, 514000, 345000, 1750000, 3915000, 1374638, 2135000, 3050000, 880000, 2397979, 2418003, 2478098, 3350000, 10, 1125000, 23725225, 622500, 2037750, 2037750, 4017483, 3000000, 9718000, 1445000, 577000, 190000, 165000, 93000, 920000, 620000, 1038615, 810000, 555000, 616041, 325000, 442000, 820000, 621133, 621133, 2550000, 3400000, 2350000, 4750000, 3487506, 3800000, 5250000, 1012500, 1875000, 620000, 2125000, 1710000, 3775000, 950000, 4332250, 2442459, 2916076, 1138404, 675000, 4350678, 2525000, 692000, 10, 1935362, 3017500, 1250000, 2350000, 695000, 533000, 609500, 260000, 30038, 1058980, 1058980, 510000, 575000, 1843033, 1700478, 1425550, 1425550, 579000, 223080, 324480, 580000, 1201218, 717866, 424246, 410000, 529490, 616041, 529490, 616041, 430000, 305000, 621133, 580403, 806454, 450000, 455000, 310000, 325000, 295000, 236155, 710000, 1440000, 2205000, 1121629, 2596538, 4429042, 3855850, 2462824, 1645000, 1125000, 1494282, 910000, 1847500, 960000, 520000, 3920263, 4500000, 625000, 1750000, 1750000, 405000, 11245233, 950000, 225252, 200000, 510000, 725000, 896400, 998000, 998000, 958000, 565000, 1400094, 1459500, 570156, 420000, 1395003, 496860, 2800000, 158000, 482512, 900000, 36000, 328000, 2190000, 10, 860000, 375000, 243259, 4100000, 3886358, 2638241, 511925, 1206535, 1213639, 2415798, 3875000, 3875000, 1580000, 263250, 2950000, 2500000, 1612500, 5850000, 2700000, 5400000, 5400000, 645000, 1150000, 3500000, 5500024, 1332592, 421000, 919480, 2483000, 2000000, 1775000, 4634615, 850000, 610521, 2500000, 1776846, 1402684, 570000, 570000, 680000, 1435733, 280000, 550000, 900604, 1513655, 309270, 1211718, 1173738, 847000, 988000, 1340000, 988000, 822000, 725000, 850000, 3868699, 1200000, 2340906, 1154623, 2230000, 1504720, 2710000, 1105000, 1027500, 1562500, 629000, 17188968, 2150000, 1675000, 158000, 255000, 585000, 585000, 585000, 331578, 626224, 529490, 615000, 1275000, 390000, 177902, 1437500, 809509, 618000, 1033524, 507000, 1450844, 850000, 1384888, 1100000, 2650000, 1095000, 20000, 1095000, 350000, 450000, 689000, 510000, 689000, 355000, 245000, 315000, 395000, 395000, 350000, 350000, 1200000, 2500000, 700000, 970000, 643534, 1630218, 5725000, 720000, 2561882, 1282821, 2415000, 1450000, 2685125, 1725000, 1725000, 100, 1300000, 2125000, 570000, 1143500, 442000, 650500, 2100000, 1400000, 955000, 1425000, 1787412, 790000, 897500, 319410, 1640714, 694525, 2330475, 1700000, 490000, 54889, 996103, 990000, 1020000, 730000, 657790, 690000, 565000, 560000, 896060, 896060, 1247356, 850239, 756046, 1250000, 1580000, 32500, 792199, 1397197, 750000, 10000, 10000, 10000, 10000, 10000, 365000, 805000, 1308451, 460000, 260000, 345131, 290000, 301000, 518000, 425000, 874500, 995000, 1500000, 1270000, 3453250, 6094236, 1510000, 1525000, 1540000, 1570000, 606000, 325000, 2341134, 2483689, 2485000, 810000, 1419368, 1250338, 2800000, 849000, 230000, 2916808, 980000, 2800000, 3027375, 2420000, 1500000, 765000, 1230000, 580000, 1325000, 65000, 300000, 725000, 208000, 860676, 110000, 167000, 157750, 175000, 259000, 245000, 670000, 1080000, 730000, 763688, 970000, 970000, 1900000, 1100000, 475000, 2943029, 1100000, 1180000, 1180000, 1069163, 1206626, 805000, 451230, 451230, 445146, 1474000, 1161185, 930000, 1225000, 258570, 314340, 1575000, 521000, 1575000, 1800000, 630000, 960000, 862933, 960000, 640794, 750000, 580000, 1198000, 275000, 660000, 1562117, 30000, 440000, 1945000, 1234833, 644000, 427000, 427000, 253500, 949000, 4683950, 5600000, 1100000, 2350000, 675000, 1486645, 1734080, 999500, 2315428, 590000, 2050000, 735000, 1769020, 982500, 1975000, 2085000, 3550000, 1525000, 600000, 2600000, 2600000, 575000, 492000, 305000, 183000, 177450, 1650000, 583000, 500000, 995000, 1176000, 635000, 860421, 300000, 686000, 686000, 824330, 628000, 628000, 408642, 604000, 738000, 800000, 1225800, 885000, 1750000, 2335000, 2335000, 18000000, 17503718, 16939575, 1285000, 2138325, 848000, 2797158, 2185613, 1320000, 3050000, 1780000, 835000, 1135349, 2871722, 1279400, 834965, 834965, 880000, 560038, 946973, 312500, 850000, 2150000, 480000, 1112500, 1099710, 2250333, 950000, 688000, 1985588, 1175000, 543500, 972429, 275000, 250000, 250000, 445000, 930000, 1400000, 1248000, 935000, 7032914, 10, 4047500, 1220000, 2779981, 1196576, 67500, 6400000, 3150000, 1526043, 3693877, 2399999, 1445000, 5450000, 585494, 1078000, 10, 10, 540000, 1405185, 1272813, 270000, 270000, 722958, 722958, 790000, 790000, 1740000, 780000, 631000, 350000, 20000, 20000, 515000, 634370, 369000, 6150000, 3925000, 3568329, 1674003, 2239809, 1266630, 1350000, 34365938, 10, 3590000, 5655000, 1404586, 1828323, 750000, 5550000, 1055000, 739250, 739250, 651680, 548837, 907203, 1451000, 999000, 565000, 1761573, 1079345, 1619018, 170000, 462384, 529490, 462384, 629000, 10, 655000, 3614788, 1475000, 692410, 2036500, 3467141, 405000, 2390454, 3934195, 2160000, 748414, 1600000, 65000, 1357500, 3017500, 3486768, 12200000, 200000000, 480129, 6500000, 875000, 3450000, 10000000, 13550000, 4468823, 1137385, 1069163, 3075000, 1875000, 1875000, 1751201, 4750000, 432000, 505000, 520000, 420000, 290000, 457000, 390000, 749228, 609932, 609932, 879000, 955000, 739000, 739000, 1007049, 1781938, 300000, 630000, 630000, 1045000, 700000, 555000, 475000, 485000, 390000, 160000, 486720, 2369575, 390000, 405680, 485000, 335000, 370000, 7636875, 1751390, 23278631, 1900000, 1395134, 1215718, 1934675, 475000, 1695000, 688000, 1150000, 1020000, 785000, 1175000, 982500, 3850000, 1530375, 989627, 1095000, 875000, 514000, 701999, 1000859, 295000, 115000, 691595, 691595, 691595, 720921, 560038, 720921, 763688, 1557923, 1557923, 960000, 600000, 29620207, 29620207, 29620207, 29620207, 29620207, 29620207, 29620207, 29620207, 29620207, 29620207, 29620207, 29620207, 29620207, 29620207, 29620207, 29620207, 29620207, 29620207, 29620207, 29620207, 29620207, 29620207, 29620207, 29620207, 29620207, 29620207, 29620207, 29620207, 29620207, 29620207, 29620207, 29620207, 29620207, 29620207, 29620207, 29620207, 29620207, 29620207, 29620207, 29620207, 29620207, 29620207, 29620207, 1891241, 535000, 1190000, 968263, 1043466, 978264, 628000, 919394, 315000, 2440000, 3350000, 6600000, 919500, 10, 1299000, 4900000, 4900000, 4900000, 2264265, 3940633, 19603872, 720000, 930000, 1450000, 1375000, 910000, 865000, 1910000, 955000, 2150000, 5149788, 740000, 770000, 12240000, 12240000, 38760000, 4044002, 1728684, 3029367, 4758354, 5250000, 420810, 329000, 526435, 130000, 230000, 691595, 1900000, 35490, 800000, 763688, 2400000, 820000, 1170988, 600000, 1250000, 741286, 741286, 815000, 1109893, 1624109, 735000, 650000, 650000, 967338, 580000, 631000, 824783, 824783, 755000, 457000, 277500, 821728, 1700000, 3650000, 1215000, 1400000, 1358193, 2497955, 2478750, 625000, 989000, 1260000, 415000, 2160613, 3400000, 3175000, 800000, 952500, 821423, 1070000, 2189238, 872500, 1900000, 2795000, 2760367, 219024, 470000, 995000, 995000, 814600, 6400000, 552200, 992794, 552200, 486720, 590000, 340000, 1563014, 780000, 825000, 975000, 1053725, 745000, 225000, 720000, 720000, 466440, 22000, 550000, 456300, 370000, 425000, 645000, 1095000, 1075000, 1100000, 815000, 3538419, 2080000, 1075000, 4150000, 2150000, 672000, 2502606, 4382813, 6288775, 2560000, 2000000, 3268537, 2200000, 945000, 1205000, 2223058, 2405221, 710000, 2700000, 4100000, 153500, 1795000, 2190000, 2190000, 915000, 3420705, 2795965, 2741445, 547309, 911334, 441090, 599000, 703407, 540000, 921516, 750000, 525000, 2200000, 820000, 1249000, 490000, 490000, 481650, 3550000, 10, 492424, 987000, 420810, 565129, 508000, 508000, 1323725, 418000, 820000, 359970, 280000, 6400000, 2845000, 1145000, 1635000, 1700478, 1545000, 533500, 4581135, 1825000, 780000, 999900, 2162440, 2213853, 1150000, 1555062, 2200000, 2200000, 1560000, 3071560, 2279950, 895000, 1450000, 2775000, 910000, 1591671, 3431806, 1028931, 170000, 174000, 159000, 875000, 999000, 805000, 685000, 705378, 1100000, 1100000, 1100000, 1542649, 1720843, 1235000, 1400000, 1030000, 2151080, 4160000, 2000000, 971860, 4160000, 20000, 908000, 590000, 590000, 1600000, 25000, 460000, 695465, 710000, 225000, 470000, 10, 10, 1565000, 561000, 2200000, 460000, 1198357, 1355000, 945000, 1456098, 2446647, 3812505, 2763708, 2306258, 917000, 550000, 3316808, 1820000, 3635000, 8400000, 814000, 749000, 875000, 312000, 3920263, 2235059, 170000, 220000, 625000, 625000, 750000, 410000, 748414, 738231, 700000, 900000, 799000, 440000, 1916328, 999000, 1155714, 745000, 748414, 748414, 536618, 536618, 510000, 860000, 1163000, 3049659, 726737, 209675, 605859, 605859, 569202, 392000, 955000, 6400000, 3340000, 2325000, 1575000, 2670000, 9750000, 595000, 1075000, 2513736, 3924250, 25000000, 1221900, 15985997, 13014003, 835000, 2991808, 1100000, 1700000, 526549, 650000, 840000, 1745000, 2150000, 2163781, 7500000, 2300000, 1300000, 467500, 1725000, 285000, 3825126, 730000, 250000, 175000, 722958, 692410, 892000, 409000, 2400000, 1090000, 935000, 1210684, 1428506, 1634291, 1221900, 1221900, 485000, 1075000, 2189238, 1207000, 665000, 675000, 1207000, 1960131, 1270000, 851000, 403000, 2160000, 2050000, 7550000, 3350000, 1300000, 1395003, 4173771, 4516285, 2723774, 820000, 2386955, 2448550, 860000, 4750000, 4750000, 6300000, 6300000, 800001, 6387550, 6387550, 1820597, 3587183, 985000, 983747, 400000, 1685204, 1105000, 445000, 3563875, 165000, 167000, 405600, 875000, 840000, 692410, 2650000, 260000, 595000, 595000, 2128143, 1682275, 777000, 720000, 720000, 544764, 1630807, 880000, 750000, 625000, 1091920, 400000, 995594, 366000, 366000, 425000, 785000, 1780000, 4323858, 415000, 2931713, 2315428, 1431791, 1040000, 1405885, 2150362, 2550000, 5185780, 5093057, 5800000, 4800000, 12040000, 995000, 725000, 1775000, 590000, 1275000, 8964200, 8709288, 763688, 196500, 525000, 684000, 794235, 946973, 425880, 1320000, 1320000, 1275000, 1884000, 920000, 2300000, 1216809, 1050088, 1610000, 1610000, 2214694, 1813148, 715000, 1813148, 1813148, 1765000, 923500, 1475000, 925000, 630000, 490000, 438000, 1255555, 4200000, 1075000, 3017770, 770000, 3850000, 1800000, 10, 4559635, 960000, 510000, 1550000, 2031409, 750000, 172000, 900000, 900000, 549000, 1600000, 715000, 1542649, 524399, 448188, 448188, 505000, 1298269, 1201535, 1298269, 1298269, 2475000, 630000, 451230, 560038, 640000, 1475000, 4782960, 1940000, 1416313, 1360565, 5650000, 950000, 740000, 19855875, 1725000, 1950000, 998000, 1600000, 4600000, 915000, 700000, 1742864, 2650000, 1850000, 1800000, 307000, 1245000, 175000, 668990, 2179000, 2179000, 2179000, 993466, 1300000, 785000, 1700000, 3900000, 1325000, 1850000, 520000, 2650000, 2885000, 3275000, 3275000, 1400000, 620000, 760000, 849243, 1271721, 3175000, 795000, 4499000, 3066808, 4243222, 750000, 2700000, 500000, 395000, 1850000, 2235059, 1850000, 178000, 960000, 960000, 1654656, 695000, 677136, 680000, 890000, 1318634, 1940785, 2824357, 2675411, 4825848, 1500000, 2489871, 3975657, 1221421, 1150296, 1231715, 60000, 1350000, 660000, 1905000, 2325000, 1150403, 5761259, 1135000, 2725000, 863218, 1430000, 455000, 455000, 9676975, 312312, 312312, 1950000, 1950000, 1150000, 3280000, 1635000, 95000, 150000, 150000, 1635000, 813707, 865637, 813707, 645000, 1925000, 192660, 1577778, 1577778, 90000, 1295000, 10, 610000, 280000, 100, 83870, 607500, 2210000, 7079588, 1827759, 965000, 1350000, 2545625, 2609266, 629000, 1225000, 675000, 1164817, 1100000, 5600000, 2500000, 1125000, 1730000, 1218392, 997885, 1730000, 1730000, 570000, 1600000, 81120, 2300000, 2591446, 1685000, 70000, 100000, 597000, 580000, 350000, 580000, 1500000, 470000, 470000, 369096, 833895, 1083238, 795000, 795000, 715000, 950000, 735000, 575000, 1454061, 3450000, 2489621, 2900671, 2250000, 1301000, 750000, 2600000, 3250000, 3179600, 900000, 870000, 2450000, 1350000, 632000, 870000, 775000, 5000000, 810000, 303901, 928000, 200000, 220000, 7000000, 7000000, 1375000, 156156, 738231, 1573196, 2545000, 2550000, 3362500, 800000, 800000, 1310000, 1475000, 25000, 25000, 1370800, 1512804, 1749409, 775000, 775000, 463500, 1250000, 222000, 265000, 999100, 1688000, 2275000, 3065000, 1802303, 1522284, 845000, 1850000, 660000, 5023050, 1246062, 437500, 993950, 2395000, 2600000, 605000, 750000, 995000, 2650000, 1125000, 4765019, 720000, 1, 1, 153114, 395000, 770000, 1062500, 862800, 999000, 355000, 1734080, 575000, 770000, 1588470, 1950000, 1950000, 540000, 676000, 440000, 480000, 570000, 450000, 495000, 495000, 544764, 850000, 1750000, 1985000, 1200000, 1150000, 1525000, 4926989, 5400000, 1775000, 3600000, 960000, 975000, 1070000, 1950000, 800000, 860000, 1909408, 615000, 3431025, 900000, 675000, 200000, 626224, 626224, 950000, 730000, 922500, 1275000, 589000, 480000, 480000, 1135000, 1825000, 2200000, 375000, 384000, 663000, 575000, 575000, 560000, 892500, 569202], \"yaxis\": \"y\"}],\n",
              "                        {\"legend\": {\"tracegroupgap\": 0}, \"margin\": {\"t\": 60}, \"template\": {\"data\": {\"bar\": [{\"error_x\": {\"color\": \"#2a3f5f\"}, \"error_y\": {\"color\": \"#2a3f5f\"}, \"marker\": {\"line\": {\"color\": \"#E5ECF6\", \"width\": 0.5}}, \"type\": \"bar\"}], \"barpolar\": [{\"marker\": {\"line\": {\"color\": \"#E5ECF6\", \"width\": 0.5}}, \"type\": \"barpolar\"}], \"carpet\": [{\"aaxis\": {\"endlinecolor\": \"#2a3f5f\", \"gridcolor\": \"white\", \"linecolor\": \"white\", \"minorgridcolor\": \"white\", \"startlinecolor\": \"#2a3f5f\"}, \"baxis\": {\"endlinecolor\": \"#2a3f5f\", \"gridcolor\": \"white\", \"linecolor\": \"white\", \"minorgridcolor\": \"white\", \"startlinecolor\": \"#2a3f5f\"}, \"type\": \"carpet\"}], \"choropleth\": [{\"colorbar\": {\"outlinewidth\": 0, \"ticks\": \"\"}, \"type\": \"choropleth\"}], \"contour\": [{\"colorbar\": {\"outlinewidth\": 0, \"ticks\": \"\"}, \"colorscale\": [[0.0, \"#0d0887\"], [0.1111111111111111, \"#46039f\"], [0.2222222222222222, \"#7201a8\"], [0.3333333333333333, \"#9c179e\"], [0.4444444444444444, \"#bd3786\"], [0.5555555555555556, \"#d8576b\"], [0.6666666666666666, \"#ed7953\"], [0.7777777777777778, \"#fb9f3a\"], [0.8888888888888888, \"#fdca26\"], [1.0, \"#f0f921\"]], \"type\": \"contour\"}], \"contourcarpet\": [{\"colorbar\": {\"outlinewidth\": 0, \"ticks\": \"\"}, \"type\": \"contourcarpet\"}], \"heatmap\": [{\"colorbar\": {\"outlinewidth\": 0, \"ticks\": \"\"}, \"colorscale\": [[0.0, \"#0d0887\"], [0.1111111111111111, \"#46039f\"], [0.2222222222222222, \"#7201a8\"], [0.3333333333333333, \"#9c179e\"], [0.4444444444444444, \"#bd3786\"], [0.5555555555555556, \"#d8576b\"], [0.6666666666666666, \"#ed7953\"], [0.7777777777777778, \"#fb9f3a\"], [0.8888888888888888, \"#fdca26\"], [1.0, \"#f0f921\"]], \"type\": \"heatmap\"}], \"heatmapgl\": [{\"colorbar\": {\"outlinewidth\": 0, \"ticks\": \"\"}, \"colorscale\": [[0.0, \"#0d0887\"], [0.1111111111111111, \"#46039f\"], [0.2222222222222222, \"#7201a8\"], [0.3333333333333333, \"#9c179e\"], [0.4444444444444444, \"#bd3786\"], [0.5555555555555556, \"#d8576b\"], [0.6666666666666666, \"#ed7953\"], [0.7777777777777778, \"#fb9f3a\"], [0.8888888888888888, \"#fdca26\"], [1.0, \"#f0f921\"]], \"type\": \"heatmapgl\"}], \"histogram\": [{\"marker\": {\"colorbar\": {\"outlinewidth\": 0, \"ticks\": \"\"}}, \"type\": \"histogram\"}], \"histogram2d\": [{\"colorbar\": {\"outlinewidth\": 0, \"ticks\": \"\"}, \"colorscale\": [[0.0, \"#0d0887\"], [0.1111111111111111, \"#46039f\"], [0.2222222222222222, \"#7201a8\"], [0.3333333333333333, \"#9c179e\"], [0.4444444444444444, \"#bd3786\"], [0.5555555555555556, \"#d8576b\"], [0.6666666666666666, \"#ed7953\"], [0.7777777777777778, \"#fb9f3a\"], [0.8888888888888888, \"#fdca26\"], [1.0, \"#f0f921\"]], \"type\": \"histogram2d\"}], \"histogram2dcontour\": [{\"colorbar\": {\"outlinewidth\": 0, \"ticks\": \"\"}, \"colorscale\": [[0.0, \"#0d0887\"], [0.1111111111111111, \"#46039f\"], [0.2222222222222222, \"#7201a8\"], [0.3333333333333333, \"#9c179e\"], [0.4444444444444444, \"#bd3786\"], [0.5555555555555556, \"#d8576b\"], [0.6666666666666666, \"#ed7953\"], [0.7777777777777778, \"#fb9f3a\"], [0.8888888888888888, \"#fdca26\"], [1.0, \"#f0f921\"]], \"type\": \"histogram2dcontour\"}], \"mesh3d\": [{\"colorbar\": {\"outlinewidth\": 0, \"ticks\": \"\"}, \"type\": \"mesh3d\"}], \"parcoords\": [{\"line\": {\"colorbar\": {\"outlinewidth\": 0, \"ticks\": \"\"}}, \"type\": \"parcoords\"}], \"pie\": [{\"automargin\": true, \"type\": \"pie\"}], \"scatter\": [{\"marker\": {\"colorbar\": {\"outlinewidth\": 0, \"ticks\": \"\"}}, \"type\": \"scatter\"}], \"scatter3d\": [{\"line\": {\"colorbar\": {\"outlinewidth\": 0, \"ticks\": \"\"}}, \"marker\": {\"colorbar\": {\"outlinewidth\": 0, \"ticks\": \"\"}}, \"type\": \"scatter3d\"}], \"scattercarpet\": [{\"marker\": {\"colorbar\": {\"outlinewidth\": 0, \"ticks\": \"\"}}, \"type\": \"scattercarpet\"}], \"scattergeo\": [{\"marker\": {\"colorbar\": {\"outlinewidth\": 0, \"ticks\": \"\"}}, \"type\": \"scattergeo\"}], \"scattergl\": [{\"marker\": {\"colorbar\": {\"outlinewidth\": 0, \"ticks\": \"\"}}, \"type\": \"scattergl\"}], \"scattermapbox\": [{\"marker\": {\"colorbar\": {\"outlinewidth\": 0, \"ticks\": \"\"}}, \"type\": \"scattermapbox\"}], \"scatterpolar\": [{\"marker\": {\"colorbar\": {\"outlinewidth\": 0, \"ticks\": \"\"}}, \"type\": \"scatterpolar\"}], \"scatterpolargl\": [{\"marker\": {\"colorbar\": {\"outlinewidth\": 0, \"ticks\": \"\"}}, \"type\": \"scatterpolargl\"}], \"scatterternary\": [{\"marker\": {\"colorbar\": {\"outlinewidth\": 0, \"ticks\": \"\"}}, \"type\": \"scatterternary\"}], \"surface\": [{\"colorbar\": {\"outlinewidth\": 0, \"ticks\": \"\"}, \"colorscale\": [[0.0, \"#0d0887\"], [0.1111111111111111, \"#46039f\"], [0.2222222222222222, \"#7201a8\"], [0.3333333333333333, \"#9c179e\"], [0.4444444444444444, \"#bd3786\"], [0.5555555555555556, \"#d8576b\"], [0.6666666666666666, \"#ed7953\"], [0.7777777777777778, \"#fb9f3a\"], [0.8888888888888888, \"#fdca26\"], [1.0, \"#f0f921\"]], \"type\": \"surface\"}], \"table\": [{\"cells\": {\"fill\": {\"color\": \"#EBF0F8\"}, \"line\": {\"color\": \"white\"}}, \"header\": {\"fill\": {\"color\": \"#C8D4E3\"}, \"line\": {\"color\": \"white\"}}, \"type\": \"table\"}]}, \"layout\": {\"annotationdefaults\": {\"arrowcolor\": \"#2a3f5f\", \"arrowhead\": 0, \"arrowwidth\": 1}, \"coloraxis\": {\"colorbar\": {\"outlinewidth\": 0, \"ticks\": \"\"}}, \"colorscale\": {\"diverging\": [[0, \"#8e0152\"], [0.1, \"#c51b7d\"], [0.2, \"#de77ae\"], [0.3, \"#f1b6da\"], [0.4, \"#fde0ef\"], [0.5, \"#f7f7f7\"], [0.6, \"#e6f5d0\"], [0.7, \"#b8e186\"], [0.8, \"#7fbc41\"], [0.9, \"#4d9221\"], [1, \"#276419\"]], \"sequential\": [[0.0, \"#0d0887\"], [0.1111111111111111, \"#46039f\"], [0.2222222222222222, \"#7201a8\"], [0.3333333333333333, \"#9c179e\"], [0.4444444444444444, \"#bd3786\"], [0.5555555555555556, \"#d8576b\"], [0.6666666666666666, \"#ed7953\"], [0.7777777777777778, \"#fb9f3a\"], [0.8888888888888888, \"#fdca26\"], [1.0, \"#f0f921\"]], \"sequentialminus\": [[0.0, \"#0d0887\"], [0.1111111111111111, \"#46039f\"], [0.2222222222222222, \"#7201a8\"], [0.3333333333333333, \"#9c179e\"], [0.4444444444444444, \"#bd3786\"], [0.5555555555555556, \"#d8576b\"], [0.6666666666666666, \"#ed7953\"], [0.7777777777777778, \"#fb9f3a\"], [0.8888888888888888, \"#fdca26\"], [1.0, \"#f0f921\"]]}, \"colorway\": [\"#636efa\", \"#EF553B\", \"#00cc96\", \"#ab63fa\", \"#FFA15A\", \"#19d3f3\", \"#FF6692\", \"#B6E880\", \"#FF97FF\", \"#FECB52\"], \"font\": {\"color\": \"#2a3f5f\"}, \"geo\": {\"bgcolor\": \"white\", \"lakecolor\": \"white\", \"landcolor\": \"#E5ECF6\", \"showlakes\": true, \"showland\": true, \"subunitcolor\": \"white\"}, \"hoverlabel\": {\"align\": \"left\"}, \"hovermode\": \"closest\", \"mapbox\": {\"style\": \"light\"}, \"paper_bgcolor\": \"white\", \"plot_bgcolor\": \"#E5ECF6\", \"polar\": {\"angularaxis\": {\"gridcolor\": \"white\", \"linecolor\": \"white\", \"ticks\": \"\"}, \"bgcolor\": \"#E5ECF6\", \"radialaxis\": {\"gridcolor\": \"white\", \"linecolor\": \"white\", \"ticks\": \"\"}}, \"scene\": {\"xaxis\": {\"backgroundcolor\": \"#E5ECF6\", \"gridcolor\": \"white\", \"gridwidth\": 2, \"linecolor\": \"white\", \"showbackground\": true, \"ticks\": \"\", \"zerolinecolor\": \"white\"}, \"yaxis\": {\"backgroundcolor\": \"#E5ECF6\", \"gridcolor\": \"white\", \"gridwidth\": 2, \"linecolor\": \"white\", \"showbackground\": true, \"ticks\": \"\", \"zerolinecolor\": \"white\"}, \"zaxis\": {\"backgroundcolor\": \"#E5ECF6\", \"gridcolor\": \"white\", \"gridwidth\": 2, \"linecolor\": \"white\", \"showbackground\": true, \"ticks\": \"\", \"zerolinecolor\": \"white\"}}, \"shapedefaults\": {\"line\": {\"color\": \"#2a3f5f\"}}, \"ternary\": {\"aaxis\": {\"gridcolor\": \"white\", \"linecolor\": \"white\", \"ticks\": \"\"}, \"baxis\": {\"gridcolor\": \"white\", \"linecolor\": \"white\", \"ticks\": \"\"}, \"bgcolor\": \"#E5ECF6\", \"caxis\": {\"gridcolor\": \"white\", \"linecolor\": \"white\", \"ticks\": \"\"}}, \"title\": {\"x\": 0.05}, \"xaxis\": {\"automargin\": true, \"gridcolor\": \"white\", \"linecolor\": \"white\", \"ticks\": \"\", \"title\": {\"standoff\": 15}, \"zerolinecolor\": \"white\", \"zerolinewidth\": 2}, \"yaxis\": {\"automargin\": true, \"gridcolor\": \"white\", \"linecolor\": \"white\", \"ticks\": \"\", \"title\": {\"standoff\": 15}, \"zerolinecolor\": \"white\", \"zerolinewidth\": 2}}}, \"xaxis\": {\"anchor\": \"y\", \"domain\": [0.0, 1.0], \"title\": {\"text\": \"gross_square_feet\"}}, \"yaxis\": {\"anchor\": \"x\", \"domain\": [0.0, 1.0], \"title\": {\"text\": \"sale_price\"}}},\n",
              "                        {\"responsive\": true}\n",
              "                    ).then(function(){\n",
              "                            \n",
              "var gd = document.getElementById('9d23ebd1-0930-4760-a38e-d9cddef0e2c8');\n",
              "var x = new MutationObserver(function (mutations, observer) {{\n",
              "        var display = window.getComputedStyle(gd).display;\n",
              "        if (!display || display === 'none') {{\n",
              "            console.log([gd, 'removed!']);\n",
              "            Plotly.purge(gd);\n",
              "            observer.disconnect();\n",
              "        }}\n",
              "}});\n",
              "\n",
              "// Listen for the removal of the full notebook cells\n",
              "var notebookContainer = gd.closest('#notebook-container');\n",
              "if (notebookContainer) {{\n",
              "    x.observe(notebookContainer, {childList: true});\n",
              "}}\n",
              "\n",
              "// Listen for the clearing of the current output cell\n",
              "var outputEl = gd.closest('.output');\n",
              "if (outputEl) {{\n",
              "    x.observe(outputEl, {childList: true});\n",
              "}}\n",
              "\n",
              "                        })\n",
              "                };\n",
              "                \n",
              "            </script>\n",
              "        </div>\n",
              "</body>\n",
              "</html>"
            ]
          },
          "metadata": {
            "tags": []
          }
        }
      ]
    },
    {
      "cell_type": "code",
      "metadata": {
        "id": "IV-wC9VNGfAX",
        "colab_type": "code",
        "colab": {
          "base_uri": "https://localhost:8080/",
          "height": 542
        },
        "outputId": "ff3eea50-152b-4795-d349-abfb5fd18dee"
      },
      "source": [
        "# Add an OLS (Ordinary Least Squares) trendline,\n",
        "# to see how the outliers influence the \"line of best fit\"\n",
        "px.scatter(condos, 'gross_square_feet', 'sale_price', trendline='ols')"
      ],
      "execution_count": 290,
      "outputs": [
        {
          "output_type": "display_data",
          "data": {
            "text/html": [
              "<html>\n",
              "<head><meta charset=\"utf-8\" /></head>\n",
              "<body>\n",
              "    <div>\n",
              "            <script src=\"https://cdnjs.cloudflare.com/ajax/libs/mathjax/2.7.5/MathJax.js?config=TeX-AMS-MML_SVG\"></script><script type=\"text/javascript\">if (window.MathJax) {MathJax.Hub.Config({SVG: {font: \"STIX-Web\"}});}</script>\n",
              "                <script type=\"text/javascript\">window.PlotlyConfig = {MathJaxConfig: 'local'};</script>\n",
              "        <script src=\"https://cdn.plot.ly/plotly-latest.min.js\"></script>    \n",
              "            <div id=\"b590d779-1c50-445b-bd6c-d7ec778dce7e\" class=\"plotly-graph-div\" style=\"height:525px; width:100%;\"></div>\n",
              "            <script type=\"text/javascript\">\n",
              "                \n",
              "                    window.PLOTLYENV=window.PLOTLYENV || {};\n",
              "                    \n",
              "                if (document.getElementById(\"b590d779-1c50-445b-bd6c-d7ec778dce7e\")) {\n",
              "                    Plotly.newPlot(\n",
              "                        'b590d779-1c50-445b-bd6c-d7ec778dce7e',\n",
              "                        [{\"hoverlabel\": {\"namelength\": 0}, \"hovertemplate\": \"gross_square_feet=%{x}<br>sale_price=%{y}\", \"legendgroup\": \"\", \"marker\": {\"color\": \"#636efa\", \"symbol\": \"circle\"}, \"mode\": \"markers\", \"name\": \"\", \"showlegend\": false, \"type\": \"scattergl\", \"x\": [1077.0, 545.0, 827.0, 391.0, 453.0, 623.0, 0.0, 836.0, 0.0, 1010.0, 0.0, 0.0, 623.0, 0.0, 900.0, 743.0, 992.0, 2890.0, 610.0, 585.0, 2137.0, 0.0, 1137.0, 0.0, 472.0, 3703.0, 1840.0, 4613.0, 1606.0, 2679.0, 618.0, 0.0, 1846.0, 0.0, 2104.0, 9975.0, 806.0, 433.0, 1043.0, 1448.0, 615.0, 0.0, 1205.0, 656.0, 435.0, 1342.0, 748.0, 0.0, 801.0, 732.0, 787.0, 761.0, 887.0, 0.0, 1446.0, 699.0, 0.0, 0.0, 545.0, 1465.0, 1138.0, 1386.0, 1296.0, 575.0, 1140.0, 823.0, 580.0, 0.0, 714.0, 1378.0, 3505.0, 2475.0, 1182.0, 1481.0, 2031.0, 633.0, 1061.0, 589.0, 0.0, 1026.0, 1270.0, 645.0, 767.0, 2641.0, 834.0, 838.0, 2198.0, 830.0, 972.0, 1353.0, 1163.0, 966.0, 890.0, 943.0, 775.0, 955.0, 765.0, 591.0, 594.0, 1125.0, 1020.0, 181.0, 1181.0, 1800.0, 1571.0, 1116.0, 0.0, 1165.0, 802.0, 0.0, 0.0, 745.0, 0.0, 1759.0, 4628.0, 793.0, 2923.0, 2367.0, 1056.0, 1612.0, 962.0, 1084.0, 1457.0, 864.0, 0.0, 1238.0, 1063.0, 940.0, 1700.0, 581.0, 1342.0, 0.0, 0.0, 1033.0, 1196.0, 666.0, 691.0, 604.0, 1303.0, 512.0, 512.0, 751.0, 470.0, 0.0, 670.0, 618.0, 0.0, 1074.0, 687.0, 1327.0, 0.0, 1205.0, 0.0, 589.0, 1178.0, 838.0, 812.0, 2133.0, 794.0, 594.0, 545.0, 0.0, 0.0, 683.0, 523.0, 682.0, 434.0, 1166.0, 1063.0, 1078.0, 0.0, 1570.0, 1095.0, 153.0, 995.0, 1035.0, 355.0, 1606.0, 917.0, 630.0, 1429.0, 746.0, 728.0, 761.0, 1296.0, 742.0, 1175.0, 696.0, 1293.0, 787.0, 529.0, 545.0, 658.0, 508.0, 458.0, 0.0, 1562.0, 627.0, 681.0, 1892.0, 431.0, 860.0, 826.0, 840.0, 4653.0, 1034.0, 625.0, 1948.0, 768.0, 21462.0, 1150.0, 1150.0, 3122.0, 1190.0, 443.0, 744.0, 907.0, 1859.0, 637.0, 0.0, 572.0, 1185.0, 5227.0, 0.0, 933.0, 200.0, 951.0, 153.0, 153.0, 153.0, 153.0, 977.0, 952.0, 720.0, 162.0, 1293.0, 1602.0, 0.0, 1422.0, 1074.0, 1805.0, 153.0, 699.0, 1175.0, 0.0, 1050.0, 1102.0, 551.0, 0.0, 701.0, 640.0, 2500.0, 2746.0, 678.0, 758.0, 162.0, 1067.0, 690.0, 1260.0, 694.0, 0.0, 1052.0, 717.0, 475.0, 904.0, 1489.0, 1088.0, 1316.0, 790.0, 4158.0, 1162.0, 1444.0, 1043.0, 1631.0, 5227.0, 487.0, 1880.0, 673.0, 574.0, 1746.0, 1730.0, 1036.0, 833.0, 144.0, 915.0, 638.0, 663.0, 153.0, 0.0, 1150.0, 1538.0, 0.0, 1181.0, 1232.0, 1520.0, 600.0, 1224.0, 1019.0, 939.0, 1242.0, 507.0, 1067.0, 727.0, 783.0, 455.0, 626.0, 464.0, 685.0, 678.0, 873.0, 435.0, 1472.0, 1977.0, 0.0, 1288.0, 2094.0, 384.0, 580.0, 875.0, 783.0, 1086.0, 1401.0, 1053.0, 1810.0, 943.0, 1417.0, 0.0, 1517.0, 1429.0, 957.0, 1518.0, 0.0, 0.0, 0.0, 0.0, 0.0, 0.0, 0.0, 0.0, 1064.0, 699.0, 603.0, 1318.0, 1568.0, 1400.0, 0.0, 1949.0, 612.0, 1104.0, 678.0, 1858.0, 3056.0, 0.0, 778.0, 1322.0, 496.0, 1970.0, 1034.0, 615.0, 498.0, 1200.0, 2279.0, 961.0, 1157.0, 627.0, 1384.0, 448.0, 0.0, 613.0, 1028.0, 833.0, 1114.0, 906.0, 8813.0, 1010.0, 1881.0, 1333.0, 1078.0, 153.0, 990.0, 1004.0, 1940.0, 927.0, 0.0, 810.0, 0.0, 0.0, 816.0, 1100.0, 1364.0, 207.0, 1037.0, 346.0, 2058.0, 953.0, 1325.0, 0.0, 1205.0, 606.0, 2432.0, 860.0, 695.0, 1449.0, 2279.0, 3227.0, 1298.0, 458.0, 0.0, 0.0, 0.0, 0.0, 1153.0, 0.0, 613.0, 936.0, 2685.0, 2697.0, 850.0, 1382.0, 1135.0, 618.0, 0.0, 1445.0, 1700.0, 761.0, 1489.0, 1372.0, 1312.0, 0.0, 847.0, 1014.0, 0.0, 762.0, 663.0, 914.0, 1045.0, 874.0, 715.0, 938.0, 0.0, 1702.0, 1088.0, 1238.0, 2331.0, 2289.0, 0.0, 917.0, 818.0, 928.0, 2035.0, 846.0, 0.0, 1539.0, 1141.0, 3165.0, 1561.0, 2249.0, 1081.0, 2532.0, 0.0, 527.0, 669.0, 1021.0, 2773.0, 8813.0, 0.0, 1264.0, 636.0, 852.0, 1008.0, 635.0, 670.0, 0.0, 858.0, 536.0, 0.0, 1155.0, 787.0, 514.0, 514.0, 699.0, 0.0, 565.0, 1537.0, 0.0, 1210.0, 1213.0, 306.0, 505.0, 842.0, 1947.0, 1046.0, 782.0, 453.0, 1014.0, 0.0, 0.0, 794.0, 694.0, 0.0, 1437.0, 512.0, 3196.0, 2162.0, 1175.0, 1159.0, 1424.0, 0.0, 1689.0, 1082.0, 0.0, 686.0, 1283.0, 875.0, 0.0, 0.0, 670.0, 1195.0, 595.0, 0.0, 706.0, 1061.0, 571.0, 2154.0, 11000.0, 1023.0, 799.0, 606.0, 0.0, 3127.0, 750.0, 0.0, 1187.0, 938.0, 771.0, 964.0, 1812.0, 715.0, 768.0, 958.0, 852.0, 500.0, 0.0, 902.0, 640.0, 0.0, 4663.0, 4986.0, 2436.0, 833.0, 2193.0, 1850.0, 0.0, 0.0, 613.0, 572.0, 936.0, 518.0, 1328.0, 1595.0, 840.0, 1250.0, 606.0, 1800.0, 1113.0, 986.0, 1181.0, 624.0, 727.0, 896.0, 604.0, 535.0, 972.0, 0.0, 875.0, 875.0, 908.0, 0.0, 1130.0, 765.0, 972.0, 1921.0, 978.0, 1314.0, 1248.0, 902.0, 1115.0, 762.0, 1310.0, 11905.0, 162971.0, 656.0, 1074.0, 0.0, 461.0, 585.0, 1320.0, 0.0, 1033.0, 1227.0, 788.0, 1741.0, 887.0, 737.0, 3082.0, 984.0, 4159.0, 1140.0, 1103.0, 650.0, 835.0, 185.0, 0.0, 1348.0, 558.0, 1583.0, 416.0, 2044.0, 1181.0, 1290.0, 1679.0, 780.0, 737.0, 1046.0, 153.0, 1145.0, 1329.0, 1325.0, 525.0, 2960.0, 1323.0, 895.0, 724.0, 1225.0, 1134.0, 23029.0, 566.0, 44812.0, 21462.0, 1920.0, 12506.0, 0.0, 2618.0, 836.0, 613.0, 686.0, 1122.0, 8813.0, 9975.0, 0.0, 929.0, 694.0, 1269.0, 1586.0, 112.0, 895.0, 2120.0, 785.0, 573.0, 605.0, 569.0, 500.0, 849.0, 0.0, 0.0, 26300.0, 26300.0, 591.0, 1629.0, 1140.0, 821.0, 699.0, 843.0, 884.0, 1114.0, 479.0, 1319.0, 0.0, 658.0, 765.0, 1356.0, 1242.0, 523.0, 1361.0, 1090.0, 704.0, 0.0, 0.0, 1142.0, 1034.0, 841.0, 0.0, 353.0, 0.0, 0.0, 432.0, 813.0, 1410.0, 677.0, 1090.0, 591.0, 1783.0, 200.0, 186.0, 9975.0, 638.0, 830.0, 741.0, 689.0, 1377.0, 0.0, 603.0, 1167.0, 801.0, 732.0, 1060.0, 0.0, 0.0, 796.0, 153.0, 696.0, 1064.0, 1123.0, 612.0, 1286.0, 912.0, 0.0, 368.0, 1325.0, 0.0, 939.0, 559.0, 1499.0, 763.0, 522.0, 0.0, 1311.0, 400.0, 967.0, 0.0, 0.0, 2063.0, 3208.0, 405.0, 9138.0, 868.0, 0.0, 619.0, 2237.0, 629.0, 1557.0, 630.0, 659.0, 1377.0, 719.0, 186.0, 1697.0, 638.0, 896.0, 1211.0, 1275.0, 1113.0, 1075.0, 678.0, 0.0, 1086.0, 1163.0, 1014.0, 672.0, 800.0, 0.0, 749.0, 751.0, 1064.0, 599.0, 909.0, 0.0, 910.0, 1646.0, 696.0, 1323.0, 686.0, 0.0, 0.0, 720.0, 757.0, 871.0, 72456.0, 1230.0, 0.0, 1260.0, 0.0, 516.0, 0.0, 709.0, 1022.0, 0.0, 969.0, 13852.0, 1109.0, 153.0, 153.0, 915.0, 609.0, 1878.0, 1093.0, 707.0, 0.0, 0.0, 873.0, 707.0, 1076.0, 1408.0, 1137.0, 1121.0, 1064.0, 749.0, 106836.0, 410.0, 3697.0, 999.0, 978.0, 0.0, 2519.0, 1705.0, 0.0, 1220.0, 1124.0, 4788.0, 3952.0, 600.0, 720.0, 4193.0, 0.0, 868.0, 2279.0, 1621.0, 0.0, 622.0, 617.0, 1479.0, 1071.0, 0.0, 0.0, 580.0, 632.0, 829.0, 769.0, 2190.0, 8813.0, 1100.0, 3347.0, 4904.0, 765.0, 787.0, 486.0, 753.0, 198.0, 0.0, 840.0, 1275.0, 883.0, 836.0, 585.0, 636.0, 0.0, 0.0, 0.0, 1458.0, 1368.0, 749.0, 621.0, 796.0, 0.0, 153.0, 1443.0, 731.0, 0.0, 1132.0, 859.0, 0.0, 0.0, 171.0, 972.0, 1649.0, 640.0, 673.0, 2427.0, 1626.0, 0.0, 656.0, 2693.0, 2539.0, 0.0, 782.0, 2386.0, 1152.0, 718.0, 0.0, 579.0, 1287.0, 1034.0, 2289.0, 3217.0, 3500.0, 0.0, 622.0, 929.0, 0.0, 0.0, 0.0, 0.0, 0.0, 865.0, 945.0, 613.0, 792.0, 605.0, 709.0, 3648.0, 8813.0, 1752.0, 977.0, 730.0, 9975.0, 878.0, 0.0, 866.0, 1087.0, 819.0, 905.0, 885.0, 2310.0, 3378.0, 0.0, 801.0, 0.0, 153.0, 1376.0, 4248.0, 843.0, 2.0, 621.0, 153.0, 389.0, 389.0, 398.0, 0.0, 162.0, 75328.0, 2390.0, 52797.0, 3188.0, 1872.0, 1392.0, 1392.0, 1005.0, 1108.0, 954.0, 0.0, 0.0, 0.0, 1034.0, 830.0, 0.0, 1085.0, 748.0, 2409.0, 955.0, 1669.0, 648.0, 0.0, 0.0, 1092.0, 1090.0, 840.0, 633.0, 574.0, 1505.0, 1112.0, 725.0, 8813.0, 495.0, 1010.0, 308.0, 3001.0, 186.0, 186.0, 618.0, 2304.0, 1890.0, 433.0, 4904.0, 1031.0, 783.0, 599.0, 1544.0, 1013.0, 153.0, 0.0, 1279.0, 1272.0, 0.0, 628.0, 624.0, 0.0, 17350.0, 698.0, 1295.0, 1150.0, 733.0, 1190.0, 1299.0, 626.0, 12500.0, 1672.0, 153.0, 153.0, 153.0, 153.0, 153.0, 708.0, 843.0, 19375.0, 618.0, 927.0, 168.0, 999.0, 715.0, 689.0, 710.0, 606.0, 1589.0, 838.0, 390.0, 873.0, 791.0, 1330.0, 599.0, 1917.0, 788.0, 686.0, 1190.0, 1061.0, 860.0, 2811.0, 1677.0, 4628.0, 930.0, 3985.0, 923.0, 1907.0, 0.0, 0.0, 580.0, 896.0, 1499.0, 0.0, 1112.0, 3648.0, 1563.0, 779.0, 781.0, 1033.0, 1044.0, 729.0, 869.0, 153.0, 1355.0, 1168.0, 814.0, 2742.0, 1181.0, 500.0, 623.0, 751.0, 696.0, 1224.0, 936.0, 1230.0, 497.0, 766.0, 729.0, 640.0, 1196.0, 3263.0, 0.0, 664.0, 682.0, 2606.0, 1135.0, 1009.0, 0.0, 657.0, 0.0, 1034.0, 0.0, 526.0, 1148.0, 796.0, 0.0, 0.0, 0.0, 0.0, 1663.0, 3005.0, 778.0, 1132.0, 1505.0, 3648.0, 9975.0, 1563.0, 0.0, 0.0, 1158.0, 1054.0, 1338.0, 1224.0, 1075.0, 1004.0, 1293.0, 153.0, 0.0, 649.0, 1000.0, 1397.0, 3699.0, 2210.0, 1989.0, 1190.0, 330.0, 840.0, 4184.0, 407.0, 3478.0, 1650.0, 1666.0, 4016.0, 0.0, 2049.0, 1309.0, 1631.0, 763.0, 1149.0, 2190.0, 15179.0, 0.0, 7411.0, 922.0, 1917.0, 162.0, 1293.0, 787.0, 849.0, 1805.0, 858.0, 633.0, 611.0, 943.0, 1016.0, 1211.0, 1414.0, 3450.0, 942.0, 683.0, 1287.0, 2482.0, 21462.0, 608.0, 2068.0, 836.0, 2592.0, 1327.0, 0.0, 0.0, 878.0, 0.0, 0.0, 1016.0, 829.0, 853.0, 1059.0, 693.0, 613.0, 15179.0, 0.0, 814.0, 4904.0, 1050.0, 1703.0, 1173.0, 1142.0, 1800.0, 153.0, 630.0, 1235.0, 0.0, 444.0, 753.0, 833.0, 1047.0, 2176.0, 873.0, 1180.0, 0.0, 1308.0, 1205.0, 1141.0, 475.0, 829.0, 2279.0, 3844.0, 1973.0, 4574.0, 836.0, 705.0, 707.0, 2582.0, 0.0, 504.0, 1568.0, 678.0, 445.0, 1602.0, 209.0, 9975.0, 432.0, 816.0, 3195.0, 1301.0, 162.0, 900.0, 463.0, 1413.0, 623.0, 1069.0, 0.0, 0.0, 160.0, 785.0, 153.0, 570.0, 153.0, 950.0, 947.0, 396.0, 0.0, 2215.0, 649.0, 565.0, 1476.0, 706.0, 1045.0, 1203.0, 977.0, 1531.0, 0.0, 694.0, 2081.0, 860.0, 680.0, 1588.0, 1212.0, 901.0, 985.0, 625.0, 1524.0, 1054.0, 0.0, 5594.0, 789.0, 1312.0, 1050.0, 0.0, 565.0, 1090.0, 969.0, 875.0, 599.0, 5227.0, 1502.0, 0.0, 680.0, 1031.0, 1562.0, 732.0, 0.0, 643.0, 838.0, 643.0, 1053.0, 26300.0, 735.0, 761.0, 761.0, 689.0, 699.0, 639.0, 778.0, 914.0, 516.0, 0.0, 850.0, 489.0, 1248.0, 1938.0, 969.0, 1539.0, 0.0, 1011.0, 1987.0, 1530.0, 851.0, 680.0, 1926.0, 595.0, 1127.0, 1163.0, 1526.0, 875.0, 0.0, 0.0, 0.0, 0.0, 0.0, 0.0, 0.0, 935.0, 447.0, 0.0, 936.0, 484.0, 1505.0, 1457.0, 1132.0, 1505.0, 3648.0, 1245.0, 1189.0, 7411.0, 2835.0, 1871.0, 1406.0, 489.0, 1231.0, 153.0, 1330.0, 1330.0, 1330.0, 1330.0, 1330.0, 1053.0, 1350.0, 608.0, 493.0, 26300.0, 26300.0, 1583.0, 701.0, 900.0, 0.0, 1058.0, 1139.0, 946.0, 1073.0, 1242.0, 1837.0, 1325.0, 1688.0, 0.0, 653.0, 1409.0, 0.0, 1850.0, 1670.0, 1906.0, 2536.0, 2965.0, 2445.0, 2844.0, 3242.0, 1906.0, 2536.0, 2965.0, 2445.0, 2609.0, 2592.0, 2592.0, 2592.0, 0.0, 1750.0, 858.0, 872.0, 0.0, 1065.0, 896.0, 658.0, 1088.0, 1720.0, 150.0, 692.0, 1078.0, 1330.0, 1330.0, 1330.0, 1330.0, 1053.0, 402.0, 695.0, 764.0, 546.0, 153.0, 0.0, 0.0, 782.0, 710.0, 0.0, 0.0, 0.0, 692.0, 640.0, 251.0, 0.0, 0.0, 678.0, 959.0, 1779.0, 1819.0, 977.0, 1556.0, 1491.0, 851.0, 525.0, 697.0, 610.0, 0.0, 0.0, 880.0, 816.0, 1044.0, 1505.0, 6497.0, 848.0, 925.0, 162.0, 1471.0, 759.0, 902.0, 887.0, 1205.0, 1364.0, 1364.0, 725.0, 1121.0, 928.0, 1263.0, 1019.0, 763.0, 1394.0, 0.0, 153.0, 0.0, 800.0, 200.0, 1000.0, 2476.0, 1637.0, 1249.0, 1016.0, 0.0, 1464.0, 540.0, 777.0, 446.0, 767.0, 0.0, 0.0, 1112.0, 8813.0, 0.0, 0.0, 7411.0, 1011.0, 783.0, 0.0, 1038.0, 571.0, 1075.0, 1330.0, 1459.0, 1805.0, 0.0, 1175.0, 1128.0, 0.0, 0.0, 1212.0, 574.0, 559.0, 0.0, 884.0, 0.0, 434.0, 153.0, 923.0, 1097.0, 933.0, 699.0, 906.0, 1231.0, 3112.0, 404.0, 883.0, 1652.0, 1476.0, 1029.0, 1175.0, 1353.0, 1289.0, 1619.0, 3114.0, 729.0, 1231.0, 1803.0, 1144.0, 8346.0, 710.0, 966.0, 1920.0, 535.0, 726.0, 776.0, 1833.0, 1389.0, 0.0, 569.0, 896.0, 913.0, 8813.0, 5227.0, 1160.0, 850.0, 1022.0, 1144.0, 1197.0, 1510.0, 1183.0, 720.0, 1190.0, 1060.0, 570.0, 0.0, 865.0, 0.0, 814.0, 1755.0, 514.0, 1234.0, 1033.0, 1421.0, 153.0, 900.0, 0.0, 717.0, 579.0, 1412.0, 825.0, 0.0, 676.0, 694.0, 2168.0, 4003.0, 1546.0, 3114.0, 828.0, 1180.0, 0.0, 1809.0, 1229.0, 804.0, 2241.0, 805.0, 0.0, 528.0, 153.0, 15179.0, 5227.0, 1410.0, 447.0, 1077.0, 1121.0, 0.0, 0.0, 934.0, 153.0, 1136.0, 1190.0, 1303.0, 718.0, 848.0, 513.0, 699.0, 1157.0, 574.0, 141.0, 651.0, 963.0, 2100.0, 945.0, 1816.0, 0.0, 2539.0, 631.0, 765.0, 1141.0, 0.0, 0.0, 0.0, 0.0, 3114.0, 2241.0, 0.0, 967.0, 422.0, 0.0, 1124.0, 1213.0, 1375.0, 756.0, 814.0, 796.0, 0.0, 448.0, 449.0, 878.0, 0.0, 0.0, 1095.0, 787.0, 151.0, 1122.0, 978.0, 1129.0, 0.0, 0.0, 1354.0, 867.0, 713.0, 1679.0, 0.0, 0.0, 1048.0, 1004.0, 1158.0, 1692.0, 1248.0, 1468.0, 404.0, 3282.0, 720.0, 1244.0, 662.0, 791.0, 1277.0, 1446.0, 0.0, 1624.0, 2292.0, 1415.0, 658.0, 638.0, 0.0, 873.0, 0.0, 491.0, 554.0, 0.0, 1117.0, 4948.0, 4948.0, 7411.0, 953.0, 349.0, 571.0, 440.0, 1191.0, 623.0, 0.0, 1346.0, 503.0, 1188.0, 2100.0, 1650.0, 0.0, 1329.0, 1816.0, 0.0, 0.0, 0.0, 1227.0, 991.0, 1375.0, 1129.0, 39567.0, 1110.0, 0.0, 0.0, 635.0, 449.0, 613.0, 1049.0, 996.0, 2139.0, 1054.0, 1229.0, 851.0, 1086.0, 996.0, 192.0, 0.0, 1155.0, 1150.0, 762.0, 1518.0, 815.0, 982.0, 769.0, 0.0, 0.0, 779.0, 642.0, 785.0, 2109.0, 672.0, 782.0, 932.0, 643.0, 0.0, 1166.0, 1464.0, 1638.0, 1375.0, 798.0, 725.0, 3114.0, 1998.0, 715.0, 1378.0, 667.0, 1456.0, 0.0, 836.0, 653.0, 0.0, 1184.0, 1063.0, 170.0, 1084.0, 0.0, 1104.0, 932.0, 0.0, 636.0, 0.0, 14501.0, 24000.0, 826.0, 833.0, 922.0, 231379.0, 231379.0, 622.0, 0.0, 0.0, 2891.0, 893.0, 1016.0, 1571.0, 941.0, 0.0, 1373.0, 2279.0, 2964.0, 1134.0, 1309.0, 1779.0, 1812.0, 1489.0, 678.0, 1071.0, 0.0, 962.0, 757.0, 1109.0, 15179.0, 0.0, 1162.0, 0.0, 793.0, 0.0, 1104.0, 153.0, 1082.0, 826.0, 0.0, 153.0, 197.0, 1156.0, 1295.0, 720.0, 1512.0, 616.0, 2519.0, 637.0, 2487.0, 1044.0, 450.0, 1197.0, 1144.0, 537.0, 688.0, 1900.0, 1161.0, 1099.0, 1262.0, 0.0, 0.0, 945.0, 3541.0, 0.0, 657.0, 1376.0, 525.0, 0.0, 871.0, 645.0, 1112.0, 6497.0, 1084.0, 589.0, 7411.0, 1853.0, 527.0, 494.0, 2184.0, 1080.0, 153.0, 1659.0, 848.0, 848.0, 500.0, 603.0, 1035.0, 782.0, 900.0, 639.0, 1842.0, 830.0, 524.0, 930.0, 3039.0, 906.0, 0.0, 1061.0, 0.0, 0.0, 0.0, 0.0, 420.0, 0.0, 894.0, 660.0, 1147.0, 2885.0, 0.0, 380.0, 1166.0, 1044.0, 1595.0, 1182.0, 2249.0, 2009.0, 503.0, 3114.0, 917.0, 1661.0, 2663.0, 634.0, 3453.0, 0.0, 1948.0, 1489.0, 962.0, 600.0, 580.0, 613.0, 490.0, 153.0, 1102.0, 15179.0, 15179.0, 0.0, 942.0, 1383.0, 1788.0, 1401.0, 668.0, 1085.0, 837.0, 815.0, 1500.0, 900.0, 140.0, 1997.0, 975.0, 0.0, 1057.0, 1335.0, 0.0, 1429.0, 1321.0, 995.0, 512.0, 754.0, 746.0, 611.0, 0.0, 0.0, 894.0, 767.0, 595.0, 737.0, 523.0, 608.0, 764.0, 737.0, 730.0, 621.0, 700.0, 528.0, 153.0, 723.0, 0.0, 0.0, 0.0, 880.0, 1004.0, 534.0, 1502.0, 832.0, 585.0, 231379.0, 1686.0, 1932.0, 1092.0, 1022.0, 1059.0, 0.0, 1127.0, 977.0, 1636.0, 0.0, 798.0, 653.0, 0.0, 1689.0, 1444.0, 0.0, 0.0, 305.0, 613.0, 1172.0, 974.0, 0.0, 1802.0, 1023.0, 1000.0, 1386.0, 1271.0, 1172.0, 2002.0, 657.0, 628.0, 970.0, 930.0, 0.0, 581.0, 1002.0, 1007.0, 1247.0, 1320.0, 153.0, 0.0, 804.0, 855.0, 1680.0, 813.0, 1002.0, 0.0, 851.0, 696.0, 444.0, 875.0, 756.0, 1214.0, 1413.0, 0.0, 493.0, 1457.0, 2741.0, 1645.0, 4948.0, 0.0, 1162.0, 0.0, 1106.0, 0.0, 889.0, 9948.0, 1898.0, 1286.0, 1262.0, 0.0, 0.0, 0.0, 0.0, 771.0, 0.0, 1306.0, 1082.0, 1905.0, 791.0, 0.0, 0.0, 1157.0, 695.0, 696.0, 540.0, 710.0, 1003.0, 530.0, 1061.0, 2421.0, 1068.0, 896.0, 795.0, 1171.0, 185.0, 34745.0, 0.0, 15179.0, 975.0, 1209.0, 925.0, 1065.0, 672.0, 506.0, 506.0, 510.0, 0.0, 0.0, 672.0, 1441.0, 629.0, 902.0, 0.0, 231379.0, 1000.0, 857.0, 1273.0, 613.0, 939.0, 572.0, 818.0, 1780.0, 915.0, 902.0, 1060.0, 1584.0, 1068.0, 695.0, 1902.0, 966.0, 0.0, 0.0, 707.0, 0.0, 978.0, 449.0, 675.0, 654.0, 834.0, 34745.0, 34745.0, 0.0, 1505.0, 15179.0, 487.0, 0.0, 599.0, 1239.0, 0.0, 1116.0, 0.0, 0.0, 1451.0, 414.0, 895.0, 631.0, 1158.0, 1692.0, 36835.0, 1365.0, 1650.0, 595.0, 1571.0, 723.0, 723.0, 13953.0, 0.0, 798.0, 1373.0, 848.0, 687.0, 878.0, 1485.0, 0.0, 1258.0, 2992.0, 0.0, 698.0, 5958.0, 0.0, 1502.0, 0.0, 655.0, 537.0, 14762.0, 590.0, 895.0, 741.0, 1297.0, 26300.0, 26300.0, 836.0, 510.0, 893.0, 491.0, 417.0, 530.0, 826.0, 812.0, 1116.0, 679.0, 6998.0, 1142.0, 912.0, 517.0, 0.0, 941.0, 1994.0, 1202.0, 848.0, 1373.0, 848.0, 989.0, 2191.0, 390.0, 847.0, 577.0, 1728.0, 1462.0, 1537.0, 1074.0, 618.0, 1337.0, 936.0, 5958.0, 1320.0, 741.0, 665.0, 417.0, 747.0, 810.0, 153.0, 729.0, 1031.0, 832.0, 509.0, 153.0, 80.0, 822.0, 892.0, 863.0, 741.0, 0.0, 1225.0, 811.0, 1080.0, 0.0, 0.0, 4140.0, 5492.0, 1020.0, 1035.0, 1650.0, 1015.0, 991.0, 991.0, 1185.0, 681.0, 1344.0, 396.0, 458.0, 848.0, 848.0, 2685.0, 3243.0, 1002.0, 1467.0, 0.0, 1050.0, 1280.0, 662.0, 0.0, 1457.0, 923.0, 6497.0, 1318.0, 975.0, 747.0, 1300.0, 1087.0, 2309.0, 833.0, 1115.0, 576.0, 650.0, 0.0, 771.0, 616.0, 974.0, 1176.0, 648.0, 0.0, 753.0, 75328.0, 0.0, 0.0, 3463.0, 1044.0, 1567.0, 2843.0, 813.0, 1012.0, 1373.0, 1669.0, 545.0, 3140.0, 0.0, 0.0, 0.0, 0.0, 852.0, 933.0, 0.0, 565.0, 824.0, 34745.0, 0.0, 6497.0, 2840.0, 2010.0, 796.0, 816.0, 823.0, 816.0, 823.0, 739.0, 1554.0, 635.0, 1231.0, 153.0, 99083.0, 798.0, 561.0, 1090.0, 729.0, 718.0, 1268.0, 162.0, 898.0, 870.0, 4916.0, 0.0, 0.0, 504.0, 0.0, 0.0, 1123.0, 1046.0, 755.0, 548.0, 920.0, 1242.0, 863.0, 1815.0, 162.0, 990.0, 974.0, 589.0, 988.0, 1320.0, 794.0, 458.0, 779.0, 3586.0, 848.0, 2948.0, 0.0, 2342.0, 1065.0, 1295.0, 0.0, 98550.0, 98550.0, 778.0, 757.0, 613.0, 2741.0, 1162.0, 0.0, 854.0, 1405.0, 1245.0, 992.0, 1135.0, 153.0, 1288.0, 450.0, 0.0, 90307.0, 0.0, 0.0, 8102.0, 8102.0, 763.0, 804.0, 737.0, 764.0, 804.0, 700.0, 608.0, 539.0, 153.0, 153.0, 153.0, 153.0, 153.0, 650.0, 0.0, 1306.0, 829.0, 1525.0, 36835.0, 0.0, 3788.0, 788.0, 2519.0, 1597.0, 0.0, 0.0, 804.0, 625.0, 891.0, 807.0, 646.0, 892.0, 560.0, 3974.0, 2793.0, 2481.0, 440.0, 0.0, 706.0, 1076.0, 0.0, 981.0, 835.0, 185.0, 1070.0, 0.0, 713.0, 1252.0, 1026.0, 0.0, 99083.0, 99083.0, 786.0, 668.0, 973.0, 153.0, 480.0, 838.0, 10833.0, 33268.0, 33375.0, 32240.0, 0.0, 759.0, 650.0, 0.0, 0.0, 1002.0, 607.0, 619.0, 489.0, 2100.0, 1400.0, 1188.0, 773.0, 1355.0, 2911.0, 606.0, 1652.0, 297.0, 616.0, 616.0, 682.0, 2054.0, 0.0, 770.0, 931.0, 1399.0, 1107.0, 888.0, 818.0, 1044.0, 1044.0, 5893.0, 1379.0, 548.0, 1070.0, 973.0, 2016.0, 886.0, 868.0, 0.0, 0.0, 1311.0, 915.0, 1861.0, 550.0, 564.0, 2431.0, 0.0, 657.0, 0.0, 651.0, 1900.0, 821.0, 1031.0, 788.0, 1533.0, 755.0, 0.0, 0.0, 0.0, 0.0, 655.0, 1085.0, 943.0, 995.0, 1130.0, 971.0, 494.0, 1004.0, 1173.0, 349.0, 924.0, 1124.0, 996.0, 1070.0, 99083.0, 99083.0, 99083.0, 99083.0, 99083.0, 1181.0, 671.0, 931.0, 0.0, 623.0, 670.0, 0.0, 1230.0, 852.0, 881.0, 889.0, 153.0, 860.0, 844.0, 457.0, 963.0, 689.0, 1631.0, 3101.0, 606.0, 518.0, 1652.0, 1819.0, 459.0, 735.0, 1211.0, 1246.0, 1161.0, 1564.0, 748.0, 967.0, 686.0, 723.0, 1343.0, 1129.0, 647.0, 668.0, 995.0, 1959.0, 733.0, 453.0, 1618.0, 0.0, 708.0, 1132.0, 1275.0, 1733.0, 4227.0, 2451.0, 145.0, 1379.0, 741.0, 1300.0, 0.0, 1789.0, 1182.0, 731.0, 589.0, 698.0, 440.0, 456.0, 1120.0, 623.0, 0.0, 153.0, 975.0, 510.0, 906.0, 1240.0, 513.0, 1003.0, 1777.0, 715.0, 445.0, 1021.0, 1633.0, 1980.0, 1157.0, 1576.0, 1780.0, 715.0, 2165.0, 2903.0, 2457.0, 1305.0, 613.0, 613.0, 829.0, 633.0, 981.0, 3126.0, 1460.0, 1084.0, 912.0, 1228.0, 153.0, 144.0, 144.0, 0.0, 612.0, 1205.0, 446.0, 1249.0, 26300.0, 1099.0, 1316.0, 631.0, 1087.0, 0.0, 1361.0, 1250.0, 756.0, 692.0, 0.0, 1033.0, 1003.0, 1091.0, 1161.0, 695.0, 695.0, 1123.0, 1235.0, 2334.0, 2327.0, 948.0, 1728.0, 0.0, 0.0, 0.0, 854.0, 1508.0, 1640.0, 913.0, 670.0, 1171.0, 638.0, 34745.0, 0.0, 2741.0, 4530.0, 2356.0, 888.0, 0.0, 706.0, 648.0, 1609.0, 728.0, 1270.0, 1061.0, 685.0, 1322.0, 248.0, 591.0, 757.0, 459.0, 826.0, 700.0, 523.0, 826.0, 826.0, 804.0, 523.0, 517.0, 530.0, 737.0, 512.0, 783.0, 537.0, 547.0, 528.0, 488.0, 995.0, 622.0, 153.0, 153.0, 153.0, 153.0, 153.0, 153.0, 0.0, 730.0, 189.0, 763.0, 4999.0, 4999.0, 1217.0, 2603.0, 735.0, 1211.0, 1647.0, 895.0, 988.0, 988.0, 983.0, 1970.0, 650.0, 892.0, 3114.0, 514.0, 848.0, 828.0, 1397.0, 1676.0, 39567.0, 0.0, 435.0, 1004.0, 825.0, 629.0, 8813.0, 1200.0, 817.0, 962.0, 723.0, 632.0, 0.0, 808.0, 905.0, 723.0, 0.0, 1375.0, 36835.0, 36835.0, 2219.0, 231379.0, 231379.0, 2360.0, 829.0, 982.0, 515.0, 2100.0, 1440.0, 1934.0, 1285.0, 1464.0, 1044.0, 1155.0, 770.0, 615.0, 1970.0, 1370.0, 0.0, 1490.0, 828.0, 1373.0, 1131.0, 1031.0, 485.0, 0.0, 690.0, 909.0, 0.0, 34745.0, 0.0, 605.0, 660.0, 1124.0, 1088.0, 1825.0, 0.0, 567.0, 627.0, 700.0, 995.0, 608.0, 725.0, 472.0, 0.0, 650.0, 723.0, 0.0, 0.0, 672.0, 1130.0, 659.0, 619.0, 826.0, 776.0, 705.0, 1011.0, 942.0, 754.0, 900.0, 495.0, 969.0, 231379.0, 731.0, 1293.0, 1630.0, 1563.0, 1043.0, 1134.0, 983.0, 32805.0, 777.0, 1363.0, 909.0, 565.0, 1593.0, 2300.0, 474.0, 691.0, 654.0, 0.0, 5050.0, 634.0, 435.0, 825.0, 605.0, 2401.0, 1216.0, 4563.0, 1369.0, 822.0, 964.0, 1572.0, 1077.0, 70998.0, 733.0, 931.0, 882.0, 1638.0, 945.0, 723.0, 1089.0, 0.0, 0.0, 1752.0, 989.0, 4999.0, 1436.0, 640.0, 2492.0, 1480.0, 1033.0, 380.0, 723.0, 723.0, 1336.0, 1555.0, 0.0, 1141.0, 841.0, 1741.0, 1831.0, 1178.0, 4702.0, 1463.0, 1581.0, 1866.0, 0.0, 783.0, 2349.0, 2484.0, 950.0, 1206.0, 1505.0, 1890.0, 1562.0, 1433.0, 2849.0, 616.0, 70998.0, 0.0, 1288.0, 931.0, 917.0, 0.0, 1250.0, 4993.0, 786.0, 0.0, 754.0, 1439.0, 0.0, 860.0, 1004.0, 605.0, 779.0, 0.0, 0.0, 465.0, 949.0, 982.0, 1074.0, 774.0, 1123.0, 723.0, 1956.0, 32805.0, 32805.0, 667.0, 880.0, 1253.0, 422.0, 0.0, 1767.0, 1162.0, 749.0, 806.0, 1097.0, 135.0, 135.0, 835.0, 877.0, 596.0, 701.0, 1715.0, 1275.0, 409.0, 1337.0, 1031.0, 70998.0, 735.0, 99083.0, 1026.0, 1050.0, 1090.0, 850.0, 1679.0, 1185.0, 153.0, 153.0, 1224.0, 565.0, 815.0, 629.0, 153.0, 1125.0, 855.0, 0.0, 800.0, 200.0, 1008.0, 1782.0, 531.0, 0.0, 691.0, 684.0, 856.0, 780.0, 1961.0, 0.0, 986.0, 695.0, 1217.0, 32805.0, 32805.0, 846.0, 0.0, 589.0, 1418.0, 2440.0, 417.0, 569.0, 0.0, 0.0, 0.0, 698.0, 0.0, 990.0, 1076.0, 565.0, 820.0, 1091.0, 1440.0, 493.0, 1351.0, 1180.0, 1110.0, 899.0, 1460.0, 4000.0, 1062.0, 1200.0, 11254.0, 880.0, 70998.0, 70998.0, 1223.0, 162.0, 735.0, 708.0, 800.0, 1265.0, 1424.0, 0.0, 1245.0, 901.0, 1390.0, 153.0, 153.0, 153.0, 153.0, 153.0, 561.0, 910.0, 1130.0, 942.0, 0.0, 0.0, 0.0, 0.0, 537.0, 1234.0, 523.0, 484.0, 679.0, 1429.0, 1773.0, 2027.0, 693.0, 695.0, 695.0, 695.0, 461.0, 655.0, 850.0, 1044.0, 1043.0, 743.0, 695.0, 695.0, 1465.0, 864.0, 1458.0, 1343.0, 851.0, 1311.0, 1252.0, 1100.0, 1027.0, 0.0, 0.0, 528.0, 967.0, 0.0, 220.0, 0.0, 656.0, 504.0, 941.0, 669.0, 636.0, 829.0, 1014.0, 936.0, 0.0, 1112.0, 1209.0, 4563.0, 1380.0, 153.0, 1430.0, 1102.0, 873.0, 2567.0, 698.0, 1072.0, 153.0, 755.0, 817.0, 8358.0, 99083.0, 99083.0, 571.0, 1107.0, 1254.0, 934.0, 1311.0, 732.0, 731.0, 1538.0, 679.0, 153.0, 2102.0, 746.0, 698.0, 681.0, 153.0, 604.0, 1190.0, 1166.0, 2281.0, 493.0, 801.0, 0.0, 826.0, 812.0, 1196.0, 1004.0, 0.0, 800.0, 200.0, 850.0, 670.0, 36835.0, 36835.0, 0.0, 1297.0, 438.0, 773.0, 780.0, 0.0, 1123.0, 562.0, 1588.0, 615.0, 1053.0, 1397.0, 848.0, 848.0, 2028.0, 955.0, 5284.0, 2592.0, 0.0, 376.0, 936.0, 1090.0, 815.0, 874.0, 1852.0, 814.0, 7411.0, 1160.0, 1004.0, 70998.0, 550.0, 921.0, 555.0, 153.0, 634.0, 925.0, 0.0, 504.0, 479.0, 1400.0, 756.0, 1072.0, 544.0, 1290.0, 1060.0, 0.0, 5391.0, 3576.0, 3576.0, 1098.0, 1588.0, 746.0, 1343.0, 848.0, 1014.0, 1773.0, 1263.0, 0.0, 898.0, 2234.0, 894.0, 1081.0, 153.0, 984.0, 666.0, 4530.0, 1191.0, 1376.0, 1523.0, 615.0, 741.0, 817.0, 1443.0, 943.0, 1138.0, 1742.0, 1751.0, 862.0, 1060.0, 750.0, 0.0, 153.0, 504.0, 475.0, 1014.0, 0.0, 698.0, 2169.0, 503.0, 0.0, 655.0, 1161.0, 696.0, 0.0, 3451.0, 0.0, 0.0, 1880.0, 1489.0, 0.0, 2568.0, 719.0, 1117.0, 786.0, 0.0, 70998.0, 931.0, 931.0, 0.0, 0.0, 1063.0, 0.0, 1375.0, 0.0, 1723.0, 650.0, 575.0, 440.0, 153.0, 153.0, 839.0, 803.0, 1760.0, 2844.0, 1901.0, 1728.0, 780.0, 849.0, 696.0, 1003.0, 4994.0, 485.0, 322160.0, 2241.0, 1359.0, 1065.0, 681.0, 2227.0, 874.0, 34745.0, 0.0, 895.0, 666.0, 1496.0, 1624.0, 791.0, 70998.0, 1124.0, 755.0, 1112.0, 1213.0, 513.0, 650.0, 0.0, 977.0, 561.0, 0.0, 1329.0, 1065.0, 448.0, 1000.0, 1609.0, 511.0, 1044.0, 1566.0, 32805.0, 745.0, 1494.0, 190.0, 1213.0, 1612.0, 322160.0, 3260.0, 286755.0, 444.0, 3453.0, 689.0, 2183.0, 286755.0, 4803.0, 1959.0, 929.0, 69924.0, 1749.0, 884.0, 338.0, 1423.0, 2331.0, 833.0, 1530.0, 1410.0, 1083.0, 1074.0, 651.0, 1311.0, 1132.0, 666.0, 0.0, 1409.0, 848.0, 36750.0, 0.0, 741.0, 1288.0, 0.0, 1097.0, 153.0, 953.0, 6350.0, 700.0, 700.0, 884.0, 734.0, 453.0, 8016.0, 0.0, 1200.0, 726.0, 4999.0, 4999.0, 715.0, 2775.0, 788.0, 6649.0, 2024.0, 723.0, 695.0, 1104.0, 373.0, 1230.0, 648.0, 1036.0, 776.0, 830.0, 951.0, 652.0, 3428.0, 387.0, 706.0, 840.0, 0.0, 0.0, 477.0, 640.0, 1074.0, 613.0, 1132.0, 1132.0, 1132.0, 896.0, 666.0, 153.0, 21214.0, 5631.0, 0.0, 802.0, 70998.0, 698.0, 661.0, 799.0, 824.0, 643.0, 698.0, 661.0, 721.0, 728.0, 726.0, 698.0, 661.0, 733.0, 699.0, 726.0, 698.0, 661.0, 721.0, 728.0, 726.0, 698.0, 661.0, 733.0, 699.0, 726.0, 698.0, 661.0, 721.0, 728.0, 726.0, 698.0, 661.0, 733.0, 699.0, 726.0, 1048.0, 1043.0, 1117.0, 1085.0, 4652.0, 2173.0, 2510.0, 816.0, 1308.0, 440.0, 1104.0, 639.0, 689.0, 671.0, 885.0, 942.0, 964.0, 1386.0, 2258.0, 2507.0, 698.0, 1352.0, 513.0, 0.0, 2707.0, 839.0, 851.0, 1561.0, 4430.0, 676.0, 682.0, 1180.0, 1046.0, 754.0, 570.0, 0.0, 638.0, 1055.0, 2397.0, 800.0, 0.0, 34590.0, 33500.0, 32173.0, 2444.0, 1432.0, 2228.0, 2554.0, 98550.0, 1164.0, 780.0, 670.0, 621.0, 829.0, 1132.0, 1424.0, 0.0, 4530.0, 21214.0, 1595.0, 9372.0, 2007.0, 70998.0, 1007.0, 958.0, 153.0, 917.0, 755.0, 1194.0, 623.0, 1045.0, 153.0, 1495.0, 560.0, 704.0, 8016.0, 0.0, 1672.0, 1523.0, 0.0, 892.0, 1145.0, 1853.0, 646.0, 750.0, 0.0, 849.0, 1043.0, 153.0, 823.0, 823.0, 392.0, 848.0, 2311.0, 2027.0, 689.0, 685.0, 0.0, 814.0, 69924.0, 0.0, 1190.0, 1676.0, 1891.0, 778.0, 1588.0, 1696.0, 0.0, 1623.0, 5862.0, 1510.0, 5631.0, 0.0, 718.0, 11254.0, 717.0, 1194.0, 1356.0, 780.0, 997.0, 755.0, 1200.0, 0.0, 1166.0, 237.0, 8016.0, 144.0, 862.0, 589.0, 639.0, 747.0, 856.0, 955.0, 575.0, 855.0, 501.0, 1674.0, 1158.0, 0.0, 2373.0, 1830.0, 1010.0, 1044.0, 1462.0, 2218.0, 32805.0, 0.0, 1636.0, 787.0, 909.0, 900.0, 322160.0, 322160.0, 704.0, 1580.0, 2042.0, 1070.0, 1230.0, 1199.0, 0.0, 0.0, 2251.0, 2230.0, 2209.0, 580.0, 1120.0, 1172.0, 826.0, 1112.0, 1164.0, 4440.0, 992.0, 1492.0, 1542.0, 626.0, 8358.0, 5247.0, 0.0, 879.0, 2298.0, 769.0, 1017.0, 875.0, 912.0, 8016.0, 717.0, 153.0, 1136.0, 720.0, 1184.0, 981.0, 1398.0, 2476.0, 1310.0, 791.0, 1244.0, 788.0, 695.0, 0.0, 1630.0, 1563.0, 703.0, 1206.0, 850.0, 849.0, 32805.0, 32805.0, 689.0, 1171.0, 1253.0, 1343.0, 322160.0, 638.0, 955.0, 0.0, 0.0, 1430.0, 2247.0, 970.0, 829.0, 613.0, 680.0, 1087.0, 0.0, 0.0, 1228.0, 9975.0, 36750.0, 153.0, 0.0, 1288.0, 1088.0, 877.0, 1537.0, 1122.0, 1429.0, 2316.0, 1189.0, 635.0, 153.0, 0.0, 2900.0, 1006.0, 480.0, 1495.0, 181.0, 727.0, 897.0, 1322.0, 871.0, 1188.0, 1343.0, 1300.0, 635.0, 0.0, 1397.0, 415.0, 484.0, 1204.0, 649.0, 757.0, 1003.0, 1571.0, 1161.0, 1162.0, 759.0, 0.0, 1343.0, 1431.0, 1816.0, 2865.0, 676.0, 0.0, 0.0, 1187.0, 98550.0, 1452.0, 846.0, 782.0, 34745.0, 0.0, 1270.0, 1119.0, 4563.0, 4563.0, 1979.0, 1110.0, 2700.0, 756.0, 1502.0, 636.0, 817.0, 630.0, 925.0, 0.0, 99083.0, 99083.0, 2550.0, 879.0, 6350.0, 2569.0, 666.0, 523.0, 492.0, 0.0, 854.0, 1134.0, 670.0, 36835.0, 231379.0, 231379.0, 1373.0, 2300.0, 6344.0, 685.0, 19429.0, 1043.0, 1559.0, 6517.0, 32805.0, 0.0, 0.0, 790.0, 1343.0, 0.0, 1116.0, 685.0, 0.0, 0.0, 0.0, 1392.0, 69924.0, 3364.0, 1740.0, 851.0, 0.0, 0.0, 1226.0, 2255.0, 933.0, 829.0, 750.0, 0.0, 666.0, 9372.0, 2700.0, 2204.0, 698.0, 830.0, 741.0, 931.0, 1194.0, 1990.0, 0.0, 766.0, 1376.0, 2954.0, 1309.0, 590.0, 6350.0, 0.0, 1270.0, 1289.0, 1185.0, 1138.0, 1380.0, 36835.0, 0.0, 2125.0, 606.0, 616.0, 1480.0, 1630.0, 1033.0, 500.0, 991.0, 986.0, 739.0, 890.0, 827.0, 1653.0, 47.0, 518.0, 1155.0, 1994.0, 0.0, 1373.0, 813.0, 322160.0, 0.0, 69924.0, 789.0, 0.0, 1552.0, 680.0, 675.0, 542.0, 6497.0, 4000.0, 867.0, 1598.0, 643.0, 1220.0, 153.0, 1443.0, 828.0, 8358.0, 1154.0, 157.0, 698.0, 1000.0, 740.0, 1120.0, 1136.0, 1060.0, 0.0, 10462.0, 902.0, 0.0, 1296.0, 713.0, 724.0, 1480.0, 0.0, 1153.0, 1123.0, 695.0, 789.0, 1006.0, 828.0, 1250.0, 322160.0, 322160.0, 3578.0, 2481.0, 3201.0, 796.0, 578.0, 1249.0, 0.0, 634.0, 98550.0, 98550.0, 757.0, 625.0, 599.0, 2700.0, 0.0, 4530.0, 21214.0, 1773.0, 144.0, 1258.0, 1179.0, 965.0, 2056.0, 735.0, 1018.0, 1270.0, 0.0, 3035.0, 0.0, 3375.0, 0.0, 0.0, 1086.0, 59865.0, 1018.0, 1800.0, 995.0, 1137.0, 0.0, 957.0, 2188.0, 958.0, 1145.0, 757.0, 2848.0, 1530.0, 45070.0, 1484.0, 746.0, 474.0, 1096.0, 69924.0, 1035.0, 613.0, 1155.0, 0.0, 598.0, 1183.0, 1093.0, 1194.0, 99083.0, 99083.0, 99083.0, 796.0, 0.0, 3375.0, 0.0, 0.0, 1846.0, 1278.0, 8016.0, 8016.0, 1058.0, 582.0, 1630.0, 1446.0, 696.0, 694.0, 2181.0, 824.0, 589.0, 3114.0, 976.0, 2088.0, 829.0, 1268.0, 2221.0, 868.0, 0.0, 1076.0, 1680.0, 1116.0, 0.0, 926.0, 1177.0, 349.0, 671.0, 2939.0, 153.0, 153.0, 635.0, 1244.0, 959.0, 1181.0, 2378.0, 972.0, 1546.0, 485.0, 124264.0, 1476.0, 826.0, 657.0, 1444.0, 730.0, 763.0, 776.0, 696.0, 2093.0, 864.0, 2158.0, 1343.0, 1397.0, 661.0, 1978.0, 0.0, 0.0, 1116.0, 1209.0, 1271.0, 642.0, 1628.0, 0.0, 1194.0, 632.0, 3375.0, 1148.0, 814.0, 616.0, 1009.0, 1531.0, 1033.0, 1630.0, 1302.0, 1044.0, 1557.0, 696.0, 723.0, 723.0, 0.0, 1039.0, 462.0, 1834.0, 1518.0, 814.0, 2429.0, 844.0, 1695.0, 2096.0, 1299.0, 0.0, 0.0, 98550.0, 8621.0, 8621.0, 498.0, 488.0, 760.0, 72475.0, 2160.0, 0.0, 0.0, 72475.0, 0.0, 893.0, 1074.0, 0.0, 618.0, 9948.0, 641.0, 1424.0, 0.0, 153.0, 1222.0, 3378.0, 801.0, 1010.0, 1200.0, 171.0, 420.0, 231379.0, 3764.0, 788.0, 0.0, 1164.0, 1123.0, 32805.0, 615.0, 1131.0, 513.0, 667.0, 757.0, 2771.0, 1722.0, 848.0, 1210.0, 754.0, 69924.0, 0.0, 0.0, 0.0, 1281.0, 155.0, 72475.0, 72475.0, 72475.0, 0.0, 72475.0, 1020.0, 1270.0, 340.0, 144.0, 1174.0, 530.0, 153.0, 9261.0, 827.0, 974.0, 1501.0, 0.0, 462.0, 576.0, 608.0, 0.0, 75328.0, 1627.0, 982.0, 1147.0, 1760.0, 32805.0, 585.0, 1350.0, 2248.0, 1343.0, 795.0, 895.0, 1691.0, 904.0, 0.0, 0.0, 647.0, 2417.0, 0.0, 634.0, 2248.0, 784.0, 848.0, 11684.0, 7909.0, 1290.0, 174.0, 72475.0, 72475.0, 72475.0, 72475.0, 72475.0, 1159.0, 0.0, 1011.0, 1320.0, 0.0, 0.0, 859.0, 1168.0, 1521.0, 0.0, 0.0, 1153.0, 875.0, 335.0, 750.0, 670.0, 730.0, 1820.0, 1707.0, 788.0, 732.0, 1175.0, 4350.0, 4350.0, 1778.0, 723.0, 0.0, 848.0, 322160.0, 1601.0, 634.0, 0.0, 0.0, 2047.0, 1044.0, 2721.0, 0.0, 72944.0, 22623.0, 613.0, 960.0, 828.0, 1228.0, 1062.0, 1004.0, 864.0, 1605.0, 539.0, 716.0, 1112.0, 656.0, 162.0, 700.0, 2039.0, 770.0, 1031.0, 584.0, 938.0, 1253.0, 0.0, 804.0, 760.0, 231379.0, 1892.0, 0.0, 0.0, 379.0, 1893.0, 2092.0, 970.0, 322160.0, 939.0, 695.0, 1038.0, 1253.0, 519.0, 766.0, 1065.0, 0.0, 1846.0, 949.0, 817.0, 0.0, 763.0, 153.0, 1111.0, 561.0, 843.0, 1166.0, 8358.0, 5247.0, 0.0, 861.0, 1183.0, 9948.0, 504.0, 543.0, 1056.0, 1149.0, 0.0, 0.0, 755.0, 854.0], \"xaxis\": \"x\", \"y\": [2000000, 2997613, 1250000, 1955000, 1955000, 590000, 590000, 804418, 804418, 860421, 860421, 860421, 520000, 200000, 100000, 302500, 1600000, 5243947, 150000, 1200000, 3779800, 351000, 985000, 655000, 1781938, 30191113, 2800000, 16295000, 2750000, 4580000, 910000, 367000, 810000, 810000, 1200000, 560064, 10, 480000, 891987, 762669, 743000, 900000, 600000, 685000, 380000, 1550000, 410000, 410000, 619000, 700000, 639499, 858118, 573888, 270000, 1145000, 840000, 92500, 840000, 339690, 380000, 400000, 1936407, 1325000, 715000, 2500000, 1136000, 1104500, 1136000, 1000, 3279656, 7200000, 4800000, 1250000, 1925000, 10, 975000, 1725000, 200500, 10, 1475000, 755000, 505986, 180000, 650000, 622500, 698000, 3355000, 945000, 610950, 350000, 380000, 1050000, 815000, 1250000, 999000, 800000, 600000, 215000, 450000, 425000, 365000, 425000, 380000, 525000, 385000, 353000, 575000, 300000, 1466280, 535000, 805000, 951000, 435000, 2650000, 32396000, 605000, 5050000, 18000000, 2050000, 2300000, 570000, 700000, 964334, 603822, 603822, 720000, 383000, 1250000, 2375000, 503500, 1013159, 1013159, 1013159, 880000, 1560000, 925000, 980000, 645840, 775000, 665000, 365000, 760633, 344130, 381000, 272500, 1150000, 1300000, 2650000, 1323725, 999000, 510000, 2899189, 2899189, 610000, 1440000, 2150000, 1490000, 4000000, 840000, 780000, 795000, 599000, 999000, 1140311, 499900, 405000, 420810, 263611, 677136, 738231, 738231, 1999000, 1330000, 1330000, 1454241, 950000, 230000, 615000, 1280000, 950000, 4259949, 4259949, 4259949, 630000, 10, 375000, 1088408, 639461, 395000, 240000, 590000, 349830, 228000, 750000, 672550, 675000, 2900000, 640000, 995000, 1850000, 685000, 7130000, 7130000, 7130000, 9300000, 2121913, 920000, 3100000, 1100000, 37952, 1685000, 1700000, 10250000, 1005000, 540000, 930000, 1300000, 4100000, 975000, 620000, 178000, 600000, 669000, 33500, 499999, 499999, 800000, 100, 15803, 100, 100, 999000, 743436, 441090, 743436, 1481554, 1909219, 1481554, 1800000, 1640000, 893000, 18000, 649644, 1150521, 320000, 300000, 1315000, 415740, 270000, 279400, 262900, 3375000, 4100000, 879000, 1175000, 4100000, 2395000, 575000, 1270000, 1465000, 680000, 1425000, 835000, 525000, 1715000, 2600000, 1678000, 3500000, 1175000, 8950000, 10, 3150000, 1588888, 2100000, 660000, 430950, 700000, 884000, 591100, 800000, 660000, 970000, 641750, 660000, 1100000, 265000, 640000, 640000, 205779, 1375000, 1750000, 1375000, 1488238, 400000, 700000, 618000, 1374638, 972429, 765000, 405000, 621133, 2520169, 1270000, 1485000, 490000, 375901, 685000, 832000, 950000, 1380000, 510000, 1875000, 2075000, 875000, 3400000, 10300000, 1585000, 442145, 170000, 267500, 330000, 670000, 400000, 1750000, 569000, 1640000, 30420, 450000, 2560102, 625000, 800000, 2212973, 2212973, 2212973, 2212973, 2212973, 2212973, 2212973, 2212973, 1013159, 661863, 600768, 412500, 390000, 1, 11000, 2350000, 860000, 2400000, 1100000, 5236177, 7295000, 7295000, 636500, 1585000, 652000, 4381225, 2202170, 660000, 650000, 2100000, 6924100, 975000, 1458000, 770000, 2835000, 660000, 5000000, 120000, 242146, 170000, 715000, 615000, 1017232, 1080000, 2850000, 1800000, 738231, 738231, 605000, 554900, 985000, 655000, 655000, 424000, 265000, 208000, 10, 435000, 480000, 215000, 215000, 215000, 3250000, 975000, 1405000, 1160000, 3032294, 189959, 3650000, 1350000, 501000, 2400000, 9316988, 10200000, 1875000, 578000, 825000, 485000, 1525000, 1450000, 1725000, 895000, 150000, 162240, 900000, 4700000, 875000, 1405000, 1210000, 430000, 430000, 685000, 10, 825000, 1420000, 810000, 710000, 370000, 422000, 1200759, 217500, 1250000, 521000, 875695, 690000, 255000, 147460, 374900, 785000, 3100000, 1150000, 1850000, 26500000, 26500000, 400000, 1075000, 700000, 610000, 2523500, 1647474, 2523500, 342000, 1450000, 20400000, 20400000, 4100000, 1685000, 10495000, 1500000, 375000, 268710, 220000, 509000, 1053889, 181758, 1325000, 405000, 790000, 1995000, 742960, 539673, 45630, 875000, 680000, 12750, 725000, 450000, 693428, 702593, 790000, 2858944, 595000, 4000000, 1345000, 875000, 875000, 356000, 665000, 1150000, 4700000, 1180000, 1200000, 572000, 1950000, 527500, 395000, 740000, 830000, 725000, 2861283, 705000, 2400000, 2400000, 1463868, 898097, 1542500, 1542500, 758397, 1250000, 45000, 700000, 1500000, 540000, 1300000, 1300000, 810000, 738000, 405000, 378000, 347000, 315000, 140000, 4000000, 9270000, 1628475, 1451324, 1085465, 995000, 9700000, 1610000, 9700000, 2275000, 1136500, 658630, 706388, 1595000, 760000, 875000, 1210000, 1512500, 765000, 575000, 2800000, 935000, 369456, 7200000, 13240000, 4900000, 780000, 3900000, 3458907, 785000, 640000, 159500, 125000, 245000, 375180, 1945000, 1770000, 500000, 1200000, 875000, 2000000, 1425000, 1200000, 1487929, 711757, 710000, 850000, 650000, 280000, 280000, 400000, 805000, 993000, 334806, 320000, 350000, 544764, 337000, 529000, 360000, 300000, 395000, 955000, 926608, 555000, 2400000, 189109922, 189109922, 767000, 1550000, 1200000, 712500, 1150000, 1350000, 1610000, 810000, 920000, 1100000, 2400000, 1425550, 1375000, 4750000, 1350000, 9200000, 3650000, 3650000, 177450, 354900, 354900, 15000, 1450000, 599000, 1995000, 439000, 3003838, 1523747, 1400000, 2825000, 850000, 780000, 1295929, 81120, 1800000, 3620000, 1348500, 950000, 3791410, 2482448, 1300000, 1600000, 1420000, 10, 239958219, 695000, 39950, 52500, 3870000, 2847500, 1555000, 5498550, 5854938, 67500, 168000, 749228, 604466, 707684, 725000, 980000, 583661, 1250000, 655000, 240000, 460000, 1939000, 875000, 735000, 619000, 728558, 640794, 809000, 728558, 728558, 641498, 641498, 175000, 270554, 721521, 489000, 687319, 860421, 970000, 1308451, 640000, 550000, 550000, 430000, 536109, 485000, 409000, 205000, 2400000, 1620000, 1395000, 2811000, 439000, 1975000, 2156349, 1410000, 1080000, 540000, 1145000, 6908163, 640000, 730000, 2275000, 175000, 315000, 456300, 800000, 172380, 156156, 707684, 732500, 625000, 420000, 450000, 1775000, 1775000, 712775, 880000, 610000, 630000, 745000, 360000, 1330262, 555000, 555000, 762669, 1120075, 350000, 1075000, 2665000, 1100000, 668000, 527500, 1355000, 1480000, 291031, 490000, 1500000, 775000, 695000, 3552938, 2120000, 521000, 1290000, 2650000, 2650000, 4750000, 11648526, 495000, 64250000, 747500, 780000, 795000, 2750000, 960000, 2400000, 830000, 1000, 355000, 558510, 156156, 1750000, 255000, 300000, 1337045, 712775, 1367364, 1285000, 745000, 1285000, 1631102, 763688, 1267721, 318000, 512066, 4378563, 728049, 760633, 1017232, 428000, 825000, 190000, 210000, 412000, 770000, 2418344, 1379729, 830000, 749000, 680000, 187000, 860000, 1140000, 1750000, 840000, 1750000, 359000, 770000, 411000, 244000, 609000, 609000, 232000, 980000, 648904, 648904, 648904, 312000, 660000, 1467642, 1150000, 648000, 1150000, 648000, 639563, 475000, 967338, 10, 660000, 710000, 1008068, 748414, 39201783, 616041, 4250000, 334000, 330000, 890000, 5920576, 2400000, 1360000, 2025000, 10, 10393988, 30691657, 655000, 200000, 22158995, 1660000, 1090000, 4400000, 2600000, 559000, 830000, 620000, 2050000, 1350000, 1045000, 940000, 476580, 495000, 233000, 160000, 1151989, 651680, 865000, 1669930, 1333908, 899000, 860000, 800000, 600768, 600768, 600768, 1500000, 1350000, 1243750, 480000, 620000, 730000, 35000, 730000, 730000, 656771, 663000, 757464, 379000, 435000, 198000, 379000, 3000000, 984700, 984700, 796000, 515000, 438000, 379000, 796000, 327000, 443000, 274287, 245000, 3250000, 3025000, 515000, 888000, 6650000, 6337305, 940000, 1100000, 2700000, 1367500, 845000, 1220000, 1275813, 2118000, 1927243, 8909688, 12376829, 8000000, 2395000, 732500, 760000, 520000, 30000, 30000, 30000, 30000, 475000, 175000, 160000, 310000, 580000, 681209, 985000, 915407, 580000, 895000, 582500, 690000, 410000, 410000, 920000, 1290000, 335000, 990000, 715000, 1185000, 1100000, 650000, 675000, 1260000, 30420, 2380000, 2380000, 901151, 740000, 400000, 400000, 5750, 5750, 5750, 490000, 253500, 1513688, 1999877, 4722658, 4683950, 963000, 1375000, 1375000, 985000, 1325000, 1190768, 430000, 207241, 6500000, 2180787, 730000, 2250000, 1109500, 999500, 5350000, 1550000, 2600000, 825000, 1400000, 1795000, 350000, 273000, 245000, 165000, 575000, 919480, 679376, 629000, 614000, 140000, 475000, 475000, 4327919, 151086, 156156, 558000, 3075000, 1791345, 478000, 1637346, 855330, 794235, 470000, 665000, 641498, 641498, 665000, 2087413, 1775000, 2087413, 504034, 478578, 504034, 8500000, 544764, 925000, 899000, 568000, 1000, 900000, 711757, 2150000, 770000, 65000, 30548, 30548, 30548, 30420, 516568, 865513, 475000, 530000, 1415368, 120000, 290000, 320000, 249000, 255000, 219000, 2950000, 825000, 560000, 1400000, 1145000, 1400000, 420000, 1795000, 1210000, 1310000, 1250000, 1770000, 905000, 6053000, 3300000, 32000000, 954000, 11350000, 1440000, 1965000, 410000, 620000, 560038, 250000, 1200000, 1200000, 735380, 850000, 1290000, 365040, 238000, 1200000, 988000, 835000, 94000, 10, 1625000, 1550000, 925000, 1155000, 1550000, 621133, 615000, 755542, 643534, 1349181, 1105000, 805000, 615000, 330000, 235000, 233220, 2400000, 10700000, 466000, 124522, 699888, 5312916, 1235000, 1295000, 950000, 1295000, 1295000, 2120710, 1055000, 765000, 1750000, 1369414, 4950000, 4950000, 4950000, 4950000, 2220075, 6000000, 900000, 691595, 919480, 820000, 702593, 2100000, 2100000, 499000, 1325000, 1520000, 615000, 740000, 580000, 744000, 2036500, 2036500, 210000, 260000, 1305000, 2140000, 11100000, 3500000, 2800000, 1650000, 480000, 550000, 33500000, 625000, 8437000, 3250000, 5150000, 12750000, 685000, 3650000, 1585000, 2650000, 1100000, 360000, 1165998, 625000, 625000, 560000, 480000, 1454898, 1454898, 1430000, 900000, 719000, 495000, 220000, 800000, 1189000, 999500, 2117960, 2160000, 2500000, 13500000, 1, 925000, 3869350, 9020030, 138332, 1265000, 3450000, 1340000, 4800000, 1599000, 625000, 3450000, 1275000, 1300000, 2625000, 2237000, 250000, 370110, 220000, 510000, 155000, 641498, 641498, 630000, 1730007, 1207500, 800000, 380000, 10, 2050000, 10, 778961, 585494, 585494, 585494, 525000, 810000, 276058, 3675000, 1200000, 2020000, 1360000, 1262500, 1420459, 1609554, 520000, 2250000, 9164250, 6761138, 4050000, 10750000, 1050000, 1175000, 750000, 5115000, 1285000, 830000, 1795000, 810000, 256551, 370000, 370000, 710000, 185000, 144000, 3600000, 925000, 925000, 952500, 610000, 785000, 700000, 1240000, 488760, 1240000, 10000, 610000, 610000, 358843, 22000, 299000, 1160000, 285000, 335000, 610849, 265000, 830000, 1700000, 938486, 1110038, 2200000, 2184146, 2925260, 2184146, 1500000, 3325000, 620612, 819000, 4000000, 3900000, 995000, 1608000, 1360000, 2495000, 1175000, 470000, 5930000, 725000, 1170988, 1400000, 642000, 210799, 300000, 265000, 172380, 520000, 650000, 629279, 629279, 920000, 865513, 750000, 483900, 750000, 745000, 495000, 223080, 456300, 439062, 392000, 1138646, 1332113, 50000, 762669, 450000, 176766, 428922, 450000, 279000, 245000, 209898, 415000, 405000, 270400, 2155000, 575000, 1060000, 2375000, 2400000, 2035159, 840000, 4799000, 925000, 1700000, 1400000, 2250000, 1350000, 20847174, 20847174, 20847174, 20847174, 20847174, 20847174, 20847174, 805000, 605000, 1950000, 239000, 461370, 919480, 890154, 716848, 919480, 850000, 1565000, 935000, 585494, 5088559, 3600000, 753500, 632000, 915000, 50000, 661863, 456300, 500000, 585494, 560038, 498888, 498888, 780000, 365000, 483678, 483678, 500000, 578173, 277070, 277070, 650000, 270000, 314340, 400000, 388000, 2500000, 2054476, 3640000, 3640000, 950000, 3617788, 895000, 3145000, 36681561, 36681561, 36681561, 36681561, 36681561, 36681561, 36681561, 36681561, 36681561, 36681561, 36681561, 36681561, 36681561, 36681561, 36681561, 520000, 5000000, 5000000, 5000000, 5000000, 905000, 220000, 135000, 1145000, 2100000, 2100000, 678377, 985000, 672045, 585494, 610950, 610950, 534581, 1129000, 660000, 816000, 10, 10, 5000, 5000, 125000, 525000, 2266550, 2800188, 233000, 820000, 273679, 27400, 1835000, 3800000, 765000, 1550000, 4850000, 3950000, 1985588, 2328000, 1841000, 2213853, 398000, 768880, 825518, 712500, 925000, 1328537, 250000, 250000, 919480, 645000, 600000, 410000, 410000, 860000, 578200, 1050000, 1400000, 1465000, 865513, 865513, 727000, 695000, 530000, 590000, 310000, 470000, 1512500, 3790000, 72500, 72500, 415000, 415000, 320000, 3000000, 2080000, 999000, 2016135, 1640000, 4304750, 730000, 1100000, 539000, 1240000, 800000, 1671000, 679376, 580000, 775000, 100000, 590585, 1151550, 790000, 790000, 977000, 445146, 1165000, 651680, 985000, 3350000, 3350000, 1344000, 1300000, 45000, 87000, 866000, 585494, 448695, 140000, 488395, 720000, 550000, 35000, 291500, 230000, 320000, 228000, 299000, 1825000, 4073750, 510000, 920000, 2550000, 2700000, 880000, 1886763, 2750000, 3274128, 2790000, 22808800, 1165000, 1550000, 3935588, 1658000, 39285000, 915000, 1595000, 6540193, 692000, 2451200, 2451200, 2700000, 2750000, 675000, 545000, 275000, 479000, 646589, 630000, 500000, 935000, 870604, 1680000, 1390000, 1585000, 1875000, 668000, 710000, 675000, 430000, 1421745, 485000, 2318063, 859000, 369000, 400000, 405000, 2000000, 1470000, 1470000, 275000, 4130766, 1229000, 860000, 1550000, 1400000, 2025000, 680000, 1455923, 3000000, 15000000, 305218, 22197850, 1797711, 1500000, 8387500, 3589761, 4000000, 4000000, 3580000, 1205000, 115000, 537636, 537636, 631315, 519000, 831000, 660000, 610000, 825000, 825000, 270000, 950000, 950000, 683000, 740000, 770000, 660000, 692000, 419796, 682228, 1088888, 489000, 489000, 300000, 350000, 462500, 1707000, 2900000, 2900000, 6025000, 646000, 1525000, 100044, 5779000, 5779000, 5779000, 5779000, 23386675, 3605000, 1050000, 1420000, 565000, 850000, 250000, 242000, 2010000, 950000, 3000000, 3000000, 3000000, 235884, 242768, 344000, 344000, 344000, 425000, 870000, 25000, 650000, 560000, 840056, 840056, 560000, 570000, 545000, 855000, 2550000, 426000, 228000, 1050000, 1102460, 315000, 405000, 380000, 2475000, 220000, 8000000, 1249000, 1660000, 717500, 1650000, 1580000, 1930000, 1930000, 3488892, 3836438, 2230000, 800000, 857500, 570000, 1250000, 128000, 120000, 450000, 450000, 719000, 365040, 410670, 544764, 1075000, 150000, 442073, 312000, 1170988, 600000, 38000, 500000, 651680, 291000, 453000, 2625000, 1100000, 3765000, 2650000, 2650000, 442500, 610000, 910000, 2355908, 3770275, 2325000, 9857100, 1750000, 545000, 475000, 318977, 256012, 174000, 81000, 405000, 680000, 675000, 1831785, 442000, 1600917, 1375000, 1375000, 1375000, 536000, 705000, 560000, 860000, 492500, 480000, 410000, 410000, 480000, 1268000, 707000, 1390000, 4100000, 650000, 840000, 825000, 510000, 625000, 2732660, 4348750, 5426968, 3488220, 953000, 100, 22503325, 2550000, 1825000, 2900000, 1030000, 2075000, 760000, 220000, 493818, 778961, 715000, 235000, 235000, 675000, 50913, 1365000, 830000, 522500, 640000, 721000, 5151250, 5151250, 500000, 635000, 355000, 3800000, 1731025, 700000, 2325000, 1190000, 7265700, 907500, 900000, 3754250, 1225000, 599000, 2912183, 6720000, 15000000, 1650000, 1995770, 2200000, 2475000, 2420000, 995000, 1525000, 617000, 1785000, 414555, 740000, 660000, 660000, 740000, 740000, 570000, 500000, 200000, 30000, 520000, 887000, 180000, 28000, 365000, 365000, 1500000, 1232000, 2000000, 1170988, 5780000, 1300000, 8350000, 2462824, 950000, 1625000, 1680127, 895000, 1651544, 3050000, 1300000, 1625000, 2065000, 173500, 173500, 1700000, 7561599, 715000, 1035000, 1590000, 785000, 1590000, 180000, 200000, 679376, 597713, 1242265, 615000, 480000, 2900000, 345000, 290000, 2200000, 635000, 635000, 726570, 1254885, 1324577, 656771, 476000, 165000, 959943, 140000, 350000, 2736000, 447500, 132000, 525000, 1180000, 329900, 633309, 1248000, 500000, 500000, 691814, 1695259, 670000, 1037500, 1120000, 825000, 2408576, 7325000, 3150000, 527000, 2717386, 2325860, 4070909, 1350000, 2400000, 4000000, 1807394, 23419750, 950000, 3300000, 5270000, 858000, 6000000, 1480000, 1625000, 2660000, 1570000, 795000, 505000, 154000, 352450, 352450, 10, 585000, 990000, 990000, 1350000, 1362319, 865000, 556000, 498500, 915000, 245000, 920000, 1850000, 598000, 598000, 2393670, 738231, 738231, 530000, 1725000, 1725000, 2160000, 1107838, 595000, 530000, 616500, 1310000, 549000, 205900, 477000, 358412, 307496, 238540, 325469, 209675, 243752, 306294, 295469, 292663, 248964, 280636, 211679, 325469, 603313, 603313, 575000, 307135, 818000, 1087186, 60000, 420000, 48000, 945000, 3400000, 3426116, 3778516, 1325000, 985000, 534355, 850000, 2550000, 2550000, 3175000, 9222957, 938000, 710000, 420000, 4040404, 2200000, 2400000, 1450000, 475000, 160000, 448188, 687319, 687319, 910000, 750000, 808000, 1500000, 1225000, 1575000, 278450, 476580, 722958, 1500000, 1650000, 952981, 450000, 640000, 389000, 1775000, 1600000, 1775000, 563000, 1130000, 1050000, 6250000, 1200000, 700000, 411250, 2112528, 1404094, 1555000, 640000, 685000, 2100000, 2375000, 1900000, 650000, 964334, 733140, 2202170, 937500, 937500, 750000, 750000, 175000, 25000, 500000, 1575000, 845148, 967000, 890969, 30000, 2400000, 2400000, 320000, 664408, 664408, 1612500, 385000, 1800000, 1787029, 1787029, 1200000, 2908669, 1295397, 1530357, 10, 940918, 1114984, 490000, 1754000, 2350000, 1762500, 206000, 141000, 513198, 513198, 804418, 804418, 625000, 1180000, 780000, 420810, 1400000, 1089855, 451230, 451230, 408135, 451230, 451230, 415000, 1818000, 283920, 295000, 809875, 3052603, 1180000, 1791792, 1720000, 1094619, 533786, 802750, 703000, 4937824, 990000, 989898, 4217062, 7250000, 1320000, 475000, 4850000, 1415000, 609000, 680000, 1200000, 505000, 978120, 203589, 140000, 160000, 167310, 702593, 518086, 702593, 919480, 999000, 10, 999000, 490000, 1650000, 18000, 675000, 675000, 975000, 1275000, 147030, 850000, 875695, 414000, 460000, 3000000, 1870000, 481000, 320000, 3825353, 1073163, 1249356, 415000, 2720550, 1547740, 2967184, 2079863, 825000, 4112000, 1675000, 480000, 1800000, 5345000, 450000, 850000, 640000, 850000, 610950, 712775, 515000, 505986, 2113185, 550000, 970000, 899000, 840056, 480636, 480636, 645000, 410670, 975000, 1250000, 10, 10, 950000, 1552831, 950000, 1206775, 21894506, 825000, 999000, 575000, 470000, 2888000, 19600000, 19600000, 1835613, 3237183, 2316949, 1237500, 2500000, 500000, 1140000, 845000, 2000000, 4500000, 4500000, 320000, 161000, 800000, 249000, 656771, 1590000, 1186261, 785000, 147030, 258570, 545000, 545000, 257500, 419500, 630000, 350000, 70000, 630000, 691000, 435000, 85000, 125000, 290000, 390000, 325000, 1550000, 520000, 1410000, 4800000, 19600000, 2518000, 1225000, 5203258, 1100000, 2310086, 2463098, 2090000, 1448915, 2125000, 558450, 10, 1859613, 2255613, 7722000, 12142631, 1040000, 2500000, 1925000, 388758, 630000, 550000, 550000, 890154, 799000, 575201, 1045000, 1100000, 880000, 1373000, 1081382, 2723819, 610000, 570000, 451230, 519308, 361350, 520000, 413500, 265000, 219000, 590000, 7367000, 1185000, 1350000, 1075000, 1250000, 16200000, 2387455, 3849250, 6000000, 860000, 1200000, 3529683, 5250000, 640000, 4975000, 507000, 1800000, 1298269, 475000, 814000, 10, 380000, 252885, 220000, 916425, 916425, 595676, 804000, 720000, 507000, 325000, 325000, 325000, 325000, 850000, 1468000, 740000, 977520, 50913, 405600, 835000, 420000, 1285000, 1750000, 1750000, 1719321, 1750000, 380000, 370000, 610950, 325000, 610950, 460863, 460863, 280000, 1300000, 1234833, 955000, 795000, 830000, 2100000, 356300, 2232500, 2232500, 775000, 1300000, 575000, 1250000, 3800000, 3800000, 10, 1595000, 3990000, 1080000, 5500000, 5500000, 3700000, 1689658, 1750000, 710000, 5884494, 6978763, 975000, 730000, 155000, 677136, 815000, 815000, 955000, 2090000, 1575000, 674082, 625000, 674082, 1578288, 329000, 10000, 75000000, 75000000, 75000000, 75000000, 75000000, 305893, 322330, 295469, 366294, 352330, 280636, 243752, 276089, 352330, 366294, 366294, 276089, 276089, 585494, 585494, 361000, 250500, 405000, 4200000, 580000, 5300000, 1736116, 5885000, 2785000, 1360000, 475000, 66000, 67000, 67000, 775000, 650000, 880000, 600768, 29000000, 6750000, 4800000, 630000, 470000, 990771, 1637812, 455000, 865513, 365000, 365000, 1175000, 1175000, 450000, 910000, 1492000, 1492000, 636406, 636406, 605000, 835000, 1118406, 1118406, 850000, 917500, 5623063, 5623063, 5623063, 5623063, 228000, 485000, 529490, 1650000, 1650000, 489000, 110770, 111540, 202000, 485000, 440000, 300000, 299900, 2250000, 5224735, 1072643, 2700000, 2700000, 1170988, 1359364, 1218000, 4635000, 4500000, 1350000, 2163150, 999999, 1200000, 820000, 575000, 2340634, 2433276, 15900000, 1223000, 725000, 1495000, 1150000, 4000000, 1503332, 1080000, 1503332, 14642392, 2050000, 424770, 3733763, 491790, 3250000, 1750000, 820000, 208000, 1750000, 840000, 3250000, 160000, 220000, 235000, 1500000, 735000, 200000, 200000, 200000, 200000, 420000, 895000, 550000, 610000, 1280000, 1050000, 615000, 1130000, 390000, 195000, 768779, 1650378, 750000, 619000, 451230, 563092, 524399, 30420, 451230, 1550119, 953355, 960000, 960000, 639000, 580000, 1600000, 830000, 595000, 573000, 698520, 595000, 519999, 303000, 157000, 360000, 275000, 855583, 440904, 1040654, 449035, 2621994, 4600000, 710000, 1400094, 2110000, 2495000, 2794755, 3878750, 1195000, 1400000, 765000, 1342999, 2877677, 2200000, 496860, 1080000, 1375000, 4189008, 938486, 450000, 3650000, 2400000, 1135000, 691595, 740000, 2350000, 404586, 4709915, 25500, 630000, 1120129, 898500, 898500, 2790005, 1080000, 314340, 253500, 314340, 325000, 468000, 1770000, 623000, 138000, 55000, 520000, 385320, 299000, 1850000, 661863, 2507195, 5044088, 875000, 538000, 3252046, 2800000, 3825000, 1340000, 2940248, 2823500, 890000, 7150000, 5375000, 5011932, 1255000, 160000, 165000, 247000, 175000, 633000, 983897, 885878, 550000, 515000, 507125, 111540, 111540, 111540, 11044, 609932, 1255000, 600000, 250000, 410670, 690000, 1450000, 885878, 390000, 390000, 3026953, 1800000, 720000, 1217596, 820000, 2608771, 2421419, 860000, 2747934, 1239586, 1267648, 2079194, 2000000, 3900000, 8500000, 1275000, 4350000, 1572895, 1775000, 350000, 1291342, 2575000, 2500000, 95000, 481650, 481000, 71000, 619096, 619096, 742304, 916425, 998903, 530000, 530000, 389000, 707684, 670000, 1350000, 1535000, 1210000, 530000, 755000, 755000, 330000, 303487, 1216551, 1063942, 1063942, 1063942, 977345, 331150, 322330, 1216551, 1216551, 1063942, 295469, 977345, 1216551, 977345, 249297, 1216551, 977345, 553000, 420000, 1216551, 977345, 249297, 1063942, 1216551, 1216551, 553000, 392500, 110000, 549855, 514000, 345000, 1750000, 3915000, 1374638, 2135000, 3050000, 880000, 2397979, 2418003, 2478098, 3350000, 10, 1125000, 23725225, 622500, 2037750, 2037750, 4017483, 3000000, 9718000, 1445000, 577000, 190000, 165000, 93000, 920000, 620000, 1038615, 810000, 555000, 616041, 325000, 442000, 820000, 621133, 621133, 2550000, 3400000, 2350000, 4750000, 3487506, 3800000, 5250000, 1012500, 1875000, 620000, 2125000, 1710000, 3775000, 950000, 4332250, 2442459, 2916076, 1138404, 675000, 4350678, 2525000, 692000, 10, 1935362, 3017500, 1250000, 2350000, 695000, 533000, 609500, 260000, 30038, 1058980, 1058980, 510000, 575000, 1843033, 1700478, 1425550, 1425550, 579000, 223080, 324480, 580000, 1201218, 717866, 424246, 410000, 529490, 616041, 529490, 616041, 430000, 305000, 621133, 580403, 806454, 450000, 455000, 310000, 325000, 295000, 236155, 710000, 1440000, 2205000, 1121629, 2596538, 4429042, 3855850, 2462824, 1645000, 1125000, 1494282, 910000, 1847500, 960000, 520000, 3920263, 4500000, 625000, 1750000, 1750000, 405000, 11245233, 950000, 225252, 200000, 510000, 725000, 896400, 998000, 998000, 958000, 565000, 1400094, 1459500, 570156, 420000, 1395003, 496860, 2800000, 158000, 482512, 900000, 36000, 328000, 2190000, 10, 860000, 375000, 243259, 4100000, 3886358, 2638241, 511925, 1206535, 1213639, 2415798, 3875000, 3875000, 1580000, 263250, 2950000, 2500000, 1612500, 5850000, 2700000, 5400000, 5400000, 645000, 1150000, 3500000, 5500024, 1332592, 421000, 919480, 2483000, 2000000, 1775000, 4634615, 850000, 610521, 2500000, 1776846, 1402684, 570000, 570000, 680000, 1435733, 280000, 550000, 900604, 1513655, 309270, 1211718, 1173738, 847000, 988000, 1340000, 988000, 822000, 725000, 850000, 3868699, 1200000, 2340906, 1154623, 2230000, 1504720, 2710000, 1105000, 1027500, 1562500, 629000, 17188968, 2150000, 1675000, 158000, 255000, 585000, 585000, 585000, 331578, 626224, 529490, 615000, 1275000, 390000, 177902, 1437500, 809509, 618000, 1033524, 507000, 1450844, 850000, 1384888, 1100000, 2650000, 1095000, 20000, 1095000, 350000, 450000, 689000, 510000, 689000, 355000, 245000, 315000, 395000, 395000, 350000, 350000, 1200000, 2500000, 700000, 970000, 643534, 1630218, 5725000, 720000, 2561882, 1282821, 2415000, 1450000, 2685125, 1725000, 1725000, 100, 1300000, 2125000, 570000, 1143500, 442000, 650500, 2100000, 1400000, 955000, 1425000, 1787412, 790000, 897500, 319410, 1640714, 694525, 2330475, 1700000, 490000, 54889, 996103, 990000, 1020000, 730000, 657790, 690000, 565000, 560000, 896060, 896060, 1247356, 850239, 756046, 1250000, 1580000, 32500, 792199, 1397197, 750000, 10000, 10000, 10000, 10000, 10000, 365000, 805000, 1308451, 460000, 260000, 345131, 290000, 301000, 518000, 425000, 874500, 995000, 1500000, 1270000, 3453250, 6094236, 1510000, 1525000, 1540000, 1570000, 606000, 325000, 2341134, 2483689, 2485000, 810000, 1419368, 1250338, 2800000, 849000, 230000, 2916808, 980000, 2800000, 3027375, 2420000, 1500000, 765000, 1230000, 580000, 1325000, 65000, 300000, 725000, 208000, 860676, 110000, 167000, 157750, 175000, 259000, 245000, 670000, 1080000, 730000, 763688, 970000, 970000, 1900000, 1100000, 475000, 2943029, 1100000, 1180000, 1180000, 1069163, 1206626, 805000, 451230, 451230, 445146, 1474000, 1161185, 930000, 1225000, 258570, 314340, 1575000, 521000, 1575000, 1800000, 630000, 960000, 862933, 960000, 640794, 750000, 580000, 1198000, 275000, 660000, 1562117, 30000, 440000, 1945000, 1234833, 644000, 427000, 427000, 253500, 949000, 4683950, 5600000, 1100000, 2350000, 675000, 1486645, 1734080, 999500, 2315428, 590000, 2050000, 735000, 1769020, 982500, 1975000, 2085000, 3550000, 1525000, 600000, 2600000, 2600000, 575000, 492000, 305000, 183000, 177450, 1650000, 583000, 500000, 995000, 1176000, 635000, 860421, 300000, 686000, 686000, 824330, 628000, 628000, 408642, 604000, 738000, 800000, 1225800, 885000, 1750000, 2335000, 2335000, 18000000, 17503718, 16939575, 1285000, 2138325, 848000, 2797158, 2185613, 1320000, 3050000, 1780000, 835000, 1135349, 2871722, 1279400, 834965, 834965, 880000, 560038, 946973, 312500, 850000, 2150000, 480000, 1112500, 1099710, 2250333, 950000, 688000, 1985588, 1175000, 543500, 972429, 275000, 250000, 250000, 445000, 930000, 1400000, 1248000, 935000, 7032914, 10, 4047500, 1220000, 2779981, 1196576, 67500, 6400000, 3150000, 1526043, 3693877, 2399999, 1445000, 5450000, 585494, 1078000, 10, 10, 540000, 1405185, 1272813, 270000, 270000, 722958, 722958, 790000, 790000, 1740000, 780000, 631000, 350000, 20000, 20000, 515000, 634370, 369000, 6150000, 3925000, 3568329, 1674003, 2239809, 1266630, 1350000, 34365938, 10, 3590000, 5655000, 1404586, 1828323, 750000, 5550000, 1055000, 739250, 739250, 651680, 548837, 907203, 1451000, 999000, 565000, 1761573, 1079345, 1619018, 170000, 462384, 529490, 462384, 629000, 10, 655000, 3614788, 1475000, 692410, 2036500, 3467141, 405000, 2390454, 3934195, 2160000, 748414, 1600000, 65000, 1357500, 3017500, 3486768, 12200000, 200000000, 480129, 6500000, 875000, 3450000, 10000000, 13550000, 4468823, 1137385, 1069163, 3075000, 1875000, 1875000, 1751201, 4750000, 432000, 505000, 520000, 420000, 290000, 457000, 390000, 749228, 609932, 609932, 879000, 955000, 739000, 739000, 1007049, 1781938, 300000, 630000, 630000, 1045000, 700000, 555000, 475000, 485000, 390000, 160000, 486720, 2369575, 390000, 405680, 485000, 335000, 370000, 7636875, 1751390, 23278631, 1900000, 1395134, 1215718, 1934675, 475000, 1695000, 688000, 1150000, 1020000, 785000, 1175000, 982500, 3850000, 1530375, 989627, 1095000, 875000, 514000, 701999, 1000859, 295000, 115000, 691595, 691595, 691595, 720921, 560038, 720921, 763688, 1557923, 1557923, 960000, 600000, 29620207, 29620207, 29620207, 29620207, 29620207, 29620207, 29620207, 29620207, 29620207, 29620207, 29620207, 29620207, 29620207, 29620207, 29620207, 29620207, 29620207, 29620207, 29620207, 29620207, 29620207, 29620207, 29620207, 29620207, 29620207, 29620207, 29620207, 29620207, 29620207, 29620207, 29620207, 29620207, 29620207, 29620207, 29620207, 29620207, 29620207, 29620207, 29620207, 29620207, 29620207, 29620207, 29620207, 1891241, 535000, 1190000, 968263, 1043466, 978264, 628000, 919394, 315000, 2440000, 3350000, 6600000, 919500, 10, 1299000, 4900000, 4900000, 4900000, 2264265, 3940633, 19603872, 720000, 930000, 1450000, 1375000, 910000, 865000, 1910000, 955000, 2150000, 5149788, 740000, 770000, 12240000, 12240000, 38760000, 4044002, 1728684, 3029367, 4758354, 5250000, 420810, 329000, 526435, 130000, 230000, 691595, 1900000, 35490, 800000, 763688, 2400000, 820000, 1170988, 600000, 1250000, 741286, 741286, 815000, 1109893, 1624109, 735000, 650000, 650000, 967338, 580000, 631000, 824783, 824783, 755000, 457000, 277500, 821728, 1700000, 3650000, 1215000, 1400000, 1358193, 2497955, 2478750, 625000, 989000, 1260000, 415000, 2160613, 3400000, 3175000, 800000, 952500, 821423, 1070000, 2189238, 872500, 1900000, 2795000, 2760367, 219024, 470000, 995000, 995000, 814600, 6400000, 552200, 992794, 552200, 486720, 590000, 340000, 1563014, 780000, 825000, 975000, 1053725, 745000, 225000, 720000, 720000, 466440, 22000, 550000, 456300, 370000, 425000, 645000, 1095000, 1075000, 1100000, 815000, 3538419, 2080000, 1075000, 4150000, 2150000, 672000, 2502606, 4382813, 6288775, 2560000, 2000000, 3268537, 2200000, 945000, 1205000, 2223058, 2405221, 710000, 2700000, 4100000, 153500, 1795000, 2190000, 2190000, 915000, 3420705, 2795965, 2741445, 547309, 911334, 441090, 599000, 703407, 540000, 921516, 750000, 525000, 2200000, 820000, 1249000, 490000, 490000, 481650, 3550000, 10, 492424, 987000, 420810, 565129, 508000, 508000, 1323725, 418000, 820000, 359970, 280000, 6400000, 2845000, 1145000, 1635000, 1700478, 1545000, 533500, 4581135, 1825000, 780000, 999900, 2162440, 2213853, 1150000, 1555062, 2200000, 2200000, 1560000, 3071560, 2279950, 895000, 1450000, 2775000, 910000, 1591671, 3431806, 1028931, 170000, 174000, 159000, 875000, 999000, 805000, 685000, 705378, 1100000, 1100000, 1100000, 1542649, 1720843, 1235000, 1400000, 1030000, 2151080, 4160000, 2000000, 971860, 4160000, 20000, 908000, 590000, 590000, 1600000, 25000, 460000, 695465, 710000, 225000, 470000, 10, 10, 1565000, 561000, 2200000, 460000, 1198357, 1355000, 945000, 1456098, 2446647, 3812505, 2763708, 2306258, 917000, 550000, 3316808, 1820000, 3635000, 8400000, 814000, 749000, 875000, 312000, 3920263, 2235059, 170000, 220000, 625000, 625000, 750000, 410000, 748414, 738231, 700000, 900000, 799000, 440000, 1916328, 999000, 1155714, 745000, 748414, 748414, 536618, 536618, 510000, 860000, 1163000, 3049659, 726737, 209675, 605859, 605859, 569202, 392000, 955000, 6400000, 3340000, 2325000, 1575000, 2670000, 9750000, 595000, 1075000, 2513736, 3924250, 25000000, 1221900, 15985997, 13014003, 835000, 2991808, 1100000, 1700000, 526549, 650000, 840000, 1745000, 2150000, 2163781, 7500000, 2300000, 1300000, 467500, 1725000, 285000, 3825126, 730000, 250000, 175000, 722958, 692410, 892000, 409000, 2400000, 1090000, 935000, 1210684, 1428506, 1634291, 1221900, 1221900, 485000, 1075000, 2189238, 1207000, 665000, 675000, 1207000, 1960131, 1270000, 851000, 403000, 2160000, 2050000, 7550000, 3350000, 1300000, 1395003, 4173771, 4516285, 2723774, 820000, 2386955, 2448550, 860000, 4750000, 4750000, 6300000, 6300000, 800001, 6387550, 6387550, 1820597, 3587183, 985000, 983747, 400000, 1685204, 1105000, 445000, 3563875, 165000, 167000, 405600, 875000, 840000, 692410, 2650000, 260000, 595000, 595000, 2128143, 1682275, 777000, 720000, 720000, 544764, 1630807, 880000, 750000, 625000, 1091920, 400000, 995594, 366000, 366000, 425000, 785000, 1780000, 4323858, 415000, 2931713, 2315428, 1431791, 1040000, 1405885, 2150362, 2550000, 5185780, 5093057, 5800000, 4800000, 12040000, 995000, 725000, 1775000, 590000, 1275000, 8964200, 8709288, 763688, 196500, 525000, 684000, 794235, 946973, 425880, 1320000, 1320000, 1275000, 1884000, 920000, 2300000, 1216809, 1050088, 1610000, 1610000, 2214694, 1813148, 715000, 1813148, 1813148, 1765000, 923500, 1475000, 925000, 630000, 490000, 438000, 1255555, 4200000, 1075000, 3017770, 770000, 3850000, 1800000, 10, 4559635, 960000, 510000, 1550000, 2031409, 750000, 172000, 900000, 900000, 549000, 1600000, 715000, 1542649, 524399, 448188, 448188, 505000, 1298269, 1201535, 1298269, 1298269, 2475000, 630000, 451230, 560038, 640000, 1475000, 4782960, 1940000, 1416313, 1360565, 5650000, 950000, 740000, 19855875, 1725000, 1950000, 998000, 1600000, 4600000, 915000, 700000, 1742864, 2650000, 1850000, 1800000, 307000, 1245000, 175000, 668990, 2179000, 2179000, 2179000, 993466, 1300000, 785000, 1700000, 3900000, 1325000, 1850000, 520000, 2650000, 2885000, 3275000, 3275000, 1400000, 620000, 760000, 849243, 1271721, 3175000, 795000, 4499000, 3066808, 4243222, 750000, 2700000, 500000, 395000, 1850000, 2235059, 1850000, 178000, 960000, 960000, 1654656, 695000, 677136, 680000, 890000, 1318634, 1940785, 2824357, 2675411, 4825848, 1500000, 2489871, 3975657, 1221421, 1150296, 1231715, 60000, 1350000, 660000, 1905000, 2325000, 1150403, 5761259, 1135000, 2725000, 863218, 1430000, 455000, 455000, 9676975, 312312, 312312, 1950000, 1950000, 1150000, 3280000, 1635000, 95000, 150000, 150000, 1635000, 813707, 865637, 813707, 645000, 1925000, 192660, 1577778, 1577778, 90000, 1295000, 10, 610000, 280000, 100, 83870, 607500, 2210000, 7079588, 1827759, 965000, 1350000, 2545625, 2609266, 629000, 1225000, 675000, 1164817, 1100000, 5600000, 2500000, 1125000, 1730000, 1218392, 997885, 1730000, 1730000, 570000, 1600000, 81120, 2300000, 2591446, 1685000, 70000, 100000, 597000, 580000, 350000, 580000, 1500000, 470000, 470000, 369096, 833895, 1083238, 795000, 795000, 715000, 950000, 735000, 575000, 1454061, 3450000, 2489621, 2900671, 2250000, 1301000, 750000, 2600000, 3250000, 3179600, 900000, 870000, 2450000, 1350000, 632000, 870000, 775000, 5000000, 810000, 303901, 928000, 200000, 220000, 7000000, 7000000, 1375000, 156156, 738231, 1573196, 2545000, 2550000, 3362500, 800000, 800000, 1310000, 1475000, 25000, 25000, 1370800, 1512804, 1749409, 775000, 775000, 463500, 1250000, 222000, 265000, 999100, 1688000, 2275000, 3065000, 1802303, 1522284, 845000, 1850000, 660000, 5023050, 1246062, 437500, 993950, 2395000, 2600000, 605000, 750000, 995000, 2650000, 1125000, 4765019, 720000, 1, 1, 153114, 395000, 770000, 1062500, 862800, 999000, 355000, 1734080, 575000, 770000, 1588470, 1950000, 1950000, 540000, 676000, 440000, 480000, 570000, 450000, 495000, 495000, 544764, 850000, 1750000, 1985000, 1200000, 1150000, 1525000, 4926989, 5400000, 1775000, 3600000, 960000, 975000, 1070000, 1950000, 800000, 860000, 1909408, 615000, 3431025, 900000, 675000, 200000, 626224, 626224, 950000, 730000, 922500, 1275000, 589000, 480000, 480000, 1135000, 1825000, 2200000, 375000, 384000, 663000, 575000, 575000, 560000, 892500, 569202], \"yaxis\": \"y\"}, {\"hoverlabel\": {\"namelength\": 0}, \"hovertemplate\": \"<b>OLS trendline</b><br>sale_price = 51.562505 * gross_square_feet + 2142600.324270<br>R<sup>2</sup>=0.021211<br><br>gross_square_feet=%{x}<br>sale_price=%{y} <b>(trend)</b>\", \"legendgroup\": \"\", \"marker\": {\"color\": \"#636efa\", \"symbol\": \"circle\"}, \"mode\": \"lines\", \"name\": \"\", \"showlegend\": false, \"type\": \"scattergl\", \"x\": [0.0, 0.0, 0.0, 0.0, 0.0, 0.0, 0.0, 0.0, 0.0, 0.0, 0.0, 0.0, 0.0, 0.0, 0.0, 0.0, 0.0, 0.0, 0.0, 0.0, 0.0, 0.0, 0.0, 0.0, 0.0, 0.0, 0.0, 0.0, 0.0, 0.0, 0.0, 0.0, 0.0, 0.0, 0.0, 0.0, 0.0, 0.0, 0.0, 0.0, 0.0, 0.0, 0.0, 0.0, 0.0, 0.0, 0.0, 0.0, 0.0, 0.0, 0.0, 0.0, 0.0, 0.0, 0.0, 0.0, 0.0, 0.0, 0.0, 0.0, 0.0, 0.0, 0.0, 0.0, 0.0, 0.0, 0.0, 0.0, 0.0, 0.0, 0.0, 0.0, 0.0, 0.0, 0.0, 0.0, 0.0, 0.0, 0.0, 0.0, 0.0, 0.0, 0.0, 0.0, 0.0, 0.0, 0.0, 0.0, 0.0, 0.0, 0.0, 0.0, 0.0, 0.0, 0.0, 0.0, 0.0, 0.0, 0.0, 0.0, 0.0, 0.0, 0.0, 0.0, 0.0, 0.0, 0.0, 0.0, 0.0, 0.0, 0.0, 0.0, 0.0, 0.0, 0.0, 0.0, 0.0, 0.0, 0.0, 0.0, 0.0, 0.0, 0.0, 0.0, 0.0, 0.0, 0.0, 0.0, 0.0, 0.0, 0.0, 0.0, 0.0, 0.0, 0.0, 0.0, 0.0, 0.0, 0.0, 0.0, 0.0, 0.0, 0.0, 0.0, 0.0, 0.0, 0.0, 0.0, 0.0, 0.0, 0.0, 0.0, 0.0, 0.0, 0.0, 0.0, 0.0, 0.0, 0.0, 0.0, 0.0, 0.0, 0.0, 0.0, 0.0, 0.0, 0.0, 0.0, 0.0, 0.0, 0.0, 0.0, 0.0, 0.0, 0.0, 0.0, 0.0, 0.0, 0.0, 0.0, 0.0, 0.0, 0.0, 0.0, 0.0, 0.0, 0.0, 0.0, 0.0, 0.0, 0.0, 0.0, 0.0, 0.0, 0.0, 0.0, 0.0, 0.0, 0.0, 0.0, 0.0, 0.0, 0.0, 0.0, 0.0, 0.0, 0.0, 0.0, 0.0, 0.0, 0.0, 0.0, 0.0, 0.0, 0.0, 0.0, 0.0, 0.0, 0.0, 0.0, 0.0, 0.0, 0.0, 0.0, 0.0, 0.0, 0.0, 0.0, 0.0, 0.0, 0.0, 0.0, 0.0, 0.0, 0.0, 0.0, 0.0, 0.0, 0.0, 0.0, 0.0, 0.0, 0.0, 0.0, 0.0, 0.0, 0.0, 0.0, 0.0, 0.0, 0.0, 0.0, 0.0, 0.0, 0.0, 0.0, 0.0, 0.0, 0.0, 0.0, 0.0, 0.0, 0.0, 0.0, 0.0, 0.0, 0.0, 0.0, 0.0, 0.0, 0.0, 0.0, 0.0, 0.0, 0.0, 0.0, 0.0, 0.0, 0.0, 0.0, 0.0, 0.0, 0.0, 0.0, 0.0, 0.0, 0.0, 0.0, 0.0, 0.0, 0.0, 0.0, 0.0, 0.0, 0.0, 0.0, 0.0, 0.0, 0.0, 0.0, 0.0, 0.0, 0.0, 0.0, 0.0, 0.0, 0.0, 0.0, 0.0, 0.0, 0.0, 0.0, 0.0, 0.0, 0.0, 0.0, 0.0, 0.0, 0.0, 0.0, 0.0, 0.0, 0.0, 0.0, 0.0, 0.0, 0.0, 0.0, 0.0, 0.0, 0.0, 0.0, 0.0, 0.0, 0.0, 0.0, 0.0, 0.0, 0.0, 0.0, 0.0, 0.0, 0.0, 0.0, 0.0, 0.0, 0.0, 0.0, 0.0, 0.0, 0.0, 0.0, 0.0, 0.0, 0.0, 0.0, 0.0, 0.0, 0.0, 0.0, 0.0, 0.0, 0.0, 0.0, 0.0, 0.0, 0.0, 0.0, 0.0, 0.0, 0.0, 0.0, 0.0, 0.0, 0.0, 0.0, 0.0, 0.0, 0.0, 0.0, 0.0, 0.0, 0.0, 0.0, 0.0, 0.0, 0.0, 0.0, 0.0, 0.0, 0.0, 0.0, 0.0, 0.0, 0.0, 0.0, 0.0, 0.0, 0.0, 0.0, 0.0, 0.0, 0.0, 0.0, 0.0, 0.0, 0.0, 0.0, 0.0, 0.0, 0.0, 0.0, 0.0, 0.0, 0.0, 0.0, 0.0, 0.0, 0.0, 0.0, 0.0, 0.0, 0.0, 0.0, 0.0, 0.0, 0.0, 0.0, 0.0, 0.0, 0.0, 0.0, 0.0, 0.0, 0.0, 0.0, 0.0, 0.0, 0.0, 0.0, 0.0, 0.0, 0.0, 0.0, 0.0, 0.0, 0.0, 0.0, 0.0, 0.0, 0.0, 0.0, 0.0, 0.0, 0.0, 0.0, 0.0, 0.0, 0.0, 0.0, 0.0, 0.0, 0.0, 0.0, 0.0, 0.0, 0.0, 0.0, 0.0, 0.0, 0.0, 0.0, 0.0, 0.0, 0.0, 0.0, 0.0, 0.0, 0.0, 0.0, 0.0, 0.0, 0.0, 0.0, 0.0, 0.0, 0.0, 0.0, 0.0, 0.0, 0.0, 0.0, 0.0, 0.0, 0.0, 0.0, 0.0, 0.0, 0.0, 0.0, 0.0, 0.0, 0.0, 0.0, 0.0, 0.0, 0.0, 0.0, 0.0, 0.0, 0.0, 0.0, 0.0, 0.0, 0.0, 0.0, 0.0, 0.0, 0.0, 0.0, 0.0, 0.0, 0.0, 0.0, 0.0, 0.0, 0.0, 0.0, 0.0, 0.0, 0.0, 0.0, 0.0, 0.0, 0.0, 0.0, 0.0, 0.0, 0.0, 0.0, 0.0, 0.0, 0.0, 0.0, 0.0, 0.0, 0.0, 0.0, 0.0, 0.0, 0.0, 0.0, 0.0, 0.0, 0.0, 0.0, 0.0, 0.0, 0.0, 0.0, 0.0, 0.0, 0.0, 0.0, 0.0, 0.0, 2.0, 47.0, 80.0, 112.0, 135.0, 135.0, 140.0, 141.0, 144.0, 144.0, 144.0, 144.0, 144.0, 144.0, 145.0, 150.0, 151.0, 153.0, 153.0, 153.0, 153.0, 153.0, 153.0, 153.0, 153.0, 153.0, 153.0, 153.0, 153.0, 153.0, 153.0, 153.0, 153.0, 153.0, 153.0, 153.0, 153.0, 153.0, 153.0, 153.0, 153.0, 153.0, 153.0, 153.0, 153.0, 153.0, 153.0, 153.0, 153.0, 153.0, 153.0, 153.0, 153.0, 153.0, 153.0, 153.0, 153.0, 153.0, 153.0, 153.0, 153.0, 153.0, 153.0, 153.0, 153.0, 153.0, 153.0, 153.0, 153.0, 153.0, 153.0, 153.0, 153.0, 153.0, 153.0, 153.0, 153.0, 153.0, 153.0, 153.0, 153.0, 153.0, 153.0, 153.0, 153.0, 153.0, 153.0, 153.0, 153.0, 153.0, 153.0, 153.0, 153.0, 153.0, 153.0, 153.0, 153.0, 153.0, 153.0, 153.0, 153.0, 153.0, 153.0, 153.0, 153.0, 153.0, 155.0, 157.0, 160.0, 162.0, 162.0, 162.0, 162.0, 162.0, 162.0, 162.0, 162.0, 162.0, 162.0, 168.0, 170.0, 171.0, 171.0, 174.0, 181.0, 181.0, 185.0, 185.0, 185.0, 186.0, 186.0, 186.0, 186.0, 189.0, 190.0, 192.0, 197.0, 198.0, 200.0, 200.0, 200.0, 200.0, 200.0, 207.0, 209.0, 220.0, 237.0, 248.0, 251.0, 297.0, 305.0, 306.0, 308.0, 330.0, 335.0, 338.0, 340.0, 346.0, 349.0, 349.0, 349.0, 353.0, 355.0, 368.0, 373.0, 376.0, 379.0, 380.0, 380.0, 384.0, 387.0, 389.0, 389.0, 390.0, 390.0, 391.0, 392.0, 396.0, 396.0, 398.0, 400.0, 402.0, 404.0, 404.0, 405.0, 407.0, 409.0, 410.0, 414.0, 415.0, 416.0, 417.0, 417.0, 417.0, 420.0, 420.0, 422.0, 422.0, 431.0, 432.0, 432.0, 433.0, 433.0, 434.0, 434.0, 435.0, 435.0, 435.0, 435.0, 438.0, 440.0, 440.0, 440.0, 440.0, 440.0, 443.0, 444.0, 444.0, 444.0, 445.0, 445.0, 446.0, 446.0, 447.0, 447.0, 448.0, 448.0, 448.0, 449.0, 449.0, 449.0, 450.0, 450.0, 453.0, 453.0, 453.0, 453.0, 455.0, 456.0, 457.0, 458.0, 458.0, 458.0, 458.0, 459.0, 459.0, 461.0, 461.0, 462.0, 462.0, 463.0, 464.0, 465.0, 470.0, 472.0, 472.0, 474.0, 474.0, 475.0, 475.0, 475.0, 477.0, 479.0, 479.0, 480.0, 480.0, 484.0, 484.0, 484.0, 485.0, 485.0, 485.0, 486.0, 487.0, 487.0, 488.0, 488.0, 489.0, 489.0, 489.0, 490.0, 491.0, 491.0, 492.0, 493.0, 493.0, 493.0, 493.0, 494.0, 494.0, 495.0, 495.0, 496.0, 497.0, 498.0, 498.0, 500.0, 500.0, 500.0, 500.0, 500.0, 501.0, 503.0, 503.0, 503.0, 504.0, 504.0, 504.0, 504.0, 504.0, 504.0, 505.0, 506.0, 506.0, 507.0, 508.0, 509.0, 510.0, 510.0, 510.0, 511.0, 512.0, 512.0, 512.0, 512.0, 512.0, 513.0, 513.0, 513.0, 513.0, 513.0, 514.0, 514.0, 514.0, 514.0, 515.0, 516.0, 516.0, 517.0, 517.0, 518.0, 518.0, 518.0, 519.0, 522.0, 523.0, 523.0, 523.0, 523.0, 523.0, 523.0, 523.0, 524.0, 525.0, 525.0, 525.0, 526.0, 527.0, 527.0, 528.0, 528.0, 528.0, 528.0, 529.0, 530.0, 530.0, 530.0, 530.0, 531.0, 534.0, 535.0, 535.0, 536.0, 537.0, 537.0, 537.0, 537.0, 539.0, 539.0, 540.0, 540.0, 542.0, 543.0, 544.0, 545.0, 545.0, 545.0, 545.0, 545.0, 546.0, 547.0, 548.0, 548.0, 550.0, 550.0, 551.0, 554.0, 555.0, 558.0, 559.0, 559.0, 560.0, 560.0, 561.0, 561.0, 561.0, 561.0, 562.0, 564.0, 565.0, 565.0, 565.0, 565.0, 565.0, 565.0, 565.0, 566.0, 567.0, 569.0, 569.0, 569.0, 570.0, 570.0, 570.0, 571.0, 571.0, 571.0, 571.0, 572.0, 572.0, 572.0, 573.0, 574.0, 574.0, 574.0, 574.0, 575.0, 575.0, 575.0, 576.0, 576.0, 577.0, 578.0, 579.0, 579.0, 580.0, 580.0, 580.0, 580.0, 580.0, 580.0, 581.0, 581.0, 582.0, 584.0, 585.0, 585.0, 585.0, 585.0, 585.0, 589.0, 589.0, 589.0, 589.0, 589.0, 589.0, 589.0, 589.0, 590.0, 590.0, 591.0, 591.0, 591.0, 591.0, 594.0, 594.0, 595.0, 595.0, 595.0, 595.0, 596.0, 598.0, 599.0, 599.0, 599.0, 599.0, 599.0, 599.0, 600.0, 600.0, 600.0, 603.0, 603.0, 603.0, 604.0, 604.0, 604.0, 605.0, 605.0, 605.0, 605.0, 605.0, 606.0, 606.0, 606.0, 606.0, 606.0, 606.0, 606.0, 607.0, 608.0, 608.0, 608.0, 608.0, 608.0, 608.0, 609.0, 610.0, 610.0, 611.0, 611.0, 612.0, 612.0, 612.0, 613.0, 613.0, 613.0, 613.0, 613.0, 613.0, 613.0, 613.0, 613.0, 613.0, 613.0, 613.0, 613.0, 613.0, 613.0, 613.0, 613.0, 615.0, 615.0, 615.0, 615.0, 615.0, 615.0, 616.0, 616.0, 616.0, 616.0, 616.0, 616.0, 616.0, 617.0, 618.0, 618.0, 618.0, 618.0, 618.0, 618.0, 618.0, 619.0, 619.0, 619.0, 621.0, 621.0, 621.0, 621.0, 622.0, 622.0, 622.0, 622.0, 623.0, 623.0, 623.0, 623.0, 623.0, 623.0, 623.0, 623.0, 624.0, 624.0, 625.0, 625.0, 625.0, 625.0, 626.0, 626.0, 626.0, 627.0, 627.0, 627.0, 628.0, 628.0, 629.0, 629.0, 629.0, 629.0, 630.0, 630.0, 630.0, 630.0, 631.0, 631.0, 631.0, 632.0, 632.0, 632.0, 633.0, 633.0, 633.0, 633.0, 634.0, 634.0, 634.0, 634.0, 634.0, 634.0, 635.0, 635.0, 635.0, 635.0, 635.0, 635.0, 636.0, 636.0, 636.0, 636.0, 636.0, 637.0, 637.0, 638.0, 638.0, 638.0, 638.0, 638.0, 638.0, 638.0, 639.0, 639.0, 639.0, 639.0, 640.0, 640.0, 640.0, 640.0, 640.0, 640.0, 640.0, 641.0, 642.0, 642.0, 643.0, 643.0, 643.0, 643.0, 643.0, 645.0, 645.0, 646.0, 646.0, 647.0, 647.0, 648.0, 648.0, 648.0, 648.0, 649.0, 649.0, 649.0, 650.0, 650.0, 650.0, 650.0, 650.0, 650.0, 650.0, 650.0, 651.0, 651.0, 651.0, 652.0, 653.0, 653.0, 653.0, 654.0, 654.0, 655.0, 655.0, 655.0, 655.0, 656.0, 656.0, 656.0, 656.0, 656.0, 657.0, 657.0, 657.0, 657.0, 657.0, 658.0, 658.0, 658.0, 658.0, 659.0, 659.0, 660.0, 660.0, 661.0, 661.0, 661.0, 661.0, 661.0, 661.0, 661.0, 661.0, 662.0, 662.0, 663.0, 663.0, 664.0, 665.0, 666.0, 666.0, 666.0, 666.0, 666.0, 666.0, 666.0, 667.0, 667.0, 667.0, 668.0, 668.0, 668.0, 669.0, 669.0, 670.0, 670.0, 670.0, 670.0, 670.0, 670.0, 670.0, 670.0, 670.0, 671.0, 671.0, 671.0, 672.0, 672.0, 672.0, 672.0, 672.0, 673.0, 673.0, 675.0, 675.0, 676.0, 676.0, 676.0, 677.0, 678.0, 678.0, 678.0, 678.0, 678.0, 678.0, 678.0, 679.0, 679.0, 679.0, 680.0, 680.0, 680.0, 680.0, 680.0, 681.0, 681.0, 681.0, 681.0, 682.0, 682.0, 682.0, 682.0, 683.0, 683.0, 684.0, 685.0, 685.0, 685.0, 685.0, 685.0, 686.0, 686.0, 686.0, 686.0, 686.0, 687.0, 687.0, 688.0, 689.0, 689.0, 689.0, 689.0, 689.0, 689.0, 689.0, 689.0, 690.0, 690.0, 691.0, 691.0, 691.0, 692.0, 692.0, 692.0, 693.0, 693.0, 694.0, 694.0, 694.0, 694.0, 694.0, 694.0, 695.0, 695.0, 695.0, 695.0, 695.0, 695.0, 695.0, 695.0, 695.0, 695.0, 695.0, 695.0, 695.0, 695.0, 695.0, 695.0, 696.0, 696.0, 696.0, 696.0, 696.0, 696.0, 696.0, 696.0, 696.0, 696.0, 696.0, 697.0, 698.0, 698.0, 698.0, 698.0, 698.0, 698.0, 698.0, 698.0, 698.0, 698.0, 698.0, 698.0, 698.0, 698.0, 698.0, 698.0, 698.0, 699.0, 699.0, 699.0, 699.0, 699.0, 699.0, 699.0, 699.0, 699.0, 699.0, 699.0, 700.0, 700.0, 700.0, 700.0, 700.0, 700.0, 700.0, 701.0, 701.0, 701.0, 703.0, 704.0, 704.0, 704.0, 705.0, 705.0, 706.0, 706.0, 706.0, 706.0, 706.0, 707.0, 707.0, 707.0, 707.0, 708.0, 708.0, 708.0, 709.0, 709.0, 710.0, 710.0, 710.0, 710.0, 713.0, 713.0, 713.0, 714.0, 715.0, 715.0, 715.0, 715.0, 715.0, 715.0, 715.0, 716.0, 717.0, 717.0, 717.0, 717.0, 718.0, 718.0, 718.0, 718.0, 719.0, 719.0, 720.0, 720.0, 720.0, 720.0, 720.0, 720.0, 720.0, 721.0, 721.0, 721.0, 723.0, 723.0, 723.0, 723.0, 723.0, 723.0, 723.0, 723.0, 723.0, 723.0, 723.0, 723.0, 723.0, 723.0, 723.0, 724.0, 724.0, 725.0, 725.0, 725.0, 725.0, 726.0, 726.0, 726.0, 726.0, 726.0, 726.0, 726.0, 726.0, 727.0, 727.0, 727.0, 728.0, 728.0, 728.0, 728.0, 728.0, 729.0, 729.0, 729.0, 729.0, 729.0, 730.0, 730.0, 730.0, 730.0, 730.0, 731.0, 731.0, 731.0, 731.0, 732.0, 732.0, 732.0, 732.0, 732.0, 733.0, 733.0, 733.0, 733.0, 733.0, 733.0, 734.0, 735.0, 735.0, 735.0, 735.0, 735.0, 735.0, 737.0, 737.0, 737.0, 737.0, 737.0, 737.0, 739.0, 739.0, 740.0, 741.0, 741.0, 741.0, 741.0, 741.0, 741.0, 741.0, 741.0, 742.0, 743.0, 743.0, 744.0, 745.0, 745.0, 746.0, 746.0, 746.0, 746.0, 746.0, 747.0, 747.0, 747.0, 748.0, 748.0, 748.0, 749.0, 749.0, 749.0, 749.0, 750.0, 750.0, 750.0, 750.0, 750.0, 751.0, 751.0, 751.0, 753.0, 753.0, 753.0, 754.0, 754.0, 754.0, 754.0, 754.0, 755.0, 755.0, 755.0, 755.0, 755.0, 755.0, 755.0, 756.0, 756.0, 756.0, 756.0, 756.0, 757.0, 757.0, 757.0, 757.0, 757.0, 757.0, 757.0, 757.0, 758.0, 759.0, 759.0, 759.0, 760.0, 760.0, 761.0, 761.0, 761.0, 761.0, 761.0, 762.0, 762.0, 762.0, 763.0, 763.0, 763.0, 763.0, 763.0, 763.0, 763.0, 764.0, 764.0, 764.0, 765.0, 765.0, 765.0, 765.0, 765.0, 766.0, 766.0, 766.0, 767.0, 767.0, 767.0, 768.0, 768.0, 769.0, 769.0, 769.0, 770.0, 770.0, 770.0, 771.0, 771.0, 771.0, 773.0, 773.0, 774.0, 775.0, 776.0, 776.0, 776.0, 776.0, 777.0, 777.0, 778.0, 778.0, 778.0, 778.0, 778.0, 779.0, 779.0, 779.0, 779.0, 780.0, 780.0, 780.0, 780.0, 780.0, 780.0, 781.0, 782.0, 782.0, 782.0, 782.0, 782.0, 782.0, 783.0, 783.0, 783.0, 783.0, 783.0, 783.0, 784.0, 785.0, 785.0, 785.0, 786.0, 786.0, 786.0, 787.0, 787.0, 787.0, 787.0, 787.0, 787.0, 787.0, 788.0, 788.0, 788.0, 788.0, 788.0, 788.0, 788.0, 788.0, 789.0, 789.0, 789.0, 790.0, 790.0, 791.0, 791.0, 791.0, 791.0, 791.0, 792.0, 793.0, 793.0, 794.0, 794.0, 794.0, 795.0, 795.0, 796.0, 796.0, 796.0, 796.0, 796.0, 796.0, 796.0, 798.0, 798.0, 798.0, 798.0, 799.0, 799.0, 800.0, 800.0, 800.0, 800.0, 800.0, 800.0, 801.0, 801.0, 801.0, 801.0, 801.0, 802.0, 802.0, 803.0, 804.0, 804.0, 804.0, 804.0, 804.0, 804.0, 804.0, 805.0, 806.0, 806.0, 807.0, 808.0, 810.0, 810.0, 811.0, 812.0, 812.0, 812.0, 813.0, 813.0, 813.0, 813.0, 814.0, 814.0, 814.0, 814.0, 814.0, 814.0, 814.0, 814.0, 815.0, 815.0, 815.0, 815.0, 816.0, 816.0, 816.0, 816.0, 816.0, 816.0, 817.0, 817.0, 817.0, 817.0, 817.0, 818.0, 818.0, 818.0, 819.0, 820.0, 821.0, 821.0, 822.0, 822.0, 823.0, 823.0, 823.0, 823.0, 823.0, 824.0, 824.0, 824.0, 825.0, 825.0, 825.0, 826.0, 826.0, 826.0, 826.0, 826.0, 826.0, 826.0, 826.0, 826.0, 826.0, 826.0, 827.0, 827.0, 827.0, 828.0, 828.0, 828.0, 828.0, 828.0, 828.0, 829.0, 829.0, 829.0, 829.0, 829.0, 829.0, 829.0, 829.0, 829.0, 829.0, 829.0, 830.0, 830.0, 830.0, 830.0, 830.0, 830.0, 832.0, 832.0, 833.0, 833.0, 833.0, 833.0, 833.0, 833.0, 833.0, 834.0, 834.0, 835.0, 835.0, 835.0, 836.0, 836.0, 836.0, 836.0, 836.0, 836.0, 836.0, 837.0, 838.0, 838.0, 838.0, 838.0, 838.0, 839.0, 839.0, 840.0, 840.0, 840.0, 840.0, 840.0, 840.0, 841.0, 841.0, 842.0, 843.0, 843.0, 843.0, 843.0, 844.0, 844.0, 846.0, 846.0, 846.0, 847.0, 847.0, 848.0, 848.0, 848.0, 848.0, 848.0, 848.0, 848.0, 848.0, 848.0, 848.0, 848.0, 848.0, 848.0, 848.0, 848.0, 848.0, 848.0, 848.0, 848.0, 849.0, 849.0, 849.0, 849.0, 849.0, 850.0, 850.0, 850.0, 850.0, 850.0, 850.0, 850.0, 851.0, 851.0, 851.0, 851.0, 851.0, 851.0, 851.0, 852.0, 852.0, 852.0, 852.0, 853.0, 854.0, 854.0, 854.0, 854.0, 855.0, 855.0, 855.0, 856.0, 856.0, 857.0, 858.0, 858.0, 858.0, 859.0, 859.0, 860.0, 860.0, 860.0, 860.0, 860.0, 860.0, 861.0, 862.0, 862.0, 863.0, 863.0, 864.0, 864.0, 864.0, 864.0, 865.0, 865.0, 866.0, 867.0, 867.0, 868.0, 868.0, 868.0, 868.0, 869.0, 870.0, 871.0, 871.0, 871.0, 872.0, 873.0, 873.0, 873.0, 873.0, 873.0, 873.0, 874.0, 874.0, 874.0, 875.0, 875.0, 875.0, 875.0, 875.0, 875.0, 875.0, 875.0, 875.0, 877.0, 877.0, 878.0, 878.0, 878.0, 878.0, 879.0, 879.0, 880.0, 880.0, 880.0, 880.0, 881.0, 882.0, 883.0, 883.0, 884.0, 884.0, 884.0, 884.0, 885.0, 885.0, 886.0, 887.0, 887.0, 887.0, 888.0, 888.0, 889.0, 889.0, 890.0, 890.0, 891.0, 892.0, 892.0, 892.0, 892.0, 893.0, 893.0, 893.0, 894.0, 894.0, 894.0, 895.0, 895.0, 895.0, 895.0, 895.0, 895.0, 895.0, 896.0, 896.0, 896.0, 896.0, 896.0, 896.0, 896.0, 897.0, 898.0, 898.0, 899.0, 900.0, 900.0, 900.0, 900.0, 900.0, 900.0, 900.0, 900.0, 901.0, 901.0, 902.0, 902.0, 902.0, 902.0, 902.0, 902.0, 904.0, 904.0, 905.0, 905.0, 906.0, 906.0, 906.0, 906.0, 907.0, 908.0, 909.0, 909.0, 909.0, 909.0, 910.0, 910.0, 912.0, 912.0, 912.0, 912.0, 913.0, 913.0, 914.0, 914.0, 915.0, 915.0, 915.0, 915.0, 917.0, 917.0, 917.0, 917.0, 917.0, 920.0, 921.0, 922.0, 922.0, 923.0, 923.0, 923.0, 924.0, 925.0, 925.0, 925.0, 925.0, 926.0, 927.0, 927.0, 928.0, 928.0, 929.0, 929.0, 929.0, 930.0, 930.0, 930.0, 931.0, 931.0, 931.0, 931.0, 931.0, 931.0, 931.0, 932.0, 932.0, 933.0, 933.0, 933.0, 933.0, 934.0, 934.0, 935.0, 936.0, 936.0, 936.0, 936.0, 936.0, 936.0, 936.0, 938.0, 938.0, 938.0, 939.0, 939.0, 939.0, 939.0, 940.0, 941.0, 941.0, 941.0, 942.0, 942.0, 942.0, 942.0, 942.0, 943.0, 943.0, 943.0, 943.0, 943.0, 945.0, 945.0, 945.0, 945.0, 946.0, 947.0, 948.0, 949.0, 949.0, 950.0, 950.0, 951.0, 951.0, 952.0, 953.0, 953.0, 953.0, 954.0, 955.0, 955.0, 955.0, 955.0, 955.0, 957.0, 957.0, 958.0, 958.0, 958.0, 959.0, 959.0, 960.0, 961.0, 962.0, 962.0, 962.0, 962.0, 963.0, 963.0, 964.0, 964.0, 964.0, 965.0, 966.0, 966.0, 966.0, 967.0, 967.0, 967.0, 967.0, 969.0, 969.0, 969.0, 969.0, 970.0, 970.0, 970.0, 971.0, 972.0, 972.0, 972.0, 972.0, 972.0, 973.0, 973.0, 974.0, 974.0, 974.0, 974.0, 975.0, 975.0, 975.0, 975.0, 976.0, 977.0, 977.0, 977.0, 977.0, 977.0, 977.0, 978.0, 978.0, 978.0, 978.0, 981.0, 981.0, 981.0, 982.0, 982.0, 982.0, 982.0, 983.0, 983.0, 984.0, 984.0, 985.0, 986.0, 986.0, 986.0, 988.0, 988.0, 988.0, 989.0, 989.0, 990.0, 990.0, 990.0, 991.0, 991.0, 991.0, 991.0, 992.0, 992.0, 992.0, 995.0, 995.0, 995.0, 995.0, 995.0, 995.0, 995.0, 996.0, 996.0, 996.0, 997.0, 999.0, 999.0, 1000.0, 1000.0, 1000.0, 1000.0, 1000.0, 1000.0, 1002.0, 1002.0, 1002.0, 1002.0, 1003.0, 1003.0, 1003.0, 1003.0, 1003.0, 1004.0, 1004.0, 1004.0, 1004.0, 1004.0, 1004.0, 1004.0, 1004.0, 1004.0, 1004.0, 1005.0, 1006.0, 1006.0, 1007.0, 1007.0, 1008.0, 1008.0, 1009.0, 1009.0, 1010.0, 1010.0, 1010.0, 1010.0, 1010.0, 1011.0, 1011.0, 1011.0, 1011.0, 1012.0, 1013.0, 1014.0, 1014.0, 1014.0, 1014.0, 1014.0, 1014.0, 1015.0, 1016.0, 1016.0, 1016.0, 1016.0, 1017.0, 1018.0, 1018.0, 1019.0, 1019.0, 1020.0, 1020.0, 1020.0, 1021.0, 1021.0, 1022.0, 1022.0, 1022.0, 1023.0, 1023.0, 1026.0, 1026.0, 1026.0, 1027.0, 1028.0, 1029.0, 1031.0, 1031.0, 1031.0, 1031.0, 1031.0, 1031.0, 1031.0, 1033.0, 1033.0, 1033.0, 1033.0, 1033.0, 1033.0, 1033.0, 1033.0, 1034.0, 1034.0, 1034.0, 1034.0, 1034.0, 1034.0, 1035.0, 1035.0, 1035.0, 1035.0, 1036.0, 1036.0, 1037.0, 1038.0, 1038.0, 1039.0, 1043.0, 1043.0, 1043.0, 1043.0, 1043.0, 1043.0, 1043.0, 1044.0, 1044.0, 1044.0, 1044.0, 1044.0, 1044.0, 1044.0, 1044.0, 1044.0, 1044.0, 1044.0, 1044.0, 1044.0, 1045.0, 1045.0, 1045.0, 1046.0, 1046.0, 1046.0, 1046.0, 1047.0, 1048.0, 1048.0, 1049.0, 1050.0, 1050.0, 1050.0, 1050.0, 1050.0, 1052.0, 1053.0, 1053.0, 1053.0, 1053.0, 1053.0, 1054.0, 1054.0, 1054.0, 1055.0, 1056.0, 1056.0, 1057.0, 1058.0, 1058.0, 1059.0, 1059.0, 1060.0, 1060.0, 1060.0, 1060.0, 1060.0, 1060.0, 1061.0, 1061.0, 1061.0, 1061.0, 1061.0, 1061.0, 1062.0, 1062.0, 1063.0, 1063.0, 1063.0, 1063.0, 1064.0, 1064.0, 1064.0, 1064.0, 1065.0, 1065.0, 1065.0, 1065.0, 1065.0, 1065.0, 1067.0, 1067.0, 1068.0, 1068.0, 1069.0, 1070.0, 1070.0, 1070.0, 1070.0, 1071.0, 1071.0, 1072.0, 1072.0, 1073.0, 1074.0, 1074.0, 1074.0, 1074.0, 1074.0, 1074.0, 1074.0, 1074.0, 1075.0, 1075.0, 1075.0, 1076.0, 1076.0, 1076.0, 1076.0, 1077.0, 1077.0, 1077.0, 1078.0, 1078.0, 1078.0, 1080.0, 1080.0, 1081.0, 1081.0, 1082.0, 1082.0, 1082.0, 1083.0, 1084.0, 1084.0, 1084.0, 1084.0, 1085.0, 1085.0, 1085.0, 1085.0, 1086.0, 1086.0, 1086.0, 1086.0, 1087.0, 1087.0, 1087.0, 1087.0, 1088.0, 1088.0, 1088.0, 1088.0, 1088.0, 1089.0, 1090.0, 1090.0, 1090.0, 1090.0, 1090.0, 1090.0, 1090.0, 1091.0, 1091.0, 1092.0, 1092.0, 1093.0, 1093.0, 1095.0, 1095.0, 1096.0, 1097.0, 1097.0, 1097.0, 1098.0, 1099.0, 1099.0, 1100.0, 1100.0, 1100.0, 1102.0, 1102.0, 1102.0, 1103.0, 1104.0, 1104.0, 1104.0, 1104.0, 1104.0, 1106.0, 1107.0, 1107.0, 1108.0, 1109.0, 1109.0, 1110.0, 1110.0, 1110.0, 1111.0, 1112.0, 1112.0, 1112.0, 1112.0, 1112.0, 1112.0, 1112.0, 1112.0, 1113.0, 1113.0, 1114.0, 1114.0, 1115.0, 1115.0, 1116.0, 1116.0, 1116.0, 1116.0, 1116.0, 1116.0, 1117.0, 1117.0, 1117.0, 1119.0, 1120.0, 1120.0, 1120.0, 1121.0, 1121.0, 1121.0, 1122.0, 1122.0, 1122.0, 1123.0, 1123.0, 1123.0, 1123.0, 1123.0, 1123.0, 1123.0, 1124.0, 1124.0, 1124.0, 1124.0, 1124.0, 1125.0, 1125.0, 1127.0, 1127.0, 1128.0, 1129.0, 1129.0, 1129.0, 1130.0, 1130.0, 1130.0, 1130.0, 1131.0, 1131.0, 1132.0, 1132.0, 1132.0, 1132.0, 1132.0, 1132.0, 1132.0, 1132.0, 1132.0, 1134.0, 1134.0, 1134.0, 1134.0, 1135.0, 1135.0, 1135.0, 1136.0, 1136.0, 1136.0, 1137.0, 1137.0, 1137.0, 1138.0, 1138.0, 1138.0, 1139.0, 1140.0, 1140.0, 1140.0, 1141.0, 1141.0, 1141.0, 1141.0, 1142.0, 1142.0, 1142.0, 1144.0, 1144.0, 1144.0, 1145.0, 1145.0, 1145.0, 1147.0, 1147.0, 1148.0, 1148.0, 1149.0, 1149.0, 1150.0, 1150.0, 1150.0, 1150.0, 1150.0, 1152.0, 1153.0, 1153.0, 1153.0, 1154.0, 1155.0, 1155.0, 1155.0, 1155.0, 1155.0, 1156.0, 1157.0, 1157.0, 1157.0, 1157.0, 1158.0, 1158.0, 1158.0, 1158.0, 1159.0, 1159.0, 1160.0, 1160.0, 1161.0, 1161.0, 1161.0, 1161.0, 1161.0, 1162.0, 1162.0, 1162.0, 1162.0, 1162.0, 1162.0, 1163.0, 1163.0, 1163.0, 1164.0, 1164.0, 1164.0, 1165.0, 1166.0, 1166.0, 1166.0, 1166.0, 1166.0, 1166.0, 1167.0, 1168.0, 1168.0, 1171.0, 1171.0, 1171.0, 1172.0, 1172.0, 1172.0, 1173.0, 1173.0, 1174.0, 1175.0, 1175.0, 1175.0, 1175.0, 1175.0, 1175.0, 1176.0, 1177.0, 1178.0, 1178.0, 1179.0, 1180.0, 1180.0, 1180.0, 1180.0, 1181.0, 1181.0, 1181.0, 1181.0, 1181.0, 1181.0, 1181.0, 1182.0, 1182.0, 1182.0, 1183.0, 1183.0, 1183.0, 1184.0, 1184.0, 1185.0, 1185.0, 1185.0, 1185.0, 1187.0, 1187.0, 1188.0, 1188.0, 1188.0, 1189.0, 1189.0, 1190.0, 1190.0, 1190.0, 1190.0, 1190.0, 1190.0, 1190.0, 1190.0, 1191.0, 1191.0, 1194.0, 1194.0, 1194.0, 1194.0, 1194.0, 1195.0, 1196.0, 1196.0, 1196.0, 1197.0, 1197.0, 1199.0, 1200.0, 1200.0, 1200.0, 1200.0, 1200.0, 1200.0, 1202.0, 1203.0, 1204.0, 1205.0, 1205.0, 1205.0, 1205.0, 1205.0, 1205.0, 1206.0, 1206.0, 1209.0, 1209.0, 1209.0, 1210.0, 1210.0, 1211.0, 1211.0, 1211.0, 1211.0, 1212.0, 1212.0, 1213.0, 1213.0, 1213.0, 1213.0, 1214.0, 1216.0, 1217.0, 1217.0, 1220.0, 1220.0, 1222.0, 1223.0, 1224.0, 1224.0, 1224.0, 1224.0, 1225.0, 1225.0, 1226.0, 1227.0, 1227.0, 1228.0, 1228.0, 1228.0, 1229.0, 1229.0, 1230.0, 1230.0, 1230.0, 1230.0, 1230.0, 1231.0, 1231.0, 1231.0, 1231.0, 1232.0, 1234.0, 1234.0, 1235.0, 1235.0, 1238.0, 1238.0, 1239.0, 1240.0, 1242.0, 1242.0, 1242.0, 1242.0, 1244.0, 1244.0, 1244.0, 1245.0, 1245.0, 1245.0, 1246.0, 1247.0, 1248.0, 1248.0, 1248.0, 1249.0, 1249.0, 1249.0, 1250.0, 1250.0, 1250.0, 1250.0, 1252.0, 1252.0, 1253.0, 1253.0, 1253.0, 1253.0, 1254.0, 1258.0, 1258.0, 1260.0, 1260.0, 1262.0, 1262.0, 1263.0, 1263.0, 1264.0, 1265.0, 1268.0, 1268.0, 1269.0, 1270.0, 1270.0, 1270.0, 1270.0, 1270.0, 1270.0, 1271.0, 1271.0, 1272.0, 1273.0, 1275.0, 1275.0, 1275.0, 1275.0, 1277.0, 1278.0, 1279.0, 1280.0, 1281.0, 1283.0, 1285.0, 1286.0, 1286.0, 1287.0, 1287.0, 1288.0, 1288.0, 1288.0, 1288.0, 1288.0, 1289.0, 1289.0, 1290.0, 1290.0, 1290.0, 1293.0, 1293.0, 1293.0, 1293.0, 1293.0, 1295.0, 1295.0, 1295.0, 1296.0, 1296.0, 1296.0, 1297.0, 1297.0, 1298.0, 1299.0, 1299.0, 1300.0, 1300.0, 1300.0, 1301.0, 1302.0, 1303.0, 1303.0, 1305.0, 1306.0, 1306.0, 1308.0, 1308.0, 1309.0, 1309.0, 1309.0, 1310.0, 1310.0, 1311.0, 1311.0, 1311.0, 1311.0, 1311.0, 1312.0, 1312.0, 1314.0, 1316.0, 1316.0, 1318.0, 1318.0, 1319.0, 1320.0, 1320.0, 1320.0, 1320.0, 1320.0, 1321.0, 1322.0, 1322.0, 1322.0, 1323.0, 1323.0, 1325.0, 1325.0, 1325.0, 1325.0, 1327.0, 1327.0, 1328.0, 1329.0, 1329.0, 1329.0, 1330.0, 1330.0, 1330.0, 1330.0, 1330.0, 1330.0, 1330.0, 1330.0, 1330.0, 1330.0, 1330.0, 1333.0, 1335.0, 1336.0, 1337.0, 1337.0, 1338.0, 1342.0, 1342.0, 1343.0, 1343.0, 1343.0, 1343.0, 1343.0, 1343.0, 1343.0, 1343.0, 1343.0, 1344.0, 1346.0, 1348.0, 1350.0, 1350.0, 1351.0, 1352.0, 1353.0, 1353.0, 1354.0, 1355.0, 1355.0, 1356.0, 1356.0, 1359.0, 1361.0, 1361.0, 1363.0, 1364.0, 1364.0, 1364.0, 1365.0, 1368.0, 1369.0, 1370.0, 1372.0, 1373.0, 1373.0, 1373.0, 1373.0, 1373.0, 1373.0, 1373.0, 1375.0, 1375.0, 1375.0, 1375.0, 1375.0, 1376.0, 1376.0, 1376.0, 1376.0, 1377.0, 1377.0, 1378.0, 1378.0, 1379.0, 1379.0, 1380.0, 1380.0, 1382.0, 1383.0, 1384.0, 1386.0, 1386.0, 1386.0, 1389.0, 1390.0, 1392.0, 1392.0, 1392.0, 1394.0, 1397.0, 1397.0, 1397.0, 1397.0, 1397.0, 1398.0, 1399.0, 1400.0, 1400.0, 1400.0, 1401.0, 1401.0, 1405.0, 1406.0, 1408.0, 1409.0, 1409.0, 1410.0, 1410.0, 1410.0, 1412.0, 1413.0, 1413.0, 1414.0, 1415.0, 1417.0, 1418.0, 1421.0, 1422.0, 1423.0, 1424.0, 1424.0, 1424.0, 1424.0, 1429.0, 1429.0, 1429.0, 1429.0, 1429.0, 1430.0, 1430.0, 1431.0, 1432.0, 1433.0, 1436.0, 1437.0, 1439.0, 1440.0, 1440.0, 1441.0, 1443.0, 1443.0, 1443.0, 1444.0, 1444.0, 1444.0, 1445.0, 1446.0, 1446.0, 1446.0, 1448.0, 1449.0, 1451.0, 1452.0, 1456.0, 1457.0, 1457.0, 1457.0, 1457.0, 1458.0, 1458.0, 1459.0, 1460.0, 1460.0, 1462.0, 1462.0, 1463.0, 1464.0, 1464.0, 1464.0, 1465.0, 1465.0, 1467.0, 1468.0, 1471.0, 1472.0, 1476.0, 1476.0, 1476.0, 1479.0, 1480.0, 1480.0, 1480.0, 1481.0, 1484.0, 1485.0, 1489.0, 1489.0, 1489.0, 1489.0, 1489.0, 1490.0, 1491.0, 1492.0, 1494.0, 1495.0, 1495.0, 1496.0, 1499.0, 1499.0, 1500.0, 1501.0, 1502.0, 1502.0, 1502.0, 1502.0, 1505.0, 1505.0, 1505.0, 1505.0, 1505.0, 1505.0, 1505.0, 1508.0, 1510.0, 1510.0, 1512.0, 1517.0, 1518.0, 1518.0, 1518.0, 1520.0, 1521.0, 1523.0, 1523.0, 1524.0, 1525.0, 1526.0, 1530.0, 1530.0, 1530.0, 1531.0, 1531.0, 1533.0, 1537.0, 1537.0, 1537.0, 1538.0, 1538.0, 1539.0, 1539.0, 1542.0, 1544.0, 1546.0, 1546.0, 1552.0, 1554.0, 1555.0, 1556.0, 1557.0, 1557.0, 1559.0, 1561.0, 1561.0, 1562.0, 1562.0, 1562.0, 1563.0, 1563.0, 1563.0, 1563.0, 1564.0, 1566.0, 1567.0, 1568.0, 1568.0, 1570.0, 1571.0, 1571.0, 1571.0, 1571.0, 1572.0, 1576.0, 1580.0, 1581.0, 1583.0, 1583.0, 1584.0, 1586.0, 1588.0, 1588.0, 1588.0, 1588.0, 1589.0, 1593.0, 1595.0, 1595.0, 1595.0, 1597.0, 1598.0, 1601.0, 1602.0, 1602.0, 1605.0, 1606.0, 1606.0, 1609.0, 1609.0, 1612.0, 1612.0, 1618.0, 1619.0, 1621.0, 1623.0, 1624.0, 1624.0, 1626.0, 1627.0, 1628.0, 1629.0, 1630.0, 1630.0, 1630.0, 1630.0, 1630.0, 1631.0, 1631.0, 1631.0, 1633.0, 1636.0, 1636.0, 1637.0, 1638.0, 1638.0, 1640.0, 1645.0, 1646.0, 1647.0, 1649.0, 1650.0, 1650.0, 1650.0, 1650.0, 1652.0, 1652.0, 1652.0, 1653.0, 1659.0, 1661.0, 1663.0, 1666.0, 1669.0, 1669.0, 1670.0, 1672.0, 1672.0, 1674.0, 1676.0, 1676.0, 1677.0, 1679.0, 1679.0, 1679.0, 1680.0, 1680.0, 1686.0, 1688.0, 1689.0, 1689.0, 1691.0, 1692.0, 1692.0, 1695.0, 1696.0, 1697.0, 1700.0, 1700.0, 1702.0, 1703.0, 1705.0, 1707.0, 1715.0, 1720.0, 1722.0, 1723.0, 1728.0, 1728.0, 1728.0, 1730.0, 1733.0, 1740.0, 1741.0, 1741.0, 1742.0, 1746.0, 1749.0, 1750.0, 1751.0, 1752.0, 1752.0, 1755.0, 1759.0, 1760.0, 1760.0, 1767.0, 1773.0, 1773.0, 1773.0, 1777.0, 1778.0, 1779.0, 1779.0, 1780.0, 1780.0, 1782.0, 1783.0, 1788.0, 1789.0, 1800.0, 1800.0, 1800.0, 1800.0, 1802.0, 1803.0, 1805.0, 1805.0, 1805.0, 1809.0, 1810.0, 1812.0, 1812.0, 1815.0, 1816.0, 1816.0, 1816.0, 1819.0, 1819.0, 1820.0, 1825.0, 1830.0, 1831.0, 1833.0, 1834.0, 1837.0, 1840.0, 1842.0, 1846.0, 1846.0, 1846.0, 1850.0, 1850.0, 1852.0, 1853.0, 1853.0, 1858.0, 1859.0, 1861.0, 1866.0, 1871.0, 1872.0, 1878.0, 1880.0, 1880.0, 1881.0, 1890.0, 1890.0, 1891.0, 1892.0, 1892.0, 1893.0, 1898.0, 1900.0, 1900.0, 1901.0, 1902.0, 1905.0, 1906.0, 1906.0, 1907.0, 1917.0, 1917.0, 1920.0, 1920.0, 1921.0, 1926.0, 1932.0, 1934.0, 1938.0, 1940.0, 1947.0, 1948.0, 1948.0, 1949.0, 1956.0, 1959.0, 1959.0, 1961.0, 1970.0, 1970.0, 1970.0, 1973.0, 1977.0, 1978.0, 1979.0, 1980.0, 1987.0, 1989.0, 1990.0, 1994.0, 1994.0, 1997.0, 1998.0, 2002.0, 2007.0, 2009.0, 2010.0, 2016.0, 2024.0, 2027.0, 2027.0, 2028.0, 2031.0, 2035.0, 2039.0, 2042.0, 2044.0, 2047.0, 2049.0, 2054.0, 2056.0, 2058.0, 2063.0, 2068.0, 2081.0, 2088.0, 2092.0, 2093.0, 2094.0, 2096.0, 2100.0, 2100.0, 2100.0, 2100.0, 2102.0, 2104.0, 2109.0, 2120.0, 2125.0, 2133.0, 2137.0, 2139.0, 2154.0, 2158.0, 2160.0, 2162.0, 2165.0, 2168.0, 2169.0, 2173.0, 2176.0, 2181.0, 2183.0, 2184.0, 2188.0, 2190.0, 2190.0, 2191.0, 2193.0, 2198.0, 2204.0, 2209.0, 2210.0, 2215.0, 2218.0, 2219.0, 2221.0, 2227.0, 2228.0, 2230.0, 2234.0, 2237.0, 2241.0, 2241.0, 2241.0, 2247.0, 2248.0, 2248.0, 2249.0, 2249.0, 2251.0, 2255.0, 2258.0, 2279.0, 2279.0, 2279.0, 2279.0, 2279.0, 2281.0, 2289.0, 2289.0, 2292.0, 2298.0, 2300.0, 2300.0, 2304.0, 2309.0, 2310.0, 2311.0, 2316.0, 2327.0, 2331.0, 2331.0, 2334.0, 2342.0, 2349.0, 2356.0, 2360.0, 2367.0, 2373.0, 2378.0, 2386.0, 2390.0, 2397.0, 2401.0, 2409.0, 2417.0, 2421.0, 2427.0, 2429.0, 2431.0, 2432.0, 2436.0, 2440.0, 2444.0, 2445.0, 2445.0, 2451.0, 2457.0, 2475.0, 2476.0, 2476.0, 2481.0, 2481.0, 2482.0, 2484.0, 2487.0, 2492.0, 2500.0, 2507.0, 2510.0, 2519.0, 2519.0, 2519.0, 2532.0, 2536.0, 2536.0, 2539.0, 2539.0, 2550.0, 2554.0, 2567.0, 2568.0, 2569.0, 2582.0, 2592.0, 2592.0, 2592.0, 2592.0, 2592.0, 2603.0, 2606.0, 2609.0, 2618.0, 2641.0, 2663.0, 2679.0, 2685.0, 2685.0, 2693.0, 2697.0, 2700.0, 2700.0, 2700.0, 2707.0, 2721.0, 2741.0, 2741.0, 2741.0, 2742.0, 2746.0, 2771.0, 2773.0, 2775.0, 2793.0, 2811.0, 2835.0, 2840.0, 2843.0, 2844.0, 2844.0, 2848.0, 2849.0, 2865.0, 2885.0, 2890.0, 2891.0, 2900.0, 2903.0, 2911.0, 2923.0, 2939.0, 2948.0, 2954.0, 2960.0, 2964.0, 2965.0, 2965.0, 2992.0, 3001.0, 3005.0, 3035.0, 3039.0, 3056.0, 3082.0, 3101.0, 3112.0, 3114.0, 3114.0, 3114.0, 3114.0, 3114.0, 3114.0, 3114.0, 3122.0, 3126.0, 3127.0, 3140.0, 3165.0, 3188.0, 3195.0, 3196.0, 3201.0, 3208.0, 3217.0, 3227.0, 3242.0, 3243.0, 3260.0, 3263.0, 3282.0, 3347.0, 3364.0, 3375.0, 3375.0, 3375.0, 3378.0, 3378.0, 3428.0, 3450.0, 3451.0, 3453.0, 3453.0, 3463.0, 3478.0, 3500.0, 3505.0, 3541.0, 3576.0, 3576.0, 3578.0, 3586.0, 3648.0, 3648.0, 3648.0, 3648.0, 3697.0, 3699.0, 3703.0, 3764.0, 3788.0, 3844.0, 3952.0, 3974.0, 3985.0, 4000.0, 4000.0, 4003.0, 4016.0, 4140.0, 4158.0, 4159.0, 4184.0, 4193.0, 4227.0, 4248.0, 4350.0, 4350.0, 4430.0, 4440.0, 4530.0, 4530.0, 4530.0, 4530.0, 4563.0, 4563.0, 4563.0, 4563.0, 4574.0, 4613.0, 4628.0, 4628.0, 4652.0, 4653.0, 4663.0, 4702.0, 4788.0, 4803.0, 4904.0, 4904.0, 4904.0, 4916.0, 4948.0, 4948.0, 4948.0, 4986.0, 4993.0, 4994.0, 4999.0, 4999.0, 4999.0, 4999.0, 4999.0, 5050.0, 5227.0, 5227.0, 5227.0, 5227.0, 5227.0, 5247.0, 5247.0, 5284.0, 5391.0, 5492.0, 5594.0, 5631.0, 5631.0, 5862.0, 5893.0, 5958.0, 5958.0, 6344.0, 6350.0, 6350.0, 6350.0, 6497.0, 6497.0, 6497.0, 6497.0, 6497.0, 6517.0, 6649.0, 6998.0, 7411.0, 7411.0, 7411.0, 7411.0, 7411.0, 7411.0, 7909.0, 8016.0, 8016.0, 8016.0, 8016.0, 8016.0, 8016.0, 8102.0, 8102.0, 8346.0, 8358.0, 8358.0, 8358.0, 8358.0, 8621.0, 8621.0, 8813.0, 8813.0, 8813.0, 8813.0, 8813.0, 8813.0, 8813.0, 8813.0, 8813.0, 9138.0, 9261.0, 9372.0, 9372.0, 9948.0, 9948.0, 9948.0, 9975.0, 9975.0, 9975.0, 9975.0, 9975.0, 9975.0, 9975.0, 10462.0, 10833.0, 11000.0, 11254.0, 11254.0, 11684.0, 11905.0, 12500.0, 12506.0, 13852.0, 13953.0, 14501.0, 14762.0, 15179.0, 15179.0, 15179.0, 15179.0, 15179.0, 15179.0, 15179.0, 15179.0, 17350.0, 19375.0, 19429.0, 21214.0, 21214.0, 21214.0, 21462.0, 21462.0, 21462.0, 22623.0, 23029.0, 24000.0, 26300.0, 26300.0, 26300.0, 26300.0, 26300.0, 26300.0, 26300.0, 26300.0, 32173.0, 32240.0, 32805.0, 32805.0, 32805.0, 32805.0, 32805.0, 32805.0, 32805.0, 32805.0, 32805.0, 32805.0, 32805.0, 32805.0, 33268.0, 33375.0, 33500.0, 34590.0, 34745.0, 34745.0, 34745.0, 34745.0, 34745.0, 34745.0, 34745.0, 34745.0, 36750.0, 36750.0, 36835.0, 36835.0, 36835.0, 36835.0, 36835.0, 36835.0, 36835.0, 36835.0, 39567.0, 39567.0, 44812.0, 45070.0, 52797.0, 59865.0, 69924.0, 69924.0, 69924.0, 69924.0, 69924.0, 69924.0, 70998.0, 70998.0, 70998.0, 70998.0, 70998.0, 70998.0, 70998.0, 70998.0, 70998.0, 70998.0, 72456.0, 72475.0, 72475.0, 72475.0, 72475.0, 72475.0, 72475.0, 72475.0, 72475.0, 72475.0, 72475.0, 72475.0, 72944.0, 75328.0, 75328.0, 75328.0, 90307.0, 98550.0, 98550.0, 98550.0, 98550.0, 98550.0, 98550.0, 98550.0, 99083.0, 99083.0, 99083.0, 99083.0, 99083.0, 99083.0, 99083.0, 99083.0, 99083.0, 99083.0, 99083.0, 99083.0, 99083.0, 99083.0, 99083.0, 99083.0, 106836.0, 124264.0, 162971.0, 231379.0, 231379.0, 231379.0, 231379.0, 231379.0, 231379.0, 231379.0, 231379.0, 231379.0, 231379.0, 231379.0, 286755.0, 286755.0, 322160.0, 322160.0, 322160.0, 322160.0, 322160.0, 322160.0, 322160.0, 322160.0, 322160.0, 322160.0], \"xaxis\": \"x\", \"y\": [2142600.32427046, 2142600.32427046, 2142600.32427046, 2142600.32427046, 2142600.32427046, 2142600.32427046, 2142600.32427046, 2142600.32427046, 2142600.32427046, 2142600.32427046, 2142600.32427046, 2142600.32427046, 2142600.32427046, 2142600.32427046, 2142600.32427046, 2142600.32427046, 2142600.32427046, 2142600.32427046, 2142600.32427046, 2142600.32427046, 2142600.32427046, 2142600.32427046, 2142600.32427046, 2142600.32427046, 2142600.32427046, 2142600.32427046, 2142600.32427046, 2142600.32427046, 2142600.32427046, 2142600.32427046, 2142600.32427046, 2142600.32427046, 2142600.32427046, 2142600.32427046, 2142600.32427046, 2142600.32427046, 2142600.32427046, 2142600.32427046, 2142600.32427046, 2142600.32427046, 2142600.32427046, 2142600.32427046, 2142600.32427046, 2142600.32427046, 2142600.32427046, 2142600.32427046, 2142600.32427046, 2142600.32427046, 2142600.32427046, 2142600.32427046, 2142600.32427046, 2142600.32427046, 2142600.32427046, 2142600.32427046, 2142600.32427046, 2142600.32427046, 2142600.32427046, 2142600.32427046, 2142600.32427046, 2142600.32427046, 2142600.32427046, 2142600.32427046, 2142600.32427046, 2142600.32427046, 2142600.32427046, 2142600.32427046, 2142600.32427046, 2142600.32427046, 2142600.32427046, 2142600.32427046, 2142600.32427046, 2142600.32427046, 2142600.32427046, 2142600.32427046, 2142600.32427046, 2142600.32427046, 2142600.32427046, 2142600.32427046, 2142600.32427046, 2142600.32427046, 2142600.32427046, 2142600.32427046, 2142600.32427046, 2142600.32427046, 2142600.32427046, 2142600.32427046, 2142600.32427046, 2142600.32427046, 2142600.32427046, 2142600.32427046, 2142600.32427046, 2142600.32427046, 2142600.32427046, 2142600.32427046, 2142600.32427046, 2142600.32427046, 2142600.32427046, 2142600.32427046, 2142600.32427046, 2142600.32427046, 2142600.32427046, 2142600.32427046, 2142600.32427046, 2142600.32427046, 2142600.32427046, 2142600.32427046, 2142600.32427046, 2142600.32427046, 2142600.32427046, 2142600.32427046, 2142600.32427046, 2142600.32427046, 2142600.32427046, 2142600.32427046, 2142600.32427046, 2142600.32427046, 2142600.32427046, 2142600.32427046, 2142600.32427046, 2142600.32427046, 2142600.32427046, 2142600.32427046, 2142600.32427046, 2142600.32427046, 2142600.32427046, 2142600.32427046, 2142600.32427046, 2142600.32427046, 2142600.32427046, 2142600.32427046, 2142600.32427046, 2142600.32427046, 2142600.32427046, 2142600.32427046, 2142600.32427046, 2142600.32427046, 2142600.32427046, 2142600.32427046, 2142600.32427046, 2142600.32427046, 2142600.32427046, 2142600.32427046, 2142600.32427046, 2142600.32427046, 2142600.32427046, 2142600.32427046, 2142600.32427046, 2142600.32427046, 2142600.32427046, 2142600.32427046, 2142600.32427046, 2142600.32427046, 2142600.32427046, 2142600.32427046, 2142600.32427046, 2142600.32427046, 2142600.32427046, 2142600.32427046, 2142600.32427046, 2142600.32427046, 2142600.32427046, 2142600.32427046, 2142600.32427046, 2142600.32427046, 2142600.32427046, 2142600.32427046, 2142600.32427046, 2142600.32427046, 2142600.32427046, 2142600.32427046, 2142600.32427046, 2142600.32427046, 2142600.32427046, 2142600.32427046, 2142600.32427046, 2142600.32427046, 2142600.32427046, 2142600.32427046, 2142600.32427046, 2142600.32427046, 2142600.32427046, 2142600.32427046, 2142600.32427046, 2142600.32427046, 2142600.32427046, 2142600.32427046, 2142600.32427046, 2142600.32427046, 2142600.32427046, 2142600.32427046, 2142600.32427046, 2142600.32427046, 2142600.32427046, 2142600.32427046, 2142600.32427046, 2142600.32427046, 2142600.32427046, 2142600.32427046, 2142600.32427046, 2142600.32427046, 2142600.32427046, 2142600.32427046, 2142600.32427046, 2142600.32427046, 2142600.32427046, 2142600.32427046, 2142600.32427046, 2142600.32427046, 2142600.32427046, 2142600.32427046, 2142600.32427046, 2142600.32427046, 2142600.32427046, 2142600.32427046, 2142600.32427046, 2142600.32427046, 2142600.32427046, 2142600.32427046, 2142600.32427046, 2142600.32427046, 2142600.32427046, 2142600.32427046, 2142600.32427046, 2142600.32427046, 2142600.32427046, 2142600.32427046, 2142600.32427046, 2142600.32427046, 2142600.32427046, 2142600.32427046, 2142600.32427046, 2142600.32427046, 2142600.32427046, 2142600.32427046, 2142600.32427046, 2142600.32427046, 2142600.32427046, 2142600.32427046, 2142600.32427046, 2142600.32427046, 2142600.32427046, 2142600.32427046, 2142600.32427046, 2142600.32427046, 2142600.32427046, 2142600.32427046, 2142600.32427046, 2142600.32427046, 2142600.32427046, 2142600.32427046, 2142600.32427046, 2142600.32427046, 2142600.32427046, 2142600.32427046, 2142600.32427046, 2142600.32427046, 2142600.32427046, 2142600.32427046, 2142600.32427046, 2142600.32427046, 2142600.32427046, 2142600.32427046, 2142600.32427046, 2142600.32427046, 2142600.32427046, 2142600.32427046, 2142600.32427046, 2142600.32427046, 2142600.32427046, 2142600.32427046, 2142600.32427046, 2142600.32427046, 2142600.32427046, 2142600.32427046, 2142600.32427046, 2142600.32427046, 2142600.32427046, 2142600.32427046, 2142600.32427046, 2142600.32427046, 2142600.32427046, 2142600.32427046, 2142600.32427046, 2142600.32427046, 2142600.32427046, 2142600.32427046, 2142600.32427046, 2142600.32427046, 2142600.32427046, 2142600.32427046, 2142600.32427046, 2142600.32427046, 2142600.32427046, 2142600.32427046, 2142600.32427046, 2142600.32427046, 2142600.32427046, 2142600.32427046, 2142600.32427046, 2142600.32427046, 2142600.32427046, 2142600.32427046, 2142600.32427046, 2142600.32427046, 2142600.32427046, 2142600.32427046, 2142600.32427046, 2142600.32427046, 2142600.32427046, 2142600.32427046, 2142600.32427046, 2142600.32427046, 2142600.32427046, 2142600.32427046, 2142600.32427046, 2142600.32427046, 2142600.32427046, 2142600.32427046, 2142600.32427046, 2142600.32427046, 2142600.32427046, 2142600.32427046, 2142600.32427046, 2142600.32427046, 2142600.32427046, 2142600.32427046, 2142600.32427046, 2142600.32427046, 2142600.32427046, 2142600.32427046, 2142600.32427046, 2142600.32427046, 2142600.32427046, 2142600.32427046, 2142600.32427046, 2142600.32427046, 2142600.32427046, 2142600.32427046, 2142600.32427046, 2142600.32427046, 2142600.32427046, 2142600.32427046, 2142600.32427046, 2142600.32427046, 2142600.32427046, 2142600.32427046, 2142600.32427046, 2142600.32427046, 2142600.32427046, 2142600.32427046, 2142600.32427046, 2142600.32427046, 2142600.32427046, 2142600.32427046, 2142600.32427046, 2142600.32427046, 2142600.32427046, 2142600.32427046, 2142600.32427046, 2142600.32427046, 2142600.32427046, 2142600.32427046, 2142600.32427046, 2142600.32427046, 2142600.32427046, 2142600.32427046, 2142600.32427046, 2142600.32427046, 2142600.32427046, 2142600.32427046, 2142600.32427046, 2142600.32427046, 2142600.32427046, 2142600.32427046, 2142600.32427046, 2142600.32427046, 2142600.32427046, 2142600.32427046, 2142600.32427046, 2142600.32427046, 2142600.32427046, 2142600.32427046, 2142600.32427046, 2142600.32427046, 2142600.32427046, 2142600.32427046, 2142600.32427046, 2142600.32427046, 2142600.32427046, 2142600.32427046, 2142600.32427046, 2142600.32427046, 2142600.32427046, 2142600.32427046, 2142600.32427046, 2142600.32427046, 2142600.32427046, 2142600.32427046, 2142600.32427046, 2142600.32427046, 2142600.32427046, 2142600.32427046, 2142600.32427046, 2142600.32427046, 2142600.32427046, 2142600.32427046, 2142600.32427046, 2142600.32427046, 2142600.32427046, 2142600.32427046, 2142600.32427046, 2142600.32427046, 2142600.32427046, 2142600.32427046, 2142600.32427046, 2142600.32427046, 2142600.32427046, 2142600.32427046, 2142600.32427046, 2142600.32427046, 2142600.32427046, 2142600.32427046, 2142600.32427046, 2142600.32427046, 2142600.32427046, 2142600.32427046, 2142600.32427046, 2142600.32427046, 2142600.32427046, 2142600.32427046, 2142600.32427046, 2142600.32427046, 2142600.32427046, 2142600.32427046, 2142600.32427046, 2142600.32427046, 2142600.32427046, 2142600.32427046, 2142600.32427046, 2142600.32427046, 2142600.32427046, 2142600.32427046, 2142600.32427046, 2142600.32427046, 2142600.32427046, 2142600.32427046, 2142600.32427046, 2142600.32427046, 2142600.32427046, 2142600.32427046, 2142600.32427046, 2142600.32427046, 2142600.32427046, 2142600.32427046, 2142600.32427046, 2142600.32427046, 2142600.32427046, 2142600.32427046, 2142600.32427046, 2142600.32427046, 2142600.32427046, 2142600.32427046, 2142600.32427046, 2142600.32427046, 2142600.32427046, 2142600.32427046, 2142600.32427046, 2142600.32427046, 2142600.32427046, 2142600.32427046, 2142600.32427046, 2142600.32427046, 2142600.32427046, 2142600.32427046, 2142600.32427046, 2142600.32427046, 2142600.32427046, 2142600.32427046, 2142600.32427046, 2142600.32427046, 2142600.32427046, 2142600.32427046, 2142600.32427046, 2142600.32427046, 2142600.32427046, 2142600.32427046, 2142600.32427046, 2142600.32427046, 2142600.32427046, 2142600.32427046, 2142600.32427046, 2142600.32427046, 2142600.32427046, 2142600.32427046, 2142600.32427046, 2142600.32427046, 2142600.32427046, 2142600.32427046, 2142600.32427046, 2142600.32427046, 2142600.32427046, 2142600.32427046, 2142600.32427046, 2142600.32427046, 2142600.32427046, 2142600.32427046, 2142600.32427046, 2142600.32427046, 2142600.32427046, 2142600.32427046, 2142600.32427046, 2142600.32427046, 2142600.32427046, 2142600.32427046, 2142600.32427046, 2142600.32427046, 2142600.32427046, 2142600.32427046, 2142600.32427046, 2142600.32427046, 2142600.32427046, 2142600.32427046, 2142600.32427046, 2142600.32427046, 2142600.32427046, 2142600.32427046, 2142600.32427046, 2142600.32427046, 2142600.32427046, 2142600.32427046, 2142600.32427046, 2142600.32427046, 2142600.32427046, 2142600.32427046, 2142600.32427046, 2142600.32427046, 2142600.32427046, 2142600.32427046, 2142600.32427046, 2142600.32427046, 2142600.32427046, 2142600.32427046, 2142600.32427046, 2142600.32427046, 2142600.32427046, 2142600.32427046, 2142600.32427046, 2142600.32427046, 2142600.32427046, 2142600.32427046, 2142600.32427046, 2142600.32427046, 2142600.32427046, 2142600.32427046, 2142600.32427046, 2142600.32427046, 2142600.32427046, 2142600.32427046, 2142600.32427046, 2142600.32427046, 2142600.32427046, 2142600.32427046, 2142600.32427046, 2142600.32427046, 2142600.32427046, 2142600.32427046, 2142703.4492798597, 2145023.7619913537, 2146725.324646449, 2148375.324796845, 2149561.262404942, 2149561.262404942, 2149819.0749284416, 2149870.6374331415, 2150025.3249472408, 2150025.3249472408, 2150025.3249472408, 2150025.3249472408, 2150025.3249472408, 2150025.3249472408, 2150076.8874519407, 2150334.6999754403, 2150386.26248014, 2150489.3874895396, 2150489.3874895396, 2150489.3874895396, 2150489.3874895396, 2150489.3874895396, 2150489.3874895396, 2150489.3874895396, 2150489.3874895396, 2150489.3874895396, 2150489.3874895396, 2150489.3874895396, 2150489.3874895396, 2150489.3874895396, 2150489.3874895396, 2150489.3874895396, 2150489.3874895396, 2150489.3874895396, 2150489.3874895396, 2150489.3874895396, 2150489.3874895396, 2150489.3874895396, 2150489.3874895396, 2150489.3874895396, 2150489.3874895396, 2150489.3874895396, 2150489.3874895396, 2150489.3874895396, 2150489.3874895396, 2150489.3874895396, 2150489.3874895396, 2150489.3874895396, 2150489.3874895396, 2150489.3874895396, 2150489.3874895396, 2150489.3874895396, 2150489.3874895396, 2150489.3874895396, 2150489.3874895396, 2150489.3874895396, 2150489.3874895396, 2150489.3874895396, 2150489.3874895396, 2150489.3874895396, 2150489.3874895396, 2150489.3874895396, 2150489.3874895396, 2150489.3874895396, 2150489.3874895396, 2150489.3874895396, 2150489.3874895396, 2150489.3874895396, 2150489.3874895396, 2150489.3874895396, 2150489.3874895396, 2150489.3874895396, 2150489.3874895396, 2150489.3874895396, 2150489.3874895396, 2150489.3874895396, 2150489.3874895396, 2150489.3874895396, 2150489.3874895396, 2150489.3874895396, 2150489.3874895396, 2150489.3874895396, 2150489.3874895396, 2150489.3874895396, 2150489.3874895396, 2150489.3874895396, 2150489.3874895396, 2150489.3874895396, 2150489.3874895396, 2150489.3874895396, 2150489.3874895396, 2150489.3874895396, 2150489.3874895396, 2150489.3874895396, 2150489.3874895396, 2150489.3874895396, 2150489.3874895396, 2150489.3874895396, 2150489.3874895396, 2150489.3874895396, 2150489.3874895396, 2150489.3874895396, 2150489.3874895396, 2150489.3874895396, 2150489.3874895396, 2150489.3874895396, 2150592.5124989394, 2150695.6375083392, 2150850.325022439, 2150953.4500318384, 2150953.4500318384, 2150953.4500318384, 2150953.4500318384, 2150953.4500318384, 2150953.4500318384, 2150953.4500318384, 2150953.4500318384, 2150953.4500318384, 2150953.4500318384, 2151262.825060038, 2151365.9500694377, 2151417.5125741377, 2151417.5125741377, 2151572.200088237, 2151933.137621136, 2151933.137621136, 2152139.3876399356, 2152139.3876399356, 2152139.3876399356, 2152190.9501446355, 2152190.9501446355, 2152190.9501446355, 2152190.9501446355, 2152345.6376587353, 2152397.2001634347, 2152500.3251728346, 2152758.137696334, 2152809.700201034, 2152912.8252104335, 2152912.8252104335, 2152912.8252104335, 2152912.8252104335, 2152912.8252104335, 2153273.762743333, 2153376.8877527323, 2153944.075304431, 2154820.6378843286, 2155387.8254360273, 2155542.512950127, 2157914.388166321, 2158326.88820392, 2158378.45070862, 2158481.5757180196, 2159615.9508214165, 2159873.763344916, 2160028.4508590153, 2160131.575868415, 2160440.9508966147, 2160595.638410714, 2160595.638410714, 2160595.638410714, 2160801.8884295137, 2160905.0134389135, 2161575.3260000115, 2161833.138523511, 2161987.8260376104, 2162142.51355171, 2162194.07605641, 2162194.07605641, 2162400.3260752093, 2162555.013589309, 2162658.138598709, 2162658.138598709, 2162709.701103409, 2162709.701103409, 2162761.2636081087, 2162812.8261128087, 2163019.076131608, 2163019.076131608, 2163122.2011410077, 2163225.3261504075, 2163328.4511598074, 2163431.5761692068, 2163431.5761692068, 2163483.1386739067, 2163586.2636833065, 2163689.3886927064, 2163740.9511974063, 2163947.2012162055, 2163998.7637209054, 2164050.3262256053, 2164101.8887303052, 2164101.8887303052, 2164101.8887303052, 2164256.576244405, 2164256.576244405, 2164359.7012538044, 2164359.7012538044, 2164823.763796103, 2164875.326300803, 2164875.326300803, 2164926.888805503, 2164926.888805503, 2164978.451310203, 2164978.451310203, 2165030.013814903, 2165030.013814903, 2165030.013814903, 2165030.013814903, 2165184.7013290026, 2165287.826338402, 2165287.826338402, 2165287.826338402, 2165287.826338402, 2165287.826338402, 2165442.5138525018, 2165494.0763572017, 2165494.0763572017, 2165494.0763572017, 2165545.6388619016, 2165545.6388619016, 2165597.2013666015, 2165597.2013666015, 2165648.7638713014, 2165648.7638713014, 2165700.3263760014, 2165700.3263760014, 2165700.3263760014, 2165751.888880701, 2165751.888880701, 2165751.888880701, 2165803.4513854007, 2165803.4513854007, 2165958.1388995005, 2165958.1388995005, 2165958.1388995005, 2165958.1388995005, 2166061.2639089003, 2166112.8264136002, 2166164.3889183, 2166215.951423, 2166215.951423, 2166215.951423, 2166215.951423, 2166267.5139276995, 2166267.5139276995, 2166370.6389370994, 2166370.6389370994, 2166422.2014417993, 2166422.2014417993, 2166473.763946499, 2166525.326451199, 2166576.888955899, 2166834.701479398, 2166937.826488798, 2166937.826488798, 2167040.951498198, 2167040.951498198, 2167092.514002898, 2167092.514002898, 2167092.514002898, 2167195.639012297, 2167298.764021697, 2167298.764021697, 2167350.326526397, 2167350.326526397, 2167556.5765451966, 2167556.5765451966, 2167556.5765451966, 2167608.1390498965, 2167608.1390498965, 2167608.1390498965, 2167659.701554596, 2167711.264059296, 2167711.264059296, 2167762.826563996, 2167762.826563996, 2167814.3890686957, 2167814.3890686957, 2167814.3890686957, 2167865.9515733956, 2167917.5140780956, 2167917.5140780956, 2167969.0765827955, 2168020.6390874954, 2168020.6390874954, 2168020.6390874954, 2168020.6390874954, 2168072.2015921953, 2168072.2015921953, 2168123.764096895, 2168123.764096895, 2168175.3266015947, 2168226.8891062946, 2168278.4516109945, 2168278.4516109945, 2168381.5766203944, 2168381.5766203944, 2168381.5766203944, 2168381.5766203944, 2168381.5766203944, 2168433.1391250943, 2168536.264134494, 2168536.264134494, 2168536.264134494, 2168587.826639194, 2168587.826639194, 2168587.826639194, 2168587.826639194, 2168587.826639194, 2168587.826639194, 2168639.3891438935, 2168690.9516485934, 2168690.9516485934, 2168742.5141532933, 2168794.0766579933, 2168845.639162693, 2168897.201667393, 2168897.201667393, 2168897.201667393, 2168948.764172093, 2169000.326676793, 2169000.326676793, 2169000.326676793, 2169000.326676793, 2169000.326676793, 2169051.889181493, 2169051.889181493, 2169051.889181493, 2169051.889181493, 2169051.889181493, 2169103.4516861923, 2169103.4516861923, 2169103.4516861923, 2169103.4516861923, 2169155.014190892, 2169206.576695592, 2169206.576695592, 2169258.139200292, 2169258.139200292, 2169309.701704992, 2169309.701704992, 2169309.701704992, 2169361.264209692, 2169515.9517237917, 2169567.514228491, 2169567.514228491, 2169567.514228491, 2169567.514228491, 2169567.514228491, 2169567.514228491, 2169567.514228491, 2169619.076733191, 2169670.639237891, 2169670.639237891, 2169670.639237891, 2169722.201742591, 2169773.764247291, 2169773.764247291, 2169825.3267519907, 2169825.3267519907, 2169825.3267519907, 2169825.3267519907, 2169876.8892566906, 2169928.4517613905, 2169928.4517613905, 2169928.4517613905, 2169928.4517613905, 2169980.0142660905, 2170134.7017801898, 2170186.2642848897, 2170186.2642848897, 2170237.8267895896, 2170289.3892942895, 2170289.3892942895, 2170289.3892942895, 2170289.3892942895, 2170392.5143036894, 2170392.5143036894, 2170444.0768083893, 2170444.0768083893, 2170547.2018177886, 2170598.7643224886, 2170650.3268271885, 2170701.8893318884, 2170701.8893318884, 2170701.8893318884, 2170701.8893318884, 2170701.8893318884, 2170753.4518365883, 2170805.0143412882, 2170856.576845988, 2170856.576845988, 2170959.701855388, 2170959.701855388, 2171011.2643600875, 2171165.951874187, 2171217.514378887, 2171372.201892987, 2171423.764397687, 2171423.764397687, 2171475.3269023863, 2171475.3269023863, 2171526.889407086, 2171526.889407086, 2171526.889407086, 2171526.889407086, 2171578.451911786, 2171681.576921186, 2171733.139425886, 2171733.139425886, 2171733.139425886, 2171733.139425886, 2171733.139425886, 2171733.139425886, 2171733.139425886, 2171784.701930586, 2171836.2644352857, 2171939.3894446855, 2171939.3894446855, 2171939.3894446855, 2171990.951949385, 2171990.951949385, 2171990.951949385, 2172042.514454085, 2172042.514454085, 2172042.514454085, 2172042.514454085, 2172094.076958785, 2172094.076958785, 2172094.076958785, 2172145.6394634848, 2172197.2019681847, 2172197.2019681847, 2172197.2019681847, 2172197.2019681847, 2172248.7644728846, 2172248.7644728846, 2172248.7644728846, 2172300.3269775845, 2172300.3269775845, 2172351.8894822844, 2172403.4519869843, 2172455.014491684, 2172455.014491684, 2172506.5769963837, 2172506.5769963837, 2172506.5769963837, 2172506.5769963837, 2172506.5769963837, 2172506.5769963837, 2172558.1395010836, 2172558.1395010836, 2172609.7020057836, 2172712.8270151834, 2172764.3895198833, 2172764.3895198833, 2172764.3895198833, 2172764.3895198833, 2172764.3895198833, 2172970.6395386825, 2172970.6395386825, 2172970.6395386825, 2172970.6395386825, 2172970.6395386825, 2172970.6395386825, 2172970.6395386825, 2172970.6395386825, 2173022.2020433825, 2173022.2020433825, 2173073.7645480824, 2173073.7645480824, 2173073.7645480824, 2173073.7645480824, 2173228.452062182, 2173228.452062182, 2173280.014566882, 2173280.014566882, 2173280.014566882, 2173280.014566882, 2173331.577071582, 2173434.7020809813, 2173486.2645856813, 2173486.2645856813, 2173486.2645856813, 2173486.2645856813, 2173486.2645856813, 2173486.2645856813, 2173537.827090381, 2173537.827090381, 2173537.827090381, 2173692.514604481, 2173692.514604481, 2173692.514604481, 2173744.077109181, 2173744.077109181, 2173744.077109181, 2173795.639613881, 2173795.639613881, 2173795.639613881, 2173795.639613881, 2173795.639613881, 2173847.2021185807, 2173847.2021185807, 2173847.2021185807, 2173847.2021185807, 2173847.2021185807, 2173847.2021185807, 2173847.2021185807, 2173898.76462328, 2173950.32712798, 2173950.32712798, 2173950.32712798, 2173950.32712798, 2173950.32712798, 2173950.32712798, 2174001.88963268, 2174053.45213738, 2174053.45213738, 2174105.01464208, 2174105.01464208, 2174156.5771467797, 2174156.5771467797, 2174156.5771467797, 2174208.1396514797, 2174208.1396514797, 2174208.1396514797, 2174208.1396514797, 2174208.1396514797, 2174208.1396514797, 2174208.1396514797, 2174208.1396514797, 2174208.1396514797, 2174208.1396514797, 2174208.1396514797, 2174208.1396514797, 2174208.1396514797, 2174208.1396514797, 2174208.1396514797, 2174208.1396514797, 2174208.1396514797, 2174311.2646608795, 2174311.2646608795, 2174311.2646608795, 2174311.2646608795, 2174311.2646608795, 2174311.2646608795, 2174362.827165579, 2174362.827165579, 2174362.827165579, 2174362.827165579, 2174362.827165579, 2174362.827165579, 2174362.827165579, 2174414.389670279, 2174465.952174979, 2174465.952174979, 2174465.952174979, 2174465.952174979, 2174465.952174979, 2174465.952174979, 2174465.952174979, 2174517.5146796787, 2174517.5146796787, 2174517.5146796787, 2174620.6396890786, 2174620.6396890786, 2174620.6396890786, 2174620.6396890786, 2174672.2021937785, 2174672.2021937785, 2174672.2021937785, 2174672.2021937785, 2174723.7646984784, 2174723.7646984784, 2174723.7646984784, 2174723.7646984784, 2174723.7646984784, 2174723.7646984784, 2174723.7646984784, 2174723.7646984784, 2174775.3272031783, 2174775.3272031783, 2174826.8897078778, 2174826.8897078778, 2174826.8897078778, 2174826.8897078778, 2174878.4522125777, 2174878.4522125777, 2174878.4522125777, 2174930.0147172776, 2174930.0147172776, 2174930.0147172776, 2174981.5772219775, 2174981.5772219775, 2175033.1397266774, 2175033.1397266774, 2175033.1397266774, 2175033.1397266774, 2175084.7022313774, 2175084.7022313774, 2175084.7022313774, 2175084.7022313774, 2175136.2647360773, 2175136.2647360773, 2175136.2647360773, 2175187.827240777, 2175187.827240777, 2175187.827240777, 2175239.389745477, 2175239.389745477, 2175239.389745477, 2175239.389745477, 2175290.9522501766, 2175290.9522501766, 2175290.9522501766, 2175290.9522501766, 2175290.9522501766, 2175290.9522501766, 2175342.5147548765, 2175342.5147548765, 2175342.5147548765, 2175342.5147548765, 2175342.5147548765, 2175342.5147548765, 2175394.0772595764, 2175394.0772595764, 2175394.0772595764, 2175394.0772595764, 2175394.0772595764, 2175445.6397642763, 2175445.6397642763, 2175497.2022689763, 2175497.2022689763, 2175497.2022689763, 2175497.2022689763, 2175497.2022689763, 2175497.2022689763, 2175497.2022689763, 2175548.764773676, 2175548.764773676, 2175548.764773676, 2175548.764773676, 2175600.327278376, 2175600.327278376, 2175600.327278376, 2175600.327278376, 2175600.327278376, 2175600.327278376, 2175600.327278376, 2175651.889783076, 2175703.452287776, 2175703.452287776, 2175755.014792476, 2175755.014792476, 2175755.014792476, 2175755.014792476, 2175755.014792476, 2175858.139801875, 2175858.139801875, 2175909.702306575, 2175909.702306575, 2175961.264811275, 2175961.264811275, 2176012.827315975, 2176012.827315975, 2176012.827315975, 2176012.827315975, 2176064.389820675, 2176064.389820675, 2176064.389820675, 2176115.952325375, 2176115.952325375, 2176115.952325375, 2176115.952325375, 2176115.952325375, 2176115.952325375, 2176115.952325375, 2176115.952325375, 2176167.5148300747, 2176167.5148300747, 2176167.5148300747, 2176219.0773347747, 2176270.639839474, 2176270.639839474, 2176270.639839474, 2176322.202344174, 2176322.202344174, 2176373.764848874, 2176373.764848874, 2176373.764848874, 2176373.764848874, 2176425.327353574, 2176425.327353574, 2176425.327353574, 2176425.327353574, 2176425.327353574, 2176476.889858274, 2176476.889858274, 2176476.889858274, 2176476.889858274, 2176476.889858274, 2176528.4523629737, 2176528.4523629737, 2176528.4523629737, 2176528.4523629737, 2176580.0148676736, 2176580.0148676736, 2176631.5773723735, 2176631.5773723735, 2176683.1398770735, 2176683.1398770735, 2176683.1398770735, 2176683.1398770735, 2176683.1398770735, 2176683.1398770735, 2176683.1398770735, 2176683.1398770735, 2176734.702381773, 2176734.702381773, 2176786.264886473, 2176786.264886473, 2176837.8273911728, 2176889.3898958727, 2176940.9524005726, 2176940.9524005726, 2176940.9524005726, 2176940.9524005726, 2176940.9524005726, 2176940.9524005726, 2176940.9524005726, 2176992.5149052725, 2176992.5149052725, 2176992.5149052725, 2177044.0774099724, 2177044.0774099724, 2177044.0774099724, 2177095.6399146724, 2177095.6399146724, 2177147.2024193723, 2177147.2024193723, 2177147.2024193723, 2177147.2024193723, 2177147.2024193723, 2177147.2024193723, 2177147.2024193723, 2177147.2024193723, 2177147.2024193723, 2177198.7649240717, 2177198.7649240717, 2177198.7649240717, 2177250.3274287716, 2177250.3274287716, 2177250.3274287716, 2177250.3274287716, 2177250.3274287716, 2177301.8899334716, 2177301.8899334716, 2177405.0149428714, 2177405.0149428714, 2177456.5774475713, 2177456.5774475713, 2177456.5774475713, 2177508.1399522712, 2177559.702456971, 2177559.702456971, 2177559.702456971, 2177559.702456971, 2177559.702456971, 2177559.702456971, 2177559.702456971, 2177611.264961671, 2177611.264961671, 2177611.264961671, 2177662.827466371, 2177662.827466371, 2177662.827466371, 2177662.827466371, 2177662.827466371, 2177714.3899710705, 2177714.3899710705, 2177714.3899710705, 2177714.3899710705, 2177765.9524757704, 2177765.9524757704, 2177765.9524757704, 2177765.9524757704, 2177817.5149804703, 2177817.5149804703, 2177869.07748517, 2177920.63998987, 2177920.63998987, 2177920.63998987, 2177920.63998987, 2177920.63998987, 2177972.20249457, 2177972.20249457, 2177972.20249457, 2177972.20249457, 2177972.20249457, 2178023.76499927, 2178023.76499927, 2178075.32750397, 2178126.89000867, 2178126.89000867, 2178126.89000867, 2178126.89000867, 2178126.89000867, 2178126.89000867, 2178126.89000867, 2178126.89000867, 2178178.4525133693, 2178178.4525133693, 2178230.015018069, 2178230.015018069, 2178230.015018069, 2178281.577522769, 2178281.577522769, 2178281.577522769, 2178333.140027469, 2178333.140027469, 2178384.702532169, 2178384.702532169, 2178384.702532169, 2178384.702532169, 2178384.702532169, 2178384.702532169, 2178436.265036869, 2178436.265036869, 2178436.265036869, 2178436.265036869, 2178436.265036869, 2178436.265036869, 2178436.265036869, 2178436.265036869, 2178436.265036869, 2178436.265036869, 2178436.265036869, 2178436.265036869, 2178436.265036869, 2178436.265036869, 2178436.265036869, 2178436.265036869, 2178487.827541569, 2178487.827541569, 2178487.827541569, 2178487.827541569, 2178487.827541569, 2178487.827541569, 2178487.827541569, 2178487.827541569, 2178487.827541569, 2178487.827541569, 2178487.827541569, 2178539.3900462687, 2178590.9525509686, 2178590.9525509686, 2178590.9525509686, 2178590.9525509686, 2178590.9525509686, 2178590.9525509686, 2178590.9525509686, 2178590.9525509686, 2178590.9525509686, 2178590.9525509686, 2178590.9525509686, 2178590.9525509686, 2178590.9525509686, 2178590.9525509686, 2178590.9525509686, 2178590.9525509686, 2178590.9525509686, 2178642.515055668, 2178642.515055668, 2178642.515055668, 2178642.515055668, 2178642.515055668, 2178642.515055668, 2178642.515055668, 2178642.515055668, 2178642.515055668, 2178642.515055668, 2178642.515055668, 2178694.077560368, 2178694.077560368, 2178694.077560368, 2178694.077560368, 2178694.077560368, 2178694.077560368, 2178694.077560368, 2178745.640065068, 2178745.640065068, 2178745.640065068, 2178848.7650744678, 2178900.3275791677, 2178900.3275791677, 2178900.3275791677, 2178951.8900838676, 2178951.8900838676, 2179003.4525885675, 2179003.4525885675, 2179003.4525885675, 2179003.4525885675, 2179003.4525885675, 2179055.0150932674, 2179055.0150932674, 2179055.0150932674, 2179055.0150932674, 2179106.577597967, 2179106.577597967, 2179106.577597967, 2179158.140102667, 2179158.140102667, 2179209.7026073667, 2179209.7026073667, 2179209.7026073667, 2179209.7026073667, 2179364.3901214665, 2179364.3901214665, 2179364.3901214665, 2179415.9526261664, 2179467.5151308663, 2179467.5151308663, 2179467.5151308663, 2179467.5151308663, 2179467.5151308663, 2179467.5151308663, 2179467.5151308663, 2179519.0776355662, 2179570.640140266, 2179570.640140266, 2179570.640140266, 2179570.640140266, 2179622.2026449656, 2179622.2026449656, 2179622.2026449656, 2179622.2026449656, 2179673.7651496655, 2179673.7651496655, 2179725.3276543655, 2179725.3276543655, 2179725.3276543655, 2179725.3276543655, 2179725.3276543655, 2179725.3276543655, 2179725.3276543655, 2179776.8901590654, 2179776.8901590654, 2179776.8901590654, 2179880.015168465, 2179880.015168465, 2179880.015168465, 2179880.015168465, 2179880.015168465, 2179880.015168465, 2179880.015168465, 2179880.015168465, 2179880.015168465, 2179880.015168465, 2179880.015168465, 2179880.015168465, 2179880.015168465, 2179880.015168465, 2179880.015168465, 2179931.577673165, 2179931.577673165, 2179983.140177865, 2179983.140177865, 2179983.140177865, 2179983.140177865, 2180034.702682565, 2180034.702682565, 2180034.702682565, 2180034.702682565, 2180034.702682565, 2180034.702682565, 2180034.702682565, 2180034.702682565, 2180086.2651872644, 2180086.2651872644, 2180086.2651872644, 2180137.8276919643, 2180137.8276919643, 2180137.8276919643, 2180137.8276919643, 2180137.8276919643, 2180189.3901966643, 2180189.3901966643, 2180189.3901966643, 2180189.3901966643, 2180189.3901966643, 2180240.952701364, 2180240.952701364, 2180240.952701364, 2180240.952701364, 2180240.952701364, 2180292.515206064, 2180292.515206064, 2180292.515206064, 2180292.515206064, 2180344.077710764, 2180344.077710764, 2180344.077710764, 2180344.077710764, 2180344.077710764, 2180395.640215464, 2180395.640215464, 2180395.640215464, 2180395.640215464, 2180395.640215464, 2180395.640215464, 2180447.202720164, 2180498.765224864, 2180498.765224864, 2180498.765224864, 2180498.765224864, 2180498.765224864, 2180498.765224864, 2180601.890234263, 2180601.890234263, 2180601.890234263, 2180601.890234263, 2180601.890234263, 2180601.890234263, 2180705.015243663, 2180705.015243663, 2180756.577748363, 2180808.140253063, 2180808.140253063, 2180808.140253063, 2180808.140253063, 2180808.140253063, 2180808.140253063, 2180808.140253063, 2180808.140253063, 2180859.7027577627, 2180911.2652624627, 2180911.2652624627, 2180962.8277671626, 2181014.390271862, 2181014.390271862, 2181065.952776562, 2181065.952776562, 2181065.952776562, 2181065.952776562, 2181065.952776562, 2181117.515281262, 2181117.515281262, 2181117.515281262, 2181169.077785962, 2181169.077785962, 2181169.077785962, 2181220.6402906617, 2181220.6402906617, 2181220.6402906617, 2181220.6402906617, 2181272.2027953616, 2181272.2027953616, 2181272.2027953616, 2181272.2027953616, 2181272.2027953616, 2181323.7653000616, 2181323.7653000616, 2181323.7653000616, 2181426.8903094614, 2181426.8903094614, 2181426.8903094614, 2181478.4528141613, 2181478.4528141613, 2181478.4528141613, 2181478.4528141613, 2181478.4528141613, 2181530.0153188608, 2181530.0153188608, 2181530.0153188608, 2181530.0153188608, 2181530.0153188608, 2181530.0153188608, 2181530.0153188608, 2181581.5778235607, 2181581.5778235607, 2181581.5778235607, 2181581.5778235607, 2181581.5778235607, 2181633.1403282606, 2181633.1403282606, 2181633.1403282606, 2181633.1403282606, 2181633.1403282606, 2181633.1403282606, 2181633.1403282606, 2181633.1403282606, 2181684.7028329605, 2181736.2653376604, 2181736.2653376604, 2181736.2653376604, 2181787.8278423604, 2181787.8278423604, 2181839.3903470603, 2181839.3903470603, 2181839.3903470603, 2181839.3903470603, 2181839.3903470603, 2181890.95285176, 2181890.95285176, 2181890.95285176, 2181942.51535646, 2181942.51535646, 2181942.51535646, 2181942.51535646, 2181942.51535646, 2181942.51535646, 2181942.51535646, 2181994.0778611596, 2181994.0778611596, 2181994.0778611596, 2182045.6403658595, 2182045.6403658595, 2182045.6403658595, 2182045.6403658595, 2182045.6403658595, 2182097.2028705594, 2182097.2028705594, 2182097.2028705594, 2182148.7653752593, 2182148.7653752593, 2182148.7653752593, 2182200.3278799593, 2182200.3278799593, 2182251.890384659, 2182251.890384659, 2182251.890384659, 2182303.452889359, 2182303.452889359, 2182303.452889359, 2182355.015394059, 2182355.015394059, 2182355.015394059, 2182458.1404034584, 2182458.1404034584, 2182509.7029081583, 2182561.265412858, 2182612.827917558, 2182612.827917558, 2182612.827917558, 2182612.827917558, 2182664.390422258, 2182664.390422258, 2182715.952926958, 2182715.952926958, 2182715.952926958, 2182715.952926958, 2182715.952926958, 2182767.515431658, 2182767.515431658, 2182767.515431658, 2182767.515431658, 2182819.077936358, 2182819.077936358, 2182819.077936358, 2182819.077936358, 2182819.077936358, 2182819.077936358, 2182870.6404410577, 2182922.2029457577, 2182922.2029457577, 2182922.2029457577, 2182922.2029457577, 2182922.2029457577, 2182922.2029457577, 2182973.765450457, 2182973.765450457, 2182973.765450457, 2182973.765450457, 2182973.765450457, 2182973.765450457, 2183025.327955157, 2183076.890459857, 2183076.890459857, 2183076.890459857, 2183128.452964557, 2183128.452964557, 2183128.452964557, 2183180.015469257, 2183180.015469257, 2183180.015469257, 2183180.015469257, 2183180.015469257, 2183180.015469257, 2183180.015469257, 2183231.5779739567, 2183231.5779739567, 2183231.5779739567, 2183231.5779739567, 2183231.5779739567, 2183231.5779739567, 2183231.5779739567, 2183231.5779739567, 2183283.1404786566, 2183283.1404786566, 2183283.1404786566, 2183334.7029833565, 2183334.7029833565, 2183386.2654880565, 2183386.2654880565, 2183386.2654880565, 2183386.2654880565, 2183386.2654880565, 2183437.827992756, 2183489.390497456, 2183489.390497456, 2183540.9530021558, 2183540.9530021558, 2183540.9530021558, 2183592.5155068557, 2183592.5155068557, 2183644.0780115556, 2183644.0780115556, 2183644.0780115556, 2183644.0780115556, 2183644.0780115556, 2183644.0780115556, 2183644.0780115556, 2183747.2030209554, 2183747.2030209554, 2183747.2030209554, 2183747.2030209554, 2183798.7655256554, 2183798.7655256554, 2183850.3280303553, 2183850.3280303553, 2183850.3280303553, 2183850.3280303553, 2183850.3280303553, 2183850.3280303553, 2183901.8905350547, 2183901.8905350547, 2183901.8905350547, 2183901.8905350547, 2183901.8905350547, 2183953.4530397546, 2183953.4530397546, 2184005.0155444546, 2184056.5780491545, 2184056.5780491545, 2184056.5780491545, 2184056.5780491545, 2184056.5780491545, 2184056.5780491545, 2184056.5780491545, 2184108.1405538544, 2184159.7030585543, 2184159.7030585543, 2184211.2655632542, 2184262.828067954, 2184365.9530773535, 2184365.9530773535, 2184417.5155820535, 2184469.0780867534, 2184469.0780867534, 2184469.0780867534, 2184520.6405914533, 2184520.6405914533, 2184520.6405914533, 2184520.6405914533, 2184572.203096153, 2184572.203096153, 2184572.203096153, 2184572.203096153, 2184572.203096153, 2184572.203096153, 2184572.203096153, 2184572.203096153, 2184623.765600853, 2184623.765600853, 2184623.765600853, 2184623.765600853, 2184675.328105553, 2184675.328105553, 2184675.328105553, 2184675.328105553, 2184675.328105553, 2184675.328105553, 2184726.890610253, 2184726.890610253, 2184726.890610253, 2184726.890610253, 2184726.890610253, 2184778.453114953, 2184778.453114953, 2184778.453114953, 2184830.0156196523, 2184881.5781243523, 2184933.140629052, 2184933.140629052, 2184984.703133752, 2184984.703133752, 2185036.265638452, 2185036.265638452, 2185036.265638452, 2185036.265638452, 2185036.265638452, 2185087.828143152, 2185087.828143152, 2185087.828143152, 2185139.390647852, 2185139.390647852, 2185139.390647852, 2185190.953152552, 2185190.953152552, 2185190.953152552, 2185190.953152552, 2185190.953152552, 2185190.953152552, 2185190.953152552, 2185190.953152552, 2185190.953152552, 2185190.953152552, 2185190.953152552, 2185242.5156572517, 2185242.5156572517, 2185242.5156572517, 2185294.0781619516, 2185294.0781619516, 2185294.0781619516, 2185294.0781619516, 2185294.0781619516, 2185294.0781619516, 2185345.640666651, 2185345.640666651, 2185345.640666651, 2185345.640666651, 2185345.640666651, 2185345.640666651, 2185345.640666651, 2185345.640666651, 2185345.640666651, 2185345.640666651, 2185345.640666651, 2185397.203171351, 2185397.203171351, 2185397.203171351, 2185397.203171351, 2185397.203171351, 2185397.203171351, 2185500.328180751, 2185500.328180751, 2185551.8906854508, 2185551.8906854508, 2185551.8906854508, 2185551.8906854508, 2185551.8906854508, 2185551.8906854508, 2185551.8906854508, 2185603.4531901507, 2185603.4531901507, 2185655.0156948506, 2185655.0156948506, 2185655.0156948506, 2185706.5781995505, 2185706.5781995505, 2185706.5781995505, 2185706.5781995505, 2185706.5781995505, 2185706.5781995505, 2185706.5781995505, 2185758.1407042504, 2185809.70320895, 2185809.70320895, 2185809.70320895, 2185809.70320895, 2185809.70320895, 2185861.26571365, 2185861.26571365, 2185912.8282183497, 2185912.8282183497, 2185912.8282183497, 2185912.8282183497, 2185912.8282183497, 2185912.8282183497, 2185964.3907230496, 2185964.3907230496, 2186015.9532277496, 2186067.5157324495, 2186067.5157324495, 2186067.5157324495, 2186067.5157324495, 2186119.0782371494, 2186119.0782371494, 2186222.2032465492, 2186222.2032465492, 2186222.2032465492, 2186273.7657512487, 2186273.7657512487, 2186325.3282559486, 2186325.3282559486, 2186325.3282559486, 2186325.3282559486, 2186325.3282559486, 2186325.3282559486, 2186325.3282559486, 2186325.3282559486, 2186325.3282559486, 2186325.3282559486, 2186325.3282559486, 2186325.3282559486, 2186325.3282559486, 2186325.3282559486, 2186325.3282559486, 2186325.3282559486, 2186325.3282559486, 2186325.3282559486, 2186325.3282559486, 2186376.8907606485, 2186376.8907606485, 2186376.8907606485, 2186376.8907606485, 2186376.8907606485, 2186428.4532653484, 2186428.4532653484, 2186428.4532653484, 2186428.4532653484, 2186428.4532653484, 2186428.4532653484, 2186428.4532653484, 2186480.0157700484, 2186480.0157700484, 2186480.0157700484, 2186480.0157700484, 2186480.0157700484, 2186480.0157700484, 2186480.0157700484, 2186531.5782747483, 2186531.5782747483, 2186531.5782747483, 2186531.5782747483, 2186583.140779448, 2186634.703284148, 2186634.703284148, 2186634.703284148, 2186634.703284148, 2186686.265788848, 2186686.265788848, 2186686.265788848, 2186737.828293548, 2186737.828293548, 2186789.3907982474, 2186840.9533029473, 2186840.9533029473, 2186840.9533029473, 2186892.5158076473, 2186892.5158076473, 2186944.078312347, 2186944.078312347, 2186944.078312347, 2186944.078312347, 2186944.078312347, 2186944.078312347, 2186995.640817047, 2187047.203321747, 2187047.203321747, 2187098.765826447, 2187098.765826447, 2187150.328331147, 2187150.328331147, 2187150.328331147, 2187150.328331147, 2187201.890835847, 2187201.890835847, 2187253.453340546, 2187305.015845246, 2187305.015845246, 2187356.578349946, 2187356.578349946, 2187356.578349946, 2187356.578349946, 2187408.140854646, 2187459.703359346, 2187511.265864046, 2187511.265864046, 2187511.265864046, 2187562.8283687457, 2187614.3908734457, 2187614.3908734457, 2187614.3908734457, 2187614.3908734457, 2187614.3908734457, 2187614.3908734457, 2187665.9533781456, 2187665.9533781456, 2187665.9533781456, 2187717.515882845, 2187717.515882845, 2187717.515882845, 2187717.515882845, 2187717.515882845, 2187717.515882845, 2187717.515882845, 2187717.515882845, 2187717.515882845, 2187820.640892245, 2187820.640892245, 2187872.203396945, 2187872.203396945, 2187872.203396945, 2187872.203396945, 2187923.7659016447, 2187923.7659016447, 2187975.3284063446, 2187975.3284063446, 2187975.3284063446, 2187975.3284063446, 2188026.8909110446, 2188078.4534157445, 2188130.0159204444, 2188130.0159204444, 2188181.578425144, 2188181.578425144, 2188181.578425144, 2188181.578425144, 2188233.1409298438, 2188233.1409298438, 2188284.7034345437, 2188336.2659392436, 2188336.2659392436, 2188336.2659392436, 2188387.8284439435, 2188387.8284439435, 2188439.3909486434, 2188439.3909486434, 2188490.9534533434, 2188490.9534533434, 2188542.5159580433, 2188594.078462743, 2188594.078462743, 2188594.078462743, 2188594.078462743, 2188645.6409674427, 2188645.6409674427, 2188645.6409674427, 2188697.2034721426, 2188697.2034721426, 2188697.2034721426, 2188748.7659768425, 2188748.7659768425, 2188748.7659768425, 2188748.7659768425, 2188748.7659768425, 2188748.7659768425, 2188748.7659768425, 2188800.3284815424, 2188800.3284815424, 2188800.3284815424, 2188800.3284815424, 2188800.3284815424, 2188800.3284815424, 2188800.3284815424, 2188851.8909862423, 2188903.4534909423, 2188903.4534909423, 2188955.015995642, 2189006.578500342, 2189006.578500342, 2189006.578500342, 2189006.578500342, 2189006.578500342, 2189006.578500342, 2189006.578500342, 2189006.578500342, 2189058.141005042, 2189058.141005042, 2189109.703509742, 2189109.703509742, 2189109.703509742, 2189109.703509742, 2189109.703509742, 2189109.703509742, 2189212.8285191413, 2189212.8285191413, 2189264.391023841, 2189264.391023841, 2189315.953528541, 2189315.953528541, 2189315.953528541, 2189315.953528541, 2189367.516033241, 2189419.078537941, 2189470.641042641, 2189470.641042641, 2189470.641042641, 2189470.641042641, 2189522.203547341, 2189522.203547341, 2189625.32855674, 2189625.32855674, 2189625.32855674, 2189625.32855674, 2189676.89106144, 2189676.89106144, 2189728.45356614, 2189728.45356614, 2189780.01607084, 2189780.01607084, 2189780.01607084, 2189780.01607084, 2189883.14108024, 2189883.14108024, 2189883.14108024, 2189883.14108024, 2189883.14108024, 2190037.8285943395, 2190089.391099039, 2190140.953603739, 2190140.953603739, 2190192.516108439, 2190192.516108439, 2190192.516108439, 2190244.0786131388, 2190295.6411178387, 2190295.6411178387, 2190295.6411178387, 2190295.6411178387, 2190347.2036225386, 2190398.7661272385, 2190398.7661272385, 2190450.3286319384, 2190450.3286319384, 2190501.8911366384, 2190501.8911366384, 2190501.8911366384, 2190553.4536413383, 2190553.4536413383, 2190553.4536413383, 2190605.0161460377, 2190605.0161460377, 2190605.0161460377, 2190605.0161460377, 2190605.0161460377, 2190605.0161460377, 2190605.0161460377, 2190656.5786507376, 2190656.5786507376, 2190708.1411554376, 2190708.1411554376, 2190708.1411554376, 2190708.1411554376, 2190759.7036601375, 2190759.7036601375, 2190811.2661648374, 2190862.8286695373, 2190862.8286695373, 2190862.8286695373, 2190862.8286695373, 2190862.8286695373, 2190862.8286695373, 2190862.8286695373, 2190965.953678937, 2190965.953678937, 2190965.953678937, 2191017.516183637, 2191017.516183637, 2191017.516183637, 2191017.516183637, 2191069.0786883365, 2191120.6411930365, 2191120.6411930365, 2191120.6411930365, 2191172.2036977364, 2191172.2036977364, 2191172.2036977364, 2191172.2036977364, 2191172.2036977364, 2191223.7662024363, 2191223.7662024363, 2191223.7662024363, 2191223.7662024363, 2191223.7662024363, 2191326.891211836, 2191326.891211836, 2191326.891211836, 2191326.891211836, 2191378.453716536, 2191430.016221236, 2191481.578725936, 2191533.1412306353, 2191533.1412306353, 2191584.7037353353, 2191584.7037353353, 2191636.266240035, 2191636.266240035, 2191687.828744735, 2191739.391249435, 2191739.391249435, 2191739.391249435, 2191790.953754135, 2191842.516258835, 2191842.516258835, 2191842.516258835, 2191842.516258835, 2191842.516258835, 2191945.6412682347, 2191945.6412682347, 2191997.203772934, 2191997.203772934, 2191997.203772934, 2192048.766277634, 2192048.766277634, 2192100.328782334, 2192151.891287034, 2192203.453791734, 2192203.453791734, 2192203.453791734, 2192203.453791734, 2192255.0162964338, 2192255.0162964338, 2192306.5788011337, 2192306.5788011337, 2192306.5788011337, 2192358.1413058336, 2192409.7038105335, 2192409.7038105335, 2192409.7038105335, 2192461.266315233, 2192461.266315233, 2192461.266315233, 2192461.266315233, 2192564.391324633, 2192564.391324633, 2192564.391324633, 2192564.391324633, 2192615.9538293327, 2192615.9538293327, 2192615.9538293327, 2192667.5163340326, 2192719.0788387326, 2192719.0788387326, 2192719.0788387326, 2192719.0788387326, 2192719.0788387326, 2192770.6413434325, 2192770.6413434325, 2192822.2038481324, 2192822.2038481324, 2192822.2038481324, 2192822.2038481324, 2192873.7663528323, 2192873.7663528323, 2192873.7663528323, 2192873.7663528323, 2192925.3288575322, 2192976.8913622317, 2192976.8913622317, 2192976.8913622317, 2192976.8913622317, 2192976.8913622317, 2192976.8913622317, 2193028.4538669316, 2193028.4538669316, 2193028.4538669316, 2193028.4538669316, 2193183.1413810314, 2193183.1413810314, 2193183.1413810314, 2193234.7038857313, 2193234.7038857313, 2193234.7038857313, 2193234.7038857313, 2193286.266390431, 2193286.266390431, 2193337.828895131, 2193337.828895131, 2193389.391399831, 2193440.9539045305, 2193440.9539045305, 2193440.9539045305, 2193544.0789139303, 2193544.0789139303, 2193544.0789139303, 2193595.6414186303, 2193595.6414186303, 2193647.20392333, 2193647.20392333, 2193647.20392333, 2193698.76642803, 2193698.76642803, 2193698.76642803, 2193698.76642803, 2193750.32893273, 2193750.32893273, 2193750.32893273, 2193905.0164468293, 2193905.0164468293, 2193905.0164468293, 2193905.0164468293, 2193905.0164468293, 2193905.0164468293, 2193905.0164468293, 2193956.578951529, 2193956.578951529, 2193956.578951529, 2194008.141456229, 2194111.266465629, 2194111.266465629, 2194162.828970329, 2194162.828970329, 2194162.828970329, 2194162.828970329, 2194162.828970329, 2194162.828970329, 2194265.9539797287, 2194265.9539797287, 2194265.9539797287, 2194265.9539797287, 2194317.5164844287, 2194317.5164844287, 2194317.5164844287, 2194317.5164844287, 2194317.5164844287, 2194369.0789891286, 2194369.0789891286, 2194369.0789891286, 2194369.0789891286, 2194369.0789891286, 2194369.0789891286, 2194369.0789891286, 2194369.0789891286, 2194369.0789891286, 2194369.0789891286, 2194420.641493828, 2194472.203998528, 2194472.203998528, 2194523.766503228, 2194523.766503228, 2194575.329007928, 2194575.329007928, 2194626.8915126277, 2194626.8915126277, 2194678.4540173276, 2194678.4540173276, 2194678.4540173276, 2194678.4540173276, 2194678.4540173276, 2194730.0165220276, 2194730.0165220276, 2194730.0165220276, 2194730.0165220276, 2194781.5790267275, 2194833.1415314274, 2194884.704036127, 2194884.704036127, 2194884.704036127, 2194884.704036127, 2194884.704036127, 2194884.704036127, 2194936.2665408268, 2194987.8290455267, 2194987.8290455267, 2194987.8290455267, 2194987.8290455267, 2195039.3915502266, 2195090.9540549265, 2195090.9540549265, 2195142.5165596264, 2195142.5165596264, 2195194.0790643264, 2195194.0790643264, 2195194.0790643264, 2195245.6415690263, 2195245.6415690263, 2195297.204073726, 2195297.204073726, 2195297.204073726, 2195348.7665784257, 2195348.7665784257, 2195503.4540925254, 2195503.4540925254, 2195503.4540925254, 2195555.0165972253, 2195606.5791019253, 2195658.141606625, 2195761.266616025, 2195761.266616025, 2195761.266616025, 2195761.266616025, 2195761.266616025, 2195761.266616025, 2195761.266616025, 2195864.3916254244, 2195864.3916254244, 2195864.3916254244, 2195864.3916254244, 2195864.3916254244, 2195864.3916254244, 2195864.3916254244, 2195864.3916254244, 2195915.9541301243, 2195915.9541301243, 2195915.9541301243, 2195915.9541301243, 2195915.9541301243, 2195915.9541301243, 2195967.516634824, 2195967.516634824, 2195967.516634824, 2195967.516634824, 2196019.079139524, 2196019.079139524, 2196070.641644224, 2196122.204148924, 2196122.204148924, 2196173.766653624, 2196380.016672423, 2196380.016672423, 2196380.016672423, 2196380.016672423, 2196380.016672423, 2196380.016672423, 2196380.016672423, 2196431.579177123, 2196431.579177123, 2196431.579177123, 2196431.579177123, 2196431.579177123, 2196431.579177123, 2196431.579177123, 2196431.579177123, 2196431.579177123, 2196431.579177123, 2196431.579177123, 2196431.579177123, 2196431.579177123, 2196483.141681823, 2196483.141681823, 2196483.141681823, 2196534.704186523, 2196534.704186523, 2196534.704186523, 2196534.704186523, 2196586.266691223, 2196637.8291959227, 2196637.8291959227, 2196689.3917006226, 2196740.9542053225, 2196740.9542053225, 2196740.9542053225, 2196740.9542053225, 2196740.9542053225, 2196844.079214722, 2196895.641719422, 2196895.641719422, 2196895.641719422, 2196895.641719422, 2196895.641719422, 2196947.2042241218, 2196947.2042241218, 2196947.2042241218, 2196998.7667288217, 2197050.3292335216, 2197050.3292335216, 2197101.8917382215, 2197153.4542429214, 2197153.4542429214, 2197205.0167476214, 2197205.0167476214, 2197256.579252321, 2197256.579252321, 2197256.579252321, 2197256.579252321, 2197256.579252321, 2197256.579252321, 2197308.1417570207, 2197308.1417570207, 2197308.1417570207, 2197308.1417570207, 2197308.1417570207, 2197308.1417570207, 2197359.7042617206, 2197359.7042617206, 2197411.2667664206, 2197411.2667664206, 2197411.2667664206, 2197411.2667664206, 2197462.8292711205, 2197462.8292711205, 2197462.8292711205, 2197462.8292711205, 2197514.3917758204, 2197514.3917758204, 2197514.3917758204, 2197514.3917758204, 2197514.3917758204, 2197514.3917758204, 2197617.5167852202, 2197617.5167852202, 2197669.07928992, 2197669.07928992, 2197720.6417946196, 2197772.2042993195, 2197772.2042993195, 2197772.2042993195, 2197772.2042993195, 2197823.7668040195, 2197823.7668040195, 2197875.3293087194, 2197875.3293087194, 2197926.8918134193, 2197978.454318119, 2197978.454318119, 2197978.454318119, 2197978.454318119, 2197978.454318119, 2197978.454318119, 2197978.454318119, 2197978.454318119, 2198030.016822819, 2198030.016822819, 2198030.016822819, 2198081.579327519, 2198081.579327519, 2198081.579327519, 2198081.579327519, 2198133.141832219, 2198133.141832219, 2198133.141832219, 2198184.704336919, 2198184.704336919, 2198184.704336919, 2198287.8293463183, 2198287.8293463183, 2198339.391851018, 2198339.391851018, 2198390.954355718, 2198390.954355718, 2198390.954355718, 2198442.516860418, 2198494.079365118, 2198494.079365118, 2198494.079365118, 2198494.079365118, 2198545.641869818, 2198545.641869818, 2198545.641869818, 2198545.641869818, 2198597.204374518, 2198597.204374518, 2198597.204374518, 2198597.204374518, 2198648.7668792177, 2198648.7668792177, 2198648.7668792177, 2198648.7668792177, 2198700.329383917, 2198700.329383917, 2198700.329383917, 2198700.329383917, 2198700.329383917, 2198751.891888617, 2198803.454393317, 2198803.454393317, 2198803.454393317, 2198803.454393317, 2198803.454393317, 2198803.454393317, 2198803.454393317, 2198855.016898017, 2198855.016898017, 2198906.579402717, 2198906.579402717, 2198958.1419074167, 2198958.1419074167, 2199061.2669168166, 2199061.2669168166, 2199112.8294215165, 2199164.391926216, 2199164.391926216, 2199164.391926216, 2199215.954430916, 2199267.516935616, 2199267.516935616, 2199319.0794403157, 2199319.0794403157, 2199319.0794403157, 2199422.2044497156, 2199422.2044497156, 2199422.2044497156, 2199473.7669544155, 2199525.3294591154, 2199525.3294591154, 2199525.3294591154, 2199525.3294591154, 2199525.3294591154, 2199628.454468515, 2199680.0169732147, 2199680.0169732147, 2199731.5794779146, 2199783.1419826145, 2199783.1419826145, 2199834.7044873144, 2199834.7044873144, 2199834.7044873144, 2199886.2669920144, 2199937.8294967143, 2199937.8294967143, 2199937.8294967143, 2199937.8294967143, 2199937.8294967143, 2199937.8294967143, 2199937.8294967143, 2199937.8294967143, 2199989.392001414, 2199989.392001414, 2200040.954506114, 2200040.954506114, 2200092.517010814, 2200092.517010814, 2200144.0795155135, 2200144.0795155135, 2200144.0795155135, 2200144.0795155135, 2200144.0795155135, 2200144.0795155135, 2200195.6420202134, 2200195.6420202134, 2200195.6420202134, 2200298.7670296133, 2200350.329534313, 2200350.329534313, 2200350.329534313, 2200401.892039013, 2200401.892039013, 2200401.892039013, 2200453.454543713, 2200453.454543713, 2200453.454543713, 2200505.017048413, 2200505.017048413, 2200505.017048413, 2200505.017048413, 2200505.017048413, 2200505.017048413, 2200505.017048413, 2200556.579553113, 2200556.579553113, 2200556.579553113, 2200556.579553113, 2200556.579553113, 2200608.1420578123, 2200608.1420578123, 2200711.267067212, 2200711.267067212, 2200762.829571912, 2200814.392076612, 2200814.392076612, 2200814.392076612, 2200865.954581312, 2200865.954581312, 2200865.954581312, 2200865.954581312, 2200917.517086012, 2200917.517086012, 2200969.0795907117, 2200969.0795907117, 2200969.0795907117, 2200969.0795907117, 2200969.0795907117, 2200969.0795907117, 2200969.0795907117, 2200969.0795907117, 2200969.0795907117, 2201072.204600111, 2201072.204600111, 2201072.204600111, 2201072.204600111, 2201123.767104811, 2201123.767104811, 2201123.767104811, 2201175.329609511, 2201175.329609511, 2201175.329609511, 2201226.892114211, 2201226.892114211, 2201226.892114211, 2201278.454618911, 2201278.454618911, 2201278.454618911, 2201330.0171236107, 2201381.5796283106, 2201381.5796283106, 2201381.5796283106, 2201433.1421330106, 2201433.1421330106, 2201433.1421330106, 2201433.1421330106, 2201484.7046377105, 2201484.7046377105, 2201484.7046377105, 2201587.82964711, 2201587.82964711, 2201587.82964711, 2201639.3921518098, 2201639.3921518098, 2201639.3921518098, 2201742.5171612096, 2201742.5171612096, 2201794.0796659095, 2201794.0796659095, 2201845.6421706094, 2201845.6421706094, 2201897.2046753094, 2201897.2046753094, 2201897.2046753094, 2201897.2046753094, 2201897.2046753094, 2202000.329684709, 2202051.8921894087, 2202051.8921894087, 2202051.8921894087, 2202103.4546941086, 2202155.0171988085, 2202155.0171988085, 2202155.0171988085, 2202155.0171988085, 2202155.0171988085, 2202206.5797035084, 2202258.1422082083, 2202258.1422082083, 2202258.1422082083, 2202258.1422082083, 2202309.7047129082, 2202309.7047129082, 2202309.7047129082, 2202309.7047129082, 2202361.267217608, 2202361.267217608, 2202412.829722308, 2202412.829722308, 2202464.392227008, 2202464.392227008, 2202464.392227008, 2202464.392227008, 2202464.392227008, 2202515.9547317075, 2202515.9547317075, 2202515.9547317075, 2202515.9547317075, 2202515.9547317075, 2202515.9547317075, 2202567.5172364074, 2202567.5172364074, 2202567.5172364074, 2202619.0797411073, 2202619.0797411073, 2202619.0797411073, 2202670.642245807, 2202722.204750507, 2202722.204750507, 2202722.204750507, 2202722.204750507, 2202722.204750507, 2202722.204750507, 2202773.767255207, 2202825.329759907, 2202825.329759907, 2202980.0172740063, 2202980.0172740063, 2202980.0172740063, 2203031.579778706, 2203031.579778706, 2203031.579778706, 2203083.142283406, 2203083.142283406, 2203134.704788106, 2203186.267292806, 2203186.267292806, 2203186.267292806, 2203186.267292806, 2203186.267292806, 2203186.267292806, 2203237.829797506, 2203289.392302206, 2203340.9548069057, 2203340.9548069057, 2203392.5173116056, 2203444.079816305, 2203444.079816305, 2203444.079816305, 2203444.079816305, 2203495.642321005, 2203495.642321005, 2203495.642321005, 2203495.642321005, 2203495.642321005, 2203495.642321005, 2203495.642321005, 2203547.204825705, 2203547.204825705, 2203547.204825705, 2203598.767330405, 2203598.767330405, 2203598.767330405, 2203650.3298351048, 2203650.3298351048, 2203701.8923398047, 2203701.8923398047, 2203701.8923398047, 2203701.8923398047, 2203805.0173492045, 2203805.0173492045, 2203856.5798539044, 2203856.5798539044, 2203856.5798539044, 2203908.1423586044, 2203908.1423586044, 2203959.704863304, 2203959.704863304, 2203959.704863304, 2203959.704863304, 2203959.704863304, 2203959.704863304, 2203959.704863304, 2203959.704863304, 2204011.2673680037, 2204011.2673680037, 2204165.9548821035, 2204165.9548821035, 2204165.9548821035, 2204165.9548821035, 2204165.9548821035, 2204217.5173868034, 2204269.0798915033, 2204269.0798915033, 2204269.0798915033, 2204320.6423962032, 2204320.6423962032, 2204423.7674056026, 2204475.3299103025, 2204475.3299103025, 2204475.3299103025, 2204475.3299103025, 2204475.3299103025, 2204475.3299103025, 2204578.4549197024, 2204630.0174244023, 2204681.579929102, 2204733.142433802, 2204733.142433802, 2204733.142433802, 2204733.142433802, 2204733.142433802, 2204733.142433802, 2204784.704938502, 2204784.704938502, 2204939.3924526013, 2204939.3924526013, 2204939.3924526013, 2204990.9549573013, 2204990.9549573013, 2205042.517462001, 2205042.517462001, 2205042.517462001, 2205042.517462001, 2205094.079966701, 2205094.079966701, 2205145.642471401, 2205145.642471401, 2205145.642471401, 2205145.642471401, 2205197.204976101, 2205300.329985501, 2205351.8924902, 2205351.8924902, 2205506.5800043, 2205506.5800043, 2205609.7050137, 2205661.2675183997, 2205712.8300230997, 2205712.8300230997, 2205712.8300230997, 2205712.8300230997, 2205764.3925277996, 2205764.3925277996, 2205815.9550324995, 2205867.517537199, 2205867.517537199, 2205919.080041899, 2205919.080041899, 2205919.080041899, 2205970.642546599, 2205970.642546599, 2206022.2050512987, 2206022.2050512987, 2206022.2050512987, 2206022.2050512987, 2206022.2050512987, 2206073.7675559986, 2206073.7675559986, 2206073.7675559986, 2206073.7675559986, 2206125.3300606986, 2206228.4550700984, 2206228.4550700984, 2206280.0175747983, 2206280.0175747983, 2206434.7050888976, 2206434.7050888976, 2206486.2675935975, 2206537.8300982974, 2206640.9551076973, 2206640.9551076973, 2206640.9551076973, 2206640.9551076973, 2206744.080117097, 2206744.080117097, 2206744.080117097, 2206795.6426217966, 2206795.6426217966, 2206795.6426217966, 2206847.2051264965, 2206898.7676311964, 2206950.3301358963, 2206950.3301358963, 2206950.3301358963, 2207001.8926405963, 2207001.8926405963, 2207001.8926405963, 2207053.455145296, 2207053.455145296, 2207053.455145296, 2207053.455145296, 2207156.580154696, 2207156.580154696, 2207208.142659396, 2207208.142659396, 2207208.142659396, 2207208.142659396, 2207259.7051640954, 2207465.955182895, 2207465.955182895, 2207569.080192295, 2207569.080192295, 2207672.2052016947, 2207672.2052016947, 2207723.7677063947, 2207723.7677063947, 2207775.330211094, 2207826.892715794, 2207981.580229894, 2207981.580229894, 2208033.1427345937, 2208084.7052392936, 2208084.7052392936, 2208084.7052392936, 2208084.7052392936, 2208084.7052392936, 2208084.7052392936, 2208136.2677439936, 2208136.2677439936, 2208187.8302486935, 2208239.392753393, 2208342.5177627928, 2208342.5177627928, 2208342.5177627928, 2208342.5177627928, 2208445.6427721926, 2208497.2052768925, 2208548.7677815924, 2208600.3302862924, 2208651.8927909923, 2208755.0178003917, 2208858.1428097915, 2208909.7053144914, 2208909.7053144914, 2208961.2678191913, 2208961.2678191913, 2209012.8303238912, 2209012.8303238912, 2209012.8303238912, 2209012.8303238912, 2209012.8303238912, 2209064.392828591, 2209064.392828591, 2209115.955333291, 2209115.955333291, 2209115.955333291, 2209270.6428473904, 2209270.6428473904, 2209270.6428473904, 2209270.6428473904, 2209270.6428473904, 2209373.76785679, 2209373.76785679, 2209373.76785679, 2209425.33036149, 2209425.33036149, 2209425.33036149, 2209476.89286619, 2209476.89286619, 2209528.45537089, 2209580.01787559, 2209580.01787559, 2209631.58038029, 2209631.58038029, 2209631.58038029, 2209683.1428849893, 2209734.705389689, 2209786.267894389, 2209786.267894389, 2209889.392903789, 2209940.955408489, 2209940.955408489, 2210044.0804178887, 2210044.0804178887, 2210095.6429225886, 2210095.6429225886, 2210095.6429225886, 2210147.205427288, 2210147.205427288, 2210198.767931988, 2210198.767931988, 2210198.767931988, 2210198.767931988, 2210198.767931988, 2210250.330436688, 2210250.330436688, 2210353.4554460878, 2210456.5804554876, 2210456.5804554876, 2210559.7054648874, 2210559.7054648874, 2210611.267969587, 2210662.830474287, 2210662.830474287, 2210662.830474287, 2210662.830474287, 2210662.830474287, 2210714.3929789867, 2210765.9554836866, 2210765.9554836866, 2210765.9554836866, 2210817.5179883866, 2210817.5179883866, 2210920.6429977864, 2210920.6429977864, 2210920.6429977864, 2210920.6429977864, 2211023.7680071862, 2211023.7680071862, 2211075.3305118857, 2211126.8930165856, 2211126.8930165856, 2211126.8930165856, 2211178.4555212855, 2211178.4555212855, 2211178.4555212855, 2211178.4555212855, 2211178.4555212855, 2211178.4555212855, 2211178.4555212855, 2211178.4555212855, 2211178.4555212855, 2211178.4555212855, 2211178.4555212855, 2211333.1430353853, 2211436.268044785, 2211487.830549485, 2211539.393054185, 2211539.393054185, 2211590.9555588844, 2211797.205577684, 2211797.205577684, 2211848.768082384, 2211848.768082384, 2211848.768082384, 2211848.768082384, 2211848.768082384, 2211848.768082384, 2211848.768082384, 2211848.768082384, 2211848.768082384, 2211900.330587084, 2212003.455596484, 2212106.580605883, 2212209.705615283, 2212209.705615283, 2212261.268119983, 2212312.830624683, 2212364.3931293827, 2212364.3931293827, 2212415.9556340827, 2212467.5181387826, 2212467.5181387826, 2212519.080643482, 2212519.080643482, 2212673.768157582, 2212776.8931669816, 2212776.8931669816, 2212880.0181763815, 2212931.5806810814, 2212931.5806810814, 2212931.5806810814, 2212983.1431857813, 2213137.8306998806, 2213189.3932045805, 2213240.9557092804, 2213344.0807186803, 2213395.64322338, 2213395.64322338, 2213395.64322338, 2213395.64322338, 2213395.64322338, 2213395.64322338, 2213395.64322338, 2213498.7682327796, 2213498.7682327796, 2213498.7682327796, 2213498.7682327796, 2213498.7682327796, 2213550.3307374795, 2213550.3307374795, 2213550.3307374795, 2213550.3307374795, 2213601.8932421794, 2213601.8932421794, 2213653.4557468793, 2213653.4557468793, 2213705.0182515793, 2213705.0182515793, 2213756.580756279, 2213756.580756279, 2213859.705765679, 2213911.268270379, 2213962.8307750784, 2214065.955784478, 2214065.955784478, 2214065.955784478, 2214220.643298578, 2214272.205803278, 2214375.3308126777, 2214375.3308126777, 2214375.3308126777, 2214478.455822077, 2214633.143336177, 2214633.143336177, 2214633.143336177, 2214633.143336177, 2214633.143336177, 2214684.705840877, 2214736.2683455767, 2214787.8308502766, 2214787.8308502766, 2214787.8308502766, 2214839.3933549765, 2214839.3933549765, 2215045.6433737758, 2215097.2058784757, 2215200.3308878755, 2215251.8933925754, 2215251.8933925754, 2215303.4558972754, 2215303.4558972754, 2215303.4558972754, 2215406.5809066747, 2215458.1434113747, 2215458.1434113747, 2215509.7059160746, 2215561.2684207745, 2215664.3934301743, 2215715.9559348742, 2215870.6434489735, 2215922.2059536735, 2215973.7684583734, 2216025.3309630733, 2216025.3309630733, 2216025.3309630733, 2216025.3309630733, 2216283.143486573, 2216283.143486573, 2216283.143486573, 2216283.143486573, 2216283.143486573, 2216334.7059912723, 2216334.7059912723, 2216386.2684959723, 2216437.831000672, 2216489.393505372, 2216644.081019472, 2216695.643524172, 2216798.7685335716, 2216850.331038271, 2216850.331038271, 2216901.893542971, 2217005.018552371, 2217005.018552371, 2217005.018552371, 2217056.5810570708, 2217056.5810570708, 2217056.5810570708, 2217108.1435617707, 2217159.7060664706, 2217159.7060664706, 2217159.7060664706, 2217262.8310758704, 2217314.39358057, 2217417.5185899697, 2217469.0810946696, 2217675.3311134693, 2217726.8936181692, 2217726.8936181692, 2217726.8936181692, 2217726.8936181692, 2217778.4561228687, 2217778.4561228687, 2217830.0186275686, 2217881.5811322685, 2217881.5811322685, 2217984.7061416684, 2217984.7061416684, 2218036.2686463683, 2218087.831151068, 2218087.831151068, 2218087.831151068, 2218139.393655768, 2218139.393655768, 2218242.5186651675, 2218294.0811698674, 2218448.768683967, 2218500.331188667, 2218706.5812074663, 2218706.5812074663, 2218706.5812074663, 2218861.268721566, 2218912.831226266, 2218912.831226266, 2218912.831226266, 2218964.393730966, 2219119.0812450657, 2219170.6437497656, 2219376.893768565, 2219376.893768565, 2219376.893768565, 2219376.893768565, 2219376.893768565, 2219428.4562732647, 2219480.0187779646, 2219531.5812826646, 2219634.7062920644, 2219686.268796764, 2219686.268796764, 2219737.831301464, 2219892.5188155635, 2219892.5188155635, 2219944.0813202634, 2219995.6438249634, 2220047.2063296633, 2220047.2063296633, 2220047.2063296633, 2220047.2063296633, 2220201.8938437626, 2220201.8938437626, 2220201.8938437626, 2220201.8938437626, 2220201.8938437626, 2220201.8938437626, 2220201.8938437626, 2220356.5813578623, 2220459.706367262, 2220459.706367262, 2220562.831376662, 2220820.643900161, 2220872.206404861, 2220872.206404861, 2220872.206404861, 2220975.331414261, 2221026.893918961, 2221130.01892836, 2221130.01892836, 2221181.58143306, 2221233.14393776, 2221284.70644246, 2221490.9564612596, 2221490.9564612596, 2221490.9564612596, 2221542.5189659595, 2221542.5189659595, 2221645.643975359, 2221851.8939941586, 2221851.8939941586, 2221851.8939941586, 2221903.4564988585, 2221903.4564988585, 2221955.0190035584, 2221955.0190035584, 2222109.7065176577, 2222212.8315270576, 2222315.9565364574, 2222315.9565364574, 2222625.3315646565, 2222728.4565740563, 2222780.019078756, 2222831.581583456, 2222883.144088156, 2222883.144088156, 2222986.269097556, 2223089.3941069553, 2223089.3941069553, 2223140.956611655, 2223140.956611655, 2223140.956611655, 2223192.519116355, 2223192.519116355, 2223192.519116355, 2223192.519116355, 2223244.081621055, 2223347.206630455, 2223398.769135155, 2223450.3316398547, 2223450.3316398547, 2223553.456649254, 2223605.019153954, 2223605.019153954, 2223605.019153954, 2223605.019153954, 2223656.581658654, 2223862.8316774536, 2224069.081696253, 2224120.6442009527, 2224223.7692103526, 2224223.7692103526, 2224275.3317150525, 2224378.4567244523, 2224481.5817338517, 2224481.5817338517, 2224481.5817338517, 2224481.5817338517, 2224533.1442385516, 2224739.3942573513, 2224842.519266751, 2224842.519266751, 2224842.519266751, 2224945.6442761505, 2224997.2067808504, 2225151.89429495, 2225203.45679965, 2225203.45679965, 2225358.14431375, 2225409.7068184493, 2225409.7068184493, 2225564.394332549, 2225564.394332549, 2225719.081846649, 2225719.081846649, 2226028.456874848, 2226080.019379548, 2226183.1443889476, 2226286.2693983475, 2226337.831903047, 2226337.831903047, 2226440.9569124468, 2226492.5194171467, 2226544.0819218466, 2226595.6444265465, 2226647.2069312464, 2226647.2069312464, 2226647.2069312464, 2226647.2069312464, 2226647.2069312464, 2226698.7694359464, 2226698.7694359464, 2226698.7694359464, 2226801.894445346, 2226956.5819594455, 2226956.5819594455, 2227008.1444641454, 2227059.7069688453, 2227059.7069688453, 2227162.831978245, 2227420.6445017443, 2227472.207006444, 2227523.769511144, 2227626.894520544, 2227678.457025244, 2227678.457025244, 2227678.457025244, 2227678.457025244, 2227781.5820346433, 2227781.5820346433, 2227781.5820346433, 2227833.144539343, 2228142.5195675427, 2228245.6445769425, 2228348.769586342, 2228503.4571004417, 2228658.1446145414, 2228658.1446145414, 2228709.7071192414, 2228812.8321286407, 2228812.8321286407, 2228915.9571380406, 2229019.0821474404, 2229019.0821474404, 2229070.6446521403, 2229173.76966154, 2229173.76966154, 2229173.76966154, 2229225.3321662396, 2229225.3321662396, 2229534.707194439, 2229637.832203839, 2229689.3947085384, 2229689.3947085384, 2229792.5197179383, 2229844.082222638, 2229844.082222638, 2229998.769736738, 2230050.332241438, 2230101.894746138, 2230256.582260237, 2230256.582260237, 2230359.707269637, 2230411.269774337, 2230514.3947837367, 2230617.5197931365, 2231030.0198307354, 2231287.8323542345, 2231390.9573636344, 2231442.5198683343, 2231700.3323918334, 2231700.3323918334, 2231700.3323918334, 2231803.4574012333, 2231958.144915333, 2232319.082448232, 2232370.644952932, 2232370.644952932, 2232422.207457632, 2232628.457476431, 2232783.144990531, 2232834.7074952307, 2232886.2699999306, 2232937.8325046306, 2232937.8325046306, 2233092.52001873, 2233298.7700375295, 2233350.3325422294, 2233350.3325422294, 2233711.2700751284, 2234020.6451033275, 2234020.6451033275, 2234020.6451033275, 2234226.895122127, 2234278.457626827, 2234330.020131527, 2234330.020131527, 2234381.582636227, 2234381.582636227, 2234484.7076456263, 2234536.270150326, 2234794.082673826, 2234845.6451785257, 2235412.8327302244, 2235412.8327302244, 2235412.8327302244, 2235412.8327302244, 2235515.9577396237, 2235567.5202443236, 2235670.6452537235, 2235670.6452537235, 2235670.6452537235, 2235876.895272523, 2235928.4577772226, 2236031.5827866225, 2236031.5827866225, 2236186.270300722, 2236237.832805422, 2236237.832805422, 2236237.832805422, 2236392.5203195214, 2236392.5203195214, 2236444.0828242213, 2236701.895347721, 2236959.70787122, 2237011.27037592, 2237114.39538532, 2237165.9578900198, 2237320.645404119, 2237475.332918219, 2237578.4579276186, 2237784.7079464183, 2237784.7079464183, 2237784.7079464183, 2237990.9579652175, 2237990.9579652175, 2238094.0829746174, 2238145.6454793173, 2238145.6454793173, 2238403.4580028164, 2238455.0205075163, 2238558.145516916, 2238815.9580404153, 2239073.770563915, 2239125.333068615, 2239434.708096814, 2239537.8331062137, 2239537.8331062137, 2239589.3956109136, 2240053.4581532124, 2240053.4581532124, 2240105.0206579124, 2240156.5831626123, 2240156.5831626123, 2240208.1456673117, 2240465.9581908113, 2240569.083200211, 2240569.083200211, 2240620.645704911, 2240672.2082096105, 2240826.8957237103, 2240878.45822841, 2240878.45822841, 2240930.02073311, 2241445.645780109, 2241445.645780109, 2241600.3332942086, 2241600.3332942086, 2241651.895798908, 2241909.7083224077, 2242219.0833506067, 2242322.2083600066, 2242528.4583788062, 2242631.5833882056, 2242992.520921105, 2243044.083425805, 2243044.083425805, 2243095.6459305044, 2243456.583463404, 2243611.270977503, 2243611.270977503, 2243714.395986903, 2244178.458529202, 2244178.458529202, 2244178.458529202, 2244333.1460433016, 2244539.396062101, 2244590.9585668007, 2244642.5210715006, 2244694.0835762005, 2245055.0211090995, 2245158.1461184993, 2245209.7086231993, 2245415.958641999, 2245415.958641999, 2245570.646156098, 2245622.208660798, 2245828.458679598, 2246086.271203097, 2246189.396212497, 2246240.9587171967, 2246550.3337453958, 2246962.8337829947, 2247117.5212970944, 2247117.5212970944, 2247169.0838017943, 2247323.771315894, 2247530.0213346933, 2247736.271353493, 2247890.9588675923, 2247994.083876992, 2248148.771391092, 2248251.8964004917, 2248509.708923991, 2248612.8339333907, 2248715.9589427905, 2248973.7714662896, 2249231.5839897892, 2249901.8965508873, 2250262.8340837862, 2250469.084102586, 2250520.646607286, 2250572.2091119858, 2250675.3341213856, 2250881.584140185, 2250881.584140185, 2250881.584140185, 2250881.584140185, 2250984.7091495846, 2251087.8341589845, 2251345.6466824836, 2251912.8342341823, 2252170.6467576814, 2252583.1467952803, 2252789.39681408, 2252892.52182348, 2253665.9593939777, 2253872.2094127773, 2253975.334422177, 2254078.4594315765, 2254233.1469456763, 2254387.834459776, 2254439.396964476, 2254645.646983275, 2254800.334497375, 2255058.147020874, 2255161.272030274, 2255212.834534974, 2255419.0845537735, 2255522.209563173, 2255522.209563173, 2255573.772067873, 2255676.8970772726, 2255934.709600772, 2256244.0846289713, 2256501.8971524704, 2256553.4596571703, 2256811.27218067, 2256965.9596947692, 2257017.522199469, 2257120.647208869, 2257430.022237068, 2257481.584741768, 2257584.709751168, 2257790.9597699675, 2257945.647284067, 2258151.8973028664, 2258151.8973028664, 2258151.8973028664, 2258461.2723310655, 2258512.8348357654, 2258512.8348357654, 2258564.3973404653, 2258564.3973404653, 2258667.522349865, 2258873.7723686644, 2259028.459882764, 2260111.2724814615, 2260111.2724814615, 2260111.2724814615, 2260111.2724814615, 2260111.2724814615, 2260214.397490861, 2260626.8975284602, 2260626.8975284602, 2260781.5850425595, 2261090.960070759, 2261194.0850801584, 2261194.0850801584, 2261400.335098958, 2261658.1476224572, 2261709.710127157, 2261761.272631857, 2262019.0851553567, 2262586.2727070553, 2262792.5227258545, 2262792.5227258545, 2262947.2102399543, 2263359.710277553, 2263720.647810452, 2264081.585343351, 2264287.835362151, 2264648.77289505, 2264958.1479232493, 2265215.9604467484, 2265628.4604843473, 2265834.710503147, 2266195.648036046, 2266401.8980548456, 2266814.3980924445, 2267226.8981300434, 2267433.1481488426, 2267742.523177042, 2267845.6481864415, 2267948.7731958413, 2268000.3357005413, 2268206.585719341, 2268412.83573814, 2268619.08575694, 2268670.6482616398, 2268670.6482616398, 2268980.023289839, 2269289.3983180383, 2270217.523402636, 2270269.0859073354, 2270269.0859073354, 2270526.898430835, 2270526.898430835, 2270578.460935535, 2270681.5859449347, 2270836.273459034, 2271094.0859825336, 2271506.5860201325, 2271867.5235530315, 2272022.2110671313, 2272486.27360943, 2272486.27360943, 2272486.27360943, 2273156.586170528, 2273362.8361893278, 2273362.8361893278, 2273517.5237034275, 2273517.5237034275, 2274084.7112551257, 2274290.9612739254, 2274961.273835024, 2275012.8363397233, 2275064.3988444232, 2275734.7114055217, 2276250.3364525205, 2276250.3364525205, 2276250.3364525205, 2276250.3364525205, 2276250.3364525205, 2276817.524004219, 2276972.2115183184, 2277126.899032418, 2277590.961574717, 2278776.899182814, 2279911.274286211, 2280736.2743614092, 2281045.6493896083, 2281045.6493896083, 2281458.149427207, 2281664.399446007, 2281819.086960106, 2281819.086960106, 2281819.086960106, 2282180.024493005, 2282901.8995588035, 2283933.149652801, 2283933.149652801, 2283933.149652801, 2283984.712157501, 2284190.9621763, 2285480.024793797, 2285583.1498031965, 2285686.2748125964, 2286614.399897194, 2287542.5249817916, 2288780.0250945888, 2289037.837618088, 2289192.5251321876, 2289244.0876368876, 2289244.0876368876, 2289450.337655687, 2289501.9001603867, 2290326.9002355845, 2291358.150329582, 2291615.9628530815, 2291667.5253577814, 2292131.5879000803, 2292286.2754141795, 2292698.7754517784, 2293317.525508177, 2294142.525583375, 2294606.5881256736, 2294915.963153873, 2295225.338182072, 2295431.588200872, 2295483.1507055718, 2295483.1507055718, 2296875.338332468, 2297339.400874767, 2297545.650893566, 2299092.5260345624, 2299298.776053362, 2300175.3386332598, 2301515.9637554563, 2302495.651344754, 2303062.8388964524, 2303165.9639058523, 2303165.9639058523, 2303165.9639058523, 2303165.9639058523, 2303165.9639058523, 2303165.9639058523, 2303165.9639058523, 2303578.463943451, 2303784.7139622504, 2303836.2764669503, 2304506.589028049, 2305795.6516455454, 2306981.5892536426, 2307342.5267865416, 2307394.0892912415, 2307651.9018147406, 2308012.8393476396, 2308476.9018899384, 2308992.526936937, 2309765.9645074354, 2309817.5270121354, 2310694.089592033, 2310848.7771061324, 2311828.46469543, 2315180.0275009214, 2316056.590080819, 2316623.7776325177, 2316623.7776325177, 2316623.7776325177, 2316778.4651466175, 2316778.4651466175, 2319356.590381611, 2320490.965485008, 2320542.527989708, 2320645.6529991077, 2320645.6529991077, 2321161.2780461065, 2321934.7156166043, 2323069.0907200016, 2323326.9032435007, 2325183.153412696, 2326987.8410771918, 2326987.8410771918, 2327090.966086591, 2327503.46612419, 2330700.341415582, 2330700.341415582, 2330700.341415582, 2330700.341415582, 2333226.904145876, 2333330.0291552753, 2333536.279174075, 2336681.591960767, 2337919.092073564, 2340806.5923367566, 2346375.3428443423, 2347509.7179477396, 2348076.905499438, 2348850.343069936, 2348850.343069936, 2349005.0305840354, 2349675.343145134, 2356069.093727918, 2356997.2188125155, 2357048.7813172154, 2358337.843934712, 2358801.906477011, 2360555.031636806, 2361637.8442355036, 2366897.2197148902, 2366897.2197148902, 2371022.2200908796, 2371537.8451378783, 2376178.4705608664, 2376178.4705608664, 2376178.4705608664, 2376178.4705608664, 2377880.0332159624, 2377880.0332159624, 2377880.0332159624, 2377880.0332159624, 2378447.220767661, 2380458.1584509555, 2381231.596021454, 2381231.596021454, 2382469.0961342505, 2382520.6586389504, 2383036.283685949, 2385047.221369244, 2389481.596773433, 2390255.034343931, 2395462.8473186176, 2395462.8473186176, 2395462.8473186176, 2396081.597375016, 2397731.5975254118, 2397731.5975254118, 2397731.5975254118, 2399690.972704007, 2400051.910236906, 2400103.4727416057, 2400361.2852651053, 2400361.2852651053, 2400361.2852651053, 2400361.2852651053, 2400361.2852651053, 2402990.9730047984, 2412117.5363366753, 2412117.5363366753, 2412117.5363366753, 2412117.5363366753, 2412117.5363366753, 2413148.7864306727, 2413148.7864306727, 2415056.599104568, 2420573.7871074537, 2425781.6000821404, 2431040.9755615275, 2432948.788235422, 2432948.788235422, 2444859.726821092, 2446458.164466788, 2449809.7272722796, 2449809.7272722796, 2469712.854086429, 2470022.2291146284, 2470022.2291146284, 2470022.2291146284, 2477601.917305509, 2477601.917305509, 2477601.917305509, 2477601.917305509, 2477601.917305509, 2478633.1673995066, 2485439.418019889, 2503434.7321601436, 2524730.0466011893, 2524730.0466011893, 2524730.0466011893, 2524730.0466011893, 2524730.0466011893, 2524730.0466011893, 2550408.173941724, 2555925.3619446103, 2555925.3619446103, 2555925.3619446103, 2555925.3619446103, 2555925.3619446103, 2555925.3619446103, 2560359.7373487987, 2560359.7373487987, 2572940.988495567, 2573559.7385519654, 2573559.7385519654, 2573559.7385519654, 2573559.7385519654, 2587120.6772880307, 2587120.6772880307, 2597020.678190406, 2597020.678190406, 2597020.678190406, 2597020.678190406, 2597020.678190406, 2597020.678190406, 2597020.678190406, 2597020.678190406, 2597020.678190406, 2613778.492217863, 2620120.680295947, 2625844.1183176325, 2625844.1183176325, 2655544.121024757, 2655544.121024757, 2655544.121024757, 2656936.3086516536, 2656936.3086516536, 2656936.3086516536, 2656936.3086516536, 2656936.3086516536, 2656936.3086516536, 2656936.3086516536, 2682047.24844049, 2701176.937684141, 2709787.8759690193, 2722884.752162786, 2722884.752162786, 2745056.62918373, 2756451.9427224007, 2787131.633018823, 2787441.008047022, 2856844.139373046, 2862051.9523477326, 2890308.204923261, 2903766.018649927, 2925267.5831097723, 2925267.5831097723, 2925267.5831097723, 2925267.5831097723, 2925267.5831097723, 2925267.5831097723, 2925267.5831097723, 2925267.5831097723, 3037209.780813188, 3141623.8528304226, 3144408.228084216, 3236447.298973482, 3236447.298973482, 3236447.298973482, 3249234.8001390495, 3249234.8001390495, 3249234.8001390495, 3309098.8680955973, 3330033.245003744, 3380100.437067317, 3498694.197877016, 3498694.197877016, 3498694.197877016, 3498694.197877016, 3498694.197877016, 3498694.197877016, 3498694.197877016, 3498694.197877016, 3801520.7879793467, 3804975.475794238, 3834108.290949664, 3834108.290949664, 3834108.290949664, 3834108.290949664, 3834108.290949664, 3834108.290949664, 3834108.290949664, 3834108.290949664, 3834108.290949664, 3834108.290949664, 3834108.290949664, 3834108.290949664, 3857981.7306257035, 3863498.9186285893, 3869944.231716073, 3926147.3618389303, 3934139.55006741, 3934139.55006741, 3934139.55006741, 3934139.55006741, 3934139.55006741, 3934139.55006741, 3934139.55006741, 3934139.55006741, 4037522.371990647, 4037522.371990647, 4041905.184890136, 4041905.184890136, 4041905.184890136, 4041905.184890136, 4041905.184890136, 4041905.184890136, 4041905.184890136, 4041905.184890136, 4182773.947730179, 4182773.947730179, 4453219.284880992, 4466522.411093558, 4864945.884909446, 5229389.668128121, 5748056.9029041035, 5748056.9029041035, 5748056.9029041035, 5748056.9029041035, 5748056.9029041035, 5748056.9029041035, 5803435.032951763, 5803435.032951763, 5803435.032951763, 5803435.032951763, 5803435.032951763, 5803435.032951763, 5803435.032951763, 5803435.032951763, 5803435.032951763, 5803435.032951763, 5878613.164804172, 5879592.852393469, 5879592.852393469, 5879592.852393469, 5879592.852393469, 5879592.852393469, 5879592.852393469, 5879592.852393469, 5879592.852393469, 5879592.852393469, 5879592.852393469, 5879592.852393469, 5903775.667097708, 6026700.678302196, 6026700.678302196, 6026700.678302196, 6799055.436201534, 7224085.162442555, 7224085.162442555, 7224085.162442555, 7224085.162442555, 7224085.162442555, 7224085.162442555, 7224085.162442555, 7251567.977447585, 7251567.977447585, 7251567.977447585, 7251567.977447585, 7251567.977447585, 7251567.977447585, 7251567.977447585, 7251567.977447585, 7251567.977447585, 7251567.977447585, 7251567.977447585, 7251567.977447585, 7251567.977447585, 7251567.977447585, 7251567.977447585, 7251567.977447585, 7651332.07638567, 8549963.408294987, 10545793.277712818, 14073081.09922146, 14073081.09922146, 14073081.09922146, 14073081.09922146, 14073081.09922146, 14073081.09922146, 14073081.09922146, 14073081.09922146, 14073081.09922146, 14073081.09922146, 14073081.09922146, 16928406.35948141, 16928406.35948141, 18753976.838380273, 18753976.838380273, 18753976.838380273, 18753976.838380273, 18753976.838380273, 18753976.838380273, 18753976.838380273, 18753976.838380273, 18753976.838380273, 18753976.838380273], \"yaxis\": \"y\"}],\n",
              "                        {\"legend\": {\"tracegroupgap\": 0}, \"margin\": {\"t\": 60}, \"template\": {\"data\": {\"bar\": [{\"error_x\": {\"color\": \"#2a3f5f\"}, \"error_y\": {\"color\": \"#2a3f5f\"}, \"marker\": {\"line\": {\"color\": \"#E5ECF6\", \"width\": 0.5}}, \"type\": \"bar\"}], \"barpolar\": [{\"marker\": {\"line\": {\"color\": \"#E5ECF6\", \"width\": 0.5}}, \"type\": \"barpolar\"}], \"carpet\": [{\"aaxis\": {\"endlinecolor\": \"#2a3f5f\", \"gridcolor\": \"white\", \"linecolor\": \"white\", \"minorgridcolor\": \"white\", \"startlinecolor\": \"#2a3f5f\"}, \"baxis\": {\"endlinecolor\": \"#2a3f5f\", \"gridcolor\": \"white\", \"linecolor\": \"white\", \"minorgridcolor\": \"white\", \"startlinecolor\": \"#2a3f5f\"}, \"type\": \"carpet\"}], \"choropleth\": [{\"colorbar\": {\"outlinewidth\": 0, \"ticks\": \"\"}, \"type\": \"choropleth\"}], \"contour\": [{\"colorbar\": {\"outlinewidth\": 0, \"ticks\": \"\"}, \"colorscale\": [[0.0, \"#0d0887\"], [0.1111111111111111, \"#46039f\"], [0.2222222222222222, \"#7201a8\"], [0.3333333333333333, \"#9c179e\"], [0.4444444444444444, \"#bd3786\"], [0.5555555555555556, \"#d8576b\"], [0.6666666666666666, \"#ed7953\"], [0.7777777777777778, \"#fb9f3a\"], [0.8888888888888888, \"#fdca26\"], [1.0, \"#f0f921\"]], \"type\": \"contour\"}], \"contourcarpet\": [{\"colorbar\": {\"outlinewidth\": 0, \"ticks\": \"\"}, \"type\": \"contourcarpet\"}], \"heatmap\": [{\"colorbar\": {\"outlinewidth\": 0, \"ticks\": \"\"}, \"colorscale\": [[0.0, \"#0d0887\"], [0.1111111111111111, \"#46039f\"], [0.2222222222222222, \"#7201a8\"], [0.3333333333333333, \"#9c179e\"], [0.4444444444444444, \"#bd3786\"], [0.5555555555555556, \"#d8576b\"], [0.6666666666666666, \"#ed7953\"], [0.7777777777777778, \"#fb9f3a\"], [0.8888888888888888, \"#fdca26\"], [1.0, \"#f0f921\"]], \"type\": \"heatmap\"}], \"heatmapgl\": [{\"colorbar\": {\"outlinewidth\": 0, \"ticks\": \"\"}, \"colorscale\": [[0.0, \"#0d0887\"], [0.1111111111111111, \"#46039f\"], [0.2222222222222222, \"#7201a8\"], [0.3333333333333333, \"#9c179e\"], [0.4444444444444444, \"#bd3786\"], [0.5555555555555556, \"#d8576b\"], [0.6666666666666666, \"#ed7953\"], [0.7777777777777778, \"#fb9f3a\"], [0.8888888888888888, \"#fdca26\"], [1.0, \"#f0f921\"]], \"type\": \"heatmapgl\"}], \"histogram\": [{\"marker\": {\"colorbar\": {\"outlinewidth\": 0, \"ticks\": \"\"}}, \"type\": \"histogram\"}], \"histogram2d\": [{\"colorbar\": {\"outlinewidth\": 0, \"ticks\": \"\"}, \"colorscale\": [[0.0, \"#0d0887\"], [0.1111111111111111, \"#46039f\"], [0.2222222222222222, \"#7201a8\"], [0.3333333333333333, \"#9c179e\"], [0.4444444444444444, \"#bd3786\"], [0.5555555555555556, \"#d8576b\"], [0.6666666666666666, \"#ed7953\"], [0.7777777777777778, \"#fb9f3a\"], [0.8888888888888888, \"#fdca26\"], [1.0, \"#f0f921\"]], \"type\": \"histogram2d\"}], \"histogram2dcontour\": [{\"colorbar\": {\"outlinewidth\": 0, \"ticks\": \"\"}, \"colorscale\": [[0.0, \"#0d0887\"], [0.1111111111111111, \"#46039f\"], [0.2222222222222222, \"#7201a8\"], [0.3333333333333333, \"#9c179e\"], [0.4444444444444444, \"#bd3786\"], [0.5555555555555556, \"#d8576b\"], [0.6666666666666666, \"#ed7953\"], [0.7777777777777778, \"#fb9f3a\"], [0.8888888888888888, \"#fdca26\"], [1.0, \"#f0f921\"]], \"type\": \"histogram2dcontour\"}], \"mesh3d\": [{\"colorbar\": {\"outlinewidth\": 0, \"ticks\": \"\"}, \"type\": \"mesh3d\"}], \"parcoords\": [{\"line\": {\"colorbar\": {\"outlinewidth\": 0, \"ticks\": \"\"}}, \"type\": \"parcoords\"}], \"pie\": [{\"automargin\": true, \"type\": \"pie\"}], \"scatter\": [{\"marker\": {\"colorbar\": {\"outlinewidth\": 0, \"ticks\": \"\"}}, \"type\": \"scatter\"}], \"scatter3d\": [{\"line\": {\"colorbar\": {\"outlinewidth\": 0, \"ticks\": \"\"}}, \"marker\": {\"colorbar\": {\"outlinewidth\": 0, \"ticks\": \"\"}}, \"type\": \"scatter3d\"}], \"scattercarpet\": [{\"marker\": {\"colorbar\": {\"outlinewidth\": 0, \"ticks\": \"\"}}, \"type\": \"scattercarpet\"}], \"scattergeo\": [{\"marker\": {\"colorbar\": {\"outlinewidth\": 0, \"ticks\": \"\"}}, \"type\": \"scattergeo\"}], \"scattergl\": [{\"marker\": {\"colorbar\": {\"outlinewidth\": 0, \"ticks\": \"\"}}, \"type\": \"scattergl\"}], \"scattermapbox\": [{\"marker\": {\"colorbar\": {\"outlinewidth\": 0, \"ticks\": \"\"}}, \"type\": \"scattermapbox\"}], \"scatterpolar\": [{\"marker\": {\"colorbar\": {\"outlinewidth\": 0, \"ticks\": \"\"}}, \"type\": \"scatterpolar\"}], \"scatterpolargl\": [{\"marker\": {\"colorbar\": {\"outlinewidth\": 0, \"ticks\": \"\"}}, \"type\": \"scatterpolargl\"}], \"scatterternary\": [{\"marker\": {\"colorbar\": {\"outlinewidth\": 0, \"ticks\": \"\"}}, \"type\": \"scatterternary\"}], \"surface\": [{\"colorbar\": {\"outlinewidth\": 0, \"ticks\": \"\"}, \"colorscale\": [[0.0, \"#0d0887\"], [0.1111111111111111, \"#46039f\"], [0.2222222222222222, \"#7201a8\"], [0.3333333333333333, \"#9c179e\"], [0.4444444444444444, \"#bd3786\"], [0.5555555555555556, \"#d8576b\"], [0.6666666666666666, \"#ed7953\"], [0.7777777777777778, \"#fb9f3a\"], [0.8888888888888888, \"#fdca26\"], [1.0, \"#f0f921\"]], \"type\": \"surface\"}], \"table\": [{\"cells\": {\"fill\": {\"color\": \"#EBF0F8\"}, \"line\": {\"color\": \"white\"}}, \"header\": {\"fill\": {\"color\": \"#C8D4E3\"}, \"line\": {\"color\": \"white\"}}, \"type\": \"table\"}]}, \"layout\": {\"annotationdefaults\": {\"arrowcolor\": \"#2a3f5f\", \"arrowhead\": 0, \"arrowwidth\": 1}, \"coloraxis\": {\"colorbar\": {\"outlinewidth\": 0, \"ticks\": \"\"}}, \"colorscale\": {\"diverging\": [[0, \"#8e0152\"], [0.1, \"#c51b7d\"], [0.2, \"#de77ae\"], [0.3, \"#f1b6da\"], [0.4, \"#fde0ef\"], [0.5, \"#f7f7f7\"], [0.6, \"#e6f5d0\"], [0.7, \"#b8e186\"], [0.8, \"#7fbc41\"], [0.9, \"#4d9221\"], [1, \"#276419\"]], \"sequential\": [[0.0, \"#0d0887\"], [0.1111111111111111, \"#46039f\"], [0.2222222222222222, \"#7201a8\"], [0.3333333333333333, \"#9c179e\"], [0.4444444444444444, \"#bd3786\"], [0.5555555555555556, \"#d8576b\"], [0.6666666666666666, \"#ed7953\"], [0.7777777777777778, \"#fb9f3a\"], [0.8888888888888888, \"#fdca26\"], [1.0, \"#f0f921\"]], \"sequentialminus\": [[0.0, \"#0d0887\"], [0.1111111111111111, \"#46039f\"], [0.2222222222222222, \"#7201a8\"], [0.3333333333333333, \"#9c179e\"], [0.4444444444444444, \"#bd3786\"], [0.5555555555555556, \"#d8576b\"], [0.6666666666666666, \"#ed7953\"], [0.7777777777777778, \"#fb9f3a\"], [0.8888888888888888, \"#fdca26\"], [1.0, \"#f0f921\"]]}, \"colorway\": [\"#636efa\", \"#EF553B\", \"#00cc96\", \"#ab63fa\", \"#FFA15A\", \"#19d3f3\", \"#FF6692\", \"#B6E880\", \"#FF97FF\", \"#FECB52\"], \"font\": {\"color\": \"#2a3f5f\"}, \"geo\": {\"bgcolor\": \"white\", \"lakecolor\": \"white\", \"landcolor\": \"#E5ECF6\", \"showlakes\": true, \"showland\": true, \"subunitcolor\": \"white\"}, \"hoverlabel\": {\"align\": \"left\"}, \"hovermode\": \"closest\", \"mapbox\": {\"style\": \"light\"}, \"paper_bgcolor\": \"white\", \"plot_bgcolor\": \"#E5ECF6\", \"polar\": {\"angularaxis\": {\"gridcolor\": \"white\", \"linecolor\": \"white\", \"ticks\": \"\"}, \"bgcolor\": \"#E5ECF6\", \"radialaxis\": {\"gridcolor\": \"white\", \"linecolor\": \"white\", \"ticks\": \"\"}}, \"scene\": {\"xaxis\": {\"backgroundcolor\": \"#E5ECF6\", \"gridcolor\": \"white\", \"gridwidth\": 2, \"linecolor\": \"white\", \"showbackground\": true, \"ticks\": \"\", \"zerolinecolor\": \"white\"}, \"yaxis\": {\"backgroundcolor\": \"#E5ECF6\", \"gridcolor\": \"white\", \"gridwidth\": 2, \"linecolor\": \"white\", \"showbackground\": true, \"ticks\": \"\", \"zerolinecolor\": \"white\"}, \"zaxis\": {\"backgroundcolor\": \"#E5ECF6\", \"gridcolor\": \"white\", \"gridwidth\": 2, \"linecolor\": \"white\", \"showbackground\": true, \"ticks\": \"\", \"zerolinecolor\": \"white\"}}, \"shapedefaults\": {\"line\": {\"color\": \"#2a3f5f\"}}, \"ternary\": {\"aaxis\": {\"gridcolor\": \"white\", \"linecolor\": \"white\", \"ticks\": \"\"}, \"baxis\": {\"gridcolor\": \"white\", \"linecolor\": \"white\", \"ticks\": \"\"}, \"bgcolor\": \"#E5ECF6\", \"caxis\": {\"gridcolor\": \"white\", \"linecolor\": \"white\", \"ticks\": \"\"}}, \"title\": {\"x\": 0.05}, \"xaxis\": {\"automargin\": true, \"gridcolor\": \"white\", \"linecolor\": \"white\", \"ticks\": \"\", \"title\": {\"standoff\": 15}, \"zerolinecolor\": \"white\", \"zerolinewidth\": 2}, \"yaxis\": {\"automargin\": true, \"gridcolor\": \"white\", \"linecolor\": \"white\", \"ticks\": \"\", \"title\": {\"standoff\": 15}, \"zerolinecolor\": \"white\", \"zerolinewidth\": 2}}}, \"xaxis\": {\"anchor\": \"y\", \"domain\": [0.0, 1.0], \"title\": {\"text\": \"gross_square_feet\"}}, \"yaxis\": {\"anchor\": \"x\", \"domain\": [0.0, 1.0], \"title\": {\"text\": \"sale_price\"}}},\n",
              "                        {\"responsive\": true}\n",
              "                    ).then(function(){\n",
              "                            \n",
              "var gd = document.getElementById('b590d779-1c50-445b-bd6c-d7ec778dce7e');\n",
              "var x = new MutationObserver(function (mutations, observer) {{\n",
              "        var display = window.getComputedStyle(gd).display;\n",
              "        if (!display || display === 'none') {{\n",
              "            console.log([gd, 'removed!']);\n",
              "            Plotly.purge(gd);\n",
              "            observer.disconnect();\n",
              "        }}\n",
              "}});\n",
              "\n",
              "// Listen for the removal of the full notebook cells\n",
              "var notebookContainer = gd.closest('#notebook-container');\n",
              "if (notebookContainer) {{\n",
              "    x.observe(notebookContainer, {childList: true});\n",
              "}}\n",
              "\n",
              "// Listen for the clearing of the current output cell\n",
              "var outputEl = gd.closest('.output');\n",
              "if (outputEl) {{\n",
              "    x.observe(outputEl, {childList: true});\n",
              "}}\n",
              "\n",
              "                        })\n",
              "                };\n",
              "                \n",
              "            </script>\n",
              "        </div>\n",
              "</body>\n",
              "</html>"
            ]
          },
          "metadata": {
            "tags": []
          }
        }
      ]
    },
    {
      "cell_type": "code",
      "metadata": {
        "id": "hgJFaLVZGfAa",
        "colab_type": "code",
        "colab": {}
      },
      "source": [
        "# Look at sales for more than $35 million\n",
        "\n",
        "# All are at 70 Vestry Street\n",
        "# All but one have the same SALE_PRICE & SALE_DATE\n",
        "# Was the SALE_PRICE for each? Or in total?\n",
        "# Is this dirty data?\n",
        "over_35m = condos[condos['sale_price'] > 35000000]"
      ],
      "execution_count": 0,
      "outputs": []
    },
    {
      "cell_type": "code",
      "metadata": {
        "id": "95RQ_dnhDN5X",
        "colab_type": "code",
        "colab": {
          "base_uri": "https://localhost:8080/",
          "height": 917
        },
        "outputId": "8a1dbbb3-e2c5-41fd-dde9-26438edbd14c"
      },
      "source": [
        "over_35m[['sale_price', 'sale_date', 'gross_square_feet']].sort_values(by='sale_price', ascending=False)"
      ],
      "execution_count": 293,
      "outputs": [
        {
          "output_type": "execute_result",
          "data": {
            "text/html": [
              "<div>\n",
              "<style scoped>\n",
              "    .dataframe tbody tr th:only-of-type {\n",
              "        vertical-align: middle;\n",
              "    }\n",
              "\n",
              "    .dataframe tbody tr th {\n",
              "        vertical-align: top;\n",
              "    }\n",
              "\n",
              "    .dataframe thead th {\n",
              "        text-align: right;\n",
              "    }\n",
              "</style>\n",
              "<table border=\"1\" class=\"dataframe\">\n",
              "  <thead>\n",
              "    <tr style=\"text-align: right;\">\n",
              "      <th></th>\n",
              "      <th>sale_price</th>\n",
              "      <th>sale_date</th>\n",
              "      <th>gross_square_feet</th>\n",
              "    </tr>\n",
              "  </thead>\n",
              "  <tbody>\n",
              "    <tr>\n",
              "      <th>3995</th>\n",
              "      <td>239958219</td>\n",
              "      <td>01/23/2019</td>\n",
              "      <td>23,029.0</td>\n",
              "    </tr>\n",
              "    <tr>\n",
              "      <th>19202</th>\n",
              "      <td>200000000</td>\n",
              "      <td>04/05/2019</td>\n",
              "      <td>286,755.0</td>\n",
              "    </tr>\n",
              "    <tr>\n",
              "      <th>3698</th>\n",
              "      <td>189109922</td>\n",
              "      <td>01/22/2019</td>\n",
              "      <td>11,905.0</td>\n",
              "    </tr>\n",
              "    <tr>\n",
              "      <th>3699</th>\n",
              "      <td>189109922</td>\n",
              "      <td>01/22/2019</td>\n",
              "      <td>162,971.0</td>\n",
              "    </tr>\n",
              "    <tr>\n",
              "      <th>14395</th>\n",
              "      <td>75000000</td>\n",
              "      <td>03/13/2019</td>\n",
              "      <td>8,102.0</td>\n",
              "    </tr>\n",
              "    <tr>\n",
              "      <th>14394</th>\n",
              "      <td>75000000</td>\n",
              "      <td>03/13/2019</td>\n",
              "      <td>8,102.0</td>\n",
              "    </tr>\n",
              "    <tr>\n",
              "      <th>14393</th>\n",
              "      <td>75000000</td>\n",
              "      <td>03/13/2019</td>\n",
              "      <td>0.0</td>\n",
              "    </tr>\n",
              "    <tr>\n",
              "      <th>14392</th>\n",
              "      <td>75000000</td>\n",
              "      <td>03/13/2019</td>\n",
              "      <td>0.0</td>\n",
              "    </tr>\n",
              "    <tr>\n",
              "      <th>14391</th>\n",
              "      <td>75000000</td>\n",
              "      <td>03/13/2019</td>\n",
              "      <td>90,307.0</td>\n",
              "    </tr>\n",
              "    <tr>\n",
              "      <th>4779</th>\n",
              "      <td>64250000</td>\n",
              "      <td>01/25/2019</td>\n",
              "      <td>9,138.0</td>\n",
              "    </tr>\n",
              "    <tr>\n",
              "      <th>9236</th>\n",
              "      <td>39285000</td>\n",
              "      <td>02/15/2019</td>\n",
              "      <td>8,346.0</td>\n",
              "    </tr>\n",
              "    <tr>\n",
              "      <th>5313</th>\n",
              "      <td>39201783</td>\n",
              "      <td>01/28/2019</td>\n",
              "      <td>106,836.0</td>\n",
              "    </tr>\n",
              "    <tr>\n",
              "      <th>19773</th>\n",
              "      <td>38760000</td>\n",
              "      <td>04/09/2019</td>\n",
              "      <td>32,173.0</td>\n",
              "    </tr>\n",
              "    <tr>\n",
              "      <th>8378</th>\n",
              "      <td>36681561</td>\n",
              "      <td>02/12/2019</td>\n",
              "      <td>2,536.0</td>\n",
              "    </tr>\n",
              "    <tr>\n",
              "      <th>8377</th>\n",
              "      <td>36681561</td>\n",
              "      <td>02/12/2019</td>\n",
              "      <td>1,906.0</td>\n",
              "    </tr>\n",
              "    <tr>\n",
              "      <th>8380</th>\n",
              "      <td>36681561</td>\n",
              "      <td>02/12/2019</td>\n",
              "      <td>2,445.0</td>\n",
              "    </tr>\n",
              "    <tr>\n",
              "      <th>8381</th>\n",
              "      <td>36681561</td>\n",
              "      <td>02/12/2019</td>\n",
              "      <td>2,609.0</td>\n",
              "    </tr>\n",
              "    <tr>\n",
              "      <th>8382</th>\n",
              "      <td>36681561</td>\n",
              "      <td>02/12/2019</td>\n",
              "      <td>2,592.0</td>\n",
              "    </tr>\n",
              "    <tr>\n",
              "      <th>8383</th>\n",
              "      <td>36681561</td>\n",
              "      <td>02/12/2019</td>\n",
              "      <td>2,592.0</td>\n",
              "    </tr>\n",
              "    <tr>\n",
              "      <th>8384</th>\n",
              "      <td>36681561</td>\n",
              "      <td>02/12/2019</td>\n",
              "      <td>2,592.0</td>\n",
              "    </tr>\n",
              "    <tr>\n",
              "      <th>8376</th>\n",
              "      <td>36681561</td>\n",
              "      <td>02/12/2019</td>\n",
              "      <td>3,242.0</td>\n",
              "    </tr>\n",
              "    <tr>\n",
              "      <th>8375</th>\n",
              "      <td>36681561</td>\n",
              "      <td>02/12/2019</td>\n",
              "      <td>2,844.0</td>\n",
              "    </tr>\n",
              "    <tr>\n",
              "      <th>8374</th>\n",
              "      <td>36681561</td>\n",
              "      <td>02/12/2019</td>\n",
              "      <td>2,445.0</td>\n",
              "    </tr>\n",
              "    <tr>\n",
              "      <th>8373</th>\n",
              "      <td>36681561</td>\n",
              "      <td>02/12/2019</td>\n",
              "      <td>2,965.0</td>\n",
              "    </tr>\n",
              "    <tr>\n",
              "      <th>8372</th>\n",
              "      <td>36681561</td>\n",
              "      <td>02/12/2019</td>\n",
              "      <td>2,536.0</td>\n",
              "    </tr>\n",
              "    <tr>\n",
              "      <th>8371</th>\n",
              "      <td>36681561</td>\n",
              "      <td>02/12/2019</td>\n",
              "      <td>1,906.0</td>\n",
              "    </tr>\n",
              "    <tr>\n",
              "      <th>8370</th>\n",
              "      <td>36681561</td>\n",
              "      <td>02/12/2019</td>\n",
              "      <td>1,670.0</td>\n",
              "    </tr>\n",
              "    <tr>\n",
              "      <th>8379</th>\n",
              "      <td>36681561</td>\n",
              "      <td>02/12/2019</td>\n",
              "      <td>2,965.0</td>\n",
              "    </tr>\n",
              "  </tbody>\n",
              "</table>\n",
              "</div>"
            ],
            "text/plain": [
              "       sale_price   sale_date  gross_square_feet\n",
              "3995    239958219  01/23/2019           23,029.0\n",
              "19202   200000000  04/05/2019          286,755.0\n",
              "3698    189109922  01/22/2019           11,905.0\n",
              "3699    189109922  01/22/2019          162,971.0\n",
              "14395    75000000  03/13/2019            8,102.0\n",
              "14394    75000000  03/13/2019            8,102.0\n",
              "14393    75000000  03/13/2019                0.0\n",
              "14392    75000000  03/13/2019                0.0\n",
              "14391    75000000  03/13/2019           90,307.0\n",
              "4779     64250000  01/25/2019            9,138.0\n",
              "9236     39285000  02/15/2019            8,346.0\n",
              "5313     39201783  01/28/2019          106,836.0\n",
              "19773    38760000  04/09/2019           32,173.0\n",
              "8378     36681561  02/12/2019            2,536.0\n",
              "8377     36681561  02/12/2019            1,906.0\n",
              "8380     36681561  02/12/2019            2,445.0\n",
              "8381     36681561  02/12/2019            2,609.0\n",
              "8382     36681561  02/12/2019            2,592.0\n",
              "8383     36681561  02/12/2019            2,592.0\n",
              "8384     36681561  02/12/2019            2,592.0\n",
              "8376     36681561  02/12/2019            3,242.0\n",
              "8375     36681561  02/12/2019            2,844.0\n",
              "8374     36681561  02/12/2019            2,445.0\n",
              "8373     36681561  02/12/2019            2,965.0\n",
              "8372     36681561  02/12/2019            2,536.0\n",
              "8371     36681561  02/12/2019            1,906.0\n",
              "8370     36681561  02/12/2019            1,670.0\n",
              "8379     36681561  02/12/2019            2,965.0"
            ]
          },
          "metadata": {
            "tags": []
          },
          "execution_count": 293
        }
      ]
    },
    {
      "cell_type": "code",
      "metadata": {
        "id": "ZTGKbWfZGfAd",
        "colab_type": "code",
        "colab": {}
      },
      "source": [
        "# Make a judgment call:\n",
        "# Keep rows where sale price was < $35 million\n",
        "\n",
        "# Check how many rows you have now. (Should be down to 90 rows.)\n"
      ],
      "execution_count": 0,
      "outputs": []
    },
    {
      "cell_type": "code",
      "metadata": {
        "id": "faknRrrZGfAg",
        "colab_type": "code",
        "colab": {}
      },
      "source": [
        "# Now that you've removed outliers,\n",
        "# Look again at a scatter plot with OLS (Ordinary Least Squares) trendline\n"
      ],
      "execution_count": 0,
      "outputs": []
    },
    {
      "cell_type": "code",
      "metadata": {
        "id": "OmC0dxnbGfAj",
        "colab_type": "code",
        "colab": {}
      },
      "source": [
        "# Select these columns, then write to a csv file named tribeca.csv. Don't include the index.\n"
      ],
      "execution_count": 0,
      "outputs": []
    }
  ]
}