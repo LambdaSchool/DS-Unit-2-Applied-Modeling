{
 "cells": [
  {
   "cell_type": "markdown",
   "metadata": {},
   "source": [
    "Lambda School Data Science\n",
    "\n",
    "*Unit 2, Sprint 3, Module 2*\n",
    "\n",
    "---\n",
    "\n",
    "\n",
    "# Wrangle ML datasets\n",
    "\n",
    "- [x] Continue to clean and explore your data. \n",
    "- [x] For the evaluation metric you chose, what score would you get just by guessing?\n",
    "- [x] Can you make a fast, first model that beats guessing?\n",
    "\n",
    "**We recommend that you use your portfolio project dataset for all assignments this sprint.**\n",
    "\n",
    "**But if you aren't ready yet, or you want more practice, then use the New York City property sales dataset for today's assignment.** Follow the instructions below, to just keep a subset for the Tribeca neighborhood, and remove outliers or dirty data. [Here's a video walkthrough](https://youtu.be/pPWFw8UtBVg?t=584) you can refer to if you get stuck or want hints!\n",
    "\n",
    "- Data Source: [NYC OpenData: NYC Citywide Rolling Calendar Sales](https://data.cityofnewyork.us/dataset/NYC-Citywide-Rolling-Calendar-Sales/usep-8jbt)\n",
    "- Glossary: [NYC Department of Finance: Rolling Sales Data](https://www1.nyc.gov/site/finance/taxes/property-rolling-sales-data.page)"
   ]
  },
  {
   "cell_type": "code",
   "execution_count": 71,
   "metadata": {},
   "outputs": [
    {
     "name": "stdout",
     "output_type": "stream",
     "text": [
      "Requirement already satisfied: pandas in c:\\users\\max\\.virtualenvs\\lambda-qrw0nsq4\\lib\\site-packages (1.1.0)\n",
      "Requirement already satisfied: python-dateutil>=2.7.3 in c:\\users\\max\\.virtualenvs\\lambda-qrw0nsq4\\lib\\site-packages (from pandas) (2.8.1)\n",
      "Requirement already satisfied: pytz>=2017.2 in c:\\users\\max\\.virtualenvs\\lambda-qrw0nsq4\\lib\\site-packages (from pandas) (2020.1)\n",
      "Requirement already satisfied: numpy>=1.15.4 in c:\\users\\max\\.virtualenvs\\lambda-qrw0nsq4\\lib\\site-packages (from pandas) (1.19.1)\n",
      "Requirement already satisfied: six>=1.5 in c:\\users\\max\\.virtualenvs\\lambda-qrw0nsq4\\lib\\site-packages (from python-dateutil>=2.7.3->pandas) (1.15.0)\n",
      "Requirement already satisfied: matplotlib in c:\\users\\max\\.virtualenvs\\lambda-qrw0nsq4\\lib\\site-packages (3.3.1)\n",
      "Requirement already satisfied: pillow>=6.2.0 in c:\\users\\max\\.virtualenvs\\lambda-qrw0nsq4\\lib\\site-packages (from matplotlib) (7.2.0)\n",
      "Requirement already satisfied: cycler>=0.10 in c:\\users\\max\\.virtualenvs\\lambda-qrw0nsq4\\lib\\site-packages (from matplotlib) (0.10.0)\n",
      "Requirement already satisfied: numpy>=1.15 in c:\\users\\max\\.virtualenvs\\lambda-qrw0nsq4\\lib\\site-packages (from matplotlib) (1.19.1)\n",
      "Requirement already satisfied: pyparsing!=2.0.4,!=2.1.2,!=2.1.6,>=2.0.3 in c:\\users\\max\\.virtualenvs\\lambda-qrw0nsq4\\lib\\site-packages (from matplotlib) (2.4.7)\n",
      "Requirement already satisfied: python-dateutil>=2.1 in c:\\users\\max\\.virtualenvs\\lambda-qrw0nsq4\\lib\\site-packages (from matplotlib) (2.8.1)\n",
      "Requirement already satisfied: certifi>=2020.06.20 in c:\\users\\max\\.virtualenvs\\lambda-qrw0nsq4\\lib\\site-packages (from matplotlib) (2020.6.20)\n",
      "Requirement already satisfied: kiwisolver>=1.0.1 in c:\\users\\max\\.virtualenvs\\lambda-qrw0nsq4\\lib\\site-packages (from matplotlib) (1.2.0)\n",
      "Requirement already satisfied: six in c:\\users\\max\\.virtualenvs\\lambda-qrw0nsq4\\lib\\site-packages (from cycler>=0.10->matplotlib) (1.15.0)\n",
      "Requirement already satisfied: numpy in c:\\users\\max\\.virtualenvs\\lambda-qrw0nsq4\\lib\\site-packages (1.19.1)\n",
      "Requirement already satisfied: plotly in c:\\users\\max\\.virtualenvs\\lambda-qrw0nsq4\\lib\\site-packages (4.9.0)\n",
      "Requirement already satisfied: retrying>=1.3.3 in c:\\users\\max\\.virtualenvs\\lambda-qrw0nsq4\\lib\\site-packages (from plotly) (1.3.3)\n",
      "Requirement already satisfied: six in c:\\users\\max\\.virtualenvs\\lambda-qrw0nsq4\\lib\\site-packages (from plotly) (1.15.0)\n",
      "Requirement already satisfied: sklearn in c:\\users\\max\\.virtualenvs\\lambda-qrw0nsq4\\lib\\site-packages (0.0)\n",
      "Requirement already satisfied: scikit-learn in c:\\users\\max\\.virtualenvs\\lambda-qrw0nsq4\\lib\\site-packages (from sklearn) (0.23.2)\n",
      "Requirement already satisfied: numpy>=1.13.3 in c:\\users\\max\\.virtualenvs\\lambda-qrw0nsq4\\lib\\site-packages (from scikit-learn->sklearn) (1.19.1)\n",
      "Requirement already satisfied: threadpoolctl>=2.0.0 in c:\\users\\max\\.virtualenvs\\lambda-qrw0nsq4\\lib\\site-packages (from scikit-learn->sklearn) (2.1.0)\n",
      "Requirement already satisfied: joblib>=0.11 in c:\\users\\max\\.virtualenvs\\lambda-qrw0nsq4\\lib\\site-packages (from scikit-learn->sklearn) (0.16.0)\n",
      "Requirement already satisfied: scipy>=0.19.1 in c:\\users\\max\\.virtualenvs\\lambda-qrw0nsq4\\lib\\site-packages (from scikit-learn->sklearn) (1.5.2)\n"
     ]
    },
    {
     "name": "stderr",
     "output_type": "stream",
     "text": [
      "ERROR: Could not find a version that satisfies the requirement math (from versions: none)\n",
      "ERROR: No matching distribution found for math\n"
     ]
    },
    {
     "name": "stdout",
     "output_type": "stream",
     "text": [
      "Requirement already satisfied: category_encoders==2.* in c:\\users\\max\\.virtualenvs\\lambda-qrw0nsq4\\lib\\site-packages (2.2.2)\n",
      "Requirement already satisfied: scipy>=1.0.0 in c:\\users\\max\\.virtualenvs\\lambda-qrw0nsq4\\lib\\site-packages (from category_encoders==2.*) (1.5.2)\n",
      "Requirement already satisfied: scikit-learn>=0.20.0 in c:\\users\\max\\.virtualenvs\\lambda-qrw0nsq4\\lib\\site-packages (from category_encoders==2.*) (0.23.2)\n",
      "Requirement already satisfied: patsy>=0.5.1 in c:\\users\\max\\.virtualenvs\\lambda-qrw0nsq4\\lib\\site-packages (from category_encoders==2.*) (0.5.1)\n",
      "Requirement already satisfied: numpy>=1.14.0 in c:\\users\\max\\.virtualenvs\\lambda-qrw0nsq4\\lib\\site-packages (from category_encoders==2.*) (1.19.1)\n",
      "Requirement already satisfied: pandas>=0.21.1 in c:\\users\\max\\.virtualenvs\\lambda-qrw0nsq4\\lib\\site-packages (from category_encoders==2.*) (1.1.0)\n",
      "Requirement already satisfied: statsmodels>=0.9.0 in c:\\users\\max\\.virtualenvs\\lambda-qrw0nsq4\\lib\\site-packages (from category_encoders==2.*) (0.11.1)\n",
      "Requirement already satisfied: joblib>=0.11 in c:\\users\\max\\.virtualenvs\\lambda-qrw0nsq4\\lib\\site-packages (from scikit-learn>=0.20.0->category_encoders==2.*) (0.16.0)\n",
      "Requirement already satisfied: threadpoolctl>=2.0.0 in c:\\users\\max\\.virtualenvs\\lambda-qrw0nsq4\\lib\\site-packages (from scikit-learn>=0.20.0->category_encoders==2.*) (2.1.0)\n",
      "Requirement already satisfied: six in c:\\users\\max\\.virtualenvs\\lambda-qrw0nsq4\\lib\\site-packages (from patsy>=0.5.1->category_encoders==2.*) (1.15.0)\n",
      "Requirement already satisfied: python-dateutil>=2.7.3 in c:\\users\\max\\.virtualenvs\\lambda-qrw0nsq4\\lib\\site-packages (from pandas>=0.21.1->category_encoders==2.*) (2.8.1)\n",
      "Requirement already satisfied: pytz>=2017.2 in c:\\users\\max\\.virtualenvs\\lambda-qrw0nsq4\\lib\\site-packages (from pandas>=0.21.1->category_encoders==2.*) (2020.1)\n"
     ]
    }
   ],
   "source": [
    "# imports\n",
    "\n",
    "import sys\n",
    "!{sys.executable} -m pip install pandas\n",
    "!{sys.executable} -m pip install matplotlib\n",
    "!{sys.executable} -m pip install numpy\n",
    "!{sys.executable} -m pip install plotly\n",
    "!{sys.executable} -m pip install sklearn\n",
    "!{sys.executable} -m pip install math\n",
    "!{sys.executable} -m pip install category_encoders==2.*\n",
    "import math\n",
    "import pandas as pd\n",
    "import matplotlib.pyplot as plt\n",
    "import numpy as np\n",
    "import plotly.express as px\n",
    "from sklearn.metrics import mean_absolute_error\n",
    "from sklearn.impute import SimpleImputer\n",
    "from sklearn.pipeline import make_pipeline\n",
    "from sklearn.linear_model import LinearRegression\n",
    "from category_encoders.ordinal import OrdinalEncoder\n",
    "\n",
    "%matplotlib inline"
   ]
  },
  {
   "cell_type": "code",
   "execution_count": 5,
   "metadata": {},
   "outputs": [],
   "source": [
    "# original dataframe\n",
    "\n",
    "basedf = pd.read_csv('../module1-define-ml-problems/data/vehicles.csv')"
   ]
  },
  {
   "cell_type": "code",
   "execution_count": 60,
   "metadata": {},
   "outputs": [],
   "source": [
    "# copy dataframe for personal use\n",
    "\n",
    "df = basedf"
   ]
  },
  {
   "cell_type": "code",
   "execution_count": 61,
   "metadata": {},
   "outputs": [],
   "source": [
    "# Dropping county because it has no filled values, other columns aren't relevant\n",
    "# Replacing price values of 0 with NaN - we don't want to keep these observations\n",
    "# We then drop those rows\n",
    "\n",
    "df = df.drop(['county', 'url', 'region_url', 'image_url', 'description'], axis=1)\n",
    "df['price'] = df['price'].replace(0, np.nan)\n",
    "df = df.dropna(axis=0, subset=['price'])"
   ]
  },
  {
   "cell_type": "code",
   "execution_count": 62,
   "metadata": {},
   "outputs": [],
   "source": [
    "# Removing ridiculous outliers (outrageously high prices and low prices to bait responses)\n",
    "\n",
    "df = df[(df['price'] >= np.percentile(df['price'], 1)) & \n",
    "        (df['price'] <= np.percentile(df['price'], 99.9))]"
   ]
  },
  {
   "cell_type": "code",
   "execution_count": 16,
   "metadata": {},
   "outputs": [
    {
     "data": {
      "text/plain": [
       "400716"
      ]
     },
     "execution_count": 16,
     "metadata": {},
     "output_type": "execute_result"
    }
   ],
   "source": [
    "len(df['price'])"
   ]
  },
  {
   "cell_type": "code",
   "execution_count": 65,
   "metadata": {},
   "outputs": [
    {
     "name": "stdout",
     "output_type": "stream",
     "text": [
      "Baseline MAE:\n",
      " 8320.055332824919\n",
      "Baseline RMSE:\n",
      " 91.21433732053815\n"
     ]
    }
   ],
   "source": [
    "print(\"Baseline MAE:\\n\", mean_absolute_error(df['price'], [df['price'].mean()]*400716))\n",
    "print(\"Baseline RMSE:\\n\", math.sqrt(mean_absolute_error(df['price'], [df['price'].mean()]*400716)))"
   ]
  },
  {
   "cell_type": "code",
   "execution_count": 66,
   "metadata": {},
   "outputs": [],
   "source": [
    "X = df.drop('price', axis=1)\n",
    "y = df['price']"
   ]
  },
  {
   "cell_type": "code",
   "execution_count": 67,
   "metadata": {},
   "outputs": [],
   "source": [
    "# Split train and validation set\n",
    "from sklearn.model_selection import train_test_split\n",
    "\n",
    "X_train, X_val, y_train, y_val = train_test_split(X, y,\n",
    "                                                  test_size=0.2,\n",
    "                                                  random_state=42)"
   ]
  },
  {
   "cell_type": "code",
   "execution_count": 72,
   "metadata": {},
   "outputs": [],
   "source": [
    "model = make_pipeline(\n",
    "    OrdinalEncoder(),\n",
    "    SimpleImputer(),\n",
    "    LinearRegression()\n",
    ")"
   ]
  },
  {
   "cell_type": "code",
   "execution_count": 73,
   "metadata": {},
   "outputs": [
    {
     "data": {
      "text/plain": [
       "Pipeline(steps=[('ordinalencoder',\n",
       "                 OrdinalEncoder(cols=['region', 'manufacturer', 'model',\n",
       "                                      'condition', 'cylinders', 'fuel',\n",
       "                                      'title_status', 'transmission', 'vin',\n",
       "                                      'drive', 'size', 'type', 'paint_color',\n",
       "                                      'state'],\n",
       "                                mapping=[{'col': 'region',\n",
       "                                          'data_type': dtype('O'),\n",
       "                                          'mapping': omaha / council bluffs      1\n",
       "corvallis/albany            2\n",
       "orlando                     3\n",
       "medford-ashland             4\n",
       "san diego                   5\n",
       "                         ... \n",
       "la salle co               399\n",
       "oneonta                   4...\n",
       "dtype: int64},\n",
       "                                         {'col': 'state',\n",
       "                                          'data_type': dtype('O'),\n",
       "                                          'mapping': ia      1\n",
       "or      2\n",
       "fl      3\n",
       "ca      4\n",
       "tx      5\n",
       "me      6\n",
       "pa      7\n",
       "ga      8\n",
       "ok      9\n",
       "tn     10\n",
       "wa     11\n",
       "ar     12\n",
       "wi     13\n",
       "az     14\n",
       "ks     15\n",
       "id     16\n",
       "va     17\n",
       "ct     18\n",
       "ma     19\n",
       "vt     20\n",
       "co     21\n",
       "mn     22\n",
       "ky     23\n",
       "ny     24\n",
       "sc     25\n",
       "al     26\n",
       "nc     27\n",
       "oh     28\n",
       "mt     29\n",
       "mo     30\n",
       "in     31\n",
       "mi     32\n",
       "de     33\n",
       "la     34\n",
       "nj     35\n",
       "nh     36\n",
       "ms     37\n",
       "md     38\n",
       "il     39\n",
       "ak     40\n",
       "sd     41\n",
       "ut     42\n",
       "ri     43\n",
       "wv     44\n",
       "hi     45\n",
       "wy     46\n",
       "nm     47\n",
       "nv     48\n",
       "ne     49\n",
       "dc     50\n",
       "nd     51\n",
       "NaN    -2\n",
       "dtype: int64}])),\n",
       "                ('simpleimputer', SimpleImputer()),\n",
       "                ('linearregression', LinearRegression())])"
      ]
     },
     "execution_count": 73,
     "metadata": {},
     "output_type": "execute_result"
    }
   ],
   "source": [
    "model.fit(X_train, y_train)"
   ]
  },
  {
   "cell_type": "code",
   "execution_count": 87,
   "metadata": {},
   "outputs": [
    {
     "name": "stdout",
     "output_type": "stream",
     "text": [
      "Baseline MAE:\n",
      " 8320.055332824919\n",
      "Baseline RMSE:\n",
      " 91.21433732053815\n",
      "\n",
      "Training MAE:\n",
      " 7004.030282686361\n",
      "Training RMSE:\n",
      " 83.69008473341607\n",
      "\n",
      "Validation MAE:\n",
      " 6952.354494747344\n",
      "Validation RMSE:\n",
      " 83.3807801279608\n"
     ]
    }
   ],
   "source": [
    "print(\"Baseline MAE:\\n\", mean_absolute_error(df['price'], [df['price'].mean()]*400716))\n",
    "print(\"Baseline RMSE:\\n\", math.sqrt(mean_absolute_error(df['price'], [df['price'].mean()]*400716)))\n",
    "\n",
    "print('\\nTraining MAE:\\n', mean_absolute_error(y_train, model.predict(X_train)))\n",
    "print('Training RMSE:\\n', math.sqrt(mean_absolute_error(y_train, model.predict(X_train))))\n",
    "\n",
    "print('\\nValidation MAE:\\n', mean_absolute_error(y_val, model.predict(X_val)))\n",
    "print('Validation RMSE:\\n', math.sqrt(mean_absolute_error(y_val, model.predict(X_val))))"
   ]
  }
 ],
 "metadata": {
  "jupytext": {
   "cell_metadata_filter": "-all",
   "main_language": "python",
   "notebook_metadata_filter": "-all"
  },
  "kernelspec": {
   "display_name": "Python 3",
   "language": "python",
   "name": "python3"
  },
  "language_info": {
   "codemirror_mode": {
    "name": "ipython",
    "version": 3
   },
   "file_extension": ".py",
   "mimetype": "text/x-python",
   "name": "python",
   "nbconvert_exporter": "python",
   "pygments_lexer": "ipython3",
   "version": "3.8.5"
  }
 },
 "nbformat": 4,
 "nbformat_minor": 4
}
