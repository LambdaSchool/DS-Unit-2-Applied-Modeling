{
 "cells": [
  {
   "cell_type": "markdown",
   "metadata": {},
   "source": [
    "Lambda School Data Science\n",
    "\n",
    "*Unit 2, Sprint 3, Module 2*\n",
    "\n",
    "---\n",
    "\n",
    "\n",
    "# Wrangle ML datasets\n",
    "\n",
    "- [ ] Continue to clean and explore your data. \n",
    "- [ ] For the evaluation metric you chose, what score would you get just by guessing?\n",
    "- [ ] Can you make a fast, first model that beats guessing?\n",
    "\n",
    "**We recommend that you use your portfolio project dataset for all assignments this sprint.**\n",
    "\n",
    "**But if you aren't ready yet, or you want more practice, then use the New York City property sales dataset for today's assignment.** Follow the instructions below, to just keep a subset for the Tribeca neighborhood, and remove outliers or dirty data. [Here's a video walkthrough](https://youtu.be/pPWFw8UtBVg?t=584) you can refer to if you get stuck or want hints!\n",
    "\n",
    "- Data Source: [NYC OpenData: NYC Citywide Rolling Calendar Sales](https://data.cityofnewyork.us/dataset/NYC-Citywide-Rolling-Calendar-Sales/usep-8jbt)\n",
    "- Glossary: [NYC Department of Finance: Rolling Sales Data](https://www1.nyc.gov/site/finance/taxes/property-rolling-sales-data.page)"
   ]
  },
  {
   "cell_type": "code",
   "execution_count": 1,
   "metadata": {},
   "outputs": [],
   "source": [
    "import pandas as pd \n",
    "import geopandas as gpd\n",
    "from glob import glob\n",
    "import numpy as np\n",
    "from scipy import stats\n",
    "import matplotlib.pyplot as plt\n",
    "from sklearn.model_selection import train_test_split\n",
    "import warnings\n",
    "warnings.filterwarnings(action='ignore', category=FutureWarning, module='pyproj')\n",
    "#from sklearn.metrics import mean_absolute_error, mean_squared_error, r2_score\n",
    "#from sklearn.linear_model import LinearRegression\n",
    "import category_encoders as ce\n",
    "from sklearn.impute import SimpleImputer\n",
    "from sklearn.pipeline import make_pipeline\n",
    "from sklearn.preprocessing import StandardScaler\n",
    "from sklearn.ensemble import RandomForestClassifier\n",
    "from sklearn.linear_model import LogisticRegression\n",
    "from sklearn.metrics import classification_report\n",
    "from sklearn.tree import DecisionTreeClassifier\n",
    "from sklearn.model_selection import RandomizedSearchCV\n",
    "from scipy.stats import randint, uniform\n",
    "from sklearn.svm import LinearSVC"
   ]
  },
  {
   "cell_type": "code",
   "execution_count": 2,
   "metadata": {},
   "outputs": [],
   "source": [
    "def crop_trips_by_coordinates(dataframe):\n",
    "    dataframe = dataframe[dataframe[\"start_lat\"] > 33].copy()\n",
    "    dataframe = dataframe[dataframe[\"end_lat\"] > 33].copy()\n",
    "    dataframe = dataframe[dataframe[\"start_lon\"] < -116].copy()\n",
    "    dataframe = dataframe[dataframe[\"end_lon\"] < -116].copy()\n",
    "    return dataframe\n",
    "\n",
    "def generate_datetime_features(dataframe):\n",
    "    dataframe[\"start_time\"] = pd.to_datetime(dataframe[\"start_time\"])\n",
    "    dataframe[\"end_time\"] = pd.to_datetime(dataframe[\"end_time\"])\n",
    "    dataframe[\"trip_duration_in_minutes\"] = dataframe[\"end_time\"] - dataframe[\"start_time\"]\n",
    "    df = dataframe[dataframe[\"trip_duration_in_minutes\"] > pd.Timedelta(minutes=0)].copy()\n",
    "    df = df[df[\"trip_duration_in_minutes\"] < pd.Timedelta(hours=24)]\n",
    "    df[\"trip_duration_in_minutes\"] = df[\"trip_duration_in_minutes\"] / pd.Timedelta(minutes=1)\n",
    "    df[\"year\"] = df[\"start_time\"].dt.year\n",
    "    df[\"month\"] = df[\"start_time\"].dt.month\n",
    "    df[\"day_of_week\"] = df[\"start_time\"].dt.dayofweek\n",
    "    df[\"hour\"] = df[\"start_time\"].dt.hour\n",
    "    df = df.sort_values(\"start_time\")\n",
    "    return df\n",
    "\n",
    "def add_coordinate_features(dataframe):\n",
    "    df = dataframe.copy()\n",
    "    df['StartCoordinate'] = list(zip(df.start_lat, df.start_lon))\n",
    "    df['EndCoordinate'] = list(zip(df.end_lat, df.end_lon))\n",
    "    return df\n",
    "\n",
    "def engineer_data(dataframe):\n",
    "    # Copy input DataFrame\n",
    "    engineered_data = dataframe.copy()\n",
    "    # Apply coarse spatial filter based on coordinates\n",
    "    engineered_data = crop_trips_by_coordinates(engineered_data)\n",
    "    # Remove duplicate trips\n",
    "    engineered_data.drop_duplicates([\"trip_id\"], inplace=True)\n",
    "    # Generate datetime features such as trip day of week and hour of day\n",
    "    engineered_data = generate_datetime_features(engineered_data)\n",
    "    # Crop unneccessary columns\n",
    "    engineered_data = engineered_data[[\"trip_id\",\"start_time\",\"end_time\",\"start_lat\",\"start_lon\",\"end_lat\",\"end_lon\",\"bike_id\",\"trip_route_category\",\"passholder_type\",\"trip_duration_in_minutes\",\"year\",\"month\",\"day_of_week\",\"hour\"]].copy()\n",
    "    # Dictionary to map Los Angeles user classes to simplified \"Customer\" vs. \"Subscriber\" dichotomy\n",
    "    simplified_dictionary = {\"Annual Pass\": \"Subscriber\", \n",
    "                             \"Flex Pass\":\"Subscriber\", \n",
    "                             \"Monthly Pass\": \"Subscriber\", \n",
    "                             \"One Day Pass\": \"Customer\", \n",
    "                             \"Walk-up\":\"Customer\"}\n",
    "    engineered_data[\"UserType\"] = engineered_data[\"passholder_type\"].map(simplified_dictionary)\n",
    "    engineered_data['DayType'] = engineered_data['day_of_week'].apply(lambda x: 'Weekday' if x <= 4 else 'Weekend')\n",
    "    return engineered_data\n",
    "\n",
    "def merge_trips_with_ancillary_data(dataframe):\n",
    "    \n",
    "    starts_gdf = gpd.GeoDataFrame(dataframe.drop([\"end_lon\",\"end_lat\"], axis=1), geometry=gpd.points_from_xy(dataframe.start_lon, dataframe.start_lat))\n",
    "    ends_gdf = gpd.GeoDataFrame(dataframe.drop([\"start_lon\",\"start_lat\"], axis=1), geometry=gpd.points_from_xy(dataframe.end_lon, dataframe.end_lat))\n",
    "    \n",
    "    starts_gdf.crs = \"EPSG:4326\"\n",
    "    ends_gdf.crs = \"EPSG:4326\"\n",
    "    \n",
    "    census_places = \"http://s3-us-west-2.amazonaws.com/boundaries.latimes.com/archive/1.0/boundary-set/census-places-2012.geojson\"\n",
    "    census_tracts = \"http://s3-us-west-2.amazonaws.com/boundaries.latimes.com/archive/1.0/boundary-set/census-tracts-2012.geojson\"\n",
    "    neighborhoods = \"http://s3-us-west-2.amazonaws.com/boundaries.latimes.com/archive/1.0/boundary-set/la-county-neighborhoods-current.geojson\"\n",
    "    regions = \"http://s3-us-west-2.amazonaws.com/boundaries.latimes.com/archive/1.0/boundary-set/la-county-regions-current.geojson\"\n",
    "\n",
    "    census_places_gdf = gpd.read_file(census_places)\n",
    "    census_tracts_gdf = gpd.read_file(census_tracts)\n",
    "    neighborhoods_gdf = gpd.read_file(neighborhoods)\n",
    "    regions_gdf = gpd.read_file(regions)\n",
    "    \n",
    "    census_places_gdf = census_places_gdf.to_crs(\"EPSG:4326\")\n",
    "    census_tracts_gdf = census_tracts_gdf.to_crs(\"EPSG:4326\")\n",
    "    neighborhoods_gdf = neighborhoods_gdf.to_crs(\"EPSG:4326\")\n",
    "    regions_gdf = regions_gdf.to_crs(\"EPSG:4326\")\n",
    "    \n",
    "    census_places_gdf = census_places_gdf.drop([\"kind\",\"external_id\",\"slug\",\"set\",\"metadata\",\"resource_uri\"], axis=1)\n",
    "    census_places_gdf.rename(columns={\"name\":\"CensusPlace\"}, inplace=True)\n",
    "    \n",
    "    census_tracts_gdf = census_tracts_gdf.drop([\"kind\",\"external_id\",\"slug\",\"set\",\"metadata\",\"resource_uri\"], axis=1)\n",
    "    census_tracts_gdf.rename(columns={\"name\":\"CensusTract\"}, inplace=True)\n",
    "    \n",
    "    neighborhoods_gdf.drop([\"kind\",\"external_id\",\"slug\",\"set\",\"metadata\",\"resource_uri\"], axis=1, inplace=True)\n",
    "    neighborhoods_gdf.rename(columns={\"name\":\"Neighborhood\"}, inplace=True)\n",
    "\n",
    "    regions_gdf.drop([\"kind\",\"external_id\",\"slug\",\"set\",\"metadata\",\"resource_uri\"], axis=1, inplace=True)\n",
    "    regions_gdf.rename(columns={\"name\":\"Region\"}, inplace=True)\n",
    "\n",
    "    starts_census_tracts_gdf = gpd.sjoin(starts_gdf, census_tracts_gdf, how=\"left\")\n",
    "    starts_census_places_gdf = gpd.sjoin(starts_gdf, census_places_gdf, how=\"left\")\n",
    "    starts_neighborhoods_gdf = gpd.sjoin(starts_gdf, neighborhoods_gdf, how=\"left\")\n",
    "    starts_regions_gdf = gpd.sjoin(starts_gdf, regions_gdf, how=\"left\")\n",
    "    \n",
    "    starts_regions_gdf.drop([\"index_right\"], axis=1, inplace=True)\n",
    "    starts_neighborhoods_gdf.drop([\"index_right\"], axis=1, inplace=True)\n",
    "    starts_census_places_gdf.drop([\"index_right\"], axis=1, inplace=True)\n",
    "    starts_census_tracts_gdf.drop([\"index_right\"], axis=1, inplace=True)\n",
    "    \n",
    "    ends_census_tracts_gdf = gpd.sjoin(ends_gdf, census_tracts_gdf, how=\"left\")\n",
    "    ends_census_places_gdf = gpd.sjoin(ends_gdf, census_places_gdf, how=\"left\")\n",
    "    ends_neighborhoods_gdf = gpd.sjoin(ends_gdf, neighborhoods_gdf, how=\"left\")\n",
    "    ends_regions_gdf = gpd.sjoin(ends_gdf, regions_gdf, how=\"left\")\n",
    "    \n",
    "    ends_regions_gdf.drop([\"index_right\"], axis=1, inplace=True)\n",
    "    ends_neighborhoods_gdf.drop([\"index_right\"], axis=1, inplace=True)\n",
    "    ends_census_places_gdf.drop([\"index_right\"], axis=1, inplace=True)\n",
    "    ends_census_tracts_gdf.drop([\"index_right\"], axis=1, inplace=True)\n",
    "    \n",
    "    starts_with_boundaries = starts_regions_gdf.merge(starts_neighborhoods_gdf[[\"trip_id\",\"Neighborhood\"]], on=\"trip_id\").merge(starts_census_places_gdf[[\"trip_id\",\"CensusPlace\"]], on=\"trip_id\").merge(starts_census_tracts_gdf[[\"trip_id\",\"CensusTract\"]], on=\"trip_id\")\n",
    "    ends_with_boundaries = ends_regions_gdf.merge(ends_neighborhoods_gdf[[\"trip_id\",\"Neighborhood\"]], on=\"trip_id\").merge(ends_census_places_gdf[[\"trip_id\",\"CensusPlace\"]], on=\"trip_id\").merge(ends_census_tracts_gdf[[\"trip_id\",\"CensusTract\"]], on=\"trip_id\")\n",
    "    \n",
    "    starts_with_boundaries_df = pd.DataFrame(starts_with_boundaries.drop([\"geometry\"], axis=1))\n",
    "    ends_with_boundaries_df = pd.DataFrame(ends_with_boundaries[[\"trip_id\",\"Region\",\"Neighborhood\",\"CensusPlace\",\"CensusTract\"]])\n",
    "    \n",
    "    trips_with_boundaries_df = starts_with_boundaries_df.merge(ends_with_boundaries_df, on=\"trip_id\", suffixes=(\"_start\",\"_end\"))\n",
    "        \n",
    "    return trips_with_boundaries_df\n",
    "\n"
   ]
  },
  {
   "cell_type": "code",
   "execution_count": 3,
   "metadata": {},
   "outputs": [
    {
     "data": {
      "text/plain": [
       "False    74.297108\n",
       "True     25.702892\n",
       "Name: Stays in same CensusTract, dtype: float64"
      ]
     },
     "execution_count": 3,
     "metadata": {},
     "output_type": "execute_result"
    }
   ],
   "source": [
    "# Use wildcard to read-in all csv files in folder\n",
    "filepath = glob(\"/home/alex/data/la-metro-bike-share/*.csv\")\n",
    "\n",
    "# Use low memory option to avoid specifying datatypes explicitly\n",
    "dataframes = [pd.read_csv(f, low_memory=False) for f in filepath]\n",
    "\n",
    "# Concatenate each individual CSV dataframe into a single dataframe\n",
    "df = pd.concat(dataframes)\n",
    "\n",
    "# Engineer data\n",
    "trip_data = engineer_data(df)\n",
    "\n",
    "# Merge trip data with ancillary boundary data\n",
    "trips_with_boundaries = merge_trips_with_ancillary_data(trip_data)\n",
    "\n",
    "# Engineer a new feature\n",
    "trips_with_boundaries[\"Stays in same CensusTract\"] = trips_with_boundaries[\"CensusTract_start\"] == trips_with_boundaries[\"CensusTract_end\"]\n",
    "\n",
    "# Return distribution of engineered feature\n",
    "trips_with_boundaries[\"Stays in same CensusTract\"].value_counts(normalize=True)*100\n"
   ]
  },
  {
   "cell_type": "code",
   "execution_count": 4,
   "metadata": {},
   "outputs": [
    {
     "data": {
      "text/html": [
       "<div>\n",
       "<style scoped>\n",
       "    .dataframe tbody tr th:only-of-type {\n",
       "        vertical-align: middle;\n",
       "    }\n",
       "\n",
       "    .dataframe tbody tr th {\n",
       "        vertical-align: top;\n",
       "    }\n",
       "\n",
       "    .dataframe thead th {\n",
       "        text-align: right;\n",
       "    }\n",
       "</style>\n",
       "<table border=\"1\" class=\"dataframe\">\n",
       "  <thead>\n",
       "    <tr style=\"text-align: right;\">\n",
       "      <th></th>\n",
       "      <th>start_lat</th>\n",
       "      <th>start_lon</th>\n",
       "      <th>passholder_type</th>\n",
       "      <th>year</th>\n",
       "      <th>month</th>\n",
       "      <th>day_of_week</th>\n",
       "      <th>hour</th>\n",
       "      <th>UserType</th>\n",
       "      <th>DayType</th>\n",
       "      <th>Region_start</th>\n",
       "      <th>Neighborhood_start</th>\n",
       "      <th>CensusPlace_start</th>\n",
       "      <th>CensusTract_start</th>\n",
       "      <th>Stays in same CensusTract</th>\n",
       "    </tr>\n",
       "  </thead>\n",
       "  <tbody>\n",
       "    <tr>\n",
       "      <th>0</th>\n",
       "      <td>34.056610</td>\n",
       "      <td>-118.23721</td>\n",
       "      <td>Monthly Pass</td>\n",
       "      <td>2016</td>\n",
       "      <td>7</td>\n",
       "      <td>3</td>\n",
       "      <td>4</td>\n",
       "      <td>Subscriber</td>\n",
       "      <td>Weekday</td>\n",
       "      <td>Central L.A.</td>\n",
       "      <td>Downtown</td>\n",
       "      <td>Los Angeles</td>\n",
       "      <td>06037206020</td>\n",
       "      <td>True</td>\n",
       "    </tr>\n",
       "    <tr>\n",
       "      <th>1</th>\n",
       "      <td>34.056610</td>\n",
       "      <td>-118.23721</td>\n",
       "      <td>Monthly Pass</td>\n",
       "      <td>2016</td>\n",
       "      <td>7</td>\n",
       "      <td>3</td>\n",
       "      <td>6</td>\n",
       "      <td>Subscriber</td>\n",
       "      <td>Weekday</td>\n",
       "      <td>Central L.A.</td>\n",
       "      <td>Downtown</td>\n",
       "      <td>Los Angeles</td>\n",
       "      <td>06037206020</td>\n",
       "      <td>True</td>\n",
       "    </tr>\n",
       "    <tr>\n",
       "      <th>2</th>\n",
       "      <td>34.052898</td>\n",
       "      <td>-118.24156</td>\n",
       "      <td>Flex Pass</td>\n",
       "      <td>2016</td>\n",
       "      <td>7</td>\n",
       "      <td>3</td>\n",
       "      <td>10</td>\n",
       "      <td>Subscriber</td>\n",
       "      <td>Weekday</td>\n",
       "      <td>Central L.A.</td>\n",
       "      <td>Downtown</td>\n",
       "      <td>Los Angeles</td>\n",
       "      <td>06037207400</td>\n",
       "      <td>True</td>\n",
       "    </tr>\n",
       "    <tr>\n",
       "      <th>3</th>\n",
       "      <td>34.052898</td>\n",
       "      <td>-118.24156</td>\n",
       "      <td>Flex Pass</td>\n",
       "      <td>2016</td>\n",
       "      <td>7</td>\n",
       "      <td>3</td>\n",
       "      <td>10</td>\n",
       "      <td>Subscriber</td>\n",
       "      <td>Weekday</td>\n",
       "      <td>Central L.A.</td>\n",
       "      <td>Downtown</td>\n",
       "      <td>Los Angeles</td>\n",
       "      <td>06037207400</td>\n",
       "      <td>True</td>\n",
       "    </tr>\n",
       "    <tr>\n",
       "      <th>4</th>\n",
       "      <td>34.049889</td>\n",
       "      <td>-118.25588</td>\n",
       "      <td>Walk-up</td>\n",
       "      <td>2016</td>\n",
       "      <td>7</td>\n",
       "      <td>3</td>\n",
       "      <td>12</td>\n",
       "      <td>Customer</td>\n",
       "      <td>Weekday</td>\n",
       "      <td>Central L.A.</td>\n",
       "      <td>Downtown</td>\n",
       "      <td>Los Angeles</td>\n",
       "      <td>06037207710</td>\n",
       "      <td>True</td>\n",
       "    </tr>\n",
       "  </tbody>\n",
       "</table>\n",
       "</div>"
      ],
      "text/plain": [
       "   start_lat  start_lon passholder_type  year  month  day_of_week  hour  \\\n",
       "0  34.056610 -118.23721    Monthly Pass  2016      7            3     4   \n",
       "1  34.056610 -118.23721    Monthly Pass  2016      7            3     6   \n",
       "2  34.052898 -118.24156       Flex Pass  2016      7            3    10   \n",
       "3  34.052898 -118.24156       Flex Pass  2016      7            3    10   \n",
       "4  34.049889 -118.25588         Walk-up  2016      7            3    12   \n",
       "\n",
       "     UserType  DayType  Region_start Neighborhood_start CensusPlace_start  \\\n",
       "0  Subscriber  Weekday  Central L.A.           Downtown       Los Angeles   \n",
       "1  Subscriber  Weekday  Central L.A.           Downtown       Los Angeles   \n",
       "2  Subscriber  Weekday  Central L.A.           Downtown       Los Angeles   \n",
       "3  Subscriber  Weekday  Central L.A.           Downtown       Los Angeles   \n",
       "4    Customer  Weekday  Central L.A.           Downtown       Los Angeles   \n",
       "\n",
       "  CensusTract_start  Stays in same CensusTract  \n",
       "0       06037206020                       True  \n",
       "1       06037206020                       True  \n",
       "2       06037207400                       True  \n",
       "3       06037207400                       True  \n",
       "4       06037207710                       True  "
      ]
     },
     "execution_count": 4,
     "metadata": {},
     "output_type": "execute_result"
    }
   ],
   "source": [
    "data_for_predictions = trips_with_boundaries.drop([\"trip_id\",\"start_time\",\"end_time\",\"trip_duration_in_minutes\",\"bike_id\", \"trip_route_category\",\"Region_end\",\"Neighborhood_end\",\"CensusPlace_end\",\"CensusTract_end\"], axis=1)\n",
    "\n",
    "data_for_predictions.head()\n"
   ]
  },
  {
   "cell_type": "code",
   "execution_count": 49,
   "metadata": {},
   "outputs": [],
   "source": [
    "train, test = train_test_split(\n",
    "    data_for_predictions, \n",
    "    train_size=0.80, \n",
    "    test_size=0.20, \n",
    "    random_state=42)\n",
    "\n",
    "train, validate = train_test_split(\n",
    "    train, \n",
    "    train_size=0.80, \n",
    "    test_size=0.20, \n",
    "    random_state=42)"
   ]
  },
  {
   "cell_type": "code",
   "execution_count": 50,
   "metadata": {},
   "outputs": [
    {
     "data": {
      "text/plain": [
       "((579503, 14), (144876, 14), (181095, 14))"
      ]
     },
     "execution_count": 50,
     "metadata": {},
     "output_type": "execute_result"
    }
   ],
   "source": [
    "train.shape, validate.shape, test.shape"
   ]
  },
  {
   "cell_type": "code",
   "execution_count": 51,
   "metadata": {},
   "outputs": [
    {
     "data": {
      "text/plain": [
       "['start_lat',\n",
       " 'start_lon',\n",
       " 'year',\n",
       " 'month',\n",
       " 'day_of_week',\n",
       " 'hour',\n",
       " 'passholder_type',\n",
       " 'UserType',\n",
       " 'DayType',\n",
       " 'Region_start',\n",
       " 'Neighborhood_start',\n",
       " 'CensusPlace_start',\n",
       " 'CensusTract_start']"
      ]
     },
     "execution_count": 51,
     "metadata": {},
     "output_type": "execute_result"
    }
   ],
   "source": [
    "# The status_group column is the target\n",
    "target = 'Stays in same CensusTract'\n",
    "\n",
    "# Get a dataframe with all train columns except the target\n",
    "train_features = train.drop(columns=[target])\n",
    "\n",
    "# Get a list of the numeric features\n",
    "numeric_features = train_features.select_dtypes(include='number').columns.tolist()\n",
    "\n",
    "# Get a series with the cardinality of the nonnumeric features\n",
    "cardinality = train_features.select_dtypes(exclude='number').nunique()\n",
    "\n",
    "# Get a list of all categorical features with cardinality <= 50\n",
    "categorical_features = cardinality.index.tolist()\n",
    "\n",
    "# Combine the lists \n",
    "features = numeric_features + categorical_features\n",
    "features"
   ]
  },
  {
   "cell_type": "markdown",
   "metadata": {},
   "source": [
    "Baseline accuracy, precision, and recall for majority classifier"
   ]
  },
  {
   "cell_type": "code",
   "execution_count": 52,
   "metadata": {},
   "outputs": [
    {
     "name": "stderr",
     "output_type": "stream",
     "text": [
      "/home/alex/anaconda3/envs/geoprocessing/lib/python3.7/site-packages/sklearn/metrics/_classification.py:1272: UndefinedMetricWarning: Precision and F-score are ill-defined and being set to 0.0 in labels with no predicted samples. Use `zero_division` parameter to control this behavior.\n",
      "  _warn_prf(average, modifier, msg_start, len(result))\n"
     ]
    },
    {
     "name": "stdout",
     "output_type": "stream",
     "text": [
      "\n",
      "               precision    recall  f1-score   support\n",
      "\n",
      "       False       0.74      1.00      0.85    430750\n",
      "        True       0.00      0.00      0.00    148753\n",
      "\n",
      "    accuracy                           0.74    579503\n",
      "   macro avg       0.37      0.50      0.43    579503\n",
      "weighted avg       0.55      0.74      0.63    579503\n",
      "\n"
     ]
    }
   ],
   "source": [
    "y_train = train[target]\n",
    "y_validate = validate[target]\n",
    "y_test = test[target]\n",
    "\n",
    "majority_class = y_train.mode()[0]\n",
    "y_pred = [majority_class] * len(y_train)\n",
    "\n",
    "print(\"\\n\",classification_report(y_train, y_pred))"
   ]
  },
  {
   "cell_type": "code",
   "execution_count": 53,
   "metadata": {},
   "outputs": [],
   "source": [
    "# Arrange data into X features matrix and y target vector \n",
    "X_train = train[features]\n",
    "y_train = train[target]\n",
    "X_validate = validate[features]\n",
    "y_validate = validate[target]\n",
    "X_test = test[features]\n",
    "y_test = test[target]"
   ]
  },
  {
   "cell_type": "code",
   "execution_count": 54,
   "metadata": {},
   "outputs": [
    {
     "name": "stdout",
     "output_type": "stream",
     "text": [
      "Train Accuracy 0.7571211883286195\n",
      "Validation Accuracy 0.7557773544272344\n",
      "\n",
      "               precision    recall  f1-score   support\n",
      "\n",
      "       False       0.76      0.99      0.86    107454\n",
      "        True       0.71      0.09      0.16     37422\n",
      "\n",
      "    accuracy                           0.76    144876\n",
      "   macro avg       0.73      0.54      0.51    144876\n",
      "weighted avg       0.75      0.76      0.68    144876\n",
      "\n"
     ]
    }
   ],
   "source": [
    "pipeline = make_pipeline(\n",
    "    ce.OrdinalEncoder(),\n",
    "    SimpleImputer(strategy='mean'),\n",
    "    StandardScaler(),\n",
    "    LogisticRegression(solver='lbfgs', n_jobs=-1, random_state=8)\n",
    ")\n",
    "\n",
    "pipeline.fit(X_train, y_train)\n",
    "\n",
    "print ('Train Accuracy', pipeline.score(X_train, y_train))\n",
    "print ('Validation Accuracy', pipeline.score(X_validate, y_validate))\n",
    "y_pred = pipeline.predict(X_validate)\n",
    "print(\"\\n\", classification_report(y_validate, y_pred))"
   ]
  },
  {
   "cell_type": "code",
   "execution_count": 55,
   "metadata": {},
   "outputs": [
    {
     "name": "stdout",
     "output_type": "stream",
     "text": [
      "Train Accuracy 0.9107631884563151\n",
      "Validation Accuracy 0.7649507164747784\n",
      "\n",
      "               precision    recall  f1-score   support\n",
      "\n",
      "       False       0.82      0.87      0.85    107454\n",
      "        True       0.55      0.47      0.51     37422\n",
      "\n",
      "    accuracy                           0.76    144876\n",
      "   macro avg       0.69      0.67      0.68    144876\n",
      "weighted avg       0.75      0.76      0.76    144876\n",
      "\n"
     ]
    }
   ],
   "source": [
    "pipeline = make_pipeline(\n",
    "    ce.OrdinalEncoder(),\n",
    "    SimpleImputer(strategy='mean'),\n",
    "    StandardScaler(),\n",
    "    DecisionTreeClassifier(random_state=8)\n",
    ")\n",
    "\n",
    "pipeline.fit(X_train, y_train)\n",
    "\n",
    "print ('Train Accuracy', pipeline.score(X_train, y_train))\n",
    "print ('Validation Accuracy', pipeline.score(X_validate, y_validate))\n",
    "y_pred = pipeline.predict(X_validate)\n",
    "print(\"\\n\",classification_report(y_validate, y_pred))"
   ]
  },
  {
   "cell_type": "code",
   "execution_count": 56,
   "metadata": {},
   "outputs": [
    {
     "name": "stdout",
     "output_type": "stream",
     "text": [
      "Train Accuracy 0.9107407554404378\n",
      "Validation Accuracy 0.779107650680582\n",
      "\n",
      "               precision    recall  f1-score   support\n",
      "\n",
      "       False       0.83      0.88      0.86    107454\n",
      "        True       0.59      0.48      0.53     37422\n",
      "\n",
      "    accuracy                           0.78    144876\n",
      "   macro avg       0.71      0.68      0.69    144876\n",
      "weighted avg       0.77      0.78      0.77    144876\n",
      "\n"
     ]
    }
   ],
   "source": [
    "pipeline = make_pipeline(\n",
    "    ce.OrdinalEncoder(),\n",
    "    SimpleImputer(strategy='mean'),\n",
    "    StandardScaler(),\n",
    "    RandomForestClassifier(random_state=8, n_jobs=-1)\n",
    ")\n",
    "\n",
    "pipeline.fit(X_train, y_train)\n",
    "\n",
    "print ('Train Accuracy', pipeline.score(X_train, y_train))\n",
    "print ('Validation Accuracy', pipeline.score(X_validate, y_validate))\n",
    "y_pred = pipeline.predict(X_validate)\n",
    "print(\"\\n\",classification_report(y_validate, y_pred))"
   ]
  },
  {
   "cell_type": "code",
   "execution_count": 58,
   "metadata": {},
   "outputs": [
    {
     "name": "stdout",
     "output_type": "stream",
     "text": [
      "Testing Accuracy 0.7792484607526436\n",
      "\n",
      "               precision    recall  f1-score   support\n",
      "\n",
      "       False       0.83      0.88      0.86    134537\n",
      "        True       0.59      0.48      0.53     46558\n",
      "\n",
      "    accuracy                           0.78    181095\n",
      "   macro avg       0.71      0.68      0.69    181095\n",
      "weighted avg       0.77      0.78      0.77    181095\n",
      "\n"
     ]
    }
   ],
   "source": [
    "print ('Testing Accuracy', pipeline.score(X_test, y_test))\n",
    "y_pred = pipeline.predict(X_test)\n",
    "print(\"\\n\",classification_report(y_test, y_pred))"
   ]
  },
  {
   "cell_type": "code",
   "execution_count": 74,
   "metadata": {},
   "outputs": [
    {
     "data": {
      "image/png": "[encoded data removed]",
      "text/plain": [
       "<Figure size 720x576 with 1 Axes>"
      ]
     },
     "metadata": {
      "needs_background": "light"
     },
     "output_type": "display_data"
    }
   ],
   "source": [
    "model = pipeline.named_steps['randomforestclassifier']\n",
    "\n",
    "encoder = pipeline.named_steps[\"ordinalencoder\"]\n",
    "\n",
    "encoded_columns = encoder.transform(X_validate).columns\n",
    "\n",
    "importances = pd.Series(model.feature_importances_, encoded_columns)\n",
    "\n",
    "plt.figure(figsize=(10,8))\n",
    "importances.sort_values().plot(kind=\"barh\", color=\"teal\")\n",
    "plt.title(\"Random Forest Classifier Feature Importances\")\n",
    "plt.show()"
   ]
  },
  {
   "cell_type": "code",
   "execution_count": 87,
   "metadata": {},
   "outputs": [
    {
     "data": {
      "image/png": "[encoded data removed]",
      "text/plain": [
       "<Figure size 720x432 with 1 Axes>"
      ]
     },
     "metadata": {
      "needs_background": "light"
     },
     "output_type": "display_data"
    }
   ],
   "source": [
    "fig, ax = plt.subplots(figsize=(10,6))\n",
    "data_for_predictions.groupby(\"hour\")[\"Stays in same CensusTract\"].value_counts(normalize=True).unstack().plot(kind=\"bar\", ax=ax)\n",
    "plt.title(\"Morning and Evening Commutes Cross Census Tract Boundaries\", size=18)\n",
    "plt.show()"
   ]
  }
 ],
 "metadata": {
  "jupytext": {
   "cell_metadata_filter": "-all",
   "main_language": "python",
   "notebook_metadata_filter": "-all"
  },
  "kernelspec": {
   "display_name": "Python 3",
   "language": "python",
   "name": "python3"
  },
  "language_info": {
   "codemirror_mode": {
    "name": "ipython",
    "version": 3
   },
   "file_extension": ".py",
   "mimetype": "text/x-python",
   "name": "python",
   "nbconvert_exporter": "python",
   "pygments_lexer": "ipython3",
   "version": "3.7.6"
  }
 },
 "nbformat": 4,
 "nbformat_minor": 4
}
