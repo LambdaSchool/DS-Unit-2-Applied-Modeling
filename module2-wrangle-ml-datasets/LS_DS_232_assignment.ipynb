{
  "nbformat": 4,
  "nbformat_minor": 0,
  "metadata": {
    "kernelspec": {
      "display_name": "Python 3",
      "language": "python",
      "name": "python3"
    },
    "language_info": {
      "codemirror_mode": {
        "name": "ipython",
        "version": 3
      },
      "file_extension": ".py",
      "mimetype": "text/x-python",
      "name": "python",
      "nbconvert_exporter": "python",
      "pygments_lexer": "ipython3",
      "version": "3.7.6"
    },
    "colab": {
      "name": "Monday_assignment.ipynb",
      "provenance": [],
      "collapsed_sections": [],
      "include_colab_link": true
    }
  },
  "cells": [
    {
      "cell_type": "markdown",
      "metadata": {
        "id": "view-in-github",
        "colab_type": "text"
      },
      "source": [
        "<a href=\"https://colab.research.google.com/github/repoocsov/DS-Unit-2-Applied-Modeling/blob/master/module2-wrangle-ml-datasets/LS_DS_232_assignment.ipynb\" target=\"_parent\"><img src=\"https://colab.research.google.com/assets/colab-badge.svg\" alt=\"Open In Colab\"/></a>"
      ]
    },
    {
      "cell_type": "markdown",
      "metadata": {
        "id": "vNB8zW7AB-tX",
        "colab_type": "text"
      },
      "source": [
        "# **Pre-Model**"
      ]
    },
    {
      "cell_type": "markdown",
      "metadata": {
        "id": "rkjy2ABdCkby",
        "colab_type": "text"
      },
      "source": [
        "### Splitting some Cleaning"
      ]
    },
    {
      "cell_type": "code",
      "metadata": {
        "id": "09BnJSR1-EIe",
        "colab_type": "code",
        "colab": {}
      },
      "source": [
        "import pandas as pd\n",
        "import numpy as np\n",
        "colnames = ['site', 'vendor', 'timestamp', 'score', 'btc_amount', 'comment']\n",
        "df = pd.read_csv('2020-01-13-kilos-6dnms-reviews.csv', error_bad_lines=False, lineterminator='\\n', names=colnames, header=None, encoding='UTF-8')"
      ],
      "execution_count": 0,
      "outputs": []
    },
    {
      "cell_type": "code",
      "metadata": {
        "id": "ob2XlaILpMj7",
        "colab_type": "code",
        "colab": {
          "base_uri": "https://localhost:8080/",
          "height": 0
        },
        "outputId": "cf0432dd-f631-4e8a-bd16-33b20c5efd94"
      },
      "source": [
        "df.shape"
      ],
      "execution_count": 2,
      "outputs": [
        {
          "output_type": "execute_result",
          "data": {
            "text/plain": [
              "(235652, 6)"
            ]
          },
          "metadata": {
            "tags": []
          },
          "execution_count": 2
        }
      ]
    },
    {
      "cell_type": "code",
      "metadata": {
        "id": "u_1F_-5FpMvJ",
        "colab_type": "code",
        "colab": {
          "base_uri": "https://localhost:8080/",
          "height": 0
        },
        "outputId": "81521380-e4c3-4e17-e60d-9f15a227630f"
      },
      "source": [
        "df.columns"
      ],
      "execution_count": 3,
      "outputs": [
        {
          "output_type": "execute_result",
          "data": {
            "text/plain": [
              "Index(['site', 'vendor', 'timestamp', 'score', 'btc_amount', 'comment'], dtype='object')"
            ]
          },
          "metadata": {
            "tags": []
          },
          "execution_count": 3
        }
      ]
    },
    {
      "cell_type": "code",
      "metadata": {
        "id": "uepsZl9QucFt",
        "colab_type": "code",
        "colab": {
          "base_uri": "https://localhost:8080/",
          "height": 0
        },
        "outputId": "93fa2758-9eef-4019-b4e0-aa7fd96502e5"
      },
      "source": [
        "df.tail(5)"
      ],
      "execution_count": 4,
      "outputs": [
        {
          "output_type": "execute_result",
          "data": {
            "text/html": [
              "<div>\n",
              "<style scoped>\n",
              "    .dataframe tbody tr th:only-of-type {\n",
              "        vertical-align: middle;\n",
              "    }\n",
              "\n",
              "    .dataframe tbody tr th {\n",
              "        vertical-align: top;\n",
              "    }\n",
              "\n",
              "    .dataframe thead th {\n",
              "        text-align: right;\n",
              "    }\n",
              "</style>\n",
              "<table border=\"1\" class=\"dataframe\">\n",
              "  <thead>\n",
              "    <tr style=\"text-align: right;\">\n",
              "      <th></th>\n",
              "      <th>site</th>\n",
              "      <th>vendor</th>\n",
              "      <th>timestamp</th>\n",
              "      <th>score</th>\n",
              "      <th>btc_amount</th>\n",
              "      <th>comment</th>\n",
              "    </tr>\n",
              "  </thead>\n",
              "  <tbody>\n",
              "    <tr>\n",
              "      <th>235647</th>\n",
              "      <td>Apollon</td>\n",
              "      <td>DrSommer</td>\n",
              "      <td>1578825660</td>\n",
              "      <td>1</td>\n",
              "      <td>0.001541</td>\n",
              "      <td>Good stealth, good product</td>\n",
              "    </tr>\n",
              "    <tr>\n",
              "      <th>235648</th>\n",
              "      <td>Apollon</td>\n",
              "      <td>DrSommer</td>\n",
              "      <td>1578827520</td>\n",
              "      <td>1</td>\n",
              "      <td>0.002712</td>\n",
              "      <td>very good</td>\n",
              "    </tr>\n",
              "    <tr>\n",
              "      <th>235649</th>\n",
              "      <td>Apollon</td>\n",
              "      <td>DrSommer</td>\n",
              "      <td>1578827760</td>\n",
              "      <td>1</td>\n",
              "      <td>0.001603</td>\n",
              "      <td>Excellent as usual</td>\n",
              "    </tr>\n",
              "    <tr>\n",
              "      <th>235650</th>\n",
              "      <td>Apollon</td>\n",
              "      <td>DrSommer</td>\n",
              "      <td>1578827820</td>\n",
              "      <td>1</td>\n",
              "      <td>0.001726</td>\n",
              "      <td>Excellent as usual</td>\n",
              "    </tr>\n",
              "    <tr>\n",
              "      <th>235651</th>\n",
              "      <td>Apollon</td>\n",
              "      <td>DrSommer</td>\n",
              "      <td>1578827820</td>\n",
              "      <td>1</td>\n",
              "      <td>0.002096</td>\n",
              "      <td>excellent stealth, fast shipping, original bli...</td>\n",
              "    </tr>\n",
              "  </tbody>\n",
              "</table>\n",
              "</div>"
            ],
            "text/plain": [
              "           site  ...                                            comment\n",
              "235647  Apollon  ...                         Good stealth, good product\n",
              "235648  Apollon  ...                                          very good\n",
              "235649  Apollon  ...                                 Excellent as usual\n",
              "235650  Apollon  ...                                 Excellent as usual\n",
              "235651  Apollon  ...  excellent stealth, fast shipping, original bli...\n",
              "\n",
              "[5 rows x 6 columns]"
            ]
          },
          "metadata": {
            "tags": []
          },
          "execution_count": 4
        }
      ]
    },
    {
      "cell_type": "code",
      "metadata": {
        "id": "F1k2UsG5ezzL",
        "colab_type": "code",
        "colab": {
          "base_uri": "https://localhost:8080/",
          "height": 0
        },
        "outputId": "5cc5c5ba-4b7f-40d0-ade9-b7adbf918884"
      },
      "source": [
        "import warnings\n",
        "from pandas.core.common import SettingWithCopyWarning\n",
        "warnings.simplefilter(action=\"ignore\", category=SettingWithCopyWarning)\n",
        "\n",
        "# GETTING BTC PRICE ON THOSE DATES\n",
        "''' btc price dataframe '''\n",
        "df2 = pd.read_csv('btc.csv')\n",
        "subset = df2[['PriceUSD', 'date']]\n",
        "subset['date'] = pd.to_datetime(subset['date'], infer_datetime_format=True)\n",
        "\n",
        "\n",
        "''' original dataframe '''\n",
        "\n",
        "# ZEROES CURRENTLY DROPPED\n",
        "#df['timestamp'].replace({0: 1528825660})\n",
        "df['timestamp'][0] = np.nan\n",
        "df['timestamp'] = pd.to_datetime(df['timestamp'], origin='unix', unit='s', utc=True)\n",
        "df['timestamp'] = [x.replace(tzinfo=None).date() for x in df['timestamp']]\n",
        "df['timestamp'] = pd.to_datetime(df['timestamp'])\n",
        "df = pd.merge(df, subset, how='inner', left_on='timestamp', right_on='date')\n",
        "df"
      ],
      "execution_count": 5,
      "outputs": [
        {
          "output_type": "execute_result",
          "data": {
            "text/html": [
              "<div>\n",
              "<style scoped>\n",
              "    .dataframe tbody tr th:only-of-type {\n",
              "        vertical-align: middle;\n",
              "    }\n",
              "\n",
              "    .dataframe tbody tr th {\n",
              "        vertical-align: top;\n",
              "    }\n",
              "\n",
              "    .dataframe thead th {\n",
              "        text-align: right;\n",
              "    }\n",
              "</style>\n",
              "<table border=\"1\" class=\"dataframe\">\n",
              "  <thead>\n",
              "    <tr style=\"text-align: right;\">\n",
              "      <th></th>\n",
              "      <th>site</th>\n",
              "      <th>vendor</th>\n",
              "      <th>timestamp</th>\n",
              "      <th>score</th>\n",
              "      <th>btc_amount</th>\n",
              "      <th>comment</th>\n",
              "      <th>PriceUSD</th>\n",
              "      <th>date</th>\n",
              "    </tr>\n",
              "  </thead>\n",
              "  <tbody>\n",
              "    <tr>\n",
              "      <th>0</th>\n",
              "      <td>Empire</td>\n",
              "      <td>ofgrey</td>\n",
              "      <td>2018-02-19</td>\n",
              "      <td>1</td>\n",
              "      <td>0.002418</td>\n",
              "      <td>Good quality product, everything is very well ...</td>\n",
              "      <td>11139.355730</td>\n",
              "      <td>2018-02-19</td>\n",
              "    </tr>\n",
              "    <tr>\n",
              "      <th>1</th>\n",
              "      <td>Empire</td>\n",
              "      <td>ofgrey</td>\n",
              "      <td>2018-02-19</td>\n",
              "      <td>1</td>\n",
              "      <td>0.000092</td>\n",
              "      <td>good best price thank you</td>\n",
              "      <td>11139.355730</td>\n",
              "      <td>2018-02-19</td>\n",
              "    </tr>\n",
              "    <tr>\n",
              "      <th>2</th>\n",
              "      <td>Empire</td>\n",
              "      <td>ofgrey</td>\n",
              "      <td>2018-02-19</td>\n",
              "      <td>1</td>\n",
              "      <td>0.002418</td>\n",
              "      <td>Best vendor !!!</td>\n",
              "      <td>11139.355730</td>\n",
              "      <td>2018-02-19</td>\n",
              "    </tr>\n",
              "    <tr>\n",
              "      <th>3</th>\n",
              "      <td>Empire</td>\n",
              "      <td>ofgrey</td>\n",
              "      <td>2018-02-19</td>\n",
              "      <td>1</td>\n",
              "      <td>0.000150</td>\n",
              "      <td>good thank you</td>\n",
              "      <td>11139.355730</td>\n",
              "      <td>2018-02-19</td>\n",
              "    </tr>\n",
              "    <tr>\n",
              "      <th>4</th>\n",
              "      <td>Empire</td>\n",
              "      <td>DrunkDragon</td>\n",
              "      <td>2018-03-02</td>\n",
              "      <td>-1</td>\n",
              "      <td>0.000113</td>\n",
              "      <td>scam,scam scam,save urself the trouble.SCAM.</td>\n",
              "      <td>11014.058470</td>\n",
              "      <td>2018-03-02</td>\n",
              "    </tr>\n",
              "    <tr>\n",
              "      <th>...</th>\n",
              "      <td>...</td>\n",
              "      <td>...</td>\n",
              "      <td>...</td>\n",
              "      <td>...</td>\n",
              "      <td>...</td>\n",
              "      <td>...</td>\n",
              "      <td>...</td>\n",
              "      <td>...</td>\n",
              "    </tr>\n",
              "    <tr>\n",
              "      <th>225409</th>\n",
              "      <td>Apollon</td>\n",
              "      <td>DrSommer</td>\n",
              "      <td>2020-01-12</td>\n",
              "      <td>1</td>\n",
              "      <td>0.001541</td>\n",
              "      <td>Good stealth, good product</td>\n",
              "      <td>8164.549993</td>\n",
              "      <td>2020-01-12</td>\n",
              "    </tr>\n",
              "    <tr>\n",
              "      <th>225410</th>\n",
              "      <td>Apollon</td>\n",
              "      <td>DrSommer</td>\n",
              "      <td>2020-01-12</td>\n",
              "      <td>1</td>\n",
              "      <td>0.002712</td>\n",
              "      <td>very good</td>\n",
              "      <td>8164.549993</td>\n",
              "      <td>2020-01-12</td>\n",
              "    </tr>\n",
              "    <tr>\n",
              "      <th>225411</th>\n",
              "      <td>Apollon</td>\n",
              "      <td>DrSommer</td>\n",
              "      <td>2020-01-12</td>\n",
              "      <td>1</td>\n",
              "      <td>0.001603</td>\n",
              "      <td>Excellent as usual</td>\n",
              "      <td>8164.549993</td>\n",
              "      <td>2020-01-12</td>\n",
              "    </tr>\n",
              "    <tr>\n",
              "      <th>225412</th>\n",
              "      <td>Apollon</td>\n",
              "      <td>DrSommer</td>\n",
              "      <td>2020-01-12</td>\n",
              "      <td>1</td>\n",
              "      <td>0.001726</td>\n",
              "      <td>Excellent as usual</td>\n",
              "      <td>8164.549993</td>\n",
              "      <td>2020-01-12</td>\n",
              "    </tr>\n",
              "    <tr>\n",
              "      <th>225413</th>\n",
              "      <td>Apollon</td>\n",
              "      <td>DrSommer</td>\n",
              "      <td>2020-01-12</td>\n",
              "      <td>1</td>\n",
              "      <td>0.002096</td>\n",
              "      <td>excellent stealth, fast shipping, original bli...</td>\n",
              "      <td>8164.549993</td>\n",
              "      <td>2020-01-12</td>\n",
              "    </tr>\n",
              "  </tbody>\n",
              "</table>\n",
              "<p>225414 rows × 8 columns</p>\n",
              "</div>"
            ],
            "text/plain": [
              "           site       vendor  ...      PriceUSD       date\n",
              "0        Empire       ofgrey  ...  11139.355730 2018-02-19\n",
              "1        Empire       ofgrey  ...  11139.355730 2018-02-19\n",
              "2        Empire       ofgrey  ...  11139.355730 2018-02-19\n",
              "3        Empire       ofgrey  ...  11139.355730 2018-02-19\n",
              "4        Empire  DrunkDragon  ...  11014.058470 2018-03-02\n",
              "...         ...          ...  ...           ...        ...\n",
              "225409  Apollon     DrSommer  ...   8164.549993 2020-01-12\n",
              "225410  Apollon     DrSommer  ...   8164.549993 2020-01-12\n",
              "225411  Apollon     DrSommer  ...   8164.549993 2020-01-12\n",
              "225412  Apollon     DrSommer  ...   8164.549993 2020-01-12\n",
              "225413  Apollon     DrSommer  ...   8164.549993 2020-01-12\n",
              "\n",
              "[225414 rows x 8 columns]"
            ]
          },
          "metadata": {
            "tags": []
          },
          "execution_count": 5
        }
      ]
    },
    {
      "cell_type": "code",
      "metadata": {
        "id": "cn5n5YZ1pM3n",
        "colab_type": "code",
        "colab": {
          "base_uri": "https://localhost:8080/",
          "height": 0
        },
        "outputId": "8fcd9890-3781-4722-df99-0fde7d12fc76"
      },
      "source": [
        "\"\"\" FEATURES \"\"\"\n",
        "# CATAGORICAL: site, vendor, comment\n",
        "# NUMERIC: timestamp, btc_amount\n",
        "\n",
        "\"\"\" TARGET \"\"\"\n",
        "# score\n",
        "\n",
        "\n",
        "# Score represents the sentiment of the comment associated with the purchase. 1 being positive, 0 neutral, and -1 negative.\n",
        "# In addition to the accuracy metric...‘balanced_accuracy’ as there is a heavy class imbalance.\n",
        "\n",
        "# Distribution of the target\n",
        "\"\"\"\n",
        " 93.9% positive\n",
        " 3.2% negative\n",
        " 2.8% neutral\n",
        "\n",
        " This is a multi-class classification problem with three categories.\n",
        " The mean baseline is 93.9 %\n",
        "\"\"\"\n",
        "df['score'].value_counts(normalize=True)"
      ],
      "execution_count": 6,
      "outputs": [
        {
          "output_type": "execute_result",
          "data": {
            "text/plain": [
              " 1    0.938526\n",
              "-1    0.032079\n",
              " 0    0.029395\n",
              "Name: score, dtype: float64"
            ]
          },
          "metadata": {
            "tags": []
          },
          "execution_count": 6
        }
      ]
    },
    {
      "cell_type": "code",
      "metadata": {
        "id": "jqszM0t0tbjF",
        "colab_type": "code",
        "colab": {
          "base_uri": "https://localhost:8080/",
          "height": 0
        },
        "outputId": "73a9a9bd-cf6f-4d16-ae14-291e4510f196"
      },
      "source": [
        "df['timestamp'].describe()"
      ],
      "execution_count": 7,
      "outputs": [
        {
          "output_type": "execute_result",
          "data": {
            "text/plain": [
              "count                  225414\n",
              "unique                    654\n",
              "top       2019-11-06 00:00:00\n",
              "freq                     2505\n",
              "first     2018-02-19 00:00:00\n",
              "last      2020-01-12 00:00:00\n",
              "Name: timestamp, dtype: object"
            ]
          },
          "metadata": {
            "tags": []
          },
          "execution_count": 7
        }
      ]
    },
    {
      "cell_type": "code",
      "metadata": {
        "id": "ygxKjezcv8bz",
        "colab_type": "code",
        "colab": {}
      },
      "source": [
        "# timestamp has missing values (zeros). It would be nice to split the data this way otherwise.\n",
        "# Order of stratification importance...\n",
        "# score, timestamp/site\n",
        "from sklearn.model_selection import train_test_split\n",
        "\n",
        "target = 'score'\n",
        "features = ['site', 'vendor', 'btc_amount', 'comment', 'PriceUSD', 'date']\n",
        "\n",
        "y_df = df[target]\n",
        "X_df = df[features]\n",
        "\n",
        "X_train, X_test, y_train, y_test = train_test_split(X_df, y_df, test_size=0.2, random_state=42, stratify=y_df)"
      ],
      "execution_count": 0,
      "outputs": []
    },
    {
      "cell_type": "code",
      "metadata": {
        "id": "2xCknnzDMhJI",
        "colab_type": "code",
        "colab": {
          "base_uri": "https://localhost:8080/",
          "height": 0
        },
        "outputId": "d567fc0d-4b97-4ef5-c092-c8e960480238"
      },
      "source": [
        "X_train.shape, X_test.shape, y_train.shape, y_test.shape"
      ],
      "execution_count": 9,
      "outputs": [
        {
          "output_type": "execute_result",
          "data": {
            "text/plain": [
              "((180331, 6), (45083, 6), (180331,), (45083,))"
            ]
          },
          "metadata": {
            "tags": []
          },
          "execution_count": 9
        }
      ]
    },
    {
      "cell_type": "code",
      "metadata": {
        "id": "VLrHUOI5Munu",
        "colab_type": "code",
        "colab": {
          "base_uri": "https://localhost:8080/",
          "height": 0
        },
        "outputId": "1fc29e21-fb76-413d-daf1-4aae5c866ae1"
      },
      "source": [
        "# Repeating to get a validation set\n",
        "X_train, X_val, y_train, y_val = train_test_split(X_train, y_train, test_size=0.2, random_state=49, stratify=y_train)\n",
        "\n",
        "X_train.shape, X_val.shape, X_test.shape"
      ],
      "execution_count": 10,
      "outputs": [
        {
          "output_type": "execute_result",
          "data": {
            "text/plain": [
              "((144264, 6), (36067, 6), (45083, 6))"
            ]
          },
          "metadata": {
            "tags": []
          },
          "execution_count": 10
        }
      ]
    },
    {
      "cell_type": "markdown",
      "metadata": {
        "id": "4JcGj9LqCcd-",
        "colab_type": "text"
      },
      "source": [
        "### Wrangle"
      ]
    },
    {
      "cell_type": "code",
      "metadata": {
        "id": "foJcAjXxPXx6",
        "colab_type": "code",
        "colab": {}
      },
      "source": [
        "\"\"\" WRANGLE FUNCTION \"\"\"\n",
        "\n",
        "def wrangle(dataframe):\n",
        "\n",
        "  # DATE\n",
        "  dataframe['date'] = dataframe['date'].astype(int)\n",
        "\n",
        "  # COMMENTS\n",
        "  dataframe['comment'] = dataframe['comment'].replace(np.nan, '')\n",
        "\n",
        "  # DOLLAR VALUE\n",
        "  dataframe['price'] = dataframe['PriceUSD'] * dataframe['btc_amount']\n",
        "\n",
        "  # RENAMING COLUMNS\n",
        "  dataframe = dataframe.rename({'priceUSD': 'bitcoin_price'})\n",
        "\n",
        "  # ORGANIZING COLUMNS\n",
        "  dataframe = dataframe.reindex(columns=['site', 'vendor', 'date', 'comment', 'price', 'btc_amount'])\n",
        "\n",
        "  return dataframe"
      ],
      "execution_count": 0,
      "outputs": []
    },
    {
      "cell_type": "code",
      "metadata": {
        "id": "_OJsj32jQTHE",
        "colab_type": "code",
        "colab": {
          "base_uri": "https://localhost:8080/",
          "height": 406
        },
        "outputId": "7dd91447-3ce3-47b9-9afe-a1423476a575"
      },
      "source": [
        "wrangle(X_train)\n",
        "wrangle(X_val)\n",
        "wrangle(X_test)"
      ],
      "execution_count": 12,
      "outputs": [
        {
          "output_type": "execute_result",
          "data": {
            "text/html": [
              "<div>\n",
              "<style scoped>\n",
              "    .dataframe tbody tr th:only-of-type {\n",
              "        vertical-align: middle;\n",
              "    }\n",
              "\n",
              "    .dataframe tbody tr th {\n",
              "        vertical-align: top;\n",
              "    }\n",
              "\n",
              "    .dataframe thead th {\n",
              "        text-align: right;\n",
              "    }\n",
              "</style>\n",
              "<table border=\"1\" class=\"dataframe\">\n",
              "  <thead>\n",
              "    <tr style=\"text-align: right;\">\n",
              "      <th></th>\n",
              "      <th>site</th>\n",
              "      <th>vendor</th>\n",
              "      <th>date</th>\n",
              "      <th>comment</th>\n",
              "      <th>price</th>\n",
              "      <th>btc_amount</th>\n",
              "    </tr>\n",
              "  </thead>\n",
              "  <tbody>\n",
              "    <tr>\n",
              "      <th>7158</th>\n",
              "      <td>Cannazon</td>\n",
              "      <td>Briefsoven</td>\n",
              "      <td>1076.466594</td>\n",
              "      <td>Came very quickly, excellent quality, great pr...</td>\n",
              "      <td>34.435427</td>\n",
              "      <td>0.006210</td>\n",
              "    </tr>\n",
              "    <tr>\n",
              "      <th>19599</th>\n",
              "      <td>Cannazon</td>\n",
              "      <td>radarbreeder</td>\n",
              "      <td>1076.884604</td>\n",
              "      <td>all perfect, thanks</td>\n",
              "      <td>58.453416</td>\n",
              "      <td>0.007641</td>\n",
              "    </tr>\n",
              "    <tr>\n",
              "      <th>80494</th>\n",
              "      <td>Apollon</td>\n",
              "      <td>youngbanger</td>\n",
              "      <td>1077.876615</td>\n",
              "      <td>Fucking good stuff,fucking great stealth shipp...</td>\n",
              "      <td>63.783312</td>\n",
              "      <td>0.006131</td>\n",
              "    </tr>\n",
              "    <tr>\n",
              "      <th>45774</th>\n",
              "      <td>Empire</td>\n",
              "      <td>DrunkDragon</td>\n",
              "      <td>1077.470443</td>\n",
              "      <td>750 000 codes 0 correct so I don't believe in ...</td>\n",
              "      <td>1.206703</td>\n",
              "      <td>0.000115</td>\n",
              "    </tr>\n",
              "    <tr>\n",
              "      <th>44418</th>\n",
              "      <td>Empire</td>\n",
              "      <td>SATAII</td>\n",
              "      <td>1077.450610</td>\n",
              "      <td>No feedback comment</td>\n",
              "      <td>68.810629</td>\n",
              "      <td>0.006841</td>\n",
              "    </tr>\n",
              "    <tr>\n",
              "      <th>...</th>\n",
              "      <td>...</td>\n",
              "      <td>...</td>\n",
              "      <td>...</td>\n",
              "      <td>...</td>\n",
              "      <td>...</td>\n",
              "      <td>...</td>\n",
              "    </tr>\n",
              "    <tr>\n",
              "      <th>109950</th>\n",
              "      <td>Empire</td>\n",
              "      <td>DrHappy</td>\n",
              "      <td>1078.143677</td>\n",
              "      <td>Schnelle Lieferung, gute Ware \\r\\nGerne wieder</td>\n",
              "      <td>197.872553</td>\n",
              "      <td>0.023013</td>\n",
              "    </tr>\n",
              "    <tr>\n",
              "      <th>10944</th>\n",
              "      <td>Cannazon</td>\n",
              "      <td>Bllume</td>\n",
              "      <td>1076.645840</td>\n",
              "      <td>2DD fr den preis super Zeug! sehr freundlicher...</td>\n",
              "      <td>274.078230</td>\n",
              "      <td>0.037416</td>\n",
              "    </tr>\n",
              "    <tr>\n",
              "      <th>112814</th>\n",
              "      <td>Apollon</td>\n",
              "      <td>Germanapotheke</td>\n",
              "      <td>1078.163446</td>\n",
              "      <td>Danke perfekt</td>\n",
              "      <td>0.901041</td>\n",
              "      <td>0.000109</td>\n",
              "    </tr>\n",
              "    <tr>\n",
              "      <th>79125</th>\n",
              "      <td>Cryptonia</td>\n",
              "      <td>aKINDercare</td>\n",
              "      <td>1077.856820</td>\n",
              "      <td>recommend this vendor and product.</td>\n",
              "      <td>29.249261</td>\n",
              "      <td>0.002900</td>\n",
              "    </tr>\n",
              "    <tr>\n",
              "      <th>55707</th>\n",
              "      <td>Empire</td>\n",
              "      <td>ubuntu009</td>\n",
              "      <td>1077.599312</td>\n",
              "      <td>No feedback comment</td>\n",
              "      <td>35.944052</td>\n",
              "      <td>0.003486</td>\n",
              "    </tr>\n",
              "  </tbody>\n",
              "</table>\n",
              "<p>45083 rows × 6 columns</p>\n",
              "</div>"
            ],
            "text/plain": [
              "             site          vendor  ...       price btc_amount\n",
              "7158     Cannazon      Briefsoven  ...   34.435427   0.006210\n",
              "19599    Cannazon    radarbreeder  ...   58.453416   0.007641\n",
              "80494     Apollon     youngbanger  ...   63.783312   0.006131\n",
              "45774      Empire     DrunkDragon  ...    1.206703   0.000115\n",
              "44418      Empire          SATAII  ...   68.810629   0.006841\n",
              "...           ...             ...  ...         ...        ...\n",
              "109950     Empire         DrHappy  ...  197.872553   0.023013\n",
              "10944    Cannazon          Bllume  ...  274.078230   0.037416\n",
              "112814    Apollon  Germanapotheke  ...    0.901041   0.000109\n",
              "79125   Cryptonia     aKINDercare  ...   29.249261   0.002900\n",
              "55707      Empire       ubuntu009  ...   35.944052   0.003486\n",
              "\n",
              "[45083 rows x 6 columns]"
            ]
          },
          "metadata": {
            "tags": []
          },
          "execution_count": 12
        }
      ]
    },
    {
      "cell_type": "markdown",
      "metadata": {
        "id": "7B6uUDrlOcal",
        "colab_type": "text"
      },
      "source": [
        "# **Building a Model**"
      ]
    },
    {
      "cell_type": "code",
      "metadata": {
        "id": "2YFO5xzT-dSZ",
        "colab_type": "code",
        "colab": {}
      },
      "source": [
        "%%capture\n",
        "import sys\n",
        "import numpy as np\n",
        "import pandas as pd\n",
        "\n",
        "# If you're on Colab:\n",
        "if 'google.colab' in sys.modules:\n",
        "    DATA_PATH = 'https://raw.githubusercontent.com/LambdaSchool/DS-Unit-2-Kaggle-Challenge/master/data/'\n",
        "    !pip install category_encoders==2.*"
      ],
      "execution_count": 0,
      "outputs": []
    },
    {
      "cell_type": "code",
      "metadata": {
        "id": "hBLNFEzPOgzZ",
        "colab_type": "code",
        "colab": {
          "base_uri": "https://localhost:8080/",
          "height": 550
        },
        "outputId": "d3c54afb-aee1-490b-c8d0-e317f730fb42"
      },
      "source": [
        "import numpy as np\n",
        "from sklearn.ensemble import RandomForestClassifier\n",
        "import category_encoders as ce\n",
        "from sklearn.pipeline import make_pipeline\n",
        "\n",
        "pipeline = make_pipeline(\n",
        "    ce.OrdinalEncoder(),\n",
        "    RandomForestClassifier() \n",
        ")\n",
        "\n",
        "pipeline.fit(X_train, y_train)"
      ],
      "execution_count": 14,
      "outputs": [
        {
          "output_type": "execute_result",
          "data": {
            "text/plain": [
              "Pipeline(memory=None,\n",
              "         steps=[('ordinalencoder',\n",
              "                 OrdinalEncoder(cols=['site', 'vendor', 'comment'],\n",
              "                                drop_invariant=False, handle_missing='value',\n",
              "                                handle_unknown='value',\n",
              "                                mapping=[{'col': 'site',\n",
              "                                          'data_type': dtype('O'),\n",
              "                                          'mapping': Cryptonia    1\n",
              "Empire       2\n",
              "Apollon      3\n",
              "CannaHome    4\n",
              "Cannazon     5\n",
              "NaN         -2\n",
              "dtype: int64},\n",
              "                                         {'col': 'vendor',\n",
              "                                          'data_type': dtype('O'),\n",
              "                                          'mapping': valhalla              1\n",
              "PremierLeague...\n",
              "                 RandomForestClassifier(bootstrap=True, ccp_alpha=0.0,\n",
              "                                        class_weight=None, criterion='gini',\n",
              "                                        max_depth=None, max_features='auto',\n",
              "                                        max_leaf_nodes=None, max_samples=None,\n",
              "                                        min_impurity_decrease=0.0,\n",
              "                                        min_impurity_split=None,\n",
              "                                        min_samples_leaf=1, min_samples_split=2,\n",
              "                                        min_weight_fraction_leaf=0.0,\n",
              "                                        n_estimators=100, n_jobs=None,\n",
              "                                        oob_score=False, random_state=None,\n",
              "                                        verbose=0, warm_start=False))],\n",
              "         verbose=False)"
            ]
          },
          "metadata": {
            "tags": []
          },
          "execution_count": 14
        }
      ]
    },
    {
      "cell_type": "code",
      "metadata": {
        "id": "-bTgKKy3_Fwf",
        "colab_type": "code",
        "colab": {
          "base_uri": "https://localhost:8080/",
          "height": 34
        },
        "outputId": "f1e93eb8-5bce-44fb-d02e-cd0c612c0dc6"
      },
      "source": [
        "# ACCURACY SCORE (BASELINE WAS ~.93)\n",
        "print(\"The accuracy is:\", pipeline.score(X_val, y_val))"
      ],
      "execution_count": 15,
      "outputs": [
        {
          "output_type": "stream",
          "text": [
            "The accuracy is: 0.9467657415365847\n"
          ],
          "name": "stdout"
        }
      ]
    },
    {
      "cell_type": "code",
      "metadata": {
        "id": "eUhgPw--A8dj",
        "colab_type": "code",
        "colab": {
          "base_uri": "https://localhost:8080/",
          "height": 34
        },
        "outputId": "75b6173a-c3c8-4df7-8d8b-8e1de1b7df3c"
      },
      "source": [
        "# AVERAGE RECALL SCORE\n",
        "from sklearn.metrics import balanced_accuracy_score\n",
        "\n",
        "\"\"\"\n",
        "The balanced accuracy in binary and multiclass classification problems to deal with imbalanced datasets.\n",
        "It is defined as the average of recall obtained on each class.\n",
        "\"\"\"\n",
        "''' Recall literally is how many of the true positives were recalled (found), i.e. how many of the correct hits were also found. '''\n",
        "\n",
        "y_pred = [1] * len(y_val)\n",
        "print(\"The average recall with just guessing 1 for every instance is:\", balanced_accuracy_score(y_val, y_pred))"
      ],
      "execution_count": 16,
      "outputs": [
        {
          "output_type": "stream",
          "text": [
            "The average recall with just guessing 1 for every instance is: 0.3333333333333333\n"
          ],
          "name": "stdout"
        }
      ]
    },
    {
      "cell_type": "code",
      "metadata": {
        "id": "5H36u1Sc_378",
        "colab_type": "code",
        "colab": {
          "base_uri": "https://localhost:8080/",
          "height": 34
        },
        "outputId": "0f0278ff-3c99-40e3-b099-72847b4cb2ae"
      },
      "source": [
        "y_pred = pipeline.predict(X_val)\n",
        "print(\"The average recall is with the model:\", balanced_accuracy_score(y_val, y_pred))"
      ],
      "execution_count": 17,
      "outputs": [
        {
          "output_type": "stream",
          "text": [
            "The average recall is with the model: 0.4435007370268591\n"
          ],
          "name": "stdout"
        }
      ]
    },
    {
      "cell_type": "markdown",
      "metadata": {
        "id": "g89buy33C4GZ",
        "colab_type": "text"
      },
      "source": [
        "# **Exploration**"
      ]
    },
    {
      "cell_type": "code",
      "metadata": {
        "id": "MjHNaQbGC735",
        "colab_type": "code",
        "colab": {
          "base_uri": "https://localhost:8080/",
          "height": 34
        },
        "outputId": "3d209ffd-d0c4-406d-c6b9-50c7a1175761"
      },
      "source": [
        "\"\"\"\n",
        "PLANS:\n",
        "\n",
        "- Missing dates should be averaged\n",
        "- Date needs to be normalized\n",
        "- SMOTE CLASS BALANCER\n",
        "- Check differences in sentiment between the 6 sites and plot them (normalized)\n",
        "\n",
        "- Feature creation with the comments\n",
        "    - words used\n",
        "    - length\n",
        "    - etc.\n",
        "    spacy sklearn\n",
        "    count vectorizor\n",
        "    tfidf vectorizor\n",
        "    https://scikit-learn.org/stable/modules/generated/sklearn.feature_extraction.text.CountVectorizer.html\n",
        "\"\"\"\n",
        "df.shape"
      ],
      "execution_count": 18,
      "outputs": [
        {
          "output_type": "execute_result",
          "data": {
            "text/plain": [
              "(225414, 8)"
            ]
          },
          "metadata": {
            "tags": []
          },
          "execution_count": 18
        }
      ]
    },
    {
      "cell_type": "markdown",
      "metadata": {
        "id": "YJGHYviruTtn",
        "colab_type": "text"
      },
      "source": [
        "# **Charts**"
      ]
    },
    {
      "cell_type": "code",
      "metadata": {
        "id": "7sAYIe0duall",
        "colab_type": "code",
        "colab": {}
      },
      "source": [
        "import matplotlib.pyplot as plt"
      ],
      "execution_count": 0,
      "outputs": []
    }
  ]
}