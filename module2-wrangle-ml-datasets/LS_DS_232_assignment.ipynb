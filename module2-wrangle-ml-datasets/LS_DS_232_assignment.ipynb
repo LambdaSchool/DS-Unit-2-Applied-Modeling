{
  "nbformat": 4,
  "nbformat_minor": 0,
  "metadata": {
    "jupytext": {
      "cell_metadata_filter": "-all",
      "main_language": "python",
      "notebook_metadata_filter": "-all"
    },
    "kernelspec": {
      "display_name": "Python 3",
      "language": "python",
      "name": "python3"
    },
    "language_info": {
      "codemirror_mode": {
        "name": "ipython",
        "version": 3
      },
      "file_extension": ".py",
      "mimetype": "text/x-python",
      "name": "python",
      "nbconvert_exporter": "python",
      "pygments_lexer": "ipython3",
      "version": "3.7.3"
    },
    "colab": {
      "name": "LS_DS_232_assignment.ipynb",
      "provenance": [],
      "toc_visible": true
    }
  },
  "cells": [
    {
      "cell_type": "markdown",
      "metadata": {
        "id": "U9s7UdrYEqWZ",
        "colab_type": "text"
      },
      "source": [
        "Lambda School Data Science\n",
        "\n",
        "*Unit 2, Sprint 3, Module 1*\n",
        "\n",
        "---\n",
        "\n",
        "\n",
        "# Wrangle ML datasets\n",
        "\n",
        "- [x] Continue to clean and explore your data. \n",
        "- [x] For the evaluation metric you chose, what score would you get just by guessing?\n",
        "- [x] Can you make a fast, first model that beats guessing?\n",
        "\n",
        "**We recommend that you use your portfolio project dataset for all assignments this sprint.**\n",
        "\n",
        "**But if you aren't ready yet, or you want more practice, then use the New York City property sales dataset for today's assignment.** Follow the instructions below, to just keep a subset for the Tribeca neighborhood, and remove outliers or dirty data. [Here's a video walkthrough](https://youtu.be/pPWFw8UtBVg?t=584) you can refer to if you get stuck or want hints!\n",
        "\n",
        "- Data Source: [NYC OpenData: NYC Citywide Rolling Calendar Sales](https://data.cityofnewyork.us/dataset/NYC-Citywide-Rolling-Calendar-Sales/usep-8jbt)\n",
        "- Glossary: [NYC Department of Finance: Rolling Sales Data](https://www1.nyc.gov/site/finance/taxes/property-rolling-sales-data.page)"
      ]
    },
    {
      "cell_type": "code",
      "metadata": {
        "id": "3UACVUxyUm20",
        "colab_type": "code",
        "colab": {
          "base_uri": "https://localhost:8080/",
          "height": 34
        },
        "outputId": "97b249e4-4e8a-4267-a0ef-bc4010cbfd87"
      },
      "source": [
        "# I'm running this locally, files stored here\n",
        "%cd LoL_project"
      ],
      "execution_count": 1,
      "outputs": [
        {
          "output_type": "stream",
          "text": [
            "C:\\Users\\thedo\\LoL_project\n"
          ],
          "name": "stdout"
        }
      ]
    },
    {
      "cell_type": "code",
      "metadata": {
        "id": "206BJlakEqWf",
        "colab_type": "code",
        "colab": {
          "base_uri": "https://localhost:8080/",
          "height": 270
        },
        "outputId": "ea9043c2-7950-4104-976f-0c8646941151"
      },
      "source": [
        "# Using my dataset, already split into train and test yesterday\n",
        "\n",
        "# I plan to use cross-validation in my final model, \n",
        "# so for now I will combine train and val\n",
        "import pandas as pd\n",
        "train = pd.read_csv('LoL_train_cleaned.csv', index_col=0).append(\n",
        "        pd.read_csv('LoL_val_cleaned.csv', index_col=0))\n",
        "\n",
        "print(train.shape)\n",
        "train.head()"
      ],
      "execution_count": 2,
      "outputs": [
        {
          "output_type": "stream",
          "text": [
            "(43766, 61)\n"
          ],
          "name": "stdout"
        },
        {
          "output_type": "execute_result",
          "data": {
            "text/plain": [
              "           gameId  creationTime  gameDuration  seasonId  winner  firstBlood  \\\n",
              "22656  3214824413             0          1274         9       2           2   \n",
              "17347  3214843995       2392998          2033         9       1           2   \n",
              "9978   3214825708       3633614          2087         9       1           2   \n",
              "34410  3214844763       4917497          2323         9       1           1   \n",
              "10658  3214864950       6643444          1613         9       2           1   \n",
              "\n",
              "       firstTower  firstInhibitor  firstBaron  firstDragon  ...  \\\n",
              "22656           2               2           0            2  ...   \n",
              "17347           1               1           2            1  ...   \n",
              "9978            2               1           1            2  ...   \n",
              "34410           2               1           2            2  ...   \n",
              "10658           1               2           2            1  ...   \n",
              "\n",
              "       t2_towerKills t2_inhibitorKills t2_baronKills t2_dragonKills  \\\n",
              "22656             10                 2             0              2   \n",
              "17347              6                 0             1              3   \n",
              "9978               4                 0             0              2   \n",
              "34410              3                 0             1              2   \n",
              "10658              6                 1             1              1   \n",
              "\n",
              "      t2_riftHeraldKills   t2_ban1   t2_ban2 t2_ban3   t2_ban4 t2_ban5  \n",
              "22656                  1  Katarina     Yasuo  Lucian       Zac  Darius  \n",
              "17347                  1       Zac   Camille   Galio    Draven   Xayah  \n",
              "9978                   1  Vladimir     Ivern   Galio      Fizz   Fiora  \n",
              "34410                  0       Zac     Fiora   Yasuo      Lulu    Fizz  \n",
              "10658                  0      Zyra  Kassadin   Xayah  Katarina   Ivern  \n",
              "\n",
              "[5 rows x 61 columns]"
            ],
            "text/html": [
              "<div>\n",
              "<style scoped>\n",
              "    .dataframe tbody tr th:only-of-type {\n",
              "        vertical-align: middle;\n",
              "    }\n",
              "\n",
              "    .dataframe tbody tr th {\n",
              "        vertical-align: top;\n",
              "    }\n",
              "\n",
              "    .dataframe thead th {\n",
              "        text-align: right;\n",
              "    }\n",
              "</style>\n",
              "<table border=\"1\" class=\"dataframe\">\n",
              "  <thead>\n",
              "    <tr style=\"text-align: right;\">\n",
              "      <th></th>\n",
              "      <th>gameId</th>\n",
              "      <th>creationTime</th>\n",
              "      <th>gameDuration</th>\n",
              "      <th>seasonId</th>\n",
              "      <th>winner</th>\n",
              "      <th>firstBlood</th>\n",
              "      <th>firstTower</th>\n",
              "      <th>firstInhibitor</th>\n",
              "      <th>firstBaron</th>\n",
              "      <th>firstDragon</th>\n",
              "      <th>...</th>\n",
              "      <th>t2_towerKills</th>\n",
              "      <th>t2_inhibitorKills</th>\n",
              "      <th>t2_baronKills</th>\n",
              "      <th>t2_dragonKills</th>\n",
              "      <th>t2_riftHeraldKills</th>\n",
              "      <th>t2_ban1</th>\n",
              "      <th>t2_ban2</th>\n",
              "      <th>t2_ban3</th>\n",
              "      <th>t2_ban4</th>\n",
              "      <th>t2_ban5</th>\n",
              "    </tr>\n",
              "  </thead>\n",
              "  <tbody>\n",
              "    <tr>\n",
              "      <th>22656</th>\n",
              "      <td>3214824413</td>\n",
              "      <td>0</td>\n",
              "      <td>1274</td>\n",
              "      <td>9</td>\n",
              "      <td>2</td>\n",
              "      <td>2</td>\n",
              "      <td>2</td>\n",
              "      <td>2</td>\n",
              "      <td>0</td>\n",
              "      <td>2</td>\n",
              "      <td>...</td>\n",
              "      <td>10</td>\n",
              "      <td>2</td>\n",
              "      <td>0</td>\n",
              "      <td>2</td>\n",
              "      <td>1</td>\n",
              "      <td>Katarina</td>\n",
              "      <td>Yasuo</td>\n",
              "      <td>Lucian</td>\n",
              "      <td>Zac</td>\n",
              "      <td>Darius</td>\n",
              "    </tr>\n",
              "    <tr>\n",
              "      <th>17347</th>\n",
              "      <td>3214843995</td>\n",
              "      <td>2392998</td>\n",
              "      <td>2033</td>\n",
              "      <td>9</td>\n",
              "      <td>1</td>\n",
              "      <td>2</td>\n",
              "      <td>1</td>\n",
              "      <td>1</td>\n",
              "      <td>2</td>\n",
              "      <td>1</td>\n",
              "      <td>...</td>\n",
              "      <td>6</td>\n",
              "      <td>0</td>\n",
              "      <td>1</td>\n",
              "      <td>3</td>\n",
              "      <td>1</td>\n",
              "      <td>Zac</td>\n",
              "      <td>Camille</td>\n",
              "      <td>Galio</td>\n",
              "      <td>Draven</td>\n",
              "      <td>Xayah</td>\n",
              "    </tr>\n",
              "    <tr>\n",
              "      <th>9978</th>\n",
              "      <td>3214825708</td>\n",
              "      <td>3633614</td>\n",
              "      <td>2087</td>\n",
              "      <td>9</td>\n",
              "      <td>1</td>\n",
              "      <td>2</td>\n",
              "      <td>2</td>\n",
              "      <td>1</td>\n",
              "      <td>1</td>\n",
              "      <td>2</td>\n",
              "      <td>...</td>\n",
              "      <td>4</td>\n",
              "      <td>0</td>\n",
              "      <td>0</td>\n",
              "      <td>2</td>\n",
              "      <td>1</td>\n",
              "      <td>Vladimir</td>\n",
              "      <td>Ivern</td>\n",
              "      <td>Galio</td>\n",
              "      <td>Fizz</td>\n",
              "      <td>Fiora</td>\n",
              "    </tr>\n",
              "    <tr>\n",
              "      <th>34410</th>\n",
              "      <td>3214844763</td>\n",
              "      <td>4917497</td>\n",
              "      <td>2323</td>\n",
              "      <td>9</td>\n",
              "      <td>1</td>\n",
              "      <td>1</td>\n",
              "      <td>2</td>\n",
              "      <td>1</td>\n",
              "      <td>2</td>\n",
              "      <td>2</td>\n",
              "      <td>...</td>\n",
              "      <td>3</td>\n",
              "      <td>0</td>\n",
              "      <td>1</td>\n",
              "      <td>2</td>\n",
              "      <td>0</td>\n",
              "      <td>Zac</td>\n",
              "      <td>Fiora</td>\n",
              "      <td>Yasuo</td>\n",
              "      <td>Lulu</td>\n",
              "      <td>Fizz</td>\n",
              "    </tr>\n",
              "    <tr>\n",
              "      <th>10658</th>\n",
              "      <td>3214864950</td>\n",
              "      <td>6643444</td>\n",
              "      <td>1613</td>\n",
              "      <td>9</td>\n",
              "      <td>2</td>\n",
              "      <td>1</td>\n",
              "      <td>1</td>\n",
              "      <td>2</td>\n",
              "      <td>2</td>\n",
              "      <td>1</td>\n",
              "      <td>...</td>\n",
              "      <td>6</td>\n",
              "      <td>1</td>\n",
              "      <td>1</td>\n",
              "      <td>1</td>\n",
              "      <td>0</td>\n",
              "      <td>Zyra</td>\n",
              "      <td>Kassadin</td>\n",
              "      <td>Xayah</td>\n",
              "      <td>Katarina</td>\n",
              "      <td>Ivern</td>\n",
              "    </tr>\n",
              "  </tbody>\n",
              "</table>\n",
              "<p>5 rows × 61 columns</p>\n",
              "</div>"
            ]
          },
          "metadata": {
            "tags": []
          },
          "execution_count": 2
        }
      ]
    },
    {
      "cell_type": "markdown",
      "metadata": {
        "id": "8H8xRT-2EqWi",
        "colab_type": "text"
      },
      "source": [
        "## Continue to clean and explore your data"
      ]
    },
    {
      "cell_type": "code",
      "metadata": {
        "id": "D1s9hLFfPE9P",
        "colab_type": "code",
        "colab": {}
      },
      "source": [
        "# Pandas profile\n",
        "from pandas_profiling import ProfileReport\n",
        "\n",
        "# Get the profile\n",
        "profile = ProfileReport(train, minimal=True)\n",
        "\n",
        "# Save the report as an html file, so I can read it later and on another tab\n",
        "profile.to_file('LoL_profile.html')\n",
        "\n",
        "# Display the profile inide this notebook\n",
        "#profile.to_notebook_iframe()"
      ],
      "execution_count": 0,
      "outputs": []
    },
    {
      "cell_type": "markdown",
      "metadata": {
        "id": "hiEW2HYSSlmT",
        "colab_type": "text"
      },
      "source": [
        "Yesterday I did some basic exploration, but now I have the data split so I won't be viewing anything from the test data.  Let's look at how some of these features relate to the target 'winner'."
      ]
    },
    {
      "cell_type": "code",
      "metadata": {
        "id": "ahAYilV0Syce",
        "colab_type": "code",
        "colab": {}
      },
      "source": [
        "# Split data on which team won\n",
        "wins1 = train[train['winner'] == 1]\n",
        "wins2 = train[train['winner'] == 2]"
      ],
      "execution_count": 0,
      "outputs": []
    },
    {
      "cell_type": "code",
      "metadata": {
        "id": "By6gFeoC0xBh",
        "colab_type": "code",
        "colab": {}
      },
      "source": [
        "import matplotlib.pyplot as plt\n",
        "import seaborn as sns\n",
        "plt.style.use('seaborn')"
      ],
      "execution_count": 0,
      "outputs": []
    },
    {
      "cell_type": "code",
      "metadata": {
        "id": "Vv84FtFP024U",
        "colab_type": "code",
        "colab": {
          "base_uri": "https://localhost:8080/",
          "height": 374
        },
        "outputId": "97b729b7-7fcf-4600-c90b-38854df64c7c"
      },
      "source": [
        "# Teams in League are colored blue and red.  I can only assume which is 1 or 2,\n",
        "# but it does give me a handy convention for coloring graphs\n",
        "\n",
        "# I already know wins are split almost 50/50.  gameDuration is also split evenly\n",
        "sns.distplot(wins1['gameDuration'], bins=20, color='blue')\n",
        "sns.distplot(wins2['gameDuration'], bins=20, color='red')\n",
        "plt.title('Distribution of game durations');"
      ],
      "execution_count": 18,
      "outputs": [
        {
          "output_type": "display_data",
          "data": {
            "text/plain": [
              "<Figure size 576x396 with 1 Axes>"
            ],
            "image/png": "[encoded data removed]"
          },
          "metadata": {
            "tags": []
          }
        }
      ]
    },
    {
      "cell_type": "markdown",
      "metadata": {
        "id": "BbQgCmKK5yoF",
        "colab_type": "text"
      },
      "source": [
        "While this distribution is about even, it does actually reveal something I need to consider.  There is a number of games with short durations, maybe even 0.  The majority of these games take half an hour, so how are people winning so fast?  I believe they may be forfeits.  \n",
        "\n",
        "With that in mind, I will probably want to drop those rows before training my model since the champions picked have no effect on which team wins when one side just gives up immediately."
      ]
    },
    {
      "cell_type": "code",
      "metadata": {
        "id": "W-tZBcSZ1eqq",
        "colab_type": "code",
        "colab": {
          "base_uri": "https://localhost:8080/",
          "height": 350
        },
        "outputId": "79313c9e-0484-44bb-e8de-6b87dc3e7920"
      },
      "source": [
        "fig, ax = plt.subplots(1, 2)\n",
        "fig.set_size_inches(16,5)\n",
        "\n",
        "ax[0].set_title('Towers destroyed when team 1 wins', fontsize='x-large')\n",
        "kills = wins1['t1_towerKills'].value_counts()\n",
        "p1 = ax[0].bar(x=kills.index+.2, height=kills, width=.4, color='b')\n",
        "kills = wins1['t2_towerKills'].value_counts()\n",
        "p2 = ax[0].bar(x=kills.index-.2, height=kills, width=.4, color='r')\n",
        "ax[0].set_xlabel('Towers destroyed')\n",
        "ax[0].set_xticks(range(0,12))\n",
        "ax[0].set_xticklabels(range(0,12))\n",
        "ax[0].set_ylabel('Frequency')\n",
        "plt.legend([p1, p2], ['Team 1', 'Team 2'])\n",
        "\n",
        "ax[1].set_title('Towers destroyed when team 2 wins', fontsize='x-large')\n",
        "kills = wins2['t1_towerKills'].value_counts()\n",
        "ax[1].bar(x=kills.index+.2, height=kills, width=.4, color='b')\n",
        "kills = wins2['t2_towerKills'].value_counts()\n",
        "ax[1].bar(x=kills.index-.2, height=kills, width=.4, color='r')\n",
        "ax[1].set_xlabel('Towers destroyed')\n",
        "ax[1].set_xticks(range(0,12))\n",
        "ax[1].set_xticklabels(range(0,12));"
      ],
      "execution_count": 121,
      "outputs": [
        {
          "output_type": "display_data",
          "data": {
            "text/plain": [
              "<Figure size 1152x360 with 2 Axes>"
            ],
            "image/png": "[encoded data removed]"
          },
          "metadata": {
            "tags": [],
            "needs_background": "light"
          }
        }
      ]
    },
    {
      "cell_type": "markdown",
      "metadata": {
        "id": "lfx7jpXo5IaM",
        "colab_type": "text"
      },
      "source": [
        "This is something that I didn't consider correctly yesterday.  Before, I put all the columns into a shallow decision tree to try and find a baseline and got 95% accuracy with just the 2 columns used for the graph above.\n",
        "\n",
        "At first, I interpreted that as \"killing towers increases your chance of winning\", but that's not entirely true!  It takes a bit of domain knowledge to realize it, but it's extremely difficult to win a game without destroying any towers.  So it's better to say \"Teams that win generally destroy more towers\".\n",
        "\n",
        "Now that I've realized this, I can split my data into 2 groups: \n",
        "1. pre-game behaviors\n",
        "  - These columns include which champions and spells were picked or banned before the match started.\n",
        "  - These are the columns I will use to predict the outcome.\n",
        "2. in-game behaviors\n",
        "  - These columns record stats during the game itself, such as number of kills or the game duration.\n",
        "  - If I'm trying to predict a match outcome ahead of time, I would not have this data.\n",
        "\n",
        "This still gives me 40 columns of categorical data to predict outcomes with, even before adding some more with feature engineering."
      ]
    },
    {
      "cell_type": "code",
      "metadata": {
        "id": "TiCCuLDmFdLR",
        "colab_type": "code",
        "colab": {
          "base_uri": "https://localhost:8080/",
          "height": 221
        },
        "outputId": "e2003457-0ea3-436d-c83c-24b09ad200d8"
      },
      "source": [
        "# Speaking of engineering, let's start to put together some of \n",
        "# the data I have in mind for that\n",
        "\n",
        "# I'm going to build a new dataframe, with stats for each champion\n",
        "# pick rate and win rate are common statistics tracked in League of Legends\n",
        "\n",
        "pick_cols = columns[columns.str.contains('id')]\n",
        "\n",
        "# Sum up all the times each champion was picked\n",
        "champ_counts = train[pick_cols[0]].value_counts()\n",
        "for i in range(1, len(pick_cols)):\n",
        "  champ_counts += train[pick_cols[i]].value_counts()\n",
        "\n",
        "# value_counts keeps the name as the series index\n",
        "champs = champ_counts.reset_index()\n",
        "champs.columns = ['name', 'pick_count']\n",
        "\n",
        "print(champs.shape)\n",
        "champs.head()"
      ],
      "execution_count": 127,
      "outputs": [
        {
          "output_type": "stream",
          "text": [
            "(138, 2)\n"
          ],
          "name": "stdout"
        },
        {
          "output_type": "execute_result",
          "data": {
            "text/plain": [
              "       name  pick_count\n",
              "0  Tristana       10982\n",
              "1    Thresh       11197\n",
              "2     Vayne        8916\n",
              "3      Kayn        8204\n",
              "4   Lee Sin        7929"
            ],
            "text/html": [
              "<div>\n",
              "<style scoped>\n",
              "    .dataframe tbody tr th:only-of-type {\n",
              "        vertical-align: middle;\n",
              "    }\n",
              "\n",
              "    .dataframe tbody tr th {\n",
              "        vertical-align: top;\n",
              "    }\n",
              "\n",
              "    .dataframe thead th {\n",
              "        text-align: right;\n",
              "    }\n",
              "</style>\n",
              "<table border=\"1\" class=\"dataframe\">\n",
              "  <thead>\n",
              "    <tr style=\"text-align: right;\">\n",
              "      <th></th>\n",
              "      <th>name</th>\n",
              "      <th>pick_count</th>\n",
              "    </tr>\n",
              "  </thead>\n",
              "  <tbody>\n",
              "    <tr>\n",
              "      <th>0</th>\n",
              "      <td>Tristana</td>\n",
              "      <td>10982</td>\n",
              "    </tr>\n",
              "    <tr>\n",
              "      <th>1</th>\n",
              "      <td>Thresh</td>\n",
              "      <td>11197</td>\n",
              "    </tr>\n",
              "    <tr>\n",
              "      <th>2</th>\n",
              "      <td>Vayne</td>\n",
              "      <td>8916</td>\n",
              "    </tr>\n",
              "    <tr>\n",
              "      <th>3</th>\n",
              "      <td>Kayn</td>\n",
              "      <td>8204</td>\n",
              "    </tr>\n",
              "    <tr>\n",
              "      <th>4</th>\n",
              "      <td>Lee Sin</td>\n",
              "      <td>7929</td>\n",
              "    </tr>\n",
              "  </tbody>\n",
              "</table>\n",
              "</div>"
            ]
          },
          "metadata": {
            "tags": []
          },
          "execution_count": 127
        }
      ]
    },
    {
      "cell_type": "code",
      "metadata": {
        "id": "r00zQRW_GxUo",
        "colab_type": "code",
        "colab": {
          "base_uri": "https://localhost:8080/",
          "height": 204
        },
        "outputId": "d393c313-a758-49ab-9215-fcd85f8a57d3"
      },
      "source": [
        "# Now do the same for the ban counts\n",
        "ban_cols = columns[columns.str.contains('ban')]\n",
        "\n",
        "# Sum up all the times each champion was banned\n",
        "ban_counts = train[ban_cols[0]].value_counts()\n",
        "for i in range(1, len(ban_cols)):\n",
        "  ban_counts += train[ban_cols[i]].value_counts()\n",
        "\n",
        "bans = ban_counts.reset_index()\n",
        "bans.columns = ['name', 'ban_count']\n",
        "\n",
        "# Merge to save the new column\n",
        "champs = pd.merge(champs, bans, on='name')\n",
        "champs.head()"
      ],
      "execution_count": 128,
      "outputs": [
        {
          "output_type": "execute_result",
          "data": {
            "text/plain": [
              "       name  pick_count  ban_count\n",
              "0  Tristana       10982      10247\n",
              "1    Thresh       11197       5014\n",
              "2     Vayne        8916       7410\n",
              "3      Kayn        8204      14601\n",
              "4   Lee Sin        7929       5570"
            ],
            "text/html": [
              "<div>\n",
              "<style scoped>\n",
              "    .dataframe tbody tr th:only-of-type {\n",
              "        vertical-align: middle;\n",
              "    }\n",
              "\n",
              "    .dataframe tbody tr th {\n",
              "        vertical-align: top;\n",
              "    }\n",
              "\n",
              "    .dataframe thead th {\n",
              "        text-align: right;\n",
              "    }\n",
              "</style>\n",
              "<table border=\"1\" class=\"dataframe\">\n",
              "  <thead>\n",
              "    <tr style=\"text-align: right;\">\n",
              "      <th></th>\n",
              "      <th>name</th>\n",
              "      <th>pick_count</th>\n",
              "      <th>ban_count</th>\n",
              "    </tr>\n",
              "  </thead>\n",
              "  <tbody>\n",
              "    <tr>\n",
              "      <th>0</th>\n",
              "      <td>Tristana</td>\n",
              "      <td>10982</td>\n",
              "      <td>10247</td>\n",
              "    </tr>\n",
              "    <tr>\n",
              "      <th>1</th>\n",
              "      <td>Thresh</td>\n",
              "      <td>11197</td>\n",
              "      <td>5014</td>\n",
              "    </tr>\n",
              "    <tr>\n",
              "      <th>2</th>\n",
              "      <td>Vayne</td>\n",
              "      <td>8916</td>\n",
              "      <td>7410</td>\n",
              "    </tr>\n",
              "    <tr>\n",
              "      <th>3</th>\n",
              "      <td>Kayn</td>\n",
              "      <td>8204</td>\n",
              "      <td>14601</td>\n",
              "    </tr>\n",
              "    <tr>\n",
              "      <th>4</th>\n",
              "      <td>Lee Sin</td>\n",
              "      <td>7929</td>\n",
              "      <td>5570</td>\n",
              "    </tr>\n",
              "  </tbody>\n",
              "</table>\n",
              "</div>"
            ]
          },
          "metadata": {
            "tags": []
          },
          "execution_count": 128
        }
      ]
    },
    {
      "cell_type": "code",
      "metadata": {
        "id": "PeBV0cj4M_jW",
        "colab_type": "code",
        "colab": {
          "base_uri": "https://localhost:8080/",
          "height": 204
        },
        "outputId": "0b6ed409-457c-4435-9674-3c31e36b8452"
      },
      "source": [
        "# How often was each champion picked or banned?\n",
        "# Divide the counts by total number of matches to get that\n",
        "champs['pick_rate'] = champs['pick_count'] / len(train)\n",
        "champs['ban_rate'] = champs['ban_count'] / len(train)\n",
        "champs.head()"
      ],
      "execution_count": 129,
      "outputs": [
        {
          "output_type": "execute_result",
          "data": {
            "text/plain": [
              "       name  pick_count  ban_count  pick_rate  ban_rate\n",
              "0  Tristana       10982      10247   0.250925  0.234132\n",
              "1    Thresh       11197       5014   0.255838  0.114564\n",
              "2     Vayne        8916       7410   0.203720  0.169310\n",
              "3      Kayn        8204      14601   0.187451  0.333615\n",
              "4   Lee Sin        7929       5570   0.181168  0.127268"
            ],
            "text/html": [
              "<div>\n",
              "<style scoped>\n",
              "    .dataframe tbody tr th:only-of-type {\n",
              "        vertical-align: middle;\n",
              "    }\n",
              "\n",
              "    .dataframe tbody tr th {\n",
              "        vertical-align: top;\n",
              "    }\n",
              "\n",
              "    .dataframe thead th {\n",
              "        text-align: right;\n",
              "    }\n",
              "</style>\n",
              "<table border=\"1\" class=\"dataframe\">\n",
              "  <thead>\n",
              "    <tr style=\"text-align: right;\">\n",
              "      <th></th>\n",
              "      <th>name</th>\n",
              "      <th>pick_count</th>\n",
              "      <th>ban_count</th>\n",
              "      <th>pick_rate</th>\n",
              "      <th>ban_rate</th>\n",
              "    </tr>\n",
              "  </thead>\n",
              "  <tbody>\n",
              "    <tr>\n",
              "      <th>0</th>\n",
              "      <td>Tristana</td>\n",
              "      <td>10982</td>\n",
              "      <td>10247</td>\n",
              "      <td>0.250925</td>\n",
              "      <td>0.234132</td>\n",
              "    </tr>\n",
              "    <tr>\n",
              "      <th>1</th>\n",
              "      <td>Thresh</td>\n",
              "      <td>11197</td>\n",
              "      <td>5014</td>\n",
              "      <td>0.255838</td>\n",
              "      <td>0.114564</td>\n",
              "    </tr>\n",
              "    <tr>\n",
              "      <th>2</th>\n",
              "      <td>Vayne</td>\n",
              "      <td>8916</td>\n",
              "      <td>7410</td>\n",
              "      <td>0.203720</td>\n",
              "      <td>0.169310</td>\n",
              "    </tr>\n",
              "    <tr>\n",
              "      <th>3</th>\n",
              "      <td>Kayn</td>\n",
              "      <td>8204</td>\n",
              "      <td>14601</td>\n",
              "      <td>0.187451</td>\n",
              "      <td>0.333615</td>\n",
              "    </tr>\n",
              "    <tr>\n",
              "      <th>4</th>\n",
              "      <td>Lee Sin</td>\n",
              "      <td>7929</td>\n",
              "      <td>5570</td>\n",
              "      <td>0.181168</td>\n",
              "      <td>0.127268</td>\n",
              "    </tr>\n",
              "  </tbody>\n",
              "</table>\n",
              "</div>"
            ]
          },
          "metadata": {
            "tags": []
          },
          "execution_count": 129
        }
      ]
    },
    {
      "cell_type": "code",
      "metadata": {
        "id": "dAA9XvY0HbKJ",
        "colab_type": "code",
        "colab": {
          "base_uri": "https://localhost:8080/",
          "height": 204
        },
        "outputId": "7a6937f7-11c2-4854-8587-4f6c0f3a48c4"
      },
      "source": [
        "# Now let's calculate win rate.  When a champ is picked how often does it win?\n",
        "\n",
        "# picks when team 1 wins\n",
        "t1_cols = pick_cols[:5]\n",
        "win_counts = wins1[t1_cols[0]].value_counts()\n",
        "for i in range(1, len(t1_cols)):\n",
        "  win_counts += wins1[t1_cols[i]].value_counts()\n",
        "\n",
        "# picks when team 2 wins\n",
        "t2_cols = pick_cols[5:]\n",
        "for i in range(len(t2_cols)):\n",
        "  win_counts += wins2[t2_cols[i]].value_counts()\n",
        "\n",
        "# It happens to use t1_champ1id because that was the first column added up\n",
        "win_counts.reset_index().head()"
      ],
      "execution_count": 130,
      "outputs": [
        {
          "output_type": "execute_result",
          "data": {
            "text/plain": [
              "      index  t1_champ1id\n",
              "0  Tristana         5656\n",
              "1    Thresh         5295\n",
              "2     Vayne         4588\n",
              "3      Kayn         3987\n",
              "4     Janna         4170"
            ],
            "text/html": [
              "<div>\n",
              "<style scoped>\n",
              "    .dataframe tbody tr th:only-of-type {\n",
              "        vertical-align: middle;\n",
              "    }\n",
              "\n",
              "    .dataframe tbody tr th {\n",
              "        vertical-align: top;\n",
              "    }\n",
              "\n",
              "    .dataframe thead th {\n",
              "        text-align: right;\n",
              "    }\n",
              "</style>\n",
              "<table border=\"1\" class=\"dataframe\">\n",
              "  <thead>\n",
              "    <tr style=\"text-align: right;\">\n",
              "      <th></th>\n",
              "      <th>index</th>\n",
              "      <th>t1_champ1id</th>\n",
              "    </tr>\n",
              "  </thead>\n",
              "  <tbody>\n",
              "    <tr>\n",
              "      <th>0</th>\n",
              "      <td>Tristana</td>\n",
              "      <td>5656</td>\n",
              "    </tr>\n",
              "    <tr>\n",
              "      <th>1</th>\n",
              "      <td>Thresh</td>\n",
              "      <td>5295</td>\n",
              "    </tr>\n",
              "    <tr>\n",
              "      <th>2</th>\n",
              "      <td>Vayne</td>\n",
              "      <td>4588</td>\n",
              "    </tr>\n",
              "    <tr>\n",
              "      <th>3</th>\n",
              "      <td>Kayn</td>\n",
              "      <td>3987</td>\n",
              "    </tr>\n",
              "    <tr>\n",
              "      <th>4</th>\n",
              "      <td>Janna</td>\n",
              "      <td>4170</td>\n",
              "    </tr>\n",
              "  </tbody>\n",
              "</table>\n",
              "</div>"
            ]
          },
          "metadata": {
            "tags": []
          },
          "execution_count": 130
        }
      ]
    },
    {
      "cell_type": "code",
      "metadata": {
        "id": "Eh5LnNQLItqO",
        "colab_type": "code",
        "colab": {
          "base_uri": "https://localhost:8080/",
          "height": 204
        },
        "outputId": "bcb0aae2-8eb1-4578-ee0e-f7b012f3821c"
      },
      "source": [
        "# divide wins by total picks and save the percentage\n",
        "champs['win_rate'] = (win_counts.reset_index()['t1_champ1id'] / \n",
        "                                                champs['pick_count'])\n",
        "champs.head()"
      ],
      "execution_count": 131,
      "outputs": [
        {
          "output_type": "execute_result",
          "data": {
            "text/plain": [
              "       name  pick_count  ban_count  pick_rate  ban_rate  win_rate\n",
              "0  Tristana       10982      10247   0.250925  0.234132  0.515025\n",
              "1    Thresh       11197       5014   0.255838  0.114564  0.472895\n",
              "2     Vayne        8916       7410   0.203720  0.169310  0.514581\n",
              "3      Kayn        8204      14601   0.187451  0.333615  0.485982\n",
              "4   Lee Sin        7929       5570   0.181168  0.127268  0.525918"
            ],
            "text/html": [
              "<div>\n",
              "<style scoped>\n",
              "    .dataframe tbody tr th:only-of-type {\n",
              "        vertical-align: middle;\n",
              "    }\n",
              "\n",
              "    .dataframe tbody tr th {\n",
              "        vertical-align: top;\n",
              "    }\n",
              "\n",
              "    .dataframe thead th {\n",
              "        text-align: right;\n",
              "    }\n",
              "</style>\n",
              "<table border=\"1\" class=\"dataframe\">\n",
              "  <thead>\n",
              "    <tr style=\"text-align: right;\">\n",
              "      <th></th>\n",
              "      <th>name</th>\n",
              "      <th>pick_count</th>\n",
              "      <th>ban_count</th>\n",
              "      <th>pick_rate</th>\n",
              "      <th>ban_rate</th>\n",
              "      <th>win_rate</th>\n",
              "    </tr>\n",
              "  </thead>\n",
              "  <tbody>\n",
              "    <tr>\n",
              "      <th>0</th>\n",
              "      <td>Tristana</td>\n",
              "      <td>10982</td>\n",
              "      <td>10247</td>\n",
              "      <td>0.250925</td>\n",
              "      <td>0.234132</td>\n",
              "      <td>0.515025</td>\n",
              "    </tr>\n",
              "    <tr>\n",
              "      <th>1</th>\n",
              "      <td>Thresh</td>\n",
              "      <td>11197</td>\n",
              "      <td>5014</td>\n",
              "      <td>0.255838</td>\n",
              "      <td>0.114564</td>\n",
              "      <td>0.472895</td>\n",
              "    </tr>\n",
              "    <tr>\n",
              "      <th>2</th>\n",
              "      <td>Vayne</td>\n",
              "      <td>8916</td>\n",
              "      <td>7410</td>\n",
              "      <td>0.203720</td>\n",
              "      <td>0.169310</td>\n",
              "      <td>0.514581</td>\n",
              "    </tr>\n",
              "    <tr>\n",
              "      <th>3</th>\n",
              "      <td>Kayn</td>\n",
              "      <td>8204</td>\n",
              "      <td>14601</td>\n",
              "      <td>0.187451</td>\n",
              "      <td>0.333615</td>\n",
              "      <td>0.485982</td>\n",
              "    </tr>\n",
              "    <tr>\n",
              "      <th>4</th>\n",
              "      <td>Lee Sin</td>\n",
              "      <td>7929</td>\n",
              "      <td>5570</td>\n",
              "      <td>0.181168</td>\n",
              "      <td>0.127268</td>\n",
              "      <td>0.525918</td>\n",
              "    </tr>\n",
              "  </tbody>\n",
              "</table>\n",
              "</div>"
            ]
          },
          "metadata": {
            "tags": []
          },
          "execution_count": 131
        }
      ]
    },
    {
      "cell_type": "code",
      "metadata": {
        "id": "F5dDbVotRp0T",
        "colab_type": "code",
        "colab": {
          "base_uri": "https://localhost:8080/",
          "height": 235
        },
        "outputId": "7fad438c-e614-49a7-a6c3-f01dd857dc38"
      },
      "source": [
        "# Wins aren't the only stat tracked in this data\n",
        "\n",
        "# For example, there are neutral monsters that players can hunt down.  They are \n",
        "# awarded with buffs that help beat the other team if they kill them.\n",
        "\n",
        "# The two biggest are dragon and baron, and I have columns for each\n",
        "\n",
        "# Example: when player 1 picks a certain champion, how many times on average \n",
        "# does team 1 kill those monsters on average?\n",
        "train.groupby('t1_champ1id').mean()[['t1_baronKills', 't1_dragonKills']].head()"
      ],
      "execution_count": 139,
      "outputs": [
        {
          "output_type": "execute_result",
          "data": {
            "text/plain": [
              "             t1_baronKills  t1_dragonKills\n",
              "t1_champ1id                               \n",
              "Aatrox            0.325581        1.313953\n",
              "Ahri              0.402357        1.430976\n",
              "Akali             0.359504        1.566116\n",
              "Alistar           0.306569        1.244526\n",
              "Amumu             0.331395        1.366279"
            ],
            "text/html": [
              "<div>\n",
              "<style scoped>\n",
              "    .dataframe tbody tr th:only-of-type {\n",
              "        vertical-align: middle;\n",
              "    }\n",
              "\n",
              "    .dataframe tbody tr th {\n",
              "        vertical-align: top;\n",
              "    }\n",
              "\n",
              "    .dataframe thead th {\n",
              "        text-align: right;\n",
              "    }\n",
              "</style>\n",
              "<table border=\"1\" class=\"dataframe\">\n",
              "  <thead>\n",
              "    <tr style=\"text-align: right;\">\n",
              "      <th></th>\n",
              "      <th>t1_baronKills</th>\n",
              "      <th>t1_dragonKills</th>\n",
              "    </tr>\n",
              "    <tr>\n",
              "      <th>t1_champ1id</th>\n",
              "      <th></th>\n",
              "      <th></th>\n",
              "    </tr>\n",
              "  </thead>\n",
              "  <tbody>\n",
              "    <tr>\n",
              "      <th>Aatrox</th>\n",
              "      <td>0.325581</td>\n",
              "      <td>1.313953</td>\n",
              "    </tr>\n",
              "    <tr>\n",
              "      <th>Ahri</th>\n",
              "      <td>0.402357</td>\n",
              "      <td>1.430976</td>\n",
              "    </tr>\n",
              "    <tr>\n",
              "      <th>Akali</th>\n",
              "      <td>0.359504</td>\n",
              "      <td>1.566116</td>\n",
              "    </tr>\n",
              "    <tr>\n",
              "      <th>Alistar</th>\n",
              "      <td>0.306569</td>\n",
              "      <td>1.244526</td>\n",
              "    </tr>\n",
              "    <tr>\n",
              "      <th>Amumu</th>\n",
              "      <td>0.331395</td>\n",
              "      <td>1.366279</td>\n",
              "    </tr>\n",
              "  </tbody>\n",
              "</table>\n",
              "</div>"
            ]
          },
          "metadata": {
            "tags": []
          },
          "execution_count": 139
        }
      ]
    },
    {
      "cell_type": "code",
      "metadata": {
        "id": "5-xECkLdV7xi",
        "colab_type": "code",
        "colab": {
          "base_uri": "https://localhost:8080/",
          "height": 204
        },
        "outputId": "7f69d467-3e96-43cd-b157-c2393f023ae1"
      },
      "source": [
        "# initialize the columns with any float value\n",
        "champs['dragon_kill_rate'] = [.5] * len(champs)\n",
        "champs['baron_kill_rate'] = [.5] * len(champs)\n",
        "\n",
        "for i in champs.index:\n",
        "  champ = champs.loc[i,'name']\n",
        "\n",
        "  # Get a mask for each game team 1 used this champ\n",
        "  team_mask = (train[['t1_champ1id', 't1_champ2id', 't1_champ3id', \n",
        "                  't1_champ4id', 't1_champ5id']] == champ).any(axis='columns')\n",
        "  # Add together all team 1 kills\n",
        "  dragons = train[team_mask]['t1_dragonKills'].sum()\n",
        "  barons = train[team_mask]['t1_baronKills'].sum()\n",
        "\n",
        "  # Do the same for team 2\n",
        "  team_mask = (train[['t2_champ1id', 't2_champ2id', 't2_champ3id', \n",
        "                  't2_champ4id', 't2_champ5id']] == champ).any(axis='columns')\n",
        "  dragons += train[team_mask]['t2_dragonKills'].sum()\n",
        "  barons += train[team_mask]['t2_baronKills'].sum()\n",
        "  \n",
        "  # divide counts by total pick count to get averages\n",
        "  champs.at[i,'dragon_kill_rate'] = dragons / champs.loc[i,'pick_count']\n",
        "  champs.at[i,'baron_kill_rate'] = barons / champs.loc[i,'pick_count']\n",
        "\n",
        "champs.head()"
      ],
      "execution_count": 231,
      "outputs": [
        {
          "output_type": "execute_result",
          "data": {
            "text/plain": [
              "       name  pick_count  ban_count  pick_rate  ban_rate  win_rate  \\\n",
              "0  Tristana       10982      10247   0.250925  0.234132  0.515025   \n",
              "1    Thresh       11197       5014   0.255838  0.114564  0.472895   \n",
              "2     Vayne        8916       7410   0.203720  0.169310  0.514581   \n",
              "3      Kayn        8204      14601   0.187451  0.333615  0.485982   \n",
              "4   Lee Sin        7929       5570   0.181168  0.127268  0.525918   \n",
              "\n",
              "   dragon_kill_rate  baron_kill_rate  \n",
              "0          1.398106         0.410126  \n",
              "1          1.401000         0.398857  \n",
              "2          1.369897         0.407470  \n",
              "3          1.281326         0.352511  \n",
              "4          1.460840         0.391222  "
            ],
            "text/html": [
              "<div>\n",
              "<style scoped>\n",
              "    .dataframe tbody tr th:only-of-type {\n",
              "        vertical-align: middle;\n",
              "    }\n",
              "\n",
              "    .dataframe tbody tr th {\n",
              "        vertical-align: top;\n",
              "    }\n",
              "\n",
              "    .dataframe thead th {\n",
              "        text-align: right;\n",
              "    }\n",
              "</style>\n",
              "<table border=\"1\" class=\"dataframe\">\n",
              "  <thead>\n",
              "    <tr style=\"text-align: right;\">\n",
              "      <th></th>\n",
              "      <th>name</th>\n",
              "      <th>pick_count</th>\n",
              "      <th>ban_count</th>\n",
              "      <th>pick_rate</th>\n",
              "      <th>ban_rate</th>\n",
              "      <th>win_rate</th>\n",
              "      <th>dragon_kill_rate</th>\n",
              "      <th>baron_kill_rate</th>\n",
              "    </tr>\n",
              "  </thead>\n",
              "  <tbody>\n",
              "    <tr>\n",
              "      <th>0</th>\n",
              "      <td>Tristana</td>\n",
              "      <td>10982</td>\n",
              "      <td>10247</td>\n",
              "      <td>0.250925</td>\n",
              "      <td>0.234132</td>\n",
              "      <td>0.515025</td>\n",
              "      <td>1.398106</td>\n",
              "      <td>0.410126</td>\n",
              "    </tr>\n",
              "    <tr>\n",
              "      <th>1</th>\n",
              "      <td>Thresh</td>\n",
              "      <td>11197</td>\n",
              "      <td>5014</td>\n",
              "      <td>0.255838</td>\n",
              "      <td>0.114564</td>\n",
              "      <td>0.472895</td>\n",
              "      <td>1.401000</td>\n",
              "      <td>0.398857</td>\n",
              "    </tr>\n",
              "    <tr>\n",
              "      <th>2</th>\n",
              "      <td>Vayne</td>\n",
              "      <td>8916</td>\n",
              "      <td>7410</td>\n",
              "      <td>0.203720</td>\n",
              "      <td>0.169310</td>\n",
              "      <td>0.514581</td>\n",
              "      <td>1.369897</td>\n",
              "      <td>0.407470</td>\n",
              "    </tr>\n",
              "    <tr>\n",
              "      <th>3</th>\n",
              "      <td>Kayn</td>\n",
              "      <td>8204</td>\n",
              "      <td>14601</td>\n",
              "      <td>0.187451</td>\n",
              "      <td>0.333615</td>\n",
              "      <td>0.485982</td>\n",
              "      <td>1.281326</td>\n",
              "      <td>0.352511</td>\n",
              "    </tr>\n",
              "    <tr>\n",
              "      <th>4</th>\n",
              "      <td>Lee Sin</td>\n",
              "      <td>7929</td>\n",
              "      <td>5570</td>\n",
              "      <td>0.181168</td>\n",
              "      <td>0.127268</td>\n",
              "      <td>0.525918</td>\n",
              "      <td>1.460840</td>\n",
              "      <td>0.391222</td>\n",
              "    </tr>\n",
              "  </tbody>\n",
              "</table>\n",
              "</div>"
            ]
          },
          "metadata": {
            "tags": []
          },
          "execution_count": 231
        }
      ]
    },
    {
      "cell_type": "code",
      "metadata": {
        "id": "OZcJcaBij6za",
        "colab_type": "code",
        "colab": {
          "base_uri": "https://localhost:8080/",
          "height": 297
        },
        "outputId": "ca5476d4-6bd8-4193-c9d7-1461eb383443"
      },
      "source": [
        "champs.describe()"
      ],
      "execution_count": 236,
      "outputs": [
        {
          "output_type": "execute_result",
          "data": {
            "text/plain": [
              "         pick_count     ban_count   pick_rate    ban_rate    win_rate  \\\n",
              "count    138.000000    138.000000  138.000000  138.000000  138.000000   \n",
              "mean    3171.449275   3148.688406    0.072464    0.071944    0.502039   \n",
              "std     2080.029653   5068.235230    0.047526    0.115803    0.068461   \n",
              "min      479.000000     59.000000    0.010945    0.001348    0.266892   \n",
              "25%     1599.500000    351.750000    0.036547    0.008037    0.461697   \n",
              "50%     2678.000000   1101.500000    0.061189    0.025168    0.503303   \n",
              "75%     4091.250000   3762.750000    0.093480    0.085974    0.542023   \n",
              "max    11197.000000  28367.000000    0.255838    0.648152    0.762004   \n",
              "\n",
              "       dragon_kill_rate  baron_kill_rate  \n",
              "count        138.000000       138.000000  \n",
              "mean           1.400488         0.393037  \n",
              "std            0.094030         0.030171  \n",
              "min            1.099099         0.314189  \n",
              "25%            1.354413         0.374607  \n",
              "50%            1.396106         0.390714  \n",
              "75%            1.446050         0.409615  \n",
              "max            1.931101         0.502172  "
            ],
            "text/html": [
              "<div>\n",
              "<style scoped>\n",
              "    .dataframe tbody tr th:only-of-type {\n",
              "        vertical-align: middle;\n",
              "    }\n",
              "\n",
              "    .dataframe tbody tr th {\n",
              "        vertical-align: top;\n",
              "    }\n",
              "\n",
              "    .dataframe thead th {\n",
              "        text-align: right;\n",
              "    }\n",
              "</style>\n",
              "<table border=\"1\" class=\"dataframe\">\n",
              "  <thead>\n",
              "    <tr style=\"text-align: right;\">\n",
              "      <th></th>\n",
              "      <th>pick_count</th>\n",
              "      <th>ban_count</th>\n",
              "      <th>pick_rate</th>\n",
              "      <th>ban_rate</th>\n",
              "      <th>win_rate</th>\n",
              "      <th>dragon_kill_rate</th>\n",
              "      <th>baron_kill_rate</th>\n",
              "    </tr>\n",
              "  </thead>\n",
              "  <tbody>\n",
              "    <tr>\n",
              "      <th>count</th>\n",
              "      <td>138.000000</td>\n",
              "      <td>138.000000</td>\n",
              "      <td>138.000000</td>\n",
              "      <td>138.000000</td>\n",
              "      <td>138.000000</td>\n",
              "      <td>138.000000</td>\n",
              "      <td>138.000000</td>\n",
              "    </tr>\n",
              "    <tr>\n",
              "      <th>mean</th>\n",
              "      <td>3171.449275</td>\n",
              "      <td>3148.688406</td>\n",
              "      <td>0.072464</td>\n",
              "      <td>0.071944</td>\n",
              "      <td>0.502039</td>\n",
              "      <td>1.400488</td>\n",
              "      <td>0.393037</td>\n",
              "    </tr>\n",
              "    <tr>\n",
              "      <th>std</th>\n",
              "      <td>2080.029653</td>\n",
              "      <td>5068.235230</td>\n",
              "      <td>0.047526</td>\n",
              "      <td>0.115803</td>\n",
              "      <td>0.068461</td>\n",
              "      <td>0.094030</td>\n",
              "      <td>0.030171</td>\n",
              "    </tr>\n",
              "    <tr>\n",
              "      <th>min</th>\n",
              "      <td>479.000000</td>\n",
              "      <td>59.000000</td>\n",
              "      <td>0.010945</td>\n",
              "      <td>0.001348</td>\n",
              "      <td>0.266892</td>\n",
              "      <td>1.099099</td>\n",
              "      <td>0.314189</td>\n",
              "    </tr>\n",
              "    <tr>\n",
              "      <th>25%</th>\n",
              "      <td>1599.500000</td>\n",
              "      <td>351.750000</td>\n",
              "      <td>0.036547</td>\n",
              "      <td>0.008037</td>\n",
              "      <td>0.461697</td>\n",
              "      <td>1.354413</td>\n",
              "      <td>0.374607</td>\n",
              "    </tr>\n",
              "    <tr>\n",
              "      <th>50%</th>\n",
              "      <td>2678.000000</td>\n",
              "      <td>1101.500000</td>\n",
              "      <td>0.061189</td>\n",
              "      <td>0.025168</td>\n",
              "      <td>0.503303</td>\n",
              "      <td>1.396106</td>\n",
              "      <td>0.390714</td>\n",
              "    </tr>\n",
              "    <tr>\n",
              "      <th>75%</th>\n",
              "      <td>4091.250000</td>\n",
              "      <td>3762.750000</td>\n",
              "      <td>0.093480</td>\n",
              "      <td>0.085974</td>\n",
              "      <td>0.542023</td>\n",
              "      <td>1.446050</td>\n",
              "      <td>0.409615</td>\n",
              "    </tr>\n",
              "    <tr>\n",
              "      <th>max</th>\n",
              "      <td>11197.000000</td>\n",
              "      <td>28367.000000</td>\n",
              "      <td>0.255838</td>\n",
              "      <td>0.648152</td>\n",
              "      <td>0.762004</td>\n",
              "      <td>1.931101</td>\n",
              "      <td>0.502172</td>\n",
              "    </tr>\n",
              "  </tbody>\n",
              "</table>\n",
              "</div>"
            ]
          },
          "metadata": {
            "tags": []
          },
          "execution_count": 236
        }
      ]
    },
    {
      "cell_type": "markdown",
      "metadata": {
        "id": "sN4E-6wnkVJC",
        "colab_type": "text"
      },
      "source": [
        "### To stay organized, here is a data dictionary for this new dataframe\n",
        "\n",
        "name - the name of the champion\n",
        "\n",
        "pick_count - number of times this champion was picked in a game\n",
        "\n",
        "ban_count - number of times this champion was banned in a game\n",
        "\n",
        "pick_rate - percentage of all games where this champion is picked\n",
        "\n",
        "ban_rate - percentage of all games where this champion is banned\n",
        "\n",
        "win_rate - how often this champion's team wins when it is picked\n",
        "\n",
        "dragon_kill_rate - the average number of times this champion's team kills the dragon\n",
        "\n",
        "baron_kill_rate - the average number of times this champion's team kills the baron"
      ]
    },
    {
      "cell_type": "code",
      "metadata": {
        "id": "REgvI_SXKGF9",
        "colab_type": "code",
        "colab": {}
      },
      "source": [
        "# Let's save that so I can use it later without re-running all the calculations\n",
        "champs.to_csv('champ_stats.csv')"
      ],
      "execution_count": 0,
      "outputs": []
    },
    {
      "cell_type": "markdown",
      "metadata": {
        "id": "kY-Ra9vkNJVn",
        "colab_type": "text"
      },
      "source": [
        "I can do a few visualizations with this data too.  I already did bar graphs of the pick and ban counts yesterday."
      ]
    },
    {
      "cell_type": "code",
      "metadata": {
        "id": "S9kSxze2I8QM",
        "colab_type": "code",
        "colab": {
          "base_uri": "https://localhost:8080/",
          "height": 292
        },
        "outputId": "798572f8-788e-4bdb-d876-5f46e62db2cf"
      },
      "source": [
        "# Are champions who win more often more popular (picked more often)?\n",
        "sns.scatterplot(x=champs['pick_rate'], y=champs['win_rate'])\n",
        "plt.title('Champion pick rates vs win rates');"
      ],
      "execution_count": 133,
      "outputs": [
        {
          "output_type": "display_data",
          "data": {
            "text/plain": [
              "<Figure size 432x288 with 1 Axes>"
            ],
            "image/png": "[encoded data removed]"
          },
          "metadata": {
            "tags": [],
            "needs_background": "light"
          }
        }
      ]
    },
    {
      "cell_type": "code",
      "metadata": {
        "id": "fxjziv6rK3Iq",
        "colab_type": "code",
        "colab": {
          "base_uri": "https://localhost:8080/",
          "height": 292
        },
        "outputId": "03c5f01c-c8b2-4799-93be-fbaa34b16670"
      },
      "source": [
        "# What about bans?\n",
        "sns.scatterplot(x=champs['ban_rate'], y=champs['win_rate'])\n",
        "plt.title('Champion ban rates vs win rates');"
      ],
      "execution_count": 125,
      "outputs": [
        {
          "output_type": "display_data",
          "data": {
            "text/plain": [
              "<Figure size 432x288 with 1 Axes>"
            ],
            "image/png": "[encoded data removed]"
          },
          "metadata": {
            "tags": [],
            "needs_background": "light"
          }
        }
      ]
    },
    {
      "cell_type": "markdown",
      "metadata": {
        "id": "9UHOP5gtLjOL",
        "colab_type": "text"
      },
      "source": [
        "To be fair, in a well-balanced game each champion should have similar win rates.  League is continually re-balanced, and is a fair enough game to have international tournaments with huge prize pools.  \n",
        "\n",
        "In fact, the official world championship awards \\$1-$2.5 million to the winning team alone!\n",
        "\n",
        "https://en.wikipedia.org/wiki/League_of_Legends_World_Championship\n",
        "\n",
        "It's popularity is even on par with the Super Bowl \n",
        "\n",
        "https://www.cnbc.com/2019/04/14/league-of-legends-gets-more-viewers-than-super-bowlwhats-coming-next.html\n",
        "\n",
        "The game designers know what they are doing."
      ]
    },
    {
      "cell_type": "markdown",
      "metadata": {
        "id": "IHJa0_gYPUXP",
        "colab_type": "text"
      },
      "source": [
        "## For the evaluation metric you chose, what score would you get just by guessing?"
      ]
    },
    {
      "cell_type": "code",
      "metadata": {
        "id": "vm8QlVuAPV-n",
        "colab_type": "code",
        "colab": {
          "base_uri": "https://localhost:8080/",
          "height": 68
        },
        "outputId": "942c938b-50b6-448f-8175-0f5422498b87"
      },
      "source": [
        "# I would be 50% accurate just by guessing\n",
        "train['winner'].value_counts(normalize=True)"
      ],
      "execution_count": 18,
      "outputs": [
        {
          "output_type": "execute_result",
          "data": {
            "text/plain": [
              "1    0.50866\n",
              "2    0.49134\n",
              "Name: winner, dtype: float64"
            ]
          },
          "metadata": {
            "tags": []
          },
          "execution_count": 18
        }
      ]
    },
    {
      "cell_type": "markdown",
      "metadata": {
        "id": "4kuysoLoPR68",
        "colab_type": "text"
      },
      "source": [
        "## Can you make a fast, first model that beats guessing?"
      ]
    },
    {
      "cell_type": "code",
      "metadata": {
        "id": "4aCzIIfW-Sxi",
        "colab_type": "code",
        "colab": {
          "base_uri": "https://localhost:8080/",
          "height": 34
        },
        "outputId": "9537285f-0d60-463f-901b-277eccd894e4"
      },
      "source": [
        "# For the baseline, just do a standard split\n",
        "from sklearn.model_selection import train_test_split\n",
        "split_train, split_val = train_test_split(train, test_size=.2)\n",
        "\n",
        "split_train.shape, split_val.shape"
      ],
      "execution_count": 63,
      "outputs": [
        {
          "output_type": "execute_result",
          "data": {
            "text/plain": [
              "((35012, 61), (8754, 61))"
            ]
          },
          "metadata": {
            "tags": []
          },
          "execution_count": 63
        }
      ]
    },
    {
      "cell_type": "code",
      "metadata": {
        "id": "UUiUdyd095j_",
        "colab_type": "code",
        "colab": {}
      },
      "source": [
        "# picking features - as mentioned above I can only use certain ones\n",
        "columns = train.columns\n",
        "champs_used = columns[columns.str.contains('id')]     # 10 columns\n",
        "champs_banned = columns[columns.str.contains('ban')]  # 10 columns\n",
        "spells_used = columns[columns.str.contains('sum')]    # 20 columns"
      ],
      "execution_count": 0,
      "outputs": []
    },
    {
      "cell_type": "code",
      "metadata": {
        "id": "EWbWenZePqoL",
        "colab_type": "code",
        "colab": {
          "base_uri": "https://localhost:8080/",
          "height": 34
        },
        "outputId": "6bd24251-7f49-4438-e8b9-d7fe830545f0"
      },
      "source": [
        "import category_encoders as ce\n",
        "from sklearn.pipeline import make_pipeline\n",
        "from sklearn.tree import DecisionTreeClassifier\n",
        "\n",
        "# Using all 40 pre-game behavior columns\n",
        "target = 'winner'\n",
        "features = champs_used.append(champs_banned).append(spells_used)\n",
        "X_train = split_train[features]\n",
        "y_train = split_train[target]\n",
        "X_val = split_val[features]\n",
        "y_val = split_val[target]\n",
        "\n",
        "pipeline = make_pipeline(\n",
        "    ce.OrdinalEncoder(),\n",
        "    DecisionTreeClassifier(max_depth=3)\n",
        ")\n",
        "\n",
        "pipeline.fit(X_train, y_train)\n",
        "print('Validation Accuracy:', pipeline.score(X_val, y_val))"
      ],
      "execution_count": 64,
      "outputs": [
        {
          "output_type": "stream",
          "text": [
            "Validation Accuracy: 0.5102810143934201\n"
          ],
          "name": "stdout"
        }
      ]
    },
    {
      "cell_type": "markdown",
      "metadata": {
        "id": "4x4PMRpo_isD",
        "colab_type": "text"
      },
      "source": [
        "My shallow tree beats the baseline by 1%, yay!  It really will be interesting seeing if I can improve that."
      ]
    },
    {
      "cell_type": "code",
      "metadata": {
        "id": "YDFocJtN_Yr5",
        "colab_type": "code",
        "colab": {
          "base_uri": "https://localhost:8080/",
          "height": 538
        },
        "outputId": "dabf6d86-bb0a-410b-9cad-0aa1a34fc7d7"
      },
      "source": [
        "# Visualize that tree\n",
        "import graphviz\n",
        "from sklearn.tree import export_graphviz\n",
        "\n",
        "tree = pipeline.named_steps['decisiontreeclassifier']\n",
        "\n",
        "dot_data = export_graphviz(\n",
        "    tree, \n",
        "    out_file = None,\n",
        "    feature_names=X_train.columns, \n",
        "    class_names=y_train.unique().astype(str), \n",
        "    filled=True, \n",
        "    impurity=False, \n",
        "    proportion=True\n",
        ")\n",
        "\n",
        "graphviz.Source(dot_data)"
      ],
      "execution_count": 67,
      "outputs": [
        {
          "output_type": "execute_result",
          "data": {
            "text/plain": [
              "<graphviz.files.Source at 0x21afaf2d5c8>"
            ],
            "image/svg+xml": "<?xml version=\"1.0\" encoding=\"UTF-8\" standalone=\"no\"?>\r\n<!DOCTYPE svg PUBLIC \"-//W3C//DTD SVG 1.1//EN\"\r\n \"http://www.w3.org/Graphics/SVG/1.1/DTD/svg11.dtd\">\r\n<!-- Generated by graphviz version 2.38.0 (20140413.2041)\r\n -->\r\n<!-- Title: Tree Pages: 1 -->\r\n<svg width=\"1246pt\" height=\"373pt\"\r\n viewBox=\"0.00 0.00 1246.00 373.00\" xmlns=\"http://www.w3.org/2000/svg\" xmlns:xlink=\"http://www.w3.org/1999/xlink\">\r\n<g id=\"graph0\" class=\"graph\" transform=\"scale(1 1) rotate(0) translate(4 369)\">\r\n<title>Tree</title>\r\n<polygon fill=\"white\" stroke=\"none\" points=\"-4,4 -4,-369 1242,-369 1242,4 -4,4\"/>\r\n<!-- 0 -->\r\n<g id=\"node1\" class=\"node\"><title>0</title>\r\n<polygon fill=\"#fefbf8\" stroke=\"black\" points=\"687,-365 548,-365 548,-297 687,-297 687,-365\"/>\r\n<text text-anchor=\"middle\" x=\"617.5\" y=\"-349.8\" font-family=\"Times New Roman,serif\" font-size=\"14.00\">t1_champ4id &lt;= 1.5</text>\r\n<text text-anchor=\"middle\" x=\"617.5\" y=\"-334.8\" font-family=\"Times New Roman,serif\" font-size=\"14.00\">samples = 100.0%</text>\r\n<text text-anchor=\"middle\" x=\"617.5\" y=\"-319.8\" font-family=\"Times New Roman,serif\" font-size=\"14.00\">value = [0.509, 0.491]</text>\r\n<text text-anchor=\"middle\" x=\"617.5\" y=\"-304.8\" font-family=\"Times New Roman,serif\" font-size=\"14.00\">class = 2</text>\r\n</g>\r\n<!-- 1 -->\r\n<g id=\"node2\" class=\"node\"><title>1</title>\r\n<polygon fill=\"#baddf6\" stroke=\"black\" points=\"530,-261 391,-261 391,-193 530,-193 530,-261\"/>\r\n<text text-anchor=\"middle\" x=\"460.5\" y=\"-245.8\" font-family=\"Times New Roman,serif\" font-size=\"14.00\">t2_ban4 &lt;= 59.5</text>\r\n<text text-anchor=\"middle\" x=\"460.5\" y=\"-230.8\" font-family=\"Times New Roman,serif\" font-size=\"14.00\">samples = 0.8%</text>\r\n<text text-anchor=\"middle\" x=\"460.5\" y=\"-215.8\" font-family=\"Times New Roman,serif\" font-size=\"14.00\">value = [0.395, 0.605]</text>\r\n<text text-anchor=\"middle\" x=\"460.5\" y=\"-200.8\" font-family=\"Times New Roman,serif\" font-size=\"14.00\">class = 1</text>\r\n</g>\r\n<!-- 0&#45;&gt;1 -->\r\n<g id=\"edge1\" class=\"edge\"><title>0&#45;&gt;1</title>\r\n<path fill=\"none\" stroke=\"black\" d=\"M566.527,-296.884C551.644,-287.214 535.25,-276.563 519.894,-266.587\"/>\r\n<polygon fill=\"black\" stroke=\"black\" points=\"521.779,-263.638 511.486,-261.125 517.965,-269.508 521.779,-263.638\"/>\r\n<text text-anchor=\"middle\" x=\"516.679\" y=\"-281.879\" font-family=\"Times New Roman,serif\" font-size=\"14.00\">True</text>\r\n</g>\r\n<!-- 8 -->\r\n<g id=\"node9\" class=\"node\"><title>8</title>\r\n<polygon fill=\"#fefaf7\" stroke=\"black\" points=\"837,-261 712,-261 712,-193 837,-193 837,-261\"/>\r\n<text text-anchor=\"middle\" x=\"774.5\" y=\"-245.8\" font-family=\"Times New Roman,serif\" font-size=\"14.00\">t2_ban3 &lt;= 64.5</text>\r\n<text text-anchor=\"middle\" x=\"774.5\" y=\"-230.8\" font-family=\"Times New Roman,serif\" font-size=\"14.00\">samples = 99.2%</text>\r\n<text text-anchor=\"middle\" x=\"774.5\" y=\"-215.8\" font-family=\"Times New Roman,serif\" font-size=\"14.00\">value = [0.51, 0.49]</text>\r\n<text text-anchor=\"middle\" x=\"774.5\" y=\"-200.8\" font-family=\"Times New Roman,serif\" font-size=\"14.00\">class = 2</text>\r\n</g>\r\n<!-- 0&#45;&gt;8 -->\r\n<g id=\"edge8\" class=\"edge\"><title>0&#45;&gt;8</title>\r\n<path fill=\"none\" stroke=\"black\" d=\"M668.473,-296.884C683.356,-287.214 699.75,-276.563 715.106,-266.587\"/>\r\n<polygon fill=\"black\" stroke=\"black\" points=\"717.035,-269.508 723.514,-261.125 713.221,-263.638 717.035,-269.508\"/>\r\n<text text-anchor=\"middle\" x=\"718.321\" y=\"-281.879\" font-family=\"Times New Roman,serif\" font-size=\"14.00\">False</text>\r\n</g>\r\n<!-- 2 -->\r\n<g id=\"node3\" class=\"node\"><title>2</title>\r\n<polygon fill=\"#a4d2f3\" stroke=\"black\" points=\"296,-157 157,-157 157,-89 296,-89 296,-157\"/>\r\n<text text-anchor=\"middle\" x=\"226.5\" y=\"-141.8\" font-family=\"Times New Roman,serif\" font-size=\"14.00\">t2_ban1 &lt;= 81.5</text>\r\n<text text-anchor=\"middle\" x=\"226.5\" y=\"-126.8\" font-family=\"Times New Roman,serif\" font-size=\"14.00\">samples = 0.7%</text>\r\n<text text-anchor=\"middle\" x=\"226.5\" y=\"-111.8\" font-family=\"Times New Roman,serif\" font-size=\"14.00\">value = [0.352, 0.648]</text>\r\n<text text-anchor=\"middle\" x=\"226.5\" y=\"-96.8\" font-family=\"Times New Roman,serif\" font-size=\"14.00\">class = 1</text>\r\n</g>\r\n<!-- 1&#45;&gt;2 -->\r\n<g id=\"edge2\" class=\"edge\"><title>1&#45;&gt;2</title>\r\n<path fill=\"none\" stroke=\"black\" d=\"M390.926,-195.673C364.055,-183.96 333.168,-170.496 305.47,-158.423\"/>\r\n<polygon fill=\"black\" stroke=\"black\" points=\"306.776,-155.174 296.21,-154.386 303.979,-161.591 306.776,-155.174\"/>\r\n</g>\r\n<!-- 5 -->\r\n<g id=\"node6\" class=\"node\"><title>5</title>\r\n<polygon fill=\"#f5ceb1\" stroke=\"black\" points=\"530,-157 391,-157 391,-89 530,-89 530,-157\"/>\r\n<text text-anchor=\"middle\" x=\"460.5\" y=\"-141.8\" font-family=\"Times New Roman,serif\" font-size=\"14.00\">t1_ban5 &lt;= 9.5</text>\r\n<text text-anchor=\"middle\" x=\"460.5\" y=\"-126.8\" font-family=\"Times New Roman,serif\" font-size=\"14.00\">samples = 0.1%</text>\r\n<text text-anchor=\"middle\" x=\"460.5\" y=\"-111.8\" font-family=\"Times New Roman,serif\" font-size=\"14.00\">value = [0.622, 0.378]</text>\r\n<text text-anchor=\"middle\" x=\"460.5\" y=\"-96.8\" font-family=\"Times New Roman,serif\" font-size=\"14.00\">class = 2</text>\r\n</g>\r\n<!-- 1&#45;&gt;5 -->\r\n<g id=\"edge5\" class=\"edge\"><title>1&#45;&gt;5</title>\r\n<path fill=\"none\" stroke=\"black\" d=\"M460.5,-192.884C460.5,-184.778 460.5,-175.982 460.5,-167.472\"/>\r\n<polygon fill=\"black\" stroke=\"black\" points=\"464,-167.299 460.5,-157.299 457,-167.299 464,-167.299\"/>\r\n</g>\r\n<!-- 3 -->\r\n<g id=\"node4\" class=\"node\"><title>3</title>\r\n<polygon fill=\"#99ccf2\" stroke=\"black\" points=\"139,-53 0,-53 0,-0 139,-0 139,-53\"/>\r\n<text text-anchor=\"middle\" x=\"69.5\" y=\"-37.8\" font-family=\"Times New Roman,serif\" font-size=\"14.00\">samples = 0.6%</text>\r\n<text text-anchor=\"middle\" x=\"69.5\" y=\"-22.8\" font-family=\"Times New Roman,serif\" font-size=\"14.00\">value = [0.326, 0.674]</text>\r\n<text text-anchor=\"middle\" x=\"69.5\" y=\"-7.8\" font-family=\"Times New Roman,serif\" font-size=\"14.00\">class = 1</text>\r\n</g>\r\n<!-- 2&#45;&gt;3 -->\r\n<g id=\"edge3\" class=\"edge\"><title>2&#45;&gt;3</title>\r\n<path fill=\"none\" stroke=\"black\" d=\"M171.589,-88.9485C155.175,-79.0686 137.244,-68.2758 121.053,-58.5305\"/>\r\n<polygon fill=\"black\" stroke=\"black\" points=\"122.631,-55.395 112.258,-53.2367 119.021,-61.3924 122.631,-55.395\"/>\r\n</g>\r\n<!-- 4 -->\r\n<g id=\"node5\" class=\"node\"><title>4</title>\r\n<polygon fill=\"#f2c09c\" stroke=\"black\" points=\"296,-53 157,-53 157,-0 296,-0 296,-53\"/>\r\n<text text-anchor=\"middle\" x=\"226.5\" y=\"-37.8\" font-family=\"Times New Roman,serif\" font-size=\"14.00\">samples = 0.1%</text>\r\n<text text-anchor=\"middle\" x=\"226.5\" y=\"-22.8\" font-family=\"Times New Roman,serif\" font-size=\"14.00\">value = [0.667, 0.333]</text>\r\n<text text-anchor=\"middle\" x=\"226.5\" y=\"-7.8\" font-family=\"Times New Roman,serif\" font-size=\"14.00\">class = 2</text>\r\n</g>\r\n<!-- 2&#45;&gt;4 -->\r\n<g id=\"edge4\" class=\"edge\"><title>2&#45;&gt;4</title>\r\n<path fill=\"none\" stroke=\"black\" d=\"M226.5,-88.9485C226.5,-80.7153 226.5,-71.848 226.5,-63.4814\"/>\r\n<polygon fill=\"black\" stroke=\"black\" points=\"230,-63.2367 226.5,-53.2367 223,-63.2367 230,-63.2367\"/>\r\n</g>\r\n<!-- 6 -->\r\n<g id=\"node7\" class=\"node\"><title>6</title>\r\n<polygon fill=\"#83c2ef\" stroke=\"black\" points=\"453,-53 314,-53 314,-0 453,-0 453,-53\"/>\r\n<text text-anchor=\"middle\" x=\"383.5\" y=\"-37.8\" font-family=\"Times New Roman,serif\" font-size=\"14.00\">samples = 0.0%</text>\r\n<text text-anchor=\"middle\" x=\"383.5\" y=\"-22.8\" font-family=\"Times New Roman,serif\" font-size=\"14.00\">value = [0.273, 0.727]</text>\r\n<text text-anchor=\"middle\" x=\"383.5\" y=\"-7.8\" font-family=\"Times New Roman,serif\" font-size=\"14.00\">class = 1</text>\r\n</g>\r\n<!-- 5&#45;&gt;6 -->\r\n<g id=\"edge6\" class=\"edge\"><title>5&#45;&gt;6</title>\r\n<path fill=\"none\" stroke=\"black\" d=\"M433.569,-88.9485C426.264,-79.9834 418.347,-70.2666 411.011,-61.2629\"/>\r\n<polygon fill=\"black\" stroke=\"black\" points=\"413.501,-58.7782 404.471,-53.2367 408.074,-63.1999 413.501,-58.7782\"/>\r\n</g>\r\n<!-- 7 -->\r\n<g id=\"node8\" class=\"node\"><title>7</title>\r\n<polygon fill=\"#eeae80\" stroke=\"black\" points=\"610,-53 471,-53 471,-0 610,-0 610,-53\"/>\r\n<text text-anchor=\"middle\" x=\"540.5\" y=\"-37.8\" font-family=\"Times New Roman,serif\" font-size=\"14.00\">samples = 0.1%</text>\r\n<text text-anchor=\"middle\" x=\"540.5\" y=\"-22.8\" font-family=\"Times New Roman,serif\" font-size=\"14.00\">value = [0.735, 0.265]</text>\r\n<text text-anchor=\"middle\" x=\"540.5\" y=\"-7.8\" font-family=\"Times New Roman,serif\" font-size=\"14.00\">class = 2</text>\r\n</g>\r\n<!-- 5&#45;&gt;7 -->\r\n<g id=\"edge7\" class=\"edge\"><title>5&#45;&gt;7</title>\r\n<path fill=\"none\" stroke=\"black\" d=\"M488.48,-88.9485C496.147,-79.892 504.463,-70.0682 512.151,-60.9875\"/>\r\n<polygon fill=\"black\" stroke=\"black\" points=\"514.922,-63.1305 518.712,-53.2367 509.58,-58.6076 514.922,-63.1305\"/>\r\n</g>\r\n<!-- 9 -->\r\n<g id=\"node10\" class=\"node\"><title>9</title>\r\n<polygon fill=\"#fefcfa\" stroke=\"black\" points=\"846.5,-157 702.5,-157 702.5,-89 846.5,-89 846.5,-157\"/>\r\n<text text-anchor=\"middle\" x=\"774.5\" y=\"-141.8\" font-family=\"Times New Roman,serif\" font-size=\"14.00\">t2_champ3id &lt;= 114.5</text>\r\n<text text-anchor=\"middle\" x=\"774.5\" y=\"-126.8\" font-family=\"Times New Roman,serif\" font-size=\"14.00\">samples = 85.0%</text>\r\n<text text-anchor=\"middle\" x=\"774.5\" y=\"-111.8\" font-family=\"Times New Roman,serif\" font-size=\"14.00\">value = [0.506, 0.494]</text>\r\n<text text-anchor=\"middle\" x=\"774.5\" y=\"-96.8\" font-family=\"Times New Roman,serif\" font-size=\"14.00\">class = 2</text>\r\n</g>\r\n<!-- 8&#45;&gt;9 -->\r\n<g id=\"edge9\" class=\"edge\"><title>8&#45;&gt;9</title>\r\n<path fill=\"none\" stroke=\"black\" d=\"M774.5,-192.884C774.5,-184.778 774.5,-175.982 774.5,-167.472\"/>\r\n<polygon fill=\"black\" stroke=\"black\" points=\"778,-167.299 774.5,-157.299 771,-167.299 778,-167.299\"/>\r\n</g>\r\n<!-- 12 -->\r\n<g id=\"node13\" class=\"node\"><title>12</title>\r\n<polygon fill=\"#fcf0e8\" stroke=\"black\" points=\"1081,-157 942,-157 942,-89 1081,-89 1081,-157\"/>\r\n<text text-anchor=\"middle\" x=\"1011.5\" y=\"-141.8\" font-family=\"Times New Roman,serif\" font-size=\"14.00\">t2_ban1 &lt;= 45.5</text>\r\n<text text-anchor=\"middle\" x=\"1011.5\" y=\"-126.8\" font-family=\"Times New Roman,serif\" font-size=\"14.00\">samples = 14.2%</text>\r\n<text text-anchor=\"middle\" x=\"1011.5\" y=\"-111.8\" font-family=\"Times New Roman,serif\" font-size=\"14.00\">value = [0.531, 0.469]</text>\r\n<text text-anchor=\"middle\" x=\"1011.5\" y=\"-96.8\" font-family=\"Times New Roman,serif\" font-size=\"14.00\">class = 2</text>\r\n</g>\r\n<!-- 8&#45;&gt;12 -->\r\n<g id=\"edge12\" class=\"edge\"><title>8&#45;&gt;12</title>\r\n<path fill=\"none\" stroke=\"black\" d=\"M837.079,-199.067C866.286,-186.497 901.373,-171.396 932.396,-158.045\"/>\r\n<polygon fill=\"black\" stroke=\"black\" points=\"934.08,-161.13 941.882,-153.962 931.313,-154.701 934.08,-161.13\"/>\r\n</g>\r\n<!-- 10 -->\r\n<g id=\"node11\" class=\"node\"><title>10</title>\r\n<polygon fill=\"#fffdfc\" stroke=\"black\" points=\"767,-53 628,-53 628,-0 767,-0 767,-53\"/>\r\n<text text-anchor=\"middle\" x=\"697.5\" y=\"-37.8\" font-family=\"Times New Roman,serif\" font-size=\"14.00\">samples = 77.4%</text>\r\n<text text-anchor=\"middle\" x=\"697.5\" y=\"-22.8\" font-family=\"Times New Roman,serif\" font-size=\"14.00\">value = [0.504, 0.496]</text>\r\n<text text-anchor=\"middle\" x=\"697.5\" y=\"-7.8\" font-family=\"Times New Roman,serif\" font-size=\"14.00\">class = 2</text>\r\n</g>\r\n<!-- 9&#45;&gt;10 -->\r\n<g id=\"edge10\" class=\"edge\"><title>9&#45;&gt;10</title>\r\n<path fill=\"none\" stroke=\"black\" d=\"M747.569,-88.9485C740.264,-79.9834 732.347,-70.2666 725.011,-61.2629\"/>\r\n<polygon fill=\"black\" stroke=\"black\" points=\"727.501,-58.7782 718.471,-53.2367 722.074,-63.1999 727.501,-58.7782\"/>\r\n</g>\r\n<!-- 11 -->\r\n<g id=\"node12\" class=\"node\"><title>11</title>\r\n<polygon fill=\"#fbeee4\" stroke=\"black\" points=\"924,-53 785,-53 785,-0 924,-0 924,-53\"/>\r\n<text text-anchor=\"middle\" x=\"854.5\" y=\"-37.8\" font-family=\"Times New Roman,serif\" font-size=\"14.00\">samples = 7.6%</text>\r\n<text text-anchor=\"middle\" x=\"854.5\" y=\"-22.8\" font-family=\"Times New Roman,serif\" font-size=\"14.00\">value = [0.536, 0.464]</text>\r\n<text text-anchor=\"middle\" x=\"854.5\" y=\"-7.8\" font-family=\"Times New Roman,serif\" font-size=\"14.00\">class = 2</text>\r\n</g>\r\n<!-- 9&#45;&gt;11 -->\r\n<g id=\"edge11\" class=\"edge\"><title>9&#45;&gt;11</title>\r\n<path fill=\"none\" stroke=\"black\" d=\"M802.48,-88.9485C810.147,-79.892 818.463,-70.0682 826.151,-60.9875\"/>\r\n<polygon fill=\"black\" stroke=\"black\" points=\"828.922,-63.1305 832.712,-53.2367 823.58,-58.6076 828.922,-63.1305\"/>\r\n</g>\r\n<!-- 13 -->\r\n<g id=\"node14\" class=\"node\"><title>13</title>\r\n<polygon fill=\"#fdf7f3\" stroke=\"black\" points=\"1081,-53 942,-53 942,-0 1081,-0 1081,-53\"/>\r\n<text text-anchor=\"middle\" x=\"1011.5\" y=\"-37.8\" font-family=\"Times New Roman,serif\" font-size=\"14.00\">samples = 10.5%</text>\r\n<text text-anchor=\"middle\" x=\"1011.5\" y=\"-22.8\" font-family=\"Times New Roman,serif\" font-size=\"14.00\">value = [0.516, 0.484]</text>\r\n<text text-anchor=\"middle\" x=\"1011.5\" y=\"-7.8\" font-family=\"Times New Roman,serif\" font-size=\"14.00\">class = 2</text>\r\n</g>\r\n<!-- 12&#45;&gt;13 -->\r\n<g id=\"edge13\" class=\"edge\"><title>12&#45;&gt;13</title>\r\n<path fill=\"none\" stroke=\"black\" d=\"M1011.5,-88.9485C1011.5,-80.7153 1011.5,-71.848 1011.5,-63.4814\"/>\r\n<polygon fill=\"black\" stroke=\"black\" points=\"1015,-63.2367 1011.5,-53.2367 1008,-63.2367 1015,-63.2367\"/>\r\n</g>\r\n<!-- 14 -->\r\n<g id=\"node15\" class=\"node\"><title>14</title>\r\n<polygon fill=\"#f8dfcc\" stroke=\"black\" points=\"1238,-53 1099,-53 1099,-0 1238,-0 1238,-53\"/>\r\n<text text-anchor=\"middle\" x=\"1168.5\" y=\"-37.8\" font-family=\"Times New Roman,serif\" font-size=\"14.00\">samples = 3.7%</text>\r\n<text text-anchor=\"middle\" x=\"1168.5\" y=\"-22.8\" font-family=\"Times New Roman,serif\" font-size=\"14.00\">value = [0.573, 0.427]</text>\r\n<text text-anchor=\"middle\" x=\"1168.5\" y=\"-7.8\" font-family=\"Times New Roman,serif\" font-size=\"14.00\">class = 2</text>\r\n</g>\r\n<!-- 12&#45;&gt;14 -->\r\n<g id=\"edge14\" class=\"edge\"><title>12&#45;&gt;14</title>\r\n<path fill=\"none\" stroke=\"black\" d=\"M1066.41,-88.9485C1082.83,-79.0686 1100.76,-68.2758 1116.95,-58.5305\"/>\r\n<polygon fill=\"black\" stroke=\"black\" points=\"1118.98,-61.3924 1125.74,-53.2367 1115.37,-55.395 1118.98,-61.3924\"/>\r\n</g>\r\n</g>\r\n</svg>\r\n"
          },
          "metadata": {
            "tags": []
          },
          "execution_count": 67
        }
      ]
    },
    {
      "cell_type": "markdown",
      "metadata": {
        "id": "WetHHZBdABp2",
        "colab_type": "text"
      },
      "source": [
        "Considering the data I have by default is entirely categorical, it will probably be good to research models that can use that without encoding.  Or just find other encoding methods."
      ]
    },
    {
      "cell_type": "markdown",
      "metadata": {
        "id": "6L-IR3BAl5ls",
        "colab_type": "text"
      },
      "source": [
        "## Get started on feature engineering"
      ]
    },
    {
      "cell_type": "code",
      "metadata": {
        "id": "z0QqWxOpmALZ",
        "colab_type": "code",
        "colab": {
          "base_uri": "https://localhost:8080/",
          "height": 235
        },
        "outputId": "fe51354d-0811-4a13-e5c1-7224f1815816"
      },
      "source": [
        "# To make things easier, I'll make it so I can use the name as the index\n",
        "champs.index = champs['name']\n",
        "champs = champs.drop(columns='name')\n",
        "champs.head()"
      ],
      "execution_count": 240,
      "outputs": [
        {
          "output_type": "execute_result",
          "data": {
            "text/plain": [
              "          pick_count  ban_count  pick_rate  ban_rate  win_rate  \\\n",
              "name                                                             \n",
              "Tristana       10982      10247   0.250925  0.234132  0.515025   \n",
              "Thresh         11197       5014   0.255838  0.114564  0.472895   \n",
              "Vayne           8916       7410   0.203720  0.169310  0.514581   \n",
              "Kayn            8204      14601   0.187451  0.333615  0.485982   \n",
              "Lee Sin         7929       5570   0.181168  0.127268  0.525918   \n",
              "\n",
              "          dragon_kill_rate  baron_kill_rate  \n",
              "name                                         \n",
              "Tristana          1.398106         0.410126  \n",
              "Thresh            1.401000         0.398857  \n",
              "Vayne             1.369897         0.407470  \n",
              "Kayn              1.281326         0.352511  \n",
              "Lee Sin           1.460840         0.391222  "
            ],
            "text/html": [
              "<div>\n",
              "<style scoped>\n",
              "    .dataframe tbody tr th:only-of-type {\n",
              "        vertical-align: middle;\n",
              "    }\n",
              "\n",
              "    .dataframe tbody tr th {\n",
              "        vertical-align: top;\n",
              "    }\n",
              "\n",
              "    .dataframe thead th {\n",
              "        text-align: right;\n",
              "    }\n",
              "</style>\n",
              "<table border=\"1\" class=\"dataframe\">\n",
              "  <thead>\n",
              "    <tr style=\"text-align: right;\">\n",
              "      <th></th>\n",
              "      <th>pick_count</th>\n",
              "      <th>ban_count</th>\n",
              "      <th>pick_rate</th>\n",
              "      <th>ban_rate</th>\n",
              "      <th>win_rate</th>\n",
              "      <th>dragon_kill_rate</th>\n",
              "      <th>baron_kill_rate</th>\n",
              "    </tr>\n",
              "    <tr>\n",
              "      <th>name</th>\n",
              "      <th></th>\n",
              "      <th></th>\n",
              "      <th></th>\n",
              "      <th></th>\n",
              "      <th></th>\n",
              "      <th></th>\n",
              "      <th></th>\n",
              "    </tr>\n",
              "  </thead>\n",
              "  <tbody>\n",
              "    <tr>\n",
              "      <th>Tristana</th>\n",
              "      <td>10982</td>\n",
              "      <td>10247</td>\n",
              "      <td>0.250925</td>\n",
              "      <td>0.234132</td>\n",
              "      <td>0.515025</td>\n",
              "      <td>1.398106</td>\n",
              "      <td>0.410126</td>\n",
              "    </tr>\n",
              "    <tr>\n",
              "      <th>Thresh</th>\n",
              "      <td>11197</td>\n",
              "      <td>5014</td>\n",
              "      <td>0.255838</td>\n",
              "      <td>0.114564</td>\n",
              "      <td>0.472895</td>\n",
              "      <td>1.401000</td>\n",
              "      <td>0.398857</td>\n",
              "    </tr>\n",
              "    <tr>\n",
              "      <th>Vayne</th>\n",
              "      <td>8916</td>\n",
              "      <td>7410</td>\n",
              "      <td>0.203720</td>\n",
              "      <td>0.169310</td>\n",
              "      <td>0.514581</td>\n",
              "      <td>1.369897</td>\n",
              "      <td>0.407470</td>\n",
              "    </tr>\n",
              "    <tr>\n",
              "      <th>Kayn</th>\n",
              "      <td>8204</td>\n",
              "      <td>14601</td>\n",
              "      <td>0.187451</td>\n",
              "      <td>0.333615</td>\n",
              "      <td>0.485982</td>\n",
              "      <td>1.281326</td>\n",
              "      <td>0.352511</td>\n",
              "    </tr>\n",
              "    <tr>\n",
              "      <th>Lee Sin</th>\n",
              "      <td>7929</td>\n",
              "      <td>5570</td>\n",
              "      <td>0.181168</td>\n",
              "      <td>0.127268</td>\n",
              "      <td>0.525918</td>\n",
              "      <td>1.460840</td>\n",
              "      <td>0.391222</td>\n",
              "    </tr>\n",
              "  </tbody>\n",
              "</table>\n",
              "</div>"
            ]
          },
          "metadata": {
            "tags": []
          },
          "execution_count": 240
        }
      ]
    },
    {
      "cell_type": "code",
      "metadata": {
        "id": "cTUnfn6emO3I",
        "colab_type": "code",
        "colab": {
          "base_uri": "https://localhost:8080/",
          "height": 153
        },
        "outputId": "fdda8106-d081-41cc-f89d-8ffb67c56ac3"
      },
      "source": [
        "champs.loc['Ashe']"
      ],
      "execution_count": 241,
      "outputs": [
        {
          "output_type": "execute_result",
          "data": {
            "text/plain": [
              "pick_count          4654.000000\n",
              "ban_count            427.000000\n",
              "pick_rate              0.106338\n",
              "ban_rate               0.009756\n",
              "win_rate               0.557800\n",
              "dragon_kill_rate       1.365062\n",
              "baron_kill_rate        0.380963\n",
              "Name: Ashe, dtype: float64"
            ]
          },
          "metadata": {
            "tags": []
          },
          "execution_count": 241
        }
      ]
    },
    {
      "cell_type": "code",
      "metadata": {
        "id": "gpX7VU0mmSbf",
        "colab_type": "code",
        "colab": {}
      },
      "source": [
        "# Since this has to calculate some things by individual rows, \n",
        "# it will take a bit to run\n",
        "\n",
        "def engineer_features(X):\n",
        "  \"\"\" returns X with new engineered features \"\"\"\n",
        "  X = X.copy()\n",
        "\n",
        "  # calculate 4 new columns for each row:\n",
        "  new_col = [.0] * len(X) # initialize with floats\n",
        "\n",
        "  # average win rate for champs on each team (mean of win rates)\n",
        "  X['t1_win_rate'] = new_col\n",
        "  X['t2_win_rate'] = new_col\n",
        "  # average ban rate for champs on each team \n",
        "  # (this is particularly interesting, since it tells how often \n",
        "  # the champs picked in this game were banned in others)\n",
        "  X['t1_ban_rate'] = new_col\n",
        "  X['t2_ban_rate'] = new_col\n",
        "\n",
        "  for i in X.index:\n",
        "    # extract team lists\n",
        "    team1 = X.loc[i][['t1_champ1id', 't1_champ2id', 't1_champ3id', \n",
        "                      't1_champ4id', 't1_champ5id']]\n",
        "    team2 = X.loc[i][['t2_champ1id', 't2_champ2id', 't2_champ3id', \n",
        "                      't2_champ4id', 't2_champ5id']]\n",
        "\n",
        "    # average stats\n",
        "    t1_stats = champs.loc[team1].mean()\n",
        "    X.at[i, 't1_win_rate'] = t1_stats['win_rate']\n",
        "    X.at[i, 't1_ban_rate'] = t1_stats['ban_rate']\n",
        "\n",
        "    t2_stats = champs.loc[team2].mean()\n",
        "    X.at[i, 't2_win_rate'] = t2_stats['win_rate']\n",
        "    X.at[i, 't2_ban_rate'] = t2_stats['ban_rate']\n",
        "\n",
        "  # Also find the difference between those average rates\n",
        "  X['win_rate_diff'] = X['t1_win_rate'] - X['t2_win_rate']\n",
        "  X['ban_rate_diff'] = X['t1_ban_rate'] - X['t2_ban_rate']\n",
        "\n",
        "  return X"
      ],
      "execution_count": 0,
      "outputs": []
    },
    {
      "cell_type": "code",
      "metadata": {
        "id": "e-G-CErondFd",
        "colab_type": "code",
        "colab": {
          "base_uri": "https://localhost:8080/",
          "height": 34
        },
        "outputId": "3d02c35e-8ad6-44c5-df2f-fe57486a4fec"
      },
      "source": [
        "%%time\n",
        "train = engineer_features(train)"
      ],
      "execution_count": 277,
      "outputs": [
        {
          "output_type": "stream",
          "text": [
            "Wall time: 2min 6s\n"
          ],
          "name": "stdout"
        }
      ]
    },
    {
      "cell_type": "code",
      "metadata": {
        "id": "sH71UZUksWVe",
        "colab_type": "code",
        "colab": {
          "base_uri": "https://localhost:8080/",
          "height": 204
        },
        "outputId": "8632424e-52b7-425b-9f49-93093175afeb"
      },
      "source": [
        "# view the new columns\n",
        "train[train.columns[-6:]].head()"
      ],
      "execution_count": 263,
      "outputs": [
        {
          "output_type": "execute_result",
          "data": {
            "text/plain": [
              "       t1_win_rate  t2_win_rate  t1_ban_rate  t2_ban_rate  win_rate_diff  \\\n",
              "22656     0.517458     0.444778     0.191523     0.058082       0.072680   \n",
              "17347     0.500740     0.507390     0.105721     0.016739      -0.006650   \n",
              "9978      0.513434     0.515845     0.020477     0.134095      -0.002411   \n",
              "34410     0.477560     0.469466     0.105858     0.038962       0.008094   \n",
              "10658     0.480455     0.528259     0.308034     0.118540      -0.047804   \n",
              "\n",
              "       ban_rate_diff  \n",
              "22656       0.133441  \n",
              "17347       0.088982  \n",
              "9978       -0.113618  \n",
              "34410       0.066897  \n",
              "10658       0.189494  "
            ],
            "text/html": [
              "<div>\n",
              "<style scoped>\n",
              "    .dataframe tbody tr th:only-of-type {\n",
              "        vertical-align: middle;\n",
              "    }\n",
              "\n",
              "    .dataframe tbody tr th {\n",
              "        vertical-align: top;\n",
              "    }\n",
              "\n",
              "    .dataframe thead th {\n",
              "        text-align: right;\n",
              "    }\n",
              "</style>\n",
              "<table border=\"1\" class=\"dataframe\">\n",
              "  <thead>\n",
              "    <tr style=\"text-align: right;\">\n",
              "      <th></th>\n",
              "      <th>t1_win_rate</th>\n",
              "      <th>t2_win_rate</th>\n",
              "      <th>t1_ban_rate</th>\n",
              "      <th>t2_ban_rate</th>\n",
              "      <th>win_rate_diff</th>\n",
              "      <th>ban_rate_diff</th>\n",
              "    </tr>\n",
              "  </thead>\n",
              "  <tbody>\n",
              "    <tr>\n",
              "      <th>22656</th>\n",
              "      <td>0.517458</td>\n",
              "      <td>0.444778</td>\n",
              "      <td>0.191523</td>\n",
              "      <td>0.058082</td>\n",
              "      <td>0.072680</td>\n",
              "      <td>0.133441</td>\n",
              "    </tr>\n",
              "    <tr>\n",
              "      <th>17347</th>\n",
              "      <td>0.500740</td>\n",
              "      <td>0.507390</td>\n",
              "      <td>0.105721</td>\n",
              "      <td>0.016739</td>\n",
              "      <td>-0.006650</td>\n",
              "      <td>0.088982</td>\n",
              "    </tr>\n",
              "    <tr>\n",
              "      <th>9978</th>\n",
              "      <td>0.513434</td>\n",
              "      <td>0.515845</td>\n",
              "      <td>0.020477</td>\n",
              "      <td>0.134095</td>\n",
              "      <td>-0.002411</td>\n",
              "      <td>-0.113618</td>\n",
              "    </tr>\n",
              "    <tr>\n",
              "      <th>34410</th>\n",
              "      <td>0.477560</td>\n",
              "      <td>0.469466</td>\n",
              "      <td>0.105858</td>\n",
              "      <td>0.038962</td>\n",
              "      <td>0.008094</td>\n",
              "      <td>0.066897</td>\n",
              "    </tr>\n",
              "    <tr>\n",
              "      <th>10658</th>\n",
              "      <td>0.480455</td>\n",
              "      <td>0.528259</td>\n",
              "      <td>0.308034</td>\n",
              "      <td>0.118540</td>\n",
              "      <td>-0.047804</td>\n",
              "      <td>0.189494</td>\n",
              "    </tr>\n",
              "  </tbody>\n",
              "</table>\n",
              "</div>"
            ]
          },
          "metadata": {
            "tags": []
          },
          "execution_count": 263
        }
      ]
    },
    {
      "cell_type": "markdown",
      "metadata": {
        "id": "6jDRUkmhsoh7",
        "colab_type": "text"
      },
      "source": [
        "So I now have a numerical representation of each team, based on statistics of the champions picked.  Let's explore and see if this was worth it."
      ]
    },
    {
      "cell_type": "code",
      "metadata": {
        "id": "HexT25-XqmsQ",
        "colab_type": "code",
        "colab": {
          "base_uri": "https://localhost:8080/",
          "height": 292
        },
        "outputId": "eeebbddb-883a-40e6-f1ac-1e86d9fc7d4f"
      },
      "source": [
        "# split by the target again, so we can check distribution between the outcomes\n",
        "wins1 = train[train['winner'] == 1]\n",
        "wins2 = train[train['winner'] == 2]\n",
        "\n",
        "sns.distplot(wins1['win_rate_diff'], color='b')\n",
        "sns.distplot(wins2['win_rate_diff'], color='r')\n",
        "plt.title('Distribution of the win rate difference');"
      ],
      "execution_count": 265,
      "outputs": [
        {
          "output_type": "display_data",
          "data": {
            "text/plain": [
              "<Figure size 432x288 with 1 Axes>"
            ],
            "image/png": "[encoded data removed]"
          },
          "metadata": {
            "tags": [],
            "needs_background": "light"
          }
        }
      ]
    },
    {
      "cell_type": "code",
      "metadata": {
        "id": "fXFE8XdBtQG7",
        "colab_type": "code",
        "colab": {
          "base_uri": "https://localhost:8080/",
          "height": 292
        },
        "outputId": "b90b9221-cb7a-4643-ae60-d23bb01a5710"
      },
      "source": [
        "sns.distplot(wins1['ban_rate_diff'], color='b')\n",
        "sns.distplot(wins2['ban_rate_diff'], color='r')\n",
        "plt.title('Distribution of the ban rate difference');"
      ],
      "execution_count": 266,
      "outputs": [
        {
          "output_type": "display_data",
          "data": {
            "text/plain": [
              "<Figure size 432x288 with 1 Axes>"
            ],
            "image/png": "[encoded data removed]"
          },
          "metadata": {
            "tags": [],
            "needs_background": "light"
          }
        }
      ]
    },
    {
      "cell_type": "code",
      "metadata": {
        "id": "DgTuVQhGtgKb",
        "colab_type": "code",
        "colab": {
          "base_uri": "https://localhost:8080/",
          "height": 292
        },
        "outputId": "87273533-1786-4a3a-abc7-593aa0fe88d1"
      },
      "source": [
        "sns.distplot(wins1['t1_win_rate'], color='b')\n",
        "sns.distplot(wins2['t1_win_rate'], color='r')\n",
        "plt.title('Distribution of the team 1 win rate');"
      ],
      "execution_count": 267,
      "outputs": [
        {
          "output_type": "display_data",
          "data": {
            "text/plain": [
              "<Figure size 432x288 with 1 Axes>"
            ],
            "image/png": "[encoded data removed]"
          },
          "metadata": {
            "tags": [],
            "needs_background": "light"
          }
        }
      ]
    },
    {
      "cell_type": "code",
      "metadata": {
        "id": "2epfmVLgtn27",
        "colab_type": "code",
        "colab": {
          "base_uri": "https://localhost:8080/",
          "height": 292
        },
        "outputId": "1e853e0f-f179-4642-c1d1-05857926ab8e"
      },
      "source": [
        "sns.distplot(wins1['t2_win_rate'], color='b')\n",
        "sns.distplot(wins2['t2_win_rate'], color='r')\n",
        "plt.title('Distribution of the team 2 win rate');"
      ],
      "execution_count": 268,
      "outputs": [
        {
          "output_type": "display_data",
          "data": {
            "text/plain": [
              "<Figure size 432x288 with 1 Axes>"
            ],
            "image/png": "[encoded data removed]"
          },
          "metadata": {
            "tags": [],
            "needs_background": "light"
          }
        }
      ]
    },
    {
      "cell_type": "markdown",
      "metadata": {
        "id": "9czKrOhNtsob",
        "colab_type": "text"
      },
      "source": [
        "The distributions don't exactly look like they'll help tell the difference, but let's try some quick models just to see."
      ]
    },
    {
      "cell_type": "code",
      "metadata": {
        "id": "XZhzLWnVt8nr",
        "colab_type": "code",
        "colab": {
          "base_uri": "https://localhost:8080/",
          "height": 34
        },
        "outputId": "fb77dd8e-b97a-41f9-c215-bfe5225f8fdc"
      },
      "source": [
        "# split the data again\n",
        "split_train, split_val = train_test_split(train, test_size=.2)\n",
        "\n",
        "split_train.shape, split_val.shape"
      ],
      "execution_count": 269,
      "outputs": [
        {
          "output_type": "execute_result",
          "data": {
            "text/plain": [
              "((35012, 67), (8754, 67))"
            ]
          },
          "metadata": {
            "tags": []
          },
          "execution_count": 269
        }
      ]
    },
    {
      "cell_type": "code",
      "metadata": {
        "id": "_sD4T8Cyt3JI",
        "colab_type": "code",
        "colab": {
          "base_uri": "https://localhost:8080/",
          "height": 34
        },
        "outputId": "ba80de9a-c1a5-4a4c-8710-6e3c3665609e"
      },
      "source": [
        "# Using just the new engineered columns\n",
        "target = 'winner'\n",
        "features = train.columns[-6:]\n",
        "X_train = split_train[features]\n",
        "y_train = split_train[target]\n",
        "X_val = split_val[features]\n",
        "y_val = split_val[target]\n",
        "\n",
        "pipeline = make_pipeline(\n",
        "    ce.OrdinalEncoder(),\n",
        "    DecisionTreeClassifier(max_depth=3)\n",
        ")\n",
        "\n",
        "pipeline.fit(X_train, y_train)\n",
        "print('Shallow decision tree accuracy:', pipeline.score(X_val, y_val))"
      ],
      "execution_count": 274,
      "outputs": [
        {
          "output_type": "stream",
          "text": [
            "Shallow decision tree accuracy: 0.512794151245145\n"
          ],
          "name": "stdout"
        }
      ]
    },
    {
      "cell_type": "code",
      "metadata": {
        "id": "aDHaSFlSvY23",
        "colab_type": "code",
        "colab": {
          "base_uri": "https://localhost:8080/",
          "height": 538
        },
        "outputId": "2ff15b9f-3f69-4410-ea96-7f8f6c3215f7"
      },
      "source": [
        "tree = pipeline.named_steps['decisiontreeclassifier']\n",
        "\n",
        "dot_data = export_graphviz(\n",
        "    tree, \n",
        "    out_file = None,\n",
        "    feature_names=X_train.columns, \n",
        "    class_names=y_train.unique().astype(str), \n",
        "    filled=True, \n",
        "    impurity=False, \n",
        "    proportion=True\n",
        ")\n",
        "\n",
        "graphviz.Source(dot_data)"
      ],
      "execution_count": 275,
      "outputs": [
        {
          "output_type": "execute_result",
          "data": {
            "text/plain": [
              "<graphviz.files.Source at 0x21a9440a8c8>"
            ],
            "image/svg+xml": "<?xml version=\"1.0\" encoding=\"UTF-8\" standalone=\"no\"?>\r\n<!DOCTYPE svg PUBLIC \"-//W3C//DTD SVG 1.1//EN\"\r\n \"http://www.w3.org/Graphics/SVG/1.1/DTD/svg11.dtd\">\r\n<!-- Generated by graphviz version 2.38.0 (20140413.2041)\r\n -->\r\n<!-- Title: Tree Pages: 1 -->\r\n<svg width=\"1220pt\" height=\"373pt\"\r\n viewBox=\"0.00 0.00 1220.00 373.00\" xmlns=\"http://www.w3.org/2000/svg\" xmlns:xlink=\"http://www.w3.org/1999/xlink\">\r\n<g id=\"graph0\" class=\"graph\" transform=\"scale(1 1) rotate(0) translate(4 369)\">\r\n<title>Tree</title>\r\n<polygon fill=\"white\" stroke=\"none\" points=\"-4,4 -4,-369 1216,-369 1216,4 -4,4\"/>\r\n<!-- 0 -->\r\n<g id=\"node1\" class=\"node\"><title>0</title>\r\n<polygon fill=\"#fefbf8\" stroke=\"black\" points=\"681,-365 542,-365 542,-297 681,-297 681,-365\"/>\r\n<text text-anchor=\"middle\" x=\"611.5\" y=\"-349.8\" font-family=\"Times New Roman,serif\" font-size=\"14.00\">ban_rate_diff &lt;= 0.0</text>\r\n<text text-anchor=\"middle\" x=\"611.5\" y=\"-334.8\" font-family=\"Times New Roman,serif\" font-size=\"14.00\">samples = 100.0%</text>\r\n<text text-anchor=\"middle\" x=\"611.5\" y=\"-319.8\" font-family=\"Times New Roman,serif\" font-size=\"14.00\">value = [0.509, 0.491]</text>\r\n<text text-anchor=\"middle\" x=\"611.5\" y=\"-304.8\" font-family=\"Times New Roman,serif\" font-size=\"14.00\">class = 2</text>\r\n</g>\r\n<!-- 1 -->\r\n<g id=\"node2\" class=\"node\"><title>1</title>\r\n<polygon fill=\"#fafdfe\" stroke=\"black\" points=\"567,-261 428,-261 428,-193 567,-193 567,-261\"/>\r\n<text text-anchor=\"middle\" x=\"497.5\" y=\"-245.8\" font-family=\"Times New Roman,serif\" font-size=\"14.00\">t2_win_rate &lt;= 0.519</text>\r\n<text text-anchor=\"middle\" x=\"497.5\" y=\"-230.8\" font-family=\"Times New Roman,serif\" font-size=\"14.00\">samples = 49.6%</text>\r\n<text text-anchor=\"middle\" x=\"497.5\" y=\"-215.8\" font-family=\"Times New Roman,serif\" font-size=\"14.00\">value = [0.494, 0.506]</text>\r\n<text text-anchor=\"middle\" x=\"497.5\" y=\"-200.8\" font-family=\"Times New Roman,serif\" font-size=\"14.00\">class = 1</text>\r\n</g>\r\n<!-- 0&#45;&gt;1 -->\r\n<g id=\"edge1\" class=\"edge\"><title>0&#45;&gt;1</title>\r\n<path fill=\"none\" stroke=\"black\" d=\"M574.487,-296.884C564.234,-287.709 552.991,-277.65 542.343,-268.123\"/>\r\n<polygon fill=\"black\" stroke=\"black\" points=\"544.503,-265.359 534.717,-261.299 539.836,-270.576 544.503,-265.359\"/>\r\n<text text-anchor=\"middle\" x=\"536.104\" y=\"-282.561\" font-family=\"Times New Roman,serif\" font-size=\"14.00\">True</text>\r\n</g>\r\n<!-- 8 -->\r\n<g id=\"node9\" class=\"node\"><title>8</title>\r\n<polygon fill=\"#fdf4ee\" stroke=\"black\" points=\"796,-261 657,-261 657,-193 796,-193 796,-261\"/>\r\n<text text-anchor=\"middle\" x=\"726.5\" y=\"-245.8\" font-family=\"Times New Roman,serif\" font-size=\"14.00\">ban_rate_diff &lt;= 0.0</text>\r\n<text text-anchor=\"middle\" x=\"726.5\" y=\"-230.8\" font-family=\"Times New Roman,serif\" font-size=\"14.00\">samples = 50.4%</text>\r\n<text text-anchor=\"middle\" x=\"726.5\" y=\"-215.8\" font-family=\"Times New Roman,serif\" font-size=\"14.00\">value = [0.523, 0.477]</text>\r\n<text text-anchor=\"middle\" x=\"726.5\" y=\"-200.8\" font-family=\"Times New Roman,serif\" font-size=\"14.00\">class = 2</text>\r\n</g>\r\n<!-- 0&#45;&gt;8 -->\r\n<g id=\"edge8\" class=\"edge\"><title>0&#45;&gt;8</title>\r\n<path fill=\"none\" stroke=\"black\" d=\"M648.837,-296.884C659.181,-287.709 670.522,-277.65 681.264,-268.123\"/>\r\n<polygon fill=\"black\" stroke=\"black\" points=\"683.798,-270.553 688.957,-261.299 679.153,-265.317 683.798,-270.553\"/>\r\n<text text-anchor=\"middle\" x=\"687.462\" y=\"-282.555\" font-family=\"Times New Roman,serif\" font-size=\"14.00\">False</text>\r\n</g>\r\n<!-- 2 -->\r\n<g id=\"node3\" class=\"node\"><title>2</title>\r\n<polygon fill=\"#ffffff\" stroke=\"black\" points=\"296,-157 157,-157 157,-89 296,-89 296,-157\"/>\r\n<text text-anchor=\"middle\" x=\"226.5\" y=\"-141.8\" font-family=\"Times New Roman,serif\" font-size=\"14.00\">t1_ban_rate &lt;= 0.066</text>\r\n<text text-anchor=\"middle\" x=\"226.5\" y=\"-126.8\" font-family=\"Times New Roman,serif\" font-size=\"14.00\">samples = 38.4%</text>\r\n<text text-anchor=\"middle\" x=\"226.5\" y=\"-111.8\" font-family=\"Times New Roman,serif\" font-size=\"14.00\">value = [0.501, 0.499]</text>\r\n<text text-anchor=\"middle\" x=\"226.5\" y=\"-96.8\" font-family=\"Times New Roman,serif\" font-size=\"14.00\">class = 2</text>\r\n</g>\r\n<!-- 1&#45;&gt;2 -->\r\n<g id=\"edge2\" class=\"edge\"><title>1&#45;&gt;2</title>\r\n<path fill=\"none\" stroke=\"black\" d=\"M427.711,-199.732C390.41,-185.693 344.345,-168.355 305.706,-153.812\"/>\r\n<polygon fill=\"black\" stroke=\"black\" points=\"306.645,-150.426 296.053,-150.179 304.179,-156.977 306.645,-150.426\"/>\r\n</g>\r\n<!-- 5 -->\r\n<g id=\"node6\" class=\"node\"><title>5</title>\r\n<polygon fill=\"#eaf5fc\" stroke=\"black\" points=\"573,-157 422,-157 422,-89 573,-89 573,-157\"/>\r\n<text text-anchor=\"middle\" x=\"497.5\" y=\"-141.8\" font-family=\"Times New Roman,serif\" font-size=\"14.00\">ban_rate_diff &lt;= &#45;0.005</text>\r\n<text text-anchor=\"middle\" x=\"497.5\" y=\"-126.8\" font-family=\"Times New Roman,serif\" font-size=\"14.00\">samples = 11.3%</text>\r\n<text text-anchor=\"middle\" x=\"497.5\" y=\"-111.8\" font-family=\"Times New Roman,serif\" font-size=\"14.00\">value = [0.472, 0.528]</text>\r\n<text text-anchor=\"middle\" x=\"497.5\" y=\"-96.8\" font-family=\"Times New Roman,serif\" font-size=\"14.00\">class = 1</text>\r\n</g>\r\n<!-- 1&#45;&gt;5 -->\r\n<g id=\"edge5\" class=\"edge\"><title>1&#45;&gt;5</title>\r\n<path fill=\"none\" stroke=\"black\" d=\"M497.5,-192.884C497.5,-184.778 497.5,-175.982 497.5,-167.472\"/>\r\n<polygon fill=\"black\" stroke=\"black\" points=\"501,-167.299 497.5,-157.299 494,-167.299 501,-167.299\"/>\r\n</g>\r\n<!-- 3 -->\r\n<g id=\"node4\" class=\"node\"><title>3</title>\r\n<polygon fill=\"#f5fafe\" stroke=\"black\" points=\"139,-53 0,-53 0,-0 139,-0 139,-53\"/>\r\n<text text-anchor=\"middle\" x=\"69.5\" y=\"-37.8\" font-family=\"Times New Roman,serif\" font-size=\"14.00\">samples = 18.6%</text>\r\n<text text-anchor=\"middle\" x=\"69.5\" y=\"-22.8\" font-family=\"Times New Roman,serif\" font-size=\"14.00\">value = [0.486, 0.514]</text>\r\n<text text-anchor=\"middle\" x=\"69.5\" y=\"-7.8\" font-family=\"Times New Roman,serif\" font-size=\"14.00\">class = 1</text>\r\n</g>\r\n<!-- 2&#45;&gt;3 -->\r\n<g id=\"edge3\" class=\"edge\"><title>2&#45;&gt;3</title>\r\n<path fill=\"none\" stroke=\"black\" d=\"M171.589,-88.9485C155.175,-79.0686 137.244,-68.2758 121.053,-58.5305\"/>\r\n<polygon fill=\"black\" stroke=\"black\" points=\"122.631,-55.395 112.258,-53.2367 119.021,-61.3924 122.631,-55.395\"/>\r\n</g>\r\n<!-- 4 -->\r\n<g id=\"node5\" class=\"node\"><title>4</title>\r\n<polygon fill=\"#fef8f4\" stroke=\"black\" points=\"296,-53 157,-53 157,-0 296,-0 296,-53\"/>\r\n<text text-anchor=\"middle\" x=\"226.5\" y=\"-37.8\" font-family=\"Times New Roman,serif\" font-size=\"14.00\">samples = 19.7%</text>\r\n<text text-anchor=\"middle\" x=\"226.5\" y=\"-22.8\" font-family=\"Times New Roman,serif\" font-size=\"14.00\">value = [0.514, 0.486]</text>\r\n<text text-anchor=\"middle\" x=\"226.5\" y=\"-7.8\" font-family=\"Times New Roman,serif\" font-size=\"14.00\">class = 2</text>\r\n</g>\r\n<!-- 2&#45;&gt;4 -->\r\n<g id=\"edge4\" class=\"edge\"><title>2&#45;&gt;4</title>\r\n<path fill=\"none\" stroke=\"black\" d=\"M226.5,-88.9485C226.5,-80.7153 226.5,-71.848 226.5,-63.4814\"/>\r\n<polygon fill=\"black\" stroke=\"black\" points=\"230,-63.2367 226.5,-53.2367 223,-63.2367 230,-63.2367\"/>\r\n</g>\r\n<!-- 6 -->\r\n<g id=\"node7\" class=\"node\"><title>6</title>\r\n<polygon fill=\"#eef6fd\" stroke=\"black\" points=\"453,-53 314,-53 314,-0 453,-0 453,-53\"/>\r\n<text text-anchor=\"middle\" x=\"383.5\" y=\"-37.8\" font-family=\"Times New Roman,serif\" font-size=\"14.00\">samples = 10.8%</text>\r\n<text text-anchor=\"middle\" x=\"383.5\" y=\"-22.8\" font-family=\"Times New Roman,serif\" font-size=\"14.00\">value = [0.477, 0.523]</text>\r\n<text text-anchor=\"middle\" x=\"383.5\" y=\"-7.8\" font-family=\"Times New Roman,serif\" font-size=\"14.00\">class = 1</text>\r\n</g>\r\n<!-- 5&#45;&gt;6 -->\r\n<g id=\"edge6\" class=\"edge\"><title>5&#45;&gt;6</title>\r\n<path fill=\"none\" stroke=\"black\" d=\"M457.628,-88.9485C446.262,-79.526 433.893,-69.2731 422.574,-59.8906\"/>\r\n<polygon fill=\"black\" stroke=\"black\" points=\"424.48,-56.924 414.547,-53.2367 420.013,-62.3132 424.48,-56.924\"/>\r\n</g>\r\n<!-- 7 -->\r\n<g id=\"node8\" class=\"node\"><title>7</title>\r\n<polygon fill=\"#a6d3f3\" stroke=\"black\" points=\"610,-53 471,-53 471,-0 610,-0 610,-53\"/>\r\n<text text-anchor=\"middle\" x=\"540.5\" y=\"-37.8\" font-family=\"Times New Roman,serif\" font-size=\"14.00\">samples = 0.5%</text>\r\n<text text-anchor=\"middle\" x=\"540.5\" y=\"-22.8\" font-family=\"Times New Roman,serif\" font-size=\"14.00\">value = [0.354, 0.646]</text>\r\n<text text-anchor=\"middle\" x=\"540.5\" y=\"-7.8\" font-family=\"Times New Roman,serif\" font-size=\"14.00\">class = 1</text>\r\n</g>\r\n<!-- 5&#45;&gt;7 -->\r\n<g id=\"edge7\" class=\"edge\"><title>5&#45;&gt;7</title>\r\n<path fill=\"none\" stroke=\"black\" d=\"M512.539,-88.9485C516.452,-80.3494 520.68,-71.0586 524.634,-62.3689\"/>\r\n<polygon fill=\"black\" stroke=\"black\" points=\"527.833,-63.7883 528.789,-53.2367 521.462,-60.8891 527.833,-63.7883\"/>\r\n</g>\r\n<!-- 9 -->\r\n<g id=\"node10\" class=\"node\"><title>9</title>\r\n<polygon fill=\"#e89253\" stroke=\"black\" points=\"796,-157 657,-157 657,-89 796,-89 796,-157\"/>\r\n<text text-anchor=\"middle\" x=\"726.5\" y=\"-141.8\" font-family=\"Times New Roman,serif\" font-size=\"14.00\">t1_ban_rate &lt;= 0.037</text>\r\n<text text-anchor=\"middle\" x=\"726.5\" y=\"-126.8\" font-family=\"Times New Roman,serif\" font-size=\"14.00\">samples = 0.0%</text>\r\n<text text-anchor=\"middle\" x=\"726.5\" y=\"-111.8\" font-family=\"Times New Roman,serif\" font-size=\"14.00\">value = [0.882, 0.118]</text>\r\n<text text-anchor=\"middle\" x=\"726.5\" y=\"-96.8\" font-family=\"Times New Roman,serif\" font-size=\"14.00\">class = 2</text>\r\n</g>\r\n<!-- 8&#45;&gt;9 -->\r\n<g id=\"edge9\" class=\"edge\"><title>8&#45;&gt;9</title>\r\n<path fill=\"none\" stroke=\"black\" d=\"M726.5,-192.884C726.5,-184.778 726.5,-175.982 726.5,-167.472\"/>\r\n<polygon fill=\"black\" stroke=\"black\" points=\"730,-167.299 726.5,-157.299 723,-167.299 730,-167.299\"/>\r\n</g>\r\n<!-- 12 -->\r\n<g id=\"node13\" class=\"node\"><title>12</title>\r\n<polygon fill=\"#fdf4ee\" stroke=\"black\" points=\"1058.5,-157 912.5,-157 912.5,-89 1058.5,-89 1058.5,-157\"/>\r\n<text text-anchor=\"middle\" x=\"985.5\" y=\"-141.8\" font-family=\"Times New Roman,serif\" font-size=\"14.00\">ban_rate_diff &lt;= 0.001</text>\r\n<text text-anchor=\"middle\" x=\"985.5\" y=\"-126.8\" font-family=\"Times New Roman,serif\" font-size=\"14.00\">samples = 50.3%</text>\r\n<text text-anchor=\"middle\" x=\"985.5\" y=\"-111.8\" font-family=\"Times New Roman,serif\" font-size=\"14.00\">value = [0.523, 0.477]</text>\r\n<text text-anchor=\"middle\" x=\"985.5\" y=\"-96.8\" font-family=\"Times New Roman,serif\" font-size=\"14.00\">class = 2</text>\r\n</g>\r\n<!-- 8&#45;&gt;12 -->\r\n<g id=\"edge12\" class=\"edge\"><title>8&#45;&gt;12</title>\r\n<path fill=\"none\" stroke=\"black\" d=\"M796.248,-198.532C829.116,-185.587 868.562,-170.053 902.915,-156.524\"/>\r\n<polygon fill=\"black\" stroke=\"black\" points=\"904.438,-159.686 912.46,-152.765 901.873,-153.173 904.438,-159.686\"/>\r\n</g>\r\n<!-- 10 -->\r\n<g id=\"node11\" class=\"node\"><title>10</title>\r\n<polygon fill=\"#399de5\" stroke=\"black\" points=\"740.5,-53 628.5,-53 628.5,-0 740.5,-0 740.5,-53\"/>\r\n<text text-anchor=\"middle\" x=\"684.5\" y=\"-37.8\" font-family=\"Times New Roman,serif\" font-size=\"14.00\">samples = 0.0%</text>\r\n<text text-anchor=\"middle\" x=\"684.5\" y=\"-22.8\" font-family=\"Times New Roman,serif\" font-size=\"14.00\">value = [0.0, 1.0]</text>\r\n<text text-anchor=\"middle\" x=\"684.5\" y=\"-7.8\" font-family=\"Times New Roman,serif\" font-size=\"14.00\">class = 1</text>\r\n</g>\r\n<!-- 9&#45;&gt;10 -->\r\n<g id=\"edge10\" class=\"edge\"><title>9&#45;&gt;10</title>\r\n<path fill=\"none\" stroke=\"black\" d=\"M711.81,-88.9485C708.029,-80.4408 703.947,-71.2562 700.121,-62.6464\"/>\r\n<polygon fill=\"black\" stroke=\"black\" points=\"703.198,-60.9533 695.939,-53.2367 696.802,-63.7963 703.198,-60.9533\"/>\r\n</g>\r\n<!-- 11 -->\r\n<g id=\"node12\" class=\"node\"><title>11</title>\r\n<polygon fill=\"#e78946\" stroke=\"black\" points=\"898,-53 759,-53 759,-0 898,-0 898,-53\"/>\r\n<text text-anchor=\"middle\" x=\"828.5\" y=\"-37.8\" font-family=\"Times New Roman,serif\" font-size=\"14.00\">samples = 0.0%</text>\r\n<text text-anchor=\"middle\" x=\"828.5\" y=\"-22.8\" font-family=\"Times New Roman,serif\" font-size=\"14.00\">value = [0.938, 0.062]</text>\r\n<text text-anchor=\"middle\" x=\"828.5\" y=\"-7.8\" font-family=\"Times New Roman,serif\" font-size=\"14.00\">class = 2</text>\r\n</g>\r\n<!-- 9&#45;&gt;11 -->\r\n<g id=\"edge11\" class=\"edge\"><title>9&#45;&gt;11</title>\r\n<path fill=\"none\" stroke=\"black\" d=\"M762.175,-88.9485C772.246,-79.6175 783.197,-69.4722 793.244,-60.1641\"/>\r\n<polygon fill=\"black\" stroke=\"black\" points=\"795.764,-62.6004 800.721,-53.2367 791.006,-57.4655 795.764,-62.6004\"/>\r\n</g>\r\n<!-- 13 -->\r\n<g id=\"node14\" class=\"node\"><title>13</title>\r\n<polygon fill=\"#61b1ea\" stroke=\"black\" points=\"1055,-53 916,-53 916,-0 1055,-0 1055,-53\"/>\r\n<text text-anchor=\"middle\" x=\"985.5\" y=\"-37.8\" font-family=\"Times New Roman,serif\" font-size=\"14.00\">samples = 0.1%</text>\r\n<text text-anchor=\"middle\" x=\"985.5\" y=\"-22.8\" font-family=\"Times New Roman,serif\" font-size=\"14.00\">value = [0.167, 0.833]</text>\r\n<text text-anchor=\"middle\" x=\"985.5\" y=\"-7.8\" font-family=\"Times New Roman,serif\" font-size=\"14.00\">class = 1</text>\r\n</g>\r\n<!-- 12&#45;&gt;13 -->\r\n<g id=\"edge13\" class=\"edge\"><title>12&#45;&gt;13</title>\r\n<path fill=\"none\" stroke=\"black\" d=\"M985.5,-88.9485C985.5,-80.7153 985.5,-71.848 985.5,-63.4814\"/>\r\n<polygon fill=\"black\" stroke=\"black\" points=\"989,-63.2367 985.5,-53.2367 982,-63.2367 989,-63.2367\"/>\r\n</g>\r\n<!-- 14 -->\r\n<g id=\"node15\" class=\"node\"><title>14</title>\r\n<polygon fill=\"#fdf4ee\" stroke=\"black\" points=\"1212,-53 1073,-53 1073,-0 1212,-0 1212,-53\"/>\r\n<text text-anchor=\"middle\" x=\"1142.5\" y=\"-37.8\" font-family=\"Times New Roman,serif\" font-size=\"14.00\">samples = 50.3%</text>\r\n<text text-anchor=\"middle\" x=\"1142.5\" y=\"-22.8\" font-family=\"Times New Roman,serif\" font-size=\"14.00\">value = [0.523, 0.477]</text>\r\n<text text-anchor=\"middle\" x=\"1142.5\" y=\"-7.8\" font-family=\"Times New Roman,serif\" font-size=\"14.00\">class = 2</text>\r\n</g>\r\n<!-- 12&#45;&gt;14 -->\r\n<g id=\"edge14\" class=\"edge\"><title>12&#45;&gt;14</title>\r\n<path fill=\"none\" stroke=\"black\" d=\"M1040.41,-88.9485C1056.83,-79.0686 1074.76,-68.2758 1090.95,-58.5305\"/>\r\n<polygon fill=\"black\" stroke=\"black\" points=\"1092.98,-61.3924 1099.74,-53.2367 1089.37,-55.395 1092.98,-61.3924\"/>\r\n</g>\r\n</g>\r\n</svg>\r\n"
          },
          "metadata": {
            "tags": []
          },
          "execution_count": 275
        }
      ]
    },
    {
      "cell_type": "code",
      "metadata": {
        "id": "Ddsg9xpHuUoV",
        "colab_type": "code",
        "colab": {
          "base_uri": "https://localhost:8080/",
          "height": 34
        },
        "outputId": "4559a01b-f8c8-48b6-b36c-9e243190d6d2"
      },
      "source": [
        "# Same but with logistic regression instead\n",
        "from sklearn.linear_model import LogisticRegression\n",
        "\n",
        "pipeline = make_pipeline(\n",
        "    ce.OrdinalEncoder(),\n",
        "    LogisticRegression()\n",
        ")\n",
        "\n",
        "pipeline.fit(X_train, y_train)\n",
        "print('Logistic regression accuracy:', pipeline.score(X_val, y_val))"
      ],
      "execution_count": 276,
      "outputs": [
        {
          "output_type": "stream",
          "text": [
            "Logistic regression accuracy: 0.5087959789810372\n"
          ],
          "name": "stdout"
        }
      ]
    },
    {
      "cell_type": "markdown",
      "metadata": {
        "id": "j6KiPoF6ujgU",
        "colab_type": "text"
      },
      "source": [
        "Well now I'm a bit worried, I had really hoped that finding and using statistics from each champion would at least make some difference, but I'm still just tossing a coin here.  But I still have a lot of things to try, such as other encoding methods, other models, and other feature engineering.  To be continued..."
      ]
    }
  ]
}