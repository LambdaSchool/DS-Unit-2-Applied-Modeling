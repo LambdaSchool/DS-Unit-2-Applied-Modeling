{
  "nbformat": 4,
  "nbformat_minor": 0,
  "metadata": {
    "jupytext": {
      "cell_metadata_filter": "-all",
      "main_language": "python",
      "notebook_metadata_filter": "-all"
    },
    "kernelspec": {
      "display_name": "Python 3",
      "language": "python",
      "name": "python3"
    },
    "language_info": {
      "codemirror_mode": {
        "name": "ipython",
        "version": 3
      },
      "file_extension": ".py",
      "mimetype": "text/x-python",
      "name": "python",
      "nbconvert_exporter": "python",
      "pygments_lexer": "ipython3",
      "version": "3.7.3"
    },
    "colab": {
      "name": "LS_DS_232_assignment.ipynb",
      "provenance": [],
      "collapsed_sections": [],
      "include_colab_link": true
    }
  },
  "cells": [
    {
      "cell_type": "markdown",
      "metadata": {
        "id": "view-in-github",
        "colab_type": "text"
      },
      "source": [
        "<a href=\"https://colab.research.google.com/github/worldwidekatie/DS-Unit-2-Applied-Modeling/blob/master/module2-wrangle-ml-datasets/LS_DS_232_assignment.ipynb\" target=\"_parent\"><img src=\"https://colab.research.google.com/assets/colab-badge.svg\" alt=\"Open In Colab\"/></a>"
      ]
    },
    {
      "cell_type": "markdown",
      "metadata": {
        "id": "NY_S-KEfV60Z",
        "colab_type": "text"
      },
      "source": [
        "Lambda School Data Science\n",
        "\n",
        "*Unit 2, Sprint 3, Module 1*\n",
        "\n",
        "---\n",
        "\n",
        "\n",
        "# Wrangle ML datasets\n",
        "\n",
        "- [ ] Continue to clean and explore your data. \n",
        "- [ ] For the evaluation metric you chose, what score would you get just by guessing?\n",
        "- [ ] Can you make a fast, first model that beats guessing?\n",
        "\n",
        "**We recommend that you use your portfolio project dataset for all assignments this sprint.**\n",
        "\n",
        "**But if you aren't ready yet, or you want more practice, then use the New York City property sales dataset for today's assignment.** Follow the instructions below, to just keep a subset for the Tribeca neighborhood, and remove outliers or dirty data. [Here's a video walkthrough](https://youtu.be/pPWFw8UtBVg?t=584) you can refer to if you get stuck or want hints!\n",
        "\n",
        "- Data Source: [NYC OpenData: NYC Citywide Rolling Calendar Sales](https://data.cityofnewyork.us/dataset/NYC-Citywide-Rolling-Calendar-Sales/usep-8jbt)\n",
        "- Glossary: [NYC Department of Finance: Rolling Sales Data](https://www1.nyc.gov/site/finance/taxes/property-rolling-sales-data.page)"
      ]
    },
    {
      "cell_type": "code",
      "metadata": {
        "id": "Evp9Az4-FQuQ",
        "colab_type": "code",
        "colab": {
          "base_uri": "https://localhost:8080/",
          "height": 224
        },
        "outputId": "7ba85c91-7f74-4648-fc52-bde436513b7f"
      },
      "source": [
        "from sklearn.model_selection import train_test_split\n",
        "import numpy as np\n",
        "import matplotlib.pyplot as plt\n",
        "import sklearn as sk\n",
        "!pip install category_encoders\n",
        "import category_encoders as ce\n",
        "from sklearn.ensemble import RandomForestClassifier\n",
        "from sklearn.pipeline import make_pipeline\n",
        "from sklearn.model_selection import RandomizedSearchCV\n",
        "from scipy.stats import randint, uniform\n",
        "from sklearn.metrics import accuracy_score\n",
        "from sklearn.metrics import confusion_matrix"
      ],
      "execution_count": 40,
      "outputs": [
        {
          "output_type": "stream",
          "text": [
            "Requirement already satisfied: category_encoders in /usr/local/lib/python3.6/dist-packages (2.1.0)\n",
            "Requirement already satisfied: scikit-learn>=0.20.0 in /usr/local/lib/python3.6/dist-packages (from category_encoders) (0.22.2.post1)\n",
            "Requirement already satisfied: numpy>=1.11.3 in /usr/local/lib/python3.6/dist-packages (from category_encoders) (1.18.2)\n",
            "Requirement already satisfied: scipy>=0.19.0 in /usr/local/lib/python3.6/dist-packages (from category_encoders) (1.4.1)\n",
            "Requirement already satisfied: pandas>=0.21.1 in /usr/local/lib/python3.6/dist-packages (from category_encoders) (1.0.3)\n",
            "Requirement already satisfied: statsmodels>=0.6.1 in /usr/local/lib/python3.6/dist-packages (from category_encoders) (0.10.2)\n",
            "Requirement already satisfied: patsy>=0.4.1 in /usr/local/lib/python3.6/dist-packages (from category_encoders) (0.5.1)\n",
            "Requirement already satisfied: joblib>=0.11 in /usr/local/lib/python3.6/dist-packages (from scikit-learn>=0.20.0->category_encoders) (0.14.1)\n",
            "Requirement already satisfied: python-dateutil>=2.6.1 in /usr/local/lib/python3.6/dist-packages (from pandas>=0.21.1->category_encoders) (2.8.1)\n",
            "Requirement already satisfied: pytz>=2017.2 in /usr/local/lib/python3.6/dist-packages (from pandas>=0.21.1->category_encoders) (2018.9)\n",
            "Requirement already satisfied: six in /usr/local/lib/python3.6/dist-packages (from patsy>=0.4.1->category_encoders) (1.12.0)\n"
          ],
          "name": "stdout"
        }
      ]
    },
    {
      "cell_type": "code",
      "metadata": {
        "id": "R4b-6zWFV60p",
        "colab_type": "code",
        "colab": {
          "base_uri": "https://localhost:8080/",
          "height": 479
        },
        "outputId": "2e5927a6-0632-46f5-e5b1-09c3c5293fe0"
      },
      "source": [
        "import pandas as pd\n",
        "df_orig = pd.read_csv('https://raw.githubusercontent.com/worldwidekatie/Build_Week_2/master/Final_IRA.csv')\n",
        "\n",
        "df = df_orig[['content',\t'region',\t'language',\t'publish_date',\t'harvested_date',\t\n",
        "             'following',\t'followers',\t'updates',\t'post_type',\t'account_type',\t\n",
        "             'new_june_2018',\t'retweet',\t'account_category']]\n",
        "df.head()"
      ],
      "execution_count": 41,
      "outputs": [
        {
          "output_type": "execute_result",
          "data": {
            "text/html": [
              "<div>\n",
              "<style scoped>\n",
              "    .dataframe tbody tr th:only-of-type {\n",
              "        vertical-align: middle;\n",
              "    }\n",
              "\n",
              "    .dataframe tbody tr th {\n",
              "        vertical-align: top;\n",
              "    }\n",
              "\n",
              "    .dataframe thead th {\n",
              "        text-align: right;\n",
              "    }\n",
              "</style>\n",
              "<table border=\"1\" class=\"dataframe\">\n",
              "  <thead>\n",
              "    <tr style=\"text-align: right;\">\n",
              "      <th></th>\n",
              "      <th>content</th>\n",
              "      <th>region</th>\n",
              "      <th>language</th>\n",
              "      <th>publish_date</th>\n",
              "      <th>harvested_date</th>\n",
              "      <th>following</th>\n",
              "      <th>followers</th>\n",
              "      <th>updates</th>\n",
              "      <th>post_type</th>\n",
              "      <th>account_type</th>\n",
              "      <th>new_june_2018</th>\n",
              "      <th>retweet</th>\n",
              "      <th>account_category</th>\n",
              "    </tr>\n",
              "  </thead>\n",
              "  <tbody>\n",
              "    <tr>\n",
              "      <th>0</th>\n",
              "      <td>#adee RT davis1988will: Congratulations for Ma...</td>\n",
              "      <td>United States</td>\n",
              "      <td>English</td>\n",
              "      <td>7/30/2017 21:18</td>\n",
              "      <td>7/30/2017 21:18</td>\n",
              "      <td>995</td>\n",
              "      <td>313</td>\n",
              "      <td>332</td>\n",
              "      <td>QUOTE_TWEET</td>\n",
              "      <td>Right</td>\n",
              "      <td>0</td>\n",
              "      <td>1</td>\n",
              "      <td>RightTroll</td>\n",
              "    </tr>\n",
              "    <tr>\n",
              "      <th>1</th>\n",
              "      <td>RT SSOL getting attention. It's penny play day...</td>\n",
              "      <td>United States</td>\n",
              "      <td>English</td>\n",
              "      <td>6/27/2015 21:47</td>\n",
              "      <td>6/27/2015 21:48</td>\n",
              "      <td>7</td>\n",
              "      <td>35</td>\n",
              "      <td>2213</td>\n",
              "      <td>NaN</td>\n",
              "      <td>Commercial</td>\n",
              "      <td>1</td>\n",
              "      <td>0</td>\n",
              "      <td>Commercial</td>\n",
              "    </tr>\n",
              "    <tr>\n",
              "      <th>2</th>\n",
              "      <td>#laup SHOCK VIDEO : Antifa Thugs Break a Latin...</td>\n",
              "      <td>Unknown</td>\n",
              "      <td>English</td>\n",
              "      <td>8/17/2017 2:20</td>\n",
              "      <td>8/17/2017 2:21</td>\n",
              "      <td>36</td>\n",
              "      <td>6</td>\n",
              "      <td>793</td>\n",
              "      <td>NaN</td>\n",
              "      <td>Right</td>\n",
              "      <td>0</td>\n",
              "      <td>0</td>\n",
              "      <td>RightTroll</td>\n",
              "    </tr>\n",
              "    <tr>\n",
              "      <th>3</th>\n",
              "      <td>PROOF Melania Has Done FAR MORE for Disaster R...</td>\n",
              "      <td>Unknown</td>\n",
              "      <td>English</td>\n",
              "      <td>9/2/2017 3:09</td>\n",
              "      <td>9/2/2017 3:09</td>\n",
              "      <td>4984</td>\n",
              "      <td>925</td>\n",
              "      <td>3411</td>\n",
              "      <td>NaN</td>\n",
              "      <td>Right</td>\n",
              "      <td>0</td>\n",
              "      <td>0</td>\n",
              "      <td>RightTroll</td>\n",
              "    </tr>\n",
              "    <tr>\n",
              "      <th>4</th>\n",
              "      <td>An USC professor, Raphael Bostic, named first ...</td>\n",
              "      <td>United States</td>\n",
              "      <td>English</td>\n",
              "      <td>3/15/2017 22:00</td>\n",
              "      <td>3/15/2017 22:00</td>\n",
              "      <td>14207</td>\n",
              "      <td>17561</td>\n",
              "      <td>3852</td>\n",
              "      <td>NaN</td>\n",
              "      <td>left</td>\n",
              "      <td>0</td>\n",
              "      <td>0</td>\n",
              "      <td>LeftTroll</td>\n",
              "    </tr>\n",
              "  </tbody>\n",
              "</table>\n",
              "</div>"
            ],
            "text/plain": [
              "                                             content  ... account_category\n",
              "0  #adee RT davis1988will: Congratulations for Ma...  ...       RightTroll\n",
              "1  RT SSOL getting attention. It's penny play day...  ...       Commercial\n",
              "2  #laup SHOCK VIDEO : Antifa Thugs Break a Latin...  ...       RightTroll\n",
              "3  PROOF Melania Has Done FAR MORE for Disaster R...  ...       RightTroll\n",
              "4  An USC professor, Raphael Bostic, named first ...  ...        LeftTroll\n",
              "\n",
              "[5 rows x 13 columns]"
            ]
          },
          "metadata": {
            "tags": []
          },
          "execution_count": 41
        }
      ]
    },
    {
      "cell_type": "markdown",
      "metadata": {
        "id": "qJ7XOk7oV600",
        "colab_type": "text"
      },
      "source": [
        "Your code starts here:"
      ]
    },
    {
      "cell_type": "code",
      "metadata": {
        "id": "klVQ8JqVFDIg",
        "colab_type": "code",
        "colab": {
          "base_uri": "https://localhost:8080/",
          "height": 51
        },
        "outputId": "22e58782-02c3-41af-e31b-126a1450ce40"
      },
      "source": [
        "train = df[(df['new_june_2018'] == 0)]\n",
        "test = df[(df['new_june_2018'] == 1)]\n",
        "print(train.shape, test.shape)\n",
        "\n",
        "train, val = train_test_split(train, random_state=42)\n",
        "print(train.shape, val.shape)"
      ],
      "execution_count": 42,
      "outputs": [
        {
          "output_type": "stream",
          "text": [
            "(9380, 13) (1266, 13)\n",
            "(7035, 13) (2345, 13)\n"
          ],
          "name": "stdout"
        }
      ]
    },
    {
      "cell_type": "code",
      "metadata": {
        "id": "SLdtybdOFDxA",
        "colab_type": "code",
        "colab": {
          "base_uri": "https://localhost:8080/",
          "height": 139
        },
        "outputId": "af1d359a-9b38-49d4-dd5e-80a4286b87a6"
      },
      "source": [
        "def wrangle(X):\n",
        "  X['region'] = X['region'].replace({np.NaN: 'Unknown'})\n",
        "  \n",
        "  return X\n",
        "\n",
        "train = wrangle(train)\n",
        "val = wrangle(val)\n",
        "test = wrangle(test)\n",
        "\n",
        "target = 'retweet'\n",
        "features = ['region',\t'publish_date',\t'harvested_date',\t\n",
        "             'following',\t'followers',\t'updates', 'account_type',\t\n",
        "            \t'account_category']\n",
        "\n",
        "X_train = train[features]\n",
        "y_train = train[target]\n",
        "X_val = val[features]\n",
        "y_val = val[target]\n",
        "X_test = test[features]\n",
        "y_test = test[target]"
      ],
      "execution_count": 43,
      "outputs": [
        {
          "output_type": "stream",
          "text": [
            "/usr/local/lib/python3.6/dist-packages/ipykernel_launcher.py:2: SettingWithCopyWarning: \n",
            "A value is trying to be set on a copy of a slice from a DataFrame.\n",
            "Try using .loc[row_indexer,col_indexer] = value instead\n",
            "\n",
            "See the caveats in the documentation: https://pandas.pydata.org/pandas-docs/stable/user_guide/indexing.html#returning-a-view-versus-a-copy\n",
            "  \n"
          ],
          "name": "stderr"
        }
      ]
    },
    {
      "cell_type": "code",
      "metadata": {
        "id": "0m7Npe-qFDtq",
        "colab_type": "code",
        "colab": {
          "base_uri": "https://localhost:8080/",
          "height": 68
        },
        "outputId": "b5de8f0f-4ec5-4714-84a2-b189a5673445"
      },
      "source": [
        "pipeline = make_pipeline(\n",
        "    ce.OrdinalEncoder(),\n",
        "    RandomForestClassifier(random_state=42, n_jobs=-1)\n",
        ")\n",
        "param_distributions = { \n",
        "    'randomforestclassifier__max_depth': [20,21,22,23,24,25,26,27,28,29,30], \n",
        "    'randomforestclassifier__min_samples_leaf': [10,11,12,13,14,15,16,17,18,19,20]\n",
        "}\n",
        "\n",
        "\n",
        "search = RandomizedSearchCV(\n",
        "    pipeline, \n",
        "    param_distributions=param_distributions, \n",
        "    n_iter=5, \n",
        "    cv=3, \n",
        "    scoring='accuracy', \n",
        "    verbose=1, \n",
        "    return_train_score=True\n",
        ")\n",
        "\n",
        "search.fit(X_train, y_train);"
      ],
      "execution_count": 44,
      "outputs": [
        {
          "output_type": "stream",
          "text": [
            "Fitting 3 folds for each of 5 candidates, totalling 15 fits\n"
          ],
          "name": "stdout"
        },
        {
          "output_type": "stream",
          "text": [
            "[Parallel(n_jobs=1)]: Using backend SequentialBackend with 1 concurrent workers.\n",
            "[Parallel(n_jobs=1)]: Done  15 out of  15 | elapsed:   12.5s finished\n"
          ],
          "name": "stderr"
        }
      ]
    },
    {
      "cell_type": "code",
      "metadata": {
        "id": "T1pZlwHgFDqH",
        "colab_type": "code",
        "colab": {
          "base_uri": "https://localhost:8080/",
          "height": 85
        },
        "outputId": "a0ff94b2-93a9-4ca6-cf89-d7ce31c305f2"
      },
      "source": [
        "print('Best hyperparameters', search.best_params_)\n",
        "print('Cross-validation Accuracy', -search.best_score_)\n",
        "pipeline = search.best_estimator_\n",
        "print(\"Train Accuracy:\", pipeline.score(X_train, y_train))\n",
        "print(\"Validation Accuracy:\", pipeline.score(X_val, y_val))"
      ],
      "execution_count": 45,
      "outputs": [
        {
          "output_type": "stream",
          "text": [
            "Best hyperparameters {'randomforestclassifier__min_samples_leaf': 12, 'randomforestclassifier__max_depth': 29}\n",
            "Cross-validation Accuracy -0.9169864960909737\n",
            "Train Accuracy: 0.9344705046197583\n",
            "Validation Accuracy: 0.9168443496801706\n"
          ],
          "name": "stdout"
        }
      ]
    },
    {
      "cell_type": "code",
      "metadata": {
        "id": "g0b6pMiamTak",
        "colab_type": "code",
        "colab": {
          "base_uri": "https://localhost:8080/",
          "height": 34
        },
        "outputId": "68c13df4-5eb9-4edc-92df-5b4d027efba1"
      },
      "source": [
        "print(\"Test Accuracy:\", pipeline.score(X_test, y_test))"
      ],
      "execution_count": 46,
      "outputs": [
        {
          "output_type": "stream",
          "text": [
            "Test Accuracy: 0.5710900473933649\n"
          ],
          "name": "stdout"
        }
      ]
    },
    {
      "cell_type": "code",
      "metadata": {
        "id": "tE9PTDQRFDms",
        "colab_type": "code",
        "colab": {
          "base_uri": "https://localhost:8080/",
          "height": 34
        },
        "outputId": "b019aaec-64d8-43db-ac42-25dfa50aefbe"
      },
      "source": [
        "y_pred = pipeline.predict(X_val)\n",
        "tn, fp, fn, tp = confusion_matrix(y_val, y_pred).ravel()\n",
        "(tn, fp, fn, tp)"
      ],
      "execution_count": 7,
      "outputs": [
        {
          "output_type": "execute_result",
          "data": {
            "text/plain": [
              "(1209, 127, 68, 941)"
            ]
          },
          "metadata": {
            "tags": []
          },
          "execution_count": 7
        }
      ]
    },
    {
      "cell_type": "code",
      "metadata": {
        "id": "oh4-nfjEFDi0",
        "colab_type": "code",
        "colab": {
          "base_uri": "https://localhost:8080/",
          "height": 34
        },
        "outputId": "977db8a1-62da-4938-90ec-eb1f9387c038"
      },
      "source": [
        "print(\"Precision:\", tp /(tp+fp))  \n",
        "print(\"Recall:\", tp/(tp+fn))"
      ],
      "execution_count": 8,
      "outputs": [
        {
          "output_type": "stream",
          "text": [
            "Precision: 0.8810861423220974\n"
          ],
          "name": "stdout"
        }
      ]
    },
    {
      "cell_type": "code",
      "metadata": {
        "id": "hNhZQcToFDe5",
        "colab_type": "code",
        "colab": {
          "base_uri": "https://localhost:8080/",
          "height": 34
        },
        "outputId": "61a0248b-c04f-4b4f-f727-b189940808fb"
      },
      "source": [
        "print(\"Recall:\", tp/(tp+fn))"
      ],
      "execution_count": 9,
      "outputs": [
        {
          "output_type": "stream",
          "text": [
            "Recall: 0.9326065411298315\n"
          ],
          "name": "stdout"
        }
      ]
    },
    {
      "cell_type": "code",
      "metadata": {
        "id": "dU4Z4LTCFDZL",
        "colab_type": "code",
        "colab": {
          "base_uri": "https://localhost:8080/",
          "height": 428
        },
        "outputId": "54df01b9-a36d-4121-c658-cb9fee9ba8aa"
      },
      "source": [
        "model = pipeline.named_steps['randomforestclassifier']\n",
        "encoder = pipeline.named_steps['ordinalencoder']\n",
        "encoded_columns = encoder.transform(X_val).columns\n",
        "importances = pd.Series(model.feature_importances_, encoded_columns)\n",
        "plt.figure(figsize=(10,7))\n",
        "importances.sort_values().plot.barh();"
      ],
      "execution_count": 11,
      "outputs": [
        {
          "output_type": "display_data",
          "data": {
            "image/png": "[encoded data removed]",
            "text/plain": [
              "<Figure size 720x504 with 1 Axes>"
            ]
          },
          "metadata": {
            "tags": [],
            "needs_background": "light"
          }
        }
      ]
    },
    {
      "cell_type": "markdown",
      "metadata": {
        "id": "aQhoICyTG54G",
        "colab_type": "text"
      },
      "source": [
        "## Gonna try some NLP\n",
        "### First, make my datset\n",
        "\n",
        "So I'm estimating with a very high estimate that .00005% of tweets are IRA tweets. It's probably less than that.\n",
        "\n",
        "If I use my above sample with the below thing that like .0066% IRA tweets so it's till too high but I'm gonna see what happens anyway with precision and recall and stuff to be a bit more realistic."
      ]
    },
    {
      "cell_type": "code",
      "metadata": {
        "id": "8ahJo5XDG4lc",
        "colab_type": "code",
        "colab": {
          "base_uri": "https://localhost:8080/",
          "height": 204
        },
        "outputId": "3acfafb0-fc1d-4c83-eccb-85d3fc19227b"
      },
      "source": [
        "df2 = pd.DataFrame(df_orig['content'])\n",
        "df2.head()"
      ],
      "execution_count": 31,
      "outputs": [
        {
          "output_type": "execute_result",
          "data": {
            "text/html": [
              "<div>\n",
              "<style scoped>\n",
              "    .dataframe tbody tr th:only-of-type {\n",
              "        vertical-align: middle;\n",
              "    }\n",
              "\n",
              "    .dataframe tbody tr th {\n",
              "        vertical-align: top;\n",
              "    }\n",
              "\n",
              "    .dataframe thead th {\n",
              "        text-align: right;\n",
              "    }\n",
              "</style>\n",
              "<table border=\"1\" class=\"dataframe\">\n",
              "  <thead>\n",
              "    <tr style=\"text-align: right;\">\n",
              "      <th></th>\n",
              "      <th>content</th>\n",
              "    </tr>\n",
              "  </thead>\n",
              "  <tbody>\n",
              "    <tr>\n",
              "      <th>0</th>\n",
              "      <td>#adee RT davis1988will: Congratulations for Ma...</td>\n",
              "    </tr>\n",
              "    <tr>\n",
              "      <th>1</th>\n",
              "      <td>RT SSOL getting attention. It's penny play day...</td>\n",
              "    </tr>\n",
              "    <tr>\n",
              "      <th>2</th>\n",
              "      <td>#laup SHOCK VIDEO : Antifa Thugs Break a Latin...</td>\n",
              "    </tr>\n",
              "    <tr>\n",
              "      <th>3</th>\n",
              "      <td>PROOF Melania Has Done FAR MORE for Disaster R...</td>\n",
              "    </tr>\n",
              "    <tr>\n",
              "      <th>4</th>\n",
              "      <td>An USC professor, Raphael Bostic, named first ...</td>\n",
              "    </tr>\n",
              "  </tbody>\n",
              "</table>\n",
              "</div>"
            ],
            "text/plain": [
              "                                             content\n",
              "0  #adee RT davis1988will: Congratulations for Ma...\n",
              "1  RT SSOL getting attention. It's penny play day...\n",
              "2  #laup SHOCK VIDEO : Antifa Thugs Break a Latin...\n",
              "3  PROOF Melania Has Done FAR MORE for Disaster R...\n",
              "4  An USC professor, Raphael Bostic, named first ..."
            ]
          },
          "metadata": {
            "tags": []
          },
          "execution_count": 31
        }
      ]
    },
    {
      "cell_type": "code",
      "metadata": {
        "id": "dMF6QMQOG2DY",
        "colab_type": "code",
        "colab": {}
      },
      "source": [
        "df2['target'] = pd.DataFrame([1]*len(df_orig['content']))\n",
        "df2.drop(df2.tail(1).index,inplace=True)"
      ],
      "execution_count": 0,
      "outputs": []
    },
    {
      "cell_type": "code",
      "metadata": {
        "id": "6Wre0ra2G2cK",
        "colab_type": "code",
        "colab": {
          "base_uri": "https://localhost:8080/",
          "height": 419
        },
        "outputId": "d4b2bb40-8bb8-4a12-86bf-c268853fc130"
      },
      "source": [
        "df2"
      ],
      "execution_count": 33,
      "outputs": [
        {
          "output_type": "execute_result",
          "data": {
            "text/html": [
              "<div>\n",
              "<style scoped>\n",
              "    .dataframe tbody tr th:only-of-type {\n",
              "        vertical-align: middle;\n",
              "    }\n",
              "\n",
              "    .dataframe tbody tr th {\n",
              "        vertical-align: top;\n",
              "    }\n",
              "\n",
              "    .dataframe thead th {\n",
              "        text-align: right;\n",
              "    }\n",
              "</style>\n",
              "<table border=\"1\" class=\"dataframe\">\n",
              "  <thead>\n",
              "    <tr style=\"text-align: right;\">\n",
              "      <th></th>\n",
              "      <th>content</th>\n",
              "      <th>target</th>\n",
              "    </tr>\n",
              "  </thead>\n",
              "  <tbody>\n",
              "    <tr>\n",
              "      <th>0</th>\n",
              "      <td>#adee RT davis1988will: Congratulations for Ma...</td>\n",
              "      <td>1.0</td>\n",
              "    </tr>\n",
              "    <tr>\n",
              "      <th>1</th>\n",
              "      <td>RT SSOL getting attention. It's penny play day...</td>\n",
              "      <td>1.0</td>\n",
              "    </tr>\n",
              "    <tr>\n",
              "      <th>2</th>\n",
              "      <td>#laup SHOCK VIDEO : Antifa Thugs Break a Latin...</td>\n",
              "      <td>1.0</td>\n",
              "    </tr>\n",
              "    <tr>\n",
              "      <th>3</th>\n",
              "      <td>PROOF Melania Has Done FAR MORE for Disaster R...</td>\n",
              "      <td>1.0</td>\n",
              "    </tr>\n",
              "    <tr>\n",
              "      <th>4</th>\n",
              "      <td>An USC professor, Raphael Bostic, named first ...</td>\n",
              "      <td>1.0</td>\n",
              "    </tr>\n",
              "    <tr>\n",
              "      <th>...</th>\n",
              "      <td>...</td>\n",
              "      <td>...</td>\n",
              "    </tr>\n",
              "    <tr>\n",
              "      <th>10641</th>\n",
              "      <td>Jay IDK - Cookie Addiction Ft. BJ The Chicago ...</td>\n",
              "      <td>1.0</td>\n",
              "    </tr>\n",
              "    <tr>\n",
              "      <th>10642</th>\n",
              "      <td>\"83 percent of white victims of murder were ki...</td>\n",
              "      <td>1.0</td>\n",
              "    </tr>\n",
              "    <tr>\n",
              "      <th>10643</th>\n",
              "      <td>Get digital distribution for all your children...</td>\n",
              "      <td>1.0</td>\n",
              "    </tr>\n",
              "    <tr>\n",
              "      <th>10644</th>\n",
              "      <td>Trump Loss in Iowa Exposes Weaknesses https://...</td>\n",
              "      <td>1.0</td>\n",
              "    </tr>\n",
              "    <tr>\n",
              "      <th>10645</th>\n",
              "      <td>FREE BEATS EVERY WEEK! CLICK HERE TO JOIN http...</td>\n",
              "      <td>1.0</td>\n",
              "    </tr>\n",
              "  </tbody>\n",
              "</table>\n",
              "<p>10646 rows × 2 columns</p>\n",
              "</div>"
            ],
            "text/plain": [
              "                                                 content  target\n",
              "0      #adee RT davis1988will: Congratulations for Ma...     1.0\n",
              "1      RT SSOL getting attention. It's penny play day...     1.0\n",
              "2      #laup SHOCK VIDEO : Antifa Thugs Break a Latin...     1.0\n",
              "3      PROOF Melania Has Done FAR MORE for Disaster R...     1.0\n",
              "4      An USC professor, Raphael Bostic, named first ...     1.0\n",
              "...                                                  ...     ...\n",
              "10641  Jay IDK - Cookie Addiction Ft. BJ The Chicago ...     1.0\n",
              "10642  \"83 percent of white victims of murder were ki...     1.0\n",
              "10643  Get digital distribution for all your children...     1.0\n",
              "10644  Trump Loss in Iowa Exposes Weaknesses https://...     1.0\n",
              "10645  FREE BEATS EVERY WEEK! CLICK HERE TO JOIN http...     1.0\n",
              "\n",
              "[10646 rows x 2 columns]"
            ]
          },
          "metadata": {
            "tags": []
          },
          "execution_count": 33
        }
      ]
    },
    {
      "cell_type": "code",
      "metadata": {
        "id": "GEhjGOxgV50e",
        "colab_type": "code",
        "colab": {
          "base_uri": "https://localhost:8080/",
          "height": 204
        },
        "outputId": "027250ca-b6db-4152-9704-f820b8d204f9"
      },
      "source": [
        "df3 = pd.read_csv('https://raw.githubusercontent.com/worldwidekatie/Build_Week_2/master/cleaned_non_ira4.csv')\n",
        "df3.head()"
      ],
      "execution_count": 34,
      "outputs": [
        {
          "output_type": "execute_result",
          "data": {
            "text/html": [
              "<div>\n",
              "<style scoped>\n",
              "    .dataframe tbody tr th:only-of-type {\n",
              "        vertical-align: middle;\n",
              "    }\n",
              "\n",
              "    .dataframe tbody tr th {\n",
              "        vertical-align: top;\n",
              "    }\n",
              "\n",
              "    .dataframe thead th {\n",
              "        text-align: right;\n",
              "    }\n",
              "</style>\n",
              "<table border=\"1\" class=\"dataframe\">\n",
              "  <thead>\n",
              "    <tr style=\"text-align: right;\">\n",
              "      <th></th>\n",
              "      <th>Unnamed: 0</th>\n",
              "      <th>text</th>\n",
              "      <th>target</th>\n",
              "    </tr>\n",
              "  </thead>\n",
              "  <tbody>\n",
              "    <tr>\n",
              "      <th>0</th>\n",
              "      <td>509689</td>\n",
              "      <td>@johnverhoeven thanks ;) I didn't get a cake w...</td>\n",
              "      <td>0</td>\n",
              "    </tr>\n",
              "    <tr>\n",
              "      <th>1</th>\n",
              "      <td>1332861</td>\n",
              "      <td>Back in the office. Actually very ready to be ...</td>\n",
              "      <td>0</td>\n",
              "    </tr>\n",
              "    <tr>\n",
              "      <th>2</th>\n",
              "      <td>1273502</td>\n",
              "      <td>@kirstiealley Sweet dreams!  XOX  The Flying t...</td>\n",
              "      <td>0</td>\n",
              "    </tr>\n",
              "    <tr>\n",
              "      <th>3</th>\n",
              "      <td>1316299</td>\n",
              "      <td>@jason_voorhees Cool - you're my 200th followe...</td>\n",
              "      <td>0</td>\n",
              "    </tr>\n",
              "    <tr>\n",
              "      <th>4</th>\n",
              "      <td>569431</td>\n",
              "      <td>Worried about my kittycat....don't think he'll...</td>\n",
              "      <td>0</td>\n",
              "    </tr>\n",
              "  </tbody>\n",
              "</table>\n",
              "</div>"
            ],
            "text/plain": [
              "   Unnamed: 0                                               text  target\n",
              "0      509689  @johnverhoeven thanks ;) I didn't get a cake w...       0\n",
              "1     1332861  Back in the office. Actually very ready to be ...       0\n",
              "2     1273502  @kirstiealley Sweet dreams!  XOX  The Flying t...       0\n",
              "3     1316299  @jason_voorhees Cool - you're my 200th followe...       0\n",
              "4      569431  Worried about my kittycat....don't think he'll...       0"
            ]
          },
          "metadata": {
            "tags": []
          },
          "execution_count": 34
        }
      ]
    },
    {
      "cell_type": "code",
      "metadata": {
        "id": "RhZ2tdqoiEfV",
        "colab_type": "code",
        "colab": {}
      },
      "source": [
        "df3['content'] = df3['text']\n",
        "df3 = pd.DataFrame(df3[['content', 'target']])"
      ],
      "execution_count": 0,
      "outputs": []
    },
    {
      "cell_type": "code",
      "metadata": {
        "id": "1Lx5K8QEiS0M",
        "colab_type": "code",
        "colab": {
          "base_uri": "https://localhost:8080/",
          "height": 204
        },
        "outputId": "2be1078e-8240-4927-9d30-5b1e889e1282"
      },
      "source": [
        "df3.head()"
      ],
      "execution_count": 36,
      "outputs": [
        {
          "output_type": "execute_result",
          "data": {
            "text/html": [
              "<div>\n",
              "<style scoped>\n",
              "    .dataframe tbody tr th:only-of-type {\n",
              "        vertical-align: middle;\n",
              "    }\n",
              "\n",
              "    .dataframe tbody tr th {\n",
              "        vertical-align: top;\n",
              "    }\n",
              "\n",
              "    .dataframe thead th {\n",
              "        text-align: right;\n",
              "    }\n",
              "</style>\n",
              "<table border=\"1\" class=\"dataframe\">\n",
              "  <thead>\n",
              "    <tr style=\"text-align: right;\">\n",
              "      <th></th>\n",
              "      <th>content</th>\n",
              "      <th>target</th>\n",
              "    </tr>\n",
              "  </thead>\n",
              "  <tbody>\n",
              "    <tr>\n",
              "      <th>0</th>\n",
              "      <td>@johnverhoeven thanks ;) I didn't get a cake w...</td>\n",
              "      <td>0</td>\n",
              "    </tr>\n",
              "    <tr>\n",
              "      <th>1</th>\n",
              "      <td>Back in the office. Actually very ready to be ...</td>\n",
              "      <td>0</td>\n",
              "    </tr>\n",
              "    <tr>\n",
              "      <th>2</th>\n",
              "      <td>@kirstiealley Sweet dreams!  XOX  The Flying t...</td>\n",
              "      <td>0</td>\n",
              "    </tr>\n",
              "    <tr>\n",
              "      <th>3</th>\n",
              "      <td>@jason_voorhees Cool - you're my 200th followe...</td>\n",
              "      <td>0</td>\n",
              "    </tr>\n",
              "    <tr>\n",
              "      <th>4</th>\n",
              "      <td>Worried about my kittycat....don't think he'll...</td>\n",
              "      <td>0</td>\n",
              "    </tr>\n",
              "  </tbody>\n",
              "</table>\n",
              "</div>"
            ],
            "text/plain": [
              "                                             content  target\n",
              "0  @johnverhoeven thanks ;) I didn't get a cake w...       0\n",
              "1  Back in the office. Actually very ready to be ...       0\n",
              "2  @kirstiealley Sweet dreams!  XOX  The Flying t...       0\n",
              "3  @jason_voorhees Cool - you're my 200th followe...       0\n",
              "4  Worried about my kittycat....don't think he'll...       0"
            ]
          },
          "metadata": {
            "tags": []
          },
          "execution_count": 36
        }
      ]
    },
    {
      "cell_type": "code",
      "metadata": {
        "id": "j_Vu8cPRiWe-",
        "colab_type": "code",
        "colab": {
          "base_uri": "https://localhost:8080/",
          "height": 34
        },
        "outputId": "e1724068-f0a8-456a-b6a5-d5e42a6dc533"
      },
      "source": [
        "df_final = pd.concat([df2, df3])\n",
        "df_final.shape"
      ],
      "execution_count": 37,
      "outputs": [
        {
          "output_type": "execute_result",
          "data": {
            "text/plain": [
              "(202646, 2)"
            ]
          },
          "metadata": {
            "tags": []
          },
          "execution_count": 37
        }
      ]
    },
    {
      "cell_type": "code",
      "metadata": {
        "id": "Yo8AgT6Li34s",
        "colab_type": "code",
        "colab": {}
      },
      "source": [
        "df_final.to_csv('ira_cleaned_data.csv')\n",
        "\n",
        "from google.colab import files\n",
        "files.download('ira_cleaned_data.csv')\n"
      ],
      "execution_count": 0,
      "outputs": []
    },
    {
      "cell_type": "markdown",
      "metadata": {
        "id": "ltMfAO_2mpR5",
        "colab_type": "text"
      },
      "source": [
        "# Now I can start doing NLP stuff"
      ]
    },
    {
      "cell_type": "code",
      "metadata": {
        "id": "aY2kBQw_mq09",
        "colab_type": "code",
        "colab": {
          "base_uri": "https://localhost:8080/",
          "height": 204
        },
        "outputId": "62e635ba-0478-4138-e8f5-3ce0975089ae"
      },
      "source": [
        "df = pd.read_csv('https://raw.githubusercontent.com/worldwidekatie/Build_Week_2/master/ira_cleaned_data.csv')\n",
        "df = df.copy()\n",
        "df = df[['content', 'target']]\n",
        "df.head()"
      ],
      "execution_count": 48,
      "outputs": [
        {
          "output_type": "execute_result",
          "data": {
            "text/html": [
              "<div>\n",
              "<style scoped>\n",
              "    .dataframe tbody tr th:only-of-type {\n",
              "        vertical-align: middle;\n",
              "    }\n",
              "\n",
              "    .dataframe tbody tr th {\n",
              "        vertical-align: top;\n",
              "    }\n",
              "\n",
              "    .dataframe thead th {\n",
              "        text-align: right;\n",
              "    }\n",
              "</style>\n",
              "<table border=\"1\" class=\"dataframe\">\n",
              "  <thead>\n",
              "    <tr style=\"text-align: right;\">\n",
              "      <th></th>\n",
              "      <th>content</th>\n",
              "      <th>target</th>\n",
              "    </tr>\n",
              "  </thead>\n",
              "  <tbody>\n",
              "    <tr>\n",
              "      <th>0</th>\n",
              "      <td>#adee RT davis1988will: Congratulations for Ma...</td>\n",
              "      <td>1.0</td>\n",
              "    </tr>\n",
              "    <tr>\n",
              "      <th>1</th>\n",
              "      <td>RT SSOL getting attention. It's penny play day...</td>\n",
              "      <td>1.0</td>\n",
              "    </tr>\n",
              "    <tr>\n",
              "      <th>2</th>\n",
              "      <td>#laup SHOCK VIDEO : Antifa Thugs Break a Latin...</td>\n",
              "      <td>1.0</td>\n",
              "    </tr>\n",
              "    <tr>\n",
              "      <th>3</th>\n",
              "      <td>PROOF Melania Has Done FAR MORE for Disaster R...</td>\n",
              "      <td>1.0</td>\n",
              "    </tr>\n",
              "    <tr>\n",
              "      <th>4</th>\n",
              "      <td>An USC professor, Raphael Bostic, named first ...</td>\n",
              "      <td>1.0</td>\n",
              "    </tr>\n",
              "  </tbody>\n",
              "</table>\n",
              "</div>"
            ],
            "text/plain": [
              "                                             content  target\n",
              "0  #adee RT davis1988will: Congratulations for Ma...     1.0\n",
              "1  RT SSOL getting attention. It's penny play day...     1.0\n",
              "2  #laup SHOCK VIDEO : Antifa Thugs Break a Latin...     1.0\n",
              "3  PROOF Melania Has Done FAR MORE for Disaster R...     1.0\n",
              "4  An USC professor, Raphael Bostic, named first ...     1.0"
            ]
          },
          "metadata": {
            "tags": []
          },
          "execution_count": 48
        }
      ]
    },
    {
      "cell_type": "code",
      "metadata": {
        "id": "_t4NUfutmsBI",
        "colab_type": "code",
        "colab": {
          "base_uri": "https://localhost:8080/",
          "height": 34
        },
        "outputId": "ead5bac0-9300-46d3-ef35-a23f06a939e0"
      },
      "source": [
        "train, val = train_test_split(df, random_state=42)\n",
        "print(train.shape, val.shape)"
      ],
      "execution_count": 50,
      "outputs": [
        {
          "output_type": "stream",
          "text": [
            "(151984, 2) (50662, 2)\n"
          ],
          "name": "stdout"
        }
      ]
    },
    {
      "cell_type": "code",
      "metadata": {
        "id": "hWK4BZzMmr6a",
        "colab_type": "code",
        "colab": {
          "base_uri": "https://localhost:8080/",
          "height": 34
        },
        "outputId": "184e6fba-0935-453f-87ea-2dcc18cebc74"
      },
      "source": [
        "train, test = train_test_split(train, random_state=42)\n",
        "print(train.shape, test.shape)"
      ],
      "execution_count": 51,
      "outputs": [
        {
          "output_type": "stream",
          "text": [
            "(113988, 2) (37996, 2)\n"
          ],
          "name": "stdout"
        }
      ]
    },
    {
      "cell_type": "code",
      "metadata": {
        "id": "7XuBVGaSmr0c",
        "colab_type": "code",
        "colab": {}
      },
      "source": [
        "from sklearn.feature_extraction.text import TfidfVectorizer\n",
        "from sklearn.linear_model import PassiveAggressiveClassifier\n",
        "import itertools"
      ],
      "execution_count": 0,
      "outputs": []
    },
    {
      "cell_type": "code",
      "metadata": {
        "id": "6J4oZObbmrvm",
        "colab_type": "code",
        "colab": {}
      },
      "source": [
        "target = 'target'\n",
        "features = 'content'\n",
        "\n",
        "X_train = train[features]\n",
        "y_train = train[target]\n",
        "X_val = val[features]\n",
        "y_val = val[target]\n",
        "X_test = test[features]\n",
        "y_test = test[target]"
      ],
      "execution_count": 0,
      "outputs": []
    },
    {
      "cell_type": "code",
      "metadata": {
        "id": "8DtgDqn_mrpt",
        "colab_type": "code",
        "colab": {
          "base_uri": "https://localhost:8080/",
          "height": 428
        },
        "outputId": "875b2e29-a666-4628-a36e-bb9532e9fb44"
      },
      "source": [
        "pipeline = make_pipeline(\n",
        "    TfidfVectorizer(),\n",
        "    PassiveAggressiveClassifier()\n",
        ") #max_iter=45, class_weight='balanced'\n",
        "param_distributions = { \n",
        "    'passiveaggressiveclassifier__class_weight':[{1:0.52808406, 0:19.40184758}, \n",
        "                                                 {1:0.52808406, 0:9.40184758},\n",
        "                                                 'balanced', None],\n",
        "    'passiveaggressiveclassifier__max_iter':[10,20,30,40,50,60,70,100,200,500,None]\n",
        "}\n",
        "\n",
        "\n",
        "search = RandomizedSearchCV(\n",
        "    pipeline, \n",
        "    param_distributions=param_distributions, \n",
        "    n_iter=10, \n",
        "    cv=5, \n",
        "    scoring='recall', \n",
        "    verbose=1, \n",
        "    return_train_score=True\n",
        ")\n",
        "\n",
        "search.fit(X_train, y_train);"
      ],
      "execution_count": 141,
      "outputs": [
        {
          "output_type": "stream",
          "text": [
            "Fitting 5 folds for each of 10 candidates, totalling 50 fits\n"
          ],
          "name": "stdout"
        },
        {
          "output_type": "stream",
          "text": [
            "[Parallel(n_jobs=1)]: Using backend SequentialBackend with 1 concurrent workers.\n",
            "/usr/local/lib/python3.6/dist-packages/sklearn/linear_model/_stochastic_gradient.py:557: ConvergenceWarning: Maximum number of iteration reached before convergence. Consider increasing max_iter to improve the fit.\n",
            "  ConvergenceWarning)\n",
            "/usr/local/lib/python3.6/dist-packages/sklearn/linear_model/_stochastic_gradient.py:557: ConvergenceWarning: Maximum number of iteration reached before convergence. Consider increasing max_iter to improve the fit.\n",
            "  ConvergenceWarning)\n",
            "/usr/local/lib/python3.6/dist-packages/sklearn/linear_model/_stochastic_gradient.py:557: ConvergenceWarning: Maximum number of iteration reached before convergence. Consider increasing max_iter to improve the fit.\n",
            "  ConvergenceWarning)\n",
            "/usr/local/lib/python3.6/dist-packages/sklearn/linear_model/_stochastic_gradient.py:557: ConvergenceWarning: Maximum number of iteration reached before convergence. Consider increasing max_iter to improve the fit.\n",
            "  ConvergenceWarning)\n",
            "/usr/local/lib/python3.6/dist-packages/sklearn/linear_model/_stochastic_gradient.py:557: ConvergenceWarning: Maximum number of iteration reached before convergence. Consider increasing max_iter to improve the fit.\n",
            "  ConvergenceWarning)\n",
            "/usr/local/lib/python3.6/dist-packages/sklearn/linear_model/_stochastic_gradient.py:557: ConvergenceWarning: Maximum number of iteration reached before convergence. Consider increasing max_iter to improve the fit.\n",
            "  ConvergenceWarning)\n",
            "/usr/local/lib/python3.6/dist-packages/sklearn/linear_model/_stochastic_gradient.py:557: ConvergenceWarning: Maximum number of iteration reached before convergence. Consider increasing max_iter to improve the fit.\n",
            "  ConvergenceWarning)\n",
            "/usr/local/lib/python3.6/dist-packages/sklearn/linear_model/_stochastic_gradient.py:557: ConvergenceWarning: Maximum number of iteration reached before convergence. Consider increasing max_iter to improve the fit.\n",
            "  ConvergenceWarning)\n",
            "/usr/local/lib/python3.6/dist-packages/sklearn/linear_model/_stochastic_gradient.py:557: ConvergenceWarning: Maximum number of iteration reached before convergence. Consider increasing max_iter to improve the fit.\n",
            "  ConvergenceWarning)\n",
            "/usr/local/lib/python3.6/dist-packages/sklearn/linear_model/_stochastic_gradient.py:557: ConvergenceWarning: Maximum number of iteration reached before convergence. Consider increasing max_iter to improve the fit.\n",
            "  ConvergenceWarning)\n",
            "[Parallel(n_jobs=1)]: Done  50 out of  50 | elapsed:  2.9min finished\n"
          ],
          "name": "stderr"
        }
      ]
    },
    {
      "cell_type": "code",
      "metadata": {
        "id": "9teT7S01oPZ5",
        "colab_type": "code",
        "colab": {
          "base_uri": "https://localhost:8080/",
          "height": 105
        },
        "outputId": "dc205685-4f57-4e07-8cdc-cec30619c225"
      },
      "source": [
        "print('Best hyperparameters', search.best_params_)\n",
        "print('Cross-validation Accuracy', -search.best_score_)\n",
        "pipeline = search.best_estimator_\n",
        "print(\"Train Accuracy:\", pipeline.score(X_train, y_train))\n",
        "print(\"Validation Accuracy:\", pipeline.score(X_val, y_val))"
      ],
      "execution_count": 142,
      "outputs": [
        {
          "output_type": "stream",
          "text": [
            "Best hyperparameters {'passiveaggressiveclassifier__max_iter': 20, 'passiveaggressiveclassifier__class_weight': 'balanced'}\n",
            "Cross-validation Accuracy -0.8469158375029588\n",
            "Train Accuracy: 0.9997104958416675\n",
            "Validation Accuracy: 0.9867553590462279\n"
          ],
          "name": "stdout"
        }
      ]
    },
    {
      "cell_type": "code",
      "metadata": {
        "id": "JDn6q2wQoPvA",
        "colab_type": "code",
        "colab": {
          "base_uri": "https://localhost:8080/",
          "height": 34
        },
        "outputId": "1fbfbdb3-e548-4026-c9d6-5f7b6aedf19b"
      },
      "source": [
        "print(\"Test Accuracy:\", pipeline.score(X_test, y_test))"
      ],
      "execution_count": 96,
      "outputs": [
        {
          "output_type": "stream",
          "text": [
            "Test Accuracy: 0.988630382145489\n"
          ],
          "name": "stdout"
        }
      ]
    },
    {
      "cell_type": "markdown",
      "metadata": {
        "id": "CQcmLmx2HMwO",
        "colab_type": "text"
      },
      "source": [
        "#The pipeline below is the highest recall I could get (85.5%)"
      ]
    },
    {
      "cell_type": "code",
      "metadata": {
        "id": "lZNuU9hyBQ9s",
        "colab_type": "code",
        "colab": {
          "base_uri": "https://localhost:8080/",
          "height": 51
        },
        "outputId": "b60e1cbd-4e94-47ff-ac68-3957b78e9feb"
      },
      "source": [
        "# pipeline = make_pipeline(\n",
        "#     TfidfVectorizer(),\n",
        "#     PassiveAggressiveClassifier()\n",
        "# ) #max_iter=45, class_weight='balanced'\n",
        "# param_distributions = { \n",
        "#     'passiveaggressiveclassifier__class_weight':[{1:0.52808406, 0:19.40184758}, \n",
        "#                                                  {1:0.52808406, 0:9.40184758},\n",
        "#                                                  'balanced', 'NONE'],\n",
        "#     'passiveaggressiveclassifier__max_iter':[10,20,30,40,50,60,70]\n",
        "# }\n",
        "\n",
        "\n",
        "# search = RandomizedSearchCV(\n",
        "#     pipeline, \n",
        "#     param_distributions=param_distributions, \n",
        "#     n_iter=10, \n",
        "#     cv=5, \n",
        "#     scoring='recall', \n",
        "#     verbose=1, \n",
        "#     return_train_score=True\n",
        "# )\n",
        "# Best hyperparameters {'passiveaggressiveclassifier__max_iter': 10, \n",
        "#'passiveaggressiveclassifier__class_weight': 'balanced'}\n",
        "# Cross-validation Accuracy -0.8569795314238761\n",
        "# Train Accuracy: 0.9992104432045479\n",
        "# Validation Accuracy: 0.9849196636532312\n",
        "\n",
        "#Best Recall Yet!\n",
        "y_pred = pipeline.predict(X_val)\n",
        "tn, fp, fn, tp = confusion_matrix(y_val, y_pred).ravel()\n",
        "print(\"Precision:\", tp /(tp+fp))  \n",
        "print(\"Recall:\", tp/(tp+fn))"
      ],
      "execution_count": 140,
      "outputs": [
        {
          "output_type": "stream",
          "text": [
            "Precision: 0.8530534351145038\n",
            "Recall: 0.8550114766641163\n"
          ],
          "name": "stdout"
        }
      ]
    },
    {
      "cell_type": "code",
      "metadata": {
        "id": "a4MD9VRjGE2P",
        "colab_type": "code",
        "colab": {
          "base_uri": "https://localhost:8080/",
          "height": 51
        },
        "outputId": "54043d08-eca7-4d61-d8bf-6613d3c3873f"
      },
      "source": [
        "# pipeline = make_pipeline(\n",
        "#     TfidfVectorizer(),\n",
        "#     PassiveAggressiveClassifier()\n",
        "# ) #max_iter=45, class_weight='balanced'\n",
        "# param_distributions = { \n",
        "#     'passiveaggressiveclassifier__class_weight':[{1:0.52808406, 0:19.40184758}, \n",
        "#                                                  {1:0.52808406, 0:9.40184758},\n",
        "#                                                  'balanced', None],\n",
        "#     'passiveaggressiveclassifier__max_iter':[10,20,30,40,50,60,70,100,200,500,None]\n",
        "# }\n",
        "\n",
        "\n",
        "# search = RandomizedSearchCV(\n",
        "#     pipeline, \n",
        "#     param_distributions=param_distributions, \n",
        "#     n_iter=10, \n",
        "#     cv=5, \n",
        "#     scoring='recall', \n",
        "#     verbose=1, \n",
        "#     return_train_score=True\n",
        "# )\n",
        "\n",
        "# Best hyperparameters {'passiveaggressiveclassifier__max_iter': 20, \n",
        "#'passiveaggressiveclassifier__class_weight': 'balanced'}\n",
        "# Cross-validation Accuracy -0.8469158375029588\n",
        "# Train Accuracy: 0.9997104958416675\n",
        "# Validation Accuracy: 0.9867553590462279\n",
        "y_pred = pipeline.predict(X_val)\n",
        "tn, fp, fn, tp = confusion_matrix(y_val, y_pred).ravel()\n",
        "print(\"Precision:\", tp /(tp+fp))  \n",
        "print(\"Recall:\", tp/(tp+fn))"
      ],
      "execution_count": 143,
      "outputs": [
        {
          "output_type": "stream",
          "text": [
            "Precision: 0.8862823061630218\n",
            "Recall: 0.8527161438408569\n"
          ],
          "name": "stdout"
        }
      ]
    },
    {
      "cell_type": "code",
      "metadata": {
        "id": "K5vJXKRHoQDE",
        "colab_type": "code",
        "colab": {
          "base_uri": "https://localhost:8080/",
          "height": 51
        },
        "outputId": "953834b7-2c7e-4bda-ee60-79f31d1c37db"
      },
      "source": [
        "#Random Forest Balanced Results\n",
        "#Still has recall lower than passive aggressive classifier\n",
        "y_pred = pipeline.predict(X_val)\n",
        "tn, fp, fn, tp = confusion_matrix(y_val, y_pred).ravel()\n",
        "print(\"Precision:\", tp /(tp+fp))  \n",
        "print(\"Recall:\", tp/(tp+fn))"
      ],
      "execution_count": 69,
      "outputs": [
        {
          "output_type": "stream",
          "text": [
            "Precision: 0.9838888888888889\n",
            "Recall: 0.6775057383320582\n"
          ],
          "name": "stdout"
        }
      ]
    },
    {
      "cell_type": "code",
      "metadata": {
        "id": "IUM67k-zotD8",
        "colab_type": "code",
        "colab": {
          "base_uri": "https://localhost:8080/",
          "height": 51
        },
        "outputId": "87412e22-1fff-419b-cfc6-f384d2706886"
      },
      "source": [
        "#Passive Agressive Classifier Results\n",
        "#Worse precision but better recall which is what I care more about\n",
        "print(\"Precision:\", tp /(tp+fp))  \n",
        "print(\"Recall:\", tp/(tp+fn))"
      ],
      "execution_count": 58,
      "outputs": [
        {
          "output_type": "stream",
          "text": [
            "Precision: 0.9335334476843911\n",
            "Recall: 0.832823259372609\n"
          ],
          "name": "stdout"
        }
      ]
    },
    {
      "cell_type": "code",
      "metadata": {
        "id": "NZO9l10Z0YH3",
        "colab_type": "code",
        "colab": {
          "base_uri": "https://localhost:8080/",
          "height": 51
        },
        "outputId": "16933647-2621-45e9-82da-a960183a08bb"
      },
      "source": [
        "#Passive Agressive Classifier 'balanced\n",
        "#Less good recall still and much worse precision\n",
        "y_pred = pipeline.predict(X_val)\n",
        "tn, fp, fn, tp = confusion_matrix(y_val, y_pred).ravel()\n",
        "print(\"Precision:\", tp /(tp+fp))  \n",
        "print(\"Recall:\", tp/(tp+fn))"
      ],
      "execution_count": 76,
      "outputs": [
        {
          "output_type": "stream",
          "text": [
            "Precision: 0.8574257425742574\n",
            "Recall: 0.8282325937260903\n"
          ],
          "name": "stdout"
        }
      ]
    },
    {
      "cell_type": "code",
      "metadata": {
        "id": "lkftATn41reB",
        "colab_type": "code",
        "colab": {
          "base_uri": "https://localhost:8080/",
          "height": 51
        },
        "outputId": "2356f895-d3e8-439e-f766-75fa5f6aa470"
      },
      "source": [
        "#Passive Agressive Classifier w/o stop_words='english'\n",
        "#Best recall yet and better and precision\n",
        "y_pred = pipeline.predict(X_val)\n",
        "tn, fp, fn, tp = confusion_matrix(y_val, y_pred).ravel()\n",
        "print(\"Precision:\", tp /(tp+fp))  \n",
        "print(\"Recall:\", tp/(tp+fn))"
      ],
      "execution_count": 80,
      "outputs": [
        {
          "output_type": "stream",
          "text": [
            "Precision: 0.8843074459567654\n",
            "Recall: 0.8450650344299924\n"
          ],
          "name": "stdout"
        }
      ]
    },
    {
      "cell_type": "code",
      "metadata": {
        "id": "Tx4eTyKz2ATP",
        "colab_type": "code",
        "colab": {
          "base_uri": "https://localhost:8080/",
          "height": 51
        },
        "outputId": "6c45ec27-02b7-48fe-be36-7db3ee6a60a7"
      },
      "source": [
        "#Passive Agressive Classifier w/o stop_words='english'\n",
        "#And w/o max_df.7\n",
        "#Best recall yet!\n",
        "y_pred = pipeline.predict(X_val)\n",
        "tn, fp, fn, tp = confusion_matrix(y_val, y_pred).ravel()\n",
        "print(\"Precision:\", tp /(tp+fp))  \n",
        "print(\"Recall:\", tp/(tp+fn))"
      ],
      "execution_count": 84,
      "outputs": [
        {
          "output_type": "stream",
          "text": [
            "Precision: 0.8304832713754647\n",
            "Recall: 0.854628921193573\n"
          ],
          "name": "stdout"
        }
      ]
    },
    {
      "cell_type": "code",
      "metadata": {
        "id": "H45lt_DH8l6H",
        "colab_type": "code",
        "colab": {
          "base_uri": "https://localhost:8080/",
          "height": 51
        },
        "outputId": "f0aa643f-256e-481b-e850-3ae89585be54"
      },
      "source": [
        "#Passive Agressive Classifier\n",
        "# with class_weight={1:0.52808406, 0:9.40184758}\n",
        "y_pred = pipeline.predict(X_val)\n",
        "tn, fp, fn, tp = confusion_matrix(y_val, y_pred).ravel()\n",
        "print(\"Precision:\", tp /(tp+fp))  \n",
        "print(\"Recall:\", tp/(tp+fn))"
      ],
      "execution_count": 93,
      "outputs": [
        {
          "output_type": "stream",
          "text": [
            "Precision: 0.9705215419501134\n",
            "Recall: 0.8186687069625096\n"
          ],
          "name": "stdout"
        }
      ]
    },
    {
      "cell_type": "code",
      "metadata": {
        "id": "PJIi5FrO9A7u",
        "colab_type": "code",
        "colab": {
          "base_uri": "https://localhost:8080/",
          "height": 51
        },
        "outputId": "f5ffac0c-2a41-4baa-9054-6de8e72eef34"
      },
      "source": [
        "#Passive Aggressive Classifier\n",
        "# with class_weight={1:0.25, 0:20}\n",
        "y_pred = pipeline.predict(X_val)\n",
        "tn, fp, fn, tp = confusion_matrix(y_val, y_pred).ravel()\n",
        "print(\"Precision:\", tp /(tp+fp))  \n",
        "print(\"Recall:\", tp/(tp+fn))"
      ],
      "execution_count": 97,
      "outputs": [
        {
          "output_type": "stream",
          "text": [
            "Precision: 0.9644646924829157\n",
            "Recall: 0.8098699311400153\n"
          ],
          "name": "stdout"
        }
      ]
    },
    {
      "cell_type": "code",
      "metadata": {
        "id": "rhFVjPda9Mlw",
        "colab_type": "code",
        "colab": {
          "base_uri": "https://localhost:8080/",
          "height": 105
        },
        "outputId": "172e4b10-500d-48fe-a402-60c25ca8eddb"
      },
      "source": [
        "#Passive Aggressive Classifier\n",
        "# with class_weight={1:0, 0:50}\n",
        "# What the heck kind of result is that?\n",
        "y_pred = pipeline.predict(X_val)\n",
        "tn, fp, fn, tp = confusion_matrix(y_val, y_pred).ravel()\n",
        "print(\"Precision:\", tp /(tp+fp))  \n",
        "print(\"Recall:\", tp/(tp+fn))"
      ],
      "execution_count": 100,
      "outputs": [
        {
          "output_type": "stream",
          "text": [
            "Precision: nan\n",
            "Recall: 0.0\n"
          ],
          "name": "stdout"
        },
        {
          "output_type": "stream",
          "text": [
            "/usr/local/lib/python3.6/dist-packages/ipykernel_launcher.py:3: RuntimeWarning: invalid value encountered in long_scalars\n",
            "  This is separate from the ipykernel package so we can avoid doing imports until\n"
          ],
          "name": "stderr"
        }
      ]
    },
    {
      "cell_type": "code",
      "metadata": {
        "id": "Z3fuuCwj9MTQ",
        "colab_type": "code",
        "colab": {
          "base_uri": "https://localhost:8080/",
          "height": 51
        },
        "outputId": "c1e08796-edff-4496-f9b0-09ec550ca01a"
      },
      "source": [
        "#Passive Aggressive Classifier\n",
        "# with class_weight={1:0.52808406, 0:19.40184758}\n",
        "y_pred = pipeline.predict(X_val)\n",
        "tn, fp, fn, tp = confusion_matrix(y_val, y_pred).ravel()\n",
        "print(\"Precision:\", tp /(tp+fp))  \n",
        "print(\"Recall:\", tp/(tp+fn))"
      ],
      "execution_count": 103,
      "outputs": [
        {
          "output_type": "stream",
          "text": [
            "Precision: 0.9609733700642792\n",
            "Recall: 0.8006885998469778\n"
          ],
          "name": "stdout"
        }
      ]
    },
    {
      "cell_type": "code",
      "metadata": {
        "id": "7TtZAkFPAiy7",
        "colab_type": "code",
        "colab": {
          "base_uri": "https://localhost:8080/",
          "height": 51
        },
        "outputId": "c88b7943-18bd-40aa-e065-aee241bd8b68"
      },
      "source": [
        "#Best hyperparameters {'passiveaggressiveclassifier__max_iter': 10, 'passiveaggressiveclassifier__class_weight': {1: 0.52808406, 0: 9.40184758}}\n",
        "y_pred = pipeline.predict(X_val)\n",
        "tn, fp, fn, tp = confusion_matrix(y_val, y_pred).ravel()\n",
        "print(\"Precision:\", tp /(tp+fp))  \n",
        "print(\"Recall:\", tp/(tp+fn))"
      ],
      "execution_count": 115,
      "outputs": [
        {
          "output_type": "stream",
          "text": [
            "Precision: 0.9792339640055376\n",
            "Recall: 0.8117827084927315\n"
          ],
          "name": "stdout"
        }
      ]
    },
    {
      "cell_type": "code",
      "metadata": {
        "id": "YTOP_d6gAzJZ",
        "colab_type": "code",
        "colab": {
          "base_uri": "https://localhost:8080/",
          "height": 51
        },
        "outputId": "ef870d4c-24f6-43f8-eefe-8d8125a0400e"
      },
      "source": [
        "#Totally vanilla passiveaggressiveclassifier\n",
        "y_pred = pipeline.predict(X_val)\n",
        "tn, fp, fn, tp = confusion_matrix(y_val, y_pred).ravel()\n",
        "print(\"Precision:\", tp /(tp+fp))  \n",
        "print(\"Recall:\", tp/(tp+fn))"
      ],
      "execution_count": 118,
      "outputs": [
        {
          "output_type": "stream",
          "text": [
            "Precision: 0.9391979301423027\n",
            "Recall: 0.8332058148431523\n"
          ],
          "name": "stdout"
        }
      ]
    },
    {
      "cell_type": "code",
      "metadata": {
        "id": "V3wld17BpK1V",
        "colab_type": "code",
        "colab": {
          "base_uri": "https://localhost:8080/",
          "height": 34
        },
        "outputId": "fd0595c3-2ef7-4bf2-c2d5-9ddba7cf14aa"
      },
      "source": [
        "#roc auc from the random forest, can't be done with \n",
        "#the passive aggressive classifier though\n",
        "from sklearn.metrics import roc_auc_score\n",
        "y_pred_prob = pipeline.predict_proba(X_val)[:, 1]\n",
        "roc_auc_score(y_val, y_pred_prob)"
      ],
      "execution_count": 65,
      "outputs": [
        {
          "output_type": "execute_result",
          "data": {
            "text/plain": [
              "0.9721125238890158"
            ]
          },
          "metadata": {
            "tags": []
          },
          "execution_count": 65
        }
      ]
    },
    {
      "cell_type": "code",
      "metadata": {
        "id": "TNBRrour7l6N",
        "colab_type": "code",
        "colab": {
          "base_uri": "https://localhost:8080/",
          "height": 34
        },
        "outputId": "ddeb871c-0102-4fea-fedd-a7fd9b5db26d"
      },
      "source": [
        "#To find a good starting place\n",
        "from sklearn.utils import class_weight\n",
        "class_weight.compute_class_weight('balanced', np.unique(y_train), y_train)"
      ],
      "execution_count": 89,
      "outputs": [
        {
          "output_type": "execute_result",
          "data": {
            "text/plain": [
              "array([0.52808406, 9.40184758])"
            ]
          },
          "metadata": {
            "tags": []
          },
          "execution_count": 89
        }
      ]
    },
    {
      "cell_type": "code",
      "metadata": {
        "id": "O9oLg-EAy5FE",
        "colab_type": "code",
        "colab": {}
      },
      "source": [
        ""
      ],
      "execution_count": 0,
      "outputs": []
    }
  ]
}