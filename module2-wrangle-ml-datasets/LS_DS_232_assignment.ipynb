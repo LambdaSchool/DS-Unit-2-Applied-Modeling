{
  "nbformat": 4,
  "nbformat_minor": 0,
  "metadata": {
    "jupytext": {
      "cell_metadata_filter": "-all",
      "main_language": "python",
      "notebook_metadata_filter": "-all"
    },
    "kernelspec": {
      "display_name": "Python 3",
      "language": "python",
      "name": "python3"
    },
    "language_info": {
      "codemirror_mode": {
        "name": "ipython",
        "version": 3
      },
      "file_extension": ".py",
      "mimetype": "text/x-python",
      "name": "python",
      "nbconvert_exporter": "python",
      "pygments_lexer": "ipython3",
      "version": "3.7.3"
    },
    "colab": {
      "name": "LS_DS_232_assignment.ipynb",
      "provenance": [],
      "collapsed_sections": [],
      "include_colab_link": true
    }
  },
  "cells": [
    {
      "cell_type": "markdown",
      "metadata": {
        "id": "view-in-github",
        "colab_type": "text"
      },
      "source": [
        "<a href=\"https://colab.research.google.com/github/worldwidekatie/DS-Unit-2-Applied-Modeling/blob/master/module2-wrangle-ml-datasets/LS_DS_232_assignment.ipynb\" target=\"_parent\"><img src=\"https://colab.research.google.com/assets/colab-badge.svg\" alt=\"Open In Colab\"/></a>"
      ]
    },
    {
      "cell_type": "markdown",
      "metadata": {
        "id": "NY_S-KEfV60Z",
        "colab_type": "text"
      },
      "source": [
        "Lambda School Data Science\n",
        "\n",
        "*Unit 2, Sprint 3, Module 1*\n",
        "\n",
        "---\n",
        "\n",
        "\n",
        "# Wrangle ML datasets\n",
        "\n",
        "- [ ] Continue to clean and explore your data. \n",
        "- [ ] For the evaluation metric you chose, what score would you get just by guessing?\n",
        "- [ ] Can you make a fast, first model that beats guessing?\n",
        "\n",
        "**We recommend that you use your portfolio project dataset for all assignments this sprint.**\n",
        "\n",
        "**But if you aren't ready yet, or you want more practice, then use the New York City property sales dataset for today's assignment.** Follow the instructions below, to just keep a subset for the Tribeca neighborhood, and remove outliers or dirty data. [Here's a video walkthrough](https://youtu.be/pPWFw8UtBVg?t=584) you can refer to if you get stuck or want hints!\n",
        "\n",
        "- Data Source: [NYC OpenData: NYC Citywide Rolling Calendar Sales](https://data.cityofnewyork.us/dataset/NYC-Citywide-Rolling-Calendar-Sales/usep-8jbt)\n",
        "- Glossary: [NYC Department of Finance: Rolling Sales Data](https://www1.nyc.gov/site/finance/taxes/property-rolling-sales-data.page)"
      ]
    },
    {
      "cell_type": "code",
      "metadata": {
        "id": "Evp9Az4-FQuQ",
        "colab_type": "code",
        "colab": {
          "base_uri": "https://localhost:8080/",
          "height": 224
        },
        "outputId": "4c9236a0-f95e-4934-be27-4b4502e0312c"
      },
      "source": [
        "from sklearn.model_selection import train_test_split\n",
        "import numpy as np\n",
        "import matplotlib.pyplot as plt\n",
        "import sklearn as sk\n",
        "!pip install category_encoders\n",
        "import category_encoders as ce\n",
        "from sklearn.ensemble import RandomForestClassifier\n",
        "from sklearn.pipeline import make_pipeline\n",
        "from sklearn.model_selection import RandomizedSearchCV\n",
        "from scipy.stats import randint, uniform\n",
        "from sklearn.metrics import accuracy_score\n",
        "from sklearn.metrics import confusion_matrix"
      ],
      "execution_count": 1,
      "outputs": [
        {
          "output_type": "stream",
          "text": [
            "Requirement already satisfied: category_encoders in /usr/local/lib/python3.6/dist-packages (2.1.0)\n",
            "Requirement already satisfied: scipy>=0.19.0 in /usr/local/lib/python3.6/dist-packages (from category_encoders) (1.4.1)\n",
            "Requirement already satisfied: numpy>=1.11.3 in /usr/local/lib/python3.6/dist-packages (from category_encoders) (1.18.2)\n",
            "Requirement already satisfied: pandas>=0.21.1 in /usr/local/lib/python3.6/dist-packages (from category_encoders) (1.0.3)\n",
            "Requirement already satisfied: scikit-learn>=0.20.0 in /usr/local/lib/python3.6/dist-packages (from category_encoders) (0.22.2.post1)\n",
            "Requirement already satisfied: statsmodels>=0.6.1 in /usr/local/lib/python3.6/dist-packages (from category_encoders) (0.10.2)\n",
            "Requirement already satisfied: patsy>=0.4.1 in /usr/local/lib/python3.6/dist-packages (from category_encoders) (0.5.1)\n",
            "Requirement already satisfied: pytz>=2017.2 in /usr/local/lib/python3.6/dist-packages (from pandas>=0.21.1->category_encoders) (2018.9)\n",
            "Requirement already satisfied: python-dateutil>=2.6.1 in /usr/local/lib/python3.6/dist-packages (from pandas>=0.21.1->category_encoders) (2.8.1)\n",
            "Requirement already satisfied: joblib>=0.11 in /usr/local/lib/python3.6/dist-packages (from scikit-learn>=0.20.0->category_encoders) (0.14.1)\n",
            "Requirement already satisfied: six in /usr/local/lib/python3.6/dist-packages (from patsy>=0.4.1->category_encoders) (1.12.0)\n"
          ],
          "name": "stdout"
        }
      ]
    },
    {
      "cell_type": "code",
      "metadata": {
        "id": "R4b-6zWFV60p",
        "colab_type": "code",
        "colab": {
          "base_uri": "https://localhost:8080/",
          "height": 479
        },
        "outputId": "73e5bd3b-d5d5-44cb-dc48-aef8ef3ce671"
      },
      "source": [
        "import pandas as pd\n",
        "df_orig = pd.read_csv('https://raw.githubusercontent.com/worldwidekatie/Build_Week_2/master/Final_IRA.csv')\n",
        "\n",
        "df = df_orig[['content',\t'region',\t'language',\t'publish_date',\t'harvested_date',\t\n",
        "             'following',\t'followers',\t'updates',\t'post_type',\t'account_type',\t\n",
        "             'new_june_2018',\t'retweet',\t'account_category']]\n",
        "df.head()"
      ],
      "execution_count": 2,
      "outputs": [
        {
          "output_type": "execute_result",
          "data": {
            "text/html": [
              "<div>\n",
              "<style scoped>\n",
              "    .dataframe tbody tr th:only-of-type {\n",
              "        vertical-align: middle;\n",
              "    }\n",
              "\n",
              "    .dataframe tbody tr th {\n",
              "        vertical-align: top;\n",
              "    }\n",
              "\n",
              "    .dataframe thead th {\n",
              "        text-align: right;\n",
              "    }\n",
              "</style>\n",
              "<table border=\"1\" class=\"dataframe\">\n",
              "  <thead>\n",
              "    <tr style=\"text-align: right;\">\n",
              "      <th></th>\n",
              "      <th>content</th>\n",
              "      <th>region</th>\n",
              "      <th>language</th>\n",
              "      <th>publish_date</th>\n",
              "      <th>harvested_date</th>\n",
              "      <th>following</th>\n",
              "      <th>followers</th>\n",
              "      <th>updates</th>\n",
              "      <th>post_type</th>\n",
              "      <th>account_type</th>\n",
              "      <th>new_june_2018</th>\n",
              "      <th>retweet</th>\n",
              "      <th>account_category</th>\n",
              "    </tr>\n",
              "  </thead>\n",
              "  <tbody>\n",
              "    <tr>\n",
              "      <th>0</th>\n",
              "      <td>#adee RT davis1988will: Congratulations for Ma...</td>\n",
              "      <td>United States</td>\n",
              "      <td>English</td>\n",
              "      <td>7/30/2017 21:18</td>\n",
              "      <td>7/30/2017 21:18</td>\n",
              "      <td>995</td>\n",
              "      <td>313</td>\n",
              "      <td>332</td>\n",
              "      <td>QUOTE_TWEET</td>\n",
              "      <td>Right</td>\n",
              "      <td>0</td>\n",
              "      <td>1</td>\n",
              "      <td>RightTroll</td>\n",
              "    </tr>\n",
              "    <tr>\n",
              "      <th>1</th>\n",
              "      <td>RT SSOL getting attention. It's penny play day...</td>\n",
              "      <td>United States</td>\n",
              "      <td>English</td>\n",
              "      <td>6/27/2015 21:47</td>\n",
              "      <td>6/27/2015 21:48</td>\n",
              "      <td>7</td>\n",
              "      <td>35</td>\n",
              "      <td>2213</td>\n",
              "      <td>NaN</td>\n",
              "      <td>Commercial</td>\n",
              "      <td>1</td>\n",
              "      <td>0</td>\n",
              "      <td>Commercial</td>\n",
              "    </tr>\n",
              "    <tr>\n",
              "      <th>2</th>\n",
              "      <td>#laup SHOCK VIDEO : Antifa Thugs Break a Latin...</td>\n",
              "      <td>Unknown</td>\n",
              "      <td>English</td>\n",
              "      <td>8/17/2017 2:20</td>\n",
              "      <td>8/17/2017 2:21</td>\n",
              "      <td>36</td>\n",
              "      <td>6</td>\n",
              "      <td>793</td>\n",
              "      <td>NaN</td>\n",
              "      <td>Right</td>\n",
              "      <td>0</td>\n",
              "      <td>0</td>\n",
              "      <td>RightTroll</td>\n",
              "    </tr>\n",
              "    <tr>\n",
              "      <th>3</th>\n",
              "      <td>PROOF Melania Has Done FAR MORE for Disaster R...</td>\n",
              "      <td>Unknown</td>\n",
              "      <td>English</td>\n",
              "      <td>9/2/2017 3:09</td>\n",
              "      <td>9/2/2017 3:09</td>\n",
              "      <td>4984</td>\n",
              "      <td>925</td>\n",
              "      <td>3411</td>\n",
              "      <td>NaN</td>\n",
              "      <td>Right</td>\n",
              "      <td>0</td>\n",
              "      <td>0</td>\n",
              "      <td>RightTroll</td>\n",
              "    </tr>\n",
              "    <tr>\n",
              "      <th>4</th>\n",
              "      <td>An USC professor, Raphael Bostic, named first ...</td>\n",
              "      <td>United States</td>\n",
              "      <td>English</td>\n",
              "      <td>3/15/2017 22:00</td>\n",
              "      <td>3/15/2017 22:00</td>\n",
              "      <td>14207</td>\n",
              "      <td>17561</td>\n",
              "      <td>3852</td>\n",
              "      <td>NaN</td>\n",
              "      <td>left</td>\n",
              "      <td>0</td>\n",
              "      <td>0</td>\n",
              "      <td>LeftTroll</td>\n",
              "    </tr>\n",
              "  </tbody>\n",
              "</table>\n",
              "</div>"
            ],
            "text/plain": [
              "                                             content  ... account_category\n",
              "0  #adee RT davis1988will: Congratulations for Ma...  ...       RightTroll\n",
              "1  RT SSOL getting attention. It's penny play day...  ...       Commercial\n",
              "2  #laup SHOCK VIDEO : Antifa Thugs Break a Latin...  ...       RightTroll\n",
              "3  PROOF Melania Has Done FAR MORE for Disaster R...  ...       RightTroll\n",
              "4  An USC professor, Raphael Bostic, named first ...  ...        LeftTroll\n",
              "\n",
              "[5 rows x 13 columns]"
            ]
          },
          "metadata": {
            "tags": []
          },
          "execution_count": 2
        }
      ]
    },
    {
      "cell_type": "markdown",
      "metadata": {
        "id": "qJ7XOk7oV600",
        "colab_type": "text"
      },
      "source": [
        "Your code starts here:"
      ]
    },
    {
      "cell_type": "code",
      "metadata": {
        "id": "klVQ8JqVFDIg",
        "colab_type": "code",
        "colab": {
          "base_uri": "https://localhost:8080/",
          "height": 51
        },
        "outputId": "fe974abf-1bea-4ca3-be92-e339bc4b92ae"
      },
      "source": [
        "train = df[(df['new_june_2018'] == 0)]\n",
        "test = df[(df['new_june_2018'] == 1)]\n",
        "print(train.shape, test.shape)\n",
        "\n",
        "train, val = train_test_split(train, random_state=42)\n",
        "print(train.shape, val.shape)"
      ],
      "execution_count": 3,
      "outputs": [
        {
          "output_type": "stream",
          "text": [
            "(9380, 13) (1266, 13)\n",
            "(7035, 13) (2345, 13)\n"
          ],
          "name": "stdout"
        }
      ]
    },
    {
      "cell_type": "code",
      "metadata": {
        "id": "SLdtybdOFDxA",
        "colab_type": "code",
        "colab": {
          "base_uri": "https://localhost:8080/",
          "height": 139
        },
        "outputId": "d3201847-2ac9-43b3-d1a9-2e550148403b"
      },
      "source": [
        "def wrangle(X):\n",
        "  X['region'] = X['region'].replace({np.NaN: 'Unknown'})\n",
        "  \n",
        "  return X\n",
        "\n",
        "train = wrangle(train)\n",
        "val = wrangle(val)\n",
        "test = wrangle(test)\n",
        "\n",
        "target = 'retweet'\n",
        "features = ['region',\t'publish_date',\t'harvested_date',\t\n",
        "             'following',\t'followers',\t'updates', 'account_type',\t\n",
        "            \t'account_category']\n",
        "\n",
        "X_train = train[features]\n",
        "y_train = train[target]\n",
        "X_val = val[features]\n",
        "y_val = val[target]\n",
        "X_test = test[features]\n",
        "y_test = test[target]"
      ],
      "execution_count": 4,
      "outputs": [
        {
          "output_type": "stream",
          "text": [
            "/usr/local/lib/python3.6/dist-packages/ipykernel_launcher.py:2: SettingWithCopyWarning: \n",
            "A value is trying to be set on a copy of a slice from a DataFrame.\n",
            "Try using .loc[row_indexer,col_indexer] = value instead\n",
            "\n",
            "See the caveats in the documentation: https://pandas.pydata.org/pandas-docs/stable/user_guide/indexing.html#returning-a-view-versus-a-copy\n",
            "  \n"
          ],
          "name": "stderr"
        }
      ]
    },
    {
      "cell_type": "code",
      "metadata": {
        "id": "0m7Npe-qFDtq",
        "colab_type": "code",
        "colab": {
          "base_uri": "https://localhost:8080/",
          "height": 68
        },
        "outputId": "b5de8f0f-4ec5-4714-84a2-b189a5673445"
      },
      "source": [
        "pipeline = make_pipeline(\n",
        "    ce.OrdinalEncoder(),\n",
        "    RandomForestClassifier(random_state=42, n_jobs=-1)\n",
        ")\n",
        "param_distributions = { \n",
        "    'randomforestclassifier__max_depth': [20,21,22,23,24,25,26,27,28,29,30], \n",
        "    'randomforestclassifier__min_samples_leaf': [10,11,12,13,14,15,16,17,18,19,20]\n",
        "}\n",
        "\n",
        "\n",
        "search = RandomizedSearchCV(\n",
        "    pipeline, \n",
        "    param_distributions=param_distributions, \n",
        "    n_iter=5, \n",
        "    cv=3, \n",
        "    scoring='accuracy', \n",
        "    verbose=1, \n",
        "    return_train_score=True\n",
        ")\n",
        "\n",
        "search.fit(X_train, y_train);"
      ],
      "execution_count": 44,
      "outputs": [
        {
          "output_type": "stream",
          "text": [
            "Fitting 3 folds for each of 5 candidates, totalling 15 fits\n"
          ],
          "name": "stdout"
        },
        {
          "output_type": "stream",
          "text": [
            "[Parallel(n_jobs=1)]: Using backend SequentialBackend with 1 concurrent workers.\n",
            "[Parallel(n_jobs=1)]: Done  15 out of  15 | elapsed:   12.5s finished\n"
          ],
          "name": "stderr"
        }
      ]
    },
    {
      "cell_type": "code",
      "metadata": {
        "id": "T1pZlwHgFDqH",
        "colab_type": "code",
        "colab": {
          "base_uri": "https://localhost:8080/",
          "height": 85
        },
        "outputId": "a0ff94b2-93a9-4ca6-cf89-d7ce31c305f2"
      },
      "source": [
        "print('Best hyperparameters', search.best_params_)\n",
        "print('Cross-validation Accuracy', -search.best_score_)\n",
        "pipeline = search.best_estimator_\n",
        "print(\"Train Accuracy:\", pipeline.score(X_train, y_train))\n",
        "print(\"Validation Accuracy:\", pipeline.score(X_val, y_val))"
      ],
      "execution_count": 45,
      "outputs": [
        {
          "output_type": "stream",
          "text": [
            "Best hyperparameters {'randomforestclassifier__min_samples_leaf': 12, 'randomforestclassifier__max_depth': 29}\n",
            "Cross-validation Accuracy -0.9169864960909737\n",
            "Train Accuracy: 0.9344705046197583\n",
            "Validation Accuracy: 0.9168443496801706\n"
          ],
          "name": "stdout"
        }
      ]
    },
    {
      "cell_type": "code",
      "metadata": {
        "id": "g0b6pMiamTak",
        "colab_type": "code",
        "colab": {
          "base_uri": "https://localhost:8080/",
          "height": 34
        },
        "outputId": "68c13df4-5eb9-4edc-92df-5b4d027efba1"
      },
      "source": [
        "print(\"Test Accuracy:\", pipeline.score(X_test, y_test))"
      ],
      "execution_count": 46,
      "outputs": [
        {
          "output_type": "stream",
          "text": [
            "Test Accuracy: 0.5710900473933649\n"
          ],
          "name": "stdout"
        }
      ]
    },
    {
      "cell_type": "code",
      "metadata": {
        "id": "tE9PTDQRFDms",
        "colab_type": "code",
        "colab": {
          "base_uri": "https://localhost:8080/",
          "height": 34
        },
        "outputId": "b019aaec-64d8-43db-ac42-25dfa50aefbe"
      },
      "source": [
        "y_pred = pipeline.predict(X_val)\n",
        "tn, fp, fn, tp = confusion_matrix(y_val, y_pred).ravel()\n",
        "(tn, fp, fn, tp)"
      ],
      "execution_count": 7,
      "outputs": [
        {
          "output_type": "execute_result",
          "data": {
            "text/plain": [
              "(1209, 127, 68, 941)"
            ]
          },
          "metadata": {
            "tags": []
          },
          "execution_count": 7
        }
      ]
    },
    {
      "cell_type": "code",
      "metadata": {
        "id": "oh4-nfjEFDi0",
        "colab_type": "code",
        "colab": {
          "base_uri": "https://localhost:8080/",
          "height": 34
        },
        "outputId": "977db8a1-62da-4938-90ec-eb1f9387c038"
      },
      "source": [
        "print(\"Precision:\", tp /(tp+fp))  \n",
        "print(\"Recall:\", tp/(tp+fn))"
      ],
      "execution_count": 8,
      "outputs": [
        {
          "output_type": "stream",
          "text": [
            "Precision: 0.8810861423220974\n"
          ],
          "name": "stdout"
        }
      ]
    },
    {
      "cell_type": "code",
      "metadata": {
        "id": "hNhZQcToFDe5",
        "colab_type": "code",
        "colab": {
          "base_uri": "https://localhost:8080/",
          "height": 34
        },
        "outputId": "61a0248b-c04f-4b4f-f727-b189940808fb"
      },
      "source": [
        "print(\"Recall:\", tp/(tp+fn))"
      ],
      "execution_count": 9,
      "outputs": [
        {
          "output_type": "stream",
          "text": [
            "Recall: 0.9326065411298315\n"
          ],
          "name": "stdout"
        }
      ]
    },
    {
      "cell_type": "code",
      "metadata": {
        "id": "dU4Z4LTCFDZL",
        "colab_type": "code",
        "colab": {
          "base_uri": "https://localhost:8080/",
          "height": 428
        },
        "outputId": "54df01b9-a36d-4121-c658-cb9fee9ba8aa"
      },
      "source": [
        "model = pipeline.named_steps['randomforestclassifier']\n",
        "encoder = pipeline.named_steps['ordinalencoder']\n",
        "encoded_columns = encoder.transform(X_val).columns\n",
        "importances = pd.Series(model.feature_importances_, encoded_columns)\n",
        "plt.figure(figsize=(10,7))\n",
        "importances.sort_values().plot.barh();"
      ],
      "execution_count": 11,
      "outputs": [
        {
          "output_type": "display_data",
          "data": {
            "image/png": "[encoded data removed]",
            "text/plain": [
              "<Figure size 720x504 with 1 Axes>"
            ]
          },
          "metadata": {
            "tags": [],
            "needs_background": "light"
          }
        }
      ]
    },
    {
      "cell_type": "markdown",
      "metadata": {
        "id": "aQhoICyTG54G",
        "colab_type": "text"
      },
      "source": [
        "# **NLP**\n"
      ]
    },
    {
      "cell_type": "code",
      "metadata": {
        "id": "aY2kBQw_mq09",
        "colab_type": "code",
        "colab": {
          "base_uri": "https://localhost:8080/",
          "height": 204
        },
        "outputId": "e0444202-d1be-4521-ca72-a903fa550040"
      },
      "source": [
        "df = pd.read_csv('https://raw.githubusercontent.com/worldwidekatie/Build_Week_2/master/ira_cleaned_data.csv')\n",
        "df = df.copy()\n",
        "df = df[['content', 'target']]\n",
        "df.head()"
      ],
      "execution_count": 5,
      "outputs": [
        {
          "output_type": "execute_result",
          "data": {
            "text/html": [
              "<div>\n",
              "<style scoped>\n",
              "    .dataframe tbody tr th:only-of-type {\n",
              "        vertical-align: middle;\n",
              "    }\n",
              "\n",
              "    .dataframe tbody tr th {\n",
              "        vertical-align: top;\n",
              "    }\n",
              "\n",
              "    .dataframe thead th {\n",
              "        text-align: right;\n",
              "    }\n",
              "</style>\n",
              "<table border=\"1\" class=\"dataframe\">\n",
              "  <thead>\n",
              "    <tr style=\"text-align: right;\">\n",
              "      <th></th>\n",
              "      <th>content</th>\n",
              "      <th>target</th>\n",
              "    </tr>\n",
              "  </thead>\n",
              "  <tbody>\n",
              "    <tr>\n",
              "      <th>0</th>\n",
              "      <td>#adee RT davis1988will: Congratulations for Ma...</td>\n",
              "      <td>1.0</td>\n",
              "    </tr>\n",
              "    <tr>\n",
              "      <th>1</th>\n",
              "      <td>RT SSOL getting attention. It's penny play day...</td>\n",
              "      <td>1.0</td>\n",
              "    </tr>\n",
              "    <tr>\n",
              "      <th>2</th>\n",
              "      <td>#laup SHOCK VIDEO : Antifa Thugs Break a Latin...</td>\n",
              "      <td>1.0</td>\n",
              "    </tr>\n",
              "    <tr>\n",
              "      <th>3</th>\n",
              "      <td>PROOF Melania Has Done FAR MORE for Disaster R...</td>\n",
              "      <td>1.0</td>\n",
              "    </tr>\n",
              "    <tr>\n",
              "      <th>4</th>\n",
              "      <td>An USC professor, Raphael Bostic, named first ...</td>\n",
              "      <td>1.0</td>\n",
              "    </tr>\n",
              "  </tbody>\n",
              "</table>\n",
              "</div>"
            ],
            "text/plain": [
              "                                             content  target\n",
              "0  #adee RT davis1988will: Congratulations for Ma...     1.0\n",
              "1  RT SSOL getting attention. It's penny play day...     1.0\n",
              "2  #laup SHOCK VIDEO : Antifa Thugs Break a Latin...     1.0\n",
              "3  PROOF Melania Has Done FAR MORE for Disaster R...     1.0\n",
              "4  An USC professor, Raphael Bostic, named first ...     1.0"
            ]
          },
          "metadata": {
            "tags": []
          },
          "execution_count": 5
        }
      ]
    },
    {
      "cell_type": "markdown",
      "metadata": {
        "id": "F_hED_jqqqgs",
        "colab_type": "text"
      },
      "source": [
        "I'm estimating with a very high estimate that .00005% of tweets are IRA tweets. It's probably less than that.\n",
        "\n",
        "My sample has 5% IRA tweets, so it's a bit oversampled."
      ]
    },
    {
      "cell_type": "code",
      "metadata": {
        "id": "wDmGlPGvqehc",
        "colab_type": "code",
        "colab": {
          "base_uri": "https://localhost:8080/",
          "height": 68
        },
        "outputId": "51d04bd0-9e64-47aa-96e0-2099b24df670"
      },
      "source": [
        "df.target.value_counts(normalize=True)"
      ],
      "execution_count": 33,
      "outputs": [
        {
          "output_type": "execute_result",
          "data": {
            "text/plain": [
              "0.0    0.947465\n",
              "1.0    0.052535\n",
              "Name: target, dtype: float64"
            ]
          },
          "metadata": {
            "tags": []
          },
          "execution_count": 33
        }
      ]
    },
    {
      "cell_type": "code",
      "metadata": {
        "id": "_t4NUfutmsBI",
        "colab_type": "code",
        "colab": {
          "base_uri": "https://localhost:8080/",
          "height": 34
        },
        "outputId": "d8ba6585-ac34-45ec-d143-a1a1b290343b"
      },
      "source": [
        "train, val = train_test_split(df, random_state=42)\n",
        "print(train.shape, val.shape)"
      ],
      "execution_count": 6,
      "outputs": [
        {
          "output_type": "stream",
          "text": [
            "(151984, 2) (50662, 2)\n"
          ],
          "name": "stdout"
        }
      ]
    },
    {
      "cell_type": "code",
      "metadata": {
        "id": "hWK4BZzMmr6a",
        "colab_type": "code",
        "colab": {
          "base_uri": "https://localhost:8080/",
          "height": 34
        },
        "outputId": "8a538606-0ded-4568-c8c8-e5e31023b8d2"
      },
      "source": [
        "train, test = train_test_split(train, random_state=42)\n",
        "print(train.shape, test.shape)"
      ],
      "execution_count": 7,
      "outputs": [
        {
          "output_type": "stream",
          "text": [
            "(113988, 2) (37996, 2)\n"
          ],
          "name": "stdout"
        }
      ]
    },
    {
      "cell_type": "code",
      "metadata": {
        "id": "7XuBVGaSmr0c",
        "colab_type": "code",
        "colab": {}
      },
      "source": [
        "from sklearn.feature_extraction.text import TfidfVectorizer\n",
        "from sklearn.linear_model import PassiveAggressiveClassifier\n",
        "import itertools"
      ],
      "execution_count": 0,
      "outputs": []
    },
    {
      "cell_type": "code",
      "metadata": {
        "id": "6J4oZObbmrvm",
        "colab_type": "code",
        "colab": {}
      },
      "source": [
        "target = 'target'\n",
        "features = 'content'\n",
        "\n",
        "X_train = train[features]\n",
        "y_train = train[target]\n",
        "X_val = val[features]\n",
        "y_val = val[target]\n",
        "X_test = test[features]\n",
        "y_test = test[target]"
      ],
      "execution_count": 0,
      "outputs": []
    },
    {
      "cell_type": "markdown",
      "metadata": {
        "id": "CQcmLmx2HMwO",
        "colab_type": "text"
      },
      "source": [
        "#The pipeline below is the highest recall I could get 88.9%! Woot!"
      ]
    },
    {
      "cell_type": "code",
      "metadata": {
        "id": "1fjQf-w5Io0M",
        "colab_type": "code",
        "colab": {}
      },
      "source": [
        "from sklearn.feature_selection import SelectPercentile, f_classif"
      ],
      "execution_count": 0,
      "outputs": []
    },
    {
      "cell_type": "code",
      "metadata": {
        "id": "O9oLg-EAy5FE",
        "colab_type": "code",
        "colab": {
          "base_uri": "https://localhost:8080/",
          "height": 428
        },
        "outputId": "38bef213-f6eb-478a-a21c-38ca85b06cf8"
      },
      "source": [
        "pipeline = make_pipeline(\n",
        "    TfidfVectorizer(),\n",
        "    SelectPercentile(f_classif, percentile=10),\n",
        "    PassiveAggressiveClassifier()\n",
        ")\n",
        "param_distributions = { \n",
        "    #'selectpercentile__percentile':[5,10,30,40,60,90],\n",
        "    'passiveaggressiveclassifier__class_weight':[{1:0.52808406, 0:19.40184758}, \n",
        "                                                 {1:0.52808406, 0:9.40184758},\n",
        "                                                 'balanced', None],\n",
        "    'passiveaggressiveclassifier__max_iter':[10,20,30,40,50,60,70,100,200,500,None]\n",
        "}\n",
        "\n",
        "\n",
        "search = RandomizedSearchCV(\n",
        "    pipeline, \n",
        "    param_distributions=param_distributions, \n",
        "    n_iter=10, #Changed from 10\n",
        "    cv=5, #Changed from 5\n",
        "    scoring='recall', \n",
        "    verbose=1, \n",
        "    return_train_score=True\n",
        ")\n",
        "\n",
        "search.fit(X_train, y_train);"
      ],
      "execution_count": 28,
      "outputs": [
        {
          "output_type": "stream",
          "text": [
            "Fitting 5 folds for each of 10 candidates, totalling 50 fits\n"
          ],
          "name": "stdout"
        },
        {
          "output_type": "stream",
          "text": [
            "[Parallel(n_jobs=1)]: Using backend SequentialBackend with 1 concurrent workers.\n",
            "/usr/local/lib/python3.6/dist-packages/sklearn/model_selection/_validation.py:536: FitFailedWarning: Estimator fit failed. The score on this train-test partition for these parameters will be set to nan. Details: \n",
            "TypeError: an integer is required\n",
            "\n",
            "  FitFailedWarning)\n",
            "/usr/local/lib/python3.6/dist-packages/sklearn/model_selection/_validation.py:536: FitFailedWarning: Estimator fit failed. The score on this train-test partition for these parameters will be set to nan. Details: \n",
            "TypeError: an integer is required\n",
            "\n",
            "  FitFailedWarning)\n",
            "/usr/local/lib/python3.6/dist-packages/sklearn/model_selection/_validation.py:536: FitFailedWarning: Estimator fit failed. The score on this train-test partition for these parameters will be set to nan. Details: \n",
            "TypeError: an integer is required\n",
            "\n",
            "  FitFailedWarning)\n",
            "/usr/local/lib/python3.6/dist-packages/sklearn/model_selection/_validation.py:536: FitFailedWarning: Estimator fit failed. The score on this train-test partition for these parameters will be set to nan. Details: \n",
            "TypeError: an integer is required\n",
            "\n",
            "  FitFailedWarning)\n",
            "/usr/local/lib/python3.6/dist-packages/sklearn/model_selection/_validation.py:536: FitFailedWarning: Estimator fit failed. The score on this train-test partition for these parameters will be set to nan. Details: \n",
            "TypeError: an integer is required\n",
            "\n",
            "  FitFailedWarning)\n",
            "[Parallel(n_jobs=1)]: Done  50 out of  50 | elapsed:  2.8min finished\n"
          ],
          "name": "stderr"
        }
      ]
    },
    {
      "cell_type": "code",
      "metadata": {
        "id": "z1DufeDDhLZH",
        "colab_type": "code",
        "colab": {
          "base_uri": "https://localhost:8080/",
          "height": 105
        },
        "outputId": "86cb9121-80b4-412f-ae00-b991254c9b7e"
      },
      "source": [
        "print('Best hyperparameters', search.best_params_)\n",
        "print('Cross-validation Accuracy', -search.best_score_)\n",
        "pipeline = search.best_estimator_\n",
        "print(\"Train Accuracy:\", pipeline.score(X_train, y_train))\n",
        "print(\"Validation Accuracy:\", pipeline.score(X_val, y_val))"
      ],
      "execution_count": 29,
      "outputs": [
        {
          "output_type": "stream",
          "text": [
            "Best hyperparameters {'passiveaggressiveclassifier__max_iter': 60, 'passiveaggressiveclassifier__class_weight': 'balanced'}\n",
            "Cross-validation Accuracy -0.8825474303407258\n",
            "Train Accuracy: 0.9910867810646735\n",
            "Validation Accuracy: 0.9830050136196755\n"
          ],
          "name": "stdout"
        }
      ]
    },
    {
      "cell_type": "code",
      "metadata": {
        "id": "GbQ73YtehN3N",
        "colab_type": "code",
        "colab": {
          "base_uri": "https://localhost:8080/",
          "height": 51
        },
        "outputId": "d1fe5577-299b-427e-cacf-b78a9b71ec6a"
      },
      "source": [
        "y_pred = pipeline.predict(X_val)\n",
        "tn, fp, fn, tp = confusion_matrix(y_val, y_pred).ravel()\n",
        "print(\"Precision:\", tp /(tp+fp))  \n",
        "print(\"Recall:\", tp/(tp+fn))"
      ],
      "execution_count": 30,
      "outputs": [
        {
          "output_type": "stream",
          "text": [
            "Precision: 0.8025543665861236\n",
            "Recall: 0.8894414690130069\n"
          ],
          "name": "stdout"
        }
      ]
    },
    {
      "cell_type": "markdown",
      "metadata": {
        "id": "rbThBdtqpr6G",
        "colab_type": "text"
      },
      "source": [
        "# This attempt was the balanced between precision and recall I could get"
      ]
    },
    {
      "cell_type": "code",
      "metadata": {
        "id": "Ywhk4tBfJJNR",
        "colab_type": "code",
        "colab": {
          "base_uri": "https://localhost:8080/",
          "height": 105
        },
        "outputId": "e8e03037-016b-4edb-9b3a-288bc0cce7ce"
      },
      "source": [
        "print('Best hyperparameters', search.best_params_)\n",
        "print('Cross-validation Accuracy', -search.best_score_)\n",
        "pipeline = search.best_estimator_\n",
        "print(\"Train Accuracy:\", pipeline.score(X_train, y_train))\n",
        "print(\"Validation Accuracy:\", pipeline.score(X_val, y_val))"
      ],
      "execution_count": 152,
      "outputs": [
        {
          "output_type": "stream",
          "text": [
            "Best hyperparameters {'selectpercentile__percentile': 90, 'passiveaggressiveclassifier__max_iter': 200, 'passiveaggressiveclassifier__class_weight': 'balanced'}\n",
            "Cross-validation Accuracy -0.8447707590214917\n",
            "Train Accuracy: 0.9993683545636383\n",
            "Validation Accuracy: 0.984860447672812\n"
          ],
          "name": "stdout"
        }
      ]
    },
    {
      "cell_type": "code",
      "metadata": {
        "id": "u2bNSnaxJTVx",
        "colab_type": "code",
        "colab": {
          "base_uri": "https://localhost:8080/",
          "height": 51
        },
        "outputId": "4275e391-09c3-4d1f-92f5-1bfd9a6d33cf"
      },
      "source": [
        "y_pred = pipeline.predict(X_val)\n",
        "tn, fp, fn, tp = confusion_matrix(y_val, y_pred).ravel()\n",
        "print(\"Precision:\", tp /(tp+fp))  \n",
        "print(\"Recall:\", tp/(tp+fn))"
      ],
      "execution_count": 153,
      "outputs": [
        {
          "output_type": "stream",
          "text": [
            "Precision: 0.8542385884158036\n",
            "Recall: 0.8519510328997705\n"
          ],
          "name": "stdout"
        }
      ]
    },
    {
      "cell_type": "markdown",
      "metadata": {
        "id": "bt9mJ7NhpyMj",
        "colab_type": "text"
      },
      "source": [
        "#I'm trying to figure out feature importances but I'm not entirely sure what .vocabulary_ does or what this table means or why it's in the order that it is or what the numbers on the right mean."
      ]
    },
    {
      "cell_type": "code",
      "metadata": {
        "id": "SZd0cYiipCy2",
        "colab_type": "code",
        "colab": {
          "base_uri": "https://localhost:8080/",
          "height": 884
        },
        "outputId": "d3a1a8dc-5d74-49cc-ed8b-13076eb8221c"
      },
      "source": [
        "from sklearn.feature_extraction.text import TfidfVectorizer\n",
        "#print(vectorizer.get_feature_names())\n",
        "vectorizer = pipeline.named_steps['tfidfvectorizer']\n",
        "features = pd.Series(vectorizer.vocabulary_)\n",
        "features.head(50)"
      ],
      "execution_count": 32,
      "outputs": [
        {
          "output_type": "execute_result",
          "data": {
            "text/plain": [
              "disappointed      30277\n",
              "with             111164\n",
              "the              100901\n",
              "tt               104763\n",
              "today            103116\n",
              "ruined            87923\n",
              "by                19133\n",
              "hurricane         47743\n",
              "headwind          45239\n",
              "doing             31172\n",
              "make              64417\n",
              "up               106858\n",
              "homework          46808\n",
              "missing           68593\n",
              "school            89848\n",
              "all                8157\n",
              "time             102544\n",
              "for               38835\n",
              "acting             6334\n",
              "is                50520\n",
              "getting           41331\n",
              "little            61689\n",
              "annoying           9981\n",
              "homeschooling     46800\n",
              "would            111789\n",
              "be                13854\n",
              "so                94360\n",
              "much              70857\n",
              "easier            32989\n",
              "ouvindo           76912\n",
              "guns              43681\n",
              "roses             87473\n",
              "november          74565\n",
              "rain              83810\n",
              "new               73017\n",
              "proposal          82033\n",
              "takes             99213\n",
              "care              20075\n",
              "of                75369\n",
              "border            16972\n",
              "wall             109233\n",
              "funding           39944\n",
              "punishing         82502\n",
              "sanctuary         88962\n",
              "cities            23081\n",
              "https             47443\n",
              "co                23750\n",
              "twtjgukpnq       105676\n",
              "rlfd4kt7bw        86756\n",
              "stevesplace       96687\n",
              "dtype: int64"
            ]
          },
          "metadata": {
            "tags": []
          },
          "execution_count": 32
        }
      ]
    },
    {
      "cell_type": "code",
      "metadata": {
        "id": "E2xpAoMPfv1C",
        "colab_type": "code",
        "colab": {}
      },
      "source": [
        ""
      ],
      "execution_count": 0,
      "outputs": []
    }
  ]
}