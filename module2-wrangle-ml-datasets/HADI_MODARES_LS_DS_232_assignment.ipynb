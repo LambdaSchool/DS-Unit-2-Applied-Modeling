{
  "nbformat": 4,
  "nbformat_minor": 0,
  "metadata": {
    "kernelspec": {
      "display_name": "Python 3",
      "language": "python",
      "name": "python3"
    },
    "language_info": {
      "codemirror_mode": {
        "name": "ipython",
        "version": 3
      },
      "file_extension": ".py",
      "mimetype": "text/x-python",
      "name": "python",
      "nbconvert_exporter": "python",
      "pygments_lexer": "ipython3",
      "version": "3.6.9"
    },
    "colab": {
      "name": "HADI_MODARES_LS_DS_232_assignment.ipynb",
      "provenance": [],
      "collapsed_sections": [],
      "include_colab_link": true
    }
  },
  "cells": [
    {
      "cell_type": "markdown",
      "metadata": {
        "id": "view-in-github",
        "colab_type": "text"
      },
      "source": [
        "<a href=\"https://colab.research.google.com/github/hadi-M/DS-Unit-2-Applied-Modeling/blob/master/module2-wrangle-ml-datasets/HADI_MODARES_LS_DS_232_assignment.ipynb\" target=\"_parent\"><img src=\"https://colab.research.google.com/assets/colab-badge.svg\" alt=\"Open In Colab\"/></a>"
      ]
    },
    {
      "cell_type": "code",
      "metadata": {
        "id": "ZvmsfbnZQ9yh",
        "colab_type": "code",
        "colab": {}
      },
      "source": [
        "from selenium import webdriver\n",
        "from selenium.webdriver.support.ui import Select\n",
        "\n",
        "from os import getcwd\n",
        "# from pdb import set_trace as st\n",
        "from ipdb import set_trace as st\n",
        "\n",
        "from time import sleep\n",
        "\n",
        "from glob import glob"
      ],
      "execution_count": 0,
      "outputs": []
    },
    {
      "cell_type": "code",
      "metadata": {
        "id": "aub5XvgcQ9ym",
        "colab_type": "code",
        "colab": {}
      },
      "source": [
        "\n",
        "\n",
        "def initate_browser():\n",
        "    # config for now showing the download popup and setting the download dir\n",
        "    url = \"https://www.transtats.bts.gov/DL_SelectFields.asp?Table_ID=258\"\n",
        "    profile = webdriver.FirefoxProfile()\n",
        "    profile.set_preference('browser.download.folderList', 2) # custom location\n",
        "    profile.set_preference(\"browser.download.manager.showWhenStarting\", False)\n",
        "    profile.set_preference(\"browser.download.manager.showAlertOnComplete\", False)\n",
        "    profile.set_preference('browser.helperApps.neverAsk.saveToDisk', 'application/zip, text/html, application/x-zip-compressed')\n",
        "    profile.set_preference(\"browser.helperApps.neverAsk.openFile\",'application/zip, text/html, application/x-zip-compressed')\n",
        "    profile.set_preference('browser.download.dir', getcwd())\n",
        "\n",
        "    browser = webdriver.Firefox(profile)\n",
        "    browser.get(url)\n",
        "    \n",
        "    #set AllVars's tickbox\n",
        "    browser.find_element_by_css_selector('#AllVars').click()\n",
        "\n",
        "    return browser\n",
        "\n",
        "\n",
        "def download_file_year(browser, year):\n",
        "    select = Select(browser.find_element_by_css_selector('#XYEAR'))\n",
        "    select.select_by_value(str(year))\n",
        "    \n",
        "    # set dwonload dir\n",
        "#     download_dir = getcwd() + \"/\" + str(year) + \"/\"\n",
        "#     browser.profile.set_preference('browser.download.dir', getcwd())\n",
        "#     browser.profile.update_preferences()\n",
        "#     browser.profile.update_preferences(profile_new)\n",
        "    # click the button to download\n",
        "    browser.find_element_by_css_selector('.tsbutton').click()\n",
        "# browser.find_element_by_id('exporthlgt').click()"
      ],
      "execution_count": 0,
      "outputs": []
    },
    {
      "cell_type": "code",
      "metadata": {
        "id": "mmvDMq0uQ9yq",
        "colab_type": "code",
        "colab": {}
      },
      "source": [
        "def download_files():\n",
        "    browser = initate_browser()\n",
        "    for year in range(1990, 2021):\n",
        "        download_file_year(browser, year)\n",
        "        sleep(20)\n",
        "# download_file_year(browser, 2001)\n"
      ],
      "execution_count": 0,
      "outputs": []
    },
    {
      "cell_type": "code",
      "metadata": {
        "id": "sFEVEyAMQ9yu",
        "colab_type": "code",
        "colab": {},
        "outputId": "dc98cb4b-c302-47ca-ac3e-b48033c0eb62"
      },
      "source": [
        ""
      ],
      "execution_count": 0,
      "outputs": [
        {
          "output_type": "execute_result",
          "data": {
            "text/plain": [
              "'/home/belder/Codes/Lambda/Unit2/module3'"
            ]
          },
          "metadata": {
            "tags": []
          },
          "execution_count": 71
        }
      ]
    }
  ]
}