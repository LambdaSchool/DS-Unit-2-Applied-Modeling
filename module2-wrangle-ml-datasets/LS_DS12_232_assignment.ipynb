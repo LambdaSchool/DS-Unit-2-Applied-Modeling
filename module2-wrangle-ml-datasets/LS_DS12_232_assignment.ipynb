{
  "nbformat": 4,
  "nbformat_minor": 0,
  "metadata": {
    "jupytext": {
      "cell_metadata_filter": "-all",
      "main_language": "python",
      "notebook_metadata_filter": "-all"
    },
    "kernelspec": {
      "display_name": "Python 3",
      "language": "python",
      "name": "python3"
    },
    "language_info": {
      "codemirror_mode": {
        "name": "ipython",
        "version": 3
      },
      "file_extension": ".py",
      "mimetype": "text/x-python",
      "name": "python",
      "nbconvert_exporter": "python",
      "pygments_lexer": "ipython3",
      "version": "3.7.3"
    },
    "colab": {
      "name": "LS_DS12_232_assignment.ipynb",
      "provenance": [],
      "collapsed_sections": [],
      "include_colab_link": true
    }
  },
  "cells": [
    {
      "cell_type": "markdown",
      "metadata": {
        "id": "view-in-github",
        "colab_type": "text"
      },
      "source": [
        "<a href=\"https://colab.research.google.com/github/jdz014/DS-Unit-2-Applied-Modeling/blob/master/module2-wrangle-ml-datasets/LS_DS12_232_assignment.ipynb\" target=\"_parent\"><img src=\"https://colab.research.google.com/assets/colab-badge.svg\" alt=\"Open In Colab\"/></a>"
      ]
    },
    {
      "cell_type": "markdown",
      "metadata": {
        "id": "eV-It2LJwHWp",
        "colab_type": "text"
      },
      "source": [
        "Lambda School Data Science\n",
        "\n",
        "*Unit 2, Sprint 3, Module 1*\n",
        "\n",
        "---\n",
        "\n",
        "\n",
        "# Wrangle ML datasets\n",
        "\n",
        "- [ ] Continue to clean and explore your data. \n",
        "- [ ] For the evaluation metric you chose, what score would you get just by guessing?\n",
        "- [ ] Can you make a fast, first model that beats guessing?\n",
        "\n",
        "**We recommend that you use your portfolio project dataset for all assignments this sprint.**\n",
        "\n",
        "**But if you aren't ready yet, or you want more practice, then use the New York City property sales dataset for today's assignment.** Follow the instructions below, to just keep a subset for the Tribeca neighborhood, and remove outliers or dirty data. [Here's a video walkthrough](https://youtu.be/pPWFw8UtBVg?t=584) you can refer to if you get stuck or want hints!\n",
        "\n",
        "- Data Source: [NYC OpenData: NYC Citywide Rolling Calendar Sales](https://data.cityofnewyork.us/dataset/NYC-Citywide-Rolling-Calendar-Sales/usep-8jbt)\n",
        "- Glossary: [NYC Department of Finance: Rolling Sales Data](https://www1.nyc.gov/site/finance/taxes/property-rolling-sales-data.page)"
      ]
    },
    {
      "cell_type": "markdown",
      "metadata": {
        "id": "An0EeTupwHXD",
        "colab_type": "text"
      },
      "source": [
        "Your code starts here:"
      ]
    },
    {
      "cell_type": "code",
      "metadata": {
        "id": "gqrWQnegwpi7",
        "colab_type": "code",
        "colab": {
          "base_uri": "https://localhost:8080/",
          "height": 204
        },
        "outputId": "374e0dd9-00ee-4d4e-d480-422108c3cc62"
      },
      "source": [
        "!wget 'https://raw.githubusercontent.com/washingtonpost/data-school-shootings/master/school-shootings-data.csv'"
      ],
      "execution_count": 121,
      "outputs": [
        {
          "output_type": "stream",
          "text": [
            "--2020-02-26 02:29:43--  https://raw.githubusercontent.com/washingtonpost/data-school-shootings/master/school-shootings-data.csv\n",
            "Resolving raw.githubusercontent.com (raw.githubusercontent.com)... 151.101.0.133, 151.101.64.133, 151.101.128.133, ...\n",
            "Connecting to raw.githubusercontent.com (raw.githubusercontent.com)|151.101.0.133|:443... connected.\n",
            "HTTP request sent, awaiting response... 200 OK\n",
            "Length: 70530 (69K) [text/plain]\n",
            "Saving to: ‘school-shootings-data.csv.4’\n",
            "\n",
            "\r          school-sh   0%[                    ]       0  --.-KB/s               \rschool-shootings-da 100%[===================>]  68.88K  --.-KB/s    in 0.02s   \n",
            "\n",
            "2020-02-26 02:29:43 (2.77 MB/s) - ‘school-shootings-data.csv.4’ saved [70530/70530]\n",
            "\n"
          ],
          "name": "stdout"
        }
      ]
    },
    {
      "cell_type": "code",
      "metadata": {
        "id": "MwL5EcKwwxmK",
        "colab_type": "code",
        "colab": {
          "base_uri": "https://localhost:8080/",
          "height": 496
        },
        "outputId": "9b90994b-3778-430c-9058-3b37e7b62de2"
      },
      "source": [
        "import pandas as pd\n",
        "\n",
        "df = pd.read_csv('school-shootings-data.csv')\n",
        "print(df.shape)\n",
        "df.head()"
      ],
      "execution_count": 122,
      "outputs": [
        {
          "output_type": "stream",
          "text": [
            "(238, 50)\n"
          ],
          "name": "stdout"
        },
        {
          "output_type": "execute_result",
          "data": {
            "text/html": [
              "<div>\n",
              "<style scoped>\n",
              "    .dataframe tbody tr th:only-of-type {\n",
              "        vertical-align: middle;\n",
              "    }\n",
              "\n",
              "    .dataframe tbody tr th {\n",
              "        vertical-align: top;\n",
              "    }\n",
              "\n",
              "    .dataframe thead th {\n",
              "        text-align: right;\n",
              "    }\n",
              "</style>\n",
              "<table border=\"1\" class=\"dataframe\">\n",
              "  <thead>\n",
              "    <tr style=\"text-align: right;\">\n",
              "      <th></th>\n",
              "      <th>uid</th>\n",
              "      <th>nces_school_id</th>\n",
              "      <th>school_name</th>\n",
              "      <th>nces_district_id</th>\n",
              "      <th>district_name</th>\n",
              "      <th>date</th>\n",
              "      <th>school_year</th>\n",
              "      <th>year</th>\n",
              "      <th>time</th>\n",
              "      <th>day_of_week</th>\n",
              "      <th>city</th>\n",
              "      <th>state</th>\n",
              "      <th>school_type</th>\n",
              "      <th>enrollment</th>\n",
              "      <th>killed</th>\n",
              "      <th>injured</th>\n",
              "      <th>casualties</th>\n",
              "      <th>shooting_type</th>\n",
              "      <th>age_shooter1</th>\n",
              "      <th>gender_shooter1</th>\n",
              "      <th>race_ethnicity_shooter1</th>\n",
              "      <th>shooter_relationship1</th>\n",
              "      <th>shooter_deceased1</th>\n",
              "      <th>deceased_notes1</th>\n",
              "      <th>age_shooter2</th>\n",
              "      <th>gender_shooter2</th>\n",
              "      <th>race_ethnicity_shooter2</th>\n",
              "      <th>shooter_relationship2</th>\n",
              "      <th>shooter_deceased2</th>\n",
              "      <th>deceased_notes2</th>\n",
              "      <th>white</th>\n",
              "      <th>black</th>\n",
              "      <th>hispanic</th>\n",
              "      <th>asian</th>\n",
              "      <th>american_indian_alaska_native</th>\n",
              "      <th>hawaiian_native_pacific_islander</th>\n",
              "      <th>two_or_more</th>\n",
              "      <th>resource_officer</th>\n",
              "      <th>weapon</th>\n",
              "      <th>weapon_source</th>\n",
              "      <th>lat</th>\n",
              "      <th>long</th>\n",
              "      <th>staffing</th>\n",
              "      <th>low_grade</th>\n",
              "      <th>high_grade</th>\n",
              "      <th>lunch</th>\n",
              "      <th>county</th>\n",
              "      <th>state_fips</th>\n",
              "      <th>county_fips</th>\n",
              "      <th>ulocale</th>\n",
              "    </tr>\n",
              "  </thead>\n",
              "  <tbody>\n",
              "    <tr>\n",
              "      <th>0</th>\n",
              "      <td>1</td>\n",
              "      <td>080480000707</td>\n",
              "      <td>Columbine High School</td>\n",
              "      <td>804800.0</td>\n",
              "      <td>Jefferson County R-1</td>\n",
              "      <td>4/20/1999</td>\n",
              "      <td>1998-1999</td>\n",
              "      <td>1999</td>\n",
              "      <td>11:19 AM</td>\n",
              "      <td>Tuesday</td>\n",
              "      <td>Littleton</td>\n",
              "      <td>Colorado</td>\n",
              "      <td>public</td>\n",
              "      <td>1965</td>\n",
              "      <td>13</td>\n",
              "      <td>21</td>\n",
              "      <td>34</td>\n",
              "      <td>indiscriminate</td>\n",
              "      <td>18.0</td>\n",
              "      <td>m</td>\n",
              "      <td>w</td>\n",
              "      <td>student</td>\n",
              "      <td>1.0</td>\n",
              "      <td>suicide</td>\n",
              "      <td>17.0</td>\n",
              "      <td>m</td>\n",
              "      <td>w</td>\n",
              "      <td>student</td>\n",
              "      <td>1.0</td>\n",
              "      <td>suicide</td>\n",
              "      <td>1783</td>\n",
              "      <td>16.0</td>\n",
              "      <td>112.0</td>\n",
              "      <td>42.0</td>\n",
              "      <td>12.0</td>\n",
              "      <td>NaN</td>\n",
              "      <td>NaN</td>\n",
              "      <td>1</td>\n",
              "      <td>12-gauge Savage-Springfield 67H pump-action sh...</td>\n",
              "      <td>purchased from friends</td>\n",
              "      <td>39.603910</td>\n",
              "      <td>-105.075000</td>\n",
              "      <td>89.6</td>\n",
              "      <td>9</td>\n",
              "      <td>12</td>\n",
              "      <td>41.0</td>\n",
              "      <td>Jefferson County</td>\n",
              "      <td>8</td>\n",
              "      <td>8059</td>\n",
              "      <td>21.0</td>\n",
              "    </tr>\n",
              "    <tr>\n",
              "      <th>1</th>\n",
              "      <td>2</td>\n",
              "      <td>220054000422</td>\n",
              "      <td>Scotlandville Middle School</td>\n",
              "      <td>2200540.0</td>\n",
              "      <td>East Baton Rouge Parish School Board</td>\n",
              "      <td>4/22/1999</td>\n",
              "      <td>1998-1999</td>\n",
              "      <td>1999</td>\n",
              "      <td>12:30 PM</td>\n",
              "      <td>Thursday</td>\n",
              "      <td>Baton Rouge</td>\n",
              "      <td>Louisiana</td>\n",
              "      <td>public</td>\n",
              "      <td>588</td>\n",
              "      <td>0</td>\n",
              "      <td>1</td>\n",
              "      <td>1</td>\n",
              "      <td>targeted</td>\n",
              "      <td>14.0</td>\n",
              "      <td>m</td>\n",
              "      <td>NaN</td>\n",
              "      <td>former student (expelled)</td>\n",
              "      <td>0.0</td>\n",
              "      <td>NaN</td>\n",
              "      <td>NaN</td>\n",
              "      <td>NaN</td>\n",
              "      <td>NaN</td>\n",
              "      <td>NaN</td>\n",
              "      <td>NaN</td>\n",
              "      <td>NaN</td>\n",
              "      <td>5</td>\n",
              "      <td>583.0</td>\n",
              "      <td>0.0</td>\n",
              "      <td>0.0</td>\n",
              "      <td>0.0</td>\n",
              "      <td>NaN</td>\n",
              "      <td>NaN</td>\n",
              "      <td>0</td>\n",
              "      <td>.22-caliber handgun</td>\n",
              "      <td>NaN</td>\n",
              "      <td>30.529958</td>\n",
              "      <td>-91.169966</td>\n",
              "      <td>39.0</td>\n",
              "      <td>6</td>\n",
              "      <td>8</td>\n",
              "      <td>495.0</td>\n",
              "      <td>East Baton Rouge Parish</td>\n",
              "      <td>22</td>\n",
              "      <td>22033</td>\n",
              "      <td>12.0</td>\n",
              "    </tr>\n",
              "    <tr>\n",
              "      <th>2</th>\n",
              "      <td>3</td>\n",
              "      <td>130441001591</td>\n",
              "      <td>Heritage High School</td>\n",
              "      <td>1304410.0</td>\n",
              "      <td>Rockdale County</td>\n",
              "      <td>5/20/1999</td>\n",
              "      <td>1998-1999</td>\n",
              "      <td>1999</td>\n",
              "      <td>8:03 AM</td>\n",
              "      <td>Thursday</td>\n",
              "      <td>Conyers</td>\n",
              "      <td>Georgia</td>\n",
              "      <td>public</td>\n",
              "      <td>1,369</td>\n",
              "      <td>0</td>\n",
              "      <td>6</td>\n",
              "      <td>6</td>\n",
              "      <td>indiscriminate</td>\n",
              "      <td>15.0</td>\n",
              "      <td>m</td>\n",
              "      <td>w</td>\n",
              "      <td>student</td>\n",
              "      <td>0.0</td>\n",
              "      <td>NaN</td>\n",
              "      <td>NaN</td>\n",
              "      <td>NaN</td>\n",
              "      <td>NaN</td>\n",
              "      <td>NaN</td>\n",
              "      <td>NaN</td>\n",
              "      <td>NaN</td>\n",
              "      <td>1189</td>\n",
              "      <td>136.0</td>\n",
              "      <td>28.0</td>\n",
              "      <td>15.0</td>\n",
              "      <td>1.0</td>\n",
              "      <td>NaN</td>\n",
              "      <td>NaN</td>\n",
              "      <td>1</td>\n",
              "      <td>.22-caliber rifle, .357-caliber Magnum handgun</td>\n",
              "      <td>NaN</td>\n",
              "      <td>33.626922</td>\n",
              "      <td>-84.047960</td>\n",
              "      <td>84.0</td>\n",
              "      <td>9</td>\n",
              "      <td>12</td>\n",
              "      <td>125.0</td>\n",
              "      <td>Rockdale County</td>\n",
              "      <td>13</td>\n",
              "      <td>13247</td>\n",
              "      <td>21.0</td>\n",
              "    </tr>\n",
              "    <tr>\n",
              "      <th>3</th>\n",
              "      <td>4</td>\n",
              "      <td>421899003847</td>\n",
              "      <td>John Bartram High School</td>\n",
              "      <td>4218990.0</td>\n",
              "      <td>Philadelphia City SD</td>\n",
              "      <td>10/4/1999</td>\n",
              "      <td>1999-2000</td>\n",
              "      <td>1999</td>\n",
              "      <td>10:00 AM</td>\n",
              "      <td>Monday</td>\n",
              "      <td>Philadelphia</td>\n",
              "      <td>Pennsylvania</td>\n",
              "      <td>public</td>\n",
              "      <td>3147</td>\n",
              "      <td>0</td>\n",
              "      <td>1</td>\n",
              "      <td>1</td>\n",
              "      <td>targeted</td>\n",
              "      <td>17.0</td>\n",
              "      <td>m</td>\n",
              "      <td>NaN</td>\n",
              "      <td>student</td>\n",
              "      <td>0.0</td>\n",
              "      <td>NaN</td>\n",
              "      <td>NaN</td>\n",
              "      <td>NaN</td>\n",
              "      <td>NaN</td>\n",
              "      <td>NaN</td>\n",
              "      <td>NaN</td>\n",
              "      <td>NaN</td>\n",
              "      <td>209</td>\n",
              "      <td>2736.0</td>\n",
              "      <td>27.0</td>\n",
              "      <td>170.0</td>\n",
              "      <td>5.0</td>\n",
              "      <td>NaN</td>\n",
              "      <td>NaN</td>\n",
              "      <td>1</td>\n",
              "      <td>RG .25-caliber handgun</td>\n",
              "      <td>purchased from friend</td>\n",
              "      <td>39.921509</td>\n",
              "      <td>-75.234108</td>\n",
              "      <td>41.0</td>\n",
              "      <td>9</td>\n",
              "      <td>12</td>\n",
              "      <td>2007.0</td>\n",
              "      <td>Philadelphia County</td>\n",
              "      <td>42</td>\n",
              "      <td>42101</td>\n",
              "      <td>11.0</td>\n",
              "    </tr>\n",
              "    <tr>\n",
              "      <th>4</th>\n",
              "      <td>5</td>\n",
              "      <td>250279000225</td>\n",
              "      <td>Dorchester High School</td>\n",
              "      <td>2502790.0</td>\n",
              "      <td>Boston</td>\n",
              "      <td>11/3/1999</td>\n",
              "      <td>1999-2000</td>\n",
              "      <td>1999</td>\n",
              "      <td>7:40 AM</td>\n",
              "      <td>Wednesday</td>\n",
              "      <td>Boston</td>\n",
              "      <td>Massachusetts</td>\n",
              "      <td>public</td>\n",
              "      <td>1,116</td>\n",
              "      <td>0</td>\n",
              "      <td>1</td>\n",
              "      <td>1</td>\n",
              "      <td>targeted</td>\n",
              "      <td>NaN</td>\n",
              "      <td>m</td>\n",
              "      <td>NaN</td>\n",
              "      <td>NaN</td>\n",
              "      <td>0.0</td>\n",
              "      <td>NaN</td>\n",
              "      <td>NaN</td>\n",
              "      <td>NaN</td>\n",
              "      <td>NaN</td>\n",
              "      <td>NaN</td>\n",
              "      <td>NaN</td>\n",
              "      <td>NaN</td>\n",
              "      <td>40</td>\n",
              "      <td>755.0</td>\n",
              "      <td>287.0</td>\n",
              "      <td>29.0</td>\n",
              "      <td>5.0</td>\n",
              "      <td>NaN</td>\n",
              "      <td>NaN</td>\n",
              "      <td>0</td>\n",
              "      <td>NaN</td>\n",
              "      <td>NaN</td>\n",
              "      <td>42.285268</td>\n",
              "      <td>-71.075901</td>\n",
              "      <td>NaN</td>\n",
              "      <td>9</td>\n",
              "      <td>12</td>\n",
              "      <td>543.0</td>\n",
              "      <td>Suffolk County</td>\n",
              "      <td>25</td>\n",
              "      <td>25025</td>\n",
              "      <td>11.0</td>\n",
              "    </tr>\n",
              "  </tbody>\n",
              "</table>\n",
              "</div>"
            ],
            "text/plain": [
              "   uid nces_school_id  ... county_fips  ulocale\n",
              "0    1   080480000707  ...        8059     21.0\n",
              "1    2   220054000422  ...       22033     12.0\n",
              "2    3   130441001591  ...       13247     21.0\n",
              "3    4   421899003847  ...       42101     11.0\n",
              "4    5   250279000225  ...       25025     11.0\n",
              "\n",
              "[5 rows x 50 columns]"
            ]
          },
          "metadata": {
            "tags": []
          },
          "execution_count": 122
        }
      ]
    },
    {
      "cell_type": "code",
      "metadata": {
        "id": "X7Pho1XB7-gt",
        "colab_type": "code",
        "colab": {}
      },
      "source": [
        "# Replace shooting type with 'other' for rows not 'targeted' or 'indiscriminate'\n",
        "  df['shooting_type'] = df['shooting_type'].replace(['accidental', 'unclear',\n",
        "                                                    'targeted and indiscriminate',\n",
        "                                                    'public suicide',\n",
        "                                                    'hostage suicide',\n",
        "                                                    'accidental or targeted',\n",
        "                                                    'public suicide (attempted)'],\n",
        "                                                    'other')\n",
        "\n",
        "# Fill missing value with 'other'\n",
        "  df['shooting_type'] = df['shooting_type'].fillna('other')"
      ],
      "execution_count": 0,
      "outputs": []
    },
    {
      "cell_type": "code",
      "metadata": {
        "id": "BDT9cw_oMmOG",
        "colab_type": "code",
        "colab": {
          "base_uri": "https://localhost:8080/",
          "height": 85
        },
        "outputId": "21ea3eb3-a903-4c34-8143-cc19f139637a"
      },
      "source": [
        "# Majority class baseline 59%\n",
        "df['shooting_type'].value_counts(normalize=True)"
      ],
      "execution_count": 124,
      "outputs": [
        {
          "output_type": "execute_result",
          "data": {
            "text/plain": [
              "targeted          0.588235\n",
              "other             0.222689\n",
              "indiscriminate    0.189076\n",
              "Name: shooting_type, dtype: float64"
            ]
          },
          "metadata": {
            "tags": []
          },
          "execution_count": 124
        }
      ]
    },
    {
      "cell_type": "code",
      "metadata": {
        "id": "s31fcCI6w2Wx",
        "colab_type": "code",
        "colab": {
          "base_uri": "https://localhost:8080/",
          "height": 34
        },
        "outputId": "9c5e77bf-c3c9-4e91-ab72-a1a0779971cd"
      },
      "source": [
        "from sklearn.model_selection import train_test_split\n",
        "\n",
        "# Create train, test\n",
        "train, test = train_test_split(df, train_size=0.80, random_state=21, stratify=df['shooting_type'])\n",
        "\n",
        "train.shape, test.shape"
      ],
      "execution_count": 125,
      "outputs": [
        {
          "output_type": "execute_result",
          "data": {
            "text/plain": [
              "((190, 50), (48, 50))"
            ]
          },
          "metadata": {
            "tags": []
          },
          "execution_count": 125
        }
      ]
    },
    {
      "cell_type": "code",
      "metadata": {
        "id": "v9SWZkMAxyaj",
        "colab_type": "code",
        "colab": {}
      },
      "source": [
        "def wrangle(df):\n",
        "\n",
        "  # Avoid SettingWithCopyWarning\n",
        "  df = df.copy()\n",
        "\n",
        "  # Remove commas from numbers\n",
        "  df['white'] = df['white'].str.replace(\",\", \"\")\n",
        "\n",
        "  # Change from object to int\n",
        "  df['white'] = pd.to_numeric(df['white'])\n",
        "  \n",
        "  # Remove commas from numbers\n",
        "  df['enrollment'] = df['enrollment'].str.replace(\",\", \"\")\n",
        "\n",
        "  # Change from object to int\n",
        "  df['enrollment'] = pd.to_numeric(df['enrollment'])\n",
        "\n",
        "  # Fill missing values for these specific columns\n",
        "  df.fillna({'white': 0, 'black': 0, 'hispanic': 0, 'asian': 0,\n",
        "           'american_indian_alaska_native': 0,\n",
        "           'hawaiian_native_pacific_islander': 0, 'two_or_more': 0,\n",
        "           'district_name': 'Unknown', 'time': '12:00 PM', 'lat': 33.612910,\n",
        "           'long': -86.682000, 'staffing': 60.42, 'low_grade': '9',\n",
        "           'high_grade': '12'}, inplace=True)\n",
        "  \n",
        "  # Drop columns with 200+ missing values\n",
        "  df = df.drop(columns=['deceased_notes1', 'age_shooter2', 'gender_shooter2', \n",
        "                        'race_ethnicity_shooter2', 'shooter_relationship2', \n",
        "                        'shooter_deceased2', 'deceased_notes2'])\n",
        "\n",
        "  # Drop unusable variance \n",
        "  df = df.drop(columns=['uid', 'nces_school_id', 'nces_district_id', 'weapon', \n",
        "                        'weapon_source', 'state_fips', 'county_fips', 'ulocale',\n",
        "                        'lunch', 'age_shooter1', 'gender_shooter1',\n",
        "                        'race_ethnicity_shooter1', 'shooter_relationship1',\n",
        "                        'shooter_deceased1'])\n",
        "  \n",
        "  # Change date to datettime\n",
        "  df['date'] = pd.to_datetime(df['date'])\n",
        "\n",
        "  return df\n",
        "\n",
        "train = wrangle(train)\n",
        "test = wrangle(test)"
      ],
      "execution_count": 0,
      "outputs": []
    },
    {
      "cell_type": "code",
      "metadata": {
        "id": "w-aAa8ag0Uk4",
        "colab_type": "code",
        "colab": {
          "base_uri": "https://localhost:8080/",
          "height": 34
        },
        "outputId": "eb6a2bac-ec54-442d-c951-00fa3938a40b"
      },
      "source": [
        "train.shape, test.shape"
      ],
      "execution_count": 127,
      "outputs": [
        {
          "output_type": "execute_result",
          "data": {
            "text/plain": [
              "((190, 29), (48, 29))"
            ]
          },
          "metadata": {
            "tags": []
          },
          "execution_count": 127
        }
      ]
    },
    {
      "cell_type": "code",
      "metadata": {
        "id": "5Vz7qSBTA_O4",
        "colab_type": "code",
        "colab": {
          "base_uri": "https://localhost:8080/",
          "height": 224
        },
        "outputId": "02f2227b-55f5-412e-f191-9af0d6f60ef8"
      },
      "source": [
        "!pip install category_encoders==2.*"
      ],
      "execution_count": 128,
      "outputs": [
        {
          "output_type": "stream",
          "text": [
            "Requirement already satisfied: category_encoders==2.* in /usr/local/lib/python3.6/dist-packages (2.1.0)\n",
            "Requirement already satisfied: scikit-learn>=0.20.0 in /usr/local/lib/python3.6/dist-packages (from category_encoders==2.*) (0.22.1)\n",
            "Requirement already satisfied: numpy>=1.11.3 in /usr/local/lib/python3.6/dist-packages (from category_encoders==2.*) (1.17.5)\n",
            "Requirement already satisfied: pandas>=0.21.1 in /usr/local/lib/python3.6/dist-packages (from category_encoders==2.*) (0.25.3)\n",
            "Requirement already satisfied: scipy>=0.19.0 in /usr/local/lib/python3.6/dist-packages (from category_encoders==2.*) (1.4.1)\n",
            "Requirement already satisfied: patsy>=0.4.1 in /usr/local/lib/python3.6/dist-packages (from category_encoders==2.*) (0.5.1)\n",
            "Requirement already satisfied: statsmodels>=0.6.1 in /usr/local/lib/python3.6/dist-packages (from category_encoders==2.*) (0.10.2)\n",
            "Requirement already satisfied: joblib>=0.11 in /usr/local/lib/python3.6/dist-packages (from scikit-learn>=0.20.0->category_encoders==2.*) (0.14.1)\n",
            "Requirement already satisfied: python-dateutil>=2.6.1 in /usr/local/lib/python3.6/dist-packages (from pandas>=0.21.1->category_encoders==2.*) (2.6.1)\n",
            "Requirement already satisfied: pytz>=2017.2 in /usr/local/lib/python3.6/dist-packages (from pandas>=0.21.1->category_encoders==2.*) (2018.9)\n",
            "Requirement already satisfied: six in /usr/local/lib/python3.6/dist-packages (from patsy>=0.4.1->category_encoders==2.*) (1.12.0)\n"
          ],
          "name": "stdout"
        }
      ]
    },
    {
      "cell_type": "code",
      "metadata": {
        "id": "Z3i16tpR0Vbw",
        "colab_type": "code",
        "colab": {
          "base_uri": "https://localhost:8080/",
          "height": 85
        },
        "outputId": "d3730ff2-8aa7-4b7a-e2c8-8709230fa99f"
      },
      "source": [
        "import category_encoders as ce\n",
        "from sklearn.impute import SimpleImputer\n",
        "from sklearn.model_selection import cross_val_score\n",
        "from sklearn.pipeline import make_pipeline\n",
        "from sklearn.ensemble import RandomForestClassifier\n",
        "from sklearn.preprocessing import StandardScaler\n",
        "from sklearn.feature_selection import f_classif, SelectKBest\n",
        "from sklearn.linear_model import Ridge\n",
        "\n",
        "target = 'shooting_type'\n",
        "features = train.columns.drop([target, 'date'])\n",
        "X_train = train[features]\n",
        "y_train = train[target]\n",
        "X_test = test[features]\n",
        "y_test = test[target]\n",
        "\n",
        "pipeline = make_pipeline(\n",
        "    ce.OrdinalEncoder(), \n",
        "    StandardScaler(), \n",
        "    RandomForestClassifier(n_estimators=100, n_jobs=-1, random_state=21)\n",
        ")\n",
        "\n",
        "k = 20\n",
        "scores = cross_val_score(pipeline, X_train, y_train, cv=k)\n",
        "print(f'MAE for {k} folds:', scores)"
      ],
      "execution_count": 164,
      "outputs": [
        {
          "output_type": "stream",
          "text": [
            "MAE for 20 folds: [0.4        0.5        0.5        0.8        0.6        0.7\n",
            " 0.5        0.8        0.7        0.4        0.66666667 0.44444444\n",
            " 0.55555556 0.44444444 0.44444444 0.55555556 0.66666667 0.55555556\n",
            " 0.44444444 0.44444444]\n"
          ],
          "name": "stdout"
        }
      ]
    },
    {
      "cell_type": "code",
      "metadata": {
        "id": "TvpGVGpiNkZn",
        "colab_type": "code",
        "colab": {
          "base_uri": "https://localhost:8080/",
          "height": 34
        },
        "outputId": "3cfcee02-02a5-49cb-c9ff-32128fb3ffd5"
      },
      "source": [
        "scores.mean()"
      ],
      "execution_count": 165,
      "outputs": [
        {
          "output_type": "execute_result",
          "data": {
            "text/plain": [
              "0.5561111111111111"
            ]
          },
          "metadata": {
            "tags": []
          },
          "execution_count": 165
        }
      ]
    },
    {
      "cell_type": "code",
      "metadata": {
        "id": "9UG80zk0P-2q",
        "colab_type": "code",
        "colab": {
          "base_uri": "https://localhost:8080/",
          "height": 34
        },
        "outputId": "bd071e8c-c0e9-4af7-8b0f-9c8c115e47cd"
      },
      "source": [
        "from sklearn.tree import DecisionTreeClassifier\n",
        "\n",
        "target = 'shooting_type'\n",
        "features = train.columns.drop([target, 'date', ])\n",
        "X_train = train[features]\n",
        "y_train = train[target]\n",
        "X_test = test[features]\n",
        "y_test = test[target]\n",
        "\n",
        "pipeline = make_pipeline(\n",
        "    ce.OrdinalEncoder(), \n",
        "    DecisionTreeClassifier(max_depth=3)\n",
        ")\n",
        "\n",
        "pipeline.fit(X_train, y_train)\n",
        "print('Test Accuracy:', pipeline.score(X_test, y_test))"
      ],
      "execution_count": 155,
      "outputs": [
        {
          "output_type": "stream",
          "text": [
            "Test Accuracy: 0.5416666666666666\n"
          ],
          "name": "stdout"
        }
      ]
    }
  ]
}