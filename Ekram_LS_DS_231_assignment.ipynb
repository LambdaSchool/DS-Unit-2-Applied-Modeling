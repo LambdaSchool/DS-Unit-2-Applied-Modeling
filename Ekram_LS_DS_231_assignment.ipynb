{
  "nbformat": 4,
  "nbformat_minor": 0,
  "metadata": {
    "kernelspec": {
      "display_name": "Python 3",
      "language": "python",
      "name": "python3"
    },
    "language_info": {
      "codemirror_mode": {
        "name": "ipython",
        "version": 3
      },
      "file_extension": ".py",
      "mimetype": "text/x-python",
      "name": "python",
      "nbconvert_exporter": "python",
      "pygments_lexer": "ipython3",
      "version": "3.7.6"
    },
    "colab": {
      "name": "Ekram LS_DS_231_assignment.ipynb",
      "provenance": [],
      "include_colab_link": true
    }
  },
  "cells": [
    {
      "cell_type": "markdown",
      "metadata": {
        "id": "view-in-github",
        "colab_type": "text"
      },
      "source": [
        "<a href=\"https://colab.research.google.com/github/Ekram49/DS-Unit-2-Applied-Modeling/blob/master/Ekram_LS_DS_231_assignment.ipynb\" target=\"_parent\"><img src=\"https://colab.research.google.com/assets/colab-badge.svg\" alt=\"Open In Colab\"/></a>"
      ]
    },
    {
      "cell_type": "markdown",
      "metadata": {
        "colab_type": "text",
        "id": "nCc3XZEyG3XV"
      },
      "source": [
        "Lambda School Data Science\n",
        "\n",
        "*Unit 2, Sprint 3, Module 1*\n",
        "\n",
        "---\n",
        "\n",
        "\n",
        "# Define ML problems\n",
        "\n",
        "You will use your portfolio project dataset for all assignments this sprint.\n",
        "\n",
        "## Assignment\n",
        "\n",
        "Complete these tasks for your project, and document your decisions.\n",
        "\n",
        "- [ ] Choose your target. Which column in your tabular dataset will you predict?\n",
        "- [ ] Is your problem regression or classification?\n",
        "- [ ] How is your target distributed?\n",
        "    - Classification: How many classes? Are the classes imbalanced?\n",
        "    - Regression: Is the target right-skewed? If so, you may want to log transform the target.\n",
        "- [ ] Choose your evaluation metric(s).\n",
        "    - Classification: Is your majority class frequency >= 50% and < 70% ? If so, you can just use accuracy if you want. Outside that range, accuracy could be misleading. What evaluation metric will you choose, in addition to or instead of accuracy?\n",
        "    - Regression: Will you use mean absolute error, root mean squared error, R^2, or other regression metrics?\n",
        "- [ ] Choose which observations you will use to train, validate, and test your model.\n",
        "    - Are some observations outliers? Will you exclude them?\n",
        "    - Will you do a random split or a time-based split?\n",
        "- [ ] Begin to clean and explore your data.\n",
        "- [ ] Begin to choose which features, if any, to exclude. Would some features \"leak\" future information?\n",
        "\n",
        "If you haven't found a dataset yet, do that today. [Review requirements for your portfolio project](https://lambdaschool.github.io/ds/unit2) and choose your dataset.\n",
        "\n",
        "Some students worry, ***what if my model isn't “good”?*** Then, [produce a detailed tribute to your wrongness. That is science!](https://twitter.com/nathanwpyle/status/1176860147223867393)"
      ]
    },
    {
      "cell_type": "code",
      "metadata": {
        "id": "MXnC6r4M9o3Q",
        "colab_type": "code",
        "colab": {}
      },
      "source": [
        "import pandas as pd\n",
        "import numpy as np\n",
        "import matplotlib.pyplot as plt"
      ],
      "execution_count": 0,
      "outputs": []
    },
    {
      "cell_type": "code",
      "metadata": {
        "id": "20vMXbKl9qZj",
        "colab_type": "code",
        "outputId": "65f6657d-de22-4402-c001-983e32242140",
        "colab": {
          "base_uri": "https://localhost:8080/",
          "height": 383
        }
      },
      "source": [
        "df = pd.read_csv('https://raw.githubusercontent.com/Ekram49/DS-Unit-1-Build/master/ContinousDataset.csv')\n",
        "df.head()"
      ],
      "execution_count": 2,
      "outputs": [
        {
          "output_type": "execute_result",
          "data": {
            "text/html": [
              "<div>\n",
              "<style scoped>\n",
              "    .dataframe tbody tr th:only-of-type {\n",
              "        vertical-align: middle;\n",
              "    }\n",
              "\n",
              "    .dataframe tbody tr th {\n",
              "        vertical-align: top;\n",
              "    }\n",
              "\n",
              "    .dataframe thead th {\n",
              "        text-align: right;\n",
              "    }\n",
              "</style>\n",
              "<table border=\"1\" class=\"dataframe\">\n",
              "  <thead>\n",
              "    <tr style=\"text-align: right;\">\n",
              "      <th></th>\n",
              "      <th>Unnamed: 0</th>\n",
              "      <th>Scorecard</th>\n",
              "      <th>Team 1</th>\n",
              "      <th>Team 2</th>\n",
              "      <th>Margin</th>\n",
              "      <th>Ground</th>\n",
              "      <th>Match Date</th>\n",
              "      <th>Winner</th>\n",
              "      <th>Host_Country</th>\n",
              "      <th>Venue_Team1</th>\n",
              "      <th>Venue_Team2</th>\n",
              "      <th>Innings_Team1</th>\n",
              "      <th>Innings_Team2</th>\n",
              "    </tr>\n",
              "  </thead>\n",
              "  <tbody>\n",
              "    <tr>\n",
              "      <th>0</th>\n",
              "      <td>0</td>\n",
              "      <td>ODI # 1</td>\n",
              "      <td>Australia</td>\n",
              "      <td>England</td>\n",
              "      <td>Winner2ndInning</td>\n",
              "      <td>Melbourne</td>\n",
              "      <td>Jan 5, 1971</td>\n",
              "      <td>Australia</td>\n",
              "      <td>Australia</td>\n",
              "      <td>Home</td>\n",
              "      <td>Away</td>\n",
              "      <td>Second</td>\n",
              "      <td>First</td>\n",
              "    </tr>\n",
              "    <tr>\n",
              "      <th>1</th>\n",
              "      <td>1</td>\n",
              "      <td>ODI # 2</td>\n",
              "      <td>England</td>\n",
              "      <td>Australia</td>\n",
              "      <td>Winner2ndInning</td>\n",
              "      <td>Manchester</td>\n",
              "      <td>Aug 24, 1972</td>\n",
              "      <td>England</td>\n",
              "      <td>England</td>\n",
              "      <td>Home</td>\n",
              "      <td>Away</td>\n",
              "      <td>Second</td>\n",
              "      <td>First</td>\n",
              "    </tr>\n",
              "    <tr>\n",
              "      <th>2</th>\n",
              "      <td>2</td>\n",
              "      <td>ODI # 3</td>\n",
              "      <td>England</td>\n",
              "      <td>Australia</td>\n",
              "      <td>Winner2ndInning</td>\n",
              "      <td>Lord's</td>\n",
              "      <td>Aug 26, 1972</td>\n",
              "      <td>Australia</td>\n",
              "      <td>England</td>\n",
              "      <td>Home</td>\n",
              "      <td>Away</td>\n",
              "      <td>First</td>\n",
              "      <td>Second</td>\n",
              "    </tr>\n",
              "    <tr>\n",
              "      <th>3</th>\n",
              "      <td>3</td>\n",
              "      <td>ODI # 4</td>\n",
              "      <td>England</td>\n",
              "      <td>Australia</td>\n",
              "      <td>Winner2ndInning</td>\n",
              "      <td>Birmingham</td>\n",
              "      <td>Aug 28, 1972</td>\n",
              "      <td>England</td>\n",
              "      <td>England</td>\n",
              "      <td>Home</td>\n",
              "      <td>Away</td>\n",
              "      <td>Second</td>\n",
              "      <td>First</td>\n",
              "    </tr>\n",
              "    <tr>\n",
              "      <th>4</th>\n",
              "      <td>4</td>\n",
              "      <td>ODI # 5</td>\n",
              "      <td>New Zealand</td>\n",
              "      <td>Pakistan</td>\n",
              "      <td>Winner1stInning</td>\n",
              "      <td>Christchurch</td>\n",
              "      <td>Feb 11, 1973</td>\n",
              "      <td>New Zealand</td>\n",
              "      <td>New Zealand</td>\n",
              "      <td>Home</td>\n",
              "      <td>Away</td>\n",
              "      <td>First</td>\n",
              "      <td>Second</td>\n",
              "    </tr>\n",
              "  </tbody>\n",
              "</table>\n",
              "</div>"
            ],
            "text/plain": [
              "   Unnamed: 0 Scorecard       Team 1  ... Venue_Team2 Innings_Team1 Innings_Team2\n",
              "0           0   ODI # 1    Australia  ...        Away        Second         First\n",
              "1           1   ODI # 2      England  ...        Away        Second         First\n",
              "2           2   ODI # 3      England  ...        Away         First        Second\n",
              "3           3   ODI # 4      England  ...        Away        Second         First\n",
              "4           4   ODI # 5  New Zealand  ...        Away         First        Second\n",
              "\n",
              "[5 rows x 13 columns]"
            ]
          },
          "metadata": {
            "tags": []
          },
          "execution_count": 2
        }
      ]
    },
    {
      "cell_type": "code",
      "metadata": {
        "id": "-7E5wVmZ9s2M",
        "colab_type": "code",
        "outputId": "1926f961-6827-4451-d3b6-e4dc2eee60b0",
        "colab": {
          "base_uri": "https://localhost:8080/",
          "height": 299
        }
      },
      "source": [
        "df = df.rename(columns={\"Team 1\": \"Team_1\", \"Team 2\": \"Team_2\",\n",
        "                   \"Team 1\": \"Team_1\",\"Match Date\":\"Match_Date\"})\n",
        "df.head()"
      ],
      "execution_count": 3,
      "outputs": [
        {
          "output_type": "execute_result",
          "data": {
            "text/html": [
              "<div>\n",
              "<style scoped>\n",
              "    .dataframe tbody tr th:only-of-type {\n",
              "        vertical-align: middle;\n",
              "    }\n",
              "\n",
              "    .dataframe tbody tr th {\n",
              "        vertical-align: top;\n",
              "    }\n",
              "\n",
              "    .dataframe thead th {\n",
              "        text-align: right;\n",
              "    }\n",
              "</style>\n",
              "<table border=\"1\" class=\"dataframe\">\n",
              "  <thead>\n",
              "    <tr style=\"text-align: right;\">\n",
              "      <th></th>\n",
              "      <th>Unnamed: 0</th>\n",
              "      <th>Scorecard</th>\n",
              "      <th>Team_1</th>\n",
              "      <th>Team_2</th>\n",
              "      <th>Margin</th>\n",
              "      <th>Ground</th>\n",
              "      <th>Match_Date</th>\n",
              "      <th>Winner</th>\n",
              "      <th>Host_Country</th>\n",
              "      <th>Venue_Team1</th>\n",
              "      <th>Venue_Team2</th>\n",
              "      <th>Innings_Team1</th>\n",
              "      <th>Innings_Team2</th>\n",
              "    </tr>\n",
              "  </thead>\n",
              "  <tbody>\n",
              "    <tr>\n",
              "      <th>0</th>\n",
              "      <td>0</td>\n",
              "      <td>ODI # 1</td>\n",
              "      <td>Australia</td>\n",
              "      <td>England</td>\n",
              "      <td>Winner2ndInning</td>\n",
              "      <td>Melbourne</td>\n",
              "      <td>Jan 5, 1971</td>\n",
              "      <td>Australia</td>\n",
              "      <td>Australia</td>\n",
              "      <td>Home</td>\n",
              "      <td>Away</td>\n",
              "      <td>Second</td>\n",
              "      <td>First</td>\n",
              "    </tr>\n",
              "    <tr>\n",
              "      <th>1</th>\n",
              "      <td>1</td>\n",
              "      <td>ODI # 2</td>\n",
              "      <td>England</td>\n",
              "      <td>Australia</td>\n",
              "      <td>Winner2ndInning</td>\n",
              "      <td>Manchester</td>\n",
              "      <td>Aug 24, 1972</td>\n",
              "      <td>England</td>\n",
              "      <td>England</td>\n",
              "      <td>Home</td>\n",
              "      <td>Away</td>\n",
              "      <td>Second</td>\n",
              "      <td>First</td>\n",
              "    </tr>\n",
              "    <tr>\n",
              "      <th>2</th>\n",
              "      <td>2</td>\n",
              "      <td>ODI # 3</td>\n",
              "      <td>England</td>\n",
              "      <td>Australia</td>\n",
              "      <td>Winner2ndInning</td>\n",
              "      <td>Lord's</td>\n",
              "      <td>Aug 26, 1972</td>\n",
              "      <td>Australia</td>\n",
              "      <td>England</td>\n",
              "      <td>Home</td>\n",
              "      <td>Away</td>\n",
              "      <td>First</td>\n",
              "      <td>Second</td>\n",
              "    </tr>\n",
              "    <tr>\n",
              "      <th>3</th>\n",
              "      <td>3</td>\n",
              "      <td>ODI # 4</td>\n",
              "      <td>England</td>\n",
              "      <td>Australia</td>\n",
              "      <td>Winner2ndInning</td>\n",
              "      <td>Birmingham</td>\n",
              "      <td>Aug 28, 1972</td>\n",
              "      <td>England</td>\n",
              "      <td>England</td>\n",
              "      <td>Home</td>\n",
              "      <td>Away</td>\n",
              "      <td>Second</td>\n",
              "      <td>First</td>\n",
              "    </tr>\n",
              "    <tr>\n",
              "      <th>4</th>\n",
              "      <td>4</td>\n",
              "      <td>ODI # 5</td>\n",
              "      <td>New Zealand</td>\n",
              "      <td>Pakistan</td>\n",
              "      <td>Winner1stInning</td>\n",
              "      <td>Christchurch</td>\n",
              "      <td>Feb 11, 1973</td>\n",
              "      <td>New Zealand</td>\n",
              "      <td>New Zealand</td>\n",
              "      <td>Home</td>\n",
              "      <td>Away</td>\n",
              "      <td>First</td>\n",
              "      <td>Second</td>\n",
              "    </tr>\n",
              "  </tbody>\n",
              "</table>\n",
              "</div>"
            ],
            "text/plain": [
              "   Unnamed: 0 Scorecard       Team_1  ... Venue_Team2 Innings_Team1 Innings_Team2\n",
              "0           0   ODI # 1    Australia  ...        Away        Second         First\n",
              "1           1   ODI # 2      England  ...        Away        Second         First\n",
              "2           2   ODI # 3      England  ...        Away         First        Second\n",
              "3           3   ODI # 4      England  ...        Away        Second         First\n",
              "4           4   ODI # 5  New Zealand  ...        Away         First        Second\n",
              "\n",
              "[5 rows x 13 columns]"
            ]
          },
          "metadata": {
            "tags": []
          },
          "execution_count": 3
        }
      ]
    },
    {
      "cell_type": "code",
      "metadata": {
        "id": "ecqV9pKJ90DQ",
        "colab_type": "code",
        "outputId": "5b610a1b-3232-4ebd-a88d-d32eab3cf582",
        "colab": {
          "base_uri": "https://localhost:8080/",
          "height": 282
        }
      },
      "source": [
        "df1 = df[(((df['Team_1'] == 'India') | (df['Team_2'] == 'India'))) & (((df['Team_1'] == 'Pakistan') | (df['Team_2'] == 'Pakistan'))) ]\n",
        "\n",
        "df1.head()"
      ],
      "execution_count": 4,
      "outputs": [
        {
          "output_type": "execute_result",
          "data": {
            "text/html": [
              "<div>\n",
              "<style scoped>\n",
              "    .dataframe tbody tr th:only-of-type {\n",
              "        vertical-align: middle;\n",
              "    }\n",
              "\n",
              "    .dataframe tbody tr th {\n",
              "        vertical-align: top;\n",
              "    }\n",
              "\n",
              "    .dataframe thead th {\n",
              "        text-align: right;\n",
              "    }\n",
              "</style>\n",
              "<table border=\"1\" class=\"dataframe\">\n",
              "  <thead>\n",
              "    <tr style=\"text-align: right;\">\n",
              "      <th></th>\n",
              "      <th>Unnamed: 0</th>\n",
              "      <th>Scorecard</th>\n",
              "      <th>Team_1</th>\n",
              "      <th>Team_2</th>\n",
              "      <th>Margin</th>\n",
              "      <th>Ground</th>\n",
              "      <th>Match_Date</th>\n",
              "      <th>Winner</th>\n",
              "      <th>Host_Country</th>\n",
              "      <th>Venue_Team1</th>\n",
              "      <th>Venue_Team2</th>\n",
              "      <th>Innings_Team1</th>\n",
              "      <th>Innings_Team2</th>\n",
              "    </tr>\n",
              "  </thead>\n",
              "  <tbody>\n",
              "    <tr>\n",
              "      <th>50</th>\n",
              "      <td>50</td>\n",
              "      <td>ODI # 54</td>\n",
              "      <td>Pakistan</td>\n",
              "      <td>India</td>\n",
              "      <td>Winner1stInning</td>\n",
              "      <td>Quetta</td>\n",
              "      <td>Oct 1, 1978</td>\n",
              "      <td>India</td>\n",
              "      <td>Pakistan</td>\n",
              "      <td>Home</td>\n",
              "      <td>Away</td>\n",
              "      <td>Second</td>\n",
              "      <td>First</td>\n",
              "    </tr>\n",
              "    <tr>\n",
              "      <th>51</th>\n",
              "      <td>51</td>\n",
              "      <td>ODI # 55</td>\n",
              "      <td>Pakistan</td>\n",
              "      <td>India</td>\n",
              "      <td>Winner2ndInning</td>\n",
              "      <td>Sialkot</td>\n",
              "      <td>Oct 13, 1978</td>\n",
              "      <td>Pakistan</td>\n",
              "      <td>Pakistan</td>\n",
              "      <td>Home</td>\n",
              "      <td>Away</td>\n",
              "      <td>Second</td>\n",
              "      <td>First</td>\n",
              "    </tr>\n",
              "    <tr>\n",
              "      <th>154</th>\n",
              "      <td>155</td>\n",
              "      <td>ODI # 162</td>\n",
              "      <td>Pakistan</td>\n",
              "      <td>India</td>\n",
              "      <td>Winner1stInning</td>\n",
              "      <td>Gujranwala</td>\n",
              "      <td>Dec 3, 1982</td>\n",
              "      <td>Pakistan</td>\n",
              "      <td>Pakistan</td>\n",
              "      <td>Home</td>\n",
              "      <td>Away</td>\n",
              "      <td>First</td>\n",
              "      <td>Second</td>\n",
              "    </tr>\n",
              "    <tr>\n",
              "      <th>155</th>\n",
              "      <td>156</td>\n",
              "      <td>ODI # 163</td>\n",
              "      <td>Pakistan</td>\n",
              "      <td>India</td>\n",
              "      <td>Winner1stInning</td>\n",
              "      <td>Multan</td>\n",
              "      <td>Dec 17, 1982</td>\n",
              "      <td>Pakistan</td>\n",
              "      <td>Pakistan</td>\n",
              "      <td>Home</td>\n",
              "      <td>Away</td>\n",
              "      <td>First</td>\n",
              "      <td>Second</td>\n",
              "    </tr>\n",
              "    <tr>\n",
              "      <th>156</th>\n",
              "      <td>157</td>\n",
              "      <td>ODI # 164</td>\n",
              "      <td>Pakistan</td>\n",
              "      <td>India</td>\n",
              "      <td>Winner1stInning</td>\n",
              "      <td>Lahore</td>\n",
              "      <td>Dec 31, 1982</td>\n",
              "      <td>India</td>\n",
              "      <td>Pakistan</td>\n",
              "      <td>Home</td>\n",
              "      <td>Away</td>\n",
              "      <td>Second</td>\n",
              "      <td>First</td>\n",
              "    </tr>\n",
              "  </tbody>\n",
              "</table>\n",
              "</div>"
            ],
            "text/plain": [
              "     Unnamed: 0  Scorecard    Team_1  ... Venue_Team2 Innings_Team1 Innings_Team2\n",
              "50           50   ODI # 54  Pakistan  ...        Away        Second         First\n",
              "51           51   ODI # 55  Pakistan  ...        Away        Second         First\n",
              "154         155  ODI # 162  Pakistan  ...        Away         First        Second\n",
              "155         156  ODI # 163  Pakistan  ...        Away         First        Second\n",
              "156         157  ODI # 164  Pakistan  ...        Away        Second         First\n",
              "\n",
              "[5 rows x 13 columns]"
            ]
          },
          "metadata": {
            "tags": []
          },
          "execution_count": 4
        }
      ]
    },
    {
      "cell_type": "code",
      "metadata": {
        "id": "kN436XjJ92vP",
        "colab_type": "code",
        "outputId": "5192108e-dbdb-4a4b-f90e-a3af966111f4",
        "colab": {
          "base_uri": "https://localhost:8080/",
          "height": 316
        }
      },
      "source": [
        "df1.tail()"
      ],
      "execution_count": 5,
      "outputs": [
        {
          "output_type": "execute_result",
          "data": {
            "text/html": [
              "<div>\n",
              "<style scoped>\n",
              "    .dataframe tbody tr th:only-of-type {\n",
              "        vertical-align: middle;\n",
              "    }\n",
              "\n",
              "    .dataframe tbody tr th {\n",
              "        vertical-align: top;\n",
              "    }\n",
              "\n",
              "    .dataframe thead th {\n",
              "        text-align: right;\n",
              "    }\n",
              "</style>\n",
              "<table border=\"1\" class=\"dataframe\">\n",
              "  <thead>\n",
              "    <tr style=\"text-align: right;\">\n",
              "      <th></th>\n",
              "      <th>Unnamed: 0</th>\n",
              "      <th>Scorecard</th>\n",
              "      <th>Team_1</th>\n",
              "      <th>Team_2</th>\n",
              "      <th>Margin</th>\n",
              "      <th>Ground</th>\n",
              "      <th>Match_Date</th>\n",
              "      <th>Winner</th>\n",
              "      <th>Host_Country</th>\n",
              "      <th>Venue_Team1</th>\n",
              "      <th>Venue_Team2</th>\n",
              "      <th>Innings_Team1</th>\n",
              "      <th>Innings_Team2</th>\n",
              "    </tr>\n",
              "  </thead>\n",
              "  <tbody>\n",
              "    <tr>\n",
              "      <th>6960</th>\n",
              "      <td>3218</td>\n",
              "      <td>ODI # 3372</td>\n",
              "      <td>Pakistan</td>\n",
              "      <td>India</td>\n",
              "      <td>Winner2ndInning</td>\n",
              "      <td>Birmingham</td>\n",
              "      <td>Jun 15, 2013</td>\n",
              "      <td>India</td>\n",
              "      <td>England</td>\n",
              "      <td>Neutral</td>\n",
              "      <td>Neutral</td>\n",
              "      <td>First</td>\n",
              "      <td>Second</td>\n",
              "    </tr>\n",
              "    <tr>\n",
              "      <th>7059</th>\n",
              "      <td>3317</td>\n",
              "      <td>ODI # 3479</td>\n",
              "      <td>Pakistan</td>\n",
              "      <td>India</td>\n",
              "      <td>Winner2ndInning</td>\n",
              "      <td>Dhaka</td>\n",
              "      <td>Mar 2, 2014</td>\n",
              "      <td>Pakistan</td>\n",
              "      <td>Bangladesh</td>\n",
              "      <td>Neutral</td>\n",
              "      <td>Neutral</td>\n",
              "      <td>Second</td>\n",
              "      <td>First</td>\n",
              "    </tr>\n",
              "    <tr>\n",
              "      <th>7177</th>\n",
              "      <td>3435</td>\n",
              "      <td>ODI # 3602</td>\n",
              "      <td>Pakistan</td>\n",
              "      <td>India</td>\n",
              "      <td>Winner1stInning</td>\n",
              "      <td>Adelaide</td>\n",
              "      <td>Feb 15, 2015</td>\n",
              "      <td>India</td>\n",
              "      <td>Australia</td>\n",
              "      <td>Neutral</td>\n",
              "      <td>Neutral</td>\n",
              "      <td>Second</td>\n",
              "      <td>First</td>\n",
              "    </tr>\n",
              "    <tr>\n",
              "      <th>7440</th>\n",
              "      <td>3698</td>\n",
              "      <td>ODI # 3878</td>\n",
              "      <td>Pakistan</td>\n",
              "      <td>India</td>\n",
              "      <td>Winner1stInning</td>\n",
              "      <td>Birmingham</td>\n",
              "      <td>Jun 4, 2017</td>\n",
              "      <td>India</td>\n",
              "      <td>England</td>\n",
              "      <td>Neutral</td>\n",
              "      <td>Neutral</td>\n",
              "      <td>Second</td>\n",
              "      <td>First</td>\n",
              "    </tr>\n",
              "    <tr>\n",
              "      <th>7454</th>\n",
              "      <td>3712</td>\n",
              "      <td>ODI # 3894</td>\n",
              "      <td>Pakistan</td>\n",
              "      <td>India</td>\n",
              "      <td>Winner1stInning</td>\n",
              "      <td>The Oval</td>\n",
              "      <td>Jun 18, 2017</td>\n",
              "      <td>Pakistan</td>\n",
              "      <td>England</td>\n",
              "      <td>Neutral</td>\n",
              "      <td>Neutral</td>\n",
              "      <td>First</td>\n",
              "      <td>Second</td>\n",
              "    </tr>\n",
              "  </tbody>\n",
              "</table>\n",
              "</div>"
            ],
            "text/plain": [
              "      Unnamed: 0   Scorecard    Team_1  ... Venue_Team2 Innings_Team1 Innings_Team2\n",
              "6960        3218  ODI # 3372  Pakistan  ...     Neutral         First        Second\n",
              "7059        3317  ODI # 3479  Pakistan  ...     Neutral        Second         First\n",
              "7177        3435  ODI # 3602  Pakistan  ...     Neutral        Second         First\n",
              "7440        3698  ODI # 3878  Pakistan  ...     Neutral        Second         First\n",
              "7454        3712  ODI # 3894  Pakistan  ...     Neutral         First        Second\n",
              "\n",
              "[5 rows x 13 columns]"
            ]
          },
          "metadata": {
            "tags": []
          },
          "execution_count": 5
        }
      ]
    },
    {
      "cell_type": "markdown",
      "metadata": {
        "id": "QzaSOtdv-64y",
        "colab_type": "text"
      },
      "source": [
        "# The above data is the record of all the matches between India and Pakistan. I wan to predict the 'Winner' column"
      ]
    },
    {
      "cell_type": "markdown",
      "metadata": {
        "id": "TAIXncau_q5T",
        "colab_type": "text"
      },
      "source": [
        "# It's a classification problem"
      ]
    },
    {
      "cell_type": "markdown",
      "metadata": {
        "id": "pAtdg4M1_3UM",
        "colab_type": "text"
      },
      "source": [
        "# There are two classes, and they are not imbalanced."
      ]
    },
    {
      "cell_type": "code",
      "metadata": {
        "id": "72voeReE-yuc",
        "colab_type": "code",
        "outputId": "28b4a067-db86-48c5-f98c-9cb384888bc0",
        "colab": {
          "base_uri": "https://localhost:8080/",
          "height": 67
        }
      },
      "source": [
        "df1['Winner'].value_counts(normalize = True)"
      ],
      "execution_count": 6,
      "outputs": [
        {
          "output_type": "execute_result",
          "data": {
            "text/plain": [
              "Pakistan    0.585366\n",
              "India       0.414634\n",
              "Name: Winner, dtype: float64"
            ]
          },
          "metadata": {
            "tags": []
          },
          "execution_count": 6
        }
      ]
    },
    {
      "cell_type": "code",
      "metadata": {
        "id": "a1yJ9J839ck5",
        "colab_type": "code",
        "colab": {
          "base_uri": "https://localhost:8080/",
          "height": 296
        },
        "outputId": "13b2b80c-6366-4359-991e-88a7dd5e2aa2"
      },
      "source": [
        "sns.countplot(df1['Winner'])"
      ],
      "execution_count": 18,
      "outputs": [
        {
          "output_type": "execute_result",
          "data": {
            "text/plain": [
              "<matplotlib.axes._subplots.AxesSubplot at 0x7ff9d6266828>"
            ]
          },
          "metadata": {
            "tags": []
          },
          "execution_count": 18
        },
        {
          "output_type": "display_data",
          "data": {
            "image/png": "[encoded data removed]",
            "text/plain": [
              "<Figure size 432x288 with 1 Axes>"
            ]
          },
          "metadata": {
            "tags": []
          }
        }
      ]
    },
    {
      "cell_type": "markdown",
      "metadata": {
        "id": "Yp07GSrsA4iv",
        "colab_type": "text"
      },
      "source": [
        "# majority class frequency  58.54%. So accuracy score can be used."
      ]
    },
    {
      "cell_type": "markdown",
      "metadata": {
        "id": "XbsttZZ3Bsrk",
        "colab_type": "text"
      },
      "source": [
        "# I will use time based split"
      ]
    },
    {
      "cell_type": "code",
      "metadata": {
        "id": "bn0MnKsCCOPO",
        "colab_type": "code",
        "colab": {}
      },
      "source": [
        "import pandas as pd\n",
        "import numpy as np\n",
        "from datetime import datetime\n",
        "from sklearn.model_selection import train_test_split"
      ],
      "execution_count": 0,
      "outputs": []
    },
    {
      "cell_type": "code",
      "metadata": {
        "id": "aUIHHfKJHkcR",
        "colab_type": "code",
        "outputId": "ff71309a-1bcf-42b2-901f-eb033796ce46",
        "colab": {
          "base_uri": "https://localhost:8080/",
          "height": 162
        }
      },
      "source": [
        "df1['Match_Date'] =  datetime.strptime(df1['Match_Date'],'%b%d%Y')"
      ],
      "execution_count": 8,
      "outputs": [
        {
          "output_type": "error",
          "ename": "TypeError",
          "evalue": "ignored",
          "traceback": [
            "\u001b[0;31m---------------------------------------------------------------------------\u001b[0m",
            "\u001b[0;31mTypeError\u001b[0m                                 Traceback (most recent call last)",
            "\u001b[0;32m<ipython-input-8-cb8036ec7b26>\u001b[0m in \u001b[0;36m<module>\u001b[0;34m()\u001b[0m\n\u001b[0;32m----> 1\u001b[0;31m \u001b[0mdf1\u001b[0m\u001b[0;34m[\u001b[0m\u001b[0;34m'Match_Date'\u001b[0m\u001b[0;34m]\u001b[0m \u001b[0;34m=\u001b[0m  \u001b[0mdatetime\u001b[0m\u001b[0;34m.\u001b[0m\u001b[0mstrptime\u001b[0m\u001b[0;34m(\u001b[0m\u001b[0mdf1\u001b[0m\u001b[0;34m[\u001b[0m\u001b[0;34m'Match_Date'\u001b[0m\u001b[0;34m]\u001b[0m\u001b[0;34m,\u001b[0m\u001b[0;34m'%b%d%Y'\u001b[0m\u001b[0;34m)\u001b[0m\u001b[0;34m\u001b[0m\u001b[0;34m\u001b[0m\u001b[0m\n\u001b[0m",
            "\u001b[0;31mTypeError\u001b[0m: strptime() argument 1 must be str, not Series"
          ]
        }
      ]
    },
    {
      "cell_type": "code",
      "metadata": {
        "id": "mUEWtelv4U6g",
        "colab_type": "code",
        "colab": {
          "base_uri": "https://localhost:8080/",
          "height": 138
        },
        "outputId": "a876f6f0-b55e-4c79-c187-54d20b172f7a"
      },
      "source": [
        "df1['Match_Date'] = pd.to_datetime(df1['Match_Date'], infer_datetime_format=True)"
      ],
      "execution_count": 12,
      "outputs": [
        {
          "output_type": "stream",
          "text": [
            "/usr/local/lib/python3.6/dist-packages/ipykernel_launcher.py:1: SettingWithCopyWarning: \n",
            "A value is trying to be set on a copy of a slice from a DataFrame.\n",
            "Try using .loc[row_indexer,col_indexer] = value instead\n",
            "\n",
            "See the caveats in the documentation: http://pandas.pydata.org/pandas-docs/stable/user_guide/indexing.html#returning-a-view-versus-a-copy\n",
            "  \"\"\"Entry point for launching an IPython kernel.\n"
          ],
          "name": "stderr"
        }
      ]
    },
    {
      "cell_type": "code",
      "metadata": {
        "id": "g2NV3g5a4qL6",
        "colab_type": "code",
        "colab": {
          "base_uri": "https://localhost:8080/",
          "height": 218
        },
        "outputId": "36819477-2855-4fae-a652-e384c5738030"
      },
      "source": [
        "df1['Match_Date']"
      ],
      "execution_count": 9,
      "outputs": [
        {
          "output_type": "execute_result",
          "data": {
            "text/plain": [
              "50       Oct 1, 1978\n",
              "51      Oct 13, 1978\n",
              "154      Dec 3, 1982\n",
              "155     Dec 17, 1982\n",
              "156     Dec 31, 1982\n",
              "            ...     \n",
              "6960    Jun 15, 2013\n",
              "7059     Mar 2, 2014\n",
              "7177    Feb 15, 2015\n",
              "7440     Jun 4, 2017\n",
              "7454    Jun 18, 2017\n",
              "Name: Match_Date, Length: 246, dtype: object"
            ]
          },
          "metadata": {
            "tags": []
          },
          "execution_count": 9
        }
      ]
    },
    {
      "cell_type": "code",
      "metadata": {
        "id": "LO6RI7tdQUMz",
        "colab_type": "code",
        "colab": {}
      },
      "source": [
        "train, test = train_test_split(df1, train_size = .8, test_size = .2,\n",
        "                               stratify = df1['Winner'], random_state =42)"
      ],
      "execution_count": 0,
      "outputs": []
    },
    {
      "cell_type": "code",
      "metadata": {
        "id": "bvcxc58_TTsA",
        "colab_type": "code",
        "colab": {}
      },
      "source": [
        "train, val = train_test_split(train, train_size = .8, test_size = .2,\n",
        "                              stratify = train['Winner'], random_state =42)"
      ],
      "execution_count": 0,
      "outputs": []
    }
  ]
}