{
  "nbformat": 4,
  "nbformat_minor": 0,
  "metadata": {
    "kernelspec": {
      "display_name": "Python 3",
      "language": "python",
      "name": "python3"
    },
    "language_info": {
      "codemirror_mode": {
        "name": "ipython",
        "version": 3
      },
      "file_extension": ".py",
      "mimetype": "text/x-python",
      "name": "python",
      "nbconvert_exporter": "python",
      "pygments_lexer": "ipython3",
      "version": "3.7.6"
    },
    "colab": {
      "name": "LS_DS_231_assignment.ipynb",
      "provenance": [],
      "collapsed_sections": [],
      "include_colab_link": true
    }
  },
  "cells": [
    {
      "cell_type": "markdown",
      "metadata": {
        "id": "view-in-github",
        "colab_type": "text"
      },
      "source": [
        "<a href=\"https://colab.research.google.com/github/worldwidekatie/DS-Unit-2-Applied-Modeling/blob/master/module1-define-ml-problems/LS_DS_231_assignment.ipynb\" target=\"_parent\"><img src=\"https://colab.research.google.com/assets/colab-badge.svg\" alt=\"Open In Colab\"/></a>"
      ]
    },
    {
      "cell_type": "markdown",
      "metadata": {
        "colab_type": "text",
        "id": "nCc3XZEyG3XV"
      },
      "source": [
        "Lambda School Data Science\n",
        "\n",
        "*Unit 2, Sprint 3, Module 1*\n",
        "\n",
        "---\n",
        "\n",
        "\n",
        "# Define ML problems\n",
        "\n",
        "You will use your portfolio project dataset for all assignments this sprint.\n",
        "\n",
        "## Assignment\n",
        "\n",
        "Complete these tasks for your project, and document your decisions.\n",
        "\n",
        "- [ ] Choose your target. Which column in your tabular dataset will you predict?\n",
        "- [ ] Is your problem regression or classification?\n",
        "- [ ] How is your target distributed?\n",
        "    - Classification: How many classes? Are the classes imbalanced?\n",
        "    - Regression: Is the target right-skewed? If so, you may want to log transform the target.\n",
        "- [ ] Choose your evaluation metric(s).\n",
        "    - Classification: Is your majority class frequency >= 50% and < 70% ? If so, you can just use accuracy if you want. Outside that range, accuracy could be misleading. What evaluation metric will you choose, in addition to or instead of accuracy?\n",
        "    - Regression: Will you use mean absolute error, root mean squared error, R^2, or other regression metrics?\n",
        "- [ ] Choose which observations you will use to train, validate, and test your model.\n",
        "    - Are some observations outliers? Will you exclude them?\n",
        "    - Will you do a random split or a time-based split?\n",
        "- [ ] Begin to clean and explore your data.\n",
        "- [ ] Begin to choose which features, if any, to exclude. Would some features \"leak\" future information?\n",
        "\n",
        "If you haven't found a dataset yet, do that today. [Review requirements for your portfolio project](https://lambdaschool.github.io/ds/unit2) and choose your dataset.\n",
        "\n",
        "Some students worry, ***what if my model isn't “good”?*** Then, [produce a detailed tribute to your wrongness. That is science!](https://twitter.com/nathanwpyle/status/1176860147223867393)"
      ]
    },
    {
      "cell_type": "markdown",
      "metadata": {
        "id": "aFt0Ysu4if__",
        "colab_type": "text"
      },
      "source": [
        "## First read in the dataset and stuff\n",
        "\n",
        "[GitHub showing how I created this dataframe today ](https://github.com/worldwidekatie/Build_Week_2/blob/master/Data_Frame_Creation.ipynb)"
      ]
    },
    {
      "cell_type": "code",
      "metadata": {
        "id": "oGGx0yeeijcd",
        "colab_type": "code",
        "colab": {}
      },
      "source": [
        "import pandas as pd\n",
        "df_orig = pd.read_csv('https://raw.githubusercontent.com/worldwidekatie/Build_Week_2/master/Final_IRA.csv')"
      ],
      "execution_count": 0,
      "outputs": []
    },
    {
      "cell_type": "code",
      "metadata": {
        "id": "hNdA-lZcipUN",
        "colab_type": "code",
        "colab": {
          "base_uri": "https://localhost:8080/",
          "height": 479
        },
        "outputId": "acb7f559-bb40-4925-b74c-0f2ea6a5017e"
      },
      "source": [
        "df = df_orig[['content',\t'region',\t'language',\t'publish_date',\t'harvested_date',\t\n",
        "             'following',\t'followers',\t'updates',\t'post_type',\t'account_type',\t\n",
        "             'new_june_2018',\t'retweet',\t'account_category']]\n",
        "df.head()"
      ],
      "execution_count": 2,
      "outputs": [
        {
          "output_type": "execute_result",
          "data": {
            "text/html": [
              "<div>\n",
              "<style scoped>\n",
              "    .dataframe tbody tr th:only-of-type {\n",
              "        vertical-align: middle;\n",
              "    }\n",
              "\n",
              "    .dataframe tbody tr th {\n",
              "        vertical-align: top;\n",
              "    }\n",
              "\n",
              "    .dataframe thead th {\n",
              "        text-align: right;\n",
              "    }\n",
              "</style>\n",
              "<table border=\"1\" class=\"dataframe\">\n",
              "  <thead>\n",
              "    <tr style=\"text-align: right;\">\n",
              "      <th></th>\n",
              "      <th>content</th>\n",
              "      <th>region</th>\n",
              "      <th>language</th>\n",
              "      <th>publish_date</th>\n",
              "      <th>harvested_date</th>\n",
              "      <th>following</th>\n",
              "      <th>followers</th>\n",
              "      <th>updates</th>\n",
              "      <th>post_type</th>\n",
              "      <th>account_type</th>\n",
              "      <th>new_june_2018</th>\n",
              "      <th>retweet</th>\n",
              "      <th>account_category</th>\n",
              "    </tr>\n",
              "  </thead>\n",
              "  <tbody>\n",
              "    <tr>\n",
              "      <th>0</th>\n",
              "      <td>#adee RT davis1988will: Congratulations for Ma...</td>\n",
              "      <td>United States</td>\n",
              "      <td>English</td>\n",
              "      <td>7/30/2017 21:18</td>\n",
              "      <td>7/30/2017 21:18</td>\n",
              "      <td>995</td>\n",
              "      <td>313</td>\n",
              "      <td>332</td>\n",
              "      <td>QUOTE_TWEET</td>\n",
              "      <td>Right</td>\n",
              "      <td>0</td>\n",
              "      <td>1</td>\n",
              "      <td>RightTroll</td>\n",
              "    </tr>\n",
              "    <tr>\n",
              "      <th>1</th>\n",
              "      <td>RT SSOL getting attention. It's penny play day...</td>\n",
              "      <td>United States</td>\n",
              "      <td>English</td>\n",
              "      <td>6/27/2015 21:47</td>\n",
              "      <td>6/27/2015 21:48</td>\n",
              "      <td>7</td>\n",
              "      <td>35</td>\n",
              "      <td>2213</td>\n",
              "      <td>NaN</td>\n",
              "      <td>Commercial</td>\n",
              "      <td>1</td>\n",
              "      <td>0</td>\n",
              "      <td>Commercial</td>\n",
              "    </tr>\n",
              "    <tr>\n",
              "      <th>2</th>\n",
              "      <td>#laup SHOCK VIDEO : Antifa Thugs Break a Latin...</td>\n",
              "      <td>Unknown</td>\n",
              "      <td>English</td>\n",
              "      <td>8/17/2017 2:20</td>\n",
              "      <td>8/17/2017 2:21</td>\n",
              "      <td>36</td>\n",
              "      <td>6</td>\n",
              "      <td>793</td>\n",
              "      <td>NaN</td>\n",
              "      <td>Right</td>\n",
              "      <td>0</td>\n",
              "      <td>0</td>\n",
              "      <td>RightTroll</td>\n",
              "    </tr>\n",
              "    <tr>\n",
              "      <th>3</th>\n",
              "      <td>PROOF Melania Has Done FAR MORE for Disaster R...</td>\n",
              "      <td>Unknown</td>\n",
              "      <td>English</td>\n",
              "      <td>9/2/2017 3:09</td>\n",
              "      <td>9/2/2017 3:09</td>\n",
              "      <td>4984</td>\n",
              "      <td>925</td>\n",
              "      <td>3411</td>\n",
              "      <td>NaN</td>\n",
              "      <td>Right</td>\n",
              "      <td>0</td>\n",
              "      <td>0</td>\n",
              "      <td>RightTroll</td>\n",
              "    </tr>\n",
              "    <tr>\n",
              "      <th>4</th>\n",
              "      <td>An USC professor, Raphael Bostic, named first ...</td>\n",
              "      <td>United States</td>\n",
              "      <td>English</td>\n",
              "      <td>3/15/2017 22:00</td>\n",
              "      <td>3/15/2017 22:00</td>\n",
              "      <td>14207</td>\n",
              "      <td>17561</td>\n",
              "      <td>3852</td>\n",
              "      <td>NaN</td>\n",
              "      <td>left</td>\n",
              "      <td>0</td>\n",
              "      <td>0</td>\n",
              "      <td>LeftTroll</td>\n",
              "    </tr>\n",
              "  </tbody>\n",
              "</table>\n",
              "</div>"
            ],
            "text/plain": [
              "                                             content  ... account_category\n",
              "0  #adee RT davis1988will: Congratulations for Ma...  ...       RightTroll\n",
              "1  RT SSOL getting attention. It's penny play day...  ...       Commercial\n",
              "2  #laup SHOCK VIDEO : Antifa Thugs Break a Latin...  ...       RightTroll\n",
              "3  PROOF Melania Has Done FAR MORE for Disaster R...  ...       RightTroll\n",
              "4  An USC professor, Raphael Bostic, named first ...  ...        LeftTroll\n",
              "\n",
              "[5 rows x 13 columns]"
            ]
          },
          "metadata": {
            "tags": []
          },
          "execution_count": 2
        }
      ]
    },
    {
      "cell_type": "markdown",
      "metadata": {
        "id": "cD0XQl2Mnwrw",
        "colab_type": "text"
      },
      "source": [
        "## Choose your target. Which column in your tabular dataset will you predict?"
      ]
    },
    {
      "cell_type": "code",
      "metadata": {
        "id": "fbGGPzQenxPe",
        "colab_type": "code",
        "outputId": "541060a6-066f-48d5-e954-70f4bc75bf69",
        "colab": {
          "base_uri": "https://localhost:8080/",
          "height": 68
        }
      },
      "source": [
        "#I'm going to choose retweet\n",
        "df['retweet'].value_counts()"
      ],
      "execution_count": 64,
      "outputs": [
        {
          "output_type": "execute_result",
          "data": {
            "text/plain": [
              "0    6310\n",
              "1    4336\n",
              "Name: retweet, dtype: int64"
            ]
          },
          "metadata": {
            "tags": []
          },
          "execution_count": 64
        }
      ]
    },
    {
      "cell_type": "markdown",
      "metadata": {
        "id": "VWkJ-CzJnx3s",
        "colab_type": "text"
      },
      "source": [
        "## Is your problem regression or classification?"
      ]
    },
    {
      "cell_type": "code",
      "metadata": {
        "id": "81kexfbEnyK9",
        "colab_type": "code",
        "colab": {}
      },
      "source": [
        "#It is classification"
      ],
      "execution_count": 0,
      "outputs": []
    },
    {
      "cell_type": "markdown",
      "metadata": {
        "id": "eooEzqCSnyZF",
        "colab_type": "text"
      },
      "source": [
        "## How is your target distributed?\n",
        "* Classification: How many classes? Are the classes imbalanced?"
      ]
    },
    {
      "cell_type": "code",
      "metadata": {
        "id": "pHQoQ1W8nyld",
        "colab_type": "code",
        "outputId": "a3d8b7ba-9283-46f0-953f-fd29e98b190e",
        "colab": {
          "base_uri": "https://localhost:8080/",
          "height": 68
        }
      },
      "source": [
        "df['retweet'].value_counts(normalize=True)"
      ],
      "execution_count": 43,
      "outputs": [
        {
          "output_type": "execute_result",
          "data": {
            "text/plain": [
              "0    0.592711\n",
              "1    0.407289\n",
              "Name: retweet, dtype: float64"
            ]
          },
          "metadata": {
            "tags": []
          },
          "execution_count": 43
        }
      ]
    },
    {
      "cell_type": "markdown",
      "metadata": {
        "id": "s_ePhx0cnyyv",
        "colab_type": "text"
      },
      "source": [
        "## Choose your evaluation metric(s).\n",
        "* Classification: Is your majority class frequency >= 50% and < 70% ? If so, you can just use accuracy if you want. Outside that range, accuracy could be misleading. What evaluation metric will you choose, in addition to or instead of accuracy?"
      ]
    },
    {
      "cell_type": "code",
      "metadata": {
        "id": "fk_Soe1-nzB2",
        "colab_type": "code",
        "colab": {}
      },
      "source": [
        "#I may use accuracy since 59% is between 50% and 70%\n",
        "#But I'd like to experiment with precision and recall"
      ],
      "execution_count": 0,
      "outputs": []
    },
    {
      "cell_type": "markdown",
      "metadata": {
        "id": "BXk0HxatoN1a",
        "colab_type": "text"
      },
      "source": [
        "## Choose which observations you will use to train, validate, and test your model.\n",
        "* Are some observations outliers? \n",
        "* Will you exclude them?\n",
        "* Will you do a random split or a time-based split?"
      ]
    },
    {
      "cell_type": "code",
      "metadata": {
        "id": "Mk0M03TLoOFQ",
        "colab_type": "code",
        "colab": {}
      },
      "source": [
        "#I will do a time-based split for test since\n",
        "#The dataset has a natural split for June 2018\n",
        "#It will show how well the model works for future data\n",
        "#But will use random split for train and validate"
      ],
      "execution_count": 0,
      "outputs": []
    },
    {
      "cell_type": "code",
      "metadata": {
        "id": "G5jhApf8kXnb",
        "colab_type": "code",
        "colab": {
          "base_uri": "https://localhost:8080/",
          "height": 34
        },
        "outputId": "556f1afc-6140-4930-82b3-ef8bae0bc6c7"
      },
      "source": [
        "train = df[(df['new_june_2018'] == 0)]\n",
        "test = df[(df['new_june_2018'] == 1)]\n",
        "train.shape, test.shape"
      ],
      "execution_count": 3,
      "outputs": [
        {
          "output_type": "execute_result",
          "data": {
            "text/plain": [
              "((9380, 13), (1266, 13))"
            ]
          },
          "metadata": {
            "tags": []
          },
          "execution_count": 3
        }
      ]
    },
    {
      "cell_type": "code",
      "metadata": {
        "id": "6ZO9nmYDkkla",
        "colab_type": "code",
        "colab": {
          "base_uri": "https://localhost:8080/",
          "height": 34
        },
        "outputId": "68996e39-10fa-4515-9441-cea28bc3ac92"
      },
      "source": [
        "from sklearn.model_selection import train_test_split\n",
        "import numpy as np\n",
        "train, val = train_test_split(train, random_state=42)\n",
        "train.shape, val.shape"
      ],
      "execution_count": 4,
      "outputs": [
        {
          "output_type": "execute_result",
          "data": {
            "text/plain": [
              "((7035, 13), (2345, 13))"
            ]
          },
          "metadata": {
            "tags": []
          },
          "execution_count": 4
        }
      ]
    },
    {
      "cell_type": "code",
      "metadata": {
        "id": "7-HZo8AEYHZK",
        "colab_type": "code",
        "outputId": "59f38c95-5974-4448-f9fa-3c7331864cd8",
        "colab": {
          "base_uri": "https://localhost:8080/",
          "height": 265
        }
      },
      "source": [
        "import matplotlib.pyplot as plt\n",
        "plt.scatter(df['publish_date'], df['followers'])\n",
        "plt.show();"
      ],
      "execution_count": 55,
      "outputs": [
        {
          "output_type": "display_data",
          "data": {
            "image/png": "[encoded data removed]",
            "text/plain": [
              "<Figure size 432x288 with 1 Axes>"
            ]
          },
          "metadata": {
            "tags": [],
            "needs_background": "light"
          }
        }
      ]
    },
    {
      "cell_type": "code",
      "metadata": {
        "id": "mjiqHwzSphBx",
        "colab_type": "code",
        "colab": {
          "base_uri": "https://localhost:8080/",
          "height": 265
        },
        "outputId": "835ecab4-496b-4894-8343-4ee368347166"
      },
      "source": [
        "plt.scatter(df['retweet'], df['updates'])\n",
        "plt.show();"
      ],
      "execution_count": 62,
      "outputs": [
        {
          "output_type": "display_data",
          "data": {
            "image/png": "[encoded data removed]",
            "text/plain": [
              "<Figure size 432x288 with 1 Axes>"
            ]
          },
          "metadata": {
            "tags": [],
            "needs_background": "light"
          }
        }
      ]
    },
    {
      "cell_type": "markdown",
      "metadata": {
        "id": "1Visu_KloOUy",
        "colab_type": "text"
      },
      "source": [
        "##  Begin to clean and explore your data."
      ]
    },
    {
      "cell_type": "code",
      "metadata": {
        "id": "mfZR4qmHJFV3",
        "colab_type": "code",
        "outputId": "2197c670-e19d-4b60-fa53-3819c366f3d5",
        "colab": {
          "base_uri": "https://localhost:8080/",
          "height": 289
        }
      },
      "source": [
        "df.isna().sum()"
      ],
      "execution_count": 0,
      "outputs": [
        {
          "output_type": "execute_result",
          "data": {
            "text/plain": [
              "external_author_id         0\n",
              "author                     0\n",
              "content                    0\n",
              "region                   296\n",
              "language                   0\n",
              "publish_date               0\n",
              "harvested_date             0\n",
              "following                  0\n",
              "followers                  0\n",
              "updates                    0\n",
              "post_type             154277\n",
              "account_type               0\n",
              "new_june_2018              0\n",
              "retweet                    0\n",
              "account_category           0\n",
              "dtype: int64"
            ]
          },
          "metadata": {
            "tags": []
          },
          "execution_count": 18
        }
      ]
    },
    {
      "cell_type": "code",
      "metadata": {
        "id": "BKACKbD3YHlW",
        "colab_type": "code",
        "colab": {
          "base_uri": "https://localhost:8080/",
          "height": 297
        },
        "outputId": "c5d74289-c563-421d-cf62-38748df8cd48"
      },
      "source": [
        "df.describe()"
      ],
      "execution_count": 59,
      "outputs": [
        {
          "output_type": "execute_result",
          "data": {
            "text/html": [
              "<div>\n",
              "<style scoped>\n",
              "    .dataframe tbody tr th:only-of-type {\n",
              "        vertical-align: middle;\n",
              "    }\n",
              "\n",
              "    .dataframe tbody tr th {\n",
              "        vertical-align: top;\n",
              "    }\n",
              "\n",
              "    .dataframe thead th {\n",
              "        text-align: right;\n",
              "    }\n",
              "</style>\n",
              "<table border=\"1\" class=\"dataframe\">\n",
              "  <thead>\n",
              "    <tr style=\"text-align: right;\">\n",
              "      <th></th>\n",
              "      <th>following</th>\n",
              "      <th>followers</th>\n",
              "      <th>updates</th>\n",
              "      <th>new_june_2018</th>\n",
              "      <th>retweet</th>\n",
              "    </tr>\n",
              "  </thead>\n",
              "  <tbody>\n",
              "    <tr>\n",
              "      <th>count</th>\n",
              "      <td>10646.000000</td>\n",
              "      <td>10646.000000</td>\n",
              "      <td>10646.000000</td>\n",
              "      <td>10646.000000</td>\n",
              "      <td>10646.000000</td>\n",
              "    </tr>\n",
              "    <tr>\n",
              "      <th>mean</th>\n",
              "      <td>4288.175465</td>\n",
              "      <td>7153.391978</td>\n",
              "      <td>11428.577964</td>\n",
              "      <td>0.118918</td>\n",
              "      <td>0.407289</td>\n",
              "    </tr>\n",
              "    <tr>\n",
              "      <th>std</th>\n",
              "      <td>6429.914395</td>\n",
              "      <td>11896.777084</td>\n",
              "      <td>19320.921093</td>\n",
              "      <td>0.323707</td>\n",
              "      <td>0.491353</td>\n",
              "    </tr>\n",
              "    <tr>\n",
              "      <th>min</th>\n",
              "      <td>0.000000</td>\n",
              "      <td>0.000000</td>\n",
              "      <td>1.000000</td>\n",
              "      <td>0.000000</td>\n",
              "      <td>0.000000</td>\n",
              "    </tr>\n",
              "    <tr>\n",
              "      <th>25%</th>\n",
              "      <td>668.000000</td>\n",
              "      <td>677.000000</td>\n",
              "      <td>1725.000000</td>\n",
              "      <td>0.000000</td>\n",
              "      <td>0.000000</td>\n",
              "    </tr>\n",
              "    <tr>\n",
              "      <th>50%</th>\n",
              "      <td>2125.000000</td>\n",
              "      <td>1885.000000</td>\n",
              "      <td>4809.500000</td>\n",
              "      <td>0.000000</td>\n",
              "      <td>0.000000</td>\n",
              "    </tr>\n",
              "    <tr>\n",
              "      <th>75%</th>\n",
              "      <td>5708.000000</td>\n",
              "      <td>12297.000000</td>\n",
              "      <td>14244.000000</td>\n",
              "      <td>0.000000</td>\n",
              "      <td>1.000000</td>\n",
              "    </tr>\n",
              "    <tr>\n",
              "      <th>max</th>\n",
              "      <td>76193.000000</td>\n",
              "      <td>144329.000000</td>\n",
              "      <td>166019.000000</td>\n",
              "      <td>1.000000</td>\n",
              "      <td>1.000000</td>\n",
              "    </tr>\n",
              "  </tbody>\n",
              "</table>\n",
              "</div>"
            ],
            "text/plain": [
              "          following      followers        updates  new_june_2018       retweet\n",
              "count  10646.000000   10646.000000   10646.000000   10646.000000  10646.000000\n",
              "mean    4288.175465    7153.391978   11428.577964       0.118918      0.407289\n",
              "std     6429.914395   11896.777084   19320.921093       0.323707      0.491353\n",
              "min        0.000000       0.000000       1.000000       0.000000      0.000000\n",
              "25%      668.000000     677.000000    1725.000000       0.000000      0.000000\n",
              "50%     2125.000000    1885.000000    4809.500000       0.000000      0.000000\n",
              "75%     5708.000000   12297.000000   14244.000000       0.000000      1.000000\n",
              "max    76193.000000  144329.000000  166019.000000       1.000000      1.000000"
            ]
          },
          "metadata": {
            "tags": []
          },
          "execution_count": 59
        }
      ]
    },
    {
      "cell_type": "code",
      "metadata": {
        "id": "BfIUhRicG0mM",
        "colab_type": "code",
        "outputId": "51e260bc-735e-40d5-dd35-ddfc5159bb12",
        "colab": {
          "base_uri": "https://localhost:8080/",
          "height": 210
        }
      },
      "source": [
        "df.describe(exclude='number')"
      ],
      "execution_count": 58,
      "outputs": [
        {
          "output_type": "execute_result",
          "data": {
            "text/html": [
              "<div>\n",
              "<style scoped>\n",
              "    .dataframe tbody tr th:only-of-type {\n",
              "        vertical-align: middle;\n",
              "    }\n",
              "\n",
              "    .dataframe tbody tr th {\n",
              "        vertical-align: top;\n",
              "    }\n",
              "\n",
              "    .dataframe thead th {\n",
              "        text-align: right;\n",
              "    }\n",
              "</style>\n",
              "<table border=\"1\" class=\"dataframe\">\n",
              "  <thead>\n",
              "    <tr style=\"text-align: right;\">\n",
              "      <th></th>\n",
              "      <th>content</th>\n",
              "      <th>region</th>\n",
              "      <th>language</th>\n",
              "      <th>publish_date</th>\n",
              "      <th>harvested_date</th>\n",
              "      <th>post_type</th>\n",
              "      <th>account_type</th>\n",
              "      <th>account_category</th>\n",
              "    </tr>\n",
              "  </thead>\n",
              "  <tbody>\n",
              "    <tr>\n",
              "      <th>count</th>\n",
              "      <td>10646</td>\n",
              "      <td>10643</td>\n",
              "      <td>10646</td>\n",
              "      <td>10646</td>\n",
              "      <td>10646</td>\n",
              "      <td>4336</td>\n",
              "      <td>10645</td>\n",
              "      <td>10646</td>\n",
              "    </tr>\n",
              "    <tr>\n",
              "      <th>unique</th>\n",
              "      <td>10618</td>\n",
              "      <td>16</td>\n",
              "      <td>1</td>\n",
              "      <td>10448</td>\n",
              "      <td>10455</td>\n",
              "      <td>2</td>\n",
              "      <td>16</td>\n",
              "      <td>8</td>\n",
              "    </tr>\n",
              "    <tr>\n",
              "      <th>top</th>\n",
              "      <td>#GiftIdeasForPoliticians with this present the...</td>\n",
              "      <td>United States</td>\n",
              "      <td>English</td>\n",
              "      <td>8/15/2017 16:59</td>\n",
              "      <td>8/11/2017 11:12</td>\n",
              "      <td>RETWEET</td>\n",
              "      <td>Right</td>\n",
              "      <td>RightTroll</td>\n",
              "    </tr>\n",
              "    <tr>\n",
              "      <th>freq</th>\n",
              "      <td>3</td>\n",
              "      <td>9252</td>\n",
              "      <td>10646</td>\n",
              "      <td>3</td>\n",
              "      <td>3</td>\n",
              "      <td>4159</td>\n",
              "      <td>3533</td>\n",
              "      <td>3539</td>\n",
              "    </tr>\n",
              "  </tbody>\n",
              "</table>\n",
              "</div>"
            ],
            "text/plain": [
              "                                                  content  ... account_category\n",
              "count                                               10646  ...            10646\n",
              "unique                                              10618  ...                8\n",
              "top     #GiftIdeasForPoliticians with this present the...  ...       RightTroll\n",
              "freq                                                    3  ...             3539\n",
              "\n",
              "[4 rows x 8 columns]"
            ]
          },
          "metadata": {
            "tags": []
          },
          "execution_count": 58
        }
      ]
    },
    {
      "cell_type": "code",
      "metadata": {
        "id": "GcshD18HFvcX",
        "colab_type": "code",
        "outputId": "3a19da78-2d94-4db5-e181-de0b91a2cadb",
        "colab": {
          "base_uri": "https://localhost:8080/",
          "height": 306
        }
      },
      "source": [
        "df['account_type'].value_counts(normalize=True)"
      ],
      "execution_count": 60,
      "outputs": [
        {
          "output_type": "execute_result",
          "data": {
            "text/plain": [
              "Right         0.331893\n",
              "local         0.211649\n",
              "left          0.208079\n",
              "Hashtager     0.112259\n",
              "news          0.064631\n",
              "Commercial    0.051292\n",
              "Russian       0.009770\n",
              "Koch          0.004227\n",
              "?             0.002912\n",
              "German        0.001315\n",
              "right         0.000564\n",
              "Italian       0.000564\n",
              "Arabic        0.000376\n",
              "ZAPOROSHIA    0.000282\n",
              "Ebola         0.000094\n",
              "French        0.000094\n",
              "Name: account_type, dtype: float64"
            ]
          },
          "metadata": {
            "tags": []
          },
          "execution_count": 60
        }
      ]
    },
    {
      "cell_type": "code",
      "metadata": {
        "id": "uRi3DJKkor26",
        "colab_type": "code",
        "colab": {
          "base_uri": "https://localhost:8080/",
          "height": 306
        },
        "outputId": "d9490fc3-a64c-404c-e474-46700c341a6c"
      },
      "source": [
        "df['region'].value_counts(normalize=True)\n",
        "#I might not use region. "
      ],
      "execution_count": 61,
      "outputs": [
        {
          "output_type": "execute_result",
          "data": {
            "text/plain": [
              "United States           0.869304\n",
              "Unknown                 0.116602\n",
              "United Kingdom          0.007329\n",
              "Azerbaijan              0.003758\n",
              "Germany                 0.000658\n",
              "Russian Federation      0.000564\n",
              "Belarus                 0.000376\n",
              "Afghanistan             0.000282\n",
              "Italy                   0.000282\n",
              "United Arab Emirates    0.000188\n",
              "Canada                  0.000188\n",
              "Spain                   0.000094\n",
              "France                  0.000094\n",
              "Sweden                  0.000094\n",
              "Israel                  0.000094\n",
              "Mexico                  0.000094\n",
              "Name: region, dtype: float64"
            ]
          },
          "metadata": {
            "tags": []
          },
          "execution_count": 61
        }
      ]
    },
    {
      "cell_type": "code",
      "metadata": {
        "id": "cwu0ed1TosOr",
        "colab_type": "code",
        "colab": {}
      },
      "source": [
        ""
      ],
      "execution_count": 0,
      "outputs": []
    },
    {
      "cell_type": "markdown",
      "metadata": {
        "id": "1hRbPrQyobFu",
        "colab_type": "text"
      },
      "source": [
        "## Begin to choose which features, if any, to exclude. Would some features \"leak\" future information?"
      ]
    },
    {
      "cell_type": "code",
      "metadata": {
        "id": "etFhvDSpobYu",
        "colab_type": "code",
        "colab": {}
      },
      "source": [
        "#Definitely the features \"post_type\" would leak because it is most of\n",
        "#the same information as the target\n",
        "\n",
        "#I should also exclude external_author_id and author\n",
        "#I should exclude content unless I want to do some NLP\n",
        "#or create a new feature like character count\n",
        "#but with tweets I don't know that that would be useful since\n",
        "#It's a pretty small number of characters allowed and should thus\n",
        "#Be fairly uniform "
      ],
      "execution_count": 0,
      "outputs": []
    },
    {
      "cell_type": "code",
      "metadata": {
        "id": "cWvMu4DwpEdS",
        "colab_type": "code",
        "colab": {
          "base_uri": "https://localhost:8080/",
          "height": 139
        },
        "outputId": "d194b3ba-9434-414b-c3fe-29ed45a851fb"
      },
      "source": [
        "def wrangle(X):\n",
        "  X['region'] = X['region'].replace({np.NaN: 'Unknown'})\n",
        "  \n",
        "  return X\n",
        "\n",
        "train = wrangle(train)\n",
        "val = wrangle(val)\n",
        "test = wrangle(test)\n",
        "\n",
        "target = 'retweet'\n",
        "features = ['region',\t'publish_date',\t'harvested_date',\t\n",
        "             'following',\t'followers',\t'updates', 'account_type',\t\n",
        "            \t'account_category']\n",
        "\n",
        "X_train = train[features]\n",
        "y_train = train[target]\n",
        "X_val = val[features]\n",
        "y_val = val[target]\n",
        "X_test = test[features]\n",
        "y_test = test[target]"
      ],
      "execution_count": 5,
      "outputs": [
        {
          "output_type": "stream",
          "text": [
            "/usr/local/lib/python3.6/dist-packages/ipykernel_launcher.py:2: SettingWithCopyWarning: \n",
            "A value is trying to be set on a copy of a slice from a DataFrame.\n",
            "Try using .loc[row_indexer,col_indexer] = value instead\n",
            "\n",
            "See the caveats in the documentation: https://pandas.pydata.org/pandas-docs/stable/user_guide/indexing.html#returning-a-view-versus-a-copy\n",
            "  \n"
          ],
          "name": "stderr"
        }
      ]
    },
    {
      "cell_type": "code",
      "metadata": {
        "id": "IqMKeCFapExl",
        "colab_type": "code",
        "colab": {
          "base_uri": "https://localhost:8080/",
          "height": 224
        },
        "outputId": "c8a1f9c5-2798-490f-b111-a48c9cf71680"
      },
      "source": [
        "import sklearn as sk\n",
        "!pip install category_encoders\n",
        "import category_encoders as ce\n",
        "from sklearn.ensemble import RandomForestClassifier\n",
        "from sklearn.pipeline import make_pipeline\n",
        "from sklearn.model_selection import RandomizedSearchCV\n",
        "from scipy.stats import randint, uniform\n",
        "from sklearn.metrics import accuracy_score"
      ],
      "execution_count": 6,
      "outputs": [
        {
          "output_type": "stream",
          "text": [
            "Requirement already satisfied: category_encoders in /usr/local/lib/python3.6/dist-packages (2.1.0)\n",
            "Requirement already satisfied: statsmodels>=0.6.1 in /usr/local/lib/python3.6/dist-packages (from category_encoders) (0.10.2)\n",
            "Requirement already satisfied: patsy>=0.4.1 in /usr/local/lib/python3.6/dist-packages (from category_encoders) (0.5.1)\n",
            "Requirement already satisfied: scikit-learn>=0.20.0 in /usr/local/lib/python3.6/dist-packages (from category_encoders) (0.22.2.post1)\n",
            "Requirement already satisfied: pandas>=0.21.1 in /usr/local/lib/python3.6/dist-packages (from category_encoders) (1.0.3)\n",
            "Requirement already satisfied: scipy>=0.19.0 in /usr/local/lib/python3.6/dist-packages (from category_encoders) (1.4.1)\n",
            "Requirement already satisfied: numpy>=1.11.3 in /usr/local/lib/python3.6/dist-packages (from category_encoders) (1.18.2)\n",
            "Requirement already satisfied: six in /usr/local/lib/python3.6/dist-packages (from patsy>=0.4.1->category_encoders) (1.12.0)\n",
            "Requirement already satisfied: joblib>=0.11 in /usr/local/lib/python3.6/dist-packages (from scikit-learn>=0.20.0->category_encoders) (0.14.1)\n",
            "Requirement already satisfied: python-dateutil>=2.6.1 in /usr/local/lib/python3.6/dist-packages (from pandas>=0.21.1->category_encoders) (2.8.1)\n",
            "Requirement already satisfied: pytz>=2017.2 in /usr/local/lib/python3.6/dist-packages (from pandas>=0.21.1->category_encoders) (2018.9)\n"
          ],
          "name": "stdout"
        }
      ]
    },
    {
      "cell_type": "code",
      "metadata": {
        "id": "49HLJGYBpEq7",
        "colab_type": "code",
        "colab": {
          "base_uri": "https://localhost:8080/",
          "height": 68
        },
        "outputId": "39750eb9-c5b5-4581-8162-d558790ef6de"
      },
      "source": [
        "pipeline = make_pipeline(\n",
        "    ce.OrdinalEncoder(),\n",
        "    RandomForestClassifier(random_state=42, n_jobs=-1)\n",
        ")\n",
        "param_distributions = { \n",
        "    'randomforestclassifier__max_depth': [20,21,22,23,24,25,26,27,28,29,30], \n",
        "    'randomforestclassifier__min_samples_leaf': [10,11,12,13,14,15,16,17,18,19,20]\n",
        "}\n",
        "\n",
        "\n",
        "search = RandomizedSearchCV(\n",
        "    pipeline, \n",
        "    param_distributions=param_distributions, \n",
        "    n_iter=5, \n",
        "    cv=3, \n",
        "    scoring='accuracy', \n",
        "    verbose=1, \n",
        "    return_train_score=True\n",
        ")\n",
        "\n",
        "search.fit(X_train, y_train);"
      ],
      "execution_count": 7,
      "outputs": [
        {
          "output_type": "stream",
          "text": [
            "Fitting 3 folds for each of 5 candidates, totalling 15 fits\n"
          ],
          "name": "stdout"
        },
        {
          "output_type": "stream",
          "text": [
            "[Parallel(n_jobs=1)]: Using backend SequentialBackend with 1 concurrent workers.\n",
            "[Parallel(n_jobs=1)]: Done  15 out of  15 | elapsed:   12.5s finished\n"
          ],
          "name": "stderr"
        }
      ]
    },
    {
      "cell_type": "code",
      "metadata": {
        "id": "hk4gshYQr8wy",
        "colab_type": "code",
        "colab": {
          "base_uri": "https://localhost:8080/",
          "height": 85
        },
        "outputId": "384e4587-44c3-42df-aec9-379f3f22d134"
      },
      "source": [
        "print('Best hyperparameters', search.best_params_)\n",
        "print('Cross-validation Accuracy', -search.best_score_)\n",
        "pipeline = search.best_estimator_\n",
        "print(\"Train Accuracy:\", pipeline.score(X_train, y_train))\n",
        "print(\"Validation Accuracy:\", pipeline.score(X_val, y_val))"
      ],
      "execution_count": 8,
      "outputs": [
        {
          "output_type": "stream",
          "text": [
            "Best hyperparameters {'randomforestclassifier__min_samples_leaf': 10, 'randomforestclassifier__max_depth': 24}\n",
            "Cross-validation Accuracy -0.918407960199005\n",
            "Train Accuracy: 0.9344705046197583\n",
            "Validation Accuracy: 0.9185501066098081\n"
          ],
          "name": "stdout"
        }
      ]
    },
    {
      "cell_type": "code",
      "metadata": {
        "id": "abmwgHxWtUyG",
        "colab_type": "code",
        "colab": {
          "base_uri": "https://localhost:8080/",
          "height": 592
        },
        "outputId": "3782295b-7777-4422-b4bf-f10dd7712cd2"
      },
      "source": [
        "import matplotlib.pyplot as plt\n",
        "model = pipeline.named_steps['randomforestclassifier']\n",
        "encoder = pipeline.named_steps['ordinalencoder']\n",
        "encoded_columns = encoder.transform(X_val).columns\n",
        "importances = pd.Series(model.feature_importances_, encoded_columns)\n",
        "plt.figure(figsize=(10,10))\n",
        "importances.sort_values().plot.barh();"
      ],
      "execution_count": 15,
      "outputs": [
        {
          "output_type": "display_data",
          "data": {
            "image/png": "[encoded data removed]",
            "text/plain": [
              "<Figure size 720x720 with 1 Axes>"
            ]
          },
          "metadata": {
            "tags": [],
            "needs_background": "light"
          }
        }
      ]
    },
    {
      "cell_type": "code",
      "metadata": {
        "id": "0gzzk_KVy42t",
        "colab_type": "code",
        "colab": {}
      },
      "source": [
        ""
      ],
      "execution_count": 0,
      "outputs": []
    }
  ]
}