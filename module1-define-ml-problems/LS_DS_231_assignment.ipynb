{
  "nbformat": 4,
  "nbformat_minor": 0,
  "metadata": {
    "kernelspec": {
      "display_name": "Python 3",
      "language": "python",
      "name": "python3"
    },
    "language_info": {
      "codemirror_mode": {
        "name": "ipython",
        "version": 3
      },
      "file_extension": ".py",
      "mimetype": "text/x-python",
      "name": "python",
      "nbconvert_exporter": "python",
      "pygments_lexer": "ipython3",
      "version": "3.7.6"
    },
    "colab": {
      "name": "LS_DS_231_assignment.ipynb",
      "provenance": [],
      "collapsed_sections": [],
      "include_colab_link": true
    }
  },
  "cells": [
    {
      "cell_type": "markdown",
      "metadata": {
        "id": "view-in-github",
        "colab_type": "text"
      },
      "source": [
        "<a href=\"https://colab.research.google.com/github/dougscohen/DS-Unit-2-Applied-Modeling/blob/master/module1-define-ml-problems/LS_DS_231_assignment.ipynb\" target=\"_parent\"><img src=\"https://colab.research.google.com/assets/colab-badge.svg\" alt=\"Open In Colab\"/></a>"
      ]
    },
    {
      "cell_type": "markdown",
      "metadata": {
        "colab_type": "text",
        "id": "nCc3XZEyG3XV"
      },
      "source": [
        "Lambda School Data Science\n",
        "\n",
        "*Unit 2, Sprint 3, Module 1*\n",
        "\n",
        "---\n",
        "\n",
        "\n",
        "# Define ML problems\n",
        "\n",
        "You will use your portfolio project dataset for all assignments this sprint.\n",
        "\n",
        "## Assignment\n",
        "\n",
        "Complete these tasks for your project, and document your decisions.\n",
        "\n",
        "- [ ] Choose your target. Which column in your tabular dataset will you predict?\n",
        "- [ ] Is your problem regression or classification?\n",
        "- [ ] How is your target distributed?\n",
        "    - Classification: How many classes? Are the classes imbalanced?\n",
        "    - Regression: Is the target right-skewed? If so, you may want to log transform the target.\n",
        "- [ ] Choose your evaluation metric(s).\n",
        "    - Classification: Is your majority class frequency >= 50% and < 70% ? If so, you can just use accuracy if you want. Outside that range, accuracy could be misleading. What evaluation metric will you choose, in addition to or instead of accuracy?\n",
        "    - Regression: Will you use mean absolute error, root mean squared error, R^2, or other regression metrics?\n",
        "- [ ] Choose which observations you will use to train, validate, and test your model.\n",
        "    - Are some observations outliers? Will you exclude them?\n",
        "    - Will you do a random split or a time-based split?\n",
        "- [ ] Begin to clean and explore your data.\n",
        "- [ ] Begin to choose which features, if any, to exclude. Would some features \"leak\" future information?\n",
        "\n",
        "If you haven't found a dataset yet, do that today. [Review requirements for your portfolio project](https://lambdaschool.github.io/ds/unit2) and choose your dataset.\n",
        "\n",
        "Some students worry, ***what if my model isn't “good”?*** Then, [produce a detailed tribute to your wrongness. That is science!](https://twitter.com/nathanwpyle/status/1176860147223867393)"
      ]
    },
    {
      "cell_type": "code",
      "metadata": {
        "id": "yOLsHFN12Aar",
        "colab_type": "code",
        "colab": {}
      },
      "source": [
        "import numpy as np\n",
        "import pandas as pd\n",
        "\n",
        "# Read in the data\n",
        "df = pd.read_csv('shot_logs.csv')"
      ],
      "execution_count": 0,
      "outputs": []
    },
    {
      "cell_type": "code",
      "metadata": {
        "id": "QFV1e7wk2AdD",
        "colab_type": "code",
        "outputId": "7fd97fd6-ee9f-4a56-f2b0-ddc0ca73b2a3",
        "colab": {
          "base_uri": "https://localhost:8080/",
          "height": 467
        }
      },
      "source": [
        "df.head()"
      ],
      "execution_count": 0,
      "outputs": [
        {
          "output_type": "execute_result",
          "data": {
            "text/html": [
              "<div>\n",
              "<style scoped>\n",
              "    .dataframe tbody tr th:only-of-type {\n",
              "        vertical-align: middle;\n",
              "    }\n",
              "\n",
              "    .dataframe tbody tr th {\n",
              "        vertical-align: top;\n",
              "    }\n",
              "\n",
              "    .dataframe thead th {\n",
              "        text-align: right;\n",
              "    }\n",
              "</style>\n",
              "<table border=\"1\" class=\"dataframe\">\n",
              "  <thead>\n",
              "    <tr style=\"text-align: right;\">\n",
              "      <th></th>\n",
              "      <th>GAME_ID</th>\n",
              "      <th>MATCHUP</th>\n",
              "      <th>LOCATION</th>\n",
              "      <th>W</th>\n",
              "      <th>FINAL_MARGIN</th>\n",
              "      <th>SHOT_NUMBER</th>\n",
              "      <th>PERIOD</th>\n",
              "      <th>GAME_CLOCK</th>\n",
              "      <th>SHOT_CLOCK</th>\n",
              "      <th>DRIBBLES</th>\n",
              "      <th>TOUCH_TIME</th>\n",
              "      <th>SHOT_DIST</th>\n",
              "      <th>PTS_TYPE</th>\n",
              "      <th>SHOT_RESULT</th>\n",
              "      <th>CLOSEST_DEFENDER</th>\n",
              "      <th>CLOSEST_DEFENDER_PLAYER_ID</th>\n",
              "      <th>CLOSE_DEF_DIST</th>\n",
              "      <th>FGM</th>\n",
              "      <th>PTS</th>\n",
              "      <th>player_name</th>\n",
              "      <th>player_id</th>\n",
              "    </tr>\n",
              "  </thead>\n",
              "  <tbody>\n",
              "    <tr>\n",
              "      <th>0</th>\n",
              "      <td>21400899</td>\n",
              "      <td>MAR 04, 2015 - CHA @ BKN</td>\n",
              "      <td>A</td>\n",
              "      <td>W</td>\n",
              "      <td>24</td>\n",
              "      <td>1</td>\n",
              "      <td>1</td>\n",
              "      <td>1:09</td>\n",
              "      <td>10.8</td>\n",
              "      <td>2</td>\n",
              "      <td>1.9</td>\n",
              "      <td>7.7</td>\n",
              "      <td>2</td>\n",
              "      <td>made</td>\n",
              "      <td>Anderson, Alan</td>\n",
              "      <td>101187</td>\n",
              "      <td>1.3</td>\n",
              "      <td>1</td>\n",
              "      <td>2</td>\n",
              "      <td>brian roberts</td>\n",
              "      <td>203148</td>\n",
              "    </tr>\n",
              "    <tr>\n",
              "      <th>1</th>\n",
              "      <td>21400899</td>\n",
              "      <td>MAR 04, 2015 - CHA @ BKN</td>\n",
              "      <td>A</td>\n",
              "      <td>W</td>\n",
              "      <td>24</td>\n",
              "      <td>2</td>\n",
              "      <td>1</td>\n",
              "      <td>0:14</td>\n",
              "      <td>3.4</td>\n",
              "      <td>0</td>\n",
              "      <td>0.8</td>\n",
              "      <td>28.2</td>\n",
              "      <td>3</td>\n",
              "      <td>missed</td>\n",
              "      <td>Bogdanovic, Bojan</td>\n",
              "      <td>202711</td>\n",
              "      <td>6.1</td>\n",
              "      <td>0</td>\n",
              "      <td>0</td>\n",
              "      <td>brian roberts</td>\n",
              "      <td>203148</td>\n",
              "    </tr>\n",
              "    <tr>\n",
              "      <th>2</th>\n",
              "      <td>21400899</td>\n",
              "      <td>MAR 04, 2015 - CHA @ BKN</td>\n",
              "      <td>A</td>\n",
              "      <td>W</td>\n",
              "      <td>24</td>\n",
              "      <td>3</td>\n",
              "      <td>1</td>\n",
              "      <td>0:00</td>\n",
              "      <td>NaN</td>\n",
              "      <td>3</td>\n",
              "      <td>2.7</td>\n",
              "      <td>10.1</td>\n",
              "      <td>2</td>\n",
              "      <td>missed</td>\n",
              "      <td>Bogdanovic, Bojan</td>\n",
              "      <td>202711</td>\n",
              "      <td>0.9</td>\n",
              "      <td>0</td>\n",
              "      <td>0</td>\n",
              "      <td>brian roberts</td>\n",
              "      <td>203148</td>\n",
              "    </tr>\n",
              "    <tr>\n",
              "      <th>3</th>\n",
              "      <td>21400899</td>\n",
              "      <td>MAR 04, 2015 - CHA @ BKN</td>\n",
              "      <td>A</td>\n",
              "      <td>W</td>\n",
              "      <td>24</td>\n",
              "      <td>4</td>\n",
              "      <td>2</td>\n",
              "      <td>11:47</td>\n",
              "      <td>10.3</td>\n",
              "      <td>2</td>\n",
              "      <td>1.9</td>\n",
              "      <td>17.2</td>\n",
              "      <td>2</td>\n",
              "      <td>missed</td>\n",
              "      <td>Brown, Markel</td>\n",
              "      <td>203900</td>\n",
              "      <td>3.4</td>\n",
              "      <td>0</td>\n",
              "      <td>0</td>\n",
              "      <td>brian roberts</td>\n",
              "      <td>203148</td>\n",
              "    </tr>\n",
              "    <tr>\n",
              "      <th>4</th>\n",
              "      <td>21400899</td>\n",
              "      <td>MAR 04, 2015 - CHA @ BKN</td>\n",
              "      <td>A</td>\n",
              "      <td>W</td>\n",
              "      <td>24</td>\n",
              "      <td>5</td>\n",
              "      <td>2</td>\n",
              "      <td>10:34</td>\n",
              "      <td>10.9</td>\n",
              "      <td>2</td>\n",
              "      <td>2.7</td>\n",
              "      <td>3.7</td>\n",
              "      <td>2</td>\n",
              "      <td>missed</td>\n",
              "      <td>Young, Thaddeus</td>\n",
              "      <td>201152</td>\n",
              "      <td>1.1</td>\n",
              "      <td>0</td>\n",
              "      <td>0</td>\n",
              "      <td>brian roberts</td>\n",
              "      <td>203148</td>\n",
              "    </tr>\n",
              "  </tbody>\n",
              "</table>\n",
              "</div>"
            ],
            "text/plain": [
              "    GAME_ID                   MATCHUP LOCATION  ... PTS    player_name  player_id\n",
              "0  21400899  MAR 04, 2015 - CHA @ BKN        A  ...   2  brian roberts     203148\n",
              "1  21400899  MAR 04, 2015 - CHA @ BKN        A  ...   0  brian roberts     203148\n",
              "2  21400899  MAR 04, 2015 - CHA @ BKN        A  ...   0  brian roberts     203148\n",
              "3  21400899  MAR 04, 2015 - CHA @ BKN        A  ...   0  brian roberts     203148\n",
              "4  21400899  MAR 04, 2015 - CHA @ BKN        A  ...   0  brian roberts     203148\n",
              "\n",
              "[5 rows x 21 columns]"
            ]
          },
          "metadata": {
            "tags": []
          },
          "execution_count": 42
        }
      ]
    },
    {
      "cell_type": "code",
      "metadata": {
        "id": "V9GKdo-U2dTO",
        "colab_type": "code",
        "outputId": "fea18abd-971e-408c-ab84-7a35d0362abd",
        "colab": {
          "base_uri": "https://localhost:8080/",
          "height": 70
        }
      },
      "source": [
        "# Get the percentage of made vs. missed shots in the data\n",
        "\n",
        "df['SHOT_RESULT'].value_counts(normalize=True)"
      ],
      "execution_count": 0,
      "outputs": [
        {
          "output_type": "execute_result",
          "data": {
            "text/plain": [
              "missed    0.547861\n",
              "made      0.452139\n",
              "Name: SHOT_RESULT, dtype: float64"
            ]
          },
          "metadata": {
            "tags": []
          },
          "execution_count": 9
        }
      ]
    },
    {
      "cell_type": "code",
      "metadata": {
        "id": "m0NuKbpe2vzz",
        "colab_type": "code",
        "outputId": "09df3650-3bf8-464c-b7b2-559be84143fb",
        "colab": {
          "base_uri": "https://localhost:8080/",
          "height": 308
        }
      },
      "source": [
        "# Plot the percentage visually\n",
        "\n",
        "df['SHOT_RESULT'].value_counts(normalize=True).plot(kind='bar')"
      ],
      "execution_count": 0,
      "outputs": [
        {
          "output_type": "execute_result",
          "data": {
            "text/plain": [
              "<matplotlib.axes._subplots.AxesSubplot at 0x7ff2089f80f0>"
            ]
          },
          "metadata": {
            "tags": []
          },
          "execution_count": 10
        },
        {
          "output_type": "display_data",
          "data": {
            "image/png": "[encoded data removed]",
            "text/plain": [
              "<Figure size 432x288 with 1 Axes>"
            ]
          },
          "metadata": {
            "tags": []
          }
        }
      ]
    },
    {
      "cell_type": "markdown",
      "metadata": {
        "id": "Jvfeh3qcSMDZ",
        "colab_type": "text"
      },
      "source": [
        " Choose your target. Which column in your tabular dataset will you predict?\n",
        "\n",
        "`Shot Result will be my target. It will be a classifcation problem.`\n",
        "\n",
        " Is your problem regression or classification?\n",
        " \n",
        " `Classification`\n",
        "\n",
        " How is your target distributed? How many classes? Are the classes imbalanced?\n",
        " \n",
        " ` My target is pretty evenly distributed. Is is binary with 2 classes, made and missed`\n",
        "\n",
        "\n",
        "Choose your evaluation metric(s).\n",
        "\n",
        "`I will use accuracy as the main metric, but will also test precision, recall, and ROC AUC as well.`\n",
        "\n",
        " Choose which observations you will use to train, validate, and test your model.\n",
        "\n",
        "`The data is on shots from October 2014-March 2015, so I will definitely do a time-based split. I will probably make my train data on 2014 shots, my validate data on Jan-2015 shots, and my test data on shots after Jan-2015 (i.e. Feb and March)`\n",
        "\n",
        " Begin to clean and explore your data."
      ]
    },
    {
      "cell_type": "code",
      "metadata": {
        "id": "j5aBHLEzZaL_",
        "colab_type": "code",
        "colab": {}
      },
      "source": [
        "# matchups = []\n",
        "# for matchup in df['MATCHUP']:\n",
        "#   if matchup.find(\"@\"):\n",
        "#     matchups.append(matchup[15:25])\n",
        "#   else:\n",
        "#     matchups.append(matchup[3:5])\n",
        "# set(matchups)"
      ],
      "execution_count": 0,
      "outputs": []
    },
    {
      "cell_type": "code",
      "metadata": {
        "id": "UGx4epTCbsyH",
        "colab_type": "code",
        "outputId": "9566d492-fbb9-41b7-c292-5b192a914cbd",
        "colab": {
          "base_uri": "https://localhost:8080/",
          "height": 1000
        }
      },
      "source": [
        "# Create a set that includes the part of 'MATCHUP' that is just the date\n",
        "\n",
        "dates = []\n",
        "for date in df['MATCHUP']:\n",
        "  dates.append(date[:12])\n",
        "set(dates)"
      ],
      "execution_count": 0,
      "outputs": [
        {
          "output_type": "execute_result",
          "data": {
            "text/plain": [
              "{'DEC 01, 2014',\n",
              " 'DEC 02, 2014',\n",
              " 'DEC 03, 2014',\n",
              " 'DEC 04, 2014',\n",
              " 'DEC 05, 2014',\n",
              " 'DEC 06, 2014',\n",
              " 'DEC 07, 2014',\n",
              " 'DEC 08, 2014',\n",
              " 'DEC 09, 2014',\n",
              " 'DEC 10, 2014',\n",
              " 'DEC 11, 2014',\n",
              " 'DEC 12, 2014',\n",
              " 'DEC 13, 2014',\n",
              " 'DEC 14, 2014',\n",
              " 'DEC 15, 2014',\n",
              " 'DEC 16, 2014',\n",
              " 'DEC 17, 2014',\n",
              " 'DEC 18, 2014',\n",
              " 'DEC 19, 2014',\n",
              " 'DEC 20, 2014',\n",
              " 'DEC 21, 2014',\n",
              " 'DEC 22, 2014',\n",
              " 'DEC 23, 2014',\n",
              " 'DEC 25, 2014',\n",
              " 'DEC 26, 2014',\n",
              " 'DEC 27, 2014',\n",
              " 'DEC 28, 2014',\n",
              " 'DEC 29, 2014',\n",
              " 'DEC 30, 2014',\n",
              " 'DEC 31, 2014',\n",
              " 'FEB 01, 2015',\n",
              " 'FEB 02, 2015',\n",
              " 'FEB 03, 2015',\n",
              " 'FEB 04, 2015',\n",
              " 'FEB 05, 2015',\n",
              " 'FEB 06, 2015',\n",
              " 'FEB 07, 2015',\n",
              " 'FEB 08, 2015',\n",
              " 'FEB 09, 2015',\n",
              " 'FEB 10, 2015',\n",
              " 'FEB 11, 2015',\n",
              " 'FEB 12, 2015',\n",
              " 'FEB 19, 2015',\n",
              " 'FEB 20, 2015',\n",
              " 'FEB 21, 2015',\n",
              " 'FEB 22, 2015',\n",
              " 'FEB 23, 2015',\n",
              " 'FEB 24, 2015',\n",
              " 'FEB 25, 2015',\n",
              " 'FEB 26, 2015',\n",
              " 'FEB 27, 2015',\n",
              " 'FEB 28, 2015',\n",
              " 'JAN 01, 2015',\n",
              " 'JAN 02, 2015',\n",
              " 'JAN 03, 2015',\n",
              " 'JAN 04, 2015',\n",
              " 'JAN 05, 2015',\n",
              " 'JAN 06, 2015',\n",
              " 'JAN 07, 2015',\n",
              " 'JAN 08, 2015',\n",
              " 'JAN 09, 2015',\n",
              " 'JAN 10, 2015',\n",
              " 'JAN 11, 2015',\n",
              " 'JAN 12, 2015',\n",
              " 'JAN 13, 2015',\n",
              " 'JAN 14, 2015',\n",
              " 'JAN 15, 2015',\n",
              " 'JAN 16, 2015',\n",
              " 'JAN 17, 2015',\n",
              " 'JAN 18, 2015',\n",
              " 'JAN 19, 2015',\n",
              " 'JAN 20, 2015',\n",
              " 'JAN 21, 2015',\n",
              " 'JAN 22, 2015',\n",
              " 'JAN 23, 2015',\n",
              " 'JAN 24, 2015',\n",
              " 'JAN 25, 2015',\n",
              " 'JAN 26, 2015',\n",
              " 'JAN 27, 2015',\n",
              " 'JAN 28, 2015',\n",
              " 'JAN 29, 2015',\n",
              " 'JAN 30, 2015',\n",
              " 'JAN 31, 2015',\n",
              " 'MAR 01, 2015',\n",
              " 'MAR 02, 2015',\n",
              " 'MAR 03, 2015',\n",
              " 'MAR 04, 2015',\n",
              " 'NOV 01, 2014',\n",
              " 'NOV 02, 2014',\n",
              " 'NOV 03, 2014',\n",
              " 'NOV 04, 2014',\n",
              " 'NOV 05, 2014',\n",
              " 'NOV 06, 2014',\n",
              " 'NOV 07, 2014',\n",
              " 'NOV 08, 2014',\n",
              " 'NOV 09, 2014',\n",
              " 'NOV 10, 2014',\n",
              " 'NOV 11, 2014',\n",
              " 'NOV 12, 2014',\n",
              " 'NOV 13, 2014',\n",
              " 'NOV 14, 2014',\n",
              " 'NOV 15, 2014',\n",
              " 'NOV 16, 2014',\n",
              " 'NOV 17, 2014',\n",
              " 'NOV 18, 2014',\n",
              " 'NOV 19, 2014',\n",
              " 'NOV 20, 2014',\n",
              " 'NOV 21, 2014',\n",
              " 'NOV 22, 2014',\n",
              " 'NOV 23, 2014',\n",
              " 'NOV 24, 2014',\n",
              " 'NOV 25, 2014',\n",
              " 'NOV 26, 2014',\n",
              " 'NOV 28, 2014',\n",
              " 'NOV 29, 2014',\n",
              " 'NOV 30, 2014',\n",
              " 'OCT 28, 2014',\n",
              " 'OCT 29, 2014',\n",
              " 'OCT 30, 2014',\n",
              " 'OCT 31, 2014'}"
            ]
          },
          "metadata": {
            "tags": []
          },
          "execution_count": 44
        }
      ]
    },
    {
      "cell_type": "code",
      "metadata": {
        "id": "xbA0i47PfZQo",
        "colab_type": "code",
        "outputId": "31e431b9-9886-4083-9a2e-94a827291156",
        "colab": {
          "base_uri": "https://localhost:8080/",
          "height": 467
        }
      },
      "source": [
        "# create new column on the dataframe with the date that each shot was taken\n",
        "\n",
        "df['DATE'] = dates\n",
        "\n",
        "df.head()"
      ],
      "execution_count": 0,
      "outputs": [
        {
          "output_type": "execute_result",
          "data": {
            "text/html": [
              "<div>\n",
              "<style scoped>\n",
              "    .dataframe tbody tr th:only-of-type {\n",
              "        vertical-align: middle;\n",
              "    }\n",
              "\n",
              "    .dataframe tbody tr th {\n",
              "        vertical-align: top;\n",
              "    }\n",
              "\n",
              "    .dataframe thead th {\n",
              "        text-align: right;\n",
              "    }\n",
              "</style>\n",
              "<table border=\"1\" class=\"dataframe\">\n",
              "  <thead>\n",
              "    <tr style=\"text-align: right;\">\n",
              "      <th></th>\n",
              "      <th>GAME_ID</th>\n",
              "      <th>MATCHUP</th>\n",
              "      <th>LOCATION</th>\n",
              "      <th>W</th>\n",
              "      <th>FINAL_MARGIN</th>\n",
              "      <th>SHOT_NUMBER</th>\n",
              "      <th>PERIOD</th>\n",
              "      <th>GAME_CLOCK</th>\n",
              "      <th>SHOT_CLOCK</th>\n",
              "      <th>DRIBBLES</th>\n",
              "      <th>TOUCH_TIME</th>\n",
              "      <th>SHOT_DIST</th>\n",
              "      <th>PTS_TYPE</th>\n",
              "      <th>SHOT_RESULT</th>\n",
              "      <th>CLOSEST_DEFENDER</th>\n",
              "      <th>CLOSEST_DEFENDER_PLAYER_ID</th>\n",
              "      <th>CLOSE_DEF_DIST</th>\n",
              "      <th>FGM</th>\n",
              "      <th>PTS</th>\n",
              "      <th>player_name</th>\n",
              "      <th>player_id</th>\n",
              "      <th>DATE</th>\n",
              "    </tr>\n",
              "  </thead>\n",
              "  <tbody>\n",
              "    <tr>\n",
              "      <th>0</th>\n",
              "      <td>21400899</td>\n",
              "      <td>MAR 04, 2015 - CHA @ BKN</td>\n",
              "      <td>A</td>\n",
              "      <td>W</td>\n",
              "      <td>24</td>\n",
              "      <td>1</td>\n",
              "      <td>1</td>\n",
              "      <td>1:09</td>\n",
              "      <td>10.8</td>\n",
              "      <td>2</td>\n",
              "      <td>1.9</td>\n",
              "      <td>7.7</td>\n",
              "      <td>2</td>\n",
              "      <td>made</td>\n",
              "      <td>Anderson, Alan</td>\n",
              "      <td>101187</td>\n",
              "      <td>1.3</td>\n",
              "      <td>1</td>\n",
              "      <td>2</td>\n",
              "      <td>brian roberts</td>\n",
              "      <td>203148</td>\n",
              "      <td>MAR 04, 2015</td>\n",
              "    </tr>\n",
              "    <tr>\n",
              "      <th>1</th>\n",
              "      <td>21400899</td>\n",
              "      <td>MAR 04, 2015 - CHA @ BKN</td>\n",
              "      <td>A</td>\n",
              "      <td>W</td>\n",
              "      <td>24</td>\n",
              "      <td>2</td>\n",
              "      <td>1</td>\n",
              "      <td>0:14</td>\n",
              "      <td>3.4</td>\n",
              "      <td>0</td>\n",
              "      <td>0.8</td>\n",
              "      <td>28.2</td>\n",
              "      <td>3</td>\n",
              "      <td>missed</td>\n",
              "      <td>Bogdanovic, Bojan</td>\n",
              "      <td>202711</td>\n",
              "      <td>6.1</td>\n",
              "      <td>0</td>\n",
              "      <td>0</td>\n",
              "      <td>brian roberts</td>\n",
              "      <td>203148</td>\n",
              "      <td>MAR 04, 2015</td>\n",
              "    </tr>\n",
              "    <tr>\n",
              "      <th>2</th>\n",
              "      <td>21400899</td>\n",
              "      <td>MAR 04, 2015 - CHA @ BKN</td>\n",
              "      <td>A</td>\n",
              "      <td>W</td>\n",
              "      <td>24</td>\n",
              "      <td>3</td>\n",
              "      <td>1</td>\n",
              "      <td>0:00</td>\n",
              "      <td>NaN</td>\n",
              "      <td>3</td>\n",
              "      <td>2.7</td>\n",
              "      <td>10.1</td>\n",
              "      <td>2</td>\n",
              "      <td>missed</td>\n",
              "      <td>Bogdanovic, Bojan</td>\n",
              "      <td>202711</td>\n",
              "      <td>0.9</td>\n",
              "      <td>0</td>\n",
              "      <td>0</td>\n",
              "      <td>brian roberts</td>\n",
              "      <td>203148</td>\n",
              "      <td>MAR 04, 2015</td>\n",
              "    </tr>\n",
              "    <tr>\n",
              "      <th>3</th>\n",
              "      <td>21400899</td>\n",
              "      <td>MAR 04, 2015 - CHA @ BKN</td>\n",
              "      <td>A</td>\n",
              "      <td>W</td>\n",
              "      <td>24</td>\n",
              "      <td>4</td>\n",
              "      <td>2</td>\n",
              "      <td>11:47</td>\n",
              "      <td>10.3</td>\n",
              "      <td>2</td>\n",
              "      <td>1.9</td>\n",
              "      <td>17.2</td>\n",
              "      <td>2</td>\n",
              "      <td>missed</td>\n",
              "      <td>Brown, Markel</td>\n",
              "      <td>203900</td>\n",
              "      <td>3.4</td>\n",
              "      <td>0</td>\n",
              "      <td>0</td>\n",
              "      <td>brian roberts</td>\n",
              "      <td>203148</td>\n",
              "      <td>MAR 04, 2015</td>\n",
              "    </tr>\n",
              "    <tr>\n",
              "      <th>4</th>\n",
              "      <td>21400899</td>\n",
              "      <td>MAR 04, 2015 - CHA @ BKN</td>\n",
              "      <td>A</td>\n",
              "      <td>W</td>\n",
              "      <td>24</td>\n",
              "      <td>5</td>\n",
              "      <td>2</td>\n",
              "      <td>10:34</td>\n",
              "      <td>10.9</td>\n",
              "      <td>2</td>\n",
              "      <td>2.7</td>\n",
              "      <td>3.7</td>\n",
              "      <td>2</td>\n",
              "      <td>missed</td>\n",
              "      <td>Young, Thaddeus</td>\n",
              "      <td>201152</td>\n",
              "      <td>1.1</td>\n",
              "      <td>0</td>\n",
              "      <td>0</td>\n",
              "      <td>brian roberts</td>\n",
              "      <td>203148</td>\n",
              "      <td>MAR 04, 2015</td>\n",
              "    </tr>\n",
              "  </tbody>\n",
              "</table>\n",
              "</div>"
            ],
            "text/plain": [
              "    GAME_ID                   MATCHUP  ... player_id          DATE\n",
              "0  21400899  MAR 04, 2015 - CHA @ BKN  ...    203148  MAR 04, 2015\n",
              "1  21400899  MAR 04, 2015 - CHA @ BKN  ...    203148  MAR 04, 2015\n",
              "2  21400899  MAR 04, 2015 - CHA @ BKN  ...    203148  MAR 04, 2015\n",
              "3  21400899  MAR 04, 2015 - CHA @ BKN  ...    203148  MAR 04, 2015\n",
              "4  21400899  MAR 04, 2015 - CHA @ BKN  ...    203148  MAR 04, 2015\n",
              "\n",
              "[5 rows x 22 columns]"
            ]
          },
          "metadata": {
            "tags": []
          },
          "execution_count": 45
        }
      ]
    },
    {
      "cell_type": "code",
      "metadata": {
        "id": "zpG10MIPf_NI",
        "colab_type": "code",
        "outputId": "8cfd509a-fbbb-4d12-fd31-141015091ae9",
        "colab": {
          "base_uri": "https://localhost:8080/",
          "height": 34
        }
      },
      "source": [
        "df['DATE'].dtypes"
      ],
      "execution_count": 0,
      "outputs": [
        {
          "output_type": "execute_result",
          "data": {
            "text/plain": [
              "dtype('O')"
            ]
          },
          "metadata": {
            "tags": []
          },
          "execution_count": 47
        }
      ]
    },
    {
      "cell_type": "code",
      "metadata": {
        "id": "kB9i-qE1gD68",
        "colab_type": "code",
        "colab": {}
      },
      "source": [
        "# Change 'DATE' column datetype to datetime format\n",
        "\n",
        "df['DATE'] = pd.to_datetime(df['DATE'], infer_datetime_format=True)"
      ],
      "execution_count": 0,
      "outputs": []
    },
    {
      "cell_type": "code",
      "metadata": {
        "id": "6_rmEEcOgTrE",
        "colab_type": "code",
        "outputId": "c28e09c1-abfd-46f0-a58d-8dd8aae9d6ca",
        "colab": {
          "base_uri": "https://localhost:8080/",
          "height": 230
        }
      },
      "source": [
        "df['DATE']"
      ],
      "execution_count": 0,
      "outputs": [
        {
          "output_type": "execute_result",
          "data": {
            "text/plain": [
              "0        2015-03-04\n",
              "1        2015-03-04\n",
              "2        2015-03-04\n",
              "3        2015-03-04\n",
              "4        2015-03-04\n",
              "            ...    \n",
              "128064   2014-10-29\n",
              "128065   2014-10-29\n",
              "128066   2014-10-29\n",
              "128067   2014-10-29\n",
              "128068   2014-10-29\n",
              "Name: DATE, Length: 128069, dtype: datetime64[ns]"
            ]
          },
          "metadata": {
            "tags": []
          },
          "execution_count": 51
        }
      ]
    },
    {
      "cell_type": "code",
      "metadata": {
        "id": "yVlZrn_LhWM2",
        "colab_type": "code",
        "outputId": "813dfb3a-7b65-434a-e921-0fed8bbb86a5",
        "colab": {
          "base_uri": "https://localhost:8080/",
          "height": 34
        }
      },
      "source": [
        "# Split the data into training, validation, and testing data based on time\n",
        "train = df[df['DATE'].dt.month >= 10]\n",
        "val = df[df['DATE'].dt.month <= 1]\n",
        "test = df[(df['DATE'].dt.month == 2) | (df['DATE'].dt.month == 3)]\n",
        "\n",
        "# Print the shape of each\n",
        "train.shape, val.shape, test.shape"
      ],
      "execution_count": 0,
      "outputs": [
        {
          "output_type": "execute_result",
          "data": {
            "text/plain": [
              "((68735, 22), (33262, 22), (26072, 22))"
            ]
          },
          "metadata": {
            "tags": []
          },
          "execution_count": 60
        }
      ]
    },
    {
      "cell_type": "markdown",
      "metadata": {
        "id": "5v4TBR1mn1XB",
        "colab_type": "text"
      },
      "source": [
        " Begin to choose which features, if any, to exclude. Would some features \"leak\" future information?\n",
        "\n",
        " `I would exclude the 'FGM' column as that is essentially a duplicate of my target column.`"
      ]
    },
    {
      "cell_type": "code",
      "metadata": {
        "id": "UU_EJu9uhqLh",
        "colab_type": "code",
        "colab": {}
      },
      "source": [
        ""
      ],
      "execution_count": 0,
      "outputs": []
    }
  ]
}