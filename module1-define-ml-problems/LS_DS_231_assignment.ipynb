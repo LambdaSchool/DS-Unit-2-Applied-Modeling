{
  "nbformat": 4,
  "nbformat_minor": 0,
  "metadata": {
    "colab": {
      "name": "LS_DS_231_assignment.ipynb",
      "provenance": [],
      "toc_visible": true
    },
    "kernelspec": {
      "display_name": "Python 3",
      "language": "python",
      "name": "python3"
    },
    "language_info": {
      "codemirror_mode": {
        "name": "ipython",
        "version": 3
      },
      "file_extension": ".py",
      "mimetype": "text/x-python",
      "name": "python",
      "nbconvert_exporter": "python",
      "pygments_lexer": "ipython3",
      "version": "3.8.2"
    }
  },
  "cells": [
    {
      "cell_type": "markdown",
      "metadata": {
        "id": "nCc3XZEyG3XV"
      },
      "source": [
        "Lambda School Data Science\n",
        "\n",
        "*Unit 2, Sprint 3, Module 1*\n",
        "\n",
        "---\n",
        "\n",
        "\n",
        "# Define ML problems\n",
        "\n",
        "You will use your portfolio project dataset for all assignments this sprint.\n",
        "\n",
        "## Assignment\n",
        "\n",
        "Complete these tasks for your project, and document your decisions.\n",
        "\n",
        "- [ ] Choose your target. Which column in your tabular dataset will you predict?\n",
        "- [ ] Is your problem regression or classification?\n",
        "- [ ] How is your target distributed?\n",
        "    - Classification: How many classes? Are the classes imbalanced?\n",
        "    - Regression: Is the target right-skewed? If so, you may want to log transform the target.\n",
        "- [ ] Choose your evaluation metric(s).\n",
        "    - Classification: Is your majority class frequency >= 50% and < 70% ? If so, you can just use accuracy if you want. Outside that range, accuracy could be misleading. What evaluation metric will you choose, in addition to or instead of accuracy?\n",
        "    - Regression: Will you use mean absolute error, root mean squared error, R^2, or other regression metrics?\n",
        "- [ ] Choose which observations you will use to train, validate, and test your model.\n",
        "    - Are some observations outliers? Will you exclude them?\n",
        "    - Will you do a random split or a time-based split?\n",
        "- [ ] Begin to clean and explore your data.\n",
        "- [ ] Begin to choose which features, if any, to exclude. Would some features \"leak\" future information?\n",
        "\n",
        "If you haven't found a dataset yet, do that today. [Review requirements for your portfolio project](https://lambdaschool.github.io/ds/unit2) and choose your dataset.\n",
        "\n",
        "Some students worry, ***what if my model isn't “good”?*** Then, [produce a detailed tribute to your wrongness. That is science!](https://twitter.com/nathanwpyle/status/1176860147223867393)"
      ]
    },
    {
      "cell_type": "code",
      "metadata": {
        "id": "q8ad7o6lcLC7",
        "outputId": "f7736a0b-d26b-44bf-b11f-787c3bf0c295",
        "colab": {
          "base_uri": "https://localhost:8080/",
          "height": 238
        }
      },
      "source": [
        "# Import Yahoo finance python\n",
        "!pip install yfinance\n",
        "import yfinance as yf"
      ],
      "execution_count": 3,
      "outputs": [
        {
          "output_type": "stream",
          "text": [
            "Requirement already satisfied: yfinance in /usr/local/lib/python3.6/dist-packages (0.1.55)\n",
            "Requirement already satisfied: requests>=2.20 in /usr/local/lib/python3.6/dist-packages (from yfinance) (2.23.0)\n",
            "Requirement already satisfied: pandas>=0.24 in /usr/local/lib/python3.6/dist-packages (from yfinance) (1.1.2)\n",
            "Requirement already satisfied: numpy>=1.15 in /usr/local/lib/python3.6/dist-packages (from yfinance) (1.18.5)\n",
            "Requirement already satisfied: multitasking>=0.0.7 in /usr/local/lib/python3.6/dist-packages (from yfinance) (0.0.9)\n",
            "Requirement already satisfied: lxml>=4.5.1 in /usr/local/lib/python3.6/dist-packages (from yfinance) (4.6.1)\n",
            "Requirement already satisfied: urllib3!=1.25.0,!=1.25.1,<1.26,>=1.21.1 in /usr/local/lib/python3.6/dist-packages (from requests>=2.20->yfinance) (1.24.3)\n",
            "Requirement already satisfied: chardet<4,>=3.0.2 in /usr/local/lib/python3.6/dist-packages (from requests>=2.20->yfinance) (3.0.4)\n",
            "Requirement already satisfied: certifi>=2017.4.17 in /usr/local/lib/python3.6/dist-packages (from requests>=2.20->yfinance) (2020.6.20)\n",
            "Requirement already satisfied: idna<3,>=2.5 in /usr/local/lib/python3.6/dist-packages (from requests>=2.20->yfinance) (2.10)\n",
            "Requirement already satisfied: pytz>=2017.2 in /usr/local/lib/python3.6/dist-packages (from pandas>=0.24->yfinance) (2018.9)\n",
            "Requirement already satisfied: python-dateutil>=2.7.3 in /usr/local/lib/python3.6/dist-packages (from pandas>=0.24->yfinance) (2.8.1)\n",
            "Requirement already satisfied: six>=1.5 in /usr/local/lib/python3.6/dist-packages (from python-dateutil>=2.7.3->pandas>=0.24->yfinance) (1.15.0)\n"
          ],
          "name": "stdout"
        }
      ]
    },
    {
      "cell_type": "code",
      "metadata": {
        "id": "xlHn9ubzBlbc"
      },
      "source": [
        "import numpy as np\n",
        "import pandas as pd"
      ],
      "execution_count": 4,
      "outputs": []
    },
    {
      "cell_type": "code",
      "metadata": {
        "id": "04-y_32FBpUO"
      },
      "source": [
        "# Load the data from github\n",
        "url = 'https://raw.githubusercontent.com/laguz/stock_csv/master/AAPL.csv'\n",
        "df = pd.read_csv(url)"
      ],
      "execution_count": 5,
      "outputs": []
    },
    {
      "cell_type": "code",
      "metadata": {
        "id": "n_Gs4pyFFrrl",
        "outputId": "89bb0698-9867-4d54-eb44-9da664e8586e",
        "colab": {
          "base_uri": "https://localhost:8080/",
          "height": 204
        }
      },
      "source": [
        "# Take a look at the data\n",
        "df.head()"
      ],
      "execution_count": 6,
      "outputs": [
        {
          "output_type": "execute_result",
          "data": {
            "text/html": [
              "<div>\n",
              "<style scoped>\n",
              "    .dataframe tbody tr th:only-of-type {\n",
              "        vertical-align: middle;\n",
              "    }\n",
              "\n",
              "    .dataframe tbody tr th {\n",
              "        vertical-align: top;\n",
              "    }\n",
              "\n",
              "    .dataframe thead th {\n",
              "        text-align: right;\n",
              "    }\n",
              "</style>\n",
              "<table border=\"1\" class=\"dataframe\">\n",
              "  <thead>\n",
              "    <tr style=\"text-align: right;\">\n",
              "      <th></th>\n",
              "      <th>Date</th>\n",
              "      <th>Open</th>\n",
              "      <th>High</th>\n",
              "      <th>Low</th>\n",
              "      <th>Close</th>\n",
              "      <th>Adj Close</th>\n",
              "      <th>Volume</th>\n",
              "    </tr>\n",
              "  </thead>\n",
              "  <tbody>\n",
              "    <tr>\n",
              "      <th>0</th>\n",
              "      <td>1980-12-12</td>\n",
              "      <td>0.128348</td>\n",
              "      <td>0.128906</td>\n",
              "      <td>0.128348</td>\n",
              "      <td>0.128348</td>\n",
              "      <td>0.101261</td>\n",
              "      <td>469033600.0</td>\n",
              "    </tr>\n",
              "    <tr>\n",
              "      <th>1</th>\n",
              "      <td>1980-12-15</td>\n",
              "      <td>0.122210</td>\n",
              "      <td>0.122210</td>\n",
              "      <td>0.121652</td>\n",
              "      <td>0.121652</td>\n",
              "      <td>0.095978</td>\n",
              "      <td>175884800.0</td>\n",
              "    </tr>\n",
              "    <tr>\n",
              "      <th>2</th>\n",
              "      <td>1980-12-16</td>\n",
              "      <td>0.113281</td>\n",
              "      <td>0.113281</td>\n",
              "      <td>0.112723</td>\n",
              "      <td>0.112723</td>\n",
              "      <td>0.088934</td>\n",
              "      <td>105728000.0</td>\n",
              "    </tr>\n",
              "    <tr>\n",
              "      <th>3</th>\n",
              "      <td>1980-12-17</td>\n",
              "      <td>0.115513</td>\n",
              "      <td>0.116071</td>\n",
              "      <td>0.115513</td>\n",
              "      <td>0.115513</td>\n",
              "      <td>0.091135</td>\n",
              "      <td>86441600.0</td>\n",
              "    </tr>\n",
              "    <tr>\n",
              "      <th>4</th>\n",
              "      <td>1980-12-18</td>\n",
              "      <td>0.118862</td>\n",
              "      <td>0.119420</td>\n",
              "      <td>0.118862</td>\n",
              "      <td>0.118862</td>\n",
              "      <td>0.093777</td>\n",
              "      <td>73449600.0</td>\n",
              "    </tr>\n",
              "  </tbody>\n",
              "</table>\n",
              "</div>"
            ],
            "text/plain": [
              "         Date      Open      High       Low     Close  Adj Close       Volume\n",
              "0  1980-12-12  0.128348  0.128906  0.128348  0.128348   0.101261  469033600.0\n",
              "1  1980-12-15  0.122210  0.122210  0.121652  0.121652   0.095978  175884800.0\n",
              "2  1980-12-16  0.113281  0.113281  0.112723  0.112723   0.088934  105728000.0\n",
              "3  1980-12-17  0.115513  0.116071  0.115513  0.115513   0.091135   86441600.0\n",
              "4  1980-12-18  0.118862  0.119420  0.118862  0.118862   0.093777   73449600.0"
            ]
          },
          "metadata": {
            "tags": []
          },
          "execution_count": 6
        }
      ]
    },
    {
      "cell_type": "code",
      "metadata": {
        "id": "tyWTWrYUF12o"
      },
      "source": [
        "# Add the price change feature\n",
        "df['Price_Change'] = df['Close'] - df['Close'].shift(1)"
      ],
      "execution_count": 7,
      "outputs": []
    },
    {
      "cell_type": "code",
      "metadata": {
        "id": "QQ0LZRIfxB6Z"
      },
      "source": [
        "# Add the price change feature\n",
        "df['Volume_Change'] = df['Volume'] - df['Volume'].shift(1)"
      ],
      "execution_count": 8,
      "outputs": []
    },
    {
      "cell_type": "code",
      "metadata": {
        "id": "rbAJMWjxxCCs"
      },
      "source": [
        "# Add the price change feature\n",
        "df['Percentage_Change'] = (((df['Close'] / df['Close'].shift(1))-1)*100)"
      ],
      "execution_count": 9,
      "outputs": []
    },
    {
      "cell_type": "code",
      "metadata": {
        "id": "0vRQNBqSaVSO"
      },
      "source": [
        "# Drop the any create from the three features from above\n",
        "df.dropna(how='any', inplace=True)"
      ],
      "execution_count": 10,
      "outputs": []
    },
    {
      "cell_type": "code",
      "metadata": {
        "id": "_KsMVQ2icbu8",
        "outputId": "43ef527f-2621-43b6-94a7-28f41b751e10",
        "colab": {
          "base_uri": "https://localhost:8080/",
          "height": 68
        }
      },
      "source": [
        "# Create the target feature to predict.\n",
        "# I want to know if the market up or down.\n",
        "df.loc[df['Price_Change'] >= 0, 'Up_Down'] = 1\n",
        "df.loc[df['Price_Change'] < 0, 'Up_Down'] = 0\n",
        "df['Up_Down'] = df['Up_Down'].astype('int')\n",
        "df['Up_Down'].value_counts(normalize=True)"
      ],
      "execution_count": 36,
      "outputs": [
        {
          "output_type": "execute_result",
          "data": {
            "text/plain": [
              "1    0.532284\n",
              "0    0.467716\n",
              "Name: Up_Down, dtype: float64"
            ]
          },
          "metadata": {
            "tags": []
          },
          "execution_count": 36
        }
      ]
    },
    {
      "cell_type": "code",
      "metadata": {
        "id": "38Ahsz1hfCMV"
      },
      "source": [
        "# Choose your target. Which column in your tabular dataset will you predict?\n",
        "# I will predict Up_Down"
      ],
      "execution_count": 12,
      "outputs": []
    },
    {
      "cell_type": "code",
      "metadata": {
        "id": "tYC2g8ENfCXS"
      },
      "source": [
        "# Is your problem regression or classification?\n",
        "# It will be a regression"
      ],
      "execution_count": 13,
      "outputs": []
    },
    {
      "cell_type": "code",
      "metadata": {
        "id": "XZaRFgjifCiD"
      },
      "source": [
        "# How is your target distributed?\n",
        "# The majority class frequency is 53%"
      ],
      "execution_count": 14,
      "outputs": []
    },
    {
      "cell_type": "code",
      "metadata": {
        "id": "zZrwggbFh1by"
      },
      "source": [
        "# My evaluation metrics.\n",
        "# Accuracy and Mean Absolute Error"
      ],
      "execution_count": 15,
      "outputs": []
    },
    {
      "cell_type": "code",
      "metadata": {
        "id": "qbfTYbG0iwFQ"
      },
      "source": [
        "# I will train from 1980 to 2004, validate from 2005 to 2014, and test from 2015 to 2019\n",
        "# I will do time base split."
      ],
      "execution_count": 16,
      "outputs": []
    },
    {
      "cell_type": "code",
      "metadata": {
        "id": "O_ZYFtNgjmey"
      },
      "source": [
        "####################### Fisnish retro 1 ####################"
      ],
      "execution_count": 17,
      "outputs": []
    },
    {
      "cell_type": "code",
      "metadata": {
        "id": "P3pRLof2juAF"
      },
      "source": [
        "####################### Start retro 2 ####################"
      ],
      "execution_count": 18,
      "outputs": []
    },
    {
      "cell_type": "code",
      "metadata": {
        "id": "F1k4TKaAdc1O",
        "outputId": "075d9132-8125-43d8-8a65-5536f733fa32",
        "colab": {
          "base_uri": "https://localhost:8080/",
          "height": 323
        }
      },
      "source": [
        "# Take a look at the data\n",
        "df.info()"
      ],
      "execution_count": 37,
      "outputs": [
        {
          "output_type": "stream",
          "text": [
            "<class 'pandas.core.frame.DataFrame'>\n",
            "Int64Index: 10036 entries, 1 to 10038\n",
            "Data columns (total 11 columns):\n",
            " #   Column             Non-Null Count  Dtype         \n",
            "---  ------             --------------  -----         \n",
            " 0   Date               10036 non-null  datetime64[ns]\n",
            " 1   Open               10036 non-null  float64       \n",
            " 2   High               10036 non-null  float64       \n",
            " 3   Low                10036 non-null  float64       \n",
            " 4   Close              10036 non-null  float64       \n",
            " 5   Adj Close          10036 non-null  float64       \n",
            " 6   Volume             10036 non-null  float64       \n",
            " 7   Price_Change       10036 non-null  float64       \n",
            " 8   Volume_Change      10036 non-null  float64       \n",
            " 9   Percentage_Change  10036 non-null  float64       \n",
            " 10  Up_Down            10036 non-null  int64         \n",
            "dtypes: datetime64[ns](1), float64(9), int64(1)\n",
            "memory usage: 940.9 KB\n"
          ],
          "name": "stdout"
        }
      ]
    },
    {
      "cell_type": "code",
      "metadata": {
        "id": "dFZZrRpjdoRK"
      },
      "source": [
        "# Convert the Date column into time data type\n",
        "df['Date'] = pd.to_datetime(df['Date'])"
      ],
      "execution_count": 20,
      "outputs": []
    },
    {
      "cell_type": "code",
      "metadata": {
        "id": "UBqlURC0A5zA",
        "outputId": "1e3f65aa-6ecf-41cc-89dd-b1e0710227ef",
        "colab": {
          "base_uri": "https://localhost:8080/",
          "height": 323
        }
      },
      "source": [
        "# Take a look at the data again\n",
        "df.info()"
      ],
      "execution_count": 21,
      "outputs": [
        {
          "output_type": "stream",
          "text": [
            "<class 'pandas.core.frame.DataFrame'>\n",
            "Int64Index: 10036 entries, 1 to 10038\n",
            "Data columns (total 11 columns):\n",
            " #   Column             Non-Null Count  Dtype         \n",
            "---  ------             --------------  -----         \n",
            " 0   Date               10036 non-null  datetime64[ns]\n",
            " 1   Open               10036 non-null  float64       \n",
            " 2   High               10036 non-null  float64       \n",
            " 3   Low                10036 non-null  float64       \n",
            " 4   Close              10036 non-null  float64       \n",
            " 5   Adj Close          10036 non-null  float64       \n",
            " 6   Volume             10036 non-null  float64       \n",
            " 7   Price_Change       10036 non-null  float64       \n",
            " 8   Volume_Change      10036 non-null  float64       \n",
            " 9   Percentage_Change  10036 non-null  float64       \n",
            " 10  Up_Down            10036 non-null  float64       \n",
            "dtypes: datetime64[ns](1), float64(10)\n",
            "memory usage: 940.9 KB\n"
          ],
          "name": "stdout"
        }
      ]
    },
    {
      "cell_type": "code",
      "metadata": {
        "id": "yBERmLNQBAn0"
      },
      "source": [
        "####################### Fisnish retro 2 ####################"
      ],
      "execution_count": 22,
      "outputs": []
    },
    {
      "cell_type": "code",
      "metadata": {
        "id": "H-XwK6ZyBD9l"
      },
      "source": [
        "####################### Start retro 3 ####################"
      ],
      "execution_count": 23,
      "outputs": []
    },
    {
      "cell_type": "code",
      "metadata": {
        "id": "aFHXFmxfncnD",
        "outputId": "01a4cf2d-538f-4abb-9e5f-d40c34e7a1c6",
        "colab": {
          "base_uri": "https://localhost:8080/",
          "height": 34
        }
      },
      "source": [
        "# Baseline\n",
        "baseline = df['Up_Down'].value_counts(normalize=True)\n",
        "print('Majority Baseline:', baseline[1])"
      ],
      "execution_count": 27,
      "outputs": [
        {
          "output_type": "stream",
          "text": [
            "Majority Baseline: 0.5322837783977681\n"
          ],
          "name": "stdout"
        }
      ]
    },
    {
      "cell_type": "code",
      "metadata": {
        "id": "0CFNjb1MpZNR"
      },
      "source": [
        "numeric = df.describe().columns.values.tolist()"
      ],
      "execution_count": 41,
      "outputs": []
    },
    {
      "cell_type": "code",
      "metadata": {
        "id": "z0ipb5SQof4m"
      },
      "source": [
        "from sklearn.compose import ColumnTransformer\n",
        "from sklearn.pipeline import Pipeline\n",
        "from sklearn.impute import SimpleImputer\n",
        "from sklearn.preprocessing import StandardScaler, OrdinalEncoder\n",
        "from sklearn.tree import DecisionTreeClassifier\n",
        "\n",
        "\n",
        "numeric_features = numeric\n",
        "\n",
        "numeric_transformer = Pipeline(steps=[\n",
        "    ('imputer', SimpleImputer(strategy='median')),\n",
        "    ('scaler', StandardScaler())])\n",
        "\n",
        "preprocessor = ColumnTransformer(\n",
        "    transformers=[\n",
        "        ('num', numeric_transformer, numeric_features)])\n",
        "\n",
        "\n",
        "clf = Pipeline(steps=[('preprocessor', preprocessor),\n",
        "                  ('classifier', DecisionTreeClassifier())])"
      ],
      "execution_count": 42,
      "outputs": []
    },
    {
      "cell_type": "code",
      "metadata": {
        "id": "joM2fZg2rpsQ"
      },
      "source": [
        "# Create the feature matrix \n",
        "X = df.drop('Up_Down', axis=1)\n",
        "\n",
        "# Create and encode the target array\n",
        "from sklearn.preprocessing import LabelEncoder\n",
        "label_enc = LabelEncoder()\n",
        "y=label_enc.fit_transform(weather_drop['RainTomorrow'])\n",
        "\n",
        "# Import the train_test_split utility\n",
        "from sklearn.model_selection import train_test_split\n",
        "\n",
        "# Create the training and test sets\n",
        "X_train, X_test, y_train, y_test = train_test_split(\n",
        "    X, y, test_size=0.2, random_state=42)\n",
        "\n",
        "# Fit the model\n",
        "clf.fit(X_train,y_train)\n",
        "print('Validation Accuracy', clf.score(X_test, y_test))"
      ],
      "execution_count": null,
      "outputs": []
    }
  ]
}