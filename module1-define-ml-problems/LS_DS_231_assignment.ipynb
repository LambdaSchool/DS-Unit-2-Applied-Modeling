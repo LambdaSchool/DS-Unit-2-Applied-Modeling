{
  "nbformat": 4,
  "nbformat_minor": 0,
  "metadata": {
    "kernelspec": {
      "display_name": "Python 3",
      "language": "python",
      "name": "python3"
    },
    "language_info": {
      "codemirror_mode": {
        "name": "ipython",
        "version": 3
      },
      "file_extension": ".py",
      "mimetype": "text/x-python",
      "name": "python",
      "nbconvert_exporter": "python",
      "pygments_lexer": "ipython3",
      "version": "3.7.6"
    },
    "colab": {
      "name": "jcs-LS_DS_231_assignment.ipynb",
      "provenance": [],
      "collapsed_sections": [],
      "include_colab_link": true
    }
  },
  "cells": [
    {
      "cell_type": "markdown",
      "metadata": {
        "id": "view-in-github",
        "colab_type": "text"
      },
      "source": [
        "<a href=\"https://colab.research.google.com/github/jcs-lambda/DS-Unit-2-Applied-Modeling/blob/master/module1-define-ml-problems/LS_DS_231_assignment.ipynb\" target=\"_parent\"><img src=\"https://colab.research.google.com/assets/colab-badge.svg\" alt=\"Open In Colab\"/></a>"
      ]
    },
    {
      "cell_type": "markdown",
      "metadata": {
        "colab_type": "text",
        "id": "nCc3XZEyG3XV"
      },
      "source": [
        "Lambda School Data Science\n",
        "\n",
        "*Unit 2, Sprint 3, Module 1*\n",
        "\n",
        "---\n",
        "\n",
        "\n",
        "# Define ML problems\n",
        "\n",
        "You will use your portfolio project dataset for all assignments this sprint.\n",
        "\n",
        "## Assignment\n",
        "\n",
        "Complete these tasks for your project, and document your decisions.\n",
        "\n",
        "- [ ] Choose your target. Which column in your tabular dataset will you predict?\n",
        "- [ ] Is your problem regression or classification?\n",
        "- [ ] How is your target distributed?\n",
        "    - Classification: How many classes? Are the classes imbalanced?\n",
        "    - Regression: Is the target right-skewed? If so, you may want to log transform the target.\n",
        "- [ ] Choose your evaluation metric(s).\n",
        "    - Classification: Is your majority class frequency >= 50% and < 70% ? If so, you can just use accuracy if you want. Outside that range, accuracy could be misleading. What evaluation metric will you choose, in addition to or instead of accuracy?\n",
        "    - Regression: Will you use mean absolute error, root mean squared error, R^2, or other regression metrics?\n",
        "- [ ] Choose which observations you will use to train, validate, and test your model.\n",
        "    - Are some observations outliers? Will you exclude them?\n",
        "    - Will you do a random split or a time-based split?\n",
        "- [ ] Begin to clean and explore your data.\n",
        "- [ ] Begin to choose which features, if any, to exclude. Would some features \"leak\" future information?\n",
        "\n",
        "If you haven't found a dataset yet, do that today. [Review requirements for your portfolio project](https://lambdaschool.github.io/ds/unit2) and choose your dataset.\n",
        "\n",
        "Some students worry, ***what if my model isn't “good”?*** Then, [produce a detailed tribute to your wrongness. That is science!](https://twitter.com/nathanwpyle/status/1176860147223867393)"
      ]
    },
    {
      "cell_type": "markdown",
      "metadata": {
        "id": "PSYNuYpIk2im",
        "colab_type": "text"
      },
      "source": [
        "# setup"
      ]
    },
    {
      "cell_type": "markdown",
      "metadata": {
        "id": "RmbiYg_4k4_V",
        "colab_type": "text"
      },
      "source": [
        "## libraries / mount google drive"
      ]
    },
    {
      "cell_type": "code",
      "metadata": {
        "id": "80MdeRsOjYBw",
        "colab_type": "code",
        "colab": {
          "base_uri": "https://localhost:8080/",
          "height": 32
        },
        "outputId": "70a5906e-2da4-41a6-a84b-edd54d92a663"
      },
      "source": [
        "import pandas as pd\n",
        "import numpy as np\n",
        "import sqlite3 as sql\n",
        "\n",
        "import matplotlib.pyplot as plt\n",
        "import seaborn as sns\n",
        "%matplotlib inline\n",
        "\n",
        "from IPython.display import display, HTML\n",
        "\n",
        "!pip install -U --quiet pandas-profiling category_encoders\n",
        "\n",
        "import pandas_profiling\n",
        "import category_encoders as ce\n",
        "\n",
        "from google.colab import drive\n",
        "drive.mount('drive')\n",
        "\n",
        "random_state = 13"
      ],
      "execution_count": 126,
      "outputs": [
        {
          "output_type": "stream",
          "text": [
            "Drive already mounted at drive; to attempt to forcibly remount, call drive.mount(\"drive\", force_remount=True).\n"
          ],
          "name": "stdout"
        }
      ]
    },
    {
      "cell_type": "markdown",
      "metadata": {
        "id": "GPaqn5o_k-tw",
        "colab_type": "text"
      },
      "source": [
        "## get the data"
      ]
    },
    {
      "cell_type": "code",
      "metadata": {
        "id": "QwGYxrSAjkkF",
        "colab_type": "code",
        "colab": {
          "base_uri": "https://localhost:8080/",
          "height": 32
        },
        "outputId": "9d85e4cc-e738-4d2d-fa4d-aeca751a062f"
      },
      "source": [
        "import sqlite3 as sql\n",
        "import pandas as pd\n",
        "\n",
        "db_file = '/content/drive/My Drive/android-21-12-primary.sqlite'\n",
        "conn = sql.connect(db_file)\n",
        "\n",
        "df_entries = pd.read_sql_query('SELECT entry, entry_rich FROM entries', conn)\n",
        "# df_headwords = pd.read_sql_query('SELECT * FROM headwords', conn)\n",
        "# df_thesaurus = pd.read_sql_query('SELECT * FROM thesaurus', conn)\n",
        "# df_content_blocks = pd.read_sql_query('SELECT * FROM content_blocks', conn)\n",
        "# df_headword_entries = pd.read_sql_query('SELECT * FROM headword_entries', conn)\n",
        "\n",
        "print(f'entries: {df_entries.shape}')\n",
        "# print(f'headwords: {df_headwords.shape}')\n",
        "# print(f'thesaurus: {df_thesaurus.shape}')\n",
        "# print(f'content_blocks: {df_content_blocks.shape}')\n",
        "# print(f'headword_entries: {df_headword_entries.shape}')"
      ],
      "execution_count": 127,
      "outputs": [
        {
          "output_type": "stream",
          "text": [
            "entries: (148619, 2)\n"
          ],
          "name": "stdout"
        }
      ]
    },
    {
      "cell_type": "markdown",
      "metadata": {
        "id": "K5Gffweelcrn",
        "colab_type": "text"
      },
      "source": [
        "## engineer some features"
      ]
    },
    {
      "cell_type": "code",
      "metadata": {
        "id": "JAbXRokBRNlJ",
        "colab_type": "code",
        "colab": {}
      },
      "source": [
        "# some functions to engineer features\n",
        "def max_len_in_list(a_list):\n",
        "  return max([len(item) for item in a_list])"
      ],
      "execution_count": 0,
      "outputs": []
    },
    {
      "cell_type": "code",
      "metadata": {
        "id": "H1GHbL4kYdeE",
        "colab_type": "code",
        "colab": {
          "base_uri": "https://localhost:8080/",
          "height": 82
        },
        "outputId": "5057f0af-0f78-4789-f263-33c54671650b"
      },
      "source": [
        "X_train.columns"
      ],
      "execution_count": 163,
      "outputs": [
        {
          "output_type": "execute_result",
          "data": {
            "text/plain": [
              "Index(['length', 'num_vowels', 'vowel_chunks', 'max_vowel_chunk_length',\n",
              "       'num_ys', 'ends_in_y', 'num_consonants', 'consonant_chunks',\n",
              "       'max_consonant_chunk_length'],\n",
              "      dtype='object')"
            ]
          },
          "metadata": {
            "tags": []
          },
          "execution_count": 163
        }
      ]
    },
    {
      "cell_type": "code",
      "metadata": {
        "id": "zU3D3tVcbuDe",
        "colab_type": "code",
        "colab": {
          "base_uri": "https://localhost:8080/",
          "height": 49
        },
        "outputId": "7e610ab2-0aa0-4540-bc3c-8c02c1e5bd1c"
      },
      "source": [
        "df_words[df_words['entry']=='disarticulate']['syllables']"
      ],
      "execution_count": 187,
      "outputs": [
        {
          "output_type": "execute_result",
          "data": {
            "text/plain": [
              "131296    5\n",
              "Name: syllables, dtype: int64"
            ]
          },
          "metadata": {
            "tags": []
          },
          "execution_count": 187
        }
      ]
    },
    {
      "cell_type": "code",
      "metadata": {
        "id": "lm60PT5DZKvG",
        "colab_type": "code",
        "colab": {
          "base_uri": "https://localhost:8080/",
          "height": 78
        },
        "outputId": "8b7b1265-5bc6-4e4b-af03-1b43e67425cb"
      },
      "source": [
        "df_words[df_words['entry']=='disarticulate'][features]"
      ],
      "execution_count": 183,
      "outputs": [
        {
          "output_type": "execute_result",
          "data": {
            "text/html": [
              "<div>\n",
              "<style scoped>\n",
              "    .dataframe tbody tr th:only-of-type {\n",
              "        vertical-align: middle;\n",
              "    }\n",
              "\n",
              "    .dataframe tbody tr th {\n",
              "        vertical-align: top;\n",
              "    }\n",
              "\n",
              "    .dataframe thead th {\n",
              "        text-align: right;\n",
              "    }\n",
              "</style>\n",
              "<table border=\"1\" class=\"dataframe\">\n",
              "  <thead>\n",
              "    <tr style=\"text-align: right;\">\n",
              "      <th></th>\n",
              "      <th>length</th>\n",
              "      <th>num_vowels</th>\n",
              "      <th>vowel_chunks</th>\n",
              "      <th>max_vowel_chunk_length</th>\n",
              "      <th>starts_with_vowel</th>\n",
              "      <th>ends_with_vowel</th>\n",
              "      <th>num_ys</th>\n",
              "      <th>ends_in_y</th>\n",
              "      <th>num_consonants</th>\n",
              "      <th>consonant_chunks</th>\n",
              "      <th>max_consonant_chunk_length</th>\n",
              "    </tr>\n",
              "  </thead>\n",
              "  <tbody>\n",
              "    <tr>\n",
              "      <th>131296</th>\n",
              "      <td>13</td>\n",
              "      <td>6</td>\n",
              "      <td>6</td>\n",
              "      <td>1</td>\n",
              "      <td>False</td>\n",
              "      <td>False</td>\n",
              "      <td>0</td>\n",
              "      <td>False</td>\n",
              "      <td>7</td>\n",
              "      <td>6</td>\n",
              "      <td>2</td>\n",
              "    </tr>\n",
              "  </tbody>\n",
              "</table>\n",
              "</div>"
            ],
            "text/plain": [
              "        length  num_vowels  ...  consonant_chunks  max_consonant_chunk_length\n",
              "131296      13           6  ...                 6                           2\n",
              "\n",
              "[1 rows x 11 columns]"
            ]
          },
          "metadata": {
            "tags": []
          },
          "execution_count": 183
        }
      ]
    },
    {
      "cell_type": "code",
      "metadata": {
        "id": "XSMcPDtSYFOr",
        "colab_type": "code",
        "colab": {
          "base_uri": "https://localhost:8080/",
          "height": 78
        },
        "outputId": "108332dc-cf86-4184-9864-eb432caa2e14"
      },
      "source": [
        "# function to make a dataframe to predict an arbitrary word\n",
        "def predict_word(word:str):\n",
        "  word = pd.Series(word)\n",
        "  data = {\n",
        "      'length' : word.str.len(),\n",
        "      'num_vowels' : word.str.count('[aeiou]'),\n",
        "      'vowel_chunks' : word.str.count('[aeiou]+'),\n",
        "      'max_vowel_chunk_length' : word.str.split('[^aeiou]+').apply(lambda a_list : max([len(item) for item in a_list])),\n",
        "      'starts_with_vowel' : word.str.startswith('[aeiou]'),\n",
        "      'ends_with_vowel' : word.str.endswith('[aeiou]'),\n",
        "      'num_ys' : word.str.count('y'), \n",
        "      'ends_in_y' : word.str.endswith('y'), \n",
        "      'num_consonants' : word.str.count('[^aeiou]'), \n",
        "      'consonant_chunks' : word.str.count('[^aeiou]+'),\n",
        "      'max_consonant_chunk_length' : word.str.split('[aeiou]+').apply(lambda a_list : max([len(item) for item in a_list]))\n",
        "  }\n",
        "  return pd.DataFrame(data)\n",
        "\n",
        "predict_word('disarticulate')"
      ],
      "execution_count": 185,
      "outputs": [
        {
          "output_type": "execute_result",
          "data": {
            "text/html": [
              "<div>\n",
              "<style scoped>\n",
              "    .dataframe tbody tr th:only-of-type {\n",
              "        vertical-align: middle;\n",
              "    }\n",
              "\n",
              "    .dataframe tbody tr th {\n",
              "        vertical-align: top;\n",
              "    }\n",
              "\n",
              "    .dataframe thead th {\n",
              "        text-align: right;\n",
              "    }\n",
              "</style>\n",
              "<table border=\"1\" class=\"dataframe\">\n",
              "  <thead>\n",
              "    <tr style=\"text-align: right;\">\n",
              "      <th></th>\n",
              "      <th>length</th>\n",
              "      <th>num_vowels</th>\n",
              "      <th>vowel_chunks</th>\n",
              "      <th>max_vowel_chunk_length</th>\n",
              "      <th>starts_with_vowel</th>\n",
              "      <th>ends_with_vowel</th>\n",
              "      <th>num_ys</th>\n",
              "      <th>ends_in_y</th>\n",
              "      <th>num_consonants</th>\n",
              "      <th>consonant_chunks</th>\n",
              "      <th>max_consonant_chunk_length</th>\n",
              "    </tr>\n",
              "  </thead>\n",
              "  <tbody>\n",
              "    <tr>\n",
              "      <th>0</th>\n",
              "      <td>13</td>\n",
              "      <td>6</td>\n",
              "      <td>6</td>\n",
              "      <td>1</td>\n",
              "      <td>False</td>\n",
              "      <td>False</td>\n",
              "      <td>0</td>\n",
              "      <td>False</td>\n",
              "      <td>7</td>\n",
              "      <td>6</td>\n",
              "      <td>2</td>\n",
              "    </tr>\n",
              "  </tbody>\n",
              "</table>\n",
              "</div>"
            ],
            "text/plain": [
              "   length  num_vowels  ...  consonant_chunks  max_consonant_chunk_length\n",
              "0      13           6  ...                 6                           2\n",
              "\n",
              "[1 rows x 11 columns]"
            ]
          },
          "metadata": {
            "tags": []
          },
          "execution_count": 185
        }
      ]
    },
    {
      "cell_type": "code",
      "metadata": {
        "id": "euwG1zGsj1Uc",
        "colab_type": "code",
        "colab": {
          "base_uri": "https://localhost:8080/",
          "height": 32
        },
        "outputId": "84b443ad-27e3-4ed6-f6e3-8a9479b81704"
      },
      "source": [
        "# select entries that are lower case, only contain letters, and have at least 3 characters\n",
        "df_words = df_entries[df_entries['entry'].str.match('^[a-z]{3,}$', case=False)].copy()\n",
        "\n",
        "# drop entries with no vowels or y's\n",
        "no_vowelys = ~df_words['entry'].str.contains('[aeiouy]')\n",
        "df_words.drop(no_vowelys[no_vowelys == True].index, inplace=True)\n",
        "\n",
        "# fix some errors i found\n",
        "df_words.loc[df_words['entry']=='finasteride', 'entry_rich'] = chr(183).join(['fin', 'as', 'ter', 'ide'])\n",
        "df_words.loc[df_words['entry']=='subnuclear', 'entry_rich'] = chr(183).join(['sub', 'nu', 'cle', 'ar'])\n",
        "df_words.loc[df_words['entry']=='omeprazole', 'entry_rich'] = chr(183).join(['o', 'me', 'pra', 'zole'])\n",
        "df_words.loc[df_words['entry']=='protocal', 'entry_rich'] = chr(183).join(['pro', 'to', 'cal'])\n",
        "\n",
        "# create feature 'length'\n",
        "df_words['length'] = df_words['entry'].str.len()\n",
        "\n",
        "# create feature 'syllables'\n",
        "df_words['syllables'] = df_words['entry_rich'].str.split(chr(183)).str.len()\n",
        "\n",
        "# create vowel related features\n",
        "#  'num_vowels' - total occurences of 'a', 'e', 'i', 'o', and 'u'\n",
        "#  'vowel_chunks' - total occurences of sequential vowels (includes y)\n",
        "#  'max_vowel_chunk_length' - length of longest vowel sequence\n",
        "df_words['num_vowels'] = df_words['entry'].str.count('[aeiou]')\n",
        "df_words['vowel_chunks'] = df_words['entry'].str.count('[aeiouy]+')\n",
        "df_words['max_vowel_chunk_length'] = df_words['entry'].str.split('[^aeiouy]+').apply(lambda a_list : max([len(item) for item in a_list]))\n",
        "df_words['starts_with_vowel'] = df_words['entry'].str.startswith('[aeiou]')\n",
        "df_words['ends_with_vowel'] = df_words['entry'].str.endswith('[aeiou]')\n",
        "\n",
        "# create features to account for the character 'y'\n",
        "#  'num_ys' - total occurences of 'y'\n",
        "#  'ends_in_y' - ends in 'y'\n",
        "df_words['num_ys'] = df_words['entry'].str.count('y')\n",
        "df_words['ends_in_y'] = df_words['entry'].str.endswith('y')\n",
        "\n",
        "# create features accounting for consonants\n",
        "#  'num_consonants' - total occurences of not 'a', 'e', 'i', 'o', and 'u'\n",
        "#  'consonant_chunks' - total occurences of sequential consonants (excludes y)\n",
        "#  'max_consonant_chunk_length' - length of longest consonant sequence\n",
        "df_words['num_consonants'] = df_words['entry'].str.count('[^aeiou]')\n",
        "df_words['consonant_chunks'] = df_words['entry'].str.count('[^aeiouy]+')\n",
        "df_words['max_consonant_chunk_length'] = df_words['entry'].str.split('[aeiouy]+').apply(lambda a_list : max([len(item) for item in a_list]))\n",
        "\n",
        "df_words.shape"
      ],
      "execution_count": 171,
      "outputs": [
        {
          "output_type": "execute_result",
          "data": {
            "text/plain": [
              "(92404, 14)"
            ]
          },
          "metadata": {
            "tags": []
          },
          "execution_count": 171
        }
      ]
    },
    {
      "cell_type": "code",
      "metadata": {
        "id": "0Evd59aU0ihh",
        "colab_type": "code",
        "colab": {
          "base_uri": "https://localhost:8080/",
          "height": 431
        },
        "outputId": "94ee8308-b8dc-41f2-d333-77ad3c863ce9"
      },
      "source": [
        "df_words"
      ],
      "execution_count": 172,
      "outputs": [
        {
          "output_type": "execute_result",
          "data": {
            "text/html": [
              "<div>\n",
              "<style scoped>\n",
              "    .dataframe tbody tr th:only-of-type {\n",
              "        vertical-align: middle;\n",
              "    }\n",
              "\n",
              "    .dataframe tbody tr th {\n",
              "        vertical-align: top;\n",
              "    }\n",
              "\n",
              "    .dataframe thead th {\n",
              "        text-align: right;\n",
              "    }\n",
              "</style>\n",
              "<table border=\"1\" class=\"dataframe\">\n",
              "  <thead>\n",
              "    <tr style=\"text-align: right;\">\n",
              "      <th></th>\n",
              "      <th>entry</th>\n",
              "      <th>entry_rich</th>\n",
              "      <th>length</th>\n",
              "      <th>syllables</th>\n",
              "      <th>num_vowels</th>\n",
              "      <th>vowel_chunks</th>\n",
              "      <th>max_vowel_chunk_length</th>\n",
              "      <th>starts_with_vowel</th>\n",
              "      <th>ends_with_vowel</th>\n",
              "      <th>num_ys</th>\n",
              "      <th>ends_in_y</th>\n",
              "      <th>num_consonants</th>\n",
              "      <th>consonant_chunks</th>\n",
              "      <th>max_consonant_chunk_length</th>\n",
              "    </tr>\n",
              "  </thead>\n",
              "  <tbody>\n",
              "    <tr>\n",
              "      <th>42</th>\n",
              "      <td>Aachen</td>\n",
              "      <td>Aa·chen</td>\n",
              "      <td>6</td>\n",
              "      <td>2</td>\n",
              "      <td>2</td>\n",
              "      <td>2</td>\n",
              "      <td>1</td>\n",
              "      <td>False</td>\n",
              "      <td>False</td>\n",
              "      <td>0</td>\n",
              "      <td>False</td>\n",
              "      <td>4</td>\n",
              "      <td>3</td>\n",
              "      <td>2</td>\n",
              "    </tr>\n",
              "    <tr>\n",
              "      <th>49</th>\n",
              "      <td>aah</td>\n",
              "      <td>aah</td>\n",
              "      <td>3</td>\n",
              "      <td>1</td>\n",
              "      <td>2</td>\n",
              "      <td>1</td>\n",
              "      <td>2</td>\n",
              "      <td>False</td>\n",
              "      <td>False</td>\n",
              "      <td>0</td>\n",
              "      <td>False</td>\n",
              "      <td>1</td>\n",
              "      <td>1</td>\n",
              "      <td>1</td>\n",
              "    </tr>\n",
              "    <tr>\n",
              "      <th>50</th>\n",
              "      <td>Aalborg</td>\n",
              "      <td>Aal·borg</td>\n",
              "      <td>7</td>\n",
              "      <td>2</td>\n",
              "      <td>2</td>\n",
              "      <td>2</td>\n",
              "      <td>1</td>\n",
              "      <td>False</td>\n",
              "      <td>False</td>\n",
              "      <td>0</td>\n",
              "      <td>False</td>\n",
              "      <td>5</td>\n",
              "      <td>3</td>\n",
              "      <td>2</td>\n",
              "    </tr>\n",
              "    <tr>\n",
              "      <th>51</th>\n",
              "      <td>Aalesund</td>\n",
              "      <td>Aa·le·sund</td>\n",
              "      <td>8</td>\n",
              "      <td>3</td>\n",
              "      <td>3</td>\n",
              "      <td>3</td>\n",
              "      <td>1</td>\n",
              "      <td>False</td>\n",
              "      <td>False</td>\n",
              "      <td>0</td>\n",
              "      <td>False</td>\n",
              "      <td>5</td>\n",
              "      <td>4</td>\n",
              "      <td>2</td>\n",
              "    </tr>\n",
              "    <tr>\n",
              "      <th>52</th>\n",
              "      <td>aalii</td>\n",
              "      <td>aa·li·i</td>\n",
              "      <td>5</td>\n",
              "      <td>3</td>\n",
              "      <td>4</td>\n",
              "      <td>2</td>\n",
              "      <td>2</td>\n",
              "      <td>False</td>\n",
              "      <td>False</td>\n",
              "      <td>0</td>\n",
              "      <td>False</td>\n",
              "      <td>1</td>\n",
              "      <td>1</td>\n",
              "      <td>1</td>\n",
              "    </tr>\n",
              "    <tr>\n",
              "      <th>...</th>\n",
              "      <td>...</td>\n",
              "      <td>...</td>\n",
              "      <td>...</td>\n",
              "      <td>...</td>\n",
              "      <td>...</td>\n",
              "      <td>...</td>\n",
              "      <td>...</td>\n",
              "      <td>...</td>\n",
              "      <td>...</td>\n",
              "      <td>...</td>\n",
              "      <td>...</td>\n",
              "      <td>...</td>\n",
              "      <td>...</td>\n",
              "      <td>...</td>\n",
              "    </tr>\n",
              "    <tr>\n",
              "      <th>148613</th>\n",
              "      <td>glazer</td>\n",
              "      <td>glaz·er</td>\n",
              "      <td>6</td>\n",
              "      <td>2</td>\n",
              "      <td>2</td>\n",
              "      <td>2</td>\n",
              "      <td>1</td>\n",
              "      <td>False</td>\n",
              "      <td>False</td>\n",
              "      <td>0</td>\n",
              "      <td>False</td>\n",
              "      <td>4</td>\n",
              "      <td>3</td>\n",
              "      <td>2</td>\n",
              "    </tr>\n",
              "    <tr>\n",
              "      <th>148614</th>\n",
              "      <td>Glazer</td>\n",
              "      <td>Gla·zer</td>\n",
              "      <td>6</td>\n",
              "      <td>2</td>\n",
              "      <td>2</td>\n",
              "      <td>2</td>\n",
              "      <td>1</td>\n",
              "      <td>False</td>\n",
              "      <td>False</td>\n",
              "      <td>0</td>\n",
              "      <td>False</td>\n",
              "      <td>4</td>\n",
              "      <td>3</td>\n",
              "      <td>2</td>\n",
              "    </tr>\n",
              "    <tr>\n",
              "      <th>148615</th>\n",
              "      <td>glazier</td>\n",
              "      <td>gla·zier</td>\n",
              "      <td>7</td>\n",
              "      <td>2</td>\n",
              "      <td>3</td>\n",
              "      <td>2</td>\n",
              "      <td>2</td>\n",
              "      <td>False</td>\n",
              "      <td>False</td>\n",
              "      <td>0</td>\n",
              "      <td>False</td>\n",
              "      <td>4</td>\n",
              "      <td>3</td>\n",
              "      <td>2</td>\n",
              "    </tr>\n",
              "    <tr>\n",
              "      <th>148617</th>\n",
              "      <td>glaziery</td>\n",
              "      <td>gla·zier·y</td>\n",
              "      <td>8</td>\n",
              "      <td>3</td>\n",
              "      <td>3</td>\n",
              "      <td>3</td>\n",
              "      <td>2</td>\n",
              "      <td>False</td>\n",
              "      <td>False</td>\n",
              "      <td>1</td>\n",
              "      <td>True</td>\n",
              "      <td>5</td>\n",
              "      <td>3</td>\n",
              "      <td>2</td>\n",
              "    </tr>\n",
              "    <tr>\n",
              "      <th>148618</th>\n",
              "      <td>glazing</td>\n",
              "      <td>glaz·ing</td>\n",
              "      <td>7</td>\n",
              "      <td>2</td>\n",
              "      <td>2</td>\n",
              "      <td>2</td>\n",
              "      <td>1</td>\n",
              "      <td>False</td>\n",
              "      <td>False</td>\n",
              "      <td>0</td>\n",
              "      <td>False</td>\n",
              "      <td>5</td>\n",
              "      <td>3</td>\n",
              "      <td>2</td>\n",
              "    </tr>\n",
              "  </tbody>\n",
              "</table>\n",
              "<p>92404 rows × 14 columns</p>\n",
              "</div>"
            ],
            "text/plain": [
              "           entry  entry_rich  ...  consonant_chunks  max_consonant_chunk_length\n",
              "42        Aachen     Aa·chen  ...                 3                           2\n",
              "49           aah         aah  ...                 1                           1\n",
              "50       Aalborg    Aal·borg  ...                 3                           2\n",
              "51      Aalesund  Aa·le·sund  ...                 4                           2\n",
              "52         aalii     aa·li·i  ...                 1                           1\n",
              "...          ...         ...  ...               ...                         ...\n",
              "148613    glazer     glaz·er  ...                 3                           2\n",
              "148614    Glazer     Gla·zer  ...                 3                           2\n",
              "148615   glazier    gla·zier  ...                 3                           2\n",
              "148617  glaziery  gla·zier·y  ...                 3                           2\n",
              "148618   glazing    glaz·ing  ...                 3                           2\n",
              "\n",
              "[92404 rows x 14 columns]"
            ]
          },
          "metadata": {
            "tags": []
          },
          "execution_count": 172
        }
      ]
    },
    {
      "cell_type": "markdown",
      "metadata": {
        "id": "fFIXyiiXlgGh",
        "colab_type": "text"
      },
      "source": [
        "# Assignment"
      ]
    },
    {
      "cell_type": "markdown",
      "metadata": {
        "id": "1-zAFih63nrI",
        "colab_type": "text"
      },
      "source": [
        "## Choose your target. \n",
        "\n",
        "Which column in your tabular dataset will you predict?"
      ]
    },
    {
      "cell_type": "code",
      "metadata": {
        "id": "yxxS4b2H4PUM",
        "colab_type": "code",
        "colab": {}
      },
      "source": [
        "target = 'syllables'"
      ],
      "execution_count": 0,
      "outputs": []
    },
    {
      "cell_type": "markdown",
      "metadata": {
        "id": "O127eM_K3nnO",
        "colab_type": "text"
      },
      "source": [
        "## Is your problem regression or classification?\n"
      ]
    },
    {
      "cell_type": "markdown",
      "metadata": {
        "id": "G9F3THEG4Tcf",
        "colab_type": "text"
      },
      "source": [
        "I am leaning towards classification right now. I do not think regression applies because there is not an infinite number of possibilities.\n",
        "\n",
        "Having chosen classification, it looks as though I will need to group them instead of prediting a discrete number."
      ]
    },
    {
      "cell_type": "markdown",
      "metadata": {
        "id": "6jExLJX43nc_",
        "colab_type": "text"
      },
      "source": [
        "## How is your target distributed?\n",
        "\n",
        "Classification: How many classes? Are the classes imbalanced?\n",
        "\n",
        "Regression: Is the target right-skewed? If so, you may want to log transform the target.\n"
      ]
    },
    {
      "cell_type": "code",
      "metadata": {
        "id": "R-Fh3KnB65Kx",
        "colab_type": "code",
        "colab": {
          "base_uri": "https://localhost:8080/",
          "height": 263
        },
        "outputId": "5b421842-8b39-4a36-e23e-6075ba7f9835"
      },
      "source": [
        "df_words[target].value_counts()"
      ],
      "execution_count": 136,
      "outputs": [
        {
          "output_type": "execute_result",
          "data": {
            "text/plain": [
              "2     24369\n",
              "3     20198\n",
              "4     12451\n",
              "1      7771\n",
              "5      5520\n",
              "6      1612\n",
              "7       439\n",
              "8       105\n",
              "9        22\n",
              "10       10\n",
              "12        2\n",
              "11        2\n",
              "19        1\n",
              "14        1\n",
              "Name: syllables, dtype: int64"
            ]
          },
          "metadata": {
            "tags": []
          },
          "execution_count": 136
        }
      ]
    },
    {
      "cell_type": "code",
      "metadata": {
        "id": "xIVWSDYKV0z7",
        "colab_type": "code",
        "colab": {
          "base_uri": "https://localhost:8080/",
          "height": 263
        },
        "outputId": "b948b1ca-9f22-45ec-8c07-f628fde3e3cc"
      },
      "source": [
        "df_words[target].value_counts()"
      ],
      "execution_count": 162,
      "outputs": [
        {
          "output_type": "execute_result",
          "data": {
            "text/plain": [
              "2     33078\n",
              "3     26552\n",
              "4     14936\n",
              "1      9547\n",
              "5      6031\n",
              "6      1673\n",
              "7       444\n",
              "8       105\n",
              "9        22\n",
              "10       10\n",
              "12        2\n",
              "11        2\n",
              "19        1\n",
              "14        1\n",
              "Name: syllables, dtype: int64"
            ]
          },
          "metadata": {
            "tags": []
          },
          "execution_count": 162
        }
      ]
    },
    {
      "cell_type": "code",
      "metadata": {
        "id": "mWWDTz7l4gG7",
        "colab_type": "code",
        "colab": {
          "base_uri": "https://localhost:8080/",
          "height": 263
        },
        "outputId": "5e08e627-1581-4c75-b235-02bba29074a8"
      },
      "source": [
        "df_words[target].value_counts(normalize=True)"
      ],
      "execution_count": 137,
      "outputs": [
        {
          "output_type": "execute_result",
          "data": {
            "text/plain": [
              "2     0.336110\n",
              "3     0.278582\n",
              "4     0.171731\n",
              "1     0.107182\n",
              "5     0.076135\n",
              "6     0.022234\n",
              "7     0.006055\n",
              "8     0.001448\n",
              "9     0.000303\n",
              "10    0.000138\n",
              "12    0.000028\n",
              "11    0.000028\n",
              "19    0.000014\n",
              "14    0.000014\n",
              "Name: syllables, dtype: float64"
            ]
          },
          "metadata": {
            "tags": []
          },
          "execution_count": 137
        }
      ]
    },
    {
      "cell_type": "code",
      "metadata": {
        "id": "bPQ5vnjO6B4w",
        "colab_type": "code",
        "colab": {
          "base_uri": "https://localhost:8080/",
          "height": 282
        },
        "outputId": "86c71832-a224-4de0-83c0-a2d4a658dc89"
      },
      "source": [
        "sns.distplot(df_words[target].value_counts());"
      ],
      "execution_count": 138,
      "outputs": [
        {
          "output_type": "display_data",
          "data": {
            "image/png": "[encoded data removed]",
            "text/plain": [
              "<Figure size 432x288 with 1 Axes>"
            ]
          },
          "metadata": {
            "tags": []
          }
        }
      ]
    },
    {
      "cell_type": "code",
      "metadata": {
        "id": "EyipeqdW5aLG",
        "colab_type": "code",
        "colab": {
          "base_uri": "https://localhost:8080/",
          "height": 282
        },
        "outputId": "e664afc5-e3c7-43bc-f5d1-fbf91a5b768c"
      },
      "source": [
        "sns.distplot(df_words[target]);"
      ],
      "execution_count": 139,
      "outputs": [
        {
          "output_type": "display_data",
          "data": {
            "image/png": "[encoded data removed]",
            "text/plain": [
              "<Figure size 432x288 with 1 Axes>"
            ]
          },
          "metadata": {
            "tags": []
          }
        }
      ]
    },
    {
      "cell_type": "code",
      "metadata": {
        "id": "mZgYXdzw8DJS",
        "colab_type": "code",
        "colab": {
          "base_uri": "https://localhost:8080/",
          "height": 131
        },
        "outputId": "a7f80832-e91b-49cf-9c14-c80d51fb96a0"
      },
      "source": [
        "t = df_words[target].copy()\n",
        "t[t>=6] = 6\n",
        "t.value_counts()"
      ],
      "execution_count": 140,
      "outputs": [
        {
          "output_type": "execute_result",
          "data": {
            "text/plain": [
              "2    24369\n",
              "3    20198\n",
              "4    12451\n",
              "1     7771\n",
              "5     5520\n",
              "6     2194\n",
              "Name: syllables, dtype: int64"
            ]
          },
          "metadata": {
            "tags": []
          },
          "execution_count": 140
        }
      ]
    },
    {
      "cell_type": "code",
      "metadata": {
        "id": "NRrcnkxE8cJb",
        "colab_type": "code",
        "colab": {
          "base_uri": "https://localhost:8080/",
          "height": 131
        },
        "outputId": "8208d9be-df6d-4ebc-e1f4-b4bb5dbe841a"
      },
      "source": [
        "t.value_counts(normalize=True).sort_index()"
      ],
      "execution_count": 141,
      "outputs": [
        {
          "output_type": "execute_result",
          "data": {
            "text/plain": [
              "1    0.107182\n",
              "2    0.336110\n",
              "3    0.278582\n",
              "4    0.171731\n",
              "5    0.076135\n",
              "6    0.030261\n",
              "Name: syllables, dtype: float64"
            ]
          },
          "metadata": {
            "tags": []
          },
          "execution_count": 141
        }
      ]
    },
    {
      "cell_type": "code",
      "metadata": {
        "id": "c6DCnbBt88QG",
        "colab_type": "code",
        "colab": {
          "base_uri": "https://localhost:8080/",
          "height": 131
        },
        "outputId": "6a24e197-0981-4631-9b17-3da11d51b1fb"
      },
      "source": [
        "t.astype(str).str.replace('6', '6+').value_counts()"
      ],
      "execution_count": 142,
      "outputs": [
        {
          "output_type": "execute_result",
          "data": {
            "text/plain": [
              "2     24369\n",
              "3     20198\n",
              "4     12451\n",
              "1      7771\n",
              "5      5520\n",
              "6+     2194\n",
              "Name: syllables, dtype: int64"
            ]
          },
          "metadata": {
            "tags": []
          },
          "execution_count": 142
        }
      ]
    },
    {
      "cell_type": "code",
      "metadata": {
        "id": "PL0REXl79OCT",
        "colab_type": "code",
        "colab": {
          "base_uri": "https://localhost:8080/",
          "height": 283
        },
        "outputId": "ce2bb366-38d8-49da-ff63-c1f68776dd90"
      },
      "source": [
        "sns.distplot(t);"
      ],
      "execution_count": 143,
      "outputs": [
        {
          "output_type": "display_data",
          "data": {
            "image/png": "[encoded data removed]",
            "text/plain": [
              "<Figure size 432x288 with 1 Axes>"
            ]
          },
          "metadata": {
            "tags": []
          }
        }
      ]
    },
    {
      "cell_type": "code",
      "metadata": {
        "id": "2Jf4H4W_9gxM",
        "colab_type": "code",
        "colab": {
          "base_uri": "https://localhost:8080/",
          "height": 82
        },
        "outputId": "1e03b3c8-ae22-4a1a-826b-a1fca6c035d9"
      },
      "source": [
        "tt = df_words[target].copy()\n",
        "tt[tt >= 6] = 6\n",
        "tt[tt <= 2] = 2\n",
        "tt[(tt > 2) & (tt < 6)] = 3\n",
        "ttt = tt.astype(str).str.replace('2', '1-2').str.replace('3', '3-5').str.replace('6', '6+')\n",
        "tt.value_counts()"
      ],
      "execution_count": 144,
      "outputs": [
        {
          "output_type": "execute_result",
          "data": {
            "text/plain": [
              "3    38169\n",
              "2    32140\n",
              "6     2194\n",
              "Name: syllables, dtype: int64"
            ]
          },
          "metadata": {
            "tags": []
          },
          "execution_count": 144
        }
      ]
    },
    {
      "cell_type": "code",
      "metadata": {
        "id": "Qk71hpuC-EvW",
        "colab_type": "code",
        "colab": {
          "base_uri": "https://localhost:8080/",
          "height": 82
        },
        "outputId": "79343405-fb2b-4f9e-a114-b3f5b5171561"
      },
      "source": [
        "tt.value_counts(normalize=True)"
      ],
      "execution_count": 145,
      "outputs": [
        {
          "output_type": "execute_result",
          "data": {
            "text/plain": [
              "3    0.526447\n",
              "2    0.443292\n",
              "6    0.030261\n",
              "Name: syllables, dtype: float64"
            ]
          },
          "metadata": {
            "tags": []
          },
          "execution_count": 145
        }
      ]
    },
    {
      "cell_type": "code",
      "metadata": {
        "id": "H9rgwt7G-Rft",
        "colab_type": "code",
        "colab": {
          "base_uri": "https://localhost:8080/",
          "height": 282
        },
        "outputId": "4fc54a1b-3649-49b1-faaf-c8d7da7b1d4b"
      },
      "source": [
        "sns.distplot(tt);"
      ],
      "execution_count": 146,
      "outputs": [
        {
          "output_type": "display_data",
          "data": {
            "image/png": "[encoded data removed]",
            "text/plain": [
              "<Figure size 432x288 with 1 Axes>"
            ]
          },
          "metadata": {
            "tags": []
          }
        }
      ]
    },
    {
      "cell_type": "code",
      "metadata": {
        "id": "Gn6-hVsc-2wW",
        "colab_type": "code",
        "colab": {
          "base_uri": "https://localhost:8080/",
          "height": 431
        },
        "outputId": "651ccee9-a8be-4a83-c2c0-814f6514253c"
      },
      "source": [
        "def group_syllables(syllables):\n",
        "  if syllables <= 2:\n",
        "    return '1-2'\n",
        "  elif syllables <= 5:\n",
        "    return '3-5'\n",
        "  else:\n",
        "    return '6+'\n",
        "\n",
        "df_words['syllables_group'] = df_words['syllables'].apply(group_syllables)\n",
        "df_words"
      ],
      "execution_count": 174,
      "outputs": [
        {
          "output_type": "execute_result",
          "data": {
            "text/html": [
              "<div>\n",
              "<style scoped>\n",
              "    .dataframe tbody tr th:only-of-type {\n",
              "        vertical-align: middle;\n",
              "    }\n",
              "\n",
              "    .dataframe tbody tr th {\n",
              "        vertical-align: top;\n",
              "    }\n",
              "\n",
              "    .dataframe thead th {\n",
              "        text-align: right;\n",
              "    }\n",
              "</style>\n",
              "<table border=\"1\" class=\"dataframe\">\n",
              "  <thead>\n",
              "    <tr style=\"text-align: right;\">\n",
              "      <th></th>\n",
              "      <th>entry</th>\n",
              "      <th>entry_rich</th>\n",
              "      <th>length</th>\n",
              "      <th>syllables</th>\n",
              "      <th>num_vowels</th>\n",
              "      <th>vowel_chunks</th>\n",
              "      <th>max_vowel_chunk_length</th>\n",
              "      <th>starts_with_vowel</th>\n",
              "      <th>ends_with_vowel</th>\n",
              "      <th>num_ys</th>\n",
              "      <th>ends_in_y</th>\n",
              "      <th>num_consonants</th>\n",
              "      <th>consonant_chunks</th>\n",
              "      <th>max_consonant_chunk_length</th>\n",
              "      <th>syllables_group</th>\n",
              "    </tr>\n",
              "  </thead>\n",
              "  <tbody>\n",
              "    <tr>\n",
              "      <th>42</th>\n",
              "      <td>Aachen</td>\n",
              "      <td>Aa·chen</td>\n",
              "      <td>6</td>\n",
              "      <td>2</td>\n",
              "      <td>2</td>\n",
              "      <td>2</td>\n",
              "      <td>1</td>\n",
              "      <td>False</td>\n",
              "      <td>False</td>\n",
              "      <td>0</td>\n",
              "      <td>False</td>\n",
              "      <td>4</td>\n",
              "      <td>3</td>\n",
              "      <td>2</td>\n",
              "      <td>1-2</td>\n",
              "    </tr>\n",
              "    <tr>\n",
              "      <th>49</th>\n",
              "      <td>aah</td>\n",
              "      <td>aah</td>\n",
              "      <td>3</td>\n",
              "      <td>1</td>\n",
              "      <td>2</td>\n",
              "      <td>1</td>\n",
              "      <td>2</td>\n",
              "      <td>False</td>\n",
              "      <td>False</td>\n",
              "      <td>0</td>\n",
              "      <td>False</td>\n",
              "      <td>1</td>\n",
              "      <td>1</td>\n",
              "      <td>1</td>\n",
              "      <td>1-2</td>\n",
              "    </tr>\n",
              "    <tr>\n",
              "      <th>50</th>\n",
              "      <td>Aalborg</td>\n",
              "      <td>Aal·borg</td>\n",
              "      <td>7</td>\n",
              "      <td>2</td>\n",
              "      <td>2</td>\n",
              "      <td>2</td>\n",
              "      <td>1</td>\n",
              "      <td>False</td>\n",
              "      <td>False</td>\n",
              "      <td>0</td>\n",
              "      <td>False</td>\n",
              "      <td>5</td>\n",
              "      <td>3</td>\n",
              "      <td>2</td>\n",
              "      <td>1-2</td>\n",
              "    </tr>\n",
              "    <tr>\n",
              "      <th>51</th>\n",
              "      <td>Aalesund</td>\n",
              "      <td>Aa·le·sund</td>\n",
              "      <td>8</td>\n",
              "      <td>3</td>\n",
              "      <td>3</td>\n",
              "      <td>3</td>\n",
              "      <td>1</td>\n",
              "      <td>False</td>\n",
              "      <td>False</td>\n",
              "      <td>0</td>\n",
              "      <td>False</td>\n",
              "      <td>5</td>\n",
              "      <td>4</td>\n",
              "      <td>2</td>\n",
              "      <td>3-5</td>\n",
              "    </tr>\n",
              "    <tr>\n",
              "      <th>52</th>\n",
              "      <td>aalii</td>\n",
              "      <td>aa·li·i</td>\n",
              "      <td>5</td>\n",
              "      <td>3</td>\n",
              "      <td>4</td>\n",
              "      <td>2</td>\n",
              "      <td>2</td>\n",
              "      <td>False</td>\n",
              "      <td>False</td>\n",
              "      <td>0</td>\n",
              "      <td>False</td>\n",
              "      <td>1</td>\n",
              "      <td>1</td>\n",
              "      <td>1</td>\n",
              "      <td>3-5</td>\n",
              "    </tr>\n",
              "    <tr>\n",
              "      <th>...</th>\n",
              "      <td>...</td>\n",
              "      <td>...</td>\n",
              "      <td>...</td>\n",
              "      <td>...</td>\n",
              "      <td>...</td>\n",
              "      <td>...</td>\n",
              "      <td>...</td>\n",
              "      <td>...</td>\n",
              "      <td>...</td>\n",
              "      <td>...</td>\n",
              "      <td>...</td>\n",
              "      <td>...</td>\n",
              "      <td>...</td>\n",
              "      <td>...</td>\n",
              "      <td>...</td>\n",
              "    </tr>\n",
              "    <tr>\n",
              "      <th>148613</th>\n",
              "      <td>glazer</td>\n",
              "      <td>glaz·er</td>\n",
              "      <td>6</td>\n",
              "      <td>2</td>\n",
              "      <td>2</td>\n",
              "      <td>2</td>\n",
              "      <td>1</td>\n",
              "      <td>False</td>\n",
              "      <td>False</td>\n",
              "      <td>0</td>\n",
              "      <td>False</td>\n",
              "      <td>4</td>\n",
              "      <td>3</td>\n",
              "      <td>2</td>\n",
              "      <td>1-2</td>\n",
              "    </tr>\n",
              "    <tr>\n",
              "      <th>148614</th>\n",
              "      <td>Glazer</td>\n",
              "      <td>Gla·zer</td>\n",
              "      <td>6</td>\n",
              "      <td>2</td>\n",
              "      <td>2</td>\n",
              "      <td>2</td>\n",
              "      <td>1</td>\n",
              "      <td>False</td>\n",
              "      <td>False</td>\n",
              "      <td>0</td>\n",
              "      <td>False</td>\n",
              "      <td>4</td>\n",
              "      <td>3</td>\n",
              "      <td>2</td>\n",
              "      <td>1-2</td>\n",
              "    </tr>\n",
              "    <tr>\n",
              "      <th>148615</th>\n",
              "      <td>glazier</td>\n",
              "      <td>gla·zier</td>\n",
              "      <td>7</td>\n",
              "      <td>2</td>\n",
              "      <td>3</td>\n",
              "      <td>2</td>\n",
              "      <td>2</td>\n",
              "      <td>False</td>\n",
              "      <td>False</td>\n",
              "      <td>0</td>\n",
              "      <td>False</td>\n",
              "      <td>4</td>\n",
              "      <td>3</td>\n",
              "      <td>2</td>\n",
              "      <td>1-2</td>\n",
              "    </tr>\n",
              "    <tr>\n",
              "      <th>148617</th>\n",
              "      <td>glaziery</td>\n",
              "      <td>gla·zier·y</td>\n",
              "      <td>8</td>\n",
              "      <td>3</td>\n",
              "      <td>3</td>\n",
              "      <td>3</td>\n",
              "      <td>2</td>\n",
              "      <td>False</td>\n",
              "      <td>False</td>\n",
              "      <td>1</td>\n",
              "      <td>True</td>\n",
              "      <td>5</td>\n",
              "      <td>3</td>\n",
              "      <td>2</td>\n",
              "      <td>3-5</td>\n",
              "    </tr>\n",
              "    <tr>\n",
              "      <th>148618</th>\n",
              "      <td>glazing</td>\n",
              "      <td>glaz·ing</td>\n",
              "      <td>7</td>\n",
              "      <td>2</td>\n",
              "      <td>2</td>\n",
              "      <td>2</td>\n",
              "      <td>1</td>\n",
              "      <td>False</td>\n",
              "      <td>False</td>\n",
              "      <td>0</td>\n",
              "      <td>False</td>\n",
              "      <td>5</td>\n",
              "      <td>3</td>\n",
              "      <td>2</td>\n",
              "      <td>1-2</td>\n",
              "    </tr>\n",
              "  </tbody>\n",
              "</table>\n",
              "<p>92404 rows × 15 columns</p>\n",
              "</div>"
            ],
            "text/plain": [
              "           entry  entry_rich  ...  max_consonant_chunk_length  syllables_group\n",
              "42        Aachen     Aa·chen  ...                           2              1-2\n",
              "49           aah         aah  ...                           1              1-2\n",
              "50       Aalborg    Aal·borg  ...                           2              1-2\n",
              "51      Aalesund  Aa·le·sund  ...                           2              3-5\n",
              "52         aalii     aa·li·i  ...                           1              3-5\n",
              "...          ...         ...  ...                         ...              ...\n",
              "148613    glazer     glaz·er  ...                           2              1-2\n",
              "148614    Glazer     Gla·zer  ...                           2              1-2\n",
              "148615   glazier    gla·zier  ...                           2              1-2\n",
              "148617  glaziery  gla·zier·y  ...                           2              3-5\n",
              "148618   glazing    glaz·ing  ...                           2              1-2\n",
              "\n",
              "[92404 rows x 15 columns]"
            ]
          },
          "metadata": {
            "tags": []
          },
          "execution_count": 174
        }
      ]
    },
    {
      "cell_type": "code",
      "metadata": {
        "id": "XzfMvUuw_lBs",
        "colab_type": "code",
        "colab": {
          "base_uri": "https://localhost:8080/",
          "height": 82
        },
        "outputId": "87635c61-c63d-48a7-fe7f-64b49d6629da"
      },
      "source": [
        "target = 'syllables_group'\n",
        "df_words[target].value_counts(normalize=True)"
      ],
      "execution_count": 175,
      "outputs": [
        {
          "output_type": "execute_result",
          "data": {
            "text/plain": [
              "3-5    0.514253\n",
              "1-2    0.461290\n",
              "6+     0.024458\n",
              "Name: syllables_group, dtype: float64"
            ]
          },
          "metadata": {
            "tags": []
          },
          "execution_count": 175
        }
      ]
    },
    {
      "cell_type": "markdown",
      "metadata": {
        "id": "9OOr8h9l3nZG",
        "colab_type": "text"
      },
      "source": [
        "## Choose your evaluation metric(s).\n",
        "\n",
        "Classification: Is your majority class frequency >= 50% and < 70% ? If so, you can just use accuracy if you want. Outside that range, accuracy could be misleading. What evaluation metric will you choose, in addition to or instead of accuracy?\n",
        "\n",
        "Regression: Will you use mean absolute error, root mean squared error, R^2, or other regression metrics?\n"
      ]
    },
    {
      "cell_type": "code",
      "metadata": {
        "id": "-JDtSas66NUX",
        "colab_type": "code",
        "colab": {}
      },
      "source": [
        "from sklearn.metrics import accuracy_score"
      ],
      "execution_count": 0,
      "outputs": []
    },
    {
      "cell_type": "markdown",
      "metadata": {
        "id": "_gLrLx183nVD",
        "colab_type": "text"
      },
      "source": [
        "## Choose which observations you will use to train, validate, and test your model.\n",
        "\n",
        "Are some observations outliers? Will you exclude them?\n",
        "\n",
        "Will you do a random split or a time-based split?\n"
      ]
    },
    {
      "cell_type": "code",
      "metadata": {
        "id": "c5mKdRrY6TLh",
        "colab_type": "code",
        "colab": {
          "base_uri": "https://localhost:8080/",
          "height": 32
        },
        "outputId": "5111f69b-0846-4f94-80c4-84b2fe05c190"
      },
      "source": [
        "from sklearn.model_selection import train_test_split\n",
        "\n",
        "df_train_not_split, df_test = train_test_split(df_words, random_state=random_state)#, stratify=df_words[target])\n",
        "df_train, df_val = train_test_split(df_train_not_split, random_state=random_state)#, stratify=df_train_not_split[target])\n",
        "\n",
        "df_train.shape, df_val.shape, df_test.shape"
      ],
      "execution_count": 189,
      "outputs": [
        {
          "output_type": "execute_result",
          "data": {
            "text/plain": [
              "((51977, 15), (17326, 15), (23101, 15))"
            ]
          },
          "metadata": {
            "tags": []
          },
          "execution_count": 189
        }
      ]
    },
    {
      "cell_type": "markdown",
      "metadata": {
        "id": "V3zImGb04IIE",
        "colab_type": "text"
      },
      "source": [
        "## Begin to clean and explore your data.\n"
      ]
    },
    {
      "cell_type": "markdown",
      "metadata": {
        "id": "A4qNogNN4IEI",
        "colab_type": "text"
      },
      "source": [
        "## Begin to choose which features, if any, to exclude. \n",
        "\n",
        "Would some features \"leak\" future information?"
      ]
    },
    {
      "cell_type": "code",
      "metadata": {
        "id": "alhDT9ioAYCK",
        "colab_type": "code",
        "colab": {
          "base_uri": "https://localhost:8080/",
          "height": 98
        },
        "outputId": "7b308e30-72b9-4244-a4d1-521a200a2e58"
      },
      "source": [
        "df_train.columns"
      ],
      "execution_count": 190,
      "outputs": [
        {
          "output_type": "execute_result",
          "data": {
            "text/plain": [
              "Index(['entry', 'entry_rich', 'length', 'syllables', 'num_vowels',\n",
              "       'vowel_chunks', 'max_vowel_chunk_length', 'starts_with_vowel',\n",
              "       'ends_with_vowel', 'num_ys', 'ends_in_y', 'num_consonants',\n",
              "       'consonant_chunks', 'max_consonant_chunk_length', 'syllables_group'],\n",
              "      dtype='object')"
            ]
          },
          "metadata": {
            "tags": []
          },
          "execution_count": 190
        }
      ]
    },
    {
      "cell_type": "code",
      "metadata": {
        "id": "XEueBNLNATij",
        "colab_type": "code",
        "colab": {
          "base_uri": "https://localhost:8080/",
          "height": 98
        },
        "outputId": "22cbdcad-0985-4c29-d2ec-610f55f10750"
      },
      "source": [
        "# features = ['length', 'num_vowels', 'vowel_chunks', 'num_ys', 'ends_in_y', 'num_consonants', 'consonant_chunks']\n",
        "\n",
        "features = df_train.columns.drop(['entry', 'entry_rich', 'syllables', 'syllables_group'])\n",
        "print('features:', features)\n",
        "\n",
        "X_train = df_train[features]\n",
        "X_val = df_val[features]\n",
        "X_test = df_test[features]\n",
        "\n",
        "y_train = df_train[target]\n",
        "y_val = df_val[target]\n",
        "y_test = df_test[target]\n",
        "\n",
        "X_train.shape, X_val.shape, X_test.shape, y_train.shape, y_val.shape, y_test.shape"
      ],
      "execution_count": 191,
      "outputs": [
        {
          "output_type": "stream",
          "text": [
            "features: Index(['length', 'num_vowels', 'vowel_chunks', 'max_vowel_chunk_length',\n",
            "       'starts_with_vowel', 'ends_with_vowel', 'num_ys', 'ends_in_y',\n",
            "       'num_consonants', 'consonant_chunks', 'max_consonant_chunk_length'],\n",
            "      dtype='object')\n"
          ],
          "name": "stdout"
        },
        {
          "output_type": "execute_result",
          "data": {
            "text/plain": [
              "((51977, 11), (17326, 11), (23101, 11), (51977,), (17326,), (23101,))"
            ]
          },
          "metadata": {
            "tags": []
          },
          "execution_count": 191
        }
      ]
    },
    {
      "cell_type": "code",
      "metadata": {
        "id": "49hPSuvFAxLs",
        "colab_type": "code",
        "colab": {
          "base_uri": "https://localhost:8080/",
          "height": 32
        },
        "outputId": "1e900402-97d1-416f-9ed6-2e2574193288"
      },
      "source": [
        "from sklearn.pipeline import make_pipeline\n",
        "from sklearn.ensemble import RandomForestClassifier\n",
        "from sklearn.preprocessing import StandardScaler\n",
        "\n",
        "pipeline = make_pipeline(\n",
        "    RandomForestClassifier(random_state=random_state, n_jobs=-1)\n",
        ")\n",
        "\n",
        "pipeline.fit(X_train, y_train)\n",
        "score = pipeline.score(X_val, y_val)\n",
        "\n",
        "print(f'Validation score: {score*100:.2f}%')"
      ],
      "execution_count": 192,
      "outputs": [
        {
          "output_type": "stream",
          "text": [
            "Validation score: 75.09%\n"
          ],
          "name": "stdout"
        }
      ]
    },
    {
      "cell_type": "code",
      "metadata": {
        "id": "UdNIj9QlBLoh",
        "colab_type": "code",
        "colab": {
          "base_uri": "https://localhost:8080/",
          "height": 268
        },
        "outputId": "b57d4870-a337-4bcf-a15d-e42567ebbcc1"
      },
      "source": [
        "model = pipeline.named_steps['randomforestclassifier']\n",
        "\n",
        "feature_names = X_train.columns\n",
        "importances = pd.Series(model.feature_importances_, feature_names)\n",
        "\n",
        "importances.sort_values().plot.barh();"
      ],
      "execution_count": 193,
      "outputs": [
        {
          "output_type": "display_data",
          "data": {
            "image/png": "[encoded data removed]",
            "text/plain": [
              "<Figure size 432x288 with 1 Axes>"
            ]
          },
          "metadata": {
            "tags": []
          }
        }
      ]
    },
    {
      "cell_type": "code",
      "metadata": {
        "id": "N9-858WYbWzX",
        "colab_type": "code",
        "colab": {
          "base_uri": "https://localhost:8080/",
          "height": 78
        },
        "outputId": "2dac66c0-c05d-48c3-d98b-504e37b935ac"
      },
      "source": [
        "test_sample = df_test.sample(1)[['entry', 'syllables']]\n",
        "test_sample['predicted'] = pipeline.predict(predict_word(test_sample['entry']))\n",
        "test_sample"
      ],
      "execution_count": 201,
      "outputs": [
        {
          "output_type": "execute_result",
          "data": {
            "text/html": [
              "<div>\n",
              "<style scoped>\n",
              "    .dataframe tbody tr th:only-of-type {\n",
              "        vertical-align: middle;\n",
              "    }\n",
              "\n",
              "    .dataframe tbody tr th {\n",
              "        vertical-align: top;\n",
              "    }\n",
              "\n",
              "    .dataframe thead th {\n",
              "        text-align: right;\n",
              "    }\n",
              "</style>\n",
              "<table border=\"1\" class=\"dataframe\">\n",
              "  <thead>\n",
              "    <tr style=\"text-align: right;\">\n",
              "      <th></th>\n",
              "      <th>entry</th>\n",
              "      <th>syllables</th>\n",
              "      <th>predicted</th>\n",
              "    </tr>\n",
              "  </thead>\n",
              "  <tbody>\n",
              "    <tr>\n",
              "      <th>116979</th>\n",
              "      <td>chalcophile</td>\n",
              "      <td>3</td>\n",
              "      <td>4</td>\n",
              "    </tr>\n",
              "  </tbody>\n",
              "</table>\n",
              "</div>"
            ],
            "text/plain": [
              "              entry  syllables  predicted\n",
              "116979  chalcophile          3          4"
            ]
          },
          "metadata": {
            "tags": []
          },
          "execution_count": 201
        }
      ]
    },
    {
      "cell_type": "code",
      "metadata": {
        "id": "3787X5wiE_bg",
        "colab_type": "code",
        "colab": {
          "base_uri": "https://localhost:8080/",
          "height": 32
        },
        "outputId": "00f5850d-86de-4737-f996-a6931adb95de"
      },
      "source": [
        "from sklearn.linear_model import LogisticRegression\n",
        "\n",
        "pipeline = make_pipeline(\n",
        "    LogisticRegression(random_state=random_state, n_jobs=-1)\n",
        ")\n",
        "\n",
        "pipeline.fit(X_train, y_train)\n",
        "score = pipeline.score(X_val, y_val)\n",
        "\n",
        "print(f'Logistic Regression validation accuracy: {score*100:.2f}%')"
      ],
      "execution_count": 155,
      "outputs": [
        {
          "output_type": "stream",
          "text": [
            "Logistic Regression validation accuracy: 90.51%\n"
          ],
          "name": "stdout"
        }
      ]
    },
    {
      "cell_type": "code",
      "metadata": {
        "id": "HcqJ3IdRFk7F",
        "colab_type": "code",
        "colab": {
          "base_uri": "https://localhost:8080/",
          "height": 432
        },
        "outputId": "fea9c83f-2828-4e51-c997-30605662802c"
      },
      "source": [
        "model = pipeline.named_steps['logisticregression']\n",
        "\n",
        "coefficients = pd.Series(model.coef_[0], feature_names)\n",
        "coefficients.sort_values().plot.barh();\n",
        "coefficients"
      ],
      "execution_count": 156,
      "outputs": [
        {
          "output_type": "execute_result",
          "data": {
            "text/plain": [
              "length                       -0.696826\n",
              "num_vowels                   -0.961458\n",
              "vowel_chunks                 -1.456445\n",
              "max_vowel_chunk_length        0.190066\n",
              "num_ys                       -2.030538\n",
              "ends_in_y                    -0.803682\n",
              "num_consonants                0.264631\n",
              "consonant_chunks             -0.416026\n",
              "max_consonant_chunk_length    0.463077\n",
              "dtype: float64"
            ]
          },
          "metadata": {
            "tags": []
          },
          "execution_count": 156
        },
        {
          "output_type": "display_data",
          "data": {
            "image/png": "[encoded data removed]",
            "text/plain": [
              "<Figure size 432x288 with 1 Axes>"
            ]
          },
          "metadata": {
            "tags": []
          }
        }
      ]
    },
    {
      "cell_type": "code",
      "metadata": {
        "id": "4BYxdidzFrZK",
        "colab_type": "code",
        "colab": {
          "base_uri": "https://localhost:8080/",
          "height": 82
        },
        "outputId": "ff7dd764-f1a1-4c76-8dc0-8c7355cda931"
      },
      "source": [
        "y_train = df_train['syllables']\n",
        "y_val = df_val['syllables']\n",
        "\n",
        "from sklearn.linear_model import LinearRegression\n",
        "\n",
        "pipeline = make_pipeline(\n",
        "    LinearRegression(n_jobs=-1)\n",
        ")\n",
        "\n",
        "pipeline.fit(X_train, y_train)\n",
        "score = pipeline.score(X_val, y_val)\n",
        "\n",
        "print(f'Linear Regression validation score: {score*100:.2f}%')\n",
        "\n",
        "y_pred = pipeline.predict(X_val).round().astype(int)\n",
        "\n",
        "print(f'Linear Regression rounded accuracy: {accuracy_score(y_val, y_pred)}')\n",
        "\n",
        "from sklearn.metrics import mean_absolute_error, mean_squared_error\n",
        "\n",
        "print(f'Linear Regression mea: {mean_absolute_error(y_val, y_pred)}')\n",
        "print(f'Linear Regression rmse: {np.sqrt(mean_squared_error(y_val, y_pred))}')\n"
      ],
      "execution_count": 157,
      "outputs": [
        {
          "output_type": "stream",
          "text": [
            "Linear Regression validation score: 86.59%\n",
            "Linear Regression rounded accuracy: 0.7352703199705775\n",
            "Linear Regression mea: 0.2701728576682604\n",
            "Linear Regression rmse: 0.5302889079125583\n"
          ],
          "name": "stdout"
        }
      ]
    },
    {
      "cell_type": "code",
      "metadata": {
        "id": "FqZXqDE2IXvW",
        "colab_type": "code",
        "colab": {
          "base_uri": "https://localhost:8080/",
          "height": 432
        },
        "outputId": "582e5b0b-586b-4bb4-8b42-c6f52ab84d15"
      },
      "source": [
        "model = pipeline.named_steps['linearregression']\n",
        "\n",
        "coefficients = pd.Series(model.coef_[0], feature_names)\n",
        "coefficients.sort_values().plot.barh();\n",
        "coefficients"
      ],
      "execution_count": 158,
      "outputs": [
        {
          "output_type": "execute_result",
          "data": {
            "text/plain": [
              "length                        0.127301\n",
              "num_vowels                    0.127301\n",
              "vowel_chunks                  0.127301\n",
              "max_vowel_chunk_length        0.127301\n",
              "num_ys                        0.127301\n",
              "ends_in_y                     0.127301\n",
              "num_consonants                0.127301\n",
              "consonant_chunks              0.127301\n",
              "max_consonant_chunk_length    0.127301\n",
              "dtype: float64"
            ]
          },
          "metadata": {
            "tags": []
          },
          "execution_count": 158
        },
        {
          "output_type": "display_data",
          "data": {
            "image/png": "[encoded data removed]",
            "text/plain": [
              "<Figure size 432x288 with 1 Axes>"
            ]
          },
          "metadata": {
            "tags": []
          }
        }
      ]
    },
    {
      "cell_type": "code",
      "metadata": {
        "id": "BN4UKqeVHzf3",
        "colab_type": "code",
        "colab": {
          "base_uri": "https://localhost:8080/",
          "height": 49
        },
        "outputId": "bdfd7fc6-332f-4d7f-d4f6-b3d6848a7cf0"
      },
      "source": [
        "y_pred"
      ],
      "execution_count": 80,
      "outputs": [
        {
          "output_type": "execute_result",
          "data": {
            "text/plain": [
              "array([2.58135454, 1.8870186 , 1.72490923, ..., 2.68633501, 2.20879594,\n",
              "       2.04766313])"
            ]
          },
          "metadata": {
            "tags": []
          },
          "execution_count": 80
        }
      ]
    },
    {
      "cell_type": "code",
      "metadata": {
        "id": "8zhETZ2zH9TU",
        "colab_type": "code",
        "colab": {
          "base_uri": "https://localhost:8080/",
          "height": 32
        },
        "outputId": "4603dfa5-2488-4c45-a450-6bcf03ee796a"
      },
      "source": [
        "y_pred.round().astype(int)"
      ],
      "execution_count": 86,
      "outputs": [
        {
          "output_type": "execute_result",
          "data": {
            "text/plain": [
              "array([3, 2, 2, ..., 3, 2, 2])"
            ]
          },
          "metadata": {
            "tags": []
          },
          "execution_count": 86
        }
      ]
    },
    {
      "cell_type": "code",
      "metadata": {
        "id": "H4J8CiIgG9km",
        "colab_type": "code",
        "colab": {
          "base_uri": "https://localhost:8080/",
          "height": 65
        },
        "outputId": "2bba1f36-cd5a-4751-f6e8-09d5db727bab"
      },
      "source": [
        "y_pred = [df_words['syllables'].mode()[0]] * len(df_words)\n",
        "\n",
        "print(f\"baseline mea: {mean_absolute_error(df_words['syllables'], y_pred)}\")\n",
        "print(f\"baseline rmse: {np.sqrt(mean_squared_error(df_words['syllables'], y_pred))}\")\n",
        "print(f\"baseline accuracy: {accuracy_score(df_words['syllables'], y_pred)}\")\n"
      ],
      "execution_count": 125,
      "outputs": [
        {
          "output_type": "stream",
          "text": [
            "baseline mea: 1.0896790477635407\n",
            "baseline rmse: 1.533559953885093\n",
            "baseline accuracy: 0.3361102299215205\n"
          ],
          "name": "stdout"
        }
      ]
    }
  ]
}