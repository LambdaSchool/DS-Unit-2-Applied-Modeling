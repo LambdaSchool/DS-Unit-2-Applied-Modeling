{
  "nbformat": 4,
  "nbformat_minor": 0,
  "metadata": {
    "kernelspec": {
      "display_name": "Python 3",
      "language": "python",
      "name": "python3"
    },
    "language_info": {
      "codemirror_mode": {
        "name": "ipython",
        "version": 3
      },
      "file_extension": ".py",
      "mimetype": "text/x-python",
      "name": "python",
      "nbconvert_exporter": "python",
      "pygments_lexer": "ipython3",
      "version": "3.7.6"
    },
    "colab": {
      "name": "Monday_assignment.ipynb",
      "provenance": [],
      "collapsed_sections": [],
      "include_colab_link": true
    }
  },
  "cells": [
    {
      "cell_type": "markdown",
      "metadata": {
        "id": "view-in-github",
        "colab_type": "text"
      },
      "source": [
        "<a href=\"https://colab.research.google.com/github/repoocsov/DS-Unit-2-Applied-Modeling/blob/master/module1-define-ml-problems/LS_DS_231_assignment.ipynb\" target=\"_parent\"><img src=\"https://colab.research.google.com/assets/colab-badge.svg\" alt=\"Open In Colab\"/></a>"
      ]
    },
    {
      "cell_type": "markdown",
      "metadata": {
        "colab_type": "text",
        "id": "nCc3XZEyG3XV"
      },
      "source": [
        "Lambda School Data Science\n",
        "\n",
        "*Unit 2, Sprint 3, Module 1*\n",
        "\n",
        "---\n",
        "\n",
        "\n",
        "# Define ML problems\n",
        "\n",
        "You will use your portfolio project dataset for all assignments this sprint.\n",
        "\n",
        "## assignment\n",
        "\n",
        "Complete these tasks for your project, and document your decisions.\n",
        "\n",
        "- [x] Choose your target. Which column in your tabular dataset will you predict?\n",
        "- [x] Is your problem regression or classification?\n",
        "- [x] How is your target distributed?\n",
        "    - Classification: How many classes? Are the classes imbalanced?\n",
        "    - Regression: Is the target right-skewed? If so, you may want to log transform the target.\n",
        "- [x] Choose your evaluation metric(s).\n",
        "    - Classification: Is your majority class frequency >= 50% and < 70% ? If so, you can just use accuracy if you want. Outside that range, accuracy could be misleading. What evaluation metric will you choose, in addition to or instead of accuracy?\n",
        "    - Regression: Will you use mean absolute error, root mean squared error, R^2, or other regression metrics?\n",
        "- [x] Choose which observations you will use to train, validate, and test your model.\n",
        "    - Are some observations outliers? Will you exclude them?\n",
        "    - Will you do a random split or a time-based split?\n",
        "- [x] Begin to clean and explore your data.\n",
        "- [x] Begin to choose which features, if any, to exclude. Would some features \"leak\" future information?\n",
        "\n",
        "If you haven't found a dataset yet, do that today. [Review requirements for your portfolio project](https://lambdaschool.github.io/ds/unit2) and choose your dataset.\n",
        "\n",
        "Some students worry, ***what if my model isn't “good”?*** Then, [produce a detailed tribute to your wrongness. That is science!](https://twitter.com/nathanwpyle/status/1176860147223867393)"
      ]
    },
    {
      "cell_type": "code",
      "metadata": {
        "id": "0ysbdSJI-AQ_",
        "colab_type": "code",
        "colab": {}
      },
      "source": [
        "import pandas as pd\n",
        "df = pd.read_csv('https://raw.githubusercontent.com/dlau/sr-data/master/dump-09-27-2014.csv')"
      ],
      "execution_count": 0,
      "outputs": []
    },
    {
      "cell_type": "code",
      "metadata": {
        "id": "09BnJSR1-EIe",
        "colab_type": "code",
        "colab": {
          "base_uri": "https://localhost:8080/",
          "height": 34
        },
        "outputId": "e3b05dd6-c73e-47e5-f384-1b8fa2e9c249"
      },
      "source": [
        "# NUMERIC\n",
        "df.describe().columns"
      ],
      "execution_count": 8,
      "outputs": [
        {
          "output_type": "execute_result",
          "data": {
            "text/plain": [
              "Index(['timestamp', 'price_usd', 'vendor_id', 'product_rating'], dtype='object')"
            ]
          },
          "metadata": {
            "tags": []
          },
          "execution_count": 8
        }
      ]
    },
    {
      "cell_type": "code",
      "metadata": {
        "id": "9gr3akIl-aqt",
        "colab_type": "code",
        "colab": {
          "base_uri": "https://localhost:8080/",
          "height": 34
        },
        "outputId": "6841e5b5-0c43-49dc-c9d1-a2ba2f9c9c0e"
      },
      "source": [
        "# NON-NUMERIC\n",
        "df.describe(exclude=\"number\").columns"
      ],
      "execution_count": 9,
      "outputs": [
        {
          "output_type": "execute_result",
          "data": {
            "text/plain": [
              "Index(['drug_name', 'ships_from', 'ships_to', 'vendor_rating'], dtype='object')"
            ]
          },
          "metadata": {
            "tags": []
          },
          "execution_count": 9
        }
      ]
    },
    {
      "cell_type": "code",
      "metadata": {
        "id": "Zfs3YLjh-hhN",
        "colab_type": "code",
        "colab": {
          "base_uri": "https://localhost:8080/",
          "height": 194
        },
        "outputId": "08593463-c848-4847-c125-3e960fd8def9"
      },
      "source": [
        "# TARGET\n",
        "df['drug_name'].value_counts(normalize=True)"
      ],
      "execution_count": 11,
      "outputs": [
        {
          "output_type": "execute_result",
          "data": {
            "text/plain": [
              "mdma           0.368259\n",
              "weed           0.212070\n",
              "lsd            0.145851\n",
              "cocaine        0.132719\n",
              "amphetamine    0.060073\n",
              "heroin         0.041911\n",
              "ketamine       0.018720\n",
              "opium          0.014809\n",
              "mescaline      0.005588\n",
              "Name: drug_name, dtype: float64"
            ]
          },
          "metadata": {
            "tags": []
          },
          "execution_count": 11
        }
      ]
    },
    {
      "cell_type": "code",
      "metadata": {
        "id": "X8WzuhHB-zp1",
        "colab_type": "code",
        "colab": {
          "base_uri": "https://localhost:8080/",
          "height": 34
        },
        "outputId": "89a56d24-8aba-4006-d107-8fa84885767e"
      },
      "source": [
        "print(1/9)\n",
        "\n",
        "# Classes are pretty imbalanced"
      ],
      "execution_count": 12,
      "outputs": [
        {
          "output_type": "stream",
          "text": [
            "0.1111111111111111\n"
          ],
          "name": "stdout"
        }
      ]
    },
    {
      "cell_type": "code",
      "metadata": {
        "id": "OV67gsY6BqQp",
        "colab_type": "code",
        "colab": {}
      },
      "source": [
        "# Majority class is 37%\n",
        "# Accuracy score could be misleading on it's own as it's it's not 50-70%\n",
        "\"\"\"\n",
        "‘accuracy’\n",
        "metrics.accuracy_score\n",
        "\n",
        "‘balanced_accuracy’\n",
        "metrics.balanced_accuracy_score\n",
        "\"\"\""
      ],
      "execution_count": 0,
      "outputs": []
    },
    {
      "cell_type": "code",
      "metadata": {
        "id": "lan_sGBTLFHg",
        "colab_type": "code",
        "colab": {
          "base_uri": "https://localhost:8080/",
          "height": 287
        },
        "outputId": "6839825f-7e05-47db-d037-d77584f641c7"
      },
      "source": [
        "# Splitting.\n",
        "# Split based on the target (stratify)\n",
        "# product_rating is highly skewed. Maybe encode them using bins\n",
        "df.describe()"
      ],
      "execution_count": 13,
      "outputs": [
        {
          "output_type": "execute_result",
          "data": {
            "text/html": [
              "<div>\n",
              "<style scoped>\n",
              "    .dataframe tbody tr th:only-of-type {\n",
              "        vertical-align: middle;\n",
              "    }\n",
              "\n",
              "    .dataframe tbody tr th {\n",
              "        vertical-align: top;\n",
              "    }\n",
              "\n",
              "    .dataframe thead th {\n",
              "        text-align: right;\n",
              "    }\n",
              "</style>\n",
              "<table border=\"1\" class=\"dataframe\">\n",
              "  <thead>\n",
              "    <tr style=\"text-align: right;\">\n",
              "      <th></th>\n",
              "      <th>timestamp</th>\n",
              "      <th>price_usd</th>\n",
              "      <th>vendor_id</th>\n",
              "      <th>product_rating</th>\n",
              "    </tr>\n",
              "  </thead>\n",
              "  <tbody>\n",
              "    <tr>\n",
              "      <th>count</th>\n",
              "      <td>3.579000e+03</td>\n",
              "      <td>3.579000e+03</td>\n",
              "      <td>3579.000000</td>\n",
              "      <td>3579.000000</td>\n",
              "    </tr>\n",
              "    <tr>\n",
              "      <th>mean</th>\n",
              "      <td>1.411854e+12</td>\n",
              "      <td>3.146025e+03</td>\n",
              "      <td>152.122381</td>\n",
              "      <td>28.751886</td>\n",
              "    </tr>\n",
              "    <tr>\n",
              "      <th>std</th>\n",
              "      <td>1.142783e+06</td>\n",
              "      <td>7.045842e+04</td>\n",
              "      <td>98.879783</td>\n",
              "      <td>109.254532</td>\n",
              "    </tr>\n",
              "    <tr>\n",
              "      <th>min</th>\n",
              "      <td>1.411853e+12</td>\n",
              "      <td>0.000000e+00</td>\n",
              "      <td>0.000000</td>\n",
              "      <td>0.000000</td>\n",
              "    </tr>\n",
              "    <tr>\n",
              "      <th>25%</th>\n",
              "      <td>1.411853e+12</td>\n",
              "      <td>8.718774e+01</td>\n",
              "      <td>67.000000</td>\n",
              "      <td>0.000000</td>\n",
              "    </tr>\n",
              "    <tr>\n",
              "      <th>50%</th>\n",
              "      <td>1.411854e+12</td>\n",
              "      <td>2.547720e+02</td>\n",
              "      <td>143.000000</td>\n",
              "      <td>1.000000</td>\n",
              "    </tr>\n",
              "    <tr>\n",
              "      <th>75%</th>\n",
              "      <td>1.411856e+12</td>\n",
              "      <td>9.418553e+02</td>\n",
              "      <td>229.000000</td>\n",
              "      <td>11.000000</td>\n",
              "    </tr>\n",
              "    <tr>\n",
              "      <th>max</th>\n",
              "      <td>1.411856e+12</td>\n",
              "      <td>4.132407e+06</td>\n",
              "      <td>366.000000</td>\n",
              "      <td>2199.000000</td>\n",
              "    </tr>\n",
              "  </tbody>\n",
              "</table>\n",
              "</div>"
            ],
            "text/plain": [
              "          timestamp     price_usd    vendor_id  product_rating\n",
              "count  3.579000e+03  3.579000e+03  3579.000000     3579.000000\n",
              "mean   1.411854e+12  3.146025e+03   152.122381       28.751886\n",
              "std    1.142783e+06  7.045842e+04    98.879783      109.254532\n",
              "min    1.411853e+12  0.000000e+00     0.000000        0.000000\n",
              "25%    1.411853e+12  8.718774e+01    67.000000        0.000000\n",
              "50%    1.411854e+12  2.547720e+02   143.000000        1.000000\n",
              "75%    1.411856e+12  9.418553e+02   229.000000       11.000000\n",
              "max    1.411856e+12  4.132407e+06   366.000000     2199.000000"
            ]
          },
          "metadata": {
            "tags": []
          },
          "execution_count": 13
        }
      ]
    },
    {
      "cell_type": "code",
      "metadata": {
        "id": "93uBHqg_LWuY",
        "colab_type": "code",
        "colab": {}
      },
      "source": [
        "\"\"\"\n",
        "  I think I'm going to use a different dataset\n",
        "\"\"\""
      ],
      "execution_count": 0,
      "outputs": []
    }
  ]
}