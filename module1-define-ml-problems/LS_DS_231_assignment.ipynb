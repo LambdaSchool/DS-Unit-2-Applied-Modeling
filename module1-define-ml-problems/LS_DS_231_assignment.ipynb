{
  "nbformat": 4,
  "nbformat_minor": 0,
  "metadata": {
    "kernelspec": {
      "display_name": "Python 3",
      "language": "python",
      "name": "python3"
    },
    "language_info": {
      "codemirror_mode": {
        "name": "ipython",
        "version": 3
      },
      "file_extension": ".py",
      "mimetype": "text/x-python",
      "name": "python",
      "nbconvert_exporter": "python",
      "pygments_lexer": "ipython3",
      "version": "3.7.6"
    },
    "colab": {
      "name": "LS_DS_231_assignment.ipynb",
      "provenance": []
    }
  },
  "cells": [
    {
      "cell_type": "markdown",
      "metadata": {
        "colab_type": "text",
        "id": "nCc3XZEyG3XV"
      },
      "source": [
        "Lambda School Data Science\n",
        "\n",
        "*Unit 2, Sprint 3, Module 1*\n",
        "\n",
        "---\n",
        "\n",
        "\n",
        "# Define ML problems\n",
        "\n",
        "You will use your portfolio project dataset for all assignments this sprint.\n",
        "\n",
        "## Assignment\n",
        "\n",
        "Complete these tasks for your project, and document your decisions.\n",
        "\n",
        "- [ ] Choose your target. Which column in your tabular dataset will you predict?\n",
        "- [ ] Is your problem regression or classification?\n",
        "- [ ] How is your target distributed?\n",
        "    - Classification: How many classes? Are the classes imbalanced?\n",
        "    - Regression: Is the target right-skewed? If so, you may want to log transform the target.\n",
        "- [ ] Choose your evaluation metric(s).\n",
        "    - Classification: Is your majority class frequency >= 50% and < 70% ? If so, you can just use accuracy if you want. Outside that range, accuracy could be misleading. What evaluation metric will you choose, in addition to or instead of accuracy?\n",
        "    - Regression: Will you use mean absolute error, root mean squared error, R^2, or other regression metrics?\n",
        "- [ ] Choose which observations you will use to train, validate, and test your model.\n",
        "    - Are some observations outliers? Will you exclude them?\n",
        "    - Will you do a random split or a time-based split?\n",
        "- [ ] Begin to clean and explore your data.\n",
        "- [ ] Begin to choose which features, if any, to exclude. Would some features \"leak\" future information?\n",
        "\n",
        "If you haven't found a dataset yet, do that today. [Review requirements for your portfolio project](https://lambdaschool.github.io/ds/unit2) and choose your dataset.\n",
        "\n",
        "Some students worry, ***what if my model isn't “good”?*** Then, [produce a detailed tribute to your wrongness. That is science!](https://twitter.com/nathanwpyle/status/1176860147223867393)"
      ]
    },
    {
      "cell_type": "markdown",
      "metadata": {
        "id": "CBHIksJfZepg",
        "colab_type": "text"
      },
      "source": [
        "#Reading in the data "
      ]
    },
    {
      "cell_type": "code",
      "metadata": {
        "id": "REPc_VtHZdaP",
        "colab_type": "code",
        "colab": {}
      },
      "source": [
        "import pandas as pd\n",
        "#Reading in the data I split in a seperate notebook so I could read into Github\n",
        "url1 = 'https://raw.githubusercontent.com/zacksnyder-lsds/Unit_1_build_week/master/kiva1%20(1).csv'\n",
        "url2 = 'https://raw.githubusercontent.com/zacksnyder-lsds/Unit_1_build_week/master/kiva2.csv'\n",
        "url3 = 'https://raw.githubusercontent.com/zacksnyder-lsds/Unit_1_build_week/master/kiva3.csv'\n",
        "url4 = 'https://raw.githubusercontent.com/zacksnyder-lsds/Unit_1_build_week/master/kiva4.csv'\n",
        "url5 = 'https://raw.githubusercontent.com/zacksnyder-lsds/Unit_1_build_week/master/kiva5.csv'\n",
        "url6 = 'https://raw.githubusercontent.com/zacksnyder-lsds/Unit_1_build_week/master/kiva6.csv'\n",
        "url7 = 'https://raw.githubusercontent.com/zacksnyder-lsds/Unit_1_build_week/master/kiva7.csv'\n",
        "url8 = 'https://raw.githubusercontent.com/zacksnyder-lsds/Unit_1_build_week/master/kiva8.csv'\n",
        "url9 = 'https://raw.githubusercontent.com/zacksnyder-lsds/Unit_1_build_week/master/kiva9.csv'\n",
        "url10 = 'https://raw.githubusercontent.com/zacksnyder-lsds/Unit_1_build_week/master/kiva10.csv'"
      ],
      "execution_count": 1,
      "outputs": []
    },
    {
      "cell_type": "code",
      "metadata": {
        "id": "jAM9bpdVaLsW",
        "colab_type": "code",
        "colab": {}
      },
      "source": [
        "#converting the csv files back to dataframes for use \n",
        "kiva1 = pd.read_csv(url1)\n",
        "kiva2 = pd.read_csv(url2)\n",
        "kiva3 = pd.read_csv(url3)\n",
        "kiva4 = pd.read_csv(url4)\n",
        "kiva5 = pd.read_csv(url5)\n",
        "kiva6 = pd.read_csv(url6)\n",
        "kiva7 = pd.read_csv(url7)\n",
        "kiva8 = pd.read_csv(url8)\n",
        "kiva9 = pd.read_csv(url9)\n",
        "kiva10 = pd.read_csv(url10)"
      ],
      "execution_count": 2,
      "outputs": []
    },
    {
      "cell_type": "code",
      "metadata": {
        "id": "ZD5fWvmhaRlx",
        "colab_type": "code",
        "colab": {
          "base_uri": "https://localhost:8080/",
          "height": 753
        },
        "outputId": "e338c653-a42e-4c86-abd1-3f32504117db"
      },
      "source": [
        "#checking to make sure all the data read in smoothly \n",
        "[print(name.shape) for name in [kiva1,kiva2,kiva3,kiva4,kiva5,kiva6,kiva7,kiva8,kiva9,kiva10]]\n",
        "kiva2.head()"
      ],
      "execution_count": 3,
      "outputs": [
        {
          "output_type": "stream",
          "text": [
            "(67120, 21)\n",
            "(67120, 21)\n",
            "(67120, 21)\n",
            "(67120, 21)\n",
            "(67120, 21)\n",
            "(67120, 21)\n",
            "(67120, 21)\n",
            "(67120, 21)\n",
            "(67120, 21)\n",
            "(67125, 21)\n"
          ],
          "name": "stdout"
        },
        {
          "output_type": "execute_result",
          "data": {
            "text/html": [
              "<div>\n",
              "<style scoped>\n",
              "    .dataframe tbody tr th:only-of-type {\n",
              "        vertical-align: middle;\n",
              "    }\n",
              "\n",
              "    .dataframe tbody tr th {\n",
              "        vertical-align: top;\n",
              "    }\n",
              "\n",
              "    .dataframe thead th {\n",
              "        text-align: right;\n",
              "    }\n",
              "</style>\n",
              "<table border=\"1\" class=\"dataframe\">\n",
              "  <thead>\n",
              "    <tr style=\"text-align: right;\">\n",
              "      <th></th>\n",
              "      <th>Unnamed: 0</th>\n",
              "      <th>id</th>\n",
              "      <th>funded_amount</th>\n",
              "      <th>loan_amount</th>\n",
              "      <th>activity</th>\n",
              "      <th>sector</th>\n",
              "      <th>use</th>\n",
              "      <th>country_code</th>\n",
              "      <th>country</th>\n",
              "      <th>region</th>\n",
              "      <th>currency</th>\n",
              "      <th>partner_id</th>\n",
              "      <th>posted_time</th>\n",
              "      <th>disbursed_time</th>\n",
              "      <th>funded_time</th>\n",
              "      <th>term_in_months</th>\n",
              "      <th>lender_count</th>\n",
              "      <th>tags</th>\n",
              "      <th>borrower_genders</th>\n",
              "      <th>repayment_interval</th>\n",
              "      <th>date</th>\n",
              "    </tr>\n",
              "  </thead>\n",
              "  <tbody>\n",
              "    <tr>\n",
              "      <th>0</th>\n",
              "      <td>67120</td>\n",
              "      <td>1081611</td>\n",
              "      <td>125.0</td>\n",
              "      <td>125.0</td>\n",
              "      <td>Clothing</td>\n",
              "      <td>Clothing</td>\n",
              "      <td>buy new clothes using ksh 5500 and second hand...</td>\n",
              "      <td>KE</td>\n",
              "      <td>Kenya</td>\n",
              "      <td>NaN</td>\n",
              "      <td>KES</td>\n",
              "      <td>NaN</td>\n",
              "      <td>2014-06-03 13:45:20+00:00</td>\n",
              "      <td>2014-06-19 05:35:49+00:00</td>\n",
              "      <td>2014-06-18 12:18:49+00:00</td>\n",
              "      <td>3.0</td>\n",
              "      <td>5</td>\n",
              "      <td>NaN</td>\n",
              "      <td>female</td>\n",
              "      <td>irregular</td>\n",
              "      <td>2014-06-03</td>\n",
              "    </tr>\n",
              "    <tr>\n",
              "      <th>1</th>\n",
              "      <td>67121</td>\n",
              "      <td>719419</td>\n",
              "      <td>425.0</td>\n",
              "      <td>425.0</td>\n",
              "      <td>Weaving</td>\n",
              "      <td>Arts</td>\n",
              "      <td>to purchase additional stock of bamboo to sell</td>\n",
              "      <td>PH</td>\n",
              "      <td>Philippines</td>\n",
              "      <td>Brookes Point, Palawan</td>\n",
              "      <td>PHP</td>\n",
              "      <td>145.0</td>\n",
              "      <td>2014-06-03 06:28:43+00:00</td>\n",
              "      <td>2014-05-28 07:00:00+00:00</td>\n",
              "      <td>2014-06-09 00:31:06+00:00</td>\n",
              "      <td>8.0</td>\n",
              "      <td>17</td>\n",
              "      <td>NaN</td>\n",
              "      <td>female</td>\n",
              "      <td>irregular</td>\n",
              "      <td>2014-06-03</td>\n",
              "    </tr>\n",
              "    <tr>\n",
              "      <th>2</th>\n",
              "      <td>67122</td>\n",
              "      <td>719437</td>\n",
              "      <td>275.0</td>\n",
              "      <td>275.0</td>\n",
              "      <td>Fishing</td>\n",
              "      <td>Food</td>\n",
              "      <td>to buy an additional bundle of fishing nets</td>\n",
              "      <td>PH</td>\n",
              "      <td>Philippines</td>\n",
              "      <td>Brookes Point, Palawan</td>\n",
              "      <td>PHP</td>\n",
              "      <td>145.0</td>\n",
              "      <td>2014-06-03 07:00:11+00:00</td>\n",
              "      <td>2014-05-28 07:00:00+00:00</td>\n",
              "      <td>2014-06-18 12:05:58+00:00</td>\n",
              "      <td>8.0</td>\n",
              "      <td>10</td>\n",
              "      <td>NaN</td>\n",
              "      <td>female</td>\n",
              "      <td>irregular</td>\n",
              "      <td>2014-06-03</td>\n",
              "    </tr>\n",
              "    <tr>\n",
              "      <th>3</th>\n",
              "      <td>67123</td>\n",
              "      <td>719717</td>\n",
              "      <td>450.0</td>\n",
              "      <td>450.0</td>\n",
              "      <td>Food Production/Sales</td>\n",
              "      <td>Food</td>\n",
              "      <td>to buy corn wholesale and lime.</td>\n",
              "      <td>SV</td>\n",
              "      <td>El Salvador</td>\n",
              "      <td>NaN</td>\n",
              "      <td>USD</td>\n",
              "      <td>81.0</td>\n",
              "      <td>2014-06-03 23:02:46+00:00</td>\n",
              "      <td>2014-05-28 07:00:00+00:00</td>\n",
              "      <td>2014-06-17 00:25:04+00:00</td>\n",
              "      <td>14.0</td>\n",
              "      <td>17</td>\n",
              "      <td>volunteer_pick, volunteer_like</td>\n",
              "      <td>female</td>\n",
              "      <td>monthly</td>\n",
              "      <td>2014-06-03</td>\n",
              "    </tr>\n",
              "    <tr>\n",
              "      <th>4</th>\n",
              "      <td>67124</td>\n",
              "      <td>719548</td>\n",
              "      <td>475.0</td>\n",
              "      <td>475.0</td>\n",
              "      <td>Retail</td>\n",
              "      <td>Retail</td>\n",
              "      <td>To buy clothes and blankets to resell</td>\n",
              "      <td>JO</td>\n",
              "      <td>Jordan</td>\n",
              "      <td>Zarqa</td>\n",
              "      <td>JOD</td>\n",
              "      <td>185.0</td>\n",
              "      <td>2014-06-03 12:21:09+00:00</td>\n",
              "      <td>2014-05-27 07:00:00+00:00</td>\n",
              "      <td>2014-06-30 11:35:35+00:00</td>\n",
              "      <td>15.0</td>\n",
              "      <td>17</td>\n",
              "      <td>#Single, #Woman Owned Biz</td>\n",
              "      <td>female</td>\n",
              "      <td>monthly</td>\n",
              "      <td>2014-06-03</td>\n",
              "    </tr>\n",
              "  </tbody>\n",
              "</table>\n",
              "</div>"
            ],
            "text/plain": [
              "   Unnamed: 0       id  ...  repayment_interval        date\n",
              "0       67120  1081611  ...           irregular  2014-06-03\n",
              "1       67121   719419  ...           irregular  2014-06-03\n",
              "2       67122   719437  ...           irregular  2014-06-03\n",
              "3       67123   719717  ...             monthly  2014-06-03\n",
              "4       67124   719548  ...             monthly  2014-06-03\n",
              "\n",
              "[5 rows x 21 columns]"
            ]
          },
          "metadata": {
            "tags": []
          },
          "execution_count": 3
        }
      ]
    },
    {
      "cell_type": "code",
      "metadata": {
        "id": "GzBUwxd9a9mB",
        "colab_type": "code",
        "colab": {
          "base_uri": "https://localhost:8080/",
          "height": 652
        },
        "outputId": "7d57ff98-3298-49e2-9cf9-48a57f17b096"
      },
      "source": [
        "#concatinating the dataframes back together to the original from Kaggle \n",
        "kiva = pd.concat([kiva1,kiva2,kiva3,kiva4,kiva5,kiva6,kiva7,kiva8,kiva9,kiva10])\n",
        "kiva.reset_index()\n",
        "print(kiva.shape)\n",
        "kiva.sample(5)"
      ],
      "execution_count": 4,
      "outputs": [
        {
          "output_type": "stream",
          "text": [
            "(671205, 21)\n"
          ],
          "name": "stdout"
        },
        {
          "output_type": "execute_result",
          "data": {
            "text/html": [
              "<div>\n",
              "<style scoped>\n",
              "    .dataframe tbody tr th:only-of-type {\n",
              "        vertical-align: middle;\n",
              "    }\n",
              "\n",
              "    .dataframe tbody tr th {\n",
              "        vertical-align: top;\n",
              "    }\n",
              "\n",
              "    .dataframe thead th {\n",
              "        text-align: right;\n",
              "    }\n",
              "</style>\n",
              "<table border=\"1\" class=\"dataframe\">\n",
              "  <thead>\n",
              "    <tr style=\"text-align: right;\">\n",
              "      <th></th>\n",
              "      <th>Unnamed: 0</th>\n",
              "      <th>id</th>\n",
              "      <th>funded_amount</th>\n",
              "      <th>loan_amount</th>\n",
              "      <th>activity</th>\n",
              "      <th>sector</th>\n",
              "      <th>use</th>\n",
              "      <th>country_code</th>\n",
              "      <th>country</th>\n",
              "      <th>region</th>\n",
              "      <th>currency</th>\n",
              "      <th>partner_id</th>\n",
              "      <th>posted_time</th>\n",
              "      <th>disbursed_time</th>\n",
              "      <th>funded_time</th>\n",
              "      <th>term_in_months</th>\n",
              "      <th>lender_count</th>\n",
              "      <th>tags</th>\n",
              "      <th>borrower_genders</th>\n",
              "      <th>repayment_interval</th>\n",
              "      <th>date</th>\n",
              "    </tr>\n",
              "  </thead>\n",
              "  <tbody>\n",
              "    <tr>\n",
              "      <th>12049</th>\n",
              "      <td>616129</td>\n",
              "      <td>1277964</td>\n",
              "      <td>2000.0</td>\n",
              "      <td>2000.0</td>\n",
              "      <td>Cosmetics Sales</td>\n",
              "      <td>Retail</td>\n",
              "      <td>helps an immigrant from Mexico expand her busi...</td>\n",
              "      <td>US</td>\n",
              "      <td>United States</td>\n",
              "      <td>NaN</td>\n",
              "      <td>USD</td>\n",
              "      <td>NaN</td>\n",
              "      <td>2017-04-11 00:00:00+00:00</td>\n",
              "      <td>2017-05-31 22:47:33+00:00</td>\n",
              "      <td>2017-05-26 16:37:26+00:00</td>\n",
              "      <td>18.0</td>\n",
              "      <td>30</td>\n",
              "      <td>#Woman Owned Biz, user_favorite, user_favorite</td>\n",
              "      <td>female</td>\n",
              "      <td>monthly</td>\n",
              "      <td>2017-04-11</td>\n",
              "    </tr>\n",
              "    <tr>\n",
              "      <th>57661</th>\n",
              "      <td>191901</td>\n",
              "      <td>840024</td>\n",
              "      <td>725.0</td>\n",
              "      <td>725.0</td>\n",
              "      <td>Personal Housing Expenses</td>\n",
              "      <td>Housing</td>\n",
              "      <td>to purchase sand, cement, brick and equipment ...</td>\n",
              "      <td>VN</td>\n",
              "      <td>Vietnam</td>\n",
              "      <td>Thanh Hoá</td>\n",
              "      <td>VND</td>\n",
              "      <td>121.0</td>\n",
              "      <td>2015-02-12 15:45:49+00:00</td>\n",
              "      <td>2015-02-09 08:00:00+00:00</td>\n",
              "      <td>2015-02-18 18:29:33+00:00</td>\n",
              "      <td>20.0</td>\n",
              "      <td>25</td>\n",
              "      <td>NaN</td>\n",
              "      <td>female</td>\n",
              "      <td>monthly</td>\n",
              "      <td>2015-02-12</td>\n",
              "    </tr>\n",
              "    <tr>\n",
              "      <th>20881</th>\n",
              "      <td>490721</td>\n",
              "      <td>1151224</td>\n",
              "      <td>1475.0</td>\n",
              "      <td>1475.0</td>\n",
              "      <td>Services</td>\n",
              "      <td>Services</td>\n",
              "      <td>to buy a laptop for her work.</td>\n",
              "      <td>PE</td>\n",
              "      <td>Peru</td>\n",
              "      <td>CUSCO</td>\n",
              "      <td>PEN</td>\n",
              "      <td>119.0</td>\n",
              "      <td>2016-09-15 16:17:59+00:00</td>\n",
              "      <td>2016-08-19 07:00:00+00:00</td>\n",
              "      <td>2016-09-21 21:20:41+00:00</td>\n",
              "      <td>6.0</td>\n",
              "      <td>42</td>\n",
              "      <td>#Technology, user_favorite, user_favorite</td>\n",
              "      <td>female</td>\n",
              "      <td>irregular</td>\n",
              "      <td>2016-09-15</td>\n",
              "    </tr>\n",
              "    <tr>\n",
              "      <th>38463</th>\n",
              "      <td>441183</td>\n",
              "      <td>1101044</td>\n",
              "      <td>300.0</td>\n",
              "      <td>300.0</td>\n",
              "      <td>Fruits &amp; Vegetables</td>\n",
              "      <td>Food</td>\n",
              "      <td>to purchase more fruit for her husband's fruit...</td>\n",
              "      <td>PK</td>\n",
              "      <td>Pakistan</td>\n",
              "      <td>Rawalpindi</td>\n",
              "      <td>PKR</td>\n",
              "      <td>247.0</td>\n",
              "      <td>2016-06-17 05:57:44+00:00</td>\n",
              "      <td>2016-06-08 07:00:00+00:00</td>\n",
              "      <td>2016-07-22 13:37:46+00:00</td>\n",
              "      <td>14.0</td>\n",
              "      <td>10</td>\n",
              "      <td>#Parent, #Vegan</td>\n",
              "      <td>female</td>\n",
              "      <td>monthly</td>\n",
              "      <td>2016-06-17</td>\n",
              "    </tr>\n",
              "    <tr>\n",
              "      <th>28363</th>\n",
              "      <td>229723</td>\n",
              "      <td>877179</td>\n",
              "      <td>125.0</td>\n",
              "      <td>125.0</td>\n",
              "      <td>Fishing</td>\n",
              "      <td>Food</td>\n",
              "      <td>to buy fishing net, gasoline for her boat and ...</td>\n",
              "      <td>PH</td>\n",
              "      <td>Philippines</td>\n",
              "      <td>Roxas City, Capiz</td>\n",
              "      <td>PHP</td>\n",
              "      <td>145.0</td>\n",
              "      <td>2015-04-28 06:52:31+00:00</td>\n",
              "      <td>2015-04-08 07:00:00+00:00</td>\n",
              "      <td>2015-05-04 15:34:01+00:00</td>\n",
              "      <td>8.0</td>\n",
              "      <td>5</td>\n",
              "      <td>user_favorite</td>\n",
              "      <td>female</td>\n",
              "      <td>irregular</td>\n",
              "      <td>2015-04-28</td>\n",
              "    </tr>\n",
              "  </tbody>\n",
              "</table>\n",
              "</div>"
            ],
            "text/plain": [
              "       Unnamed: 0       id  ...  repayment_interval        date\n",
              "12049      616129  1277964  ...             monthly  2017-04-11\n",
              "57661      191901   840024  ...             monthly  2015-02-12\n",
              "20881      490721  1151224  ...           irregular  2016-09-15\n",
              "38463      441183  1101044  ...             monthly  2016-06-17\n",
              "28363      229723   877179  ...           irregular  2015-04-28\n",
              "\n",
              "[5 rows x 21 columns]"
            ]
          },
          "metadata": {
            "tags": []
          },
          "execution_count": 4
        }
      ]
    },
    {
      "cell_type": "code",
      "metadata": {
        "id": "IRJ5jquMbL1y",
        "colab_type": "code",
        "colab": {
          "base_uri": "https://localhost:8080/",
          "height": 518
        },
        "outputId": "4bf3ea56-0a0d-4a3a-e080-073a5b6aa037"
      },
      "source": [
        "#getting rid of the previous index column renamed unanamed 0 \n",
        "kiva.drop('Unnamed: 0', axis=1, inplace=True)\n",
        "kiva.sample(5)"
      ],
      "execution_count": 5,
      "outputs": [
        {
          "output_type": "execute_result",
          "data": {
            "text/html": [
              "<div>\n",
              "<style scoped>\n",
              "    .dataframe tbody tr th:only-of-type {\n",
              "        vertical-align: middle;\n",
              "    }\n",
              "\n",
              "    .dataframe tbody tr th {\n",
              "        vertical-align: top;\n",
              "    }\n",
              "\n",
              "    .dataframe thead th {\n",
              "        text-align: right;\n",
              "    }\n",
              "</style>\n",
              "<table border=\"1\" class=\"dataframe\">\n",
              "  <thead>\n",
              "    <tr style=\"text-align: right;\">\n",
              "      <th></th>\n",
              "      <th>id</th>\n",
              "      <th>funded_amount</th>\n",
              "      <th>loan_amount</th>\n",
              "      <th>activity</th>\n",
              "      <th>sector</th>\n",
              "      <th>use</th>\n",
              "      <th>country_code</th>\n",
              "      <th>country</th>\n",
              "      <th>region</th>\n",
              "      <th>currency</th>\n",
              "      <th>partner_id</th>\n",
              "      <th>posted_time</th>\n",
              "      <th>disbursed_time</th>\n",
              "      <th>funded_time</th>\n",
              "      <th>term_in_months</th>\n",
              "      <th>lender_count</th>\n",
              "      <th>tags</th>\n",
              "      <th>borrower_genders</th>\n",
              "      <th>repayment_interval</th>\n",
              "      <th>date</th>\n",
              "    </tr>\n",
              "  </thead>\n",
              "  <tbody>\n",
              "    <tr>\n",
              "      <th>10852</th>\n",
              "      <td>1140211</td>\n",
              "      <td>3800.0</td>\n",
              "      <td>3800.0</td>\n",
              "      <td>Primary/secondary school costs</td>\n",
              "      <td>Education</td>\n",
              "      <td>to pay her children's school tuition fees</td>\n",
              "      <td>LB</td>\n",
              "      <td>Lebanon</td>\n",
              "      <td>Beirut</td>\n",
              "      <td>USD</td>\n",
              "      <td>77.0</td>\n",
              "      <td>2016-08-26 06:49:43+00:00</td>\n",
              "      <td>2016-08-08 07:00:00+00:00</td>\n",
              "      <td>2016-09-08 08:01:58+00:00</td>\n",
              "      <td>8.0</td>\n",
              "      <td>127</td>\n",
              "      <td>#Schooling, #Repeat Borrower, #Parent, user_fa...</td>\n",
              "      <td>female, female, female, female, female</td>\n",
              "      <td>monthly</td>\n",
              "      <td>2016-08-26</td>\n",
              "    </tr>\n",
              "    <tr>\n",
              "      <th>483</th>\n",
              "      <td>653566</td>\n",
              "      <td>200.0</td>\n",
              "      <td>200.0</td>\n",
              "      <td>Home Appliances</td>\n",
              "      <td>Personal Use</td>\n",
              "      <td>To pay for appliances for the house.</td>\n",
              "      <td>PK</td>\n",
              "      <td>Pakistan</td>\n",
              "      <td>Rawalpindi</td>\n",
              "      <td>PKR</td>\n",
              "      <td>247.0</td>\n",
              "      <td>2014-01-03 07:53:25+00:00</td>\n",
              "      <td>2013-12-23 08:00:00+00:00</td>\n",
              "      <td>2014-01-04 04:27:19+00:00</td>\n",
              "      <td>12.0</td>\n",
              "      <td>5</td>\n",
              "      <td>NaN</td>\n",
              "      <td>female</td>\n",
              "      <td>irregular</td>\n",
              "      <td>2014-01-03</td>\n",
              "    </tr>\n",
              "    <tr>\n",
              "      <th>36813</th>\n",
              "      <td>819786</td>\n",
              "      <td>350.0</td>\n",
              "      <td>350.0</td>\n",
              "      <td>Services</td>\n",
              "      <td>Services</td>\n",
              "      <td>to add more business float</td>\n",
              "      <td>KE</td>\n",
              "      <td>Kenya</td>\n",
              "      <td>Eldoret</td>\n",
              "      <td>KES</td>\n",
              "      <td>133.0</td>\n",
              "      <td>2014-12-23 12:55:17+00:00</td>\n",
              "      <td>2014-12-09 08:00:00+00:00</td>\n",
              "      <td>2015-01-08 04:01:09+00:00</td>\n",
              "      <td>8.0</td>\n",
              "      <td>11</td>\n",
              "      <td>#First Loan, #Technology</td>\n",
              "      <td>male</td>\n",
              "      <td>monthly</td>\n",
              "      <td>2014-12-23</td>\n",
              "    </tr>\n",
              "    <tr>\n",
              "      <th>66504</th>\n",
              "      <td>915089</td>\n",
              "      <td>525.0</td>\n",
              "      <td>525.0</td>\n",
              "      <td>Personal Housing Expenses</td>\n",
              "      <td>Housing</td>\n",
              "      <td>to buy construction materials such as sand, ce...</td>\n",
              "      <td>MZ</td>\n",
              "      <td>Mozambique</td>\n",
              "      <td>Boane, Maputo</td>\n",
              "      <td>MZN</td>\n",
              "      <td>23.0</td>\n",
              "      <td>2015-07-09 07:14:26+00:00</td>\n",
              "      <td>2015-06-30 07:00:00+00:00</td>\n",
              "      <td>2015-08-16 12:12:25+00:00</td>\n",
              "      <td>18.0</td>\n",
              "      <td>20</td>\n",
              "      <td>#Single Parent, #Repeat Borrower, user_favorit...</td>\n",
              "      <td>female</td>\n",
              "      <td>monthly</td>\n",
              "      <td>2015-07-09</td>\n",
              "    </tr>\n",
              "    <tr>\n",
              "      <th>59469</th>\n",
              "      <td>711802</td>\n",
              "      <td>450.0</td>\n",
              "      <td>450.0</td>\n",
              "      <td>Food Production/Sales</td>\n",
              "      <td>Food</td>\n",
              "      <td>to buy chicken, garlic, onion, soy sauce, cont...</td>\n",
              "      <td>WS</td>\n",
              "      <td>Samoa</td>\n",
              "      <td>Fasitoo Uta</td>\n",
              "      <td>WST</td>\n",
              "      <td>15.0</td>\n",
              "      <td>2014-05-19 07:22:00+00:00</td>\n",
              "      <td>2014-04-24 07:00:00+00:00</td>\n",
              "      <td>2014-05-21 13:47:34+00:00</td>\n",
              "      <td>14.0</td>\n",
              "      <td>14</td>\n",
              "      <td>NaN</td>\n",
              "      <td>female</td>\n",
              "      <td>irregular</td>\n",
              "      <td>2014-05-19</td>\n",
              "    </tr>\n",
              "  </tbody>\n",
              "</table>\n",
              "</div>"
            ],
            "text/plain": [
              "            id  funded_amount  ...  repayment_interval        date\n",
              "10852  1140211         3800.0  ...             monthly  2016-08-26\n",
              "483     653566          200.0  ...           irregular  2014-01-03\n",
              "36813   819786          350.0  ...             monthly  2014-12-23\n",
              "66504   915089          525.0  ...             monthly  2015-07-09\n",
              "59469   711802          450.0  ...           irregular  2014-05-19\n",
              "\n",
              "[5 rows x 20 columns]"
            ]
          },
          "metadata": {
            "tags": []
          },
          "execution_count": 5
        }
      ]
    },
    {
      "cell_type": "markdown",
      "metadata": {
        "id": "flHmD-Igbri6",
        "colab_type": "text"
      },
      "source": [
        "#Choosing My Target"
      ]
    },
    {
      "cell_type": "code",
      "metadata": {
        "id": "HSNJsvBmbTC0",
        "colab_type": "code",
        "colab": {
          "base_uri": "https://localhost:8080/",
          "height": 353
        },
        "outputId": "073d7da4-e407-40e1-fb3c-43ae09907b24"
      },
      "source": [
        "list(kiva.columns)"
      ],
      "execution_count": 6,
      "outputs": [
        {
          "output_type": "execute_result",
          "data": {
            "text/plain": [
              "['id',\n",
              " 'funded_amount',\n",
              " 'loan_amount',\n",
              " 'activity',\n",
              " 'sector',\n",
              " 'use',\n",
              " 'country_code',\n",
              " 'country',\n",
              " 'region',\n",
              " 'currency',\n",
              " 'partner_id',\n",
              " 'posted_time',\n",
              " 'disbursed_time',\n",
              " 'funded_time',\n",
              " 'term_in_months',\n",
              " 'lender_count',\n",
              " 'tags',\n",
              " 'borrower_genders',\n",
              " 'repayment_interval',\n",
              " 'date']"
            ]
          },
          "metadata": {
            "tags": []
          },
          "execution_count": 6
        }
      ]
    },
    {
      "cell_type": "markdown",
      "metadata": {
        "id": "8ArJq0yeb-bi",
        "colab_type": "text"
      },
      "source": [
        "The business problem I want to solve is given a varity of factors, what is the loan amount you should request on Kiva. Since the borrower decides how much money they need, and lenders determine if they'll accept the proposal, it could give borrowers an advantage to know approximatly how much to ask for to have the best chance of getting the funding "
      ]
    },
    {
      "cell_type": "markdown",
      "metadata": {
        "id": "tKlU8snOdQCy",
        "colab_type": "text"
      },
      "source": [
        "###The best target column for this business problem will be funded_amount because it shows how much each request actually recieved "
      ]
    },
    {
      "cell_type": "markdown",
      "metadata": {
        "id": "WyaoSUXEdFyY",
        "colab_type": "text"
      },
      "source": [
        "###This will be a regression problem "
      ]
    },
    {
      "cell_type": "markdown",
      "metadata": {
        "id": "l0HpMd5bdLQY",
        "colab_type": "text"
      },
      "source": [
        "#Data Distribution "
      ]
    },
    {
      "cell_type": "code",
      "metadata": {
        "id": "Ecvc0ch1bwCc",
        "colab_type": "code",
        "colab": {
          "base_uri": "https://localhost:8080/",
          "height": 350
        },
        "outputId": "01f0dc45-714a-4abf-a1a2-bcb11dd99350"
      },
      "source": [
        "import matplotlib.pyplot as plt\n",
        "import seaborn as sns\n",
        "\n",
        "sns.distplot(kiva['funded_amount'])"
      ],
      "execution_count": 7,
      "outputs": [
        {
          "output_type": "stream",
          "text": [
            "/usr/local/lib/python3.6/dist-packages/statsmodels/tools/_testing.py:19: FutureWarning: pandas.util.testing is deprecated. Use the functions in the public API at pandas.testing instead.\n",
            "  import pandas.util.testing as tm\n"
          ],
          "name": "stderr"
        },
        {
          "output_type": "execute_result",
          "data": {
            "text/plain": [
              "<matplotlib.axes._subplots.AxesSubplot at 0x7f8e53786cc0>"
            ]
          },
          "metadata": {
            "tags": []
          },
          "execution_count": 7
        },
        {
          "output_type": "display_data",
          "data": {
            "image/png": "[encoded data removed]",
            "text/plain": [
              "<Figure size 432x288 with 1 Axes>"
            ]
          },
          "metadata": {
            "tags": [],
            "needs_background": "light"
          }
        }
      ]
    },
    {
      "cell_type": "code",
      "metadata": {
        "id": "7-M0AJbceXHK",
        "colab_type": "code",
        "colab": {}
      },
      "source": [
        "# I need to remove some outliers for my target for visualization\n",
        "\n",
        "kivaT = kiva[kiva['funded_amount'] <= 10000]"
      ],
      "execution_count": 8,
      "outputs": []
    },
    {
      "cell_type": "code",
      "metadata": {
        "id": "97PPfW-weMDp",
        "colab_type": "code",
        "colab": {
          "base_uri": "https://localhost:8080/",
          "height": 297
        },
        "outputId": "ea4f96ec-fd8a-4d19-d71c-7d3ba3ffa96e"
      },
      "source": [
        "#trying this again \n",
        "sns.distplot(kivaT['funded_amount'])"
      ],
      "execution_count": 9,
      "outputs": [
        {
          "output_type": "execute_result",
          "data": {
            "text/plain": [
              "<matplotlib.axes._subplots.AxesSubplot at 0x7f8e52f4e978>"
            ]
          },
          "metadata": {
            "tags": []
          },
          "execution_count": 9
        },
        {
          "output_type": "display_data",
          "data": {
            "image/png": "[encoded data removed]",
            "text/plain": [
              "<Figure size 432x288 with 1 Axes>"
            ]
          },
          "metadata": {
            "tags": [],
            "needs_background": "light"
          }
        }
      ]
    },
    {
      "cell_type": "markdown",
      "metadata": {
        "id": "0jSRV3QIfaW8",
        "colab_type": "text"
      },
      "source": [
        "###Data runs on the lower end due to most loans being for smaller amounts "
      ]
    },
    {
      "cell_type": "markdown",
      "metadata": {
        "id": "s8IYD1Elgo4X",
        "colab_type": "text"
      },
      "source": [
        "###May need to Logritmically transform the data to make it easier for the model to predict "
      ]
    },
    {
      "cell_type": "code",
      "metadata": {
        "id": "74zFORChe70W",
        "colab_type": "code",
        "colab": {
          "base_uri": "https://localhost:8080/",
          "height": 297
        },
        "outputId": "9e52f3b7-f858-495f-e494-daf257616fe6"
      },
      "source": [
        "import numpy as np\n",
        "\n",
        "log_funding = np.log1p(kiva['funded_amount'])\n",
        "sns.distplot(log_funding)"
      ],
      "execution_count": 10,
      "outputs": [
        {
          "output_type": "execute_result",
          "data": {
            "text/plain": [
              "<matplotlib.axes._subplots.AxesSubplot at 0x7f8e52a0c128>"
            ]
          },
          "metadata": {
            "tags": []
          },
          "execution_count": 10
        },
        {
          "output_type": "display_data",
          "data": {
            "image/png": "[encoded data removed]",
            "text/plain": [
              "<Figure size 432x288 with 1 Axes>"
            ]
          },
          "metadata": {
            "tags": [],
            "needs_background": "light"
          }
        }
      ]
    },
    {
      "cell_type": "markdown",
      "metadata": {
        "id": "8cBG7n3ahgMq",
        "colab_type": "text"
      },
      "source": [
        "Make sure to convert predictions back to us dollars with np.expm1"
      ]
    },
    {
      "cell_type": "markdown",
      "metadata": {
        "id": "CGtApHjoi8_g",
        "colab_type": "text"
      },
      "source": [
        "#Metrics"
      ]
    },
    {
      "cell_type": "markdown",
      "metadata": {
        "id": "WRNLKiM4i_v3",
        "colab_type": "text"
      },
      "source": [
        "I want to use RMSE because my bussiness problem calls for my model to be as accurate as possible to give the borrowers the greatest chance of thier loan amount being granted. I also want to penalize values further from the actual because in practice if the requested loan is close it may still be accepted but if it's way off it may lead to loans never being realized."
      ]
    },
    {
      "cell_type": "markdown",
      "metadata": {
        "id": "7EzC09uwkPFz",
        "colab_type": "text"
      },
      "source": [
        "#Observation Selection "
      ]
    },
    {
      "cell_type": "markdown",
      "metadata": {
        "id": "W9gAUXAbmPK7",
        "colab_type": "text"
      },
      "source": [
        "I don't want to get rid of the outliers in this case because I know from my data exploration in the unit one build that the high outliers have a meaning in that they are assosiated with higher cost of living parts of the world and industries that are in need of larger loan amounts such as Entertainment and on the low end it's skewed towards countries where the US dollar goes the farthest since the target measurments are in US dollars. Removing outliers would decrease my predictive power for these instances "
      ]
    },
    {
      "cell_type": "markdown",
      "metadata": {
        "id": "xqW-kNczni8e",
        "colab_type": "text"
      },
      "source": [
        "I want to split on time because I'm concered with predicting what the loan amounts will be as close to today as I can get, as opposed to in 2015 "
      ]
    },
    {
      "cell_type": "markdown",
      "metadata": {
        "id": "QzvlBFYRoAY0",
        "colab_type": "text"
      },
      "source": [
        "#Begining cleaning and removing features that will cause data leakage"
      ]
    },
    {
      "cell_type": "code",
      "metadata": {
        "id": "euua9y-9hsfM",
        "colab_type": "code",
        "colab": {
          "base_uri": "https://localhost:8080/",
          "height": 353
        },
        "outputId": "998cf241-3dda-4aee-a1d0-69fa5aaeb22f"
      },
      "source": [
        "#calling columns again to get a quick glance right off the bat on what needs to be removed\n",
        "list(kiva.columns)"
      ],
      "execution_count": 11,
      "outputs": [
        {
          "output_type": "execute_result",
          "data": {
            "text/plain": [
              "['id',\n",
              " 'funded_amount',\n",
              " 'loan_amount',\n",
              " 'activity',\n",
              " 'sector',\n",
              " 'use',\n",
              " 'country_code',\n",
              " 'country',\n",
              " 'region',\n",
              " 'currency',\n",
              " 'partner_id',\n",
              " 'posted_time',\n",
              " 'disbursed_time',\n",
              " 'funded_time',\n",
              " 'term_in_months',\n",
              " 'lender_count',\n",
              " 'tags',\n",
              " 'borrower_genders',\n",
              " 'repayment_interval',\n",
              " 'date']"
            ]
          },
          "metadata": {
            "tags": []
          },
          "execution_count": 11
        }
      ]
    },
    {
      "cell_type": "code",
      "metadata": {
        "id": "tLxYd20XoWXW",
        "colab_type": "code",
        "colab": {}
      },
      "source": [
        "#know I need to drop loan_amount because it's what is used to create funded_amount \n",
        "#need to remove dispursed time and funded time because that's data I wouldn't have when making predictions in the business context\n",
        "kiva = kiva.drop(columns=['loan_amount', 'disbursed_time', 'funded_time'])"
      ],
      "execution_count": 12,
      "outputs": []
    },
    {
      "cell_type": "code",
      "metadata": {
        "id": "z-uN1bQOrLC9",
        "colab_type": "code",
        "colab": {
          "base_uri": "https://localhost:8080/",
          "height": 302
        },
        "outputId": "b9fa8b4a-5f15-4882-c633-d9596b01e577"
      },
      "source": [
        "list(kiva.columns)"
      ],
      "execution_count": 13,
      "outputs": [
        {
          "output_type": "execute_result",
          "data": {
            "text/plain": [
              "['id',\n",
              " 'funded_amount',\n",
              " 'activity',\n",
              " 'sector',\n",
              " 'use',\n",
              " 'country_code',\n",
              " 'country',\n",
              " 'region',\n",
              " 'currency',\n",
              " 'partner_id',\n",
              " 'posted_time',\n",
              " 'term_in_months',\n",
              " 'lender_count',\n",
              " 'tags',\n",
              " 'borrower_genders',\n",
              " 'repayment_interval',\n",
              " 'date']"
            ]
          },
          "metadata": {
            "tags": []
          },
          "execution_count": 13
        }
      ]
    },
    {
      "cell_type": "code",
      "metadata": {
        "id": "2SrWEPvCrO34",
        "colab_type": "code",
        "colab": {
          "base_uri": "https://localhost:8080/",
          "height": 319
        },
        "outputId": "ff77bd75-cb09-4f19-d8fb-0a269a80fd3e"
      },
      "source": [
        "#finding high cardinality features\n",
        "kiva.nunique()"
      ],
      "execution_count": 14,
      "outputs": [
        {
          "output_type": "execute_result",
          "data": {
            "text/plain": [
              "id                    671205\n",
              "funded_amount            610\n",
              "activity                 163\n",
              "sector                    15\n",
              "use                   424912\n",
              "country_code              86\n",
              "country                   87\n",
              "region                 12695\n",
              "currency                  67\n",
              "partner_id               366\n",
              "posted_time           667399\n",
              "term_in_months           148\n",
              "lender_count             503\n",
              "tags                   86719\n",
              "borrower_genders       11298\n",
              "repayment_interval         4\n",
              "date                    1298\n",
              "dtype: int64"
            ]
          },
          "metadata": {
            "tags": []
          },
          "execution_count": 14
        }
      ]
    },
    {
      "cell_type": "code",
      "metadata": {
        "id": "kBHg78k_rcZo",
        "colab_type": "code",
        "colab": {}
      },
      "source": [
        "#removing ID, Use (for now until nlp), tags (again for now until nlp), date because its the same as posted date with less info and region\n",
        "kiva = kiva.drop(columns=['id', 'use', 'region', 'tags', 'date', 'lender_count', 'partner_id'])"
      ],
      "execution_count": 15,
      "outputs": []
    },
    {
      "cell_type": "code",
      "metadata": {
        "id": "rGYQ39_JvQma",
        "colab_type": "code",
        "colab": {
          "base_uri": "https://localhost:8080/",
          "height": 195
        },
        "outputId": "79f889c5-5f2d-4cf1-cf8c-e718f7381b77"
      },
      "source": [
        "#engineering Gender to be usable with less cardinality \n",
        "kiva['single_gender'] = 'More than 1 borrower'\n",
        "\n",
        "#locking the single borrowers to thier gender \n",
        "kiva.loc[kiva['borrower_genders'] == 'male', 'single_gender'] = 'male'\n",
        "kiva.loc[kiva['borrower_genders'] == 'female', 'single_gender'] = 'female'\n",
        "\n",
        "kiva.drop('borrower_genders', axis=1, inplace=True)\n",
        "kiva.head()"
      ],
      "execution_count": 16,
      "outputs": [
        {
          "output_type": "execute_result",
          "data": {
            "text/html": [
              "<div>\n",
              "<style scoped>\n",
              "    .dataframe tbody tr th:only-of-type {\n",
              "        vertical-align: middle;\n",
              "    }\n",
              "\n",
              "    .dataframe tbody tr th {\n",
              "        vertical-align: top;\n",
              "    }\n",
              "\n",
              "    .dataframe thead th {\n",
              "        text-align: right;\n",
              "    }\n",
              "</style>\n",
              "<table border=\"1\" class=\"dataframe\">\n",
              "  <thead>\n",
              "    <tr style=\"text-align: right;\">\n",
              "      <th></th>\n",
              "      <th>funded_amount</th>\n",
              "      <th>activity</th>\n",
              "      <th>sector</th>\n",
              "      <th>country_code</th>\n",
              "      <th>country</th>\n",
              "      <th>currency</th>\n",
              "      <th>posted_time</th>\n",
              "      <th>term_in_months</th>\n",
              "      <th>repayment_interval</th>\n",
              "      <th>single_gender</th>\n",
              "    </tr>\n",
              "  </thead>\n",
              "  <tbody>\n",
              "    <tr>\n",
              "      <th>0</th>\n",
              "      <td>300.0</td>\n",
              "      <td>Fruits &amp; Vegetables</td>\n",
              "      <td>Food</td>\n",
              "      <td>PK</td>\n",
              "      <td>Pakistan</td>\n",
              "      <td>PKR</td>\n",
              "      <td>2014-01-01 06:12:39+00:00</td>\n",
              "      <td>12.0</td>\n",
              "      <td>irregular</td>\n",
              "      <td>female</td>\n",
              "    </tr>\n",
              "    <tr>\n",
              "      <th>1</th>\n",
              "      <td>575.0</td>\n",
              "      <td>Rickshaw</td>\n",
              "      <td>Transportation</td>\n",
              "      <td>PK</td>\n",
              "      <td>Pakistan</td>\n",
              "      <td>PKR</td>\n",
              "      <td>2014-01-01 06:51:08+00:00</td>\n",
              "      <td>11.0</td>\n",
              "      <td>irregular</td>\n",
              "      <td>More than 1 borrower</td>\n",
              "    </tr>\n",
              "    <tr>\n",
              "      <th>2</th>\n",
              "      <td>150.0</td>\n",
              "      <td>Transportation</td>\n",
              "      <td>Transportation</td>\n",
              "      <td>IN</td>\n",
              "      <td>India</td>\n",
              "      <td>INR</td>\n",
              "      <td>2014-01-01 09:58:07+00:00</td>\n",
              "      <td>43.0</td>\n",
              "      <td>bullet</td>\n",
              "      <td>female</td>\n",
              "    </tr>\n",
              "    <tr>\n",
              "      <th>3</th>\n",
              "      <td>200.0</td>\n",
              "      <td>Embroidery</td>\n",
              "      <td>Arts</td>\n",
              "      <td>PK</td>\n",
              "      <td>Pakistan</td>\n",
              "      <td>PKR</td>\n",
              "      <td>2014-01-01 08:03:11+00:00</td>\n",
              "      <td>11.0</td>\n",
              "      <td>irregular</td>\n",
              "      <td>female</td>\n",
              "    </tr>\n",
              "    <tr>\n",
              "      <th>4</th>\n",
              "      <td>400.0</td>\n",
              "      <td>Milk Sales</td>\n",
              "      <td>Food</td>\n",
              "      <td>PK</td>\n",
              "      <td>Pakistan</td>\n",
              "      <td>PKR</td>\n",
              "      <td>2014-01-01 11:53:19+00:00</td>\n",
              "      <td>14.0</td>\n",
              "      <td>monthly</td>\n",
              "      <td>female</td>\n",
              "    </tr>\n",
              "  </tbody>\n",
              "</table>\n",
              "</div>"
            ],
            "text/plain": [
              "   funded_amount             activity  ... repayment_interval         single_gender\n",
              "0          300.0  Fruits & Vegetables  ...          irregular                female\n",
              "1          575.0             Rickshaw  ...          irregular  More than 1 borrower\n",
              "2          150.0       Transportation  ...             bullet                female\n",
              "3          200.0           Embroidery  ...          irregular                female\n",
              "4          400.0           Milk Sales  ...            monthly                female\n",
              "\n",
              "[5 rows x 10 columns]"
            ]
          },
          "metadata": {
            "tags": []
          },
          "execution_count": 16
        }
      ]
    },
    {
      "cell_type": "code",
      "metadata": {
        "id": "jD8L50DjwPf7",
        "colab_type": "code",
        "colab": {
          "base_uri": "https://localhost:8080/",
          "height": 202
        },
        "outputId": "43716866-c53c-4061-86fe-3f493ac7475c"
      },
      "source": [
        "kiva.nunique()"
      ],
      "execution_count": 19,
      "outputs": [
        {
          "output_type": "execute_result",
          "data": {
            "text/plain": [
              "funded_amount            610\n",
              "activity                 163\n",
              "sector                    15\n",
              "country_code              86\n",
              "country                   87\n",
              "currency                  67\n",
              "posted_time           667399\n",
              "term_in_months           148\n",
              "repayment_interval         4\n",
              "single_gender              3\n",
              "dtype: int64"
            ]
          },
          "metadata": {
            "tags": []
          },
          "execution_count": 19
        }
      ]
    },
    {
      "cell_type": "code",
      "metadata": {
        "id": "5c0wH-ASxOAU",
        "colab_type": "code",
        "colab": {}
      },
      "source": [
        ""
      ],
      "execution_count": null,
      "outputs": []
    }
  ]
}