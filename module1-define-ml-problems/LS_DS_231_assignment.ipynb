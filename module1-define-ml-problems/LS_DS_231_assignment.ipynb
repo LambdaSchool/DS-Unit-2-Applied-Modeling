{
 "cells": [
  {
   "cell_type": "markdown",
   "metadata": {
    "colab_type": "text",
    "id": "nCc3XZEyG3XV"
   },
   "source": [
    "Lambda School Data Science\n",
    "\n",
    "*Unit 2, Sprint 3, Module 1*\n",
    "\n",
    "---\n",
    "\n",
    "\n",
    "# Define ML problems\n",
    "\n",
    "You will use your portfolio project dataset for all assignments this sprint.\n",
    "\n",
    "## Assignment\n",
    "\n",
    "Complete these tasks for your project, and document your decisions.\n",
    "\n",
    "- [ ] Choose your target. Which column in your tabular dataset will you predict?\n",
    "- [ ] Is your problem regression or classification?\n",
    "- [ ] How is your target distributed?\n",
    "    - Classification: How many classes? Are the classes imbalanced?\n",
    "    - Regression: Is the target right-skewed? If so, you may want to log transform the target.\n",
    "- [ ] Choose your evaluation metric(s).\n",
    "    - Classification: Is your majority class frequency >= 50% and < 70% ? If so, you can just use accuracy if you want. Outside that range, accuracy could be misleading. What evaluation metric will you choose, in addition to or instead of accuracy?\n",
    "    - Regression: Will you use mean absolute error, root mean squared error, R^2, or other regression metrics?\n",
    "- [ ] Choose which observations you will use to train, validate, and test your model.\n",
    "    - Are some observations outliers? Will you exclude them?\n",
    "    - Will you do a random split or a time-based split?\n",
    "- [ ] Begin to clean and explore your data.\n",
    "- [ ] Begin to choose which features, if any, to exclude. Would some features \"leak\" future information?\n",
    "\n",
    "If you haven't found a dataset yet, do that today. [Review requirements for your portfolio project](https://lambdaschool.github.io/ds/unit2) and choose your dataset.\n",
    "\n",
    "Some students worry, ***what if my model isn't “good”?*** Then, [produce a detailed tribute to your wrongness. That is science!](https://twitter.com/nathanwpyle/status/1176860147223867393)"
   ]
  },
  {
   "cell_type": "code",
   "execution_count": 1,
   "metadata": {},
   "outputs": [],
   "source": [
    "%%capture\n",
    "\n",
    "import pandas as pd\n",
    "import numpy as np\n",
    "import matplotlib.pyplot as plt\n",
    "import seaborn as sns"
   ]
  },
  {
   "cell_type": "code",
   "execution_count": 2,
   "metadata": {},
   "outputs": [
    {
     "name": "stdout",
     "output_type": "stream",
     "text": [
      "(4077, 5)\n",
      "(464, 7)\n"
     ]
    }
   ],
   "source": [
    "rainier = pd.read_csv('../data/climbing_statistics.csv')\n",
    "rainier_weather = pd.read_csv('../data/Rainier_Weather.csv')\n",
    "print(rainier.shape)\n",
    "print(rainier_weather.shape)"
   ]
  },
  {
   "cell_type": "code",
   "execution_count": 3,
   "metadata": {},
   "outputs": [
    {
     "data": {
      "text/html": [
       "<div>\n",
       "<style scoped>\n",
       "    .dataframe tbody tr th:only-of-type {\n",
       "        vertical-align: middle;\n",
       "    }\n",
       "\n",
       "    .dataframe tbody tr th {\n",
       "        vertical-align: top;\n",
       "    }\n",
       "\n",
       "    .dataframe thead th {\n",
       "        text-align: right;\n",
       "    }\n",
       "</style>\n",
       "<table border=\"1\" class=\"dataframe\">\n",
       "  <thead>\n",
       "    <tr style=\"text-align: right;\">\n",
       "      <th></th>\n",
       "      <th>Date</th>\n",
       "      <th>Route</th>\n",
       "      <th>Attempted</th>\n",
       "      <th>Succeeded</th>\n",
       "      <th>Success Percentage</th>\n",
       "    </tr>\n",
       "  </thead>\n",
       "  <tbody>\n",
       "    <tr>\n",
       "      <th>0</th>\n",
       "      <td>11/27/2015</td>\n",
       "      <td>Disappointment Cleaver</td>\n",
       "      <td>2</td>\n",
       "      <td>0</td>\n",
       "      <td>0.0</td>\n",
       "    </tr>\n",
       "    <tr>\n",
       "      <th>1</th>\n",
       "      <td>11/21/2015</td>\n",
       "      <td>Disappointment Cleaver</td>\n",
       "      <td>3</td>\n",
       "      <td>0</td>\n",
       "      <td>0.0</td>\n",
       "    </tr>\n",
       "    <tr>\n",
       "      <th>2</th>\n",
       "      <td>10/15/2015</td>\n",
       "      <td>Disappointment Cleaver</td>\n",
       "      <td>2</td>\n",
       "      <td>0</td>\n",
       "      <td>0.0</td>\n",
       "    </tr>\n",
       "    <tr>\n",
       "      <th>3</th>\n",
       "      <td>10/13/2015</td>\n",
       "      <td>Little Tahoma</td>\n",
       "      <td>8</td>\n",
       "      <td>0</td>\n",
       "      <td>0.0</td>\n",
       "    </tr>\n",
       "    <tr>\n",
       "      <th>4</th>\n",
       "      <td>10/9/2015</td>\n",
       "      <td>Disappointment Cleaver</td>\n",
       "      <td>2</td>\n",
       "      <td>0</td>\n",
       "      <td>0.0</td>\n",
       "    </tr>\n",
       "  </tbody>\n",
       "</table>\n",
       "</div>"
      ],
      "text/plain": [
       "         Date                   Route  Attempted  Succeeded  \\\n",
       "0  11/27/2015  Disappointment Cleaver          2          0   \n",
       "1  11/21/2015  Disappointment Cleaver          3          0   \n",
       "2  10/15/2015  Disappointment Cleaver          2          0   \n",
       "3  10/13/2015           Little Tahoma          8          0   \n",
       "4   10/9/2015  Disappointment Cleaver          2          0   \n",
       "\n",
       "   Success Percentage  \n",
       "0                 0.0  \n",
       "1                 0.0  \n",
       "2                 0.0  \n",
       "3                 0.0  \n",
       "4                 0.0  "
      ]
     },
     "execution_count": 3,
     "metadata": {},
     "output_type": "execute_result"
    }
   ],
   "source": [
    "rainier.head()"
   ]
  },
  {
   "cell_type": "code",
   "execution_count": 4,
   "metadata": {},
   "outputs": [
    {
     "data": {
      "text/html": [
       "<div>\n",
       "<style scoped>\n",
       "    .dataframe tbody tr th:only-of-type {\n",
       "        vertical-align: middle;\n",
       "    }\n",
       "\n",
       "    .dataframe tbody tr th {\n",
       "        vertical-align: top;\n",
       "    }\n",
       "\n",
       "    .dataframe thead th {\n",
       "        text-align: right;\n",
       "    }\n",
       "</style>\n",
       "<table border=\"1\" class=\"dataframe\">\n",
       "  <thead>\n",
       "    <tr style=\"text-align: right;\">\n",
       "      <th></th>\n",
       "      <th>Date</th>\n",
       "      <th>Route</th>\n",
       "      <th>Attempted</th>\n",
       "      <th>Succeeded</th>\n",
       "      <th>Success Percentage</th>\n",
       "    </tr>\n",
       "  </thead>\n",
       "  <tbody>\n",
       "    <tr>\n",
       "      <th>4072</th>\n",
       "      <td>1/16/2014</td>\n",
       "      <td>Little Tahoma</td>\n",
       "      <td>2</td>\n",
       "      <td>0</td>\n",
       "      <td>0.000000</td>\n",
       "    </tr>\n",
       "    <tr>\n",
       "      <th>4073</th>\n",
       "      <td>1/6/2014</td>\n",
       "      <td>Disappointment Cleaver</td>\n",
       "      <td>8</td>\n",
       "      <td>0</td>\n",
       "      <td>0.000000</td>\n",
       "    </tr>\n",
       "    <tr>\n",
       "      <th>4074</th>\n",
       "      <td>1/6/2014</td>\n",
       "      <td>Disappointment Cleaver</td>\n",
       "      <td>8</td>\n",
       "      <td>0</td>\n",
       "      <td>0.000000</td>\n",
       "    </tr>\n",
       "    <tr>\n",
       "      <th>4075</th>\n",
       "      <td>1/5/2014</td>\n",
       "      <td>Disappointment Cleaver</td>\n",
       "      <td>2</td>\n",
       "      <td>0</td>\n",
       "      <td>0.000000</td>\n",
       "    </tr>\n",
       "    <tr>\n",
       "      <th>4076</th>\n",
       "      <td>1/4/2014</td>\n",
       "      <td>Gibralter Ledges</td>\n",
       "      <td>3</td>\n",
       "      <td>2</td>\n",
       "      <td>0.666667</td>\n",
       "    </tr>\n",
       "  </tbody>\n",
       "</table>\n",
       "</div>"
      ],
      "text/plain": [
       "           Date                   Route  Attempted  Succeeded  \\\n",
       "4072  1/16/2014           Little Tahoma          2          0   \n",
       "4073   1/6/2014  Disappointment Cleaver          8          0   \n",
       "4074   1/6/2014  Disappointment Cleaver          8          0   \n",
       "4075   1/5/2014  Disappointment Cleaver          2          0   \n",
       "4076   1/4/2014        Gibralter Ledges          3          2   \n",
       "\n",
       "      Success Percentage  \n",
       "4072            0.000000  \n",
       "4073            0.000000  \n",
       "4074            0.000000  \n",
       "4075            0.000000  \n",
       "4076            0.666667  "
      ]
     },
     "execution_count": 4,
     "metadata": {},
     "output_type": "execute_result"
    }
   ],
   "source": [
    "rainier.tail()"
   ]
  },
  {
   "cell_type": "code",
   "execution_count": 5,
   "metadata": {},
   "outputs": [
    {
     "data": {
      "text/html": [
       "<div>\n",
       "<style scoped>\n",
       "    .dataframe tbody tr th:only-of-type {\n",
       "        vertical-align: middle;\n",
       "    }\n",
       "\n",
       "    .dataframe tbody tr th {\n",
       "        vertical-align: top;\n",
       "    }\n",
       "\n",
       "    .dataframe thead th {\n",
       "        text-align: right;\n",
       "    }\n",
       "</style>\n",
       "<table border=\"1\" class=\"dataframe\">\n",
       "  <thead>\n",
       "    <tr style=\"text-align: right;\">\n",
       "      <th></th>\n",
       "      <th>Date</th>\n",
       "      <th>Battery Voltage AVG</th>\n",
       "      <th>Temperature AVG</th>\n",
       "      <th>Relative Humidity AVG</th>\n",
       "      <th>Wind Speed Daily AVG</th>\n",
       "      <th>Wind Direction AVG</th>\n",
       "      <th>Solare Radiation AVG</th>\n",
       "    </tr>\n",
       "  </thead>\n",
       "  <tbody>\n",
       "    <tr>\n",
       "      <th>0</th>\n",
       "      <td>12/31/2015</td>\n",
       "      <td>13.845000</td>\n",
       "      <td>19.062917</td>\n",
       "      <td>21.870833</td>\n",
       "      <td>21.977792</td>\n",
       "      <td>62.325833</td>\n",
       "      <td>84.915292</td>\n",
       "    </tr>\n",
       "    <tr>\n",
       "      <th>1</th>\n",
       "      <td>12/30/2015</td>\n",
       "      <td>13.822917</td>\n",
       "      <td>14.631208</td>\n",
       "      <td>18.493833</td>\n",
       "      <td>3.540542</td>\n",
       "      <td>121.505417</td>\n",
       "      <td>86.192833</td>\n",
       "    </tr>\n",
       "    <tr>\n",
       "      <th>2</th>\n",
       "      <td>12/29/2015</td>\n",
       "      <td>13.834583</td>\n",
       "      <td>6.614292</td>\n",
       "      <td>34.072917</td>\n",
       "      <td>0.000000</td>\n",
       "      <td>130.291667</td>\n",
       "      <td>85.100917</td>\n",
       "    </tr>\n",
       "    <tr>\n",
       "      <th>3</th>\n",
       "      <td>12/28/2015</td>\n",
       "      <td>13.710417</td>\n",
       "      <td>8.687042</td>\n",
       "      <td>70.557917</td>\n",
       "      <td>0.000000</td>\n",
       "      <td>164.683750</td>\n",
       "      <td>86.241250</td>\n",
       "    </tr>\n",
       "    <tr>\n",
       "      <th>4</th>\n",
       "      <td>12/27/2015</td>\n",
       "      <td>13.362500</td>\n",
       "      <td>14.140417</td>\n",
       "      <td>95.754167</td>\n",
       "      <td>0.000000</td>\n",
       "      <td>268.479167</td>\n",
       "      <td>31.090708</td>\n",
       "    </tr>\n",
       "  </tbody>\n",
       "</table>\n",
       "</div>"
      ],
      "text/plain": [
       "         Date  Battery Voltage AVG  Temperature AVG  Relative Humidity AVG  \\\n",
       "0  12/31/2015            13.845000        19.062917              21.870833   \n",
       "1  12/30/2015            13.822917        14.631208              18.493833   \n",
       "2  12/29/2015            13.834583         6.614292              34.072917   \n",
       "3  12/28/2015            13.710417         8.687042              70.557917   \n",
       "4  12/27/2015            13.362500        14.140417              95.754167   \n",
       "\n",
       "   Wind Speed Daily AVG  Wind Direction AVG  Solare Radiation AVG  \n",
       "0             21.977792           62.325833             84.915292  \n",
       "1              3.540542          121.505417             86.192833  \n",
       "2              0.000000          130.291667             85.100917  \n",
       "3              0.000000          164.683750             86.241250  \n",
       "4              0.000000          268.479167             31.090708  "
      ]
     },
     "execution_count": 5,
     "metadata": {},
     "output_type": "execute_result"
    }
   ],
   "source": [
    "rainier_weather.head()"
   ]
  },
  {
   "cell_type": "code",
   "execution_count": 6,
   "metadata": {},
   "outputs": [
    {
     "data": {
      "text/html": [
       "<div>\n",
       "<style scoped>\n",
       "    .dataframe tbody tr th:only-of-type {\n",
       "        vertical-align: middle;\n",
       "    }\n",
       "\n",
       "    .dataframe tbody tr th {\n",
       "        vertical-align: top;\n",
       "    }\n",
       "\n",
       "    .dataframe thead th {\n",
       "        text-align: right;\n",
       "    }\n",
       "</style>\n",
       "<table border=\"1\" class=\"dataframe\">\n",
       "  <thead>\n",
       "    <tr style=\"text-align: right;\">\n",
       "      <th></th>\n",
       "      <th>Date</th>\n",
       "      <th>Battery Voltage AVG</th>\n",
       "      <th>Temperature AVG</th>\n",
       "      <th>Relative Humidity AVG</th>\n",
       "      <th>Wind Speed Daily AVG</th>\n",
       "      <th>Wind Direction AVG</th>\n",
       "      <th>Solare Radiation AVG</th>\n",
       "    </tr>\n",
       "  </thead>\n",
       "  <tbody>\n",
       "    <tr>\n",
       "      <th>459</th>\n",
       "      <td>9/27/2014</td>\n",
       "      <td>13.467083</td>\n",
       "      <td>33.318750</td>\n",
       "      <td>60.200417</td>\n",
       "      <td>7.140917</td>\n",
       "      <td>116.294583</td>\n",
       "      <td>227.597125</td>\n",
       "    </tr>\n",
       "    <tr>\n",
       "      <th>460</th>\n",
       "      <td>9/26/2014</td>\n",
       "      <td>13.532500</td>\n",
       "      <td>28.238333</td>\n",
       "      <td>100.000000</td>\n",
       "      <td>0.897625</td>\n",
       "      <td>259.645833</td>\n",
       "      <td>114.400833</td>\n",
       "    </tr>\n",
       "    <tr>\n",
       "      <th>461</th>\n",
       "      <td>9/25/2014</td>\n",
       "      <td>13.648333</td>\n",
       "      <td>26.823750</td>\n",
       "      <td>99.854167</td>\n",
       "      <td>3.166208</td>\n",
       "      <td>278.604167</td>\n",
       "      <td>142.698917</td>\n",
       "    </tr>\n",
       "    <tr>\n",
       "      <th>462</th>\n",
       "      <td>9/24/2014</td>\n",
       "      <td>13.168750</td>\n",
       "      <td>29.702917</td>\n",
       "      <td>100.000000</td>\n",
       "      <td>45.915000</td>\n",
       "      <td>278.054167</td>\n",
       "      <td>37.873708</td>\n",
       "    </tr>\n",
       "    <tr>\n",
       "      <th>463</th>\n",
       "      <td>9/23/2014</td>\n",
       "      <td>13.056667</td>\n",
       "      <td>32.857333</td>\n",
       "      <td>100.000000</td>\n",
       "      <td>65.110667</td>\n",
       "      <td>254.273333</td>\n",
       "      <td>16.593800</td>\n",
       "    </tr>\n",
       "  </tbody>\n",
       "</table>\n",
       "</div>"
      ],
      "text/plain": [
       "          Date  Battery Voltage AVG  Temperature AVG  Relative Humidity AVG  \\\n",
       "459  9/27/2014            13.467083        33.318750              60.200417   \n",
       "460  9/26/2014            13.532500        28.238333             100.000000   \n",
       "461  9/25/2014            13.648333        26.823750              99.854167   \n",
       "462  9/24/2014            13.168750        29.702917             100.000000   \n",
       "463  9/23/2014            13.056667        32.857333             100.000000   \n",
       "\n",
       "     Wind Speed Daily AVG  Wind Direction AVG  Solare Radiation AVG  \n",
       "459              7.140917          116.294583            227.597125  \n",
       "460              0.897625          259.645833            114.400833  \n",
       "461              3.166208          278.604167            142.698917  \n",
       "462             45.915000          278.054167             37.873708  \n",
       "463             65.110667          254.273333             16.593800  "
      ]
     },
     "execution_count": 6,
     "metadata": {},
     "output_type": "execute_result"
    }
   ],
   "source": [
    "rainier_weather.tail()"
   ]
  },
  {
   "cell_type": "code",
   "execution_count": 7,
   "metadata": {},
   "outputs": [
    {
     "data": {
      "text/plain": [
       "Date                   object\n",
       "Route                  object\n",
       "Attempted               int64\n",
       "Succeeded               int64\n",
       "Success Percentage    float64\n",
       "dtype: object"
      ]
     },
     "execution_count": 7,
     "metadata": {},
     "output_type": "execute_result"
    }
   ],
   "source": [
    "rainier.dtypes"
   ]
  },
  {
   "cell_type": "code",
   "execution_count": 8,
   "metadata": {},
   "outputs": [
    {
     "data": {
      "text/plain": [
       "Date                      object\n",
       "Battery Voltage AVG      float64\n",
       "Temperature AVG          float64\n",
       "Relative Humidity AVG    float64\n",
       "Wind Speed Daily AVG     float64\n",
       "Wind Direction AVG       float64\n",
       "Solare Radiation AVG     float64\n",
       "dtype: object"
      ]
     },
     "execution_count": 8,
     "metadata": {},
     "output_type": "execute_result"
    }
   ],
   "source": [
    "rainier_weather.dtypes"
   ]
  },
  {
   "cell_type": "code",
   "execution_count": 10,
   "metadata": {},
   "outputs": [],
   "source": [
    "climb_rainier = pd.merge(rainier, rainier_weather, on='Date', how='inner')"
   ]
  },
  {
   "cell_type": "code",
   "execution_count": 11,
   "metadata": {},
   "outputs": [
    {
     "data": {
      "text/plain": [
       "(1895, 11)"
      ]
     },
     "execution_count": 11,
     "metadata": {},
     "output_type": "execute_result"
    }
   ],
   "source": [
    "climb_rainier.shape"
   ]
  },
  {
   "cell_type": "code",
   "execution_count": 12,
   "metadata": {},
   "outputs": [
    {
     "data": {
      "text/html": [
       "<div>\n",
       "<style scoped>\n",
       "    .dataframe tbody tr th:only-of-type {\n",
       "        vertical-align: middle;\n",
       "    }\n",
       "\n",
       "    .dataframe tbody tr th {\n",
       "        vertical-align: top;\n",
       "    }\n",
       "\n",
       "    .dataframe thead th {\n",
       "        text-align: right;\n",
       "    }\n",
       "</style>\n",
       "<table border=\"1\" class=\"dataframe\">\n",
       "  <thead>\n",
       "    <tr style=\"text-align: right;\">\n",
       "      <th></th>\n",
       "      <th>Date</th>\n",
       "      <th>Route</th>\n",
       "      <th>Attempted</th>\n",
       "      <th>Succeeded</th>\n",
       "      <th>Success Percentage</th>\n",
       "      <th>Battery Voltage AVG</th>\n",
       "      <th>Temperature AVG</th>\n",
       "      <th>Relative Humidity AVG</th>\n",
       "      <th>Wind Speed Daily AVG</th>\n",
       "      <th>Wind Direction AVG</th>\n",
       "      <th>Solare Radiation AVG</th>\n",
       "    </tr>\n",
       "  </thead>\n",
       "  <tbody>\n",
       "    <tr>\n",
       "      <th>0</th>\n",
       "      <td>11/27/2015</td>\n",
       "      <td>Disappointment Cleaver</td>\n",
       "      <td>2</td>\n",
       "      <td>0</td>\n",
       "      <td>0.0</td>\n",
       "      <td>13.643750</td>\n",
       "      <td>26.321667</td>\n",
       "      <td>19.715000</td>\n",
       "      <td>27.839583</td>\n",
       "      <td>68.004167</td>\n",
       "      <td>88.496250</td>\n",
       "    </tr>\n",
       "    <tr>\n",
       "      <th>1</th>\n",
       "      <td>11/21/2015</td>\n",
       "      <td>Disappointment Cleaver</td>\n",
       "      <td>3</td>\n",
       "      <td>0</td>\n",
       "      <td>0.0</td>\n",
       "      <td>13.749583</td>\n",
       "      <td>31.300000</td>\n",
       "      <td>21.690708</td>\n",
       "      <td>2.245833</td>\n",
       "      <td>117.549667</td>\n",
       "      <td>93.660417</td>\n",
       "    </tr>\n",
       "    <tr>\n",
       "      <th>2</th>\n",
       "      <td>10/15/2015</td>\n",
       "      <td>Disappointment Cleaver</td>\n",
       "      <td>2</td>\n",
       "      <td>0</td>\n",
       "      <td>0.0</td>\n",
       "      <td>13.461250</td>\n",
       "      <td>46.447917</td>\n",
       "      <td>27.211250</td>\n",
       "      <td>17.163625</td>\n",
       "      <td>259.121375</td>\n",
       "      <td>138.387000</td>\n",
       "    </tr>\n",
       "    <tr>\n",
       "      <th>3</th>\n",
       "      <td>10/13/2015</td>\n",
       "      <td>Little Tahoma</td>\n",
       "      <td>8</td>\n",
       "      <td>0</td>\n",
       "      <td>0.0</td>\n",
       "      <td>13.532083</td>\n",
       "      <td>40.979583</td>\n",
       "      <td>28.335708</td>\n",
       "      <td>19.591167</td>\n",
       "      <td>279.779167</td>\n",
       "      <td>176.382667</td>\n",
       "    </tr>\n",
       "    <tr>\n",
       "      <th>4</th>\n",
       "      <td>10/9/2015</td>\n",
       "      <td>Disappointment Cleaver</td>\n",
       "      <td>2</td>\n",
       "      <td>0</td>\n",
       "      <td>0.0</td>\n",
       "      <td>13.216250</td>\n",
       "      <td>38.260417</td>\n",
       "      <td>74.329167</td>\n",
       "      <td>65.138333</td>\n",
       "      <td>264.687500</td>\n",
       "      <td>27.791292</td>\n",
       "    </tr>\n",
       "  </tbody>\n",
       "</table>\n",
       "</div>"
      ],
      "text/plain": [
       "         Date                   Route  Attempted  Succeeded  \\\n",
       "0  11/27/2015  Disappointment Cleaver          2          0   \n",
       "1  11/21/2015  Disappointment Cleaver          3          0   \n",
       "2  10/15/2015  Disappointment Cleaver          2          0   \n",
       "3  10/13/2015           Little Tahoma          8          0   \n",
       "4   10/9/2015  Disappointment Cleaver          2          0   \n",
       "\n",
       "   Success Percentage  Battery Voltage AVG  Temperature AVG  \\\n",
       "0                 0.0            13.643750        26.321667   \n",
       "1                 0.0            13.749583        31.300000   \n",
       "2                 0.0            13.461250        46.447917   \n",
       "3                 0.0            13.532083        40.979583   \n",
       "4                 0.0            13.216250        38.260417   \n",
       "\n",
       "   Relative Humidity AVG  Wind Speed Daily AVG  Wind Direction AVG  \\\n",
       "0              19.715000             27.839583           68.004167   \n",
       "1              21.690708              2.245833          117.549667   \n",
       "2              27.211250             17.163625          259.121375   \n",
       "3              28.335708             19.591167          279.779167   \n",
       "4              74.329167             65.138333          264.687500   \n",
       "\n",
       "   Solare Radiation AVG  \n",
       "0             88.496250  \n",
       "1             93.660417  \n",
       "2            138.387000  \n",
       "3            176.382667  \n",
       "4             27.791292  "
      ]
     },
     "execution_count": 12,
     "metadata": {},
     "output_type": "execute_result"
    }
   ],
   "source": [
    "climb_rainier.head()"
   ]
  },
  {
   "cell_type": "code",
   "execution_count": 13,
   "metadata": {},
   "outputs": [
    {
     "data": {
      "text/html": [
       "<div>\n",
       "<style scoped>\n",
       "    .dataframe tbody tr th:only-of-type {\n",
       "        vertical-align: middle;\n",
       "    }\n",
       "\n",
       "    .dataframe tbody tr th {\n",
       "        vertical-align: top;\n",
       "    }\n",
       "\n",
       "    .dataframe thead th {\n",
       "        text-align: right;\n",
       "    }\n",
       "</style>\n",
       "<table border=\"1\" class=\"dataframe\">\n",
       "  <thead>\n",
       "    <tr style=\"text-align: right;\">\n",
       "      <th></th>\n",
       "      <th>Date</th>\n",
       "      <th>Route</th>\n",
       "      <th>Attempted</th>\n",
       "      <th>Succeeded</th>\n",
       "      <th>Success Percentage</th>\n",
       "      <th>Battery Voltage AVG</th>\n",
       "      <th>Temperature AVG</th>\n",
       "      <th>Relative Humidity AVG</th>\n",
       "      <th>Wind Speed Daily AVG</th>\n",
       "      <th>Wind Direction AVG</th>\n",
       "      <th>Solare Radiation AVG</th>\n",
       "    </tr>\n",
       "  </thead>\n",
       "  <tbody>\n",
       "    <tr>\n",
       "      <th>1890</th>\n",
       "      <td>9/26/2014</td>\n",
       "      <td>Disappointment Cleaver</td>\n",
       "      <td>3</td>\n",
       "      <td>0</td>\n",
       "      <td>0.0</td>\n",
       "      <td>13.532500</td>\n",
       "      <td>28.238333</td>\n",
       "      <td>100.000000</td>\n",
       "      <td>0.897625</td>\n",
       "      <td>259.645833</td>\n",
       "      <td>114.400833</td>\n",
       "    </tr>\n",
       "    <tr>\n",
       "      <th>1891</th>\n",
       "      <td>9/25/2014</td>\n",
       "      <td>Disappointment Cleaver</td>\n",
       "      <td>2</td>\n",
       "      <td>2</td>\n",
       "      <td>1.0</td>\n",
       "      <td>13.648333</td>\n",
       "      <td>26.823750</td>\n",
       "      <td>99.854167</td>\n",
       "      <td>3.166208</td>\n",
       "      <td>278.604167</td>\n",
       "      <td>142.698917</td>\n",
       "    </tr>\n",
       "    <tr>\n",
       "      <th>1892</th>\n",
       "      <td>9/25/2014</td>\n",
       "      <td>Disappointment Cleaver</td>\n",
       "      <td>12</td>\n",
       "      <td>6</td>\n",
       "      <td>0.5</td>\n",
       "      <td>13.648333</td>\n",
       "      <td>26.823750</td>\n",
       "      <td>99.854167</td>\n",
       "      <td>3.166208</td>\n",
       "      <td>278.604167</td>\n",
       "      <td>142.698917</td>\n",
       "    </tr>\n",
       "    <tr>\n",
       "      <th>1893</th>\n",
       "      <td>9/24/2014</td>\n",
       "      <td>Disappointment Cleaver</td>\n",
       "      <td>12</td>\n",
       "      <td>0</td>\n",
       "      <td>0.0</td>\n",
       "      <td>13.168750</td>\n",
       "      <td>29.702917</td>\n",
       "      <td>100.000000</td>\n",
       "      <td>45.915000</td>\n",
       "      <td>278.054167</td>\n",
       "      <td>37.873708</td>\n",
       "    </tr>\n",
       "    <tr>\n",
       "      <th>1894</th>\n",
       "      <td>9/23/2014</td>\n",
       "      <td>Disappointment Cleaver</td>\n",
       "      <td>11</td>\n",
       "      <td>0</td>\n",
       "      <td>0.0</td>\n",
       "      <td>13.056667</td>\n",
       "      <td>32.857333</td>\n",
       "      <td>100.000000</td>\n",
       "      <td>65.110667</td>\n",
       "      <td>254.273333</td>\n",
       "      <td>16.593800</td>\n",
       "    </tr>\n",
       "  </tbody>\n",
       "</table>\n",
       "</div>"
      ],
      "text/plain": [
       "           Date                   Route  Attempted  Succeeded  \\\n",
       "1890  9/26/2014  Disappointment Cleaver          3          0   \n",
       "1891  9/25/2014  Disappointment Cleaver          2          2   \n",
       "1892  9/25/2014  Disappointment Cleaver         12          6   \n",
       "1893  9/24/2014  Disappointment Cleaver         12          0   \n",
       "1894  9/23/2014  Disappointment Cleaver         11          0   \n",
       "\n",
       "      Success Percentage  Battery Voltage AVG  Temperature AVG  \\\n",
       "1890                 0.0            13.532500        28.238333   \n",
       "1891                 1.0            13.648333        26.823750   \n",
       "1892                 0.5            13.648333        26.823750   \n",
       "1893                 0.0            13.168750        29.702917   \n",
       "1894                 0.0            13.056667        32.857333   \n",
       "\n",
       "      Relative Humidity AVG  Wind Speed Daily AVG  Wind Direction AVG  \\\n",
       "1890             100.000000              0.897625          259.645833   \n",
       "1891              99.854167              3.166208          278.604167   \n",
       "1892              99.854167              3.166208          278.604167   \n",
       "1893             100.000000             45.915000          278.054167   \n",
       "1894             100.000000             65.110667          254.273333   \n",
       "\n",
       "      Solare Radiation AVG  \n",
       "1890            114.400833  \n",
       "1891            142.698917  \n",
       "1892            142.698917  \n",
       "1893             37.873708  \n",
       "1894             16.593800  "
      ]
     },
     "execution_count": 13,
     "metadata": {},
     "output_type": "execute_result"
    }
   ],
   "source": [
    "climb_rainier.tail()"
   ]
  },
  {
   "cell_type": "code",
   "execution_count": 14,
   "metadata": {},
   "outputs": [
    {
     "data": {
      "text/plain": [
       "array(['Disappointment Cleaver', 'Little Tahoma', 'Kautz Glacier',\n",
       "       'Emmons-Winthrop', 'glacier only - no summit attempt',\n",
       "       'Fuhrers Finger', 'Success Cleaver', 'Liberty RIngraham Directge',\n",
       "       'Kautz Cleaver', 'Tahoma Glacier', 'Ptarmigan RIngraham Directge',\n",
       "       'Mowich Face', 'Ingraham Direct', 'Sunset RIngraham Directge',\n",
       "       'Curtis RIngraham Directge', 'Tahoma Cleaver', 'Gibralter Ledges',\n",
       "       'Nisqually Glacier', 'Wilson Headwall', 'Gibralter Chute',\n",
       "       \"Fuhrer's Finger\", 'Unknown'], dtype=object)"
      ]
     },
     "execution_count": 14,
     "metadata": {},
     "output_type": "execute_result"
    }
   ],
   "source": [
    "climb_rainier['Route'].unique()"
   ]
  },
  {
   "cell_type": "code",
   "execution_count": 15,
   "metadata": {},
   "outputs": [
    {
     "data": {
      "text/plain": [
       "22"
      ]
     },
     "execution_count": 15,
     "metadata": {},
     "output_type": "execute_result"
    }
   ],
   "source": [
    "climb_rainier['Route'].nunique()"
   ]
  },
  {
   "cell_type": "code",
   "execution_count": 16,
   "metadata": {},
   "outputs": [],
   "source": [
    "climb_rainier['Route'] = climb_rainier['Route'].str.lower()"
   ]
  },
  {
   "cell_type": "code",
   "execution_count": 17,
   "metadata": {},
   "outputs": [
    {
     "data": {
      "text/plain": [
       "22"
      ]
     },
     "execution_count": 17,
     "metadata": {},
     "output_type": "execute_result"
    }
   ],
   "source": [
    "climb_rainier['Route'].nunique()"
   ]
  },
  {
   "cell_type": "code",
   "execution_count": 18,
   "metadata": {},
   "outputs": [
    {
     "data": {
      "text/plain": [
       "array(['disappointment cleaver', 'little tahoma', 'kautz glacier',\n",
       "       'emmons-winthrop', 'glacier only - no summit attempt',\n",
       "       'fuhrers finger', 'success cleaver', 'liberty ringraham directge',\n",
       "       'kautz cleaver', 'tahoma glacier', 'ptarmigan ringraham directge',\n",
       "       'mowich face', 'ingraham direct', 'sunset ringraham directge',\n",
       "       'curtis ringraham directge', 'tahoma cleaver', 'gibralter ledges',\n",
       "       'nisqually glacier', 'wilson headwall', 'gibralter chute',\n",
       "       \"fuhrer's finger\", 'unknown'], dtype=object)"
      ]
     },
     "execution_count": 18,
     "metadata": {},
     "output_type": "execute_result"
    }
   ],
   "source": [
    "climb_rainier['Route'].unique()"
   ]
  },
  {
   "cell_type": "code",
   "execution_count": 19,
   "metadata": {},
   "outputs": [
    {
     "data": {
      "text/plain": [
       "disappointment cleaver              1294\n",
       "emmons-winthrop                      295\n",
       "kautz glacier                         97\n",
       "little tahoma                         36\n",
       "gibralter ledges                      29\n",
       "liberty ringraham directge            29\n",
       "fuhrers finger                        27\n",
       "glacier only - no summit attempt      25\n",
       "ingraham direct                       24\n",
       "ptarmigan ringraham directge           8\n",
       "kautz cleaver                          7\n",
       "fuhrer's finger                        5\n",
       "tahoma glacier                         4\n",
       "mowich face                            3\n",
       "success cleaver                        2\n",
       "wilson headwall                        2\n",
       "nisqually glacier                      2\n",
       "curtis ringraham directge              2\n",
       "gibralter chute                        1\n",
       "tahoma cleaver                         1\n",
       "unknown                                1\n",
       "sunset ringraham directge              1\n",
       "Name: Route, dtype: int64"
      ]
     },
     "execution_count": 19,
     "metadata": {},
     "output_type": "execute_result"
    }
   ],
   "source": [
    "climb_rainier['Route'].value_counts()"
   ]
  },
  {
   "cell_type": "code",
   "execution_count": 20,
   "metadata": {},
   "outputs": [],
   "source": [
    "top7 = climb_rainier['Route'].value_counts().head(7).index"
   ]
  },
  {
   "cell_type": "code",
   "execution_count": 21,
   "metadata": {},
   "outputs": [],
   "source": [
    "climb_rainier.loc[~climb_rainier['Route'].isin(top7), 'Route'] = 'Other'"
   ]
  },
  {
   "cell_type": "code",
   "execution_count": 23,
   "metadata": {},
   "outputs": [
    {
     "data": {
      "text/plain": [
       "disappointment cleaver        1294\n",
       "emmons-winthrop                295\n",
       "kautz glacier                   97\n",
       "Other                           88\n",
       "little tahoma                   36\n",
       "liberty ringraham directge      29\n",
       "gibralter ledges                29\n",
       "fuhrers finger                  27\n",
       "Name: Route, dtype: int64"
      ]
     },
     "execution_count": 23,
     "metadata": {},
     "output_type": "execute_result"
    }
   ],
   "source": [
    "climb_rainier['Route'].value_counts()"
   ]
  },
  {
   "cell_type": "code",
   "execution_count": 27,
   "metadata": {},
   "outputs": [],
   "source": [
    "greather_than_1 = climb_rainier[climb_rainier['Success Percentage'] > 1].index"
   ]
  },
  {
   "cell_type": "code",
   "execution_count": 30,
   "metadata": {},
   "outputs": [],
   "source": [
    "climb_rainier = climb_rainier.drop(greather_than_1)"
   ]
  },
  {
   "cell_type": "code",
   "execution_count": 31,
   "metadata": {},
   "outputs": [
    {
     "data": {
      "text/plain": [
       "(1889, 11)"
      ]
     },
     "execution_count": 31,
     "metadata": {},
     "output_type": "execute_result"
    }
   ],
   "source": [
    "climb_rainier.shape"
   ]
  },
  {
   "cell_type": "code",
   "execution_count": 36,
   "metadata": {},
   "outputs": [
    {
     "data": {
      "image/png": "[encoded data removed]",
      "text/plain": [
       "<Figure size 432x288 with 1 Axes>"
      ]
     },
     "metadata": {
      "needs_background": "light"
     },
     "output_type": "display_data"
    }
   ],
   "source": [
    "sns.distplot(climb_rainier['Success Percentage'])\n",
    "plt.axvline(climb_rainier['Success Percentage'].mean(), color='red')\n",
    "plt.axvline(climb_rainier['Success Percentage'].median(), color='green')\n",
    "plt.show()"
   ]
  },
  {
   "cell_type": "code",
   "execution_count": 37,
   "metadata": {},
   "outputs": [],
   "source": [
    "climb_rainier['Date'] = pd.to_datetime(climb_rainier['Date'])"
   ]
  },
  {
   "cell_type": "code",
   "execution_count": 40,
   "metadata": {},
   "outputs": [
    {
     "data": {
      "text/plain": [
       "1695   2015-05-19\n",
       "1696   2015-05-18\n",
       "1697   2015-05-18\n",
       "1698   2015-05-18\n",
       "1699   2015-05-18\n",
       "          ...    \n",
       "1890   2014-09-26\n",
       "1891   2014-09-25\n",
       "1892   2014-09-25\n",
       "1893   2014-09-24\n",
       "1894   2014-09-23\n",
       "Name: Date, Length: 200, dtype: datetime64[ns]"
      ]
     },
     "execution_count": 40,
     "metadata": {},
     "output_type": "execute_result"
    }
   ],
   "source": [
    "climb_rainier['Date'].tail(200)"
   ]
  },
  {
   "cell_type": "code",
   "execution_count": 53,
   "metadata": {},
   "outputs": [
    {
     "data": {
      "text/html": [
       "<div>\n",
       "<style scoped>\n",
       "    .dataframe tbody tr th:only-of-type {\n",
       "        vertical-align: middle;\n",
       "    }\n",
       "\n",
       "    .dataframe tbody tr th {\n",
       "        vertical-align: top;\n",
       "    }\n",
       "\n",
       "    .dataframe thead th {\n",
       "        text-align: right;\n",
       "    }\n",
       "</style>\n",
       "<table border=\"1\" class=\"dataframe\">\n",
       "  <thead>\n",
       "    <tr style=\"text-align: right;\">\n",
       "      <th></th>\n",
       "      <th>Date</th>\n",
       "      <th>Route</th>\n",
       "      <th>Attempted</th>\n",
       "      <th>Succeeded</th>\n",
       "      <th>Success Percentage</th>\n",
       "      <th>Battery Voltage AVG</th>\n",
       "      <th>Temperature AVG</th>\n",
       "      <th>Relative Humidity AVG</th>\n",
       "      <th>Wind Speed Daily AVG</th>\n",
       "      <th>Wind Direction AVG</th>\n",
       "      <th>Solare Radiation AVG</th>\n",
       "    </tr>\n",
       "  </thead>\n",
       "  <tbody>\n",
       "    <tr>\n",
       "      <th>0</th>\n",
       "      <td>2015-11-27</td>\n",
       "      <td>disappointment cleaver</td>\n",
       "      <td>2</td>\n",
       "      <td>0</td>\n",
       "      <td>0.000000</td>\n",
       "      <td>13.643750</td>\n",
       "      <td>26.321667</td>\n",
       "      <td>19.715000</td>\n",
       "      <td>27.839583</td>\n",
       "      <td>68.004167</td>\n",
       "      <td>88.496250</td>\n",
       "    </tr>\n",
       "    <tr>\n",
       "      <th>1</th>\n",
       "      <td>2015-11-21</td>\n",
       "      <td>disappointment cleaver</td>\n",
       "      <td>3</td>\n",
       "      <td>0</td>\n",
       "      <td>0.000000</td>\n",
       "      <td>13.749583</td>\n",
       "      <td>31.300000</td>\n",
       "      <td>21.690708</td>\n",
       "      <td>2.245833</td>\n",
       "      <td>117.549667</td>\n",
       "      <td>93.660417</td>\n",
       "    </tr>\n",
       "    <tr>\n",
       "      <th>2</th>\n",
       "      <td>2015-10-15</td>\n",
       "      <td>disappointment cleaver</td>\n",
       "      <td>2</td>\n",
       "      <td>0</td>\n",
       "      <td>0.000000</td>\n",
       "      <td>13.461250</td>\n",
       "      <td>46.447917</td>\n",
       "      <td>27.211250</td>\n",
       "      <td>17.163625</td>\n",
       "      <td>259.121375</td>\n",
       "      <td>138.387000</td>\n",
       "    </tr>\n",
       "    <tr>\n",
       "      <th>3</th>\n",
       "      <td>2015-10-13</td>\n",
       "      <td>little tahoma</td>\n",
       "      <td>8</td>\n",
       "      <td>0</td>\n",
       "      <td>0.000000</td>\n",
       "      <td>13.532083</td>\n",
       "      <td>40.979583</td>\n",
       "      <td>28.335708</td>\n",
       "      <td>19.591167</td>\n",
       "      <td>279.779167</td>\n",
       "      <td>176.382667</td>\n",
       "    </tr>\n",
       "    <tr>\n",
       "      <th>4</th>\n",
       "      <td>2015-10-09</td>\n",
       "      <td>disappointment cleaver</td>\n",
       "      <td>2</td>\n",
       "      <td>0</td>\n",
       "      <td>0.000000</td>\n",
       "      <td>13.216250</td>\n",
       "      <td>38.260417</td>\n",
       "      <td>74.329167</td>\n",
       "      <td>65.138333</td>\n",
       "      <td>264.687500</td>\n",
       "      <td>27.791292</td>\n",
       "    </tr>\n",
       "    <tr>\n",
       "      <th>...</th>\n",
       "      <td>...</td>\n",
       "      <td>...</td>\n",
       "      <td>...</td>\n",
       "      <td>...</td>\n",
       "      <td>...</td>\n",
       "      <td>...</td>\n",
       "      <td>...</td>\n",
       "      <td>...</td>\n",
       "      <td>...</td>\n",
       "      <td>...</td>\n",
       "      <td>...</td>\n",
       "    </tr>\n",
       "    <tr>\n",
       "      <th>197</th>\n",
       "      <td>2015-08-19</td>\n",
       "      <td>disappointment cleaver</td>\n",
       "      <td>2</td>\n",
       "      <td>0</td>\n",
       "      <td>0.000000</td>\n",
       "      <td>13.410417</td>\n",
       "      <td>51.189583</td>\n",
       "      <td>24.261667</td>\n",
       "      <td>2.924458</td>\n",
       "      <td>185.827917</td>\n",
       "      <td>291.301667</td>\n",
       "    </tr>\n",
       "    <tr>\n",
       "      <th>198</th>\n",
       "      <td>2015-08-19</td>\n",
       "      <td>Other</td>\n",
       "      <td>2</td>\n",
       "      <td>2</td>\n",
       "      <td>1.000000</td>\n",
       "      <td>13.410417</td>\n",
       "      <td>51.189583</td>\n",
       "      <td>24.261667</td>\n",
       "      <td>2.924458</td>\n",
       "      <td>185.827917</td>\n",
       "      <td>291.301667</td>\n",
       "    </tr>\n",
       "    <tr>\n",
       "      <th>199</th>\n",
       "      <td>2015-08-19</td>\n",
       "      <td>disappointment cleaver</td>\n",
       "      <td>12</td>\n",
       "      <td>5</td>\n",
       "      <td>0.416667</td>\n",
       "      <td>13.410417</td>\n",
       "      <td>51.189583</td>\n",
       "      <td>24.261667</td>\n",
       "      <td>2.924458</td>\n",
       "      <td>185.827917</td>\n",
       "      <td>291.301667</td>\n",
       "    </tr>\n",
       "    <tr>\n",
       "      <th>200</th>\n",
       "      <td>2015-08-19</td>\n",
       "      <td>disappointment cleaver</td>\n",
       "      <td>11</td>\n",
       "      <td>4</td>\n",
       "      <td>0.363636</td>\n",
       "      <td>13.410417</td>\n",
       "      <td>51.189583</td>\n",
       "      <td>24.261667</td>\n",
       "      <td>2.924458</td>\n",
       "      <td>185.827917</td>\n",
       "      <td>291.301667</td>\n",
       "    </tr>\n",
       "    <tr>\n",
       "      <th>201</th>\n",
       "      <td>2015-08-19</td>\n",
       "      <td>disappointment cleaver</td>\n",
       "      <td>3</td>\n",
       "      <td>3</td>\n",
       "      <td>1.000000</td>\n",
       "      <td>13.410417</td>\n",
       "      <td>51.189583</td>\n",
       "      <td>24.261667</td>\n",
       "      <td>2.924458</td>\n",
       "      <td>185.827917</td>\n",
       "      <td>291.301667</td>\n",
       "    </tr>\n",
       "  </tbody>\n",
       "</table>\n",
       "<p>200 rows × 11 columns</p>\n",
       "</div>"
      ],
      "text/plain": [
       "          Date                   Route  Attempted  Succeeded  \\\n",
       "0   2015-11-27  disappointment cleaver          2          0   \n",
       "1   2015-11-21  disappointment cleaver          3          0   \n",
       "2   2015-10-15  disappointment cleaver          2          0   \n",
       "3   2015-10-13           little tahoma          8          0   \n",
       "4   2015-10-09  disappointment cleaver          2          0   \n",
       "..         ...                     ...        ...        ...   \n",
       "197 2015-08-19  disappointment cleaver          2          0   \n",
       "198 2015-08-19                   Other          2          2   \n",
       "199 2015-08-19  disappointment cleaver         12          5   \n",
       "200 2015-08-19  disappointment cleaver         11          4   \n",
       "201 2015-08-19  disappointment cleaver          3          3   \n",
       "\n",
       "     Success Percentage  Battery Voltage AVG  Temperature AVG  \\\n",
       "0              0.000000            13.643750        26.321667   \n",
       "1              0.000000            13.749583        31.300000   \n",
       "2              0.000000            13.461250        46.447917   \n",
       "3              0.000000            13.532083        40.979583   \n",
       "4              0.000000            13.216250        38.260417   \n",
       "..                  ...                  ...              ...   \n",
       "197            0.000000            13.410417        51.189583   \n",
       "198            1.000000            13.410417        51.189583   \n",
       "199            0.416667            13.410417        51.189583   \n",
       "200            0.363636            13.410417        51.189583   \n",
       "201            1.000000            13.410417        51.189583   \n",
       "\n",
       "     Relative Humidity AVG  Wind Speed Daily AVG  Wind Direction AVG  \\\n",
       "0                19.715000             27.839583           68.004167   \n",
       "1                21.690708              2.245833          117.549667   \n",
       "2                27.211250             17.163625          259.121375   \n",
       "3                28.335708             19.591167          279.779167   \n",
       "4                74.329167             65.138333          264.687500   \n",
       "..                     ...                   ...                 ...   \n",
       "197              24.261667              2.924458          185.827917   \n",
       "198              24.261667              2.924458          185.827917   \n",
       "199              24.261667              2.924458          185.827917   \n",
       "200              24.261667              2.924458          185.827917   \n",
       "201              24.261667              2.924458          185.827917   \n",
       "\n",
       "     Solare Radiation AVG  \n",
       "0               88.496250  \n",
       "1               93.660417  \n",
       "2              138.387000  \n",
       "3              176.382667  \n",
       "4               27.791292  \n",
       "..                    ...  \n",
       "197            291.301667  \n",
       "198            291.301667  \n",
       "199            291.301667  \n",
       "200            291.301667  \n",
       "201            291.301667  \n",
       "\n",
       "[200 rows x 11 columns]"
      ]
     },
     "execution_count": 53,
     "metadata": {},
     "output_type": "execute_result"
    }
   ],
   "source": [
    "climb_rainier.head(200)"
   ]
  },
  {
   "cell_type": "code",
   "execution_count": 55,
   "metadata": {},
   "outputs": [],
   "source": [
    "train = climb_rainier[climb_rainier['Date'] < '2015-08-20']\n",
    "test = climb_rainier[climb_rainier['Date'] >= '2015-08-20']"
   ]
  },
  {
   "cell_type": "code",
   "execution_count": 56,
   "metadata": {},
   "outputs": [
    {
     "data": {
      "text/plain": [
       "((1694, 11), (195, 11))"
      ]
     },
     "execution_count": 56,
     "metadata": {},
     "output_type": "execute_result"
    }
   ],
   "source": [
    "train.shape, test.shape"
   ]
  },
  {
   "cell_type": "code",
   "execution_count": 61,
   "metadata": {},
   "outputs": [
    {
     "data": {
      "text/plain": [
       "0.4674534176280992"
      ]
     },
     "execution_count": 61,
     "metadata": {},
     "output_type": "execute_result"
    }
   ],
   "source": [
    "train['Success Percentage'].mean()"
   ]
  },
  {
   "cell_type": "code",
   "execution_count": 62,
   "metadata": {},
   "outputs": [],
   "source": [
    "target = 'Success Percentage'\n",
    "y_train = train[target]\n",
    "y_test = test[target]"
   ]
  },
  {
   "cell_type": "code",
   "execution_count": 63,
   "metadata": {},
   "outputs": [
    {
     "name": "stdout",
     "output_type": "stream",
     "text": [
      "Mean baseline with 0 features is: 0.467\n"
     ]
    }
   ],
   "source": [
    "# mean baseline\n",
    "guess = y_train.mean()\n",
    "# guess\n",
    "print(f'Mean baseline with 0 features is: {guess:.3f}')"
   ]
  },
  {
   "cell_type": "code",
   "execution_count": 64,
   "metadata": {},
   "outputs": [
    {
     "data": {
      "text/plain": [
       "0.44120789757032597"
      ]
     },
     "execution_count": 64,
     "metadata": {},
     "output_type": "execute_result"
    }
   ],
   "source": [
    "# Train Error\n",
    "from sklearn.metrics import mean_absolute_error, r2_score, mean_squared_error\n",
    "y_pred = [guess] * len(y_train)\n",
    "mae = mean_absolute_error(y_train, y_pred)\n",
    "mae"
   ]
  },
  {
   "cell_type": "code",
   "execution_count": 71,
   "metadata": {},
   "outputs": [
    {
     "data": {
      "text/plain": [
       "['Date',\n",
       " 'Route',\n",
       " 'Attempted',\n",
       " 'Succeeded',\n",
       " 'Battery Voltage AVG',\n",
       " 'Temperature AVG',\n",
       " 'Relative Humidity AVG',\n",
       " 'Wind Speed Daily AVG',\n",
       " 'Wind Direction AVG',\n",
       " 'Solare Radiation AVG']"
      ]
     },
     "execution_count": 71,
     "metadata": {},
     "output_type": "execute_result"
    }
   ],
   "source": [
    "train.drop([target], axis=1).columns.to_list()"
   ]
  },
  {
   "cell_type": "code",
   "execution_count": 77,
   "metadata": {},
   "outputs": [
    {
     "data": {
      "text/plain": [
       "LinearRegression(copy_X=True, fit_intercept=True, n_jobs=None, normalize=False)"
      ]
     },
     "execution_count": 77,
     "metadata": {},
     "output_type": "execute_result"
    }
   ],
   "source": [
    "from sklearn.linear_model import LinearRegression\n",
    "\n",
    "model = LinearRegression()\n",
    "\n",
    "# feature matrices\n",
    "features = train.drop([target, 'Date', 'Route'], axis=1).columns.to_list()\n",
    "X_train = train[features]\n",
    "X_test = test[features]\n",
    "\n",
    "# fit the model\n",
    "model.fit(X_train, y_train)"
   ]
  },
  {
   "cell_type": "code",
   "execution_count": 78,
   "metadata": {},
   "outputs": [
    {
     "name": "stdout",
     "output_type": "stream",
     "text": [
      "Train Mean absolute error: 0.2414650882829599\n"
     ]
    }
   ],
   "source": [
    "# train Error\n",
    "y_pred = model.predict(X_train)\n",
    "mae = mean_absolute_error(y_train, y_pred)\n",
    "print('Train Mean absolute error:', mae)"
   ]
  },
  {
   "cell_type": "code",
   "execution_count": 79,
   "metadata": {},
   "outputs": [
    {
     "name": "stdout",
     "output_type": "stream",
     "text": [
      "Test Mean absolute error: 0.2770134964173807\n"
     ]
    }
   ],
   "source": [
    "# test error\n",
    "y_pred = model.predict(X_test)\n",
    "mae = mean_absolute_error(y_test, y_pred)\n",
    "print('Test Mean absolute error:', mae)"
   ]
  }
 ],
 "metadata": {
  "kernelspec": {
   "display_name": "Python 3",
   "language": "python",
   "name": "python3"
  },
  "language_info": {
   "codemirror_mode": {
    "name": "ipython",
    "version": 3
   },
   "file_extension": ".py",
   "mimetype": "text/x-python",
   "name": "python",
   "nbconvert_exporter": "python",
   "pygments_lexer": "ipython3",
   "version": "3.7.6"
  }
 },
 "nbformat": 4,
 "nbformat_minor": 1
}
