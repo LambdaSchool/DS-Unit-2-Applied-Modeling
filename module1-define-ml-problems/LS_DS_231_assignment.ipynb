{
 "cells": [
  {
   "cell_type": "markdown",
   "metadata": {
    "colab_type": "text",
    "id": "nCc3XZEyG3XV"
   },
   "source": [
    "Lambda School Data Science\n",
    "\n",
    "*Unit 2, Sprint 3, Module 1*\n",
    "\n",
    "---\n",
    "\n",
    "\n",
    "# Define ML problems\n",
    "\n",
    "You will use your portfolio project dataset for all assignments this sprint.\n",
    "\n",
    "## Assignment\n",
    "\n",
    "Complete these tasks for your project, and document your decisions.\n",
    "\n",
    "- [x] Choose your target. Which column in your tabular dataset will you predict?\n",
    "> `price` (engineered feature)\n",
    "- [x] Is your problem regression or classification?\n",
    "> regression\n",
    "- [x] How is your target distributed?\n",
    "    - Classification: How many classes? Are the classes imbalanced?\n",
    "    - Regression: Is the target right-skewed? If so, you may want to log transform the target.\n",
    "> The data is somewhat bimodal, and I'm not sure why yet.\n",
    "- [x] Choose your evaluation metric(s).\n",
    "    - Classification: Is your majority class frequency >= 50% and < 70% ? If so, you can just use accuracy if you want. Outside that range, accuracy could be misleading. What evaluation metric will you choose, in addition to or instead of accuracy?\n",
    "    - Regression: Will you use mean absolute error, root mean squared error, R^2, or other regression metrics?\n",
    "> I don't know which one I want to use, as I don't know which is best for my weird data distribution.\n",
    "- [x] Choose which observations you will use to train, validate, and test your model.\n",
    "    - Are some observations outliers? Will you exclude them?\n",
    "> Some are outliers, but they're meaningful outliers, just based on how at a glance there is visible correlation between price and the other features.\n",
    "    - Will you do a random split or a time-based split?\n",
    "> Most likely time-based, but I may change that if time is a useful feature.\n",
    "- [x] Begin to clean and explore your data.\n",
    "- [x] Begin to choose which features, if any, to exclude. Would some features \"leak\" future information?\n",
    "> None will leak information, and a lot of the features are empty.\n",
    "\n",
    "If you haven't found a dataset yet, do that today. [Review requirements for your portfolio project](https://lambdaschool.github.io/ds/unit2) and choose your dataset.\n",
    "\n",
    "Some students worry, ***what if my model isn't “good”?*** Then, [produce a detailed tribute to your wrongness. That is science!](https://twitter.com/nathanwpyle/status/1176860147223867393)"
   ]
  },
  {
   "cell_type": "code",
   "execution_count": 2,
   "metadata": {},
   "outputs": [
    {
     "data": {
      "text/plain": [
       "(1757, 25)"
      ]
     },
     "execution_count": 2,
     "metadata": {},
     "output_type": "execute_result"
    }
   ],
   "source": [
    "import pandas as pd\n",
    "from numpy import NaN, nanmean\n",
    "from seaborn import distplot\n",
    "\n",
    "pd.set_option('display.max_columns', 999)\n",
    "\n",
    "df = pd.read_csv('../data/pumpkins/pumpkins.csv').drop('Unnamed: 0', axis=1)\n",
    "\n",
    "df.columns = [c.replace(\" \", \"_\").lower() for c in df.columns]\n",
    "df.shape"
   ]
  },
  {
   "cell_type": "code",
   "execution_count": 3,
   "metadata": {},
   "outputs": [
    {
     "data": {
      "text/plain": [
       "commodity_name        0\n",
       "city_name             0\n",
       "type               1712\n",
       "package               0\n",
       "variety               5\n",
       "sub_variety        1461\n",
       "grade              1757\n",
       "date                  0\n",
       "low_price             0\n",
       "high_price            0\n",
       "mostly_low          103\n",
       "mostly_high         103\n",
       "origin                5\n",
       "origin_district    1626\n",
       "item_size           279\n",
       "color              1041\n",
       "environment        1757\n",
       "unit_of_sale       1595\n",
       "quality            1757\n",
       "condition          1757\n",
       "appearance         1757\n",
       "storage            1757\n",
       "crop               1757\n",
       "repack                0\n",
       "trans_mode         1757\n",
       "dtype: int64"
      ]
     },
     "execution_count": 3,
     "metadata": {},
     "output_type": "execute_result"
    }
   ],
   "source": [
    "df.isnull().sum()"
   ]
  },
  {
   "cell_type": "code",
   "execution_count": 4,
   "metadata": {},
   "outputs": [],
   "source": [
    "df['organic'] = df.type == 'Organic'\n",
    "df['price'] = df[['low_price', 'high_price', 'mostly_low', 'mostly_high']].apply(nanmean, axis=1)\n",
    "df['variety'] = df.apply(lambda x: x.variety if pd.isna(x.variety) else (\n",
    "                             x.variety + (\n",
    "                                 '' if pd.isna(x.sub_variety) else f' {x.sub_variety}'\n",
    "                             )\n",
    "                         ), axis=1)\n",
    "df.date = pd.to_datetime(df.date)\n",
    "df.item_size = df.item_size.map({\n",
    "    'sml': 'small',\n",
    "    'med': 'medium',\n",
    "    'lge': 'large',\n",
    "     NaN: NaN,\n",
    "    'xlge': 'extra large',\n",
    "    'med-lge': 'medium large',\n",
    "    'jbo': 'jumbo',\n",
    "    'exjbo': 'extra jumbo'\n",
    "})"
   ]
  },
  {
   "cell_type": "code",
   "execution_count": 5,
   "metadata": {},
   "outputs": [],
   "source": [
    "df = df.drop(['commodity_name', 'grade', 'environment',\n",
    "              'quality', 'condition', 'appearance',\n",
    "              'storage', 'crop', 'trans_mode',\n",
    "              'sub_variety', 'low_price', 'high_price',\n",
    "              'mostly_low', 'mostly_high', 'type'], axis=1)"
   ]
  },
  {
   "cell_type": "code",
   "execution_count": 6,
   "metadata": {},
   "outputs": [
    {
     "data": {
      "image/png": "[encoded data removed]",
      "text/plain": [
       "<Figure size 432x288 with 1 Axes>"
      ]
     },
     "metadata": {
      "needs_background": "light"
     },
     "output_type": "display_data"
    }
   ],
   "source": [
    "distplot(df.price);"
   ]
  },
  {
   "cell_type": "code",
   "execution_count": 7,
   "metadata": {},
   "outputs": [
    {
     "name": "stdout",
     "output_type": "stream",
     "text": [
      "EACH\n"
     ]
    },
    {
     "data": {
      "image/png": "[encoded data removed]",
      "text/plain": [
       "<Figure size 432x288 with 1 Axes>"
      ]
     },
     "metadata": {
      "needs_background": "light"
     },
     "output_type": "display_data"
    },
    {
     "name": "stdout",
     "output_type": "stream",
     "text": [
      "PER BIN\n"
     ]
    },
    {
     "data": {
      "image/png": "[encoded data removed]",
      "text/plain": [
       "<Figure size 432x288 with 1 Axes>"
      ]
     },
     "metadata": {
      "needs_background": "light"
     },
     "output_type": "display_data"
    },
    {
     "name": "stdout",
     "output_type": "stream",
     "text": [
      "PER LB\n"
     ]
    },
    {
     "data": {
      "image/png": "[encoded data removed]",
      "text/plain": [
       "<Figure size 432x288 with 1 Axes>"
      ]
     },
     "metadata": {
      "needs_background": "light"
     },
     "output_type": "display_data"
    },
    {
     "name": "stdout",
     "output_type": "stream",
     "text": [
      "SHELLACKED\n"
     ]
    },
    {
     "data": {
      "image/png": "[encoded data removed]",
      "text/plain": [
       "<Figure size 432x288 with 1 Axes>"
      ]
     },
     "metadata": {
      "needs_background": "light"
     },
     "output_type": "display_data"
    }
   ],
   "source": [
    "import matplotlib.pyplot as plt\n",
    "for key, group in df.groupby('unit_of_sale'):\n",
    "    print(key)\n",
    "    distplot(group.price)\n",
    "    plt.show()"
   ]
  },
  {
   "cell_type": "code",
   "execution_count": 8,
   "metadata": {},
   "outputs": [
    {
     "data": {
      "text/plain": [
       "city_name           13\n",
       "package             15\n",
       "variety             12\n",
       "date                57\n",
       "origin              24\n",
       "origin_district      5\n",
       "item_size            7\n",
       "color                3\n",
       "unit_of_sale         4\n",
       "repack               2\n",
       "organic              2\n",
       "price              180\n",
       "dtype: int64"
      ]
     },
     "execution_count": 8,
     "metadata": {},
     "output_type": "execute_result"
    }
   ],
   "source": [
    "df.nunique()"
   ]
  },
  {
   "cell_type": "code",
   "execution_count": 9,
   "metadata": {},
   "outputs": [
    {
     "data": {
      "text/html": [
       "<div>\n",
       "<style scoped>\n",
       "    .dataframe tbody tr th:only-of-type {\n",
       "        vertical-align: middle;\n",
       "    }\n",
       "\n",
       "    .dataframe tbody tr th {\n",
       "        vertical-align: top;\n",
       "    }\n",
       "\n",
       "    .dataframe thead th {\n",
       "        text-align: right;\n",
       "    }\n",
       "</style>\n",
       "<table border=\"1\" class=\"dataframe\">\n",
       "  <thead>\n",
       "    <tr style=\"text-align: right;\">\n",
       "      <th></th>\n",
       "      <th>city_name</th>\n",
       "      <th>package</th>\n",
       "      <th>variety</th>\n",
       "      <th>date</th>\n",
       "      <th>origin</th>\n",
       "      <th>origin_district</th>\n",
       "      <th>item_size</th>\n",
       "      <th>color</th>\n",
       "      <th>unit_of_sale</th>\n",
       "      <th>repack</th>\n",
       "      <th>organic</th>\n",
       "      <th>price</th>\n",
       "    </tr>\n",
       "  </thead>\n",
       "  <tbody>\n",
       "    <tr>\n",
       "      <td>57</td>\n",
       "      <td>BALTIMORE</td>\n",
       "      <td>24 inch bins</td>\n",
       "      <td>NaN</td>\n",
       "      <td>2017-04-29</td>\n",
       "      <td>NaN</td>\n",
       "      <td>NaN</td>\n",
       "      <td>large</td>\n",
       "      <td>NaN</td>\n",
       "      <td>NaN</td>\n",
       "      <td>E</td>\n",
       "      <td>False</td>\n",
       "      <td>275.0</td>\n",
       "    </tr>\n",
       "    <tr>\n",
       "      <td>58</td>\n",
       "      <td>BALTIMORE</td>\n",
       "      <td>24 inch bins</td>\n",
       "      <td>NaN</td>\n",
       "      <td>2017-05-06</td>\n",
       "      <td>NaN</td>\n",
       "      <td>NaN</td>\n",
       "      <td>large</td>\n",
       "      <td>NaN</td>\n",
       "      <td>NaN</td>\n",
       "      <td>E</td>\n",
       "      <td>False</td>\n",
       "      <td>275.0</td>\n",
       "    </tr>\n",
       "    <tr>\n",
       "      <td>86</td>\n",
       "      <td>BALTIMORE</td>\n",
       "      <td>24 inch bins</td>\n",
       "      <td>CINDERELLA</td>\n",
       "      <td>2017-06-03</td>\n",
       "      <td>NaN</td>\n",
       "      <td>NaN</td>\n",
       "      <td>extra large</td>\n",
       "      <td>NaN</td>\n",
       "      <td>NaN</td>\n",
       "      <td>E</td>\n",
       "      <td>False</td>\n",
       "      <td>380.0</td>\n",
       "    </tr>\n",
       "    <tr>\n",
       "      <td>87</td>\n",
       "      <td>BALTIMORE</td>\n",
       "      <td>24 inch bins</td>\n",
       "      <td>CINDERELLA</td>\n",
       "      <td>2017-06-10</td>\n",
       "      <td>NaN</td>\n",
       "      <td>NaN</td>\n",
       "      <td>extra large</td>\n",
       "      <td>NaN</td>\n",
       "      <td>NaN</td>\n",
       "      <td>E</td>\n",
       "      <td>False</td>\n",
       "      <td>380.0</td>\n",
       "    </tr>\n",
       "    <tr>\n",
       "      <td>88</td>\n",
       "      <td>BALTIMORE</td>\n",
       "      <td>24 inch bins</td>\n",
       "      <td>CINDERELLA</td>\n",
       "      <td>2017-06-17</td>\n",
       "      <td>NaN</td>\n",
       "      <td>NaN</td>\n",
       "      <td>extra large</td>\n",
       "      <td>NaN</td>\n",
       "      <td>NaN</td>\n",
       "      <td>E</td>\n",
       "      <td>False</td>\n",
       "      <td>380.0</td>\n",
       "    </tr>\n",
       "  </tbody>\n",
       "</table>\n",
       "</div>"
      ],
      "text/plain": [
       "    city_name       package     variety       date origin origin_district  \\\n",
       "57  BALTIMORE  24 inch bins         NaN 2017-04-29    NaN             NaN   \n",
       "58  BALTIMORE  24 inch bins         NaN 2017-05-06    NaN             NaN   \n",
       "86  BALTIMORE  24 inch bins  CINDERELLA 2017-06-03    NaN             NaN   \n",
       "87  BALTIMORE  24 inch bins  CINDERELLA 2017-06-10    NaN             NaN   \n",
       "88  BALTIMORE  24 inch bins  CINDERELLA 2017-06-17    NaN             NaN   \n",
       "\n",
       "      item_size color unit_of_sale repack  organic  price  \n",
       "57        large   NaN          NaN      E    False  275.0  \n",
       "58        large   NaN          NaN      E    False  275.0  \n",
       "86  extra large   NaN          NaN      E    False  380.0  \n",
       "87  extra large   NaN          NaN      E    False  380.0  \n",
       "88  extra large   NaN          NaN      E    False  380.0  "
      ]
     },
     "execution_count": 9,
     "metadata": {},
     "output_type": "execute_result"
    }
   ],
   "source": [
    "df[df.repack == 'E']"
   ]
  },
  {
   "cell_type": "code",
   "execution_count": null,
   "metadata": {},
   "outputs": [],
   "source": []
  }
 ],
 "metadata": {
  "kernelspec": {
   "display_name": "Python 3",
   "language": "python",
   "name": "python3"
  },
  "language_info": {
   "codemirror_mode": {
    "name": "ipython",
    "version": 3
   },
   "file_extension": ".py",
   "mimetype": "text/x-python",
   "name": "python",
   "nbconvert_exporter": "python",
   "pygments_lexer": "ipython3",
   "version": "3.7.4"
  }
 },
 "nbformat": 4,
 "nbformat_minor": 1
}
