{
  "nbformat": 4,
  "nbformat_minor": 0,
  "metadata": {
    "colab": {
      "name": "LS_DS_231_assignment.ipynb",
      "provenance": []
    },
    "kernelspec": {
      "display_name": "Python 3",
      "language": "python",
      "name": "python3"
    },
    "language_info": {
      "codemirror_mode": {
        "name": "ipython",
        "version": 3
      },
      "file_extension": ".py",
      "mimetype": "text/x-python",
      "name": "python",
      "nbconvert_exporter": "python",
      "pygments_lexer": "ipython3",
      "version": "3.8.2"
    }
  },
  "cells": [
    {
      "cell_type": "markdown",
      "metadata": {
        "id": "nCc3XZEyG3XV"
      },
      "source": [
        "Lambda School Data Science\n",
        "\n",
        "*Unit 2, Sprint 3, Module 1*\n",
        "\n",
        "---\n",
        "\n",
        "\n",
        "# Define ML problems\n",
        "\n",
        "You will use your portfolio project dataset for all assignments this sprint.\n",
        "\n",
        "## Assignment\n",
        "\n",
        "Complete these tasks for your project, and document your decisions.\n",
        "\n",
        "- [ ] Choose your target. Which column in your tabular dataset will you predict?\n",
        "- [ ] Is your problem regression or classification?\n",
        "- [ ] How is your target distributed?\n",
        "    - Classification: How many classes? Are the classes imbalanced?\n",
        "    - Regression: Is the target right-skewed? If so, you may want to log transform the target.\n",
        "- [ ] Choose your evaluation metric(s).\n",
        "    - Classification: Is your majority class frequency >= 50% and < 70% ? If so, you can just use accuracy if you want. Outside that range, accuracy could be misleading. What evaluation metric will you choose, in addition to or instead of accuracy?\n",
        "    - Regression: Will you use mean absolute error, root mean squared error, R^2, or other regression metrics?\n",
        "- [ ] Choose which observations you will use to train, validate, and test your model.\n",
        "    - Are some observations outliers? Will you exclude them?\n",
        "    - Will you do a random split or a time-based split?\n",
        "- [ ] Begin to clean and explore your data.\n",
        "- [ ] Begin to choose which features, if any, to exclude. Would some features \"leak\" future information?\n",
        "\n",
        "If you haven't found a dataset yet, do that today. [Review requirements for your portfolio project](https://lambdaschool.github.io/ds/unit2) and choose your dataset.\n",
        "\n",
        "Some students worry, ***what if my model isn't “good”?*** Then, [produce a detailed tribute to your wrongness. That is science!](https://twitter.com/nathanwpyle/status/1176860147223867393)"
      ]
    },
    {
      "cell_type": "code",
      "metadata": {
        "id": "xlHn9ubzBlbc"
      },
      "source": [
        "import numpy as np\n",
        "import pandas as pd"
      ],
      "execution_count": 1,
      "outputs": []
    },
    {
      "cell_type": "code",
      "metadata": {
        "id": "04-y_32FBpUO",
        "outputId": "95a2592d-5037-4f85-80dc-e853d904df23",
        "colab": {
          "base_uri": "https://localhost:8080/",
          "height": 204
        }
      },
      "source": [
        "url = 'https://raw.githubusercontent.com/laguz/stock_csv/master/AAPL.csv'\n",
        "df = pd.read_csv(url)\n",
        "df.head()"
      ],
      "execution_count": 2,
      "outputs": [
        {
          "output_type": "execute_result",
          "data": {
            "text/html": [
              "<div>\n",
              "<style scoped>\n",
              "    .dataframe tbody tr th:only-of-type {\n",
              "        vertical-align: middle;\n",
              "    }\n",
              "\n",
              "    .dataframe tbody tr th {\n",
              "        vertical-align: top;\n",
              "    }\n",
              "\n",
              "    .dataframe thead th {\n",
              "        text-align: right;\n",
              "    }\n",
              "</style>\n",
              "<table border=\"1\" class=\"dataframe\">\n",
              "  <thead>\n",
              "    <tr style=\"text-align: right;\">\n",
              "      <th></th>\n",
              "      <th>Date</th>\n",
              "      <th>Open</th>\n",
              "      <th>High</th>\n",
              "      <th>Low</th>\n",
              "      <th>Close</th>\n",
              "      <th>Adj Close</th>\n",
              "      <th>Volume</th>\n",
              "    </tr>\n",
              "  </thead>\n",
              "  <tbody>\n",
              "    <tr>\n",
              "      <th>0</th>\n",
              "      <td>1980-12-12</td>\n",
              "      <td>0.128348</td>\n",
              "      <td>0.128906</td>\n",
              "      <td>0.128348</td>\n",
              "      <td>0.128348</td>\n",
              "      <td>0.101261</td>\n",
              "      <td>469033600.0</td>\n",
              "    </tr>\n",
              "    <tr>\n",
              "      <th>1</th>\n",
              "      <td>1980-12-15</td>\n",
              "      <td>0.122210</td>\n",
              "      <td>0.122210</td>\n",
              "      <td>0.121652</td>\n",
              "      <td>0.121652</td>\n",
              "      <td>0.095978</td>\n",
              "      <td>175884800.0</td>\n",
              "    </tr>\n",
              "    <tr>\n",
              "      <th>2</th>\n",
              "      <td>1980-12-16</td>\n",
              "      <td>0.113281</td>\n",
              "      <td>0.113281</td>\n",
              "      <td>0.112723</td>\n",
              "      <td>0.112723</td>\n",
              "      <td>0.088934</td>\n",
              "      <td>105728000.0</td>\n",
              "    </tr>\n",
              "    <tr>\n",
              "      <th>3</th>\n",
              "      <td>1980-12-17</td>\n",
              "      <td>0.115513</td>\n",
              "      <td>0.116071</td>\n",
              "      <td>0.115513</td>\n",
              "      <td>0.115513</td>\n",
              "      <td>0.091135</td>\n",
              "      <td>86441600.0</td>\n",
              "    </tr>\n",
              "    <tr>\n",
              "      <th>4</th>\n",
              "      <td>1980-12-18</td>\n",
              "      <td>0.118862</td>\n",
              "      <td>0.119420</td>\n",
              "      <td>0.118862</td>\n",
              "      <td>0.118862</td>\n",
              "      <td>0.093777</td>\n",
              "      <td>73449600.0</td>\n",
              "    </tr>\n",
              "  </tbody>\n",
              "</table>\n",
              "</div>"
            ],
            "text/plain": [
              "         Date      Open      High       Low     Close  Adj Close       Volume\n",
              "0  1980-12-12  0.128348  0.128906  0.128348  0.128348   0.101261  469033600.0\n",
              "1  1980-12-15  0.122210  0.122210  0.121652  0.121652   0.095978  175884800.0\n",
              "2  1980-12-16  0.113281  0.113281  0.112723  0.112723   0.088934  105728000.0\n",
              "3  1980-12-17  0.115513  0.116071  0.115513  0.115513   0.091135   86441600.0\n",
              "4  1980-12-18  0.118862  0.119420  0.118862  0.118862   0.093777   73449600.0"
            ]
          },
          "metadata": {
            "tags": []
          },
          "execution_count": 2
        }
      ]
    },
    {
      "cell_type": "code",
      "metadata": {
        "id": "n_Gs4pyFFrrl",
        "outputId": "fee2ec24-a65d-4f49-b5f5-d1c6163bd982",
        "colab": {
          "base_uri": "https://localhost:8080/",
          "height": 204
        }
      },
      "source": [
        "df.tail()"
      ],
      "execution_count": 3,
      "outputs": [
        {
          "output_type": "execute_result",
          "data": {
            "text/html": [
              "<div>\n",
              "<style scoped>\n",
              "    .dataframe tbody tr th:only-of-type {\n",
              "        vertical-align: middle;\n",
              "    }\n",
              "\n",
              "    .dataframe tbody tr th {\n",
              "        vertical-align: top;\n",
              "    }\n",
              "\n",
              "    .dataframe thead th {\n",
              "        text-align: right;\n",
              "    }\n",
              "</style>\n",
              "<table border=\"1\" class=\"dataframe\">\n",
              "  <thead>\n",
              "    <tr style=\"text-align: right;\">\n",
              "      <th></th>\n",
              "      <th>Date</th>\n",
              "      <th>Open</th>\n",
              "      <th>High</th>\n",
              "      <th>Low</th>\n",
              "      <th>Close</th>\n",
              "      <th>Adj Close</th>\n",
              "      <th>Volume</th>\n",
              "    </tr>\n",
              "  </thead>\n",
              "  <tbody>\n",
              "    <tr>\n",
              "      <th>10034</th>\n",
              "      <td>2020-09-29</td>\n",
              "      <td>114.550003</td>\n",
              "      <td>115.309998</td>\n",
              "      <td>113.570000</td>\n",
              "      <td>114.089996</td>\n",
              "      <td>114.089996</td>\n",
              "      <td>99382200.0</td>\n",
              "    </tr>\n",
              "    <tr>\n",
              "      <th>10035</th>\n",
              "      <td>2020-09-30</td>\n",
              "      <td>113.790001</td>\n",
              "      <td>117.260002</td>\n",
              "      <td>113.620003</td>\n",
              "      <td>115.809998</td>\n",
              "      <td>115.809998</td>\n",
              "      <td>142675200.0</td>\n",
              "    </tr>\n",
              "    <tr>\n",
              "      <th>10036</th>\n",
              "      <td>2020-10-01</td>\n",
              "      <td>117.639999</td>\n",
              "      <td>117.720001</td>\n",
              "      <td>115.830002</td>\n",
              "      <td>116.790001</td>\n",
              "      <td>116.790001</td>\n",
              "      <td>116120400.0</td>\n",
              "    </tr>\n",
              "    <tr>\n",
              "      <th>10037</th>\n",
              "      <td>2020-10-02</td>\n",
              "      <td>112.889999</td>\n",
              "      <td>115.370003</td>\n",
              "      <td>112.220001</td>\n",
              "      <td>113.019997</td>\n",
              "      <td>113.019997</td>\n",
              "      <td>144712000.0</td>\n",
              "    </tr>\n",
              "    <tr>\n",
              "      <th>10038</th>\n",
              "      <td>2020-10-05</td>\n",
              "      <td>113.910004</td>\n",
              "      <td>116.650002</td>\n",
              "      <td>113.550003</td>\n",
              "      <td>116.500000</td>\n",
              "      <td>116.500000</td>\n",
              "      <td>106243800.0</td>\n",
              "    </tr>\n",
              "  </tbody>\n",
              "</table>\n",
              "</div>"
            ],
            "text/plain": [
              "             Date        Open        High  ...       Close   Adj Close       Volume\n",
              "10034  2020-09-29  114.550003  115.309998  ...  114.089996  114.089996   99382200.0\n",
              "10035  2020-09-30  113.790001  117.260002  ...  115.809998  115.809998  142675200.0\n",
              "10036  2020-10-01  117.639999  117.720001  ...  116.790001  116.790001  116120400.0\n",
              "10037  2020-10-02  112.889999  115.370003  ...  113.019997  113.019997  144712000.0\n",
              "10038  2020-10-05  113.910004  116.650002  ...  116.500000  116.500000  106243800.0\n",
              "\n",
              "[5 rows x 7 columns]"
            ]
          },
          "metadata": {
            "tags": []
          },
          "execution_count": 3
        }
      ]
    },
    {
      "cell_type": "code",
      "metadata": {
        "id": "tyWTWrYUF12o"
      },
      "source": [
        "df['Price_Change'] = df['Close'] - df['Close'].shift(1)"
      ],
      "execution_count": 4,
      "outputs": []
    },
    {
      "cell_type": "code",
      "metadata": {
        "id": "QQ0LZRIfxB6Z"
      },
      "source": [
        "df['Volume_Change'] = df['Volume'] - df['Volume'].shift(1)"
      ],
      "execution_count": 5,
      "outputs": []
    },
    {
      "cell_type": "code",
      "metadata": {
        "id": "rbAJMWjxxCCs"
      },
      "source": [
        "df['Percentage_Change'] = (((df['Close'] / df['Close'].shift(1))-1)*100)"
      ],
      "execution_count": 6,
      "outputs": []
    },
    {
      "cell_type": "code",
      "metadata": {
        "id": "0vRQNBqSaVSO"
      },
      "source": [
        "df.dropna(how='any', inplace=True)"
      ],
      "execution_count": 7,
      "outputs": []
    },
    {
      "cell_type": "code",
      "metadata": {
        "id": "_KsMVQ2icbu8",
        "outputId": "d74b75fe-64b3-4b66-ada4-877f3751b2f2",
        "colab": {
          "base_uri": "https://localhost:8080/"
        }
      },
      "source": [
        "df.loc[df['Price_Change'] >= 0, 'Up_Down'] = True\n",
        "df.loc[df['Price_Change'] < 0, 'Up_Down'] = False\n",
        "df['Up_Down'].value_counts(normalize=True)"
      ],
      "execution_count": 8,
      "outputs": [
        {
          "output_type": "execute_result",
          "data": {
            "text/plain": [
              "True     0.532284\n",
              "False    0.467716\n",
              "Name: Up_Down, dtype: float64"
            ]
          },
          "metadata": {
            "tags": []
          },
          "execution_count": 8
        }
      ]
    },
    {
      "cell_type": "code",
      "metadata": {
        "id": "SkYjRA0FGBTF",
        "outputId": "8f197b76-8e0e-4ff0-b0ee-39ccbf821587",
        "colab": {
          "base_uri": "https://localhost:8080/",
          "height": 359
        }
      },
      "source": [
        "df.tail(10)"
      ],
      "execution_count": 9,
      "outputs": [
        {
          "output_type": "execute_result",
          "data": {
            "text/html": [
              "<div>\n",
              "<style scoped>\n",
              "    .dataframe tbody tr th:only-of-type {\n",
              "        vertical-align: middle;\n",
              "    }\n",
              "\n",
              "    .dataframe tbody tr th {\n",
              "        vertical-align: top;\n",
              "    }\n",
              "\n",
              "    .dataframe thead th {\n",
              "        text-align: right;\n",
              "    }\n",
              "</style>\n",
              "<table border=\"1\" class=\"dataframe\">\n",
              "  <thead>\n",
              "    <tr style=\"text-align: right;\">\n",
              "      <th></th>\n",
              "      <th>Date</th>\n",
              "      <th>Open</th>\n",
              "      <th>High</th>\n",
              "      <th>Low</th>\n",
              "      <th>Close</th>\n",
              "      <th>Adj Close</th>\n",
              "      <th>Volume</th>\n",
              "      <th>Price_Change</th>\n",
              "      <th>Volume_Change</th>\n",
              "      <th>Percentage_Change</th>\n",
              "      <th>Up_Down</th>\n",
              "    </tr>\n",
              "  </thead>\n",
              "  <tbody>\n",
              "    <tr>\n",
              "      <th>10029</th>\n",
              "      <td>2020-09-22</td>\n",
              "      <td>112.680000</td>\n",
              "      <td>112.860001</td>\n",
              "      <td>109.160004</td>\n",
              "      <td>111.809998</td>\n",
              "      <td>111.809998</td>\n",
              "      <td>183055400.0</td>\n",
              "      <td>1.729996</td>\n",
              "      <td>-12658400.0</td>\n",
              "      <td>1.571581</td>\n",
              "      <td>True</td>\n",
              "    </tr>\n",
              "    <tr>\n",
              "      <th>10030</th>\n",
              "      <td>2020-09-23</td>\n",
              "      <td>111.620003</td>\n",
              "      <td>112.110001</td>\n",
              "      <td>106.769997</td>\n",
              "      <td>107.120003</td>\n",
              "      <td>107.120003</td>\n",
              "      <td>150718700.0</td>\n",
              "      <td>-4.689995</td>\n",
              "      <td>-32336700.0</td>\n",
              "      <td>-4.194611</td>\n",
              "      <td>False</td>\n",
              "    </tr>\n",
              "    <tr>\n",
              "      <th>10031</th>\n",
              "      <td>2020-09-24</td>\n",
              "      <td>105.169998</td>\n",
              "      <td>110.250000</td>\n",
              "      <td>105.000000</td>\n",
              "      <td>108.220001</td>\n",
              "      <td>108.220001</td>\n",
              "      <td>167743300.0</td>\n",
              "      <td>1.099998</td>\n",
              "      <td>17024600.0</td>\n",
              "      <td>1.026884</td>\n",
              "      <td>True</td>\n",
              "    </tr>\n",
              "    <tr>\n",
              "      <th>10032</th>\n",
              "      <td>2020-09-25</td>\n",
              "      <td>108.430000</td>\n",
              "      <td>112.440002</td>\n",
              "      <td>107.669998</td>\n",
              "      <td>112.279999</td>\n",
              "      <td>112.279999</td>\n",
              "      <td>149981400.0</td>\n",
              "      <td>4.059998</td>\n",
              "      <td>-17761900.0</td>\n",
              "      <td>3.751615</td>\n",
              "      <td>True</td>\n",
              "    </tr>\n",
              "    <tr>\n",
              "      <th>10033</th>\n",
              "      <td>2020-09-28</td>\n",
              "      <td>115.010002</td>\n",
              "      <td>115.320000</td>\n",
              "      <td>112.779999</td>\n",
              "      <td>114.959999</td>\n",
              "      <td>114.959999</td>\n",
              "      <td>137672400.0</td>\n",
              "      <td>2.680000</td>\n",
              "      <td>-12309000.0</td>\n",
              "      <td>2.386890</td>\n",
              "      <td>True</td>\n",
              "    </tr>\n",
              "    <tr>\n",
              "      <th>10034</th>\n",
              "      <td>2020-09-29</td>\n",
              "      <td>114.550003</td>\n",
              "      <td>115.309998</td>\n",
              "      <td>113.570000</td>\n",
              "      <td>114.089996</td>\n",
              "      <td>114.089996</td>\n",
              "      <td>99382200.0</td>\n",
              "      <td>-0.870003</td>\n",
              "      <td>-38290200.0</td>\n",
              "      <td>-0.756788</td>\n",
              "      <td>False</td>\n",
              "    </tr>\n",
              "    <tr>\n",
              "      <th>10035</th>\n",
              "      <td>2020-09-30</td>\n",
              "      <td>113.790001</td>\n",
              "      <td>117.260002</td>\n",
              "      <td>113.620003</td>\n",
              "      <td>115.809998</td>\n",
              "      <td>115.809998</td>\n",
              "      <td>142675200.0</td>\n",
              "      <td>1.720002</td>\n",
              "      <td>43293000.0</td>\n",
              "      <td>1.507584</td>\n",
              "      <td>True</td>\n",
              "    </tr>\n",
              "    <tr>\n",
              "      <th>10036</th>\n",
              "      <td>2020-10-01</td>\n",
              "      <td>117.639999</td>\n",
              "      <td>117.720001</td>\n",
              "      <td>115.830002</td>\n",
              "      <td>116.790001</td>\n",
              "      <td>116.790001</td>\n",
              "      <td>116120400.0</td>\n",
              "      <td>0.980003</td>\n",
              "      <td>-26554800.0</td>\n",
              "      <td>0.846216</td>\n",
              "      <td>True</td>\n",
              "    </tr>\n",
              "    <tr>\n",
              "      <th>10037</th>\n",
              "      <td>2020-10-02</td>\n",
              "      <td>112.889999</td>\n",
              "      <td>115.370003</td>\n",
              "      <td>112.220001</td>\n",
              "      <td>113.019997</td>\n",
              "      <td>113.019997</td>\n",
              "      <td>144712000.0</td>\n",
              "      <td>-3.770004</td>\n",
              "      <td>28591600.0</td>\n",
              "      <td>-3.228019</td>\n",
              "      <td>False</td>\n",
              "    </tr>\n",
              "    <tr>\n",
              "      <th>10038</th>\n",
              "      <td>2020-10-05</td>\n",
              "      <td>113.910004</td>\n",
              "      <td>116.650002</td>\n",
              "      <td>113.550003</td>\n",
              "      <td>116.500000</td>\n",
              "      <td>116.500000</td>\n",
              "      <td>106243800.0</td>\n",
              "      <td>3.480003</td>\n",
              "      <td>-38468200.0</td>\n",
              "      <td>3.079104</td>\n",
              "      <td>True</td>\n",
              "    </tr>\n",
              "  </tbody>\n",
              "</table>\n",
              "</div>"
            ],
            "text/plain": [
              "             Date        Open  ...  Percentage_Change  Up_Down\n",
              "10029  2020-09-22  112.680000  ...           1.571581     True\n",
              "10030  2020-09-23  111.620003  ...          -4.194611    False\n",
              "10031  2020-09-24  105.169998  ...           1.026884     True\n",
              "10032  2020-09-25  108.430000  ...           3.751615     True\n",
              "10033  2020-09-28  115.010002  ...           2.386890     True\n",
              "10034  2020-09-29  114.550003  ...          -0.756788    False\n",
              "10035  2020-09-30  113.790001  ...           1.507584     True\n",
              "10036  2020-10-01  117.639999  ...           0.846216     True\n",
              "10037  2020-10-02  112.889999  ...          -3.228019    False\n",
              "10038  2020-10-05  113.910004  ...           3.079104     True\n",
              "\n",
              "[10 rows x 11 columns]"
            ]
          },
          "metadata": {
            "tags": []
          },
          "execution_count": 9
        }
      ]
    },
    {
      "cell_type": "code",
      "metadata": {
        "id": "VlZb9eBWGHAg",
        "outputId": "e4e65c4b-05dd-4dd5-dfd1-06ab678c2d42",
        "colab": {
          "base_uri": "https://localhost:8080/",
          "height": 328
        }
      },
      "source": [
        "df.corr()"
      ],
      "execution_count": 10,
      "outputs": [
        {
          "output_type": "execute_result",
          "data": {
            "text/html": [
              "<div>\n",
              "<style scoped>\n",
              "    .dataframe tbody tr th:only-of-type {\n",
              "        vertical-align: middle;\n",
              "    }\n",
              "\n",
              "    .dataframe tbody tr th {\n",
              "        vertical-align: top;\n",
              "    }\n",
              "\n",
              "    .dataframe thead th {\n",
              "        text-align: right;\n",
              "    }\n",
              "</style>\n",
              "<table border=\"1\" class=\"dataframe\">\n",
              "  <thead>\n",
              "    <tr style=\"text-align: right;\">\n",
              "      <th></th>\n",
              "      <th>Open</th>\n",
              "      <th>High</th>\n",
              "      <th>Low</th>\n",
              "      <th>Close</th>\n",
              "      <th>Adj Close</th>\n",
              "      <th>Volume</th>\n",
              "      <th>Price_Change</th>\n",
              "      <th>Volume_Change</th>\n",
              "      <th>Percentage_Change</th>\n",
              "    </tr>\n",
              "  </thead>\n",
              "  <tbody>\n",
              "    <tr>\n",
              "      <th>Open</th>\n",
              "      <td>1.000000</td>\n",
              "      <td>0.999925</td>\n",
              "      <td>0.999890</td>\n",
              "      <td>0.999834</td>\n",
              "      <td>0.999037</td>\n",
              "      <td>-0.142985</td>\n",
              "      <td>0.073012</td>\n",
              "      <td>0.000022</td>\n",
              "      <td>0.006152</td>\n",
              "    </tr>\n",
              "    <tr>\n",
              "      <th>High</th>\n",
              "      <td>0.999925</td>\n",
              "      <td>1.000000</td>\n",
              "      <td>0.999850</td>\n",
              "      <td>0.999906</td>\n",
              "      <td>0.999188</td>\n",
              "      <td>-0.142030</td>\n",
              "      <td>0.077058</td>\n",
              "      <td>0.000334</td>\n",
              "      <td>0.007697</td>\n",
              "    </tr>\n",
              "    <tr>\n",
              "      <th>Low</th>\n",
              "      <td>0.999890</td>\n",
              "      <td>0.999850</td>\n",
              "      <td>1.000000</td>\n",
              "      <td>0.999909</td>\n",
              "      <td>0.999049</td>\n",
              "      <td>-0.144600</td>\n",
              "      <td>0.079281</td>\n",
              "      <td>-0.000604</td>\n",
              "      <td>0.008238</td>\n",
              "    </tr>\n",
              "    <tr>\n",
              "      <th>Close</th>\n",
              "      <td>0.999834</td>\n",
              "      <td>0.999906</td>\n",
              "      <td>0.999909</td>\n",
              "      <td>1.000000</td>\n",
              "      <td>0.999224</td>\n",
              "      <td>-0.143333</td>\n",
              "      <td>0.086221</td>\n",
              "      <td>-0.000235</td>\n",
              "      <td>0.010396</td>\n",
              "    </tr>\n",
              "    <tr>\n",
              "      <th>Adj Close</th>\n",
              "      <td>0.999037</td>\n",
              "      <td>0.999188</td>\n",
              "      <td>0.999049</td>\n",
              "      <td>0.999224</td>\n",
              "      <td>1.000000</td>\n",
              "      <td>-0.150070</td>\n",
              "      <td>0.087418</td>\n",
              "      <td>-0.000218</td>\n",
              "      <td>0.010495</td>\n",
              "    </tr>\n",
              "    <tr>\n",
              "      <th>Volume</th>\n",
              "      <td>-0.142985</td>\n",
              "      <td>-0.142030</td>\n",
              "      <td>-0.144600</td>\n",
              "      <td>-0.143333</td>\n",
              "      <td>-0.150070</td>\n",
              "      <td>1.000000</td>\n",
              "      <td>-0.024280</td>\n",
              "      <td>0.331483</td>\n",
              "      <td>0.000149</td>\n",
              "    </tr>\n",
              "    <tr>\n",
              "      <th>Price_Change</th>\n",
              "      <td>0.073012</td>\n",
              "      <td>0.077058</td>\n",
              "      <td>0.079281</td>\n",
              "      <td>0.086221</td>\n",
              "      <td>0.087418</td>\n",
              "      <td>-0.024280</td>\n",
              "      <td>1.000000</td>\n",
              "      <td>-0.022605</td>\n",
              "      <td>0.304645</td>\n",
              "    </tr>\n",
              "    <tr>\n",
              "      <th>Volume_Change</th>\n",
              "      <td>0.000022</td>\n",
              "      <td>0.000334</td>\n",
              "      <td>-0.000604</td>\n",
              "      <td>-0.000235</td>\n",
              "      <td>-0.000218</td>\n",
              "      <td>0.331483</td>\n",
              "      <td>-0.022605</td>\n",
              "      <td>1.000000</td>\n",
              "      <td>-0.009897</td>\n",
              "    </tr>\n",
              "    <tr>\n",
              "      <th>Percentage_Change</th>\n",
              "      <td>0.006152</td>\n",
              "      <td>0.007697</td>\n",
              "      <td>0.008238</td>\n",
              "      <td>0.010396</td>\n",
              "      <td>0.010495</td>\n",
              "      <td>0.000149</td>\n",
              "      <td>0.304645</td>\n",
              "      <td>-0.009897</td>\n",
              "      <td>1.000000</td>\n",
              "    </tr>\n",
              "  </tbody>\n",
              "</table>\n",
              "</div>"
            ],
            "text/plain": [
              "                       Open      High  ...  Volume_Change  Percentage_Change\n",
              "Open               1.000000  0.999925  ...       0.000022           0.006152\n",
              "High               0.999925  1.000000  ...       0.000334           0.007697\n",
              "Low                0.999890  0.999850  ...      -0.000604           0.008238\n",
              "Close              0.999834  0.999906  ...      -0.000235           0.010396\n",
              "Adj Close          0.999037  0.999188  ...      -0.000218           0.010495\n",
              "Volume            -0.142985 -0.142030  ...       0.331483           0.000149\n",
              "Price_Change       0.073012  0.077058  ...      -0.022605           0.304645\n",
              "Volume_Change      0.000022  0.000334  ...       1.000000          -0.009897\n",
              "Percentage_Change  0.006152  0.007697  ...      -0.009897           1.000000\n",
              "\n",
              "[9 rows x 9 columns]"
            ]
          },
          "metadata": {
            "tags": []
          },
          "execution_count": 10
        }
      ]
    },
    {
      "cell_type": "code",
      "metadata": {
        "id": "ASAyVfaFIuyw",
        "outputId": "b0567cad-13e3-4a00-b2ef-7dbe38e4d4db",
        "colab": {
          "base_uri": "https://localhost:8080/",
          "height": 280
        }
      },
      "source": [
        "# Import seaborn and matplotlib with the standard aliases\n",
        "import seaborn as sns\n",
        "import matplotlib.pyplot as plt\n",
        "\n",
        "# Load the example penguins dataset\n",
        "aapl = df\n",
        "\n",
        "# Create a \"regplot\"\n",
        "sns.regplot(x=\"Price_Change\", y=\"Close\", data=aapl, fit_reg=True)\n",
        "plt.savefig('penguin_reg.png', transparent=False, dpi=100)\n",
        "plt.show()"
      ],
      "execution_count": 11,
      "outputs": [
        {
          "output_type": "display_data",
          "data": {
            "image/png": "[encoded data removed]",
            "text/plain": [
              "<Figure size 432x288 with 1 Axes>"
            ]
          },
          "metadata": {
            "tags": [],
            "needs_background": "light"
          }
        }
      ]
    },
    {
      "cell_type": "code",
      "metadata": {
        "id": "6XirjkjpHV_X"
      },
      "source": [
        "target = 'Close'\n",
        "\n",
        "X = df.drop([target,'Date'],axis=1)\n",
        "\n",
        "y = df[target]\n"
      ],
      "execution_count": 12,
      "outputs": []
    },
    {
      "cell_type": "code",
      "metadata": {
        "id": "DbrsB15VXinR",
        "outputId": "cab8f301-f793-40f6-d427-cb83d7e99c81",
        "colab": {
          "base_uri": "https://localhost:8080/"
        }
      },
      "source": [
        "X.shape, y.shape"
      ],
      "execution_count": 13,
      "outputs": [
        {
          "output_type": "execute_result",
          "data": {
            "text/plain": [
              "((10036, 9), (10036,))"
            ]
          },
          "metadata": {
            "tags": []
          },
          "execution_count": 13
        }
      ]
    },
    {
      "cell_type": "code",
      "metadata": {
        "id": "20fpC4vIY4n-",
        "outputId": "28d7e3e8-65a2-4277-8be9-8b2493c2e7b7",
        "colab": {
          "base_uri": "https://localhost:8080/"
        }
      },
      "source": [
        "# Import the predictor class\n",
        "from sklearn.linear_model import LinearRegression\n",
        "\n",
        "# Instantiate the class (with default parameters)\n",
        "model = LinearRegression()\n",
        "\n",
        "# Dispay the model parameters\n",
        "model"
      ],
      "execution_count": 14,
      "outputs": [
        {
          "output_type": "execute_result",
          "data": {
            "text/plain": [
              "LinearRegression(copy_X=True, fit_intercept=True, n_jobs=None, normalize=False)"
            ]
          },
          "metadata": {
            "tags": []
          },
          "execution_count": 14
        }
      ]
    },
    {
      "cell_type": "code",
      "metadata": {
        "id": "Yx5iynMAZToa",
        "outputId": "78429be4-6cff-461a-c4fb-a15818e2e175",
        "colab": {
          "base_uri": "https://localhost:8080/"
        }
      },
      "source": [
        "# Fit the model\n",
        "model.fit(X, y)"
      ],
      "execution_count": 15,
      "outputs": [
        {
          "output_type": "execute_result",
          "data": {
            "text/plain": [
              "LinearRegression(copy_X=True, fit_intercept=True, n_jobs=None, normalize=False)"
            ]
          },
          "metadata": {
            "tags": []
          },
          "execution_count": 15
        }
      ]
    },
    {
      "cell_type": "code",
      "metadata": {
        "id": "bKAJvFMHaj2e",
        "outputId": "ab5097b4-97e4-41a0-8bcc-87e5fe7757a4",
        "colab": {
          "base_uri": "https://localhost:8080/"
        }
      },
      "source": [
        "# Slope (also called the model coefficient)\n",
        "print(model.coef_)\n",
        "\n",
        "# Intercept\n",
        "print(model.intercept_)\n",
        "\n",
        "# In equation form\n",
        "print(f'\\nbody_mass_g = {model.coef_[0]} x flipper_length_mm + ({model.intercept_})')"
      ],
      "execution_count": 16,
      "outputs": [
        {
          "output_type": "stream",
          "text": [
            "[-1.75454283e-01  6.19628146e-01  5.31267033e-01  2.41782482e-02\n",
            "  8.86812845e-12  2.84418385e-01 -1.69873637e-12 -1.45363021e-03\n",
            "  8.10601275e-03]\n",
            "0.0014135130943913055\n",
            "\n",
            "body_mass_g = -0.1754542833150572 x flipper_length_mm + (0.0014135130943913055)\n"
          ],
          "name": "stdout"
        }
      ]
    },
    {
      "cell_type": "code",
      "metadata": {
        "id": "M0X8emnVbacj",
        "outputId": "d0a9753c-9636-4a74-d034-3e6d60e0c7fa",
        "colab": {
          "base_uri": "https://localhost:8080/"
        }
      },
      "source": [
        "# Import the feature selector utility\n",
        "from sklearn.feature_selection import SelectKBest, f_regression\n",
        "\n",
        "# Create the selector object with the best k=1 features\n",
        "selector = SelectKBest(score_func=f_regression, k=3)\n",
        "\n",
        "# Run the selector on the training data\n",
        "X_train_selected = selector.fit_transform(X, y)\n",
        "\n",
        "# Find the features that was selected\n",
        "selected_mask = selector.get_support()\n",
        "all_features = X.columns\n",
        "selected_feature = all_features[selected_mask]\n",
        "\n",
        "print('The selected feature: ', selected_feature)"
      ],
      "execution_count": 17,
      "outputs": [
        {
          "output_type": "stream",
          "text": [
            "The selected feature:  Index(['Open', 'High', 'Low'], dtype='object')\n"
          ],
          "name": "stdout"
        }
      ]
    },
    {
      "cell_type": "code",
      "metadata": {
        "id": "oXkmA6pJblkh"
      },
      "source": [
        ""
      ],
      "execution_count": 17,
      "outputs": []
    },
    {
      "cell_type": "code",
      "metadata": {
        "id": "eQ1bFNvmcOnB",
        "outputId": "fa2ee1d9-68f6-4c55-9dae-1c5716e00ecc",
        "colab": {
          "base_uri": "https://localhost:8080/"
        }
      },
      "source": [
        "df['Price_Change']"
      ],
      "execution_count": 18,
      "outputs": [
        {
          "output_type": "execute_result",
          "data": {
            "text/plain": [
              "1       -0.006696\n",
              "2       -0.008929\n",
              "3        0.002790\n",
              "4        0.003349\n",
              "5        0.007254\n",
              "           ...   \n",
              "10034   -0.870003\n",
              "10035    1.720002\n",
              "10036    0.980003\n",
              "10037   -3.770004\n",
              "10038    3.480003\n",
              "Name: Price_Change, Length: 10036, dtype: float64"
            ]
          },
          "metadata": {
            "tags": []
          },
          "execution_count": 18
        }
      ]
    },
    {
      "cell_type": "code",
      "metadata": {
        "id": "Tw_ooNZtdbc_",
        "outputId": "21b71cd7-8c41-4378-ea5c-d080e30e063e",
        "colab": {
          "base_uri": "https://localhost:8080/",
          "height": 204
        }
      },
      "source": [
        "df.head()"
      ],
      "execution_count": 19,
      "outputs": [
        {
          "output_type": "execute_result",
          "data": {
            "text/html": [
              "<div>\n",
              "<style scoped>\n",
              "    .dataframe tbody tr th:only-of-type {\n",
              "        vertical-align: middle;\n",
              "    }\n",
              "\n",
              "    .dataframe tbody tr th {\n",
              "        vertical-align: top;\n",
              "    }\n",
              "\n",
              "    .dataframe thead th {\n",
              "        text-align: right;\n",
              "    }\n",
              "</style>\n",
              "<table border=\"1\" class=\"dataframe\">\n",
              "  <thead>\n",
              "    <tr style=\"text-align: right;\">\n",
              "      <th></th>\n",
              "      <th>Date</th>\n",
              "      <th>Open</th>\n",
              "      <th>High</th>\n",
              "      <th>Low</th>\n",
              "      <th>Close</th>\n",
              "      <th>Adj Close</th>\n",
              "      <th>Volume</th>\n",
              "      <th>Price_Change</th>\n",
              "      <th>Volume_Change</th>\n",
              "      <th>Percentage_Change</th>\n",
              "      <th>Up_Down</th>\n",
              "    </tr>\n",
              "  </thead>\n",
              "  <tbody>\n",
              "    <tr>\n",
              "      <th>1</th>\n",
              "      <td>1980-12-15</td>\n",
              "      <td>0.122210</td>\n",
              "      <td>0.122210</td>\n",
              "      <td>0.121652</td>\n",
              "      <td>0.121652</td>\n",
              "      <td>0.095978</td>\n",
              "      <td>175884800.0</td>\n",
              "      <td>-0.006696</td>\n",
              "      <td>-293148800.0</td>\n",
              "      <td>-5.217066</td>\n",
              "      <td>False</td>\n",
              "    </tr>\n",
              "    <tr>\n",
              "      <th>2</th>\n",
              "      <td>1980-12-16</td>\n",
              "      <td>0.113281</td>\n",
              "      <td>0.113281</td>\n",
              "      <td>0.112723</td>\n",
              "      <td>0.112723</td>\n",
              "      <td>0.088934</td>\n",
              "      <td>105728000.0</td>\n",
              "      <td>-0.008929</td>\n",
              "      <td>-70156800.0</td>\n",
              "      <td>-7.339789</td>\n",
              "      <td>False</td>\n",
              "    </tr>\n",
              "    <tr>\n",
              "      <th>3</th>\n",
              "      <td>1980-12-17</td>\n",
              "      <td>0.115513</td>\n",
              "      <td>0.116071</td>\n",
              "      <td>0.115513</td>\n",
              "      <td>0.115513</td>\n",
              "      <td>0.091135</td>\n",
              "      <td>86441600.0</td>\n",
              "      <td>0.002790</td>\n",
              "      <td>-19286400.0</td>\n",
              "      <td>2.475094</td>\n",
              "      <td>True</td>\n",
              "    </tr>\n",
              "    <tr>\n",
              "      <th>4</th>\n",
              "      <td>1980-12-18</td>\n",
              "      <td>0.118862</td>\n",
              "      <td>0.119420</td>\n",
              "      <td>0.118862</td>\n",
              "      <td>0.118862</td>\n",
              "      <td>0.093777</td>\n",
              "      <td>73449600.0</td>\n",
              "      <td>0.003349</td>\n",
              "      <td>-12992000.0</td>\n",
              "      <td>2.899241</td>\n",
              "      <td>True</td>\n",
              "    </tr>\n",
              "    <tr>\n",
              "      <th>5</th>\n",
              "      <td>1980-12-19</td>\n",
              "      <td>0.126116</td>\n",
              "      <td>0.126674</td>\n",
              "      <td>0.126116</td>\n",
              "      <td>0.126116</td>\n",
              "      <td>0.099500</td>\n",
              "      <td>48630400.0</td>\n",
              "      <td>0.007254</td>\n",
              "      <td>-24819200.0</td>\n",
              "      <td>6.102876</td>\n",
              "      <td>True</td>\n",
              "    </tr>\n",
              "  </tbody>\n",
              "</table>\n",
              "</div>"
            ],
            "text/plain": [
              "         Date      Open      High  ...  Volume_Change  Percentage_Change  Up_Down\n",
              "1  1980-12-15  0.122210  0.122210  ...   -293148800.0          -5.217066    False\n",
              "2  1980-12-16  0.113281  0.113281  ...    -70156800.0          -7.339789    False\n",
              "3  1980-12-17  0.115513  0.116071  ...    -19286400.0           2.475094     True\n",
              "4  1980-12-18  0.118862  0.119420  ...    -12992000.0           2.899241     True\n",
              "5  1980-12-19  0.126116  0.126674  ...    -24819200.0           6.102876     True\n",
              "\n",
              "[5 rows x 11 columns]"
            ]
          },
          "metadata": {
            "tags": []
          },
          "execution_count": 19
        }
      ]
    },
    {
      "cell_type": "code",
      "metadata": {
        "id": "F1k4TKaAdc1O"
      },
      "source": [
        ""
      ],
      "execution_count": 19,
      "outputs": []
    },
    {
      "cell_type": "code",
      "metadata": {
        "id": "dFZZrRpjdoRK"
      },
      "source": [
        ""
      ],
      "execution_count": 19,
      "outputs": []
    }
  ]
}