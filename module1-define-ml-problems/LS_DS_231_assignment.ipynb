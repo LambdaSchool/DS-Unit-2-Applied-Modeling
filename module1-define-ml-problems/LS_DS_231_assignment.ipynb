{
  "nbformat": 4,
  "nbformat_minor": 0,
  "metadata": {
    "colab": {
      "name": "LS_DS_231_assignment.ipynb",
      "provenance": []
    },
    "kernelspec": {
      "display_name": "Python 3",
      "language": "python",
      "name": "python3"
    },
    "language_info": {
      "codemirror_mode": {
        "name": "ipython",
        "version": 3
      },
      "file_extension": ".py",
      "mimetype": "text/x-python",
      "name": "python",
      "nbconvert_exporter": "python",
      "pygments_lexer": "ipython3",
      "version": "3.8.2"
    }
  },
  "cells": [
    {
      "cell_type": "markdown",
      "metadata": {
        "id": "nCc3XZEyG3XV"
      },
      "source": [
        "Lambda School Data Science\n",
        "\n",
        "*Unit 2, Sprint 3, Module 1*\n",
        "\n",
        "---\n",
        "\n",
        "\n",
        "# Define ML problems\n",
        "\n",
        "You will use your portfolio project dataset for all assignments this sprint.\n",
        "\n",
        "## Assignment\n",
        "\n",
        "Complete these tasks for your project, and document your decisions.\n",
        "\n",
        "- [ ] Choose your target. Which column in your tabular dataset will you predict?\n",
        "- [ ] Is your problem regression or classification?\n",
        "- [ ] How is your target distributed?\n",
        "    - Classification: How many classes? Are the classes imbalanced?\n",
        "    - Regression: Is the target right-skewed? If so, you may want to log transform the target.\n",
        "- [ ] Choose your evaluation metric(s).\n",
        "    - Classification: Is your majority class frequency >= 50% and < 70% ? If so, you can just use accuracy if you want. Outside that range, accuracy could be misleading. What evaluation metric will you choose, in addition to or instead of accuracy?\n",
        "    - Regression: Will you use mean absolute error, root mean squared error, R^2, or other regression metrics?\n",
        "- [ ] Choose which observations you will use to train, validate, and test your model.\n",
        "    - Are some observations outliers? Will you exclude them?\n",
        "    - Will you do a random split or a time-based split?\n",
        "- [ ] Begin to clean and explore your data.\n",
        "- [ ] Begin to choose which features, if any, to exclude. Would some features \"leak\" future information?\n",
        "\n",
        "If you haven't found a dataset yet, do that today. [Review requirements for your portfolio project](https://lambdaschool.github.io/ds/unit2) and choose your dataset.\n",
        "\n",
        "Some students worry, ***what if my model isn't “good”?*** Then, [produce a detailed tribute to your wrongness. That is science!](https://twitter.com/nathanwpyle/status/1176860147223867393)"
      ]
    },
    {
      "cell_type": "code",
      "metadata": {
        "id": "xlHn9ubzBlbc"
      },
      "source": [
        "import numpy as np\n",
        "import pandas as pd"
      ],
      "execution_count": 1,
      "outputs": []
    },
    {
      "cell_type": "code",
      "metadata": {
        "id": "04-y_32FBpUO"
      },
      "source": [
        "# Load the data from github\n",
        "url = 'https://raw.githubusercontent.com/laguz/stock_csv/master/AAPL.csv'\n",
        "df = pd.read_csv(url)"
      ],
      "execution_count": 22,
      "outputs": []
    },
    {
      "cell_type": "code",
      "metadata": {
        "id": "n_Gs4pyFFrrl",
        "outputId": "a114fa51-c185-43f0-c6b6-faec78b1c68a",
        "colab": {
          "base_uri": "https://localhost:8080/",
          "height": 204
        }
      },
      "source": [
        "# Take a look at the data\n",
        "df.head()"
      ],
      "execution_count": 44,
      "outputs": [
        {
          "output_type": "execute_result",
          "data": {
            "text/html": [
              "<div>\n",
              "<style scoped>\n",
              "    .dataframe tbody tr th:only-of-type {\n",
              "        vertical-align: middle;\n",
              "    }\n",
              "\n",
              "    .dataframe tbody tr th {\n",
              "        vertical-align: top;\n",
              "    }\n",
              "\n",
              "    .dataframe thead th {\n",
              "        text-align: right;\n",
              "    }\n",
              "</style>\n",
              "<table border=\"1\" class=\"dataframe\">\n",
              "  <thead>\n",
              "    <tr style=\"text-align: right;\">\n",
              "      <th></th>\n",
              "      <th>Date</th>\n",
              "      <th>Open</th>\n",
              "      <th>High</th>\n",
              "      <th>Low</th>\n",
              "      <th>Close</th>\n",
              "      <th>Adj Close</th>\n",
              "      <th>Volume</th>\n",
              "      <th>Price_Change</th>\n",
              "      <th>Volume_Change</th>\n",
              "      <th>Percentage_Change</th>\n",
              "      <th>Up_Down</th>\n",
              "    </tr>\n",
              "  </thead>\n",
              "  <tbody>\n",
              "    <tr>\n",
              "      <th>1</th>\n",
              "      <td>1980-12-15</td>\n",
              "      <td>0.122210</td>\n",
              "      <td>0.122210</td>\n",
              "      <td>0.121652</td>\n",
              "      <td>0.121652</td>\n",
              "      <td>0.095978</td>\n",
              "      <td>175884800.0</td>\n",
              "      <td>-0.006696</td>\n",
              "      <td>-293148800.0</td>\n",
              "      <td>-5.217066</td>\n",
              "      <td>0.0</td>\n",
              "    </tr>\n",
              "    <tr>\n",
              "      <th>2</th>\n",
              "      <td>1980-12-16</td>\n",
              "      <td>0.113281</td>\n",
              "      <td>0.113281</td>\n",
              "      <td>0.112723</td>\n",
              "      <td>0.112723</td>\n",
              "      <td>0.088934</td>\n",
              "      <td>105728000.0</td>\n",
              "      <td>-0.008929</td>\n",
              "      <td>-70156800.0</td>\n",
              "      <td>-7.339789</td>\n",
              "      <td>0.0</td>\n",
              "    </tr>\n",
              "    <tr>\n",
              "      <th>3</th>\n",
              "      <td>1980-12-17</td>\n",
              "      <td>0.115513</td>\n",
              "      <td>0.116071</td>\n",
              "      <td>0.115513</td>\n",
              "      <td>0.115513</td>\n",
              "      <td>0.091135</td>\n",
              "      <td>86441600.0</td>\n",
              "      <td>0.002790</td>\n",
              "      <td>-19286400.0</td>\n",
              "      <td>2.475094</td>\n",
              "      <td>1.0</td>\n",
              "    </tr>\n",
              "    <tr>\n",
              "      <th>4</th>\n",
              "      <td>1980-12-18</td>\n",
              "      <td>0.118862</td>\n",
              "      <td>0.119420</td>\n",
              "      <td>0.118862</td>\n",
              "      <td>0.118862</td>\n",
              "      <td>0.093777</td>\n",
              "      <td>73449600.0</td>\n",
              "      <td>0.003349</td>\n",
              "      <td>-12992000.0</td>\n",
              "      <td>2.899241</td>\n",
              "      <td>1.0</td>\n",
              "    </tr>\n",
              "    <tr>\n",
              "      <th>5</th>\n",
              "      <td>1980-12-19</td>\n",
              "      <td>0.126116</td>\n",
              "      <td>0.126674</td>\n",
              "      <td>0.126116</td>\n",
              "      <td>0.126116</td>\n",
              "      <td>0.099500</td>\n",
              "      <td>48630400.0</td>\n",
              "      <td>0.007254</td>\n",
              "      <td>-24819200.0</td>\n",
              "      <td>6.102876</td>\n",
              "      <td>1.0</td>\n",
              "    </tr>\n",
              "  </tbody>\n",
              "</table>\n",
              "</div>"
            ],
            "text/plain": [
              "         Date      Open      High  ...  Volume_Change  Percentage_Change  Up_Down\n",
              "1  1980-12-15  0.122210  0.122210  ...   -293148800.0          -5.217066      0.0\n",
              "2  1980-12-16  0.113281  0.113281  ...    -70156800.0          -7.339789      0.0\n",
              "3  1980-12-17  0.115513  0.116071  ...    -19286400.0           2.475094      1.0\n",
              "4  1980-12-18  0.118862  0.119420  ...    -12992000.0           2.899241      1.0\n",
              "5  1980-12-19  0.126116  0.126674  ...    -24819200.0           6.102876      1.0\n",
              "\n",
              "[5 rows x 11 columns]"
            ]
          },
          "metadata": {
            "tags": []
          },
          "execution_count": 44
        }
      ]
    },
    {
      "cell_type": "code",
      "metadata": {
        "id": "tyWTWrYUF12o"
      },
      "source": [
        "# Add the price change feature\n",
        "df['Price_Change'] = df['Close'] - df['Close'].shift(1)"
      ],
      "execution_count": 25,
      "outputs": []
    },
    {
      "cell_type": "code",
      "metadata": {
        "id": "QQ0LZRIfxB6Z"
      },
      "source": [
        "# Add the price change feature\n",
        "df['Volume_Change'] = df['Volume'] - df['Volume'].shift(1)"
      ],
      "execution_count": 26,
      "outputs": []
    },
    {
      "cell_type": "code",
      "metadata": {
        "id": "rbAJMWjxxCCs"
      },
      "source": [
        "# Add the price change feature\n",
        "df['Percentage_Change'] = (((df['Close'] / df['Close'].shift(1))-1)*100)"
      ],
      "execution_count": 27,
      "outputs": []
    },
    {
      "cell_type": "code",
      "metadata": {
        "id": "0vRQNBqSaVSO"
      },
      "source": [
        "# Drop the any create from the three features from above\n",
        "df.dropna(how='any', inplace=True)"
      ],
      "execution_count": 28,
      "outputs": []
    },
    {
      "cell_type": "code",
      "metadata": {
        "id": "_KsMVQ2icbu8",
        "outputId": "f5e9ff41-a5f6-4577-d143-85c120993833",
        "colab": {
          "base_uri": "https://localhost:8080/",
          "height": 68
        }
      },
      "source": [
        "# Create the target feature to predict.\n",
        "# I want to know if the market up or down.\n",
        "df.loc[df['Price_Change'] >= 0, 'Up_Down'] = 1\n",
        "df.loc[df['Price_Change'] < 0, 'Up_Down'] = 0\n",
        "df['Up_Down'].value_counts(normalize=True)"
      ],
      "execution_count": 39,
      "outputs": [
        {
          "output_type": "execute_result",
          "data": {
            "text/plain": [
              "1.0    0.532284\n",
              "0.0    0.467716\n",
              "Name: Up_Down, dtype: float64"
            ]
          },
          "metadata": {
            "tags": []
          },
          "execution_count": 39
        }
      ]
    },
    {
      "cell_type": "code",
      "metadata": {
        "id": "38Ahsz1hfCMV"
      },
      "source": [
        "# Choose your target. Which column in your tabular dataset will you predict?\n",
        "# I will predict Up_Down"
      ],
      "execution_count": null,
      "outputs": []
    },
    {
      "cell_type": "code",
      "metadata": {
        "id": "tYC2g8ENfCXS"
      },
      "source": [
        "# Is your problem regression or classification?\n",
        "# It will be a regression"
      ],
      "execution_count": null,
      "outputs": []
    },
    {
      "cell_type": "code",
      "metadata": {
        "id": "XZaRFgjifCiD"
      },
      "source": [
        "# How is your target distributed?\n",
        "# The majority class frequency is 53%"
      ],
      "execution_count": null,
      "outputs": []
    },
    {
      "cell_type": "code",
      "metadata": {
        "id": "zZrwggbFh1by"
      },
      "source": [
        "# My evaluation metrics.\n",
        "# Accuracy and Mean Absolute Error"
      ],
      "execution_count": null,
      "outputs": []
    },
    {
      "cell_type": "code",
      "metadata": {
        "id": "qbfTYbG0iwFQ"
      },
      "source": [
        "# I will train from 1980 to 2004, validate from 2005 to 2014, and test from 2015 to 2019\n",
        "# I will do time base split."
      ],
      "execution_count": null,
      "outputs": []
    },
    {
      "cell_type": "code",
      "metadata": {
        "id": "O_ZYFtNgjmey"
      },
      "source": [
        "####################### Fisnish retro 1 ####################"
      ],
      "execution_count": null,
      "outputs": []
    },
    {
      "cell_type": "code",
      "metadata": {
        "id": "P3pRLof2juAF"
      },
      "source": [
        "####################### Start retro 2 ####################"
      ],
      "execution_count": null,
      "outputs": []
    },
    {
      "cell_type": "code",
      "metadata": {
        "id": "VlZb9eBWGHAg",
        "outputId": "3b8111cd-be24-4387-b403-5790e6a6268e",
        "colab": {
          "base_uri": "https://localhost:8080/",
          "height": 359
        }
      },
      "source": [
        "df.corr()"
      ],
      "execution_count": 38,
      "outputs": [
        {
          "output_type": "execute_result",
          "data": {
            "text/html": [
              "<div>\n",
              "<style scoped>\n",
              "    .dataframe tbody tr th:only-of-type {\n",
              "        vertical-align: middle;\n",
              "    }\n",
              "\n",
              "    .dataframe tbody tr th {\n",
              "        vertical-align: top;\n",
              "    }\n",
              "\n",
              "    .dataframe thead th {\n",
              "        text-align: right;\n",
              "    }\n",
              "</style>\n",
              "<table border=\"1\" class=\"dataframe\">\n",
              "  <thead>\n",
              "    <tr style=\"text-align: right;\">\n",
              "      <th></th>\n",
              "      <th>Open</th>\n",
              "      <th>High</th>\n",
              "      <th>Low</th>\n",
              "      <th>Close</th>\n",
              "      <th>Adj Close</th>\n",
              "      <th>Volume</th>\n",
              "      <th>Price_Change</th>\n",
              "      <th>Volume_Change</th>\n",
              "      <th>Percentage_Change</th>\n",
              "      <th>Up_Down</th>\n",
              "    </tr>\n",
              "  </thead>\n",
              "  <tbody>\n",
              "    <tr>\n",
              "      <th>Open</th>\n",
              "      <td>1.000000</td>\n",
              "      <td>0.999925</td>\n",
              "      <td>0.999890</td>\n",
              "      <td>0.999834</td>\n",
              "      <td>0.999037</td>\n",
              "      <td>-0.142985</td>\n",
              "      <td>0.073012</td>\n",
              "      <td>0.000022</td>\n",
              "      <td>0.006152</td>\n",
              "      <td>0.006974</td>\n",
              "    </tr>\n",
              "    <tr>\n",
              "      <th>High</th>\n",
              "      <td>0.999925</td>\n",
              "      <td>1.000000</td>\n",
              "      <td>0.999850</td>\n",
              "      <td>0.999906</td>\n",
              "      <td>0.999188</td>\n",
              "      <td>-0.142030</td>\n",
              "      <td>0.077058</td>\n",
              "      <td>0.000334</td>\n",
              "      <td>0.007697</td>\n",
              "      <td>0.008775</td>\n",
              "    </tr>\n",
              "    <tr>\n",
              "      <th>Low</th>\n",
              "      <td>0.999890</td>\n",
              "      <td>0.999850</td>\n",
              "      <td>1.000000</td>\n",
              "      <td>0.999909</td>\n",
              "      <td>0.999049</td>\n",
              "      <td>-0.144600</td>\n",
              "      <td>0.079281</td>\n",
              "      <td>-0.000604</td>\n",
              "      <td>0.008238</td>\n",
              "      <td>0.009581</td>\n",
              "    </tr>\n",
              "    <tr>\n",
              "      <th>Close</th>\n",
              "      <td>0.999834</td>\n",
              "      <td>0.999906</td>\n",
              "      <td>0.999909</td>\n",
              "      <td>1.000000</td>\n",
              "      <td>0.999224</td>\n",
              "      <td>-0.143333</td>\n",
              "      <td>0.086221</td>\n",
              "      <td>-0.000235</td>\n",
              "      <td>0.010396</td>\n",
              "      <td>0.011715</td>\n",
              "    </tr>\n",
              "    <tr>\n",
              "      <th>Adj Close</th>\n",
              "      <td>0.999037</td>\n",
              "      <td>0.999188</td>\n",
              "      <td>0.999049</td>\n",
              "      <td>0.999224</td>\n",
              "      <td>1.000000</td>\n",
              "      <td>-0.150070</td>\n",
              "      <td>0.087418</td>\n",
              "      <td>-0.000218</td>\n",
              "      <td>0.010495</td>\n",
              "      <td>0.012193</td>\n",
              "    </tr>\n",
              "    <tr>\n",
              "      <th>Volume</th>\n",
              "      <td>-0.142985</td>\n",
              "      <td>-0.142030</td>\n",
              "      <td>-0.144600</td>\n",
              "      <td>-0.143333</td>\n",
              "      <td>-0.150070</td>\n",
              "      <td>1.000000</td>\n",
              "      <td>-0.024280</td>\n",
              "      <td>0.331483</td>\n",
              "      <td>0.000149</td>\n",
              "      <td>0.000723</td>\n",
              "    </tr>\n",
              "    <tr>\n",
              "      <th>Price_Change</th>\n",
              "      <td>0.073012</td>\n",
              "      <td>0.077058</td>\n",
              "      <td>0.079281</td>\n",
              "      <td>0.086221</td>\n",
              "      <td>0.087418</td>\n",
              "      <td>-0.024280</td>\n",
              "      <td>1.000000</td>\n",
              "      <td>-0.022605</td>\n",
              "      <td>0.304645</td>\n",
              "      <td>0.290182</td>\n",
              "    </tr>\n",
              "    <tr>\n",
              "      <th>Volume_Change</th>\n",
              "      <td>0.000022</td>\n",
              "      <td>0.000334</td>\n",
              "      <td>-0.000604</td>\n",
              "      <td>-0.000235</td>\n",
              "      <td>-0.000218</td>\n",
              "      <td>0.331483</td>\n",
              "      <td>-0.022605</td>\n",
              "      <td>1.000000</td>\n",
              "      <td>-0.009897</td>\n",
              "      <td>0.018325</td>\n",
              "    </tr>\n",
              "    <tr>\n",
              "      <th>Percentage_Change</th>\n",
              "      <td>0.006152</td>\n",
              "      <td>0.007697</td>\n",
              "      <td>0.008238</td>\n",
              "      <td>0.010396</td>\n",
              "      <td>0.010495</td>\n",
              "      <td>0.000149</td>\n",
              "      <td>0.304645</td>\n",
              "      <td>-0.009897</td>\n",
              "      <td>1.000000</td>\n",
              "      <td>0.686759</td>\n",
              "    </tr>\n",
              "    <tr>\n",
              "      <th>Up_Down</th>\n",
              "      <td>0.006974</td>\n",
              "      <td>0.008775</td>\n",
              "      <td>0.009581</td>\n",
              "      <td>0.011715</td>\n",
              "      <td>0.012193</td>\n",
              "      <td>0.000723</td>\n",
              "      <td>0.290182</td>\n",
              "      <td>0.018325</td>\n",
              "      <td>0.686759</td>\n",
              "      <td>1.000000</td>\n",
              "    </tr>\n",
              "  </tbody>\n",
              "</table>\n",
              "</div>"
            ],
            "text/plain": [
              "                       Open      High  ...  Percentage_Change   Up_Down\n",
              "Open               1.000000  0.999925  ...           0.006152  0.006974\n",
              "High               0.999925  1.000000  ...           0.007697  0.008775\n",
              "Low                0.999890  0.999850  ...           0.008238  0.009581\n",
              "Close              0.999834  0.999906  ...           0.010396  0.011715\n",
              "Adj Close          0.999037  0.999188  ...           0.010495  0.012193\n",
              "Volume            -0.142985 -0.142030  ...           0.000149  0.000723\n",
              "Price_Change       0.073012  0.077058  ...           0.304645  0.290182\n",
              "Volume_Change      0.000022  0.000334  ...          -0.009897  0.018325\n",
              "Percentage_Change  0.006152  0.007697  ...           1.000000  0.686759\n",
              "Up_Down            0.006974  0.008775  ...           0.686759  1.000000\n",
              "\n",
              "[10 rows x 10 columns]"
            ]
          },
          "metadata": {
            "tags": []
          },
          "execution_count": 38
        }
      ]
    },
    {
      "cell_type": "code",
      "metadata": {
        "id": "v6qtV8ScVHvu",
        "outputId": "e128fc16-013f-4a31-b35b-cb78a1430e1b",
        "colab": {
          "base_uri": "https://localhost:8080/",
          "height": 34
        }
      },
      "source": [
        "df.shape"
      ],
      "execution_count": 40,
      "outputs": [
        {
          "output_type": "execute_result",
          "data": {
            "text/plain": [
              "(10036, 11)"
            ]
          },
          "metadata": {
            "tags": []
          },
          "execution_count": 40
        }
      ]
    },
    {
      "cell_type": "code",
      "metadata": {
        "id": "ASAyVfaFIuyw",
        "outputId": "d776ef2e-e51b-4a56-d405-4897abc7df0c",
        "colab": {
          "base_uri": "https://localhost:8080/",
          "height": 280
        }
      },
      "source": [
        "# Import seaborn and matplotlib with the standard aliases\n",
        "import seaborn as sns\n",
        "import matplotlib.pyplot as plt\n",
        "\n",
        "# Load the example penguins dataset\n",
        "aapl = df\n",
        "\n",
        "# Create a \"regplot\"\n",
        "sns.regplot(x=\"Price_Change\", y=\"Close\", data=aapl, fit_reg=True)\n",
        "plt.savefig('penguin_reg.png', transparent=False, dpi=100)\n",
        "plt.show()"
      ],
      "execution_count": 11,
      "outputs": [
        {
          "output_type": "display_data",
          "data": {
            "image/png": "[encoded data removed]",
            "text/plain": [
              "<Figure size 432x288 with 1 Axes>"
            ]
          },
          "metadata": {
            "tags": [],
            "needs_background": "light"
          }
        }
      ]
    },
    {
      "cell_type": "code",
      "metadata": {
        "id": "6XirjkjpHV_X"
      },
      "source": [
        "target = 'Close'\n",
        "\n",
        "X = df.drop([target,'Date'],axis=1)\n",
        "\n",
        "y = df[target]\n"
      ],
      "execution_count": 12,
      "outputs": []
    },
    {
      "cell_type": "code",
      "metadata": {
        "id": "DbrsB15VXinR",
        "outputId": "15c26d1a-7160-4512-ef79-28dc835c8d7f",
        "colab": {
          "base_uri": "https://localhost:8080/",
          "height": 34
        }
      },
      "source": [
        "X.shape, y.shape"
      ],
      "execution_count": 13,
      "outputs": [
        {
          "output_type": "execute_result",
          "data": {
            "text/plain": [
              "((10036, 9), (10036,))"
            ]
          },
          "metadata": {
            "tags": []
          },
          "execution_count": 13
        }
      ]
    },
    {
      "cell_type": "code",
      "metadata": {
        "id": "20fpC4vIY4n-",
        "outputId": "281272f9-463b-44c2-ece9-250c0c1b4c03",
        "colab": {
          "base_uri": "https://localhost:8080/",
          "height": 34
        }
      },
      "source": [
        "# Import the predictor class\n",
        "from sklearn.linear_model import LinearRegression\n",
        "\n",
        "# Instantiate the class (with default parameters)\n",
        "model = LinearRegression()\n",
        "\n",
        "# Dispay the model parameters\n",
        "model"
      ],
      "execution_count": 14,
      "outputs": [
        {
          "output_type": "execute_result",
          "data": {
            "text/plain": [
              "LinearRegression(copy_X=True, fit_intercept=True, n_jobs=None, normalize=False)"
            ]
          },
          "metadata": {
            "tags": []
          },
          "execution_count": 14
        }
      ]
    },
    {
      "cell_type": "code",
      "metadata": {
        "id": "Yx5iynMAZToa",
        "outputId": "31409724-9daa-4a23-cbad-4fd1cabecb38",
        "colab": {
          "base_uri": "https://localhost:8080/",
          "height": 34
        }
      },
      "source": [
        "# Fit the model\n",
        "model.fit(X, y)"
      ],
      "execution_count": 15,
      "outputs": [
        {
          "output_type": "execute_result",
          "data": {
            "text/plain": [
              "LinearRegression(copy_X=True, fit_intercept=True, n_jobs=None, normalize=False)"
            ]
          },
          "metadata": {
            "tags": []
          },
          "execution_count": 15
        }
      ]
    },
    {
      "cell_type": "code",
      "metadata": {
        "id": "bKAJvFMHaj2e",
        "outputId": "cbc6b753-5277-4ed7-d1e1-d28e59df6390",
        "colab": {
          "base_uri": "https://localhost:8080/",
          "height": 119
        }
      },
      "source": [
        "# Slope (also called the model coefficient)\n",
        "print(model.coef_)\n",
        "\n",
        "# Intercept\n",
        "print(model.intercept_)\n",
        "\n",
        "# In equation form\n",
        "print(f'\\nbody_mass_g = {model.coef_[0]} x flipper_length_mm + ({model.intercept_})')"
      ],
      "execution_count": 16,
      "outputs": [
        {
          "output_type": "stream",
          "text": [
            "[-1.75454283e-01  6.19628146e-01  5.31267033e-01  2.41782482e-02\n",
            "  8.86812845e-12  2.84418385e-01 -1.69873637e-12 -1.45363021e-03\n",
            "  8.10601275e-03]\n",
            "0.0014135130943913055\n",
            "\n",
            "body_mass_g = -0.1754542833150572 x flipper_length_mm + (0.0014135130943913055)\n"
          ],
          "name": "stdout"
        }
      ]
    },
    {
      "cell_type": "code",
      "metadata": {
        "id": "M0X8emnVbacj",
        "outputId": "25f2f585-4a9a-46e7-d051-8c7363e8a07d",
        "colab": {
          "base_uri": "https://localhost:8080/",
          "height": 34
        }
      },
      "source": [
        "# Import the feature selector utility\n",
        "from sklearn.feature_selection import SelectKBest, f_regression\n",
        "\n",
        "# Create the selector object with the best k=1 features\n",
        "selector = SelectKBest(score_func=f_regression, k=3)\n",
        "\n",
        "# Run the selector on the training data\n",
        "X_train_selected = selector.fit_transform(X, y)\n",
        "\n",
        "# Find the features that was selected\n",
        "selected_mask = selector.get_support()\n",
        "all_features = X.columns\n",
        "selected_feature = all_features[selected_mask]\n",
        "\n",
        "print('The selected feature: ', selected_feature)"
      ],
      "execution_count": 17,
      "outputs": [
        {
          "output_type": "stream",
          "text": [
            "The selected feature:  Index(['Open', 'High', 'Low'], dtype='object')\n"
          ],
          "name": "stdout"
        }
      ]
    },
    {
      "cell_type": "code",
      "metadata": {
        "id": "oXkmA6pJblkh"
      },
      "source": [
        ""
      ],
      "execution_count": 17,
      "outputs": []
    },
    {
      "cell_type": "code",
      "metadata": {
        "id": "eQ1bFNvmcOnB",
        "outputId": "240433ee-ea44-4985-9620-a65933780ed0",
        "colab": {
          "base_uri": "https://localhost:8080/",
          "height": 221
        }
      },
      "source": [
        "df['Price_Change']"
      ],
      "execution_count": 18,
      "outputs": [
        {
          "output_type": "execute_result",
          "data": {
            "text/plain": [
              "1       -0.006696\n",
              "2       -0.008929\n",
              "3        0.002790\n",
              "4        0.003349\n",
              "5        0.007254\n",
              "           ...   \n",
              "10034   -0.870003\n",
              "10035    1.720002\n",
              "10036    0.980003\n",
              "10037   -3.770004\n",
              "10038    3.480003\n",
              "Name: Price_Change, Length: 10036, dtype: float64"
            ]
          },
          "metadata": {
            "tags": []
          },
          "execution_count": 18
        }
      ]
    },
    {
      "cell_type": "code",
      "metadata": {
        "id": "Tw_ooNZtdbc_",
        "outputId": "14e24b88-14b3-42e2-999c-33cc38a70ef5",
        "colab": {
          "base_uri": "https://localhost:8080/",
          "height": 204
        }
      },
      "source": [
        "df.head()"
      ],
      "execution_count": 19,
      "outputs": [
        {
          "output_type": "execute_result",
          "data": {
            "text/html": [
              "<div>\n",
              "<style scoped>\n",
              "    .dataframe tbody tr th:only-of-type {\n",
              "        vertical-align: middle;\n",
              "    }\n",
              "\n",
              "    .dataframe tbody tr th {\n",
              "        vertical-align: top;\n",
              "    }\n",
              "\n",
              "    .dataframe thead th {\n",
              "        text-align: right;\n",
              "    }\n",
              "</style>\n",
              "<table border=\"1\" class=\"dataframe\">\n",
              "  <thead>\n",
              "    <tr style=\"text-align: right;\">\n",
              "      <th></th>\n",
              "      <th>Date</th>\n",
              "      <th>Open</th>\n",
              "      <th>High</th>\n",
              "      <th>Low</th>\n",
              "      <th>Close</th>\n",
              "      <th>Adj Close</th>\n",
              "      <th>Volume</th>\n",
              "      <th>Price_Change</th>\n",
              "      <th>Volume_Change</th>\n",
              "      <th>Percentage_Change</th>\n",
              "      <th>Up_Down</th>\n",
              "    </tr>\n",
              "  </thead>\n",
              "  <tbody>\n",
              "    <tr>\n",
              "      <th>1</th>\n",
              "      <td>1980-12-15</td>\n",
              "      <td>0.122210</td>\n",
              "      <td>0.122210</td>\n",
              "      <td>0.121652</td>\n",
              "      <td>0.121652</td>\n",
              "      <td>0.095978</td>\n",
              "      <td>175884800.0</td>\n",
              "      <td>-0.006696</td>\n",
              "      <td>-293148800.0</td>\n",
              "      <td>-5.217066</td>\n",
              "      <td>False</td>\n",
              "    </tr>\n",
              "    <tr>\n",
              "      <th>2</th>\n",
              "      <td>1980-12-16</td>\n",
              "      <td>0.113281</td>\n",
              "      <td>0.113281</td>\n",
              "      <td>0.112723</td>\n",
              "      <td>0.112723</td>\n",
              "      <td>0.088934</td>\n",
              "      <td>105728000.0</td>\n",
              "      <td>-0.008929</td>\n",
              "      <td>-70156800.0</td>\n",
              "      <td>-7.339789</td>\n",
              "      <td>False</td>\n",
              "    </tr>\n",
              "    <tr>\n",
              "      <th>3</th>\n",
              "      <td>1980-12-17</td>\n",
              "      <td>0.115513</td>\n",
              "      <td>0.116071</td>\n",
              "      <td>0.115513</td>\n",
              "      <td>0.115513</td>\n",
              "      <td>0.091135</td>\n",
              "      <td>86441600.0</td>\n",
              "      <td>0.002790</td>\n",
              "      <td>-19286400.0</td>\n",
              "      <td>2.475094</td>\n",
              "      <td>True</td>\n",
              "    </tr>\n",
              "    <tr>\n",
              "      <th>4</th>\n",
              "      <td>1980-12-18</td>\n",
              "      <td>0.118862</td>\n",
              "      <td>0.119420</td>\n",
              "      <td>0.118862</td>\n",
              "      <td>0.118862</td>\n",
              "      <td>0.093777</td>\n",
              "      <td>73449600.0</td>\n",
              "      <td>0.003349</td>\n",
              "      <td>-12992000.0</td>\n",
              "      <td>2.899241</td>\n",
              "      <td>True</td>\n",
              "    </tr>\n",
              "    <tr>\n",
              "      <th>5</th>\n",
              "      <td>1980-12-19</td>\n",
              "      <td>0.126116</td>\n",
              "      <td>0.126674</td>\n",
              "      <td>0.126116</td>\n",
              "      <td>0.126116</td>\n",
              "      <td>0.099500</td>\n",
              "      <td>48630400.0</td>\n",
              "      <td>0.007254</td>\n",
              "      <td>-24819200.0</td>\n",
              "      <td>6.102876</td>\n",
              "      <td>True</td>\n",
              "    </tr>\n",
              "  </tbody>\n",
              "</table>\n",
              "</div>"
            ],
            "text/plain": [
              "         Date      Open      High  ...  Volume_Change  Percentage_Change  Up_Down\n",
              "1  1980-12-15  0.122210  0.122210  ...   -293148800.0          -5.217066    False\n",
              "2  1980-12-16  0.113281  0.113281  ...    -70156800.0          -7.339789    False\n",
              "3  1980-12-17  0.115513  0.116071  ...    -19286400.0           2.475094     True\n",
              "4  1980-12-18  0.118862  0.119420  ...    -12992000.0           2.899241     True\n",
              "5  1980-12-19  0.126116  0.126674  ...    -24819200.0           6.102876     True\n",
              "\n",
              "[5 rows x 11 columns]"
            ]
          },
          "metadata": {
            "tags": []
          },
          "execution_count": 19
        }
      ]
    },
    {
      "cell_type": "code",
      "metadata": {
        "id": "F1k4TKaAdc1O"
      },
      "source": [
        ""
      ],
      "execution_count": 19,
      "outputs": []
    },
    {
      "cell_type": "code",
      "metadata": {
        "id": "dFZZrRpjdoRK"
      },
      "source": [
        ""
      ],
      "execution_count": 19,
      "outputs": []
    }
  ]
}