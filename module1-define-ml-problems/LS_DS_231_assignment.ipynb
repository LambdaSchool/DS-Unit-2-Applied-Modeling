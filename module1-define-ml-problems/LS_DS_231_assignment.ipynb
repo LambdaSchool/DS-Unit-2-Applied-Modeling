{
  "nbformat": 4,
  "nbformat_minor": 0,
  "metadata": {
    "kernelspec": {
      "display_name": "Python 3",
      "language": "python",
      "name": "python3"
    },
    "language_info": {
      "codemirror_mode": {
        "name": "ipython",
        "version": 3
      },
      "file_extension": ".py",
      "mimetype": "text/x-python",
      "name": "python",
      "nbconvert_exporter": "python",
      "pygments_lexer": "ipython3",
      "version": "3.7.6"
    },
    "colab": {
      "name": "LS_DS_231_assignment.ipynb",
      "provenance": [],
      "include_colab_link": true
    }
  },
  "cells": [
    {
      "cell_type": "markdown",
      "metadata": {
        "id": "view-in-github",
        "colab_type": "text"
      },
      "source": [
        "<a href=\"https://colab.research.google.com/github/austiezr/DS-Unit-2-Applied-Modeling/blob/master/module1-define-ml-problems/LS_DS_231_assignment.ipynb\" target=\"_parent\"><img src=\"https://colab.research.google.com/assets/colab-badge.svg\" alt=\"Open In Colab\"/></a>"
      ]
    },
    {
      "cell_type": "markdown",
      "metadata": {
        "colab_type": "text",
        "id": "nCc3XZEyG3XV"
      },
      "source": [
        "Lambda School Data Science\n",
        "\n",
        "*Unit 2, Sprint 3, Module 1*\n",
        "\n",
        "---\n",
        "\n",
        "\n",
        "# Define ML problems\n",
        "\n",
        "You will use your portfolio project dataset for all assignments this sprint.\n",
        "\n",
        "## Assignment\n",
        "\n",
        "Complete these tasks for your project, and document your decisions.\n",
        "\n",
        "- [x] Choose your target. Which column in your tabular dataset will you predict?\n",
        "    - Whether a student improves their scores or not\n",
        "- [x] Is your problem regression or classification?\n",
        "    - Classification\n",
        "- [x] How is your target distributed?\n",
        "    - Classification: How many classes? Are the classes imbalanced?\n",
        "    - 2\n",
        "    - Slightly\n",
        "- [x] Choose your evaluation metric(s).\n",
        "    - Accuracy\n",
        "- [x] Choose which observations you will use to train, validate, and test your model.\n",
        "    - Randomized Cross-Validation Split\n",
        "- [x] Begin to clean and explore your data.\n",
        "- [x] Begin to choose which features, if any, to exclude. Would some features \"leak\" future information?\n",
        "\n",
        "If you haven't found a dataset yet, do that today. [Review requirements for your portfolio project](https://lambdaschool.github.io/ds/unit2) and choose your dataset.\n",
        "\n",
        "Some students worry, ***what if my model isn't “good”?*** Then, [produce a detailed tribute to your wrongness. That is science!](https://twitter.com/nathanwpyle/status/1176860147223867393)"
      ]
    },
    {
      "cell_type": "code",
      "metadata": {
        "id": "NzKdagjZaApX",
        "colab_type": "code",
        "colab": {
          "base_uri": "https://localhost:8080/",
          "height": 207
        },
        "outputId": "8900c9d7-92c4-4e0c-f02b-c2cc56b4bb28"
      },
      "source": [
        "!pip3 install category_encoders\n",
        "import pandas as pd\n",
        "import numpy as np\n",
        "import seaborn as sns\n",
        "import matplotlib.pyplot as plt\n",
        "from sklearn.model_selection import train_test_split\n",
        "from sklearn.pipeline import make_pipeline\n",
        "from category_encoders import OrdinalEncoder, OneHotEncoder, TargetEncoder\n",
        "from sklearn.ensemble import RandomForestClassifier, RandomForestRegressor\n",
        "from sklearn.feature_selection import SelectKBest, mutual_info_classif, mutual_info_regression, f_classif\n",
        "from scipy.stats import randint, uniform\n",
        "from sklearn.model_selection import RandomizedSearchCV\n",
        "from sklearn.linear_model import RidgeClassifierCV, LogisticRegressionCV\n",
        "from sklearn.preprocessing import StandardScaler\n",
        "from sklearn.svm import SVC\n",
        "from sklearn.metrics import confusion_matrix, plot_confusion_matrix\n",
        "from sklearn.experimental import enable_iterative_imputer\n",
        "from sklearn.impute import SimpleImputer, IterativeImputer\n",
        "from sklearn.decomposition import PCA"
      ],
      "execution_count": 65,
      "outputs": [
        {
          "output_type": "stream",
          "text": [
            "Requirement already satisfied: category_encoders in /usr/local/lib/python3.7/site-packages (2.1.0)\r\n",
            "Requirement already satisfied: numpy>=1.11.3 in /usr/local/lib/python3.7/site-packages (from category_encoders) (1.17.3)\r\n",
            "Requirement already satisfied: patsy>=0.4.1 in /usr/local/lib/python3.7/site-packages (from category_encoders) (0.5.1)\r\n",
            "Requirement already satisfied: scipy>=0.19.0 in /usr/local/lib/python3.7/site-packages (from category_encoders) (1.4.1)\r\n",
            "Requirement already satisfied: pandas>=0.21.1 in /usr/local/lib/python3.7/site-packages (from category_encoders) (0.25.3)\r\n",
            "Requirement already satisfied: statsmodels>=0.6.1 in /usr/local/lib/python3.7/site-packages (from category_encoders) (0.11.0)\n",
            "Requirement already satisfied: scikit-learn>=0.20.0 in /usr/local/lib/python3.7/site-packages (from category_encoders) (0.22.1)\n",
            "Requirement already satisfied: six in ./Library/Python/3.7/lib/python/site-packages (from patsy>=0.4.1->category_encoders) (1.13.0)\n",
            "Requirement already satisfied: pytz>=2017.2 in /usr/local/lib/python3.7/site-packages (from pandas>=0.21.1->category_encoders) (2019.3)\n",
            "Requirement already satisfied: python-dateutil>=2.6.1 in /usr/local/lib/python3.7/site-packages (from pandas>=0.21.1->category_encoders) (2.8.1)\n",
            "Requirement already satisfied: joblib>=0.11 in /usr/local/lib/python3.7/site-packages (from scikit-learn>=0.20.0->category_encoders) (0.14.1)\n"
          ],
          "name": "stdout"
        }
      ]
    },
    {
      "cell_type": "code",
      "metadata": {
        "id": "hfddZOqqaFaM",
        "colab_type": "code",
        "colab": {}
      },
      "source": [
        "df = pd.read_csv('/Users/austie/Downloads/student/student-mat.csv', sep=';')\n",
        "df1 = pd.read_csv('/Users/austie/Downloads/student/student-por.csv', sep=';')"
      ],
      "execution_count": 0,
      "outputs": []
    },
    {
      "cell_type": "code",
      "metadata": {
        "id": "ckLEFZm2aRXa",
        "colab_type": "code",
        "colab": {}
      },
      "source": [
        "df = df.append(df1, ignore_index=True)"
      ],
      "execution_count": 0,
      "outputs": []
    },
    {
      "cell_type": "code",
      "metadata": {
        "id": "PMlZrPVwtzA3",
        "colab_type": "code",
        "colab": {
          "base_uri": "https://localhost:8080/",
          "height": 227
        },
        "outputId": "7e9575ed-027c-40e4-973c-36840670577c"
      },
      "source": [
        "df.head()"
      ],
      "execution_count": 68,
      "outputs": [
        {
          "output_type": "execute_result",
          "data": {
            "text/plain": [
              "  school sex  age address famsize Pstatus  Medu  Fedu     Mjob      Fjob  ...  \\\n",
              "0     GP   F   18       U     GT3       A     4     4  at_home   teacher  ...   \n",
              "1     GP   F   17       U     GT3       T     1     1  at_home     other  ...   \n",
              "2     GP   F   15       U     LE3       T     1     1  at_home     other  ...   \n",
              "3     GP   F   15       U     GT3       T     4     2   health  services  ...   \n",
              "4     GP   F   16       U     GT3       T     3     3    other     other  ...   \n",
              "\n",
              "  famrel freetime  goout  Dalc  Walc health absences  G1  G2  G3  \n",
              "0      4        3      4     1     1      3        6   5   6   6  \n",
              "1      5        3      3     1     1      3        4   5   5   6  \n",
              "2      4        3      2     2     3      3       10   7   8  10  \n",
              "3      3        2      2     1     1      5        2  15  14  15  \n",
              "4      4        3      2     1     2      5        4   6  10  10  \n",
              "\n",
              "[5 rows x 33 columns]"
            ],
            "text/html": [
              "<div>\n",
              "<style scoped>\n",
              "    .dataframe tbody tr th:only-of-type {\n",
              "        vertical-align: middle;\n",
              "    }\n",
              "\n",
              "    .dataframe tbody tr th {\n",
              "        vertical-align: top;\n",
              "    }\n",
              "\n",
              "    .dataframe thead th {\n",
              "        text-align: right;\n",
              "    }\n",
              "</style>\n",
              "<table border=\"1\" class=\"dataframe\">\n",
              "  <thead>\n",
              "    <tr style=\"text-align: right;\">\n",
              "      <th></th>\n",
              "      <th>school</th>\n",
              "      <th>sex</th>\n",
              "      <th>age</th>\n",
              "      <th>address</th>\n",
              "      <th>famsize</th>\n",
              "      <th>Pstatus</th>\n",
              "      <th>Medu</th>\n",
              "      <th>Fedu</th>\n",
              "      <th>Mjob</th>\n",
              "      <th>Fjob</th>\n",
              "      <th>...</th>\n",
              "      <th>famrel</th>\n",
              "      <th>freetime</th>\n",
              "      <th>goout</th>\n",
              "      <th>Dalc</th>\n",
              "      <th>Walc</th>\n",
              "      <th>health</th>\n",
              "      <th>absences</th>\n",
              "      <th>G1</th>\n",
              "      <th>G2</th>\n",
              "      <th>G3</th>\n",
              "    </tr>\n",
              "  </thead>\n",
              "  <tbody>\n",
              "    <tr>\n",
              "      <th>0</th>\n",
              "      <td>GP</td>\n",
              "      <td>F</td>\n",
              "      <td>18</td>\n",
              "      <td>U</td>\n",
              "      <td>GT3</td>\n",
              "      <td>A</td>\n",
              "      <td>4</td>\n",
              "      <td>4</td>\n",
              "      <td>at_home</td>\n",
              "      <td>teacher</td>\n",
              "      <td>...</td>\n",
              "      <td>4</td>\n",
              "      <td>3</td>\n",
              "      <td>4</td>\n",
              "      <td>1</td>\n",
              "      <td>1</td>\n",
              "      <td>3</td>\n",
              "      <td>6</td>\n",
              "      <td>5</td>\n",
              "      <td>6</td>\n",
              "      <td>6</td>\n",
              "    </tr>\n",
              "    <tr>\n",
              "      <th>1</th>\n",
              "      <td>GP</td>\n",
              "      <td>F</td>\n",
              "      <td>17</td>\n",
              "      <td>U</td>\n",
              "      <td>GT3</td>\n",
              "      <td>T</td>\n",
              "      <td>1</td>\n",
              "      <td>1</td>\n",
              "      <td>at_home</td>\n",
              "      <td>other</td>\n",
              "      <td>...</td>\n",
              "      <td>5</td>\n",
              "      <td>3</td>\n",
              "      <td>3</td>\n",
              "      <td>1</td>\n",
              "      <td>1</td>\n",
              "      <td>3</td>\n",
              "      <td>4</td>\n",
              "      <td>5</td>\n",
              "      <td>5</td>\n",
              "      <td>6</td>\n",
              "    </tr>\n",
              "    <tr>\n",
              "      <th>2</th>\n",
              "      <td>GP</td>\n",
              "      <td>F</td>\n",
              "      <td>15</td>\n",
              "      <td>U</td>\n",
              "      <td>LE3</td>\n",
              "      <td>T</td>\n",
              "      <td>1</td>\n",
              "      <td>1</td>\n",
              "      <td>at_home</td>\n",
              "      <td>other</td>\n",
              "      <td>...</td>\n",
              "      <td>4</td>\n",
              "      <td>3</td>\n",
              "      <td>2</td>\n",
              "      <td>2</td>\n",
              "      <td>3</td>\n",
              "      <td>3</td>\n",
              "      <td>10</td>\n",
              "      <td>7</td>\n",
              "      <td>8</td>\n",
              "      <td>10</td>\n",
              "    </tr>\n",
              "    <tr>\n",
              "      <th>3</th>\n",
              "      <td>GP</td>\n",
              "      <td>F</td>\n",
              "      <td>15</td>\n",
              "      <td>U</td>\n",
              "      <td>GT3</td>\n",
              "      <td>T</td>\n",
              "      <td>4</td>\n",
              "      <td>2</td>\n",
              "      <td>health</td>\n",
              "      <td>services</td>\n",
              "      <td>...</td>\n",
              "      <td>3</td>\n",
              "      <td>2</td>\n",
              "      <td>2</td>\n",
              "      <td>1</td>\n",
              "      <td>1</td>\n",
              "      <td>5</td>\n",
              "      <td>2</td>\n",
              "      <td>15</td>\n",
              "      <td>14</td>\n",
              "      <td>15</td>\n",
              "    </tr>\n",
              "    <tr>\n",
              "      <th>4</th>\n",
              "      <td>GP</td>\n",
              "      <td>F</td>\n",
              "      <td>16</td>\n",
              "      <td>U</td>\n",
              "      <td>GT3</td>\n",
              "      <td>T</td>\n",
              "      <td>3</td>\n",
              "      <td>3</td>\n",
              "      <td>other</td>\n",
              "      <td>other</td>\n",
              "      <td>...</td>\n",
              "      <td>4</td>\n",
              "      <td>3</td>\n",
              "      <td>2</td>\n",
              "      <td>1</td>\n",
              "      <td>2</td>\n",
              "      <td>5</td>\n",
              "      <td>4</td>\n",
              "      <td>6</td>\n",
              "      <td>10</td>\n",
              "      <td>10</td>\n",
              "    </tr>\n",
              "  </tbody>\n",
              "</table>\n",
              "<p>5 rows × 33 columns</p>\n",
              "</div>"
            ]
          },
          "metadata": {
            "tags": []
          },
          "execution_count": 68
        }
      ]
    },
    {
      "cell_type": "code",
      "metadata": {
        "id": "hYagsLzoahQF",
        "colab_type": "code",
        "colab": {
          "base_uri": "https://localhost:8080/",
          "height": 121
        },
        "outputId": "0a8511ed-95ae-43c7-e367-3231527b407b"
      },
      "source": [
        "df['famsize'] = df['famsize'].map({'GT3': 1, 'LE3':0})\n",
        "df['address'] = df['address'].map({'U':1, 'R':0})\n",
        "df['Pstatus'] = df['Pstatus'].map({'A': 0, 'T':1})\n",
        "for col in ['schoolsup', 'famsup', 'paid', 'activities', \n",
        "            'nursery', 'higher', 'internet', 'romantic']:\n",
        "  df[col] = df[col].map({'yes':1, 'no':0})\n",
        "\n",
        "for col in ['G1', 'G2', 'G3']:\n",
        "  df[col] = df[col].replace({0: np.NaN})\n",
        "\n",
        "dfmean = df[['G1', 'G2', 'G3']]\n",
        "dfmean['Mean'] = dfmean.mean(axis=1)\n",
        "df['Mean'] = dfmean['Mean']\n",
        "df['Pass/Fail'] = df['G3']>=10\n",
        "\n",
        "df['Improved'] = (df['G3']-df['Mean'])>0\n",
        "\n",
        "df = df.drop(columns=['school'])\n",
        "\n",
        "training, test = train_test_split(df, train_size=0.80, test_size=0.20, random_state=33)\n",
        "train, val = train_test_split(training, train_size=0.80, test_size=0.20, random_state=33)"
      ],
      "execution_count": 70,
      "outputs": [
        {
          "output_type": "stream",
          "text": [
            "/usr/local/lib/python3.7/site-packages/ipykernel_launcher.py:12: SettingWithCopyWarning: \n",
            "A value is trying to be set on a copy of a slice from a DataFrame.\n",
            "Try using .loc[row_indexer,col_indexer] = value instead\n",
            "\n",
            "See the caveats in the documentation: http://pandas.pydata.org/pandas-docs/stable/user_guide/indexing.html#returning-a-view-versus-a-copy\n",
            "  if sys.path[0] == '':\n"
          ],
          "name": "stderr"
        }
      ]
    },
    {
      "cell_type": "code",
      "metadata": {
        "id": "nqseCE6on3BY",
        "colab_type": "code",
        "colab": {
          "base_uri": "https://localhost:8080/",
          "height": 691
        },
        "outputId": "54e5a13c-e430-43e9-9230-9cc5804d4c06"
      },
      "source": [
        "df.info()"
      ],
      "execution_count": 15,
      "outputs": [
        {
          "output_type": "stream",
          "text": [
            "<class 'pandas.core.frame.DataFrame'>\n",
            "RangeIndex: 1044 entries, 0 to 1043\n",
            "Data columns (total 34 columns):\n",
            "age           1044 non-null int64\n",
            "address       1044 non-null int64\n",
            "famsize       1044 non-null int64\n",
            "Pstatus       1044 non-null int64\n",
            "Medu          1044 non-null int64\n",
            "Fedu          1044 non-null int64\n",
            "Mjob          1044 non-null object\n",
            "Fjob          1044 non-null object\n",
            "reason        1044 non-null object\n",
            "guardian      1044 non-null object\n",
            "traveltime    1044 non-null int64\n",
            "studytime     1044 non-null int64\n",
            "failures      1044 non-null int64\n",
            "schoolsup     1044 non-null int64\n",
            "famsup        1044 non-null int64\n",
            "paid          1044 non-null int64\n",
            "activities    1044 non-null int64\n",
            "nursery       1044 non-null int64\n",
            "higher        1044 non-null int64\n",
            "internet      1044 non-null int64\n",
            "romantic      1044 non-null int64\n",
            "famrel        1044 non-null int64\n",
            "freetime      1044 non-null int64\n",
            "goout         1044 non-null int64\n",
            "Dalc          1044 non-null int64\n",
            "Walc          1044 non-null int64\n",
            "health        1044 non-null int64\n",
            "absences      1044 non-null int64\n",
            "G1            1043 non-null float64\n",
            "G2            1024 non-null float64\n",
            "G3            1044 non-null int64\n",
            "Mean          1044 non-null float64\n",
            "Pass/Fail     1044 non-null bool\n",
            "Improved      1044 non-null bool\n",
            "dtypes: bool(2), float64(3), int64(25), object(4)\n",
            "memory usage: 263.2+ KB\n"
          ],
          "name": "stdout"
        }
      ]
    },
    {
      "cell_type": "code",
      "metadata": {
        "id": "_y0lcCOva24v",
        "colab_type": "code",
        "colab": {}
      },
      "source": [
        "target = 'Improved'\n",
        "features = train.drop(columns=[target, 'G1', 'G2', 'Mean']).columns\n",
        "X_train = train[features]\n",
        "y_train = train[target]\n",
        "X_val = val[features]\n",
        "y_val = val[target]\n",
        "X_test = test[features]\n",
        "y_test = test[target]\n",
        "X_training = training[features]\n",
        "y_training = training[target]"
      ],
      "execution_count": 0,
      "outputs": []
    },
    {
      "cell_type": "code",
      "metadata": {
        "id": "SUZGtcePeR0u",
        "colab_type": "code",
        "colab": {
          "base_uri": "https://localhost:8080/",
          "height": 69
        },
        "outputId": "9aca4f91-053b-40b3-f63d-6876c039414c"
      },
      "source": [
        "df[target].value_counts(normalize=True)"
      ],
      "execution_count": 72,
      "outputs": [
        {
          "output_type": "execute_result",
          "data": {
            "text/plain": [
              "True     0.536398\n",
              "False    0.463602\n",
              "Name: Improved, dtype: float64"
            ]
          },
          "metadata": {
            "tags": []
          },
          "execution_count": 72
        }
      ]
    },
    {
      "cell_type": "code",
      "metadata": {
        "id": "1NoRR-h9rjx0",
        "colab_type": "code",
        "colab": {
          "base_uri": "https://localhost:8080/",
          "height": 227
        },
        "outputId": "119fbf0a-d141-479f-b346-f31569903921"
      },
      "source": [
        "X_train.head()"
      ],
      "execution_count": 9,
      "outputs": [
        {
          "output_type": "execute_result",
          "data": {
            "text/plain": [
              "     age  address  famsize  Pstatus  Medu  Fedu      Mjob      Fjob  \\\n",
              "384   18        0        1        1     4     2     other     other   \n",
              "238   17        0        1        1     2     1   at_home  services   \n",
              "85    15        1        1        1     4     4  services  services   \n",
              "322   17        0        0        1     2     2  services  services   \n",
              "20    15        1        1        1     4     3   teacher     other   \n",
              "\n",
              "         reason guardian  ...  internet  romantic  famrel  freetime  goout  \\\n",
              "384        home   father  ...         0         0       5         4      3   \n",
              "238      course   mother  ...         0         0       2         1      1   \n",
              "85   reputation   father  ...         1         1       4         4      4   \n",
              "322      course   mother  ...         1         0       3         3      2   \n",
              "20   reputation   mother  ...         1         0       4         4      1   \n",
              "\n",
              "     Dalc  Walc  health  absences  Mean  \n",
              "384     4     3       3        14   5.5  \n",
              "238     1     1       3         2  12.0  \n",
              "85      2     3       5         6   8.0  \n",
              "322     2     2       3         3  11.0  \n",
              "20      1     1       1         0  13.5  \n",
              "\n",
              "[5 rows x 29 columns]"
            ],
            "text/html": [
              "<div>\n",
              "<style scoped>\n",
              "    .dataframe tbody tr th:only-of-type {\n",
              "        vertical-align: middle;\n",
              "    }\n",
              "\n",
              "    .dataframe tbody tr th {\n",
              "        vertical-align: top;\n",
              "    }\n",
              "\n",
              "    .dataframe thead th {\n",
              "        text-align: right;\n",
              "    }\n",
              "</style>\n",
              "<table border=\"1\" class=\"dataframe\">\n",
              "  <thead>\n",
              "    <tr style=\"text-align: right;\">\n",
              "      <th></th>\n",
              "      <th>age</th>\n",
              "      <th>address</th>\n",
              "      <th>famsize</th>\n",
              "      <th>Pstatus</th>\n",
              "      <th>Medu</th>\n",
              "      <th>Fedu</th>\n",
              "      <th>Mjob</th>\n",
              "      <th>Fjob</th>\n",
              "      <th>reason</th>\n",
              "      <th>guardian</th>\n",
              "      <th>...</th>\n",
              "      <th>internet</th>\n",
              "      <th>romantic</th>\n",
              "      <th>famrel</th>\n",
              "      <th>freetime</th>\n",
              "      <th>goout</th>\n",
              "      <th>Dalc</th>\n",
              "      <th>Walc</th>\n",
              "      <th>health</th>\n",
              "      <th>absences</th>\n",
              "      <th>Mean</th>\n",
              "    </tr>\n",
              "  </thead>\n",
              "  <tbody>\n",
              "    <tr>\n",
              "      <th>384</th>\n",
              "      <td>18</td>\n",
              "      <td>0</td>\n",
              "      <td>1</td>\n",
              "      <td>1</td>\n",
              "      <td>4</td>\n",
              "      <td>2</td>\n",
              "      <td>other</td>\n",
              "      <td>other</td>\n",
              "      <td>home</td>\n",
              "      <td>father</td>\n",
              "      <td>...</td>\n",
              "      <td>0</td>\n",
              "      <td>0</td>\n",
              "      <td>5</td>\n",
              "      <td>4</td>\n",
              "      <td>3</td>\n",
              "      <td>4</td>\n",
              "      <td>3</td>\n",
              "      <td>3</td>\n",
              "      <td>14</td>\n",
              "      <td>5.5</td>\n",
              "    </tr>\n",
              "    <tr>\n",
              "      <th>238</th>\n",
              "      <td>17</td>\n",
              "      <td>0</td>\n",
              "      <td>1</td>\n",
              "      <td>1</td>\n",
              "      <td>2</td>\n",
              "      <td>1</td>\n",
              "      <td>at_home</td>\n",
              "      <td>services</td>\n",
              "      <td>course</td>\n",
              "      <td>mother</td>\n",
              "      <td>...</td>\n",
              "      <td>0</td>\n",
              "      <td>0</td>\n",
              "      <td>2</td>\n",
              "      <td>1</td>\n",
              "      <td>1</td>\n",
              "      <td>1</td>\n",
              "      <td>1</td>\n",
              "      <td>3</td>\n",
              "      <td>2</td>\n",
              "      <td>12.0</td>\n",
              "    </tr>\n",
              "    <tr>\n",
              "      <th>85</th>\n",
              "      <td>15</td>\n",
              "      <td>1</td>\n",
              "      <td>1</td>\n",
              "      <td>1</td>\n",
              "      <td>4</td>\n",
              "      <td>4</td>\n",
              "      <td>services</td>\n",
              "      <td>services</td>\n",
              "      <td>reputation</td>\n",
              "      <td>father</td>\n",
              "      <td>...</td>\n",
              "      <td>1</td>\n",
              "      <td>1</td>\n",
              "      <td>4</td>\n",
              "      <td>4</td>\n",
              "      <td>4</td>\n",
              "      <td>2</td>\n",
              "      <td>3</td>\n",
              "      <td>5</td>\n",
              "      <td>6</td>\n",
              "      <td>8.0</td>\n",
              "    </tr>\n",
              "    <tr>\n",
              "      <th>322</th>\n",
              "      <td>17</td>\n",
              "      <td>0</td>\n",
              "      <td>0</td>\n",
              "      <td>1</td>\n",
              "      <td>2</td>\n",
              "      <td>2</td>\n",
              "      <td>services</td>\n",
              "      <td>services</td>\n",
              "      <td>course</td>\n",
              "      <td>mother</td>\n",
              "      <td>...</td>\n",
              "      <td>1</td>\n",
              "      <td>0</td>\n",
              "      <td>3</td>\n",
              "      <td>3</td>\n",
              "      <td>2</td>\n",
              "      <td>2</td>\n",
              "      <td>2</td>\n",
              "      <td>3</td>\n",
              "      <td>3</td>\n",
              "      <td>11.0</td>\n",
              "    </tr>\n",
              "    <tr>\n",
              "      <th>20</th>\n",
              "      <td>15</td>\n",
              "      <td>1</td>\n",
              "      <td>1</td>\n",
              "      <td>1</td>\n",
              "      <td>4</td>\n",
              "      <td>3</td>\n",
              "      <td>teacher</td>\n",
              "      <td>other</td>\n",
              "      <td>reputation</td>\n",
              "      <td>mother</td>\n",
              "      <td>...</td>\n",
              "      <td>1</td>\n",
              "      <td>0</td>\n",
              "      <td>4</td>\n",
              "      <td>4</td>\n",
              "      <td>1</td>\n",
              "      <td>1</td>\n",
              "      <td>1</td>\n",
              "      <td>1</td>\n",
              "      <td>0</td>\n",
              "      <td>13.5</td>\n",
              "    </tr>\n",
              "  </tbody>\n",
              "</table>\n",
              "<p>5 rows × 29 columns</p>\n",
              "</div>"
            ]
          },
          "metadata": {
            "tags": []
          },
          "execution_count": 9
        }
      ]
    },
    {
      "cell_type": "code",
      "metadata": {
        "id": "UyiBLmANdBY2",
        "colab_type": "code",
        "colab": {
          "base_uri": "https://localhost:8080/",
          "height": 69
        },
        "outputId": "3cd508df-9985-420d-8c80-287415ecfe29"
      },
      "source": [
        "pipe = make_pipeline(\n",
        "    OrdinalEncoder(),\n",
        "    IterativeImputer(random_state=33),\n",
        "    RandomForestClassifier(n_jobs=-1,\n",
        "                          random_state=33,\n",
        "                          min_samples_leaf=1,\n",
        "                          n_estimators=100,\n",
        "                          max_features='auto',\n",
        "                          max_depth=10)\n",
        "    )\n",
        "\n",
        "\n",
        "pipe.fit(X_training, y_training)\n",
        "\n",
        "print(f'Train MAE: {pipe.score(X_training, y_training)}\\n')\n",
        "print(f'Test MAE: {pipe.score(X_test, y_test)}')"
      ],
      "execution_count": 73,
      "outputs": [
        {
          "output_type": "stream",
          "text": [
            "Train MAE: 0.9604790419161676\n",
            "\n",
            "Test MAE: 0.6411483253588517\n"
          ],
          "name": "stdout"
        }
      ]
    },
    {
      "cell_type": "code",
      "metadata": {
        "id": "zCLc-jg-endv",
        "colab_type": "code",
        "colab": {
          "base_uri": "https://localhost:8080/",
          "height": 1000
        },
        "outputId": "841b0a07-c0c4-42e0-c02c-84154160c1a7"
      },
      "source": [
        "pipe = make_pipeline(\n",
        "    TargetEncoder(),\n",
        "    SimpleImputer(),\n",
        "    RandomForestClassifier(random_state=33,\n",
        "                           n_jobs=-1)\n",
        ")\n",
        "\n",
        "param_distributions = {\n",
        "    'targetencoder__min_samples_leaf': randint(1,100),\n",
        "    'simpleimputer__strategy': ['mean', 'median', 'most_frequent'],\n",
        "    'randomforestclassifier__n_estimators': randint(1, 500),\n",
        "    'randomforestclassifier__min_samples_leaf': randint(1, 100),\n",
        "    'randomforestclassifier__max_features': ['sqrt', 'log2', None],\n",
        "    'randomforestclassifier__max_depth': randint(1, 500)\n",
        "}\n",
        "\n",
        "search = RandomizedSearchCV(\n",
        "    pipe, \n",
        "    param_distributions=param_distributions, \n",
        "    n_iter=100, \n",
        "    cv=5, \n",
        "    scoring='accuracy', \n",
        "    verbose=10, \n",
        "    return_train_score=True, \n",
        "    n_jobs=-2\n",
        ")\n",
        "\n",
        "search.fit(X_training, y_training)\n",
        "\n",
        "pipe = search.best_estimator_\n",
        "\n",
        "print(f'{search.best_params_}\\n')\n",
        "\n",
        "print(f'Train Accuracy: {pipe.score(X_training, y_training)}\\n')\n",
        "print(f'Test Accuracy: {pipe.score(X_test, y_test)}')\n",
        "\n",
        "plot_confusion_matrix(estimator=pipe, X=X_test, y_true=y_test)\n",
        "\n",
        "encoder = pipe.named_steps['targetencoder']\n",
        "encoded_columns = encoder.transform(X_training).columns\n",
        "importances = pd.Series(pipe.named_steps.randomforestclassifier.feature_importances_, encoded_columns)\n",
        "plt.figure(figsize=(10,10))\n",
        "importances.sort_values().plot.barh();"
      ],
      "execution_count": 74,
      "outputs": [
        {
          "output_type": "stream",
          "text": [
            "Fitting 5 folds for each of 100 candidates, totalling 500 fits\n"
          ],
          "name": "stdout"
        },
        {
          "output_type": "stream",
          "text": [
            "[Parallel(n_jobs=-2)]: Using backend LokyBackend with 7 concurrent workers.\n",
            "[Parallel(n_jobs=-2)]: Done   4 tasks      | elapsed:    1.3s\n",
            "[Parallel(n_jobs=-2)]: Done  11 tasks      | elapsed:    2.2s\n",
            "[Parallel(n_jobs=-2)]: Done  18 tasks      | elapsed:    3.7s\n",
            "[Parallel(n_jobs=-2)]: Done  27 tasks      | elapsed:    5.3s\n",
            "[Parallel(n_jobs=-2)]: Done  36 tasks      | elapsed:    6.2s\n",
            "[Parallel(n_jobs=-2)]: Done  47 tasks      | elapsed:    7.9s\n",
            "[Parallel(n_jobs=-2)]: Done  58 tasks      | elapsed:    9.6s\n",
            "[Parallel(n_jobs=-2)]: Done  71 tasks      | elapsed:   10.9s\n",
            "[Parallel(n_jobs=-2)]: Done  84 tasks      | elapsed:   14.3s\n",
            "[Parallel(n_jobs=-2)]: Done  99 tasks      | elapsed:   16.2s\n",
            "[Parallel(n_jobs=-2)]: Done 114 tasks      | elapsed:   19.8s\n",
            "[Parallel(n_jobs=-2)]: Done 131 tasks      | elapsed:   24.4s\n",
            "[Parallel(n_jobs=-2)]: Done 148 tasks      | elapsed:   28.3s\n",
            "[Parallel(n_jobs=-2)]: Done 167 tasks      | elapsed:   34.1s\n",
            "[Parallel(n_jobs=-2)]: Done 186 tasks      | elapsed:   37.4s\n",
            "[Parallel(n_jobs=-2)]: Done 207 tasks      | elapsed:   42.3s\n",
            "[Parallel(n_jobs=-2)]: Done 228 tasks      | elapsed:   47.4s\n",
            "[Parallel(n_jobs=-2)]: Done 251 tasks      | elapsed:   50.2s\n",
            "[Parallel(n_jobs=-2)]: Done 274 tasks      | elapsed:   53.0s\n",
            "[Parallel(n_jobs=-2)]: Done 299 tasks      | elapsed:   56.0s\n",
            "[Parallel(n_jobs=-2)]: Done 324 tasks      | elapsed:  1.0min\n",
            "[Parallel(n_jobs=-2)]: Done 351 tasks      | elapsed:  1.1min\n",
            "[Parallel(n_jobs=-2)]: Done 378 tasks      | elapsed:  1.2min\n",
            "[Parallel(n_jobs=-2)]: Done 407 tasks      | elapsed:  1.3min\n",
            "[Parallel(n_jobs=-2)]: Done 436 tasks      | elapsed:  1.4min\n",
            "[Parallel(n_jobs=-2)]: Done 467 tasks      | elapsed:  1.6min\n",
            "[Parallel(n_jobs=-2)]: Done 500 out of 500 | elapsed:  1.7min finished\n"
          ],
          "name": "stderr"
        },
        {
          "output_type": "stream",
          "text": [
            "{'randomforestclassifier__max_depth': 393, 'randomforestclassifier__max_features': None, 'randomforestclassifier__min_samples_leaf': 28, 'randomforestclassifier__n_estimators': 79, 'simpleimputer__strategy': 'median', 'targetencoder__min_samples_leaf': 20}\n",
            "\n",
            "Train Accuracy: 0.6922155688622754\n",
            "\n",
            "Test Accuracy: 0.645933014354067\n"
          ],
          "name": "stdout"
        },
        {
          "output_type": "display_data",
          "data": {
            "text/plain": [
              "<Figure size 432x288 with 2 Axes>"
            ],
            "image/png": "[encoded data removed]"
          },
          "metadata": {
            "tags": [],
            "needs_background": "light"
          }
        },
        {
          "output_type": "display_data",
          "data": {
            "text/plain": [
              "<Figure size 720x720 with 1 Axes>"
            ],
            "image/png": "[encoded data removed]"
          },
          "metadata": {
            "tags": [],
            "needs_background": "light"
          }
        }
      ]
    },
    {
      "cell_type": "code",
      "metadata": {
        "id": "kM6c5NlmfwSS",
        "colab_type": "code",
        "colab": {
          "base_uri": "https://localhost:8080/",
          "height": 1000
        },
        "outputId": "f2caaece-b9da-4fab-c4b7-22287fbd20af"
      },
      "source": [
        "pipe = make_pipeline(\n",
        "    TargetEncoder(),\n",
        "    SimpleImputer(),\n",
        "    RidgeClassifierCV()\n",
        ")\n",
        "\n",
        "param_distributions = {\n",
        "    'targetencoder__min_samples_leaf': randint(1,100),\n",
        "    'simpleimputer__strategy': ['mean', 'median', 'most_frequent'],\n",
        "    'ridgeclassifiercv__normalize': [True, False]\n",
        "}\n",
        "\n",
        "search = RandomizedSearchCV(\n",
        "    pipe, \n",
        "    param_distributions=param_distributions, \n",
        "    n_iter=100, \n",
        "    cv=5, \n",
        "    scoring='accuracy', \n",
        "    verbose=10, \n",
        "    return_train_score=True, \n",
        "    n_jobs=-2\n",
        ")\n",
        "\n",
        "search.fit(X_training, y_training)\n",
        "\n",
        "pipe = search.best_estimator_\n",
        "\n",
        "print(f'{search.best_params_}\\n')\n",
        "\n",
        "print(f'Train Accuracy: {pipe.score(X_training, y_training)}\\n')\n",
        "print(f'Test Accuracy: {pipe.score(X_test, y_test)}')\n",
        "\n",
        "plot_confusion_matrix(estimator=pipe, X=X_test, y_true=y_test)\n",
        "\n",
        "encoder = pipe.named_steps['targetencoder']\n",
        "encoded_columns = encoder.transform(X_training).columns\n",
        "importances = pd.Series(pipe.named_steps.ridgeclassifiercv.coef_[0][:], encoded_columns)\n",
        "plt.figure(figsize=(10,10))\n",
        "importances.sort_values().plot.barh();"
      ],
      "execution_count": 76,
      "outputs": [
        {
          "output_type": "stream",
          "text": [
            "Fitting 5 folds for each of 100 candidates, totalling 500 fits\n"
          ],
          "name": "stdout"
        },
        {
          "output_type": "stream",
          "text": [
            "[Parallel(n_jobs=-2)]: Using backend LokyBackend with 7 concurrent workers.\n",
            "[Parallel(n_jobs=-2)]: Batch computation too fast (0.1767s.) Setting batch_size=2.\n",
            "[Parallel(n_jobs=-2)]: Done   4 tasks      | elapsed:    0.2s\n",
            "[Parallel(n_jobs=-2)]: Done  11 tasks      | elapsed:    0.5s\n",
            "[Parallel(n_jobs=-2)]: Done  22 tasks      | elapsed:    0.8s\n",
            "[Parallel(n_jobs=-2)]: Done  40 tasks      | elapsed:    1.2s\n",
            "[Parallel(n_jobs=-2)]: Done  58 tasks      | elapsed:    1.9s\n",
            "[Parallel(n_jobs=-2)]: Done  80 tasks      | elapsed:    2.3s\n",
            "[Parallel(n_jobs=-2)]: Done 102 tasks      | elapsed:    3.0s\n",
            "[Parallel(n_jobs=-2)]: Done 128 tasks      | elapsed:    3.6s\n",
            "[Parallel(n_jobs=-2)]: Done 154 tasks      | elapsed:    4.2s\n",
            "[Parallel(n_jobs=-2)]: Done 184 tasks      | elapsed:    5.1s\n",
            "[Parallel(n_jobs=-2)]: Done 214 tasks      | elapsed:    5.8s\n",
            "[Parallel(n_jobs=-2)]: Done 248 tasks      | elapsed:    6.6s\n",
            "[Parallel(n_jobs=-2)]: Done 282 tasks      | elapsed:    7.7s\n",
            "[Parallel(n_jobs=-2)]: Done 320 tasks      | elapsed:    8.7s\n",
            "[Parallel(n_jobs=-2)]: Done 358 tasks      | elapsed:   10.1s\n",
            "[Parallel(n_jobs=-2)]: Done 400 tasks      | elapsed:   11.5s\n",
            "[Parallel(n_jobs=-2)]: Done 442 tasks      | elapsed:   12.9s\n",
            "[Parallel(n_jobs=-2)]: Done 500 out of 500 | elapsed:   14.9s finished\n"
          ],
          "name": "stderr"
        },
        {
          "output_type": "stream",
          "text": [
            "{'ridgeclassifiercv__normalize': True, 'simpleimputer__strategy': 'most_frequent', 'targetencoder__min_samples_leaf': 75}\n",
            "\n",
            "Train Accuracy: 0.6359281437125749\n",
            "\n",
            "Test Accuracy: 0.645933014354067\n"
          ],
          "name": "stdout"
        },
        {
          "output_type": "display_data",
          "data": {
            "text/plain": [
              "<Figure size 432x288 with 2 Axes>"
            ],
            "image/png": "[encoded data removed]"
          },
          "metadata": {
            "tags": [],
            "needs_background": "light"
          }
        },
        {
          "output_type": "display_data",
          "data": {
            "text/plain": [
              "<Figure size 720x720 with 1 Axes>"
            ],
            "image/png": "[encoded data removed]"
          },
          "metadata": {
            "tags": [],
            "needs_background": "light"
          }
        }
      ]
    }
  ]
}