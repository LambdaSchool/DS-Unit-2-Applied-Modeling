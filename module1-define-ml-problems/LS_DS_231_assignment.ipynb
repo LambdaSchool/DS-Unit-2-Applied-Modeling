{
  "nbformat": 4,
  "nbformat_minor": 0,
  "metadata": {
    "kernelspec": {
      "display_name": "Python 3",
      "language": "python",
      "name": "python3"
    },
    "language_info": {
      "codemirror_mode": {
        "name": "ipython",
        "version": 3
      },
      "file_extension": ".py",
      "mimetype": "text/x-python",
      "name": "python",
      "nbconvert_exporter": "python",
      "pygments_lexer": "ipython3",
      "version": "3.7.6"
    },
    "colab": {
      "name": "LS_DS_231_assignment.ipynb",
      "provenance": [],
      "collapsed_sections": [],
      "include_colab_link": true
    }
  },
  "cells": [
    {
      "cell_type": "markdown",
      "metadata": {
        "id": "view-in-github",
        "colab_type": "text"
      },
      "source": [
        "<a href=\"https://colab.research.google.com/github/John-G-Thomas/DS-Unit-2-Applied-Modeling/blob/master/module1-define-ml-problems/LS_DS_231_assignment.ipynb\" target=\"_parent\"><img src=\"https://colab.research.google.com/assets/colab-badge.svg\" alt=\"Open In Colab\"/></a>"
      ]
    },
    {
      "cell_type": "markdown",
      "metadata": {
        "colab_type": "text",
        "id": "nCc3XZEyG3XV"
      },
      "source": [
        "Lambda School Data Science\n",
        "\n",
        "*Unit 2, Sprint 3, Module 1*\n",
        "\n",
        "---\n",
        "\n",
        "\n",
        "# Define ML problems\n",
        "\n",
        "You will use your portfolio project dataset for all assignments this sprint.\n",
        "\n",
        "## Assignment\n",
        "\n",
        "Complete these tasks for your project, and document your decisions.\n",
        "\n",
        "- [ ] Choose your target. Which column in your tabular dataset will you predict?\n",
        "- [ ] Is your problem regression or classification?\n",
        "- [ ] How is your target distributed?\n",
        "    - Classification: How many classes? Are the classes imbalanced?\n",
        "    - Regression: Is the target right-skewed? If so, you may want to log transform the target.\n",
        "- [ ] Choose your evaluation metric(s).\n",
        "    - Classification: Is your majority class frequency >= 50% and < 70% ? If so, you can just use accuracy if you want. Outside that range, accuracy could be misleading. What evaluation metric will you choose, in addition to or instead of accuracy?\n",
        "    - Regression: Will you use mean absolute error, root mean squared error, R^2, or other regression metrics?\n",
        "- [ ] Choose which observations you will use to train, validate, and test your model.\n",
        "    - Are some observations outliers? Will you exclude them?\n",
        "    - Will you do a random split or a time-based split?\n",
        "- [ ] Begin to clean and explore your data.\n",
        "- [ ] Begin to choose which features, if any, to exclude. Would some features \"leak\" future information?\n",
        "\n",
        "If you haven't found a dataset yet, do that today. [Review requirements for your portfolio project](https://lambdaschool.github.io/ds/unit2) and choose your dataset.\n",
        "\n",
        "Some students worry, ***what if my model isn't “good”?*** Then, [produce a detailed tribute to your wrongness. That is science!](https://twitter.com/nathanwpyle/status/1176860147223867393)"
      ]
    },
    {
      "cell_type": "code",
      "metadata": {
        "id": "il_h33qQ9cEp",
        "colab_type": "code",
        "colab": {}
      },
      "source": [
        "%%capture\n",
        "import sys\n",
        "\n",
        "if 'google.colab' in sys.modules:\n",
        "    # Install packages in Colab\n",
        "    !pip install category_encoders==2.*\n",
        "    !pip install pandas-profiling==2.*"
      ],
      "execution_count": 1,
      "outputs": []
    },
    {
      "cell_type": "code",
      "metadata": {
        "id": "FAwHASvq-4yL",
        "colab_type": "code",
        "colab": {
          "base_uri": "https://localhost:8080/",
          "height": 70
        },
        "outputId": "e8c1993d-cec3-4fd6-b0d9-7d33ca2fa9a5"
      },
      "source": [
        "# General imports.\n",
        "import category_encoders as ce\n",
        "import itertools\n",
        "import matplotlib.pyplot as plt\n",
        "import pandas as pd\n",
        "import pandas_profiling as pp\n",
        "import numpy as np\n",
        "import seaborn as sns\n",
        "# Plotly imports.\n",
        "import plotly.graph_objs as go\n",
        "from plotly.offline import init_notebook_mode, iplot\n",
        "# Scikit-learn imports.\n",
        "from sklearn.linear_model import LinearRegression\n",
        "from sklearn.metrics import mean_absolute_error\n",
        "from sklearn.metrics import mean_squared_error\n",
        "from sklearn.metrics import r2_score\n",
        "from sklearn.preprocessing import OrdinalEncoder"
      ],
      "execution_count": 2,
      "outputs": [
        {
          "output_type": "stream",
          "text": [
            "/usr/local/lib/python3.6/dist-packages/statsmodels/tools/_testing.py:19: FutureWarning: pandas.util.testing is deprecated. Use the functions in the public API at pandas.testing instead.\n",
            "  import pandas.util.testing as tm\n"
          ],
          "name": "stderr"
        }
      ]
    },
    {
      "cell_type": "code",
      "metadata": {
        "id": "AXTxBkyKB1A3",
        "colab_type": "code",
        "colab": {
          "base_uri": "https://localhost:8080/",
          "height": 333
        },
        "outputId": "e59efece-feb8-4c53-fc0d-832506b5c551"
      },
      "source": [
        "df = pd.read_csv('https://raw.githubusercontent.com/John-G-Thomas/DS-Unit-2-Applied-Modeling/master/data/GlobalTemperatures%20(1).csv')\n",
        "print(df.shape)\n",
        "df.head()"
      ],
      "execution_count": 3,
      "outputs": [
        {
          "output_type": "stream",
          "text": [
            "(3192, 8)\n"
          ],
          "name": "stdout"
        },
        {
          "output_type": "execute_result",
          "data": {
            "text/html": [
              "<div>\n",
              "<style scoped>\n",
              "    .dataframe tbody tr th:only-of-type {\n",
              "        vertical-align: middle;\n",
              "    }\n",
              "\n",
              "    .dataframe tbody tr th {\n",
              "        vertical-align: top;\n",
              "    }\n",
              "\n",
              "    .dataframe thead th {\n",
              "        text-align: right;\n",
              "    }\n",
              "</style>\n",
              "<table border=\"1\" class=\"dataframe\">\n",
              "  <thead>\n",
              "    <tr style=\"text-align: right;\">\n",
              "      <th></th>\n",
              "      <th>Unnamed: 0</th>\n",
              "      <th>LandAverageTemperatureUncertainty</th>\n",
              "      <th>UpperBounds</th>\n",
              "      <th>LowerBounds</th>\n",
              "      <th>month</th>\n",
              "      <th>year</th>\n",
              "      <th>Average_Temperature</th>\n",
              "      <th>Datetime</th>\n",
              "    </tr>\n",
              "  </thead>\n",
              "  <tbody>\n",
              "    <tr>\n",
              "      <th>0</th>\n",
              "      <td>0</td>\n",
              "      <td>3.574</td>\n",
              "      <td>6.608</td>\n",
              "      <td>-0.540</td>\n",
              "      <td>1</td>\n",
              "      <td>1750</td>\n",
              "      <td>3.034</td>\n",
              "      <td>1750-01-01</td>\n",
              "    </tr>\n",
              "    <tr>\n",
              "      <th>1</th>\n",
              "      <td>1</td>\n",
              "      <td>3.702</td>\n",
              "      <td>6.785</td>\n",
              "      <td>-0.619</td>\n",
              "      <td>2</td>\n",
              "      <td>1750</td>\n",
              "      <td>3.083</td>\n",
              "      <td>1750-02-01</td>\n",
              "    </tr>\n",
              "    <tr>\n",
              "      <th>2</th>\n",
              "      <td>2</td>\n",
              "      <td>3.076</td>\n",
              "      <td>8.702</td>\n",
              "      <td>2.550</td>\n",
              "      <td>3</td>\n",
              "      <td>1750</td>\n",
              "      <td>5.626</td>\n",
              "      <td>1750-03-01</td>\n",
              "    </tr>\n",
              "    <tr>\n",
              "      <th>3</th>\n",
              "      <td>3</td>\n",
              "      <td>2.451</td>\n",
              "      <td>10.941</td>\n",
              "      <td>6.039</td>\n",
              "      <td>4</td>\n",
              "      <td>1750</td>\n",
              "      <td>8.490</td>\n",
              "      <td>1750-04-01</td>\n",
              "    </tr>\n",
              "    <tr>\n",
              "      <th>4</th>\n",
              "      <td>4</td>\n",
              "      <td>2.072</td>\n",
              "      <td>13.645</td>\n",
              "      <td>9.501</td>\n",
              "      <td>5</td>\n",
              "      <td>1750</td>\n",
              "      <td>11.573</td>\n",
              "      <td>1750-05-01</td>\n",
              "    </tr>\n",
              "  </tbody>\n",
              "</table>\n",
              "</div>"
            ],
            "text/plain": [
              "   Unnamed: 0  ...    Datetime\n",
              "0           0  ...  1750-01-01\n",
              "1           1  ...  1750-02-01\n",
              "2           2  ...  1750-03-01\n",
              "3           3  ...  1750-04-01\n",
              "4           4  ...  1750-05-01\n",
              "\n",
              "[5 rows x 8 columns]"
            ]
          },
          "metadata": {
            "tags": []
          },
          "execution_count": 3
        }
      ]
    },
    {
      "cell_type": "code",
      "metadata": {
        "id": "L2Yrkj_8CstU",
        "colab_type": "code",
        "colab": {
          "base_uri": "https://localhost:8080/",
          "height": 151
        },
        "outputId": "bd329c2a-6a07-4f38-e6ed-adee99e17e95"
      },
      "source": [
        "list(df.columns)"
      ],
      "execution_count": 4,
      "outputs": [
        {
          "output_type": "execute_result",
          "data": {
            "text/plain": [
              "['Unnamed: 0',\n",
              " 'LandAverageTemperatureUncertainty',\n",
              " 'UpperBounds',\n",
              " 'LowerBounds',\n",
              " 'month',\n",
              " 'year',\n",
              " 'Average_Temperature',\n",
              " 'Datetime']"
            ]
          },
          "metadata": {
            "tags": []
          },
          "execution_count": 4
        }
      ]
    },
    {
      "cell_type": "markdown",
      "metadata": {
        "id": "r18dmsHBDWJ6",
        "colab_type": "text"
      },
      "source": [
        "### 1) Choose your target. Which column in your tabular dataset will you predict? - Regression -  Begin to clean and explore your data. and target"
      ]
    },
    {
      "cell_type": "code",
      "metadata": {
        "id": "HM4g7KK-_1u1",
        "colab_type": "code",
        "colab": {}
      },
      "source": [
        "#Target average temperatures"
      ],
      "execution_count": 5,
      "outputs": []
    },
    {
      "cell_type": "code",
      "metadata": {
        "id": "_bNCrNvh2IzX",
        "colab_type": "code",
        "colab": {}
      },
      "source": [
        "def wrangle(df):\n",
        "  df = df.copy()\n",
        "  #Drop NaN and extra columns and index\n",
        "  df.dropna(subset=['Average_Temperature'], inplace=True)\n",
        "  df.set_index(pd.to_datetime(df['Datetime']), inplace = True)\n",
        "  df.drop('Unnamed: 0', axis=1, inplace=True)\n",
        "  df.drop('Datetime', axis=1, inplace=True)\n",
        "  # Outliners\n",
        "  df = df[(df['Average_Temperature'] >= np.percentile(df['Average_Temperature'], 0.5))\n",
        "  &(df['Average_Temperature'] <= np.percentile(df['Average_Temperature'], 99.5))]\n",
        "  # Split labels from feature matrix and target\n",
        "  y = df['Average_Temperature']\n",
        "  #Return\n",
        "  return df, y"
      ],
      "execution_count": 6,
      "outputs": []
    },
    {
      "cell_type": "code",
      "metadata": {
        "id": "qLI44CamAFa2",
        "colab_type": "code",
        "colab": {
          "base_uri": "https://localhost:8080/",
          "height": 242
        },
        "outputId": "26de2285-c949-4a8a-92b0-ba7abea27f79"
      },
      "source": [
        "# Wrangling\n",
        "X, y = wrangle(df)\n",
        "print(X.shape)\n",
        "X.head()"
      ],
      "execution_count": 7,
      "outputs": [
        {
          "output_type": "stream",
          "text": [
            "(3148, 6)\n"
          ],
          "name": "stdout"
        },
        {
          "output_type": "execute_result",
          "data": {
            "text/html": [
              "<div>\n",
              "<style scoped>\n",
              "    .dataframe tbody tr th:only-of-type {\n",
              "        vertical-align: middle;\n",
              "    }\n",
              "\n",
              "    .dataframe tbody tr th {\n",
              "        vertical-align: top;\n",
              "    }\n",
              "\n",
              "    .dataframe thead th {\n",
              "        text-align: right;\n",
              "    }\n",
              "</style>\n",
              "<table border=\"1\" class=\"dataframe\">\n",
              "  <thead>\n",
              "    <tr style=\"text-align: right;\">\n",
              "      <th></th>\n",
              "      <th>LandAverageTemperatureUncertainty</th>\n",
              "      <th>UpperBounds</th>\n",
              "      <th>LowerBounds</th>\n",
              "      <th>month</th>\n",
              "      <th>year</th>\n",
              "      <th>Average_Temperature</th>\n",
              "    </tr>\n",
              "    <tr>\n",
              "      <th>Datetime</th>\n",
              "      <th></th>\n",
              "      <th></th>\n",
              "      <th></th>\n",
              "      <th></th>\n",
              "      <th></th>\n",
              "      <th></th>\n",
              "    </tr>\n",
              "  </thead>\n",
              "  <tbody>\n",
              "    <tr>\n",
              "      <th>1750-01-01</th>\n",
              "      <td>3.574</td>\n",
              "      <td>6.608</td>\n",
              "      <td>-0.540</td>\n",
              "      <td>1</td>\n",
              "      <td>1750</td>\n",
              "      <td>3.034</td>\n",
              "    </tr>\n",
              "    <tr>\n",
              "      <th>1750-02-01</th>\n",
              "      <td>3.702</td>\n",
              "      <td>6.785</td>\n",
              "      <td>-0.619</td>\n",
              "      <td>2</td>\n",
              "      <td>1750</td>\n",
              "      <td>3.083</td>\n",
              "    </tr>\n",
              "    <tr>\n",
              "      <th>1750-03-01</th>\n",
              "      <td>3.076</td>\n",
              "      <td>8.702</td>\n",
              "      <td>2.550</td>\n",
              "      <td>3</td>\n",
              "      <td>1750</td>\n",
              "      <td>5.626</td>\n",
              "    </tr>\n",
              "    <tr>\n",
              "      <th>1750-04-01</th>\n",
              "      <td>2.451</td>\n",
              "      <td>10.941</td>\n",
              "      <td>6.039</td>\n",
              "      <td>4</td>\n",
              "      <td>1750</td>\n",
              "      <td>8.490</td>\n",
              "    </tr>\n",
              "    <tr>\n",
              "      <th>1750-05-01</th>\n",
              "      <td>2.072</td>\n",
              "      <td>13.645</td>\n",
              "      <td>9.501</td>\n",
              "      <td>5</td>\n",
              "      <td>1750</td>\n",
              "      <td>11.573</td>\n",
              "    </tr>\n",
              "  </tbody>\n",
              "</table>\n",
              "</div>"
            ],
            "text/plain": [
              "            LandAverageTemperatureUncertainty  ...  Average_Temperature\n",
              "Datetime                                       ...                     \n",
              "1750-01-01                              3.574  ...                3.034\n",
              "1750-02-01                              3.702  ...                3.083\n",
              "1750-03-01                              3.076  ...                5.626\n",
              "1750-04-01                              2.451  ...                8.490\n",
              "1750-05-01                              2.072  ...               11.573\n",
              "\n",
              "[5 rows x 6 columns]"
            ]
          },
          "metadata": {
            "tags": []
          },
          "execution_count": 7
        }
      ]
    },
    {
      "cell_type": "code",
      "metadata": {
        "id": "GSP_QkITCJI_",
        "colab_type": "code",
        "colab": {}
      },
      "source": [
        "#X.drop('Datetime', axis=1, inplace=True)"
      ],
      "execution_count": 8,
      "outputs": []
    },
    {
      "cell_type": "code",
      "metadata": {
        "id": "it_Il6gh4uPv",
        "colab_type": "code",
        "colab": {
          "base_uri": "https://localhost:8080/",
          "height": 134
        },
        "outputId": "162a26bb-5b10-432b-877a-2606f6ea953f"
      },
      "source": [
        "X.isnull().sum()"
      ],
      "execution_count": 9,
      "outputs": [
        {
          "output_type": "execute_result",
          "data": {
            "text/plain": [
              "LandAverageTemperatureUncertainty    0\n",
              "UpperBounds                          0\n",
              "LowerBounds                          0\n",
              "month                                0\n",
              "year                                 0\n",
              "Average_Temperature                  0\n",
              "dtype: int64"
            ]
          },
          "metadata": {
            "tags": []
          },
          "execution_count": 9
        }
      ]
    },
    {
      "cell_type": "code",
      "metadata": {
        "id": "3tpBlLW4DnQu",
        "colab_type": "code",
        "colab": {
          "base_uri": "https://localhost:8080/",
          "height": 235
        },
        "outputId": "cec932ec-7513-4e1b-bbe8-b1fe6fef74e5"
      },
      "source": [
        "X.info()"
      ],
      "execution_count": 10,
      "outputs": [
        {
          "output_type": "stream",
          "text": [
            "<class 'pandas.core.frame.DataFrame'>\n",
            "DatetimeIndex: 3148 entries, 1750-01-01 to 2015-12-01\n",
            "Data columns (total 6 columns):\n",
            " #   Column                             Non-Null Count  Dtype  \n",
            "---  ------                             --------------  -----  \n",
            " 0   LandAverageTemperatureUncertainty  3148 non-null   float64\n",
            " 1   UpperBounds                        3148 non-null   float64\n",
            " 2   LowerBounds                        3148 non-null   float64\n",
            " 3   month                              3148 non-null   int64  \n",
            " 4   year                               3148 non-null   int64  \n",
            " 5   Average_Temperature                3148 non-null   float64\n",
            "dtypes: float64(4), int64(2)\n",
            "memory usage: 172.2 KB\n"
          ],
          "name": "stdout"
        }
      ]
    },
    {
      "cell_type": "code",
      "metadata": {
        "id": "H1Z2649MDo82",
        "colab_type": "code",
        "colab": {
          "base_uri": "https://localhost:8080/",
          "height": 284
        },
        "outputId": "27ae3db8-ca48-4805-e015-23dbfc0cf0a3"
      },
      "source": [
        "X.describe()"
      ],
      "execution_count": 11,
      "outputs": [
        {
          "output_type": "execute_result",
          "data": {
            "text/html": [
              "<div>\n",
              "<style scoped>\n",
              "    .dataframe tbody tr th:only-of-type {\n",
              "        vertical-align: middle;\n",
              "    }\n",
              "\n",
              "    .dataframe tbody tr th {\n",
              "        vertical-align: top;\n",
              "    }\n",
              "\n",
              "    .dataframe thead th {\n",
              "        text-align: right;\n",
              "    }\n",
              "</style>\n",
              "<table border=\"1\" class=\"dataframe\">\n",
              "  <thead>\n",
              "    <tr style=\"text-align: right;\">\n",
              "      <th></th>\n",
              "      <th>LandAverageTemperatureUncertainty</th>\n",
              "      <th>UpperBounds</th>\n",
              "      <th>LowerBounds</th>\n",
              "      <th>month</th>\n",
              "      <th>year</th>\n",
              "      <th>Average_Temperature</th>\n",
              "    </tr>\n",
              "  </thead>\n",
              "  <tbody>\n",
              "    <tr>\n",
              "      <th>count</th>\n",
              "      <td>3148.000000</td>\n",
              "      <td>3148.000000</td>\n",
              "      <td>3148.000000</td>\n",
              "      <td>3148.000000</td>\n",
              "      <td>3148.000000</td>\n",
              "      <td>3148.000000</td>\n",
              "    </tr>\n",
              "    <tr>\n",
              "      <th>mean</th>\n",
              "      <td>0.913300</td>\n",
              "      <td>9.293713</td>\n",
              "      <td>7.467113</td>\n",
              "      <td>6.513977</td>\n",
              "      <td>1884.038119</td>\n",
              "      <td>8.380413</td>\n",
              "    </tr>\n",
              "    <tr>\n",
              "      <th>std</th>\n",
              "      <td>1.060012</td>\n",
              "      <td>4.233927</td>\n",
              "      <td>4.641216</td>\n",
              "      <td>3.449319</td>\n",
              "      <td>76.064469</td>\n",
              "      <td>4.313918</td>\n",
              "    </tr>\n",
              "    <tr>\n",
              "      <th>min</th>\n",
              "      <td>0.034000</td>\n",
              "      <td>0.988000</td>\n",
              "      <td>-5.965000</td>\n",
              "      <td>1.000000</td>\n",
              "      <td>1750.000000</td>\n",
              "      <td>-0.108000</td>\n",
              "    </tr>\n",
              "    <tr>\n",
              "      <th>25%</th>\n",
              "      <td>0.186000</td>\n",
              "      <td>5.399750</td>\n",
              "      <td>3.387000</td>\n",
              "      <td>4.000000</td>\n",
              "      <td>1819.000000</td>\n",
              "      <td>4.359750</td>\n",
              "    </tr>\n",
              "    <tr>\n",
              "      <th>50%</th>\n",
              "      <td>0.383000</td>\n",
              "      <td>9.397500</td>\n",
              "      <td>7.818000</td>\n",
              "      <td>6.500000</td>\n",
              "      <td>1884.000000</td>\n",
              "      <td>8.610500</td>\n",
              "    </tr>\n",
              "    <tr>\n",
              "      <th>75%</th>\n",
              "      <td>1.383000</td>\n",
              "      <td>13.351000</td>\n",
              "      <td>11.685500</td>\n",
              "      <td>10.000000</td>\n",
              "      <td>1950.000000</td>\n",
              "      <td>12.526250</td>\n",
              "    </tr>\n",
              "    <tr>\n",
              "      <th>max</th>\n",
              "      <td>7.880000</td>\n",
              "      <td>20.702000</td>\n",
              "      <td>15.277000</td>\n",
              "      <td>12.000000</td>\n",
              "      <td>2015.000000</td>\n",
              "      <td>15.462000</td>\n",
              "    </tr>\n",
              "  </tbody>\n",
              "</table>\n",
              "</div>"
            ],
            "text/plain": [
              "       LandAverageTemperatureUncertainty  ...  Average_Temperature\n",
              "count                        3148.000000  ...          3148.000000\n",
              "mean                            0.913300  ...             8.380413\n",
              "std                             1.060012  ...             4.313918\n",
              "min                             0.034000  ...            -0.108000\n",
              "25%                             0.186000  ...             4.359750\n",
              "50%                             0.383000  ...             8.610500\n",
              "75%                             1.383000  ...            12.526250\n",
              "max                             7.880000  ...            15.462000\n",
              "\n",
              "[8 rows x 6 columns]"
            ]
          },
          "metadata": {
            "tags": []
          },
          "execution_count": 11
        }
      ]
    },
    {
      "cell_type": "markdown",
      "metadata": {
        "id": "bomtw0q471bB",
        "colab_type": "text"
      },
      "source": [
        "### 2) Choose which observations you will use to train, validate, and test your model"
      ]
    },
    {
      "cell_type": "code",
      "metadata": {
        "id": "66M-hAHP5728",
        "colab_type": "code",
        "colab": {
          "base_uri": "https://localhost:8080/",
          "height": 218
        },
        "outputId": "a22113a2-1c69-4e40-cf08-0069da2215ca"
      },
      "source": [
        "# Train test split based on time Industrial Revolution start of carbon emmision cutoff\n",
        "cutoff = '1850-12-31'\n",
        "X_train, y_train = X[X.index < cutoff], y[y.index < cutoff]\n",
        "X_val, y_val = X[X.index >= cutoff], y[y.index >= cutoff]\n",
        "\n",
        "# Baseline\n",
        "y_train.value_counts(normalize=True)"
      ],
      "execution_count": 12,
      "outputs": [
        {
          "output_type": "execute_result",
          "data": {
            "text/plain": [
              "3.213     0.002566\n",
              "13.744    0.001711\n",
              "13.556    0.001711\n",
              "5.572     0.001711\n",
              "13.293    0.001711\n",
              "            ...   \n",
              "5.061     0.000855\n",
              "8.182     0.000855\n",
              "11.788    0.000855\n",
              "4.312     0.000855\n",
              "14.750    0.000855\n",
              "Name: Average_Temperature, Length: 1131, dtype: float64"
            ]
          },
          "metadata": {
            "tags": []
          },
          "execution_count": 12
        }
      ]
    },
    {
      "cell_type": "code",
      "metadata": {
        "id": "VXO5_7VfPVuc",
        "colab_type": "code",
        "colab": {
          "base_uri": "https://localhost:8080/",
          "height": 118
        },
        "outputId": "602eadb6-f5fb-4721-a107-ab2a3a530cf6"
      },
      "source": [
        "print(X_train.shape)\n",
        "print(y_train.shape)\n",
        "print(X_val.shape)\n",
        "print(y_val.shape)\n",
        "print(X.shape)\n",
        "print(y.shape)"
      ],
      "execution_count": 13,
      "outputs": [
        {
          "output_type": "stream",
          "text": [
            "(1169, 6)\n",
            "(1169,)\n",
            "(1979, 6)\n",
            "(1979,)\n",
            "(3148, 6)\n",
            "(3148,)\n"
          ],
          "name": "stdout"
        }
      ]
    },
    {
      "cell_type": "code",
      "metadata": {
        "id": "9XEFH5avPXu2",
        "colab_type": "code",
        "colab": {
          "base_uri": "https://localhost:8080/",
          "height": 235
        },
        "outputId": "eb42e8cf-2f5a-4fa3-fbb8-a640cf44f1c8"
      },
      "source": [
        "y"
      ],
      "execution_count": 14,
      "outputs": [
        {
          "output_type": "execute_result",
          "data": {
            "text/plain": [
              "Datetime\n",
              "1750-01-01     3.034\n",
              "1750-02-01     3.083\n",
              "1750-03-01     5.626\n",
              "1750-04-01     8.490\n",
              "1750-05-01    11.573\n",
              "               ...  \n",
              "2015-08-01    14.755\n",
              "2015-09-01    12.999\n",
              "2015-10-01    10.801\n",
              "2015-11-01     7.433\n",
              "2015-12-01     5.518\n",
              "Name: Average_Temperature, Length: 3148, dtype: float64"
            ]
          },
          "metadata": {
            "tags": []
          },
          "execution_count": 14
        }
      ]
    },
    {
      "cell_type": "markdown",
      "metadata": {
        "id": "ySvl7orj77BV",
        "colab_type": "text"
      },
      "source": [
        "### 2) Regression: Is the target right-skewed? If so, you may want to log transform the target."
      ]
    },
    {
      "cell_type": "code",
      "metadata": {
        "id": "Lfizq2FN7YJG",
        "colab_type": "code",
        "colab": {}
      },
      "source": [
        "# The distribution has improved, but is still skeved based on seasons of the year"
      ],
      "execution_count": 15,
      "outputs": []
    },
    {
      "cell_type": "code",
      "metadata": {
        "id": "DEukFY-h7VTM",
        "colab_type": "code",
        "colab": {
          "base_uri": "https://localhost:8080/",
          "height": 365
        },
        "outputId": "7c319e63-f414-43d9-aac4-8bc888d94b22"
      },
      "source": [
        "sns.distplot(y);"
      ],
      "execution_count": 16,
      "outputs": [
        {
          "output_type": "display_data",
          "data": {
            "image/png": "[encoded data removed]",
            "text/plain": [
              "<Figure size 576x396 with 1 Axes>"
            ]
          },
          "metadata": {
            "tags": []
          }
        }
      ]
    },
    {
      "cell_type": "code",
      "metadata": {
        "id": "QrKOuVc4AAks",
        "colab_type": "code",
        "colab": {
          "base_uri": "https://localhost:8080/",
          "height": 381
        },
        "outputId": "3479e23f-c7b7-4ad4-9057-3c58fc08fd89"
      },
      "source": [
        "sns.distplot(y)\n",
        "plt.title('Original target, in the unit Celcius');"
      ],
      "execution_count": 17,
      "outputs": [
        {
          "output_type": "display_data",
          "data": {
            "image/png": "[encoded data removed]",
            "text/plain": [
              "<Figure size 576x396 with 1 Axes>"
            ]
          },
          "metadata": {
            "tags": []
          }
        }
      ]
    },
    {
      "cell_type": "code",
      "metadata": {
        "id": "04bqrjdxAS9Q",
        "colab_type": "code",
        "colab": {}
      },
      "source": [
        "#Based on log scal the data is skewed right"
      ],
      "execution_count": 18,
      "outputs": []
    },
    {
      "cell_type": "code",
      "metadata": {
        "id": "S4PIVIxLAGI4",
        "colab_type": "code",
        "colab": {
          "base_uri": "https://localhost:8080/",
          "height": 381
        },
        "outputId": "cf97f69c-e717-4406-f03a-1547e6567a79"
      },
      "source": [
        "y_log = np.log1p(y)\n",
        "sns.distplot(y_log)\n",
        "plt.title('Log-transformed target, in log-degrees');"
      ],
      "execution_count": 19,
      "outputs": [
        {
          "output_type": "display_data",
          "data": {
            "image/png": "[encoded data removed]",
            "text/plain": [
              "<Figure size 576x396 with 1 Axes>"
            ]
          },
          "metadata": {
            "tags": []
          }
        }
      ]
    },
    {
      "cell_type": "code",
      "metadata": {
        "id": "v_bcdN_vAQFm",
        "colab_type": "code",
        "colab": {
          "base_uri": "https://localhost:8080/",
          "height": 381
        },
        "outputId": "3442a202-5161-4208-f47d-892e533a2ca2"
      },
      "source": [
        "y_untransformed = np.expm1(y_log)\n",
        "sns.distplot(y_untransformed)\n",
        "plt.title('Back to the original units');"
      ],
      "execution_count": 20,
      "outputs": [
        {
          "output_type": "display_data",
          "data": {
            "image/png": "[encoded data removed]",
            "text/plain": [
              "<Figure size 576x396 with 1 Axes>"
            ]
          },
          "metadata": {
            "tags": []
          }
        }
      ]
    },
    {
      "cell_type": "markdown",
      "metadata": {
        "id": "yNXO81rSDg_C",
        "colab_type": "text"
      },
      "source": [
        "### 3) Choose your evaluation metric(s) - Regression: Will you use mean absolute error, root mean squared error, R^2, or other regression metrics?"
      ]
    },
    {
      "cell_type": "code",
      "metadata": {
        "id": "3LGDmU2HQpPv",
        "colab_type": "code",
        "colab": {}
      },
      "source": [
        "# All the imports\n",
        "from sklearn.linear_model import LogisticRegressionCV\n",
        "from sklearn.preprocessing import StandardScaler\n",
        "from category_encoders import OneHotEncoder\n",
        "from sklearn.pipeline import Pipeline\n",
        "from sklearn.impute import SimpleImputer\n",
        "from sklearn.metrics import accuracy_score\n",
        "import category_encoders as ce\n",
        "from sklearn.ensemble import RandomForestClassifier\n",
        "from sklearn.pipeline import make_pipeline"
      ],
      "execution_count": 34,
      "outputs": []
    },
    {
      "cell_type": "code",
      "metadata": {
        "id": "ARkr2be6Dnu-",
        "colab_type": "code",
        "colab": {
          "base_uri": "https://localhost:8080/",
          "height": 350
        },
        "outputId": "eb27d13e-92ed-48f5-ce79-2d305dd67872"
      },
      "source": [
        "#Mean Absolute Error Baseline\n",
        "average = y.mean()\n",
        "MAE = average - y\n",
        "MAE.plot(kind='hist');"
      ],
      "execution_count": 22,
      "outputs": [
        {
          "output_type": "display_data",
          "data": {
            "image/png": "[encoded data removed]",
            "text/plain": [
              "<Figure size 576x396 with 1 Axes>"
            ]
          },
          "metadata": {
            "tags": []
          }
        }
      ]
    },
    {
      "cell_type": "code",
      "metadata": {
        "id": "s7WeP6WWBc3S",
        "colab_type": "code",
        "colab": {
          "base_uri": "https://localhost:8080/",
          "height": 34
        },
        "outputId": "229beb39-048a-4570-8f45-5a6040674bdb"
      },
      "source": [
        "MAE = MAE.abs().mean()\n",
        "MAE"
      ],
      "execution_count": 23,
      "outputs": [
        {
          "output_type": "execute_result",
          "data": {
            "text/plain": [
              "3.8444654325612078"
            ]
          },
          "metadata": {
            "tags": []
          },
          "execution_count": 23
        }
      ]
    },
    {
      "cell_type": "code",
      "metadata": {
        "id": "MnVfHctVBWgX",
        "colab_type": "code",
        "colab": {}
      },
      "source": [
        "#standard deviation"
      ],
      "execution_count": 24,
      "outputs": []
    },
    {
      "cell_type": "code",
      "metadata": {
        "id": "kXupj69GBT29",
        "colab_type": "code",
        "colab": {
          "base_uri": "https://localhost:8080/",
          "height": 34
        },
        "outputId": "2db68a2b-84d9-44f1-c49a-7db064bcdd25"
      },
      "source": [
        "y.std()"
      ],
      "execution_count": 25,
      "outputs": [
        {
          "output_type": "execute_result",
          "data": {
            "text/plain": [
              "4.31391807188852"
            ]
          },
          "metadata": {
            "tags": []
          },
          "execution_count": 25
        }
      ]
    },
    {
      "cell_type": "code",
      "metadata": {
        "id": "drI14X4LRVFq",
        "colab_type": "code",
        "colab": {
          "base_uri": "https://localhost:8080/",
          "height": 151
        },
        "outputId": "d71d0bf8-d295-45ae-b5fe-f38c01bfcfb2"
      },
      "source": [
        "list(df.columns)"
      ],
      "execution_count": 29,
      "outputs": [
        {
          "output_type": "execute_result",
          "data": {
            "text/plain": [
              "['Unnamed: 0',\n",
              " 'LandAverageTemperatureUncertainty',\n",
              " 'UpperBounds',\n",
              " 'LowerBounds',\n",
              " 'month',\n",
              " 'year',\n",
              " 'Average_Temperature',\n",
              " 'Datetime']"
            ]
          },
          "metadata": {
            "tags": []
          },
          "execution_count": 29
        }
      ]
    },
    {
      "cell_type": "markdown",
      "metadata": {
        "id": "ye1tMZbMBzp8",
        "colab_type": "text"
      },
      "source": [
        "- linear Regressions"
      ]
    },
    {
      "cell_type": "code",
      "metadata": {
        "id": "a8yf_EbfBZV3",
        "colab_type": "code",
        "colab": {
          "base_uri": "https://localhost:8080/",
          "height": 34
        },
        "outputId": "cfe590fb-c5f8-4e3c-883e-5901500da7ee"
      },
      "source": [
        "#make and train our model \n",
        "#initiate the class\n",
        "model_2f =  LinearRegression()\n",
        "#make features and target\n",
        "features = ['year','month','LowerBounds','UpperBounds','LandAverageTemperatureUncertainty']\n",
        "target = ['Average_Temperature']\n",
        "#make train data\n",
        "x_train = X[features]\n",
        "y_train = X[target]\n",
        "#fit the model \n",
        "model_2f.fit(x_train,y_train)"
      ],
      "execution_count": 30,
      "outputs": [
        {
          "output_type": "execute_result",
          "data": {
            "text/plain": [
              "LinearRegression(copy_X=True, fit_intercept=True, n_jobs=None, normalize=False)"
            ]
          },
          "metadata": {
            "tags": []
          },
          "execution_count": 30
        }
      ]
    },
    {
      "cell_type": "code",
      "metadata": {
        "id": "KNaoUIfDQtCn",
        "colab_type": "code",
        "colab": {}
      },
      "source": [
        "# Select features - 1 Categorical Feature & 1  numeric features\n",
        "features = ['Overall_Qual', 'Neighborhood']\n",
        "target = 'SalePrice'"
      ],
      "execution_count": null,
      "outputs": []
    },
    {
      "cell_type": "code",
      "metadata": {
        "id": "UYx_-t0RD7Bk",
        "colab_type": "code",
        "colab": {}
      },
      "source": [
        "#test train data\n",
        "train_pred = model_2f.predict(x_train)"
      ],
      "execution_count": 32,
      "outputs": []
    },
    {
      "cell_type": "code",
      "metadata": {
        "id": "KLGpRUQmFLPB",
        "colab_type": "code",
        "colab": {}
      },
      "source": [
        "#Baseline R^2 Get better tgab 100% still getting 100% for some reason :("
      ],
      "execution_count": null,
      "outputs": []
    },
    {
      "cell_type": "code",
      "metadata": {
        "id": "3G_e8HUQFMdd",
        "colab_type": "code",
        "colab": {
          "base_uri": "https://localhost:8080/",
          "height": 34
        },
        "outputId": "2d0528d9-1964-4825-dd6f-8c6afeecfa70"
      },
      "source": [
        "r2 = r2_score(y_train,train_pred)\n",
        "print(f' R2 score for train: {r2}')"
      ],
      "execution_count": 33,
      "outputs": [
        {
          "output_type": "stream",
          "text": [
            " R2 score for train: 1.0\n"
          ],
          "name": "stdout"
        }
      ]
    }
  ]
}