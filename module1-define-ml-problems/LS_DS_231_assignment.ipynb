{
  "nbformat": 4,
  "nbformat_minor": 0,
  "metadata": {
    "kernelspec": {
      "display_name": "Python 3",
      "language": "python",
      "name": "python3"
    },
    "language_info": {
      "codemirror_mode": {
        "name": "ipython",
        "version": 3
      },
      "file_extension": ".py",
      "mimetype": "text/x-python",
      "name": "python",
      "nbconvert_exporter": "python",
      "pygments_lexer": "ipython3",
      "version": "3.7.6"
    },
    "colab": {
      "name": "LS_DS_231_assignment.ipynb",
      "provenance": []
    }
  },
  "cells": [
    {
      "cell_type": "markdown",
      "metadata": {
        "colab_type": "text",
        "id": "nCc3XZEyG3XV"
      },
      "source": [
        "Lambda School Data Science\n",
        "\n",
        "*Unit 2, Sprint 3, Module 1*\n",
        "\n",
        "---\n",
        "\n",
        "\n",
        "# Define ML problems\n",
        "\n",
        "You will use your portfolio project dataset for all assignments this sprint.\n",
        "\n",
        "## Assignment\n",
        "\n",
        "Complete these tasks for your project, and document your decisions.\n",
        "\n",
        "- [x] Choose your target. Which column in your tabular dataset will you predict?\n",
        "    - sentiment classifier - target is sentiment of the product review (positive or negative)\n",
        "    - natural image classifier - target is the image class\n",
        "- [x] Is your problem regression or classification?\n",
        "    - sentiment - binary classification \n",
        "    - natural image - multiclass (single label) classification \n",
        "- [x] How is your target distributed?\n",
        "    - classes are more or less balanced\n",
        "- [x] Choose your evaluation metric(s).\n",
        "    - accuracy, BUT am displaying a confusion matrix for the review sentiment classifier (live feedback filled into confusion matrix display)\n",
        "- [x] Choose which observations you will use to train, validate, and test your model.\n",
        "    - random split (no time/date info for observations)\n",
        "- [x] Begin to clean and explore your data.\n",
        "    - my process:\n",
        "      - convert image/text to basilica embedding and log class of instance in filename (using regex to determine target while loading data for training)\n",
        "- [x] Begin to choose which features, if any, to exclude. Would some features \"leak\" future information?\n",
        "    - will not be using the product titles (review sentiment classifier) but could've used a similar technique to make the classification purely from the title of the review "
      ]
    }
  ]
}