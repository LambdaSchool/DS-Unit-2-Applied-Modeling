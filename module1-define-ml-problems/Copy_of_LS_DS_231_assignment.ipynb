{
  "nbformat": 4,
  "nbformat_minor": 0,
  "metadata": {
    "kernelspec": {
      "display_name": "Python 3",
      "language": "python",
      "name": "python3"
    },
    "language_info": {
      "codemirror_mode": {
        "name": "ipython",
        "version": 3
      },
      "file_extension": ".py",
      "mimetype": "text/x-python",
      "name": "python",
      "nbconvert_exporter": "python",
      "pygments_lexer": "ipython3",
      "version": "3.7.6"
    },
    "colab": {
      "name": "Copy of LS_DS_231_assignment.ipynb",
      "provenance": [],
      "include_colab_link": true
    }
  },
  "cells": [
    {
      "cell_type": "markdown",
      "metadata": {
        "id": "view-in-github",
        "colab_type": "text"
      },
      "source": [
        "<a href=\"https://colab.research.google.com/github/schase15/DS-Unit-2-Applied-Modeling/blob/master/module1-define-ml-problems/Copy_of_LS_DS_231_assignment.ipynb\" target=\"_parent\"><img src=\"https://colab.research.google.com/assets/colab-badge.svg\" alt=\"Open In Colab\"/></a>"
      ]
    },
    {
      "cell_type": "markdown",
      "metadata": {
        "colab_type": "text",
        "id": "nCc3XZEyG3XV"
      },
      "source": [
        "Lambda School Data Science\n",
        "\n",
        "*Unit 2, Sprint 3, Module 1*\n",
        "\n",
        "---\n",
        "\n",
        "\n",
        "# Define ML problems\n",
        "\n",
        "You will use your portfolio project dataset for all assignments this sprint.\n",
        "\n",
        "## Assignment\n",
        "\n",
        "Complete these tasks for your project, and document your decisions.\n",
        "\n",
        "- [ ] Choose your target. Which column in your tabular dataset will you predict?\n",
        "- [ ] Is your problem regression or classification?\n",
        "- [ ] How is your target distributed?\n",
        "    - Classification: How many classes? Are the classes imbalanced?\n",
        "    - Regression: Is the target right-skewed? If so, you may want to log transform the target.\n",
        "- [ ] Choose your evaluation metric(s).\n",
        "    - Classification: Is your majority class frequency >= 50% and < 70% ? If so, you can just use accuracy if you want. Outside that range, accuracy could be misleading. What evaluation metric will you choose, in addition to or instead of accuracy?\n",
        "    - Regression: Will you use mean absolute error, root mean squared error, R^2, or other regression metrics?\n",
        "- [ ] Choose which observations you will use to train, validate, and test your model.\n",
        "    - Are some observations outliers? Will you exclude them?\n",
        "    - Will you do a random split or a time-based split?\n",
        "- [ ] Begin to clean and explore your data.\n",
        "- [ ] Begin to choose which features, if any, to exclude. Would some features \"leak\" future information?\n",
        "\n",
        "If you haven't found a dataset yet, do that today. [Review requirements for your portfolio project](https://lambdaschool.github.io/ds/unit2) and choose your dataset.\n",
        "\n",
        "Some students worry, ***what if my model isn't “good”?*** Then, [produce a detailed tribute to your wrongness. That is science!](https://twitter.com/nathanwpyle/status/1176860147223867393)"
      ]
    },
    {
      "cell_type": "markdown",
      "metadata": {
        "id": "XQdgCdXElP7q",
        "colab_type": "text"
      },
      "source": [
        "## Working with Hospital Inpatient Discharges (SPARCS De-identified): 2017\n",
        "- Source: New York State Health Department\n",
        "- https://health.data.ny.gov/dataset/Hospital-Inpatient-Discharges-SPARCS-De-Identified/22g3-z7e7"
      ]
    },
    {
      "cell_type": "markdown",
      "metadata": {
        "id": "N21Xkf8llP_5",
        "colab_type": "text"
      },
      "source": [
        "**The target that I want to predict is APR Risk of Mortality.**\n",
        "\n",
        "This is an important target as it will dictate certain decisions such as treatments, aggresiveness of care, familial preparations for the worst outcome etc...\n",
        "- Ordinal rank Minor(1), Moderate(2), Major(3), Extreme(4)"
      ]
    },
    {
      "cell_type": "markdown",
      "metadata": {
        "id": "pcRuLrLsqMvC",
        "colab_type": "text"
      },
      "source": [
        "My problem is a multi-class classification"
      ]
    },
    {
      "cell_type": "markdown",
      "metadata": {
        "id": "fvF5Zn_vpqVS",
        "colab_type": "text"
      },
      "source": [
        "My target is right skewed and inbalanced. \n",
        "\n",
        "Value_counts:\n",
        "\n",
        "1.0    1338452 <br>\n",
        "2.0     508068 <br>\n",
        "3.0     378128 <br>\n",
        "4.0     118681 <br>"
      ]
    },
    {
      "cell_type": "markdown",
      "metadata": {
        "id": "EEbcdgtcpqYI",
        "colab_type": "text"
      },
      "source": [
        "The majority class (1) for my target is is 57%. <br>\n",
        "I will use accuracy and ROC AUC score as my evaluation metrics"
      ]
    },
    {
      "cell_type": "markdown",
      "metadata": {
        "id": "ULwqm5fgpqam",
        "colab_type": "text"
      },
      "source": [
        "I will use a random split to train/val/test my data as all observations are within the same year. <br>\n",
        "\n",
        "\n"
      ]
    },
    {
      "cell_type": "markdown",
      "metadata": {
        "id": "N4UERcnfAmsU",
        "colab_type": "text"
      },
      "source": [
        "## Feature Exploration"
      ]
    },
    {
      "cell_type": "markdown",
      "metadata": {
        "id": "axAcPZbN0MKS",
        "colab_type": "text"
      },
      "source": [
        "**Features to exclude** <br>\n",
        "Not applicable to target\n",
        "- Payment Typology 1\n",
        "- Payment Typology 2\n",
        "- Payment Typology 3\n",
        "- Permanent Facility Id\n",
        "- Operating Certificate Number\n",
        "- Facility Name\n",
        "- Patient Disposition (Destination upon discharge, I want to predict mortality risk while at the hospital. Where they were discharged afterwards isn't information I would have in the timeframe that I want to use my model.)\n",
        "- Discharge year (The entire dataset is for the year 2017) \n",
        "- Total charges?\n",
        "- Total cost? (both of these are information gathered after I would want my model to be used, not sure if they are helpful.\n",
        "\n",
        "Redundant: All of the codes have a description column. I will pull them out as a reference table, but for my model they are redundant.\n",
        "- CCS Diagnosis Description\n",
        "- CCS Procedure Description\n",
        "- APR DRG Description\n",
        "- APR MDC Description\n",
        "\n",
        "\n",
        "Potential data leakage:\n",
        "- APR Severity of Illness code (might have a direct correlation to Risk of Mortality. They are missing the exact same amount of values)\n",
        "\n",
        "\n",
        "Questionable features:\n",
        "- Hospital Service Area\n",
        "- Hospital Country\n",
        "- Zip code\n",
        "\n",
        "If I want to create a universal model to predict risk of mortality I don't know if I should be including geographic information. Might be interesting to use it in reference to large cities or affluent areas. Maybe transform it to binary (within x miles of large city yes/no) \n",
        "\n",
        "- birth weight (only applicable to newborns)\n",
        "\n",
        "Some of the categories are more generic sets of other categories. For example APR DRG Classification codes fit inside APR MDC codes.\n",
        "- Same with all of the geographic information.\n",
        "\n",
        "\n"
      ]
    },
    {
      "cell_type": "markdown",
      "metadata": {
        "id": "5NFJVTIAArd1",
        "colab_type": "text"
      },
      "source": [
        "## Data Cleaning"
      ]
    },
    {
      "cell_type": "markdown",
      "metadata": {
        "id": "tEKkM2pUAP0e",
        "colab_type": "text"
      },
      "source": [
        "**Replace missing values**\n",
        "- replace missing values with np.nan\n",
        "- impute categories with most frequent and numeric with mean"
      ]
    },
    {
      "cell_type": "markdown",
      "metadata": {
        "id": "GpOTEPQIAkG3",
        "colab_type": "text"
      },
      "source": [
        "**Encode**\n",
        "- Encode binary columns with 1/0\n",
        "- Replace minor, moderate, major, extreme with 1,2,3,4\n",
        "- Ordinal encode others"
      ]
    },
    {
      "cell_type": "code",
      "metadata": {
        "id": "Jc7iE44blQJg",
        "colab_type": "code",
        "colab": {}
      },
      "source": [
        "# All of my actual code is on my notebook for build week\n",
        "# Above is the summery of exploration I did"
      ],
      "execution_count": 0,
      "outputs": []
    },
    {
      "cell_type": "code",
      "metadata": {
        "id": "jVZf2wLalQME",
        "colab_type": "code",
        "colab": {}
      },
      "source": [
        ""
      ],
      "execution_count": 0,
      "outputs": []
    },
    {
      "cell_type": "code",
      "metadata": {
        "id": "QVfvbPKxlQPk",
        "colab_type": "code",
        "colab": {}
      },
      "source": [
        ""
      ],
      "execution_count": 0,
      "outputs": []
    },
    {
      "cell_type": "code",
      "metadata": {
        "id": "S4v1J9QNlQSR",
        "colab_type": "code",
        "colab": {}
      },
      "source": [
        ""
      ],
      "execution_count": 0,
      "outputs": []
    }
  ]
}