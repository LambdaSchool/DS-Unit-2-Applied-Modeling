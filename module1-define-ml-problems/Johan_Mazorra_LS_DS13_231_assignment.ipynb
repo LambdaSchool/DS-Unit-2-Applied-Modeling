{
  "nbformat": 4,
  "nbformat_minor": 0,
  "metadata": {
    "kernelspec": {
      "display_name": "Python 3",
      "language": "python",
      "name": "python3"
    },
    "language_info": {
      "codemirror_mode": {
        "name": "ipython",
        "version": 3
      },
      "file_extension": ".py",
      "mimetype": "text/x-python",
      "name": "python",
      "nbconvert_exporter": "python",
      "pygments_lexer": "ipython3",
      "version": "3.7.6"
    },
    "colab": {
      "name": "Johan_Mazorra_LS_DS13_231_assignment.ipynb",
      "provenance": [],
      "include_colab_link": true
    }
  },
  "cells": [
    {
      "cell_type": "markdown",
      "metadata": {
        "id": "view-in-github",
        "colab_type": "text"
      },
      "source": [
        "<a href=\"https://colab.research.google.com/github/jsmazorra/DS-Unit-2-Applied-Modeling/blob/master/module1-define-ml-problems/Johan_Mazorra_LS_DS13_231_assignment.ipynb\" target=\"_parent\"><img src=\"https://colab.research.google.com/assets/colab-badge.svg\" alt=\"Open In Colab\"/></a>"
      ]
    },
    {
      "cell_type": "markdown",
      "metadata": {
        "colab_type": "text",
        "id": "nCc3XZEyG3XV"
      },
      "source": [
        "Lambda School Data Science\n",
        "\n",
        "*Unit 2, Sprint 3, Module 1*\n",
        "\n",
        "---\n",
        "\n",
        "\n",
        "# Define ML problems\n",
        "\n",
        "You will use your portfolio project dataset for all assignments this sprint.\n",
        "\n",
        "## Assignment\n",
        "\n",
        "Complete these tasks for your project, and document your decisions.\n",
        "\n",
        "- [ ] Choose your target. Which column in your tabular dataset will you predict?\n",
        "- [ ] Is your problem regression or classification?\n",
        "- [ ] How is your target distributed?\n",
        "    - Classification: How many classes? Are the classes imbalanced?\n",
        "    - Regression: Is the target right-skewed? If so, you may want to log transform the target.\n",
        "- [ ] Choose your evaluation metric(s).\n",
        "    - Classification: Is your majority class frequency >= 50% and < 70% ? If so, you can just use accuracy if you want. Outside that range, accuracy could be misleading. What evaluation metric will you choose, in addition to or instead of accuracy?\n",
        "    - Regression: Will you use mean absolute error, root mean squared error, R^2, or other regression metrics?\n",
        "- [ ] Choose which observations you will use to train, validate, and test your model.\n",
        "    - Are some observations outliers? Will you exclude them?\n",
        "    - Will you do a random split or a time-based split?\n",
        "- [ ] Begin to clean and explore your data.\n",
        "- [ ] Begin to choose which features, if any, to exclude. Would some features \"leak\" future information?\n",
        "\n",
        "If you haven't found a dataset yet, do that today. [Review requirements for your portfolio project](https://lambdaschool.github.io/ds/unit2) and choose your dataset.\n",
        "\n",
        "Some students worry, ***what if my model isn't “good”?*** Then, [produce a detailed tribute to your wrongness. That is science!](https://twitter.com/nathanwpyle/status/1176860147223867393)"
      ]
    },
    {
      "cell_type": "code",
      "metadata": {
        "id": "nQaIldV8tCHG",
        "colab_type": "code",
        "colab": {
          "base_uri": "https://localhost:8080/",
          "height": 241
        },
        "outputId": "cf14e6a0-7a5f-4708-a47e-598accfc8ab5"
      },
      "source": [
        "# Let's go ahead and load up the dataset.\n",
        "import pandas as pd\n",
        "\n",
        "train = pd.read_csv('fifa_ranking.csv')\n",
        "test = pd.read_csv('fifa_ranking.csv')\n",
        "\n",
        "print(train.shape)\n",
        "train.head()"
      ],
      "execution_count": 136,
      "outputs": [
        {
          "output_type": "stream",
          "text": [
            "(57793, 16)\n"
          ],
          "name": "stdout"
        },
        {
          "output_type": "execute_result",
          "data": {
            "text/html": [
              "<div>\n",
              "<style scoped>\n",
              "    .dataframe tbody tr th:only-of-type {\n",
              "        vertical-align: middle;\n",
              "    }\n",
              "\n",
              "    .dataframe tbody tr th {\n",
              "        vertical-align: top;\n",
              "    }\n",
              "\n",
              "    .dataframe thead th {\n",
              "        text-align: right;\n",
              "    }\n",
              "</style>\n",
              "<table border=\"1\" class=\"dataframe\">\n",
              "  <thead>\n",
              "    <tr style=\"text-align: right;\">\n",
              "      <th></th>\n",
              "      <th>rank</th>\n",
              "      <th>country_full</th>\n",
              "      <th>country_abrv</th>\n",
              "      <th>total_points</th>\n",
              "      <th>previous_points</th>\n",
              "      <th>rank_change</th>\n",
              "      <th>cur_year_avg</th>\n",
              "      <th>cur_year_avg_weighted</th>\n",
              "      <th>last_year_avg</th>\n",
              "      <th>last_year_avg_weighted</th>\n",
              "      <th>two_year_ago_avg</th>\n",
              "      <th>two_year_ago_weighted</th>\n",
              "      <th>three_year_ago_avg</th>\n",
              "      <th>three_year_ago_weighted</th>\n",
              "      <th>confederation</th>\n",
              "      <th>rank_date</th>\n",
              "    </tr>\n",
              "  </thead>\n",
              "  <tbody>\n",
              "    <tr>\n",
              "      <th>0</th>\n",
              "      <td>1</td>\n",
              "      <td>Germany</td>\n",
              "      <td>GER</td>\n",
              "      <td>0</td>\n",
              "      <td>57</td>\n",
              "      <td>0</td>\n",
              "      <td>0</td>\n",
              "      <td>0</td>\n",
              "      <td>0</td>\n",
              "      <td>0</td>\n",
              "      <td>0</td>\n",
              "      <td>0</td>\n",
              "      <td>0</td>\n",
              "      <td>0</td>\n",
              "      <td>UEFA</td>\n",
              "      <td>1993-08-08</td>\n",
              "    </tr>\n",
              "    <tr>\n",
              "      <th>1</th>\n",
              "      <td>2</td>\n",
              "      <td>Italy</td>\n",
              "      <td>ITA</td>\n",
              "      <td>0</td>\n",
              "      <td>57</td>\n",
              "      <td>0</td>\n",
              "      <td>0</td>\n",
              "      <td>0</td>\n",
              "      <td>0</td>\n",
              "      <td>0</td>\n",
              "      <td>0</td>\n",
              "      <td>0</td>\n",
              "      <td>0</td>\n",
              "      <td>0</td>\n",
              "      <td>UEFA</td>\n",
              "      <td>1993-08-08</td>\n",
              "    </tr>\n",
              "    <tr>\n",
              "      <th>2</th>\n",
              "      <td>3</td>\n",
              "      <td>Switzerland</td>\n",
              "      <td>SUI</td>\n",
              "      <td>0</td>\n",
              "      <td>50</td>\n",
              "      <td>9</td>\n",
              "      <td>0</td>\n",
              "      <td>0</td>\n",
              "      <td>0</td>\n",
              "      <td>0</td>\n",
              "      <td>0</td>\n",
              "      <td>0</td>\n",
              "      <td>0</td>\n",
              "      <td>0</td>\n",
              "      <td>UEFA</td>\n",
              "      <td>1993-08-08</td>\n",
              "    </tr>\n",
              "    <tr>\n",
              "      <th>3</th>\n",
              "      <td>4</td>\n",
              "      <td>Sweden</td>\n",
              "      <td>SWE</td>\n",
              "      <td>0</td>\n",
              "      <td>55</td>\n",
              "      <td>0</td>\n",
              "      <td>0</td>\n",
              "      <td>0</td>\n",
              "      <td>0</td>\n",
              "      <td>0</td>\n",
              "      <td>0</td>\n",
              "      <td>0</td>\n",
              "      <td>0</td>\n",
              "      <td>0</td>\n",
              "      <td>UEFA</td>\n",
              "      <td>1993-08-08</td>\n",
              "    </tr>\n",
              "    <tr>\n",
              "      <th>4</th>\n",
              "      <td>5</td>\n",
              "      <td>Argentina</td>\n",
              "      <td>ARG</td>\n",
              "      <td>0</td>\n",
              "      <td>51</td>\n",
              "      <td>5</td>\n",
              "      <td>0</td>\n",
              "      <td>0</td>\n",
              "      <td>0</td>\n",
              "      <td>0</td>\n",
              "      <td>0</td>\n",
              "      <td>0</td>\n",
              "      <td>0</td>\n",
              "      <td>0</td>\n",
              "      <td>CONMEBOL</td>\n",
              "      <td>1993-08-08</td>\n",
              "    </tr>\n",
              "  </tbody>\n",
              "</table>\n",
              "</div>"
            ],
            "text/plain": [
              "   rank country_full  ... confederation   rank_date\n",
              "0     1      Germany  ...          UEFA  1993-08-08\n",
              "1     2        Italy  ...          UEFA  1993-08-08\n",
              "2     3  Switzerland  ...          UEFA  1993-08-08\n",
              "3     4       Sweden  ...          UEFA  1993-08-08\n",
              "4     5    Argentina  ...      CONMEBOL  1993-08-08\n",
              "\n",
              "[5 rows x 16 columns]"
            ]
          },
          "metadata": {
            "tags": []
          },
          "execution_count": 136
        }
      ]
    },
    {
      "cell_type": "code",
      "metadata": {
        "id": "uor8ectltkPV",
        "colab_type": "code",
        "colab": {
          "base_uri": "https://localhost:8080/",
          "height": 224
        },
        "outputId": "b8000da3-ca0b-416d-b166-db87870b265c"
      },
      "source": [
        "train.tail()"
      ],
      "execution_count": 94,
      "outputs": [
        {
          "output_type": "execute_result",
          "data": {
            "text/html": [
              "<div>\n",
              "<style scoped>\n",
              "    .dataframe tbody tr th:only-of-type {\n",
              "        vertical-align: middle;\n",
              "    }\n",
              "\n",
              "    .dataframe tbody tr th {\n",
              "        vertical-align: top;\n",
              "    }\n",
              "\n",
              "    .dataframe thead th {\n",
              "        text-align: right;\n",
              "    }\n",
              "</style>\n",
              "<table border=\"1\" class=\"dataframe\">\n",
              "  <thead>\n",
              "    <tr style=\"text-align: right;\">\n",
              "      <th></th>\n",
              "      <th>rank</th>\n",
              "      <th>country_full</th>\n",
              "      <th>country_abrv</th>\n",
              "      <th>total_points</th>\n",
              "      <th>previous_points</th>\n",
              "      <th>rank_change</th>\n",
              "      <th>cur_year_avg</th>\n",
              "      <th>cur_year_avg_weighted</th>\n",
              "      <th>last_year_avg</th>\n",
              "      <th>last_year_avg_weighted</th>\n",
              "      <th>two_year_ago_avg</th>\n",
              "      <th>two_year_ago_weighted</th>\n",
              "      <th>three_year_ago_avg</th>\n",
              "      <th>three_year_ago_weighted</th>\n",
              "      <th>confederation</th>\n",
              "      <th>rank_date</th>\n",
              "    </tr>\n",
              "  </thead>\n",
              "  <tbody>\n",
              "    <tr>\n",
              "      <th>57788</th>\n",
              "      <td>206</td>\n",
              "      <td>Anguilla</td>\n",
              "      <td>AIA</td>\n",
              "      <td>0</td>\n",
              "      <td>0</td>\n",
              "      <td>1</td>\n",
              "      <td>0</td>\n",
              "      <td>0</td>\n",
              "      <td>0</td>\n",
              "      <td>0</td>\n",
              "      <td>0</td>\n",
              "      <td>0</td>\n",
              "      <td>0</td>\n",
              "      <td>0</td>\n",
              "      <td>CONCACAF</td>\n",
              "      <td>2018-06-07</td>\n",
              "    </tr>\n",
              "    <tr>\n",
              "      <th>57789</th>\n",
              "      <td>206</td>\n",
              "      <td>Bahamas</td>\n",
              "      <td>BAH</td>\n",
              "      <td>0</td>\n",
              "      <td>0</td>\n",
              "      <td>1</td>\n",
              "      <td>0</td>\n",
              "      <td>0</td>\n",
              "      <td>0</td>\n",
              "      <td>0</td>\n",
              "      <td>0</td>\n",
              "      <td>0</td>\n",
              "      <td>0</td>\n",
              "      <td>0</td>\n",
              "      <td>CONCACAF</td>\n",
              "      <td>2018-06-07</td>\n",
              "    </tr>\n",
              "    <tr>\n",
              "      <th>57790</th>\n",
              "      <td>206</td>\n",
              "      <td>Eritrea</td>\n",
              "      <td>ERI</td>\n",
              "      <td>0</td>\n",
              "      <td>0</td>\n",
              "      <td>1</td>\n",
              "      <td>0</td>\n",
              "      <td>0</td>\n",
              "      <td>0</td>\n",
              "      <td>0</td>\n",
              "      <td>0</td>\n",
              "      <td>0</td>\n",
              "      <td>0</td>\n",
              "      <td>0</td>\n",
              "      <td>CAF</td>\n",
              "      <td>2018-06-07</td>\n",
              "    </tr>\n",
              "    <tr>\n",
              "      <th>57791</th>\n",
              "      <td>206</td>\n",
              "      <td>Somalia</td>\n",
              "      <td>SOM</td>\n",
              "      <td>0</td>\n",
              "      <td>0</td>\n",
              "      <td>1</td>\n",
              "      <td>0</td>\n",
              "      <td>0</td>\n",
              "      <td>0</td>\n",
              "      <td>0</td>\n",
              "      <td>0</td>\n",
              "      <td>0</td>\n",
              "      <td>0</td>\n",
              "      <td>0</td>\n",
              "      <td>CAF</td>\n",
              "      <td>2018-06-07</td>\n",
              "    </tr>\n",
              "    <tr>\n",
              "      <th>57792</th>\n",
              "      <td>206</td>\n",
              "      <td>Tonga</td>\n",
              "      <td>TGA</td>\n",
              "      <td>0</td>\n",
              "      <td>0</td>\n",
              "      <td>1</td>\n",
              "      <td>0</td>\n",
              "      <td>0</td>\n",
              "      <td>0</td>\n",
              "      <td>0</td>\n",
              "      <td>0</td>\n",
              "      <td>0</td>\n",
              "      <td>0</td>\n",
              "      <td>0</td>\n",
              "      <td>OFC</td>\n",
              "      <td>2018-06-07</td>\n",
              "    </tr>\n",
              "  </tbody>\n",
              "</table>\n",
              "</div>"
            ],
            "text/plain": [
              "       rank country_full  ... confederation   rank_date\n",
              "57788   206     Anguilla  ...      CONCACAF  2018-06-07\n",
              "57789   206      Bahamas  ...      CONCACAF  2018-06-07\n",
              "57790   206      Eritrea  ...           CAF  2018-06-07\n",
              "57791   206      Somalia  ...           CAF  2018-06-07\n",
              "57792   206        Tonga  ...           OFC  2018-06-07\n",
              "\n",
              "[5 rows x 16 columns]"
            ]
          },
          "metadata": {
            "tags": []
          },
          "execution_count": 94
        }
      ]
    },
    {
      "cell_type": "code",
      "metadata": {
        "id": "-3Mww5uztpe6",
        "colab_type": "code",
        "colab": {
          "base_uri": "https://localhost:8080/",
          "height": 317
        },
        "outputId": "b0a33788-3521-4672-cd49-1b415a1d49a5"
      },
      "source": [
        "train.describe()"
      ],
      "execution_count": 95,
      "outputs": [
        {
          "output_type": "execute_result",
          "data": {
            "text/html": [
              "<div>\n",
              "<style scoped>\n",
              "    .dataframe tbody tr th:only-of-type {\n",
              "        vertical-align: middle;\n",
              "    }\n",
              "\n",
              "    .dataframe tbody tr th {\n",
              "        vertical-align: top;\n",
              "    }\n",
              "\n",
              "    .dataframe thead th {\n",
              "        text-align: right;\n",
              "    }\n",
              "</style>\n",
              "<table border=\"1\" class=\"dataframe\">\n",
              "  <thead>\n",
              "    <tr style=\"text-align: right;\">\n",
              "      <th></th>\n",
              "      <th>rank</th>\n",
              "      <th>total_points</th>\n",
              "      <th>previous_points</th>\n",
              "      <th>rank_change</th>\n",
              "      <th>cur_year_avg</th>\n",
              "      <th>cur_year_avg_weighted</th>\n",
              "      <th>last_year_avg</th>\n",
              "      <th>last_year_avg_weighted</th>\n",
              "      <th>two_year_ago_avg</th>\n",
              "      <th>two_year_ago_weighted</th>\n",
              "      <th>three_year_ago_avg</th>\n",
              "      <th>three_year_ago_weighted</th>\n",
              "    </tr>\n",
              "  </thead>\n",
              "  <tbody>\n",
              "    <tr>\n",
              "      <th>count</th>\n",
              "      <td>57,793</td>\n",
              "      <td>57,793</td>\n",
              "      <td>57,793</td>\n",
              "      <td>57,793</td>\n",
              "      <td>57,793</td>\n",
              "      <td>57,793</td>\n",
              "      <td>57,793</td>\n",
              "      <td>57,793</td>\n",
              "      <td>57,793</td>\n",
              "      <td>57,793</td>\n",
              "      <td>57,793</td>\n",
              "      <td>57,793</td>\n",
              "    </tr>\n",
              "    <tr>\n",
              "      <th>mean</th>\n",
              "      <td>102</td>\n",
              "      <td>122</td>\n",
              "      <td>332</td>\n",
              "      <td>-0</td>\n",
              "      <td>62</td>\n",
              "      <td>62</td>\n",
              "      <td>61</td>\n",
              "      <td>31</td>\n",
              "      <td>60</td>\n",
              "      <td>18</td>\n",
              "      <td>59</td>\n",
              "      <td>12</td>\n",
              "    </tr>\n",
              "    <tr>\n",
              "      <th>std</th>\n",
              "      <td>59</td>\n",
              "      <td>260</td>\n",
              "      <td>303</td>\n",
              "      <td>6</td>\n",
              "      <td>138</td>\n",
              "      <td>138</td>\n",
              "      <td>138</td>\n",
              "      <td>69</td>\n",
              "      <td>136</td>\n",
              "      <td>41</td>\n",
              "      <td>136</td>\n",
              "      <td>27</td>\n",
              "    </tr>\n",
              "    <tr>\n",
              "      <th>min</th>\n",
              "      <td>1</td>\n",
              "      <td>0</td>\n",
              "      <td>0</td>\n",
              "      <td>-72</td>\n",
              "      <td>0</td>\n",
              "      <td>0</td>\n",
              "      <td>0</td>\n",
              "      <td>0</td>\n",
              "      <td>0</td>\n",
              "      <td>0</td>\n",
              "      <td>0</td>\n",
              "      <td>0</td>\n",
              "    </tr>\n",
              "    <tr>\n",
              "      <th>25%</th>\n",
              "      <td>51</td>\n",
              "      <td>0</td>\n",
              "      <td>56</td>\n",
              "      <td>-2</td>\n",
              "      <td>0</td>\n",
              "      <td>0</td>\n",
              "      <td>0</td>\n",
              "      <td>0</td>\n",
              "      <td>0</td>\n",
              "      <td>0</td>\n",
              "      <td>0</td>\n",
              "      <td>0</td>\n",
              "    </tr>\n",
              "    <tr>\n",
              "      <th>50%</th>\n",
              "      <td>101</td>\n",
              "      <td>0</td>\n",
              "      <td>272</td>\n",
              "      <td>0</td>\n",
              "      <td>0</td>\n",
              "      <td>0</td>\n",
              "      <td>0</td>\n",
              "      <td>0</td>\n",
              "      <td>0</td>\n",
              "      <td>0</td>\n",
              "      <td>0</td>\n",
              "      <td>0</td>\n",
              "    </tr>\n",
              "    <tr>\n",
              "      <th>75%</th>\n",
              "      <td>152</td>\n",
              "      <td>93</td>\n",
              "      <td>525</td>\n",
              "      <td>1</td>\n",
              "      <td>32</td>\n",
              "      <td>32</td>\n",
              "      <td>27</td>\n",
              "      <td>13</td>\n",
              "      <td>22</td>\n",
              "      <td>6</td>\n",
              "      <td>21</td>\n",
              "      <td>4</td>\n",
              "    </tr>\n",
              "    <tr>\n",
              "      <th>max</th>\n",
              "      <td>209</td>\n",
              "      <td>1,775</td>\n",
              "      <td>1,920</td>\n",
              "      <td>92</td>\n",
              "      <td>1,159</td>\n",
              "      <td>1,159</td>\n",
              "      <td>1,170</td>\n",
              "      <td>585</td>\n",
              "      <td>1,160</td>\n",
              "      <td>348</td>\n",
              "      <td>1,201</td>\n",
              "      <td>240</td>\n",
              "    </tr>\n",
              "  </tbody>\n",
              "</table>\n",
              "</div>"
            ],
            "text/plain": [
              "        rank  total_points  ...  three_year_ago_avg  three_year_ago_weighted\n",
              "count 57,793        57,793  ...              57,793                   57,793\n",
              "mean     102           122  ...                  59                       12\n",
              "std       59           260  ...                 136                       27\n",
              "min        1             0  ...                   0                        0\n",
              "25%       51             0  ...                   0                        0\n",
              "50%      101             0  ...                   0                        0\n",
              "75%      152            93  ...                  21                        4\n",
              "max      209         1,775  ...               1,201                      240\n",
              "\n",
              "[8 rows x 12 columns]"
            ]
          },
          "metadata": {
            "tags": []
          },
          "execution_count": 95
        }
      ]
    },
    {
      "cell_type": "code",
      "metadata": {
        "id": "zINyr21DuPbn",
        "colab_type": "code",
        "colab": {
          "base_uri": "https://localhost:8080/",
          "height": 281
        },
        "outputId": "6d604c49-8a3c-4dee-faaf-c2a1552e4c90"
      },
      "source": [
        "# Ok, everything looks as expected.\n",
        "\n",
        "# Let's import the necessary libraries.\n",
        "import matplotlib.pyplot as plt\n",
        "import numpy as np\n",
        "import seaborn as sns\n",
        "\n",
        "# The dataset I would be using is basically the FIFA soccer rankings for every national team from 1993 through 2008. \n",
        "# It comes directly from the FIFA database of those years and it's transferred into a CSV file. My objective is to\n",
        "# predict which teams will most likely come on the top 10 positions for the next year (2019). The best part is\n",
        "# I can actually check if my predictions are somewhat accurate since I could check the official ranking on the FIFA\n",
        "# website for 2019.\n",
        "# The target I would be using is rank which is the position of each team for that month's period.\n",
        "\n",
        "# Let's get the target's distribution in a graph.\n",
        "ax = sns.distplot(train['rank'])\n",
        "ax.set_xlim([1,2000])\n",
        "plt.show()"
      ],
      "execution_count": 96,
      "outputs": [
        {
          "output_type": "display_data",
          "data": {
            "image/png": "[encoded data removed]",
            "text/plain": [
              "<Figure size 432x288 with 1 Axes>"
            ]
          },
          "metadata": {
            "tags": []
          }
        }
      ]
    },
    {
      "cell_type": "code",
      "metadata": {
        "id": "lQRlHGUNuhjJ",
        "colab_type": "code",
        "colab": {
          "base_uri": "https://localhost:8080/",
          "height": 279
        },
        "outputId": "224a992d-4477-43d8-fa87-a8ce81f8c6bf"
      },
      "source": [
        "# Okay, now it looks a bit better.\n",
        "log_usages = train['rank'].apply(np.log)\n",
        "ax = sns.distplot(log_usages, bins=30)\n",
        "plt.show()"
      ],
      "execution_count": 97,
      "outputs": [
        {
          "output_type": "display_data",
          "data": {
            "image/png": "[encoded data removed]",
            "text/plain": [
              "<Figure size 432x288 with 1 Axes>"
            ]
          },
          "metadata": {
            "tags": []
          }
        }
      ]
    },
    {
      "cell_type": "code",
      "metadata": {
        "id": "v4Bv2OKCvX3K",
        "colab_type": "code",
        "colab": {
          "base_uri": "https://localhost:8080/",
          "height": 51
        },
        "outputId": "ced03b34-bb07-49e6-853b-5b64cc6816d6"
      },
      "source": [
        "train['rank_log'] = train['rank'].apply(np.log)\n",
        "test['rank_log'] = test['rank'].apply(np.log)\n",
        "\n",
        "# Let's create baseline check dataframes for training and testing data\n",
        "# and then impute missing values.\n",
        "bc_train = train[['rank']]\n",
        "bc_test = test[['rank']]\n",
        "\n",
        "bc_train = bc_train.fillna(value=0.05)\n",
        "bc_test = bc_test.fillna(value=0)\n",
        "\n",
        "bc_train['rank_log'] = bc_train['rank'].apply(np.log)\n",
        "bc_test['rank_log'] = bc_test['rank'].apply(np.log)\n",
        "\n",
        "print('Baseline Mean:',train['rank'].mean())\n",
        "print('Baseline Log Mean:',train['rank_log'].mean())"
      ],
      "execution_count": 98,
      "outputs": [
        {
          "output_type": "stream",
          "text": [
            "Baseline Mean: 101.62808644645546\n",
            "Baseline Log Mean: 4.326060456400682\n"
          ],
          "name": "stdout"
        }
      ]
    },
    {
      "cell_type": "code",
      "metadata": {
        "id": "A96Jhn3iwBAu",
        "colab_type": "code",
        "colab": {
          "base_uri": "https://localhost:8080/",
          "height": 85
        },
        "outputId": "45816eff-e791-437c-c173-2164f336dfc9"
      },
      "source": [
        "# Let's check the baselines mean absolute error and r^2 scores.\n",
        "from sklearn.metrics import mean_absolute_error, r2_score\n",
        "print('Baseline MAE:',mean_absolute_error(bc_train['rank'], [bc_train['rank'].mean() for x in bc_train['rank']]))\n",
        "print('Log Baseline MAE:',mean_absolute_error(bc_train['rank_log'], [bc_train['rank_log'].mean() for x in bc_train['rank_log']]))\n",
        "print('Baseline R^2 score:',r2_score(bc_train['rank'], [bc_train['rank'].mean() for x in bc_train['rank']]))\n",
        "print('Log Baseline R^2 score:',r2_score(bc_train['rank_log'], [bc_train['rank_log'].mean() for x in bc_train['rank_log']]))"
      ],
      "execution_count": 99,
      "outputs": [
        {
          "output_type": "stream",
          "text": [
            "Baseline MAE: 50.670327534450855\n",
            "Log Baseline MAE: 0.7193894240632245\n",
            "Baseline R^2 score: 0.0\n",
            "Log Baseline R^2 score: 0.0\n"
          ],
          "name": "stdout"
        }
      ]
    },
    {
      "cell_type": "code",
      "metadata": {
        "id": "ABcmEDihwh9y",
        "colab_type": "code",
        "colab": {
          "base_uri": "https://localhost:8080/",
          "height": 204
        },
        "outputId": "ba3e1161-1118-41d1-940c-01accd9d028e"
      },
      "source": [
        "# Now let's clean up the data by removing useless columns.\n",
        "useless_data = [x for x in train.columns if 'cur_year_avg_weighted' in x or 'last_year_avg_weighted' in x or 'two_year_ago_weighted' in x or 'three_year_ago_weighted' in x or 'confederation' in x or 'country_abrv' in x]\n",
        "useless_data\n",
        "\n",
        "train = train.drop(columns=useless_data)\n",
        "test = test.drop(columns=useless_data)\n",
        "\n",
        "train.head()"
      ],
      "execution_count": 137,
      "outputs": [
        {
          "output_type": "execute_result",
          "data": {
            "text/html": [
              "<div>\n",
              "<style scoped>\n",
              "    .dataframe tbody tr th:only-of-type {\n",
              "        vertical-align: middle;\n",
              "    }\n",
              "\n",
              "    .dataframe tbody tr th {\n",
              "        vertical-align: top;\n",
              "    }\n",
              "\n",
              "    .dataframe thead th {\n",
              "        text-align: right;\n",
              "    }\n",
              "</style>\n",
              "<table border=\"1\" class=\"dataframe\">\n",
              "  <thead>\n",
              "    <tr style=\"text-align: right;\">\n",
              "      <th></th>\n",
              "      <th>rank</th>\n",
              "      <th>country_full</th>\n",
              "      <th>total_points</th>\n",
              "      <th>previous_points</th>\n",
              "      <th>rank_change</th>\n",
              "      <th>cur_year_avg</th>\n",
              "      <th>last_year_avg</th>\n",
              "      <th>two_year_ago_avg</th>\n",
              "      <th>three_year_ago_avg</th>\n",
              "      <th>rank_date</th>\n",
              "    </tr>\n",
              "  </thead>\n",
              "  <tbody>\n",
              "    <tr>\n",
              "      <th>0</th>\n",
              "      <td>1</td>\n",
              "      <td>Germany</td>\n",
              "      <td>0</td>\n",
              "      <td>57</td>\n",
              "      <td>0</td>\n",
              "      <td>0</td>\n",
              "      <td>0</td>\n",
              "      <td>0</td>\n",
              "      <td>0</td>\n",
              "      <td>1993-08-08</td>\n",
              "    </tr>\n",
              "    <tr>\n",
              "      <th>1</th>\n",
              "      <td>2</td>\n",
              "      <td>Italy</td>\n",
              "      <td>0</td>\n",
              "      <td>57</td>\n",
              "      <td>0</td>\n",
              "      <td>0</td>\n",
              "      <td>0</td>\n",
              "      <td>0</td>\n",
              "      <td>0</td>\n",
              "      <td>1993-08-08</td>\n",
              "    </tr>\n",
              "    <tr>\n",
              "      <th>2</th>\n",
              "      <td>3</td>\n",
              "      <td>Switzerland</td>\n",
              "      <td>0</td>\n",
              "      <td>50</td>\n",
              "      <td>9</td>\n",
              "      <td>0</td>\n",
              "      <td>0</td>\n",
              "      <td>0</td>\n",
              "      <td>0</td>\n",
              "      <td>1993-08-08</td>\n",
              "    </tr>\n",
              "    <tr>\n",
              "      <th>3</th>\n",
              "      <td>4</td>\n",
              "      <td>Sweden</td>\n",
              "      <td>0</td>\n",
              "      <td>55</td>\n",
              "      <td>0</td>\n",
              "      <td>0</td>\n",
              "      <td>0</td>\n",
              "      <td>0</td>\n",
              "      <td>0</td>\n",
              "      <td>1993-08-08</td>\n",
              "    </tr>\n",
              "    <tr>\n",
              "      <th>4</th>\n",
              "      <td>5</td>\n",
              "      <td>Argentina</td>\n",
              "      <td>0</td>\n",
              "      <td>51</td>\n",
              "      <td>5</td>\n",
              "      <td>0</td>\n",
              "      <td>0</td>\n",
              "      <td>0</td>\n",
              "      <td>0</td>\n",
              "      <td>1993-08-08</td>\n",
              "    </tr>\n",
              "  </tbody>\n",
              "</table>\n",
              "</div>"
            ],
            "text/plain": [
              "   rank country_full  ...  three_year_ago_avg   rank_date\n",
              "0     1      Germany  ...                   0  1993-08-08\n",
              "1     2        Italy  ...                   0  1993-08-08\n",
              "2     3  Switzerland  ...                   0  1993-08-08\n",
              "3     4       Sweden  ...                   0  1993-08-08\n",
              "4     5    Argentina  ...                   0  1993-08-08\n",
              "\n",
              "[5 rows x 10 columns]"
            ]
          },
          "metadata": {
            "tags": []
          },
          "execution_count": 137
        }
      ]
    },
    {
      "cell_type": "code",
      "metadata": {
        "id": "ZB-Lg8dIxO6z",
        "colab_type": "code",
        "colab": {
          "base_uri": "https://localhost:8080/",
          "height": 204
        },
        "outputId": "bba55740-d594-49ff-e55c-714284271d37"
      },
      "source": [
        "test.head()"
      ],
      "execution_count": 138,
      "outputs": [
        {
          "output_type": "execute_result",
          "data": {
            "text/html": [
              "<div>\n",
              "<style scoped>\n",
              "    .dataframe tbody tr th:only-of-type {\n",
              "        vertical-align: middle;\n",
              "    }\n",
              "\n",
              "    .dataframe tbody tr th {\n",
              "        vertical-align: top;\n",
              "    }\n",
              "\n",
              "    .dataframe thead th {\n",
              "        text-align: right;\n",
              "    }\n",
              "</style>\n",
              "<table border=\"1\" class=\"dataframe\">\n",
              "  <thead>\n",
              "    <tr style=\"text-align: right;\">\n",
              "      <th></th>\n",
              "      <th>rank</th>\n",
              "      <th>country_full</th>\n",
              "      <th>total_points</th>\n",
              "      <th>previous_points</th>\n",
              "      <th>rank_change</th>\n",
              "      <th>cur_year_avg</th>\n",
              "      <th>last_year_avg</th>\n",
              "      <th>two_year_ago_avg</th>\n",
              "      <th>three_year_ago_avg</th>\n",
              "      <th>rank_date</th>\n",
              "    </tr>\n",
              "  </thead>\n",
              "  <tbody>\n",
              "    <tr>\n",
              "      <th>0</th>\n",
              "      <td>1</td>\n",
              "      <td>Germany</td>\n",
              "      <td>0</td>\n",
              "      <td>57</td>\n",
              "      <td>0</td>\n",
              "      <td>0</td>\n",
              "      <td>0</td>\n",
              "      <td>0</td>\n",
              "      <td>0</td>\n",
              "      <td>1993-08-08</td>\n",
              "    </tr>\n",
              "    <tr>\n",
              "      <th>1</th>\n",
              "      <td>2</td>\n",
              "      <td>Italy</td>\n",
              "      <td>0</td>\n",
              "      <td>57</td>\n",
              "      <td>0</td>\n",
              "      <td>0</td>\n",
              "      <td>0</td>\n",
              "      <td>0</td>\n",
              "      <td>0</td>\n",
              "      <td>1993-08-08</td>\n",
              "    </tr>\n",
              "    <tr>\n",
              "      <th>2</th>\n",
              "      <td>3</td>\n",
              "      <td>Switzerland</td>\n",
              "      <td>0</td>\n",
              "      <td>50</td>\n",
              "      <td>9</td>\n",
              "      <td>0</td>\n",
              "      <td>0</td>\n",
              "      <td>0</td>\n",
              "      <td>0</td>\n",
              "      <td>1993-08-08</td>\n",
              "    </tr>\n",
              "    <tr>\n",
              "      <th>3</th>\n",
              "      <td>4</td>\n",
              "      <td>Sweden</td>\n",
              "      <td>0</td>\n",
              "      <td>55</td>\n",
              "      <td>0</td>\n",
              "      <td>0</td>\n",
              "      <td>0</td>\n",
              "      <td>0</td>\n",
              "      <td>0</td>\n",
              "      <td>1993-08-08</td>\n",
              "    </tr>\n",
              "    <tr>\n",
              "      <th>4</th>\n",
              "      <td>5</td>\n",
              "      <td>Argentina</td>\n",
              "      <td>0</td>\n",
              "      <td>51</td>\n",
              "      <td>5</td>\n",
              "      <td>0</td>\n",
              "      <td>0</td>\n",
              "      <td>0</td>\n",
              "      <td>0</td>\n",
              "      <td>1993-08-08</td>\n",
              "    </tr>\n",
              "  </tbody>\n",
              "</table>\n",
              "</div>"
            ],
            "text/plain": [
              "   rank country_full  ...  three_year_ago_avg   rank_date\n",
              "0     1      Germany  ...                   0  1993-08-08\n",
              "1     2        Italy  ...                   0  1993-08-08\n",
              "2     3  Switzerland  ...                   0  1993-08-08\n",
              "3     4       Sweden  ...                   0  1993-08-08\n",
              "4     5    Argentina  ...                   0  1993-08-08\n",
              "\n",
              "[5 rows x 10 columns]"
            ]
          },
          "metadata": {
            "tags": []
          },
          "execution_count": 138
        }
      ]
    },
    {
      "cell_type": "code",
      "metadata": {
        "id": "4vgY_XKyxaM-",
        "colab_type": "code",
        "colab": {
          "base_uri": "https://localhost:8080/",
          "height": 204
        },
        "outputId": "4adebd97-2611-4348-ae02-f4d16436d385"
      },
      "source": [
        "# Let me check the dtypes so I can remove those 0s.\n",
        "train.dtypes"
      ],
      "execution_count": 139,
      "outputs": [
        {
          "output_type": "execute_result",
          "data": {
            "text/plain": [
              "rank                    int64\n",
              "country_full           object\n",
              "total_points          float64\n",
              "previous_points         int64\n",
              "rank_change             int64\n",
              "cur_year_avg          float64\n",
              "last_year_avg         float64\n",
              "two_year_ago_avg      float64\n",
              "three_year_ago_avg    float64\n",
              "rank_date              object\n",
              "dtype: object"
            ]
          },
          "metadata": {
            "tags": []
          },
          "execution_count": 139
        }
      ]
    },
    {
      "cell_type": "code",
      "metadata": {
        "id": "wRSJMppe1AsE",
        "colab_type": "code",
        "colab": {}
      },
      "source": [
        "for col in ['three_year_ago_avg', 'two_year_ago_avg', 'last_year_avg', 'total_points', 'cur_year_avg']:\n",
        "    train[col] = train[col].astype('int64')"
      ],
      "execution_count": 0,
      "outputs": []
    },
    {
      "cell_type": "code",
      "metadata": {
        "id": "1sLVwNtE-ILq",
        "colab_type": "code",
        "colab": {
          "base_uri": "https://localhost:8080/",
          "height": 204
        },
        "outputId": "b50d70a9-22d8-42b7-cf69-309f9b8ea945"
      },
      "source": [
        "# Ok, that worked.\n",
        "train.dtypes"
      ],
      "execution_count": 141,
      "outputs": [
        {
          "output_type": "execute_result",
          "data": {
            "text/plain": [
              "rank                   int64\n",
              "country_full          object\n",
              "total_points           int64\n",
              "previous_points        int64\n",
              "rank_change            int64\n",
              "cur_year_avg           int64\n",
              "last_year_avg          int64\n",
              "two_year_ago_avg       int64\n",
              "three_year_ago_avg     int64\n",
              "rank_date             object\n",
              "dtype: object"
            ]
          },
          "metadata": {
            "tags": []
          },
          "execution_count": 141
        }
      ]
    },
    {
      "cell_type": "code",
      "metadata": {
        "id": "z7tSWa_G7hq3",
        "colab_type": "code",
        "colab": {
          "base_uri": "https://localhost:8080/",
          "height": 204
        },
        "outputId": "a5430e49-f737-476d-fb58-c002e3078ade"
      },
      "source": [
        "# Let's do the same for the testing data.\n",
        "test.dtypes"
      ],
      "execution_count": 142,
      "outputs": [
        {
          "output_type": "execute_result",
          "data": {
            "text/plain": [
              "rank                    int64\n",
              "country_full           object\n",
              "total_points          float64\n",
              "previous_points         int64\n",
              "rank_change             int64\n",
              "cur_year_avg          float64\n",
              "last_year_avg         float64\n",
              "two_year_ago_avg      float64\n",
              "three_year_ago_avg    float64\n",
              "rank_date              object\n",
              "dtype: object"
            ]
          },
          "metadata": {
            "tags": []
          },
          "execution_count": 142
        }
      ]
    },
    {
      "cell_type": "code",
      "metadata": {
        "id": "c2Jl07QW-dTD",
        "colab_type": "code",
        "colab": {}
      },
      "source": [
        "for col in ['three_year_ago_avg', 'two_year_ago_avg', 'last_year_avg', 'total_points', 'cur_year_avg']:\n",
        "    test[col] = test[col].astype('int64')"
      ],
      "execution_count": 0,
      "outputs": []
    },
    {
      "cell_type": "code",
      "metadata": {
        "id": "uCm6tBHZ-gCK",
        "colab_type": "code",
        "colab": {
          "base_uri": "https://localhost:8080/",
          "height": 204
        },
        "outputId": "55e97b5d-fd48-4ff2-cc29-285777e29e24"
      },
      "source": [
        "test.dtypes"
      ],
      "execution_count": 144,
      "outputs": [
        {
          "output_type": "execute_result",
          "data": {
            "text/plain": [
              "rank                   int64\n",
              "country_full          object\n",
              "total_points           int64\n",
              "previous_points        int64\n",
              "rank_change            int64\n",
              "cur_year_avg           int64\n",
              "last_year_avg          int64\n",
              "two_year_ago_avg       int64\n",
              "three_year_ago_avg     int64\n",
              "rank_date             object\n",
              "dtype: object"
            ]
          },
          "metadata": {
            "tags": []
          },
          "execution_count": 144
        }
      ]
    },
    {
      "cell_type": "code",
      "metadata": {
        "colab_type": "code",
        "outputId": "b22ac343-0dfb-40c8-bb96-c72e332849a9",
        "id": "3beIr9SFEbOs",
        "colab": {
          "base_uri": "https://localhost:8080/",
          "height": 221
        }
      },
      "source": [
        "# Now let's remove all the 0s from total_points for both the training and testing data.\n",
        "train = train[train.total_points != 0]\n",
        "print(train.shape)\n",
        "train.head()"
      ],
      "execution_count": 147,
      "outputs": [
        {
          "output_type": "stream",
          "text": [
            "(17081, 10)\n"
          ],
          "name": "stdout"
        },
        {
          "output_type": "execute_result",
          "data": {
            "text/html": [
              "<div>\n",
              "<style scoped>\n",
              "    .dataframe tbody tr th:only-of-type {\n",
              "        vertical-align: middle;\n",
              "    }\n",
              "\n",
              "    .dataframe tbody tr th {\n",
              "        vertical-align: top;\n",
              "    }\n",
              "\n",
              "    .dataframe thead th {\n",
              "        text-align: right;\n",
              "    }\n",
              "</style>\n",
              "<table border=\"1\" class=\"dataframe\">\n",
              "  <thead>\n",
              "    <tr style=\"text-align: right;\">\n",
              "      <th></th>\n",
              "      <th>rank</th>\n",
              "      <th>country_full</th>\n",
              "      <th>total_points</th>\n",
              "      <th>previous_points</th>\n",
              "      <th>rank_change</th>\n",
              "      <th>cur_year_avg</th>\n",
              "      <th>last_year_avg</th>\n",
              "      <th>two_year_ago_avg</th>\n",
              "      <th>three_year_ago_avg</th>\n",
              "      <th>rank_date</th>\n",
              "    </tr>\n",
              "  </thead>\n",
              "  <tbody>\n",
              "    <tr>\n",
              "      <th>40379</th>\n",
              "      <td>1</td>\n",
              "      <td>Netherlands</td>\n",
              "      <td>1596</td>\n",
              "      <td>1542</td>\n",
              "      <td>1</td>\n",
              "      <td>748</td>\n",
              "      <td>976</td>\n",
              "      <td>740</td>\n",
              "      <td>688</td>\n",
              "      <td>2011-08-24</td>\n",
              "    </tr>\n",
              "    <tr>\n",
              "      <th>40380</th>\n",
              "      <td>2</td>\n",
              "      <td>Spain</td>\n",
              "      <td>1563</td>\n",
              "      <td>1588</td>\n",
              "      <td>-1</td>\n",
              "      <td>589</td>\n",
              "      <td>1074</td>\n",
              "      <td>796</td>\n",
              "      <td>989</td>\n",
              "      <td>2011-08-24</td>\n",
              "    </tr>\n",
              "    <tr>\n",
              "      <th>40381</th>\n",
              "      <td>3</td>\n",
              "      <td>Germany</td>\n",
              "      <td>1329</td>\n",
              "      <td>1305</td>\n",
              "      <td>0</td>\n",
              "      <td>617</td>\n",
              "      <td>860</td>\n",
              "      <td>504</td>\n",
              "      <td>653</td>\n",
              "      <td>2011-08-24</td>\n",
              "    </tr>\n",
              "    <tr>\n",
              "      <th>40382</th>\n",
              "      <td>4</td>\n",
              "      <td>England</td>\n",
              "      <td>1176</td>\n",
              "      <td>1146</td>\n",
              "      <td>2</td>\n",
              "      <td>588</td>\n",
              "      <td>620</td>\n",
              "      <td>629</td>\n",
              "      <td>447</td>\n",
              "      <td>2011-08-24</td>\n",
              "    </tr>\n",
              "    <tr>\n",
              "      <th>40383</th>\n",
              "      <td>5</td>\n",
              "      <td>Uruguay</td>\n",
              "      <td>1174</td>\n",
              "      <td>1156</td>\n",
              "      <td>0</td>\n",
              "      <td>599</td>\n",
              "      <td>756</td>\n",
              "      <td>415</td>\n",
              "      <td>361</td>\n",
              "      <td>2011-08-24</td>\n",
              "    </tr>\n",
              "  </tbody>\n",
              "</table>\n",
              "</div>"
            ],
            "text/plain": [
              "       rank country_full  ...  three_year_ago_avg   rank_date\n",
              "40379     1  Netherlands  ...                 688  2011-08-24\n",
              "40380     2        Spain  ...                 989  2011-08-24\n",
              "40381     3      Germany  ...                 653  2011-08-24\n",
              "40382     4      England  ...                 447  2011-08-24\n",
              "40383     5      Uruguay  ...                 361  2011-08-24\n",
              "\n",
              "[5 rows x 10 columns]"
            ]
          },
          "metadata": {
            "tags": []
          },
          "execution_count": 147
        }
      ]
    },
    {
      "cell_type": "code",
      "metadata": {
        "id": "v-FcDg1BCJUX",
        "colab_type": "code",
        "colab": {
          "base_uri": "https://localhost:8080/",
          "height": 221
        },
        "outputId": "b911c656-04ca-4bea-f08c-f180c457f42d"
      },
      "source": [
        "test = test[test.total_points != 0]\n",
        "print(test.shape)\n",
        "test.head()\n",
        "\n",
        "# Ok, that's much better."
      ],
      "execution_count": 148,
      "outputs": [
        {
          "output_type": "stream",
          "text": [
            "(17081, 10)\n"
          ],
          "name": "stdout"
        },
        {
          "output_type": "execute_result",
          "data": {
            "text/html": [
              "<div>\n",
              "<style scoped>\n",
              "    .dataframe tbody tr th:only-of-type {\n",
              "        vertical-align: middle;\n",
              "    }\n",
              "\n",
              "    .dataframe tbody tr th {\n",
              "        vertical-align: top;\n",
              "    }\n",
              "\n",
              "    .dataframe thead th {\n",
              "        text-align: right;\n",
              "    }\n",
              "</style>\n",
              "<table border=\"1\" class=\"dataframe\">\n",
              "  <thead>\n",
              "    <tr style=\"text-align: right;\">\n",
              "      <th></th>\n",
              "      <th>rank</th>\n",
              "      <th>country_full</th>\n",
              "      <th>total_points</th>\n",
              "      <th>previous_points</th>\n",
              "      <th>rank_change</th>\n",
              "      <th>cur_year_avg</th>\n",
              "      <th>last_year_avg</th>\n",
              "      <th>two_year_ago_avg</th>\n",
              "      <th>three_year_ago_avg</th>\n",
              "      <th>rank_date</th>\n",
              "    </tr>\n",
              "  </thead>\n",
              "  <tbody>\n",
              "    <tr>\n",
              "      <th>40379</th>\n",
              "      <td>1</td>\n",
              "      <td>Netherlands</td>\n",
              "      <td>1596</td>\n",
              "      <td>1542</td>\n",
              "      <td>1</td>\n",
              "      <td>748</td>\n",
              "      <td>976</td>\n",
              "      <td>740</td>\n",
              "      <td>688</td>\n",
              "      <td>2011-08-24</td>\n",
              "    </tr>\n",
              "    <tr>\n",
              "      <th>40380</th>\n",
              "      <td>2</td>\n",
              "      <td>Spain</td>\n",
              "      <td>1563</td>\n",
              "      <td>1588</td>\n",
              "      <td>-1</td>\n",
              "      <td>589</td>\n",
              "      <td>1074</td>\n",
              "      <td>796</td>\n",
              "      <td>989</td>\n",
              "      <td>2011-08-24</td>\n",
              "    </tr>\n",
              "    <tr>\n",
              "      <th>40381</th>\n",
              "      <td>3</td>\n",
              "      <td>Germany</td>\n",
              "      <td>1329</td>\n",
              "      <td>1305</td>\n",
              "      <td>0</td>\n",
              "      <td>617</td>\n",
              "      <td>860</td>\n",
              "      <td>504</td>\n",
              "      <td>653</td>\n",
              "      <td>2011-08-24</td>\n",
              "    </tr>\n",
              "    <tr>\n",
              "      <th>40382</th>\n",
              "      <td>4</td>\n",
              "      <td>England</td>\n",
              "      <td>1176</td>\n",
              "      <td>1146</td>\n",
              "      <td>2</td>\n",
              "      <td>588</td>\n",
              "      <td>620</td>\n",
              "      <td>629</td>\n",
              "      <td>447</td>\n",
              "      <td>2011-08-24</td>\n",
              "    </tr>\n",
              "    <tr>\n",
              "      <th>40383</th>\n",
              "      <td>5</td>\n",
              "      <td>Uruguay</td>\n",
              "      <td>1174</td>\n",
              "      <td>1156</td>\n",
              "      <td>0</td>\n",
              "      <td>599</td>\n",
              "      <td>756</td>\n",
              "      <td>415</td>\n",
              "      <td>361</td>\n",
              "      <td>2011-08-24</td>\n",
              "    </tr>\n",
              "  </tbody>\n",
              "</table>\n",
              "</div>"
            ],
            "text/plain": [
              "       rank country_full  ...  three_year_ago_avg   rank_date\n",
              "40379     1  Netherlands  ...                 688  2011-08-24\n",
              "40380     2        Spain  ...                 989  2011-08-24\n",
              "40381     3      Germany  ...                 653  2011-08-24\n",
              "40382     4      England  ...                 447  2011-08-24\n",
              "40383     5      Uruguay  ...                 361  2011-08-24\n",
              "\n",
              "[5 rows x 10 columns]"
            ]
          },
          "metadata": {
            "tags": []
          },
          "execution_count": 148
        }
      ]
    }
  ]
}