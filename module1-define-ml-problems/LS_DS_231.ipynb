{
  "nbformat": 4,
  "nbformat_minor": 0,
  "metadata": {
    "kernelspec": {
      "display_name": "Python 3",
      "language": "python",
      "name": "python3"
    },
    "language_info": {
      "codemirror_mode": {
        "name": "ipython",
        "version": 3
      },
      "file_extension": ".py",
      "mimetype": "text/x-python",
      "name": "python",
      "nbconvert_exporter": "python",
      "pygments_lexer": "ipython3",
      "version": "3.7.6"
    },
    "colab": {
      "name": "LS_DS_231.ipynb",
      "provenance": []
    }
  },
  "cells": [
    {
      "cell_type": "markdown",
      "metadata": {
        "id": "vH16_Yat7vlu",
        "colab_type": "text"
      },
      "source": [
        "\n",
        "Lambda School Data Science\n",
        "\n",
        "*Unit 2, Sprint 3, Module 1*\n",
        "\n",
        "---\n",
        "\n"
      ]
    },
    {
      "cell_type": "markdown",
      "metadata": {
        "id": "XMwOCwKJ7vlw",
        "colab_type": "text"
      },
      "source": [
        "# Define ML problems\n",
        "- Choose a target to predict, and check its distribution\n",
        "- Avoid leakage of information from test to train or from target to features\n",
        "- Choose an appropriate evaluation metric\n"
      ]
    },
    {
      "cell_type": "markdown",
      "metadata": {
        "id": "3htagcwd7vlx",
        "colab_type": "text"
      },
      "source": [
        "### Setup\n"
      ]
    },
    {
      "cell_type": "code",
      "metadata": {
        "id": "35rLXe1U7vly",
        "colab_type": "code",
        "colab": {}
      },
      "source": [
        "%%capture\n",
        "import sys\n",
        "\n",
        "DATA_PATH = 'https://raw.githubusercontent.com/LambdaSchool/DS-Unit-2-Applied-Modeling/master/data/'\n",
        "!pip install category_encoders"
      ],
      "execution_count": 0,
      "outputs": []
    },
    {
      "cell_type": "markdown",
      "metadata": {
        "id": "nJw5iEcG7vl2",
        "colab_type": "text"
      },
      "source": [
        "# Choose a target to predict, and check its distribution"
      ]
    },
    {
      "cell_type": "markdown",
      "metadata": {
        "id": "ugo6d0A77vl3",
        "colab_type": "text"
      },
      "source": [
        "## Overview"
      ]
    },
    {
      "cell_type": "markdown",
      "metadata": {
        "id": "DH0fwGJ67vl4",
        "colab_type": "text"
      },
      "source": [
        "Last sprint, you did a Kaggle Challenge. It’s a great way to practice model validation and other technical skills. But some things are done for you: Like [**defining the problem!**](https://www.linkedin.com/pulse/data-science-taught-universities-here-why-maciej-wasiak/) In today’s module, you’ll begin to practice this objective, with your dataset you’ve chosen for your personal portfolio project.\n",
        "\n",
        "When defining a supervised machine learning problem, one of the first steps is choosing a target to predict."
      ]
    },
    {
      "cell_type": "markdown",
      "metadata": {
        "id": "-q0hzrJ57vl5",
        "colab_type": "text"
      },
      "source": [
        "Which column in your tabular dataset will you predict?\n",
        "\n",
        "Is your problem regression or classification? You have options. Sometimes it’s not straightforward, as we'll see below.\n",
        "\n",
        "- Discrete, ordinal, low cardinality target: Can be regression or multi-class classification.\n",
        "- (In)equality comparison: Converts regression or multi-class classification to binary classification.\n",
        "- Predicted probability: Seems to [blur](https://brohrer.github.io/five_questions_data_science_answers.html) the line between classification and regression."
      ]
    },
    {
      "cell_type": "markdown",
      "metadata": {
        "id": "kEfiSYDP7vl5",
        "colab_type": "text"
      },
      "source": [
        "## Follow Along"
      ]
    },
    {
      "cell_type": "markdown",
      "metadata": {
        "id": "13ZylCWr7vl6",
        "colab_type": "text"
      },
      "source": [
        "Let's reuse the [Burrito reviews dataset.](https://nbviewer.jupyter.org/github/LambdaSchool/DS-Unit-2-Linear-Models/blob/master/module4-logistic-regression/LS_DS_214_assignment.ipynb) 🌯\n"
      ]
    },
    {
      "cell_type": "code",
      "metadata": {
        "lines_to_next_cell": 2,
        "id": "aNgiqYnz7vl7",
        "colab_type": "code",
        "colab": {
          "base_uri": "https://localhost:8080/",
          "height": 496
        },
        "outputId": "f9140318-46c2-4347-bfb2-185e9458691a"
      },
      "source": [
        "import pandas as pd\n",
        "pd.options.display.max_columns = None\n",
        "df = pd.read_csv(DATA_PATH+'burritos/burritos.csv')\n",
        "\n",
        "print(df.shape)\n",
        "df.head()"
      ],
      "execution_count": 60,
      "outputs": [
        {
          "output_type": "stream",
          "text": [
            "(423, 66)\n"
          ],
          "name": "stdout"
        },
        {
          "output_type": "execute_result",
          "data": {
            "text/plain": [
              "               Location      Burrito       Date Neighborhood  \\\n",
              "0    Donato's taco shop  California   1/18/2016      Miramar   \n",
              "1  Oscar's Mexican food  California   1/24/2016   San Marcos   \n",
              "2  Oscar's Mexican food     Carnitas  1/24/2016          NaN   \n",
              "3  Oscar's Mexican food  Carne asada  1/24/2016          NaN   \n",
              "4          Pollos Maria   California  1/27/2016     Carlsbad   \n",
              "\n",
              "                    Address  \\\n",
              "0           6780 Miramar Rd   \n",
              "1  225 S Rancho Santa Fe Rd   \n",
              "2                       NaN   \n",
              "3                       NaN   \n",
              "4           3055 Harding St   \n",
              "\n",
              "                                                 URL  Yelp  Google Chips  \\\n",
              "0                        http://donatostacoshop.net/   3.5     4.2   NaN   \n",
              "1  http://www.yelp.com/biz/oscars-mexican-food-sa...   3.5     3.3   NaN   \n",
              "2                                                NaN   NaN     NaN   NaN   \n",
              "3                                                NaN   NaN     NaN   NaN   \n",
              "4                            http://pollosmaria.com/   4.0     3.8     x   \n",
              "\n",
              "   Cost  Hunger  Mass (g)  Density (g/mL)  Length  Circum  Volume  Tortilla  \\\n",
              "0  6.49     3.0       NaN             NaN     NaN     NaN     NaN       3.0   \n",
              "1  5.45     3.5       NaN             NaN     NaN     NaN     NaN       2.0   \n",
              "2  4.85     1.5       NaN             NaN     NaN     NaN     NaN       3.0   \n",
              "3  5.25     2.0       NaN             NaN     NaN     NaN     NaN       3.0   \n",
              "4  6.59     4.0       NaN             NaN     NaN     NaN     NaN       4.0   \n",
              "\n",
              "   Temp  Meat  Fillings  Meat:filling  Uniformity  Salsa  Synergy  Wrap  \\\n",
              "0   5.0   3.0       3.5           4.0         4.0    4.0      4.0   4.0   \n",
              "1   3.5   2.5       2.5           2.0         4.0    3.5      2.5   5.0   \n",
              "2   2.0   2.5       3.0           4.5         4.0    3.0      3.0   5.0   \n",
              "3   2.0   3.5       3.0           4.0         5.0    4.0      4.0   5.0   \n",
              "4   5.0   4.0       3.5           4.5         5.0    2.5      4.5   4.0   \n",
              "\n",
              "   overall  Rec Reviewer                                              Notes  \\\n",
              "0     3.80  NaN    Scott                                    good fries: 4/5   \n",
              "1     3.00  NaN    Scott                        Fries: 3/5; too little meat   \n",
              "2     3.00  NaN    Emily                                                NaN   \n",
              "3     3.75  NaN  Ricardo  Go to average burrito place like Rigoberto's i...   \n",
              "4     4.20  NaN    Scott                                                NaN   \n",
              "\n",
              "  Unreliable NonSD Beef Pico Guac Cheese Fries Sour cream Pork Chicken Shrimp  \\\n",
              "0        NaN   NaN    x    x    x      x     x        NaN  NaN     NaN    NaN   \n",
              "1        NaN   NaN    x    x    x      x     x        NaN  NaN     NaN    NaN   \n",
              "2        NaN   NaN  NaN    x    x    NaN   NaN        NaN    x     NaN    NaN   \n",
              "3        NaN   NaN    x    x    x    NaN   NaN        NaN  NaN     NaN    NaN   \n",
              "4        NaN   NaN    x    x  NaN      x     x        NaN  NaN     NaN    NaN   \n",
              "\n",
              "  Fish Rice Beans Lettuce Tomato Bell peper Carrots Cabbage Sauce Salsa.1  \\\n",
              "0  NaN  NaN   NaN     NaN    NaN        NaN     NaN     NaN   NaN     NaN   \n",
              "1  NaN  NaN   NaN     NaN    NaN        NaN     NaN     NaN   NaN     NaN   \n",
              "2  NaN  NaN   NaN     NaN    NaN        NaN     NaN     NaN   NaN     NaN   \n",
              "3  NaN  NaN   NaN     NaN    NaN        NaN     NaN     NaN   NaN     NaN   \n",
              "4  NaN  NaN   NaN     NaN    NaN        NaN     NaN     NaN   NaN     NaN   \n",
              "\n",
              "  Cilantro Onion Taquito Pineapple  Ham Chile relleno Nopales Lobster  Queso  \\\n",
              "0      NaN   NaN     NaN       NaN  NaN           NaN     NaN     NaN    NaN   \n",
              "1      NaN   NaN     NaN       NaN  NaN           NaN     NaN     NaN    NaN   \n",
              "2      NaN   NaN     NaN       NaN  NaN           NaN     NaN     NaN    NaN   \n",
              "3      NaN   NaN     NaN       NaN  NaN           NaN     NaN     NaN    NaN   \n",
              "4      NaN   NaN     NaN       NaN  NaN           NaN     NaN     NaN    NaN   \n",
              "\n",
              "   Egg Mushroom Bacon Sushi Avocado Corn Zucchini  \n",
              "0  NaN      NaN   NaN   NaN     NaN  NaN      NaN  \n",
              "1  NaN      NaN   NaN   NaN     NaN  NaN      NaN  \n",
              "2  NaN      NaN   NaN   NaN     NaN  NaN      NaN  \n",
              "3  NaN      NaN   NaN   NaN     NaN  NaN      NaN  \n",
              "4  NaN      NaN   NaN   NaN     NaN  NaN      NaN  "
            ],
            "text/html": [
              "<div>\n",
              "<style scoped>\n",
              "    .dataframe tbody tr th:only-of-type {\n",
              "        vertical-align: middle;\n",
              "    }\n",
              "\n",
              "    .dataframe tbody tr th {\n",
              "        vertical-align: top;\n",
              "    }\n",
              "\n",
              "    .dataframe thead th {\n",
              "        text-align: right;\n",
              "    }\n",
              "</style>\n",
              "<table border=\"1\" class=\"dataframe\">\n",
              "  <thead>\n",
              "    <tr style=\"text-align: right;\">\n",
              "      <th></th>\n",
              "      <th>Location</th>\n",
              "      <th>Burrito</th>\n",
              "      <th>Date</th>\n",
              "      <th>Neighborhood</th>\n",
              "      <th>Address</th>\n",
              "      <th>URL</th>\n",
              "      <th>Yelp</th>\n",
              "      <th>Google</th>\n",
              "      <th>Chips</th>\n",
              "      <th>Cost</th>\n",
              "      <th>Hunger</th>\n",
              "      <th>Mass (g)</th>\n",
              "      <th>Density (g/mL)</th>\n",
              "      <th>Length</th>\n",
              "      <th>Circum</th>\n",
              "      <th>Volume</th>\n",
              "      <th>Tortilla</th>\n",
              "      <th>Temp</th>\n",
              "      <th>Meat</th>\n",
              "      <th>Fillings</th>\n",
              "      <th>Meat:filling</th>\n",
              "      <th>Uniformity</th>\n",
              "      <th>Salsa</th>\n",
              "      <th>Synergy</th>\n",
              "      <th>Wrap</th>\n",
              "      <th>overall</th>\n",
              "      <th>Rec</th>\n",
              "      <th>Reviewer</th>\n",
              "      <th>Notes</th>\n",
              "      <th>Unreliable</th>\n",
              "      <th>NonSD</th>\n",
              "      <th>Beef</th>\n",
              "      <th>Pico</th>\n",
              "      <th>Guac</th>\n",
              "      <th>Cheese</th>\n",
              "      <th>Fries</th>\n",
              "      <th>Sour cream</th>\n",
              "      <th>Pork</th>\n",
              "      <th>Chicken</th>\n",
              "      <th>Shrimp</th>\n",
              "      <th>Fish</th>\n",
              "      <th>Rice</th>\n",
              "      <th>Beans</th>\n",
              "      <th>Lettuce</th>\n",
              "      <th>Tomato</th>\n",
              "      <th>Bell peper</th>\n",
              "      <th>Carrots</th>\n",
              "      <th>Cabbage</th>\n",
              "      <th>Sauce</th>\n",
              "      <th>Salsa.1</th>\n",
              "      <th>Cilantro</th>\n",
              "      <th>Onion</th>\n",
              "      <th>Taquito</th>\n",
              "      <th>Pineapple</th>\n",
              "      <th>Ham</th>\n",
              "      <th>Chile relleno</th>\n",
              "      <th>Nopales</th>\n",
              "      <th>Lobster</th>\n",
              "      <th>Queso</th>\n",
              "      <th>Egg</th>\n",
              "      <th>Mushroom</th>\n",
              "      <th>Bacon</th>\n",
              "      <th>Sushi</th>\n",
              "      <th>Avocado</th>\n",
              "      <th>Corn</th>\n",
              "      <th>Zucchini</th>\n",
              "    </tr>\n",
              "  </thead>\n",
              "  <tbody>\n",
              "    <tr>\n",
              "      <th>0</th>\n",
              "      <td>Donato's taco shop</td>\n",
              "      <td>California</td>\n",
              "      <td>1/18/2016</td>\n",
              "      <td>Miramar</td>\n",
              "      <td>6780 Miramar Rd</td>\n",
              "      <td>http://donatostacoshop.net/</td>\n",
              "      <td>3.5</td>\n",
              "      <td>4.2</td>\n",
              "      <td>NaN</td>\n",
              "      <td>6.49</td>\n",
              "      <td>3.0</td>\n",
              "      <td>NaN</td>\n",
              "      <td>NaN</td>\n",
              "      <td>NaN</td>\n",
              "      <td>NaN</td>\n",
              "      <td>NaN</td>\n",
              "      <td>3.0</td>\n",
              "      <td>5.0</td>\n",
              "      <td>3.0</td>\n",
              "      <td>3.5</td>\n",
              "      <td>4.0</td>\n",
              "      <td>4.0</td>\n",
              "      <td>4.0</td>\n",
              "      <td>4.0</td>\n",
              "      <td>4.0</td>\n",
              "      <td>3.80</td>\n",
              "      <td>NaN</td>\n",
              "      <td>Scott</td>\n",
              "      <td>good fries: 4/5</td>\n",
              "      <td>NaN</td>\n",
              "      <td>NaN</td>\n",
              "      <td>x</td>\n",
              "      <td>x</td>\n",
              "      <td>x</td>\n",
              "      <td>x</td>\n",
              "      <td>x</td>\n",
              "      <td>NaN</td>\n",
              "      <td>NaN</td>\n",
              "      <td>NaN</td>\n",
              "      <td>NaN</td>\n",
              "      <td>NaN</td>\n",
              "      <td>NaN</td>\n",
              "      <td>NaN</td>\n",
              "      <td>NaN</td>\n",
              "      <td>NaN</td>\n",
              "      <td>NaN</td>\n",
              "      <td>NaN</td>\n",
              "      <td>NaN</td>\n",
              "      <td>NaN</td>\n",
              "      <td>NaN</td>\n",
              "      <td>NaN</td>\n",
              "      <td>NaN</td>\n",
              "      <td>NaN</td>\n",
              "      <td>NaN</td>\n",
              "      <td>NaN</td>\n",
              "      <td>NaN</td>\n",
              "      <td>NaN</td>\n",
              "      <td>NaN</td>\n",
              "      <td>NaN</td>\n",
              "      <td>NaN</td>\n",
              "      <td>NaN</td>\n",
              "      <td>NaN</td>\n",
              "      <td>NaN</td>\n",
              "      <td>NaN</td>\n",
              "      <td>NaN</td>\n",
              "      <td>NaN</td>\n",
              "    </tr>\n",
              "    <tr>\n",
              "      <th>1</th>\n",
              "      <td>Oscar's Mexican food</td>\n",
              "      <td>California</td>\n",
              "      <td>1/24/2016</td>\n",
              "      <td>San Marcos</td>\n",
              "      <td>225 S Rancho Santa Fe Rd</td>\n",
              "      <td>http://www.yelp.com/biz/oscars-mexican-food-sa...</td>\n",
              "      <td>3.5</td>\n",
              "      <td>3.3</td>\n",
              "      <td>NaN</td>\n",
              "      <td>5.45</td>\n",
              "      <td>3.5</td>\n",
              "      <td>NaN</td>\n",
              "      <td>NaN</td>\n",
              "      <td>NaN</td>\n",
              "      <td>NaN</td>\n",
              "      <td>NaN</td>\n",
              "      <td>2.0</td>\n",
              "      <td>3.5</td>\n",
              "      <td>2.5</td>\n",
              "      <td>2.5</td>\n",
              "      <td>2.0</td>\n",
              "      <td>4.0</td>\n",
              "      <td>3.5</td>\n",
              "      <td>2.5</td>\n",
              "      <td>5.0</td>\n",
              "      <td>3.00</td>\n",
              "      <td>NaN</td>\n",
              "      <td>Scott</td>\n",
              "      <td>Fries: 3/5; too little meat</td>\n",
              "      <td>NaN</td>\n",
              "      <td>NaN</td>\n",
              "      <td>x</td>\n",
              "      <td>x</td>\n",
              "      <td>x</td>\n",
              "      <td>x</td>\n",
              "      <td>x</td>\n",
              "      <td>NaN</td>\n",
              "      <td>NaN</td>\n",
              "      <td>NaN</td>\n",
              "      <td>NaN</td>\n",
              "      <td>NaN</td>\n",
              "      <td>NaN</td>\n",
              "      <td>NaN</td>\n",
              "      <td>NaN</td>\n",
              "      <td>NaN</td>\n",
              "      <td>NaN</td>\n",
              "      <td>NaN</td>\n",
              "      <td>NaN</td>\n",
              "      <td>NaN</td>\n",
              "      <td>NaN</td>\n",
              "      <td>NaN</td>\n",
              "      <td>NaN</td>\n",
              "      <td>NaN</td>\n",
              "      <td>NaN</td>\n",
              "      <td>NaN</td>\n",
              "      <td>NaN</td>\n",
              "      <td>NaN</td>\n",
              "      <td>NaN</td>\n",
              "      <td>NaN</td>\n",
              "      <td>NaN</td>\n",
              "      <td>NaN</td>\n",
              "      <td>NaN</td>\n",
              "      <td>NaN</td>\n",
              "      <td>NaN</td>\n",
              "      <td>NaN</td>\n",
              "      <td>NaN</td>\n",
              "    </tr>\n",
              "    <tr>\n",
              "      <th>2</th>\n",
              "      <td>Oscar's Mexican food</td>\n",
              "      <td>Carnitas</td>\n",
              "      <td>1/24/2016</td>\n",
              "      <td>NaN</td>\n",
              "      <td>NaN</td>\n",
              "      <td>NaN</td>\n",
              "      <td>NaN</td>\n",
              "      <td>NaN</td>\n",
              "      <td>NaN</td>\n",
              "      <td>4.85</td>\n",
              "      <td>1.5</td>\n",
              "      <td>NaN</td>\n",
              "      <td>NaN</td>\n",
              "      <td>NaN</td>\n",
              "      <td>NaN</td>\n",
              "      <td>NaN</td>\n",
              "      <td>3.0</td>\n",
              "      <td>2.0</td>\n",
              "      <td>2.5</td>\n",
              "      <td>3.0</td>\n",
              "      <td>4.5</td>\n",
              "      <td>4.0</td>\n",
              "      <td>3.0</td>\n",
              "      <td>3.0</td>\n",
              "      <td>5.0</td>\n",
              "      <td>3.00</td>\n",
              "      <td>NaN</td>\n",
              "      <td>Emily</td>\n",
              "      <td>NaN</td>\n",
              "      <td>NaN</td>\n",
              "      <td>NaN</td>\n",
              "      <td>NaN</td>\n",
              "      <td>x</td>\n",
              "      <td>x</td>\n",
              "      <td>NaN</td>\n",
              "      <td>NaN</td>\n",
              "      <td>NaN</td>\n",
              "      <td>x</td>\n",
              "      <td>NaN</td>\n",
              "      <td>NaN</td>\n",
              "      <td>NaN</td>\n",
              "      <td>NaN</td>\n",
              "      <td>NaN</td>\n",
              "      <td>NaN</td>\n",
              "      <td>NaN</td>\n",
              "      <td>NaN</td>\n",
              "      <td>NaN</td>\n",
              "      <td>NaN</td>\n",
              "      <td>NaN</td>\n",
              "      <td>NaN</td>\n",
              "      <td>NaN</td>\n",
              "      <td>NaN</td>\n",
              "      <td>NaN</td>\n",
              "      <td>NaN</td>\n",
              "      <td>NaN</td>\n",
              "      <td>NaN</td>\n",
              "      <td>NaN</td>\n",
              "      <td>NaN</td>\n",
              "      <td>NaN</td>\n",
              "      <td>NaN</td>\n",
              "      <td>NaN</td>\n",
              "      <td>NaN</td>\n",
              "      <td>NaN</td>\n",
              "      <td>NaN</td>\n",
              "      <td>NaN</td>\n",
              "      <td>NaN</td>\n",
              "    </tr>\n",
              "    <tr>\n",
              "      <th>3</th>\n",
              "      <td>Oscar's Mexican food</td>\n",
              "      <td>Carne asada</td>\n",
              "      <td>1/24/2016</td>\n",
              "      <td>NaN</td>\n",
              "      <td>NaN</td>\n",
              "      <td>NaN</td>\n",
              "      <td>NaN</td>\n",
              "      <td>NaN</td>\n",
              "      <td>NaN</td>\n",
              "      <td>5.25</td>\n",
              "      <td>2.0</td>\n",
              "      <td>NaN</td>\n",
              "      <td>NaN</td>\n",
              "      <td>NaN</td>\n",
              "      <td>NaN</td>\n",
              "      <td>NaN</td>\n",
              "      <td>3.0</td>\n",
              "      <td>2.0</td>\n",
              "      <td>3.5</td>\n",
              "      <td>3.0</td>\n",
              "      <td>4.0</td>\n",
              "      <td>5.0</td>\n",
              "      <td>4.0</td>\n",
              "      <td>4.0</td>\n",
              "      <td>5.0</td>\n",
              "      <td>3.75</td>\n",
              "      <td>NaN</td>\n",
              "      <td>Ricardo</td>\n",
              "      <td>Go to average burrito place like Rigoberto's i...</td>\n",
              "      <td>NaN</td>\n",
              "      <td>NaN</td>\n",
              "      <td>x</td>\n",
              "      <td>x</td>\n",
              "      <td>x</td>\n",
              "      <td>NaN</td>\n",
              "      <td>NaN</td>\n",
              "      <td>NaN</td>\n",
              "      <td>NaN</td>\n",
              "      <td>NaN</td>\n",
              "      <td>NaN</td>\n",
              "      <td>NaN</td>\n",
              "      <td>NaN</td>\n",
              "      <td>NaN</td>\n",
              "      <td>NaN</td>\n",
              "      <td>NaN</td>\n",
              "      <td>NaN</td>\n",
              "      <td>NaN</td>\n",
              "      <td>NaN</td>\n",
              "      <td>NaN</td>\n",
              "      <td>NaN</td>\n",
              "      <td>NaN</td>\n",
              "      <td>NaN</td>\n",
              "      <td>NaN</td>\n",
              "      <td>NaN</td>\n",
              "      <td>NaN</td>\n",
              "      <td>NaN</td>\n",
              "      <td>NaN</td>\n",
              "      <td>NaN</td>\n",
              "      <td>NaN</td>\n",
              "      <td>NaN</td>\n",
              "      <td>NaN</td>\n",
              "      <td>NaN</td>\n",
              "      <td>NaN</td>\n",
              "      <td>NaN</td>\n",
              "      <td>NaN</td>\n",
              "      <td>NaN</td>\n",
              "    </tr>\n",
              "    <tr>\n",
              "      <th>4</th>\n",
              "      <td>Pollos Maria</td>\n",
              "      <td>California</td>\n",
              "      <td>1/27/2016</td>\n",
              "      <td>Carlsbad</td>\n",
              "      <td>3055 Harding St</td>\n",
              "      <td>http://pollosmaria.com/</td>\n",
              "      <td>4.0</td>\n",
              "      <td>3.8</td>\n",
              "      <td>x</td>\n",
              "      <td>6.59</td>\n",
              "      <td>4.0</td>\n",
              "      <td>NaN</td>\n",
              "      <td>NaN</td>\n",
              "      <td>NaN</td>\n",
              "      <td>NaN</td>\n",
              "      <td>NaN</td>\n",
              "      <td>4.0</td>\n",
              "      <td>5.0</td>\n",
              "      <td>4.0</td>\n",
              "      <td>3.5</td>\n",
              "      <td>4.5</td>\n",
              "      <td>5.0</td>\n",
              "      <td>2.5</td>\n",
              "      <td>4.5</td>\n",
              "      <td>4.0</td>\n",
              "      <td>4.20</td>\n",
              "      <td>NaN</td>\n",
              "      <td>Scott</td>\n",
              "      <td>NaN</td>\n",
              "      <td>NaN</td>\n",
              "      <td>NaN</td>\n",
              "      <td>x</td>\n",
              "      <td>x</td>\n",
              "      <td>NaN</td>\n",
              "      <td>x</td>\n",
              "      <td>x</td>\n",
              "      <td>NaN</td>\n",
              "      <td>NaN</td>\n",
              "      <td>NaN</td>\n",
              "      <td>NaN</td>\n",
              "      <td>NaN</td>\n",
              "      <td>NaN</td>\n",
              "      <td>NaN</td>\n",
              "      <td>NaN</td>\n",
              "      <td>NaN</td>\n",
              "      <td>NaN</td>\n",
              "      <td>NaN</td>\n",
              "      <td>NaN</td>\n",
              "      <td>NaN</td>\n",
              "      <td>NaN</td>\n",
              "      <td>NaN</td>\n",
              "      <td>NaN</td>\n",
              "      <td>NaN</td>\n",
              "      <td>NaN</td>\n",
              "      <td>NaN</td>\n",
              "      <td>NaN</td>\n",
              "      <td>NaN</td>\n",
              "      <td>NaN</td>\n",
              "      <td>NaN</td>\n",
              "      <td>NaN</td>\n",
              "      <td>NaN</td>\n",
              "      <td>NaN</td>\n",
              "      <td>NaN</td>\n",
              "      <td>NaN</td>\n",
              "      <td>NaN</td>\n",
              "      <td>NaN</td>\n",
              "    </tr>\n",
              "  </tbody>\n",
              "</table>\n",
              "</div>"
            ]
          },
          "metadata": {
            "tags": []
          },
          "execution_count": 60
        }
      ]
    },
    {
      "cell_type": "markdown",
      "metadata": {
        "id": "SE8M_htu7vl-",
        "colab_type": "text"
      },
      "source": [
        "### Choose your target \n",
        "\n",
        "Which column in your tabular dataset will you predict?\n"
      ]
    },
    {
      "cell_type": "code",
      "metadata": {
        "lines_to_next_cell": 2,
        "id": "mcieTMqz7vl_",
        "colab_type": "code",
        "colab": {
          "base_uri": "https://localhost:8080/",
          "height": 170
        },
        "outputId": "c365f324-68bd-4fd2-f82c-06c5ea0d7af8"
      },
      "source": [
        "# Look at 'overall' column:\n",
        "# It's a star rating from 1 to 5.\n",
        "\n",
        "# If we used this column as the target,\n",
        "# we could define the problem as regression, maybe —\n",
        "# or maybe multi-class classification with 5 classes\n",
        "# (if we ignored/simplified fractions of a star)\n",
        "\n",
        "df['overall'].describe()"
      ],
      "execution_count": 61,
      "outputs": [
        {
          "output_type": "execute_result",
          "data": {
            "text/plain": [
              "count    421.000000\n",
              "mean       3.620887\n",
              "std        0.755718\n",
              "min        1.000000\n",
              "25%        3.100000\n",
              "50%        3.800000\n",
              "75%        4.100000\n",
              "max        5.000000\n",
              "Name: overall, dtype: float64"
            ]
          },
          "metadata": {
            "tags": []
          },
          "execution_count": 61
        }
      ]
    },
    {
      "cell_type": "code",
      "metadata": {
        "id": "KZOtId3MOLIW",
        "colab_type": "code",
        "colab": {
          "base_uri": "https://localhost:8080/",
          "height": 34
        },
        "outputId": "92d8bd36-d4cb-44b5-f6fe-9fc85590543b"
      },
      "source": [
        "# For example, we can derive a new binary target:\n",
        "# We define a 'Great' burrito as having an overall rating of 4/5 or higher\n",
        "\n",
        "# Drop unrated burritos\n",
        "before = len(df)\n",
        "df = df.dropna(subset=['overall']).copy()\n",
        "print(f'Dropped {before - len(df)} unrated burritos')\n",
        "\n",
        "# Create the new target column\n",
        "df['Great'] = df['overall'] >= 4"
      ],
      "execution_count": 62,
      "outputs": [
        {
          "output_type": "stream",
          "text": [
            "Dropped 2 unrated burritos\n"
          ],
          "name": "stdout"
        }
      ]
    },
    {
      "cell_type": "markdown",
      "metadata": {
        "id": "4IwYhRdx7vmC",
        "colab_type": "text"
      },
      "source": [
        "### How is your target distributed?\n",
        "\n",
        "For a classification problem, determine: How many classes? Are the classes imbalanced?"
      ]
    },
    {
      "cell_type": "code",
      "metadata": {
        "id": "_nmEYc6m7vmD",
        "colab_type": "code",
        "colab": {
          "base_uri": "https://localhost:8080/",
          "height": 34
        },
        "outputId": "d7d00bf1-b93c-4e63-ec55-3917e8896e87"
      },
      "source": [
        "# There are 2 classes, so this is a binary classification problem\n",
        "df['Great'].nunique()"
      ],
      "execution_count": 63,
      "outputs": [
        {
          "output_type": "execute_result",
          "data": {
            "text/plain": [
              "2"
            ]
          },
          "metadata": {
            "tags": []
          },
          "execution_count": 63
        }
      ]
    },
    {
      "cell_type": "code",
      "metadata": {
        "id": "NO3FjAZIP2UO",
        "colab_type": "code",
        "colab": {
          "base_uri": "https://localhost:8080/",
          "height": 68
        },
        "outputId": "1bcf459e-4a67-4a80-aea6-070e2cdcfdf9"
      },
      "source": [
        "# The majority class occurs with 57% frequency, so this is not too imbalanced\n",
        "df['Great'].value_counts(normalize=True)"
      ],
      "execution_count": 64,
      "outputs": [
        {
          "output_type": "execute_result",
          "data": {
            "text/plain": [
              "False    0.567696\n",
              "True     0.432304\n",
              "Name: Great, dtype: float64"
            ]
          },
          "metadata": {
            "tags": []
          },
          "execution_count": 64
        }
      ]
    },
    {
      "cell_type": "markdown",
      "metadata": {
        "id": "5ovg2V0p7vmG",
        "colab_type": "text"
      },
      "source": [
        "# Avoid leakage of information from test to train or from target to features"
      ]
    },
    {
      "cell_type": "markdown",
      "metadata": {
        "id": "_jF0tNMe7vmH",
        "colab_type": "text"
      },
      "source": [
        "## Overview"
      ]
    },
    {
      "cell_type": "markdown",
      "metadata": {
        "id": "iM28bHP47vmI",
        "colab_type": "text"
      },
      "source": [
        "Overfitting is our enemy in applied machine learning, and leakage is often the cause.\n",
        "\n",
        "> Make sure your training features do not contain data from the “future” (aka time traveling). While this might be easy and obvious in some cases, it can get tricky. … If your test metric becomes really good all of the sudden, ask yourself what you might be doing wrong. Chances are you are time travelling or overfitting in some way. — [Xavier Amatriain](https://www.quora.com/What-are-some-best-practices-for-training-machine-learning-models/answer/Xavier-Amatriain)\n",
        "\n",
        "Choose train, validate, and test sets. Are some observations outliers? Will you exclude them? Will you do a random split or a time-based split? You can (re)read [How (and why) to create a good validation set](https://www.fast.ai/2017/11/13/validation-sets/)."
      ]
    },
    {
      "cell_type": "markdown",
      "metadata": {
        "id": "R6Bbyk787vmI",
        "colab_type": "text"
      },
      "source": [
        "## Follow Along"
      ]
    },
    {
      "cell_type": "markdown",
      "metadata": {
        "id": "m5ire7BI7vmJ",
        "colab_type": "text"
      },
      "source": [
        "First, begin to **explore and clean your data.**"
      ]
    },
    {
      "cell_type": "code",
      "metadata": {
        "id": "A5Ds36u17vmK",
        "colab_type": "code",
        "colab": {
          "base_uri": "https://localhost:8080/",
          "height": 102
        },
        "outputId": "b3f6dbba-64f0-4ecd-ae99-a367990d8308"
      },
      "source": [
        "# How many kinds of burritos? 132!\n",
        "df['Burrito'].describe()"
      ],
      "execution_count": 65,
      "outputs": [
        {
          "output_type": "execute_result",
          "data": {
            "text/plain": [
              "count            421\n",
              "unique           132\n",
              "top       California\n",
              "freq             101\n",
              "Name: Burrito, dtype: object"
            ]
          },
          "metadata": {
            "tags": []
          },
          "execution_count": 65
        }
      ]
    },
    {
      "cell_type": "code",
      "metadata": {
        "id": "gEF1Y-_dVK00",
        "colab_type": "code",
        "colab": {
          "base_uri": "https://localhost:8080/",
          "height": 595
        },
        "outputId": "27bc3b17-3c8e-4072-ecf7-bfa8a127cc5e"
      },
      "source": [
        "# Fix a few by stripping spaces and converting to all lower case\n",
        "df['Burrito'] = df['Burrito'].str.lower().str.strip()\n",
        "print(\"Types:\", df['Burrito'].nunique())\n",
        "df['Burrito'].unique()"
      ],
      "execution_count": 66,
      "outputs": [
        {
          "output_type": "stream",
          "text": [
            "Types: 116\n"
          ],
          "name": "stdout"
        },
        {
          "output_type": "execute_result",
          "data": {
            "text/plain": [
              "array(['california', 'carnitas', 'carne asada', 'combo chicken',\n",
              "       'monster california', 'surf & turf', 'chile verde pork',\n",
              "       'battered fish', 'surf and turf', 'adobada', 'barbacoa', '2 in 1',\n",
              "       'adobado', 'shredded beef', 'hawaiian', 'bandido', 'campeon',\n",
              "       'california chicken', 'azteca', 'lobster', 'al pastor', 'custom',\n",
              "       'machaca', 'quesaburro', 'philly', 'quesa', 'mahi', 'addiction',\n",
              "       'oaxacalifornia', \"deborah's special\", 'chicken nopalito',\n",
              "       'chicken', 'california everything', 'chile relleno and carnitas',\n",
              "       'california (only cheese)', 'fish', 'chimichanga beef', 'pastor',\n",
              "       'el hawaiiano', 'shrimp', 'el rusio', 'bacon breakfast',\n",
              "       'chile relleno', 'bomb', 'arizona', 'california burrito',\n",
              "       '619 burrito original', 'chicken asada', 'carne adobada',\n",
              "       'bean and cheese', 'pokirrito classic', 'mauna lani', 'especial',\n",
              "       'ranchero steak', 'vegetarian', 'colimas burrito',\n",
              "       'bean and rice grande size', 'pollo california',\n",
              "       'california breakfast', 'baja monster', 'local', 'fusion',\n",
              "       'california surf', 'super', 'mixed', 'carne asada everything',\n",
              "       'pollo asado', 'tilapia one', 'surfin california', 'nutty',\n",
              "       'veg out', 'veggie', 'california - steak',\n",
              "       'california - pork adobada', 'california - chicken', 'holy moly',\n",
              "       'california + guac + sour cream', 'pollo adobado', 'asada',\n",
              "       'california chipotle', \"dave's california\", 'chicken and rice',\n",
              "       'breakfast', 'fajitas', 'tejano', 'shrimp with guac',\n",
              "       'bean & cheese', 'carne asada supreme', 'cali diablo',\n",
              "       'pork california', 'bitchin california', 'tijuana',\n",
              "       'chicken avocado', 'cabeza', 'chicken shawarma', 'hot cheetos',\n",
              "       'spicy a la diabla', 'california everything mini', 'tgunz',\n",
              "       'al pastor tradicional', 'grilled fish salmon', 'cheese steak',\n",
              "       'california surf and turf', 'shrimp california', 'fried fish',\n",
              "       'steak everything', 'golden state', 'steak fajitas', 'hashbrown',\n",
              "       'steak with guacamole', 'chile verde (pork)', 'supreme chicken',\n",
              "       'alambre california', 'ado-haba california',\n",
              "       'ala tingada california', 'la paz'], dtype=object)"
            ]
          },
          "metadata": {
            "tags": []
          },
          "execution_count": 66
        }
      ]
    },
    {
      "cell_type": "code",
      "metadata": {
        "id": "Z5o_e4L1WD3w",
        "colab_type": "code",
        "colab": {
          "base_uri": "https://localhost:8080/",
          "height": 119
        },
        "outputId": "6d322a56-8d84-4d33-fb9a-59ceba20a19b"
      },
      "source": [
        "# Combine common burrito categories\n",
        "california = df['Burrito'].str.contains('california')\n",
        "asada = df['Burrito'].str.contains('asada')\n",
        "surf = df['Burrito'].str.contains('surf')\n",
        "carnitas = df['Burrito'].str.contains('carnitas')\n",
        "\n",
        "df.loc[california, 'Burrito'] = 'California'\n",
        "df.loc[asada, 'Burrito'] = 'Asada'\n",
        "df.loc[surf, 'Burrito'] = 'Surf & Turf'\n",
        "df.loc[carnitas, 'Burrito'] = 'Carnitas'\n",
        "df.loc[~california & ~asada & ~surf & ~carnitas, 'Burrito'] = 'Other'\n",
        "\n",
        "df['Burrito'].value_counts()"
      ],
      "execution_count": 67,
      "outputs": [
        {
          "output_type": "execute_result",
          "data": {
            "text/plain": [
              "California     169\n",
              "Other          156\n",
              "Asada           43\n",
              "Surf & Turf     28\n",
              "Carnitas        25\n",
              "Name: Burrito, dtype: int64"
            ]
          },
          "metadata": {
            "tags": []
          },
          "execution_count": 67
        }
      ]
    },
    {
      "cell_type": "code",
      "metadata": {
        "id": "JoX3gOqJXX-A",
        "colab_type": "code",
        "colab": {
          "base_uri": "https://localhost:8080/",
          "height": 221
        },
        "outputId": "9eeda578-390d-4929-d6aa-b177840d2e66"
      },
      "source": [
        "# Count the missing values\n",
        "df.isna().sum().sort_values()"
      ],
      "execution_count": 68,
      "outputs": [
        {
          "output_type": "execute_result",
          "data": {
            "text/plain": [
              "Location      0\n",
              "overall       0\n",
              "Tortilla      0\n",
              "Great         0\n",
              "Burrito       0\n",
              "           ... \n",
              "Sushi       419\n",
              "Zucchini    420\n",
              "Carrots     420\n",
              "Lobster     420\n",
              "Queso       421\n",
              "Length: 67, dtype: int64"
            ]
          },
          "metadata": {
            "tags": []
          },
          "execution_count": 68
        }
      ]
    },
    {
      "cell_type": "code",
      "metadata": {
        "id": "w2lrKhf4XefZ",
        "colab_type": "code",
        "colab": {}
      },
      "source": [
        "# Fill missing values, just with a quick placeholder for now\n",
        "df = df.fillna('Missing')"
      ],
      "execution_count": 0,
      "outputs": []
    },
    {
      "cell_type": "markdown",
      "metadata": {
        "id": "ZkeOgZKo7vmO",
        "colab_type": "text"
      },
      "source": [
        "Next, do a **time-based split:**\n",
        "\n",
        "- Train on reviews from 2016 & earlier. \n",
        "- Validate on 2017. \n",
        "- Test on 2018 & later."
      ]
    },
    {
      "cell_type": "code",
      "metadata": {
        "id": "SVXg2yFI7vmP",
        "colab_type": "code",
        "colab": {
          "base_uri": "https://localhost:8080/",
          "height": 68
        },
        "outputId": "b49ab394-cb4c-43ba-b072-44e14dd0d1bc"
      },
      "source": [
        "# Convert to datetime\n",
        "df['Date'] = pd.to_datetime(df['Date'])\n",
        "df['Date'].describe()[['first', 'last']]"
      ],
      "execution_count": 70,
      "outputs": [
        {
          "output_type": "execute_result",
          "data": {
            "text/plain": [
              "first    2011-05-16 00:00:00\n",
              "last     2026-04-25 00:00:00\n",
              "Name: Date, dtype: object"
            ]
          },
          "metadata": {
            "tags": []
          },
          "execution_count": 70
        }
      ]
    },
    {
      "cell_type": "code",
      "metadata": {
        "id": "ADH-mHP_YMZS",
        "colab_type": "code",
        "colab": {
          "base_uri": "https://localhost:8080/",
          "height": 34
        },
        "outputId": "ea65c2b5-3303-4203-933b-e8be1887c904"
      },
      "source": [
        "# Split data\n",
        "train = df[df['Date'].dt.year <= 2016]\n",
        "val = df[df['Date'].dt.year == 2017]\n",
        "test = df[df['Date'].dt.year >= 2018]\n",
        "\n",
        "train.shape, val.shape, test.shape"
      ],
      "execution_count": 71,
      "outputs": [
        {
          "output_type": "execute_result",
          "data": {
            "text/plain": [
              "((298, 67), (85, 67), (38, 67))"
            ]
          },
          "metadata": {
            "tags": []
          },
          "execution_count": 71
        }
      ]
    },
    {
      "cell_type": "markdown",
      "metadata": {
        "id": "6rtzUYh77vmS",
        "colab_type": "text"
      },
      "source": [
        "Begin to choose which features, if any, to exclude. **Would some features “leak” future information?**\n",
        "\n",
        "What happens if we _DON’T_ drop features with leakage?"
      ]
    },
    {
      "cell_type": "code",
      "metadata": {
        "id": "3kJq6kVu7vmS",
        "colab_type": "code",
        "colab": {
          "base_uri": "https://localhost:8080/",
          "height": 34
        },
        "outputId": "26e56238-0849-4eb8-b593-2788678a2ad9"
      },
      "source": [
        "# Try a shallow decisino tree as a fast, first model\n",
        "# Try a shallow decision tree as a fast, first model\n",
        "\n",
        "import category_encoders as ce\n",
        "from sklearn.pipeline import make_pipeline\n",
        "from sklearn.tree import DecisionTreeClassifier\n",
        "\n",
        "target = 'Great'\n",
        "features = train.columns.drop([target, 'Date'])\n",
        "X_train = train[features]\n",
        "X_val = train[features]\n",
        "y_train = train[target]\n",
        "y_val = train[target]\n",
        "\n",
        "pipeline = make_pipeline(\n",
        "    ce.OrdinalEncoder(),\n",
        "    DecisionTreeClassifier(max_depth=3)\n",
        ")\n",
        "\n",
        "pipeline.fit(X_train, y_train)\n",
        "print('Validation Accuracy:', pipeline.score(X_val, y_val))"
      ],
      "execution_count": 72,
      "outputs": [
        {
          "output_type": "stream",
          "text": [
            "Validation Accuracy: 1.0\n"
          ],
          "name": "stdout"
        }
      ]
    },
    {
      "cell_type": "code",
      "metadata": {
        "id": "WkxEm9kvZx0Q",
        "colab_type": "code",
        "colab": {
          "base_uri": "https://localhost:8080/",
          "height": 241
        },
        "outputId": "5bd1abc1-4587-4080-fbf3-421505b7d99e"
      },
      "source": [
        "# This score is too good to be true.\n",
        "# Visualize the decision tree, to see what the model \"learned\"\n",
        "\n",
        "import graphviz\n",
        "from sklearn.tree import export_graphviz\n",
        "\n",
        "tree = pipeline.named_steps['decisiontreeclassifier']\n",
        "\n",
        "dot_data = export_graphviz(\n",
        "    tree, \n",
        "    out_file = None,\n",
        "    feature_names=X_train.columns, \n",
        "    class_names=y_train.unique().astype(str), \n",
        "    filled=True, \n",
        "    impurity=False, \n",
        "    proportion=True\n",
        ")\n",
        "\n",
        "graphviz.Source(dot_data)"
      ],
      "execution_count": 73,
      "outputs": [
        {
          "output_type": "execute_result",
          "data": {
            "text/plain": [
              "<graphviz.files.Source at 0x226c8bd2308>"
            ],
            "image/svg+xml": "<?xml version=\"1.0\" encoding=\"UTF-8\" standalone=\"no\"?>\r\n<!DOCTYPE svg PUBLIC \"-//W3C//DTD SVG 1.1//EN\"\r\n \"http://www.w3.org/Graphics/SVG/1.1/DTD/svg11.dtd\">\r\n<!-- Generated by graphviz version 2.38.0 (20140413.2041)\r\n -->\r\n<!-- Title: Tree Pages: 1 -->\r\n<svg width=\"252pt\" height=\"165pt\"\r\n viewBox=\"0.00 0.00 252.00 165.00\" xmlns=\"http://www.w3.org/2000/svg\" xmlns:xlink=\"http://www.w3.org/1999/xlink\">\r\n<g id=\"graph0\" class=\"graph\" transform=\"scale(1 1) rotate(0) translate(4 161)\">\r\n<title>Tree</title>\r\n<polygon fill=\"white\" stroke=\"none\" points=\"-4,4 -4,-161 248,-161 248,4 -4,4\"/>\r\n<!-- 0 -->\r\n<g id=\"node1\" class=\"node\"><title>0</title>\r\n<polygon fill=\"#f7d8c2\" stroke=\"black\" points=\"191,-157 52,-157 52,-89 191,-89 191,-157\"/>\r\n<text text-anchor=\"middle\" x=\"121.5\" y=\"-141.8\" font-family=\"Times New Roman,serif\" font-size=\"14.00\">overall &lt;= 3.95</text>\r\n<text text-anchor=\"middle\" x=\"121.5\" y=\"-126.8\" font-family=\"Times New Roman,serif\" font-size=\"14.00\">samples = 100.0%</text>\r\n<text text-anchor=\"middle\" x=\"121.5\" y=\"-111.8\" font-family=\"Times New Roman,serif\" font-size=\"14.00\">value = [0.591, 0.409]</text>\r\n<text text-anchor=\"middle\" x=\"121.5\" y=\"-96.8\" font-family=\"Times New Roman,serif\" font-size=\"14.00\">class = False</text>\r\n</g>\r\n<!-- 1 -->\r\n<g id=\"node2\" class=\"node\"><title>1</title>\r\n<polygon fill=\"#e58139\" stroke=\"black\" points=\"113,-53 0,-53 0,-0 113,-0 113,-53\"/>\r\n<text text-anchor=\"middle\" x=\"56.5\" y=\"-37.8\" font-family=\"Times New Roman,serif\" font-size=\"14.00\">samples = 59.1%</text>\r\n<text text-anchor=\"middle\" x=\"56.5\" y=\"-22.8\" font-family=\"Times New Roman,serif\" font-size=\"14.00\">value = [1.0, 0.0]</text>\r\n<text text-anchor=\"middle\" x=\"56.5\" y=\"-7.8\" font-family=\"Times New Roman,serif\" font-size=\"14.00\">class = False</text>\r\n</g>\r\n<!-- 0&#45;&gt;1 -->\r\n<g id=\"edge1\" class=\"edge\"><title>0&#45;&gt;1</title>\r\n<path fill=\"none\" stroke=\"black\" d=\"M98.7662,-88.9485C92.6626,-80.0749 86.0525,-70.4648 79.9129,-61.5388\"/>\r\n<polygon fill=\"black\" stroke=\"black\" points=\"82.7534,-59.4924 74.2025,-53.2367 76.986,-63.4594 82.7534,-59.4924\"/>\r\n<text text-anchor=\"middle\" x=\"69.6558\" y=\"-74.1198\" font-family=\"Times New Roman,serif\" font-size=\"14.00\">True</text>\r\n</g>\r\n<!-- 2 -->\r\n<g id=\"node3\" class=\"node\"><title>2</title>\r\n<polygon fill=\"#399de5\" stroke=\"black\" points=\"244,-53 131,-53 131,-0 244,-0 244,-53\"/>\r\n<text text-anchor=\"middle\" x=\"187.5\" y=\"-37.8\" font-family=\"Times New Roman,serif\" font-size=\"14.00\">samples = 40.9%</text>\r\n<text text-anchor=\"middle\" x=\"187.5\" y=\"-22.8\" font-family=\"Times New Roman,serif\" font-size=\"14.00\">value = [0.0, 1.0]</text>\r\n<text text-anchor=\"middle\" x=\"187.5\" y=\"-7.8\" font-family=\"Times New Roman,serif\" font-size=\"14.00\">class = True</text>\r\n</g>\r\n<!-- 0&#45;&gt;2 -->\r\n<g id=\"edge2\" class=\"edge\"><title>0&#45;&gt;2</title>\r\n<path fill=\"none\" stroke=\"black\" d=\"M144.584,-88.9485C150.781,-80.0749 157.493,-70.4648 163.727,-61.5388\"/>\r\n<polygon fill=\"black\" stroke=\"black\" points=\"166.669,-63.4392 169.525,-53.2367 160.93,-59.4311 166.669,-63.4392\"/>\r\n<text text-anchor=\"middle\" x=\"173.896\" y=\"-74.1516\" font-family=\"Times New Roman,serif\" font-size=\"14.00\">False</text>\r\n</g>\r\n</g>\r\n</svg>\r\n"
          },
          "metadata": {
            "tags": []
          },
          "execution_count": 73
        }
      ]
    },
    {
      "cell_type": "markdown",
      "metadata": {
        "id": "CGLOI8dj7vmV",
        "colab_type": "text"
      },
      "source": [
        "Drop the column with “leakage”."
      ]
    },
    {
      "cell_type": "code",
      "metadata": {
        "id": "WR_2pLX37vmV",
        "colab_type": "code",
        "colab": {
          "base_uri": "https://localhost:8080/",
          "height": 34
        },
        "outputId": "f0e04fa3-33ad-47b0-cf56-33666a9f4234"
      },
      "source": [
        "# Drop 'overall'\n",
        "features = train.columns.drop([target, 'overall', 'Date'])\n",
        "X_train = train[features]\n",
        "X_val = train[features]\n",
        "\n",
        "# Re-fit and test\n",
        "pipeline.fit(X_train, y_train)\n",
        "print('Validation Accuracy:', pipeline.score(X_val, y_val))"
      ],
      "execution_count": 80,
      "outputs": [
        {
          "output_type": "stream",
          "text": [
            "Validation Accuracy: 0.8489932885906041\n"
          ],
          "name": "stdout"
        }
      ]
    },
    {
      "cell_type": "code",
      "metadata": {
        "id": "xq8bcgXZarfj",
        "colab_type": "code",
        "colab": {
          "base_uri": "https://localhost:8080/",
          "height": 538
        },
        "outputId": "7e9e9a75-8f29-4025-9534-a10b53826d6e"
      },
      "source": [
        "# Now let's visualize it again\n",
        "tree = pipeline.named_steps['decisiontreeclassifier']\n",
        "\n",
        "dot_data = export_graphviz(\n",
        "    tree, \n",
        "    out_file = None,\n",
        "    feature_names=X_train.columns, \n",
        "    class_names=y_train.unique().astype(str), \n",
        "    filled=True, \n",
        "    impurity=False, \n",
        "    proportion=True\n",
        ")\n",
        "\n",
        "graphviz.Source(dot_data)"
      ],
      "execution_count": 81,
      "outputs": [
        {
          "output_type": "execute_result",
          "data": {
            "text/plain": [
              "<graphviz.files.Source at 0x226c8aac088>"
            ],
            "image/svg+xml": "<?xml version=\"1.0\" encoding=\"UTF-8\" standalone=\"no\"?>\r\n<!DOCTYPE svg PUBLIC \"-//W3C//DTD SVG 1.1//EN\"\r\n \"http://www.w3.org/Graphics/SVG/1.1/DTD/svg11.dtd\">\r\n<!-- Generated by graphviz version 2.38.0 (20140413.2041)\r\n -->\r\n<!-- Title: Tree Pages: 1 -->\r\n<svg width=\"1206pt\" height=\"373pt\"\r\n viewBox=\"0.00 0.00 1206.00 373.00\" xmlns=\"http://www.w3.org/2000/svg\" xmlns:xlink=\"http://www.w3.org/1999/xlink\">\r\n<g id=\"graph0\" class=\"graph\" transform=\"scale(1 1) rotate(0) translate(4 369)\">\r\n<title>Tree</title>\r\n<polygon fill=\"white\" stroke=\"none\" points=\"-4,4 -4,-369 1202,-369 1202,4 -4,4\"/>\r\n<!-- 0 -->\r\n<g id=\"node1\" class=\"node\"><title>0</title>\r\n<polygon fill=\"#f7d8c2\" stroke=\"black\" points=\"654,-365 515,-365 515,-297 654,-297 654,-365\"/>\r\n<text text-anchor=\"middle\" x=\"584.5\" y=\"-349.8\" font-family=\"Times New Roman,serif\" font-size=\"14.00\">Fillings &lt;= 4.5</text>\r\n<text text-anchor=\"middle\" x=\"584.5\" y=\"-334.8\" font-family=\"Times New Roman,serif\" font-size=\"14.00\">samples = 100.0%</text>\r\n<text text-anchor=\"middle\" x=\"584.5\" y=\"-319.8\" font-family=\"Times New Roman,serif\" font-size=\"14.00\">value = [0.591, 0.409]</text>\r\n<text text-anchor=\"middle\" x=\"584.5\" y=\"-304.8\" font-family=\"Times New Roman,serif\" font-size=\"14.00\">class = False</text>\r\n</g>\r\n<!-- 1 -->\r\n<g id=\"node2\" class=\"node\"><title>1</title>\r\n<polygon fill=\"#ea9a61\" stroke=\"black\" points=\"547,-261 408,-261 408,-193 547,-193 547,-261\"/>\r\n<text text-anchor=\"middle\" x=\"477.5\" y=\"-245.8\" font-family=\"Times New Roman,serif\" font-size=\"14.00\">Synergy &lt;= 1.5</text>\r\n<text text-anchor=\"middle\" x=\"477.5\" y=\"-230.8\" font-family=\"Times New Roman,serif\" font-size=\"14.00\">samples = 50.0%</text>\r\n<text text-anchor=\"middle\" x=\"477.5\" y=\"-215.8\" font-family=\"Times New Roman,serif\" font-size=\"14.00\">value = [0.832, 0.168]</text>\r\n<text text-anchor=\"middle\" x=\"477.5\" y=\"-200.8\" font-family=\"Times New Roman,serif\" font-size=\"14.00\">class = False</text>\r\n</g>\r\n<!-- 0&#45;&gt;1 -->\r\n<g id=\"edge1\" class=\"edge\"><title>0&#45;&gt;1</title>\r\n<path fill=\"none\" stroke=\"black\" d=\"M549.76,-296.884C540.229,-287.798 529.789,-277.845 519.881,-268.4\"/>\r\n<polygon fill=\"black\" stroke=\"black\" points=\"522.085,-265.666 512.432,-261.299 517.255,-270.733 522.085,-265.666\"/>\r\n<text text-anchor=\"middle\" x=\"513.03\" y=\"-282.592\" font-family=\"Times New Roman,serif\" font-size=\"14.00\">True</text>\r\n</g>\r\n<!-- 8 -->\r\n<g id=\"node9\" class=\"node\"><title>8</title>\r\n<polygon fill=\"#a3d2f3\" stroke=\"black\" points=\"762,-261 623,-261 623,-193 762,-193 762,-261\"/>\r\n<text text-anchor=\"middle\" x=\"692.5\" y=\"-245.8\" font-family=\"Times New Roman,serif\" font-size=\"14.00\">Meat &lt;= 3.5</text>\r\n<text text-anchor=\"middle\" x=\"692.5\" y=\"-230.8\" font-family=\"Times New Roman,serif\" font-size=\"14.00\">samples = 50.0%</text>\r\n<text text-anchor=\"middle\" x=\"692.5\" y=\"-215.8\" font-family=\"Times New Roman,serif\" font-size=\"14.00\">value = [0.349, 0.651]</text>\r\n<text text-anchor=\"middle\" x=\"692.5\" y=\"-200.8\" font-family=\"Times New Roman,serif\" font-size=\"14.00\">class = True</text>\r\n</g>\r\n<!-- 0&#45;&gt;8 -->\r\n<g id=\"edge8\" class=\"edge\"><title>0&#45;&gt;8</title>\r\n<path fill=\"none\" stroke=\"black\" d=\"M619.565,-296.884C629.184,-287.798 639.722,-277.845 649.723,-268.4\"/>\r\n<polygon fill=\"black\" stroke=\"black\" points=\"652.375,-270.71 657.242,-261.299 647.569,-265.621 652.375,-270.71\"/>\r\n<text text-anchor=\"middle\" x=\"656.528\" y=\"-282.589\" font-family=\"Times New Roman,serif\" font-size=\"14.00\">False</text>\r\n</g>\r\n<!-- 2 -->\r\n<g id=\"node3\" class=\"node\"><title>2</title>\r\n<polygon fill=\"#fcf0e8\" stroke=\"black\" points=\"296,-157 157,-157 157,-89 296,-89 296,-157\"/>\r\n<text text-anchor=\"middle\" x=\"226.5\" y=\"-141.8\" font-family=\"Times New Roman,serif\" font-size=\"14.00\">Tortilla &lt;= 3.9</text>\r\n<text text-anchor=\"middle\" x=\"226.5\" y=\"-126.8\" font-family=\"Times New Roman,serif\" font-size=\"14.00\">samples = 10.7%</text>\r\n<text text-anchor=\"middle\" x=\"226.5\" y=\"-111.8\" font-family=\"Times New Roman,serif\" font-size=\"14.00\">value = [0.531, 0.469]</text>\r\n<text text-anchor=\"middle\" x=\"226.5\" y=\"-96.8\" font-family=\"Times New Roman,serif\" font-size=\"14.00\">class = False</text>\r\n</g>\r\n<!-- 1&#45;&gt;2 -->\r\n<g id=\"edge2\" class=\"edge\"><title>1&#45;&gt;2</title>\r\n<path fill=\"none\" stroke=\"black\" d=\"M407.916,-197.723C376.224,-184.844 338.553,-169.536 305.773,-156.215\"/>\r\n<polygon fill=\"black\" stroke=\"black\" points=\"306.801,-152.855 296.22,-152.332 304.166,-159.34 306.801,-152.855\"/>\r\n</g>\r\n<!-- 5 -->\r\n<g id=\"node6\" class=\"node\"><title>5</title>\r\n<polygon fill=\"#e78d4c\" stroke=\"black\" points=\"547,-157 408,-157 408,-89 547,-89 547,-157\"/>\r\n<text text-anchor=\"middle\" x=\"477.5\" y=\"-141.8\" font-family=\"Times New Roman,serif\" font-size=\"14.00\">Temp &lt;= 14.5</text>\r\n<text text-anchor=\"middle\" x=\"477.5\" y=\"-126.8\" font-family=\"Times New Roman,serif\" font-size=\"14.00\">samples = 39.3%</text>\r\n<text text-anchor=\"middle\" x=\"477.5\" y=\"-111.8\" font-family=\"Times New Roman,serif\" font-size=\"14.00\">value = [0.915, 0.085]</text>\r\n<text text-anchor=\"middle\" x=\"477.5\" y=\"-96.8\" font-family=\"Times New Roman,serif\" font-size=\"14.00\">class = False</text>\r\n</g>\r\n<!-- 1&#45;&gt;5 -->\r\n<g id=\"edge5\" class=\"edge\"><title>1&#45;&gt;5</title>\r\n<path fill=\"none\" stroke=\"black\" d=\"M477.5,-192.884C477.5,-184.778 477.5,-175.982 477.5,-167.472\"/>\r\n<polygon fill=\"black\" stroke=\"black\" points=\"481,-167.299 477.5,-157.299 474,-167.299 481,-167.299\"/>\r\n</g>\r\n<!-- 3 -->\r\n<g id=\"node4\" class=\"node\"><title>3</title>\r\n<polygon fill=\"#efb185\" stroke=\"black\" points=\"139,-53 0,-53 0,-0 139,-0 139,-53\"/>\r\n<text text-anchor=\"middle\" x=\"69.5\" y=\"-37.8\" font-family=\"Times New Roman,serif\" font-size=\"14.00\">samples = 6.0%</text>\r\n<text text-anchor=\"middle\" x=\"69.5\" y=\"-22.8\" font-family=\"Times New Roman,serif\" font-size=\"14.00\">value = [0.722, 0.278]</text>\r\n<text text-anchor=\"middle\" x=\"69.5\" y=\"-7.8\" font-family=\"Times New Roman,serif\" font-size=\"14.00\">class = False</text>\r\n</g>\r\n<!-- 2&#45;&gt;3 -->\r\n<g id=\"edge3\" class=\"edge\"><title>2&#45;&gt;3</title>\r\n<path fill=\"none\" stroke=\"black\" d=\"M171.589,-88.9485C155.175,-79.0686 137.244,-68.2758 121.053,-58.5305\"/>\r\n<polygon fill=\"black\" stroke=\"black\" points=\"122.631,-55.395 112.258,-53.2367 119.021,-61.3924 122.631,-55.395\"/>\r\n</g>\r\n<!-- 4 -->\r\n<g id=\"node5\" class=\"node\"><title>4</title>\r\n<polygon fill=\"#88c4ef\" stroke=\"black\" points=\"296,-53 157,-53 157,-0 296,-0 296,-53\"/>\r\n<text text-anchor=\"middle\" x=\"226.5\" y=\"-37.8\" font-family=\"Times New Roman,serif\" font-size=\"14.00\">samples = 4.7%</text>\r\n<text text-anchor=\"middle\" x=\"226.5\" y=\"-22.8\" font-family=\"Times New Roman,serif\" font-size=\"14.00\">value = [0.286, 0.714]</text>\r\n<text text-anchor=\"middle\" x=\"226.5\" y=\"-7.8\" font-family=\"Times New Roman,serif\" font-size=\"14.00\">class = True</text>\r\n</g>\r\n<!-- 2&#45;&gt;4 -->\r\n<g id=\"edge4\" class=\"edge\"><title>2&#45;&gt;4</title>\r\n<path fill=\"none\" stroke=\"black\" d=\"M226.5,-88.9485C226.5,-80.7153 226.5,-71.848 226.5,-63.4814\"/>\r\n<polygon fill=\"black\" stroke=\"black\" points=\"230,-63.2367 226.5,-53.2367 223,-63.2367 230,-63.2367\"/>\r\n</g>\r\n<!-- 6 -->\r\n<g id=\"node7\" class=\"node\"><title>6</title>\r\n<polygon fill=\"#e78a48\" stroke=\"black\" points=\"439,-53 314,-53 314,-0 439,-0 439,-53\"/>\r\n<text text-anchor=\"middle\" x=\"376.5\" y=\"-37.8\" font-family=\"Times New Roman,serif\" font-size=\"14.00\">samples = 38.6%</text>\r\n<text text-anchor=\"middle\" x=\"376.5\" y=\"-22.8\" font-family=\"Times New Roman,serif\" font-size=\"14.00\">value = [0.93, 0.07]</text>\r\n<text text-anchor=\"middle\" x=\"376.5\" y=\"-7.8\" font-family=\"Times New Roman,serif\" font-size=\"14.00\">class = False</text>\r\n</g>\r\n<!-- 5&#45;&gt;6 -->\r\n<g id=\"edge6\" class=\"edge\"><title>5&#45;&gt;6</title>\r\n<path fill=\"none\" stroke=\"black\" d=\"M442.175,-88.9485C432.202,-79.6175 421.359,-69.4722 411.411,-60.1641\"/>\r\n<polygon fill=\"black\" stroke=\"black\" points=\"413.7,-57.5132 404.007,-53.2367 408.918,-62.6247 413.7,-57.5132\"/>\r\n</g>\r\n<!-- 7 -->\r\n<g id=\"node8\" class=\"node\"><title>7</title>\r\n<polygon fill=\"#399de5\" stroke=\"black\" points=\"569.5,-53 457.5,-53 457.5,-0 569.5,-0 569.5,-53\"/>\r\n<text text-anchor=\"middle\" x=\"513.5\" y=\"-37.8\" font-family=\"Times New Roman,serif\" font-size=\"14.00\">samples = 0.7%</text>\r\n<text text-anchor=\"middle\" x=\"513.5\" y=\"-22.8\" font-family=\"Times New Roman,serif\" font-size=\"14.00\">value = [0.0, 1.0]</text>\r\n<text text-anchor=\"middle\" x=\"513.5\" y=\"-7.8\" font-family=\"Times New Roman,serif\" font-size=\"14.00\">class = True</text>\r\n</g>\r\n<!-- 5&#45;&gt;7 -->\r\n<g id=\"edge7\" class=\"edge\"><title>5&#45;&gt;7</title>\r\n<path fill=\"none\" stroke=\"black\" d=\"M490.091,-88.9485C493.332,-80.4408 496.831,-71.2562 500.111,-62.6464\"/>\r\n<polygon fill=\"black\" stroke=\"black\" points=\"503.406,-63.8276 503.696,-53.2367 496.865,-61.3356 503.406,-63.8276\"/>\r\n</g>\r\n<!-- 9 -->\r\n<g id=\"node10\" class=\"node\"><title>9</title>\r\n<polygon fill=\"#f0b68c\" stroke=\"black\" points=\"762,-157 623,-157 623,-89 762,-89 762,-157\"/>\r\n<text text-anchor=\"middle\" x=\"692.5\" y=\"-141.8\" font-family=\"Times New Roman,serif\" font-size=\"14.00\">Tortilla &lt;= 3.75</text>\r\n<text text-anchor=\"middle\" x=\"692.5\" y=\"-126.8\" font-family=\"Times New Roman,serif\" font-size=\"14.00\">samples = 14.8%</text>\r\n<text text-anchor=\"middle\" x=\"692.5\" y=\"-111.8\" font-family=\"Times New Roman,serif\" font-size=\"14.00\">value = [0.705, 0.295]</text>\r\n<text text-anchor=\"middle\" x=\"692.5\" y=\"-96.8\" font-family=\"Times New Roman,serif\" font-size=\"14.00\">class = False</text>\r\n</g>\r\n<!-- 8&#45;&gt;9 -->\r\n<g id=\"edge9\" class=\"edge\"><title>8&#45;&gt;9</title>\r\n<path fill=\"none\" stroke=\"black\" d=\"M692.5,-192.884C692.5,-184.778 692.5,-175.982 692.5,-167.472\"/>\r\n<polygon fill=\"black\" stroke=\"black\" points=\"696,-167.299 692.5,-157.299 689,-167.299 696,-167.299\"/>\r\n</g>\r\n<!-- 12 -->\r\n<g id=\"node13\" class=\"node\"><title>12</title>\r\n<polygon fill=\"#6ab6ec\" stroke=\"black\" points=\"1028,-157 915,-157 915,-89 1028,-89 1028,-157\"/>\r\n<text text-anchor=\"middle\" x=\"971.5\" y=\"-141.8\" font-family=\"Times New Roman,serif\" font-size=\"14.00\">Meat &lt;= 7.5</text>\r\n<text text-anchor=\"middle\" x=\"971.5\" y=\"-126.8\" font-family=\"Times New Roman,serif\" font-size=\"14.00\">samples = 35.2%</text>\r\n<text text-anchor=\"middle\" x=\"971.5\" y=\"-111.8\" font-family=\"Times New Roman,serif\" font-size=\"14.00\">value = [0.2, 0.8]</text>\r\n<text text-anchor=\"middle\" x=\"971.5\" y=\"-96.8\" font-family=\"Times New Roman,serif\" font-size=\"14.00\">class = True</text>\r\n</g>\r\n<!-- 8&#45;&gt;12 -->\r\n<g id=\"edge12\" class=\"edge\"><title>8&#45;&gt;12</title>\r\n<path fill=\"none\" stroke=\"black\" d=\"M762.184,-200.524C805.999,-184.506 862.196,-163.961 905.327,-148.192\"/>\r\n<polygon fill=\"black\" stroke=\"black\" points=\"906.687,-151.422 914.877,-144.701 904.284,-144.847 906.687,-151.422\"/>\r\n</g>\r\n<!-- 10 -->\r\n<g id=\"node11\" class=\"node\"><title>10</title>\r\n<polygon fill=\"#e89153\" stroke=\"black\" points=\"727,-53 588,-53 588,-0 727,-0 727,-53\"/>\r\n<text text-anchor=\"middle\" x=\"657.5\" y=\"-37.8\" font-family=\"Times New Roman,serif\" font-size=\"14.00\">samples = 8.7%</text>\r\n<text text-anchor=\"middle\" x=\"657.5\" y=\"-22.8\" font-family=\"Times New Roman,serif\" font-size=\"14.00\">value = [0.885, 0.115]</text>\r\n<text text-anchor=\"middle\" x=\"657.5\" y=\"-7.8\" font-family=\"Times New Roman,serif\" font-size=\"14.00\">class = False</text>\r\n</g>\r\n<!-- 9&#45;&gt;10 -->\r\n<g id=\"edge10\" class=\"edge\"><title>9&#45;&gt;10</title>\r\n<path fill=\"none\" stroke=\"black\" d=\"M680.259,-88.9485C677.108,-80.4408 673.706,-71.2562 670.517,-62.6464\"/>\r\n<polygon fill=\"black\" stroke=\"black\" points=\"673.787,-61.3986 667.032,-53.2367 667.223,-63.8298 673.787,-61.3986\"/>\r\n</g>\r\n<!-- 11 -->\r\n<g id=\"node12\" class=\"node\"><title>11</title>\r\n<polygon fill=\"#d7ebfa\" stroke=\"black\" points=\"884,-53 745,-53 745,-0 884,-0 884,-53\"/>\r\n<text text-anchor=\"middle\" x=\"814.5\" y=\"-37.8\" font-family=\"Times New Roman,serif\" font-size=\"14.00\">samples = 6.0%</text>\r\n<text text-anchor=\"middle\" x=\"814.5\" y=\"-22.8\" font-family=\"Times New Roman,serif\" font-size=\"14.00\">value = [0.444, 0.556]</text>\r\n<text text-anchor=\"middle\" x=\"814.5\" y=\"-7.8\" font-family=\"Times New Roman,serif\" font-size=\"14.00\">class = True</text>\r\n</g>\r\n<!-- 9&#45;&gt;11 -->\r\n<g id=\"edge11\" class=\"edge\"><title>9&#45;&gt;11</title>\r\n<path fill=\"none\" stroke=\"black\" d=\"M735.17,-88.9485C747.452,-79.4346 760.828,-69.074 773.036,-59.6175\"/>\r\n<polygon fill=\"black\" stroke=\"black\" points=\"775.511,-62.1274 781.274,-53.2367 771.225,-56.5934 775.511,-62.1274\"/>\r\n</g>\r\n<!-- 13 -->\r\n<g id=\"node14\" class=\"node\"><title>13</title>\r\n<polygon fill=\"#53aae8\" stroke=\"black\" points=\"1041,-53 902,-53 902,-0 1041,-0 1041,-53\"/>\r\n<text text-anchor=\"middle\" x=\"971.5\" y=\"-37.8\" font-family=\"Times New Roman,serif\" font-size=\"14.00\">samples = 29.2%</text>\r\n<text text-anchor=\"middle\" x=\"971.5\" y=\"-22.8\" font-family=\"Times New Roman,serif\" font-size=\"14.00\">value = [0.115, 0.885]</text>\r\n<text text-anchor=\"middle\" x=\"971.5\" y=\"-7.8\" font-family=\"Times New Roman,serif\" font-size=\"14.00\">class = True</text>\r\n</g>\r\n<!-- 12&#45;&gt;13 -->\r\n<g id=\"edge13\" class=\"edge\"><title>12&#45;&gt;13</title>\r\n<path fill=\"none\" stroke=\"black\" d=\"M971.5,-88.9485C971.5,-80.7153 971.5,-71.848 971.5,-63.4814\"/>\r\n<polygon fill=\"black\" stroke=\"black\" points=\"975,-63.2367 971.5,-53.2367 968,-63.2367 975,-63.2367\"/>\r\n</g>\r\n<!-- 14 -->\r\n<g id=\"node15\" class=\"node\"><title>14</title>\r\n<polygon fill=\"#f6d1b7\" stroke=\"black\" points=\"1198,-53 1059,-53 1059,-0 1198,-0 1198,-53\"/>\r\n<text text-anchor=\"middle\" x=\"1128.5\" y=\"-37.8\" font-family=\"Times New Roman,serif\" font-size=\"14.00\">samples = 6.0%</text>\r\n<text text-anchor=\"middle\" x=\"1128.5\" y=\"-22.8\" font-family=\"Times New Roman,serif\" font-size=\"14.00\">value = [0.611, 0.389]</text>\r\n<text text-anchor=\"middle\" x=\"1128.5\" y=\"-7.8\" font-family=\"Times New Roman,serif\" font-size=\"14.00\">class = False</text>\r\n</g>\r\n<!-- 12&#45;&gt;14 -->\r\n<g id=\"edge14\" class=\"edge\"><title>12&#45;&gt;14</title>\r\n<path fill=\"none\" stroke=\"black\" d=\"M1026.41,-88.9485C1042.83,-79.0686 1060.76,-68.2758 1076.95,-58.5305\"/>\r\n<polygon fill=\"black\" stroke=\"black\" points=\"1078.98,-61.3924 1085.74,-53.2367 1075.37,-55.395 1078.98,-61.3924\"/>\r\n</g>\r\n</g>\r\n</svg>\r\n"
          },
          "metadata": {
            "tags": []
          },
          "execution_count": 81
        }
      ]
    },
    {
      "cell_type": "markdown",
      "metadata": {
        "id": "g2lSknab7vmY",
        "colab_type": "text"
      },
      "source": [
        "# Choose an appropriate evaluation metric"
      ]
    },
    {
      "cell_type": "markdown",
      "metadata": {
        "id": "TxWJQXp37vmY",
        "colab_type": "text"
      },
      "source": [
        "## Overview"
      ]
    },
    {
      "cell_type": "markdown",
      "metadata": {
        "id": "OgqqhuKW7vmZ",
        "colab_type": "text"
      },
      "source": [
        "How will you evaluate success for your predictive model? You must choose an appropriate evaluation metric, depending on the context and constraints of your problem.\n",
        "\n",
        "**Classification & regression metrics are different!**\n",
        "\n",
        "- Don’t use _regression_ metrics to evaluate _classification_ tasks.\n",
        "- Don’t use _classification_ metrics to evaluate _regression_ tasks.\n",
        "\n",
        "[Scikit-learn has lists of popular metrics.](https://scikit-learn.org/stable/modules/model_evaluation.html#common-cases-predefined-values)"
      ]
    },
    {
      "cell_type": "markdown",
      "metadata": {
        "id": "5Lj4ndO67vma",
        "colab_type": "text"
      },
      "source": [
        "## Follow Along"
      ]
    },
    {
      "cell_type": "markdown",
      "metadata": {
        "id": "5S2xywGn7vmb",
        "colab_type": "text"
      },
      "source": [
        "For classification problems: \n",
        "\n",
        "As a rough rule of thumb, if your majority class frequency is >= 50% and < 70% then you can just use accuracy if you want. Outside that range, accuracy could be misleading — so what evaluation metric will you choose, in addition to or instead of accuracy? For example:\n",
        "\n",
        "- Precision?\n",
        "- Recall?\n",
        "- ROC AUC?\n"
      ]
    },
    {
      "cell_type": "code",
      "metadata": {
        "id": "togRtGly7vmc",
        "colab_type": "code",
        "colab": {
          "base_uri": "https://localhost:8080/",
          "height": 34
        },
        "outputId": "727cce58-b97c-46bc-88f8-ec07f5bb68fd"
      },
      "source": [
        "# The majority class occurs with 57% frequency, so this is not too imbalanced.\n",
        "# I could just use accuracy score ass my evaluation metric if I want to.\n",
        "df[target].value_counts(normalize=True).max()"
      ],
      "execution_count": 83,
      "outputs": [
        {
          "output_type": "execute_result",
          "data": {
            "text/plain": [
              "0.5676959619952494"
            ]
          },
          "metadata": {
            "tags": []
          },
          "execution_count": 83
        }
      ]
    },
    {
      "cell_type": "markdown",
      "metadata": {
        "id": "BjqjTbqA7vmf",
        "colab_type": "text"
      },
      "source": [
        "### Precision & Recall\n",
        "\n",
        "Let's review Precision & Recall. What do these metrics mean, in scenarios like these?\n",
        "\n",
        "- Predict great burritos\n",
        "- Predict fraudulent transactions\n",
        "- Recommend Spotify songs\n",
        "\n",
        "[Are false positives or false negatives more costly? Can you optimize for dollars?](https://alexgude.com/blog/machine-learning-metrics-interview/)"
      ]
    },
    {
      "cell_type": "markdown",
      "metadata": {
        "id": "vaqWbyjU7vmf",
        "colab_type": "text"
      },
      "source": [
        "### ROC AUC \n",
        "\n",
        "Let's also review ROC AUC (Receiver Operating Characteristic, Area Under the Curve).\n",
        "\n",
        "[Wikipedia explains,](https://en.wikipedia.org/wiki/Receiver_operating_characteristic) \"A receiver operating characteristic curve, or ROC curve, is a graphical plot that illustrates the diagnostic ability of a binary classifier system as its discrimination threshold is varied. **The ROC curve is created by plotting the true positive rate (TPR) against the false positive rate (FPR) at various threshold settings.**\"\n",
        "\n",
        "ROC AUC is the area under the ROC curve. [It can be interpreted](https://stats.stackexchange.com/questions/132777/what-does-auc-stand-for-and-what-is-it) as \"the expectation that a uniformly drawn random positive is ranked before a uniformly drawn random negative.\" \n",
        "\n",
        "ROC AUC measures **how well a classifier ranks predicted probabilities.** So, when you get your classifier’s ROC AUC score, you need to **use predicted probabilities, not discrete predictions.**\n",
        "\n",
        "ROC AUC ranges **from 0 to 1.** Higher is better. A naive majority class **baseline** will have an ROC AUC score of **0.5**, regardless of class (im)balance.\n",
        "\n",
        "#### Scikit-Learn docs\n",
        "- [User Guide: Receiver operating characteristic (ROC)](https://scikit-learn.org/stable/modules/model_evaluation.html#receiver-operating-characteristic-roc)\n",
        "- [sklearn.metrics.roc_curve](https://scikit-learn.org/stable/modules/generated/sklearn.metrics.roc_curve.html)\n",
        "- [sklearn.metrics.roc_auc_score](https://scikit-learn.org/stable/modules/generated/sklearn.metrics.roc_auc_score.html)\n",
        "\n",
        "#### More links\n",
        "- [StatQuest video](https://youtu.be/4jRBRDbJemM)\n",
        "- [Data School article / video](https://www.dataschool.io/roc-curves-and-auc-explained/)\n",
        "- [The philosophical argument for using ROC curves](https://lukeoakdenrayner.wordpress.com/2018/01/07/the-philosophical-argument-for-using-roc-curves/)\n"
      ]
    },
    {
      "cell_type": "code",
      "metadata": {
        "id": "meNA9V5v7vmg",
        "colab_type": "code",
        "colab": {
          "base_uri": "https://localhost:8080/",
          "height": 34
        },
        "outputId": "d53babd1-89ea-4c68-99b3-57085f5e5cc8"
      },
      "source": [
        "# Use sklearn to calculate ROC AUC\n",
        "# (You'll need to be able to do this on the Sprint Challenge)\n",
        "from sklearn.metrics import roc_auc_score\n",
        "y_pred_prob = pipeline.predict_proba(X_val)[:,-1] # Probability for the last class\n",
        "roc_auc_score(y_val, y_pred_prob)"
      ],
      "execution_count": 96,
      "outputs": [
        {
          "output_type": "execute_result",
          "data": {
            "text/plain": [
              "0.8962602459016391"
            ]
          },
          "metadata": {
            "tags": []
          },
          "execution_count": 96
        }
      ]
    },
    {
      "cell_type": "code",
      "metadata": {
        "id": "hQGCQvTmlc5F",
        "colab_type": "code",
        "colab": {}
      },
      "source": [
        "# Are you curious to better understand this?\n",
        "\n",
        "# \"The ROC curve is created by plotting the true positive rate (TPR) \n",
        "# against the false positive rate (FPR) at various threshold settings.\n",
        "\n",
        "# Use sklearn to calculate TPR & FPR at various thresholds\n",
        "from sklearn.metrics import roc_curve\n",
        "fpr, tpr, threshsolds = roc_curve(y_val, y_pred_prob)"
      ],
      "execution_count": 0,
      "outputs": []
    },
    {
      "cell_type": "code",
      "metadata": {
        "id": "I5E_vF5tle3p",
        "colab_type": "code",
        "colab": {
          "base_uri": "https://localhost:8080/",
          "height": 328
        },
        "outputId": "64e22270-aa67-4038-d5b3-a6ab3a3b6a0a"
      },
      "source": [
        "# See the results in a table\n",
        "pd.DataFrame({\n",
        "    'False Positive Rate': fpr, \n",
        "    'True Positive Rate': tpr, \n",
        "    'Threshold': threshsolds\n",
        "})"
      ],
      "execution_count": 99,
      "outputs": [
        {
          "output_type": "execute_result",
          "data": {
            "text/plain": [
              "   False Positive Rate  True Positive Rate  Threshold\n",
              "0             0.000000            0.000000   2.000000\n",
              "1             0.000000            0.016393   1.000000\n",
              "2             0.056818            0.647541   0.885057\n",
              "3             0.079545            0.729508   0.714286\n",
              "4             0.125000            0.811475   0.555556\n",
              "5             0.187500            0.868852   0.388889\n",
              "6             0.261364            0.909836   0.277778\n",
              "7             0.392045            0.934426   0.115385\n",
              "8             1.000000            1.000000   0.069565"
            ],
            "text/html": [
              "<div>\n",
              "<style scoped>\n",
              "    .dataframe tbody tr th:only-of-type {\n",
              "        vertical-align: middle;\n",
              "    }\n",
              "\n",
              "    .dataframe tbody tr th {\n",
              "        vertical-align: top;\n",
              "    }\n",
              "\n",
              "    .dataframe thead th {\n",
              "        text-align: right;\n",
              "    }\n",
              "</style>\n",
              "<table border=\"1\" class=\"dataframe\">\n",
              "  <thead>\n",
              "    <tr style=\"text-align: right;\">\n",
              "      <th></th>\n",
              "      <th>False Positive Rate</th>\n",
              "      <th>True Positive Rate</th>\n",
              "      <th>Threshold</th>\n",
              "    </tr>\n",
              "  </thead>\n",
              "  <tbody>\n",
              "    <tr>\n",
              "      <th>0</th>\n",
              "      <td>0.000000</td>\n",
              "      <td>0.000000</td>\n",
              "      <td>2.000000</td>\n",
              "    </tr>\n",
              "    <tr>\n",
              "      <th>1</th>\n",
              "      <td>0.000000</td>\n",
              "      <td>0.016393</td>\n",
              "      <td>1.000000</td>\n",
              "    </tr>\n",
              "    <tr>\n",
              "      <th>2</th>\n",
              "      <td>0.056818</td>\n",
              "      <td>0.647541</td>\n",
              "      <td>0.885057</td>\n",
              "    </tr>\n",
              "    <tr>\n",
              "      <th>3</th>\n",
              "      <td>0.079545</td>\n",
              "      <td>0.729508</td>\n",
              "      <td>0.714286</td>\n",
              "    </tr>\n",
              "    <tr>\n",
              "      <th>4</th>\n",
              "      <td>0.125000</td>\n",
              "      <td>0.811475</td>\n",
              "      <td>0.555556</td>\n",
              "    </tr>\n",
              "    <tr>\n",
              "      <th>5</th>\n",
              "      <td>0.187500</td>\n",
              "      <td>0.868852</td>\n",
              "      <td>0.388889</td>\n",
              "    </tr>\n",
              "    <tr>\n",
              "      <th>6</th>\n",
              "      <td>0.261364</td>\n",
              "      <td>0.909836</td>\n",
              "      <td>0.277778</td>\n",
              "    </tr>\n",
              "    <tr>\n",
              "      <th>7</th>\n",
              "      <td>0.392045</td>\n",
              "      <td>0.934426</td>\n",
              "      <td>0.115385</td>\n",
              "    </tr>\n",
              "    <tr>\n",
              "      <th>8</th>\n",
              "      <td>1.000000</td>\n",
              "      <td>1.000000</td>\n",
              "      <td>0.069565</td>\n",
              "    </tr>\n",
              "  </tbody>\n",
              "</table>\n",
              "</div>"
            ]
          },
          "metadata": {
            "tags": []
          },
          "execution_count": 99
        }
      ]
    },
    {
      "cell_type": "code",
      "metadata": {
        "id": "mSM0O8YVlhka",
        "colab_type": "code",
        "colab": {
          "base_uri": "https://localhost:8080/",
          "height": 295
        },
        "outputId": "042f5801-efd7-42ff-beb7-cbd620a632cc"
      },
      "source": [
        "# See the results on a plot\n",
        "# This is the \"Receiver Operating Characteristic curve\"\n",
        "import matplotlib.pyplot as plt\n",
        "plt.scatter(fpr, tpr)\n",
        "plt.plot(fpr, tpr)\n",
        "plt.plot([0,1], [0,1], color='r')\n",
        "plt.xlabel('False Positive Rate')\n",
        "plt.ylabel('True Positive Rate')\n",
        "plt.title('ROC curve');"
      ],
      "execution_count": 102,
      "outputs": [
        {
          "output_type": "display_data",
          "data": {
            "text/plain": [
              "<Figure size 432x288 with 1 Axes>"
            ],
            "image/png": "[encoded data removed]"
          },
          "metadata": {
            "tags": [],
            "needs_background": "light"
          }
        }
      ]
    },
    {
      "cell_type": "markdown",
      "metadata": {
        "id": "ngShT2Ea7vmi",
        "colab_type": "text"
      },
      "source": [
        "### Imbalanced classes\n",
        "\n",
        "Do you have highly imbalanced classes?\n",
        "\n",
        "If so, you can try ideas from [Learning from Imbalanced Classes](https://www.svds.com/tbt-learning-imbalanced-classes/):\n",
        "\n",
        "- “Adjust the class weight (misclassification costs)” — most scikit-learn classifiers have a `class_balance` parameter.\n",
        "- “Adjust the decision threshold” — we did this last module. Read [Visualizing Machine Learning Thresholds to Make Better Business Decisions](https://blog.insightdatascience.com/visualizing-machine-learning-thresholds-to-make-better-business-decisions-4ab07f823415).\n",
        "- “Oversample the minority class, undersample the majority class, or synthesize new minority classes” — try the the [imbalanced-learn](https://github.com/scikit-learn-contrib/imbalanced-learn) library as a stretch goal."
      ]
    },
    {
      "cell_type": "markdown",
      "metadata": {
        "id": "fhfh4ExI7vmj",
        "colab_type": "text"
      },
      "source": [
        "# BONUS: Regression example 🏘️\n"
      ]
    },
    {
      "cell_type": "code",
      "metadata": {
        "lines_to_next_cell": 2,
        "id": "WFQjesx67vmj",
        "colab_type": "code",
        "colab": {}
      },
      "source": [
        "# Read our NYC apartment rental listing dataset\n",
        "df = pd.read_csv(DATA_PATH+'apartments/renthop-nyc.csv')"
      ],
      "execution_count": 0,
      "outputs": []
    },
    {
      "cell_type": "markdown",
      "metadata": {
        "id": "3v0H8zEU7vmm",
        "colab_type": "text"
      },
      "source": [
        "### Choose your target\n",
        "\n",
        "Which column in your tabular dataset will you predict?\n"
      ]
    },
    {
      "cell_type": "code",
      "metadata": {
        "lines_to_next_cell": 2,
        "id": "ILB-Xkcz7vmn",
        "colab_type": "code",
        "colab": {}
      },
      "source": [
        "y = df['price']"
      ],
      "execution_count": 0,
      "outputs": []
    },
    {
      "cell_type": "markdown",
      "metadata": {
        "id": "gJGBlPie7vmq",
        "colab_type": "text"
      },
      "source": [
        "### How is your target distributed?\n",
        "\n",
        "For a regression problem, determine: Is the target right-skewed?\n"
      ]
    },
    {
      "cell_type": "code",
      "metadata": {
        "lines_to_next_cell": 2,
        "id": "MTs0nMUB7vmq",
        "colab_type": "code",
        "colab": {
          "base_uri": "https://localhost:8080/",
          "height": 279
        },
        "outputId": "8b393f9d-f896-4992-afca-d87a17a538af"
      },
      "source": [
        "# Yes, the target is right-skewed\n",
        "import seaborn as sns\n",
        "sns.distplot(y);"
      ],
      "execution_count": 86,
      "outputs": [
        {
          "output_type": "display_data",
          "data": {
            "text/plain": [
              "<Figure size 432x288 with 1 Axes>"
            ],
            "image/png": "[encoded data removed]"
          },
          "metadata": {
            "tags": [],
            "needs_background": "light"
          }
        }
      ]
    },
    {
      "cell_type": "code",
      "metadata": {
        "id": "pOIogH_47vmt",
        "colab_type": "code",
        "colab": {
          "base_uri": "https://localhost:8080/",
          "height": 170
        },
        "outputId": "57cb15e4-181b-493e-ef98-3f09b9168e47"
      },
      "source": [
        "y.describe()"
      ],
      "execution_count": 87,
      "outputs": [
        {
          "output_type": "execute_result",
          "data": {
            "text/plain": [
              "count    4.935200e+04\n",
              "mean     3.830174e+03\n",
              "std      2.206687e+04\n",
              "min      4.300000e+01\n",
              "25%      2.500000e+03\n",
              "50%      3.150000e+03\n",
              "75%      4.100000e+03\n",
              "max      4.490000e+06\n",
              "Name: price, dtype: float64"
            ]
          },
          "metadata": {
            "tags": []
          },
          "execution_count": 87
        }
      ]
    },
    {
      "cell_type": "markdown",
      "metadata": {
        "id": "PLKVr6HX7vmv",
        "colab_type": "text"
      },
      "source": [
        "### Are some observations outliers? \n",
        "\n",
        "Will you exclude\n",
        "them?\n"
      ]
    },
    {
      "cell_type": "code",
      "metadata": {
        "lines_to_next_cell": 2,
        "id": "k5wjefTY7vmv",
        "colab_type": "code",
        "colab": {}
      },
      "source": [
        "# Yes! There are outliers\n",
        "# Some prices are so high or low it doesn't really make sense.\n",
        "# Some locations aren't even in New York City\n",
        "\n",
        "# Remove the most extreme 1% prices, \n",
        "# the most extreme .1% latitudes, &\n",
        "# the most extreme .1% longitudes\n",
        "import numpy as np\n",
        "df = df[(df['price'] >= np.percentile(df['price'], 0.5)) & \n",
        "        (df['price'] <= np.percentile(df['price'], 99.5)) & \n",
        "        (df['latitude'] >= np.percentile(df['latitude'], 0.05)) & \n",
        "        (df['latitude'] < np.percentile(df['latitude'], 99.95)) &\n",
        "        (df['longitude'] >= np.percentile(df['longitude'], 0.05)) & \n",
        "        (df['longitude'] <= np.percentile(df['longitude'], 99.95))]"
      ],
      "execution_count": 0,
      "outputs": []
    },
    {
      "cell_type": "code",
      "metadata": {
        "id": "tZ7z2GQ07vmx",
        "colab_type": "code",
        "colab": {
          "base_uri": "https://localhost:8080/",
          "height": 279
        },
        "outputId": "e51bf1ac-890b-4808-c7fb-435e306ae653"
      },
      "source": [
        "# The distribution has improved, but is still right-skewed\n",
        "y = df['price']\n",
        "sns.distplot(y);"
      ],
      "execution_count": 89,
      "outputs": [
        {
          "output_type": "display_data",
          "data": {
            "text/plain": [
              "<Figure size 432x288 with 1 Axes>"
            ],
            "image/png": "[encoded data removed]"
          },
          "metadata": {
            "tags": [],
            "needs_background": "light"
          }
        }
      ]
    },
    {
      "cell_type": "code",
      "metadata": {
        "id": "bkH5P_Dl7vm0",
        "colab_type": "code",
        "colab": {
          "base_uri": "https://localhost:8080/",
          "height": 170
        },
        "outputId": "352c5f81-c395-4afc-dfd9-15c01eb11baa"
      },
      "source": [
        "y.describe()"
      ],
      "execution_count": 90,
      "outputs": [
        {
          "output_type": "execute_result",
          "data": {
            "text/plain": [
              "count    48817.000000\n",
              "mean      3579.585247\n",
              "std       1762.430772\n",
              "min       1375.000000\n",
              "25%       2500.000000\n",
              "50%       3150.000000\n",
              "75%       4095.000000\n",
              "max      15500.000000\n",
              "Name: price, dtype: float64"
            ]
          },
          "metadata": {
            "tags": []
          },
          "execution_count": 90
        }
      ]
    },
    {
      "cell_type": "markdown",
      "metadata": {
        "id": "Te4Y2O4s7vm3",
        "colab_type": "text"
      },
      "source": [
        "### Log-Transform\n",
        "\n",
        "If the target is right-skewed, you may want to “log transform” the target.\n",
        "\n",
        "\n",
        "> Transforming the target variable (using the mathematical log function) into a tighter, more uniform space makes life easier for any [regression] model.\n",
        ">\n",
        "> The only problem is that, while easy to execute, understanding why taking the log of the target variable works and how it affects the training/testing process is intellectually challenging. You can skip this section for now, if you like, but just remember that this technique exists and check back here if needed in the future.\n",
        ">\n",
        "> Optimally, the distribution of prices would be a narrow “bell curve” distribution without a tail. This would make predictions based upon average prices more accurate. We need a mathematical operation that transforms the widely-distributed target prices into a new space. The “price in dollars space” has a long right tail because of outliers and we want to squeeze that space into a new space that is normally distributed. More specifically, we need to shrink large values a lot and smaller values a little. That magic operation is called the logarithm or log for short. \n",
        ">\n",
        "> To make actual predictions, we have to take the exp of model predictions to get prices in dollars instead of log dollars. \n",
        ">\n",
        ">— Terence Parr & Jeremy Howard, [The Mechanics of Machine Learning, Chapter 5.5](https://mlbook.explained.ai/prep.html#logtarget)\n",
        "\n",
        "[Numpy has exponents and logarithms](https://docs.scipy.org/doc/numpy/reference/routines.math.html#exponents-and-logarithms). Your Python code could look like this:\n",
        "\n",
        "```python\n",
        "import numpy as np\n",
        "y_train_log = np.log1p(y_train)\n",
        "model.fit(X_train, y_train_log)\n",
        "y_pred_log = model.predict(X_val)\n",
        "y_pred = np.expm1(y_pred_log)\n",
        "print(mean_absolute_error(y_val, y_pred))\n",
        "```"
      ]
    },
    {
      "cell_type": "code",
      "metadata": {
        "id": "HzZjHUdW7vm4",
        "colab_type": "code",
        "colab": {
          "base_uri": "https://localhost:8080/",
          "height": 295
        },
        "outputId": "f025489e-6f36-4dec-fb8e-f664a1f78d44"
      },
      "source": [
        "sns.distplot(y)\n",
        "plt.title('Original target, in the unit of US dollars');"
      ],
      "execution_count": 92,
      "outputs": [
        {
          "output_type": "display_data",
          "data": {
            "text/plain": [
              "<Figure size 432x288 with 1 Axes>"
            ],
            "image/png": "[encoded data removed]"
          },
          "metadata": {
            "tags": [],
            "needs_background": "light"
          }
        }
      ]
    },
    {
      "cell_type": "code",
      "metadata": {
        "id": "dHQsw9VG7vm8",
        "colab_type": "code",
        "colab": {
          "base_uri": "https://localhost:8080/",
          "height": 295
        },
        "outputId": "3c54a5c8-ecb6-4fc8-9710-154d98fe7e92"
      },
      "source": [
        "y_log = np.log1p(y)\n",
        "sns.distplot(y_log)\n",
        "plt.title('Log-transformed target, in log-dollars');"
      ],
      "execution_count": 93,
      "outputs": [
        {
          "output_type": "display_data",
          "data": {
            "text/plain": [
              "<Figure size 432x288 with 1 Axes>"
            ],
            "image/png": "[encoded data removed]"
          },
          "metadata": {
            "tags": [],
            "needs_background": "light"
          }
        }
      ]
    },
    {
      "cell_type": "code",
      "metadata": {
        "id": "uo3nKRNO7vm_",
        "colab_type": "code",
        "colab": {
          "base_uri": "https://localhost:8080/",
          "height": 295
        },
        "outputId": "60e9b0d5-fce8-41a0-c62c-1ed0fcededfc"
      },
      "source": [
        "y_untransformed = np.expm1(y_log)\n",
        "sns.distplot(y_untransformed)\n",
        "plt.title('Back to the original units');"
      ],
      "execution_count": 94,
      "outputs": [
        {
          "output_type": "display_data",
          "data": {
            "text/plain": [
              "<Figure size 432x288 with 1 Axes>"
            ],
            "image/png": "[encoded data removed]"
          },
          "metadata": {
            "tags": [],
            "needs_background": "light"
          }
        }
      ]
    },
    {
      "cell_type": "markdown",
      "metadata": {
        "id": "XDgtvI3c7vnB",
        "colab_type": "text"
      },
      "source": [
        "## Challenge\n",
        "\n",
        "You will use your portfolio project dataset for all assignments this sprint. (If you haven't found a dataset yet, do that today. [Review requirements for your portfolio project](https://lambdaschool.github.io/ds/unit2) and choose your dataset.)\n",
        "\n",
        "Complete these tasks for your project, and document your decisions.\n",
        "\n",
        "- Choose your target. Which column in your tabular dataset will you predict?\n",
        "- Is your problem regression or classification?\n",
        "- How is your target distributed?\n",
        "    - Classification: How many classes? Are the classes imbalanced?\n",
        "    - Regression: Is the target right-skewed? If so, you may want to log transform the target.\n",
        "- Choose your evaluation metric(s).\n",
        "    - Classification: Is your majority class frequency >= 50% and < 70% ? If so, you can just use accuracy if you want. Outside that range, accuracy could be misleading. What evaluation metric will you choose, in addition to or instead of accuracy?\n",
        "    - Regression: Will you use mean absolute error, root mean squared error, R^2, or other regression metrics?\n",
        "- Choose which observations you will use to train, validate, and test your model.\n",
        "    - Are some observations outliers? Will you exclude them?\n",
        "    - Will you do a random split or a time-based split?\n",
        "- Begin to clean and explore your data.\n",
        "- Begin to choose which features, if any, to exclude. Would some features \"leak\" future information?\n",
        "\n",
        "Some students worry, ***what if my model isn't “good”?*** Then, [produce a detailed tribute to your wrongness. That is science!](https://twitter.com/nathanwpyle/status/1176860147223867393)"
      ]
    }
  ]
}