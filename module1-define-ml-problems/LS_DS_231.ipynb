{
 "cells": [
  {
   "cell_type": "markdown",
   "metadata": {
    "colab_type": "text",
    "id": "Sn2SiXAZpDYt"
   },
   "source": [
    "\n",
    "Lambda School Data Science\n",
    "\n",
    "*Unit 2, Sprint 3, Module 1*\n",
    "\n",
    "---\n",
    "\n"
   ]
  },
<<<<<<< HEAD
  {
   "cell_type": "markdown",
   "metadata": {
    "colab_type": "text",
    "id": "2Snq21tppDYv"
   },
   "source": [
    "# Define ML problems\n",
    "- Choose a target to predict, and check its distribution\n",
    "- Avoid leakage of information from test to train or from target to features\n",
    "- Choose an appropriate evaluation metric\n"
   ]
  },
  {
   "cell_type": "markdown",
   "metadata": {
    "colab_type": "text",
    "id": "Mt4NRt70pDYw"
   },
   "source": [
    "### Setup\n"
   ]
  },
  {
   "cell_type": "code",
   "execution_count": 1,
   "metadata": {
    "colab": {},
    "colab_type": "code",
    "id": "WfFjRxdqpDYy"
   },
   "outputs": [],
   "source": [
    "%%capture\n",
    "import sys\n",
    "\n",
    "# If you're on Colab:\n",
    "if 'google.colab' in sys.modules:\n",
    "    DATA_PATH = 'https://raw.githubusercontent.com/LambdaSchool/DS-Unit-2-Applied-Modeling/master/data/'\n",
    "    !pip install category_encoders==2.*\n",
    "\n",
    "# If you're working locally:\n",
    "else:\n",
    "    DATA_PATH = '../data/'"
   ]
  },
  {
   "cell_type": "markdown",
   "metadata": {
    "colab_type": "text",
    "id": "_VCxmdVvpDY5"
   },
   "source": [
    "# Choose a target to predict, and check its distribution"
   ]
  },
  {
   "cell_type": "markdown",
   "metadata": {
    "colab_type": "text",
    "id": "qoz8s1udpDY6"
   },
   "source": [
    "## Overview"
   ]
  },
  {
   "cell_type": "markdown",
   "metadata": {
    "colab_type": "text",
    "id": "vYKhWOL9pDY7"
   },
   "source": [
    "This is the data science process at a high level:\n",
    "\n",
    "<img src=\"https://image.slidesharecdn.com/becomingadatascientistadvice-pydatadc-shared-161012184823/95/becoming-a-data-scientist-advice-from-my-podcast-guests-55-638.jpg?cb=1476298295\">\n",
    "\n",
    "—Renee Teate, [Becoming a Data Scientist, PyData DC 2016 Talk](https://www.becomingadatascientist.com/2016/10/11/pydata-dc-2016-talk/)"
   ]
  },
  {
   "cell_type": "markdown",
   "metadata": {
    "colab_type": "text",
    "id": "OmdSaL_QpDY9"
   },
   "source": [
    "We've focused on the 2nd arrow in the diagram, by training predictive models. Now let's zoom out and focus on the 1st arrow: defining problems, by translating business questions into code/data questions."
   ]
  },
  {
   "cell_type": "markdown",
   "metadata": {
    "colab_type": "text",
    "id": "9XyabA0IpDY-"
   },
   "source": [
    "Last sprint, you did a Kaggle Challenge. It’s a great way to practice model validation and other technical skills. But that's just part of the modeling process. [Kaggle gets critiqued](https://speakerdeck.com/szilard/machine-learning-software-in-practice-quo-vadis-invited-talk-kdd-conference-applied-data-science-track-august-2017-halifax-canada?slide=119) because some things are done for you: Like [**defining the problem!**](https://www.linkedin.com/pulse/data-science-taught-universities-here-why-maciej-wasiak/) In today’s module, you’ll begin to practice this objective, with your dataset you’ve chosen for your personal portfolio project.\n",
    "\n",
    "When defining a supervised machine learning problem, one of the first steps is choosing a target to predict."
   ]
  },
  {
   "cell_type": "markdown",
   "metadata": {
    "colab_type": "text",
    "id": "9jJAPQMZpDY_"
   },
   "source": [
    "Which column in your tabular dataset will you predict?\n",
    "\n",
    "Is your problem regression or classification? You have options. Sometimes it’s not straightforward, as we'll see below.\n",
    "\n",
    "- Discrete, ordinal, low cardinality target: Can be regression or multi-class classification.\n",
    "- (In)equality comparison: Converts regression or multi-class classification to binary classification.\n",
    "- Predicted probability: Seems to [blur](https://brohrer.github.io/five_questions_data_science_answers.html) the line between classification and regression."
   ]
  },
  {
   "cell_type": "markdown",
   "metadata": {
    "colab_type": "text",
    "id": "Onzive1rpDZA"
   },
   "source": [
    "## Follow Along"
   ]
  },
  {
   "cell_type": "markdown",
   "metadata": {
    "colab_type": "text",
    "id": "eBCCtX20pDZB"
   },
   "source": [
    "Let's reuse the [Burrito reviews dataset.](https://nbviewer.jupyter.org/github/LambdaSchool/DS-Unit-2-Linear-Models/blob/master/module4-logistic-regression/LS_DS_214_assignment.ipynb) 🌯\n"
   ]
  },
  {
   "cell_type": "code",
   "execution_count": 2,
   "metadata": {
    "colab": {},
    "colab_type": "code",
    "id": "cwbrGYDhpDZD",
    "lines_to_next_cell": 2
   },
   "outputs": [],
   "source": [
    "import pandas as pd\n",
    "pd.options.display.max_columns = None\n",
    "df = pd.read_csv(DATA_PATH+'burritos/burritos.csv')"
   ]
  },
  {
   "cell_type": "code",
   "execution_count": 3,
   "metadata": {
    "colab": {
     "base_uri": "https://localhost:8080/",
     "height": 467
=======
  "cells": [
    {
      "cell_type": "markdown",
      "metadata": {
        "id": "Sn2SiXAZpDYt",
        "colab_type": "text"
      },
      "source": [
        "\n",
        "Lambda School Data Science\n",
        "\n",
        "*Unit 2, Sprint 3, Module 1*\n",
        "\n",
        "---\n",
        "\n"
      ]
    },
    {
      "cell_type": "markdown",
      "metadata": {
        "id": "2Snq21tppDYv",
        "colab_type": "text"
      },
      "source": [
        "# Define ML problems\n",
        "- Choose a target to predict, and check its distribution\n",
        "- Avoid leakage of information from test to train or from target to features\n",
        "- Choose an appropriate evaluation metric\n"
      ]
    },
    {
      "cell_type": "markdown",
      "metadata": {
        "id": "Mt4NRt70pDYw",
        "colab_type": "text"
      },
      "source": [
        "### Setup\n"
      ]
    },
    {
      "cell_type": "code",
      "metadata": {
        "id": "WfFjRxdqpDYy",
        "colab_type": "code",
        "colab": {}
      },
      "source": [
        "%%capture\n",
        "import sys\n",
        "\n",
        "# If you're on Colab:\n",
        "if 'google.colab' in sys.modules:\n",
        "    DATA_PATH = 'https://raw.githubusercontent.com/LambdaSchool/DS-Unit-2-Applied-Modeling/master/data/'\n",
        "    !pip install category_encoders==2.*\n",
        "\n",
        "# If you're working locally:\n",
        "else:\n",
        "    DATA_PATH = '../data/'"
      ],
      "execution_count": 0,
      "outputs": []
    },
    {
      "cell_type": "markdown",
      "metadata": {
        "id": "_VCxmdVvpDY5",
        "colab_type": "text"
      },
      "source": [
        "# Choose a target to predict, and check its distribution"
      ]
    },
    {
      "cell_type": "markdown",
      "metadata": {
        "id": "qoz8s1udpDY6",
        "colab_type": "text"
      },
      "source": [
        "## Overview"
      ]
    },
    {
      "cell_type": "markdown",
      "metadata": {
        "id": "vYKhWOL9pDY7",
        "colab_type": "text"
      },
      "source": [
        "This is the data science process at a high level:\n",
        "\n",
        "<img src=\"https://image.slidesharecdn.com/becomingadatascientistadvice-pydatadc-shared-161012184823/95/becoming-a-data-scientist-advice-from-my-podcast-guests-55-638.jpg?cb=1476298295\">\n",
        "\n",
        "—Renee Teate, [Becoming a Data Scientist, PyData DC 2016 Talk](https://www.becomingadatascientist.com/2016/10/11/pydata-dc-2016-talk/)"
      ]
    },
    {
      "cell_type": "markdown",
      "metadata": {
        "id": "OmdSaL_QpDY9",
        "colab_type": "text"
      },
      "source": [
        "We've focused on the 2nd arrow in the diagram, by training predictive models. Now let's zoom out and focus on the 1st arrow: defining problems, by translating business questions into code/data questions."
      ]
    },
    {
      "cell_type": "markdown",
      "metadata": {
        "id": "9XyabA0IpDY-",
        "colab_type": "text"
      },
      "source": [
        "Last sprint, you did a Kaggle Challenge. It’s a great way to practice model validation and other technical skills. But that's just part of the modeling process. [Kaggle gets critiqued](https://speakerdeck.com/szilard/machine-learning-software-in-practice-quo-vadis-invited-talk-kdd-conference-applied-data-science-track-august-2017-halifax-canada?slide=119) because some things are done for you: Like [**defining the problem!**](https://www.linkedin.com/pulse/data-science-taught-universities-here-why-maciej-wasiak/) In today’s module, you’ll begin to practice this objective, with your dataset you’ve chosen for your personal portfolio project.\n",
        "\n",
        "When defining a supervised machine learning problem, one of the first steps is choosing a target to predict."
      ]
    },
    {
      "cell_type": "markdown",
      "metadata": {
        "id": "9jJAPQMZpDY_",
        "colab_type": "text"
      },
      "source": [
        "Which column in your tabular dataset will you predict?\n",
        "\n",
        "Is your problem regression or classification? You have options. Sometimes it’s not straightforward, as we'll see below.\n",
        "\n",
        "- Discrete, ordinal, low cardinality target: Can be regression or multi-class classification.\n",
        "- (In)equality comparison: Converts regression or multi-class classification to binary classification.\n",
        "- Predicted probability: Seems to [blur](https://brohrer.github.io/five_questions_data_science_answers.html) the line between classification and regression."
      ]
    },
    {
      "cell_type": "markdown",
      "metadata": {
        "id": "Onzive1rpDZA",
        "colab_type": "text"
      },
      "source": [
        "## Follow Along"
      ]
    },
    {
      "cell_type": "markdown",
      "metadata": {
        "id": "eBCCtX20pDZB",
        "colab_type": "text"
      },
      "source": [
        "Let's reuse the [Burrito reviews dataset.](https://nbviewer.jupyter.org/github/LambdaSchool/DS-Unit-2-Linear-Models/blob/master/module4-logistic-regression/LS_DS_214_assignment.ipynb) 🌯\n"
      ]
    },
    {
      "cell_type": "code",
      "metadata": {
        "lines_to_next_cell": 2,
        "id": "cwbrGYDhpDZD",
        "colab_type": "code",
        "colab": {}
      },
      "source": [
        "import pandas as pd\n",
        "pd.options.display.max_columns = None\n",
        "df = pd.read_csv(DATA_PATH+'burritos/burritos.csv')"
      ],
      "execution_count": 0,
      "outputs": []
    },
    {
      "cell_type": "code",
      "metadata": {
        "id": "hFE7ARhetXvu",
        "colab_type": "code",
        "colab": {
          "base_uri": "https://localhost:8080/",
          "height": 479
        },
        "outputId": "2eed660e-04d6-4df8-cc7d-5f58b57aca67"
      },
      "source": [
        "df.head()"
      ],
      "execution_count": 166,
      "outputs": [
        {
          "output_type": "execute_result",
          "data": {
            "text/html": [
              "<div>\n",
              "<style scoped>\n",
              "    .dataframe tbody tr th:only-of-type {\n",
              "        vertical-align: middle;\n",
              "    }\n",
              "\n",
              "    .dataframe tbody tr th {\n",
              "        vertical-align: top;\n",
              "    }\n",
              "\n",
              "    .dataframe thead th {\n",
              "        text-align: right;\n",
              "    }\n",
              "</style>\n",
              "<table border=\"1\" class=\"dataframe\">\n",
              "  <thead>\n",
              "    <tr style=\"text-align: right;\">\n",
              "      <th></th>\n",
              "      <th>Location</th>\n",
              "      <th>Burrito</th>\n",
              "      <th>Date</th>\n",
              "      <th>Neighborhood</th>\n",
              "      <th>Address</th>\n",
              "      <th>URL</th>\n",
              "      <th>Yelp</th>\n",
              "      <th>Google</th>\n",
              "      <th>Chips</th>\n",
              "      <th>Cost</th>\n",
              "      <th>Hunger</th>\n",
              "      <th>Mass (g)</th>\n",
              "      <th>Density (g/mL)</th>\n",
              "      <th>Length</th>\n",
              "      <th>Circum</th>\n",
              "      <th>Volume</th>\n",
              "      <th>Tortilla</th>\n",
              "      <th>Temp</th>\n",
              "      <th>Meat</th>\n",
              "      <th>Fillings</th>\n",
              "      <th>Meat:filling</th>\n",
              "      <th>Uniformity</th>\n",
              "      <th>Salsa</th>\n",
              "      <th>Synergy</th>\n",
              "      <th>Wrap</th>\n",
              "      <th>overall</th>\n",
              "      <th>Rec</th>\n",
              "      <th>Reviewer</th>\n",
              "      <th>Notes</th>\n",
              "      <th>Unreliable</th>\n",
              "      <th>NonSD</th>\n",
              "      <th>Beef</th>\n",
              "      <th>Pico</th>\n",
              "      <th>Guac</th>\n",
              "      <th>Cheese</th>\n",
              "      <th>Fries</th>\n",
              "      <th>Sour cream</th>\n",
              "      <th>Pork</th>\n",
              "      <th>Chicken</th>\n",
              "      <th>Shrimp</th>\n",
              "      <th>Fish</th>\n",
              "      <th>Rice</th>\n",
              "      <th>Beans</th>\n",
              "      <th>Lettuce</th>\n",
              "      <th>Tomato</th>\n",
              "      <th>Bell peper</th>\n",
              "      <th>Carrots</th>\n",
              "      <th>Cabbage</th>\n",
              "      <th>Sauce</th>\n",
              "      <th>Salsa.1</th>\n",
              "      <th>Cilantro</th>\n",
              "      <th>Onion</th>\n",
              "      <th>Taquito</th>\n",
              "      <th>Pineapple</th>\n",
              "      <th>Ham</th>\n",
              "      <th>Chile relleno</th>\n",
              "      <th>Nopales</th>\n",
              "      <th>Lobster</th>\n",
              "      <th>Queso</th>\n",
              "      <th>Egg</th>\n",
              "      <th>Mushroom</th>\n",
              "      <th>Bacon</th>\n",
              "      <th>Sushi</th>\n",
              "      <th>Avocado</th>\n",
              "      <th>Corn</th>\n",
              "      <th>Zucchini</th>\n",
              "    </tr>\n",
              "  </thead>\n",
              "  <tbody>\n",
              "    <tr>\n",
              "      <th>0</th>\n",
              "      <td>Donato's taco shop</td>\n",
              "      <td>California</td>\n",
              "      <td>1/18/2016</td>\n",
              "      <td>Miramar</td>\n",
              "      <td>6780 Miramar Rd</td>\n",
              "      <td>http://donatostacoshop.net/</td>\n",
              "      <td>3.5</td>\n",
              "      <td>4.2</td>\n",
              "      <td>NaN</td>\n",
              "      <td>6.49</td>\n",
              "      <td>3.0</td>\n",
              "      <td>NaN</td>\n",
              "      <td>NaN</td>\n",
              "      <td>NaN</td>\n",
              "      <td>NaN</td>\n",
              "      <td>NaN</td>\n",
              "      <td>3.0</td>\n",
              "      <td>5.0</td>\n",
              "      <td>3.0</td>\n",
              "      <td>3.5</td>\n",
              "      <td>4.0</td>\n",
              "      <td>4.0</td>\n",
              "      <td>4.0</td>\n",
              "      <td>4.0</td>\n",
              "      <td>4.0</td>\n",
              "      <td>3.80</td>\n",
              "      <td>NaN</td>\n",
              "      <td>Scott</td>\n",
              "      <td>good fries: 4/5</td>\n",
              "      <td>NaN</td>\n",
              "      <td>NaN</td>\n",
              "      <td>x</td>\n",
              "      <td>x</td>\n",
              "      <td>x</td>\n",
              "      <td>x</td>\n",
              "      <td>x</td>\n",
              "      <td>NaN</td>\n",
              "      <td>NaN</td>\n",
              "      <td>NaN</td>\n",
              "      <td>NaN</td>\n",
              "      <td>NaN</td>\n",
              "      <td>NaN</td>\n",
              "      <td>NaN</td>\n",
              "      <td>NaN</td>\n",
              "      <td>NaN</td>\n",
              "      <td>NaN</td>\n",
              "      <td>NaN</td>\n",
              "      <td>NaN</td>\n",
              "      <td>NaN</td>\n",
              "      <td>NaN</td>\n",
              "      <td>NaN</td>\n",
              "      <td>NaN</td>\n",
              "      <td>NaN</td>\n",
              "      <td>NaN</td>\n",
              "      <td>NaN</td>\n",
              "      <td>NaN</td>\n",
              "      <td>NaN</td>\n",
              "      <td>NaN</td>\n",
              "      <td>NaN</td>\n",
              "      <td>NaN</td>\n",
              "      <td>NaN</td>\n",
              "      <td>NaN</td>\n",
              "      <td>NaN</td>\n",
              "      <td>NaN</td>\n",
              "      <td>NaN</td>\n",
              "      <td>NaN</td>\n",
              "    </tr>\n",
              "    <tr>\n",
              "      <th>1</th>\n",
              "      <td>Oscar's Mexican food</td>\n",
              "      <td>California</td>\n",
              "      <td>1/24/2016</td>\n",
              "      <td>San Marcos</td>\n",
              "      <td>225 S Rancho Santa Fe Rd</td>\n",
              "      <td>http://www.yelp.com/biz/oscars-mexican-food-sa...</td>\n",
              "      <td>3.5</td>\n",
              "      <td>3.3</td>\n",
              "      <td>NaN</td>\n",
              "      <td>5.45</td>\n",
              "      <td>3.5</td>\n",
              "      <td>NaN</td>\n",
              "      <td>NaN</td>\n",
              "      <td>NaN</td>\n",
              "      <td>NaN</td>\n",
              "      <td>NaN</td>\n",
              "      <td>2.0</td>\n",
              "      <td>3.5</td>\n",
              "      <td>2.5</td>\n",
              "      <td>2.5</td>\n",
              "      <td>2.0</td>\n",
              "      <td>4.0</td>\n",
              "      <td>3.5</td>\n",
              "      <td>2.5</td>\n",
              "      <td>5.0</td>\n",
              "      <td>3.00</td>\n",
              "      <td>NaN</td>\n",
              "      <td>Scott</td>\n",
              "      <td>Fries: 3/5; too little meat</td>\n",
              "      <td>NaN</td>\n",
              "      <td>NaN</td>\n",
              "      <td>x</td>\n",
              "      <td>x</td>\n",
              "      <td>x</td>\n",
              "      <td>x</td>\n",
              "      <td>x</td>\n",
              "      <td>NaN</td>\n",
              "      <td>NaN</td>\n",
              "      <td>NaN</td>\n",
              "      <td>NaN</td>\n",
              "      <td>NaN</td>\n",
              "      <td>NaN</td>\n",
              "      <td>NaN</td>\n",
              "      <td>NaN</td>\n",
              "      <td>NaN</td>\n",
              "      <td>NaN</td>\n",
              "      <td>NaN</td>\n",
              "      <td>NaN</td>\n",
              "      <td>NaN</td>\n",
              "      <td>NaN</td>\n",
              "      <td>NaN</td>\n",
              "      <td>NaN</td>\n",
              "      <td>NaN</td>\n",
              "      <td>NaN</td>\n",
              "      <td>NaN</td>\n",
              "      <td>NaN</td>\n",
              "      <td>NaN</td>\n",
              "      <td>NaN</td>\n",
              "      <td>NaN</td>\n",
              "      <td>NaN</td>\n",
              "      <td>NaN</td>\n",
              "      <td>NaN</td>\n",
              "      <td>NaN</td>\n",
              "      <td>NaN</td>\n",
              "      <td>NaN</td>\n",
              "      <td>NaN</td>\n",
              "    </tr>\n",
              "    <tr>\n",
              "      <th>2</th>\n",
              "      <td>Oscar's Mexican food</td>\n",
              "      <td>Carnitas</td>\n",
              "      <td>1/24/2016</td>\n",
              "      <td>NaN</td>\n",
              "      <td>NaN</td>\n",
              "      <td>NaN</td>\n",
              "      <td>NaN</td>\n",
              "      <td>NaN</td>\n",
              "      <td>NaN</td>\n",
              "      <td>4.85</td>\n",
              "      <td>1.5</td>\n",
              "      <td>NaN</td>\n",
              "      <td>NaN</td>\n",
              "      <td>NaN</td>\n",
              "      <td>NaN</td>\n",
              "      <td>NaN</td>\n",
              "      <td>3.0</td>\n",
              "      <td>2.0</td>\n",
              "      <td>2.5</td>\n",
              "      <td>3.0</td>\n",
              "      <td>4.5</td>\n",
              "      <td>4.0</td>\n",
              "      <td>3.0</td>\n",
              "      <td>3.0</td>\n",
              "      <td>5.0</td>\n",
              "      <td>3.00</td>\n",
              "      <td>NaN</td>\n",
              "      <td>Emily</td>\n",
              "      <td>NaN</td>\n",
              "      <td>NaN</td>\n",
              "      <td>NaN</td>\n",
              "      <td>NaN</td>\n",
              "      <td>x</td>\n",
              "      <td>x</td>\n",
              "      <td>NaN</td>\n",
              "      <td>NaN</td>\n",
              "      <td>NaN</td>\n",
              "      <td>x</td>\n",
              "      <td>NaN</td>\n",
              "      <td>NaN</td>\n",
              "      <td>NaN</td>\n",
              "      <td>NaN</td>\n",
              "      <td>NaN</td>\n",
              "      <td>NaN</td>\n",
              "      <td>NaN</td>\n",
              "      <td>NaN</td>\n",
              "      <td>NaN</td>\n",
              "      <td>NaN</td>\n",
              "      <td>NaN</td>\n",
              "      <td>NaN</td>\n",
              "      <td>NaN</td>\n",
              "      <td>NaN</td>\n",
              "      <td>NaN</td>\n",
              "      <td>NaN</td>\n",
              "      <td>NaN</td>\n",
              "      <td>NaN</td>\n",
              "      <td>NaN</td>\n",
              "      <td>NaN</td>\n",
              "      <td>NaN</td>\n",
              "      <td>NaN</td>\n",
              "      <td>NaN</td>\n",
              "      <td>NaN</td>\n",
              "      <td>NaN</td>\n",
              "      <td>NaN</td>\n",
              "      <td>NaN</td>\n",
              "      <td>NaN</td>\n",
              "    </tr>\n",
              "    <tr>\n",
              "      <th>3</th>\n",
              "      <td>Oscar's Mexican food</td>\n",
              "      <td>Carne asada</td>\n",
              "      <td>1/24/2016</td>\n",
              "      <td>NaN</td>\n",
              "      <td>NaN</td>\n",
              "      <td>NaN</td>\n",
              "      <td>NaN</td>\n",
              "      <td>NaN</td>\n",
              "      <td>NaN</td>\n",
              "      <td>5.25</td>\n",
              "      <td>2.0</td>\n",
              "      <td>NaN</td>\n",
              "      <td>NaN</td>\n",
              "      <td>NaN</td>\n",
              "      <td>NaN</td>\n",
              "      <td>NaN</td>\n",
              "      <td>3.0</td>\n",
              "      <td>2.0</td>\n",
              "      <td>3.5</td>\n",
              "      <td>3.0</td>\n",
              "      <td>4.0</td>\n",
              "      <td>5.0</td>\n",
              "      <td>4.0</td>\n",
              "      <td>4.0</td>\n",
              "      <td>5.0</td>\n",
              "      <td>3.75</td>\n",
              "      <td>NaN</td>\n",
              "      <td>Ricardo</td>\n",
              "      <td>Go to average burrito place like Rigoberto's i...</td>\n",
              "      <td>NaN</td>\n",
              "      <td>NaN</td>\n",
              "      <td>x</td>\n",
              "      <td>x</td>\n",
              "      <td>x</td>\n",
              "      <td>NaN</td>\n",
              "      <td>NaN</td>\n",
              "      <td>NaN</td>\n",
              "      <td>NaN</td>\n",
              "      <td>NaN</td>\n",
              "      <td>NaN</td>\n",
              "      <td>NaN</td>\n",
              "      <td>NaN</td>\n",
              "      <td>NaN</td>\n",
              "      <td>NaN</td>\n",
              "      <td>NaN</td>\n",
              "      <td>NaN</td>\n",
              "      <td>NaN</td>\n",
              "      <td>NaN</td>\n",
              "      <td>NaN</td>\n",
              "      <td>NaN</td>\n",
              "      <td>NaN</td>\n",
              "      <td>NaN</td>\n",
              "      <td>NaN</td>\n",
              "      <td>NaN</td>\n",
              "      <td>NaN</td>\n",
              "      <td>NaN</td>\n",
              "      <td>NaN</td>\n",
              "      <td>NaN</td>\n",
              "      <td>NaN</td>\n",
              "      <td>NaN</td>\n",
              "      <td>NaN</td>\n",
              "      <td>NaN</td>\n",
              "      <td>NaN</td>\n",
              "      <td>NaN</td>\n",
              "      <td>NaN</td>\n",
              "      <td>NaN</td>\n",
              "    </tr>\n",
              "    <tr>\n",
              "      <th>4</th>\n",
              "      <td>Pollos Maria</td>\n",
              "      <td>California</td>\n",
              "      <td>1/27/2016</td>\n",
              "      <td>Carlsbad</td>\n",
              "      <td>3055 Harding St</td>\n",
              "      <td>http://pollosmaria.com/</td>\n",
              "      <td>4.0</td>\n",
              "      <td>3.8</td>\n",
              "      <td>x</td>\n",
              "      <td>6.59</td>\n",
              "      <td>4.0</td>\n",
              "      <td>NaN</td>\n",
              "      <td>NaN</td>\n",
              "      <td>NaN</td>\n",
              "      <td>NaN</td>\n",
              "      <td>NaN</td>\n",
              "      <td>4.0</td>\n",
              "      <td>5.0</td>\n",
              "      <td>4.0</td>\n",
              "      <td>3.5</td>\n",
              "      <td>4.5</td>\n",
              "      <td>5.0</td>\n",
              "      <td>2.5</td>\n",
              "      <td>4.5</td>\n",
              "      <td>4.0</td>\n",
              "      <td>4.20</td>\n",
              "      <td>NaN</td>\n",
              "      <td>Scott</td>\n",
              "      <td>NaN</td>\n",
              "      <td>NaN</td>\n",
              "      <td>NaN</td>\n",
              "      <td>x</td>\n",
              "      <td>x</td>\n",
              "      <td>NaN</td>\n",
              "      <td>x</td>\n",
              "      <td>x</td>\n",
              "      <td>NaN</td>\n",
              "      <td>NaN</td>\n",
              "      <td>NaN</td>\n",
              "      <td>NaN</td>\n",
              "      <td>NaN</td>\n",
              "      <td>NaN</td>\n",
              "      <td>NaN</td>\n",
              "      <td>NaN</td>\n",
              "      <td>NaN</td>\n",
              "      <td>NaN</td>\n",
              "      <td>NaN</td>\n",
              "      <td>NaN</td>\n",
              "      <td>NaN</td>\n",
              "      <td>NaN</td>\n",
              "      <td>NaN</td>\n",
              "      <td>NaN</td>\n",
              "      <td>NaN</td>\n",
              "      <td>NaN</td>\n",
              "      <td>NaN</td>\n",
              "      <td>NaN</td>\n",
              "      <td>NaN</td>\n",
              "      <td>NaN</td>\n",
              "      <td>NaN</td>\n",
              "      <td>NaN</td>\n",
              "      <td>NaN</td>\n",
              "      <td>NaN</td>\n",
              "      <td>NaN</td>\n",
              "      <td>NaN</td>\n",
              "      <td>NaN</td>\n",
              "      <td>NaN</td>\n",
              "    </tr>\n",
              "  </tbody>\n",
              "</table>\n",
              "</div>"
            ],
            "text/plain": [
              "               Location      Burrito       Date Neighborhood  \\\n",
              "0    Donato's taco shop  California   1/18/2016      Miramar   \n",
              "1  Oscar's Mexican food  California   1/24/2016   San Marcos   \n",
              "2  Oscar's Mexican food     Carnitas  1/24/2016          NaN   \n",
              "3  Oscar's Mexican food  Carne asada  1/24/2016          NaN   \n",
              "4          Pollos Maria   California  1/27/2016     Carlsbad   \n",
              "\n",
              "                    Address  \\\n",
              "0           6780 Miramar Rd   \n",
              "1  225 S Rancho Santa Fe Rd   \n",
              "2                       NaN   \n",
              "3                       NaN   \n",
              "4           3055 Harding St   \n",
              "\n",
              "                                                 URL  Yelp  Google Chips  \\\n",
              "0                        http://donatostacoshop.net/   3.5     4.2   NaN   \n",
              "1  http://www.yelp.com/biz/oscars-mexican-food-sa...   3.5     3.3   NaN   \n",
              "2                                                NaN   NaN     NaN   NaN   \n",
              "3                                                NaN   NaN     NaN   NaN   \n",
              "4                            http://pollosmaria.com/   4.0     3.8     x   \n",
              "\n",
              "   Cost  Hunger  Mass (g)  Density (g/mL)  Length  Circum  Volume  Tortilla  \\\n",
              "0  6.49     3.0       NaN             NaN     NaN     NaN     NaN       3.0   \n",
              "1  5.45     3.5       NaN             NaN     NaN     NaN     NaN       2.0   \n",
              "2  4.85     1.5       NaN             NaN     NaN     NaN     NaN       3.0   \n",
              "3  5.25     2.0       NaN             NaN     NaN     NaN     NaN       3.0   \n",
              "4  6.59     4.0       NaN             NaN     NaN     NaN     NaN       4.0   \n",
              "\n",
              "   Temp  Meat  Fillings  Meat:filling  Uniformity  Salsa  Synergy  Wrap  \\\n",
              "0   5.0   3.0       3.5           4.0         4.0    4.0      4.0   4.0   \n",
              "1   3.5   2.5       2.5           2.0         4.0    3.5      2.5   5.0   \n",
              "2   2.0   2.5       3.0           4.5         4.0    3.0      3.0   5.0   \n",
              "3   2.0   3.5       3.0           4.0         5.0    4.0      4.0   5.0   \n",
              "4   5.0   4.0       3.5           4.5         5.0    2.5      4.5   4.0   \n",
              "\n",
              "   overall  Rec Reviewer                                              Notes  \\\n",
              "0     3.80  NaN    Scott                                    good fries: 4/5   \n",
              "1     3.00  NaN    Scott                        Fries: 3/5; too little meat   \n",
              "2     3.00  NaN    Emily                                                NaN   \n",
              "3     3.75  NaN  Ricardo  Go to average burrito place like Rigoberto's i...   \n",
              "4     4.20  NaN    Scott                                                NaN   \n",
              "\n",
              "  Unreliable NonSD Beef Pico Guac Cheese Fries Sour cream Pork Chicken Shrimp  \\\n",
              "0        NaN   NaN    x    x    x      x     x        NaN  NaN     NaN    NaN   \n",
              "1        NaN   NaN    x    x    x      x     x        NaN  NaN     NaN    NaN   \n",
              "2        NaN   NaN  NaN    x    x    NaN   NaN        NaN    x     NaN    NaN   \n",
              "3        NaN   NaN    x    x    x    NaN   NaN        NaN  NaN     NaN    NaN   \n",
              "4        NaN   NaN    x    x  NaN      x     x        NaN  NaN     NaN    NaN   \n",
              "\n",
              "  Fish Rice Beans Lettuce Tomato Bell peper Carrots Cabbage Sauce Salsa.1  \\\n",
              "0  NaN  NaN   NaN     NaN    NaN        NaN     NaN     NaN   NaN     NaN   \n",
              "1  NaN  NaN   NaN     NaN    NaN        NaN     NaN     NaN   NaN     NaN   \n",
              "2  NaN  NaN   NaN     NaN    NaN        NaN     NaN     NaN   NaN     NaN   \n",
              "3  NaN  NaN   NaN     NaN    NaN        NaN     NaN     NaN   NaN     NaN   \n",
              "4  NaN  NaN   NaN     NaN    NaN        NaN     NaN     NaN   NaN     NaN   \n",
              "\n",
              "  Cilantro Onion Taquito Pineapple  Ham Chile relleno Nopales Lobster  Queso  \\\n",
              "0      NaN   NaN     NaN       NaN  NaN           NaN     NaN     NaN    NaN   \n",
              "1      NaN   NaN     NaN       NaN  NaN           NaN     NaN     NaN    NaN   \n",
              "2      NaN   NaN     NaN       NaN  NaN           NaN     NaN     NaN    NaN   \n",
              "3      NaN   NaN     NaN       NaN  NaN           NaN     NaN     NaN    NaN   \n",
              "4      NaN   NaN     NaN       NaN  NaN           NaN     NaN     NaN    NaN   \n",
              "\n",
              "   Egg Mushroom Bacon Sushi Avocado Corn Zucchini  \n",
              "0  NaN      NaN   NaN   NaN     NaN  NaN      NaN  \n",
              "1  NaN      NaN   NaN   NaN     NaN  NaN      NaN  \n",
              "2  NaN      NaN   NaN   NaN     NaN  NaN      NaN  \n",
              "3  NaN      NaN   NaN   NaN     NaN  NaN      NaN  \n",
              "4  NaN      NaN   NaN   NaN     NaN  NaN      NaN  "
            ]
          },
          "metadata": {
            "tags": []
          },
          "execution_count": 166
        }
      ]
    },
    {
      "cell_type": "markdown",
      "metadata": {
        "id": "anp0QxAppDZJ",
        "colab_type": "text"
      },
      "source": [
        "### Choose your target \n",
        "\n",
        "Which column in your tabular dataset will you predict?\n"
      ]
    },
    {
      "cell_type": "code",
      "metadata": {
        "lines_to_next_cell": 2,
        "id": "zIPL0gf3pDZK",
        "colab_type": "code",
        "colab": {
          "base_uri": "https://localhost:8080/",
          "height": 170
        },
        "outputId": "5e684b27-778b-4188-a4df-b53e71619e6e"
      },
      "source": [
        "#Use the describe method to see the target distribution\n",
        "df['overall'].describe()"
      ],
      "execution_count": 167,
      "outputs": [
        {
          "output_type": "execute_result",
          "data": {
            "text/plain": [
              "count    421.000000\n",
              "mean       3.620887\n",
              "std        0.755718\n",
              "min        1.000000\n",
              "25%        3.100000\n",
              "50%        3.800000\n",
              "75%        4.100000\n",
              "max        5.000000\n",
              "Name: overall, dtype: float64"
            ]
          },
          "metadata": {
            "tags": []
          },
          "execution_count": 167
        }
      ]
    },
    {
      "cell_type": "code",
      "metadata": {
        "id": "jt2xsGMnuDZJ",
        "colab_type": "code",
        "colab": {
          "base_uri": "https://localhost:8080/",
          "height": 34
        },
        "outputId": "502d1488-59c9-4fb2-adce-58890f10ca1b"
      },
      "source": [
        "#drops na values\n",
        "df['overall'].isna().sum()\n"
      ],
      "execution_count": 168,
      "outputs": [
        {
          "output_type": "execute_result",
          "data": {
            "text/plain": [
              "2"
            ]
          },
          "metadata": {
            "tags": []
          },
          "execution_count": 168
        }
      ]
    },
    {
      "cell_type": "code",
      "metadata": {
        "id": "2rGn_VZ_uK4n",
        "colab_type": "code",
        "colab": {}
      },
      "source": [
        "df.dropna(subset=['overall'])\n",
        "df['Great'] = df['overall'] >=4"
      ],
      "execution_count": 0,
      "outputs": []
    },
    {
      "cell_type": "code",
      "metadata": {
        "id": "GELq3iP7uXiO",
        "colab_type": "code",
        "colab": {
          "base_uri": "https://localhost:8080/",
          "height": 119
        },
        "outputId": "8bc5c169-faad-4a04-89ae-55c20ba555a9"
      },
      "source": [
        "df['Great'].head()"
      ],
      "execution_count": 170,
      "outputs": [
        {
          "output_type": "execute_result",
          "data": {
            "text/plain": [
              "0    False\n",
              "1    False\n",
              "2    False\n",
              "3    False\n",
              "4     True\n",
              "Name: Great, dtype: bool"
            ]
          },
          "metadata": {
            "tags": []
          },
          "execution_count": 170
        }
      ]
    },
    {
      "cell_type": "code",
      "metadata": {
        "id": "qsKUX1NluicU",
        "colab_type": "code",
        "colab": {
          "base_uri": "https://localhost:8080/",
          "height": 221
        },
        "outputId": "4bdd3712-aec9-47d1-d206-74843c3650d3"
      },
      "source": [
        "df['overall']"
      ],
      "execution_count": 171,
      "outputs": [
        {
          "output_type": "execute_result",
          "data": {
            "text/plain": [
              "0      3.80\n",
              "1      3.00\n",
              "2      3.00\n",
              "3      3.75\n",
              "4      4.20\n",
              "       ... \n",
              "418    3.50\n",
              "419    4.00\n",
              "420    3.50\n",
              "421    4.00\n",
              "422    4.60\n",
              "Name: overall, Length: 423, dtype: float64"
            ]
          },
          "metadata": {
            "tags": []
          },
          "execution_count": 171
        }
      ]
    },
    {
      "cell_type": "markdown",
      "metadata": {
        "id": "mdlUNeOBpDZQ",
        "colab_type": "text"
      },
      "source": [
        "### How is your target distributed?\n",
        "\n",
        "For a classification problem, determine: How many classes? Are the classes imbalanced?"
      ]
    },
    {
      "cell_type": "code",
      "metadata": {
        "id": "V31MdGX6pDZR",
        "colab_type": "code",
        "colab": {
          "base_uri": "https://localhost:8080/",
          "height": 34
        },
        "outputId": "737838ce-9faa-463b-97d9-37b9552209b5"
      },
      "source": [
        "#confirm that the target is binary\n",
        "y=df['Great']\n",
        "y.unique()"
      ],
      "execution_count": 172,
      "outputs": [
        {
          "output_type": "execute_result",
          "data": {
            "text/plain": [
              "array([False,  True])"
            ]
          },
          "metadata": {
            "tags": []
          },
          "execution_count": 172
        }
      ]
    },
    {
      "cell_type": "code",
      "metadata": {
        "id": "-asHkLg0usCE",
        "colab_type": "code",
        "colab": {
          "base_uri": "https://localhost:8080/",
          "height": 68
        },
        "outputId": "5dffa7cc-4d4b-4a5e-be77-3a2bc4fac77c"
      },
      "source": [
        "#this implies that the distribution is kin to use accuracy as metric. If this was a .99 to .01, accuracy would not be a good metric.\n",
        "y.value_counts(normalize=True)"
      ],
      "execution_count": 173,
      "outputs": [
        {
          "output_type": "execute_result",
          "data": {
            "text/plain": [
              "False    0.56974\n",
              "True     0.43026\n",
              "Name: Great, dtype: float64"
            ]
          },
          "metadata": {
            "tags": []
          },
          "execution_count": 173
        }
      ]
    },
    {
      "cell_type": "markdown",
      "metadata": {
        "id": "k653ljq3pDZW",
        "colab_type": "text"
      },
      "source": [
        "# Avoid leakage of information from test to train or from target to features"
      ]
    },
    {
      "cell_type": "markdown",
      "metadata": {
        "id": "Y_Px4fuCpDZY",
        "colab_type": "text"
      },
      "source": [
        "## Overview"
      ]
    },
    {
      "cell_type": "markdown",
      "metadata": {
        "id": "H-rotUZOpDZa",
        "colab_type": "text"
      },
      "source": [
        "Overfitting is our enemy in applied machine learning, and leakage is often the cause.\n",
        "\n",
        "> Make sure your training features do not contain data from the “future” (aka time traveling). While this might be easy and obvious in some cases, it can get tricky. … If your test metric becomes really good all of the sudden, ask yourself what you might be doing wrong. Chances are you are time travelling or overfitting in some way. — [Xavier Amatriain](https://www.quora.com/What-are-some-best-practices-for-training-machine-learning-models/answer/Xavier-Amatriain)\n",
        "\n",
        "Choose train, validate, and test sets. Are some observations outliers? Will you exclude them? Will you do a random split or a time-based split? You can (re)read [How (and why) to create a good validation set](https://www.fast.ai/2017/11/13/validation-sets/)."
      ]
    },
    {
      "cell_type": "markdown",
      "metadata": {
        "id": "ihekzMbmwI8S",
        "colab_type": "text"
      },
      "source": [
        "#Data Leakage examples:\n",
        "\n",
        "- Temporal\n",
        "- Duplicates\n",
        "- Feature engineering before validation split\n",
        "- Training a model on data not available at inference time\n",
        "- Synthetic data\n",
        "- Classification of images with logos/labels"
      ]
    },
    {
      "cell_type": "markdown",
      "metadata": {
        "id": "hJcfo5CNpDZb",
        "colab_type": "text"
      },
      "source": [
        "## Follow Along"
      ]
    },
    {
      "cell_type": "markdown",
      "metadata": {
        "id": "nfQgI_lMpDZc",
        "colab_type": "text"
      },
      "source": [
        "First, begin to **explore and clean your data.**"
      ]
    },
    {
      "cell_type": "code",
      "metadata": {
        "id": "x4wV10dZpDZd",
        "colab_type": "code",
        "colab": {
          "base_uri": "https://localhost:8080/",
          "height": 221
        },
        "outputId": "2d757cdd-24aa-4d33-a4bd-4f497bc3ed46"
      },
      "source": [
        "df['Burrito'] = df['Burrito'].str.lower()\n",
        "\n",
        "california = df[\"Burrito\"].str.contains('california')\n",
        "asada = df[\"Burrito\"].str.contains('asada')\n",
        "surf = df[\"Burrito\"].str.contains('surf')\n",
        "carnitas = df[\"Burrito\"].str.contains('carnitas')\n",
        "\n",
        "df['Burrito'].value_counts()"
      ],
      "execution_count": 174,
      "outputs": [
        {
          "output_type": "execute_result",
          "data": {
            "text/plain": [
              "california               101\n",
              "carne asada               33\n",
              "california                26\n",
              "carnitas                  23\n",
              "california everything     17\n",
              "                        ... \n",
              "pokirrito classic          1\n",
              "tilapia one                1\n",
              "bean & cheese              1\n",
              "adobado                    1\n",
              "lobster                    1\n",
              "Name: Burrito, Length: 123, dtype: int64"
            ]
          },
          "metadata": {
            "tags": []
          },
          "execution_count": 174
        }
      ]
    },
    {
      "cell_type": "code",
      "metadata": {
        "id": "BRwshPCJ22BY",
        "colab_type": "code",
        "colab": {
          "base_uri": "https://localhost:8080/",
          "height": 153
        },
        "outputId": "a75a46a9-754f-446f-c938-cccf1d55e667"
      },
      "source": [
        "cardinality = df.select_dtypes(exclude='number').nunique()\n",
        "high_cardinality_feat = cardinality[cardinality > 30].index.tolist()\n",
        "high_cardinality_feat"
      ],
      "execution_count": 175,
      "outputs": [
        {
          "output_type": "execute_result",
          "data": {
            "text/plain": [
              "['Location',\n",
              " 'Burrito',\n",
              " 'Date',\n",
              " 'Neighborhood',\n",
              " 'Address',\n",
              " 'URL',\n",
              " 'Reviewer',\n",
              " 'Notes']"
            ]
          },
          "metadata": {
            "tags": []
          },
          "execution_count": 175
        }
      ]
    },
    {
      "cell_type": "code",
      "metadata": {
        "id": "79EH3ysd3Jbj",
        "colab_type": "code",
        "colab": {
          "base_uri": "https://localhost:8080/",
          "height": 34
        },
        "outputId": "3977a2fe-5885-42ee-de0e-9cf5d5c024e7"
      },
      "source": [
        "high_cardinality_feat.remove('Date')\n",
        "high_cardinality_feat"
      ],
      "execution_count": 176,
      "outputs": [
        {
          "output_type": "execute_result",
          "data": {
            "text/plain": [
              "['Location', 'Burrito', 'Neighborhood', 'Address', 'URL', 'Reviewer', 'Notes']"
            ]
          },
          "metadata": {
            "tags": []
          },
          "execution_count": 176
        }
      ]
    },
    {
      "cell_type": "code",
      "metadata": {
        "id": "uLDJRGRa3QBR",
        "colab_type": "code",
        "colab": {
          "base_uri": "https://localhost:8080/",
          "height": 241
        },
        "outputId": "3b4ec3b9-2b74-4a5b-9475-5d6df4f06589"
      },
      "source": [
        "df = df.drop(columns=high_cardinality_feat)\n",
        "df.head()"
      ],
      "execution_count": 177,
      "outputs": [
        {
          "output_type": "execute_result",
          "data": {
            "text/html": [
              "<div>\n",
              "<style scoped>\n",
              "    .dataframe tbody tr th:only-of-type {\n",
              "        vertical-align: middle;\n",
              "    }\n",
              "\n",
              "    .dataframe tbody tr th {\n",
              "        vertical-align: top;\n",
              "    }\n",
              "\n",
              "    .dataframe thead th {\n",
              "        text-align: right;\n",
              "    }\n",
              "</style>\n",
              "<table border=\"1\" class=\"dataframe\">\n",
              "  <thead>\n",
              "    <tr style=\"text-align: right;\">\n",
              "      <th></th>\n",
              "      <th>Date</th>\n",
              "      <th>Yelp</th>\n",
              "      <th>Google</th>\n",
              "      <th>Chips</th>\n",
              "      <th>Cost</th>\n",
              "      <th>Hunger</th>\n",
              "      <th>Mass (g)</th>\n",
              "      <th>Density (g/mL)</th>\n",
              "      <th>Length</th>\n",
              "      <th>Circum</th>\n",
              "      <th>Volume</th>\n",
              "      <th>Tortilla</th>\n",
              "      <th>Temp</th>\n",
              "      <th>Meat</th>\n",
              "      <th>Fillings</th>\n",
              "      <th>Meat:filling</th>\n",
              "      <th>Uniformity</th>\n",
              "      <th>Salsa</th>\n",
              "      <th>Synergy</th>\n",
              "      <th>Wrap</th>\n",
              "      <th>overall</th>\n",
              "      <th>Rec</th>\n",
              "      <th>Unreliable</th>\n",
              "      <th>NonSD</th>\n",
              "      <th>Beef</th>\n",
              "      <th>Pico</th>\n",
              "      <th>Guac</th>\n",
              "      <th>Cheese</th>\n",
              "      <th>Fries</th>\n",
              "      <th>Sour cream</th>\n",
              "      <th>Pork</th>\n",
              "      <th>Chicken</th>\n",
              "      <th>Shrimp</th>\n",
              "      <th>Fish</th>\n",
              "      <th>Rice</th>\n",
              "      <th>Beans</th>\n",
              "      <th>Lettuce</th>\n",
              "      <th>Tomato</th>\n",
              "      <th>Bell peper</th>\n",
              "      <th>Carrots</th>\n",
              "      <th>Cabbage</th>\n",
              "      <th>Sauce</th>\n",
              "      <th>Salsa.1</th>\n",
              "      <th>Cilantro</th>\n",
              "      <th>Onion</th>\n",
              "      <th>Taquito</th>\n",
              "      <th>Pineapple</th>\n",
              "      <th>Ham</th>\n",
              "      <th>Chile relleno</th>\n",
              "      <th>Nopales</th>\n",
              "      <th>Lobster</th>\n",
              "      <th>Queso</th>\n",
              "      <th>Egg</th>\n",
              "      <th>Mushroom</th>\n",
              "      <th>Bacon</th>\n",
              "      <th>Sushi</th>\n",
              "      <th>Avocado</th>\n",
              "      <th>Corn</th>\n",
              "      <th>Zucchini</th>\n",
              "      <th>Great</th>\n",
              "    </tr>\n",
              "  </thead>\n",
              "  <tbody>\n",
              "    <tr>\n",
              "      <th>0</th>\n",
              "      <td>1/18/2016</td>\n",
              "      <td>3.5</td>\n",
              "      <td>4.2</td>\n",
              "      <td>NaN</td>\n",
              "      <td>6.49</td>\n",
              "      <td>3.0</td>\n",
              "      <td>NaN</td>\n",
              "      <td>NaN</td>\n",
              "      <td>NaN</td>\n",
              "      <td>NaN</td>\n",
              "      <td>NaN</td>\n",
              "      <td>3.0</td>\n",
              "      <td>5.0</td>\n",
              "      <td>3.0</td>\n",
              "      <td>3.5</td>\n",
              "      <td>4.0</td>\n",
              "      <td>4.0</td>\n",
              "      <td>4.0</td>\n",
              "      <td>4.0</td>\n",
              "      <td>4.0</td>\n",
              "      <td>3.80</td>\n",
              "      <td>NaN</td>\n",
              "      <td>NaN</td>\n",
              "      <td>NaN</td>\n",
              "      <td>x</td>\n",
              "      <td>x</td>\n",
              "      <td>x</td>\n",
              "      <td>x</td>\n",
              "      <td>x</td>\n",
              "      <td>NaN</td>\n",
              "      <td>NaN</td>\n",
              "      <td>NaN</td>\n",
              "      <td>NaN</td>\n",
              "      <td>NaN</td>\n",
              "      <td>NaN</td>\n",
              "      <td>NaN</td>\n",
              "      <td>NaN</td>\n",
              "      <td>NaN</td>\n",
              "      <td>NaN</td>\n",
              "      <td>NaN</td>\n",
              "      <td>NaN</td>\n",
              "      <td>NaN</td>\n",
              "      <td>NaN</td>\n",
              "      <td>NaN</td>\n",
              "      <td>NaN</td>\n",
              "      <td>NaN</td>\n",
              "      <td>NaN</td>\n",
              "      <td>NaN</td>\n",
              "      <td>NaN</td>\n",
              "      <td>NaN</td>\n",
              "      <td>NaN</td>\n",
              "      <td>NaN</td>\n",
              "      <td>NaN</td>\n",
              "      <td>NaN</td>\n",
              "      <td>NaN</td>\n",
              "      <td>NaN</td>\n",
              "      <td>NaN</td>\n",
              "      <td>NaN</td>\n",
              "      <td>NaN</td>\n",
              "      <td>False</td>\n",
              "    </tr>\n",
              "    <tr>\n",
              "      <th>1</th>\n",
              "      <td>1/24/2016</td>\n",
              "      <td>3.5</td>\n",
              "      <td>3.3</td>\n",
              "      <td>NaN</td>\n",
              "      <td>5.45</td>\n",
              "      <td>3.5</td>\n",
              "      <td>NaN</td>\n",
              "      <td>NaN</td>\n",
              "      <td>NaN</td>\n",
              "      <td>NaN</td>\n",
              "      <td>NaN</td>\n",
              "      <td>2.0</td>\n",
              "      <td>3.5</td>\n",
              "      <td>2.5</td>\n",
              "      <td>2.5</td>\n",
              "      <td>2.0</td>\n",
              "      <td>4.0</td>\n",
              "      <td>3.5</td>\n",
              "      <td>2.5</td>\n",
              "      <td>5.0</td>\n",
              "      <td>3.00</td>\n",
              "      <td>NaN</td>\n",
              "      <td>NaN</td>\n",
              "      <td>NaN</td>\n",
              "      <td>x</td>\n",
              "      <td>x</td>\n",
              "      <td>x</td>\n",
              "      <td>x</td>\n",
              "      <td>x</td>\n",
              "      <td>NaN</td>\n",
              "      <td>NaN</td>\n",
              "      <td>NaN</td>\n",
              "      <td>NaN</td>\n",
              "      <td>NaN</td>\n",
              "      <td>NaN</td>\n",
              "      <td>NaN</td>\n",
              "      <td>NaN</td>\n",
              "      <td>NaN</td>\n",
              "      <td>NaN</td>\n",
              "      <td>NaN</td>\n",
              "      <td>NaN</td>\n",
              "      <td>NaN</td>\n",
              "      <td>NaN</td>\n",
              "      <td>NaN</td>\n",
              "      <td>NaN</td>\n",
              "      <td>NaN</td>\n",
              "      <td>NaN</td>\n",
              "      <td>NaN</td>\n",
              "      <td>NaN</td>\n",
              "      <td>NaN</td>\n",
              "      <td>NaN</td>\n",
              "      <td>NaN</td>\n",
              "      <td>NaN</td>\n",
              "      <td>NaN</td>\n",
              "      <td>NaN</td>\n",
              "      <td>NaN</td>\n",
              "      <td>NaN</td>\n",
              "      <td>NaN</td>\n",
              "      <td>NaN</td>\n",
              "      <td>False</td>\n",
              "    </tr>\n",
              "    <tr>\n",
              "      <th>2</th>\n",
              "      <td>1/24/2016</td>\n",
              "      <td>NaN</td>\n",
              "      <td>NaN</td>\n",
              "      <td>NaN</td>\n",
              "      <td>4.85</td>\n",
              "      <td>1.5</td>\n",
              "      <td>NaN</td>\n",
              "      <td>NaN</td>\n",
              "      <td>NaN</td>\n",
              "      <td>NaN</td>\n",
              "      <td>NaN</td>\n",
              "      <td>3.0</td>\n",
              "      <td>2.0</td>\n",
              "      <td>2.5</td>\n",
              "      <td>3.0</td>\n",
              "      <td>4.5</td>\n",
              "      <td>4.0</td>\n",
              "      <td>3.0</td>\n",
              "      <td>3.0</td>\n",
              "      <td>5.0</td>\n",
              "      <td>3.00</td>\n",
              "      <td>NaN</td>\n",
              "      <td>NaN</td>\n",
              "      <td>NaN</td>\n",
              "      <td>NaN</td>\n",
              "      <td>x</td>\n",
              "      <td>x</td>\n",
              "      <td>NaN</td>\n",
              "      <td>NaN</td>\n",
              "      <td>NaN</td>\n",
              "      <td>x</td>\n",
              "      <td>NaN</td>\n",
              "      <td>NaN</td>\n",
              "      <td>NaN</td>\n",
              "      <td>NaN</td>\n",
              "      <td>NaN</td>\n",
              "      <td>NaN</td>\n",
              "      <td>NaN</td>\n",
              "      <td>NaN</td>\n",
              "      <td>NaN</td>\n",
              "      <td>NaN</td>\n",
              "      <td>NaN</td>\n",
              "      <td>NaN</td>\n",
              "      <td>NaN</td>\n",
              "      <td>NaN</td>\n",
              "      <td>NaN</td>\n",
              "      <td>NaN</td>\n",
              "      <td>NaN</td>\n",
              "      <td>NaN</td>\n",
              "      <td>NaN</td>\n",
              "      <td>NaN</td>\n",
              "      <td>NaN</td>\n",
              "      <td>NaN</td>\n",
              "      <td>NaN</td>\n",
              "      <td>NaN</td>\n",
              "      <td>NaN</td>\n",
              "      <td>NaN</td>\n",
              "      <td>NaN</td>\n",
              "      <td>NaN</td>\n",
              "      <td>False</td>\n",
              "    </tr>\n",
              "    <tr>\n",
              "      <th>3</th>\n",
              "      <td>1/24/2016</td>\n",
              "      <td>NaN</td>\n",
              "      <td>NaN</td>\n",
              "      <td>NaN</td>\n",
              "      <td>5.25</td>\n",
              "      <td>2.0</td>\n",
              "      <td>NaN</td>\n",
              "      <td>NaN</td>\n",
              "      <td>NaN</td>\n",
              "      <td>NaN</td>\n",
              "      <td>NaN</td>\n",
              "      <td>3.0</td>\n",
              "      <td>2.0</td>\n",
              "      <td>3.5</td>\n",
              "      <td>3.0</td>\n",
              "      <td>4.0</td>\n",
              "      <td>5.0</td>\n",
              "      <td>4.0</td>\n",
              "      <td>4.0</td>\n",
              "      <td>5.0</td>\n",
              "      <td>3.75</td>\n",
              "      <td>NaN</td>\n",
              "      <td>NaN</td>\n",
              "      <td>NaN</td>\n",
              "      <td>x</td>\n",
              "      <td>x</td>\n",
              "      <td>x</td>\n",
              "      <td>NaN</td>\n",
              "      <td>NaN</td>\n",
              "      <td>NaN</td>\n",
              "      <td>NaN</td>\n",
              "      <td>NaN</td>\n",
              "      <td>NaN</td>\n",
              "      <td>NaN</td>\n",
              "      <td>NaN</td>\n",
              "      <td>NaN</td>\n",
              "      <td>NaN</td>\n",
              "      <td>NaN</td>\n",
              "      <td>NaN</td>\n",
              "      <td>NaN</td>\n",
              "      <td>NaN</td>\n",
              "      <td>NaN</td>\n",
              "      <td>NaN</td>\n",
              "      <td>NaN</td>\n",
              "      <td>NaN</td>\n",
              "      <td>NaN</td>\n",
              "      <td>NaN</td>\n",
              "      <td>NaN</td>\n",
              "      <td>NaN</td>\n",
              "      <td>NaN</td>\n",
              "      <td>NaN</td>\n",
              "      <td>NaN</td>\n",
              "      <td>NaN</td>\n",
              "      <td>NaN</td>\n",
              "      <td>NaN</td>\n",
              "      <td>NaN</td>\n",
              "      <td>NaN</td>\n",
              "      <td>NaN</td>\n",
              "      <td>NaN</td>\n",
              "      <td>False</td>\n",
              "    </tr>\n",
              "    <tr>\n",
              "      <th>4</th>\n",
              "      <td>1/27/2016</td>\n",
              "      <td>4.0</td>\n",
              "      <td>3.8</td>\n",
              "      <td>x</td>\n",
              "      <td>6.59</td>\n",
              "      <td>4.0</td>\n",
              "      <td>NaN</td>\n",
              "      <td>NaN</td>\n",
              "      <td>NaN</td>\n",
              "      <td>NaN</td>\n",
              "      <td>NaN</td>\n",
              "      <td>4.0</td>\n",
              "      <td>5.0</td>\n",
              "      <td>4.0</td>\n",
              "      <td>3.5</td>\n",
              "      <td>4.5</td>\n",
              "      <td>5.0</td>\n",
              "      <td>2.5</td>\n",
              "      <td>4.5</td>\n",
              "      <td>4.0</td>\n",
              "      <td>4.20</td>\n",
              "      <td>NaN</td>\n",
              "      <td>NaN</td>\n",
              "      <td>NaN</td>\n",
              "      <td>x</td>\n",
              "      <td>x</td>\n",
              "      <td>NaN</td>\n",
              "      <td>x</td>\n",
              "      <td>x</td>\n",
              "      <td>NaN</td>\n",
              "      <td>NaN</td>\n",
              "      <td>NaN</td>\n",
              "      <td>NaN</td>\n",
              "      <td>NaN</td>\n",
              "      <td>NaN</td>\n",
              "      <td>NaN</td>\n",
              "      <td>NaN</td>\n",
              "      <td>NaN</td>\n",
              "      <td>NaN</td>\n",
              "      <td>NaN</td>\n",
              "      <td>NaN</td>\n",
              "      <td>NaN</td>\n",
              "      <td>NaN</td>\n",
              "      <td>NaN</td>\n",
              "      <td>NaN</td>\n",
              "      <td>NaN</td>\n",
              "      <td>NaN</td>\n",
              "      <td>NaN</td>\n",
              "      <td>NaN</td>\n",
              "      <td>NaN</td>\n",
              "      <td>NaN</td>\n",
              "      <td>NaN</td>\n",
              "      <td>NaN</td>\n",
              "      <td>NaN</td>\n",
              "      <td>NaN</td>\n",
              "      <td>NaN</td>\n",
              "      <td>NaN</td>\n",
              "      <td>NaN</td>\n",
              "      <td>NaN</td>\n",
              "      <td>True</td>\n",
              "    </tr>\n",
              "  </tbody>\n",
              "</table>\n",
              "</div>"
            ],
            "text/plain": [
              "        Date  Yelp  Google Chips  Cost  Hunger  Mass (g)  Density (g/mL)  \\\n",
              "0  1/18/2016   3.5     4.2   NaN  6.49     3.0       NaN             NaN   \n",
              "1  1/24/2016   3.5     3.3   NaN  5.45     3.5       NaN             NaN   \n",
              "2  1/24/2016   NaN     NaN   NaN  4.85     1.5       NaN             NaN   \n",
              "3  1/24/2016   NaN     NaN   NaN  5.25     2.0       NaN             NaN   \n",
              "4  1/27/2016   4.0     3.8     x  6.59     4.0       NaN             NaN   \n",
              "\n",
              "   Length  Circum  Volume  Tortilla  Temp  Meat  Fillings  Meat:filling  \\\n",
              "0     NaN     NaN     NaN       3.0   5.0   3.0       3.5           4.0   \n",
              "1     NaN     NaN     NaN       2.0   3.5   2.5       2.5           2.0   \n",
              "2     NaN     NaN     NaN       3.0   2.0   2.5       3.0           4.5   \n",
              "3     NaN     NaN     NaN       3.0   2.0   3.5       3.0           4.0   \n",
              "4     NaN     NaN     NaN       4.0   5.0   4.0       3.5           4.5   \n",
              "\n",
              "   Uniformity  Salsa  Synergy  Wrap  overall  Rec Unreliable NonSD Beef Pico  \\\n",
              "0         4.0    4.0      4.0   4.0     3.80  NaN        NaN   NaN    x    x   \n",
              "1         4.0    3.5      2.5   5.0     3.00  NaN        NaN   NaN    x    x   \n",
              "2         4.0    3.0      3.0   5.0     3.00  NaN        NaN   NaN  NaN    x   \n",
              "3         5.0    4.0      4.0   5.0     3.75  NaN        NaN   NaN    x    x   \n",
              "4         5.0    2.5      4.5   4.0     4.20  NaN        NaN   NaN    x    x   \n",
              "\n",
              "  Guac Cheese Fries Sour cream Pork Chicken Shrimp Fish Rice Beans Lettuce  \\\n",
              "0    x      x     x        NaN  NaN     NaN    NaN  NaN  NaN   NaN     NaN   \n",
              "1    x      x     x        NaN  NaN     NaN    NaN  NaN  NaN   NaN     NaN   \n",
              "2    x    NaN   NaN        NaN    x     NaN    NaN  NaN  NaN   NaN     NaN   \n",
              "3    x    NaN   NaN        NaN  NaN     NaN    NaN  NaN  NaN   NaN     NaN   \n",
              "4  NaN      x     x        NaN  NaN     NaN    NaN  NaN  NaN   NaN     NaN   \n",
              "\n",
              "  Tomato Bell peper Carrots Cabbage Sauce Salsa.1 Cilantro Onion Taquito  \\\n",
              "0    NaN        NaN     NaN     NaN   NaN     NaN      NaN   NaN     NaN   \n",
              "1    NaN        NaN     NaN     NaN   NaN     NaN      NaN   NaN     NaN   \n",
              "2    NaN        NaN     NaN     NaN   NaN     NaN      NaN   NaN     NaN   \n",
              "3    NaN        NaN     NaN     NaN   NaN     NaN      NaN   NaN     NaN   \n",
              "4    NaN        NaN     NaN     NaN   NaN     NaN      NaN   NaN     NaN   \n",
              "\n",
              "  Pineapple  Ham Chile relleno Nopales Lobster  Queso  Egg Mushroom Bacon  \\\n",
              "0       NaN  NaN           NaN     NaN     NaN    NaN  NaN      NaN   NaN   \n",
              "1       NaN  NaN           NaN     NaN     NaN    NaN  NaN      NaN   NaN   \n",
              "2       NaN  NaN           NaN     NaN     NaN    NaN  NaN      NaN   NaN   \n",
              "3       NaN  NaN           NaN     NaN     NaN    NaN  NaN      NaN   NaN   \n",
              "4       NaN  NaN           NaN     NaN     NaN    NaN  NaN      NaN   NaN   \n",
              "\n",
              "  Sushi Avocado Corn Zucchini  Great  \n",
              "0   NaN     NaN  NaN      NaN  False  \n",
              "1   NaN     NaN  NaN      NaN  False  \n",
              "2   NaN     NaN  NaN      NaN  False  \n",
              "3   NaN     NaN  NaN      NaN  False  \n",
              "4   NaN     NaN  NaN      NaN   True  "
            ]
          },
          "metadata": {
            "tags": []
          },
          "execution_count": 177
        }
      ]
    },
    {
      "cell_type": "code",
      "metadata": {
        "id": "Z3WrqNYN3V_C",
        "colab_type": "code",
        "colab": {
          "base_uri": "https://localhost:8080/",
          "height": 1000
        },
        "outputId": "7b881e51-982e-4f79-912c-70c7db27694e"
      },
      "source": [
        "df.isna().sum().sort_values()"
      ],
      "execution_count": 178,
      "outputs": [
        {
          "output_type": "execute_result",
          "data": {
            "text/plain": [
              "Date                0\n",
              "Tortilla            0\n",
              "Great               0\n",
              "Uniformity          2\n",
              "overall             2\n",
              "Synergy             2\n",
              "Hunger              3\n",
              "Wrap                3\n",
              "Fillings            3\n",
              "Cost                7\n",
              "Meat:filling        9\n",
              "Meat               14\n",
              "Temp               20\n",
              "Salsa              25\n",
              "Length            139\n",
              "Volume            141\n",
              "Circum            141\n",
              "Rec               190\n",
              "Beef              243\n",
              "Cheese            263\n",
              "Pico              264\n",
              "Guac              268\n",
              "Fries             295\n",
              "Sour cream        331\n",
              "Google            336\n",
              "Yelp              336\n",
              "Pork              372\n",
              "Sauce             385\n",
              "Rice              387\n",
              "Beans             388\n",
              "Unreliable        390\n",
              "Chips             397\n",
              "Mass (g)          401\n",
              "Density (g/mL)    401\n",
              "Shrimp            402\n",
              "Chicken           402\n",
              "Onion             406\n",
              "Cilantro          408\n",
              "Avocado           410\n",
              "Lettuce           412\n",
              "Cabbage           415\n",
              "Tomato            416\n",
              "Bell peper        416\n",
              "Salsa.1           416\n",
              "Pineapple         416\n",
              "NonSD             416\n",
              "Fish              417\n",
              "Egg               418\n",
              "Nopales           419\n",
              "Taquito           419\n",
              "Chile relleno     419\n",
              "Mushroom          420\n",
              "Bacon             420\n",
              "Corn              420\n",
              "Sushi             421\n",
              "Ham               421\n",
              "Lobster           422\n",
              "Zucchini          422\n",
              "Carrots           422\n",
              "Queso             423\n",
              "dtype: int64"
            ]
          },
          "metadata": {
            "tags": []
          },
          "execution_count": 178
        }
      ]
    },
    {
      "cell_type": "code",
      "metadata": {
        "id": "fcEmEH3E3cta",
        "colab_type": "code",
        "colab": {}
      },
      "source": [
        "df = df.fillna('Missing')"
      ],
      "execution_count": 0,
      "outputs": []
    },
    {
      "cell_type": "code",
      "metadata": {
        "id": "0P9xSH9s3hb4",
        "colab_type": "code",
        "colab": {
          "base_uri": "https://localhost:8080/",
          "height": 241
        },
        "outputId": "1549f8a3-7ac6-4609-c585-fad5b6723526"
      },
      "source": [
        "df.head()"
      ],
      "execution_count": 180,
      "outputs": [
        {
          "output_type": "execute_result",
          "data": {
            "text/html": [
              "<div>\n",
              "<style scoped>\n",
              "    .dataframe tbody tr th:only-of-type {\n",
              "        vertical-align: middle;\n",
              "    }\n",
              "\n",
              "    .dataframe tbody tr th {\n",
              "        vertical-align: top;\n",
              "    }\n",
              "\n",
              "    .dataframe thead th {\n",
              "        text-align: right;\n",
              "    }\n",
              "</style>\n",
              "<table border=\"1\" class=\"dataframe\">\n",
              "  <thead>\n",
              "    <tr style=\"text-align: right;\">\n",
              "      <th></th>\n",
              "      <th>Date</th>\n",
              "      <th>Yelp</th>\n",
              "      <th>Google</th>\n",
              "      <th>Chips</th>\n",
              "      <th>Cost</th>\n",
              "      <th>Hunger</th>\n",
              "      <th>Mass (g)</th>\n",
              "      <th>Density (g/mL)</th>\n",
              "      <th>Length</th>\n",
              "      <th>Circum</th>\n",
              "      <th>Volume</th>\n",
              "      <th>Tortilla</th>\n",
              "      <th>Temp</th>\n",
              "      <th>Meat</th>\n",
              "      <th>Fillings</th>\n",
              "      <th>Meat:filling</th>\n",
              "      <th>Uniformity</th>\n",
              "      <th>Salsa</th>\n",
              "      <th>Synergy</th>\n",
              "      <th>Wrap</th>\n",
              "      <th>overall</th>\n",
              "      <th>Rec</th>\n",
              "      <th>Unreliable</th>\n",
              "      <th>NonSD</th>\n",
              "      <th>Beef</th>\n",
              "      <th>Pico</th>\n",
              "      <th>Guac</th>\n",
              "      <th>Cheese</th>\n",
              "      <th>Fries</th>\n",
              "      <th>Sour cream</th>\n",
              "      <th>Pork</th>\n",
              "      <th>Chicken</th>\n",
              "      <th>Shrimp</th>\n",
              "      <th>Fish</th>\n",
              "      <th>Rice</th>\n",
              "      <th>Beans</th>\n",
              "      <th>Lettuce</th>\n",
              "      <th>Tomato</th>\n",
              "      <th>Bell peper</th>\n",
              "      <th>Carrots</th>\n",
              "      <th>Cabbage</th>\n",
              "      <th>Sauce</th>\n",
              "      <th>Salsa.1</th>\n",
              "      <th>Cilantro</th>\n",
              "      <th>Onion</th>\n",
              "      <th>Taquito</th>\n",
              "      <th>Pineapple</th>\n",
              "      <th>Ham</th>\n",
              "      <th>Chile relleno</th>\n",
              "      <th>Nopales</th>\n",
              "      <th>Lobster</th>\n",
              "      <th>Queso</th>\n",
              "      <th>Egg</th>\n",
              "      <th>Mushroom</th>\n",
              "      <th>Bacon</th>\n",
              "      <th>Sushi</th>\n",
              "      <th>Avocado</th>\n",
              "      <th>Corn</th>\n",
              "      <th>Zucchini</th>\n",
              "      <th>Great</th>\n",
              "    </tr>\n",
              "  </thead>\n",
              "  <tbody>\n",
              "    <tr>\n",
              "      <th>0</th>\n",
              "      <td>1/18/2016</td>\n",
              "      <td>3.5</td>\n",
              "      <td>4.2</td>\n",
              "      <td>Missing</td>\n",
              "      <td>6.49</td>\n",
              "      <td>3</td>\n",
              "      <td>Missing</td>\n",
              "      <td>Missing</td>\n",
              "      <td>Missing</td>\n",
              "      <td>Missing</td>\n",
              "      <td>Missing</td>\n",
              "      <td>3.0</td>\n",
              "      <td>5</td>\n",
              "      <td>3</td>\n",
              "      <td>3.5</td>\n",
              "      <td>4</td>\n",
              "      <td>4</td>\n",
              "      <td>4</td>\n",
              "      <td>4</td>\n",
              "      <td>4</td>\n",
              "      <td>3.8</td>\n",
              "      <td>Missing</td>\n",
              "      <td>Missing</td>\n",
              "      <td>Missing</td>\n",
              "      <td>x</td>\n",
              "      <td>x</td>\n",
              "      <td>x</td>\n",
              "      <td>x</td>\n",
              "      <td>x</td>\n",
              "      <td>Missing</td>\n",
              "      <td>Missing</td>\n",
              "      <td>Missing</td>\n",
              "      <td>Missing</td>\n",
              "      <td>Missing</td>\n",
              "      <td>Missing</td>\n",
              "      <td>Missing</td>\n",
              "      <td>Missing</td>\n",
              "      <td>Missing</td>\n",
              "      <td>Missing</td>\n",
              "      <td>Missing</td>\n",
              "      <td>Missing</td>\n",
              "      <td>Missing</td>\n",
              "      <td>Missing</td>\n",
              "      <td>Missing</td>\n",
              "      <td>Missing</td>\n",
              "      <td>Missing</td>\n",
              "      <td>Missing</td>\n",
              "      <td>Missing</td>\n",
              "      <td>Missing</td>\n",
              "      <td>Missing</td>\n",
              "      <td>Missing</td>\n",
              "      <td>Missing</td>\n",
              "      <td>Missing</td>\n",
              "      <td>Missing</td>\n",
              "      <td>Missing</td>\n",
              "      <td>Missing</td>\n",
              "      <td>Missing</td>\n",
              "      <td>Missing</td>\n",
              "      <td>Missing</td>\n",
              "      <td>False</td>\n",
              "    </tr>\n",
              "    <tr>\n",
              "      <th>1</th>\n",
              "      <td>1/24/2016</td>\n",
              "      <td>3.5</td>\n",
              "      <td>3.3</td>\n",
              "      <td>Missing</td>\n",
              "      <td>5.45</td>\n",
              "      <td>3.5</td>\n",
              "      <td>Missing</td>\n",
              "      <td>Missing</td>\n",
              "      <td>Missing</td>\n",
              "      <td>Missing</td>\n",
              "      <td>Missing</td>\n",
              "      <td>2.0</td>\n",
              "      <td>3.5</td>\n",
              "      <td>2.5</td>\n",
              "      <td>2.5</td>\n",
              "      <td>2</td>\n",
              "      <td>4</td>\n",
              "      <td>3.5</td>\n",
              "      <td>2.5</td>\n",
              "      <td>5</td>\n",
              "      <td>3</td>\n",
              "      <td>Missing</td>\n",
              "      <td>Missing</td>\n",
              "      <td>Missing</td>\n",
              "      <td>x</td>\n",
              "      <td>x</td>\n",
              "      <td>x</td>\n",
              "      <td>x</td>\n",
              "      <td>x</td>\n",
              "      <td>Missing</td>\n",
              "      <td>Missing</td>\n",
              "      <td>Missing</td>\n",
              "      <td>Missing</td>\n",
              "      <td>Missing</td>\n",
              "      <td>Missing</td>\n",
              "      <td>Missing</td>\n",
              "      <td>Missing</td>\n",
              "      <td>Missing</td>\n",
              "      <td>Missing</td>\n",
              "      <td>Missing</td>\n",
              "      <td>Missing</td>\n",
              "      <td>Missing</td>\n",
              "      <td>Missing</td>\n",
              "      <td>Missing</td>\n",
              "      <td>Missing</td>\n",
              "      <td>Missing</td>\n",
              "      <td>Missing</td>\n",
              "      <td>Missing</td>\n",
              "      <td>Missing</td>\n",
              "      <td>Missing</td>\n",
              "      <td>Missing</td>\n",
              "      <td>Missing</td>\n",
              "      <td>Missing</td>\n",
              "      <td>Missing</td>\n",
              "      <td>Missing</td>\n",
              "      <td>Missing</td>\n",
              "      <td>Missing</td>\n",
              "      <td>Missing</td>\n",
              "      <td>Missing</td>\n",
              "      <td>False</td>\n",
              "    </tr>\n",
              "    <tr>\n",
              "      <th>2</th>\n",
              "      <td>1/24/2016</td>\n",
              "      <td>Missing</td>\n",
              "      <td>Missing</td>\n",
              "      <td>Missing</td>\n",
              "      <td>4.85</td>\n",
              "      <td>1.5</td>\n",
              "      <td>Missing</td>\n",
              "      <td>Missing</td>\n",
              "      <td>Missing</td>\n",
              "      <td>Missing</td>\n",
              "      <td>Missing</td>\n",
              "      <td>3.0</td>\n",
              "      <td>2</td>\n",
              "      <td>2.5</td>\n",
              "      <td>3</td>\n",
              "      <td>4.5</td>\n",
              "      <td>4</td>\n",
              "      <td>3</td>\n",
              "      <td>3</td>\n",
              "      <td>5</td>\n",
              "      <td>3</td>\n",
              "      <td>Missing</td>\n",
              "      <td>Missing</td>\n",
              "      <td>Missing</td>\n",
              "      <td>Missing</td>\n",
              "      <td>x</td>\n",
              "      <td>x</td>\n",
              "      <td>Missing</td>\n",
              "      <td>Missing</td>\n",
              "      <td>Missing</td>\n",
              "      <td>x</td>\n",
              "      <td>Missing</td>\n",
              "      <td>Missing</td>\n",
              "      <td>Missing</td>\n",
              "      <td>Missing</td>\n",
              "      <td>Missing</td>\n",
              "      <td>Missing</td>\n",
              "      <td>Missing</td>\n",
              "      <td>Missing</td>\n",
              "      <td>Missing</td>\n",
              "      <td>Missing</td>\n",
              "      <td>Missing</td>\n",
              "      <td>Missing</td>\n",
              "      <td>Missing</td>\n",
              "      <td>Missing</td>\n",
              "      <td>Missing</td>\n",
              "      <td>Missing</td>\n",
              "      <td>Missing</td>\n",
              "      <td>Missing</td>\n",
              "      <td>Missing</td>\n",
              "      <td>Missing</td>\n",
              "      <td>Missing</td>\n",
              "      <td>Missing</td>\n",
              "      <td>Missing</td>\n",
              "      <td>Missing</td>\n",
              "      <td>Missing</td>\n",
              "      <td>Missing</td>\n",
              "      <td>Missing</td>\n",
              "      <td>Missing</td>\n",
              "      <td>False</td>\n",
              "    </tr>\n",
              "    <tr>\n",
              "      <th>3</th>\n",
              "      <td>1/24/2016</td>\n",
              "      <td>Missing</td>\n",
              "      <td>Missing</td>\n",
              "      <td>Missing</td>\n",
              "      <td>5.25</td>\n",
              "      <td>2</td>\n",
              "      <td>Missing</td>\n",
              "      <td>Missing</td>\n",
              "      <td>Missing</td>\n",
              "      <td>Missing</td>\n",
              "      <td>Missing</td>\n",
              "      <td>3.0</td>\n",
              "      <td>2</td>\n",
              "      <td>3.5</td>\n",
              "      <td>3</td>\n",
              "      <td>4</td>\n",
              "      <td>5</td>\n",
              "      <td>4</td>\n",
              "      <td>4</td>\n",
              "      <td>5</td>\n",
              "      <td>3.75</td>\n",
              "      <td>Missing</td>\n",
              "      <td>Missing</td>\n",
              "      <td>Missing</td>\n",
              "      <td>x</td>\n",
              "      <td>x</td>\n",
              "      <td>x</td>\n",
              "      <td>Missing</td>\n",
              "      <td>Missing</td>\n",
              "      <td>Missing</td>\n",
              "      <td>Missing</td>\n",
              "      <td>Missing</td>\n",
              "      <td>Missing</td>\n",
              "      <td>Missing</td>\n",
              "      <td>Missing</td>\n",
              "      <td>Missing</td>\n",
              "      <td>Missing</td>\n",
              "      <td>Missing</td>\n",
              "      <td>Missing</td>\n",
              "      <td>Missing</td>\n",
              "      <td>Missing</td>\n",
              "      <td>Missing</td>\n",
              "      <td>Missing</td>\n",
              "      <td>Missing</td>\n",
              "      <td>Missing</td>\n",
              "      <td>Missing</td>\n",
              "      <td>Missing</td>\n",
              "      <td>Missing</td>\n",
              "      <td>Missing</td>\n",
              "      <td>Missing</td>\n",
              "      <td>Missing</td>\n",
              "      <td>Missing</td>\n",
              "      <td>Missing</td>\n",
              "      <td>Missing</td>\n",
              "      <td>Missing</td>\n",
              "      <td>Missing</td>\n",
              "      <td>Missing</td>\n",
              "      <td>Missing</td>\n",
              "      <td>Missing</td>\n",
              "      <td>False</td>\n",
              "    </tr>\n",
              "    <tr>\n",
              "      <th>4</th>\n",
              "      <td>1/27/2016</td>\n",
              "      <td>4</td>\n",
              "      <td>3.8</td>\n",
              "      <td>x</td>\n",
              "      <td>6.59</td>\n",
              "      <td>4</td>\n",
              "      <td>Missing</td>\n",
              "      <td>Missing</td>\n",
              "      <td>Missing</td>\n",
              "      <td>Missing</td>\n",
              "      <td>Missing</td>\n",
              "      <td>4.0</td>\n",
              "      <td>5</td>\n",
              "      <td>4</td>\n",
              "      <td>3.5</td>\n",
              "      <td>4.5</td>\n",
              "      <td>5</td>\n",
              "      <td>2.5</td>\n",
              "      <td>4.5</td>\n",
              "      <td>4</td>\n",
              "      <td>4.2</td>\n",
              "      <td>Missing</td>\n",
              "      <td>Missing</td>\n",
              "      <td>Missing</td>\n",
              "      <td>x</td>\n",
              "      <td>x</td>\n",
              "      <td>Missing</td>\n",
              "      <td>x</td>\n",
              "      <td>x</td>\n",
              "      <td>Missing</td>\n",
              "      <td>Missing</td>\n",
              "      <td>Missing</td>\n",
              "      <td>Missing</td>\n",
              "      <td>Missing</td>\n",
              "      <td>Missing</td>\n",
              "      <td>Missing</td>\n",
              "      <td>Missing</td>\n",
              "      <td>Missing</td>\n",
              "      <td>Missing</td>\n",
              "      <td>Missing</td>\n",
              "      <td>Missing</td>\n",
              "      <td>Missing</td>\n",
              "      <td>Missing</td>\n",
              "      <td>Missing</td>\n",
              "      <td>Missing</td>\n",
              "      <td>Missing</td>\n",
              "      <td>Missing</td>\n",
              "      <td>Missing</td>\n",
              "      <td>Missing</td>\n",
              "      <td>Missing</td>\n",
              "      <td>Missing</td>\n",
              "      <td>Missing</td>\n",
              "      <td>Missing</td>\n",
              "      <td>Missing</td>\n",
              "      <td>Missing</td>\n",
              "      <td>Missing</td>\n",
              "      <td>Missing</td>\n",
              "      <td>Missing</td>\n",
              "      <td>Missing</td>\n",
              "      <td>True</td>\n",
              "    </tr>\n",
              "  </tbody>\n",
              "</table>\n",
              "</div>"
            ],
            "text/plain": [
              "        Date     Yelp   Google    Chips  Cost Hunger Mass (g) Density (g/mL)  \\\n",
              "0  1/18/2016      3.5      4.2  Missing  6.49      3  Missing        Missing   \n",
              "1  1/24/2016      3.5      3.3  Missing  5.45    3.5  Missing        Missing   \n",
              "2  1/24/2016  Missing  Missing  Missing  4.85    1.5  Missing        Missing   \n",
              "3  1/24/2016  Missing  Missing  Missing  5.25      2  Missing        Missing   \n",
              "4  1/27/2016        4      3.8        x  6.59      4  Missing        Missing   \n",
              "\n",
              "    Length   Circum   Volume  Tortilla Temp Meat Fillings Meat:filling  \\\n",
              "0  Missing  Missing  Missing       3.0    5    3      3.5            4   \n",
              "1  Missing  Missing  Missing       2.0  3.5  2.5      2.5            2   \n",
              "2  Missing  Missing  Missing       3.0    2  2.5        3          4.5   \n",
              "3  Missing  Missing  Missing       3.0    2  3.5        3            4   \n",
              "4  Missing  Missing  Missing       4.0    5    4      3.5          4.5   \n",
              "\n",
              "  Uniformity Salsa Synergy Wrap overall      Rec Unreliable    NonSD     Beef  \\\n",
              "0          4     4       4    4     3.8  Missing    Missing  Missing        x   \n",
              "1          4   3.5     2.5    5       3  Missing    Missing  Missing        x   \n",
              "2          4     3       3    5       3  Missing    Missing  Missing  Missing   \n",
              "3          5     4       4    5    3.75  Missing    Missing  Missing        x   \n",
              "4          5   2.5     4.5    4     4.2  Missing    Missing  Missing        x   \n",
              "\n",
              "  Pico     Guac   Cheese    Fries Sour cream     Pork  Chicken   Shrimp  \\\n",
              "0    x        x        x        x    Missing  Missing  Missing  Missing   \n",
              "1    x        x        x        x    Missing  Missing  Missing  Missing   \n",
              "2    x        x  Missing  Missing    Missing        x  Missing  Missing   \n",
              "3    x        x  Missing  Missing    Missing  Missing  Missing  Missing   \n",
              "4    x  Missing        x        x    Missing  Missing  Missing  Missing   \n",
              "\n",
              "      Fish     Rice    Beans  Lettuce   Tomato Bell peper  Carrots  Cabbage  \\\n",
              "0  Missing  Missing  Missing  Missing  Missing    Missing  Missing  Missing   \n",
              "1  Missing  Missing  Missing  Missing  Missing    Missing  Missing  Missing   \n",
              "2  Missing  Missing  Missing  Missing  Missing    Missing  Missing  Missing   \n",
              "3  Missing  Missing  Missing  Missing  Missing    Missing  Missing  Missing   \n",
              "4  Missing  Missing  Missing  Missing  Missing    Missing  Missing  Missing   \n",
              "\n",
              "     Sauce  Salsa.1 Cilantro    Onion  Taquito Pineapple      Ham  \\\n",
              "0  Missing  Missing  Missing  Missing  Missing   Missing  Missing   \n",
              "1  Missing  Missing  Missing  Missing  Missing   Missing  Missing   \n",
              "2  Missing  Missing  Missing  Missing  Missing   Missing  Missing   \n",
              "3  Missing  Missing  Missing  Missing  Missing   Missing  Missing   \n",
              "4  Missing  Missing  Missing  Missing  Missing   Missing  Missing   \n",
              "\n",
              "  Chile relleno  Nopales  Lobster    Queso      Egg Mushroom    Bacon  \\\n",
              "0       Missing  Missing  Missing  Missing  Missing  Missing  Missing   \n",
              "1       Missing  Missing  Missing  Missing  Missing  Missing  Missing   \n",
              "2       Missing  Missing  Missing  Missing  Missing  Missing  Missing   \n",
              "3       Missing  Missing  Missing  Missing  Missing  Missing  Missing   \n",
              "4       Missing  Missing  Missing  Missing  Missing  Missing  Missing   \n",
              "\n",
              "     Sushi  Avocado     Corn Zucchini  Great  \n",
              "0  Missing  Missing  Missing  Missing  False  \n",
              "1  Missing  Missing  Missing  Missing  False  \n",
              "2  Missing  Missing  Missing  Missing  False  \n",
              "3  Missing  Missing  Missing  Missing  False  \n",
              "4  Missing  Missing  Missing  Missing   True  "
            ]
          },
          "metadata": {
            "tags": []
          },
          "execution_count": 180
        }
      ]
    },
    {
      "cell_type": "markdown",
      "metadata": {
        "id": "TL72gPxLpDZi",
        "colab_type": "text"
      },
      "source": [
        "Next, do a **time-based split:**\n",
        "\n",
        "- Train on reviews from 2016 & earlier. \n",
        "- Validate on 2017. \n",
        "- Test on 2018 & later."
      ]
    },
    {
      "cell_type": "code",
      "metadata": {
        "id": "uPORK9CupDZj",
        "colab_type": "code",
        "colab": {
          "base_uri": "https://localhost:8080/",
          "height": 34
        },
        "outputId": "54670e5e-9bd3-4b89-da43-174e860176d3"
      },
      "source": [
        "df['Date'] = pd.to_datetime(df['Date'])\n",
        "df['Date'].dtype"
      ],
      "execution_count": 181,
      "outputs": [
        {
          "output_type": "execute_result",
          "data": {
            "text/plain": [
              "dtype('<M8[ns]')"
            ]
          },
          "metadata": {
            "tags": []
          },
          "execution_count": 181
        }
      ]
    },
    {
      "cell_type": "code",
      "metadata": {
        "id": "eF6VrbxR5SgB",
        "colab_type": "code",
        "colab": {
          "base_uri": "https://localhost:8080/",
          "height": 119
        },
        "outputId": "28c875ca-82fa-4503-88af-cbab41cadabb"
      },
      "source": [
        "df['Date'].head()"
      ],
      "execution_count": 182,
      "outputs": [
        {
          "output_type": "execute_result",
          "data": {
            "text/plain": [
              "0   2016-01-18\n",
              "1   2016-01-24\n",
              "2   2016-01-24\n",
              "3   2016-01-24\n",
              "4   2016-01-27\n",
              "Name: Date, dtype: datetime64[ns]"
            ]
          },
          "metadata": {
            "tags": []
          },
          "execution_count": 182
        }
      ]
    },
    {
      "cell_type": "code",
      "metadata": {
        "id": "8XuQ8s1ZaGBP",
        "colab_type": "code",
        "colab": {}
      },
      "source": [
        "train = df[df['Date'].dt.year <=2016]\n",
        "val = df[df['Date'].dt.year == 2017]\n",
        "test = df[df['Date'].dt.year >=2018]"
      ],
      "execution_count": 0,
      "outputs": []
    },
    {
      "cell_type": "code",
      "metadata": {
        "id": "qHqixyR85D7I",
        "colab_type": "code",
        "colab": {
          "base_uri": "https://localhost:8080/",
          "height": 34
        },
        "outputId": "ee043bac-3c5c-4511-f06f-81ee7a83523c"
      },
      "source": [
        "train.shape, val.shape, test.shape\n"
      ],
      "execution_count": 184,
      "outputs": [
        {
          "output_type": "execute_result",
          "data": {
            "text/plain": [
              "((300, 60), (85, 60), (38, 60))"
            ]
          },
          "metadata": {
            "tags": []
          },
          "execution_count": 184
        }
      ]
    },
    {
      "cell_type": "markdown",
      "metadata": {
        "id": "nbTjdVyfpDZo",
        "colab_type": "text"
      },
      "source": [
        "Begin to choose which features, if any, to exclude. **Would some features “leak” future information?**\n",
        "\n",
        "What happens if we _DON’T_ drop features with leakage?"
      ]
    },
    {
      "cell_type": "code",
      "metadata": {
        "id": "Cg_k-t12pDZp",
        "colab_type": "code",
        "colab": {}
      },
      "source": [
        "import category_encoders as ce \n",
        "from sklearn.pipeline import make_pipeline\n",
        "from sklearn.preprocessing import OrdinalEncoder\n",
        "from sklearn.tree import DecisionTreeClassifier\n",
        "\n",
        "target = \"Great\"\n",
        "features = train.columns.drop([target, 'Date'])\n",
        "features\n",
        "\n",
        "X_train = train[features]\n",
        "y_train = train[target]\n",
        "X_val = val[features]\n",
        "y_val = val[target]"
      ],
      "execution_count": 0,
      "outputs": []
    },
    {
      "cell_type": "code",
      "metadata": {
        "id": "sNy9PQY45q2C",
        "colab_type": "code",
        "colab": {
          "base_uri": "https://localhost:8080/",
          "height": 34
        },
        "outputId": "dad9fee1-291b-448c-edde-6ac50489223c"
      },
      "source": [
        "pipeline = make_pipeline(\n",
        "    ce.ordinal.OrdinalEncoder(),\n",
        "    DecisionTreeClassifier(max_depth=3)\n",
        ")\n",
        "\n",
        "pipeline.fit(X_train, y_train)\n",
        "print(f'val score (acc): {pipeline.score(X_val, y_val)}')"
      ],
      "execution_count": 186,
      "outputs": [
        {
          "output_type": "stream",
          "text": [
            "val score (acc): 0.8\n"
          ],
          "name": "stdout"
        }
      ]
    },
    {
      "cell_type": "code",
      "metadata": {
        "id": "h-vdR0cW6Ry4",
        "colab_type": "code",
        "colab": {
          "base_uri": "https://localhost:8080/",
          "height": 518
        },
        "outputId": "66888e0a-9f53-4496-e41c-2b5aa6f3e47a"
      },
      "source": [
        "#plot decision tree\n",
        "import graphviz\n",
        "from sklearn.tree import export_graphviz\n",
        "\n",
        "model = pipeline.named_steps['decisiontreeclassifier']\n",
        "\n",
        "dot_data = export_graphviz(model,\n",
        "                           out_file=None,\n",
        "                           feature_names=X_train.columns,\n",
        "                           class_names=y_train.unique().astype(str),\n",
        "                           filled=True,\n",
        "                           impurity=False,\n",
        "                           proportion=True)\n",
        "\n",
        "graphviz.Source(dot_data)"
      ],
      "execution_count": 187,
      "outputs": [
        {
          "output_type": "execute_result",
          "data": {
            "text/plain": [
              "<graphviz.files.Source at 0x7f265721ed30>"
            ],
            "image/svg+xml": "<?xml version=\"1.0\" encoding=\"UTF-8\" standalone=\"no\"?>\n<!DOCTYPE svg PUBLIC \"-//W3C//DTD SVG 1.1//EN\"\n \"http://www.w3.org/Graphics/SVG/1.1/DTD/svg11.dtd\">\n<!-- Generated by graphviz version 2.40.1 (20161225.0304)\n -->\n<!-- Title: Tree Pages: 1 -->\n<svg width=\"1220pt\" height=\"373pt\"\n viewBox=\"0.00 0.00 1219.50 373.00\" xmlns=\"http://www.w3.org/2000/svg\" xmlns:xlink=\"http://www.w3.org/1999/xlink\">\n<g id=\"graph0\" class=\"graph\" transform=\"scale(1 1) rotate(0) translate(4 369)\">\n<title>Tree</title>\n<polygon fill=\"#ffffff\" stroke=\"transparent\" points=\"-4,4 -4,-369 1215.5,-369 1215.5,4 -4,4\"/>\n<!-- 0 -->\n<g id=\"node1\" class=\"node\">\n<title>0</title>\n<polygon fill=\"#f7d7c1\" stroke=\"#000000\" points=\"649,-365 502,-365 502,-297 649,-297 649,-365\"/>\n<text text-anchor=\"middle\" x=\"575.5\" y=\"-349.8\" font-family=\"Times,serif\" font-size=\"14.00\" fill=\"#000000\">Fillings &lt;= 4.5</text>\n<text text-anchor=\"middle\" x=\"575.5\" y=\"-334.8\" font-family=\"Times,serif\" font-size=\"14.00\" fill=\"#000000\">samples = 100.0%</text>\n<text text-anchor=\"middle\" x=\"575.5\" y=\"-319.8\" font-family=\"Times,serif\" font-size=\"14.00\" fill=\"#000000\">value = [0.593, 0.407]</text>\n<text text-anchor=\"middle\" x=\"575.5\" y=\"-304.8\" font-family=\"Times,serif\" font-size=\"14.00\" fill=\"#000000\">class = False</text>\n</g>\n<!-- 1 -->\n<g id=\"node2\" class=\"node\">\n<title>1</title>\n<polygon fill=\"#ea9a61\" stroke=\"#000000\" points=\"514,-261 367,-261 367,-193 514,-193 514,-261\"/>\n<text text-anchor=\"middle\" x=\"440.5\" y=\"-245.8\" font-family=\"Times,serif\" font-size=\"14.00\" fill=\"#000000\">Synergy &lt;= 1.5</text>\n<text text-anchor=\"middle\" x=\"440.5\" y=\"-230.8\" font-family=\"Times,serif\" font-size=\"14.00\" fill=\"#000000\">samples = 50.0%</text>\n<text text-anchor=\"middle\" x=\"440.5\" y=\"-215.8\" font-family=\"Times,serif\" font-size=\"14.00\" fill=\"#000000\">value = [0.833, 0.167]</text>\n<text text-anchor=\"middle\" x=\"440.5\" y=\"-200.8\" font-family=\"Times,serif\" font-size=\"14.00\" fill=\"#000000\">class = False</text>\n</g>\n<!-- 0&#45;&gt;1 -->\n<g id=\"edge1\" class=\"edge\">\n<title>0&#45;&gt;1</title>\n<path fill=\"none\" stroke=\"#000000\" d=\"M531.296,-296.9465C519.0584,-287.519 505.6564,-277.1946 492.9962,-267.4415\"/>\n<polygon fill=\"#000000\" stroke=\"#000000\" points=\"494.8612,-264.4601 484.8034,-261.13 490.5893,-270.0055 494.8612,-264.4601\"/>\n<text text-anchor=\"middle\" x=\"488.0191\" y=\"-282.2223\" font-family=\"Times,serif\" font-size=\"14.00\" fill=\"#000000\">True</text>\n</g>\n<!-- 8 -->\n<g id=\"node9\" class=\"node\">\n<title>8</title>\n<polygon fill=\"#a5d3f3\" stroke=\"#000000\" points=\"807,-261 660,-261 660,-193 807,-193 807,-261\"/>\n<text text-anchor=\"middle\" x=\"733.5\" y=\"-245.8\" font-family=\"Times,serif\" font-size=\"14.00\" fill=\"#000000\">Meat &lt;= 3.5</text>\n<text text-anchor=\"middle\" x=\"733.5\" y=\"-230.8\" font-family=\"Times,serif\" font-size=\"14.00\" fill=\"#000000\">samples = 50.0%</text>\n<text text-anchor=\"middle\" x=\"733.5\" y=\"-215.8\" font-family=\"Times,serif\" font-size=\"14.00\" fill=\"#000000\">value = [0.353, 0.647]</text>\n<text text-anchor=\"middle\" x=\"733.5\" y=\"-200.8\" font-family=\"Times,serif\" font-size=\"14.00\" fill=\"#000000\">class = True</text>\n</g>\n<!-- 0&#45;&gt;8 -->\n<g id=\"edge8\" class=\"edge\">\n<title>0&#45;&gt;8</title>\n<path fill=\"none\" stroke=\"#000000\" d=\"M627.2351,-296.9465C641.8304,-287.3395 657.8409,-276.8009 672.9058,-266.8848\"/>\n<polygon fill=\"#000000\" stroke=\"#000000\" points=\"675.2201,-269.5517 681.6487,-261.13 671.3714,-263.7046 675.2201,-269.5517\"/>\n<text text-anchor=\"middle\" x=\"676.6021\" y=\"-281.9153\" font-family=\"Times,serif\" font-size=\"14.00\" fill=\"#000000\">False</text>\n</g>\n<!-- 2 -->\n<g id=\"node3\" class=\"node\">\n<title>2</title>\n<polygon fill=\"#fcf0e8\" stroke=\"#000000\" points=\"297,-157 150,-157 150,-89 297,-89 297,-157\"/>\n<text text-anchor=\"middle\" x=\"223.5\" y=\"-141.8\" font-family=\"Times,serif\" font-size=\"14.00\" fill=\"#000000\">overall &lt;= 10.0</text>\n<text text-anchor=\"middle\" x=\"223.5\" y=\"-126.8\" font-family=\"Times,serif\" font-size=\"14.00\" fill=\"#000000\">samples = 10.7%</text>\n<text text-anchor=\"middle\" x=\"223.5\" y=\"-111.8\" font-family=\"Times,serif\" font-size=\"14.00\" fill=\"#000000\">value = [0.531, 0.469]</text>\n<text text-anchor=\"middle\" x=\"223.5\" y=\"-96.8\" font-family=\"Times,serif\" font-size=\"14.00\" fill=\"#000000\">class = False</text>\n</g>\n<!-- 1&#45;&gt;2 -->\n<g id=\"edge2\" class=\"edge\">\n<title>1&#45;&gt;2</title>\n<path fill=\"none\" stroke=\"#000000\" d=\"M369.4461,-192.9465C348.4639,-182.8906 325.3523,-171.814 303.8295,-161.4989\"/>\n<polygon fill=\"#000000\" stroke=\"#000000\" points=\"305.2441,-158.2957 294.7135,-157.13 302.2187,-164.6082 305.2441,-158.2957\"/>\n</g>\n<!-- 5 -->\n<g id=\"node6\" class=\"node\">\n<title>5</title>\n<polygon fill=\"#e78d4b\" stroke=\"#000000\" points=\"514,-157 367,-157 367,-89 514,-89 514,-157\"/>\n<text text-anchor=\"middle\" x=\"440.5\" y=\"-141.8\" font-family=\"Times,serif\" font-size=\"14.00\" fill=\"#000000\">Temp &lt;= 14.5</text>\n<text text-anchor=\"middle\" x=\"440.5\" y=\"-126.8\" font-family=\"Times,serif\" font-size=\"14.00\" fill=\"#000000\">samples = 39.3%</text>\n<text text-anchor=\"middle\" x=\"440.5\" y=\"-111.8\" font-family=\"Times,serif\" font-size=\"14.00\" fill=\"#000000\">value = [0.915, 0.085]</text>\n<text text-anchor=\"middle\" x=\"440.5\" y=\"-96.8\" font-family=\"Times,serif\" font-size=\"14.00\" fill=\"#000000\">class = False</text>\n</g>\n<!-- 1&#45;&gt;5 -->\n<g id=\"edge5\" class=\"edge\">\n<title>1&#45;&gt;5</title>\n<path fill=\"none\" stroke=\"#000000\" d=\"M440.5,-192.9465C440.5,-184.776 440.5,-175.9318 440.5,-167.3697\"/>\n<polygon fill=\"#000000\" stroke=\"#000000\" points=\"444.0001,-167.13 440.5,-157.13 437.0001,-167.13 444.0001,-167.13\"/>\n</g>\n<!-- 3 -->\n<g id=\"node4\" class=\"node\">\n<title>3</title>\n<polygon fill=\"#e78c4b\" stroke=\"#000000\" points=\"147,-53 0,-53 0,0 147,0 147,-53\"/>\n<text text-anchor=\"middle\" x=\"73.5\" y=\"-37.8\" font-family=\"Times,serif\" font-size=\"14.00\" fill=\"#000000\">samples = 4.0%</text>\n<text text-anchor=\"middle\" x=\"73.5\" y=\"-22.8\" font-family=\"Times,serif\" font-size=\"14.00\" fill=\"#000000\">value = [0.917, 0.083]</text>\n<text text-anchor=\"middle\" x=\"73.5\" y=\"-7.8\" font-family=\"Times,serif\" font-size=\"14.00\" fill=\"#000000\">class = False</text>\n</g>\n<!-- 2&#45;&gt;3 -->\n<g id=\"edge3\" class=\"edge\">\n<title>2&#45;&gt;3</title>\n<path fill=\"none\" stroke=\"#000000\" d=\"M170.6156,-88.9777C155.3856,-79.1798 138.8194,-68.5222 123.7536,-58.8298\"/>\n<polygon fill=\"#000000\" stroke=\"#000000\" points=\"125.3816,-55.7154 115.0779,-53.2485 121.5943,-61.6024 125.3816,-55.7154\"/>\n</g>\n<!-- 4 -->\n<g id=\"node5\" class=\"node\">\n<title>4</title>\n<polygon fill=\"#8ec7f0\" stroke=\"#000000\" points=\"282,-53 165,-53 165,0 282,0 282,-53\"/>\n<text text-anchor=\"middle\" x=\"223.5\" y=\"-37.8\" font-family=\"Times,serif\" font-size=\"14.00\" fill=\"#000000\">samples = 6.7%</text>\n<text text-anchor=\"middle\" x=\"223.5\" y=\"-22.8\" font-family=\"Times,serif\" font-size=\"14.00\" fill=\"#000000\">value = [0.3, 0.7]</text>\n<text text-anchor=\"middle\" x=\"223.5\" y=\"-7.8\" font-family=\"Times,serif\" font-size=\"14.00\" fill=\"#000000\">class = True</text>\n</g>\n<!-- 2&#45;&gt;4 -->\n<g id=\"edge4\" class=\"edge\">\n<title>2&#45;&gt;4</title>\n<path fill=\"none\" stroke=\"#000000\" d=\"M223.5,-88.9777C223.5,-80.7364 223.5,-71.887 223.5,-63.5153\"/>\n<polygon fill=\"#000000\" stroke=\"#000000\" points=\"227.0001,-63.2484 223.5,-53.2485 220.0001,-63.2485 227.0001,-63.2484\"/>\n</g>\n<!-- 6 -->\n<g id=\"node7\" class=\"node\">\n<title>6</title>\n<polygon fill=\"#e78a48\" stroke=\"#000000\" points=\"447,-53 300,-53 300,0 447,0 447,-53\"/>\n<text text-anchor=\"middle\" x=\"373.5\" y=\"-37.8\" font-family=\"Times,serif\" font-size=\"14.00\" fill=\"#000000\">samples = 38.7%</text>\n<text text-anchor=\"middle\" x=\"373.5\" y=\"-22.8\" font-family=\"Times,serif\" font-size=\"14.00\" fill=\"#000000\">value = [0.931, 0.069]</text>\n<text text-anchor=\"middle\" x=\"373.5\" y=\"-7.8\" font-family=\"Times,serif\" font-size=\"14.00\" fill=\"#000000\">class = False</text>\n</g>\n<!-- 5&#45;&gt;6 -->\n<g id=\"edge6\" class=\"edge\">\n<title>5&#45;&gt;6</title>\n<path fill=\"none\" stroke=\"#000000\" d=\"M416.8783,-88.9777C410.7113,-80.0954 404.0539,-70.5067 397.8499,-61.5711\"/>\n<polygon fill=\"#000000\" stroke=\"#000000\" points=\"400.6497,-59.4666 392.0715,-53.2485 394.8997,-63.4589 400.6497,-59.4666\"/>\n</g>\n<!-- 7 -->\n<g id=\"node8\" class=\"node\">\n<title>7</title>\n<polygon fill=\"#399de5\" stroke=\"#000000\" points=\"582,-53 465,-53 465,0 582,0 582,-53\"/>\n<text text-anchor=\"middle\" x=\"523.5\" y=\"-37.8\" font-family=\"Times,serif\" font-size=\"14.00\" fill=\"#000000\">samples = 0.7%</text>\n<text text-anchor=\"middle\" x=\"523.5\" y=\"-22.8\" font-family=\"Times,serif\" font-size=\"14.00\" fill=\"#000000\">value = [0.0, 1.0]</text>\n<text text-anchor=\"middle\" x=\"523.5\" y=\"-7.8\" font-family=\"Times,serif\" font-size=\"14.00\" fill=\"#000000\">class = True</text>\n</g>\n<!-- 5&#45;&gt;7 -->\n<g id=\"edge7\" class=\"edge\">\n<title>5&#45;&gt;7</title>\n<path fill=\"none\" stroke=\"#000000\" d=\"M469.7627,-88.9777C477.5599,-79.9123 485.99,-70.111 493.8099,-61.0192\"/>\n<polygon fill=\"#000000\" stroke=\"#000000\" points=\"496.6262,-63.1123 500.4935,-53.2485 491.3191,-58.5477 496.6262,-63.1123\"/>\n</g>\n<!-- 9 -->\n<g id=\"node10\" class=\"node\">\n<title>9</title>\n<polygon fill=\"#f0b68c\" stroke=\"#000000\" points=\"807,-157 660,-157 660,-89 807,-89 807,-157\"/>\n<text text-anchor=\"middle\" x=\"733.5\" y=\"-141.8\" font-family=\"Times,serif\" font-size=\"14.00\" fill=\"#000000\">overall &lt;= 10.5</text>\n<text text-anchor=\"middle\" x=\"733.5\" y=\"-126.8\" font-family=\"Times,serif\" font-size=\"14.00\" fill=\"#000000\">samples = 14.7%</text>\n<text text-anchor=\"middle\" x=\"733.5\" y=\"-111.8\" font-family=\"Times,serif\" font-size=\"14.00\" fill=\"#000000\">value = [0.705, 0.295]</text>\n<text text-anchor=\"middle\" x=\"733.5\" y=\"-96.8\" font-family=\"Times,serif\" font-size=\"14.00\" fill=\"#000000\">class = False</text>\n</g>\n<!-- 8&#45;&gt;9 -->\n<g id=\"edge9\" class=\"edge\">\n<title>8&#45;&gt;9</title>\n<path fill=\"none\" stroke=\"#000000\" d=\"M733.5,-192.9465C733.5,-184.776 733.5,-175.9318 733.5,-167.3697\"/>\n<polygon fill=\"#000000\" stroke=\"#000000\" points=\"737.0001,-167.13 733.5,-157.13 730.0001,-167.13 737.0001,-167.13\"/>\n</g>\n<!-- 12 -->\n<g id=\"node13\" class=\"node\">\n<title>12</title>\n<polygon fill=\"#6db7ec\" stroke=\"#000000\" points=\"1047,-157 900,-157 900,-89 1047,-89 1047,-157\"/>\n<text text-anchor=\"middle\" x=\"973.5\" y=\"-141.8\" font-family=\"Times,serif\" font-size=\"14.00\" fill=\"#000000\">Meat &lt;= 7.5</text>\n<text text-anchor=\"middle\" x=\"973.5\" y=\"-126.8\" font-family=\"Times,serif\" font-size=\"14.00\" fill=\"#000000\">samples = 35.3%</text>\n<text text-anchor=\"middle\" x=\"973.5\" y=\"-111.8\" font-family=\"Times,serif\" font-size=\"14.00\" fill=\"#000000\">value = [0.208, 0.792]</text>\n<text text-anchor=\"middle\" x=\"973.5\" y=\"-96.8\" font-family=\"Times,serif\" font-size=\"14.00\" fill=\"#000000\">class = True</text>\n</g>\n<!-- 8&#45;&gt;12 -->\n<g id=\"edge12\" class=\"edge\">\n<title>8&#45;&gt;12</title>\n<path fill=\"none\" stroke=\"#000000\" d=\"M807.1389,-195.0898C833.393,-183.713 863.1456,-170.8202 890.1571,-159.1152\"/>\n<polygon fill=\"#000000\" stroke=\"#000000\" points=\"891.8029,-162.2166 899.5868,-155.029 889.0196,-155.7937 891.8029,-162.2166\"/>\n</g>\n<!-- 10 -->\n<g id=\"node11\" class=\"node\">\n<title>10</title>\n<polygon fill=\"#e58139\" stroke=\"#000000\" points=\"717,-53 600,-53 600,0 717,0 717,-53\"/>\n<text text-anchor=\"middle\" x=\"658.5\" y=\"-37.8\" font-family=\"Times,serif\" font-size=\"14.00\" fill=\"#000000\">samples = 6.7%</text>\n<text text-anchor=\"middle\" x=\"658.5\" y=\"-22.8\" font-family=\"Times,serif\" font-size=\"14.00\" fill=\"#000000\">value = [1.0, 0.0]</text>\n<text text-anchor=\"middle\" x=\"658.5\" y=\"-7.8\" font-family=\"Times,serif\" font-size=\"14.00\" fill=\"#000000\">class = False</text>\n</g>\n<!-- 9&#45;&gt;10 -->\n<g id=\"edge10\" class=\"edge\">\n<title>9&#45;&gt;10</title>\n<path fill=\"none\" stroke=\"#000000\" d=\"M707.0578,-88.9777C700.0833,-80.0039 692.5484,-70.3089 685.5427,-61.295\"/>\n<polygon fill=\"#000000\" stroke=\"#000000\" points=\"688.1891,-58.9964 679.289,-53.2485 682.6621,-63.292 688.1891,-58.9964\"/>\n</g>\n<!-- 11 -->\n<g id=\"node12\" class=\"node\">\n<title>11</title>\n<polygon fill=\"#e1f0fb\" stroke=\"#000000\" points=\"882,-53 735,-53 735,0 882,0 882,-53\"/>\n<text text-anchor=\"middle\" x=\"808.5\" y=\"-37.8\" font-family=\"Times,serif\" font-size=\"14.00\" fill=\"#000000\">samples = 8.0%</text>\n<text text-anchor=\"middle\" x=\"808.5\" y=\"-22.8\" font-family=\"Times,serif\" font-size=\"14.00\" fill=\"#000000\">value = [0.458, 0.542]</text>\n<text text-anchor=\"middle\" x=\"808.5\" y=\"-7.8\" font-family=\"Times,serif\" font-size=\"14.00\" fill=\"#000000\">class = True</text>\n</g>\n<!-- 9&#45;&gt;11 -->\n<g id=\"edge11\" class=\"edge\">\n<title>9&#45;&gt;11</title>\n<path fill=\"none\" stroke=\"#000000\" d=\"M759.9422,-88.9777C766.9167,-80.0039 774.4516,-70.3089 781.4573,-61.295\"/>\n<polygon fill=\"#000000\" stroke=\"#000000\" points=\"784.3379,-63.292 787.711,-53.2485 778.8109,-58.9964 784.3379,-63.292\"/>\n</g>\n<!-- 13 -->\n<g id=\"node14\" class=\"node\">\n<title>13</title>\n<polygon fill=\"#55abe9\" stroke=\"#000000\" points=\"1047,-53 900,-53 900,0 1047,0 1047,-53\"/>\n<text text-anchor=\"middle\" x=\"973.5\" y=\"-37.8\" font-family=\"Times,serif\" font-size=\"14.00\" fill=\"#000000\">samples = 29.3%</text>\n<text text-anchor=\"middle\" x=\"973.5\" y=\"-22.8\" font-family=\"Times,serif\" font-size=\"14.00\" fill=\"#000000\">value = [0.125, 0.875]</text>\n<text text-anchor=\"middle\" x=\"973.5\" y=\"-7.8\" font-family=\"Times,serif\" font-size=\"14.00\" fill=\"#000000\">class = True</text>\n</g>\n<!-- 12&#45;&gt;13 -->\n<g id=\"edge13\" class=\"edge\">\n<title>12&#45;&gt;13</title>\n<path fill=\"none\" stroke=\"#000000\" d=\"M973.5,-88.9777C973.5,-80.7364 973.5,-71.887 973.5,-63.5153\"/>\n<polygon fill=\"#000000\" stroke=\"#000000\" points=\"977.0001,-63.2484 973.5,-53.2485 970.0001,-63.2485 977.0001,-63.2484\"/>\n</g>\n<!-- 14 -->\n<g id=\"node15\" class=\"node\">\n<title>14</title>\n<polygon fill=\"#f6d1b7\" stroke=\"#000000\" points=\"1211.5,-53 1065.5,-53 1065.5,0 1211.5,0 1211.5,-53\"/>\n<text text-anchor=\"middle\" x=\"1138.5\" y=\"-37.8\" font-family=\"Times,serif\" font-size=\"14.00\" fill=\"#000000\">samples = 6.0%</text>\n<text text-anchor=\"middle\" x=\"1138.5\" y=\"-22.8\" font-family=\"Times,serif\" font-size=\"14.00\" fill=\"#000000\">value = [0.611, 0.389]</text>\n<text text-anchor=\"middle\" x=\"1138.5\" y=\"-7.8\" font-family=\"Times,serif\" font-size=\"14.00\" fill=\"#000000\">class = False</text>\n</g>\n<!-- 12&#45;&gt;14 -->\n<g id=\"edge14\" class=\"edge\">\n<title>12&#45;&gt;14</title>\n<path fill=\"none\" stroke=\"#000000\" d=\"M1031.6728,-88.9777C1048.818,-78.9504 1067.5025,-68.0228 1084.382,-58.1508\"/>\n<polygon fill=\"#000000\" stroke=\"#000000\" points=\"1086.1615,-61.1648 1093.0266,-53.095 1082.6276,-55.1223 1086.1615,-61.1648\"/>\n</g>\n</g>\n</svg>\n"
          },
          "metadata": {
            "tags": []
          },
          "execution_count": 187
        }
      ]
    },
    {
      "cell_type": "markdown",
      "metadata": {
        "id": "tao2CPx6pDZu",
        "colab_type": "text"
      },
      "source": [
        "Drop the column with “leakage”."
      ]
    },
    {
      "cell_type": "code",
      "metadata": {
        "id": "JJcnhUSjpDZw",
        "colab_type": "code",
        "colab": {}
      },
      "source": [
        "target = \"Great\"\n",
        "features = train.columns.drop([target, 'Date', 'overall'])\n",
        "features\n",
        "\n",
        "X_train = train[features]\n",
        "y_train = train[target]\n",
        "X_val = val[features]\n",
        "y_val = val[target]"
      ],
      "execution_count": 0,
      "outputs": []
    },
    {
      "cell_type": "code",
      "metadata": {
        "id": "SsUtCfdvcmYI",
        "colab_type": "code",
        "colab": {
          "base_uri": "https://localhost:8080/",
          "height": 34
        },
        "outputId": "48504918-765f-46ee-c587-1c33bcf641a7"
      },
      "source": [
        "pipeline = make_pipeline(\n",
        "    ce.ordinal.OrdinalEncoder(),\n",
        "    DecisionTreeClassifier(max_depth=3)\n",
        ")\n",
        "\n",
        "pipeline.fit(X_train, y_train)\n",
        "print(f'val score (acc): {pipeline.score(X_val, y_val)}')"
      ],
      "execution_count": 195,
      "outputs": [
        {
          "output_type": "stream",
          "text": [
            "val score (acc): 0.8\n"
          ],
          "name": "stdout"
        }
      ]
    },
    {
      "cell_type": "code",
      "metadata": {
        "id": "UeMAprRy7Skv",
        "colab_type": "code",
        "colab": {
          "base_uri": "https://localhost:8080/",
          "height": 538
        },
        "outputId": "1361b47c-4c60-49bb-9127-7ff01ff4a49e"
      },
      "source": [
        "#plot decision tree\n",
        "import graphviz\n",
        "from sklearn.tree import export_graphviz\n",
        "\n",
        "tree = pipeline.named_steps['decisiontreeclassifier']\n",
        "\n",
        "dot_data = export_graphviz(tree,\n",
        "                           out_file=None,\n",
        "                           feature_names=X_train.columns,\n",
        "                           class_names=y_train.unique().astype(str),\n",
        "                           filled=True,\n",
        "                           impurity=False,\n",
        "                           proportion=True)\n",
        "\n",
        "graphviz.Source(dot_data)"
      ],
      "execution_count": 196,
      "outputs": [
        {
          "output_type": "execute_result",
          "data": {
            "text/plain": [
              "<graphviz.files.Source at 0x7f264c217a58>"
            ],
            "image/svg+xml": "<?xml version=\"1.0\" encoding=\"UTF-8\" standalone=\"no\"?>\n<!DOCTYPE svg PUBLIC \"-//W3C//DTD SVG 1.1//EN\"\n \"http://www.w3.org/Graphics/SVG/1.1/DTD/svg11.dtd\">\n<!-- Generated by graphviz version 2.40.1 (20161225.0304)\n -->\n<!-- Title: Tree Pages: 1 -->\n<svg width=\"1280pt\" height=\"373pt\"\n viewBox=\"0.00 0.00 1279.50 373.00\" xmlns=\"http://www.w3.org/2000/svg\" xmlns:xlink=\"http://www.w3.org/1999/xlink\">\n<g id=\"graph0\" class=\"graph\" transform=\"scale(1 1) rotate(0) translate(4 369)\">\n<title>Tree</title>\n<polygon fill=\"#ffffff\" stroke=\"transparent\" points=\"-4,4 -4,-369 1275.5,-369 1275.5,4 -4,4\"/>\n<!-- 0 -->\n<g id=\"node1\" class=\"node\">\n<title>0</title>\n<polygon fill=\"#f7d7c1\" stroke=\"#000000\" points=\"694,-365 547,-365 547,-297 694,-297 694,-365\"/>\n<text text-anchor=\"middle\" x=\"620.5\" y=\"-349.8\" font-family=\"Times,serif\" font-size=\"14.00\" fill=\"#000000\">Fillings &lt;= 4.5</text>\n<text text-anchor=\"middle\" x=\"620.5\" y=\"-334.8\" font-family=\"Times,serif\" font-size=\"14.00\" fill=\"#000000\">samples = 100.0%</text>\n<text text-anchor=\"middle\" x=\"620.5\" y=\"-319.8\" font-family=\"Times,serif\" font-size=\"14.00\" fill=\"#000000\">value = [0.593, 0.407]</text>\n<text text-anchor=\"middle\" x=\"620.5\" y=\"-304.8\" font-family=\"Times,serif\" font-size=\"14.00\" fill=\"#000000\">class = False</text>\n</g>\n<!-- 1 -->\n<g id=\"node2\" class=\"node\">\n<title>1</title>\n<polygon fill=\"#ea9a61\" stroke=\"#000000\" points=\"544,-261 397,-261 397,-193 544,-193 544,-261\"/>\n<text text-anchor=\"middle\" x=\"470.5\" y=\"-245.8\" font-family=\"Times,serif\" font-size=\"14.00\" fill=\"#000000\">Synergy &lt;= 1.5</text>\n<text text-anchor=\"middle\" x=\"470.5\" y=\"-230.8\" font-family=\"Times,serif\" font-size=\"14.00\" fill=\"#000000\">samples = 50.0%</text>\n<text text-anchor=\"middle\" x=\"470.5\" y=\"-215.8\" font-family=\"Times,serif\" font-size=\"14.00\" fill=\"#000000\">value = [0.833, 0.167]</text>\n<text text-anchor=\"middle\" x=\"470.5\" y=\"-200.8\" font-family=\"Times,serif\" font-size=\"14.00\" fill=\"#000000\">class = False</text>\n</g>\n<!-- 0&#45;&gt;1 -->\n<g id=\"edge1\" class=\"edge\">\n<title>0&#45;&gt;1</title>\n<path fill=\"none\" stroke=\"#000000\" d=\"M571.3844,-296.9465C557.5281,-287.3395 542.3283,-276.8009 528.0261,-266.8848\"/>\n<polygon fill=\"#000000\" stroke=\"#000000\" points=\"529.9382,-263.9515 519.726,-261.13 525.9497,-269.7041 529.9382,-263.9515\"/>\n<text text-anchor=\"middle\" x=\"524.181\" y=\"-282.0298\" font-family=\"Times,serif\" font-size=\"14.00\" fill=\"#000000\">True</text>\n</g>\n<!-- 8 -->\n<g id=\"node9\" class=\"node\">\n<title>8</title>\n<polygon fill=\"#a5d3f3\" stroke=\"#000000\" points=\"859,-261 712,-261 712,-193 859,-193 859,-261\"/>\n<text text-anchor=\"middle\" x=\"785.5\" y=\"-245.8\" font-family=\"Times,serif\" font-size=\"14.00\" fill=\"#000000\">Meat &lt;= 3.5</text>\n<text text-anchor=\"middle\" x=\"785.5\" y=\"-230.8\" font-family=\"Times,serif\" font-size=\"14.00\" fill=\"#000000\">samples = 50.0%</text>\n<text text-anchor=\"middle\" x=\"785.5\" y=\"-215.8\" font-family=\"Times,serif\" font-size=\"14.00\" fill=\"#000000\">value = [0.353, 0.647]</text>\n<text text-anchor=\"middle\" x=\"785.5\" y=\"-200.8\" font-family=\"Times,serif\" font-size=\"14.00\" fill=\"#000000\">class = True</text>\n</g>\n<!-- 0&#45;&gt;8 -->\n<g id=\"edge8\" class=\"edge\">\n<title>0&#45;&gt;8</title>\n<path fill=\"none\" stroke=\"#000000\" d=\"M674.5272,-296.9465C689.9115,-287.2497 706.8016,-276.6039 722.6621,-266.6069\"/>\n<polygon fill=\"#000000\" stroke=\"#000000\" points=\"724.758,-269.4232 731.3514,-261.13 721.0254,-263.5013 724.758,-269.4232\"/>\n<text text-anchor=\"middle\" x=\"725.8227\" y=\"-281.811\" font-family=\"Times,serif\" font-size=\"14.00\" fill=\"#000000\">False</text>\n</g>\n<!-- 2 -->\n<g id=\"node3\" class=\"node\">\n<title>2</title>\n<polygon fill=\"#fcf0e8\" stroke=\"#000000\" points=\"312,-157 165,-157 165,-89 312,-89 312,-157\"/>\n<text text-anchor=\"middle\" x=\"238.5\" y=\"-141.8\" font-family=\"Times,serif\" font-size=\"14.00\" fill=\"#000000\">Tortilla &lt;= 3.9</text>\n<text text-anchor=\"middle\" x=\"238.5\" y=\"-126.8\" font-family=\"Times,serif\" font-size=\"14.00\" fill=\"#000000\">samples = 10.7%</text>\n<text text-anchor=\"middle\" x=\"238.5\" y=\"-111.8\" font-family=\"Times,serif\" font-size=\"14.00\" fill=\"#000000\">value = [0.531, 0.469]</text>\n<text text-anchor=\"middle\" x=\"238.5\" y=\"-96.8\" font-family=\"Times,serif\" font-size=\"14.00\" fill=\"#000000\">class = False</text>\n</g>\n<!-- 1&#45;&gt;2 -->\n<g id=\"edge2\" class=\"edge\">\n<title>1&#45;&gt;2</title>\n<path fill=\"none\" stroke=\"#000000\" d=\"M396.775,-193.9509C372.7741,-183.1919 345.9761,-171.179 321.3533,-160.1411\"/>\n<polygon fill=\"#000000\" stroke=\"#000000\" points=\"322.59,-156.86 312.0332,-155.9632 319.7266,-163.2476 322.59,-156.86\"/>\n</g>\n<!-- 5 -->\n<g id=\"node6\" class=\"node\">\n<title>5</title>\n<polygon fill=\"#e78d4b\" stroke=\"#000000\" points=\"544,-157 397,-157 397,-89 544,-89 544,-157\"/>\n<text text-anchor=\"middle\" x=\"470.5\" y=\"-141.8\" font-family=\"Times,serif\" font-size=\"14.00\" fill=\"#000000\">Temp &lt;= 14.5</text>\n<text text-anchor=\"middle\" x=\"470.5\" y=\"-126.8\" font-family=\"Times,serif\" font-size=\"14.00\" fill=\"#000000\">samples = 39.3%</text>\n<text text-anchor=\"middle\" x=\"470.5\" y=\"-111.8\" font-family=\"Times,serif\" font-size=\"14.00\" fill=\"#000000\">value = [0.915, 0.085]</text>\n<text text-anchor=\"middle\" x=\"470.5\" y=\"-96.8\" font-family=\"Times,serif\" font-size=\"14.00\" fill=\"#000000\">class = False</text>\n</g>\n<!-- 1&#45;&gt;5 -->\n<g id=\"edge5\" class=\"edge\">\n<title>1&#45;&gt;5</title>\n<path fill=\"none\" stroke=\"#000000\" d=\"M470.5,-192.9465C470.5,-184.776 470.5,-175.9318 470.5,-167.3697\"/>\n<polygon fill=\"#000000\" stroke=\"#000000\" points=\"474.0001,-167.13 470.5,-157.13 467.0001,-167.13 474.0001,-167.13\"/>\n</g>\n<!-- 3 -->\n<g id=\"node4\" class=\"node\">\n<title>3</title>\n<polygon fill=\"#efb185\" stroke=\"#000000\" points=\"147,-53 0,-53 0,0 147,0 147,-53\"/>\n<text text-anchor=\"middle\" x=\"73.5\" y=\"-37.8\" font-family=\"Times,serif\" font-size=\"14.00\" fill=\"#000000\">samples = 6.0%</text>\n<text text-anchor=\"middle\" x=\"73.5\" y=\"-22.8\" font-family=\"Times,serif\" font-size=\"14.00\" fill=\"#000000\">value = [0.722, 0.278]</text>\n<text text-anchor=\"middle\" x=\"73.5\" y=\"-7.8\" font-family=\"Times,serif\" font-size=\"14.00\" fill=\"#000000\">class = False</text>\n</g>\n<!-- 2&#45;&gt;3 -->\n<g id=\"edge3\" class=\"edge\">\n<title>2&#45;&gt;3</title>\n<path fill=\"none\" stroke=\"#000000\" d=\"M180.3272,-88.9777C163.182,-78.9504 144.4975,-68.0228 127.618,-58.1508\"/>\n<polygon fill=\"#000000\" stroke=\"#000000\" points=\"129.3724,-55.1223 118.9734,-53.095 125.8385,-61.1648 129.3724,-55.1223\"/>\n</g>\n<!-- 4 -->\n<g id=\"node5\" class=\"node\">\n<title>4</title>\n<polygon fill=\"#88c4ef\" stroke=\"#000000\" points=\"312,-53 165,-53 165,0 312,0 312,-53\"/>\n<text text-anchor=\"middle\" x=\"238.5\" y=\"-37.8\" font-family=\"Times,serif\" font-size=\"14.00\" fill=\"#000000\">samples = 4.7%</text>\n<text text-anchor=\"middle\" x=\"238.5\" y=\"-22.8\" font-family=\"Times,serif\" font-size=\"14.00\" fill=\"#000000\">value = [0.286, 0.714]</text>\n<text text-anchor=\"middle\" x=\"238.5\" y=\"-7.8\" font-family=\"Times,serif\" font-size=\"14.00\" fill=\"#000000\">class = True</text>\n</g>\n<!-- 2&#45;&gt;4 -->\n<g id=\"edge4\" class=\"edge\">\n<title>2&#45;&gt;4</title>\n<path fill=\"none\" stroke=\"#000000\" d=\"M238.5,-88.9777C238.5,-80.7364 238.5,-71.887 238.5,-63.5153\"/>\n<polygon fill=\"#000000\" stroke=\"#000000\" points=\"242.0001,-63.2484 238.5,-53.2485 235.0001,-63.2485 242.0001,-63.2484\"/>\n</g>\n<!-- 6 -->\n<g id=\"node7\" class=\"node\">\n<title>6</title>\n<polygon fill=\"#e78a48\" stroke=\"#000000\" points=\"477,-53 330,-53 330,0 477,0 477,-53\"/>\n<text text-anchor=\"middle\" x=\"403.5\" y=\"-37.8\" font-family=\"Times,serif\" font-size=\"14.00\" fill=\"#000000\">samples = 38.7%</text>\n<text text-anchor=\"middle\" x=\"403.5\" y=\"-22.8\" font-family=\"Times,serif\" font-size=\"14.00\" fill=\"#000000\">value = [0.931, 0.069]</text>\n<text text-anchor=\"middle\" x=\"403.5\" y=\"-7.8\" font-family=\"Times,serif\" font-size=\"14.00\" fill=\"#000000\">class = False</text>\n</g>\n<!-- 5&#45;&gt;6 -->\n<g id=\"edge6\" class=\"edge\">\n<title>5&#45;&gt;6</title>\n<path fill=\"none\" stroke=\"#000000\" d=\"M446.8783,-88.9777C440.7113,-80.0954 434.0539,-70.5067 427.8499,-61.5711\"/>\n<polygon fill=\"#000000\" stroke=\"#000000\" points=\"430.6497,-59.4666 422.0715,-53.2485 424.8997,-63.4589 430.6497,-59.4666\"/>\n</g>\n<!-- 7 -->\n<g id=\"node8\" class=\"node\">\n<title>7</title>\n<polygon fill=\"#399de5\" stroke=\"#000000\" points=\"612,-53 495,-53 495,0 612,0 612,-53\"/>\n<text text-anchor=\"middle\" x=\"553.5\" y=\"-37.8\" font-family=\"Times,serif\" font-size=\"14.00\" fill=\"#000000\">samples = 0.7%</text>\n<text text-anchor=\"middle\" x=\"553.5\" y=\"-22.8\" font-family=\"Times,serif\" font-size=\"14.00\" fill=\"#000000\">value = [0.0, 1.0]</text>\n<text text-anchor=\"middle\" x=\"553.5\" y=\"-7.8\" font-family=\"Times,serif\" font-size=\"14.00\" fill=\"#000000\">class = True</text>\n</g>\n<!-- 5&#45;&gt;7 -->\n<g id=\"edge7\" class=\"edge\">\n<title>5&#45;&gt;7</title>\n<path fill=\"none\" stroke=\"#000000\" d=\"M499.7627,-88.9777C507.5599,-79.9123 515.99,-70.111 523.8099,-61.0192\"/>\n<polygon fill=\"#000000\" stroke=\"#000000\" points=\"526.6262,-63.1123 530.4935,-53.2485 521.3191,-58.5477 526.6262,-63.1123\"/>\n</g>\n<!-- 9 -->\n<g id=\"node10\" class=\"node\">\n<title>9</title>\n<polygon fill=\"#f0b68c\" stroke=\"#000000\" points=\"859,-157 712,-157 712,-89 859,-89 859,-157\"/>\n<text text-anchor=\"middle\" x=\"785.5\" y=\"-141.8\" font-family=\"Times,serif\" font-size=\"14.00\" fill=\"#000000\">Tortilla &lt;= 3.75</text>\n<text text-anchor=\"middle\" x=\"785.5\" y=\"-126.8\" font-family=\"Times,serif\" font-size=\"14.00\" fill=\"#000000\">samples = 14.7%</text>\n<text text-anchor=\"middle\" x=\"785.5\" y=\"-111.8\" font-family=\"Times,serif\" font-size=\"14.00\" fill=\"#000000\">value = [0.705, 0.295]</text>\n<text text-anchor=\"middle\" x=\"785.5\" y=\"-96.8\" font-family=\"Times,serif\" font-size=\"14.00\" fill=\"#000000\">class = False</text>\n</g>\n<!-- 8&#45;&gt;9 -->\n<g id=\"edge9\" class=\"edge\">\n<title>8&#45;&gt;9</title>\n<path fill=\"none\" stroke=\"#000000\" d=\"M785.5,-192.9465C785.5,-184.776 785.5,-175.9318 785.5,-167.3697\"/>\n<polygon fill=\"#000000\" stroke=\"#000000\" points=\"789.0001,-167.13 785.5,-157.13 782.0001,-167.13 789.0001,-167.13\"/>\n</g>\n<!-- 12 -->\n<g id=\"node13\" class=\"node\">\n<title>12</title>\n<polygon fill=\"#6db7ec\" stroke=\"#000000\" points=\"1107,-157 960,-157 960,-89 1107,-89 1107,-157\"/>\n<text text-anchor=\"middle\" x=\"1033.5\" y=\"-141.8\" font-family=\"Times,serif\" font-size=\"14.00\" fill=\"#000000\">Meat &lt;= 7.5</text>\n<text text-anchor=\"middle\" x=\"1033.5\" y=\"-126.8\" font-family=\"Times,serif\" font-size=\"14.00\" fill=\"#000000\">samples = 35.3%</text>\n<text text-anchor=\"middle\" x=\"1033.5\" y=\"-111.8\" font-family=\"Times,serif\" font-size=\"14.00\" fill=\"#000000\">value = [0.208, 0.792]</text>\n<text text-anchor=\"middle\" x=\"1033.5\" y=\"-96.8\" font-family=\"Times,serif\" font-size=\"14.00\" fill=\"#000000\">class = True</text>\n</g>\n<!-- 8&#45;&gt;12 -->\n<g id=\"edge12\" class=\"edge\">\n<title>8&#45;&gt;12</title>\n<path fill=\"none\" stroke=\"#000000\" d=\"M859.2367,-196.0782C887.8386,-184.0838 920.7351,-170.2885 950.1875,-157.9375\"/>\n<polygon fill=\"#000000\" stroke=\"#000000\" points=\"951.7508,-161.0773 959.6192,-153.9823 949.0436,-154.6219 951.7508,-161.0773\"/>\n</g>\n<!-- 10 -->\n<g id=\"node11\" class=\"node\">\n<title>10</title>\n<polygon fill=\"#e89153\" stroke=\"#000000\" points=\"776.5,-53 630.5,-53 630.5,0 776.5,0 776.5,-53\"/>\n<text text-anchor=\"middle\" x=\"703.5\" y=\"-37.8\" font-family=\"Times,serif\" font-size=\"14.00\" fill=\"#000000\">samples = 8.7%</text>\n<text text-anchor=\"middle\" x=\"703.5\" y=\"-22.8\" font-family=\"Times,serif\" font-size=\"14.00\" fill=\"#000000\">value = [0.885, 0.115]</text>\n<text text-anchor=\"middle\" x=\"703.5\" y=\"-7.8\" font-family=\"Times,serif\" font-size=\"14.00\" fill=\"#000000\">class = False</text>\n</g>\n<!-- 9&#45;&gt;10 -->\n<g id=\"edge10\" class=\"edge\">\n<title>9&#45;&gt;10</title>\n<path fill=\"none\" stroke=\"#000000\" d=\"M756.5899,-88.9777C748.8866,-79.9123 740.5581,-70.111 732.8324,-61.0192\"/>\n<polygon fill=\"#000000\" stroke=\"#000000\" points=\"735.3718,-58.6025 726.2293,-53.2485 730.0375,-63.1352 735.3718,-58.6025\"/>\n</g>\n<!-- 11 -->\n<g id=\"node12\" class=\"node\">\n<title>11</title>\n<polygon fill=\"#d7ebfa\" stroke=\"#000000\" points=\"942,-53 795,-53 795,0 942,0 942,-53\"/>\n<text text-anchor=\"middle\" x=\"868.5\" y=\"-37.8\" font-family=\"Times,serif\" font-size=\"14.00\" fill=\"#000000\">samples = 6.0%</text>\n<text text-anchor=\"middle\" x=\"868.5\" y=\"-22.8\" font-family=\"Times,serif\" font-size=\"14.00\" fill=\"#000000\">value = [0.444, 0.556]</text>\n<text text-anchor=\"middle\" x=\"868.5\" y=\"-7.8\" font-family=\"Times,serif\" font-size=\"14.00\" fill=\"#000000\">class = True</text>\n</g>\n<!-- 9&#45;&gt;11 -->\n<g id=\"edge11\" class=\"edge\">\n<title>9&#45;&gt;11</title>\n<path fill=\"none\" stroke=\"#000000\" d=\"M814.7627,-88.9777C822.5599,-79.9123 830.99,-70.111 838.8099,-61.0192\"/>\n<polygon fill=\"#000000\" stroke=\"#000000\" points=\"841.6262,-63.1123 845.4935,-53.2485 836.3191,-58.5477 841.6262,-63.1123\"/>\n</g>\n<!-- 13 -->\n<g id=\"node14\" class=\"node\">\n<title>13</title>\n<polygon fill=\"#55abe9\" stroke=\"#000000\" points=\"1107,-53 960,-53 960,0 1107,0 1107,-53\"/>\n<text text-anchor=\"middle\" x=\"1033.5\" y=\"-37.8\" font-family=\"Times,serif\" font-size=\"14.00\" fill=\"#000000\">samples = 29.3%</text>\n<text text-anchor=\"middle\" x=\"1033.5\" y=\"-22.8\" font-family=\"Times,serif\" font-size=\"14.00\" fill=\"#000000\">value = [0.125, 0.875]</text>\n<text text-anchor=\"middle\" x=\"1033.5\" y=\"-7.8\" font-family=\"Times,serif\" font-size=\"14.00\" fill=\"#000000\">class = True</text>\n</g>\n<!-- 12&#45;&gt;13 -->\n<g id=\"edge13\" class=\"edge\">\n<title>12&#45;&gt;13</title>\n<path fill=\"none\" stroke=\"#000000\" d=\"M1033.5,-88.9777C1033.5,-80.7364 1033.5,-71.887 1033.5,-63.5153\"/>\n<polygon fill=\"#000000\" stroke=\"#000000\" points=\"1037.0001,-63.2484 1033.5,-53.2485 1030.0001,-63.2485 1037.0001,-63.2484\"/>\n</g>\n<!-- 14 -->\n<g id=\"node15\" class=\"node\">\n<title>14</title>\n<polygon fill=\"#f6d1b7\" stroke=\"#000000\" points=\"1271.5,-53 1125.5,-53 1125.5,0 1271.5,0 1271.5,-53\"/>\n<text text-anchor=\"middle\" x=\"1198.5\" y=\"-37.8\" font-family=\"Times,serif\" font-size=\"14.00\" fill=\"#000000\">samples = 6.0%</text>\n<text text-anchor=\"middle\" x=\"1198.5\" y=\"-22.8\" font-family=\"Times,serif\" font-size=\"14.00\" fill=\"#000000\">value = [0.611, 0.389]</text>\n<text text-anchor=\"middle\" x=\"1198.5\" y=\"-7.8\" font-family=\"Times,serif\" font-size=\"14.00\" fill=\"#000000\">class = False</text>\n</g>\n<!-- 12&#45;&gt;14 -->\n<g id=\"edge14\" class=\"edge\">\n<title>12&#45;&gt;14</title>\n<path fill=\"none\" stroke=\"#000000\" d=\"M1091.6728,-88.9777C1108.818,-78.9504 1127.5025,-68.0228 1144.382,-58.1508\"/>\n<polygon fill=\"#000000\" stroke=\"#000000\" points=\"1146.1615,-61.1648 1153.0266,-53.095 1142.6276,-55.1223 1146.1615,-61.1648\"/>\n</g>\n</g>\n</svg>\n"
          },
          "metadata": {
            "tags": []
          },
          "execution_count": 196
        }
      ]
    },
    {
      "cell_type": "markdown",
      "metadata": {
        "id": "Szr3IWvjpDZ3",
        "colab_type": "text"
      },
      "source": [
        "# Choose an appropriate evaluation metric"
      ]
    },
    {
      "cell_type": "markdown",
      "metadata": {
        "id": "V95bApq6pDZ3",
        "colab_type": "text"
      },
      "source": [
        "## Overview"
      ]
    },
    {
      "cell_type": "markdown",
      "metadata": {
        "id": "6F7j74d_pDZ5",
        "colab_type": "text"
      },
      "source": [
        "How will you evaluate success for your predictive model? You must choose an appropriate evaluation metric, depending on the context and constraints of your problem.\n",
        "\n",
        "**Classification & regression metrics are different!**\n",
        "\n",
        "- Don’t use _regression_ metrics to evaluate _classification_ tasks.\n",
        "- Don’t use _classification_ metrics to evaluate _regression_ tasks.\n",
        "\n",
        "[Scikit-learn has lists of popular metrics.](https://scikit-learn.org/stable/modules/model_evaluation.html#common-cases-predefined-values)"
      ]
    },
    {
      "cell_type": "markdown",
      "metadata": {
        "id": "6JEP4GSfpDZ5",
        "colab_type": "text"
      },
      "source": [
        "## Follow Along"
      ]
    },
    {
      "cell_type": "markdown",
      "metadata": {
        "id": "f901C1I0pDZ6",
        "colab_type": "text"
      },
      "source": [
        "For classification problems: \n",
        "\n",
        "As a rough rule of thumb, if your majority class frequency is >= 50% and < 70% then you can just use accuracy if you want. Outside that range, accuracy could be misleading — so what evaluation metric will you choose, in addition to or instead of accuracy? For example:\n",
        "\n",
        "- Precision?\n",
        "- Recall?\n",
        "- ROC AUC?\n"
      ]
    },
    {
      "cell_type": "code",
      "metadata": {
        "id": "XqI1wP5CpDZ7",
        "colab_type": "code",
        "colab": {
          "base_uri": "https://localhost:8080/",
          "height": 34
        },
        "outputId": "1bbebee5-5623-42bf-88cf-54aef0bf3b3d"
      },
      "source": [
        "#receiver operating curve\n",
        "from sklearn.metrics import roc_auc_score\n",
        "y_pred_proba = pipeline.predict_proba(X_val)[:,1]\n",
        "roc_auc_score(y_val, y_pred_proba)"
      ],
      "execution_count": 197,
      "outputs": [
        {
          "output_type": "execute_result",
          "data": {
            "text/plain": [
              "0.8549832026875699"
            ]
          },
          "metadata": {
            "tags": []
          },
          "execution_count": 197
        }
      ]
    },
    {
      "cell_type": "code",
      "metadata": {
        "id": "JWbDkgb2766b",
        "colab_type": "code",
        "colab": {
          "base_uri": "https://localhost:8080/",
          "height": 1000
        },
        "outputId": "2c39fa48-6936-4f7b-9d04-54f494056e6f"
      },
      "source": [
        "pipeline.predict_proba(X_val)"
      ],
      "execution_count": 198,
      "outputs": [
        {
          "output_type": "execute_result",
          "data": {
            "text/plain": [
              "array([[0.93103448, 0.06896552],\n",
              "       [0.61111111, 0.38888889],\n",
              "       [0.93103448, 0.06896552],\n",
              "       [0.93103448, 0.06896552],\n",
              "       [0.93103448, 0.06896552],\n",
              "       [0.72222222, 0.27777778],\n",
              "       [0.125     , 0.875     ],\n",
              "       [0.44444444, 0.55555556],\n",
              "       [0.93103448, 0.06896552],\n",
              "       [0.93103448, 0.06896552],\n",
              "       [0.93103448, 0.06896552],\n",
              "       [0.93103448, 0.06896552],\n",
              "       [0.125     , 0.875     ],\n",
              "       [0.93103448, 0.06896552],\n",
              "       [0.125     , 0.875     ],\n",
              "       [0.88461538, 0.11538462],\n",
              "       [0.28571429, 0.71428571],\n",
              "       [0.88461538, 0.11538462],\n",
              "       [0.125     , 0.875     ],\n",
              "       [0.125     , 0.875     ],\n",
              "       [0.125     , 0.875     ],\n",
              "       [0.72222222, 0.27777778],\n",
              "       [0.93103448, 0.06896552],\n",
              "       [0.125     , 0.875     ],\n",
              "       [0.44444444, 0.55555556],\n",
              "       [0.125     , 0.875     ],\n",
              "       [0.125     , 0.875     ],\n",
              "       [0.93103448, 0.06896552],\n",
              "       [0.125     , 0.875     ],\n",
              "       [0.125     , 0.875     ],\n",
              "       [0.93103448, 0.06896552],\n",
              "       [0.93103448, 0.06896552],\n",
              "       [0.93103448, 0.06896552],\n",
              "       [0.93103448, 0.06896552],\n",
              "       [0.93103448, 0.06896552],\n",
              "       [0.93103448, 0.06896552],\n",
              "       [0.93103448, 0.06896552],\n",
              "       [0.28571429, 0.71428571],\n",
              "       [0.93103448, 0.06896552],\n",
              "       [0.28571429, 0.71428571],\n",
              "       [0.93103448, 0.06896552],\n",
              "       [0.72222222, 0.27777778],\n",
              "       [0.93103448, 0.06896552],\n",
              "       [0.125     , 0.875     ],\n",
              "       [0.28571429, 0.71428571],\n",
              "       [0.28571429, 0.71428571],\n",
              "       [0.88461538, 0.11538462],\n",
              "       [0.93103448, 0.06896552],\n",
              "       [0.125     , 0.875     ],\n",
              "       [0.93103448, 0.06896552],\n",
              "       [0.93103448, 0.06896552],\n",
              "       [0.93103448, 0.06896552],\n",
              "       [0.125     , 0.875     ],\n",
              "       [0.125     , 0.875     ],\n",
              "       [0.72222222, 0.27777778],\n",
              "       [0.93103448, 0.06896552],\n",
              "       [0.93103448, 0.06896552],\n",
              "       [0.93103448, 0.06896552],\n",
              "       [0.93103448, 0.06896552],\n",
              "       [0.93103448, 0.06896552],\n",
              "       [0.93103448, 0.06896552],\n",
              "       [0.93103448, 0.06896552],\n",
              "       [0.93103448, 0.06896552],\n",
              "       [0.93103448, 0.06896552],\n",
              "       [0.44444444, 0.55555556],\n",
              "       [0.61111111, 0.38888889],\n",
              "       [0.93103448, 0.06896552],\n",
              "       [0.125     , 0.875     ],\n",
              "       [0.93103448, 0.06896552],\n",
              "       [0.93103448, 0.06896552],\n",
              "       [0.72222222, 0.27777778],\n",
              "       [0.125     , 0.875     ],\n",
              "       [0.28571429, 0.71428571],\n",
              "       [0.125     , 0.875     ],\n",
              "       [0.93103448, 0.06896552],\n",
              "       [0.93103448, 0.06896552],\n",
              "       [0.93103448, 0.06896552],\n",
              "       [0.125     , 0.875     ],\n",
              "       [0.125     , 0.875     ],\n",
              "       [0.125     , 0.875     ],\n",
              "       [0.72222222, 0.27777778],\n",
              "       [0.125     , 0.875     ],\n",
              "       [0.72222222, 0.27777778],\n",
              "       [0.125     , 0.875     ],\n",
              "       [0.125     , 0.875     ]])"
            ]
          },
          "metadata": {
            "tags": []
          },
          "execution_count": 198
        }
      ]
    },
    {
      "cell_type": "markdown",
      "metadata": {
        "id": "YOLr9Vs0pDZ_",
        "colab_type": "text"
      },
      "source": [
        "### Precision & Recall\n",
        "\n",
        "Let's review Precision & Recall. What do these metrics mean, in scenarios like these?\n",
        "\n",
        "- Predict great burritos\n",
        "- Predict fraudulent transactions\n",
        "- Recommend Spotify songs\n",
        "\n",
        "[Are false positives or false negatives more costly? Can you optimize for dollars?](https://alexgude.com/blog/machine-learning-metrics-interview/)"
      ]
    },
    {
      "cell_type": "markdown",
      "metadata": {
        "id": "qd9n6vhapDZ_",
        "colab_type": "text"
      },
      "source": [
        "### ROC AUC \n",
        "\n",
        "Let's also review ROC AUC (Receiver Operating Characteristic, Area Under the Curve).\n",
        "\n",
        "[Wikipedia explains,](https://en.wikipedia.org/wiki/Receiver_operating_characteristic) \"A receiver operating characteristic curve, or ROC curve, is a graphical plot that illustrates the diagnostic ability of a binary classifier system as its discrimination threshold is varied. **The ROC curve is created by plotting the true positive rate (TPR) against the false positive rate (FPR) at various threshold settings.**\"\n",
        "\n",
        "ROC AUC is the area under the ROC curve. [It can be interpreted](https://stats.stackexchange.com/questions/132777/what-does-auc-stand-for-and-what-is-it) as \"the expectation that a uniformly drawn random positive is ranked before a uniformly drawn random negative.\" \n",
        "\n",
        "ROC AUC measures **how well a classifier ranks predicted probabilities.** So, when you get your classifier’s ROC AUC score, you need to **use predicted probabilities, not discrete predictions.**\n",
        "\n",
        "ROC AUC ranges **from 0 to 1.** Higher is better. A naive majority class **baseline** will have an ROC AUC score of **0.5**, regardless of class (im)balance.\n",
        "\n",
        "#### Scikit-Learn docs\n",
        "- [User Guide: Receiver operating characteristic (ROC)](https://scikit-learn.org/stable/modules/model_evaluation.html#receiver-operating-characteristic-roc)\n",
        "- [sklearn.metrics.roc_curve](https://scikit-learn.org/stable/modules/generated/sklearn.metrics.roc_curve.html)\n",
        "- [sklearn.metrics.roc_auc_score](https://scikit-learn.org/stable/modules/generated/sklearn.metrics.roc_auc_score.html)\n",
        "\n",
        "#### More links\n",
        "- [StatQuest video](https://youtu.be/4jRBRDbJemM)\n",
        "- [Data School article / video](https://www.dataschool.io/roc-curves-and-auc-explained/)\n",
        "- [The philosophical argument for using ROC curves](https://lukeoakdenrayner.wordpress.com/2018/01/07/the-philosophical-argument-for-using-roc-curves/)\n"
      ]
>>>>>>> ac20e91fc4400c17cc0a09c6c6c0520a4bd71acb
    },
    "colab_type": "code",
    "id": "hFE7ARhetXvu",
    "outputId": "7f30b155-c52e-4ef9-8163-f485316387fa"
   },
   "outputs": [
    {
     "data": {
      "text/html": [
       "<div>\n",
       "<style scoped>\n",
       "    .dataframe tbody tr th:only-of-type {\n",
       "        vertical-align: middle;\n",
       "    }\n",
       "\n",
       "    .dataframe tbody tr th {\n",
       "        vertical-align: top;\n",
       "    }\n",
       "\n",
       "    .dataframe thead th {\n",
       "        text-align: right;\n",
       "    }\n",
       "</style>\n",
       "<table border=\"1\" class=\"dataframe\">\n",
       "  <thead>\n",
       "    <tr style=\"text-align: right;\">\n",
       "      <th></th>\n",
       "      <th>Location</th>\n",
       "      <th>Burrito</th>\n",
       "      <th>Date</th>\n",
       "      <th>Neighborhood</th>\n",
       "      <th>Address</th>\n",
       "      <th>URL</th>\n",
       "      <th>Yelp</th>\n",
       "      <th>Google</th>\n",
       "      <th>Chips</th>\n",
       "      <th>Cost</th>\n",
       "      <th>Hunger</th>\n",
       "      <th>Mass (g)</th>\n",
       "      <th>Density (g/mL)</th>\n",
       "      <th>Length</th>\n",
       "      <th>Circum</th>\n",
       "      <th>Volume</th>\n",
       "      <th>Tortilla</th>\n",
       "      <th>Temp</th>\n",
       "      <th>Meat</th>\n",
       "      <th>Fillings</th>\n",
       "      <th>Meat:filling</th>\n",
       "      <th>Uniformity</th>\n",
       "      <th>Salsa</th>\n",
       "      <th>Synergy</th>\n",
       "      <th>Wrap</th>\n",
       "      <th>overall</th>\n",
       "      <th>Rec</th>\n",
       "      <th>Reviewer</th>\n",
       "      <th>Notes</th>\n",
       "      <th>Unreliable</th>\n",
       "      <th>NonSD</th>\n",
       "      <th>Beef</th>\n",
       "      <th>Pico</th>\n",
       "      <th>Guac</th>\n",
       "      <th>Cheese</th>\n",
       "      <th>Fries</th>\n",
       "      <th>Sour cream</th>\n",
       "      <th>Pork</th>\n",
       "      <th>Chicken</th>\n",
       "      <th>Shrimp</th>\n",
       "      <th>Fish</th>\n",
       "      <th>Rice</th>\n",
       "      <th>Beans</th>\n",
       "      <th>Lettuce</th>\n",
       "      <th>Tomato</th>\n",
       "      <th>Bell peper</th>\n",
       "      <th>Carrots</th>\n",
       "      <th>Cabbage</th>\n",
       "      <th>Sauce</th>\n",
       "      <th>Salsa.1</th>\n",
       "      <th>Cilantro</th>\n",
       "      <th>Onion</th>\n",
       "      <th>Taquito</th>\n",
       "      <th>Pineapple</th>\n",
       "      <th>Ham</th>\n",
       "      <th>Chile relleno</th>\n",
       "      <th>Nopales</th>\n",
       "      <th>Lobster</th>\n",
       "      <th>Queso</th>\n",
       "      <th>Egg</th>\n",
       "      <th>Mushroom</th>\n",
       "      <th>Bacon</th>\n",
       "      <th>Sushi</th>\n",
       "      <th>Avocado</th>\n",
       "      <th>Corn</th>\n",
       "      <th>Zucchini</th>\n",
       "    </tr>\n",
       "  </thead>\n",
       "  <tbody>\n",
       "    <tr>\n",
       "      <th>0</th>\n",
       "      <td>Donato's taco shop</td>\n",
       "      <td>California</td>\n",
       "      <td>1/18/2016</td>\n",
       "      <td>Miramar</td>\n",
       "      <td>6780 Miramar Rd</td>\n",
       "      <td>http://donatostacoshop.net/</td>\n",
       "      <td>3.5</td>\n",
       "      <td>4.2</td>\n",
       "      <td>NaN</td>\n",
       "      <td>6.49</td>\n",
       "      <td>3.0</td>\n",
       "      <td>NaN</td>\n",
       "      <td>NaN</td>\n",
       "      <td>NaN</td>\n",
       "      <td>NaN</td>\n",
       "      <td>NaN</td>\n",
       "      <td>3.0</td>\n",
       "      <td>5.0</td>\n",
       "      <td>3.0</td>\n",
       "      <td>3.5</td>\n",
       "      <td>4.0</td>\n",
       "      <td>4.0</td>\n",
       "      <td>4.0</td>\n",
       "      <td>4.0</td>\n",
       "      <td>4.0</td>\n",
       "      <td>3.80</td>\n",
       "      <td>NaN</td>\n",
       "      <td>Scott</td>\n",
       "      <td>good fries: 4/5</td>\n",
       "      <td>NaN</td>\n",
       "      <td>NaN</td>\n",
       "      <td>x</td>\n",
       "      <td>x</td>\n",
       "      <td>x</td>\n",
       "      <td>x</td>\n",
       "      <td>x</td>\n",
       "      <td>NaN</td>\n",
       "      <td>NaN</td>\n",
       "      <td>NaN</td>\n",
       "      <td>NaN</td>\n",
       "      <td>NaN</td>\n",
       "      <td>NaN</td>\n",
       "      <td>NaN</td>\n",
       "      <td>NaN</td>\n",
       "      <td>NaN</td>\n",
       "      <td>NaN</td>\n",
       "      <td>NaN</td>\n",
       "      <td>NaN</td>\n",
       "      <td>NaN</td>\n",
       "      <td>NaN</td>\n",
       "      <td>NaN</td>\n",
       "      <td>NaN</td>\n",
       "      <td>NaN</td>\n",
       "      <td>NaN</td>\n",
       "      <td>NaN</td>\n",
       "      <td>NaN</td>\n",
       "      <td>NaN</td>\n",
       "      <td>NaN</td>\n",
       "      <td>NaN</td>\n",
       "      <td>NaN</td>\n",
       "      <td>NaN</td>\n",
       "      <td>NaN</td>\n",
       "      <td>NaN</td>\n",
       "      <td>NaN</td>\n",
       "      <td>NaN</td>\n",
       "      <td>NaN</td>\n",
       "    </tr>\n",
       "    <tr>\n",
       "      <th>1</th>\n",
       "      <td>Oscar's Mexican food</td>\n",
       "      <td>California</td>\n",
       "      <td>1/24/2016</td>\n",
       "      <td>San Marcos</td>\n",
       "      <td>225 S Rancho Santa Fe Rd</td>\n",
       "      <td>http://www.yelp.com/biz/oscars-mexican-food-sa...</td>\n",
       "      <td>3.5</td>\n",
       "      <td>3.3</td>\n",
       "      <td>NaN</td>\n",
       "      <td>5.45</td>\n",
       "      <td>3.5</td>\n",
       "      <td>NaN</td>\n",
       "      <td>NaN</td>\n",
       "      <td>NaN</td>\n",
       "      <td>NaN</td>\n",
       "      <td>NaN</td>\n",
       "      <td>2.0</td>\n",
       "      <td>3.5</td>\n",
       "      <td>2.5</td>\n",
       "      <td>2.5</td>\n",
       "      <td>2.0</td>\n",
       "      <td>4.0</td>\n",
       "      <td>3.5</td>\n",
       "      <td>2.5</td>\n",
       "      <td>5.0</td>\n",
       "      <td>3.00</td>\n",
       "      <td>NaN</td>\n",
       "      <td>Scott</td>\n",
       "      <td>Fries: 3/5; too little meat</td>\n",
       "      <td>NaN</td>\n",
       "      <td>NaN</td>\n",
       "      <td>x</td>\n",
       "      <td>x</td>\n",
       "      <td>x</td>\n",
       "      <td>x</td>\n",
       "      <td>x</td>\n",
       "      <td>NaN</td>\n",
       "      <td>NaN</td>\n",
       "      <td>NaN</td>\n",
       "      <td>NaN</td>\n",
       "      <td>NaN</td>\n",
       "      <td>NaN</td>\n",
       "      <td>NaN</td>\n",
       "      <td>NaN</td>\n",
       "      <td>NaN</td>\n",
       "      <td>NaN</td>\n",
       "      <td>NaN</td>\n",
       "      <td>NaN</td>\n",
       "      <td>NaN</td>\n",
       "      <td>NaN</td>\n",
       "      <td>NaN</td>\n",
       "      <td>NaN</td>\n",
       "      <td>NaN</td>\n",
       "      <td>NaN</td>\n",
       "      <td>NaN</td>\n",
       "      <td>NaN</td>\n",
       "      <td>NaN</td>\n",
       "      <td>NaN</td>\n",
       "      <td>NaN</td>\n",
       "      <td>NaN</td>\n",
       "      <td>NaN</td>\n",
       "      <td>NaN</td>\n",
       "      <td>NaN</td>\n",
       "      <td>NaN</td>\n",
       "      <td>NaN</td>\n",
       "      <td>NaN</td>\n",
       "    </tr>\n",
       "    <tr>\n",
       "      <th>2</th>\n",
       "      <td>Oscar's Mexican food</td>\n",
       "      <td>Carnitas</td>\n",
       "      <td>1/24/2016</td>\n",
       "      <td>NaN</td>\n",
       "      <td>NaN</td>\n",
       "      <td>NaN</td>\n",
       "      <td>NaN</td>\n",
       "      <td>NaN</td>\n",
       "      <td>NaN</td>\n",
       "      <td>4.85</td>\n",
       "      <td>1.5</td>\n",
       "      <td>NaN</td>\n",
       "      <td>NaN</td>\n",
       "      <td>NaN</td>\n",
       "      <td>NaN</td>\n",
       "      <td>NaN</td>\n",
       "      <td>3.0</td>\n",
       "      <td>2.0</td>\n",
       "      <td>2.5</td>\n",
       "      <td>3.0</td>\n",
       "      <td>4.5</td>\n",
       "      <td>4.0</td>\n",
       "      <td>3.0</td>\n",
       "      <td>3.0</td>\n",
       "      <td>5.0</td>\n",
       "      <td>3.00</td>\n",
       "      <td>NaN</td>\n",
       "      <td>Emily</td>\n",
       "      <td>NaN</td>\n",
       "      <td>NaN</td>\n",
       "      <td>NaN</td>\n",
       "      <td>NaN</td>\n",
       "      <td>x</td>\n",
       "      <td>x</td>\n",
       "      <td>NaN</td>\n",
       "      <td>NaN</td>\n",
       "      <td>NaN</td>\n",
       "      <td>x</td>\n",
       "      <td>NaN</td>\n",
       "      <td>NaN</td>\n",
       "      <td>NaN</td>\n",
       "      <td>NaN</td>\n",
       "      <td>NaN</td>\n",
       "      <td>NaN</td>\n",
       "      <td>NaN</td>\n",
       "      <td>NaN</td>\n",
       "      <td>NaN</td>\n",
       "      <td>NaN</td>\n",
       "      <td>NaN</td>\n",
       "      <td>NaN</td>\n",
       "      <td>NaN</td>\n",
       "      <td>NaN</td>\n",
       "      <td>NaN</td>\n",
       "      <td>NaN</td>\n",
       "      <td>NaN</td>\n",
       "      <td>NaN</td>\n",
       "      <td>NaN</td>\n",
       "      <td>NaN</td>\n",
       "      <td>NaN</td>\n",
       "      <td>NaN</td>\n",
       "      <td>NaN</td>\n",
       "      <td>NaN</td>\n",
       "      <td>NaN</td>\n",
       "      <td>NaN</td>\n",
       "      <td>NaN</td>\n",
       "      <td>NaN</td>\n",
       "    </tr>\n",
       "    <tr>\n",
       "      <th>3</th>\n",
       "      <td>Oscar's Mexican food</td>\n",
       "      <td>Carne asada</td>\n",
       "      <td>1/24/2016</td>\n",
       "      <td>NaN</td>\n",
       "      <td>NaN</td>\n",
       "      <td>NaN</td>\n",
       "      <td>NaN</td>\n",
       "      <td>NaN</td>\n",
       "      <td>NaN</td>\n",
       "      <td>5.25</td>\n",
       "      <td>2.0</td>\n",
       "      <td>NaN</td>\n",
       "      <td>NaN</td>\n",
       "      <td>NaN</td>\n",
       "      <td>NaN</td>\n",
       "      <td>NaN</td>\n",
       "      <td>3.0</td>\n",
       "      <td>2.0</td>\n",
       "      <td>3.5</td>\n",
       "      <td>3.0</td>\n",
       "      <td>4.0</td>\n",
       "      <td>5.0</td>\n",
       "      <td>4.0</td>\n",
       "      <td>4.0</td>\n",
       "      <td>5.0</td>\n",
       "      <td>3.75</td>\n",
       "      <td>NaN</td>\n",
       "      <td>Ricardo</td>\n",
       "      <td>Go to average burrito place like Rigoberto's i...</td>\n",
       "      <td>NaN</td>\n",
       "      <td>NaN</td>\n",
       "      <td>x</td>\n",
       "      <td>x</td>\n",
       "      <td>x</td>\n",
       "      <td>NaN</td>\n",
       "      <td>NaN</td>\n",
       "      <td>NaN</td>\n",
       "      <td>NaN</td>\n",
       "      <td>NaN</td>\n",
       "      <td>NaN</td>\n",
       "      <td>NaN</td>\n",
       "      <td>NaN</td>\n",
       "      <td>NaN</td>\n",
       "      <td>NaN</td>\n",
       "      <td>NaN</td>\n",
       "      <td>NaN</td>\n",
       "      <td>NaN</td>\n",
       "      <td>NaN</td>\n",
       "      <td>NaN</td>\n",
       "      <td>NaN</td>\n",
       "      <td>NaN</td>\n",
       "      <td>NaN</td>\n",
       "      <td>NaN</td>\n",
       "      <td>NaN</td>\n",
       "      <td>NaN</td>\n",
       "      <td>NaN</td>\n",
       "      <td>NaN</td>\n",
       "      <td>NaN</td>\n",
       "      <td>NaN</td>\n",
       "      <td>NaN</td>\n",
       "      <td>NaN</td>\n",
       "      <td>NaN</td>\n",
       "      <td>NaN</td>\n",
       "      <td>NaN</td>\n",
       "      <td>NaN</td>\n",
       "      <td>NaN</td>\n",
       "    </tr>\n",
       "    <tr>\n",
       "      <th>4</th>\n",
       "      <td>Pollos Maria</td>\n",
       "      <td>California</td>\n",
       "      <td>1/27/2016</td>\n",
       "      <td>Carlsbad</td>\n",
       "      <td>3055 Harding St</td>\n",
       "      <td>http://pollosmaria.com/</td>\n",
       "      <td>4.0</td>\n",
       "      <td>3.8</td>\n",
       "      <td>x</td>\n",
       "      <td>6.59</td>\n",
       "      <td>4.0</td>\n",
       "      <td>NaN</td>\n",
       "      <td>NaN</td>\n",
       "      <td>NaN</td>\n",
       "      <td>NaN</td>\n",
       "      <td>NaN</td>\n",
       "      <td>4.0</td>\n",
       "      <td>5.0</td>\n",
       "      <td>4.0</td>\n",
       "      <td>3.5</td>\n",
       "      <td>4.5</td>\n",
       "      <td>5.0</td>\n",
       "      <td>2.5</td>\n",
       "      <td>4.5</td>\n",
       "      <td>4.0</td>\n",
       "      <td>4.20</td>\n",
       "      <td>NaN</td>\n",
       "      <td>Scott</td>\n",
       "      <td>NaN</td>\n",
       "      <td>NaN</td>\n",
       "      <td>NaN</td>\n",
       "      <td>x</td>\n",
       "      <td>x</td>\n",
       "      <td>NaN</td>\n",
       "      <td>x</td>\n",
       "      <td>x</td>\n",
       "      <td>NaN</td>\n",
       "      <td>NaN</td>\n",
       "      <td>NaN</td>\n",
       "      <td>NaN</td>\n",
       "      <td>NaN</td>\n",
       "      <td>NaN</td>\n",
       "      <td>NaN</td>\n",
       "      <td>NaN</td>\n",
       "      <td>NaN</td>\n",
       "      <td>NaN</td>\n",
       "      <td>NaN</td>\n",
       "      <td>NaN</td>\n",
       "      <td>NaN</td>\n",
       "      <td>NaN</td>\n",
       "      <td>NaN</td>\n",
       "      <td>NaN</td>\n",
       "      <td>NaN</td>\n",
       "      <td>NaN</td>\n",
       "      <td>NaN</td>\n",
       "      <td>NaN</td>\n",
       "      <td>NaN</td>\n",
       "      <td>NaN</td>\n",
       "      <td>NaN</td>\n",
       "      <td>NaN</td>\n",
       "      <td>NaN</td>\n",
       "      <td>NaN</td>\n",
       "      <td>NaN</td>\n",
       "      <td>NaN</td>\n",
       "      <td>NaN</td>\n",
       "      <td>NaN</td>\n",
       "    </tr>\n",
       "  </tbody>\n",
       "</table>\n",
       "</div>"
      ],
      "text/plain": [
       "               Location      Burrito       Date Neighborhood  \\\n",
       "0    Donato's taco shop  California   1/18/2016      Miramar   \n",
       "1  Oscar's Mexican food  California   1/24/2016   San Marcos   \n",
       "2  Oscar's Mexican food     Carnitas  1/24/2016          NaN   \n",
       "3  Oscar's Mexican food  Carne asada  1/24/2016          NaN   \n",
       "4          Pollos Maria   California  1/27/2016     Carlsbad   \n",
       "\n",
       "                    Address  \\\n",
       "0           6780 Miramar Rd   \n",
       "1  225 S Rancho Santa Fe Rd   \n",
       "2                       NaN   \n",
       "3                       NaN   \n",
       "4           3055 Harding St   \n",
       "\n",
       "                                                 URL  Yelp  Google Chips  \\\n",
       "0                        http://donatostacoshop.net/   3.5     4.2   NaN   \n",
       "1  http://www.yelp.com/biz/oscars-mexican-food-sa...   3.5     3.3   NaN   \n",
       "2                                                NaN   NaN     NaN   NaN   \n",
       "3                                                NaN   NaN     NaN   NaN   \n",
       "4                            http://pollosmaria.com/   4.0     3.8     x   \n",
       "\n",
       "   Cost  Hunger  Mass (g)  Density (g/mL)  Length  Circum  Volume  Tortilla  \\\n",
       "0  6.49     3.0       NaN             NaN     NaN     NaN     NaN       3.0   \n",
       "1  5.45     3.5       NaN             NaN     NaN     NaN     NaN       2.0   \n",
       "2  4.85     1.5       NaN             NaN     NaN     NaN     NaN       3.0   \n",
       "3  5.25     2.0       NaN             NaN     NaN     NaN     NaN       3.0   \n",
       "4  6.59     4.0       NaN             NaN     NaN     NaN     NaN       4.0   \n",
       "\n",
       "   Temp  Meat  Fillings  Meat:filling  Uniformity  Salsa  Synergy  Wrap  \\\n",
       "0   5.0   3.0       3.5           4.0         4.0    4.0      4.0   4.0   \n",
       "1   3.5   2.5       2.5           2.0         4.0    3.5      2.5   5.0   \n",
       "2   2.0   2.5       3.0           4.5         4.0    3.0      3.0   5.0   \n",
       "3   2.0   3.5       3.0           4.0         5.0    4.0      4.0   5.0   \n",
       "4   5.0   4.0       3.5           4.5         5.0    2.5      4.5   4.0   \n",
       "\n",
       "   overall  Rec Reviewer                                              Notes  \\\n",
       "0     3.80  NaN    Scott                                    good fries: 4/5   \n",
       "1     3.00  NaN    Scott                        Fries: 3/5; too little meat   \n",
       "2     3.00  NaN    Emily                                                NaN   \n",
       "3     3.75  NaN  Ricardo  Go to average burrito place like Rigoberto's i...   \n",
       "4     4.20  NaN    Scott                                                NaN   \n",
       "\n",
       "  Unreliable NonSD Beef Pico Guac Cheese Fries Sour cream Pork Chicken Shrimp  \\\n",
       "0        NaN   NaN    x    x    x      x     x        NaN  NaN     NaN    NaN   \n",
       "1        NaN   NaN    x    x    x      x     x        NaN  NaN     NaN    NaN   \n",
       "2        NaN   NaN  NaN    x    x    NaN   NaN        NaN    x     NaN    NaN   \n",
       "3        NaN   NaN    x    x    x    NaN   NaN        NaN  NaN     NaN    NaN   \n",
       "4        NaN   NaN    x    x  NaN      x     x        NaN  NaN     NaN    NaN   \n",
       "\n",
       "  Fish Rice Beans Lettuce Tomato Bell peper Carrots Cabbage Sauce Salsa.1  \\\n",
       "0  NaN  NaN   NaN     NaN    NaN        NaN     NaN     NaN   NaN     NaN   \n",
       "1  NaN  NaN   NaN     NaN    NaN        NaN     NaN     NaN   NaN     NaN   \n",
       "2  NaN  NaN   NaN     NaN    NaN        NaN     NaN     NaN   NaN     NaN   \n",
       "3  NaN  NaN   NaN     NaN    NaN        NaN     NaN     NaN   NaN     NaN   \n",
       "4  NaN  NaN   NaN     NaN    NaN        NaN     NaN     NaN   NaN     NaN   \n",
       "\n",
       "  Cilantro Onion Taquito Pineapple  Ham Chile relleno Nopales Lobster  Queso  \\\n",
       "0      NaN   NaN     NaN       NaN  NaN           NaN     NaN     NaN    NaN   \n",
       "1      NaN   NaN     NaN       NaN  NaN           NaN     NaN     NaN    NaN   \n",
       "2      NaN   NaN     NaN       NaN  NaN           NaN     NaN     NaN    NaN   \n",
       "3      NaN   NaN     NaN       NaN  NaN           NaN     NaN     NaN    NaN   \n",
       "4      NaN   NaN     NaN       NaN  NaN           NaN     NaN     NaN    NaN   \n",
       "\n",
       "   Egg Mushroom Bacon Sushi Avocado Corn Zucchini  \n",
       "0  NaN      NaN   NaN   NaN     NaN  NaN      NaN  \n",
       "1  NaN      NaN   NaN   NaN     NaN  NaN      NaN  \n",
       "2  NaN      NaN   NaN   NaN     NaN  NaN      NaN  \n",
       "3  NaN      NaN   NaN   NaN     NaN  NaN      NaN  \n",
       "4  NaN      NaN   NaN   NaN     NaN  NaN      NaN  "
      ]
     },
     "execution_count": 3,
     "metadata": {},
     "output_type": "execute_result"
    }
   ],
   "source": [
    "df.head()"
   ]
  },
  {
   "cell_type": "markdown",
   "metadata": {
    "colab_type": "text",
    "id": "anp0QxAppDZJ"
   },
   "source": [
    "### Choose your target \n",
    "\n",
    "Which column in your tabular dataset will you predict?\n"
   ]
  },
  {
   "cell_type": "code",
   "execution_count": 4,
   "metadata": {
    "colab": {
     "base_uri": "https://localhost:8080/",
     "height": 175
    },
    "colab_type": "code",
    "id": "zIPL0gf3pDZK",
    "lines_to_next_cell": 2,
    "outputId": "0131dc83-f2d8-4dba-89a3-0d8863ed6552"
   },
   "outputs": [
    {
     "data": {
      "text/plain": [
       "count    421.000000\n",
       "mean       3.620887\n",
       "std        0.755718\n",
       "min        1.000000\n",
       "25%        3.100000\n",
       "50%        3.800000\n",
       "75%        4.100000\n",
       "max        5.000000\n",
       "Name: overall, dtype: float64"
      ]
     },
     "execution_count": 4,
     "metadata": {
      "tags": []
     },
     "output_type": "execute_result"
    }
   ],
   "source": [
    "#Use the describe method to see the target distribution\n",
    "df['overall'].describe()"
   ]
  },
  {
   "cell_type": "code",
   "execution_count": 6,
   "metadata": {
    "colab": {
     "base_uri": "https://localhost:8080/",
     "height": 34
    },
    "colab_type": "code",
    "id": "jt2xsGMnuDZJ",
    "outputId": "04ee0fe5-b618-4eb0-ad09-ac7530f6b268"
   },
   "outputs": [
    {
     "data": {
      "text/plain": [
       "2"
      ]
     },
     "execution_count": 6,
     "metadata": {
      "tags": []
     },
     "output_type": "execute_result"
    }
   ],
   "source": [
    "#drops na values\n",
    "df['overall'].isna().sum()\n"
   ]
  },
  {
   "cell_type": "code",
   "execution_count": null,
   "metadata": {
    "colab": {},
    "colab_type": "code",
    "id": "2rGn_VZ_uK4n"
   },
   "outputs": [],
   "source": [
    "df.dropna(subset=['overall'])\n",
    "df['Great'] = df['overall'] >=4"
   ]
  },
  {
   "cell_type": "code",
   "execution_count": 9,
   "metadata": {
    "colab": {
     "base_uri": "https://localhost:8080/",
     "height": 122
    },
    "colab_type": "code",
    "id": "GELq3iP7uXiO",
    "outputId": "19460bfa-e8fa-4f7d-8983-2a1109ac7ddd"
   },
   "outputs": [
    {
<<<<<<< HEAD
     "data": {
      "text/plain": [
       "0    False\n",
       "1    False\n",
       "2    False\n",
       "3    False\n",
       "4     True\n",
       "Name: Great, dtype: bool"
=======
      "cell_type": "code",
      "metadata": {
        "lines_to_next_cell": 2,
        "id": "ULlc6BFQpDaS",
        "colab_type": "code",
        "colab": {
          "base_uri": "https://localhost:8080/",
          "height": 290
        },
        "outputId": "d361f42e-ac2d-4c03-af01-4d7d054c39d0"
      },
      "source": [
        "# Yes, the target is right-skewed\n",
        "import seaborn as sns\n",
        "sns.distplot(y);"
      ],
      "execution_count": 207,
      "outputs": [
        {
          "output_type": "display_data",
          "data": {
            "image/png": "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\n",
            "text/plain": [
              "<Figure size 432x288 with 1 Axes>"
            ]
          },
          "metadata": {
            "tags": [],
            "needs_background": "light"
          }
        }
      ]
    },
    {
      "cell_type": "code",
      "metadata": {
        "id": "FtDUwJN4pDaW",
        "colab_type": "code",
        "colab": {
          "base_uri": "https://localhost:8080/",
          "height": 170
        },
        "outputId": "f5af6fe4-aa4c-4577-e636-09af62b862aa"
      },
      "source": [
        "y.describe()"
      ],
      "execution_count": 208,
      "outputs": [
        {
          "output_type": "execute_result",
          "data": {
            "text/plain": [
              "count    4.935200e+04\n",
              "mean     3.830174e+03\n",
              "std      2.206687e+04\n",
              "min      4.300000e+01\n",
              "25%      2.500000e+03\n",
              "50%      3.150000e+03\n",
              "75%      4.100000e+03\n",
              "max      4.490000e+06\n",
              "Name: price, dtype: float64"
            ]
          },
          "metadata": {
            "tags": []
          },
          "execution_count": 208
        }
      ]
    },
    {
      "cell_type": "markdown",
      "metadata": {
        "id": "tiuq3pOmpDae",
        "colab_type": "text"
      },
      "source": [
        "### Are some observations outliers? \n",
        "\n",
        "Will you exclude\n",
        "them?\n"
>>>>>>> ac20e91fc4400c17cc0a09c6c6c0520a4bd71acb
      ]
     },
     "execution_count": 9,
     "metadata": {
      "tags": []
     },
     "output_type": "execute_result"
    }
   ],
   "source": [
    "df['Great'].head()"
   ]
  },
  {
   "cell_type": "code",
   "execution_count": null,
   "metadata": {
    "colab": {},
    "colab_type": "code",
    "id": "qsKUX1NluicU"
   },
   "outputs": [],
   "source": []
  },
  {
   "cell_type": "markdown",
   "metadata": {
    "colab_type": "text",
    "id": "mdlUNeOBpDZQ"
   },
   "source": [
    "### How is your target distributed?\n",
    "\n",
    "For a classification problem, determine: How many classes? Are the classes imbalanced?"
   ]
  },
  {
   "cell_type": "code",
   "execution_count": 10,
   "metadata": {
    "colab": {
     "base_uri": "https://localhost:8080/",
     "height": 34
    },
    "colab_type": "code",
    "id": "V31MdGX6pDZR",
    "outputId": "efc7af6d-bea9-4e0e-987c-c05af11d31d1"
   },
   "outputs": [
    {
<<<<<<< HEAD
     "data": {
      "text/plain": [
       "array([False,  True])"
=======
      "cell_type": "code",
      "metadata": {
        "lines_to_next_cell": 2,
        "id": "W8xJNUeYpDaf",
        "colab_type": "code",
        "colab": {}
      },
      "source": [
        "# Yes! There are outliers\n",
        "# Some prices are so high or low it doesn't really make sense.\n",
        "# Some locations aren't even in New York City\n",
        "\n",
        "# Remove the most extreme 1% prices, \n",
        "# the most extreme .1% latitudes, &\n",
        "# the most extreme .1% longitudes\n",
        "import numpy as np\n",
        "df = df[(df['price'] >= np.percentile(df['price'], 0.5)) & \n",
        "        (df['price'] <= np.percentile(df['price'], 99.5)) & \n",
        "        (df['latitude'] >= np.percentile(df['latitude'], 0.05)) & \n",
        "        (df['latitude'] < np.percentile(df['latitude'], 99.95)) &\n",
        "        (df['longitude'] >= np.percentile(df['longitude'], 0.05)) & \n",
        "        (df['longitude'] <= np.percentile(df['longitude'], 99.95))]"
      ],
      "execution_count": 0,
      "outputs": []
    },
    {
      "cell_type": "code",
      "metadata": {
        "id": "YuDHjS6epDaj",
        "colab_type": "code",
        "colab": {
          "base_uri": "https://localhost:8080/",
          "height": 279
        },
        "outputId": "db0a55b9-cc55-4076-80ae-06f3bc5fa9e3"
      },
      "source": [
        "# The distribution has improved, but is still right-skewed\n",
        "y = df['price']\n",
        "sns.distplot(y);"
      ],
      "execution_count": 210,
      "outputs": [
        {
          "output_type": "display_data",
          "data": {
            "image/png": "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\n",
            "text/plain": [
              "<Figure size 432x288 with 1 Axes>"
            ]
          },
          "metadata": {
            "tags": [],
            "needs_background": "light"
          }
        }
      ]
    },
    {
      "cell_type": "code",
      "metadata": {
        "id": "2TRG2iUepDan",
        "colab_type": "code",
        "colab": {
          "base_uri": "https://localhost:8080/",
          "height": 170
        },
        "outputId": "8f2b7c1c-95b4-4c48-f767-d7e859a0a8e6"
      },
      "source": [
        "y.describe()"
      ],
      "execution_count": 211,
      "outputs": [
        {
          "output_type": "execute_result",
          "data": {
            "text/plain": [
              "count    48817.000000\n",
              "mean      3579.585247\n",
              "std       1762.430772\n",
              "min       1375.000000\n",
              "25%       2500.000000\n",
              "50%       3150.000000\n",
              "75%       4095.000000\n",
              "max      15500.000000\n",
              "Name: price, dtype: float64"
            ]
          },
          "metadata": {
            "tags": []
          },
          "execution_count": 211
        }
      ]
    },
    {
      "cell_type": "markdown",
      "metadata": {
        "id": "RG_jodY5pDat",
        "colab_type": "text"
      },
      "source": [
        "### Log-Transform\n",
        "\n",
        "If the target is right-skewed, you may want to “log transform” the target.\n",
        "\n",
        "\n",
        "> Transforming the target variable (using the mathematical log function) into a tighter, more uniform space makes life easier for any [regression] model.\n",
        ">\n",
        "> The only problem is that, while easy to execute, understanding why taking the log of the target variable works and how it affects the training/testing process is intellectually challenging. You can skip this section for now, if you like, but just remember that this technique exists and check back here if needed in the future.\n",
        ">\n",
        "> Optimally, the distribution of prices would be a narrow “bell curve” distribution without a tail. This would make predictions based upon average prices more accurate. We need a mathematical operation that transforms the widely-distributed target prices into a new space. The “price in dollars space” has a long right tail because of outliers and we want to squeeze that space into a new space that is normally distributed. More specifically, we need to shrink large values a lot and smaller values a little. That magic operation is called the logarithm or log for short. \n",
        ">\n",
        "> To make actual predictions, we have to take the exp of model predictions to get prices in dollars instead of log dollars. \n",
        ">\n",
        ">— Terence Parr & Jeremy Howard, [The Mechanics of Machine Learning, Chapter 5.5](https://mlbook.explained.ai/prep.html#logtarget)\n",
        "\n",
        "[Numpy has exponents and logarithms](https://docs.scipy.org/doc/numpy/reference/routines.math.html#exponents-and-logarithms). Your Python code could look like this:\n",
        "\n",
        "```python\n",
        "import numpy as np\n",
        "y_train_log = np.log1p(y_train)\n",
        "model.fit(X_train, y_train_log)\n",
        "y_pred_log = model.predict(X_val)\n",
        "y_pred = np.expm1(y_pred_log)\n",
        "print(mean_absolute_error(y_val, y_pred))\n",
        "```"
>>>>>>> ac20e91fc4400c17cc0a09c6c6c0520a4bd71acb
      ]
     },
     "execution_count": 10,
     "metadata": {
      "tags": []
     },
     "output_type": "execute_result"
    }
   ],
   "source": [
    "#confirm that the target is binary\n",
    "y=df['Great']\n",
    "y.unique()"
   ]
  },
  {
   "cell_type": "code",
   "execution_count": 11,
   "metadata": {
    "colab": {
     "base_uri": "https://localhost:8080/",
     "height": 70
    },
    "colab_type": "code",
    "id": "-asHkLg0usCE",
    "outputId": "fd7232f3-db87-4e13-e2ae-b8fbf7867da2"
   },
   "outputs": [
    {
<<<<<<< HEAD
     "data": {
      "text/plain": [
       "False    0.56974\n",
       "True     0.43026\n",
       "Name: Great, dtype: float64"
=======
      "cell_type": "code",
      "metadata": {
        "id": "DnSwXG11pDau",
        "colab_type": "code",
        "colab": {
          "base_uri": "https://localhost:8080/",
          "height": 295
        },
        "outputId": "da30d3fb-bc16-43bd-92bf-674c7b687fbe"
      },
      "source": [
        "import matplotlib.pyplot as plt\n",
        "\n",
        "sns.distplot(y)\n",
        "plt.title('Original target, in the unit of US dollars');"
      ],
      "execution_count": 212,
      "outputs": [
        {
          "output_type": "display_data",
          "data": {
            "image/png": "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\n",
            "text/plain": [
              "<Figure size 432x288 with 1 Axes>"
            ]
          },
          "metadata": {
            "tags": [],
            "needs_background": "light"
          }
        }
      ]
    },
    {
      "cell_type": "code",
      "metadata": {
        "id": "vFGJ7VIzpDa0",
        "colab_type": "code",
        "colab": {
          "base_uri": "https://localhost:8080/",
          "height": 295
        },
        "outputId": "d467689b-f64d-48a3-b1ba-db99c4f5cc23"
      },
      "source": [
        "y_log = np.log1p(y)\n",
        "sns.distplot(y_log)\n",
        "plt.title('Log-transformed target, in log-dollars');"
      ],
      "execution_count": 213,
      "outputs": [
        {
          "output_type": "display_data",
          "data": {
            "image/png": "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\n",
            "text/plain": [
              "<Figure size 432x288 with 1 Axes>"
            ]
          },
          "metadata": {
            "tags": [],
            "needs_background": "light"
          }
        }
      ]
    },
    {
      "cell_type": "code",
      "metadata": {
        "id": "IFFrYNivpDa5",
        "colab_type": "code",
        "colab": {
          "base_uri": "https://localhost:8080/",
          "height": 295
        },
        "outputId": "37ad3a30-cad8-48bc-c3ef-40882b1e811c"
      },
      "source": [
        "y_untransformed = np.expm1(y_log)\n",
        "sns.distplot(y_untransformed)\n",
        "plt.title('Back to the original units');"
      ],
      "execution_count": 214,
      "outputs": [
        {
          "output_type": "display_data",
          "data": {
            "image/png": "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\n",
            "text/plain": [
              "<Figure size 432x288 with 1 Axes>"
            ]
          },
          "metadata": {
            "tags": [],
            "needs_background": "light"
          }
        }
      ]
    },
    {
      "cell_type": "markdown",
      "metadata": {
        "id": "SIfiCYD_pDa9",
        "colab_type": "text"
      },
      "source": [
        "## Challenge\n",
        "\n",
        "You will use your portfolio project dataset for all assignments this sprint. (If you haven't found a dataset yet, do that today. [Review requirements for your portfolio project](https://lambdaschool.github.io/ds/unit2) and choose your dataset.)\n",
        "\n",
        "Complete these tasks for your project, and document your decisions.\n",
        "\n",
        "- Choose your target. Which column in your tabular dataset will you predict?\n",
        "- Is your problem regression or classification?\n",
        "- How is your target distributed?\n",
        "    - Classification: How many classes? Are the classes imbalanced?\n",
        "    - Regression: Is the target right-skewed? If so, you may want to log transform the target.\n",
        "- Choose your evaluation metric(s).\n",
        "    - Classification: Is your majority class frequency >= 50% and < 70% ? If so, you can just use accuracy if you want. Outside that range, accuracy could be misleading. What evaluation metric will you choose, in addition to or instead of accuracy?\n",
        "    - Regression: Will you use mean absolute error, root mean squared error, R^2, or other regression metrics?\n",
        "- Choose which observations you will use to train, validate, and test your model.\n",
        "    - Are some observations outliers? Will you exclude them?\n",
        "    - Will you do a random split or a time-based split?\n",
        "- Begin to clean and explore your data.\n",
        "- Begin to choose which features, if any, to exclude. Would some features \"leak\" future information?\n",
        "\n",
        "Some students worry, ***what if my model isn't “good”?*** Then, [produce a detailed tribute to your wrongness. That is science!](https://twitter.com/nathanwpyle/status/1176860147223867393)"
>>>>>>> ac20e91fc4400c17cc0a09c6c6c0520a4bd71acb
      ]
     },
     "execution_count": 11,
     "metadata": {
      "tags": []
     },
     "output_type": "execute_result"
    }
   ],
   "source": [
    "#this implies that the distribution is kin to use accuracy as metric. If this was a .99 to .01, accuracy would not be a good metric.\n",
    "y.value_counts(normalize=True)"
   ]
  },
  {
   "cell_type": "markdown",
   "metadata": {
    "colab_type": "text",
    "id": "k653ljq3pDZW"
   },
   "source": [
    "# Avoid leakage of information from test to train or from target to features"
   ]
  },
  {
   "cell_type": "markdown",
   "metadata": {
    "colab_type": "text",
    "id": "Y_Px4fuCpDZY"
   },
   "source": [
    "## Overview"
   ]
  },
  {
   "cell_type": "markdown",
   "metadata": {
    "colab_type": "text",
    "id": "H-rotUZOpDZa"
   },
   "source": [
    "Overfitting is our enemy in applied machine learning, and leakage is often the cause.\n",
    "\n",
    "> Make sure your training features do not contain data from the “future” (aka time traveling). While this might be easy and obvious in some cases, it can get tricky. … If your test metric becomes really good all of the sudden, ask yourself what you might be doing wrong. Chances are you are time travelling or overfitting in some way. — [Xavier Amatriain](https://www.quora.com/What-are-some-best-practices-for-training-machine-learning-models/answer/Xavier-Amatriain)\n",
    "\n",
    "Choose train, validate, and test sets. Are some observations outliers? Will you exclude them? Will you do a random split or a time-based split? You can (re)read [How (and why) to create a good validation set](https://www.fast.ai/2017/11/13/validation-sets/)."
   ]
  },
  {
   "cell_type": "markdown",
   "metadata": {
    "colab_type": "text",
    "id": "ihekzMbmwI8S"
   },
   "source": [
    "#Data Leakage examples:\n",
    "\n",
    "- Temporal\n",
    "- Duplicates\n",
    "- Feature engineering before validation split\n",
    "- Training a model on data not available at inference time\n",
    "- Synthetic data\n",
    "- Classification of images with logos/labels"
   ]
  },
  {
   "cell_type": "markdown",
   "metadata": {
    "colab_type": "text",
    "id": "hJcfo5CNpDZb"
   },
   "source": [
    "## Follow Along"
   ]
  },
  {
   "cell_type": "markdown",
   "metadata": {
    "colab_type": "text",
    "id": "nfQgI_lMpDZc"
   },
   "source": [
    "First, begin to **explore and clean your data.**"
   ]
  },
  {
   "cell_type": "code",
   "execution_count": null,
   "metadata": {
    "colab": {},
    "colab_type": "code",
    "id": "x4wV10dZpDZd"
   },
   "outputs": [],
   "source": []
  },
  {
   "cell_type": "markdown",
   "metadata": {
    "colab_type": "text",
    "id": "TL72gPxLpDZi"
   },
   "source": [
    "Next, do a **time-based split:**\n",
    "\n",
    "- Train on reviews from 2016 & earlier. \n",
    "- Validate on 2017. \n",
    "- Test on 2018 & later."
   ]
  },
  {
   "cell_type": "code",
   "execution_count": null,
   "metadata": {
    "colab": {},
    "colab_type": "code",
    "id": "uPORK9CupDZj"
   },
   "outputs": [],
   "source": []
  },
  {
   "cell_type": "markdown",
   "metadata": {
    "colab_type": "text",
    "id": "nbTjdVyfpDZo"
   },
   "source": [
    "Begin to choose which features, if any, to exclude. **Would some features “leak” future information?**\n",
    "\n",
    "What happens if we _DON’T_ drop features with leakage?"
   ]
  },
  {
   "cell_type": "code",
   "execution_count": null,
   "metadata": {
    "colab": {},
    "colab_type": "code",
    "id": "Cg_k-t12pDZp"
   },
   "outputs": [],
   "source": []
  },
  {
   "cell_type": "markdown",
   "metadata": {
    "colab_type": "text",
    "id": "tao2CPx6pDZu"
   },
   "source": [
    "Drop the column with “leakage”."
   ]
  },
  {
   "cell_type": "code",
   "execution_count": null,
   "metadata": {
    "colab": {},
    "colab_type": "code",
    "id": "JJcnhUSjpDZw"
   },
   "outputs": [],
   "source": []
  },
  {
   "cell_type": "markdown",
   "metadata": {
    "colab_type": "text",
    "id": "Szr3IWvjpDZ3"
   },
   "source": [
    "# Choose an appropriate evaluation metric"
   ]
  },
  {
   "cell_type": "markdown",
   "metadata": {
    "colab_type": "text",
    "id": "V95bApq6pDZ3"
   },
   "source": [
    "## Overview"
   ]
  },
  {
   "cell_type": "markdown",
   "metadata": {
    "colab_type": "text",
    "id": "6F7j74d_pDZ5"
   },
   "source": [
    "How will you evaluate success for your predictive model? You must choose an appropriate evaluation metric, depending on the context and constraints of your problem.\n",
    "\n",
    "**Classification & regression metrics are different!**\n",
    "\n",
    "- Don’t use _regression_ metrics to evaluate _classification_ tasks.\n",
    "- Don’t use _classification_ metrics to evaluate _regression_ tasks.\n",
    "\n",
    "[Scikit-learn has lists of popular metrics.](https://scikit-learn.org/stable/modules/model_evaluation.html#common-cases-predefined-values)"
   ]
  },
  {
   "cell_type": "markdown",
   "metadata": {
    "colab_type": "text",
    "id": "6JEP4GSfpDZ5"
   },
   "source": [
    "## Follow Along"
   ]
  },
  {
   "cell_type": "markdown",
   "metadata": {
    "colab_type": "text",
    "id": "f901C1I0pDZ6"
   },
   "source": [
    "For classification problems: \n",
    "\n",
    "As a rough rule of thumb, if your majority class frequency is >= 50% and < 70% then you can just use accuracy if you want. Outside that range, accuracy could be misleading — so what evaluation metric will you choose, in addition to or instead of accuracy? For example:\n",
    "\n",
    "- Precision?\n",
    "- Recall?\n",
    "- ROC AUC?\n"
   ]
  },
  {
   "cell_type": "code",
   "execution_count": null,
   "metadata": {
    "colab": {},
    "colab_type": "code",
    "id": "XqI1wP5CpDZ7"
   },
   "outputs": [],
   "source": []
  },
  {
   "cell_type": "markdown",
   "metadata": {
    "colab_type": "text",
    "id": "YOLr9Vs0pDZ_"
   },
   "source": [
    "### Precision & Recall\n",
    "\n",
    "Let's review Precision & Recall. What do these metrics mean, in scenarios like these?\n",
    "\n",
    "- Predict great burritos\n",
    "- Predict fraudulent transactions\n",
    "- Recommend Spotify songs\n",
    "\n",
    "[Are false positives or false negatives more costly? Can you optimize for dollars?](https://alexgude.com/blog/machine-learning-metrics-interview/)"
   ]
  },
  {
   "cell_type": "markdown",
   "metadata": {
    "colab_type": "text",
    "id": "qd9n6vhapDZ_"
   },
   "source": [
    "### ROC AUC \n",
    "\n",
    "Let's also review ROC AUC (Receiver Operating Characteristic, Area Under the Curve).\n",
    "\n",
    "[Wikipedia explains,](https://en.wikipedia.org/wiki/Receiver_operating_characteristic) \"A receiver operating characteristic curve, or ROC curve, is a graphical plot that illustrates the diagnostic ability of a binary classifier system as its discrimination threshold is varied. **The ROC curve is created by plotting the true positive rate (TPR) against the false positive rate (FPR) at various threshold settings.**\"\n",
    "\n",
    "ROC AUC is the area under the ROC curve. [It can be interpreted](https://stats.stackexchange.com/questions/132777/what-does-auc-stand-for-and-what-is-it) as \"the expectation that a uniformly drawn random positive is ranked before a uniformly drawn random negative.\" \n",
    "\n",
    "ROC AUC measures **how well a classifier ranks predicted probabilities.** So, when you get your classifier’s ROC AUC score, you need to **use predicted probabilities, not discrete predictions.**\n",
    "\n",
    "ROC AUC ranges **from 0 to 1.** Higher is better. A naive majority class **baseline** will have an ROC AUC score of **0.5**, regardless of class (im)balance.\n",
    "\n",
    "#### Scikit-Learn docs\n",
    "- [User Guide: Receiver operating characteristic (ROC)](https://scikit-learn.org/stable/modules/model_evaluation.html#receiver-operating-characteristic-roc)\n",
    "- [sklearn.metrics.roc_curve](https://scikit-learn.org/stable/modules/generated/sklearn.metrics.roc_curve.html)\n",
    "- [sklearn.metrics.roc_auc_score](https://scikit-learn.org/stable/modules/generated/sklearn.metrics.roc_auc_score.html)\n",
    "\n",
    "#### More links\n",
    "- [StatQuest video](https://youtu.be/4jRBRDbJemM)\n",
    "- [Data School article / video](https://www.dataschool.io/roc-curves-and-auc-explained/)\n",
    "- [The philosophical argument for using ROC curves](https://lukeoakdenrayner.wordpress.com/2018/01/07/the-philosophical-argument-for-using-roc-curves/)\n"
   ]
  },
  {
   "cell_type": "code",
   "execution_count": null,
   "metadata": {
    "colab": {},
    "colab_type": "code",
    "id": "Hz0QDSC3pDaD"
   },
   "outputs": [],
   "source": []
  },
  {
   "cell_type": "markdown",
   "metadata": {
    "colab_type": "text",
    "id": "xXRqTVJNpDaH"
   },
   "source": [
    "### Imbalanced classes\n",
    "\n",
    "Do you have highly imbalanced classes?\n",
    "\n",
    "If so, you can try ideas from [Learning from Imbalanced Classes](https://www.svds.com/tbt-learning-imbalanced-classes/):\n",
    "\n",
    "- “Adjust the class weight (misclassification costs)” — most scikit-learn classifiers have a `class_balance` parameter.\n",
    "- “Adjust the decision threshold” — we did this last module. Read [Visualizing Machine Learning Thresholds to Make Better Business Decisions](https://blog.insightdatascience.com/visualizing-machine-learning-thresholds-to-make-better-business-decisions-4ab07f823415).\n",
    "- “Oversample the minority class, undersample the majority class, or synthesize new minority classes” — try the the [imbalanced-learn](https://github.com/scikit-learn-contrib/imbalanced-learn) library as a stretch goal."
   ]
  },
  {
   "cell_type": "markdown",
   "metadata": {
    "colab_type": "text",
    "id": "Qo3RBuVFpDaI"
   },
   "source": [
    "# BONUS: Regression example 🏘️\n"
   ]
  },
  {
   "cell_type": "code",
   "execution_count": null,
   "metadata": {
    "colab": {},
    "colab_type": "code",
    "id": "0PNLGbWNpDaJ",
    "lines_to_next_cell": 2
   },
   "outputs": [],
   "source": [
    "# Read our NYC apartment rental listing dataset\n",
    "df = pd.read_csv(DATA_PATH+'apartments/renthop-nyc.csv')"
   ]
  },
  {
   "cell_type": "markdown",
   "metadata": {
    "colab_type": "text",
    "id": "OcoExONwpDaN"
   },
   "source": [
    "### Choose your target\n",
    "\n",
    "Which column in your tabular dataset will you predict?\n"
   ]
  },
  {
   "cell_type": "code",
   "execution_count": null,
   "metadata": {
    "colab": {},
    "colab_type": "code",
    "id": "ms8_cVL6pDaO",
    "lines_to_next_cell": 2
   },
   "outputs": [],
   "source": [
    "y = df['price']"
   ]
  },
  {
   "cell_type": "markdown",
   "metadata": {
    "colab_type": "text",
    "id": "U2VMxO2NpDaR"
   },
   "source": [
    "### How is your target distributed?\n",
    "\n",
    "For a regression problem, determine: Is the target right-skewed?\n"
   ]
  },
  {
   "cell_type": "code",
   "execution_count": null,
   "metadata": {
    "colab": {},
    "colab_type": "code",
    "id": "ULlc6BFQpDaS",
    "lines_to_next_cell": 2
   },
   "outputs": [],
   "source": [
    "# Yes, the target is right-skewed\n",
    "import seaborn as sns\n",
    "sns.distplot(y);"
   ]
  },
  {
   "cell_type": "code",
   "execution_count": null,
   "metadata": {
    "colab": {},
    "colab_type": "code",
    "id": "FtDUwJN4pDaW"
   },
   "outputs": [],
   "source": [
    "y.describe()"
   ]
  },
  {
   "cell_type": "markdown",
   "metadata": {
    "colab_type": "text",
    "id": "tiuq3pOmpDae"
   },
   "source": [
    "### Are some observations outliers? \n",
    "\n",
    "Will you exclude\n",
    "them?\n"
   ]
  },
  {
   "cell_type": "code",
   "execution_count": null,
   "metadata": {
    "colab": {},
    "colab_type": "code",
    "id": "W8xJNUeYpDaf",
    "lines_to_next_cell": 2
   },
   "outputs": [],
   "source": [
    "# Yes! There are outliers\n",
    "# Some prices are so high or low it doesn't really make sense.\n",
    "# Some locations aren't even in New York City\n",
    "\n",
    "# Remove the most extreme 1% prices, \n",
    "# the most extreme .1% latitudes, &\n",
    "# the most extreme .1% longitudes\n",
    "import numpy as np\n",
    "df = df[(df['price'] >= np.percentile(df['price'], 0.5)) & \n",
    "        (df['price'] <= np.percentile(df['price'], 99.5)) & \n",
    "        (df['latitude'] >= np.percentile(df['latitude'], 0.05)) & \n",
    "        (df['latitude'] < np.percentile(df['latitude'], 99.95)) &\n",
    "        (df['longitude'] >= np.percentile(df['longitude'], 0.05)) & \n",
    "        (df['longitude'] <= np.percentile(df['longitude'], 99.95))]"
   ]
  },
  {
   "cell_type": "code",
   "execution_count": null,
   "metadata": {
    "colab": {},
    "colab_type": "code",
    "id": "YuDHjS6epDaj"
   },
   "outputs": [],
   "source": [
    "# The distribution has improved, but is still right-skewed\n",
    "y = df['price']\n",
    "sns.distplot(y);"
   ]
  },
  {
   "cell_type": "code",
   "execution_count": null,
   "metadata": {
    "colab": {},
    "colab_type": "code",
    "id": "2TRG2iUepDan"
   },
   "outputs": [],
   "source": [
    "y.describe()"
   ]
  },
  {
   "cell_type": "markdown",
   "metadata": {
    "colab_type": "text",
    "id": "RG_jodY5pDat"
   },
   "source": [
    "### Log-Transform\n",
    "\n",
    "If the target is right-skewed, you may want to “log transform” the target.\n",
    "\n",
    "\n",
    "> Transforming the target variable (using the mathematical log function) into a tighter, more uniform space makes life easier for any [regression] model.\n",
    ">\n",
    "> The only problem is that, while easy to execute, understanding why taking the log of the target variable works and how it affects the training/testing process is intellectually challenging. You can skip this section for now, if you like, but just remember that this technique exists and check back here if needed in the future.\n",
    ">\n",
    "> Optimally, the distribution of prices would be a narrow “bell curve” distribution without a tail. This would make predictions based upon average prices more accurate. We need a mathematical operation that transforms the widely-distributed target prices into a new space. The “price in dollars space” has a long right tail because of outliers and we want to squeeze that space into a new space that is normally distributed. More specifically, we need to shrink large values a lot and smaller values a little. That magic operation is called the logarithm or log for short. \n",
    ">\n",
    "> To make actual predictions, we have to take the exp of model predictions to get prices in dollars instead of log dollars. \n",
    ">\n",
    ">— Terence Parr & Jeremy Howard, [The Mechanics of Machine Learning, Chapter 5.5](https://mlbook.explained.ai/prep.html#logtarget)\n",
    "\n",
    "[Numpy has exponents and logarithms](https://docs.scipy.org/doc/numpy/reference/routines.math.html#exponents-and-logarithms). Your Python code could look like this:\n",
    "\n",
    "```python\n",
    "import numpy as np\n",
    "y_train_log = np.log1p(y_train)\n",
    "model.fit(X_train, y_train_log)\n",
    "y_pred_log = model.predict(X_val)\n",
    "y_pred = np.expm1(y_pred_log)\n",
    "print(mean_absolute_error(y_val, y_pred))\n",
    "```"
   ]
  },
  {
   "cell_type": "code",
   "execution_count": null,
   "metadata": {
    "colab": {},
    "colab_type": "code",
    "id": "DnSwXG11pDau"
   },
   "outputs": [],
   "source": [
    "sns.distplot(y)\n",
    "plt.title('Original target, in the unit of US dollars');"
   ]
  },
  {
   "cell_type": "code",
   "execution_count": null,
   "metadata": {
    "colab": {},
    "colab_type": "code",
    "id": "vFGJ7VIzpDa0"
   },
   "outputs": [],
   "source": [
    "y_log = np.log1p(y)\n",
    "sns.distplot(y_log)\n",
    "plt.title('Log-transformed target, in log-dollars');"
   ]
  },
  {
   "cell_type": "code",
   "execution_count": null,
   "metadata": {
    "colab": {},
    "colab_type": "code",
    "id": "IFFrYNivpDa5"
   },
   "outputs": [],
   "source": [
    "y_untransformed = np.expm1(y_log)\n",
    "sns.distplot(y_untransformed)\n",
    "plt.title('Back to the original units');"
   ]
  },
  {
   "cell_type": "markdown",
   "metadata": {
    "colab_type": "text",
    "id": "SIfiCYD_pDa9"
   },
   "source": [
    "## Challenge\n",
    "\n",
    "You will use your portfolio project dataset for all assignments this sprint. (If you haven't found a dataset yet, do that today. [Review requirements for your portfolio project](https://lambdaschool.github.io/ds/unit2) and choose your dataset.)\n",
    "\n",
    "Complete these tasks for your project, and document your decisions.\n",
    "\n",
    "- Choose your target. Which column in your tabular dataset will you predict?\n",
    "- Is your problem regression or classification?\n",
    "- How is your target distributed?\n",
    "    - Classification: How many classes? Are the classes imbalanced?\n",
    "    - Regression: Is the target right-skewed? If so, you may want to log transform the target.\n",
    "- Choose your evaluation metric(s).\n",
    "    - Classification: Is your majority class frequency >= 50% and < 70% ? If so, you can just use accuracy if you want. Outside that range, accuracy could be misleading. What evaluation metric will you choose, in addition to or instead of accuracy?\n",
    "    - Regression: Will you use mean absolute error, root mean squared error, R^2, or other regression metrics?\n",
    "- Choose which observations you will use to train, validate, and test your model.\n",
    "    - Are some observations outliers? Will you exclude them?\n",
    "    - Will you do a random split or a time-based split?\n",
    "- Begin to clean and explore your data.\n",
    "- Begin to choose which features, if any, to exclude. Would some features \"leak\" future information?\n",
    "\n",
    "Some students worry, ***what if my model isn't “good”?*** Then, [produce a detailed tribute to your wrongness. That is science!](https://twitter.com/nathanwpyle/status/1176860147223867393)"
   ]
  }
 ],
 "metadata": {
  "colab": {
   "name": "LS_DS_231.ipynb",
   "provenance": []
  },
  "kernelspec": {
   "display_name": "Python 3",
   "language": "python",
   "name": "python3"
  },
  "language_info": {
   "codemirror_mode": {
    "name": "ipython",
    "version": 3
   },
   "file_extension": ".py",
   "mimetype": "text/x-python",
   "name": "python",
   "nbconvert_exporter": "python",
   "pygments_lexer": "ipython3",
   "version": "3.6.5"
  }
 },
 "nbformat": 4,
 "nbformat_minor": 4
}
