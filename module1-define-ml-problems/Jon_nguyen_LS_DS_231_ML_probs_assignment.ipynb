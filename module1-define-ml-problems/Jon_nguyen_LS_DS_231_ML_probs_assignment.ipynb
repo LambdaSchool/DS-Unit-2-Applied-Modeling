{
  "nbformat": 4,
  "nbformat_minor": 0,
  "metadata": {
    "kernelspec": {
      "display_name": "Python 3",
      "language": "python",
      "name": "python3"
    },
    "language_info": {
      "codemirror_mode": {
        "name": "ipython",
        "version": 3
      },
      "file_extension": ".py",
      "mimetype": "text/x-python",
      "name": "python",
      "nbconvert_exporter": "python",
      "pygments_lexer": "ipython3",
      "version": "3.7.6"
    },
    "colab": {
      "name": "Jon_nguyen_LS_DS_231_ML_probs_assignment.ipynb",
      "provenance": [],
      "include_colab_link": true
    }
  },
  "cells": [
    {
      "cell_type": "markdown",
      "metadata": {
        "id": "view-in-github",
        "colab_type": "text"
      },
      "source": [
        "<a href=\"https://colab.research.google.com/github/JonNData/DS-Unit-2-Applied-Modeling/blob/master/module1-define-ml-problems/Jon_nguyen_LS_DS_231_ML_probs_assignment.ipynb\" target=\"_parent\"><img src=\"https://colab.research.google.com/assets/colab-badge.svg\" alt=\"Open In Colab\"/></a>"
      ]
    },
    {
      "cell_type": "markdown",
      "metadata": {
        "colab_type": "text",
        "id": "nCc3XZEyG3XV"
      },
      "source": [
        "Lambda School Data Science\n",
        "\n",
        "*Unit 2, Sprint 3, Module 1*\n",
        "\n",
        "---\n",
        "\n",
        "\n",
        "# Define ML problems\n",
        "\n",
        "You will use your portfolio project dataset for all assignments this sprint.\n",
        "\n",
        "## Assignment\n",
        "\n",
        "Complete these tasks for your project, and document your decisions.\n",
        "\n",
        "- [ ] Choose your target. Which column in your tabular dataset will you predict?\n",
        "- [ ] Is your problem regression or classification?\n",
        "- [ ] How is your target distributed?\n",
        "    - Classification: How many classes? Are the classes imbalanced?\n",
        "    - Regression: Is the target right-skewed? If so, you may want to log transform the target.\n",
        "- [ ] Choose your evaluation metric(s).\n",
        "    - Classification: Is your majority class frequency >= 50% and < 70% ? If so, you can just use accuracy if you want. Outside that range, accuracy could be misleading. What evaluation metric will you choose, in addition to or instead of accuracy?\n",
        "    - Regression: Will you use mean absolute error, root mean squared error, R^2, or other regression metrics?\n",
        "- [ ] Choose which observations you will use to train, validate, and test your model.\n",
        "    - Are some observations outliers? Will you exclude them?\n",
        "    - Will you do a random split or a time-based split?\n",
        "- [ ] Begin to clean and explore your data.\n",
        "- [ ] Begin to choose which features, if any, to exclude. Would some features \"leak\" future information?\n",
        "\n",
        "If you haven't found a dataset yet, do that today. [Review requirements for your portfolio project](https://lambdaschool.github.io/ds/unit2) and choose your dataset.\n",
        "\n",
        "Some students worry, ***what if my model isn't “good”?*** Then, [produce a detailed tribute to your wrongness. That is science!](https://twitter.com/nathanwpyle/status/1176860147223867393)"
      ]
    },
    {
      "cell_type": "code",
      "metadata": {
        "id": "IzUJcZwSI5w8",
        "colab_type": "code",
        "colab": {}
      },
      "source": [
        "# Choose your target. Which column in your tabular dataset will you predict?\n",
        "df1 = pd.read_csv('vehicles_trimmed.csv')\n"
      ],
      "execution_count": 0,
      "outputs": []
    },
    {
      "cell_type": "code",
      "metadata": {
        "id": "vIg8YjJhpoB9",
        "colab_type": "code",
        "colab": {}
      },
      "source": [
        "# Choose target\n",
        "target = 'price'"
      ],
      "execution_count": 0,
      "outputs": []
    },
    {
      "cell_type": "code",
      "metadata": {
        "id": "d0zoOfa_pqVM",
        "colab_type": "code",
        "colab": {}
      },
      "source": [
        "# Is your problem regression or classification?\n",
        "# Regression, predicting a continuous variable with many levels"
      ],
      "execution_count": 0,
      "outputs": []
    },
    {
      "cell_type": "code",
      "metadata": {
        "id": "9imibDN2psRM",
        "colab_type": "code",
        "colab": {}
      },
      "source": [
        "# Target distribution\n",
        "\n",
        "sns.distplot(df1['price'])"
      ],
      "execution_count": 0,
      "outputs": []
    },
    {
      "cell_type": "code",
      "metadata": {
        "id": "yPADEdQfpuY0",
        "colab_type": "code",
        "colab": {}
      },
      "source": [
        "print(np.median(df1['price']))\n",
        "y.describe()\n",
        "# Very right skewed but the 0s are holding it back even more. \n",
        "# Let's look at logs"
      ],
      "execution_count": 0,
      "outputs": []
    },
    {
      "cell_type": "code",
      "metadata": {
        "id": "D9ucbdUwpvBs",
        "colab_type": "code",
        "colab": {}
      },
      "source": [
        "y = df1['price']\n",
        "y_log = np.log1p(y)\n",
        "sns.distplot(y_log)"
      ],
      "execution_count": 0,
      "outputs": []
    },
    {
      "cell_type": "code",
      "metadata": {
        "id": "LT_ZjJoZpydk",
        "colab_type": "code",
        "colab": {}
      },
      "source": [
        "# Chop out some outliers\n",
        "df2 = df1[(df1['price'] >= np.percentile(df1['price'], 10)) &\n",
        "          (df['price'] <= np.percentile(df1['price'], 99.95))]\n",
        "df2['price'].describe()"
      ],
      "execution_count": 0,
      "outputs": []
    },
    {
      "cell_type": "code",
      "metadata": {
        "id": "JALwrLYnpz1s",
        "colab_type": "code",
        "colab": {}
      },
      "source": [
        "y = np.log1p(df2['price'])\n",
        "sns.distplot(y)"
      ],
      "execution_count": 0,
      "outputs": []
    },
    {
      "cell_type": "code",
      "metadata": {
        "id": "1mD6FbDkp1rk",
        "colab_type": "code",
        "colab": {}
      },
      "source": [
        "y = y.replace(0, np.NaN)\n",
        "sns.distplot(y)\n",
        "# Now it's left skewed"
      ],
      "execution_count": 0,
      "outputs": []
    },
    {
      "cell_type": "code",
      "metadata": {
        "id": "qsbbrtJop2-k",
        "colab_type": "code",
        "colab": {}
      },
      "source": [
        "y.describe()"
      ],
      "execution_count": 0,
      "outputs": []
    },
    {
      "cell_type": "code",
      "metadata": {
        "id": "EqYJx65Xp4h0",
        "colab_type": "code",
        "colab": {}
      },
      "source": [
        "# Choose your evaluation metric(s).\n",
        "\n",
        "# R^2 and perhaps MAE"
      ],
      "execution_count": 0,
      "outputs": []
    },
    {
      "cell_type": "code",
      "metadata": {
        "id": "6KLzjG_-p57U",
        "colab_type": "code",
        "colab": {}
      },
      "source": [
        "#Choose which observations you will use to train, validate, and test your model.\n",
        "train_orig, test = train_test_split(df2, test_size = 0.1, train_size = 0.9)\n",
        "test"
      ],
      "execution_count": 0,
      "outputs": []
    },
    {
      "cell_type": "code",
      "metadata": {
        "id": "RSWCRndMp7xE",
        "colab_type": "code",
        "colab": {}
      },
      "source": [
        "train, val = train_test_split(train_orig, train_size = 0.9, test_size = 0.1)\n",
        "train"
      ],
      "execution_count": 0,
      "outputs": []
    },
    {
      "cell_type": "code",
      "metadata": {
        "id": "6LHWJHJwp9XE",
        "colab_type": "code",
        "colab": {}
      },
      "source": [
        "#  Begin to clean and explore your data.\n",
        "# - [x] Begin to choose which features, if any, to exclude. Would some features \"leak\" future information?\n",
        "# Question about what to do with price distribution: should I keep closing in the quartiles until the lower hump is left out?\n",
        "# NaNs? Get rid of them?"
      ],
      "execution_count": 0,
      "outputs": []
    }
  ]
}