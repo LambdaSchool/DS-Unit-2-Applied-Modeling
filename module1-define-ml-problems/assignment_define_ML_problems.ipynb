{
  "nbformat": 4,
  "nbformat_minor": 0,
  "metadata": {
    "kernelspec": {
      "display_name": "Python 3",
      "language": "python",
      "name": "python3"
    },
    "language_info": {
      "codemirror_mode": {
        "name": "ipython",
        "version": 3
      },
      "file_extension": ".py",
      "mimetype": "text/x-python",
      "name": "python",
      "nbconvert_exporter": "python",
      "pygments_lexer": "ipython3",
      "version": "3.7.4"
    },
    "colab": {
      "name": "assignment_define_ML_problems.ipynb",
      "provenance": [],
      "include_colab_link": true
    }
  },
  "cells": [
    {
      "cell_type": "markdown",
      "metadata": {
        "id": "view-in-github",
        "colab_type": "text"
      },
      "source": [
        "<a href=\"https://colab.research.google.com/github/kellischeuble/DS-Unit-2-Applied-Modeling/blob/master/module1-define-ml-problems/assignment_define_ML_problems.ipynb\" target=\"_parent\"><img src=\"https://colab.research.google.com/assets/colab-badge.svg\" alt=\"Open In Colab\"/></a>"
      ]
    },
    {
      "cell_type": "markdown",
      "metadata": {
        "colab_type": "text",
        "id": "nCc3XZEyG3XV"
      },
      "source": [
        "Lambda School Data Science\n",
        "\n",
        "*Unit 2, Sprint 3, Module 1*\n",
        "\n",
        "---\n",
        "\n",
        "\n",
        "# Define ML problems\n",
        "\n",
        "You will use your portfolio project dataset for all assignments this sprint.\n",
        "\n",
        "## Assignment\n",
        "\n",
        "Complete these tasks for your project, and document your decisions.\n",
        "\n",
        "- [ ] Choose your target. Which column in your tabular dataset will you predict?\n",
        "- [ ] Is your problem regression or classification?\n",
        "- [ ] How is your target distributed?\n",
        "    - Classification: How many classes? Are the classes imbalanced?\n",
        "    - Regression: Is the target right-skewed? If so, you may want to log transform the target.\n",
        "- [ ] Choose your evaluation metric(s).\n",
        "    - Classification: Is your majority class frequency >= 50% and < 70% ? If so, you can just use accuracy if you want. Outside that range, accuracy could be misleading. What evaluation metric will you choose, in addition to or instead of accuracy?\n",
        "    - Regression: Will you use mean absolute error, root mean squared error, R^2, or other regression metrics?\n",
        "- [ ] Choose which observations you will use to train, validate, and test your model.\n",
        "    - Are some observations outliers? Will you exclude them?\n",
        "    - Will you do a random split or a time-based split?\n",
        "- [ ] Begin to clean and explore your data.\n",
        "- [ ] Begin to choose which features, if any, to exclude. Would some features \"leak\" future information?\n",
        "\n",
        "If you haven't found a dataset yet, do that today. [Review requirements for your portfolio project](https://lambdaschool.github.io/ds/unit2) and choose your dataset.\n",
        "\n",
        "Some students worry, ***what if my model isn't “good”?*** Then, [produce a detailed tribute to your wrongness. That is science!](https://twitter.com/nathanwpyle/status/1176860147223867393)"
      ]
    },
    {
      "cell_type": "code",
      "metadata": {
        "id": "U48UPY3YqnQI",
        "colab_type": "code",
        "colab": {}
      },
      "source": [
        "import pandas as pd\n",
        "from sklearn.model_selection import train_test_split"
      ],
      "execution_count": 0,
      "outputs": []
    },
    {
      "cell_type": "code",
      "metadata": {
        "id": "p7S6YGcBqnQm",
        "colab_type": "code",
        "colab": {}
      },
      "source": [
        "df = pd.read_csv('MACH_data/data.csv', sep='\\t')"
      ],
      "execution_count": 0,
      "outputs": []
    },
    {
      "cell_type": "code",
      "metadata": {
        "id": "y97UlEyfqnQz",
        "colab_type": "code",
        "colab": {},
        "outputId": "9a73459e-a6d9-42c1-c981-5fdb0757e9c0"
      },
      "source": [
        "df.head()"
      ],
      "execution_count": 0,
      "outputs": [
        {
          "output_type": "execute_result",
          "data": {
            "text/html": [
              "<div>\n",
              "<style scoped>\n",
              "    .dataframe tbody tr th:only-of-type {\n",
              "        vertical-align: middle;\n",
              "    }\n",
              "\n",
              "    .dataframe tbody tr th {\n",
              "        vertical-align: top;\n",
              "    }\n",
              "\n",
              "    .dataframe thead th {\n",
              "        text-align: right;\n",
              "    }\n",
              "</style>\n",
              "<table border=\"1\" class=\"dataframe\">\n",
              "  <thead>\n",
              "    <tr style=\"text-align: right;\">\n",
              "      <th></th>\n",
              "      <th>Q1A</th>\n",
              "      <th>Q1I</th>\n",
              "      <th>Q1E</th>\n",
              "      <th>Q2A</th>\n",
              "      <th>Q2I</th>\n",
              "      <th>Q2E</th>\n",
              "      <th>Q3A</th>\n",
              "      <th>Q3I</th>\n",
              "      <th>Q3E</th>\n",
              "      <th>Q4A</th>\n",
              "      <th>...</th>\n",
              "      <th>screenw</th>\n",
              "      <th>screenh</th>\n",
              "      <th>hand</th>\n",
              "      <th>religion</th>\n",
              "      <th>orientation</th>\n",
              "      <th>race</th>\n",
              "      <th>voted</th>\n",
              "      <th>married</th>\n",
              "      <th>familysize</th>\n",
              "      <th>major</th>\n",
              "    </tr>\n",
              "  </thead>\n",
              "  <tbody>\n",
              "    <tr>\n",
              "      <th>0</th>\n",
              "      <td>3.0</td>\n",
              "      <td>6.0</td>\n",
              "      <td>21017.0</td>\n",
              "      <td>3.0</td>\n",
              "      <td>7.0</td>\n",
              "      <td>18600.0</td>\n",
              "      <td>5.0</td>\n",
              "      <td>20.0</td>\n",
              "      <td>14957.0</td>\n",
              "      <td>2.0</td>\n",
              "      <td>...</td>\n",
              "      <td>1440.0</td>\n",
              "      <td>900.0</td>\n",
              "      <td>1</td>\n",
              "      <td>7</td>\n",
              "      <td>1</td>\n",
              "      <td>30</td>\n",
              "      <td>1</td>\n",
              "      <td>2</td>\n",
              "      <td>5</td>\n",
              "      <td>Marketing</td>\n",
              "    </tr>\n",
              "    <tr>\n",
              "      <th>1</th>\n",
              "      <td>5.0</td>\n",
              "      <td>17.0</td>\n",
              "      <td>3818.0</td>\n",
              "      <td>5.0</td>\n",
              "      <td>9.0</td>\n",
              "      <td>7850.0</td>\n",
              "      <td>1.0</td>\n",
              "      <td>16.0</td>\n",
              "      <td>5902.0</td>\n",
              "      <td>3.0</td>\n",
              "      <td>...</td>\n",
              "      <td>1536.0</td>\n",
              "      <td>864.0</td>\n",
              "      <td>1</td>\n",
              "      <td>1</td>\n",
              "      <td>1</td>\n",
              "      <td>60</td>\n",
              "      <td>2</td>\n",
              "      <td>1</td>\n",
              "      <td>2</td>\n",
              "      <td>mathematics</td>\n",
              "    </tr>\n",
              "    <tr>\n",
              "      <th>2</th>\n",
              "      <td>5.0</td>\n",
              "      <td>16.0</td>\n",
              "      <td>4186.0</td>\n",
              "      <td>5.0</td>\n",
              "      <td>12.0</td>\n",
              "      <td>2900.0</td>\n",
              "      <td>1.0</td>\n",
              "      <td>2.0</td>\n",
              "      <td>7160.0</td>\n",
              "      <td>1.0</td>\n",
              "      <td>...</td>\n",
              "      <td>375.0</td>\n",
              "      <td>667.0</td>\n",
              "      <td>1</td>\n",
              "      <td>2</td>\n",
              "      <td>2</td>\n",
              "      <td>10</td>\n",
              "      <td>2</td>\n",
              "      <td>1</td>\n",
              "      <td>2</td>\n",
              "      <td>Chemistry</td>\n",
              "    </tr>\n",
              "    <tr>\n",
              "      <th>3</th>\n",
              "      <td>2.0</td>\n",
              "      <td>12.0</td>\n",
              "      <td>9373.0</td>\n",
              "      <td>4.0</td>\n",
              "      <td>1.0</td>\n",
              "      <td>10171.0</td>\n",
              "      <td>2.0</td>\n",
              "      <td>7.0</td>\n",
              "      <td>10117.0</td>\n",
              "      <td>1.0</td>\n",
              "      <td>...</td>\n",
              "      <td>1280.0</td>\n",
              "      <td>720.0</td>\n",
              "      <td>1</td>\n",
              "      <td>6</td>\n",
              "      <td>1</td>\n",
              "      <td>60</td>\n",
              "      <td>1</td>\n",
              "      <td>3</td>\n",
              "      <td>2</td>\n",
              "      <td>international relations</td>\n",
              "    </tr>\n",
              "    <tr>\n",
              "      <th>4</th>\n",
              "      <td>5.0</td>\n",
              "      <td>13.0</td>\n",
              "      <td>9465.0</td>\n",
              "      <td>5.0</td>\n",
              "      <td>7.0</td>\n",
              "      <td>5284.0</td>\n",
              "      <td>2.0</td>\n",
              "      <td>19.0</td>\n",
              "      <td>8872.0</td>\n",
              "      <td>1.0</td>\n",
              "      <td>...</td>\n",
              "      <td>360.0</td>\n",
              "      <td>640.0</td>\n",
              "      <td>1</td>\n",
              "      <td>4</td>\n",
              "      <td>3</td>\n",
              "      <td>60</td>\n",
              "      <td>1</td>\n",
              "      <td>1</td>\n",
              "      <td>2</td>\n",
              "      <td>Management</td>\n",
              "    </tr>\n",
              "  </tbody>\n",
              "</table>\n",
              "<p>5 rows × 105 columns</p>\n",
              "</div>"
            ],
            "text/plain": [
              "   Q1A   Q1I      Q1E  Q2A   Q2I      Q2E  Q3A   Q3I      Q3E  Q4A  ...  \\\n",
              "0  3.0   6.0  21017.0  3.0   7.0  18600.0  5.0  20.0  14957.0  2.0  ...   \n",
              "1  5.0  17.0   3818.0  5.0   9.0   7850.0  1.0  16.0   5902.0  3.0  ...   \n",
              "2  5.0  16.0   4186.0  5.0  12.0   2900.0  1.0   2.0   7160.0  1.0  ...   \n",
              "3  2.0  12.0   9373.0  4.0   1.0  10171.0  2.0   7.0  10117.0  1.0  ...   \n",
              "4  5.0  13.0   9465.0  5.0   7.0   5284.0  2.0  19.0   8872.0  1.0  ...   \n",
              "\n",
              "   screenw  screenh  hand  religion  orientation  race  voted  married  \\\n",
              "0   1440.0    900.0     1         7            1    30      1        2   \n",
              "1   1536.0    864.0     1         1            1    60      2        1   \n",
              "2    375.0    667.0     1         2            2    10      2        1   \n",
              "3   1280.0    720.0     1         6            1    60      1        3   \n",
              "4    360.0    640.0     1         4            3    60      1        1   \n",
              "\n",
              "   familysize                    major  \n",
              "0           5               Marketing   \n",
              "1           2              mathematics  \n",
              "2           2                Chemistry  \n",
              "3           2  international relations  \n",
              "4           2               Management  \n",
              "\n",
              "[5 rows x 105 columns]"
            ]
          },
          "metadata": {
            "tags": []
          },
          "execution_count": 3
        }
      ]
    },
    {
      "cell_type": "code",
      "metadata": {
        "id": "V_dbqYt5qnRE",
        "colab_type": "code",
        "colab": {},
        "outputId": "0e40ee73-c0d1-484a-e4a9-db386005df2b"
      },
      "source": [
        "columns = df.columns.tolist()\n",
        "print(columns)"
      ],
      "execution_count": 0,
      "outputs": [
        {
          "output_type": "stream",
          "text": [
            "['Q1A', 'Q1I', 'Q1E', 'Q2A', 'Q2I', 'Q2E', 'Q3A', 'Q3I', 'Q3E', 'Q4A', 'Q4I', 'Q4E', 'Q5A', 'Q5I', 'Q5E', 'Q6A', 'Q6I', 'Q6E', 'Q7A', 'Q7I', 'Q7E', 'Q8A', 'Q8I', 'Q8E', 'Q9A', 'Q9I', 'Q9E', 'Q10A', 'Q10I', 'Q10E', 'Q11A', 'Q11I', 'Q11E', 'Q12A', 'Q12I', 'Q12E', 'Q13A', 'Q13I', 'Q13E', 'Q14A', 'Q14I', 'Q14E', 'Q15A', 'Q15I', 'Q15E', 'Q16A', 'Q16I', 'Q16E', 'Q17A', 'Q17I', 'Q17E', 'Q18A', 'Q18I', 'Q18E', 'Q19A', 'Q19I', 'Q19E', 'Q20A', 'Q20I', 'Q20E', 'country', 'introelapse', 'testelapse', 'surveyelapse', 'TIPI1', 'TIPI2', 'TIPI3', 'TIPI4', 'TIPI5', 'TIPI6', 'TIPI7', 'TIPI8', 'TIPI9', 'TIPI10', 'VCL1', 'VCL2', 'VCL3', 'VCL4', 'VCL5', 'VCL6', 'VCL7', 'VCL8', 'VCL9', 'VCL10', 'VCL11', 'VCL12', 'VCL13', 'VCL14', 'VCL15', 'VCL16', 'education', 'urban', 'gender', 'engnat', 'age', 'screenw', 'screenh', 'hand', 'religion', 'orientation', 'race', 'voted', 'married', 'familysize', 'major']\n"
          ],
          "name": "stdout"
        }
      ]
    },
    {
      "cell_type": "code",
      "metadata": {
        "id": "5FjQvafwqnRS",
        "colab_type": "code",
        "colab": {},
        "outputId": "d3ab0b79-15eb-44d1-de82-fea8305e6bd4"
      },
      "source": [
        "# I am most interested in religion\n",
        "# this is a classification problem\n",
        "# 13 classes currently (might combine later)\n",
        "\n",
        "df['religion'].value_counts(dropna=False)"
      ],
      "execution_count": 0,
      "outputs": [
        {
          "output_type": "execute_result",
          "data": {
            "text/plain": [
              "2     17236\n",
              "1     15114\n",
              "4      9979\n",
              "7      7831\n",
              "12     7463\n",
              "6      7115\n",
              "10     2540\n",
              "8      2047\n",
              "3      1506\n",
              "0      1138\n",
              "9       754\n",
              "5       601\n",
              "11      165\n",
              "Name: religion, dtype: int64"
            ]
          },
          "metadata": {
            "tags": []
          },
          "execution_count": 5
        }
      ]
    },
    {
      "cell_type": "code",
      "metadata": {
        "id": "AGYBcUCeqnRe",
        "colab_type": "code",
        "colab": {},
        "outputId": "091263fe-8911-48b9-8eac-87c1ec4b2b86"
      },
      "source": [
        "df['religion'].value_counts(normalize=True)"
      ],
      "execution_count": 0,
      "outputs": [
        {
          "output_type": "execute_result",
          "data": {
            "text/plain": [
              "2     0.234539\n",
              "1     0.205663\n",
              "4     0.135789\n",
              "7     0.106560\n",
              "12    0.101553\n",
              "6     0.096817\n",
              "10    0.034563\n",
              "8     0.027855\n",
              "3     0.020493\n",
              "0     0.015485\n",
              "9     0.010260\n",
              "5     0.008178\n",
              "11    0.002245\n",
              "Name: religion, dtype: float64"
            ]
          },
          "metadata": {
            "tags": []
          },
          "execution_count": 6
        }
      ]
    },
    {
      "cell_type": "code",
      "metadata": {
        "id": "5Y-8aEsUqnRo",
        "colab_type": "code",
        "colab": {}
      },
      "source": [
        "# I will use percision or recall as my classification metric.. not sure what, yet\n",
        "# probably percision"
      ],
      "execution_count": 0,
      "outputs": []
    },
    {
      "cell_type": "code",
      "metadata": {
        "id": "J7nFviGwqnRy",
        "colab_type": "code",
        "colab": {}
      },
      "source": [
        "# 2=Atheist \n",
        "# 1=Agnostic \n",
        "# 4=Christian (Catholic)\n",
        "# 7=Christian (Other)\n",
        "# 12=Other\n",
        "# 6=Christian (Protestant)\n",
        "# 10=Muslim\n",
        "# 8=Hindu,\n",
        "# 3=Buddhist\n",
        "# 0=Unchecked\n",
        "# 9=Jewish\n",
        "# 5=Christian (Mormon)\n",
        "# 11=Sikh"
      ],
      "execution_count": 0,
      "outputs": []
    },
    {
      "cell_type": "code",
      "metadata": {
        "id": "oeUJDmZCqnR9",
        "colab_type": "code",
        "colab": {}
      },
      "source": [
        "# if I were to simply guess the majority class, I would guess Athiest every\n",
        "# time, and be correct about 23% of the time"
      ],
      "execution_count": 0,
      "outputs": []
    },
    {
      "cell_type": "code",
      "metadata": {
        "id": "2bYezCYwqnSJ",
        "colab_type": "code",
        "colab": {}
      },
      "source": [
        "# time isn't a factor, so I will do random split"
      ],
      "execution_count": 0,
      "outputs": []
    },
    {
      "cell_type": "code",
      "metadata": {
        "id": "dlcVJGnFqnSX",
        "colab_type": "code",
        "colab": {}
      },
      "source": [
        "# main body consisted of 20 quesitons\n",
        "questions = {\n",
        "    \"Q1\" : \"Never tell anyone the real reason you did something unless it is useful to do so.\",\n",
        "    \"Q2\" : \"The best way to handle people is to tell them what they want to hear.\",\n",
        "    \"Q3\" : \"One should take action only when sure it is morally right.\",\n",
        "    \"Q4\" : \"Most people are basically good and kind.\",\n",
        "    \"Q5\" : \"It is safest to assume that all people have a vicious streak and it will come out when they are given a chance.\",\n",
        "    \"Q6\" : \"Honesty is the best policy in all cases.\",\n",
        "    \"Q7\" : \"There is no excuse for lying to someone else.\",\n",
        "    \"Q8\" : \"Generally speaking, people won't work hard unless they're forced to do so.\",\n",
        "    \"Q9\" : \"All in all, it is better to be humble and honest than to be important and dishonest.\",\n",
        "    \"Q10\" : \"When you ask someone to do something for you, it is best to give the real reasons for wanting it rather than giving reasons which carry more weight.\",\n",
        "    \"Q11\" : \"Most people who get ahead in the world lead clean, moral lives.\",\n",
        "    \"Q12\" : \"Anyone who completely trusts anyone else is asking for trouble.\",\n",
        "    \"Q13\" : \"The biggest difference between most criminals and other people is that the criminals are stupid enough to get caught.\",\n",
        "    \"Q14\" : \"Most people are brave.\",\n",
        "    \"Q15\" : \"It is wise to flatter important people.\",\n",
        "    \"Q16\" : \"It is possible to be good in all respects.\",\n",
        "    \"Q17\" : \"P.T. Barnum was wrong when he said that there's a sucker born every minute.\",\n",
        "    \"Q18\" : \"It is hard to get ahead without cutting corners here and there.\",\n",
        "    \"Q19\" : \"People suffering from incurable diseases should have the choice of being put painlessly to death.\",\n",
        "    \"Q20\" : \"Most people forget more easily the death of their parents than the loss of their property.\"\n",
        "    }\n",
        "\n",
        "# possible answers were represented on a 5 point scale\n",
        "Q_scale = {\n",
        "    1:'Disagree', \n",
        "    2:'Slightly disagree', \n",
        "    3:'Neutral', \n",
        "    4:'Slightly agree', \n",
        "    5:'Agree'\n",
        "}\n",
        "\n",
        "# A = answer\n",
        "# I = position of item it was in the survey\n",
        "# E = time spent on question in milliseconds\n",
        "\n",
        "\n",
        "# this data only consists of people who choose to answer\n",
        "# these next questions...\n",
        "# brief measure of big five personality domains\n",
        "\n",
        "personality_inventory = {\n",
        "    'TIPI1': 'extraverted_enthusiastic', \n",
        "    'TIPI2': 'critical_quarrelsome', \n",
        "    'TIPI3': 'dependable_selfdisciplined', \n",
        "    'TIPI4': 'anxious_easily_upset', \n",
        "    'TIPI5':'open_to_new_experiences_complex', \n",
        "    'TIPI6': 'reserved_quiet', \n",
        "    'TIPI7': 'sympathetic_warm', \n",
        "    'TIPI8':'disorganized_careless', \n",
        "    'TIPI9':'calm_emotionally_stable',\n",
        "    'TIP10': 'conventional_uncreative'\n",
        "}\n",
        "\n",
        "# rated \"I see myself as:\" _______ such that\n",
        "TIP_rating_scale = {\n",
        "    1:'Disagree strongly',\n",
        "    2: 'Disagree moderately',\n",
        "    3: 'Disagree a little',\n",
        "    4:'Neither agree nor disagree',\n",
        "    5:'Agree a little',\n",
        "    6:'Agree moderately',\n",
        "    7:'Agree strongly'\n",
        "}\n",
        "\n",
        "\n",
        "# these words were presentted as a check-list and subjects were instructed\n",
        "# to check all of thte words whose definitions they are sure they know:\n",
        "# 1 = checked\n",
        "# 0 = unchecked\n",
        "# words at VCL6, VCL9, and VCL12 are not real words\n",
        "\n",
        "known_words= {\n",
        "    'VCL1':'boat',\n",
        "    'VCL2':'incoherent',\n",
        "    'VCL3':'pallid',\n",
        "    'VCL4':'robot',\n",
        "    'VCL5':'audible',\n",
        "    'VCL6':'cuivocal_fale',\n",
        "    'VCL7':'paucity',\n",
        "    'VCL8':'epistemology',\n",
        "    'VCL9':'florted_fake',\n",
        "    'VCL10':'decide',\n",
        "    'VCL11':'pastiche',\n",
        "    'VCL12':'verdid_fake',\n",
        "    'VCL13':'abysmal',\n",
        "    'VCL14':'lucid',\n",
        "    'VCL15':'betray',\n",
        "    'VCL16':'funny'\n",
        "}\n",
        "\n",
        "\n",
        "# more questions that were asked...\n",
        "\n",
        "education_level = {\n",
        "    1:'Less than high school', \n",
        "    2:'High school', \n",
        "    3:'University degree', \n",
        "    4:'Graduate degree'\n",
        "}\n",
        "\n",
        "area_lived_when_child = {\n",
        "    1:'Rural (country side)', \n",
        "    2:'Suburban', \n",
        "    3:'Urban (town, city)'\n",
        "}\n",
        "\n",
        "gender = {\n",
        "    1:'Male',\n",
        "    2:'Female',\n",
        "    3:'Other'\n",
        "}\n",
        "\n",
        "english_native_language = {\n",
        "    1:'Yes',\n",
        "    2:'No'\n",
        "}\n",
        "\n",
        "dominant_hand = {\n",
        "    1:'Right',\n",
        "    2:'Left',\n",
        "    0:'Both'\n",
        "}\n",
        "\n",
        "religion = {\n",
        "    0:'Unchecked',\n",
        "    1:'Agnostic',\n",
        "    2:'Atheist',\n",
        "    3:'Buddhist',\n",
        "    4:'Christian (Catholic)',\n",
        "    5:'Christian (Mormon)',\n",
        "    6:'Christian (Protestant)',\n",
        "    7:'Christian (Other)',\n",
        "    8:'Hindu',\n",
        "    9:'Jewish',\n",
        "    10:'Muslim',\n",
        "    11:'Sikh',\n",
        "    12:'Other'\n",
        "}\n",
        "\n",
        "sexual_orientation = {\n",
        "    1:'Heterosexual',\n",
        "    2:'Bisexual', \n",
        "    3:'Homosexual', \n",
        "    4:'Asexual', \n",
        "    5:'Other'\n",
        "}\n",
        "\n",
        "race = {\n",
        "    10:'Asian',\n",
        "    20:'Arab', \n",
        "    30:'Black',\n",
        "    40:'Indigenous Australian',\n",
        "    50:'Native American', \n",
        "    60:'White',\n",
        "    70:'Other'\n",
        "}\n",
        "\n",
        "voted_past_year = {\n",
        "    1:'yes',\n",
        "    2:'no'\n",
        "}\n",
        "\n",
        "marital_status = {\n",
        "    1:'Never married', \n",
        "    2:'Currently married', \n",
        "    3:'Previously married'\n",
        "}\n",
        "\n",
        "# country, screenw, screenh were calculated by server. \n",
        "# we don't care about that. (maybe country)\n",
        "\n",
        "# time spent on each page was recorded in seconds\n",
        "# introelapse\n",
        "# testelapse\n",
        "# surveyelapse"
      ],
      "execution_count": 0,
      "outputs": []
    },
    {
      "cell_type": "code",
      "metadata": {
        "id": "WQb7bINtqnSp",
        "colab_type": "code",
        "colab": {},
        "outputId": "c1b018be-3e11-4f7c-e4c8-cac642a940c4"
      },
      "source": [
        "pd.options.display.max_rows = 999\n",
        "df.isnull().sum()\n",
        "\n",
        "\n",
        "df[df['Q1A'].isnull()]"
      ],
      "execution_count": 0,
      "outputs": [
        {
          "output_type": "execute_result",
          "data": {
            "text/html": [
              "<div>\n",
              "<style scoped>\n",
              "    .dataframe tbody tr th:only-of-type {\n",
              "        vertical-align: middle;\n",
              "    }\n",
              "\n",
              "    .dataframe tbody tr th {\n",
              "        vertical-align: top;\n",
              "    }\n",
              "\n",
              "    .dataframe thead th {\n",
              "        text-align: right;\n",
              "    }\n",
              "</style>\n",
              "<table border=\"1\" class=\"dataframe\">\n",
              "  <thead>\n",
              "    <tr style=\"text-align: right;\">\n",
              "      <th></th>\n",
              "      <th>Q1A</th>\n",
              "      <th>Q1I</th>\n",
              "      <th>Q1E</th>\n",
              "      <th>Q2A</th>\n",
              "      <th>Q2I</th>\n",
              "      <th>Q2E</th>\n",
              "      <th>Q3A</th>\n",
              "      <th>Q3I</th>\n",
              "      <th>Q3E</th>\n",
              "      <th>Q4A</th>\n",
              "      <th>...</th>\n",
              "      <th>screenw</th>\n",
              "      <th>screenh</th>\n",
              "      <th>hand</th>\n",
              "      <th>religion</th>\n",
              "      <th>orientation</th>\n",
              "      <th>race</th>\n",
              "      <th>voted</th>\n",
              "      <th>married</th>\n",
              "      <th>familysize</th>\n",
              "      <th>major</th>\n",
              "    </tr>\n",
              "  </thead>\n",
              "  <tbody>\n",
              "    <tr>\n",
              "      <th>26286</th>\n",
              "      <td>NaN</td>\n",
              "      <td>NaN</td>\n",
              "      <td>NaN</td>\n",
              "      <td>NaN</td>\n",
              "      <td>NaN</td>\n",
              "      <td>NaN</td>\n",
              "      <td>NaN</td>\n",
              "      <td>NaN</td>\n",
              "      <td>NaN</td>\n",
              "      <td>NaN</td>\n",
              "      <td>...</td>\n",
              "      <td>360.0</td>\n",
              "      <td>640.0</td>\n",
              "      <td>1</td>\n",
              "      <td>2</td>\n",
              "      <td>1</td>\n",
              "      <td>20</td>\n",
              "      <td>2</td>\n",
              "      <td>1</td>\n",
              "      <td>2</td>\n",
              "      <td>NaN</td>\n",
              "    </tr>\n",
              "    <tr>\n",
              "      <th>31072</th>\n",
              "      <td>NaN</td>\n",
              "      <td>NaN</td>\n",
              "      <td>NaN</td>\n",
              "      <td>NaN</td>\n",
              "      <td>NaN</td>\n",
              "      <td>NaN</td>\n",
              "      <td>NaN</td>\n",
              "      <td>NaN</td>\n",
              "      <td>NaN</td>\n",
              "      <td>NaN</td>\n",
              "      <td>...</td>\n",
              "      <td>1440.0</td>\n",
              "      <td>900.0</td>\n",
              "      <td>1</td>\n",
              "      <td>6</td>\n",
              "      <td>1</td>\n",
              "      <td>30</td>\n",
              "      <td>1</td>\n",
              "      <td>2</td>\n",
              "      <td>3</td>\n",
              "      <td>math/science</td>\n",
              "    </tr>\n",
              "    <tr>\n",
              "      <th>33399</th>\n",
              "      <td>NaN</td>\n",
              "      <td>NaN</td>\n",
              "      <td>NaN</td>\n",
              "      <td>NaN</td>\n",
              "      <td>NaN</td>\n",
              "      <td>NaN</td>\n",
              "      <td>NaN</td>\n",
              "      <td>NaN</td>\n",
              "      <td>NaN</td>\n",
              "      <td>NaN</td>\n",
              "      <td>...</td>\n",
              "      <td>1366.0</td>\n",
              "      <td>768.0</td>\n",
              "      <td>1</td>\n",
              "      <td>4</td>\n",
              "      <td>1</td>\n",
              "      <td>60</td>\n",
              "      <td>2</td>\n",
              "      <td>2</td>\n",
              "      <td>5</td>\n",
              "      <td>Electronic Engineering</td>\n",
              "    </tr>\n",
              "  </tbody>\n",
              "</table>\n",
              "<p>3 rows × 105 columns</p>\n",
              "</div>"
            ],
            "text/plain": [
              "       Q1A  Q1I  Q1E  Q2A  Q2I  Q2E  Q3A  Q3I  Q3E  Q4A  ...  screenw  \\\n",
              "26286  NaN  NaN  NaN  NaN  NaN  NaN  NaN  NaN  NaN  NaN  ...    360.0   \n",
              "31072  NaN  NaN  NaN  NaN  NaN  NaN  NaN  NaN  NaN  NaN  ...   1440.0   \n",
              "33399  NaN  NaN  NaN  NaN  NaN  NaN  NaN  NaN  NaN  NaN  ...   1366.0   \n",
              "\n",
              "       screenh  hand  religion  orientation  race  voted  married  familysize  \\\n",
              "26286    640.0     1         2            1    20      2        1           2   \n",
              "31072    900.0     1         6            1    30      1        2           3   \n",
              "33399    768.0     1         4            1    60      2        2           5   \n",
              "\n",
              "                        major  \n",
              "26286                     NaN  \n",
              "31072            math/science  \n",
              "33399  Electronic Engineering  \n",
              "\n",
              "[3 rows x 105 columns]"
            ]
          },
          "metadata": {
            "tags": []
          },
          "execution_count": 12
        }
      ]
    },
    {
      "cell_type": "code",
      "metadata": {
        "id": "6qaLvXHvqnS5",
        "colab_type": "code",
        "colab": {}
      },
      "source": [
        "from pandas_profiling import ProfileReport\n",
        "profile = ProfileReport(train, minimal=True)\n",
        "\n",
        "profile.to_notebook_iframe()"
      ],
      "execution_count": 0,
      "outputs": []
    },
    {
      "cell_type": "code",
      "metadata": {
        "id": "yy3qIjNuqnTF",
        "colab_type": "code",
        "colab": {}
      },
      "source": [
        "# save as html file so that I don't have to run it every time....\n",
        "profile.to_file(output_file='mact_report.html')"
      ],
      "execution_count": 0,
      "outputs": []
    },
    {
      "cell_type": "code",
      "metadata": {
        "id": "OCXRMyj4qnTT",
        "colab_type": "code",
        "colab": {}
      },
      "source": [
        "train1, test = train_test_split(df, test_size= .2, random_state=42, stratify=df['religion'])"
      ],
      "execution_count": 0,
      "outputs": []
    },
    {
      "cell_type": "code",
      "metadata": {
        "id": "l4SYrlweqnTd",
        "colab_type": "code",
        "colab": {},
        "outputId": "a0896208-d23a-4b33-8a79-3c0ebe62006d"
      },
      "source": [
        "train1.shape, test.shape"
      ],
      "execution_count": 0,
      "outputs": [
        {
          "output_type": "execute_result",
          "data": {
            "text/plain": [
              "((58791, 105), (14698, 105))"
            ]
          },
          "metadata": {
            "tags": []
          },
          "execution_count": 15
        }
      ]
    },
    {
      "cell_type": "code",
      "metadata": {
        "id": "1VRtvYjrqnTq",
        "colab_type": "code",
        "colab": {}
      },
      "source": [
        "def wrangle(X):\n",
        "    \n",
        "    X = X.copy()\n",
        "    \n",
        "    # looks like all of the NaNs are together....\n",
        "    #drop these rows \n",
        "    X = X.dropna(thresh=45)\n",
        "    \n",
        "    # drop user's screen width bc I couldn't care less\n",
        "    X = X.drop(columns=['screenw', 'screenh'])\n",
        "    \n",
        "    return X\n",
        "\n",
        "train1 = wrangle(train1)\n",
        "test = wrangle(test)"
      ],
      "execution_count": 0,
      "outputs": []
    },
    {
      "cell_type": "code",
      "metadata": {
        "id": "KG-A7zbjqnT0",
        "colab_type": "code",
        "colab": {}
      },
      "source": [
        "train, val = train_test_split(train1, test_size=.20, stratify=train1['religion'], random_state=42)"
      ],
      "execution_count": 0,
      "outputs": []
    },
    {
      "cell_type": "code",
      "metadata": {
        "id": "A6_Sshq7qnT_",
        "colab_type": "code",
        "colab": {},
        "outputId": "eef79c85-6a98-4462-91cf-dfe7068ea8dd"
      },
      "source": [
        "train.shape, val.shape, test.shape"
      ],
      "execution_count": 0,
      "outputs": [
        {
          "output_type": "execute_result",
          "data": {
            "text/plain": [
              "((47031, 103), (11758, 103), (14697, 103))"
            ]
          },
          "metadata": {
            "tags": []
          },
          "execution_count": 19
        }
      ]
    },
    {
      "cell_type": "code",
      "metadata": {
        "id": "P_m-GrlJqnUJ",
        "colab_type": "code",
        "colab": {}
      },
      "source": [
        "# I want to use all features, then select feature importance\n",
        "\n",
        "# define target\n",
        "\n",
        "target = 'religion'\n",
        "train_features = train.drop(columns=[target])\n",
        "features = train_features.columns.tolist()"
      ],
      "execution_count": 0,
      "outputs": []
    },
    {
      "cell_type": "code",
      "metadata": {
        "id": "lKGwm17fqnUU",
        "colab_type": "code",
        "colab": {}
      },
      "source": [
        "# arrange data into X features matrix and y target vector\n",
        "\n",
        "# training data\n",
        "X_train = train[features]\n",
        "y_train = train[target]\n",
        "\n",
        "# validation data\n",
        "X_val = val[features]\n",
        "y_val = val[target]\n",
        "\n",
        "# testing data\n",
        "X_test = test[features]"
      ],
      "execution_count": 0,
      "outputs": []
    },
    {
      "cell_type": "code",
      "metadata": {
        "id": "GtzAPUzTqnUi",
        "colab_type": "code",
        "colab": {},
        "outputId": "30aeb6c3-cc4c-4045-f7ac-10a1731273fd"
      },
      "source": [
        "from sklearn.ensemble import RandomForestClassifier\n",
        "from sklearn.pipeline import make_pipeline\n",
        "import category_encoders as ce\n",
        "from sklearn.impute import SimpleImputer\n",
        "\n",
        "\n",
        "pipeline = make_pipeline(\n",
        "    ce.OrdinalEncoder(),\n",
        "    SimpleImputer(strategy='mean'),\n",
        "    RandomForestClassifier(n_estimators=100, random_state=42, n_jobs=-1, max_depth=18)\n",
        "    \n",
        ")\n",
        "\n",
        "pipeline.fit(X_train, y_train)\n",
        "print('Train Accuracy', pipeline.score(X_train, y_train))\n",
        "print('Validation Accuracy', pipeline.score(X_val, y_val))"
      ],
      "execution_count": 0,
      "outputs": [
        {
          "output_type": "stream",
          "text": [
            "Train Accuracy 0.9929620888350237\n",
            "Validation Accuracy 0.3185915972104099\n"
          ],
          "name": "stdout"
        }
      ]
    },
    {
      "cell_type": "code",
      "metadata": {
        "id": "t8mWY0dMqnUs",
        "colab_type": "code",
        "colab": {}
      },
      "source": [
        "# will alllll the features. I am way over training the model. I am going\n",
        "# to see what the most important features are and start narrowing in"
      ],
      "execution_count": 0,
      "outputs": []
    }
  ]
}