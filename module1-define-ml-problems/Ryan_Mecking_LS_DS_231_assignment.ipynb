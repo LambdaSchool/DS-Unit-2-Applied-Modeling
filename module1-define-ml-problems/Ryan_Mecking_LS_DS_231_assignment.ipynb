{
  "nbformat": 4,
  "nbformat_minor": 0,
  "metadata": {
    "kernelspec": {
      "display_name": "Python 3",
      "language": "python",
      "name": "python3"
    },
    "language_info": {
      "codemirror_mode": {
        "name": "ipython",
        "version": 3
      },
      "file_extension": ".py",
      "mimetype": "text/x-python",
      "name": "python",
      "nbconvert_exporter": "python",
      "pygments_lexer": "ipython3",
      "version": "3.7.4"
    },
    "colab": {
      "name": "Ryan Mecking LS_DS_231_assignment.ipynb",
      "provenance": [],
      "include_colab_link": true
    }
  },
  "cells": [
    {
      "cell_type": "markdown",
      "metadata": {
        "id": "view-in-github",
        "colab_type": "text"
      },
      "source": [
        "<a href=\"https://colab.research.google.com/github/rsmecking/DS-Unit-2-Applied-Modeling/blob/master/module1-define-ml-problems/Ryan_Mecking_LS_DS_231_assignment.ipynb\" target=\"_parent\"><img src=\"https://colab.research.google.com/assets/colab-badge.svg\" alt=\"Open In Colab\"/></a>"
      ]
    },
    {
      "cell_type": "code",
      "metadata": {
        "scrolled": false,
        "id": "ZQPzwYeJT3M-",
        "colab_type": "code",
        "colab": {},
        "outputId": "17ff8086-96fe-4e66-e678-c598328a0fc6"
      },
      "source": [
        "import pandas as pd\n",
        "import numpy as np\n",
        "\n",
        "df = pd.read_csv (r'C:\\Users\\Ryan\\Desktop\\Coding Stuffs\\Project 2 stuff/Datafiniti_Womens_Shoes_Jun19.csv')\n",
        "print (df.shape)\n",
        "df.head()"
      ],
      "execution_count": 0,
      "outputs": [
        {
          "output_type": "stream",
          "text": [
            "(10000, 32)\n"
          ],
          "name": "stdout"
        },
        {
          "output_type": "execute_result",
          "data": {
            "text/html": [
              "<div>\n",
              "<style scoped>\n",
              "    .dataframe tbody tr th:only-of-type {\n",
              "        vertical-align: middle;\n",
              "    }\n",
              "\n",
              "    .dataframe tbody tr th {\n",
              "        vertical-align: top;\n",
              "    }\n",
              "\n",
              "    .dataframe thead th {\n",
              "        text-align: right;\n",
              "    }\n",
              "</style>\n",
              "<table border=\"1\" class=\"dataframe\">\n",
              "  <thead>\n",
              "    <tr style=\"text-align: right;\">\n",
              "      <th></th>\n",
              "      <th>id</th>\n",
              "      <th>dateAdded</th>\n",
              "      <th>dateUpdated</th>\n",
              "      <th>asins</th>\n",
              "      <th>brand</th>\n",
              "      <th>categories</th>\n",
              "      <th>primaryCategories</th>\n",
              "      <th>colors</th>\n",
              "      <th>dimension</th>\n",
              "      <th>ean / upc</th>\n",
              "      <th>...</th>\n",
              "      <th>prices.dateSeen</th>\n",
              "      <th>prices.isSale</th>\n",
              "      <th>prices.merchant</th>\n",
              "      <th>prices.offer</th>\n",
              "      <th>prices.returnPolicy</th>\n",
              "      <th>prices.shipping</th>\n",
              "      <th>prices.size</th>\n",
              "      <th>prices.sourceURLs</th>\n",
              "      <th>sizes</th>\n",
              "      <th>sourceURLs</th>\n",
              "    </tr>\n",
              "  </thead>\n",
              "  <tbody>\n",
              "    <tr>\n",
              "      <td>0</td>\n",
              "      <td>AWpyySsJAGTnQPR7wNt4</td>\n",
              "      <td>2019-05-01T09:27:22Z</td>\n",
              "      <td>2019-05-01T09:27:22Z</td>\n",
              "      <td>NaN</td>\n",
              "      <td>City Classified</td>\n",
              "      <td>Clothing,Shoes,Womens Shoes,All Womens Shoes</td>\n",
              "      <td>Shoes</td>\n",
              "      <td>Black</td>\n",
              "      <td>NaN</td>\n",
              "      <td>656000000000</td>\n",
              "      <td>...</td>\n",
              "      <td>2019-04-19T07:09:29Z</td>\n",
              "      <td>NaN</td>\n",
              "      <td>NaN</td>\n",
              "      <td>Online only</td>\n",
              "      <td>NaN</td>\n",
              "      <td>NaN</td>\n",
              "      <td>8</td>\n",
              "      <td>https://www.walmart.com/ip/City-Classified-Sty...</td>\n",
              "      <td>8</td>\n",
              "      <td>https://www.walmart.com/ip/City-Classified-Sty...</td>\n",
              "    </tr>\n",
              "    <tr>\n",
              "      <td>1</td>\n",
              "      <td>AWpyyyb3AGTnQPR7wN-u</td>\n",
              "      <td>2019-05-01T09:27:19Z</td>\n",
              "      <td>2019-05-01T09:27:19Z</td>\n",
              "      <td>NaN</td>\n",
              "      <td>Skechers</td>\n",
              "      <td>Clothing,Shoes,Womens Shoes,All Womens Shoes</td>\n",
              "      <td>Shoes</td>\n",
              "      <td>Taupe</td>\n",
              "      <td>NaN</td>\n",
              "      <td>192000000000</td>\n",
              "      <td>...</td>\n",
              "      <td>2019-04-24T09:14:11Z</td>\n",
              "      <td>NaN</td>\n",
              "      <td>NaN</td>\n",
              "      <td>Online only</td>\n",
              "      <td>NaN</td>\n",
              "      <td>NaN</td>\n",
              "      <td>6 M US</td>\n",
              "      <td>https://www.walmart.com/ip/Skechers-Women-S-Yo...</td>\n",
              "      <td>6 M US</td>\n",
              "      <td>https://www.walmart.com/ip/Skechers-Women-S-Yo...</td>\n",
              "    </tr>\n",
              "    <tr>\n",
              "      <td>2</td>\n",
              "      <td>AWpyzlajAGTnQPR7wOX8</td>\n",
              "      <td>2019-05-01T09:26:59Z</td>\n",
              "      <td>2019-05-01T09:26:59Z</td>\n",
              "      <td>NaN</td>\n",
              "      <td>Floral</td>\n",
              "      <td>Clothing,Shoes,Womens Shoes,All Womens Shoes</td>\n",
              "      <td>Shoes</td>\n",
              "      <td>Black</td>\n",
              "      <td>NaN</td>\n",
              "      <td>709000000000</td>\n",
              "      <td>...</td>\n",
              "      <td>2019-04-25T12:35:00.000Z</td>\n",
              "      <td>NaN</td>\n",
              "      <td>NaN</td>\n",
              "      <td>Online only</td>\n",
              "      <td>NaN</td>\n",
              "      <td>NaN</td>\n",
              "      <td>5</td>\n",
              "      <td>https://www.walmart.com/ip/FLORAL-Pearl-Women-...</td>\n",
              "      <td>5</td>\n",
              "      <td>https://www.walmart.com/ip/FLORAL-Pearl-Women-...</td>\n",
              "    </tr>\n",
              "    <tr>\n",
              "      <td>3</td>\n",
              "      <td>AWpyxomE0U_gzG0hkA1q</td>\n",
              "      <td>2019-05-01T09:26:56Z</td>\n",
              "      <td>2019-05-01T09:26:56Z</td>\n",
              "      <td>NaN</td>\n",
              "      <td>Jambu</td>\n",
              "      <td>Clothing,Shoes,Womens Shoes,All Womens Shoes</td>\n",
              "      <td>Shoes</td>\n",
              "      <td>Black/Multi</td>\n",
              "      <td>NaN</td>\n",
              "      <td>884000000000</td>\n",
              "      <td>...</td>\n",
              "      <td>2019-04-30T19:49:00.000Z</td>\n",
              "      <td>NaN</td>\n",
              "      <td>NaN</td>\n",
              "      <td>Online only: 20% off</td>\n",
              "      <td>NaN</td>\n",
              "      <td>NaN</td>\n",
              "      <td>9.5 BM US</td>\n",
              "      <td>https://www.walmart.com/ip/Jambu-Women-s-AMAL-...</td>\n",
              "      <td>9.5 BM US</td>\n",
              "      <td>https://www.walmart.com/ip/Jambu-Women-s-AMAL-...</td>\n",
              "    </tr>\n",
              "    <tr>\n",
              "      <td>4</td>\n",
              "      <td>AWpyxChWJbEilcB6RhWx</td>\n",
              "      <td>2019-05-01T09:26:56Z</td>\n",
              "      <td>2019-05-01T09:26:56Z</td>\n",
              "      <td>NaN</td>\n",
              "      <td>Trotters</td>\n",
              "      <td>Clothing,Shoes,Womens Shoes,All Womens Shoes</td>\n",
              "      <td>Shoes</td>\n",
              "      <td>White</td>\n",
              "      <td>NaN</td>\n",
              "      <td>887000000000</td>\n",
              "      <td>...</td>\n",
              "      <td>2019-04-19T07:07:46Z</td>\n",
              "      <td>NaN</td>\n",
              "      <td>NaN</td>\n",
              "      <td>Online only: 50% off</td>\n",
              "      <td>NaN</td>\n",
              "      <td>NaN</td>\n",
              "      <td>11</td>\n",
              "      <td>https://www.walmart.com/ip/Women-s-Trotters-Bl...</td>\n",
              "      <td>11</td>\n",
              "      <td>https://www.walmart.com/ip/Women-s-Trotters-Bl...</td>\n",
              "    </tr>\n",
              "  </tbody>\n",
              "</table>\n",
              "<p>5 rows × 32 columns</p>\n",
              "</div>"
            ],
            "text/plain": [
              "                     id             dateAdded           dateUpdated asins  \\\n",
              "0  AWpyySsJAGTnQPR7wNt4  2019-05-01T09:27:22Z  2019-05-01T09:27:22Z   NaN   \n",
              "1  AWpyyyb3AGTnQPR7wN-u  2019-05-01T09:27:19Z  2019-05-01T09:27:19Z   NaN   \n",
              "2  AWpyzlajAGTnQPR7wOX8  2019-05-01T09:26:59Z  2019-05-01T09:26:59Z   NaN   \n",
              "3  AWpyxomE0U_gzG0hkA1q  2019-05-01T09:26:56Z  2019-05-01T09:26:56Z   NaN   \n",
              "4  AWpyxChWJbEilcB6RhWx  2019-05-01T09:26:56Z  2019-05-01T09:26:56Z   NaN   \n",
              "\n",
              "             brand                                    categories  \\\n",
              "0  City Classified  Clothing,Shoes,Womens Shoes,All Womens Shoes   \n",
              "1         Skechers  Clothing,Shoes,Womens Shoes,All Womens Shoes   \n",
              "2           Floral  Clothing,Shoes,Womens Shoes,All Womens Shoes   \n",
              "3            Jambu  Clothing,Shoes,Womens Shoes,All Womens Shoes   \n",
              "4         Trotters  Clothing,Shoes,Womens Shoes,All Womens Shoes   \n",
              "\n",
              "  primaryCategories       colors dimension     ean / upc  ...  \\\n",
              "0             Shoes        Black       NaN  656000000000  ...   \n",
              "1             Shoes        Taupe       NaN  192000000000  ...   \n",
              "2             Shoes        Black       NaN  709000000000  ...   \n",
              "3             Shoes  Black/Multi       NaN  884000000000  ...   \n",
              "4             Shoes        White       NaN  887000000000  ...   \n",
              "\n",
              "            prices.dateSeen prices.isSale prices.merchant  \\\n",
              "0      2019-04-19T07:09:29Z           NaN             NaN   \n",
              "1      2019-04-24T09:14:11Z           NaN             NaN   \n",
              "2  2019-04-25T12:35:00.000Z           NaN             NaN   \n",
              "3  2019-04-30T19:49:00.000Z           NaN             NaN   \n",
              "4      2019-04-19T07:07:46Z           NaN             NaN   \n",
              "\n",
              "           prices.offer prices.returnPolicy  prices.shipping  prices.size  \\\n",
              "0           Online only                 NaN              NaN            8   \n",
              "1           Online only                 NaN              NaN       6 M US   \n",
              "2           Online only                 NaN              NaN            5   \n",
              "3  Online only: 20% off                 NaN              NaN    9.5 BM US   \n",
              "4  Online only: 50% off                 NaN              NaN           11   \n",
              "\n",
              "                                   prices.sourceURLs      sizes  \\\n",
              "0  https://www.walmart.com/ip/City-Classified-Sty...          8   \n",
              "1  https://www.walmart.com/ip/Skechers-Women-S-Yo...     6 M US   \n",
              "2  https://www.walmart.com/ip/FLORAL-Pearl-Women-...          5   \n",
              "3  https://www.walmart.com/ip/Jambu-Women-s-AMAL-...  9.5 BM US   \n",
              "4  https://www.walmart.com/ip/Women-s-Trotters-Bl...         11   \n",
              "\n",
              "                                          sourceURLs  \n",
              "0  https://www.walmart.com/ip/City-Classified-Sty...  \n",
              "1  https://www.walmart.com/ip/Skechers-Women-S-Yo...  \n",
              "2  https://www.walmart.com/ip/FLORAL-Pearl-Women-...  \n",
              "3  https://www.walmart.com/ip/Jambu-Women-s-AMAL-...  \n",
              "4  https://www.walmart.com/ip/Women-s-Trotters-Bl...  \n",
              "\n",
              "[5 rows x 32 columns]"
            ]
          },
          "metadata": {
            "tags": []
          },
          "execution_count": 1
        }
      ]
    },
    {
      "cell_type": "code",
      "metadata": {
        "id": "8X9X9NclT3NF",
        "colab_type": "code",
        "colab": {},
        "outputId": "3051201f-a952-434f-fde3-ef5074f3e160"
      },
      "source": [
        "df.dtypes"
      ],
      "execution_count": 0,
      "outputs": [
        {
          "output_type": "execute_result",
          "data": {
            "text/plain": [
              "id                      object\n",
              "dateAdded               object\n",
              "dateUpdated             object\n",
              "asins                   object\n",
              "brand                   object\n",
              "categories              object\n",
              "primaryCategories       object\n",
              "colors                  object\n",
              "dimension               object\n",
              "ean / upc                int64\n",
              "imageURLs               object\n",
              "keys                    object\n",
              "manufacturer            object\n",
              "manufacturerNumber      object\n",
              "name                    object\n",
              "prices.amountMax       float64\n",
              "prices.amountMin       float64\n",
              "prices.availability       bool\n",
              "prices.color            object\n",
              "prices.condition       float64\n",
              "prices.currency         object\n",
              "prices.dateAdded       float64\n",
              "prices.dateSeen         object\n",
              "prices.isSale           object\n",
              "prices.merchant        float64\n",
              "prices.offer            object\n",
              "prices.returnPolicy    float64\n",
              "prices.shipping         object\n",
              "prices.size             object\n",
              "prices.sourceURLs       object\n",
              "sizes                   object\n",
              "sourceURLs              object\n",
              "dtype: object"
            ]
          },
          "metadata": {
            "tags": []
          },
          "execution_count": 2
        }
      ]
    },
    {
      "cell_type": "code",
      "metadata": {
        "scrolled": true,
        "id": "I8qZN6wsT3NK",
        "colab_type": "code",
        "colab": {},
        "outputId": "7ba63f8c-84a7-4f65-fe3e-49140ec0a0bc"
      },
      "source": [
        "#Dropping all columns with over 95% NaNs.\n",
        "df = df.drop(['asins', 'dateUpdated', 'prices.condition', 'dimension', 'prices.condition',\n",
        "              'prices.dateAdded', 'prices.merchant', 'prices.returnPolicy',\n",
        "              'prices.shipping'], axis=1)\n",
        "df.shape"
      ],
      "execution_count": 0,
      "outputs": [
        {
          "output_type": "execute_result",
          "data": {
            "text/plain": [
              "(10000, 24)"
            ]
          },
          "metadata": {
            "tags": []
          },
          "execution_count": 3
        }
      ]
    },
    {
      "cell_type": "code",
      "metadata": {
        "id": "oGlNxGlgT3NR",
        "colab_type": "code",
        "colab": {},
        "outputId": "0a53a265-16bd-4213-9473-4eba719317d4"
      },
      "source": [
        "#Averaging out price of shoe. Most values were the same so it was basically a duplicate column\n",
        "df['price'] = (df['prices.amountMin'] + df['prices.amountMax'])/2\n",
        "df.shape"
      ],
      "execution_count": 0,
      "outputs": [
        {
          "output_type": "execute_result",
          "data": {
            "text/plain": [
              "(10000, 25)"
            ]
          },
          "metadata": {
            "tags": []
          },
          "execution_count": 4
        }
      ]
    },
    {
      "cell_type": "code",
      "metadata": {
        "id": "1qgoPsEHT3NW",
        "colab_type": "code",
        "colab": {},
        "outputId": "2d570595-72de-427c-ae4c-5b7ae5827e02"
      },
      "source": [
        "# Dropping now useless columns.\n",
        "df = df.drop(['prices.amountMin', 'prices.amountMax'], axis=1)\n",
        "df.shape"
      ],
      "execution_count": 0,
      "outputs": [
        {
          "output_type": "execute_result",
          "data": {
            "text/plain": [
              "(10000, 23)"
            ]
          },
          "metadata": {
            "tags": []
          },
          "execution_count": 5
        }
      ]
    },
    {
      "cell_type": "code",
      "metadata": {
        "id": "jrOpiLFZT3NZ",
        "colab_type": "code",
        "colab": {},
        "outputId": "a4014ccf-794f-4853-cb7a-4510efe6de3a"
      },
      "source": [
        "df.head()"
      ],
      "execution_count": 0,
      "outputs": [
        {
          "output_type": "execute_result",
          "data": {
            "text/html": [
              "<div>\n",
              "<style scoped>\n",
              "    .dataframe tbody tr th:only-of-type {\n",
              "        vertical-align: middle;\n",
              "    }\n",
              "\n",
              "    .dataframe tbody tr th {\n",
              "        vertical-align: top;\n",
              "    }\n",
              "\n",
              "    .dataframe thead th {\n",
              "        text-align: right;\n",
              "    }\n",
              "</style>\n",
              "<table border=\"1\" class=\"dataframe\">\n",
              "  <thead>\n",
              "    <tr style=\"text-align: right;\">\n",
              "      <th></th>\n",
              "      <th>id</th>\n",
              "      <th>dateAdded</th>\n",
              "      <th>brand</th>\n",
              "      <th>categories</th>\n",
              "      <th>primaryCategories</th>\n",
              "      <th>colors</th>\n",
              "      <th>ean / upc</th>\n",
              "      <th>imageURLs</th>\n",
              "      <th>keys</th>\n",
              "      <th>manufacturer</th>\n",
              "      <th>...</th>\n",
              "      <th>prices.color</th>\n",
              "      <th>prices.currency</th>\n",
              "      <th>prices.dateSeen</th>\n",
              "      <th>prices.isSale</th>\n",
              "      <th>prices.offer</th>\n",
              "      <th>prices.size</th>\n",
              "      <th>prices.sourceURLs</th>\n",
              "      <th>sizes</th>\n",
              "      <th>sourceURLs</th>\n",
              "      <th>price</th>\n",
              "    </tr>\n",
              "  </thead>\n",
              "  <tbody>\n",
              "    <tr>\n",
              "      <td>0</td>\n",
              "      <td>AWpyySsJAGTnQPR7wNt4</td>\n",
              "      <td>2019-05-01T09:27:22Z</td>\n",
              "      <td>City Classified</td>\n",
              "      <td>Clothing,Shoes,Womens Shoes,All Womens Shoes</td>\n",
              "      <td>Shoes</td>\n",
              "      <td>Black</td>\n",
              "      <td>656000000000</td>\n",
              "      <td>https://i5.walmartimages.com/asr/f0dc6cbd-fa38...</td>\n",
              "      <td>walmart.com-2013PXX8GMN7,656143772191,06561437...</td>\n",
              "      <td>NaN</td>\n",
              "      <td>...</td>\n",
              "      <td>Black</td>\n",
              "      <td>USD</td>\n",
              "      <td>2019-04-19T07:09:29Z</td>\n",
              "      <td>NaN</td>\n",
              "      <td>Online only</td>\n",
              "      <td>8</td>\n",
              "      <td>https://www.walmart.com/ip/City-Classified-Sty...</td>\n",
              "      <td>8</td>\n",
              "      <td>https://www.walmart.com/ip/City-Classified-Sty...</td>\n",
              "      <td>29.95</td>\n",
              "    </tr>\n",
              "    <tr>\n",
              "      <td>1</td>\n",
              "      <td>AWpyyyb3AGTnQPR7wN-u</td>\n",
              "      <td>2019-05-01T09:27:19Z</td>\n",
              "      <td>Skechers</td>\n",
              "      <td>Clothing,Shoes,Womens Shoes,All Womens Shoes</td>\n",
              "      <td>Shoes</td>\n",
              "      <td>Taupe</td>\n",
              "      <td>192000000000</td>\n",
              "      <td>NaN</td>\n",
              "      <td>192283420528,0192283420528,walmart.com-21739WH...</td>\n",
              "      <td>NaN</td>\n",
              "      <td>...</td>\n",
              "      <td>Taupe</td>\n",
              "      <td>USD</td>\n",
              "      <td>2019-04-24T09:14:11Z</td>\n",
              "      <td>NaN</td>\n",
              "      <td>Online only</td>\n",
              "      <td>6 M US</td>\n",
              "      <td>https://www.walmart.com/ip/Skechers-Women-S-Yo...</td>\n",
              "      <td>6 M US</td>\n",
              "      <td>https://www.walmart.com/ip/Skechers-Women-S-Yo...</td>\n",
              "      <td>84.00</td>\n",
              "    </tr>\n",
              "    <tr>\n",
              "      <td>2</td>\n",
              "      <td>AWpyzlajAGTnQPR7wOX8</td>\n",
              "      <td>2019-05-01T09:26:59Z</td>\n",
              "      <td>Floral</td>\n",
              "      <td>Clothing,Shoes,Womens Shoes,All Womens Shoes</td>\n",
              "      <td>Shoes</td>\n",
              "      <td>Black</td>\n",
              "      <td>709000000000</td>\n",
              "      <td>NaN</td>\n",
              "      <td>walmart.com-1MXIR45EG0EO,708750137976,07087501...</td>\n",
              "      <td>NaN</td>\n",
              "      <td>...</td>\n",
              "      <td>Black</td>\n",
              "      <td>USD</td>\n",
              "      <td>2019-04-25T12:35:00.000Z</td>\n",
              "      <td>NaN</td>\n",
              "      <td>Online only</td>\n",
              "      <td>5</td>\n",
              "      <td>https://www.walmart.com/ip/FLORAL-Pearl-Women-...</td>\n",
              "      <td>5</td>\n",
              "      <td>https://www.walmart.com/ip/FLORAL-Pearl-Women-...</td>\n",
              "      <td>49.95</td>\n",
              "    </tr>\n",
              "    <tr>\n",
              "      <td>3</td>\n",
              "      <td>AWpyxomE0U_gzG0hkA1q</td>\n",
              "      <td>2019-05-01T09:26:56Z</td>\n",
              "      <td>Jambu</td>\n",
              "      <td>Clothing,Shoes,Womens Shoes,All Womens Shoes</td>\n",
              "      <td>Shoes</td>\n",
              "      <td>Black/Multi</td>\n",
              "      <td>884000000000</td>\n",
              "      <td>https://i5.walmartimages.com/asr/bf04e7cf-0f7b...</td>\n",
              "      <td>883988336206,0883988336206,walmart.com-653BPY2...</td>\n",
              "      <td>NaN</td>\n",
              "      <td>...</td>\n",
              "      <td>Black/Multi</td>\n",
              "      <td>USD</td>\n",
              "      <td>2019-04-30T19:49:00.000Z</td>\n",
              "      <td>NaN</td>\n",
              "      <td>Online only: 20% off</td>\n",
              "      <td>9.5 BM US</td>\n",
              "      <td>https://www.walmart.com/ip/Jambu-Women-s-AMAL-...</td>\n",
              "      <td>9.5 BM US</td>\n",
              "      <td>https://www.walmart.com/ip/Jambu-Women-s-AMAL-...</td>\n",
              "      <td>127.20</td>\n",
              "    </tr>\n",
              "    <tr>\n",
              "      <td>4</td>\n",
              "      <td>AWpyxChWJbEilcB6RhWx</td>\n",
              "      <td>2019-05-01T09:26:56Z</td>\n",
              "      <td>Trotters</td>\n",
              "      <td>Clothing,Shoes,Womens Shoes,All Womens Shoes</td>\n",
              "      <td>Shoes</td>\n",
              "      <td>White</td>\n",
              "      <td>887000000000</td>\n",
              "      <td>NaN</td>\n",
              "      <td>887246520857,0887246520857,walmart.com-3HL720G...</td>\n",
              "      <td>NaN</td>\n",
              "      <td>...</td>\n",
              "      <td>White</td>\n",
              "      <td>USD</td>\n",
              "      <td>2019-04-19T07:07:46Z</td>\n",
              "      <td>NaN</td>\n",
              "      <td>Online only: 50% off</td>\n",
              "      <td>11</td>\n",
              "      <td>https://www.walmart.com/ip/Women-s-Trotters-Bl...</td>\n",
              "      <td>11</td>\n",
              "      <td>https://www.walmart.com/ip/Women-s-Trotters-Bl...</td>\n",
              "      <td>47.66</td>\n",
              "    </tr>\n",
              "  </tbody>\n",
              "</table>\n",
              "<p>5 rows × 23 columns</p>\n",
              "</div>"
            ],
            "text/plain": [
              "                     id             dateAdded            brand  \\\n",
              "0  AWpyySsJAGTnQPR7wNt4  2019-05-01T09:27:22Z  City Classified   \n",
              "1  AWpyyyb3AGTnQPR7wN-u  2019-05-01T09:27:19Z         Skechers   \n",
              "2  AWpyzlajAGTnQPR7wOX8  2019-05-01T09:26:59Z           Floral   \n",
              "3  AWpyxomE0U_gzG0hkA1q  2019-05-01T09:26:56Z            Jambu   \n",
              "4  AWpyxChWJbEilcB6RhWx  2019-05-01T09:26:56Z         Trotters   \n",
              "\n",
              "                                     categories primaryCategories  \\\n",
              "0  Clothing,Shoes,Womens Shoes,All Womens Shoes             Shoes   \n",
              "1  Clothing,Shoes,Womens Shoes,All Womens Shoes             Shoes   \n",
              "2  Clothing,Shoes,Womens Shoes,All Womens Shoes             Shoes   \n",
              "3  Clothing,Shoes,Womens Shoes,All Womens Shoes             Shoes   \n",
              "4  Clothing,Shoes,Womens Shoes,All Womens Shoes             Shoes   \n",
              "\n",
              "        colors     ean / upc  \\\n",
              "0        Black  656000000000   \n",
              "1        Taupe  192000000000   \n",
              "2        Black  709000000000   \n",
              "3  Black/Multi  884000000000   \n",
              "4        White  887000000000   \n",
              "\n",
              "                                           imageURLs  \\\n",
              "0  https://i5.walmartimages.com/asr/f0dc6cbd-fa38...   \n",
              "1                                                NaN   \n",
              "2                                                NaN   \n",
              "3  https://i5.walmartimages.com/asr/bf04e7cf-0f7b...   \n",
              "4                                                NaN   \n",
              "\n",
              "                                                keys manufacturer  ...  \\\n",
              "0  walmart.com-2013PXX8GMN7,656143772191,06561437...          NaN  ...   \n",
              "1  192283420528,0192283420528,walmart.com-21739WH...          NaN  ...   \n",
              "2  walmart.com-1MXIR45EG0EO,708750137976,07087501...          NaN  ...   \n",
              "3  883988336206,0883988336206,walmart.com-653BPY2...          NaN  ...   \n",
              "4  887246520857,0887246520857,walmart.com-3HL720G...          NaN  ...   \n",
              "\n",
              "  prices.color prices.currency           prices.dateSeen prices.isSale  \\\n",
              "0        Black             USD      2019-04-19T07:09:29Z           NaN   \n",
              "1        Taupe             USD      2019-04-24T09:14:11Z           NaN   \n",
              "2        Black             USD  2019-04-25T12:35:00.000Z           NaN   \n",
              "3  Black/Multi             USD  2019-04-30T19:49:00.000Z           NaN   \n",
              "4        White             USD      2019-04-19T07:07:46Z           NaN   \n",
              "\n",
              "           prices.offer prices.size  \\\n",
              "0           Online only           8   \n",
              "1           Online only      6 M US   \n",
              "2           Online only           5   \n",
              "3  Online only: 20% off   9.5 BM US   \n",
              "4  Online only: 50% off          11   \n",
              "\n",
              "                                   prices.sourceURLs      sizes  \\\n",
              "0  https://www.walmart.com/ip/City-Classified-Sty...          8   \n",
              "1  https://www.walmart.com/ip/Skechers-Women-S-Yo...     6 M US   \n",
              "2  https://www.walmart.com/ip/FLORAL-Pearl-Women-...          5   \n",
              "3  https://www.walmart.com/ip/Jambu-Women-s-AMAL-...  9.5 BM US   \n",
              "4  https://www.walmart.com/ip/Women-s-Trotters-Bl...         11   \n",
              "\n",
              "                                          sourceURLs   price  \n",
              "0  https://www.walmart.com/ip/City-Classified-Sty...   29.95  \n",
              "1  https://www.walmart.com/ip/Skechers-Women-S-Yo...   84.00  \n",
              "2  https://www.walmart.com/ip/FLORAL-Pearl-Women-...   49.95  \n",
              "3  https://www.walmart.com/ip/Jambu-Women-s-AMAL-...  127.20  \n",
              "4  https://www.walmart.com/ip/Women-s-Trotters-Bl...   47.66  \n",
              "\n",
              "[5 rows x 23 columns]"
            ]
          },
          "metadata": {
            "tags": []
          },
          "execution_count": 6
        }
      ]
    },
    {
      "cell_type": "code",
      "metadata": {
        "id": "A4ub6iBOT3Nf",
        "colab_type": "code",
        "colab": {},
        "outputId": "e408bf97-a68d-4091-d08e-25bb3b23d0f5"
      },
      "source": [
        "df['price'].describe()"
      ],
      "execution_count": 0,
      "outputs": [
        {
          "output_type": "execute_result",
          "data": {
            "text/plain": [
              "count    10000.000000\n",
              "mean        72.202721\n",
              "std        172.400446\n",
              "min          5.500000\n",
              "25%         34.990000\n",
              "50%         52.485000\n",
              "75%         83.962500\n",
              "max       5000.000000\n",
              "Name: price, dtype: float64"
            ]
          },
          "metadata": {
            "tags": []
          },
          "execution_count": 7
        }
      ]
    },
    {
      "cell_type": "code",
      "metadata": {
        "id": "ABf8NkSZT3Nj",
        "colab_type": "code",
        "colab": {},
        "outputId": "bf6351b5-a80d-4163-f2d0-8d1303584759"
      },
      "source": [
        "#Removing outliers \n",
        "df = df[(df['price'] <= np.percentile(df['price'], 99.5))]\n",
        "df.shape"
      ],
      "execution_count": 0,
      "outputs": [
        {
          "output_type": "execute_result",
          "data": {
            "text/plain": [
              "(9950, 23)"
            ]
          },
          "metadata": {
            "tags": []
          },
          "execution_count": 8
        }
      ]
    },
    {
      "cell_type": "code",
      "metadata": {
        "scrolled": true,
        "id": "O9Bfh48zT3Nn",
        "colab_type": "code",
        "colab": {},
        "outputId": "51eb0ce4-6cb8-47a3-d19d-0e3b57ad163b"
      },
      "source": [
        "df['price'].describe()"
      ],
      "execution_count": 0,
      "outputs": [
        {
          "output_type": "execute_result",
          "data": {
            "text/plain": [
              "count    9950.000000\n",
              "mean       65.168357\n",
              "std        40.993896\n",
              "min         5.500000\n",
              "25%        34.990000\n",
              "50%        52.200000\n",
              "75%        83.682500\n",
              "max       260.590000\n",
              "Name: price, dtype: float64"
            ]
          },
          "metadata": {
            "tags": []
          },
          "execution_count": 9
        }
      ]
    },
    {
      "cell_type": "code",
      "metadata": {
        "id": "n2z_ypp7T3Ns",
        "colab_type": "code",
        "colab": {}
      },
      "source": [
        "#Filling in missing values with word \"missing\" for imputing reason\n",
        "df = df.fillna('Missing')"
      ],
      "execution_count": 0,
      "outputs": []
    },
    {
      "cell_type": "code",
      "metadata": {
        "id": "zdsF2GfDT3Ny",
        "colab_type": "code",
        "colab": {},
        "outputId": "326f45b2-5c67-4471-cc82-a29b6dba91d0"
      },
      "source": [
        "df.head(1)"
      ],
      "execution_count": 0,
      "outputs": [
        {
          "output_type": "execute_result",
          "data": {
            "text/html": [
              "<div>\n",
              "<style scoped>\n",
              "    .dataframe tbody tr th:only-of-type {\n",
              "        vertical-align: middle;\n",
              "    }\n",
              "\n",
              "    .dataframe tbody tr th {\n",
              "        vertical-align: top;\n",
              "    }\n",
              "\n",
              "    .dataframe thead th {\n",
              "        text-align: right;\n",
              "    }\n",
              "</style>\n",
              "<table border=\"1\" class=\"dataframe\">\n",
              "  <thead>\n",
              "    <tr style=\"text-align: right;\">\n",
              "      <th></th>\n",
              "      <th>id</th>\n",
              "      <th>dateAdded</th>\n",
              "      <th>brand</th>\n",
              "      <th>categories</th>\n",
              "      <th>primaryCategories</th>\n",
              "      <th>colors</th>\n",
              "      <th>ean / upc</th>\n",
              "      <th>imageURLs</th>\n",
              "      <th>keys</th>\n",
              "      <th>manufacturer</th>\n",
              "      <th>...</th>\n",
              "      <th>prices.color</th>\n",
              "      <th>prices.currency</th>\n",
              "      <th>prices.dateSeen</th>\n",
              "      <th>prices.isSale</th>\n",
              "      <th>prices.offer</th>\n",
              "      <th>prices.size</th>\n",
              "      <th>prices.sourceURLs</th>\n",
              "      <th>sizes</th>\n",
              "      <th>sourceURLs</th>\n",
              "      <th>price</th>\n",
              "    </tr>\n",
              "  </thead>\n",
              "  <tbody>\n",
              "    <tr>\n",
              "      <td>0</td>\n",
              "      <td>AWpyySsJAGTnQPR7wNt4</td>\n",
              "      <td>2019-05-01T09:27:22Z</td>\n",
              "      <td>City Classified</td>\n",
              "      <td>Clothing,Shoes,Womens Shoes,All Womens Shoes</td>\n",
              "      <td>Shoes</td>\n",
              "      <td>Black</td>\n",
              "      <td>656000000000</td>\n",
              "      <td>https://i5.walmartimages.com/asr/f0dc6cbd-fa38...</td>\n",
              "      <td>walmart.com-2013PXX8GMN7,656143772191,06561437...</td>\n",
              "      <td>Missing</td>\n",
              "      <td>...</td>\n",
              "      <td>Black</td>\n",
              "      <td>USD</td>\n",
              "      <td>2019-04-19T07:09:29Z</td>\n",
              "      <td>Missing</td>\n",
              "      <td>Online only</td>\n",
              "      <td>8</td>\n",
              "      <td>https://www.walmart.com/ip/City-Classified-Sty...</td>\n",
              "      <td>8</td>\n",
              "      <td>https://www.walmart.com/ip/City-Classified-Sty...</td>\n",
              "      <td>29.95</td>\n",
              "    </tr>\n",
              "  </tbody>\n",
              "</table>\n",
              "<p>1 rows × 23 columns</p>\n",
              "</div>"
            ],
            "text/plain": [
              "                     id             dateAdded            brand  \\\n",
              "0  AWpyySsJAGTnQPR7wNt4  2019-05-01T09:27:22Z  City Classified   \n",
              "\n",
              "                                     categories primaryCategories colors  \\\n",
              "0  Clothing,Shoes,Womens Shoes,All Womens Shoes             Shoes  Black   \n",
              "\n",
              "      ean / upc                                          imageURLs  \\\n",
              "0  656000000000  https://i5.walmartimages.com/asr/f0dc6cbd-fa38...   \n",
              "\n",
              "                                                keys manufacturer  ...  \\\n",
              "0  walmart.com-2013PXX8GMN7,656143772191,06561437...      Missing  ...   \n",
              "\n",
              "  prices.color prices.currency       prices.dateSeen prices.isSale  \\\n",
              "0        Black             USD  2019-04-19T07:09:29Z       Missing   \n",
              "\n",
              "  prices.offer prices.size                                  prices.sourceURLs  \\\n",
              "0  Online only           8  https://www.walmart.com/ip/City-Classified-Sty...   \n",
              "\n",
              "  sizes                                         sourceURLs  price  \n",
              "0     8  https://www.walmart.com/ip/City-Classified-Sty...  29.95  \n",
              "\n",
              "[1 rows x 23 columns]"
            ]
          },
          "metadata": {
            "tags": []
          },
          "execution_count": 11
        }
      ]
    },
    {
      "cell_type": "code",
      "metadata": {
        "scrolled": true,
        "id": "Qpd_uXeyT3N5",
        "colab_type": "code",
        "colab": {},
        "outputId": "69064a19-bd09-4b61-adc3-cf4c0a617625"
      },
      "source": [
        "from sklearn.model_selection import train_test_split\n",
        "train, test = train_test_split(df, train_size=0.80, test_size=0.20, \n",
        "                               random_state=42)\n",
        "train.shape, test.shape"
      ],
      "execution_count": 0,
      "outputs": [
        {
          "output_type": "execute_result",
          "data": {
            "text/plain": [
              "((7960, 23), (1990, 23))"
            ]
          },
          "metadata": {
            "tags": []
          },
          "execution_count": 12
        }
      ]
    },
    {
      "cell_type": "code",
      "metadata": {
        "id": "FgekjjmNT3N8",
        "colab_type": "code",
        "colab": {},
        "outputId": "dbedd5db-ceaa-4814-8e93-b37ea3971a7a"
      },
      "source": [
        "train, val = train_test_split(train, train_size=0.80, test_size=0.20, \n",
        "                              random_state=42)\n",
        "train.shape, val.shape"
      ],
      "execution_count": 0,
      "outputs": [
        {
          "output_type": "execute_result",
          "data": {
            "text/plain": [
              "((6368, 23), (1592, 23))"
            ]
          },
          "metadata": {
            "tags": []
          },
          "execution_count": 13
        }
      ]
    },
    {
      "cell_type": "code",
      "metadata": {
        "id": "j2tykcsET3N_",
        "colab_type": "code",
        "colab": {}
      },
      "source": [
        "#imports\n",
        "import category_encoders as ce\n",
        "from sklearn.pipeline import make_pipeline\n",
        "from sklearn.tree import DecisionTreeRegressor \n",
        "from sklearn.impute import SimpleImputer\n",
        "from sklearn.ensemble import RandomForestClassifier\n",
        "from sklearn import preprocessing\n",
        "from sklearn.linear_model import LinearRegression\n",
        "import seaborn as sns\n",
        "from sklearn.metrics import mean_absolute_error\n",
        "import plotly.express as px"
      ],
      "execution_count": 0,
      "outputs": []
    },
    {
      "cell_type": "code",
      "metadata": {
        "id": "DAuH2jM-T3OD",
        "colab_type": "code",
        "colab": {}
      },
      "source": [
        "# The status_group column is the target\n",
        "target = 'price'\n",
        "\n",
        "# Get a dataframe with all train columns except the target\n",
        "train_features = train.drop(columns=[target])\n",
        "\n",
        "# Get a list of the numeric features\n",
        "numeric_features = train_features.select_dtypes(include='number').columns.tolist()\n",
        "\n",
        "# Get a series with the cardinality of the nonnumeric features\n",
        "cardinality = train_features.select_dtypes(exclude='number').nunique()\n",
        "\n",
        "# Get a list of all categorical features with cardinality <= 50\n",
        "categorical_features = cardinality[cardinality <= 50].index.tolist()\n",
        "\n",
        "# Combine the lists \n",
        "features = numeric_features + categorical_features"
      ],
      "execution_count": 0,
      "outputs": []
    },
    {
      "cell_type": "code",
      "metadata": {
        "id": "HlEfv5ILT3OJ",
        "colab_type": "code",
        "colab": {},
        "outputId": "a54afb0b-0fe1-4922-f0f8-377eea6c6f12"
      },
      "source": [
        "#Target/Val assignment\n",
        "\n",
        "X_train = train[features]\n",
        "y_train = train[target]\n",
        "X_val = val[features]\n",
        "y_val = val[target]\n",
        "X_test = test[features]\n",
        "y_test = test[target]\n",
        "X_train.shape, X_val.shape, X_test.shape"
      ],
      "execution_count": 0,
      "outputs": [
        {
          "output_type": "execute_result",
          "data": {
            "text/plain": [
              "((6368, 7), (1592, 7), (1990, 7))"
            ]
          },
          "metadata": {
            "tags": []
          },
          "execution_count": 23
        }
      ]
    },
    {
      "cell_type": "code",
      "metadata": {
        "scrolled": true,
        "id": "FHxsT0zET3OP",
        "colab_type": "code",
        "colab": {},
        "outputId": "82a3b128-9b5a-4768-8cf7-d6f51d99f4e3"
      },
      "source": [
        "y = df['price']\n",
        "sns.distplot(y);"
      ],
      "execution_count": 0,
      "outputs": [
        {
          "output_type": "display_data",
          "data": {
            "image/png": "[encoded data removed]",
            "text/plain": [
              "<Figure size 432x288 with 1 Axes>"
            ]
          },
          "metadata": {
            "tags": [],
            "needs_background": "light"
          }
        }
      ]
    },
    {
      "cell_type": "code",
      "metadata": {
        "id": "1ZUcd0yGT3OS",
        "colab_type": "code",
        "colab": {},
        "outputId": "b65eaae3-53dc-4c1f-f414-b6739ff6c4ad"
      },
      "source": [
        "pipeline = make_pipeline(\n",
        "    ce.OneHotEncoder(), \n",
        "    LinearRegression()\n",
        ")\n",
        "\n",
        "pipeline.fit(X_train, y_train)\n",
        "print('Validation Accuracy:', pipeline.score(X_val, y_val))"
      ],
      "execution_count": 0,
      "outputs": [
        {
          "output_type": "stream",
          "text": [
            "Validation Accuracy: 0.0695721437639667\n"
          ],
          "name": "stdout"
        }
      ]
    },
    {
      "cell_type": "code",
      "metadata": {
        "id": "z1iiT42bT3Oc",
        "colab_type": "code",
        "colab": {},
        "outputId": "827b54cd-7939-4ca1-bcbd-620e20f0a436"
      },
      "source": [
        "#first quick model\n",
        "\n",
        "pipeline = make_pipeline(\n",
        "    ce.OneHotEncoder(), \n",
        "    SimpleImputer(strategy='median'), \n",
        "    RandomForestClassifier(n_estimators=100, \n",
        "                           bootstrap=True, \n",
        "                           oob_score=True,\n",
        "                           random_state=42,\n",
        "                           max_depth=6,\n",
        "                           n_jobs=-1)\n",
        ")\n",
        "pipeline.fit(X_train, y_train)"
      ],
      "execution_count": 0,
      "outputs": [
        {
          "output_type": "error",
          "ename": "ValueError",
          "evalue": "Unknown label type: 'continuous'",
          "traceback": [
            "\u001b[1;31m---------------------------------------------------------------------------\u001b[0m",
            "\u001b[1;31mValueError\u001b[0m                                Traceback (most recent call last)",
            "\u001b[1;32m<ipython-input-29-0d8005dc0c07>\u001b[0m in \u001b[0;36m<module>\u001b[1;34m\u001b[0m\n\u001b[0;32m     11\u001b[0m                            n_jobs=-1)\n\u001b[0;32m     12\u001b[0m )\n\u001b[1;32m---> 13\u001b[1;33m \u001b[0mpipeline\u001b[0m\u001b[1;33m.\u001b[0m\u001b[0mfit\u001b[0m\u001b[1;33m(\u001b[0m\u001b[0mX_train\u001b[0m\u001b[1;33m,\u001b[0m \u001b[0my_train\u001b[0m\u001b[1;33m)\u001b[0m\u001b[1;33m\u001b[0m\u001b[1;33m\u001b[0m\u001b[0m\n\u001b[0m",
            "\u001b[1;32mE:\\Anaconda3\\lib\\site-packages\\sklearn\\pipeline.py\u001b[0m in \u001b[0;36mfit\u001b[1;34m(self, X, y, **fit_params)\u001b[0m\n\u001b[0;32m    354\u001b[0m                                  self._log_message(len(self.steps) - 1)):\n\u001b[0;32m    355\u001b[0m             \u001b[1;32mif\u001b[0m \u001b[0mself\u001b[0m\u001b[1;33m.\u001b[0m\u001b[0m_final_estimator\u001b[0m \u001b[1;33m!=\u001b[0m \u001b[1;34m'passthrough'\u001b[0m\u001b[1;33m:\u001b[0m\u001b[1;33m\u001b[0m\u001b[1;33m\u001b[0m\u001b[0m\n\u001b[1;32m--> 356\u001b[1;33m                 \u001b[0mself\u001b[0m\u001b[1;33m.\u001b[0m\u001b[0m_final_estimator\u001b[0m\u001b[1;33m.\u001b[0m\u001b[0mfit\u001b[0m\u001b[1;33m(\u001b[0m\u001b[0mXt\u001b[0m\u001b[1;33m,\u001b[0m \u001b[0my\u001b[0m\u001b[1;33m,\u001b[0m \u001b[1;33m**\u001b[0m\u001b[0mfit_params\u001b[0m\u001b[1;33m)\u001b[0m\u001b[1;33m\u001b[0m\u001b[1;33m\u001b[0m\u001b[0m\n\u001b[0m\u001b[0;32m    357\u001b[0m         \u001b[1;32mreturn\u001b[0m \u001b[0mself\u001b[0m\u001b[1;33m\u001b[0m\u001b[1;33m\u001b[0m\u001b[0m\n\u001b[0;32m    358\u001b[0m \u001b[1;33m\u001b[0m\u001b[0m\n",
            "\u001b[1;32mE:\\Anaconda3\\lib\\site-packages\\sklearn\\ensemble\\forest.py\u001b[0m in \u001b[0;36mfit\u001b[1;34m(self, X, y, sample_weight)\u001b[0m\n\u001b[0;32m    273\u001b[0m         \u001b[0mself\u001b[0m\u001b[1;33m.\u001b[0m\u001b[0mn_outputs_\u001b[0m \u001b[1;33m=\u001b[0m \u001b[0my\u001b[0m\u001b[1;33m.\u001b[0m\u001b[0mshape\u001b[0m\u001b[1;33m[\u001b[0m\u001b[1;36m1\u001b[0m\u001b[1;33m]\u001b[0m\u001b[1;33m\u001b[0m\u001b[1;33m\u001b[0m\u001b[0m\n\u001b[0;32m    274\u001b[0m \u001b[1;33m\u001b[0m\u001b[0m\n\u001b[1;32m--> 275\u001b[1;33m         \u001b[0my\u001b[0m\u001b[1;33m,\u001b[0m \u001b[0mexpanded_class_weight\u001b[0m \u001b[1;33m=\u001b[0m \u001b[0mself\u001b[0m\u001b[1;33m.\u001b[0m\u001b[0m_validate_y_class_weight\u001b[0m\u001b[1;33m(\u001b[0m\u001b[0my\u001b[0m\u001b[1;33m)\u001b[0m\u001b[1;33m\u001b[0m\u001b[1;33m\u001b[0m\u001b[0m\n\u001b[0m\u001b[0;32m    276\u001b[0m \u001b[1;33m\u001b[0m\u001b[0m\n\u001b[0;32m    277\u001b[0m         \u001b[1;32mif\u001b[0m \u001b[0mgetattr\u001b[0m\u001b[1;33m(\u001b[0m\u001b[0my\u001b[0m\u001b[1;33m,\u001b[0m \u001b[1;34m\"dtype\"\u001b[0m\u001b[1;33m,\u001b[0m \u001b[1;32mNone\u001b[0m\u001b[1;33m)\u001b[0m \u001b[1;33m!=\u001b[0m \u001b[0mDOUBLE\u001b[0m \u001b[1;32mor\u001b[0m \u001b[1;32mnot\u001b[0m \u001b[0my\u001b[0m\u001b[1;33m.\u001b[0m\u001b[0mflags\u001b[0m\u001b[1;33m.\u001b[0m\u001b[0mcontiguous\u001b[0m\u001b[1;33m:\u001b[0m\u001b[1;33m\u001b[0m\u001b[1;33m\u001b[0m\u001b[0m\n",
            "\u001b[1;32mE:\\Anaconda3\\lib\\site-packages\\sklearn\\ensemble\\forest.py\u001b[0m in \u001b[0;36m_validate_y_class_weight\u001b[1;34m(self, y)\u001b[0m\n\u001b[0;32m    476\u001b[0m \u001b[1;33m\u001b[0m\u001b[0m\n\u001b[0;32m    477\u001b[0m     \u001b[1;32mdef\u001b[0m \u001b[0m_validate_y_class_weight\u001b[0m\u001b[1;33m(\u001b[0m\u001b[0mself\u001b[0m\u001b[1;33m,\u001b[0m \u001b[0my\u001b[0m\u001b[1;33m)\u001b[0m\u001b[1;33m:\u001b[0m\u001b[1;33m\u001b[0m\u001b[1;33m\u001b[0m\u001b[0m\n\u001b[1;32m--> 478\u001b[1;33m         \u001b[0mcheck_classification_targets\u001b[0m\u001b[1;33m(\u001b[0m\u001b[0my\u001b[0m\u001b[1;33m)\u001b[0m\u001b[1;33m\u001b[0m\u001b[1;33m\u001b[0m\u001b[0m\n\u001b[0m\u001b[0;32m    479\u001b[0m \u001b[1;33m\u001b[0m\u001b[0m\n\u001b[0;32m    480\u001b[0m         \u001b[0my\u001b[0m \u001b[1;33m=\u001b[0m \u001b[0mnp\u001b[0m\u001b[1;33m.\u001b[0m\u001b[0mcopy\u001b[0m\u001b[1;33m(\u001b[0m\u001b[0my\u001b[0m\u001b[1;33m)\u001b[0m\u001b[1;33m\u001b[0m\u001b[1;33m\u001b[0m\u001b[0m\n",
            "\u001b[1;32mE:\\Anaconda3\\lib\\site-packages\\sklearn\\utils\\multiclass.py\u001b[0m in \u001b[0;36mcheck_classification_targets\u001b[1;34m(y)\u001b[0m\n\u001b[0;32m    167\u001b[0m     if y_type not in ['binary', 'multiclass', 'multiclass-multioutput',\n\u001b[0;32m    168\u001b[0m                       'multilabel-indicator', 'multilabel-sequences']:\n\u001b[1;32m--> 169\u001b[1;33m         \u001b[1;32mraise\u001b[0m \u001b[0mValueError\u001b[0m\u001b[1;33m(\u001b[0m\u001b[1;34m\"Unknown label type: %r\"\u001b[0m \u001b[1;33m%\u001b[0m \u001b[0my_type\u001b[0m\u001b[1;33m)\u001b[0m\u001b[1;33m\u001b[0m\u001b[1;33m\u001b[0m\u001b[0m\n\u001b[0m\u001b[0;32m    170\u001b[0m \u001b[1;33m\u001b[0m\u001b[0m\n\u001b[0;32m    171\u001b[0m \u001b[1;33m\u001b[0m\u001b[0m\n",
            "\u001b[1;31mValueError\u001b[0m: Unknown label type: 'continuous'"
          ]
        }
      ]
    },
    {
      "cell_type": "code",
      "metadata": {
        "id": "auCFiC2UT3Of",
        "colab_type": "code",
        "colab": {}
      },
      "source": [
        "#Finding most important features\n",
        "%matplotlib inline\n",
        "import matplotlib.pyplot as plt\n",
        "encoder = pipeline.named_steps['ordinalencoder']\n",
        "encoded = encoder.transform(X_train)\n",
        "\n",
        "# Get feature importances\n",
        "rf = pipeline.named_steps['randomforestclassifier']\n",
        "importances = pd.Series(rf.feature_importances_, encoded.columns)\n",
        "\n",
        "# Plot top n feature importances\n",
        "n = 20\n",
        "plt.figure(figsize=(10,n/2))\n",
        "plt.title(f'Top {n} features')\n",
        "importances.sort_values()[-n:].plot.barh();"
      ],
      "execution_count": 0,
      "outputs": []
    }
  ]
}