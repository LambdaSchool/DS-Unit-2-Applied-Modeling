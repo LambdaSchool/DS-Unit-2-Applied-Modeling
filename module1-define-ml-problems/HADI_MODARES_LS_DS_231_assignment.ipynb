{
  "nbformat": 4,
  "nbformat_minor": 0,
  "metadata": {
    "kernelspec": {
      "display_name": "Python 3",
      "language": "python",
      "name": "python3"
    },
    "language_info": {
      "codemirror_mode": {
        "name": "ipython",
        "version": 3
      },
      "file_extension": ".py",
      "mimetype": "text/x-python",
      "name": "python",
      "nbconvert_exporter": "python",
      "pygments_lexer": "ipython3",
      "version": "3.6.9"
    },
    "colab": {
      "name": "HADI_MODARES_LS_DS_231_assignment.ipynb",
      "provenance": [],
      "include_colab_link": true
    }
  },
  "cells": [
    {
      "cell_type": "markdown",
      "metadata": {
        "id": "view-in-github",
        "colab_type": "text"
      },
      "source": [
        "<a href=\"https://colab.research.google.com/github/hadi-M/DS-Unit-2-Applied-Modeling/blob/master/module1-define-ml-problems/HADI_MODARES_LS_DS_231_assignment.ipynb\" target=\"_parent\"><img src=\"https://colab.research.google.com/assets/colab-badge.svg\" alt=\"Open In Colab\"/></a>"
      ]
    },
    {
      "cell_type": "code",
      "metadata": {
        "id": "FQ0Ico93M9MR",
        "colab_type": "code",
        "colab": {}
      },
      "source": [
        "import requests\n",
        "from zipfile import ZipFile\n",
        "import os"
      ],
      "execution_count": 0,
      "outputs": []
    },
    {
      "cell_type": "code",
      "metadata": {
        "id": "_6tV7CggM9MX",
        "colab_type": "code",
        "colab": {}
      },
      "source": [
        "url = \"https://www.transtats.bts.gov/DownLoad_Table.asp\"\n",
        "\n",
        "params = {\n",
        "    \"Table_ID\": 258,\n",
        "    \"Has_Group\": 3,\n",
        "    \"Is_Zipped\": 0\n",
        "}\n",
        "\n",
        "\n"
      ],
      "execution_count": 0,
      "outputs": []
    },
    {
      "cell_type": "code",
      "metadata": {
        "id": "e1XQSfzrM9Mb",
        "colab_type": "code",
        "colab": {}
      },
      "source": [
        "year=2016\n",
        "\n",
        "data = {\n",
        "    \"UserTableName\": \"T_100_Domestic_Market__U.S._Carriers\",\n",
        "    \"RawDataTable\": \"T_T100D_MARKET_US_CARRIER_ONLY\",\n",
        "    \"sqlstr\": \"SELECT PASSENGERS,FREIGHT,MAIL,DISTANCE,UNIQUE_CARRIER,AIRLINE_ID,UNIQUE_CARRIER_NAME,UNIQUE_CARRIER_ENTITY,REGION,CARRIER,CARRIER_NAME,CARRIER_GROUP,CARRIER_GROUP_NEW,ORIGIN_AIRPORT_ID,ORIGIN_AIRPORT_SEQ_ID,ORIGIN_CITY_MARKET_ID,ORIGIN,ORIGIN_CITY_NAME,ORIGIN_STATE_ABR,ORIGIN_STATE_FIPS,ORIGIN_STATE_NM,ORIGIN_WAC,DEST_AIRPORT_ID,DEST_AIRPORT_SEQ_ID,DEST_CITY_MARKET_ID,DEST,DEST_CITY_NAME,DEST_STATE_ABR,DEST_STATE_FIPS,DEST_STATE_NM,DEST_WAC,YEAR,QUARTER,MONTH,DISTANCE_GROUP,CLASS FROM  T_T100D_MARKET_US_CARRIER_ONLY WHERE YEAR={}\".format(year),\n",
        "    \"varlist\": \"PASSENGERS,FREIGHT,MAIL,DISTANCE,UNIQUE_CARRIER,AIRLINE_ID,UNIQUE_CARRIER_NAME,UNIQUE_CARRIER_ENTITY,REGION,CARRIER,CARRIER_NAME,CARRIER_GROUP,CARRIER_GROUP_NEW,ORIGIN_AIRPORT_ID,ORIGIN_AIRPORT_SEQ_ID,ORIGIN_CITY_MARKET_ID,ORIGIN,ORIGIN_CITY_NAME,ORIGIN_STATE_ABR,ORIGIN_STATE_FIPS,ORIGIN_STATE_NM,ORIGIN_WAC,DEST_AIRPORT_ID,DEST_AIRPORT_SEQ_ID,DEST_CITY_MARKET_ID,DEST,DEST_CITY_NAME,DEST_STATE_ABR,DEST_STATE_FIPS,DEST_STATE_NM,DEST_WAC,YEAR,QUARTER,MONTH,DISTANCE_GROUP,CLASS\",\n",
        "    \"filter1\": \"title=\",\n",
        "    \"filter2\": \"title=\",\n",
        "    \"timename\": \"Month\",\n",
        "    \"GEOGRAPHY\": \"All\",\n",
        "    \"XYEAR\": \"{}\".format(year),\n",
        "    \"FREQUENCY\": \"All\",\n",
        "    \"AllVars\": \"All\",\n",
        "    \"VarName\": \"PASSENGERS\",\n",
        "    \"VarDesc\": \"Passengers\",\n",
        "    \"VarType\": \"Num\",\n",
        "    \"VarName\": \"FREIGHT\",\n",
        "    \"VarDesc\": \"Freight\",\n",
        "    \"VarType\": \"Num\",\n",
        "    \"VarName\": \"MAIL\",\n",
        "    \"VarDesc\": \"Mail\",\n",
        "    \"VarType\": \"Num\",\n",
        "    \"VarName\": \"DISTANCE\",\n",
        "    \"VarDesc\": \"Distance\",\n",
        "    \"VarType\": \"Num\",\n",
        "    \"VarName\": \"UNIQUE_CARRIER\",\n",
        "    \"VarDesc\": \"UniqueCarrier\",\n",
        "    \"VarType\": \"Char\",\n",
        "    \"VarName\": \"AIRLINE_ID\",\n",
        "    \"VarDesc\": \"AirlineID\",\n",
        "    \"VarType\": \"Num\",\n",
        "    \"VarName\": \"UNIQUE_CARRIER_NAME\",\n",
        "    \"VarDesc\": \"UniqueCarrierName\",\n",
        "    \"VarType\": \"Char\",\n",
        "    \"VarName\": \"UNIQUE_CARRIER_ENTITY\",\n",
        "    \"VarDesc\": \"UniqCarrierEntity\",\n",
        "    \"VarType\": \"Char\",\n",
        "    \"VarName\": \"REGION\",\n",
        "    \"VarDesc\": \"CarrierRegion\",\n",
        "    \"VarType\": \"Char\",\n",
        "    \"VarName\": \"CARRIER\",\n",
        "    \"VarDesc\": \"Carrier\",\n",
        "    \"VarType\": \"Char\",\n",
        "    \"VarName\": \"CARRIER_NAME\",\n",
        "    \"VarDesc\": \"CarrierName\",\n",
        "    \"VarType\": \"Char\",\n",
        "    \"VarName\": \"CARRIER_GROUP\",\n",
        "    \"VarDesc\": \"CarrierGroup\",\n",
        "    \"VarType\": \"Num\",\n",
        "    \"VarName\": \"CARRIER_GROUP_NEW\",\n",
        "    \"VarDesc\": \"CarrierGroupNew\",\n",
        "    \"VarType\": \"Num\",\n",
        "    \"VarName\": \"ORIGIN_AIRPORT_ID\",\n",
        "    \"VarDesc\": \"OriginAirportID\",\n",
        "    \"VarType\": \"Num\",\n",
        "    \"VarName\": \"ORIGIN_AIRPORT_SEQ_ID\",\n",
        "    \"VarDesc\": \"OriginAirportSeqID\",\n",
        "    \"VarType\": \"Num\",\n",
        "    \"VarName\": \"ORIGIN_CITY_MARKET_ID\",\n",
        "    \"VarDesc\": \"OriginCityMarketID\",\n",
        "    \"VarType\": \"Num\",\n",
        "    \"VarName\": \"ORIGIN\",\n",
        "    \"VarDesc\": \"Origin\",\n",
        "    \"VarType\": \"Char\",\n",
        "    \"VarName\": \"ORIGIN_CITY_NAME\",\n",
        "    \"VarDesc\": \"OriginCityName\",\n",
        "    \"VarType\": \"Char\",\n",
        "    \"VarName\": \"ORIGIN_STATE_ABR\",\n",
        "    \"VarDesc\": \"OriginState\",\n",
        "    \"VarType\": \"Char\",\n",
        "    \"VarName\": \"ORIGIN_STATE_FIPS\",\n",
        "    \"VarDesc\": \"OriginStateFips\",\n",
        "    \"VarType\": \"Char\",\n",
        "    \"VarName\": \"ORIGIN_STATE_NM\",\n",
        "    \"VarDesc\": \"OriginStateName\",\n",
        "    \"VarType\": \"Char\",\n",
        "    \"VarName\": \"ORIGIN_WAC\",\n",
        "    \"VarDesc\": \"OriginWac\",\n",
        "    \"VarType\": \"Num\",\n",
        "    \"VarName\": \"DEST_AIRPORT_ID\",\n",
        "    \"VarDesc\": \"DestAirportID\",\n",
        "    \"VarType\": \"Num\",\n",
        "    \"VarName\": \"DEST_AIRPORT_SEQ_ID\",\n",
        "    \"VarDesc\": \"DestAirportSeqID\",\n",
        "    \"VarType\": \"Num\",\n",
        "    \"VarName\": \"DEST_CITY_MARKET_ID\",\n",
        "    \"VarDesc\": \"DestCityMarketID\",\n",
        "    \"VarType\": \"Num\",\n",
        "    \"VarName\": \"DEST\",\n",
        "    \"VarDesc\": \"Dest\",\n",
        "    \"VarType\": \"Char\",\n",
        "    \"VarName\": \"DEST_CITY_NAME\",\n",
        "    \"VarDesc\": \"DestCityName\",\n",
        "    \"VarType\": \"Char\",\n",
        "    \"VarName\": \"DEST_STATE_ABR\",\n",
        "    \"VarDesc\": \"DestState\",\n",
        "    \"VarType\": \"Char\",\n",
        "    \"VarName\": \"DEST_STATE_FIPS\",\n",
        "    \"VarDesc\": \"DestStateFips\",\n",
        "    \"VarType\": \"Char\",\n",
        "    \"VarName\": \"DEST_STATE_NM\",\n",
        "    \"VarDesc\": \"DestStateName\",\n",
        "    \"VarType\": \"Char\",\n",
        "    \"VarName\": \"DEST_WAC\",\n",
        "    \"VarDesc\": \"DestWac\",\n",
        "    \"VarType\": \"Num\",\n",
        "    \"VarName\": \"YEAR\",\n",
        "    \"VarDesc\": \"Year\",\n",
        "    \"VarType\": \"Num\",\n",
        "    \"VarName\": \"QUARTER\",\n",
        "    \"VarDesc\": \"Quarter\",\n",
        "    \"VarType\": \"Num\",\n",
        "    \"VarName\": \"MONTH\",\n",
        "    \"VarDesc\": \"Month\",\n",
        "    \"VarType\": \"Num\",\n",
        "    \"VarName\": \"DISTANCE_GROUP\",\n",
        "    \"VarDesc\": \"DistanceGroup\",\n",
        "    \"VarType\": \"Num\",\n",
        "    \"VarName\": \"CLASS\",\n",
        "    \"VarDesc\": \"Class\",\n",
        "    \"VarType\": \"Char\"\n",
        "}"
      ],
      "execution_count": 0,
      "outputs": []
    },
    {
      "cell_type": "code",
      "metadata": {
        "id": "w9bEMGI0M9Me",
        "colab_type": "code",
        "colab": {}
      },
      "source": [
        "response = requests.post(url, params=params, json=data)"
      ],
      "execution_count": 0,
      "outputs": []
    },
    {
      "cell_type": "code",
      "metadata": {
        "id": "OTuG7Lv-M9Mi",
        "colab_type": "code",
        "colab": {},
        "outputId": "be837cc1-e4b6-4791-b76a-f9a657e1aa89"
      },
      "source": [
        "response.content"
      ],
      "execution_count": 0,
      "outputs": [
        {
          "output_type": "execute_result",
          "data": {
            "text/plain": [
              "b'\\r\\n<html>\\r\\n<head>\\r\\n\\t<script type=\"text/javascript\" src=\"js/dot_ostr_analytics.js\"></script>\\r\\n</head>\\r\\n<body>\\r\\n\\r\\nstart time ==> 11:28:27 AM<br>complete time==> 11:28:27 AM\\r\\n\\r\\n</body></html>'"
            ]
          },
          "metadata": {
            "tags": []
          },
          "execution_count": 35
        }
      ]
    },
    {
      "cell_type": "code",
      "metadata": {
        "id": "cK-9TsKbM9Mn",
        "colab_type": "code",
        "colab": {},
        "outputId": "31bdd0a4-5abb-4406-b06c-0d3db93aeb2d"
      },
      "source": [
        "response.headers"
      ],
      "execution_count": 0,
      "outputs": [
        {
          "output_type": "execute_result",
          "data": {
            "text/plain": [
              "{'Cache-Control': 'private', 'Content-Type': 'text/html', 'Server': 'Microsoft-IIS/8.5', 'Set-Cookie': 'ASPSESSIONIDSCDBCCBA=POHADHEDGKNKLLJPDLAOEOFM; path=/', 'X-Frame-Options': 'SAMEORIGIN', 'Date': 'Tue, 21 Apr 2020 15:28:27 GMT', 'Content-Length': '187', 'Strict-Transport-Security': 'max-age=31536000 ; includeSubDomains ; preload'}"
            ]
          },
          "metadata": {
            "tags": []
          },
          "execution_count": 37
        }
      ]
    },
    {
      "cell_type": "code",
      "metadata": {
        "id": "u1eDAN3FM9Mr",
        "colab_type": "code",
        "colab": {},
        "outputId": "4d9022cc-9a11-470f-e510-b8c7f75160f4"
      },
      "source": [
        "first_response_cookie = response.cookies\n",
        "first_response_cookie = list(first_response_cookie)[0]\n",
        "first_response_cookie"
      ],
      "execution_count": 0,
      "outputs": [
        {
          "output_type": "execute_result",
          "data": {
            "text/plain": [
              "Cookie(version=0, name='ASPSESSIONIDSCDBCCBA', value='POHADHEDGKNKLLJPDLAOEOFM', port=None, port_specified=False, domain='www.transtats.bts.gov', domain_specified=False, domain_initial_dot=False, path='/', path_specified=True, secure=False, expires=None, discard=True, comment=None, comment_url=None, rest={}, rfc2109=False)"
            ]
          },
          "metadata": {
            "tags": []
          },
          "execution_count": 47
        }
      ]
    },
    {
      "cell_type": "code",
      "metadata": {
        "id": "Zo3LYYjdM9Mv",
        "colab_type": "code",
        "colab": {}
      },
      "source": [
        "s = requests.session()\n",
        "# Note that domain keyword parameter is the only optional parameter here\n",
        "s.cookies.set_cookie(first_response_cookie)\n"
      ],
      "execution_count": 0,
      "outputs": []
    },
    {
      "cell_type": "code",
      "metadata": {
        "id": "bJWScjUQM9M0",
        "colab_type": "code",
        "colab": {}
      },
      "source": [
        "url = \"https://transtats.bts.gov/ftproot/TranStatsData/879947130_T_T100D_MARKET_US_CARRIER_ONLY.zip\"\n",
        "\n",
        "res = s.get(url)\n",
        "\n",
        "data_zip = res.content\n",
        "\n",
        "with open(\"./data{}.zip\".format(year), 'wb') as zip_file:\n",
        "    zip_file.write(data_zip)"
      ],
      "execution_count": 0,
      "outputs": []
    },
    {
      "cell_type": "code",
      "metadata": {
        "id": "HBrniRGUM9M3",
        "colab_type": "code",
        "colab": {},
        "outputId": "aa843470-85b5-4b62-b63c-ef4c9fd5834f"
      },
      "source": [
        "s.cookies"
      ],
      "execution_count": 0,
      "outputs": [
        {
          "output_type": "execute_result",
          "data": {
            "text/plain": [
              "<RequestsCookieJar[Cookie(version=0, name='ASPSESSIONIDSCDBCCBA', value='POHADHEDGKNKLLJPDLAOEOFM', port=None, port_specified=False, domain='www.transtats.bts.gov', domain_specified=False, domain_initial_dot=False, path='/', path_specified=True, secure=False, expires=None, discard=True, comment=None, comment_url=None, rest={}, rfc2109=False)]>"
            ]
          },
          "metadata": {
            "tags": []
          },
          "execution_count": 52
        }
      ]
    }
  ]
}